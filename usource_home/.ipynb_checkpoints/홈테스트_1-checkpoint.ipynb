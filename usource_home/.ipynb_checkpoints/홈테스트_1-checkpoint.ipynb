{
 "cells": [
  {
   "cell_type": "markdown",
   "id": "10d4b907",
   "metadata": {},
   "source": [
    "# 1.테스트"
   ]
  },
  {
   "cell_type": "code",
   "execution_count": 1,
   "id": "6705cda4",
   "metadata": {},
   "outputs": [
    {
     "data": {
      "text/html": [
       "\n",
       "<style>\n",
       "div.container{width:86% !important;}\n",
       "div.cell.code_cell.rendered{width:100%;}\n",
       "div.CodeMirror {font-family:Consolas; font-size:15pt;}\n",
       "div.output {font-size:15pt; font-weight:bold;}\n",
       "div.input {font-family:Consolas; font-size:15pt;}\n",
       "div.prompt {min-width:70px;}\n",
       "div#toc-wrapper{padding-top:120px;}\n",
       "div.text_cell_render ul li{font-size:12pt;padding:5px;}\n",
       "table.dataframe{font-size:15px;}\n",
       "</style>\n"
      ],
      "text/plain": [
       "<IPython.core.display.HTML object>"
      ]
     },
     "metadata": {},
     "output_type": "display_data"
    }
   ],
   "source": [
    "from IPython.display import display, HTML\n",
    "display(HTML(\"\"\"\n",
    "<style>\n",
    "div.container{width:86% !important;}\n",
    "div.cell.code_cell.rendered{width:100%;}\n",
    "div.CodeMirror {font-family:Consolas; font-size:15pt;}\n",
    "div.output {font-size:15pt; font-weight:bold;}\n",
    "div.input {font-family:Consolas; font-size:15pt;}\n",
    "div.prompt {min-width:70px;}\n",
    "div#toc-wrapper{padding-top:120px;}\n",
    "div.text_cell_render ul li{font-size:12pt;padding:5px;}\n",
    "table.dataframe{font-size:15px;}\n",
    "</style>\n",
    "\"\"\"))"
   ]
  },
  {
   "cell_type": "code",
   "execution_count": 2,
   "id": "a345c67f",
   "metadata": {
    "collapsed": true
   },
   "outputs": [
    {
     "name": "stdout",
     "output_type": "stream",
     "text": [
      "\n",
      "Welcome to Python 3.10's help utility!\n",
      "\n",
      "If this is your first time using Python, you should definitely check out\n",
      "the tutorial on the internet at https://docs.python.org/3.10/tutorial/.\n",
      "\n",
      "Enter the name of any module, keyword, or topic to get help on writing\n",
      "Python programs and using Python modules.  To quit this help utility and\n",
      "return to the interpreter, just type \"quit\".\n",
      "\n",
      "To get a list of available modules, keywords, symbols, or topics, type\n",
      "\"modules\", \"keywords\", \"symbols\", or \"topics\".  Each module also comes\n",
      "with a one-line summary of what it does; to list the modules whose name\n",
      "or summary contain a given string such as \"spam\", type \"modules spam\".\n",
      "\n",
      "help> q\n",
      "\n",
      "You are now leaving help and returning to the Python interpreter.\n",
      "If you want to ask for help on a particular object directly from the\n",
      "interpreter, you can type \"help(object)\".  Executing \"help('string')\"\n",
      "has the same effect as typing a particular string at the help> prompt.\n"
     ]
    }
   ],
   "source": [
    "help()"
   ]
  },
  {
   "cell_type": "markdown",
   "id": "29547c5e",
   "metadata": {},
   "source": [
    "# 2.test"
   ]
  },
  {
   "cell_type": "markdown",
   "id": "70a6803f",
   "metadata": {},
   "source": [
    "## 2-1. test"
   ]
  },
  {
   "cell_type": "code",
   "execution_count": 5,
   "id": "3ae8577b",
   "metadata": {},
   "outputs": [
    {
     "name": "stdout",
     "output_type": "stream",
     "text": [
      "첫번째 숫자는?1\n"
     ]
    }
   ],
   "source": [
    "first = input('첫번째 숫자는?')"
   ]
  },
  {
   "cell_type": "code",
   "execution_count": 6,
   "id": "89c7115d",
   "metadata": {},
   "outputs": [
    {
     "name": "stdout",
     "output_type": "stream",
     "text": [
      "두번째 숫자는?2\n"
     ]
    }
   ],
   "source": [
    "second = input('두번째 숫자는?')"
   ]
  },
  {
   "cell_type": "code",
   "execution_count": 7,
   "id": "2981c297",
   "metadata": {},
   "outputs": [
    {
     "name": "stdout",
     "output_type": "stream",
     "text": [
      "합 =  3\n"
     ]
    }
   ],
   "source": [
    "sum = int(first)+int(second)\n",
    "print('합 = ',sum)"
   ]
  },
  {
   "cell_type": "code",
   "execution_count": 8,
   "id": "96166d75",
   "metadata": {},
   "outputs": [
    {
     "name": "stdout",
     "output_type": "stream",
     "text": [
      "취합 = 12\n"
     ]
    }
   ],
   "source": [
    "sum = str(first)+str(second)\n",
    "print('취합 =', sum)"
   ]
  },
  {
   "cell_type": "code",
   "execution_count": 15,
   "id": "76dcc09c",
   "metadata": {},
   "outputs": [
    {
     "name": "stdout",
     "output_type": "stream",
     "text": [
      "합=12\n",
      "합~~12\n",
      "합~~~~~!!!12\n"
     ]
    }
   ],
   "source": [
    "print('합',sum, sep='=', end='\\n')\n",
    "print('합',sum, sep='~~',end='\\n')\n",
    "print('합',sum, sep='~~~~~!!!')"
   ]
  },
  {
   "cell_type": "code",
   "execution_count": 10,
   "id": "dbf10338",
   "metadata": {},
   "outputs": [
    {
     "name": "stdout",
     "output_type": "stream",
     "text": [
      "1234567890\n"
     ]
    }
   ],
   "source": [
    "str_ = '1234567890'\n",
    "print(str_)\n"
   ]
  },
  {
   "cell_type": "code",
   "execution_count": 12,
   "id": "701908e2",
   "metadata": {},
   "outputs": [
    {
     "data": {
      "text/plain": [
       "'13579'"
      ]
     },
     "execution_count": 12,
     "metadata": {},
     "output_type": "execute_result"
    }
   ],
   "source": [
    "str_[0:10:2]"
   ]
  },
  {
   "cell_type": "code",
   "execution_count": 14,
   "id": "8123ce3f",
   "metadata": {
    "scrolled": true
   },
   "outputs": [
    {
     "name": "stdout",
     "output_type": "stream",
     "text": [
      "당신의 이름을 작성해주세요.성미\n",
      "당신의 나이를 작성해주세요.30\n",
      "aaa30aaa살의 @@@@@@@@@@@@@30님 반갑습니다.\n"
     ]
    }
   ],
   "source": [
    "name = input(\"당신의 이름을 작성해주세요.\")\n",
    "age = int(input(\"당신의 나이를 작성해주세요.\"))\n",
    "print(\"{0:a^8d}살의 {0:@>15}님 반갑습니다.\".format(age,name))"
   ]
  },
  {
   "cell_type": "code",
   "execution_count": 21,
   "id": "c9b1d48f",
   "metadata": {},
   "outputs": [
    {
     "name": "stdout",
     "output_type": "stream",
     "text": [
      "정수를 입력하세요.25\n",
      "입력하신25의 수는 5의 배수입니다.\n"
     ]
    }
   ],
   "source": [
    "# quiz 2. 정수를 입력받아 5의 배수인지 여부를 출력\n",
    "\n",
    "num = int(input(\"정수를 입력하세요.\"))\n",
    "result = num%5\n",
    "if result ==0 :\n",
    "    temp = \"5의 배수\"\n",
    "else :\n",
    "    temp = \"5의 배수 아님\"\n",
    "print(f'입력하신{num}의 수는 {temp}입니다.')"
   ]
  },
  {
   "cell_type": "code",
   "execution_count": 24,
   "id": "73763cf4",
   "metadata": {},
   "outputs": [
    {
     "name": "stdout",
     "output_type": "stream",
     "text": [
      "국어 점수를 입력하세요.91\n",
      "영어 점수를 입력하세요.95\n",
      "수학 점수를 입력하세요.84\n"
     ]
    }
   ],
   "source": [
    "# quiz 3. 국, 영, 수 점수를 입력받아 다음셀에서 다음과 같이 출력하도록 구현하시오\n",
    "\n",
    "kor = int(input(\"국어 점수를 입력하세요.\"))\n",
    "eng = int(input(\"영어 점수를 입력하세요.\"))\n",
    "mat = int(input(\"수학 점수를 입력하세요.\"))\n",
    "sum = kor + eng + mat\n",
    "avg = sum/3"
   ]
  },
  {
   "cell_type": "code",
   "execution_count": 30,
   "id": "3fff50ae",
   "metadata": {},
   "outputs": [
    {
     "name": "stdout",
     "output_type": "stream",
     "text": [
      "국어: 91\t영어: 95\t수학: 84\n",
      "총점 :270\t평균:90.0\n"
     ]
    }
   ],
   "source": [
    "print ('국어:{:3d}\\t영어:{:3d}\\t수학:{:3d}'.format(kor,eng,mat))\n",
    "print ('총점 :{:3d}\\t평균:{:2.1f}'.format(sum,avg))"
   ]
  },
  {
   "cell_type": "code",
   "execution_count": 35,
   "id": "2e25b02d",
   "metadata": {},
   "outputs": [
    {
     "name": "stdout",
     "output_type": "stream",
     "text": [
      "1. 글자수 : 39\n",
      "2. 대문자로 변경 : PYTHON IS EASY, PYTHON IS SMART, PYTHON\n",
      "3. 소문자로 변경 : python is easy, python is smart, python\n",
      "4. 각 어절별 첫 글자만 대문자 : Python Is Easy, Python Is Smart, Python\n",
      "5. 첫문자만 대문자 :  Python is easy, python is smart, python\n",
      "6. python이 몇번 나오는지 : 3\n",
      "7. PYTHON이 몇번 나오는지 : 3\n",
      "8. python이 몇번 나오는지 : 3\n",
      "9. python이 나오는 첫 index 위치 : 0\n",
      "10. pyton이 나오는 마지막 index 위치 : 33\n",
      "11. java가 나오는 마지막 index 위치 : -1\n",
      "12. python으로 시작하는지 여부 : True\n",
      "13. python으로 끝나는지 여부 : False\n"
     ]
    }
   ],
   "source": [
    "temp = 'python is easy, pYtHon is smart, python'\n",
    "print('1. 글자수 :',len(temp))\n",
    "print('2. 대문자로 변경 :',temp.upper())\n",
    "print('3. 소문자로 변경 :',temp.lower())\n",
    "print('4. 각 어절별 첫 글자만 대문자 :', temp.title())\n",
    "print('5. 첫문자만 대문자 : ', temp.capitalize())\n",
    "print('6. python이 몇번 나오는지 :',temp.lower().count('python'))\n",
    "print('7. PYTHON이 몇번 나오는지 :', temp.upper().count('PYTHON'))\n",
    "print('8. python이 몇번 나오는지 :',temp.title().count('Python'))\n",
    "print('9. python이 나오는 첫 index 위치 :',temp.find('python'))\n",
    "print('10. pyton이 나오는 마지막 index 위치 :',temp.lower().rfind('python'))\n",
    "print('11. java가 나오는 마지막 index 위치 :', temp.rfind('java'))\n",
    "print('12. python으로 시작하는지 여부 :', temp.startswith('python'))\n",
    "print('13. python으로 끝나는지 여부 :', temp.endswith('Python'))\n"
   ]
  },
  {
   "cell_type": "code",
   "execution_count": 48,
   "id": "f1726cd5",
   "metadata": {},
   "outputs": [
    {
     "name": "stdout",
     "output_type": "stream",
     "text": [
      "1. 좌우공백제거 :[Python is easy]\n",
      "2. 좌측공백제거 :[Python is easy             ]\n",
      "3. 우측공백제거 :[          Python is easy]\n",
      "4. 숫자문자열인지 : False\n",
      "5. 소문자문자열인지 : False\n",
      "6. 대문자문자열인지 : False\n",
      "7.,제거 : 1000000\n",
      "8. ,제거 : 1000\n"
     ]
    }
   ],
   "source": [
    "temp = '          Python is easy             '\n",
    "notdisit = '1,000,000'\n",
    "num_str = '1000'\n",
    "print('1. 좌우공백제거 :[{}]'.format(temp.strip()))\n",
    "print('2. 좌측공백제거 :[{}]'.format(temp.lstrip()))\n",
    "print('3. 우측공백제거 :[{}]'.format(temp.rstrip()))\n",
    "print('4. 숫자문자열인지 :', notdisit.isdigit())\n",
    "print('5. 소문자문자열인지 :', temp.islower())\n",
    "print('6. 대문자문자열인지 :', temp.isupper())\n",
    "print('7.,제거 :', notdisit.replace(',',''))\n",
    "print('8. ,제거 :', num_str.replace(',',''))"
   ]
  },
  {
   "cell_type": "code",
   "execution_count": 49,
   "id": "fb6e547b",
   "metadata": {},
   "outputs": [
    {
     "name": "stdout",
     "output_type": "stream",
     "text": [
      "space 단위로 temp 분리 : ['홍길동', '유길동', '신길동', '강길동', '임길동']\n"
     ]
    }
   ],
   "source": [
    "temp = \"홍길동 유길동 신길동 강길동 임길동\"\n",
    "print('space 단위로 temp 분리 :', temp.split())"
   ]
  },
  {
   "cell_type": "code",
   "execution_count": 53,
   "id": "825c775d",
   "metadata": {},
   "outputs": [
    {
     "name": "stdout",
     "output_type": "stream",
     "text": [
      "-단위로 data를 분리 (결과: list)\n",
      "['2025', '04', '10']\n",
      "년 : 2025\n",
      "월 : 04\n",
      "일 : 10\n"
     ]
    }
   ],
   "source": [
    "data = '2025-04-10'\n",
    "print('-단위로 data를 분리 (결과: list)')\n",
    "data_list = data.split('-')\n",
    "print(data_list)\n",
    "print('년 :', data_list[0])\n",
    "print('월 :',data_list[1])\n",
    "print('일 :',data_list[2])"
   ]
  },
  {
   "cell_type": "code",
   "execution_count": 56,
   "id": "e993e484",
   "metadata": {},
   "outputs": [
    {
     "name": "stdout",
     "output_type": "stream",
     "text": [
      "원 데이터 : python - HTML/CSS - JavaScript - DBMS\n",
      "분리된 데이터 : ['python ', ' HTML/CSS ', ' JavaScript ', ' DBMS']\n",
      "join된 데이터 python / HTML/CSS / JavaScript / DBMS\n"
     ]
    }
   ],
   "source": [
    "# '-'을 '/'로 바꾸기\n",
    "temp = 'python - HTML/CSS - JavaScript - DBMS'\n",
    "print('원 데이터 :', temp)\n",
    "splited_temp = temp.split('-')\n",
    "print('분리된 데이터 :',splited_temp)\n",
    "joined_temp = '/'.join(splited_temp)\n",
    "print('join된 데이터', joined_temp)"
   ]
  },
  {
   "cell_type": "code",
   "execution_count": null,
   "id": "85020cae",
   "metadata": {},
   "outputs": [],
   "source": []
  }
 ],
 "metadata": {
  "kernelspec": {
   "display_name": "Python 3 (ipykernel)",
   "language": "python",
   "name": "python3"
  },
  "language_info": {
   "codemirror_mode": {
    "name": "ipython",
    "version": 3
   },
   "file_extension": ".py",
   "mimetype": "text/x-python",
   "name": "python",
   "nbconvert_exporter": "python",
   "pygments_lexer": "ipython3",
   "version": "3.10.9"
  },
  "toc": {
   "base_numbering": 1,
   "nav_menu": {},
   "number_sections": true,
   "sideBar": true,
   "skip_h1_title": false,
   "title_cell": "Table of Contents",
   "title_sidebar": "Contents",
   "toc_cell": false,
   "toc_position": {
    "height": "calc(100% - 180px)",
    "left": "10px",
    "top": "150px",
    "width": "165px"
   },
   "toc_section_display": true,
   "toc_window_display": false
  }
 },
 "nbformat": 4,
 "nbformat_minor": 5
}
