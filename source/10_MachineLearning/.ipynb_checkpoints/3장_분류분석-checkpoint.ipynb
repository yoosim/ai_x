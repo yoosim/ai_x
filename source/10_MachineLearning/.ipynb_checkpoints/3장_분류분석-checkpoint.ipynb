{
 "cells": [
  {
   "cell_type": "code",
   "execution_count": 17,
   "id": "0617b2d4",
   "metadata": {},
   "outputs": [
    {
     "data": {
      "text/html": [
       "\n",
       "<style>\n",
       "div.container{width:100% !important;}\n",
       "div.cell.code_cell.rendered{width:100%;}\n",
       "div.input_prompt{padding:0px;}\n",
       "div.CodeMirror {font-family:Consolas; font-size:22pt;}\n",
       "div.text_cell_render.rendered_html{font-size:18pt;}\n",
       "div.text_cell_render.rendered_html{font-size:15pt;}\n",
       "div.output {font-size:18pt; font-weight:bold;}\n",
       "div.input {font-family:Consolas; font-size:18pt;}\n",
       "div.prompt {min-width:70px;}\n",
       "div#toc-wrapper{padding-top:120px;}\n",
       "div.text_cell_render ul li{font-size:18pt;padding:5px;}\n",
       "table.dataframe{font-size:18px;}\n",
       "</style>\n"
      ],
      "text/plain": [
       "<IPython.core.display.HTML object>"
      ]
     },
     "metadata": {},
     "output_type": "display_data"
    }
   ],
   "source": [
    "from IPython.display import display, HTML\n",
    "display(HTML(\"\"\"\n",
    "<style>\n",
    "div.container{width:100% !important;}\n",
    "div.cell.code_cell.rendered{width:100%;}\n",
    "div.input_prompt{padding:0px;}\n",
    "div.CodeMirror {font-family:Consolas; font-size:22pt;}\n",
    "div.text_cell_render.rendered_html{font-size:18pt;}\n",
    "div.text_cell_render.rendered_html{font-size:15pt;}\n",
    "div.output {font-size:18pt; font-weight:bold;}\n",
    "div.input {font-family:Consolas; font-size:18pt;}\n",
    "div.prompt {min-width:70px;}\n",
    "div#toc-wrapper{padding-top:120px;}\n",
    "div.text_cell_render ul li{font-size:18pt;padding:5px;}\n",
    "table.dataframe{font-size:18px;}\n",
    "</style>\n",
    "\"\"\"))"
   ]
  },
  {
   "cell_type": "markdown",
   "id": "16cc630a",
   "metadata": {},
   "source": [
    "<font size=\"5\" color=\"red\"><b>ch3. 분류분석</b></font>\n",
    "# 1절. 분류분석 개요\n",
    "## 1-1 분류분석이란?\n",
    "- 타겟변수가 categorical인 분석 \n",
    "    * ex. 고객등급예측, 휴먼고객예측, 상품구매예측, 보험사기자예측\n",
    "    * 수업ex. mnist 숫자데이터분류 예측, iris분류예측, 와인등급예측, 질병예측\n",
    "- sklearning 패키지 : 예제데이터셋, 전처리, 머신러닝 모형 등의 제공\n",
    "\n",
    "## 1-2 샘플용 데이터 셋 접근\n",
    "### load 계열(패키지 내에 데이터 있음)\n",
    "    - load_iris(), load_boston(), load_diabetes()....\n",
    "### fetch 계열(패키지 내에 데이터가 없고 인터넷 연결시 다운)\n",
    "    - fetch_openml(),fetch_rov1(로이터뉴스 말뭉치)\n",
    "### make 계열(가상의 데이터 생성)\n",
    "    - make_classification() : 분류분석용 데이터 생성\n",
    "    - make_regression() : 회귀분석용 데이터 생성\n",
    "    - make_blobs() : 군집분석용 데이터 생성(타겟변수x)"
   ]
  },
  {
   "cell_type": "code",
   "execution_count": 2,
   "id": "e34b79ee",
   "metadata": {},
   "outputs": [
    {
     "data": {
      "text/plain": [
       "((60000, 28, 28), (60000,), (10000, 28, 28), (10000,))"
      ]
     },
     "execution_count": 2,
     "metadata": {},
     "output_type": "execute_result"
    }
   ],
   "source": [
    "from tensorflow.keras.datasets import mnist\n",
    "import matplotlib.pyplot as plt\n",
    "# mnist load\n",
    "(X_train, y_train),(X_test,y_test) = mnist.load_data()\n",
    "X_train.shape, y_train.shape, X_test.shape, y_test.shape"
   ]
  },
  {
   "cell_type": "code",
   "execution_count": 4,
   "id": "5bc47a7c",
   "metadata": {},
   "outputs": [
    {
     "data": {
      "image/png": "[encoded data removed]",
      "text/plain": [
       "<Figure size 200x200 with 1 Axes>"
      ]
     },
     "metadata": {},
     "output_type": "display_data"
    }
   ],
   "source": [
    "# 첫번째 이미지 출력\n",
    "plt.figure(figsize=(2,2))\n",
    "plt.imshow(X_train[50000], cmap='gray')\n",
    "plt.title('label : {}'.format(y_train[50000]))\n",
    "plt.show()"
   ]
  },
  {
   "cell_type": "code",
   "execution_count": 8,
   "id": "b88affee",
   "metadata": {},
   "outputs": [
    {
     "data": {
      "text/plain": [
       "((70000, 784), (70000,))"
      ]
     },
     "execution_count": 8,
     "metadata": {},
     "output_type": "execute_result"
    }
   ],
   "source": [
    "# fetch 계열(패키지 내에 데이터가 없고, 인터넷 연결시 다운)\n",
    "from sklearn.datasets import fetch_openml\n",
    "# mnist fetch\n",
    "mnist = fetch_openml(name=\"mnist_784\", version=1, as_frame=False, parser='auto')\n",
    "X,y = mnist.data, mnist.target.astype('int')\n",
    "X.shape,y.shape"
   ]
  },
  {
   "cell_type": "code",
   "execution_count": 10,
   "id": "f68abf53",
   "metadata": {},
   "outputs": [
    {
     "data": {
      "image/png": "[encoded data removed]",
      "text/plain": [
       "<Figure size 200x200 with 1 Axes>"
      ]
     },
     "metadata": {},
     "output_type": "display_data"
    }
   ],
   "source": [
    "# 첫번째 이미지 출력\n",
    "X = X.reshape(-1,28,28)\n",
    "plt.figure(figsize=(2,2))\n",
    "plt.imshow(X[0], cmap='gray')\n",
    "plt.title('label : {}'.format(y[0]))\n",
    "plt.show()"
   ]
  },
  {
   "cell_type": "markdown",
   "id": "f671807c",
   "metadata": {},
   "source": [
    "# 2절. 분류분석의 종류\n",
    "- predict() \n",
    "\n",
    "## 2-1 확률적 모형\n",
    "    - 주어진 데이터에 각 클래스가 정답일 확률을 계산하는 모형\n",
    "    - predict_proba() : 각 분류 클래스별 확률을 알려줌(일부의 판별함수 모형에 있긴 함)\n",
    "    - predict_log_proba() : 확률의 로그값을 알려줌\n",
    "### 1) 확률적 생성 모형 : 베이즈 정리 이용\n",
    "    - 각 클래스별 특징 데이터 확률분포 추정(베이즈 정리를 사용). 소량의 데이터로도 작동\n",
    "    - ex. QDA(Quadratic Discriminant Analysis), 나이브 베이지안(Naive Bayes)\n",
    "### 2) 확률적 판별 모형 : 조건부확률 이용\n",
    "    - 확률을 계산하는 함수 이용\n",
    "    - ex. 의사결정나무(DecisionTree), 로지스틱 회귀(LogisticRegression):0또는1 분류분석\n",
    "\n",
    "## 2-2 판별함수 모형 \n",
    "    - 주어진 데이터를 클래스에 따라 어떤 영역으로 나눠지는 경계면을 찾은 후, 이 경계면으로부터 어느 위치에 있는지를 계산하는 판별함수를 이용\n",
    "    - decision_function()\n",
    "    - ex. 퍼셉트론(Perceptron), 서포트 벡터 머신(SupportVectorMachine), 신경망(NeuralNetwork)\n",
    "    \n",
    "=> RandomForest, LGBM, XGBoost, CatBoost 등의 앙상블 모형이 더 많이 쓰임"
   ]
  },
  {
   "cell_type": "markdown",
   "id": "ab08efc5",
   "metadata": {},
   "source": [
    "# 3절. 분류 모형1. 확률적 생성 모형\n",
    "- 베이즈 정리를 사용하여 확률분포 계산\n",
    "\n",
    "## 3-1 QDA(Quadratic Discriminant Analysis)\n",
    "- X가 연속형(실수)이면서 정규분포라고 가정함"
   ]
  },
  {
   "cell_type": "code",
   "execution_count": 13,
   "id": "c9d88391",
   "metadata": {},
   "outputs": [
    {
     "data": {
      "text/plain": [
       "((100, 2), (100,))"
      ]
     },
     "execution_count": 13,
     "metadata": {},
     "output_type": "execute_result"
    }
   ],
   "source": [
    "# 샘플 데이터 \n",
    "from sklearn.datasets import make_classification\n",
    "X,y = make_classification(n_features=2,    # 독립변수 갯수\n",
    "                          n_informative=2, # 타겟변수에 영향을 주는 독립변수 갯수\n",
    "                          n_redundant=0,   # 타겟변수에 영향을 안 주는 독립변수 갯수\n",
    "                          n_clusters_per_class=1, # 클래스 내의 서브그릅 수 \n",
    "                          n_classes=2,     # 타겟변수 class 수\n",
    "                          n_samples= 100,   # 데이터 갯수(행수)\n",
    "                          random_state=9    # seed 값 \n",
    "                          )\n",
    "X.shape, y.shape"
   ]
  },
  {
   "cell_type": "code",
   "execution_count": 15,
   "id": "2aeac06f",
   "metadata": {},
   "outputs": [
    {
     "data": {
      "text/plain": [
       "array([0, 1])"
      ]
     },
     "execution_count": 15,
     "metadata": {},
     "output_type": "execute_result"
    }
   ],
   "source": [
    "import numpy as np \n",
    "np.unique(y)"
   ]
  },
  {
   "cell_type": "code",
   "execution_count": 16,
   "id": "61656116",
   "metadata": {},
   "outputs": [
    {
     "data": {
      "text/plain": [
       "0.5"
      ]
     },
     "execution_count": 16,
     "metadata": {},
     "output_type": "execute_result"
    }
   ],
   "source": [
    "y.mean()"
   ]
  },
  {
   "cell_type": "code",
   "execution_count": 22,
   "id": "5fa4c802",
   "metadata": {},
   "outputs": [
    {
     "data": {
      "text/plain": [
       "(50, 2)"
      ]
     },
     "execution_count": 22,
     "metadata": {},
     "output_type": "execute_result"
    }
   ],
   "source": [
    "# y=1인 데이터\n",
    "X[y==1].shape"
   ]
  },
  {
   "cell_type": "code",
   "execution_count": 26,
   "id": "f6c0b009",
   "metadata": {},
   "outputs": [
    {
     "data": {
      "image/png": "[encoded data removed]",
      "text/plain": [
       "<Figure size 800x500 with 1 Axes>"
      ]
     },
     "metadata": {},
     "output_type": "display_data"
    }
   ],
   "source": [
    "import matplotlib.pyplot as plt\n",
    "plt.figure(figsize=(8,5))\n",
    "plt.scatter(X[y==0,0],X[y==0,1], c='k')\n",
    "plt.scatter(X[y==1,0],X[y==1,1], c='b')\n",
    "plt.show()"
   ]
  },
  {
   "cell_type": "code",
   "execution_count": 27,
   "id": "4cc99f7e",
   "metadata": {},
   "outputs": [],
   "source": [
    "# (0,0) 대칭구조 \n",
    "X[y==1] = -X[y==0]"
   ]
  },
  {
   "cell_type": "code",
   "execution_count": 28,
   "id": "8f2cf07c",
   "metadata": {},
   "outputs": [
    {
     "data": {
      "image/png": "[encoded data removed]",
      "text/plain": [
       "<Figure size 800x500 with 1 Axes>"
      ]
     },
     "metadata": {},
     "output_type": "display_data"
    }
   ],
   "source": [
    "plt.figure(figsize=(8,5))\n",
    "plt.scatter(X[y==0,0],X[y==0,1], c='k')\n",
    "plt.scatter(X[y==1,0],X[y==1,1], c='b')\n",
    "plt.show()"
   ]
  },
  {
   "cell_type": "code",
   "execution_count": 29,
   "id": "fb598fad",
   "metadata": {},
   "outputs": [
    {
     "data": {
      "text/html": [
       "<style>#sk-container-id-1 {color: black;background-color: white;}#sk-container-id-1 pre{padding: 0;}#sk-container-id-1 div.sk-toggleable {background-color: white;}#sk-container-id-1 label.sk-toggleable__label {cursor: pointer;display: block;width: 100%;margin-bottom: 0;padding: 0.3em;box-sizing: border-box;text-align: center;}#sk-container-id-1 label.sk-toggleable__label-arrow:before {content: \"▸\";float: left;margin-right: 0.25em;color: #696969;}#sk-container-id-1 label.sk-toggleable__label-arrow:hover:before {color: black;}#sk-container-id-1 div.sk-estimator:hover label.sk-toggleable__label-arrow:before {color: black;}#sk-container-id-1 div.sk-toggleable__content {max-height: 0;max-width: 0;overflow: hidden;text-align: left;background-color: #f0f8ff;}#sk-container-id-1 div.sk-toggleable__content pre {margin: 0.2em;color: black;border-radius: 0.25em;background-color: #f0f8ff;}#sk-container-id-1 input.sk-toggleable__control:checked~div.sk-toggleable__content {max-height: 200px;max-width: 100%;overflow: auto;}#sk-container-id-1 input.sk-toggleable__control:checked~label.sk-toggleable__label-arrow:before {content: \"▾\";}#sk-container-id-1 div.sk-estimator input.sk-toggleable__control:checked~label.sk-toggleable__label {background-color: #d4ebff;}#sk-container-id-1 div.sk-label input.sk-toggleable__control:checked~label.sk-toggleable__label {background-color: #d4ebff;}#sk-container-id-1 input.sk-hidden--visually {border: 0;clip: rect(1px 1px 1px 1px);clip: rect(1px, 1px, 1px, 1px);height: 1px;margin: -1px;overflow: hidden;padding: 0;position: absolute;width: 1px;}#sk-container-id-1 div.sk-estimator {font-family: monospace;background-color: #f0f8ff;border: 1px dotted black;border-radius: 0.25em;box-sizing: border-box;margin-bottom: 0.5em;}#sk-container-id-1 div.sk-estimator:hover {background-color: #d4ebff;}#sk-container-id-1 div.sk-parallel-item::after {content: \"\";width: 100%;border-bottom: 1px solid gray;flex-grow: 1;}#sk-container-id-1 div.sk-label:hover label.sk-toggleable__label {background-color: #d4ebff;}#sk-container-id-1 div.sk-serial::before {content: \"\";position: absolute;border-left: 1px solid gray;box-sizing: border-box;top: 0;bottom: 0;left: 50%;z-index: 0;}#sk-container-id-1 div.sk-serial {display: flex;flex-direction: column;align-items: center;background-color: white;padding-right: 0.2em;padding-left: 0.2em;position: relative;}#sk-container-id-1 div.sk-item {position: relative;z-index: 1;}#sk-container-id-1 div.sk-parallel {display: flex;align-items: stretch;justify-content: center;background-color: white;position: relative;}#sk-container-id-1 div.sk-item::before, #sk-container-id-1 div.sk-parallel-item::before {content: \"\";position: absolute;border-left: 1px solid gray;box-sizing: border-box;top: 0;bottom: 0;left: 50%;z-index: -1;}#sk-container-id-1 div.sk-parallel-item {display: flex;flex-direction: column;z-index: 1;position: relative;background-color: white;}#sk-container-id-1 div.sk-parallel-item:first-child::after {align-self: flex-end;width: 50%;}#sk-container-id-1 div.sk-parallel-item:last-child::after {align-self: flex-start;width: 50%;}#sk-container-id-1 div.sk-parallel-item:only-child::after {width: 0;}#sk-container-id-1 div.sk-dashed-wrapped {border: 1px dashed gray;margin: 0 0.4em 0.5em 0.4em;box-sizing: border-box;padding-bottom: 0.4em;background-color: white;}#sk-container-id-1 div.sk-label label {font-family: monospace;font-weight: bold;display: inline-block;line-height: 1.2em;}#sk-container-id-1 div.sk-label-container {text-align: center;}#sk-container-id-1 div.sk-container {/* jupyter's `normalize.less` sets `[hidden] { display: none; }` but bootstrap.min.css set `[hidden] { display: none !important; }` so we also need the `!important` here to be able to override the default hidden behavior on the sphinx rendered scikit-learn.org. See: https://github.com/scikit-learn/scikit-learn/issues/21755 */display: inline-block !important;position: relative;}#sk-container-id-1 div.sk-text-repr-fallback {display: none;}</style><div id=\"sk-container-id-1\" class=\"sk-top-container\"><div class=\"sk-text-repr-fallback\"><pre>QuadraticDiscriminantAnalysis()</pre><b>In a Jupyter environment, please rerun this cell to show the HTML representation or trust the notebook. <br />On GitHub, the HTML representation is unable to render, please try loading this page with nbviewer.org.</b></div><div class=\"sk-container\" hidden><div class=\"sk-item\"><div class=\"sk-estimator sk-toggleable\"><input class=\"sk-toggleable__control sk-hidden--visually\" id=\"sk-estimator-id-1\" type=\"checkbox\" checked><label for=\"sk-estimator-id-1\" class=\"sk-toggleable__label sk-toggleable__label-arrow\">QuadraticDiscriminantAnalysis</label><div class=\"sk-toggleable__content\"><pre>QuadraticDiscriminantAnalysis()</pre></div></div></div></div></div>"
      ],
      "text/plain": [
       "QuadraticDiscriminantAnalysis()"
      ]
     },
     "execution_count": 29,
     "metadata": {},
     "output_type": "execute_result"
    }
   ],
   "source": [
    "# QDA\n",
    "from sklearn.discriminant_analysis import QuadraticDiscriminantAnalysis\n",
    "model = QuadraticDiscriminantAnalysis()\n",
    "model.fit(X,y)"
   ]
  },
  {
   "cell_type": "code",
   "execution_count": 31,
   "id": "584f5dcc",
   "metadata": {},
   "outputs": [
    {
     "data": {
      "text/plain": [
       "1"
      ]
     },
     "execution_count": 31,
     "metadata": {},
     "output_type": "execute_result"
    }
   ],
   "source": [
    "x = [[5,5]] # 2차원 데이터 predict\n",
    "model.predict(x)[0]"
   ]
  },
  {
   "cell_type": "code",
   "execution_count": 36,
   "id": "ccfcb2f6",
   "metadata": {},
   "outputs": [
    {
     "name": "stdout",
     "output_type": "stream",
     "text": [
      "0으로 분류될 확률 : 8.842155358016458e-06\n",
      "1로 분류될 확률 : 0.9999911578446419\n"
     ]
    }
   ],
   "source": [
    "p = model.predict_proba(x)\n",
    "print('0으로 분류될 확률 :',p[0][0])\n",
    "print('1로 분류될 확률 :',p[0][1])"
   ]
  },
  {
   "cell_type": "code",
   "execution_count": 37,
   "id": "66ee610e",
   "metadata": {},
   "outputs": [
    {
     "data": {
      "text/plain": [
       "array([0, 1])"
      ]
     },
     "execution_count": 37,
     "metadata": {},
     "output_type": "execute_result"
    }
   ],
   "source": [
    "model.classes_ # 분류될 내용"
   ]
  },
  {
   "cell_type": "code",
   "execution_count": 42,
   "id": "bdb8049b",
   "metadata": {},
   "outputs": [
    {
     "data": {
      "text/html": [
       "<div>\n",
       "<style scoped>\n",
       "    .dataframe tbody tr th:only-of-type {\n",
       "        vertical-align: middle;\n",
       "    }\n",
       "\n",
       "    .dataframe tbody tr th {\n",
       "        vertical-align: top;\n",
       "    }\n",
       "\n",
       "    .dataframe thead th {\n",
       "        text-align: right;\n",
       "    }\n",
       "</style>\n",
       "<table border=\"1\" class=\"dataframe\">\n",
       "  <thead>\n",
       "    <tr style=\"text-align: right;\">\n",
       "      <th>col_0</th>\n",
       "      <th>0</th>\n",
       "      <th>1</th>\n",
       "    </tr>\n",
       "    <tr>\n",
       "      <th>row_0</th>\n",
       "      <th></th>\n",
       "      <th></th>\n",
       "    </tr>\n",
       "  </thead>\n",
       "  <tbody>\n",
       "    <tr>\n",
       "      <th>0</th>\n",
       "      <td>44</td>\n",
       "      <td>6</td>\n",
       "    </tr>\n",
       "    <tr>\n",
       "      <th>1</th>\n",
       "      <td>6</td>\n",
       "      <td>44</td>\n",
       "    </tr>\n",
       "  </tbody>\n",
       "</table>\n",
       "</div>"
      ],
      "text/plain": [
       "col_0   0   1\n",
       "row_0        \n",
       "0      44   6\n",
       "1       6  44"
      ]
     },
     "execution_count": 42,
     "metadata": {},
     "output_type": "execute_result"
    }
   ],
   "source": [
    "import pandas as pd \n",
    "\n",
    "y_hat = model.predict(X)\n",
    "pd.crosstab(y_hat,y)"
   ]
  },
  {
   "cell_type": "code",
   "execution_count": 49,
   "id": "25dd68a6",
   "metadata": {},
   "outputs": [
    {
     "data": {
      "image/png": "[encoded data removed]",
      "text/plain": [
       "<Figure size 640x480 with 2 Axes>"
      ]
     },
     "metadata": {},
     "output_type": "display_data"
    }
   ],
   "source": [
    "x = [[0,0]]\n",
    "p = model.predict_proba(x)\n",
    "plt.subplot(211) # 2행 1열로 plt그래프 중 첫번째 그래프 (2,1,1)\n",
    "plt.scatter(x=X[:,0], y=X[:,1], c=y)\n",
    "plt.scatter(x=x[0][0],y=x[0][1], c='r', s=200, marker='+', lw=5)\n",
    "plt.title('data')\n",
    "plt.subplot(212) # 2행 1열로 plt 그래프 중 두번째 그래프 (2,1,2)\n",
    "plt.bar(model.classes_,p[0])\n",
    "plt.title('probility distribution')\n",
    "plt.tight_layout()\n",
    "plt.show()"
   ]
  },
  {
   "cell_type": "markdown",
   "id": "d2583348",
   "metadata": {},
   "source": [
    "## 3-2 나이브베이지안 모형"
   ]
  },
  {
   "cell_type": "code",
   "execution_count": 60,
   "id": "96de4481",
   "metadata": {},
   "outputs": [
    {
     "data": {
      "text/html": [
       "<style>#sk-container-id-4 {color: black;background-color: white;}#sk-container-id-4 pre{padding: 0;}#sk-container-id-4 div.sk-toggleable {background-color: white;}#sk-container-id-4 label.sk-toggleable__label {cursor: pointer;display: block;width: 100%;margin-bottom: 0;padding: 0.3em;box-sizing: border-box;text-align: center;}#sk-container-id-4 label.sk-toggleable__label-arrow:before {content: \"▸\";float: left;margin-right: 0.25em;color: #696969;}#sk-container-id-4 label.sk-toggleable__label-arrow:hover:before {color: black;}#sk-container-id-4 div.sk-estimator:hover label.sk-toggleable__label-arrow:before {color: black;}#sk-container-id-4 div.sk-toggleable__content {max-height: 0;max-width: 0;overflow: hidden;text-align: left;background-color: #f0f8ff;}#sk-container-id-4 div.sk-toggleable__content pre {margin: 0.2em;color: black;border-radius: 0.25em;background-color: #f0f8ff;}#sk-container-id-4 input.sk-toggleable__control:checked~div.sk-toggleable__content {max-height: 200px;max-width: 100%;overflow: auto;}#sk-container-id-4 input.sk-toggleable__control:checked~label.sk-toggleable__label-arrow:before {content: \"▾\";}#sk-container-id-4 div.sk-estimator input.sk-toggleable__control:checked~label.sk-toggleable__label {background-color: #d4ebff;}#sk-container-id-4 div.sk-label input.sk-toggleable__control:checked~label.sk-toggleable__label {background-color: #d4ebff;}#sk-container-id-4 input.sk-hidden--visually {border: 0;clip: rect(1px 1px 1px 1px);clip: rect(1px, 1px, 1px, 1px);height: 1px;margin: -1px;overflow: hidden;padding: 0;position: absolute;width: 1px;}#sk-container-id-4 div.sk-estimator {font-family: monospace;background-color: #f0f8ff;border: 1px dotted black;border-radius: 0.25em;box-sizing: border-box;margin-bottom: 0.5em;}#sk-container-id-4 div.sk-estimator:hover {background-color: #d4ebff;}#sk-container-id-4 div.sk-parallel-item::after {content: \"\";width: 100%;border-bottom: 1px solid gray;flex-grow: 1;}#sk-container-id-4 div.sk-label:hover label.sk-toggleable__label {background-color: #d4ebff;}#sk-container-id-4 div.sk-serial::before {content: \"\";position: absolute;border-left: 1px solid gray;box-sizing: border-box;top: 0;bottom: 0;left: 50%;z-index: 0;}#sk-container-id-4 div.sk-serial {display: flex;flex-direction: column;align-items: center;background-color: white;padding-right: 0.2em;padding-left: 0.2em;position: relative;}#sk-container-id-4 div.sk-item {position: relative;z-index: 1;}#sk-container-id-4 div.sk-parallel {display: flex;align-items: stretch;justify-content: center;background-color: white;position: relative;}#sk-container-id-4 div.sk-item::before, #sk-container-id-4 div.sk-parallel-item::before {content: \"\";position: absolute;border-left: 1px solid gray;box-sizing: border-box;top: 0;bottom: 0;left: 50%;z-index: -1;}#sk-container-id-4 div.sk-parallel-item {display: flex;flex-direction: column;z-index: 1;position: relative;background-color: white;}#sk-container-id-4 div.sk-parallel-item:first-child::after {align-self: flex-end;width: 50%;}#sk-container-id-4 div.sk-parallel-item:last-child::after {align-self: flex-start;width: 50%;}#sk-container-id-4 div.sk-parallel-item:only-child::after {width: 0;}#sk-container-id-4 div.sk-dashed-wrapped {border: 1px dashed gray;margin: 0 0.4em 0.5em 0.4em;box-sizing: border-box;padding-bottom: 0.4em;background-color: white;}#sk-container-id-4 div.sk-label label {font-family: monospace;font-weight: bold;display: inline-block;line-height: 1.2em;}#sk-container-id-4 div.sk-label-container {text-align: center;}#sk-container-id-4 div.sk-container {/* jupyter's `normalize.less` sets `[hidden] { display: none; }` but bootstrap.min.css set `[hidden] { display: none !important; }` so we also need the `!important` here to be able to override the default hidden behavior on the sphinx rendered scikit-learn.org. See: https://github.com/scikit-learn/scikit-learn/issues/21755 */display: inline-block !important;position: relative;}#sk-container-id-4 div.sk-text-repr-fallback {display: none;}</style><div id=\"sk-container-id-4\" class=\"sk-top-container\"><div class=\"sk-text-repr-fallback\"><pre>MultinomialNB()</pre><b>In a Jupyter environment, please rerun this cell to show the HTML representation or trust the notebook. <br />On GitHub, the HTML representation is unable to render, please try loading this page with nbviewer.org.</b></div><div class=\"sk-container\" hidden><div class=\"sk-item\"><div class=\"sk-estimator sk-toggleable\"><input class=\"sk-toggleable__control sk-hidden--visually\" id=\"sk-estimator-id-4\" type=\"checkbox\" checked><label for=\"sk-estimator-id-4\" class=\"sk-toggleable__label sk-toggleable__label-arrow\">MultinomialNB</label><div class=\"sk-toggleable__content\"><pre>MultinomialNB()</pre></div></div></div></div></div>"
      ],
      "text/plain": [
       "MultinomialNB()"
      ]
     },
     "execution_count": 60,
     "metadata": {},
     "output_type": "execute_result"
    }
   ],
   "source": [
    "# 데이터 \n",
    "import seaborn as sns\n",
    "iris = sns.load_dataset('iris')\n",
    "X = iris.iloc[:,:-1].values\n",
    "y = iris.iloc[:,-1].values # 범주형(문자) - 라벨인코딩 없이 적용\n",
    "y\n",
    "# 모형생성\n",
    "from sklearn.naive_bayes import MultinomialNB\n",
    "model = MultinomialNB()\n",
    "model.fit(X,y) # 학습 데이터는 numpy 배열로"
   ]
  },
  {
   "cell_type": "code",
   "execution_count": 61,
   "id": "08ed0c4c",
   "metadata": {},
   "outputs": [
    {
     "name": "stdout",
     "output_type": "stream",
     "text": [
      "test_x의 예측 : ['setosa']\n",
      "['setosa' 'versicolor' 'virginica']\n",
      "test_x의 확률 : [[0.75199536 0.16092948 0.08707516]]\n"
     ]
    }
   ],
   "source": [
    "test_x = np.array([[5.1,3.5,1.4,0.2]]) # X.loc[0] \n",
    "\n",
    "print('test_x의 예측 :', model.predict(test_x))\n",
    "print(model.classes_)\n",
    "print('test_x의 확률 :', model.predict_proba(test_x))"
   ]
  },
  {
   "cell_type": "code",
   "execution_count": 63,
   "id": "0e3eddb6",
   "metadata": {},
   "outputs": [
    {
     "data": {
      "text/plain": [
       "<BarContainer object of 3 artists>"
      ]
     },
     "execution_count": 63,
     "metadata": {},
     "output_type": "execute_result"
    },
    {
     "data": {
      "image/png": "[encoded data removed]",
      "text/plain": [
       "<Figure size 640x480 with 2 Axes>"
      ]
     },
     "metadata": {},
     "output_type": "display_data"
    }
   ],
   "source": [
    "test_x = np.array([[5.1,3.5,1.4,0.2]]) # X.loc[0] \n",
    "\n",
    "plt.subplot(2,1,1) \n",
    "plt.bar(model.classes_, model.predict_proba(test_x)[0])\n",
    "plt.subplot(2,1,2)\n",
    "plt.bar(model.classes_, model.predict_log_proba(test_x)[0]) # 로그 확률값 \n",
    "plt.show()"
   ]
  },
  {
   "cell_type": "markdown",
   "id": "533c5d5b",
   "metadata": {},
   "source": [
    "# 4절 분류모형2. 확률적 판별모형 \n",
    "## 4-1로지스틱 회귀분석"
   ]
  },
  {
   "cell_type": "code",
   "execution_count": 73,
   "id": "38223f17",
   "metadata": {},
   "outputs": [
    {
     "data": {
      "text/plain": [
       "((100, 1), (100,))"
      ]
     },
     "execution_count": 73,
     "metadata": {},
     "output_type": "execute_result"
    }
   ],
   "source": [
    "# 데이터 \n",
    "X,y = make_classification(n_features=1,     # 독립변수\n",
    "                          n_redundant=0,    # 타겟변수에 영향을 미치지 않는 독립변수 갯수\n",
    "                          n_informative=1,  # 타겟변수에 영향을 미치는 독립변수 \n",
    "                          n_classes=2,      # 0 또는 1 타겟변수의 class 수 \n",
    "                          n_clusters_per_class=1,   # 서브클래스\n",
    "                          n_samples=100,    # 데이터 수\n",
    "                          random_state=1\n",
    "                          )\n",
    "X.shape, y.shape"
   ]
  },
  {
   "cell_type": "code",
   "execution_count": 75,
   "id": "77782dc4",
   "metadata": {},
   "outputs": [
    {
     "data": {
      "text/plain": [
       "(array([0, 1]), 0.5)"
      ]
     },
     "execution_count": 75,
     "metadata": {},
     "output_type": "execute_result"
    }
   ],
   "source": [
    "np.unique(y), y.mean()"
   ]
  },
  {
   "cell_type": "code",
   "execution_count": 76,
   "id": "405ca55e",
   "metadata": {},
   "outputs": [],
   "source": [
    "# 모형 생성\n",
    "from sklearn.linear_model import LogisticRegression\n",
    "model = LogisticRegression().fit(X,y)"
   ]
  },
  {
   "cell_type": "code",
   "execution_count": 101,
   "id": "9a39c8f1",
   "metadata": {},
   "outputs": [],
   "source": [
    "xx = np.linspace(-3,3,100) # -3부터 3까지 같은 간격의 데이터 100개 \n",
    "xx[:5]\n",
    "# xx의 행축 증가 (4가지 방법)\n",
    "# test_x = xx.reshape(-1,1)\n",
    "test_x = xx[:, np.newaxis]\n",
    "test_x = np.expand_dims(xx,axis=1)\n",
    "# test_x = xx[:,None]\n",
    "y_hat = model.predict(test_x)\n",
    "prob = model.predict_proba(test_x)\n",
    "prob0 = prob[:,0] # 0로 분류될 확률\n",
    "prob1 = prob[:,1] # 1로 분류될 확률"
   ]
  },
  {
   "cell_type": "code",
   "execution_count": 115,
   "id": "2bfbd3ff",
   "metadata": {},
   "outputs": [
    {
     "data": {
      "image/png": "[encoded data removed]",
      "text/plain": [
       "<Figure size 1000x600 with 2 Axes>"
      ]
     },
     "metadata": {},
     "output_type": "display_data"
    }
   ],
   "source": [
    "plt.figure(figsize=(10,6))\n",
    "plt.subplot(211)\n",
    "x = [[0]]\n",
    "prob_x = model.predict_proba(x)\n",
    "plt.scatter(X,y,c=y, edgecolors='k')\n",
    "plt.plot(xx,prob1)\n",
    "plt.scatter(x[0][0],prob_x[0][1] ,c='r',s=100)\n",
    "plt.subplot(212)\n",
    "plt.bar(model.classes_, prob_x[0])\n",
    "plt.show()"
   ]
  },
  {
   "cell_type": "markdown",
   "id": "11f44d43",
   "metadata": {},
   "source": [
    "## 4.2 의사결정나무 \n",
    "- <strong style=\"color:red;\">★ 종속변수에 영향을 주는 독립변수의 범주를 찾는 목적 </strong>"
   ]
  },
  {
   "cell_type": "code",
   "execution_count": 5,
   "id": "b5862620",
   "metadata": {},
   "outputs": [
    {
     "name": "stdout",
     "output_type": "stream",
     "text": [
      "['petal length', 'petal width']\n"
     ]
    },
    {
     "data": {
      "text/html": [
       "<style>#sk-container-id-1 {color: black;background-color: white;}#sk-container-id-1 pre{padding: 0;}#sk-container-id-1 div.sk-toggleable {background-color: white;}#sk-container-id-1 label.sk-toggleable__label {cursor: pointer;display: block;width: 100%;margin-bottom: 0;padding: 0.3em;box-sizing: border-box;text-align: center;}#sk-container-id-1 label.sk-toggleable__label-arrow:before {content: \"▸\";float: left;margin-right: 0.25em;color: #696969;}#sk-container-id-1 label.sk-toggleable__label-arrow:hover:before {color: black;}#sk-container-id-1 div.sk-estimator:hover label.sk-toggleable__label-arrow:before {color: black;}#sk-container-id-1 div.sk-toggleable__content {max-height: 0;max-width: 0;overflow: hidden;text-align: left;background-color: #f0f8ff;}#sk-container-id-1 div.sk-toggleable__content pre {margin: 0.2em;color: black;border-radius: 0.25em;background-color: #f0f8ff;}#sk-container-id-1 input.sk-toggleable__control:checked~div.sk-toggleable__content {max-height: 200px;max-width: 100%;overflow: auto;}#sk-container-id-1 input.sk-toggleable__control:checked~label.sk-toggleable__label-arrow:before {content: \"▾\";}#sk-container-id-1 div.sk-estimator input.sk-toggleable__control:checked~label.sk-toggleable__label {background-color: #d4ebff;}#sk-container-id-1 div.sk-label input.sk-toggleable__control:checked~label.sk-toggleable__label {background-color: #d4ebff;}#sk-container-id-1 input.sk-hidden--visually {border: 0;clip: rect(1px 1px 1px 1px);clip: rect(1px, 1px, 1px, 1px);height: 1px;margin: -1px;overflow: hidden;padding: 0;position: absolute;width: 1px;}#sk-container-id-1 div.sk-estimator {font-family: monospace;background-color: #f0f8ff;border: 1px dotted black;border-radius: 0.25em;box-sizing: border-box;margin-bottom: 0.5em;}#sk-container-id-1 div.sk-estimator:hover {background-color: #d4ebff;}#sk-container-id-1 div.sk-parallel-item::after {content: \"\";width: 100%;border-bottom: 1px solid gray;flex-grow: 1;}#sk-container-id-1 div.sk-label:hover label.sk-toggleable__label {background-color: #d4ebff;}#sk-container-id-1 div.sk-serial::before {content: \"\";position: absolute;border-left: 1px solid gray;box-sizing: border-box;top: 0;bottom: 0;left: 50%;z-index: 0;}#sk-container-id-1 div.sk-serial {display: flex;flex-direction: column;align-items: center;background-color: white;padding-right: 0.2em;padding-left: 0.2em;position: relative;}#sk-container-id-1 div.sk-item {position: relative;z-index: 1;}#sk-container-id-1 div.sk-parallel {display: flex;align-items: stretch;justify-content: center;background-color: white;position: relative;}#sk-container-id-1 div.sk-item::before, #sk-container-id-1 div.sk-parallel-item::before {content: \"\";position: absolute;border-left: 1px solid gray;box-sizing: border-box;top: 0;bottom: 0;left: 50%;z-index: -1;}#sk-container-id-1 div.sk-parallel-item {display: flex;flex-direction: column;z-index: 1;position: relative;background-color: white;}#sk-container-id-1 div.sk-parallel-item:first-child::after {align-self: flex-end;width: 50%;}#sk-container-id-1 div.sk-parallel-item:last-child::after {align-self: flex-start;width: 50%;}#sk-container-id-1 div.sk-parallel-item:only-child::after {width: 0;}#sk-container-id-1 div.sk-dashed-wrapped {border: 1px dashed gray;margin: 0 0.4em 0.5em 0.4em;box-sizing: border-box;padding-bottom: 0.4em;background-color: white;}#sk-container-id-1 div.sk-label label {font-family: monospace;font-weight: bold;display: inline-block;line-height: 1.2em;}#sk-container-id-1 div.sk-label-container {text-align: center;}#sk-container-id-1 div.sk-container {/* jupyter's `normalize.less` sets `[hidden] { display: none; }` but bootstrap.min.css set `[hidden] { display: none !important; }` so we also need the `!important` here to be able to override the default hidden behavior on the sphinx rendered scikit-learn.org. See: https://github.com/scikit-learn/scikit-learn/issues/21755 */display: inline-block !important;position: relative;}#sk-container-id-1 div.sk-text-repr-fallback {display: none;}</style><div id=\"sk-container-id-1\" class=\"sk-top-container\"><div class=\"sk-text-repr-fallback\"><pre>DecisionTreeClassifier(criterion=&#x27;entropy&#x27;, max_depth=1, random_state=0)</pre><b>In a Jupyter environment, please rerun this cell to show the HTML representation or trust the notebook. <br />On GitHub, the HTML representation is unable to render, please try loading this page with nbviewer.org.</b></div><div class=\"sk-container\" hidden><div class=\"sk-item\"><div class=\"sk-estimator sk-toggleable\"><input class=\"sk-toggleable__control sk-hidden--visually\" id=\"sk-estimator-id-1\" type=\"checkbox\" checked><label for=\"sk-estimator-id-1\" class=\"sk-toggleable__label sk-toggleable__label-arrow\">DecisionTreeClassifier</label><div class=\"sk-toggleable__content\"><pre>DecisionTreeClassifier(criterion=&#x27;entropy&#x27;, max_depth=1, random_state=0)</pre></div></div></div></div></div>"
      ],
      "text/plain": [
       "DecisionTreeClassifier(criterion='entropy', max_depth=1, random_state=0)"
      ]
     },
     "execution_count": 5,
     "metadata": {},
     "output_type": "execute_result"
    }
   ],
   "source": [
    "from sklearn.datasets import load_iris\n",
    "data = load_iris()\n",
    "X = data.data[:,2:] # 2번째, 3번째 열만 \n",
    "y = data.target\n",
    "feature_names = [name[:-5] for name in data.feature_names[2:]]\n",
    "print(feature_names)\n",
    "\n",
    "# 모형 생성 \n",
    "from sklearn.tree import DecisionTreeClassifier\n",
    "dt_model = DecisionTreeClassifier(criterion=\"entropy\", # 분류품질 기준\n",
    "                                  max_depth=1,\n",
    "                                  random_state=0)\n",
    "dt_model.fit(X,y) # depth가 1이라 성능이 좋지 않을 예정\n",
    "\n",
    "print(X[102])\n",
    "test_x = [[5.9,2.1]]\n",
    "print('예측값 : ',dt_model.predict(test_x))\n",
    "print(dt_model.classes_)\n",
    "print(dt_model.predict_proba(test_x))"
   ]
  },
  {
   "cell_type": "code",
   "execution_count": 18,
   "id": "99f10335",
   "metadata": {},
   "outputs": [
    {
     "data": {
      "image/png": "[encoded data removed]",
      "text/plain": [
       "<IPython.core.display.Image object>"
      ]
     },
     "execution_count": 18,
     "metadata": {},
     "output_type": "execute_result"
    }
   ],
   "source": [
    "# 분류모형의 시각화 \n",
    "import io\n",
    "from sklearn.tree import export_graphviz\n",
    "import pydot \n",
    "from IPython.core.display import Image\n",
    "\n",
    "def draw_decision_tree(model, feature_names):\n",
    "    dot_buf = io.StringIO()\n",
    "    export_graphviz(model, out_file=dot_buf, feature_names=feature_names)\n",
    "    graph = pydot.graph_from_dot_data(dot_buf.getvalue())[0]\n",
    "    image = graph.create_png()\n",
    "    return Image(image)\n",
    "draw_decision_tree(dt_model, feature_names=feature_names)"
   ]
  },
  {
   "cell_type": "markdown",
   "id": "da5993f3",
   "metadata": {},
   "source": [
    "# 선생님꺼 체크 \n"
   ]
  },
  {
   "cell_type": "code",
   "execution_count": 56,
   "id": "d2d0fc8a",
   "metadata": {},
   "outputs": [
    {
     "data": {
      "image/png": "[encoded data removed]",
      "text/plain": [
       "<Figure size 640x480 with 1 Axes>"
      ]
     },
     "metadata": {},
     "output_type": "display_data"
    }
   ],
   "source": [
    "import matplotlib as mpl\n",
    "import numpy as np\n",
    "import matplotlib.pyplot as plt\n",
    "def plot_decision_regions(X, y, model, title):\n",
    "    species = ['setosa', 'versicolor', 'virginica']\n",
    "    resolution = 0.01\n",
    "    markers = ('s', '^', 'o')\n",
    "    colors = ('red', 'blue', 'lightgreen')\n",
    "    cmap = mpl.colors.ListedColormap(colors)\n",
    "\n",
    "    x1_min, x1_max = X[:, 0].min() - 1, X[:, 0].max() + 1\n",
    "    x2_min, x2_max = X[:, 1].min() - 1, X[:, 1].max() + 1\n",
    "    xx1, xx2 = np.meshgrid(np.arange(x1_min, x1_max, resolution),\n",
    "                           np.arange(x2_min, x2_max, resolution))\n",
    "    Z = model.predict(\n",
    "        np.array([xx1.ravel(), xx2.ravel()]).T).reshape(xx1.shape)\n",
    "\n",
    "    plt.contour(xx1, xx2, Z, cmap=mpl.colors.ListedColormap(['k']))\n",
    "    plt.contourf(xx1, xx2, Z, alpha=0.4, cmap=cmap)\n",
    "    plt.xlim(xx1.min(), xx1.max())\n",
    "    plt.ylim(xx2.min(), xx2.max())\n",
    "\n",
    "    for idx, cl in enumerate(np.unique(y)):\n",
    "        plt.scatter(x=X[y == cl, 0], y=X[y == cl, 1], alpha=0.8,\n",
    "                    c=[cmap(idx)], marker=markers[idx], s=80, label=species[cl])\n",
    "\n",
    "    plt.xlabel(data.feature_names[2])\n",
    "    plt.ylabel(data.feature_names[3])\n",
    "    plt.legend(loc='upper left')\n",
    "    plt.title(title)\n",
    "\n",
    "    return Z\n",
    "plot_decision_regions(X, y, dt_model, \"Depth1\")\n",
    "plt.show()"
   ]
  },
  {
   "cell_type": "code",
   "execution_count": 54,
   "id": "216b0fef",
   "metadata": {},
   "outputs": [
    {
     "ename": "ValueError",
     "evalue": "Length of feature_names, 2 does not match number of features, 4",
     "output_type": "error",
     "traceback": [
      "\u001b[1;31m---------------------------------------------------------------------------\u001b[0m",
      "\u001b[1;31mValueError\u001b[0m                                Traceback (most recent call last)",
      "Cell \u001b[1;32mIn[54], line 5\u001b[0m\n\u001b[0;32m      1\u001b[0m dt_model5 \u001b[38;5;241m=\u001b[39m DecisionTreeClassifier(criterion\u001b[38;5;241m=\u001b[39m\u001b[38;5;124m\"\u001b[39m\u001b[38;5;124mentropy\u001b[39m\u001b[38;5;124m\"\u001b[39m,\n\u001b[0;32m      2\u001b[0m                                   max_depth\u001b[38;5;241m=\u001b[39m\u001b[38;5;241m15\u001b[39m,\n\u001b[0;32m      3\u001b[0m                                   random_state\u001b[38;5;241m=\u001b[39m\u001b[38;5;241m0\u001b[39m)\n\u001b[0;32m      4\u001b[0m dt_model5\u001b[38;5;241m.\u001b[39mfit(X, y)\n\u001b[1;32m----> 5\u001b[0m \u001b[43mdraw_decision_tree\u001b[49m\u001b[43m(\u001b[49m\u001b[43mdt_model5\u001b[49m\u001b[43m,\u001b[49m\u001b[43m \u001b[49m\u001b[43mfeature_names\u001b[49m\u001b[38;5;241;43m=\u001b[39;49m\u001b[43mfeature_names\u001b[49m\u001b[43m)\u001b[49m\n",
      "Cell \u001b[1;32mIn[18], line 9\u001b[0m, in \u001b[0;36mdraw_decision_tree\u001b[1;34m(model, feature_names)\u001b[0m\n\u001b[0;32m      7\u001b[0m \u001b[38;5;28;01mdef\u001b[39;00m\u001b[38;5;250m \u001b[39m\u001b[38;5;21mdraw_decision_tree\u001b[39m(model, feature_names):\n\u001b[0;32m      8\u001b[0m     dot_buf \u001b[38;5;241m=\u001b[39m io\u001b[38;5;241m.\u001b[39mStringIO()\n\u001b[1;32m----> 9\u001b[0m     \u001b[43mexport_graphviz\u001b[49m\u001b[43m(\u001b[49m\u001b[43mmodel\u001b[49m\u001b[43m,\u001b[49m\u001b[43m \u001b[49m\u001b[43mout_file\u001b[49m\u001b[38;5;241;43m=\u001b[39;49m\u001b[43mdot_buf\u001b[49m\u001b[43m,\u001b[49m\u001b[43m \u001b[49m\u001b[43mfeature_names\u001b[49m\u001b[38;5;241;43m=\u001b[39;49m\u001b[43mfeature_names\u001b[49m\u001b[43m)\u001b[49m\n\u001b[0;32m     10\u001b[0m     graph \u001b[38;5;241m=\u001b[39m pydot\u001b[38;5;241m.\u001b[39mgraph_from_dot_data(dot_buf\u001b[38;5;241m.\u001b[39mgetvalue())[\u001b[38;5;241m0\u001b[39m]\n\u001b[0;32m     11\u001b[0m     image \u001b[38;5;241m=\u001b[39m graph\u001b[38;5;241m.\u001b[39mcreate_png()\n",
      "File \u001b[1;32m~\\anaconda3\\envs\\ml-dl-nlp\\lib\\site-packages\\sklearn\\tree\\_export.py:888\u001b[0m, in \u001b[0;36mexport_graphviz\u001b[1;34m(decision_tree, out_file, max_depth, feature_names, class_names, label, filled, leaves_parallel, impurity, node_ids, proportion, rotate, rounded, special_characters, precision, fontname)\u001b[0m\n\u001b[0;32m    869\u001b[0m     out_file \u001b[38;5;241m=\u001b[39m StringIO()\n\u001b[0;32m    871\u001b[0m exporter \u001b[38;5;241m=\u001b[39m _DOTTreeExporter(\n\u001b[0;32m    872\u001b[0m     out_file\u001b[38;5;241m=\u001b[39mout_file,\n\u001b[0;32m    873\u001b[0m     max_depth\u001b[38;5;241m=\u001b[39mmax_depth,\n\u001b[1;32m   (...)\u001b[0m\n\u001b[0;32m    886\u001b[0m     fontname\u001b[38;5;241m=\u001b[39mfontname,\n\u001b[0;32m    887\u001b[0m )\n\u001b[1;32m--> 888\u001b[0m \u001b[43mexporter\u001b[49m\u001b[38;5;241;43m.\u001b[39;49m\u001b[43mexport\u001b[49m\u001b[43m(\u001b[49m\u001b[43mdecision_tree\u001b[49m\u001b[43m)\u001b[49m\n\u001b[0;32m    890\u001b[0m \u001b[38;5;28;01mif\u001b[39;00m return_string:\n\u001b[0;32m    891\u001b[0m     \u001b[38;5;28;01mreturn\u001b[39;00m exporter\u001b[38;5;241m.\u001b[39mout_file\u001b[38;5;241m.\u001b[39mgetvalue()\n",
      "File \u001b[1;32m~\\anaconda3\\envs\\ml-dl-nlp\\lib\\site-packages\\sklearn\\tree\\_export.py:451\u001b[0m, in \u001b[0;36m_DOTTreeExporter.export\u001b[1;34m(self, decision_tree)\u001b[0m\n\u001b[0;32m    449\u001b[0m \u001b[38;5;28;01mif\u001b[39;00m \u001b[38;5;28mself\u001b[39m\u001b[38;5;241m.\u001b[39mfeature_names \u001b[38;5;129;01mis\u001b[39;00m \u001b[38;5;129;01mnot\u001b[39;00m \u001b[38;5;28;01mNone\u001b[39;00m:\n\u001b[0;32m    450\u001b[0m     \u001b[38;5;28;01mif\u001b[39;00m \u001b[38;5;28mlen\u001b[39m(\u001b[38;5;28mself\u001b[39m\u001b[38;5;241m.\u001b[39mfeature_names) \u001b[38;5;241m!=\u001b[39m decision_tree\u001b[38;5;241m.\u001b[39mn_features_in_:\n\u001b[1;32m--> 451\u001b[0m         \u001b[38;5;28;01mraise\u001b[39;00m \u001b[38;5;167;01mValueError\u001b[39;00m(\n\u001b[0;32m    452\u001b[0m             \u001b[38;5;124m\"\u001b[39m\u001b[38;5;124mLength of feature_names, \u001b[39m\u001b[38;5;132;01m%d\u001b[39;00m\u001b[38;5;124m does not match number of features, \u001b[39m\u001b[38;5;132;01m%d\u001b[39;00m\u001b[38;5;124m\"\u001b[39m\n\u001b[0;32m    453\u001b[0m             \u001b[38;5;241m%\u001b[39m (\u001b[38;5;28mlen\u001b[39m(\u001b[38;5;28mself\u001b[39m\u001b[38;5;241m.\u001b[39mfeature_names), decision_tree\u001b[38;5;241m.\u001b[39mn_features_in_)\n\u001b[0;32m    454\u001b[0m         )\n\u001b[0;32m    455\u001b[0m \u001b[38;5;66;03m# each part writes to out_file\u001b[39;00m\n\u001b[0;32m    456\u001b[0m \u001b[38;5;28mself\u001b[39m\u001b[38;5;241m.\u001b[39mhead()\n",
      "\u001b[1;31mValueError\u001b[0m: Length of feature_names, 2 does not match number of features, 4"
     ]
    }
   ],
   "source": [
    "dt_model5 = DecisionTreeClassifier(criterion=\"entropy\",\n",
    "                                  max_depth=15,\n",
    "                                  random_state=0)\n",
    "dt_model5.fit(X, y)\n",
    "draw_decision_tree(dt_model5, feature_names=feature_names)"
   ]
  },
  {
   "cell_type": "code",
   "execution_count": 52,
   "id": "de35cf28",
   "metadata": {},
   "outputs": [
    {
     "ename": "ValueError",
     "evalue": "X has 2 features, but DecisionTreeClassifier is expecting 4 features as input.",
     "output_type": "error",
     "traceback": [
      "\u001b[1;31m---------------------------------------------------------------------------\u001b[0m",
      "\u001b[1;31mValueError\u001b[0m                                Traceback (most recent call last)",
      "Cell \u001b[1;32mIn[52], line 1\u001b[0m\n\u001b[1;32m----> 1\u001b[0m \u001b[43mplot_decision_regions\u001b[49m\u001b[43m(\u001b[49m\u001b[43mX\u001b[49m\u001b[43m,\u001b[49m\u001b[43m \u001b[49m\u001b[43my\u001b[49m\u001b[43m,\u001b[49m\u001b[43m \u001b[49m\u001b[43mdt_model5\u001b[49m\u001b[43m,\u001b[49m\u001b[43m \u001b[49m\u001b[38;5;124;43m\"\u001b[39;49m\u001b[38;5;124;43mDepth 5\u001b[39;49m\u001b[38;5;124;43m\"\u001b[39;49m\u001b[43m)\u001b[49m\n\u001b[0;32m      2\u001b[0m plt\u001b[38;5;241m.\u001b[39mshow()\n",
      "Cell \u001b[1;32mIn[50], line 15\u001b[0m, in \u001b[0;36mplot_decision_regions\u001b[1;34m(X, y, model, title)\u001b[0m\n\u001b[0;32m     12\u001b[0m x2_min, x2_max \u001b[38;5;241m=\u001b[39m X[:, \u001b[38;5;241m1\u001b[39m]\u001b[38;5;241m.\u001b[39mmin() \u001b[38;5;241m-\u001b[39m \u001b[38;5;241m1\u001b[39m, X[:, \u001b[38;5;241m1\u001b[39m]\u001b[38;5;241m.\u001b[39mmax() \u001b[38;5;241m+\u001b[39m \u001b[38;5;241m1\u001b[39m\n\u001b[0;32m     13\u001b[0m xx1, xx2 \u001b[38;5;241m=\u001b[39m np\u001b[38;5;241m.\u001b[39mmeshgrid(np\u001b[38;5;241m.\u001b[39marange(x1_min, x1_max, resolution),\n\u001b[0;32m     14\u001b[0m                        np\u001b[38;5;241m.\u001b[39marange(x2_min, x2_max, resolution))\n\u001b[1;32m---> 15\u001b[0m Z \u001b[38;5;241m=\u001b[39m \u001b[43mmodel\u001b[49m\u001b[38;5;241;43m.\u001b[39;49m\u001b[43mpredict\u001b[49m\u001b[43m(\u001b[49m\n\u001b[0;32m     16\u001b[0m \u001b[43m    \u001b[49m\u001b[43mnp\u001b[49m\u001b[38;5;241;43m.\u001b[39;49m\u001b[43marray\u001b[49m\u001b[43m(\u001b[49m\u001b[43m[\u001b[49m\u001b[43mxx1\u001b[49m\u001b[38;5;241;43m.\u001b[39;49m\u001b[43mravel\u001b[49m\u001b[43m(\u001b[49m\u001b[43m)\u001b[49m\u001b[43m,\u001b[49m\u001b[43m \u001b[49m\u001b[43mxx2\u001b[49m\u001b[38;5;241;43m.\u001b[39;49m\u001b[43mravel\u001b[49m\u001b[43m(\u001b[49m\u001b[43m)\u001b[49m\u001b[43m]\u001b[49m\u001b[43m)\u001b[49m\u001b[38;5;241;43m.\u001b[39;49m\u001b[43mT\u001b[49m\u001b[43m)\u001b[49m\u001b[38;5;241m.\u001b[39mreshape(xx1\u001b[38;5;241m.\u001b[39mshape)\n\u001b[0;32m     18\u001b[0m plt\u001b[38;5;241m.\u001b[39mcontour(xx1, xx2, Z, cmap\u001b[38;5;241m=\u001b[39mmpl\u001b[38;5;241m.\u001b[39mcolors\u001b[38;5;241m.\u001b[39mListedColormap([\u001b[38;5;124m'\u001b[39m\u001b[38;5;124mk\u001b[39m\u001b[38;5;124m'\u001b[39m]))\n\u001b[0;32m     19\u001b[0m plt\u001b[38;5;241m.\u001b[39mcontourf(xx1, xx2, Z, alpha\u001b[38;5;241m=\u001b[39m\u001b[38;5;241m0.4\u001b[39m, cmap\u001b[38;5;241m=\u001b[39mcmap)\n",
      "File \u001b[1;32m~\\anaconda3\\envs\\ml-dl-nlp\\lib\\site-packages\\sklearn\\tree\\_classes.py:426\u001b[0m, in \u001b[0;36mBaseDecisionTree.predict\u001b[1;34m(self, X, check_input)\u001b[0m\n\u001b[0;32m    403\u001b[0m \u001b[38;5;250m\u001b[39m\u001b[38;5;124;03m\"\"\"Predict class or regression value for X.\u001b[39;00m\n\u001b[0;32m    404\u001b[0m \n\u001b[0;32m    405\u001b[0m \u001b[38;5;124;03mFor a classification model, the predicted class for each sample in X is\u001b[39;00m\n\u001b[1;32m   (...)\u001b[0m\n\u001b[0;32m    423\u001b[0m \u001b[38;5;124;03m    The predicted classes, or the predict values.\u001b[39;00m\n\u001b[0;32m    424\u001b[0m \u001b[38;5;124;03m\"\"\"\u001b[39;00m\n\u001b[0;32m    425\u001b[0m check_is_fitted(\u001b[38;5;28mself\u001b[39m)\n\u001b[1;32m--> 426\u001b[0m X \u001b[38;5;241m=\u001b[39m \u001b[38;5;28;43mself\u001b[39;49m\u001b[38;5;241;43m.\u001b[39;49m\u001b[43m_validate_X_predict\u001b[49m\u001b[43m(\u001b[49m\u001b[43mX\u001b[49m\u001b[43m,\u001b[49m\u001b[43m \u001b[49m\u001b[43mcheck_input\u001b[49m\u001b[43m)\u001b[49m\n\u001b[0;32m    427\u001b[0m proba \u001b[38;5;241m=\u001b[39m \u001b[38;5;28mself\u001b[39m\u001b[38;5;241m.\u001b[39mtree_\u001b[38;5;241m.\u001b[39mpredict(X)\n\u001b[0;32m    428\u001b[0m n_samples \u001b[38;5;241m=\u001b[39m X\u001b[38;5;241m.\u001b[39mshape[\u001b[38;5;241m0\u001b[39m]\n",
      "File \u001b[1;32m~\\anaconda3\\envs\\ml-dl-nlp\\lib\\site-packages\\sklearn\\tree\\_classes.py:392\u001b[0m, in \u001b[0;36mBaseDecisionTree._validate_X_predict\u001b[1;34m(self, X, check_input)\u001b[0m\n\u001b[0;32m    390\u001b[0m \u001b[38;5;250m\u001b[39m\u001b[38;5;124;03m\"\"\"Validate the training data on predict (probabilities).\"\"\"\u001b[39;00m\n\u001b[0;32m    391\u001b[0m \u001b[38;5;28;01mif\u001b[39;00m check_input:\n\u001b[1;32m--> 392\u001b[0m     X \u001b[38;5;241m=\u001b[39m \u001b[38;5;28;43mself\u001b[39;49m\u001b[38;5;241;43m.\u001b[39;49m\u001b[43m_validate_data\u001b[49m\u001b[43m(\u001b[49m\u001b[43mX\u001b[49m\u001b[43m,\u001b[49m\u001b[43m \u001b[49m\u001b[43mdtype\u001b[49m\u001b[38;5;241;43m=\u001b[39;49m\u001b[43mDTYPE\u001b[49m\u001b[43m,\u001b[49m\u001b[43m \u001b[49m\u001b[43maccept_sparse\u001b[49m\u001b[38;5;241;43m=\u001b[39;49m\u001b[38;5;124;43m\"\u001b[39;49m\u001b[38;5;124;43mcsr\u001b[39;49m\u001b[38;5;124;43m\"\u001b[39;49m\u001b[43m,\u001b[49m\u001b[43m \u001b[49m\u001b[43mreset\u001b[49m\u001b[38;5;241;43m=\u001b[39;49m\u001b[38;5;28;43;01mFalse\u001b[39;49;00m\u001b[43m)\u001b[49m\n\u001b[0;32m    393\u001b[0m     \u001b[38;5;28;01mif\u001b[39;00m issparse(X) \u001b[38;5;129;01mand\u001b[39;00m (\n\u001b[0;32m    394\u001b[0m         X\u001b[38;5;241m.\u001b[39mindices\u001b[38;5;241m.\u001b[39mdtype \u001b[38;5;241m!=\u001b[39m np\u001b[38;5;241m.\u001b[39mintc \u001b[38;5;129;01mor\u001b[39;00m X\u001b[38;5;241m.\u001b[39mindptr\u001b[38;5;241m.\u001b[39mdtype \u001b[38;5;241m!=\u001b[39m np\u001b[38;5;241m.\u001b[39mintc\n\u001b[0;32m    395\u001b[0m     ):\n\u001b[0;32m    396\u001b[0m         \u001b[38;5;28;01mraise\u001b[39;00m \u001b[38;5;167;01mValueError\u001b[39;00m(\u001b[38;5;124m\"\u001b[39m\u001b[38;5;124mNo support for np.int64 index based sparse matrices\u001b[39m\u001b[38;5;124m\"\u001b[39m)\n",
      "File \u001b[1;32m~\\anaconda3\\envs\\ml-dl-nlp\\lib\\site-packages\\sklearn\\base.py:569\u001b[0m, in \u001b[0;36mBaseEstimator._validate_data\u001b[1;34m(self, X, y, reset, validate_separately, **check_params)\u001b[0m\n\u001b[0;32m    566\u001b[0m     out \u001b[38;5;241m=\u001b[39m X, y\n\u001b[0;32m    568\u001b[0m \u001b[38;5;28;01mif\u001b[39;00m \u001b[38;5;129;01mnot\u001b[39;00m no_val_X \u001b[38;5;129;01mand\u001b[39;00m check_params\u001b[38;5;241m.\u001b[39mget(\u001b[38;5;124m\"\u001b[39m\u001b[38;5;124mensure_2d\u001b[39m\u001b[38;5;124m\"\u001b[39m, \u001b[38;5;28;01mTrue\u001b[39;00m):\n\u001b[1;32m--> 569\u001b[0m     \u001b[38;5;28;43mself\u001b[39;49m\u001b[38;5;241;43m.\u001b[39;49m\u001b[43m_check_n_features\u001b[49m\u001b[43m(\u001b[49m\u001b[43mX\u001b[49m\u001b[43m,\u001b[49m\u001b[43m \u001b[49m\u001b[43mreset\u001b[49m\u001b[38;5;241;43m=\u001b[39;49m\u001b[43mreset\u001b[49m\u001b[43m)\u001b[49m\n\u001b[0;32m    571\u001b[0m \u001b[38;5;28;01mreturn\u001b[39;00m out\n",
      "File \u001b[1;32m~\\anaconda3\\envs\\ml-dl-nlp\\lib\\site-packages\\sklearn\\base.py:370\u001b[0m, in \u001b[0;36mBaseEstimator._check_n_features\u001b[1;34m(self, X, reset)\u001b[0m\n\u001b[0;32m    367\u001b[0m     \u001b[38;5;28;01mreturn\u001b[39;00m\n\u001b[0;32m    369\u001b[0m \u001b[38;5;28;01mif\u001b[39;00m n_features \u001b[38;5;241m!=\u001b[39m \u001b[38;5;28mself\u001b[39m\u001b[38;5;241m.\u001b[39mn_features_in_:\n\u001b[1;32m--> 370\u001b[0m     \u001b[38;5;28;01mraise\u001b[39;00m \u001b[38;5;167;01mValueError\u001b[39;00m(\n\u001b[0;32m    371\u001b[0m         \u001b[38;5;124mf\u001b[39m\u001b[38;5;124m\"\u001b[39m\u001b[38;5;124mX has \u001b[39m\u001b[38;5;132;01m{\u001b[39;00mn_features\u001b[38;5;132;01m}\u001b[39;00m\u001b[38;5;124m features, but \u001b[39m\u001b[38;5;132;01m{\u001b[39;00m\u001b[38;5;28mself\u001b[39m\u001b[38;5;241m.\u001b[39m\u001b[38;5;18m__class__\u001b[39m\u001b[38;5;241m.\u001b[39m\u001b[38;5;18m__name__\u001b[39m\u001b[38;5;132;01m}\u001b[39;00m\u001b[38;5;124m \u001b[39m\u001b[38;5;124m\"\u001b[39m\n\u001b[0;32m    372\u001b[0m         \u001b[38;5;124mf\u001b[39m\u001b[38;5;124m\"\u001b[39m\u001b[38;5;124mis expecting \u001b[39m\u001b[38;5;132;01m{\u001b[39;00m\u001b[38;5;28mself\u001b[39m\u001b[38;5;241m.\u001b[39mn_features_in_\u001b[38;5;132;01m}\u001b[39;00m\u001b[38;5;124m features as input.\u001b[39m\u001b[38;5;124m\"\u001b[39m\n\u001b[0;32m    373\u001b[0m     )\n",
      "\u001b[1;31mValueError\u001b[0m: X has 2 features, but DecisionTreeClassifier is expecting 4 features as input."
     ]
    }
   ],
   "source": [
    "plot_decision_regions(X, y, dt_model5, \"Depth 5\")\n",
    "plt.show()"
   ]
  },
  {
   "cell_type": "code",
   "execution_count": null,
   "id": "52a8aa3e",
   "metadata": {},
   "outputs": [],
   "source": [
    "pred = dt_model5.predict(X)\n",
    "pred"
   ]
  },
  {
   "cell_type": "code",
   "execution_count": null,
   "id": "cd0f65bf",
   "metadata": {},
   "outputs": [],
   "source": []
  },
  {
   "cell_type": "code",
   "execution_count": null,
   "id": "a89903a2",
   "metadata": {},
   "outputs": [],
   "source": []
  },
  {
   "cell_type": "code",
   "execution_count": null,
   "id": "2283d95d",
   "metadata": {},
   "outputs": [],
   "source": [
    "pred = dt_model5.predict(X)\n",
    "pred"
   ]
  },
  {
   "cell_type": "markdown",
   "id": "fbca7feb",
   "metadata": {},
   "source": [
    "# 5절. 분류분석 모형3. 판별함수 모형\n",
    "- SVM, 퍼셉트론, MLP(predict_proba()있음), ...\n",
    "- predict_prob대신 decision_function()\n",
    "\n",
    "## 5.1 SVM의 SVC"
   ]
  },
  {
   "cell_type": "code",
   "execution_count": 31,
   "id": "f15abb77",
   "metadata": {},
   "outputs": [
    {
     "name": "stdout",
     "output_type": "stream",
     "text": [
      "[True, True, True, True, True, True, True, True, True, True, True, True, True, True, True, True, True, True, True, True, True, True, True, True, True, True, True, True, True, True, True, True, True, True, True, True, True, True, True, True, True, True, True, True, True, True, True, True, True, True, False, False, False, False, False, False, False, False, False, False, False, False, False, False, False, False, False, False, False, False, False, False, False, False, False, False, False, False, False, False, False, False, False, False, False, False, False, False, False, False, False, False, False, False, False, False, False, False, False, False, True, True, True, True, True, True, True, True, True, True, True, True, True, True, True, True, True, True, True, True, True, True, True, True, True, True, True, True, True, True, True, True, True, True, True, True, True, True, True, True, True, True, True, True, True, True, True, True, True, True]\n"
     ]
    }
   ],
   "source": [
    "from sklearn.datasets import load_iris\n",
    "import pandas as pd\n",
    "iris = load_iris()\n",
    "idx = pd.Series(iris.target).isin([0,2]) # 시리즈 \n",
    "print(idx.tolist())"
   ]
  },
  {
   "cell_type": "code",
   "execution_count": 32,
   "id": "40f29ad1",
   "metadata": {},
   "outputs": [
    {
     "data": {
      "text/plain": [
       "array([0, 0, 0, 0, 0, 0, 0, 0, 0, 0, 0, 0, 0, 0, 0, 0, 0, 0, 0, 0, 0, 0,\n",
       "       0, 0, 0, 0, 0, 0, 0, 0, 0, 0, 0, 0, 0, 0, 0, 0, 0, 0, 0, 0, 0, 0,\n",
       "       0, 0, 0, 0, 0, 0, 2, 2, 2, 2, 2, 2, 2, 2, 2, 2, 2, 2, 2, 2, 2, 2,\n",
       "       2, 2, 2, 2, 2, 2, 2, 2, 2, 2, 2, 2, 2, 2, 2, 2, 2, 2, 2, 2, 2, 2,\n",
       "       2, 2, 2, 2, 2, 2, 2, 2, 2, 2, 2, 2])"
      ]
     },
     "execution_count": 32,
     "metadata": {},
     "output_type": "execute_result"
    }
   ],
   "source": [
    "X = iris.data[idx]\n",
    "y = iris.target[idx]"
   ]
  },
  {
   "cell_type": "code",
   "execution_count": 33,
   "id": "e3550ecf",
   "metadata": {},
   "outputs": [
    {
     "data": {
      "text/html": [
       "<style>#sk-container-id-2 {color: black;background-color: white;}#sk-container-id-2 pre{padding: 0;}#sk-container-id-2 div.sk-toggleable {background-color: white;}#sk-container-id-2 label.sk-toggleable__label {cursor: pointer;display: block;width: 100%;margin-bottom: 0;padding: 0.3em;box-sizing: border-box;text-align: center;}#sk-container-id-2 label.sk-toggleable__label-arrow:before {content: \"▸\";float: left;margin-right: 0.25em;color: #696969;}#sk-container-id-2 label.sk-toggleable__label-arrow:hover:before {color: black;}#sk-container-id-2 div.sk-estimator:hover label.sk-toggleable__label-arrow:before {color: black;}#sk-container-id-2 div.sk-toggleable__content {max-height: 0;max-width: 0;overflow: hidden;text-align: left;background-color: #f0f8ff;}#sk-container-id-2 div.sk-toggleable__content pre {margin: 0.2em;color: black;border-radius: 0.25em;background-color: #f0f8ff;}#sk-container-id-2 input.sk-toggleable__control:checked~div.sk-toggleable__content {max-height: 200px;max-width: 100%;overflow: auto;}#sk-container-id-2 input.sk-toggleable__control:checked~label.sk-toggleable__label-arrow:before {content: \"▾\";}#sk-container-id-2 div.sk-estimator input.sk-toggleable__control:checked~label.sk-toggleable__label {background-color: #d4ebff;}#sk-container-id-2 div.sk-label input.sk-toggleable__control:checked~label.sk-toggleable__label {background-color: #d4ebff;}#sk-container-id-2 input.sk-hidden--visually {border: 0;clip: rect(1px 1px 1px 1px);clip: rect(1px, 1px, 1px, 1px);height: 1px;margin: -1px;overflow: hidden;padding: 0;position: absolute;width: 1px;}#sk-container-id-2 div.sk-estimator {font-family: monospace;background-color: #f0f8ff;border: 1px dotted black;border-radius: 0.25em;box-sizing: border-box;margin-bottom: 0.5em;}#sk-container-id-2 div.sk-estimator:hover {background-color: #d4ebff;}#sk-container-id-2 div.sk-parallel-item::after {content: \"\";width: 100%;border-bottom: 1px solid gray;flex-grow: 1;}#sk-container-id-2 div.sk-label:hover label.sk-toggleable__label {background-color: #d4ebff;}#sk-container-id-2 div.sk-serial::before {content: \"\";position: absolute;border-left: 1px solid gray;box-sizing: border-box;top: 0;bottom: 0;left: 50%;z-index: 0;}#sk-container-id-2 div.sk-serial {display: flex;flex-direction: column;align-items: center;background-color: white;padding-right: 0.2em;padding-left: 0.2em;position: relative;}#sk-container-id-2 div.sk-item {position: relative;z-index: 1;}#sk-container-id-2 div.sk-parallel {display: flex;align-items: stretch;justify-content: center;background-color: white;position: relative;}#sk-container-id-2 div.sk-item::before, #sk-container-id-2 div.sk-parallel-item::before {content: \"\";position: absolute;border-left: 1px solid gray;box-sizing: border-box;top: 0;bottom: 0;left: 50%;z-index: -1;}#sk-container-id-2 div.sk-parallel-item {display: flex;flex-direction: column;z-index: 1;position: relative;background-color: white;}#sk-container-id-2 div.sk-parallel-item:first-child::after {align-self: flex-end;width: 50%;}#sk-container-id-2 div.sk-parallel-item:last-child::after {align-self: flex-start;width: 50%;}#sk-container-id-2 div.sk-parallel-item:only-child::after {width: 0;}#sk-container-id-2 div.sk-dashed-wrapped {border: 1px dashed gray;margin: 0 0.4em 0.5em 0.4em;box-sizing: border-box;padding-bottom: 0.4em;background-color: white;}#sk-container-id-2 div.sk-label label {font-family: monospace;font-weight: bold;display: inline-block;line-height: 1.2em;}#sk-container-id-2 div.sk-label-container {text-align: center;}#sk-container-id-2 div.sk-container {/* jupyter's `normalize.less` sets `[hidden] { display: none; }` but bootstrap.min.css set `[hidden] { display: none !important; }` so we also need the `!important` here to be able to override the default hidden behavior on the sphinx rendered scikit-learn.org. See: https://github.com/scikit-learn/scikit-learn/issues/21755 */display: inline-block !important;position: relative;}#sk-container-id-2 div.sk-text-repr-fallback {display: none;}</style><div id=\"sk-container-id-2\" class=\"sk-top-container\"><div class=\"sk-text-repr-fallback\"><pre>SVC()</pre><b>In a Jupyter environment, please rerun this cell to show the HTML representation or trust the notebook. <br />On GitHub, the HTML representation is unable to render, please try loading this page with nbviewer.org.</b></div><div class=\"sk-container\" hidden><div class=\"sk-item\"><div class=\"sk-estimator sk-toggleable\"><input class=\"sk-toggleable__control sk-hidden--visually\" id=\"sk-estimator-id-2\" type=\"checkbox\" checked><label for=\"sk-estimator-id-2\" class=\"sk-toggleable__label sk-toggleable__label-arrow\">SVC</label><div class=\"sk-toggleable__content\"><pre>SVC()</pre></div></div></div></div></div>"
      ],
      "text/plain": [
       "SVC()"
      ]
     },
     "execution_count": 33,
     "metadata": {},
     "output_type": "execute_result"
    }
   ],
   "source": [
    "from sklearn.svm import SVC\n",
    "model = SVC()\n",
    "model.fit(X,y)"
   ]
  },
  {
   "cell_type": "code",
   "execution_count": 34,
   "id": "b9abcb84",
   "metadata": {},
   "outputs": [
    {
     "data": {
      "text/html": [
       "<div>\n",
       "<style scoped>\n",
       "    .dataframe tbody tr th:only-of-type {\n",
       "        vertical-align: middle;\n",
       "    }\n",
       "\n",
       "    .dataframe tbody tr th {\n",
       "        vertical-align: top;\n",
       "    }\n",
       "\n",
       "    .dataframe thead th {\n",
       "        text-align: right;\n",
       "    }\n",
       "</style>\n",
       "<table border=\"1\" class=\"dataframe\">\n",
       "  <thead>\n",
       "    <tr style=\"text-align: right;\">\n",
       "      <th>col_0</th>\n",
       "      <th>0</th>\n",
       "      <th>2</th>\n",
       "    </tr>\n",
       "    <tr>\n",
       "      <th>row_0</th>\n",
       "      <th></th>\n",
       "      <th></th>\n",
       "    </tr>\n",
       "  </thead>\n",
       "  <tbody>\n",
       "    <tr>\n",
       "      <th>0</th>\n",
       "      <td>50</td>\n",
       "      <td>0</td>\n",
       "    </tr>\n",
       "    <tr>\n",
       "      <th>2</th>\n",
       "      <td>0</td>\n",
       "      <td>50</td>\n",
       "    </tr>\n",
       "  </tbody>\n",
       "</table>\n",
       "</div>"
      ],
      "text/plain": [
       "col_0   0   2\n",
       "row_0        \n",
       "0      50   0\n",
       "2       0  50"
      ]
     },
     "execution_count": 34,
     "metadata": {},
     "output_type": "execute_result"
    }
   ],
   "source": [
    "y_hat = model.predict(X)\n",
    "pd.crosstab(y,y_hat)"
   ]
  },
  {
   "cell_type": "code",
   "execution_count": 37,
   "id": "b6f1f71f",
   "metadata": {},
   "outputs": [
    {
     "data": {
      "text/plain": [
       "array([-1.14828042])"
      ]
     },
     "execution_count": 37,
     "metadata": {},
     "output_type": "execute_result"
    }
   ],
   "source": [
    "X[0]\n",
    "x = [[5.1, 3.5, 1.4, 0.2]]\n",
    "model.predict(x)\n",
    "model.decision_function(x) # 0이랑 가까이 있으면 근접하게 있다는것 (정확한 기준이 없음)"
   ]
  },
  {
   "cell_type": "markdown",
   "id": "1ddea291",
   "metadata": {},
   "source": [
    "## 5-2 퍼셉트론"
   ]
  },
  {
   "cell_type": "code",
   "execution_count": 39,
   "id": "cac4ced9",
   "metadata": {},
   "outputs": [],
   "source": [
    "from sklearn.linear_model import Perceptron\n",
    "model = Perceptron(max_iter=100,     # 학습횟수 epoch 100회\n",
    "                   eta0 = 0.1,        # learning rate\n",
    "                   random_state=1).fit(X,y)"
   ]
  },
  {
   "cell_type": "code",
   "execution_count": 40,
   "id": "32e83e54",
   "metadata": {},
   "outputs": [
    {
     "data": {
      "text/html": [
       "<div>\n",
       "<style scoped>\n",
       "    .dataframe tbody tr th:only-of-type {\n",
       "        vertical-align: middle;\n",
       "    }\n",
       "\n",
       "    .dataframe tbody tr th {\n",
       "        vertical-align: top;\n",
       "    }\n",
       "\n",
       "    .dataframe thead th {\n",
       "        text-align: right;\n",
       "    }\n",
       "</style>\n",
       "<table border=\"1\" class=\"dataframe\">\n",
       "  <thead>\n",
       "    <tr style=\"text-align: right;\">\n",
       "      <th>col_0</th>\n",
       "      <th>0</th>\n",
       "      <th>2</th>\n",
       "    </tr>\n",
       "    <tr>\n",
       "      <th>row_0</th>\n",
       "      <th></th>\n",
       "      <th></th>\n",
       "    </tr>\n",
       "  </thead>\n",
       "  <tbody>\n",
       "    <tr>\n",
       "      <th>0</th>\n",
       "      <td>50</td>\n",
       "      <td>0</td>\n",
       "    </tr>\n",
       "    <tr>\n",
       "      <th>2</th>\n",
       "      <td>0</td>\n",
       "      <td>50</td>\n",
       "    </tr>\n",
       "  </tbody>\n",
       "</table>\n",
       "</div>"
      ],
      "text/plain": [
       "col_0   0   2\n",
       "row_0        \n",
       "0      50   0\n",
       "2       0  50"
      ]
     },
     "execution_count": 40,
     "metadata": {},
     "output_type": "execute_result"
    }
   ],
   "source": [
    "y_hat = model.predict(X)\n",
    "pd.crosstab(y,y_hat)"
   ]
  },
  {
   "cell_type": "code",
   "execution_count": 41,
   "id": "c7746964",
   "metadata": {},
   "outputs": [
    {
     "data": {
      "text/plain": [
       "array([5.1, 3.5, 1.4, 0.2])"
      ]
     },
     "execution_count": 41,
     "metadata": {},
     "output_type": "execute_result"
    }
   ],
   "source": [
    "X[0]"
   ]
  },
  {
   "cell_type": "code",
   "execution_count": 45,
   "id": "f44dd3c4",
   "metadata": {},
   "outputs": [
    {
     "name": "stdout",
     "output_type": "stream",
     "text": [
      "예측값 : [0]\n",
      "판별함수 결과 : [-0.601]\n"
     ]
    }
   ],
   "source": [
    "x = [[5.1, 3.5, 1.4, 0.2]]\n",
    "pred = model.predict(x)\n",
    "df = model.decision_function(x)\n",
    "print('예측값 :', pred)\n",
    "print('판별함수 결과 :', df)"
   ]
  },
  {
   "cell_type": "markdown",
   "id": "5611ed72",
   "metadata": {},
   "source": [
    "##  5.3 다중퍼셉트론(인공신경망)\n",
    "- predict / decision_function / predict_proba / predict_log_proba"
   ]
  },
  {
   "cell_type": "code",
   "execution_count": 46,
   "id": "ed091013",
   "metadata": {},
   "outputs": [
    {
     "data": {
      "text/html": [
       "<div>\n",
       "<style scoped>\n",
       "    .dataframe tbody tr th:only-of-type {\n",
       "        vertical-align: middle;\n",
       "    }\n",
       "\n",
       "    .dataframe tbody tr th {\n",
       "        vertical-align: top;\n",
       "    }\n",
       "\n",
       "    .dataframe thead th {\n",
       "        text-align: right;\n",
       "    }\n",
       "</style>\n",
       "<table border=\"1\" class=\"dataframe\">\n",
       "  <thead>\n",
       "    <tr style=\"text-align: right;\">\n",
       "      <th>col_0</th>\n",
       "      <th>0</th>\n",
       "      <th>2</th>\n",
       "    </tr>\n",
       "    <tr>\n",
       "      <th>row_0</th>\n",
       "      <th></th>\n",
       "      <th></th>\n",
       "    </tr>\n",
       "  </thead>\n",
       "  <tbody>\n",
       "    <tr>\n",
       "      <th>0</th>\n",
       "      <td>50</td>\n",
       "      <td>0</td>\n",
       "    </tr>\n",
       "    <tr>\n",
       "      <th>2</th>\n",
       "      <td>0</td>\n",
       "      <td>50</td>\n",
       "    </tr>\n",
       "  </tbody>\n",
       "</table>\n",
       "</div>"
      ],
      "text/plain": [
       "col_0   0   2\n",
       "row_0        \n",
       "0      50   0\n",
       "2       0  50"
      ]
     },
     "execution_count": 46,
     "metadata": {},
     "output_type": "execute_result"
    }
   ],
   "source": [
    "from sklearn.neural_network import MLPClassifier\n",
    "mlp = MLPClassifier(hidden_layer_sizes=(50,50,30),\n",
    "                    max_iter=500,\n",
    "                    activation='relu')\n",
    "\n",
    "mlp.fit(X,y)\n",
    "y_hat = model.predict(X)\n",
    "pd.crosstab(y,y_hat)"
   ]
  },
  {
   "cell_type": "markdown",
   "id": "42660b3e",
   "metadata": {},
   "source": [
    "# 6절. 분류모형 성능평가\n",
    "- 혼동행렬(교차표)\n",
    "- score함수 : accuracy, recall, precision, f1score, fbeta_score\n",
    "- ROC커브 : roc커브 영역 확인 \n",
    "- ex. 두 모형이 혼동행렬이 같은 경우\n",
    "\n",
    "## 6-1 혼동행렬(교차표) "
   ]
  },
  {
   "cell_type": "code",
   "execution_count": 47,
   "id": "3673eb65",
   "metadata": {},
   "outputs": [
    {
     "data": {
      "text/plain": [
       "array([[2, 1, 0],\n",
       "       [1, 1, 1],\n",
       "       [0, 2, 1]], dtype=int64)"
      ]
     },
     "execution_count": 47,
     "metadata": {},
     "output_type": "execute_result"
    }
   ],
   "source": [
    "y_true = [1, 1, 0, 0, 2, 1, 0, 2, 2] # 실제값\n",
    "y_pred = [1, 2, 0, 1, 1, 0, 0, 2, 1] # 예측값\n",
    "from sklearn.metrics import confusion_matrix # 그룹이 2개일 때\n",
    "confusion_matrix(y_true, y_pred)"
   ]
  },
  {
   "cell_type": "code",
   "execution_count": 49,
   "id": "a4793f1c",
   "metadata": {},
   "outputs": [
    {
     "data": {
      "text/html": [
       "<div>\n",
       "<style scoped>\n",
       "    .dataframe tbody tr th:only-of-type {\n",
       "        vertical-align: middle;\n",
       "    }\n",
       "\n",
       "    .dataframe tbody tr th {\n",
       "        vertical-align: top;\n",
       "    }\n",
       "\n",
       "    .dataframe thead th {\n",
       "        text-align: right;\n",
       "    }\n",
       "</style>\n",
       "<table border=\"1\" class=\"dataframe\">\n",
       "  <thead>\n",
       "    <tr style=\"text-align: right;\">\n",
       "      <th>예측값</th>\n",
       "      <th>0</th>\n",
       "      <th>1</th>\n",
       "      <th>2</th>\n",
       "    </tr>\n",
       "    <tr>\n",
       "      <th>실제값</th>\n",
       "      <th></th>\n",
       "      <th></th>\n",
       "      <th></th>\n",
       "    </tr>\n",
       "  </thead>\n",
       "  <tbody>\n",
       "    <tr>\n",
       "      <th>0</th>\n",
       "      <td>2</td>\n",
       "      <td>1</td>\n",
       "      <td>0</td>\n",
       "    </tr>\n",
       "    <tr>\n",
       "      <th>1</th>\n",
       "      <td>1</td>\n",
       "      <td>1</td>\n",
       "      <td>1</td>\n",
       "    </tr>\n",
       "    <tr>\n",
       "      <th>2</th>\n",
       "      <td>0</td>\n",
       "      <td>2</td>\n",
       "      <td>1</td>\n",
       "    </tr>\n",
       "  </tbody>\n",
       "</table>\n",
       "</div>"
      ],
      "text/plain": [
       "예측값  0  1  2\n",
       "실제값         \n",
       "0    2  1  0\n",
       "1    1  1  1\n",
       "2    0  2  1"
      ]
     },
     "execution_count": 49,
     "metadata": {},
     "output_type": "execute_result"
    }
   ],
   "source": [
    "pd.crosstab(y_true,y_pred, colnames=['예측값'], rownames=['실제값']) # 그룹이 3개 이상일 때"
   ]
  },
  {
   "cell_type": "markdown",
   "id": "269c583a",
   "metadata": {},
   "source": [
    "## 6.2 혼동행렬을 이용한 평가 \n",
    "- 각종 score()함수"
   ]
  },
  {
   "cell_type": "code",
   "execution_count": 62,
   "id": "80c778d2",
   "metadata": {},
   "outputs": [
    {
     "data": {
      "text/html": [
       "<div>\n",
       "<style scoped>\n",
       "    .dataframe tbody tr th:only-of-type {\n",
       "        vertical-align: middle;\n",
       "    }\n",
       "\n",
       "    .dataframe tbody tr th {\n",
       "        vertical-align: top;\n",
       "    }\n",
       "\n",
       "    .dataframe thead th {\n",
       "        text-align: right;\n",
       "    }\n",
       "</style>\n",
       "<table border=\"1\" class=\"dataframe\">\n",
       "  <thead>\n",
       "    <tr style=\"text-align: right;\">\n",
       "      <th></th>\n",
       "      <th>CUST_ID</th>\n",
       "      <th>y_true</th>\n",
       "      <th>y_pred</th>\n",
       "    </tr>\n",
       "  </thead>\n",
       "  <tbody>\n",
       "    <tr>\n",
       "      <th>592</th>\n",
       "      <td>7167</td>\n",
       "      <td>1</td>\n",
       "      <td>0</td>\n",
       "    </tr>\n",
       "    <tr>\n",
       "      <th>1114</th>\n",
       "      <td>13740</td>\n",
       "      <td>1</td>\n",
       "      <td>1</td>\n",
       "    </tr>\n",
       "    <tr>\n",
       "      <th>49</th>\n",
       "      <td>585</td>\n",
       "      <td>0</td>\n",
       "      <td>0</td>\n",
       "    </tr>\n",
       "  </tbody>\n",
       "</table>\n",
       "</div>"
      ],
      "text/plain": [
       "      CUST_ID  y_true  y_pred\n",
       "592      7167       1       0\n",
       "1114    13740       1       1\n",
       "49        585       0       0"
      ]
     },
     "execution_count": 62,
     "metadata": {},
     "output_type": "execute_result"
    }
   ],
   "source": [
    "result = pd.read_csv('data/model_result.csv') # 보험사기자 실제값, 예측값 \n",
    "result.isna().sum() # 결측치 없음\n",
    "result.sample(3)"
   ]
  },
  {
   "cell_type": "code",
   "execution_count": 63,
   "id": "b5c13bd0",
   "metadata": {},
   "outputs": [
    {
     "data": {
      "text/plain": [
       "CUST_ID    0\n",
       "y_true     0\n",
       "y_pred     0\n",
       "dtype: int64"
      ]
     },
     "execution_count": 63,
     "metadata": {},
     "output_type": "execute_result"
    }
   ],
   "source": [
    "result.isnull().sum() # 결측치 갯수 : 없음"
   ]
  },
  {
   "cell_type": "code",
   "execution_count": 64,
   "id": "2516ce1f",
   "metadata": {},
   "outputs": [
    {
     "data": {
      "text/plain": [
       "(1793, 3)"
      ]
     },
     "execution_count": 64,
     "metadata": {},
     "output_type": "execute_result"
    }
   ],
   "source": [
    "result.shape"
   ]
  },
  {
   "cell_type": "code",
   "execution_count": 67,
   "id": "7c4f4921",
   "metadata": {},
   "outputs": [
    {
     "data": {
      "text/plain": [
       "0    1635\n",
       "1     158\n",
       "Name: y_true, dtype: int64"
      ]
     },
     "execution_count": 67,
     "metadata": {},
     "output_type": "execute_result"
    }
   ],
   "source": [
    "result['y_true'].value_countss()"
   ]
  },
  {
   "cell_type": "code",
   "execution_count": 74,
   "id": "dc41cc42",
   "metadata": {},
   "outputs": [
    {
     "data": {
      "text/html": [
       "<div>\n",
       "<style scoped>\n",
       "    .dataframe tbody tr th:only-of-type {\n",
       "        vertical-align: middle;\n",
       "    }\n",
       "\n",
       "    .dataframe tbody tr th {\n",
       "        vertical-align: top;\n",
       "    }\n",
       "\n",
       "    .dataframe thead th {\n",
       "        text-align: right;\n",
       "    }\n",
       "</style>\n",
       "<table border=\"1\" class=\"dataframe\">\n",
       "  <thead>\n",
       "    <tr style=\"text-align: right;\">\n",
       "      <th>예측값</th>\n",
       "      <th>0</th>\n",
       "      <th>1</th>\n",
       "      <th>All</th>\n",
       "    </tr>\n",
       "    <tr>\n",
       "      <th>실제값</th>\n",
       "      <th></th>\n",
       "      <th></th>\n",
       "      <th></th>\n",
       "    </tr>\n",
       "  </thead>\n",
       "  <tbody>\n",
       "    <tr>\n",
       "      <th>0</th>\n",
       "      <td>1613</td>\n",
       "      <td>22</td>\n",
       "      <td>1635</td>\n",
       "    </tr>\n",
       "    <tr>\n",
       "      <th>1</th>\n",
       "      <td>81</td>\n",
       "      <td>77</td>\n",
       "      <td>158</td>\n",
       "    </tr>\n",
       "    <tr>\n",
       "      <th>All</th>\n",
       "      <td>1694</td>\n",
       "      <td>99</td>\n",
       "      <td>1793</td>\n",
       "    </tr>\n",
       "  </tbody>\n",
       "</table>\n",
       "</div>"
      ],
      "text/plain": [
       "예측값     0   1   All\n",
       "실제값                \n",
       "0    1613  22  1635\n",
       "1      81  77   158\n",
       "All  1694  99  1793"
      ]
     },
     "execution_count": 74,
     "metadata": {},
     "output_type": "execute_result"
    }
   ],
   "source": [
    "pd.crosstab(result.y_true, result.y_pred,\n",
    "             margins=True,\n",
    "             rownames=['실제값'],\n",
    "             colnames=['예측값'])"
   ]
  },
  {
   "cell_type": "code",
   "execution_count": 71,
   "id": "204f866a",
   "metadata": {},
   "outputs": [
    {
     "data": {
      "text/plain": [
       "0.9425543781372002"
      ]
     },
     "execution_count": 71,
     "metadata": {},
     "output_type": "execute_result"
    }
   ],
   "source": [
    "from sklearn.metrics import accuracy_score,recall_score,precision_score, f1_score,fbeta_score\n",
    "# 정확도(accuracy) : 전체중에서 맞게 예측한 확률 \n",
    "accuracy_score(result.y_true, result.y_pred)"
   ]
  },
  {
   "cell_type": "code",
   "execution_count": 72,
   "id": "3d16bd8a",
   "metadata": {},
   "outputs": [
    {
     "data": {
      "text/plain": [
       "0.7777777777777778"
      ]
     },
     "execution_count": 72,
     "metadata": {},
     "output_type": "execute_result"
    }
   ],
   "source": [
    "# 정밀도(precision) : positive로 예측한 것중에 맞게 예측한 확률\n",
    "precision_score(result.y_true,result.y_pred)"
   ]
  },
  {
   "cell_type": "code",
   "execution_count": 73,
   "id": "33b940af",
   "metadata": {},
   "outputs": [
    {
     "data": {
      "text/plain": [
       "0.4873417721518987"
      ]
     },
     "execution_count": 73,
     "metadata": {},
     "output_type": "execute_result"
    }
   ],
   "source": [
    "# 재현율(recall) : 실제 positive 중 맞게 예측한 확률\n",
    "recall_score(result.y_true,result.y_pred)"
   ]
  },
  {
   "cell_type": "code",
   "execution_count": 75,
   "id": "e3341086",
   "metadata": {},
   "outputs": [
    {
     "data": {
      "text/plain": [
       "0.9865443425076452"
      ]
     },
     "execution_count": 75,
     "metadata": {},
     "output_type": "execute_result"
    }
   ],
   "source": [
    "# 특이도(specificity) : 실제 negative 중 맞게 예측한 확률\n",
    "recall_score(result.y_true,result.y_pred, pos_label=0)"
   ]
  },
  {
   "cell_type": "code",
   "execution_count": null,
   "id": "a85a8d81",
   "metadata": {},
   "outputs": [],
   "source": [
    "# 위양성율(fprate) : FN / (TN+FP) : 실제 negative인데 positive로 예측한 확률\n",
    "# 함수 없음"
   ]
  },
  {
   "cell_type": "code",
   "execution_count": 76,
   "id": "c5566fc7",
   "metadata": {},
   "outputs": [
    {
     "data": {
      "text/plain": [
       "0.5992217898832685"
      ]
     },
     "execution_count": 76,
     "metadata": {},
     "output_type": "execute_result"
    }
   ],
   "source": [
    "# f1 score : recall과 precision 조화평균\n",
    "f1_score(result.y_true, result.y_pred)"
   ]
  },
  {
   "cell_type": "code",
   "execution_count": 78,
   "id": "0df27a8d",
   "metadata": {},
   "outputs": [
    {
     "data": {
      "text/plain": [
       "0.5992217898832685"
      ]
     },
     "execution_count": 78,
     "metadata": {},
     "output_type": "execute_result"
    }
   ],
   "source": [
    "# beta=1 : f1_score - recall과 precision의 비중을 동일하게(같게) \n",
    "fbeta_score(result.y_true,result.y_pred, beta=1)"
   ]
  },
  {
   "cell_type": "code",
   "execution_count": 79,
   "id": "2b2dcb2a",
   "metadata": {},
   "outputs": [
    {
     "data": {
      "text/plain": [
       "0.5266757865937073"
      ]
     },
     "execution_count": 79,
     "metadata": {},
     "output_type": "execute_result"
    }
   ],
   "source": [
    "# beta=2 : recall의 가중치를 높게 precision의 비중을 낮게 \n",
    "fbeta_score(result.y_true,result.y_pred,beta=2)"
   ]
  },
  {
   "cell_type": "markdown",
   "id": "745a4b35",
   "metadata": {},
   "source": [
    "## 6-3 ROC커브를 이용한 성능 비교\n",
    "- ROC그래프의 가로축 위양성율(fprate : False Positive rate), 세로축 recall값\n",
    "    * AUC "
   ]
  },
  {
   "cell_type": "code",
   "execution_count": 81,
   "id": "21e7b17b",
   "metadata": {},
   "outputs": [
    {
     "data": {
      "text/plain": [
       "((1000, 20), (1000,))"
      ]
     },
     "execution_count": 81,
     "metadata": {},
     "output_type": "execute_result"
    }
   ],
   "source": [
    "from sklearn.datasets import make_classification\n",
    "X,y = make_classification(weights=[0.95,0.05], # 0:95%, 1:5%\n",
    "                          n_samples=1000,\n",
    "                          random_state=5)\n",
    "X.shape,y.shape"
   ]
  },
  {
   "cell_type": "code",
   "execution_count": 83,
   "id": "326e5286",
   "metadata": {},
   "outputs": [
    {
     "data": {
      "text/plain": [
       "(array([0, 1]), 0.057)"
      ]
     },
     "execution_count": 83,
     "metadata": {},
     "output_type": "execute_result"
    }
   ],
   "source": [
    "import numpy as np\n",
    "np.unique(y), y.mean()"
   ]
  },
  {
   "cell_type": "code",
   "execution_count": 89,
   "id": "bf839ed2",
   "metadata": {},
   "outputs": [
    {
     "data": {
      "text/plain": [
       "<matplotlib.collections.PathCollection at 0x1f192d2bb20>"
      ]
     },
     "execution_count": 89,
     "metadata": {},
     "output_type": "execute_result"
    },
    {
     "data": {
      "image/png": "[encoded data removed]",
      "text/plain": [
       "<Figure size 1500x500 with 1 Axes>"
      ]
     },
     "metadata": {},
     "output_type": "display_data"
    }
   ],
   "source": [
    "import matplotlib.pyplot as plt\n",
    "plt.figure(figsize=(15,5))\n",
    "plt.scatter(X[:,0], X[:,1], c=y, s=12)"
   ]
  },
  {
   "cell_type": "code",
   "execution_count": 90,
   "id": "8bfa7ef9",
   "metadata": {},
   "outputs": [
    {
     "data": {
      "text/html": [
       "<style>#sk-container-id-3 {color: black;background-color: white;}#sk-container-id-3 pre{padding: 0;}#sk-container-id-3 div.sk-toggleable {background-color: white;}#sk-container-id-3 label.sk-toggleable__label {cursor: pointer;display: block;width: 100%;margin-bottom: 0;padding: 0.3em;box-sizing: border-box;text-align: center;}#sk-container-id-3 label.sk-toggleable__label-arrow:before {content: \"▸\";float: left;margin-right: 0.25em;color: #696969;}#sk-container-id-3 label.sk-toggleable__label-arrow:hover:before {color: black;}#sk-container-id-3 div.sk-estimator:hover label.sk-toggleable__label-arrow:before {color: black;}#sk-container-id-3 div.sk-toggleable__content {max-height: 0;max-width: 0;overflow: hidden;text-align: left;background-color: #f0f8ff;}#sk-container-id-3 div.sk-toggleable__content pre {margin: 0.2em;color: black;border-radius: 0.25em;background-color: #f0f8ff;}#sk-container-id-3 input.sk-toggleable__control:checked~div.sk-toggleable__content {max-height: 200px;max-width: 100%;overflow: auto;}#sk-container-id-3 input.sk-toggleable__control:checked~label.sk-toggleable__label-arrow:before {content: \"▾\";}#sk-container-id-3 div.sk-estimator input.sk-toggleable__control:checked~label.sk-toggleable__label {background-color: #d4ebff;}#sk-container-id-3 div.sk-label input.sk-toggleable__control:checked~label.sk-toggleable__label {background-color: #d4ebff;}#sk-container-id-3 input.sk-hidden--visually {border: 0;clip: rect(1px 1px 1px 1px);clip: rect(1px, 1px, 1px, 1px);height: 1px;margin: -1px;overflow: hidden;padding: 0;position: absolute;width: 1px;}#sk-container-id-3 div.sk-estimator {font-family: monospace;background-color: #f0f8ff;border: 1px dotted black;border-radius: 0.25em;box-sizing: border-box;margin-bottom: 0.5em;}#sk-container-id-3 div.sk-estimator:hover {background-color: #d4ebff;}#sk-container-id-3 div.sk-parallel-item::after {content: \"\";width: 100%;border-bottom: 1px solid gray;flex-grow: 1;}#sk-container-id-3 div.sk-label:hover label.sk-toggleable__label {background-color: #d4ebff;}#sk-container-id-3 div.sk-serial::before {content: \"\";position: absolute;border-left: 1px solid gray;box-sizing: border-box;top: 0;bottom: 0;left: 50%;z-index: 0;}#sk-container-id-3 div.sk-serial {display: flex;flex-direction: column;align-items: center;background-color: white;padding-right: 0.2em;padding-left: 0.2em;position: relative;}#sk-container-id-3 div.sk-item {position: relative;z-index: 1;}#sk-container-id-3 div.sk-parallel {display: flex;align-items: stretch;justify-content: center;background-color: white;position: relative;}#sk-container-id-3 div.sk-item::before, #sk-container-id-3 div.sk-parallel-item::before {content: \"\";position: absolute;border-left: 1px solid gray;box-sizing: border-box;top: 0;bottom: 0;left: 50%;z-index: -1;}#sk-container-id-3 div.sk-parallel-item {display: flex;flex-direction: column;z-index: 1;position: relative;background-color: white;}#sk-container-id-3 div.sk-parallel-item:first-child::after {align-self: flex-end;width: 50%;}#sk-container-id-3 div.sk-parallel-item:last-child::after {align-self: flex-start;width: 50%;}#sk-container-id-3 div.sk-parallel-item:only-child::after {width: 0;}#sk-container-id-3 div.sk-dashed-wrapped {border: 1px dashed gray;margin: 0 0.4em 0.5em 0.4em;box-sizing: border-box;padding-bottom: 0.4em;background-color: white;}#sk-container-id-3 div.sk-label label {font-family: monospace;font-weight: bold;display: inline-block;line-height: 1.2em;}#sk-container-id-3 div.sk-label-container {text-align: center;}#sk-container-id-3 div.sk-container {/* jupyter's `normalize.less` sets `[hidden] { display: none; }` but bootstrap.min.css set `[hidden] { display: none !important; }` so we also need the `!important` here to be able to override the default hidden behavior on the sphinx rendered scikit-learn.org. See: https://github.com/scikit-learn/scikit-learn/issues/21755 */display: inline-block !important;position: relative;}#sk-container-id-3 div.sk-text-repr-fallback {display: none;}</style><div id=\"sk-container-id-3\" class=\"sk-top-container\"><div class=\"sk-text-repr-fallback\"><pre>LogisticRegression(random_state=0)</pre><b>In a Jupyter environment, please rerun this cell to show the HTML representation or trust the notebook. <br />On GitHub, the HTML representation is unable to render, please try loading this page with nbviewer.org.</b></div><div class=\"sk-container\" hidden><div class=\"sk-item\"><div class=\"sk-estimator sk-toggleable\"><input class=\"sk-toggleable__control sk-hidden--visually\" id=\"sk-estimator-id-3\" type=\"checkbox\" checked><label for=\"sk-estimator-id-3\" class=\"sk-toggleable__label sk-toggleable__label-arrow\">LogisticRegression</label><div class=\"sk-toggleable__content\"><pre>LogisticRegression(random_state=0)</pre></div></div></div></div></div>"
      ],
      "text/plain": [
       "LogisticRegression(random_state=0)"
      ]
     },
     "execution_count": 90,
     "metadata": {},
     "output_type": "execute_result"
    }
   ],
   "source": [
    "from sklearn.linear_model import LogisticRegression\n",
    "model = LogisticRegression(random_state=0)\n",
    "model.fit(X,y)"
   ]
  },
  {
   "cell_type": "code",
   "execution_count": 95,
   "id": "f3f7ca01",
   "metadata": {},
   "outputs": [
    {
     "data": {
      "image/png": "[encoded data removed]",
      "text/plain": [
       "<Figure size 800x400 with 1 Axes>"
      ]
     },
     "metadata": {},
     "output_type": "display_data"
    }
   ],
   "source": [
    "from sklearn.metrics import roc_curve\n",
    "fpr, tpr, thr = roc_curve(y, model.decision_function(X))\n",
    "plt.figure(figsize=(8,4))\n",
    "plt.plot(fpr,tpr)\n",
    "plt.xlabel('false positive rate')\n",
    "plt.ylabel('recall')\n",
    "plt.show()"
   ]
  },
  {
   "cell_type": "code",
   "execution_count": 110,
   "id": "abeda510",
   "metadata": {
    "collapsed": true
   },
   "outputs": [
    {
     "data": {
      "text/plain": [
       "array([0.99628434, 0.97323269, 0.9750936 , 0.40736981, 0.99676474,\n",
       "       0.99907912, 0.95605679, 0.98897531, 0.997277  , 0.99823221,\n",
       "       0.99992109, 0.86488767, 0.99444394, 0.98282655, 0.99972998,\n",
       "       0.99907334, 0.99557039, 0.40385965, 0.98142026, 0.98109453,\n",
       "       0.95088638, 0.99271028, 0.00460503, 0.99440571, 0.8982954 ,\n",
       "       0.994938  , 0.9993128 , 0.94738567, 0.99043879, 0.97455831,\n",
       "       0.98431337, 0.94680097, 0.24991648, 0.99994619, 0.9900966 ,\n",
       "       0.99942128, 0.99033411, 0.3555668 , 0.96842653, 0.9823801 ,\n",
       "       0.094192  , 0.99380048, 0.99853138, 0.98008404, 0.99978619,\n",
       "       0.99996174, 0.98907191, 0.95818715, 0.68977981, 0.99244734,\n",
       "       0.36116666, 0.97680031, 0.97586748, 0.95737591, 0.97505868,\n",
       "       0.99885975, 0.99420032, 0.77393346, 0.99321156, 0.99709318,\n",
       "       0.99608933, 0.43584386, 0.995143  , 0.99961568, 0.95012941,\n",
       "       0.96617013, 0.9971345 , 0.98380019, 0.02677949, 0.99915029,\n",
       "       0.9558097 , 0.995879  , 0.97809642, 0.99052482, 0.99938698,\n",
       "       0.99349286, 0.99797308, 0.96363224, 0.97985686, 0.99195399,\n",
       "       0.97278514, 0.99591198, 0.97987685, 0.25976846, 0.97605719,\n",
       "       0.99782899, 0.99646619, 0.99524788, 0.99805212, 0.73708816,\n",
       "       0.98682845, 0.99687964, 0.99666641, 0.99752647, 0.99275128,\n",
       "       0.99579237, 0.91392882, 0.99440744, 0.997932  , 0.81290584,\n",
       "       0.9606017 , 0.71133465, 0.99686841, 0.98971836, 0.99999153,\n",
       "       0.93397434, 0.97761903, 0.98122593, 0.99996502, 0.60608905,\n",
       "       0.97926883, 0.94761038, 0.51556601, 0.98652903, 0.99920128,\n",
       "       0.99931516, 0.99576162, 0.99590215, 0.97298283, 0.88938306,\n",
       "       0.99839545, 0.99984851, 0.96787104, 0.98961269, 0.97428476,\n",
       "       0.99880499, 0.99329515, 0.99443396, 0.96165832, 0.97734202,\n",
       "       0.99977593, 0.99869631, 0.99890072, 0.99512733, 0.11602384,\n",
       "       0.99182703, 0.99808018, 0.96815062, 0.9892668 , 0.99950382,\n",
       "       0.99892171, 0.98309158, 0.99859872, 0.84326846, 0.99571868,\n",
       "       0.99806499, 0.99202863, 0.83348553, 0.93635966, 0.86536909,\n",
       "       0.85844902, 0.99883433, 0.99984128, 0.994576  , 0.97229429,\n",
       "       0.9934381 , 0.95095631, 0.9348879 , 0.99354969, 0.98025719,\n",
       "       0.02885759, 0.99488002, 0.9999717 , 0.45753521, 0.08341192,\n",
       "       0.96338189, 0.99903982, 0.96702351, 0.99004718, 0.993805  ,\n",
       "       0.9998169 , 0.90386534, 0.96376824, 0.98539852, 0.99424493,\n",
       "       0.82808197, 0.97569728, 0.98354053, 0.97368402, 0.998894  ,\n",
       "       0.99606967, 0.97119876, 0.98783354, 0.99675064, 0.62512776,\n",
       "       0.99350898, 0.75483026, 0.974713  , 0.95365946, 0.98723287,\n",
       "       0.96533662, 0.93074125, 0.99234798, 0.99861751, 0.98132312,\n",
       "       0.99253815, 0.84935796, 0.45129402, 0.97670786, 0.98783263,\n",
       "       0.97232539, 0.93961399, 0.72806953, 0.99353049, 0.61307235,\n",
       "       0.97964801, 0.98391981, 0.67610531, 0.93739618, 0.9982384 ,\n",
       "       0.99913439, 0.99893011, 0.99999308, 0.93684225, 0.99891322,\n",
       "       0.99171375, 0.97188647, 0.99112532, 0.97172831, 0.99840764,\n",
       "       0.99128852, 0.99574816, 0.94869012, 0.88028464, 0.99988203,\n",
       "       0.98622866, 0.98823891, 0.99302116, 0.96952192, 0.99990457,\n",
       "       0.99596061, 0.9700549 , 0.83225953, 0.26404402, 0.99911538,\n",
       "       0.97971906, 0.96451189, 0.9941814 , 0.99992494, 0.98193869,\n",
       "       0.98687963, 0.84548825, 0.99789207, 0.99681122, 0.95001888,\n",
       "       0.99521765, 0.98545327, 0.99592297, 0.98152481, 0.99437158,\n",
       "       0.98514896, 0.99917716, 0.99997855, 0.99134979, 0.98817877,\n",
       "       0.99244325, 0.99543835, 0.98167007, 0.98929918, 0.99382195,\n",
       "       0.99624082, 0.99319436, 0.98384515, 0.99740848, 0.99903466,\n",
       "       0.9963916 , 0.93383552, 0.99518366, 0.97991516, 0.9890517 ,\n",
       "       0.99949921, 0.89005055, 0.9620189 , 0.97770471, 0.96161594,\n",
       "       0.99326474, 0.76526001, 0.99736348, 0.98368101, 0.98382297,\n",
       "       0.87958736, 0.99794069, 0.99439016, 0.88997357, 0.97525103,\n",
       "       0.97417863, 0.99797333, 0.99783194, 0.99502366, 0.99624501,\n",
       "       0.9998951 , 0.99713435, 0.99753665, 0.99819246, 0.99114381,\n",
       "       0.99262508, 0.9820214 , 0.99173702, 0.98042623, 0.99249603,\n",
       "       0.99049279, 0.98030733, 0.97532355, 0.99727423, 0.94502654,\n",
       "       0.98871958, 0.93053253, 0.99857172, 0.99414809, 0.98605719,\n",
       "       0.98758697, 0.87870945, 0.91110507, 0.99490755, 0.99280051,\n",
       "       0.91678161, 0.99868774, 0.99649682, 0.99960855, 0.99999795,\n",
       "       0.97002322, 0.99913003, 0.90965908, 0.99989847, 0.99751339,\n",
       "       0.98618723, 0.63445184, 0.69290963, 0.98319185, 0.97089202,\n",
       "       0.99844223, 0.98389442, 0.99885114, 0.97241162, 0.98298812,\n",
       "       0.99614195, 0.99983078, 0.82188031, 0.9957959 , 0.99576038,\n",
       "       0.99177425, 0.98630125, 0.99812494, 0.99374059, 0.99247737,\n",
       "       0.9769021 , 0.98089132, 0.96944967, 0.99339759, 0.99470616,\n",
       "       0.99830694, 0.9437784 , 0.93772274, 0.99543479, 0.99465531,\n",
       "       0.99998845, 0.9930673 , 0.99263544, 0.9996616 , 0.98587129,\n",
       "       0.99949404, 0.93938206, 0.98564675, 0.99832999, 0.99936249,\n",
       "       0.99873429, 0.99531958, 0.99938093, 0.97413448, 0.97994306,\n",
       "       0.95842031, 0.91556399, 0.97916414, 0.99346365, 0.99639416,\n",
       "       0.96568385, 0.47084942, 0.99964032, 0.99391397, 0.68314257,\n",
       "       0.97170344, 0.99992294, 0.98585772, 0.99787944, 0.96471559,\n",
       "       0.99785632, 0.96900041, 0.99705216, 0.98996937, 0.99238408,\n",
       "       0.98592034, 0.99296915, 0.99614895, 0.986719  , 0.95321442,\n",
       "       0.99591977, 0.99977122, 0.98010681, 0.98540812, 0.99901067,\n",
       "       0.98969306, 0.9667515 , 0.9482926 , 0.99057446, 0.9923943 ,\n",
       "       0.84317782, 0.99429804, 0.98584423, 0.9955844 , 0.99022351,\n",
       "       0.99825205, 0.98373466, 0.99906562, 0.98020284, 0.98798045,\n",
       "       0.99866895, 0.99379479, 0.99476999, 0.99558781, 0.98654847,\n",
       "       0.9924068 , 0.98742636, 0.9867418 , 0.85596943, 0.9986662 ,\n",
       "       0.99538826, 0.98312449, 0.9747663 , 0.99364693, 0.99775988,\n",
       "       0.78924135, 0.99928425, 0.98562757, 0.99346769, 0.99877911,\n",
       "       0.99483615, 0.99586046, 0.70032638, 0.95904008, 0.96667744,\n",
       "       0.58516587, 0.99800449, 0.98779954, 0.9841346 , 0.99580722,\n",
       "       0.91106173, 0.99794434, 0.9429648 , 0.6514524 , 0.99293806,\n",
       "       0.99995061, 0.98902569, 0.99794286, 0.98327705, 0.98387726,\n",
       "       0.9822643 , 0.99978201, 0.95347061, 0.99607226, 0.92450655,\n",
       "       0.9912413 , 0.99098615, 0.99991566, 0.99537034, 0.99660584,\n",
       "       0.99531226, 0.80824098, 0.99463194, 0.99580402, 0.9972674 ,\n",
       "       0.98684071, 0.98945167, 0.99094701, 0.9884173 , 0.98185093,\n",
       "       0.9858817 , 0.98412106, 0.97950182, 0.97580416, 0.99807887,\n",
       "       0.99004228, 0.99508069, 0.95392111, 0.99637081, 0.99806155,\n",
       "       0.93661855, 0.96984088, 0.99409431, 0.93086239, 0.99980133,\n",
       "       0.99412327, 0.98800035, 0.97702653, 0.99384063, 0.99886583,\n",
       "       0.99246115, 0.97799998, 0.99944114, 0.92846995, 0.99836672,\n",
       "       0.99826407, 0.95565488, 0.97272339, 0.99540354, 0.99291786,\n",
       "       0.99193177, 0.87205432, 0.99784974, 0.60803593, 0.98740881,\n",
       "       0.99801038, 0.99168237, 0.99912681, 0.99691436, 0.99635878,\n",
       "       0.9997648 , 0.98627115, 0.99551432, 0.93391639, 0.95015847,\n",
       "       0.97428761, 0.99473936, 0.9674299 , 0.98510625, 0.91516319,\n",
       "       0.79358141, 0.99918518, 0.99195662, 0.99996523, 0.95241926,\n",
       "       0.98806502, 0.99711278, 0.98464949, 0.95913383, 0.9920442 ,\n",
       "       0.98566201, 0.99992884, 0.98780268, 0.98952066, 0.96238368,\n",
       "       0.99872831, 0.99378655, 0.99661794, 0.98402086, 0.99165263,\n",
       "       0.94209219, 0.94372354, 0.99265671, 0.99536132, 0.98796288,\n",
       "       0.98276111, 0.98822468, 0.47341254, 0.99568084, 0.97657764,\n",
       "       0.43429138, 0.99513837, 0.96389735, 0.98746305, 0.97898422,\n",
       "       0.99940592, 0.98966572, 0.9818117 , 0.24860057, 0.99918578,\n",
       "       0.63711054, 0.94603265, 0.55651653, 0.98272117, 0.99545129,\n",
       "       0.99941373, 0.99031202, 0.98686469, 0.99357918, 0.99850203,\n",
       "       0.43878085, 0.9993392 , 0.77143257, 0.99928302, 0.99921858,\n",
       "       0.9841769 , 0.98844485, 0.98985278, 0.9842951 , 0.99087305,\n",
       "       0.96870767, 0.9497289 , 0.99954873, 0.89011629, 0.9940165 ,\n",
       "       0.98290956, 0.98982   , 0.96801046, 0.98706653, 0.94631347,\n",
       "       0.99201213, 0.9995576 , 0.98791264, 0.73590348, 0.98650434,\n",
       "       0.96323863, 0.98914519, 0.99480347, 0.99700625, 0.99916315,\n",
       "       0.95059938, 0.99984657, 0.98048884, 0.99900851, 0.58767698,\n",
       "       0.99400558, 0.9657905 , 0.98783533, 0.98912365, 0.98487622,\n",
       "       0.97490282, 0.99106082, 0.95946602, 0.99052768, 0.99925267,\n",
       "       0.92925347, 0.99384417, 0.99290438, 0.99545402, 0.99939847,\n",
       "       0.99982541, 0.99715961, 0.99930272, 0.9572701 , 0.98385641,\n",
       "       0.95418961, 0.99969774, 0.94961163, 0.96286112, 0.9793992 ,\n",
       "       0.99314269, 0.99984504, 0.90198906, 0.99193035, 0.99991763,\n",
       "       0.98028762, 0.99906525, 0.93146128, 0.96886997, 0.93157602,\n",
       "       0.98189381, 0.99492553, 0.98008507, 0.99875809, 0.99916127,\n",
       "       0.9937378 , 0.98797807, 0.99731277, 0.94495685, 0.99570205,\n",
       "       0.99705263, 0.99558249, 0.98674144, 0.94143256, 0.99853866,\n",
       "       0.98748232, 0.98098122, 0.99671908, 0.99190398, 0.98073008,\n",
       "       0.97942731, 0.26093068, 0.94954841, 0.99057275, 0.99474431,\n",
       "       0.9984522 , 0.99804127, 0.99945983, 0.98765132, 0.99967307,\n",
       "       0.99245578, 0.97321115, 0.89129127, 0.9240872 , 0.94913851,\n",
       "       0.9834145 , 0.96280098, 0.99758664, 0.8149601 , 0.98645171,\n",
       "       0.99915993, 0.99933622, 0.99581929, 0.98632774, 0.98328676,\n",
       "       0.98124654, 0.99904572, 0.99530906, 0.94706676, 0.99688086,\n",
       "       0.99067359, 0.99605508, 0.99381252, 0.95641743, 0.94331766,\n",
       "       0.98085844, 0.17631662, 0.96103392, 0.71306929, 0.9746632 ,\n",
       "       0.98503885, 0.96784147, 0.99799918, 0.90894047, 0.99837322,\n",
       "       0.99576679, 0.99993581, 0.98293659, 0.23315641, 0.99420121,\n",
       "       0.99981894, 0.99444476, 0.99592301, 0.99767873, 0.8620894 ,\n",
       "       0.96654315, 0.78121455, 0.98966692, 0.99752034, 0.97269652,\n",
       "       0.66100945, 0.99842774, 0.97600067, 0.99660305, 0.58733678,\n",
       "       0.99211971, 0.9877965 , 0.92982977, 0.98614647, 0.99998131,\n",
       "       0.98233966, 0.9927743 , 0.97672855, 0.97925485, 0.98599334,\n",
       "       0.98796616, 0.99983713, 0.99982648, 0.99363864, 0.98224987,\n",
       "       0.98485894, 0.96629285, 0.9968592 , 0.97469863, 0.26711773,\n",
       "       0.98639188, 0.99908237, 0.88791112, 0.98362925, 0.98813501,\n",
       "       0.95407473, 0.82664526, 0.99421827, 0.98494343, 0.99584579,\n",
       "       0.9941339 , 0.99719603, 0.97932872, 0.99587638, 0.99967814,\n",
       "       0.99918985, 0.98422172, 0.91859507, 0.98350382, 0.83829426,\n",
       "       0.96152915, 0.99991957, 0.99960502, 0.99421924, 0.89671592,\n",
       "       0.60458899, 0.98185055, 0.99305482, 0.97775607, 0.99466535,\n",
       "       0.99615359, 0.99976764, 0.98895776, 0.99928883, 0.99869081,\n",
       "       0.91813373, 0.98718795, 0.99800354, 0.99514813, 0.97728361,\n",
       "       0.62379104, 0.99972925, 0.9763006 , 0.74157607, 0.98208117,\n",
       "       0.93285275, 0.98893157, 0.99247519, 0.95162935, 0.14494982,\n",
       "       0.85496952, 0.98670373, 0.94682261, 0.99616753, 0.95639507,\n",
       "       0.46158371, 0.99951009, 0.97701264, 0.97646486, 0.99031037,\n",
       "       0.99809599, 0.9922763 , 0.99954362, 0.62737998, 0.99617107,\n",
       "       0.96826131, 0.90176999, 0.19294468, 0.99590954, 0.98563114,\n",
       "       0.9987621 , 0.90905069, 0.98016851, 0.8086256 , 0.99059686,\n",
       "       0.99233403, 0.99881003, 0.99947486, 0.99988035, 0.92177247,\n",
       "       0.9652023 , 0.79141562, 0.91147264, 0.99189542, 0.99954137,\n",
       "       0.9997838 , 0.90715621, 0.79006737, 0.98909833, 0.99825255,\n",
       "       0.96535616, 0.96425491, 0.55491756, 0.94138963, 0.94389573,\n",
       "       0.97909827, 0.99801201, 0.92857439, 0.9582392 , 0.96984234,\n",
       "       0.93867935, 0.99930254, 0.99034551, 0.99825452, 0.94271454,\n",
       "       0.99720144, 0.98904148, 0.89865897, 0.99541247, 0.99555119,\n",
       "       0.99984235, 0.99484507, 0.99457902, 0.94311049, 0.98502696,\n",
       "       0.99970375, 0.99149289, 0.97198486, 0.98535662, 0.98104702,\n",
       "       0.99775249, 0.97062816, 0.85578739, 0.99415943, 0.98536228,\n",
       "       0.96505127, 0.96434571, 0.98837331, 0.96206326, 0.99790721,\n",
       "       0.99957389, 0.97243309, 0.99629804, 0.83738412, 0.97328772,\n",
       "       0.92435815, 0.98676211, 0.9922156 , 0.9898317 , 0.98986919,\n",
       "       0.98350282, 0.97294017, 0.98368026, 0.99145697, 0.99836354,\n",
       "       0.98540633, 0.99628767, 0.95364467, 0.94247125, 0.99850085,\n",
       "       0.99742627, 0.85675688, 0.98848242, 0.99024846, 0.99025558,\n",
       "       0.9764893 , 0.88919151, 0.99727583, 0.99600444, 0.99983935,\n",
       "       0.99688815, 0.99521212, 0.88818715, 0.99600802, 0.99651426,\n",
       "       0.99697751, 0.98596132, 0.93294384, 0.99558117, 0.99022501,\n",
       "       0.99550654, 0.99288921, 0.99080732, 0.81371142, 0.93894433,\n",
       "       0.99998225, 0.99841198, 0.99966399, 0.99494989, 0.97023371,\n",
       "       0.94083947, 0.91964192, 0.96636475, 0.97784158, 0.99853659,\n",
       "       0.61165491, 0.99506968, 0.93432055, 0.99004597, 0.99997206,\n",
       "       0.99705484, 0.98332942, 0.98097683, 0.99913982, 0.99221663,\n",
       "       0.95637176, 0.92525071, 0.99948187, 0.95242533, 0.99214395,\n",
       "       0.9981126 , 0.99998731, 0.53360062, 0.99915487, 0.94632323,\n",
       "       0.99929017, 0.9993932 , 0.98383619, 0.99559708, 0.99954231,\n",
       "       0.9568788 , 0.88974462, 0.9607964 , 0.99464282, 0.19641452,\n",
       "       0.99993173, 0.99977051, 0.98616895, 0.91450469, 0.99942841,\n",
       "       0.99947824, 0.95960447, 0.96735364, 0.59948343, 0.89327015,\n",
       "       0.63328799, 0.87474197, 0.74460297, 0.98785663, 0.99387747,\n",
       "       0.99657774, 0.9968852 , 0.99971824, 0.9996846 , 0.96627184,\n",
       "       0.98968493, 0.99178831, 0.82803278, 0.97116908, 0.8912799 ,\n",
       "       0.00276652, 0.85215125, 0.98642045, 0.90826587, 0.98795119,\n",
       "       0.63550508, 0.98675084, 0.99715826, 0.99824868, 0.97500581])"
      ]
     },
     "execution_count": 110,
     "metadata": {},
     "output_type": "execute_result"
    }
   ],
   "source": [
    "model.predict_proba(X)[:,0] # 0일 확률"
   ]
  },
  {
   "cell_type": "code",
   "execution_count": 107,
   "id": "9431bb3d",
   "metadata": {},
   "outputs": [
    {
     "data": {
      "image/png": "[encoded data removed]",
      "text/plain": [
       "<Figure size 800x400 with 1 Axes>"
      ]
     },
     "metadata": {},
     "output_type": "display_data"
    }
   ],
   "source": [
    "y_proba = model.predict_proba(X)[:,1] # 1일 확률\n",
    "fpr1, tpr1, thr1 = roc_curve(y, y_proba)\n",
    "plt.figure(figsize=(8,4))\n",
    "plt.plot(fpr1,tpr1)\n",
    "plt.xlabel('false positive rate')\n",
    "plt.ylabel('recall')\n",
    "plt.show()"
   ]
  },
  {
   "cell_type": "markdown",
   "id": "2baefcc4",
   "metadata": {},
   "source": [
    "## 6-4 두 모형의 혼동행렬이 같은 경우(roc_curve 사용)\n",
    "- acc 먼저 체크 /recall,pre 체크 / 그이후 roc_curve 체크"
   ]
  },
  {
   "cell_type": "code",
   "execution_count": 112,
   "id": "65493cb5",
   "metadata": {},
   "outputs": [
    {
     "data": {
      "text/plain": [
       "((1000, 20), (1000,))"
      ]
     },
     "execution_count": 112,
     "metadata": {},
     "output_type": "execute_result"
    }
   ],
   "source": [
    "from sklearn.datasets import make_classification\n",
    "X,y = make_classification(weights=[0.95,0.05], # 0:95%, 1:5%\n",
    "                          n_samples=1000,\n",
    "                          random_state=5)\n",
    "X.shape,y.shape"
   ]
  },
  {
   "cell_type": "code",
   "execution_count": 114,
   "id": "5116b574",
   "metadata": {},
   "outputs": [],
   "source": [
    "from sklearn.svm import SVC\n",
    "model1 = LogisticRegression().fit(X,y)\n",
    "model2 = SVC(\n",
    "            gamma=0.0001,                 # 값이 작을수록 함수의 경계선이 부드러운 곡선으로 표현\n",
    "            C=3000,                       # c값이 크면 과적합을 신경안쓰고 학습할 수 있음 (오차허용범위)\n",
    "            probability=True).fit(X,y)    # predict_proba가 됨."
   ]
  },
  {
   "cell_type": "code",
   "execution_count": 115,
   "id": "60fedf52",
   "metadata": {},
   "outputs": [],
   "source": [
    "y_hat1 = model1.predict(X)\n",
    "y_hat2 = model2.predict(X)"
   ]
  },
  {
   "cell_type": "code",
   "execution_count": 117,
   "id": "1ea4f5af",
   "metadata": {},
   "outputs": [
    {
     "data": {
      "text/html": [
       "<div>\n",
       "<style scoped>\n",
       "    .dataframe tbody tr th:only-of-type {\n",
       "        vertical-align: middle;\n",
       "    }\n",
       "\n",
       "    .dataframe tbody tr th {\n",
       "        vertical-align: top;\n",
       "    }\n",
       "\n",
       "    .dataframe thead th {\n",
       "        text-align: right;\n",
       "    }\n",
       "</style>\n",
       "<table border=\"1\" class=\"dataframe\">\n",
       "  <thead>\n",
       "    <tr style=\"text-align: right;\">\n",
       "      <th>col_0</th>\n",
       "      <th>0</th>\n",
       "      <th>1</th>\n",
       "    </tr>\n",
       "    <tr>\n",
       "      <th>row_0</th>\n",
       "      <th></th>\n",
       "      <th></th>\n",
       "    </tr>\n",
       "  </thead>\n",
       "  <tbody>\n",
       "    <tr>\n",
       "      <th>0</th>\n",
       "      <td>940</td>\n",
       "      <td>3</td>\n",
       "    </tr>\n",
       "    <tr>\n",
       "      <th>1</th>\n",
       "      <td>30</td>\n",
       "      <td>27</td>\n",
       "    </tr>\n",
       "  </tbody>\n",
       "</table>\n",
       "</div>"
      ],
      "text/plain": [
       "col_0    0   1\n",
       "row_0         \n",
       "0      940   3\n",
       "1       30  27"
      ]
     },
     "metadata": {},
     "output_type": "display_data"
    },
    {
     "data": {
      "text/html": [
       "<div>\n",
       "<style scoped>\n",
       "    .dataframe tbody tr th:only-of-type {\n",
       "        vertical-align: middle;\n",
       "    }\n",
       "\n",
       "    .dataframe tbody tr th {\n",
       "        vertical-align: top;\n",
       "    }\n",
       "\n",
       "    .dataframe thead th {\n",
       "        text-align: right;\n",
       "    }\n",
       "</style>\n",
       "<table border=\"1\" class=\"dataframe\">\n",
       "  <thead>\n",
       "    <tr style=\"text-align: right;\">\n",
       "      <th>col_0</th>\n",
       "      <th>0</th>\n",
       "      <th>1</th>\n",
       "    </tr>\n",
       "    <tr>\n",
       "      <th>row_0</th>\n",
       "      <th></th>\n",
       "      <th></th>\n",
       "    </tr>\n",
       "  </thead>\n",
       "  <tbody>\n",
       "    <tr>\n",
       "      <th>0</th>\n",
       "      <td>940</td>\n",
       "      <td>3</td>\n",
       "    </tr>\n",
       "    <tr>\n",
       "      <th>1</th>\n",
       "      <td>30</td>\n",
       "      <td>27</td>\n",
       "    </tr>\n",
       "  </tbody>\n",
       "</table>\n",
       "</div>"
      ],
      "text/plain": [
       "col_0    0   1\n",
       "row_0         \n",
       "0      940   3\n",
       "1       30  27"
      ]
     },
     "metadata": {},
     "output_type": "display_data"
    }
   ],
   "source": [
    "display(pd.crosstab(y,y_hat1))\n",
    "display(pd.crosstab(y,y_hat2))"
   ]
  },
  {
   "cell_type": "code",
   "execution_count": 122,
   "id": "06e96981",
   "metadata": {},
   "outputs": [
    {
     "data": {
      "image/png": "[encoded data removed]",
      "text/plain": [
       "<Figure size 640x480 with 1 Axes>"
      ]
     },
     "metadata": {},
     "output_type": "display_data"
    }
   ],
   "source": [
    "# 혼동행렬이 같음으로 모든 score값이 같음\n",
    "# roc_curve로 두 모델 성늘 비교\n",
    "fpr1, tpr1, thr1 = roc_curve(y,model1.decision_function(X))\n",
    "fpr2, tpr2, thr2 = roc_curve(y,model2.decision_function(X))\n",
    "plt.plot(fpr1, tpr1, color='r')\n",
    "plt.plot(fpr2, tpr2, color='b')\n",
    "plt.show()"
   ]
  },
  {
   "cell_type": "code",
   "execution_count": 125,
   "id": "66f9e183",
   "metadata": {},
   "outputs": [
    {
     "data": {
      "text/plain": [
       "(0.9112202563673234, 0.9037227214377407)"
      ]
     },
     "execution_count": 125,
     "metadata": {},
     "output_type": "execute_result"
    }
   ],
   "source": [
    "# AUC(Area Under Curve) : roc 커브 아랫부분의 영역 \n",
    "# AUC =1 : 완벽한 모델\n",
    "# AUC < 0.5 : 최악의 모델\n",
    "# AUC = 0.5 : 동전던지기와 일치\n",
    "from sklearn.metrics import auc\n",
    "auc(fpr1, tpr1), auc(fpr2, tpr2)"
   ]
  },
  {
   "cell_type": "code",
   "execution_count": null,
   "id": "03ed93d1",
   "metadata": {},
   "outputs": [],
   "source": []
  }
 ],
 "metadata": {
  "kernelspec": {
   "display_name": "ml-dl-nlp",
   "language": "python",
   "name": "ml-dl-nlp"
  },
  "language_info": {
   "codemirror_mode": {
    "name": "ipython",
    "version": 3
   },
   "file_extension": ".py",
   "mimetype": "text/x-python",
   "name": "python",
   "nbconvert_exporter": "python",
   "pygments_lexer": "ipython3",
   "version": "3.10.18"
  },
  "toc": {
   "base_numbering": 1,
   "nav_menu": {},
   "number_sections": false,
   "sideBar": true,
   "skip_h1_title": false,
   "title_cell": "Table of Contents",
   "title_sidebar": "Contents",
   "toc_cell": false,
   "toc_position": {
    "height": "calc(100% - 180px)",
    "left": "10px",
    "top": "150px",
    "width": "216.453px"
   },
   "toc_section_display": true,
   "toc_window_display": true
  }
 },
 "nbformat": 4,
 "nbformat_minor": 5
}
