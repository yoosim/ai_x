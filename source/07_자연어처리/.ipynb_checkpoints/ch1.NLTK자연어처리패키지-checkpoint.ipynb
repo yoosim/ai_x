{
 "cells": [
  {
   "cell_type": "code",
   "execution_count": 12,
   "id": "04b9520a",
   "metadata": {},
   "outputs": [
    {
     "data": {
      "text/html": [
       "\n",
       "<style>\n",
       "div.container{width:100% !important;}\n",
       "div.cell.code_cell.rendered{width:100%;}\n",
       "div.input_prompt{padding:0px;}\n",
       "div.CodeMirror {font-family:Consolas; font-size:22pt;}\n",
       "div.text_cell_render.rendered_html{font-size:18pt;}\n",
       "div.text_cell_render.rendered_html{font-size:15pt;}\n",
       "div.output {font-size:18pt; font-weight:bold;}\n",
       "div.input {font-family:Consolas; font-size:18pt;}\n",
       "div.prompt {min-width:70px;}\n",
       "div#toc-wrapper{padding-top:120px;}\n",
       "div.text_cell_render ul li{font-size:18pt;padding:5px;}\n",
       "table.dataframe{font-size:18px;}\n",
       "</style>\n"
      ],
      "text/plain": [
       "<IPython.core.display.HTML object>"
      ]
     },
     "metadata": {},
     "output_type": "display_data"
    }
   ],
   "source": [
    "from IPython.display import display, HTML\n",
    "display(HTML(\"\"\"\n",
    "<style>\n",
    "div.container{width:100% !important;}\n",
    "div.cell.code_cell.rendered{width:100%;}\n",
    "div.input_prompt{padding:0px;}\n",
    "div.CodeMirror {font-family:Consolas; font-size:22pt;}\n",
    "div.text_cell_render.rendered_html{font-size:18pt;}\n",
    "div.text_cell_render.rendered_html{font-size:15pt;}\n",
    "div.output {font-size:18pt; font-weight:bold;}\n",
    "div.input {font-family:Consolas; font-size:18pt;}\n",
    "div.prompt {min-width:70px;}\n",
    "div#toc-wrapper{padding-top:120px;}\n",
    "div.text_cell_render ul li{font-size:18pt;padding:5px;}\n",
    "table.dataframe{font-size:18px;}\n",
    "</style>\n",
    "\"\"\"))"
   ]
  },
  {
   "cell_type": "markdown",
   "id": "9b6a18b4",
   "metadata": {},
   "source": [
    "# 1. NLTK 패키지\n",
    "- 자연어처리를 위한 강력하고 사용하기 쉬운 라이브러리\n",
    "1. 텍스트 전처리 : 토큰화(어절, 문장나누기), 정규화(정규표현식 활용), 불용어 제거, 표제어추출(기본형태로 변환)\n",
    "2. \n",
    "3. 어휘 데이터 베이스 사용\n",
    "4. 구조화된 문서의 빈도수, 분류분석, 연관분석, 감정분석 (단점) 속도가 느림"
   ]
  },
  {
   "cell_type": "code",
   "execution_count": 2,
   "id": "d7c8541d",
   "metadata": {},
   "outputs": [],
   "source": [
    "import nltk"
   ]
  },
  {
   "cell_type": "code",
   "execution_count": 6,
   "id": "562c2740",
   "metadata": {},
   "outputs": [
    {
     "name": "stdout",
     "output_type": "stream",
     "text": [
      "showing info https://raw.githubusercontent.com/nltk/nltk_data/gh-pages/index.xml\n"
     ]
    },
    {
     "data": {
      "text/plain": [
       "True"
      ]
     },
     "execution_count": 6,
     "metadata": {},
     "output_type": "execute_result"
    }
   ],
   "source": [
    "# 말뭉치 다운로드\n",
    "# c:/mltk_data\n",
    "# d:/nltk_data\n",
    "# c:/Users/내컴퓨터이름/nltk_data\n",
    "# c:/Users/내컴퓨터이름/anaconda3/nltk_data\n",
    "# c:/Users/내컴퓨터이름/anaconda3/lib/nltk_data\n",
    "# c:/Users/내컴퓨터이름/anaconda3/share/nltk_data\n",
    "# c:/Users/내컴퓨터이름/Appdata/Roaming/nltk_data\n",
    "nltk.download()"
   ]
  },
  {
   "cell_type": "code",
   "execution_count": 7,
   "id": "86250264",
   "metadata": {},
   "outputs": [
    {
     "data": {
      "text/plain": [
       "['austen-emma.txt',\n",
       " 'austen-persuasion.txt',\n",
       " 'austen-sense.txt',\n",
       " 'bible-kjv.txt',\n",
       " 'blake-poems.txt',\n",
       " 'bryant-stories.txt',\n",
       " 'burgess-busterbrown.txt',\n",
       " 'carroll-alice.txt',\n",
       " 'chesterton-ball.txt',\n",
       " 'chesterton-brown.txt',\n",
       " 'chesterton-thursday.txt',\n",
       " 'edgeworth-parents.txt',\n",
       " 'melville-moby_dick.txt',\n",
       " 'milton-paradise.txt',\n",
       " 'shakespeare-caesar.txt',\n",
       " 'shakespeare-hamlet.txt',\n",
       " 'shakespeare-macbeth.txt',\n",
       " 'whitman-leaves.txt']"
      ]
     },
     "execution_count": 7,
     "metadata": {},
     "output_type": "execute_result"
    }
   ],
   "source": [
    "nltk.corpus.gutenberg.fileids()"
   ]
  },
  {
   "cell_type": "code",
   "execution_count": 10,
   "id": "7f93c8fe",
   "metadata": {},
   "outputs": [
    {
     "data": {
      "text/plain": [
       "'[Emma by Jane Austen 1816]\\n\\nVOLUME I\\n\\nCH'"
      ]
     },
     "execution_count": 10,
     "metadata": {},
     "output_type": "execute_result"
    }
   ],
   "source": [
    "emma = nltk.corpus.gutenberg.raw('austen-emma.txt')\n",
    "emma[:40]"
   ]
  },
  {
   "cell_type": "code",
   "execution_count": 26,
   "id": "5b07825f",
   "metadata": {},
   "outputs": [
    {
     "name": "stdout",
     "output_type": "stream",
     "text": [
      "글자수 : 887071\n",
      "문장수 : 7456\n",
      "단어수 : 191776\n"
     ]
    }
   ],
   "source": [
    "# emma의 말뭉치 글자수, 문장수, 어절수 \n",
    "print('글자수 :', len(emma))\n",
    "print('문장수 :', len(sent_tokenize))\n",
    "print('단어수 :', len(word_tokenize(emma)))\n",
    "# print(\"%r\" % sent_tokenize[5])"
   ]
  },
  {
   "cell_type": "code",
   "execution_count": 13,
   "id": "29a3e84e",
   "metadata": {
    "collapsed": true
   },
   "outputs": [
    {
     "data": {
      "text/plain": [
       "['[Emma by Jane Austen 1816]\\n\\nVOLUME I\\n\\nCHAPTER I\\n\\n\\nEmma Woodhouse, handsome, clever, and rich, with a comfortable home\\nand happy disposition, seemed to unite some of the best blessings\\nof existence; and had lived nearly twenty-one years in the world\\nwith very little to distress or vex her.',\n",
       " \"She was the youngest of the two daughters of a most affectionate,\\nindulgent father; and had, in consequence of her sister's marriage,\\nbeen mistress of his house from a very early period.\",\n",
       " 'Her mother\\nhad died too long ago for her to have more than an indistinct\\nremembrance of her caresses; and her place had been supplied\\nby an excellent woman as governess, who had fallen little short\\nof a mother in affection.']"
      ]
     },
     "execution_count": 13,
     "metadata": {},
     "output_type": "execute_result"
    }
   ],
   "source": [
    "# 문장수 구하는 방법\n",
    "# 문장단위로 나눠서 list로 반환 함수\n",
    "from nltk.tokenize import sent_tokenize \n",
    "sent_tokenize = sent_tokenize(emma)\n",
    "sent_tokenize[:3]"
   ]
  },
  {
   "cell_type": "code",
   "execution_count": 25,
   "id": "ba48ef4d",
   "metadata": {},
   "outputs": [
    {
     "data": {
      "text/plain": [
       "<function nltk.tokenize.word_tokenize(text, language='english', preserve_line=False)>"
      ]
     },
     "execution_count": 25,
     "metadata": {},
     "output_type": "execute_result"
    }
   ],
   "source": [
    "# 어절수 구하는 방법 : 단어단위로 나눠서 list 반환 \n",
    "from nltk.tokenize import word_tokenize\n",
    "word_tokenize = word_tokenize(emma)\n",
    "word_tokenize"
   ]
  },
  {
   "cell_type": "code",
   "execution_count": 45,
   "id": "69c3d53d",
   "metadata": {},
   "outputs": [
    {
     "name": "stdout",
     "output_type": "stream",
     "text": [
      "['1816']\n"
     ]
    }
   ],
   "source": [
    "# RegexpTokenizer() : 토큰화할 때 해당 정규표현식에 해당하는 wrod만 적용\n",
    "from nltk.tokenize import RegexpTokenizer \n",
    "digitRet = RegexpTokenizer('\\d+')\n",
    "alphaRet = RegexpTokenizer('\\w+')\n",
    "digits = digitRet.tokenize(sent_tokenize[0])\n",
    "print(digits)\n",
    "# words = alphaRet.tokenize(sent_tokenize[0])\n",
    "# print(words)"
   ]
  },
  {
   "cell_type": "markdown",
   "id": "e2edcc31",
   "metadata": {},
   "source": [
    "# 2. 형태소(의미 있는 가장 작은 단위) 분석"
   ]
  },
  {
   "cell_type": "code",
   "execution_count": 30,
   "id": "1230962c",
   "metadata": {},
   "outputs": [
    {
     "data": {
      "text/plain": [
       "'send'"
      ]
     },
     "execution_count": 30,
     "metadata": {},
     "output_type": "execute_result"
    }
   ],
   "source": [
    "# 어간추출(1) : PorterStemmer \n",
    "from nltk.stem import PorterStemmer\n",
    "words2 = ['sending','cooking','files','lives','crying','dying']\n",
    "pst = PorterStemmer()\n",
    "pst.stem(words2[0])"
   ]
  },
  {
   "cell_type": "code",
   "execution_count": 31,
   "id": "8280198d",
   "metadata": {},
   "outputs": [
    {
     "data": {
      "text/plain": [
       "['send', 'cook', 'file', 'live', 'cri', 'die']"
      ]
     },
     "execution_count": 31,
     "metadata": {},
     "output_type": "execute_result"
    }
   ],
   "source": [
    "[pst.stem(word) for word in words2]"
   ]
  },
  {
   "cell_type": "code",
   "execution_count": 32,
   "id": "d772194e",
   "metadata": {},
   "outputs": [
    {
     "data": {
      "text/plain": [
       "['send', 'cook', 'fil', 'liv', 'cry', 'dying']"
      ]
     },
     "execution_count": 32,
     "metadata": {},
     "output_type": "execute_result"
    }
   ],
   "source": [
    "# 어간추출(2) : LancasterStemmer -> 어간 추출하는것 중 제일 빈도 높음 \n",
    "from nltk.stem import LancasterStemmer\n",
    "lst = LancasterStemmer()\n",
    "[lst.stem(word) for word in words2]"
   ]
  },
  {
   "cell_type": "code",
   "execution_count": 34,
   "id": "4da979db",
   "metadata": {},
   "outputs": [
    {
     "data": {
      "text/plain": [
       "['send', 'cook', 'files', 'lives', 'cry', 'dy']"
      ]
     },
     "execution_count": 34,
     "metadata": {},
     "output_type": "execute_result"
    }
   ],
   "source": [
    "# 어간추출(3) RegexpStemmer : 정규표현식에 해당하는 부분만 어간 추출\n",
    "from nltk.stem import RegexpStemmer\n",
    "rst = RegexpStemmer('ing')\n",
    "[rst.stem(word) for word in words2]"
   ]
  },
  {
   "cell_type": "code",
   "execution_count": 38,
   "id": "19e6d9fb",
   "metadata": {},
   "outputs": [
    {
     "name": "stdout",
     "output_type": "stream",
     "text": [
      "['[', 'Emma', 'by', 'Jane', 'Austen', '1816', ']', 'VOLUME', 'I', 'CHAPTER', 'I', 'Emma', 'Woodhouse', ',', 'handsome', ',', 'clever', ',', 'and', 'rich', ',', 'with', 'a', 'comfortable', 'home', 'and', 'happy', 'disposition', ',', 'seemed', 'to', 'unite', 'some', 'of', 'the', 'best', 'blessings', 'of', 'existence', ';', 'and', 'had', 'lived', 'nearly', 'twenty-one', 'years', 'in', 'the', 'world', 'with', 'very', 'little', 'to', 'distress', 'or', 'vex', 'her', '.']\n",
      "\n",
      "품사태깅한 결과 :\n",
      " [('[', 'NNS'), ('Emma', 'NNP'), ('by', 'IN'), ('Jane', 'NNP'), ('Austen', 'NNP'), ('1816', 'CD'), (']', 'NNP'), ('VOLUME', 'NNP'), ('I', 'PRP'), ('CHAPTER', 'VBP'), ('I', 'PRP'), ('Emma', 'NNP'), ('Woodhouse', 'NNP'), (',', ','), ('handsome', 'NN'), (',', ','), ('clever', 'NN'), (',', ','), ('and', 'CC'), ('rich', 'JJ'), (',', ','), ('with', 'IN'), ('a', 'DT'), ('comfortable', 'JJ'), ('home', 'NN'), ('and', 'CC'), ('happy', 'JJ'), ('disposition', 'NN'), (',', ','), ('seemed', 'VBD'), ('to', 'TO'), ('unite', 'VB'), ('some', 'DT'), ('of', 'IN'), ('the', 'DT'), ('best', 'JJS'), ('blessings', 'NNS'), ('of', 'IN'), ('existence', 'NN'), (';', ':'), ('and', 'CC'), ('had', 'VBD'), ('lived', 'VBN'), ('nearly', 'RB'), ('twenty-one', 'CD'), ('years', 'NNS'), ('in', 'IN'), ('the', 'DT'), ('world', 'NN'), ('with', 'IN'), ('very', 'RB'), ('little', 'JJ'), ('to', 'TO'), ('distress', 'VB'), ('or', 'CC'), ('vex', 'VB'), ('her', 'PRP'), ('.', '.')]\n"
     ]
    }
   ],
   "source": [
    "# 품사태깅 (포스테깅)\n",
    "from nltk.tag import pos_tag\n",
    "tagged_list = pos_tag(word_tokenize(sent_tokenize[0]))\n",
    "print(word_tokenize(sent_tokenize[0]))\n",
    "print('\\n품사태깅한 결과 :\\n',tagged_list)"
   ]
  },
  {
   "cell_type": "markdown",
   "id": "bb44e1e1",
   "metadata": {},
   "source": [
    "## 퀴즈 : emma 소설안에서 \n",
    "    1) 특수문자가 들어가지않는 3글자 이상의 단어만 추출해서 품사태깅을 하시오.\n",
    "    ex) [('emma','명'),('was','동'),...]\n",
    "    2) \"Emma\"단어가 몇번 등장하며, 품사 태깅이 어떤 품사들로 되어 있는지 모두 출력하시오 (리스트컴프리헨션)\n",
    "    3) 내가 원하는 품사(명사)의 단어만 뽑아 등장하는 명사의 종류 갯수를 출력하시오\n",
    "        - 가장많이 쓰는 명사를 찾을 수 있음 "
   ]
  },
  {
   "cell_type": "code",
   "execution_count": 72,
   "id": "ee6624c6",
   "metadata": {},
   "outputs": [
    {
     "name": "stdout",
     "output_type": "stream",
     "text": [
      "emma 소설의 3글자 이상의 단어 출현수 : 123817 123817\n",
      "emma 소설의 3글자 이상의 단어 종류수 : 7470 11434\n",
      "11434\n"
     ]
    }
   ],
   "source": [
    "# 1) 특수문자가 들어가지않는 3글자 이상의 단어만 추출해서 품사태깅을 하시오.\n",
    "from nltk.tokenize import RegexpTokenizer\n",
    "text_emma = RegexpTokenizer('[A-Za-z0-9]{3,}').tokenize(emma)\n",
    "print('emma 소설의 3글자 이상의 단어 출현수 :', len(text_emma), len(emma_tags))\n",
    "print('emma 소설의 3글자 이상의 단어 종류수 :', len(set(text_emma)), len(set(emma_tags)))\n",
    "# 한 단어가 다른 품사로 태깅될 수 있음\n",
    "emma_tags = pos_tag(text_emma)\n",
    "print(emma_tags[:20])\n",
    "# print(text_emma)"
   ]
  },
  {
   "cell_type": "code",
   "execution_count": 101,
   "id": "740eefd7",
   "metadata": {},
   "outputs": [
    {
     "name": "stdout",
     "output_type": "stream",
     "text": [
      "Emma 출현횟수 : 865\n",
      "Emma의 품사들 : {'JJ', 'NN', 'VBN', 'VBP', 'NNS', 'VBD', 'RB', 'NNP', 'NNPS', 'VB'}\n"
     ]
    }
   ],
   "source": [
    "'''\n",
    "2) \"Emma\"단어가 몇번 등장하며, \n",
    "품사 태깅이 어떤 품사들로 되어 있는지 \n",
    "모두 출력하시오 (리스트컴프리헨션)\n",
    "'''\n",
    "# pos = []\n",
    "# for emma_tag in emma_tags:\n",
    "#     if emma_tag[0] == 'Emma':\n",
    "#         pos.append(emma_tag[1])\n",
    "# print('Emma 출현횟수 :', len(pos))\n",
    "# print('Emma의 품사들 :', set(pos))\n",
    "# 'JJ'-형용사, 'NN'-명사, 'VBN'-동사,과거분사, 'VBP', 'NNS'-명사,복수형, \n",
    "# 'VBD'- 동사,과거형, 'RB'- 형용사, 'NNP'- 고유명사, 단수형, \n",
    "# 'NNPS' - 고유명사,복수형, 'VB'-동사,원형'\n",
    "\n",
    "pos = [emma_tag[1] for emma_tag in emma_tags if emma_tag[0]== 'Emma']\n",
    "print('Emma 출현횟수 :', len(pos))\n",
    "print('Emma의 품사들 :', set(pos))"
   ]
  },
  {
   "cell_type": "code",
   "execution_count": 85,
   "id": "b8970711",
   "metadata": {},
   "outputs": [
    {
     "name": "stdout",
     "output_type": "stream",
     "text": [
      "{'NNP': 838, 'VBP': 4, 'JJ': 4, 'VB': 5, 'NNS': 2, 'RB': 1, 'NN': 7, 'NNPS': 2, 'VBN': 1, 'VBD': 1}\n"
     ]
    }
   ],
   "source": [
    "# emma_tags에서 각 품사별 몇개씩 태그되어있는지 확인하는 방법\n",
    "set(pop) # Emma의 품사\n",
    "pos_cnt = dict() # 딕셔너리 \n",
    "for word, tag in emma_tags:\n",
    "    if word == 'Emma':       # word(첫번째)가 emma인지 / Emma(word) NNP(tag), Jane NNP, Austen NNP \n",
    "        if tag in pos_cnt:   # pos_cnt에 tag가 있는지 (있으면 True)\n",
    "            pos_cnt[tag] += 1\n",
    "        else:\n",
    "            pos_cnt[tag] = 1\n",
    "print(pos_cnt)"
   ]
  },
  {
   "cell_type": "code",
   "execution_count": 95,
   "id": "7494f669",
   "metadata": {},
   "outputs": [
    {
     "data": {
      "text/plain": [
       "NNP     838\n",
       "NN        7\n",
       "VB        5\n",
       "JJ        4\n",
       "VBP       4\n",
       "NNS       2\n",
       "NNPS      2\n",
       "VBN       1\n",
       "VBD       1\n",
       "RB        1\n",
       "dtype: int64"
      ]
     },
     "execution_count": 95,
     "metadata": {},
     "output_type": "execute_result"
    }
   ],
   "source": [
    "# emma_tags에서 각 품사별 몇개씩 태그되었는지 \n",
    "import pandas as pd\n",
    "                        # data\n",
    "pos_cnt = pd.Series([0]*len(set(pos)), index=set(pos))\n",
    "for word, tag in emma_tags:\n",
    "    if word =='Emma':\n",
    "        pos_cnt[tag] += 1\n",
    "pos_cnt.sort_values(ascending=False)"
   ]
  },
  {
   "cell_type": "code",
   "execution_count": 107,
   "id": "0383df0c",
   "metadata": {},
   "outputs": [
    {
     "name": "stdout",
     "output_type": "stream",
     "text": [
      "명사가 나온 횟수 : 30633\n",
      "출현한 명사 갯수 : 4067\n",
      "한 단어가 나오는 평균 빈도수 : 7.5320875338087045\n"
     ]
    }
   ],
   "source": [
    "'''\n",
    "3) 내가 원하는 품사(명사)의 단어만 뽑아 \n",
    "등장하는 명사의 종류 갯수를 출력하시오\n",
    "'''\n",
    "\n",
    "nouns_list = [] # 명사들만\n",
    "for word, tag in emma_tags:\n",
    "    if (tag == 'NN')|(tag == 'NNS')|(tag == 'NNP')|(tag == 'NNPS'):\n",
    "        nouns_list.append(word)\n",
    "nouns_list\n",
    "\n",
    "nouns_list = [word for word, tag in emma_tags if (tag == 'NN')|\n",
    "                                                 (tag == 'NNS')|\n",
    "                                                 (tag == 'NNP')|\n",
    "                                                 (tag == 'NNPS')]\n",
    "print('명사가 나온 횟수 :', len(nouns_list))\n",
    "print('출현한 명사 갯수 :', len(set(nouns_list)))\n",
    "print('한 단어가 나오는 평균 빈도수 :', len(nouns_list)/ len(set(nouns_list)))"
   ]
  },
  {
   "cell_type": "code",
   "execution_count": 112,
   "id": "2933ac0c",
   "metadata": {},
   "outputs": [
    {
     "data": {
      "image/png": "[encoded data removed]",
      "text/plain": [
       "<Figure size 1500x400 with 1 Axes>"
      ]
     },
     "metadata": {},
     "output_type": "display_data"
    }
   ],
   "source": [
    "# 최빈 단어 시각화\n",
    "import matplotlib.pyplot as plt\n",
    "from nltk import Text\n",
    "emma_text = Text(nouns_list)\n",
    "plt.figure(figsize=(15,4))\n",
    "emma_text.plot(20)\n",
    "plt.show()"
   ]
  },
  {
   "cell_type": "code",
   "execution_count": 113,
   "id": "5e51dcef",
   "metadata": {},
   "outputs": [
    {
     "data": {
      "image/png": "[encoded data removed]",
      "text/plain": [
       "<Figure size 640x480 with 1 Axes>"
      ]
     },
     "metadata": {},
     "output_type": "display_data"
    }
   ],
   "source": [
    "emma_text.dispersion_plot(['Emma','Jane'])"
   ]
  },
  {
   "cell_type": "code",
   "execution_count": 121,
   "id": "2a695634",
   "metadata": {},
   "outputs": [
    {
     "name": "stdout",
     "output_type": "stream",
     "text": [
      "고유명사의 갯수 : 577\n"
     ]
    },
    {
     "data": {
      "text/plain": [
       "FreqDist({'Emma': 840, 'Mrs': 698, 'Miss': 572, 'Harriet': 484, 'Weston': 433, 'Knightley': 389, 'Elton': 384, 'Jane': 295, 'Woodhouse': 294, 'Fairfax': 241, ...})"
      ]
     },
     "execution_count": 121,
     "metadata": {},
     "output_type": "execute_result"
    }
   ],
   "source": [
    "# 고유명사 \n",
    "names_list = [word for word, tag in emma_tags if (tag == 'NNP')|(tag == 'NNPS')]\n",
    "print('고유명사의 갯수 :',len(set(names_list)))\n",
    "from nltk import FreqDist   # 중복된거 제외하고 높은 순서대로 반환\n",
    "FreqDist(names_list) # 빈도를 반환\n",
    "# print()"
   ]
  },
  {
   "cell_type": "code",
   "execution_count": 125,
   "id": "e3dfab15",
   "metadata": {},
   "outputs": [
    {
     "data": {
      "text/plain": [
       "Emma       840\n",
       "Mrs        698\n",
       "Miss       572\n",
       "Harriet    484\n",
       "Weston     433\n",
       "dtype: int64"
      ]
     },
     "execution_count": 125,
     "metadata": {},
     "output_type": "execute_result"
    }
   ],
   "source": [
    "# 상위 고유명사를 딕셔너리로 변경\n",
    "dic = dict(FreqDist(names_list))\n",
    "dic\n",
    "\n",
    "# 시리즈로 변경\n",
    "wordcnt = pd.Series(dic)\n",
    "wordcnt.sort_values(ascending=False, inplace=True)\n",
    "wordcnt.head()"
   ]
  },
  {
   "cell_type": "code",
   "execution_count": 130,
   "id": "0448875d",
   "metadata": {},
   "outputs": [
    {
     "data": {
      "text/plain": [
       "Emma       840\n",
       "Mrs        698\n",
       "Miss       572\n",
       "Harriet    484\n",
       "Weston     433\n",
       "dtype: int64"
      ]
     },
     "execution_count": 130,
     "metadata": {},
     "output_type": "execute_result"
    }
   ],
   "source": [
    "wordcnt[wordcnt>400]"
   ]
  },
  {
   "cell_type": "code",
   "execution_count": 131,
   "id": "9f524af9",
   "metadata": {},
   "outputs": [
    {
     "data": {
      "text/plain": [
       "Index(['Emma', 'Mrs', 'Miss', 'Harriet', 'Weston'], dtype='object')"
      ]
     },
     "execution_count": 131,
     "metadata": {},
     "output_type": "execute_result"
    }
   ],
   "source": [
    "names = wordcnt[wordcnt>400]\n",
    "names.index"
   ]
  },
  {
   "cell_type": "code",
   "execution_count": 132,
   "id": "826087b5",
   "metadata": {},
   "outputs": [
    {
     "data": {
      "image/png": "[encoded data removed]",
      "text/plain": [
       "<Figure size 640x480 with 1 Axes>"
      ]
     },
     "metadata": {},
     "output_type": "display_data"
    }
   ],
   "source": [
    "emma_text.dispersion_plot(list(names.index))"
   ]
  },
  {
   "cell_type": "code",
   "execution_count": null,
   "id": "b1adea3c",
   "metadata": {},
   "outputs": [],
   "source": []
  },
  {
   "cell_type": "code",
   "execution_count": null,
   "id": "de126e2f",
   "metadata": {},
   "outputs": [],
   "source": []
  },
  {
   "cell_type": "code",
   "execution_count": null,
   "id": "5ff8c8a2",
   "metadata": {},
   "outputs": [],
   "source": []
  },
  {
   "cell_type": "code",
   "execution_count": null,
   "id": "bce3629d",
   "metadata": {},
   "outputs": [],
   "source": []
  },
  {
   "cell_type": "code",
   "execution_count": null,
   "id": "c60034c4",
   "metadata": {},
   "outputs": [],
   "source": []
  },
  {
   "cell_type": "code",
   "execution_count": null,
   "id": "331a12f8",
   "metadata": {},
   "outputs": [],
   "source": []
  },
  {
   "cell_type": "code",
   "execution_count": null,
   "id": "3242b7f9",
   "metadata": {},
   "outputs": [],
   "source": []
  },
  {
   "cell_type": "code",
   "execution_count": null,
   "id": "39f8b5b1",
   "metadata": {},
   "outputs": [],
   "source": []
  },
  {
   "cell_type": "code",
   "execution_count": null,
   "id": "3c5680b3",
   "metadata": {},
   "outputs": [],
   "source": []
  },
  {
   "cell_type": "code",
   "execution_count": null,
   "id": "3f962a26",
   "metadata": {},
   "outputs": [],
   "source": []
  },
  {
   "cell_type": "code",
   "execution_count": null,
   "id": "c18e879a",
   "metadata": {},
   "outputs": [],
   "source": []
  },
  {
   "cell_type": "code",
   "execution_count": null,
   "id": "5daee962",
   "metadata": {},
   "outputs": [],
   "source": []
  },
  {
   "cell_type": "code",
   "execution_count": null,
   "id": "10589605",
   "metadata": {},
   "outputs": [],
   "source": []
  },
  {
   "cell_type": "code",
   "execution_count": null,
   "id": "02e53c24",
   "metadata": {},
   "outputs": [],
   "source": []
  },
  {
   "cell_type": "code",
   "execution_count": null,
   "id": "9009e1f7",
   "metadata": {},
   "outputs": [],
   "source": []
  },
  {
   "cell_type": "code",
   "execution_count": null,
   "id": "571cba66",
   "metadata": {},
   "outputs": [],
   "source": []
  }
 ],
 "metadata": {
  "kernelspec": {
   "display_name": "ml-dl-nlp",
   "language": "python",
   "name": "ml-dl-nlp"
  },
  "language_info": {
   "codemirror_mode": {
    "name": "ipython",
    "version": 3
   },
   "file_extension": ".py",
   "mimetype": "text/x-python",
   "name": "python",
   "nbconvert_exporter": "python",
   "pygments_lexer": "ipython3",
   "version": "3.10.18"
  },
  "toc": {
   "base_numbering": 1,
   "nav_menu": {},
   "number_sections": false,
   "sideBar": true,
   "skip_h1_title": false,
   "title_cell": "Table of Contents",
   "title_sidebar": "Contents",
   "toc_cell": false,
   "toc_position": {
    "height": "calc(100% - 180px)",
    "left": "10px",
    "top": "150px",
    "width": "165px"
   },
   "toc_section_display": true,
   "toc_window_display": false
  }
 },
 "nbformat": 4,
 "nbformat_minor": 5
}
