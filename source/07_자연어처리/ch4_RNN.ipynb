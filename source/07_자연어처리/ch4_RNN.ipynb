{
 "cells": [
  {
   "cell_type": "code",
   "execution_count": 1,
   "id": "84d48e9e",
   "metadata": {},
   "outputs": [
    {
     "data": {
      "text/html": [
       "\n",
       "<style>\n",
       "div.container{width:100% !important;}\n",
       "div.cell.code_cell.rendered{width:100%;}\n",
       "div.input_prompt{padding:0px;}\n",
       "div.CodeMirror {font-family:Consolas; font-size:22pt;}\n",
       "div.text_cell_render.rendered_html{font-size:18pt;}\n",
       "div.text_cell_render.rendered_html{font-size:15pt;}\n",
       "div.output {font-size:18pt; font-weight:bold;}\n",
       "div.input {font-family:Consolas; font-size:18pt;}\n",
       "div.prompt {min-width:70px;}\n",
       "div#toc-wrapper{padding-top:120px;}\n",
       "div.text_cell_render ul li{font-size:18pt;padding:5px;}\n",
       "table.dataframe{font-size:18px;}\n",
       "</style>\n"
      ],
      "text/plain": [
       "<IPython.core.display.HTML object>"
      ]
     },
     "metadata": {},
     "output_type": "display_data"
    }
   ],
   "source": [
    "from IPython.display import display, HTML\n",
    "display(HTML(\"\"\"\n",
    "<style>\n",
    "div.container{width:100% !important;}\n",
    "div.cell.code_cell.rendered{width:100%;}\n",
    "div.input_prompt{padding:0px;}\n",
    "div.CodeMirror {font-family:Consolas; font-size:22pt;}\n",
    "div.text_cell_render.rendered_html{font-size:18pt;}\n",
    "div.text_cell_render.rendered_html{font-size:15pt;}\n",
    "div.output {font-size:18pt; font-weight:bold;}\n",
    "div.input {font-family:Consolas; font-size:18pt;}\n",
    "div.prompt {min-width:70px;}\n",
    "div#toc-wrapper{padding-top:120px;}\n",
    "div.text_cell_render ul li{font-size:18pt;padding:5px;}\n",
    "table.dataframe{font-size:18px;}\n",
    "</style>\n",
    "\"\"\"))"
   ]
  },
  {
   "cell_type": "markdown",
   "id": "dfbe4b4a",
   "metadata": {},
   "source": [
    "<span style='color:orange; font-size: 35px; font-weith:bold;'>CH4_RNN(Recurrent Neural Network 순환신경망)</span>\n",
    "\n",
    "# 1.문맥을 이용하여 모델만들기 (다음 단어 예측)"
   ]
  },
  {
   "cell_type": "code",
   "execution_count": 31,
   "id": "77a759d1",
   "metadata": {},
   "outputs": [],
   "source": [
    "text = \"\"\"경마장에 있는 말이 뛰고 있다\n",
    "그의 말이 법이다\n",
    "가는 말이 고와야 오는 말이 곱다\"\"\"\n",
    "\n",
    "# text1 = \"장마철이 오고 있다\""
   ]
  },
  {
   "cell_type": "code",
   "execution_count": 26,
   "id": "b137bace",
   "metadata": {},
   "outputs": [],
   "source": [
    "# from keras_preprocessing.text import Tokenizer\n",
    "# t = Tokenizer()\n",
    "# t.fit_on_texts([text,text1])\n",
    "# encoded = t.texts_to_sequences([text,text1])\n",
    "# print(encoded)\n",
    "# print(t.word_index) # 딕셔너리로 반환 "
   ]
  },
  {
   "cell_type": "code",
   "execution_count": 32,
   "id": "15ebefe4",
   "metadata": {},
   "outputs": [
    {
     "name": "stdout",
     "output_type": "stream",
     "text": [
      "[[2, 3, 1, 4, 5, 6, 1, 7, 8, 1, 9, 10, 1, 11]]\n",
      "{'말이': 1, '경마장에': 2, '있는': 3, '뛰고': 4, '있다': 5, '그의': 6, '법이다': 7, '가는': 8, '고와야': 9, '오는': 10, '곱다': 11}\n"
     ]
    }
   ],
   "source": [
    "from keras_preprocessing.text import Tokenizer\n",
    "t = Tokenizer()\n",
    "t.fit_on_texts([text])\n",
    "encoded = t.texts_to_sequences([text])\n",
    "print(encoded)\n",
    "print(t.word_index) # 딕셔너리로 반환 "
   ]
  },
  {
   "cell_type": "code",
   "execution_count": 7,
   "id": "302e6846",
   "metadata": {},
   "outputs": [
    {
     "name": "stdout",
     "output_type": "stream",
     "text": [
      "[[2, 1, 5], [1]]\n",
      "[8, 1, 11]\n"
     ]
    }
   ],
   "source": [
    "# 문자열 리스트를 인덱스 시퀀스로 변환\n",
    "# text_to_sequences는 batch입력을 전제로 하여 항상 2차원 리스트로 반환\n",
    "print(t.texts_to_sequences(['경마장에 말이 있다','말이 뛴다']))\n",
    "print(t.texts_to_sequences(['가는 말이 곱다'])[0])\n",
    "# 단일 문장을 바로쓰기위해 [0]을 붙여서 작성"
   ]
  },
  {
   "cell_type": "code",
   "execution_count": 33,
   "id": "af58353c",
   "metadata": {},
   "outputs": [
    {
     "name": "stdout",
     "output_type": "stream",
     "text": [
      "말이 1\n",
      "경마장에 2\n",
      "있는 3\n",
      "뛰고 4\n",
      "있다 5\n",
      "그의 6\n",
      "법이다 7\n",
      "가는 8\n",
      "고와야 9\n",
      "오는 10\n",
      "곱다 11\n"
     ]
    }
   ],
   "source": [
    "# word_index : 단어 -> 정수 인덱스로 매핑된 dict\n",
    "for key,value in t.word_index.items():\n",
    "    print(key,value)"
   ]
  },
  {
   "cell_type": "code",
   "execution_count": 46,
   "id": "a9c66471",
   "metadata": {},
   "outputs": [
    {
     "name": "stdout",
     "output_type": "stream",
     "text": [
      "원문장 : 경마장에 있는 말이 뛰고 있다\n",
      "encoded된 문장(단어->숫자): [2, 3, 1, 4, 5]\n",
      "원문장 : 그의 말이 법이다\n",
      "encoded된 문장(단어->숫자): [6, 1, 7]\n",
      "원문장 : 가는 말이 고와야 오는 말이 곱다\n",
      "encoded된 문장(단어->숫자): [8, 1, 9, 10, 1, 11]\n",
      "sequences와 해석 출력\n",
      "2:경마장에 3:있는 \n",
      "2:경마장에 3:있는 1:말이 \n",
      "2:경마장에 3:있는 1:말이 4:뛰고 \n",
      "2:경마장에 3:있는 1:말이 4:뛰고 5:있다 \n",
      "3:있는 1:말이 \n",
      "3:있는 1:말이 4:뛰고 \n",
      "3:있는 1:말이 4:뛰고 5:있다 \n",
      "1:말이 4:뛰고 \n",
      "1:말이 4:뛰고 5:있다 \n",
      "4:뛰고 5:있다 \n",
      "6:그의 1:말이 \n",
      "6:그의 1:말이 7:법이다 \n",
      "1:말이 7:법이다 \n",
      "8:가는 1:말이 \n",
      "8:가는 1:말이 9:고와야 \n",
      "8:가는 1:말이 9:고와야 10:오는 \n",
      "8:가는 1:말이 9:고와야 10:오는 1:말이 \n",
      "8:가는 1:말이 9:고와야 10:오는 1:말이 11:곱다 \n",
      "1:말이 9:고와야 \n",
      "1:말이 9:고와야 10:오는 \n",
      "1:말이 9:고와야 10:오는 1:말이 \n",
      "1:말이 9:고와야 10:오는 1:말이 11:곱다 \n",
      "9:고와야 10:오는 \n",
      "9:고와야 10:오는 1:말이 \n",
      "9:고와야 10:오는 1:말이 11:곱다 \n",
      "10:오는 1:말이 \n",
      "10:오는 1:말이 11:곱다 \n",
      "1:말이 11:곱다 \n"
     ]
    }
   ],
   "source": [
    "# 학습을 시키기 위해 ['경마장에 있는','경마장에 있는 말이',...]\n",
    "sequences = []\n",
    "for line in text.split('\\n'):\n",
    "    print('원문장 :', line)\n",
    "    encoded = t.texts_to_sequences([line])[0]\n",
    "    print('encoded된 문장(단어->숫자):',encoded)\n",
    "    for i in range(0,len(encoded)-1):       # i:시작index\n",
    "        for j in range(i+2, len(encoded)+1): # j:끝나는 index바로 뒤 i+2는 [0:3]이런식으로 하기위해 \n",
    "            sequences.append(encoded[i:j])\n",
    "print('sequences와 해석 출력')\n",
    "for sequence in sequences:\n",
    "    for word_seq in sequence:\n",
    "        for word, id in t.word_index.items():\n",
    "            if word_seq==id:\n",
    "                print(\"{}:{}\".format(word_seq,word),end=' ') # end는 개행 안하려고 작성\n",
    "                break\n",
    "    print()"
   ]
  },
  {
   "cell_type": "code",
   "execution_count": 48,
   "id": "4df675d3",
   "metadata": {},
   "outputs": [
    {
     "name": "stdout",
     "output_type": "stream",
     "text": [
      "[2, 3, 4, 5, 2, 3, 4, 2, 3, 2, 2, 3, 2, 2, 3, 4, 5, 6, 2, 3, 4, 5, 2, 3, 4, 2, 3, 2]\n"
     ]
    },
    {
     "data": {
      "text/plain": [
       "6"
      ]
     },
     "execution_count": 48,
     "metadata": {},
     "output_type": "execute_result"
    }
   ],
   "source": [
    "# 시퀀스 길이 맞추기 작업 : 패딩(padding) \n",
    "print([len(sequence) for sequence in sequences])\n",
    "my_len = max(len(sequence) for sequence in sequences)\n",
    "my_len"
   ]
  },
  {
   "cell_type": "code",
   "execution_count": 52,
   "id": "2dbf3bbb",
   "metadata": {},
   "outputs": [
    {
     "data": {
      "text/plain": [
       "((28, 6), numpy.ndarray)"
      ]
     },
     "execution_count": 52,
     "metadata": {},
     "output_type": "execute_result"
    }
   ],
   "source": [
    "# sequences를 훈련 가능하도록 모두 6개로 조정 (0을 넣기위한 작업)\n",
    "# 내가 원하는대로 앞 또는 뒤에 넣을 수 있음\n",
    "from tensorflow.keras.preprocessing.sequence import pad_sequences\n",
    "padded_sequences = pad_sequences(sequences=sequences,\n",
    "                                maxlen=my_len,    # my_len:6으로 맞추고\n",
    "                                padding='pre')    # 앞쪽에 0을 붙임 \n",
    "# padded_sequences\n",
    "padded_sequences.shape, type(padded_sequences)"
   ]
  },
  {
   "cell_type": "code",
   "execution_count": 66,
   "id": "ac54c7e7",
   "metadata": {},
   "outputs": [
    {
     "data": {
      "text/plain": [
       "((28, 5), (28,))"
      ]
     },
     "execution_count": 66,
     "metadata": {},
     "output_type": "execute_result"
    }
   ],
   "source": [
    "# 독립변수(X)와 타겟변수(y)로 분리\n",
    "# 맨 마지막 1개 제외하고 모두 X, 마지막 1개 y\n",
    "X = padded_sequences[:,:-1]\n",
    "y = padded_sequences[:,-1]\n",
    "X.shape,y.shape"
   ]
  },
  {
   "cell_type": "code",
   "execution_count": 58,
   "id": "4efcc49b",
   "metadata": {},
   "outputs": [
    {
     "data": {
      "text/plain": [
       "12"
      ]
     },
     "execution_count": 58,
     "metadata": {},
     "output_type": "execute_result"
    }
   ],
   "source": [
    "# 컴퓨터가 X를 임베딩 작업할 때 필요한 입력 bit 수(단어수+1) : X 처리 (X를 위하여)\n",
    "# t.word_index는 11개의 단어이지만 0까지 포함해서 12개로 담김 (원핫인코딩,argmax편하기 위해)\n",
    "input_dim = len(t.word_index)+1\n",
    "input_dim"
   ]
  },
  {
   "cell_type": "code",
   "execution_count": 62,
   "id": "bdef1b11",
   "metadata": {},
   "outputs": [
    {
     "data": {
      "text/plain": [
       "((28, 5), (28, 12), 12)"
      ]
     },
     "execution_count": 62,
     "metadata": {},
     "output_type": "execute_result"
    }
   ],
   "source": [
    "# y의 원핫인코딩\n",
    "# input_dim이 12이므로 백터릐 길이를 지정 / 안 하면 최대값 +1로 자동 계산이 되므로 누락이 있을 수 있음 \n",
    "from tensorflow.keras.utils import to_categorical\n",
    "Y = to_categorical(y, input_dim)\n",
    "X.shape,Y.shape,input_dim"
   ]
  },
  {
   "cell_type": "code",
   "execution_count": null,
   "id": "b99014b9",
   "metadata": {},
   "outputs": [],
   "source": [
    "# 2. 모델 생성하기"
   ]
  },
  {
   "cell_type": "code",
   "execution_count": 63,
   "id": "491a4379",
   "metadata": {},
   "outputs": [],
   "source": [
    "from tensorflow.keras.models import Sequential\n",
    "from tensorflow.keras.layers import Embedding # Xi의 원핫인코딩한 희소행렬 변환\n",
    "from tensorflow.keras.layers import SimpleRNN ,Dense\n",
    "import matplotlib.pyplot as plt"
   ]
  },
  {
   "cell_type": "code",
   "execution_count": 67,
   "id": "ea8d42f7",
   "metadata": {},
   "outputs": [
    {
     "name": "stdout",
     "output_type": "stream",
     "text": [
      "Model: \"sequential\"\n",
      "_________________________________________________________________\n",
      " Layer (type)                Output Shape              Param #   \n",
      "=================================================================\n",
      " embedding (Embedding)       (None, 5, 10)             120       \n",
      "                                                                 \n",
      " simple_rnn (SimpleRNN)      (None, 32)                1376      \n",
      "                                                                 \n",
      " dense (Dense)               (None, 12)                396       \n",
      "                                                                 \n",
      "=================================================================\n",
      "Total params: 1,892\n",
      "Trainable params: 1,892\n",
      "Non-trainable params: 0\n",
      "_________________________________________________________________\n",
      "None\n"
     ]
    }
   ],
   "source": [
    "model = Sequential()\n",
    "model.add(Embedding(input_dim=input_dim,      # 입력받은 값을 12개로 원핫인코딩\n",
    "                    output_dim=10,            # 임베딩 출력의 갯수 \n",
    "                    input_length=X.shape[1])) # 입력단어,독립변수(X)의 수 \n",
    "model.add(SimpleRNN(units=32))                # 12 -> 10 -> 32 (Tanh)\n",
    "model.add(Dense(12, activation='softmax'))\n",
    "print(model.summary())"
   ]
  },
  {
   "cell_type": "code",
   "execution_count": null,
   "id": "5a06c838",
   "metadata": {},
   "outputs": [],
   "source": [
    "# 3. 모델 학습 과정 설정"
   ]
  },
  {
   "cell_type": "code",
   "execution_count": 68,
   "id": "9326ea6c",
   "metadata": {},
   "outputs": [],
   "source": [
    "# 모델 학습 과정 설정 / y를 원핫인코딩 안하면 pars\n",
    "model.compile(loss='categorical_crossentropy',\n",
    "              optimizer='adam',\n",
    "              metrics=['accuracy'])"
   ]
  },
  {
   "cell_type": "code",
   "execution_count": null,
   "id": "d1287ad2",
   "metadata": {},
   "outputs": [],
   "source": [
    "# 4. 모델 학습 시키기"
   ]
  },
  {
   "cell_type": "code",
   "execution_count": 69,
   "id": "97ac293a",
   "metadata": {},
   "outputs": [
    {
     "name": "stdout",
     "output_type": "stream",
     "text": [
      "Epoch 1/300\n",
      "1/1 - 1s - loss: 2.4792 - accuracy: 0.1071 - 896ms/epoch - 896ms/step\n",
      "Epoch 2/300\n",
      "1/1 - 0s - loss: 2.4669 - accuracy: 0.1071 - 3ms/epoch - 3ms/step\n",
      "Epoch 3/300\n",
      "1/1 - 0s - loss: 2.4546 - accuracy: 0.1071 - 4ms/epoch - 4ms/step\n",
      "Epoch 4/300\n",
      "1/1 - 0s - loss: 2.4423 - accuracy: 0.1071 - 4ms/epoch - 4ms/step\n",
      "Epoch 5/300\n",
      "1/1 - 0s - loss: 2.4299 - accuracy: 0.1786 - 4ms/epoch - 4ms/step\n",
      "Epoch 6/300\n",
      "1/1 - 0s - loss: 2.4172 - accuracy: 0.1786 - 5ms/epoch - 5ms/step\n",
      "Epoch 7/300\n",
      "1/1 - 0s - loss: 2.4042 - accuracy: 0.2143 - 4ms/epoch - 4ms/step\n",
      "Epoch 8/300\n",
      "1/1 - 0s - loss: 2.3906 - accuracy: 0.2500 - 5ms/epoch - 5ms/step\n",
      "Epoch 9/300\n",
      "1/1 - 0s - loss: 2.3766 - accuracy: 0.2857 - 4ms/epoch - 4ms/step\n",
      "Epoch 10/300\n",
      "1/1 - 0s - loss: 2.3619 - accuracy: 0.3214 - 4ms/epoch - 4ms/step\n",
      "Epoch 11/300\n",
      "1/1 - 0s - loss: 2.3466 - accuracy: 0.3571 - 3ms/epoch - 3ms/step\n",
      "Epoch 12/300\n",
      "1/1 - 0s - loss: 2.3306 - accuracy: 0.3214 - 5ms/epoch - 5ms/step\n",
      "Epoch 13/300\n",
      "1/1 - 0s - loss: 2.3139 - accuracy: 0.3571 - 4ms/epoch - 4ms/step\n",
      "Epoch 14/300\n",
      "1/1 - 0s - loss: 2.2966 - accuracy: 0.3214 - 4ms/epoch - 4ms/step\n",
      "Epoch 15/300\n",
      "1/1 - 0s - loss: 2.2785 - accuracy: 0.3214 - 5ms/epoch - 5ms/step\n",
      "Epoch 16/300\n",
      "1/1 - 0s - loss: 2.2598 - accuracy: 0.2857 - 4ms/epoch - 4ms/step\n",
      "Epoch 17/300\n",
      "1/1 - 0s - loss: 2.2406 - accuracy: 0.2857 - 4ms/epoch - 4ms/step\n",
      "Epoch 18/300\n",
      "1/1 - 0s - loss: 2.2209 - accuracy: 0.2857 - 5ms/epoch - 5ms/step\n",
      "Epoch 19/300\n",
      "1/1 - 0s - loss: 2.2008 - accuracy: 0.2857 - 4ms/epoch - 4ms/step\n",
      "Epoch 20/300\n",
      "1/1 - 0s - loss: 2.1805 - accuracy: 0.2857 - 4ms/epoch - 4ms/step\n",
      "Epoch 21/300\n",
      "1/1 - 0s - loss: 2.1601 - accuracy: 0.2857 - 5ms/epoch - 5ms/step\n",
      "Epoch 22/300\n",
      "1/1 - 0s - loss: 2.1398 - accuracy: 0.2857 - 5ms/epoch - 5ms/step\n",
      "Epoch 23/300\n",
      "1/1 - 0s - loss: 2.1199 - accuracy: 0.2857 - 4ms/epoch - 4ms/step\n",
      "Epoch 24/300\n",
      "1/1 - 0s - loss: 2.1005 - accuracy: 0.2857 - 4ms/epoch - 4ms/step\n",
      "Epoch 25/300\n",
      "1/1 - 0s - loss: 2.0818 - accuracy: 0.2857 - 3ms/epoch - 3ms/step\n",
      "Epoch 26/300\n",
      "1/1 - 0s - loss: 2.0640 - accuracy: 0.2857 - 5ms/epoch - 5ms/step\n",
      "Epoch 27/300\n",
      "1/1 - 0s - loss: 2.0473 - accuracy: 0.2857 - 4ms/epoch - 4ms/step\n",
      "Epoch 28/300\n",
      "1/1 - 0s - loss: 2.0317 - accuracy: 0.2857 - 4ms/epoch - 4ms/step\n",
      "Epoch 29/300\n",
      "1/1 - 0s - loss: 2.0173 - accuracy: 0.2857 - 5ms/epoch - 5ms/step\n",
      "Epoch 30/300\n",
      "1/1 - 0s - loss: 2.0039 - accuracy: 0.2857 - 4ms/epoch - 4ms/step\n",
      "Epoch 31/300\n",
      "1/1 - 0s - loss: 1.9915 - accuracy: 0.2857 - 6ms/epoch - 6ms/step\n",
      "Epoch 32/300\n",
      "1/1 - 0s - loss: 1.9799 - accuracy: 0.2857 - 5ms/epoch - 5ms/step\n",
      "Epoch 33/300\n",
      "1/1 - 0s - loss: 1.9689 - accuracy: 0.2857 - 5ms/epoch - 5ms/step\n",
      "Epoch 34/300\n",
      "1/1 - 0s - loss: 1.9583 - accuracy: 0.2857 - 4ms/epoch - 4ms/step\n",
      "Epoch 35/300\n",
      "1/1 - 0s - loss: 1.9478 - accuracy: 0.2857 - 4ms/epoch - 4ms/step\n",
      "Epoch 36/300\n",
      "1/1 - 0s - loss: 1.9374 - accuracy: 0.2857 - 4ms/epoch - 4ms/step\n",
      "Epoch 37/300\n",
      "1/1 - 0s - loss: 1.9269 - accuracy: 0.2857 - 4ms/epoch - 4ms/step\n",
      "Epoch 38/300\n",
      "1/1 - 0s - loss: 1.9165 - accuracy: 0.2857 - 3ms/epoch - 3ms/step\n",
      "Epoch 39/300\n",
      "1/1 - 0s - loss: 1.9061 - accuracy: 0.2857 - 5ms/epoch - 5ms/step\n",
      "Epoch 40/300\n",
      "1/1 - 0s - loss: 1.8958 - accuracy: 0.2857 - 4ms/epoch - 4ms/step\n",
      "Epoch 41/300\n",
      "1/1 - 0s - loss: 1.8858 - accuracy: 0.2857 - 4ms/epoch - 4ms/step\n",
      "Epoch 42/300\n",
      "1/1 - 0s - loss: 1.8762 - accuracy: 0.2857 - 4ms/epoch - 4ms/step\n",
      "Epoch 43/300\n",
      "1/1 - 0s - loss: 1.8671 - accuracy: 0.2857 - 3ms/epoch - 3ms/step\n",
      "Epoch 44/300\n",
      "1/1 - 0s - loss: 1.8585 - accuracy: 0.3214 - 6ms/epoch - 6ms/step\n",
      "Epoch 45/300\n",
      "1/1 - 0s - loss: 1.8504 - accuracy: 0.3571 - 5ms/epoch - 5ms/step\n",
      "Epoch 46/300\n",
      "1/1 - 0s - loss: 1.8427 - accuracy: 0.3929 - 4ms/epoch - 4ms/step\n",
      "Epoch 47/300\n",
      "1/1 - 0s - loss: 1.8353 - accuracy: 0.3929 - 4ms/epoch - 4ms/step\n",
      "Epoch 48/300\n",
      "1/1 - 0s - loss: 1.8281 - accuracy: 0.3929 - 3ms/epoch - 3ms/step\n",
      "Epoch 49/300\n",
      "1/1 - 0s - loss: 1.8209 - accuracy: 0.3929 - 4ms/epoch - 4ms/step\n",
      "Epoch 50/300\n",
      "1/1 - 0s - loss: 1.8137 - accuracy: 0.3929 - 4ms/epoch - 4ms/step\n",
      "Epoch 51/300\n",
      "1/1 - 0s - loss: 1.8063 - accuracy: 0.3929 - 4ms/epoch - 4ms/step\n",
      "Epoch 52/300\n",
      "1/1 - 0s - loss: 1.7986 - accuracy: 0.3929 - 5ms/epoch - 5ms/step\n",
      "Epoch 53/300\n",
      "1/1 - 0s - loss: 1.7906 - accuracy: 0.3929 - 4ms/epoch - 4ms/step\n",
      "Epoch 54/300\n",
      "1/1 - 0s - loss: 1.7822 - accuracy: 0.3929 - 4ms/epoch - 4ms/step\n",
      "Epoch 55/300\n",
      "1/1 - 0s - loss: 1.7736 - accuracy: 0.4286 - 4ms/epoch - 4ms/step\n",
      "Epoch 56/300\n",
      "1/1 - 0s - loss: 1.7647 - accuracy: 0.4286 - 4ms/epoch - 4ms/step\n",
      "Epoch 57/300\n",
      "1/1 - 0s - loss: 1.7555 - accuracy: 0.4286 - 4ms/epoch - 4ms/step\n",
      "Epoch 58/300\n",
      "1/1 - 0s - loss: 1.7461 - accuracy: 0.4286 - 4ms/epoch - 4ms/step\n",
      "Epoch 59/300\n",
      "1/1 - 0s - loss: 1.7365 - accuracy: 0.4286 - 5ms/epoch - 5ms/step\n",
      "Epoch 60/300\n",
      "1/1 - 0s - loss: 1.7266 - accuracy: 0.4286 - 4ms/epoch - 4ms/step\n",
      "Epoch 61/300\n",
      "1/1 - 0s - loss: 1.7164 - accuracy: 0.4286 - 4ms/epoch - 4ms/step\n",
      "Epoch 62/300\n",
      "1/1 - 0s - loss: 1.7060 - accuracy: 0.4286 - 5ms/epoch - 5ms/step\n",
      "Epoch 63/300\n",
      "1/1 - 0s - loss: 1.6953 - accuracy: 0.4286 - 3ms/epoch - 3ms/step\n",
      "Epoch 64/300\n",
      "1/1 - 0s - loss: 1.6843 - accuracy: 0.4286 - 4ms/epoch - 4ms/step\n",
      "Epoch 65/300\n",
      "1/1 - 0s - loss: 1.6730 - accuracy: 0.4286 - 3ms/epoch - 3ms/step\n",
      "Epoch 66/300\n",
      "1/1 - 0s - loss: 1.6615 - accuracy: 0.4643 - 3ms/epoch - 3ms/step\n",
      "Epoch 67/300\n",
      "1/1 - 0s - loss: 1.6496 - accuracy: 0.4643 - 4ms/epoch - 4ms/step\n",
      "Epoch 68/300\n",
      "1/1 - 0s - loss: 1.6374 - accuracy: 0.4643 - 4ms/epoch - 4ms/step\n",
      "Epoch 69/300\n",
      "1/1 - 0s - loss: 1.6250 - accuracy: 0.4643 - 5ms/epoch - 5ms/step\n",
      "Epoch 70/300\n",
      "1/1 - 0s - loss: 1.6124 - accuracy: 0.4643 - 4ms/epoch - 4ms/step\n",
      "Epoch 71/300\n",
      "1/1 - 0s - loss: 1.5996 - accuracy: 0.4643 - 4ms/epoch - 4ms/step\n",
      "Epoch 72/300\n",
      "1/1 - 0s - loss: 1.5865 - accuracy: 0.4643 - 5ms/epoch - 5ms/step\n",
      "Epoch 73/300\n",
      "1/1 - 0s - loss: 1.5733 - accuracy: 0.4643 - 3ms/epoch - 3ms/step\n",
      "Epoch 74/300\n",
      "1/1 - 0s - loss: 1.5600 - accuracy: 0.4643 - 3ms/epoch - 3ms/step\n",
      "Epoch 75/300\n",
      "1/1 - 0s - loss: 1.5464 - accuracy: 0.4643 - 4ms/epoch - 4ms/step\n",
      "Epoch 76/300\n",
      "1/1 - 0s - loss: 1.5328 - accuracy: 0.4643 - 3ms/epoch - 3ms/step\n",
      "Epoch 77/300\n",
      "1/1 - 0s - loss: 1.5190 - accuracy: 0.5000 - 4ms/epoch - 4ms/step\n",
      "Epoch 78/300\n",
      "1/1 - 0s - loss: 1.5052 - accuracy: 0.5000 - 3ms/epoch - 3ms/step\n",
      "Epoch 79/300\n",
      "1/1 - 0s - loss: 1.4913 - accuracy: 0.5000 - 4ms/epoch - 4ms/step\n",
      "Epoch 80/300\n",
      "1/1 - 0s - loss: 1.4773 - accuracy: 0.5000 - 5ms/epoch - 5ms/step\n",
      "Epoch 81/300\n",
      "1/1 - 0s - loss: 1.4633 - accuracy: 0.5000 - 4ms/epoch - 4ms/step\n",
      "Epoch 82/300\n",
      "1/1 - 0s - loss: 1.4493 - accuracy: 0.5000 - 3ms/epoch - 3ms/step\n",
      "Epoch 83/300\n",
      "1/1 - 0s - loss: 1.4353 - accuracy: 0.5357 - 4ms/epoch - 4ms/step\n",
      "Epoch 84/300\n",
      "1/1 - 0s - loss: 1.4214 - accuracy: 0.5357 - 4ms/epoch - 4ms/step\n",
      "Epoch 85/300\n",
      "1/1 - 0s - loss: 1.4075 - accuracy: 0.5357 - 4ms/epoch - 4ms/step\n",
      "Epoch 86/300\n",
      "1/1 - 0s - loss: 1.3938 - accuracy: 0.5357 - 4ms/epoch - 4ms/step\n",
      "Epoch 87/300\n",
      "1/1 - 0s - loss: 1.3801 - accuracy: 0.5357 - 4ms/epoch - 4ms/step\n",
      "Epoch 88/300\n",
      "1/1 - 0s - loss: 1.3665 - accuracy: 0.5357 - 4ms/epoch - 4ms/step\n",
      "Epoch 89/300\n",
      "1/1 - 0s - loss: 1.3530 - accuracy: 0.5357 - 3ms/epoch - 3ms/step\n",
      "Epoch 90/300\n",
      "1/1 - 0s - loss: 1.3397 - accuracy: 0.5357 - 4ms/epoch - 4ms/step\n",
      "Epoch 91/300\n",
      "1/1 - 0s - loss: 1.3265 - accuracy: 0.5357 - 3ms/epoch - 3ms/step\n",
      "Epoch 92/300\n",
      "1/1 - 0s - loss: 1.3135 - accuracy: 0.5357 - 3ms/epoch - 3ms/step\n",
      "Epoch 93/300\n",
      "1/1 - 0s - loss: 1.3006 - accuracy: 0.5357 - 3ms/epoch - 3ms/step\n",
      "Epoch 94/300\n",
      "1/1 - 0s - loss: 1.2879 - accuracy: 0.5357 - 4ms/epoch - 4ms/step\n",
      "Epoch 95/300\n",
      "1/1 - 0s - loss: 1.2754 - accuracy: 0.5714 - 4ms/epoch - 4ms/step\n",
      "Epoch 96/300\n",
      "1/1 - 0s - loss: 1.2630 - accuracy: 0.5714 - 4ms/epoch - 4ms/step\n",
      "Epoch 97/300\n",
      "1/1 - 0s - loss: 1.2508 - accuracy: 0.5714 - 4ms/epoch - 4ms/step\n",
      "Epoch 98/300\n",
      "1/1 - 0s - loss: 1.2388 - accuracy: 0.5714 - 4ms/epoch - 4ms/step\n",
      "Epoch 99/300\n",
      "1/1 - 0s - loss: 1.2270 - accuracy: 0.5714 - 4ms/epoch - 4ms/step\n",
      "Epoch 100/300\n",
      "1/1 - 0s - loss: 1.2154 - accuracy: 0.6071 - 4ms/epoch - 4ms/step\n",
      "Epoch 101/300\n",
      "1/1 - 0s - loss: 1.2039 - accuracy: 0.6071 - 14ms/epoch - 14ms/step\n",
      "Epoch 102/300\n",
      "1/1 - 0s - loss: 1.1927 - accuracy: 0.6071 - 4ms/epoch - 4ms/step\n",
      "Epoch 103/300\n",
      "1/1 - 0s - loss: 1.1816 - accuracy: 0.6071 - 4ms/epoch - 4ms/step\n",
      "Epoch 104/300\n",
      "1/1 - 0s - loss: 1.1707 - accuracy: 0.6071 - 4ms/epoch - 4ms/step\n"
     ]
    },
    {
     "name": "stdout",
     "output_type": "stream",
     "text": [
      "Epoch 105/300\n",
      "1/1 - 0s - loss: 1.1599 - accuracy: 0.6071 - 3ms/epoch - 3ms/step\n",
      "Epoch 106/300\n",
      "1/1 - 0s - loss: 1.1494 - accuracy: 0.6071 - 4ms/epoch - 4ms/step\n",
      "Epoch 107/300\n",
      "1/1 - 0s - loss: 1.1390 - accuracy: 0.6071 - 4ms/epoch - 4ms/step\n",
      "Epoch 108/300\n",
      "1/1 - 0s - loss: 1.1288 - accuracy: 0.6071 - 3ms/epoch - 3ms/step\n",
      "Epoch 109/300\n",
      "1/1 - 0s - loss: 1.1187 - accuracy: 0.6071 - 4ms/epoch - 4ms/step\n",
      "Epoch 110/300\n",
      "1/1 - 0s - loss: 1.1088 - accuracy: 0.6071 - 3ms/epoch - 3ms/step\n",
      "Epoch 111/300\n",
      "1/1 - 0s - loss: 1.0991 - accuracy: 0.6429 - 3ms/epoch - 3ms/step\n",
      "Epoch 112/300\n",
      "1/1 - 0s - loss: 1.0895 - accuracy: 0.6429 - 4ms/epoch - 4ms/step\n",
      "Epoch 113/300\n",
      "1/1 - 0s - loss: 1.0801 - accuracy: 0.6429 - 3ms/epoch - 3ms/step\n",
      "Epoch 114/300\n",
      "1/1 - 0s - loss: 1.0708 - accuracy: 0.6429 - 4ms/epoch - 4ms/step\n",
      "Epoch 115/300\n",
      "1/1 - 0s - loss: 1.0616 - accuracy: 0.6429 - 4ms/epoch - 4ms/step\n",
      "Epoch 116/300\n",
      "1/1 - 0s - loss: 1.0526 - accuracy: 0.6429 - 4ms/epoch - 4ms/step\n",
      "Epoch 117/300\n",
      "1/1 - 0s - loss: 1.0438 - accuracy: 0.6429 - 4ms/epoch - 4ms/step\n",
      "Epoch 118/300\n",
      "1/1 - 0s - loss: 1.0350 - accuracy: 0.6429 - 4ms/epoch - 4ms/step\n",
      "Epoch 119/300\n",
      "1/1 - 0s - loss: 1.0264 - accuracy: 0.6429 - 4ms/epoch - 4ms/step\n",
      "Epoch 120/300\n",
      "1/1 - 0s - loss: 1.0179 - accuracy: 0.6429 - 3ms/epoch - 3ms/step\n",
      "Epoch 121/300\n",
      "1/1 - 0s - loss: 1.0095 - accuracy: 0.6786 - 4ms/epoch - 4ms/step\n",
      "Epoch 122/300\n",
      "1/1 - 0s - loss: 1.0012 - accuracy: 0.6786 - 4ms/epoch - 4ms/step\n",
      "Epoch 123/300\n",
      "1/1 - 0s - loss: 0.9931 - accuracy: 0.7143 - 3ms/epoch - 3ms/step\n",
      "Epoch 124/300\n",
      "1/1 - 0s - loss: 0.9850 - accuracy: 0.7143 - 4ms/epoch - 4ms/step\n",
      "Epoch 125/300\n",
      "1/1 - 0s - loss: 0.9770 - accuracy: 0.7143 - 4ms/epoch - 4ms/step\n",
      "Epoch 126/300\n",
      "1/1 - 0s - loss: 0.9692 - accuracy: 0.7143 - 5ms/epoch - 5ms/step\n",
      "Epoch 127/300\n",
      "1/1 - 0s - loss: 0.9614 - accuracy: 0.7143 - 4ms/epoch - 4ms/step\n",
      "Epoch 128/300\n",
      "1/1 - 0s - loss: 0.9537 - accuracy: 0.7143 - 5ms/epoch - 5ms/step\n",
      "Epoch 129/300\n",
      "1/1 - 0s - loss: 0.9462 - accuracy: 0.7143 - 4ms/epoch - 4ms/step\n",
      "Epoch 130/300\n",
      "1/1 - 0s - loss: 0.9387 - accuracy: 0.7143 - 4ms/epoch - 4ms/step\n",
      "Epoch 131/300\n",
      "1/1 - 0s - loss: 0.9312 - accuracy: 0.7143 - 4ms/epoch - 4ms/step\n",
      "Epoch 132/300\n",
      "1/1 - 0s - loss: 0.9239 - accuracy: 0.7143 - 4ms/epoch - 4ms/step\n",
      "Epoch 133/300\n",
      "1/1 - 0s - loss: 0.9166 - accuracy: 0.7143 - 6ms/epoch - 6ms/step\n",
      "Epoch 134/300\n",
      "1/1 - 0s - loss: 0.9094 - accuracy: 0.7143 - 3ms/epoch - 3ms/step\n",
      "Epoch 135/300\n",
      "1/1 - 0s - loss: 0.9023 - accuracy: 0.7143 - 3ms/epoch - 3ms/step\n",
      "Epoch 136/300\n",
      "1/1 - 0s - loss: 0.8953 - accuracy: 0.7143 - 4ms/epoch - 4ms/step\n",
      "Epoch 137/300\n",
      "1/1 - 0s - loss: 0.8883 - accuracy: 0.7143 - 3ms/epoch - 3ms/step\n",
      "Epoch 138/300\n",
      "1/1 - 0s - loss: 0.8814 - accuracy: 0.7143 - 4ms/epoch - 4ms/step\n",
      "Epoch 139/300\n",
      "1/1 - 0s - loss: 0.8746 - accuracy: 0.7143 - 4ms/epoch - 4ms/step\n",
      "Epoch 140/300\n",
      "1/1 - 0s - loss: 0.8678 - accuracy: 0.7143 - 3ms/epoch - 3ms/step\n",
      "Epoch 141/300\n",
      "1/1 - 0s - loss: 0.8611 - accuracy: 0.7143 - 4ms/epoch - 4ms/step\n",
      "Epoch 142/300\n",
      "1/1 - 0s - loss: 0.8545 - accuracy: 0.7143 - 4ms/epoch - 4ms/step\n",
      "Epoch 143/300\n",
      "1/1 - 0s - loss: 0.8479 - accuracy: 0.7143 - 3ms/epoch - 3ms/step\n",
      "Epoch 144/300\n",
      "1/1 - 0s - loss: 0.8414 - accuracy: 0.7143 - 4ms/epoch - 4ms/step\n",
      "Epoch 145/300\n",
      "1/1 - 0s - loss: 0.8349 - accuracy: 0.7143 - 3ms/epoch - 3ms/step\n",
      "Epoch 146/300\n",
      "1/1 - 0s - loss: 0.8285 - accuracy: 0.7143 - 4ms/epoch - 4ms/step\n",
      "Epoch 147/300\n",
      "1/1 - 0s - loss: 0.8222 - accuracy: 0.7143 - 4ms/epoch - 4ms/step\n",
      "Epoch 148/300\n",
      "1/1 - 0s - loss: 0.8159 - accuracy: 0.7143 - 3ms/epoch - 3ms/step\n",
      "Epoch 149/300\n",
      "1/1 - 0s - loss: 0.8097 - accuracy: 0.7143 - 4ms/epoch - 4ms/step\n",
      "Epoch 150/300\n",
      "1/1 - 0s - loss: 0.8035 - accuracy: 0.7143 - 3ms/epoch - 3ms/step\n",
      "Epoch 151/300\n",
      "1/1 - 0s - loss: 0.7974 - accuracy: 0.7143 - 3ms/epoch - 3ms/step\n",
      "Epoch 152/300\n",
      "1/1 - 0s - loss: 0.7914 - accuracy: 0.7143 - 4ms/epoch - 4ms/step\n",
      "Epoch 153/300\n",
      "1/1 - 0s - loss: 0.7854 - accuracy: 0.7143 - 3ms/epoch - 3ms/step\n",
      "Epoch 154/300\n",
      "1/1 - 0s - loss: 0.7794 - accuracy: 0.7143 - 4ms/epoch - 4ms/step\n",
      "Epoch 155/300\n",
      "1/1 - 0s - loss: 0.7735 - accuracy: 0.7143 - 4ms/epoch - 4ms/step\n",
      "Epoch 156/300\n",
      "1/1 - 0s - loss: 0.7677 - accuracy: 0.7500 - 5ms/epoch - 5ms/step\n",
      "Epoch 157/300\n",
      "1/1 - 0s - loss: 0.7619 - accuracy: 0.7500 - 4ms/epoch - 4ms/step\n",
      "Epoch 158/300\n",
      "1/1 - 0s - loss: 0.7562 - accuracy: 0.7500 - 4ms/epoch - 4ms/step\n",
      "Epoch 159/300\n",
      "1/1 - 0s - loss: 0.7506 - accuracy: 0.7500 - 3ms/epoch - 3ms/step\n",
      "Epoch 160/300\n",
      "1/1 - 0s - loss: 0.7449 - accuracy: 0.7500 - 4ms/epoch - 4ms/step\n",
      "Epoch 161/300\n",
      "1/1 - 0s - loss: 0.7394 - accuracy: 0.7500 - 4ms/epoch - 4ms/step\n",
      "Epoch 162/300\n",
      "1/1 - 0s - loss: 0.7339 - accuracy: 0.7500 - 4ms/epoch - 4ms/step\n",
      "Epoch 163/300\n",
      "1/1 - 0s - loss: 0.7284 - accuracy: 0.7500 - 5ms/epoch - 5ms/step\n",
      "Epoch 164/300\n",
      "1/1 - 0s - loss: 0.7230 - accuracy: 0.7500 - 3ms/epoch - 3ms/step\n",
      "Epoch 165/300\n",
      "1/1 - 0s - loss: 0.7177 - accuracy: 0.7500 - 4ms/epoch - 4ms/step\n",
      "Epoch 166/300\n",
      "1/1 - 0s - loss: 0.7124 - accuracy: 0.7500 - 3ms/epoch - 3ms/step\n",
      "Epoch 167/300\n",
      "1/1 - 0s - loss: 0.7071 - accuracy: 0.7500 - 3ms/epoch - 3ms/step\n",
      "Epoch 168/300\n",
      "1/1 - 0s - loss: 0.7019 - accuracy: 0.7500 - 5ms/epoch - 5ms/step\n",
      "Epoch 169/300\n",
      "1/1 - 0s - loss: 0.6967 - accuracy: 0.7500 - 5ms/epoch - 5ms/step\n",
      "Epoch 170/300\n",
      "1/1 - 0s - loss: 0.6916 - accuracy: 0.7500 - 3ms/epoch - 3ms/step\n",
      "Epoch 171/300\n",
      "1/1 - 0s - loss: 0.6866 - accuracy: 0.7500 - 4ms/epoch - 4ms/step\n",
      "Epoch 172/300\n",
      "1/1 - 0s - loss: 0.6816 - accuracy: 0.7500 - 4ms/epoch - 4ms/step\n",
      "Epoch 173/300\n",
      "1/1 - 0s - loss: 0.6766 - accuracy: 0.7500 - 4ms/epoch - 4ms/step\n",
      "Epoch 174/300\n",
      "1/1 - 0s - loss: 0.6717 - accuracy: 0.7500 - 4ms/epoch - 4ms/step\n",
      "Epoch 175/300\n",
      "1/1 - 0s - loss: 0.6668 - accuracy: 0.7500 - 4ms/epoch - 4ms/step\n",
      "Epoch 176/300\n",
      "1/1 - 0s - loss: 0.6620 - accuracy: 0.7500 - 4ms/epoch - 4ms/step\n",
      "Epoch 177/300\n",
      "1/1 - 0s - loss: 0.6572 - accuracy: 0.7857 - 3ms/epoch - 3ms/step\n",
      "Epoch 178/300\n",
      "1/1 - 0s - loss: 0.6525 - accuracy: 0.7857 - 4ms/epoch - 4ms/step\n",
      "Epoch 179/300\n",
      "1/1 - 0s - loss: 0.6478 - accuracy: 0.7857 - 4ms/epoch - 4ms/step\n",
      "Epoch 180/300\n",
      "1/1 - 0s - loss: 0.6432 - accuracy: 0.7857 - 3ms/epoch - 3ms/step\n",
      "Epoch 181/300\n",
      "1/1 - 0s - loss: 0.6386 - accuracy: 0.7857 - 4ms/epoch - 4ms/step\n",
      "Epoch 182/300\n",
      "1/1 - 0s - loss: 0.6340 - accuracy: 0.7857 - 4ms/epoch - 4ms/step\n",
      "Epoch 183/300\n",
      "1/1 - 0s - loss: 0.6295 - accuracy: 0.7857 - 3ms/epoch - 3ms/step\n",
      "Epoch 184/300\n",
      "1/1 - 0s - loss: 0.6250 - accuracy: 0.7857 - 5ms/epoch - 5ms/step\n",
      "Epoch 185/300\n",
      "1/1 - 0s - loss: 0.6206 - accuracy: 0.7857 - 3ms/epoch - 3ms/step\n",
      "Epoch 186/300\n",
      "1/1 - 0s - loss: 0.6162 - accuracy: 0.7857 - 4ms/epoch - 4ms/step\n",
      "Epoch 187/300\n",
      "1/1 - 0s - loss: 0.6119 - accuracy: 0.7857 - 3ms/epoch - 3ms/step\n",
      "Epoch 188/300\n",
      "1/1 - 0s - loss: 0.6076 - accuracy: 0.7857 - 3ms/epoch - 3ms/step\n",
      "Epoch 189/300\n",
      "1/1 - 0s - loss: 0.6033 - accuracy: 0.7857 - 4ms/epoch - 4ms/step\n",
      "Epoch 190/300\n",
      "1/1 - 0s - loss: 0.5991 - accuracy: 0.7857 - 4ms/epoch - 4ms/step\n",
      "Epoch 191/300\n",
      "1/1 - 0s - loss: 0.5949 - accuracy: 0.7857 - 4ms/epoch - 4ms/step\n",
      "Epoch 192/300\n",
      "1/1 - 0s - loss: 0.5908 - accuracy: 0.7857 - 4ms/epoch - 4ms/step\n",
      "Epoch 193/300\n",
      "1/1 - 0s - loss: 0.5867 - accuracy: 0.7857 - 4ms/epoch - 4ms/step\n",
      "Epoch 194/300\n",
      "1/1 - 0s - loss: 0.5826 - accuracy: 0.7857 - 4ms/epoch - 4ms/step\n",
      "Epoch 195/300\n",
      "1/1 - 0s - loss: 0.5786 - accuracy: 0.7857 - 3ms/epoch - 3ms/step\n",
      "Epoch 196/300\n",
      "1/1 - 0s - loss: 0.5746 - accuracy: 0.7857 - 4ms/epoch - 4ms/step\n",
      "Epoch 197/300\n",
      "1/1 - 0s - loss: 0.5706 - accuracy: 0.7857 - 4ms/epoch - 4ms/step\n",
      "Epoch 198/300\n",
      "1/1 - 0s - loss: 0.5667 - accuracy: 0.7857 - 12ms/epoch - 12ms/step\n",
      "Epoch 199/300\n",
      "1/1 - 0s - loss: 0.5628 - accuracy: 0.7857 - 4ms/epoch - 4ms/step\n",
      "Epoch 200/300\n",
      "1/1 - 0s - loss: 0.5590 - accuracy: 0.8214 - 4ms/epoch - 4ms/step\n",
      "Epoch 201/300\n",
      "1/1 - 0s - loss: 0.5552 - accuracy: 0.8214 - 4ms/epoch - 4ms/step\n",
      "Epoch 202/300\n",
      "1/1 - 0s - loss: 0.5514 - accuracy: 0.8214 - 3ms/epoch - 3ms/step\n",
      "Epoch 203/300\n",
      "1/1 - 0s - loss: 0.5477 - accuracy: 0.8214 - 4ms/epoch - 4ms/step\n",
      "Epoch 204/300\n",
      "1/1 - 0s - loss: 0.5440 - accuracy: 0.8214 - 4ms/epoch - 4ms/step\n",
      "Epoch 205/300\n",
      "1/1 - 0s - loss: 0.5403 - accuracy: 0.8214 - 4ms/epoch - 4ms/step\n",
      "Epoch 206/300\n",
      "1/1 - 0s - loss: 0.5367 - accuracy: 0.8214 - 4ms/epoch - 4ms/step\n",
      "Epoch 207/300\n",
      "1/1 - 0s - loss: 0.5331 - accuracy: 0.8214 - 4ms/epoch - 4ms/step\n"
     ]
    },
    {
     "name": "stdout",
     "output_type": "stream",
     "text": [
      "Epoch 208/300\n",
      "1/1 - 0s - loss: 0.5295 - accuracy: 0.8214 - 3ms/epoch - 3ms/step\n",
      "Epoch 209/300\n",
      "1/1 - 0s - loss: 0.5260 - accuracy: 0.8214 - 3ms/epoch - 3ms/step\n",
      "Epoch 210/300\n",
      "1/1 - 0s - loss: 0.5225 - accuracy: 0.8214 - 3ms/epoch - 3ms/step\n",
      "Epoch 211/300\n",
      "1/1 - 0s - loss: 0.5190 - accuracy: 0.8214 - 4ms/epoch - 4ms/step\n",
      "Epoch 212/300\n",
      "1/1 - 0s - loss: 0.5156 - accuracy: 0.8214 - 4ms/epoch - 4ms/step\n",
      "Epoch 213/300\n",
      "1/1 - 0s - loss: 0.5122 - accuracy: 0.8214 - 4ms/epoch - 4ms/step\n",
      "Epoch 214/300\n",
      "1/1 - 0s - loss: 0.5088 - accuracy: 0.8214 - 4ms/epoch - 4ms/step\n",
      "Epoch 215/300\n",
      "1/1 - 0s - loss: 0.5055 - accuracy: 0.8214 - 4ms/epoch - 4ms/step\n",
      "Epoch 216/300\n",
      "1/1 - 0s - loss: 0.5021 - accuracy: 0.8214 - 4ms/epoch - 4ms/step\n",
      "Epoch 217/300\n",
      "1/1 - 0s - loss: 0.4989 - accuracy: 0.8214 - 3ms/epoch - 3ms/step\n",
      "Epoch 218/300\n",
      "1/1 - 0s - loss: 0.4956 - accuracy: 0.8214 - 3ms/epoch - 3ms/step\n",
      "Epoch 219/300\n",
      "1/1 - 0s - loss: 0.4924 - accuracy: 0.8214 - 3ms/epoch - 3ms/step\n",
      "Epoch 220/300\n",
      "1/1 - 0s - loss: 0.4892 - accuracy: 0.8571 - 4ms/epoch - 4ms/step\n",
      "Epoch 221/300\n",
      "1/1 - 0s - loss: 0.4861 - accuracy: 0.8571 - 3ms/epoch - 3ms/step\n",
      "Epoch 222/300\n",
      "1/1 - 0s - loss: 0.4829 - accuracy: 0.8571 - 3ms/epoch - 3ms/step\n",
      "Epoch 223/300\n",
      "1/1 - 0s - loss: 0.4798 - accuracy: 0.8571 - 3ms/epoch - 3ms/step\n",
      "Epoch 224/300\n",
      "1/1 - 0s - loss: 0.4768 - accuracy: 0.8571 - 4ms/epoch - 4ms/step\n",
      "Epoch 225/300\n",
      "1/1 - 0s - loss: 0.4737 - accuracy: 0.8571 - 3ms/epoch - 3ms/step\n",
      "Epoch 226/300\n",
      "1/1 - 0s - loss: 0.4707 - accuracy: 0.8571 - 4ms/epoch - 4ms/step\n",
      "Epoch 227/300\n",
      "1/1 - 0s - loss: 0.4677 - accuracy: 0.8571 - 4ms/epoch - 4ms/step\n",
      "Epoch 228/300\n",
      "1/1 - 0s - loss: 0.4648 - accuracy: 0.8571 - 4ms/epoch - 4ms/step\n",
      "Epoch 229/300\n",
      "1/1 - 0s - loss: 0.4619 - accuracy: 0.8571 - 3ms/epoch - 3ms/step\n",
      "Epoch 230/300\n",
      "1/1 - 0s - loss: 0.4590 - accuracy: 0.8571 - 3ms/epoch - 3ms/step\n",
      "Epoch 231/300\n",
      "1/1 - 0s - loss: 0.4561 - accuracy: 0.8571 - 3ms/epoch - 3ms/step\n",
      "Epoch 232/300\n",
      "1/1 - 0s - loss: 0.4532 - accuracy: 0.8571 - 4ms/epoch - 4ms/step\n",
      "Epoch 233/300\n",
      "1/1 - 0s - loss: 0.4504 - accuracy: 0.8571 - 3ms/epoch - 3ms/step\n",
      "Epoch 234/300\n",
      "1/1 - 0s - loss: 0.4476 - accuracy: 0.8571 - 3ms/epoch - 3ms/step\n",
      "Epoch 235/300\n",
      "1/1 - 0s - loss: 0.4449 - accuracy: 0.8929 - 3ms/epoch - 3ms/step\n",
      "Epoch 236/300\n",
      "1/1 - 0s - loss: 0.4422 - accuracy: 0.8929 - 3ms/epoch - 3ms/step\n",
      "Epoch 237/300\n",
      "1/1 - 0s - loss: 0.4395 - accuracy: 0.8929 - 3ms/epoch - 3ms/step\n",
      "Epoch 238/300\n",
      "1/1 - 0s - loss: 0.4368 - accuracy: 0.8929 - 4ms/epoch - 4ms/step\n",
      "Epoch 239/300\n",
      "1/1 - 0s - loss: 0.4341 - accuracy: 0.8929 - 4ms/epoch - 4ms/step\n",
      "Epoch 240/300\n",
      "1/1 - 0s - loss: 0.4315 - accuracy: 0.8929 - 4ms/epoch - 4ms/step\n",
      "Epoch 241/300\n",
      "1/1 - 0s - loss: 0.4289 - accuracy: 0.8929 - 4ms/epoch - 4ms/step\n",
      "Epoch 242/300\n",
      "1/1 - 0s - loss: 0.4263 - accuracy: 0.8929 - 4ms/epoch - 4ms/step\n",
      "Epoch 243/300\n",
      "1/1 - 0s - loss: 0.4238 - accuracy: 0.8929 - 3ms/epoch - 3ms/step\n",
      "Epoch 244/300\n",
      "1/1 - 0s - loss: 0.4213 - accuracy: 0.8929 - 4ms/epoch - 4ms/step\n",
      "Epoch 245/300\n",
      "1/1 - 0s - loss: 0.4188 - accuracy: 0.8929 - 5ms/epoch - 5ms/step\n",
      "Epoch 246/300\n",
      "1/1 - 0s - loss: 0.4163 - accuracy: 0.8929 - 4ms/epoch - 4ms/step\n",
      "Epoch 247/300\n",
      "1/1 - 0s - loss: 0.4139 - accuracy: 0.8929 - 4ms/epoch - 4ms/step\n",
      "Epoch 248/300\n",
      "1/1 - 0s - loss: 0.4115 - accuracy: 0.8929 - 3ms/epoch - 3ms/step\n",
      "Epoch 249/300\n",
      "1/1 - 0s - loss: 0.4091 - accuracy: 0.8929 - 4ms/epoch - 4ms/step\n",
      "Epoch 250/300\n",
      "1/1 - 0s - loss: 0.4067 - accuracy: 0.8929 - 4ms/epoch - 4ms/step\n",
      "Epoch 251/300\n",
      "1/1 - 0s - loss: 0.4044 - accuracy: 0.8929 - 4ms/epoch - 4ms/step\n",
      "Epoch 252/300\n",
      "1/1 - 0s - loss: 0.4020 - accuracy: 0.8929 - 5ms/epoch - 5ms/step\n",
      "Epoch 253/300\n",
      "1/1 - 0s - loss: 0.3998 - accuracy: 0.8929 - 4ms/epoch - 4ms/step\n",
      "Epoch 254/300\n",
      "1/1 - 0s - loss: 0.3975 - accuracy: 0.8929 - 4ms/epoch - 4ms/step\n",
      "Epoch 255/300\n",
      "1/1 - 0s - loss: 0.3952 - accuracy: 0.8929 - 3ms/epoch - 3ms/step\n",
      "Epoch 256/300\n",
      "1/1 - 0s - loss: 0.3930 - accuracy: 0.8929 - 3ms/epoch - 3ms/step\n",
      "Epoch 257/300\n",
      "1/1 - 0s - loss: 0.3908 - accuracy: 0.8929 - 3ms/epoch - 3ms/step\n",
      "Epoch 258/300\n",
      "1/1 - 0s - loss: 0.3886 - accuracy: 0.8929 - 4ms/epoch - 4ms/step\n",
      "Epoch 259/300\n",
      "1/1 - 0s - loss: 0.3865 - accuracy: 0.8929 - 4ms/epoch - 4ms/step\n",
      "Epoch 260/300\n",
      "1/1 - 0s - loss: 0.3844 - accuracy: 0.8929 - 4ms/epoch - 4ms/step\n",
      "Epoch 261/300\n",
      "1/1 - 0s - loss: 0.3823 - accuracy: 0.8929 - 5ms/epoch - 5ms/step\n",
      "Epoch 262/300\n",
      "1/1 - 0s - loss: 0.3802 - accuracy: 0.8929 - 4ms/epoch - 4ms/step\n",
      "Epoch 263/300\n",
      "1/1 - 0s - loss: 0.3781 - accuracy: 0.8929 - 4ms/epoch - 4ms/step\n",
      "Epoch 264/300\n",
      "1/1 - 0s - loss: 0.3761 - accuracy: 0.8929 - 4ms/epoch - 4ms/step\n",
      "Epoch 265/300\n",
      "1/1 - 0s - loss: 0.3741 - accuracy: 0.8929 - 4ms/epoch - 4ms/step\n",
      "Epoch 266/300\n",
      "1/1 - 0s - loss: 0.3721 - accuracy: 0.8929 - 3ms/epoch - 3ms/step\n",
      "Epoch 267/300\n",
      "1/1 - 0s - loss: 0.3701 - accuracy: 0.8929 - 4ms/epoch - 4ms/step\n",
      "Epoch 268/300\n",
      "1/1 - 0s - loss: 0.3682 - accuracy: 0.8929 - 3ms/epoch - 3ms/step\n",
      "Epoch 269/300\n",
      "1/1 - 0s - loss: 0.3662 - accuracy: 0.8929 - 5ms/epoch - 5ms/step\n",
      "Epoch 270/300\n",
      "1/1 - 0s - loss: 0.3643 - accuracy: 0.8929 - 3ms/epoch - 3ms/step\n",
      "Epoch 271/300\n",
      "1/1 - 0s - loss: 0.3624 - accuracy: 0.8929 - 5ms/epoch - 5ms/step\n",
      "Epoch 272/300\n",
      "1/1 - 0s - loss: 0.3606 - accuracy: 0.8929 - 3ms/epoch - 3ms/step\n",
      "Epoch 273/300\n",
      "1/1 - 0s - loss: 0.3587 - accuracy: 0.8929 - 3ms/epoch - 3ms/step\n",
      "Epoch 274/300\n",
      "1/1 - 0s - loss: 0.3569 - accuracy: 0.8929 - 3ms/epoch - 3ms/step\n",
      "Epoch 275/300\n",
      "1/1 - 0s - loss: 0.3551 - accuracy: 0.8929 - 3ms/epoch - 3ms/step\n",
      "Epoch 276/300\n",
      "1/1 - 0s - loss: 0.3533 - accuracy: 0.8929 - 4ms/epoch - 4ms/step\n",
      "Epoch 277/300\n",
      "1/1 - 0s - loss: 0.3516 - accuracy: 0.8929 - 4ms/epoch - 4ms/step\n",
      "Epoch 278/300\n",
      "1/1 - 0s - loss: 0.3498 - accuracy: 0.8929 - 3ms/epoch - 3ms/step\n",
      "Epoch 279/300\n",
      "1/1 - 0s - loss: 0.3481 - accuracy: 0.8929 - 4ms/epoch - 4ms/step\n",
      "Epoch 280/300\n",
      "1/1 - 0s - loss: 0.3464 - accuracy: 0.8929 - 3ms/epoch - 3ms/step\n",
      "Epoch 281/300\n",
      "1/1 - 0s - loss: 0.3447 - accuracy: 0.8929 - 3ms/epoch - 3ms/step\n",
      "Epoch 282/300\n",
      "1/1 - 0s - loss: 0.3431 - accuracy: 0.8929 - 4ms/epoch - 4ms/step\n",
      "Epoch 283/300\n",
      "1/1 - 0s - loss: 0.3414 - accuracy: 0.8929 - 3ms/epoch - 3ms/step\n",
      "Epoch 284/300\n",
      "1/1 - 0s - loss: 0.3398 - accuracy: 0.8929 - 4ms/epoch - 4ms/step\n",
      "Epoch 285/300\n",
      "1/1 - 0s - loss: 0.3382 - accuracy: 0.8929 - 4ms/epoch - 4ms/step\n",
      "Epoch 286/300\n",
      "1/1 - 0s - loss: 0.3366 - accuracy: 0.8929 - 3ms/epoch - 3ms/step\n",
      "Epoch 287/300\n",
      "1/1 - 0s - loss: 0.3350 - accuracy: 0.8929 - 4ms/epoch - 4ms/step\n",
      "Epoch 288/300\n",
      "1/1 - 0s - loss: 0.3335 - accuracy: 0.8929 - 4ms/epoch - 4ms/step\n",
      "Epoch 289/300\n",
      "1/1 - 0s - loss: 0.3319 - accuracy: 0.8929 - 4ms/epoch - 4ms/step\n",
      "Epoch 290/300\n",
      "1/1 - 0s - loss: 0.3304 - accuracy: 0.8929 - 4ms/epoch - 4ms/step\n",
      "Epoch 291/300\n",
      "1/1 - 0s - loss: 0.3289 - accuracy: 0.8929 - 3ms/epoch - 3ms/step\n",
      "Epoch 292/300\n",
      "1/1 - 0s - loss: 0.3275 - accuracy: 0.8929 - 5ms/epoch - 5ms/step\n",
      "Epoch 293/300\n",
      "1/1 - 0s - loss: 0.3260 - accuracy: 0.8929 - 3ms/epoch - 3ms/step\n",
      "Epoch 294/300\n",
      "1/1 - 0s - loss: 0.3245 - accuracy: 0.8929 - 3ms/epoch - 3ms/step\n",
      "Epoch 295/300\n",
      "1/1 - 0s - loss: 0.3231 - accuracy: 0.8929 - 4ms/epoch - 4ms/step\n",
      "Epoch 296/300\n",
      "1/1 - 0s - loss: 0.3217 - accuracy: 0.8929 - 3ms/epoch - 3ms/step\n",
      "Epoch 297/300\n",
      "1/1 - 0s - loss: 0.3203 - accuracy: 0.8929 - 3ms/epoch - 3ms/step\n",
      "Epoch 298/300\n",
      "1/1 - 0s - loss: 0.3189 - accuracy: 0.8929 - 3ms/epoch - 3ms/step\n",
      "Epoch 299/300\n",
      "1/1 - 0s - loss: 0.3176 - accuracy: 0.8929 - 4ms/epoch - 4ms/step\n",
      "Epoch 300/300\n",
      "1/1 - 0s - loss: 0.3162 - accuracy: 0.8929 - 4ms/epoch - 4ms/step\n"
     ]
    }
   ],
   "source": [
    "hist = model.fit(X,Y, epochs=300, verbose=2)"
   ]
  },
  {
   "cell_type": "code",
   "execution_count": 99,
   "id": "87954e78",
   "metadata": {},
   "outputs": [],
   "source": [
    "# 5. 모델 학습과정 그래프"
   ]
  },
  {
   "cell_type": "code",
   "execution_count": 70,
   "id": "48d4e1fd",
   "metadata": {
    "scrolled": true
   },
   "outputs": [
    {
     "data": {
      "image/png": "[encoded data removed]",
      "text/plain": [
       "<Figure size 1000x500 with 2 Axes>"
      ]
     },
     "metadata": {},
     "output_type": "display_data"
    }
   ],
   "source": [
    "fig, loss_ax = plt.subplots(figsize=(10,5))\n",
    "loss_ax.plot(hist.history['loss'], 'y', label='train loss')\n",
    "acc_ax= loss_ax.twinx() #x축 공유\n",
    "acc_ax.plot(hist.history['accuracy'], 'g', label='train accuracy')\n",
    "loss_ax.set_xlabel('epochs')\n",
    "loss_ax.set_ylabel('loss')\n",
    "acc_ax.set_xlabel('accuracy')\n",
    "loss_ax.legend(loc='center right')\n",
    "acc_ax.legend()\n",
    "plt.show()\n"
   ]
  },
  {
   "cell_type": "code",
   "execution_count": 85,
   "id": "24bd08e0",
   "metadata": {},
   "outputs": [
    {
     "name": "stdout",
     "output_type": "stream",
     "text": [
      "입력 데이터: [[0 0 2 3 1]]\n",
      "1/1 [==============================] - 0s 31ms/step\n",
      "예측된 단어: 뛰고\n"
     ]
    }
   ],
   "source": [
    "# 모델 사용하기 ('경마장에 있는 말이' -> '뛰고)\n",
    "encoded = t.texts_to_sequences(['경마장에 있는 말이'])[0]\n",
    "input_data = pad_sequences([encoded], maxlen=my_len-1, padding='pre')\n",
    "print('입력 데이터:',input_data)\n",
    "result = model.predict(input_data).argmax()\n",
    "word = t.index_word.get(result,'??')\n",
    "print('예측된 단어:',word)"
   ]
  },
  {
   "cell_type": "code",
   "execution_count": 97,
   "id": "f6095283",
   "metadata": {},
   "outputs": [
    {
     "name": "stdout",
     "output_type": "stream",
     "text": [
      "입력 단어 :뛰고\n",
      "입력 데이터: [[0 0 0 0 4]]\n",
      "예측된 단어: 있다\n"
     ]
    }
   ],
   "source": [
    "# 사용자한테 받기\n",
    "input_word = input('입력 단어 :')\n",
    "encoded = t.texts_to_sequences([input_word])[0]\n",
    "input_data = pad_sequences([encoded], maxlen=my_len-1, padding='pre')\n",
    "print('입력 데이터:',input_data)\n",
    "result = model.predict(input_data, verbose=0).argmax()\n",
    "word = t.index_word.get(result,'??')\n",
    "print('예측된 단어:',word)"
   ]
  },
  {
   "cell_type": "code",
   "execution_count": 98,
   "id": "4492e2b2",
   "metadata": {},
   "outputs": [
    {
     "data": {
      "text/plain": [
       "[[]]"
      ]
     },
     "execution_count": 98,
     "metadata": {},
     "output_type": "execute_result"
    }
   ],
   "source": [
    "t.texts_to_sequences(['없는 단어']) # 없는 단어는 안 나옴"
   ]
  },
  {
   "cell_type": "markdown",
   "id": "1710b163",
   "metadata": {},
   "source": [
    "# 2. 다음 문맥 예측해 보기"
   ]
  },
  {
   "cell_type": "code",
   "execution_count": 127,
   "id": "073c32e1",
   "metadata": {},
   "outputs": [
    {
     "data": {
      "text/plain": [
       "'경마장에 있는 말이 뛰고'"
      ]
     },
     "execution_count": 127,
     "metadata": {},
     "output_type": "execute_result"
    }
   ],
   "source": [
    "# \"0000\" 이후에 올 단어 n개 예측하기\n",
    "# \"경마장에\" → \"있는\" → \"말이\" ...\n",
    "def sentence_generation(current_word, n):\n",
    "#     print('입력된 단어 :', current_word)\n",
    "    for i in range(1, n+1):\n",
    "        encoded = t.texts_to_sequences([current_word])[0]                      # 2로 나움\n",
    "        input_data = pad_sequences([encoded], maxlen=my_len-1, padding='pre')  # 문자->숫자로 변환\n",
    "        result = model.predict(input_data, verbose=0).argmax()\n",
    "        word = t.index_word[result]\n",
    "        current_word = current_word+ ' ' + word\n",
    "#         print('{}번째 생성 문맥 : {} ({},{}):'.format(i,\n",
    "#                                                 current_word,\n",
    "#                                                 encoded,\n",
    "#                                                 result))\n",
    "    return current_word\n",
    "sentence_generation('경마장에', 3)"
   ]
  },
  {
   "cell_type": "code",
   "execution_count": 128,
   "id": "73793e7f",
   "metadata": {},
   "outputs": [
    {
     "data": {
      "text/plain": [
       "'가는 말이 고와야 오는 말이 곱다'"
      ]
     },
     "execution_count": 128,
     "metadata": {},
     "output_type": "execute_result"
    }
   ],
   "source": [
    "sentence_generation('가는', 5)"
   ]
  },
  {
   "cell_type": "code",
   "execution_count": null,
   "id": "12ab80e9",
   "metadata": {},
   "outputs": [],
   "source": []
  },
  {
   "cell_type": "code",
   "execution_count": null,
   "id": "1e94f811",
   "metadata": {},
   "outputs": [],
   "source": []
  },
  {
   "cell_type": "code",
   "execution_count": null,
   "id": "64ddc0c3",
   "metadata": {},
   "outputs": [],
   "source": []
  },
  {
   "cell_type": "code",
   "execution_count": null,
   "id": "c42987b0",
   "metadata": {},
   "outputs": [],
   "source": []
  },
  {
   "cell_type": "code",
   "execution_count": null,
   "id": "d79cb207",
   "metadata": {},
   "outputs": [],
   "source": []
  },
  {
   "cell_type": "code",
   "execution_count": null,
   "id": "1be632b4",
   "metadata": {},
   "outputs": [],
   "source": []
  },
  {
   "cell_type": "code",
   "execution_count": null,
   "id": "340c7a4e",
   "metadata": {},
   "outputs": [],
   "source": []
  },
  {
   "cell_type": "code",
   "execution_count": null,
   "id": "3287ed97",
   "metadata": {},
   "outputs": [],
   "source": []
  },
  {
   "cell_type": "code",
   "execution_count": null,
   "id": "d101fcfc",
   "metadata": {},
   "outputs": [],
   "source": []
  }
 ],
 "metadata": {
  "kernelspec": {
   "display_name": "ml-dl-nlp",
   "language": "python",
   "name": "ml-dl-nlp"
  },
  "language_info": {
   "codemirror_mode": {
    "name": "ipython",
    "version": 3
   },
   "file_extension": ".py",
   "mimetype": "text/x-python",
   "name": "python",
   "nbconvert_exporter": "python",
   "pygments_lexer": "ipython3",
   "version": "3.10.18"
  },
  "toc": {
   "base_numbering": 1,
   "nav_menu": {},
   "number_sections": false,
   "sideBar": true,
   "skip_h1_title": false,
   "title_cell": "Table of Contents",
   "title_sidebar": "Contents",
   "toc_cell": false,
   "toc_position": {},
   "toc_section_display": true,
   "toc_window_display": false
  }
 },
 "nbformat": 4,
 "nbformat_minor": 5
}
