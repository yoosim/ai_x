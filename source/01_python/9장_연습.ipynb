{
 "cells": [
  {
   "cell_type": "code",
   "execution_count": 2,
   "id": "23c7eb1e",
   "metadata": {},
   "outputs": [
    {
     "data": {
      "text/html": [
       "\n",
       "<style>\n",
       "div.container{width:86% !important;}\n",
       "div.cell.code_cell.rendered{width:100%;}\n",
       "div.CodeMirror {font-family:Consolas; font-size:15pt;}\n",
       "div.output {font-size:15pt; font-weight:bold;}\n",
       "div.input {font-family:Consolas; font-size:15pt;}\n",
       "div.prompt {min-width:70px;}\n",
       "div#toc-wrapper{padding-top:120px;}\n",
       "div.text_cell_render ul li{font-size:12pt;padding:5px;}\n",
       "table.dataframe{font-size:15px;}\n",
       "</style>\n",
       " "
      ],
      "text/plain": [
       "<IPython.core.display.HTML object>"
      ]
     },
     "metadata": {},
     "output_type": "display_data"
    }
   ],
   "source": [
    "from IPython.display import display, HTML \n",
    "display(HTML(\"\"\"\n",
    "<style>\n",
    "div.container{width:86% !important;}\n",
    "div.cell.code_cell.rendered{width:100%;}\n",
    "div.CodeMirror {font-family:Consolas; font-size:15pt;}\n",
    "div.output {font-size:15pt; font-weight:bold;}\n",
    "div.input {font-family:Consolas; font-size:15pt;}\n",
    "div.prompt {min-width:70px;}\n",
    "div#toc-wrapper{padding-top:120px;}\n",
    "div.text_cell_render ul li{font-size:12pt;padding:5px;}\n",
    "table.dataframe{font-size:15px;}\n",
    "</style>\n",
    " \"\"\"))"
   ]
  },
  {
   "cell_type": "markdown",
   "id": "6a80245b",
   "metadata": {},
   "source": [
    "# 파일 io(입/출력) 프로그래밍"
   ]
  },
  {
   "cell_type": "markdown",
   "id": "f29af314",
   "metadata": {},
   "source": [
    "# 1. txt 파일에 데이터 저장하기(쓰기)"
   ]
  },
  {
   "cell_type": "code",
   "execution_count": 60,
   "id": "158884d1",
   "metadata": {},
   "outputs": [],
   "source": [
    "#리스트에 넣어서 일괄적으로 txt 파일에 작성하고 저장하기\n",
    "test_push = ['홍길동, 33, a@a.com ,신림동\\n','유성미, 31, b@b.com, 신림동']"
   ]
  },
  {
   "cell_type": "code",
   "execution_count": 61,
   "id": "e0483924",
   "metadata": {},
   "outputs": [],
   "source": [
    "#for문을 활용해서 파일 생성 \n",
    "with open('data/ch.09_2test.txt','w',encoding='utf-8') as f:\n",
    "    for line in test_push:\n",
    "        f.write(line)"
   ]
  },
  {
   "cell_type": "code",
   "execution_count": 62,
   "id": "dfeae8ce",
   "metadata": {},
   "outputs": [],
   "source": [
    "#writelines를 사용해서 파일 생성\n",
    "with open('data/ch.09_1test.txt','w', encoding='utf-8') as f:\n",
    "    f.writelines(test_push)"
   ]
  },
  {
   "cell_type": "code",
   "execution_count": 63,
   "id": "1227320d",
   "metadata": {},
   "outputs": [
    {
     "name": "stdout",
     "output_type": "stream",
     "text": [
      "홍길동, 33, a@a.com ,신림동\n",
      "\n"
     ]
    }
   ],
   "source": [
    "#한 줄 씪 읽기 #readline() : 한줄씩 읽어오는 함수 \n",
    "with open('data/ch.09_1test.txt', 'r', encoding='utf-8') as f:\n",
    "    line = f.readline()\n",
    "    print(line)"
   ]
  },
  {
   "cell_type": "code",
   "execution_count": 29,
   "id": "b43d1071",
   "metadata": {},
   "outputs": [
    {
     "name": "stdout",
     "output_type": "stream",
     "text": [
      "홍길동, 33, 신림동\n",
      "\n",
      "홍길동, 33, 신림동\n",
      "유성미,31,신림동\n",
      "유성미,31,신림동\n",
      "\n"
     ]
    }
   ],
   "source": [
    "#한 줄씩 계속 읽기(while문 활용해서)\n",
    "with open ('data/ch.09_1test.txt', 'r', encoding='utf-8') as f:\n",
    "    while True:\n",
    "        line = f.readline()\n",
    "        if not line:\n",
    "            break\n",
    "        print(line) #줄이 띄어져 있음\n",
    "        print(line.strip()) #줄간격 없이 바로 밑으로 내려오게 개행"
   ]
  },
  {
   "cell_type": "code",
   "execution_count": 64,
   "id": "253d5484",
   "metadata": {},
   "outputs": [
    {
     "name": "stdout",
     "output_type": "stream",
     "text": [
      "홍길동, 33, a@a.com ,신림동\n",
      "유성미, 31, b@b.com, 신림동"
     ]
    }
   ],
   "source": [
    "#한줄씩 읽기\n",
    "with open('data/ch.09_1test.txt', 'r', encoding='utf-8') as f:\n",
    "    line = f.readline()\n",
    "    while line != '':\n",
    "        print(line, end='')\n",
    "        line = f.readline()"
   ]
  },
  {
   "cell_type": "code",
   "execution_count": 65,
   "id": "dac88a23",
   "metadata": {},
   "outputs": [
    {
     "name": "stdout",
     "output_type": "stream",
     "text": [
      "['홍길동, 33, a@a.com ,신림동\\n', '유성미, 31, b@b.com, 신림동']\n"
     ]
    }
   ],
   "source": [
    "#모든 줄 읽기\n",
    "with open('data/ch.09_1test.txt', 'r', encoding='utf-8') as f:\n",
    "    lines = f.readlines()\n",
    "    print(lines)"
   ]
  },
  {
   "cell_type": "code",
   "execution_count": 45,
   "id": "8c8df61b",
   "metadata": {},
   "outputs": [
    {
     "name": "stdout",
     "output_type": "stream",
     "text": [
      "홍길동, 33, 신림동\n",
      "유성미,31,신림동\n"
     ]
    }
   ],
   "source": [
    "with open ('data/ch.09_1test.txt', 'r', encoding='utf-8') as f:\n",
    "    lines = f.read()\n",
    "    print(lines)"
   ]
  },
  {
   "cell_type": "code",
   "execution_count": 66,
   "id": "6e1481b4",
   "metadata": {},
   "outputs": [
    {
     "data": {
      "text/plain": [
       "['홍길동, 33, a@a.com ,신림동\\n', '유성미, 31, b@b.com, 신림동']"
      ]
     },
     "execution_count": 66,
     "metadata": {},
     "output_type": "execute_result"
    }
   ],
   "source": [
    "lines"
   ]
  },
  {
   "cell_type": "code",
   "execution_count": 67,
   "id": "8356eba8",
   "metadata": {},
   "outputs": [
    {
     "name": "stdout",
     "output_type": "stream",
     "text": [
      "['홍길동', ' 33', ' 신림동']\n",
      "['유성미', '31', '신림동']\n"
     ]
    }
   ],
   "source": [
    "data = ['홍길동, 33, 신림동\\n', '유성미,31,신림동']\n",
    "for line in data:\n",
    "    line = line.strip()\n",
    "    dem = line.split(',')\n",
    "    print(dem)"
   ]
  },
  {
   "cell_type": "code",
   "execution_count": 69,
   "id": "fd25bf69",
   "metadata": {},
   "outputs": [
    {
     "name": "stdout",
     "output_type": "stream",
     "text": [
      "홍길동, 33, a@a.com ,신림동\n",
      "유성미, 31, b@b.com, 신림동\n"
     ]
    }
   ],
   "source": [
    "#리스트에 안 넣고 텍스트 출력하는 방식. 모든 텍스트 다 한번에 한줄에 가능\n",
    "\n",
    "with open('data/ch.09_1test.txt', 'r', encoding='utf-8') as f:\n",
    "    for line in f:\n",
    "        print(line.strip())"
   ]
  },
  {
   "cell_type": "markdown",
   "id": "8635d0f9",
   "metadata": {},
   "source": [
    "## 2-1.형식이 있는 txt 데이터 불러오기"
   ]
  },
  {
   "cell_type": "code",
   "execution_count": 70,
   "id": "0ee3e9d3",
   "metadata": {},
   "outputs": [],
   "source": [
    "class Member:\n",
    "    def __init__(self, name, age, email, address):   #객체 생성자/ 생성될 때 변수 설정\n",
    "        self.name = name\n",
    "        self.age = age\n",
    "        self.email = email\n",
    "        self.address = address\n",
    "    def __str__(self):                                #객체 문자열로 출력하기 위해서 \n",
    "        return \"{},{},{},{}\".format(self.name,\n",
    "                                    self.age,\n",
    "                                    self.email,\n",
    "                                    self.address)\n",
    "    def as_dict(self):                                 #객체를 딕셔너리 형태로 반환(데이터 가공)\n",
    "        return {\n",
    "            'name':self.name,\n",
    "            'age' :self.age,\n",
    "            'email' :self.email,\n",
    "            'address':self.address\n",
    "        }\n",
    "    #__eq__ 두개의 값이 같은지 비교할 때 쓰임 (==와 동일함?)\n",
    "    def __eq__(self, other):\n",
    "        return self.name == other.name and \\\n",
    "               self.age == other.age and \\\n",
    "               self.email == other.email and \\\n",
    "               self.address == other.address \n"
   ]
  },
  {
   "cell_type": "code",
   "execution_count": 71,
   "id": "261ccc5b",
   "metadata": {},
   "outputs": [
    {
     "name": "stdout",
     "output_type": "stream",
     "text": [
      "True\n",
      "True\n"
     ]
    }
   ],
   "source": [
    "user1 = Member('홍',20,'a@a.com','신림동')\n",
    "user2 = Member('홍',20,'a@a.com','신림동')\n",
    "print(user1==user2)\n",
    "print(user1.__eq__(user2)) "
   ]
  },
  {
   "cell_type": "code",
   "execution_count": 72,
   "id": "5238fc96",
   "metadata": {},
   "outputs": [],
   "source": [
    "user_list = [] #member list\n",
    "user_dict = [] #딕셔너리 list\n",
    "\n",
    "with open('data/ch.09_1test.txt','r',encoding='utf-8') as txt_file:\n",
    "    lines = txt_file.readlines()\n",
    "for line in lines:\n",
    "    data = line.split(',')\n",
    "    name = data[0]\n",
    "    age = int(data[1].strip())\n",
    "    email = data[2].strip()\n",
    "    address = data[3].strip()\n",
    "    \n",
    "    user = Member(name,age,email,address)\n",
    "    user_list.append(user)\n",
    "    user_dict.append(user.as_dict()) #"
   ]
  },
  {
   "cell_type": "code",
   "execution_count": 75,
   "id": "a46ef04a",
   "metadata": {},
   "outputs": [
    {
     "data": {
      "text/plain": [
       "[{'name': '홍길동', 'age': 33, 'email': 'a@a.com', 'address': '신림동'},\n",
       " {'name': '유성미', 'age': 31, 'email': 'b@b.com', 'address': '신림동'}]"
      ]
     },
     "execution_count": 75,
     "metadata": {},
     "output_type": "execute_result"
    }
   ],
   "source": [
    "user_dict"
   ]
  },
  {
   "cell_type": "code",
   "execution_count": 77,
   "id": "c5887534",
   "metadata": {},
   "outputs": [
    {
     "name": "stdout",
     "output_type": "stream",
     "text": [
      "홍길동,33,a@a.com,신림동\n",
      "유성미,31,b@b.com,신림동\n"
     ]
    }
   ],
   "source": [
    "for user in user_list:\n",
    "    print(user)"
   ]
  },
  {
   "cell_type": "code",
   "execution_count": 78,
   "id": "4f86cab8",
   "metadata": {},
   "outputs": [],
   "source": [
    "import pickle\n",
    "with open('data/ch09_member1_test.data', 'wb') as f:\n",
    "    pickle.dump(user_list, f)"
   ]
  },
  {
   "cell_type": "code",
   "execution_count": 79,
   "id": "7347360f",
   "metadata": {},
   "outputs": [],
   "source": [
    "with open('data/ch09_member1_test.data', 'rb') as fi:\n",
    "    load_user_list = pickle.load(fi)"
   ]
  },
  {
   "cell_type": "code",
   "execution_count": 80,
   "id": "98183700",
   "metadata": {},
   "outputs": [
    {
     "data": {
      "text/plain": [
       "True"
      ]
     },
     "execution_count": 80,
     "metadata": {},
     "output_type": "execute_result"
    }
   ],
   "source": [
    "user_list == load_user_list"
   ]
  },
  {
   "cell_type": "code",
   "execution_count": 81,
   "id": "f95167d5",
   "metadata": {},
   "outputs": [
    {
     "name": "stdout",
     "output_type": "stream",
     "text": [
      "[<__main__.Member object at 0x0000023BFC1681C0>, <__main__.Member object at 0x0000023BFC16A8C0>]\n"
     ]
    }
   ],
   "source": [
    "print(user_list)"
   ]
  },
  {
   "cell_type": "code",
   "execution_count": 82,
   "id": "640482d8",
   "metadata": {},
   "outputs": [
    {
     "name": "stdout",
     "output_type": "stream",
     "text": [
      "[<__main__.Member object at 0x0000023BFBBB3F40>, <__main__.Member object at 0x0000023BFC0FE170>]\n"
     ]
    }
   ],
   "source": [
    "print(load_user_list)"
   ]
  },
  {
   "cell_type": "code",
   "execution_count": 84,
   "id": "003f4734",
   "metadata": {},
   "outputs": [
    {
     "name": "stdout",
     "output_type": "stream",
     "text": [
      "0 홍길동,33,a@a.com,신림동\n",
      "0 홍길동,33,a@a.com,신림동\n",
      "1 유성미,31,b@b.com,신림동\n",
      "1 유성미,31,b@b.com,신림동\n"
     ]
    }
   ],
   "source": [
    "for idx in range(len(user_list)):\n",
    "    print(idx,user_list[idx])\n",
    "    print(idx, load_user_list[idx])"
   ]
  },
  {
   "cell_type": "code",
   "execution_count": null,
   "id": "08aa20ad",
   "metadata": {},
   "outputs": [],
   "source": []
  }
 ],
 "metadata": {
  "kernelspec": {
   "display_name": "Python 3 (ipykernel)",
   "language": "python",
   "name": "python3"
  },
  "language_info": {
   "codemirror_mode": {
    "name": "ipython",
    "version": 3
   },
   "file_extension": ".py",
   "mimetype": "text/x-python",
   "name": "python",
   "nbconvert_exporter": "python",
   "pygments_lexer": "ipython3",
   "version": "3.10.9"
  },
  "toc": {
   "base_numbering": 1,
   "nav_menu": {},
   "number_sections": false,
   "sideBar": true,
   "skip_h1_title": false,
   "title_cell": "Table of Contents",
   "title_sidebar": "Contents",
   "toc_cell": false,
   "toc_position": {
    "height": "calc(100% - 180px)",
    "left": "10px",
    "top": "150px",
    "width": "231.837px"
   },
   "toc_section_display": true,
   "toc_window_display": true
  }
 },
 "nbformat": 4,
 "nbformat_minor": 5
}
