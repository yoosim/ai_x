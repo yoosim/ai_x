{
 "cells": [
  {
   "cell_type": "code",
   "execution_count": 30,
   "id": "ac6d06bb",
   "metadata": {},
   "outputs": [
    {
     "data": {
      "text/html": [
       "\n",
       "<style>\n",
       "div.container{width:86% !important;}\n",
       "div.cell.code_cell.rendered{width:100%;}\n",
       "div.CodeMirror {font-family:Consolas; font-size:15pt;}\n",
       "div.output {font-size:15pt; font-weight:bold;}\n",
       "div.input {font-family:Consolas; font-size:15pt;}\n",
       "div.prompt {min-width:70px;}\n",
       "div#toc-wrapper{padding-top:120px;}\n",
       "div.text_cell_render ul li{font-size:12pt;padding:5px;}\n",
       "table.dataframe{font-size:15px;}\n",
       "</style>\n",
       " "
      ],
      "text/plain": [
       "<IPython.core.display.HTML object>"
      ]
     },
     "metadata": {},
     "output_type": "display_data"
    }
   ],
   "source": [
    "from IPython.display import display, HTML \n",
    "display(HTML(\"\"\"\n",
    "<style>\n",
    "div.container{width:86% !important;}\n",
    "div.cell.code_cell.rendered{width:100%;}\n",
    "div.CodeMirror {font-family:Consolas; font-size:15pt;}\n",
    "div.output {font-size:15pt; font-weight:bold;}\n",
    "div.input {font-family:Consolas; font-size:15pt;}\n",
    "div.prompt {min-width:70px;}\n",
    "div#toc-wrapper{padding-top:120px;}\n",
    "div.text_cell_render ul li{font-size:12pt;padding:5px;}\n",
    "table.dataframe{font-size:15px;}\n",
    "</style>\n",
    " \"\"\"))"
   ]
  },
  {
   "cell_type": "markdown",
   "id": "58fa1551",
   "metadata": {},
   "source": [
    "<span style=\"color:green; font-size: 30px; font-weight: bold;\">ch07.객체지향 프로그래밍</span>"
   ]
  },
  {
   "cell_type": "code",
   "execution_count": 9,
   "id": "d90c7b63",
   "metadata": {},
   "outputs": [
    {
     "name": "stdout",
     "output_type": "stream",
     "text": [
      "홍길동 남자 MBC\n",
      "홍낄쑥 None MBC\n"
     ]
    }
   ],
   "source": [
    "person1 = {'name':'홍길동','gender':'남자','accademy':'MBC'}\n",
    "person2 = {'name':'홍길숙','sender':'여자','accademy': 'MBC'}\n",
    "print(person1['name'],person1['gender'],person1['accademy'])\n",
    "person2['name']='홍낄쑥'\n",
    "print(person2['name'],person2.get('gender'),person2['accademy'])"
   ]
  },
  {
   "cell_type": "code",
   "execution_count": 24,
   "id": "2ec59b51",
   "metadata": {},
   "outputs": [],
   "source": [
    "class Person:         #클래스 이름은 대문자로 설정 , 소문자도 가능하나 많이 사용되진 않는다. \n",
    "    accademy = 'MBC'  #클래스 변수 (기본값을 MBC로 한다)\n",
    "    def __init__(self, name, gender):    #생성자함수    #self 객체를 뜻함\n",
    "        self.name = name  #객체안의 변수 (인스턴스 변수) #self 내 객체안에 name을 만들겠다. \n",
    "        self.gender = gender  #self 내 객체안에 gender를 만들겠다. \n",
    "        \n",
    "    def print_info(self):      #클래스안에는 보통 self를 써야 함. 안 들어갈 수도 있음  \n",
    "        print(\"{}는 {}입니다. {}를 다닙니다.\".format(self.name,\n",
    "                                                   self.gender,\n",
    "                                                   self.accademy))\n",
    "    def __str__(self):\n",
    "        return \"{}는 {}입니다. {}를 다닙니다.\".format(self.name,\n",
    "                                                   self.gender,\n",
    "                                                   self.accademy)"
   ]
  },
  {
   "cell_type": "code",
   "execution_count": null,
   "id": "d69c76cb",
   "metadata": {},
   "outputs": [],
   "source": [
    "#상속\n",
    "class Person(Object):  #object의 모든 권한이 Person으로 준다.  없어도 됨."
   ]
  },
  {
   "cell_type": "code",
   "execution_count": 17,
   "id": "5fab772f",
   "metadata": {},
   "outputs": [
    {
     "name": "stdout",
     "output_type": "stream",
     "text": [
      "홍길동는 남자입니다. MBC를 다닙니다.\n",
      "홍길숙는 여자입니다. MBC를 다닙니다.\n"
     ]
    }
   ],
   "source": [
    "p1 = Person('홍길동','남자') \n",
    "p2 = Person('홍길숙','여자')\n",
    "    # 첫번째 매개변수 name=홍길동,  두번째 매개변수 gender\n",
    "p1.print_info()\n",
    "p2.print_info()\n",
    "\n",
    "#()클래스안에 들어갈 변수가 있다면 __init__을 꼭 써야 함.\n",
    "                             # __init__ Person형 변수만들때 기본적으로 실행이 된다."
   ]
  },
  {
   "cell_type": "code",
   "execution_count": 28,
   "id": "703ae186",
   "metadata": {},
   "outputs": [
    {
     "name": "stdout",
     "output_type": "stream",
     "text": [
      "홍길동는 남자입니다. MBC를 다닙니다.\n",
      "홍길숙는 여자입니다. MBC를 다닙니다.\n",
      "******마길동**는 남자입니다. CBC를 다닙니다.\n",
      "홍길숙는 여자입니다. MBC를 다닙니다.\n",
      "******마길동**는 남자입니다. CBC를 다닙니다.\n",
      "홍길숙는 여자입니다. MBC를 다닙니다.\n",
      "******마길동**는 남자입니다. CBC를 다닙니다.\n",
      "홍길숙는 여자입니다. MBC를 다닙니다.\n"
     ]
    }
   ],
   "source": [
    "p1 = Person('홍길동','남자')     \n",
    "p2 = Person('홍길숙','여자')\n",
    "p1.print_info()\n",
    "p2.print_info()\n",
    "p1.name = '******마길동**'\n",
    "p1.accademy = 'CBC'\n",
    "p1.print_info()\n",
    "p2.print_info()\n",
    "print(p1.__str__())\n",
    "print(p2.__str__())\n",
    "print(p1)\n",
    "print(p2)"
   ]
  },
  {
   "cell_type": "markdown",
   "id": "958bc9e5",
   "metadata": {},
   "source": [
    "# 1절. 객체와 클래스\n",
    "```\n",
    "class 클래스명(상속받을 클래스명):\n",
    "    변수나 함수들 선언\n",
    "```"
   ]
  },
  {
   "cell_type": "code",
   "execution_count": 35,
   "id": "77288c22",
   "metadata": {},
   "outputs": [
    {
     "name": "stdout",
     "output_type": "stream",
     "text": [
      "<__main__.Person object at 0x000002308CA88D00>\n",
      "<class '__main__.Person'>\n"
     ]
    }
   ],
   "source": [
    "class Person:\n",
    "    '''\n",
    "    Person 클래스는 어쩌구 저쩌구 설명하는 독스트링\n",
    "    생성자 함수가 없을 경우, 디폴트 생성자 함수가 자동 생성\n",
    "    디폴트 생성자 : 매개변수 없는것\n",
    "    '''\n",
    "    pass\n",
    "\n",
    "p1 = Person()\n",
    "print(p1.__str__())  \n",
    "print(type(p1))"
   ]
  },
  {
   "cell_type": "code",
   "execution_count": 36,
   "id": "999cf1fa",
   "metadata": {},
   "outputs": [
    {
     "data": {
      "text/plain": [
       "True"
      ]
     },
     "execution_count": 36,
     "metadata": {},
     "output_type": "execute_result"
    }
   ],
   "source": [
    "isinstance(p1, Person) #타입 확인 (p1이 Person타입이 맞는지?)"
   ]
  },
  {
   "cell_type": "code",
   "execution_count": 37,
   "id": "35bf80e1",
   "metadata": {},
   "outputs": [
    {
     "data": {
      "text/plain": [
       "'\\n    Person 클래스는 어쩌구 저쩌구 설명하는 독스트링\\n    생성자 함수가 없을 경우, 디폴트 생성자 함수가 자동 생성\\n    디폴트 생성자 : 매개변수 없는것\\n    '"
      ]
     },
     "execution_count": 37,
     "metadata": {},
     "output_type": "execute_result"
    }
   ],
   "source": [
    "p1.__doc__"
   ]
  },
  {
   "cell_type": "markdown",
   "id": "a360ef03",
   "metadata": {},
   "source": [
    "# 2절. 생성자와 소멸자\n",
    "```\n",
    "- 생성자 : __init__(self, 매개변수,...) : 객체가 생성될 때 자동 실행\n",
    "                                        객체 생성시 필요한 인스턴스 변수 초기화를 포함\n",
    "                                        초기화 될때마다 달라지는 값\n",
    "- 소멸자 : __del__(self) : 객체가 소멸될 때 자동 실행\n",
    "                           인스턴스 객체의 레퍼런스(참조) 카운트가 0이 될 때 실행\n",
    "                          *소멸되는거라 매개변수 여러개 넣을 수 없음\n",
    "```"
   ]
  },
  {
   "cell_type": "code",
   "execution_count": 9,
   "id": "87c70c8a",
   "metadata": {},
   "outputs": [],
   "source": [
    "class Person:\n",
    "    def __init__(self, name, gender='남자'):\n",
    "        self.name = name     #객체안의 변수는 인스턴스 변수라고 함\n",
    "        self.gender = gender\n",
    "        print('Person 객체를 생성합니다.',name)        \n",
    "    def __del__(self):\n",
    "        print('Person 객체 소멸시킵니다.',self.name)\n",
    "    def print_info(self):\n",
    "        print(\"{}는 {}입니다.\".format(self.name,self.gender))\n",
    "    def __str__(self) : #오버라이딩(함수 재정의)\n",
    "        return f\"{self.name}는 {self.gender}입니다.\""
   ]
  },
  {
   "cell_type": "code",
   "execution_count": 10,
   "id": "db376502",
   "metadata": {},
   "outputs": [
    {
     "name": "stdout",
     "output_type": "stream",
     "text": [
      "Person 객체를 생성합니다. 신사임당\n",
      "신사임당는 여자입니다.\n"
     ]
    }
   ],
   "source": [
    "p1 = Person('신사임당','여자')\n",
    "print(p1)\n",
    "#성별이 없으면 남자만 넣고 싶다고 def __init__를 하게되면 오버로딩(중복지원), 지원이 안 됨. "
   ]
  },
  {
   "cell_type": "code",
   "execution_count": 11,
   "id": "2418ef59",
   "metadata": {},
   "outputs": [
    {
     "name": "stdout",
     "output_type": "stream",
     "text": [
      "Person 객체를 생성합니다. 홍길동\n",
      "홍길동는 남자입니다.\n"
     ]
    }
   ],
   "source": [
    "p2 = Person('홍길동') \n",
    "print(p2)"
   ]
  },
  {
   "cell_type": "code",
   "execution_count": 4,
   "id": "80ffeeb7",
   "metadata": {},
   "outputs": [],
   "source": [
    "p3 = p2"
   ]
  },
  {
   "cell_type": "code",
   "execution_count": 5,
   "id": "02d78d99",
   "metadata": {},
   "outputs": [
    {
     "name": "stdout",
     "output_type": "stream",
     "text": [
      "Person 객체 소멸시킵니다. 신사임당\n"
     ]
    }
   ],
   "source": [
    "del p1  #객체 레퍼런스가 삭제된 "
   ]
  },
  {
   "cell_type": "code",
   "execution_count": 6,
   "id": "f05f39ca",
   "metadata": {},
   "outputs": [],
   "source": [
    "del p2  #p2가 가르키는 메모리가 아직 있기에 소멸멘트 안 나옴"
   ]
  },
  {
   "cell_type": "code",
   "execution_count": 7,
   "id": "12a334ec",
   "metadata": {},
   "outputs": [
    {
     "name": "stdout",
     "output_type": "stream",
     "text": [
      "Person 객체 소멸시킵니다. 홍길동\n"
     ]
    }
   ],
   "source": [
    "del p3 #p3가 완전히 사라져서 소멸멘트가 나옴"
   ]
  },
  {
   "cell_type": "markdown",
   "id": "41d11241",
   "metadata": {},
   "source": [
    "# 3절. 변수와 메소드\n",
    "- 인스턴스 변수 vs 클래스 변수\n",
    "- 함수는 메소드라고 부른다.\n",
    "- 인스턴스 메소드 (self를 매개변수로) vs 클래스메소드(clz) vs  static 메소드(※괄호안에 아무것도 안 넣음)\n",
    "- import해서 쓰는건 인스턴스 메소드 많이 씀\n",
    "\n",
    "*클래스 변수 (클래스 설계도면에도 있고 객체에도 있는)"
   ]
  },
  {
   "cell_type": "markdown",
   "id": "d5f6fc04",
   "metadata": {},
   "source": [
    "## 변수"
   ]
  },
  {
   "cell_type": "code",
   "execution_count": 39,
   "id": "c4412f81",
   "metadata": {},
   "outputs": [
    {
     "name": "stdout",
     "output_type": "stream",
     "text": [
      "홍길동 남자\n"
     ]
    }
   ],
   "source": [
    "class Person:\n",
    "    name = '홍길동' #클래스 변수\n",
    "    gender = '남자'\n",
    "print(Person.name, Person.gender)  #바로 뿌릴 수 있음. 클래스에 바로 접근이 가능\n",
    "    \n",
    "    #스택 메모리 _ 클래스 설계도 (클래스 저장)\n",
    "    #힙 메모리 _ 객체 : 스택메모리와 동일한 값의 주소를 가짐. (변수 저장(객체))\n",
    "    #클래스 변수는 스태틱과 힙 메모리에 둘 다 잡힘\n",
    "    #스태틱변수(정적 변수) 객체들끼리 공유해야할 때 : 스택메모리 영역에만 있음 (객체만들지않고 바로 쓸 수 있음)"
   ]
  },
  {
   "cell_type": "code",
   "execution_count": 17,
   "id": "5c298919",
   "metadata": {},
   "outputs": [
    {
     "name": "stdout",
     "output_type": "stream",
     "text": [
      "홍길동 남자\n",
      "홍길동 남자\n",
      "홍길동 남자\n"
     ]
    }
   ],
   "source": [
    "p1 = Person()\n",
    "p2 = Person()\n",
    "print(Person.name, Person.gender)\n",
    "print(p1.name, p1.gender)\n",
    "print(p2.name, p2.gender)"
   ]
  },
  {
   "cell_type": "code",
   "execution_count": 20,
   "id": "608f077e",
   "metadata": {},
   "outputs": [
    {
     "name": "stdout",
     "output_type": "stream",
     "text": [
      "홍길동 남자\n",
      "홍길동 남자\n",
      "이순신 남자\n"
     ]
    }
   ],
   "source": [
    "p2.name = '이순신'\n",
    "print(Person.name, Person.gender)\n",
    "print(p1.name, p1.gender)\n",
    "print(p2.name, p2.gender)"
   ]
  },
  {
   "cell_type": "code",
   "execution_count": 21,
   "id": "10e54f9c",
   "metadata": {},
   "outputs": [
    {
     "name": "stdout",
     "output_type": "stream",
     "text": [
      "리사 여자\n",
      "리사 여자\n",
      "이순신 여자\n"
     ]
    }
   ],
   "source": [
    "Person.name = '리사'\n",
    "Person.gender = '여자'\n",
    "print(Person.name, Person.gender)\n",
    "print(p1.name, p1.gender)\n",
    "print(p2.name, p2.gender)"
   ]
  },
  {
   "cell_type": "markdown",
   "id": "d13841fe",
   "metadata": {},
   "source": [
    "## 인스턴스 메소드 vs 클래스메소드 vs static 메소드\n",
    "- 인스턴스 메소드 : 첫번째 인자에 self를 꼭 명시. 객체를 통해서만 호출할 수 있는 메소드(함수)\n",
    "- 클래스 메소드 : 메소드위에 @classmethod를 선언한 메소드 (데코레이터 필수). 첫번째 인자에 cls(clz)를 꼭 명시\n",
    "- static 메소드 : 메소드위에 @staticmethod를 선언한 메소드. 변수안에는 없는 메소드(힙메모리에는 없음), 인자를 넣지않음"
   ]
  },
  {
   "cell_type": "code",
   "execution_count": 30,
   "id": "ec35003f",
   "metadata": {},
   "outputs": [],
   "source": [
    "#일반 메소드 2개 만들기\n",
    "class Person:\n",
    "    name = '홍길동'\n",
    "    gender = '남자'\n",
    "    def print_info(self): #객체변수명.print_info()로 호출 필수. 클래스이름.print_info로 출력이 안 됨 \n",
    "        print(f'인스턴스메소드(일반 메소드) : {self.name}는 {self.gender}입니다.')\n",
    "    def change_info(self, name, gender='남자'): #호출할 때 객체변수.change_info('김','여자') / 매개변수는 2개 \n",
    "        self.name = 'name'\n",
    "        self.gender = 'gender'\n",
    "        print(f'인스턴스메소드(일반 메소드) : {self.name}/{self.gender}로 변경 완료')\n",
    "    @classmethod   #데코레이터는 다음줄에 적용된다.\n",
    "    def do_(clz): #clz==Person. 클래스 변수를 이용한 로직 / Person.do_()호출\n",
    "        clz.name = '신사임당'\n",
    "        clz.gender = '여자'\n",
    "        print(f'클래스메소드 : {clz.name}/{clz.gender} 변경완료')\n",
    "    @staticmethod            \n",
    "    def that_():    #클래스 변수를 이용하기 보다는 로직이 우선일 경우. person.that_()\n",
    "        Person.name = '힌길동'\n",
    "        Person.gender = '남자'\n",
    "        print(f'스테틱메소드 : {Person.name}/{Person.gender} 변경완료')"
   ]
  },
  {
   "cell_type": "code",
   "execution_count": 31,
   "id": "a13bce26",
   "metadata": {},
   "outputs": [
    {
     "name": "stdout",
     "output_type": "stream",
     "text": [
      "인스턴스메소드(일반 메소드) : 홍길동는 남자입니다.\n"
     ]
    }
   ],
   "source": [
    "p1 = Person()\n",
    "p1.print_info()"
   ]
  },
  {
   "cell_type": "code",
   "execution_count": 32,
   "id": "326a3d2f",
   "metadata": {},
   "outputs": [
    {
     "name": "stdout",
     "output_type": "stream",
     "text": [
      "클래스메소드 : 신사임당/여자 변경완료\n"
     ]
    }
   ],
   "source": [
    "Person.do_()"
   ]
  },
  {
   "cell_type": "code",
   "execution_count": 33,
   "id": "419835db",
   "metadata": {},
   "outputs": [
    {
     "name": "stdout",
     "output_type": "stream",
     "text": [
      "스테틱메소드 : 힌길동/남자 변경완료\n"
     ]
    }
   ],
   "source": [
    "Person.that_()"
   ]
  },
  {
   "cell_type": "code",
   "execution_count": 34,
   "id": "9202a398",
   "metadata": {},
   "outputs": [
    {
     "name": "stdout",
     "output_type": "stream",
     "text": [
      "인스턴스메소드(일반 메소드) : 힌길동는 남자입니다.\n"
     ]
    }
   ],
   "source": [
    "p1.print_info()"
   ]
  },
  {
   "cell_type": "markdown",
   "id": "0229ca98",
   "metadata": {},
   "source": [
    "## 1절 ~ 3절 요약\n",
    "**객체를 이용하면 객체에 정보를 저장,그 정보를 이용해서 어떤 기능을 수행할 수 있다.** \\\n",
    "**객체 = 데이터(변수:객체마다 고유의 값) + 기능(메소드,함수)** \n",
    "\n",
    "**그 객체를 만들기 위한 틀을 클래스라고 한다.** \\\n",
    "class는 변수랑 함수랑 같이 있다.\\\n",
    "타인이 만든 class를 import해서 쓸때 사용하는 일이 많다.\n",
    "\n",
    "```\n",
    "    calss 클래스명:\n",
    "        '독스트링(한줄이 아닌 여러줄이면 ''' '''을 사용해서 문장을 구분한다.)\n",
    "        클래스변수명 = 값\n",
    "        def __init__(self,[객체멤버를 초기화할 변수=값,...])\":\n",
    "            self.인스턴스(일반)변수=값\n",
    "            객체를 생성할 때 객체 멤버변수의 초기화\n",
    "        def method(self):\n",
    "            인스턴스 메소드(일반함수)의 매개변수는 self를 반드시 포함해야 함\n",
    "        @classmethod\n",
    "        def classmethod(cls):\n",
    "            코드 \n",
    "        @staticmethod\n",
    "        def staticmethod():\n",
    "            코드 \n",
    "    객체변수 = 클래스명()\n",
    "    객체변수.method()\n",
    "    클래스명.classmethod()\n",
    "    클래스명.staticmethod()\n",
    "```"
   ]
  },
  {
   "cell_type": "code",
   "execution_count": 16,
   "id": "017b7564",
   "metadata": {},
   "outputs": [
    {
     "name": "stdout",
     "output_type": "stream",
     "text": [
      "홍길동입니다.\n",
      "홍길동입니다.\n"
     ]
    },
    {
     "data": {
      "text/plain": [
       "(True, True)"
      ]
     },
     "execution_count": 16,
     "metadata": {},
     "output_type": "execute_result"
    }
   ],
   "source": [
    "class Person:  #틀을 만듬\n",
    "    def __init__(self, name):\n",
    "        self.name = name\n",
    "    def __str__(self):\n",
    "        return f'{self.name}입니다.'\n",
    "    def print_info(self):\n",
    "        #print(f'{self.name}입니다')\n",
    "        print(self)\n",
    "        \n",
    "p = Person('홍길동')\n",
    "print(p)\n",
    "p.print_info()\n",
    "\n",
    "p.nickname = '홍별명'  #파아썬은 동적으로 인스턴스 멤버 추가가 가능하다.\n",
    "p1 = Person('홍길숙')\n",
    "\n",
    "isinstance(p, Person), isinstance(p1, Person)"
   ]
  },
  {
   "cell_type": "markdown",
   "id": "4f7ebe76",
   "metadata": {},
   "source": [
    "# 4절. 상속과 재정의\n",
    "- 클래스를 재사용 (상속)\n",
    "- 상속을 이용하면 부모클래스의 모든 속성을 자식클래스로 물려줄 수 있음\n",
    "- 재정의 오버라이드(Override)\n",
    "\n",
    "```\n",
    "- calss 클래스명(부모클래스명): #부모클래스명으로 상속받아 calss 클래스명이 자식클래스명으로 지정됨.\n",
    "    pass #부모 클래스에서 상속받은 그대로 쓰겠다. 추가 ,삭제가 없다.\n",
    "```"
   ]
  },
  {
   "cell_type": "code",
   "execution_count": 22,
   "id": "c80a538e",
   "metadata": {},
   "outputs": [
    {
     "name": "stdout",
     "output_type": "stream",
     "text": [
      "두 수 초기화\n",
      "4\n",
      "4\n",
      "두 수 초기화\n",
      "5\n"
     ]
    }
   ],
   "source": [
    "class Cal:\n",
    "    def __init__(self, num1=1, num2=2):\n",
    "        print('두 수 초기화')\n",
    "        self.num1 = num1\n",
    "        self.num2 = num2\n",
    "    def add(self):\n",
    "        return self.num1+self.num2\n",
    "    def sub(self):\n",
    "        return self.num1-self.num2\n",
    "    def div(self):\n",
    "        return self.num1/self.num2 if self.num2!=0 else '0으로 나눌 수 없어요'\n",
    "    def __str__(self):\n",
    "        return 'num1={}, num2={}'.format(self.num1, self.num2)\n",
    "    \n",
    "class Cal_inherit(Cal):\n",
    "    def mul(self):\n",
    "        return self.num1*self.num2\n",
    "    \n",
    "obj1 = Cal_inherit(2,2)\n",
    "print(obj1.add())\n",
    "print(obj1.mul())\n",
    "obj2 = Cal(2,3)\n",
    "print(obj2.add())"
   ]
  },
  {
   "cell_type": "code",
   "execution_count": 25,
   "id": "2c02e1e5",
   "metadata": {},
   "outputs": [
    {
     "data": {
      "text/plain": [
       "(type, type)"
      ]
     },
     "execution_count": 25,
     "metadata": {},
     "output_type": "execute_result"
    }
   ],
   "source": [
    "type(Cal), type(Cal_inherit)   #클래스는 타입"
   ]
  },
  {
   "cell_type": "code",
   "execution_count": 28,
   "id": "1311e3c6",
   "metadata": {},
   "outputs": [
    {
     "data": {
      "text/plain": [
       "(__main__.Cal_inherit, True, True)"
      ]
     },
     "execution_count": 28,
     "metadata": {},
     "output_type": "execute_result"
    }
   ],
   "source": [
    "type(obj1), isinstance(obj1, Cal_inherit), isinstance(obj1, Cal)  \n",
    "#Cal_inherit is a Cal (상속은 is a 관계)"
   ]
  },
  {
   "cell_type": "code",
   "execution_count": null,
   "id": "f9477114",
   "metadata": {},
   "outputs": [],
   "source": [
    "#기존에 물려받은 클래스에서 변경"
   ]
  },
  {
   "cell_type": "code",
   "execution_count": 33,
   "id": "c8cff6e4",
   "metadata": {},
   "outputs": [
    {
     "name": "stdout",
     "output_type": "stream",
     "text": [
      "이름과 성별 초기화\n",
      "홍길동님은 남자\n",
      "홍길동님은 남자\n"
     ]
    }
   ],
   "source": [
    "\n",
    "class Person:\n",
    "    'Person은 이름과 성별을 멤버변수로 갖고 출력기능'\n",
    "    def __init__(self, name, gender):\n",
    "        print('이름과 성별 초기화')\n",
    "        self.name = name\n",
    "        self.gender = gender\n",
    "    def __str__(self):\n",
    "        return \"{}님은 {}\".format(self.name, self.gender)\n",
    "    def print_info(self):\n",
    "        print(self) #__str__은 자동으로 생성되어서 생략해도 됨. 생략되어서 str의 문장이 나옴\n",
    "        \n",
    "p = Person(\"홍길동\",\"남자\")\n",
    "p.print_info() #()괄호안에 변수p를 안 넣음\n",
    "Person.print_info(p) #이렇게 쓸 수 있지만 많이 쓰지않음."
   ]
  },
  {
   "cell_type": "markdown",
   "id": "d36ce3e6",
   "metadata": {},
   "source": [
    "```\n",
    "override : 함수의 재정의(부모클래스의 함수를 자식클래스에서 다시 정의\n",
    "           부모클래스의 함수명과 매개변수 갯수가 동일해야 함\n",
    "overload : 함수의 중복정의(같은 이름의 함수를 매개변수 갯수를 달리 해서 정의)\n",
    "           파이썬에서 overload는 불가능. c++,java에서 가능 \n",
    "```"
   ]
  },
  {
   "cell_type": "code",
   "execution_count": 35,
   "id": "af13e942",
   "metadata": {},
   "outputs": [
    {
     "name": "stdout",
     "output_type": "stream",
     "text": [
      "이름과 성별 초기화\n",
      "홍길숙님은 여자이고, 전공은AI입니다.\n",
      "홍길숙님은 여자이고, 전공은AI입니다.\n"
     ]
    }
   ],
   "source": [
    "#부모클래스 함수를 자식클래스 함수에서 재정의 (오버라이드:override)\n",
    "class Student(Person): \n",
    "    def __init__(self,name, gender, major):\n",
    "#         self.name = name\n",
    "#         self.gender = gender\n",
    "# 부모 함수 생성자 불러옴\n",
    "        super().__init__(name, gender)  #super() :부모클래스의 __init__을 호출하는법\n",
    "        self.major = major              #Person.__init__(self, name, gender)로도 할 수 있으나 잘 안 함.\n",
    "    def __str__(self): #override\n",
    "        return super().__str__() + \"이고, 전공은{}입니다.\".format(self.major)\n",
    "\n",
    "s = Student('홍길숙','여자', 'AI')\n",
    "s.print_info()\n",
    "print(s)"
   ]
  },
  {
   "cell_type": "code",
   "execution_count": 37,
   "id": "56261217",
   "metadata": {},
   "outputs": [
    {
     "data": {
      "text/plain": [
       "(True, True)"
      ]
     },
     "execution_count": 37,
     "metadata": {},
     "output_type": "execute_result"
    }
   ],
   "source": [
    "isinstance(s, Student), isinstance(s,Person) "
   ]
  },
  {
   "cell_type": "markdown",
   "id": "19d896a6",
   "metadata": {},
   "source": [
    "## 정적 변수(static 변수) : 여러객체들 사이에서 데이터를 공유하고 싶을 때 사용\n",
    "\n",
    "``` \n",
    "static 변수는 공유 변수이다.\n",
    "static 변수 앞에 under score 2개( __ )를 붙이면 클래스명.__클래스명__\n",
    "*클래스명._클래스명__static변수명으로 참조\n",
    "```\n",
    "\n",
    "**클래스 변수명은 외부에서 바로 접근이 가능** \\\n",
    "**static변수명은 외부에서 바로 접근하는 것을 방지** \\\n",
    "**static변수는 클래스 내부에서만 접근하도록 하도록 의도**"
   ]
  },
  {
   "cell_type": "code",
   "execution_count": null,
   "id": "8b18e66a",
   "metadata": {},
   "outputs": [],
   "source": [
    "# class Person:\n",
    "#     __count = 0                                  #static 변수 객체랑 별개로 __count = 0이라는 변수가 만들어짐\n",
    "#     def __init__(self, name, gender):            #생성자 함수\n",
    "#         self.name = name\n",
    "#         self.gender = gender"
   ]
  },
  {
   "cell_type": "code",
   "execution_count": 40,
   "id": "9a46bf21",
   "metadata": {},
   "outputs": [
    {
     "ename": "Exception",
     "evalue": "이 메소드를 호출하면 예외가 납니다.",
     "output_type": "error",
     "traceback": [
      "\u001b[1;31m---------------------------------------------------------------------------\u001b[0m",
      "\u001b[1;31mException\u001b[0m                                 Traceback (most recent call last)",
      "Cell \u001b[1;32mIn[40], line 11\u001b[0m\n\u001b[0;32m      9\u001b[0m \u001b[38;5;66;03m#                 '{}은{}'.format(self.name, self.gender) \u001b[39;00m\n\u001b[0;32m     10\u001b[0m p \u001b[38;5;241m=\u001b[39m Person(\u001b[38;5;124m'\u001b[39m\u001b[38;5;124m홍길동\u001b[39m\u001b[38;5;124m'\u001b[39m,\u001b[38;5;124m'\u001b[39m\u001b[38;5;124m남자\u001b[39m\u001b[38;5;124m'\u001b[39m)\n\u001b[1;32m---> 11\u001b[0m \u001b[43mp\u001b[49m\u001b[38;5;241;43m.\u001b[39;49m\u001b[43mprint_info\u001b[49m\u001b[43m(\u001b[49m\u001b[43m)\u001b[49m\n",
      "Cell \u001b[1;32mIn[40], line 6\u001b[0m, in \u001b[0;36mPerson.print_info\u001b[1;34m(self)\u001b[0m\n\u001b[0;32m      5\u001b[0m \u001b[38;5;28;01mdef\u001b[39;00m \u001b[38;5;21mprint_info\u001b[39m(\u001b[38;5;28mself\u001b[39m):\n\u001b[1;32m----> 6\u001b[0m     \u001b[38;5;28;01mraise\u001b[39;00m \u001b[38;5;167;01mException\u001b[39;00m (\u001b[38;5;124m\"\u001b[39m\u001b[38;5;124m이 메소드를 호출하면 예외가 납니다.\u001b[39m\u001b[38;5;124m\"\u001b[39m)\n",
      "\u001b[1;31mException\u001b[0m: 이 메소드를 호출하면 예외가 납니다."
     ]
    }
   ],
   "source": [
    "\n",
    "class Person:\n",
    "    def __init__(self, name, gender):            #생성자 함수\n",
    "        self.name = name\n",
    "        self.gender = gender\n",
    "    def print_info(self):   #추상메소드\n",
    "        raise Exception (\"이 메소드를 호출하면 예외가 납니다.\")    #강제 예외 발생 \n",
    "    def __str__(self):\n",
    "        return f'{self.name}은 {self.gender}'\n",
    "#                 '{}은{}'.format(self.name, self.gender) \n",
    "p = Person('홍길동','남자')\n",
    "p.print_info()\n",
    "# 함수가 있는데 프린트를 못하면 추상메소드라고 함 여러 클래스가 비슷한 역할을 하지만, 동작 방식은 서로 다를 때\n",
    "# 추상메소드 : 자식 클래스가 반드시 이 메서드를 오버라이드(재정의) 해야 함."
   ]
  },
  {
   "cell_type": "code",
   "execution_count": 19,
   "id": "4cec5a6e",
   "metadata": {},
   "outputs": [],
   "source": [
    "class Person:\n",
    "    def __init__(self, name, gender):            #생성자 함수\n",
    "        self.name = name\n",
    "        self.gender = gender\n",
    "    def print_info(self):   #추상메소드\n",
    "        raise Exception (\"이 메소드를 호출하면 예외가 납니다.\")    #강제 예외 발생 \n",
    "    def __str__(self):\n",
    "        return f'{self.name}은 {self.gender}'\n",
    "#                 '{}은{}'.format(self.name, self.gender) "
   ]
  },
  {
   "cell_type": "code",
   "execution_count": 2,
   "id": "a3d039ef",
   "metadata": {},
   "outputs": [],
   "source": [
    "class Student(Person):\n",
    "    __count = 0  #static 변수 (객체의 갯수나 시리얼 넘버나)\n",
    "    # 클래스명._클래스명__count로 사용, 클래스명.__count는 외부에서 접근 불가\n",
    "    def __init__(self, name, gender, major):\n",
    "        super().__init__(name, gender)\n",
    "        self.major = major\n",
    "        Student._Student__count += 1 #객체가 생성될때마다 __count가 1 증가 \n",
    "    def __del__(self):\n",
    "        Student._Student__count -= 1 #객체가 소멸될때마다 __count가 1 감소\n",
    "        print('객체 소멸')\n",
    "    def print_info(self): #오버라이드 (부모클래스와 함수 이름이랑 매개변수 갯수가 동일해야 함)\n",
    "        print(\"{}는 {}이며, 전공은 {}이다. ({}번째 객체)\".format(self.name, \n",
    "                                            self.gender, \n",
    "                                            self.major,\n",
    "                                            Student._Student__count))\n",
    "    def __str__(self):\n",
    "        return super().__str__()+ \"이며, 전공은 {}이다.\".format(self.major)\n",
    "    @classmethod #__count를 외부로 불러오기 위한 것 \n",
    "    def get_count(cls):\n",
    "#         return cls.__count\n",
    "        return Student._Student__count"
   ]
  },
  {
   "cell_type": "code",
   "execution_count": 3,
   "id": "a047a219",
   "metadata": {},
   "outputs": [
    {
     "name": "stdout",
     "output_type": "stream",
     "text": [
      "홍길동는 남자이며, 전공은 AI이다. (2번째 객체)\n"
     ]
    }
   ],
   "source": [
    "s1 = Student(\"홍길동\", \"남자\", \"AI\")\n",
    "s2 = Student(\"김길숙\",\"여자\",\"데이터\")\n",
    "s1.print_info()"
   ]
  },
  {
   "cell_type": "code",
   "execution_count": 4,
   "id": "8a1a17b6",
   "metadata": {},
   "outputs": [
    {
     "name": "stdout",
     "output_type": "stream",
     "text": [
      "신길동는 남자이며, 전공은 컴퓨터공학이다. (3번째 객체)\n"
     ]
    }
   ],
   "source": [
    "s3 = Student(\"신길동\",\"남자\",\"컴퓨터공학\")\n",
    "s3.print_info()"
   ]
  },
  {
   "cell_type": "code",
   "execution_count": 5,
   "id": "28b3a3a9",
   "metadata": {},
   "outputs": [
    {
     "data": {
      "text/plain": [
       "3"
      ]
     },
     "execution_count": 5,
     "metadata": {},
     "output_type": "execute_result"
    }
   ],
   "source": [
    "Student.get_count()"
   ]
  },
  {
   "cell_type": "code",
   "execution_count": 6,
   "id": "741edc29",
   "metadata": {},
   "outputs": [
    {
     "name": "stdout",
     "output_type": "stream",
     "text": [
      "객체 소멸\n"
     ]
    }
   ],
   "source": [
    "del s3"
   ]
  },
  {
   "cell_type": "code",
   "execution_count": 7,
   "id": "0ed56083",
   "metadata": {},
   "outputs": [
    {
     "data": {
      "text/plain": [
       "2"
      ]
     },
     "execution_count": 7,
     "metadata": {},
     "output_type": "execute_result"
    }
   ],
   "source": [
    "Student.get_count()"
   ]
  },
  {
   "cell_type": "code",
   "execution_count": 12,
   "id": "00d17d16",
   "metadata": {},
   "outputs": [
    {
     "ename": "Exception",
     "evalue": "이 메소드를 호출하면 예외가 납니다.",
     "output_type": "error",
     "traceback": [
      "\u001b[1;31m---------------------------------------------------------------------------\u001b[0m",
      "\u001b[1;31mException\u001b[0m                                 Traceback (most recent call last)",
      "Cell \u001b[1;32mIn[12], line 2\u001b[0m\n\u001b[0;32m      1\u001b[0m p \u001b[38;5;241m=\u001b[39m Person(\u001b[38;5;124m'\u001b[39m\u001b[38;5;124m홍길동\u001b[39m\u001b[38;5;124m'\u001b[39m,\u001b[38;5;124m'\u001b[39m\u001b[38;5;124m남자\u001b[39m\u001b[38;5;124m'\u001b[39m)\n\u001b[1;32m----> 2\u001b[0m \u001b[43mp\u001b[49m\u001b[38;5;241;43m.\u001b[39;49m\u001b[43mprint_info\u001b[49m\u001b[43m(\u001b[49m\u001b[43m)\u001b[49m\n",
      "Cell \u001b[1;32mIn[6], line 6\u001b[0m, in \u001b[0;36mPerson.print_info\u001b[1;34m(self)\u001b[0m\n\u001b[0;32m      5\u001b[0m \u001b[38;5;28;01mdef\u001b[39;00m \u001b[38;5;21mprint_info\u001b[39m(\u001b[38;5;28mself\u001b[39m):   \u001b[38;5;66;03m#추상메소드\u001b[39;00m\n\u001b[1;32m----> 6\u001b[0m     \u001b[38;5;28;01mraise\u001b[39;00m \u001b[38;5;167;01mException\u001b[39;00m (\u001b[38;5;124m\"\u001b[39m\u001b[38;5;124m이 메소드를 호출하면 예외가 납니다.\u001b[39m\u001b[38;5;124m\"\u001b[39m)\n",
      "\u001b[1;31mException\u001b[0m: 이 메소드를 호출하면 예외가 납니다."
     ]
    }
   ],
   "source": [
    "p = Person('홍길동','남자')\n",
    "p.print_info() #추상메소드"
   ]
  },
  {
   "cell_type": "code",
   "execution_count": 41,
   "id": "24238bc1",
   "metadata": {},
   "outputs": [
    {
     "ename": "AttributeError",
     "evalue": "type object 'Student' has no attribute '__count'",
     "output_type": "error",
     "traceback": [
      "\u001b[1;31m---------------------------------------------------------------------------\u001b[0m",
      "\u001b[1;31mAttributeError\u001b[0m                            Traceback (most recent call last)",
      "Cell \u001b[1;32mIn[41], line 1\u001b[0m\n\u001b[1;32m----> 1\u001b[0m \u001b[43mStudent\u001b[49m\u001b[38;5;241;43m.\u001b[39;49m\u001b[43m__count\u001b[49m\n",
      "\u001b[1;31mAttributeError\u001b[0m: type object 'Student' has no attribute '__count'"
     ]
    }
   ],
   "source": [
    "Student.__count #static 변수로 외부에서 값을 가져오지 못하게 오류가 남"
   ]
  },
  {
   "cell_type": "markdown",
   "id": "1dfe8038",
   "metadata": {},
   "source": [
    "# 👀연습문제👀"
   ]
  },
  {
   "cell_type": "markdown",
   "id": "3197752f",
   "metadata": {},
   "source": [
    "## 1)성미 풀이"
   ]
  },
  {
   "cell_type": "code",
   "execution_count": 18,
   "id": "42202a9e",
   "metadata": {},
   "outputs": [],
   "source": [
    "'''\n",
    "실습형 1번 문제>>>> 성미 풀이\n",
    "도형 클래스\n",
    "생성자를 통해 x,y 좌표를 초기화 .x,y 기본값은 0,0\n",
    "x,y 좌표를 이동시킬수 있는 move 함수\n",
    "x,y좌표값 정보를 문자열로 리턴하는 __str__함수\n",
    "도형의 면적을 구하는 함수(calc_area)가 있음. 구현되지 않아 호출하면 오류가 발생한다.\n",
    "정적메소드 하나이상 구현\n",
    "'''\n",
    "class Shape:\n",
    "    __count = 0\n",
    "    def __init__(self, x, y):\n",
    "        self.x = x\n",
    "        self.y = y\n",
    "        print('x와 y값은 초기화 ')\n",
    "        Shape._Shape__count += 1\n",
    "    def __del__(self):\n",
    "        Shape._Shape__count -= 1\n",
    "        print('객체 소멸')\n",
    "    def calc_area(self):   #추상메소드..? (calc_area는 어디에..)\n",
    "        raise Exception (\"이 메소드를 호출하면 예외가 납니다.\")     \n",
    "    def move(self, ax, ay):\n",
    "        self.x += ax\n",
    "        self.y += ay\n",
    "        print(f'x는 {self.x}로, y는 {self.y}로 이동했어요.')\n",
    "    def __str__(self):\n",
    "        return f'x={self.x}, y={self.y}.'\n",
    "    def print_info(self):\n",
    "        print(f'x={self.x}, y={self.y}')\n",
    "    \n",
    "    @staticmethod \n",
    "    def staticmethod_(): \n",
    "        print('도형 클래스 staticmethod 호출')"
   ]
  },
  {
   "cell_type": "code",
   "execution_count": 19,
   "id": "10467cb6",
   "metadata": {},
   "outputs": [
    {
     "name": "stdout",
     "output_type": "stream",
     "text": [
      "x와 y값은 초기화 \n",
      "객체 소멸\n",
      "x=2, y=4\n",
      "0\n",
      "x는 5로, y는 9로 이동했어요.\n"
     ]
    }
   ],
   "source": [
    "s1 =Shape(2,4)\n",
    "s1.print_info()\n",
    "print(Shape._Shape__count)\n",
    "s1.move(3,5)"
   ]
  },
  {
   "cell_type": "code",
   "execution_count": 20,
   "id": "65a5e9bb",
   "metadata": {},
   "outputs": [],
   "source": [
    "'''\n",
    "실습형 2번 문제>> 성미 풀이 (잘못 이해 함) shape > triangle 다시 풀어야 함.\n",
    "삼각형 클래스는 도형 클래스이다.\n",
    "생성자를 통해 , width, height, x, y 좌표를 초기화하고 x, y 좌표의 기본값은 0, 0 입니다\n",
    "삼각형의 면적을 구하는 메소드 calc_area 를 재정의합니다\n",
    "삼각형의 정보를 문자열로 반환하는 str __() 함수가 있습니다\n",
    "삼각형 객체가 몇 개가 만들어져 있는지 정보를 저장하는 클래스 변수를 추가하고 생성자\n",
    "에서 객체를 만들 때마다 증가시키고 소멸자에서 객체를 소멸시킬 때마다 감소합니다\n",
    "Triangle\n",
    "\n",
    "'''\n",
    "\n",
    "\n",
    "# 앞에서 만든 Shape에서 width, heigth 추가 하고 __init__수정\n",
    "\n",
    "\n",
    "\n",
    "class Triangle(Shape):\n",
    "    __count = 0\n",
    "    def __init__(self, width, height, x=0, y=0):\n",
    "        Triangle._Triangle__count += 1\n",
    "        self.width = width\n",
    "        self.height = height   \n",
    "        super().__init__(x, y)\n",
    "    def __del__(self):\n",
    "        Triangle._Triangle__count -= 1        \n",
    "    def __str__(self):\n",
    "        return super().__str__() + \", width:{}, height:{}, area:{}\".\\\n",
    "                            format(self.width, self.height, self.calc_area())    \n",
    "    def calc_area(self):\n",
    "        return (self.width*self.height)/2    \n",
    "    @classmethod\n",
    "    def get_count(cls):\n",
    "        #return Triangle._Triangle__count\n",
    "        return cls.__count       "
   ]
  },
  {
   "cell_type": "code",
   "execution_count": 21,
   "id": "6dcffa1a",
   "metadata": {},
   "outputs": [
    {
     "name": "stdout",
     "output_type": "stream",
     "text": [
      "x와 y값은 초기화 \n",
      "x와 y값은 초기화 \n",
      "x와 y값은 초기화 \n",
      "x=0, y=10., width:4, height:3, area:6.0\n",
      "x=0, y=0., width:10, height:20, area:100.0\n",
      "x=5, y=5., width:3, height:4, area:6.0\n",
      "Triangle 객체 갯수 : 0\n",
      "도형 클래스 staticmethod 호출\n"
     ]
    }
   ],
   "source": [
    "t = Triangle(4,3, 0,10)\n",
    "t1 = Triangle(10, 20)\n",
    "t2 = Triangle(3, 4, 5, 5)\n",
    "print(t)\n",
    "print(t1)\n",
    "print(t2)\n",
    "print('Triangle 객체 갯수 :', Triangle.get_count())\n",
    "Triangle.staticmethod_()"
   ]
  },
  {
   "cell_type": "code",
   "execution_count": 16,
   "id": "325bfe4f",
   "metadata": {},
   "outputs": [
    {
     "data": {
      "text/plain": [
       "3"
      ]
     },
     "execution_count": 16,
     "metadata": {},
     "output_type": "execute_result"
    }
   ],
   "source": [
    "Tri.get_count()"
   ]
  },
  {
   "cell_type": "code",
   "execution_count": 17,
   "id": "b1642b05",
   "metadata": {},
   "outputs": [
    {
     "name": "stdout",
     "output_type": "stream",
     "text": [
      "객체가 소멸되었습니다.\n"
     ]
    }
   ],
   "source": [
    "del t2"
   ]
  },
  {
   "cell_type": "code",
   "execution_count": 18,
   "id": "4bd771e4",
   "metadata": {},
   "outputs": [
    {
     "data": {
      "text/plain": [
       "2"
      ]
     },
     "execution_count": 18,
     "metadata": {},
     "output_type": "execute_result"
    }
   ],
   "source": [
    "Tri.get_count()"
   ]
  },
  {
   "cell_type": "markdown",
   "id": "c58dee52",
   "metadata": {},
   "source": [
    "## 2)선생님 풀이"
   ]
  },
  {
   "cell_type": "code",
   "execution_count": 22,
   "id": "10b105bb",
   "metadata": {},
   "outputs": [
    {
     "name": "stdout",
     "output_type": "stream",
     "text": [
      "x좌표 : 2, y좌표 : 2\n",
      "x좌표 : 12, y좌표 : 7\n",
      "도형 클래스 staticmethod 호출\n"
     ]
    }
   ],
   "source": [
    "class Shape:\n",
    "    def __init__(self, x=0, y=0):\n",
    "        self.x = x\n",
    "        self.y = y\n",
    "    def move(self, x, y):\n",
    "        'x, y좌표 이동'\n",
    "        self.x += x\n",
    "        self.y += y\n",
    "    def __str__(self):\n",
    "        return 'x좌표 : {}, y좌표 : {}'.format(self.x, self.y)\n",
    "    def calc_area(self):\n",
    "        raise Exception('강제 예외 발생(이 메소드는 상속받는 곳에서 재정의 강요) \\\n",
    "                    : 추상메소드')\n",
    "    @staticmethod\n",
    "    def staticmethod_():\n",
    "        print(\"도형 클래스 staticmethod 호출\")\n",
    "        \n",
    "        \n",
    "'''\n",
    "선생님꺼는 요청하는 문제에 대한 답변만 작성하셨고 나는 이것저것 다 넣어버림..\n",
    "선생님께 훨씬 간결함\n",
    "\n",
    "'''\n",
    "\n",
    "s = Shape(2,2)\n",
    "print(s)\n",
    "s.move(10,5)\n",
    "print(s)\n",
    "Shape.staticmethod_()\n",
    "#s.staticmethod_()\n",
    "#s.calc_area()"
   ]
  },
  {
   "cell_type": "code",
   "execution_count": 23,
   "id": "e75463fe",
   "metadata": {},
   "outputs": [],
   "source": [
    "class Triangle(Shape):\n",
    "    __count = 0\n",
    "    def __init__(self, width, height, x=0, y=0):\n",
    "        Triangle._Triangle__count += 1\n",
    "        self.width = width\n",
    "        self.height = height   \n",
    "        super().__init__(x, y)\n",
    "    def __del__(self):\n",
    "        Triangle._Triangle__count -= 1        \n",
    "    def __str__(self):\n",
    "        return super().__str__() + \", width:{}, height:{}, area:{}\".\\\n",
    "                            format(self.width, self.height, self.calc_area()) #calc_area() 매개변수가 없더라도 () 괄호 필요   \n",
    "    def calc_area(self):\n",
    "        return (self.width*self.height)/2    \n",
    "    @classmethod\n",
    "    def get_count(cls):\n",
    "        #return Triangle._Triangle__count\n",
    "        return cls.__count"
   ]
  },
  {
   "cell_type": "code",
   "execution_count": 24,
   "id": "f58be8fd",
   "metadata": {},
   "outputs": [
    {
     "name": "stdout",
     "output_type": "stream",
     "text": [
      "객체가 소멸되었습니다.\n",
      "x좌표 : 0, y좌표 : 10, width:4, height:3, area:6.0\n",
      "x좌표 : 0, y좌표 : 0, width:10, height:20, area:100.0\n",
      "x좌표 : 5, y좌표 : 5, width:3, height:4, area:6.0\n",
      "Triangle 객체 갯수 : 3\n",
      "도형 클래스 staticmethod 호출\n"
     ]
    }
   ],
   "source": [
    "t = Triangle(4,3, 0,10)\n",
    "t1 = Triangle(10, 20)\n",
    "t2 = Triangle(3, 4, 5, 5)\n",
    "print(t)\n",
    "print(t1)\n",
    "print(t2)\n",
    "print('Triangle 객체 갯수 :', Triangle.get_count())\n",
    "Triangle.staticmethod_()"
   ]
  },
  {
   "cell_type": "code",
   "execution_count": null,
   "id": "5736ecf1",
   "metadata": {},
   "outputs": [],
   "source": [
    "#서술형 문제\n",
    "#1번의 정답 : 1\n",
    "#2번의 정답 : 2\n",
    "#3번의 정답 : 4\n",
    "#4번의 정답 : 1\n",
    "#5번의 정답 : 2\n",
    "#6번의 정답 : 3\n",
    "#7번의 정답 : 3\n",
    "#8번의 정답 : 3\n",
    "#9번의 정답 : 2"
   ]
  },
  {
   "cell_type": "code",
   "execution_count": 29,
   "id": "053a9632",
   "metadata": {},
   "outputs": [
    {
     "name": "stdout",
     "output_type": "stream",
     "text": [
      "{'name': '홍길동', 'gender': '남자'}\n",
      "독스트링은 클래스 첫번째 줄에 있는 문자열(클래스 설명서)/ 여러줄이면 따옴표 3개로 설정\n"
     ]
    }
   ],
   "source": [
    "# 서술형 9번 문제\n",
    "class Person:         #클래스 이름은 대문자로 설정 , 소문자도 가능하나 많이 사용되진 않는다. \n",
    "    '독스트링은 클래스 첫번째 줄에 있는 문자열(클래스 설명서)/ 여러줄이면 따옴표 3개로 설정'\n",
    "    accademy = 'MBC'  #클래스 변수 (기본값을 MBC로 한다)\n",
    "    def __init__(self, name, gender):    #생성자함수    #self 객체를 뜻함\n",
    "        self.name = name  #객체안의 변수 (인스턴스 변수) #self 내 객체안에 name을 만들겠다. \n",
    "        self.gender = gender  #self 내 객체안에 gender를 만들겠다. \n",
    "        \n",
    "    def print_info(self):      #클래스안에는 보통 self를 써야 함. 안 들어갈 수도 있음  \n",
    "        print(\"{}는 {}입니다. {}를 다닙니다.\".format(self.name,\n",
    "                                                   self.gender,\n",
    "                                                   self.accademy))\n",
    "    def __str__(self):\n",
    "        return \"{}는 {}입니다. {}를 다닙니다.\".format(self.name,\n",
    "                                                   self.gender,\n",
    "                                                   self.accademy)\n",
    "p = Person('홍길동','남자')\n",
    "p.__dict__  #객체를 딕셔너리 타입으로 전환\n",
    "print(p.__dict__)\n",
    "print(Person.__doc__)"
   ]
  },
  {
   "cell_type": "code",
   "execution_count": null,
   "id": "500b707f",
   "metadata": {},
   "outputs": [],
   "source": []
  }
 ],
 "metadata": {
  "kernelspec": {
   "display_name": "Python 3 (ipykernel)",
   "language": "python",
   "name": "python3"
  },
  "language_info": {
   "codemirror_mode": {
    "name": "ipython",
    "version": 3
   },
   "file_extension": ".py",
   "mimetype": "text/x-python",
   "name": "python",
   "nbconvert_exporter": "python",
   "pygments_lexer": "ipython3",
   "version": "3.10.9"
  },
  "toc": {
   "base_numbering": 1,
   "nav_menu": {},
   "number_sections": false,
   "sideBar": true,
   "skip_h1_title": false,
   "title_cell": "Table of Contents",
   "title_sidebar": "Contents",
   "toc_cell": false,
   "toc_position": {
    "height": "calc(100% - 180px)",
    "left": "10px",
    "top": "150px",
    "width": "165px"
   },
   "toc_section_display": true,
   "toc_window_display": true
  }
 },
 "nbformat": 4,
 "nbformat_minor": 5
}
