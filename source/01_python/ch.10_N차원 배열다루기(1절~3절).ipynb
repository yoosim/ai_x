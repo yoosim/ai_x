{
 "cells": [
  {
   "cell_type": "code",
   "execution_count": 2,
   "id": "b6e55511",
   "metadata": {},
   "outputs": [
    {
     "data": {
      "text/html": [
       "\n",
       "<style>\n",
       "div.container{width:86% !important;}\n",
       "div.cell.code_cell.rendered{width:100%;}\n",
       "div.CodeMirror {font-family:Consolas; font-size:15pt;}\n",
       "div.output {font-size:15pt; font-weight:bold;}\n",
       "div.input {font-family:Consolas; font-size:15pt;}\n",
       "div.prompt {min-width:70px;}\n",
       "div#toc-wrapper{padding-top:120px;}\n",
       "div.text_cell_render ul li{font-size:12pt;padding:5px;}\n",
       "table.dataframe{font-size:15px;}\n",
       "</style>\n",
       " "
      ],
      "text/plain": [
       "<IPython.core.display.HTML object>"
      ]
     },
     "metadata": {},
     "output_type": "display_data"
    }
   ],
   "source": [
    "from IPython.display import display, HTML \n",
    "display(HTML(\"\"\"\n",
    "<style>\n",
    "div.container{width:86% !important;}\n",
    "div.cell.code_cell.rendered{width:100%;}\n",
    "div.CodeMirror {font-family:Consolas; font-size:15pt;}\n",
    "div.output {font-size:15pt; font-weight:bold;}\n",
    "div.input {font-family:Consolas; font-size:15pt;}\n",
    "div.prompt {min-width:70px;}\n",
    "div#toc-wrapper{padding-top:120px;}\n",
    "div.text_cell_render ul li{font-size:12pt;padding:5px;}\n",
    "table.dataframe{font-size:15px;}\n",
    "</style>\n",
    " \"\"\"))"
   ]
  },
  {
   "cell_type": "markdown",
   "id": "8fafcde3",
   "metadata": {},
   "source": [
    "<span style=\"color:hotpink; font-size: 30px; font-weight: bold;\"> ch10.N차원 배열다루기 </span>\n",
    "- [numpy](https://numpy.org/doc/stable/)\n",
    "- [numpy API](https://numpy.org/doc/stable/reference/index.html)\n",
    "- N차원 배열 객체 만들기 위한 라이브러리\n",
    "- 2차원 배열은 행렬개념으로 사용할 수 있음\n",
    "- numpy는 c언어로 구현됨(속도가 빠름-고성능 수치 계산 패키지)"
   ]
  },
  {
   "cell_type": "markdown",
   "id": "21728720",
   "metadata": {},
   "source": [
    "# 1절. 넘파이 패키지\n",
    "- 모양 바꾸기 : ex)3차원 배열을 1차원으로 바꿀 수 있음\n",
    "- 배열 조작하기 : 행렬을 변경하여 행->열 , 열->행 조작할 수 있음\n",
    "- 정렬하기 : argmax는 많이 사용함"
   ]
  },
  {
   "cell_type": "markdown",
   "id": "b7febeca",
   "metadata": {},
   "source": [
    "## 1.1 배열저장"
   ]
  },
  {
   "cell_type": "code",
   "execution_count": 2,
   "id": "1e17809d",
   "metadata": {},
   "outputs": [
    {
     "data": {
      "text/plain": [
       "'1.23.5'"
      ]
     },
     "execution_count": 2,
     "metadata": {},
     "output_type": "execute_result"
    }
   ],
   "source": [
    "import numpy as np\n",
    "np.__version__ #버전확인 ().__version__"
   ]
  },
  {
   "cell_type": "code",
   "execution_count": 11,
   "id": "a45baf79",
   "metadata": {},
   "outputs": [
    {
     "data": {
      "text/plain": [
       "array([ 0,  1,  2,  3,  4,  5,  6,  7,  8,  9, 10, 11, 12, 13, 14])"
      ]
     },
     "execution_count": 11,
     "metadata": {},
     "output_type": "execute_result"
    }
   ],
   "source": [
    "# np.arage(from,stop,step) from부터 stop앞까지 step씩 증감한 정수값을 배열로 생성함\n",
    "a = np.arange(15)\n",
    "a"
   ]
  },
  {
   "cell_type": "code",
   "execution_count": 19,
   "id": "a6412493",
   "metadata": {},
   "outputs": [
    {
     "data": {
      "text/plain": [
       "array([[ 0,  1,  2,  3,  4],\n",
       "       [ 5,  6,  7,  8,  9],\n",
       "       [10, 11, 12, 13, 14]])"
      ]
     },
     "execution_count": 19,
     "metadata": {},
     "output_type": "execute_result"
    }
   ],
   "source": [
    "from numpy import arange\n",
    "a = arange(15).reshape(3,5)  #reshape:3행 5열로 2차원 배열로 return\n",
    "a"
   ]
  },
  {
   "cell_type": "code",
   "execution_count": 21,
   "id": "1fa81378",
   "metadata": {},
   "outputs": [
    {
     "data": {
      "text/plain": [
       "dtype('int32')"
      ]
     },
     "execution_count": 21,
     "metadata": {},
     "output_type": "execute_result"
    }
   ],
   "source": [
    "#배열의 요소하나하나의 타입을 물어보는것\n",
    "a.dtype #a배열 요소의 type / 정수는 기본 int32(32비트)로 형성 "
   ]
  },
  {
   "cell_type": "code",
   "execution_count": 20,
   "id": "1923c3d0",
   "metadata": {},
   "outputs": [
    {
     "data": {
      "text/plain": [
       "numpy.ndarray"
      ]
     },
     "execution_count": 20,
     "metadata": {},
     "output_type": "execute_result"
    }
   ],
   "source": [
    "#a 변수의 타입\n",
    "type(a)"
   ]
  },
  {
   "cell_type": "code",
   "execution_count": 22,
   "id": "f216ccd2",
   "metadata": {},
   "outputs": [
    {
     "data": {
      "text/plain": [
       "4"
      ]
     },
     "execution_count": 22,
     "metadata": {},
     "output_type": "execute_result"
    }
   ],
   "source": [
    "a.itemsize #한 요소의 사이즈 (바이트 사이즈)"
   ]
  },
  {
   "cell_type": "code",
   "execution_count": 23,
   "id": "622484fc",
   "metadata": {},
   "outputs": [
    {
     "data": {
      "text/plain": [
       "2"
      ]
     },
     "execution_count": 23,
     "metadata": {},
     "output_type": "execute_result"
    }
   ],
   "source": [
    "a.ndim   #차원수(축수)"
   ]
  },
  {
   "cell_type": "code",
   "execution_count": 24,
   "id": "0274cb61",
   "metadata": {},
   "outputs": [
    {
     "data": {
      "text/plain": [
       "15"
      ]
     },
     "execution_count": 24,
     "metadata": {},
     "output_type": "execute_result"
    }
   ],
   "source": [
    "a.size #배열 요소의 갯수"
   ]
  },
  {
   "cell_type": "code",
   "execution_count": 25,
   "id": "8eae5834",
   "metadata": {},
   "outputs": [
    {
     "data": {
      "text/plain": [
       "(3, 5)"
      ]
     },
     "execution_count": 25,
     "metadata": {},
     "output_type": "execute_result"
    }
   ],
   "source": [
    "a.shape   #배열의 구조 (반드시 튜플로 return)"
   ]
  },
  {
   "cell_type": "markdown",
   "id": "be55b2f3",
   "metadata": {},
   "source": [
    "## 1.2 배열의 구조 변경(구조, 타입)\n"
   ]
  },
  {
   "cell_type": "code",
   "execution_count": 28,
   "id": "61f37fca",
   "metadata": {},
   "outputs": [
    {
     "name": "stdout",
     "output_type": "stream",
     "text": [
      "구조변경 전\n",
      "[[ 0  1  2  3  4]\n",
      " [ 5  6  7  8  9]\n",
      " [10 11 12 13 14]]\n",
      "구조변경 후\n",
      "[[ 0  1  2]\n",
      " [ 3  4  5]\n",
      " [ 6  7  8]\n",
      " [ 9 10 11]\n",
      " [12 13 14]]\n"
     ]
    }
   ],
   "source": [
    "#구조 변경\n",
    "print('구조변경 전', a, sep='\\n')\n",
    "a.shape = (5,3) #구조변경 \n",
    "print('구조변경 후',a, sep='\\n')"
   ]
  },
  {
   "cell_type": "code",
   "execution_count": 37,
   "id": "1b44866d",
   "metadata": {},
   "outputs": [
    {
     "data": {
      "text/plain": [
       "array([[ 0,  1,  2,  3],\n",
       "       [ 4,  5,  6,  7],\n",
       "       [ 8,  9, 10, 11]])"
      ]
     },
     "execution_count": 37,
     "metadata": {},
     "output_type": "execute_result"
    }
   ],
   "source": [
    "#타입 변경 (x) 이렇게 하면 안되고 특정한 함수를 써야 함 \n",
    "a = arange(12).reshape(3,4)\n",
    "a"
   ]
  },
  {
   "cell_type": "code",
   "execution_count": 38,
   "id": "d384f8bb",
   "metadata": {},
   "outputs": [
    {
     "data": {
      "text/plain": [
       "dtype('int32')"
      ]
     },
     "execution_count": 38,
     "metadata": {},
     "output_type": "execute_result"
    }
   ],
   "source": [
    "a.dtype #데이터를 읽어올 때 32바이트로"
   ]
  },
  {
   "cell_type": "code",
   "execution_count": 39,
   "id": "5534077d",
   "metadata": {},
   "outputs": [
    {
     "data": {
      "text/plain": [
       "3"
      ]
     },
     "execution_count": 39,
     "metadata": {},
     "output_type": "execute_result"
    }
   ],
   "source": [
    "a[0,3]"
   ]
  },
  {
   "cell_type": "code",
   "execution_count": 40,
   "id": "7119cf88",
   "metadata": {},
   "outputs": [
    {
     "data": {
      "text/plain": [
       "4"
      ]
     },
     "execution_count": 40,
     "metadata": {},
     "output_type": "execute_result"
    }
   ],
   "source": [
    "a.itemsize"
   ]
  },
  {
   "cell_type": "code",
   "execution_count": null,
   "id": "10484ad9",
   "metadata": {},
   "outputs": [],
   "source": [
    "#놓친거. 선생님꺼 불러오기\n",
    "a. "
   ]
  },
  {
   "cell_type": "code",
   "execution_count": 78,
   "id": "faf75f6f",
   "metadata": {},
   "outputs": [
    {
     "data": {
      "text/plain": [
       "dtype('int64')"
      ]
     },
     "execution_count": 78,
     "metadata": {},
     "output_type": "execute_result"
    }
   ],
   "source": [
    "a.dtype = np.int64  #a배열을 읽을 때 62bit씩 읽는다\n",
    "a.dtype"
   ]
  },
  {
   "cell_type": "code",
   "execution_count": 79,
   "id": "125b46b4",
   "metadata": {},
   "outputs": [
    {
     "data": {
      "text/plain": [
       "8"
      ]
     },
     "execution_count": 79,
     "metadata": {},
     "output_type": "execute_result"
    }
   ],
   "source": [
    "a.itemsize"
   ]
  },
  {
   "cell_type": "code",
   "execution_count": 80,
   "id": "d26df8df",
   "metadata": {},
   "outputs": [
    {
     "data": {
      "text/plain": [
       "(6, (3, 2))"
      ]
     },
     "execution_count": 80,
     "metadata": {},
     "output_type": "execute_result"
    }
   ],
   "source": [
    "a.size, a.shape"
   ]
  },
  {
   "cell_type": "code",
   "execution_count": 81,
   "id": "b37a8174",
   "metadata": {},
   "outputs": [
    {
     "data": {
      "text/plain": [
       "array([[ 4294967296, 12884901890],\n",
       "       [21474836484, 30064771078],\n",
       "       [38654705672, 47244640266]], dtype=int64)"
      ]
     },
     "execution_count": 81,
     "metadata": {},
     "output_type": "execute_result"
    }
   ],
   "source": [
    "a "
   ]
  },
  {
   "cell_type": "code",
   "execution_count": 90,
   "id": "bed42e31",
   "metadata": {},
   "outputs": [
    {
     "data": {
      "text/plain": [
       "array([[ 0,  1,  2,  3],\n",
       "       [ 4,  5,  6,  7],\n",
       "       [ 8,  9, 10, 11]])"
      ]
     },
     "execution_count": 90,
     "metadata": {},
     "output_type": "execute_result"
    }
   ],
   "source": [
    "#타입변경 방법(이렇게 해야함)\n",
    "a = arange(12).reshape(3,4)\n",
    "a"
   ]
  },
  {
   "cell_type": "code",
   "execution_count": 109,
   "id": "d52e7aee",
   "metadata": {},
   "outputs": [
    {
     "data": {
      "text/plain": [
       "array([[ 0,  1,  2,  3],\n",
       "       [ 4,  5,  6,  7],\n",
       "       [ 8,  9, 10, 11]], dtype=int64)"
      ]
     },
     "execution_count": 109,
     "metadata": {},
     "output_type": "execute_result"
    }
   ],
   "source": [
    "a = a.astype(np.int64) #결과를 받아서 'a'를 바꾸지않음. a를 바꾸려면 다시 할당해야함.\n",
    "a"
   ]
  },
  {
   "cell_type": "code",
   "execution_count": 110,
   "id": "1478d730",
   "metadata": {},
   "outputs": [
    {
     "data": {
      "text/plain": [
       "dtype('int64')"
      ]
     },
     "execution_count": 110,
     "metadata": {},
     "output_type": "execute_result"
    }
   ],
   "source": [
    "a.dtype"
   ]
  },
  {
   "cell_type": "code",
   "execution_count": 111,
   "id": "e2785631",
   "metadata": {},
   "outputs": [
    {
     "data": {
      "text/plain": [
       "array([[ 0,  1,  2,  3],\n",
       "       [ 4,  5,  6,  7],\n",
       "       [ 8,  9, 10, 11]], dtype=int64)"
      ]
     },
     "execution_count": 111,
     "metadata": {},
     "output_type": "execute_result"
    }
   ],
   "source": [
    "a.astype('int64')"
   ]
  },
  {
   "cell_type": "code",
   "execution_count": 112,
   "id": "8b3eb2b9",
   "metadata": {},
   "outputs": [
    {
     "data": {
      "text/plain": [
       "dtype('int64')"
      ]
     },
     "execution_count": 112,
     "metadata": {},
     "output_type": "execute_result"
    }
   ],
   "source": [
    "a.dtype"
   ]
  },
  {
   "cell_type": "code",
   "execution_count": 113,
   "id": "7ba0734f",
   "metadata": {},
   "outputs": [
    {
     "data": {
      "text/plain": [
       "8"
      ]
     },
     "execution_count": 113,
     "metadata": {},
     "output_type": "execute_result"
    }
   ],
   "source": [
    "a.itemsize"
   ]
  },
  {
   "cell_type": "code",
   "execution_count": 114,
   "id": "f5df7c2b",
   "metadata": {},
   "outputs": [
    {
     "data": {
      "text/plain": [
       "(12, (3, 4))"
      ]
     },
     "execution_count": 114,
     "metadata": {},
     "output_type": "execute_result"
    }
   ],
   "source": [
    "a.size, a.shape"
   ]
  },
  {
   "cell_type": "code",
   "execution_count": 115,
   "id": "d28feda3",
   "metadata": {},
   "outputs": [
    {
     "data": {
      "text/plain": [
       "array([[ 0,  1,  2,  3],\n",
       "       [ 4,  5,  6,  7],\n",
       "       [ 8,  9, 10, 11]], dtype=int64)"
      ]
     },
     "execution_count": 115,
     "metadata": {},
     "output_type": "execute_result"
    }
   ],
   "source": [
    "a"
   ]
  },
  {
   "cell_type": "code",
   "execution_count": 116,
   "id": "3eed2608",
   "metadata": {},
   "outputs": [
    {
     "data": {
      "text/plain": [
       "array([ 0,  1,  2,  3,  4,  5,  6,  7,  8,  9, 10, 11], dtype=int64)"
      ]
     },
     "execution_count": 116,
     "metadata": {},
     "output_type": "execute_result"
    }
   ],
   "source": [
    "a.flatten()  #1차원으로 바꾸는 방법"
   ]
  },
  {
   "cell_type": "code",
   "execution_count": 117,
   "id": "c5cceff2",
   "metadata": {},
   "outputs": [
    {
     "data": {
      "text/plain": [
       "array([ 0,  1,  2,  3,  4,  5,  6,  7,  8,  9, 10, 11], dtype=int64)"
      ]
     },
     "execution_count": 117,
     "metadata": {},
     "output_type": "execute_result"
    }
   ],
   "source": [
    "a.ravel() #1차원으로 바꾸는 방법"
   ]
  },
  {
   "cell_type": "markdown",
   "id": "89bea010",
   "metadata": {},
   "source": [
    "## 1.3 배열 저장\n",
    "- 배열저장 pkl,npy\n",
    "- 딥러닝모델 저장 h5,keras\n",
    "- 머신러닝 모델 저장 pkl,joblib"
   ]
  },
  {
   "cell_type": "code",
   "execution_count": 118,
   "id": "a1a155b6",
   "metadata": {},
   "outputs": [
    {
     "data": {
      "text/plain": [
       "array([[ 0,  1,  2,  3],\n",
       "       [ 4,  5,  6,  7],\n",
       "       [ 8,  9, 10, 11]], dtype=int64)"
      ]
     },
     "execution_count": 118,
     "metadata": {},
     "output_type": "execute_result"
    }
   ],
   "source": [
    "a"
   ]
  },
  {
   "cell_type": "code",
   "execution_count": 119,
   "id": "095a4eb9",
   "metadata": {},
   "outputs": [],
   "source": [
    "import pickle\n",
    "with open('data/ch10_a.pkl', 'wb') as f:\n",
    "    pickle.dump(a,f)"
   ]
  },
  {
   "cell_type": "code",
   "execution_count": 120,
   "id": "ff86a317",
   "metadata": {},
   "outputs": [],
   "source": [
    "with open('data/ch10_a.pkl', 'rb') as f:\n",
    "    load_a = pickle.load(f)"
   ]
  },
  {
   "cell_type": "code",
   "execution_count": 121,
   "id": "ca18d20d",
   "metadata": {},
   "outputs": [
    {
     "data": {
      "text/plain": [
       "array([[ 0,  1,  2,  3],\n",
       "       [ 4,  5,  6,  7],\n",
       "       [ 8,  9, 10, 11]], dtype=int64)"
      ]
     },
     "execution_count": 121,
     "metadata": {},
     "output_type": "execute_result"
    }
   ],
   "source": [
    "load_a"
   ]
  },
  {
   "cell_type": "code",
   "execution_count": 122,
   "id": "5237ca07",
   "metadata": {},
   "outputs": [
    {
     "data": {
      "text/plain": [
       "array([[ True,  True,  True,  True],\n",
       "       [ True,  True,  True,  True],\n",
       "       [ True,  True,  True,  True]])"
      ]
     },
     "execution_count": 122,
     "metadata": {},
     "output_type": "execute_result"
    }
   ],
   "source": [
    "a == load_a"
   ]
  },
  {
   "cell_type": "code",
   "execution_count": 125,
   "id": "c2602a1b",
   "metadata": {},
   "outputs": [
    {
     "data": {
      "text/plain": [
       "True"
      ]
     },
     "execution_count": 125,
     "metadata": {},
     "output_type": "execute_result"
    }
   ],
   "source": [
    "np.all(a == load_a) #a 넘파이배열과  load_a 넘파이 배열이 같은지 확인하는 np.all \n",
    "#용량이 작은 넘파이일경우 진행, 큰 파일이면 아래서식으로 실행"
   ]
  },
  {
   "cell_type": "code",
   "execution_count": 127,
   "id": "1591199d",
   "metadata": {},
   "outputs": [],
   "source": [
    "np.save('data/ch10_a.npy', a)"
   ]
  },
  {
   "cell_type": "code",
   "execution_count": 129,
   "id": "c2f8058d",
   "metadata": {},
   "outputs": [
    {
     "data": {
      "text/plain": [
       "True"
      ]
     },
     "execution_count": 129,
     "metadata": {},
     "output_type": "execute_result"
    }
   ],
   "source": [
    "load_a2 = np.load('data/ch10_a.npy')\n",
    "np.all(load_a2==a)"
   ]
  },
  {
   "cell_type": "markdown",
   "id": "3e3d3b8c",
   "metadata": {},
   "source": [
    "# 2절. 넘파이 배열\n",
    "- array()함수를 이용한 다른 백터 데이터(파이썬 데이터) 구조를 배열로 변환\n",
    "- arange(), ones(), zeros(), empty() 기본값이 있는 함수들\n",
    "- 랜덤값을 가지는 함수들 ...\n",
    "---\n",
    "- zeros()는 이미지로 바꿀때 많이 씀. "
   ]
  },
  {
   "cell_type": "markdown",
   "id": "12fde066",
   "metadata": {},
   "source": [
    "## 2.1 array()함수로 넘파이 배열 생성\n",
    "np.array(obj, dtype, copy=T/F)         \n",
    "\n",
    "*obj에는 리스트나 튜플\n",
    "*여기에서 dtype은 지정가능, 지정 안하면 list타입대로 따라감."
   ]
  },
  {
   "cell_type": "code",
   "execution_count": 130,
   "id": "a5740f84",
   "metadata": {},
   "outputs": [
    {
     "data": {
      "text/plain": [
       "array([2, 4, 6])"
      ]
     },
     "execution_count": 130,
     "metadata": {},
     "output_type": "execute_result"
    }
   ],
   "source": [
    "a = np.array([2, 4, 6]) #정수의 기본타입은 int32 / \n",
    "a"
   ]
  },
  {
   "cell_type": "code",
   "execution_count": 131,
   "id": "0b24bf84",
   "metadata": {},
   "outputs": [
    {
     "data": {
      "text/plain": [
       "array([2., 4., 6.])"
      ]
     },
     "execution_count": 131,
     "metadata": {},
     "output_type": "execute_result"
    }
   ],
   "source": [
    "a = np.array([2., 4, 6]) #.이들어가면 실수로 통일되어 출력 / 실수의 기본 타입은 float64  \n",
    "a"
   ]
  },
  {
   "cell_type": "code",
   "execution_count": 132,
   "id": "8fd5a8c9",
   "metadata": {},
   "outputs": [
    {
     "data": {
      "text/plain": [
       "array(['2', '4', '6'], dtype='<U11')"
      ]
     },
     "execution_count": 132,
     "metadata": {},
     "output_type": "execute_result"
    }
   ],
   "source": [
    "a = np.array(['2', 4, 6])  # 1개라도 문자가 들어가면 문자로 통일되어 출력 / 문자는 타입이 없음 \n",
    "a"
   ]
  },
  {
   "cell_type": "code",
   "execution_count": 134,
   "id": "4b489646",
   "metadata": {},
   "outputs": [
    {
     "data": {
      "text/plain": [
       "array([2, 4, 6], dtype=int8)"
      ]
     },
     "execution_count": 134,
     "metadata": {},
     "output_type": "execute_result"
    }
   ],
   "source": [
    "a = np.array([2, 4, 6], dtype=np.int8)\n",
    "a"
   ]
  },
  {
   "cell_type": "code",
   "execution_count": 136,
   "id": "fee91efc",
   "metadata": {},
   "outputs": [
    {
     "data": {
      "text/plain": [
       "(4, 2, 6)"
      ]
     },
     "execution_count": 136,
     "metadata": {},
     "output_type": "execute_result"
    }
   ],
   "source": [
    "a[1], a[0], a[2] #인덱스로 추출이 가능 (for문으로도 가능)"
   ]
  },
  {
   "cell_type": "code",
   "execution_count": 137,
   "id": "14a16b09",
   "metadata": {},
   "outputs": [
    {
     "data": {
      "text/plain": [
       "dtype('int8')"
      ]
     },
     "execution_count": 137,
     "metadata": {},
     "output_type": "execute_result"
    }
   ],
   "source": [
    "a.dtype"
   ]
  },
  {
   "cell_type": "code",
   "execution_count": 139,
   "id": "1d35aba8",
   "metadata": {},
   "outputs": [
    {
     "data": {
      "text/plain": [
       "array([[1.3, 2.4],\n",
       "       [4. , 5. ]])"
      ]
     },
     "execution_count": 139,
     "metadata": {},
     "output_type": "execute_result"
    }
   ],
   "source": [
    "#2차원 배열 만들기\n",
    "b = np.array([[1.3,2.4],\n",
    "              [4,5]])\n",
    "b"
   ]
  },
  {
   "cell_type": "code",
   "execution_count": 140,
   "id": "efb061df",
   "metadata": {},
   "outputs": [
    {
     "data": {
      "text/plain": [
       "dtype('float64')"
      ]
     },
     "execution_count": 140,
     "metadata": {},
     "output_type": "execute_result"
    }
   ],
   "source": [
    "b.dtype"
   ]
  },
  {
   "cell_type": "code",
   "execution_count": 142,
   "id": "732f6f05",
   "metadata": {},
   "outputs": [
    {
     "data": {
      "text/plain": [
       "array([[1.3, 2.4, 4. , 5. ]], dtype=float32)"
      ]
     },
     "execution_count": 142,
     "metadata": {},
     "output_type": "execute_result"
    }
   ],
   "source": [
    "b = np.array([[1.3,2.4],[4,5]],dtype=np.float32).reshape(1, 4)\n",
    "b"
   ]
  },
  {
   "cell_type": "code",
   "execution_count": 143,
   "id": "1744b607",
   "metadata": {},
   "outputs": [
    {
     "data": {
      "text/plain": [
       "4"
      ]
     },
     "execution_count": 143,
     "metadata": {},
     "output_type": "execute_result"
    }
   ],
   "source": [
    "b.itemsize"
   ]
  },
  {
   "cell_type": "code",
   "execution_count": 144,
   "id": "739a3733",
   "metadata": {},
   "outputs": [
    {
     "data": {
      "text/plain": [
       "array([[1.29999995, 2.4000001 , 4.        , 5.        ]])"
      ]
     },
     "execution_count": 144,
     "metadata": {},
     "output_type": "execute_result"
    }
   ],
   "source": [
    "b.astype(np.float64)  #astype= 타입변경"
   ]
  },
  {
   "cell_type": "code",
   "execution_count": 145,
   "id": "575adbe1",
   "metadata": {},
   "outputs": [
    {
     "name": "stdout",
     "output_type": "stream",
     "text": [
      "[1, 2]\n",
      "[3.4, 4.5]\n"
     ]
    }
   ],
   "source": [
    "l = [[1,2], [3.4,4.5]]\n",
    "for row in l:\n",
    "    print(row)"
   ]
  },
  {
   "cell_type": "code",
   "execution_count": 146,
   "id": "02e88b4c",
   "metadata": {},
   "outputs": [
    {
     "name": "stdout",
     "output_type": "stream",
     "text": [
      "1\t2\t\n",
      "3.4\t4.5\t\n"
     ]
    }
   ],
   "source": [
    "l = [[1,2], [3.4,4.5]]\n",
    "for row in l:\n",
    "    for data in row:\n",
    "        print(data, end='\\t')\n",
    "    print()"
   ]
  },
  {
   "cell_type": "code",
   "execution_count": 147,
   "id": "77be350f",
   "metadata": {},
   "outputs": [
    {
     "data": {
      "text/plain": [
       "array([[1. , 2. ],\n",
       "       [3.4, 4.5]], dtype=float16)"
      ]
     },
     "execution_count": 147,
     "metadata": {},
     "output_type": "execute_result"
    }
   ],
   "source": [
    "#배열로 만들기 \n",
    "c = np.array([[1,2], [3.4,4.5]], dtype=np.float16)\n",
    "c"
   ]
  },
  {
   "cell_type": "code",
   "execution_count": 161,
   "id": "e33f46c7",
   "metadata": {},
   "outputs": [
    {
     "name": "stdout",
     "output_type": "stream",
     "text": [
      " 0 행  0 열 :   1.0    \t 0 행  1 열 :   2.0    \t\n",
      " 1 행  0 열 :3.400390625\t 1 행  1 열 :   4.5    \t\n"
     ]
    }
   ],
   "source": [
    "#enumerate를 써서 나누기\n",
    "for i, row in enumerate(c):\n",
    "    for j, item in enumerate(row):\n",
    "        print(\"{:^3}행 {:^3}열 :{:^10}\".format(i,j,item), end='\\t')\n",
    "    print()"
   ]
  },
  {
   "cell_type": "code",
   "execution_count": 162,
   "id": "99e66600",
   "metadata": {},
   "outputs": [
    {
     "data": {
      "text/plain": [
       "array([[ 1,  2,  3,  4,  5],\n",
       "       [ 6,  7,  8,  9, 10]], dtype=int16)"
      ]
     },
     "execution_count": 162,
     "metadata": {},
     "output_type": "execute_result"
    }
   ],
   "source": [
    "c = np.array([[1, 2, 3, 4, 5],[6, 7, 8, 9, 10]], dtype=np.int16)\n",
    "c"
   ]
  },
  {
   "cell_type": "code",
   "execution_count": 187,
   "id": "abe5f7fd",
   "metadata": {},
   "outputs": [
    {
     "data": {
      "text/plain": [
       "(array([1], dtype=int16), array([7], dtype=int16), array([9], dtype=int16))"
      ]
     },
     "execution_count": 187,
     "metadata": {},
     "output_type": "execute_result"
    }
   ],
   "source": [
    "c[0,:1],c[1,1:2],c[1,3:4]"
   ]
  },
  {
   "cell_type": "code",
   "execution_count": 163,
   "id": "60a09b89",
   "metadata": {},
   "outputs": [
    {
     "data": {
      "text/plain": [
       "4"
      ]
     },
     "execution_count": 163,
     "metadata": {},
     "output_type": "execute_result"
    }
   ],
   "source": [
    "c[0][3] #리스트에서는 이렇게 했으나 배열에서는 안됨"
   ]
  },
  {
   "cell_type": "code",
   "execution_count": 164,
   "id": "d90ab27e",
   "metadata": {},
   "outputs": [
    {
     "data": {
      "text/plain": [
       "4"
      ]
     },
     "execution_count": 164,
     "metadata": {},
     "output_type": "execute_result"
    }
   ],
   "source": [
    "c[0,3] #배열에서 원하는 숫자 추출 하는 방법"
   ]
  },
  {
   "cell_type": "code",
   "execution_count": 174,
   "id": "31a22a86",
   "metadata": {},
   "outputs": [
    {
     "data": {
      "text/plain": [
       "array([[2, 3],\n",
       "       [7, 8]], dtype=int16)"
      ]
     },
     "execution_count": 174,
     "metadata": {},
     "output_type": "execute_result"
    }
   ],
   "source": [
    "c[::,1:3] #슬라이싱은 배열에서도 데이터프레임에서도 가능"
   ]
  },
  {
   "cell_type": "code",
   "execution_count": 173,
   "id": "61216a67",
   "metadata": {},
   "outputs": [
    {
     "data": {
      "text/plain": [
       "array([3, 4, 5], dtype=int16)"
      ]
     },
     "execution_count": 173,
     "metadata": {},
     "output_type": "execute_result"
    }
   ],
   "source": [
    "c[0,2:5]"
   ]
  },
  {
   "cell_type": "code",
   "execution_count": 181,
   "id": "d95e116b",
   "metadata": {},
   "outputs": [
    {
     "data": {
      "text/plain": [
       "array([7, 8], dtype=int16)"
      ]
     },
     "execution_count": 181,
     "metadata": {},
     "output_type": "execute_result"
    }
   ],
   "source": [
    "c[1,1:3]"
   ]
  },
  {
   "cell_type": "code",
   "execution_count": 180,
   "id": "8bdbd374",
   "metadata": {},
   "outputs": [
    {
     "data": {
      "text/plain": [
       "array([ 5, 10], dtype=int16)"
      ]
     },
     "execution_count": 180,
     "metadata": {},
     "output_type": "execute_result"
    }
   ],
   "source": [
    "#모든 행의 맨 마지막 열만 추출\n",
    "c[:,-1]"
   ]
  },
  {
   "cell_type": "code",
   "execution_count": 182,
   "id": "99b313ce",
   "metadata": {},
   "outputs": [
    {
     "data": {
      "text/plain": [
       "array([[1, 2, 3, 4],\n",
       "       [6, 7, 8, 9]], dtype=int16)"
      ]
     },
     "execution_count": 182,
     "metadata": {},
     "output_type": "execute_result"
    }
   ],
   "source": [
    "#모든 행의 맨 마지막 열을 제외한 추출\n",
    "c[:, :-1]"
   ]
  },
  {
   "cell_type": "code",
   "execution_count": 193,
   "id": "a617cc25",
   "metadata": {},
   "outputs": [
    {
     "name": "stdout",
     "output_type": "stream",
     "text": [
      "c =\n",
      "[[1 2]\n",
      " [3 4]]\n",
      "d =\n",
      "[[1 2]\n",
      " [3 4]]\n",
      "c =\n",
      "[[   1    2]\n",
      " [3333    4]]\n",
      "d =\n",
      "[[   1    2]\n",
      " [3333    4]]\n",
      "c주소:2057121886832, d주소: 2057121886832\n"
     ]
    }
   ],
   "source": [
    "# copy 넌 무엇이냐 copy의 기본값은 True\n",
    "c = np.array([[1, 2],[3, 4]])\n",
    "d = np.array(c, copy=False)   #d=c (복제본을 만들지 않겠다) \n",
    "print('c =', c, sep='\\n')\n",
    "print('d =', d, sep='\\n')\n",
    "d[1,0] = 3333\n",
    "print('c =', c, sep='\\n')\n",
    "print('d =', d, sep='\\n')\n",
    "print('c주소:{}, d주소: {}'.format(id(c),id(d)))"
   ]
  },
  {
   "cell_type": "code",
   "execution_count": 194,
   "id": "490f3829",
   "metadata": {},
   "outputs": [
    {
     "name": "stdout",
     "output_type": "stream",
     "text": [
      "c =\n",
      "[[1 2]\n",
      " [3 4]]\n",
      "d =\n",
      "[[1 2]\n",
      " [3 4]]\n",
      "c =\n",
      "[[1 2]\n",
      " [3 4]]\n",
      "d =\n",
      "[[   1    2]\n",
      " [3333    4]]\n",
      "c주소:2057121886640, d주소: 2057121888656\n"
     ]
    }
   ],
   "source": [
    "# copy 넌 무엇이냐 copy의 기본값은 True\n",
    "c = np.array([[1, 2],[3, 4]])\n",
    "d = np.array(c, copy=True)   #깊은 복사 d=c.copy() \n",
    "print('c =', c, sep='\\n')\n",
    "print('d =', d, sep='\\n')\n",
    "d[1,0] = 3333\n",
    "print('c =', c, sep='\\n')\n",
    "print('d =', d, sep='\\n')\n",
    "print('c주소:{}, d주소: {}'.format(id(c),id(d)))"
   ]
  },
  {
   "cell_type": "markdown",
   "id": "9497a262",
   "metadata": {},
   "source": [
    "## 2.2 기본 값이 있는 배열생성\n",
    "```\n",
    "- np.zeros((튜플))        : 요소들이 다 0로 채워짐 \n",
    "- np.ones((튜플))         : 요소들이 다 1로 채워짐\n",
    "- np.full((튜플), 기본값) : 요소들이 다 기본값\n",
    "- np.empty((튜플))        : 요소들이 임의의 값(메모리 상태에 따라 달라짐) \n",
    "※위의 함수를 이용해서 생성된 배열은 기본 dtype이 np.float64로 설정, 다른 거로 지정가능\n"
   ]
  },
  {
   "cell_type": "code",
   "execution_count": 196,
   "id": "2220f1bf",
   "metadata": {},
   "outputs": [
    {
     "data": {
      "text/plain": [
       "array([[0., 0., 0., 0., 0.],\n",
       "       [0., 0., 0., 0., 0.],\n",
       "       [0., 0., 0., 0., 0.]])"
      ]
     },
     "execution_count": 196,
     "metadata": {},
     "output_type": "execute_result"
    }
   ],
   "source": [
    "np.zeros((3,5)) #기본 float64로 잡힘"
   ]
  },
  {
   "cell_type": "code",
   "execution_count": 201,
   "id": "e463979d",
   "metadata": {},
   "outputs": [
    {
     "data": {
      "text/plain": [
       "(dtype('float64'),\n",
       " array([[1., 1., 1., 1., 1.],\n",
       "        [1., 1., 1., 1., 1.],\n",
       "        [1., 1., 1., 1., 1.]]))"
      ]
     },
     "execution_count": 201,
     "metadata": {},
     "output_type": "execute_result"
    }
   ],
   "source": [
    "x = np.ones((3,5))\n",
    "x.dtype, x"
   ]
  },
  {
   "cell_type": "code",
   "execution_count": 207,
   "id": "3de49de7",
   "metadata": {},
   "outputs": [
    {
     "data": {
      "text/plain": [
       "array([[24, 24, 24, 24, 24, 24, 24, 24],\n",
       "       [24, 24, 24, 24, 24, 24, 24, 24],\n",
       "       [24, 24, 24, 24, 24, 24, 24, 24]])"
      ]
     },
     "execution_count": 207,
     "metadata": {},
     "output_type": "execute_result"
    }
   ],
   "source": [
    "np.full((3,8),24)"
   ]
  },
  {
   "cell_type": "code",
   "execution_count": 205,
   "id": "caabc036",
   "metadata": {},
   "outputs": [
    {
     "data": {
      "text/plain": [
       "array([[6.23042070e-307, 4.67296746e-307, 1.69121096e-306,\n",
       "        1.29061074e-306, 1.89146896e-307],\n",
       "       [7.56571288e-307, 3.11525958e-307, 1.24610723e-306,\n",
       "        1.29061142e-306, 5.53353523e-322]])"
      ]
     },
     "execution_count": 205,
     "metadata": {},
     "output_type": "execute_result"
    }
   ],
   "source": [
    "np.empty((2,5))"
   ]
  },
  {
   "cell_type": "markdown",
   "id": "3677d721",
   "metadata": {},
   "source": [
    "## 2.3 랜덤값을 갖는 배열 생성\n",
    "- np.random.random(tup) : 0부터 1미만의 균등분포를 갖는 랜덤값을 만든다.\n",
    "- np.random.uniform(low=0,high =1.0,size=tup) : low부터 high미만의 균등분표를 갖는 랜덤값\n",
    "- np.random.normal(loc=0,scale=1.0,size=tup) : 평균loc과 표준편차를 갖는 정규분포 랜덤값\n",
    "- np.random.rand(n) : 균등분포의 1차원 난수 배열 발생(난수 n개)\n",
    "- np.random.randn(n) : 표준정규분포(평균 0, 표준편차 1인 정규분포)의 1차원 난수 배열 발생 (난수 n개) \\\n",
    "tup는 튜플임 \\\n",
    "\n",
    "**<아래 random은 배열을 발생하는 건 아님>** \\\n",
    "*random.randint(n) : 0부터 n미만의 정수 난수 1개 발생 \\\n",
    "*0<= 난수 <1\\\n",
    "*scale은 표준편차\n",
    "\n",
    "씨본은 지도시각화 안 됨."
   ]
  },
  {
   "cell_type": "code",
   "execution_count": 230,
   "id": "dd62967e",
   "metadata": {},
   "outputs": [
    {
     "data": {
      "image/png": "[encoded data removed]",
      "text/plain": [
       "<Figure size 1500x200 with 1 Axes>"
      ]
     },
     "metadata": {},
     "output_type": "display_data"
    }
   ],
   "source": [
    "#균등분포\n",
    "import matplotlib.pyplot as plt\n",
    "x = np.random.rand(10000)\n",
    "plt.figure(figsize=(15,2)) #그래프 크기 figsize=(가로,세로)\n",
    "plt.hist(x, bins=50)  #bins =구간설정\n",
    "plt.show()"
   ]
  },
  {
   "cell_type": "code",
   "execution_count": 233,
   "id": "d8780e46",
   "metadata": {},
   "outputs": [
    {
     "data": {
      "image/png": "[encoded data removed]",
      "text/plain": [
       "<Figure size 1500x200 with 1 Axes>"
      ]
     },
     "metadata": {},
     "output_type": "display_data"
    }
   ],
   "source": [
    "#표준정규분포\n",
    "x = np.random.randn(1000000)\n",
    "plt.figure(figsize=(15,2)) #그래프 크기 figsize=(가로,세로)\n",
    "plt.hist(x, bins=1000)  #bins =구간설정\n",
    "plt.show()"
   ]
  },
  {
   "cell_type": "code",
   "execution_count": 234,
   "id": "2e142a2f",
   "metadata": {},
   "outputs": [
    {
     "data": {
      "text/plain": [
       "array([[0.15416284, 0.7400497 , 0.26331502, 0.53373939, 0.01457496],\n",
       "       [0.91874701, 0.90071485, 0.03342143, 0.95694934, 0.13720932]])"
      ]
     },
     "execution_count": 234,
     "metadata": {},
     "output_type": "execute_result"
    }
   ],
   "source": [
    "#2차원 난수 배열\n",
    "np.random.seed(12) #씨드값을 맞추면 발생되는 난수의 순서가 동일해짐\n",
    "np.random.random((2,5)) #0부터 1미만의 균등분포를 갖는 랜덤값 / 실행할때마다 값이 다름"
   ]
  },
  {
   "cell_type": "code",
   "execution_count": 235,
   "id": "358ad4ce",
   "metadata": {},
   "outputs": [
    {
     "data": {
      "text/plain": [
       "array([[ 2.12211188,  5.66691503,  9.3864765 ,  8.38009095, -0.97514843],\n",
       "       [ 4.7334863 ,  5.07241397,  4.33915155,  7.44947569,  0.76788428]])"
      ]
     },
     "execution_count": 235,
     "metadata": {},
     "output_type": "execute_result"
    }
   ],
   "source": [
    "#최대값, 최소값 지정하여 균등분포 난수 배열(실수)\n",
    "np.random.uniform(-1, 10, (2, 5)) #-1부터 10미만의 균등 분포 난수 배열"
   ]
  },
  {
   "cell_type": "code",
   "execution_count": 236,
   "id": "3ac3d22f",
   "metadata": {},
   "outputs": [
    {
     "data": {
      "text/plain": [
       "array([[12.19191224,  7.5696624 , 12.68471274,  9.75570042, 12.02503095],\n",
       "       [ 8.17226171,  7.94093959, 12.4195929 , 11.00374461, 10.27769235]])"
      ]
     },
     "execution_count": 236,
     "metadata": {},
     "output_type": "execute_result"
    }
   ],
   "source": [
    "#평균loc과 표준편차를 갖는 정규분포 랜덤값\n",
    "np.random.normal(10, 2, (2, 5))  #평균 10, 표준편차 2인 정규분포 난수 배열 "
   ]
  },
  {
   "cell_type": "markdown",
   "id": "6f2378d0",
   "metadata": {},
   "source": [
    "## 2.4 연속된 값을 갖는 배열 생성\n",
    "- np.arange(from, stop, by, dtype) : from부터 stop앞까지 by씩 증감하는 정수 배열\n",
    "- np.linspace(from, to, count) : from부터 to까지(to포함) count개 숫자를 1차원 배열로 생성 (float로 만들어짐)"
   ]
  },
  {
   "cell_type": "code",
   "execution_count": 237,
   "id": "73e5e449",
   "metadata": {},
   "outputs": [
    {
     "data": {
      "text/plain": [
       "array([0.        , 0.10526316, 0.21052632, 0.31578947, 0.42105263,\n",
       "       0.52631579, 0.63157895, 0.73684211, 0.84210526, 0.94736842,\n",
       "       1.05263158, 1.15789474, 1.26315789, 1.36842105, 1.47368421,\n",
       "       1.57894737, 1.68421053, 1.78947368, 1.89473684, 2.        ])"
      ]
     },
     "execution_count": 237,
     "metadata": {},
     "output_type": "execute_result"
    }
   ],
   "source": [
    "np.linspace(0, 2, 20) #동일한 간격으로 20개를 생성"
   ]
  },
  {
   "cell_type": "code",
   "execution_count": 250,
   "id": "729f1656",
   "metadata": {},
   "outputs": [],
   "source": [
    "#linspace를 많은 수의 점들을 생성할때 유용(사인곡선)\n",
    "x = np.linspace(0,2*np.pi, 10000)\n",
    "y = np.sin(x)"
   ]
  },
  {
   "cell_type": "code",
   "execution_count": 253,
   "id": "254ebf86",
   "metadata": {},
   "outputs": [
    {
     "data": {
      "image/png": "[encoded data removed]",
      "text/plain": [
       "<Figure size 500x300 with 1 Axes>"
      ]
     },
     "metadata": {},
     "output_type": "display_data"
    }
   ],
   "source": [
    "#점그래프(plot)\n",
    "import matplotlib.pyplot as plt\n",
    "plt.figure(figsize=(5, 3))\n",
    "plt.plot(x, y)\n",
    "plt.show()"
   ]
  },
  {
   "cell_type": "code",
   "execution_count": 254,
   "id": "2c44fe51",
   "metadata": {},
   "outputs": [
    {
     "data": {
      "text/plain": [
       "array([[0.        , 0.10526316, 0.21052632, 0.31578947, 0.42105263,\n",
       "        0.52631579, 0.63157895, 0.73684211, 0.84210526, 0.94736842],\n",
       "       [1.05263158, 1.15789474, 1.26315789, 1.36842105, 1.47368421,\n",
       "        1.57894737, 1.68421053, 1.78947368, 1.89473684, 2.        ]])"
      ]
     },
     "execution_count": 254,
     "metadata": {},
     "output_type": "execute_result"
    }
   ],
   "source": [
    "np.linspace(0, 2, 20).reshape(2, 10)"
   ]
  },
  {
   "cell_type": "code",
   "execution_count": 255,
   "id": "2ca159cf",
   "metadata": {},
   "outputs": [
    {
     "data": {
      "text/plain": [
       "array([10, 13, 16, 19, 22, 25, 28], dtype=int8)"
      ]
     },
     "execution_count": 255,
     "metadata": {},
     "output_type": "execute_result"
    }
   ],
   "source": [
    "np.arange(10, 30, 3, dtype=np.int8)"
   ]
  },
  {
   "cell_type": "markdown",
   "id": "9305a1fb",
   "metadata": {},
   "source": [
    "## 2.5 배열의 차원 변경하기\n",
    "- reshape([면수,] 행수, 열수) 3차원 (행수,열수) 2차원 (열수) 1차원 / -1이 올 수 있음, reshape는 (-1)이 가장많이 쓰여짐 \n",
    "- resize([면수,]행수,열수) : -1 불가 \n",
    "- T : 전치행렬(행과 열을 바꾸는 방법)로 변환  \n",
    "- transpose():전치행렬로 변환\n",
    "※ 실행 결과가 출력되면 배열이 수정되지 않고, 실행 결과가 없으면 배열 수정됨"
   ]
  },
  {
   "cell_type": "code",
   "execution_count": 5,
   "id": "6c6b2fe8",
   "metadata": {},
   "outputs": [
    {
     "data": {
      "text/plain": [
       "array([[0.61015717, 0.94928032, 0.03657965],\n",
       "       [0.28477106, 0.7123479 , 0.54711591]])"
      ]
     },
     "execution_count": 5,
     "metadata": {},
     "output_type": "execute_result"
    }
   ],
   "source": [
    "a = np.random.random((2,3))\n",
    "a"
   ]
  },
  {
   "cell_type": "code",
   "execution_count": 6,
   "id": "03635949",
   "metadata": {},
   "outputs": [],
   "source": [
    " #리스트와 다르게 10번 반복이 아닌 요소별로 10이 곱해진다. (연산) \n",
    "#round : 반올림 / flor:내림 / cell:올림 "
   ]
  },
  {
   "cell_type": "code",
   "execution_count": 7,
   "id": "94e4dc54",
   "metadata": {},
   "outputs": [
    {
     "data": {
      "text/plain": [
       "array([[6., 9., 0.],\n",
       "       [3., 7., 5.]])"
      ]
     },
     "execution_count": 7,
     "metadata": {},
     "output_type": "execute_result"
    }
   ],
   "source": [
    "a = np.round(a*10)\n",
    "a"
   ]
  },
  {
   "cell_type": "code",
   "execution_count": 10,
   "id": "43481344",
   "metadata": {},
   "outputs": [
    {
     "data": {
      "text/plain": [
       "array([[1., 6.],\n",
       "       [9., 6.],\n",
       "       [5., 1.]])"
      ]
     },
     "execution_count": 10,
     "metadata": {},
     "output_type": "execute_result"
    }
   ],
   "source": [
    "a = a.reshape(3,2)\n",
    "a"
   ]
  },
  {
   "cell_type": "code",
   "execution_count": 11,
   "id": "f29c8f83",
   "metadata": {},
   "outputs": [
    {
     "data": {
      "text/plain": [
       "array([[1., 6., 9.],\n",
       "       [6., 5., 1.]])"
      ]
     },
     "execution_count": 11,
     "metadata": {},
     "output_type": "execute_result"
    }
   ],
   "source": [
    "a.reshape(2, -1)  #-1이 주어지면 해당 차원의 크기가 자동 계산"
   ]
  },
  {
   "cell_type": "code",
   "execution_count": 8,
   "id": "a2a234fd",
   "metadata": {},
   "outputs": [
    {
     "data": {
      "text/plain": [
       "array([[6., 9., 0.],\n",
       "       [3., 7., 5.]])"
      ]
     },
     "execution_count": 8,
     "metadata": {},
     "output_type": "execute_result"
    }
   ],
   "source": [
    "a.reshape(2, -1)"
   ]
  },
  {
   "cell_type": "code",
   "execution_count": 10,
   "id": "8e43a382",
   "metadata": {},
   "outputs": [
    {
     "data": {
      "text/plain": [
       "array([[6., 9.],\n",
       "       [0., 3.],\n",
       "       [7., 5.]])"
      ]
     },
     "execution_count": 10,
     "metadata": {},
     "output_type": "execute_result"
    }
   ],
   "source": [
    "a.reshape(-1, 2) "
   ]
  },
  {
   "cell_type": "code",
   "execution_count": 15,
   "id": "afa55b80",
   "metadata": {},
   "outputs": [],
   "source": [
    "a.resize((2,3))   #결과를 안 뿌려줌..a가 바뀜  / 결과를 출력하지 않는 함수는 배열을 바꿈 (-1이 불가)"
   ]
  },
  {
   "cell_type": "code",
   "execution_count": 16,
   "id": "c72bff3b",
   "metadata": {},
   "outputs": [
    {
     "data": {
      "text/plain": [
       "array([[1., 6., 9.],\n",
       "       [6., 5., 1.]])"
      ]
     },
     "execution_count": 16,
     "metadata": {},
     "output_type": "execute_result"
    }
   ],
   "source": [
    "a"
   ]
  },
  {
   "cell_type": "code",
   "execution_count": 3,
   "id": "ec5b28aa",
   "metadata": {},
   "outputs": [],
   "source": [
    "import numpy as np"
   ]
  },
  {
   "cell_type": "code",
   "execution_count": 11,
   "id": "d83572e8",
   "metadata": {},
   "outputs": [
    {
     "data": {
      "text/plain": [
       "(array([6., 9., 0., 3., 7., 5.]), array([6., 9., 0., 3., 7., 5.]))"
      ]
     },
     "execution_count": 11,
     "metadata": {},
     "output_type": "execute_result"
    }
   ],
   "source": [
    "a. ravel(), a.flatten() #1차원으로 변경"
   ]
  },
  {
   "cell_type": "code",
   "execution_count": 12,
   "id": "1fe96cb3",
   "metadata": {},
   "outputs": [
    {
     "data": {
      "text/plain": [
       "array([[6., 9., 0.],\n",
       "       [3., 7., 5.]])"
      ]
     },
     "execution_count": 12,
     "metadata": {},
     "output_type": "execute_result"
    }
   ],
   "source": [
    "a"
   ]
  },
  {
   "cell_type": "code",
   "execution_count": 13,
   "id": "c4eda6c1",
   "metadata": {},
   "outputs": [
    {
     "data": {
      "text/plain": [
       "array([[6., 3.],\n",
       "       [9., 7.],\n",
       "       [0., 5.]])"
      ]
     },
     "execution_count": 13,
     "metadata": {},
     "output_type": "execute_result"
    }
   ],
   "source": [
    "a.T #전치행렬(행과 열을 뒤바꾼 행렬) / a를 바꾸진 않음"
   ]
  },
  {
   "cell_type": "code",
   "execution_count": 16,
   "id": "96fbeaeb",
   "metadata": {},
   "outputs": [
    {
     "data": {
      "text/plain": [
       "array([[6., 3.],\n",
       "       [9., 7.],\n",
       "       [0., 5.]])"
      ]
     },
     "execution_count": 16,
     "metadata": {},
     "output_type": "execute_result"
    }
   ],
   "source": [
    "a.transpose() #전치 행열 / a를 바꾸진 않음"
   ]
  },
  {
   "cell_type": "code",
   "execution_count": 17,
   "id": "57dac035",
   "metadata": {},
   "outputs": [
    {
     "data": {
      "text/plain": [
       "array([[6., 9., 0.],\n",
       "       [3., 7., 5.]])"
      ]
     },
     "execution_count": 17,
     "metadata": {},
     "output_type": "execute_result"
    }
   ],
   "source": [
    "a"
   ]
  },
  {
   "cell_type": "markdown",
   "id": "f3bc744b",
   "metadata": {},
   "source": [
    "## 2.6 배열 인쇄"
   ]
  },
  {
   "cell_type": "code",
   "execution_count": 18,
   "id": "4fc3ed43",
   "metadata": {},
   "outputs": [
    {
     "data": {
      "text/plain": [
       "array([   0,    1,    2, ...,  998,  999, 1000])"
      ]
     },
     "execution_count": 18,
     "metadata": {},
     "output_type": "execute_result"
    }
   ],
   "source": [
    "#배열이 커서 출력이 안 될 경우\n",
    "np.arange(1001) #1000개 까지는 출력이 가능하나 그 이후는 출력이 안 됨."
   ]
  },
  {
   "cell_type": "code",
   "execution_count": 21,
   "id": "ec159afc",
   "metadata": {},
   "outputs": [
    {
     "data": {
      "text/plain": [
       "array([[    0,     1,     2, ...,    97,    98,    99],\n",
       "       [  100,   101,   102, ...,   197,   198,   199],\n",
       "       [  200,   201,   202, ...,   297,   298,   299],\n",
       "       ...,\n",
       "       [19700, 19701, 19702, ..., 19797, 19798, 19799],\n",
       "       [19800, 19801, 19802, ..., 19897, 19898, 19899],\n",
       "       [19900, 19901, 19902, ..., 19997, 19998, 19999]])"
      ]
     },
     "execution_count": 21,
     "metadata": {},
     "output_type": "execute_result"
    }
   ],
   "source": [
    "np.arange(20000).reshape(200,100)"
   ]
  },
  {
   "cell_type": "code",
   "execution_count": 22,
   "id": "a4056b18",
   "metadata": {},
   "outputs": [],
   "source": [
    "#배열 출력 옵션 변경 (기본 출력이 1000개, 인쇄할 사이즈를 10000, 최대치, 무한대)\n",
    "#무한대 - 임의의 값에 저장 \n",
    "#최대치 - sys.maxsize\n",
    "\n",
    "#출력값을 만개로 바꾼것\n",
    "import sys\n",
    "# np.set_printoptions(threshold=10000)\n",
    "#출력값을 최대값으로 바꾼것\n",
    "# np.set_printoptions(threshold=sys.maxsize)\n",
    "#무한대로 바꾼것 \n",
    "np.set_printoptions(threshold=np.inf)\n",
    "#커널 재시작시 threshold값 1000으로 복귀"
   ]
  },
  {
   "cell_type": "code",
   "execution_count": 23,
   "id": "4e1c6296",
   "metadata": {},
   "outputs": [
    {
     "data": {
      "text/plain": [
       "9223372036854775807"
      ]
     },
     "execution_count": 23,
     "metadata": {},
     "output_type": "execute_result"
    }
   ],
   "source": [
    "sys.maxsize"
   ]
  },
  {
   "cell_type": "markdown",
   "id": "8f31b389",
   "metadata": {},
   "source": [
    "## 2.7 기본 연산 동작\n",
    "### 1) 배열의 요소별 연산"
   ]
  },
  {
   "cell_type": "code",
   "execution_count": 27,
   "id": "1b04a7a9",
   "metadata": {},
   "outputs": [
    {
     "data": {
      "text/plain": [
       "[1, 2, 3, 4, 5, 6]"
      ]
     },
     "execution_count": 27,
     "metadata": {},
     "output_type": "execute_result"
    }
   ],
   "source": [
    "# 리스트는 더함\n",
    "l = [1, 2, 3]\n",
    "m = [4, 5, 6]\n",
    "l + m"
   ]
  },
  {
   "cell_type": "code",
   "execution_count": 30,
   "id": "af2ad995",
   "metadata": {},
   "outputs": [
    {
     "name": "stdout",
     "output_type": "stream",
     "text": [
      "[10 20 30 40] a의 타입 : int8\n",
      "[0 1 2 3] b의 타입 : int32\n"
     ]
    }
   ],
   "source": [
    "a = np.array([10,20,30,40], dtype=np.int8)\n",
    "b = np.arange(4)\n",
    "print(a, 'a의 타입 :', a.dtype)\n",
    "print(b, 'b의 타입 :' ,b.dtype)"
   ]
  },
  {
   "cell_type": "code",
   "execution_count": 37,
   "id": "d25d81c8",
   "metadata": {},
   "outputs": [
    {
     "data": {
      "text/plain": [
       "array([10, 21, 32, 43])"
      ]
     },
     "execution_count": 37,
     "metadata": {},
     "output_type": "execute_result"
    }
   ],
   "source": [
    "a+b"
   ]
  },
  {
   "cell_type": "code",
   "execution_count": 39,
   "id": "00de016f",
   "metadata": {},
   "outputs": [
    {
     "data": {
      "text/plain": [
       "(array([10, 21, 32, 43]), dtype('int32'))"
      ]
     },
     "execution_count": 39,
     "metadata": {},
     "output_type": "execute_result"
    }
   ],
   "source": [
    "c = a + b\n",
    "c , c.dtype"
   ]
  },
  {
   "cell_type": "code",
   "execution_count": 40,
   "id": "bb4b98dd",
   "metadata": {},
   "outputs": [
    {
     "data": {
      "text/plain": [
       "array([10, 21, 32, 43], dtype=int8)"
      ]
     },
     "execution_count": 40,
     "metadata": {},
     "output_type": "execute_result"
    }
   ],
   "source": [
    "a += b #a = a+b\n",
    "a"
   ]
  },
  {
   "cell_type": "code",
   "execution_count": 41,
   "id": "cf34d65c",
   "metadata": {},
   "outputs": [
    {
     "data": {
      "text/plain": [
       "(array([10, 22, 34, 46]), dtype('int32'))"
      ]
     },
     "execution_count": 41,
     "metadata": {},
     "output_type": "execute_result"
    }
   ],
   "source": [
    "a = a + b\n",
    "a, a.dtype"
   ]
  },
  {
   "cell_type": "code",
   "execution_count": 46,
   "id": "bf26f3ba",
   "metadata": {},
   "outputs": [
    {
     "data": {
      "text/plain": [
       "array([    1,    22,  1156, 97336])"
      ]
     },
     "execution_count": 46,
     "metadata": {},
     "output_type": "execute_result"
    }
   ],
   "source": [
    "a**b"
   ]
  },
  {
   "cell_type": "code",
   "execution_count": 50,
   "id": "7a31b66c",
   "metadata": {},
   "outputs": [
    {
     "data": {
      "text/plain": [
       "array([ True, False, False, False])"
      ]
     },
     "execution_count": 50,
     "metadata": {},
     "output_type": "execute_result"
    }
   ],
   "source": [
    "a<20\n"
   ]
  },
  {
   "cell_type": "code",
   "execution_count": 54,
   "id": "984787ec",
   "metadata": {},
   "outputs": [
    {
     "data": {
      "text/plain": [
       "array([10, 22, 34])"
      ]
     },
     "execution_count": 54,
     "metadata": {},
     "output_type": "execute_result"
    }
   ],
   "source": [
    "#배열에서 특정한 성질의 요소만 추출하는 방식\n",
    "a[[True, True, True, False]]"
   ]
  },
  {
   "cell_type": "code",
   "execution_count": 63,
   "id": "cfe57d46",
   "metadata": {},
   "outputs": [
    {
     "name": "stdout",
     "output_type": "stream",
     "text": [
      "[10 22]\n"
     ]
    }
   ],
   "source": [
    "print(a[a<30])"
   ]
  },
  {
   "cell_type": "code",
   "execution_count": 65,
   "id": "2b670271",
   "metadata": {},
   "outputs": [
    {
     "name": "stdout",
     "output_type": "stream",
     "text": [
      "[10 22 34 46]\n",
      "[0 1 2 3]\n"
     ]
    },
    {
     "data": {
      "text/plain": [
       "array([  0,  22,  68, 138])"
      ]
     },
     "execution_count": 65,
     "metadata": {},
     "output_type": "execute_result"
    }
   ],
   "source": [
    "print(a)\n",
    "print(b)\n",
    "a*b"
   ]
  },
  {
   "cell_type": "markdown",
   "id": "5d328669",
   "metadata": {},
   "source": [
    "### 2)행렬(2차원 배열)의 곱 (@, dot함수) \n",
    "cf*(요소별 곱)이랑 @랑은 다름"
   ]
  },
  {
   "cell_type": "code",
   "execution_count": 76,
   "id": "e412eae0",
   "metadata": {},
   "outputs": [
    {
     "name": "stdout",
     "output_type": "stream",
     "text": [
      "a =\n",
      "[[1 2]\n",
      " [0 1]]\n",
      "b =\n",
      "[[2 0]\n",
      " [3 4]]\n"
     ]
    }
   ],
   "source": [
    "a = np.array([[1, 2],\n",
    "             [0, 1]])\n",
    "b = np.array([[2, 0],\n",
    "              [3, 4]])\n",
    "\n",
    "print('a =', a, sep='\\n')\n",
    "print('b =', b, sep='\\n')"
   ]
  },
  {
   "cell_type": "code",
   "execution_count": 77,
   "id": "9ee1817a",
   "metadata": {},
   "outputs": [
    {
     "data": {
      "text/plain": [
       "array([[2, 0],\n",
       "       [0, 4]])"
      ]
     },
     "execution_count": 77,
     "metadata": {},
     "output_type": "execute_result"
    }
   ],
   "source": [
    "#요소별 계산\n",
    "a*b"
   ]
  },
  {
   "cell_type": "code",
   "execution_count": 78,
   "id": "dd1d9fea",
   "metadata": {},
   "outputs": [
    {
     "data": {
      "text/plain": [
       "array([[8, 8],\n",
       "       [3, 4]])"
      ]
     },
     "execution_count": 78,
     "metadata": {},
     "output_type": "execute_result"
    }
   ],
   "source": [
    "#\n",
    "a@b"
   ]
  },
  {
   "cell_type": "code",
   "execution_count": 80,
   "id": "cf1b2b4e",
   "metadata": {},
   "outputs": [
    {
     "name": "stdout",
     "output_type": "stream",
     "text": [
      "요소별 곱 a*b =\n",
      "[[2 0]\n",
      " [0 4]]\n",
      "행렬곱 a@b =\n",
      "[[8 8]\n",
      " [3 4]]\n",
      "행렬곱 a.dot(b) =\n",
      "[[8 8]\n",
      " [3 4]]\n"
     ]
    }
   ],
   "source": [
    "print('요소별 곱 a*b =', a*b, sep='\\n')\n",
    "print('행렬곱 a@b =', a@b, sep='\\n')\n",
    "print('행렬곱 a.dot(b) =', a.dot(b), sep='\\n')"
   ]
  },
  {
   "cell_type": "code",
   "execution_count": null,
   "id": "e9f68a1d",
   "metadata": {},
   "outputs": [],
   "source": [
    "# 단위행렬 np.exe\n",
    "# 곱셈을 하려면 앞의 열수랑 뒤의 행수가 같아야 함. 2*3 , 3*2 = 2*2 (결과값은 2,2로 나옴)\n",
    "# 정방행렬"
   ]
  },
  {
   "cell_type": "code",
   "execution_count": 83,
   "id": "613e0a9b",
   "metadata": {},
   "outputs": [
    {
     "data": {
      "text/plain": [
       "array([[1., 0., 0., 0., 0.],\n",
       "       [0., 1., 0., 0., 0.],\n",
       "       [0., 0., 1., 0., 0.],\n",
       "       [0., 0., 0., 1., 0.],\n",
       "       [0., 0., 0., 0., 1.]])"
      ]
     },
     "execution_count": 83,
     "metadata": {},
     "output_type": "execute_result"
    }
   ],
   "source": [
    "#2행 2열의 단위행렬 (정방행렬:np.eye(n)) / 정방행렬이 아니면 단위행렬을 구할 수 없음 \n",
    "np.eye(5)"
   ]
  },
  {
   "cell_type": "markdown",
   "id": "42c18487",
   "metadata": {},
   "source": [
    "### 3) 복합 대입연산자 사용\n",
    "- 배열에서는 a=a+b와 a+=b 다소 다르게 작동\n",
    "- a+=b는 오류가 날 수 있어서 a=a+b를 많이 쓴다."
   ]
  },
  {
   "cell_type": "code",
   "execution_count": 86,
   "id": "930f0bce",
   "metadata": {},
   "outputs": [
    {
     "data": {
      "text/plain": [
       "array([[1, 1, 1],\n",
       "       [1, 1, 1]])"
      ]
     },
     "execution_count": 86,
     "metadata": {},
     "output_type": "execute_result"
    }
   ],
   "source": [
    "a = np.ones((2,3), dtype=int) #int 32까지 2행 3열 배열 (4비트)\n",
    "a"
   ]
  },
  {
   "cell_type": "code",
   "execution_count": 90,
   "id": "5e927d39",
   "metadata": {},
   "outputs": [
    {
     "data": {
      "text/plain": [
       "array([[0.85602458, 0.87239653, 0.29829942],\n",
       "       [0.12400808, 0.0689227 , 0.5998506 ]])"
      ]
     },
     "execution_count": 90,
     "metadata": {},
     "output_type": "execute_result"
    }
   ],
   "source": [
    "b = np.random.random((2,3)) #float64 2행 3열 배열 (8비트)\n",
    "b"
   ]
  },
  {
   "cell_type": "code",
   "execution_count": 94,
   "id": "ef24f4af",
   "metadata": {},
   "outputs": [
    {
     "ename": "UFuncTypeError",
     "evalue": "Cannot cast ufunc 'add' output from dtype('float64') to dtype('int32') with casting rule 'same_kind'",
     "output_type": "error",
     "traceback": [
      "\u001b[1;31m---------------------------------------------------------------------------\u001b[0m",
      "\u001b[1;31mUFuncTypeError\u001b[0m                            Traceback (most recent call last)",
      "Cell \u001b[1;32mIn[94], line 1\u001b[0m\n\u001b[1;32m----> 1\u001b[0m a \u001b[38;5;241m+\u001b[39m\u001b[38;5;241m=\u001b[39m b\n",
      "\u001b[1;31mUFuncTypeError\u001b[0m: Cannot cast ufunc 'add' output from dtype('float64') to dtype('int32') with casting rule 'same_kind'"
     ]
    }
   ],
   "source": [
    "#a+b를 기존 a에 넣는다. \n",
    "a += b \n",
    "#8비트는 4비트에 들어가지못해 오류가 난다. "
   ]
  },
  {
   "cell_type": "code",
   "execution_count": 96,
   "id": "a954b7a1",
   "metadata": {},
   "outputs": [
    {
     "data": {
      "text/plain": [
       "array([[6.71204916, 6.74479306, 5.59659883],\n",
       "       [5.24801617, 5.13784539, 6.19970121]])"
      ]
     },
     "execution_count": 96,
     "metadata": {},
     "output_type": "execute_result"
    }
   ],
   "source": [
    "a = a+b #a+b는 새로운 a변수로 만드는거라서 오류가 안 남 \n",
    "a"
   ]
  },
  {
   "cell_type": "code",
   "execution_count": 93,
   "id": "cba49786",
   "metadata": {},
   "outputs": [
    {
     "data": {
      "text/plain": [
       "array([[2.85602458, 2.87239653, 2.29829942],\n",
       "       [2.12400808, 2.0689227 , 2.5998506 ]])"
      ]
     },
     "execution_count": 93,
     "metadata": {},
     "output_type": "execute_result"
    }
   ],
   "source": [
    "b += a\n",
    "b"
   ]
  },
  {
   "cell_type": "markdown",
   "id": "77074549",
   "metadata": {},
   "source": [
    "### 4) 배열 요소별 집계\n",
    "- sum, min, max, <font color='red'>**mean(평균), var(분산), std(표준편차)**</font>"
   ]
  },
  {
   "cell_type": "code",
   "execution_count": 99,
   "id": "dbef2b86",
   "metadata": {},
   "outputs": [
    {
     "data": {
      "text/plain": [
       "array([[2, 2, 2, 3],\n",
       "       [4, 3, 2, 1]])"
      ]
     },
     "execution_count": 99,
     "metadata": {},
     "output_type": "execute_result"
    }
   ],
   "source": [
    "a = np.array([[2, 2, 2, 3],\n",
    "              [4, 3, 2, 1]])\n",
    "a"
   ]
  },
  {
   "cell_type": "code",
   "execution_count": 111,
   "id": "9d23c679",
   "metadata": {},
   "outputs": [
    {
     "name": "stdout",
     "output_type": "stream",
     "text": [
      "전체합 : 19 19\n",
      "최소값 : 1 1\n",
      "최대값 : 4 4\n",
      "전체 평균 : 2.375 2.375\n",
      "전체 분산 : 0.734375 0.734375\n",
      "전체 표준편차 : 0.8569568250501305 0.8569568250501305\n"
     ]
    }
   ],
   "source": [
    "print('전체합 :', np.sum(a), a.sum())\n",
    "print('최소값 :', np.min(a),a.min())\n",
    "print('최대값 :', np.max(a), a.max())\n",
    "print('전체 평균 :', np.mean(a), a.mean())\n",
    "print('전체 분산 :', np.var(a), a.var())\n",
    "print('전체 표준편차 :', np.std(a), a.std())"
   ]
  },
  {
   "cell_type": "markdown",
   "id": "a096e178",
   "metadata": {},
   "source": [
    "### 4) 배열 축별 집계\n",
    "- sum, min, max, <font color='purple'>**mean(평균), var(분산), std(표준편차)**</font>, <font color='red' font-size =15pt> ***argmax(최대값이 있는 인덱스)***</font> \\\n",
    "argmax 인덱스를 통한 최대값을 찾기"
   ]
  },
  {
   "cell_type": "code",
   "execution_count": 112,
   "id": "abd350e4",
   "metadata": {},
   "outputs": [
    {
     "data": {
      "text/plain": [
       "array([[2, 2, 2, 3],\n",
       "       [4, 3, 2, 1]])"
      ]
     },
     "execution_count": 112,
     "metadata": {},
     "output_type": "execute_result"
    }
   ],
   "source": [
    "a"
   ]
  },
  {
   "cell_type": "code",
   "execution_count": 115,
   "id": "5be5ab55",
   "metadata": {},
   "outputs": [
    {
     "name": "stdout",
     "output_type": "stream",
     "text": [
      "a의 행별 합 : [ 9 10] [ 9 10]\n"
     ]
    }
   ],
   "source": [
    "#행별 합계 \n",
    "#axis=1: 1축(열)들의 합 (0축-행은 고정)\n",
    "print('a의 행별 합 :', a.sum(axis=1), np.sum(a, axis=1)) \n",
    "\n",
    "#2차원에서 axis= 0(행축) 또는 1(열축)\n",
    "#3차원에서 axis= 0(면축),1(행축),2(열축) / 3차원 배열[면,행,열]"
   ]
  },
  {
   "cell_type": "code",
   "execution_count": 116,
   "id": "5a84f176",
   "metadata": {},
   "outputs": [
    {
     "name": "stdout",
     "output_type": "stream",
     "text": [
      "a의 열별 합 : [6 5 4 4] [6 5 4 4]\n"
     ]
    }
   ],
   "source": [
    "#열별 합계\n",
    "#axis=0 : 0축들의 합 (1축-열은 고정)\n",
    "print('a의 열별 합 :', a.sum(axis=0), np.sum(a, axis=0))"
   ]
  },
  {
   "cell_type": "code",
   "execution_count": 117,
   "id": "2604b5da",
   "metadata": {},
   "outputs": [
    {
     "name": "stdout",
     "output_type": "stream",
     "text": [
      "a의 행별 최대값 위치 : [3 0] [3 0]\n"
     ]
    }
   ],
   "source": [
    "print('a의 행별 최대값 위치 :', a.argmax(axis=1), np.argmax(a, axis=1))"
   ]
  },
  {
   "cell_type": "code",
   "execution_count": 120,
   "id": "080e303e",
   "metadata": {},
   "outputs": [
    {
     "data": {
      "text/plain": [
       "(array([[[ 0,  1,  2,  3],\n",
       "         [ 4,  5,  6,  7],\n",
       "         [ 8,  9, 10, 11]],\n",
       " \n",
       "        [[12, 13, 14, 15],\n",
       "         [16, 17, 18, 19],\n",
       "         [20, 21, 22, 23]]]),\n",
       " 3)"
      ]
     },
     "execution_count": 120,
     "metadata": {},
     "output_type": "execute_result"
    }
   ],
   "source": [
    "# 3차원 배열의 축별 집계\n",
    "b = np.arange(24).reshape(2, 3, 4) #2면 3행 4열\n",
    "b, b.ndim                #n.ndim(차원물어보는)"
   ]
  },
  {
   "cell_type": "code",
   "execution_count": 122,
   "id": "3e83089c",
   "metadata": {},
   "outputs": [
    {
     "data": {
      "text/plain": [
       "(array([[12, 14, 16, 18],\n",
       "        [20, 22, 24, 26],\n",
       "        [28, 30, 32, 34]]),\n",
       " array([[12, 14, 16, 18],\n",
       "        [20, 22, 24, 26],\n",
       "        [28, 30, 32, 34]]))"
      ]
     },
     "execution_count": 122,
     "metadata": {},
     "output_type": "execute_result"
    }
   ],
   "source": [
    "# 3차원일때 면축들의 합\n",
    "# axis=0 :1축과 2축 고정하고 0축(0면,1면)들의 합\n",
    "b.sum(axis=0), np.sum(b,axis=0)"
   ]
  },
  {
   "cell_type": "code",
   "execution_count": 126,
   "id": "012a466e",
   "metadata": {},
   "outputs": [
    {
     "data": {
      "text/plain": [
       "array([[[ 0,  1,  2,  3],\n",
       "        [ 4,  5,  6,  7],\n",
       "        [ 8,  9, 10, 11]],\n",
       "\n",
       "       [[12, 13, 14, 15],\n",
       "        [16, 17, 18, 19],\n",
       "        [20, 21, 22, 23]]])"
      ]
     },
     "execution_count": 126,
     "metadata": {},
     "output_type": "execute_result"
    }
   ],
   "source": [
    "b"
   ]
  },
  {
   "cell_type": "code",
   "execution_count": 124,
   "id": "12035ae3",
   "metadata": {},
   "outputs": [
    {
     "data": {
      "text/plain": [
       "array([[12, 15, 18, 21],\n",
       "       [48, 51, 54, 57]])"
      ]
     },
     "execution_count": 124,
     "metadata": {},
     "output_type": "execute_result"
    }
   ],
   "source": [
    "#axis=1 : 0축과 2축 고정하고 1축(0행,1행,2행)들의 합\n",
    "b.sum(axis=1)"
   ]
  },
  {
   "cell_type": "code",
   "execution_count": 127,
   "id": "380aae38",
   "metadata": {},
   "outputs": [
    {
     "data": {
      "text/plain": [
       "array([[[ 0,  1,  2,  3],\n",
       "        [ 4,  5,  6,  7],\n",
       "        [ 8,  9, 10, 11]],\n",
       "\n",
       "       [[12, 13, 14, 15],\n",
       "        [16, 17, 18, 19],\n",
       "        [20, 21, 22, 23]]])"
      ]
     },
     "execution_count": 127,
     "metadata": {},
     "output_type": "execute_result"
    }
   ],
   "source": [
    "b"
   ]
  },
  {
   "cell_type": "code",
   "execution_count": 125,
   "id": "96c1abbf",
   "metadata": {},
   "outputs": [
    {
     "data": {
      "text/plain": [
       "array([[ 6, 22, 38],\n",
       "       [54, 70, 86]])"
      ]
     },
     "execution_count": 125,
     "metadata": {},
     "output_type": "execute_result"
    }
   ],
   "source": [
    "b.sum(axis=2)"
   ]
  },
  {
   "cell_type": "markdown",
   "id": "0a0c5402",
   "metadata": {},
   "source": [
    "## 2.8 그외  요소별 계산하는 범용함수들\n",
    "- 메모리나 시간을 효율적으로 사용할 수 있음 \n",
    "- np.add(A, B, C) : C=np.add(A, B) : C=A+B \n",
    "- np.subtract(A, B, C) : C=np.subtract(A, B) : C=A-B\n",
    "- np.multiply(A, B, C) : C=np.multiply(A, B) : C=A*B\n",
    "- np.sqrt(배열) : 요소별 제곱근 cf. math.sqrt(스칼라값)"
   ]
  },
  {
   "cell_type": "code",
   "execution_count": 128,
   "id": "44b273a1",
   "metadata": {
    "scrolled": true
   },
   "outputs": [
    {
     "name": "stdout",
     "output_type": "stream",
     "text": [
      "CPU times: total: 0 ns\n",
      "Wall time: 0 ns\n"
     ]
    }
   ],
   "source": [
    "%time\n",
    "a = np.array([1, 2])\n",
    "b = np.array([3, 4])\n",
    "c = a + b "
   ]
  },
  {
   "cell_type": "code",
   "execution_count": 129,
   "id": "8d954c6a",
   "metadata": {},
   "outputs": [
    {
     "data": {
      "text/plain": [
       "array([4, 6])"
      ]
     },
     "execution_count": 129,
     "metadata": {},
     "output_type": "execute_result"
    }
   ],
   "source": [
    "np.add(a,b,c)\n",
    "c"
   ]
  },
  {
   "cell_type": "code",
   "execution_count": 130,
   "id": "1ff360d9",
   "metadata": {},
   "outputs": [
    {
     "data": {
      "text/plain": [
       "array([4, 6])"
      ]
     },
     "execution_count": 130,
     "metadata": {},
     "output_type": "execute_result"
    }
   ],
   "source": [
    "c = np.add(a,b)\n",
    "c"
   ]
  },
  {
   "cell_type": "code",
   "execution_count": 131,
   "id": "a9ab1541",
   "metadata": {},
   "outputs": [
    {
     "data": {
      "text/plain": [
       "(array([1, 2]), array([1.        , 1.41421356]), 2.0)"
      ]
     },
     "execution_count": 131,
     "metadata": {},
     "output_type": "execute_result"
    }
   ],
   "source": [
    "#np.sqrt(배열 또는 스칼라값) math.sqrt(스칼라)\n",
    "a, np.sqrt(a), np.sqrt(4)"
   ]
  },
  {
   "cell_type": "code",
   "execution_count": 133,
   "id": "82ddbd28",
   "metadata": {},
   "outputs": [
    {
     "ename": "TypeError",
     "evalue": "only size-1 arrays can be converted to Python scalars",
     "output_type": "error",
     "traceback": [
      "\u001b[1;31m---------------------------------------------------------------------------\u001b[0m",
      "\u001b[1;31mTypeError\u001b[0m                                 Traceback (most recent call last)",
      "Cell \u001b[1;32mIn[133], line 4\u001b[0m\n\u001b[0;32m      2\u001b[0m \u001b[38;5;28;01mimport\u001b[39;00m \u001b[38;5;21;01mmath\u001b[39;00m\n\u001b[0;32m      3\u001b[0m math\u001b[38;5;241m.\u001b[39msqrt(\u001b[38;5;241m4\u001b[39m)\n\u001b[1;32m----> 4\u001b[0m \u001b[43mmath\u001b[49m\u001b[38;5;241;43m.\u001b[39;49m\u001b[43msqrt\u001b[49m\u001b[43m(\u001b[49m\u001b[43ma\u001b[49m\u001b[43m)\u001b[49m\n",
      "\u001b[1;31mTypeError\u001b[0m: only size-1 arrays can be converted to Python scalars"
     ]
    }
   ],
   "source": [
    "#스칼라값이 아니라는 오류 발생 \n",
    "import math\n",
    "math.sqrt(4)\n",
    "math.sqrt(a)"
   ]
  },
  {
   "cell_type": "markdown",
   "id": "743bbf01",
   "metadata": {},
   "source": [
    "## 2.9 브로드 캐스팅\n",
    "- 서로 다른 크기의 배열 간 연산을 수행할 수 있도록 해주는 강력한 기능"
   ]
  },
  {
   "cell_type": "code",
   "execution_count": 135,
   "id": "f5470bc2",
   "metadata": {},
   "outputs": [
    {
     "name": "stdout",
     "output_type": "stream",
     "text": [
      "a+b의 값 : [11 12 13]\n",
      "a+b의 값 : [11 12 13]\n"
     ]
    }
   ],
   "source": [
    "# 1차원 배열 (배열x스칼라값)\n",
    "a = np.array([1, 2, 3])\n",
    "b = 10\n",
    "print('a+b의 값 :', a + b)\n",
    "print('a+b의 값 :', np.add(a,b))"
   ]
  },
  {
   "cell_type": "code",
   "execution_count": 136,
   "id": "f7d61dd4",
   "metadata": {},
   "outputs": [
    {
     "name": "stdout",
     "output_type": "stream",
     "text": [
      "a+b의 값 : [11 12 13]\n",
      "a+b의 값 : [11 12 13]\n"
     ]
    }
   ],
   "source": [
    "# 브로드 캐스팅\n",
    "# 1차원 배열 (배열x배열)\n",
    "a = np.array([1, 2, 3])\n",
    "b = np.array([10])\n",
    "print('a+b의 값 :', a + b)\n",
    "print('a+b의 값 :', np.add(a,b))"
   ]
  },
  {
   "cell_type": "code",
   "execution_count": 141,
   "id": "c45cf61c",
   "metadata": {},
   "outputs": [
    {
     "data": {
      "text/plain": [
       "array([[ 1,  2,  3],\n",
       "       [11, 12, 13],\n",
       "       [21, 22, 23],\n",
       "       [31, 32, 33]])"
      ]
     },
     "execution_count": 141,
     "metadata": {},
     "output_type": "execute_result"
    }
   ],
   "source": [
    "# 2차원 배열의 브로드 캐스팅\n",
    "a = np.array([[0, 0, 0],\n",
    "              [10, 10, 10],\n",
    "              [20, 20, 20],\n",
    "              [30, 30, 30]]) #4행 3열\n",
    "b = np.array([1, 2, 3]) #3열\n",
    "a + b"
   ]
  },
  {
   "cell_type": "code",
   "execution_count": 142,
   "id": "821f4e04",
   "metadata": {},
   "outputs": [
    {
     "data": {
      "text/plain": [
       "array([[ 1,  1,  1],\n",
       "       [12, 12, 12],\n",
       "       [23, 23, 23],\n",
       "       [34, 34, 34]])"
      ]
     },
     "execution_count": 142,
     "metadata": {},
     "output_type": "execute_result"
    }
   ],
   "source": [
    "# 2차원 배열의 브로드 캐스팅\n",
    "a = np.array([[0, 0, 0],\n",
    "              [10, 10, 10],\n",
    "              [20, 20, 20],\n",
    "              [30, 30, 30]]) #4행 3열\n",
    "b = np.array([[1],\n",
    "              [2],\n",
    "              [3],\n",
    "              [4]]) #4행 1열 \n",
    "a + b"
   ]
  },
  {
   "cell_type": "code",
   "execution_count": 147,
   "id": "08f3d377",
   "metadata": {},
   "outputs": [
    {
     "data": {
      "text/plain": [
       "array([[1],\n",
       "       [2],\n",
       "       [3],\n",
       "       [4]])"
      ]
     },
     "execution_count": 147,
     "metadata": {},
     "output_type": "execute_result"
    }
   ],
   "source": [
    "# 2차원 배열의 브로드 캐스팅\n",
    "b = np.array([1,2,3,4])\n",
    "# b_1 = b.reshape(4,1)             방법1\n",
    "b_1 = b[:,np.newaxis]             #방법2 (많이 쓰는것)\n",
    "# b_1 = np.expand_dims(b, axis=1)  방법3\n",
    "b_1"
   ]
  },
  {
   "cell_type": "code",
   "execution_count": 148,
   "id": "54c75d75",
   "metadata": {},
   "outputs": [
    {
     "data": {
      "text/plain": [
       "array([[ 1,  1,  1],\n",
       "       [12, 12, 12],\n",
       "       [23, 23, 23],\n",
       "       [34, 34, 34]])"
      ]
     },
     "execution_count": 148,
     "metadata": {},
     "output_type": "execute_result"
    }
   ],
   "source": [
    "a + b[:,np.newaxis]"
   ]
  },
  {
   "cell_type": "code",
   "execution_count": 149,
   "id": "f5813695",
   "metadata": {},
   "outputs": [
    {
     "data": {
      "text/plain": [
       "array([[12, 13, 14, 15],\n",
       "       [22, 23, 24, 25],\n",
       "       [32, 33, 34, 35],\n",
       "       [42, 43, 44, 45]])"
      ]
     },
     "execution_count": 149,
     "metadata": {},
     "output_type": "execute_result"
    }
   ],
   "source": [
    "# a와 b의 모든 쌍의 조합에 대해 계산하는 방식\n",
    "a = np.array([2, 3, 4, 5])\n",
    "b = np.array([10, 20, 30, 40])\n",
    "\n",
    "a + b[:, np.newaxis]"
   ]
  },
  {
   "cell_type": "code",
   "execution_count": 150,
   "id": "22545023",
   "metadata": {},
   "outputs": [
    {
     "data": {
      "text/plain": [
       "array([[12, 22, 32, 42],\n",
       "       [13, 23, 33, 43],\n",
       "       [14, 24, 34, 44],\n",
       "       [15, 25, 35, 45]])"
      ]
     },
     "execution_count": 150,
     "metadata": {},
     "output_type": "execute_result"
    }
   ],
   "source": [
    "a[:,np.newaxis] + b"
   ]
  },
  {
   "cell_type": "code",
   "execution_count": 154,
   "id": "3443631b",
   "metadata": {},
   "outputs": [
    {
     "data": {
      "text/plain": [
       "(array([[2],\n",
       "        [3],\n",
       "        [4],\n",
       "        [5]]),\n",
       " array([[10, 20, 30, 40]]))"
      ]
     },
     "execution_count": 154,
     "metadata": {},
     "output_type": "execute_result"
    }
   ],
   "source": [
    "np.ix_(a,b) #ix_ = 증강 "
   ]
  },
  {
   "cell_type": "code",
   "execution_count": 153,
   "id": "236ab7ee",
   "metadata": {},
   "outputs": [
    {
     "data": {
      "text/plain": [
       "array([[12, 22, 32, 42],\n",
       "       [13, 23, 33, 43],\n",
       "       [14, 24, 34, 44],\n",
       "       [15, 25, 35, 45]])"
      ]
     },
     "execution_count": 153,
     "metadata": {},
     "output_type": "execute_result"
    }
   ],
   "source": [
    "ax, bx = np.ix_(a,b)\n",
    "ax + bx"
   ]
  },
  {
   "cell_type": "markdown",
   "id": "f1a079ea",
   "metadata": {},
   "source": [
    "# 3절. 배열 합치기/분리하기\n",
    "- 슬라이싱\n",
    "- 두 배열을 합치는 함수\n",
    "- r_, c_\n",
    "- 두 배열을 문리하는 함수\n",
    "\n",
    "## 3.1 인덱싱과 슬라이싱\n",
    "- 인덱싱에는 없는 인덱스 쓰면 에러 발생 \n",
    "- 슬라이싱에는 없는 인덱스 사용시 끝까지 실행.\n",
    "- 음수 인덱스는 끝에서부터 실행"
   ]
  },
  {
   "cell_type": "code",
   "execution_count": 157,
   "id": "af6e456e",
   "metadata": {},
   "outputs": [
    {
     "data": {
      "text/plain": [
       "array([[ 0,  1,  2,  3],\n",
       "       [ 4,  5,  6,  7],\n",
       "       [ 8,  9, 10, 11],\n",
       "       [12, 13, 14, 15],\n",
       "       [16, 17, 18, 19]])"
      ]
     },
     "execution_count": 157,
     "metadata": {},
     "output_type": "execute_result"
    }
   ],
   "source": [
    "a = np.arange(20).reshape(5,4)\n",
    "a"
   ]
  },
  {
   "cell_type": "code",
   "execution_count": 158,
   "id": "6ba6377a",
   "metadata": {},
   "outputs": [
    {
     "data": {
      "text/plain": [
       "array([[ 5,  6],\n",
       "       [ 9, 10]])"
      ]
     },
     "execution_count": 158,
     "metadata": {},
     "output_type": "execute_result"
    }
   ],
   "source": [
    "a[1:3,1:3] #1:3행 , 1:3열"
   ]
  },
  {
   "cell_type": "code",
   "execution_count": 164,
   "id": "4c42625b",
   "metadata": {},
   "outputs": [
    {
     "data": {
      "text/plain": [
       "array([[ 0,  1,  2],\n",
       "       [ 4,  5,  6],\n",
       "       [ 8,  9, 10],\n",
       "       [12, 13, 14],\n",
       "       [16, 17, 18]])"
      ]
     },
     "execution_count": 164,
     "metadata": {},
     "output_type": "execute_result"
    }
   ],
   "source": [
    "a[:5,:3]"
   ]
  },
  {
   "cell_type": "code",
   "execution_count": 166,
   "id": "9e7316c9",
   "metadata": {},
   "outputs": [
    {
     "data": {
      "text/plain": [
       "array([[ 0,  1,  2],\n",
       "       [ 4,  5,  6],\n",
       "       [ 8,  9, 10],\n",
       "       [12, 13, 14],\n",
       "       [16, 17, 18]])"
      ]
     },
     "execution_count": 166,
     "metadata": {},
     "output_type": "execute_result"
    }
   ],
   "source": [
    "a[:,0:-1]"
   ]
  },
  {
   "cell_type": "code",
   "execution_count": 168,
   "id": "15ffdc9e",
   "metadata": {},
   "outputs": [
    {
     "data": {
      "text/plain": [
       "array([[ 0,  1,  2],\n",
       "       [ 4,  5,  6],\n",
       "       [ 8,  9, 10],\n",
       "       [12, 13, 14],\n",
       "       [16, 17, 18]])"
      ]
     },
     "execution_count": 168,
     "metadata": {},
     "output_type": "execute_result"
    }
   ],
   "source": [
    "# 모든 행의 마지막 열 앞까지 (모든 행=모든 0축의 경우 :나 ...으로 씀)\n",
    "a[...,:-1] "
   ]
  },
  {
   "cell_type": "code",
   "execution_count": 174,
   "id": "00a61160",
   "metadata": {},
   "outputs": [
    {
     "data": {
      "text/plain": [
       "(array([[0, 1, 2, 3],\n",
       "        [4, 5, 6, 7]]),\n",
       " array([[0, 1, 2, 3],\n",
       "        [4, 5, 6, 7]]),\n",
       " array([[0, 1, 2, 3],\n",
       "        [4, 5, 6, 7]]),\n",
       " array([[16, 17, 18, 19]]))"
      ]
     },
     "execution_count": 174,
     "metadata": {},
     "output_type": "execute_result"
    }
   ],
   "source": [
    "# 0~1행까지 모든열 추출 (모든열(1축)의 경우 생략 가능:, ... 사용 가능)\n",
    "a[0:2,:], a[:2,...], a[:2]"
   ]
  },
  {
   "cell_type": "code",
   "execution_count": 175,
   "id": "5b0f53eb",
   "metadata": {},
   "outputs": [
    {
     "data": {
      "text/plain": [
       "array([[ 0,  1,  2,  3],\n",
       "       [ 4,  5,  6,  7],\n",
       "       [ 8,  9, 10, 11],\n",
       "       [12, 13, 14, 15],\n",
       "       [16, 17, 18, 19]])"
      ]
     },
     "execution_count": 175,
     "metadata": {},
     "output_type": "execute_result"
    }
   ],
   "source": [
    "a"
   ]
  },
  {
   "cell_type": "code",
   "execution_count": 176,
   "id": "4b9e8c7c",
   "metadata": {},
   "outputs": [
    {
     "data": {
      "text/plain": [
       "array([ 7, 11])"
      ]
     },
     "execution_count": 176,
     "metadata": {},
     "output_type": "execute_result"
    }
   ],
   "source": [
    "a[1:3,-1]"
   ]
  },
  {
   "cell_type": "code",
   "execution_count": 179,
   "id": "ce01282e",
   "metadata": {
    "scrolled": true
   },
   "outputs": [
    {
     "data": {
      "text/plain": [
       "array([[16],\n",
       "       [17],\n",
       "       [18],\n",
       "       [19]])"
      ]
     },
     "execution_count": 179,
     "metadata": {},
     "output_type": "execute_result"
    }
   ],
   "source": [
    "#마지막행의 데이터를 2차원으로 변경 (4행,1열)\n",
    "a_x = a[-1]\n",
    "a_x.reshape(4,1)"
   ]
  },
  {
   "cell_type": "code",
   "execution_count": 181,
   "id": "237a15f8",
   "metadata": {},
   "outputs": [
    {
     "data": {
      "text/plain": [
       "array([[16],\n",
       "       [17],\n",
       "       [18],\n",
       "       [19]])"
      ]
     },
     "execution_count": 181,
     "metadata": {},
     "output_type": "execute_result"
    }
   ],
   "source": [
    "a_x[:,np.newaxis]"
   ]
  },
  {
   "cell_type": "code",
   "execution_count": 188,
   "id": "e34681aa",
   "metadata": {},
   "outputs": [
    {
     "data": {
      "text/plain": [
       "(array([[16],\n",
       "        [17],\n",
       "        [18],\n",
       "        [19]]),\n",
       " array([[16],\n",
       "        [17],\n",
       "        [18],\n",
       "        [19]]),\n",
       " array([[16],\n",
       "        [17],\n",
       "        [18],\n",
       "        [19]]))"
      ]
     },
     "execution_count": 188,
     "metadata": {},
     "output_type": "execute_result"
    }
   ],
   "source": [
    "a[-1][:,np.newaxis],a[-1].reshape(4,1),np.expand_dims(a[-1], axis=1)"
   ]
  },
  {
   "cell_type": "markdown",
   "id": "961d759f",
   "metadata": {},
   "source": [
    "## 3.2 두 배열을 합치는 함수\n",
    "**- vstack(tup) : 아래로 (수직으로/행으로) 추가하는 방식** \\\n",
    "**- hstack(tup) : 옆으로 (수평으로/열으로) 추가하는 방식** \\\n",
    "**- dstack(tup) : 마지막 출(열)을 쌓아 합침(차원 증가)**"
   ]
  },
  {
   "cell_type": "code",
   "execution_count": 200,
   "id": "d9f677fe",
   "metadata": {},
   "outputs": [
    {
     "name": "stdout",
     "output_type": "stream",
     "text": [
      "vstack 아래로 합치기 :\n",
      "[[1 2 3]\n",
      " [4 5 6]]\n",
      "(2, 3)\n",
      "hstack 옆으로 합치기 :\n",
      "[1 2 3 4 5 6]\n",
      "(6,)\n",
      "dstack 축을 depth로 합치기 :\n",
      "[[[1 4]\n",
      "  [2 5]\n",
      "  [3 6]]]\n",
      "(1, 3, 2)\n"
     ]
    }
   ],
   "source": [
    "a = np.array([1, 2, 3])\n",
    "b = np.array([4, 5, 6])\n",
    "v = np.vstack((a,b))\n",
    "print('vstack 아래로 합치기 :', v, v.shape, sep='\\n')\n",
    "v = np.hstack((a,b))\n",
    "print('hstack 옆으로 합치기 :', v, v.shape, sep='\\n')\n",
    "v = np.dstack((a,b))\n",
    "print('dstack 축을 depth로 합치기 :', v, v.shape, sep='\\n')"
   ]
  },
  {
   "cell_type": "code",
   "execution_count": 201,
   "id": "7d190ae3",
   "metadata": {},
   "outputs": [
    {
     "name": "stdout",
     "output_type": "stream",
     "text": [
      "vstack 아래로 합치기 :\n",
      "[[1 2 3]\n",
      " [4 5 6]]\n",
      "hstack 옆으로 합치기 :\n",
      "[1 2 3 4 5 6]\n",
      "dstack 축을 depth로 합치기 :\n",
      "[[[1 4]\n",
      "  [2 5]\n",
      "  [3 6]]]\n"
     ]
    }
   ],
   "source": [
    "a = np.array([1, 2, 3])\n",
    "b = np.array([4, 5, 6])\n",
    "v = np.vstack((a,b))\n",
    "print('vstack 아래로 합치기 :', v, sep='\\n')\n",
    "v = np.hstack((a,b))\n",
    "print('hstack 옆으로 합치기 :', v, sep='\\n')\n",
    "v = np.dstack((a,b))\n",
    "print('dstack 축을 depth로 합치기 :', v, sep='\\n')"
   ]
  },
  {
   "cell_type": "code",
   "execution_count": 208,
   "id": "bb19ffea",
   "metadata": {},
   "outputs": [
    {
     "name": "stdout",
     "output_type": "stream",
     "text": [
      "a :\n",
      "[[ 0  1  2  3]\n",
      " [ 4  5  6  7]\n",
      " [ 8  9 10 11]]\n",
      "b :\n",
      "[[12 13 14 15]\n",
      " [16 17 18 19]\n",
      " [20 21 22 23]]\n"
     ]
    }
   ],
   "source": [
    "#2차원 만들기\n",
    "c = np.arange(24).reshape(2, 3, 4)\n",
    "a,b = c[0], c[1]\n",
    "print('a :',a, sep='\\n')\n",
    "print('b :', b,sep='\\n')"
   ]
  },
  {
   "cell_type": "code",
   "execution_count": 209,
   "id": "227d9e99",
   "metadata": {},
   "outputs": [
    {
     "name": "stdout",
     "output_type": "stream",
     "text": [
      "vstack 아래로 합치기 :\n",
      "[[ 0  1  2  3]\n",
      " [ 4  5  6  7]\n",
      " [ 8  9 10 11]\n",
      " [12 13 14 15]\n",
      " [16 17 18 19]\n",
      " [20 21 22 23]]\n",
      "(6, 4)\n",
      "hstack 옆으로 합치기 :\n",
      "[[ 0  1  2  3 12 13 14 15]\n",
      " [ 4  5  6  7 16 17 18 19]\n",
      " [ 8  9 10 11 20 21 22 23]]\n",
      "(3, 8)\n",
      "dstack 축을 depth로 합치기 :\n",
      "[[[ 0 12]\n",
      "  [ 1 13]\n",
      "  [ 2 14]\n",
      "  [ 3 15]]\n",
      "\n",
      " [[ 4 16]\n",
      "  [ 5 17]\n",
      "  [ 6 18]\n",
      "  [ 7 19]]\n",
      "\n",
      " [[ 8 20]\n",
      "  [ 9 21]\n",
      "  [10 22]\n",
      "  [11 23]]]\n",
      "(3, 4, 2)\n"
     ]
    }
   ],
   "source": [
    "v = np.vstack((a,b))\n",
    "print('vstack 아래로 합치기 :', v, v.shape, sep='\\n')\n",
    "v = np.hstack((a,b))\n",
    "print('hstack 옆으로 합치기 :', v, v.shape, sep='\\n')\n",
    "v = np.dstack((a,b))\n",
    "print('dstack 축을 depth로 합치기 :', v, v.shape, sep='\\n')"
   ]
  },
  {
   "cell_type": "code",
   "execution_count": 210,
   "id": "47ee52a2",
   "metadata": {},
   "outputs": [
    {
     "data": {
      "text/plain": [
       "array([[ 0,  1,  2,  3],\n",
       "       [ 4,  5,  6,  7],\n",
       "       [ 8,  9, 10, 11],\n",
       "       [12, 13, 14, 15],\n",
       "       [16, 17, 18, 19],\n",
       "       [20, 21, 22, 23]])"
      ]
     },
     "execution_count": 210,
     "metadata": {},
     "output_type": "execute_result"
    }
   ],
   "source": [
    "np.concatenate((a,b), axis=0) #0축으로 행을 열로 합해라. #vstack((a,b))"
   ]
  },
  {
   "cell_type": "code",
   "execution_count": 211,
   "id": "f97a89b0",
   "metadata": {},
   "outputs": [
    {
     "data": {
      "text/plain": [
       "array([[ 0,  1,  2,  3, 12, 13, 14, 15],\n",
       "       [ 4,  5,  6,  7, 16, 17, 18, 19],\n",
       "       [ 8,  9, 10, 11, 20, 21, 22, 23]])"
      ]
     },
     "execution_count": 211,
     "metadata": {},
     "output_type": "execute_result"
    }
   ],
   "source": [
    "np.concatenate((a,b), axis=1 #0축으로 열을 행으로 합해라. #hstack((a,b))) "
   ]
  },
  {
   "cell_type": "markdown",
   "id": "0429f004",
   "metadata": {},
   "source": [
    "<font color =red> <strong>\n",
    "**- colunm_stack(tup) : 열단위로 합침**\\\n",
    "**- row_stack(tup) : 행단위로 합침 == vstack(tup)** \\\n",
    "**- stack(tup, axis) : axis속성에 따라 배열합침 axis음수차원 가능**</strong></font> \n"
   ]
  },
  {
   "cell_type": "code",
   "execution_count": 212,
   "id": "3adbb021",
   "metadata": {},
   "outputs": [
    {
     "data": {
      "text/plain": [
       "array([[1, 4, 7],\n",
       "       [2, 5, 8],\n",
       "       [3, 6, 9]])"
      ]
     },
     "execution_count": 212,
     "metadata": {},
     "output_type": "execute_result"
    }
   ],
   "source": [
    "a = np.array([1, 2, 3])\n",
    "b = np.array([4, 5, 6])\n",
    "c = np.array([7, 8, 9])\n",
    "np.column_stack((a, b, c))"
   ]
  },
  {
   "cell_type": "code",
   "execution_count": 213,
   "id": "fa3012b0",
   "metadata": {},
   "outputs": [
    {
     "data": {
      "text/plain": [
       "array([[1, 2, 3],\n",
       "       [4, 5, 6],\n",
       "       [7, 8, 9]])"
      ]
     },
     "execution_count": 213,
     "metadata": {},
     "output_type": "execute_result"
    }
   ],
   "source": [
    "np.row_stack((a, b, c))"
   ]
  },
  {
   "cell_type": "code",
   "execution_count": 214,
   "id": "3a984a04",
   "metadata": {},
   "outputs": [
    {
     "name": "stdout",
     "output_type": "stream",
     "text": [
      "a :\n",
      "[[ 0  1  2  3]\n",
      " [ 4  5  6  7]\n",
      " [ 8  9 10 11]]\n",
      "b :\n",
      "[[12 13 14 15]\n",
      " [16 17 18 19]\n",
      " [20 21 22 23]]\n"
     ]
    }
   ],
   "source": [
    "c = np.arange(24).reshape(2, 3, 4)\n",
    "a,b = c[0], c[1]\n",
    "print('a :',a, sep='\\n')\n",
    "print('b :', b,sep='\\n')"
   ]
  },
  {
   "cell_type": "code",
   "execution_count": 215,
   "id": "32e62da3",
   "metadata": {},
   "outputs": [
    {
     "data": {
      "text/plain": [
       "array([[[ 0,  1,  2,  3],\n",
       "        [ 4,  5,  6,  7],\n",
       "        [ 8,  9, 10, 11]],\n",
       "\n",
       "       [[12, 13, 14, 15],\n",
       "        [16, 17, 18, 19],\n",
       "        [20, 21, 22, 23]]])"
      ]
     },
     "execution_count": 215,
     "metadata": {},
     "output_type": "execute_result"
    }
   ],
   "source": [
    "np.stack((a,b), axis=0) #0면 a, 1면 b"
   ]
  },
  {
   "cell_type": "code",
   "execution_count": 216,
   "id": "5775336e",
   "metadata": {},
   "outputs": [
    {
     "data": {
      "text/plain": [
       "array([[[ 0,  1,  2,  3],\n",
       "        [12, 13, 14, 15]],\n",
       "\n",
       "       [[ 4,  5,  6,  7],\n",
       "        [16, 17, 18, 19]],\n",
       "\n",
       "       [[ 8,  9, 10, 11],\n",
       "        [20, 21, 22, 23]]])"
      ]
     },
     "execution_count": 216,
     "metadata": {},
     "output_type": "execute_result"
    }
   ],
   "source": [
    "np.stack((a,b), axis=1) #행(1축)끼리 합쳐서 면을 이룸"
   ]
  },
  {
   "cell_type": "code",
   "execution_count": 217,
   "id": "e9064833",
   "metadata": {},
   "outputs": [
    {
     "data": {
      "text/plain": [
       "array([[[ 0, 12],\n",
       "        [ 1, 13],\n",
       "        [ 2, 14],\n",
       "        [ 3, 15]],\n",
       "\n",
       "       [[ 4, 16],\n",
       "        [ 5, 17],\n",
       "        [ 6, 18],\n",
       "        [ 7, 19]],\n",
       "\n",
       "       [[ 8, 20],\n",
       "        [ 9, 21],\n",
       "        [10, 22],\n",
       "        [11, 23]]])"
      ]
     },
     "execution_count": 217,
     "metadata": {},
     "output_type": "execute_result"
    }
   ],
   "source": [
    "np.stack((a,b), axis=2)"
   ]
  },
  {
   "cell_type": "markdown",
   "id": "ee511854",
   "metadata": {},
   "source": [
    "## 3.3 r_[]와 c_[]로 배열 합치기"
   ]
  },
  {
   "cell_type": "code",
   "execution_count": 218,
   "id": "9cae86a6",
   "metadata": {},
   "outputs": [
    {
     "data": {
      "text/plain": [
       "array([1, 2, 3, 4, 5, 5, 5, 5, 6, 6, 6, 6])"
      ]
     },
     "execution_count": 218,
     "metadata": {},
     "output_type": "execute_result"
    }
   ],
   "source": [
    "a = np.array([1, 2, 3, 4])\n",
    "b = np.array([5, 5, 5, 5])\n",
    "c = np.array([6, 6, 6, 6])\n",
    "np.r_[a,b,c]  #한 행으로 합쳐짐"
   ]
  },
  {
   "cell_type": "code",
   "execution_count": 219,
   "id": "0a184475",
   "metadata": {},
   "outputs": [
    {
     "data": {
      "text/plain": [
       "array([6, 6, 6, 6, 1, 2, 3, 4, 5, 5, 5, 5])"
      ]
     },
     "execution_count": 219,
     "metadata": {},
     "output_type": "execute_result"
    }
   ],
   "source": [
    "np.r_[c,a,b]"
   ]
  },
  {
   "cell_type": "code",
   "execution_count": 220,
   "id": "35583a17",
   "metadata": {},
   "outputs": [
    {
     "data": {
      "text/plain": [
       "array([[1, 2, 3, 4],\n",
       "       [5, 5, 5, 5],\n",
       "       [6, 6, 6, 6]])"
      ]
     },
     "execution_count": 220,
     "metadata": {},
     "output_type": "execute_result"
    }
   ],
   "source": [
    "np.r_[[a],[b],[c]]"
   ]
  },
  {
   "cell_type": "code",
   "execution_count": 221,
   "id": "4a0156ea",
   "metadata": {},
   "outputs": [
    {
     "data": {
      "text/plain": [
       "array([[1, 5, 6],\n",
       "       [2, 5, 6],\n",
       "       [3, 5, 6],\n",
       "       [4, 5, 6]])"
      ]
     },
     "execution_count": 221,
     "metadata": {},
     "output_type": "execute_result"
    }
   ],
   "source": [
    "np.c_[a,b,c] #컬럼 단위로 쌓기"
   ]
  },
  {
   "cell_type": "markdown",
   "id": "7ca6f68e",
   "metadata": {},
   "source": [
    "## 3.4 배열 분리하기\n",
    "<font color='red'>**- vsplit(ary, 정수(몇개)나 벡터(몇번 인덱스)) : 첫번째 축을 따라 분할** \\\n",
    "**- hsplit(ary, 정수(몇개)나 벡터(몇번 인덱스)) : 두번째 축을 따라 분할**\\\n",
    "**- dsplit(ary, 정수나 벡터) : depth따라 나눔(3차원 이상에서만 동작)** \n",
    "\n",
    "    - 정수 n : n개 분리\n",
    "    -[n]: n번째 인덱스를 기점으로 분리\n",
    "    -[m,n] : m번째, n번째 인덱스를 기점으로 분리"
   ]
  },
  {
   "cell_type": "code",
   "execution_count": 222,
   "id": "b6013089",
   "metadata": {},
   "outputs": [
    {
     "data": {
      "text/plain": [
       "array([[ 0,  1,  2,  3],\n",
       "       [ 4,  5,  6,  7],\n",
       "       [ 8,  9, 10, 11]])"
      ]
     },
     "execution_count": 222,
     "metadata": {},
     "output_type": "execute_result"
    }
   ],
   "source": [
    "a = np.arange(12).reshape(3,4)\n",
    "a"
   ]
  },
  {
   "cell_type": "code",
   "execution_count": 227,
   "id": "5a08fa35",
   "metadata": {},
   "outputs": [
    {
     "data": {
      "text/plain": [
       "[array([[0, 1, 2, 3]]), array([[4, 5, 6, 7]]), array([[ 8,  9, 10, 11]])]"
      ]
     },
     "execution_count": 227,
     "metadata": {},
     "output_type": "execute_result"
    }
   ],
   "source": [
    "a_vsplit = np.vsplit(a,3) #2개,4개로 분리는 에러 발생\n",
    "a_vsplit"
   ]
  },
  {
   "cell_type": "code",
   "execution_count": 231,
   "id": "09c1673f",
   "metadata": {},
   "outputs": [
    {
     "data": {
      "text/plain": [
       "[array([[0, 1, 2, 3],\n",
       "        [4, 5, 6, 7]]),\n",
       " array([[ 8,  9, 10, 11]])]"
      ]
     },
     "execution_count": 231,
     "metadata": {},
     "output_type": "execute_result"
    }
   ],
   "source": [
    "np.vsplit(a,[2]) #2번 인덱스를 기점으로 분리, 차원이 축소되진 않음."
   ]
  },
  {
   "cell_type": "code",
   "execution_count": 230,
   "id": "e31ea935",
   "metadata": {},
   "outputs": [
    {
     "data": {
      "text/plain": [
       "[array([[0, 1, 2, 3]]),\n",
       " array([[ 4,  5,  6,  7],\n",
       "        [ 8,  9, 10, 11]])]"
      ]
     },
     "execution_count": 230,
     "metadata": {},
     "output_type": "execute_result"
    }
   ],
   "source": [
    "np.vsplit(a,[1])"
   ]
  },
  {
   "cell_type": "code",
   "execution_count": 241,
   "id": "87d965ad",
   "metadata": {},
   "outputs": [
    {
     "data": {
      "text/plain": [
       "[array([[0],\n",
       "        [4],\n",
       "        [8]]),\n",
       " array([[1],\n",
       "        [5],\n",
       "        [9]]),\n",
       " array([[ 2],\n",
       "        [ 6],\n",
       "        [10]]),\n",
       " array([[ 3],\n",
       "        [ 7],\n",
       "        [11]])]"
      ]
     },
     "execution_count": 241,
     "metadata": {},
     "output_type": "execute_result"
    }
   ],
   "source": [
    "np.hsplit(a,4)"
   ]
  },
  {
   "cell_type": "code",
   "execution_count": 242,
   "id": "ed12dfe0",
   "metadata": {
    "scrolled": true
   },
   "outputs": [
    {
     "data": {
      "text/plain": [
       "[array([[0, 1],\n",
       "        [4, 5],\n",
       "        [8, 9]]),\n",
       " array([[ 2],\n",
       "        [ 6],\n",
       "        [10]]),\n",
       " array([[ 3],\n",
       "        [ 7],\n",
       "        [11]])]"
      ]
     },
     "execution_count": 242,
     "metadata": {},
     "output_type": "execute_result"
    }
   ],
   "source": [
    "np.hsplit(a,[2,3]) #[2,3] : 분리될 기준 인덱스"
   ]
  },
  {
   "cell_type": "markdown",
   "id": "c0d0a0ee",
   "metadata": {},
   "source": [
    "<font color='red'> **- split(ary, 갯수나 인덱스벡터, axis)** \\\n",
    "    - axis=0 : vsplit() 동일 \\\n",
    "    - axis=1 : hsplit() 동일 \\\n",
    "    - axis=2 : 3차원 이상에서만 동작 dsplit()동일 \\\n",
    "**- array_split(ary, 갯수나 인덱스벡터, axis)** \\\n",
    "    - split과 차이점은 나눠지지 않은 정수로도 사용 가능</font>"
   ]
  },
  {
   "cell_type": "code",
   "execution_count": 243,
   "id": "8946893a",
   "metadata": {},
   "outputs": [
    {
     "data": {
      "text/plain": [
       "array([[ 0,  1,  2,  3,  4,  5,  6,  7,  8,  9],\n",
       "       [10, 11, 12, 13, 14, 15, 16, 17, 18, 19]])"
      ]
     },
     "execution_count": 243,
     "metadata": {},
     "output_type": "execute_result"
    }
   ],
   "source": [
    "a = np.arange(20).reshape(2,10)\n",
    "a"
   ]
  },
  {
   "cell_type": "code",
   "execution_count": 244,
   "id": "9ff06f82",
   "metadata": {},
   "outputs": [
    {
     "data": {
      "text/plain": [
       "[array([[0, 1, 2, 3, 4, 5, 6, 7, 8, 9]]),\n",
       " array([[10, 11, 12, 13, 14, 15, 16, 17, 18, 19]])]"
      ]
     },
     "execution_count": 244,
     "metadata": {},
     "output_type": "execute_result"
    }
   ],
   "source": [
    "np.split(a, 2, axis=0)"
   ]
  },
  {
   "cell_type": "code",
   "execution_count": 245,
   "id": "05669ff6",
   "metadata": {},
   "outputs": [
    {
     "data": {
      "text/plain": [
       "[array([[ 0,  1,  2,  3,  4],\n",
       "        [10, 11, 12, 13, 14]]),\n",
       " array([[ 5,  6,  7,  8,  9],\n",
       "        [15, 16, 17, 18, 19]])]"
      ]
     },
     "execution_count": 245,
     "metadata": {},
     "output_type": "execute_result"
    }
   ],
   "source": [
    "np.split(a, 2, axis=1)"
   ]
  },
  {
   "cell_type": "code",
   "execution_count": 247,
   "id": "c6d16b7f",
   "metadata": {},
   "outputs": [
    {
     "data": {
      "text/plain": [
       "[array([[ 0,  1],\n",
       "        [10, 11]]),\n",
       " array([[ 2,  3,  4,  5,  6,  7,  8,  9],\n",
       "        [12, 13, 14, 15, 16, 17, 18, 19]])]"
      ]
     },
     "execution_count": 247,
     "metadata": {},
     "output_type": "execute_result"
    }
   ],
   "source": [
    "np.split(a, [2], axis=1)"
   ]
  },
  {
   "cell_type": "code",
   "execution_count": 250,
   "id": "17771a20",
   "metadata": {},
   "outputs": [
    {
     "data": {
      "text/plain": [
       "[array([[ 0,  1,  2,  3],\n",
       "        [10, 11, 12, 13]]),\n",
       " array([[ 4,  5,  6],\n",
       "        [14, 15, 16]]),\n",
       " array([[ 7,  8,  9],\n",
       "        [17, 18, 19]])]"
      ]
     },
     "execution_count": 250,
     "metadata": {},
     "output_type": "execute_result"
    }
   ],
   "source": [
    "# np.split(a, 3, axis=1) #에러 발생\n",
    "np.array_split(a, 3, axis=1)"
   ]
  },
  {
   "cell_type": "code",
   "execution_count": null,
   "id": "2eff5765",
   "metadata": {},
   "outputs": [],
   "source": []
  },
  {
   "cell_type": "code",
   "execution_count": null,
   "id": "6129515a",
   "metadata": {},
   "outputs": [],
   "source": []
  },
  {
   "cell_type": "code",
   "execution_count": null,
   "id": "2a71317c",
   "metadata": {},
   "outputs": [],
   "source": []
  }
 ],
 "metadata": {
  "kernelspec": {
   "display_name": "Python 3 (ipykernel)",
   "language": "python",
   "name": "python3"
  },
  "language_info": {
   "codemirror_mode": {
    "name": "ipython",
    "version": 3
   },
   "file_extension": ".py",
   "mimetype": "text/x-python",
   "name": "python",
   "nbconvert_exporter": "python",
   "pygments_lexer": "ipython3",
   "version": "3.10.9"
  },
  "toc": {
   "base_numbering": 1,
   "nav_menu": {},
   "number_sections": false,
   "sideBar": true,
   "skip_h1_title": false,
   "title_cell": "Table of Contents",
   "title_sidebar": "Contents",
   "toc_cell": false,
   "toc_position": {
    "height": "calc(100% - 180px)",
    "left": "10px",
    "top": "150px",
    "width": "298.4px"
   },
   "toc_section_display": true,
   "toc_window_display": true
  }
 },
 "nbformat": 4,
 "nbformat_minor": 5
}
