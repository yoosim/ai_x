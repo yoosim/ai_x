{
 "cells": [
  {
   "cell_type": "code",
   "execution_count": 19,
   "id": "bdcf8ae6",
   "metadata": {},
   "outputs": [
    {
     "data": {
      "text/html": [
       "\n",
       "<style>\n",
       "div.container{width:86% !important;}\n",
       "div.cell.code_cell.rendered{width:100%;}\n",
       "div.CodeMirror {font-family:Consolas; font-size:15pt;}\n",
       "div.output {font-size:15pt; font-weight:bold;}\n",
       "div.input {font-family:Consolas; font-size:15pt;}\n",
       "div.prompt {min-width:70px;}\n",
       "div#toc-wrapper{padding-top:120px;}\n",
       "div.text_cell_render ul li{font-size:12pt;padding:5px;}\n",
       "table.dataframe{font-size:15px;}\n",
       "</style>\n",
       " "
      ],
      "text/plain": [
       "<IPython.core.display.HTML object>"
      ]
     },
     "metadata": {},
     "output_type": "display_data"
    }
   ],
   "source": [
    "from IPython.display import display, HTML \n",
    "display(HTML(\"\"\"\n",
    "<style>\n",
    "div.container{width:86% !important;}\n",
    "div.cell.code_cell.rendered{width:100%;}\n",
    "div.CodeMirror {font-family:Consolas; font-size:15pt;}\n",
    "div.output {font-size:15pt; font-weight:bold;}\n",
    "div.input {font-family:Consolas; font-size:15pt;}\n",
    "div.prompt {min-width:70px;}\n",
    "div#toc-wrapper{padding-top:120px;}\n",
    "div.text_cell_render ul li{font-size:12pt;padding:5px;}\n",
    "table.dataframe{font-size:15px;}\n",
    "</style>\n",
    " \"\"\"))"
   ]
  },
  {
   "cell_type": "markdown",
   "id": "b7737dab",
   "metadata": {},
   "source": [
    "<span style=\"color:orange; font-size: 35px; font-weight: bold;\"> ch15.데이터베이스 연동 </span></br>\n",
    "\n",
    "# 1절. SQLite 데이터베이스 연동\n",
    "- SQLite 데이터베이스는 별도의 DBMS없이 SQL을 이용하여 DB 엑세스 가능한 디스크 기반 DB (보안에 취약)\n",
    "- SQLite는 프로토타입(시제품) 용도\n",
    "- 프로젝트 진행 단계 : 분석 - 설계 - 구현 - 테스트 - 고객에게 배포 - 유지보수\n",
    "-                   SQLite  |  Oracle/MySQL,MariaDB,mongoDB, ... \n",
    "- C 라이브러리 \n",
    "- db browser for sqlite[https://sqlitebrowser.org/]\n",
    "## 1.1 SQLite 패키지 load\n"
   ]
  },
  {
   "cell_type": "code",
   "execution_count": 5,
   "id": "0f768514",
   "metadata": {},
   "outputs": [
    {
     "data": {
      "text/plain": [
       "'3.40.1'"
      ]
     },
     "execution_count": 5,
     "metadata": {},
     "output_type": "execute_result"
    }
   ],
   "source": [
    "import sqlite3\n",
    "sqlite3. sqlite_version"
   ]
  },
  {
   "cell_type": "code",
   "execution_count": 7,
   "id": "7433dae6",
   "metadata": {},
   "outputs": [
    {
     "data": {
      "text/plain": [
       "'1.5.3'"
      ]
     },
     "execution_count": 7,
     "metadata": {},
     "output_type": "execute_result"
    }
   ],
   "source": [
    "import pandas as pd\n",
    "pd.__version__"
   ]
  },
  {
   "cell_type": "markdown",
   "id": "2d3d9360",
   "metadata": {},
   "source": [
    "## 1.2 데이터베이스 연결 "
   ]
  },
  {
   "cell_type": "code",
   "execution_count": 8,
   "id": "a77f0d88",
   "metadata": {},
   "outputs": [
    {
     "data": {
      "text/plain": [
       "<sqlite3.Connection at 0x281c87e3440>"
      ]
     },
     "execution_count": 8,
     "metadata": {},
     "output_type": "execute_result"
    }
   ],
   "source": [
    "# DB 연결 \n",
    "conn = sqlite3.connect('data/ch15_exmple.db') #db파일을 읽으려면 db확장자로 \n",
    "conn #non이면 연결이 안 된거이고 connection at 어쩌고 저쩌고면 연결됨"
   ]
  },
  {
   "cell_type": "code",
   "execution_count": 9,
   "id": "361c99a4",
   "metadata": {},
   "outputs": [
    {
     "data": {
      "text/plain": [
       "<sqlite3.Cursor at 0x281c89cc140>"
      ]
     },
     "execution_count": 9,
     "metadata": {},
     "output_type": "execute_result"
    }
   ],
   "source": [
    "# 커서객체(SQL문 실행 -> 결과 조회) 생성\n",
    "cursor = conn.cursor()\n",
    "cursor"
   ]
  },
  {
   "cell_type": "code",
   "execution_count": 10,
   "id": "5c13392f",
   "metadata": {},
   "outputs": [
    {
     "data": {
      "text/plain": [
       "<sqlite3.Cursor at 0x281c89cc140>"
      ]
     },
     "execution_count": 10,
     "metadata": {},
     "output_type": "execute_result"
    }
   ],
   "source": [
    "cursor.execute('''\n",
    "    CREATE TABLE MEMBER(\n",
    "        NAME TEXT,\n",
    "        AGE   INT,\n",
    "        EMALE TEXT)\n",
    "''')"
   ]
  },
  {
   "cell_type": "markdown",
   "id": "f22f006b",
   "metadata": {},
   "source": [
    "###  insert,update,delete 전송"
   ]
  },
  {
   "cell_type": "code",
   "execution_count": 22,
   "id": "c3bd4e27",
   "metadata": {},
   "outputs": [
    {
     "name": "stdout",
     "output_type": "stream",
     "text": [
      "수행 결과 행수 : 1\n"
     ]
    }
   ],
   "source": [
    "# sql문 전송 \n",
    "cursor.execute('''\n",
    "    INSERT INTO MEMBER VALUES('홍길동', 20, 'h@h.com')\n",
    "''')\n",
    "print('수행 결과 행수 :', cursor.rowcount)"
   ]
  },
  {
   "cell_type": "code",
   "execution_count": 23,
   "id": "293cd553",
   "metadata": {},
   "outputs": [
    {
     "name": "stdout",
     "output_type": "stream",
     "text": [
      "INSERT INTO MEMBER VALUES('임길동', 20, 'h@h.com')\n"
     ]
    }
   ],
   "source": [
    "sql = \"INSERT INTO MEMBER VALUES('임길동', 20, 'h@h.com')\"\n",
    "print(sql)"
   ]
  },
  {
   "cell_type": "code",
   "execution_count": 21,
   "id": "a5b3c0ff",
   "metadata": {},
   "outputs": [
    {
     "name": "stdout",
     "output_type": "stream",
     "text": [
      "INSERT INTO MEMBER VALUES('박길동', 30, 'k@h.com')\n",
      "수행 결과 행수 : 1\n"
     ]
    }
   ],
   "source": [
    "sql = \"INSERT INTO MEMBER VALUES('박길동', 30, 'k@h.com')\"\n",
    "print(sql)\n",
    "cursor.execute(sql)\n",
    "print('수행 결과 행수 :', cursor.rowcount)"
   ]
  },
  {
   "cell_type": "code",
   "execution_count": 24,
   "id": "edd8cc20",
   "metadata": {},
   "outputs": [],
   "source": [
    "conn.commit() # 반대는 conn.rollback() DML 에서만 가능"
   ]
  },
  {
   "cell_type": "markdown",
   "id": "56bbf227",
   "metadata": {},
   "source": [
    "### select 전송"
   ]
  },
  {
   "cell_type": "code",
   "execution_count": 25,
   "id": "4efe65f2",
   "metadata": {},
   "outputs": [
    {
     "data": {
      "text/plain": [
       "<sqlite3.Cursor at 0x281c89cc140>"
      ]
     },
     "execution_count": 25,
     "metadata": {},
     "output_type": "execute_result"
    }
   ],
   "source": [
    "# SELECT문 전송\n",
    "cursor.execute('''\n",
    "    SELECT NAME, AGE+1 NEXTAGE, EMALE FROM MEMBER\n",
    "''')\n"
   ]
  },
  {
   "cell_type": "code",
   "execution_count": 26,
   "id": "8566a6e8",
   "metadata": {},
   "outputs": [
    {
     "name": "stdout",
     "output_type": "stream",
     "text": [
      "[('홍길동', 21, 'h@h.com'), ('홍길동', 21, 'h@h.com'), ('김길동', 31, 'k@h.com'), ('박길동', 31, 'k@h.com'), ('홍길동', 21, 'h@h.com')]\n"
     ]
    }
   ],
   "source": [
    "# SELECT 전송\n",
    "#      seledt 문 실행결과를 받는 함수 \n",
    "#      cursor.fetchone()   : 결과를 한행씩 받을 때 (튜플 홍길동, 21,h@h)\n",
    "#      cursor.fetchall()   : 결과를 모두 받을 때 (튜플 list)\n",
    "#      cursor.fetchmany(n) : 결과를 n행 받을 때 (튜플 list)\n",
    "#      cursor.description  : header 내용을 포함한 내용들 (list)\n",
    "\n",
    "# INSERT, UPDATE, DELETE 전송 : cursor.rowcont\n",
    "print(cursor.fetchall())"
   ]
  },
  {
   "cell_type": "code",
   "execution_count": 27,
   "id": "03e01dcb",
   "metadata": {},
   "outputs": [
    {
     "name": "stdout",
     "output_type": "stream",
     "text": [
      "[]\n"
     ]
    }
   ],
   "source": [
    "print(cursor.fetchall())"
   ]
  },
  {
   "cell_type": "code",
   "execution_count": 30,
   "id": "53a8fc45",
   "metadata": {},
   "outputs": [
    {
     "data": {
      "text/plain": [
       "[('홍길동', 21, 'h@h.com'), ('홍길동', 21, 'h@h.com'), ('홍길동', 21, 'h@h.com')]"
      ]
     },
     "execution_count": 30,
     "metadata": {},
     "output_type": "execute_result"
    }
   ],
   "source": [
    "cursor.execute('''\n",
    "    SELECT NAME, AGE+1 NEXTAGE, EMALE FROM MEMBER ORDER BY AGE\n",
    "''')\n",
    "members = cursor.fetchmany(3)\n",
    "members"
   ]
  },
  {
   "cell_type": "code",
   "execution_count": 31,
   "id": "a59cd29d",
   "metadata": {},
   "outputs": [
    {
     "data": {
      "text/plain": [
       "[('홍길동', 21, 'h@h.com')]"
      ]
     },
     "execution_count": 31,
     "metadata": {},
     "output_type": "execute_result"
    }
   ],
   "source": [
    "cursor.execute('''\n",
    "    SELECT NAME, AGE+1 NEXTAGE, EMALE FROM MEMBER ORDER BY AGE\n",
    "''')\n",
    "members = cursor.fetchmany()\n",
    "members"
   ]
  },
  {
   "cell_type": "code",
   "execution_count": 32,
   "id": "2fb6808e",
   "metadata": {},
   "outputs": [
    {
     "data": {
      "text/plain": [
       "[('홍길동', 21, 'h@h.com'),\n",
       " ('홍길동', 21, 'h@h.com'),\n",
       " ('김길동', 31, 'k@h.com'),\n",
       " ('박길동', 31, 'k@h.com')]"
      ]
     },
     "execution_count": 32,
     "metadata": {},
     "output_type": "execute_result"
    }
   ],
   "source": [
    "cursor.fetchall()"
   ]
  },
  {
   "cell_type": "code",
   "execution_count": 45,
   "id": "7e73a190",
   "metadata": {},
   "outputs": [
    {
     "name": "stdout",
     "output_type": "stream",
     "text": [
      "('홍길동', 21, 'h@h.com')\n",
      "('홍길동', 21, 'h@h.com')\n",
      "('홍길동', 21, 'h@h.com')\n",
      "('김길동', 31, 'k@h.com')\n",
      "('박길동', 31, 'k@h.com')\n"
     ]
    },
    {
     "data": {
      "text/html": [
       "<div>\n",
       "<style scoped>\n",
       "    .dataframe tbody tr th:only-of-type {\n",
       "        vertical-align: middle;\n",
       "    }\n",
       "\n",
       "    .dataframe tbody tr th {\n",
       "        vertical-align: top;\n",
       "    }\n",
       "\n",
       "    .dataframe thead th {\n",
       "        text-align: right;\n",
       "    }\n",
       "</style>\n",
       "<table border=\"1\" class=\"dataframe\">\n",
       "  <thead>\n",
       "    <tr style=\"text-align: right;\">\n",
       "      <th></th>\n",
       "      <th>name</th>\n",
       "      <th>age</th>\n",
       "      <th>email</th>\n",
       "    </tr>\n",
       "  </thead>\n",
       "  <tbody>\n",
       "    <tr>\n",
       "      <th>0</th>\n",
       "      <td>홍길동</td>\n",
       "      <td>21</td>\n",
       "      <td>h@h.com</td>\n",
       "    </tr>\n",
       "    <tr>\n",
       "      <th>1</th>\n",
       "      <td>홍길동</td>\n",
       "      <td>21</td>\n",
       "      <td>h@h.com</td>\n",
       "    </tr>\n",
       "    <tr>\n",
       "      <th>2</th>\n",
       "      <td>홍길동</td>\n",
       "      <td>21</td>\n",
       "      <td>h@h.com</td>\n",
       "    </tr>\n",
       "    <tr>\n",
       "      <th>3</th>\n",
       "      <td>김길동</td>\n",
       "      <td>31</td>\n",
       "      <td>k@h.com</td>\n",
       "    </tr>\n",
       "    <tr>\n",
       "      <th>4</th>\n",
       "      <td>박길동</td>\n",
       "      <td>31</td>\n",
       "      <td>k@h.com</td>\n",
       "    </tr>\n",
       "  </tbody>\n",
       "</table>\n",
       "</div>"
      ],
      "text/plain": [
       "  name  age    email\n",
       "0  홍길동   21  h@h.com\n",
       "1  홍길동   21  h@h.com\n",
       "2  홍길동   21  h@h.com\n",
       "3  김길동   31  k@h.com\n",
       "4  박길동   31  k@h.com"
      ]
     },
     "execution_count": 45,
     "metadata": {},
     "output_type": "execute_result"
    }
   ],
   "source": [
    "# 데이터 한줄씩 가져오기\n",
    "\n",
    "cursor.execute('''\n",
    "    SELECT NAME, AGE+1 NEXTAGE, EMALE FROM MEMBER ORDER BY AGE\n",
    "''')\n",
    "members =[]\n",
    "while True:\n",
    "    member = cursor.fetchone()\n",
    "    if member is None:\n",
    "        break\n",
    "    print(member)\n",
    "    members.append({'name':member[0], 'age':member[1], 'email':member[2]})\n",
    "import pandas as pd\n",
    "pd.DataFrame(members)"
   ]
  },
  {
   "cell_type": "code",
   "execution_count": 44,
   "id": "1808e7cd",
   "metadata": {},
   "outputs": [
    {
     "data": {
      "text/html": [
       "<div>\n",
       "<style scoped>\n",
       "    .dataframe tbody tr th:only-of-type {\n",
       "        vertical-align: middle;\n",
       "    }\n",
       "\n",
       "    .dataframe tbody tr th {\n",
       "        vertical-align: top;\n",
       "    }\n",
       "\n",
       "    .dataframe thead th {\n",
       "        text-align: right;\n",
       "    }\n",
       "</style>\n",
       "<table border=\"1\" class=\"dataframe\">\n",
       "  <thead>\n",
       "    <tr style=\"text-align: right;\">\n",
       "      <th></th>\n",
       "      <th>NAME</th>\n",
       "      <th>NEXTAGE</th>\n",
       "      <th>EMALE</th>\n",
       "    </tr>\n",
       "  </thead>\n",
       "  <tbody>\n",
       "    <tr>\n",
       "      <th>0</th>\n",
       "      <td>홍길동</td>\n",
       "      <td>21</td>\n",
       "      <td>h@h.com</td>\n",
       "    </tr>\n",
       "    <tr>\n",
       "      <th>1</th>\n",
       "      <td>홍길동</td>\n",
       "      <td>21</td>\n",
       "      <td>h@h.com</td>\n",
       "    </tr>\n",
       "    <tr>\n",
       "      <th>2</th>\n",
       "      <td>홍길동</td>\n",
       "      <td>21</td>\n",
       "      <td>h@h.com</td>\n",
       "    </tr>\n",
       "    <tr>\n",
       "      <th>3</th>\n",
       "      <td>김길동</td>\n",
       "      <td>31</td>\n",
       "      <td>k@h.com</td>\n",
       "    </tr>\n",
       "    <tr>\n",
       "      <th>4</th>\n",
       "      <td>박길동</td>\n",
       "      <td>31</td>\n",
       "      <td>k@h.com</td>\n",
       "    </tr>\n",
       "  </tbody>\n",
       "</table>\n",
       "</div>"
      ],
      "text/plain": [
       "  NAME  NEXTAGE    EMALE\n",
       "0  홍길동       21  h@h.com\n",
       "1  홍길동       21  h@h.com\n",
       "2  홍길동       21  h@h.com\n",
       "3  김길동       31  k@h.com\n",
       "4  박길동       31  k@h.com"
      ]
     },
     "execution_count": 44,
     "metadata": {},
     "output_type": "execute_result"
    }
   ],
   "source": [
    "\n",
    "cursor.execute('''\n",
    "    SELECT NAME, AGE+1 NEXTAGE, EMALE FROM MEMBER ORDER BY AGE\n",
    "''')\n",
    "\n",
    "members = cursor.fetchall()\n",
    "members\n",
    "df = pd.DataFrame(members, columns=[description[0] for description in cursor.description ])\n",
    "df"
   ]
  },
  {
   "cell_type": "code",
   "execution_count": 42,
   "id": "1543130d",
   "metadata": {},
   "outputs": [
    {
     "data": {
      "text/plain": [
       "(('NAME', None, None, None, None, None, None),\n",
       " ('NEXTAGE', None, None, None, None, None, None),\n",
       " ('EMALE', None, None, None, None, None, None))"
      ]
     },
     "execution_count": 42,
     "metadata": {},
     "output_type": "execute_result"
    }
   ],
   "source": [
    "# select문을 수행한 필드 정보 (해더 정보)\n",
    "cursor.description"
   ]
  },
  {
   "cell_type": "code",
   "execution_count": 43,
   "id": "ac1e8506",
   "metadata": {},
   "outputs": [
    {
     "data": {
      "text/plain": [
       "['NAME', 'NEXTAGE', 'EMALE']"
      ]
     },
     "execution_count": 43,
     "metadata": {},
     "output_type": "execute_result"
    }
   ],
   "source": [
    "[description[0] for description in cursor.description ]"
   ]
  },
  {
   "cell_type": "markdown",
   "id": "eed34951",
   "metadata": {},
   "source": [
    "## 1.3 SQL 구문에 파라미터 사용하기\n",
    "- qmark(DB에 따라 불가한 경우가 있음) : 오라클 불가 \n",
    "- named(추천) \n"
   ]
  },
  {
   "cell_type": "code",
   "execution_count": 47,
   "id": "780a3475",
   "metadata": {},
   "outputs": [
    {
     "data": {
      "text/plain": [
       "[('김길동', 30, 'k@h.com'), ('박길동', 30, 'k@h.com')]"
      ]
     },
     "execution_count": 47,
     "metadata": {},
     "output_type": "execute_result"
    }
   ],
   "source": [
    "conn = sqlite3.connect('data/ch15_exmple.db' )\n",
    "cursor = conn.cursor()\n",
    "cursor.execute(\"SELECT * FROM MEMBER WHERE NAME IN ('박길동','김길동')\")\n",
    "cursor.fetchall()"
   ]
  },
  {
   "cell_type": "code",
   "execution_count": 49,
   "id": "a3e61b5e",
   "metadata": {},
   "outputs": [
    {
     "name": "stdout",
     "output_type": "stream",
     "text": [
      "검색할 이름은?성춘향\n",
      "검색할 다른 이름은?김길동\n"
     ]
    },
    {
     "data": {
      "text/plain": [
       "[('김길동', 30, 'k@h.com')]"
      ]
     },
     "execution_count": 49,
     "metadata": {},
     "output_type": "execute_result"
    }
   ],
   "source": [
    "# 파라미터 사용하기 : qmark 방법 이용\n",
    "sql = \"SELECT * FROM MEMBER WHERE NAME IN (?,?)\"\n",
    "name1 = input('검색할 이름은?')\n",
    "name2 = input('검색할 다른 이름은?')\n",
    "cursor.execute(sql,(name1, name2))\n",
    "cursor.fetchall()"
   ]
  },
  {
   "cell_type": "code",
   "execution_count": 50,
   "id": "a5e9db17",
   "metadata": {},
   "outputs": [
    {
     "name": "stdout",
     "output_type": "stream",
     "text": [
      "검색할 이름은?성춘향\n",
      "검색할 다른 이름은?김길동\n"
     ]
    },
    {
     "data": {
      "text/plain": [
       "[('김길동', 30, 'k@h.com')]"
      ]
     },
     "execution_count": 50,
     "metadata": {},
     "output_type": "execute_result"
    }
   ],
   "source": [
    "# 파라미터 사용하기 : named 방법 이용\n",
    "sql = \"SELECT * FROM MEMBER WHERE NAME IN (:name1,:name2)\"\n",
    "name1 = input('검색할 이름은?')\n",
    "name2 = input('검색할 다른 이름은?')\n",
    "cursor.execute(sql,{'name1':name1, 'name2':name2}) \n",
    "cursor.fetchall()"
   ]
  },
  {
   "cell_type": "code",
   "execution_count": 51,
   "id": "e1b6e598",
   "metadata": {},
   "outputs": [
    {
     "name": "stdout",
     "output_type": "stream",
     "text": [
      "입력할 이름은?함길동\n",
      "입력할 나이는?ㅁ\n",
      "유효하지 않은 나이를 입력하시면 18세로 초기화 됩니다.\n",
      "입력할 이메일은?a@a.com\n",
      "입력 성공\n"
     ]
    }
   ],
   "source": [
    "# named 방법으로 데이터 입력하기 \n",
    "try:\n",
    "    name = input ('입력할 이름은?')\n",
    "    age = int(input('입력할 나이는?'))\n",
    "except ValueError:\n",
    "    print('유효하지 않은 나이를 입력하시면 18세로 초기화 됩니다.')\n",
    "    age = 18\n",
    "finally:\n",
    "    email = input('입력할 이메일은?')\n",
    "cursor.execute('INSERT INTO MEMBER VALUES (:name, :age, :email)',\n",
    "               {'name':name,'age':age,'email':email})\n",
    "conn.commit()\n",
    "if cursor.rowcount == 1:\n",
    "    print('입력 성공')\n",
    "else:\n",
    "    print('입력 실패')"
   ]
  },
  {
   "cell_type": "code",
   "execution_count": 53,
   "id": "fb7ca062",
   "metadata": {},
   "outputs": [],
   "source": [
    "cursor.close()\n",
    "conn.close()"
   ]
  },
  {
   "cell_type": "markdown",
   "id": "62967491",
   "metadata": {},
   "source": [
    "# 2절. 오라클 데이터베이스 연결\n",
    "- pip install cx_oracle"
   ]
  },
  {
   "cell_type": "code",
   "execution_count": 54,
   "id": "b70f1af2",
   "metadata": {},
   "outputs": [
    {
     "data": {
      "text/plain": [
       "<cx_Oracle.Connection to scott@localhost:1521/xe>"
      ]
     },
     "execution_count": 54,
     "metadata": {},
     "output_type": "execute_result"
    }
   ],
   "source": [
    "import cx_Oracle \n",
    "# conn 얻어오는 방법 1\n",
    "conn = cx_Oracle.connect('scott','tiger','localhost:1521/xe')\n",
    "conn\n",
    "# conn = sqlite3.connect('파일')"
   ]
  },
  {
   "cell_type": "code",
   "execution_count": 55,
   "id": "cfc52499",
   "metadata": {},
   "outputs": [
    {
     "data": {
      "text/plain": [
       "<cx_Oracle.Connection to scott@(DESCRIPTION=(ADDRESS=(PROTOCOL=TCP)(HOST=localhost)(PORT=1521))(CONNECT_DATA=(SID=xe)))>"
      ]
     },
     "execution_count": 55,
     "metadata": {},
     "output_type": "execute_result"
    }
   ],
   "source": [
    "# conn 얻어오는 방법 2\n",
    "oracle_dsn = cx_Oracle.makedsn(host='localhost',port=1521,sid='xe')\n",
    "conn = cx_Oracle.connect('scott','tiger',dsn=oracle_dsn)\n",
    "conn\n"
   ]
  },
  {
   "cell_type": "code",
   "execution_count": 57,
   "id": "e210d053",
   "metadata": {},
   "outputs": [
    {
     "name": "stdout",
     "output_type": "stream",
     "text": [
      "(7369, 'SMITH', 'CLERK', 7902, 800.0, None)\n",
      "(7499, 'ALLEN', 'SALESMAN', 7698, 1600.0, 300.0)\n",
      "(7521, 'WARD', 'SALESMAN', 7698, 1250.0, 500.0)\n",
      "(7566, 'JONES', 'MANAGER', 7839, 2975.0, None)\n",
      "(7654, 'MARTIN', 'SALESMAN', 7698, 1250.0, 1400.0)\n",
      "(7698, 'BLAKE', 'MANAGER', 7839, 2850.0, None)\n",
      "(7782, 'CLARK', 'MANAGER', 7839, 2450.0, None)\n",
      "(7788, 'SCOTT', 'ANALYST', 7566, 3000.0, None)\n",
      "(7839, 'KING', 'PRESIDENT', None, 5000.0, None)\n",
      "(7844, 'TURNER', 'SALESMAN', 7698, 1500.0, 0.0)\n",
      "(7876, 'ADAMS', 'CLERK', 7788, 1100.0, None)\n",
      "(7900, 'JAMES', 'CLERK', 7698, 950.0, None)\n",
      "(7902, 'FORD', 'ANALYST', 7566, 3000.0, None)\n",
      "(7934, 'MILLER', 'CLERK', 7782, 1300.0, None)\n"
     ]
    },
    {
     "data": {
      "text/html": [
       "<div>\n",
       "<style scoped>\n",
       "    .dataframe tbody tr th:only-of-type {\n",
       "        vertical-align: middle;\n",
       "    }\n",
       "\n",
       "    .dataframe tbody tr th {\n",
       "        vertical-align: top;\n",
       "    }\n",
       "\n",
       "    .dataframe thead th {\n",
       "        text-align: right;\n",
       "    }\n",
       "</style>\n",
       "<table border=\"1\" class=\"dataframe\">\n",
       "  <thead>\n",
       "    <tr style=\"text-align: right;\">\n",
       "      <th></th>\n",
       "      <th>NO</th>\n",
       "      <th>ENAME</th>\n",
       "      <th>JOB</th>\n",
       "      <th>MGR</th>\n",
       "      <th>SAL</th>\n",
       "      <th>COMM</th>\n",
       "    </tr>\n",
       "  </thead>\n",
       "  <tbody>\n",
       "    <tr>\n",
       "      <th>0</th>\n",
       "      <td>7369</td>\n",
       "      <td>SMITH</td>\n",
       "      <td>CLERK</td>\n",
       "      <td>7902.0</td>\n",
       "      <td>800.0</td>\n",
       "      <td>NaN</td>\n",
       "    </tr>\n",
       "    <tr>\n",
       "      <th>1</th>\n",
       "      <td>7499</td>\n",
       "      <td>ALLEN</td>\n",
       "      <td>SALESMAN</td>\n",
       "      <td>7698.0</td>\n",
       "      <td>1600.0</td>\n",
       "      <td>300.0</td>\n",
       "    </tr>\n",
       "    <tr>\n",
       "      <th>2</th>\n",
       "      <td>7521</td>\n",
       "      <td>WARD</td>\n",
       "      <td>SALESMAN</td>\n",
       "      <td>7698.0</td>\n",
       "      <td>1250.0</td>\n",
       "      <td>500.0</td>\n",
       "    </tr>\n",
       "    <tr>\n",
       "      <th>3</th>\n",
       "      <td>7566</td>\n",
       "      <td>JONES</td>\n",
       "      <td>MANAGER</td>\n",
       "      <td>7839.0</td>\n",
       "      <td>2975.0</td>\n",
       "      <td>NaN</td>\n",
       "    </tr>\n",
       "    <tr>\n",
       "      <th>4</th>\n",
       "      <td>7654</td>\n",
       "      <td>MARTIN</td>\n",
       "      <td>SALESMAN</td>\n",
       "      <td>7698.0</td>\n",
       "      <td>1250.0</td>\n",
       "      <td>1400.0</td>\n",
       "    </tr>\n",
       "    <tr>\n",
       "      <th>5</th>\n",
       "      <td>7698</td>\n",
       "      <td>BLAKE</td>\n",
       "      <td>MANAGER</td>\n",
       "      <td>7839.0</td>\n",
       "      <td>2850.0</td>\n",
       "      <td>NaN</td>\n",
       "    </tr>\n",
       "    <tr>\n",
       "      <th>6</th>\n",
       "      <td>7782</td>\n",
       "      <td>CLARK</td>\n",
       "      <td>MANAGER</td>\n",
       "      <td>7839.0</td>\n",
       "      <td>2450.0</td>\n",
       "      <td>NaN</td>\n",
       "    </tr>\n",
       "    <tr>\n",
       "      <th>7</th>\n",
       "      <td>7788</td>\n",
       "      <td>SCOTT</td>\n",
       "      <td>ANALYST</td>\n",
       "      <td>7566.0</td>\n",
       "      <td>3000.0</td>\n",
       "      <td>NaN</td>\n",
       "    </tr>\n",
       "    <tr>\n",
       "      <th>8</th>\n",
       "      <td>7839</td>\n",
       "      <td>KING</td>\n",
       "      <td>PRESIDENT</td>\n",
       "      <td>NaN</td>\n",
       "      <td>5000.0</td>\n",
       "      <td>NaN</td>\n",
       "    </tr>\n",
       "    <tr>\n",
       "      <th>9</th>\n",
       "      <td>7844</td>\n",
       "      <td>TURNER</td>\n",
       "      <td>SALESMAN</td>\n",
       "      <td>7698.0</td>\n",
       "      <td>1500.0</td>\n",
       "      <td>0.0</td>\n",
       "    </tr>\n",
       "    <tr>\n",
       "      <th>10</th>\n",
       "      <td>7876</td>\n",
       "      <td>ADAMS</td>\n",
       "      <td>CLERK</td>\n",
       "      <td>7788.0</td>\n",
       "      <td>1100.0</td>\n",
       "      <td>NaN</td>\n",
       "    </tr>\n",
       "    <tr>\n",
       "      <th>11</th>\n",
       "      <td>7900</td>\n",
       "      <td>JAMES</td>\n",
       "      <td>CLERK</td>\n",
       "      <td>7698.0</td>\n",
       "      <td>950.0</td>\n",
       "      <td>NaN</td>\n",
       "    </tr>\n",
       "    <tr>\n",
       "      <th>12</th>\n",
       "      <td>7902</td>\n",
       "      <td>FORD</td>\n",
       "      <td>ANALYST</td>\n",
       "      <td>7566.0</td>\n",
       "      <td>3000.0</td>\n",
       "      <td>NaN</td>\n",
       "    </tr>\n",
       "    <tr>\n",
       "      <th>13</th>\n",
       "      <td>7934</td>\n",
       "      <td>MILLER</td>\n",
       "      <td>CLERK</td>\n",
       "      <td>7782.0</td>\n",
       "      <td>1300.0</td>\n",
       "      <td>NaN</td>\n",
       "    </tr>\n",
       "  </tbody>\n",
       "</table>\n",
       "</div>"
      ],
      "text/plain": [
       "      NO   ENAME        JOB     MGR     SAL    COMM\n",
       "0   7369   SMITH      CLERK  7902.0   800.0     NaN\n",
       "1   7499   ALLEN   SALESMAN  7698.0  1600.0   300.0\n",
       "2   7521    WARD   SALESMAN  7698.0  1250.0   500.0\n",
       "3   7566   JONES    MANAGER  7839.0  2975.0     NaN\n",
       "4   7654  MARTIN   SALESMAN  7698.0  1250.0  1400.0\n",
       "5   7698   BLAKE    MANAGER  7839.0  2850.0     NaN\n",
       "6   7782   CLARK    MANAGER  7839.0  2450.0     NaN\n",
       "7   7788   SCOTT    ANALYST  7566.0  3000.0     NaN\n",
       "8   7839    KING  PRESIDENT     NaN  5000.0     NaN\n",
       "9   7844  TURNER   SALESMAN  7698.0  1500.0     0.0\n",
       "10  7876   ADAMS      CLERK  7788.0  1100.0     NaN\n",
       "11  7900   JAMES      CLERK  7698.0   950.0     NaN\n",
       "12  7902    FORD    ANALYST  7566.0  3000.0     NaN\n",
       "13  7934  MILLER      CLERK  7782.0  1300.0     NaN"
      ]
     },
     "execution_count": 57,
     "metadata": {},
     "output_type": "execute_result"
    }
   ],
   "source": [
    "cursor = conn.cursor()\n",
    "cursor.execute('SELECT EMPNO NO, ENAME, JOB, MGR, SAL, COMM FROM EMP')\n",
    "emps = cursor.fetchall()\n",
    "for emp in emps:\n",
    "    print(emp)\n",
    "import pandas as pd\n",
    "pd.DataFrame(emps, columns=[des[0] for des in cursor.description])"
   ]
  },
  {
   "cell_type": "code",
   "execution_count": null,
   "id": "663b9c3e",
   "metadata": {},
   "outputs": [],
   "source": []
  },
  {
   "cell_type": "code",
   "execution_count": null,
   "id": "9dbed754",
   "metadata": {},
   "outputs": [],
   "source": []
  },
  {
   "cell_type": "code",
   "execution_count": null,
   "id": "6da8a245",
   "metadata": {},
   "outputs": [],
   "source": []
  },
  {
   "cell_type": "code",
   "execution_count": null,
   "id": "9c5074e8",
   "metadata": {},
   "outputs": [],
   "source": []
  },
  {
   "cell_type": "code",
   "execution_count": null,
   "id": "1c891ffe",
   "metadata": {},
   "outputs": [],
   "source": []
  },
  {
   "cell_type": "code",
   "execution_count": null,
   "id": "160793c0",
   "metadata": {},
   "outputs": [],
   "source": []
  },
  {
   "cell_type": "code",
   "execution_count": null,
   "id": "970e3179",
   "metadata": {},
   "outputs": [],
   "source": []
  },
  {
   "cell_type": "code",
   "execution_count": null,
   "id": "6ade3729",
   "metadata": {},
   "outputs": [],
   "source": []
  },
  {
   "cell_type": "code",
   "execution_count": null,
   "id": "46906a0b",
   "metadata": {},
   "outputs": [],
   "source": []
  },
  {
   "cell_type": "code",
   "execution_count": null,
   "id": "04b11143",
   "metadata": {},
   "outputs": [],
   "source": []
  },
  {
   "cell_type": "code",
   "execution_count": null,
   "id": "78910592",
   "metadata": {},
   "outputs": [],
   "source": []
  },
  {
   "cell_type": "code",
   "execution_count": null,
   "id": "a05e3f11",
   "metadata": {},
   "outputs": [],
   "source": []
  },
  {
   "cell_type": "code",
   "execution_count": null,
   "id": "912ad799",
   "metadata": {},
   "outputs": [],
   "source": []
  },
  {
   "cell_type": "code",
   "execution_count": null,
   "id": "c977d5e8",
   "metadata": {},
   "outputs": [],
   "source": []
  },
  {
   "cell_type": "code",
   "execution_count": null,
   "id": "41c5569a",
   "metadata": {},
   "outputs": [],
   "source": []
  },
  {
   "cell_type": "code",
   "execution_count": null,
   "id": "5ef34d55",
   "metadata": {},
   "outputs": [],
   "source": []
  },
  {
   "cell_type": "code",
   "execution_count": null,
   "id": "d0dfcac7",
   "metadata": {},
   "outputs": [],
   "source": []
  },
  {
   "cell_type": "code",
   "execution_count": null,
   "id": "95649812",
   "metadata": {},
   "outputs": [],
   "source": []
  },
  {
   "cell_type": "code",
   "execution_count": null,
   "id": "9bf44000",
   "metadata": {},
   "outputs": [],
   "source": []
  },
  {
   "cell_type": "code",
   "execution_count": null,
   "id": "9ea69e16",
   "metadata": {},
   "outputs": [],
   "source": []
  },
  {
   "cell_type": "code",
   "execution_count": null,
   "id": "a79ccb36",
   "metadata": {},
   "outputs": [],
   "source": []
  },
  {
   "cell_type": "code",
   "execution_count": null,
   "id": "6ce0529e",
   "metadata": {},
   "outputs": [],
   "source": []
  },
  {
   "cell_type": "code",
   "execution_count": null,
   "id": "37c12682",
   "metadata": {},
   "outputs": [],
   "source": []
  },
  {
   "cell_type": "code",
   "execution_count": null,
   "id": "3fc3215d",
   "metadata": {},
   "outputs": [],
   "source": []
  },
  {
   "cell_type": "code",
   "execution_count": null,
   "id": "57d717ed",
   "metadata": {},
   "outputs": [],
   "source": []
  }
 ],
 "metadata": {
  "kernelspec": {
   "display_name": "Python 3 (ipykernel)",
   "language": "python",
   "name": "python3"
  },
  "language_info": {
   "codemirror_mode": {
    "name": "ipython",
    "version": 3
   },
   "file_extension": ".py",
   "mimetype": "text/x-python",
   "name": "python",
   "nbconvert_exporter": "python",
   "pygments_lexer": "ipython3",
   "version": "3.10.9"
  },
  "toc": {
   "base_numbering": 1,
   "nav_menu": {},
   "number_sections": false,
   "sideBar": true,
   "skip_h1_title": false,
   "title_cell": "Table of Contents",
   "title_sidebar": "Contents",
   "toc_cell": false,
   "toc_position": {
    "height": "calc(100% - 180px)",
    "left": "10px",
    "top": "150px",
    "width": "165px"
   },
   "toc_section_display": true,
   "toc_window_display": true
  }
 },
 "nbformat": 4,
 "nbformat_minor": 5
}
