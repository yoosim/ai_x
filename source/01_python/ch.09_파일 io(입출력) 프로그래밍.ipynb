{
 "cells": [
  {
   "cell_type": "code",
   "execution_count": 145,
   "id": "76caae51",
   "metadata": {},
   "outputs": [
    {
     "data": {
      "text/html": [
       "\n",
       "<style>\n",
       "div.container{width:100% !important;}\n",
       "div.cell.code_cell.rendered{width:100%;}\n",
       "div.CodeMirror {font-family:Consolas; font-size:15pt;}\n",
       "div.output {font-size:15pt; font-weight:bold;}\n",
       "div.input {font-family:Consolas; font-size:15pt;}\n",
       "div.prompt {min-width:70px;}\n",
       "div#toc-wrapper{padding-top:120px;}\n",
       "div.text_cell_render ul li{font-size:12pt;padding:5px;}\n",
       "table.dataframe{font-size:15px;}\n",
       "</style>\n",
       " "
      ],
      "text/plain": [
       "<IPython.core.display.HTML object>"
      ]
     },
     "metadata": {},
     "output_type": "display_data"
    }
   ],
   "source": [
    "from IPython.display import display, HTML \n",
    "display(HTML(\"\"\"\n",
    "<style>\n",
    "div.container{width:100% !important;}\n",
    "div.cell.code_cell.rendered{width:100%;}\n",
    "div.CodeMirror {font-family:Consolas; font-size:15pt;}\n",
    "div.output {font-size:15pt; font-weight:bold;}\n",
    "div.input {font-family:Consolas; font-size:15pt;}\n",
    "div.prompt {min-width:70px;}\n",
    "div#toc-wrapper{padding-top:120px;}\n",
    "div.text_cell_render ul li{font-size:12pt;padding:5px;}\n",
    "table.dataframe{font-size:15px;}\n",
    "</style>\n",
    " \"\"\"))"
   ]
  },
  {
   "cell_type": "markdown",
   "id": "dd34ff23",
   "metadata": {},
   "source": [
    "<span style=\"color:orange; font-size: 30px; font-weight: bold;\"> ch09.파일 io(입/출력) 프로그래밍 </span>\n",
    "\n",
    "- **파일 : txt, pickle, csv, json, hdf5(h5)**\n"
   ]
  },
  {
   "cell_type": "markdown",
   "id": "56e4488c",
   "metadata": {},
   "source": [
    "<span style=\"color:green; font-size: 15px; font-weight: bold;\">\n",
    "    \n",
    "# 1절. txt 파일에 데이터 저장하고 불러오기 </span>"
   ]
  },
  {
   "cell_type": "code",
   "execution_count": 6,
   "id": "e551efa3",
   "metadata": {},
   "outputs": [
    {
     "name": "stdout",
     "output_type": "stream",
     "text": [
      "쓰기 가능한지 여부 : True\n"
     ]
    }
   ],
   "source": [
    "f = open('data/ch.09.txt', 'w')\n",
    "print('쓰기 가능한지 여부 :', f.writable())"
   ]
  },
  {
   "cell_type": "code",
   "execution_count": 7,
   "id": "8bb51155",
   "metadata": {},
   "outputs": [],
   "source": [
    "f.write('Hello\\nWorld')\n",
    "f.close() #close 하지않으면 쓴 내용 저장이 안 됨 "
   ]
  },
  {
   "cell_type": "code",
   "execution_count": 9,
   "id": "6dc1816f",
   "metadata": {},
   "outputs": [
    {
     "name": "stdout",
     "output_type": "stream",
     "text": [
      "쓰기 가능한지 여부 : True\n"
     ]
    }
   ],
   "source": [
    "# mode : 'r' 또는 'rt'   : 파일이 없는 경우 예외, 파일이 있는 경우 text 읽기 모드\n",
    "#        'rb'           : 바이너리 읽기 모드\n",
    "#        'w' 또는 'wt'  : text 쓰기모드  ('w','wt'는 파일이 있으면 덮어씀,파일이 없으면 파일 생성)\n",
    "#        'wb'          : 바이너리 쓰기 모드\n",
    "#        'a' 또는 'at'  : text 추가 모드 (파일이 있으면 append, 파일이 없으면 파일 생성)\n",
    "#        읽기모드에서 파일이 없으며 예외/쓰기 모드에서 폴더가 없으면 예외\n",
    "\n",
    "# encoding\n",
    "#          cp949 한글 완성형\n",
    "#          euc-kr 확장된 한글완성형 : open()함수 기본 encoding방식(window)\n",
    "#          utf-8 한글 조합형 : open()함수 기본 encoding방식(mac, linux), 주피터노트북 기본\n",
    "\n",
    "with open('data/ch.09.txt', 'w') as f:\n",
    "    print('쓰기 가능한지 여부 :', f.writable())\n",
    "    f.write('Hello\\nPython')"
   ]
  },
  {
   "cell_type": "code",
   "execution_count": 16,
   "id": "f997a8a4",
   "metadata": {},
   "outputs": [],
   "source": [
    "# 여러줄 저장하는 방법\n",
    "with open('data/ch.09.txt', 'w') as f:\n",
    "# 방법1.f.write여러번 작성하기 \n",
    "    f.write('홍길동, 33, 아무동9\\n')\n",
    "    f.write('김길동, 33, 아무동9\\n')\n",
    "# 방법2.리스트로 넣기 (for문으로도 가능)\n",
    "    textlist = ['홍길동, 33, 아무동9\\n','김길동, 33, 아무동9\\n']\n",
    "#     for line in textlist:\n",
    "#         f.write(line)\n",
    "# 방법3.f.writelines를 이용해서 한번에 넣기\n",
    "    f.writelines(textlist)"
   ]
  },
  {
   "cell_type": "code",
   "execution_count": 20,
   "id": "56aaa770",
   "metadata": {},
   "outputs": [
    {
     "name": "stdout",
     "output_type": "stream",
     "text": [
      "홍길동, 33, 아무동9\n",
      "김길동, 33, 아무동9\n",
      "홍길동, 33, 아무동9\n",
      "김길동, 33, 아무동9\n"
     ]
    }
   ],
   "source": [
    "# 한줄씩 읽기 \n",
    "# with open('data/ch.09.txt', 'r') as f:\n",
    "#     line = f.readline()\n",
    "#     print(line)\n",
    "    \n",
    "# 한번에 다 읽기 \n",
    "with open('data/ch.09.txt', 'r') as f:\n",
    "    line = f.readline()\n",
    "    while line !='':\n",
    "        print(line, end='')\n",
    "        line = f.readline()"
   ]
  },
  {
   "cell_type": "code",
   "execution_count": 25,
   "id": "aec7988f",
   "metadata": {
    "scrolled": true
   },
   "outputs": [
    {
     "name": "stdout",
     "output_type": "stream",
     "text": [
      "['홍길동, 33, 아무동9\\n', '김길동, 33, 아무동9\\n', '홍길동, 33, 아무동9\\n', '김길동, 33, 아무동9\\n']\n"
     ]
    }
   ],
   "source": [
    "#모든 줄을 읽기_깔끔하지 않음\n",
    "with open('data/ch.09.txt', 'r') as f:\n",
    "    lines = f.readlines()\n",
    "    print(lines)"
   ]
  },
  {
   "cell_type": "code",
   "execution_count": 26,
   "id": "5c2af8a4",
   "metadata": {},
   "outputs": [
    {
     "name": "stdout",
     "output_type": "stream",
     "text": [
      "홍길동, 33, 아무동9\n",
      "김길동, 33, 아무동9\n",
      "홍길동, 33, 아무동9\n",
      "김길동, 33, 아무동9\n",
      "\n"
     ]
    }
   ],
   "source": [
    "#모든 줄을 읽기_깔끔하게 출력이 됨\n",
    "with open('data/ch.09.txt', 'r') as f:\n",
    "    lines = f.read()\n",
    "    print(lines)"
   ]
  },
  {
   "cell_type": "markdown",
   "id": "9268beca",
   "metadata": {},
   "source": [
    "<span style=\"color:green; font-size: 15px; font-weight: bold;\">\n",
    "    \n",
    "# 2절. pickle 파일에 데이터 저장하고 불러오기\n",
    "## 2.1 형식이 있는 데이터 불러오기 </span>"
   ]
  },
  {
   "cell_type": "code",
   "execution_count": 20,
   "id": "465672e4",
   "metadata": {},
   "outputs": [],
   "source": [
    "class Member:\n",
    "    def __init__(self,name,age,email,address):\n",
    "        self.name = name \n",
    "        self.age = age\n",
    "        self.email = email\n",
    "        self.address = address\n",
    "    def __str__(self):\n",
    "        return \"{}, {}, {}, {}\".format(self.name,\n",
    "                                       \"성년\" if self.age>18 else \"미성년\",\n",
    "                                        self.email, \n",
    "                                        self.address)\n",
    "#객체를 딕셔너리로 반환해주는 변수 만들기\n",
    "    def as_dic(self):\n",
    "        return { \n",
    "            'name':self.name,\n",
    "            'age':self.age,\n",
    "            'email':self.email,\n",
    "            'address':self.address\n",
    "                    }       \n",
    "    #other 또는 obj(오브젝트)\n",
    "    def __eq__(self, other):\n",
    "        return self.name == other.name and \\\n",
    "               self.age == other.age and \\\n",
    "               self.email == other.email and \\\n",
    "               self.address == other.address"
   ]
  },
  {
   "cell_type": "code",
   "execution_count": 7,
   "id": "a487742b",
   "metadata": {},
   "outputs": [
    {
     "name": "stdout",
     "output_type": "stream",
     "text": [
      "True\n",
      "True\n"
     ]
    }
   ],
   "source": [
    "user1 = Member('홍',20,'a@a.com','신림동')\n",
    "user2 = Member('홍',20,'a@a.com','신림동')\n",
    "print(user1==user2)\n",
    "print(user1.__eq__(user2)) \n",
    "#같은 내용이면 True가 되도록 만들고 싶음. (self.name 과 name이 같은지 하나씩 다 비교)"
   ]
  },
  {
   "cell_type": "code",
   "execution_count": 8,
   "id": "a5a4a8f1",
   "metadata": {},
   "outputs": [
    {
     "name": "stdout",
     "output_type": "stream",
     "text": [
      "True\n",
      "True\n"
     ]
    }
   ],
   "source": [
    "#__eq__메서드를 만든 후, 같은 값을 가지고 있는지 체크\n",
    "user1 = Member('홍',20,'a@a.com','신림동')\n",
    "user2 = Member('홍',20,'a@a.com','신림동')\n",
    "print(user1==user2)\n",
    "print(user1.__eq__(user2)) "
   ]
  },
  {
   "cell_type": "code",
   "execution_count": 34,
   "id": "9a267db7",
   "metadata": {},
   "outputs": [],
   "source": [
    "# 형식이 있는 txt 파일 내용을 객체 리스트 (member list(피클로 저장), 딕셔너리 list(데이터프레임)로 저장)\n",
    "\n",
    "user_list = [] #member list\n",
    "user_dict = [] #딕셔너리 list\n",
    "\n",
    "with open('data/ch09_member.txt', 'r', encoding='utf-8') as f:\n",
    "    lines = f.readlines()\n",
    "#print(lines)\n",
    "for line in lines:\n",
    "    data = line.split(',')\n",
    "#    print(data)\n",
    "    name = data[0]\n",
    "    age = int(data[1].strip()) #strip():좌우 공백 (space, \\t, \\n 제거)\n",
    "    email = data[2].strip()\n",
    "    address = data[3].strip()\n",
    "    user = Member(name, age, email, address)\n",
    "    user_list.append(user)  #member타입의 리스트 \n",
    "    user_dict.append(user.as_dic())\n",
    "#    user_dict.append(user.__dict__) #딕셔너리로 만들어 줌 .__dict__"
   ]
  },
  {
   "cell_type": "code",
   "execution_count": 82,
   "id": "7a17d075",
   "metadata": {},
   "outputs": [
    {
     "data": {
      "text/plain": [
       "[{'name': '홍길동', 'age': 20, 'email': 'kildong@hong.com', 'address': '서울시 관악구'},\n",
       " {'name': '홍길숙',\n",
       "  'age': 25,\n",
       "  'email': 'kilsuk1@hong.com',\n",
       "  'address': '서울시 영등포구'},\n",
       " {'name': '신길동', 'age': 30, 'email': 'shinkil@hong.com', 'address': '서울시 동작구'}]"
      ]
     },
     "execution_count": 82,
     "metadata": {},
     "output_type": "execute_result"
    }
   ],
   "source": [
    "user_dict"
   ]
  },
  {
   "cell_type": "code",
   "execution_count": 35,
   "id": "e6710eca",
   "metadata": {},
   "outputs": [
    {
     "name": "stdout",
     "output_type": "stream",
     "text": [
      "{'name': '홍길동', 'age': 20, 'email': 'kildong@hong.com', 'address': '서울시 관악구'}\n",
      "{'name': '홍길숙', 'age': 25, 'email': 'kilsuk1@hong.com', 'address': '서울시 영등포구'}\n",
      "{'name': '신길동', 'age': 30, 'email': 'shinkil@hong.com', 'address': '서울시 동작구'}\n"
     ]
    }
   ],
   "source": [
    "for user in user_dict:\n",
    "    print(user)"
   ]
  },
  {
   "cell_type": "code",
   "execution_count": 45,
   "id": "e1eef10d",
   "metadata": {},
   "outputs": [
    {
     "name": "stdout",
     "output_type": "stream",
     "text": [
      "홍길동, 성년, kildong@hong.com, 서울시 관악구\n",
      "홍길숙, 성년, kilsuk1@hong.com, 서울시 영등포구\n",
      "신길동, 성년, shinkil@hong.com, 서울시 동작구\n"
     ]
    }
   ],
   "source": [
    "for user in user_list:\n",
    "    print(user)"
   ]
  },
  {
   "cell_type": "markdown",
   "id": "d0e7c320",
   "metadata": {},
   "source": [
    "<span style=\"color:green; font-size: 15px; font-weight: bold;\">\n",
    "    \n",
    "## 2.2 피클링  </span>\n",
    "\n",
    "\n",
    "- 객체 리스트(user_list) -> 피클파일로 쓰기 \n",
    "- 피클 파일을 읽기-> 객체 리스트 (load_user_list)"
   ]
  },
  {
   "cell_type": "code",
   "execution_count": 74,
   "id": "379a3db5",
   "metadata": {},
   "outputs": [],
   "source": [
    "#피클링을 이용한 객체를 저장하기\n",
    "import pickle\n",
    "with open('data/ch09_member.data', 'wb') as f:\n",
    "    pickle.dump(user_list, f)"
   ]
  },
  {
   "cell_type": "code",
   "execution_count": 75,
   "id": "8deb8e0b",
   "metadata": {},
   "outputs": [],
   "source": [
    "#저장된 피클 파일(피클링)을 이용한 파일에서 객체 데이터로 읽기\n",
    "with open('data/ch09_member.data', 'rb') as f:\n",
    "    load_user_list = pickle.load(f)"
   ]
  },
  {
   "cell_type": "code",
   "execution_count": 76,
   "id": "e7891c03",
   "metadata": {},
   "outputs": [
    {
     "data": {
      "text/plain": [
       "True"
      ]
     },
     "execution_count": 76,
     "metadata": {},
     "output_type": "execute_result"
    }
   ],
   "source": [
    "user_list == load_user_list"
   ]
  },
  {
   "cell_type": "code",
   "execution_count": 77,
   "id": "b5c8e15b",
   "metadata": {},
   "outputs": [
    {
     "data": {
      "text/plain": [
       "[<__main__.Member at 0x202f56d4a30>,\n",
       " <__main__.Member at 0x202f56d4040>,\n",
       " <__main__.Member at 0x202f56d4fd0>]"
      ]
     },
     "execution_count": 77,
     "metadata": {},
     "output_type": "execute_result"
    }
   ],
   "source": [
    "user_list"
   ]
  },
  {
   "cell_type": "code",
   "execution_count": 78,
   "id": "27345bf5",
   "metadata": {},
   "outputs": [
    {
     "data": {
      "text/plain": [
       "[<__main__.Member at 0x202f5db2140>,\n",
       " <__main__.Member at 0x202f5e2f940>,\n",
       " <__main__.Member at 0x202f5e2cc10>]"
      ]
     },
     "execution_count": 78,
     "metadata": {},
     "output_type": "execute_result"
    }
   ],
   "source": [
    "load_user_list"
   ]
  },
  {
   "cell_type": "markdown",
   "id": "c75062a4",
   "metadata": {},
   "source": [
    "# 오류"
   ]
  },
  {
   "cell_type": "code",
   "execution_count": 225,
   "id": "8f82932d",
   "metadata": {},
   "outputs": [
    {
     "name": "stdout",
     "output_type": "stream",
     "text": [
      "0 {'name': '홍길동', 'age': 22, 'email': 'a@a.com', 'address': '신림동'}\n",
      "0 홍길동, 성년, kildong@hong.com, 서울시 관악구\n",
      "1 {'name': '김길동', 'age': 32, 'email': 'b@b.com', 'address': '신림동'}\n",
      "1 홍길숙, 성년, kilsuk1@hong.com, 서울시 영등포구\n",
      "2 {'name': '신길동', 'age': 42, 'email': 'c@c.com', 'address': '신림동'}\n",
      "2 신길동, 성년, shinkil@hong.com, 서울시 동작구\n"
     ]
    }
   ],
   "source": [
    "for idx in range(len(user_list)):\n",
    "    print(idx, user_list[idx])\n",
    "    print(idx, load_user_list[idx])"
   ]
  },
  {
   "cell_type": "code",
   "execution_count": 80,
   "id": "f0464c54",
   "metadata": {},
   "outputs": [
    {
     "name": "stdout",
     "output_type": "stream",
     "text": [
      "0 홍길동, 성년, kildong@hong.com, 서울시 관악구\n",
      "0 홍길동, 성년, kildong@hong.com, 서울시 관악구\n",
      "True\n",
      "1 홍길숙, 성년, kilsuk1@hong.com, 서울시 영등포구\n",
      "1 홍길숙, 성년, kilsuk1@hong.com, 서울시 영등포구\n",
      "True\n",
      "2 신길동, 성년, shinkil@hong.com, 서울시 동작구\n",
      "2 신길동, 성년, shinkil@hong.com, 서울시 동작구\n",
      "True\n"
     ]
    }
   ],
   "source": [
    "for idx, (user, load_user) in enumerate(zip(user_list, load_user_list)):\n",
    "    print(idx, user)\n",
    "    print(idx, load_user)\n",
    "    print(user==load_user)"
   ]
  },
  {
   "cell_type": "code",
   "execution_count": 81,
   "id": "80cb6747",
   "metadata": {},
   "outputs": [
    {
     "data": {
      "text/plain": [
       "True"
      ]
     },
     "execution_count": 81,
     "metadata": {},
     "output_type": "execute_result"
    }
   ],
   "source": [
    "result = []\n",
    "for user, load_user in zip(user_list, load_user_list):\n",
    "    result.append(user==load_user)\n",
    "all(result)"
   ]
  },
  {
   "cell_type": "markdown",
   "id": "a206a55d",
   "metadata": {},
   "source": [
    "<span style=\"color:green; font-size: 20px; font-weight: bold;\">\n",
    "    \n",
    "# 3절. CSV 형식 파일 읽기/쓰기 </span>\n",
    "\n",
    "- csv 파일 -> 리스트 데이터로 읽기 (3.1 읽기 / 3.2 쓰기) ['홍길동',20,'a@a.com']\n",
    "- csv 파일 -> 딕셔너리 데이터로 읽기 (3.3 읽기 / 3.4 쓰기)"
   ]
  },
  {
   "cell_type": "markdown",
   "id": "e2aad5e7",
   "metadata": {},
   "source": [
    "## 3.1 reader(csv 파일을 리스트 데이터로 읽기)"
   ]
  },
  {
   "cell_type": "code",
   "execution_count": 69,
   "id": "e303d033",
   "metadata": {},
   "outputs": [
    {
     "name": "stdout",
     "output_type": "stream",
     "text": [
      "[['홍길동', '20', 'kildong@hong.com', '서울시 관악구'], ['김길동', '40', 'kimdong@hong.com', '서울시 영등포구'], ['신길동', '30', 'sindong@hong.com', '서울시 동작구']]\n"
     ]
    }
   ],
   "source": [
    "import csv \n",
    "#메모장에서 열리면 rt, 안 열리면 바이너리 rb\n",
    "with open('data/ch09_member1.csv','r',encoding='utf-8') as f: \n",
    "    reader = csv.reader(f)  #한줄씩 읽어 리스트로 만들어줌\n",
    "    result = list(reader) #result에 할당을 하면 외부에서 실행이 됨.\n",
    "print(result)    \n",
    "    #print(list(reader))  #reader는 with절 안에서 실행이 되고 외부에서는 안 됨.\n",
    "    "
   ]
  },
  {
   "cell_type": "code",
   "execution_count": 72,
   "id": "a287cf3f",
   "metadata": {},
   "outputs": [
    {
     "name": "stdout",
     "output_type": "stream",
     "text": [
      "[['홍길동', 20.0, 'kildong@hong.com', '서울시 관악구'], ['김길동', 40.0, 'kimdong@hong.com', '서울시 영등포구'], ['신길동', 30.0, 'sindong@hong.com', '서울시 동작구']]\n"
     ]
    }
   ],
   "source": [
    "#\"\"(따옴표)가 없는 데이터는 numeric으로 가져오게끔 만들기\n",
    "import csv \n",
    "with open('data/ch09_member1.csv','r',encoding='utf-8') as f: \n",
    "    reader = csv.reader(f,\n",
    "                       quoting=csv.QUOTE_NONNUMERIC) #쿼터가 없는건 기존의 방법대로, 없는것은 숫자로 인식 \n",
    "    result = list(reader) \n",
    "print(result)   \n",
    "\n",
    "#reader = 리스트로 / dicreader = 딕셔너리로 받음"
   ]
  },
  {
   "cell_type": "code",
   "execution_count": 85,
   "id": "519afad4",
   "metadata": {},
   "outputs": [
    {
     "name": "stdout",
     "output_type": "stream",
     "text": [
      "[{'name': '홍길동', 'age': 20, 'email': 'kildong@hong.com', 'address': '서울시 관악구'}, {'name': '김길동', 'age': 40, 'email': 'kimdong@hong.com', 'address': '서울시 영등포구'}, {'name': '신길동', 'age': 30, 'email': 'sindong@hong.com', 'address': '서울시 동작구'}]\n"
     ]
    }
   ],
   "source": [
    "#받은 리스트를 딕셔너리로 변경_길어짐\n",
    "\n",
    "import csv \n",
    "with open('data/ch09_member1.csv','r',encoding='utf-8') as f: \n",
    "    reader = csv.reader(f,\n",
    "                       quoting=csv.QUOTE_NONNUMERIC) #쿼터가 없는건 기존의 방법대로, 없는것은 숫자로 인식 \n",
    "    result = list(reader)\n",
    "dict_list = []\n",
    "for data in result: #데이터 하나가 result에 들어감\n",
    "    dict_list.append({\n",
    "        'name':data[0],\n",
    "        'age':int(data[1]),\n",
    "        'email':data[2],\n",
    "        'address':data[3]        \n",
    "    })\n",
    "print(dict_list)"
   ]
  },
  {
   "cell_type": "markdown",
   "id": "3ef84f68",
   "metadata": {},
   "source": [
    "## 3.2 writer (리스트데이터를 쓰기)"
   ]
  },
  {
   "cell_type": "code",
   "execution_count": 91,
   "id": "ec0edfad",
   "metadata": {},
   "outputs": [],
   "source": [
    "user_list = [['홍길동', 20, 'kildong@hong.com', '서울시 관악구'], \n",
    "             ['김길동', 40, 'kimdong@hong.com', '서울시 영등포구']] #\\n이 없음"
   ]
  },
  {
   "cell_type": "code",
   "execution_count": 87,
   "id": "25c26fa5",
   "metadata": {},
   "outputs": [],
   "source": [
    "with open('data/ch09_member1_write.csv', 'a', newline='', encoding='utf-8') as f:  #newline='' \n",
    "    writer = csv.writer(f) #writer를 통해서 쓰기\n",
    "    writer.writerows(user_list)  #이렇게 하면 \"\"(따옴표가 없는거랑 똑같음) 스트링으로 작업이 됨"
   ]
  },
  {
   "cell_type": "code",
   "execution_count": 93,
   "id": "cc60cf4d",
   "metadata": {},
   "outputs": [],
   "source": [
    "with open('data/ch09_member1_write.csv', 'w', newline='', encoding='utf-8') as f:  #newline='' \n",
    "    writer = csv.writer(f, quoting=csv.QUOTE_NONNUMERIC)\n",
    "    writer.writerows(user_list)"
   ]
  },
  {
   "cell_type": "markdown",
   "id": "e9ffde33",
   "metadata": {},
   "source": [
    "## 3.3 DictReader(csv 파일을 딕셔너리로 읽기) "
   ]
  },
  {
   "cell_type": "code",
   "execution_count": 95,
   "id": "6bb565a6",
   "metadata": {},
   "outputs": [
    {
     "name": "stdout",
     "output_type": "stream",
     "text": [
      "<csv.DictReader object at 0x00000202F5CC93F0>\n"
     ]
    }
   ],
   "source": [
    "import csv\n",
    "with open('data/ch09_member3.csv', 'r', encoding='utf-8') as f:\n",
    "    dict_reader = csv.DictReader(f)\n",
    "    print(dict_reader)"
   ]
  },
  {
   "cell_type": "code",
   "execution_count": 96,
   "id": "c1bd734d",
   "metadata": {},
   "outputs": [
    {
     "name": "stdout",
     "output_type": "stream",
     "text": [
      "홍길동 20 h@h.com 서울시 관악구\n",
      "신길동 40 s@h.com 서울시 영등포구 팀장\n",
      "김길동 30 k@h.com 서울시 동작구\n"
     ]
    }
   ],
   "source": [
    "import csv\n",
    "with open('data/ch09_member3.csv', 'r', encoding='utf-8') as f:\n",
    "    dict_reader = csv.DictReader(f)\n",
    "    for row in dict_reader:\n",
    "        if row['job'] is None:\n",
    "            print(row['name'], row['age'],row['email'],row['address'])\n",
    "        else:\n",
    "            print(row['name'], row['age'],row['email'],row['address'],row['job'])"
   ]
  },
  {
   "cell_type": "code",
   "execution_count": 99,
   "id": "f0760501",
   "metadata": {},
   "outputs": [
    {
     "name": "stdout",
     "output_type": "stream",
     "text": [
      "[{'name': '홍길동', 'age': '20', 'email': 'h@h.com', 'address': '서울시 관악구', 'job': None}, {'name': '신길동', 'age': '40', 'email': 's@h.com', 'address': '서울시 영등포구', 'job': '팀장'}, {'name': '김길동', 'age': '30', 'email': 'k@h.com', 'address': '서울시 동작구', 'job': None}]\n"
     ]
    }
   ],
   "source": [
    "import csv\n",
    "with open('data/ch09_member3.csv', 'r', encoding='utf-8') as f:\n",
    "    dict_reader = csv.DictReader(f)\n",
    "    dict_list = list(dict_reader)\n",
    "print(dict_list)"
   ]
  },
  {
   "cell_type": "code",
   "execution_count": 100,
   "id": "556ab2d1",
   "metadata": {},
   "outputs": [
    {
     "name": "stdout",
     "output_type": "stream",
     "text": [
      "홍길동 20 h@h.com 서울시 관악구\n",
      "신길동 40 s@h.com 서울시 영등포구 팀장\n",
      "김길동 30 k@h.com 서울시 동작구\n"
     ]
    }
   ],
   "source": [
    "for row in dict_list:\n",
    "    if row['job'] is None:\n",
    "        print(row['name'], row['age'],row['email'],row['address'])\n",
    "    else:\n",
    "        print(row['name'], row['age'],row['email'],row['address'],row['job'])"
   ]
  },
  {
   "cell_type": "code",
   "execution_count": 109,
   "id": "1787f6a8",
   "metadata": {},
   "outputs": [
    {
     "name": "stdout",
     "output_type": "stream",
     "text": [
      "[{'Name': '홍길동', 'Age': '20', 'Email': 'kildong@hong.com', 'Address': '서울시 관악구', 'Job': ''}, {'Name': '김길동', 'Age': '40', 'Email': 'kimdong@hong.com', 'Address': '서울시 영등포구', 'Job': '팀장'}, {'Name': '신길동', 'Age': '30', 'Email': 'sindong@hong.com', 'Address': '서울시 동작구', 'Job': ''}]\n"
     ]
    }
   ],
   "source": [
    "#header가 없는 csv 파일(ch09_member-1.cp.csv)을 딕셔너리로 읽기\n",
    "with open('data/ch09_member1-cp.csv', encoding='cp949') as f:\n",
    "    dict_reader = csv.DictReader(f,\n",
    "                                fieldnames=['Name','Age','Email','Address','Job']) \n",
    "    #이렇게 하면 첫번째줄의 데이터를 헤더가 있는거로 보고 출력함\n",
    "    print(list(dict_reader))"
   ]
  },
  {
   "cell_type": "code",
   "execution_count": 105,
   "id": "12f40983",
   "metadata": {},
   "outputs": [
    {
     "name": "stdout",
     "output_type": "stream",
     "text": [
      "{'Name': '홍길동', 'Age': '20', 'Email': 'kildong@hong.com', 'Address': '서울시 관악구', 'Job': ''}\n",
      "{'Name': '김길동', 'Age': '40', 'Email': 'kimdong@hong.com', 'Address': '서울시 영등포구', 'Job': '팀장'}\n",
      "{'Name': '신길동', 'Age': '30', 'Email': 'sindong@hong.com', 'Address': '서울시 동작구', 'Job': ''}\n"
     ]
    }
   ],
   "source": [
    "#header가 없는 csv 파일(ch09_member-1.cp.csv)을 딕셔너리로 읽기\n",
    "with open('data/ch09_member1-cp.csv', encoding='cp949') as f:\n",
    "    dict_reader = csv.DictReader(f,\n",
    "                                fieldnames=['Name','Age','Email','Address','Job']) \n",
    "    for row in dict_reader:  # in뒤에는 나열가능한 데이터가 있는 \n",
    "        print(row)"
   ]
  },
  {
   "cell_type": "code",
   "execution_count": null,
   "id": "da85126a",
   "metadata": {},
   "outputs": [],
   "source": [
    "with open('data/ch09_member1-cp.csv', encoding='cp949') as f:\n",
    "    dict_reader = csv.DictReader(f,\n",
    "                                fieldnames=['Name','Age','Email','Address','Job']) \n",
    "    for row in dict_reader:  # in뒤에는 나열가능한 데이터가 있는 \n",
    "        print(row)"
   ]
  },
  {
   "cell_type": "code",
   "execution_count": 111,
   "id": "0a570dda",
   "metadata": {},
   "outputs": [
    {
     "name": "stdout",
     "output_type": "stream",
     "text": [
      "{'Name': '홍길동', 'Age': '20', 'Email': 'kildong@hong.com', 'Address': '서울시 관악구', 'Job': ''}\n",
      "{'Name': '김길동', 'Age': '40', 'Email': 'kimdong@hong.com', 'Address': '서울시 영등포구', 'Job': '팀장'}\n",
      "{'Name': '신길동', 'Age': '30', 'Email': 'sindong@hong.com', 'Address': '서울시 동작구', 'Job': ''}\n"
     ]
    }
   ],
   "source": [
    "with open('data/ch09_member1-cp.csv', encoding='cp949') as f:\n",
    "    dict_reader = csv.DictReader(f,\n",
    "                                fieldnames=['Name','Age','Email','Address','Job']) \n",
    "    result = list(dict_reader)\n",
    "for row in result:  # in뒤에는 나열가능한 데이터가 있는 \n",
    "    print(row)"
   ]
  },
  {
   "cell_type": "code",
   "execution_count": 112,
   "id": "ddd85bf1",
   "metadata": {},
   "outputs": [
    {
     "name": "stdout",
     "output_type": "stream",
     "text": [
      "{'Name': '홍길동', 'Age': '20', 'Email': 'kildong@hong.com', 'Address': '서울시 관악구', 'Job': ['']}\n",
      "{'Name': '김길동', 'Age': '40', 'Email': 'kimdong@hong.com', 'Address': '서울시 영등포구', 'Job': ['팀장']}\n",
      "{'Name': '신길동', 'Age': '30', 'Email': 'sindong@hong.com', 'Address': '서울시 동작구', 'Job': ['']}\n"
     ]
    }
   ],
   "source": [
    "#header가 없는 csv 파일(ch09_member-1.cp.csv)을 딕셔너리로 읽기\n",
    "#job이 있을 수도 있고 없을 수도 있는 파일 읽기\n",
    "\n",
    "with open('data/ch09_member1-cp.csv', encoding='cp949') as f:\n",
    "    dict_reader = csv.DictReader(f,\n",
    "                                fieldnames=['Name','Age','Email','Address'],\n",
    "                                restkey='Job')   #restkey=남는것 \n",
    "    result = list(dict_reader)\n",
    "for row in result:  # in뒤에는 나열가능한 데이터가 있는 \n",
    "    print(row)"
   ]
  },
  {
   "cell_type": "markdown",
   "id": "5a3b3dfc",
   "metadata": {},
   "source": [
    "<span style=\"color:green; font-size: 15px; font-weight: bold;\">\n",
    "    \n",
    "## 3.4 DictWriter </span>\n",
    "- 딕셔너리 리스트 -> csv파일"
   ]
  },
  {
   "cell_type": "code",
   "execution_count": 125,
   "id": "40d1bbb6",
   "metadata": {},
   "outputs": [],
   "source": [
    "user1 = {'name':'홍길동','age':22,'email':'a@a.com','address':'신림동'}\n",
    "user2 = {'name':'김길동','age':32,'email':'b@b.com','address':'신림동'}\n",
    "user3 = {'name':'신길동','age':42,'email':'c@c.com','address':'신림동'}\n",
    "user_list = [user1, user2, user3]\n",
    "list(user1.keys()) #헤더(필더이름)에는 리스트만 들어감\n",
    "fieldnames = list(user1.keys())"
   ]
  },
  {
   "cell_type": "code",
   "execution_count": 127,
   "id": "b7742ccf",
   "metadata": {},
   "outputs": [],
   "source": [
    "with open('data/ch09_member4.csv','w', encoding='utf-8', newline='') as f:\n",
    "    dict_writer = csv.DictWriter(f,\n",
    "                                fieldnames=fieldnames)\n",
    "    dict_writer.writeheader()  #데이터를 쓰는게 아닌 헤더를 쓰는 것 append로 하면 헤더 제외하고 작성 \n",
    "    dict_writer.writerows(user_list)  #한꺼번에 리스트 다 출력"
   ]
  },
  {
   "cell_type": "markdown",
   "id": "b6a674ba",
   "metadata": {},
   "source": [
    "# csv파일 <-> 데이터프레임 \n",
    "- 제일 많이 씀"
   ]
  },
  {
   "cell_type": "code",
   "execution_count": 128,
   "id": "494a95ea",
   "metadata": {},
   "outputs": [
    {
     "data": {
      "text/html": [
       "<div>\n",
       "<style scoped>\n",
       "    .dataframe tbody tr th:only-of-type {\n",
       "        vertical-align: middle;\n",
       "    }\n",
       "\n",
       "    .dataframe tbody tr th {\n",
       "        vertical-align: top;\n",
       "    }\n",
       "\n",
       "    .dataframe thead th {\n",
       "        text-align: right;\n",
       "    }\n",
       "</style>\n",
       "<table border=\"1\" class=\"dataframe\">\n",
       "  <thead>\n",
       "    <tr style=\"text-align: right;\">\n",
       "      <th></th>\n",
       "      <th>name</th>\n",
       "      <th>age</th>\n",
       "      <th>email</th>\n",
       "      <th>address</th>\n",
       "      <th>job</th>\n",
       "    </tr>\n",
       "  </thead>\n",
       "  <tbody>\n",
       "    <tr>\n",
       "      <th>0</th>\n",
       "      <td>홍길동</td>\n",
       "      <td>20</td>\n",
       "      <td>h@h.com</td>\n",
       "      <td>서울시 관악구</td>\n",
       "      <td>NaN</td>\n",
       "    </tr>\n",
       "    <tr>\n",
       "      <th>1</th>\n",
       "      <td>신길동</td>\n",
       "      <td>40</td>\n",
       "      <td>s@h.com</td>\n",
       "      <td>서울시 영등포구</td>\n",
       "      <td>팀장</td>\n",
       "    </tr>\n",
       "    <tr>\n",
       "      <th>2</th>\n",
       "      <td>김길동</td>\n",
       "      <td>30</td>\n",
       "      <td>k@h.com</td>\n",
       "      <td>서울시 동작구</td>\n",
       "      <td>NaN</td>\n",
       "    </tr>\n",
       "  </tbody>\n",
       "</table>\n",
       "</div>"
      ],
      "text/plain": [
       "  name  age    email   address  job\n",
       "0  홍길동   20  h@h.com   서울시 관악구  NaN\n",
       "1  신길동   40  s@h.com  서울시 영등포구   팀장\n",
       "2  김길동   30  k@h.com   서울시 동작구  NaN"
      ]
     },
     "execution_count": 128,
     "metadata": {},
     "output_type": "execute_result"
    }
   ],
   "source": [
    "import pandas as pd #pandas는 encoding이 기본 utf-8이므로 생략이 가능 \n",
    "member = pd.read_csv('data/ch09_member3.csv')\n",
    "member"
   ]
  },
  {
   "cell_type": "code",
   "execution_count": 129,
   "id": "55762fd2",
   "metadata": {},
   "outputs": [
    {
     "data": {
      "text/plain": [
       "pandas.core.frame.DataFrame"
      ]
     },
     "execution_count": 129,
     "metadata": {},
     "output_type": "execute_result"
    }
   ],
   "source": [
    "type(member)"
   ]
  },
  {
   "cell_type": "markdown",
   "id": "7b1ce14f",
   "metadata": {},
   "source": [
    "<span style=\"color:green; font-size: 20px; font-weight: bold;\">\n",
    "\n",
    "# 4절. JSON 데이터 저장하고 불러오기(dump,load)</span>\n",
    "\n",
    "- dump : 파일 출력 \n",
    "- load : 변수로 읽기\n",
    "- 딕셔너리리스트 <-> JSON 파일 (기본)\n",
    "- 객체리스트 <-> JSON 파일\n",
    "\n",
    "## 4.1 dump(파일 출력) "
   ]
  },
  {
   "cell_type": "code",
   "execution_count": 130,
   "id": "aa23f433",
   "metadata": {},
   "outputs": [],
   "source": [
    "data = [{'name': '홍길동', 'age': 20, 'email': 'kildong@hong.com', 'address': '서울'},\n",
    "        {'name': '김길동', 'age': 30, 'email': 'kimdong@hong.com', 'address': '인천'}]"
   ]
  },
  {
   "cell_type": "code",
   "execution_count": 203,
   "id": "5b8571eb",
   "metadata": {},
   "outputs": [],
   "source": [
    "# ensure_ascii 옵션\n",
    "    # True : 비 ASCII문자는 유니코드 형태로 저장\n",
    "    # False : 비 ASCII문자 원래 형태로 저장\n",
    "\n",
    "import json\n",
    "with open('data/ch09_member.json', 'w', encoding='utf-8',) as jsonfile:\n",
    "    json.dump(data, #딕셔너리 리스트\n",
    "             jsonfile,\n",
    "             ensure_ascii=False)"
   ]
  },
  {
   "cell_type": "code",
   "execution_count": 204,
   "id": "375675dc",
   "metadata": {},
   "outputs": [],
   "source": [
    "class Member:\n",
    "    def __init__(self,name,age,email,address):\n",
    "        self.name = name \n",
    "        self.age = age\n",
    "        self.email = email\n",
    "        self.address = address\n",
    "    def __str__(self):\n",
    "        return \"{}, {}, {}, {}\".format(self.name,\n",
    "                                        self.age,\n",
    "                                        self.email, \n",
    "                                        self.address)\n",
    "#객체를 딕셔너리로 반환해주는 변수 만들기\n",
    "    def as_dic(self):\n",
    "        return { \n",
    "            'name':self.name,\n",
    "            'age':self.age,\n",
    "            'email':self.email,\n",
    "            'address':self.address\n",
    "                    }       \n",
    "    #other 또는 obj(오브젝트)\n",
    "    def __eq__(self, other):\n",
    "        if isinstance (other, Member):\n",
    "            return self.__dict__ == other.__dict__\n",
    "        else:\n",
    "            return False"
   ]
  },
  {
   "cell_type": "code",
   "execution_count": 146,
   "id": "bd932387",
   "metadata": {},
   "outputs": [
    {
     "name": "stdout",
     "output_type": "stream",
     "text": [
      "True\n",
      "True\n"
     ]
    }
   ],
   "source": [
    "user1 = Member('홍길동',22,'a@a.com','신림동')\n",
    "user2 = Member('홍길동',22,'a@a.com','신림동')\n",
    "print(user1.__eq__(user2))\n",
    "print(user1==user2)"
   ]
  },
  {
   "cell_type": "code",
   "execution_count": null,
   "id": "9cbf05ad",
   "metadata": {},
   "outputs": [],
   "source": []
  },
  {
   "cell_type": "code",
   "execution_count": 147,
   "id": "ba2cbdc1",
   "metadata": {},
   "outputs": [
    {
     "name": "stdout",
     "output_type": "stream",
     "text": [
      "False\n",
      "False\n"
     ]
    }
   ],
   "source": [
    "print(user1.__eq__('홍길동'))\n",
    "print(user1=='홍길동')"
   ]
  },
  {
   "cell_type": "code",
   "execution_count": 141,
   "id": "0ae46ebf",
   "metadata": {},
   "outputs": [
    {
     "name": "stdout",
     "output_type": "stream",
     "text": [
      "True\n"
     ]
    }
   ],
   "source": [
    "print(user1.__eq__(user1))"
   ]
  },
  {
   "cell_type": "code",
   "execution_count": 205,
   "id": "5d9ed3e6",
   "metadata": {},
   "outputs": [],
   "source": [
    "    def __eq__(self, other):\n",
    "        if isinstance (other, Member):\n",
    "            #return self.__str__() == other.__str__()\n",
    "            return self.__dict__ == other.__dict__\n",
    "        else:\n",
    "            return False"
   ]
  },
  {
   "cell_type": "code",
   "execution_count": 151,
   "id": "8a7e3581",
   "metadata": {},
   "outputs": [],
   "source": [
    "#객체 리스트를 json으로 넣기\n",
    "\n",
    "member_list = [Member('홍길동',22,'a@a.com','서울'),\n",
    "               Member('신길동',32,'b@b.com','서울'),\n",
    "               Member('김길동',42,'c@c.com','서울')]"
   ]
  },
  {
   "cell_type": "code",
   "execution_count": 156,
   "id": "2763c1d2",
   "metadata": {},
   "outputs": [],
   "source": [
    "with open('data/ch09_member1.json', 'w', encoding='utf-8') as jsonfile:\n",
    "    json.dump(member_list, #객체 리스트\n",
    "              jsonfile,\n",
    "              ensure_ascii=False,\n",
    "              indent='\\t',\n",
    "              default=Member.as_dic   #객체를 딕셔너리로 return하는 인스턴스 함수\n",
    "             )"
   ]
  },
  {
   "cell_type": "markdown",
   "id": "9ec7c01d",
   "metadata": {},
   "source": [
    "- JSON 파일로 만드는 방법\n",
    "1. 딕셔너리로 JSON파일로 만들기\n",
    "2. 객체리스트를 JSON파일로 만들기 (객체리스트를 딕셔너리로 만들고 JSON파일로 바꾼다. **직접적으로 바뀌는 방법은 없음**)\n",
    "\n",
    "- JSON 파일을 객체리스트로 만드는 방법\n",
    "1. JSON 파일을 딕셔너리로 만들어서 객체리스트로 만들기"
   ]
  },
  {
   "cell_type": "markdown",
   "id": "da585922",
   "metadata": {},
   "source": [
    "## 4.2 load(파일 입력)\n",
    "- json파일 -> 딕셔너리 리스트\n",
    "                 ↓\n",
    "- json파일 -> 객체 리스트"
   ]
  },
  {
   "cell_type": "code",
   "execution_count": 227,
   "id": "639c2f17",
   "metadata": {},
   "outputs": [],
   "source": [
    "def as_member(dic):\n",
    "    '매개변수로 딕셔너리를 받아 Member 객체를 return'\n",
    "    return Member(dic.get('name'), dic['age'],dic.get('email'),dic.get('address'))"
   ]
  },
  {
   "cell_type": "code",
   "execution_count": 228,
   "id": "d07b8a9e",
   "metadata": {},
   "outputs": [
    {
     "name": "stdout",
     "output_type": "stream",
     "text": [
      "홍길동, 20, z@z.com, 관악구\n"
     ]
    }
   ],
   "source": [
    "member= as_member({'name':'홍길동','age':20,'email':'z@z.com','address':'관악구'})\n",
    "print(member)"
   ]
  },
  {
   "cell_type": "code",
   "execution_count": 231,
   "id": "4e8ce6ac",
   "metadata": {},
   "outputs": [
    {
     "data": {
      "text/plain": [
       "[{'name': '홍길동', 'age': 20, 'email': 'kildong@hong.com', 'address': '서울'},\n",
       " {'name': '김길동', 'age': 30, 'email': 'kimdong@hong.com', 'address': '인천'}]"
      ]
     },
     "execution_count": 231,
     "metadata": {},
     "output_type": "execute_result"
    }
   ],
   "source": [
    "with open('data/ch09_member.json', 'r', encoding='utf-8') as f:\n",
    "    load_data = json.load(f)\n",
    "load_data"
   ]
  },
  {
   "cell_type": "code",
   "execution_count": 230,
   "id": "78aa6a20",
   "metadata": {},
   "outputs": [],
   "source": [
    "with open('data/ch09_member1.json', 'r', encoding='utf-8') as f:\n",
    "    load_member_list = json.load(f,object_hook=as_member)"
   ]
  },
  {
   "cell_type": "markdown",
   "id": "f5aed706",
   "metadata": {},
   "source": [
    "## JSON -> 데이터프레임"
   ]
  },
  {
   "cell_type": "code",
   "execution_count": 190,
   "id": "4d5cc34c",
   "metadata": {},
   "outputs": [
    {
     "data": {
      "text/html": [
       "<div>\n",
       "<style scoped>\n",
       "    .dataframe tbody tr th:only-of-type {\n",
       "        vertical-align: middle;\n",
       "    }\n",
       "\n",
       "    .dataframe tbody tr th {\n",
       "        vertical-align: top;\n",
       "    }\n",
       "\n",
       "    .dataframe thead th {\n",
       "        text-align: right;\n",
       "    }\n",
       "</style>\n",
       "<table border=\"1\" class=\"dataframe\">\n",
       "  <thead>\n",
       "    <tr style=\"text-align: right;\">\n",
       "      <th></th>\n",
       "      <th>name</th>\n",
       "      <th>age</th>\n",
       "      <th>email</th>\n",
       "      <th>address</th>\n",
       "    </tr>\n",
       "  </thead>\n",
       "  <tbody>\n",
       "    <tr>\n",
       "      <th>0</th>\n",
       "      <td>홍길동</td>\n",
       "      <td>22</td>\n",
       "      <td>a@a.com</td>\n",
       "      <td>서울</td>\n",
       "    </tr>\n",
       "    <tr>\n",
       "      <th>1</th>\n",
       "      <td>신길동</td>\n",
       "      <td>32</td>\n",
       "      <td>b@b.com</td>\n",
       "      <td>서울</td>\n",
       "    </tr>\n",
       "    <tr>\n",
       "      <th>2</th>\n",
       "      <td>김길동</td>\n",
       "      <td>42</td>\n",
       "      <td>c@c.com</td>\n",
       "      <td>서울</td>\n",
       "    </tr>\n",
       "  </tbody>\n",
       "</table>\n",
       "</div>"
      ],
      "text/plain": [
       "  name  age    email address\n",
       "0  홍길동   22  a@a.com      서울\n",
       "1  신길동   32  b@b.com      서울\n",
       "2  김길동   42  c@c.com      서울"
      ]
     },
     "execution_count": 190,
     "metadata": {},
     "output_type": "execute_result"
    }
   ],
   "source": [
    "import pandas as pd\n",
    "pd.read_json('data/ch09_member1.json')"
   ]
  },
  {
   "cell_type": "code",
   "execution_count": 195,
   "id": "a157dbec",
   "metadata": {},
   "outputs": [
    {
     "data": {
      "text/html": [
       "<div>\n",
       "<style scoped>\n",
       "    .dataframe tbody tr th:only-of-type {\n",
       "        vertical-align: middle;\n",
       "    }\n",
       "\n",
       "    .dataframe tbody tr th {\n",
       "        vertical-align: top;\n",
       "    }\n",
       "\n",
       "    .dataframe thead th {\n",
       "        text-align: right;\n",
       "    }\n",
       "</style>\n",
       "<table border=\"1\" class=\"dataframe\">\n",
       "  <thead>\n",
       "    <tr style=\"text-align: right;\">\n",
       "      <th></th>\n",
       "      <th>name</th>\n",
       "      <th>age</th>\n",
       "      <th>email</th>\n",
       "      <th>address</th>\n",
       "    </tr>\n",
       "  </thead>\n",
       "  <tbody>\n",
       "    <tr>\n",
       "      <th>0</th>\n",
       "      <td>홍길동</td>\n",
       "      <td>22</td>\n",
       "      <td>a@a.com</td>\n",
       "      <td>서울</td>\n",
       "    </tr>\n",
       "    <tr>\n",
       "      <th>1</th>\n",
       "      <td>신길동</td>\n",
       "      <td>32</td>\n",
       "      <td>b@b.com</td>\n",
       "      <td>서울</td>\n",
       "    </tr>\n",
       "    <tr>\n",
       "      <th>2</th>\n",
       "      <td>김길동</td>\n",
       "      <td>42</td>\n",
       "      <td>c@c.com</td>\n",
       "      <td>서울</td>\n",
       "    </tr>\n",
       "  </tbody>\n",
       "</table>\n",
       "</div>"
      ],
      "text/plain": [
       "  name  age    email address\n",
       "0  홍길동   22  a@a.com      서울\n",
       "1  신길동   32  b@b.com      서울\n",
       "2  김길동   42  c@c.com      서울"
      ]
     },
     "execution_count": 195,
     "metadata": {},
     "output_type": "execute_result"
    }
   ],
   "source": [
    "import pandas as pd\n",
    "pd.read_json('data/ch09_member1.json', encoding='utf-8')"
   ]
  },
  {
   "cell_type": "markdown",
   "id": "8387c156",
   "metadata": {},
   "source": [
    "<span style=\"color:green; font-size: 20px; font-weight: bold;\">\n",
    "\n",
    "# 5절. HDF5 파일(H5) </span>\n",
    "- h5py 사용\n",
    "\n",
    "## 5.1 hdf5 파일 쓰기 (객체 저장)\n",
    "- hdf5(h5)는 딕셔너리 데이터를 기본으로 저장\n",
    "- 딕녀서니 데이터(리스트)를 hdf5 파일에 쓰기 \n",
    "    예시)ch09_iris.hdf5\n",
    "- 데이터 프레임을 hdf5파일에 쓰기\n",
    "    예시)ch09_iris_dic.hdf5"
   ]
  },
  {
   "cell_type": "code",
   "execution_count": 3,
   "id": "c258a5d7",
   "metadata": {},
   "outputs": [
    {
     "data": {
      "text/html": [
       "<div>\n",
       "<style scoped>\n",
       "    .dataframe tbody tr th:only-of-type {\n",
       "        vertical-align: middle;\n",
       "    }\n",
       "\n",
       "    .dataframe tbody tr th {\n",
       "        vertical-align: top;\n",
       "    }\n",
       "\n",
       "    .dataframe thead th {\n",
       "        text-align: right;\n",
       "    }\n",
       "</style>\n",
       "<table border=\"1\" class=\"dataframe\">\n",
       "  <thead>\n",
       "    <tr style=\"text-align: right;\">\n",
       "      <th></th>\n",
       "      <th>sepal_length</th>\n",
       "      <th>sepal_width</th>\n",
       "      <th>petal_length</th>\n",
       "      <th>petal_width</th>\n",
       "      <th>species</th>\n",
       "    </tr>\n",
       "  </thead>\n",
       "  <tbody>\n",
       "    <tr>\n",
       "      <th>0</th>\n",
       "      <td>5.1</td>\n",
       "      <td>3.5</td>\n",
       "      <td>1.4</td>\n",
       "      <td>0.2</td>\n",
       "      <td>setosa</td>\n",
       "    </tr>\n",
       "    <tr>\n",
       "      <th>1</th>\n",
       "      <td>4.9</td>\n",
       "      <td>3.0</td>\n",
       "      <td>1.4</td>\n",
       "      <td>0.2</td>\n",
       "      <td>setosa</td>\n",
       "    </tr>\n",
       "    <tr>\n",
       "      <th>2</th>\n",
       "      <td>4.7</td>\n",
       "      <td>3.2</td>\n",
       "      <td>1.3</td>\n",
       "      <td>0.2</td>\n",
       "      <td>setosa</td>\n",
       "    </tr>\n",
       "    <tr>\n",
       "      <th>3</th>\n",
       "      <td>4.6</td>\n",
       "      <td>3.1</td>\n",
       "      <td>1.5</td>\n",
       "      <td>0.2</td>\n",
       "      <td>setosa</td>\n",
       "    </tr>\n",
       "    <tr>\n",
       "      <th>4</th>\n",
       "      <td>5.0</td>\n",
       "      <td>3.6</td>\n",
       "      <td>1.4</td>\n",
       "      <td>0.2</td>\n",
       "      <td>setosa</td>\n",
       "    </tr>\n",
       "    <tr>\n",
       "      <th>...</th>\n",
       "      <td>...</td>\n",
       "      <td>...</td>\n",
       "      <td>...</td>\n",
       "      <td>...</td>\n",
       "      <td>...</td>\n",
       "    </tr>\n",
       "    <tr>\n",
       "      <th>145</th>\n",
       "      <td>6.7</td>\n",
       "      <td>3.0</td>\n",
       "      <td>5.2</td>\n",
       "      <td>2.3</td>\n",
       "      <td>virginica</td>\n",
       "    </tr>\n",
       "    <tr>\n",
       "      <th>146</th>\n",
       "      <td>6.3</td>\n",
       "      <td>2.5</td>\n",
       "      <td>5.0</td>\n",
       "      <td>1.9</td>\n",
       "      <td>virginica</td>\n",
       "    </tr>\n",
       "    <tr>\n",
       "      <th>147</th>\n",
       "      <td>6.5</td>\n",
       "      <td>3.0</td>\n",
       "      <td>5.2</td>\n",
       "      <td>2.0</td>\n",
       "      <td>virginica</td>\n",
       "    </tr>\n",
       "    <tr>\n",
       "      <th>148</th>\n",
       "      <td>6.2</td>\n",
       "      <td>3.4</td>\n",
       "      <td>5.4</td>\n",
       "      <td>2.3</td>\n",
       "      <td>virginica</td>\n",
       "    </tr>\n",
       "    <tr>\n",
       "      <th>149</th>\n",
       "      <td>5.9</td>\n",
       "      <td>3.0</td>\n",
       "      <td>5.1</td>\n",
       "      <td>1.8</td>\n",
       "      <td>virginica</td>\n",
       "    </tr>\n",
       "  </tbody>\n",
       "</table>\n",
       "<p>150 rows × 5 columns</p>\n",
       "</div>"
      ],
      "text/plain": [
       "     sepal_length  sepal_width  petal_length  petal_width    species\n",
       "0             5.1          3.5           1.4          0.2     setosa\n",
       "1             4.9          3.0           1.4          0.2     setosa\n",
       "2             4.7          3.2           1.3          0.2     setosa\n",
       "3             4.6          3.1           1.5          0.2     setosa\n",
       "4             5.0          3.6           1.4          0.2     setosa\n",
       "..            ...          ...           ...          ...        ...\n",
       "145           6.7          3.0           5.2          2.3  virginica\n",
       "146           6.3          2.5           5.0          1.9  virginica\n",
       "147           6.5          3.0           5.2          2.0  virginica\n",
       "148           6.2          3.4           5.4          2.3  virginica\n",
       "149           5.9          3.0           5.1          1.8  virginica\n",
       "\n",
       "[150 rows x 5 columns]"
      ]
     },
     "execution_count": 3,
     "metadata": {},
     "output_type": "execute_result"
    }
   ],
   "source": [
    "# seaborn 패키지 (아나콘다)\n",
    "# seaborn : 시각화 패키지, 학습을 위한 데이터셋 다수\n",
    "#sns.load_dataset(\"데이터셋이름\") : 데이터셋을 바로 불러올 수 있음 \n",
    "#iris : \n",
    "import seaborn as sns \n",
    "iris_df = sns.load_dataset('iris')\n",
    "iris_df"
   ]
  },
  {
   "cell_type": "code",
   "execution_count": 10,
   "id": "ed4a7fcb",
   "metadata": {
    "scrolled": true
   },
   "outputs": [
    {
     "data": {
      "text/html": [
       "<div>\n",
       "<style scoped>\n",
       "    .dataframe tbody tr th:only-of-type {\n",
       "        vertical-align: middle;\n",
       "    }\n",
       "\n",
       "    .dataframe tbody tr th {\n",
       "        vertical-align: top;\n",
       "    }\n",
       "\n",
       "    .dataframe thead th {\n",
       "        text-align: right;\n",
       "    }\n",
       "</style>\n",
       "<table border=\"1\" class=\"dataframe\">\n",
       "  <thead>\n",
       "    <tr style=\"text-align: right;\">\n",
       "      <th></th>\n",
       "      <th>sepal_length</th>\n",
       "      <th>sepal_width</th>\n",
       "      <th>petal_length</th>\n",
       "      <th>petal_width</th>\n",
       "      <th>species</th>\n",
       "    </tr>\n",
       "  </thead>\n",
       "  <tbody>\n",
       "    <tr>\n",
       "      <th>0</th>\n",
       "      <td>5.1</td>\n",
       "      <td>3.5</td>\n",
       "      <td>1.4</td>\n",
       "      <td>0.2</td>\n",
       "      <td>setosa</td>\n",
       "    </tr>\n",
       "    <tr>\n",
       "      <th>50</th>\n",
       "      <td>7.0</td>\n",
       "      <td>3.2</td>\n",
       "      <td>4.7</td>\n",
       "      <td>1.4</td>\n",
       "      <td>versicolor</td>\n",
       "    </tr>\n",
       "    <tr>\n",
       "      <th>100</th>\n",
       "      <td>6.3</td>\n",
       "      <td>3.3</td>\n",
       "      <td>6.0</td>\n",
       "      <td>2.5</td>\n",
       "      <td>virginica</td>\n",
       "    </tr>\n",
       "  </tbody>\n",
       "</table>\n",
       "</div>"
      ],
      "text/plain": [
       "     sepal_length  sepal_width  petal_length  petal_width     species\n",
       "0             5.1          3.5           1.4          0.2      setosa\n",
       "50            7.0          3.2           4.7          1.4  versicolor\n",
       "100           6.3          3.3           6.0          2.5   virginica"
      ]
     },
     "metadata": {},
     "output_type": "display_data"
    }
   ],
   "source": [
    "#슬라이싱 \n",
    "#데이터프레임은 print가 아닌 display로 해야한다.\n",
    "display(iris_df[::50])"
   ]
  },
  {
   "cell_type": "code",
   "execution_count": 13,
   "id": "97d36134",
   "metadata": {},
   "outputs": [],
   "source": [
    "#.to작성 후 tab을 누르면 csv,dict,hdf5등 저장할 수 있는 것들이 많음.\n",
    "# hdf5파일 데이터 프레임에 쓰기  \n",
    "iris_df.to_hdf('data/ch09_iris.hdf5', key='iris')"
   ]
  },
  {
   "cell_type": "code",
   "execution_count": 18,
   "id": "e8f6bede",
   "metadata": {},
   "outputs": [
    {
     "data": {
      "text/plain": [
       "(dict, pandas.core.frame.DataFrame)"
      ]
     },
     "execution_count": 18,
     "metadata": {},
     "output_type": "execute_result"
    }
   ],
   "source": [
    "# hdf5파일이 무슨 타입인지 확인하기\n",
    "iris_dic = iris_df.to_dict()\n",
    "type(iris_dic), type(iris_df)"
   ]
  },
  {
   "cell_type": "code",
   "execution_count": 19,
   "id": "4f84b2b0",
   "metadata": {
    "collapsed": true
   },
   "outputs": [
    {
     "data": {
      "text/plain": [
       "{'sepal_length': {0: 5.1,\n",
       "  1: 4.9,\n",
       "  2: 4.7,\n",
       "  3: 4.6,\n",
       "  4: 5.0,\n",
       "  5: 5.4,\n",
       "  6: 4.6,\n",
       "  7: 5.0,\n",
       "  8: 4.4,\n",
       "  9: 4.9,\n",
       "  10: 5.4,\n",
       "  11: 4.8,\n",
       "  12: 4.8,\n",
       "  13: 4.3,\n",
       "  14: 5.8,\n",
       "  15: 5.7,\n",
       "  16: 5.4,\n",
       "  17: 5.1,\n",
       "  18: 5.7,\n",
       "  19: 5.1,\n",
       "  20: 5.4,\n",
       "  21: 5.1,\n",
       "  22: 4.6,\n",
       "  23: 5.1,\n",
       "  24: 4.8,\n",
       "  25: 5.0,\n",
       "  26: 5.0,\n",
       "  27: 5.2,\n",
       "  28: 5.2,\n",
       "  29: 4.7,\n",
       "  30: 4.8,\n",
       "  31: 5.4,\n",
       "  32: 5.2,\n",
       "  33: 5.5,\n",
       "  34: 4.9,\n",
       "  35: 5.0,\n",
       "  36: 5.5,\n",
       "  37: 4.9,\n",
       "  38: 4.4,\n",
       "  39: 5.1,\n",
       "  40: 5.0,\n",
       "  41: 4.5,\n",
       "  42: 4.4,\n",
       "  43: 5.0,\n",
       "  44: 5.1,\n",
       "  45: 4.8,\n",
       "  46: 5.1,\n",
       "  47: 4.6,\n",
       "  48: 5.3,\n",
       "  49: 5.0,\n",
       "  50: 7.0,\n",
       "  51: 6.4,\n",
       "  52: 6.9,\n",
       "  53: 5.5,\n",
       "  54: 6.5,\n",
       "  55: 5.7,\n",
       "  56: 6.3,\n",
       "  57: 4.9,\n",
       "  58: 6.6,\n",
       "  59: 5.2,\n",
       "  60: 5.0,\n",
       "  61: 5.9,\n",
       "  62: 6.0,\n",
       "  63: 6.1,\n",
       "  64: 5.6,\n",
       "  65: 6.7,\n",
       "  66: 5.6,\n",
       "  67: 5.8,\n",
       "  68: 6.2,\n",
       "  69: 5.6,\n",
       "  70: 5.9,\n",
       "  71: 6.1,\n",
       "  72: 6.3,\n",
       "  73: 6.1,\n",
       "  74: 6.4,\n",
       "  75: 6.6,\n",
       "  76: 6.8,\n",
       "  77: 6.7,\n",
       "  78: 6.0,\n",
       "  79: 5.7,\n",
       "  80: 5.5,\n",
       "  81: 5.5,\n",
       "  82: 5.8,\n",
       "  83: 6.0,\n",
       "  84: 5.4,\n",
       "  85: 6.0,\n",
       "  86: 6.7,\n",
       "  87: 6.3,\n",
       "  88: 5.6,\n",
       "  89: 5.5,\n",
       "  90: 5.5,\n",
       "  91: 6.1,\n",
       "  92: 5.8,\n",
       "  93: 5.0,\n",
       "  94: 5.6,\n",
       "  95: 5.7,\n",
       "  96: 5.7,\n",
       "  97: 6.2,\n",
       "  98: 5.1,\n",
       "  99: 5.7,\n",
       "  100: 6.3,\n",
       "  101: 5.8,\n",
       "  102: 7.1,\n",
       "  103: 6.3,\n",
       "  104: 6.5,\n",
       "  105: 7.6,\n",
       "  106: 4.9,\n",
       "  107: 7.3,\n",
       "  108: 6.7,\n",
       "  109: 7.2,\n",
       "  110: 6.5,\n",
       "  111: 6.4,\n",
       "  112: 6.8,\n",
       "  113: 5.7,\n",
       "  114: 5.8,\n",
       "  115: 6.4,\n",
       "  116: 6.5,\n",
       "  117: 7.7,\n",
       "  118: 7.7,\n",
       "  119: 6.0,\n",
       "  120: 6.9,\n",
       "  121: 5.6,\n",
       "  122: 7.7,\n",
       "  123: 6.3,\n",
       "  124: 6.7,\n",
       "  125: 7.2,\n",
       "  126: 6.2,\n",
       "  127: 6.1,\n",
       "  128: 6.4,\n",
       "  129: 7.2,\n",
       "  130: 7.4,\n",
       "  131: 7.9,\n",
       "  132: 6.4,\n",
       "  133: 6.3,\n",
       "  134: 6.1,\n",
       "  135: 7.7,\n",
       "  136: 6.3,\n",
       "  137: 6.4,\n",
       "  138: 6.0,\n",
       "  139: 6.9,\n",
       "  140: 6.7,\n",
       "  141: 6.9,\n",
       "  142: 5.8,\n",
       "  143: 6.8,\n",
       "  144: 6.7,\n",
       "  145: 6.7,\n",
       "  146: 6.3,\n",
       "  147: 6.5,\n",
       "  148: 6.2,\n",
       "  149: 5.9},\n",
       " 'sepal_width': {0: 3.5,\n",
       "  1: 3.0,\n",
       "  2: 3.2,\n",
       "  3: 3.1,\n",
       "  4: 3.6,\n",
       "  5: 3.9,\n",
       "  6: 3.4,\n",
       "  7: 3.4,\n",
       "  8: 2.9,\n",
       "  9: 3.1,\n",
       "  10: 3.7,\n",
       "  11: 3.4,\n",
       "  12: 3.0,\n",
       "  13: 3.0,\n",
       "  14: 4.0,\n",
       "  15: 4.4,\n",
       "  16: 3.9,\n",
       "  17: 3.5,\n",
       "  18: 3.8,\n",
       "  19: 3.8,\n",
       "  20: 3.4,\n",
       "  21: 3.7,\n",
       "  22: 3.6,\n",
       "  23: 3.3,\n",
       "  24: 3.4,\n",
       "  25: 3.0,\n",
       "  26: 3.4,\n",
       "  27: 3.5,\n",
       "  28: 3.4,\n",
       "  29: 3.2,\n",
       "  30: 3.1,\n",
       "  31: 3.4,\n",
       "  32: 4.1,\n",
       "  33: 4.2,\n",
       "  34: 3.1,\n",
       "  35: 3.2,\n",
       "  36: 3.5,\n",
       "  37: 3.6,\n",
       "  38: 3.0,\n",
       "  39: 3.4,\n",
       "  40: 3.5,\n",
       "  41: 2.3,\n",
       "  42: 3.2,\n",
       "  43: 3.5,\n",
       "  44: 3.8,\n",
       "  45: 3.0,\n",
       "  46: 3.8,\n",
       "  47: 3.2,\n",
       "  48: 3.7,\n",
       "  49: 3.3,\n",
       "  50: 3.2,\n",
       "  51: 3.2,\n",
       "  52: 3.1,\n",
       "  53: 2.3,\n",
       "  54: 2.8,\n",
       "  55: 2.8,\n",
       "  56: 3.3,\n",
       "  57: 2.4,\n",
       "  58: 2.9,\n",
       "  59: 2.7,\n",
       "  60: 2.0,\n",
       "  61: 3.0,\n",
       "  62: 2.2,\n",
       "  63: 2.9,\n",
       "  64: 2.9,\n",
       "  65: 3.1,\n",
       "  66: 3.0,\n",
       "  67: 2.7,\n",
       "  68: 2.2,\n",
       "  69: 2.5,\n",
       "  70: 3.2,\n",
       "  71: 2.8,\n",
       "  72: 2.5,\n",
       "  73: 2.8,\n",
       "  74: 2.9,\n",
       "  75: 3.0,\n",
       "  76: 2.8,\n",
       "  77: 3.0,\n",
       "  78: 2.9,\n",
       "  79: 2.6,\n",
       "  80: 2.4,\n",
       "  81: 2.4,\n",
       "  82: 2.7,\n",
       "  83: 2.7,\n",
       "  84: 3.0,\n",
       "  85: 3.4,\n",
       "  86: 3.1,\n",
       "  87: 2.3,\n",
       "  88: 3.0,\n",
       "  89: 2.5,\n",
       "  90: 2.6,\n",
       "  91: 3.0,\n",
       "  92: 2.6,\n",
       "  93: 2.3,\n",
       "  94: 2.7,\n",
       "  95: 3.0,\n",
       "  96: 2.9,\n",
       "  97: 2.9,\n",
       "  98: 2.5,\n",
       "  99: 2.8,\n",
       "  100: 3.3,\n",
       "  101: 2.7,\n",
       "  102: 3.0,\n",
       "  103: 2.9,\n",
       "  104: 3.0,\n",
       "  105: 3.0,\n",
       "  106: 2.5,\n",
       "  107: 2.9,\n",
       "  108: 2.5,\n",
       "  109: 3.6,\n",
       "  110: 3.2,\n",
       "  111: 2.7,\n",
       "  112: 3.0,\n",
       "  113: 2.5,\n",
       "  114: 2.8,\n",
       "  115: 3.2,\n",
       "  116: 3.0,\n",
       "  117: 3.8,\n",
       "  118: 2.6,\n",
       "  119: 2.2,\n",
       "  120: 3.2,\n",
       "  121: 2.8,\n",
       "  122: 2.8,\n",
       "  123: 2.7,\n",
       "  124: 3.3,\n",
       "  125: 3.2,\n",
       "  126: 2.8,\n",
       "  127: 3.0,\n",
       "  128: 2.8,\n",
       "  129: 3.0,\n",
       "  130: 2.8,\n",
       "  131: 3.8,\n",
       "  132: 2.8,\n",
       "  133: 2.8,\n",
       "  134: 2.6,\n",
       "  135: 3.0,\n",
       "  136: 3.4,\n",
       "  137: 3.1,\n",
       "  138: 3.0,\n",
       "  139: 3.1,\n",
       "  140: 3.1,\n",
       "  141: 3.1,\n",
       "  142: 2.7,\n",
       "  143: 3.2,\n",
       "  144: 3.3,\n",
       "  145: 3.0,\n",
       "  146: 2.5,\n",
       "  147: 3.0,\n",
       "  148: 3.4,\n",
       "  149: 3.0},\n",
       " 'petal_length': {0: 1.4,\n",
       "  1: 1.4,\n",
       "  2: 1.3,\n",
       "  3: 1.5,\n",
       "  4: 1.4,\n",
       "  5: 1.7,\n",
       "  6: 1.4,\n",
       "  7: 1.5,\n",
       "  8: 1.4,\n",
       "  9: 1.5,\n",
       "  10: 1.5,\n",
       "  11: 1.6,\n",
       "  12: 1.4,\n",
       "  13: 1.1,\n",
       "  14: 1.2,\n",
       "  15: 1.5,\n",
       "  16: 1.3,\n",
       "  17: 1.4,\n",
       "  18: 1.7,\n",
       "  19: 1.5,\n",
       "  20: 1.7,\n",
       "  21: 1.5,\n",
       "  22: 1.0,\n",
       "  23: 1.7,\n",
       "  24: 1.9,\n",
       "  25: 1.6,\n",
       "  26: 1.6,\n",
       "  27: 1.5,\n",
       "  28: 1.4,\n",
       "  29: 1.6,\n",
       "  30: 1.6,\n",
       "  31: 1.5,\n",
       "  32: 1.5,\n",
       "  33: 1.4,\n",
       "  34: 1.5,\n",
       "  35: 1.2,\n",
       "  36: 1.3,\n",
       "  37: 1.4,\n",
       "  38: 1.3,\n",
       "  39: 1.5,\n",
       "  40: 1.3,\n",
       "  41: 1.3,\n",
       "  42: 1.3,\n",
       "  43: 1.6,\n",
       "  44: 1.9,\n",
       "  45: 1.4,\n",
       "  46: 1.6,\n",
       "  47: 1.4,\n",
       "  48: 1.5,\n",
       "  49: 1.4,\n",
       "  50: 4.7,\n",
       "  51: 4.5,\n",
       "  52: 4.9,\n",
       "  53: 4.0,\n",
       "  54: 4.6,\n",
       "  55: 4.5,\n",
       "  56: 4.7,\n",
       "  57: 3.3,\n",
       "  58: 4.6,\n",
       "  59: 3.9,\n",
       "  60: 3.5,\n",
       "  61: 4.2,\n",
       "  62: 4.0,\n",
       "  63: 4.7,\n",
       "  64: 3.6,\n",
       "  65: 4.4,\n",
       "  66: 4.5,\n",
       "  67: 4.1,\n",
       "  68: 4.5,\n",
       "  69: 3.9,\n",
       "  70: 4.8,\n",
       "  71: 4.0,\n",
       "  72: 4.9,\n",
       "  73: 4.7,\n",
       "  74: 4.3,\n",
       "  75: 4.4,\n",
       "  76: 4.8,\n",
       "  77: 5.0,\n",
       "  78: 4.5,\n",
       "  79: 3.5,\n",
       "  80: 3.8,\n",
       "  81: 3.7,\n",
       "  82: 3.9,\n",
       "  83: 5.1,\n",
       "  84: 4.5,\n",
       "  85: 4.5,\n",
       "  86: 4.7,\n",
       "  87: 4.4,\n",
       "  88: 4.1,\n",
       "  89: 4.0,\n",
       "  90: 4.4,\n",
       "  91: 4.6,\n",
       "  92: 4.0,\n",
       "  93: 3.3,\n",
       "  94: 4.2,\n",
       "  95: 4.2,\n",
       "  96: 4.2,\n",
       "  97: 4.3,\n",
       "  98: 3.0,\n",
       "  99: 4.1,\n",
       "  100: 6.0,\n",
       "  101: 5.1,\n",
       "  102: 5.9,\n",
       "  103: 5.6,\n",
       "  104: 5.8,\n",
       "  105: 6.6,\n",
       "  106: 4.5,\n",
       "  107: 6.3,\n",
       "  108: 5.8,\n",
       "  109: 6.1,\n",
       "  110: 5.1,\n",
       "  111: 5.3,\n",
       "  112: 5.5,\n",
       "  113: 5.0,\n",
       "  114: 5.1,\n",
       "  115: 5.3,\n",
       "  116: 5.5,\n",
       "  117: 6.7,\n",
       "  118: 6.9,\n",
       "  119: 5.0,\n",
       "  120: 5.7,\n",
       "  121: 4.9,\n",
       "  122: 6.7,\n",
       "  123: 4.9,\n",
       "  124: 5.7,\n",
       "  125: 6.0,\n",
       "  126: 4.8,\n",
       "  127: 4.9,\n",
       "  128: 5.6,\n",
       "  129: 5.8,\n",
       "  130: 6.1,\n",
       "  131: 6.4,\n",
       "  132: 5.6,\n",
       "  133: 5.1,\n",
       "  134: 5.6,\n",
       "  135: 6.1,\n",
       "  136: 5.6,\n",
       "  137: 5.5,\n",
       "  138: 4.8,\n",
       "  139: 5.4,\n",
       "  140: 5.6,\n",
       "  141: 5.1,\n",
       "  142: 5.1,\n",
       "  143: 5.9,\n",
       "  144: 5.7,\n",
       "  145: 5.2,\n",
       "  146: 5.0,\n",
       "  147: 5.2,\n",
       "  148: 5.4,\n",
       "  149: 5.1},\n",
       " 'petal_width': {0: 0.2,\n",
       "  1: 0.2,\n",
       "  2: 0.2,\n",
       "  3: 0.2,\n",
       "  4: 0.2,\n",
       "  5: 0.4,\n",
       "  6: 0.3,\n",
       "  7: 0.2,\n",
       "  8: 0.2,\n",
       "  9: 0.1,\n",
       "  10: 0.2,\n",
       "  11: 0.2,\n",
       "  12: 0.1,\n",
       "  13: 0.1,\n",
       "  14: 0.2,\n",
       "  15: 0.4,\n",
       "  16: 0.4,\n",
       "  17: 0.3,\n",
       "  18: 0.3,\n",
       "  19: 0.3,\n",
       "  20: 0.2,\n",
       "  21: 0.4,\n",
       "  22: 0.2,\n",
       "  23: 0.5,\n",
       "  24: 0.2,\n",
       "  25: 0.2,\n",
       "  26: 0.4,\n",
       "  27: 0.2,\n",
       "  28: 0.2,\n",
       "  29: 0.2,\n",
       "  30: 0.2,\n",
       "  31: 0.4,\n",
       "  32: 0.1,\n",
       "  33: 0.2,\n",
       "  34: 0.2,\n",
       "  35: 0.2,\n",
       "  36: 0.2,\n",
       "  37: 0.1,\n",
       "  38: 0.2,\n",
       "  39: 0.2,\n",
       "  40: 0.3,\n",
       "  41: 0.3,\n",
       "  42: 0.2,\n",
       "  43: 0.6,\n",
       "  44: 0.4,\n",
       "  45: 0.3,\n",
       "  46: 0.2,\n",
       "  47: 0.2,\n",
       "  48: 0.2,\n",
       "  49: 0.2,\n",
       "  50: 1.4,\n",
       "  51: 1.5,\n",
       "  52: 1.5,\n",
       "  53: 1.3,\n",
       "  54: 1.5,\n",
       "  55: 1.3,\n",
       "  56: 1.6,\n",
       "  57: 1.0,\n",
       "  58: 1.3,\n",
       "  59: 1.4,\n",
       "  60: 1.0,\n",
       "  61: 1.5,\n",
       "  62: 1.0,\n",
       "  63: 1.4,\n",
       "  64: 1.3,\n",
       "  65: 1.4,\n",
       "  66: 1.5,\n",
       "  67: 1.0,\n",
       "  68: 1.5,\n",
       "  69: 1.1,\n",
       "  70: 1.8,\n",
       "  71: 1.3,\n",
       "  72: 1.5,\n",
       "  73: 1.2,\n",
       "  74: 1.3,\n",
       "  75: 1.4,\n",
       "  76: 1.4,\n",
       "  77: 1.7,\n",
       "  78: 1.5,\n",
       "  79: 1.0,\n",
       "  80: 1.1,\n",
       "  81: 1.0,\n",
       "  82: 1.2,\n",
       "  83: 1.6,\n",
       "  84: 1.5,\n",
       "  85: 1.6,\n",
       "  86: 1.5,\n",
       "  87: 1.3,\n",
       "  88: 1.3,\n",
       "  89: 1.3,\n",
       "  90: 1.2,\n",
       "  91: 1.4,\n",
       "  92: 1.2,\n",
       "  93: 1.0,\n",
       "  94: 1.3,\n",
       "  95: 1.2,\n",
       "  96: 1.3,\n",
       "  97: 1.3,\n",
       "  98: 1.1,\n",
       "  99: 1.3,\n",
       "  100: 2.5,\n",
       "  101: 1.9,\n",
       "  102: 2.1,\n",
       "  103: 1.8,\n",
       "  104: 2.2,\n",
       "  105: 2.1,\n",
       "  106: 1.7,\n",
       "  107: 1.8,\n",
       "  108: 1.8,\n",
       "  109: 2.5,\n",
       "  110: 2.0,\n",
       "  111: 1.9,\n",
       "  112: 2.1,\n",
       "  113: 2.0,\n",
       "  114: 2.4,\n",
       "  115: 2.3,\n",
       "  116: 1.8,\n",
       "  117: 2.2,\n",
       "  118: 2.3,\n",
       "  119: 1.5,\n",
       "  120: 2.3,\n",
       "  121: 2.0,\n",
       "  122: 2.0,\n",
       "  123: 1.8,\n",
       "  124: 2.1,\n",
       "  125: 1.8,\n",
       "  126: 1.8,\n",
       "  127: 1.8,\n",
       "  128: 2.1,\n",
       "  129: 1.6,\n",
       "  130: 1.9,\n",
       "  131: 2.0,\n",
       "  132: 2.2,\n",
       "  133: 1.5,\n",
       "  134: 1.4,\n",
       "  135: 2.3,\n",
       "  136: 2.4,\n",
       "  137: 1.8,\n",
       "  138: 1.8,\n",
       "  139: 2.1,\n",
       "  140: 2.4,\n",
       "  141: 2.3,\n",
       "  142: 1.9,\n",
       "  143: 2.3,\n",
       "  144: 2.5,\n",
       "  145: 2.3,\n",
       "  146: 1.9,\n",
       "  147: 2.0,\n",
       "  148: 2.3,\n",
       "  149: 1.8},\n",
       " 'species': {0: 'setosa',\n",
       "  1: 'setosa',\n",
       "  2: 'setosa',\n",
       "  3: 'setosa',\n",
       "  4: 'setosa',\n",
       "  5: 'setosa',\n",
       "  6: 'setosa',\n",
       "  7: 'setosa',\n",
       "  8: 'setosa',\n",
       "  9: 'setosa',\n",
       "  10: 'setosa',\n",
       "  11: 'setosa',\n",
       "  12: 'setosa',\n",
       "  13: 'setosa',\n",
       "  14: 'setosa',\n",
       "  15: 'setosa',\n",
       "  16: 'setosa',\n",
       "  17: 'setosa',\n",
       "  18: 'setosa',\n",
       "  19: 'setosa',\n",
       "  20: 'setosa',\n",
       "  21: 'setosa',\n",
       "  22: 'setosa',\n",
       "  23: 'setosa',\n",
       "  24: 'setosa',\n",
       "  25: 'setosa',\n",
       "  26: 'setosa',\n",
       "  27: 'setosa',\n",
       "  28: 'setosa',\n",
       "  29: 'setosa',\n",
       "  30: 'setosa',\n",
       "  31: 'setosa',\n",
       "  32: 'setosa',\n",
       "  33: 'setosa',\n",
       "  34: 'setosa',\n",
       "  35: 'setosa',\n",
       "  36: 'setosa',\n",
       "  37: 'setosa',\n",
       "  38: 'setosa',\n",
       "  39: 'setosa',\n",
       "  40: 'setosa',\n",
       "  41: 'setosa',\n",
       "  42: 'setosa',\n",
       "  43: 'setosa',\n",
       "  44: 'setosa',\n",
       "  45: 'setosa',\n",
       "  46: 'setosa',\n",
       "  47: 'setosa',\n",
       "  48: 'setosa',\n",
       "  49: 'setosa',\n",
       "  50: 'versicolor',\n",
       "  51: 'versicolor',\n",
       "  52: 'versicolor',\n",
       "  53: 'versicolor',\n",
       "  54: 'versicolor',\n",
       "  55: 'versicolor',\n",
       "  56: 'versicolor',\n",
       "  57: 'versicolor',\n",
       "  58: 'versicolor',\n",
       "  59: 'versicolor',\n",
       "  60: 'versicolor',\n",
       "  61: 'versicolor',\n",
       "  62: 'versicolor',\n",
       "  63: 'versicolor',\n",
       "  64: 'versicolor',\n",
       "  65: 'versicolor',\n",
       "  66: 'versicolor',\n",
       "  67: 'versicolor',\n",
       "  68: 'versicolor',\n",
       "  69: 'versicolor',\n",
       "  70: 'versicolor',\n",
       "  71: 'versicolor',\n",
       "  72: 'versicolor',\n",
       "  73: 'versicolor',\n",
       "  74: 'versicolor',\n",
       "  75: 'versicolor',\n",
       "  76: 'versicolor',\n",
       "  77: 'versicolor',\n",
       "  78: 'versicolor',\n",
       "  79: 'versicolor',\n",
       "  80: 'versicolor',\n",
       "  81: 'versicolor',\n",
       "  82: 'versicolor',\n",
       "  83: 'versicolor',\n",
       "  84: 'versicolor',\n",
       "  85: 'versicolor',\n",
       "  86: 'versicolor',\n",
       "  87: 'versicolor',\n",
       "  88: 'versicolor',\n",
       "  89: 'versicolor',\n",
       "  90: 'versicolor',\n",
       "  91: 'versicolor',\n",
       "  92: 'versicolor',\n",
       "  93: 'versicolor',\n",
       "  94: 'versicolor',\n",
       "  95: 'versicolor',\n",
       "  96: 'versicolor',\n",
       "  97: 'versicolor',\n",
       "  98: 'versicolor',\n",
       "  99: 'versicolor',\n",
       "  100: 'virginica',\n",
       "  101: 'virginica',\n",
       "  102: 'virginica',\n",
       "  103: 'virginica',\n",
       "  104: 'virginica',\n",
       "  105: 'virginica',\n",
       "  106: 'virginica',\n",
       "  107: 'virginica',\n",
       "  108: 'virginica',\n",
       "  109: 'virginica',\n",
       "  110: 'virginica',\n",
       "  111: 'virginica',\n",
       "  112: 'virginica',\n",
       "  113: 'virginica',\n",
       "  114: 'virginica',\n",
       "  115: 'virginica',\n",
       "  116: 'virginica',\n",
       "  117: 'virginica',\n",
       "  118: 'virginica',\n",
       "  119: 'virginica',\n",
       "  120: 'virginica',\n",
       "  121: 'virginica',\n",
       "  122: 'virginica',\n",
       "  123: 'virginica',\n",
       "  124: 'virginica',\n",
       "  125: 'virginica',\n",
       "  126: 'virginica',\n",
       "  127: 'virginica',\n",
       "  128: 'virginica',\n",
       "  129: 'virginica',\n",
       "  130: 'virginica',\n",
       "  131: 'virginica',\n",
       "  132: 'virginica',\n",
       "  133: 'virginica',\n",
       "  134: 'virginica',\n",
       "  135: 'virginica',\n",
       "  136: 'virginica',\n",
       "  137: 'virginica',\n",
       "  138: 'virginica',\n",
       "  139: 'virginica',\n",
       "  140: 'virginica',\n",
       "  141: 'virginica',\n",
       "  142: 'virginica',\n",
       "  143: 'virginica',\n",
       "  144: 'virginica',\n",
       "  145: 'virginica',\n",
       "  146: 'virginica',\n",
       "  147: 'virginica',\n",
       "  148: 'virginica',\n",
       "  149: 'virginica'}}"
      ]
     },
     "execution_count": 19,
     "metadata": {},
     "output_type": "execute_result"
    }
   ],
   "source": [
    "iris_dic"
   ]
  },
  {
   "cell_type": "code",
   "execution_count": 22,
   "id": "ad913836",
   "metadata": {
    "collapsed": true
   },
   "outputs": [
    {
     "name": "stdout",
     "output_type": "stream",
     "text": [
      "그룹명 : sepal_length\n",
      "{0: 5.1, 1: 4.9, 2: 4.7, 3: 4.6, 4: 5.0, 5: 5.4, 6: 4.6, 7: 5.0, 8: 4.4, 9: 4.9, 10: 5.4, 11: 4.8, 12: 4.8, 13: 4.3, 14: 5.8, 15: 5.7, 16: 5.4, 17: 5.1, 18: 5.7, 19: 5.1, 20: 5.4, 21: 5.1, 22: 4.6, 23: 5.1, 24: 4.8, 25: 5.0, 26: 5.0, 27: 5.2, 28: 5.2, 29: 4.7, 30: 4.8, 31: 5.4, 32: 5.2, 33: 5.5, 34: 4.9, 35: 5.0, 36: 5.5, 37: 4.9, 38: 4.4, 39: 5.1, 40: 5.0, 41: 4.5, 42: 4.4, 43: 5.0, 44: 5.1, 45: 4.8, 46: 5.1, 47: 4.6, 48: 5.3, 49: 5.0, 50: 7.0, 51: 6.4, 52: 6.9, 53: 5.5, 54: 6.5, 55: 5.7, 56: 6.3, 57: 4.9, 58: 6.6, 59: 5.2, 60: 5.0, 61: 5.9, 62: 6.0, 63: 6.1, 64: 5.6, 65: 6.7, 66: 5.6, 67: 5.8, 68: 6.2, 69: 5.6, 70: 5.9, 71: 6.1, 72: 6.3, 73: 6.1, 74: 6.4, 75: 6.6, 76: 6.8, 77: 6.7, 78: 6.0, 79: 5.7, 80: 5.5, 81: 5.5, 82: 5.8, 83: 6.0, 84: 5.4, 85: 6.0, 86: 6.7, 87: 6.3, 88: 5.6, 89: 5.5, 90: 5.5, 91: 6.1, 92: 5.8, 93: 5.0, 94: 5.6, 95: 5.7, 96: 5.7, 97: 6.2, 98: 5.1, 99: 5.7, 100: 6.3, 101: 5.8, 102: 7.1, 103: 6.3, 104: 6.5, 105: 7.6, 106: 4.9, 107: 7.3, 108: 6.7, 109: 7.2, 110: 6.5, 111: 6.4, 112: 6.8, 113: 5.7, 114: 5.8, 115: 6.4, 116: 6.5, 117: 7.7, 118: 7.7, 119: 6.0, 120: 6.9, 121: 5.6, 122: 7.7, 123: 6.3, 124: 6.7, 125: 7.2, 126: 6.2, 127: 6.1, 128: 6.4, 129: 7.2, 130: 7.4, 131: 7.9, 132: 6.4, 133: 6.3, 134: 6.1, 135: 7.7, 136: 6.3, 137: 6.4, 138: 6.0, 139: 6.9, 140: 6.7, 141: 6.9, 142: 5.8, 143: 6.8, 144: 6.7, 145: 6.7, 146: 6.3, 147: 6.5, 148: 6.2, 149: 5.9}\n",
      "그룹명 : sepal_width\n",
      "{0: 3.5, 1: 3.0, 2: 3.2, 3: 3.1, 4: 3.6, 5: 3.9, 6: 3.4, 7: 3.4, 8: 2.9, 9: 3.1, 10: 3.7, 11: 3.4, 12: 3.0, 13: 3.0, 14: 4.0, 15: 4.4, 16: 3.9, 17: 3.5, 18: 3.8, 19: 3.8, 20: 3.4, 21: 3.7, 22: 3.6, 23: 3.3, 24: 3.4, 25: 3.0, 26: 3.4, 27: 3.5, 28: 3.4, 29: 3.2, 30: 3.1, 31: 3.4, 32: 4.1, 33: 4.2, 34: 3.1, 35: 3.2, 36: 3.5, 37: 3.6, 38: 3.0, 39: 3.4, 40: 3.5, 41: 2.3, 42: 3.2, 43: 3.5, 44: 3.8, 45: 3.0, 46: 3.8, 47: 3.2, 48: 3.7, 49: 3.3, 50: 3.2, 51: 3.2, 52: 3.1, 53: 2.3, 54: 2.8, 55: 2.8, 56: 3.3, 57: 2.4, 58: 2.9, 59: 2.7, 60: 2.0, 61: 3.0, 62: 2.2, 63: 2.9, 64: 2.9, 65: 3.1, 66: 3.0, 67: 2.7, 68: 2.2, 69: 2.5, 70: 3.2, 71: 2.8, 72: 2.5, 73: 2.8, 74: 2.9, 75: 3.0, 76: 2.8, 77: 3.0, 78: 2.9, 79: 2.6, 80: 2.4, 81: 2.4, 82: 2.7, 83: 2.7, 84: 3.0, 85: 3.4, 86: 3.1, 87: 2.3, 88: 3.0, 89: 2.5, 90: 2.6, 91: 3.0, 92: 2.6, 93: 2.3, 94: 2.7, 95: 3.0, 96: 2.9, 97: 2.9, 98: 2.5, 99: 2.8, 100: 3.3, 101: 2.7, 102: 3.0, 103: 2.9, 104: 3.0, 105: 3.0, 106: 2.5, 107: 2.9, 108: 2.5, 109: 3.6, 110: 3.2, 111: 2.7, 112: 3.0, 113: 2.5, 114: 2.8, 115: 3.2, 116: 3.0, 117: 3.8, 118: 2.6, 119: 2.2, 120: 3.2, 121: 2.8, 122: 2.8, 123: 2.7, 124: 3.3, 125: 3.2, 126: 2.8, 127: 3.0, 128: 2.8, 129: 3.0, 130: 2.8, 131: 3.8, 132: 2.8, 133: 2.8, 134: 2.6, 135: 3.0, 136: 3.4, 137: 3.1, 138: 3.0, 139: 3.1, 140: 3.1, 141: 3.1, 142: 2.7, 143: 3.2, 144: 3.3, 145: 3.0, 146: 2.5, 147: 3.0, 148: 3.4, 149: 3.0}\n",
      "그룹명 : petal_length\n",
      "{0: 1.4, 1: 1.4, 2: 1.3, 3: 1.5, 4: 1.4, 5: 1.7, 6: 1.4, 7: 1.5, 8: 1.4, 9: 1.5, 10: 1.5, 11: 1.6, 12: 1.4, 13: 1.1, 14: 1.2, 15: 1.5, 16: 1.3, 17: 1.4, 18: 1.7, 19: 1.5, 20: 1.7, 21: 1.5, 22: 1.0, 23: 1.7, 24: 1.9, 25: 1.6, 26: 1.6, 27: 1.5, 28: 1.4, 29: 1.6, 30: 1.6, 31: 1.5, 32: 1.5, 33: 1.4, 34: 1.5, 35: 1.2, 36: 1.3, 37: 1.4, 38: 1.3, 39: 1.5, 40: 1.3, 41: 1.3, 42: 1.3, 43: 1.6, 44: 1.9, 45: 1.4, 46: 1.6, 47: 1.4, 48: 1.5, 49: 1.4, 50: 4.7, 51: 4.5, 52: 4.9, 53: 4.0, 54: 4.6, 55: 4.5, 56: 4.7, 57: 3.3, 58: 4.6, 59: 3.9, 60: 3.5, 61: 4.2, 62: 4.0, 63: 4.7, 64: 3.6, 65: 4.4, 66: 4.5, 67: 4.1, 68: 4.5, 69: 3.9, 70: 4.8, 71: 4.0, 72: 4.9, 73: 4.7, 74: 4.3, 75: 4.4, 76: 4.8, 77: 5.0, 78: 4.5, 79: 3.5, 80: 3.8, 81: 3.7, 82: 3.9, 83: 5.1, 84: 4.5, 85: 4.5, 86: 4.7, 87: 4.4, 88: 4.1, 89: 4.0, 90: 4.4, 91: 4.6, 92: 4.0, 93: 3.3, 94: 4.2, 95: 4.2, 96: 4.2, 97: 4.3, 98: 3.0, 99: 4.1, 100: 6.0, 101: 5.1, 102: 5.9, 103: 5.6, 104: 5.8, 105: 6.6, 106: 4.5, 107: 6.3, 108: 5.8, 109: 6.1, 110: 5.1, 111: 5.3, 112: 5.5, 113: 5.0, 114: 5.1, 115: 5.3, 116: 5.5, 117: 6.7, 118: 6.9, 119: 5.0, 120: 5.7, 121: 4.9, 122: 6.7, 123: 4.9, 124: 5.7, 125: 6.0, 126: 4.8, 127: 4.9, 128: 5.6, 129: 5.8, 130: 6.1, 131: 6.4, 132: 5.6, 133: 5.1, 134: 5.6, 135: 6.1, 136: 5.6, 137: 5.5, 138: 4.8, 139: 5.4, 140: 5.6, 141: 5.1, 142: 5.1, 143: 5.9, 144: 5.7, 145: 5.2, 146: 5.0, 147: 5.2, 148: 5.4, 149: 5.1}\n",
      "그룹명 : petal_width\n",
      "{0: 0.2, 1: 0.2, 2: 0.2, 3: 0.2, 4: 0.2, 5: 0.4, 6: 0.3, 7: 0.2, 8: 0.2, 9: 0.1, 10: 0.2, 11: 0.2, 12: 0.1, 13: 0.1, 14: 0.2, 15: 0.4, 16: 0.4, 17: 0.3, 18: 0.3, 19: 0.3, 20: 0.2, 21: 0.4, 22: 0.2, 23: 0.5, 24: 0.2, 25: 0.2, 26: 0.4, 27: 0.2, 28: 0.2, 29: 0.2, 30: 0.2, 31: 0.4, 32: 0.1, 33: 0.2, 34: 0.2, 35: 0.2, 36: 0.2, 37: 0.1, 38: 0.2, 39: 0.2, 40: 0.3, 41: 0.3, 42: 0.2, 43: 0.6, 44: 0.4, 45: 0.3, 46: 0.2, 47: 0.2, 48: 0.2, 49: 0.2, 50: 1.4, 51: 1.5, 52: 1.5, 53: 1.3, 54: 1.5, 55: 1.3, 56: 1.6, 57: 1.0, 58: 1.3, 59: 1.4, 60: 1.0, 61: 1.5, 62: 1.0, 63: 1.4, 64: 1.3, 65: 1.4, 66: 1.5, 67: 1.0, 68: 1.5, 69: 1.1, 70: 1.8, 71: 1.3, 72: 1.5, 73: 1.2, 74: 1.3, 75: 1.4, 76: 1.4, 77: 1.7, 78: 1.5, 79: 1.0, 80: 1.1, 81: 1.0, 82: 1.2, 83: 1.6, 84: 1.5, 85: 1.6, 86: 1.5, 87: 1.3, 88: 1.3, 89: 1.3, 90: 1.2, 91: 1.4, 92: 1.2, 93: 1.0, 94: 1.3, 95: 1.2, 96: 1.3, 97: 1.3, 98: 1.1, 99: 1.3, 100: 2.5, 101: 1.9, 102: 2.1, 103: 1.8, 104: 2.2, 105: 2.1, 106: 1.7, 107: 1.8, 108: 1.8, 109: 2.5, 110: 2.0, 111: 1.9, 112: 2.1, 113: 2.0, 114: 2.4, 115: 2.3, 116: 1.8, 117: 2.2, 118: 2.3, 119: 1.5, 120: 2.3, 121: 2.0, 122: 2.0, 123: 1.8, 124: 2.1, 125: 1.8, 126: 1.8, 127: 1.8, 128: 2.1, 129: 1.6, 130: 1.9, 131: 2.0, 132: 2.2, 133: 1.5, 134: 1.4, 135: 2.3, 136: 2.4, 137: 1.8, 138: 1.8, 139: 2.1, 140: 2.4, 141: 2.3, 142: 1.9, 143: 2.3, 144: 2.5, 145: 2.3, 146: 1.9, 147: 2.0, 148: 2.3, 149: 1.8}\n",
      "그룹명 : species\n",
      "{0: 'setosa', 1: 'setosa', 2: 'setosa', 3: 'setosa', 4: 'setosa', 5: 'setosa', 6: 'setosa', 7: 'setosa', 8: 'setosa', 9: 'setosa', 10: 'setosa', 11: 'setosa', 12: 'setosa', 13: 'setosa', 14: 'setosa', 15: 'setosa', 16: 'setosa', 17: 'setosa', 18: 'setosa', 19: 'setosa', 20: 'setosa', 21: 'setosa', 22: 'setosa', 23: 'setosa', 24: 'setosa', 25: 'setosa', 26: 'setosa', 27: 'setosa', 28: 'setosa', 29: 'setosa', 30: 'setosa', 31: 'setosa', 32: 'setosa', 33: 'setosa', 34: 'setosa', 35: 'setosa', 36: 'setosa', 37: 'setosa', 38: 'setosa', 39: 'setosa', 40: 'setosa', 41: 'setosa', 42: 'setosa', 43: 'setosa', 44: 'setosa', 45: 'setosa', 46: 'setosa', 47: 'setosa', 48: 'setosa', 49: 'setosa', 50: 'versicolor', 51: 'versicolor', 52: 'versicolor', 53: 'versicolor', 54: 'versicolor', 55: 'versicolor', 56: 'versicolor', 57: 'versicolor', 58: 'versicolor', 59: 'versicolor', 60: 'versicolor', 61: 'versicolor', 62: 'versicolor', 63: 'versicolor', 64: 'versicolor', 65: 'versicolor', 66: 'versicolor', 67: 'versicolor', 68: 'versicolor', 69: 'versicolor', 70: 'versicolor', 71: 'versicolor', 72: 'versicolor', 73: 'versicolor', 74: 'versicolor', 75: 'versicolor', 76: 'versicolor', 77: 'versicolor', 78: 'versicolor', 79: 'versicolor', 80: 'versicolor', 81: 'versicolor', 82: 'versicolor', 83: 'versicolor', 84: 'versicolor', 85: 'versicolor', 86: 'versicolor', 87: 'versicolor', 88: 'versicolor', 89: 'versicolor', 90: 'versicolor', 91: 'versicolor', 92: 'versicolor', 93: 'versicolor', 94: 'versicolor', 95: 'versicolor', 96: 'versicolor', 97: 'versicolor', 98: 'versicolor', 99: 'versicolor', 100: 'virginica', 101: 'virginica', 102: 'virginica', 103: 'virginica', 104: 'virginica', 105: 'virginica', 106: 'virginica', 107: 'virginica', 108: 'virginica', 109: 'virginica', 110: 'virginica', 111: 'virginica', 112: 'virginica', 113: 'virginica', 114: 'virginica', 115: 'virginica', 116: 'virginica', 117: 'virginica', 118: 'virginica', 119: 'virginica', 120: 'virginica', 121: 'virginica', 122: 'virginica', 123: 'virginica', 124: 'virginica', 125: 'virginica', 126: 'virginica', 127: 'virginica', 128: 'virginica', 129: 'virginica', 130: 'virginica', 131: 'virginica', 132: 'virginica', 133: 'virginica', 134: 'virginica', 135: 'virginica', 136: 'virginica', 137: 'virginica', 138: 'virginica', 139: 'virginica', 140: 'virginica', 141: 'virginica', 142: 'virginica', 143: 'virginica', 144: 'virginica', 145: 'virginica', 146: 'virginica', 147: 'virginica', 148: 'virginica', 149: 'virginica'}\n"
     ]
    }
   ],
   "source": [
    "for group, value in iris_dic.items(): #키값이랑 벨류값이 나눠져서 뿌려짐\n",
    "    print('그룹명 :',group)\n",
    "    print(value)    "
   ]
  },
  {
   "cell_type": "code",
   "execution_count": 29,
   "id": "efc8f629",
   "metadata": {
    "collapsed": true
   },
   "outputs": [
    {
     "name": "stdout",
     "output_type": "stream",
     "text": [
      "그룹명 : sepal_length\n",
      "0:5.1\t1:4.9\t2:4.7\t3:4.6\t4:5.0\t5:5.4\t6:4.6\t7:5.0\t8:4.4\t9:4.9\t10:5.4\t11:4.8\t12:4.8\t13:4.3\t14:5.8\t15:5.7\t16:5.4\t17:5.1\t18:5.7\t19:5.1\t20:5.4\t21:5.1\t22:4.6\t23:5.1\t24:4.8\t25:5.0\t26:5.0\t27:5.2\t28:5.2\t29:4.7\t30:4.8\t31:5.4\t32:5.2\t33:5.5\t34:4.9\t35:5.0\t36:5.5\t37:4.9\t38:4.4\t39:5.1\t40:5.0\t41:4.5\t42:4.4\t43:5.0\t44:5.1\t45:4.8\t46:5.1\t47:4.6\t48:5.3\t49:5.0\t50:7.0\t51:6.4\t52:6.9\t53:5.5\t54:6.5\t55:5.7\t56:6.3\t57:4.9\t58:6.6\t59:5.2\t60:5.0\t61:5.9\t62:6.0\t63:6.1\t64:5.6\t65:6.7\t66:5.6\t67:5.8\t68:6.2\t69:5.6\t70:5.9\t71:6.1\t72:6.3\t73:6.1\t74:6.4\t75:6.6\t76:6.8\t77:6.7\t78:6.0\t79:5.7\t80:5.5\t81:5.5\t82:5.8\t83:6.0\t84:5.4\t85:6.0\t86:6.7\t87:6.3\t88:5.6\t89:5.5\t90:5.5\t91:6.1\t92:5.8\t93:5.0\t94:5.6\t95:5.7\t96:5.7\t97:6.2\t98:5.1\t99:5.7\t100:6.3\t101:5.8\t102:7.1\t103:6.3\t104:6.5\t105:7.6\t106:4.9\t107:7.3\t108:6.7\t109:7.2\t110:6.5\t111:6.4\t112:6.8\t113:5.7\t114:5.8\t115:6.4\t116:6.5\t117:7.7\t118:7.7\t119:6.0\t120:6.9\t121:5.6\t122:7.7\t123:6.3\t124:6.7\t125:7.2\t126:6.2\t127:6.1\t128:6.4\t129:7.2\t130:7.4\t131:7.9\t132:6.4\t133:6.3\t134:6.1\t135:7.7\t136:6.3\t137:6.4\t138:6.0\t139:6.9\t140:6.7\t141:6.9\t142:5.8\t143:6.8\t144:6.7\t145:6.7\t146:6.3\t147:6.5\t148:6.2\t149:5.9\t\n",
      "그룹명 : sepal_width\n",
      "0:3.5\t1:3.0\t2:3.2\t3:3.1\t4:3.6\t5:3.9\t6:3.4\t7:3.4\t8:2.9\t9:3.1\t10:3.7\t11:3.4\t12:3.0\t13:3.0\t14:4.0\t15:4.4\t16:3.9\t17:3.5\t18:3.8\t19:3.8\t20:3.4\t21:3.7\t22:3.6\t23:3.3\t24:3.4\t25:3.0\t26:3.4\t27:3.5\t28:3.4\t29:3.2\t30:3.1\t31:3.4\t32:4.1\t33:4.2\t34:3.1\t35:3.2\t36:3.5\t37:3.6\t38:3.0\t39:3.4\t40:3.5\t41:2.3\t42:3.2\t43:3.5\t44:3.8\t45:3.0\t46:3.8\t47:3.2\t48:3.7\t49:3.3\t50:3.2\t51:3.2\t52:3.1\t53:2.3\t54:2.8\t55:2.8\t56:3.3\t57:2.4\t58:2.9\t59:2.7\t60:2.0\t61:3.0\t62:2.2\t63:2.9\t64:2.9\t65:3.1\t66:3.0\t67:2.7\t68:2.2\t69:2.5\t70:3.2\t71:2.8\t72:2.5\t73:2.8\t74:2.9\t75:3.0\t76:2.8\t77:3.0\t78:2.9\t79:2.6\t80:2.4\t81:2.4\t82:2.7\t83:2.7\t84:3.0\t85:3.4\t86:3.1\t87:2.3\t88:3.0\t89:2.5\t90:2.6\t91:3.0\t92:2.6\t93:2.3\t94:2.7\t95:3.0\t96:2.9\t97:2.9\t98:2.5\t99:2.8\t100:3.3\t101:2.7\t102:3.0\t103:2.9\t104:3.0\t105:3.0\t106:2.5\t107:2.9\t108:2.5\t109:3.6\t110:3.2\t111:2.7\t112:3.0\t113:2.5\t114:2.8\t115:3.2\t116:3.0\t117:3.8\t118:2.6\t119:2.2\t120:3.2\t121:2.8\t122:2.8\t123:2.7\t124:3.3\t125:3.2\t126:2.8\t127:3.0\t128:2.8\t129:3.0\t130:2.8\t131:3.8\t132:2.8\t133:2.8\t134:2.6\t135:3.0\t136:3.4\t137:3.1\t138:3.0\t139:3.1\t140:3.1\t141:3.1\t142:2.7\t143:3.2\t144:3.3\t145:3.0\t146:2.5\t147:3.0\t148:3.4\t149:3.0\t\n",
      "그룹명 : petal_length\n",
      "0:1.4\t1:1.4\t2:1.3\t3:1.5\t4:1.4\t5:1.7\t6:1.4\t7:1.5\t8:1.4\t9:1.5\t10:1.5\t11:1.6\t12:1.4\t13:1.1\t14:1.2\t15:1.5\t16:1.3\t17:1.4\t18:1.7\t19:1.5\t20:1.7\t21:1.5\t22:1.0\t23:1.7\t24:1.9\t25:1.6\t26:1.6\t27:1.5\t28:1.4\t29:1.6\t30:1.6\t31:1.5\t32:1.5\t33:1.4\t34:1.5\t35:1.2\t36:1.3\t37:1.4\t38:1.3\t39:1.5\t40:1.3\t41:1.3\t42:1.3\t43:1.6\t44:1.9\t45:1.4\t46:1.6\t47:1.4\t48:1.5\t49:1.4\t50:4.7\t51:4.5\t52:4.9\t53:4.0\t54:4.6\t55:4.5\t56:4.7\t57:3.3\t58:4.6\t59:3.9\t60:3.5\t61:4.2\t62:4.0\t63:4.7\t64:3.6\t65:4.4\t66:4.5\t67:4.1\t68:4.5\t69:3.9\t70:4.8\t71:4.0\t72:4.9\t73:4.7\t74:4.3\t75:4.4\t76:4.8\t77:5.0\t78:4.5\t79:3.5\t80:3.8\t81:3.7\t82:3.9\t83:5.1\t84:4.5\t85:4.5\t86:4.7\t87:4.4\t88:4.1\t89:4.0\t90:4.4\t91:4.6\t92:4.0\t93:3.3\t94:4.2\t95:4.2\t96:4.2\t97:4.3\t98:3.0\t99:4.1\t100:6.0\t101:5.1\t102:5.9\t103:5.6\t104:5.8\t105:6.6\t106:4.5\t107:6.3\t108:5.8\t109:6.1\t110:5.1\t111:5.3\t112:5.5\t113:5.0\t114:5.1\t115:5.3\t116:5.5\t117:6.7\t118:6.9\t119:5.0\t120:5.7\t121:4.9\t122:6.7\t123:4.9\t124:5.7\t125:6.0\t126:4.8\t127:4.9\t128:5.6\t129:5.8\t130:6.1\t131:6.4\t132:5.6\t133:5.1\t134:5.6\t135:6.1\t136:5.6\t137:5.5\t138:4.8\t139:5.4\t140:5.6\t141:5.1\t142:5.1\t143:5.9\t144:5.7\t145:5.2\t146:5.0\t147:5.2\t148:5.4\t149:5.1\t\n",
      "그룹명 : petal_width\n",
      "0:0.2\t1:0.2\t2:0.2\t3:0.2\t4:0.2\t5:0.4\t6:0.3\t7:0.2\t8:0.2\t9:0.1\t10:0.2\t11:0.2\t12:0.1\t13:0.1\t14:0.2\t15:0.4\t16:0.4\t17:0.3\t18:0.3\t19:0.3\t20:0.2\t21:0.4\t22:0.2\t23:0.5\t24:0.2\t25:0.2\t26:0.4\t27:0.2\t28:0.2\t29:0.2\t30:0.2\t31:0.4\t32:0.1\t33:0.2\t34:0.2\t35:0.2\t36:0.2\t37:0.1\t38:0.2\t39:0.2\t40:0.3\t41:0.3\t42:0.2\t43:0.6\t44:0.4\t45:0.3\t46:0.2\t47:0.2\t48:0.2\t49:0.2\t50:1.4\t51:1.5\t52:1.5\t53:1.3\t54:1.5\t55:1.3\t56:1.6\t57:1.0\t58:1.3\t59:1.4\t60:1.0\t61:1.5\t62:1.0\t63:1.4\t64:1.3\t65:1.4\t66:1.5\t67:1.0\t68:1.5\t69:1.1\t70:1.8\t71:1.3\t72:1.5\t73:1.2\t74:1.3\t75:1.4\t76:1.4\t77:1.7\t78:1.5\t79:1.0\t80:1.1\t81:1.0\t82:1.2\t83:1.6\t84:1.5\t85:1.6\t86:1.5\t87:1.3\t88:1.3\t89:1.3\t90:1.2\t91:1.4\t92:1.2\t93:1.0\t94:1.3\t95:1.2\t96:1.3\t97:1.3\t98:1.1\t99:1.3\t100:2.5\t101:1.9\t102:2.1\t103:1.8\t104:2.2\t105:2.1\t106:1.7\t107:1.8\t108:1.8\t109:2.5\t110:2.0\t111:1.9\t112:2.1\t113:2.0\t114:2.4\t115:2.3\t116:1.8\t117:2.2\t118:2.3\t119:1.5\t120:2.3\t121:2.0\t122:2.0\t123:1.8\t124:2.1\t125:1.8\t126:1.8\t127:1.8\t128:2.1\t129:1.6\t130:1.9\t131:2.0\t132:2.2\t133:1.5\t134:1.4\t135:2.3\t136:2.4\t137:1.8\t138:1.8\t139:2.1\t140:2.4\t141:2.3\t142:1.9\t143:2.3\t144:2.5\t145:2.3\t146:1.9\t147:2.0\t148:2.3\t149:1.8\t\n",
      "그룹명 : species\n",
      "0:setosa\t1:setosa\t2:setosa\t3:setosa\t4:setosa\t5:setosa\t6:setosa\t7:setosa\t8:setosa\t9:setosa\t10:setosa\t11:setosa\t12:setosa\t13:setosa\t14:setosa\t15:setosa\t16:setosa\t17:setosa\t18:setosa\t19:setosa\t20:setosa\t21:setosa\t22:setosa\t23:setosa\t24:setosa\t25:setosa\t26:setosa\t27:setosa\t28:setosa\t29:setosa\t30:setosa\t31:setosa\t32:setosa\t33:setosa\t34:setosa\t35:setosa\t36:setosa\t37:setosa\t38:setosa\t39:setosa\t40:setosa\t41:setosa\t42:setosa\t43:setosa\t44:setosa\t45:setosa\t46:setosa\t47:setosa\t48:setosa\t49:setosa\t50:versicolor\t51:versicolor\t52:versicolor\t53:versicolor\t54:versicolor\t55:versicolor\t56:versicolor\t57:versicolor\t58:versicolor\t59:versicolor\t60:versicolor\t61:versicolor\t62:versicolor\t63:versicolor\t64:versicolor\t65:versicolor\t66:versicolor\t67:versicolor\t68:versicolor\t69:versicolor\t70:versicolor\t71:versicolor\t72:versicolor\t73:versicolor\t74:versicolor\t75:versicolor\t76:versicolor\t77:versicolor\t78:versicolor\t79:versicolor\t80:versicolor\t81:versicolor\t82:versicolor\t83:versicolor\t84:versicolor\t85:versicolor\t86:versicolor\t87:versicolor\t88:versicolor\t89:versicolor\t90:versicolor\t91:versicolor\t92:versicolor\t93:versicolor\t94:versicolor\t95:versicolor\t96:versicolor\t97:versicolor\t98:versicolor\t99:versicolor\t100:virginica\t101:virginica\t102:virginica\t103:virginica\t104:virginica\t105:virginica\t106:virginica\t107:virginica\t108:virginica\t109:virginica\t110:virginica\t111:virginica\t112:virginica\t113:virginica\t114:virginica\t115:virginica\t116:virginica\t117:virginica\t118:virginica\t119:virginica\t120:virginica\t121:virginica\t122:virginica\t123:virginica\t124:virginica\t125:virginica\t126:virginica\t127:virginica\t128:virginica\t129:virginica\t130:virginica\t131:virginica\t132:virginica\t133:virginica\t134:virginica\t135:virginica\t136:virginica\t137:virginica\t138:virginica\t139:virginica\t140:virginica\t141:virginica\t142:virginica\t143:virginica\t144:virginica\t145:virginica\t146:virginica\t147:virginica\t148:virginica\t149:virginica\t\n"
     ]
    }
   ],
   "source": [
    "for group, value in iris_dic.items(): #키값이랑 벨류값이 나눠져서 뿌려짐\n",
    "    print('그룹명 :',group)\n",
    "    for key, data in value.items():\n",
    "        print('{}:{}'.format(str(key),data),end='\\t')\n",
    "    print()  # 개행"
   ]
  },
  {
   "cell_type": "code",
   "execution_count": 31,
   "id": "9e7e5639",
   "metadata": {},
   "outputs": [],
   "source": [
    "# 딕셔너리 리스트를 hdf파일로 쓰기\n",
    "# 딕셔너리 리스트를 hdf 파일로 쓰려면 h5py이 필요함.\n",
    "# key는 반드시 문자(str) 지정 \n",
    "import h5py\n",
    "with h5py.File('data/ch09_iris_dic.hdf5', 'w') as f:\n",
    "    for group, value in iris_dic.items():\n",
    "        grp = f.create_group(group)                            #f의 그룹추가\n",
    "        for key, data in value.items():\n",
    "            grp.create_dataset(str(key), data=data)"
   ]
  },
  {
   "cell_type": "code",
   "execution_count": 42,
   "id": "90134b24",
   "metadata": {},
   "outputs": [],
   "source": [
    "import h5py\n",
    "with h5py.File('data/ch09_iris_dic.h5', 'w') as f:\n",
    "    for group, value in iris_dic.items():\n",
    "        grp = f.create_group(group)                            #f의 그룹추가\n",
    "        for key, data in value.items():\n",
    "            grp.create_dataset(str(key), data=data)"
   ]
  },
  {
   "cell_type": "code",
   "execution_count": null,
   "id": "38148d7f",
   "metadata": {},
   "outputs": [],
   "source": []
  },
  {
   "cell_type": "code",
   "execution_count": null,
   "id": "1f5716e0",
   "metadata": {},
   "outputs": [],
   "source": []
  },
  {
   "cell_type": "markdown",
   "id": "e10fa74e",
   "metadata": {},
   "source": [
    "## 5.2 hdf5 파일 읽기\n",
    "- hdf5파일을 딕셔너리 리스트로 읽기\n",
    "- hdf5파일을 데이터 프레임으로 읽기"
   ]
  },
  {
   "cell_type": "code",
   "execution_count": 14,
   "id": "9d0652f8",
   "metadata": {},
   "outputs": [
    {
     "data": {
      "text/html": [
       "<div>\n",
       "<style scoped>\n",
       "    .dataframe tbody tr th:only-of-type {\n",
       "        vertical-align: middle;\n",
       "    }\n",
       "\n",
       "    .dataframe tbody tr th {\n",
       "        vertical-align: top;\n",
       "    }\n",
       "\n",
       "    .dataframe thead th {\n",
       "        text-align: right;\n",
       "    }\n",
       "</style>\n",
       "<table border=\"1\" class=\"dataframe\">\n",
       "  <thead>\n",
       "    <tr style=\"text-align: right;\">\n",
       "      <th></th>\n",
       "      <th>sepal_length</th>\n",
       "      <th>sepal_width</th>\n",
       "      <th>petal_length</th>\n",
       "      <th>petal_width</th>\n",
       "      <th>species</th>\n",
       "    </tr>\n",
       "  </thead>\n",
       "  <tbody>\n",
       "    <tr>\n",
       "      <th>0</th>\n",
       "      <td>5.1</td>\n",
       "      <td>3.5</td>\n",
       "      <td>1.4</td>\n",
       "      <td>0.2</td>\n",
       "      <td>setosa</td>\n",
       "    </tr>\n",
       "    <tr>\n",
       "      <th>1</th>\n",
       "      <td>4.9</td>\n",
       "      <td>3.0</td>\n",
       "      <td>1.4</td>\n",
       "      <td>0.2</td>\n",
       "      <td>setosa</td>\n",
       "    </tr>\n",
       "    <tr>\n",
       "      <th>2</th>\n",
       "      <td>4.7</td>\n",
       "      <td>3.2</td>\n",
       "      <td>1.3</td>\n",
       "      <td>0.2</td>\n",
       "      <td>setosa</td>\n",
       "    </tr>\n",
       "    <tr>\n",
       "      <th>3</th>\n",
       "      <td>4.6</td>\n",
       "      <td>3.1</td>\n",
       "      <td>1.5</td>\n",
       "      <td>0.2</td>\n",
       "      <td>setosa</td>\n",
       "    </tr>\n",
       "    <tr>\n",
       "      <th>4</th>\n",
       "      <td>5.0</td>\n",
       "      <td>3.6</td>\n",
       "      <td>1.4</td>\n",
       "      <td>0.2</td>\n",
       "      <td>setosa</td>\n",
       "    </tr>\n",
       "    <tr>\n",
       "      <th>...</th>\n",
       "      <td>...</td>\n",
       "      <td>...</td>\n",
       "      <td>...</td>\n",
       "      <td>...</td>\n",
       "      <td>...</td>\n",
       "    </tr>\n",
       "    <tr>\n",
       "      <th>145</th>\n",
       "      <td>6.7</td>\n",
       "      <td>3.0</td>\n",
       "      <td>5.2</td>\n",
       "      <td>2.3</td>\n",
       "      <td>virginica</td>\n",
       "    </tr>\n",
       "    <tr>\n",
       "      <th>146</th>\n",
       "      <td>6.3</td>\n",
       "      <td>2.5</td>\n",
       "      <td>5.0</td>\n",
       "      <td>1.9</td>\n",
       "      <td>virginica</td>\n",
       "    </tr>\n",
       "    <tr>\n",
       "      <th>147</th>\n",
       "      <td>6.5</td>\n",
       "      <td>3.0</td>\n",
       "      <td>5.2</td>\n",
       "      <td>2.0</td>\n",
       "      <td>virginica</td>\n",
       "    </tr>\n",
       "    <tr>\n",
       "      <th>148</th>\n",
       "      <td>6.2</td>\n",
       "      <td>3.4</td>\n",
       "      <td>5.4</td>\n",
       "      <td>2.3</td>\n",
       "      <td>virginica</td>\n",
       "    </tr>\n",
       "    <tr>\n",
       "      <th>149</th>\n",
       "      <td>5.9</td>\n",
       "      <td>3.0</td>\n",
       "      <td>5.1</td>\n",
       "      <td>1.8</td>\n",
       "      <td>virginica</td>\n",
       "    </tr>\n",
       "  </tbody>\n",
       "</table>\n",
       "<p>150 rows × 5 columns</p>\n",
       "</div>"
      ],
      "text/plain": [
       "     sepal_length  sepal_width  petal_length  petal_width    species\n",
       "0             5.1          3.5           1.4          0.2     setosa\n",
       "1             4.9          3.0           1.4          0.2     setosa\n",
       "2             4.7          3.2           1.3          0.2     setosa\n",
       "3             4.6          3.1           1.5          0.2     setosa\n",
       "4             5.0          3.6           1.4          0.2     setosa\n",
       "..            ...          ...           ...          ...        ...\n",
       "145           6.7          3.0           5.2          2.3  virginica\n",
       "146           6.3          2.5           5.0          1.9  virginica\n",
       "147           6.5          3.0           5.2          2.0  virginica\n",
       "148           6.2          3.4           5.4          2.3  virginica\n",
       "149           5.9          3.0           5.1          1.8  virginica\n",
       "\n",
       "[150 rows x 5 columns]"
      ]
     },
     "execution_count": 14,
     "metadata": {},
     "output_type": "execute_result"
    }
   ],
   "source": [
    "import pandas as pd\n",
    "load_iris_df = pd.read_hdf('data/ch09_iris.hdf5', key='iris')\n",
    "load_iris_df"
   ]
  },
  {
   "cell_type": "code",
   "execution_count": 15,
   "id": "259545eb",
   "metadata": {},
   "outputs": [
    {
     "data": {
      "text/html": [
       "<div>\n",
       "<style scoped>\n",
       "    .dataframe tbody tr th:only-of-type {\n",
       "        vertical-align: middle;\n",
       "    }\n",
       "\n",
       "    .dataframe tbody tr th {\n",
       "        vertical-align: top;\n",
       "    }\n",
       "\n",
       "    .dataframe thead th {\n",
       "        text-align: right;\n",
       "    }\n",
       "</style>\n",
       "<table border=\"1\" class=\"dataframe\">\n",
       "  <thead>\n",
       "    <tr style=\"text-align: right;\">\n",
       "      <th></th>\n",
       "      <th>sepal_length</th>\n",
       "      <th>sepal_width</th>\n",
       "      <th>petal_length</th>\n",
       "      <th>petal_width</th>\n",
       "      <th>species</th>\n",
       "    </tr>\n",
       "  </thead>\n",
       "  <tbody>\n",
       "    <tr>\n",
       "      <th>0</th>\n",
       "      <td>True</td>\n",
       "      <td>True</td>\n",
       "      <td>True</td>\n",
       "      <td>True</td>\n",
       "      <td>True</td>\n",
       "    </tr>\n",
       "    <tr>\n",
       "      <th>1</th>\n",
       "      <td>True</td>\n",
       "      <td>True</td>\n",
       "      <td>True</td>\n",
       "      <td>True</td>\n",
       "      <td>True</td>\n",
       "    </tr>\n",
       "    <tr>\n",
       "      <th>2</th>\n",
       "      <td>True</td>\n",
       "      <td>True</td>\n",
       "      <td>True</td>\n",
       "      <td>True</td>\n",
       "      <td>True</td>\n",
       "    </tr>\n",
       "    <tr>\n",
       "      <th>3</th>\n",
       "      <td>True</td>\n",
       "      <td>True</td>\n",
       "      <td>True</td>\n",
       "      <td>True</td>\n",
       "      <td>True</td>\n",
       "    </tr>\n",
       "    <tr>\n",
       "      <th>4</th>\n",
       "      <td>True</td>\n",
       "      <td>True</td>\n",
       "      <td>True</td>\n",
       "      <td>True</td>\n",
       "      <td>True</td>\n",
       "    </tr>\n",
       "    <tr>\n",
       "      <th>...</th>\n",
       "      <td>...</td>\n",
       "      <td>...</td>\n",
       "      <td>...</td>\n",
       "      <td>...</td>\n",
       "      <td>...</td>\n",
       "    </tr>\n",
       "    <tr>\n",
       "      <th>145</th>\n",
       "      <td>True</td>\n",
       "      <td>True</td>\n",
       "      <td>True</td>\n",
       "      <td>True</td>\n",
       "      <td>True</td>\n",
       "    </tr>\n",
       "    <tr>\n",
       "      <th>146</th>\n",
       "      <td>True</td>\n",
       "      <td>True</td>\n",
       "      <td>True</td>\n",
       "      <td>True</td>\n",
       "      <td>True</td>\n",
       "    </tr>\n",
       "    <tr>\n",
       "      <th>147</th>\n",
       "      <td>True</td>\n",
       "      <td>True</td>\n",
       "      <td>True</td>\n",
       "      <td>True</td>\n",
       "      <td>True</td>\n",
       "    </tr>\n",
       "    <tr>\n",
       "      <th>148</th>\n",
       "      <td>True</td>\n",
       "      <td>True</td>\n",
       "      <td>True</td>\n",
       "      <td>True</td>\n",
       "      <td>True</td>\n",
       "    </tr>\n",
       "    <tr>\n",
       "      <th>149</th>\n",
       "      <td>True</td>\n",
       "      <td>True</td>\n",
       "      <td>True</td>\n",
       "      <td>True</td>\n",
       "      <td>True</td>\n",
       "    </tr>\n",
       "  </tbody>\n",
       "</table>\n",
       "<p>150 rows × 5 columns</p>\n",
       "</div>"
      ],
      "text/plain": [
       "     sepal_length  sepal_width  petal_length  petal_width  species\n",
       "0            True         True          True         True     True\n",
       "1            True         True          True         True     True\n",
       "2            True         True          True         True     True\n",
       "3            True         True          True         True     True\n",
       "4            True         True          True         True     True\n",
       "..            ...          ...           ...          ...      ...\n",
       "145          True         True          True         True     True\n",
       "146          True         True          True         True     True\n",
       "147          True         True          True         True     True\n",
       "148          True         True          True         True     True\n",
       "149          True         True          True         True     True\n",
       "\n",
       "[150 rows x 5 columns]"
      ]
     },
     "execution_count": 15,
     "metadata": {},
     "output_type": "execute_result"
    }
   ],
   "source": [
    "#'iris'와 'load_iris_df'가 같은지 비교하기\n",
    "# 모든 행과 열의 값이 동일하다고 보여지나 안 보이는 5~144의 값은 안 보여서 확실하지 않음..\n",
    "iris_df == load_iris_df"
   ]
  },
  {
   "cell_type": "code",
   "execution_count": 16,
   "id": "85c4ad9e",
   "metadata": {},
   "outputs": [
    {
     "data": {
      "text/plain": [
       "True"
      ]
     },
     "execution_count": 16,
     "metadata": {},
     "output_type": "execute_result"
    }
   ],
   "source": [
    "all(iris_df == load_iris_df) #두 데이터 프레임 변수의 모든 행과 열의 값이 같은지 여부 확인"
   ]
  },
  {
   "cell_type": "code",
   "execution_count": 44,
   "id": "c84a3acb",
   "metadata": {
    "collapsed": true
   },
   "outputs": [
    {
     "name": "stdout",
     "output_type": "stream",
     "text": [
      "그룹 : petal_length\n",
      "0:1.4\t1:1.4\t10:1.5\t100:6.0\t101:5.1\t102:5.9\t103:5.6\t104:5.8\t105:6.6\t106:4.5\t107:6.3\t108:5.8\t109:6.1\t11:1.6\t110:5.1\t111:5.3\t112:5.5\t113:5.0\t114:5.1\t115:5.3\t116:5.5\t117:6.7\t118:6.9\t119:5.0\t12:1.4\t120:5.7\t121:4.9\t122:6.7\t123:4.9\t124:5.7\t125:6.0\t126:4.8\t127:4.9\t128:5.6\t129:5.8\t13:1.1\t130:6.1\t131:6.4\t132:5.6\t133:5.1\t134:5.6\t135:6.1\t136:5.6\t137:5.5\t138:4.8\t139:5.4\t14:1.2\t140:5.6\t141:5.1\t142:5.1\t143:5.9\t144:5.7\t145:5.2\t146:5.0\t147:5.2\t148:5.4\t149:5.1\t15:1.5\t16:1.3\t17:1.4\t18:1.7\t19:1.5\t2:1.3\t20:1.7\t21:1.5\t22:1.0\t23:1.7\t24:1.9\t25:1.6\t26:1.6\t27:1.5\t28:1.4\t29:1.6\t3:1.5\t30:1.6\t31:1.5\t32:1.5\t33:1.4\t34:1.5\t35:1.2\t36:1.3\t37:1.4\t38:1.3\t39:1.5\t4:1.4\t40:1.3\t41:1.3\t42:1.3\t43:1.6\t44:1.9\t45:1.4\t46:1.6\t47:1.4\t48:1.5\t49:1.4\t5:1.7\t50:4.7\t51:4.5\t52:4.9\t53:4.0\t54:4.6\t55:4.5\t56:4.7\t57:3.3\t58:4.6\t59:3.9\t6:1.4\t60:3.5\t61:4.2\t62:4.0\t63:4.7\t64:3.6\t65:4.4\t66:4.5\t67:4.1\t68:4.5\t69:3.9\t7:1.5\t70:4.8\t71:4.0\t72:4.9\t73:4.7\t74:4.3\t75:4.4\t76:4.8\t77:5.0\t78:4.5\t79:3.5\t8:1.4\t80:3.8\t81:3.7\t82:3.9\t83:5.1\t84:4.5\t85:4.5\t86:4.7\t87:4.4\t88:4.1\t89:4.0\t9:1.5\t90:4.4\t91:4.6\t92:4.0\t93:3.3\t94:4.2\t95:4.2\t96:4.2\t97:4.3\t98:3.0\t99:4.1\t그룹 : petal_width\n",
      "0:0.2\t1:0.2\t10:0.2\t100:2.5\t101:1.9\t102:2.1\t103:1.8\t104:2.2\t105:2.1\t106:1.7\t107:1.8\t108:1.8\t109:2.5\t11:0.2\t110:2.0\t111:1.9\t112:2.1\t113:2.0\t114:2.4\t115:2.3\t116:1.8\t117:2.2\t118:2.3\t119:1.5\t12:0.1\t120:2.3\t121:2.0\t122:2.0\t123:1.8\t124:2.1\t125:1.8\t126:1.8\t127:1.8\t128:2.1\t129:1.6\t13:0.1\t130:1.9\t131:2.0\t132:2.2\t133:1.5\t134:1.4\t135:2.3\t136:2.4\t137:1.8\t138:1.8\t139:2.1\t14:0.2\t140:2.4\t141:2.3\t142:1.9\t143:2.3\t144:2.5\t145:2.3\t146:1.9\t147:2.0\t148:2.3\t149:1.8\t15:0.4\t16:0.4\t17:0.3\t18:0.3\t19:0.3\t2:0.2\t20:0.2\t21:0.4\t22:0.2\t23:0.5\t24:0.2\t25:0.2\t26:0.4\t27:0.2\t28:0.2\t29:0.2\t3:0.2\t30:0.2\t31:0.4\t32:0.1\t33:0.2\t34:0.2\t35:0.2\t36:0.2\t37:0.1\t38:0.2\t39:0.2\t4:0.2\t40:0.3\t41:0.3\t42:0.2\t43:0.6\t44:0.4\t45:0.3\t46:0.2\t47:0.2\t48:0.2\t49:0.2\t5:0.4\t50:1.4\t51:1.5\t52:1.5\t53:1.3\t54:1.5\t55:1.3\t56:1.6\t57:1.0\t58:1.3\t59:1.4\t6:0.3\t60:1.0\t61:1.5\t62:1.0\t63:1.4\t64:1.3\t65:1.4\t66:1.5\t67:1.0\t68:1.5\t69:1.1\t7:0.2\t70:1.8\t71:1.3\t72:1.5\t73:1.2\t74:1.3\t75:1.4\t76:1.4\t77:1.7\t78:1.5\t79:1.0\t8:0.2\t80:1.1\t81:1.0\t82:1.2\t83:1.6\t84:1.5\t85:1.6\t86:1.5\t87:1.3\t88:1.3\t89:1.3\t9:0.1\t90:1.2\t91:1.4\t92:1.2\t93:1.0\t94:1.3\t95:1.2\t96:1.3\t97:1.3\t98:1.1\t99:1.3\t그룹 : sepal_length\n",
      "0:5.1\t1:4.9\t10:5.4\t100:6.3\t101:5.8\t102:7.1\t103:6.3\t104:6.5\t105:7.6\t106:4.9\t107:7.3\t108:6.7\t109:7.2\t11:4.8\t110:6.5\t111:6.4\t112:6.8\t113:5.7\t114:5.8\t115:6.4\t116:6.5\t117:7.7\t118:7.7\t119:6.0\t12:4.8\t120:6.9\t121:5.6\t122:7.7\t123:6.3\t124:6.7\t125:7.2\t126:6.2\t127:6.1\t128:6.4\t129:7.2\t13:4.3\t130:7.4\t131:7.9\t132:6.4\t133:6.3\t134:6.1\t135:7.7\t136:6.3\t137:6.4\t138:6.0\t139:6.9\t14:5.8\t140:6.7\t141:6.9\t142:5.8\t143:6.8\t144:6.7\t145:6.7\t146:6.3\t147:6.5\t148:6.2\t149:5.9\t15:5.7\t16:5.4\t17:5.1\t18:5.7\t19:5.1\t2:4.7\t20:5.4\t21:5.1\t22:4.6\t23:5.1\t24:4.8\t25:5.0\t26:5.0\t27:5.2\t28:5.2\t29:4.7\t3:4.6\t30:4.8\t31:5.4\t32:5.2\t33:5.5\t34:4.9\t35:5.0\t36:5.5\t37:4.9\t38:4.4\t39:5.1\t4:5.0\t40:5.0\t41:4.5\t42:4.4\t43:5.0\t44:5.1\t45:4.8\t46:5.1\t47:4.6\t48:5.3\t49:5.0\t5:5.4\t50:7.0\t51:6.4\t52:6.9\t53:5.5\t54:6.5\t55:5.7\t56:6.3\t57:4.9\t58:6.6\t59:5.2\t6:4.6\t60:5.0\t61:5.9\t62:6.0\t63:6.1\t64:5.6\t65:6.7\t66:5.6\t67:5.8\t68:6.2\t69:5.6\t7:5.0\t70:5.9\t71:6.1\t72:6.3\t73:6.1\t74:6.4\t75:6.6\t76:6.8\t77:6.7\t78:6.0\t79:5.7\t8:4.4\t80:5.5\t81:5.5\t82:5.8\t83:6.0\t84:5.4\t85:6.0\t86:6.7\t87:6.3\t88:5.6\t89:5.5\t9:4.9\t90:5.5\t91:6.1\t92:5.8\t93:5.0\t94:5.6\t95:5.7\t96:5.7\t97:6.2\t98:5.1\t99:5.7\t그룹 : sepal_width\n",
      "0:3.5\t1:3.0\t10:3.7\t100:3.3\t101:2.7\t102:3.0\t103:2.9\t104:3.0\t105:3.0\t106:2.5\t107:2.9\t108:2.5\t109:3.6\t11:3.4\t110:3.2\t111:2.7\t112:3.0\t113:2.5\t114:2.8\t115:3.2\t116:3.0\t117:3.8\t118:2.6\t119:2.2\t12:3.0\t120:3.2\t121:2.8\t122:2.8\t123:2.7\t124:3.3\t125:3.2\t126:2.8\t127:3.0\t128:2.8\t129:3.0\t13:3.0\t130:2.8\t131:3.8\t132:2.8\t133:2.8\t134:2.6\t135:3.0\t136:3.4\t137:3.1\t138:3.0\t139:3.1\t14:4.0\t140:3.1\t141:3.1\t142:2.7\t143:3.2\t144:3.3\t145:3.0\t146:2.5\t147:3.0\t148:3.4\t149:3.0\t15:4.4\t16:3.9\t17:3.5\t18:3.8\t19:3.8\t2:3.2\t20:3.4\t21:3.7\t22:3.6\t23:3.3\t24:3.4\t25:3.0\t26:3.4\t27:3.5\t28:3.4\t29:3.2\t3:3.1\t30:3.1\t31:3.4\t32:4.1\t33:4.2\t34:3.1\t35:3.2\t36:3.5\t37:3.6\t38:3.0\t39:3.4\t4:3.6\t40:3.5\t41:2.3\t42:3.2\t43:3.5\t44:3.8\t45:3.0\t46:3.8\t47:3.2\t48:3.7\t49:3.3\t5:3.9\t50:3.2\t51:3.2\t52:3.1\t53:2.3\t54:2.8\t55:2.8\t56:3.3\t57:2.4\t58:2.9\t59:2.7\t6:3.4\t60:2.0\t61:3.0\t62:2.2\t63:2.9\t64:2.9\t65:3.1\t66:3.0\t67:2.7\t68:2.2\t69:2.5\t7:3.4\t70:3.2\t71:2.8\t72:2.5\t73:2.8\t74:2.9\t75:3.0\t76:2.8\t77:3.0\t78:2.9\t79:2.6\t8:2.9\t80:2.4\t81:2.4\t82:2.7\t83:2.7\t84:3.0\t85:3.4\t86:3.1\t87:2.3\t88:3.0\t89:2.5\t9:3.1\t90:2.6\t91:3.0\t92:2.6\t93:2.3\t94:2.7\t95:3.0\t96:2.9\t97:2.9\t98:2.5\t99:2.8\t그룹 : species\n",
      "0:b'setosa'\t1:b'setosa'\t10:b'setosa'\t100:b'virginica'\t101:b'virginica'\t102:b'virginica'\t103:b'virginica'\t104:b'virginica'\t105:b'virginica'\t106:b'virginica'\t107:b'virginica'\t108:b'virginica'\t109:b'virginica'\t11:b'setosa'\t110:b'virginica'\t111:b'virginica'\t112:b'virginica'\t113:b'virginica'\t114:b'virginica'\t115:b'virginica'\t116:b'virginica'\t117:b'virginica'\t118:b'virginica'\t119:b'virginica'\t12:b'setosa'\t120:b'virginica'\t121:b'virginica'\t122:b'virginica'\t123:b'virginica'\t124:b'virginica'\t125:b'virginica'\t126:b'virginica'\t127:b'virginica'\t128:b'virginica'\t129:b'virginica'\t13:b'setosa'\t130:b'virginica'\t131:b'virginica'\t132:b'virginica'\t133:b'virginica'\t134:b'virginica'\t135:b'virginica'\t136:b'virginica'\t137:b'virginica'\t138:b'virginica'\t139:b'virginica'\t14:b'setosa'\t140:b'virginica'\t141:b'virginica'\t142:b'virginica'\t143:b'virginica'\t144:b'virginica'\t145:b'virginica'\t146:b'virginica'\t147:b'virginica'\t148:b'virginica'\t149:b'virginica'\t15:b'setosa'\t16:b'setosa'\t17:b'setosa'\t18:b'setosa'\t19:b'setosa'\t2:b'setosa'\t20:b'setosa'\t21:b'setosa'\t22:b'setosa'\t23:b'setosa'\t24:b'setosa'\t25:b'setosa'\t26:b'setosa'\t27:b'setosa'\t28:b'setosa'\t29:b'setosa'\t3:b'setosa'\t30:b'setosa'\t31:b'setosa'\t32:b'setosa'\t33:b'setosa'\t34:b'setosa'\t35:b'setosa'\t36:b'setosa'\t37:b'setosa'\t38:b'setosa'\t39:b'setosa'\t4:b'setosa'\t40:b'setosa'\t41:b'setosa'\t42:b'setosa'\t43:b'setosa'\t44:b'setosa'\t45:b'setosa'\t46:b'setosa'\t47:b'setosa'\t48:b'setosa'\t49:b'setosa'\t5:b'setosa'\t50:b'versicolor'\t51:b'versicolor'\t52:b'versicolor'\t53:b'versicolor'\t54:b'versicolor'\t55:b'versicolor'\t56:b'versicolor'\t57:b'versicolor'\t58:b'versicolor'\t59:b'versicolor'\t6:b'setosa'\t60:b'versicolor'\t61:b'versicolor'\t62:b'versicolor'\t63:b'versicolor'\t64:b'versicolor'\t65:b'versicolor'\t66:b'versicolor'\t67:b'versicolor'\t68:b'versicolor'\t69:b'versicolor'\t7:b'setosa'\t70:b'versicolor'\t71:b'versicolor'\t72:b'versicolor'\t73:b'versicolor'\t74:b'versicolor'\t75:b'versicolor'\t76:b'versicolor'\t77:b'versicolor'\t78:b'versicolor'\t79:b'versicolor'\t8:b'setosa'\t80:b'versicolor'\t81:b'versicolor'\t82:b'versicolor'\t83:b'versicolor'\t84:b'versicolor'\t85:b'versicolor'\t86:b'versicolor'\t87:b'versicolor'\t88:b'versicolor'\t89:b'versicolor'\t9:b'setosa'\t90:b'versicolor'\t91:b'versicolor'\t92:b'versicolor'\t93:b'versicolor'\t94:b'versicolor'\t95:b'versicolor'\t96:b'versicolor'\t97:b'versicolor'\t98:b'versicolor'\t99:b'versicolor'\t"
     ]
    }
   ],
   "source": [
    "#읽기\n",
    "with h5py.File('data/ch09_iris_dic.h5', 'r') as f:\n",
    "    for group, value in f.items():\n",
    "        print('그룹 :', group)\n",
    "        for key, data in value.items():\n",
    "            print('{}:{}'.format(key,data[()]), end='\\t')  #data[()] : h5 DataSet타입을 가져올 때 문법"
   ]
  },
  {
   "cell_type": "code",
   "execution_count": 147,
   "id": "45edd701",
   "metadata": {},
   "outputs": [
    {
     "data": {
      "text/plain": [
       "{0: 5.4}"
      ]
     },
     "execution_count": 147,
     "metadata": {},
     "output_type": "execute_result"
    }
   ],
   "source": [
    "p = {}\n",
    "p[0] = 5.4\n",
    "# p\n",
    "# p.update({'name':'홍길동'})\n",
    "p"
   ]
  },
  {
   "cell_type": "code",
   "execution_count": 50,
   "id": "73d448fe",
   "metadata": {
    "collapsed": true
   },
   "outputs": [
    {
     "data": {
      "text/plain": [
       "{'petal_length': {0: 1.4,\n",
       "  1: 1.4,\n",
       "  10: 1.5,\n",
       "  100: 6.0,\n",
       "  101: 5.1,\n",
       "  102: 5.9,\n",
       "  103: 5.6,\n",
       "  104: 5.8,\n",
       "  105: 6.6,\n",
       "  106: 4.5,\n",
       "  107: 6.3,\n",
       "  108: 5.8,\n",
       "  109: 6.1,\n",
       "  11: 1.6,\n",
       "  110: 5.1,\n",
       "  111: 5.3,\n",
       "  112: 5.5,\n",
       "  113: 5.0,\n",
       "  114: 5.1,\n",
       "  115: 5.3,\n",
       "  116: 5.5,\n",
       "  117: 6.7,\n",
       "  118: 6.9,\n",
       "  119: 5.0,\n",
       "  12: 1.4,\n",
       "  120: 5.7,\n",
       "  121: 4.9,\n",
       "  122: 6.7,\n",
       "  123: 4.9,\n",
       "  124: 5.7,\n",
       "  125: 6.0,\n",
       "  126: 4.8,\n",
       "  127: 4.9,\n",
       "  128: 5.6,\n",
       "  129: 5.8,\n",
       "  13: 1.1,\n",
       "  130: 6.1,\n",
       "  131: 6.4,\n",
       "  132: 5.6,\n",
       "  133: 5.1,\n",
       "  134: 5.6,\n",
       "  135: 6.1,\n",
       "  136: 5.6,\n",
       "  137: 5.5,\n",
       "  138: 4.8,\n",
       "  139: 5.4,\n",
       "  14: 1.2,\n",
       "  140: 5.6,\n",
       "  141: 5.1,\n",
       "  142: 5.1,\n",
       "  143: 5.9,\n",
       "  144: 5.7,\n",
       "  145: 5.2,\n",
       "  146: 5.0,\n",
       "  147: 5.2,\n",
       "  148: 5.4,\n",
       "  149: 5.1,\n",
       "  15: 1.5,\n",
       "  16: 1.3,\n",
       "  17: 1.4,\n",
       "  18: 1.7,\n",
       "  19: 1.5,\n",
       "  2: 1.3,\n",
       "  20: 1.7,\n",
       "  21: 1.5,\n",
       "  22: 1.0,\n",
       "  23: 1.7,\n",
       "  24: 1.9,\n",
       "  25: 1.6,\n",
       "  26: 1.6,\n",
       "  27: 1.5,\n",
       "  28: 1.4,\n",
       "  29: 1.6,\n",
       "  3: 1.5,\n",
       "  30: 1.6,\n",
       "  31: 1.5,\n",
       "  32: 1.5,\n",
       "  33: 1.4,\n",
       "  34: 1.5,\n",
       "  35: 1.2,\n",
       "  36: 1.3,\n",
       "  37: 1.4,\n",
       "  38: 1.3,\n",
       "  39: 1.5,\n",
       "  4: 1.4,\n",
       "  40: 1.3,\n",
       "  41: 1.3,\n",
       "  42: 1.3,\n",
       "  43: 1.6,\n",
       "  44: 1.9,\n",
       "  45: 1.4,\n",
       "  46: 1.6,\n",
       "  47: 1.4,\n",
       "  48: 1.5,\n",
       "  49: 1.4,\n",
       "  5: 1.7,\n",
       "  50: 4.7,\n",
       "  51: 4.5,\n",
       "  52: 4.9,\n",
       "  53: 4.0,\n",
       "  54: 4.6,\n",
       "  55: 4.5,\n",
       "  56: 4.7,\n",
       "  57: 3.3,\n",
       "  58: 4.6,\n",
       "  59: 3.9,\n",
       "  6: 1.4,\n",
       "  60: 3.5,\n",
       "  61: 4.2,\n",
       "  62: 4.0,\n",
       "  63: 4.7,\n",
       "  64: 3.6,\n",
       "  65: 4.4,\n",
       "  66: 4.5,\n",
       "  67: 4.1,\n",
       "  68: 4.5,\n",
       "  69: 3.9,\n",
       "  7: 1.5,\n",
       "  70: 4.8,\n",
       "  71: 4.0,\n",
       "  72: 4.9,\n",
       "  73: 4.7,\n",
       "  74: 4.3,\n",
       "  75: 4.4,\n",
       "  76: 4.8,\n",
       "  77: 5.0,\n",
       "  78: 4.5,\n",
       "  79: 3.5,\n",
       "  8: 1.4,\n",
       "  80: 3.8,\n",
       "  81: 3.7,\n",
       "  82: 3.9,\n",
       "  83: 5.1,\n",
       "  84: 4.5,\n",
       "  85: 4.5,\n",
       "  86: 4.7,\n",
       "  87: 4.4,\n",
       "  88: 4.1,\n",
       "  89: 4.0,\n",
       "  9: 1.5,\n",
       "  90: 4.4,\n",
       "  91: 4.6,\n",
       "  92: 4.0,\n",
       "  93: 3.3,\n",
       "  94: 4.2,\n",
       "  95: 4.2,\n",
       "  96: 4.2,\n",
       "  97: 4.3,\n",
       "  98: 3.0,\n",
       "  99: 4.1},\n",
       " 'petal_width': {0: 0.2,\n",
       "  1: 0.2,\n",
       "  10: 0.2,\n",
       "  100: 2.5,\n",
       "  101: 1.9,\n",
       "  102: 2.1,\n",
       "  103: 1.8,\n",
       "  104: 2.2,\n",
       "  105: 2.1,\n",
       "  106: 1.7,\n",
       "  107: 1.8,\n",
       "  108: 1.8,\n",
       "  109: 2.5,\n",
       "  11: 0.2,\n",
       "  110: 2.0,\n",
       "  111: 1.9,\n",
       "  112: 2.1,\n",
       "  113: 2.0,\n",
       "  114: 2.4,\n",
       "  115: 2.3,\n",
       "  116: 1.8,\n",
       "  117: 2.2,\n",
       "  118: 2.3,\n",
       "  119: 1.5,\n",
       "  12: 0.1,\n",
       "  120: 2.3,\n",
       "  121: 2.0,\n",
       "  122: 2.0,\n",
       "  123: 1.8,\n",
       "  124: 2.1,\n",
       "  125: 1.8,\n",
       "  126: 1.8,\n",
       "  127: 1.8,\n",
       "  128: 2.1,\n",
       "  129: 1.6,\n",
       "  13: 0.1,\n",
       "  130: 1.9,\n",
       "  131: 2.0,\n",
       "  132: 2.2,\n",
       "  133: 1.5,\n",
       "  134: 1.4,\n",
       "  135: 2.3,\n",
       "  136: 2.4,\n",
       "  137: 1.8,\n",
       "  138: 1.8,\n",
       "  139: 2.1,\n",
       "  14: 0.2,\n",
       "  140: 2.4,\n",
       "  141: 2.3,\n",
       "  142: 1.9,\n",
       "  143: 2.3,\n",
       "  144: 2.5,\n",
       "  145: 2.3,\n",
       "  146: 1.9,\n",
       "  147: 2.0,\n",
       "  148: 2.3,\n",
       "  149: 1.8,\n",
       "  15: 0.4,\n",
       "  16: 0.4,\n",
       "  17: 0.3,\n",
       "  18: 0.3,\n",
       "  19: 0.3,\n",
       "  2: 0.2,\n",
       "  20: 0.2,\n",
       "  21: 0.4,\n",
       "  22: 0.2,\n",
       "  23: 0.5,\n",
       "  24: 0.2,\n",
       "  25: 0.2,\n",
       "  26: 0.4,\n",
       "  27: 0.2,\n",
       "  28: 0.2,\n",
       "  29: 0.2,\n",
       "  3: 0.2,\n",
       "  30: 0.2,\n",
       "  31: 0.4,\n",
       "  32: 0.1,\n",
       "  33: 0.2,\n",
       "  34: 0.2,\n",
       "  35: 0.2,\n",
       "  36: 0.2,\n",
       "  37: 0.1,\n",
       "  38: 0.2,\n",
       "  39: 0.2,\n",
       "  4: 0.2,\n",
       "  40: 0.3,\n",
       "  41: 0.3,\n",
       "  42: 0.2,\n",
       "  43: 0.6,\n",
       "  44: 0.4,\n",
       "  45: 0.3,\n",
       "  46: 0.2,\n",
       "  47: 0.2,\n",
       "  48: 0.2,\n",
       "  49: 0.2,\n",
       "  5: 0.4,\n",
       "  50: 1.4,\n",
       "  51: 1.5,\n",
       "  52: 1.5,\n",
       "  53: 1.3,\n",
       "  54: 1.5,\n",
       "  55: 1.3,\n",
       "  56: 1.6,\n",
       "  57: 1.0,\n",
       "  58: 1.3,\n",
       "  59: 1.4,\n",
       "  6: 0.3,\n",
       "  60: 1.0,\n",
       "  61: 1.5,\n",
       "  62: 1.0,\n",
       "  63: 1.4,\n",
       "  64: 1.3,\n",
       "  65: 1.4,\n",
       "  66: 1.5,\n",
       "  67: 1.0,\n",
       "  68: 1.5,\n",
       "  69: 1.1,\n",
       "  7: 0.2,\n",
       "  70: 1.8,\n",
       "  71: 1.3,\n",
       "  72: 1.5,\n",
       "  73: 1.2,\n",
       "  74: 1.3,\n",
       "  75: 1.4,\n",
       "  76: 1.4,\n",
       "  77: 1.7,\n",
       "  78: 1.5,\n",
       "  79: 1.0,\n",
       "  8: 0.2,\n",
       "  80: 1.1,\n",
       "  81: 1.0,\n",
       "  82: 1.2,\n",
       "  83: 1.6,\n",
       "  84: 1.5,\n",
       "  85: 1.6,\n",
       "  86: 1.5,\n",
       "  87: 1.3,\n",
       "  88: 1.3,\n",
       "  89: 1.3,\n",
       "  9: 0.1,\n",
       "  90: 1.2,\n",
       "  91: 1.4,\n",
       "  92: 1.2,\n",
       "  93: 1.0,\n",
       "  94: 1.3,\n",
       "  95: 1.2,\n",
       "  96: 1.3,\n",
       "  97: 1.3,\n",
       "  98: 1.1,\n",
       "  99: 1.3},\n",
       " 'sepal_length': {0: 5.1,\n",
       "  1: 4.9,\n",
       "  10: 5.4,\n",
       "  100: 6.3,\n",
       "  101: 5.8,\n",
       "  102: 7.1,\n",
       "  103: 6.3,\n",
       "  104: 6.5,\n",
       "  105: 7.6,\n",
       "  106: 4.9,\n",
       "  107: 7.3,\n",
       "  108: 6.7,\n",
       "  109: 7.2,\n",
       "  11: 4.8,\n",
       "  110: 6.5,\n",
       "  111: 6.4,\n",
       "  112: 6.8,\n",
       "  113: 5.7,\n",
       "  114: 5.8,\n",
       "  115: 6.4,\n",
       "  116: 6.5,\n",
       "  117: 7.7,\n",
       "  118: 7.7,\n",
       "  119: 6.0,\n",
       "  12: 4.8,\n",
       "  120: 6.9,\n",
       "  121: 5.6,\n",
       "  122: 7.7,\n",
       "  123: 6.3,\n",
       "  124: 6.7,\n",
       "  125: 7.2,\n",
       "  126: 6.2,\n",
       "  127: 6.1,\n",
       "  128: 6.4,\n",
       "  129: 7.2,\n",
       "  13: 4.3,\n",
       "  130: 7.4,\n",
       "  131: 7.9,\n",
       "  132: 6.4,\n",
       "  133: 6.3,\n",
       "  134: 6.1,\n",
       "  135: 7.7,\n",
       "  136: 6.3,\n",
       "  137: 6.4,\n",
       "  138: 6.0,\n",
       "  139: 6.9,\n",
       "  14: 5.8,\n",
       "  140: 6.7,\n",
       "  141: 6.9,\n",
       "  142: 5.8,\n",
       "  143: 6.8,\n",
       "  144: 6.7,\n",
       "  145: 6.7,\n",
       "  146: 6.3,\n",
       "  147: 6.5,\n",
       "  148: 6.2,\n",
       "  149: 5.9,\n",
       "  15: 5.7,\n",
       "  16: 5.4,\n",
       "  17: 5.1,\n",
       "  18: 5.7,\n",
       "  19: 5.1,\n",
       "  2: 4.7,\n",
       "  20: 5.4,\n",
       "  21: 5.1,\n",
       "  22: 4.6,\n",
       "  23: 5.1,\n",
       "  24: 4.8,\n",
       "  25: 5.0,\n",
       "  26: 5.0,\n",
       "  27: 5.2,\n",
       "  28: 5.2,\n",
       "  29: 4.7,\n",
       "  3: 4.6,\n",
       "  30: 4.8,\n",
       "  31: 5.4,\n",
       "  32: 5.2,\n",
       "  33: 5.5,\n",
       "  34: 4.9,\n",
       "  35: 5.0,\n",
       "  36: 5.5,\n",
       "  37: 4.9,\n",
       "  38: 4.4,\n",
       "  39: 5.1,\n",
       "  4: 5.0,\n",
       "  40: 5.0,\n",
       "  41: 4.5,\n",
       "  42: 4.4,\n",
       "  43: 5.0,\n",
       "  44: 5.1,\n",
       "  45: 4.8,\n",
       "  46: 5.1,\n",
       "  47: 4.6,\n",
       "  48: 5.3,\n",
       "  49: 5.0,\n",
       "  5: 5.4,\n",
       "  50: 7.0,\n",
       "  51: 6.4,\n",
       "  52: 6.9,\n",
       "  53: 5.5,\n",
       "  54: 6.5,\n",
       "  55: 5.7,\n",
       "  56: 6.3,\n",
       "  57: 4.9,\n",
       "  58: 6.6,\n",
       "  59: 5.2,\n",
       "  6: 4.6,\n",
       "  60: 5.0,\n",
       "  61: 5.9,\n",
       "  62: 6.0,\n",
       "  63: 6.1,\n",
       "  64: 5.6,\n",
       "  65: 6.7,\n",
       "  66: 5.6,\n",
       "  67: 5.8,\n",
       "  68: 6.2,\n",
       "  69: 5.6,\n",
       "  7: 5.0,\n",
       "  70: 5.9,\n",
       "  71: 6.1,\n",
       "  72: 6.3,\n",
       "  73: 6.1,\n",
       "  74: 6.4,\n",
       "  75: 6.6,\n",
       "  76: 6.8,\n",
       "  77: 6.7,\n",
       "  78: 6.0,\n",
       "  79: 5.7,\n",
       "  8: 4.4,\n",
       "  80: 5.5,\n",
       "  81: 5.5,\n",
       "  82: 5.8,\n",
       "  83: 6.0,\n",
       "  84: 5.4,\n",
       "  85: 6.0,\n",
       "  86: 6.7,\n",
       "  87: 6.3,\n",
       "  88: 5.6,\n",
       "  89: 5.5,\n",
       "  9: 4.9,\n",
       "  90: 5.5,\n",
       "  91: 6.1,\n",
       "  92: 5.8,\n",
       "  93: 5.0,\n",
       "  94: 5.6,\n",
       "  95: 5.7,\n",
       "  96: 5.7,\n",
       "  97: 6.2,\n",
       "  98: 5.1,\n",
       "  99: 5.7},\n",
       " 'sepal_width': {0: 3.5,\n",
       "  1: 3.0,\n",
       "  10: 3.7,\n",
       "  100: 3.3,\n",
       "  101: 2.7,\n",
       "  102: 3.0,\n",
       "  103: 2.9,\n",
       "  104: 3.0,\n",
       "  105: 3.0,\n",
       "  106: 2.5,\n",
       "  107: 2.9,\n",
       "  108: 2.5,\n",
       "  109: 3.6,\n",
       "  11: 3.4,\n",
       "  110: 3.2,\n",
       "  111: 2.7,\n",
       "  112: 3.0,\n",
       "  113: 2.5,\n",
       "  114: 2.8,\n",
       "  115: 3.2,\n",
       "  116: 3.0,\n",
       "  117: 3.8,\n",
       "  118: 2.6,\n",
       "  119: 2.2,\n",
       "  12: 3.0,\n",
       "  120: 3.2,\n",
       "  121: 2.8,\n",
       "  122: 2.8,\n",
       "  123: 2.7,\n",
       "  124: 3.3,\n",
       "  125: 3.2,\n",
       "  126: 2.8,\n",
       "  127: 3.0,\n",
       "  128: 2.8,\n",
       "  129: 3.0,\n",
       "  13: 3.0,\n",
       "  130: 2.8,\n",
       "  131: 3.8,\n",
       "  132: 2.8,\n",
       "  133: 2.8,\n",
       "  134: 2.6,\n",
       "  135: 3.0,\n",
       "  136: 3.4,\n",
       "  137: 3.1,\n",
       "  138: 3.0,\n",
       "  139: 3.1,\n",
       "  14: 4.0,\n",
       "  140: 3.1,\n",
       "  141: 3.1,\n",
       "  142: 2.7,\n",
       "  143: 3.2,\n",
       "  144: 3.3,\n",
       "  145: 3.0,\n",
       "  146: 2.5,\n",
       "  147: 3.0,\n",
       "  148: 3.4,\n",
       "  149: 3.0,\n",
       "  15: 4.4,\n",
       "  16: 3.9,\n",
       "  17: 3.5,\n",
       "  18: 3.8,\n",
       "  19: 3.8,\n",
       "  2: 3.2,\n",
       "  20: 3.4,\n",
       "  21: 3.7,\n",
       "  22: 3.6,\n",
       "  23: 3.3,\n",
       "  24: 3.4,\n",
       "  25: 3.0,\n",
       "  26: 3.4,\n",
       "  27: 3.5,\n",
       "  28: 3.4,\n",
       "  29: 3.2,\n",
       "  3: 3.1,\n",
       "  30: 3.1,\n",
       "  31: 3.4,\n",
       "  32: 4.1,\n",
       "  33: 4.2,\n",
       "  34: 3.1,\n",
       "  35: 3.2,\n",
       "  36: 3.5,\n",
       "  37: 3.6,\n",
       "  38: 3.0,\n",
       "  39: 3.4,\n",
       "  4: 3.6,\n",
       "  40: 3.5,\n",
       "  41: 2.3,\n",
       "  42: 3.2,\n",
       "  43: 3.5,\n",
       "  44: 3.8,\n",
       "  45: 3.0,\n",
       "  46: 3.8,\n",
       "  47: 3.2,\n",
       "  48: 3.7,\n",
       "  49: 3.3,\n",
       "  5: 3.9,\n",
       "  50: 3.2,\n",
       "  51: 3.2,\n",
       "  52: 3.1,\n",
       "  53: 2.3,\n",
       "  54: 2.8,\n",
       "  55: 2.8,\n",
       "  56: 3.3,\n",
       "  57: 2.4,\n",
       "  58: 2.9,\n",
       "  59: 2.7,\n",
       "  6: 3.4,\n",
       "  60: 2.0,\n",
       "  61: 3.0,\n",
       "  62: 2.2,\n",
       "  63: 2.9,\n",
       "  64: 2.9,\n",
       "  65: 3.1,\n",
       "  66: 3.0,\n",
       "  67: 2.7,\n",
       "  68: 2.2,\n",
       "  69: 2.5,\n",
       "  7: 3.4,\n",
       "  70: 3.2,\n",
       "  71: 2.8,\n",
       "  72: 2.5,\n",
       "  73: 2.8,\n",
       "  74: 2.9,\n",
       "  75: 3.0,\n",
       "  76: 2.8,\n",
       "  77: 3.0,\n",
       "  78: 2.9,\n",
       "  79: 2.6,\n",
       "  8: 2.9,\n",
       "  80: 2.4,\n",
       "  81: 2.4,\n",
       "  82: 2.7,\n",
       "  83: 2.7,\n",
       "  84: 3.0,\n",
       "  85: 3.4,\n",
       "  86: 3.1,\n",
       "  87: 2.3,\n",
       "  88: 3.0,\n",
       "  89: 2.5,\n",
       "  9: 3.1,\n",
       "  90: 2.6,\n",
       "  91: 3.0,\n",
       "  92: 2.6,\n",
       "  93: 2.3,\n",
       "  94: 2.7,\n",
       "  95: 3.0,\n",
       "  96: 2.9,\n",
       "  97: 2.9,\n",
       "  98: 2.5,\n",
       "  99: 2.8},\n",
       " 'species': {0: b'setosa',\n",
       "  1: b'setosa',\n",
       "  10: b'setosa',\n",
       "  100: b'virginica',\n",
       "  101: b'virginica',\n",
       "  102: b'virginica',\n",
       "  103: b'virginica',\n",
       "  104: b'virginica',\n",
       "  105: b'virginica',\n",
       "  106: b'virginica',\n",
       "  107: b'virginica',\n",
       "  108: b'virginica',\n",
       "  109: b'virginica',\n",
       "  11: b'setosa',\n",
       "  110: b'virginica',\n",
       "  111: b'virginica',\n",
       "  112: b'virginica',\n",
       "  113: b'virginica',\n",
       "  114: b'virginica',\n",
       "  115: b'virginica',\n",
       "  116: b'virginica',\n",
       "  117: b'virginica',\n",
       "  118: b'virginica',\n",
       "  119: b'virginica',\n",
       "  12: b'setosa',\n",
       "  120: b'virginica',\n",
       "  121: b'virginica',\n",
       "  122: b'virginica',\n",
       "  123: b'virginica',\n",
       "  124: b'virginica',\n",
       "  125: b'virginica',\n",
       "  126: b'virginica',\n",
       "  127: b'virginica',\n",
       "  128: b'virginica',\n",
       "  129: b'virginica',\n",
       "  13: b'setosa',\n",
       "  130: b'virginica',\n",
       "  131: b'virginica',\n",
       "  132: b'virginica',\n",
       "  133: b'virginica',\n",
       "  134: b'virginica',\n",
       "  135: b'virginica',\n",
       "  136: b'virginica',\n",
       "  137: b'virginica',\n",
       "  138: b'virginica',\n",
       "  139: b'virginica',\n",
       "  14: b'setosa',\n",
       "  140: b'virginica',\n",
       "  141: b'virginica',\n",
       "  142: b'virginica',\n",
       "  143: b'virginica',\n",
       "  144: b'virginica',\n",
       "  145: b'virginica',\n",
       "  146: b'virginica',\n",
       "  147: b'virginica',\n",
       "  148: b'virginica',\n",
       "  149: b'virginica',\n",
       "  15: b'setosa',\n",
       "  16: b'setosa',\n",
       "  17: b'setosa',\n",
       "  18: b'setosa',\n",
       "  19: b'setosa',\n",
       "  2: b'setosa',\n",
       "  20: b'setosa',\n",
       "  21: b'setosa',\n",
       "  22: b'setosa',\n",
       "  23: b'setosa',\n",
       "  24: b'setosa',\n",
       "  25: b'setosa',\n",
       "  26: b'setosa',\n",
       "  27: b'setosa',\n",
       "  28: b'setosa',\n",
       "  29: b'setosa',\n",
       "  3: b'setosa',\n",
       "  30: b'setosa',\n",
       "  31: b'setosa',\n",
       "  32: b'setosa',\n",
       "  33: b'setosa',\n",
       "  34: b'setosa',\n",
       "  35: b'setosa',\n",
       "  36: b'setosa',\n",
       "  37: b'setosa',\n",
       "  38: b'setosa',\n",
       "  39: b'setosa',\n",
       "  4: b'setosa',\n",
       "  40: b'setosa',\n",
       "  41: b'setosa',\n",
       "  42: b'setosa',\n",
       "  43: b'setosa',\n",
       "  44: b'setosa',\n",
       "  45: b'setosa',\n",
       "  46: b'setosa',\n",
       "  47: b'setosa',\n",
       "  48: b'setosa',\n",
       "  49: b'setosa',\n",
       "  5: b'setosa',\n",
       "  50: b'versicolor',\n",
       "  51: b'versicolor',\n",
       "  52: b'versicolor',\n",
       "  53: b'versicolor',\n",
       "  54: b'versicolor',\n",
       "  55: b'versicolor',\n",
       "  56: b'versicolor',\n",
       "  57: b'versicolor',\n",
       "  58: b'versicolor',\n",
       "  59: b'versicolor',\n",
       "  6: b'setosa',\n",
       "  60: b'versicolor',\n",
       "  61: b'versicolor',\n",
       "  62: b'versicolor',\n",
       "  63: b'versicolor',\n",
       "  64: b'versicolor',\n",
       "  65: b'versicolor',\n",
       "  66: b'versicolor',\n",
       "  67: b'versicolor',\n",
       "  68: b'versicolor',\n",
       "  69: b'versicolor',\n",
       "  7: b'setosa',\n",
       "  70: b'versicolor',\n",
       "  71: b'versicolor',\n",
       "  72: b'versicolor',\n",
       "  73: b'versicolor',\n",
       "  74: b'versicolor',\n",
       "  75: b'versicolor',\n",
       "  76: b'versicolor',\n",
       "  77: b'versicolor',\n",
       "  78: b'versicolor',\n",
       "  79: b'versicolor',\n",
       "  8: b'setosa',\n",
       "  80: b'versicolor',\n",
       "  81: b'versicolor',\n",
       "  82: b'versicolor',\n",
       "  83: b'versicolor',\n",
       "  84: b'versicolor',\n",
       "  85: b'versicolor',\n",
       "  86: b'versicolor',\n",
       "  87: b'versicolor',\n",
       "  88: b'versicolor',\n",
       "  89: b'versicolor',\n",
       "  9: b'setosa',\n",
       "  90: b'versicolor',\n",
       "  91: b'versicolor',\n",
       "  92: b'versicolor',\n",
       "  93: b'versicolor',\n",
       "  94: b'versicolor',\n",
       "  95: b'versicolor',\n",
       "  96: b'versicolor',\n",
       "  97: b'versicolor',\n",
       "  98: b'versicolor',\n",
       "  99: b'versicolor'}}"
      ]
     },
     "execution_count": 50,
     "metadata": {},
     "output_type": "execute_result"
    }
   ],
   "source": [
    "load_iris_dic = {}\n",
    "with h5py.File('data/ch09_iris_dic.h5', 'r') as f:\n",
    "    for group, value in f.items():          #여기에서 group은 헤드 / value는 데이터(0:5.1 , 1:4.9)\n",
    "        temp = {}                           #임시 딕셔너리 temp를 지정해줌, 어떤값을 넣을껀가?\n",
    "        for key, data in value.items():     # \n",
    "            temp[int(key)] = data[()]      \n",
    "        load_iris_dic[group] = temp\n",
    "# load_iris_dic['sepal_length'] = {0:5.4, 1:4}\n",
    "# load_iris_dic['sepal_width'] = {0:5.2, 1:4}\n",
    "load_iris_dic"
   ]
  },
  {
   "cell_type": "code",
   "execution_count": null,
   "id": "09b2b181",
   "metadata": {},
   "outputs": [],
   "source": []
  },
  {
   "cell_type": "markdown",
   "id": "f22b586d",
   "metadata": {},
   "source": [
    "\n",
    "# 👀연습문제(8장)👀"
   ]
  },
  {
   "cell_type": "code",
   "execution_count": 223,
   "id": "84f5c65b",
   "metadata": {
    "collapsed": true
   },
   "outputs": [
    {
     "name": "stdout",
     "output_type": "stream",
     "text": [
      "첫번째 숫자를 입력하세요.hello\n",
      "유효한 숫자가 아닙니다. 다시 시도하세요.\n",
      "첫번째 숫자를 입력하세요.10\n",
      "두번째 숫자를 입력하세요.0\n",
      "입력한 수는 10.0와 0.0입니다.\n",
      "유효한 숫자가 아닙니다. 다시 시도하세요.\n",
      "첫번째 숫자를 입력하세요.3.5\n",
      "두번째 숫자를 입력하세요.hello\n",
      "유효한 숫자가 아닙니다. 다시 시도하세요.\n",
      "첫번째 숫자를 입력하세요.3.5\n",
      "두번째 숫자를 입력하세요.2\n",
      "입력한 수는 3.5와 2.0입니다.\n",
      "3.5을 2.0로 나누면 1.75입니다.\n"
     ]
    }
   ],
   "source": [
    "'''ch08 실습형 연습문제 1\n",
    "<두 수를 입력받아 나눗셈 연산을 하는 프로그램>\n",
    "- 두 숫자는 정수 또는 실수일수 있으며, 0으로 나눌 수 없습니다.\n",
    "- 올바른 두 수를 입력하고 나눗셈 연산 결과를 출력한 후 종료\n",
    "'''\n",
    "#ValueError  \n",
    "#ZeroDivisionError  \n",
    "\n",
    "while True:\n",
    "    try:\n",
    "        num1 = float(input('첫번째 숫자를 입력하세요.'))\n",
    "        num2 = float(input('두번째 숫자를 입력하세요.'))\n",
    "        print('입력한 수는 {}와 {}입니다.'.format(num1,num2))\n",
    "        print('{}을 {}로 나누면 {}입니다.'.format(num1,num2, num1/num2))\n",
    "        break\n",
    "    except ValueError :\n",
    "        print('유효한 숫자가 아닙니다. 다시 시도하세요.')\n",
    "    except ZeroDivisionError :\n",
    "        print('유효한 숫자가 아닙니다. 다시 시도하세요.')\n"
   ]
  },
  {
   "cell_type": "code",
   "execution_count": 224,
   "id": "043594f1",
   "metadata": {
    "collapsed": true
   },
   "outputs": [
    {
     "name": "stdout",
     "output_type": "stream",
     "text": [
      "첫번째 숫자를 입력하세요.ab\n",
      "유효한 숫자가 아닙니다.다시 시도하세요.\n",
      "첫번째 숫자를 입력하세요.10\n",
      "두번째 숫자를 입력하세요.0\n",
      "입력한 수는 10.0와 0.0입니다.\n",
      "유효한 숫자가 아닙니다.다시 시도하세요.\n",
      "첫번째 숫자를 입력하세요.5\n",
      "두번째 숫자를 입력하세요.3\n",
      "입력한 수는 5.0와 3.0입니다.\n",
      "5.0을 3.0로 나누면 1.6666666666666667입니다.\n"
     ]
    }
   ],
   "source": [
    "'''ch08 실습형 연습문제 2\n",
    "<두 수를 입력받아 나눗셈 연산을 하는 프로그램>\n",
    "- 두 숫자는 정수 또는 실수일수 있으며, 0으로 나눌 수 없습니다.\n",
    "- 올바른 두 수를 입력하고 나눗셈 연산 결과를 출력한 후 종료\n",
    "'''\n",
    "#ValueError  \n",
    "#ZeroDivisionError  \n",
    "\n",
    "while True:\n",
    "    try:\n",
    "        num1 = float(input('첫번째 숫자를 입력하세요.'))\n",
    "        num2 = float(input('두번째 숫자를 입력하세요.'))\n",
    "        print('입력한 수는 {}와 {}입니다.'.format(num1,num2))\n",
    "        print('{}을 {}로 나누면 {}입니다.'.format(num1,num2, num1/num2))\n",
    "        break\n",
    "    except ValueError :\n",
    "        print('유효한 숫자가 아닙니다.다시 시도하세요.')\n",
    "    except ZeroDivisionError :\n",
    "        print('유효한 숫자가 아닙니다.다시 시도하세요.')\n"
   ]
  },
  {
   "cell_type": "markdown",
   "id": "717c56df",
   "metadata": {},
   "source": [
    "# 😢연습문제 ( 고객관리)😢\n",
    "- 프로그램 시작시 'data/ch09_customers.txt'(고객 데이터 백업용)의 내용을 load (객체list)\n",
    "- 파일이 존재하지 않으면 빈 customers.txt 파일 생성, 데이터는 customer_list = []\n",
    "\n",
    "- 'data/ch09_customers.txt'(고객 데이터 백업용)의 내용\\\n",
    "    홍길동,010-0000-0000,a@a.com,30,3,까칠해\\\n",
    "    홍길동,010-0000-0000,a@a.com,30,3,까칠해\n",
    "    \n",
    "## 1.클래스 만들기"
   ]
  },
  {
   "cell_type": "code",
   "execution_count": null,
   "id": "066d5803",
   "metadata": {},
   "outputs": [],
   "source": [
    "# 객체리스트로 만들면 편함. 딕셔너리는 하나씩 다 지정해야해서 복잡함"
   ]
  },
  {
   "cell_type": "code",
   "execution_count": 29,
   "id": "2ab41a70",
   "metadata": {},
   "outputs": [],
   "source": [
    "class Customer:\n",
    "    '고객데이터와 as_dic(),to_list_style(txt백업시),__str__() 함수들이 들어갈 예정'\n",
    "    def __init__(self, name, phone, email, age, grade, etc):\n",
    "        self.name = name  \n",
    "        self.phone = phone\n",
    "        self.email = email\n",
    "        self.age = age\n",
    "        self.grade = grade\n",
    "        self.etc = etc\n",
    "    def as_dic(self):\n",
    "        return {\n",
    "            'name':self.name,\n",
    "            'phone':self.phone,\n",
    "            'email':self.email,\n",
    "            'age':self.age,\n",
    "            'grade':self.grade,\n",
    "            'etc':self.etc}\n",
    "    def to_list_style(self):   #format이나 join을 써서 사용\n",
    "#         return f'{self.name},{self.phone},{self.email},{self.age},{self.grade},{self.etc}'\n",
    "        temp = [self.name,\n",
    "                self.phone,\n",
    "                self.email,\n",
    "                str(self.age),\n",
    "                str(self.grade),\n",
    "                self.etc]\n",
    "        return ', '.join(temp)\n",
    "    \n",
    "    def __str__(self):\n",
    "        return '{:>5}\\t{:3}\\t{:13}\\t{:15}\\t{:3}\\t{}'.format('*'*self.grade,\n",
    "                                                            self.name,\n",
    "                                                            self.phone,\n",
    "                                                            self.email,\n",
    "                                                            self.age,\n",
    "                                                            self.etc)\n",
    "        #return \"*** 홍길동, 010-9999-9999, a@a.com, 30, 까칠해\"\n",
    "#         return '{:>5},{:3},{:13},{:15},{:3},{}.'.format( '*'if self.grade == 1 else \\\n",
    "#                                            '**'if self.grade == 2 else \\\n",
    "#                                            '***'if self.grade == 3 else \\\n",
    "#                                            '****'if self.grade == 4 else '*****', \\\n",
    "#                                             self.name, self.phone,self.email,self.age,self.etc)"
   ]
  },
  {
   "cell_type": "code",
   "execution_count": 30,
   "id": "f28dea6d",
   "metadata": {},
   "outputs": [],
   "source": [
    "def to_customer(row):\n",
    "    '''\n",
    "    \"홍길동, 010-9999-9999, a@a.com, 30, 3, 까칠해\" (txt파일 내용)을 \n",
    "    매개변수로 받아 Customer 객체로 return\n",
    "    '''   \n",
    "\n",
    "    data = row.split(',')  #,(컴마) 단위로 텍스트를 분리함\n",
    "    # print(data)\n",
    "    name = data[0]\n",
    "    phone = data[1].strip()  #strip은 앞뒤 white space 제거\n",
    "    email = data[2].strip()\n",
    "    age = int(data[3].strip())\n",
    "    grade = int(data[4].strip())\n",
    "    etc = data[5].strip()\n",
    "\n",
    "    return Customer(name, phone, email, age, grade, etc)"
   ]
  },
  {
   "cell_type": "code",
   "execution_count": 31,
   "id": "1fffaf98",
   "metadata": {},
   "outputs": [
    {
     "name": "stdout",
     "output_type": "stream",
     "text": [
      "c1=   ***\t홍길동\t010-9999-9999\ta@a.com        \t 30\t까칠해\n",
      "as_dic() = {'name': '홍길동', 'phone': '010-9999-9999', 'email': 'a@a.com', 'age': 30, 'grade': 3, 'etc': '까칠해'}\n",
      "to_list_style() = 홍길동, 010-9999-9999, a@a.com, 30, 3, 까칠해\n",
      "c2 =   ***\t홍길동\t010-9999-9999\ta@a.com        \t 30\t까칠해\n"
     ]
    }
   ],
   "source": [
    "c1 = Customer('홍길동','010-9999-9999', 'a@a.com', 30, 3, '까칠해')\n",
    "print('c1=',c1)\n",
    "print('as_dic() =',c1.as_dic())\n",
    "print('to_list_style() =',c1.to_list_style())\n",
    "c2 = to_customer('홍길동, 010-9999-9999, a@a.com, 30, 3, 까칠해')\n",
    "print('c2 =',c2)"
   ]
  },
  {
   "cell_type": "code",
   "execution_count": 23,
   "id": "ca345e3f",
   "metadata": {},
   "outputs": [
    {
     "data": {
      "text/plain": [
       "\"\\n#0.실행하면 'data/ch09_customers.txt 파일 내용을 load(customer_list)\\n# data/ch09_customers.txt이 존재하지 않으면 빈 data/ch09_customers.txt파일을 생성, 데이터는 customer_list=[]\\n#def load_customoers()\\n1번 - 입력\\n2번 - 전체 출력\\n3번 - 삭제\\n4번 - 이름찾기\\n5번 - 내보내기(csv)\\n9번 - 종료 \\n\""
      ]
     },
     "execution_count": 23,
     "metadata": {},
     "output_type": "execute_result"
    }
   ],
   "source": [
    "\"\"\"\n",
    "#0.실행하면 'data/ch09_customers.txt 파일 내용을 load(customer_list)\n",
    "# data/ch09_customers.txt이 존재하지 않으면 빈 data/ch09_customers.txt파일을 생성, 데이터는 customer_list=[]\n",
    "#def load_customoers()\n",
    "1번 - 입력\n",
    "2번 - 전체 출력\n",
    "3번 - 삭제\n",
    "4번 - 이름찾기\n",
    "5번 - 내보내기(csv)\n",
    "9번 - 종료 \n",
    "\"\"\""
   ]
  },
  {
   "cell_type": "markdown",
   "id": "941e3220",
   "metadata": {},
   "source": [
    "## 01. 처음 실행시 호출\n",
    "- ch09_customers.txt(백업데이터) 에서 customer_list return\n",
    "- 파일이 없으면 빈 파일 생성,customer_list = [ ] return"
   ]
  },
  {
   "cell_type": "code",
   "execution_count": 75,
   "id": "5c971da2",
   "metadata": {},
   "outputs": [],
   "source": [
    "def load_customers():\n",
    "    customer_list = []\n",
    "#     with open('data/ch09_customers.txt', 'r') as :f 이렇게 하면 파일이 없으면 오류 발생 바로 open 불가, try로 예외처리 \n",
    "    try:\n",
    "        with open('data/ch09_customers.txt', 'r', encoding='utf-8') as f:\n",
    "            # txt 데이터 한줄씩customer 객체로 받아 customer_list.append\n",
    "            lines = f.readlines()\n",
    "            for line in lines:\n",
    "                #line = 홍길동, 010-9999-9999, a@a.com, 30, 3, 까칠해 예시\n",
    "                customer = to_customer(line)\n",
    "                customer_list.append(customer)\n",
    "    except:\n",
    "        with open('data/ch09_customers.txt', 'w', encoding='utf-8') as f:\n",
    "            print('초기화 파일을 생성했습니다.')\n",
    "    return customer_list"
   ]
  },
  {
   "cell_type": "code",
   "execution_count": 76,
   "id": "b6505fc9",
   "metadata": {},
   "outputs": [
    {
     "name": "stdout",
     "output_type": "stream",
     "text": [
      "  ***\t홍길동\t010-9999-9999\ta@a.com        \t 30\t까칠해\n",
      " ****\t홍길동\t010-5821-1111\ta@a.com        \t 30\t까칠해\n",
      "  ***\t홍길동\t010-9999-2222\ta@a.com        \t 40\t까칠해\n",
      "  ***\t용길동\t010-3333-9999\ta@a.com        \t 40\t까칠해\n",
      "   **\t신길동\t010-9999-9999\ta@a.com        \t 60\t까칠해\n",
      "    *\t신길동\t010-8888-7777\ta@a.com        \t 70\t까칠해\n",
      "  ***\t안길동\t010-8888-7777\ta@a.com        \t 70\t까칠해\n",
      "*****\t안길동\t010-8888-7777\ta@a.com        \t 70\t까칠해\n",
      " ****\t함길동\t010-8888-7777\ta@a.com        \t 70\t까칠해\n",
      "    *\t우길동\t010-8888-7777\ta@a.com        \t 70\t까칠해\n"
     ]
    }
   ],
   "source": [
    "customer_list = load_customers()\n",
    "for customer in customer_list:\n",
    "    print(customer)"
   ]
  },
  {
   "cell_type": "markdown",
   "id": "cff0cdd3",
   "metadata": {},
   "source": [
    "### 1번.입력"
   ]
  },
  {
   "cell_type": "code",
   "execution_count": 33,
   "id": "2f3b0c83",
   "metadata": {},
   "outputs": [],
   "source": [
    "def fn1_insert_customer_info(): \n",
    "    '''\n",
    "    \n",
    "    사용자로부터 name,phone,email,age,grade,etc를 입력받아\n",
    "    Customer형 객체 반환\n",
    "    #ValueError  \n",
    "    #ZeroDivisionError  \n",
    "    '''    \n",
    "    name = input('이름을 작성해주세요: ')\n",
    "    phone = input('전화번호를 작성해주세요: ')\n",
    "    email = input('이메일을 작성해주세요: ')\n",
    "    while True:\n",
    "        try:\n",
    "            age = int(input('나이를 작성해주세요: '))\n",
    "            if (age<0) | (age>130):\n",
    "                raise Exception('나이 범위 이상')\n",
    "            break            \n",
    "        except:\n",
    "            print('올바른 나이를 입력하세요.')\n",
    "            \n",
    "    try:\n",
    "        grade = int(input('등급을 작성해주세요: '))\n",
    "#             grade =1 if grade <1 else 5 if grade>5 else grade  if문 안 쓰려면 한줄로 이렇게 쓰기\n",
    "        if grade < 1: \n",
    "            grade = 1\n",
    "        if grade > 5:\n",
    "            grade =5\n",
    "    except :\n",
    "        print('유효하지 않은 등급 입력시 1등급으로 초기화 합니다.')\n",
    "        grade = 1\n",
    "    etc = input('기타를 작성해주세요: ')\n",
    "\n",
    "    return Customer(name, phone, email, age, grade, etc) "
   ]
  },
  {
   "cell_type": "code",
   "execution_count": 77,
   "id": "d7c435fa",
   "metadata": {},
   "outputs": [
    {
     "name": "stdout",
     "output_type": "stream",
     "text": [
      "이름을 작성해주세요: 얌길동\n",
      "전화번호를 작성해주세요: 1\n",
      "이메일을 작성해주세요: 2\n",
      "나이를 작성해주세요: 3\n",
      "등급을 작성해주세요: 4\n",
      "기타를 작성해주세요: 5\n",
      "  ***\t홍길동\t010-9999-9999\ta@a.com        \t 30\t까칠해\n",
      " ****\t홍길동\t010-5821-1111\ta@a.com        \t 30\t까칠해\n",
      "  ***\t홍길동\t010-9999-2222\ta@a.com        \t 40\t까칠해\n",
      "  ***\t용길동\t010-3333-9999\ta@a.com        \t 40\t까칠해\n",
      "   **\t신길동\t010-9999-9999\ta@a.com        \t 60\t까칠해\n",
      "    *\t신길동\t010-8888-7777\ta@a.com        \t 70\t까칠해\n",
      "  ***\t안길동\t010-8888-7777\ta@a.com        \t 70\t까칠해\n",
      "*****\t안길동\t010-8888-7777\ta@a.com        \t 70\t까칠해\n",
      " ****\t함길동\t010-8888-7777\ta@a.com        \t 70\t까칠해\n",
      "    *\t우길동\t010-8888-7777\ta@a.com        \t 70\t까칠해\n",
      " ****\t얌길동\t1            \t2              \t  3\t5\n"
     ]
    }
   ],
   "source": [
    "# 1번 기능 테스트\n",
    "customer = fn1_insert_customer_info()\n",
    "customer_list.append(customer)\n",
    "for customer in customer_list:\n",
    "    print(customer)"
   ]
  },
  {
   "cell_type": "markdown",
   "id": "c8452eab",
   "metadata": {},
   "source": [
    "### 2번. 전체 출력"
   ]
  },
  {
   "cell_type": "code",
   "execution_count": 78,
   "id": "edef34dd",
   "metadata": {},
   "outputs": [],
   "source": [
    "def fn2_print_customers(customer_list):\n",
    "    'customer_list를 출력(pdf 40page 스타일)'\n",
    "    print('='*70)\n",
    "    print('{:^70}'.format('고객정보'))\n",
    "    print('-'*70)\n",
    "    print('{:>5}\\t{:3}\\t{:13}\\t{:15}\\t{:3}\\t{}'.format('GRADE','이름','전화','메일','나이','기타'))    \n",
    "    print('-'*70)\n",
    "    for customer in customer_list:\n",
    "        print(customer)"
   ]
  },
  {
   "cell_type": "code",
   "execution_count": 79,
   "id": "ff49bd05",
   "metadata": {},
   "outputs": [
    {
     "name": "stdout",
     "output_type": "stream",
     "text": [
      "======================================================================\n",
      "                                 고객정보                                 \n",
      "----------------------------------------------------------------------\n",
      "GRADE\t이름 \t전화           \t메일             \t나이 \t기타\n",
      "----------------------------------------------------------------------\n",
      "  ***\t홍길동\t010-9999-9999\ta@a.com        \t 30\t까칠해\n",
      " ****\t홍길동\t010-5821-1111\ta@a.com        \t 30\t까칠해\n",
      "  ***\t홍길동\t010-9999-2222\ta@a.com        \t 40\t까칠해\n",
      "  ***\t용길동\t010-3333-9999\ta@a.com        \t 40\t까칠해\n",
      "   **\t신길동\t010-9999-9999\ta@a.com        \t 60\t까칠해\n",
      "    *\t신길동\t010-8888-7777\ta@a.com        \t 70\t까칠해\n",
      "  ***\t안길동\t010-8888-7777\ta@a.com        \t 70\t까칠해\n",
      "*****\t안길동\t010-8888-7777\ta@a.com        \t 70\t까칠해\n",
      " ****\t함길동\t010-8888-7777\ta@a.com        \t 70\t까칠해\n",
      "    *\t우길동\t010-8888-7777\ta@a.com        \t 70\t까칠해\n",
      " ****\t얌길동\t1            \t2              \t  3\t5\n"
     ]
    }
   ],
   "source": [
    "#2번 기능 테스트\n",
    "fn2_print_customers(customer_list)"
   ]
  },
  {
   "cell_type": "markdown",
   "id": "cebeb775",
   "metadata": {},
   "source": [
    "### 3번.삭제(동명이인)"
   ]
  },
  {
   "cell_type": "code",
   "execution_count": 80,
   "id": "f1aa8b4d",
   "metadata": {},
   "outputs": [],
   "source": [
    "# def fn3_delete_customer(customer_list):\n",
    "#     '''\n",
    "#     동명이인이 없을 경우 구현\n",
    "#     '''\n",
    "def fn3_delete_customer(customer_list):\n",
    "    delname = input('삭제할 이름을 입력하세요: ')\n",
    "\n",
    "    for customer in customer_list:\n",
    "        if customer.name == delname:  # 이름이 일치하는 객체 찾기\n",
    "            customer_list.remove(customer)  # 해당 객체 삭제\n",
    "            print(f'{delname} 고객이 삭제되었습니다.')\n",
    "            return\n",
    "\n",
    "    print(f'{delname} 이름을 가진 고객을 찾을 수 없습니다.')  \n",
    "\n",
    "\n",
    "# delname = input('삭제할 이름을 입력하세요.')\n",
    "#     for customer in customer_list:\n",
    "#         if customer.name == delname:\n",
    "#             customer_list.remove(customer)\n",
    "#             print(f'{delname} 고객이 삭제되었습니다.')\n",
    "#             return\n",
    "#     print(f'{delname} 이름을 가진 고객을 찾을 수 없습니다.')\n",
    "\n",
    "\n",
    "# 1.찾기 \n",
    "# 2.지우기\n",
    "\n",
    "# customer_list로 받는다.\n",
    "# 이름 찾기. 입력한 이름 = 리스트 안에 이름\n",
    "# remove로 지우기. pop으로 지우기\n"
   ]
  },
  {
   "cell_type": "code",
   "execution_count": 81,
   "id": "8417066d",
   "metadata": {},
   "outputs": [],
   "source": [
    "#선생님 풀이 \n",
    "def fn3_delete_customer(customer_list):\n",
    "    delname = input('삭제할 고객 이름을 입력하세요: ')\n",
    "    for customer in customer_list:\n",
    "        if customer.name == delname:\n",
    "            customer_list.remove(customer)  #값을 지우는것\n",
    "            print('{} 고객을 삭제했습니다.'.format(delname))\n",
    "            break\n",
    "            \n",
    "        else:\n",
    "            print('{} 고객은 존재하지 않습니다.'.format(delname))"
   ]
  },
  {
   "cell_type": "code",
   "execution_count": 86,
   "id": "aa6e7909",
   "metadata": {},
   "outputs": [
    {
     "name": "stdout",
     "output_type": "stream",
     "text": [
      "삭제할 고객 이름을 입력하세요: 우길동\n",
      "우길동 고객은 존재하지 않습니다.\n",
      "우길동 고객은 존재하지 않습니다.\n",
      "우길동 고객은 존재하지 않습니다.\n",
      "우길동 고객은 존재하지 않습니다.\n",
      "우길동 고객은 존재하지 않습니다.\n",
      "우길동 고객은 존재하지 않습니다.\n",
      "우길동 고객은 존재하지 않습니다.\n",
      "우길동 고객을 삭제했습니다.\n"
     ]
    }
   ],
   "source": [
    "# 3번 기능 테스트\n",
    "fn3_delete_customer(customer_list)"
   ]
  },
  {
   "cell_type": "code",
   "execution_count": 87,
   "id": "8ad65d99",
   "metadata": {},
   "outputs": [
    {
     "name": "stdout",
     "output_type": "stream",
     "text": [
      "======================================================================\n",
      "                                 고객정보                                 \n",
      "----------------------------------------------------------------------\n",
      "GRADE\t이름 \t전화           \t메일             \t나이 \t기타\n",
      "----------------------------------------------------------------------\n",
      " ****\t홍길동\t010-5821-1111\ta@a.com        \t 30\t까칠해\n",
      "  ***\t홍길동\t010-9999-2222\ta@a.com        \t 40\t까칠해\n",
      "   **\t신길동\t010-9999-9999\ta@a.com        \t 60\t까칠해\n",
      "    *\t신길동\t010-8888-7777\ta@a.com        \t 70\t까칠해\n",
      "  ***\t안길동\t010-8888-7777\ta@a.com        \t 70\t까칠해\n",
      "*****\t안길동\t010-8888-7777\ta@a.com        \t 70\t까칠해\n",
      " ****\t함길동\t010-8888-7777\ta@a.com        \t 70\t까칠해\n"
     ]
    }
   ],
   "source": [
    "fn2_print_customers(customer_list)"
   ]
  },
  {
   "cell_type": "code",
   "execution_count": 103,
   "id": "5df2315f",
   "metadata": {},
   "outputs": [],
   "source": [
    "#선생님 풀이 (동명이인이 있을 경우 모두 삭제하는 방법)\n",
    "def fn3_delete_customer(customer_list):\n",
    "    delname = input('삭제할 고객 이름을 입력하세요: ')\n",
    "    delidx = [] #삭제할 인덱스를 저장하는 용도\n",
    "    for idx,customer in enumerate(customer_list):\n",
    "        if customer.name == delname:\n",
    "            delidx.append(idx)  #값을 지우는것 ,앞에서부터 지우면 연속된 데이터가 안 지워져서 역순으로 제거\n",
    "    if delidx:\n",
    "        for idx in delidx[::-1]: \n",
    "        #[0,1] 홍길동을 지우게 되면 0번째와 1번째에 있어서 이렇게 들어옴, 역순으로 제거하기 위한 -1\n",
    "            del customer_list[idx]\n",
    "        print('{}님 {}명 삭제하였습니다.'.format(delname,len(delidx)))\n",
    "    else:\n",
    "        print('{}님의 데이터가 존재하지 않습니다.'.format(delname))"
   ]
  },
  {
   "cell_type": "code",
   "execution_count": 104,
   "id": "9f24cc86",
   "metadata": {},
   "outputs": [
    {
     "name": "stdout",
     "output_type": "stream",
     "text": [
      "삭제할 고객 이름을 입력하세요: 이길동\n",
      "이길동님의 데이터가 존재하지 않습니다.\n"
     ]
    }
   ],
   "source": [
    "# 3번 기능 테스트\n",
    "customer_list = load_customers()\n",
    "fn3_delete_customer(customer_list)"
   ]
  },
  {
   "cell_type": "code",
   "execution_count": 124,
   "id": "2583e566",
   "metadata": {},
   "outputs": [
    {
     "name": "stdout",
     "output_type": "stream",
     "text": [
      "======================================================================\n",
      "                                 고객정보                                 \n",
      "----------------------------------------------------------------------\n",
      "GRADE\t이름 \t전화           \t메일             \t나이 \t기타\n",
      "----------------------------------------------------------------------\n",
      "  ***\t홍길동\t010-9999-9999\ta@a.com        \t 30\t까칠해\n",
      " ****\t홍길동\t010-5821-1111\ta@a.com        \t 30\t까칠해\n",
      "  ***\t홍길동\t010-9999-2222\ta@a.com        \t 40\t까칠해\n",
      "  ***\t용길동\t010-3333-9999\ta@a.com        \t 40\t까칠해\n",
      "   **\t신길동\t010-9999-9999\ta@a.com        \t 60\t까칠해\n",
      "    *\t신길동\t010-8888-7777\ta@a.com        \t 70\t까칠해\n",
      "  ***\t안길동\t010-8888-7777\ta@a.com        \t 70\t까칠해\n",
      "*****\t안길동\t010-8888-7777\ta@a.com        \t 70\t까칠해\n",
      " ****\t함길동\t010-8888-7777\ta@a.com        \t 70\t까칠해\n",
      "    *\t우길동\t010-8888-7777\ta@a.com        \t 70\t까칠해\n"
     ]
    }
   ],
   "source": [
    "fn2_print_customers(customer_list)"
   ]
  },
  {
   "cell_type": "markdown",
   "id": "9175a9e0",
   "metadata": {},
   "source": [
    "### 4번. 이름찾기"
   ]
  },
  {
   "cell_type": "code",
   "execution_count": 125,
   "id": "0ed68e7d",
   "metadata": {},
   "outputs": [],
   "source": [
    "'''\n",
    "찾고자 하는 이름을 input으로 받아, customer_list에서 검색하여\n",
    "같은 이름이 있으면 search_list에 append한 후 search_list를 출력\n",
    "같은 이름이 없다면 없다고 출력 \n",
    "'''\n",
    "\n",
    "def fn4_search_customer(customer_list):\n",
    "    se_name = input('찾을 이름을 입력해주세요.')\n",
    "    se_list = [] #같은 이름을 담을 리스트\n",
    "\n",
    "    for customer in customer_list:\n",
    "        if customer.name == se_name:\n",
    "            se_list.append(customer)\n",
    "            \n",
    "    if se_list:\n",
    "        fn2_print_customers(se_list)     \n",
    "        \n",
    "    else:\n",
    "        print('\\n입력하신 {} 고객님의 정보는 조회할 수 없습니다.'.format(se_name))\n",
    "    \n",
    "    \n",
    "#         else:\n",
    "#             print('입력하신 {} 고객님의 정보는 조회할 수 없습니다.'.format(se_name))"
   ]
  },
  {
   "cell_type": "code",
   "execution_count": 135,
   "id": "7dd49da0",
   "metadata": {},
   "outputs": [],
   "source": [
    "# 선생님풀이 (for문으로 )\n",
    "def fn4_search_customer(customer_list):\n",
    "    search_name = input('검색할 이름은?')\n",
    "    search_list = []\n",
    "    \n",
    "    for customer in customer_list:\n",
    "        if customer.name ==search_name:\n",
    "            search_list.append(customer)\n",
    "            \n",
    "    if search_list:\n",
    "        fn2_print_customers(search_list)\n",
    "    else:\n",
    "        print('\\n입력하신 {} 고객님의 정보는 조회할 수 없습니다.'.format(search_name))        "
   ]
  },
  {
   "cell_type": "code",
   "execution_count": 143,
   "id": "d7e8aef7",
   "metadata": {},
   "outputs": [],
   "source": [
    "# 선생님풀이 (index로 작성)\n",
    "def fn4_search_customer(customer_list):\n",
    "    search_name = input('검색할 이름은?')\n",
    "    search_idx = []\n",
    "    \n",
    "    for idx,customer in enumerate(customer_list):\n",
    "        if customer.name ==search_name:\n",
    "            search_idx.append(idx)\n",
    "            \n",
    "    if search_idx:\n",
    "        print('='*70)\n",
    "        print('{:^70}'.format('고객정보'))\n",
    "        print('-'*70)\n",
    "        print('{:>5}\\t{:3}\\t{:13}\\t{:15}\\t{:3}\\t{}'.format('GRADE','이름','전화','메일','나이','기타'))    \n",
    "        print('-'*70)\n",
    "        for idx in search_idx:\n",
    "            print(customer_list[idx])\n",
    "    else:\n",
    "        print('\\n입력하신 {} 고객님의 정보는 조회할 수 없습니다.'.format(search_name))    "
   ]
  },
  {
   "cell_type": "code",
   "execution_count": 144,
   "id": "87f800f4",
   "metadata": {},
   "outputs": [
    {
     "name": "stdout",
     "output_type": "stream",
     "text": [
      "검색할 이름은?홍길동\n",
      "======================================================================\n",
      "                                 고객정보                                 \n",
      "----------------------------------------------------------------------\n",
      "GRADE\t이름 \t전화           \t메일             \t나이 \t기타\n",
      "----------------------------------------------------------------------\n",
      "  ***\t홍길동\t010-9999-9999\ta@a.com        \t 30\t까칠해\n",
      " ****\t홍길동\t010-5821-1111\ta@a.com        \t 30\t까칠해\n",
      "  ***\t홍길동\t010-9999-2222\ta@a.com        \t 40\t까칠해\n"
     ]
    }
   ],
   "source": [
    "# 4번 기능 테스트\n",
    "fn4_search_customer(customer_list)"
   ]
  },
  {
   "cell_type": "markdown",
   "id": "c2288710",
   "metadata": {},
   "source": [
    "### 5번. 내보내기(csv)"
   ]
  },
  {
   "cell_type": "code",
   "execution_count": 150,
   "id": "1839a5f6",
   "metadata": {},
   "outputs": [],
   "source": [
    "def fn5_save_customer_csv(customer_list):\n",
    "    '''\n",
    "    \n",
    "    '''\n",
    "    pass"
   ]
  },
  {
   "cell_type": "code",
   "execution_count": null,
   "id": "30041ade",
   "metadata": {},
   "outputs": [],
   "source": [
    "# 5번 기능 테스트"
   ]
  },
  {
   "cell_type": "markdown",
   "id": "74d5a23d",
   "metadata": {},
   "source": [
    "### 9번. 종료"
   ]
  },
  {
   "cell_type": "code",
   "execution_count": 154,
   "id": "164958c2",
   "metadata": {},
   "outputs": [],
   "source": [
    "def fn9_save_customer_txt(customer_list):\n",
    "    '''\n",
    "    \n",
    "    '''\n",
    "    pass"
   ]
  },
  {
   "cell_type": "code",
   "execution_count": null,
   "id": "8525bb3a",
   "metadata": {},
   "outputs": [],
   "source": [
    "# 9번 기능 테스트"
   ]
  }
 ],
 "metadata": {
  "kernelspec": {
   "display_name": "Python 3 (ipykernel)",
   "language": "python",
   "name": "python3"
  },
  "language_info": {
   "codemirror_mode": {
    "name": "ipython",
    "version": 3
   },
   "file_extension": ".py",
   "mimetype": "text/x-python",
   "name": "python",
   "nbconvert_exporter": "python",
   "pygments_lexer": "ipython3",
   "version": "3.10.9"
  },
  "toc": {
   "base_numbering": 1,
   "nav_menu": {},
   "number_sections": false,
   "sideBar": true,
   "skip_h1_title": false,
   "title_cell": "Table of Contents",
   "title_sidebar": "Contents",
   "toc_cell": false,
   "toc_position": {
    "height": "calc(100% - 180px)",
    "left": "10px",
    "top": "150px",
    "width": "302.472px"
   },
   "toc_section_display": true,
   "toc_window_display": true
  }
 },
 "nbformat": 4,
 "nbformat_minor": 5
}
