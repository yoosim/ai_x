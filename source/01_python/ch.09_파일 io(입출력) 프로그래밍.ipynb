{
 "cells": [
  {
   "cell_type": "code",
   "execution_count": 5,
   "id": "76caae51",
   "metadata": {},
   "outputs": [
    {
     "data": {
      "text/html": [
       "\n",
       "<style>\n",
       "div.container{width:86% !important;}\n",
       "div.cell.code_cell.rendered{width:100%;}\n",
       "div.CodeMirror {font-family:Consolas; font-size:15pt;}\n",
       "div.output {font-size:15pt; font-weight:bold;}\n",
       "div.input {font-family:Consolas; font-size:15pt;}\n",
       "div.prompt {min-width:70px;}\n",
       "div#toc-wrapper{padding-top:120px;}\n",
       "div.text_cell_render ul li{font-size:12pt;padding:5px;}\n",
       "table.dataframe{font-size:15px;}\n",
       "</style>\n",
       " "
      ],
      "text/plain": [
       "<IPython.core.display.HTML object>"
      ]
     },
     "metadata": {},
     "output_type": "display_data"
    }
   ],
   "source": [
    "from IPython.display import display, HTML \n",
    "display(HTML(\"\"\"\n",
    "<style>\n",
    "div.container{width:86% !important;}\n",
    "div.cell.code_cell.rendered{width:100%;}\n",
    "div.CodeMirror {font-family:Consolas; font-size:15pt;}\n",
    "div.output {font-size:15pt; font-weight:bold;}\n",
    "div.input {font-family:Consolas; font-size:15pt;}\n",
    "div.prompt {min-width:70px;}\n",
    "div#toc-wrapper{padding-top:120px;}\n",
    "div.text_cell_render ul li{font-size:12pt;padding:5px;}\n",
    "table.dataframe{font-size:15px;}\n",
    "</style>\n",
    " \"\"\"))"
   ]
  },
  {
   "cell_type": "markdown",
   "id": "dd34ff23",
   "metadata": {},
   "source": [
    "<span style=\"color:orange; font-size: 30px; font-weight: bold;\"> ch09.파일 io(입/출력) 프로그래밍 </span>\n",
    "\n",
    "- **파일 : txt, pickle, csv, json, hdf5(h5)**\n"
   ]
  },
  {
   "cell_type": "markdown",
   "id": "56e4488c",
   "metadata": {},
   "source": [
    "<span style=\"color:green; font-size: 15px; font-weight: bold;\">\n",
    "    \n",
    "# 1절. txt 파일에 데이터 저장하고 불러오기 </span>"
   ]
  },
  {
   "cell_type": "code",
   "execution_count": 6,
   "id": "e551efa3",
   "metadata": {},
   "outputs": [
    {
     "name": "stdout",
     "output_type": "stream",
     "text": [
      "쓰기 가능한지 여부 : True\n"
     ]
    }
   ],
   "source": [
    "f = open('data/ch.09.txt', 'w')\n",
    "print('쓰기 가능한지 여부 :', f.writable())"
   ]
  },
  {
   "cell_type": "code",
   "execution_count": 7,
   "id": "8bb51155",
   "metadata": {},
   "outputs": [],
   "source": [
    "f.write('Hello\\nWorld')\n",
    "f.close() #close 하지않으면 쓴 내용 저장이 안 됨 "
   ]
  },
  {
   "cell_type": "code",
   "execution_count": 9,
   "id": "6dc1816f",
   "metadata": {},
   "outputs": [
    {
     "name": "stdout",
     "output_type": "stream",
     "text": [
      "쓰기 가능한지 여부 : True\n"
     ]
    }
   ],
   "source": [
    "# mode : 'r' 또는 'rt'   : 파일이 없는 경우 예외, 파일이 있는 경우 text 읽기 모드\n",
    "#        'rb'           : 바이너리 읽기 모드\n",
    "#        'w' 또는 'wt'  : text 쓰기모드  ('w','wt'는 파일이 있으면 덮어씀,파일이 없으면 파일 생성)\n",
    "#        'wb'          : 바이너리 쓰기 모드\n",
    "#        'a' 또는 'at'  : text 추가 모드 (파일이 있으면 append, 파일이 없으면 파일 생성)\n",
    "#        읽기모드에서 파일이 없으며 예외/쓰기 모드에서 폴더가 없으면 예외\n",
    "\n",
    "# encoding\n",
    "#          cp949 한글 완성형\n",
    "#          euc-kr 확장된 한글완성형 : open()함수 기본 encoding방식(window)\n",
    "#          utf-8 한글 조합형 : open()함수 기본 encoding방식(mac, linux), 주피터노트북 기본\n",
    "\n",
    "with open('data/ch.09.txt', 'w') as f:\n",
    "    print('쓰기 가능한지 여부 :', f.writable())\n",
    "    f.write('Hello\\nPython')"
   ]
  },
  {
   "cell_type": "code",
   "execution_count": 16,
   "id": "f997a8a4",
   "metadata": {},
   "outputs": [],
   "source": [
    "# 여러줄 저장하는 방법\n",
    "with open('data/ch.09.txt', 'w') as f:\n",
    "# 방법1.f.write여러번 작성하기 \n",
    "    f.write('홍길동, 33, 아무동9\\n')\n",
    "    f.write('김길동, 33, 아무동9\\n')\n",
    "# 방법2.리스트로 넣기 (for문으로도 가능)\n",
    "    textlist = ['홍길동, 33, 아무동9\\n','김길동, 33, 아무동9\\n']\n",
    "#     for line in textlist:\n",
    "#         f.write(line)\n",
    "# 방법3.f.writelines를 이용해서 한번에 넣기\n",
    "    f.writelines(textlist)"
   ]
  },
  {
   "cell_type": "code",
   "execution_count": 20,
   "id": "56aaa770",
   "metadata": {},
   "outputs": [
    {
     "name": "stdout",
     "output_type": "stream",
     "text": [
      "홍길동, 33, 아무동9\n",
      "김길동, 33, 아무동9\n",
      "홍길동, 33, 아무동9\n",
      "김길동, 33, 아무동9\n"
     ]
    }
   ],
   "source": [
    "# 한줄씩 읽기 \n",
    "# with open('data/ch.09.txt', 'r') as f:\n",
    "#     line = f.readline()\n",
    "#     print(line)\n",
    "    \n",
    "# 한번에 다 읽기 \n",
    "with open('data/ch.09.txt', 'r') as f:\n",
    "    line = f.readline()\n",
    "    while line !='':\n",
    "        print(line, end='')\n",
    "        line = f.readline()"
   ]
  },
  {
   "cell_type": "code",
   "execution_count": 25,
   "id": "aec7988f",
   "metadata": {
    "scrolled": true
   },
   "outputs": [
    {
     "name": "stdout",
     "output_type": "stream",
     "text": [
      "['홍길동, 33, 아무동9\\n', '김길동, 33, 아무동9\\n', '홍길동, 33, 아무동9\\n', '김길동, 33, 아무동9\\n']\n"
     ]
    }
   ],
   "source": [
    "#모든 줄을 읽기_깔끔하지 않음\n",
    "with open('data/ch.09.txt', 'r') as f:\n",
    "    lines = f.readlines()\n",
    "    print(lines)"
   ]
  },
  {
   "cell_type": "code",
   "execution_count": 26,
   "id": "5c2af8a4",
   "metadata": {},
   "outputs": [
    {
     "name": "stdout",
     "output_type": "stream",
     "text": [
      "홍길동, 33, 아무동9\n",
      "김길동, 33, 아무동9\n",
      "홍길동, 33, 아무동9\n",
      "김길동, 33, 아무동9\n",
      "\n"
     ]
    }
   ],
   "source": [
    "#모든 줄을 읽기_깔끔하게 출력이 됨\n",
    "with open('data/ch.09.txt', 'r') as f:\n",
    "    lines = f.read()\n",
    "    print(lines)"
   ]
  },
  {
   "cell_type": "markdown",
   "id": "9268beca",
   "metadata": {},
   "source": [
    "<span style=\"color:green; font-size: 15px; font-weight: bold;\">\n",
    "    \n",
    "# 2절. pickle 파일에 데이터 저장하고 불러오기\n",
    "## 2.1 형식이 있는 데이터 불러오기 </span>"
   ]
  },
  {
   "cell_type": "code",
   "execution_count": 20,
   "id": "465672e4",
   "metadata": {},
   "outputs": [],
   "source": [
    "class Member:\n",
    "    def __init__(self,name,age,email,address):\n",
    "        self.name = name \n",
    "        self.age = age\n",
    "        self.email = email\n",
    "        self.address = address\n",
    "    def __str__(self):\n",
    "        return \"{}, {}, {}, {}\".format(self.name,\n",
    "                                       \"성년\" if self.age>18 else \"미성년\",\n",
    "                                        self.email, \n",
    "                                        self.address)\n",
    "#객체를 딕셔너리로 반환해주는 변수 만들기\n",
    "    def as_dic(self):\n",
    "        return { \n",
    "            'name':self.name,\n",
    "            'age':self.age,\n",
    "            'email':self.email,\n",
    "            'address':self.address\n",
    "                    }       \n",
    "    #other 또는 obj(오브젝트)\n",
    "    def __eq__(self, other):\n",
    "        return self.name == other.name and \\\n",
    "               self.age == other.age and \\\n",
    "               self.email == other.email and \\\n",
    "               self.address == other.address"
   ]
  },
  {
   "cell_type": "code",
   "execution_count": 7,
   "id": "a487742b",
   "metadata": {},
   "outputs": [
    {
     "name": "stdout",
     "output_type": "stream",
     "text": [
      "True\n",
      "True\n"
     ]
    }
   ],
   "source": [
    "user1 = Member('홍',20,'a@a.com','신림동')\n",
    "user2 = Member('홍',20,'a@a.com','신림동')\n",
    "print(user1==user2)\n",
    "print(user1.__eq__(user2)) \n",
    "#같은 내용이면 True가 되도록 만들고 싶음. (self.name 과 name이 같은지 하나씩 다 비교)"
   ]
  },
  {
   "cell_type": "code",
   "execution_count": 8,
   "id": "a5a4a8f1",
   "metadata": {},
   "outputs": [
    {
     "name": "stdout",
     "output_type": "stream",
     "text": [
      "True\n",
      "True\n"
     ]
    }
   ],
   "source": [
    "#__eq__메서드를 만든 후, 같은 값을 가지고 있는지 체크\n",
    "user1 = Member('홍',20,'a@a.com','신림동')\n",
    "user2 = Member('홍',20,'a@a.com','신림동')\n",
    "print(user1==user2)\n",
    "print(user1.__eq__(user2)) "
   ]
  },
  {
   "cell_type": "code",
   "execution_count": 34,
   "id": "9a267db7",
   "metadata": {},
   "outputs": [],
   "source": [
    "# 형식이 있는 txt 파일 내용을 객체 리스트 (member list(피클로 저장), 딕셔너리 list(데이터프레임)로 저장)\n",
    "\n",
    "user_list = [] #member list\n",
    "user_dict = [] #딕셔너리 list\n",
    "\n",
    "with open('data/ch09_member.txt', 'r', encoding='utf-8') as f:\n",
    "    lines = f.readlines()\n",
    "#print(lines)\n",
    "for line in lines:\n",
    "    data = line.split(',')\n",
    "#    print(data)\n",
    "    name = data[0]\n",
    "    age = int(data[1].strip()) #strip():좌우 공백 (space, \\t, \\n 제거)\n",
    "    email = data[2].strip()\n",
    "    address = data[3].strip()\n",
    "    user = Member(name, age, email, address)\n",
    "    user_list.append(user)  #member타입의 리스트 \n",
    "    user_dict.append(user.as_dic())\n",
    "#    user_dict.append(user.__dict__) #딕셔너리로 만들어 줌 .__dict__"
   ]
  },
  {
   "cell_type": "code",
   "execution_count": 82,
   "id": "7a17d075",
   "metadata": {},
   "outputs": [
    {
     "data": {
      "text/plain": [
       "[{'name': '홍길동', 'age': 20, 'email': 'kildong@hong.com', 'address': '서울시 관악구'},\n",
       " {'name': '홍길숙',\n",
       "  'age': 25,\n",
       "  'email': 'kilsuk1@hong.com',\n",
       "  'address': '서울시 영등포구'},\n",
       " {'name': '신길동', 'age': 30, 'email': 'shinkil@hong.com', 'address': '서울시 동작구'}]"
      ]
     },
     "execution_count": 82,
     "metadata": {},
     "output_type": "execute_result"
    }
   ],
   "source": [
    "user_dict"
   ]
  },
  {
   "cell_type": "code",
   "execution_count": 35,
   "id": "e6710eca",
   "metadata": {},
   "outputs": [
    {
     "name": "stdout",
     "output_type": "stream",
     "text": [
      "{'name': '홍길동', 'age': 20, 'email': 'kildong@hong.com', 'address': '서울시 관악구'}\n",
      "{'name': '홍길숙', 'age': 25, 'email': 'kilsuk1@hong.com', 'address': '서울시 영등포구'}\n",
      "{'name': '신길동', 'age': 30, 'email': 'shinkil@hong.com', 'address': '서울시 동작구'}\n"
     ]
    }
   ],
   "source": [
    "for user in user_dict:\n",
    "    print(user)"
   ]
  },
  {
   "cell_type": "code",
   "execution_count": 45,
   "id": "e1eef10d",
   "metadata": {},
   "outputs": [
    {
     "name": "stdout",
     "output_type": "stream",
     "text": [
      "홍길동, 성년, kildong@hong.com, 서울시 관악구\n",
      "홍길숙, 성년, kilsuk1@hong.com, 서울시 영등포구\n",
      "신길동, 성년, shinkil@hong.com, 서울시 동작구\n"
     ]
    }
   ],
   "source": [
    "for user in user_list:\n",
    "    print(user)"
   ]
  },
  {
   "cell_type": "markdown",
   "id": "d0e7c320",
   "metadata": {},
   "source": [
    "<span style=\"color:green; font-size: 15px; font-weight: bold;\">\n",
    "    \n",
    "## 2.2 피클링  </span>\n",
    "\n",
    "\n",
    "- 객체 리스트(user_list) -> 피클파일로 쓰기 \n",
    "- 피클 파일을 읽기-> 객체 리스트 (load_user_list)"
   ]
  },
  {
   "cell_type": "code",
   "execution_count": 74,
   "id": "379a3db5",
   "metadata": {},
   "outputs": [],
   "source": [
    "#피클링을 이용한 객체를 저장하기\n",
    "import pickle\n",
    "with open('data/ch09_member.data', 'wb') as f:\n",
    "    pickle.dump(user_list, f)"
   ]
  },
  {
   "cell_type": "code",
   "execution_count": 75,
   "id": "8deb8e0b",
   "metadata": {},
   "outputs": [],
   "source": [
    "#저장된 피클 파일(피클링)을 이용한 파일에서 객체 데이터로 읽기\n",
    "with open('data/ch09_member.data', 'rb') as f:\n",
    "    load_user_list = pickle.load(f)"
   ]
  },
  {
   "cell_type": "code",
   "execution_count": 76,
   "id": "e7891c03",
   "metadata": {},
   "outputs": [
    {
     "data": {
      "text/plain": [
       "True"
      ]
     },
     "execution_count": 76,
     "metadata": {},
     "output_type": "execute_result"
    }
   ],
   "source": [
    "user_list == load_user_list"
   ]
  },
  {
   "cell_type": "code",
   "execution_count": 77,
   "id": "b5c8e15b",
   "metadata": {},
   "outputs": [
    {
     "data": {
      "text/plain": [
       "[<__main__.Member at 0x202f56d4a30>,\n",
       " <__main__.Member at 0x202f56d4040>,\n",
       " <__main__.Member at 0x202f56d4fd0>]"
      ]
     },
     "execution_count": 77,
     "metadata": {},
     "output_type": "execute_result"
    }
   ],
   "source": [
    "user_list"
   ]
  },
  {
   "cell_type": "code",
   "execution_count": 78,
   "id": "27345bf5",
   "metadata": {},
   "outputs": [
    {
     "data": {
      "text/plain": [
       "[<__main__.Member at 0x202f5db2140>,\n",
       " <__main__.Member at 0x202f5e2f940>,\n",
       " <__main__.Member at 0x202f5e2cc10>]"
      ]
     },
     "execution_count": 78,
     "metadata": {},
     "output_type": "execute_result"
    }
   ],
   "source": [
    "load_user_list"
   ]
  },
  {
   "cell_type": "markdown",
   "id": "c75062a4",
   "metadata": {},
   "source": [
    "# 오류"
   ]
  },
  {
   "cell_type": "code",
   "execution_count": 225,
   "id": "8f82932d",
   "metadata": {},
   "outputs": [
    {
     "name": "stdout",
     "output_type": "stream",
     "text": [
      "0 {'name': '홍길동', 'age': 22, 'email': 'a@a.com', 'address': '신림동'}\n",
      "0 홍길동, 성년, kildong@hong.com, 서울시 관악구\n",
      "1 {'name': '김길동', 'age': 32, 'email': 'b@b.com', 'address': '신림동'}\n",
      "1 홍길숙, 성년, kilsuk1@hong.com, 서울시 영등포구\n",
      "2 {'name': '신길동', 'age': 42, 'email': 'c@c.com', 'address': '신림동'}\n",
      "2 신길동, 성년, shinkil@hong.com, 서울시 동작구\n"
     ]
    }
   ],
   "source": [
    "for idx in range(len(user_list)):\n",
    "    print(idx, user_list[idx])\n",
    "    print(idx, load_user_list[idx])"
   ]
  },
  {
   "cell_type": "code",
   "execution_count": 80,
   "id": "f0464c54",
   "metadata": {},
   "outputs": [
    {
     "name": "stdout",
     "output_type": "stream",
     "text": [
      "0 홍길동, 성년, kildong@hong.com, 서울시 관악구\n",
      "0 홍길동, 성년, kildong@hong.com, 서울시 관악구\n",
      "True\n",
      "1 홍길숙, 성년, kilsuk1@hong.com, 서울시 영등포구\n",
      "1 홍길숙, 성년, kilsuk1@hong.com, 서울시 영등포구\n",
      "True\n",
      "2 신길동, 성년, shinkil@hong.com, 서울시 동작구\n",
      "2 신길동, 성년, shinkil@hong.com, 서울시 동작구\n",
      "True\n"
     ]
    }
   ],
   "source": [
    "for idx, (user, load_user) in enumerate(zip(user_list, load_user_list)):\n",
    "    print(idx, user)\n",
    "    print(idx, load_user)\n",
    "    print(user==load_user)"
   ]
  },
  {
   "cell_type": "code",
   "execution_count": 81,
   "id": "80cb6747",
   "metadata": {},
   "outputs": [
    {
     "data": {
      "text/plain": [
       "True"
      ]
     },
     "execution_count": 81,
     "metadata": {},
     "output_type": "execute_result"
    }
   ],
   "source": [
    "result = []\n",
    "for user, load_user in zip(user_list, load_user_list):\n",
    "    result.append(user==load_user)\n",
    "all(result)"
   ]
  },
  {
   "cell_type": "markdown",
   "id": "a206a55d",
   "metadata": {},
   "source": [
    "<span style=\"color:green; font-size: 20px; font-weight: bold;\">\n",
    "    \n",
    "# 3절. CSV 형식 파일 읽기/쓰기 </span>\n",
    "\n",
    "- csv 파일 -> 리스트 데이터로 읽기 (3.1 읽기 / 3.2 쓰기) ['홍길동',20,'a@a.com']\n",
    "- csv 파일 -> 딕셔너리 데이터로 읽기 (3.3 읽기 / 3.4 쓰기)"
   ]
  },
  {
   "cell_type": "markdown",
   "id": "e2aad5e7",
   "metadata": {},
   "source": [
    "## 3.1 reader(csv 파일을 리스트 데이터로 읽기)"
   ]
  },
  {
   "cell_type": "code",
   "execution_count": 69,
   "id": "e303d033",
   "metadata": {},
   "outputs": [
    {
     "name": "stdout",
     "output_type": "stream",
     "text": [
      "[['홍길동', '20', 'kildong@hong.com', '서울시 관악구'], ['김길동', '40', 'kimdong@hong.com', '서울시 영등포구'], ['신길동', '30', 'sindong@hong.com', '서울시 동작구']]\n"
     ]
    }
   ],
   "source": [
    "import csv \n",
    "#메모장에서 열리면 rt, 안 열리면 바이너리 rb\n",
    "with open('data/ch09_member1.csv','r',encoding='utf-8') as f: \n",
    "    reader = csv.reader(f)  #한줄씩 읽어 리스트로 만들어줌\n",
    "    result = list(reader) #result에 할당을 하면 외부에서 실행이 됨.\n",
    "print(result)    \n",
    "    #print(list(reader))  #reader는 with절 안에서 실행이 되고 외부에서는 안 됨.\n",
    "    "
   ]
  },
  {
   "cell_type": "code",
   "execution_count": 72,
   "id": "a287cf3f",
   "metadata": {},
   "outputs": [
    {
     "name": "stdout",
     "output_type": "stream",
     "text": [
      "[['홍길동', 20.0, 'kildong@hong.com', '서울시 관악구'], ['김길동', 40.0, 'kimdong@hong.com', '서울시 영등포구'], ['신길동', 30.0, 'sindong@hong.com', '서울시 동작구']]\n"
     ]
    }
   ],
   "source": [
    "#\"\"(따옴표)가 없는 데이터는 numeric으로 가져오게끔 만들기\n",
    "import csv \n",
    "with open('data/ch09_member1.csv','r',encoding='utf-8') as f: \n",
    "    reader = csv.reader(f,\n",
    "                       quoting=csv.QUOTE_NONNUMERIC) #쿼터가 없는건 기존의 방법대로, 없는것은 숫자로 인식 \n",
    "    result = list(reader) \n",
    "print(result)   \n",
    "\n",
    "#reader = 리스트로 / dicreader = 딕셔너리로 받음"
   ]
  },
  {
   "cell_type": "code",
   "execution_count": 85,
   "id": "519afad4",
   "metadata": {},
   "outputs": [
    {
     "name": "stdout",
     "output_type": "stream",
     "text": [
      "[{'name': '홍길동', 'age': 20, 'email': 'kildong@hong.com', 'address': '서울시 관악구'}, {'name': '김길동', 'age': 40, 'email': 'kimdong@hong.com', 'address': '서울시 영등포구'}, {'name': '신길동', 'age': 30, 'email': 'sindong@hong.com', 'address': '서울시 동작구'}]\n"
     ]
    }
   ],
   "source": [
    "#받은 리스트를 딕셔너리로 변경_길어짐\n",
    "\n",
    "import csv \n",
    "with open('data/ch09_member1.csv','r',encoding='utf-8') as f: \n",
    "    reader = csv.reader(f,\n",
    "                       quoting=csv.QUOTE_NONNUMERIC) #쿼터가 없는건 기존의 방법대로, 없는것은 숫자로 인식 \n",
    "    result = list(reader)\n",
    "dict_list = []\n",
    "for data in result: #데이터 하나가 result에 들어감\n",
    "    dict_list.append({\n",
    "        'name':data[0],\n",
    "        'age':int(data[1]),\n",
    "        'email':data[2],\n",
    "        'address':data[3]        \n",
    "    })\n",
    "print(dict_list)"
   ]
  },
  {
   "cell_type": "markdown",
   "id": "3ef84f68",
   "metadata": {},
   "source": [
    "## 3.2 writer (리스트데이터를 쓰기)"
   ]
  },
  {
   "cell_type": "code",
   "execution_count": 91,
   "id": "ec0edfad",
   "metadata": {},
   "outputs": [],
   "source": [
    "user_list = [['홍길동', 20, 'kildong@hong.com', '서울시 관악구'], \n",
    "             ['김길동', 40, 'kimdong@hong.com', '서울시 영등포구']] #\\n이 없음"
   ]
  },
  {
   "cell_type": "code",
   "execution_count": 87,
   "id": "25c26fa5",
   "metadata": {},
   "outputs": [],
   "source": [
    "with open('data/ch09_member1_write.csv', 'a', newline='', encoding='utf-8') as f:  #newline='' \n",
    "    writer = csv.writer(f) #writer를 통해서 쓰기\n",
    "    writer.writerows(user_list)  #이렇게 하면 \"\"(따옴표가 없는거랑 똑같음) 스트링으로 작업이 됨"
   ]
  },
  {
   "cell_type": "code",
   "execution_count": 93,
   "id": "cc60cf4d",
   "metadata": {},
   "outputs": [],
   "source": [
    "with open('data/ch09_member1_write.csv', 'w', newline='', encoding='utf-8') as f:  #newline='' \n",
    "    writer = csv.writer(f, quoting=csv.QUOTE_NONNUMERIC)\n",
    "    writer.writerows(user_list)"
   ]
  },
  {
   "cell_type": "markdown",
   "id": "e9ffde33",
   "metadata": {},
   "source": [
    "## 3.3 DictReader(csv 파일을 딕셔너리로 읽기) "
   ]
  },
  {
   "cell_type": "code",
   "execution_count": 95,
   "id": "6bb565a6",
   "metadata": {},
   "outputs": [
    {
     "name": "stdout",
     "output_type": "stream",
     "text": [
      "<csv.DictReader object at 0x00000202F5CC93F0>\n"
     ]
    }
   ],
   "source": [
    "import csv\n",
    "with open('data/ch09_member3.csv', 'r', encoding='utf-8') as f:\n",
    "    dict_reader = csv.DictReader(f)\n",
    "    print(dict_reader)"
   ]
  },
  {
   "cell_type": "code",
   "execution_count": 96,
   "id": "c1bd734d",
   "metadata": {},
   "outputs": [
    {
     "name": "stdout",
     "output_type": "stream",
     "text": [
      "홍길동 20 h@h.com 서울시 관악구\n",
      "신길동 40 s@h.com 서울시 영등포구 팀장\n",
      "김길동 30 k@h.com 서울시 동작구\n"
     ]
    }
   ],
   "source": [
    "import csv\n",
    "with open('data/ch09_member3.csv', 'r', encoding='utf-8') as f:\n",
    "    dict_reader = csv.DictReader(f)\n",
    "    for row in dict_reader:\n",
    "        if row['job'] is None:\n",
    "            print(row['name'], row['age'],row['email'],row['address'])\n",
    "        else:\n",
    "            print(row['name'], row['age'],row['email'],row['address'],row['job'])"
   ]
  },
  {
   "cell_type": "code",
   "execution_count": 99,
   "id": "f0760501",
   "metadata": {},
   "outputs": [
    {
     "name": "stdout",
     "output_type": "stream",
     "text": [
      "[{'name': '홍길동', 'age': '20', 'email': 'h@h.com', 'address': '서울시 관악구', 'job': None}, {'name': '신길동', 'age': '40', 'email': 's@h.com', 'address': '서울시 영등포구', 'job': '팀장'}, {'name': '김길동', 'age': '30', 'email': 'k@h.com', 'address': '서울시 동작구', 'job': None}]\n"
     ]
    }
   ],
   "source": [
    "import csv\n",
    "with open('data/ch09_member3.csv', 'r', encoding='utf-8') as f:\n",
    "    dict_reader = csv.DictReader(f)\n",
    "    dict_list = list(dict_reader)\n",
    "print(dict_list)"
   ]
  },
  {
   "cell_type": "code",
   "execution_count": 100,
   "id": "556ab2d1",
   "metadata": {},
   "outputs": [
    {
     "name": "stdout",
     "output_type": "stream",
     "text": [
      "홍길동 20 h@h.com 서울시 관악구\n",
      "신길동 40 s@h.com 서울시 영등포구 팀장\n",
      "김길동 30 k@h.com 서울시 동작구\n"
     ]
    }
   ],
   "source": [
    "for row in dict_list:\n",
    "    if row['job'] is None:\n",
    "        print(row['name'], row['age'],row['email'],row['address'])\n",
    "    else:\n",
    "        print(row['name'], row['age'],row['email'],row['address'],row['job'])"
   ]
  },
  {
   "cell_type": "code",
   "execution_count": 109,
   "id": "1787f6a8",
   "metadata": {},
   "outputs": [
    {
     "name": "stdout",
     "output_type": "stream",
     "text": [
      "[{'Name': '홍길동', 'Age': '20', 'Email': 'kildong@hong.com', 'Address': '서울시 관악구', 'Job': ''}, {'Name': '김길동', 'Age': '40', 'Email': 'kimdong@hong.com', 'Address': '서울시 영등포구', 'Job': '팀장'}, {'Name': '신길동', 'Age': '30', 'Email': 'sindong@hong.com', 'Address': '서울시 동작구', 'Job': ''}]\n"
     ]
    }
   ],
   "source": [
    "#header가 없는 csv 파일(ch09_member-1.cp.csv)을 딕셔너리로 읽기\n",
    "with open('data/ch09_member1-cp.csv', encoding='cp949') as f:\n",
    "    dict_reader = csv.DictReader(f,\n",
    "                                fieldnames=['Name','Age','Email','Address','Job']) \n",
    "    #이렇게 하면 첫번째줄의 데이터를 헤더가 있는거로 보고 출력함\n",
    "    print(list(dict_reader))"
   ]
  },
  {
   "cell_type": "code",
   "execution_count": 105,
   "id": "12f40983",
   "metadata": {},
   "outputs": [
    {
     "name": "stdout",
     "output_type": "stream",
     "text": [
      "{'Name': '홍길동', 'Age': '20', 'Email': 'kildong@hong.com', 'Address': '서울시 관악구', 'Job': ''}\n",
      "{'Name': '김길동', 'Age': '40', 'Email': 'kimdong@hong.com', 'Address': '서울시 영등포구', 'Job': '팀장'}\n",
      "{'Name': '신길동', 'Age': '30', 'Email': 'sindong@hong.com', 'Address': '서울시 동작구', 'Job': ''}\n"
     ]
    }
   ],
   "source": [
    "#header가 없는 csv 파일(ch09_member-1.cp.csv)을 딕셔너리로 읽기\n",
    "with open('data/ch09_member1-cp.csv', encoding='cp949') as f:\n",
    "    dict_reader = csv.DictReader(f,\n",
    "                                fieldnames=['Name','Age','Email','Address','Job']) \n",
    "    for row in dict_reader:  # in뒤에는 나열가능한 데이터가 있는 \n",
    "        print(row)"
   ]
  },
  {
   "cell_type": "code",
   "execution_count": null,
   "id": "da85126a",
   "metadata": {},
   "outputs": [],
   "source": [
    "with open('data/ch09_member1-cp.csv', encoding='cp949') as f:\n",
    "    dict_reader = csv.DictReader(f,\n",
    "                                fieldnames=['Name','Age','Email','Address','Job']) \n",
    "    for row in dict_reader:  # in뒤에는 나열가능한 데이터가 있는 \n",
    "        print(row)"
   ]
  },
  {
   "cell_type": "code",
   "execution_count": 111,
   "id": "0a570dda",
   "metadata": {},
   "outputs": [
    {
     "name": "stdout",
     "output_type": "stream",
     "text": [
      "{'Name': '홍길동', 'Age': '20', 'Email': 'kildong@hong.com', 'Address': '서울시 관악구', 'Job': ''}\n",
      "{'Name': '김길동', 'Age': '40', 'Email': 'kimdong@hong.com', 'Address': '서울시 영등포구', 'Job': '팀장'}\n",
      "{'Name': '신길동', 'Age': '30', 'Email': 'sindong@hong.com', 'Address': '서울시 동작구', 'Job': ''}\n"
     ]
    }
   ],
   "source": [
    "with open('data/ch09_member1-cp.csv', encoding='cp949') as f:\n",
    "    dict_reader = csv.DictReader(f,\n",
    "                                fieldnames=['Name','Age','Email','Address','Job']) \n",
    "    result = list(dict_reader)\n",
    "for row in result:  # in뒤에는 나열가능한 데이터가 있는 \n",
    "    print(row)"
   ]
  },
  {
   "cell_type": "code",
   "execution_count": 112,
   "id": "ddd85bf1",
   "metadata": {},
   "outputs": [
    {
     "name": "stdout",
     "output_type": "stream",
     "text": [
      "{'Name': '홍길동', 'Age': '20', 'Email': 'kildong@hong.com', 'Address': '서울시 관악구', 'Job': ['']}\n",
      "{'Name': '김길동', 'Age': '40', 'Email': 'kimdong@hong.com', 'Address': '서울시 영등포구', 'Job': ['팀장']}\n",
      "{'Name': '신길동', 'Age': '30', 'Email': 'sindong@hong.com', 'Address': '서울시 동작구', 'Job': ['']}\n"
     ]
    }
   ],
   "source": [
    "#header가 없는 csv 파일(ch09_member-1.cp.csv)을 딕셔너리로 읽기\n",
    "#job이 있을 수도 있고 없을 수도 있는 파일 읽기\n",
    "\n",
    "with open('data/ch09_member1-cp.csv', encoding='cp949') as f:\n",
    "    dict_reader = csv.DictReader(f,\n",
    "                                fieldnames=['Name','Age','Email','Address'],\n",
    "                                restkey='Job')   #restkey=남는것 \n",
    "    result = list(dict_reader)\n",
    "for row in result:  # in뒤에는 나열가능한 데이터가 있는 \n",
    "    print(row)"
   ]
  },
  {
   "cell_type": "markdown",
   "id": "5a3b3dfc",
   "metadata": {},
   "source": [
    "<span style=\"color:green; font-size: 15px; font-weight: bold;\">\n",
    "    \n",
    "## 3.4 DictWriter </span>\n",
    "- 딕셔너리 리스트 -> csv파일"
   ]
  },
  {
   "cell_type": "code",
   "execution_count": 125,
   "id": "40d1bbb6",
   "metadata": {},
   "outputs": [],
   "source": [
    "user1 = {'name':'홍길동','age':22,'email':'a@a.com','address':'신림동'}\n",
    "user2 = {'name':'김길동','age':32,'email':'b@b.com','address':'신림동'}\n",
    "user3 = {'name':'신길동','age':42,'email':'c@c.com','address':'신림동'}\n",
    "user_list = [user1, user2, user3]\n",
    "list(user1.keys()) #헤더(필더이름)에는 리스트만 들어감\n",
    "fieldnames = list(user1.keys())"
   ]
  },
  {
   "cell_type": "code",
   "execution_count": 127,
   "id": "b7742ccf",
   "metadata": {},
   "outputs": [],
   "source": [
    "with open('data/ch09_member4.csv','w', encoding='utf-8', newline='') as f:\n",
    "    dict_writer = csv.DictWriter(f,\n",
    "                                fieldnames=fieldnames)\n",
    "    dict_writer.writeheader()  #데이터를 쓰는게 아닌 헤더를 쓰는 것 append로 하면 헤더 제외하고 작성 \n",
    "    dict_writer.writerows(user_list)  #한꺼번에 리스트 다 출력"
   ]
  },
  {
   "cell_type": "markdown",
   "id": "b6a674ba",
   "metadata": {},
   "source": [
    "# csv파일 <-> 데이터프레임 \n",
    "- 제일 많이 씀"
   ]
  },
  {
   "cell_type": "code",
   "execution_count": 128,
   "id": "494a95ea",
   "metadata": {},
   "outputs": [
    {
     "data": {
      "text/html": [
       "<div>\n",
       "<style scoped>\n",
       "    .dataframe tbody tr th:only-of-type {\n",
       "        vertical-align: middle;\n",
       "    }\n",
       "\n",
       "    .dataframe tbody tr th {\n",
       "        vertical-align: top;\n",
       "    }\n",
       "\n",
       "    .dataframe thead th {\n",
       "        text-align: right;\n",
       "    }\n",
       "</style>\n",
       "<table border=\"1\" class=\"dataframe\">\n",
       "  <thead>\n",
       "    <tr style=\"text-align: right;\">\n",
       "      <th></th>\n",
       "      <th>name</th>\n",
       "      <th>age</th>\n",
       "      <th>email</th>\n",
       "      <th>address</th>\n",
       "      <th>job</th>\n",
       "    </tr>\n",
       "  </thead>\n",
       "  <tbody>\n",
       "    <tr>\n",
       "      <th>0</th>\n",
       "      <td>홍길동</td>\n",
       "      <td>20</td>\n",
       "      <td>h@h.com</td>\n",
       "      <td>서울시 관악구</td>\n",
       "      <td>NaN</td>\n",
       "    </tr>\n",
       "    <tr>\n",
       "      <th>1</th>\n",
       "      <td>신길동</td>\n",
       "      <td>40</td>\n",
       "      <td>s@h.com</td>\n",
       "      <td>서울시 영등포구</td>\n",
       "      <td>팀장</td>\n",
       "    </tr>\n",
       "    <tr>\n",
       "      <th>2</th>\n",
       "      <td>김길동</td>\n",
       "      <td>30</td>\n",
       "      <td>k@h.com</td>\n",
       "      <td>서울시 동작구</td>\n",
       "      <td>NaN</td>\n",
       "    </tr>\n",
       "  </tbody>\n",
       "</table>\n",
       "</div>"
      ],
      "text/plain": [
       "  name  age    email   address  job\n",
       "0  홍길동   20  h@h.com   서울시 관악구  NaN\n",
       "1  신길동   40  s@h.com  서울시 영등포구   팀장\n",
       "2  김길동   30  k@h.com   서울시 동작구  NaN"
      ]
     },
     "execution_count": 128,
     "metadata": {},
     "output_type": "execute_result"
    }
   ],
   "source": [
    "import pandas as pd #pandas는 encoding이 기본 utf-8이므로 생략이 가능 \n",
    "member = pd.read_csv('data/ch09_member3.csv')\n",
    "member"
   ]
  },
  {
   "cell_type": "code",
   "execution_count": 129,
   "id": "55762fd2",
   "metadata": {},
   "outputs": [
    {
     "data": {
      "text/plain": [
       "pandas.core.frame.DataFrame"
      ]
     },
     "execution_count": 129,
     "metadata": {},
     "output_type": "execute_result"
    }
   ],
   "source": [
    "type(member)"
   ]
  },
  {
   "cell_type": "markdown",
   "id": "7b1ce14f",
   "metadata": {},
   "source": [
    "# 4절. JSON 데이터 저장하고 불러오기(dump,load)\n",
    "- dump : 파일 출력 \n",
    "- load : 변수로 읽기\n",
    "- 딕셔너리리스트 <-> JSON 파일 (기본)\n",
    "- 객체리스트 <-> JSON 파일\n",
    "## 4.1 dump(파일 출력)"
   ]
  },
  {
   "cell_type": "code",
   "execution_count": 130,
   "id": "aa23f433",
   "metadata": {},
   "outputs": [],
   "source": [
    "data = [{'name': '홍길동', 'age': 20, 'email': 'kildong@hong.com', 'address': '서울'},\n",
    "        {'name': '김길동', 'age': 30, 'email': 'kimdong@hong.com', 'address': '인천'}]"
   ]
  },
  {
   "cell_type": "code",
   "execution_count": 203,
   "id": "5b8571eb",
   "metadata": {},
   "outputs": [],
   "source": [
    "# ensure_ascii 옵션\n",
    "    # True : 비 ASCII문자는 유니코드 형태로 저장\n",
    "    # False : 비 ASCII문자 원래 형태로 저장\n",
    "\n",
    "import json\n",
    "with open('data/ch09_member.json', 'w', encoding='utf-8',) as jsonfile:\n",
    "    json.dump(data, #딕셔너리 리스트\n",
    "             jsonfile,\n",
    "             ensure_ascii=False)"
   ]
  },
  {
   "cell_type": "code",
   "execution_count": 204,
   "id": "375675dc",
   "metadata": {},
   "outputs": [],
   "source": [
    "class Member:\n",
    "    def __init__(self,name,age,email,address):\n",
    "        self.name = name \n",
    "        self.age = age\n",
    "        self.email = email\n",
    "        self.address = address\n",
    "    def __str__(self):\n",
    "        return \"{}, {}, {}, {}\".format(self.name,\n",
    "                                        self.age,\n",
    "                                        self.email, \n",
    "                                        self.address)\n",
    "#객체를 딕셔너리로 반환해주는 변수 만들기\n",
    "    def as_dic(self):\n",
    "        return { \n",
    "            'name':self.name,\n",
    "            'age':self.age,\n",
    "            'email':self.email,\n",
    "            'address':self.address\n",
    "                    }       \n",
    "    #other 또는 obj(오브젝트)\n",
    "    def __eq__(self, other):\n",
    "        if isinstance (other, Member):\n",
    "            return self.__dict__ == other.__dict__\n",
    "        else:\n",
    "            return False"
   ]
  },
  {
   "cell_type": "code",
   "execution_count": 146,
   "id": "bd932387",
   "metadata": {},
   "outputs": [
    {
     "name": "stdout",
     "output_type": "stream",
     "text": [
      "True\n",
      "True\n"
     ]
    }
   ],
   "source": [
    "user1 = Member('홍길동',22,'a@a.com','신림동')\n",
    "user2 = Member('홍길동',22,'a@a.com','신림동')\n",
    "print(user1.__eq__(user2))\n",
    "print(user1==user2)"
   ]
  },
  {
   "cell_type": "code",
   "execution_count": null,
   "id": "9cbf05ad",
   "metadata": {},
   "outputs": [],
   "source": []
  },
  {
   "cell_type": "code",
   "execution_count": 147,
   "id": "ba2cbdc1",
   "metadata": {},
   "outputs": [
    {
     "name": "stdout",
     "output_type": "stream",
     "text": [
      "False\n",
      "False\n"
     ]
    }
   ],
   "source": [
    "print(user1.__eq__('홍길동'))\n",
    "print(user1=='홍길동')"
   ]
  },
  {
   "cell_type": "code",
   "execution_count": 141,
   "id": "0ae46ebf",
   "metadata": {},
   "outputs": [
    {
     "name": "stdout",
     "output_type": "stream",
     "text": [
      "True\n"
     ]
    }
   ],
   "source": [
    "print(user1.__eq__(user1))"
   ]
  },
  {
   "cell_type": "code",
   "execution_count": 205,
   "id": "5d9ed3e6",
   "metadata": {},
   "outputs": [],
   "source": [
    "    def __eq__(self, other):\n",
    "        if isinstance (other, Member):\n",
    "            #return self.__str__() == other.__str__()\n",
    "            return self.__dict__ == other.__dict__\n",
    "        else:\n",
    "            return False"
   ]
  },
  {
   "cell_type": "code",
   "execution_count": 151,
   "id": "8a7e3581",
   "metadata": {},
   "outputs": [],
   "source": [
    "#객체 리스트를 json으로 넣기\n",
    "\n",
    "member_list = [Member('홍길동',22,'a@a.com','서울'),\n",
    "               Member('신길동',32,'b@b.com','서울'),\n",
    "               Member('김길동',42,'c@c.com','서울')]"
   ]
  },
  {
   "cell_type": "code",
   "execution_count": 156,
   "id": "2763c1d2",
   "metadata": {},
   "outputs": [],
   "source": [
    "with open('data/ch09_member1.json', 'w', encoding='utf-8') as jsonfile:\n",
    "    json.dump(member_list, #객체 리스트\n",
    "              jsonfile,\n",
    "              ensure_ascii=False,\n",
    "              indent='\\t',\n",
    "              default=Member.as_dic   #객체를 딕셔너리로 return하는 인스턴스 함수\n",
    "             )"
   ]
  },
  {
   "cell_type": "markdown",
   "id": "9ec7c01d",
   "metadata": {},
   "source": [
    "- JSON 파일로 만드는 방법\n",
    "1. 딕셔너리로 JSON파일로 만들기\n",
    "2. 객체리스트를 JSON파일로 만들기 (객체리스트를 딕셔너리로 만들고 JSON파일로 바꾼다. **직접적으로 바뀌는 방법은 없음**)\n",
    "\n",
    "- JSON 파일을 객체리스트로 만드는 방법\n",
    "1. JSON 파일을 딕셔너리로 만들어서 객체리스트로 만들기"
   ]
  },
  {
   "cell_type": "markdown",
   "id": "da585922",
   "metadata": {},
   "source": [
    "## 4.2 load(파일 입력)\n",
    "- json파일 -> 딕셔너리 리스트\n",
    "                 ↓\n",
    "- json파일 -> 객체 리스트"
   ]
  },
  {
   "cell_type": "code",
   "execution_count": 227,
   "id": "639c2f17",
   "metadata": {},
   "outputs": [],
   "source": [
    "def as_member(dic):\n",
    "    '매개변수로 딕셔너리를 받아 Member 객체를 return'\n",
    "    return Member(dic.get('name'), dic['age'],dic.get('email'),dic.get('address'))"
   ]
  },
  {
   "cell_type": "code",
   "execution_count": 228,
   "id": "d07b8a9e",
   "metadata": {},
   "outputs": [
    {
     "name": "stdout",
     "output_type": "stream",
     "text": [
      "홍길동, 20, z@z.com, 관악구\n"
     ]
    }
   ],
   "source": [
    "member= as_member({'name':'홍길동','age':20,'email':'z@z.com','address':'관악구'})\n",
    "print(member)"
   ]
  },
  {
   "cell_type": "code",
   "execution_count": 231,
   "id": "4e8ce6ac",
   "metadata": {},
   "outputs": [
    {
     "data": {
      "text/plain": [
       "[{'name': '홍길동', 'age': 20, 'email': 'kildong@hong.com', 'address': '서울'},\n",
       " {'name': '김길동', 'age': 30, 'email': 'kimdong@hong.com', 'address': '인천'}]"
      ]
     },
     "execution_count": 231,
     "metadata": {},
     "output_type": "execute_result"
    }
   ],
   "source": [
    "with open('data/ch09_member.json', 'r', encoding='utf-8') as f:\n",
    "    load_data = json.load(f)\n",
    "load_data"
   ]
  },
  {
   "cell_type": "code",
   "execution_count": 230,
   "id": "78aa6a20",
   "metadata": {},
   "outputs": [],
   "source": [
    "with open('data/ch09_member1.json', 'r', encoding='utf-8') as f:\n",
    "    load_member_list = json.load(f,object_hook=as_member)"
   ]
  },
  {
   "cell_type": "markdown",
   "id": "f5aed706",
   "metadata": {},
   "source": [
    "## JSON -> 데이터프레임"
   ]
  },
  {
   "cell_type": "code",
   "execution_count": 190,
   "id": "4d5cc34c",
   "metadata": {},
   "outputs": [
    {
     "data": {
      "text/html": [
       "<div>\n",
       "<style scoped>\n",
       "    .dataframe tbody tr th:only-of-type {\n",
       "        vertical-align: middle;\n",
       "    }\n",
       "\n",
       "    .dataframe tbody tr th {\n",
       "        vertical-align: top;\n",
       "    }\n",
       "\n",
       "    .dataframe thead th {\n",
       "        text-align: right;\n",
       "    }\n",
       "</style>\n",
       "<table border=\"1\" class=\"dataframe\">\n",
       "  <thead>\n",
       "    <tr style=\"text-align: right;\">\n",
       "      <th></th>\n",
       "      <th>name</th>\n",
       "      <th>age</th>\n",
       "      <th>email</th>\n",
       "      <th>address</th>\n",
       "    </tr>\n",
       "  </thead>\n",
       "  <tbody>\n",
       "    <tr>\n",
       "      <th>0</th>\n",
       "      <td>홍길동</td>\n",
       "      <td>22</td>\n",
       "      <td>a@a.com</td>\n",
       "      <td>서울</td>\n",
       "    </tr>\n",
       "    <tr>\n",
       "      <th>1</th>\n",
       "      <td>신길동</td>\n",
       "      <td>32</td>\n",
       "      <td>b@b.com</td>\n",
       "      <td>서울</td>\n",
       "    </tr>\n",
       "    <tr>\n",
       "      <th>2</th>\n",
       "      <td>김길동</td>\n",
       "      <td>42</td>\n",
       "      <td>c@c.com</td>\n",
       "      <td>서울</td>\n",
       "    </tr>\n",
       "  </tbody>\n",
       "</table>\n",
       "</div>"
      ],
      "text/plain": [
       "  name  age    email address\n",
       "0  홍길동   22  a@a.com      서울\n",
       "1  신길동   32  b@b.com      서울\n",
       "2  김길동   42  c@c.com      서울"
      ]
     },
     "execution_count": 190,
     "metadata": {},
     "output_type": "execute_result"
    }
   ],
   "source": [
    "import pandas as pd\n",
    "pd.read_json('data/ch09_member1.json')"
   ]
  },
  {
   "cell_type": "code",
   "execution_count": 195,
   "id": "a157dbec",
   "metadata": {},
   "outputs": [
    {
     "data": {
      "text/html": [
       "<div>\n",
       "<style scoped>\n",
       "    .dataframe tbody tr th:only-of-type {\n",
       "        vertical-align: middle;\n",
       "    }\n",
       "\n",
       "    .dataframe tbody tr th {\n",
       "        vertical-align: top;\n",
       "    }\n",
       "\n",
       "    .dataframe thead th {\n",
       "        text-align: right;\n",
       "    }\n",
       "</style>\n",
       "<table border=\"1\" class=\"dataframe\">\n",
       "  <thead>\n",
       "    <tr style=\"text-align: right;\">\n",
       "      <th></th>\n",
       "      <th>name</th>\n",
       "      <th>age</th>\n",
       "      <th>email</th>\n",
       "      <th>address</th>\n",
       "    </tr>\n",
       "  </thead>\n",
       "  <tbody>\n",
       "    <tr>\n",
       "      <th>0</th>\n",
       "      <td>홍길동</td>\n",
       "      <td>22</td>\n",
       "      <td>a@a.com</td>\n",
       "      <td>서울</td>\n",
       "    </tr>\n",
       "    <tr>\n",
       "      <th>1</th>\n",
       "      <td>신길동</td>\n",
       "      <td>32</td>\n",
       "      <td>b@b.com</td>\n",
       "      <td>서울</td>\n",
       "    </tr>\n",
       "    <tr>\n",
       "      <th>2</th>\n",
       "      <td>김길동</td>\n",
       "      <td>42</td>\n",
       "      <td>c@c.com</td>\n",
       "      <td>서울</td>\n",
       "    </tr>\n",
       "  </tbody>\n",
       "</table>\n",
       "</div>"
      ],
      "text/plain": [
       "  name  age    email address\n",
       "0  홍길동   22  a@a.com      서울\n",
       "1  신길동   32  b@b.com      서울\n",
       "2  김길동   42  c@c.com      서울"
      ]
     },
     "execution_count": 195,
     "metadata": {},
     "output_type": "execute_result"
    }
   ],
   "source": [
    "import pandas as pd\n",
    "pd.read_json('data/ch09_member1.json', encoding='utf-8')"
   ]
  },
  {
   "cell_type": "markdown",
   "id": "f22b586d",
   "metadata": {},
   "source": [
    "\n",
    "# 👀연습문제(8장)👀"
   ]
  },
  {
   "cell_type": "code",
   "execution_count": 223,
   "id": "84f5c65b",
   "metadata": {},
   "outputs": [
    {
     "name": "stdout",
     "output_type": "stream",
     "text": [
      "첫번째 숫자를 입력하세요.hello\n",
      "유효한 숫자가 아닙니다. 다시 시도하세요.\n",
      "첫번째 숫자를 입력하세요.10\n",
      "두번째 숫자를 입력하세요.0\n",
      "입력한 수는 10.0와 0.0입니다.\n",
      "유효한 숫자가 아닙니다. 다시 시도하세요.\n",
      "첫번째 숫자를 입력하세요.3.5\n",
      "두번째 숫자를 입력하세요.hello\n",
      "유효한 숫자가 아닙니다. 다시 시도하세요.\n",
      "첫번째 숫자를 입력하세요.3.5\n",
      "두번째 숫자를 입력하세요.2\n",
      "입력한 수는 3.5와 2.0입니다.\n",
      "3.5을 2.0로 나누면 1.75입니다.\n"
     ]
    }
   ],
   "source": [
    "'''ch08 실습형 연습문제 1\n",
    "<두 수를 입력받아 나눗셈 연산을 하는 프로그램>\n",
    "- 두 숫자는 정수 또는 실수일수 있으며, 0으로 나눌 수 없습니다.\n",
    "- 올바른 두 수를 입력하고 나눗셈 연산 결과를 출력한 후 종료\n",
    "'''\n",
    "#ValueError  \n",
    "#ZeroDivisionError  \n",
    "\n",
    "while True:\n",
    "    try:\n",
    "        num1 = float(input('첫번째 숫자를 입력하세요.'))\n",
    "        num2 = float(input('두번째 숫자를 입력하세요.'))\n",
    "        print('입력한 수는 {}와 {}입니다.'.format(num1,num2))\n",
    "        print('{}을 {}로 나누면 {}입니다.'.format(num1,num2, num1/num2))\n",
    "        break\n",
    "    except ValueError :\n",
    "        print('유효한 숫자가 아닙니다. 다시 시도하세요.')\n",
    "    except ZeroDivisionError :\n",
    "        print('유효한 숫자가 아닙니다. 다시 시도하세요.')\n"
   ]
  },
  {
   "cell_type": "code",
   "execution_count": 224,
   "id": "043594f1",
   "metadata": {},
   "outputs": [
    {
     "name": "stdout",
     "output_type": "stream",
     "text": [
      "첫번째 숫자를 입력하세요.ab\n",
      "유효한 숫자가 아닙니다.다시 시도하세요.\n",
      "첫번째 숫자를 입력하세요.10\n",
      "두번째 숫자를 입력하세요.0\n",
      "입력한 수는 10.0와 0.0입니다.\n",
      "유효한 숫자가 아닙니다.다시 시도하세요.\n",
      "첫번째 숫자를 입력하세요.5\n",
      "두번째 숫자를 입력하세요.3\n",
      "입력한 수는 5.0와 3.0입니다.\n",
      "5.0을 3.0로 나누면 1.6666666666666667입니다.\n"
     ]
    }
   ],
   "source": [
    "'''ch08 실습형 연습문제 2\n",
    "<두 수를 입력받아 나눗셈 연산을 하는 프로그램>\n",
    "- 두 숫자는 정수 또는 실수일수 있으며, 0으로 나눌 수 없습니다.\n",
    "- 올바른 두 수를 입력하고 나눗셈 연산 결과를 출력한 후 종료\n",
    "'''\n",
    "#ValueError  \n",
    "#ZeroDivisionError  \n",
    "\n",
    "while True:\n",
    "    try:\n",
    "        num1 = float(input('첫번째 숫자를 입력하세요.'))\n",
    "        num2 = float(input('두번째 숫자를 입력하세요.'))\n",
    "        print('입력한 수는 {}와 {}입니다.'.format(num1,num2))\n",
    "        print('{}을 {}로 나누면 {}입니다.'.format(num1,num2, num1/num2))\n",
    "        break\n",
    "    except ValueError :\n",
    "        print('유효한 숫자가 아닙니다.다시 시도하세요.')\n",
    "    except ZeroDivisionError :\n",
    "        print('유효한 숫자가 아닙니다.다시 시도하세요.')\n"
   ]
  },
  {
   "cell_type": "markdown",
   "id": "717c56df",
   "metadata": {},
   "source": [
    "# 😢연습문제 (9장)😢"
   ]
  },
  {
   "cell_type": "code",
   "execution_count": 239,
   "id": "7c11d749",
   "metadata": {},
   "outputs": [],
   "source": [
    "#클래스 정의 (customer)\n",
    "class Customer:\n",
    "    def __init__(self, name, call, email, age, etc):\n",
    "        self.name = name \n",
    "        self.call = call\n",
    "        self.email = email\n",
    "        self.age = age\n",
    "        self.etc = etc\n",
    "        "
   ]
  },
  {
   "cell_type": "code",
   "execution_count": 251,
   "id": "668fe664",
   "metadata": {},
   "outputs": [],
   "source": [
    "#기존 데이터 저장하기 \n",
    "data_customer = [\n",
    "                '홍길동',\"010-9999-9999\",\"hong@mega_it.com\",30,\"열심히\\n\",\n",
    "                '홍길동',\"010-8888-8888\",\"hong2@abc.com\",31,\"abc\\n\" \n",
    "]"
   ]
  },
  {
   "cell_type": "code",
   "execution_count": 253,
   "id": "68843944",
   "metadata": {},
   "outputs": [
    {
     "name": "stdout",
     "output_type": "stream",
     "text": [
      "[\"{'name': '홍길동', 'age': 20, 'email': 'kildong@hong.com', 'address': '서울'}\", \"{'name': '김길동', 'age': 30, 'email': 'kimdong@hong.com', 'address': '인천'}\"]\n"
     ]
    }
   ],
   "source": [
    "data_str = [str(x) for x in data]\n",
    "\n",
    "print(data_str)"
   ]
  },
  {
   "cell_type": "code",
   "execution_count": 255,
   "id": "3c77ec8c",
   "metadata": {},
   "outputs": [],
   "source": [
    "with open('data/ch09_testdb', 'w', encoding='utf-8') as f:\n",
    "    f.writelines(data_str)"
   ]
  },
  {
   "cell_type": "code",
   "execution_count": null,
   "id": "ca345e3f",
   "metadata": {},
   "outputs": [],
   "source": []
  },
  {
   "cell_type": "code",
   "execution_count": null,
   "id": "9b66fc28",
   "metadata": {},
   "outputs": [],
   "source": []
  },
  {
   "cell_type": "code",
   "execution_count": null,
   "id": "0ed68e7d",
   "metadata": {},
   "outputs": [],
   "source": []
  },
  {
   "cell_type": "code",
   "execution_count": null,
   "id": "4ec1931f",
   "metadata": {},
   "outputs": [],
   "source": []
  }
 ],
 "metadata": {
  "kernelspec": {
   "display_name": "Python 3 (ipykernel)",
   "language": "python",
   "name": "python3"
  },
  "language_info": {
   "codemirror_mode": {
    "name": "ipython",
    "version": 3
   },
   "file_extension": ".py",
   "mimetype": "text/x-python",
   "name": "python",
   "nbconvert_exporter": "python",
   "pygments_lexer": "ipython3",
   "version": "3.10.9"
  },
  "toc": {
   "base_numbering": 1,
   "nav_menu": {},
   "number_sections": false,
   "sideBar": true,
   "skip_h1_title": false,
   "title_cell": "Table of Contents",
   "title_sidebar": "Contents",
   "toc_cell": false,
   "toc_position": {
    "height": "calc(100% - 180px)",
    "left": "10px",
    "top": "150px",
    "width": "234.6px"
   },
   "toc_section_display": true,
   "toc_window_display": true
  }
 },
 "nbformat": 4,
 "nbformat_minor": 5
}
