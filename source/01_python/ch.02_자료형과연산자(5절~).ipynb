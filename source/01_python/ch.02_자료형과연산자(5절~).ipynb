{
 "cells": [
  {
   "cell_type": "code",
   "execution_count": 28,
   "id": "7ce9de69",
   "metadata": {},
   "outputs": [
    {
     "data": {
      "text/html": [
       "\n",
       "<style>\n",
       "div.container{width:86% !important;}\n",
       "div.cell.code_cell.rendered{width:100%;}\n",
       "div.CodeMirror {font-family:Consolas; font-size:15pt;}\n",
       "div.output {font-size:15pt; font-weight:bold;}\n",
       "div.input {font-family:Consolas; font-size:15pt;}\n",
       "div.prompt {min-width:70px;}\n",
       "div#toc-wrapper{padding-top:120px;}\n",
       "div.text_cell_render ul li{font-size:12pt;padding:5px;}\n",
       "table.dataframe{font-size:15px;}\n",
       "</style>\n",
       " "
      ],
      "text/plain": [
       "<IPython.core.display.HTML object>"
      ]
     },
     "metadata": {},
     "output_type": "display_data"
    }
   ],
   "source": [
    "from IPython.display import display, HTML \n",
    "display(HTML(\"\"\"\n",
    "<style>\n",
    "div.container{width:86% !important;}\n",
    "div.cell.code_cell.rendered{width:100%;}\n",
    "div.CodeMirror {font-family:Consolas; font-size:15pt;}\n",
    "div.output {font-size:15pt; font-weight:bold;}\n",
    "div.input {font-family:Consolas; font-size:15pt;}\n",
    "div.prompt {min-width:70px;}\n",
    "div#toc-wrapper{padding-top:120px;}\n",
    "div.text_cell_render ul li{font-size:12pt;padding:5px;}\n",
    "table.dataframe{font-size:15px;}\n",
    "</style>\n",
    " \"\"\"))"
   ]
  },
  {
   "cell_type": "markdown",
   "id": "5e0900a4",
   "metadata": {},
   "source": [
    "<font size=\"6\" color=\"HOTPINK\">CH.02 자료형과 연산자</font>\n",
    "\n",
    "# 5절. 연산자\n",
    "## 5.1 산술연산자 : +, -, *, /, //(몫연산자), %(나머지연산자), **(제곱연산자)\n",
    "- 몫연산자 : 나눗셈을 했을 때의 \"몫\"만 구하는 연산자, 소수점 아래는 버리고 정수 부분만 결과로 돌려주는 연산.\n",
    "- \n",
    "\n",
    "셔플링 : 데이터 섞기/"
   ]
  },
  {
   "cell_type": "code",
   "execution_count": 3,
   "id": "3aadc636",
   "metadata": {},
   "outputs": [
    {
     "name": "stdout",
     "output_type": "stream",
     "text": [
      "10의 5승 : 100000\n",
      "4/2(결과실수) : 2.0\n",
      "4//2(몫) : 2\n",
      "4%2(나머지) : 0\n"
     ]
    }
   ],
   "source": [
    "print('10의 5승 :',10**5)\n",
    "print('4/2(결과실수) :', 4/2)\n",
    "print('4//2(몫) :', 4//2)\n",
    "print('4%2(나머지) :', 4%2)"
   ]
  },
  {
   "cell_type": "code",
   "execution_count": 19,
   "id": "64aa5ef4",
   "metadata": {},
   "outputs": [
    {
     "name": "stdout",
     "output_type": "stream",
     "text": [
      "정수를 입력하세요 :9\n",
      "입력하신 수는 9, 2로 나눈 나머지는 1. 그래서 홀수를 입력하셨군요.\n"
     ]
    }
   ],
   "source": [
    "#퀴즈 1.정수를 입력받아 짝수인지 홀수인지 여부를 출력\n",
    "num = int(input('정수를 입력하세요 :'))\n",
    "result = num%2\n",
    "if result:\n",
    "    temp = \"홀수\"\n",
    "else:\n",
    "    temp = \"짝수\"\n",
    "    \n",
    "print(f\"입력하신 수는 {num}, 2로 나눈 나머지는 {result}. 그래서 {temp}를 입력하셨군요.\")"
   ]
  },
  {
   "cell_type": "code",
   "execution_count": 46,
   "id": "71fee65f",
   "metadata": {},
   "outputs": [
    {
     "name": "stdout",
     "output_type": "stream",
     "text": [
      "정수를 입력하세요12\n",
      "입력하신 수는 12이며, 5의 배수가 아님를 입력하셨군요.\n"
     ]
    }
   ],
   "source": [
    "#퀴즈 2.정수를 입력받아 5의 배수인지 여부를 출력\n",
    "num = int(input('정수를 입력하세요'))\n",
    "result = num%5\n",
    "if result:\n",
    "    temp = \"5의 배수가 아님\"\n",
    "else:\n",
    "    temp = \"5의 배수\"\n",
    "    \n",
    "print(f\"입력하신 수는 {num}이며, {temp}를 입력하셨군요.\")"
   ]
  },
  {
   "cell_type": "code",
   "execution_count": 57,
   "id": "5d5155a8",
   "metadata": {},
   "outputs": [
    {
     "name": "stdout",
     "output_type": "stream",
     "text": [
      "국어?99\n",
      "영어?91\n",
      "수학?92\n",
      "국어: 99\t영어: 91\t수학: 92\n",
      "총점:282\t평균: 94.0\n"
     ]
    }
   ],
   "source": [
    "#퀴즈 3.국,영,수 점수를 입력받아 다음셀에서 다음과 같이 산출\n",
    "kor = int(input(\"국어?\"))\n",
    "eng = int(input(\"영어?\"))\n",
    "mat = int(input(\"수학?\"))\n",
    "sum = kor + eng + mat\n",
    "avg = sum/3\n",
    "\n",
    "\n",
    "print(\"국어:{:3d}\\t영어:{:3d}\\t수학:{:3d}\".format(kor, eng, mat))\n",
    "print(\"총점:{:3d}\\t평균:{:5.1f}\".format(sum, avg))"
   ]
  },
  {
   "cell_type": "markdown",
   "id": "d0bdd121",
   "metadata": {},
   "source": [
    "## 5.2 할당연산자 : =, +=, -=, *=, /=, //=, %="
   ]
  },
  {
   "cell_type": "code",
   "execution_count": 59,
   "id": "5859ebe2",
   "metadata": {},
   "outputs": [
    {
     "name": "stdout",
     "output_type": "stream",
     "text": [
      "5더하기 : 15\n"
     ]
    }
   ],
   "source": [
    "a = 10\n",
    "a += 5 #a = a+5\n",
    "\n",
    "print(\"5더하기 :\", a)"
   ]
  },
  {
   "cell_type": "code",
   "execution_count": 71,
   "id": "f1cff8cd",
   "metadata": {},
   "outputs": [
    {
     "name": "stdout",
     "output_type": "stream",
     "text": [
      "5빼기 : 5\n"
     ]
    }
   ],
   "source": [
    "a = 10\n",
    "a -= 5 #a = a-5\n",
    "print(\"5빼기 :\", a)"
   ]
  },
  {
   "cell_type": "code",
   "execution_count": 72,
   "id": "26d1af30",
   "metadata": {},
   "outputs": [
    {
     "name": "stdout",
     "output_type": "stream",
     "text": [
      "5배 : 50\n"
     ]
    }
   ],
   "source": [
    "a = 10\n",
    "a *= 5 #a = a*5\n",
    "print(\"5배 :\", a)"
   ]
  },
  {
   "cell_type": "markdown",
   "id": "a4859888",
   "metadata": {},
   "source": [
    "## 5.3 논리연산자 : &,and,|,or, not(반대)"
   ]
  },
  {
   "cell_type": "code",
   "execution_count": 76,
   "id": "9f1dfb62",
   "metadata": {},
   "outputs": [
    {
     "name": "stdout",
     "output_type": "stream",
     "text": [
      "True\n",
      "0\n"
     ]
    }
   ],
   "source": [
    "# & 논리연산 (왼쪽,오른쪽 참이여야 참, 둘이 다르면 거짓)\n",
    "print( (10>3) &  (10>5) ) #논리연산 True & True\n",
    "print(12 & 1) #논리연산으로 작동되지 않음.비트연산으로 작동 비트연산    12:0000 1100 \n",
    "                                                                  # 1:0000 0001  =false(0)\n",
    "                                                               #12&1 :0000 0000"
   ]
  },
  {
   "cell_type": "code",
   "execution_count": 89,
   "id": "b6acd043",
   "metadata": {},
   "outputs": [
    {
     "name": "stdout",
     "output_type": "stream",
     "text": [
      "True\n",
      "2\n",
      "False\n",
      "False\n",
      "0\n",
      "abc\n",
      "False\n",
      "[]\n"
     ]
    }
   ],
   "source": [
    "# (&)and : 논리연산만 된다.  (flase의 값 찾기)\n",
    "#false(거짓)으로 판별되는 철번째 항의 결과 반환\n",
    "#모든 항이 참이면 마지막 항을 반환\n",
    "\n",
    "print(True and True and True)\n",
    "print(True and 1 and 2)\n",
    "print(False and True and True)\n",
    "print(False and True and 3)\n",
    "print(0 and True)\n",
    "print(True and 'abc')\n",
    "print(True and False and 2)\n",
    "print(True and [] and True)"
   ]
  },
  {
   "cell_type": "code",
   "execution_count": 110,
   "id": "f542ff3b",
   "metadata": {},
   "outputs": [
    {
     "name": "stdout",
     "output_type": "stream",
     "text": [
      "논리연산(연산자 앞뒤에 논리형일 때) : True\n",
      "비트연산(연산자 앞이나 뒤에 숫자일 때) : 3\n"
     ]
    }
   ],
   "source": [
    "# | : 논리연산, 비트연산\n",
    "result = False | True\n",
    "print('논리연산(연산자 앞뒤에 논리형일 때) :', result)\n",
    "result = False | 3 # 0000 0000 (False)\n",
    "                   # 0000 0011 (3)\n",
    "print('비트연산(연산자 앞이나 뒤에 숫자일 때) :', result)"
   ]
  },
  {
   "cell_type": "code",
   "execution_count": 99,
   "id": "72189094",
   "metadata": {},
   "outputs": [
    {
     "name": "stdout",
     "output_type": "stream",
     "text": [
      "None\n",
      "Hong\n"
     ]
    }
   ],
   "source": [
    "# or : 논리연산, 참으로 판별되는 첫번째 항을 반환 \n",
    "# 모든항이 거짓이면, 마지막항을 반환\n",
    "print(False or False or None)\n",
    "print('Hong' or ' ' or False)"
   ]
  },
  {
   "cell_type": "code",
   "execution_count": 100,
   "id": "109d1a24",
   "metadata": {},
   "outputs": [
    {
     "name": "stdout",
     "output_type": "stream",
     "text": [
      "False\n"
     ]
    }
   ],
   "source": [
    "print(not True)"
   ]
  },
  {
   "cell_type": "markdown",
   "id": "86a0f59a",
   "metadata": {},
   "source": [
    "## 5.4 비교연산자 : >,>=,<,<=,==(같다),!=(다르다)"
   ]
  },
  {
   "cell_type": "code",
   "execution_count": 111,
   "id": "3a7ae0dc",
   "metadata": {},
   "outputs": [
    {
     "name": "stdout",
     "output_type": "stream",
     "text": [
      "True\n",
      "True\n"
     ]
    }
   ],
   "source": [
    "# 비교연산자는 이항, 삼항, 사항... 다항연산자\n",
    "x = 5\n",
    "print((4<x) & (x<10))\n",
    "print(4 < x < 10)"
   ]
  },
  {
   "cell_type": "code",
   "execution_count": 115,
   "id": "78baf980",
   "metadata": {},
   "outputs": [
    {
     "name": "stdout",
     "output_type": "stream",
     "text": [
      "True\n",
      "False\n",
      "False\n",
      "True\n"
     ]
    }
   ],
   "source": [
    "# 비교연산자(<)의 우선순위가 논리연산(&)의 우선순위보다 낮다.\n",
    "print( (10>5) & (10>7) )\n",
    "print( 10>5 & 10>7 ) # 5&10이 먼저 계산됨(비트연산으로) \n",
    "                     # 0101 (5)\n",
    "                     # 1010 (10)\n",
    "print(10>0>7) #False의 값..\n",
    "\n",
    "print( 10>5 and 10>7) #&말고 and를 쓰면 됨,, 그렇지만 &를 많이 쓴다."
   ]
  },
  {
   "cell_type": "code",
   "execution_count": 120,
   "id": "cd99b7a5",
   "metadata": {},
   "outputs": [
    {
     "name": "stdout",
     "output_type": "stream",
     "text": [
      "False\n"
     ]
    }
   ],
   "source": [
    "address = '서울'\n",
    "age = 29\n",
    "\n",
    "#print(address == '서울' & age>=30)  논리연산이 더 높아서 에러나는 부분\n",
    "print( (address == '서울') & (age>=30) ) #서울에 사는 30대\n",
    "print( (address != '서울') & (age>=30) ) #서울에 안 사는 30대"
   ]
  },
  {
   "cell_type": "code",
   "execution_count": 124,
   "id": "98c36daf",
   "metadata": {},
   "outputs": [
    {
     "data": {
      "text/plain": [
       "True"
      ]
     },
     "execution_count": 124,
     "metadata": {},
     "output_type": "execute_result"
    }
   ],
   "source": [
    "# 문자 비교 : ASCII 코드 순으로 비교 가능 (A->Z , ㄱ->ㅎ 순으로 크기 비교) :특수문자<숫자<대문자<소문자\n",
    "#첫번째글자순서대로 비교하는 기준, 만약 같다면 두번째 글자순으로 내려감.\n",
    "'scott' < 'sctiger'"
   ]
  },
  {
   "cell_type": "code",
   "execution_count": 127,
   "id": "30be2262",
   "metadata": {},
   "outputs": [
    {
     "data": {
      "text/plain": [
       "True"
      ]
     },
     "execution_count": 127,
     "metadata": {},
     "output_type": "execute_result"
    }
   ],
   "source": [
    "'9' > '10' #9의 첫 숫자는 9, 10의 첫 숫자는 1로 9가 더 커서 True"
   ]
  },
  {
   "cell_type": "code",
   "execution_count": 126,
   "id": "5edcc8d0",
   "metadata": {},
   "outputs": [
    {
     "data": {
      "text/plain": [
       "True"
      ]
     },
     "execution_count": 126,
     "metadata": {},
     "output_type": "execute_result"
    }
   ],
   "source": [
    "'김길동' < '홍길동'"
   ]
  },
  {
   "cell_type": "markdown",
   "id": "e1670c29",
   "metadata": {},
   "source": [
    "## 5.5비트연산자 : &,|,^(XOR), ~"
   ]
  },
  {
   "cell_type": "code",
   "execution_count": null,
   "id": "80cc8289",
   "metadata": {},
   "outputs": [],
   "source": [
    "#x y  x&y    x^y #데이터가 같으면 0 ,다르면 1\n",
    "#0 0   0      0\n",
    "#0 1   0      1\n",
    "#1 0   0      1\n",
    "#1 1   1      0"
   ]
  },
  {
   "cell_type": "code",
   "execution_count": 134,
   "id": "2fadc7a1",
   "metadata": {},
   "outputs": [
    {
     "name": "stdout",
     "output_type": "stream",
     "text": [
      "a = 15 : 1111\n",
      "b =  2 : 0010\n",
      "a^b = 13 : 1101\n"
     ]
    }
   ],
   "source": [
    "a = 15 # 1111\n",
    "b = 2  # 0010\n",
    "print(\"a = {0:2} : {0:04b}\".format(a))\n",
    "print(\"b = {0:2} : {0:04b}\".format(b))\n",
    "print(\"a^b = {0:2} : {0:04b}\".format(a^b))"
   ]
  },
  {
   "cell_type": "markdown",
   "id": "429f2b9d",
   "metadata": {},
   "source": [
    "- 연산자 \n",
    "    - 산술연산 : + - * / // % **  \n",
    "    - 할당연산 : = += -= *= /= //= %=  \n",
    "    - 논리연산 : & and | or not \n",
    "    - 비교연산 : > >= < <= == != \n",
    "    - 비트연산 : & | ^ \n",
    "   \n",
    "    \n",
    "    *중요\n",
    "    (&와 |은 비교연산자보다 우선순위가 높다.)"
   ]
  },
  {
   "cell_type": "markdown",
   "id": "8f2978e6",
   "metadata": {},
   "source": [
    "# 6절. 문자열 다루기\n",
    "- 문자열 슬라이싱 변수.[from:stop:step] \n",
    "- len(문자열변수) : 문자갯수 *len안에 함수 \n",
    "\n",
    "- upper() : 대문자로 변환 \n",
    "- lower() :소문자로 반환\n",
    "- title() : 각 어절의 첫글자만 대문자로 반환\n",
    "- capitalize() : 첫문자만 대문자로 반환\n",
    "- count('찾을문자열') : '찾을문자열'이 몇개 들어있는지 갯수 반환 \n",
    "- find('찾을문자열) : '찾을문자열'이 왼쪽부터 시작하여 몇번째 인덱스에 있는지 인덱스 반환 (왼쪽부터 찾음)\n",
    "- rfind('찾을문자열') : '찾을문자열'이 오른쪽부터 시작하여 몇번째 인덱스에 있는지 인덱스 반환 (오른쪽부터 찾음)\n",
    "        **찾을문자열이 없으면 -1을 반환**\n",
    "    cf) index('찾을문자열') : '찾을문자열'의 인덱스를 반환 / 안 씀 \n",
    "        **없으면 에러나옴** \n",
    "- startswith('특정문자열') : '특정문자열'로 시작하는지 여부 (시작한다-Ture. 아니다 - False)\n",
    "- endswith('특정문자열') : '특정문자열'로 끝나는지 확인하는 여부 \n",
    "- strip() : 좌우 공백 제거 **자바는 트립을 씀\n",
    "- rstrip() : 오른쪽 공백제거 \n",
    "- lstrip() : 왼쪽 공백제거\n",
    "- isdigit() : 문자열이 숫자문자열인지 여부  *100명 의 단어는 문자열 (숫자가 아님)\n",
    "- islower() : 소문자문자열인지 여부\n",
    "- isupper() : 대문자문자열인지 여부 \n",
    "- replace(oldstr, newstr) : oldstr을 newstr로 변경\n",
    "- split(구분자) : 구분자를 통해서 문자 분리(리스트로 반환)\n",
    "- join(리스트) : 리스트를 연결"
   ]
  },
  {
   "cell_type": "code",
   "execution_count": 178,
   "id": "66a63767",
   "metadata": {},
   "outputs": [
    {
     "name": "stdout",
     "output_type": "stream",
     "text": [
      "1.글자수 : 39\n",
      "2.대문자로 : PYTHON IS EASY. PYTHON IS SMART. PYTHON\n",
      "3.소문자로 : python is easy. python is smart. python\n",
      "4.title : Python Is Easy. Python Is Smart. Python\n",
      "5.capitalize : Python is easy. python is smart. python\n",
      "6.python이 몇번 나오는지 : 2\n",
      "7.대소구분없이 python이 몇번 나오는지 : 3\n",
      "7.대소구분없이 python이 몇번 나오는지 : 3\n",
      "7.대소구분없이 python이 몇번 나오는지 : 3\n",
      "8.python이 나오는 첫 index 위치 : 0\n",
      "8.python이 나오는 마지막 index 위치 : 33\n",
      "8.java가 나오는 마지막 index 위치 : -1\n",
      "8.python이 나오는 첫 index 위치 : 0\n",
      "9.python으로 시작하는지 여부 : True\n",
      "9.python으로 끝나는지 여부 : False\n",
      "10.대소문자 구분없이 python으로 끝나는지 여부 : True\n"
     ]
    }
   ],
   "source": [
    "temp = \"python is easy. pYThon is smart. python\"\n",
    "print('1.글자수 :', len(temp))\n",
    "print('2.대문자로 :', temp.upper())\n",
    "print('3.소문자로 :', temp.lower())\n",
    "print('4.title :', temp.title())\n",
    "print('5.capitalize :', temp.capitalize())\n",
    "print('6.python이 몇번 나오는지 :', temp.count('python'))\n",
    "print('7.대소구분없이 python이 몇번 나오는지 :', temp.lower().count('python')) #소문자로 변환 후 카운트\n",
    "print('7.대소구분없이 python이 몇번 나오는지 :', temp.upper().count('PYTHON')) #대문자로 변환 후 카운트\n",
    "print('7.대소구분없이 python이 몇번 나오는지 :', temp.title().count('Python')) #첫글자만 대문자로 변환 후 카운트\n",
    "print('8.python이 나오는 첫 index 위치 :', temp.find('python'))\n",
    "print('8.python이 나오는 마지막 index 위치 :', temp.rfind('python'))\n",
    "print('8.java가 나오는 마지막 index 위치 :', temp.rfind('java')) #없는 단어는 -1로 반환\n",
    "print('8.python이 나오는 첫 index 위치 :', temp.index('python'))\n",
    "#print('8.python이 나오는 첫 index 위치 :', temp.index('index')) 오류나서 안 쓰는 추세\n",
    "print('9.python으로 시작하는지 여부 :', temp.startswith('python'))\n",
    "print('9.python으로 끝나는지 여부 :', temp.endswith('PYTHON'))\n",
    "print('10.대소문자 구분없이 python으로 끝나는지 여부 :', temp.upper().endswith('PYTHON'))"
   ]
  },
  {
   "cell_type": "code",
   "execution_count": 199,
   "id": "9a8eb7ce",
   "metadata": {},
   "outputs": [
    {
     "name": "stdout",
     "output_type": "stream",
     "text": [
      "11. 좌우공백제거 : [Python is easy.] \n",
      "11. 좌측공백제거 : [Python is easy.              ] \n",
      "11. 우측공백제거 : [           Python is easy.] \n",
      "12. 숫자문자열인지  : False\n",
      "13. 소문자 문자열인지 :   False\n",
      "13. 대문자 문자열인지 :   False\n",
      "14. ,제거 : 1000000000000\n",
      "14. ,제거 : 1000\n"
     ]
    }
   ],
   "source": [
    "temp = \"           Python is easy.              \"\n",
    "notdisit = \"1,000,000,000,000\"\n",
    "num_str = \"1000\"\n",
    "\n",
    "print(\"11. 좌우공백제거 : [{}] \".format(temp.strip()))\n",
    "print(\"11. 좌측공백제거 : [{}] \".format(temp.lstrip()))\n",
    "print(\"11. 우측공백제거 : [{}] \".format(temp.rstrip()))\n",
    "print(\"12. 숫자문자열인지  :\", notdisit.isdigit())\n",
    "print(\"13. 소문자 문자열인지 :  \", temp.islower())\n",
    "print(\"13. 대문자 문자열인지 :  \", temp.isupper())\n",
    "print(\"14. ,제거 :\",notdisit.replace(',','') )\n",
    "print(\"14. ,제거 :\",num_str.replace(',','') )"
   ]
  },
  {
   "cell_type": "code",
   "execution_count": 200,
   "id": "fbf92c8f",
   "metadata": {},
   "outputs": [
    {
     "name": "stdout",
     "output_type": "stream",
     "text": [
      "space 단위로 temp를 분리 : ['홍길동', '김길동', '신길동', '유길동']\n"
     ]
    }
   ],
   "source": [
    "#문자열 분리\n",
    "temp = \" 홍길동    김길동   신길동             유길동\"\n",
    "print(\"space 단위로 temp를 분리 :\",temp.split()) #기본이 space 단위로 분리"
   ]
  },
  {
   "cell_type": "code",
   "execution_count": 212,
   "id": "32fc4dd7",
   "metadata": {},
   "outputs": [
    {
     "name": "stdout",
     "output_type": "stream",
     "text": [
      " - 단위로 data를 분리(결과 : list)\n",
      "['2025', '04', '10']\n",
      "년 : 2025\n",
      "월 : 04\n",
      "일 : 10\n"
     ]
    }
   ],
   "source": [
    "data = \"2025-04-10\"\n",
    "print(\" - 단위로 data를 분리(결과 : list)\")\n",
    "data_list = data.split('-')\n",
    "print(data_list)\n",
    "print(\"년 :\",data_list[0])\n",
    "print(\"월 :\",data_list[1])\n",
    "print(\"일 :\",data_list[2])"
   ]
  },
  {
   "cell_type": "code",
   "execution_count": 217,
   "id": "1912fde5",
   "metadata": {},
   "outputs": [
    {
     "name": "stdout",
     "output_type": "stream",
     "text": [
      "원 데이터 :   Python - HTML/CSS - JavaScript - DBMS - 딥러닝(DNN-CNN-RNN) - 머신러닝\n",
      "분리된 데이터 : [' Python', 'HTML/CSS', 'JavaScript', 'DBMS', '딥러닝(DNN-CNN-RNN)', '머신러닝']\n",
      "join된 데이터 :  Python/HTML/CSS/JavaScript/DBMS/딥러닝(DNN-CNN-RNN)/머신러닝\n"
     ]
    }
   ],
   "source": [
    "# ' - ' 분리 ' / ' 합치기 (- 를 /로 바꾸기)\n",
    "temp = \" Python - HTML/CSS - JavaScript - DBMS - 딥러닝(DNN-CNN-RNN) - 머신러닝\"\n",
    "#temp.replace('-','/')\n",
    "print('원 데이터 : ', temp)\n",
    "splited_temp = temp.split(' - ')     #*문자에 쓸 수 있는 함수\n",
    "print('분리된 데이터 :', splited_temp)\n",
    "joined_temp = '/'.join(splited_temp) #*문자에 쓸 수 있는 함수\n",
    "print('join된 데이터 :',joined_temp)"
   ]
  },
  {
   "cell_type": "code",
   "execution_count": 218,
   "id": "e7f4a4ea",
   "metadata": {},
   "outputs": [],
   "source": [
    "str_ ='ABC'\n",
    "#str_ = ['A','B','C']\n"
   ]
  },
  {
   "cell_type": "code",
   "execution_count": 220,
   "id": "d8ee0590",
   "metadata": {
    "collapsed": true
   },
   "outputs": [
    {
     "data": {
      "text/plain": [
       "['__add__',\n",
       " '__class__',\n",
       " '__contains__',\n",
       " '__delattr__',\n",
       " '__dir__',\n",
       " '__doc__',\n",
       " '__eq__',\n",
       " '__format__',\n",
       " '__ge__',\n",
       " '__getattribute__',\n",
       " '__getitem__',\n",
       " '__getnewargs__',\n",
       " '__gt__',\n",
       " '__hash__',\n",
       " '__init__',\n",
       " '__init_subclass__',\n",
       " '__iter__',\n",
       " '__le__',\n",
       " '__len__',\n",
       " '__lt__',\n",
       " '__mod__',\n",
       " '__mul__',\n",
       " '__ne__',\n",
       " '__new__',\n",
       " '__reduce__',\n",
       " '__reduce_ex__',\n",
       " '__repr__',\n",
       " '__rmod__',\n",
       " '__rmul__',\n",
       " '__setattr__',\n",
       " '__sizeof__',\n",
       " '__str__',\n",
       " '__subclasshook__',\n",
       " 'capitalize',\n",
       " 'casefold',\n",
       " 'center',\n",
       " 'count',\n",
       " 'encode',\n",
       " 'endswith',\n",
       " 'expandtabs',\n",
       " 'find',\n",
       " 'format',\n",
       " 'format_map',\n",
       " 'index',\n",
       " 'isalnum',\n",
       " 'isalpha',\n",
       " 'isascii',\n",
       " 'isdecimal',\n",
       " 'isdigit',\n",
       " 'isidentifier',\n",
       " 'islower',\n",
       " 'isnumeric',\n",
       " 'isprintable',\n",
       " 'isspace',\n",
       " 'istitle',\n",
       " 'isupper',\n",
       " 'join',\n",
       " 'ljust',\n",
       " 'lower',\n",
       " 'lstrip',\n",
       " 'maketrans',\n",
       " 'partition',\n",
       " 'removeprefix',\n",
       " 'removesuffix',\n",
       " 'replace',\n",
       " 'rfind',\n",
       " 'rindex',\n",
       " 'rjust',\n",
       " 'rpartition',\n",
       " 'rsplit',\n",
       " 'rstrip',\n",
       " 'split',\n",
       " 'splitlines',\n",
       " 'startswith',\n",
       " 'strip',\n",
       " 'swapcase',\n",
       " 'title',\n",
       " 'translate',\n",
       " 'upper',\n",
       " 'zfill']"
      ]
     },
     "execution_count": 220,
     "metadata": {},
     "output_type": "execute_result"
    }
   ],
   "source": [
    "#문자열이 다룰 수 있는 함수들과 변수들 목록\n",
    "dir(str)"
   ]
  },
  {
   "cell_type": "code",
   "execution_count": 221,
   "id": "7ef915f3",
   "metadata": {
    "collapsed": true
   },
   "outputs": [
    {
     "data": {
      "text/plain": [
       "['__abs__',\n",
       " '__add__',\n",
       " '__and__',\n",
       " '__bool__',\n",
       " '__ceil__',\n",
       " '__class__',\n",
       " '__delattr__',\n",
       " '__dir__',\n",
       " '__divmod__',\n",
       " '__doc__',\n",
       " '__eq__',\n",
       " '__float__',\n",
       " '__floor__',\n",
       " '__floordiv__',\n",
       " '__format__',\n",
       " '__ge__',\n",
       " '__getattribute__',\n",
       " '__getnewargs__',\n",
       " '__gt__',\n",
       " '__hash__',\n",
       " '__index__',\n",
       " '__init__',\n",
       " '__init_subclass__',\n",
       " '__int__',\n",
       " '__invert__',\n",
       " '__le__',\n",
       " '__lshift__',\n",
       " '__lt__',\n",
       " '__mod__',\n",
       " '__mul__',\n",
       " '__ne__',\n",
       " '__neg__',\n",
       " '__new__',\n",
       " '__or__',\n",
       " '__pos__',\n",
       " '__pow__',\n",
       " '__radd__',\n",
       " '__rand__',\n",
       " '__rdivmod__',\n",
       " '__reduce__',\n",
       " '__reduce_ex__',\n",
       " '__repr__',\n",
       " '__rfloordiv__',\n",
       " '__rlshift__',\n",
       " '__rmod__',\n",
       " '__rmul__',\n",
       " '__ror__',\n",
       " '__round__',\n",
       " '__rpow__',\n",
       " '__rrshift__',\n",
       " '__rshift__',\n",
       " '__rsub__',\n",
       " '__rtruediv__',\n",
       " '__rxor__',\n",
       " '__setattr__',\n",
       " '__sizeof__',\n",
       " '__str__',\n",
       " '__sub__',\n",
       " '__subclasshook__',\n",
       " '__truediv__',\n",
       " '__trunc__',\n",
       " '__xor__',\n",
       " 'as_integer_ratio',\n",
       " 'bit_count',\n",
       " 'bit_length',\n",
       " 'conjugate',\n",
       " 'denominator',\n",
       " 'from_bytes',\n",
       " 'imag',\n",
       " 'numerator',\n",
       " 'real',\n",
       " 'to_bytes']"
      ]
     },
     "execution_count": 221,
     "metadata": {},
     "output_type": "execute_result"
    }
   ],
   "source": [
    "dir(int)"
   ]
  },
  {
   "cell_type": "markdown",
   "id": "1bb8f9ac",
   "metadata": {},
   "source": [
    "# 7절 시간,날짜,날짜시간 다루기\n"
   ]
  },
  {
   "cell_type": "code",
   "execution_count": null,
   "id": "e5aac8a3",
   "metadata": {},
   "outputs": [],
   "source": [
    "#날짜랑 시간 한번에 저장\n",
    "#오늘 날짜만 저장\n",
    "#시간만 저장\n",
    "\n",
    "#datetime 시간,날짜 함수를 지정해줌"
   ]
  },
  {
   "cell_type": "code",
   "execution_count": 5,
   "id": "967e667c",
   "metadata": {},
   "outputs": [
    {
     "data": {
      "text/plain": [
       "'C:\\\\Users\\\\Admin\\\\anaconda3\\\\lib\\\\datetime.py'"
      ]
     },
     "execution_count": 5,
     "metadata": {},
     "output_type": "execute_result"
    }
   ],
   "source": [
    "import datetime #datetime 시간,날짜 함수를 지정해서 불러올 수 있는 방안 / import는 전체 다 불러오는것\n",
    "datetime.__file__"
   ]
  },
  {
   "cell_type": "code",
   "execution_count": 6,
   "id": "eba90c36",
   "metadata": {},
   "outputs": [],
   "source": [
    "#datetime 모듈(datetime.py)안의 datetime, date, time을 import \n",
    "from datetime import datetime, date, time #특정한 날짜나 지금 이 순간을 반환해줌"
   ]
  },
  {
   "cell_type": "markdown",
   "id": "c05bbca3",
   "metadata": {},
   "source": [
    "## 7.1 시간과 날짜"
   ]
  },
  {
   "cell_type": "code",
   "execution_count": 8,
   "id": "6e290259",
   "metadata": {},
   "outputs": [
    {
     "data": {
      "text/plain": [
       "datetime.datetime(2025, 4, 7, 9, 30)"
      ]
     },
     "execution_count": 8,
     "metadata": {},
     "output_type": "execute_result"
    }
   ],
   "source": [
    "#특정한 시점을 갖는 datetime 객체 생성\n",
    "thatday = datetime(2025, 4, 7, 9, 30, 0)  #년,월,일,시,분,초    / 시간은 (2025, 4, 7)만 하면 시간은 0시 0분으로 나타남\n",
    "thatday"
   ]
  },
  {
   "cell_type": "code",
   "execution_count": 26,
   "id": "ebf35a16",
   "metadata": {},
   "outputs": [
    {
     "name": "stdout",
     "output_type": "stream",
     "text": [
      "2025-04-07 09:30:00\n",
      "Mon Apr  7 09:30:00 2025\n",
      "2025년04월07일 (월요일) 오전 09시30분 00초\n",
      "2025년04월07일 (월요일) 오전 09시30분 00초\n"
     ]
    }
   ],
   "source": [
    "print(thatday)\n",
    "print(thatday.ctime()) #ctime() : (미국)사람이 읽기쉬운 형태로 반환\n",
    "print(\"{:%Y년%m월%d일 (%A) %p %I시%M분 %S초}\".format(thatday))\n",
    "print(thatday.strftime(\"%Y년%m월%d일 (%A) %p %I시%M분 %S초\"))"
   ]
  },
  {
   "cell_type": "code",
   "execution_count": 25,
   "id": "83b5bbbc",
   "metadata": {},
   "outputs": [
    {
     "data": {
      "text/plain": [
       "'Ko_KR'"
      ]
     },
     "execution_count": 25,
     "metadata": {},
     "output_type": "execute_result"
    }
   ],
   "source": [
    "import locale #locale 지역 설정\n",
    "locale.setlocale(locale.LC_TIME, 'Ko_KR')  #한국으로 설정"
   ]
  },
  {
   "cell_type": "code",
   "execution_count": 33,
   "id": "d54a1b20",
   "metadata": {},
   "outputs": [
    {
     "name": "stdout",
     "output_type": "stream",
     "text": [
      "2025년04월11일(금요일) 오전 10시15분 12초\n"
     ]
    }
   ],
   "source": [
    "#지금 바로 데이터 출력\n",
    "now = datetime.now()\n",
    "print(now.strftime(\"%Y년%m월%d일(%A) %p %I시%M분 %S초\"))"
   ]
  },
  {
   "cell_type": "code",
   "execution_count": 34,
   "id": "c84958d9",
   "metadata": {},
   "outputs": [
    {
     "data": {
      "text/plain": [
       "datetime.timedelta(days=4, seconds=2712, microseconds=215609)"
      ]
     },
     "execution_count": 34,
     "metadata": {},
     "output_type": "execute_result"
    }
   ],
   "source": [
    "diff = now - thatday\n",
    "diff"
   ]
  },
  {
   "cell_type": "code",
   "execution_count": 36,
   "id": "7f077b45",
   "metadata": {},
   "outputs": [
    {
     "data": {
      "text/plain": [
       "4"
      ]
     },
     "execution_count": 36,
     "metadata": {},
     "output_type": "execute_result"
    }
   ],
   "source": [
    "diff.days # 초분은 필요없고 날짜만 추출하는 방법"
   ]
  },
  {
   "cell_type": "markdown",
   "id": "dfb38ba8",
   "metadata": {},
   "source": [
    "## 7.2 날짜"
   ]
  },
  {
   "cell_type": "code",
   "execution_count": 38,
   "id": "1dbd7779",
   "metadata": {},
   "outputs": [
    {
     "data": {
      "text/plain": [
       "datetime.date(2025, 9, 3)"
      ]
     },
     "execution_count": 38,
     "metadata": {},
     "output_type": "execute_result"
    }
   ],
   "source": [
    "someday = date(2025, 9, 3) #특정한 날짜 지정\n",
    "someday"
   ]
  },
  {
   "cell_type": "code",
   "execution_count": 39,
   "id": "62cd113c",
   "metadata": {},
   "outputs": [
    {
     "name": "stdout",
     "output_type": "stream",
     "text": [
      "2025년09월03일\n"
     ]
    }
   ],
   "source": [
    "print(someday.strftime(\"%Y년%m월%d일\"))"
   ]
  },
  {
   "cell_type": "code",
   "execution_count": 44,
   "id": "85c0e3b6",
   "metadata": {},
   "outputs": [
    {
     "data": {
      "text/plain": [
       "True"
      ]
     },
     "execution_count": 44,
     "metadata": {},
     "output_type": "execute_result"
    }
   ],
   "source": [
    "#오늘 날짜 지정\n",
    "today1 = datetime.now().date()\n",
    "today2 = date.today()\n",
    "today1 == today2"
   ]
  },
  {
   "cell_type": "code",
   "execution_count": 49,
   "id": "70b3bf6c",
   "metadata": {},
   "outputs": [
    {
     "name": "stdout",
     "output_type": "stream",
     "text": [
      "25년 04월 11일\n"
     ]
    }
   ],
   "source": [
    "print(today1.strftime(\"%y년 %m월 %d일\"))"
   ]
  },
  {
   "cell_type": "code",
   "execution_count": 53,
   "id": "8d98266d",
   "metadata": {},
   "outputs": [
    {
     "data": {
      "text/plain": [
       "145"
      ]
     },
     "execution_count": 53,
     "metadata": {},
     "output_type": "execute_result"
    }
   ],
   "source": [
    "diff = someday - today #날짜는 큰 수에서 작은수 빼야함, 작은수에서 큰수빼면 음수가 나옴 \n",
    "diff.days"
   ]
  },
  {
   "cell_type": "markdown",
   "id": "f940bd2c",
   "metadata": {},
   "source": [
    "## 7.3시간 "
   ]
  },
  {
   "cell_type": "code",
   "execution_count": 54,
   "id": "e6459994",
   "metadata": {},
   "outputs": [
    {
     "data": {
      "text/plain": [
       "datetime.time(13, 10)"
      ]
     },
     "execution_count": 54,
     "metadata": {},
     "output_type": "execute_result"
    }
   ],
   "source": [
    "#특정 시간\n",
    "t = time(13,10)\n",
    "t"
   ]
  },
  {
   "cell_type": "code",
   "execution_count": 56,
   "id": "1c746d2e",
   "metadata": {},
   "outputs": [
    {
     "name": "stdout",
     "output_type": "stream",
     "text": [
      "13:10:00\n",
      "오후 01시 10분\n"
     ]
    }
   ],
   "source": [
    "#특정한 시간\n",
    "print(t)\n",
    "print(t.strftime(\"%p %I시 %M분\"))"
   ]
  },
  {
   "cell_type": "code",
   "execution_count": 58,
   "id": "f7437280",
   "metadata": {},
   "outputs": [
    {
     "data": {
      "text/plain": [
       "datetime.time(10, 42, 21, 883280)"
      ]
     },
     "execution_count": 58,
     "metadata": {},
     "output_type": "execute_result"
    }
   ],
   "source": [
    "#지금 시간\n",
    "now_time = datetime.now().time()\n",
    "now_time"
   ]
  },
  {
   "cell_type": "code",
   "execution_count": 62,
   "id": "f2da8711",
   "metadata": {},
   "outputs": [
    {
     "name": "stdout",
     "output_type": "stream",
     "text": [
      "13:10:00\n",
      "13시 10분 00초\n"
     ]
    }
   ],
   "source": [
    "print(t)\n",
    "print(t.strftime(\"%H시 %M분 %S초\"))"
   ]
  },
  {
   "cell_type": "markdown",
   "id": "445278ec",
   "metadata": {},
   "source": [
    "**datetime, date, time형들을 원하는 포맷의 문자형으로 반환하는 : strftime()**\n",
    "- ()에 %Y, %y, %m , %d, %A(요일) %p(오전/오후) %H(24시) %I(12시) %M(분) %S(초)"
   ]
  },
  {
   "cell_type": "markdown",
   "id": "87099132",
   "metadata": {},
   "source": [
    "# 8절. 연습문제"
   ]
  },
  {
   "cell_type": "code",
   "execution_count": 136,
   "id": "1e2df909",
   "metadata": {},
   "outputs": [
    {
     "name": "stdout",
     "output_type": "stream",
     "text": [
      "홍길동님의 나이는 23살입니다.\n"
     ]
    }
   ],
   "source": [
    "'''\n",
    "연습문제 1.\n",
    "이름과 나이 변수를 다음 형식으로 출력하도록 format() 함수를 이용해 형식화하세요\n",
    "'''\n",
    "name = \"홍길동\"\n",
    "age = 23\n",
    "\n",
    "print(\"{}님의 나이는 {}살입니다.\".format(name,age))"
   ]
  },
  {
   "cell_type": "code",
   "execution_count": 232,
   "id": "b917452e",
   "metadata": {},
   "outputs": [
    {
     "name": "stdout",
     "output_type": "stream",
     "text": [
      "a+b의 값은? 320\n",
      "a*b의 값은? 6000\n",
      "a/b의 값은? 0.06666666666666667\n",
      "a/b의 몫의 값은? 0\n",
      "a/b의 나머지 값은? 4\n"
     ]
    }
   ],
   "source": [
    "''' \n",
    "연습문제 2. \n",
    "두 정수를 입력받아 두 수의 덧셈 , 뺄셈 , 곱셈 , 나눗셈 , 몫 , 나머지를 출력하세요\n",
    "'''\n",
    "a = 20\n",
    "b = 300\n",
    "\n",
    "print('a+b의 값은?',a+b)\n",
    "print('a*b의 값은?',a*b)\n",
    "print('a/b의 값은?', a/b)\n",
    "print('a/b의 몫의 값은?', a//b)\n",
    "print ('a/b의 나머지 값은?', a&b)"
   ]
  },
  {
   "cell_type": "code",
   "execution_count": 301,
   "id": "d25a5612",
   "metadata": {},
   "outputs": [
    {
     "name": "stdout",
     "output_type": "stream",
     "text": [
      "World Hello\n"
     ]
    }
   ],
   "source": [
    "'''\n",
    "연습문제 3.\n",
    "문자열의 분리하기와 합치기 기능을 이용하여 ‘ Hello World'가 \n",
    "할당된 변수를 이용하여 ‘World Hello' 로 출력하세요\n",
    "'''\n",
    "temp = \"Hello World\"\n",
    "#print(temp[-10::0])\n",
    "print(temp[6:], temp[0:5]) \n",
    "#print(temp[0:5])"
   ]
  },
  {
   "cell_type": "code",
   "execution_count": 305,
   "id": "cad136c3",
   "metadata": {},
   "outputs": [
    {
     "name": "stdout",
     "output_type": "stream",
     "text": [
      "bcdefa\n"
     ]
    }
   ],
   "source": [
    "'''\n",
    "연습문제4.\n",
    "x = ' abcdef ＇를 이용하여 bcdefa 로 출력하세요\n",
    "'''\n",
    "x = 'abcdef'\n",
    "print(x[1:],x[0], sep='')\n",
    "\n",
    "#선생님 찬스"
   ]
  },
  {
   "cell_type": "code",
   "execution_count": 287,
   "id": "341302e7",
   "metadata": {},
   "outputs": [
    {
     "name": "stdout",
     "output_type": "stream",
     "text": [
      "fedcba\n"
     ]
    }
   ],
   "source": [
    "'''\n",
    "연습문제5.\n",
    "x = ' abcdef ＇를 이용하여 fedcba 로 출력하세요\n",
    "'''\n",
    "x = 'abcdef'\n",
    "print(x[::-1])"
   ]
  },
  {
   "cell_type": "code",
   "execution_count": null,
   "id": "4cfdee17",
   "metadata": {},
   "outputs": [],
   "source": [
    "'''\n",
    "연습문제6.\n",
    "오늘의 온도를 섭씨온도로 입력받아 화씨 온도로 변환하는 프로그램을 작성하세요 . \n",
    "화씨 온도는 소수점이 있을 경우만 두번째 자리까지 출력되고 , 소수점이하 값이 없는 경우 \n",
    "소수점을 출력하지 않도록 합니다 다음은 섭씨와 화씨의 변환 공식입니다 . \n",
    "C 는 섭씨 , F 는 화씨\n",
    "C = (F32) / 1.8\n",
    "F = (C1.8) + 32\n",
    "'''\n",
    "\n",
    "\n",
    "num = int(input('오늘의 온도를 입력하세요 :'))\n",
    "\n",
    "\n",
    "#비상 비상,, 전혀 모르겠어요."
   ]
  },
  {
   "cell_type": "code",
   "execution_count": null,
   "id": "cc3e4720",
   "metadata": {},
   "outputs": [],
   "source": [
    "'''\n",
    "연습문제7.\n",
    "다음 중 변수 선언으로 잘못된 것을 모두 고르시오\n",
    "① for\n",
    "② 10th\n",
    "③ Student.name\n",
    "④ _1234\n",
    "'''\n",
    "\n",
    "#잘못된 것 \n",
    "for(파이썬 예약어는 명령어로 사용하지 않는다.)\n",
    "10th (숫자가 앞에 나오면 변수설정 x)\n",
    "Student.name (변수는 _만 가능하다.)\n",
    "_1234(언더바는 뒤에,,?)\n"
   ]
  },
  {
   "cell_type": "code",
   "execution_count": null,
   "id": "b295a0bb",
   "metadata": {},
   "outputs": [],
   "source": [
    "'''\n",
    "연습문제 8.\n",
    "다음코드의 실행결과는?\n",
    "text = \"Seoul A001 - programming with ptyhon\"\n",
    "print(text[:4]+text[-1]+text.split()[0])\n",
    "print(text[:4],text[-1],text.split()[0])\n",
    "'''\n",
    "SeounSeoul\n",
    "Seou n Seoul\n"
   ]
  },
  {
   "cell_type": "code",
   "execution_count": null,
   "id": "b959bf14",
   "metadata": {},
   "outputs": [],
   "source": [
    "'''\n",
    "연습문제 9.\n",
    "다음 중 파이썬 3.x 버전에서 연산식과 그 결과의 출력이 잘못된 것은?\n",
    "① 수식 8//2 결과 4\n",
    "② 수식 8/2 결과 4\n",
    "③ 수식 8 **2 결과 64\n",
    "\n",
    "'''\n",
    "\n",
    "#없음!\n"
   ]
  },
  {
   "cell_type": "code",
   "execution_count": null,
   "id": "cf551ca7",
   "metadata": {},
   "outputs": [],
   "source": [
    "'''\n",
    "연습문제 10.\n",
    "아래 프로그램의 결과는?\n",
    "x = 5\n",
    "y = \"John\"\n",
    "print(x + y)\n",
    "'''\n",
    "\n",
    "#x는 숫자 y는 문자로 계산이 안 되는거 아닐까요?\n",
    "#str로 감싸기"
   ]
  },
  {
   "cell_type": "code",
   "execution_count": 299,
   "id": "3e0f4ac3",
   "metadata": {},
   "outputs": [
    {
     "name": "stdout",
     "output_type": "stream",
     "text": [
      "나라\n"
     ]
    }
   ],
   "source": [
    "'''\n",
    "연습문제 11.\n",
    "split()함수를 이용하여 str_의 값 중 \"나라\"를 출력하는 프로그램을 완성하시오\n",
    "str_ = \"우리 나라 대한 민국\"\n",
    "'''\n",
    "\n",
    "str_ = \"우리 나라 대한 민국\"\n",
    "print(str_[3:5])"
   ]
  }
 ],
 "metadata": {
  "kernelspec": {
   "display_name": "Python 3 (ipykernel)",
   "language": "python",
   "name": "python3"
  },
  "language_info": {
   "codemirror_mode": {
    "name": "ipython",
    "version": 3
   },
   "file_extension": ".py",
   "mimetype": "text/x-python",
   "name": "python",
   "nbconvert_exporter": "python",
   "pygments_lexer": "ipython3",
   "version": "3.10.9"
  },
  "toc": {
   "base_numbering": 1,
   "nav_menu": {},
   "number_sections": false,
   "sideBar": true,
   "skip_h1_title": false,
   "title_cell": "Table of Contents",
   "title_sidebar": "Contents",
   "toc_cell": false,
   "toc_position": {
    "height": "calc(100% - 180px)",
    "left": "10px",
    "top": "150px",
    "width": "165px"
   },
   "toc_section_display": true,
   "toc_window_display": true
  }
 },
 "nbformat": 4,
 "nbformat_minor": 5
}
