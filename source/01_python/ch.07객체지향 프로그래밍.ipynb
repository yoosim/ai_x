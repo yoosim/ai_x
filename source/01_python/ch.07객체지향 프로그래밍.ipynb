{
 "cells": [
  {
   "cell_type": "code",
   "execution_count": 38,
   "id": "ac6d06bb",
   "metadata": {},
   "outputs": [
    {
     "data": {
      "text/html": [
       "\n",
       "<style>\n",
       "div.container{width:86% !important;}\n",
       "div.cell.code_cell.rendered{width:100%;}\n",
       "div.CodeMirror {font-family:Consolas; font-size:15pt;}\n",
       "div.output {font-size:15pt; font-weight:bold;}\n",
       "div.input {font-family:Consolas; font-size:15pt;}\n",
       "div.prompt {min-width:70px;}\n",
       "div#toc-wrapper{padding-top:120px;}\n",
       "div.text_cell_render ul li{font-size:12pt;padding:5px;}\n",
       "table.dataframe{font-size:15px;}\n",
       "</style>\n",
       " "
      ],
      "text/plain": [
       "<IPython.core.display.HTML object>"
      ]
     },
     "metadata": {},
     "output_type": "display_data"
    }
   ],
   "source": [
    "from IPython.display import display, HTML \n",
    "display(HTML(\"\"\"\n",
    "<style>\n",
    "div.container{width:86% !important;}\n",
    "div.cell.code_cell.rendered{width:100%;}\n",
    "div.CodeMirror {font-family:Consolas; font-size:15pt;}\n",
    "div.output {font-size:15pt; font-weight:bold;}\n",
    "div.input {font-family:Consolas; font-size:15pt;}\n",
    "div.prompt {min-width:70px;}\n",
    "div#toc-wrapper{padding-top:120px;}\n",
    "div.text_cell_render ul li{font-size:12pt;padding:5px;}\n",
    "table.dataframe{font-size:15px;}\n",
    "</style>\n",
    " \"\"\"))"
   ]
  },
  {
   "cell_type": "markdown",
   "id": "58fa1551",
   "metadata": {},
   "source": [
    "<span style=\"color:green; font-size: 30px; font-weight: bold;\">ch07.객체지향 프로그래밍</span>"
   ]
  },
  {
   "cell_type": "code",
   "execution_count": 9,
   "id": "d90c7b63",
   "metadata": {},
   "outputs": [
    {
     "name": "stdout",
     "output_type": "stream",
     "text": [
      "홍길동 남자 MBC\n",
      "홍낄쑥 None MBC\n"
     ]
    }
   ],
   "source": [
    "person1 = {'name':'홍길동','gender':'남자','accademy':'MBC'}\n",
    "person2 = {'name':'홍길숙','sender':'여자','accademy': 'MBC'}\n",
    "print(person1['name'],person1['gender'],person1['accademy'])\n",
    "person2['name']='홍낄쑥'\n",
    "print(person2['name'],person2.get('gender'),person2['accademy'])"
   ]
  },
  {
   "cell_type": "code",
   "execution_count": 24,
   "id": "2ec59b51",
   "metadata": {},
   "outputs": [],
   "source": [
    "class Person:         #클래스 이름은 대문자로 설정 , 소문자도 가능하나 많이 사용되진 않는다. \n",
    "    accademy = 'MBC'  #클래스 변수 (기본값을 MBC로 한다)\n",
    "    def __init__(self, name, gender):    #생성자함수    #self 객체를 뜻함\n",
    "        self.name = name  #객체안의 변수 (인스턴스 변수) #self 내 객체안에 name을 만들겠다. \n",
    "        self.gender = gender  #self 내 객체안에 gender를 만들겠다. \n",
    "        \n",
    "    def print_info(self):      #클래스안에는 보통 self를 써야 함. 안 들어갈 수도 있음  \n",
    "        print(\"{}는 {}입니다. {}를 다닙니다.\".format(self.name,\n",
    "                                                   self.gender,\n",
    "                                                   self.accademy))\n",
    "    def __str__(self):\n",
    "        return \"{}는 {}입니다. {}를 다닙니다.\".format(self.name,\n",
    "                                                   self.gender,\n",
    "                                                   self.accademy)"
   ]
  },
  {
   "cell_type": "code",
   "execution_count": null,
   "id": "d69c76cb",
   "metadata": {},
   "outputs": [],
   "source": [
    "#상속\n",
    "class Person(Object):  #object의 모든 권한이 Person으로 준다.  없어도 됨."
   ]
  },
  {
   "cell_type": "code",
   "execution_count": 17,
   "id": "5fab772f",
   "metadata": {},
   "outputs": [
    {
     "name": "stdout",
     "output_type": "stream",
     "text": [
      "홍길동는 남자입니다. MBC를 다닙니다.\n",
      "홍길숙는 여자입니다. MBC를 다닙니다.\n"
     ]
    }
   ],
   "source": [
    "p1 = Person('홍길동','남자') \n",
    "p2 = Person('홍길숙','여자')\n",
    "    # 첫번째 매개변수 name=홍길동,  두번째 매개변수 gender\n",
    "p1.print_info()\n",
    "p2.print_info()\n",
    "\n",
    "#()클래스안에 들어갈 변수가 있다면 __init__을 꼭 써야 함.\n",
    "                             # __init__ Person형 변수만들때 기본적으로 실행이 된다."
   ]
  },
  {
   "cell_type": "code",
   "execution_count": 28,
   "id": "703ae186",
   "metadata": {},
   "outputs": [
    {
     "name": "stdout",
     "output_type": "stream",
     "text": [
      "홍길동는 남자입니다. MBC를 다닙니다.\n",
      "홍길숙는 여자입니다. MBC를 다닙니다.\n",
      "******마길동**는 남자입니다. CBC를 다닙니다.\n",
      "홍길숙는 여자입니다. MBC를 다닙니다.\n",
      "******마길동**는 남자입니다. CBC를 다닙니다.\n",
      "홍길숙는 여자입니다. MBC를 다닙니다.\n",
      "******마길동**는 남자입니다. CBC를 다닙니다.\n",
      "홍길숙는 여자입니다. MBC를 다닙니다.\n"
     ]
    }
   ],
   "source": [
    "p1 = Person('홍길동','남자')     \n",
    "p2 = Person('홍길숙','여자')\n",
    "p1.print_info()\n",
    "p2.print_info()\n",
    "p1.name = '******마길동**'\n",
    "p1.accademy = 'CBC'\n",
    "p1.print_info()\n",
    "p2.print_info()\n",
    "print(p1.__str__())\n",
    "print(p2.__str__())\n",
    "print(p1)\n",
    "print(p2)"
   ]
  },
  {
   "cell_type": "markdown",
   "id": "958bc9e5",
   "metadata": {},
   "source": [
    "# 1절. 객체와 클래스\n",
    "```\n",
    "class 클래스명(상속받을 클래스명):\n",
    "    변수나 함수들 선언\n",
    "```"
   ]
  },
  {
   "cell_type": "code",
   "execution_count": 35,
   "id": "77288c22",
   "metadata": {},
   "outputs": [
    {
     "name": "stdout",
     "output_type": "stream",
     "text": [
      "<__main__.Person object at 0x000002308CA88D00>\n",
      "<class '__main__.Person'>\n"
     ]
    }
   ],
   "source": [
    "class Person:\n",
    "    '''\n",
    "    Person 클래스는 어쩌구 저쩌구 설명하는 독스트링\n",
    "    생성자 함수가 없을 경우, 디폴트 생성자 함수가 자동 생성\n",
    "    디폴트 생성자 : 매개변수 없는것\n",
    "    '''\n",
    "    pass\n",
    "\n",
    "p1 = Person()\n",
    "print(p1.__str__())  \n",
    "print(type(p1))"
   ]
  },
  {
   "cell_type": "code",
   "execution_count": 36,
   "id": "999cf1fa",
   "metadata": {},
   "outputs": [
    {
     "data": {
      "text/plain": [
       "True"
      ]
     },
     "execution_count": 36,
     "metadata": {},
     "output_type": "execute_result"
    }
   ],
   "source": [
    "isinstance(p1, Person) #타입 확인 (p1이 Person타입이 맞는지?)"
   ]
  },
  {
   "cell_type": "code",
   "execution_count": 37,
   "id": "35bf80e1",
   "metadata": {},
   "outputs": [
    {
     "data": {
      "text/plain": [
       "'\\n    Person 클래스는 어쩌구 저쩌구 설명하는 독스트링\\n    생성자 함수가 없을 경우, 디폴트 생성자 함수가 자동 생성\\n    디폴트 생성자 : 매개변수 없는것\\n    '"
      ]
     },
     "execution_count": 37,
     "metadata": {},
     "output_type": "execute_result"
    }
   ],
   "source": [
    "p1.__doc__"
   ]
  },
  {
   "cell_type": "markdown",
   "id": "a360ef03",
   "metadata": {},
   "source": [
    "# 2절. 생성자와 소멸자\n",
    "```\n",
    "- 생성자 : __init__(self, 매개변수,...) : 객체가 생성될 때 자동 실행\n",
    "                                        객체 생성시 필요한 인스턴스 변수 초기화를 포함\n",
    "                                        초기화 될때마다 달라지는 값\n",
    "- 소멸자 : __del__(self) : 객체가 소멸될 때 자동 실행\n",
    "                           인스턴스 객체의 레퍼런스(참조) 카운트가 0이 될 때 실행\n",
    "                          *소멸되는거라 매개변수 여러개 넣을 수 없음\n",
    "```"
   ]
  },
  {
   "cell_type": "code",
   "execution_count": 9,
   "id": "87c70c8a",
   "metadata": {},
   "outputs": [],
   "source": [
    "class Person:\n",
    "    def __init__(self, name, gender='남자'):\n",
    "        self.name = name     #객체안의 변수는 인스턴스 변수라고 함\n",
    "        self.gender = gender\n",
    "        print('Person 객체를 생성합니다.',name)        \n",
    "    def __del__(self):\n",
    "        print('Person 객체 소멸시킵니다.',self.name)\n",
    "    def print_info(self):\n",
    "        print(\"{}는 {}입니다.\".format(self.name,self.gender))\n",
    "    def __str__(self) : #오버라이딩(함수 재정의)\n",
    "        return f\"{self.name}는 {self.gender}입니다.\""
   ]
  },
  {
   "cell_type": "code",
   "execution_count": 10,
   "id": "db376502",
   "metadata": {},
   "outputs": [
    {
     "name": "stdout",
     "output_type": "stream",
     "text": [
      "Person 객체를 생성합니다. 신사임당\n",
      "신사임당는 여자입니다.\n"
     ]
    }
   ],
   "source": [
    "p1 = Person('신사임당','여자')\n",
    "print(p1)\n",
    "#성별이 없으면 남자만 넣고 싶다고 def __init__를 하게되면 오버로딩(중복지원), 지원이 안 됨. "
   ]
  },
  {
   "cell_type": "code",
   "execution_count": 11,
   "id": "2418ef59",
   "metadata": {},
   "outputs": [
    {
     "name": "stdout",
     "output_type": "stream",
     "text": [
      "Person 객체를 생성합니다. 홍길동\n",
      "홍길동는 남자입니다.\n"
     ]
    }
   ],
   "source": [
    "p2 = Person('홍길동') \n",
    "print(p2)"
   ]
  },
  {
   "cell_type": "code",
   "execution_count": 4,
   "id": "80ffeeb7",
   "metadata": {},
   "outputs": [],
   "source": [
    "p3 = p2"
   ]
  },
  {
   "cell_type": "code",
   "execution_count": 5,
   "id": "02d78d99",
   "metadata": {},
   "outputs": [
    {
     "name": "stdout",
     "output_type": "stream",
     "text": [
      "Person 객체 소멸시킵니다. 신사임당\n"
     ]
    }
   ],
   "source": [
    "del p1  #객체 레퍼런스가 삭제된 "
   ]
  },
  {
   "cell_type": "code",
   "execution_count": 6,
   "id": "f05f39ca",
   "metadata": {},
   "outputs": [],
   "source": [
    "del p2  #p2가 가르키는 메모리가 아직 있기에 소멸멘트 안 나옴"
   ]
  },
  {
   "cell_type": "code",
   "execution_count": 7,
   "id": "12a334ec",
   "metadata": {},
   "outputs": [
    {
     "name": "stdout",
     "output_type": "stream",
     "text": [
      "Person 객체 소멸시킵니다. 홍길동\n"
     ]
    }
   ],
   "source": [
    "del p3 #p3가 완전히 사라져서 소멸멘트가 나옴"
   ]
  },
  {
   "cell_type": "markdown",
   "id": "41d11241",
   "metadata": {},
   "source": [
    "# 3절. 변수와 메소드\n",
    "- 인스턴스 변수 vs 클래스 변수\n",
    "- 함수는 메소드라고 부른다.\n",
    "- 인스턴스 메소드 (self를 매개변수로) vs 클래스메소드(clz) vs  static 메소드(※괄호안에 아무것도 안 넣음)\n",
    "- import해서 쓰는건 인스턴스 메소드 많이 씀\n",
    "\n",
    "*클래스 변수 (클래스 설계도면에도 있고 객체에도 있는)"
   ]
  },
  {
   "cell_type": "markdown",
   "id": "d5f6fc04",
   "metadata": {},
   "source": [
    "## 변수"
   ]
  },
  {
   "cell_type": "code",
   "execution_count": 15,
   "id": "c4412f81",
   "metadata": {},
   "outputs": [
    {
     "name": "stdout",
     "output_type": "stream",
     "text": [
      "홍길동 남자\n"
     ]
    }
   ],
   "source": [
    "class Person:\n",
    "    name = '홍길동' #클래스 변수\n",
    "    gender = '남자'\n",
    "print(Person.name, Person.gender)  #바로 뿌릴 수 있음. 클래스에 바로 접근이 가능\n",
    "    \n",
    "    #스택 메모리 _ 클래스 설계도\n",
    "    #힙 메모리 _ 객체 : 스택메모리와 동일한 값의 주소를 가짐. "
   ]
  },
  {
   "cell_type": "code",
   "execution_count": 17,
   "id": "5c298919",
   "metadata": {},
   "outputs": [
    {
     "name": "stdout",
     "output_type": "stream",
     "text": [
      "홍길동 남자\n",
      "홍길동 남자\n",
      "홍길동 남자\n"
     ]
    }
   ],
   "source": [
    "p1 = Person()\n",
    "p2 = Person()\n",
    "print(Person.name, Person.gender)\n",
    "print(p1.name, p1.gender)\n",
    "print(p2.name, p2.gender)"
   ]
  },
  {
   "cell_type": "code",
   "execution_count": 20,
   "id": "608f077e",
   "metadata": {},
   "outputs": [
    {
     "name": "stdout",
     "output_type": "stream",
     "text": [
      "홍길동 남자\n",
      "홍길동 남자\n",
      "이순신 남자\n"
     ]
    }
   ],
   "source": [
    "p2.name = '이순신'\n",
    "print(Person.name, Person.gender)\n",
    "print(p1.name, p1.gender)\n",
    "print(p2.name, p2.gender)"
   ]
  },
  {
   "cell_type": "code",
   "execution_count": 21,
   "id": "10e54f9c",
   "metadata": {},
   "outputs": [
    {
     "name": "stdout",
     "output_type": "stream",
     "text": [
      "리사 여자\n",
      "리사 여자\n",
      "이순신 여자\n"
     ]
    }
   ],
   "source": [
    "Person.name = '리사'\n",
    "Person.gender = '여자'\n",
    "print(Person.name, Person.gender)\n",
    "print(p1.name, p1.gender)\n",
    "print(p2.name, p2.gender)"
   ]
  },
  {
   "cell_type": "markdown",
   "id": "d13841fe",
   "metadata": {},
   "source": [
    "## 인스턴스 메소드 vs 클래스메소드 vs static 메소드\n",
    "- 인스턴스 메소드 : 첫번째 인자에 self를 꼭 명시. 객체를 통해서만 호출할 수 있는 메소드(함수)\n",
    "- 클래스 메소드 : 메소드위에 @classmethod를 선언한 메소드 (데코레이터 필수). 첫번째 인자에 cls(clz)를 꼭 명시\n",
    "- static 메소드 : 메소드위에 @staticmethod를 선언한 메소드. 변수안에는 없는 메소드(힙메모리에는 없음), 인자를 넣지않음"
   ]
  },
  {
   "cell_type": "code",
   "execution_count": 30,
   "id": "ec35003f",
   "metadata": {},
   "outputs": [],
   "source": [
    "#일반 메소드 2개 만들기\n",
    "class Person:\n",
    "    name = '홍길동'\n",
    "    gender = '남자'\n",
    "    def print_info(self): #객체변수명.print_info()로 호출 필수. 클래스이름.print_info로 출력이 안 됨 \n",
    "        print(f'인스턴스메소드(일반 메소드) : {self.name}는 {self.gender}입니다.')\n",
    "    def change_info(self, name, gender='남자'): #호출할 때 객체변수.change_info('김','여자') / 매개변수는 2개 \n",
    "        self.name = 'name'\n",
    "        self.gender = 'gender'\n",
    "        print(f'인스턴스메소드(일반 메소드) : {self.name}/{self.gender}로 변경 완료')\n",
    "    @classmethod   #데코레이터는 다음줄에 적용된다.\n",
    "    def do_(clz): #clz==Person. 클래스 변수를 이용한 로직 / Person.do_()호출\n",
    "        clz.name = '신사임당'\n",
    "        clz.gender = '여자'\n",
    "        print(f'클래스메소드 : {clz.name}/{clz.gender} 변경완료')\n",
    "    @staticmethod            \n",
    "    def that_():    #클래스 변수를 이용하기 보다는 로직이 우선일 경우. person.that_()\n",
    "        Person.name = '힌길동'\n",
    "        Person.gender = '남자'\n",
    "        print(f'스테틱메소드 : {Person.name}/{Person.gender} 변경완료')"
   ]
  },
  {
   "cell_type": "code",
   "execution_count": 31,
   "id": "a13bce26",
   "metadata": {},
   "outputs": [
    {
     "name": "stdout",
     "output_type": "stream",
     "text": [
      "인스턴스메소드(일반 메소드) : 홍길동는 남자입니다.\n"
     ]
    }
   ],
   "source": [
    "p1 = Person()\n",
    "p1.print_info()"
   ]
  },
  {
   "cell_type": "code",
   "execution_count": 32,
   "id": "326a3d2f",
   "metadata": {},
   "outputs": [
    {
     "name": "stdout",
     "output_type": "stream",
     "text": [
      "클래스메소드 : 신사임당/여자 변경완료\n"
     ]
    }
   ],
   "source": [
    "Person.do_()"
   ]
  },
  {
   "cell_type": "code",
   "execution_count": 33,
   "id": "419835db",
   "metadata": {},
   "outputs": [
    {
     "name": "stdout",
     "output_type": "stream",
     "text": [
      "스테틱메소드 : 힌길동/남자 변경완료\n"
     ]
    }
   ],
   "source": [
    "Person.that_()"
   ]
  },
  {
   "cell_type": "code",
   "execution_count": 34,
   "id": "9202a398",
   "metadata": {},
   "outputs": [
    {
     "name": "stdout",
     "output_type": "stream",
     "text": [
      "인스턴스메소드(일반 메소드) : 힌길동는 남자입니다.\n"
     ]
    }
   ],
   "source": [
    "p1.print_info()"
   ]
  },
  {
   "cell_type": "markdown",
   "id": "4f7ebe76",
   "metadata": {},
   "source": [
    "# 4절. 상속과 재정의"
   ]
  },
  {
   "cell_type": "code",
   "execution_count": null,
   "id": "e8507edc",
   "metadata": {},
   "outputs": [],
   "source": []
  }
 ],
 "metadata": {
  "kernelspec": {
   "display_name": "Python 3 (ipykernel)",
   "language": "python",
   "name": "python3"
  },
  "language_info": {
   "codemirror_mode": {
    "name": "ipython",
    "version": 3
   },
   "file_extension": ".py",
   "mimetype": "text/x-python",
   "name": "python",
   "nbconvert_exporter": "python",
   "pygments_lexer": "ipython3",
   "version": "3.10.9"
  },
  "toc": {
   "base_numbering": 1,
   "nav_menu": {},
   "number_sections": false,
   "sideBar": true,
   "skip_h1_title": false,
   "title_cell": "Table of Contents",
   "title_sidebar": "Contents",
   "toc_cell": false,
   "toc_position": {
    "height": "calc(100% - 180px)",
    "left": "10px",
    "top": "150px",
    "width": "165px"
   },
   "toc_section_display": true,
   "toc_window_display": true
  }
 },
 "nbformat": 4,
 "nbformat_minor": 5
}
