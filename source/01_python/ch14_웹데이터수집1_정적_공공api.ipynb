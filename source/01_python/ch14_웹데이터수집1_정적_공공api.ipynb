{
 "cells": [
  {
   "cell_type": "code",
   "execution_count": 1,
   "id": "8c56843c",
   "metadata": {},
   "outputs": [
    {
     "data": {
      "text/html": [
       "\n",
       "<style>\n",
       "div.container{width:86% !important;}\n",
       "div.cell.code_cell.rendered{width:100%;}\n",
       "div.CodeMirror {font-family:Consolas; font-size:15pt;}\n",
       "div.output {font-size:15pt; font-weight:bold;}\n",
       "div.input {font-family:Consolas; font-size:15pt;}\n",
       "div.prompt {min-width:70px;}\n",
       "div#toc-wrapper{padding-top:120px;}\n",
       "div.text_cell_render ul li{font-size:12pt;padding:5px;}\n",
       "table.dataframe{font-size:15px;}\n",
       "</style>\n",
       " "
      ],
      "text/plain": [
       "<IPython.core.display.HTML object>"
      ]
     },
     "metadata": {},
     "output_type": "display_data"
    }
   ],
   "source": [
    "from IPython.display import display, HTML \n",
    "display(HTML(\"\"\"\n",
    "<style>\n",
    "div.container{width:86% !important;}\n",
    "div.cell.code_cell.rendered{width:100%;}\n",
    "div.CodeMirror {font-family:Consolas; font-size:15pt;}\n",
    "div.output {font-size:15pt; font-weight:bold;}\n",
    "div.input {font-family:Consolas; font-size:15pt;}\n",
    "div.prompt {min-width:70px;}\n",
    "div#toc-wrapper{padding-top:120px;}\n",
    "div.text_cell_render ul li{font-size:12pt;padding:5px;}\n",
    "table.dataframe{font-size:15px;}\n",
    "</style>\n",
    " \"\"\"))"
   ]
  },
  {
   "cell_type": "markdown",
   "id": "95810079",
   "metadata": {},
   "source": [
    "<span style=\"color:red; font-size: 35px; font-weight: bold;\"> ch14.웹데이터 수집 </span></br>\n",
    "# 1절. BeautifulSoup과 parser\n",
    "\n",
    "pip install bs4 아나콘다를 설치하면 7500개여개의 패키지 설치\n",
    "\n",
    "- 공식 사이트 : https://www.crummy.com/software/BeautifulSoup/\n",
    "- Docs : https://www.crummy.com/software/BeautifulSoup/bs4/doc/"
   ]
  },
  {
   "cell_type": "code",
   "execution_count": 1,
   "id": "e8d10c91",
   "metadata": {},
   "outputs": [],
   "source": [
    "import requests #HTTP 요청 처리 lib\n",
    "from requests_file import FileAdapter"
   ]
  },
  {
   "cell_type": "code",
   "execution_count": 15,
   "id": "8cb893fd",
   "metadata": {},
   "outputs": [
    {
     "data": {
      "text/plain": [
       "<Response [200]>"
      ]
     },
     "execution_count": 15,
     "metadata": {},
     "output_type": "execute_result"
    }
   ],
   "source": [
    "s = requests.Session() #HTTP 요청관리 위한 세션 객체\n",
    "s.mount(\"file://\", FileAdapter())\n",
    "response = s.get('file:///ai_x/lecNote/01_python/data/ch14_sample.html')\n",
    "response"
   ]
  },
  {
   "cell_type": "code",
   "execution_count": 16,
   "id": "b87b78b2",
   "metadata": {},
   "outputs": [
    {
     "data": {
      "text/plain": [
       "200"
      ]
     },
     "execution_count": 16,
     "metadata": {},
     "output_type": "execute_result"
    }
   ],
   "source": [
    "response.status_code #상태 코드  \n",
    "#200 : 정상 상태\n",
    "#404 : 없는 페이지\n",
    "#406 : get,post 오류\n",
    "#500 : 파이썬 문법 오류 (내가 만든 사이트)"
   ]
  },
  {
   "cell_type": "code",
   "execution_count": 17,
   "id": "491fb470",
   "metadata": {},
   "outputs": [
    {
     "data": {
      "text/plain": [
       "b'<!DOCTYPE html>\\r\\n<html lang=\"en\">\\r\\n<head>\\r\\n  <meta charset=\"UTF-8\">\\r\\n</head>\\r\\n<body>\\r\\n  <h1 class=\"greeting css\" id=\"text\" title=\"greeting\">Hello, CSS</h1>\\r\\n  <h1 class=\"css\">Hi, CSS</h1>\\r\\n  <div id=\"subject\">subject \\xec\\x84\\xa0\\xed\\x83\\x9d\\xec\\x9e\\x90 \\xec\\x95\\x88\\xec\\x9d\\x98 \\xeb\\x82\\xb4\\xec\\x9a\\xa9</div>\\r\\n  <p>CSS \\xec\\x84\\xa0\\xed\\x83\\x9d\\xec\\x9e\\x90\\xeb\\x8a\\x94 \\xeb\\x8b\\xa4\\xec\\x96\\x91\\xed\\x95\\x9c \\xea\\xb3\\xb3\\xec\\x97\\x90\\xec\\x84\\x9c \\xed\\x99\\x9c\\xec\\x9a\\xa9\\xeb\\x90\\xa9\\xeb\\x8b\\x88\\xeb\\x8b\\xa4</p>\\r\\n  <div class=\"contents\">\\r\\n    \\xec\\x84\\xa0\\xed\\x83\\x9d\\xec\\x9e\\x90\\xeb\\xa5\\xbc \\xec\\x96\\xb4\\xeb\\x96\\xbb\\xea\\xb2\\x8c \\xec\\x9e\\x91\\xec\\x84\\xb1\\xed\\x95\\x98\\xeb\\x8a\\x90\\xeb\\x83\\x90\\xec\\x97\\x90 \\xeb\\x94\\xb0\\xeb\\x9d\\xbc\\r\\n    <span>\\xeb\\x8b\\xa4\\xeb\\xa5\\xb8<b>\\xec\\x9a\\x94\\xec\\x86\\x8c\\xea\\xb0\\x80 \\xeb\\xb0\\x98\\xed\\x99\\x98</b></span>\\xeb\\x90\\xa9\\xeb\\x8b\\x88\\xeb\\x8b\\xa4\\r\\n  </div>\\r\\n  <div>CSS \\xec\\x84\\xa0\\xed\\x83\\x9d\\xec\\x9e\\x90\\xeb\\x8a\\x94 \\xeb\\x8b\\xa4\\xec\\x96\\x91\\xed\\x95\\x9c \\xea\\xb3\\xb3\\xec\\x97\\x90 <b>\\xed\\x99\\x9c\\xec\\x9a\\xa9</b>\\xeb\\x90\\xa9\\xeb\\x8b\\x88\\xeb\\x8b\\xa4</div>\\r\\n</body>\\r\\n</html>'"
      ]
     },
     "execution_count": 17,
     "metadata": {},
     "output_type": "execute_result"
    }
   ],
   "source": [
    "response.content #바이너리 형식의 내용"
   ]
  },
  {
   "cell_type": "code",
   "execution_count": 6,
   "id": "c4eff405",
   "metadata": {},
   "outputs": [
    {
     "data": {
      "text/plain": [
       "'<!DOCTYPE html>\\r\\n<html lang=\"en\">\\r\\n<head>\\r\\n  <meta charset=\"UTF-8\">\\r\\n</head>\\r\\n<body>\\r\\n  <h1 class=\"greeting css\" id=\"text\">Hello, CSS</h1>\\r\\n  <h1 class=\"css\">Hi, CSS</h1>\\r\\n  <div id=\"subject\">subject 선택자 안의 내용</div>\\r\\n  <p>CSS 선택자는 다양한 곳에서 활용됩니다</p>\\r\\n  <div class=\"contents\">\\r\\n    선택자를 어떻게 작성하느냐에 따라\\r\\n    <span>다른<b>요소가 반환</b></span>됩니다\\r\\n  </div>\\r\\n  <div>CSS 선택자는 다양한 곳에 <b>활용</b>됩니다</div>\\r\\n</body>\\r\\n</html>'"
      ]
     },
     "execution_count": 6,
     "metadata": {},
     "output_type": "execute_result"
    }
   ],
   "source": [
    "response.content.decode('utf-8')"
   ]
  },
  {
   "cell_type": "code",
   "execution_count": 7,
   "id": "268b06ae",
   "metadata": {},
   "outputs": [
    {
     "data": {
      "text/plain": [
       "'<!DOCTYPE html>\\r\\n<html lang=\"en\">\\r\\n<head>\\r\\n  <meta charset=\"UTF-8\">\\r\\n</head>\\r\\n<body>\\r\\n  <h1 class=\"greeting css\" id=\"text\">Hello, CSS</h1>\\r\\n  <h1 class=\"css\">Hi, CSS</h1>\\r\\n  <div id=\"subject\">subject 선택자 안의 내용</div>\\r\\n  <p>CSS 선택자는 다양한 곳에서 활용됩니다</p>\\r\\n  <div class=\"contents\">\\r\\n    선택자를 어떻게 작성하느냐에 따라\\r\\n    <span>다른<b>요소가 반환</b></span>됩니다\\r\\n  </div>\\r\\n  <div>CSS 선택자는 다양한 곳에 <b>활용</b>됩니다</div>\\r\\n</body>\\r\\n</html>'"
      ]
     },
     "execution_count": 7,
     "metadata": {},
     "output_type": "execute_result"
    }
   ],
   "source": [
    "response.text"
   ]
  },
  {
   "cell_type": "code",
   "execution_count": 18,
   "id": "56632115",
   "metadata": {},
   "outputs": [],
   "source": [
    "#html 파싱\n",
    "from bs4 import BeautifulSoup\n",
    "soup = BeautifulSoup(response.content, #response.text \n",
    "                    \"html.parser\") #soup객체 만들기\n",
    "# soup 웨크롤링 할 수 있게 보여줌"
   ]
  },
  {
   "cell_type": "code",
   "execution_count": 25,
   "id": "0d65ffac",
   "metadata": {},
   "outputs": [
    {
     "name": "stdout",
     "output_type": "stream",
     "text": [
      "el : <h1 class=\"greeting css\" id=\"text\" title=\"greeting\">Hello, CSS</h1>\n",
      "el.text : Hello, CSS\n",
      "el.string : Hello, CSS\n",
      "el의 속성추가 : {'class': ['greeting', 'css'], 'id': 'text', 'title': 'greeting'}\n",
      "el의 title속성 : greeting\n",
      "el의 title속성 : greeting\n",
      "el의 이름 : h1\n"
     ]
    }
   ],
   "source": [
    "# 1.soup.select_one('선택자') : 해당 선택자 처음 하나만\n",
    "el = soup.select_one('h1') #처음 나오는 h1태그 하나만\n",
    "print('el :', el)\n",
    "print('el.text :', el.text)\n",
    "print('el.string :', el.string)\n",
    "print('el의 속성추가 :', el.attrs) #딕셔너리로 나타냄\n",
    "print('el의 title속성 :', el.attrs['title']) #title의 속성만 가져오기\n",
    "print('el의 title속성 :', el.attrs.get('title')) #get함수가 오류가 안 나서 좋음\n",
    "print('el의 이름 :', el.name)"
   ]
  },
  {
   "cell_type": "code",
   "execution_count": 33,
   "id": "7eb2f6c7",
   "metadata": {},
   "outputs": [
    {
     "name": "stdout",
     "output_type": "stream",
     "text": [
      "리스트 el : [<h1 class=\"greeting css\" id=\"text\" title=\"greeting\">Hello, CSS</h1>, <h1 class=\"css\">Hi, CSS</h1>]\n",
      "el의 text들 : ['Hello, CSS', 'Hi, CSS']\n",
      "el의 속성들 : [{'class': ['greeting', 'css'], 'id': 'text', 'title': 'greeting'}, {'class': ['css']}]\n",
      "el의 class 속성들 : [['greeting', 'css'], ['css']]\n"
     ]
    }
   ],
   "source": [
    "# 2.soup.select('선택자') : 해당 선택자 모든 엘리먼트를 리스트로 나타냄\n",
    "el = soup.select('h1')\n",
    "print('리스트 el :', el)\n",
    "print('el의 text들 :' ,[e.text for e in el])\n",
    "print('el의 속성들 :', [e.attrs for e in el])\n",
    "print('el의 class 속성들 :', [e.attrs.get('class') for e in el])"
   ]
  },
  {
   "cell_type": "code",
   "execution_count": 41,
   "id": "9b856dd0",
   "metadata": {
    "collapsed": true
   },
   "outputs": [
    {
     "name": "stdout",
     "output_type": "stream",
     "text": [
      "select_one : <h1 class=\"greeting css\" id=\"text\" title=\"greeting\">Hello, CSS</h1>\n",
      "find : <h1 class=\"greeting css\" id=\"text\" title=\"greeting\">Hello, CSS</h1>\n",
      "find : <h1 class=\"greeting css\" id=\"text\" title=\"greeting\">Hello, CSS</h1>\n",
      "\n",
      "select_one : <h1 class=\"greeting css\" id=\"text\" title=\"greeting\">Hello, CSS</h1>\n",
      "find : <h1 class=\"greeting css\" id=\"text\" title=\"greeting\">Hello, CSS</h1>\n",
      "\n",
      "select\n"
     ]
    }
   ],
   "source": [
    "#select_one('속성자')와 find(태그,속성) 비교\n",
    "print('select_one :',soup.select_one('h1.css'))\n",
    "print('find :', soup.find('h1',{'class':'css'}))\n",
    "print('find :', soup.find('h1', class_='greeting'))\n",
    "print()\n",
    "print('select_one :', soup.select_one('h1#text'))\n",
    "print('find :', soup.find('h1', {'id':'text'}))\n",
    "print()\n",
    "print('select')"
   ]
  },
  {
   "cell_type": "code",
   "execution_count": 44,
   "id": "063480c2",
   "metadata": {},
   "outputs": [
    {
     "name": "stdout",
     "output_type": "stream",
     "text": [
      "모든 h1.css, span 태그(select) : [<h1 class=\"greeting css\" id=\"text\" title=\"greeting\">Hello, CSS</h1>, <h1 class=\"css\">Hi, CSS</h1>, <span>다른<b>요소가 반환</b></span>]\n",
      "모든 h1.css, span 태그(find_all) : [<h1 class=\"greeting css\" id=\"text\" title=\"greeting\">Hello, CSS</h1>, <h1 class=\"css\">Hi, CSS</h1>]\n"
     ]
    }
   ],
   "source": [
    "# select('선택자')와 find_all(태그,속성) 비교\n",
    "print('모든 h1.css, span 태그(select) :', \n",
    "      soup.select('h1.css, span'))\n",
    "print('모든 h1.css, span 태그(find_all) :',\n",
    "     soup.find_all(['h1','span'],class_='css')) #span은 안 들어온거 아닌지?\n",
    "print() #개행"
   ]
  },
  {
   "cell_type": "code",
   "execution_count": 49,
   "id": "3cdb780b",
   "metadata": {},
   "outputs": [
    {
     "name": "stdout",
     "output_type": "stream",
     "text": [
      "find_all : []\n",
      "find : None\n",
      "select : []\n",
      "select_one : None\n"
     ]
    }
   ],
   "source": [
    "# 없는 엘리먼트 찾기  (a태그)\n",
    "print('find_all :', soup.find_all('a', class_='css')) #없으면 빈리스트로\n",
    "print('find :', soup.find('a',class_='css')) #없으면 none으로\n",
    "print('select :', soup.select('a.css')) #빈 리스트로\n",
    "print('select_one :', soup.select_one('a.css')) #없으면 none으로"
   ]
  },
  {
   "cell_type": "markdown",
   "id": "9886a5e7",
   "metadata": {},
   "source": [
    "# 2절. 정적 웹 데이터 수집(정적 웹크롤링)\n",
    "- json,html, xml\n",
    "## 2.1 JSON파일\n",
    "- request모둘(get)\n",
    "- urllib.request모듈(urlopen)"
   ]
  },
  {
   "cell_type": "code",
   "execution_count": null,
   "id": "fa21c93d",
   "metadata": {},
   "outputs": [],
   "source": [
    "# 크롤링 허용 범위는 사이트마다 다름 / robots.txt에서 확인할 수 있습니다."
   ]
  },
  {
   "cell_type": "code",
   "execution_count": 133,
   "id": "e88a95c4",
   "metadata": {},
   "outputs": [
    {
     "data": {
      "text/plain": [
       "(<Response [403]>, 403)"
      ]
     },
     "execution_count": 133,
     "metadata": {},
     "output_type": "execute_result"
    }
   ],
   "source": [
    "# 방법 1. json\n",
    "import requests\n",
    "response = requests.get('http://api.github.com')\n",
    "response, response.status_code"
   ]
  },
  {
   "cell_type": "code",
   "execution_count": 132,
   "id": "637edb1c",
   "metadata": {
    "collapsed": true
   },
   "outputs": [
    {
     "ename": "URLError",
     "evalue": "<urlopen error [Errno 11001] getaddrinfo failed>",
     "output_type": "error",
     "traceback": [
      "\u001b[1;31m---------------------------------------------------------------------------\u001b[0m",
      "\u001b[1;31mgaierror\u001b[0m                                  Traceback (most recent call last)",
      "File \u001b[1;32m~\\anaconda3\\lib\\urllib\\request.py:1348\u001b[0m, in \u001b[0;36mAbstractHTTPHandler.do_open\u001b[1;34m(self, http_class, req, **http_conn_args)\u001b[0m\n\u001b[0;32m   1347\u001b[0m \u001b[38;5;28;01mtry\u001b[39;00m:\n\u001b[1;32m-> 1348\u001b[0m     \u001b[43mh\u001b[49m\u001b[38;5;241;43m.\u001b[39;49m\u001b[43mrequest\u001b[49m\u001b[43m(\u001b[49m\u001b[43mreq\u001b[49m\u001b[38;5;241;43m.\u001b[39;49m\u001b[43mget_method\u001b[49m\u001b[43m(\u001b[49m\u001b[43m)\u001b[49m\u001b[43m,\u001b[49m\u001b[43m \u001b[49m\u001b[43mreq\u001b[49m\u001b[38;5;241;43m.\u001b[39;49m\u001b[43mselector\u001b[49m\u001b[43m,\u001b[49m\u001b[43m \u001b[49m\u001b[43mreq\u001b[49m\u001b[38;5;241;43m.\u001b[39;49m\u001b[43mdata\u001b[49m\u001b[43m,\u001b[49m\u001b[43m \u001b[49m\u001b[43mheaders\u001b[49m\u001b[43m,\u001b[49m\n\u001b[0;32m   1349\u001b[0m \u001b[43m              \u001b[49m\u001b[43mencode_chunked\u001b[49m\u001b[38;5;241;43m=\u001b[39;49m\u001b[43mreq\u001b[49m\u001b[38;5;241;43m.\u001b[39;49m\u001b[43mhas_header\u001b[49m\u001b[43m(\u001b[49m\u001b[38;5;124;43m'\u001b[39;49m\u001b[38;5;124;43mTransfer-encoding\u001b[39;49m\u001b[38;5;124;43m'\u001b[39;49m\u001b[43m)\u001b[49m\u001b[43m)\u001b[49m\n\u001b[0;32m   1350\u001b[0m \u001b[38;5;28;01mexcept\u001b[39;00m \u001b[38;5;167;01mOSError\u001b[39;00m \u001b[38;5;28;01mas\u001b[39;00m err: \u001b[38;5;66;03m# timeout error\u001b[39;00m\n",
      "File \u001b[1;32m~\\anaconda3\\lib\\http\\client.py:1282\u001b[0m, in \u001b[0;36mHTTPConnection.request\u001b[1;34m(self, method, url, body, headers, encode_chunked)\u001b[0m\n\u001b[0;32m   1281\u001b[0m \u001b[38;5;124;03m\"\"\"Send a complete request to the server.\"\"\"\u001b[39;00m\n\u001b[1;32m-> 1282\u001b[0m \u001b[38;5;28;43mself\u001b[39;49m\u001b[38;5;241;43m.\u001b[39;49m\u001b[43m_send_request\u001b[49m\u001b[43m(\u001b[49m\u001b[43mmethod\u001b[49m\u001b[43m,\u001b[49m\u001b[43m \u001b[49m\u001b[43murl\u001b[49m\u001b[43m,\u001b[49m\u001b[43m \u001b[49m\u001b[43mbody\u001b[49m\u001b[43m,\u001b[49m\u001b[43m \u001b[49m\u001b[43mheaders\u001b[49m\u001b[43m,\u001b[49m\u001b[43m \u001b[49m\u001b[43mencode_chunked\u001b[49m\u001b[43m)\u001b[49m\n",
      "File \u001b[1;32m~\\anaconda3\\lib\\http\\client.py:1328\u001b[0m, in \u001b[0;36mHTTPConnection._send_request\u001b[1;34m(self, method, url, body, headers, encode_chunked)\u001b[0m\n\u001b[0;32m   1327\u001b[0m     body \u001b[38;5;241m=\u001b[39m _encode(body, \u001b[38;5;124m'\u001b[39m\u001b[38;5;124mbody\u001b[39m\u001b[38;5;124m'\u001b[39m)\n\u001b[1;32m-> 1328\u001b[0m \u001b[38;5;28;43mself\u001b[39;49m\u001b[38;5;241;43m.\u001b[39;49m\u001b[43mendheaders\u001b[49m\u001b[43m(\u001b[49m\u001b[43mbody\u001b[49m\u001b[43m,\u001b[49m\u001b[43m \u001b[49m\u001b[43mencode_chunked\u001b[49m\u001b[38;5;241;43m=\u001b[39;49m\u001b[43mencode_chunked\u001b[49m\u001b[43m)\u001b[49m\n",
      "File \u001b[1;32m~\\anaconda3\\lib\\http\\client.py:1277\u001b[0m, in \u001b[0;36mHTTPConnection.endheaders\u001b[1;34m(self, message_body, encode_chunked)\u001b[0m\n\u001b[0;32m   1276\u001b[0m     \u001b[38;5;28;01mraise\u001b[39;00m CannotSendHeader()\n\u001b[1;32m-> 1277\u001b[0m \u001b[38;5;28;43mself\u001b[39;49m\u001b[38;5;241;43m.\u001b[39;49m\u001b[43m_send_output\u001b[49m\u001b[43m(\u001b[49m\u001b[43mmessage_body\u001b[49m\u001b[43m,\u001b[49m\u001b[43m \u001b[49m\u001b[43mencode_chunked\u001b[49m\u001b[38;5;241;43m=\u001b[39;49m\u001b[43mencode_chunked\u001b[49m\u001b[43m)\u001b[49m\n",
      "File \u001b[1;32m~\\anaconda3\\lib\\http\\client.py:1037\u001b[0m, in \u001b[0;36mHTTPConnection._send_output\u001b[1;34m(self, message_body, encode_chunked)\u001b[0m\n\u001b[0;32m   1036\u001b[0m \u001b[38;5;28;01mdel\u001b[39;00m \u001b[38;5;28mself\u001b[39m\u001b[38;5;241m.\u001b[39m_buffer[:]\n\u001b[1;32m-> 1037\u001b[0m \u001b[38;5;28;43mself\u001b[39;49m\u001b[38;5;241;43m.\u001b[39;49m\u001b[43msend\u001b[49m\u001b[43m(\u001b[49m\u001b[43mmsg\u001b[49m\u001b[43m)\u001b[49m\n\u001b[0;32m   1039\u001b[0m \u001b[38;5;28;01mif\u001b[39;00m message_body \u001b[38;5;129;01mis\u001b[39;00m \u001b[38;5;129;01mnot\u001b[39;00m \u001b[38;5;28;01mNone\u001b[39;00m:\n\u001b[0;32m   1040\u001b[0m \n\u001b[0;32m   1041\u001b[0m     \u001b[38;5;66;03m# create a consistent interface to message_body\u001b[39;00m\n",
      "File \u001b[1;32m~\\anaconda3\\lib\\http\\client.py:975\u001b[0m, in \u001b[0;36mHTTPConnection.send\u001b[1;34m(self, data)\u001b[0m\n\u001b[0;32m    974\u001b[0m \u001b[38;5;28;01mif\u001b[39;00m \u001b[38;5;28mself\u001b[39m\u001b[38;5;241m.\u001b[39mauto_open:\n\u001b[1;32m--> 975\u001b[0m     \u001b[38;5;28;43mself\u001b[39;49m\u001b[38;5;241;43m.\u001b[39;49m\u001b[43mconnect\u001b[49m\u001b[43m(\u001b[49m\u001b[43m)\u001b[49m\n\u001b[0;32m    976\u001b[0m \u001b[38;5;28;01melse\u001b[39;00m:\n",
      "File \u001b[1;32m~\\anaconda3\\lib\\http\\client.py:941\u001b[0m, in \u001b[0;36mHTTPConnection.connect\u001b[1;34m(self)\u001b[0m\n\u001b[0;32m    940\u001b[0m sys\u001b[38;5;241m.\u001b[39maudit(\u001b[38;5;124m\"\u001b[39m\u001b[38;5;124mhttp.client.connect\u001b[39m\u001b[38;5;124m\"\u001b[39m, \u001b[38;5;28mself\u001b[39m, \u001b[38;5;28mself\u001b[39m\u001b[38;5;241m.\u001b[39mhost, \u001b[38;5;28mself\u001b[39m\u001b[38;5;241m.\u001b[39mport)\n\u001b[1;32m--> 941\u001b[0m \u001b[38;5;28mself\u001b[39m\u001b[38;5;241m.\u001b[39msock \u001b[38;5;241m=\u001b[39m \u001b[38;5;28;43mself\u001b[39;49m\u001b[38;5;241;43m.\u001b[39;49m\u001b[43m_create_connection\u001b[49m\u001b[43m(\u001b[49m\n\u001b[0;32m    942\u001b[0m \u001b[43m    \u001b[49m\u001b[43m(\u001b[49m\u001b[38;5;28;43mself\u001b[39;49m\u001b[38;5;241;43m.\u001b[39;49m\u001b[43mhost\u001b[49m\u001b[43m,\u001b[49m\u001b[38;5;28;43mself\u001b[39;49m\u001b[38;5;241;43m.\u001b[39;49m\u001b[43mport\u001b[49m\u001b[43m)\u001b[49m\u001b[43m,\u001b[49m\u001b[43m \u001b[49m\u001b[38;5;28;43mself\u001b[39;49m\u001b[38;5;241;43m.\u001b[39;49m\u001b[43mtimeout\u001b[49m\u001b[43m,\u001b[49m\u001b[43m \u001b[49m\u001b[38;5;28;43mself\u001b[39;49m\u001b[38;5;241;43m.\u001b[39;49m\u001b[43msource_address\u001b[49m\u001b[43m)\u001b[49m\n\u001b[0;32m    943\u001b[0m \u001b[38;5;66;03m# Might fail in OSs that don't implement TCP_NODELAY\u001b[39;00m\n",
      "File \u001b[1;32m~\\anaconda3\\lib\\socket.py:824\u001b[0m, in \u001b[0;36mcreate_connection\u001b[1;34m(address, timeout, source_address)\u001b[0m\n\u001b[0;32m    823\u001b[0m err \u001b[38;5;241m=\u001b[39m \u001b[38;5;28;01mNone\u001b[39;00m\n\u001b[1;32m--> 824\u001b[0m \u001b[38;5;28;01mfor\u001b[39;00m res \u001b[38;5;129;01min\u001b[39;00m \u001b[43mgetaddrinfo\u001b[49m\u001b[43m(\u001b[49m\u001b[43mhost\u001b[49m\u001b[43m,\u001b[49m\u001b[43m \u001b[49m\u001b[43mport\u001b[49m\u001b[43m,\u001b[49m\u001b[43m \u001b[49m\u001b[38;5;241;43m0\u001b[39;49m\u001b[43m,\u001b[49m\u001b[43m \u001b[49m\u001b[43mSOCK_STREAM\u001b[49m\u001b[43m)\u001b[49m:\n\u001b[0;32m    825\u001b[0m     af, socktype, proto, canonname, sa \u001b[38;5;241m=\u001b[39m res\n",
      "File \u001b[1;32m~\\anaconda3\\lib\\socket.py:955\u001b[0m, in \u001b[0;36mgetaddrinfo\u001b[1;34m(host, port, family, type, proto, flags)\u001b[0m\n\u001b[0;32m    954\u001b[0m addrlist \u001b[38;5;241m=\u001b[39m []\n\u001b[1;32m--> 955\u001b[0m \u001b[38;5;28;01mfor\u001b[39;00m res \u001b[38;5;129;01min\u001b[39;00m \u001b[43m_socket\u001b[49m\u001b[38;5;241;43m.\u001b[39;49m\u001b[43mgetaddrinfo\u001b[49m\u001b[43m(\u001b[49m\u001b[43mhost\u001b[49m\u001b[43m,\u001b[49m\u001b[43m \u001b[49m\u001b[43mport\u001b[49m\u001b[43m,\u001b[49m\u001b[43m \u001b[49m\u001b[43mfamily\u001b[49m\u001b[43m,\u001b[49m\u001b[43m \u001b[49m\u001b[38;5;28;43mtype\u001b[39;49m\u001b[43m,\u001b[49m\u001b[43m \u001b[49m\u001b[43mproto\u001b[49m\u001b[43m,\u001b[49m\u001b[43m \u001b[49m\u001b[43mflags\u001b[49m\u001b[43m)\u001b[49m:\n\u001b[0;32m    956\u001b[0m     af, socktype, proto, canonname, sa \u001b[38;5;241m=\u001b[39m res\n",
      "\u001b[1;31mgaierror\u001b[0m: [Errno 11001] getaddrinfo failed",
      "\nDuring handling of the above exception, another exception occurred:\n",
      "\u001b[1;31mURLError\u001b[0m                                  Traceback (most recent call last)",
      "Cell \u001b[1;32mIn[132], line 3\u001b[0m\n\u001b[0;32m      1\u001b[0m \u001b[38;5;66;03m# 방법 2. json\u001b[39;00m\n\u001b[0;32m      2\u001b[0m \u001b[38;5;28;01mfrom\u001b[39;00m \u001b[38;5;21;01murllib\u001b[39;00m\u001b[38;5;21;01m.\u001b[39;00m\u001b[38;5;21;01mrequest\u001b[39;00m \u001b[38;5;28;01mimport\u001b[39;00m urlopen\n\u001b[1;32m----> 3\u001b[0m response \u001b[38;5;241m=\u001b[39m \u001b[43murlopen\u001b[49m\u001b[43m(\u001b[49m\u001b[38;5;124;43m'\u001b[39;49m\u001b[38;5;124;43mhttp://api.gitgub.com\u001b[39;49m\u001b[38;5;124;43m'\u001b[39;49m\u001b[43m)\u001b[49m\n\u001b[0;32m      4\u001b[0m response\n",
      "File \u001b[1;32m~\\anaconda3\\lib\\urllib\\request.py:216\u001b[0m, in \u001b[0;36murlopen\u001b[1;34m(url, data, timeout, cafile, capath, cadefault, context)\u001b[0m\n\u001b[0;32m    214\u001b[0m \u001b[38;5;28;01melse\u001b[39;00m:\n\u001b[0;32m    215\u001b[0m     opener \u001b[38;5;241m=\u001b[39m _opener\n\u001b[1;32m--> 216\u001b[0m \u001b[38;5;28;01mreturn\u001b[39;00m \u001b[43mopener\u001b[49m\u001b[38;5;241;43m.\u001b[39;49m\u001b[43mopen\u001b[49m\u001b[43m(\u001b[49m\u001b[43murl\u001b[49m\u001b[43m,\u001b[49m\u001b[43m \u001b[49m\u001b[43mdata\u001b[49m\u001b[43m,\u001b[49m\u001b[43m \u001b[49m\u001b[43mtimeout\u001b[49m\u001b[43m)\u001b[49m\n",
      "File \u001b[1;32m~\\anaconda3\\lib\\urllib\\request.py:519\u001b[0m, in \u001b[0;36mOpenerDirector.open\u001b[1;34m(self, fullurl, data, timeout)\u001b[0m\n\u001b[0;32m    516\u001b[0m     req \u001b[38;5;241m=\u001b[39m meth(req)\n\u001b[0;32m    518\u001b[0m sys\u001b[38;5;241m.\u001b[39maudit(\u001b[38;5;124m'\u001b[39m\u001b[38;5;124murllib.Request\u001b[39m\u001b[38;5;124m'\u001b[39m, req\u001b[38;5;241m.\u001b[39mfull_url, req\u001b[38;5;241m.\u001b[39mdata, req\u001b[38;5;241m.\u001b[39mheaders, req\u001b[38;5;241m.\u001b[39mget_method())\n\u001b[1;32m--> 519\u001b[0m response \u001b[38;5;241m=\u001b[39m \u001b[38;5;28;43mself\u001b[39;49m\u001b[38;5;241;43m.\u001b[39;49m\u001b[43m_open\u001b[49m\u001b[43m(\u001b[49m\u001b[43mreq\u001b[49m\u001b[43m,\u001b[49m\u001b[43m \u001b[49m\u001b[43mdata\u001b[49m\u001b[43m)\u001b[49m\n\u001b[0;32m    521\u001b[0m \u001b[38;5;66;03m# post-process response\u001b[39;00m\n\u001b[0;32m    522\u001b[0m meth_name \u001b[38;5;241m=\u001b[39m protocol\u001b[38;5;241m+\u001b[39m\u001b[38;5;124m\"\u001b[39m\u001b[38;5;124m_response\u001b[39m\u001b[38;5;124m\"\u001b[39m\n",
      "File \u001b[1;32m~\\anaconda3\\lib\\urllib\\request.py:536\u001b[0m, in \u001b[0;36mOpenerDirector._open\u001b[1;34m(self, req, data)\u001b[0m\n\u001b[0;32m    533\u001b[0m     \u001b[38;5;28;01mreturn\u001b[39;00m result\n\u001b[0;32m    535\u001b[0m protocol \u001b[38;5;241m=\u001b[39m req\u001b[38;5;241m.\u001b[39mtype\n\u001b[1;32m--> 536\u001b[0m result \u001b[38;5;241m=\u001b[39m \u001b[38;5;28;43mself\u001b[39;49m\u001b[38;5;241;43m.\u001b[39;49m\u001b[43m_call_chain\u001b[49m\u001b[43m(\u001b[49m\u001b[38;5;28;43mself\u001b[39;49m\u001b[38;5;241;43m.\u001b[39;49m\u001b[43mhandle_open\u001b[49m\u001b[43m,\u001b[49m\u001b[43m \u001b[49m\u001b[43mprotocol\u001b[49m\u001b[43m,\u001b[49m\u001b[43m \u001b[49m\u001b[43mprotocol\u001b[49m\u001b[43m \u001b[49m\u001b[38;5;241;43m+\u001b[39;49m\n\u001b[0;32m    537\u001b[0m \u001b[43m                          \u001b[49m\u001b[38;5;124;43m'\u001b[39;49m\u001b[38;5;124;43m_open\u001b[39;49m\u001b[38;5;124;43m'\u001b[39;49m\u001b[43m,\u001b[49m\u001b[43m \u001b[49m\u001b[43mreq\u001b[49m\u001b[43m)\u001b[49m\n\u001b[0;32m    538\u001b[0m \u001b[38;5;28;01mif\u001b[39;00m result:\n\u001b[0;32m    539\u001b[0m     \u001b[38;5;28;01mreturn\u001b[39;00m result\n",
      "File \u001b[1;32m~\\anaconda3\\lib\\urllib\\request.py:496\u001b[0m, in \u001b[0;36mOpenerDirector._call_chain\u001b[1;34m(self, chain, kind, meth_name, *args)\u001b[0m\n\u001b[0;32m    494\u001b[0m \u001b[38;5;28;01mfor\u001b[39;00m handler \u001b[38;5;129;01min\u001b[39;00m handlers:\n\u001b[0;32m    495\u001b[0m     func \u001b[38;5;241m=\u001b[39m \u001b[38;5;28mgetattr\u001b[39m(handler, meth_name)\n\u001b[1;32m--> 496\u001b[0m     result \u001b[38;5;241m=\u001b[39m \u001b[43mfunc\u001b[49m\u001b[43m(\u001b[49m\u001b[38;5;241;43m*\u001b[39;49m\u001b[43margs\u001b[49m\u001b[43m)\u001b[49m\n\u001b[0;32m    497\u001b[0m     \u001b[38;5;28;01mif\u001b[39;00m result \u001b[38;5;129;01mis\u001b[39;00m \u001b[38;5;129;01mnot\u001b[39;00m \u001b[38;5;28;01mNone\u001b[39;00m:\n\u001b[0;32m    498\u001b[0m         \u001b[38;5;28;01mreturn\u001b[39;00m result\n",
      "File \u001b[1;32m~\\anaconda3\\lib\\urllib\\request.py:1377\u001b[0m, in \u001b[0;36mHTTPHandler.http_open\u001b[1;34m(self, req)\u001b[0m\n\u001b[0;32m   1376\u001b[0m \u001b[38;5;28;01mdef\u001b[39;00m \u001b[38;5;21mhttp_open\u001b[39m(\u001b[38;5;28mself\u001b[39m, req):\n\u001b[1;32m-> 1377\u001b[0m     \u001b[38;5;28;01mreturn\u001b[39;00m \u001b[38;5;28;43mself\u001b[39;49m\u001b[38;5;241;43m.\u001b[39;49m\u001b[43mdo_open\u001b[49m\u001b[43m(\u001b[49m\u001b[43mhttp\u001b[49m\u001b[38;5;241;43m.\u001b[39;49m\u001b[43mclient\u001b[49m\u001b[38;5;241;43m.\u001b[39;49m\u001b[43mHTTPConnection\u001b[49m\u001b[43m,\u001b[49m\u001b[43m \u001b[49m\u001b[43mreq\u001b[49m\u001b[43m)\u001b[49m\n",
      "File \u001b[1;32m~\\anaconda3\\lib\\urllib\\request.py:1351\u001b[0m, in \u001b[0;36mAbstractHTTPHandler.do_open\u001b[1;34m(self, http_class, req, **http_conn_args)\u001b[0m\n\u001b[0;32m   1348\u001b[0m         h\u001b[38;5;241m.\u001b[39mrequest(req\u001b[38;5;241m.\u001b[39mget_method(), req\u001b[38;5;241m.\u001b[39mselector, req\u001b[38;5;241m.\u001b[39mdata, headers,\n\u001b[0;32m   1349\u001b[0m                   encode_chunked\u001b[38;5;241m=\u001b[39mreq\u001b[38;5;241m.\u001b[39mhas_header(\u001b[38;5;124m'\u001b[39m\u001b[38;5;124mTransfer-encoding\u001b[39m\u001b[38;5;124m'\u001b[39m))\n\u001b[0;32m   1350\u001b[0m     \u001b[38;5;28;01mexcept\u001b[39;00m \u001b[38;5;167;01mOSError\u001b[39;00m \u001b[38;5;28;01mas\u001b[39;00m err: \u001b[38;5;66;03m# timeout error\u001b[39;00m\n\u001b[1;32m-> 1351\u001b[0m         \u001b[38;5;28;01mraise\u001b[39;00m URLError(err)\n\u001b[0;32m   1352\u001b[0m     r \u001b[38;5;241m=\u001b[39m h\u001b[38;5;241m.\u001b[39mgetresponse()\n\u001b[0;32m   1353\u001b[0m \u001b[38;5;28;01mexcept\u001b[39;00m:\n",
      "\u001b[1;31mURLError\u001b[0m: <urlopen error [Errno 11001] getaddrinfo failed>"
     ]
    }
   ],
   "source": [
    "# 방법 2. json\n",
    "from urllib.request import urlopen\n",
    "response = urlopen('http://api.gitgub.com')\n",
    "response"
   ]
  },
  {
   "cell_type": "code",
   "execution_count": 135,
   "id": "7c6de06c",
   "metadata": {},
   "outputs": [
    {
     "data": {
      "text/plain": [
       "str"
      ]
     },
     "execution_count": 135,
     "metadata": {},
     "output_type": "execute_result"
    }
   ],
   "source": [
    "text = '{\"속성1\":\"값1\", \"속성2\":\"값2\"}'\n",
    "type(text)"
   ]
  },
  {
   "cell_type": "code",
   "execution_count": 136,
   "id": "3fcdcc11",
   "metadata": {},
   "outputs": [
    {
     "data": {
      "text/plain": [
       "{'속성1': '값1', '속성2': '값2'}"
      ]
     },
     "execution_count": 136,
     "metadata": {},
     "output_type": "execute_result"
    }
   ],
   "source": [
    "# 문자(딕셔너리 타입)를 딕셔너리\n",
    "# '{\"속성1\":\"값1\", \"속성2\":\"값2\"}' => {\"속성1\":\"값1\", \"속성2\":\"값2\"}\n",
    "import json \n",
    "json.loads(text)"
   ]
  },
  {
   "cell_type": "markdown",
   "id": "61b027b1",
   "metadata": {},
   "source": [
    "## 2.2html 파일\n",
    "### 1)환율정보 가져오기(네이버->증권->시장지표)\n",
    "https://finance.naver.com/marketindex/"
   ]
  },
  {
   "cell_type": "code",
   "execution_count": 76,
   "id": "ed255060",
   "metadata": {},
   "outputs": [],
   "source": [
    "# 방법 1. requests\n",
    "import requests \n",
    "from bs4 import BeautifulSoup\n",
    "url = 'https://finance.naver.com/marketindex/'\n",
    "response = requests.get(url)\n",
    "# response, response.status_code\n",
    "# response.content\n",
    "# response.content.decode('cp949') == response.text\n",
    "soup = BeautifulSoup(response.text,\n",
    "                    'html.parser')"
   ]
  },
  {
   "cell_type": "code",
   "execution_count": 81,
   "id": "b824ce9f",
   "metadata": {},
   "outputs": [],
   "source": [
    "# 방법 2. urlopen\n",
    "from urllib.request import urlopen\n",
    "response = urlopen(url)\n",
    "# response.status 상태 코드 (정상상태 확인)\n",
    "# response.read() #content와 동일한 값 출력\n",
    "# response.read().decode('cp949')\n",
    "soup = BeautifulSoup(response,'html.parser') #text 사용 불가 "
   ]
  },
  {
   "cell_type": "code",
   "execution_count": 99,
   "id": "466daedd",
   "metadata": {},
   "outputs": [
    {
     "name": "stdout",
     "output_type": "stream",
     "text": [
      "미국 USD\n",
      "일본 JPY(100엔)\n",
      "유럽연합 EUR\n",
      "중국 CNY\n",
      "달러/일본 엔\n",
      "유로/달러\n",
      "영국 파운드/달러\n",
      "달러인덱스\n",
      "WTI\n",
      "휘발유\n",
      "국제 금\n",
      "국내 금\n"
     ]
    }
   ],
   "source": [
    "title = soup.select('h3.h_lst > span.blind')\n",
    "for t in title:\n",
    "    print(t.text, end='\\n')"
   ]
  },
  {
   "cell_type": "code",
   "execution_count": 107,
   "id": "75f9c4b9",
   "metadata": {},
   "outputs": [
    {
     "data": {
      "text/plain": [
       "[1375, 953, 1555, 191, 144, 1, 1, 99, 61, 1633, 3300, 146173]"
      ]
     },
     "execution_count": 107,
     "metadata": {},
     "output_type": "execute_result"
    }
   ],
   "source": [
    "price = soup.select('div.head_info > span.value')\n",
    "[p.text for p in price]\n",
    "[round(float(p.text.replace(',','')))for p in price]\n",
    "[round(float(''.join(p.text.split(',')))) for p in price]"
   ]
  },
  {
   "cell_type": "code",
   "execution_count": 96,
   "id": "b5a6f8bf",
   "metadata": {},
   "outputs": [
    {
     "data": {
      "text/plain": [
       "1375"
      ]
     },
     "execution_count": 96,
     "metadata": {},
     "output_type": "execute_result"
    }
   ],
   "source": [
    "#,기준으로 빈스트링으로 연결 join\n",
    "out = '1,374.70'\n",
    "round(float(''.join(out.split(','))))"
   ]
  },
  {
   "cell_type": "code",
   "execution_count": 113,
   "id": "191a7a9d",
   "metadata": {},
   "outputs": [
    {
     "data": {
      "text/plain": [
       "['원', '원', '원', '원', '엔', '달러', '달러', '', '달러', '원', '달러', '원']"
      ]
     },
     "execution_count": 113,
     "metadata": {},
     "output_type": "execute_result"
    }
   ],
   "source": [
    "unit = soup.select('div.head_info > span > span.blind')\n",
    "unit = [u.text for u in unit]\n",
    "unit.insert(7,'') #7번째 index에 '' 추가\n",
    "unit"
   ]
  },
  {
   "cell_type": "code",
   "execution_count": 115,
   "id": "6fcfb059",
   "metadata": {},
   "outputs": [
    {
     "data": {
      "text/plain": [
       "['하락', '하락', '하락', '하락', '상승', '하락', '하락', '상승', '하락', '하락', '하락', '상승']"
      ]
     },
     "execution_count": 115,
     "metadata": {},
     "output_type": "execute_result"
    }
   ],
   "source": [
    "status = soup.select('div.head_info > span.blind')\n",
    "[s.text for s in status]\n",
    "# status"
   ]
  },
  {
   "cell_type": "code",
   "execution_count": 116,
   "id": "0c9a2d2f",
   "metadata": {},
   "outputs": [
    {
     "data": {
      "text/plain": [
       "['하락', '하락', '하락', '하락', '상승', '하락', '하락', '상승', '하락', '하락', '하락', '상승']"
      ]
     },
     "execution_count": 116,
     "metadata": {},
     "output_type": "execute_result"
    }
   ],
   "source": [
    "[t.text for t in title]\n",
    "[p.text for p in price]\n",
    "unit\n",
    "[s.string for s in status]"
   ]
  },
  {
   "cell_type": "code",
   "execution_count": 117,
   "id": "9f652c40",
   "metadata": {},
   "outputs": [
    {
     "data": {
      "text/plain": [
       "(12, 12, 12, 12)"
      ]
     },
     "execution_count": 117,
     "metadata": {},
     "output_type": "execute_result"
    }
   ],
   "source": [
    "len(title), len(price), len(unit), len(status)"
   ]
  },
  {
   "cell_type": "code",
   "execution_count": 123,
   "id": "8f0abdc8",
   "metadata": {},
   "outputs": [
    {
     "name": "stdout",
     "output_type": "stream",
     "text": [
      "1.미국 USD : 1,375.00원-하락\n",
      "2.일본 JPY(100엔) : 952.51원-하락\n",
      "3.유럽연합 EUR : 1,555.06원-하락\n",
      "4.중국 CNY : 191.06원-하락\n",
      "5.달러/일본 엔 : 144.3800엔-상승\n",
      "6.유로/달러 : 1.1342달러-하락\n",
      "7.영국 파운드/달러 : 1.3520달러-하락\n",
      "8.달러인덱스 : 99.4200-상승\n",
      "9.WTI : 60.89달러-하락\n",
      "10.휘발유 : 1633.17원-하락\n",
      "11.국제 금 : 3300.4달러-하락\n",
      "12.국내 금 : 146173.4원-상승\n"
     ]
    }
   ],
   "source": [
    "for idx in range(len(title)):\n",
    "    print(\"{}.{} : {}{}-{}\".format(idx+1,\n",
    "                                    title[idx].text,\n",
    "                                    price[idx].text,\n",
    "                                    unit[idx],\n",
    "                                    status[idx].text))"
   ]
  },
  {
   "cell_type": "code",
   "execution_count": 126,
   "id": "be7016cd",
   "metadata": {},
   "outputs": [
    {
     "name": "stdout",
     "output_type": "stream",
     "text": [
      "미국 USD : 1,375.00원-하락\n",
      "일본 JPY(100엔) : 952.51원-하락\n",
      "유럽연합 EUR : 1,555.06원-하락\n",
      "중국 CNY : 191.06원-하락\n",
      "달러/일본 엔 : 144.3800엔-상승\n",
      "유로/달러 : 1.1342달러-하락\n",
      "영국 파운드/달러 : 1.3520달러-하락\n",
      "달러인덱스 : 99.4200-상승\n",
      "WTI : 60.89달러-하락\n",
      "휘발유 : 1633.17원-하락\n",
      "국제 금 : 3300.4달러-하락\n",
      "국내 금 : 146173.4원-상승\n"
     ]
    }
   ],
   "source": [
    "for t,p,u,s in zip(title,price,unit,status):\n",
    "    print(\"{} : {}{}-{}\".format(t.text,\n",
    "                                p.text,\n",
    "                                u,\n",
    "                                s.text))"
   ]
  },
  {
   "cell_type": "code",
   "execution_count": 128,
   "id": "9c851ac2",
   "metadata": {},
   "outputs": [
    {
     "name": "stdout",
     "output_type": "stream",
     "text": [
      "1.미국 USD : 1,375.00원-하락\n",
      "2.일본 JPY(100엔) : 952.51원-하락\n",
      "3.유럽연합 EUR : 1,555.06원-하락\n",
      "4.중국 CNY : 191.06원-하락\n",
      "5.달러/일본 엔 : 144.3800엔-상승\n",
      "6.유로/달러 : 1.1342달러-하락\n",
      "7.영국 파운드/달러 : 1.3520달러-하락\n",
      "8.달러인덱스 : 99.4200-상승\n",
      "9.WTI : 60.89달러-하락\n",
      "10.휘발유 : 1633.17원-하락\n",
      "11.국제 금 : 3300.4달러-하락\n",
      "12.국내 금 : 146173.4원-상승\n"
     ]
    }
   ],
   "source": [
    "for idx,(t,p,u,s) in enumerate(zip(title,price,unit,status)):\n",
    "    print(\"{}.{} : {}{}-{}\".format(idx+1,\n",
    "                                t.text,\n",
    "                                p.text,\n",
    "                                u,\n",
    "                                s.text))"
   ]
  },
  {
   "cell_type": "markdown",
   "id": "ac7d5350",
   "metadata": {},
   "source": [
    "### 2) 이번주 로또번호 출력 \n",
    "- google에 \"로또번호 당첨번호\" 검색\n",
    "https://dhlottery.co.kr/gameResult.do?method=byWin\n"
   ]
  },
  {
   "cell_type": "code",
   "execution_count": 140,
   "id": "78a1acb6",
   "metadata": {},
   "outputs": [
    {
     "data": {
      "text/plain": [
       "200"
      ]
     },
     "execution_count": 140,
     "metadata": {},
     "output_type": "execute_result"
    }
   ],
   "source": [
    "#방법 1의 soup객체 생성\n",
    "import requests\n",
    "from bs4 import BeautifulSoup\n",
    "url = 'https://dhlottery.co.kr/gameResult.do?method=byWin'\n",
    "response = requests.get(url)\n",
    "soup = BeautifulSoup(response.text,'html.parser')\n",
    "# response.status_code"
   ]
  },
  {
   "cell_type": "markdown",
   "id": "f661b04f",
   "metadata": {},
   "source": [
    "```\n",
    "1173회 (2025년 05년 24일 추첨)\n",
    "당첨번호 [1 5 18 20 30 35]\n",
    "보너스 3\n",
    "```"
   ]
  },
  {
   "cell_type": "code",
   "execution_count": 261,
   "id": "bf417b1c",
   "metadata": {},
   "outputs": [
    {
     "name": "stdout",
     "output_type": "stream",
     "text": [
      "1173회 (2025년 05월 24일 추첨)\n",
      "당첨번호 : [1, 5, 18, 20, 30, 35]\n",
      "보너스 : [3]\n"
     ]
    }
   ],
   "source": [
    "time = soup.select_one('div.win_result > h4 > strong').text\n",
    "date = soup.select_one('div.win_result > p.desc').text\n",
    "title1 = soup.select_one('div.num.win > strong').text\n",
    "win = soup.select('div.num.win > p> span')\n",
    "winnum = [int(w.text) for w in win]\n",
    "bonusnum = soup.select_one('div.num.bonus > p > span').text\n",
    "title2 = soup.select_one('div.num.bonus > strong').text\n",
    "print(time,date)\n",
    "print(title1, \":\", winnum)\n",
    "print(title2, \":\", [int(bonusnum)])"
   ]
  },
  {
   "cell_type": "code",
   "execution_count": 210,
   "id": "94ccfc1f",
   "metadata": {},
   "outputs": [
    {
     "data": {
      "text/plain": [
       "['1173회']"
      ]
     },
     "execution_count": 210,
     "metadata": {},
     "output_type": "execute_result"
    }
   ],
   "source": [
    "num = soup.select('div.win_result > h4 > strong')\n",
    "[n.text for n in num]\n",
    "# num"
   ]
  },
  {
   "cell_type": "code",
   "execution_count": 198,
   "id": "8c40f7e6",
   "metadata": {},
   "outputs": [
    {
     "data": {
      "text/plain": [
       "['(2025년 05월 24일 추첨)']"
      ]
     },
     "execution_count": 198,
     "metadata": {},
     "output_type": "execute_result"
    }
   ],
   "source": [
    "date = soup.select('div.win_result > p')\n",
    "[d.text for d in date]"
   ]
  },
  {
   "cell_type": "code",
   "execution_count": 199,
   "id": "09225083",
   "metadata": {},
   "outputs": [
    {
     "data": {
      "text/plain": [
       "['당첨번호']"
      ]
     },
     "execution_count": 199,
     "metadata": {},
     "output_type": "execute_result"
    }
   ],
   "source": [
    "title = soup.select('div.num.win > strong')\n",
    "[t.text for t in title]"
   ]
  },
  {
   "cell_type": "code",
   "execution_count": 205,
   "id": "c5c9e18c",
   "metadata": {},
   "outputs": [
    {
     "data": {
      "text/plain": [
       "['\\n1\\n5\\n18\\n20\\n30\\n35\\n']"
      ]
     },
     "execution_count": 205,
     "metadata": {},
     "output_type": "execute_result"
    }
   ],
   "source": [
    "winnum = soup.select('div.num.win > P')\n",
    "[w.text for w in winnum]"
   ]
  },
  {
   "cell_type": "code",
   "execution_count": 206,
   "id": "bf1e765e",
   "metadata": {},
   "outputs": [
    {
     "data": {
      "text/plain": [
       "['3']"
      ]
     },
     "execution_count": 206,
     "metadata": {},
     "output_type": "execute_result"
    }
   ],
   "source": [
    "bonusnum = soup.select('div.num.bonus > p')\n",
    "[b.text for b in bonusnum]"
   ]
  },
  {
   "cell_type": "code",
   "execution_count": 256,
   "id": "a7269709",
   "metadata": {},
   "outputs": [],
   "source": [
    "#방법 2의 soup객체 생성\n",
    "from urllib.request import urlopen\n",
    "response = urlopen(url)\n",
    "soup = BeautifulSoup(response,'html.parser')"
   ]
  },
  {
   "cell_type": "code",
   "execution_count": 302,
   "id": "39ba659d",
   "metadata": {},
   "outputs": [
    {
     "name": "stdout",
     "output_type": "stream",
     "text": [
      "1173회 (2025년 05월 24일 추첨)\n",
      "당첨번호 [1, 5, 18, 20, 30, 35]\n",
      "보너스 [3]\n"
     ]
    }
   ],
   "source": [
    "win_result = soup.find('div', class_='win_result')\n",
    "times = win_result.find('strong').text\n",
    "date = soup.find('p', class_='desc').text\n",
    "print(times, date)\n",
    "num_win = soup.find('div',class_=['win'])\n",
    "title1 = num_win.find('strong').text\n",
    "lotto_number = num_win.find_all('span') #배열\n",
    "print(title1,[int(lotto.text) for lotto in lotto_number])\n",
    "title2 = num_bonus.find('strong').text\n",
    "num_bonus = soup.find('div', class_=['bonus'])\n",
    "bonus_num = num_bonus.find_all('span')\n",
    "print(title2,[int(bonus.text) for bonus in bonus_num])"
   ]
  },
  {
   "cell_type": "markdown",
   "id": "583fceb7",
   "metadata": {},
   "source": [
    "### 3) 다음 검색 리스트\n",
    "https://search.daum.net/search?w=tot&DA=YZR&t__nil_searchbox=btn&q=%EC%95%BC%EA%B5%AC+\n",
    "```\n",
    "no    title    link\n",
    "0    [비즈 나우] 비트코인               https://v.daum.net/v/20250528075215864\n",
    "1    [비트코인 2025] 백악관 크립토 차르  https://v.daum.net/v/20250528103907230\n",
    "```"
   ]
  },
  {
   "cell_type": "code",
   "execution_count": 321,
   "id": "e770b304",
   "metadata": {},
   "outputs": [
    {
     "name": "stdout",
     "output_type": "stream",
     "text": [
      "https://search.daum.net/search?nil_suggest=btn&w=news&DA=SBC&cluster=y&q=비트코인\n"
     ]
    }
   ],
   "source": [
    "keyword = '비트코인'\n",
    "url = 'https://search.daum.net/search?nil_suggest=btn&w=news&DA=SBC&cluster=y&q='\\\n",
    "        +keyword\n",
    "print(url)"
   ]
  },
  {
   "cell_type": "code",
   "execution_count": 333,
   "id": "551a7d64",
   "metadata": {},
   "outputs": [
    {
     "data": {
      "text/html": [
       "<div>\n",
       "<style scoped>\n",
       "    .dataframe tbody tr th:only-of-type {\n",
       "        vertical-align: middle;\n",
       "    }\n",
       "\n",
       "    .dataframe tbody tr th {\n",
       "        vertical-align: top;\n",
       "    }\n",
       "\n",
       "    .dataframe thead th {\n",
       "        text-align: right;\n",
       "    }\n",
       "</style>\n",
       "<table border=\"1\" class=\"dataframe\">\n",
       "  <thead>\n",
       "    <tr style=\"text-align: right;\">\n",
       "      <th></th>\n",
       "      <th>no</th>\n",
       "      <th>title</th>\n",
       "      <th>link</th>\n",
       "    </tr>\n",
       "  </thead>\n",
       "  <tbody>\n",
       "    <tr>\n",
       "      <th>0</th>\n",
       "      <td>0</td>\n",
       "      <td>[비즈 나우] 비트코인 2025 컨퍼런스 개막…'전략자산' 선언 코앞</td>\n",
       "      <td>http://v.daum.net/v/20250528075215864</td>\n",
       "    </tr>\n",
       "    <tr>\n",
       "      <th>1</th>\n",
       "      <td>1</td>\n",
       "      <td>[비트코인 2025] 백악관 크립토 차르 “美 정부 비트코인 추가 매입 검토…부채...</td>\n",
       "      <td>http://v.daum.net/v/20250528103907230</td>\n",
       "    </tr>\n",
       "    <tr>\n",
       "      <th>2</th>\n",
       "      <td>2</td>\n",
       "      <td>비트코인, 트럼프 미디어 비축 소식에도 주춤…1억5100만원대</td>\n",
       "      <td>http://v.daum.net/v/20250528095112897</td>\n",
       "    </tr>\n",
       "    <tr>\n",
       "      <th>3</th>\n",
       "      <td>3</td>\n",
       "      <td>“맥O날드보다 맛없어!” 혹평이 가득한 트럼프 만찬과 비트코인 피자데이[엠블록레터]</td>\n",
       "      <td>http://v.daum.net/v/20250528143002735</td>\n",
       "    </tr>\n",
       "    <tr>\n",
       "      <th>4</th>\n",
       "      <td>4</td>\n",
       "      <td>美 상원의원 \"트럼프 대통령, 비트코인법 지지\"</td>\n",
       "      <td>http://v.daum.net/v/20250528090342853</td>\n",
       "    </tr>\n",
       "    <tr>\n",
       "      <th>5</th>\n",
       "      <td>5</td>\n",
       "      <td>[비트코인 2025] 로빈후드 창업자 “토큰화 증권은 美 ‘자본 패권’ 키우는 수단”</td>\n",
       "      <td>http://v.daum.net/v/20250528110600761</td>\n",
       "    </tr>\n",
       "    <tr>\n",
       "      <th>6</th>\n",
       "      <td>6</td>\n",
       "      <td>'비트코인 빚투' 스트레티지, 또 샀다…보유량 58만개 돌파</td>\n",
       "      <td>http://v.daum.net/v/20250528042404292</td>\n",
       "    </tr>\n",
       "    <tr>\n",
       "      <th>7</th>\n",
       "      <td>7</td>\n",
       "      <td>\"비트코인 산다\"…트럼프家, 25억달러 자금 조달 추진[코인브리핑]</td>\n",
       "      <td>http://v.daum.net/v/20250528111837527</td>\n",
       "    </tr>\n",
       "    <tr>\n",
       "      <th>8</th>\n",
       "      <td>8</td>\n",
       "      <td>숨 고르는 비트코인, 10만8000달러선 '주춤'</td>\n",
       "      <td>http://v.daum.net/v/20250528095921258</td>\n",
       "    </tr>\n",
       "    <tr>\n",
       "      <th>9</th>\n",
       "      <td>9</td>\n",
       "      <td>트럼프미디어그룹, 25억 달러 규모 자금 조달 통해 비트코인 매입 예고</td>\n",
       "      <td>http://v.daum.net/v/20250528084245020</td>\n",
       "    </tr>\n",
       "  </tbody>\n",
       "</table>\n",
       "</div>"
      ],
      "text/plain": [
       "   no                                              title  \\\n",
       "0   0            [비즈 나우] 비트코인 2025 컨퍼런스 개막…'전략자산' 선언 코앞    \n",
       "1   1   [비트코인 2025] 백악관 크립토 차르 “美 정부 비트코인 추가 매입 검토…부채...   \n",
       "2   2                비트코인, 트럼프 미디어 비축 소식에도 주춤…1억5100만원대    \n",
       "3   3    “맥O날드보다 맛없어!” 혹평이 가득한 트럼프 만찬과 비트코인 피자데이[엠블록레터]    \n",
       "4   4                        美 상원의원 \"트럼프 대통령, 비트코인법 지지\"    \n",
       "5   5   [비트코인 2025] 로빈후드 창업자 “토큰화 증권은 美 ‘자본 패권’ 키우는 수단”    \n",
       "6   6                 '비트코인 빚투' 스트레티지, 또 샀다…보유량 58만개 돌파    \n",
       "7   7             \"비트코인 산다\"…트럼프家, 25억달러 자금 조달 추진[코인브리핑]    \n",
       "8   8                       숨 고르는 비트코인, 10만8000달러선 '주춤'    \n",
       "9   9           트럼프미디어그룹, 25억 달러 규모 자금 조달 통해 비트코인 매입 예고    \n",
       "\n",
       "                                    link  \n",
       "0  http://v.daum.net/v/20250528075215864  \n",
       "1  http://v.daum.net/v/20250528103907230  \n",
       "2  http://v.daum.net/v/20250528095112897  \n",
       "3  http://v.daum.net/v/20250528143002735  \n",
       "4  http://v.daum.net/v/20250528090342853  \n",
       "5  http://v.daum.net/v/20250528110600761  \n",
       "6  http://v.daum.net/v/20250528042404292  \n",
       "7  http://v.daum.net/v/20250528111837527  \n",
       "8  http://v.daum.net/v/20250528095921258  \n",
       "9  http://v.daum.net/v/20250528084245020  "
      ]
     },
     "execution_count": 333,
     "metadata": {},
     "output_type": "execute_result"
    }
   ],
   "source": [
    "# 웹크롤링 방법1 (리스트안에 딕셔너리로 만들기)\n",
    "import requests\n",
    "from bs4 import BeautifulSoup\n",
    "keyword = '비트코인'\n",
    "url = 'https://search.daum.net/search?nil_suggest=btn&w=news&DA=SBC&cluster=y&q='\\\n",
    "        +keyword\n",
    "response = requests.get(url)\n",
    "soup = BeautifulSoup(response.text,\n",
    "                    'html.parser')\n",
    "items_find_list=[] #검색할 결과를 담을 dict list\n",
    "items_el = soup.select('div.item-title > strong.tit-g.clamp-g > a')\n",
    "len(items_el)\n",
    "for idx, item in enumerate(items_el):\n",
    "    items_find_list.append({'no': idx,\n",
    "                            'title' : item.text,\n",
    "                            'link' : item.attrs.get('href')})\n",
    "import pandas as pd\n",
    "pd.DataFrame(items_find_list)"
   ]
  },
  {
   "cell_type": "code",
   "execution_count": 344,
   "id": "8ae10213",
   "metadata": {},
   "outputs": [
    {
     "data": {
      "text/html": [
       "<div>\n",
       "<style scoped>\n",
       "    .dataframe tbody tr th:only-of-type {\n",
       "        vertical-align: middle;\n",
       "    }\n",
       "\n",
       "    .dataframe tbody tr th {\n",
       "        vertical-align: top;\n",
       "    }\n",
       "\n",
       "    .dataframe thead th {\n",
       "        text-align: right;\n",
       "    }\n",
       "</style>\n",
       "<table border=\"1\" class=\"dataframe\">\n",
       "  <thead>\n",
       "    <tr style=\"text-align: right;\">\n",
       "      <th></th>\n",
       "      <th>no</th>\n",
       "      <th>title</th>\n",
       "      <th>link</th>\n",
       "    </tr>\n",
       "  </thead>\n",
       "  <tbody>\n",
       "    <tr>\n",
       "      <th>0</th>\n",
       "      <td>0</td>\n",
       "      <td>[비트코인 2025] 백악관 크립토 차르 “美 정부 비트코인 추가 매입 검토…부채...</td>\n",
       "      <td>http://v.daum.net/v/20250528103907230</td>\n",
       "    </tr>\n",
       "    <tr>\n",
       "      <th>1</th>\n",
       "      <td>1</td>\n",
       "      <td>[비즈 나우] 비트코인 2025 컨퍼런스 개막…'전략자산' 선언 코앞</td>\n",
       "      <td>http://v.daum.net/v/20250528075215864</td>\n",
       "    </tr>\n",
       "    <tr>\n",
       "      <th>2</th>\n",
       "      <td>2</td>\n",
       "      <td>“맥O날드보다 맛없어!” 혹평이 가득한 트럼프 만찬과 비트코인 피자데이[엠블록레터]</td>\n",
       "      <td>http://v.daum.net/v/20250528143002735</td>\n",
       "    </tr>\n",
       "    <tr>\n",
       "      <th>3</th>\n",
       "      <td>3</td>\n",
       "      <td>블랙록, 자사 비트코인 ETF 보유량 25% 확대…기관 투자 본격화 신호탄</td>\n",
       "      <td>http://v.daum.net/v/20250528151802080</td>\n",
       "    </tr>\n",
       "    <tr>\n",
       "      <th>4</th>\n",
       "      <td>4</td>\n",
       "      <td>비트코인, 트럼프 미디어 비축 소식에도 주춤…1억5100만원대</td>\n",
       "      <td>http://v.daum.net/v/20250528095112897</td>\n",
       "    </tr>\n",
       "    <tr>\n",
       "      <th>5</th>\n",
       "      <td>5</td>\n",
       "      <td>'비트코인 빚투' 스트레티지, 또 샀다…보유량 58만개 돌파</td>\n",
       "      <td>http://v.daum.net/v/20250528042404292</td>\n",
       "    </tr>\n",
       "    <tr>\n",
       "      <th>6</th>\n",
       "      <td>6</td>\n",
       "      <td>美 상원의원 \"트럼프 대통령, 비트코인법 지지\"</td>\n",
       "      <td>http://v.daum.net/v/20250528090342853</td>\n",
       "    </tr>\n",
       "    <tr>\n",
       "      <th>7</th>\n",
       "      <td>7</td>\n",
       "      <td>숨 고르는 비트코인, 10만8000달러선 '주춤'</td>\n",
       "      <td>http://v.daum.net/v/20250528095921258</td>\n",
       "    </tr>\n",
       "    <tr>\n",
       "      <th>8</th>\n",
       "      <td>8</td>\n",
       "      <td>[비트코인 2025] 로빈후드 창업자 “토큰화 증권은 美 ‘자본 패권’ 키우는 수단”</td>\n",
       "      <td>http://v.daum.net/v/20250528110600761</td>\n",
       "    </tr>\n",
       "    <tr>\n",
       "      <th>9</th>\n",
       "      <td>9</td>\n",
       "      <td>트럼프미디어그룹, 25억 달러 규모 자금 조달 통해 비트코인 매입 예고</td>\n",
       "      <td>http://v.daum.net/v/20250528084245020</td>\n",
       "    </tr>\n",
       "  </tbody>\n",
       "</table>\n",
       "</div>"
      ],
      "text/plain": [
       "   no                                              title  \\\n",
       "0   0   [비트코인 2025] 백악관 크립토 차르 “美 정부 비트코인 추가 매입 검토…부채...   \n",
       "1   1            [비즈 나우] 비트코인 2025 컨퍼런스 개막…'전략자산' 선언 코앞    \n",
       "2   2    “맥O날드보다 맛없어!” 혹평이 가득한 트럼프 만찬과 비트코인 피자데이[엠블록레터]    \n",
       "3   3         블랙록, 자사 비트코인 ETF 보유량 25% 확대…기관 투자 본격화 신호탄    \n",
       "4   4                비트코인, 트럼프 미디어 비축 소식에도 주춤…1억5100만원대    \n",
       "5   5                 '비트코인 빚투' 스트레티지, 또 샀다…보유량 58만개 돌파    \n",
       "6   6                        美 상원의원 \"트럼프 대통령, 비트코인법 지지\"    \n",
       "7   7                       숨 고르는 비트코인, 10만8000달러선 '주춤'    \n",
       "8   8   [비트코인 2025] 로빈후드 창업자 “토큰화 증권은 美 ‘자본 패권’ 키우는 수단”    \n",
       "9   9           트럼프미디어그룹, 25억 달러 규모 자금 조달 통해 비트코인 매입 예고    \n",
       "\n",
       "                                    link  \n",
       "0  http://v.daum.net/v/20250528103907230  \n",
       "1  http://v.daum.net/v/20250528075215864  \n",
       "2  http://v.daum.net/v/20250528143002735  \n",
       "3  http://v.daum.net/v/20250528151802080  \n",
       "4  http://v.daum.net/v/20250528095112897  \n",
       "5  http://v.daum.net/v/20250528042404292  \n",
       "6  http://v.daum.net/v/20250528090342853  \n",
       "7  http://v.daum.net/v/20250528095921258  \n",
       "8  http://v.daum.net/v/20250528110600761  \n",
       "9  http://v.daum.net/v/20250528084245020  "
      ]
     },
     "execution_count": 344,
     "metadata": {},
     "output_type": "execute_result"
    }
   ],
   "source": [
    "# 리스트안에 리스트 만들기\n",
    "import requests\n",
    "from bs4 import BeautifulSoup\n",
    "keyword = '비트코인'\n",
    "url = 'https://search.daum.net/search?nil_suggest=btn&w=news&DA=SBC&cluster=y&q='\\\n",
    "        +keyword\n",
    "response = requests.get(url)\n",
    "soup = BeautifulSoup(response.text,\n",
    "                    'html.parser')\n",
    "items_find_list=[] #검색한 결과를 담을 2차원 리스트\n",
    "items_el = soup.select('div.item-title > strong.tit-g.clamp-g > a')\n",
    "for idx, item in enumerate(items_el):\n",
    "    items_find_list.append([idx, item.text, item.attrs.get('href')])\n",
    "\n",
    "# items_find_list\n",
    "import pandas as pd\n",
    "pd.DataFrame(items_find_list, columns=['no','title','link'])"
   ]
  },
  {
   "cell_type": "code",
   "execution_count": 358,
   "id": "fbcf718d",
   "metadata": {
    "collapsed": true
   },
   "outputs": [
    {
     "name": "stdout",
     "output_type": "stream",
     "text": [
      "{'no': 20, 'title': ' [영상] “강세장 진입한 비트코인, 내년 2분기까지 최소 20만~30만 달러 갈 듯” ', 'link': 'http://v.daum.net/v/20250527090137566'}\n",
      "{'no': 21, 'title': ' 전력거래소, `공감·혁신` 토대 조직문화 바꾸기 ', 'link': 'http://v.daum.net/v/20250528152647580'}\n",
      "{'no': 22, 'title': ' “미국 대통령이 이래도 되나”…트럼프 일가, 4조원 유치해 대놓고 코인 투자 ', 'link': 'http://v.daum.net/v/20250527220300328'}\n",
      "{'no': 23, 'title': ' 트럼프미디어, 비트코인 3.4조 투자 발표에 주가 10% 폭락 ', 'link': 'http://v.daum.net/v/20250528080206055'}\n",
      "{'no': 24, 'title': ' 트럼프 미디어, 비트코인 사나…가상자산 매입 위해 30억 달러 조달 추진 ', 'link': 'http://v.daum.net/v/20250527043000368'}\n",
      "{'no': 25, 'title': ' 전력거래소, 2025년 공감과 혁신 특강 개최 ', 'link': 'http://v.daum.net/v/20250528150120264'}\n",
      "{'no': 26, 'title': ' <단독>\"예배 참석하면 코인 드려요. 5년 안에 비트코인 넘어섭니다\"..신앙심 노린 코인 유사 사기 기승 ', 'link': 'http://v.daum.net/v/20250528083323774'}\n",
      "{'no': 27, 'title': ' 뉴욕증시 휴장에 10.9만弗선 숨고른 비트코인 [매일코인] ', 'link': 'http://v.daum.net/v/20250527103810840'}\n",
      "{'no': 28, 'title': ' 이재명 공약집…권력기관 고강도 개혁·AI 통한 성장에 방점 ', 'link': 'http://v.daum.net/v/20250528151522978'}\n",
      "{'no': 29, 'title': ' \"비트코인, 해킹에 안전한 시간 20년 남아…완벽한 양자컴에 뚫려\" ', 'link': 'http://v.daum.net/v/20250527084812094'}\n"
     ]
    }
   ],
   "source": [
    "# 다음 뉴스 검색(키워드,원하는 페이지수)\n",
    "import requests \n",
    "from bs4 import BeautifulSoup\n",
    "import pandas as pd\n",
    "import time\n",
    "keyword = '비트코인'\n",
    "page = 3\n",
    "# url = 'https://search.daum.net/search?w=news&nil_search=btn&DA=NTB&enc=utf8&cluster=y&q={keyword}&p={page}'\n",
    "# response = requests.get(url)\n",
    "\n",
    "url = 'https://search.daum.net/search?w=news&nil_search=btn&DA=NTB&enc=utf8&cluster=y'\n",
    "params = {'q':keyword, 'p':page}\n",
    "response = requests.get(url,params=params)\n",
    "soup = BeautifulSoup(response.text,\n",
    "                     'html.parser')\n",
    "\n",
    "items_find_list=[] #검색할 결과를 담을 dict list\n",
    "items_el = soup.select('div.item-title > strong.tit-g.clamp-g > a')\n",
    "len(items_el)\n",
    "for idx, item in enumerate(items_el):\n",
    "    items_find_list.append({'no': idx,\n",
    "                            'title' : item.text,\n",
    "                            'link' : item.attrs.get('href')})\n",
    "    print({'no':(page-1)*10+ idx,\n",
    "                            'title' : item.text,\n",
    "                            'link' : item.attrs.get('href')})"
   ]
  },
  {
   "cell_type": "code",
   "execution_count": null,
   "id": "eb273338",
   "metadata": {},
   "outputs": [],
   "source": [
    "# 함수 만들기 "
   ]
  },
  {
   "cell_type": "code",
   "execution_count": 3,
   "id": "b2fa9786",
   "metadata": {},
   "outputs": [],
   "source": [
    "import requests \n",
    "from bs4 import BeautifulSoup\n",
    "import pandas as pd\n",
    "import time\n",
    "def collect_list(keyword,page=1):\n",
    "    'keyword로 다음 검색한 결과(해당 page)를 return'\n",
    "    url = 'https://search.daum.net/search?w=news&nil_search=btn&DA=NTB&enc=utf8&cluster=y'\n",
    "    params = {'q':keyword, 'p':page}\n",
    "    response = requests.get(url,params=params)\n",
    "    soup = BeautifulSoup(response.text,\n",
    "                         'html.parser')\n",
    "    items_find_list=[] #검색할 결과를 담을 dict list\n",
    "    items_el = soup.select('div.item-title > strong.tit-g.clamp-g > a')\n",
    "    for idx, item in enumerate(items_el):\n",
    "        items_find_list.append({'no':(page-1)*10+ idx,\n",
    "                                'title' : item.text,\n",
    "                                'link' : item.attrs.get('href')})\n",
    "    return items_find_list"
   ]
  },
  {
   "cell_type": "code",
   "execution_count": 366,
   "id": "b46f6397",
   "metadata": {},
   "outputs": [
    {
     "data": {
      "text/plain": [
       "[{'no': 30,\n",
       "  'title': ' 어쩌면 마지막 빨래 ',\n",
       "  'link': 'http://v.daum.net/v/20250421143123301'},\n",
       " {'no': 31,\n",
       "  'title': ' ‘관세전쟁’에 빨래 횟수도 줄이는 미국인들 ',\n",
       "  'link': 'http://v.daum.net/v/20250425123746580'},\n",
       " {'no': 32,\n",
       "  'title': ' 밥 짓기·설거지·빨래 강요, 괴롭힘 신고도 묵살···새마을금고 간부들 1700만원 배상 ',\n",
       "  'link': 'http://v.daum.net/v/20250428152014225'},\n",
       " {'no': 33,\n",
       "  'title': ' 빨래 횟수도 줄이는 미국인들…실적 전망 줄줄이 낮춘다 ',\n",
       "  'link': 'http://v.daum.net/v/20250425111350870'},\n",
       " {'no': 34,\n",
       "  'title': ' 빨래건조대 혁신… 모터로 건조시간 35%↓ ',\n",
       "  'link': 'http://v.daum.net/v/20250409012011659'},\n",
       " {'no': 35,\n",
       "  'title': \" 문앞에 놔두면 빨래 끝…세탁도 '앱 클릭' \",\n",
       "  'link': 'http://v.daum.net/v/20250513160655495'},\n",
       " {'no': 36,\n",
       "  'title': ' 박승희, 시모가 곱게 갠 빨래→아수라장 옷방에 철푸덕 (동상이몽2)[결정적장면] ',\n",
       "  'link': 'http://v.daum.net/v/20250422060825114'},\n",
       " {'no': 37,\n",
       "  'title': ' ‘제이쓴♥’ 홍현희, 60억 압구정 아파트 나와 집 없이 떠돌아다녀 “벌써 10일째” ',\n",
       "  'link': 'http://v.daum.net/v/20250528145050679'},\n",
       " {'no': 38,\n",
       "  'title': ' 하원미 \"하숙집 엄마처럼 빨래, 밥, 청소\"…추신수 월봉 70만원 시절에도 살뜰 내조(\\'추신수몰래\\') ',\n",
       "  'link': 'http://v.daum.net/v/20250424234801721'},\n",
       " {'no': 39,\n",
       "  'title': ' [서산] 영남 산불에 밥차·빨래차 몰고 간 사람들 \"위로하기도 힘들 정도\" ',\n",
       "  'link': 'http://v.daum.net/v/20250409092403521'}]"
      ]
     },
     "execution_count": 366,
     "metadata": {},
     "output_type": "execute_result"
    }
   ],
   "source": [
    "collect_list('빨래',4)"
   ]
  },
  {
   "cell_type": "code",
   "execution_count": 4,
   "id": "6ad1ba7a",
   "metadata": {},
   "outputs": [
    {
     "data": {
      "text/html": [
       "<div>\n",
       "<style scoped>\n",
       "    .dataframe tbody tr th:only-of-type {\n",
       "        vertical-align: middle;\n",
       "    }\n",
       "\n",
       "    .dataframe tbody tr th {\n",
       "        vertical-align: top;\n",
       "    }\n",
       "\n",
       "    .dataframe thead th {\n",
       "        text-align: right;\n",
       "    }\n",
       "</style>\n",
       "<table border=\"1\" class=\"dataframe\">\n",
       "  <thead>\n",
       "    <tr style=\"text-align: right;\">\n",
       "      <th></th>\n",
       "      <th>no</th>\n",
       "      <th>title</th>\n",
       "      <th>link</th>\n",
       "    </tr>\n",
       "  </thead>\n",
       "  <tbody>\n",
       "    <tr>\n",
       "      <th>0</th>\n",
       "      <td>0</td>\n",
       "      <td>‘배부른 영양실조’에 빠진 한국인… 하루 키위 한 알이 해답?</td>\n",
       "      <td>http://v.daum.net/v/20250528175139032</td>\n",
       "    </tr>\n",
       "    <tr>\n",
       "      <th>1</th>\n",
       "      <td>1</td>\n",
       "      <td>‘저속노화’ 정희원 “매일 키위 2개 껍질째 먹어요”</td>\n",
       "      <td>http://v.daum.net/v/20250528172706940</td>\n",
       "    </tr>\n",
       "    <tr>\n",
       "      <th>2</th>\n",
       "      <td>2</td>\n",
       "      <td>\"키위 1알로 비타민 부족 개선\"…제스프리, '영양소 밀도 식단' 발표</td>\n",
       "      <td>http://v.daum.net/v/20250528103005788</td>\n",
       "    </tr>\n",
       "  </tbody>\n",
       "</table>\n",
       "</div>"
      ],
      "text/plain": [
       "   no                                      title  \\\n",
       "0   0        ‘배부른 영양실조’에 빠진 한국인… 하루 키위 한 알이 해답?    \n",
       "1   1             ‘저속노화’ 정희원 “매일 키위 2개 껍질째 먹어요”    \n",
       "2   2   \"키위 1알로 비타민 부족 개선\"…제스프리, '영양소 밀도 식단' 발표    \n",
       "\n",
       "                                    link  \n",
       "0  http://v.daum.net/v/20250528175139032  \n",
       "1  http://v.daum.net/v/20250528172706940  \n",
       "2  http://v.daum.net/v/20250528103005788  "
      ]
     },
     "execution_count": 4,
     "metadata": {},
     "output_type": "execute_result"
    }
   ],
   "source": [
    "#원하는 keyword로 다음검색 (append X)\n",
    "import requests \n",
    "from bs4 import BeautifulSoup\n",
    "import pandas as pd\n",
    "import time\n",
    "\n",
    "result = []\n",
    "keyword = '키위'\n",
    "pages = 4\n",
    "for page in range(1,pages+1):\n",
    "    result.extend(collect_list(keyword,page))\n",
    "    time.sleep(3)\n",
    "result_df = pd.DataFrame(result)\n",
    "result_df.head(3)\n"
   ]
  },
  {
   "cell_type": "code",
   "execution_count": 6,
   "id": "a019d899",
   "metadata": {},
   "outputs": [
    {
     "name": "stdout",
     "output_type": "stream",
     "text": [
      "~~~~0번째 키위 1 검색중입니다~~~~~\n",
      "~~~~0번째 키위 2 검색중입니다~~~~~\n",
      "~~~~1번째 복숭아 1 검색중입니다~~~~~\n",
      "~~~~1번째 복숭아 2 검색중입니다~~~~~\n"
     ]
    }
   ],
   "source": [
    "keywords=['키위','복숭아']\n",
    "pages = 2\n",
    "result0 = [] #키위 검색결과 50개\n",
    "result1 = [] #복숭아 검색결과 50개\n",
    "for i,keyword in enumerate(keywords):\n",
    "    for page in range(1, pages+1):\n",
    "        print(f'~~~~{i}번째 {keyword} {page} 검색중입니다~~~~~')\n",
    "        if i ==0:\n",
    "            result0.extend(collect_list(keyword,page))\n",
    "        else:\n",
    "            result1.extend(collect_list(keyword,page))\n",
    "        time.sleep(4)"
   ]
  },
  {
   "cell_type": "code",
   "execution_count": 7,
   "id": "70392702",
   "metadata": {},
   "outputs": [
    {
     "data": {
      "text/html": [
       "<div>\n",
       "<style scoped>\n",
       "    .dataframe tbody tr th:only-of-type {\n",
       "        vertical-align: middle;\n",
       "    }\n",
       "\n",
       "    .dataframe tbody tr th {\n",
       "        vertical-align: top;\n",
       "    }\n",
       "\n",
       "    .dataframe thead th {\n",
       "        text-align: right;\n",
       "    }\n",
       "</style>\n",
       "<table border=\"1\" class=\"dataframe\">\n",
       "  <thead>\n",
       "    <tr style=\"text-align: right;\">\n",
       "      <th></th>\n",
       "      <th>no</th>\n",
       "      <th>title</th>\n",
       "      <th>link</th>\n",
       "    </tr>\n",
       "  </thead>\n",
       "  <tbody>\n",
       "    <tr>\n",
       "      <th>0</th>\n",
       "      <td>0</td>\n",
       "      <td>‘배부른 영양실조’에 빠진 한국인… 하루 키위 한 알이 해답?</td>\n",
       "      <td>http://v.daum.net/v/20250528175139032</td>\n",
       "    </tr>\n",
       "    <tr>\n",
       "      <th>1</th>\n",
       "      <td>1</td>\n",
       "      <td>‘저속노화’ 정희원 “매일 키위 2개 껍질째 먹어요”</td>\n",
       "      <td>http://v.daum.net/v/20250528172706940</td>\n",
       "    </tr>\n",
       "    <tr>\n",
       "      <th>2</th>\n",
       "      <td>2</td>\n",
       "      <td>\"키위 1알로 비타민 부족 개선\"…제스프리, '영양소 밀도 식단' 발표</td>\n",
       "      <td>http://v.daum.net/v/20250528103005788</td>\n",
       "    </tr>\n",
       "    <tr>\n",
       "      <th>3</th>\n",
       "      <td>3</td>\n",
       "      <td>\"저는 키위를 껍질째 먹어요\"…제스프리, '영양소 밀도 식단' 연구 발표</td>\n",
       "      <td>http://v.daum.net/v/20250528133336313</td>\n",
       "    </tr>\n",
       "    <tr>\n",
       "      <th>4</th>\n",
       "      <td>4</td>\n",
       "      <td>\"영양 불균형 해소\" 제스프리가 소개하는 키위의 영양학적 가치는</td>\n",
       "      <td>http://v.daum.net/v/20250528153045857</td>\n",
       "    </tr>\n",
       "  </tbody>\n",
       "</table>\n",
       "</div>"
      ],
      "text/plain": [
       "   no                                       title  \\\n",
       "0   0         ‘배부른 영양실조’에 빠진 한국인… 하루 키위 한 알이 해답?    \n",
       "1   1              ‘저속노화’ 정희원 “매일 키위 2개 껍질째 먹어요”    \n",
       "2   2    \"키위 1알로 비타민 부족 개선\"…제스프리, '영양소 밀도 식단' 발표    \n",
       "3   3   \"저는 키위를 껍질째 먹어요\"…제스프리, '영양소 밀도 식단' 연구 발표    \n",
       "4   4        \"영양 불균형 해소\" 제스프리가 소개하는 키위의 영양학적 가치는    \n",
       "\n",
       "                                    link  \n",
       "0  http://v.daum.net/v/20250528175139032  \n",
       "1  http://v.daum.net/v/20250528172706940  \n",
       "2  http://v.daum.net/v/20250528103005788  \n",
       "3  http://v.daum.net/v/20250528133336313  \n",
       "4  http://v.daum.net/v/20250528153045857  "
      ]
     },
     "execution_count": 7,
     "metadata": {},
     "output_type": "execute_result"
    }
   ],
   "source": [
    "result0_df = pd.DataFrame(result0)\n",
    "result0_df.head()"
   ]
  },
  {
   "cell_type": "markdown",
   "id": "eac195fc",
   "metadata": {},
   "source": [
    "### 4)User-agent를 추가하여 크롤링\n",
    "- urlopen()함수를 사용하면 크롤링이 안 되는 사이트\n",
    "- User-agent를 추가하여 크롤링(브라우저)"
   ]
  },
  {
   "cell_type": "code",
   "execution_count": 340,
   "id": "e7ab8308",
   "metadata": {},
   "outputs": [
    {
     "data": {
      "text/html": [
       "<div>\n",
       "<style scoped>\n",
       "    .dataframe tbody tr th:only-of-type {\n",
       "        vertical-align: middle;\n",
       "    }\n",
       "\n",
       "    .dataframe tbody tr th {\n",
       "        vertical-align: top;\n",
       "    }\n",
       "\n",
       "    .dataframe thead th {\n",
       "        text-align: right;\n",
       "    }\n",
       "</style>\n",
       "<table border=\"1\" class=\"dataframe\">\n",
       "  <thead>\n",
       "    <tr style=\"text-align: right;\">\n",
       "      <th></th>\n",
       "    </tr>\n",
       "  </thead>\n",
       "  <tbody>\n",
       "  </tbody>\n",
       "</table>\n",
       "</div>"
      ],
      "text/plain": [
       "Empty DataFrame\n",
       "Columns: []\n",
       "Index: []"
      ]
     },
     "execution_count": 340,
     "metadata": {},
     "output_type": "execute_result"
    }
   ],
   "source": [
    "# 웹크롤링 방법2\n",
    "from urllib.request import urlopen\n",
    "import urllib.parse\n",
    "\n",
    "word = '비트코인'\n",
    "word = urllib.parse.quote(word)\n",
    "# print(word)\n",
    "url = 'https://search.daum.net/search?nil_suggest=btn&w=news&DA=SBC&cluster=y&q='+word\n",
    "response = urlopen(url)\n",
    "soup = BeautifulSoup(response,\n",
    "                    'html.parser')\n",
    "\n",
    "items_find_list=[] #검색할 결과를 담을 dict list\n",
    "items_el = soup.select('div.item-title > strong.tit-g.clamp-g > a')\n",
    "# len(items_el)\n",
    "for idx, item in enumerate(items_el):\n",
    "    items_find_list.append({'no': idx,\n",
    "                            'title' : item.text,\n",
    "                            'link' : item.attrs.get('href')})\n",
    "import pandas as pd\n",
    "pd.DataFrame(items_find_list)\n"
   ]
  },
  {
   "cell_type": "markdown",
   "id": "1175b941",
   "metadata": {},
   "source": [
    "꼭 User-Agent를 사용하여야 하는 경우 : https://www.melon.com/chart/index.htm"
   ]
  },
  {
   "cell_type": "code",
   "execution_count": 31,
   "id": "83bde7f7",
   "metadata": {},
   "outputs": [
    {
     "data": {
      "text/plain": [
       "406"
      ]
     },
     "execution_count": 31,
     "metadata": {},
     "output_type": "execute_result"
    }
   ],
   "source": [
    "# 방법 1\n",
    "import requests\n",
    "from bs4 import BeautifulSoup\n",
    "from urllib.request import urlopen\n",
    "url='https://www.melon.com/chart/'\n",
    "# melonpage = requests.get(url)\n",
    "# melonpage.status_code #오류"
   ]
  },
  {
   "cell_type": "code",
   "execution_count": 29,
   "id": "355070d5",
   "metadata": {},
   "outputs": [],
   "source": [
    "# 방법2.\n",
    "from urllib.request import urlopen, Request\n",
    "# import urllib.parse\n",
    "# melonpage = urlopen(url) 에러남\n",
    "# melonpage = requests.get(url)\n",
    "# melonpage.status_code\n"
   ]
  },
  {
   "cell_type": "code",
   "execution_count": 35,
   "id": "b54cc491",
   "metadata": {},
   "outputs": [],
   "source": [
    "#User-Agent 추가\n",
    "headers = {'user-agent':\n",
    "           'Mozilla/5.0 (Windows NT 10.0; Win64; x64) AppleWebKit/537.36 (KHTML, like Gecko) Chrome/137.0.0.0 Safari/537.36'}\n",
    "#방법2\n",
    "request = Request(url,headers=headers)\n",
    "melonpage = urlopen(request)\n",
    "\n",
    "#방법1\n",
    "melonpage = requests.get(url, headers=headers)\n",
    "soup = BeautifulSoup(melonpage.text, #melonpage.content\n",
    "                    'html.parser')\n",
    "# soup"
   ]
  },
  {
   "cell_type": "code",
   "execution_count": 84,
   "id": "a87122de",
   "metadata": {
    "collapsed": true
   },
   "outputs": [
    {
     "name": "stdout",
     "output_type": "stream",
     "text": [
      "1순위 | 노래 제목:너에게 닿기를 | 가수:10CM\n",
      "2순위 | 노래 제목:Never Ending Story | 가수:아이유\n",
      "3순위 | 노래 제목:Drowning | 가수:WOODZ\n",
      "4순위 | 노래 제목:like JENNIE | 가수:제니 (JENNIE)\n",
      "5순위 | 노래 제목:모르시나요(PROD.로코베리) | 가수:조째즈\n",
      "6순위 | 노래 제목:THUNDER | 가수:세븐틴 (SEVENTEEN)\n",
      "7순위 | 노래 제목:TOO BAD (feat. Anderson .Paak) | 가수:G-DRAGON\n",
      "8순위 | 노래 제목:네모의 꿈 | 가수:아이유\n",
      "9순위 | 노래 제목:Whiplash | 가수:aespa\n",
      "10순위 | 노래 제목:HOME SWEET HOME (feat. 태양, 대성) | 가수:G-DRAGON\n",
      "11순위 | 노래 제목:나는 반딧불 | 가수:황가람\n",
      "12순위 | 노래 제목:어제보다 슬픈 오늘 | 가수:우디 (Woody)\n",
      "13순위 | 노래 제목:오늘만 I LOVE YOU | 가수:BOYNEXTDOOR\n",
      "14순위 | 노래 제목:REBEL HEART | 가수:IVE (아이브)\n",
      "15순위 | 노래 제목:HAPPY | 가수:DAY6 (데이식스)\n",
      "16순위 | 노래 제목:빨간 운동화 | 가수:아이유\n",
      "17순위 | 노래 제목:Flower | 가수:오반(OVAN)\n",
      "18순위 | 노래 제목:APT. | 가수:로제 (ROSÉ), Bruno Mars\n",
      "19순위 | 노래 제목:청춘만화 | 가수:이무진\n",
      "20순위 | 노래 제목:HOT | 가수:LE SSERAFIM (르세라핌)\n",
      "21순위 | 노래 제목:10월 4일 | 가수:아이유\n",
      "22순위 | 노래 제목:한 페이지가 될 수 있게 | 가수:DAY6 (데이식스)\n",
      "23순위 | 노래 제목:Last Scene (Feat. 원슈타인) | 가수:아이유\n",
      "24순위 | 노래 제목:HBD | 가수:세븐틴 (SEVENTEEN)\n",
      "25순위 | 노래 제목:MY LOVE(2025) | 가수:이예은, 아샤트리, 전건호\n",
      "26순위 | 노래 제목:그날이 오면 | 가수:투모로우바이투게더\n",
      "27순위 | 노래 제목:내게 사랑이 뭐냐고 물어본다면 | 가수:로이킴\n",
      "28순위 | 노래 제목:Fly Up | 가수:RIIZE\n",
      "29순위 | 노래 제목:Welcome to the Show | 가수:DAY6 (데이식스)\n",
      "30순위 | 노래 제목:소나기 | 가수:이클립스 (ECLIPSE)\n",
      "31순위 | 노래 제목:천상연 | 가수:이창섭\n",
      "32순위 | 노래 제목:Die With A Smile | 가수:Lady Gaga, Bruno Mars\n",
      "33순위 | 노래 제목:toxic till the end | 가수:로제 (ROSÉ)\n",
      "34순위 | 노래 제목:HANDS UP | 가수:MEOVV (미야오)\n",
      "35순위 | 노래 제목:Supernova | 가수:aespa\n",
      "36순위 | 노래 제목:예뻤어 | 가수:DAY6 (데이식스)\n",
      "37순위 | 노래 제목:Skyfall (THE 8 Solo) | 가수:세븐틴 (SEVENTEEN)\n",
      "38순위 | 노래 제목:ATTITUDE | 가수:IVE (아이브)\n",
      "39순위 | 노래 제목:I DO ME | 가수:KiiiKiii (키키)\n",
      "40순위 | 노래 제목:미치게 그리워서 | 가수:황가람\n",
      "41순위 | 노래 제목:미인 (Feat. Balming Tiger) | 가수:아이유\n",
      "42순위 | 노래 제목:어떻게 이별까지 사랑하겠어, 널 사랑하는 거지 | 가수:AKMU (악뮤)\n",
      "43순위 | 노래 제목:DRIP | 가수:BABYMONSTER\n",
      "44순위 | 노래 제목:Love wins all | 가수:아이유\n",
      "45순위 | 노래 제목:PO￦ER | 가수:G-DRAGON\n",
      "46순위 | 노래 제목:청혼하지 않을 이유를 못 찾았어 | 가수:이무진\n",
      "47순위 | 노래 제목:그대만 있다면 (여름날 우리 X 너드커넥션 (Nerd Connection)) | 가수:너드커넥션 (Nerd Connection)\n",
      "48순위 | 노래 제목:사랑은 늘 도망가 | 가수:임영웅\n",
      "49순위 | 노래 제목:Bad Influence (Prod. by Pharrell Williams) | 가수:세븐틴 (SEVENTEEN)\n",
      "50순위 | 노래 제목:내 이름 맑음 | 가수:QWER\n",
      "51순위 | 노래 제목:99.9% (WONWOO Solo) | 가수:세븐틴 (SEVENTEEN)\n",
      "52순위 | 노래 제목:슬픈 초대장 | 가수:순순희(지환)\n",
      "53순위 | 노래 제목:첫 만남은 계획대로 되지 않아 | 가수:TWS (투어스)\n",
      "54순위 | 노래 제목:Fortunate Change (JOSHUA Solo) | 가수:세븐틴 (SEVENTEEN)\n",
      "55순위 | 노래 제목:Raindrops (SEUNGKWAN Solo) | 가수:세븐틴 (SEVENTEEN)\n",
      "56순위 | 노래 제목:UP (KARINA Solo) | 가수:aespa\n",
      "57순위 | 노래 제목:고민중독 | 가수:QWER\n",
      "58순위 | 노래 제목:나는 아픈 건 딱 질색이니까 | 가수:i-dle (아이들)\n",
      "59순위 | 노래 제목:주저하는 연인들을 위해 | 가수:잔나비\n",
      "60순위 | 노래 제목:TAKE ME | 가수:G-DRAGON\n",
      "61순위 | 노래 제목:너의 모든 순간 | 가수:성시경\n",
      "62순위 | 노래 제목:운명 (WOOZI Solo) | 가수:세븐틴 (SEVENTEEN)\n",
      "63순위 | 노래 제목:Damage (HOSHI Solo) (feat. Timbaland) | 가수:세븐틴 (SEVENTEEN)\n",
      "64순위 | 노래 제목:Happy Virus (DK Solo) | 가수:세븐틴 (SEVENTEEN)\n",
      "65순위 | 노래 제목:Magnetic | 가수:아일릿(ILLIT)\n",
      "66순위 | 노래 제목:How Sweet | 가수:NewJeans\n",
      "67순위 | 노래 제목:사랑인가 봐 | 가수:멜로망스\n",
      "68순위 | 노래 제목:I Feel Good | 가수:BOYNEXTDOOR\n",
      "69순위 | 노래 제목:에피소드 | 가수:이무진\n",
      "70순위 | 노래 제목:비의 랩소디 | 가수:임재현\n",
      "71순위 | 노래 제목:Shake It Off (MINGYU Solo) | 가수:세븐틴 (SEVENTEEN)\n",
      "72순위 | 노래 제목:우연 (JEONGHAN Solo) | 가수:세븐틴 (SEVENTEEN)\n",
      "73순위 | 노래 제목:Bag Bad Back | 가수:RIIZE\n",
      "74순위 | 노래 제목:123-78 | 가수:BOYNEXTDOOR\n",
      "75순위 | 노래 제목:모든 날, 모든 순간 (Every day, Every Moment) | 가수:폴킴\n",
      "76순위 | 노래 제목:The Chase | 가수:Hearts2Hearts (하츠투하츠)\n",
      "77순위 | 노래 제목:시작의 아이 | 가수:마크툽 (MAKTUB)\n",
      "78순위 | 노래 제목:Supersonic | 가수:프로미스나인\n",
      "79순위 | 노래 제목:Jungle (S.COUPS Solo) | 가수:세븐틴 (SEVENTEEN)\n",
      "80순위 | 노래 제목:쌍둥이자리 (Gemini) (JUN Solo) | 가수:세븐틴 (SEVENTEEN)\n",
      "81순위 | 노래 제목:I AM | 가수:IVE (아이브)\n",
      "82순위 | 노래 제목:Shining Star (Vernon Solo) | 가수:세븐틴 (SEVENTEEN)\n",
      "83순위 | 노래 제목:Hype Boy | 가수:NewJeans\n",
      "84순위 | 노래 제목:다정히 내 이름을 부르면 | 가수:경서예지, 전건호\n",
      "85순위 | 노래 제목:Seven (feat. Latto) - Clean Ver. | 가수:정국\n",
      "86순위 | 노래 제목:헤어지자 말해요 | 가수:박재정\n",
      "87순위 | 노래 제목:Trigger (DINO Solo) | 가수:세븐틴 (SEVENTEEN)\n",
      "88순위 | 노래 제목:영원해 | 가수:도경수(D.O.)\n",
      "89순위 | 노래 제목:이렇게 좋아해 본 적이 없어요 | 가수:BOYNEXTDOOR\n",
      "90순위 | 노래 제목:우리들의 블루스 | 가수:임영웅\n",
      "91순위 | 노래 제목:봄날 | 가수:방탄소년단\n",
      "92순위 | 노래 제목:무제(無題) (Untitled, 2014) | 가수:G-DRAGON\n",
      "93순위 | 노래 제목:천국보다 아름다운 | 가수:임영웅\n",
      "94순위 | 노래 제목:인사 | 가수:범진\n",
      "95순위 | 노래 제목:굿데이 2025 (텔레파시 + 달빛 창가에서) | 가수:G-DRAGON, 황정민, 데프콘, 홍진경, 정형돈, 조세호, 기안84, 안성재, 태양, 정해인, 황광희, 임시완, 이수혁, 대성, 코드 쿤스트 (CODE KUNST), CL, 김고은, DAY6 (데이식스), 부석순 (SEVENTEEN), aespa\n",
      "96순위 | 노래 제목:Sticky | 가수:KISS OF LIFE\n",
      "97순위 | 노래 제목:Small girl (feat. 도경수(D.O.)) | 가수:이영지\n",
      "98순위 | 노래 제목:Dash | 가수:PLAVE\n",
      "99순위 | 노래 제목:사막에서 꽃을 피우듯 | 가수:우디 (Woody)\n",
      "100순위 | 노래 제목:다시 만날 수 있을까 | 가수:임영웅\n"
     ]
    }
   ],
   "source": [
    "import requests\n",
    "from bs4 import BeautifulSoup\n",
    "url='https://www.melon.com/chart/'\n",
    "# 멜론 순위, 노래제목, 가수 , 좋아요갯수 \n",
    "# 1위 | 너에게 닿기를 | 10CM | ♥ 85,756 \n",
    "title = soup.select('div.ellipsis.rank01 > span')\n",
    "title\n",
    "artist = soup.select('div.ellipsis.rank02 > span.checkEllipsis')\n",
    "artist\n",
    "len([t.text.strip()for t in title])\n",
    "len([art.text for art in artist])\n",
    "for idx,(t,art) in enumerate(zip(title,artist)):\n",
    "    print('{}순위 | 노래 제목:{} | 가수:{}'.format(idx+1,\n",
    "                                          t.text.strip(),\n",
    "                                          art.text))\n",
    "# [t.text for t in title]\n",
    "# artist = soup.select_one('div.ellipsis.rank02 > span.checkEllipsis').text\n",
    "# artist\n",
    "\n",
    "# print(title,artist)"
   ]
  },
  {
   "cell_type": "markdown",
   "id": "3c7f4fd4",
   "metadata": {},
   "source": [
    "### 5)네이버 지식인으로 검색(open API 사용X)\n",
    "- 특정 keyword를 특정페이지 수(3)만큼 검색한 결과를 데이터프레임으로 출력"
   ]
  },
  {
   "cell_type": "code",
   "execution_count": 6,
   "id": "547718a9",
   "metadata": {},
   "outputs": [
    {
     "name": "stdout",
     "output_type": "stream",
     "text": [
      "https://kin.naver.com/search/list.naver?query=챗지피티\n"
     ]
    }
   ],
   "source": [
    "# 방법1\n",
    "from requests import get\n",
    "from bs4 import BeautifulSoup\n",
    "keyword = '챗지피티' \n",
    "url = 'https://kin.naver.com/search/list.naver?query={}'.format(keyword)\n",
    "print(url)\n",
    "# response = get(url)\n",
    "# response.status_code #url 잘 들어왔는지 확인 필요\n",
    "\n",
    "soup =BeautifulSoup(response.text,\n",
    "                   'html.parser')\n",
    "# soup"
   ]
  },
  {
   "cell_type": "code",
   "execution_count": 11,
   "id": "8db79a67",
   "metadata": {},
   "outputs": [
    {
     "name": "stdout",
     "output_type": "stream",
     "text": [
      "https://kin.naver.com/search/list.naver?query=%25252525EC%25252525B1%2525252597%25252525EC%25252525A7%2525252580%25252525ED%2525252594%25252525BC%25252525ED%252525258B%25252525B0\n"
     ]
    }
   ],
   "source": [
    "# 방법2\n",
    "from urllib.request import urlopen\n",
    "from urllib.parse import quote\n",
    "# 챗지피티 -> %EC%B1%97%EC%A7%80%ED%94%BC%ED%8B%B0 #(url인코딩된 문자열)\n",
    "keyword = quote(keyword)  # url 인코딩된 문자열로 전환\n",
    "url = 'https://kin.naver.com/search/list.naver?query={}'.format(keyword)\n",
    "# response = urlopen(url) #에러발생\n",
    "print(url)\n",
    "response = urlopen(url)\n",
    "soup = BeautifulSoup(response, #response.reade()\n",
    "                    'html.parser')"
   ]
  },
  {
   "cell_type": "code",
   "execution_count": 32,
   "id": "13f94ded",
   "metadata": {},
   "outputs": [
    {
     "name": "stdout",
     "output_type": "stream",
     "text": [
      "30 개 데이터\n",
      "[['쳇지피티 논문 출처', 'https://kin.naver.com/qna/detail.naver?d1id=4&dirId=40608&docId=471249146&qb=7LOH7KeA7ZS87Yuw&enc=utf8'], ['쳇지피티 한도', 'https://kin.naver.com/qna/detail.naver?d1id=1&dirId=1060101&docId=484917198&qb=7LOH7KeA7ZS87Yuw&enc=utf8']]\n"
     ]
    },
    {
     "data": {
      "text/html": [
       "<div>\n",
       "<style scoped>\n",
       "    .dataframe tbody tr th:only-of-type {\n",
       "        vertical-align: middle;\n",
       "    }\n",
       "\n",
       "    .dataframe tbody tr th {\n",
       "        vertical-align: top;\n",
       "    }\n",
       "\n",
       "    .dataframe thead th {\n",
       "        text-align: right;\n",
       "    }\n",
       "</style>\n",
       "<table border=\"1\" class=\"dataframe\">\n",
       "  <thead>\n",
       "    <tr style=\"text-align: right;\">\n",
       "      <th></th>\n",
       "      <th>title</th>\n",
       "      <th>link</th>\n",
       "    </tr>\n",
       "  </thead>\n",
       "  <tbody>\n",
       "    <tr>\n",
       "      <th>0</th>\n",
       "      <td>쳇지피티 논문 출처</td>\n",
       "      <td>https://kin.naver.com/qna/detail.naver?d1id=4&amp;...</td>\n",
       "    </tr>\n",
       "    <tr>\n",
       "      <th>1</th>\n",
       "      <td>쳇지피티 한도</td>\n",
       "      <td>https://kin.naver.com/qna/detail.naver?d1id=1&amp;...</td>\n",
       "    </tr>\n",
       "    <tr>\n",
       "      <th>2</th>\n",
       "      <td>쳇지피티 사용 확인 AI</td>\n",
       "      <td>https://kin.naver.com/qna/detail.naver?d1id=5&amp;...</td>\n",
       "    </tr>\n",
       "    <tr>\n",
       "      <th>3</th>\n",
       "      <td>쳇지피티 이거 뭐예요?해킹 뭐그런거...</td>\n",
       "      <td>https://kin.naver.com/qna/detail.naver?d1id=1&amp;...</td>\n",
       "    </tr>\n",
       "    <tr>\n",
       "      <th>4</th>\n",
       "      <td>쳇지피티 ai 소라 질문이요</td>\n",
       "      <td>https://kin.naver.com/qna/detail.naver?d1id=1&amp;...</td>\n",
       "    </tr>\n",
       "  </tbody>\n",
       "</table>\n",
       "</div>"
      ],
      "text/plain": [
       "                     title                                               link\n",
       "0               쳇지피티 논문 출처  https://kin.naver.com/qna/detail.naver?d1id=4&...\n",
       "1                  쳇지피티 한도  https://kin.naver.com/qna/detail.naver?d1id=1&...\n",
       "2            쳇지피티 사용 확인 AI  https://kin.naver.com/qna/detail.naver?d1id=5&...\n",
       "3  쳇지피티 이거 뭐예요?해킹 뭐그런거...   https://kin.naver.com/qna/detail.naver?d1id=1&...\n",
       "4          쳇지피티 ai 소라 질문이요  https://kin.naver.com/qna/detail.naver?d1id=1&..."
      ]
     },
     "execution_count": 32,
     "metadata": {},
     "output_type": "execute_result"
    }
   ],
   "source": [
    "#페이징 포함(select)(keysord를 pages수 만큼 검색한 결과를 데이터프레임에)\n",
    "import requests\n",
    "from bs4 import BeautifulSoup\n",
    "import pandas as pd\n",
    "\n",
    "keyword = '쳇지피티'\n",
    "pages = 3\n",
    "items_list = [] #크롤링 한 데이터를 담을 list\n",
    "for page in range(1,pages+1):\n",
    "    url = f'https://kin.naver.com/search/list.naver?query={keyword}&page={page}'\n",
    "    # print(url)\n",
    "    # 해당 url의 soup객체 -> 글제목, link를 가져와서 items_list에 append\n",
    "    response = requests.get(url)\n",
    "    # print(response.status_code) 정상 접근 가능한지 여부 확인\n",
    "    soup = BeautifulSoup(response.text, 'html.parser')\n",
    "    items = soup.select('dt > a')\n",
    "    #print([item.text for item in items])\n",
    "    # print([item.attrs['href'] for item in items]) #link가져오기\n",
    "    for item in items:\n",
    "        items_list.append([item.text, item.attrs.get('href')])\n",
    "# print(len(items_list), '개 데이터')\n",
    "# print(items_list[:2])\n",
    "df = pd.DataFrame(items_list, columns=['title','link'])\n",
    "df.head()"
   ]
  },
  {
   "cell_type": "code",
   "execution_count": 35,
   "id": "9aebef02",
   "metadata": {},
   "outputs": [
    {
     "data": {
      "text/html": [
       "<div>\n",
       "<style scoped>\n",
       "    .dataframe tbody tr th:only-of-type {\n",
       "        vertical-align: middle;\n",
       "    }\n",
       "\n",
       "    .dataframe tbody tr th {\n",
       "        vertical-align: top;\n",
       "    }\n",
       "\n",
       "    .dataframe thead th {\n",
       "        text-align: right;\n",
       "    }\n",
       "</style>\n",
       "<table border=\"1\" class=\"dataframe\">\n",
       "  <thead>\n",
       "    <tr style=\"text-align: right;\">\n",
       "      <th></th>\n",
       "      <th>title</th>\n",
       "      <th>link</th>\n",
       "    </tr>\n",
       "  </thead>\n",
       "  <tbody>\n",
       "    <tr>\n",
       "      <th>0</th>\n",
       "      <td>쳇지피티 논문 출처</td>\n",
       "      <td>https://kin.naver.com/qna/detail.naver?d1id=4&amp;...</td>\n",
       "    </tr>\n",
       "    <tr>\n",
       "      <th>1</th>\n",
       "      <td>쳇지피티 한도</td>\n",
       "      <td>https://kin.naver.com/qna/detail.naver?d1id=1&amp;...</td>\n",
       "    </tr>\n",
       "    <tr>\n",
       "      <th>2</th>\n",
       "      <td>쳇지피티 사용 확인 AI</td>\n",
       "      <td>https://kin.naver.com/qna/detail.naver?d1id=5&amp;...</td>\n",
       "    </tr>\n",
       "    <tr>\n",
       "      <th>3</th>\n",
       "      <td>쳇지피티 이거 뭐예요?해킹 뭐그런거...</td>\n",
       "      <td>https://kin.naver.com/qna/detail.naver?d1id=1&amp;...</td>\n",
       "    </tr>\n",
       "    <tr>\n",
       "      <th>4</th>\n",
       "      <td>쳇지피티 ai 소라 질문이요</td>\n",
       "      <td>https://kin.naver.com/qna/detail.naver?d1id=1&amp;...</td>\n",
       "    </tr>\n",
       "  </tbody>\n",
       "</table>\n",
       "</div>"
      ],
      "text/plain": [
       "                     title                                               link\n",
       "0               쳇지피티 논문 출처  https://kin.naver.com/qna/detail.naver?d1id=4&...\n",
       "1                  쳇지피티 한도  https://kin.naver.com/qna/detail.naver?d1id=1&...\n",
       "2            쳇지피티 사용 확인 AI  https://kin.naver.com/qna/detail.naver?d1id=5&...\n",
       "3  쳇지피티 이거 뭐예요?해킹 뭐그런거...   https://kin.naver.com/qna/detail.naver?d1id=1&...\n",
       "4          쳇지피티 ai 소라 질문이요  https://kin.naver.com/qna/detail.naver?d1id=1&..."
      ]
     },
     "execution_count": 35,
     "metadata": {},
     "output_type": "execute_result"
    }
   ],
   "source": [
    "#페이징 포함 (find_all)(keysord를 pages수 만큼 검색한 결과를 데이터프레임에)\n",
    "import requests\n",
    "from bs4 import BeautifulSoup\n",
    "import pandas as pd\n",
    "\n",
    "keyword = '쳇지피티'\n",
    "pages = 3\n",
    "items_list = [] #크롤링 한 데이터를 담을 list\n",
    "for page in range(1,pages+1):\n",
    "    url = f'https://kin.naver.com/search/list.naver?query={keyword}&page={page}'\n",
    "    response = requests.get(url)\n",
    "    soup = BeautifulSoup(response.text, 'html.parser')\n",
    "    dts = soup.find_all('dt') #dt안에 a태그가 있음\n",
    "    for dt in dts:\n",
    "        item = dt.find('a') #dt안에 a태그 가져오기\n",
    "        items_list.append([item.text, item.attrs.get('href')])\n",
    "df = pd.DataFrame(items_list, columns=['title','link'])\n",
    "df.head()"
   ]
  },
  {
   "cell_type": "code",
   "execution_count": 39,
   "id": "971c5910",
   "metadata": {},
   "outputs": [],
   "source": [
    "#함수 만들기 (keysord를 pages수 만큼 검색한 결과를 데이터프레임에)\n",
    "def get_items_data(keyword,pages):\n",
    "    import requests\n",
    "    from bs4 import BeautifulSoup\n",
    "    import pandas as pd\n",
    "    items_list = [] #크롤링 한 데이터를 담을 list\n",
    "    for page in range(1,pages+1):\n",
    "        url = f'https://kin.naver.com/search/list.naver?query={keyword}&page={page}'\n",
    "        response = requests.get(url)\n",
    "        soup = BeautifulSoup(response.text, 'html.parser')\n",
    "        dts = soup.find_all('dt') #dt안에 a태그가 있음\n",
    "        for dt in dts:\n",
    "            item = dt.find('a') #dt안에 a태그 가져오기\n",
    "            items_list.append([item.text, item.attrs.get('href')])\n",
    "    return pd.DataFrame(items_list, columns=['title','link']).head(2)"
   ]
  },
  {
   "cell_type": "code",
   "execution_count": 42,
   "id": "82bda0d7",
   "metadata": {},
   "outputs": [
    {
     "data": {
      "text/html": [
       "<div>\n",
       "<style scoped>\n",
       "    .dataframe tbody tr th:only-of-type {\n",
       "        vertical-align: middle;\n",
       "    }\n",
       "\n",
       "    .dataframe tbody tr th {\n",
       "        vertical-align: top;\n",
       "    }\n",
       "\n",
       "    .dataframe thead th {\n",
       "        text-align: right;\n",
       "    }\n",
       "</style>\n",
       "<table border=\"1\" class=\"dataframe\">\n",
       "  <thead>\n",
       "    <tr style=\"text-align: right;\">\n",
       "      <th></th>\n",
       "      <th>title</th>\n",
       "      <th>link</th>\n",
       "    </tr>\n",
       "  </thead>\n",
       "  <tbody>\n",
       "    <tr>\n",
       "      <th>0</th>\n",
       "      <td>죽은 참새 시체를 발로 건드렸는데</td>\n",
       "      <td>https://kin.naver.com/qna/detail.naver?d1id=7&amp;...</td>\n",
       "    </tr>\n",
       "    <tr>\n",
       "      <th>1</th>\n",
       "      <td>맨손으로 참새 잡았을 때 조류인플루엔자...</td>\n",
       "      <td>https://kin.naver.com/qna/detail.naver?d1id=7&amp;...</td>\n",
       "    </tr>\n",
       "  </tbody>\n",
       "</table>\n",
       "</div>"
      ],
      "text/plain": [
       "                       title  \\\n",
       "0         죽은 참새 시체를 발로 건드렸는데   \n",
       "1  맨손으로 참새 잡았을 때 조류인플루엔자...    \n",
       "\n",
       "                                                link  \n",
       "0  https://kin.naver.com/qna/detail.naver?d1id=7&...  \n",
       "1  https://kin.naver.com/qna/detail.naver?d1id=7&...  "
      ]
     },
     "execution_count": 42,
     "metadata": {},
     "output_type": "execute_result"
    }
   ],
   "source": [
    "get_items_data('참새',2)"
   ]
  },
  {
   "cell_type": "markdown",
   "id": "66046065",
   "metadata": {},
   "source": [
    "### 6)네이버 지식인으로 검색 (open API 사용O)\n",
    "- 특정 keyword를 특정 데이터 수(30)만큼 검색한 결과를 데이터프레임으로 출력\n",
    "    - .env에 발급받은 key를 저장 -> load (pip install python-dotenv)"
   ]
  },
  {
   "cell_type": "code",
   "execution_count": 44,
   "id": "bb2ee330",
   "metadata": {},
   "outputs": [
    {
     "data": {
      "text/plain": [
       "True"
      ]
     },
     "execution_count": 44,
     "metadata": {},
     "output_type": "execute_result"
    }
   ],
   "source": [
    "# 환경변수 가져오기\n",
    "from dotenv import load_dotenv\n",
    "import os \n",
    "load_dotenv()#dotenv_path='.env' 기본값 이므로 생략\n",
    "# print(os.getenv('Client_ID'))\n",
    "# print(os.getenv('Client_Secret'))"
   ]
  },
  {
   "cell_type": "code",
   "execution_count": 52,
   "id": "3b2aa864",
   "metadata": {
    "collapsed": true
   },
   "outputs": [
    {
     "name": "stdout",
     "output_type": "stream",
     "text": [
      "<class 'str'>\n",
      "<class 'dict'>\n",
      "[{'title': '<b>복숭아</b>가 너무 먹고싶어요...', 'link': 'https://kin.naver.com/qna/detail.naver?d1id=7&dirId=70101&docId=484591750&qb=67O17Iit7JWE&enc=utf8', 'description': '<b>복숭아</b> 알러지가 있는 사람입니다 원래부터 <b>복숭아</b> 알러지가 있던 건 아닌데 고3때 갑자기 체질이 바뀌면서 <b>복숭아</b> 알러지가 생겼고 그때부터 <b>복숭아</b>가 들어간 건 아무것도 못 먹었어요 그래도 그냥저냥 잘 살아왔는데... '}, {'title': '사랑니 발치 후 <b>복숭아</b> 먹어도 되나요?', 'link': 'https://kin.naver.com/qna/detail.naver?d1id=7&dirId=70205&docId=474408092&qb=67O17Iit7JWE&enc=utf8', 'description': '... 말랑한 <b>복숭아</b>가 너무 먹고싶네요..ㅜㅜ 사랑니 발치 후 말랑한 <b>복숭아</b> 먹어도 될까요?? 그리고 죽을 먹으려고... 사랑니 발치 후 <b>복숭아</b>와 죽에 대해 질문 주셨군요. 지금 상태가 많이 불편하지는 않으신가요? ㅜㅠ 첫째, <b>복숭아</b>는... '}, {'title': '<b>복숭아</b> 알러지 새로살구', 'link': 'https://kin.naver.com/qna/detail.naver?d1id=7&dirId=70301&docId=480105278&qb=67O17Iit7JWE&enc=utf8', 'description': '살구가 <b>복숭아</b>인가요? <b>복숭아</b>향이라길래 <b>복숭아</b>알러지인데 새로살구 먹어도되나요? 안녕하세요. 대한한의사협회... 살구와 <b>복숭아</b>는 다른 과일입니다. 살구에 대한 알러지가 딱히 없다면 드셔도 무방할 것 같습니다. 조금 드셔 보셔서... '}, {'title': '이번 여름에는 신비<b>복숭아</b> 언제쯤 나올까요?', 'link': 'https://kin.naver.com/qna/detail.naver?d1id=8&dirId=8020603&docId=485486153&qb=67O17Iit7JWE&enc=utf8', 'description': '안녕하세요 저는 <b>복숭아</b>를 사랑하는 사람입니다. 신비<b>복숭아</b>는 여름에 2... 이번 여름에는 신비 <b>복숭아</b>가 언제쯤 나올까요? 얼른 사먹고 싶어서요. 마트나... 최근에도 하우스 신비 <b>복숭아</b> 출하는 있습니다. 다만 양이 많지 않아서... '}, {'title': '젤리데이 <b>복숭아</b>', 'link': 'https://kin.naver.com/qna/detail.naver?d1id=8&dirId=8020209&docId=481517155&qb=67O17Iit7JWE&enc=utf8', 'description': '젤리데이 <b>복숭아</b>맛 재출시 안하나요..? 옛날에 맛있게 먹었던거 같은데 요즘에 안보여요ㅜ 재출시 할수 있다면 해주실수 없나요ㅜ∧ㅜ 안녕하세요. 즐거움과 행복이 가득한 네이버 지식파트너 오리온입니다. 우선, 저희 제품에 관심... '}, {'title': '<b>복숭아</b>를 먹으면 귀가 간지러워요', 'link': 'https://kin.naver.com/qna/detail.naver?d1id=7&dirId=70306&docId=473875958&qb=67O17Iit7JWE&enc=utf8', 'description': '<b>복숭아</b>를 먹으면 귀가 간지러워요… 귀 바깥쪽이 아니라... <b>복숭아</b> 알레르기도 있을 수 있다고 해서요… 저도 꽃가루 알레르기 있거든요 ! <b>복숭아</b> 알레르기 맞겠죠..? 안녕하세요! 닥톡-네이버지식in 상담한의사 최용석 입니다. <b>복숭아</b>... '}, {'title': '다이어트 액티비아 <b>복숭아</b>', 'link': 'https://kin.naver.com/qna/detail.naver?d1id=8&dirId=8030401&docId=482398641&qb=67O17Iit7JWE&enc=utf8', 'description': '... 그래서 유산균 요거트 먹으려는데 액티비아 <b>복숭아</b> 먹어도 될까요 지방은 제로고 효과 보면서 나눠마시려고요... 액티비아 <b>복숭아</b> 요거트는 유산균이 포함되어 있어 장 건강에 도움이 될 수 있습니다. 변비 해소에도 긍정적인 영향을... '}, {'title': '<b>복숭아</b> 뼈 골절인데 깁스를 안해도 된다는데 진짜인가요?', 'link': 'https://kin.naver.com/qna/detail.naver?d1id=7&dirId=70120&docId=485453759&qb=67O17Iit7JWE&enc=utf8', 'description': '... 넘어져서 <b>복숭아</b>뼈 골절과 심각한 인대 파열 진단을 받았습니다. 인대가 많이 찢어졌대요. 근데 병원에서 <b>복숭아</b>뼈... 근데 <b>복숭아</b> 뼈 쪽이 움직이면 계속 아파요. 이거 괜찮은 건가요?... 안녕하세요. 대한의사협회·네이버 지식iN... '}, {'title': '발목이 삐어서 <b>복숭아</b> 뼈가 부었는데', 'link': 'https://kin.naver.com/qna/detail.naver?d1id=7&dirId=70107&docId=485249616&qb=67O17Iit7JWE&enc=utf8', 'description': '넘어져서 발목이 삐었는데 3일 정도 됐구요 바깥 쪽 <b>복숭아</b> 뼈랑 그 주변이 부었는데 처음에는 계속 아프다가 지금은 가끔가다 찌릿 찌릿하고 오히려 발목 앞쪽이 아프거나 반대쪽 발목이 더 아프고 부은 쪽은 거의 통증이 없는데 병원을... '}, {'title': '콜레스테롤 <b>복숭아</b> 관련 있나요?', 'link': 'https://kin.naver.com/qna/detail.naver?d1id=7&dirId=70403&docId=471310319&qb=67O17Iit7JWE&enc=utf8', 'description': '콜레스테롤 수치 높을 때 <b>복숭아</b> 먹으면 어떻게 되나요? 안녕하세요. <b>복숭아</b>는 콜레스테롤 수치를 낮추는 데 도움이 될... <b>복숭아</b>에는 식이섬유가 풍부하게 함유되어 있어 콜레스테롤을 조절하고, 장 건강을 개선하는 데 도움을 줄 수... '}]\n"
     ]
    }
   ],
   "source": [
    "# 네이버 검색 API 예제 - 지식in 검색(방법2)\n",
    "import os\n",
    "import sys\n",
    "import urllib.request\n",
    "client_id = os.getenv('Client_ID')\n",
    "client_secret = os.getenv('Client_Secret')\n",
    "encText = urllib.parse.quote(\"복숭아\")\n",
    "url = \"https://openapi.naver.com/v1/search/kin.json?query=\" + encText # JSON 결과\n",
    "# url = \"https://openapi.naver.com/v1/search/blog.xml?query=\" + encText # XML 결과\n",
    "\n",
    "headers = {'X-Naver-Client-Id' : client_id,\n",
    "           'X-Naver-Client-Secret' : client_secret}\n",
    "request = urllib.request.Request(url, headers=headers)\n",
    "\n",
    "# request = urllib.request.Request(url)\n",
    "# request.add_header(\"X-Naver-Client-Id\",client_id)\n",
    "# request.add_header(\"X-Naver-Client-Secret\",client_secret)\n",
    "\n",
    "response = urllib.request.urlopen(request)\n",
    "rescode = response.getcode()\n",
    "if(rescode==200):\n",
    "    response_body = response.read()\n",
    "    print(type(response_body.decode('utf-8'))) #문자 str \n",
    "    import json\n",
    "    data = json.loads(response_body.decode('utf-8')) #json형태의 str을 딕셔너리 데이터로 변환\n",
    "    print(type(data))\n",
    "#     print(response_body.decode('utf-8')) #여기중에 items만 필요한걸 확인\n",
    "    print(data['items'])\n",
    "else:\n",
    "    print(\"Error Code:\" + rescode)\n"
   ]
  },
  {
   "cell_type": "code",
   "execution_count": 83,
   "id": "2efbeca6",
   "metadata": {
    "collapsed": true
   },
   "outputs": [
    {
     "data": {
      "text/html": [
       "<div>\n",
       "<style scoped>\n",
       "    .dataframe tbody tr th:only-of-type {\n",
       "        vertical-align: middle;\n",
       "    }\n",
       "\n",
       "    .dataframe tbody tr th {\n",
       "        vertical-align: top;\n",
       "    }\n",
       "\n",
       "    .dataframe thead th {\n",
       "        text-align: right;\n",
       "    }\n",
       "</style>\n",
       "<table border=\"1\" class=\"dataframe\">\n",
       "  <thead>\n",
       "    <tr style=\"text-align: right;\">\n",
       "      <th></th>\n",
       "      <th>title</th>\n",
       "      <th>link</th>\n",
       "      <th>description</th>\n",
       "    </tr>\n",
       "  </thead>\n",
       "  <tbody>\n",
       "    <tr>\n",
       "      <th>0</th>\n",
       "      <td>쳇지피티 논문 출처</td>\n",
       "      <td>https://kin.naver.com/qna/detail.naver?d1id=4&amp;...</td>\n",
       "      <td>쳇지피티한테 어떤 내용에 관한 논문을 요구하고, 해당... 지피티가 스스로 여러 논...</td>\n",
       "    </tr>\n",
       "    <tr>\n",
       "      <th>1</th>\n",
       "      <td>쳇지피티 한도</td>\n",
       "      <td>https://kin.naver.com/qna/detail.naver?d1id=1&amp;...</td>\n",
       "      <td>쳇지피티 무료로 쓰고 있는데 쳇지피티로 소설 하나 쓰고 있거든요 근데 한도가 초과됐...</td>\n",
       "    </tr>\n",
       "    <tr>\n",
       "      <th>2</th>\n",
       "      <td>쳇지피티 사용 확인 AI</td>\n",
       "      <td>https://kin.naver.com/qna/detail.naver?d1id=5&amp;...</td>\n",
       "      <td>쳇지피티 사용 여부 확인하는 무료 AI 뭐가 있나요?? 좀 정확하고 확실한거로 알려...</td>\n",
       "    </tr>\n",
       "    <tr>\n",
       "      <th>3</th>\n",
       "      <td>쳇지피티 이거 뭐예요?해킹 뭐그런거 당하는거 아니죠?</td>\n",
       "      <td>https://kin.naver.com/qna/detail.naver?d1id=1&amp;...</td>\n",
       "      <td>아니 제가 크롬을 쓰는데 자꾸 쳇지피티가 한글번역도 이상하게 되고 말도 끊기는 거예...</td>\n",
       "    </tr>\n",
       "    <tr>\n",
       "      <th>4</th>\n",
       "      <td>쳇지피티 ai 소라 질문이요</td>\n",
       "      <td>https://kin.naver.com/qna/detail.naver?d1id=1&amp;...</td>\n",
       "      <td>쳇지피티 플러스 이용중이구요 어제까지만 해도 왼쪽 메뉴에 '소라' 가 있어서요 해서...</td>\n",
       "    </tr>\n",
       "    <tr>\n",
       "      <th>5</th>\n",
       "      <td>쳇지피티 초기화</td>\n",
       "      <td>https://kin.naver.com/qna/detail.naver?d1id=1&amp;...</td>\n",
       "      <td>쳇지피티 대화 목록이 사라진건 아니고 맥락에 안 맞게 말하길래 한도 초과... 챗 ...</td>\n",
       "    </tr>\n",
       "    <tr>\n",
       "      <th>6</th>\n",
       "      <td>학교 생기부 쳇지피티</td>\n",
       "      <td>https://kin.naver.com/qna/detail.naver?d1id=4&amp;...</td>\n",
       "      <td>학교에서 생기부를 작성할 때 쳇지피티를 그대로 배낀 보고서를 내면 대학에서 잡는다는...</td>\n",
       "    </tr>\n",
       "    <tr>\n",
       "      <th>7</th>\n",
       "      <td>제가 직접 쓴 자소서 쳇지피티</td>\n",
       "      <td>https://kin.naver.com/qna/detail.naver?d1id=4&amp;...</td>\n",
       "      <td>제가 직접 제 이야기로 자소서를 쓰고 쳇지피티한테 보내고 지피티가 수정해준 내용 참...</td>\n",
       "    </tr>\n",
       "    <tr>\n",
       "      <th>8</th>\n",
       "      <td>쳇지피티 질문입니다.</td>\n",
       "      <td>https://kin.naver.com/qna/detail.naver?d1id=1&amp;...</td>\n",
       "      <td>요즘 쳇지피티가 유행이길래 한번 깔아봤는데 인사조차 못알아먹는데 어떻게 하나요..?...</td>\n",
       "    </tr>\n",
       "    <tr>\n",
       "      <th>9</th>\n",
       "      <td>쳇지피티 채팅 문제</td>\n",
       "      <td>https://kin.naver.com/qna/detail.naver?d1id=1&amp;...</td>\n",
       "      <td>쳇지피티3.0 무료버전을 종종 사용합니다 제가 질문을 &amp;quot;이번에 전시회를 할...</td>\n",
       "    </tr>\n",
       "    <tr>\n",
       "      <th>10</th>\n",
       "      <td>쳇지피티 뤼튼</td>\n",
       "      <td>https://kin.naver.com/qna/detail.naver?d1id=8&amp;...</td>\n",
       "      <td>뤼튼이 쳇지피티 인가요? 아니면 유사 ai인가요? 뤼튼은 챗GPT와 유사한 AI 기...</td>\n",
       "    </tr>\n",
       "    <tr>\n",
       "      <th>11</th>\n",
       "      <td>쳇지피티 화면 이상</td>\n",
       "      <td>https://kin.naver.com/qna/detail.naver?d1id=1&amp;...</td>\n",
       "      <td>어느 날 부터 쳇지피티 화면이 아래와 같이 이상하게 보입니다.ㅠㅠ 해결 방법이 있을...</td>\n",
       "    </tr>\n",
       "    <tr>\n",
       "      <th>12</th>\n",
       "      <td>쳇지피티 캐릭터제작입니다</td>\n",
       "      <td>https://kin.naver.com/qna/detail.naver?d1id=2&amp;...</td>\n",
       "      <td>쳇 지피티에서 캐릭터를 제작하면 또 다른사람에게 똑같은 컨셉으로 해주나요? 요청에따...</td>\n",
       "    </tr>\n",
       "    <tr>\n",
       "      <th>13</th>\n",
       "      <td>솔직히 과제 쳇지피티 모르죠?</td>\n",
       "      <td>https://kin.naver.com/qna/detail.naver?d1id=11...</td>\n",
       "      <td>쌤들이 자꾸 쳇지피티 쓰면 다잡아서 점수 낮게준다던데 그걸 어떻게 구별해요? 그냥 ...</td>\n",
       "    </tr>\n",
       "    <tr>\n",
       "      <th>14</th>\n",
       "      <td>쳇지피티 메모리 부정적</td>\n",
       "      <td>https://kin.naver.com/qna/detail.naver?d1id=8&amp;...</td>\n",
       "      <td>쳇지피티한테 퍼스널 컬러 분석 겸 얼굴 사진 보냈는데 칭찬해주더니만.... 메모리 ...</td>\n",
       "    </tr>\n",
       "    <tr>\n",
       "      <th>15</th>\n",
       "      <td>쳇지피티 댓글</td>\n",
       "      <td>https://kin.naver.com/qna/detail.naver?d1id=8&amp;...</td>\n",
       "      <td>이거 이런 식으로 댓글 달리는거 쳇지피티에서 찾은건가요? 저런거 딱봐도 질문 복붙해...</td>\n",
       "    </tr>\n",
       "    <tr>\n",
       "      <th>16</th>\n",
       "      <td>쳇지피티 말 바꿈</td>\n",
       "      <td>https://kin.naver.com/qna/detail.naver?d1id=1&amp;...</td>\n",
       "      <td>너무 답답하고 저 같은 현상 겪으신 분들이 안 보여 지식인 써보아요 지피티에 어떤 ...</td>\n",
       "    </tr>\n",
       "    <tr>\n",
       "      <th>17</th>\n",
       "      <td>쳇지피티 사주</td>\n",
       "      <td>https://kin.naver.com/qna/detail.naver?d1id=3&amp;...</td>\n",
       "      <td>정확한건가요? 이게 뭔 말인지 몇월몇시 몇년 몇일인지좀 알려주세요 이게 존재하지 않...</td>\n",
       "    </tr>\n",
       "    <tr>\n",
       "      <th>18</th>\n",
       "      <td>쳇지피티 용량 문제?</td>\n",
       "      <td>https://kin.naver.com/qna/detail.naver?d1id=1&amp;...</td>\n",
       "      <td>채팅에 첨부 파일이 있으므로 계속하려면 gpt-4 뭐시기 필요하다면서 5시간 후 한...</td>\n",
       "    </tr>\n",
       "    <tr>\n",
       "      <th>19</th>\n",
       "      <td>쳇지피티 계정 삭제하면 구독 끝나요?</td>\n",
       "      <td>https://kin.naver.com/qna/detail.naver?d1id=4&amp;...</td>\n",
       "      <td>안녕하세요 제가 아는 분 쳇지피티를 대신 결제 해줘서 그 분 계정에 제 체크카드를 ...</td>\n",
       "    </tr>\n",
       "    <tr>\n",
       "      <th>20</th>\n",
       "      <td>대학 과제 쳇지피티 저작권</td>\n",
       "      <td>https://kin.naver.com/qna/detail.naver?d1id=6&amp;...</td>\n",
       "      <td>대학 과제 인터넷 같은거 좀 많이 보고 쓰면 무슨 위반법?? 저작권에 걸린다 하잖아...</td>\n",
       "    </tr>\n",
       "    <tr>\n",
       "      <th>21</th>\n",
       "      <td>쳇지피티 이거 왜이래요</td>\n",
       "      <td>https://kin.naver.com/qna/detail.naver?d1id=8&amp;...</td>\n",
       "      <td>고치는 방법좀 알려주세요 다시하기누르시고요.안돼면 다른채팅치셨다가 다시 원래하려던걸...</td>\n",
       "    </tr>\n",
       "    <tr>\n",
       "      <th>22</th>\n",
       "      <td>쳇지피티 무슨앱</td>\n",
       "      <td>https://kin.naver.com/qna/detail.naver?d1id=1&amp;...</td>\n",
       "      <td>쳇지피티로 다들 숙제하던데 무슴앱 깔아야되나요 무료로요 자세이 알려주새요 ㅜ 숙제를...</td>\n",
       "    </tr>\n",
       "    <tr>\n",
       "      <th>23</th>\n",
       "      <td>쳇지피티 무료 한계</td>\n",
       "      <td>https://kin.naver.com/qna/detail.naver?d1id=1&amp;...</td>\n",
       "      <td>쓰다보니까 한계에 도달했다면서 플러스로 업그레이드 하라는데.. X 누르니까 사라지긴...</td>\n",
       "    </tr>\n",
       "    <tr>\n",
       "      <th>24</th>\n",
       "      <td>유튜브 채널 이름 추천 (쳇지피티 제외)</td>\n",
       "      <td>https://kin.naver.com/qna/detail.naver?d1id=1&amp;...</td>\n",
       "      <td>유튜브 채널을 가입하려고 하는데 이름은 김은율이고 쳇지피티에 도움을 요청했는데 너무...</td>\n",
       "    </tr>\n",
       "    <tr>\n",
       "      <th>25</th>\n",
       "      <td>쳇지피티 수식답변 오류</td>\n",
       "      <td>https://kin.naver.com/qna/detail.naver?d1id=1&amp;...</td>\n",
       "      <td>쳇지피티 4o사용 중인데 원래는 수식 관련 질문하면 코드로 만들로 자동으로 변환해서...</td>\n",
       "    </tr>\n",
       "    <tr>\n",
       "      <th>26</th>\n",
       "      <td>쳇지피티 업로드 한도</td>\n",
       "      <td>https://kin.naver.com/qna/detail.naver?d1id=3&amp;...</td>\n",
       "      <td>쳇지피티를 사용하고 있는데 사진을 올리려고 하는데 업로드한도를 다썼다고 하는데 어쩌...</td>\n",
       "    </tr>\n",
       "    <tr>\n",
       "      <th>27</th>\n",
       "      <td>쳇지피티 영수증</td>\n",
       "      <td>https://kin.naver.com/qna/detail.naver?d1id=4&amp;...</td>\n",
       "      <td>법카로 쳇지피티 결제햇는데 결제영수증 어디서 출력할 수 있나요 아무리 찾아도 안나오...</td>\n",
       "    </tr>\n",
       "    <tr>\n",
       "      <th>28</th>\n",
       "      <td>쳇지피티 사용량 상한</td>\n",
       "      <td>https://kin.naver.com/qna/detail.naver?d1id=6&amp;...</td>\n",
       "      <td>쳇 지피티를 4버전을 결제하여 사용하는데 계속 몇번 질문하면 사용량 상한에 도달했다...</td>\n",
       "    </tr>\n",
       "    <tr>\n",
       "      <th>29</th>\n",
       "      <td>스마트폰에서 쳇지피티 한국어로 사용하기 좋은 앱...</td>\n",
       "      <td>https://kin.naver.com/qna/detail.naver?d1id=1&amp;...</td>\n",
       "      <td>한국어로 사용하기 좋은 쳇지피티 앱을 소개해주세요 한국어로 사용하기 좋은 쳇지피티 ...</td>\n",
       "    </tr>\n",
       "  </tbody>\n",
       "</table>\n",
       "</div>"
      ],
      "text/plain": [
       "                             title  \\\n",
       "0                       쳇지피티 논문 출처   \n",
       "1                          쳇지피티 한도   \n",
       "2                    쳇지피티 사용 확인 AI   \n",
       "3    쳇지피티 이거 뭐예요?해킹 뭐그런거 당하는거 아니죠?   \n",
       "4                  쳇지피티 ai 소라 질문이요   \n",
       "5                         쳇지피티 초기화   \n",
       "6                      학교 생기부 쳇지피티   \n",
       "7                 제가 직접 쓴 자소서 쳇지피티   \n",
       "8                      쳇지피티 질문입니다.   \n",
       "9                       쳇지피티 채팅 문제   \n",
       "10                         쳇지피티 뤼튼   \n",
       "11                      쳇지피티 화면 이상   \n",
       "12                   쳇지피티 캐릭터제작입니다   \n",
       "13                솔직히 과제 쳇지피티 모르죠?   \n",
       "14                    쳇지피티 메모리 부정적   \n",
       "15                         쳇지피티 댓글   \n",
       "16                       쳇지피티 말 바꿈   \n",
       "17                         쳇지피티 사주   \n",
       "18                     쳇지피티 용량 문제?   \n",
       "19            쳇지피티 계정 삭제하면 구독 끝나요?   \n",
       "20                  대학 과제 쳇지피티 저작권   \n",
       "21                    쳇지피티 이거 왜이래요   \n",
       "22                        쳇지피티 무슨앱   \n",
       "23                      쳇지피티 무료 한계   \n",
       "24          유튜브 채널 이름 추천 (쳇지피티 제외)   \n",
       "25                    쳇지피티 수식답변 오류   \n",
       "26                     쳇지피티 업로드 한도   \n",
       "27                        쳇지피티 영수증   \n",
       "28                     쳇지피티 사용량 상한   \n",
       "29  스마트폰에서 쳇지피티 한국어로 사용하기 좋은 앱...    \n",
       "\n",
       "                                                 link  \\\n",
       "0   https://kin.naver.com/qna/detail.naver?d1id=4&...   \n",
       "1   https://kin.naver.com/qna/detail.naver?d1id=1&...   \n",
       "2   https://kin.naver.com/qna/detail.naver?d1id=5&...   \n",
       "3   https://kin.naver.com/qna/detail.naver?d1id=1&...   \n",
       "4   https://kin.naver.com/qna/detail.naver?d1id=1&...   \n",
       "5   https://kin.naver.com/qna/detail.naver?d1id=1&...   \n",
       "6   https://kin.naver.com/qna/detail.naver?d1id=4&...   \n",
       "7   https://kin.naver.com/qna/detail.naver?d1id=4&...   \n",
       "8   https://kin.naver.com/qna/detail.naver?d1id=1&...   \n",
       "9   https://kin.naver.com/qna/detail.naver?d1id=1&...   \n",
       "10  https://kin.naver.com/qna/detail.naver?d1id=8&...   \n",
       "11  https://kin.naver.com/qna/detail.naver?d1id=1&...   \n",
       "12  https://kin.naver.com/qna/detail.naver?d1id=2&...   \n",
       "13  https://kin.naver.com/qna/detail.naver?d1id=11...   \n",
       "14  https://kin.naver.com/qna/detail.naver?d1id=8&...   \n",
       "15  https://kin.naver.com/qna/detail.naver?d1id=8&...   \n",
       "16  https://kin.naver.com/qna/detail.naver?d1id=1&...   \n",
       "17  https://kin.naver.com/qna/detail.naver?d1id=3&...   \n",
       "18  https://kin.naver.com/qna/detail.naver?d1id=1&...   \n",
       "19  https://kin.naver.com/qna/detail.naver?d1id=4&...   \n",
       "20  https://kin.naver.com/qna/detail.naver?d1id=6&...   \n",
       "21  https://kin.naver.com/qna/detail.naver?d1id=8&...   \n",
       "22  https://kin.naver.com/qna/detail.naver?d1id=1&...   \n",
       "23  https://kin.naver.com/qna/detail.naver?d1id=1&...   \n",
       "24  https://kin.naver.com/qna/detail.naver?d1id=1&...   \n",
       "25  https://kin.naver.com/qna/detail.naver?d1id=1&...   \n",
       "26  https://kin.naver.com/qna/detail.naver?d1id=3&...   \n",
       "27  https://kin.naver.com/qna/detail.naver?d1id=4&...   \n",
       "28  https://kin.naver.com/qna/detail.naver?d1id=6&...   \n",
       "29  https://kin.naver.com/qna/detail.naver?d1id=1&...   \n",
       "\n",
       "                                          description  \n",
       "0   쳇지피티한테 어떤 내용에 관한 논문을 요구하고, 해당... 지피티가 스스로 여러 논...  \n",
       "1   쳇지피티 무료로 쓰고 있는데 쳇지피티로 소설 하나 쓰고 있거든요 근데 한도가 초과됐...  \n",
       "2   쳇지피티 사용 여부 확인하는 무료 AI 뭐가 있나요?? 좀 정확하고 확실한거로 알려...  \n",
       "3   아니 제가 크롬을 쓰는데 자꾸 쳇지피티가 한글번역도 이상하게 되고 말도 끊기는 거예...  \n",
       "4   쳇지피티 플러스 이용중이구요 어제까지만 해도 왼쪽 메뉴에 '소라' 가 있어서요 해서...  \n",
       "5   쳇지피티 대화 목록이 사라진건 아니고 맥락에 안 맞게 말하길래 한도 초과... 챗 ...  \n",
       "6   학교에서 생기부를 작성할 때 쳇지피티를 그대로 배낀 보고서를 내면 대학에서 잡는다는...  \n",
       "7   제가 직접 제 이야기로 자소서를 쓰고 쳇지피티한테 보내고 지피티가 수정해준 내용 참...  \n",
       "8   요즘 쳇지피티가 유행이길래 한번 깔아봤는데 인사조차 못알아먹는데 어떻게 하나요..?...  \n",
       "9   쳇지피티3.0 무료버전을 종종 사용합니다 제가 질문을 &quot;이번에 전시회를 할...  \n",
       "10  뤼튼이 쳇지피티 인가요? 아니면 유사 ai인가요? 뤼튼은 챗GPT와 유사한 AI 기...  \n",
       "11  어느 날 부터 쳇지피티 화면이 아래와 같이 이상하게 보입니다.ㅠㅠ 해결 방법이 있을...  \n",
       "12  쳇 지피티에서 캐릭터를 제작하면 또 다른사람에게 똑같은 컨셉으로 해주나요? 요청에따...  \n",
       "13  쌤들이 자꾸 쳇지피티 쓰면 다잡아서 점수 낮게준다던데 그걸 어떻게 구별해요? 그냥 ...  \n",
       "14  쳇지피티한테 퍼스널 컬러 분석 겸 얼굴 사진 보냈는데 칭찬해주더니만.... 메모리 ...  \n",
       "15  이거 이런 식으로 댓글 달리는거 쳇지피티에서 찾은건가요? 저런거 딱봐도 질문 복붙해...  \n",
       "16  너무 답답하고 저 같은 현상 겪으신 분들이 안 보여 지식인 써보아요 지피티에 어떤 ...  \n",
       "17  정확한건가요? 이게 뭔 말인지 몇월몇시 몇년 몇일인지좀 알려주세요 이게 존재하지 않...  \n",
       "18  채팅에 첨부 파일이 있으므로 계속하려면 gpt-4 뭐시기 필요하다면서 5시간 후 한...  \n",
       "19  안녕하세요 제가 아는 분 쳇지피티를 대신 결제 해줘서 그 분 계정에 제 체크카드를 ...  \n",
       "20  대학 과제 인터넷 같은거 좀 많이 보고 쓰면 무슨 위반법?? 저작권에 걸린다 하잖아...  \n",
       "21  고치는 방법좀 알려주세요 다시하기누르시고요.안돼면 다른채팅치셨다가 다시 원래하려던걸...  \n",
       "22  쳇지피티로 다들 숙제하던데 무슴앱 깔아야되나요 무료로요 자세이 알려주새요 ㅜ 숙제를...  \n",
       "23  쓰다보니까 한계에 도달했다면서 플러스로 업그레이드 하라는데.. X 누르니까 사라지긴...  \n",
       "24  유튜브 채널을 가입하려고 하는데 이름은 김은율이고 쳇지피티에 도움을 요청했는데 너무...  \n",
       "25  쳇지피티 4o사용 중인데 원래는 수식 관련 질문하면 코드로 만들로 자동으로 변환해서...  \n",
       "26  쳇지피티를 사용하고 있는데 사진을 올리려고 하는데 업로드한도를 다썼다고 하는데 어쩌...  \n",
       "27  법카로 쳇지피티 결제햇는데 결제영수증 어디서 출력할 수 있나요 아무리 찾아도 안나오...  \n",
       "28  쳇 지피티를 4버전을 결제하여 사용하는데 계속 몇번 질문하면 사용량 상한에 도달했다...  \n",
       "29  한국어로 사용하기 좋은 쳇지피티 앱을 소개해주세요 한국어로 사용하기 좋은 쳇지피티 ...  "
      ]
     },
     "execution_count": 83,
     "metadata": {},
     "output_type": "execute_result"
    }
   ],
   "source": [
    "# keyword를 display수만큼 지식in 검색결과를 데이터프레임에 넣기\n",
    "import requests\n",
    "import pandas as pd\n",
    "import json\n",
    "from dotenv import load_dotenv\n",
    "import os\n",
    "load_dotenv()\n",
    "client_id = os.getenv('Client_ID')\n",
    "client_secret = os.getenv('Client_Secret')\n",
    "keyword = '쳇지피티'\n",
    "cnt = 30\n",
    "url = f'https://openapi.naver.com/v1/search/kin.json?query={keyword}&display={cnt}'\n",
    "headers = {'X-Naver-Client-Id' : client_id,\n",
    "           'X-Naver-Client-Secret' : client_secret}\n",
    "response = requests.get(url,headers=headers)\n",
    "# response.status_code\n",
    "# items = json.loads(response.text['items']) #:방법1과 방법2\n",
    "items = response.json()['items'] #방법1에서만 가능한 함수\n",
    "items_list = [] # items를 담을것\n",
    "# print(items[0])\n",
    "for item in items:\n",
    "    items_list.append([item.get('title').replace('<b>','').replace('</b>',''), #item['title']로 써도 됨\n",
    "                       item.get('link'),\n",
    "                       item.get('description').replace('<b>','').replace('</b>','')\n",
    "                      ])\n",
    "# items_list[:2]\n",
    "df = pd.DataFrame(items_list, columns=['title','link','description'])\n",
    "df"
   ]
  },
  {
   "cell_type": "code",
   "execution_count": 84,
   "id": "ecb37506",
   "metadata": {},
   "outputs": [],
   "source": [
    "# 함수 작성\n",
    "def get_naver_kin(keyword,cnt):\n",
    "    import requests\n",
    "    import pandas as pd\n",
    "    import json\n",
    "    from dotenv import load_dotenv\n",
    "    import os\n",
    "    load_dotenv()\n",
    "    client_id = os.getenv('Client_ID')\n",
    "    client_secret = os.getenv('Client_Secret')\n",
    "    url = f'https://openapi.naver.com/v1/search/kin.json?query={keyword}&display={cnt}'\n",
    "    headers = {'X-Naver-Client-Id' : client_id,\n",
    "               'X-Naver-Client-Secret' : client_secret}\n",
    "    response = requests.get(url,headers=headers)\n",
    "    # response.status_code\n",
    "    # items = json.loads(response.text['items']) #:방법1과 방법2\n",
    "    items = response.json()['items'] #방법1에서만 가능한 함수\n",
    "    items_list = []8\n",
    "    # items\n",
    "    for item in items:\n",
    "        items_list.append([item.get('title').replace('<b>','').replace('</b>',''), #item['title']로 써도 됨\n",
    "                           item.get('link'),\n",
    "                           item.get('description')\n",
    "                          ])\n",
    "    # items_list[:2]\n",
    "    return pd.DataFrame(items_list, columns=['title','link','description'])"
   ]
  },
  {
   "cell_type": "code",
   "execution_count": 85,
   "id": "33b5db8c",
   "metadata": {},
   "outputs": [
    {
     "data": {
      "text/html": [
       "<div>\n",
       "<style scoped>\n",
       "    .dataframe tbody tr th:only-of-type {\n",
       "        vertical-align: middle;\n",
       "    }\n",
       "\n",
       "    .dataframe tbody tr th {\n",
       "        vertical-align: top;\n",
       "    }\n",
       "\n",
       "    .dataframe thead th {\n",
       "        text-align: right;\n",
       "    }\n",
       "</style>\n",
       "<table border=\"1\" class=\"dataframe\">\n",
       "  <thead>\n",
       "    <tr style=\"text-align: right;\">\n",
       "      <th></th>\n",
       "      <th>title</th>\n",
       "      <th>link</th>\n",
       "      <th>description</th>\n",
       "    </tr>\n",
       "  </thead>\n",
       "  <tbody>\n",
       "    <tr>\n",
       "      <th>0</th>\n",
       "      <td>복숭아가 너무 먹고싶어요...</td>\n",
       "      <td>https://kin.naver.com/qna/detail.naver?d1id=7&amp;...</td>\n",
       "      <td>&lt;b&gt;복숭아&lt;/b&gt; 알러지가 있는 사람입니다 원래부터 &lt;b&gt;복숭아&lt;/b&gt; 알러지가 ...</td>\n",
       "    </tr>\n",
       "    <tr>\n",
       "      <th>1</th>\n",
       "      <td>사랑니 발치 후 복숭아 먹어도 되나요?</td>\n",
       "      <td>https://kin.naver.com/qna/detail.naver?d1id=7&amp;...</td>\n",
       "      <td>... 말랑한 &lt;b&gt;복숭아&lt;/b&gt;가 너무 먹고싶네요..ㅜㅜ 사랑니 발치 후 말랑한 ...</td>\n",
       "    </tr>\n",
       "    <tr>\n",
       "      <th>2</th>\n",
       "      <td>복숭아 알러지 새로살구</td>\n",
       "      <td>https://kin.naver.com/qna/detail.naver?d1id=7&amp;...</td>\n",
       "      <td>살구가 &lt;b&gt;복숭아&lt;/b&gt;인가요? &lt;b&gt;복숭아&lt;/b&gt;향이라길래 &lt;b&gt;복숭아&lt;/b&gt;알...</td>\n",
       "    </tr>\n",
       "  </tbody>\n",
       "</table>\n",
       "</div>"
      ],
      "text/plain": [
       "                   title                                               link  \\\n",
       "0       복숭아가 너무 먹고싶어요...  https://kin.naver.com/qna/detail.naver?d1id=7&...   \n",
       "1  사랑니 발치 후 복숭아 먹어도 되나요?  https://kin.naver.com/qna/detail.naver?d1id=7&...   \n",
       "2           복숭아 알러지 새로살구  https://kin.naver.com/qna/detail.naver?d1id=7&...   \n",
       "\n",
       "                                         description  \n",
       "0  <b>복숭아</b> 알러지가 있는 사람입니다 원래부터 <b>복숭아</b> 알러지가 ...  \n",
       "1  ... 말랑한 <b>복숭아</b>가 너무 먹고싶네요..ㅜㅜ 사랑니 발치 후 말랑한 ...  \n",
       "2  살구가 <b>복숭아</b>인가요? <b>복숭아</b>향이라길래 <b>복숭아</b>알...  "
      ]
     },
     "execution_count": 85,
     "metadata": {},
     "output_type": "execute_result"
    }
   ],
   "source": [
    "get_naver_kin('복숭아',3)"
   ]
  },
  {
   "cell_type": "markdown",
   "id": "10dbf396",
   "metadata": {},
   "source": [
    "### qize) 네이버 open API를 이용해서 청바지 이미지 100건 데이터를 csv 파일로 저장\n",
    "    데이터 : 제목, 이미지링크, 썸네일링크, 높이, 폭"
   ]
  },
  {
   "cell_type": "code",
   "execution_count": 9,
   "id": "9965fab5",
   "metadata": {},
   "outputs": [
    {
     "data": {
      "text/html": [
       "<div>\n",
       "<style scoped>\n",
       "    .dataframe tbody tr th:only-of-type {\n",
       "        vertical-align: middle;\n",
       "    }\n",
       "\n",
       "    .dataframe tbody tr th {\n",
       "        vertical-align: top;\n",
       "    }\n",
       "\n",
       "    .dataframe thead th {\n",
       "        text-align: right;\n",
       "    }\n",
       "</style>\n",
       "<table border=\"1\" class=\"dataframe\">\n",
       "  <thead>\n",
       "    <tr style=\"text-align: right;\">\n",
       "      <th></th>\n",
       "      <th>no</th>\n",
       "      <th>tilte</th>\n",
       "      <th>link</th>\n",
       "      <th>thumbnail</th>\n",
       "      <th>sizeheight</th>\n",
       "      <th>sizewidth</th>\n",
       "    </tr>\n",
       "  </thead>\n",
       "  <tbody>\n",
       "    <tr>\n",
       "      <th>0</th>\n",
       "      <td>1</td>\n",
       "      <td>BINIWU 심플 빈티지 워싱 청바지 남자 봄가을 루즈핏 통바지 28 빈티지블루</td>\n",
       "      <td>http://shopping.phinf.naver.net/main_5172227/5...</td>\n",
       "      <td>https://search.pstatic.net/common/?type=b150&amp;s...</td>\n",
       "      <td>800</td>\n",
       "      <td>800</td>\n",
       "    </tr>\n",
       "    <tr>\n",
       "      <th>1</th>\n",
       "      <td>2</td>\n",
       "      <td>중년 청바지 아이스 팬츠 남성 얇은 슬랙스 바지남 긴바지</td>\n",
       "      <td>http://shopping.phinf.naver.net/main_5314890/5...</td>\n",
       "      <td>https://search.pstatic.net/common/?type=b150&amp;s...</td>\n",
       "      <td>1000</td>\n",
       "      <td>1000</td>\n",
       "    </tr>\n",
       "    <tr>\n",
       "      <th>2</th>\n",
       "      <td>3</td>\n",
       "      <td>사계절 남자 부드러운 스판 청바지 34 72 5 77 5kg</td>\n",
       "      <td>http://shopping.phinf.naver.net/main_5452984/5...</td>\n",
       "      <td>https://search.pstatic.net/common/?type=b150&amp;s...</td>\n",
       "      <td>800</td>\n",
       "      <td>800</td>\n",
       "    </tr>\n",
       "    <tr>\n",
       "      <th>3</th>\n",
       "      <td>4</td>\n",
       "      <td>가우리 봄 가을 프리미엄 중년 남성 청바지 CRO 스판 청 팬츠 - 청바지 | 쿠팡</td>\n",
       "      <td>https://thumbnail8.coupangcdn.com/thumbnails/r...</td>\n",
       "      <td>https://search.pstatic.net/sunny/?type=b150&amp;sr...</td>\n",
       "      <td>492</td>\n",
       "      <td>492</td>\n",
       "    </tr>\n",
       "    <tr>\n",
       "      <th>4</th>\n",
       "      <td>5</td>\n",
       "      <td>청바지 남자 여름 얇은 레져 텐셀 아메리칸 빈티지 청바지 남자 카우형 남자 스타일 팬츠</td>\n",
       "      <td>http://shopping.phinf.naver.net/main_5188539/5...</td>\n",
       "      <td>https://search.pstatic.net/common/?type=b150&amp;s...</td>\n",
       "      <td>600</td>\n",
       "      <td>600</td>\n",
       "    </tr>\n",
       "  </tbody>\n",
       "</table>\n",
       "</div>"
      ],
      "text/plain": [
       "   no                                             tilte  \\\n",
       "0   1      BINIWU 심플 빈티지 워싱 청바지 남자 봄가을 루즈핏 통바지 28 빈티지블루   \n",
       "1   2                   중년 청바지 아이스 팬츠 남성 얇은 슬랙스 바지남 긴바지   \n",
       "2   3                 사계절 남자 부드러운 스판 청바지 34 72 5 77 5kg   \n",
       "3   4    가우리 봄 가을 프리미엄 중년 남성 청바지 CRO 스판 청 팬츠 - 청바지 | 쿠팡   \n",
       "4   5  청바지 남자 여름 얇은 레져 텐셀 아메리칸 빈티지 청바지 남자 카우형 남자 스타일 팬츠   \n",
       "\n",
       "                                                link  \\\n",
       "0  http://shopping.phinf.naver.net/main_5172227/5...   \n",
       "1  http://shopping.phinf.naver.net/main_5314890/5...   \n",
       "2  http://shopping.phinf.naver.net/main_5452984/5...   \n",
       "3  https://thumbnail8.coupangcdn.com/thumbnails/r...   \n",
       "4  http://shopping.phinf.naver.net/main_5188539/5...   \n",
       "\n",
       "                                           thumbnail sizeheight sizewidth  \n",
       "0  https://search.pstatic.net/common/?type=b150&s...        800       800  \n",
       "1  https://search.pstatic.net/common/?type=b150&s...       1000      1000  \n",
       "2  https://search.pstatic.net/common/?type=b150&s...        800       800  \n",
       "3  https://search.pstatic.net/sunny/?type=b150&sr...        492       492  \n",
       "4  https://search.pstatic.net/common/?type=b150&s...        600       600  "
      ]
     },
     "execution_count": 9,
     "metadata": {},
     "output_type": "execute_result"
    }
   ],
   "source": [
    "# def get_naver_img(keyword):\n",
    "import requests\n",
    "import pandas as pd\n",
    "import json\n",
    "from dotenv import load_dotenv\n",
    "import os\n",
    "load_dotenv()\n",
    "keyword = '청바지'\n",
    "client_id = os.getenv('Client_ID')\n",
    "client_secret = os.getenv('Client_Secret')\n",
    "url = f'https://openapi.naver.com/v1/search/image?query={keyword}&display=100'\n",
    "headers = {'X-Naver-Client-Id' : client_id,\n",
    "           'X-Naver-Client-Secret' : client_secret}\n",
    "response = requests.get(url, headers=headers)\n",
    "items = json.loads(response.text)['items']\n",
    "items_list  = [] #items_list초기화 \n",
    "for idx, item in enumerate(items):\n",
    "    title = item.get('title')\n",
    "    link = item.get('link')\n",
    "    thumbnail = item.get('thumbnail')\n",
    "    sizeheight = item.get('sizeheight')\n",
    "    sizewidth = item.get('sizewidth')\n",
    "    \n",
    "    items_list.append([\n",
    "        idx+1,\n",
    "        title,\n",
    "        link,\n",
    "        thumbnail,\n",
    "        sizeheight,\n",
    "        sizewidth])\n",
    "\n",
    "    #link와 thumbnal 파일 저장\n",
    "df = pd.DataFrame(items_list, columns=['no','tilte','link','thumbnail','sizeheight','sizewidth'])\n",
    "df.to_csv(f'data/ch14_{keyword}.csv', index=False)\n",
    "df.head()"
   ]
  },
  {
   "cell_type": "code",
   "execution_count": 10,
   "id": "29928a96",
   "metadata": {},
   "outputs": [
    {
     "data": {
      "text/plain": [
       "'http://shopping.phinf.naver.net/main_5172227/51722270863.20241203000649.jpg'"
      ]
     },
     "execution_count": 10,
     "metadata": {},
     "output_type": "execute_result"
    }
   ],
   "source": [
    "df.loc[0,'link']"
   ]
  },
  {
   "cell_type": "code",
   "execution_count": 11,
   "id": "b7a290bc",
   "metadata": {},
   "outputs": [
    {
     "data": {
      "text/html": [
       "<div>\n",
       "<style scoped>\n",
       "    .dataframe tbody tr th:only-of-type {\n",
       "        vertical-align: middle;\n",
       "    }\n",
       "\n",
       "    .dataframe tbody tr th {\n",
       "        vertical-align: top;\n",
       "    }\n",
       "\n",
       "    .dataframe thead th {\n",
       "        text-align: right;\n",
       "    }\n",
       "</style>\n",
       "<table border=\"1\" class=\"dataframe\">\n",
       "  <thead>\n",
       "    <tr style=\"text-align: right;\">\n",
       "      <th></th>\n",
       "      <th>no</th>\n",
       "      <th>tilte</th>\n",
       "      <th>link</th>\n",
       "      <th>thumbnail</th>\n",
       "      <th>sizeheight</th>\n",
       "      <th>sizewidth</th>\n",
       "    </tr>\n",
       "  </thead>\n",
       "  <tbody>\n",
       "    <tr>\n",
       "      <th>55</th>\n",
       "      <td>56</td>\n",
       "      <td>텐바이텐 10X10 : 여성 겨울청바지 20대 깔끔일자핏기모청바지 하이웨이스트 30대</td>\n",
       "      <td>http://thumbnail.10x10.co.kr/webimage/image/ba...</td>\n",
       "      <td>https://search.pstatic.net/sunny/?type=b150&amp;sr...</td>\n",
       "      <td>500</td>\n",
       "      <td>500</td>\n",
       "    </tr>\n",
       "  </tbody>\n",
       "</table>\n",
       "</div>"
      ],
      "text/plain": [
       "    no                                            tilte  \\\n",
       "55  56  텐바이텐 10X10 : 여성 겨울청바지 20대 깔끔일자핏기모청바지 하이웨이스트 30대   \n",
       "\n",
       "                                                 link  \\\n",
       "55  http://thumbnail.10x10.co.kr/webimage/image/ba...   \n",
       "\n",
       "                                            thumbnail sizeheight sizewidth  \n",
       "55  https://search.pstatic.net/sunny/?type=b150&sr...        500       500  "
      ]
     },
     "execution_count": 11,
     "metadata": {},
     "output_type": "execute_result"
    }
   ],
   "source": [
    "df[df['link'].str.find('?')!=-1]"
   ]
  },
  {
   "cell_type": "code",
   "execution_count": 139,
   "id": "124ef72f",
   "metadata": {},
   "outputs": [
    {
     "data": {
      "text/plain": [
       "'http://shop1.phinf.naver.net/20250503_295/1746250611381Vinxl_JPEG/21192829047529977_2039968073.jpeg'"
      ]
     },
     "execution_count": 139,
     "metadata": {},
     "output_type": "execute_result"
    }
   ],
   "source": [
    "df[~df['link'].str.endswith('jpg')].loc[5,'link']"
   ]
  },
  {
   "cell_type": "code",
   "execution_count": 165,
   "id": "722df044",
   "metadata": {},
   "outputs": [],
   "source": [
    "def save_img(attr, idx, query, url):\n",
    "    import requests\n",
    "    '{attr}_{idx}_{query}.{확장자} 이미지 저장'\n",
    "    file_extension = url.split('.')[-1]\n",
    "    quote_index = file_extension.find('?')\n",
    "    \n",
    "    if quote_index != -1: #-1이 아니라면\n",
    "        file_extension = file_extension[:quote_index]\n",
    "#         if len(file_extension) > 10:\n",
    "            \n",
    "#     print(file_extension)\n",
    "    img = requests.get(url).content #바이널 파일\n",
    "    open(f'ch14_image/{attr}_{idx}_{query}.{file_extension}', 'wb').write(img)\n"
   ]
  },
  {
   "cell_type": "code",
   "execution_count": 166,
   "id": "bfabf25c",
   "metadata": {},
   "outputs": [],
   "source": [
    "save_img('메인',1,'청바지',df.loc[5,'link'])"
   ]
  },
  {
   "cell_type": "code",
   "execution_count": 175,
   "id": "e6f0364f",
   "metadata": {},
   "outputs": [],
   "source": [
    "# word image 100개 검색한 데이터는 csv파일로, 이미지는 ch14_image폴더에 저장되는 함수   \n",
    "def get_naver_save_image(word):\n",
    "    import requests\n",
    "    import pandas as pd\n",
    "    from dotenv import load_dotenv\n",
    "    import os\n",
    "    load_dotenv() \n",
    "    client_id = os.getenv('Client_ID')\n",
    "    client_secret = os.getenv('Client_Secret')\n",
    "    \n",
    "    url =f'https://openapi.naver.com/v1/search/image?query={word}&display=100'\n",
    "    headers = {'X-Naver-Client-Id' : client_id,\n",
    "               'X-Naver-Client-Secret' : client_secret}\n",
    "    response = requests.get(url, headers=headers)\n",
    "    \n",
    "    items = response.json()['items']\n",
    "    items_list  = [] #items_list초기화 \n",
    "    for idx, item in enumerate(items):\n",
    "        title = item.get('title')\n",
    "        link = item.get('link')\n",
    "        thumbnail = item.get('thumbnail')\n",
    "        sizeheight = item.get('sizeheight')\n",
    "        sizewidth = item.get('sizewidth')\n",
    "        items_list.append({\n",
    "            'no': idx+1,\n",
    "            'title': title,\n",
    "            'link' : link,\n",
    "            'thumbnail' : thumbnail,\n",
    "            'sizeheight':sizeheight,\n",
    "            'sizewidth' :sizewidth\n",
    "        })\n",
    "        #link와 thumbnail을 저장 \n",
    "        save_img('메인',idx+1,word,link)\n",
    "        save_img('썸네일',idx+1,word,thumbnail)\n",
    "        #20% ,40%, 60%,80% 지점 messae 출력\n",
    "        if idx/20 == round(idx/20): #반올림\n",
    "            print(f'= = = = {idx}% 진행중 입니다. = = = ')\n",
    "    df = pd.DataFrame(items_list)\n",
    "    df.to_csv(f'ch14_image/{word}.csv', index=False)\n",
    "    print('~~~~~~이미지 및 사진 저장 완료')"
   ]
  },
  {
   "cell_type": "code",
   "execution_count": 174,
   "id": "1d3d49dc",
   "metadata": {},
   "outputs": [
    {
     "name": "stdout",
     "output_type": "stream",
     "text": [
      "= = = = 0% 진행중 입니다. = = = \n",
      "= = = = 20% 진행중 입니다. = = = \n",
      "= = = = 40% 진행중 입니다. = = = \n",
      "= = = = 60% 진행중 입니다. = = = \n",
      "= = = = 80% 진행중 입니다. = = = \n",
      "~~~~~~이미지 및 사진 저장 완료\n"
     ]
    }
   ],
   "source": [
    "get_naver_save_image('청바지')"
   ]
  },
  {
   "cell_type": "markdown",
   "id": "2f5b5db2",
   "metadata": {},
   "source": [
    "## 2.3 XML  파일\n",
    "### 1)기상예측 RSS 활용 \n",
    "- http://www.kma.go.kr/repositary/xml/fct/mon/img/fct_mon1rss_108_20250529.xml"
   ]
  },
  {
   "cell_type": "code",
   "execution_count": null,
   "id": "ed63cc07",
   "metadata": {},
   "outputs": [],
   "source": [
    "# 방법2\n",
    "from urllib.request import urlopen\n",
    "from bs4 import BeautifulSoup\n",
    "import pandas as pd\n"
   ]
  },
  {
   "cell_type": "code",
   "execution_count": 275,
   "id": "8127e091",
   "metadata": {},
   "outputs": [
    {
     "data": {
      "text/html": [
       "<div>\n",
       "<style scoped>\n",
       "    .dataframe tbody tr th:only-of-type {\n",
       "        vertical-align: middle;\n",
       "    }\n",
       "\n",
       "    .dataframe tbody tr th {\n",
       "        vertical-align: top;\n",
       "    }\n",
       "\n",
       "    .dataframe thead th {\n",
       "        text-align: right;\n",
       "    }\n",
       "</style>\n",
       "<table border=\"1\" class=\"dataframe\">\n",
       "  <thead>\n",
       "    <tr style=\"text-align: right;\">\n",
       "      <th></th>\n",
       "      <th>지역</th>\n",
       "      <th>1주평년기온</th>\n",
       "      <th>1주범위</th>\n",
       "      <th>1주최저</th>\n",
       "      <th>1주최고</th>\n",
       "      <th>2주평년기온</th>\n",
       "      <th>2주범위</th>\n",
       "      <th>2주최저</th>\n",
       "      <th>2주최고</th>\n",
       "    </tr>\n",
       "  </thead>\n",
       "  <tbody>\n",
       "    <tr>\n",
       "      <th>0</th>\n",
       "      <td>전국(제주도,북한제외)</td>\n",
       "      <td>21.1</td>\n",
       "      <td>20.6~21.6</td>\n",
       "      <td>10</td>\n",
       "      <td>60</td>\n",
       "      <td>21.9</td>\n",
       "      <td>21.5~22.3</td>\n",
       "      <td>20</td>\n",
       "      <td>40</td>\n",
       "    </tr>\n",
       "    <tr>\n",
       "      <th>1</th>\n",
       "      <td>서울ㆍ인천ㆍ경기도</td>\n",
       "      <td>21.6</td>\n",
       "      <td>21.1~22.1</td>\n",
       "      <td>10</td>\n",
       "      <td>60</td>\n",
       "      <td>22.4</td>\n",
       "      <td>22.0~22.8</td>\n",
       "      <td>20</td>\n",
       "      <td>30</td>\n",
       "    </tr>\n",
       "    <tr>\n",
       "      <th>2</th>\n",
       "      <td>강원도 영서</td>\n",
       "      <td>20.3</td>\n",
       "      <td>19.7~20.9</td>\n",
       "      <td>10</td>\n",
       "      <td>60</td>\n",
       "      <td>21.3</td>\n",
       "      <td>20.7~21.9</td>\n",
       "      <td>20</td>\n",
       "      <td>30</td>\n",
       "    </tr>\n",
       "    <tr>\n",
       "      <th>3</th>\n",
       "      <td>강원도 영동</td>\n",
       "      <td>19.1</td>\n",
       "      <td>18.2~20.0</td>\n",
       "      <td>10</td>\n",
       "      <td>60</td>\n",
       "      <td>20.1</td>\n",
       "      <td>19.4~20.8</td>\n",
       "      <td>20</td>\n",
       "      <td>30</td>\n",
       "    </tr>\n",
       "    <tr>\n",
       "      <th>4</th>\n",
       "      <td>대전ㆍ세종ㆍ충청남도</td>\n",
       "      <td>21.5</td>\n",
       "      <td>21.0~22.0</td>\n",
       "      <td>10</td>\n",
       "      <td>60</td>\n",
       "      <td>22.3</td>\n",
       "      <td>21.9~22.7</td>\n",
       "      <td>20</td>\n",
       "      <td>40</td>\n",
       "    </tr>\n",
       "    <tr>\n",
       "      <th>5</th>\n",
       "      <td>충청북도</td>\n",
       "      <td>21.3</td>\n",
       "      <td>20.7~21.9</td>\n",
       "      <td>10</td>\n",
       "      <td>60</td>\n",
       "      <td>22.2</td>\n",
       "      <td>21.8~22.6</td>\n",
       "      <td>20</td>\n",
       "      <td>40</td>\n",
       "    </tr>\n",
       "    <tr>\n",
       "      <th>6</th>\n",
       "      <td>광주ㆍ전라남도</td>\n",
       "      <td>21.3</td>\n",
       "      <td>20.9~21.7</td>\n",
       "      <td>10</td>\n",
       "      <td>60</td>\n",
       "      <td>22.0</td>\n",
       "      <td>21.7~22.3</td>\n",
       "      <td>20</td>\n",
       "      <td>40</td>\n",
       "    </tr>\n",
       "    <tr>\n",
       "      <th>7</th>\n",
       "      <td>전북자치도</td>\n",
       "      <td>21.3</td>\n",
       "      <td>20.9~21.7</td>\n",
       "      <td>10</td>\n",
       "      <td>60</td>\n",
       "      <td>22.1</td>\n",
       "      <td>21.7~22.5</td>\n",
       "      <td>20</td>\n",
       "      <td>40</td>\n",
       "    </tr>\n",
       "    <tr>\n",
       "      <th>8</th>\n",
       "      <td>부산ㆍ울산ㆍ경상남도</td>\n",
       "      <td>21.3</td>\n",
       "      <td>20.8~21.8</td>\n",
       "      <td>10</td>\n",
       "      <td>60</td>\n",
       "      <td>22.1</td>\n",
       "      <td>21.7~22.5</td>\n",
       "      <td>20</td>\n",
       "      <td>40</td>\n",
       "    </tr>\n",
       "    <tr>\n",
       "      <th>9</th>\n",
       "      <td>대구ㆍ경상북도</td>\n",
       "      <td>20.9</td>\n",
       "      <td>20.3~21.5</td>\n",
       "      <td>10</td>\n",
       "      <td>60</td>\n",
       "      <td>21.9</td>\n",
       "      <td>21.3~22.5</td>\n",
       "      <td>20</td>\n",
       "      <td>40</td>\n",
       "    </tr>\n",
       "    <tr>\n",
       "      <th>10</th>\n",
       "      <td>제주도</td>\n",
       "      <td>21.0</td>\n",
       "      <td>20.6~21.4</td>\n",
       "      <td>10</td>\n",
       "      <td>60</td>\n",
       "      <td>21.6</td>\n",
       "      <td>21.2~22.0</td>\n",
       "      <td>20</td>\n",
       "      <td>40</td>\n",
       "    </tr>\n",
       "    <tr>\n",
       "      <th>11</th>\n",
       "      <td>평안남북도ㆍ황해도</td>\n",
       "      <td>20.6</td>\n",
       "      <td>20.0~21.2</td>\n",
       "      <td>10</td>\n",
       "      <td>60</td>\n",
       "      <td>21.5</td>\n",
       "      <td>21.0~22.0</td>\n",
       "      <td>20</td>\n",
       "      <td>30</td>\n",
       "    </tr>\n",
       "    <tr>\n",
       "      <th>12</th>\n",
       "      <td>함경남북도</td>\n",
       "      <td>16.6</td>\n",
       "      <td>15.9~17.3</td>\n",
       "      <td>10</td>\n",
       "      <td>60</td>\n",
       "      <td>17.7</td>\n",
       "      <td>17.1~18.3</td>\n",
       "      <td>20</td>\n",
       "      <td>30</td>\n",
       "    </tr>\n",
       "  </tbody>\n",
       "</table>\n",
       "</div>"
      ],
      "text/plain": [
       "                지역  1주평년기온       1주범위 1주최저 1주최고 2주평년기온       2주범위 2주최저 2주최고\n",
       "0    전국(제주도,북한제외)     21.1  20.6~21.6   10   60   21.9  21.5~22.3   20   40\n",
       "1       서울ㆍ인천ㆍ경기도     21.6  21.1~22.1   10   60   22.4  22.0~22.8   20   30\n",
       "2          강원도 영서     20.3  19.7~20.9   10   60   21.3  20.7~21.9   20   30\n",
       "3          강원도 영동     19.1  18.2~20.0   10   60   20.1  19.4~20.8   20   30\n",
       "4      대전ㆍ세종ㆍ충청남도     21.5  21.0~22.0   10   60   22.3  21.9~22.7   20   40\n",
       "5            충청북도     21.3  20.7~21.9   10   60   22.2  21.8~22.6   20   40\n",
       "6         광주ㆍ전라남도     21.3  20.9~21.7   10   60   22.0  21.7~22.3   20   40\n",
       "7           전북자치도     21.3  20.9~21.7   10   60   22.1  21.7~22.5   20   40\n",
       "8      부산ㆍ울산ㆍ경상남도     21.3  20.8~21.8   10   60   22.1  21.7~22.5   20   40\n",
       "9         대구ㆍ경상북도     20.9  20.3~21.5   10   60   21.9  21.3~22.5   20   40\n",
       "10            제주도     21.0  20.6~21.4   10   60   21.6  21.2~22.0   20   40\n",
       "11      평안남북도ㆍ황해도     20.6  20.0~21.2   10   60   21.5  21.0~22.0   20   30\n",
       "12          함경남북도     16.6  15.9~17.3   10   60   17.7  17.1~18.3   20   30"
      ]
     },
     "execution_count": 275,
     "metadata": {},
     "output_type": "execute_result"
    }
   ],
   "source": [
    "url = 'http://www.kma.go.kr/repositary/xml/fct/mon/img/fct_mon1rss_108_20250529.xml'\n",
    "response = urlopen(url)\n",
    "# response= status()  # response.getcode() 페이지 확인 하기\n",
    "soup = BeautifulSoup(response,'xml') #\n",
    "locals = soup.find_all('local_ta','')\n",
    "# locals[1]\n",
    "items_list = []\n",
    "for local in locals:\n",
    "    local_ta_name = local.select_one('local_ta_name').text\n",
    "    week1_normalyear = local.select_one('week1_local_ta_normalYear').text #평년기온\n",
    "    week1_similarRange = local.select_one('week1_local_ta_similarRange').text #기온범위\n",
    "    week1_min = local.select_one('week1_local_ta_minVal').text\n",
    "    week1_max = local.select_one('week1_local_ta_maxVal').text\n",
    "    week2_normalyear = local.select_one('week2_local_ta_normalYear').text #평년기온\n",
    "    week2_similarRange = local.select_one('week2_local_ta_similarRange').text #기온범위\n",
    "    week2_min = local.select_one('week2_local_ta_minVal').text\n",
    "    week2_max = local.select_one('week2_local_ta_maxVal').text\n",
    "    items_list.append({\n",
    "        '지역':local_ta_name,\n",
    "        '1주평년기온':float(week1_normalyear),\n",
    "        '1주범위':week1_similarRange ,\n",
    "        '1주최저':week1_min ,\n",
    "        '1주최고':week1_max ,\n",
    "        '2주평년기온':week2_normalyear,\n",
    "        '2주범위':week2_similarRange ,\n",
    "        '2주최저':week2_min ,\n",
    "        '2주최고':week2_max ,\n",
    "    })\n",
    "df = pd.DataFrame(items_list)\n",
    "df"
   ]
  },
  {
   "cell_type": "markdown",
   "id": "ad182cbf",
   "metadata": {},
   "source": [
    "### 2) 버스위치정보 조회(OpenAPI활용)\n",
    "- data.go.kr에서 \n",
    "    - *서울특별시_노선정보조회 서비스(busRouteId, stationNm-정류소명, station-정류소 id)\n",
    "    - *서울특별시_버스위치정보조회 서비스(busRouteId ->버스들위치)"
   ]
  },
  {
   "cell_type": "code",
   "execution_count": null,
   "id": "46bef467",
   "metadata": {},
   "outputs": [],
   "source": [
    "# step1 :버스번호 -> busRouteId\n",
    "# 노선정보조회 서비스  3번 getBusRouteList서비스"
   ]
  },
  {
   "cell_type": "code",
   "execution_count": 10,
   "id": "a8771252",
   "metadata": {},
   "outputs": [
    {
     "data": {
      "text/plain": [
       "True"
      ]
     },
     "execution_count": 10,
     "metadata": {},
     "output_type": "execute_result"
    }
   ],
   "source": [
    "# key불러오기\n",
    "from dotenv import load_dotenv\n",
    "import os\n",
    "load_dotenv() #dotenv_path='.env' 기본값\n",
    "# print('key :', os.getenv('key'))\n",
    "# print('skey :', os.getenv('skey'))"
   ]
  },
  {
   "cell_type": "code",
   "execution_count": 27,
   "id": "5bf9bdab",
   "metadata": {},
   "outputs": [
    {
     "name": "stdout",
     "output_type": "stream",
     "text": [
      "busRouteId = 100100450\n"
     ]
    }
   ],
   "source": [
    "import requests\n",
    "from bs4 import BeautifulSoup\n",
    "from urllib.request import urlretrieve #url경로파일을 내pc에 저장\n",
    "# from urllib.parse import quote #한글을 바꿀때\n",
    "# busNum = '마포09'\n",
    "busNum = '7011'\n",
    "key = os.getenv('key') #일반인증키(Encoding)\n",
    "\n",
    "url1 =f'http://ws.bus.go.kr/api/rest/busRouteInfo/getBusRouteList?ServiceKey={key}&strSrch={busNum}'\n",
    "# print(url1)\n",
    "# 방법1\n",
    "# response = requests.get(url)\n",
    "# soup = BeautifulSoup(response.text,'xml')\n",
    "\n",
    "# 파일 저장\n",
    "savefilename = 'data/ch14_busInfo.xml'\n",
    "urlretrieve(url, savefilename) #url1 경로 파일을 savefilename으로 저장\n",
    "xml = open(savefilename,'r', encoding='utf-8').read()\n",
    "soup = BeautifulSoup(xml, 'xml')\n",
    "\n",
    "#내가 원하는 버스 정보 확인\n",
    "# soup.select('itemList') #배열\n",
    "for item in soup.select('itemList'): #배열이라서 바로 for문 돌림\n",
    "    busRouteNm = item.select_one('busRouteNm').text\n",
    "    if busRouteNm == busNum: #버스라우트넘이랑 내가 찾는 버스랑 같은지\n",
    "        busRouteId = item.select_one('busRouteId').text\n",
    "        break\n",
    "print('busRouteId =', busRouteId) "
   ]
  },
  {
   "cell_type": "code",
   "execution_count": 52,
   "id": "5839badf",
   "metadata": {},
   "outputs": [
    {
     "name": "stdout",
     "output_type": "stream",
     "text": [
      "http://ws.bus.go.kr/api/rest/busRouteInfo/getStaionByRoute?ServiceKey=ZS3iEVZ82iG9dvZc3urYq03YK9x0dwPWsaXcaNd1XACv8yWys1TONILRRSHiRNyrFo1qVk379RdHIUhAtRaL5w%3D%3D&busRouteId=100100450\n",
      "7011번 정류장 갯수 : 79\n"
     ]
    },
    {
     "data": {
      "text/html": [
       "<div>\n",
       "<style scoped>\n",
       "    .dataframe tbody tr th:only-of-type {\n",
       "        vertical-align: middle;\n",
       "    }\n",
       "\n",
       "    .dataframe tbody tr th {\n",
       "        vertical-align: top;\n",
       "    }\n",
       "\n",
       "    .dataframe thead th {\n",
       "        text-align: right;\n",
       "    }\n",
       "</style>\n",
       "<table border=\"1\" class=\"dataframe\">\n",
       "  <thead>\n",
       "    <tr style=\"text-align: right;\">\n",
       "      <th></th>\n",
       "      <th>정류소</th>\n",
       "      <th>id</th>\n",
       "      <th>경도</th>\n",
       "      <th>위도</th>\n",
       "    </tr>\n",
       "  </thead>\n",
       "  <tbody>\n",
       "    <tr>\n",
       "      <th>0</th>\n",
       "      <td>은평공영차고지</td>\n",
       "      <td>111000907</td>\n",
       "      <td>126.88381</td>\n",
       "      <td>37.591802</td>\n",
       "    </tr>\n",
       "    <tr>\n",
       "      <th>1</th>\n",
       "      <td>덕은교.은평차고지앞</td>\n",
       "      <td>111000225</td>\n",
       "      <td>126.8834469451</td>\n",
       "      <td>37.589961128</td>\n",
       "    </tr>\n",
       "    <tr>\n",
       "      <th>2</th>\n",
       "      <td>DMC첨단산업센터</td>\n",
       "      <td>113000022</td>\n",
       "      <td>126.884787</td>\n",
       "      <td>37.585598</td>\n",
       "    </tr>\n",
       "    <tr>\n",
       "      <th>3</th>\n",
       "      <td>월드컵파크7단지</td>\n",
       "      <td>113000181</td>\n",
       "      <td>126.878963</td>\n",
       "      <td>37.581876</td>\n",
       "    </tr>\n",
       "    <tr>\n",
       "      <th>4</th>\n",
       "      <td>서부면허시험장</td>\n",
       "      <td>113000020</td>\n",
       "      <td>126.8802386693</td>\n",
       "      <td>37.5774012358</td>\n",
       "    </tr>\n",
       "  </tbody>\n",
       "</table>\n",
       "</div>"
      ],
      "text/plain": [
       "          정류소         id              경도             위도\n",
       "0     은평공영차고지  111000907       126.88381      37.591802\n",
       "1  덕은교.은평차고지앞  111000225  126.8834469451   37.589961128\n",
       "2   DMC첨단산업센터  113000022      126.884787      37.585598\n",
       "3    월드컵파크7단지  113000181      126.878963      37.581876\n",
       "4     서부면허시험장  113000020  126.8802386693  37.5774012358"
      ]
     },
     "execution_count": 52,
     "metadata": {},
     "output_type": "execute_result"
    }
   ],
   "source": [
    "# step2 : busRouteId로 버스 정류장 목록(정류장 이름과 정류장 ID)\n",
    "# 노선정보조회 서비스  4번 getStaionsByRouteList\n",
    "import pandas as pd\n",
    "url2 =f'http://ws.bus.go.kr/api/rest/busRouteInfo/getStaionByRoute?ServiceKey={key}&busRouteId={busRouteId}'\n",
    "print(url2)\n",
    "response = requests.get(url2)\n",
    "soup = BeautifulSoup(response.text, 'xml')\n",
    "itemLists = soup.find_all('itemList')\n",
    "print(busNum + '번 정류장 갯수 :', len(itemLists))\n",
    "bus_station = []\n",
    "for itemList in itemLists:\n",
    "    # 정류장이름, 정류장id, 경도, 위도\n",
    "    stationNm = itemList.find('stationNm').text\n",
    "    station   = itemList.find('station').text\n",
    "    gpsX      = itemList.find('gpsX').text\n",
    "    gpsY      = itemList.find('gpsY').text\n",
    "    bus_station.append([stationNm,station,gpsX,gpsY])\n",
    "df = pd.DataFrame(bus_station, columns=['정류소','id','경도','위도'])\n",
    "df.head()"
   ]
  },
  {
   "cell_type": "code",
   "execution_count": 48,
   "id": "fc737ac3",
   "metadata": {},
   "outputs": [
    {
     "name": "stdout",
     "output_type": "stream",
     "text": [
      "http://ws.bus.go.kr/api/rest/buspos/getBusPosByRtid?ServiceKey=ZS3iEVZ82iG9dvZc3urYq03YK9x0dwPWsaXcaNd1XACv8yWys1TONILRRSHiRNyrFo1qVk379RdHIUhAtRaL5w%3D%3D&busRouteId=100100450\n"
     ]
    },
    {
     "data": {
      "text/html": [
       "<div>\n",
       "<style scoped>\n",
       "    .dataframe tbody tr th:only-of-type {\n",
       "        vertical-align: middle;\n",
       "    }\n",
       "\n",
       "    .dataframe tbody tr th {\n",
       "        vertical-align: top;\n",
       "    }\n",
       "\n",
       "    .dataframe thead th {\n",
       "        text-align: right;\n",
       "    }\n",
       "</style>\n",
       "<table border=\"1\" class=\"dataframe\">\n",
       "  <thead>\n",
       "    <tr style=\"text-align: right;\">\n",
       "      <th></th>\n",
       "      <th>차량번호</th>\n",
       "      <th>혼잡도</th>\n",
       "      <th>경도</th>\n",
       "      <th>위도</th>\n",
       "      <th>최종정류장ID</th>\n",
       "      <th>다음정류장ID</th>\n",
       "      <th>도착소요시간</th>\n",
       "    </tr>\n",
       "  </thead>\n",
       "  <tbody>\n",
       "    <tr>\n",
       "      <th>0</th>\n",
       "      <td>서울74사7256</td>\n",
       "      <td>여유</td>\n",
       "      <td>126.884245</td>\n",
       "      <td>37.584902</td>\n",
       "      <td>113000022</td>\n",
       "      <td>113000018</td>\n",
       "      <td>513</td>\n",
       "    </tr>\n",
       "    <tr>\n",
       "      <th>1</th>\n",
       "      <td>서울70사7794</td>\n",
       "      <td>여유</td>\n",
       "      <td>126.892971</td>\n",
       "      <td>37.568073</td>\n",
       "      <td>113000410</td>\n",
       "      <td>113000154</td>\n",
       "      <td>923</td>\n",
       "    </tr>\n",
       "    <tr>\n",
       "      <th>2</th>\n",
       "      <td>서울70사7798</td>\n",
       "      <td>여유</td>\n",
       "      <td>126.912502</td>\n",
       "      <td>37.551925</td>\n",
       "      <td>113000155</td>\n",
       "      <td>113000154</td>\n",
       "      <td>70</td>\n",
       "    </tr>\n",
       "    <tr>\n",
       "      <th>3</th>\n",
       "      <td>서울74사7206</td>\n",
       "      <td>여유</td>\n",
       "      <td>126.920839</td>\n",
       "      <td>37.547754</td>\n",
       "      <td>113000032</td>\n",
       "      <td>101000005</td>\n",
       "      <td>1400</td>\n",
       "    </tr>\n",
       "    <tr>\n",
       "      <th>4</th>\n",
       "      <td>서울74사7222</td>\n",
       "      <td>여유</td>\n",
       "      <td>126.923048</td>\n",
       "      <td>37.549226</td>\n",
       "      <td>113000139</td>\n",
       "      <td>101000005</td>\n",
       "      <td>1196</td>\n",
       "    </tr>\n",
       "  </tbody>\n",
       "</table>\n",
       "</div>"
      ],
      "text/plain": [
       "        차량번호 혼잡도          경도         위도    최종정류장ID    다음정류장ID 도착소요시간\n",
       "0  서울74사7256  여유  126.884245  37.584902  113000022  113000018    513\n",
       "1  서울70사7794  여유  126.892971  37.568073  113000410  113000154    923\n",
       "2  서울70사7798  여유  126.912502  37.551925  113000155  113000154     70\n",
       "3  서울74사7206  여유  126.920839  37.547754  113000032  101000005   1400\n",
       "4  서울74사7222  여유  126.923048  37.549226  113000139  101000005   1196"
      ]
     },
     "execution_count": 48,
     "metadata": {},
     "output_type": "execute_result"
    }
   ],
   "source": [
    "# Step3 : busRouteId로 버스 위치 정보 조회 2번 getBusPosByRtidList\n",
    "url3 = f'http://ws.bus.go.kr/api/rest/buspos/getBusPosByRtid?ServiceKey={key}&busRouteId={busRouteId}'\n",
    "print(url3)\n",
    "response = requests.get(url3)\n",
    "soup = BeautifulSoup(response.text,'xml')\n",
    "bus_position = []\n",
    "itemLists = soup.select('itemList')\n",
    "# print('운행중인 버스 수 :', len(itemLists))\n",
    "for itemList in soup.select('itemList'):  #soup.select('itemList') 운행중인 버스대수\n",
    "    #차량번호, 혼잡도, 경도, 위도, 최종정류장id, 다음정류장id, 도착소요시간\n",
    "    plainNo   = itemList.select_one('plainNo').text\n",
    "    congetion = itemList.select_one('congetion').text\n",
    "    congetion = '여유' if congetion == '3'\\\n",
    "                else '보통' if congetion =='4'\\\n",
    "                else'혼잡' if congetion == '5'\\\n",
    "                else '매우혼잡'\n",
    "    gpsX      = itemList.select_one('gpsX').text\n",
    "    gpsY      = itemList.select_one('gpsY').text\n",
    "    lastStnId = itemList.select_one('lastStnId').text\n",
    "    nextStId  = itemList.select_one('nextStId').text\n",
    "    nextStTm  = itemList.select_one('nextStTm').text\n",
    "    bus_position.append({\n",
    "        '차량번호' : plainNo,\n",
    "        '혼잡도' : congetion,\n",
    "        '경도' : gpsX,\n",
    "        '위도' : gpsY,\n",
    "        '최종정류장ID' : lastStnId,\n",
    "        '다음정류장ID' : nextStId,\n",
    "        '도착소요시간' :nextStTm})\n",
    "df_pos = pd.DataFrame(bus_position)\n",
    "df_pos.head()"
   ]
  },
  {
   "cell_type": "code",
   "execution_count": 63,
   "id": "8dd1244e",
   "metadata": {},
   "outputs": [
    {
     "data": {
      "text/plain": [
       "'DMC첨단산업센터'"
      ]
     },
     "execution_count": 63,
     "metadata": {},
     "output_type": "execute_result"
    }
   ],
   "source": [
    "# id가 113000022인 정류소명\n",
    "df.loc[df['id']== '113000022','정류소']. iloc[0] \n",
    "# df.loc[df['id']== '113000018','정류소']. iloc[0] #현재는 타입은 시리즈 -> 스칼라데이터로 변환 "
   ]
  },
  {
   "cell_type": "code",
   "execution_count": 67,
   "id": "7668347c",
   "metadata": {},
   "outputs": [],
   "source": [
    "def station_name(row):\n",
    "    row['최종정류소명'] = df.loc[df['id'] == row['최종정류장ID'], '정류소'].iloc[0]\n",
    "    row['다음정류소명'] = df.loc[df['id'] == row['다음정류장ID'], '정류소'].iloc[0]\n",
    "    return row"
   ]
  },
  {
   "cell_type": "code",
   "execution_count": 68,
   "id": "3f65e4df",
   "metadata": {},
   "outputs": [
    {
     "data": {
      "text/plain": [
       "차량번호            서울74사7256\n",
       "혼잡도                    여유\n",
       "경도             126.884245\n",
       "위도              37.584902\n",
       "최종정류장ID         113000022\n",
       "다음정류장ID         113000018\n",
       "도착소요시간                513\n",
       "최종정류소명          DMC첨단산업센터\n",
       "다음정류소명     월드컵파크3단지.난지천공원\n",
       "Name: 0, dtype: object"
      ]
     },
     "execution_count": 68,
     "metadata": {},
     "output_type": "execute_result"
    }
   ],
   "source": [
    "station_name(df_pos.loc[0])"
   ]
  },
  {
   "cell_type": "code",
   "execution_count": 69,
   "id": "1fb12070",
   "metadata": {},
   "outputs": [
    {
     "data": {
      "text/plain": [
       "차량번호        서울74사7256\n",
       "혼잡도                여유\n",
       "경도         126.884245\n",
       "위도          37.584902\n",
       "최종정류장ID     113000022\n",
       "다음정류장ID     113000018\n",
       "도착소요시간            513\n",
       "Name: 0, dtype: object"
      ]
     },
     "execution_count": 69,
     "metadata": {},
     "output_type": "execute_result"
    }
   ],
   "source": [
    "df_pos.loc[0]"
   ]
  },
  {
   "cell_type": "code",
   "execution_count": 71,
   "id": "a87f4fa6",
   "metadata": {},
   "outputs": [
    {
     "data": {
      "text/html": [
       "<div>\n",
       "<style scoped>\n",
       "    .dataframe tbody tr th:only-of-type {\n",
       "        vertical-align: middle;\n",
       "    }\n",
       "\n",
       "    .dataframe tbody tr th {\n",
       "        vertical-align: top;\n",
       "    }\n",
       "\n",
       "    .dataframe thead th {\n",
       "        text-align: right;\n",
       "    }\n",
       "</style>\n",
       "<table border=\"1\" class=\"dataframe\">\n",
       "  <thead>\n",
       "    <tr style=\"text-align: right;\">\n",
       "      <th></th>\n",
       "      <th>차량번호</th>\n",
       "      <th>혼잡도</th>\n",
       "      <th>경도</th>\n",
       "      <th>위도</th>\n",
       "      <th>최종정류장ID</th>\n",
       "      <th>다음정류장ID</th>\n",
       "      <th>도착소요시간</th>\n",
       "      <th>최종정류소명</th>\n",
       "      <th>다음정류소명</th>\n",
       "    </tr>\n",
       "  </thead>\n",
       "  <tbody>\n",
       "    <tr>\n",
       "      <th>0</th>\n",
       "      <td>서울74사7256</td>\n",
       "      <td>여유</td>\n",
       "      <td>126.884245</td>\n",
       "      <td>37.584902</td>\n",
       "      <td>113000022</td>\n",
       "      <td>113000018</td>\n",
       "      <td>513</td>\n",
       "      <td>DMC첨단산업센터</td>\n",
       "      <td>월드컵파크3단지.난지천공원</td>\n",
       "    </tr>\n",
       "    <tr>\n",
       "      <th>1</th>\n",
       "      <td>서울70사7794</td>\n",
       "      <td>여유</td>\n",
       "      <td>126.892971</td>\n",
       "      <td>37.568073</td>\n",
       "      <td>113000410</td>\n",
       "      <td>113000154</td>\n",
       "      <td>923</td>\n",
       "      <td>월드컵공원입구.문화비축기지입구</td>\n",
       "      <td>마포한강푸르지오</td>\n",
       "    </tr>\n",
       "    <tr>\n",
       "      <th>2</th>\n",
       "      <td>서울70사7798</td>\n",
       "      <td>여유</td>\n",
       "      <td>126.912502</td>\n",
       "      <td>37.551925</td>\n",
       "      <td>113000155</td>\n",
       "      <td>113000154</td>\n",
       "      <td>70</td>\n",
       "      <td>성산초등학교입구</td>\n",
       "      <td>마포한강푸르지오</td>\n",
       "    </tr>\n",
       "    <tr>\n",
       "      <th>3</th>\n",
       "      <td>서울74사7206</td>\n",
       "      <td>여유</td>\n",
       "      <td>126.920839</td>\n",
       "      <td>37.547754</td>\n",
       "      <td>113000032</td>\n",
       "      <td>101000005</td>\n",
       "      <td>1400</td>\n",
       "      <td>서울화력발전소입구</td>\n",
       "      <td>서울역버스환승센터</td>\n",
       "    </tr>\n",
       "    <tr>\n",
       "      <th>4</th>\n",
       "      <td>서울74사7222</td>\n",
       "      <td>여유</td>\n",
       "      <td>126.923048</td>\n",
       "      <td>37.549226</td>\n",
       "      <td>113000139</td>\n",
       "      <td>101000005</td>\n",
       "      <td>1196</td>\n",
       "      <td>극동방송</td>\n",
       "      <td>서울역버스환승센터</td>\n",
       "    </tr>\n",
       "    <tr>\n",
       "      <th>5</th>\n",
       "      <td>서울70사7795</td>\n",
       "      <td>여유</td>\n",
       "      <td>126.971356</td>\n",
       "      <td>37.559574</td>\n",
       "      <td>101000016</td>\n",
       "      <td>101000005</td>\n",
       "      <td>198</td>\n",
       "      <td>한국경제신문사.서소문역사공원</td>\n",
       "      <td>서울역버스환승센터</td>\n",
       "    </tr>\n",
       "    <tr>\n",
       "      <th>6</th>\n",
       "      <td>서울70사7789</td>\n",
       "      <td>여유</td>\n",
       "      <td>126.983281</td>\n",
       "      <td>37.560572</td>\n",
       "      <td>101000047</td>\n",
       "      <td>112000054</td>\n",
       "      <td>2668</td>\n",
       "      <td>남대문시장.회현역</td>\n",
       "      <td>충정로역2호선</td>\n",
       "    </tr>\n",
       "    <tr>\n",
       "      <th>7</th>\n",
       "      <td>서울74사7242</td>\n",
       "      <td>여유</td>\n",
       "      <td>126.990465</td>\n",
       "      <td>37.561101</td>\n",
       "      <td>101000052</td>\n",
       "      <td>112000054</td>\n",
       "      <td>1363</td>\n",
       "      <td>충무로역.한옥마을.한국의집</td>\n",
       "      <td>충정로역2호선</td>\n",
       "    </tr>\n",
       "    <tr>\n",
       "      <th>8</th>\n",
       "      <td>서울74사7246</td>\n",
       "      <td>여유</td>\n",
       "      <td>126.974814</td>\n",
       "      <td>37.55695</td>\n",
       "      <td>101000046</td>\n",
       "      <td>112000054</td>\n",
       "      <td>1086</td>\n",
       "      <td>남대문시장.회현역</td>\n",
       "      <td>충정로역2호선</td>\n",
       "    </tr>\n",
       "    <tr>\n",
       "      <th>9</th>\n",
       "      <td>서울70사7802</td>\n",
       "      <td>여유</td>\n",
       "      <td>126.956162</td>\n",
       "      <td>37.55741</td>\n",
       "      <td>113000478</td>\n",
       "      <td>113000475</td>\n",
       "      <td>132</td>\n",
       "      <td>아현역</td>\n",
       "      <td>웨딩타운</td>\n",
       "    </tr>\n",
       "    <tr>\n",
       "      <th>10</th>\n",
       "      <td>서울70사7765</td>\n",
       "      <td>여유</td>\n",
       "      <td>126.935182</td>\n",
       "      <td>37.555705</td>\n",
       "      <td>113000417</td>\n",
       "      <td>113000142</td>\n",
       "      <td>384</td>\n",
       "      <td>신촌오거리.2호선신촌역</td>\n",
       "      <td>홍익대학교</td>\n",
       "    </tr>\n",
       "    <tr>\n",
       "      <th>11</th>\n",
       "      <td>서울74사9052</td>\n",
       "      <td>여유</td>\n",
       "      <td>126.927043</td>\n",
       "      <td>37.553377</td>\n",
       "      <td>113000189</td>\n",
       "      <td>113000142</td>\n",
       "      <td>60</td>\n",
       "      <td>삼진제약</td>\n",
       "      <td>홍익대학교</td>\n",
       "    </tr>\n",
       "    <tr>\n",
       "      <th>12</th>\n",
       "      <td>서울74사1453</td>\n",
       "      <td>여유</td>\n",
       "      <td>126.91216</td>\n",
       "      <td>37.548925</td>\n",
       "      <td>113000127</td>\n",
       "      <td>113000014</td>\n",
       "      <td>809</td>\n",
       "      <td>홀트아동복지회</td>\n",
       "      <td>월드컵경기장남측.월드컵공원</td>\n",
       "    </tr>\n",
       "    <tr>\n",
       "      <th>13</th>\n",
       "      <td>서울74사9050</td>\n",
       "      <td>여유</td>\n",
       "      <td>126.905397</td>\n",
       "      <td>37.561324</td>\n",
       "      <td>113000171</td>\n",
       "      <td>113000014</td>\n",
       "      <td>341</td>\n",
       "      <td>청기와빌라</td>\n",
       "      <td>월드컵경기장남측.월드컵공원</td>\n",
       "    </tr>\n",
       "    <tr>\n",
       "      <th>14</th>\n",
       "      <td>서울74사7229</td>\n",
       "      <td>여유</td>\n",
       "      <td>126.888311</td>\n",
       "      <td>37.572979</td>\n",
       "      <td>113000198</td>\n",
       "      <td>113000014</td>\n",
       "      <td>131</td>\n",
       "      <td>월드컵파크3단지후문</td>\n",
       "      <td>월드컵경기장남측.월드컵공원</td>\n",
       "    </tr>\n",
       "    <tr>\n",
       "      <th>15</th>\n",
       "      <td>서울74사7238</td>\n",
       "      <td>여유</td>\n",
       "      <td>126.881642</td>\n",
       "      <td>37.582954</td>\n",
       "      <td>113000180</td>\n",
       "      <td>113000014</td>\n",
       "      <td>133</td>\n",
       "      <td>월드컵파크7단지</td>\n",
       "      <td>월드컵경기장남측.월드컵공원</td>\n",
       "    </tr>\n",
       "  </tbody>\n",
       "</table>\n",
       "</div>"
      ],
      "text/plain": [
       "         차량번호 혼잡도          경도         위도    최종정류장ID    다음정류장ID 도착소요시간  \\\n",
       "0   서울74사7256  여유  126.884245  37.584902  113000022  113000018    513   \n",
       "1   서울70사7794  여유  126.892971  37.568073  113000410  113000154    923   \n",
       "2   서울70사7798  여유  126.912502  37.551925  113000155  113000154     70   \n",
       "3   서울74사7206  여유  126.920839  37.547754  113000032  101000005   1400   \n",
       "4   서울74사7222  여유  126.923048  37.549226  113000139  101000005   1196   \n",
       "5   서울70사7795  여유  126.971356  37.559574  101000016  101000005    198   \n",
       "6   서울70사7789  여유  126.983281  37.560572  101000047  112000054   2668   \n",
       "7   서울74사7242  여유  126.990465  37.561101  101000052  112000054   1363   \n",
       "8   서울74사7246  여유  126.974814   37.55695  101000046  112000054   1086   \n",
       "9   서울70사7802  여유  126.956162   37.55741  113000478  113000475    132   \n",
       "10  서울70사7765  여유  126.935182  37.555705  113000417  113000142    384   \n",
       "11  서울74사9052  여유  126.927043  37.553377  113000189  113000142     60   \n",
       "12  서울74사1453  여유   126.91216  37.548925  113000127  113000014    809   \n",
       "13  서울74사9050  여유  126.905397  37.561324  113000171  113000014    341   \n",
       "14  서울74사7229  여유  126.888311  37.572979  113000198  113000014    131   \n",
       "15  서울74사7238  여유  126.881642  37.582954  113000180  113000014    133   \n",
       "\n",
       "              최종정류소명          다음정류소명  \n",
       "0          DMC첨단산업센터  월드컵파크3단지.난지천공원  \n",
       "1   월드컵공원입구.문화비축기지입구        마포한강푸르지오  \n",
       "2           성산초등학교입구        마포한강푸르지오  \n",
       "3          서울화력발전소입구       서울역버스환승센터  \n",
       "4               극동방송       서울역버스환승센터  \n",
       "5    한국경제신문사.서소문역사공원       서울역버스환승센터  \n",
       "6          남대문시장.회현역         충정로역2호선  \n",
       "7     충무로역.한옥마을.한국의집         충정로역2호선  \n",
       "8          남대문시장.회현역         충정로역2호선  \n",
       "9                아현역            웨딩타운  \n",
       "10      신촌오거리.2호선신촌역           홍익대학교  \n",
       "11              삼진제약           홍익대학교  \n",
       "12           홀트아동복지회  월드컵경기장남측.월드컵공원  \n",
       "13             청기와빌라  월드컵경기장남측.월드컵공원  \n",
       "14        월드컵파크3단지후문  월드컵경기장남측.월드컵공원  \n",
       "15          월드컵파크7단지  월드컵경기장남측.월드컵공원  "
      ]
     },
     "execution_count": 71,
     "metadata": {},
     "output_type": "execute_result"
    }
   ],
   "source": [
    "df_pos = df_pos.apply(station_name, axis=1)\n",
    "df_pos"
   ]
  },
  {
   "cell_type": "code",
   "execution_count": 75,
   "id": "a2a0845b",
   "metadata": {},
   "outputs": [
    {
     "data": {
      "text/html": [
       "<div>\n",
       "<style scoped>\n",
       "    .dataframe tbody tr th:only-of-type {\n",
       "        vertical-align: middle;\n",
       "    }\n",
       "\n",
       "    .dataframe tbody tr th {\n",
       "        vertical-align: top;\n",
       "    }\n",
       "\n",
       "    .dataframe thead th {\n",
       "        text-align: right;\n",
       "    }\n",
       "</style>\n",
       "<table border=\"1\" class=\"dataframe\">\n",
       "  <thead>\n",
       "    <tr style=\"text-align: right;\">\n",
       "      <th></th>\n",
       "      <th>차량번호</th>\n",
       "      <th>혼잡도</th>\n",
       "      <th>경도</th>\n",
       "      <th>위도</th>\n",
       "      <th>도착소요시간</th>\n",
       "      <th>최종정류소명</th>\n",
       "      <th>다음정류소명</th>\n",
       "    </tr>\n",
       "  </thead>\n",
       "  <tbody>\n",
       "    <tr>\n",
       "      <th>0</th>\n",
       "      <td>서울74사7256</td>\n",
       "      <td>여유</td>\n",
       "      <td>126.884245</td>\n",
       "      <td>37.584902</td>\n",
       "      <td>513</td>\n",
       "      <td>DMC첨단산업센터</td>\n",
       "      <td>월드컵파크3단지.난지천공원</td>\n",
       "    </tr>\n",
       "    <tr>\n",
       "      <th>1</th>\n",
       "      <td>서울70사7794</td>\n",
       "      <td>여유</td>\n",
       "      <td>126.892971</td>\n",
       "      <td>37.568073</td>\n",
       "      <td>923</td>\n",
       "      <td>월드컵공원입구.문화비축기지입구</td>\n",
       "      <td>마포한강푸르지오</td>\n",
       "    </tr>\n",
       "    <tr>\n",
       "      <th>2</th>\n",
       "      <td>서울70사7798</td>\n",
       "      <td>여유</td>\n",
       "      <td>126.912502</td>\n",
       "      <td>37.551925</td>\n",
       "      <td>70</td>\n",
       "      <td>성산초등학교입구</td>\n",
       "      <td>마포한강푸르지오</td>\n",
       "    </tr>\n",
       "    <tr>\n",
       "      <th>3</th>\n",
       "      <td>서울74사7206</td>\n",
       "      <td>여유</td>\n",
       "      <td>126.920839</td>\n",
       "      <td>37.547754</td>\n",
       "      <td>1400</td>\n",
       "      <td>서울화력발전소입구</td>\n",
       "      <td>서울역버스환승센터</td>\n",
       "    </tr>\n",
       "    <tr>\n",
       "      <th>4</th>\n",
       "      <td>서울74사7222</td>\n",
       "      <td>여유</td>\n",
       "      <td>126.923048</td>\n",
       "      <td>37.549226</td>\n",
       "      <td>1196</td>\n",
       "      <td>극동방송</td>\n",
       "      <td>서울역버스환승센터</td>\n",
       "    </tr>\n",
       "    <tr>\n",
       "      <th>5</th>\n",
       "      <td>서울70사7795</td>\n",
       "      <td>여유</td>\n",
       "      <td>126.971356</td>\n",
       "      <td>37.559574</td>\n",
       "      <td>198</td>\n",
       "      <td>한국경제신문사.서소문역사공원</td>\n",
       "      <td>서울역버스환승센터</td>\n",
       "    </tr>\n",
       "    <tr>\n",
       "      <th>6</th>\n",
       "      <td>서울70사7789</td>\n",
       "      <td>여유</td>\n",
       "      <td>126.983281</td>\n",
       "      <td>37.560572</td>\n",
       "      <td>2668</td>\n",
       "      <td>남대문시장.회현역</td>\n",
       "      <td>충정로역2호선</td>\n",
       "    </tr>\n",
       "    <tr>\n",
       "      <th>7</th>\n",
       "      <td>서울74사7242</td>\n",
       "      <td>여유</td>\n",
       "      <td>126.990465</td>\n",
       "      <td>37.561101</td>\n",
       "      <td>1363</td>\n",
       "      <td>충무로역.한옥마을.한국의집</td>\n",
       "      <td>충정로역2호선</td>\n",
       "    </tr>\n",
       "    <tr>\n",
       "      <th>8</th>\n",
       "      <td>서울74사7246</td>\n",
       "      <td>여유</td>\n",
       "      <td>126.974814</td>\n",
       "      <td>37.55695</td>\n",
       "      <td>1086</td>\n",
       "      <td>남대문시장.회현역</td>\n",
       "      <td>충정로역2호선</td>\n",
       "    </tr>\n",
       "    <tr>\n",
       "      <th>9</th>\n",
       "      <td>서울70사7802</td>\n",
       "      <td>여유</td>\n",
       "      <td>126.956162</td>\n",
       "      <td>37.55741</td>\n",
       "      <td>132</td>\n",
       "      <td>아현역</td>\n",
       "      <td>웨딩타운</td>\n",
       "    </tr>\n",
       "    <tr>\n",
       "      <th>10</th>\n",
       "      <td>서울70사7765</td>\n",
       "      <td>여유</td>\n",
       "      <td>126.935182</td>\n",
       "      <td>37.555705</td>\n",
       "      <td>384</td>\n",
       "      <td>신촌오거리.2호선신촌역</td>\n",
       "      <td>홍익대학교</td>\n",
       "    </tr>\n",
       "    <tr>\n",
       "      <th>11</th>\n",
       "      <td>서울74사9052</td>\n",
       "      <td>여유</td>\n",
       "      <td>126.927043</td>\n",
       "      <td>37.553377</td>\n",
       "      <td>60</td>\n",
       "      <td>삼진제약</td>\n",
       "      <td>홍익대학교</td>\n",
       "    </tr>\n",
       "    <tr>\n",
       "      <th>12</th>\n",
       "      <td>서울74사1453</td>\n",
       "      <td>여유</td>\n",
       "      <td>126.91216</td>\n",
       "      <td>37.548925</td>\n",
       "      <td>809</td>\n",
       "      <td>홀트아동복지회</td>\n",
       "      <td>월드컵경기장남측.월드컵공원</td>\n",
       "    </tr>\n",
       "    <tr>\n",
       "      <th>13</th>\n",
       "      <td>서울74사9050</td>\n",
       "      <td>여유</td>\n",
       "      <td>126.905397</td>\n",
       "      <td>37.561324</td>\n",
       "      <td>341</td>\n",
       "      <td>청기와빌라</td>\n",
       "      <td>월드컵경기장남측.월드컵공원</td>\n",
       "    </tr>\n",
       "    <tr>\n",
       "      <th>14</th>\n",
       "      <td>서울74사7229</td>\n",
       "      <td>여유</td>\n",
       "      <td>126.888311</td>\n",
       "      <td>37.572979</td>\n",
       "      <td>131</td>\n",
       "      <td>월드컵파크3단지후문</td>\n",
       "      <td>월드컵경기장남측.월드컵공원</td>\n",
       "    </tr>\n",
       "    <tr>\n",
       "      <th>15</th>\n",
       "      <td>서울74사7238</td>\n",
       "      <td>여유</td>\n",
       "      <td>126.881642</td>\n",
       "      <td>37.582954</td>\n",
       "      <td>133</td>\n",
       "      <td>월드컵파크7단지</td>\n",
       "      <td>월드컵경기장남측.월드컵공원</td>\n",
       "    </tr>\n",
       "  </tbody>\n",
       "</table>\n",
       "</div>"
      ],
      "text/plain": [
       "         차량번호 혼잡도          경도         위도 도착소요시간            최종정류소명  \\\n",
       "0   서울74사7256  여유  126.884245  37.584902    513         DMC첨단산업센터   \n",
       "1   서울70사7794  여유  126.892971  37.568073    923  월드컵공원입구.문화비축기지입구   \n",
       "2   서울70사7798  여유  126.912502  37.551925     70          성산초등학교입구   \n",
       "3   서울74사7206  여유  126.920839  37.547754   1400         서울화력발전소입구   \n",
       "4   서울74사7222  여유  126.923048  37.549226   1196              극동방송   \n",
       "5   서울70사7795  여유  126.971356  37.559574    198   한국경제신문사.서소문역사공원   \n",
       "6   서울70사7789  여유  126.983281  37.560572   2668         남대문시장.회현역   \n",
       "7   서울74사7242  여유  126.990465  37.561101   1363    충무로역.한옥마을.한국의집   \n",
       "8   서울74사7246  여유  126.974814   37.55695   1086         남대문시장.회현역   \n",
       "9   서울70사7802  여유  126.956162   37.55741    132               아현역   \n",
       "10  서울70사7765  여유  126.935182  37.555705    384      신촌오거리.2호선신촌역   \n",
       "11  서울74사9052  여유  126.927043  37.553377     60              삼진제약   \n",
       "12  서울74사1453  여유   126.91216  37.548925    809           홀트아동복지회   \n",
       "13  서울74사9050  여유  126.905397  37.561324    341             청기와빌라   \n",
       "14  서울74사7229  여유  126.888311  37.572979    131        월드컵파크3단지후문   \n",
       "15  서울74사7238  여유  126.881642  37.582954    133          월드컵파크7단지   \n",
       "\n",
       "            다음정류소명  \n",
       "0   월드컵파크3단지.난지천공원  \n",
       "1         마포한강푸르지오  \n",
       "2         마포한강푸르지오  \n",
       "3        서울역버스환승센터  \n",
       "4        서울역버스환승센터  \n",
       "5        서울역버스환승센터  \n",
       "6          충정로역2호선  \n",
       "7          충정로역2호선  \n",
       "8          충정로역2호선  \n",
       "9             웨딩타운  \n",
       "10           홍익대학교  \n",
       "11           홍익대학교  \n",
       "12  월드컵경기장남측.월드컵공원  \n",
       "13  월드컵경기장남측.월드컵공원  \n",
       "14  월드컵경기장남측.월드컵공원  \n",
       "15  월드컵경기장남측.월드컵공원  "
      ]
     },
     "execution_count": 75,
     "metadata": {},
     "output_type": "execute_result"
    }
   ],
   "source": [
    "#컬럼명에 id가 포함된 컬럼 제거하기\n",
    "drop_true = df_pos.columns.str.contains('ID')\n",
    "drop_column_name = df_pos.columns[drop_true]\n",
    "df_pos.drop(drop_column_name,axis=1)\n",
    "# df_pos.drop(['최종정류장ID','다음정류장ID'],axis=1)"
   ]
  },
  {
   "cell_type": "code",
   "execution_count": null,
   "id": "33102053",
   "metadata": {},
   "outputs": [],
   "source": []
  },
  {
   "cell_type": "markdown",
   "id": "1cf71993",
   "metadata": {},
   "source": [
    "# qize yes24 사이트\n",
    "- yes24 베스트셀러 정보를 ch14_yes24.csv(ch14_yes24.txt)로 출력 \n",
    "- 순위, 책이름, 저자, 출판사, 가격 (1~48위) => 리스트 => 데이터프레임 => csv\n",
    "\n",
    "- http://www.yes24.com/24/category/bestseller\n",
    "- 수집 항목 <순위, 책이름, 저자및 출판사, 가격>\n",
    "- 제출파일 : 1_유성미소스.ipynb/  1_소스및 실행결과.html / 1_yes24.csv\n"
   ]
  },
  {
   "cell_type": "code",
   "execution_count": 78,
   "id": "54257eaa",
   "metadata": {},
   "outputs": [],
   "source": [
    "import requests\n",
    "from urllib.request import urlopen\n",
    "from bs4 import BeautifulSoup\n",
    "import pandas as pd"
   ]
  },
  {
   "cell_type": "code",
   "execution_count": 81,
   "id": "0daf2380",
   "metadata": {},
   "outputs": [
    {
     "name": "stdout",
     "output_type": "stream",
     "text": [
      "200\n",
      "200\n"
     ]
    }
   ],
   "source": [
    "# 방법1\n",
    "pages = 2\n",
    "bestseller_list = [] #담을 빈리스트\n",
    "with open('data/ch14_yes24.txt', 'w', encoding='utf-8')as f:\n",
    "    pass\n",
    "for page in range(1, pages+1):\n",
    "    url = f'https://www.yes24.com/product/category/bestseller?pageNumber={page}'\n",
    "    response = requests.get(url)\n",
    "#     print(url) #주소 체크\n",
    "#     print(response.status_code) #잘 연결되었는지 체크\n",
    "    soup = BeautifulSoup(response.text, 'html.parser')\n",
    "    rank_els = \n"
   ]
  },
  {
   "cell_type": "code",
   "execution_count": 280,
   "id": "69f8c111",
   "metadata": {},
   "outputs": [
    {
     "name": "stdout",
     "output_type": "stream",
     "text": [
      "[{'순위': [1, 2, 3, 4, 5, 6, 7, 8, 9, 10, 11, 12, 13, 14, 15, 16, 17, 18, 19, 20, 21, 22, 23, 24], '책제목': ['청춘의 독서', '엄마의 말 연습', '단 한 번의 삶', '어른의 품격을 채우는 100일 필사 노트', '이로운 보수 의로운 진보', '소년이 온다', '초역 부처의 말', '어른의 행복은 조용하다', '모순', '듀얼 브레인', '쇼펜하우어 인생수업 : 한 번뿐인 삶 이렇게 살아라 (리커버 에디션)', '빛과 실', '에그박사 15', '혼모노', '위버멘쉬', '친구 사이에도 예의가 필요해', '급류', '괴수 8호 15 트리플특장판', '첫 여름, 완주', '친구가 상처 줄 때 똑똑하게 나를 지키는 법', '결국 국민이 합니다', '워런 버핏 웨이', '서랍에 저녁을 넣어 두었다', '2025 큰별쌤 최태성의 별별한국사 한국사능력검정시험 심화(1,2,3급) 상'], '저자및출판사': ['유시민', '웅진지식하우스', '윤지영', '카시오페아', '김영하', '복복서가', '김종원', '청림Life', '최강욱', '최강혁', '한겨레출판', '한강', '창비', '코이케 류노스케', '박재현', '포레스트북스', '태수', '페이지2북스', '양귀자', '쓰다', '이선 몰릭', '신동숙', '상상스퀘어', '쇼펜하우어', '김지민', '하이스트', '한강', '문학과지성사', '에그박사', '박송이', '홍종현', '주세종', '미래엔아이세움', '성해나', '창비', '프리드리히 니체', '떠오름', '한진아', '지니 킴', '박혜림', '길벗스쿨', '정대건', '민음사', '마츠모토 나오야', '유유리', '서울미디어코믹스(서울문화사)', '김금희', '무제', '이현아', '서영', '한빛에듀', '이재명', '오마이북', '로버트 해그스트롬', '신용우', '상상스퀘어', '한강', '문학과지성사', '최태성', '이투스북 '], '가격': ['17,010', '15,750', '15,120', '18,000', '18,000', '13,500', '16,020', '16,020', '11,700', '18,900', '15,750', '13,500', '14,220', '16,200', '16,020', '15,300', '12,600', '5,400', '15,300', '15,120', '19,800', '29,700', '10,800', '14,850']}, {'순위': [1, 2, 3, 4, 5, 6, 7, 8, 9, 10, 11, 12, 13, 14, 15, 16, 17, 18, 19, 20, 21, 22, 23, 24], '책제목': ['청춘의 독서', '엄마의 말 연습', '단 한 번의 삶', '어른의 품격을 채우는 100일 필사 노트', '이로운 보수 의로운 진보', '소년이 온다', '초역 부처의 말', '어른의 행복은 조용하다', '모순', '듀얼 브레인', '쇼펜하우어 인생수업 : 한 번뿐인 삶 이렇게 살아라 (리커버 에디션)', '빛과 실', '에그박사 15', '혼모노', '위버멘쉬', '친구 사이에도 예의가 필요해', '급류', '괴수 8호 15 트리플특장판', '첫 여름, 완주', '친구가 상처 줄 때 똑똑하게 나를 지키는 법', '결국 국민이 합니다', '워런 버핏 웨이', '서랍에 저녁을 넣어 두었다', '2025 큰별쌤 최태성의 별별한국사 한국사능력검정시험 심화(1,2,3급) 상'], '저자및출판사': ['유시민', '웅진지식하우스', '윤지영', '카시오페아', '김영하', '복복서가', '김종원', '청림Life', '최강욱', '최강혁', '한겨레출판', '한강', '창비', '코이케 류노스케', '박재현', '포레스트북스', '태수', '페이지2북스', '양귀자', '쓰다', '이선 몰릭', '신동숙', '상상스퀘어', '쇼펜하우어', '김지민', '하이스트', '한강', '문학과지성사', '에그박사', '박송이', '홍종현', '주세종', '미래엔아이세움', '성해나', '창비', '프리드리히 니체', '떠오름', '한진아', '지니 킴', '박혜림', '길벗스쿨', '정대건', '민음사', '마츠모토 나오야', '유유리', '서울미디어코믹스(서울문화사)', '김금희', '무제', '이현아', '서영', '한빛에듀', '이재명', '오마이북', '로버트 해그스트롬', '신용우', '상상스퀘어', '한강', '문학과지성사', '최태성', '이투스북 '], '가격': ['17,010', '15,750', '15,120', '18,000', '18,000', '13,500', '16,020', '16,020', '11,700', '18,900', '15,750', '13,500', '14,220', '16,200', '16,020', '15,300', '12,600', '5,400', '15,300', '15,120', '19,800', '29,700', '10,800', '14,850']}, {'순위': [1, 2, 3, 4, 5, 6, 7, 8, 9, 10, 11, 12, 13, 14, 15, 16, 17, 18, 19, 20, 21, 22, 23, 24], '책제목': ['청춘의 독서', '엄마의 말 연습', '단 한 번의 삶', '어른의 품격을 채우는 100일 필사 노트', '이로운 보수 의로운 진보', '소년이 온다', '초역 부처의 말', '어른의 행복은 조용하다', '모순', '듀얼 브레인', '쇼펜하우어 인생수업 : 한 번뿐인 삶 이렇게 살아라 (리커버 에디션)', '빛과 실', '에그박사 15', '혼모노', '위버멘쉬', '친구 사이에도 예의가 필요해', '급류', '괴수 8호 15 트리플특장판', '첫 여름, 완주', '친구가 상처 줄 때 똑똑하게 나를 지키는 법', '결국 국민이 합니다', '워런 버핏 웨이', '서랍에 저녁을 넣어 두었다', '2025 큰별쌤 최태성의 별별한국사 한국사능력검정시험 심화(1,2,3급) 상'], '저자및출판사': ['유시민', '웅진지식하우스', '윤지영', '카시오페아', '김영하', '복복서가', '김종원', '청림Life', '최강욱', '최강혁', '한겨레출판', '한강', '창비', '코이케 류노스케', '박재현', '포레스트북스', '태수', '페이지2북스', '양귀자', '쓰다', '이선 몰릭', '신동숙', '상상스퀘어', '쇼펜하우어', '김지민', '하이스트', '한강', '문학과지성사', '에그박사', '박송이', '홍종현', '주세종', '미래엔아이세움', '성해나', '창비', '프리드리히 니체', '떠오름', '한진아', '지니 킴', '박혜림', '길벗스쿨', '정대건', '민음사', '마츠모토 나오야', '유유리', '서울미디어코믹스(서울문화사)', '김금희', '무제', '이현아', '서영', '한빛에듀', '이재명', '오마이북', '로버트 해그스트롬', '신용우', '상상스퀘어', '한강', '문학과지성사', '최태성', '이투스북 '], '가격': ['17,010', '15,750', '15,120', '18,000', '18,000', '13,500', '16,020', '16,020', '11,700', '18,900', '15,750', '13,500', '14,220', '16,200', '16,020', '15,300', '12,600', '5,400', '15,300', '15,120', '19,800', '29,700', '10,800', '14,850']}, {'순위': [1, 2, 3, 4, 5, 6, 7, 8, 9, 10, 11, 12, 13, 14, 15, 16, 17, 18, 19, 20, 21, 22, 23, 24], '책제목': ['청춘의 독서', '엄마의 말 연습', '단 한 번의 삶', '어른의 품격을 채우는 100일 필사 노트', '이로운 보수 의로운 진보', '소년이 온다', '초역 부처의 말', '어른의 행복은 조용하다', '모순', '듀얼 브레인', '쇼펜하우어 인생수업 : 한 번뿐인 삶 이렇게 살아라 (리커버 에디션)', '빛과 실', '에그박사 15', '혼모노', '위버멘쉬', '친구 사이에도 예의가 필요해', '급류', '괴수 8호 15 트리플특장판', '첫 여름, 완주', '친구가 상처 줄 때 똑똑하게 나를 지키는 법', '결국 국민이 합니다', '워런 버핏 웨이', '서랍에 저녁을 넣어 두었다', '2025 큰별쌤 최태성의 별별한국사 한국사능력검정시험 심화(1,2,3급) 상'], '저자및출판사': ['유시민', '웅진지식하우스', '윤지영', '카시오페아', '김영하', '복복서가', '김종원', '청림Life', '최강욱', '최강혁', '한겨레출판', '한강', '창비', '코이케 류노스케', '박재현', '포레스트북스', '태수', '페이지2북스', '양귀자', '쓰다', '이선 몰릭', '신동숙', '상상스퀘어', '쇼펜하우어', '김지민', '하이스트', '한강', '문학과지성사', '에그박사', '박송이', '홍종현', '주세종', '미래엔아이세움', '성해나', '창비', '프리드리히 니체', '떠오름', '한진아', '지니 킴', '박혜림', '길벗스쿨', '정대건', '민음사', '마츠모토 나오야', '유유리', '서울미디어코믹스(서울문화사)', '김금희', '무제', '이현아', '서영', '한빛에듀', '이재명', '오마이북', '로버트 해그스트롬', '신용우', '상상스퀘어', '한강', '문학과지성사', '최태성', '이투스북 '], '가격': ['17,010', '15,750', '15,120', '18,000', '18,000', '13,500', '16,020', '16,020', '11,700', '18,900', '15,750', '13,500', '14,220', '16,200', '16,020', '15,300', '12,600', '5,400', '15,300', '15,120', '19,800', '29,700', '10,800', '14,850']}, {'순위': [1, 2, 3, 4, 5, 6, 7, 8, 9, 10, 11, 12, 13, 14, 15, 16, 17, 18, 19, 20, 21, 22, 23, 24], '책제목': ['청춘의 독서', '엄마의 말 연습', '단 한 번의 삶', '어른의 품격을 채우는 100일 필사 노트', '이로운 보수 의로운 진보', '소년이 온다', '초역 부처의 말', '어른의 행복은 조용하다', '모순', '듀얼 브레인', '쇼펜하우어 인생수업 : 한 번뿐인 삶 이렇게 살아라 (리커버 에디션)', '빛과 실', '에그박사 15', '혼모노', '위버멘쉬', '친구 사이에도 예의가 필요해', '급류', '괴수 8호 15 트리플특장판', '첫 여름, 완주', '친구가 상처 줄 때 똑똑하게 나를 지키는 법', '결국 국민이 합니다', '워런 버핏 웨이', '서랍에 저녁을 넣어 두었다', '2025 큰별쌤 최태성의 별별한국사 한국사능력검정시험 심화(1,2,3급) 상'], '저자및출판사': ['유시민', '웅진지식하우스', '윤지영', '카시오페아', '김영하', '복복서가', '김종원', '청림Life', '최강욱', '최강혁', '한겨레출판', '한강', '창비', '코이케 류노스케', '박재현', '포레스트북스', '태수', '페이지2북스', '양귀자', '쓰다', '이선 몰릭', '신동숙', '상상스퀘어', '쇼펜하우어', '김지민', '하이스트', '한강', '문학과지성사', '에그박사', '박송이', '홍종현', '주세종', '미래엔아이세움', '성해나', '창비', '프리드리히 니체', '떠오름', '한진아', '지니 킴', '박혜림', '길벗스쿨', '정대건', '민음사', '마츠모토 나오야', '유유리', '서울미디어코믹스(서울문화사)', '김금희', '무제', '이현아', '서영', '한빛에듀', '이재명', '오마이북', '로버트 해그스트롬', '신용우', '상상스퀘어', '한강', '문학과지성사', '최태성', '이투스북 '], '가격': ['17,010', '15,750', '15,120', '18,000', '18,000', '13,500', '16,020', '16,020', '11,700', '18,900', '15,750', '13,500', '14,220', '16,200', '16,020', '15,300', '12,600', '5,400', '15,300', '15,120', '19,800', '29,700', '10,800', '14,850']}, {'순위': [1, 2, 3, 4, 5, 6, 7, 8, 9, 10, 11, 12, 13, 14, 15, 16, 17, 18, 19, 20, 21, 22, 23, 24], '책제목': ['청춘의 독서', '엄마의 말 연습', '단 한 번의 삶', '어른의 품격을 채우는 100일 필사 노트', '이로운 보수 의로운 진보', '소년이 온다', '초역 부처의 말', '어른의 행복은 조용하다', '모순', '듀얼 브레인', '쇼펜하우어 인생수업 : 한 번뿐인 삶 이렇게 살아라 (리커버 에디션)', '빛과 실', '에그박사 15', '혼모노', '위버멘쉬', '친구 사이에도 예의가 필요해', '급류', '괴수 8호 15 트리플특장판', '첫 여름, 완주', '친구가 상처 줄 때 똑똑하게 나를 지키는 법', '결국 국민이 합니다', '워런 버핏 웨이', '서랍에 저녁을 넣어 두었다', '2025 큰별쌤 최태성의 별별한국사 한국사능력검정시험 심화(1,2,3급) 상'], '저자및출판사': ['유시민', '웅진지식하우스', '윤지영', '카시오페아', '김영하', '복복서가', '김종원', '청림Life', '최강욱', '최강혁', '한겨레출판', '한강', '창비', '코이케 류노스케', '박재현', '포레스트북스', '태수', '페이지2북스', '양귀자', '쓰다', '이선 몰릭', '신동숙', '상상스퀘어', '쇼펜하우어', '김지민', '하이스트', '한강', '문학과지성사', '에그박사', '박송이', '홍종현', '주세종', '미래엔아이세움', '성해나', '창비', '프리드리히 니체', '떠오름', '한진아', '지니 킴', '박혜림', '길벗스쿨', '정대건', '민음사', '마츠모토 나오야', '유유리', '서울미디어코믹스(서울문화사)', '김금희', '무제', '이현아', '서영', '한빛에듀', '이재명', '오마이북', '로버트 해그스트롬', '신용우', '상상스퀘어', '한강', '문학과지성사', '최태성', '이투스북 '], '가격': ['17,010', '15,750', '15,120', '18,000', '18,000', '13,500', '16,020', '16,020', '11,700', '18,900', '15,750', '13,500', '14,220', '16,200', '16,020', '15,300', '12,600', '5,400', '15,300', '15,120', '19,800', '29,700', '10,800', '14,850']}, {'순위': [1, 2, 3, 4, 5, 6, 7, 8, 9, 10, 11, 12, 13, 14, 15, 16, 17, 18, 19, 20, 21, 22, 23, 24], '책제목': ['청춘의 독서', '엄마의 말 연습', '단 한 번의 삶', '어른의 품격을 채우는 100일 필사 노트', '이로운 보수 의로운 진보', '소년이 온다', '초역 부처의 말', '어른의 행복은 조용하다', '모순', '듀얼 브레인', '쇼펜하우어 인생수업 : 한 번뿐인 삶 이렇게 살아라 (리커버 에디션)', '빛과 실', '에그박사 15', '혼모노', '위버멘쉬', '친구 사이에도 예의가 필요해', '급류', '괴수 8호 15 트리플특장판', '첫 여름, 완주', '친구가 상처 줄 때 똑똑하게 나를 지키는 법', '결국 국민이 합니다', '워런 버핏 웨이', '서랍에 저녁을 넣어 두었다', '2025 큰별쌤 최태성의 별별한국사 한국사능력검정시험 심화(1,2,3급) 상'], '저자및출판사': ['유시민', '웅진지식하우스', '윤지영', '카시오페아', '김영하', '복복서가', '김종원', '청림Life', '최강욱', '최강혁', '한겨레출판', '한강', '창비', '코이케 류노스케', '박재현', '포레스트북스', '태수', '페이지2북스', '양귀자', '쓰다', '이선 몰릭', '신동숙', '상상스퀘어', '쇼펜하우어', '김지민', '하이스트', '한강', '문학과지성사', '에그박사', '박송이', '홍종현', '주세종', '미래엔아이세움', '성해나', '창비', '프리드리히 니체', '떠오름', '한진아', '지니 킴', '박혜림', '길벗스쿨', '정대건', '민음사', '마츠모토 나오야', '유유리', '서울미디어코믹스(서울문화사)', '김금희', '무제', '이현아', '서영', '한빛에듀', '이재명', '오마이북', '로버트 해그스트롬', '신용우', '상상스퀘어', '한강', '문학과지성사', '최태성', '이투스북 '], '가격': ['17,010', '15,750', '15,120', '18,000', '18,000', '13,500', '16,020', '16,020', '11,700', '18,900', '15,750', '13,500', '14,220', '16,200', '16,020', '15,300', '12,600', '5,400', '15,300', '15,120', '19,800', '29,700', '10,800', '14,850']}, {'순위': [1, 2, 3, 4, 5, 6, 7, 8, 9, 10, 11, 12, 13, 14, 15, 16, 17, 18, 19, 20, 21, 22, 23, 24], '책제목': ['청춘의 독서', '엄마의 말 연습', '단 한 번의 삶', '어른의 품격을 채우는 100일 필사 노트', '이로운 보수 의로운 진보', '소년이 온다', '초역 부처의 말', '어른의 행복은 조용하다', '모순', '듀얼 브레인', '쇼펜하우어 인생수업 : 한 번뿐인 삶 이렇게 살아라 (리커버 에디션)', '빛과 실', '에그박사 15', '혼모노', '위버멘쉬', '친구 사이에도 예의가 필요해', '급류', '괴수 8호 15 트리플특장판', '첫 여름, 완주', '친구가 상처 줄 때 똑똑하게 나를 지키는 법', '결국 국민이 합니다', '워런 버핏 웨이', '서랍에 저녁을 넣어 두었다', '2025 큰별쌤 최태성의 별별한국사 한국사능력검정시험 심화(1,2,3급) 상'], '저자및출판사': ['유시민', '웅진지식하우스', '윤지영', '카시오페아', '김영하', '복복서가', '김종원', '청림Life', '최강욱', '최강혁', '한겨레출판', '한강', '창비', '코이케 류노스케', '박재현', '포레스트북스', '태수', '페이지2북스', '양귀자', '쓰다', '이선 몰릭', '신동숙', '상상스퀘어', '쇼펜하우어', '김지민', '하이스트', '한강', '문학과지성사', '에그박사', '박송이', '홍종현', '주세종', '미래엔아이세움', '성해나', '창비', '프리드리히 니체', '떠오름', '한진아', '지니 킴', '박혜림', '길벗스쿨', '정대건', '민음사', '마츠모토 나오야', '유유리', '서울미디어코믹스(서울문화사)', '김금희', '무제', '이현아', '서영', '한빛에듀', '이재명', '오마이북', '로버트 해그스트롬', '신용우', '상상스퀘어', '한강', '문학과지성사', '최태성', '이투스북 '], '가격': ['17,010', '15,750', '15,120', '18,000', '18,000', '13,500', '16,020', '16,020', '11,700', '18,900', '15,750', '13,500', '14,220', '16,200', '16,020', '15,300', '12,600', '5,400', '15,300', '15,120', '19,800', '29,700', '10,800', '14,850']}, {'순위': [1, 2, 3, 4, 5, 6, 7, 8, 9, 10, 11, 12, 13, 14, 15, 16, 17, 18, 19, 20, 21, 22, 23, 24], '책제목': ['청춘의 독서', '엄마의 말 연습', '단 한 번의 삶', '어른의 품격을 채우는 100일 필사 노트', '이로운 보수 의로운 진보', '소년이 온다', '초역 부처의 말', '어른의 행복은 조용하다', '모순', '듀얼 브레인', '쇼펜하우어 인생수업 : 한 번뿐인 삶 이렇게 살아라 (리커버 에디션)', '빛과 실', '에그박사 15', '혼모노', '위버멘쉬', '친구 사이에도 예의가 필요해', '급류', '괴수 8호 15 트리플특장판', '첫 여름, 완주', '친구가 상처 줄 때 똑똑하게 나를 지키는 법', '결국 국민이 합니다', '워런 버핏 웨이', '서랍에 저녁을 넣어 두었다', '2025 큰별쌤 최태성의 별별한국사 한국사능력검정시험 심화(1,2,3급) 상'], '저자및출판사': ['유시민', '웅진지식하우스', '윤지영', '카시오페아', '김영하', '복복서가', '김종원', '청림Life', '최강욱', '최강혁', '한겨레출판', '한강', '창비', '코이케 류노스케', '박재현', '포레스트북스', '태수', '페이지2북스', '양귀자', '쓰다', '이선 몰릭', '신동숙', '상상스퀘어', '쇼펜하우어', '김지민', '하이스트', '한강', '문학과지성사', '에그박사', '박송이', '홍종현', '주세종', '미래엔아이세움', '성해나', '창비', '프리드리히 니체', '떠오름', '한진아', '지니 킴', '박혜림', '길벗스쿨', '정대건', '민음사', '마츠모토 나오야', '유유리', '서울미디어코믹스(서울문화사)', '김금희', '무제', '이현아', '서영', '한빛에듀', '이재명', '오마이북', '로버트 해그스트롬', '신용우', '상상스퀘어', '한강', '문학과지성사', '최태성', '이투스북 '], '가격': ['17,010', '15,750', '15,120', '18,000', '18,000', '13,500', '16,020', '16,020', '11,700', '18,900', '15,750', '13,500', '14,220', '16,200', '16,020', '15,300', '12,600', '5,400', '15,300', '15,120', '19,800', '29,700', '10,800', '14,850']}, {'순위': [1, 2, 3, 4, 5, 6, 7, 8, 9, 10, 11, 12, 13, 14, 15, 16, 17, 18, 19, 20, 21, 22, 23, 24], '책제목': ['청춘의 독서', '엄마의 말 연습', '단 한 번의 삶', '어른의 품격을 채우는 100일 필사 노트', '이로운 보수 의로운 진보', '소년이 온다', '초역 부처의 말', '어른의 행복은 조용하다', '모순', '듀얼 브레인', '쇼펜하우어 인생수업 : 한 번뿐인 삶 이렇게 살아라 (리커버 에디션)', '빛과 실', '에그박사 15', '혼모노', '위버멘쉬', '친구 사이에도 예의가 필요해', '급류', '괴수 8호 15 트리플특장판', '첫 여름, 완주', '친구가 상처 줄 때 똑똑하게 나를 지키는 법', '결국 국민이 합니다', '워런 버핏 웨이', '서랍에 저녁을 넣어 두었다', '2025 큰별쌤 최태성의 별별한국사 한국사능력검정시험 심화(1,2,3급) 상'], '저자및출판사': ['유시민', '웅진지식하우스', '윤지영', '카시오페아', '김영하', '복복서가', '김종원', '청림Life', '최강욱', '최강혁', '한겨레출판', '한강', '창비', '코이케 류노스케', '박재현', '포레스트북스', '태수', '페이지2북스', '양귀자', '쓰다', '이선 몰릭', '신동숙', '상상스퀘어', '쇼펜하우어', '김지민', '하이스트', '한강', '문학과지성사', '에그박사', '박송이', '홍종현', '주세종', '미래엔아이세움', '성해나', '창비', '프리드리히 니체', '떠오름', '한진아', '지니 킴', '박혜림', '길벗스쿨', '정대건', '민음사', '마츠모토 나오야', '유유리', '서울미디어코믹스(서울문화사)', '김금희', '무제', '이현아', '서영', '한빛에듀', '이재명', '오마이북', '로버트 해그스트롬', '신용우', '상상스퀘어', '한강', '문학과지성사', '최태성', '이투스북 '], '가격': ['17,010', '15,750', '15,120', '18,000', '18,000', '13,500', '16,020', '16,020', '11,700', '18,900', '15,750', '13,500', '14,220', '16,200', '16,020', '15,300', '12,600', '5,400', '15,300', '15,120', '19,800', '29,700', '10,800', '14,850']}, {'순위': [1, 2, 3, 4, 5, 6, 7, 8, 9, 10, 11, 12, 13, 14, 15, 16, 17, 18, 19, 20, 21, 22, 23, 24], '책제목': ['청춘의 독서', '엄마의 말 연습', '단 한 번의 삶', '어른의 품격을 채우는 100일 필사 노트', '이로운 보수 의로운 진보', '소년이 온다', '초역 부처의 말', '어른의 행복은 조용하다', '모순', '듀얼 브레인', '쇼펜하우어 인생수업 : 한 번뿐인 삶 이렇게 살아라 (리커버 에디션)', '빛과 실', '에그박사 15', '혼모노', '위버멘쉬', '친구 사이에도 예의가 필요해', '급류', '괴수 8호 15 트리플특장판', '첫 여름, 완주', '친구가 상처 줄 때 똑똑하게 나를 지키는 법', '결국 국민이 합니다', '워런 버핏 웨이', '서랍에 저녁을 넣어 두었다', '2025 큰별쌤 최태성의 별별한국사 한국사능력검정시험 심화(1,2,3급) 상'], '저자및출판사': ['유시민', '웅진지식하우스', '윤지영', '카시오페아', '김영하', '복복서가', '김종원', '청림Life', '최강욱', '최강혁', '한겨레출판', '한강', '창비', '코이케 류노스케', '박재현', '포레스트북스', '태수', '페이지2북스', '양귀자', '쓰다', '이선 몰릭', '신동숙', '상상스퀘어', '쇼펜하우어', '김지민', '하이스트', '한강', '문학과지성사', '에그박사', '박송이', '홍종현', '주세종', '미래엔아이세움', '성해나', '창비', '프리드리히 니체', '떠오름', '한진아', '지니 킴', '박혜림', '길벗스쿨', '정대건', '민음사', '마츠모토 나오야', '유유리', '서울미디어코믹스(서울문화사)', '김금희', '무제', '이현아', '서영', '한빛에듀', '이재명', '오마이북', '로버트 해그스트롬', '신용우', '상상스퀘어', '한강', '문학과지성사', '최태성', '이투스북 '], '가격': ['17,010', '15,750', '15,120', '18,000', '18,000', '13,500', '16,020', '16,020', '11,700', '18,900', '15,750', '13,500', '14,220', '16,200', '16,020', '15,300', '12,600', '5,400', '15,300', '15,120', '19,800', '29,700', '10,800', '14,850']}, {'순위': [1, 2, 3, 4, 5, 6, 7, 8, 9, 10, 11, 12, 13, 14, 15, 16, 17, 18, 19, 20, 21, 22, 23, 24], '책제목': ['청춘의 독서', '엄마의 말 연습', '단 한 번의 삶', '어른의 품격을 채우는 100일 필사 노트', '이로운 보수 의로운 진보', '소년이 온다', '초역 부처의 말', '어른의 행복은 조용하다', '모순', '듀얼 브레인', '쇼펜하우어 인생수업 : 한 번뿐인 삶 이렇게 살아라 (리커버 에디션)', '빛과 실', '에그박사 15', '혼모노', '위버멘쉬', '친구 사이에도 예의가 필요해', '급류', '괴수 8호 15 트리플특장판', '첫 여름, 완주', '친구가 상처 줄 때 똑똑하게 나를 지키는 법', '결국 국민이 합니다', '워런 버핏 웨이', '서랍에 저녁을 넣어 두었다', '2025 큰별쌤 최태성의 별별한국사 한국사능력검정시험 심화(1,2,3급) 상'], '저자및출판사': ['유시민', '웅진지식하우스', '윤지영', '카시오페아', '김영하', '복복서가', '김종원', '청림Life', '최강욱', '최강혁', '한겨레출판', '한강', '창비', '코이케 류노스케', '박재현', '포레스트북스', '태수', '페이지2북스', '양귀자', '쓰다', '이선 몰릭', '신동숙', '상상스퀘어', '쇼펜하우어', '김지민', '하이스트', '한강', '문학과지성사', '에그박사', '박송이', '홍종현', '주세종', '미래엔아이세움', '성해나', '창비', '프리드리히 니체', '떠오름', '한진아', '지니 킴', '박혜림', '길벗스쿨', '정대건', '민음사', '마츠모토 나오야', '유유리', '서울미디어코믹스(서울문화사)', '김금희', '무제', '이현아', '서영', '한빛에듀', '이재명', '오마이북', '로버트 해그스트롬', '신용우', '상상스퀘어', '한강', '문학과지성사', '최태성', '이투스북 '], '가격': ['17,010', '15,750', '15,120', '18,000', '18,000', '13,500', '16,020', '16,020', '11,700', '18,900', '15,750', '13,500', '14,220', '16,200', '16,020', '15,300', '12,600', '5,400', '15,300', '15,120', '19,800', '29,700', '10,800', '14,850']}, {'순위': [1, 2, 3, 4, 5, 6, 7, 8, 9, 10, 11, 12, 13, 14, 15, 16, 17, 18, 19, 20, 21, 22, 23, 24], '책제목': ['청춘의 독서', '엄마의 말 연습', '단 한 번의 삶', '어른의 품격을 채우는 100일 필사 노트', '이로운 보수 의로운 진보', '소년이 온다', '초역 부처의 말', '어른의 행복은 조용하다', '모순', '듀얼 브레인', '쇼펜하우어 인생수업 : 한 번뿐인 삶 이렇게 살아라 (리커버 에디션)', '빛과 실', '에그박사 15', '혼모노', '위버멘쉬', '친구 사이에도 예의가 필요해', '급류', '괴수 8호 15 트리플특장판', '첫 여름, 완주', '친구가 상처 줄 때 똑똑하게 나를 지키는 법', '결국 국민이 합니다', '워런 버핏 웨이', '서랍에 저녁을 넣어 두었다', '2025 큰별쌤 최태성의 별별한국사 한국사능력검정시험 심화(1,2,3급) 상'], '저자및출판사': ['유시민', '웅진지식하우스', '윤지영', '카시오페아', '김영하', '복복서가', '김종원', '청림Life', '최강욱', '최강혁', '한겨레출판', '한강', '창비', '코이케 류노스케', '박재현', '포레스트북스', '태수', '페이지2북스', '양귀자', '쓰다', '이선 몰릭', '신동숙', '상상스퀘어', '쇼펜하우어', '김지민', '하이스트', '한강', '문학과지성사', '에그박사', '박송이', '홍종현', '주세종', '미래엔아이세움', '성해나', '창비', '프리드리히 니체', '떠오름', '한진아', '지니 킴', '박혜림', '길벗스쿨', '정대건', '민음사', '마츠모토 나오야', '유유리', '서울미디어코믹스(서울문화사)', '김금희', '무제', '이현아', '서영', '한빛에듀', '이재명', '오마이북', '로버트 해그스트롬', '신용우', '상상스퀘어', '한강', '문학과지성사', '최태성', '이투스북 '], '가격': ['17,010', '15,750', '15,120', '18,000', '18,000', '13,500', '16,020', '16,020', '11,700', '18,900', '15,750', '13,500', '14,220', '16,200', '16,020', '15,300', '12,600', '5,400', '15,300', '15,120', '19,800', '29,700', '10,800', '14,850']}, {'순위': [1, 2, 3, 4, 5, 6, 7, 8, 9, 10, 11, 12, 13, 14, 15, 16, 17, 18, 19, 20, 21, 22, 23, 24], '책제목': ['청춘의 독서', '엄마의 말 연습', '단 한 번의 삶', '어른의 품격을 채우는 100일 필사 노트', '이로운 보수 의로운 진보', '소년이 온다', '초역 부처의 말', '어른의 행복은 조용하다', '모순', '듀얼 브레인', '쇼펜하우어 인생수업 : 한 번뿐인 삶 이렇게 살아라 (리커버 에디션)', '빛과 실', '에그박사 15', '혼모노', '위버멘쉬', '친구 사이에도 예의가 필요해', '급류', '괴수 8호 15 트리플특장판', '첫 여름, 완주', '친구가 상처 줄 때 똑똑하게 나를 지키는 법', '결국 국민이 합니다', '워런 버핏 웨이', '서랍에 저녁을 넣어 두었다', '2025 큰별쌤 최태성의 별별한국사 한국사능력검정시험 심화(1,2,3급) 상'], '저자및출판사': ['유시민', '웅진지식하우스', '윤지영', '카시오페아', '김영하', '복복서가', '김종원', '청림Life', '최강욱', '최강혁', '한겨레출판', '한강', '창비', '코이케 류노스케', '박재현', '포레스트북스', '태수', '페이지2북스', '양귀자', '쓰다', '이선 몰릭', '신동숙', '상상스퀘어', '쇼펜하우어', '김지민', '하이스트', '한강', '문학과지성사', '에그박사', '박송이', '홍종현', '주세종', '미래엔아이세움', '성해나', '창비', '프리드리히 니체', '떠오름', '한진아', '지니 킴', '박혜림', '길벗스쿨', '정대건', '민음사', '마츠모토 나오야', '유유리', '서울미디어코믹스(서울문화사)', '김금희', '무제', '이현아', '서영', '한빛에듀', '이재명', '오마이북', '로버트 해그스트롬', '신용우', '상상스퀘어', '한강', '문학과지성사', '최태성', '이투스북 '], '가격': ['17,010', '15,750', '15,120', '18,000', '18,000', '13,500', '16,020', '16,020', '11,700', '18,900', '15,750', '13,500', '14,220', '16,200', '16,020', '15,300', '12,600', '5,400', '15,300', '15,120', '19,800', '29,700', '10,800', '14,850']}, {'순위': [1, 2, 3, 4, 5, 6, 7, 8, 9, 10, 11, 12, 13, 14, 15, 16, 17, 18, 19, 20, 21, 22, 23, 24], '책제목': ['청춘의 독서', '엄마의 말 연습', '단 한 번의 삶', '어른의 품격을 채우는 100일 필사 노트', '이로운 보수 의로운 진보', '소년이 온다', '초역 부처의 말', '어른의 행복은 조용하다', '모순', '듀얼 브레인', '쇼펜하우어 인생수업 : 한 번뿐인 삶 이렇게 살아라 (리커버 에디션)', '빛과 실', '에그박사 15', '혼모노', '위버멘쉬', '친구 사이에도 예의가 필요해', '급류', '괴수 8호 15 트리플특장판', '첫 여름, 완주', '친구가 상처 줄 때 똑똑하게 나를 지키는 법', '결국 국민이 합니다', '워런 버핏 웨이', '서랍에 저녁을 넣어 두었다', '2025 큰별쌤 최태성의 별별한국사 한국사능력검정시험 심화(1,2,3급) 상'], '저자및출판사': ['유시민', '웅진지식하우스', '윤지영', '카시오페아', '김영하', '복복서가', '김종원', '청림Life', '최강욱', '최강혁', '한겨레출판', '한강', '창비', '코이케 류노스케', '박재현', '포레스트북스', '태수', '페이지2북스', '양귀자', '쓰다', '이선 몰릭', '신동숙', '상상스퀘어', '쇼펜하우어', '김지민', '하이스트', '한강', '문학과지성사', '에그박사', '박송이', '홍종현', '주세종', '미래엔아이세움', '성해나', '창비', '프리드리히 니체', '떠오름', '한진아', '지니 킴', '박혜림', '길벗스쿨', '정대건', '민음사', '마츠모토 나오야', '유유리', '서울미디어코믹스(서울문화사)', '김금희', '무제', '이현아', '서영', '한빛에듀', '이재명', '오마이북', '로버트 해그스트롬', '신용우', '상상스퀘어', '한강', '문학과지성사', '최태성', '이투스북 '], '가격': ['17,010', '15,750', '15,120', '18,000', '18,000', '13,500', '16,020', '16,020', '11,700', '18,900', '15,750', '13,500', '14,220', '16,200', '16,020', '15,300', '12,600', '5,400', '15,300', '15,120', '19,800', '29,700', '10,800', '14,850']}, {'순위': [1, 2, 3, 4, 5, 6, 7, 8, 9, 10, 11, 12, 13, 14, 15, 16, 17, 18, 19, 20, 21, 22, 23, 24], '책제목': ['청춘의 독서', '엄마의 말 연습', '단 한 번의 삶', '어른의 품격을 채우는 100일 필사 노트', '이로운 보수 의로운 진보', '소년이 온다', '초역 부처의 말', '어른의 행복은 조용하다', '모순', '듀얼 브레인', '쇼펜하우어 인생수업 : 한 번뿐인 삶 이렇게 살아라 (리커버 에디션)', '빛과 실', '에그박사 15', '혼모노', '위버멘쉬', '친구 사이에도 예의가 필요해', '급류', '괴수 8호 15 트리플특장판', '첫 여름, 완주', '친구가 상처 줄 때 똑똑하게 나를 지키는 법', '결국 국민이 합니다', '워런 버핏 웨이', '서랍에 저녁을 넣어 두었다', '2025 큰별쌤 최태성의 별별한국사 한국사능력검정시험 심화(1,2,3급) 상'], '저자및출판사': ['유시민', '웅진지식하우스', '윤지영', '카시오페아', '김영하', '복복서가', '김종원', '청림Life', '최강욱', '최강혁', '한겨레출판', '한강', '창비', '코이케 류노스케', '박재현', '포레스트북스', '태수', '페이지2북스', '양귀자', '쓰다', '이선 몰릭', '신동숙', '상상스퀘어', '쇼펜하우어', '김지민', '하이스트', '한강', '문학과지성사', '에그박사', '박송이', '홍종현', '주세종', '미래엔아이세움', '성해나', '창비', '프리드리히 니체', '떠오름', '한진아', '지니 킴', '박혜림', '길벗스쿨', '정대건', '민음사', '마츠모토 나오야', '유유리', '서울미디어코믹스(서울문화사)', '김금희', '무제', '이현아', '서영', '한빛에듀', '이재명', '오마이북', '로버트 해그스트롬', '신용우', '상상스퀘어', '한강', '문학과지성사', '최태성', '이투스북 '], '가격': ['17,010', '15,750', '15,120', '18,000', '18,000', '13,500', '16,020', '16,020', '11,700', '18,900', '15,750', '13,500', '14,220', '16,200', '16,020', '15,300', '12,600', '5,400', '15,300', '15,120', '19,800', '29,700', '10,800', '14,850']}, {'순위': [1, 2, 3, 4, 5, 6, 7, 8, 9, 10, 11, 12, 13, 14, 15, 16, 17, 18, 19, 20, 21, 22, 23, 24], '책제목': ['청춘의 독서', '엄마의 말 연습', '단 한 번의 삶', '어른의 품격을 채우는 100일 필사 노트', '이로운 보수 의로운 진보', '소년이 온다', '초역 부처의 말', '어른의 행복은 조용하다', '모순', '듀얼 브레인', '쇼펜하우어 인생수업 : 한 번뿐인 삶 이렇게 살아라 (리커버 에디션)', '빛과 실', '에그박사 15', '혼모노', '위버멘쉬', '친구 사이에도 예의가 필요해', '급류', '괴수 8호 15 트리플특장판', '첫 여름, 완주', '친구가 상처 줄 때 똑똑하게 나를 지키는 법', '결국 국민이 합니다', '워런 버핏 웨이', '서랍에 저녁을 넣어 두었다', '2025 큰별쌤 최태성의 별별한국사 한국사능력검정시험 심화(1,2,3급) 상'], '저자및출판사': ['유시민', '웅진지식하우스', '윤지영', '카시오페아', '김영하', '복복서가', '김종원', '청림Life', '최강욱', '최강혁', '한겨레출판', '한강', '창비', '코이케 류노스케', '박재현', '포레스트북스', '태수', '페이지2북스', '양귀자', '쓰다', '이선 몰릭', '신동숙', '상상스퀘어', '쇼펜하우어', '김지민', '하이스트', '한강', '문학과지성사', '에그박사', '박송이', '홍종현', '주세종', '미래엔아이세움', '성해나', '창비', '프리드리히 니체', '떠오름', '한진아', '지니 킴', '박혜림', '길벗스쿨', '정대건', '민음사', '마츠모토 나오야', '유유리', '서울미디어코믹스(서울문화사)', '김금희', '무제', '이현아', '서영', '한빛에듀', '이재명', '오마이북', '로버트 해그스트롬', '신용우', '상상스퀘어', '한강', '문학과지성사', '최태성', '이투스북 '], '가격': ['17,010', '15,750', '15,120', '18,000', '18,000', '13,500', '16,020', '16,020', '11,700', '18,900', '15,750', '13,500', '14,220', '16,200', '16,020', '15,300', '12,600', '5,400', '15,300', '15,120', '19,800', '29,700', '10,800', '14,850']}, {'순위': [1, 2, 3, 4, 5, 6, 7, 8, 9, 10, 11, 12, 13, 14, 15, 16, 17, 18, 19, 20, 21, 22, 23, 24], '책제목': ['청춘의 독서', '엄마의 말 연습', '단 한 번의 삶', '어른의 품격을 채우는 100일 필사 노트', '이로운 보수 의로운 진보', '소년이 온다', '초역 부처의 말', '어른의 행복은 조용하다', '모순', '듀얼 브레인', '쇼펜하우어 인생수업 : 한 번뿐인 삶 이렇게 살아라 (리커버 에디션)', '빛과 실', '에그박사 15', '혼모노', '위버멘쉬', '친구 사이에도 예의가 필요해', '급류', '괴수 8호 15 트리플특장판', '첫 여름, 완주', '친구가 상처 줄 때 똑똑하게 나를 지키는 법', '결국 국민이 합니다', '워런 버핏 웨이', '서랍에 저녁을 넣어 두었다', '2025 큰별쌤 최태성의 별별한국사 한국사능력검정시험 심화(1,2,3급) 상'], '저자및출판사': ['유시민', '웅진지식하우스', '윤지영', '카시오페아', '김영하', '복복서가', '김종원', '청림Life', '최강욱', '최강혁', '한겨레출판', '한강', '창비', '코이케 류노스케', '박재현', '포레스트북스', '태수', '페이지2북스', '양귀자', '쓰다', '이선 몰릭', '신동숙', '상상스퀘어', '쇼펜하우어', '김지민', '하이스트', '한강', '문학과지성사', '에그박사', '박송이', '홍종현', '주세종', '미래엔아이세움', '성해나', '창비', '프리드리히 니체', '떠오름', '한진아', '지니 킴', '박혜림', '길벗스쿨', '정대건', '민음사', '마츠모토 나오야', '유유리', '서울미디어코믹스(서울문화사)', '김금희', '무제', '이현아', '서영', '한빛에듀', '이재명', '오마이북', '로버트 해그스트롬', '신용우', '상상스퀘어', '한강', '문학과지성사', '최태성', '이투스북 '], '가격': ['17,010', '15,750', '15,120', '18,000', '18,000', '13,500', '16,020', '16,020', '11,700', '18,900', '15,750', '13,500', '14,220', '16,200', '16,020', '15,300', '12,600', '5,400', '15,300', '15,120', '19,800', '29,700', '10,800', '14,850']}, {'순위': [1, 2, 3, 4, 5, 6, 7, 8, 9, 10, 11, 12, 13, 14, 15, 16, 17, 18, 19, 20, 21, 22, 23, 24], '책제목': ['청춘의 독서', '엄마의 말 연습', '단 한 번의 삶', '어른의 품격을 채우는 100일 필사 노트', '이로운 보수 의로운 진보', '소년이 온다', '초역 부처의 말', '어른의 행복은 조용하다', '모순', '듀얼 브레인', '쇼펜하우어 인생수업 : 한 번뿐인 삶 이렇게 살아라 (리커버 에디션)', '빛과 실', '에그박사 15', '혼모노', '위버멘쉬', '친구 사이에도 예의가 필요해', '급류', '괴수 8호 15 트리플특장판', '첫 여름, 완주', '친구가 상처 줄 때 똑똑하게 나를 지키는 법', '결국 국민이 합니다', '워런 버핏 웨이', '서랍에 저녁을 넣어 두었다', '2025 큰별쌤 최태성의 별별한국사 한국사능력검정시험 심화(1,2,3급) 상'], '저자및출판사': ['유시민', '웅진지식하우스', '윤지영', '카시오페아', '김영하', '복복서가', '김종원', '청림Life', '최강욱', '최강혁', '한겨레출판', '한강', '창비', '코이케 류노스케', '박재현', '포레스트북스', '태수', '페이지2북스', '양귀자', '쓰다', '이선 몰릭', '신동숙', '상상스퀘어', '쇼펜하우어', '김지민', '하이스트', '한강', '문학과지성사', '에그박사', '박송이', '홍종현', '주세종', '미래엔아이세움', '성해나', '창비', '프리드리히 니체', '떠오름', '한진아', '지니 킴', '박혜림', '길벗스쿨', '정대건', '민음사', '마츠모토 나오야', '유유리', '서울미디어코믹스(서울문화사)', '김금희', '무제', '이현아', '서영', '한빛에듀', '이재명', '오마이북', '로버트 해그스트롬', '신용우', '상상스퀘어', '한강', '문학과지성사', '최태성', '이투스북 '], '가격': ['17,010', '15,750', '15,120', '18,000', '18,000', '13,500', '16,020', '16,020', '11,700', '18,900', '15,750', '13,500', '14,220', '16,200', '16,020', '15,300', '12,600', '5,400', '15,300', '15,120', '19,800', '29,700', '10,800', '14,850']}, {'순위': [1, 2, 3, 4, 5, 6, 7, 8, 9, 10, 11, 12, 13, 14, 15, 16, 17, 18, 19, 20, 21, 22, 23, 24], '책제목': ['청춘의 독서', '엄마의 말 연습', '단 한 번의 삶', '어른의 품격을 채우는 100일 필사 노트', '이로운 보수 의로운 진보', '소년이 온다', '초역 부처의 말', '어른의 행복은 조용하다', '모순', '듀얼 브레인', '쇼펜하우어 인생수업 : 한 번뿐인 삶 이렇게 살아라 (리커버 에디션)', '빛과 실', '에그박사 15', '혼모노', '위버멘쉬', '친구 사이에도 예의가 필요해', '급류', '괴수 8호 15 트리플특장판', '첫 여름, 완주', '친구가 상처 줄 때 똑똑하게 나를 지키는 법', '결국 국민이 합니다', '워런 버핏 웨이', '서랍에 저녁을 넣어 두었다', '2025 큰별쌤 최태성의 별별한국사 한국사능력검정시험 심화(1,2,3급) 상'], '저자및출판사': ['유시민', '웅진지식하우스', '윤지영', '카시오페아', '김영하', '복복서가', '김종원', '청림Life', '최강욱', '최강혁', '한겨레출판', '한강', '창비', '코이케 류노스케', '박재현', '포레스트북스', '태수', '페이지2북스', '양귀자', '쓰다', '이선 몰릭', '신동숙', '상상스퀘어', '쇼펜하우어', '김지민', '하이스트', '한강', '문학과지성사', '에그박사', '박송이', '홍종현', '주세종', '미래엔아이세움', '성해나', '창비', '프리드리히 니체', '떠오름', '한진아', '지니 킴', '박혜림', '길벗스쿨', '정대건', '민음사', '마츠모토 나오야', '유유리', '서울미디어코믹스(서울문화사)', '김금희', '무제', '이현아', '서영', '한빛에듀', '이재명', '오마이북', '로버트 해그스트롬', '신용우', '상상스퀘어', '한강', '문학과지성사', '최태성', '이투스북 '], '가격': ['17,010', '15,750', '15,120', '18,000', '18,000', '13,500', '16,020', '16,020', '11,700', '18,900', '15,750', '13,500', '14,220', '16,200', '16,020', '15,300', '12,600', '5,400', '15,300', '15,120', '19,800', '29,700', '10,800', '14,850']}, {'순위': [1, 2, 3, 4, 5, 6, 7, 8, 9, 10, 11, 12, 13, 14, 15, 16, 17, 18, 19, 20, 21, 22, 23, 24], '책제목': ['청춘의 독서', '엄마의 말 연습', '단 한 번의 삶', '어른의 품격을 채우는 100일 필사 노트', '이로운 보수 의로운 진보', '소년이 온다', '초역 부처의 말', '어른의 행복은 조용하다', '모순', '듀얼 브레인', '쇼펜하우어 인생수업 : 한 번뿐인 삶 이렇게 살아라 (리커버 에디션)', '빛과 실', '에그박사 15', '혼모노', '위버멘쉬', '친구 사이에도 예의가 필요해', '급류', '괴수 8호 15 트리플특장판', '첫 여름, 완주', '친구가 상처 줄 때 똑똑하게 나를 지키는 법', '결국 국민이 합니다', '워런 버핏 웨이', '서랍에 저녁을 넣어 두었다', '2025 큰별쌤 최태성의 별별한국사 한국사능력검정시험 심화(1,2,3급) 상'], '저자및출판사': ['유시민', '웅진지식하우스', '윤지영', '카시오페아', '김영하', '복복서가', '김종원', '청림Life', '최강욱', '최강혁', '한겨레출판', '한강', '창비', '코이케 류노스케', '박재현', '포레스트북스', '태수', '페이지2북스', '양귀자', '쓰다', '이선 몰릭', '신동숙', '상상스퀘어', '쇼펜하우어', '김지민', '하이스트', '한강', '문학과지성사', '에그박사', '박송이', '홍종현', '주세종', '미래엔아이세움', '성해나', '창비', '프리드리히 니체', '떠오름', '한진아', '지니 킴', '박혜림', '길벗스쿨', '정대건', '민음사', '마츠모토 나오야', '유유리', '서울미디어코믹스(서울문화사)', '김금희', '무제', '이현아', '서영', '한빛에듀', '이재명', '오마이북', '로버트 해그스트롬', '신용우', '상상스퀘어', '한강', '문학과지성사', '최태성', '이투스북 '], '가격': ['17,010', '15,750', '15,120', '18,000', '18,000', '13,500', '16,020', '16,020', '11,700', '18,900', '15,750', '13,500', '14,220', '16,200', '16,020', '15,300', '12,600', '5,400', '15,300', '15,120', '19,800', '29,700', '10,800', '14,850']}, {'순위': [1, 2, 3, 4, 5, 6, 7, 8, 9, 10, 11, 12, 13, 14, 15, 16, 17, 18, 19, 20, 21, 22, 23, 24], '책제목': ['청춘의 독서', '엄마의 말 연습', '단 한 번의 삶', '어른의 품격을 채우는 100일 필사 노트', '이로운 보수 의로운 진보', '소년이 온다', '초역 부처의 말', '어른의 행복은 조용하다', '모순', '듀얼 브레인', '쇼펜하우어 인생수업 : 한 번뿐인 삶 이렇게 살아라 (리커버 에디션)', '빛과 실', '에그박사 15', '혼모노', '위버멘쉬', '친구 사이에도 예의가 필요해', '급류', '괴수 8호 15 트리플특장판', '첫 여름, 완주', '친구가 상처 줄 때 똑똑하게 나를 지키는 법', '결국 국민이 합니다', '워런 버핏 웨이', '서랍에 저녁을 넣어 두었다', '2025 큰별쌤 최태성의 별별한국사 한국사능력검정시험 심화(1,2,3급) 상'], '저자및출판사': ['유시민', '웅진지식하우스', '윤지영', '카시오페아', '김영하', '복복서가', '김종원', '청림Life', '최강욱', '최강혁', '한겨레출판', '한강', '창비', '코이케 류노스케', '박재현', '포레스트북스', '태수', '페이지2북스', '양귀자', '쓰다', '이선 몰릭', '신동숙', '상상스퀘어', '쇼펜하우어', '김지민', '하이스트', '한강', '문학과지성사', '에그박사', '박송이', '홍종현', '주세종', '미래엔아이세움', '성해나', '창비', '프리드리히 니체', '떠오름', '한진아', '지니 킴', '박혜림', '길벗스쿨', '정대건', '민음사', '마츠모토 나오야', '유유리', '서울미디어코믹스(서울문화사)', '김금희', '무제', '이현아', '서영', '한빛에듀', '이재명', '오마이북', '로버트 해그스트롬', '신용우', '상상스퀘어', '한강', '문학과지성사', '최태성', '이투스북 '], '가격': ['17,010', '15,750', '15,120', '18,000', '18,000', '13,500', '16,020', '16,020', '11,700', '18,900', '15,750', '13,500', '14,220', '16,200', '16,020', '15,300', '12,600', '5,400', '15,300', '15,120', '19,800', '29,700', '10,800', '14,850']}, {'순위': [1, 2, 3, 4, 5, 6, 7, 8, 9, 10, 11, 12, 13, 14, 15, 16, 17, 18, 19, 20, 21, 22, 23, 24], '책제목': ['청춘의 독서', '엄마의 말 연습', '단 한 번의 삶', '어른의 품격을 채우는 100일 필사 노트', '이로운 보수 의로운 진보', '소년이 온다', '초역 부처의 말', '어른의 행복은 조용하다', '모순', '듀얼 브레인', '쇼펜하우어 인생수업 : 한 번뿐인 삶 이렇게 살아라 (리커버 에디션)', '빛과 실', '에그박사 15', '혼모노', '위버멘쉬', '친구 사이에도 예의가 필요해', '급류', '괴수 8호 15 트리플특장판', '첫 여름, 완주', '친구가 상처 줄 때 똑똑하게 나를 지키는 법', '결국 국민이 합니다', '워런 버핏 웨이', '서랍에 저녁을 넣어 두었다', '2025 큰별쌤 최태성의 별별한국사 한국사능력검정시험 심화(1,2,3급) 상'], '저자및출판사': ['유시민', '웅진지식하우스', '윤지영', '카시오페아', '김영하', '복복서가', '김종원', '청림Life', '최강욱', '최강혁', '한겨레출판', '한강', '창비', '코이케 류노스케', '박재현', '포레스트북스', '태수', '페이지2북스', '양귀자', '쓰다', '이선 몰릭', '신동숙', '상상스퀘어', '쇼펜하우어', '김지민', '하이스트', '한강', '문학과지성사', '에그박사', '박송이', '홍종현', '주세종', '미래엔아이세움', '성해나', '창비', '프리드리히 니체', '떠오름', '한진아', '지니 킴', '박혜림', '길벗스쿨', '정대건', '민음사', '마츠모토 나오야', '유유리', '서울미디어코믹스(서울문화사)', '김금희', '무제', '이현아', '서영', '한빛에듀', '이재명', '오마이북', '로버트 해그스트롬', '신용우', '상상스퀘어', '한강', '문학과지성사', '최태성', '이투스북 '], '가격': ['17,010', '15,750', '15,120', '18,000', '18,000', '13,500', '16,020', '16,020', '11,700', '18,900', '15,750', '13,500', '14,220', '16,200', '16,020', '15,300', '12,600', '5,400', '15,300', '15,120', '19,800', '29,700', '10,800', '14,850']}, {'순위': [1, 2, 3, 4, 5, 6, 7, 8, 9, 10, 11, 12, 13, 14, 15, 16, 17, 18, 19, 20, 21, 22, 23, 24], '책제목': ['청춘의 독서', '엄마의 말 연습', '단 한 번의 삶', '어른의 품격을 채우는 100일 필사 노트', '이로운 보수 의로운 진보', '소년이 온다', '초역 부처의 말', '어른의 행복은 조용하다', '모순', '듀얼 브레인', '쇼펜하우어 인생수업 : 한 번뿐인 삶 이렇게 살아라 (리커버 에디션)', '빛과 실', '에그박사 15', '혼모노', '위버멘쉬', '친구 사이에도 예의가 필요해', '급류', '괴수 8호 15 트리플특장판', '첫 여름, 완주', '친구가 상처 줄 때 똑똑하게 나를 지키는 법', '결국 국민이 합니다', '워런 버핏 웨이', '서랍에 저녁을 넣어 두었다', '2025 큰별쌤 최태성의 별별한국사 한국사능력검정시험 심화(1,2,3급) 상'], '저자및출판사': ['유시민', '웅진지식하우스', '윤지영', '카시오페아', '김영하', '복복서가', '김종원', '청림Life', '최강욱', '최강혁', '한겨레출판', '한강', '창비', '코이케 류노스케', '박재현', '포레스트북스', '태수', '페이지2북스', '양귀자', '쓰다', '이선 몰릭', '신동숙', '상상스퀘어', '쇼펜하우어', '김지민', '하이스트', '한강', '문학과지성사', '에그박사', '박송이', '홍종현', '주세종', '미래엔아이세움', '성해나', '창비', '프리드리히 니체', '떠오름', '한진아', '지니 킴', '박혜림', '길벗스쿨', '정대건', '민음사', '마츠모토 나오야', '유유리', '서울미디어코믹스(서울문화사)', '김금희', '무제', '이현아', '서영', '한빛에듀', '이재명', '오마이북', '로버트 해그스트롬', '신용우', '상상스퀘어', '한강', '문학과지성사', '최태성', '이투스북 '], '가격': ['17,010', '15,750', '15,120', '18,000', '18,000', '13,500', '16,020', '16,020', '11,700', '18,900', '15,750', '13,500', '14,220', '16,200', '16,020', '15,300', '12,600', '5,400', '15,300', '15,120', '19,800', '29,700', '10,800', '14,850']}, {'순위': [1, 2, 3, 4, 5, 6, 7, 8, 9, 10, 11, 12, 13, 14, 15, 16, 17, 18, 19, 20, 21, 22, 23, 24], '책제목': ['청춘의 독서', '엄마의 말 연습', '단 한 번의 삶', '어른의 품격을 채우는 100일 필사 노트', '이로운 보수 의로운 진보', '소년이 온다', '초역 부처의 말', '어른의 행복은 조용하다', '모순', '듀얼 브레인', '쇼펜하우어 인생수업 : 한 번뿐인 삶 이렇게 살아라 (리커버 에디션)', '빛과 실', '에그박사 15', '혼모노', '위버멘쉬', '친구 사이에도 예의가 필요해', '급류', '괴수 8호 15 트리플특장판', '첫 여름, 완주', '친구가 상처 줄 때 똑똑하게 나를 지키는 법', '결국 국민이 합니다', '워런 버핏 웨이', '서랍에 저녁을 넣어 두었다', '2025 큰별쌤 최태성의 별별한국사 한국사능력검정시험 심화(1,2,3급) 상'], '저자및출판사': ['유시민', '웅진지식하우스', '윤지영', '카시오페아', '김영하', '복복서가', '김종원', '청림Life', '최강욱', '최강혁', '한겨레출판', '한강', '창비', '코이케 류노스케', '박재현', '포레스트북스', '태수', '페이지2북스', '양귀자', '쓰다', '이선 몰릭', '신동숙', '상상스퀘어', '쇼펜하우어', '김지민', '하이스트', '한강', '문학과지성사', '에그박사', '박송이', '홍종현', '주세종', '미래엔아이세움', '성해나', '창비', '프리드리히 니체', '떠오름', '한진아', '지니 킴', '박혜림', '길벗스쿨', '정대건', '민음사', '마츠모토 나오야', '유유리', '서울미디어코믹스(서울문화사)', '김금희', '무제', '이현아', '서영', '한빛에듀', '이재명', '오마이북', '로버트 해그스트롬', '신용우', '상상스퀘어', '한강', '문학과지성사', '최태성', '이투스북 '], '가격': ['17,010', '15,750', '15,120', '18,000', '18,000', '13,500', '16,020', '16,020', '11,700', '18,900', '15,750', '13,500', '14,220', '16,200', '16,020', '15,300', '12,600', '5,400', '15,300', '15,120', '19,800', '29,700', '10,800', '14,850']}, {'순위': [1, 2, 3, 4, 5, 6, 7, 8, 9, 10, 11, 12, 13, 14, 15, 16, 17, 18, 19, 20, 21, 22, 23, 24], '책제목': ['청춘의 독서', '엄마의 말 연습', '단 한 번의 삶', '어른의 품격을 채우는 100일 필사 노트', '이로운 보수 의로운 진보', '소년이 온다', '초역 부처의 말', '어른의 행복은 조용하다', '모순', '듀얼 브레인', '쇼펜하우어 인생수업 : 한 번뿐인 삶 이렇게 살아라 (리커버 에디션)', '빛과 실', '에그박사 15', '혼모노', '위버멘쉬', '친구 사이에도 예의가 필요해', '급류', '괴수 8호 15 트리플특장판', '첫 여름, 완주', '친구가 상처 줄 때 똑똑하게 나를 지키는 법', '결국 국민이 합니다', '워런 버핏 웨이', '서랍에 저녁을 넣어 두었다', '2025 큰별쌤 최태성의 별별한국사 한국사능력검정시험 심화(1,2,3급) 상'], '저자및출판사': ['유시민', '웅진지식하우스', '윤지영', '카시오페아', '김영하', '복복서가', '김종원', '청림Life', '최강욱', '최강혁', '한겨레출판', '한강', '창비', '코이케 류노스케', '박재현', '포레스트북스', '태수', '페이지2북스', '양귀자', '쓰다', '이선 몰릭', '신동숙', '상상스퀘어', '쇼펜하우어', '김지민', '하이스트', '한강', '문학과지성사', '에그박사', '박송이', '홍종현', '주세종', '미래엔아이세움', '성해나', '창비', '프리드리히 니체', '떠오름', '한진아', '지니 킴', '박혜림', '길벗스쿨', '정대건', '민음사', '마츠모토 나오야', '유유리', '서울미디어코믹스(서울문화사)', '김금희', '무제', '이현아', '서영', '한빛에듀', '이재명', '오마이북', '로버트 해그스트롬', '신용우', '상상스퀘어', '한강', '문학과지성사', '최태성', '이투스북 '], '가격': ['17,010', '15,750', '15,120', '18,000', '18,000', '13,500', '16,020', '16,020', '11,700', '18,900', '15,750', '13,500', '14,220', '16,200', '16,020', '15,300', '12,600', '5,400', '15,300', '15,120', '19,800', '29,700', '10,800', '14,850']}, {'순위': [1, 2, 3, 4, 5, 6, 7, 8, 9, 10, 11, 12, 13, 14, 15, 16, 17, 18, 19, 20, 21, 22, 23, 24], '책제목': ['청춘의 독서', '엄마의 말 연습', '단 한 번의 삶', '어른의 품격을 채우는 100일 필사 노트', '이로운 보수 의로운 진보', '소년이 온다', '초역 부처의 말', '어른의 행복은 조용하다', '모순', '듀얼 브레인', '쇼펜하우어 인생수업 : 한 번뿐인 삶 이렇게 살아라 (리커버 에디션)', '빛과 실', '에그박사 15', '혼모노', '위버멘쉬', '친구 사이에도 예의가 필요해', '급류', '괴수 8호 15 트리플특장판', '첫 여름, 완주', '친구가 상처 줄 때 똑똑하게 나를 지키는 법', '결국 국민이 합니다', '워런 버핏 웨이', '서랍에 저녁을 넣어 두었다', '2025 큰별쌤 최태성의 별별한국사 한국사능력검정시험 심화(1,2,3급) 상'], '저자및출판사': ['유시민', '웅진지식하우스', '윤지영', '카시오페아', '김영하', '복복서가', '김종원', '청림Life', '최강욱', '최강혁', '한겨레출판', '한강', '창비', '코이케 류노스케', '박재현', '포레스트북스', '태수', '페이지2북스', '양귀자', '쓰다', '이선 몰릭', '신동숙', '상상스퀘어', '쇼펜하우어', '김지민', '하이스트', '한강', '문학과지성사', '에그박사', '박송이', '홍종현', '주세종', '미래엔아이세움', '성해나', '창비', '프리드리히 니체', '떠오름', '한진아', '지니 킴', '박혜림', '길벗스쿨', '정대건', '민음사', '마츠모토 나오야', '유유리', '서울미디어코믹스(서울문화사)', '김금희', '무제', '이현아', '서영', '한빛에듀', '이재명', '오마이북', '로버트 해그스트롬', '신용우', '상상스퀘어', '한강', '문학과지성사', '최태성', '이투스북 '], '가격': ['17,010', '15,750', '15,120', '18,000', '18,000', '13,500', '16,020', '16,020', '11,700', '18,900', '15,750', '13,500', '14,220', '16,200', '16,020', '15,300', '12,600', '5,400', '15,300', '15,120', '19,800', '29,700', '10,800', '14,850']}, {'순위': [1, 2, 3, 4, 5, 6, 7, 8, 9, 10, 11, 12, 13, 14, 15, 16, 17, 18, 19, 20, 21, 22, 23, 24], '책제목': ['청춘의 독서', '엄마의 말 연습', '단 한 번의 삶', '어른의 품격을 채우는 100일 필사 노트', '이로운 보수 의로운 진보', '소년이 온다', '초역 부처의 말', '어른의 행복은 조용하다', '모순', '듀얼 브레인', '쇼펜하우어 인생수업 : 한 번뿐인 삶 이렇게 살아라 (리커버 에디션)', '빛과 실', '에그박사 15', '혼모노', '위버멘쉬', '친구 사이에도 예의가 필요해', '급류', '괴수 8호 15 트리플특장판', '첫 여름, 완주', '친구가 상처 줄 때 똑똑하게 나를 지키는 법', '결국 국민이 합니다', '워런 버핏 웨이', '서랍에 저녁을 넣어 두었다', '2025 큰별쌤 최태성의 별별한국사 한국사능력검정시험 심화(1,2,3급) 상'], '저자및출판사': ['유시민', '웅진지식하우스', '윤지영', '카시오페아', '김영하', '복복서가', '김종원', '청림Life', '최강욱', '최강혁', '한겨레출판', '한강', '창비', '코이케 류노스케', '박재현', '포레스트북스', '태수', '페이지2북스', '양귀자', '쓰다', '이선 몰릭', '신동숙', '상상스퀘어', '쇼펜하우어', '김지민', '하이스트', '한강', '문학과지성사', '에그박사', '박송이', '홍종현', '주세종', '미래엔아이세움', '성해나', '창비', '프리드리히 니체', '떠오름', '한진아', '지니 킴', '박혜림', '길벗스쿨', '정대건', '민음사', '마츠모토 나오야', '유유리', '서울미디어코믹스(서울문화사)', '김금희', '무제', '이현아', '서영', '한빛에듀', '이재명', '오마이북', '로버트 해그스트롬', '신용우', '상상스퀘어', '한강', '문학과지성사', '최태성', '이투스북 '], '가격': ['17,010', '15,750', '15,120', '18,000', '18,000', '13,500', '16,020', '16,020', '11,700', '18,900', '15,750', '13,500', '14,220', '16,200', '16,020', '15,300', '12,600', '5,400', '15,300', '15,120', '19,800', '29,700', '10,800', '14,850']}, {'순위': [1, 2, 3, 4, 5, 6, 7, 8, 9, 10, 11, 12, 13, 14, 15, 16, 17, 18, 19, 20, 21, 22, 23, 24], '책제목': ['청춘의 독서', '엄마의 말 연습', '단 한 번의 삶', '어른의 품격을 채우는 100일 필사 노트', '이로운 보수 의로운 진보', '소년이 온다', '초역 부처의 말', '어른의 행복은 조용하다', '모순', '듀얼 브레인', '쇼펜하우어 인생수업 : 한 번뿐인 삶 이렇게 살아라 (리커버 에디션)', '빛과 실', '에그박사 15', '혼모노', '위버멘쉬', '친구 사이에도 예의가 필요해', '급류', '괴수 8호 15 트리플특장판', '첫 여름, 완주', '친구가 상처 줄 때 똑똑하게 나를 지키는 법', '결국 국민이 합니다', '워런 버핏 웨이', '서랍에 저녁을 넣어 두었다', '2025 큰별쌤 최태성의 별별한국사 한국사능력검정시험 심화(1,2,3급) 상'], '저자및출판사': ['유시민', '웅진지식하우스', '윤지영', '카시오페아', '김영하', '복복서가', '김종원', '청림Life', '최강욱', '최강혁', '한겨레출판', '한강', '창비', '코이케 류노스케', '박재현', '포레스트북스', '태수', '페이지2북스', '양귀자', '쓰다', '이선 몰릭', '신동숙', '상상스퀘어', '쇼펜하우어', '김지민', '하이스트', '한강', '문학과지성사', '에그박사', '박송이', '홍종현', '주세종', '미래엔아이세움', '성해나', '창비', '프리드리히 니체', '떠오름', '한진아', '지니 킴', '박혜림', '길벗스쿨', '정대건', '민음사', '마츠모토 나오야', '유유리', '서울미디어코믹스(서울문화사)', '김금희', '무제', '이현아', '서영', '한빛에듀', '이재명', '오마이북', '로버트 해그스트롬', '신용우', '상상스퀘어', '한강', '문학과지성사', '최태성', '이투스북 '], '가격': ['17,010', '15,750', '15,120', '18,000', '18,000', '13,500', '16,020', '16,020', '11,700', '18,900', '15,750', '13,500', '14,220', '16,200', '16,020', '15,300', '12,600', '5,400', '15,300', '15,120', '19,800', '29,700', '10,800', '14,850']}, {'순위': [1, 2, 3, 4, 5, 6, 7, 8, 9, 10, 11, 12, 13, 14, 15, 16, 17, 18, 19, 20, 21, 22, 23, 24], '책제목': ['청춘의 독서', '엄마의 말 연습', '단 한 번의 삶', '어른의 품격을 채우는 100일 필사 노트', '이로운 보수 의로운 진보', '소년이 온다', '초역 부처의 말', '어른의 행복은 조용하다', '모순', '듀얼 브레인', '쇼펜하우어 인생수업 : 한 번뿐인 삶 이렇게 살아라 (리커버 에디션)', '빛과 실', '에그박사 15', '혼모노', '위버멘쉬', '친구 사이에도 예의가 필요해', '급류', '괴수 8호 15 트리플특장판', '첫 여름, 완주', '친구가 상처 줄 때 똑똑하게 나를 지키는 법', '결국 국민이 합니다', '워런 버핏 웨이', '서랍에 저녁을 넣어 두었다', '2025 큰별쌤 최태성의 별별한국사 한국사능력검정시험 심화(1,2,3급) 상'], '저자및출판사': ['유시민', '웅진지식하우스', '윤지영', '카시오페아', '김영하', '복복서가', '김종원', '청림Life', '최강욱', '최강혁', '한겨레출판', '한강', '창비', '코이케 류노스케', '박재현', '포레스트북스', '태수', '페이지2북스', '양귀자', '쓰다', '이선 몰릭', '신동숙', '상상스퀘어', '쇼펜하우어', '김지민', '하이스트', '한강', '문학과지성사', '에그박사', '박송이', '홍종현', '주세종', '미래엔아이세움', '성해나', '창비', '프리드리히 니체', '떠오름', '한진아', '지니 킴', '박혜림', '길벗스쿨', '정대건', '민음사', '마츠모토 나오야', '유유리', '서울미디어코믹스(서울문화사)', '김금희', '무제', '이현아', '서영', '한빛에듀', '이재명', '오마이북', '로버트 해그스트롬', '신용우', '상상스퀘어', '한강', '문학과지성사', '최태성', '이투스북 '], '가격': ['17,010', '15,750', '15,120', '18,000', '18,000', '13,500', '16,020', '16,020', '11,700', '18,900', '15,750', '13,500', '14,220', '16,200', '16,020', '15,300', '12,600', '5,400', '15,300', '15,120', '19,800', '29,700', '10,800', '14,850']}, {'순위': [1, 2, 3, 4, 5, 6, 7, 8, 9, 10, 11, 12, 13, 14, 15, 16, 17, 18, 19, 20, 21, 22, 23, 24], '책제목': ['청춘의 독서', '엄마의 말 연습', '단 한 번의 삶', '어른의 품격을 채우는 100일 필사 노트', '이로운 보수 의로운 진보', '소년이 온다', '초역 부처의 말', '어른의 행복은 조용하다', '모순', '듀얼 브레인', '쇼펜하우어 인생수업 : 한 번뿐인 삶 이렇게 살아라 (리커버 에디션)', '빛과 실', '에그박사 15', '혼모노', '위버멘쉬', '친구 사이에도 예의가 필요해', '급류', '괴수 8호 15 트리플특장판', '첫 여름, 완주', '친구가 상처 줄 때 똑똑하게 나를 지키는 법', '결국 국민이 합니다', '워런 버핏 웨이', '서랍에 저녁을 넣어 두었다', '2025 큰별쌤 최태성의 별별한국사 한국사능력검정시험 심화(1,2,3급) 상'], '저자및출판사': ['유시민', '웅진지식하우스', '윤지영', '카시오페아', '김영하', '복복서가', '김종원', '청림Life', '최강욱', '최강혁', '한겨레출판', '한강', '창비', '코이케 류노스케', '박재현', '포레스트북스', '태수', '페이지2북스', '양귀자', '쓰다', '이선 몰릭', '신동숙', '상상스퀘어', '쇼펜하우어', '김지민', '하이스트', '한강', '문학과지성사', '에그박사', '박송이', '홍종현', '주세종', '미래엔아이세움', '성해나', '창비', '프리드리히 니체', '떠오름', '한진아', '지니 킴', '박혜림', '길벗스쿨', '정대건', '민음사', '마츠모토 나오야', '유유리', '서울미디어코믹스(서울문화사)', '김금희', '무제', '이현아', '서영', '한빛에듀', '이재명', '오마이북', '로버트 해그스트롬', '신용우', '상상스퀘어', '한강', '문학과지성사', '최태성', '이투스북 '], '가격': ['17,010', '15,750', '15,120', '18,000', '18,000', '13,500', '16,020', '16,020', '11,700', '18,900', '15,750', '13,500', '14,220', '16,200', '16,020', '15,300', '12,600', '5,400', '15,300', '15,120', '19,800', '29,700', '10,800', '14,850']}, {'순위': [1, 2, 3, 4, 5, 6, 7, 8, 9, 10, 11, 12, 13, 14, 15, 16, 17, 18, 19, 20, 21, 22, 23, 24], '책제목': ['청춘의 독서', '엄마의 말 연습', '단 한 번의 삶', '어른의 품격을 채우는 100일 필사 노트', '이로운 보수 의로운 진보', '소년이 온다', '초역 부처의 말', '어른의 행복은 조용하다', '모순', '듀얼 브레인', '쇼펜하우어 인생수업 : 한 번뿐인 삶 이렇게 살아라 (리커버 에디션)', '빛과 실', '에그박사 15', '혼모노', '위버멘쉬', '친구 사이에도 예의가 필요해', '급류', '괴수 8호 15 트리플특장판', '첫 여름, 완주', '친구가 상처 줄 때 똑똑하게 나를 지키는 법', '결국 국민이 합니다', '워런 버핏 웨이', '서랍에 저녁을 넣어 두었다', '2025 큰별쌤 최태성의 별별한국사 한국사능력검정시험 심화(1,2,3급) 상'], '저자및출판사': ['유시민', '웅진지식하우스', '윤지영', '카시오페아', '김영하', '복복서가', '김종원', '청림Life', '최강욱', '최강혁', '한겨레출판', '한강', '창비', '코이케 류노스케', '박재현', '포레스트북스', '태수', '페이지2북스', '양귀자', '쓰다', '이선 몰릭', '신동숙', '상상스퀘어', '쇼펜하우어', '김지민', '하이스트', '한강', '문학과지성사', '에그박사', '박송이', '홍종현', '주세종', '미래엔아이세움', '성해나', '창비', '프리드리히 니체', '떠오름', '한진아', '지니 킴', '박혜림', '길벗스쿨', '정대건', '민음사', '마츠모토 나오야', '유유리', '서울미디어코믹스(서울문화사)', '김금희', '무제', '이현아', '서영', '한빛에듀', '이재명', '오마이북', '로버트 해그스트롬', '신용우', '상상스퀘어', '한강', '문학과지성사', '최태성', '이투스북 '], '가격': ['17,010', '15,750', '15,120', '18,000', '18,000', '13,500', '16,020', '16,020', '11,700', '18,900', '15,750', '13,500', '14,220', '16,200', '16,020', '15,300', '12,600', '5,400', '15,300', '15,120', '19,800', '29,700', '10,800', '14,850']}, {'순위': [1, 2, 3, 4, 5, 6, 7, 8, 9, 10, 11, 12, 13, 14, 15, 16, 17, 18, 19, 20, 21, 22, 23, 24], '책제목': ['청춘의 독서', '엄마의 말 연습', '단 한 번의 삶', '어른의 품격을 채우는 100일 필사 노트', '이로운 보수 의로운 진보', '소년이 온다', '초역 부처의 말', '어른의 행복은 조용하다', '모순', '듀얼 브레인', '쇼펜하우어 인생수업 : 한 번뿐인 삶 이렇게 살아라 (리커버 에디션)', '빛과 실', '에그박사 15', '혼모노', '위버멘쉬', '친구 사이에도 예의가 필요해', '급류', '괴수 8호 15 트리플특장판', '첫 여름, 완주', '친구가 상처 줄 때 똑똑하게 나를 지키는 법', '결국 국민이 합니다', '워런 버핏 웨이', '서랍에 저녁을 넣어 두었다', '2025 큰별쌤 최태성의 별별한국사 한국사능력검정시험 심화(1,2,3급) 상'], '저자및출판사': ['유시민', '웅진지식하우스', '윤지영', '카시오페아', '김영하', '복복서가', '김종원', '청림Life', '최강욱', '최강혁', '한겨레출판', '한강', '창비', '코이케 류노스케', '박재현', '포레스트북스', '태수', '페이지2북스', '양귀자', '쓰다', '이선 몰릭', '신동숙', '상상스퀘어', '쇼펜하우어', '김지민', '하이스트', '한강', '문학과지성사', '에그박사', '박송이', '홍종현', '주세종', '미래엔아이세움', '성해나', '창비', '프리드리히 니체', '떠오름', '한진아', '지니 킴', '박혜림', '길벗스쿨', '정대건', '민음사', '마츠모토 나오야', '유유리', '서울미디어코믹스(서울문화사)', '김금희', '무제', '이현아', '서영', '한빛에듀', '이재명', '오마이북', '로버트 해그스트롬', '신용우', '상상스퀘어', '한강', '문학과지성사', '최태성', '이투스북 '], '가격': ['17,010', '15,750', '15,120', '18,000', '18,000', '13,500', '16,020', '16,020', '11,700', '18,900', '15,750', '13,500', '14,220', '16,200', '16,020', '15,300', '12,600', '5,400', '15,300', '15,120', '19,800', '29,700', '10,800', '14,850']}, {'순위': [1, 2, 3, 4, 5, 6, 7, 8, 9, 10, 11, 12, 13, 14, 15, 16, 17, 18, 19, 20, 21, 22, 23, 24], '책제목': ['청춘의 독서', '엄마의 말 연습', '단 한 번의 삶', '어른의 품격을 채우는 100일 필사 노트', '이로운 보수 의로운 진보', '소년이 온다', '초역 부처의 말', '어른의 행복은 조용하다', '모순', '듀얼 브레인', '쇼펜하우어 인생수업 : 한 번뿐인 삶 이렇게 살아라 (리커버 에디션)', '빛과 실', '에그박사 15', '혼모노', '위버멘쉬', '친구 사이에도 예의가 필요해', '급류', '괴수 8호 15 트리플특장판', '첫 여름, 완주', '친구가 상처 줄 때 똑똑하게 나를 지키는 법', '결국 국민이 합니다', '워런 버핏 웨이', '서랍에 저녁을 넣어 두었다', '2025 큰별쌤 최태성의 별별한국사 한국사능력검정시험 심화(1,2,3급) 상'], '저자및출판사': ['유시민', '웅진지식하우스', '윤지영', '카시오페아', '김영하', '복복서가', '김종원', '청림Life', '최강욱', '최강혁', '한겨레출판', '한강', '창비', '코이케 류노스케', '박재현', '포레스트북스', '태수', '페이지2북스', '양귀자', '쓰다', '이선 몰릭', '신동숙', '상상스퀘어', '쇼펜하우어', '김지민', '하이스트', '한강', '문학과지성사', '에그박사', '박송이', '홍종현', '주세종', '미래엔아이세움', '성해나', '창비', '프리드리히 니체', '떠오름', '한진아', '지니 킴', '박혜림', '길벗스쿨', '정대건', '민음사', '마츠모토 나오야', '유유리', '서울미디어코믹스(서울문화사)', '김금희', '무제', '이현아', '서영', '한빛에듀', '이재명', '오마이북', '로버트 해그스트롬', '신용우', '상상스퀘어', '한강', '문학과지성사', '최태성', '이투스북 '], '가격': ['17,010', '15,750', '15,120', '18,000', '18,000', '13,500', '16,020', '16,020', '11,700', '18,900', '15,750', '13,500', '14,220', '16,200', '16,020', '15,300', '12,600', '5,400', '15,300', '15,120', '19,800', '29,700', '10,800', '14,850']}, {'순위': [1, 2, 3, 4, 5, 6, 7, 8, 9, 10, 11, 12, 13, 14, 15, 16, 17, 18, 19, 20, 21, 22, 23, 24], '책제목': ['청춘의 독서', '엄마의 말 연습', '단 한 번의 삶', '어른의 품격을 채우는 100일 필사 노트', '이로운 보수 의로운 진보', '소년이 온다', '초역 부처의 말', '어른의 행복은 조용하다', '모순', '듀얼 브레인', '쇼펜하우어 인생수업 : 한 번뿐인 삶 이렇게 살아라 (리커버 에디션)', '빛과 실', '에그박사 15', '혼모노', '위버멘쉬', '친구 사이에도 예의가 필요해', '급류', '괴수 8호 15 트리플특장판', '첫 여름, 완주', '친구가 상처 줄 때 똑똑하게 나를 지키는 법', '결국 국민이 합니다', '워런 버핏 웨이', '서랍에 저녁을 넣어 두었다', '2025 큰별쌤 최태성의 별별한국사 한국사능력검정시험 심화(1,2,3급) 상'], '저자및출판사': ['유시민', '웅진지식하우스', '윤지영', '카시오페아', '김영하', '복복서가', '김종원', '청림Life', '최강욱', '최강혁', '한겨레출판', '한강', '창비', '코이케 류노스케', '박재현', '포레스트북스', '태수', '페이지2북스', '양귀자', '쓰다', '이선 몰릭', '신동숙', '상상스퀘어', '쇼펜하우어', '김지민', '하이스트', '한강', '문학과지성사', '에그박사', '박송이', '홍종현', '주세종', '미래엔아이세움', '성해나', '창비', '프리드리히 니체', '떠오름', '한진아', '지니 킴', '박혜림', '길벗스쿨', '정대건', '민음사', '마츠모토 나오야', '유유리', '서울미디어코믹스(서울문화사)', '김금희', '무제', '이현아', '서영', '한빛에듀', '이재명', '오마이북', '로버트 해그스트롬', '신용우', '상상스퀘어', '한강', '문학과지성사', '최태성', '이투스북 '], '가격': ['17,010', '15,750', '15,120', '18,000', '18,000', '13,500', '16,020', '16,020', '11,700', '18,900', '15,750', '13,500', '14,220', '16,200', '16,020', '15,300', '12,600', '5,400', '15,300', '15,120', '19,800', '29,700', '10,800', '14,850']}, {'순위': [1, 2, 3, 4, 5, 6, 7, 8, 9, 10, 11, 12, 13, 14, 15, 16, 17, 18, 19, 20, 21, 22, 23, 24], '책제목': ['청춘의 독서', '엄마의 말 연습', '단 한 번의 삶', '어른의 품격을 채우는 100일 필사 노트', '이로운 보수 의로운 진보', '소년이 온다', '초역 부처의 말', '어른의 행복은 조용하다', '모순', '듀얼 브레인', '쇼펜하우어 인생수업 : 한 번뿐인 삶 이렇게 살아라 (리커버 에디션)', '빛과 실', '에그박사 15', '혼모노', '위버멘쉬', '친구 사이에도 예의가 필요해', '급류', '괴수 8호 15 트리플특장판', '첫 여름, 완주', '친구가 상처 줄 때 똑똑하게 나를 지키는 법', '결국 국민이 합니다', '워런 버핏 웨이', '서랍에 저녁을 넣어 두었다', '2025 큰별쌤 최태성의 별별한국사 한국사능력검정시험 심화(1,2,3급) 상'], '저자및출판사': ['유시민', '웅진지식하우스', '윤지영', '카시오페아', '김영하', '복복서가', '김종원', '청림Life', '최강욱', '최강혁', '한겨레출판', '한강', '창비', '코이케 류노스케', '박재현', '포레스트북스', '태수', '페이지2북스', '양귀자', '쓰다', '이선 몰릭', '신동숙', '상상스퀘어', '쇼펜하우어', '김지민', '하이스트', '한강', '문학과지성사', '에그박사', '박송이', '홍종현', '주세종', '미래엔아이세움', '성해나', '창비', '프리드리히 니체', '떠오름', '한진아', '지니 킴', '박혜림', '길벗스쿨', '정대건', '민음사', '마츠모토 나오야', '유유리', '서울미디어코믹스(서울문화사)', '김금희', '무제', '이현아', '서영', '한빛에듀', '이재명', '오마이북', '로버트 해그스트롬', '신용우', '상상스퀘어', '한강', '문학과지성사', '최태성', '이투스북 '], '가격': ['17,010', '15,750', '15,120', '18,000', '18,000', '13,500', '16,020', '16,020', '11,700', '18,900', '15,750', '13,500', '14,220', '16,200', '16,020', '15,300', '12,600', '5,400', '15,300', '15,120', '19,800', '29,700', '10,800', '14,850']}, {'순위': [1, 2, 3, 4, 5, 6, 7, 8, 9, 10, 11, 12, 13, 14, 15, 16, 17, 18, 19, 20, 21, 22, 23, 24], '책제목': ['청춘의 독서', '엄마의 말 연습', '단 한 번의 삶', '어른의 품격을 채우는 100일 필사 노트', '이로운 보수 의로운 진보', '소년이 온다', '초역 부처의 말', '어른의 행복은 조용하다', '모순', '듀얼 브레인', '쇼펜하우어 인생수업 : 한 번뿐인 삶 이렇게 살아라 (리커버 에디션)', '빛과 실', '에그박사 15', '혼모노', '위버멘쉬', '친구 사이에도 예의가 필요해', '급류', '괴수 8호 15 트리플특장판', '첫 여름, 완주', '친구가 상처 줄 때 똑똑하게 나를 지키는 법', '결국 국민이 합니다', '워런 버핏 웨이', '서랍에 저녁을 넣어 두었다', '2025 큰별쌤 최태성의 별별한국사 한국사능력검정시험 심화(1,2,3급) 상'], '저자및출판사': ['유시민', '웅진지식하우스', '윤지영', '카시오페아', '김영하', '복복서가', '김종원', '청림Life', '최강욱', '최강혁', '한겨레출판', '한강', '창비', '코이케 류노스케', '박재현', '포레스트북스', '태수', '페이지2북스', '양귀자', '쓰다', '이선 몰릭', '신동숙', '상상스퀘어', '쇼펜하우어', '김지민', '하이스트', '한강', '문학과지성사', '에그박사', '박송이', '홍종현', '주세종', '미래엔아이세움', '성해나', '창비', '프리드리히 니체', '떠오름', '한진아', '지니 킴', '박혜림', '길벗스쿨', '정대건', '민음사', '마츠모토 나오야', '유유리', '서울미디어코믹스(서울문화사)', '김금희', '무제', '이현아', '서영', '한빛에듀', '이재명', '오마이북', '로버트 해그스트롬', '신용우', '상상스퀘어', '한강', '문학과지성사', '최태성', '이투스북 '], '가격': ['17,010', '15,750', '15,120', '18,000', '18,000', '13,500', '16,020', '16,020', '11,700', '18,900', '15,750', '13,500', '14,220', '16,200', '16,020', '15,300', '12,600', '5,400', '15,300', '15,120', '19,800', '29,700', '10,800', '14,850']}, {'순위': [1, 2, 3, 4, 5, 6, 7, 8, 9, 10, 11, 12, 13, 14, 15, 16, 17, 18, 19, 20, 21, 22, 23, 24], '책제목': ['청춘의 독서', '엄마의 말 연습', '단 한 번의 삶', '어른의 품격을 채우는 100일 필사 노트', '이로운 보수 의로운 진보', '소년이 온다', '초역 부처의 말', '어른의 행복은 조용하다', '모순', '듀얼 브레인', '쇼펜하우어 인생수업 : 한 번뿐인 삶 이렇게 살아라 (리커버 에디션)', '빛과 실', '에그박사 15', '혼모노', '위버멘쉬', '친구 사이에도 예의가 필요해', '급류', '괴수 8호 15 트리플특장판', '첫 여름, 완주', '친구가 상처 줄 때 똑똑하게 나를 지키는 법', '결국 국민이 합니다', '워런 버핏 웨이', '서랍에 저녁을 넣어 두었다', '2025 큰별쌤 최태성의 별별한국사 한국사능력검정시험 심화(1,2,3급) 상'], '저자및출판사': ['유시민', '웅진지식하우스', '윤지영', '카시오페아', '김영하', '복복서가', '김종원', '청림Life', '최강욱', '최강혁', '한겨레출판', '한강', '창비', '코이케 류노스케', '박재현', '포레스트북스', '태수', '페이지2북스', '양귀자', '쓰다', '이선 몰릭', '신동숙', '상상스퀘어', '쇼펜하우어', '김지민', '하이스트', '한강', '문학과지성사', '에그박사', '박송이', '홍종현', '주세종', '미래엔아이세움', '성해나', '창비', '프리드리히 니체', '떠오름', '한진아', '지니 킴', '박혜림', '길벗스쿨', '정대건', '민음사', '마츠모토 나오야', '유유리', '서울미디어코믹스(서울문화사)', '김금희', '무제', '이현아', '서영', '한빛에듀', '이재명', '오마이북', '로버트 해그스트롬', '신용우', '상상스퀘어', '한강', '문학과지성사', '최태성', '이투스북 '], '가격': ['17,010', '15,750', '15,120', '18,000', '18,000', '13,500', '16,020', '16,020', '11,700', '18,900', '15,750', '13,500', '14,220', '16,200', '16,020', '15,300', '12,600', '5,400', '15,300', '15,120', '19,800', '29,700', '10,800', '14,850']}, {'순위': [1, 2, 3, 4, 5, 6, 7, 8, 9, 10, 11, 12, 13, 14, 15, 16, 17, 18, 19, 20, 21, 22, 23, 24], '책제목': ['청춘의 독서', '엄마의 말 연습', '단 한 번의 삶', '어른의 품격을 채우는 100일 필사 노트', '이로운 보수 의로운 진보', '소년이 온다', '초역 부처의 말', '어른의 행복은 조용하다', '모순', '듀얼 브레인', '쇼펜하우어 인생수업 : 한 번뿐인 삶 이렇게 살아라 (리커버 에디션)', '빛과 실', '에그박사 15', '혼모노', '위버멘쉬', '친구 사이에도 예의가 필요해', '급류', '괴수 8호 15 트리플특장판', '첫 여름, 완주', '친구가 상처 줄 때 똑똑하게 나를 지키는 법', '결국 국민이 합니다', '워런 버핏 웨이', '서랍에 저녁을 넣어 두었다', '2025 큰별쌤 최태성의 별별한국사 한국사능력검정시험 심화(1,2,3급) 상'], '저자및출판사': ['유시민', '웅진지식하우스', '윤지영', '카시오페아', '김영하', '복복서가', '김종원', '청림Life', '최강욱', '최강혁', '한겨레출판', '한강', '창비', '코이케 류노스케', '박재현', '포레스트북스', '태수', '페이지2북스', '양귀자', '쓰다', '이선 몰릭', '신동숙', '상상스퀘어', '쇼펜하우어', '김지민', '하이스트', '한강', '문학과지성사', '에그박사', '박송이', '홍종현', '주세종', '미래엔아이세움', '성해나', '창비', '프리드리히 니체', '떠오름', '한진아', '지니 킴', '박혜림', '길벗스쿨', '정대건', '민음사', '마츠모토 나오야', '유유리', '서울미디어코믹스(서울문화사)', '김금희', '무제', '이현아', '서영', '한빛에듀', '이재명', '오마이북', '로버트 해그스트롬', '신용우', '상상스퀘어', '한강', '문학과지성사', '최태성', '이투스북 '], '가격': ['17,010', '15,750', '15,120', '18,000', '18,000', '13,500', '16,020', '16,020', '11,700', '18,900', '15,750', '13,500', '14,220', '16,200', '16,020', '15,300', '12,600', '5,400', '15,300', '15,120', '19,800', '29,700', '10,800', '14,850']}, {'순위': [1, 2, 3, 4, 5, 6, 7, 8, 9, 10, 11, 12, 13, 14, 15, 16, 17, 18, 19, 20, 21, 22, 23, 24], '책제목': ['청춘의 독서', '엄마의 말 연습', '단 한 번의 삶', '어른의 품격을 채우는 100일 필사 노트', '이로운 보수 의로운 진보', '소년이 온다', '초역 부처의 말', '어른의 행복은 조용하다', '모순', '듀얼 브레인', '쇼펜하우어 인생수업 : 한 번뿐인 삶 이렇게 살아라 (리커버 에디션)', '빛과 실', '에그박사 15', '혼모노', '위버멘쉬', '친구 사이에도 예의가 필요해', '급류', '괴수 8호 15 트리플특장판', '첫 여름, 완주', '친구가 상처 줄 때 똑똑하게 나를 지키는 법', '결국 국민이 합니다', '워런 버핏 웨이', '서랍에 저녁을 넣어 두었다', '2025 큰별쌤 최태성의 별별한국사 한국사능력검정시험 심화(1,2,3급) 상'], '저자및출판사': ['유시민', '웅진지식하우스', '윤지영', '카시오페아', '김영하', '복복서가', '김종원', '청림Life', '최강욱', '최강혁', '한겨레출판', '한강', '창비', '코이케 류노스케', '박재현', '포레스트북스', '태수', '페이지2북스', '양귀자', '쓰다', '이선 몰릭', '신동숙', '상상스퀘어', '쇼펜하우어', '김지민', '하이스트', '한강', '문학과지성사', '에그박사', '박송이', '홍종현', '주세종', '미래엔아이세움', '성해나', '창비', '프리드리히 니체', '떠오름', '한진아', '지니 킴', '박혜림', '길벗스쿨', '정대건', '민음사', '마츠모토 나오야', '유유리', '서울미디어코믹스(서울문화사)', '김금희', '무제', '이현아', '서영', '한빛에듀', '이재명', '오마이북', '로버트 해그스트롬', '신용우', '상상스퀘어', '한강', '문학과지성사', '최태성', '이투스북 '], '가격': ['17,010', '15,750', '15,120', '18,000', '18,000', '13,500', '16,020', '16,020', '11,700', '18,900', '15,750', '13,500', '14,220', '16,200', '16,020', '15,300', '12,600', '5,400', '15,300', '15,120', '19,800', '29,700', '10,800', '14,850']}, {'순위': [1, 2, 3, 4, 5, 6, 7, 8, 9, 10, 11, 12, 13, 14, 15, 16, 17, 18, 19, 20, 21, 22, 23, 24], '책제목': ['청춘의 독서', '엄마의 말 연습', '단 한 번의 삶', '어른의 품격을 채우는 100일 필사 노트', '이로운 보수 의로운 진보', '소년이 온다', '초역 부처의 말', '어른의 행복은 조용하다', '모순', '듀얼 브레인', '쇼펜하우어 인생수업 : 한 번뿐인 삶 이렇게 살아라 (리커버 에디션)', '빛과 실', '에그박사 15', '혼모노', '위버멘쉬', '친구 사이에도 예의가 필요해', '급류', '괴수 8호 15 트리플특장판', '첫 여름, 완주', '친구가 상처 줄 때 똑똑하게 나를 지키는 법', '결국 국민이 합니다', '워런 버핏 웨이', '서랍에 저녁을 넣어 두었다', '2025 큰별쌤 최태성의 별별한국사 한국사능력검정시험 심화(1,2,3급) 상'], '저자및출판사': ['유시민', '웅진지식하우스', '윤지영', '카시오페아', '김영하', '복복서가', '김종원', '청림Life', '최강욱', '최강혁', '한겨레출판', '한강', '창비', '코이케 류노스케', '박재현', '포레스트북스', '태수', '페이지2북스', '양귀자', '쓰다', '이선 몰릭', '신동숙', '상상스퀘어', '쇼펜하우어', '김지민', '하이스트', '한강', '문학과지성사', '에그박사', '박송이', '홍종현', '주세종', '미래엔아이세움', '성해나', '창비', '프리드리히 니체', '떠오름', '한진아', '지니 킴', '박혜림', '길벗스쿨', '정대건', '민음사', '마츠모토 나오야', '유유리', '서울미디어코믹스(서울문화사)', '김금희', '무제', '이현아', '서영', '한빛에듀', '이재명', '오마이북', '로버트 해그스트롬', '신용우', '상상스퀘어', '한강', '문학과지성사', '최태성', '이투스북 '], '가격': ['17,010', '15,750', '15,120', '18,000', '18,000', '13,500', '16,020', '16,020', '11,700', '18,900', '15,750', '13,500', '14,220', '16,200', '16,020', '15,300', '12,600', '5,400', '15,300', '15,120', '19,800', '29,700', '10,800', '14,850']}, {'순위': [1, 2, 3, 4, 5, 6, 7, 8, 9, 10, 11, 12, 13, 14, 15, 16, 17, 18, 19, 20, 21, 22, 23, 24], '책제목': ['청춘의 독서', '엄마의 말 연습', '단 한 번의 삶', '어른의 품격을 채우는 100일 필사 노트', '이로운 보수 의로운 진보', '소년이 온다', '초역 부처의 말', '어른의 행복은 조용하다', '모순', '듀얼 브레인', '쇼펜하우어 인생수업 : 한 번뿐인 삶 이렇게 살아라 (리커버 에디션)', '빛과 실', '에그박사 15', '혼모노', '위버멘쉬', '친구 사이에도 예의가 필요해', '급류', '괴수 8호 15 트리플특장판', '첫 여름, 완주', '친구가 상처 줄 때 똑똑하게 나를 지키는 법', '결국 국민이 합니다', '워런 버핏 웨이', '서랍에 저녁을 넣어 두었다', '2025 큰별쌤 최태성의 별별한국사 한국사능력검정시험 심화(1,2,3급) 상'], '저자및출판사': ['유시민', '웅진지식하우스', '윤지영', '카시오페아', '김영하', '복복서가', '김종원', '청림Life', '최강욱', '최강혁', '한겨레출판', '한강', '창비', '코이케 류노스케', '박재현', '포레스트북스', '태수', '페이지2북스', '양귀자', '쓰다', '이선 몰릭', '신동숙', '상상스퀘어', '쇼펜하우어', '김지민', '하이스트', '한강', '문학과지성사', '에그박사', '박송이', '홍종현', '주세종', '미래엔아이세움', '성해나', '창비', '프리드리히 니체', '떠오름', '한진아', '지니 킴', '박혜림', '길벗스쿨', '정대건', '민음사', '마츠모토 나오야', '유유리', '서울미디어코믹스(서울문화사)', '김금희', '무제', '이현아', '서영', '한빛에듀', '이재명', '오마이북', '로버트 해그스트롬', '신용우', '상상스퀘어', '한강', '문학과지성사', '최태성', '이투스북 '], '가격': ['17,010', '15,750', '15,120', '18,000', '18,000', '13,500', '16,020', '16,020', '11,700', '18,900', '15,750', '13,500', '14,220', '16,200', '16,020', '15,300', '12,600', '5,400', '15,300', '15,120', '19,800', '29,700', '10,800', '14,850']}, {'순위': [1, 2, 3, 4, 5, 6, 7, 8, 9, 10, 11, 12, 13, 14, 15, 16, 17, 18, 19, 20, 21, 22, 23, 24], '책제목': ['청춘의 독서', '엄마의 말 연습', '단 한 번의 삶', '어른의 품격을 채우는 100일 필사 노트', '이로운 보수 의로운 진보', '소년이 온다', '초역 부처의 말', '어른의 행복은 조용하다', '모순', '듀얼 브레인', '쇼펜하우어 인생수업 : 한 번뿐인 삶 이렇게 살아라 (리커버 에디션)', '빛과 실', '에그박사 15', '혼모노', '위버멘쉬', '친구 사이에도 예의가 필요해', '급류', '괴수 8호 15 트리플특장판', '첫 여름, 완주', '친구가 상처 줄 때 똑똑하게 나를 지키는 법', '결국 국민이 합니다', '워런 버핏 웨이', '서랍에 저녁을 넣어 두었다', '2025 큰별쌤 최태성의 별별한국사 한국사능력검정시험 심화(1,2,3급) 상'], '저자및출판사': ['유시민', '웅진지식하우스', '윤지영', '카시오페아', '김영하', '복복서가', '김종원', '청림Life', '최강욱', '최강혁', '한겨레출판', '한강', '창비', '코이케 류노스케', '박재현', '포레스트북스', '태수', '페이지2북스', '양귀자', '쓰다', '이선 몰릭', '신동숙', '상상스퀘어', '쇼펜하우어', '김지민', '하이스트', '한강', '문학과지성사', '에그박사', '박송이', '홍종현', '주세종', '미래엔아이세움', '성해나', '창비', '프리드리히 니체', '떠오름', '한진아', '지니 킴', '박혜림', '길벗스쿨', '정대건', '민음사', '마츠모토 나오야', '유유리', '서울미디어코믹스(서울문화사)', '김금희', '무제', '이현아', '서영', '한빛에듀', '이재명', '오마이북', '로버트 해그스트롬', '신용우', '상상스퀘어', '한강', '문학과지성사', '최태성', '이투스북 '], '가격': ['17,010', '15,750', '15,120', '18,000', '18,000', '13,500', '16,020', '16,020', '11,700', '18,900', '15,750', '13,500', '14,220', '16,200', '16,020', '15,300', '12,600', '5,400', '15,300', '15,120', '19,800', '29,700', '10,800', '14,850']}, {'순위': [1, 2, 3, 4, 5, 6, 7, 8, 9, 10, 11, 12, 13, 14, 15, 16, 17, 18, 19, 20, 21, 22, 23, 24], '책제목': ['청춘의 독서', '엄마의 말 연습', '단 한 번의 삶', '어른의 품격을 채우는 100일 필사 노트', '이로운 보수 의로운 진보', '소년이 온다', '초역 부처의 말', '어른의 행복은 조용하다', '모순', '듀얼 브레인', '쇼펜하우어 인생수업 : 한 번뿐인 삶 이렇게 살아라 (리커버 에디션)', '빛과 실', '에그박사 15', '혼모노', '위버멘쉬', '친구 사이에도 예의가 필요해', '급류', '괴수 8호 15 트리플특장판', '첫 여름, 완주', '친구가 상처 줄 때 똑똑하게 나를 지키는 법', '결국 국민이 합니다', '워런 버핏 웨이', '서랍에 저녁을 넣어 두었다', '2025 큰별쌤 최태성의 별별한국사 한국사능력검정시험 심화(1,2,3급) 상'], '저자및출판사': ['유시민', '웅진지식하우스', '윤지영', '카시오페아', '김영하', '복복서가', '김종원', '청림Life', '최강욱', '최강혁', '한겨레출판', '한강', '창비', '코이케 류노스케', '박재현', '포레스트북스', '태수', '페이지2북스', '양귀자', '쓰다', '이선 몰릭', '신동숙', '상상스퀘어', '쇼펜하우어', '김지민', '하이스트', '한강', '문학과지성사', '에그박사', '박송이', '홍종현', '주세종', '미래엔아이세움', '성해나', '창비', '프리드리히 니체', '떠오름', '한진아', '지니 킴', '박혜림', '길벗스쿨', '정대건', '민음사', '마츠모토 나오야', '유유리', '서울미디어코믹스(서울문화사)', '김금희', '무제', '이현아', '서영', '한빛에듀', '이재명', '오마이북', '로버트 해그스트롬', '신용우', '상상스퀘어', '한강', '문학과지성사', '최태성', '이투스북 '], '가격': ['17,010', '15,750', '15,120', '18,000', '18,000', '13,500', '16,020', '16,020', '11,700', '18,900', '15,750', '13,500', '14,220', '16,200', '16,020', '15,300', '12,600', '5,400', '15,300', '15,120', '19,800', '29,700', '10,800', '14,850']}, {'순위': [1, 2, 3, 4, 5, 6, 7, 8, 9, 10, 11, 12, 13, 14, 15, 16, 17, 18, 19, 20, 21, 22, 23, 24], '책제목': ['청춘의 독서', '엄마의 말 연습', '단 한 번의 삶', '어른의 품격을 채우는 100일 필사 노트', '이로운 보수 의로운 진보', '소년이 온다', '초역 부처의 말', '어른의 행복은 조용하다', '모순', '듀얼 브레인', '쇼펜하우어 인생수업 : 한 번뿐인 삶 이렇게 살아라 (리커버 에디션)', '빛과 실', '에그박사 15', '혼모노', '위버멘쉬', '친구 사이에도 예의가 필요해', '급류', '괴수 8호 15 트리플특장판', '첫 여름, 완주', '친구가 상처 줄 때 똑똑하게 나를 지키는 법', '결국 국민이 합니다', '워런 버핏 웨이', '서랍에 저녁을 넣어 두었다', '2025 큰별쌤 최태성의 별별한국사 한국사능력검정시험 심화(1,2,3급) 상'], '저자및출판사': ['유시민', '웅진지식하우스', '윤지영', '카시오페아', '김영하', '복복서가', '김종원', '청림Life', '최강욱', '최강혁', '한겨레출판', '한강', '창비', '코이케 류노스케', '박재현', '포레스트북스', '태수', '페이지2북스', '양귀자', '쓰다', '이선 몰릭', '신동숙', '상상스퀘어', '쇼펜하우어', '김지민', '하이스트', '한강', '문학과지성사', '에그박사', '박송이', '홍종현', '주세종', '미래엔아이세움', '성해나', '창비', '프리드리히 니체', '떠오름', '한진아', '지니 킴', '박혜림', '길벗스쿨', '정대건', '민음사', '마츠모토 나오야', '유유리', '서울미디어코믹스(서울문화사)', '김금희', '무제', '이현아', '서영', '한빛에듀', '이재명', '오마이북', '로버트 해그스트롬', '신용우', '상상스퀘어', '한강', '문학과지성사', '최태성', '이투스북 '], '가격': ['17,010', '15,750', '15,120', '18,000', '18,000', '13,500', '16,020', '16,020', '11,700', '18,900', '15,750', '13,500', '14,220', '16,200', '16,020', '15,300', '12,600', '5,400', '15,300', '15,120', '19,800', '29,700', '10,800', '14,850']}, {'순위': [1, 2, 3, 4, 5, 6, 7, 8, 9, 10, 11, 12, 13, 14, 15, 16, 17, 18, 19, 20, 21, 22, 23, 24], '책제목': ['청춘의 독서', '엄마의 말 연습', '단 한 번의 삶', '어른의 품격을 채우는 100일 필사 노트', '이로운 보수 의로운 진보', '소년이 온다', '초역 부처의 말', '어른의 행복은 조용하다', '모순', '듀얼 브레인', '쇼펜하우어 인생수업 : 한 번뿐인 삶 이렇게 살아라 (리커버 에디션)', '빛과 실', '에그박사 15', '혼모노', '위버멘쉬', '친구 사이에도 예의가 필요해', '급류', '괴수 8호 15 트리플특장판', '첫 여름, 완주', '친구가 상처 줄 때 똑똑하게 나를 지키는 법', '결국 국민이 합니다', '워런 버핏 웨이', '서랍에 저녁을 넣어 두었다', '2025 큰별쌤 최태성의 별별한국사 한국사능력검정시험 심화(1,2,3급) 상'], '저자및출판사': ['유시민', '웅진지식하우스', '윤지영', '카시오페아', '김영하', '복복서가', '김종원', '청림Life', '최강욱', '최강혁', '한겨레출판', '한강', '창비', '코이케 류노스케', '박재현', '포레스트북스', '태수', '페이지2북스', '양귀자', '쓰다', '이선 몰릭', '신동숙', '상상스퀘어', '쇼펜하우어', '김지민', '하이스트', '한강', '문학과지성사', '에그박사', '박송이', '홍종현', '주세종', '미래엔아이세움', '성해나', '창비', '프리드리히 니체', '떠오름', '한진아', '지니 킴', '박혜림', '길벗스쿨', '정대건', '민음사', '마츠모토 나오야', '유유리', '서울미디어코믹스(서울문화사)', '김금희', '무제', '이현아', '서영', '한빛에듀', '이재명', '오마이북', '로버트 해그스트롬', '신용우', '상상스퀘어', '한강', '문학과지성사', '최태성', '이투스북 '], '가격': ['17,010', '15,750', '15,120', '18,000', '18,000', '13,500', '16,020', '16,020', '11,700', '18,900', '15,750', '13,500', '14,220', '16,200', '16,020', '15,300', '12,600', '5,400', '15,300', '15,120', '19,800', '29,700', '10,800', '14,850']}, {'순위': [1, 2, 3, 4, 5, 6, 7, 8, 9, 10, 11, 12, 13, 14, 15, 16, 17, 18, 19, 20, 21, 22, 23, 24], '책제목': ['청춘의 독서', '엄마의 말 연습', '단 한 번의 삶', '어른의 품격을 채우는 100일 필사 노트', '이로운 보수 의로운 진보', '소년이 온다', '초역 부처의 말', '어른의 행복은 조용하다', '모순', '듀얼 브레인', '쇼펜하우어 인생수업 : 한 번뿐인 삶 이렇게 살아라 (리커버 에디션)', '빛과 실', '에그박사 15', '혼모노', '위버멘쉬', '친구 사이에도 예의가 필요해', '급류', '괴수 8호 15 트리플특장판', '첫 여름, 완주', '친구가 상처 줄 때 똑똑하게 나를 지키는 법', '결국 국민이 합니다', '워런 버핏 웨이', '서랍에 저녁을 넣어 두었다', '2025 큰별쌤 최태성의 별별한국사 한국사능력검정시험 심화(1,2,3급) 상'], '저자및출판사': ['유시민', '웅진지식하우스', '윤지영', '카시오페아', '김영하', '복복서가', '김종원', '청림Life', '최강욱', '최강혁', '한겨레출판', '한강', '창비', '코이케 류노스케', '박재현', '포레스트북스', '태수', '페이지2북스', '양귀자', '쓰다', '이선 몰릭', '신동숙', '상상스퀘어', '쇼펜하우어', '김지민', '하이스트', '한강', '문학과지성사', '에그박사', '박송이', '홍종현', '주세종', '미래엔아이세움', '성해나', '창비', '프리드리히 니체', '떠오름', '한진아', '지니 킴', '박혜림', '길벗스쿨', '정대건', '민음사', '마츠모토 나오야', '유유리', '서울미디어코믹스(서울문화사)', '김금희', '무제', '이현아', '서영', '한빛에듀', '이재명', '오마이북', '로버트 해그스트롬', '신용우', '상상스퀘어', '한강', '문학과지성사', '최태성', '이투스북 '], '가격': ['17,010', '15,750', '15,120', '18,000', '18,000', '13,500', '16,020', '16,020', '11,700', '18,900', '15,750', '13,500', '14,220', '16,200', '16,020', '15,300', '12,600', '5,400', '15,300', '15,120', '19,800', '29,700', '10,800', '14,850']}, {'순위': [1, 2, 3, 4, 5, 6, 7, 8, 9, 10, 11, 12, 13, 14, 15, 16, 17, 18, 19, 20, 21, 22, 23, 24], '책제목': ['청춘의 독서', '엄마의 말 연습', '단 한 번의 삶', '어른의 품격을 채우는 100일 필사 노트', '이로운 보수 의로운 진보', '소년이 온다', '초역 부처의 말', '어른의 행복은 조용하다', '모순', '듀얼 브레인', '쇼펜하우어 인생수업 : 한 번뿐인 삶 이렇게 살아라 (리커버 에디션)', '빛과 실', '에그박사 15', '혼모노', '위버멘쉬', '친구 사이에도 예의가 필요해', '급류', '괴수 8호 15 트리플특장판', '첫 여름, 완주', '친구가 상처 줄 때 똑똑하게 나를 지키는 법', '결국 국민이 합니다', '워런 버핏 웨이', '서랍에 저녁을 넣어 두었다', '2025 큰별쌤 최태성의 별별한국사 한국사능력검정시험 심화(1,2,3급) 상'], '저자및출판사': ['유시민', '웅진지식하우스', '윤지영', '카시오페아', '김영하', '복복서가', '김종원', '청림Life', '최강욱', '최강혁', '한겨레출판', '한강', '창비', '코이케 류노스케', '박재현', '포레스트북스', '태수', '페이지2북스', '양귀자', '쓰다', '이선 몰릭', '신동숙', '상상스퀘어', '쇼펜하우어', '김지민', '하이스트', '한강', '문학과지성사', '에그박사', '박송이', '홍종현', '주세종', '미래엔아이세움', '성해나', '창비', '프리드리히 니체', '떠오름', '한진아', '지니 킴', '박혜림', '길벗스쿨', '정대건', '민음사', '마츠모토 나오야', '유유리', '서울미디어코믹스(서울문화사)', '김금희', '무제', '이현아', '서영', '한빛에듀', '이재명', '오마이북', '로버트 해그스트롬', '신용우', '상상스퀘어', '한강', '문학과지성사', '최태성', '이투스북 '], '가격': ['17,010', '15,750', '15,120', '18,000', '18,000', '13,500', '16,020', '16,020', '11,700', '18,900', '15,750', '13,500', '14,220', '16,200', '16,020', '15,300', '12,600', '5,400', '15,300', '15,120', '19,800', '29,700', '10,800', '14,850']}, {'순위': [1, 2, 3, 4, 5, 6, 7, 8, 9, 10, 11, 12, 13, 14, 15, 16, 17, 18, 19, 20, 21, 22, 23, 24], '책제목': ['청춘의 독서', '엄마의 말 연습', '단 한 번의 삶', '어른의 품격을 채우는 100일 필사 노트', '이로운 보수 의로운 진보', '소년이 온다', '초역 부처의 말', '어른의 행복은 조용하다', '모순', '듀얼 브레인', '쇼펜하우어 인생수업 : 한 번뿐인 삶 이렇게 살아라 (리커버 에디션)', '빛과 실', '에그박사 15', '혼모노', '위버멘쉬', '친구 사이에도 예의가 필요해', '급류', '괴수 8호 15 트리플특장판', '첫 여름, 완주', '친구가 상처 줄 때 똑똑하게 나를 지키는 법', '결국 국민이 합니다', '워런 버핏 웨이', '서랍에 저녁을 넣어 두었다', '2025 큰별쌤 최태성의 별별한국사 한국사능력검정시험 심화(1,2,3급) 상'], '저자및출판사': ['유시민', '웅진지식하우스', '윤지영', '카시오페아', '김영하', '복복서가', '김종원', '청림Life', '최강욱', '최강혁', '한겨레출판', '한강', '창비', '코이케 류노스케', '박재현', '포레스트북스', '태수', '페이지2북스', '양귀자', '쓰다', '이선 몰릭', '신동숙', '상상스퀘어', '쇼펜하우어', '김지민', '하이스트', '한강', '문학과지성사', '에그박사', '박송이', '홍종현', '주세종', '미래엔아이세움', '성해나', '창비', '프리드리히 니체', '떠오름', '한진아', '지니 킴', '박혜림', '길벗스쿨', '정대건', '민음사', '마츠모토 나오야', '유유리', '서울미디어코믹스(서울문화사)', '김금희', '무제', '이현아', '서영', '한빛에듀', '이재명', '오마이북', '로버트 해그스트롬', '신용우', '상상스퀘어', '한강', '문학과지성사', '최태성', '이투스북 '], '가격': ['17,010', '15,750', '15,120', '18,000', '18,000', '13,500', '16,020', '16,020', '11,700', '18,900', '15,750', '13,500', '14,220', '16,200', '16,020', '15,300', '12,600', '5,400', '15,300', '15,120', '19,800', '29,700', '10,800', '14,850']}, {'순위': [1, 2, 3, 4, 5, 6, 7, 8, 9, 10, 11, 12, 13, 14, 15, 16, 17, 18, 19, 20, 21, 22, 23, 24], '책제목': ['청춘의 독서', '엄마의 말 연습', '단 한 번의 삶', '어른의 품격을 채우는 100일 필사 노트', '이로운 보수 의로운 진보', '소년이 온다', '초역 부처의 말', '어른의 행복은 조용하다', '모순', '듀얼 브레인', '쇼펜하우어 인생수업 : 한 번뿐인 삶 이렇게 살아라 (리커버 에디션)', '빛과 실', '에그박사 15', '혼모노', '위버멘쉬', '친구 사이에도 예의가 필요해', '급류', '괴수 8호 15 트리플특장판', '첫 여름, 완주', '친구가 상처 줄 때 똑똑하게 나를 지키는 법', '결국 국민이 합니다', '워런 버핏 웨이', '서랍에 저녁을 넣어 두었다', '2025 큰별쌤 최태성의 별별한국사 한국사능력검정시험 심화(1,2,3급) 상'], '저자및출판사': ['유시민', '웅진지식하우스', '윤지영', '카시오페아', '김영하', '복복서가', '김종원', '청림Life', '최강욱', '최강혁', '한겨레출판', '한강', '창비', '코이케 류노스케', '박재현', '포레스트북스', '태수', '페이지2북스', '양귀자', '쓰다', '이선 몰릭', '신동숙', '상상스퀘어', '쇼펜하우어', '김지민', '하이스트', '한강', '문학과지성사', '에그박사', '박송이', '홍종현', '주세종', '미래엔아이세움', '성해나', '창비', '프리드리히 니체', '떠오름', '한진아', '지니 킴', '박혜림', '길벗스쿨', '정대건', '민음사', '마츠모토 나오야', '유유리', '서울미디어코믹스(서울문화사)', '김금희', '무제', '이현아', '서영', '한빛에듀', '이재명', '오마이북', '로버트 해그스트롬', '신용우', '상상스퀘어', '한강', '문학과지성사', '최태성', '이투스북 '], '가격': ['17,010', '15,750', '15,120', '18,000', '18,000', '13,500', '16,020', '16,020', '11,700', '18,900', '15,750', '13,500', '14,220', '16,200', '16,020', '15,300', '12,600', '5,400', '15,300', '15,120', '19,800', '29,700', '10,800', '14,850']}, {'순위': [1, 2, 3, 4, 5, 6, 7, 8, 9, 10, 11, 12, 13, 14, 15, 16, 17, 18, 19, 20, 21, 22, 23, 24], '책제목': ['청춘의 독서', '엄마의 말 연습', '단 한 번의 삶', '어른의 품격을 채우는 100일 필사 노트', '이로운 보수 의로운 진보', '소년이 온다', '초역 부처의 말', '어른의 행복은 조용하다', '모순', '듀얼 브레인', '쇼펜하우어 인생수업 : 한 번뿐인 삶 이렇게 살아라 (리커버 에디션)', '빛과 실', '에그박사 15', '혼모노', '위버멘쉬', '친구 사이에도 예의가 필요해', '급류', '괴수 8호 15 트리플특장판', '첫 여름, 완주', '친구가 상처 줄 때 똑똑하게 나를 지키는 법', '결국 국민이 합니다', '워런 버핏 웨이', '서랍에 저녁을 넣어 두었다', '2025 큰별쌤 최태성의 별별한국사 한국사능력검정시험 심화(1,2,3급) 상'], '저자및출판사': ['유시민', '웅진지식하우스', '윤지영', '카시오페아', '김영하', '복복서가', '김종원', '청림Life', '최강욱', '최강혁', '한겨레출판', '한강', '창비', '코이케 류노스케', '박재현', '포레스트북스', '태수', '페이지2북스', '양귀자', '쓰다', '이선 몰릭', '신동숙', '상상스퀘어', '쇼펜하우어', '김지민', '하이스트', '한강', '문학과지성사', '에그박사', '박송이', '홍종현', '주세종', '미래엔아이세움', '성해나', '창비', '프리드리히 니체', '떠오름', '한진아', '지니 킴', '박혜림', '길벗스쿨', '정대건', '민음사', '마츠모토 나오야', '유유리', '서울미디어코믹스(서울문화사)', '김금희', '무제', '이현아', '서영', '한빛에듀', '이재명', '오마이북', '로버트 해그스트롬', '신용우', '상상스퀘어', '한강', '문학과지성사', '최태성', '이투스북 '], '가격': ['17,010', '15,750', '15,120', '18,000', '18,000', '13,500', '16,020', '16,020', '11,700', '18,900', '15,750', '13,500', '14,220', '16,200', '16,020', '15,300', '12,600', '5,400', '15,300', '15,120', '19,800', '29,700', '10,800', '14,850']}, {'순위': [1, 2, 3, 4, 5, 6, 7, 8, 9, 10, 11, 12, 13, 14, 15, 16, 17, 18, 19, 20, 21, 22, 23, 24], '책제목': ['청춘의 독서', '엄마의 말 연습', '단 한 번의 삶', '어른의 품격을 채우는 100일 필사 노트', '이로운 보수 의로운 진보', '소년이 온다', '초역 부처의 말', '어른의 행복은 조용하다', '모순', '듀얼 브레인', '쇼펜하우어 인생수업 : 한 번뿐인 삶 이렇게 살아라 (리커버 에디션)', '빛과 실', '에그박사 15', '혼모노', '위버멘쉬', '친구 사이에도 예의가 필요해', '급류', '괴수 8호 15 트리플특장판', '첫 여름, 완주', '친구가 상처 줄 때 똑똑하게 나를 지키는 법', '결국 국민이 합니다', '워런 버핏 웨이', '서랍에 저녁을 넣어 두었다', '2025 큰별쌤 최태성의 별별한국사 한국사능력검정시험 심화(1,2,3급) 상'], '저자및출판사': ['유시민', '웅진지식하우스', '윤지영', '카시오페아', '김영하', '복복서가', '김종원', '청림Life', '최강욱', '최강혁', '한겨레출판', '한강', '창비', '코이케 류노스케', '박재현', '포레스트북스', '태수', '페이지2북스', '양귀자', '쓰다', '이선 몰릭', '신동숙', '상상스퀘어', '쇼펜하우어', '김지민', '하이스트', '한강', '문학과지성사', '에그박사', '박송이', '홍종현', '주세종', '미래엔아이세움', '성해나', '창비', '프리드리히 니체', '떠오름', '한진아', '지니 킴', '박혜림', '길벗스쿨', '정대건', '민음사', '마츠모토 나오야', '유유리', '서울미디어코믹스(서울문화사)', '김금희', '무제', '이현아', '서영', '한빛에듀', '이재명', '오마이북', '로버트 해그스트롬', '신용우', '상상스퀘어', '한강', '문학과지성사', '최태성', '이투스북 '], '가격': ['17,010', '15,750', '15,120', '18,000', '18,000', '13,500', '16,020', '16,020', '11,700', '18,900', '15,750', '13,500', '14,220', '16,200', '16,020', '15,300', '12,600', '5,400', '15,300', '15,120', '19,800', '29,700', '10,800', '14,850']}, {'순위': [1, 2, 3, 4, 5, 6, 7, 8, 9, 10, 11, 12, 13, 14, 15, 16, 17, 18, 19, 20, 21, 22, 23, 24], '책제목': ['청춘의 독서', '엄마의 말 연습', '단 한 번의 삶', '어른의 품격을 채우는 100일 필사 노트', '이로운 보수 의로운 진보', '소년이 온다', '초역 부처의 말', '어른의 행복은 조용하다', '모순', '듀얼 브레인', '쇼펜하우어 인생수업 : 한 번뿐인 삶 이렇게 살아라 (리커버 에디션)', '빛과 실', '에그박사 15', '혼모노', '위버멘쉬', '친구 사이에도 예의가 필요해', '급류', '괴수 8호 15 트리플특장판', '첫 여름, 완주', '친구가 상처 줄 때 똑똑하게 나를 지키는 법', '결국 국민이 합니다', '워런 버핏 웨이', '서랍에 저녁을 넣어 두었다', '2025 큰별쌤 최태성의 별별한국사 한국사능력검정시험 심화(1,2,3급) 상'], '저자및출판사': ['유시민', '웅진지식하우스', '윤지영', '카시오페아', '김영하', '복복서가', '김종원', '청림Life', '최강욱', '최강혁', '한겨레출판', '한강', '창비', '코이케 류노스케', '박재현', '포레스트북스', '태수', '페이지2북스', '양귀자', '쓰다', '이선 몰릭', '신동숙', '상상스퀘어', '쇼펜하우어', '김지민', '하이스트', '한강', '문학과지성사', '에그박사', '박송이', '홍종현', '주세종', '미래엔아이세움', '성해나', '창비', '프리드리히 니체', '떠오름', '한진아', '지니 킴', '박혜림', '길벗스쿨', '정대건', '민음사', '마츠모토 나오야', '유유리', '서울미디어코믹스(서울문화사)', '김금희', '무제', '이현아', '서영', '한빛에듀', '이재명', '오마이북', '로버트 해그스트롬', '신용우', '상상스퀘어', '한강', '문학과지성사', '최태성', '이투스북 '], '가격': ['17,010', '15,750', '15,120', '18,000', '18,000', '13,500', '16,020', '16,020', '11,700', '18,900', '15,750', '13,500', '14,220', '16,200', '16,020', '15,300', '12,600', '5,400', '15,300', '15,120', '19,800', '29,700', '10,800', '14,850']}, {'순위': [1, 2, 3, 4, 5, 6, 7, 8, 9, 10, 11, 12, 13, 14, 15, 16, 17, 18, 19, 20, 21, 22, 23, 24], '책제목': ['청춘의 독서', '엄마의 말 연습', '단 한 번의 삶', '어른의 품격을 채우는 100일 필사 노트', '이로운 보수 의로운 진보', '소년이 온다', '초역 부처의 말', '어른의 행복은 조용하다', '모순', '듀얼 브레인', '쇼펜하우어 인생수업 : 한 번뿐인 삶 이렇게 살아라 (리커버 에디션)', '빛과 실', '에그박사 15', '혼모노', '위버멘쉬', '친구 사이에도 예의가 필요해', '급류', '괴수 8호 15 트리플특장판', '첫 여름, 완주', '친구가 상처 줄 때 똑똑하게 나를 지키는 법', '결국 국민이 합니다', '워런 버핏 웨이', '서랍에 저녁을 넣어 두었다', '2025 큰별쌤 최태성의 별별한국사 한국사능력검정시험 심화(1,2,3급) 상'], '저자및출판사': ['유시민', '웅진지식하우스', '윤지영', '카시오페아', '김영하', '복복서가', '김종원', '청림Life', '최강욱', '최강혁', '한겨레출판', '한강', '창비', '코이케 류노스케', '박재현', '포레스트북스', '태수', '페이지2북스', '양귀자', '쓰다', '이선 몰릭', '신동숙', '상상스퀘어', '쇼펜하우어', '김지민', '하이스트', '한강', '문학과지성사', '에그박사', '박송이', '홍종현', '주세종', '미래엔아이세움', '성해나', '창비', '프리드리히 니체', '떠오름', '한진아', '지니 킴', '박혜림', '길벗스쿨', '정대건', '민음사', '마츠모토 나오야', '유유리', '서울미디어코믹스(서울문화사)', '김금희', '무제', '이현아', '서영', '한빛에듀', '이재명', '오마이북', '로버트 해그스트롬', '신용우', '상상스퀘어', '한강', '문학과지성사', '최태성', '이투스북 '], '가격': ['17,010', '15,750', '15,120', '18,000', '18,000', '13,500', '16,020', '16,020', '11,700', '18,900', '15,750', '13,500', '14,220', '16,200', '16,020', '15,300', '12,600', '5,400', '15,300', '15,120', '19,800', '29,700', '10,800', '14,850']}, {'순위': [1, 2, 3, 4, 5, 6, 7, 8, 9, 10, 11, 12, 13, 14, 15, 16, 17, 18, 19, 20, 21, 22, 23, 24], '책제목': ['청춘의 독서', '엄마의 말 연습', '단 한 번의 삶', '어른의 품격을 채우는 100일 필사 노트', '이로운 보수 의로운 진보', '소년이 온다', '초역 부처의 말', '어른의 행복은 조용하다', '모순', '듀얼 브레인', '쇼펜하우어 인생수업 : 한 번뿐인 삶 이렇게 살아라 (리커버 에디션)', '빛과 실', '에그박사 15', '혼모노', '위버멘쉬', '친구 사이에도 예의가 필요해', '급류', '괴수 8호 15 트리플특장판', '첫 여름, 완주', '친구가 상처 줄 때 똑똑하게 나를 지키는 법', '결국 국민이 합니다', '워런 버핏 웨이', '서랍에 저녁을 넣어 두었다', '2025 큰별쌤 최태성의 별별한국사 한국사능력검정시험 심화(1,2,3급) 상'], '저자및출판사': ['유시민', '웅진지식하우스', '윤지영', '카시오페아', '김영하', '복복서가', '김종원', '청림Life', '최강욱', '최강혁', '한겨레출판', '한강', '창비', '코이케 류노스케', '박재현', '포레스트북스', '태수', '페이지2북스', '양귀자', '쓰다', '이선 몰릭', '신동숙', '상상스퀘어', '쇼펜하우어', '김지민', '하이스트', '한강', '문학과지성사', '에그박사', '박송이', '홍종현', '주세종', '미래엔아이세움', '성해나', '창비', '프리드리히 니체', '떠오름', '한진아', '지니 킴', '박혜림', '길벗스쿨', '정대건', '민음사', '마츠모토 나오야', '유유리', '서울미디어코믹스(서울문화사)', '김금희', '무제', '이현아', '서영', '한빛에듀', '이재명', '오마이북', '로버트 해그스트롬', '신용우', '상상스퀘어', '한강', '문학과지성사', '최태성', '이투스북 '], '가격': ['17,010', '15,750', '15,120', '18,000', '18,000', '13,500', '16,020', '16,020', '11,700', '18,900', '15,750', '13,500', '14,220', '16,200', '16,020', '15,300', '12,600', '5,400', '15,300', '15,120', '19,800', '29,700', '10,800', '14,850']}, {'순위': [1, 2, 3, 4, 5, 6, 7, 8, 9, 10, 11, 12, 13, 14, 15, 16, 17, 18, 19, 20, 21, 22, 23, 24], '책제목': ['청춘의 독서', '엄마의 말 연습', '단 한 번의 삶', '어른의 품격을 채우는 100일 필사 노트', '이로운 보수 의로운 진보', '소년이 온다', '초역 부처의 말', '어른의 행복은 조용하다', '모순', '듀얼 브레인', '쇼펜하우어 인생수업 : 한 번뿐인 삶 이렇게 살아라 (리커버 에디션)', '빛과 실', '에그박사 15', '혼모노', '위버멘쉬', '친구 사이에도 예의가 필요해', '급류', '괴수 8호 15 트리플특장판', '첫 여름, 완주', '친구가 상처 줄 때 똑똑하게 나를 지키는 법', '결국 국민이 합니다', '워런 버핏 웨이', '서랍에 저녁을 넣어 두었다', '2025 큰별쌤 최태성의 별별한국사 한국사능력검정시험 심화(1,2,3급) 상'], '저자및출판사': ['유시민', '웅진지식하우스', '윤지영', '카시오페아', '김영하', '복복서가', '김종원', '청림Life', '최강욱', '최강혁', '한겨레출판', '한강', '창비', '코이케 류노스케', '박재현', '포레스트북스', '태수', '페이지2북스', '양귀자', '쓰다', '이선 몰릭', '신동숙', '상상스퀘어', '쇼펜하우어', '김지민', '하이스트', '한강', '문학과지성사', '에그박사', '박송이', '홍종현', '주세종', '미래엔아이세움', '성해나', '창비', '프리드리히 니체', '떠오름', '한진아', '지니 킴', '박혜림', '길벗스쿨', '정대건', '민음사', '마츠모토 나오야', '유유리', '서울미디어코믹스(서울문화사)', '김금희', '무제', '이현아', '서영', '한빛에듀', '이재명', '오마이북', '로버트 해그스트롬', '신용우', '상상스퀘어', '한강', '문학과지성사', '최태성', '이투스북 '], '가격': ['17,010', '15,750', '15,120', '18,000', '18,000', '13,500', '16,020', '16,020', '11,700', '18,900', '15,750', '13,500', '14,220', '16,200', '16,020', '15,300', '12,600', '5,400', '15,300', '15,120', '19,800', '29,700', '10,800', '14,850']}, {'순위': [1, 2, 3, 4, 5, 6, 7, 8, 9, 10, 11, 12, 13, 14, 15, 16, 17, 18, 19, 20, 21, 22, 23, 24], '책제목': ['청춘의 독서', '엄마의 말 연습', '단 한 번의 삶', '어른의 품격을 채우는 100일 필사 노트', '이로운 보수 의로운 진보', '소년이 온다', '초역 부처의 말', '어른의 행복은 조용하다', '모순', '듀얼 브레인', '쇼펜하우어 인생수업 : 한 번뿐인 삶 이렇게 살아라 (리커버 에디션)', '빛과 실', '에그박사 15', '혼모노', '위버멘쉬', '친구 사이에도 예의가 필요해', '급류', '괴수 8호 15 트리플특장판', '첫 여름, 완주', '친구가 상처 줄 때 똑똑하게 나를 지키는 법', '결국 국민이 합니다', '워런 버핏 웨이', '서랍에 저녁을 넣어 두었다', '2025 큰별쌤 최태성의 별별한국사 한국사능력검정시험 심화(1,2,3급) 상'], '저자및출판사': ['유시민', '웅진지식하우스', '윤지영', '카시오페아', '김영하', '복복서가', '김종원', '청림Life', '최강욱', '최강혁', '한겨레출판', '한강', '창비', '코이케 류노스케', '박재현', '포레스트북스', '태수', '페이지2북스', '양귀자', '쓰다', '이선 몰릭', '신동숙', '상상스퀘어', '쇼펜하우어', '김지민', '하이스트', '한강', '문학과지성사', '에그박사', '박송이', '홍종현', '주세종', '미래엔아이세움', '성해나', '창비', '프리드리히 니체', '떠오름', '한진아', '지니 킴', '박혜림', '길벗스쿨', '정대건', '민음사', '마츠모토 나오야', '유유리', '서울미디어코믹스(서울문화사)', '김금희', '무제', '이현아', '서영', '한빛에듀', '이재명', '오마이북', '로버트 해그스트롬', '신용우', '상상스퀘어', '한강', '문학과지성사', '최태성', '이투스북 '], '가격': ['17,010', '15,750', '15,120', '18,000', '18,000', '13,500', '16,020', '16,020', '11,700', '18,900', '15,750', '13,500', '14,220', '16,200', '16,020', '15,300', '12,600', '5,400', '15,300', '15,120', '19,800', '29,700', '10,800', '14,850']}, {'순위': [1, 2, 3, 4, 5, 6, 7, 8, 9, 10, 11, 12, 13, 14, 15, 16, 17, 18, 19, 20, 21, 22, 23, 24], '책제목': ['청춘의 독서', '엄마의 말 연습', '단 한 번의 삶', '어른의 품격을 채우는 100일 필사 노트', '이로운 보수 의로운 진보', '소년이 온다', '초역 부처의 말', '어른의 행복은 조용하다', '모순', '듀얼 브레인', '쇼펜하우어 인생수업 : 한 번뿐인 삶 이렇게 살아라 (리커버 에디션)', '빛과 실', '에그박사 15', '혼모노', '위버멘쉬', '친구 사이에도 예의가 필요해', '급류', '괴수 8호 15 트리플특장판', '첫 여름, 완주', '친구가 상처 줄 때 똑똑하게 나를 지키는 법', '결국 국민이 합니다', '워런 버핏 웨이', '서랍에 저녁을 넣어 두었다', '2025 큰별쌤 최태성의 별별한국사 한국사능력검정시험 심화(1,2,3급) 상'], '저자및출판사': ['유시민', '웅진지식하우스', '윤지영', '카시오페아', '김영하', '복복서가', '김종원', '청림Life', '최강욱', '최강혁', '한겨레출판', '한강', '창비', '코이케 류노스케', '박재현', '포레스트북스', '태수', '페이지2북스', '양귀자', '쓰다', '이선 몰릭', '신동숙', '상상스퀘어', '쇼펜하우어', '김지민', '하이스트', '한강', '문학과지성사', '에그박사', '박송이', '홍종현', '주세종', '미래엔아이세움', '성해나', '창비', '프리드리히 니체', '떠오름', '한진아', '지니 킴', '박혜림', '길벗스쿨', '정대건', '민음사', '마츠모토 나오야', '유유리', '서울미디어코믹스(서울문화사)', '김금희', '무제', '이현아', '서영', '한빛에듀', '이재명', '오마이북', '로버트 해그스트롬', '신용우', '상상스퀘어', '한강', '문학과지성사', '최태성', '이투스북 '], '가격': ['17,010', '15,750', '15,120', '18,000', '18,000', '13,500', '16,020', '16,020', '11,700', '18,900', '15,750', '13,500', '14,220', '16,200', '16,020', '15,300', '12,600', '5,400', '15,300', '15,120', '19,800', '29,700', '10,800', '14,850']}, {'순위': [1, 2, 3, 4, 5, 6, 7, 8, 9, 10, 11, 12, 13, 14, 15, 16, 17, 18, 19, 20, 21, 22, 23, 24], '책제목': ['청춘의 독서', '엄마의 말 연습', '단 한 번의 삶', '어른의 품격을 채우는 100일 필사 노트', '이로운 보수 의로운 진보', '소년이 온다', '초역 부처의 말', '어른의 행복은 조용하다', '모순', '듀얼 브레인', '쇼펜하우어 인생수업 : 한 번뿐인 삶 이렇게 살아라 (리커버 에디션)', '빛과 실', '에그박사 15', '혼모노', '위버멘쉬', '친구 사이에도 예의가 필요해', '급류', '괴수 8호 15 트리플특장판', '첫 여름, 완주', '친구가 상처 줄 때 똑똑하게 나를 지키는 법', '결국 국민이 합니다', '워런 버핏 웨이', '서랍에 저녁을 넣어 두었다', '2025 큰별쌤 최태성의 별별한국사 한국사능력검정시험 심화(1,2,3급) 상'], '저자및출판사': ['유시민', '웅진지식하우스', '윤지영', '카시오페아', '김영하', '복복서가', '김종원', '청림Life', '최강욱', '최강혁', '한겨레출판', '한강', '창비', '코이케 류노스케', '박재현', '포레스트북스', '태수', '페이지2북스', '양귀자', '쓰다', '이선 몰릭', '신동숙', '상상스퀘어', '쇼펜하우어', '김지민', '하이스트', '한강', '문학과지성사', '에그박사', '박송이', '홍종현', '주세종', '미래엔아이세움', '성해나', '창비', '프리드리히 니체', '떠오름', '한진아', '지니 킴', '박혜림', '길벗스쿨', '정대건', '민음사', '마츠모토 나오야', '유유리', '서울미디어코믹스(서울문화사)', '김금희', '무제', '이현아', '서영', '한빛에듀', '이재명', '오마이북', '로버트 해그스트롬', '신용우', '상상스퀘어', '한강', '문학과지성사', '최태성', '이투스북 '], '가격': ['17,010', '15,750', '15,120', '18,000', '18,000', '13,500', '16,020', '16,020', '11,700', '18,900', '15,750', '13,500', '14,220', '16,200', '16,020', '15,300', '12,600', '5,400', '15,300', '15,120', '19,800', '29,700', '10,800', '14,850']}, {'순위': [1, 2, 3, 4, 5, 6, 7, 8, 9, 10, 11, 12, 13, 14, 15, 16, 17, 18, 19, 20, 21, 22, 23, 24], '책제목': ['청춘의 독서', '엄마의 말 연습', '단 한 번의 삶', '어른의 품격을 채우는 100일 필사 노트', '이로운 보수 의로운 진보', '소년이 온다', '초역 부처의 말', '어른의 행복은 조용하다', '모순', '듀얼 브레인', '쇼펜하우어 인생수업 : 한 번뿐인 삶 이렇게 살아라 (리커버 에디션)', '빛과 실', '에그박사 15', '혼모노', '위버멘쉬', '친구 사이에도 예의가 필요해', '급류', '괴수 8호 15 트리플특장판', '첫 여름, 완주', '친구가 상처 줄 때 똑똑하게 나를 지키는 법', '결국 국민이 합니다', '워런 버핏 웨이', '서랍에 저녁을 넣어 두었다', '2025 큰별쌤 최태성의 별별한국사 한국사능력검정시험 심화(1,2,3급) 상'], '저자및출판사': ['유시민', '웅진지식하우스', '윤지영', '카시오페아', '김영하', '복복서가', '김종원', '청림Life', '최강욱', '최강혁', '한겨레출판', '한강', '창비', '코이케 류노스케', '박재현', '포레스트북스', '태수', '페이지2북스', '양귀자', '쓰다', '이선 몰릭', '신동숙', '상상스퀘어', '쇼펜하우어', '김지민', '하이스트', '한강', '문학과지성사', '에그박사', '박송이', '홍종현', '주세종', '미래엔아이세움', '성해나', '창비', '프리드리히 니체', '떠오름', '한진아', '지니 킴', '박혜림', '길벗스쿨', '정대건', '민음사', '마츠모토 나오야', '유유리', '서울미디어코믹스(서울문화사)', '김금희', '무제', '이현아', '서영', '한빛에듀', '이재명', '오마이북', '로버트 해그스트롬', '신용우', '상상스퀘어', '한강', '문학과지성사', '최태성', '이투스북 '], '가격': ['17,010', '15,750', '15,120', '18,000', '18,000', '13,500', '16,020', '16,020', '11,700', '18,900', '15,750', '13,500', '14,220', '16,200', '16,020', '15,300', '12,600', '5,400', '15,300', '15,120', '19,800', '29,700', '10,800', '14,850']}, {'순위': [1, 2, 3, 4, 5, 6, 7, 8, 9, 10, 11, 12, 13, 14, 15, 16, 17, 18, 19, 20, 21, 22, 23, 24], '책제목': ['청춘의 독서', '엄마의 말 연습', '단 한 번의 삶', '어른의 품격을 채우는 100일 필사 노트', '이로운 보수 의로운 진보', '소년이 온다', '초역 부처의 말', '어른의 행복은 조용하다', '모순', '듀얼 브레인', '쇼펜하우어 인생수업 : 한 번뿐인 삶 이렇게 살아라 (리커버 에디션)', '빛과 실', '에그박사 15', '혼모노', '위버멘쉬', '친구 사이에도 예의가 필요해', '급류', '괴수 8호 15 트리플특장판', '첫 여름, 완주', '친구가 상처 줄 때 똑똑하게 나를 지키는 법', '결국 국민이 합니다', '워런 버핏 웨이', '서랍에 저녁을 넣어 두었다', '2025 큰별쌤 최태성의 별별한국사 한국사능력검정시험 심화(1,2,3급) 상'], '저자및출판사': ['유시민', '웅진지식하우스', '윤지영', '카시오페아', '김영하', '복복서가', '김종원', '청림Life', '최강욱', '최강혁', '한겨레출판', '한강', '창비', '코이케 류노스케', '박재현', '포레스트북스', '태수', '페이지2북스', '양귀자', '쓰다', '이선 몰릭', '신동숙', '상상스퀘어', '쇼펜하우어', '김지민', '하이스트', '한강', '문학과지성사', '에그박사', '박송이', '홍종현', '주세종', '미래엔아이세움', '성해나', '창비', '프리드리히 니체', '떠오름', '한진아', '지니 킴', '박혜림', '길벗스쿨', '정대건', '민음사', '마츠모토 나오야', '유유리', '서울미디어코믹스(서울문화사)', '김금희', '무제', '이현아', '서영', '한빛에듀', '이재명', '오마이북', '로버트 해그스트롬', '신용우', '상상스퀘어', '한강', '문학과지성사', '최태성', '이투스북 '], '가격': ['17,010', '15,750', '15,120', '18,000', '18,000', '13,500', '16,020', '16,020', '11,700', '18,900', '15,750', '13,500', '14,220', '16,200', '16,020', '15,300', '12,600', '5,400', '15,300', '15,120', '19,800', '29,700', '10,800', '14,850']}, {'순위': [1, 2, 3, 4, 5, 6, 7, 8, 9, 10, 11, 12, 13, 14, 15, 16, 17, 18, 19, 20, 21, 22, 23, 24], '책제목': ['청춘의 독서', '엄마의 말 연습', '단 한 번의 삶', '어른의 품격을 채우는 100일 필사 노트', '이로운 보수 의로운 진보', '소년이 온다', '초역 부처의 말', '어른의 행복은 조용하다', '모순', '듀얼 브레인', '쇼펜하우어 인생수업 : 한 번뿐인 삶 이렇게 살아라 (리커버 에디션)', '빛과 실', '에그박사 15', '혼모노', '위버멘쉬', '친구 사이에도 예의가 필요해', '급류', '괴수 8호 15 트리플특장판', '첫 여름, 완주', '친구가 상처 줄 때 똑똑하게 나를 지키는 법', '결국 국민이 합니다', '워런 버핏 웨이', '서랍에 저녁을 넣어 두었다', '2025 큰별쌤 최태성의 별별한국사 한국사능력검정시험 심화(1,2,3급) 상'], '저자및출판사': ['유시민', '웅진지식하우스', '윤지영', '카시오페아', '김영하', '복복서가', '김종원', '청림Life', '최강욱', '최강혁', '한겨레출판', '한강', '창비', '코이케 류노스케', '박재현', '포레스트북스', '태수', '페이지2북스', '양귀자', '쓰다', '이선 몰릭', '신동숙', '상상스퀘어', '쇼펜하우어', '김지민', '하이스트', '한강', '문학과지성사', '에그박사', '박송이', '홍종현', '주세종', '미래엔아이세움', '성해나', '창비', '프리드리히 니체', '떠오름', '한진아', '지니 킴', '박혜림', '길벗스쿨', '정대건', '민음사', '마츠모토 나오야', '유유리', '서울미디어코믹스(서울문화사)', '김금희', '무제', '이현아', '서영', '한빛에듀', '이재명', '오마이북', '로버트 해그스트롬', '신용우', '상상스퀘어', '한강', '문학과지성사', '최태성', '이투스북 '], '가격': ['17,010', '15,750', '15,120', '18,000', '18,000', '13,500', '16,020', '16,020', '11,700', '18,900', '15,750', '13,500', '14,220', '16,200', '16,020', '15,300', '12,600', '5,400', '15,300', '15,120', '19,800', '29,700', '10,800', '14,850']}, {'순위': [1, 2, 3, 4, 5, 6, 7, 8, 9, 10, 11, 12, 13, 14, 15, 16, 17, 18, 19, 20, 21, 22, 23, 24], '책제목': ['청춘의 독서', '엄마의 말 연습', '단 한 번의 삶', '어른의 품격을 채우는 100일 필사 노트', '이로운 보수 의로운 진보', '소년이 온다', '초역 부처의 말', '어른의 행복은 조용하다', '모순', '듀얼 브레인', '쇼펜하우어 인생수업 : 한 번뿐인 삶 이렇게 살아라 (리커버 에디션)', '빛과 실', '에그박사 15', '혼모노', '위버멘쉬', '친구 사이에도 예의가 필요해', '급류', '괴수 8호 15 트리플특장판', '첫 여름, 완주', '친구가 상처 줄 때 똑똑하게 나를 지키는 법', '결국 국민이 합니다', '워런 버핏 웨이', '서랍에 저녁을 넣어 두었다', '2025 큰별쌤 최태성의 별별한국사 한국사능력검정시험 심화(1,2,3급) 상'], '저자및출판사': ['유시민', '웅진지식하우스', '윤지영', '카시오페아', '김영하', '복복서가', '김종원', '청림Life', '최강욱', '최강혁', '한겨레출판', '한강', '창비', '코이케 류노스케', '박재현', '포레스트북스', '태수', '페이지2북스', '양귀자', '쓰다', '이선 몰릭', '신동숙', '상상스퀘어', '쇼펜하우어', '김지민', '하이스트', '한강', '문학과지성사', '에그박사', '박송이', '홍종현', '주세종', '미래엔아이세움', '성해나', '창비', '프리드리히 니체', '떠오름', '한진아', '지니 킴', '박혜림', '길벗스쿨', '정대건', '민음사', '마츠모토 나오야', '유유리', '서울미디어코믹스(서울문화사)', '김금희', '무제', '이현아', '서영', '한빛에듀', '이재명', '오마이북', '로버트 해그스트롬', '신용우', '상상스퀘어', '한강', '문학과지성사', '최태성', '이투스북 '], '가격': ['17,010', '15,750', '15,120', '18,000', '18,000', '13,500', '16,020', '16,020', '11,700', '18,900', '15,750', '13,500', '14,220', '16,200', '16,020', '15,300', '12,600', '5,400', '15,300', '15,120', '19,800', '29,700', '10,800', '14,850']}, {'순위': [1, 2, 3, 4, 5, 6, 7, 8, 9, 10, 11, 12, 13, 14, 15, 16, 17, 18, 19, 20, 21, 22, 23, 24], '책제목': ['청춘의 독서', '엄마의 말 연습', '단 한 번의 삶', '어른의 품격을 채우는 100일 필사 노트', '이로운 보수 의로운 진보', '소년이 온다', '초역 부처의 말', '어른의 행복은 조용하다', '모순', '듀얼 브레인', '쇼펜하우어 인생수업 : 한 번뿐인 삶 이렇게 살아라 (리커버 에디션)', '빛과 실', '에그박사 15', '혼모노', '위버멘쉬', '친구 사이에도 예의가 필요해', '급류', '괴수 8호 15 트리플특장판', '첫 여름, 완주', '친구가 상처 줄 때 똑똑하게 나를 지키는 법', '결국 국민이 합니다', '워런 버핏 웨이', '서랍에 저녁을 넣어 두었다', '2025 큰별쌤 최태성의 별별한국사 한국사능력검정시험 심화(1,2,3급) 상'], '저자및출판사': ['유시민', '웅진지식하우스', '윤지영', '카시오페아', '김영하', '복복서가', '김종원', '청림Life', '최강욱', '최강혁', '한겨레출판', '한강', '창비', '코이케 류노스케', '박재현', '포레스트북스', '태수', '페이지2북스', '양귀자', '쓰다', '이선 몰릭', '신동숙', '상상스퀘어', '쇼펜하우어', '김지민', '하이스트', '한강', '문학과지성사', '에그박사', '박송이', '홍종현', '주세종', '미래엔아이세움', '성해나', '창비', '프리드리히 니체', '떠오름', '한진아', '지니 킴', '박혜림', '길벗스쿨', '정대건', '민음사', '마츠모토 나오야', '유유리', '서울미디어코믹스(서울문화사)', '김금희', '무제', '이현아', '서영', '한빛에듀', '이재명', '오마이북', '로버트 해그스트롬', '신용우', '상상스퀘어', '한강', '문학과지성사', '최태성', '이투스북 '], '가격': ['17,010', '15,750', '15,120', '18,000', '18,000', '13,500', '16,020', '16,020', '11,700', '18,900', '15,750', '13,500', '14,220', '16,200', '16,020', '15,300', '12,600', '5,400', '15,300', '15,120', '19,800', '29,700', '10,800', '14,850']}, {'순위': [1, 2, 3, 4, 5, 6, 7, 8, 9, 10, 11, 12, 13, 14, 15, 16, 17, 18, 19, 20, 21, 22, 23, 24], '책제목': ['청춘의 독서', '엄마의 말 연습', '단 한 번의 삶', '어른의 품격을 채우는 100일 필사 노트', '이로운 보수 의로운 진보', '소년이 온다', '초역 부처의 말', '어른의 행복은 조용하다', '모순', '듀얼 브레인', '쇼펜하우어 인생수업 : 한 번뿐인 삶 이렇게 살아라 (리커버 에디션)', '빛과 실', '에그박사 15', '혼모노', '위버멘쉬', '친구 사이에도 예의가 필요해', '급류', '괴수 8호 15 트리플특장판', '첫 여름, 완주', '친구가 상처 줄 때 똑똑하게 나를 지키는 법', '결국 국민이 합니다', '워런 버핏 웨이', '서랍에 저녁을 넣어 두었다', '2025 큰별쌤 최태성의 별별한국사 한국사능력검정시험 심화(1,2,3급) 상'], '저자및출판사': ['유시민', '웅진지식하우스', '윤지영', '카시오페아', '김영하', '복복서가', '김종원', '청림Life', '최강욱', '최강혁', '한겨레출판', '한강', '창비', '코이케 류노스케', '박재현', '포레스트북스', '태수', '페이지2북스', '양귀자', '쓰다', '이선 몰릭', '신동숙', '상상스퀘어', '쇼펜하우어', '김지민', '하이스트', '한강', '문학과지성사', '에그박사', '박송이', '홍종현', '주세종', '미래엔아이세움', '성해나', '창비', '프리드리히 니체', '떠오름', '한진아', '지니 킴', '박혜림', '길벗스쿨', '정대건', '민음사', '마츠모토 나오야', '유유리', '서울미디어코믹스(서울문화사)', '김금희', '무제', '이현아', '서영', '한빛에듀', '이재명', '오마이북', '로버트 해그스트롬', '신용우', '상상스퀘어', '한강', '문학과지성사', '최태성', '이투스북 '], '가격': ['17,010', '15,750', '15,120', '18,000', '18,000', '13,500', '16,020', '16,020', '11,700', '18,900', '15,750', '13,500', '14,220', '16,200', '16,020', '15,300', '12,600', '5,400', '15,300', '15,120', '19,800', '29,700', '10,800', '14,850']}, {'순위': [1, 2, 3, 4, 5, 6, 7, 8, 9, 10, 11, 12, 13, 14, 15, 16, 17, 18, 19, 20, 21, 22, 23, 24], '책제목': ['청춘의 독서', '엄마의 말 연습', '단 한 번의 삶', '어른의 품격을 채우는 100일 필사 노트', '이로운 보수 의로운 진보', '소년이 온다', '초역 부처의 말', '어른의 행복은 조용하다', '모순', '듀얼 브레인', '쇼펜하우어 인생수업 : 한 번뿐인 삶 이렇게 살아라 (리커버 에디션)', '빛과 실', '에그박사 15', '혼모노', '위버멘쉬', '친구 사이에도 예의가 필요해', '급류', '괴수 8호 15 트리플특장판', '첫 여름, 완주', '친구가 상처 줄 때 똑똑하게 나를 지키는 법', '결국 국민이 합니다', '워런 버핏 웨이', '서랍에 저녁을 넣어 두었다', '2025 큰별쌤 최태성의 별별한국사 한국사능력검정시험 심화(1,2,3급) 상'], '저자및출판사': ['유시민', '웅진지식하우스', '윤지영', '카시오페아', '김영하', '복복서가', '김종원', '청림Life', '최강욱', '최강혁', '한겨레출판', '한강', '창비', '코이케 류노스케', '박재현', '포레스트북스', '태수', '페이지2북스', '양귀자', '쓰다', '이선 몰릭', '신동숙', '상상스퀘어', '쇼펜하우어', '김지민', '하이스트', '한강', '문학과지성사', '에그박사', '박송이', '홍종현', '주세종', '미래엔아이세움', '성해나', '창비', '프리드리히 니체', '떠오름', '한진아', '지니 킴', '박혜림', '길벗스쿨', '정대건', '민음사', '마츠모토 나오야', '유유리', '서울미디어코믹스(서울문화사)', '김금희', '무제', '이현아', '서영', '한빛에듀', '이재명', '오마이북', '로버트 해그스트롬', '신용우', '상상스퀘어', '한강', '문학과지성사', '최태성', '이투스북 '], '가격': ['17,010', '15,750', '15,120', '18,000', '18,000', '13,500', '16,020', '16,020', '11,700', '18,900', '15,750', '13,500', '14,220', '16,200', '16,020', '15,300', '12,600', '5,400', '15,300', '15,120', '19,800', '29,700', '10,800', '14,850']}, {'순위': [1, 2, 3, 4, 5, 6, 7, 8, 9, 10, 11, 12, 13, 14, 15, 16, 17, 18, 19, 20, 21, 22, 23, 24], '책제목': ['청춘의 독서', '엄마의 말 연습', '단 한 번의 삶', '어른의 품격을 채우는 100일 필사 노트', '이로운 보수 의로운 진보', '소년이 온다', '초역 부처의 말', '어른의 행복은 조용하다', '모순', '듀얼 브레인', '쇼펜하우어 인생수업 : 한 번뿐인 삶 이렇게 살아라 (리커버 에디션)', '빛과 실', '에그박사 15', '혼모노', '위버멘쉬', '친구 사이에도 예의가 필요해', '급류', '괴수 8호 15 트리플특장판', '첫 여름, 완주', '친구가 상처 줄 때 똑똑하게 나를 지키는 법', '결국 국민이 합니다', '워런 버핏 웨이', '서랍에 저녁을 넣어 두었다', '2025 큰별쌤 최태성의 별별한국사 한국사능력검정시험 심화(1,2,3급) 상'], '저자및출판사': ['유시민', '웅진지식하우스', '윤지영', '카시오페아', '김영하', '복복서가', '김종원', '청림Life', '최강욱', '최강혁', '한겨레출판', '한강', '창비', '코이케 류노스케', '박재현', '포레스트북스', '태수', '페이지2북스', '양귀자', '쓰다', '이선 몰릭', '신동숙', '상상스퀘어', '쇼펜하우어', '김지민', '하이스트', '한강', '문학과지성사', '에그박사', '박송이', '홍종현', '주세종', '미래엔아이세움', '성해나', '창비', '프리드리히 니체', '떠오름', '한진아', '지니 킴', '박혜림', '길벗스쿨', '정대건', '민음사', '마츠모토 나오야', '유유리', '서울미디어코믹스(서울문화사)', '김금희', '무제', '이현아', '서영', '한빛에듀', '이재명', '오마이북', '로버트 해그스트롬', '신용우', '상상스퀘어', '한강', '문학과지성사', '최태성', '이투스북 '], '가격': ['17,010', '15,750', '15,120', '18,000', '18,000', '13,500', '16,020', '16,020', '11,700', '18,900', '15,750', '13,500', '14,220', '16,200', '16,020', '15,300', '12,600', '5,400', '15,300', '15,120', '19,800', '29,700', '10,800', '14,850']}, {'순위': [1, 2, 3, 4, 5, 6, 7, 8, 9, 10, 11, 12, 13, 14, 15, 16, 17, 18, 19, 20, 21, 22, 23, 24], '책제목': ['청춘의 독서', '엄마의 말 연습', '단 한 번의 삶', '어른의 품격을 채우는 100일 필사 노트', '이로운 보수 의로운 진보', '소년이 온다', '초역 부처의 말', '어른의 행복은 조용하다', '모순', '듀얼 브레인', '쇼펜하우어 인생수업 : 한 번뿐인 삶 이렇게 살아라 (리커버 에디션)', '빛과 실', '에그박사 15', '혼모노', '위버멘쉬', '친구 사이에도 예의가 필요해', '급류', '괴수 8호 15 트리플특장판', '첫 여름, 완주', '친구가 상처 줄 때 똑똑하게 나를 지키는 법', '결국 국민이 합니다', '워런 버핏 웨이', '서랍에 저녁을 넣어 두었다', '2025 큰별쌤 최태성의 별별한국사 한국사능력검정시험 심화(1,2,3급) 상'], '저자및출판사': ['유시민', '웅진지식하우스', '윤지영', '카시오페아', '김영하', '복복서가', '김종원', '청림Life', '최강욱', '최강혁', '한겨레출판', '한강', '창비', '코이케 류노스케', '박재현', '포레스트북스', '태수', '페이지2북스', '양귀자', '쓰다', '이선 몰릭', '신동숙', '상상스퀘어', '쇼펜하우어', '김지민', '하이스트', '한강', '문학과지성사', '에그박사', '박송이', '홍종현', '주세종', '미래엔아이세움', '성해나', '창비', '프리드리히 니체', '떠오름', '한진아', '지니 킴', '박혜림', '길벗스쿨', '정대건', '민음사', '마츠모토 나오야', '유유리', '서울미디어코믹스(서울문화사)', '김금희', '무제', '이현아', '서영', '한빛에듀', '이재명', '오마이북', '로버트 해그스트롬', '신용우', '상상스퀘어', '한강', '문학과지성사', '최태성', '이투스북 '], '가격': ['17,010', '15,750', '15,120', '18,000', '18,000', '13,500', '16,020', '16,020', '11,700', '18,900', '15,750', '13,500', '14,220', '16,200', '16,020', '15,300', '12,600', '5,400', '15,300', '15,120', '19,800', '29,700', '10,800', '14,850']}, {'순위': [1, 2, 3, 4, 5, 6, 7, 8, 9, 10, 11, 12, 13, 14, 15, 16, 17, 18, 19, 20, 21, 22, 23, 24], '책제목': ['청춘의 독서', '엄마의 말 연습', '단 한 번의 삶', '어른의 품격을 채우는 100일 필사 노트', '이로운 보수 의로운 진보', '소년이 온다', '초역 부처의 말', '어른의 행복은 조용하다', '모순', '듀얼 브레인', '쇼펜하우어 인생수업 : 한 번뿐인 삶 이렇게 살아라 (리커버 에디션)', '빛과 실', '에그박사 15', '혼모노', '위버멘쉬', '친구 사이에도 예의가 필요해', '급류', '괴수 8호 15 트리플특장판', '첫 여름, 완주', '친구가 상처 줄 때 똑똑하게 나를 지키는 법', '결국 국민이 합니다', '워런 버핏 웨이', '서랍에 저녁을 넣어 두었다', '2025 큰별쌤 최태성의 별별한국사 한국사능력검정시험 심화(1,2,3급) 상'], '저자및출판사': ['유시민', '웅진지식하우스', '윤지영', '카시오페아', '김영하', '복복서가', '김종원', '청림Life', '최강욱', '최강혁', '한겨레출판', '한강', '창비', '코이케 류노스케', '박재현', '포레스트북스', '태수', '페이지2북스', '양귀자', '쓰다', '이선 몰릭', '신동숙', '상상스퀘어', '쇼펜하우어', '김지민', '하이스트', '한강', '문학과지성사', '에그박사', '박송이', '홍종현', '주세종', '미래엔아이세움', '성해나', '창비', '프리드리히 니체', '떠오름', '한진아', '지니 킴', '박혜림', '길벗스쿨', '정대건', '민음사', '마츠모토 나오야', '유유리', '서울미디어코믹스(서울문화사)', '김금희', '무제', '이현아', '서영', '한빛에듀', '이재명', '오마이북', '로버트 해그스트롬', '신용우', '상상스퀘어', '한강', '문학과지성사', '최태성', '이투스북 '], '가격': ['17,010', '15,750', '15,120', '18,000', '18,000', '13,500', '16,020', '16,020', '11,700', '18,900', '15,750', '13,500', '14,220', '16,200', '16,020', '15,300', '12,600', '5,400', '15,300', '15,120', '19,800', '29,700', '10,800', '14,850']}, {'순위': [1, 2, 3, 4, 5, 6, 7, 8, 9, 10, 11, 12, 13, 14, 15, 16, 17, 18, 19, 20, 21, 22, 23, 24], '책제목': ['청춘의 독서', '엄마의 말 연습', '단 한 번의 삶', '어른의 품격을 채우는 100일 필사 노트', '이로운 보수 의로운 진보', '소년이 온다', '초역 부처의 말', '어른의 행복은 조용하다', '모순', '듀얼 브레인', '쇼펜하우어 인생수업 : 한 번뿐인 삶 이렇게 살아라 (리커버 에디션)', '빛과 실', '에그박사 15', '혼모노', '위버멘쉬', '친구 사이에도 예의가 필요해', '급류', '괴수 8호 15 트리플특장판', '첫 여름, 완주', '친구가 상처 줄 때 똑똑하게 나를 지키는 법', '결국 국민이 합니다', '워런 버핏 웨이', '서랍에 저녁을 넣어 두었다', '2025 큰별쌤 최태성의 별별한국사 한국사능력검정시험 심화(1,2,3급) 상'], '저자및출판사': ['유시민', '웅진지식하우스', '윤지영', '카시오페아', '김영하', '복복서가', '김종원', '청림Life', '최강욱', '최강혁', '한겨레출판', '한강', '창비', '코이케 류노스케', '박재현', '포레스트북스', '태수', '페이지2북스', '양귀자', '쓰다', '이선 몰릭', '신동숙', '상상스퀘어', '쇼펜하우어', '김지민', '하이스트', '한강', '문학과지성사', '에그박사', '박송이', '홍종현', '주세종', '미래엔아이세움', '성해나', '창비', '프리드리히 니체', '떠오름', '한진아', '지니 킴', '박혜림', '길벗스쿨', '정대건', '민음사', '마츠모토 나오야', '유유리', '서울미디어코믹스(서울문화사)', '김금희', '무제', '이현아', '서영', '한빛에듀', '이재명', '오마이북', '로버트 해그스트롬', '신용우', '상상스퀘어', '한강', '문학과지성사', '최태성', '이투스북 '], '가격': ['17,010', '15,750', '15,120', '18,000', '18,000', '13,500', '16,020', '16,020', '11,700', '18,900', '15,750', '13,500', '14,220', '16,200', '16,020', '15,300', '12,600', '5,400', '15,300', '15,120', '19,800', '29,700', '10,800', '14,850']}, {'순위': [1, 2, 3, 4, 5, 6, 7, 8, 9, 10, 11, 12, 13, 14, 15, 16, 17, 18, 19, 20, 21, 22, 23, 24], '책제목': ['청춘의 독서', '엄마의 말 연습', '단 한 번의 삶', '어른의 품격을 채우는 100일 필사 노트', '이로운 보수 의로운 진보', '소년이 온다', '초역 부처의 말', '어른의 행복은 조용하다', '모순', '듀얼 브레인', '쇼펜하우어 인생수업 : 한 번뿐인 삶 이렇게 살아라 (리커버 에디션)', '빛과 실', '에그박사 15', '혼모노', '위버멘쉬', '친구 사이에도 예의가 필요해', '급류', '괴수 8호 15 트리플특장판', '첫 여름, 완주', '친구가 상처 줄 때 똑똑하게 나를 지키는 법', '결국 국민이 합니다', '워런 버핏 웨이', '서랍에 저녁을 넣어 두었다', '2025 큰별쌤 최태성의 별별한국사 한국사능력검정시험 심화(1,2,3급) 상'], '저자및출판사': ['유시민', '웅진지식하우스', '윤지영', '카시오페아', '김영하', '복복서가', '김종원', '청림Life', '최강욱', '최강혁', '한겨레출판', '한강', '창비', '코이케 류노스케', '박재현', '포레스트북스', '태수', '페이지2북스', '양귀자', '쓰다', '이선 몰릭', '신동숙', '상상스퀘어', '쇼펜하우어', '김지민', '하이스트', '한강', '문학과지성사', '에그박사', '박송이', '홍종현', '주세종', '미래엔아이세움', '성해나', '창비', '프리드리히 니체', '떠오름', '한진아', '지니 킴', '박혜림', '길벗스쿨', '정대건', '민음사', '마츠모토 나오야', '유유리', '서울미디어코믹스(서울문화사)', '김금희', '무제', '이현아', '서영', '한빛에듀', '이재명', '오마이북', '로버트 해그스트롬', '신용우', '상상스퀘어', '한강', '문학과지성사', '최태성', '이투스북 '], '가격': ['17,010', '15,750', '15,120', '18,000', '18,000', '13,500', '16,020', '16,020', '11,700', '18,900', '15,750', '13,500', '14,220', '16,200', '16,020', '15,300', '12,600', '5,400', '15,300', '15,120', '19,800', '29,700', '10,800', '14,850']}, {'순위': [1, 2, 3, 4, 5, 6, 7, 8, 9, 10, 11, 12, 13, 14, 15, 16, 17, 18, 19, 20, 21, 22, 23, 24], '책제목': ['청춘의 독서', '엄마의 말 연습', '단 한 번의 삶', '어른의 품격을 채우는 100일 필사 노트', '이로운 보수 의로운 진보', '소년이 온다', '초역 부처의 말', '어른의 행복은 조용하다', '모순', '듀얼 브레인', '쇼펜하우어 인생수업 : 한 번뿐인 삶 이렇게 살아라 (리커버 에디션)', '빛과 실', '에그박사 15', '혼모노', '위버멘쉬', '친구 사이에도 예의가 필요해', '급류', '괴수 8호 15 트리플특장판', '첫 여름, 완주', '친구가 상처 줄 때 똑똑하게 나를 지키는 법', '결국 국민이 합니다', '워런 버핏 웨이', '서랍에 저녁을 넣어 두었다', '2025 큰별쌤 최태성의 별별한국사 한국사능력검정시험 심화(1,2,3급) 상'], '저자및출판사': ['유시민', '웅진지식하우스', '윤지영', '카시오페아', '김영하', '복복서가', '김종원', '청림Life', '최강욱', '최강혁', '한겨레출판', '한강', '창비', '코이케 류노스케', '박재현', '포레스트북스', '태수', '페이지2북스', '양귀자', '쓰다', '이선 몰릭', '신동숙', '상상스퀘어', '쇼펜하우어', '김지민', '하이스트', '한강', '문학과지성사', '에그박사', '박송이', '홍종현', '주세종', '미래엔아이세움', '성해나', '창비', '프리드리히 니체', '떠오름', '한진아', '지니 킴', '박혜림', '길벗스쿨', '정대건', '민음사', '마츠모토 나오야', '유유리', '서울미디어코믹스(서울문화사)', '김금희', '무제', '이현아', '서영', '한빛에듀', '이재명', '오마이북', '로버트 해그스트롬', '신용우', '상상스퀘어', '한강', '문학과지성사', '최태성', '이투스북 '], '가격': ['17,010', '15,750', '15,120', '18,000', '18,000', '13,500', '16,020', '16,020', '11,700', '18,900', '15,750', '13,500', '14,220', '16,200', '16,020', '15,300', '12,600', '5,400', '15,300', '15,120', '19,800', '29,700', '10,800', '14,850']}, {'순위': [1, 2, 3, 4, 5, 6, 7, 8, 9, 10, 11, 12, 13, 14, 15, 16, 17, 18, 19, 20, 21, 22, 23, 24], '책제목': ['청춘의 독서', '엄마의 말 연습', '단 한 번의 삶', '어른의 품격을 채우는 100일 필사 노트', '이로운 보수 의로운 진보', '소년이 온다', '초역 부처의 말', '어른의 행복은 조용하다', '모순', '듀얼 브레인', '쇼펜하우어 인생수업 : 한 번뿐인 삶 이렇게 살아라 (리커버 에디션)', '빛과 실', '에그박사 15', '혼모노', '위버멘쉬', '친구 사이에도 예의가 필요해', '급류', '괴수 8호 15 트리플특장판', '첫 여름, 완주', '친구가 상처 줄 때 똑똑하게 나를 지키는 법', '결국 국민이 합니다', '워런 버핏 웨이', '서랍에 저녁을 넣어 두었다', '2025 큰별쌤 최태성의 별별한국사 한국사능력검정시험 심화(1,2,3급) 상'], '저자및출판사': ['유시민', '웅진지식하우스', '윤지영', '카시오페아', '김영하', '복복서가', '김종원', '청림Life', '최강욱', '최강혁', '한겨레출판', '한강', '창비', '코이케 류노스케', '박재현', '포레스트북스', '태수', '페이지2북스', '양귀자', '쓰다', '이선 몰릭', '신동숙', '상상스퀘어', '쇼펜하우어', '김지민', '하이스트', '한강', '문학과지성사', '에그박사', '박송이', '홍종현', '주세종', '미래엔아이세움', '성해나', '창비', '프리드리히 니체', '떠오름', '한진아', '지니 킴', '박혜림', '길벗스쿨', '정대건', '민음사', '마츠모토 나오야', '유유리', '서울미디어코믹스(서울문화사)', '김금희', '무제', '이현아', '서영', '한빛에듀', '이재명', '오마이북', '로버트 해그스트롬', '신용우', '상상스퀘어', '한강', '문학과지성사', '최태성', '이투스북 '], '가격': ['17,010', '15,750', '15,120', '18,000', '18,000', '13,500', '16,020', '16,020', '11,700', '18,900', '15,750', '13,500', '14,220', '16,200', '16,020', '15,300', '12,600', '5,400', '15,300', '15,120', '19,800', '29,700', '10,800', '14,850']}, {'순위': [1, 2, 3, 4, 5, 6, 7, 8, 9, 10, 11, 12, 13, 14, 15, 16, 17, 18, 19, 20, 21, 22, 23, 24], '책제목': ['청춘의 독서', '엄마의 말 연습', '단 한 번의 삶', '어른의 품격을 채우는 100일 필사 노트', '이로운 보수 의로운 진보', '소년이 온다', '초역 부처의 말', '어른의 행복은 조용하다', '모순', '듀얼 브레인', '쇼펜하우어 인생수업 : 한 번뿐인 삶 이렇게 살아라 (리커버 에디션)', '빛과 실', '에그박사 15', '혼모노', '위버멘쉬', '친구 사이에도 예의가 필요해', '급류', '괴수 8호 15 트리플특장판', '첫 여름, 완주', '친구가 상처 줄 때 똑똑하게 나를 지키는 법', '결국 국민이 합니다', '워런 버핏 웨이', '서랍에 저녁을 넣어 두었다', '2025 큰별쌤 최태성의 별별한국사 한국사능력검정시험 심화(1,2,3급) 상'], '저자및출판사': ['유시민', '웅진지식하우스', '윤지영', '카시오페아', '김영하', '복복서가', '김종원', '청림Life', '최강욱', '최강혁', '한겨레출판', '한강', '창비', '코이케 류노스케', '박재현', '포레스트북스', '태수', '페이지2북스', '양귀자', '쓰다', '이선 몰릭', '신동숙', '상상스퀘어', '쇼펜하우어', '김지민', '하이스트', '한강', '문학과지성사', '에그박사', '박송이', '홍종현', '주세종', '미래엔아이세움', '성해나', '창비', '프리드리히 니체', '떠오름', '한진아', '지니 킴', '박혜림', '길벗스쿨', '정대건', '민음사', '마츠모토 나오야', '유유리', '서울미디어코믹스(서울문화사)', '김금희', '무제', '이현아', '서영', '한빛에듀', '이재명', '오마이북', '로버트 해그스트롬', '신용우', '상상스퀘어', '한강', '문학과지성사', '최태성', '이투스북 '], '가격': ['17,010', '15,750', '15,120', '18,000', '18,000', '13,500', '16,020', '16,020', '11,700', '18,900', '15,750', '13,500', '14,220', '16,200', '16,020', '15,300', '12,600', '5,400', '15,300', '15,120', '19,800', '29,700', '10,800', '14,850']}, {'순위': [1, 2, 3, 4, 5, 6, 7, 8, 9, 10, 11, 12, 13, 14, 15, 16, 17, 18, 19, 20, 21, 22, 23, 24], '책제목': ['청춘의 독서', '엄마의 말 연습', '단 한 번의 삶', '어른의 품격을 채우는 100일 필사 노트', '이로운 보수 의로운 진보', '소년이 온다', '초역 부처의 말', '어른의 행복은 조용하다', '모순', '듀얼 브레인', '쇼펜하우어 인생수업 : 한 번뿐인 삶 이렇게 살아라 (리커버 에디션)', '빛과 실', '에그박사 15', '혼모노', '위버멘쉬', '친구 사이에도 예의가 필요해', '급류', '괴수 8호 15 트리플특장판', '첫 여름, 완주', '친구가 상처 줄 때 똑똑하게 나를 지키는 법', '결국 국민이 합니다', '워런 버핏 웨이', '서랍에 저녁을 넣어 두었다', '2025 큰별쌤 최태성의 별별한국사 한국사능력검정시험 심화(1,2,3급) 상'], '저자및출판사': ['유시민', '웅진지식하우스', '윤지영', '카시오페아', '김영하', '복복서가', '김종원', '청림Life', '최강욱', '최강혁', '한겨레출판', '한강', '창비', '코이케 류노스케', '박재현', '포레스트북스', '태수', '페이지2북스', '양귀자', '쓰다', '이선 몰릭', '신동숙', '상상스퀘어', '쇼펜하우어', '김지민', '하이스트', '한강', '문학과지성사', '에그박사', '박송이', '홍종현', '주세종', '미래엔아이세움', '성해나', '창비', '프리드리히 니체', '떠오름', '한진아', '지니 킴', '박혜림', '길벗스쿨', '정대건', '민음사', '마츠모토 나오야', '유유리', '서울미디어코믹스(서울문화사)', '김금희', '무제', '이현아', '서영', '한빛에듀', '이재명', '오마이북', '로버트 해그스트롬', '신용우', '상상스퀘어', '한강', '문학과지성사', '최태성', '이투스북 '], '가격': ['17,010', '15,750', '15,120', '18,000', '18,000', '13,500', '16,020', '16,020', '11,700', '18,900', '15,750', '13,500', '14,220', '16,200', '16,020', '15,300', '12,600', '5,400', '15,300', '15,120', '19,800', '29,700', '10,800', '14,850']}, {'순위': [1, 2, 3, 4, 5, 6, 7, 8, 9, 10, 11, 12, 13, 14, 15, 16, 17, 18, 19, 20, 21, 22, 23, 24], '책제목': ['청춘의 독서', '엄마의 말 연습', '단 한 번의 삶', '어른의 품격을 채우는 100일 필사 노트', '이로운 보수 의로운 진보', '소년이 온다', '초역 부처의 말', '어른의 행복은 조용하다', '모순', '듀얼 브레인', '쇼펜하우어 인생수업 : 한 번뿐인 삶 이렇게 살아라 (리커버 에디션)', '빛과 실', '에그박사 15', '혼모노', '위버멘쉬', '친구 사이에도 예의가 필요해', '급류', '괴수 8호 15 트리플특장판', '첫 여름, 완주', '친구가 상처 줄 때 똑똑하게 나를 지키는 법', '결국 국민이 합니다', '워런 버핏 웨이', '서랍에 저녁을 넣어 두었다', '2025 큰별쌤 최태성의 별별한국사 한국사능력검정시험 심화(1,2,3급) 상'], '저자및출판사': ['유시민', '웅진지식하우스', '윤지영', '카시오페아', '김영하', '복복서가', '김종원', '청림Life', '최강욱', '최강혁', '한겨레출판', '한강', '창비', '코이케 류노스케', '박재현', '포레스트북스', '태수', '페이지2북스', '양귀자', '쓰다', '이선 몰릭', '신동숙', '상상스퀘어', '쇼펜하우어', '김지민', '하이스트', '한강', '문학과지성사', '에그박사', '박송이', '홍종현', '주세종', '미래엔아이세움', '성해나', '창비', '프리드리히 니체', '떠오름', '한진아', '지니 킴', '박혜림', '길벗스쿨', '정대건', '민음사', '마츠모토 나오야', '유유리', '서울미디어코믹스(서울문화사)', '김금희', '무제', '이현아', '서영', '한빛에듀', '이재명', '오마이북', '로버트 해그스트롬', '신용우', '상상스퀘어', '한강', '문학과지성사', '최태성', '이투스북 '], '가격': ['17,010', '15,750', '15,120', '18,000', '18,000', '13,500', '16,020', '16,020', '11,700', '18,900', '15,750', '13,500', '14,220', '16,200', '16,020', '15,300', '12,600', '5,400', '15,300', '15,120', '19,800', '29,700', '10,800', '14,850']}, {'순위': [1, 2, 3, 4, 5, 6, 7, 8, 9, 10, 11, 12, 13, 14, 15, 16, 17, 18, 19, 20, 21, 22, 23, 24], '책제목': ['청춘의 독서', '엄마의 말 연습', '단 한 번의 삶', '어른의 품격을 채우는 100일 필사 노트', '이로운 보수 의로운 진보', '소년이 온다', '초역 부처의 말', '어른의 행복은 조용하다', '모순', '듀얼 브레인', '쇼펜하우어 인생수업 : 한 번뿐인 삶 이렇게 살아라 (리커버 에디션)', '빛과 실', '에그박사 15', '혼모노', '위버멘쉬', '친구 사이에도 예의가 필요해', '급류', '괴수 8호 15 트리플특장판', '첫 여름, 완주', '친구가 상처 줄 때 똑똑하게 나를 지키는 법', '결국 국민이 합니다', '워런 버핏 웨이', '서랍에 저녁을 넣어 두었다', '2025 큰별쌤 최태성의 별별한국사 한국사능력검정시험 심화(1,2,3급) 상'], '저자및출판사': ['유시민', '웅진지식하우스', '윤지영', '카시오페아', '김영하', '복복서가', '김종원', '청림Life', '최강욱', '최강혁', '한겨레출판', '한강', '창비', '코이케 류노스케', '박재현', '포레스트북스', '태수', '페이지2북스', '양귀자', '쓰다', '이선 몰릭', '신동숙', '상상스퀘어', '쇼펜하우어', '김지민', '하이스트', '한강', '문학과지성사', '에그박사', '박송이', '홍종현', '주세종', '미래엔아이세움', '성해나', '창비', '프리드리히 니체', '떠오름', '한진아', '지니 킴', '박혜림', '길벗스쿨', '정대건', '민음사', '마츠모토 나오야', '유유리', '서울미디어코믹스(서울문화사)', '김금희', '무제', '이현아', '서영', '한빛에듀', '이재명', '오마이북', '로버트 해그스트롬', '신용우', '상상스퀘어', '한강', '문학과지성사', '최태성', '이투스북 '], '가격': ['17,010', '15,750', '15,120', '18,000', '18,000', '13,500', '16,020', '16,020', '11,700', '18,900', '15,750', '13,500', '14,220', '16,200', '16,020', '15,300', '12,600', '5,400', '15,300', '15,120', '19,800', '29,700', '10,800', '14,850']}, {'순위': [1, 2, 3, 4, 5, 6, 7, 8, 9, 10, 11, 12, 13, 14, 15, 16, 17, 18, 19, 20, 21, 22, 23, 24], '책제목': ['청춘의 독서', '엄마의 말 연습', '단 한 번의 삶', '어른의 품격을 채우는 100일 필사 노트', '이로운 보수 의로운 진보', '소년이 온다', '초역 부처의 말', '어른의 행복은 조용하다', '모순', '듀얼 브레인', '쇼펜하우어 인생수업 : 한 번뿐인 삶 이렇게 살아라 (리커버 에디션)', '빛과 실', '에그박사 15', '혼모노', '위버멘쉬', '친구 사이에도 예의가 필요해', '급류', '괴수 8호 15 트리플특장판', '첫 여름, 완주', '친구가 상처 줄 때 똑똑하게 나를 지키는 법', '결국 국민이 합니다', '워런 버핏 웨이', '서랍에 저녁을 넣어 두었다', '2025 큰별쌤 최태성의 별별한국사 한국사능력검정시험 심화(1,2,3급) 상'], '저자및출판사': ['유시민', '웅진지식하우스', '윤지영', '카시오페아', '김영하', '복복서가', '김종원', '청림Life', '최강욱', '최강혁', '한겨레출판', '한강', '창비', '코이케 류노스케', '박재현', '포레스트북스', '태수', '페이지2북스', '양귀자', '쓰다', '이선 몰릭', '신동숙', '상상스퀘어', '쇼펜하우어', '김지민', '하이스트', '한강', '문학과지성사', '에그박사', '박송이', '홍종현', '주세종', '미래엔아이세움', '성해나', '창비', '프리드리히 니체', '떠오름', '한진아', '지니 킴', '박혜림', '길벗스쿨', '정대건', '민음사', '마츠모토 나오야', '유유리', '서울미디어코믹스(서울문화사)', '김금희', '무제', '이현아', '서영', '한빛에듀', '이재명', '오마이북', '로버트 해그스트롬', '신용우', '상상스퀘어', '한강', '문학과지성사', '최태성', '이투스북 '], '가격': ['17,010', '15,750', '15,120', '18,000', '18,000', '13,500', '16,020', '16,020', '11,700', '18,900', '15,750', '13,500', '14,220', '16,200', '16,020', '15,300', '12,600', '5,400', '15,300', '15,120', '19,800', '29,700', '10,800', '14,850']}, {'순위': [1, 2, 3, 4, 5, 6, 7, 8, 9, 10, 11, 12, 13, 14, 15, 16, 17, 18, 19, 20, 21, 22, 23, 24], '책제목': ['청춘의 독서', '엄마의 말 연습', '단 한 번의 삶', '어른의 품격을 채우는 100일 필사 노트', '이로운 보수 의로운 진보', '소년이 온다', '초역 부처의 말', '어른의 행복은 조용하다', '모순', '듀얼 브레인', '쇼펜하우어 인생수업 : 한 번뿐인 삶 이렇게 살아라 (리커버 에디션)', '빛과 실', '에그박사 15', '혼모노', '위버멘쉬', '친구 사이에도 예의가 필요해', '급류', '괴수 8호 15 트리플특장판', '첫 여름, 완주', '친구가 상처 줄 때 똑똑하게 나를 지키는 법', '결국 국민이 합니다', '워런 버핏 웨이', '서랍에 저녁을 넣어 두었다', '2025 큰별쌤 최태성의 별별한국사 한국사능력검정시험 심화(1,2,3급) 상'], '저자및출판사': ['유시민', '웅진지식하우스', '윤지영', '카시오페아', '김영하', '복복서가', '김종원', '청림Life', '최강욱', '최강혁', '한겨레출판', '한강', '창비', '코이케 류노스케', '박재현', '포레스트북스', '태수', '페이지2북스', '양귀자', '쓰다', '이선 몰릭', '신동숙', '상상스퀘어', '쇼펜하우어', '김지민', '하이스트', '한강', '문학과지성사', '에그박사', '박송이', '홍종현', '주세종', '미래엔아이세움', '성해나', '창비', '프리드리히 니체', '떠오름', '한진아', '지니 킴', '박혜림', '길벗스쿨', '정대건', '민음사', '마츠모토 나오야', '유유리', '서울미디어코믹스(서울문화사)', '김금희', '무제', '이현아', '서영', '한빛에듀', '이재명', '오마이북', '로버트 해그스트롬', '신용우', '상상스퀘어', '한강', '문학과지성사', '최태성', '이투스북 '], '가격': ['17,010', '15,750', '15,120', '18,000', '18,000', '13,500', '16,020', '16,020', '11,700', '18,900', '15,750', '13,500', '14,220', '16,200', '16,020', '15,300', '12,600', '5,400', '15,300', '15,120', '19,800', '29,700', '10,800', '14,850']}, {'순위': [1, 2, 3, 4, 5, 6, 7, 8, 9, 10, 11, 12, 13, 14, 15, 16, 17, 18, 19, 20, 21, 22, 23, 24], '책제목': ['청춘의 독서', '엄마의 말 연습', '단 한 번의 삶', '어른의 품격을 채우는 100일 필사 노트', '이로운 보수 의로운 진보', '소년이 온다', '초역 부처의 말', '어른의 행복은 조용하다', '모순', '듀얼 브레인', '쇼펜하우어 인생수업 : 한 번뿐인 삶 이렇게 살아라 (리커버 에디션)', '빛과 실', '에그박사 15', '혼모노', '위버멘쉬', '친구 사이에도 예의가 필요해', '급류', '괴수 8호 15 트리플특장판', '첫 여름, 완주', '친구가 상처 줄 때 똑똑하게 나를 지키는 법', '결국 국민이 합니다', '워런 버핏 웨이', '서랍에 저녁을 넣어 두었다', '2025 큰별쌤 최태성의 별별한국사 한국사능력검정시험 심화(1,2,3급) 상'], '저자및출판사': ['유시민', '웅진지식하우스', '윤지영', '카시오페아', '김영하', '복복서가', '김종원', '청림Life', '최강욱', '최강혁', '한겨레출판', '한강', '창비', '코이케 류노스케', '박재현', '포레스트북스', '태수', '페이지2북스', '양귀자', '쓰다', '이선 몰릭', '신동숙', '상상스퀘어', '쇼펜하우어', '김지민', '하이스트', '한강', '문학과지성사', '에그박사', '박송이', '홍종현', '주세종', '미래엔아이세움', '성해나', '창비', '프리드리히 니체', '떠오름', '한진아', '지니 킴', '박혜림', '길벗스쿨', '정대건', '민음사', '마츠모토 나오야', '유유리', '서울미디어코믹스(서울문화사)', '김금희', '무제', '이현아', '서영', '한빛에듀', '이재명', '오마이북', '로버트 해그스트롬', '신용우', '상상스퀘어', '한강', '문학과지성사', '최태성', '이투스북 '], '가격': ['17,010', '15,750', '15,120', '18,000', '18,000', '13,500', '16,020', '16,020', '11,700', '18,900', '15,750', '13,500', '14,220', '16,200', '16,020', '15,300', '12,600', '5,400', '15,300', '15,120', '19,800', '29,700', '10,800', '14,850']}, {'순위': [1, 2, 3, 4, 5, 6, 7, 8, 9, 10, 11, 12, 13, 14, 15, 16, 17, 18, 19, 20, 21, 22, 23, 24], '책제목': ['청춘의 독서', '엄마의 말 연습', '단 한 번의 삶', '어른의 품격을 채우는 100일 필사 노트', '이로운 보수 의로운 진보', '소년이 온다', '초역 부처의 말', '어른의 행복은 조용하다', '모순', '듀얼 브레인', '쇼펜하우어 인생수업 : 한 번뿐인 삶 이렇게 살아라 (리커버 에디션)', '빛과 실', '에그박사 15', '혼모노', '위버멘쉬', '친구 사이에도 예의가 필요해', '급류', '괴수 8호 15 트리플특장판', '첫 여름, 완주', '친구가 상처 줄 때 똑똑하게 나를 지키는 법', '결국 국민이 합니다', '워런 버핏 웨이', '서랍에 저녁을 넣어 두었다', '2025 큰별쌤 최태성의 별별한국사 한국사능력검정시험 심화(1,2,3급) 상'], '저자및출판사': ['유시민', '웅진지식하우스', '윤지영', '카시오페아', '김영하', '복복서가', '김종원', '청림Life', '최강욱', '최강혁', '한겨레출판', '한강', '창비', '코이케 류노스케', '박재현', '포레스트북스', '태수', '페이지2북스', '양귀자', '쓰다', '이선 몰릭', '신동숙', '상상스퀘어', '쇼펜하우어', '김지민', '하이스트', '한강', '문학과지성사', '에그박사', '박송이', '홍종현', '주세종', '미래엔아이세움', '성해나', '창비', '프리드리히 니체', '떠오름', '한진아', '지니 킴', '박혜림', '길벗스쿨', '정대건', '민음사', '마츠모토 나오야', '유유리', '서울미디어코믹스(서울문화사)', '김금희', '무제', '이현아', '서영', '한빛에듀', '이재명', '오마이북', '로버트 해그스트롬', '신용우', '상상스퀘어', '한강', '문학과지성사', '최태성', '이투스북 '], '가격': ['17,010', '15,750', '15,120', '18,000', '18,000', '13,500', '16,020', '16,020', '11,700', '18,900', '15,750', '13,500', '14,220', '16,200', '16,020', '15,300', '12,600', '5,400', '15,300', '15,120', '19,800', '29,700', '10,800', '14,850']}, {'순위': [1, 2, 3, 4, 5, 6, 7, 8, 9, 10, 11, 12, 13, 14, 15, 16, 17, 18, 19, 20, 21, 22, 23, 24], '책제목': ['청춘의 독서', '엄마의 말 연습', '단 한 번의 삶', '어른의 품격을 채우는 100일 필사 노트', '이로운 보수 의로운 진보', '소년이 온다', '초역 부처의 말', '어른의 행복은 조용하다', '모순', '듀얼 브레인', '쇼펜하우어 인생수업 : 한 번뿐인 삶 이렇게 살아라 (리커버 에디션)', '빛과 실', '에그박사 15', '혼모노', '위버멘쉬', '친구 사이에도 예의가 필요해', '급류', '괴수 8호 15 트리플특장판', '첫 여름, 완주', '친구가 상처 줄 때 똑똑하게 나를 지키는 법', '결국 국민이 합니다', '워런 버핏 웨이', '서랍에 저녁을 넣어 두었다', '2025 큰별쌤 최태성의 별별한국사 한국사능력검정시험 심화(1,2,3급) 상'], '저자및출판사': ['유시민', '웅진지식하우스', '윤지영', '카시오페아', '김영하', '복복서가', '김종원', '청림Life', '최강욱', '최강혁', '한겨레출판', '한강', '창비', '코이케 류노스케', '박재현', '포레스트북스', '태수', '페이지2북스', '양귀자', '쓰다', '이선 몰릭', '신동숙', '상상스퀘어', '쇼펜하우어', '김지민', '하이스트', '한강', '문학과지성사', '에그박사', '박송이', '홍종현', '주세종', '미래엔아이세움', '성해나', '창비', '프리드리히 니체', '떠오름', '한진아', '지니 킴', '박혜림', '길벗스쿨', '정대건', '민음사', '마츠모토 나오야', '유유리', '서울미디어코믹스(서울문화사)', '김금희', '무제', '이현아', '서영', '한빛에듀', '이재명', '오마이북', '로버트 해그스트롬', '신용우', '상상스퀘어', '한강', '문학과지성사', '최태성', '이투스북 '], '가격': ['17,010', '15,750', '15,120', '18,000', '18,000', '13,500', '16,020', '16,020', '11,700', '18,900', '15,750', '13,500', '14,220', '16,200', '16,020', '15,300', '12,600', '5,400', '15,300', '15,120', '19,800', '29,700', '10,800', '14,850']}, {'순위': [1, 2, 3, 4, 5, 6, 7, 8, 9, 10, 11, 12, 13, 14, 15, 16, 17, 18, 19, 20, 21, 22, 23, 24], '책제목': ['청춘의 독서', '엄마의 말 연습', '단 한 번의 삶', '어른의 품격을 채우는 100일 필사 노트', '이로운 보수 의로운 진보', '소년이 온다', '초역 부처의 말', '어른의 행복은 조용하다', '모순', '듀얼 브레인', '쇼펜하우어 인생수업 : 한 번뿐인 삶 이렇게 살아라 (리커버 에디션)', '빛과 실', '에그박사 15', '혼모노', '위버멘쉬', '친구 사이에도 예의가 필요해', '급류', '괴수 8호 15 트리플특장판', '첫 여름, 완주', '친구가 상처 줄 때 똑똑하게 나를 지키는 법', '결국 국민이 합니다', '워런 버핏 웨이', '서랍에 저녁을 넣어 두었다', '2025 큰별쌤 최태성의 별별한국사 한국사능력검정시험 심화(1,2,3급) 상'], '저자및출판사': ['유시민', '웅진지식하우스', '윤지영', '카시오페아', '김영하', '복복서가', '김종원', '청림Life', '최강욱', '최강혁', '한겨레출판', '한강', '창비', '코이케 류노스케', '박재현', '포레스트북스', '태수', '페이지2북스', '양귀자', '쓰다', '이선 몰릭', '신동숙', '상상스퀘어', '쇼펜하우어', '김지민', '하이스트', '한강', '문학과지성사', '에그박사', '박송이', '홍종현', '주세종', '미래엔아이세움', '성해나', '창비', '프리드리히 니체', '떠오름', '한진아', '지니 킴', '박혜림', '길벗스쿨', '정대건', '민음사', '마츠모토 나오야', '유유리', '서울미디어코믹스(서울문화사)', '김금희', '무제', '이현아', '서영', '한빛에듀', '이재명', '오마이북', '로버트 해그스트롬', '신용우', '상상스퀘어', '한강', '문학과지성사', '최태성', '이투스북 '], '가격': ['17,010', '15,750', '15,120', '18,000', '18,000', '13,500', '16,020', '16,020', '11,700', '18,900', '15,750', '13,500', '14,220', '16,200', '16,020', '15,300', '12,600', '5,400', '15,300', '15,120', '19,800', '29,700', '10,800', '14,850']}, {'순위': [1, 2, 3, 4, 5, 6, 7, 8, 9, 10, 11, 12, 13, 14, 15, 16, 17, 18, 19, 20, 21, 22, 23, 24], '책제목': ['청춘의 독서', '엄마의 말 연습', '단 한 번의 삶', '어른의 품격을 채우는 100일 필사 노트', '이로운 보수 의로운 진보', '소년이 온다', '초역 부처의 말', '어른의 행복은 조용하다', '모순', '듀얼 브레인', '쇼펜하우어 인생수업 : 한 번뿐인 삶 이렇게 살아라 (리커버 에디션)', '빛과 실', '에그박사 15', '혼모노', '위버멘쉬', '친구 사이에도 예의가 필요해', '급류', '괴수 8호 15 트리플특장판', '첫 여름, 완주', '친구가 상처 줄 때 똑똑하게 나를 지키는 법', '결국 국민이 합니다', '워런 버핏 웨이', '서랍에 저녁을 넣어 두었다', '2025 큰별쌤 최태성의 별별한국사 한국사능력검정시험 심화(1,2,3급) 상'], '저자및출판사': ['유시민', '웅진지식하우스', '윤지영', '카시오페아', '김영하', '복복서가', '김종원', '청림Life', '최강욱', '최강혁', '한겨레출판', '한강', '창비', '코이케 류노스케', '박재현', '포레스트북스', '태수', '페이지2북스', '양귀자', '쓰다', '이선 몰릭', '신동숙', '상상스퀘어', '쇼펜하우어', '김지민', '하이스트', '한강', '문학과지성사', '에그박사', '박송이', '홍종현', '주세종', '미래엔아이세움', '성해나', '창비', '프리드리히 니체', '떠오름', '한진아', '지니 킴', '박혜림', '길벗스쿨', '정대건', '민음사', '마츠모토 나오야', '유유리', '서울미디어코믹스(서울문화사)', '김금희', '무제', '이현아', '서영', '한빛에듀', '이재명', '오마이북', '로버트 해그스트롬', '신용우', '상상스퀘어', '한강', '문학과지성사', '최태성', '이투스북 '], '가격': ['17,010', '15,750', '15,120', '18,000', '18,000', '13,500', '16,020', '16,020', '11,700', '18,900', '15,750', '13,500', '14,220', '16,200', '16,020', '15,300', '12,600', '5,400', '15,300', '15,120', '19,800', '29,700', '10,800', '14,850']}, {'순위': [1, 2, 3, 4, 5, 6, 7, 8, 9, 10, 11, 12, 13, 14, 15, 16, 17, 18, 19, 20, 21, 22, 23, 24], '책제목': ['청춘의 독서', '엄마의 말 연습', '단 한 번의 삶', '어른의 품격을 채우는 100일 필사 노트', '이로운 보수 의로운 진보', '소년이 온다', '초역 부처의 말', '어른의 행복은 조용하다', '모순', '듀얼 브레인', '쇼펜하우어 인생수업 : 한 번뿐인 삶 이렇게 살아라 (리커버 에디션)', '빛과 실', '에그박사 15', '혼모노', '위버멘쉬', '친구 사이에도 예의가 필요해', '급류', '괴수 8호 15 트리플특장판', '첫 여름, 완주', '친구가 상처 줄 때 똑똑하게 나를 지키는 법', '결국 국민이 합니다', '워런 버핏 웨이', '서랍에 저녁을 넣어 두었다', '2025 큰별쌤 최태성의 별별한국사 한국사능력검정시험 심화(1,2,3급) 상'], '저자및출판사': ['유시민', '웅진지식하우스', '윤지영', '카시오페아', '김영하', '복복서가', '김종원', '청림Life', '최강욱', '최강혁', '한겨레출판', '한강', '창비', '코이케 류노스케', '박재현', '포레스트북스', '태수', '페이지2북스', '양귀자', '쓰다', '이선 몰릭', '신동숙', '상상스퀘어', '쇼펜하우어', '김지민', '하이스트', '한강', '문학과지성사', '에그박사', '박송이', '홍종현', '주세종', '미래엔아이세움', '성해나', '창비', '프리드리히 니체', '떠오름', '한진아', '지니 킴', '박혜림', '길벗스쿨', '정대건', '민음사', '마츠모토 나오야', '유유리', '서울미디어코믹스(서울문화사)', '김금희', '무제', '이현아', '서영', '한빛에듀', '이재명', '오마이북', '로버트 해그스트롬', '신용우', '상상스퀘어', '한강', '문학과지성사', '최태성', '이투스북 '], '가격': ['17,010', '15,750', '15,120', '18,000', '18,000', '13,500', '16,020', '16,020', '11,700', '18,900', '15,750', '13,500', '14,220', '16,200', '16,020', '15,300', '12,600', '5,400', '15,300', '15,120', '19,800', '29,700', '10,800', '14,850']}, {'순위': [1, 2, 3, 4, 5, 6, 7, 8, 9, 10, 11, 12, 13, 14, 15, 16, 17, 18, 19, 20, 21, 22, 23, 24], '책제목': ['청춘의 독서', '엄마의 말 연습', '단 한 번의 삶', '어른의 품격을 채우는 100일 필사 노트', '이로운 보수 의로운 진보', '소년이 온다', '초역 부처의 말', '어른의 행복은 조용하다', '모순', '듀얼 브레인', '쇼펜하우어 인생수업 : 한 번뿐인 삶 이렇게 살아라 (리커버 에디션)', '빛과 실', '에그박사 15', '혼모노', '위버멘쉬', '친구 사이에도 예의가 필요해', '급류', '괴수 8호 15 트리플특장판', '첫 여름, 완주', '친구가 상처 줄 때 똑똑하게 나를 지키는 법', '결국 국민이 합니다', '워런 버핏 웨이', '서랍에 저녁을 넣어 두었다', '2025 큰별쌤 최태성의 별별한국사 한국사능력검정시험 심화(1,2,3급) 상'], '저자및출판사': ['유시민', '웅진지식하우스', '윤지영', '카시오페아', '김영하', '복복서가', '김종원', '청림Life', '최강욱', '최강혁', '한겨레출판', '한강', '창비', '코이케 류노스케', '박재현', '포레스트북스', '태수', '페이지2북스', '양귀자', '쓰다', '이선 몰릭', '신동숙', '상상스퀘어', '쇼펜하우어', '김지민', '하이스트', '한강', '문학과지성사', '에그박사', '박송이', '홍종현', '주세종', '미래엔아이세움', '성해나', '창비', '프리드리히 니체', '떠오름', '한진아', '지니 킴', '박혜림', '길벗스쿨', '정대건', '민음사', '마츠모토 나오야', '유유리', '서울미디어코믹스(서울문화사)', '김금희', '무제', '이현아', '서영', '한빛에듀', '이재명', '오마이북', '로버트 해그스트롬', '신용우', '상상스퀘어', '한강', '문학과지성사', '최태성', '이투스북 '], '가격': ['17,010', '15,750', '15,120', '18,000', '18,000', '13,500', '16,020', '16,020', '11,700', '18,900', '15,750', '13,500', '14,220', '16,200', '16,020', '15,300', '12,600', '5,400', '15,300', '15,120', '19,800', '29,700', '10,800', '14,850']}, {'순위': [1, 2, 3, 4, 5, 6, 7, 8, 9, 10, 11, 12, 13, 14, 15, 16, 17, 18, 19, 20, 21, 22, 23, 24], '책제목': ['청춘의 독서', '엄마의 말 연습', '단 한 번의 삶', '어른의 품격을 채우는 100일 필사 노트', '이로운 보수 의로운 진보', '소년이 온다', '초역 부처의 말', '어른의 행복은 조용하다', '모순', '듀얼 브레인', '쇼펜하우어 인생수업 : 한 번뿐인 삶 이렇게 살아라 (리커버 에디션)', '빛과 실', '에그박사 15', '혼모노', '위버멘쉬', '친구 사이에도 예의가 필요해', '급류', '괴수 8호 15 트리플특장판', '첫 여름, 완주', '친구가 상처 줄 때 똑똑하게 나를 지키는 법', '결국 국민이 합니다', '워런 버핏 웨이', '서랍에 저녁을 넣어 두었다', '2025 큰별쌤 최태성의 별별한국사 한국사능력검정시험 심화(1,2,3급) 상'], '저자및출판사': ['유시민', '웅진지식하우스', '윤지영', '카시오페아', '김영하', '복복서가', '김종원', '청림Life', '최강욱', '최강혁', '한겨레출판', '한강', '창비', '코이케 류노스케', '박재현', '포레스트북스', '태수', '페이지2북스', '양귀자', '쓰다', '이선 몰릭', '신동숙', '상상스퀘어', '쇼펜하우어', '김지민', '하이스트', '한강', '문학과지성사', '에그박사', '박송이', '홍종현', '주세종', '미래엔아이세움', '성해나', '창비', '프리드리히 니체', '떠오름', '한진아', '지니 킴', '박혜림', '길벗스쿨', '정대건', '민음사', '마츠모토 나오야', '유유리', '서울미디어코믹스(서울문화사)', '김금희', '무제', '이현아', '서영', '한빛에듀', '이재명', '오마이북', '로버트 해그스트롬', '신용우', '상상스퀘어', '한강', '문학과지성사', '최태성', '이투스북 '], '가격': ['17,010', '15,750', '15,120', '18,000', '18,000', '13,500', '16,020', '16,020', '11,700', '18,900', '15,750', '13,500', '14,220', '16,200', '16,020', '15,300', '12,600', '5,400', '15,300', '15,120', '19,800', '29,700', '10,800', '14,850']}, {'순위': [1, 2, 3, 4, 5, 6, 7, 8, 9, 10, 11, 12, 13, 14, 15, 16, 17, 18, 19, 20, 21, 22, 23, 24], '책제목': ['청춘의 독서', '엄마의 말 연습', '단 한 번의 삶', '어른의 품격을 채우는 100일 필사 노트', '이로운 보수 의로운 진보', '소년이 온다', '초역 부처의 말', '어른의 행복은 조용하다', '모순', '듀얼 브레인', '쇼펜하우어 인생수업 : 한 번뿐인 삶 이렇게 살아라 (리커버 에디션)', '빛과 실', '에그박사 15', '혼모노', '위버멘쉬', '친구 사이에도 예의가 필요해', '급류', '괴수 8호 15 트리플특장판', '첫 여름, 완주', '친구가 상처 줄 때 똑똑하게 나를 지키는 법', '결국 국민이 합니다', '워런 버핏 웨이', '서랍에 저녁을 넣어 두었다', '2025 큰별쌤 최태성의 별별한국사 한국사능력검정시험 심화(1,2,3급) 상'], '저자및출판사': ['유시민', '웅진지식하우스', '윤지영', '카시오페아', '김영하', '복복서가', '김종원', '청림Life', '최강욱', '최강혁', '한겨레출판', '한강', '창비', '코이케 류노스케', '박재현', '포레스트북스', '태수', '페이지2북스', '양귀자', '쓰다', '이선 몰릭', '신동숙', '상상스퀘어', '쇼펜하우어', '김지민', '하이스트', '한강', '문학과지성사', '에그박사', '박송이', '홍종현', '주세종', '미래엔아이세움', '성해나', '창비', '프리드리히 니체', '떠오름', '한진아', '지니 킴', '박혜림', '길벗스쿨', '정대건', '민음사', '마츠모토 나오야', '유유리', '서울미디어코믹스(서울문화사)', '김금희', '무제', '이현아', '서영', '한빛에듀', '이재명', '오마이북', '로버트 해그스트롬', '신용우', '상상스퀘어', '한강', '문학과지성사', '최태성', '이투스북 '], '가격': ['17,010', '15,750', '15,120', '18,000', '18,000', '13,500', '16,020', '16,020', '11,700', '18,900', '15,750', '13,500', '14,220', '16,200', '16,020', '15,300', '12,600', '5,400', '15,300', '15,120', '19,800', '29,700', '10,800', '14,850']}, {'순위': [1, 2, 3, 4, 5, 6, 7, 8, 9, 10, 11, 12, 13, 14, 15, 16, 17, 18, 19, 20, 21, 22, 23, 24], '책제목': ['청춘의 독서', '엄마의 말 연습', '단 한 번의 삶', '어른의 품격을 채우는 100일 필사 노트', '이로운 보수 의로운 진보', '소년이 온다', '초역 부처의 말', '어른의 행복은 조용하다', '모순', '듀얼 브레인', '쇼펜하우어 인생수업 : 한 번뿐인 삶 이렇게 살아라 (리커버 에디션)', '빛과 실', '에그박사 15', '혼모노', '위버멘쉬', '친구 사이에도 예의가 필요해', '급류', '괴수 8호 15 트리플특장판', '첫 여름, 완주', '친구가 상처 줄 때 똑똑하게 나를 지키는 법', '결국 국민이 합니다', '워런 버핏 웨이', '서랍에 저녁을 넣어 두었다', '2025 큰별쌤 최태성의 별별한국사 한국사능력검정시험 심화(1,2,3급) 상'], '저자및출판사': ['유시민', '웅진지식하우스', '윤지영', '카시오페아', '김영하', '복복서가', '김종원', '청림Life', '최강욱', '최강혁', '한겨레출판', '한강', '창비', '코이케 류노스케', '박재현', '포레스트북스', '태수', '페이지2북스', '양귀자', '쓰다', '이선 몰릭', '신동숙', '상상스퀘어', '쇼펜하우어', '김지민', '하이스트', '한강', '문학과지성사', '에그박사', '박송이', '홍종현', '주세종', '미래엔아이세움', '성해나', '창비', '프리드리히 니체', '떠오름', '한진아', '지니 킴', '박혜림', '길벗스쿨', '정대건', '민음사', '마츠모토 나오야', '유유리', '서울미디어코믹스(서울문화사)', '김금희', '무제', '이현아', '서영', '한빛에듀', '이재명', '오마이북', '로버트 해그스트롬', '신용우', '상상스퀘어', '한강', '문학과지성사', '최태성', '이투스북 '], '가격': ['17,010', '15,750', '15,120', '18,000', '18,000', '13,500', '16,020', '16,020', '11,700', '18,900', '15,750', '13,500', '14,220', '16,200', '16,020', '15,300', '12,600', '5,400', '15,300', '15,120', '19,800', '29,700', '10,800', '14,850']}, {'순위': [1, 2, 3, 4, 5, 6, 7, 8, 9, 10, 11, 12, 13, 14, 15, 16, 17, 18, 19, 20, 21, 22, 23, 24], '책제목': ['청춘의 독서', '엄마의 말 연습', '단 한 번의 삶', '어른의 품격을 채우는 100일 필사 노트', '이로운 보수 의로운 진보', '소년이 온다', '초역 부처의 말', '어른의 행복은 조용하다', '모순', '듀얼 브레인', '쇼펜하우어 인생수업 : 한 번뿐인 삶 이렇게 살아라 (리커버 에디션)', '빛과 실', '에그박사 15', '혼모노', '위버멘쉬', '친구 사이에도 예의가 필요해', '급류', '괴수 8호 15 트리플특장판', '첫 여름, 완주', '친구가 상처 줄 때 똑똑하게 나를 지키는 법', '결국 국민이 합니다', '워런 버핏 웨이', '서랍에 저녁을 넣어 두었다', '2025 큰별쌤 최태성의 별별한국사 한국사능력검정시험 심화(1,2,3급) 상'], '저자및출판사': ['유시민', '웅진지식하우스', '윤지영', '카시오페아', '김영하', '복복서가', '김종원', '청림Life', '최강욱', '최강혁', '한겨레출판', '한강', '창비', '코이케 류노스케', '박재현', '포레스트북스', '태수', '페이지2북스', '양귀자', '쓰다', '이선 몰릭', '신동숙', '상상스퀘어', '쇼펜하우어', '김지민', '하이스트', '한강', '문학과지성사', '에그박사', '박송이', '홍종현', '주세종', '미래엔아이세움', '성해나', '창비', '프리드리히 니체', '떠오름', '한진아', '지니 킴', '박혜림', '길벗스쿨', '정대건', '민음사', '마츠모토 나오야', '유유리', '서울미디어코믹스(서울문화사)', '김금희', '무제', '이현아', '서영', '한빛에듀', '이재명', '오마이북', '로버트 해그스트롬', '신용우', '상상스퀘어', '한강', '문학과지성사', '최태성', '이투스북 '], '가격': ['17,010', '15,750', '15,120', '18,000', '18,000', '13,500', '16,020', '16,020', '11,700', '18,900', '15,750', '13,500', '14,220', '16,200', '16,020', '15,300', '12,600', '5,400', '15,300', '15,120', '19,800', '29,700', '10,800', '14,850']}, {'순위': [1, 2, 3, 4, 5, 6, 7, 8, 9, 10, 11, 12, 13, 14, 15, 16, 17, 18, 19, 20, 21, 22, 23, 24], '책제목': ['청춘의 독서', '엄마의 말 연습', '단 한 번의 삶', '어른의 품격을 채우는 100일 필사 노트', '이로운 보수 의로운 진보', '소년이 온다', '초역 부처의 말', '어른의 행복은 조용하다', '모순', '듀얼 브레인', '쇼펜하우어 인생수업 : 한 번뿐인 삶 이렇게 살아라 (리커버 에디션)', '빛과 실', '에그박사 15', '혼모노', '위버멘쉬', '친구 사이에도 예의가 필요해', '급류', '괴수 8호 15 트리플특장판', '첫 여름, 완주', '친구가 상처 줄 때 똑똑하게 나를 지키는 법', '결국 국민이 합니다', '워런 버핏 웨이', '서랍에 저녁을 넣어 두었다', '2025 큰별쌤 최태성의 별별한국사 한국사능력검정시험 심화(1,2,3급) 상'], '저자및출판사': ['유시민', '웅진지식하우스', '윤지영', '카시오페아', '김영하', '복복서가', '김종원', '청림Life', '최강욱', '최강혁', '한겨레출판', '한강', '창비', '코이케 류노스케', '박재현', '포레스트북스', '태수', '페이지2북스', '양귀자', '쓰다', '이선 몰릭', '신동숙', '상상스퀘어', '쇼펜하우어', '김지민', '하이스트', '한강', '문학과지성사', '에그박사', '박송이', '홍종현', '주세종', '미래엔아이세움', '성해나', '창비', '프리드리히 니체', '떠오름', '한진아', '지니 킴', '박혜림', '길벗스쿨', '정대건', '민음사', '마츠모토 나오야', '유유리', '서울미디어코믹스(서울문화사)', '김금희', '무제', '이현아', '서영', '한빛에듀', '이재명', '오마이북', '로버트 해그스트롬', '신용우', '상상스퀘어', '한강', '문학과지성사', '최태성', '이투스북 '], '가격': ['17,010', '15,750', '15,120', '18,000', '18,000', '13,500', '16,020', '16,020', '11,700', '18,900', '15,750', '13,500', '14,220', '16,200', '16,020', '15,300', '12,600', '5,400', '15,300', '15,120', '19,800', '29,700', '10,800', '14,850']}, {'순위': [1, 2, 3, 4, 5, 6, 7, 8, 9, 10, 11, 12, 13, 14, 15, 16, 17, 18, 19, 20, 21, 22, 23, 24], '책제목': ['청춘의 독서', '엄마의 말 연습', '단 한 번의 삶', '어른의 품격을 채우는 100일 필사 노트', '이로운 보수 의로운 진보', '소년이 온다', '초역 부처의 말', '어른의 행복은 조용하다', '모순', '듀얼 브레인', '쇼펜하우어 인생수업 : 한 번뿐인 삶 이렇게 살아라 (리커버 에디션)', '빛과 실', '에그박사 15', '혼모노', '위버멘쉬', '친구 사이에도 예의가 필요해', '급류', '괴수 8호 15 트리플특장판', '첫 여름, 완주', '친구가 상처 줄 때 똑똑하게 나를 지키는 법', '결국 국민이 합니다', '워런 버핏 웨이', '서랍에 저녁을 넣어 두었다', '2025 큰별쌤 최태성의 별별한국사 한국사능력검정시험 심화(1,2,3급) 상'], '저자및출판사': ['유시민', '웅진지식하우스', '윤지영', '카시오페아', '김영하', '복복서가', '김종원', '청림Life', '최강욱', '최강혁', '한겨레출판', '한강', '창비', '코이케 류노스케', '박재현', '포레스트북스', '태수', '페이지2북스', '양귀자', '쓰다', '이선 몰릭', '신동숙', '상상스퀘어', '쇼펜하우어', '김지민', '하이스트', '한강', '문학과지성사', '에그박사', '박송이', '홍종현', '주세종', '미래엔아이세움', '성해나', '창비', '프리드리히 니체', '떠오름', '한진아', '지니 킴', '박혜림', '길벗스쿨', '정대건', '민음사', '마츠모토 나오야', '유유리', '서울미디어코믹스(서울문화사)', '김금희', '무제', '이현아', '서영', '한빛에듀', '이재명', '오마이북', '로버트 해그스트롬', '신용우', '상상스퀘어', '한강', '문학과지성사', '최태성', '이투스북 '], '가격': ['17,010', '15,750', '15,120', '18,000', '18,000', '13,500', '16,020', '16,020', '11,700', '18,900', '15,750', '13,500', '14,220', '16,200', '16,020', '15,300', '12,600', '5,400', '15,300', '15,120', '19,800', '29,700', '10,800', '14,850']}, {'순위': [1, 2, 3, 4, 5, 6, 7, 8, 9, 10, 11, 12, 13, 14, 15, 16, 17, 18, 19, 20, 21, 22, 23, 24], '책제목': ['청춘의 독서', '엄마의 말 연습', '단 한 번의 삶', '어른의 품격을 채우는 100일 필사 노트', '이로운 보수 의로운 진보', '소년이 온다', '초역 부처의 말', '어른의 행복은 조용하다', '모순', '듀얼 브레인', '쇼펜하우어 인생수업 : 한 번뿐인 삶 이렇게 살아라 (리커버 에디션)', '빛과 실', '에그박사 15', '혼모노', '위버멘쉬', '친구 사이에도 예의가 필요해', '급류', '괴수 8호 15 트리플특장판', '첫 여름, 완주', '친구가 상처 줄 때 똑똑하게 나를 지키는 법', '결국 국민이 합니다', '워런 버핏 웨이', '서랍에 저녁을 넣어 두었다', '2025 큰별쌤 최태성의 별별한국사 한국사능력검정시험 심화(1,2,3급) 상'], '저자및출판사': ['유시민', '웅진지식하우스', '윤지영', '카시오페아', '김영하', '복복서가', '김종원', '청림Life', '최강욱', '최강혁', '한겨레출판', '한강', '창비', '코이케 류노스케', '박재현', '포레스트북스', '태수', '페이지2북스', '양귀자', '쓰다', '이선 몰릭', '신동숙', '상상스퀘어', '쇼펜하우어', '김지민', '하이스트', '한강', '문학과지성사', '에그박사', '박송이', '홍종현', '주세종', '미래엔아이세움', '성해나', '창비', '프리드리히 니체', '떠오름', '한진아', '지니 킴', '박혜림', '길벗스쿨', '정대건', '민음사', '마츠모토 나오야', '유유리', '서울미디어코믹스(서울문화사)', '김금희', '무제', '이현아', '서영', '한빛에듀', '이재명', '오마이북', '로버트 해그스트롬', '신용우', '상상스퀘어', '한강', '문학과지성사', '최태성', '이투스북 '], '가격': ['17,010', '15,750', '15,120', '18,000', '18,000', '13,500', '16,020', '16,020', '11,700', '18,900', '15,750', '13,500', '14,220', '16,200', '16,020', '15,300', '12,600', '5,400', '15,300', '15,120', '19,800', '29,700', '10,800', '14,850']}, {'순위': [1, 2, 3, 4, 5, 6, 7, 8, 9, 10, 11, 12, 13, 14, 15, 16, 17, 18, 19, 20, 21, 22, 23, 24], '책제목': ['청춘의 독서', '엄마의 말 연습', '단 한 번의 삶', '어른의 품격을 채우는 100일 필사 노트', '이로운 보수 의로운 진보', '소년이 온다', '초역 부처의 말', '어른의 행복은 조용하다', '모순', '듀얼 브레인', '쇼펜하우어 인생수업 : 한 번뿐인 삶 이렇게 살아라 (리커버 에디션)', '빛과 실', '에그박사 15', '혼모노', '위버멘쉬', '친구 사이에도 예의가 필요해', '급류', '괴수 8호 15 트리플특장판', '첫 여름, 완주', '친구가 상처 줄 때 똑똑하게 나를 지키는 법', '결국 국민이 합니다', '워런 버핏 웨이', '서랍에 저녁을 넣어 두었다', '2025 큰별쌤 최태성의 별별한국사 한국사능력검정시험 심화(1,2,3급) 상'], '저자및출판사': ['유시민', '웅진지식하우스', '윤지영', '카시오페아', '김영하', '복복서가', '김종원', '청림Life', '최강욱', '최강혁', '한겨레출판', '한강', '창비', '코이케 류노스케', '박재현', '포레스트북스', '태수', '페이지2북스', '양귀자', '쓰다', '이선 몰릭', '신동숙', '상상스퀘어', '쇼펜하우어', '김지민', '하이스트', '한강', '문학과지성사', '에그박사', '박송이', '홍종현', '주세종', '미래엔아이세움', '성해나', '창비', '프리드리히 니체', '떠오름', '한진아', '지니 킴', '박혜림', '길벗스쿨', '정대건', '민음사', '마츠모토 나오야', '유유리', '서울미디어코믹스(서울문화사)', '김금희', '무제', '이현아', '서영', '한빛에듀', '이재명', '오마이북', '로버트 해그스트롬', '신용우', '상상스퀘어', '한강', '문학과지성사', '최태성', '이투스북 '], '가격': ['17,010', '15,750', '15,120', '18,000', '18,000', '13,500', '16,020', '16,020', '11,700', '18,900', '15,750', '13,500', '14,220', '16,200', '16,020', '15,300', '12,600', '5,400', '15,300', '15,120', '19,800', '29,700', '10,800', '14,850']}, {'순위': [1, 2, 3, 4, 5, 6, 7, 8, 9, 10, 11, 12, 13, 14, 15, 16, 17, 18, 19, 20, 21, 22, 23, 24], '책제목': ['청춘의 독서', '엄마의 말 연습', '단 한 번의 삶', '어른의 품격을 채우는 100일 필사 노트', '이로운 보수 의로운 진보', '소년이 온다', '초역 부처의 말', '어른의 행복은 조용하다', '모순', '듀얼 브레인', '쇼펜하우어 인생수업 : 한 번뿐인 삶 이렇게 살아라 (리커버 에디션)', '빛과 실', '에그박사 15', '혼모노', '위버멘쉬', '친구 사이에도 예의가 필요해', '급류', '괴수 8호 15 트리플특장판', '첫 여름, 완주', '친구가 상처 줄 때 똑똑하게 나를 지키는 법', '결국 국민이 합니다', '워런 버핏 웨이', '서랍에 저녁을 넣어 두었다', '2025 큰별쌤 최태성의 별별한국사 한국사능력검정시험 심화(1,2,3급) 상'], '저자및출판사': ['유시민', '웅진지식하우스', '윤지영', '카시오페아', '김영하', '복복서가', '김종원', '청림Life', '최강욱', '최강혁', '한겨레출판', '한강', '창비', '코이케 류노스케', '박재현', '포레스트북스', '태수', '페이지2북스', '양귀자', '쓰다', '이선 몰릭', '신동숙', '상상스퀘어', '쇼펜하우어', '김지민', '하이스트', '한강', '문학과지성사', '에그박사', '박송이', '홍종현', '주세종', '미래엔아이세움', '성해나', '창비', '프리드리히 니체', '떠오름', '한진아', '지니 킴', '박혜림', '길벗스쿨', '정대건', '민음사', '마츠모토 나오야', '유유리', '서울미디어코믹스(서울문화사)', '김금희', '무제', '이현아', '서영', '한빛에듀', '이재명', '오마이북', '로버트 해그스트롬', '신용우', '상상스퀘어', '한강', '문학과지성사', '최태성', '이투스북 '], '가격': ['17,010', '15,750', '15,120', '18,000', '18,000', '13,500', '16,020', '16,020', '11,700', '18,900', '15,750', '13,500', '14,220', '16,200', '16,020', '15,300', '12,600', '5,400', '15,300', '15,120', '19,800', '29,700', '10,800', '14,850']}, {'순위': [1, 2, 3, 4, 5, 6, 7, 8, 9, 10, 11, 12, 13, 14, 15, 16, 17, 18, 19, 20, 21, 22, 23, 24], '책제목': ['청춘의 독서', '엄마의 말 연습', '단 한 번의 삶', '어른의 품격을 채우는 100일 필사 노트', '이로운 보수 의로운 진보', '소년이 온다', '초역 부처의 말', '어른의 행복은 조용하다', '모순', '듀얼 브레인', '쇼펜하우어 인생수업 : 한 번뿐인 삶 이렇게 살아라 (리커버 에디션)', '빛과 실', '에그박사 15', '혼모노', '위버멘쉬', '친구 사이에도 예의가 필요해', '급류', '괴수 8호 15 트리플특장판', '첫 여름, 완주', '친구가 상처 줄 때 똑똑하게 나를 지키는 법', '결국 국민이 합니다', '워런 버핏 웨이', '서랍에 저녁을 넣어 두었다', '2025 큰별쌤 최태성의 별별한국사 한국사능력검정시험 심화(1,2,3급) 상'], '저자및출판사': ['유시민', '웅진지식하우스', '윤지영', '카시오페아', '김영하', '복복서가', '김종원', '청림Life', '최강욱', '최강혁', '한겨레출판', '한강', '창비', '코이케 류노스케', '박재현', '포레스트북스', '태수', '페이지2북스', '양귀자', '쓰다', '이선 몰릭', '신동숙', '상상스퀘어', '쇼펜하우어', '김지민', '하이스트', '한강', '문학과지성사', '에그박사', '박송이', '홍종현', '주세종', '미래엔아이세움', '성해나', '창비', '프리드리히 니체', '떠오름', '한진아', '지니 킴', '박혜림', '길벗스쿨', '정대건', '민음사', '마츠모토 나오야', '유유리', '서울미디어코믹스(서울문화사)', '김금희', '무제', '이현아', '서영', '한빛에듀', '이재명', '오마이북', '로버트 해그스트롬', '신용우', '상상스퀘어', '한강', '문학과지성사', '최태성', '이투스북 '], '가격': ['17,010', '15,750', '15,120', '18,000', '18,000', '13,500', '16,020', '16,020', '11,700', '18,900', '15,750', '13,500', '14,220', '16,200', '16,020', '15,300', '12,600', '5,400', '15,300', '15,120', '19,800', '29,700', '10,800', '14,850']}, {'순위': [1, 2, 3, 4, 5, 6, 7, 8, 9, 10, 11, 12, 13, 14, 15, 16, 17, 18, 19, 20, 21, 22, 23, 24], '책제목': ['청춘의 독서', '엄마의 말 연습', '단 한 번의 삶', '어른의 품격을 채우는 100일 필사 노트', '이로운 보수 의로운 진보', '소년이 온다', '초역 부처의 말', '어른의 행복은 조용하다', '모순', '듀얼 브레인', '쇼펜하우어 인생수업 : 한 번뿐인 삶 이렇게 살아라 (리커버 에디션)', '빛과 실', '에그박사 15', '혼모노', '위버멘쉬', '친구 사이에도 예의가 필요해', '급류', '괴수 8호 15 트리플특장판', '첫 여름, 완주', '친구가 상처 줄 때 똑똑하게 나를 지키는 법', '결국 국민이 합니다', '워런 버핏 웨이', '서랍에 저녁을 넣어 두었다', '2025 큰별쌤 최태성의 별별한국사 한국사능력검정시험 심화(1,2,3급) 상'], '저자및출판사': ['유시민', '웅진지식하우스', '윤지영', '카시오페아', '김영하', '복복서가', '김종원', '청림Life', '최강욱', '최강혁', '한겨레출판', '한강', '창비', '코이케 류노스케', '박재현', '포레스트북스', '태수', '페이지2북스', '양귀자', '쓰다', '이선 몰릭', '신동숙', '상상스퀘어', '쇼펜하우어', '김지민', '하이스트', '한강', '문학과지성사', '에그박사', '박송이', '홍종현', '주세종', '미래엔아이세움', '성해나', '창비', '프리드리히 니체', '떠오름', '한진아', '지니 킴', '박혜림', '길벗스쿨', '정대건', '민음사', '마츠모토 나오야', '유유리', '서울미디어코믹스(서울문화사)', '김금희', '무제', '이현아', '서영', '한빛에듀', '이재명', '오마이북', '로버트 해그스트롬', '신용우', '상상스퀘어', '한강', '문학과지성사', '최태성', '이투스북 '], '가격': ['17,010', '15,750', '15,120', '18,000', '18,000', '13,500', '16,020', '16,020', '11,700', '18,900', '15,750', '13,500', '14,220', '16,200', '16,020', '15,300', '12,600', '5,400', '15,300', '15,120', '19,800', '29,700', '10,800', '14,850']}, {'순위': [1, 2, 3, 4, 5, 6, 7, 8, 9, 10, 11, 12, 13, 14, 15, 16, 17, 18, 19, 20, 21, 22, 23, 24], '책제목': ['청춘의 독서', '엄마의 말 연습', '단 한 번의 삶', '어른의 품격을 채우는 100일 필사 노트', '이로운 보수 의로운 진보', '소년이 온다', '초역 부처의 말', '어른의 행복은 조용하다', '모순', '듀얼 브레인', '쇼펜하우어 인생수업 : 한 번뿐인 삶 이렇게 살아라 (리커버 에디션)', '빛과 실', '에그박사 15', '혼모노', '위버멘쉬', '친구 사이에도 예의가 필요해', '급류', '괴수 8호 15 트리플특장판', '첫 여름, 완주', '친구가 상처 줄 때 똑똑하게 나를 지키는 법', '결국 국민이 합니다', '워런 버핏 웨이', '서랍에 저녁을 넣어 두었다', '2025 큰별쌤 최태성의 별별한국사 한국사능력검정시험 심화(1,2,3급) 상'], '저자및출판사': ['유시민', '웅진지식하우스', '윤지영', '카시오페아', '김영하', '복복서가', '김종원', '청림Life', '최강욱', '최강혁', '한겨레출판', '한강', '창비', '코이케 류노스케', '박재현', '포레스트북스', '태수', '페이지2북스', '양귀자', '쓰다', '이선 몰릭', '신동숙', '상상스퀘어', '쇼펜하우어', '김지민', '하이스트', '한강', '문학과지성사', '에그박사', '박송이', '홍종현', '주세종', '미래엔아이세움', '성해나', '창비', '프리드리히 니체', '떠오름', '한진아', '지니 킴', '박혜림', '길벗스쿨', '정대건', '민음사', '마츠모토 나오야', '유유리', '서울미디어코믹스(서울문화사)', '김금희', '무제', '이현아', '서영', '한빛에듀', '이재명', '오마이북', '로버트 해그스트롬', '신용우', '상상스퀘어', '한강', '문학과지성사', '최태성', '이투스북 '], '가격': ['17,010', '15,750', '15,120', '18,000', '18,000', '13,500', '16,020', '16,020', '11,700', '18,900', '15,750', '13,500', '14,220', '16,200', '16,020', '15,300', '12,600', '5,400', '15,300', '15,120', '19,800', '29,700', '10,800', '14,850']}, {'순위': [1, 2, 3, 4, 5, 6, 7, 8, 9, 10, 11, 12, 13, 14, 15, 16, 17, 18, 19, 20, 21, 22, 23, 24], '책제목': ['청춘의 독서', '엄마의 말 연습', '단 한 번의 삶', '어른의 품격을 채우는 100일 필사 노트', '이로운 보수 의로운 진보', '소년이 온다', '초역 부처의 말', '어른의 행복은 조용하다', '모순', '듀얼 브레인', '쇼펜하우어 인생수업 : 한 번뿐인 삶 이렇게 살아라 (리커버 에디션)', '빛과 실', '에그박사 15', '혼모노', '위버멘쉬', '친구 사이에도 예의가 필요해', '급류', '괴수 8호 15 트리플특장판', '첫 여름, 완주', '친구가 상처 줄 때 똑똑하게 나를 지키는 법', '결국 국민이 합니다', '워런 버핏 웨이', '서랍에 저녁을 넣어 두었다', '2025 큰별쌤 최태성의 별별한국사 한국사능력검정시험 심화(1,2,3급) 상'], '저자및출판사': ['유시민', '웅진지식하우스', '윤지영', '카시오페아', '김영하', '복복서가', '김종원', '청림Life', '최강욱', '최강혁', '한겨레출판', '한강', '창비', '코이케 류노스케', '박재현', '포레스트북스', '태수', '페이지2북스', '양귀자', '쓰다', '이선 몰릭', '신동숙', '상상스퀘어', '쇼펜하우어', '김지민', '하이스트', '한강', '문학과지성사', '에그박사', '박송이', '홍종현', '주세종', '미래엔아이세움', '성해나', '창비', '프리드리히 니체', '떠오름', '한진아', '지니 킴', '박혜림', '길벗스쿨', '정대건', '민음사', '마츠모토 나오야', '유유리', '서울미디어코믹스(서울문화사)', '김금희', '무제', '이현아', '서영', '한빛에듀', '이재명', '오마이북', '로버트 해그스트롬', '신용우', '상상스퀘어', '한강', '문학과지성사', '최태성', '이투스북 '], '가격': ['17,010', '15,750', '15,120', '18,000', '18,000', '13,500', '16,020', '16,020', '11,700', '18,900', '15,750', '13,500', '14,220', '16,200', '16,020', '15,300', '12,600', '5,400', '15,300', '15,120', '19,800', '29,700', '10,800', '14,850']}, {'순위': [1, 2, 3, 4, 5, 6, 7, 8, 9, 10, 11, 12, 13, 14, 15, 16, 17, 18, 19, 20, 21, 22, 23, 24], '책제목': ['청춘의 독서', '엄마의 말 연습', '단 한 번의 삶', '어른의 품격을 채우는 100일 필사 노트', '이로운 보수 의로운 진보', '소년이 온다', '초역 부처의 말', '어른의 행복은 조용하다', '모순', '듀얼 브레인', '쇼펜하우어 인생수업 : 한 번뿐인 삶 이렇게 살아라 (리커버 에디션)', '빛과 실', '에그박사 15', '혼모노', '위버멘쉬', '친구 사이에도 예의가 필요해', '급류', '괴수 8호 15 트리플특장판', '첫 여름, 완주', '친구가 상처 줄 때 똑똑하게 나를 지키는 법', '결국 국민이 합니다', '워런 버핏 웨이', '서랍에 저녁을 넣어 두었다', '2025 큰별쌤 최태성의 별별한국사 한국사능력검정시험 심화(1,2,3급) 상'], '저자및출판사': ['유시민', '웅진지식하우스', '윤지영', '카시오페아', '김영하', '복복서가', '김종원', '청림Life', '최강욱', '최강혁', '한겨레출판', '한강', '창비', '코이케 류노스케', '박재현', '포레스트북스', '태수', '페이지2북스', '양귀자', '쓰다', '이선 몰릭', '신동숙', '상상스퀘어', '쇼펜하우어', '김지민', '하이스트', '한강', '문학과지성사', '에그박사', '박송이', '홍종현', '주세종', '미래엔아이세움', '성해나', '창비', '프리드리히 니체', '떠오름', '한진아', '지니 킴', '박혜림', '길벗스쿨', '정대건', '민음사', '마츠모토 나오야', '유유리', '서울미디어코믹스(서울문화사)', '김금희', '무제', '이현아', '서영', '한빛에듀', '이재명', '오마이북', '로버트 해그스트롬', '신용우', '상상스퀘어', '한강', '문학과지성사', '최태성', '이투스북 '], '가격': ['17,010', '15,750', '15,120', '18,000', '18,000', '13,500', '16,020', '16,020', '11,700', '18,900', '15,750', '13,500', '14,220', '16,200', '16,020', '15,300', '12,600', '5,400', '15,300', '15,120', '19,800', '29,700', '10,800', '14,850']}, {'순위': [25, 26, 27, 28, 29, 30, 31, 32, 33, 34, 35, 36, 37, 38, 39, 40, 41, 42, 43, 44, 45, 46, 47, 48], '책제목': ['설민석의 한국사 대모험 33', '흔한남매 19', '2025 심우철 실전 동형 모의고사 Season 4', '최애의 아이 16 특별판', '넥서스', '돈의 흐름은 되풀이된다', 'ETS 토익 정기시험 기출문제집 1000 Vol. 4 RC', '스토너', '2025 큰별쌤 최태성의 별별한국사 한국사능력검정시험 심화(1,2,3급) 하', 'ETS 토익 정기시험 기출문제집 1000 Vol. 4 LC', '최애의 아이 16', '엔비디아 젠슨 황, 생각하는 기계', '진짜의 마인드', '혹시, 돈 얘기해도 될까요?', '너에게 들려주는 단단한 말', '질문의 격', '하루 한 장 나의 어휘력을 위한 필사 노트', '길고양이와 늑대 5 더블특전판', '과자 사면 과학 드립니다', '부의 전략 수업', '살아갈 날들을 위한 괴테의 시', '2025 문동균 한국사 지방직 대비 실전 봉투모의고사', '똑게육아', '파과 (리커버)'], '저자및출판사': ['설민석', '남이담', '정현희', '강석화', '단꿈아이', '흔한남매', '백난도', '유난희', '흔한컴퍼니', '미래엔아이세움', '심우철', '심슨북스', '아카사카 아카', '요코야리 멘고', '대원', '유발 하라리', '김명주', '김영사', '홍춘욱', '포르체', 'ETS', 'YBM(와이비엠)', '존 윌리엄스', '김승욱', '알에이치코리아(RHK)', '최태성', '이투스북 ', 'ETS', 'YBM(와이비엠)', '아카사카 아카', '요코야리 멘고', '대원', '스티븐 위트', '백우진', '알에이치코리아(RHK)', '김찬희(김진짜)', '터닝페이지', '주언규', '필름', '김종원', '퍼스트펭귄', '유선경', '앤의서재', '유선경', '위즈덤하우스', '미츠바치 미유키', '학산문화사', '정윤선', '시미씨', '풀빛', '폴 포돌스키', '고영훈', '필름', '김종원', '퍼스트펭귄', '문동균', '에스티유니타스', '로리(김준희)', '북로스트', '구병모', '위즈덤하우스'], '가격': ['12,600', '14,220', '12,960', '35,100', '25,020', '17,100', '17,820', '15,120', '14,400', '17,820', '7,110', '25,200', '16,650', '17,820', '16,200', '16,020', '21,420', '5,400', '13,500', '17,820', '17,100', '10,800', '19,980', '14,220']}, {'순위': [25, 26, 27, 28, 29, 30, 31, 32, 33, 34, 35, 36, 37, 38, 39, 40, 41, 42, 43, 44, 45, 46, 47, 48], '책제목': ['설민석의 한국사 대모험 33', '흔한남매 19', '2025 심우철 실전 동형 모의고사 Season 4', '최애의 아이 16 특별판', '넥서스', '돈의 흐름은 되풀이된다', 'ETS 토익 정기시험 기출문제집 1000 Vol. 4 RC', '스토너', '2025 큰별쌤 최태성의 별별한국사 한국사능력검정시험 심화(1,2,3급) 하', 'ETS 토익 정기시험 기출문제집 1000 Vol. 4 LC', '최애의 아이 16', '엔비디아 젠슨 황, 생각하는 기계', '진짜의 마인드', '혹시, 돈 얘기해도 될까요?', '너에게 들려주는 단단한 말', '질문의 격', '하루 한 장 나의 어휘력을 위한 필사 노트', '길고양이와 늑대 5 더블특전판', '과자 사면 과학 드립니다', '부의 전략 수업', '살아갈 날들을 위한 괴테의 시', '2025 문동균 한국사 지방직 대비 실전 봉투모의고사', '똑게육아', '파과 (리커버)'], '저자및출판사': ['설민석', '남이담', '정현희', '강석화', '단꿈아이', '흔한남매', '백난도', '유난희', '흔한컴퍼니', '미래엔아이세움', '심우철', '심슨북스', '아카사카 아카', '요코야리 멘고', '대원', '유발 하라리', '김명주', '김영사', '홍춘욱', '포르체', 'ETS', 'YBM(와이비엠)', '존 윌리엄스', '김승욱', '알에이치코리아(RHK)', '최태성', '이투스북 ', 'ETS', 'YBM(와이비엠)', '아카사카 아카', '요코야리 멘고', '대원', '스티븐 위트', '백우진', '알에이치코리아(RHK)', '김찬희(김진짜)', '터닝페이지', '주언규', '필름', '김종원', '퍼스트펭귄', '유선경', '앤의서재', '유선경', '위즈덤하우스', '미츠바치 미유키', '학산문화사', '정윤선', '시미씨', '풀빛', '폴 포돌스키', '고영훈', '필름', '김종원', '퍼스트펭귄', '문동균', '에스티유니타스', '로리(김준희)', '북로스트', '구병모', '위즈덤하우스'], '가격': ['12,600', '14,220', '12,960', '35,100', '25,020', '17,100', '17,820', '15,120', '14,400', '17,820', '7,110', '25,200', '16,650', '17,820', '16,200', '16,020', '21,420', '5,400', '13,500', '17,820', '17,100', '10,800', '19,980', '14,220']}, {'순위': [25, 26, 27, 28, 29, 30, 31, 32, 33, 34, 35, 36, 37, 38, 39, 40, 41, 42, 43, 44, 45, 46, 47, 48], '책제목': ['설민석의 한국사 대모험 33', '흔한남매 19', '2025 심우철 실전 동형 모의고사 Season 4', '최애의 아이 16 특별판', '넥서스', '돈의 흐름은 되풀이된다', 'ETS 토익 정기시험 기출문제집 1000 Vol. 4 RC', '스토너', '2025 큰별쌤 최태성의 별별한국사 한국사능력검정시험 심화(1,2,3급) 하', 'ETS 토익 정기시험 기출문제집 1000 Vol. 4 LC', '최애의 아이 16', '엔비디아 젠슨 황, 생각하는 기계', '진짜의 마인드', '혹시, 돈 얘기해도 될까요?', '너에게 들려주는 단단한 말', '질문의 격', '하루 한 장 나의 어휘력을 위한 필사 노트', '길고양이와 늑대 5 더블특전판', '과자 사면 과학 드립니다', '부의 전략 수업', '살아갈 날들을 위한 괴테의 시', '2025 문동균 한국사 지방직 대비 실전 봉투모의고사', '똑게육아', '파과 (리커버)'], '저자및출판사': ['설민석', '남이담', '정현희', '강석화', '단꿈아이', '흔한남매', '백난도', '유난희', '흔한컴퍼니', '미래엔아이세움', '심우철', '심슨북스', '아카사카 아카', '요코야리 멘고', '대원', '유발 하라리', '김명주', '김영사', '홍춘욱', '포르체', 'ETS', 'YBM(와이비엠)', '존 윌리엄스', '김승욱', '알에이치코리아(RHK)', '최태성', '이투스북 ', 'ETS', 'YBM(와이비엠)', '아카사카 아카', '요코야리 멘고', '대원', '스티븐 위트', '백우진', '알에이치코리아(RHK)', '김찬희(김진짜)', '터닝페이지', '주언규', '필름', '김종원', '퍼스트펭귄', '유선경', '앤의서재', '유선경', '위즈덤하우스', '미츠바치 미유키', '학산문화사', '정윤선', '시미씨', '풀빛', '폴 포돌스키', '고영훈', '필름', '김종원', '퍼스트펭귄', '문동균', '에스티유니타스', '로리(김준희)', '북로스트', '구병모', '위즈덤하우스'], '가격': ['12,600', '14,220', '12,960', '35,100', '25,020', '17,100', '17,820', '15,120', '14,400', '17,820', '7,110', '25,200', '16,650', '17,820', '16,200', '16,020', '21,420', '5,400', '13,500', '17,820', '17,100', '10,800', '19,980', '14,220']}, {'순위': [25, 26, 27, 28, 29, 30, 31, 32, 33, 34, 35, 36, 37, 38, 39, 40, 41, 42, 43, 44, 45, 46, 47, 48], '책제목': ['설민석의 한국사 대모험 33', '흔한남매 19', '2025 심우철 실전 동형 모의고사 Season 4', '최애의 아이 16 특별판', '넥서스', '돈의 흐름은 되풀이된다', 'ETS 토익 정기시험 기출문제집 1000 Vol. 4 RC', '스토너', '2025 큰별쌤 최태성의 별별한국사 한국사능력검정시험 심화(1,2,3급) 하', 'ETS 토익 정기시험 기출문제집 1000 Vol. 4 LC', '최애의 아이 16', '엔비디아 젠슨 황, 생각하는 기계', '진짜의 마인드', '혹시, 돈 얘기해도 될까요?', '너에게 들려주는 단단한 말', '질문의 격', '하루 한 장 나의 어휘력을 위한 필사 노트', '길고양이와 늑대 5 더블특전판', '과자 사면 과학 드립니다', '부의 전략 수업', '살아갈 날들을 위한 괴테의 시', '2025 문동균 한국사 지방직 대비 실전 봉투모의고사', '똑게육아', '파과 (리커버)'], '저자및출판사': ['설민석', '남이담', '정현희', '강석화', '단꿈아이', '흔한남매', '백난도', '유난희', '흔한컴퍼니', '미래엔아이세움', '심우철', '심슨북스', '아카사카 아카', '요코야리 멘고', '대원', '유발 하라리', '김명주', '김영사', '홍춘욱', '포르체', 'ETS', 'YBM(와이비엠)', '존 윌리엄스', '김승욱', '알에이치코리아(RHK)', '최태성', '이투스북 ', 'ETS', 'YBM(와이비엠)', '아카사카 아카', '요코야리 멘고', '대원', '스티븐 위트', '백우진', '알에이치코리아(RHK)', '김찬희(김진짜)', '터닝페이지', '주언규', '필름', '김종원', '퍼스트펭귄', '유선경', '앤의서재', '유선경', '위즈덤하우스', '미츠바치 미유키', '학산문화사', '정윤선', '시미씨', '풀빛', '폴 포돌스키', '고영훈', '필름', '김종원', '퍼스트펭귄', '문동균', '에스티유니타스', '로리(김준희)', '북로스트', '구병모', '위즈덤하우스'], '가격': ['12,600', '14,220', '12,960', '35,100', '25,020', '17,100', '17,820', '15,120', '14,400', '17,820', '7,110', '25,200', '16,650', '17,820', '16,200', '16,020', '21,420', '5,400', '13,500', '17,820', '17,100', '10,800', '19,980', '14,220']}, {'순위': [25, 26, 27, 28, 29, 30, 31, 32, 33, 34, 35, 36, 37, 38, 39, 40, 41, 42, 43, 44, 45, 46, 47, 48], '책제목': ['설민석의 한국사 대모험 33', '흔한남매 19', '2025 심우철 실전 동형 모의고사 Season 4', '최애의 아이 16 특별판', '넥서스', '돈의 흐름은 되풀이된다', 'ETS 토익 정기시험 기출문제집 1000 Vol. 4 RC', '스토너', '2025 큰별쌤 최태성의 별별한국사 한국사능력검정시험 심화(1,2,3급) 하', 'ETS 토익 정기시험 기출문제집 1000 Vol. 4 LC', '최애의 아이 16', '엔비디아 젠슨 황, 생각하는 기계', '진짜의 마인드', '혹시, 돈 얘기해도 될까요?', '너에게 들려주는 단단한 말', '질문의 격', '하루 한 장 나의 어휘력을 위한 필사 노트', '길고양이와 늑대 5 더블특전판', '과자 사면 과학 드립니다', '부의 전략 수업', '살아갈 날들을 위한 괴테의 시', '2025 문동균 한국사 지방직 대비 실전 봉투모의고사', '똑게육아', '파과 (리커버)'], '저자및출판사': ['설민석', '남이담', '정현희', '강석화', '단꿈아이', '흔한남매', '백난도', '유난희', '흔한컴퍼니', '미래엔아이세움', '심우철', '심슨북스', '아카사카 아카', '요코야리 멘고', '대원', '유발 하라리', '김명주', '김영사', '홍춘욱', '포르체', 'ETS', 'YBM(와이비엠)', '존 윌리엄스', '김승욱', '알에이치코리아(RHK)', '최태성', '이투스북 ', 'ETS', 'YBM(와이비엠)', '아카사카 아카', '요코야리 멘고', '대원', '스티븐 위트', '백우진', '알에이치코리아(RHK)', '김찬희(김진짜)', '터닝페이지', '주언규', '필름', '김종원', '퍼스트펭귄', '유선경', '앤의서재', '유선경', '위즈덤하우스', '미츠바치 미유키', '학산문화사', '정윤선', '시미씨', '풀빛', '폴 포돌스키', '고영훈', '필름', '김종원', '퍼스트펭귄', '문동균', '에스티유니타스', '로리(김준희)', '북로스트', '구병모', '위즈덤하우스'], '가격': ['12,600', '14,220', '12,960', '35,100', '25,020', '17,100', '17,820', '15,120', '14,400', '17,820', '7,110', '25,200', '16,650', '17,820', '16,200', '16,020', '21,420', '5,400', '13,500', '17,820', '17,100', '10,800', '19,980', '14,220']}, {'순위': [25, 26, 27, 28, 29, 30, 31, 32, 33, 34, 35, 36, 37, 38, 39, 40, 41, 42, 43, 44, 45, 46, 47, 48], '책제목': ['설민석의 한국사 대모험 33', '흔한남매 19', '2025 심우철 실전 동형 모의고사 Season 4', '최애의 아이 16 특별판', '넥서스', '돈의 흐름은 되풀이된다', 'ETS 토익 정기시험 기출문제집 1000 Vol. 4 RC', '스토너', '2025 큰별쌤 최태성의 별별한국사 한국사능력검정시험 심화(1,2,3급) 하', 'ETS 토익 정기시험 기출문제집 1000 Vol. 4 LC', '최애의 아이 16', '엔비디아 젠슨 황, 생각하는 기계', '진짜의 마인드', '혹시, 돈 얘기해도 될까요?', '너에게 들려주는 단단한 말', '질문의 격', '하루 한 장 나의 어휘력을 위한 필사 노트', '길고양이와 늑대 5 더블특전판', '과자 사면 과학 드립니다', '부의 전략 수업', '살아갈 날들을 위한 괴테의 시', '2025 문동균 한국사 지방직 대비 실전 봉투모의고사', '똑게육아', '파과 (리커버)'], '저자및출판사': ['설민석', '남이담', '정현희', '강석화', '단꿈아이', '흔한남매', '백난도', '유난희', '흔한컴퍼니', '미래엔아이세움', '심우철', '심슨북스', '아카사카 아카', '요코야리 멘고', '대원', '유발 하라리', '김명주', '김영사', '홍춘욱', '포르체', 'ETS', 'YBM(와이비엠)', '존 윌리엄스', '김승욱', '알에이치코리아(RHK)', '최태성', '이투스북 ', 'ETS', 'YBM(와이비엠)', '아카사카 아카', '요코야리 멘고', '대원', '스티븐 위트', '백우진', '알에이치코리아(RHK)', '김찬희(김진짜)', '터닝페이지', '주언규', '필름', '김종원', '퍼스트펭귄', '유선경', '앤의서재', '유선경', '위즈덤하우스', '미츠바치 미유키', '학산문화사', '정윤선', '시미씨', '풀빛', '폴 포돌스키', '고영훈', '필름', '김종원', '퍼스트펭귄', '문동균', '에스티유니타스', '로리(김준희)', '북로스트', '구병모', '위즈덤하우스'], '가격': ['12,600', '14,220', '12,960', '35,100', '25,020', '17,100', '17,820', '15,120', '14,400', '17,820', '7,110', '25,200', '16,650', '17,820', '16,200', '16,020', '21,420', '5,400', '13,500', '17,820', '17,100', '10,800', '19,980', '14,220']}, {'순위': [25, 26, 27, 28, 29, 30, 31, 32, 33, 34, 35, 36, 37, 38, 39, 40, 41, 42, 43, 44, 45, 46, 47, 48], '책제목': ['설민석의 한국사 대모험 33', '흔한남매 19', '2025 심우철 실전 동형 모의고사 Season 4', '최애의 아이 16 특별판', '넥서스', '돈의 흐름은 되풀이된다', 'ETS 토익 정기시험 기출문제집 1000 Vol. 4 RC', '스토너', '2025 큰별쌤 최태성의 별별한국사 한국사능력검정시험 심화(1,2,3급) 하', 'ETS 토익 정기시험 기출문제집 1000 Vol. 4 LC', '최애의 아이 16', '엔비디아 젠슨 황, 생각하는 기계', '진짜의 마인드', '혹시, 돈 얘기해도 될까요?', '너에게 들려주는 단단한 말', '질문의 격', '하루 한 장 나의 어휘력을 위한 필사 노트', '길고양이와 늑대 5 더블특전판', '과자 사면 과학 드립니다', '부의 전략 수업', '살아갈 날들을 위한 괴테의 시', '2025 문동균 한국사 지방직 대비 실전 봉투모의고사', '똑게육아', '파과 (리커버)'], '저자및출판사': ['설민석', '남이담', '정현희', '강석화', '단꿈아이', '흔한남매', '백난도', '유난희', '흔한컴퍼니', '미래엔아이세움', '심우철', '심슨북스', '아카사카 아카', '요코야리 멘고', '대원', '유발 하라리', '김명주', '김영사', '홍춘욱', '포르체', 'ETS', 'YBM(와이비엠)', '존 윌리엄스', '김승욱', '알에이치코리아(RHK)', '최태성', '이투스북 ', 'ETS', 'YBM(와이비엠)', '아카사카 아카', '요코야리 멘고', '대원', '스티븐 위트', '백우진', '알에이치코리아(RHK)', '김찬희(김진짜)', '터닝페이지', '주언규', '필름', '김종원', '퍼스트펭귄', '유선경', '앤의서재', '유선경', '위즈덤하우스', '미츠바치 미유키', '학산문화사', '정윤선', '시미씨', '풀빛', '폴 포돌스키', '고영훈', '필름', '김종원', '퍼스트펭귄', '문동균', '에스티유니타스', '로리(김준희)', '북로스트', '구병모', '위즈덤하우스'], '가격': ['12,600', '14,220', '12,960', '35,100', '25,020', '17,100', '17,820', '15,120', '14,400', '17,820', '7,110', '25,200', '16,650', '17,820', '16,200', '16,020', '21,420', '5,400', '13,500', '17,820', '17,100', '10,800', '19,980', '14,220']}, {'순위': [25, 26, 27, 28, 29, 30, 31, 32, 33, 34, 35, 36, 37, 38, 39, 40, 41, 42, 43, 44, 45, 46, 47, 48], '책제목': ['설민석의 한국사 대모험 33', '흔한남매 19', '2025 심우철 실전 동형 모의고사 Season 4', '최애의 아이 16 특별판', '넥서스', '돈의 흐름은 되풀이된다', 'ETS 토익 정기시험 기출문제집 1000 Vol. 4 RC', '스토너', '2025 큰별쌤 최태성의 별별한국사 한국사능력검정시험 심화(1,2,3급) 하', 'ETS 토익 정기시험 기출문제집 1000 Vol. 4 LC', '최애의 아이 16', '엔비디아 젠슨 황, 생각하는 기계', '진짜의 마인드', '혹시, 돈 얘기해도 될까요?', '너에게 들려주는 단단한 말', '질문의 격', '하루 한 장 나의 어휘력을 위한 필사 노트', '길고양이와 늑대 5 더블특전판', '과자 사면 과학 드립니다', '부의 전략 수업', '살아갈 날들을 위한 괴테의 시', '2025 문동균 한국사 지방직 대비 실전 봉투모의고사', '똑게육아', '파과 (리커버)'], '저자및출판사': ['설민석', '남이담', '정현희', '강석화', '단꿈아이', '흔한남매', '백난도', '유난희', '흔한컴퍼니', '미래엔아이세움', '심우철', '심슨북스', '아카사카 아카', '요코야리 멘고', '대원', '유발 하라리', '김명주', '김영사', '홍춘욱', '포르체', 'ETS', 'YBM(와이비엠)', '존 윌리엄스', '김승욱', '알에이치코리아(RHK)', '최태성', '이투스북 ', 'ETS', 'YBM(와이비엠)', '아카사카 아카', '요코야리 멘고', '대원', '스티븐 위트', '백우진', '알에이치코리아(RHK)', '김찬희(김진짜)', '터닝페이지', '주언규', '필름', '김종원', '퍼스트펭귄', '유선경', '앤의서재', '유선경', '위즈덤하우스', '미츠바치 미유키', '학산문화사', '정윤선', '시미씨', '풀빛', '폴 포돌스키', '고영훈', '필름', '김종원', '퍼스트펭귄', '문동균', '에스티유니타스', '로리(김준희)', '북로스트', '구병모', '위즈덤하우스'], '가격': ['12,600', '14,220', '12,960', '35,100', '25,020', '17,100', '17,820', '15,120', '14,400', '17,820', '7,110', '25,200', '16,650', '17,820', '16,200', '16,020', '21,420', '5,400', '13,500', '17,820', '17,100', '10,800', '19,980', '14,220']}, {'순위': [25, 26, 27, 28, 29, 30, 31, 32, 33, 34, 35, 36, 37, 38, 39, 40, 41, 42, 43, 44, 45, 46, 47, 48], '책제목': ['설민석의 한국사 대모험 33', '흔한남매 19', '2025 심우철 실전 동형 모의고사 Season 4', '최애의 아이 16 특별판', '넥서스', '돈의 흐름은 되풀이된다', 'ETS 토익 정기시험 기출문제집 1000 Vol. 4 RC', '스토너', '2025 큰별쌤 최태성의 별별한국사 한국사능력검정시험 심화(1,2,3급) 하', 'ETS 토익 정기시험 기출문제집 1000 Vol. 4 LC', '최애의 아이 16', '엔비디아 젠슨 황, 생각하는 기계', '진짜의 마인드', '혹시, 돈 얘기해도 될까요?', '너에게 들려주는 단단한 말', '질문의 격', '하루 한 장 나의 어휘력을 위한 필사 노트', '길고양이와 늑대 5 더블특전판', '과자 사면 과학 드립니다', '부의 전략 수업', '살아갈 날들을 위한 괴테의 시', '2025 문동균 한국사 지방직 대비 실전 봉투모의고사', '똑게육아', '파과 (리커버)'], '저자및출판사': ['설민석', '남이담', '정현희', '강석화', '단꿈아이', '흔한남매', '백난도', '유난희', '흔한컴퍼니', '미래엔아이세움', '심우철', '심슨북스', '아카사카 아카', '요코야리 멘고', '대원', '유발 하라리', '김명주', '김영사', '홍춘욱', '포르체', 'ETS', 'YBM(와이비엠)', '존 윌리엄스', '김승욱', '알에이치코리아(RHK)', '최태성', '이투스북 ', 'ETS', 'YBM(와이비엠)', '아카사카 아카', '요코야리 멘고', '대원', '스티븐 위트', '백우진', '알에이치코리아(RHK)', '김찬희(김진짜)', '터닝페이지', '주언규', '필름', '김종원', '퍼스트펭귄', '유선경', '앤의서재', '유선경', '위즈덤하우스', '미츠바치 미유키', '학산문화사', '정윤선', '시미씨', '풀빛', '폴 포돌스키', '고영훈', '필름', '김종원', '퍼스트펭귄', '문동균', '에스티유니타스', '로리(김준희)', '북로스트', '구병모', '위즈덤하우스'], '가격': ['12,600', '14,220', '12,960', '35,100', '25,020', '17,100', '17,820', '15,120', '14,400', '17,820', '7,110', '25,200', '16,650', '17,820', '16,200', '16,020', '21,420', '5,400', '13,500', '17,820', '17,100', '10,800', '19,980', '14,220']}, {'순위': [25, 26, 27, 28, 29, 30, 31, 32, 33, 34, 35, 36, 37, 38, 39, 40, 41, 42, 43, 44, 45, 46, 47, 48], '책제목': ['설민석의 한국사 대모험 33', '흔한남매 19', '2025 심우철 실전 동형 모의고사 Season 4', '최애의 아이 16 특별판', '넥서스', '돈의 흐름은 되풀이된다', 'ETS 토익 정기시험 기출문제집 1000 Vol. 4 RC', '스토너', '2025 큰별쌤 최태성의 별별한국사 한국사능력검정시험 심화(1,2,3급) 하', 'ETS 토익 정기시험 기출문제집 1000 Vol. 4 LC', '최애의 아이 16', '엔비디아 젠슨 황, 생각하는 기계', '진짜의 마인드', '혹시, 돈 얘기해도 될까요?', '너에게 들려주는 단단한 말', '질문의 격', '하루 한 장 나의 어휘력을 위한 필사 노트', '길고양이와 늑대 5 더블특전판', '과자 사면 과학 드립니다', '부의 전략 수업', '살아갈 날들을 위한 괴테의 시', '2025 문동균 한국사 지방직 대비 실전 봉투모의고사', '똑게육아', '파과 (리커버)'], '저자및출판사': ['설민석', '남이담', '정현희', '강석화', '단꿈아이', '흔한남매', '백난도', '유난희', '흔한컴퍼니', '미래엔아이세움', '심우철', '심슨북스', '아카사카 아카', '요코야리 멘고', '대원', '유발 하라리', '김명주', '김영사', '홍춘욱', '포르체', 'ETS', 'YBM(와이비엠)', '존 윌리엄스', '김승욱', '알에이치코리아(RHK)', '최태성', '이투스북 ', 'ETS', 'YBM(와이비엠)', '아카사카 아카', '요코야리 멘고', '대원', '스티븐 위트', '백우진', '알에이치코리아(RHK)', '김찬희(김진짜)', '터닝페이지', '주언규', '필름', '김종원', '퍼스트펭귄', '유선경', '앤의서재', '유선경', '위즈덤하우스', '미츠바치 미유키', '학산문화사', '정윤선', '시미씨', '풀빛', '폴 포돌스키', '고영훈', '필름', '김종원', '퍼스트펭귄', '문동균', '에스티유니타스', '로리(김준희)', '북로스트', '구병모', '위즈덤하우스'], '가격': ['12,600', '14,220', '12,960', '35,100', '25,020', '17,100', '17,820', '15,120', '14,400', '17,820', '7,110', '25,200', '16,650', '17,820', '16,200', '16,020', '21,420', '5,400', '13,500', '17,820', '17,100', '10,800', '19,980', '14,220']}, {'순위': [25, 26, 27, 28, 29, 30, 31, 32, 33, 34, 35, 36, 37, 38, 39, 40, 41, 42, 43, 44, 45, 46, 47, 48], '책제목': ['설민석의 한국사 대모험 33', '흔한남매 19', '2025 심우철 실전 동형 모의고사 Season 4', '최애의 아이 16 특별판', '넥서스', '돈의 흐름은 되풀이된다', 'ETS 토익 정기시험 기출문제집 1000 Vol. 4 RC', '스토너', '2025 큰별쌤 최태성의 별별한국사 한국사능력검정시험 심화(1,2,3급) 하', 'ETS 토익 정기시험 기출문제집 1000 Vol. 4 LC', '최애의 아이 16', '엔비디아 젠슨 황, 생각하는 기계', '진짜의 마인드', '혹시, 돈 얘기해도 될까요?', '너에게 들려주는 단단한 말', '질문의 격', '하루 한 장 나의 어휘력을 위한 필사 노트', '길고양이와 늑대 5 더블특전판', '과자 사면 과학 드립니다', '부의 전략 수업', '살아갈 날들을 위한 괴테의 시', '2025 문동균 한국사 지방직 대비 실전 봉투모의고사', '똑게육아', '파과 (리커버)'], '저자및출판사': ['설민석', '남이담', '정현희', '강석화', '단꿈아이', '흔한남매', '백난도', '유난희', '흔한컴퍼니', '미래엔아이세움', '심우철', '심슨북스', '아카사카 아카', '요코야리 멘고', '대원', '유발 하라리', '김명주', '김영사', '홍춘욱', '포르체', 'ETS', 'YBM(와이비엠)', '존 윌리엄스', '김승욱', '알에이치코리아(RHK)', '최태성', '이투스북 ', 'ETS', 'YBM(와이비엠)', '아카사카 아카', '요코야리 멘고', '대원', '스티븐 위트', '백우진', '알에이치코리아(RHK)', '김찬희(김진짜)', '터닝페이지', '주언규', '필름', '김종원', '퍼스트펭귄', '유선경', '앤의서재', '유선경', '위즈덤하우스', '미츠바치 미유키', '학산문화사', '정윤선', '시미씨', '풀빛', '폴 포돌스키', '고영훈', '필름', '김종원', '퍼스트펭귄', '문동균', '에스티유니타스', '로리(김준희)', '북로스트', '구병모', '위즈덤하우스'], '가격': ['12,600', '14,220', '12,960', '35,100', '25,020', '17,100', '17,820', '15,120', '14,400', '17,820', '7,110', '25,200', '16,650', '17,820', '16,200', '16,020', '21,420', '5,400', '13,500', '17,820', '17,100', '10,800', '19,980', '14,220']}, {'순위': [25, 26, 27, 28, 29, 30, 31, 32, 33, 34, 35, 36, 37, 38, 39, 40, 41, 42, 43, 44, 45, 46, 47, 48], '책제목': ['설민석의 한국사 대모험 33', '흔한남매 19', '2025 심우철 실전 동형 모의고사 Season 4', '최애의 아이 16 특별판', '넥서스', '돈의 흐름은 되풀이된다', 'ETS 토익 정기시험 기출문제집 1000 Vol. 4 RC', '스토너', '2025 큰별쌤 최태성의 별별한국사 한국사능력검정시험 심화(1,2,3급) 하', 'ETS 토익 정기시험 기출문제집 1000 Vol. 4 LC', '최애의 아이 16', '엔비디아 젠슨 황, 생각하는 기계', '진짜의 마인드', '혹시, 돈 얘기해도 될까요?', '너에게 들려주는 단단한 말', '질문의 격', '하루 한 장 나의 어휘력을 위한 필사 노트', '길고양이와 늑대 5 더블특전판', '과자 사면 과학 드립니다', '부의 전략 수업', '살아갈 날들을 위한 괴테의 시', '2025 문동균 한국사 지방직 대비 실전 봉투모의고사', '똑게육아', '파과 (리커버)'], '저자및출판사': ['설민석', '남이담', '정현희', '강석화', '단꿈아이', '흔한남매', '백난도', '유난희', '흔한컴퍼니', '미래엔아이세움', '심우철', '심슨북스', '아카사카 아카', '요코야리 멘고', '대원', '유발 하라리', '김명주', '김영사', '홍춘욱', '포르체', 'ETS', 'YBM(와이비엠)', '존 윌리엄스', '김승욱', '알에이치코리아(RHK)', '최태성', '이투스북 ', 'ETS', 'YBM(와이비엠)', '아카사카 아카', '요코야리 멘고', '대원', '스티븐 위트', '백우진', '알에이치코리아(RHK)', '김찬희(김진짜)', '터닝페이지', '주언규', '필름', '김종원', '퍼스트펭귄', '유선경', '앤의서재', '유선경', '위즈덤하우스', '미츠바치 미유키', '학산문화사', '정윤선', '시미씨', '풀빛', '폴 포돌스키', '고영훈', '필름', '김종원', '퍼스트펭귄', '문동균', '에스티유니타스', '로리(김준희)', '북로스트', '구병모', '위즈덤하우스'], '가격': ['12,600', '14,220', '12,960', '35,100', '25,020', '17,100', '17,820', '15,120', '14,400', '17,820', '7,110', '25,200', '16,650', '17,820', '16,200', '16,020', '21,420', '5,400', '13,500', '17,820', '17,100', '10,800', '19,980', '14,220']}, {'순위': [25, 26, 27, 28, 29, 30, 31, 32, 33, 34, 35, 36, 37, 38, 39, 40, 41, 42, 43, 44, 45, 46, 47, 48], '책제목': ['설민석의 한국사 대모험 33', '흔한남매 19', '2025 심우철 실전 동형 모의고사 Season 4', '최애의 아이 16 특별판', '넥서스', '돈의 흐름은 되풀이된다', 'ETS 토익 정기시험 기출문제집 1000 Vol. 4 RC', '스토너', '2025 큰별쌤 최태성의 별별한국사 한국사능력검정시험 심화(1,2,3급) 하', 'ETS 토익 정기시험 기출문제집 1000 Vol. 4 LC', '최애의 아이 16', '엔비디아 젠슨 황, 생각하는 기계', '진짜의 마인드', '혹시, 돈 얘기해도 될까요?', '너에게 들려주는 단단한 말', '질문의 격', '하루 한 장 나의 어휘력을 위한 필사 노트', '길고양이와 늑대 5 더블특전판', '과자 사면 과학 드립니다', '부의 전략 수업', '살아갈 날들을 위한 괴테의 시', '2025 문동균 한국사 지방직 대비 실전 봉투모의고사', '똑게육아', '파과 (리커버)'], '저자및출판사': ['설민석', '남이담', '정현희', '강석화', '단꿈아이', '흔한남매', '백난도', '유난희', '흔한컴퍼니', '미래엔아이세움', '심우철', '심슨북스', '아카사카 아카', '요코야리 멘고', '대원', '유발 하라리', '김명주', '김영사', '홍춘욱', '포르체', 'ETS', 'YBM(와이비엠)', '존 윌리엄스', '김승욱', '알에이치코리아(RHK)', '최태성', '이투스북 ', 'ETS', 'YBM(와이비엠)', '아카사카 아카', '요코야리 멘고', '대원', '스티븐 위트', '백우진', '알에이치코리아(RHK)', '김찬희(김진짜)', '터닝페이지', '주언규', '필름', '김종원', '퍼스트펭귄', '유선경', '앤의서재', '유선경', '위즈덤하우스', '미츠바치 미유키', '학산문화사', '정윤선', '시미씨', '풀빛', '폴 포돌스키', '고영훈', '필름', '김종원', '퍼스트펭귄', '문동균', '에스티유니타스', '로리(김준희)', '북로스트', '구병모', '위즈덤하우스'], '가격': ['12,600', '14,220', '12,960', '35,100', '25,020', '17,100', '17,820', '15,120', '14,400', '17,820', '7,110', '25,200', '16,650', '17,820', '16,200', '16,020', '21,420', '5,400', '13,500', '17,820', '17,100', '10,800', '19,980', '14,220']}, {'순위': [25, 26, 27, 28, 29, 30, 31, 32, 33, 34, 35, 36, 37, 38, 39, 40, 41, 42, 43, 44, 45, 46, 47, 48], '책제목': ['설민석의 한국사 대모험 33', '흔한남매 19', '2025 심우철 실전 동형 모의고사 Season 4', '최애의 아이 16 특별판', '넥서스', '돈의 흐름은 되풀이된다', 'ETS 토익 정기시험 기출문제집 1000 Vol. 4 RC', '스토너', '2025 큰별쌤 최태성의 별별한국사 한국사능력검정시험 심화(1,2,3급) 하', 'ETS 토익 정기시험 기출문제집 1000 Vol. 4 LC', '최애의 아이 16', '엔비디아 젠슨 황, 생각하는 기계', '진짜의 마인드', '혹시, 돈 얘기해도 될까요?', '너에게 들려주는 단단한 말', '질문의 격', '하루 한 장 나의 어휘력을 위한 필사 노트', '길고양이와 늑대 5 더블특전판', '과자 사면 과학 드립니다', '부의 전략 수업', '살아갈 날들을 위한 괴테의 시', '2025 문동균 한국사 지방직 대비 실전 봉투모의고사', '똑게육아', '파과 (리커버)'], '저자및출판사': ['설민석', '남이담', '정현희', '강석화', '단꿈아이', '흔한남매', '백난도', '유난희', '흔한컴퍼니', '미래엔아이세움', '심우철', '심슨북스', '아카사카 아카', '요코야리 멘고', '대원', '유발 하라리', '김명주', '김영사', '홍춘욱', '포르체', 'ETS', 'YBM(와이비엠)', '존 윌리엄스', '김승욱', '알에이치코리아(RHK)', '최태성', '이투스북 ', 'ETS', 'YBM(와이비엠)', '아카사카 아카', '요코야리 멘고', '대원', '스티븐 위트', '백우진', '알에이치코리아(RHK)', '김찬희(김진짜)', '터닝페이지', '주언규', '필름', '김종원', '퍼스트펭귄', '유선경', '앤의서재', '유선경', '위즈덤하우스', '미츠바치 미유키', '학산문화사', '정윤선', '시미씨', '풀빛', '폴 포돌스키', '고영훈', '필름', '김종원', '퍼스트펭귄', '문동균', '에스티유니타스', '로리(김준희)', '북로스트', '구병모', '위즈덤하우스'], '가격': ['12,600', '14,220', '12,960', '35,100', '25,020', '17,100', '17,820', '15,120', '14,400', '17,820', '7,110', '25,200', '16,650', '17,820', '16,200', '16,020', '21,420', '5,400', '13,500', '17,820', '17,100', '10,800', '19,980', '14,220']}, {'순위': [25, 26, 27, 28, 29, 30, 31, 32, 33, 34, 35, 36, 37, 38, 39, 40, 41, 42, 43, 44, 45, 46, 47, 48], '책제목': ['설민석의 한국사 대모험 33', '흔한남매 19', '2025 심우철 실전 동형 모의고사 Season 4', '최애의 아이 16 특별판', '넥서스', '돈의 흐름은 되풀이된다', 'ETS 토익 정기시험 기출문제집 1000 Vol. 4 RC', '스토너', '2025 큰별쌤 최태성의 별별한국사 한국사능력검정시험 심화(1,2,3급) 하', 'ETS 토익 정기시험 기출문제집 1000 Vol. 4 LC', '최애의 아이 16', '엔비디아 젠슨 황, 생각하는 기계', '진짜의 마인드', '혹시, 돈 얘기해도 될까요?', '너에게 들려주는 단단한 말', '질문의 격', '하루 한 장 나의 어휘력을 위한 필사 노트', '길고양이와 늑대 5 더블특전판', '과자 사면 과학 드립니다', '부의 전략 수업', '살아갈 날들을 위한 괴테의 시', '2025 문동균 한국사 지방직 대비 실전 봉투모의고사', '똑게육아', '파과 (리커버)'], '저자및출판사': ['설민석', '남이담', '정현희', '강석화', '단꿈아이', '흔한남매', '백난도', '유난희', '흔한컴퍼니', '미래엔아이세움', '심우철', '심슨북스', '아카사카 아카', '요코야리 멘고', '대원', '유발 하라리', '김명주', '김영사', '홍춘욱', '포르체', 'ETS', 'YBM(와이비엠)', '존 윌리엄스', '김승욱', '알에이치코리아(RHK)', '최태성', '이투스북 ', 'ETS', 'YBM(와이비엠)', '아카사카 아카', '요코야리 멘고', '대원', '스티븐 위트', '백우진', '알에이치코리아(RHK)', '김찬희(김진짜)', '터닝페이지', '주언규', '필름', '김종원', '퍼스트펭귄', '유선경', '앤의서재', '유선경', '위즈덤하우스', '미츠바치 미유키', '학산문화사', '정윤선', '시미씨', '풀빛', '폴 포돌스키', '고영훈', '필름', '김종원', '퍼스트펭귄', '문동균', '에스티유니타스', '로리(김준희)', '북로스트', '구병모', '위즈덤하우스'], '가격': ['12,600', '14,220', '12,960', '35,100', '25,020', '17,100', '17,820', '15,120', '14,400', '17,820', '7,110', '25,200', '16,650', '17,820', '16,200', '16,020', '21,420', '5,400', '13,500', '17,820', '17,100', '10,800', '19,980', '14,220']}, {'순위': [25, 26, 27, 28, 29, 30, 31, 32, 33, 34, 35, 36, 37, 38, 39, 40, 41, 42, 43, 44, 45, 46, 47, 48], '책제목': ['설민석의 한국사 대모험 33', '흔한남매 19', '2025 심우철 실전 동형 모의고사 Season 4', '최애의 아이 16 특별판', '넥서스', '돈의 흐름은 되풀이된다', 'ETS 토익 정기시험 기출문제집 1000 Vol. 4 RC', '스토너', '2025 큰별쌤 최태성의 별별한국사 한국사능력검정시험 심화(1,2,3급) 하', 'ETS 토익 정기시험 기출문제집 1000 Vol. 4 LC', '최애의 아이 16', '엔비디아 젠슨 황, 생각하는 기계', '진짜의 마인드', '혹시, 돈 얘기해도 될까요?', '너에게 들려주는 단단한 말', '질문의 격', '하루 한 장 나의 어휘력을 위한 필사 노트', '길고양이와 늑대 5 더블특전판', '과자 사면 과학 드립니다', '부의 전략 수업', '살아갈 날들을 위한 괴테의 시', '2025 문동균 한국사 지방직 대비 실전 봉투모의고사', '똑게육아', '파과 (리커버)'], '저자및출판사': ['설민석', '남이담', '정현희', '강석화', '단꿈아이', '흔한남매', '백난도', '유난희', '흔한컴퍼니', '미래엔아이세움', '심우철', '심슨북스', '아카사카 아카', '요코야리 멘고', '대원', '유발 하라리', '김명주', '김영사', '홍춘욱', '포르체', 'ETS', 'YBM(와이비엠)', '존 윌리엄스', '김승욱', '알에이치코리아(RHK)', '최태성', '이투스북 ', 'ETS', 'YBM(와이비엠)', '아카사카 아카', '요코야리 멘고', '대원', '스티븐 위트', '백우진', '알에이치코리아(RHK)', '김찬희(김진짜)', '터닝페이지', '주언규', '필름', '김종원', '퍼스트펭귄', '유선경', '앤의서재', '유선경', '위즈덤하우스', '미츠바치 미유키', '학산문화사', '정윤선', '시미씨', '풀빛', '폴 포돌스키', '고영훈', '필름', '김종원', '퍼스트펭귄', '문동균', '에스티유니타스', '로리(김준희)', '북로스트', '구병모', '위즈덤하우스'], '가격': ['12,600', '14,220', '12,960', '35,100', '25,020', '17,100', '17,820', '15,120', '14,400', '17,820', '7,110', '25,200', '16,650', '17,820', '16,200', '16,020', '21,420', '5,400', '13,500', '17,820', '17,100', '10,800', '19,980', '14,220']}, {'순위': [25, 26, 27, 28, 29, 30, 31, 32, 33, 34, 35, 36, 37, 38, 39, 40, 41, 42, 43, 44, 45, 46, 47, 48], '책제목': ['설민석의 한국사 대모험 33', '흔한남매 19', '2025 심우철 실전 동형 모의고사 Season 4', '최애의 아이 16 특별판', '넥서스', '돈의 흐름은 되풀이된다', 'ETS 토익 정기시험 기출문제집 1000 Vol. 4 RC', '스토너', '2025 큰별쌤 최태성의 별별한국사 한국사능력검정시험 심화(1,2,3급) 하', 'ETS 토익 정기시험 기출문제집 1000 Vol. 4 LC', '최애의 아이 16', '엔비디아 젠슨 황, 생각하는 기계', '진짜의 마인드', '혹시, 돈 얘기해도 될까요?', '너에게 들려주는 단단한 말', '질문의 격', '하루 한 장 나의 어휘력을 위한 필사 노트', '길고양이와 늑대 5 더블특전판', '과자 사면 과학 드립니다', '부의 전략 수업', '살아갈 날들을 위한 괴테의 시', '2025 문동균 한국사 지방직 대비 실전 봉투모의고사', '똑게육아', '파과 (리커버)'], '저자및출판사': ['설민석', '남이담', '정현희', '강석화', '단꿈아이', '흔한남매', '백난도', '유난희', '흔한컴퍼니', '미래엔아이세움', '심우철', '심슨북스', '아카사카 아카', '요코야리 멘고', '대원', '유발 하라리', '김명주', '김영사', '홍춘욱', '포르체', 'ETS', 'YBM(와이비엠)', '존 윌리엄스', '김승욱', '알에이치코리아(RHK)', '최태성', '이투스북 ', 'ETS', 'YBM(와이비엠)', '아카사카 아카', '요코야리 멘고', '대원', '스티븐 위트', '백우진', '알에이치코리아(RHK)', '김찬희(김진짜)', '터닝페이지', '주언규', '필름', '김종원', '퍼스트펭귄', '유선경', '앤의서재', '유선경', '위즈덤하우스', '미츠바치 미유키', '학산문화사', '정윤선', '시미씨', '풀빛', '폴 포돌스키', '고영훈', '필름', '김종원', '퍼스트펭귄', '문동균', '에스티유니타스', '로리(김준희)', '북로스트', '구병모', '위즈덤하우스'], '가격': ['12,600', '14,220', '12,960', '35,100', '25,020', '17,100', '17,820', '15,120', '14,400', '17,820', '7,110', '25,200', '16,650', '17,820', '16,200', '16,020', '21,420', '5,400', '13,500', '17,820', '17,100', '10,800', '19,980', '14,220']}, {'순위': [25, 26, 27, 28, 29, 30, 31, 32, 33, 34, 35, 36, 37, 38, 39, 40, 41, 42, 43, 44, 45, 46, 47, 48], '책제목': ['설민석의 한국사 대모험 33', '흔한남매 19', '2025 심우철 실전 동형 모의고사 Season 4', '최애의 아이 16 특별판', '넥서스', '돈의 흐름은 되풀이된다', 'ETS 토익 정기시험 기출문제집 1000 Vol. 4 RC', '스토너', '2025 큰별쌤 최태성의 별별한국사 한국사능력검정시험 심화(1,2,3급) 하', 'ETS 토익 정기시험 기출문제집 1000 Vol. 4 LC', '최애의 아이 16', '엔비디아 젠슨 황, 생각하는 기계', '진짜의 마인드', '혹시, 돈 얘기해도 될까요?', '너에게 들려주는 단단한 말', '질문의 격', '하루 한 장 나의 어휘력을 위한 필사 노트', '길고양이와 늑대 5 더블특전판', '과자 사면 과학 드립니다', '부의 전략 수업', '살아갈 날들을 위한 괴테의 시', '2025 문동균 한국사 지방직 대비 실전 봉투모의고사', '똑게육아', '파과 (리커버)'], '저자및출판사': ['설민석', '남이담', '정현희', '강석화', '단꿈아이', '흔한남매', '백난도', '유난희', '흔한컴퍼니', '미래엔아이세움', '심우철', '심슨북스', '아카사카 아카', '요코야리 멘고', '대원', '유발 하라리', '김명주', '김영사', '홍춘욱', '포르체', 'ETS', 'YBM(와이비엠)', '존 윌리엄스', '김승욱', '알에이치코리아(RHK)', '최태성', '이투스북 ', 'ETS', 'YBM(와이비엠)', '아카사카 아카', '요코야리 멘고', '대원', '스티븐 위트', '백우진', '알에이치코리아(RHK)', '김찬희(김진짜)', '터닝페이지', '주언규', '필름', '김종원', '퍼스트펭귄', '유선경', '앤의서재', '유선경', '위즈덤하우스', '미츠바치 미유키', '학산문화사', '정윤선', '시미씨', '풀빛', '폴 포돌스키', '고영훈', '필름', '김종원', '퍼스트펭귄', '문동균', '에스티유니타스', '로리(김준희)', '북로스트', '구병모', '위즈덤하우스'], '가격': ['12,600', '14,220', '12,960', '35,100', '25,020', '17,100', '17,820', '15,120', '14,400', '17,820', '7,110', '25,200', '16,650', '17,820', '16,200', '16,020', '21,420', '5,400', '13,500', '17,820', '17,100', '10,800', '19,980', '14,220']}, {'순위': [25, 26, 27, 28, 29, 30, 31, 32, 33, 34, 35, 36, 37, 38, 39, 40, 41, 42, 43, 44, 45, 46, 47, 48], '책제목': ['설민석의 한국사 대모험 33', '흔한남매 19', '2025 심우철 실전 동형 모의고사 Season 4', '최애의 아이 16 특별판', '넥서스', '돈의 흐름은 되풀이된다', 'ETS 토익 정기시험 기출문제집 1000 Vol. 4 RC', '스토너', '2025 큰별쌤 최태성의 별별한국사 한국사능력검정시험 심화(1,2,3급) 하', 'ETS 토익 정기시험 기출문제집 1000 Vol. 4 LC', '최애의 아이 16', '엔비디아 젠슨 황, 생각하는 기계', '진짜의 마인드', '혹시, 돈 얘기해도 될까요?', '너에게 들려주는 단단한 말', '질문의 격', '하루 한 장 나의 어휘력을 위한 필사 노트', '길고양이와 늑대 5 더블특전판', '과자 사면 과학 드립니다', '부의 전략 수업', '살아갈 날들을 위한 괴테의 시', '2025 문동균 한국사 지방직 대비 실전 봉투모의고사', '똑게육아', '파과 (리커버)'], '저자및출판사': ['설민석', '남이담', '정현희', '강석화', '단꿈아이', '흔한남매', '백난도', '유난희', '흔한컴퍼니', '미래엔아이세움', '심우철', '심슨북스', '아카사카 아카', '요코야리 멘고', '대원', '유발 하라리', '김명주', '김영사', '홍춘욱', '포르체', 'ETS', 'YBM(와이비엠)', '존 윌리엄스', '김승욱', '알에이치코리아(RHK)', '최태성', '이투스북 ', 'ETS', 'YBM(와이비엠)', '아카사카 아카', '요코야리 멘고', '대원', '스티븐 위트', '백우진', '알에이치코리아(RHK)', '김찬희(김진짜)', '터닝페이지', '주언규', '필름', '김종원', '퍼스트펭귄', '유선경', '앤의서재', '유선경', '위즈덤하우스', '미츠바치 미유키', '학산문화사', '정윤선', '시미씨', '풀빛', '폴 포돌스키', '고영훈', '필름', '김종원', '퍼스트펭귄', '문동균', '에스티유니타스', '로리(김준희)', '북로스트', '구병모', '위즈덤하우스'], '가격': ['12,600', '14,220', '12,960', '35,100', '25,020', '17,100', '17,820', '15,120', '14,400', '17,820', '7,110', '25,200', '16,650', '17,820', '16,200', '16,020', '21,420', '5,400', '13,500', '17,820', '17,100', '10,800', '19,980', '14,220']}, {'순위': [25, 26, 27, 28, 29, 30, 31, 32, 33, 34, 35, 36, 37, 38, 39, 40, 41, 42, 43, 44, 45, 46, 47, 48], '책제목': ['설민석의 한국사 대모험 33', '흔한남매 19', '2025 심우철 실전 동형 모의고사 Season 4', '최애의 아이 16 특별판', '넥서스', '돈의 흐름은 되풀이된다', 'ETS 토익 정기시험 기출문제집 1000 Vol. 4 RC', '스토너', '2025 큰별쌤 최태성의 별별한국사 한국사능력검정시험 심화(1,2,3급) 하', 'ETS 토익 정기시험 기출문제집 1000 Vol. 4 LC', '최애의 아이 16', '엔비디아 젠슨 황, 생각하는 기계', '진짜의 마인드', '혹시, 돈 얘기해도 될까요?', '너에게 들려주는 단단한 말', '질문의 격', '하루 한 장 나의 어휘력을 위한 필사 노트', '길고양이와 늑대 5 더블특전판', '과자 사면 과학 드립니다', '부의 전략 수업', '살아갈 날들을 위한 괴테의 시', '2025 문동균 한국사 지방직 대비 실전 봉투모의고사', '똑게육아', '파과 (리커버)'], '저자및출판사': ['설민석', '남이담', '정현희', '강석화', '단꿈아이', '흔한남매', '백난도', '유난희', '흔한컴퍼니', '미래엔아이세움', '심우철', '심슨북스', '아카사카 아카', '요코야리 멘고', '대원', '유발 하라리', '김명주', '김영사', '홍춘욱', '포르체', 'ETS', 'YBM(와이비엠)', '존 윌리엄스', '김승욱', '알에이치코리아(RHK)', '최태성', '이투스북 ', 'ETS', 'YBM(와이비엠)', '아카사카 아카', '요코야리 멘고', '대원', '스티븐 위트', '백우진', '알에이치코리아(RHK)', '김찬희(김진짜)', '터닝페이지', '주언규', '필름', '김종원', '퍼스트펭귄', '유선경', '앤의서재', '유선경', '위즈덤하우스', '미츠바치 미유키', '학산문화사', '정윤선', '시미씨', '풀빛', '폴 포돌스키', '고영훈', '필름', '김종원', '퍼스트펭귄', '문동균', '에스티유니타스', '로리(김준희)', '북로스트', '구병모', '위즈덤하우스'], '가격': ['12,600', '14,220', '12,960', '35,100', '25,020', '17,100', '17,820', '15,120', '14,400', '17,820', '7,110', '25,200', '16,650', '17,820', '16,200', '16,020', '21,420', '5,400', '13,500', '17,820', '17,100', '10,800', '19,980', '14,220']}, {'순위': [25, 26, 27, 28, 29, 30, 31, 32, 33, 34, 35, 36, 37, 38, 39, 40, 41, 42, 43, 44, 45, 46, 47, 48], '책제목': ['설민석의 한국사 대모험 33', '흔한남매 19', '2025 심우철 실전 동형 모의고사 Season 4', '최애의 아이 16 특별판', '넥서스', '돈의 흐름은 되풀이된다', 'ETS 토익 정기시험 기출문제집 1000 Vol. 4 RC', '스토너', '2025 큰별쌤 최태성의 별별한국사 한국사능력검정시험 심화(1,2,3급) 하', 'ETS 토익 정기시험 기출문제집 1000 Vol. 4 LC', '최애의 아이 16', '엔비디아 젠슨 황, 생각하는 기계', '진짜의 마인드', '혹시, 돈 얘기해도 될까요?', '너에게 들려주는 단단한 말', '질문의 격', '하루 한 장 나의 어휘력을 위한 필사 노트', '길고양이와 늑대 5 더블특전판', '과자 사면 과학 드립니다', '부의 전략 수업', '살아갈 날들을 위한 괴테의 시', '2025 문동균 한국사 지방직 대비 실전 봉투모의고사', '똑게육아', '파과 (리커버)'], '저자및출판사': ['설민석', '남이담', '정현희', '강석화', '단꿈아이', '흔한남매', '백난도', '유난희', '흔한컴퍼니', '미래엔아이세움', '심우철', '심슨북스', '아카사카 아카', '요코야리 멘고', '대원', '유발 하라리', '김명주', '김영사', '홍춘욱', '포르체', 'ETS', 'YBM(와이비엠)', '존 윌리엄스', '김승욱', '알에이치코리아(RHK)', '최태성', '이투스북 ', 'ETS', 'YBM(와이비엠)', '아카사카 아카', '요코야리 멘고', '대원', '스티븐 위트', '백우진', '알에이치코리아(RHK)', '김찬희(김진짜)', '터닝페이지', '주언규', '필름', '김종원', '퍼스트펭귄', '유선경', '앤의서재', '유선경', '위즈덤하우스', '미츠바치 미유키', '학산문화사', '정윤선', '시미씨', '풀빛', '폴 포돌스키', '고영훈', '필름', '김종원', '퍼스트펭귄', '문동균', '에스티유니타스', '로리(김준희)', '북로스트', '구병모', '위즈덤하우스'], '가격': ['12,600', '14,220', '12,960', '35,100', '25,020', '17,100', '17,820', '15,120', '14,400', '17,820', '7,110', '25,200', '16,650', '17,820', '16,200', '16,020', '21,420', '5,400', '13,500', '17,820', '17,100', '10,800', '19,980', '14,220']}, {'순위': [25, 26, 27, 28, 29, 30, 31, 32, 33, 34, 35, 36, 37, 38, 39, 40, 41, 42, 43, 44, 45, 46, 47, 48], '책제목': ['설민석의 한국사 대모험 33', '흔한남매 19', '2025 심우철 실전 동형 모의고사 Season 4', '최애의 아이 16 특별판', '넥서스', '돈의 흐름은 되풀이된다', 'ETS 토익 정기시험 기출문제집 1000 Vol. 4 RC', '스토너', '2025 큰별쌤 최태성의 별별한국사 한국사능력검정시험 심화(1,2,3급) 하', 'ETS 토익 정기시험 기출문제집 1000 Vol. 4 LC', '최애의 아이 16', '엔비디아 젠슨 황, 생각하는 기계', '진짜의 마인드', '혹시, 돈 얘기해도 될까요?', '너에게 들려주는 단단한 말', '질문의 격', '하루 한 장 나의 어휘력을 위한 필사 노트', '길고양이와 늑대 5 더블특전판', '과자 사면 과학 드립니다', '부의 전략 수업', '살아갈 날들을 위한 괴테의 시', '2025 문동균 한국사 지방직 대비 실전 봉투모의고사', '똑게육아', '파과 (리커버)'], '저자및출판사': ['설민석', '남이담', '정현희', '강석화', '단꿈아이', '흔한남매', '백난도', '유난희', '흔한컴퍼니', '미래엔아이세움', '심우철', '심슨북스', '아카사카 아카', '요코야리 멘고', '대원', '유발 하라리', '김명주', '김영사', '홍춘욱', '포르체', 'ETS', 'YBM(와이비엠)', '존 윌리엄스', '김승욱', '알에이치코리아(RHK)', '최태성', '이투스북 ', 'ETS', 'YBM(와이비엠)', '아카사카 아카', '요코야리 멘고', '대원', '스티븐 위트', '백우진', '알에이치코리아(RHK)', '김찬희(김진짜)', '터닝페이지', '주언규', '필름', '김종원', '퍼스트펭귄', '유선경', '앤의서재', '유선경', '위즈덤하우스', '미츠바치 미유키', '학산문화사', '정윤선', '시미씨', '풀빛', '폴 포돌스키', '고영훈', '필름', '김종원', '퍼스트펭귄', '문동균', '에스티유니타스', '로리(김준희)', '북로스트', '구병모', '위즈덤하우스'], '가격': ['12,600', '14,220', '12,960', '35,100', '25,020', '17,100', '17,820', '15,120', '14,400', '17,820', '7,110', '25,200', '16,650', '17,820', '16,200', '16,020', '21,420', '5,400', '13,500', '17,820', '17,100', '10,800', '19,980', '14,220']}, {'순위': [25, 26, 27, 28, 29, 30, 31, 32, 33, 34, 35, 36, 37, 38, 39, 40, 41, 42, 43, 44, 45, 46, 47, 48], '책제목': ['설민석의 한국사 대모험 33', '흔한남매 19', '2025 심우철 실전 동형 모의고사 Season 4', '최애의 아이 16 특별판', '넥서스', '돈의 흐름은 되풀이된다', 'ETS 토익 정기시험 기출문제집 1000 Vol. 4 RC', '스토너', '2025 큰별쌤 최태성의 별별한국사 한국사능력검정시험 심화(1,2,3급) 하', 'ETS 토익 정기시험 기출문제집 1000 Vol. 4 LC', '최애의 아이 16', '엔비디아 젠슨 황, 생각하는 기계', '진짜의 마인드', '혹시, 돈 얘기해도 될까요?', '너에게 들려주는 단단한 말', '질문의 격', '하루 한 장 나의 어휘력을 위한 필사 노트', '길고양이와 늑대 5 더블특전판', '과자 사면 과학 드립니다', '부의 전략 수업', '살아갈 날들을 위한 괴테의 시', '2025 문동균 한국사 지방직 대비 실전 봉투모의고사', '똑게육아', '파과 (리커버)'], '저자및출판사': ['설민석', '남이담', '정현희', '강석화', '단꿈아이', '흔한남매', '백난도', '유난희', '흔한컴퍼니', '미래엔아이세움', '심우철', '심슨북스', '아카사카 아카', '요코야리 멘고', '대원', '유발 하라리', '김명주', '김영사', '홍춘욱', '포르체', 'ETS', 'YBM(와이비엠)', '존 윌리엄스', '김승욱', '알에이치코리아(RHK)', '최태성', '이투스북 ', 'ETS', 'YBM(와이비엠)', '아카사카 아카', '요코야리 멘고', '대원', '스티븐 위트', '백우진', '알에이치코리아(RHK)', '김찬희(김진짜)', '터닝페이지', '주언규', '필름', '김종원', '퍼스트펭귄', '유선경', '앤의서재', '유선경', '위즈덤하우스', '미츠바치 미유키', '학산문화사', '정윤선', '시미씨', '풀빛', '폴 포돌스키', '고영훈', '필름', '김종원', '퍼스트펭귄', '문동균', '에스티유니타스', '로리(김준희)', '북로스트', '구병모', '위즈덤하우스'], '가격': ['12,600', '14,220', '12,960', '35,100', '25,020', '17,100', '17,820', '15,120', '14,400', '17,820', '7,110', '25,200', '16,650', '17,820', '16,200', '16,020', '21,420', '5,400', '13,500', '17,820', '17,100', '10,800', '19,980', '14,220']}, {'순위': [25, 26, 27, 28, 29, 30, 31, 32, 33, 34, 35, 36, 37, 38, 39, 40, 41, 42, 43, 44, 45, 46, 47, 48], '책제목': ['설민석의 한국사 대모험 33', '흔한남매 19', '2025 심우철 실전 동형 모의고사 Season 4', '최애의 아이 16 특별판', '넥서스', '돈의 흐름은 되풀이된다', 'ETS 토익 정기시험 기출문제집 1000 Vol. 4 RC', '스토너', '2025 큰별쌤 최태성의 별별한국사 한국사능력검정시험 심화(1,2,3급) 하', 'ETS 토익 정기시험 기출문제집 1000 Vol. 4 LC', '최애의 아이 16', '엔비디아 젠슨 황, 생각하는 기계', '진짜의 마인드', '혹시, 돈 얘기해도 될까요?', '너에게 들려주는 단단한 말', '질문의 격', '하루 한 장 나의 어휘력을 위한 필사 노트', '길고양이와 늑대 5 더블특전판', '과자 사면 과학 드립니다', '부의 전략 수업', '살아갈 날들을 위한 괴테의 시', '2025 문동균 한국사 지방직 대비 실전 봉투모의고사', '똑게육아', '파과 (리커버)'], '저자및출판사': ['설민석', '남이담', '정현희', '강석화', '단꿈아이', '흔한남매', '백난도', '유난희', '흔한컴퍼니', '미래엔아이세움', '심우철', '심슨북스', '아카사카 아카', '요코야리 멘고', '대원', '유발 하라리', '김명주', '김영사', '홍춘욱', '포르체', 'ETS', 'YBM(와이비엠)', '존 윌리엄스', '김승욱', '알에이치코리아(RHK)', '최태성', '이투스북 ', 'ETS', 'YBM(와이비엠)', '아카사카 아카', '요코야리 멘고', '대원', '스티븐 위트', '백우진', '알에이치코리아(RHK)', '김찬희(김진짜)', '터닝페이지', '주언규', '필름', '김종원', '퍼스트펭귄', '유선경', '앤의서재', '유선경', '위즈덤하우스', '미츠바치 미유키', '학산문화사', '정윤선', '시미씨', '풀빛', '폴 포돌스키', '고영훈', '필름', '김종원', '퍼스트펭귄', '문동균', '에스티유니타스', '로리(김준희)', '북로스트', '구병모', '위즈덤하우스'], '가격': ['12,600', '14,220', '12,960', '35,100', '25,020', '17,100', '17,820', '15,120', '14,400', '17,820', '7,110', '25,200', '16,650', '17,820', '16,200', '16,020', '21,420', '5,400', '13,500', '17,820', '17,100', '10,800', '19,980', '14,220']}, {'순위': [25, 26, 27, 28, 29, 30, 31, 32, 33, 34, 35, 36, 37, 38, 39, 40, 41, 42, 43, 44, 45, 46, 47, 48], '책제목': ['설민석의 한국사 대모험 33', '흔한남매 19', '2025 심우철 실전 동형 모의고사 Season 4', '최애의 아이 16 특별판', '넥서스', '돈의 흐름은 되풀이된다', 'ETS 토익 정기시험 기출문제집 1000 Vol. 4 RC', '스토너', '2025 큰별쌤 최태성의 별별한국사 한국사능력검정시험 심화(1,2,3급) 하', 'ETS 토익 정기시험 기출문제집 1000 Vol. 4 LC', '최애의 아이 16', '엔비디아 젠슨 황, 생각하는 기계', '진짜의 마인드', '혹시, 돈 얘기해도 될까요?', '너에게 들려주는 단단한 말', '질문의 격', '하루 한 장 나의 어휘력을 위한 필사 노트', '길고양이와 늑대 5 더블특전판', '과자 사면 과학 드립니다', '부의 전략 수업', '살아갈 날들을 위한 괴테의 시', '2025 문동균 한국사 지방직 대비 실전 봉투모의고사', '똑게육아', '파과 (리커버)'], '저자및출판사': ['설민석', '남이담', '정현희', '강석화', '단꿈아이', '흔한남매', '백난도', '유난희', '흔한컴퍼니', '미래엔아이세움', '심우철', '심슨북스', '아카사카 아카', '요코야리 멘고', '대원', '유발 하라리', '김명주', '김영사', '홍춘욱', '포르체', 'ETS', 'YBM(와이비엠)', '존 윌리엄스', '김승욱', '알에이치코리아(RHK)', '최태성', '이투스북 ', 'ETS', 'YBM(와이비엠)', '아카사카 아카', '요코야리 멘고', '대원', '스티븐 위트', '백우진', '알에이치코리아(RHK)', '김찬희(김진짜)', '터닝페이지', '주언규', '필름', '김종원', '퍼스트펭귄', '유선경', '앤의서재', '유선경', '위즈덤하우스', '미츠바치 미유키', '학산문화사', '정윤선', '시미씨', '풀빛', '폴 포돌스키', '고영훈', '필름', '김종원', '퍼스트펭귄', '문동균', '에스티유니타스', '로리(김준희)', '북로스트', '구병모', '위즈덤하우스'], '가격': ['12,600', '14,220', '12,960', '35,100', '25,020', '17,100', '17,820', '15,120', '14,400', '17,820', '7,110', '25,200', '16,650', '17,820', '16,200', '16,020', '21,420', '5,400', '13,500', '17,820', '17,100', '10,800', '19,980', '14,220']}, {'순위': [25, 26, 27, 28, 29, 30, 31, 32, 33, 34, 35, 36, 37, 38, 39, 40, 41, 42, 43, 44, 45, 46, 47, 48], '책제목': ['설민석의 한국사 대모험 33', '흔한남매 19', '2025 심우철 실전 동형 모의고사 Season 4', '최애의 아이 16 특별판', '넥서스', '돈의 흐름은 되풀이된다', 'ETS 토익 정기시험 기출문제집 1000 Vol. 4 RC', '스토너', '2025 큰별쌤 최태성의 별별한국사 한국사능력검정시험 심화(1,2,3급) 하', 'ETS 토익 정기시험 기출문제집 1000 Vol. 4 LC', '최애의 아이 16', '엔비디아 젠슨 황, 생각하는 기계', '진짜의 마인드', '혹시, 돈 얘기해도 될까요?', '너에게 들려주는 단단한 말', '질문의 격', '하루 한 장 나의 어휘력을 위한 필사 노트', '길고양이와 늑대 5 더블특전판', '과자 사면 과학 드립니다', '부의 전략 수업', '살아갈 날들을 위한 괴테의 시', '2025 문동균 한국사 지방직 대비 실전 봉투모의고사', '똑게육아', '파과 (리커버)'], '저자및출판사': ['설민석', '남이담', '정현희', '강석화', '단꿈아이', '흔한남매', '백난도', '유난희', '흔한컴퍼니', '미래엔아이세움', '심우철', '심슨북스', '아카사카 아카', '요코야리 멘고', '대원', '유발 하라리', '김명주', '김영사', '홍춘욱', '포르체', 'ETS', 'YBM(와이비엠)', '존 윌리엄스', '김승욱', '알에이치코리아(RHK)', '최태성', '이투스북 ', 'ETS', 'YBM(와이비엠)', '아카사카 아카', '요코야리 멘고', '대원', '스티븐 위트', '백우진', '알에이치코리아(RHK)', '김찬희(김진짜)', '터닝페이지', '주언규', '필름', '김종원', '퍼스트펭귄', '유선경', '앤의서재', '유선경', '위즈덤하우스', '미츠바치 미유키', '학산문화사', '정윤선', '시미씨', '풀빛', '폴 포돌스키', '고영훈', '필름', '김종원', '퍼스트펭귄', '문동균', '에스티유니타스', '로리(김준희)', '북로스트', '구병모', '위즈덤하우스'], '가격': ['12,600', '14,220', '12,960', '35,100', '25,020', '17,100', '17,820', '15,120', '14,400', '17,820', '7,110', '25,200', '16,650', '17,820', '16,200', '16,020', '21,420', '5,400', '13,500', '17,820', '17,100', '10,800', '19,980', '14,220']}, {'순위': [25, 26, 27, 28, 29, 30, 31, 32, 33, 34, 35, 36, 37, 38, 39, 40, 41, 42, 43, 44, 45, 46, 47, 48], '책제목': ['설민석의 한국사 대모험 33', '흔한남매 19', '2025 심우철 실전 동형 모의고사 Season 4', '최애의 아이 16 특별판', '넥서스', '돈의 흐름은 되풀이된다', 'ETS 토익 정기시험 기출문제집 1000 Vol. 4 RC', '스토너', '2025 큰별쌤 최태성의 별별한국사 한국사능력검정시험 심화(1,2,3급) 하', 'ETS 토익 정기시험 기출문제집 1000 Vol. 4 LC', '최애의 아이 16', '엔비디아 젠슨 황, 생각하는 기계', '진짜의 마인드', '혹시, 돈 얘기해도 될까요?', '너에게 들려주는 단단한 말', '질문의 격', '하루 한 장 나의 어휘력을 위한 필사 노트', '길고양이와 늑대 5 더블특전판', '과자 사면 과학 드립니다', '부의 전략 수업', '살아갈 날들을 위한 괴테의 시', '2025 문동균 한국사 지방직 대비 실전 봉투모의고사', '똑게육아', '파과 (리커버)'], '저자및출판사': ['설민석', '남이담', '정현희', '강석화', '단꿈아이', '흔한남매', '백난도', '유난희', '흔한컴퍼니', '미래엔아이세움', '심우철', '심슨북스', '아카사카 아카', '요코야리 멘고', '대원', '유발 하라리', '김명주', '김영사', '홍춘욱', '포르체', 'ETS', 'YBM(와이비엠)', '존 윌리엄스', '김승욱', '알에이치코리아(RHK)', '최태성', '이투스북 ', 'ETS', 'YBM(와이비엠)', '아카사카 아카', '요코야리 멘고', '대원', '스티븐 위트', '백우진', '알에이치코리아(RHK)', '김찬희(김진짜)', '터닝페이지', '주언규', '필름', '김종원', '퍼스트펭귄', '유선경', '앤의서재', '유선경', '위즈덤하우스', '미츠바치 미유키', '학산문화사', '정윤선', '시미씨', '풀빛', '폴 포돌스키', '고영훈', '필름', '김종원', '퍼스트펭귄', '문동균', '에스티유니타스', '로리(김준희)', '북로스트', '구병모', '위즈덤하우스'], '가격': ['12,600', '14,220', '12,960', '35,100', '25,020', '17,100', '17,820', '15,120', '14,400', '17,820', '7,110', '25,200', '16,650', '17,820', '16,200', '16,020', '21,420', '5,400', '13,500', '17,820', '17,100', '10,800', '19,980', '14,220']}, {'순위': [25, 26, 27, 28, 29, 30, 31, 32, 33, 34, 35, 36, 37, 38, 39, 40, 41, 42, 43, 44, 45, 46, 47, 48], '책제목': ['설민석의 한국사 대모험 33', '흔한남매 19', '2025 심우철 실전 동형 모의고사 Season 4', '최애의 아이 16 특별판', '넥서스', '돈의 흐름은 되풀이된다', 'ETS 토익 정기시험 기출문제집 1000 Vol. 4 RC', '스토너', '2025 큰별쌤 최태성의 별별한국사 한국사능력검정시험 심화(1,2,3급) 하', 'ETS 토익 정기시험 기출문제집 1000 Vol. 4 LC', '최애의 아이 16', '엔비디아 젠슨 황, 생각하는 기계', '진짜의 마인드', '혹시, 돈 얘기해도 될까요?', '너에게 들려주는 단단한 말', '질문의 격', '하루 한 장 나의 어휘력을 위한 필사 노트', '길고양이와 늑대 5 더블특전판', '과자 사면 과학 드립니다', '부의 전략 수업', '살아갈 날들을 위한 괴테의 시', '2025 문동균 한국사 지방직 대비 실전 봉투모의고사', '똑게육아', '파과 (리커버)'], '저자및출판사': ['설민석', '남이담', '정현희', '강석화', '단꿈아이', '흔한남매', '백난도', '유난희', '흔한컴퍼니', '미래엔아이세움', '심우철', '심슨북스', '아카사카 아카', '요코야리 멘고', '대원', '유발 하라리', '김명주', '김영사', '홍춘욱', '포르체', 'ETS', 'YBM(와이비엠)', '존 윌리엄스', '김승욱', '알에이치코리아(RHK)', '최태성', '이투스북 ', 'ETS', 'YBM(와이비엠)', '아카사카 아카', '요코야리 멘고', '대원', '스티븐 위트', '백우진', '알에이치코리아(RHK)', '김찬희(김진짜)', '터닝페이지', '주언규', '필름', '김종원', '퍼스트펭귄', '유선경', '앤의서재', '유선경', '위즈덤하우스', '미츠바치 미유키', '학산문화사', '정윤선', '시미씨', '풀빛', '폴 포돌스키', '고영훈', '필름', '김종원', '퍼스트펭귄', '문동균', '에스티유니타스', '로리(김준희)', '북로스트', '구병모', '위즈덤하우스'], '가격': ['12,600', '14,220', '12,960', '35,100', '25,020', '17,100', '17,820', '15,120', '14,400', '17,820', '7,110', '25,200', '16,650', '17,820', '16,200', '16,020', '21,420', '5,400', '13,500', '17,820', '17,100', '10,800', '19,980', '14,220']}, {'순위': [25, 26, 27, 28, 29, 30, 31, 32, 33, 34, 35, 36, 37, 38, 39, 40, 41, 42, 43, 44, 45, 46, 47, 48], '책제목': ['설민석의 한국사 대모험 33', '흔한남매 19', '2025 심우철 실전 동형 모의고사 Season 4', '최애의 아이 16 특별판', '넥서스', '돈의 흐름은 되풀이된다', 'ETS 토익 정기시험 기출문제집 1000 Vol. 4 RC', '스토너', '2025 큰별쌤 최태성의 별별한국사 한국사능력검정시험 심화(1,2,3급) 하', 'ETS 토익 정기시험 기출문제집 1000 Vol. 4 LC', '최애의 아이 16', '엔비디아 젠슨 황, 생각하는 기계', '진짜의 마인드', '혹시, 돈 얘기해도 될까요?', '너에게 들려주는 단단한 말', '질문의 격', '하루 한 장 나의 어휘력을 위한 필사 노트', '길고양이와 늑대 5 더블특전판', '과자 사면 과학 드립니다', '부의 전략 수업', '살아갈 날들을 위한 괴테의 시', '2025 문동균 한국사 지방직 대비 실전 봉투모의고사', '똑게육아', '파과 (리커버)'], '저자및출판사': ['설민석', '남이담', '정현희', '강석화', '단꿈아이', '흔한남매', '백난도', '유난희', '흔한컴퍼니', '미래엔아이세움', '심우철', '심슨북스', '아카사카 아카', '요코야리 멘고', '대원', '유발 하라리', '김명주', '김영사', '홍춘욱', '포르체', 'ETS', 'YBM(와이비엠)', '존 윌리엄스', '김승욱', '알에이치코리아(RHK)', '최태성', '이투스북 ', 'ETS', 'YBM(와이비엠)', '아카사카 아카', '요코야리 멘고', '대원', '스티븐 위트', '백우진', '알에이치코리아(RHK)', '김찬희(김진짜)', '터닝페이지', '주언규', '필름', '김종원', '퍼스트펭귄', '유선경', '앤의서재', '유선경', '위즈덤하우스', '미츠바치 미유키', '학산문화사', '정윤선', '시미씨', '풀빛', '폴 포돌스키', '고영훈', '필름', '김종원', '퍼스트펭귄', '문동균', '에스티유니타스', '로리(김준희)', '북로스트', '구병모', '위즈덤하우스'], '가격': ['12,600', '14,220', '12,960', '35,100', '25,020', '17,100', '17,820', '15,120', '14,400', '17,820', '7,110', '25,200', '16,650', '17,820', '16,200', '16,020', '21,420', '5,400', '13,500', '17,820', '17,100', '10,800', '19,980', '14,220']}, {'순위': [25, 26, 27, 28, 29, 30, 31, 32, 33, 34, 35, 36, 37, 38, 39, 40, 41, 42, 43, 44, 45, 46, 47, 48], '책제목': ['설민석의 한국사 대모험 33', '흔한남매 19', '2025 심우철 실전 동형 모의고사 Season 4', '최애의 아이 16 특별판', '넥서스', '돈의 흐름은 되풀이된다', 'ETS 토익 정기시험 기출문제집 1000 Vol. 4 RC', '스토너', '2025 큰별쌤 최태성의 별별한국사 한국사능력검정시험 심화(1,2,3급) 하', 'ETS 토익 정기시험 기출문제집 1000 Vol. 4 LC', '최애의 아이 16', '엔비디아 젠슨 황, 생각하는 기계', '진짜의 마인드', '혹시, 돈 얘기해도 될까요?', '너에게 들려주는 단단한 말', '질문의 격', '하루 한 장 나의 어휘력을 위한 필사 노트', '길고양이와 늑대 5 더블특전판', '과자 사면 과학 드립니다', '부의 전략 수업', '살아갈 날들을 위한 괴테의 시', '2025 문동균 한국사 지방직 대비 실전 봉투모의고사', '똑게육아', '파과 (리커버)'], '저자및출판사': ['설민석', '남이담', '정현희', '강석화', '단꿈아이', '흔한남매', '백난도', '유난희', '흔한컴퍼니', '미래엔아이세움', '심우철', '심슨북스', '아카사카 아카', '요코야리 멘고', '대원', '유발 하라리', '김명주', '김영사', '홍춘욱', '포르체', 'ETS', 'YBM(와이비엠)', '존 윌리엄스', '김승욱', '알에이치코리아(RHK)', '최태성', '이투스북 ', 'ETS', 'YBM(와이비엠)', '아카사카 아카', '요코야리 멘고', '대원', '스티븐 위트', '백우진', '알에이치코리아(RHK)', '김찬희(김진짜)', '터닝페이지', '주언규', '필름', '김종원', '퍼스트펭귄', '유선경', '앤의서재', '유선경', '위즈덤하우스', '미츠바치 미유키', '학산문화사', '정윤선', '시미씨', '풀빛', '폴 포돌스키', '고영훈', '필름', '김종원', '퍼스트펭귄', '문동균', '에스티유니타스', '로리(김준희)', '북로스트', '구병모', '위즈덤하우스'], '가격': ['12,600', '14,220', '12,960', '35,100', '25,020', '17,100', '17,820', '15,120', '14,400', '17,820', '7,110', '25,200', '16,650', '17,820', '16,200', '16,020', '21,420', '5,400', '13,500', '17,820', '17,100', '10,800', '19,980', '14,220']}, {'순위': [25, 26, 27, 28, 29, 30, 31, 32, 33, 34, 35, 36, 37, 38, 39, 40, 41, 42, 43, 44, 45, 46, 47, 48], '책제목': ['설민석의 한국사 대모험 33', '흔한남매 19', '2025 심우철 실전 동형 모의고사 Season 4', '최애의 아이 16 특별판', '넥서스', '돈의 흐름은 되풀이된다', 'ETS 토익 정기시험 기출문제집 1000 Vol. 4 RC', '스토너', '2025 큰별쌤 최태성의 별별한국사 한국사능력검정시험 심화(1,2,3급) 하', 'ETS 토익 정기시험 기출문제집 1000 Vol. 4 LC', '최애의 아이 16', '엔비디아 젠슨 황, 생각하는 기계', '진짜의 마인드', '혹시, 돈 얘기해도 될까요?', '너에게 들려주는 단단한 말', '질문의 격', '하루 한 장 나의 어휘력을 위한 필사 노트', '길고양이와 늑대 5 더블특전판', '과자 사면 과학 드립니다', '부의 전략 수업', '살아갈 날들을 위한 괴테의 시', '2025 문동균 한국사 지방직 대비 실전 봉투모의고사', '똑게육아', '파과 (리커버)'], '저자및출판사': ['설민석', '남이담', '정현희', '강석화', '단꿈아이', '흔한남매', '백난도', '유난희', '흔한컴퍼니', '미래엔아이세움', '심우철', '심슨북스', '아카사카 아카', '요코야리 멘고', '대원', '유발 하라리', '김명주', '김영사', '홍춘욱', '포르체', 'ETS', 'YBM(와이비엠)', '존 윌리엄스', '김승욱', '알에이치코리아(RHK)', '최태성', '이투스북 ', 'ETS', 'YBM(와이비엠)', '아카사카 아카', '요코야리 멘고', '대원', '스티븐 위트', '백우진', '알에이치코리아(RHK)', '김찬희(김진짜)', '터닝페이지', '주언규', '필름', '김종원', '퍼스트펭귄', '유선경', '앤의서재', '유선경', '위즈덤하우스', '미츠바치 미유키', '학산문화사', '정윤선', '시미씨', '풀빛', '폴 포돌스키', '고영훈', '필름', '김종원', '퍼스트펭귄', '문동균', '에스티유니타스', '로리(김준희)', '북로스트', '구병모', '위즈덤하우스'], '가격': ['12,600', '14,220', '12,960', '35,100', '25,020', '17,100', '17,820', '15,120', '14,400', '17,820', '7,110', '25,200', '16,650', '17,820', '16,200', '16,020', '21,420', '5,400', '13,500', '17,820', '17,100', '10,800', '19,980', '14,220']}, {'순위': [25, 26, 27, 28, 29, 30, 31, 32, 33, 34, 35, 36, 37, 38, 39, 40, 41, 42, 43, 44, 45, 46, 47, 48], '책제목': ['설민석의 한국사 대모험 33', '흔한남매 19', '2025 심우철 실전 동형 모의고사 Season 4', '최애의 아이 16 특별판', '넥서스', '돈의 흐름은 되풀이된다', 'ETS 토익 정기시험 기출문제집 1000 Vol. 4 RC', '스토너', '2025 큰별쌤 최태성의 별별한국사 한국사능력검정시험 심화(1,2,3급) 하', 'ETS 토익 정기시험 기출문제집 1000 Vol. 4 LC', '최애의 아이 16', '엔비디아 젠슨 황, 생각하는 기계', '진짜의 마인드', '혹시, 돈 얘기해도 될까요?', '너에게 들려주는 단단한 말', '질문의 격', '하루 한 장 나의 어휘력을 위한 필사 노트', '길고양이와 늑대 5 더블특전판', '과자 사면 과학 드립니다', '부의 전략 수업', '살아갈 날들을 위한 괴테의 시', '2025 문동균 한국사 지방직 대비 실전 봉투모의고사', '똑게육아', '파과 (리커버)'], '저자및출판사': ['설민석', '남이담', '정현희', '강석화', '단꿈아이', '흔한남매', '백난도', '유난희', '흔한컴퍼니', '미래엔아이세움', '심우철', '심슨북스', '아카사카 아카', '요코야리 멘고', '대원', '유발 하라리', '김명주', '김영사', '홍춘욱', '포르체', 'ETS', 'YBM(와이비엠)', '존 윌리엄스', '김승욱', '알에이치코리아(RHK)', '최태성', '이투스북 ', 'ETS', 'YBM(와이비엠)', '아카사카 아카', '요코야리 멘고', '대원', '스티븐 위트', '백우진', '알에이치코리아(RHK)', '김찬희(김진짜)', '터닝페이지', '주언규', '필름', '김종원', '퍼스트펭귄', '유선경', '앤의서재', '유선경', '위즈덤하우스', '미츠바치 미유키', '학산문화사', '정윤선', '시미씨', '풀빛', '폴 포돌스키', '고영훈', '필름', '김종원', '퍼스트펭귄', '문동균', '에스티유니타스', '로리(김준희)', '북로스트', '구병모', '위즈덤하우스'], '가격': ['12,600', '14,220', '12,960', '35,100', '25,020', '17,100', '17,820', '15,120', '14,400', '17,820', '7,110', '25,200', '16,650', '17,820', '16,200', '16,020', '21,420', '5,400', '13,500', '17,820', '17,100', '10,800', '19,980', '14,220']}, {'순위': [25, 26, 27, 28, 29, 30, 31, 32, 33, 34, 35, 36, 37, 38, 39, 40, 41, 42, 43, 44, 45, 46, 47, 48], '책제목': ['설민석의 한국사 대모험 33', '흔한남매 19', '2025 심우철 실전 동형 모의고사 Season 4', '최애의 아이 16 특별판', '넥서스', '돈의 흐름은 되풀이된다', 'ETS 토익 정기시험 기출문제집 1000 Vol. 4 RC', '스토너', '2025 큰별쌤 최태성의 별별한국사 한국사능력검정시험 심화(1,2,3급) 하', 'ETS 토익 정기시험 기출문제집 1000 Vol. 4 LC', '최애의 아이 16', '엔비디아 젠슨 황, 생각하는 기계', '진짜의 마인드', '혹시, 돈 얘기해도 될까요?', '너에게 들려주는 단단한 말', '질문의 격', '하루 한 장 나의 어휘력을 위한 필사 노트', '길고양이와 늑대 5 더블특전판', '과자 사면 과학 드립니다', '부의 전략 수업', '살아갈 날들을 위한 괴테의 시', '2025 문동균 한국사 지방직 대비 실전 봉투모의고사', '똑게육아', '파과 (리커버)'], '저자및출판사': ['설민석', '남이담', '정현희', '강석화', '단꿈아이', '흔한남매', '백난도', '유난희', '흔한컴퍼니', '미래엔아이세움', '심우철', '심슨북스', '아카사카 아카', '요코야리 멘고', '대원', '유발 하라리', '김명주', '김영사', '홍춘욱', '포르체', 'ETS', 'YBM(와이비엠)', '존 윌리엄스', '김승욱', '알에이치코리아(RHK)', '최태성', '이투스북 ', 'ETS', 'YBM(와이비엠)', '아카사카 아카', '요코야리 멘고', '대원', '스티븐 위트', '백우진', '알에이치코리아(RHK)', '김찬희(김진짜)', '터닝페이지', '주언규', '필름', '김종원', '퍼스트펭귄', '유선경', '앤의서재', '유선경', '위즈덤하우스', '미츠바치 미유키', '학산문화사', '정윤선', '시미씨', '풀빛', '폴 포돌스키', '고영훈', '필름', '김종원', '퍼스트펭귄', '문동균', '에스티유니타스', '로리(김준희)', '북로스트', '구병모', '위즈덤하우스'], '가격': ['12,600', '14,220', '12,960', '35,100', '25,020', '17,100', '17,820', '15,120', '14,400', '17,820', '7,110', '25,200', '16,650', '17,820', '16,200', '16,020', '21,420', '5,400', '13,500', '17,820', '17,100', '10,800', '19,980', '14,220']}, {'순위': [25, 26, 27, 28, 29, 30, 31, 32, 33, 34, 35, 36, 37, 38, 39, 40, 41, 42, 43, 44, 45, 46, 47, 48], '책제목': ['설민석의 한국사 대모험 33', '흔한남매 19', '2025 심우철 실전 동형 모의고사 Season 4', '최애의 아이 16 특별판', '넥서스', '돈의 흐름은 되풀이된다', 'ETS 토익 정기시험 기출문제집 1000 Vol. 4 RC', '스토너', '2025 큰별쌤 최태성의 별별한국사 한국사능력검정시험 심화(1,2,3급) 하', 'ETS 토익 정기시험 기출문제집 1000 Vol. 4 LC', '최애의 아이 16', '엔비디아 젠슨 황, 생각하는 기계', '진짜의 마인드', '혹시, 돈 얘기해도 될까요?', '너에게 들려주는 단단한 말', '질문의 격', '하루 한 장 나의 어휘력을 위한 필사 노트', '길고양이와 늑대 5 더블특전판', '과자 사면 과학 드립니다', '부의 전략 수업', '살아갈 날들을 위한 괴테의 시', '2025 문동균 한국사 지방직 대비 실전 봉투모의고사', '똑게육아', '파과 (리커버)'], '저자및출판사': ['설민석', '남이담', '정현희', '강석화', '단꿈아이', '흔한남매', '백난도', '유난희', '흔한컴퍼니', '미래엔아이세움', '심우철', '심슨북스', '아카사카 아카', '요코야리 멘고', '대원', '유발 하라리', '김명주', '김영사', '홍춘욱', '포르체', 'ETS', 'YBM(와이비엠)', '존 윌리엄스', '김승욱', '알에이치코리아(RHK)', '최태성', '이투스북 ', 'ETS', 'YBM(와이비엠)', '아카사카 아카', '요코야리 멘고', '대원', '스티븐 위트', '백우진', '알에이치코리아(RHK)', '김찬희(김진짜)', '터닝페이지', '주언규', '필름', '김종원', '퍼스트펭귄', '유선경', '앤의서재', '유선경', '위즈덤하우스', '미츠바치 미유키', '학산문화사', '정윤선', '시미씨', '풀빛', '폴 포돌스키', '고영훈', '필름', '김종원', '퍼스트펭귄', '문동균', '에스티유니타스', '로리(김준희)', '북로스트', '구병모', '위즈덤하우스'], '가격': ['12,600', '14,220', '12,960', '35,100', '25,020', '17,100', '17,820', '15,120', '14,400', '17,820', '7,110', '25,200', '16,650', '17,820', '16,200', '16,020', '21,420', '5,400', '13,500', '17,820', '17,100', '10,800', '19,980', '14,220']}, {'순위': [25, 26, 27, 28, 29, 30, 31, 32, 33, 34, 35, 36, 37, 38, 39, 40, 41, 42, 43, 44, 45, 46, 47, 48], '책제목': ['설민석의 한국사 대모험 33', '흔한남매 19', '2025 심우철 실전 동형 모의고사 Season 4', '최애의 아이 16 특별판', '넥서스', '돈의 흐름은 되풀이된다', 'ETS 토익 정기시험 기출문제집 1000 Vol. 4 RC', '스토너', '2025 큰별쌤 최태성의 별별한국사 한국사능력검정시험 심화(1,2,3급) 하', 'ETS 토익 정기시험 기출문제집 1000 Vol. 4 LC', '최애의 아이 16', '엔비디아 젠슨 황, 생각하는 기계', '진짜의 마인드', '혹시, 돈 얘기해도 될까요?', '너에게 들려주는 단단한 말', '질문의 격', '하루 한 장 나의 어휘력을 위한 필사 노트', '길고양이와 늑대 5 더블특전판', '과자 사면 과학 드립니다', '부의 전략 수업', '살아갈 날들을 위한 괴테의 시', '2025 문동균 한국사 지방직 대비 실전 봉투모의고사', '똑게육아', '파과 (리커버)'], '저자및출판사': ['설민석', '남이담', '정현희', '강석화', '단꿈아이', '흔한남매', '백난도', '유난희', '흔한컴퍼니', '미래엔아이세움', '심우철', '심슨북스', '아카사카 아카', '요코야리 멘고', '대원', '유발 하라리', '김명주', '김영사', '홍춘욱', '포르체', 'ETS', 'YBM(와이비엠)', '존 윌리엄스', '김승욱', '알에이치코리아(RHK)', '최태성', '이투스북 ', 'ETS', 'YBM(와이비엠)', '아카사카 아카', '요코야리 멘고', '대원', '스티븐 위트', '백우진', '알에이치코리아(RHK)', '김찬희(김진짜)', '터닝페이지', '주언규', '필름', '김종원', '퍼스트펭귄', '유선경', '앤의서재', '유선경', '위즈덤하우스', '미츠바치 미유키', '학산문화사', '정윤선', '시미씨', '풀빛', '폴 포돌스키', '고영훈', '필름', '김종원', '퍼스트펭귄', '문동균', '에스티유니타스', '로리(김준희)', '북로스트', '구병모', '위즈덤하우스'], '가격': ['12,600', '14,220', '12,960', '35,100', '25,020', '17,100', '17,820', '15,120', '14,400', '17,820', '7,110', '25,200', '16,650', '17,820', '16,200', '16,020', '21,420', '5,400', '13,500', '17,820', '17,100', '10,800', '19,980', '14,220']}, {'순위': [25, 26, 27, 28, 29, 30, 31, 32, 33, 34, 35, 36, 37, 38, 39, 40, 41, 42, 43, 44, 45, 46, 47, 48], '책제목': ['설민석의 한국사 대모험 33', '흔한남매 19', '2025 심우철 실전 동형 모의고사 Season 4', '최애의 아이 16 특별판', '넥서스', '돈의 흐름은 되풀이된다', 'ETS 토익 정기시험 기출문제집 1000 Vol. 4 RC', '스토너', '2025 큰별쌤 최태성의 별별한국사 한국사능력검정시험 심화(1,2,3급) 하', 'ETS 토익 정기시험 기출문제집 1000 Vol. 4 LC', '최애의 아이 16', '엔비디아 젠슨 황, 생각하는 기계', '진짜의 마인드', '혹시, 돈 얘기해도 될까요?', '너에게 들려주는 단단한 말', '질문의 격', '하루 한 장 나의 어휘력을 위한 필사 노트', '길고양이와 늑대 5 더블특전판', '과자 사면 과학 드립니다', '부의 전략 수업', '살아갈 날들을 위한 괴테의 시', '2025 문동균 한국사 지방직 대비 실전 봉투모의고사', '똑게육아', '파과 (리커버)'], '저자및출판사': ['설민석', '남이담', '정현희', '강석화', '단꿈아이', '흔한남매', '백난도', '유난희', '흔한컴퍼니', '미래엔아이세움', '심우철', '심슨북스', '아카사카 아카', '요코야리 멘고', '대원', '유발 하라리', '김명주', '김영사', '홍춘욱', '포르체', 'ETS', 'YBM(와이비엠)', '존 윌리엄스', '김승욱', '알에이치코리아(RHK)', '최태성', '이투스북 ', 'ETS', 'YBM(와이비엠)', '아카사카 아카', '요코야리 멘고', '대원', '스티븐 위트', '백우진', '알에이치코리아(RHK)', '김찬희(김진짜)', '터닝페이지', '주언규', '필름', '김종원', '퍼스트펭귄', '유선경', '앤의서재', '유선경', '위즈덤하우스', '미츠바치 미유키', '학산문화사', '정윤선', '시미씨', '풀빛', '폴 포돌스키', '고영훈', '필름', '김종원', '퍼스트펭귄', '문동균', '에스티유니타스', '로리(김준희)', '북로스트', '구병모', '위즈덤하우스'], '가격': ['12,600', '14,220', '12,960', '35,100', '25,020', '17,100', '17,820', '15,120', '14,400', '17,820', '7,110', '25,200', '16,650', '17,820', '16,200', '16,020', '21,420', '5,400', '13,500', '17,820', '17,100', '10,800', '19,980', '14,220']}, {'순위': [25, 26, 27, 28, 29, 30, 31, 32, 33, 34, 35, 36, 37, 38, 39, 40, 41, 42, 43, 44, 45, 46, 47, 48], '책제목': ['설민석의 한국사 대모험 33', '흔한남매 19', '2025 심우철 실전 동형 모의고사 Season 4', '최애의 아이 16 특별판', '넥서스', '돈의 흐름은 되풀이된다', 'ETS 토익 정기시험 기출문제집 1000 Vol. 4 RC', '스토너', '2025 큰별쌤 최태성의 별별한국사 한국사능력검정시험 심화(1,2,3급) 하', 'ETS 토익 정기시험 기출문제집 1000 Vol. 4 LC', '최애의 아이 16', '엔비디아 젠슨 황, 생각하는 기계', '진짜의 마인드', '혹시, 돈 얘기해도 될까요?', '너에게 들려주는 단단한 말', '질문의 격', '하루 한 장 나의 어휘력을 위한 필사 노트', '길고양이와 늑대 5 더블특전판', '과자 사면 과학 드립니다', '부의 전략 수업', '살아갈 날들을 위한 괴테의 시', '2025 문동균 한국사 지방직 대비 실전 봉투모의고사', '똑게육아', '파과 (리커버)'], '저자및출판사': ['설민석', '남이담', '정현희', '강석화', '단꿈아이', '흔한남매', '백난도', '유난희', '흔한컴퍼니', '미래엔아이세움', '심우철', '심슨북스', '아카사카 아카', '요코야리 멘고', '대원', '유발 하라리', '김명주', '김영사', '홍춘욱', '포르체', 'ETS', 'YBM(와이비엠)', '존 윌리엄스', '김승욱', '알에이치코리아(RHK)', '최태성', '이투스북 ', 'ETS', 'YBM(와이비엠)', '아카사카 아카', '요코야리 멘고', '대원', '스티븐 위트', '백우진', '알에이치코리아(RHK)', '김찬희(김진짜)', '터닝페이지', '주언규', '필름', '김종원', '퍼스트펭귄', '유선경', '앤의서재', '유선경', '위즈덤하우스', '미츠바치 미유키', '학산문화사', '정윤선', '시미씨', '풀빛', '폴 포돌스키', '고영훈', '필름', '김종원', '퍼스트펭귄', '문동균', '에스티유니타스', '로리(김준희)', '북로스트', '구병모', '위즈덤하우스'], '가격': ['12,600', '14,220', '12,960', '35,100', '25,020', '17,100', '17,820', '15,120', '14,400', '17,820', '7,110', '25,200', '16,650', '17,820', '16,200', '16,020', '21,420', '5,400', '13,500', '17,820', '17,100', '10,800', '19,980', '14,220']}, {'순위': [25, 26, 27, 28, 29, 30, 31, 32, 33, 34, 35, 36, 37, 38, 39, 40, 41, 42, 43, 44, 45, 46, 47, 48], '책제목': ['설민석의 한국사 대모험 33', '흔한남매 19', '2025 심우철 실전 동형 모의고사 Season 4', '최애의 아이 16 특별판', '넥서스', '돈의 흐름은 되풀이된다', 'ETS 토익 정기시험 기출문제집 1000 Vol. 4 RC', '스토너', '2025 큰별쌤 최태성의 별별한국사 한국사능력검정시험 심화(1,2,3급) 하', 'ETS 토익 정기시험 기출문제집 1000 Vol. 4 LC', '최애의 아이 16', '엔비디아 젠슨 황, 생각하는 기계', '진짜의 마인드', '혹시, 돈 얘기해도 될까요?', '너에게 들려주는 단단한 말', '질문의 격', '하루 한 장 나의 어휘력을 위한 필사 노트', '길고양이와 늑대 5 더블특전판', '과자 사면 과학 드립니다', '부의 전략 수업', '살아갈 날들을 위한 괴테의 시', '2025 문동균 한국사 지방직 대비 실전 봉투모의고사', '똑게육아', '파과 (리커버)'], '저자및출판사': ['설민석', '남이담', '정현희', '강석화', '단꿈아이', '흔한남매', '백난도', '유난희', '흔한컴퍼니', '미래엔아이세움', '심우철', '심슨북스', '아카사카 아카', '요코야리 멘고', '대원', '유발 하라리', '김명주', '김영사', '홍춘욱', '포르체', 'ETS', 'YBM(와이비엠)', '존 윌리엄스', '김승욱', '알에이치코리아(RHK)', '최태성', '이투스북 ', 'ETS', 'YBM(와이비엠)', '아카사카 아카', '요코야리 멘고', '대원', '스티븐 위트', '백우진', '알에이치코리아(RHK)', '김찬희(김진짜)', '터닝페이지', '주언규', '필름', '김종원', '퍼스트펭귄', '유선경', '앤의서재', '유선경', '위즈덤하우스', '미츠바치 미유키', '학산문화사', '정윤선', '시미씨', '풀빛', '폴 포돌스키', '고영훈', '필름', '김종원', '퍼스트펭귄', '문동균', '에스티유니타스', '로리(김준희)', '북로스트', '구병모', '위즈덤하우스'], '가격': ['12,600', '14,220', '12,960', '35,100', '25,020', '17,100', '17,820', '15,120', '14,400', '17,820', '7,110', '25,200', '16,650', '17,820', '16,200', '16,020', '21,420', '5,400', '13,500', '17,820', '17,100', '10,800', '19,980', '14,220']}, {'순위': [25, 26, 27, 28, 29, 30, 31, 32, 33, 34, 35, 36, 37, 38, 39, 40, 41, 42, 43, 44, 45, 46, 47, 48], '책제목': ['설민석의 한국사 대모험 33', '흔한남매 19', '2025 심우철 실전 동형 모의고사 Season 4', '최애의 아이 16 특별판', '넥서스', '돈의 흐름은 되풀이된다', 'ETS 토익 정기시험 기출문제집 1000 Vol. 4 RC', '스토너', '2025 큰별쌤 최태성의 별별한국사 한국사능력검정시험 심화(1,2,3급) 하', 'ETS 토익 정기시험 기출문제집 1000 Vol. 4 LC', '최애의 아이 16', '엔비디아 젠슨 황, 생각하는 기계', '진짜의 마인드', '혹시, 돈 얘기해도 될까요?', '너에게 들려주는 단단한 말', '질문의 격', '하루 한 장 나의 어휘력을 위한 필사 노트', '길고양이와 늑대 5 더블특전판', '과자 사면 과학 드립니다', '부의 전략 수업', '살아갈 날들을 위한 괴테의 시', '2025 문동균 한국사 지방직 대비 실전 봉투모의고사', '똑게육아', '파과 (리커버)'], '저자및출판사': ['설민석', '남이담', '정현희', '강석화', '단꿈아이', '흔한남매', '백난도', '유난희', '흔한컴퍼니', '미래엔아이세움', '심우철', '심슨북스', '아카사카 아카', '요코야리 멘고', '대원', '유발 하라리', '김명주', '김영사', '홍춘욱', '포르체', 'ETS', 'YBM(와이비엠)', '존 윌리엄스', '김승욱', '알에이치코리아(RHK)', '최태성', '이투스북 ', 'ETS', 'YBM(와이비엠)', '아카사카 아카', '요코야리 멘고', '대원', '스티븐 위트', '백우진', '알에이치코리아(RHK)', '김찬희(김진짜)', '터닝페이지', '주언규', '필름', '김종원', '퍼스트펭귄', '유선경', '앤의서재', '유선경', '위즈덤하우스', '미츠바치 미유키', '학산문화사', '정윤선', '시미씨', '풀빛', '폴 포돌스키', '고영훈', '필름', '김종원', '퍼스트펭귄', '문동균', '에스티유니타스', '로리(김준희)', '북로스트', '구병모', '위즈덤하우스'], '가격': ['12,600', '14,220', '12,960', '35,100', '25,020', '17,100', '17,820', '15,120', '14,400', '17,820', '7,110', '25,200', '16,650', '17,820', '16,200', '16,020', '21,420', '5,400', '13,500', '17,820', '17,100', '10,800', '19,980', '14,220']}, {'순위': [25, 26, 27, 28, 29, 30, 31, 32, 33, 34, 35, 36, 37, 38, 39, 40, 41, 42, 43, 44, 45, 46, 47, 48], '책제목': ['설민석의 한국사 대모험 33', '흔한남매 19', '2025 심우철 실전 동형 모의고사 Season 4', '최애의 아이 16 특별판', '넥서스', '돈의 흐름은 되풀이된다', 'ETS 토익 정기시험 기출문제집 1000 Vol. 4 RC', '스토너', '2025 큰별쌤 최태성의 별별한국사 한국사능력검정시험 심화(1,2,3급) 하', 'ETS 토익 정기시험 기출문제집 1000 Vol. 4 LC', '최애의 아이 16', '엔비디아 젠슨 황, 생각하는 기계', '진짜의 마인드', '혹시, 돈 얘기해도 될까요?', '너에게 들려주는 단단한 말', '질문의 격', '하루 한 장 나의 어휘력을 위한 필사 노트', '길고양이와 늑대 5 더블특전판', '과자 사면 과학 드립니다', '부의 전략 수업', '살아갈 날들을 위한 괴테의 시', '2025 문동균 한국사 지방직 대비 실전 봉투모의고사', '똑게육아', '파과 (리커버)'], '저자및출판사': ['설민석', '남이담', '정현희', '강석화', '단꿈아이', '흔한남매', '백난도', '유난희', '흔한컴퍼니', '미래엔아이세움', '심우철', '심슨북스', '아카사카 아카', '요코야리 멘고', '대원', '유발 하라리', '김명주', '김영사', '홍춘욱', '포르체', 'ETS', 'YBM(와이비엠)', '존 윌리엄스', '김승욱', '알에이치코리아(RHK)', '최태성', '이투스북 ', 'ETS', 'YBM(와이비엠)', '아카사카 아카', '요코야리 멘고', '대원', '스티븐 위트', '백우진', '알에이치코리아(RHK)', '김찬희(김진짜)', '터닝페이지', '주언규', '필름', '김종원', '퍼스트펭귄', '유선경', '앤의서재', '유선경', '위즈덤하우스', '미츠바치 미유키', '학산문화사', '정윤선', '시미씨', '풀빛', '폴 포돌스키', '고영훈', '필름', '김종원', '퍼스트펭귄', '문동균', '에스티유니타스', '로리(김준희)', '북로스트', '구병모', '위즈덤하우스'], '가격': ['12,600', '14,220', '12,960', '35,100', '25,020', '17,100', '17,820', '15,120', '14,400', '17,820', '7,110', '25,200', '16,650', '17,820', '16,200', '16,020', '21,420', '5,400', '13,500', '17,820', '17,100', '10,800', '19,980', '14,220']}, {'순위': [25, 26, 27, 28, 29, 30, 31, 32, 33, 34, 35, 36, 37, 38, 39, 40, 41, 42, 43, 44, 45, 46, 47, 48], '책제목': ['설민석의 한국사 대모험 33', '흔한남매 19', '2025 심우철 실전 동형 모의고사 Season 4', '최애의 아이 16 특별판', '넥서스', '돈의 흐름은 되풀이된다', 'ETS 토익 정기시험 기출문제집 1000 Vol. 4 RC', '스토너', '2025 큰별쌤 최태성의 별별한국사 한국사능력검정시험 심화(1,2,3급) 하', 'ETS 토익 정기시험 기출문제집 1000 Vol. 4 LC', '최애의 아이 16', '엔비디아 젠슨 황, 생각하는 기계', '진짜의 마인드', '혹시, 돈 얘기해도 될까요?', '너에게 들려주는 단단한 말', '질문의 격', '하루 한 장 나의 어휘력을 위한 필사 노트', '길고양이와 늑대 5 더블특전판', '과자 사면 과학 드립니다', '부의 전략 수업', '살아갈 날들을 위한 괴테의 시', '2025 문동균 한국사 지방직 대비 실전 봉투모의고사', '똑게육아', '파과 (리커버)'], '저자및출판사': ['설민석', '남이담', '정현희', '강석화', '단꿈아이', '흔한남매', '백난도', '유난희', '흔한컴퍼니', '미래엔아이세움', '심우철', '심슨북스', '아카사카 아카', '요코야리 멘고', '대원', '유발 하라리', '김명주', '김영사', '홍춘욱', '포르체', 'ETS', 'YBM(와이비엠)', '존 윌리엄스', '김승욱', '알에이치코리아(RHK)', '최태성', '이투스북 ', 'ETS', 'YBM(와이비엠)', '아카사카 아카', '요코야리 멘고', '대원', '스티븐 위트', '백우진', '알에이치코리아(RHK)', '김찬희(김진짜)', '터닝페이지', '주언규', '필름', '김종원', '퍼스트펭귄', '유선경', '앤의서재', '유선경', '위즈덤하우스', '미츠바치 미유키', '학산문화사', '정윤선', '시미씨', '풀빛', '폴 포돌스키', '고영훈', '필름', '김종원', '퍼스트펭귄', '문동균', '에스티유니타스', '로리(김준희)', '북로스트', '구병모', '위즈덤하우스'], '가격': ['12,600', '14,220', '12,960', '35,100', '25,020', '17,100', '17,820', '15,120', '14,400', '17,820', '7,110', '25,200', '16,650', '17,820', '16,200', '16,020', '21,420', '5,400', '13,500', '17,820', '17,100', '10,800', '19,980', '14,220']}, {'순위': [25, 26, 27, 28, 29, 30, 31, 32, 33, 34, 35, 36, 37, 38, 39, 40, 41, 42, 43, 44, 45, 46, 47, 48], '책제목': ['설민석의 한국사 대모험 33', '흔한남매 19', '2025 심우철 실전 동형 모의고사 Season 4', '최애의 아이 16 특별판', '넥서스', '돈의 흐름은 되풀이된다', 'ETS 토익 정기시험 기출문제집 1000 Vol. 4 RC', '스토너', '2025 큰별쌤 최태성의 별별한국사 한국사능력검정시험 심화(1,2,3급) 하', 'ETS 토익 정기시험 기출문제집 1000 Vol. 4 LC', '최애의 아이 16', '엔비디아 젠슨 황, 생각하는 기계', '진짜의 마인드', '혹시, 돈 얘기해도 될까요?', '너에게 들려주는 단단한 말', '질문의 격', '하루 한 장 나의 어휘력을 위한 필사 노트', '길고양이와 늑대 5 더블특전판', '과자 사면 과학 드립니다', '부의 전략 수업', '살아갈 날들을 위한 괴테의 시', '2025 문동균 한국사 지방직 대비 실전 봉투모의고사', '똑게육아', '파과 (리커버)'], '저자및출판사': ['설민석', '남이담', '정현희', '강석화', '단꿈아이', '흔한남매', '백난도', '유난희', '흔한컴퍼니', '미래엔아이세움', '심우철', '심슨북스', '아카사카 아카', '요코야리 멘고', '대원', '유발 하라리', '김명주', '김영사', '홍춘욱', '포르체', 'ETS', 'YBM(와이비엠)', '존 윌리엄스', '김승욱', '알에이치코리아(RHK)', '최태성', '이투스북 ', 'ETS', 'YBM(와이비엠)', '아카사카 아카', '요코야리 멘고', '대원', '스티븐 위트', '백우진', '알에이치코리아(RHK)', '김찬희(김진짜)', '터닝페이지', '주언규', '필름', '김종원', '퍼스트펭귄', '유선경', '앤의서재', '유선경', '위즈덤하우스', '미츠바치 미유키', '학산문화사', '정윤선', '시미씨', '풀빛', '폴 포돌스키', '고영훈', '필름', '김종원', '퍼스트펭귄', '문동균', '에스티유니타스', '로리(김준희)', '북로스트', '구병모', '위즈덤하우스'], '가격': ['12,600', '14,220', '12,960', '35,100', '25,020', '17,100', '17,820', '15,120', '14,400', '17,820', '7,110', '25,200', '16,650', '17,820', '16,200', '16,020', '21,420', '5,400', '13,500', '17,820', '17,100', '10,800', '19,980', '14,220']}, {'순위': [25, 26, 27, 28, 29, 30, 31, 32, 33, 34, 35, 36, 37, 38, 39, 40, 41, 42, 43, 44, 45, 46, 47, 48], '책제목': ['설민석의 한국사 대모험 33', '흔한남매 19', '2025 심우철 실전 동형 모의고사 Season 4', '최애의 아이 16 특별판', '넥서스', '돈의 흐름은 되풀이된다', 'ETS 토익 정기시험 기출문제집 1000 Vol. 4 RC', '스토너', '2025 큰별쌤 최태성의 별별한국사 한국사능력검정시험 심화(1,2,3급) 하', 'ETS 토익 정기시험 기출문제집 1000 Vol. 4 LC', '최애의 아이 16', '엔비디아 젠슨 황, 생각하는 기계', '진짜의 마인드', '혹시, 돈 얘기해도 될까요?', '너에게 들려주는 단단한 말', '질문의 격', '하루 한 장 나의 어휘력을 위한 필사 노트', '길고양이와 늑대 5 더블특전판', '과자 사면 과학 드립니다', '부의 전략 수업', '살아갈 날들을 위한 괴테의 시', '2025 문동균 한국사 지방직 대비 실전 봉투모의고사', '똑게육아', '파과 (리커버)'], '저자및출판사': ['설민석', '남이담', '정현희', '강석화', '단꿈아이', '흔한남매', '백난도', '유난희', '흔한컴퍼니', '미래엔아이세움', '심우철', '심슨북스', '아카사카 아카', '요코야리 멘고', '대원', '유발 하라리', '김명주', '김영사', '홍춘욱', '포르체', 'ETS', 'YBM(와이비엠)', '존 윌리엄스', '김승욱', '알에이치코리아(RHK)', '최태성', '이투스북 ', 'ETS', 'YBM(와이비엠)', '아카사카 아카', '요코야리 멘고', '대원', '스티븐 위트', '백우진', '알에이치코리아(RHK)', '김찬희(김진짜)', '터닝페이지', '주언규', '필름', '김종원', '퍼스트펭귄', '유선경', '앤의서재', '유선경', '위즈덤하우스', '미츠바치 미유키', '학산문화사', '정윤선', '시미씨', '풀빛', '폴 포돌스키', '고영훈', '필름', '김종원', '퍼스트펭귄', '문동균', '에스티유니타스', '로리(김준희)', '북로스트', '구병모', '위즈덤하우스'], '가격': ['12,600', '14,220', '12,960', '35,100', '25,020', '17,100', '17,820', '15,120', '14,400', '17,820', '7,110', '25,200', '16,650', '17,820', '16,200', '16,020', '21,420', '5,400', '13,500', '17,820', '17,100', '10,800', '19,980', '14,220']}, {'순위': [25, 26, 27, 28, 29, 30, 31, 32, 33, 34, 35, 36, 37, 38, 39, 40, 41, 42, 43, 44, 45, 46, 47, 48], '책제목': ['설민석의 한국사 대모험 33', '흔한남매 19', '2025 심우철 실전 동형 모의고사 Season 4', '최애의 아이 16 특별판', '넥서스', '돈의 흐름은 되풀이된다', 'ETS 토익 정기시험 기출문제집 1000 Vol. 4 RC', '스토너', '2025 큰별쌤 최태성의 별별한국사 한국사능력검정시험 심화(1,2,3급) 하', 'ETS 토익 정기시험 기출문제집 1000 Vol. 4 LC', '최애의 아이 16', '엔비디아 젠슨 황, 생각하는 기계', '진짜의 마인드', '혹시, 돈 얘기해도 될까요?', '너에게 들려주는 단단한 말', '질문의 격', '하루 한 장 나의 어휘력을 위한 필사 노트', '길고양이와 늑대 5 더블특전판', '과자 사면 과학 드립니다', '부의 전략 수업', '살아갈 날들을 위한 괴테의 시', '2025 문동균 한국사 지방직 대비 실전 봉투모의고사', '똑게육아', '파과 (리커버)'], '저자및출판사': ['설민석', '남이담', '정현희', '강석화', '단꿈아이', '흔한남매', '백난도', '유난희', '흔한컴퍼니', '미래엔아이세움', '심우철', '심슨북스', '아카사카 아카', '요코야리 멘고', '대원', '유발 하라리', '김명주', '김영사', '홍춘욱', '포르체', 'ETS', 'YBM(와이비엠)', '존 윌리엄스', '김승욱', '알에이치코리아(RHK)', '최태성', '이투스북 ', 'ETS', 'YBM(와이비엠)', '아카사카 아카', '요코야리 멘고', '대원', '스티븐 위트', '백우진', '알에이치코리아(RHK)', '김찬희(김진짜)', '터닝페이지', '주언규', '필름', '김종원', '퍼스트펭귄', '유선경', '앤의서재', '유선경', '위즈덤하우스', '미츠바치 미유키', '학산문화사', '정윤선', '시미씨', '풀빛', '폴 포돌스키', '고영훈', '필름', '김종원', '퍼스트펭귄', '문동균', '에스티유니타스', '로리(김준희)', '북로스트', '구병모', '위즈덤하우스'], '가격': ['12,600', '14,220', '12,960', '35,100', '25,020', '17,100', '17,820', '15,120', '14,400', '17,820', '7,110', '25,200', '16,650', '17,820', '16,200', '16,020', '21,420', '5,400', '13,500', '17,820', '17,100', '10,800', '19,980', '14,220']}, {'순위': [25, 26, 27, 28, 29, 30, 31, 32, 33, 34, 35, 36, 37, 38, 39, 40, 41, 42, 43, 44, 45, 46, 47, 48], '책제목': ['설민석의 한국사 대모험 33', '흔한남매 19', '2025 심우철 실전 동형 모의고사 Season 4', '최애의 아이 16 특별판', '넥서스', '돈의 흐름은 되풀이된다', 'ETS 토익 정기시험 기출문제집 1000 Vol. 4 RC', '스토너', '2025 큰별쌤 최태성의 별별한국사 한국사능력검정시험 심화(1,2,3급) 하', 'ETS 토익 정기시험 기출문제집 1000 Vol. 4 LC', '최애의 아이 16', '엔비디아 젠슨 황, 생각하는 기계', '진짜의 마인드', '혹시, 돈 얘기해도 될까요?', '너에게 들려주는 단단한 말', '질문의 격', '하루 한 장 나의 어휘력을 위한 필사 노트', '길고양이와 늑대 5 더블특전판', '과자 사면 과학 드립니다', '부의 전략 수업', '살아갈 날들을 위한 괴테의 시', '2025 문동균 한국사 지방직 대비 실전 봉투모의고사', '똑게육아', '파과 (리커버)'], '저자및출판사': ['설민석', '남이담', '정현희', '강석화', '단꿈아이', '흔한남매', '백난도', '유난희', '흔한컴퍼니', '미래엔아이세움', '심우철', '심슨북스', '아카사카 아카', '요코야리 멘고', '대원', '유발 하라리', '김명주', '김영사', '홍춘욱', '포르체', 'ETS', 'YBM(와이비엠)', '존 윌리엄스', '김승욱', '알에이치코리아(RHK)', '최태성', '이투스북 ', 'ETS', 'YBM(와이비엠)', '아카사카 아카', '요코야리 멘고', '대원', '스티븐 위트', '백우진', '알에이치코리아(RHK)', '김찬희(김진짜)', '터닝페이지', '주언규', '필름', '김종원', '퍼스트펭귄', '유선경', '앤의서재', '유선경', '위즈덤하우스', '미츠바치 미유키', '학산문화사', '정윤선', '시미씨', '풀빛', '폴 포돌스키', '고영훈', '필름', '김종원', '퍼스트펭귄', '문동균', '에스티유니타스', '로리(김준희)', '북로스트', '구병모', '위즈덤하우스'], '가격': ['12,600', '14,220', '12,960', '35,100', '25,020', '17,100', '17,820', '15,120', '14,400', '17,820', '7,110', '25,200', '16,650', '17,820', '16,200', '16,020', '21,420', '5,400', '13,500', '17,820', '17,100', '10,800', '19,980', '14,220']}, {'순위': [25, 26, 27, 28, 29, 30, 31, 32, 33, 34, 35, 36, 37, 38, 39, 40, 41, 42, 43, 44, 45, 46, 47, 48], '책제목': ['설민석의 한국사 대모험 33', '흔한남매 19', '2025 심우철 실전 동형 모의고사 Season 4', '최애의 아이 16 특별판', '넥서스', '돈의 흐름은 되풀이된다', 'ETS 토익 정기시험 기출문제집 1000 Vol. 4 RC', '스토너', '2025 큰별쌤 최태성의 별별한국사 한국사능력검정시험 심화(1,2,3급) 하', 'ETS 토익 정기시험 기출문제집 1000 Vol. 4 LC', '최애의 아이 16', '엔비디아 젠슨 황, 생각하는 기계', '진짜의 마인드', '혹시, 돈 얘기해도 될까요?', '너에게 들려주는 단단한 말', '질문의 격', '하루 한 장 나의 어휘력을 위한 필사 노트', '길고양이와 늑대 5 더블특전판', '과자 사면 과학 드립니다', '부의 전략 수업', '살아갈 날들을 위한 괴테의 시', '2025 문동균 한국사 지방직 대비 실전 봉투모의고사', '똑게육아', '파과 (리커버)'], '저자및출판사': ['설민석', '남이담', '정현희', '강석화', '단꿈아이', '흔한남매', '백난도', '유난희', '흔한컴퍼니', '미래엔아이세움', '심우철', '심슨북스', '아카사카 아카', '요코야리 멘고', '대원', '유발 하라리', '김명주', '김영사', '홍춘욱', '포르체', 'ETS', 'YBM(와이비엠)', '존 윌리엄스', '김승욱', '알에이치코리아(RHK)', '최태성', '이투스북 ', 'ETS', 'YBM(와이비엠)', '아카사카 아카', '요코야리 멘고', '대원', '스티븐 위트', '백우진', '알에이치코리아(RHK)', '김찬희(김진짜)', '터닝페이지', '주언규', '필름', '김종원', '퍼스트펭귄', '유선경', '앤의서재', '유선경', '위즈덤하우스', '미츠바치 미유키', '학산문화사', '정윤선', '시미씨', '풀빛', '폴 포돌스키', '고영훈', '필름', '김종원', '퍼스트펭귄', '문동균', '에스티유니타스', '로리(김준희)', '북로스트', '구병모', '위즈덤하우스'], '가격': ['12,600', '14,220', '12,960', '35,100', '25,020', '17,100', '17,820', '15,120', '14,400', '17,820', '7,110', '25,200', '16,650', '17,820', '16,200', '16,020', '21,420', '5,400', '13,500', '17,820', '17,100', '10,800', '19,980', '14,220']}, {'순위': [25, 26, 27, 28, 29, 30, 31, 32, 33, 34, 35, 36, 37, 38, 39, 40, 41, 42, 43, 44, 45, 46, 47, 48], '책제목': ['설민석의 한국사 대모험 33', '흔한남매 19', '2025 심우철 실전 동형 모의고사 Season 4', '최애의 아이 16 특별판', '넥서스', '돈의 흐름은 되풀이된다', 'ETS 토익 정기시험 기출문제집 1000 Vol. 4 RC', '스토너', '2025 큰별쌤 최태성의 별별한국사 한국사능력검정시험 심화(1,2,3급) 하', 'ETS 토익 정기시험 기출문제집 1000 Vol. 4 LC', '최애의 아이 16', '엔비디아 젠슨 황, 생각하는 기계', '진짜의 마인드', '혹시, 돈 얘기해도 될까요?', '너에게 들려주는 단단한 말', '질문의 격', '하루 한 장 나의 어휘력을 위한 필사 노트', '길고양이와 늑대 5 더블특전판', '과자 사면 과학 드립니다', '부의 전략 수업', '살아갈 날들을 위한 괴테의 시', '2025 문동균 한국사 지방직 대비 실전 봉투모의고사', '똑게육아', '파과 (리커버)'], '저자및출판사': ['설민석', '남이담', '정현희', '강석화', '단꿈아이', '흔한남매', '백난도', '유난희', '흔한컴퍼니', '미래엔아이세움', '심우철', '심슨북스', '아카사카 아카', '요코야리 멘고', '대원', '유발 하라리', '김명주', '김영사', '홍춘욱', '포르체', 'ETS', 'YBM(와이비엠)', '존 윌리엄스', '김승욱', '알에이치코리아(RHK)', '최태성', '이투스북 ', 'ETS', 'YBM(와이비엠)', '아카사카 아카', '요코야리 멘고', '대원', '스티븐 위트', '백우진', '알에이치코리아(RHK)', '김찬희(김진짜)', '터닝페이지', '주언규', '필름', '김종원', '퍼스트펭귄', '유선경', '앤의서재', '유선경', '위즈덤하우스', '미츠바치 미유키', '학산문화사', '정윤선', '시미씨', '풀빛', '폴 포돌스키', '고영훈', '필름', '김종원', '퍼스트펭귄', '문동균', '에스티유니타스', '로리(김준희)', '북로스트', '구병모', '위즈덤하우스'], '가격': ['12,600', '14,220', '12,960', '35,100', '25,020', '17,100', '17,820', '15,120', '14,400', '17,820', '7,110', '25,200', '16,650', '17,820', '16,200', '16,020', '21,420', '5,400', '13,500', '17,820', '17,100', '10,800', '19,980', '14,220']}, {'순위': [25, 26, 27, 28, 29, 30, 31, 32, 33, 34, 35, 36, 37, 38, 39, 40, 41, 42, 43, 44, 45, 46, 47, 48], '책제목': ['설민석의 한국사 대모험 33', '흔한남매 19', '2025 심우철 실전 동형 모의고사 Season 4', '최애의 아이 16 특별판', '넥서스', '돈의 흐름은 되풀이된다', 'ETS 토익 정기시험 기출문제집 1000 Vol. 4 RC', '스토너', '2025 큰별쌤 최태성의 별별한국사 한국사능력검정시험 심화(1,2,3급) 하', 'ETS 토익 정기시험 기출문제집 1000 Vol. 4 LC', '최애의 아이 16', '엔비디아 젠슨 황, 생각하는 기계', '진짜의 마인드', '혹시, 돈 얘기해도 될까요?', '너에게 들려주는 단단한 말', '질문의 격', '하루 한 장 나의 어휘력을 위한 필사 노트', '길고양이와 늑대 5 더블특전판', '과자 사면 과학 드립니다', '부의 전략 수업', '살아갈 날들을 위한 괴테의 시', '2025 문동균 한국사 지방직 대비 실전 봉투모의고사', '똑게육아', '파과 (리커버)'], '저자및출판사': ['설민석', '남이담', '정현희', '강석화', '단꿈아이', '흔한남매', '백난도', '유난희', '흔한컴퍼니', '미래엔아이세움', '심우철', '심슨북스', '아카사카 아카', '요코야리 멘고', '대원', '유발 하라리', '김명주', '김영사', '홍춘욱', '포르체', 'ETS', 'YBM(와이비엠)', '존 윌리엄스', '김승욱', '알에이치코리아(RHK)', '최태성', '이투스북 ', 'ETS', 'YBM(와이비엠)', '아카사카 아카', '요코야리 멘고', '대원', '스티븐 위트', '백우진', '알에이치코리아(RHK)', '김찬희(김진짜)', '터닝페이지', '주언규', '필름', '김종원', '퍼스트펭귄', '유선경', '앤의서재', '유선경', '위즈덤하우스', '미츠바치 미유키', '학산문화사', '정윤선', '시미씨', '풀빛', '폴 포돌스키', '고영훈', '필름', '김종원', '퍼스트펭귄', '문동균', '에스티유니타스', '로리(김준희)', '북로스트', '구병모', '위즈덤하우스'], '가격': ['12,600', '14,220', '12,960', '35,100', '25,020', '17,100', '17,820', '15,120', '14,400', '17,820', '7,110', '25,200', '16,650', '17,820', '16,200', '16,020', '21,420', '5,400', '13,500', '17,820', '17,100', '10,800', '19,980', '14,220']}, {'순위': [25, 26, 27, 28, 29, 30, 31, 32, 33, 34, 35, 36, 37, 38, 39, 40, 41, 42, 43, 44, 45, 46, 47, 48], '책제목': ['설민석의 한국사 대모험 33', '흔한남매 19', '2025 심우철 실전 동형 모의고사 Season 4', '최애의 아이 16 특별판', '넥서스', '돈의 흐름은 되풀이된다', 'ETS 토익 정기시험 기출문제집 1000 Vol. 4 RC', '스토너', '2025 큰별쌤 최태성의 별별한국사 한국사능력검정시험 심화(1,2,3급) 하', 'ETS 토익 정기시험 기출문제집 1000 Vol. 4 LC', '최애의 아이 16', '엔비디아 젠슨 황, 생각하는 기계', '진짜의 마인드', '혹시, 돈 얘기해도 될까요?', '너에게 들려주는 단단한 말', '질문의 격', '하루 한 장 나의 어휘력을 위한 필사 노트', '길고양이와 늑대 5 더블특전판', '과자 사면 과학 드립니다', '부의 전략 수업', '살아갈 날들을 위한 괴테의 시', '2025 문동균 한국사 지방직 대비 실전 봉투모의고사', '똑게육아', '파과 (리커버)'], '저자및출판사': ['설민석', '남이담', '정현희', '강석화', '단꿈아이', '흔한남매', '백난도', '유난희', '흔한컴퍼니', '미래엔아이세움', '심우철', '심슨북스', '아카사카 아카', '요코야리 멘고', '대원', '유발 하라리', '김명주', '김영사', '홍춘욱', '포르체', 'ETS', 'YBM(와이비엠)', '존 윌리엄스', '김승욱', '알에이치코리아(RHK)', '최태성', '이투스북 ', 'ETS', 'YBM(와이비엠)', '아카사카 아카', '요코야리 멘고', '대원', '스티븐 위트', '백우진', '알에이치코리아(RHK)', '김찬희(김진짜)', '터닝페이지', '주언규', '필름', '김종원', '퍼스트펭귄', '유선경', '앤의서재', '유선경', '위즈덤하우스', '미츠바치 미유키', '학산문화사', '정윤선', '시미씨', '풀빛', '폴 포돌스키', '고영훈', '필름', '김종원', '퍼스트펭귄', '문동균', '에스티유니타스', '로리(김준희)', '북로스트', '구병모', '위즈덤하우스'], '가격': ['12,600', '14,220', '12,960', '35,100', '25,020', '17,100', '17,820', '15,120', '14,400', '17,820', '7,110', '25,200', '16,650', '17,820', '16,200', '16,020', '21,420', '5,400', '13,500', '17,820', '17,100', '10,800', '19,980', '14,220']}, {'순위': [25, 26, 27, 28, 29, 30, 31, 32, 33, 34, 35, 36, 37, 38, 39, 40, 41, 42, 43, 44, 45, 46, 47, 48], '책제목': ['설민석의 한국사 대모험 33', '흔한남매 19', '2025 심우철 실전 동형 모의고사 Season 4', '최애의 아이 16 특별판', '넥서스', '돈의 흐름은 되풀이된다', 'ETS 토익 정기시험 기출문제집 1000 Vol. 4 RC', '스토너', '2025 큰별쌤 최태성의 별별한국사 한국사능력검정시험 심화(1,2,3급) 하', 'ETS 토익 정기시험 기출문제집 1000 Vol. 4 LC', '최애의 아이 16', '엔비디아 젠슨 황, 생각하는 기계', '진짜의 마인드', '혹시, 돈 얘기해도 될까요?', '너에게 들려주는 단단한 말', '질문의 격', '하루 한 장 나의 어휘력을 위한 필사 노트', '길고양이와 늑대 5 더블특전판', '과자 사면 과학 드립니다', '부의 전략 수업', '살아갈 날들을 위한 괴테의 시', '2025 문동균 한국사 지방직 대비 실전 봉투모의고사', '똑게육아', '파과 (리커버)'], '저자및출판사': ['설민석', '남이담', '정현희', '강석화', '단꿈아이', '흔한남매', '백난도', '유난희', '흔한컴퍼니', '미래엔아이세움', '심우철', '심슨북스', '아카사카 아카', '요코야리 멘고', '대원', '유발 하라리', '김명주', '김영사', '홍춘욱', '포르체', 'ETS', 'YBM(와이비엠)', '존 윌리엄스', '김승욱', '알에이치코리아(RHK)', '최태성', '이투스북 ', 'ETS', 'YBM(와이비엠)', '아카사카 아카', '요코야리 멘고', '대원', '스티븐 위트', '백우진', '알에이치코리아(RHK)', '김찬희(김진짜)', '터닝페이지', '주언규', '필름', '김종원', '퍼스트펭귄', '유선경', '앤의서재', '유선경', '위즈덤하우스', '미츠바치 미유키', '학산문화사', '정윤선', '시미씨', '풀빛', '폴 포돌스키', '고영훈', '필름', '김종원', '퍼스트펭귄', '문동균', '에스티유니타스', '로리(김준희)', '북로스트', '구병모', '위즈덤하우스'], '가격': ['12,600', '14,220', '12,960', '35,100', '25,020', '17,100', '17,820', '15,120', '14,400', '17,820', '7,110', '25,200', '16,650', '17,820', '16,200', '16,020', '21,420', '5,400', '13,500', '17,820', '17,100', '10,800', '19,980', '14,220']}, {'순위': [25, 26, 27, 28, 29, 30, 31, 32, 33, 34, 35, 36, 37, 38, 39, 40, 41, 42, 43, 44, 45, 46, 47, 48], '책제목': ['설민석의 한국사 대모험 33', '흔한남매 19', '2025 심우철 실전 동형 모의고사 Season 4', '최애의 아이 16 특별판', '넥서스', '돈의 흐름은 되풀이된다', 'ETS 토익 정기시험 기출문제집 1000 Vol. 4 RC', '스토너', '2025 큰별쌤 최태성의 별별한국사 한국사능력검정시험 심화(1,2,3급) 하', 'ETS 토익 정기시험 기출문제집 1000 Vol. 4 LC', '최애의 아이 16', '엔비디아 젠슨 황, 생각하는 기계', '진짜의 마인드', '혹시, 돈 얘기해도 될까요?', '너에게 들려주는 단단한 말', '질문의 격', '하루 한 장 나의 어휘력을 위한 필사 노트', '길고양이와 늑대 5 더블특전판', '과자 사면 과학 드립니다', '부의 전략 수업', '살아갈 날들을 위한 괴테의 시', '2025 문동균 한국사 지방직 대비 실전 봉투모의고사', '똑게육아', '파과 (리커버)'], '저자및출판사': ['설민석', '남이담', '정현희', '강석화', '단꿈아이', '흔한남매', '백난도', '유난희', '흔한컴퍼니', '미래엔아이세움', '심우철', '심슨북스', '아카사카 아카', '요코야리 멘고', '대원', '유발 하라리', '김명주', '김영사', '홍춘욱', '포르체', 'ETS', 'YBM(와이비엠)', '존 윌리엄스', '김승욱', '알에이치코리아(RHK)', '최태성', '이투스북 ', 'ETS', 'YBM(와이비엠)', '아카사카 아카', '요코야리 멘고', '대원', '스티븐 위트', '백우진', '알에이치코리아(RHK)', '김찬희(김진짜)', '터닝페이지', '주언규', '필름', '김종원', '퍼스트펭귄', '유선경', '앤의서재', '유선경', '위즈덤하우스', '미츠바치 미유키', '학산문화사', '정윤선', '시미씨', '풀빛', '폴 포돌스키', '고영훈', '필름', '김종원', '퍼스트펭귄', '문동균', '에스티유니타스', '로리(김준희)', '북로스트', '구병모', '위즈덤하우스'], '가격': ['12,600', '14,220', '12,960', '35,100', '25,020', '17,100', '17,820', '15,120', '14,400', '17,820', '7,110', '25,200', '16,650', '17,820', '16,200', '16,020', '21,420', '5,400', '13,500', '17,820', '17,100', '10,800', '19,980', '14,220']}, {'순위': [25, 26, 27, 28, 29, 30, 31, 32, 33, 34, 35, 36, 37, 38, 39, 40, 41, 42, 43, 44, 45, 46, 47, 48], '책제목': ['설민석의 한국사 대모험 33', '흔한남매 19', '2025 심우철 실전 동형 모의고사 Season 4', '최애의 아이 16 특별판', '넥서스', '돈의 흐름은 되풀이된다', 'ETS 토익 정기시험 기출문제집 1000 Vol. 4 RC', '스토너', '2025 큰별쌤 최태성의 별별한국사 한국사능력검정시험 심화(1,2,3급) 하', 'ETS 토익 정기시험 기출문제집 1000 Vol. 4 LC', '최애의 아이 16', '엔비디아 젠슨 황, 생각하는 기계', '진짜의 마인드', '혹시, 돈 얘기해도 될까요?', '너에게 들려주는 단단한 말', '질문의 격', '하루 한 장 나의 어휘력을 위한 필사 노트', '길고양이와 늑대 5 더블특전판', '과자 사면 과학 드립니다', '부의 전략 수업', '살아갈 날들을 위한 괴테의 시', '2025 문동균 한국사 지방직 대비 실전 봉투모의고사', '똑게육아', '파과 (리커버)'], '저자및출판사': ['설민석', '남이담', '정현희', '강석화', '단꿈아이', '흔한남매', '백난도', '유난희', '흔한컴퍼니', '미래엔아이세움', '심우철', '심슨북스', '아카사카 아카', '요코야리 멘고', '대원', '유발 하라리', '김명주', '김영사', '홍춘욱', '포르체', 'ETS', 'YBM(와이비엠)', '존 윌리엄스', '김승욱', '알에이치코리아(RHK)', '최태성', '이투스북 ', 'ETS', 'YBM(와이비엠)', '아카사카 아카', '요코야리 멘고', '대원', '스티븐 위트', '백우진', '알에이치코리아(RHK)', '김찬희(김진짜)', '터닝페이지', '주언규', '필름', '김종원', '퍼스트펭귄', '유선경', '앤의서재', '유선경', '위즈덤하우스', '미츠바치 미유키', '학산문화사', '정윤선', '시미씨', '풀빛', '폴 포돌스키', '고영훈', '필름', '김종원', '퍼스트펭귄', '문동균', '에스티유니타스', '로리(김준희)', '북로스트', '구병모', '위즈덤하우스'], '가격': ['12,600', '14,220', '12,960', '35,100', '25,020', '17,100', '17,820', '15,120', '14,400', '17,820', '7,110', '25,200', '16,650', '17,820', '16,200', '16,020', '21,420', '5,400', '13,500', '17,820', '17,100', '10,800', '19,980', '14,220']}, {'순위': [25, 26, 27, 28, 29, 30, 31, 32, 33, 34, 35, 36, 37, 38, 39, 40, 41, 42, 43, 44, 45, 46, 47, 48], '책제목': ['설민석의 한국사 대모험 33', '흔한남매 19', '2025 심우철 실전 동형 모의고사 Season 4', '최애의 아이 16 특별판', '넥서스', '돈의 흐름은 되풀이된다', 'ETS 토익 정기시험 기출문제집 1000 Vol. 4 RC', '스토너', '2025 큰별쌤 최태성의 별별한국사 한국사능력검정시험 심화(1,2,3급) 하', 'ETS 토익 정기시험 기출문제집 1000 Vol. 4 LC', '최애의 아이 16', '엔비디아 젠슨 황, 생각하는 기계', '진짜의 마인드', '혹시, 돈 얘기해도 될까요?', '너에게 들려주는 단단한 말', '질문의 격', '하루 한 장 나의 어휘력을 위한 필사 노트', '길고양이와 늑대 5 더블특전판', '과자 사면 과학 드립니다', '부의 전략 수업', '살아갈 날들을 위한 괴테의 시', '2025 문동균 한국사 지방직 대비 실전 봉투모의고사', '똑게육아', '파과 (리커버)'], '저자및출판사': ['설민석', '남이담', '정현희', '강석화', '단꿈아이', '흔한남매', '백난도', '유난희', '흔한컴퍼니', '미래엔아이세움', '심우철', '심슨북스', '아카사카 아카', '요코야리 멘고', '대원', '유발 하라리', '김명주', '김영사', '홍춘욱', '포르체', 'ETS', 'YBM(와이비엠)', '존 윌리엄스', '김승욱', '알에이치코리아(RHK)', '최태성', '이투스북 ', 'ETS', 'YBM(와이비엠)', '아카사카 아카', '요코야리 멘고', '대원', '스티븐 위트', '백우진', '알에이치코리아(RHK)', '김찬희(김진짜)', '터닝페이지', '주언규', '필름', '김종원', '퍼스트펭귄', '유선경', '앤의서재', '유선경', '위즈덤하우스', '미츠바치 미유키', '학산문화사', '정윤선', '시미씨', '풀빛', '폴 포돌스키', '고영훈', '필름', '김종원', '퍼스트펭귄', '문동균', '에스티유니타스', '로리(김준희)', '북로스트', '구병모', '위즈덤하우스'], '가격': ['12,600', '14,220', '12,960', '35,100', '25,020', '17,100', '17,820', '15,120', '14,400', '17,820', '7,110', '25,200', '16,650', '17,820', '16,200', '16,020', '21,420', '5,400', '13,500', '17,820', '17,100', '10,800', '19,980', '14,220']}, {'순위': [25, 26, 27, 28, 29, 30, 31, 32, 33, 34, 35, 36, 37, 38, 39, 40, 41, 42, 43, 44, 45, 46, 47, 48], '책제목': ['설민석의 한국사 대모험 33', '흔한남매 19', '2025 심우철 실전 동형 모의고사 Season 4', '최애의 아이 16 특별판', '넥서스', '돈의 흐름은 되풀이된다', 'ETS 토익 정기시험 기출문제집 1000 Vol. 4 RC', '스토너', '2025 큰별쌤 최태성의 별별한국사 한국사능력검정시험 심화(1,2,3급) 하', 'ETS 토익 정기시험 기출문제집 1000 Vol. 4 LC', '최애의 아이 16', '엔비디아 젠슨 황, 생각하는 기계', '진짜의 마인드', '혹시, 돈 얘기해도 될까요?', '너에게 들려주는 단단한 말', '질문의 격', '하루 한 장 나의 어휘력을 위한 필사 노트', '길고양이와 늑대 5 더블특전판', '과자 사면 과학 드립니다', '부의 전략 수업', '살아갈 날들을 위한 괴테의 시', '2025 문동균 한국사 지방직 대비 실전 봉투모의고사', '똑게육아', '파과 (리커버)'], '저자및출판사': ['설민석', '남이담', '정현희', '강석화', '단꿈아이', '흔한남매', '백난도', '유난희', '흔한컴퍼니', '미래엔아이세움', '심우철', '심슨북스', '아카사카 아카', '요코야리 멘고', '대원', '유발 하라리', '김명주', '김영사', '홍춘욱', '포르체', 'ETS', 'YBM(와이비엠)', '존 윌리엄스', '김승욱', '알에이치코리아(RHK)', '최태성', '이투스북 ', 'ETS', 'YBM(와이비엠)', '아카사카 아카', '요코야리 멘고', '대원', '스티븐 위트', '백우진', '알에이치코리아(RHK)', '김찬희(김진짜)', '터닝페이지', '주언규', '필름', '김종원', '퍼스트펭귄', '유선경', '앤의서재', '유선경', '위즈덤하우스', '미츠바치 미유키', '학산문화사', '정윤선', '시미씨', '풀빛', '폴 포돌스키', '고영훈', '필름', '김종원', '퍼스트펭귄', '문동균', '에스티유니타스', '로리(김준희)', '북로스트', '구병모', '위즈덤하우스'], '가격': ['12,600', '14,220', '12,960', '35,100', '25,020', '17,100', '17,820', '15,120', '14,400', '17,820', '7,110', '25,200', '16,650', '17,820', '16,200', '16,020', '21,420', '5,400', '13,500', '17,820', '17,100', '10,800', '19,980', '14,220']}, {'순위': [25, 26, 27, 28, 29, 30, 31, 32, 33, 34, 35, 36, 37, 38, 39, 40, 41, 42, 43, 44, 45, 46, 47, 48], '책제목': ['설민석의 한국사 대모험 33', '흔한남매 19', '2025 심우철 실전 동형 모의고사 Season 4', '최애의 아이 16 특별판', '넥서스', '돈의 흐름은 되풀이된다', 'ETS 토익 정기시험 기출문제집 1000 Vol. 4 RC', '스토너', '2025 큰별쌤 최태성의 별별한국사 한국사능력검정시험 심화(1,2,3급) 하', 'ETS 토익 정기시험 기출문제집 1000 Vol. 4 LC', '최애의 아이 16', '엔비디아 젠슨 황, 생각하는 기계', '진짜의 마인드', '혹시, 돈 얘기해도 될까요?', '너에게 들려주는 단단한 말', '질문의 격', '하루 한 장 나의 어휘력을 위한 필사 노트', '길고양이와 늑대 5 더블특전판', '과자 사면 과학 드립니다', '부의 전략 수업', '살아갈 날들을 위한 괴테의 시', '2025 문동균 한국사 지방직 대비 실전 봉투모의고사', '똑게육아', '파과 (리커버)'], '저자및출판사': ['설민석', '남이담', '정현희', '강석화', '단꿈아이', '흔한남매', '백난도', '유난희', '흔한컴퍼니', '미래엔아이세움', '심우철', '심슨북스', '아카사카 아카', '요코야리 멘고', '대원', '유발 하라리', '김명주', '김영사', '홍춘욱', '포르체', 'ETS', 'YBM(와이비엠)', '존 윌리엄스', '김승욱', '알에이치코리아(RHK)', '최태성', '이투스북 ', 'ETS', 'YBM(와이비엠)', '아카사카 아카', '요코야리 멘고', '대원', '스티븐 위트', '백우진', '알에이치코리아(RHK)', '김찬희(김진짜)', '터닝페이지', '주언규', '필름', '김종원', '퍼스트펭귄', '유선경', '앤의서재', '유선경', '위즈덤하우스', '미츠바치 미유키', '학산문화사', '정윤선', '시미씨', '풀빛', '폴 포돌스키', '고영훈', '필름', '김종원', '퍼스트펭귄', '문동균', '에스티유니타스', '로리(김준희)', '북로스트', '구병모', '위즈덤하우스'], '가격': ['12,600', '14,220', '12,960', '35,100', '25,020', '17,100', '17,820', '15,120', '14,400', '17,820', '7,110', '25,200', '16,650', '17,820', '16,200', '16,020', '21,420', '5,400', '13,500', '17,820', '17,100', '10,800', '19,980', '14,220']}, {'순위': [25, 26, 27, 28, 29, 30, 31, 32, 33, 34, 35, 36, 37, 38, 39, 40, 41, 42, 43, 44, 45, 46, 47, 48], '책제목': ['설민석의 한국사 대모험 33', '흔한남매 19', '2025 심우철 실전 동형 모의고사 Season 4', '최애의 아이 16 특별판', '넥서스', '돈의 흐름은 되풀이된다', 'ETS 토익 정기시험 기출문제집 1000 Vol. 4 RC', '스토너', '2025 큰별쌤 최태성의 별별한국사 한국사능력검정시험 심화(1,2,3급) 하', 'ETS 토익 정기시험 기출문제집 1000 Vol. 4 LC', '최애의 아이 16', '엔비디아 젠슨 황, 생각하는 기계', '진짜의 마인드', '혹시, 돈 얘기해도 될까요?', '너에게 들려주는 단단한 말', '질문의 격', '하루 한 장 나의 어휘력을 위한 필사 노트', '길고양이와 늑대 5 더블특전판', '과자 사면 과학 드립니다', '부의 전략 수업', '살아갈 날들을 위한 괴테의 시', '2025 문동균 한국사 지방직 대비 실전 봉투모의고사', '똑게육아', '파과 (리커버)'], '저자및출판사': ['설민석', '남이담', '정현희', '강석화', '단꿈아이', '흔한남매', '백난도', '유난희', '흔한컴퍼니', '미래엔아이세움', '심우철', '심슨북스', '아카사카 아카', '요코야리 멘고', '대원', '유발 하라리', '김명주', '김영사', '홍춘욱', '포르체', 'ETS', 'YBM(와이비엠)', '존 윌리엄스', '김승욱', '알에이치코리아(RHK)', '최태성', '이투스북 ', 'ETS', 'YBM(와이비엠)', '아카사카 아카', '요코야리 멘고', '대원', '스티븐 위트', '백우진', '알에이치코리아(RHK)', '김찬희(김진짜)', '터닝페이지', '주언규', '필름', '김종원', '퍼스트펭귄', '유선경', '앤의서재', '유선경', '위즈덤하우스', '미츠바치 미유키', '학산문화사', '정윤선', '시미씨', '풀빛', '폴 포돌스키', '고영훈', '필름', '김종원', '퍼스트펭귄', '문동균', '에스티유니타스', '로리(김준희)', '북로스트', '구병모', '위즈덤하우스'], '가격': ['12,600', '14,220', '12,960', '35,100', '25,020', '17,100', '17,820', '15,120', '14,400', '17,820', '7,110', '25,200', '16,650', '17,820', '16,200', '16,020', '21,420', '5,400', '13,500', '17,820', '17,100', '10,800', '19,980', '14,220']}, {'순위': [25, 26, 27, 28, 29, 30, 31, 32, 33, 34, 35, 36, 37, 38, 39, 40, 41, 42, 43, 44, 45, 46, 47, 48], '책제목': ['설민석의 한국사 대모험 33', '흔한남매 19', '2025 심우철 실전 동형 모의고사 Season 4', '최애의 아이 16 특별판', '넥서스', '돈의 흐름은 되풀이된다', 'ETS 토익 정기시험 기출문제집 1000 Vol. 4 RC', '스토너', '2025 큰별쌤 최태성의 별별한국사 한국사능력검정시험 심화(1,2,3급) 하', 'ETS 토익 정기시험 기출문제집 1000 Vol. 4 LC', '최애의 아이 16', '엔비디아 젠슨 황, 생각하는 기계', '진짜의 마인드', '혹시, 돈 얘기해도 될까요?', '너에게 들려주는 단단한 말', '질문의 격', '하루 한 장 나의 어휘력을 위한 필사 노트', '길고양이와 늑대 5 더블특전판', '과자 사면 과학 드립니다', '부의 전략 수업', '살아갈 날들을 위한 괴테의 시', '2025 문동균 한국사 지방직 대비 실전 봉투모의고사', '똑게육아', '파과 (리커버)'], '저자및출판사': ['설민석', '남이담', '정현희', '강석화', '단꿈아이', '흔한남매', '백난도', '유난희', '흔한컴퍼니', '미래엔아이세움', '심우철', '심슨북스', '아카사카 아카', '요코야리 멘고', '대원', '유발 하라리', '김명주', '김영사', '홍춘욱', '포르체', 'ETS', 'YBM(와이비엠)', '존 윌리엄스', '김승욱', '알에이치코리아(RHK)', '최태성', '이투스북 ', 'ETS', 'YBM(와이비엠)', '아카사카 아카', '요코야리 멘고', '대원', '스티븐 위트', '백우진', '알에이치코리아(RHK)', '김찬희(김진짜)', '터닝페이지', '주언규', '필름', '김종원', '퍼스트펭귄', '유선경', '앤의서재', '유선경', '위즈덤하우스', '미츠바치 미유키', '학산문화사', '정윤선', '시미씨', '풀빛', '폴 포돌스키', '고영훈', '필름', '김종원', '퍼스트펭귄', '문동균', '에스티유니타스', '로리(김준희)', '북로스트', '구병모', '위즈덤하우스'], '가격': ['12,600', '14,220', '12,960', '35,100', '25,020', '17,100', '17,820', '15,120', '14,400', '17,820', '7,110', '25,200', '16,650', '17,820', '16,200', '16,020', '21,420', '5,400', '13,500', '17,820', '17,100', '10,800', '19,980', '14,220']}, {'순위': [25, 26, 27, 28, 29, 30, 31, 32, 33, 34, 35, 36, 37, 38, 39, 40, 41, 42, 43, 44, 45, 46, 47, 48], '책제목': ['설민석의 한국사 대모험 33', '흔한남매 19', '2025 심우철 실전 동형 모의고사 Season 4', '최애의 아이 16 특별판', '넥서스', '돈의 흐름은 되풀이된다', 'ETS 토익 정기시험 기출문제집 1000 Vol. 4 RC', '스토너', '2025 큰별쌤 최태성의 별별한국사 한국사능력검정시험 심화(1,2,3급) 하', 'ETS 토익 정기시험 기출문제집 1000 Vol. 4 LC', '최애의 아이 16', '엔비디아 젠슨 황, 생각하는 기계', '진짜의 마인드', '혹시, 돈 얘기해도 될까요?', '너에게 들려주는 단단한 말', '질문의 격', '하루 한 장 나의 어휘력을 위한 필사 노트', '길고양이와 늑대 5 더블특전판', '과자 사면 과학 드립니다', '부의 전략 수업', '살아갈 날들을 위한 괴테의 시', '2025 문동균 한국사 지방직 대비 실전 봉투모의고사', '똑게육아', '파과 (리커버)'], '저자및출판사': ['설민석', '남이담', '정현희', '강석화', '단꿈아이', '흔한남매', '백난도', '유난희', '흔한컴퍼니', '미래엔아이세움', '심우철', '심슨북스', '아카사카 아카', '요코야리 멘고', '대원', '유발 하라리', '김명주', '김영사', '홍춘욱', '포르체', 'ETS', 'YBM(와이비엠)', '존 윌리엄스', '김승욱', '알에이치코리아(RHK)', '최태성', '이투스북 ', 'ETS', 'YBM(와이비엠)', '아카사카 아카', '요코야리 멘고', '대원', '스티븐 위트', '백우진', '알에이치코리아(RHK)', '김찬희(김진짜)', '터닝페이지', '주언규', '필름', '김종원', '퍼스트펭귄', '유선경', '앤의서재', '유선경', '위즈덤하우스', '미츠바치 미유키', '학산문화사', '정윤선', '시미씨', '풀빛', '폴 포돌스키', '고영훈', '필름', '김종원', '퍼스트펭귄', '문동균', '에스티유니타스', '로리(김준희)', '북로스트', '구병모', '위즈덤하우스'], '가격': ['12,600', '14,220', '12,960', '35,100', '25,020', '17,100', '17,820', '15,120', '14,400', '17,820', '7,110', '25,200', '16,650', '17,820', '16,200', '16,020', '21,420', '5,400', '13,500', '17,820', '17,100', '10,800', '19,980', '14,220']}, {'순위': [25, 26, 27, 28, 29, 30, 31, 32, 33, 34, 35, 36, 37, 38, 39, 40, 41, 42, 43, 44, 45, 46, 47, 48], '책제목': ['설민석의 한국사 대모험 33', '흔한남매 19', '2025 심우철 실전 동형 모의고사 Season 4', '최애의 아이 16 특별판', '넥서스', '돈의 흐름은 되풀이된다', 'ETS 토익 정기시험 기출문제집 1000 Vol. 4 RC', '스토너', '2025 큰별쌤 최태성의 별별한국사 한국사능력검정시험 심화(1,2,3급) 하', 'ETS 토익 정기시험 기출문제집 1000 Vol. 4 LC', '최애의 아이 16', '엔비디아 젠슨 황, 생각하는 기계', '진짜의 마인드', '혹시, 돈 얘기해도 될까요?', '너에게 들려주는 단단한 말', '질문의 격', '하루 한 장 나의 어휘력을 위한 필사 노트', '길고양이와 늑대 5 더블특전판', '과자 사면 과학 드립니다', '부의 전략 수업', '살아갈 날들을 위한 괴테의 시', '2025 문동균 한국사 지방직 대비 실전 봉투모의고사', '똑게육아', '파과 (리커버)'], '저자및출판사': ['설민석', '남이담', '정현희', '강석화', '단꿈아이', '흔한남매', '백난도', '유난희', '흔한컴퍼니', '미래엔아이세움', '심우철', '심슨북스', '아카사카 아카', '요코야리 멘고', '대원', '유발 하라리', '김명주', '김영사', '홍춘욱', '포르체', 'ETS', 'YBM(와이비엠)', '존 윌리엄스', '김승욱', '알에이치코리아(RHK)', '최태성', '이투스북 ', 'ETS', 'YBM(와이비엠)', '아카사카 아카', '요코야리 멘고', '대원', '스티븐 위트', '백우진', '알에이치코리아(RHK)', '김찬희(김진짜)', '터닝페이지', '주언규', '필름', '김종원', '퍼스트펭귄', '유선경', '앤의서재', '유선경', '위즈덤하우스', '미츠바치 미유키', '학산문화사', '정윤선', '시미씨', '풀빛', '폴 포돌스키', '고영훈', '필름', '김종원', '퍼스트펭귄', '문동균', '에스티유니타스', '로리(김준희)', '북로스트', '구병모', '위즈덤하우스'], '가격': ['12,600', '14,220', '12,960', '35,100', '25,020', '17,100', '17,820', '15,120', '14,400', '17,820', '7,110', '25,200', '16,650', '17,820', '16,200', '16,020', '21,420', '5,400', '13,500', '17,820', '17,100', '10,800', '19,980', '14,220']}, {'순위': [25, 26, 27, 28, 29, 30, 31, 32, 33, 34, 35, 36, 37, 38, 39, 40, 41, 42, 43, 44, 45, 46, 47, 48], '책제목': ['설민석의 한국사 대모험 33', '흔한남매 19', '2025 심우철 실전 동형 모의고사 Season 4', '최애의 아이 16 특별판', '넥서스', '돈의 흐름은 되풀이된다', 'ETS 토익 정기시험 기출문제집 1000 Vol. 4 RC', '스토너', '2025 큰별쌤 최태성의 별별한국사 한국사능력검정시험 심화(1,2,3급) 하', 'ETS 토익 정기시험 기출문제집 1000 Vol. 4 LC', '최애의 아이 16', '엔비디아 젠슨 황, 생각하는 기계', '진짜의 마인드', '혹시, 돈 얘기해도 될까요?', '너에게 들려주는 단단한 말', '질문의 격', '하루 한 장 나의 어휘력을 위한 필사 노트', '길고양이와 늑대 5 더블특전판', '과자 사면 과학 드립니다', '부의 전략 수업', '살아갈 날들을 위한 괴테의 시', '2025 문동균 한국사 지방직 대비 실전 봉투모의고사', '똑게육아', '파과 (리커버)'], '저자및출판사': ['설민석', '남이담', '정현희', '강석화', '단꿈아이', '흔한남매', '백난도', '유난희', '흔한컴퍼니', '미래엔아이세움', '심우철', '심슨북스', '아카사카 아카', '요코야리 멘고', '대원', '유발 하라리', '김명주', '김영사', '홍춘욱', '포르체', 'ETS', 'YBM(와이비엠)', '존 윌리엄스', '김승욱', '알에이치코리아(RHK)', '최태성', '이투스북 ', 'ETS', 'YBM(와이비엠)', '아카사카 아카', '요코야리 멘고', '대원', '스티븐 위트', '백우진', '알에이치코리아(RHK)', '김찬희(김진짜)', '터닝페이지', '주언규', '필름', '김종원', '퍼스트펭귄', '유선경', '앤의서재', '유선경', '위즈덤하우스', '미츠바치 미유키', '학산문화사', '정윤선', '시미씨', '풀빛', '폴 포돌스키', '고영훈', '필름', '김종원', '퍼스트펭귄', '문동균', '에스티유니타스', '로리(김준희)', '북로스트', '구병모', '위즈덤하우스'], '가격': ['12,600', '14,220', '12,960', '35,100', '25,020', '17,100', '17,820', '15,120', '14,400', '17,820', '7,110', '25,200', '16,650', '17,820', '16,200', '16,020', '21,420', '5,400', '13,500', '17,820', '17,100', '10,800', '19,980', '14,220']}, {'순위': [25, 26, 27, 28, 29, 30, 31, 32, 33, 34, 35, 36, 37, 38, 39, 40, 41, 42, 43, 44, 45, 46, 47, 48], '책제목': ['설민석의 한국사 대모험 33', '흔한남매 19', '2025 심우철 실전 동형 모의고사 Season 4', '최애의 아이 16 특별판', '넥서스', '돈의 흐름은 되풀이된다', 'ETS 토익 정기시험 기출문제집 1000 Vol. 4 RC', '스토너', '2025 큰별쌤 최태성의 별별한국사 한국사능력검정시험 심화(1,2,3급) 하', 'ETS 토익 정기시험 기출문제집 1000 Vol. 4 LC', '최애의 아이 16', '엔비디아 젠슨 황, 생각하는 기계', '진짜의 마인드', '혹시, 돈 얘기해도 될까요?', '너에게 들려주는 단단한 말', '질문의 격', '하루 한 장 나의 어휘력을 위한 필사 노트', '길고양이와 늑대 5 더블특전판', '과자 사면 과학 드립니다', '부의 전략 수업', '살아갈 날들을 위한 괴테의 시', '2025 문동균 한국사 지방직 대비 실전 봉투모의고사', '똑게육아', '파과 (리커버)'], '저자및출판사': ['설민석', '남이담', '정현희', '강석화', '단꿈아이', '흔한남매', '백난도', '유난희', '흔한컴퍼니', '미래엔아이세움', '심우철', '심슨북스', '아카사카 아카', '요코야리 멘고', '대원', '유발 하라리', '김명주', '김영사', '홍춘욱', '포르체', 'ETS', 'YBM(와이비엠)', '존 윌리엄스', '김승욱', '알에이치코리아(RHK)', '최태성', '이투스북 ', 'ETS', 'YBM(와이비엠)', '아카사카 아카', '요코야리 멘고', '대원', '스티븐 위트', '백우진', '알에이치코리아(RHK)', '김찬희(김진짜)', '터닝페이지', '주언규', '필름', '김종원', '퍼스트펭귄', '유선경', '앤의서재', '유선경', '위즈덤하우스', '미츠바치 미유키', '학산문화사', '정윤선', '시미씨', '풀빛', '폴 포돌스키', '고영훈', '필름', '김종원', '퍼스트펭귄', '문동균', '에스티유니타스', '로리(김준희)', '북로스트', '구병모', '위즈덤하우스'], '가격': ['12,600', '14,220', '12,960', '35,100', '25,020', '17,100', '17,820', '15,120', '14,400', '17,820', '7,110', '25,200', '16,650', '17,820', '16,200', '16,020', '21,420', '5,400', '13,500', '17,820', '17,100', '10,800', '19,980', '14,220']}, {'순위': [25, 26, 27, 28, 29, 30, 31, 32, 33, 34, 35, 36, 37, 38, 39, 40, 41, 42, 43, 44, 45, 46, 47, 48], '책제목': ['설민석의 한국사 대모험 33', '흔한남매 19', '2025 심우철 실전 동형 모의고사 Season 4', '최애의 아이 16 특별판', '넥서스', '돈의 흐름은 되풀이된다', 'ETS 토익 정기시험 기출문제집 1000 Vol. 4 RC', '스토너', '2025 큰별쌤 최태성의 별별한국사 한국사능력검정시험 심화(1,2,3급) 하', 'ETS 토익 정기시험 기출문제집 1000 Vol. 4 LC', '최애의 아이 16', '엔비디아 젠슨 황, 생각하는 기계', '진짜의 마인드', '혹시, 돈 얘기해도 될까요?', '너에게 들려주는 단단한 말', '질문의 격', '하루 한 장 나의 어휘력을 위한 필사 노트', '길고양이와 늑대 5 더블특전판', '과자 사면 과학 드립니다', '부의 전략 수업', '살아갈 날들을 위한 괴테의 시', '2025 문동균 한국사 지방직 대비 실전 봉투모의고사', '똑게육아', '파과 (리커버)'], '저자및출판사': ['설민석', '남이담', '정현희', '강석화', '단꿈아이', '흔한남매', '백난도', '유난희', '흔한컴퍼니', '미래엔아이세움', '심우철', '심슨북스', '아카사카 아카', '요코야리 멘고', '대원', '유발 하라리', '김명주', '김영사', '홍춘욱', '포르체', 'ETS', 'YBM(와이비엠)', '존 윌리엄스', '김승욱', '알에이치코리아(RHK)', '최태성', '이투스북 ', 'ETS', 'YBM(와이비엠)', '아카사카 아카', '요코야리 멘고', '대원', '스티븐 위트', '백우진', '알에이치코리아(RHK)', '김찬희(김진짜)', '터닝페이지', '주언규', '필름', '김종원', '퍼스트펭귄', '유선경', '앤의서재', '유선경', '위즈덤하우스', '미츠바치 미유키', '학산문화사', '정윤선', '시미씨', '풀빛', '폴 포돌스키', '고영훈', '필름', '김종원', '퍼스트펭귄', '문동균', '에스티유니타스', '로리(김준희)', '북로스트', '구병모', '위즈덤하우스'], '가격': ['12,600', '14,220', '12,960', '35,100', '25,020', '17,100', '17,820', '15,120', '14,400', '17,820', '7,110', '25,200', '16,650', '17,820', '16,200', '16,020', '21,420', '5,400', '13,500', '17,820', '17,100', '10,800', '19,980', '14,220']}, {'순위': [25, 26, 27, 28, 29, 30, 31, 32, 33, 34, 35, 36, 37, 38, 39, 40, 41, 42, 43, 44, 45, 46, 47, 48], '책제목': ['설민석의 한국사 대모험 33', '흔한남매 19', '2025 심우철 실전 동형 모의고사 Season 4', '최애의 아이 16 특별판', '넥서스', '돈의 흐름은 되풀이된다', 'ETS 토익 정기시험 기출문제집 1000 Vol. 4 RC', '스토너', '2025 큰별쌤 최태성의 별별한국사 한국사능력검정시험 심화(1,2,3급) 하', 'ETS 토익 정기시험 기출문제집 1000 Vol. 4 LC', '최애의 아이 16', '엔비디아 젠슨 황, 생각하는 기계', '진짜의 마인드', '혹시, 돈 얘기해도 될까요?', '너에게 들려주는 단단한 말', '질문의 격', '하루 한 장 나의 어휘력을 위한 필사 노트', '길고양이와 늑대 5 더블특전판', '과자 사면 과학 드립니다', '부의 전략 수업', '살아갈 날들을 위한 괴테의 시', '2025 문동균 한국사 지방직 대비 실전 봉투모의고사', '똑게육아', '파과 (리커버)'], '저자및출판사': ['설민석', '남이담', '정현희', '강석화', '단꿈아이', '흔한남매', '백난도', '유난희', '흔한컴퍼니', '미래엔아이세움', '심우철', '심슨북스', '아카사카 아카', '요코야리 멘고', '대원', '유발 하라리', '김명주', '김영사', '홍춘욱', '포르체', 'ETS', 'YBM(와이비엠)', '존 윌리엄스', '김승욱', '알에이치코리아(RHK)', '최태성', '이투스북 ', 'ETS', 'YBM(와이비엠)', '아카사카 아카', '요코야리 멘고', '대원', '스티븐 위트', '백우진', '알에이치코리아(RHK)', '김찬희(김진짜)', '터닝페이지', '주언규', '필름', '김종원', '퍼스트펭귄', '유선경', '앤의서재', '유선경', '위즈덤하우스', '미츠바치 미유키', '학산문화사', '정윤선', '시미씨', '풀빛', '폴 포돌스키', '고영훈', '필름', '김종원', '퍼스트펭귄', '문동균', '에스티유니타스', '로리(김준희)', '북로스트', '구병모', '위즈덤하우스'], '가격': ['12,600', '14,220', '12,960', '35,100', '25,020', '17,100', '17,820', '15,120', '14,400', '17,820', '7,110', '25,200', '16,650', '17,820', '16,200', '16,020', '21,420', '5,400', '13,500', '17,820', '17,100', '10,800', '19,980', '14,220']}, {'순위': [25, 26, 27, 28, 29, 30, 31, 32, 33, 34, 35, 36, 37, 38, 39, 40, 41, 42, 43, 44, 45, 46, 47, 48], '책제목': ['설민석의 한국사 대모험 33', '흔한남매 19', '2025 심우철 실전 동형 모의고사 Season 4', '최애의 아이 16 특별판', '넥서스', '돈의 흐름은 되풀이된다', 'ETS 토익 정기시험 기출문제집 1000 Vol. 4 RC', '스토너', '2025 큰별쌤 최태성의 별별한국사 한국사능력검정시험 심화(1,2,3급) 하', 'ETS 토익 정기시험 기출문제집 1000 Vol. 4 LC', '최애의 아이 16', '엔비디아 젠슨 황, 생각하는 기계', '진짜의 마인드', '혹시, 돈 얘기해도 될까요?', '너에게 들려주는 단단한 말', '질문의 격', '하루 한 장 나의 어휘력을 위한 필사 노트', '길고양이와 늑대 5 더블특전판', '과자 사면 과학 드립니다', '부의 전략 수업', '살아갈 날들을 위한 괴테의 시', '2025 문동균 한국사 지방직 대비 실전 봉투모의고사', '똑게육아', '파과 (리커버)'], '저자및출판사': ['설민석', '남이담', '정현희', '강석화', '단꿈아이', '흔한남매', '백난도', '유난희', '흔한컴퍼니', '미래엔아이세움', '심우철', '심슨북스', '아카사카 아카', '요코야리 멘고', '대원', '유발 하라리', '김명주', '김영사', '홍춘욱', '포르체', 'ETS', 'YBM(와이비엠)', '존 윌리엄스', '김승욱', '알에이치코리아(RHK)', '최태성', '이투스북 ', 'ETS', 'YBM(와이비엠)', '아카사카 아카', '요코야리 멘고', '대원', '스티븐 위트', '백우진', '알에이치코리아(RHK)', '김찬희(김진짜)', '터닝페이지', '주언규', '필름', '김종원', '퍼스트펭귄', '유선경', '앤의서재', '유선경', '위즈덤하우스', '미츠바치 미유키', '학산문화사', '정윤선', '시미씨', '풀빛', '폴 포돌스키', '고영훈', '필름', '김종원', '퍼스트펭귄', '문동균', '에스티유니타스', '로리(김준희)', '북로스트', '구병모', '위즈덤하우스'], '가격': ['12,600', '14,220', '12,960', '35,100', '25,020', '17,100', '17,820', '15,120', '14,400', '17,820', '7,110', '25,200', '16,650', '17,820', '16,200', '16,020', '21,420', '5,400', '13,500', '17,820', '17,100', '10,800', '19,980', '14,220']}, {'순위': [25, 26, 27, 28, 29, 30, 31, 32, 33, 34, 35, 36, 37, 38, 39, 40, 41, 42, 43, 44, 45, 46, 47, 48], '책제목': ['설민석의 한국사 대모험 33', '흔한남매 19', '2025 심우철 실전 동형 모의고사 Season 4', '최애의 아이 16 특별판', '넥서스', '돈의 흐름은 되풀이된다', 'ETS 토익 정기시험 기출문제집 1000 Vol. 4 RC', '스토너', '2025 큰별쌤 최태성의 별별한국사 한국사능력검정시험 심화(1,2,3급) 하', 'ETS 토익 정기시험 기출문제집 1000 Vol. 4 LC', '최애의 아이 16', '엔비디아 젠슨 황, 생각하는 기계', '진짜의 마인드', '혹시, 돈 얘기해도 될까요?', '너에게 들려주는 단단한 말', '질문의 격', '하루 한 장 나의 어휘력을 위한 필사 노트', '길고양이와 늑대 5 더블특전판', '과자 사면 과학 드립니다', '부의 전략 수업', '살아갈 날들을 위한 괴테의 시', '2025 문동균 한국사 지방직 대비 실전 봉투모의고사', '똑게육아', '파과 (리커버)'], '저자및출판사': ['설민석', '남이담', '정현희', '강석화', '단꿈아이', '흔한남매', '백난도', '유난희', '흔한컴퍼니', '미래엔아이세움', '심우철', '심슨북스', '아카사카 아카', '요코야리 멘고', '대원', '유발 하라리', '김명주', '김영사', '홍춘욱', '포르체', 'ETS', 'YBM(와이비엠)', '존 윌리엄스', '김승욱', '알에이치코리아(RHK)', '최태성', '이투스북 ', 'ETS', 'YBM(와이비엠)', '아카사카 아카', '요코야리 멘고', '대원', '스티븐 위트', '백우진', '알에이치코리아(RHK)', '김찬희(김진짜)', '터닝페이지', '주언규', '필름', '김종원', '퍼스트펭귄', '유선경', '앤의서재', '유선경', '위즈덤하우스', '미츠바치 미유키', '학산문화사', '정윤선', '시미씨', '풀빛', '폴 포돌스키', '고영훈', '필름', '김종원', '퍼스트펭귄', '문동균', '에스티유니타스', '로리(김준희)', '북로스트', '구병모', '위즈덤하우스'], '가격': ['12,600', '14,220', '12,960', '35,100', '25,020', '17,100', '17,820', '15,120', '14,400', '17,820', '7,110', '25,200', '16,650', '17,820', '16,200', '16,020', '21,420', '5,400', '13,500', '17,820', '17,100', '10,800', '19,980', '14,220']}, {'순위': [25, 26, 27, 28, 29, 30, 31, 32, 33, 34, 35, 36, 37, 38, 39, 40, 41, 42, 43, 44, 45, 46, 47, 48], '책제목': ['설민석의 한국사 대모험 33', '흔한남매 19', '2025 심우철 실전 동형 모의고사 Season 4', '최애의 아이 16 특별판', '넥서스', '돈의 흐름은 되풀이된다', 'ETS 토익 정기시험 기출문제집 1000 Vol. 4 RC', '스토너', '2025 큰별쌤 최태성의 별별한국사 한국사능력검정시험 심화(1,2,3급) 하', 'ETS 토익 정기시험 기출문제집 1000 Vol. 4 LC', '최애의 아이 16', '엔비디아 젠슨 황, 생각하는 기계', '진짜의 마인드', '혹시, 돈 얘기해도 될까요?', '너에게 들려주는 단단한 말', '질문의 격', '하루 한 장 나의 어휘력을 위한 필사 노트', '길고양이와 늑대 5 더블특전판', '과자 사면 과학 드립니다', '부의 전략 수업', '살아갈 날들을 위한 괴테의 시', '2025 문동균 한국사 지방직 대비 실전 봉투모의고사', '똑게육아', '파과 (리커버)'], '저자및출판사': ['설민석', '남이담', '정현희', '강석화', '단꿈아이', '흔한남매', '백난도', '유난희', '흔한컴퍼니', '미래엔아이세움', '심우철', '심슨북스', '아카사카 아카', '요코야리 멘고', '대원', '유발 하라리', '김명주', '김영사', '홍춘욱', '포르체', 'ETS', 'YBM(와이비엠)', '존 윌리엄스', '김승욱', '알에이치코리아(RHK)', '최태성', '이투스북 ', 'ETS', 'YBM(와이비엠)', '아카사카 아카', '요코야리 멘고', '대원', '스티븐 위트', '백우진', '알에이치코리아(RHK)', '김찬희(김진짜)', '터닝페이지', '주언규', '필름', '김종원', '퍼스트펭귄', '유선경', '앤의서재', '유선경', '위즈덤하우스', '미츠바치 미유키', '학산문화사', '정윤선', '시미씨', '풀빛', '폴 포돌스키', '고영훈', '필름', '김종원', '퍼스트펭귄', '문동균', '에스티유니타스', '로리(김준희)', '북로스트', '구병모', '위즈덤하우스'], '가격': ['12,600', '14,220', '12,960', '35,100', '25,020', '17,100', '17,820', '15,120', '14,400', '17,820', '7,110', '25,200', '16,650', '17,820', '16,200', '16,020', '21,420', '5,400', '13,500', '17,820', '17,100', '10,800', '19,980', '14,220']}, {'순위': [25, 26, 27, 28, 29, 30, 31, 32, 33, 34, 35, 36, 37, 38, 39, 40, 41, 42, 43, 44, 45, 46, 47, 48], '책제목': ['설민석의 한국사 대모험 33', '흔한남매 19', '2025 심우철 실전 동형 모의고사 Season 4', '최애의 아이 16 특별판', '넥서스', '돈의 흐름은 되풀이된다', 'ETS 토익 정기시험 기출문제집 1000 Vol. 4 RC', '스토너', '2025 큰별쌤 최태성의 별별한국사 한국사능력검정시험 심화(1,2,3급) 하', 'ETS 토익 정기시험 기출문제집 1000 Vol. 4 LC', '최애의 아이 16', '엔비디아 젠슨 황, 생각하는 기계', '진짜의 마인드', '혹시, 돈 얘기해도 될까요?', '너에게 들려주는 단단한 말', '질문의 격', '하루 한 장 나의 어휘력을 위한 필사 노트', '길고양이와 늑대 5 더블특전판', '과자 사면 과학 드립니다', '부의 전략 수업', '살아갈 날들을 위한 괴테의 시', '2025 문동균 한국사 지방직 대비 실전 봉투모의고사', '똑게육아', '파과 (리커버)'], '저자및출판사': ['설민석', '남이담', '정현희', '강석화', '단꿈아이', '흔한남매', '백난도', '유난희', '흔한컴퍼니', '미래엔아이세움', '심우철', '심슨북스', '아카사카 아카', '요코야리 멘고', '대원', '유발 하라리', '김명주', '김영사', '홍춘욱', '포르체', 'ETS', 'YBM(와이비엠)', '존 윌리엄스', '김승욱', '알에이치코리아(RHK)', '최태성', '이투스북 ', 'ETS', 'YBM(와이비엠)', '아카사카 아카', '요코야리 멘고', '대원', '스티븐 위트', '백우진', '알에이치코리아(RHK)', '김찬희(김진짜)', '터닝페이지', '주언규', '필름', '김종원', '퍼스트펭귄', '유선경', '앤의서재', '유선경', '위즈덤하우스', '미츠바치 미유키', '학산문화사', '정윤선', '시미씨', '풀빛', '폴 포돌스키', '고영훈', '필름', '김종원', '퍼스트펭귄', '문동균', '에스티유니타스', '로리(김준희)', '북로스트', '구병모', '위즈덤하우스'], '가격': ['12,600', '14,220', '12,960', '35,100', '25,020', '17,100', '17,820', '15,120', '14,400', '17,820', '7,110', '25,200', '16,650', '17,820', '16,200', '16,020', '21,420', '5,400', '13,500', '17,820', '17,100', '10,800', '19,980', '14,220']}, {'순위': [25, 26, 27, 28, 29, 30, 31, 32, 33, 34, 35, 36, 37, 38, 39, 40, 41, 42, 43, 44, 45, 46, 47, 48], '책제목': ['설민석의 한국사 대모험 33', '흔한남매 19', '2025 심우철 실전 동형 모의고사 Season 4', '최애의 아이 16 특별판', '넥서스', '돈의 흐름은 되풀이된다', 'ETS 토익 정기시험 기출문제집 1000 Vol. 4 RC', '스토너', '2025 큰별쌤 최태성의 별별한국사 한국사능력검정시험 심화(1,2,3급) 하', 'ETS 토익 정기시험 기출문제집 1000 Vol. 4 LC', '최애의 아이 16', '엔비디아 젠슨 황, 생각하는 기계', '진짜의 마인드', '혹시, 돈 얘기해도 될까요?', '너에게 들려주는 단단한 말', '질문의 격', '하루 한 장 나의 어휘력을 위한 필사 노트', '길고양이와 늑대 5 더블특전판', '과자 사면 과학 드립니다', '부의 전략 수업', '살아갈 날들을 위한 괴테의 시', '2025 문동균 한국사 지방직 대비 실전 봉투모의고사', '똑게육아', '파과 (리커버)'], '저자및출판사': ['설민석', '남이담', '정현희', '강석화', '단꿈아이', '흔한남매', '백난도', '유난희', '흔한컴퍼니', '미래엔아이세움', '심우철', '심슨북스', '아카사카 아카', '요코야리 멘고', '대원', '유발 하라리', '김명주', '김영사', '홍춘욱', '포르체', 'ETS', 'YBM(와이비엠)', '존 윌리엄스', '김승욱', '알에이치코리아(RHK)', '최태성', '이투스북 ', 'ETS', 'YBM(와이비엠)', '아카사카 아카', '요코야리 멘고', '대원', '스티븐 위트', '백우진', '알에이치코리아(RHK)', '김찬희(김진짜)', '터닝페이지', '주언규', '필름', '김종원', '퍼스트펭귄', '유선경', '앤의서재', '유선경', '위즈덤하우스', '미츠바치 미유키', '학산문화사', '정윤선', '시미씨', '풀빛', '폴 포돌스키', '고영훈', '필름', '김종원', '퍼스트펭귄', '문동균', '에스티유니타스', '로리(김준희)', '북로스트', '구병모', '위즈덤하우스'], '가격': ['12,600', '14,220', '12,960', '35,100', '25,020', '17,100', '17,820', '15,120', '14,400', '17,820', '7,110', '25,200', '16,650', '17,820', '16,200', '16,020', '21,420', '5,400', '13,500', '17,820', '17,100', '10,800', '19,980', '14,220']}, {'순위': [25, 26, 27, 28, 29, 30, 31, 32, 33, 34, 35, 36, 37, 38, 39, 40, 41, 42, 43, 44, 45, 46, 47, 48], '책제목': ['설민석의 한국사 대모험 33', '흔한남매 19', '2025 심우철 실전 동형 모의고사 Season 4', '최애의 아이 16 특별판', '넥서스', '돈의 흐름은 되풀이된다', 'ETS 토익 정기시험 기출문제집 1000 Vol. 4 RC', '스토너', '2025 큰별쌤 최태성의 별별한국사 한국사능력검정시험 심화(1,2,3급) 하', 'ETS 토익 정기시험 기출문제집 1000 Vol. 4 LC', '최애의 아이 16', '엔비디아 젠슨 황, 생각하는 기계', '진짜의 마인드', '혹시, 돈 얘기해도 될까요?', '너에게 들려주는 단단한 말', '질문의 격', '하루 한 장 나의 어휘력을 위한 필사 노트', '길고양이와 늑대 5 더블특전판', '과자 사면 과학 드립니다', '부의 전략 수업', '살아갈 날들을 위한 괴테의 시', '2025 문동균 한국사 지방직 대비 실전 봉투모의고사', '똑게육아', '파과 (리커버)'], '저자및출판사': ['설민석', '남이담', '정현희', '강석화', '단꿈아이', '흔한남매', '백난도', '유난희', '흔한컴퍼니', '미래엔아이세움', '심우철', '심슨북스', '아카사카 아카', '요코야리 멘고', '대원', '유발 하라리', '김명주', '김영사', '홍춘욱', '포르체', 'ETS', 'YBM(와이비엠)', '존 윌리엄스', '김승욱', '알에이치코리아(RHK)', '최태성', '이투스북 ', 'ETS', 'YBM(와이비엠)', '아카사카 아카', '요코야리 멘고', '대원', '스티븐 위트', '백우진', '알에이치코리아(RHK)', '김찬희(김진짜)', '터닝페이지', '주언규', '필름', '김종원', '퍼스트펭귄', '유선경', '앤의서재', '유선경', '위즈덤하우스', '미츠바치 미유키', '학산문화사', '정윤선', '시미씨', '풀빛', '폴 포돌스키', '고영훈', '필름', '김종원', '퍼스트펭귄', '문동균', '에스티유니타스', '로리(김준희)', '북로스트', '구병모', '위즈덤하우스'], '가격': ['12,600', '14,220', '12,960', '35,100', '25,020', '17,100', '17,820', '15,120', '14,400', '17,820', '7,110', '25,200', '16,650', '17,820', '16,200', '16,020', '21,420', '5,400', '13,500', '17,820', '17,100', '10,800', '19,980', '14,220']}, {'순위': [25, 26, 27, 28, 29, 30, 31, 32, 33, 34, 35, 36, 37, 38, 39, 40, 41, 42, 43, 44, 45, 46, 47, 48], '책제목': ['설민석의 한국사 대모험 33', '흔한남매 19', '2025 심우철 실전 동형 모의고사 Season 4', '최애의 아이 16 특별판', '넥서스', '돈의 흐름은 되풀이된다', 'ETS 토익 정기시험 기출문제집 1000 Vol. 4 RC', '스토너', '2025 큰별쌤 최태성의 별별한국사 한국사능력검정시험 심화(1,2,3급) 하', 'ETS 토익 정기시험 기출문제집 1000 Vol. 4 LC', '최애의 아이 16', '엔비디아 젠슨 황, 생각하는 기계', '진짜의 마인드', '혹시, 돈 얘기해도 될까요?', '너에게 들려주는 단단한 말', '질문의 격', '하루 한 장 나의 어휘력을 위한 필사 노트', '길고양이와 늑대 5 더블특전판', '과자 사면 과학 드립니다', '부의 전략 수업', '살아갈 날들을 위한 괴테의 시', '2025 문동균 한국사 지방직 대비 실전 봉투모의고사', '똑게육아', '파과 (리커버)'], '저자및출판사': ['설민석', '남이담', '정현희', '강석화', '단꿈아이', '흔한남매', '백난도', '유난희', '흔한컴퍼니', '미래엔아이세움', '심우철', '심슨북스', '아카사카 아카', '요코야리 멘고', '대원', '유발 하라리', '김명주', '김영사', '홍춘욱', '포르체', 'ETS', 'YBM(와이비엠)', '존 윌리엄스', '김승욱', '알에이치코리아(RHK)', '최태성', '이투스북 ', 'ETS', 'YBM(와이비엠)', '아카사카 아카', '요코야리 멘고', '대원', '스티븐 위트', '백우진', '알에이치코리아(RHK)', '김찬희(김진짜)', '터닝페이지', '주언규', '필름', '김종원', '퍼스트펭귄', '유선경', '앤의서재', '유선경', '위즈덤하우스', '미츠바치 미유키', '학산문화사', '정윤선', '시미씨', '풀빛', '폴 포돌스키', '고영훈', '필름', '김종원', '퍼스트펭귄', '문동균', '에스티유니타스', '로리(김준희)', '북로스트', '구병모', '위즈덤하우스'], '가격': ['12,600', '14,220', '12,960', '35,100', '25,020', '17,100', '17,820', '15,120', '14,400', '17,820', '7,110', '25,200', '16,650', '17,820', '16,200', '16,020', '21,420', '5,400', '13,500', '17,820', '17,100', '10,800', '19,980', '14,220']}, {'순위': [25, 26, 27, 28, 29, 30, 31, 32, 33, 34, 35, 36, 37, 38, 39, 40, 41, 42, 43, 44, 45, 46, 47, 48], '책제목': ['설민석의 한국사 대모험 33', '흔한남매 19', '2025 심우철 실전 동형 모의고사 Season 4', '최애의 아이 16 특별판', '넥서스', '돈의 흐름은 되풀이된다', 'ETS 토익 정기시험 기출문제집 1000 Vol. 4 RC', '스토너', '2025 큰별쌤 최태성의 별별한국사 한국사능력검정시험 심화(1,2,3급) 하', 'ETS 토익 정기시험 기출문제집 1000 Vol. 4 LC', '최애의 아이 16', '엔비디아 젠슨 황, 생각하는 기계', '진짜의 마인드', '혹시, 돈 얘기해도 될까요?', '너에게 들려주는 단단한 말', '질문의 격', '하루 한 장 나의 어휘력을 위한 필사 노트', '길고양이와 늑대 5 더블특전판', '과자 사면 과학 드립니다', '부의 전략 수업', '살아갈 날들을 위한 괴테의 시', '2025 문동균 한국사 지방직 대비 실전 봉투모의고사', '똑게육아', '파과 (리커버)'], '저자및출판사': ['설민석', '남이담', '정현희', '강석화', '단꿈아이', '흔한남매', '백난도', '유난희', '흔한컴퍼니', '미래엔아이세움', '심우철', '심슨북스', '아카사카 아카', '요코야리 멘고', '대원', '유발 하라리', '김명주', '김영사', '홍춘욱', '포르체', 'ETS', 'YBM(와이비엠)', '존 윌리엄스', '김승욱', '알에이치코리아(RHK)', '최태성', '이투스북 ', 'ETS', 'YBM(와이비엠)', '아카사카 아카', '요코야리 멘고', '대원', '스티븐 위트', '백우진', '알에이치코리아(RHK)', '김찬희(김진짜)', '터닝페이지', '주언규', '필름', '김종원', '퍼스트펭귄', '유선경', '앤의서재', '유선경', '위즈덤하우스', '미츠바치 미유키', '학산문화사', '정윤선', '시미씨', '풀빛', '폴 포돌스키', '고영훈', '필름', '김종원', '퍼스트펭귄', '문동균', '에스티유니타스', '로리(김준희)', '북로스트', '구병모', '위즈덤하우스'], '가격': ['12,600', '14,220', '12,960', '35,100', '25,020', '17,100', '17,820', '15,120', '14,400', '17,820', '7,110', '25,200', '16,650', '17,820', '16,200', '16,020', '21,420', '5,400', '13,500', '17,820', '17,100', '10,800', '19,980', '14,220']}, {'순위': [25, 26, 27, 28, 29, 30, 31, 32, 33, 34, 35, 36, 37, 38, 39, 40, 41, 42, 43, 44, 45, 46, 47, 48], '책제목': ['설민석의 한국사 대모험 33', '흔한남매 19', '2025 심우철 실전 동형 모의고사 Season 4', '최애의 아이 16 특별판', '넥서스', '돈의 흐름은 되풀이된다', 'ETS 토익 정기시험 기출문제집 1000 Vol. 4 RC', '스토너', '2025 큰별쌤 최태성의 별별한국사 한국사능력검정시험 심화(1,2,3급) 하', 'ETS 토익 정기시험 기출문제집 1000 Vol. 4 LC', '최애의 아이 16', '엔비디아 젠슨 황, 생각하는 기계', '진짜의 마인드', '혹시, 돈 얘기해도 될까요?', '너에게 들려주는 단단한 말', '질문의 격', '하루 한 장 나의 어휘력을 위한 필사 노트', '길고양이와 늑대 5 더블특전판', '과자 사면 과학 드립니다', '부의 전략 수업', '살아갈 날들을 위한 괴테의 시', '2025 문동균 한국사 지방직 대비 실전 봉투모의고사', '똑게육아', '파과 (리커버)'], '저자및출판사': ['설민석', '남이담', '정현희', '강석화', '단꿈아이', '흔한남매', '백난도', '유난희', '흔한컴퍼니', '미래엔아이세움', '심우철', '심슨북스', '아카사카 아카', '요코야리 멘고', '대원', '유발 하라리', '김명주', '김영사', '홍춘욱', '포르체', 'ETS', 'YBM(와이비엠)', '존 윌리엄스', '김승욱', '알에이치코리아(RHK)', '최태성', '이투스북 ', 'ETS', 'YBM(와이비엠)', '아카사카 아카', '요코야리 멘고', '대원', '스티븐 위트', '백우진', '알에이치코리아(RHK)', '김찬희(김진짜)', '터닝페이지', '주언규', '필름', '김종원', '퍼스트펭귄', '유선경', '앤의서재', '유선경', '위즈덤하우스', '미츠바치 미유키', '학산문화사', '정윤선', '시미씨', '풀빛', '폴 포돌스키', '고영훈', '필름', '김종원', '퍼스트펭귄', '문동균', '에스티유니타스', '로리(김준희)', '북로스트', '구병모', '위즈덤하우스'], '가격': ['12,600', '14,220', '12,960', '35,100', '25,020', '17,100', '17,820', '15,120', '14,400', '17,820', '7,110', '25,200', '16,650', '17,820', '16,200', '16,020', '21,420', '5,400', '13,500', '17,820', '17,100', '10,800', '19,980', '14,220']}, {'순위': [25, 26, 27, 28, 29, 30, 31, 32, 33, 34, 35, 36, 37, 38, 39, 40, 41, 42, 43, 44, 45, 46, 47, 48], '책제목': ['설민석의 한국사 대모험 33', '흔한남매 19', '2025 심우철 실전 동형 모의고사 Season 4', '최애의 아이 16 특별판', '넥서스', '돈의 흐름은 되풀이된다', 'ETS 토익 정기시험 기출문제집 1000 Vol. 4 RC', '스토너', '2025 큰별쌤 최태성의 별별한국사 한국사능력검정시험 심화(1,2,3급) 하', 'ETS 토익 정기시험 기출문제집 1000 Vol. 4 LC', '최애의 아이 16', '엔비디아 젠슨 황, 생각하는 기계', '진짜의 마인드', '혹시, 돈 얘기해도 될까요?', '너에게 들려주는 단단한 말', '질문의 격', '하루 한 장 나의 어휘력을 위한 필사 노트', '길고양이와 늑대 5 더블특전판', '과자 사면 과학 드립니다', '부의 전략 수업', '살아갈 날들을 위한 괴테의 시', '2025 문동균 한국사 지방직 대비 실전 봉투모의고사', '똑게육아', '파과 (리커버)'], '저자및출판사': ['설민석', '남이담', '정현희', '강석화', '단꿈아이', '흔한남매', '백난도', '유난희', '흔한컴퍼니', '미래엔아이세움', '심우철', '심슨북스', '아카사카 아카', '요코야리 멘고', '대원', '유발 하라리', '김명주', '김영사', '홍춘욱', '포르체', 'ETS', 'YBM(와이비엠)', '존 윌리엄스', '김승욱', '알에이치코리아(RHK)', '최태성', '이투스북 ', 'ETS', 'YBM(와이비엠)', '아카사카 아카', '요코야리 멘고', '대원', '스티븐 위트', '백우진', '알에이치코리아(RHK)', '김찬희(김진짜)', '터닝페이지', '주언규', '필름', '김종원', '퍼스트펭귄', '유선경', '앤의서재', '유선경', '위즈덤하우스', '미츠바치 미유키', '학산문화사', '정윤선', '시미씨', '풀빛', '폴 포돌스키', '고영훈', '필름', '김종원', '퍼스트펭귄', '문동균', '에스티유니타스', '로리(김준희)', '북로스트', '구병모', '위즈덤하우스'], '가격': ['12,600', '14,220', '12,960', '35,100', '25,020', '17,100', '17,820', '15,120', '14,400', '17,820', '7,110', '25,200', '16,650', '17,820', '16,200', '16,020', '21,420', '5,400', '13,500', '17,820', '17,100', '10,800', '19,980', '14,220']}, {'순위': [25, 26, 27, 28, 29, 30, 31, 32, 33, 34, 35, 36, 37, 38, 39, 40, 41, 42, 43, 44, 45, 46, 47, 48], '책제목': ['설민석의 한국사 대모험 33', '흔한남매 19', '2025 심우철 실전 동형 모의고사 Season 4', '최애의 아이 16 특별판', '넥서스', '돈의 흐름은 되풀이된다', 'ETS 토익 정기시험 기출문제집 1000 Vol. 4 RC', '스토너', '2025 큰별쌤 최태성의 별별한국사 한국사능력검정시험 심화(1,2,3급) 하', 'ETS 토익 정기시험 기출문제집 1000 Vol. 4 LC', '최애의 아이 16', '엔비디아 젠슨 황, 생각하는 기계', '진짜의 마인드', '혹시, 돈 얘기해도 될까요?', '너에게 들려주는 단단한 말', '질문의 격', '하루 한 장 나의 어휘력을 위한 필사 노트', '길고양이와 늑대 5 더블특전판', '과자 사면 과학 드립니다', '부의 전략 수업', '살아갈 날들을 위한 괴테의 시', '2025 문동균 한국사 지방직 대비 실전 봉투모의고사', '똑게육아', '파과 (리커버)'], '저자및출판사': ['설민석', '남이담', '정현희', '강석화', '단꿈아이', '흔한남매', '백난도', '유난희', '흔한컴퍼니', '미래엔아이세움', '심우철', '심슨북스', '아카사카 아카', '요코야리 멘고', '대원', '유발 하라리', '김명주', '김영사', '홍춘욱', '포르체', 'ETS', 'YBM(와이비엠)', '존 윌리엄스', '김승욱', '알에이치코리아(RHK)', '최태성', '이투스북 ', 'ETS', 'YBM(와이비엠)', '아카사카 아카', '요코야리 멘고', '대원', '스티븐 위트', '백우진', '알에이치코리아(RHK)', '김찬희(김진짜)', '터닝페이지', '주언규', '필름', '김종원', '퍼스트펭귄', '유선경', '앤의서재', '유선경', '위즈덤하우스', '미츠바치 미유키', '학산문화사', '정윤선', '시미씨', '풀빛', '폴 포돌스키', '고영훈', '필름', '김종원', '퍼스트펭귄', '문동균', '에스티유니타스', '로리(김준희)', '북로스트', '구병모', '위즈덤하우스'], '가격': ['12,600', '14,220', '12,960', '35,100', '25,020', '17,100', '17,820', '15,120', '14,400', '17,820', '7,110', '25,200', '16,650', '17,820', '16,200', '16,020', '21,420', '5,400', '13,500', '17,820', '17,100', '10,800', '19,980', '14,220']}, {'순위': [25, 26, 27, 28, 29, 30, 31, 32, 33, 34, 35, 36, 37, 38, 39, 40, 41, 42, 43, 44, 45, 46, 47, 48], '책제목': ['설민석의 한국사 대모험 33', '흔한남매 19', '2025 심우철 실전 동형 모의고사 Season 4', '최애의 아이 16 특별판', '넥서스', '돈의 흐름은 되풀이된다', 'ETS 토익 정기시험 기출문제집 1000 Vol. 4 RC', '스토너', '2025 큰별쌤 최태성의 별별한국사 한국사능력검정시험 심화(1,2,3급) 하', 'ETS 토익 정기시험 기출문제집 1000 Vol. 4 LC', '최애의 아이 16', '엔비디아 젠슨 황, 생각하는 기계', '진짜의 마인드', '혹시, 돈 얘기해도 될까요?', '너에게 들려주는 단단한 말', '질문의 격', '하루 한 장 나의 어휘력을 위한 필사 노트', '길고양이와 늑대 5 더블특전판', '과자 사면 과학 드립니다', '부의 전략 수업', '살아갈 날들을 위한 괴테의 시', '2025 문동균 한국사 지방직 대비 실전 봉투모의고사', '똑게육아', '파과 (리커버)'], '저자및출판사': ['설민석', '남이담', '정현희', '강석화', '단꿈아이', '흔한남매', '백난도', '유난희', '흔한컴퍼니', '미래엔아이세움', '심우철', '심슨북스', '아카사카 아카', '요코야리 멘고', '대원', '유발 하라리', '김명주', '김영사', '홍춘욱', '포르체', 'ETS', 'YBM(와이비엠)', '존 윌리엄스', '김승욱', '알에이치코리아(RHK)', '최태성', '이투스북 ', 'ETS', 'YBM(와이비엠)', '아카사카 아카', '요코야리 멘고', '대원', '스티븐 위트', '백우진', '알에이치코리아(RHK)', '김찬희(김진짜)', '터닝페이지', '주언규', '필름', '김종원', '퍼스트펭귄', '유선경', '앤의서재', '유선경', '위즈덤하우스', '미츠바치 미유키', '학산문화사', '정윤선', '시미씨', '풀빛', '폴 포돌스키', '고영훈', '필름', '김종원', '퍼스트펭귄', '문동균', '에스티유니타스', '로리(김준희)', '북로스트', '구병모', '위즈덤하우스'], '가격': ['12,600', '14,220', '12,960', '35,100', '25,020', '17,100', '17,820', '15,120', '14,400', '17,820', '7,110', '25,200', '16,650', '17,820', '16,200', '16,020', '21,420', '5,400', '13,500', '17,820', '17,100', '10,800', '19,980', '14,220']}, {'순위': [25, 26, 27, 28, 29, 30, 31, 32, 33, 34, 35, 36, 37, 38, 39, 40, 41, 42, 43, 44, 45, 46, 47, 48], '책제목': ['설민석의 한국사 대모험 33', '흔한남매 19', '2025 심우철 실전 동형 모의고사 Season 4', '최애의 아이 16 특별판', '넥서스', '돈의 흐름은 되풀이된다', 'ETS 토익 정기시험 기출문제집 1000 Vol. 4 RC', '스토너', '2025 큰별쌤 최태성의 별별한국사 한국사능력검정시험 심화(1,2,3급) 하', 'ETS 토익 정기시험 기출문제집 1000 Vol. 4 LC', '최애의 아이 16', '엔비디아 젠슨 황, 생각하는 기계', '진짜의 마인드', '혹시, 돈 얘기해도 될까요?', '너에게 들려주는 단단한 말', '질문의 격', '하루 한 장 나의 어휘력을 위한 필사 노트', '길고양이와 늑대 5 더블특전판', '과자 사면 과학 드립니다', '부의 전략 수업', '살아갈 날들을 위한 괴테의 시', '2025 문동균 한국사 지방직 대비 실전 봉투모의고사', '똑게육아', '파과 (리커버)'], '저자및출판사': ['설민석', '남이담', '정현희', '강석화', '단꿈아이', '흔한남매', '백난도', '유난희', '흔한컴퍼니', '미래엔아이세움', '심우철', '심슨북스', '아카사카 아카', '요코야리 멘고', '대원', '유발 하라리', '김명주', '김영사', '홍춘욱', '포르체', 'ETS', 'YBM(와이비엠)', '존 윌리엄스', '김승욱', '알에이치코리아(RHK)', '최태성', '이투스북 ', 'ETS', 'YBM(와이비엠)', '아카사카 아카', '요코야리 멘고', '대원', '스티븐 위트', '백우진', '알에이치코리아(RHK)', '김찬희(김진짜)', '터닝페이지', '주언규', '필름', '김종원', '퍼스트펭귄', '유선경', '앤의서재', '유선경', '위즈덤하우스', '미츠바치 미유키', '학산문화사', '정윤선', '시미씨', '풀빛', '폴 포돌스키', '고영훈', '필름', '김종원', '퍼스트펭귄', '문동균', '에스티유니타스', '로리(김준희)', '북로스트', '구병모', '위즈덤하우스'], '가격': ['12,600', '14,220', '12,960', '35,100', '25,020', '17,100', '17,820', '15,120', '14,400', '17,820', '7,110', '25,200', '16,650', '17,820', '16,200', '16,020', '21,420', '5,400', '13,500', '17,820', '17,100', '10,800', '19,980', '14,220']}, {'순위': [25, 26, 27, 28, 29, 30, 31, 32, 33, 34, 35, 36, 37, 38, 39, 40, 41, 42, 43, 44, 45, 46, 47, 48], '책제목': ['설민석의 한국사 대모험 33', '흔한남매 19', '2025 심우철 실전 동형 모의고사 Season 4', '최애의 아이 16 특별판', '넥서스', '돈의 흐름은 되풀이된다', 'ETS 토익 정기시험 기출문제집 1000 Vol. 4 RC', '스토너', '2025 큰별쌤 최태성의 별별한국사 한국사능력검정시험 심화(1,2,3급) 하', 'ETS 토익 정기시험 기출문제집 1000 Vol. 4 LC', '최애의 아이 16', '엔비디아 젠슨 황, 생각하는 기계', '진짜의 마인드', '혹시, 돈 얘기해도 될까요?', '너에게 들려주는 단단한 말', '질문의 격', '하루 한 장 나의 어휘력을 위한 필사 노트', '길고양이와 늑대 5 더블특전판', '과자 사면 과학 드립니다', '부의 전략 수업', '살아갈 날들을 위한 괴테의 시', '2025 문동균 한국사 지방직 대비 실전 봉투모의고사', '똑게육아', '파과 (리커버)'], '저자및출판사': ['설민석', '남이담', '정현희', '강석화', '단꿈아이', '흔한남매', '백난도', '유난희', '흔한컴퍼니', '미래엔아이세움', '심우철', '심슨북스', '아카사카 아카', '요코야리 멘고', '대원', '유발 하라리', '김명주', '김영사', '홍춘욱', '포르체', 'ETS', 'YBM(와이비엠)', '존 윌리엄스', '김승욱', '알에이치코리아(RHK)', '최태성', '이투스북 ', 'ETS', 'YBM(와이비엠)', '아카사카 아카', '요코야리 멘고', '대원', '스티븐 위트', '백우진', '알에이치코리아(RHK)', '김찬희(김진짜)', '터닝페이지', '주언규', '필름', '김종원', '퍼스트펭귄', '유선경', '앤의서재', '유선경', '위즈덤하우스', '미츠바치 미유키', '학산문화사', '정윤선', '시미씨', '풀빛', '폴 포돌스키', '고영훈', '필름', '김종원', '퍼스트펭귄', '문동균', '에스티유니타스', '로리(김준희)', '북로스트', '구병모', '위즈덤하우스'], '가격': ['12,600', '14,220', '12,960', '35,100', '25,020', '17,100', '17,820', '15,120', '14,400', '17,820', '7,110', '25,200', '16,650', '17,820', '16,200', '16,020', '21,420', '5,400', '13,500', '17,820', '17,100', '10,800', '19,980', '14,220']}, {'순위': [25, 26, 27, 28, 29, 30, 31, 32, 33, 34, 35, 36, 37, 38, 39, 40, 41, 42, 43, 44, 45, 46, 47, 48], '책제목': ['설민석의 한국사 대모험 33', '흔한남매 19', '2025 심우철 실전 동형 모의고사 Season 4', '최애의 아이 16 특별판', '넥서스', '돈의 흐름은 되풀이된다', 'ETS 토익 정기시험 기출문제집 1000 Vol. 4 RC', '스토너', '2025 큰별쌤 최태성의 별별한국사 한국사능력검정시험 심화(1,2,3급) 하', 'ETS 토익 정기시험 기출문제집 1000 Vol. 4 LC', '최애의 아이 16', '엔비디아 젠슨 황, 생각하는 기계', '진짜의 마인드', '혹시, 돈 얘기해도 될까요?', '너에게 들려주는 단단한 말', '질문의 격', '하루 한 장 나의 어휘력을 위한 필사 노트', '길고양이와 늑대 5 더블특전판', '과자 사면 과학 드립니다', '부의 전략 수업', '살아갈 날들을 위한 괴테의 시', '2025 문동균 한국사 지방직 대비 실전 봉투모의고사', '똑게육아', '파과 (리커버)'], '저자및출판사': ['설민석', '남이담', '정현희', '강석화', '단꿈아이', '흔한남매', '백난도', '유난희', '흔한컴퍼니', '미래엔아이세움', '심우철', '심슨북스', '아카사카 아카', '요코야리 멘고', '대원', '유발 하라리', '김명주', '김영사', '홍춘욱', '포르체', 'ETS', 'YBM(와이비엠)', '존 윌리엄스', '김승욱', '알에이치코리아(RHK)', '최태성', '이투스북 ', 'ETS', 'YBM(와이비엠)', '아카사카 아카', '요코야리 멘고', '대원', '스티븐 위트', '백우진', '알에이치코리아(RHK)', '김찬희(김진짜)', '터닝페이지', '주언규', '필름', '김종원', '퍼스트펭귄', '유선경', '앤의서재', '유선경', '위즈덤하우스', '미츠바치 미유키', '학산문화사', '정윤선', '시미씨', '풀빛', '폴 포돌스키', '고영훈', '필름', '김종원', '퍼스트펭귄', '문동균', '에스티유니타스', '로리(김준희)', '북로스트', '구병모', '위즈덤하우스'], '가격': ['12,600', '14,220', '12,960', '35,100', '25,020', '17,100', '17,820', '15,120', '14,400', '17,820', '7,110', '25,200', '16,650', '17,820', '16,200', '16,020', '21,420', '5,400', '13,500', '17,820', '17,100', '10,800', '19,980', '14,220']}, {'순위': [25, 26, 27, 28, 29, 30, 31, 32, 33, 34, 35, 36, 37, 38, 39, 40, 41, 42, 43, 44, 45, 46, 47, 48], '책제목': ['설민석의 한국사 대모험 33', '흔한남매 19', '2025 심우철 실전 동형 모의고사 Season 4', '최애의 아이 16 특별판', '넥서스', '돈의 흐름은 되풀이된다', 'ETS 토익 정기시험 기출문제집 1000 Vol. 4 RC', '스토너', '2025 큰별쌤 최태성의 별별한국사 한국사능력검정시험 심화(1,2,3급) 하', 'ETS 토익 정기시험 기출문제집 1000 Vol. 4 LC', '최애의 아이 16', '엔비디아 젠슨 황, 생각하는 기계', '진짜의 마인드', '혹시, 돈 얘기해도 될까요?', '너에게 들려주는 단단한 말', '질문의 격', '하루 한 장 나의 어휘력을 위한 필사 노트', '길고양이와 늑대 5 더블특전판', '과자 사면 과학 드립니다', '부의 전략 수업', '살아갈 날들을 위한 괴테의 시', '2025 문동균 한국사 지방직 대비 실전 봉투모의고사', '똑게육아', '파과 (리커버)'], '저자및출판사': ['설민석', '남이담', '정현희', '강석화', '단꿈아이', '흔한남매', '백난도', '유난희', '흔한컴퍼니', '미래엔아이세움', '심우철', '심슨북스', '아카사카 아카', '요코야리 멘고', '대원', '유발 하라리', '김명주', '김영사', '홍춘욱', '포르체', 'ETS', 'YBM(와이비엠)', '존 윌리엄스', '김승욱', '알에이치코리아(RHK)', '최태성', '이투스북 ', 'ETS', 'YBM(와이비엠)', '아카사카 아카', '요코야리 멘고', '대원', '스티븐 위트', '백우진', '알에이치코리아(RHK)', '김찬희(김진짜)', '터닝페이지', '주언규', '필름', '김종원', '퍼스트펭귄', '유선경', '앤의서재', '유선경', '위즈덤하우스', '미츠바치 미유키', '학산문화사', '정윤선', '시미씨', '풀빛', '폴 포돌스키', '고영훈', '필름', '김종원', '퍼스트펭귄', '문동균', '에스티유니타스', '로리(김준희)', '북로스트', '구병모', '위즈덤하우스'], '가격': ['12,600', '14,220', '12,960', '35,100', '25,020', '17,100', '17,820', '15,120', '14,400', '17,820', '7,110', '25,200', '16,650', '17,820', '16,200', '16,020', '21,420', '5,400', '13,500', '17,820', '17,100', '10,800', '19,980', '14,220']}, {'순위': [25, 26, 27, 28, 29, 30, 31, 32, 33, 34, 35, 36, 37, 38, 39, 40, 41, 42, 43, 44, 45, 46, 47, 48], '책제목': ['설민석의 한국사 대모험 33', '흔한남매 19', '2025 심우철 실전 동형 모의고사 Season 4', '최애의 아이 16 특별판', '넥서스', '돈의 흐름은 되풀이된다', 'ETS 토익 정기시험 기출문제집 1000 Vol. 4 RC', '스토너', '2025 큰별쌤 최태성의 별별한국사 한국사능력검정시험 심화(1,2,3급) 하', 'ETS 토익 정기시험 기출문제집 1000 Vol. 4 LC', '최애의 아이 16', '엔비디아 젠슨 황, 생각하는 기계', '진짜의 마인드', '혹시, 돈 얘기해도 될까요?', '너에게 들려주는 단단한 말', '질문의 격', '하루 한 장 나의 어휘력을 위한 필사 노트', '길고양이와 늑대 5 더블특전판', '과자 사면 과학 드립니다', '부의 전략 수업', '살아갈 날들을 위한 괴테의 시', '2025 문동균 한국사 지방직 대비 실전 봉투모의고사', '똑게육아', '파과 (리커버)'], '저자및출판사': ['설민석', '남이담', '정현희', '강석화', '단꿈아이', '흔한남매', '백난도', '유난희', '흔한컴퍼니', '미래엔아이세움', '심우철', '심슨북스', '아카사카 아카', '요코야리 멘고', '대원', '유발 하라리', '김명주', '김영사', '홍춘욱', '포르체', 'ETS', 'YBM(와이비엠)', '존 윌리엄스', '김승욱', '알에이치코리아(RHK)', '최태성', '이투스북 ', 'ETS', 'YBM(와이비엠)', '아카사카 아카', '요코야리 멘고', '대원', '스티븐 위트', '백우진', '알에이치코리아(RHK)', '김찬희(김진짜)', '터닝페이지', '주언규', '필름', '김종원', '퍼스트펭귄', '유선경', '앤의서재', '유선경', '위즈덤하우스', '미츠바치 미유키', '학산문화사', '정윤선', '시미씨', '풀빛', '폴 포돌스키', '고영훈', '필름', '김종원', '퍼스트펭귄', '문동균', '에스티유니타스', '로리(김준희)', '북로스트', '구병모', '위즈덤하우스'], '가격': ['12,600', '14,220', '12,960', '35,100', '25,020', '17,100', '17,820', '15,120', '14,400', '17,820', '7,110', '25,200', '16,650', '17,820', '16,200', '16,020', '21,420', '5,400', '13,500', '17,820', '17,100', '10,800', '19,980', '14,220']}, {'순위': [25, 26, 27, 28, 29, 30, 31, 32, 33, 34, 35, 36, 37, 38, 39, 40, 41, 42, 43, 44, 45, 46, 47, 48], '책제목': ['설민석의 한국사 대모험 33', '흔한남매 19', '2025 심우철 실전 동형 모의고사 Season 4', '최애의 아이 16 특별판', '넥서스', '돈의 흐름은 되풀이된다', 'ETS 토익 정기시험 기출문제집 1000 Vol. 4 RC', '스토너', '2025 큰별쌤 최태성의 별별한국사 한국사능력검정시험 심화(1,2,3급) 하', 'ETS 토익 정기시험 기출문제집 1000 Vol. 4 LC', '최애의 아이 16', '엔비디아 젠슨 황, 생각하는 기계', '진짜의 마인드', '혹시, 돈 얘기해도 될까요?', '너에게 들려주는 단단한 말', '질문의 격', '하루 한 장 나의 어휘력을 위한 필사 노트', '길고양이와 늑대 5 더블특전판', '과자 사면 과학 드립니다', '부의 전략 수업', '살아갈 날들을 위한 괴테의 시', '2025 문동균 한국사 지방직 대비 실전 봉투모의고사', '똑게육아', '파과 (리커버)'], '저자및출판사': ['설민석', '남이담', '정현희', '강석화', '단꿈아이', '흔한남매', '백난도', '유난희', '흔한컴퍼니', '미래엔아이세움', '심우철', '심슨북스', '아카사카 아카', '요코야리 멘고', '대원', '유발 하라리', '김명주', '김영사', '홍춘욱', '포르체', 'ETS', 'YBM(와이비엠)', '존 윌리엄스', '김승욱', '알에이치코리아(RHK)', '최태성', '이투스북 ', 'ETS', 'YBM(와이비엠)', '아카사카 아카', '요코야리 멘고', '대원', '스티븐 위트', '백우진', '알에이치코리아(RHK)', '김찬희(김진짜)', '터닝페이지', '주언규', '필름', '김종원', '퍼스트펭귄', '유선경', '앤의서재', '유선경', '위즈덤하우스', '미츠바치 미유키', '학산문화사', '정윤선', '시미씨', '풀빛', '폴 포돌스키', '고영훈', '필름', '김종원', '퍼스트펭귄', '문동균', '에스티유니타스', '로리(김준희)', '북로스트', '구병모', '위즈덤하우스'], '가격': ['12,600', '14,220', '12,960', '35,100', '25,020', '17,100', '17,820', '15,120', '14,400', '17,820', '7,110', '25,200', '16,650', '17,820', '16,200', '16,020', '21,420', '5,400', '13,500', '17,820', '17,100', '10,800', '19,980', '14,220']}, {'순위': [25, 26, 27, 28, 29, 30, 31, 32, 33, 34, 35, 36, 37, 38, 39, 40, 41, 42, 43, 44, 45, 46, 47, 48], '책제목': ['설민석의 한국사 대모험 33', '흔한남매 19', '2025 심우철 실전 동형 모의고사 Season 4', '최애의 아이 16 특별판', '넥서스', '돈의 흐름은 되풀이된다', 'ETS 토익 정기시험 기출문제집 1000 Vol. 4 RC', '스토너', '2025 큰별쌤 최태성의 별별한국사 한국사능력검정시험 심화(1,2,3급) 하', 'ETS 토익 정기시험 기출문제집 1000 Vol. 4 LC', '최애의 아이 16', '엔비디아 젠슨 황, 생각하는 기계', '진짜의 마인드', '혹시, 돈 얘기해도 될까요?', '너에게 들려주는 단단한 말', '질문의 격', '하루 한 장 나의 어휘력을 위한 필사 노트', '길고양이와 늑대 5 더블특전판', '과자 사면 과학 드립니다', '부의 전략 수업', '살아갈 날들을 위한 괴테의 시', '2025 문동균 한국사 지방직 대비 실전 봉투모의고사', '똑게육아', '파과 (리커버)'], '저자및출판사': ['설민석', '남이담', '정현희', '강석화', '단꿈아이', '흔한남매', '백난도', '유난희', '흔한컴퍼니', '미래엔아이세움', '심우철', '심슨북스', '아카사카 아카', '요코야리 멘고', '대원', '유발 하라리', '김명주', '김영사', '홍춘욱', '포르체', 'ETS', 'YBM(와이비엠)', '존 윌리엄스', '김승욱', '알에이치코리아(RHK)', '최태성', '이투스북 ', 'ETS', 'YBM(와이비엠)', '아카사카 아카', '요코야리 멘고', '대원', '스티븐 위트', '백우진', '알에이치코리아(RHK)', '김찬희(김진짜)', '터닝페이지', '주언규', '필름', '김종원', '퍼스트펭귄', '유선경', '앤의서재', '유선경', '위즈덤하우스', '미츠바치 미유키', '학산문화사', '정윤선', '시미씨', '풀빛', '폴 포돌스키', '고영훈', '필름', '김종원', '퍼스트펭귄', '문동균', '에스티유니타스', '로리(김준희)', '북로스트', '구병모', '위즈덤하우스'], '가격': ['12,600', '14,220', '12,960', '35,100', '25,020', '17,100', '17,820', '15,120', '14,400', '17,820', '7,110', '25,200', '16,650', '17,820', '16,200', '16,020', '21,420', '5,400', '13,500', '17,820', '17,100', '10,800', '19,980', '14,220']}, {'순위': [25, 26, 27, 28, 29, 30, 31, 32, 33, 34, 35, 36, 37, 38, 39, 40, 41, 42, 43, 44, 45, 46, 47, 48], '책제목': ['설민석의 한국사 대모험 33', '흔한남매 19', '2025 심우철 실전 동형 모의고사 Season 4', '최애의 아이 16 특별판', '넥서스', '돈의 흐름은 되풀이된다', 'ETS 토익 정기시험 기출문제집 1000 Vol. 4 RC', '스토너', '2025 큰별쌤 최태성의 별별한국사 한국사능력검정시험 심화(1,2,3급) 하', 'ETS 토익 정기시험 기출문제집 1000 Vol. 4 LC', '최애의 아이 16', '엔비디아 젠슨 황, 생각하는 기계', '진짜의 마인드', '혹시, 돈 얘기해도 될까요?', '너에게 들려주는 단단한 말', '질문의 격', '하루 한 장 나의 어휘력을 위한 필사 노트', '길고양이와 늑대 5 더블특전판', '과자 사면 과학 드립니다', '부의 전략 수업', '살아갈 날들을 위한 괴테의 시', '2025 문동균 한국사 지방직 대비 실전 봉투모의고사', '똑게육아', '파과 (리커버)'], '저자및출판사': ['설민석', '남이담', '정현희', '강석화', '단꿈아이', '흔한남매', '백난도', '유난희', '흔한컴퍼니', '미래엔아이세움', '심우철', '심슨북스', '아카사카 아카', '요코야리 멘고', '대원', '유발 하라리', '김명주', '김영사', '홍춘욱', '포르체', 'ETS', 'YBM(와이비엠)', '존 윌리엄스', '김승욱', '알에이치코리아(RHK)', '최태성', '이투스북 ', 'ETS', 'YBM(와이비엠)', '아카사카 아카', '요코야리 멘고', '대원', '스티븐 위트', '백우진', '알에이치코리아(RHK)', '김찬희(김진짜)', '터닝페이지', '주언규', '필름', '김종원', '퍼스트펭귄', '유선경', '앤의서재', '유선경', '위즈덤하우스', '미츠바치 미유키', '학산문화사', '정윤선', '시미씨', '풀빛', '폴 포돌스키', '고영훈', '필름', '김종원', '퍼스트펭귄', '문동균', '에스티유니타스', '로리(김준희)', '북로스트', '구병모', '위즈덤하우스'], '가격': ['12,600', '14,220', '12,960', '35,100', '25,020', '17,100', '17,820', '15,120', '14,400', '17,820', '7,110', '25,200', '16,650', '17,820', '16,200', '16,020', '21,420', '5,400', '13,500', '17,820', '17,100', '10,800', '19,980', '14,220']}, {'순위': [25, 26, 27, 28, 29, 30, 31, 32, 33, 34, 35, 36, 37, 38, 39, 40, 41, 42, 43, 44, 45, 46, 47, 48], '책제목': ['설민석의 한국사 대모험 33', '흔한남매 19', '2025 심우철 실전 동형 모의고사 Season 4', '최애의 아이 16 특별판', '넥서스', '돈의 흐름은 되풀이된다', 'ETS 토익 정기시험 기출문제집 1000 Vol. 4 RC', '스토너', '2025 큰별쌤 최태성의 별별한국사 한국사능력검정시험 심화(1,2,3급) 하', 'ETS 토익 정기시험 기출문제집 1000 Vol. 4 LC', '최애의 아이 16', '엔비디아 젠슨 황, 생각하는 기계', '진짜의 마인드', '혹시, 돈 얘기해도 될까요?', '너에게 들려주는 단단한 말', '질문의 격', '하루 한 장 나의 어휘력을 위한 필사 노트', '길고양이와 늑대 5 더블특전판', '과자 사면 과학 드립니다', '부의 전략 수업', '살아갈 날들을 위한 괴테의 시', '2025 문동균 한국사 지방직 대비 실전 봉투모의고사', '똑게육아', '파과 (리커버)'], '저자및출판사': ['설민석', '남이담', '정현희', '강석화', '단꿈아이', '흔한남매', '백난도', '유난희', '흔한컴퍼니', '미래엔아이세움', '심우철', '심슨북스', '아카사카 아카', '요코야리 멘고', '대원', '유발 하라리', '김명주', '김영사', '홍춘욱', '포르체', 'ETS', 'YBM(와이비엠)', '존 윌리엄스', '김승욱', '알에이치코리아(RHK)', '최태성', '이투스북 ', 'ETS', 'YBM(와이비엠)', '아카사카 아카', '요코야리 멘고', '대원', '스티븐 위트', '백우진', '알에이치코리아(RHK)', '김찬희(김진짜)', '터닝페이지', '주언규', '필름', '김종원', '퍼스트펭귄', '유선경', '앤의서재', '유선경', '위즈덤하우스', '미츠바치 미유키', '학산문화사', '정윤선', '시미씨', '풀빛', '폴 포돌스키', '고영훈', '필름', '김종원', '퍼스트펭귄', '문동균', '에스티유니타스', '로리(김준희)', '북로스트', '구병모', '위즈덤하우스'], '가격': ['12,600', '14,220', '12,960', '35,100', '25,020', '17,100', '17,820', '15,120', '14,400', '17,820', '7,110', '25,200', '16,650', '17,820', '16,200', '16,020', '21,420', '5,400', '13,500', '17,820', '17,100', '10,800', '19,980', '14,220']}, {'순위': [25, 26, 27, 28, 29, 30, 31, 32, 33, 34, 35, 36, 37, 38, 39, 40, 41, 42, 43, 44, 45, 46, 47, 48], '책제목': ['설민석의 한국사 대모험 33', '흔한남매 19', '2025 심우철 실전 동형 모의고사 Season 4', '최애의 아이 16 특별판', '넥서스', '돈의 흐름은 되풀이된다', 'ETS 토익 정기시험 기출문제집 1000 Vol. 4 RC', '스토너', '2025 큰별쌤 최태성의 별별한국사 한국사능력검정시험 심화(1,2,3급) 하', 'ETS 토익 정기시험 기출문제집 1000 Vol. 4 LC', '최애의 아이 16', '엔비디아 젠슨 황, 생각하는 기계', '진짜의 마인드', '혹시, 돈 얘기해도 될까요?', '너에게 들려주는 단단한 말', '질문의 격', '하루 한 장 나의 어휘력을 위한 필사 노트', '길고양이와 늑대 5 더블특전판', '과자 사면 과학 드립니다', '부의 전략 수업', '살아갈 날들을 위한 괴테의 시', '2025 문동균 한국사 지방직 대비 실전 봉투모의고사', '똑게육아', '파과 (리커버)'], '저자및출판사': ['설민석', '남이담', '정현희', '강석화', '단꿈아이', '흔한남매', '백난도', '유난희', '흔한컴퍼니', '미래엔아이세움', '심우철', '심슨북스', '아카사카 아카', '요코야리 멘고', '대원', '유발 하라리', '김명주', '김영사', '홍춘욱', '포르체', 'ETS', 'YBM(와이비엠)', '존 윌리엄스', '김승욱', '알에이치코리아(RHK)', '최태성', '이투스북 ', 'ETS', 'YBM(와이비엠)', '아카사카 아카', '요코야리 멘고', '대원', '스티븐 위트', '백우진', '알에이치코리아(RHK)', '김찬희(김진짜)', '터닝페이지', '주언규', '필름', '김종원', '퍼스트펭귄', '유선경', '앤의서재', '유선경', '위즈덤하우스', '미츠바치 미유키', '학산문화사', '정윤선', '시미씨', '풀빛', '폴 포돌스키', '고영훈', '필름', '김종원', '퍼스트펭귄', '문동균', '에스티유니타스', '로리(김준희)', '북로스트', '구병모', '위즈덤하우스'], '가격': ['12,600', '14,220', '12,960', '35,100', '25,020', '17,100', '17,820', '15,120', '14,400', '17,820', '7,110', '25,200', '16,650', '17,820', '16,200', '16,020', '21,420', '5,400', '13,500', '17,820', '17,100', '10,800', '19,980', '14,220']}, {'순위': [25, 26, 27, 28, 29, 30, 31, 32, 33, 34, 35, 36, 37, 38, 39, 40, 41, 42, 43, 44, 45, 46, 47, 48], '책제목': ['설민석의 한국사 대모험 33', '흔한남매 19', '2025 심우철 실전 동형 모의고사 Season 4', '최애의 아이 16 특별판', '넥서스', '돈의 흐름은 되풀이된다', 'ETS 토익 정기시험 기출문제집 1000 Vol. 4 RC', '스토너', '2025 큰별쌤 최태성의 별별한국사 한국사능력검정시험 심화(1,2,3급) 하', 'ETS 토익 정기시험 기출문제집 1000 Vol. 4 LC', '최애의 아이 16', '엔비디아 젠슨 황, 생각하는 기계', '진짜의 마인드', '혹시, 돈 얘기해도 될까요?', '너에게 들려주는 단단한 말', '질문의 격', '하루 한 장 나의 어휘력을 위한 필사 노트', '길고양이와 늑대 5 더블특전판', '과자 사면 과학 드립니다', '부의 전략 수업', '살아갈 날들을 위한 괴테의 시', '2025 문동균 한국사 지방직 대비 실전 봉투모의고사', '똑게육아', '파과 (리커버)'], '저자및출판사': ['설민석', '남이담', '정현희', '강석화', '단꿈아이', '흔한남매', '백난도', '유난희', '흔한컴퍼니', '미래엔아이세움', '심우철', '심슨북스', '아카사카 아카', '요코야리 멘고', '대원', '유발 하라리', '김명주', '김영사', '홍춘욱', '포르체', 'ETS', 'YBM(와이비엠)', '존 윌리엄스', '김승욱', '알에이치코리아(RHK)', '최태성', '이투스북 ', 'ETS', 'YBM(와이비엠)', '아카사카 아카', '요코야리 멘고', '대원', '스티븐 위트', '백우진', '알에이치코리아(RHK)', '김찬희(김진짜)', '터닝페이지', '주언규', '필름', '김종원', '퍼스트펭귄', '유선경', '앤의서재', '유선경', '위즈덤하우스', '미츠바치 미유키', '학산문화사', '정윤선', '시미씨', '풀빛', '폴 포돌스키', '고영훈', '필름', '김종원', '퍼스트펭귄', '문동균', '에스티유니타스', '로리(김준희)', '북로스트', '구병모', '위즈덤하우스'], '가격': ['12,600', '14,220', '12,960', '35,100', '25,020', '17,100', '17,820', '15,120', '14,400', '17,820', '7,110', '25,200', '16,650', '17,820', '16,200', '16,020', '21,420', '5,400', '13,500', '17,820', '17,100', '10,800', '19,980', '14,220']}, {'순위': [25, 26, 27, 28, 29, 30, 31, 32, 33, 34, 35, 36, 37, 38, 39, 40, 41, 42, 43, 44, 45, 46, 47, 48], '책제목': ['설민석의 한국사 대모험 33', '흔한남매 19', '2025 심우철 실전 동형 모의고사 Season 4', '최애의 아이 16 특별판', '넥서스', '돈의 흐름은 되풀이된다', 'ETS 토익 정기시험 기출문제집 1000 Vol. 4 RC', '스토너', '2025 큰별쌤 최태성의 별별한국사 한국사능력검정시험 심화(1,2,3급) 하', 'ETS 토익 정기시험 기출문제집 1000 Vol. 4 LC', '최애의 아이 16', '엔비디아 젠슨 황, 생각하는 기계', '진짜의 마인드', '혹시, 돈 얘기해도 될까요?', '너에게 들려주는 단단한 말', '질문의 격', '하루 한 장 나의 어휘력을 위한 필사 노트', '길고양이와 늑대 5 더블특전판', '과자 사면 과학 드립니다', '부의 전략 수업', '살아갈 날들을 위한 괴테의 시', '2025 문동균 한국사 지방직 대비 실전 봉투모의고사', '똑게육아', '파과 (리커버)'], '저자및출판사': ['설민석', '남이담', '정현희', '강석화', '단꿈아이', '흔한남매', '백난도', '유난희', '흔한컴퍼니', '미래엔아이세움', '심우철', '심슨북스', '아카사카 아카', '요코야리 멘고', '대원', '유발 하라리', '김명주', '김영사', '홍춘욱', '포르체', 'ETS', 'YBM(와이비엠)', '존 윌리엄스', '김승욱', '알에이치코리아(RHK)', '최태성', '이투스북 ', 'ETS', 'YBM(와이비엠)', '아카사카 아카', '요코야리 멘고', '대원', '스티븐 위트', '백우진', '알에이치코리아(RHK)', '김찬희(김진짜)', '터닝페이지', '주언규', '필름', '김종원', '퍼스트펭귄', '유선경', '앤의서재', '유선경', '위즈덤하우스', '미츠바치 미유키', '학산문화사', '정윤선', '시미씨', '풀빛', '폴 포돌스키', '고영훈', '필름', '김종원', '퍼스트펭귄', '문동균', '에스티유니타스', '로리(김준희)', '북로스트', '구병모', '위즈덤하우스'], '가격': ['12,600', '14,220', '12,960', '35,100', '25,020', '17,100', '17,820', '15,120', '14,400', '17,820', '7,110', '25,200', '16,650', '17,820', '16,200', '16,020', '21,420', '5,400', '13,500', '17,820', '17,100', '10,800', '19,980', '14,220']}, {'순위': [25, 26, 27, 28, 29, 30, 31, 32, 33, 34, 35, 36, 37, 38, 39, 40, 41, 42, 43, 44, 45, 46, 47, 48], '책제목': ['설민석의 한국사 대모험 33', '흔한남매 19', '2025 심우철 실전 동형 모의고사 Season 4', '최애의 아이 16 특별판', '넥서스', '돈의 흐름은 되풀이된다', 'ETS 토익 정기시험 기출문제집 1000 Vol. 4 RC', '스토너', '2025 큰별쌤 최태성의 별별한국사 한국사능력검정시험 심화(1,2,3급) 하', 'ETS 토익 정기시험 기출문제집 1000 Vol. 4 LC', '최애의 아이 16', '엔비디아 젠슨 황, 생각하는 기계', '진짜의 마인드', '혹시, 돈 얘기해도 될까요?', '너에게 들려주는 단단한 말', '질문의 격', '하루 한 장 나의 어휘력을 위한 필사 노트', '길고양이와 늑대 5 더블특전판', '과자 사면 과학 드립니다', '부의 전략 수업', '살아갈 날들을 위한 괴테의 시', '2025 문동균 한국사 지방직 대비 실전 봉투모의고사', '똑게육아', '파과 (리커버)'], '저자및출판사': ['설민석', '남이담', '정현희', '강석화', '단꿈아이', '흔한남매', '백난도', '유난희', '흔한컴퍼니', '미래엔아이세움', '심우철', '심슨북스', '아카사카 아카', '요코야리 멘고', '대원', '유발 하라리', '김명주', '김영사', '홍춘욱', '포르체', 'ETS', 'YBM(와이비엠)', '존 윌리엄스', '김승욱', '알에이치코리아(RHK)', '최태성', '이투스북 ', 'ETS', 'YBM(와이비엠)', '아카사카 아카', '요코야리 멘고', '대원', '스티븐 위트', '백우진', '알에이치코리아(RHK)', '김찬희(김진짜)', '터닝페이지', '주언규', '필름', '김종원', '퍼스트펭귄', '유선경', '앤의서재', '유선경', '위즈덤하우스', '미츠바치 미유키', '학산문화사', '정윤선', '시미씨', '풀빛', '폴 포돌스키', '고영훈', '필름', '김종원', '퍼스트펭귄', '문동균', '에스티유니타스', '로리(김준희)', '북로스트', '구병모', '위즈덤하우스'], '가격': ['12,600', '14,220', '12,960', '35,100', '25,020', '17,100', '17,820', '15,120', '14,400', '17,820', '7,110', '25,200', '16,650', '17,820', '16,200', '16,020', '21,420', '5,400', '13,500', '17,820', '17,100', '10,800', '19,980', '14,220']}, {'순위': [25, 26, 27, 28, 29, 30, 31, 32, 33, 34, 35, 36, 37, 38, 39, 40, 41, 42, 43, 44, 45, 46, 47, 48], '책제목': ['설민석의 한국사 대모험 33', '흔한남매 19', '2025 심우철 실전 동형 모의고사 Season 4', '최애의 아이 16 특별판', '넥서스', '돈의 흐름은 되풀이된다', 'ETS 토익 정기시험 기출문제집 1000 Vol. 4 RC', '스토너', '2025 큰별쌤 최태성의 별별한국사 한국사능력검정시험 심화(1,2,3급) 하', 'ETS 토익 정기시험 기출문제집 1000 Vol. 4 LC', '최애의 아이 16', '엔비디아 젠슨 황, 생각하는 기계', '진짜의 마인드', '혹시, 돈 얘기해도 될까요?', '너에게 들려주는 단단한 말', '질문의 격', '하루 한 장 나의 어휘력을 위한 필사 노트', '길고양이와 늑대 5 더블특전판', '과자 사면 과학 드립니다', '부의 전략 수업', '살아갈 날들을 위한 괴테의 시', '2025 문동균 한국사 지방직 대비 실전 봉투모의고사', '똑게육아', '파과 (리커버)'], '저자및출판사': ['설민석', '남이담', '정현희', '강석화', '단꿈아이', '흔한남매', '백난도', '유난희', '흔한컴퍼니', '미래엔아이세움', '심우철', '심슨북스', '아카사카 아카', '요코야리 멘고', '대원', '유발 하라리', '김명주', '김영사', '홍춘욱', '포르체', 'ETS', 'YBM(와이비엠)', '존 윌리엄스', '김승욱', '알에이치코리아(RHK)', '최태성', '이투스북 ', 'ETS', 'YBM(와이비엠)', '아카사카 아카', '요코야리 멘고', '대원', '스티븐 위트', '백우진', '알에이치코리아(RHK)', '김찬희(김진짜)', '터닝페이지', '주언규', '필름', '김종원', '퍼스트펭귄', '유선경', '앤의서재', '유선경', '위즈덤하우스', '미츠바치 미유키', '학산문화사', '정윤선', '시미씨', '풀빛', '폴 포돌스키', '고영훈', '필름', '김종원', '퍼스트펭귄', '문동균', '에스티유니타스', '로리(김준희)', '북로스트', '구병모', '위즈덤하우스'], '가격': ['12,600', '14,220', '12,960', '35,100', '25,020', '17,100', '17,820', '15,120', '14,400', '17,820', '7,110', '25,200', '16,650', '17,820', '16,200', '16,020', '21,420', '5,400', '13,500', '17,820', '17,100', '10,800', '19,980', '14,220']}, {'순위': [25, 26, 27, 28, 29, 30, 31, 32, 33, 34, 35, 36, 37, 38, 39, 40, 41, 42, 43, 44, 45, 46, 47, 48], '책제목': ['설민석의 한국사 대모험 33', '흔한남매 19', '2025 심우철 실전 동형 모의고사 Season 4', '최애의 아이 16 특별판', '넥서스', '돈의 흐름은 되풀이된다', 'ETS 토익 정기시험 기출문제집 1000 Vol. 4 RC', '스토너', '2025 큰별쌤 최태성의 별별한국사 한국사능력검정시험 심화(1,2,3급) 하', 'ETS 토익 정기시험 기출문제집 1000 Vol. 4 LC', '최애의 아이 16', '엔비디아 젠슨 황, 생각하는 기계', '진짜의 마인드', '혹시, 돈 얘기해도 될까요?', '너에게 들려주는 단단한 말', '질문의 격', '하루 한 장 나의 어휘력을 위한 필사 노트', '길고양이와 늑대 5 더블특전판', '과자 사면 과학 드립니다', '부의 전략 수업', '살아갈 날들을 위한 괴테의 시', '2025 문동균 한국사 지방직 대비 실전 봉투모의고사', '똑게육아', '파과 (리커버)'], '저자및출판사': ['설민석', '남이담', '정현희', '강석화', '단꿈아이', '흔한남매', '백난도', '유난희', '흔한컴퍼니', '미래엔아이세움', '심우철', '심슨북스', '아카사카 아카', '요코야리 멘고', '대원', '유발 하라리', '김명주', '김영사', '홍춘욱', '포르체', 'ETS', 'YBM(와이비엠)', '존 윌리엄스', '김승욱', '알에이치코리아(RHK)', '최태성', '이투스북 ', 'ETS', 'YBM(와이비엠)', '아카사카 아카', '요코야리 멘고', '대원', '스티븐 위트', '백우진', '알에이치코리아(RHK)', '김찬희(김진짜)', '터닝페이지', '주언규', '필름', '김종원', '퍼스트펭귄', '유선경', '앤의서재', '유선경', '위즈덤하우스', '미츠바치 미유키', '학산문화사', '정윤선', '시미씨', '풀빛', '폴 포돌스키', '고영훈', '필름', '김종원', '퍼스트펭귄', '문동균', '에스티유니타스', '로리(김준희)', '북로스트', '구병모', '위즈덤하우스'], '가격': ['12,600', '14,220', '12,960', '35,100', '25,020', '17,100', '17,820', '15,120', '14,400', '17,820', '7,110', '25,200', '16,650', '17,820', '16,200', '16,020', '21,420', '5,400', '13,500', '17,820', '17,100', '10,800', '19,980', '14,220']}, {'순위': [25, 26, 27, 28, 29, 30, 31, 32, 33, 34, 35, 36, 37, 38, 39, 40, 41, 42, 43, 44, 45, 46, 47, 48], '책제목': ['설민석의 한국사 대모험 33', '흔한남매 19', '2025 심우철 실전 동형 모의고사 Season 4', '최애의 아이 16 특별판', '넥서스', '돈의 흐름은 되풀이된다', 'ETS 토익 정기시험 기출문제집 1000 Vol. 4 RC', '스토너', '2025 큰별쌤 최태성의 별별한국사 한국사능력검정시험 심화(1,2,3급) 하', 'ETS 토익 정기시험 기출문제집 1000 Vol. 4 LC', '최애의 아이 16', '엔비디아 젠슨 황, 생각하는 기계', '진짜의 마인드', '혹시, 돈 얘기해도 될까요?', '너에게 들려주는 단단한 말', '질문의 격', '하루 한 장 나의 어휘력을 위한 필사 노트', '길고양이와 늑대 5 더블특전판', '과자 사면 과학 드립니다', '부의 전략 수업', '살아갈 날들을 위한 괴테의 시', '2025 문동균 한국사 지방직 대비 실전 봉투모의고사', '똑게육아', '파과 (리커버)'], '저자및출판사': ['설민석', '남이담', '정현희', '강석화', '단꿈아이', '흔한남매', '백난도', '유난희', '흔한컴퍼니', '미래엔아이세움', '심우철', '심슨북스', '아카사카 아카', '요코야리 멘고', '대원', '유발 하라리', '김명주', '김영사', '홍춘욱', '포르체', 'ETS', 'YBM(와이비엠)', '존 윌리엄스', '김승욱', '알에이치코리아(RHK)', '최태성', '이투스북 ', 'ETS', 'YBM(와이비엠)', '아카사카 아카', '요코야리 멘고', '대원', '스티븐 위트', '백우진', '알에이치코리아(RHK)', '김찬희(김진짜)', '터닝페이지', '주언규', '필름', '김종원', '퍼스트펭귄', '유선경', '앤의서재', '유선경', '위즈덤하우스', '미츠바치 미유키', '학산문화사', '정윤선', '시미씨', '풀빛', '폴 포돌스키', '고영훈', '필름', '김종원', '퍼스트펭귄', '문동균', '에스티유니타스', '로리(김준희)', '북로스트', '구병모', '위즈덤하우스'], '가격': ['12,600', '14,220', '12,960', '35,100', '25,020', '17,100', '17,820', '15,120', '14,400', '17,820', '7,110', '25,200', '16,650', '17,820', '16,200', '16,020', '21,420', '5,400', '13,500', '17,820', '17,100', '10,800', '19,980', '14,220']}, {'순위': [25, 26, 27, 28, 29, 30, 31, 32, 33, 34, 35, 36, 37, 38, 39, 40, 41, 42, 43, 44, 45, 46, 47, 48], '책제목': ['설민석의 한국사 대모험 33', '흔한남매 19', '2025 심우철 실전 동형 모의고사 Season 4', '최애의 아이 16 특별판', '넥서스', '돈의 흐름은 되풀이된다', 'ETS 토익 정기시험 기출문제집 1000 Vol. 4 RC', '스토너', '2025 큰별쌤 최태성의 별별한국사 한국사능력검정시험 심화(1,2,3급) 하', 'ETS 토익 정기시험 기출문제집 1000 Vol. 4 LC', '최애의 아이 16', '엔비디아 젠슨 황, 생각하는 기계', '진짜의 마인드', '혹시, 돈 얘기해도 될까요?', '너에게 들려주는 단단한 말', '질문의 격', '하루 한 장 나의 어휘력을 위한 필사 노트', '길고양이와 늑대 5 더블특전판', '과자 사면 과학 드립니다', '부의 전략 수업', '살아갈 날들을 위한 괴테의 시', '2025 문동균 한국사 지방직 대비 실전 봉투모의고사', '똑게육아', '파과 (리커버)'], '저자및출판사': ['설민석', '남이담', '정현희', '강석화', '단꿈아이', '흔한남매', '백난도', '유난희', '흔한컴퍼니', '미래엔아이세움', '심우철', '심슨북스', '아카사카 아카', '요코야리 멘고', '대원', '유발 하라리', '김명주', '김영사', '홍춘욱', '포르체', 'ETS', 'YBM(와이비엠)', '존 윌리엄스', '김승욱', '알에이치코리아(RHK)', '최태성', '이투스북 ', 'ETS', 'YBM(와이비엠)', '아카사카 아카', '요코야리 멘고', '대원', '스티븐 위트', '백우진', '알에이치코리아(RHK)', '김찬희(김진짜)', '터닝페이지', '주언규', '필름', '김종원', '퍼스트펭귄', '유선경', '앤의서재', '유선경', '위즈덤하우스', '미츠바치 미유키', '학산문화사', '정윤선', '시미씨', '풀빛', '폴 포돌스키', '고영훈', '필름', '김종원', '퍼스트펭귄', '문동균', '에스티유니타스', '로리(김준희)', '북로스트', '구병모', '위즈덤하우스'], '가격': ['12,600', '14,220', '12,960', '35,100', '25,020', '17,100', '17,820', '15,120', '14,400', '17,820', '7,110', '25,200', '16,650', '17,820', '16,200', '16,020', '21,420', '5,400', '13,500', '17,820', '17,100', '10,800', '19,980', '14,220']}, {'순위': [25, 26, 27, 28, 29, 30, 31, 32, 33, 34, 35, 36, 37, 38, 39, 40, 41, 42, 43, 44, 45, 46, 47, 48], '책제목': ['설민석의 한국사 대모험 33', '흔한남매 19', '2025 심우철 실전 동형 모의고사 Season 4', '최애의 아이 16 특별판', '넥서스', '돈의 흐름은 되풀이된다', 'ETS 토익 정기시험 기출문제집 1000 Vol. 4 RC', '스토너', '2025 큰별쌤 최태성의 별별한국사 한국사능력검정시험 심화(1,2,3급) 하', 'ETS 토익 정기시험 기출문제집 1000 Vol. 4 LC', '최애의 아이 16', '엔비디아 젠슨 황, 생각하는 기계', '진짜의 마인드', '혹시, 돈 얘기해도 될까요?', '너에게 들려주는 단단한 말', '질문의 격', '하루 한 장 나의 어휘력을 위한 필사 노트', '길고양이와 늑대 5 더블특전판', '과자 사면 과학 드립니다', '부의 전략 수업', '살아갈 날들을 위한 괴테의 시', '2025 문동균 한국사 지방직 대비 실전 봉투모의고사', '똑게육아', '파과 (리커버)'], '저자및출판사': ['설민석', '남이담', '정현희', '강석화', '단꿈아이', '흔한남매', '백난도', '유난희', '흔한컴퍼니', '미래엔아이세움', '심우철', '심슨북스', '아카사카 아카', '요코야리 멘고', '대원', '유발 하라리', '김명주', '김영사', '홍춘욱', '포르체', 'ETS', 'YBM(와이비엠)', '존 윌리엄스', '김승욱', '알에이치코리아(RHK)', '최태성', '이투스북 ', 'ETS', 'YBM(와이비엠)', '아카사카 아카', '요코야리 멘고', '대원', '스티븐 위트', '백우진', '알에이치코리아(RHK)', '김찬희(김진짜)', '터닝페이지', '주언규', '필름', '김종원', '퍼스트펭귄', '유선경', '앤의서재', '유선경', '위즈덤하우스', '미츠바치 미유키', '학산문화사', '정윤선', '시미씨', '풀빛', '폴 포돌스키', '고영훈', '필름', '김종원', '퍼스트펭귄', '문동균', '에스티유니타스', '로리(김준희)', '북로스트', '구병모', '위즈덤하우스'], '가격': ['12,600', '14,220', '12,960', '35,100', '25,020', '17,100', '17,820', '15,120', '14,400', '17,820', '7,110', '25,200', '16,650', '17,820', '16,200', '16,020', '21,420', '5,400', '13,500', '17,820', '17,100', '10,800', '19,980', '14,220']}, {'순위': [25, 26, 27, 28, 29, 30, 31, 32, 33, 34, 35, 36, 37, 38, 39, 40, 41, 42, 43, 44, 45, 46, 47, 48], '책제목': ['설민석의 한국사 대모험 33', '흔한남매 19', '2025 심우철 실전 동형 모의고사 Season 4', '최애의 아이 16 특별판', '넥서스', '돈의 흐름은 되풀이된다', 'ETS 토익 정기시험 기출문제집 1000 Vol. 4 RC', '스토너', '2025 큰별쌤 최태성의 별별한국사 한국사능력검정시험 심화(1,2,3급) 하', 'ETS 토익 정기시험 기출문제집 1000 Vol. 4 LC', '최애의 아이 16', '엔비디아 젠슨 황, 생각하는 기계', '진짜의 마인드', '혹시, 돈 얘기해도 될까요?', '너에게 들려주는 단단한 말', '질문의 격', '하루 한 장 나의 어휘력을 위한 필사 노트', '길고양이와 늑대 5 더블특전판', '과자 사면 과학 드립니다', '부의 전략 수업', '살아갈 날들을 위한 괴테의 시', '2025 문동균 한국사 지방직 대비 실전 봉투모의고사', '똑게육아', '파과 (리커버)'], '저자및출판사': ['설민석', '남이담', '정현희', '강석화', '단꿈아이', '흔한남매', '백난도', '유난희', '흔한컴퍼니', '미래엔아이세움', '심우철', '심슨북스', '아카사카 아카', '요코야리 멘고', '대원', '유발 하라리', '김명주', '김영사', '홍춘욱', '포르체', 'ETS', 'YBM(와이비엠)', '존 윌리엄스', '김승욱', '알에이치코리아(RHK)', '최태성', '이투스북 ', 'ETS', 'YBM(와이비엠)', '아카사카 아카', '요코야리 멘고', '대원', '스티븐 위트', '백우진', '알에이치코리아(RHK)', '김찬희(김진짜)', '터닝페이지', '주언규', '필름', '김종원', '퍼스트펭귄', '유선경', '앤의서재', '유선경', '위즈덤하우스', '미츠바치 미유키', '학산문화사', '정윤선', '시미씨', '풀빛', '폴 포돌스키', '고영훈', '필름', '김종원', '퍼스트펭귄', '문동균', '에스티유니타스', '로리(김준희)', '북로스트', '구병모', '위즈덤하우스'], '가격': ['12,600', '14,220', '12,960', '35,100', '25,020', '17,100', '17,820', '15,120', '14,400', '17,820', '7,110', '25,200', '16,650', '17,820', '16,200', '16,020', '21,420', '5,400', '13,500', '17,820', '17,100', '10,800', '19,980', '14,220']}, {'순위': [25, 26, 27, 28, 29, 30, 31, 32, 33, 34, 35, 36, 37, 38, 39, 40, 41, 42, 43, 44, 45, 46, 47, 48], '책제목': ['설민석의 한국사 대모험 33', '흔한남매 19', '2025 심우철 실전 동형 모의고사 Season 4', '최애의 아이 16 특별판', '넥서스', '돈의 흐름은 되풀이된다', 'ETS 토익 정기시험 기출문제집 1000 Vol. 4 RC', '스토너', '2025 큰별쌤 최태성의 별별한국사 한국사능력검정시험 심화(1,2,3급) 하', 'ETS 토익 정기시험 기출문제집 1000 Vol. 4 LC', '최애의 아이 16', '엔비디아 젠슨 황, 생각하는 기계', '진짜의 마인드', '혹시, 돈 얘기해도 될까요?', '너에게 들려주는 단단한 말', '질문의 격', '하루 한 장 나의 어휘력을 위한 필사 노트', '길고양이와 늑대 5 더블특전판', '과자 사면 과학 드립니다', '부의 전략 수업', '살아갈 날들을 위한 괴테의 시', '2025 문동균 한국사 지방직 대비 실전 봉투모의고사', '똑게육아', '파과 (리커버)'], '저자및출판사': ['설민석', '남이담', '정현희', '강석화', '단꿈아이', '흔한남매', '백난도', '유난희', '흔한컴퍼니', '미래엔아이세움', '심우철', '심슨북스', '아카사카 아카', '요코야리 멘고', '대원', '유발 하라리', '김명주', '김영사', '홍춘욱', '포르체', 'ETS', 'YBM(와이비엠)', '존 윌리엄스', '김승욱', '알에이치코리아(RHK)', '최태성', '이투스북 ', 'ETS', 'YBM(와이비엠)', '아카사카 아카', '요코야리 멘고', '대원', '스티븐 위트', '백우진', '알에이치코리아(RHK)', '김찬희(김진짜)', '터닝페이지', '주언규', '필름', '김종원', '퍼스트펭귄', '유선경', '앤의서재', '유선경', '위즈덤하우스', '미츠바치 미유키', '학산문화사', '정윤선', '시미씨', '풀빛', '폴 포돌스키', '고영훈', '필름', '김종원', '퍼스트펭귄', '문동균', '에스티유니타스', '로리(김준희)', '북로스트', '구병모', '위즈덤하우스'], '가격': ['12,600', '14,220', '12,960', '35,100', '25,020', '17,100', '17,820', '15,120', '14,400', '17,820', '7,110', '25,200', '16,650', '17,820', '16,200', '16,020', '21,420', '5,400', '13,500', '17,820', '17,100', '10,800', '19,980', '14,220']}, {'순위': [25, 26, 27, 28, 29, 30, 31, 32, 33, 34, 35, 36, 37, 38, 39, 40, 41, 42, 43, 44, 45, 46, 47, 48], '책제목': ['설민석의 한국사 대모험 33', '흔한남매 19', '2025 심우철 실전 동형 모의고사 Season 4', '최애의 아이 16 특별판', '넥서스', '돈의 흐름은 되풀이된다', 'ETS 토익 정기시험 기출문제집 1000 Vol. 4 RC', '스토너', '2025 큰별쌤 최태성의 별별한국사 한국사능력검정시험 심화(1,2,3급) 하', 'ETS 토익 정기시험 기출문제집 1000 Vol. 4 LC', '최애의 아이 16', '엔비디아 젠슨 황, 생각하는 기계', '진짜의 마인드', '혹시, 돈 얘기해도 될까요?', '너에게 들려주는 단단한 말', '질문의 격', '하루 한 장 나의 어휘력을 위한 필사 노트', '길고양이와 늑대 5 더블특전판', '과자 사면 과학 드립니다', '부의 전략 수업', '살아갈 날들을 위한 괴테의 시', '2025 문동균 한국사 지방직 대비 실전 봉투모의고사', '똑게육아', '파과 (리커버)'], '저자및출판사': ['설민석', '남이담', '정현희', '강석화', '단꿈아이', '흔한남매', '백난도', '유난희', '흔한컴퍼니', '미래엔아이세움', '심우철', '심슨북스', '아카사카 아카', '요코야리 멘고', '대원', '유발 하라리', '김명주', '김영사', '홍춘욱', '포르체', 'ETS', 'YBM(와이비엠)', '존 윌리엄스', '김승욱', '알에이치코리아(RHK)', '최태성', '이투스북 ', 'ETS', 'YBM(와이비엠)', '아카사카 아카', '요코야리 멘고', '대원', '스티븐 위트', '백우진', '알에이치코리아(RHK)', '김찬희(김진짜)', '터닝페이지', '주언규', '필름', '김종원', '퍼스트펭귄', '유선경', '앤의서재', '유선경', '위즈덤하우스', '미츠바치 미유키', '학산문화사', '정윤선', '시미씨', '풀빛', '폴 포돌스키', '고영훈', '필름', '김종원', '퍼스트펭귄', '문동균', '에스티유니타스', '로리(김준희)', '북로스트', '구병모', '위즈덤하우스'], '가격': ['12,600', '14,220', '12,960', '35,100', '25,020', '17,100', '17,820', '15,120', '14,400', '17,820', '7,110', '25,200', '16,650', '17,820', '16,200', '16,020', '21,420', '5,400', '13,500', '17,820', '17,100', '10,800', '19,980', '14,220']}, {'순위': [25, 26, 27, 28, 29, 30, 31, 32, 33, 34, 35, 36, 37, 38, 39, 40, 41, 42, 43, 44, 45, 46, 47, 48], '책제목': ['설민석의 한국사 대모험 33', '흔한남매 19', '2025 심우철 실전 동형 모의고사 Season 4', '최애의 아이 16 특별판', '넥서스', '돈의 흐름은 되풀이된다', 'ETS 토익 정기시험 기출문제집 1000 Vol. 4 RC', '스토너', '2025 큰별쌤 최태성의 별별한국사 한국사능력검정시험 심화(1,2,3급) 하', 'ETS 토익 정기시험 기출문제집 1000 Vol. 4 LC', '최애의 아이 16', '엔비디아 젠슨 황, 생각하는 기계', '진짜의 마인드', '혹시, 돈 얘기해도 될까요?', '너에게 들려주는 단단한 말', '질문의 격', '하루 한 장 나의 어휘력을 위한 필사 노트', '길고양이와 늑대 5 더블특전판', '과자 사면 과학 드립니다', '부의 전략 수업', '살아갈 날들을 위한 괴테의 시', '2025 문동균 한국사 지방직 대비 실전 봉투모의고사', '똑게육아', '파과 (리커버)'], '저자및출판사': ['설민석', '남이담', '정현희', '강석화', '단꿈아이', '흔한남매', '백난도', '유난희', '흔한컴퍼니', '미래엔아이세움', '심우철', '심슨북스', '아카사카 아카', '요코야리 멘고', '대원', '유발 하라리', '김명주', '김영사', '홍춘욱', '포르체', 'ETS', 'YBM(와이비엠)', '존 윌리엄스', '김승욱', '알에이치코리아(RHK)', '최태성', '이투스북 ', 'ETS', 'YBM(와이비엠)', '아카사카 아카', '요코야리 멘고', '대원', '스티븐 위트', '백우진', '알에이치코리아(RHK)', '김찬희(김진짜)', '터닝페이지', '주언규', '필름', '김종원', '퍼스트펭귄', '유선경', '앤의서재', '유선경', '위즈덤하우스', '미츠바치 미유키', '학산문화사', '정윤선', '시미씨', '풀빛', '폴 포돌스키', '고영훈', '필름', '김종원', '퍼스트펭귄', '문동균', '에스티유니타스', '로리(김준희)', '북로스트', '구병모', '위즈덤하우스'], '가격': ['12,600', '14,220', '12,960', '35,100', '25,020', '17,100', '17,820', '15,120', '14,400', '17,820', '7,110', '25,200', '16,650', '17,820', '16,200', '16,020', '21,420', '5,400', '13,500', '17,820', '17,100', '10,800', '19,980', '14,220']}, {'순위': [25, 26, 27, 28, 29, 30, 31, 32, 33, 34, 35, 36, 37, 38, 39, 40, 41, 42, 43, 44, 45, 46, 47, 48], '책제목': ['설민석의 한국사 대모험 33', '흔한남매 19', '2025 심우철 실전 동형 모의고사 Season 4', '최애의 아이 16 특별판', '넥서스', '돈의 흐름은 되풀이된다', 'ETS 토익 정기시험 기출문제집 1000 Vol. 4 RC', '스토너', '2025 큰별쌤 최태성의 별별한국사 한국사능력검정시험 심화(1,2,3급) 하', 'ETS 토익 정기시험 기출문제집 1000 Vol. 4 LC', '최애의 아이 16', '엔비디아 젠슨 황, 생각하는 기계', '진짜의 마인드', '혹시, 돈 얘기해도 될까요?', '너에게 들려주는 단단한 말', '질문의 격', '하루 한 장 나의 어휘력을 위한 필사 노트', '길고양이와 늑대 5 더블특전판', '과자 사면 과학 드립니다', '부의 전략 수업', '살아갈 날들을 위한 괴테의 시', '2025 문동균 한국사 지방직 대비 실전 봉투모의고사', '똑게육아', '파과 (리커버)'], '저자및출판사': ['설민석', '남이담', '정현희', '강석화', '단꿈아이', '흔한남매', '백난도', '유난희', '흔한컴퍼니', '미래엔아이세움', '심우철', '심슨북스', '아카사카 아카', '요코야리 멘고', '대원', '유발 하라리', '김명주', '김영사', '홍춘욱', '포르체', 'ETS', 'YBM(와이비엠)', '존 윌리엄스', '김승욱', '알에이치코리아(RHK)', '최태성', '이투스북 ', 'ETS', 'YBM(와이비엠)', '아카사카 아카', '요코야리 멘고', '대원', '스티븐 위트', '백우진', '알에이치코리아(RHK)', '김찬희(김진짜)', '터닝페이지', '주언규', '필름', '김종원', '퍼스트펭귄', '유선경', '앤의서재', '유선경', '위즈덤하우스', '미츠바치 미유키', '학산문화사', '정윤선', '시미씨', '풀빛', '폴 포돌스키', '고영훈', '필름', '김종원', '퍼스트펭귄', '문동균', '에스티유니타스', '로리(김준희)', '북로스트', '구병모', '위즈덤하우스'], '가격': ['12,600', '14,220', '12,960', '35,100', '25,020', '17,100', '17,820', '15,120', '14,400', '17,820', '7,110', '25,200', '16,650', '17,820', '16,200', '16,020', '21,420', '5,400', '13,500', '17,820', '17,100', '10,800', '19,980', '14,220']}, {'순위': [25, 26, 27, 28, 29, 30, 31, 32, 33, 34, 35, 36, 37, 38, 39, 40, 41, 42, 43, 44, 45, 46, 47, 48], '책제목': ['설민석의 한국사 대모험 33', '흔한남매 19', '2025 심우철 실전 동형 모의고사 Season 4', '최애의 아이 16 특별판', '넥서스', '돈의 흐름은 되풀이된다', 'ETS 토익 정기시험 기출문제집 1000 Vol. 4 RC', '스토너', '2025 큰별쌤 최태성의 별별한국사 한국사능력검정시험 심화(1,2,3급) 하', 'ETS 토익 정기시험 기출문제집 1000 Vol. 4 LC', '최애의 아이 16', '엔비디아 젠슨 황, 생각하는 기계', '진짜의 마인드', '혹시, 돈 얘기해도 될까요?', '너에게 들려주는 단단한 말', '질문의 격', '하루 한 장 나의 어휘력을 위한 필사 노트', '길고양이와 늑대 5 더블특전판', '과자 사면 과학 드립니다', '부의 전략 수업', '살아갈 날들을 위한 괴테의 시', '2025 문동균 한국사 지방직 대비 실전 봉투모의고사', '똑게육아', '파과 (리커버)'], '저자및출판사': ['설민석', '남이담', '정현희', '강석화', '단꿈아이', '흔한남매', '백난도', '유난희', '흔한컴퍼니', '미래엔아이세움', '심우철', '심슨북스', '아카사카 아카', '요코야리 멘고', '대원', '유발 하라리', '김명주', '김영사', '홍춘욱', '포르체', 'ETS', 'YBM(와이비엠)', '존 윌리엄스', '김승욱', '알에이치코리아(RHK)', '최태성', '이투스북 ', 'ETS', 'YBM(와이비엠)', '아카사카 아카', '요코야리 멘고', '대원', '스티븐 위트', '백우진', '알에이치코리아(RHK)', '김찬희(김진짜)', '터닝페이지', '주언규', '필름', '김종원', '퍼스트펭귄', '유선경', '앤의서재', '유선경', '위즈덤하우스', '미츠바치 미유키', '학산문화사', '정윤선', '시미씨', '풀빛', '폴 포돌스키', '고영훈', '필름', '김종원', '퍼스트펭귄', '문동균', '에스티유니타스', '로리(김준희)', '북로스트', '구병모', '위즈덤하우스'], '가격': ['12,600', '14,220', '12,960', '35,100', '25,020', '17,100', '17,820', '15,120', '14,400', '17,820', '7,110', '25,200', '16,650', '17,820', '16,200', '16,020', '21,420', '5,400', '13,500', '17,820', '17,100', '10,800', '19,980', '14,220']}, {'순위': [25, 26, 27, 28, 29, 30, 31, 32, 33, 34, 35, 36, 37, 38, 39, 40, 41, 42, 43, 44, 45, 46, 47, 48], '책제목': ['설민석의 한국사 대모험 33', '흔한남매 19', '2025 심우철 실전 동형 모의고사 Season 4', '최애의 아이 16 특별판', '넥서스', '돈의 흐름은 되풀이된다', 'ETS 토익 정기시험 기출문제집 1000 Vol. 4 RC', '스토너', '2025 큰별쌤 최태성의 별별한국사 한국사능력검정시험 심화(1,2,3급) 하', 'ETS 토익 정기시험 기출문제집 1000 Vol. 4 LC', '최애의 아이 16', '엔비디아 젠슨 황, 생각하는 기계', '진짜의 마인드', '혹시, 돈 얘기해도 될까요?', '너에게 들려주는 단단한 말', '질문의 격', '하루 한 장 나의 어휘력을 위한 필사 노트', '길고양이와 늑대 5 더블특전판', '과자 사면 과학 드립니다', '부의 전략 수업', '살아갈 날들을 위한 괴테의 시', '2025 문동균 한국사 지방직 대비 실전 봉투모의고사', '똑게육아', '파과 (리커버)'], '저자및출판사': ['설민석', '남이담', '정현희', '강석화', '단꿈아이', '흔한남매', '백난도', '유난희', '흔한컴퍼니', '미래엔아이세움', '심우철', '심슨북스', '아카사카 아카', '요코야리 멘고', '대원', '유발 하라리', '김명주', '김영사', '홍춘욱', '포르체', 'ETS', 'YBM(와이비엠)', '존 윌리엄스', '김승욱', '알에이치코리아(RHK)', '최태성', '이투스북 ', 'ETS', 'YBM(와이비엠)', '아카사카 아카', '요코야리 멘고', '대원', '스티븐 위트', '백우진', '알에이치코리아(RHK)', '김찬희(김진짜)', '터닝페이지', '주언규', '필름', '김종원', '퍼스트펭귄', '유선경', '앤의서재', '유선경', '위즈덤하우스', '미츠바치 미유키', '학산문화사', '정윤선', '시미씨', '풀빛', '폴 포돌스키', '고영훈', '필름', '김종원', '퍼스트펭귄', '문동균', '에스티유니타스', '로리(김준희)', '북로스트', '구병모', '위즈덤하우스'], '가격': ['12,600', '14,220', '12,960', '35,100', '25,020', '17,100', '17,820', '15,120', '14,400', '17,820', '7,110', '25,200', '16,650', '17,820', '16,200', '16,020', '21,420', '5,400', '13,500', '17,820', '17,100', '10,800', '19,980', '14,220']}]\n"
     ]
    }
   ],
   "source": [
    "#1.웹 크롤링\n",
    "from urllib.request import urlopen, Request\n",
    "pages = 2\n",
    "items_list = [] #초기화\n",
    "for page in range(1, pages+1):\n",
    "    url = f'https://www.yes24.com/product/category/bestseller?categoryNumber=001&pageNumber={page}'\n",
    "    #print(url)\n",
    "    response = urlopen(url)\n",
    "    # print(response.status) #상태 코드 (정상상태 확인)\n",
    "    soup = BeautifulSoup(response,\n",
    "                        'html.parser')\n",
    "    # print(soup)\n",
    "\n",
    "    for item in items:\n",
    "        rank_els = soup.select('div.img_upper > em.ico.rank')\n",
    "        rank = [int(rank_el.text) for rank_el in rank_els]\n",
    "        title_els = soup.select('div.item_info > div.info_row.info_name > a.gd_name')\n",
    "        title = [(title_el.text) for title_el in title_els]\n",
    "        art_els = soup.select('div.info_row.info_pubGrp > span > a')\n",
    "        art = [(art_el.text) for art_el in art_els]\n",
    "        price_els = soup.select('div.info_row.info_price > strong > em.yes_b')\n",
    "        price = [(price_el.text) for price_el in price_els]\n",
    "        items_list.append({\n",
    "            '순위' :rank,\n",
    "            '책제목' : title,\n",
    "            '저자및출판사' : art,\n",
    "            '가격' : price})\n",
    "\n",
    "print(items_list)\n",
    "\n",
    "    \n",
    "    \n",
    "#     print(len(rank), len(title), len(art) , len(price))#같지 않음 \n",
    "\n",
    "\n",
    "#2.csv 파일 저장\n",
    "\n"
   ]
  },
  {
   "cell_type": "code",
   "execution_count": null,
   "id": "4139bc5c",
   "metadata": {},
   "outputs": [],
   "source": []
  }
 ],
 "metadata": {
  "kernelspec": {
   "display_name": "Python 3 (ipykernel)",
   "language": "python",
   "name": "python3"
  },
  "language_info": {
   "codemirror_mode": {
    "name": "ipython",
    "version": 3
   },
   "file_extension": ".py",
   "mimetype": "text/x-python",
   "name": "python",
   "nbconvert_exporter": "python",
   "pygments_lexer": "ipython3",
   "version": "3.10.9"
  },
  "toc": {
   "base_numbering": 1,
   "nav_menu": {},
   "number_sections": false,
   "sideBar": true,
   "skip_h1_title": false,
   "title_cell": "Table of Contents",
   "title_sidebar": "Contents",
   "toc_cell": false,
   "toc_position": {
    "height": "calc(100% - 180px)",
    "left": "10px",
    "top": "150px",
    "width": "227.347px"
   },
   "toc_section_display": true,
   "toc_window_display": true
  }
 },
 "nbformat": 4,
 "nbformat_minor": 5
}
