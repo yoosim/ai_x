{
 "cells": [
  {
   "cell_type": "code",
   "execution_count": 1,
   "id": "8c56843c",
   "metadata": {},
   "outputs": [
    {
     "data": {
      "text/html": [
       "\n",
       "<style>\n",
       "div.container{width:86% !important;}\n",
       "div.cell.code_cell.rendered{width:100%;}\n",
       "div.CodeMirror {font-family:Consolas; font-size:15pt;}\n",
       "div.output {font-size:15pt; font-weight:bold;}\n",
       "div.input {font-family:Consolas; font-size:15pt;}\n",
       "div.prompt {min-width:70px;}\n",
       "div#toc-wrapper{padding-top:120px;}\n",
       "div.text_cell_render ul li{font-size:12pt;padding:5px;}\n",
       "table.dataframe{font-size:15px;}\n",
       "</style>\n",
       " "
      ],
      "text/plain": [
       "<IPython.core.display.HTML object>"
      ]
     },
     "metadata": {},
     "output_type": "display_data"
    }
   ],
   "source": [
    "from IPython.display import display, HTML \n",
    "display(HTML(\"\"\"\n",
    "<style>\n",
    "div.container{width:86% !important;}\n",
    "div.cell.code_cell.rendered{width:100%;}\n",
    "div.CodeMirror {font-family:Consolas; font-size:15pt;}\n",
    "div.output {font-size:15pt; font-weight:bold;}\n",
    "div.input {font-family:Consolas; font-size:15pt;}\n",
    "div.prompt {min-width:70px;}\n",
    "div#toc-wrapper{padding-top:120px;}\n",
    "div.text_cell_render ul li{font-size:12pt;padding:5px;}\n",
    "table.dataframe{font-size:15px;}\n",
    "</style>\n",
    " \"\"\"))"
   ]
  },
  {
   "cell_type": "markdown",
   "id": "95810079",
   "metadata": {},
   "source": [
    "<span style=\"color:red; font-size: 35px; font-weight: bold;\"> ch14.웹데이터 수집 </span></br>\n",
    "# 1절. BeautifulSoup과 parser\n",
    "\n",
    "pip install bs4 아나콘다를 설치하면 7500개여개의 패키지 설치\n",
    "\n",
    "- 공식 사이트 : https://www.crummy.com/software/BeautifulSoup/\n",
    "- Docs : https://www.crummy.com/software/BeautifulSoup/bs4/doc/"
   ]
  },
  {
   "cell_type": "code",
   "execution_count": 1,
   "id": "e8d10c91",
   "metadata": {},
   "outputs": [],
   "source": [
    "import requests #HTTP 요청 처리 lib\n",
    "from requests_file import FileAdapter"
   ]
  },
  {
   "cell_type": "code",
   "execution_count": 15,
   "id": "8cb893fd",
   "metadata": {},
   "outputs": [
    {
     "data": {
      "text/plain": [
       "<Response [200]>"
      ]
     },
     "execution_count": 15,
     "metadata": {},
     "output_type": "execute_result"
    }
   ],
   "source": [
    "s = requests.Session() #HTTP 요청관리 위한 세션 객체\n",
    "s.mount(\"file://\", FileAdapter())\n",
    "response = s.get('file:///ai_x/lecNote/01_python/data/ch14_sample.html')\n",
    "response"
   ]
  },
  {
   "cell_type": "code",
   "execution_count": 16,
   "id": "b87b78b2",
   "metadata": {},
   "outputs": [
    {
     "data": {
      "text/plain": [
       "200"
      ]
     },
     "execution_count": 16,
     "metadata": {},
     "output_type": "execute_result"
    }
   ],
   "source": [
    "response.status_code #상태 코드  \n",
    "#200 : 정상 상태\n",
    "#404 : 없는 페이지\n",
    "#406 : get,post 오류\n",
    "#500 : 파이썬 문법 오류 (내가 만든 사이트)"
   ]
  },
  {
   "cell_type": "code",
   "execution_count": 17,
   "id": "491fb470",
   "metadata": {},
   "outputs": [
    {
     "data": {
      "text/plain": [
       "b'<!DOCTYPE html>\\r\\n<html lang=\"en\">\\r\\n<head>\\r\\n  <meta charset=\"UTF-8\">\\r\\n</head>\\r\\n<body>\\r\\n  <h1 class=\"greeting css\" id=\"text\" title=\"greeting\">Hello, CSS</h1>\\r\\n  <h1 class=\"css\">Hi, CSS</h1>\\r\\n  <div id=\"subject\">subject \\xec\\x84\\xa0\\xed\\x83\\x9d\\xec\\x9e\\x90 \\xec\\x95\\x88\\xec\\x9d\\x98 \\xeb\\x82\\xb4\\xec\\x9a\\xa9</div>\\r\\n  <p>CSS \\xec\\x84\\xa0\\xed\\x83\\x9d\\xec\\x9e\\x90\\xeb\\x8a\\x94 \\xeb\\x8b\\xa4\\xec\\x96\\x91\\xed\\x95\\x9c \\xea\\xb3\\xb3\\xec\\x97\\x90\\xec\\x84\\x9c \\xed\\x99\\x9c\\xec\\x9a\\xa9\\xeb\\x90\\xa9\\xeb\\x8b\\x88\\xeb\\x8b\\xa4</p>\\r\\n  <div class=\"contents\">\\r\\n    \\xec\\x84\\xa0\\xed\\x83\\x9d\\xec\\x9e\\x90\\xeb\\xa5\\xbc \\xec\\x96\\xb4\\xeb\\x96\\xbb\\xea\\xb2\\x8c \\xec\\x9e\\x91\\xec\\x84\\xb1\\xed\\x95\\x98\\xeb\\x8a\\x90\\xeb\\x83\\x90\\xec\\x97\\x90 \\xeb\\x94\\xb0\\xeb\\x9d\\xbc\\r\\n    <span>\\xeb\\x8b\\xa4\\xeb\\xa5\\xb8<b>\\xec\\x9a\\x94\\xec\\x86\\x8c\\xea\\xb0\\x80 \\xeb\\xb0\\x98\\xed\\x99\\x98</b></span>\\xeb\\x90\\xa9\\xeb\\x8b\\x88\\xeb\\x8b\\xa4\\r\\n  </div>\\r\\n  <div>CSS \\xec\\x84\\xa0\\xed\\x83\\x9d\\xec\\x9e\\x90\\xeb\\x8a\\x94 \\xeb\\x8b\\xa4\\xec\\x96\\x91\\xed\\x95\\x9c \\xea\\xb3\\xb3\\xec\\x97\\x90 <b>\\xed\\x99\\x9c\\xec\\x9a\\xa9</b>\\xeb\\x90\\xa9\\xeb\\x8b\\x88\\xeb\\x8b\\xa4</div>\\r\\n</body>\\r\\n</html>'"
      ]
     },
     "execution_count": 17,
     "metadata": {},
     "output_type": "execute_result"
    }
   ],
   "source": [
    "response.content #바이너리 형식의 내용"
   ]
  },
  {
   "cell_type": "code",
   "execution_count": 6,
   "id": "c4eff405",
   "metadata": {},
   "outputs": [
    {
     "data": {
      "text/plain": [
       "'<!DOCTYPE html>\\r\\n<html lang=\"en\">\\r\\n<head>\\r\\n  <meta charset=\"UTF-8\">\\r\\n</head>\\r\\n<body>\\r\\n  <h1 class=\"greeting css\" id=\"text\">Hello, CSS</h1>\\r\\n  <h1 class=\"css\">Hi, CSS</h1>\\r\\n  <div id=\"subject\">subject 선택자 안의 내용</div>\\r\\n  <p>CSS 선택자는 다양한 곳에서 활용됩니다</p>\\r\\n  <div class=\"contents\">\\r\\n    선택자를 어떻게 작성하느냐에 따라\\r\\n    <span>다른<b>요소가 반환</b></span>됩니다\\r\\n  </div>\\r\\n  <div>CSS 선택자는 다양한 곳에 <b>활용</b>됩니다</div>\\r\\n</body>\\r\\n</html>'"
      ]
     },
     "execution_count": 6,
     "metadata": {},
     "output_type": "execute_result"
    }
   ],
   "source": [
    "response.content.decode('utf-8')"
   ]
  },
  {
   "cell_type": "code",
   "execution_count": 7,
   "id": "268b06ae",
   "metadata": {},
   "outputs": [
    {
     "data": {
      "text/plain": [
       "'<!DOCTYPE html>\\r\\n<html lang=\"en\">\\r\\n<head>\\r\\n  <meta charset=\"UTF-8\">\\r\\n</head>\\r\\n<body>\\r\\n  <h1 class=\"greeting css\" id=\"text\">Hello, CSS</h1>\\r\\n  <h1 class=\"css\">Hi, CSS</h1>\\r\\n  <div id=\"subject\">subject 선택자 안의 내용</div>\\r\\n  <p>CSS 선택자는 다양한 곳에서 활용됩니다</p>\\r\\n  <div class=\"contents\">\\r\\n    선택자를 어떻게 작성하느냐에 따라\\r\\n    <span>다른<b>요소가 반환</b></span>됩니다\\r\\n  </div>\\r\\n  <div>CSS 선택자는 다양한 곳에 <b>활용</b>됩니다</div>\\r\\n</body>\\r\\n</html>'"
      ]
     },
     "execution_count": 7,
     "metadata": {},
     "output_type": "execute_result"
    }
   ],
   "source": [
    "response.text"
   ]
  },
  {
   "cell_type": "code",
   "execution_count": 18,
   "id": "56632115",
   "metadata": {},
   "outputs": [],
   "source": [
    "#html 파싱\n",
    "from bs4 import BeautifulSoup\n",
    "soup = BeautifulSoup(response.content, #response.text \n",
    "                    \"html.parser\") #soup객체 만들기\n",
    "# soup 웨크롤링 할 수 있게 보여줌"
   ]
  },
  {
   "cell_type": "code",
   "execution_count": 25,
   "id": "0d65ffac",
   "metadata": {},
   "outputs": [
    {
     "name": "stdout",
     "output_type": "stream",
     "text": [
      "el : <h1 class=\"greeting css\" id=\"text\" title=\"greeting\">Hello, CSS</h1>\n",
      "el.text : Hello, CSS\n",
      "el.string : Hello, CSS\n",
      "el의 속성추가 : {'class': ['greeting', 'css'], 'id': 'text', 'title': 'greeting'}\n",
      "el의 title속성 : greeting\n",
      "el의 title속성 : greeting\n",
      "el의 이름 : h1\n"
     ]
    }
   ],
   "source": [
    "# 1.soup.select_one('선택자') : 해당 선택자 처음 하나만\n",
    "el = soup.select_one('h1') #처음 나오는 h1태그 하나만\n",
    "print('el :', el)\n",
    "print('el.text :', el.text)\n",
    "print('el.string :', el.string)\n",
    "print('el의 속성추가 :', el.attrs) #딕셔너리로 나타냄\n",
    "print('el의 title속성 :', el.attrs['title']) #title의 속성만 가져오기\n",
    "print('el의 title속성 :', el.attrs.get('title')) #get함수가 오류가 안 나서 좋음\n",
    "print('el의 이름 :', el.name)"
   ]
  },
  {
   "cell_type": "code",
   "execution_count": 33,
   "id": "7eb2f6c7",
   "metadata": {},
   "outputs": [
    {
     "name": "stdout",
     "output_type": "stream",
     "text": [
      "리스트 el : [<h1 class=\"greeting css\" id=\"text\" title=\"greeting\">Hello, CSS</h1>, <h1 class=\"css\">Hi, CSS</h1>]\n",
      "el의 text들 : ['Hello, CSS', 'Hi, CSS']\n",
      "el의 속성들 : [{'class': ['greeting', 'css'], 'id': 'text', 'title': 'greeting'}, {'class': ['css']}]\n",
      "el의 class 속성들 : [['greeting', 'css'], ['css']]\n"
     ]
    }
   ],
   "source": [
    "# 2.soup.select('선택자') : 해당 선택자 모든 엘리먼트를 리스트로 나타냄\n",
    "el = soup.select('h1')\n",
    "print('리스트 el :', el)\n",
    "print('el의 text들 :' ,[e.text for e in el])\n",
    "print('el의 속성들 :', [e.attrs for e in el])\n",
    "print('el의 class 속성들 :', [e.attrs.get('class') for e in el])"
   ]
  },
  {
   "cell_type": "code",
   "execution_count": 41,
   "id": "9b856dd0",
   "metadata": {
    "collapsed": true
   },
   "outputs": [
    {
     "name": "stdout",
     "output_type": "stream",
     "text": [
      "select_one : <h1 class=\"greeting css\" id=\"text\" title=\"greeting\">Hello, CSS</h1>\n",
      "find : <h1 class=\"greeting css\" id=\"text\" title=\"greeting\">Hello, CSS</h1>\n",
      "find : <h1 class=\"greeting css\" id=\"text\" title=\"greeting\">Hello, CSS</h1>\n",
      "\n",
      "select_one : <h1 class=\"greeting css\" id=\"text\" title=\"greeting\">Hello, CSS</h1>\n",
      "find : <h1 class=\"greeting css\" id=\"text\" title=\"greeting\">Hello, CSS</h1>\n",
      "\n",
      "select\n"
     ]
    }
   ],
   "source": [
    "#select_one('속성자')와 find(태그,속성) 비교\n",
    "print('select_one :',soup.select_one('h1.css'))\n",
    "print('find :', soup.find('h1',{'class':'css'}))\n",
    "print('find :', soup.find('h1', class_='greeting'))\n",
    "print()\n",
    "print('select_one :', soup.select_one('h1#text'))\n",
    "print('find :', soup.find('h1', {'id':'text'}))\n",
    "print()\n",
    "print('select')"
   ]
  },
  {
   "cell_type": "code",
   "execution_count": 44,
   "id": "063480c2",
   "metadata": {},
   "outputs": [
    {
     "name": "stdout",
     "output_type": "stream",
     "text": [
      "모든 h1.css, span 태그(select) : [<h1 class=\"greeting css\" id=\"text\" title=\"greeting\">Hello, CSS</h1>, <h1 class=\"css\">Hi, CSS</h1>, <span>다른<b>요소가 반환</b></span>]\n",
      "모든 h1.css, span 태그(find_all) : [<h1 class=\"greeting css\" id=\"text\" title=\"greeting\">Hello, CSS</h1>, <h1 class=\"css\">Hi, CSS</h1>]\n"
     ]
    }
   ],
   "source": [
    "# select('선택자')와 find_all(태그,속성) 비교\n",
    "print('모든 h1.css, span 태그(select) :', \n",
    "      soup.select('h1.css, span'))\n",
    "print('모든 h1.css, span 태그(find_all) :',\n",
    "     soup.find_all(['h1','span'],class_='css')) #span은 안 들어온거 아닌지?\n",
    "print() #개행"
   ]
  },
  {
   "cell_type": "code",
   "execution_count": 49,
   "id": "3cdb780b",
   "metadata": {},
   "outputs": [
    {
     "name": "stdout",
     "output_type": "stream",
     "text": [
      "find_all : []\n",
      "find : None\n",
      "select : []\n",
      "select_one : None\n"
     ]
    }
   ],
   "source": [
    "# 없는 엘리먼트 찾기  (a태그)\n",
    "print('find_all :', soup.find_all('a', class_='css')) #없으면 빈리스트로\n",
    "print('find :', soup.find('a',class_='css')) #없으면 none으로\n",
    "print('select :', soup.select('a.css')) #빈 리스트로\n",
    "print('select_one :', soup.select_one('a.css')) #없으면 none으로"
   ]
  },
  {
   "cell_type": "markdown",
   "id": "9886a5e7",
   "metadata": {},
   "source": [
    "# 2절. 정적 웹 데이터 수집(정적 웹크롤링)\n",
    "- json,html, xml\n",
    "## 2.1 JSON파일\n",
    "- request모둘(get)\n",
    "- urllib.request모듈(urlopen)"
   ]
  },
  {
   "cell_type": "code",
   "execution_count": null,
   "id": "fa21c93d",
   "metadata": {},
   "outputs": [],
   "source": [
    "# 크롤링 허용 범위는 사이트마다 다름 / robots.txt에서 확인할 수 있습니다."
   ]
  },
  {
   "cell_type": "code",
   "execution_count": 133,
   "id": "e88a95c4",
   "metadata": {},
   "outputs": [
    {
     "data": {
      "text/plain": [
       "(<Response [403]>, 403)"
      ]
     },
     "execution_count": 133,
     "metadata": {},
     "output_type": "execute_result"
    }
   ],
   "source": [
    "# 방법 1. json\n",
    "import requests\n",
    "response = requests.get('http://api.github.com')\n",
    "response, response.status_code"
   ]
  },
  {
   "cell_type": "code",
   "execution_count": 132,
   "id": "637edb1c",
   "metadata": {
    "collapsed": true
   },
   "outputs": [
    {
     "ename": "URLError",
     "evalue": "<urlopen error [Errno 11001] getaddrinfo failed>",
     "output_type": "error",
     "traceback": [
      "\u001b[1;31m---------------------------------------------------------------------------\u001b[0m",
      "\u001b[1;31mgaierror\u001b[0m                                  Traceback (most recent call last)",
      "File \u001b[1;32m~\\anaconda3\\lib\\urllib\\request.py:1348\u001b[0m, in \u001b[0;36mAbstractHTTPHandler.do_open\u001b[1;34m(self, http_class, req, **http_conn_args)\u001b[0m\n\u001b[0;32m   1347\u001b[0m \u001b[38;5;28;01mtry\u001b[39;00m:\n\u001b[1;32m-> 1348\u001b[0m     \u001b[43mh\u001b[49m\u001b[38;5;241;43m.\u001b[39;49m\u001b[43mrequest\u001b[49m\u001b[43m(\u001b[49m\u001b[43mreq\u001b[49m\u001b[38;5;241;43m.\u001b[39;49m\u001b[43mget_method\u001b[49m\u001b[43m(\u001b[49m\u001b[43m)\u001b[49m\u001b[43m,\u001b[49m\u001b[43m \u001b[49m\u001b[43mreq\u001b[49m\u001b[38;5;241;43m.\u001b[39;49m\u001b[43mselector\u001b[49m\u001b[43m,\u001b[49m\u001b[43m \u001b[49m\u001b[43mreq\u001b[49m\u001b[38;5;241;43m.\u001b[39;49m\u001b[43mdata\u001b[49m\u001b[43m,\u001b[49m\u001b[43m \u001b[49m\u001b[43mheaders\u001b[49m\u001b[43m,\u001b[49m\n\u001b[0;32m   1349\u001b[0m \u001b[43m              \u001b[49m\u001b[43mencode_chunked\u001b[49m\u001b[38;5;241;43m=\u001b[39;49m\u001b[43mreq\u001b[49m\u001b[38;5;241;43m.\u001b[39;49m\u001b[43mhas_header\u001b[49m\u001b[43m(\u001b[49m\u001b[38;5;124;43m'\u001b[39;49m\u001b[38;5;124;43mTransfer-encoding\u001b[39;49m\u001b[38;5;124;43m'\u001b[39;49m\u001b[43m)\u001b[49m\u001b[43m)\u001b[49m\n\u001b[0;32m   1350\u001b[0m \u001b[38;5;28;01mexcept\u001b[39;00m \u001b[38;5;167;01mOSError\u001b[39;00m \u001b[38;5;28;01mas\u001b[39;00m err: \u001b[38;5;66;03m# timeout error\u001b[39;00m\n",
      "File \u001b[1;32m~\\anaconda3\\lib\\http\\client.py:1282\u001b[0m, in \u001b[0;36mHTTPConnection.request\u001b[1;34m(self, method, url, body, headers, encode_chunked)\u001b[0m\n\u001b[0;32m   1281\u001b[0m \u001b[38;5;124;03m\"\"\"Send a complete request to the server.\"\"\"\u001b[39;00m\n\u001b[1;32m-> 1282\u001b[0m \u001b[38;5;28;43mself\u001b[39;49m\u001b[38;5;241;43m.\u001b[39;49m\u001b[43m_send_request\u001b[49m\u001b[43m(\u001b[49m\u001b[43mmethod\u001b[49m\u001b[43m,\u001b[49m\u001b[43m \u001b[49m\u001b[43murl\u001b[49m\u001b[43m,\u001b[49m\u001b[43m \u001b[49m\u001b[43mbody\u001b[49m\u001b[43m,\u001b[49m\u001b[43m \u001b[49m\u001b[43mheaders\u001b[49m\u001b[43m,\u001b[49m\u001b[43m \u001b[49m\u001b[43mencode_chunked\u001b[49m\u001b[43m)\u001b[49m\n",
      "File \u001b[1;32m~\\anaconda3\\lib\\http\\client.py:1328\u001b[0m, in \u001b[0;36mHTTPConnection._send_request\u001b[1;34m(self, method, url, body, headers, encode_chunked)\u001b[0m\n\u001b[0;32m   1327\u001b[0m     body \u001b[38;5;241m=\u001b[39m _encode(body, \u001b[38;5;124m'\u001b[39m\u001b[38;5;124mbody\u001b[39m\u001b[38;5;124m'\u001b[39m)\n\u001b[1;32m-> 1328\u001b[0m \u001b[38;5;28;43mself\u001b[39;49m\u001b[38;5;241;43m.\u001b[39;49m\u001b[43mendheaders\u001b[49m\u001b[43m(\u001b[49m\u001b[43mbody\u001b[49m\u001b[43m,\u001b[49m\u001b[43m \u001b[49m\u001b[43mencode_chunked\u001b[49m\u001b[38;5;241;43m=\u001b[39;49m\u001b[43mencode_chunked\u001b[49m\u001b[43m)\u001b[49m\n",
      "File \u001b[1;32m~\\anaconda3\\lib\\http\\client.py:1277\u001b[0m, in \u001b[0;36mHTTPConnection.endheaders\u001b[1;34m(self, message_body, encode_chunked)\u001b[0m\n\u001b[0;32m   1276\u001b[0m     \u001b[38;5;28;01mraise\u001b[39;00m CannotSendHeader()\n\u001b[1;32m-> 1277\u001b[0m \u001b[38;5;28;43mself\u001b[39;49m\u001b[38;5;241;43m.\u001b[39;49m\u001b[43m_send_output\u001b[49m\u001b[43m(\u001b[49m\u001b[43mmessage_body\u001b[49m\u001b[43m,\u001b[49m\u001b[43m \u001b[49m\u001b[43mencode_chunked\u001b[49m\u001b[38;5;241;43m=\u001b[39;49m\u001b[43mencode_chunked\u001b[49m\u001b[43m)\u001b[49m\n",
      "File \u001b[1;32m~\\anaconda3\\lib\\http\\client.py:1037\u001b[0m, in \u001b[0;36mHTTPConnection._send_output\u001b[1;34m(self, message_body, encode_chunked)\u001b[0m\n\u001b[0;32m   1036\u001b[0m \u001b[38;5;28;01mdel\u001b[39;00m \u001b[38;5;28mself\u001b[39m\u001b[38;5;241m.\u001b[39m_buffer[:]\n\u001b[1;32m-> 1037\u001b[0m \u001b[38;5;28;43mself\u001b[39;49m\u001b[38;5;241;43m.\u001b[39;49m\u001b[43msend\u001b[49m\u001b[43m(\u001b[49m\u001b[43mmsg\u001b[49m\u001b[43m)\u001b[49m\n\u001b[0;32m   1039\u001b[0m \u001b[38;5;28;01mif\u001b[39;00m message_body \u001b[38;5;129;01mis\u001b[39;00m \u001b[38;5;129;01mnot\u001b[39;00m \u001b[38;5;28;01mNone\u001b[39;00m:\n\u001b[0;32m   1040\u001b[0m \n\u001b[0;32m   1041\u001b[0m     \u001b[38;5;66;03m# create a consistent interface to message_body\u001b[39;00m\n",
      "File \u001b[1;32m~\\anaconda3\\lib\\http\\client.py:975\u001b[0m, in \u001b[0;36mHTTPConnection.send\u001b[1;34m(self, data)\u001b[0m\n\u001b[0;32m    974\u001b[0m \u001b[38;5;28;01mif\u001b[39;00m \u001b[38;5;28mself\u001b[39m\u001b[38;5;241m.\u001b[39mauto_open:\n\u001b[1;32m--> 975\u001b[0m     \u001b[38;5;28;43mself\u001b[39;49m\u001b[38;5;241;43m.\u001b[39;49m\u001b[43mconnect\u001b[49m\u001b[43m(\u001b[49m\u001b[43m)\u001b[49m\n\u001b[0;32m    976\u001b[0m \u001b[38;5;28;01melse\u001b[39;00m:\n",
      "File \u001b[1;32m~\\anaconda3\\lib\\http\\client.py:941\u001b[0m, in \u001b[0;36mHTTPConnection.connect\u001b[1;34m(self)\u001b[0m\n\u001b[0;32m    940\u001b[0m sys\u001b[38;5;241m.\u001b[39maudit(\u001b[38;5;124m\"\u001b[39m\u001b[38;5;124mhttp.client.connect\u001b[39m\u001b[38;5;124m\"\u001b[39m, \u001b[38;5;28mself\u001b[39m, \u001b[38;5;28mself\u001b[39m\u001b[38;5;241m.\u001b[39mhost, \u001b[38;5;28mself\u001b[39m\u001b[38;5;241m.\u001b[39mport)\n\u001b[1;32m--> 941\u001b[0m \u001b[38;5;28mself\u001b[39m\u001b[38;5;241m.\u001b[39msock \u001b[38;5;241m=\u001b[39m \u001b[38;5;28;43mself\u001b[39;49m\u001b[38;5;241;43m.\u001b[39;49m\u001b[43m_create_connection\u001b[49m\u001b[43m(\u001b[49m\n\u001b[0;32m    942\u001b[0m \u001b[43m    \u001b[49m\u001b[43m(\u001b[49m\u001b[38;5;28;43mself\u001b[39;49m\u001b[38;5;241;43m.\u001b[39;49m\u001b[43mhost\u001b[49m\u001b[43m,\u001b[49m\u001b[38;5;28;43mself\u001b[39;49m\u001b[38;5;241;43m.\u001b[39;49m\u001b[43mport\u001b[49m\u001b[43m)\u001b[49m\u001b[43m,\u001b[49m\u001b[43m \u001b[49m\u001b[38;5;28;43mself\u001b[39;49m\u001b[38;5;241;43m.\u001b[39;49m\u001b[43mtimeout\u001b[49m\u001b[43m,\u001b[49m\u001b[43m \u001b[49m\u001b[38;5;28;43mself\u001b[39;49m\u001b[38;5;241;43m.\u001b[39;49m\u001b[43msource_address\u001b[49m\u001b[43m)\u001b[49m\n\u001b[0;32m    943\u001b[0m \u001b[38;5;66;03m# Might fail in OSs that don't implement TCP_NODELAY\u001b[39;00m\n",
      "File \u001b[1;32m~\\anaconda3\\lib\\socket.py:824\u001b[0m, in \u001b[0;36mcreate_connection\u001b[1;34m(address, timeout, source_address)\u001b[0m\n\u001b[0;32m    823\u001b[0m err \u001b[38;5;241m=\u001b[39m \u001b[38;5;28;01mNone\u001b[39;00m\n\u001b[1;32m--> 824\u001b[0m \u001b[38;5;28;01mfor\u001b[39;00m res \u001b[38;5;129;01min\u001b[39;00m \u001b[43mgetaddrinfo\u001b[49m\u001b[43m(\u001b[49m\u001b[43mhost\u001b[49m\u001b[43m,\u001b[49m\u001b[43m \u001b[49m\u001b[43mport\u001b[49m\u001b[43m,\u001b[49m\u001b[43m \u001b[49m\u001b[38;5;241;43m0\u001b[39;49m\u001b[43m,\u001b[49m\u001b[43m \u001b[49m\u001b[43mSOCK_STREAM\u001b[49m\u001b[43m)\u001b[49m:\n\u001b[0;32m    825\u001b[0m     af, socktype, proto, canonname, sa \u001b[38;5;241m=\u001b[39m res\n",
      "File \u001b[1;32m~\\anaconda3\\lib\\socket.py:955\u001b[0m, in \u001b[0;36mgetaddrinfo\u001b[1;34m(host, port, family, type, proto, flags)\u001b[0m\n\u001b[0;32m    954\u001b[0m addrlist \u001b[38;5;241m=\u001b[39m []\n\u001b[1;32m--> 955\u001b[0m \u001b[38;5;28;01mfor\u001b[39;00m res \u001b[38;5;129;01min\u001b[39;00m \u001b[43m_socket\u001b[49m\u001b[38;5;241;43m.\u001b[39;49m\u001b[43mgetaddrinfo\u001b[49m\u001b[43m(\u001b[49m\u001b[43mhost\u001b[49m\u001b[43m,\u001b[49m\u001b[43m \u001b[49m\u001b[43mport\u001b[49m\u001b[43m,\u001b[49m\u001b[43m \u001b[49m\u001b[43mfamily\u001b[49m\u001b[43m,\u001b[49m\u001b[43m \u001b[49m\u001b[38;5;28;43mtype\u001b[39;49m\u001b[43m,\u001b[49m\u001b[43m \u001b[49m\u001b[43mproto\u001b[49m\u001b[43m,\u001b[49m\u001b[43m \u001b[49m\u001b[43mflags\u001b[49m\u001b[43m)\u001b[49m:\n\u001b[0;32m    956\u001b[0m     af, socktype, proto, canonname, sa \u001b[38;5;241m=\u001b[39m res\n",
      "\u001b[1;31mgaierror\u001b[0m: [Errno 11001] getaddrinfo failed",
      "\nDuring handling of the above exception, another exception occurred:\n",
      "\u001b[1;31mURLError\u001b[0m                                  Traceback (most recent call last)",
      "Cell \u001b[1;32mIn[132], line 3\u001b[0m\n\u001b[0;32m      1\u001b[0m \u001b[38;5;66;03m# 방법 2. json\u001b[39;00m\n\u001b[0;32m      2\u001b[0m \u001b[38;5;28;01mfrom\u001b[39;00m \u001b[38;5;21;01murllib\u001b[39;00m\u001b[38;5;21;01m.\u001b[39;00m\u001b[38;5;21;01mrequest\u001b[39;00m \u001b[38;5;28;01mimport\u001b[39;00m urlopen\n\u001b[1;32m----> 3\u001b[0m response \u001b[38;5;241m=\u001b[39m \u001b[43murlopen\u001b[49m\u001b[43m(\u001b[49m\u001b[38;5;124;43m'\u001b[39;49m\u001b[38;5;124;43mhttp://api.gitgub.com\u001b[39;49m\u001b[38;5;124;43m'\u001b[39;49m\u001b[43m)\u001b[49m\n\u001b[0;32m      4\u001b[0m response\n",
      "File \u001b[1;32m~\\anaconda3\\lib\\urllib\\request.py:216\u001b[0m, in \u001b[0;36murlopen\u001b[1;34m(url, data, timeout, cafile, capath, cadefault, context)\u001b[0m\n\u001b[0;32m    214\u001b[0m \u001b[38;5;28;01melse\u001b[39;00m:\n\u001b[0;32m    215\u001b[0m     opener \u001b[38;5;241m=\u001b[39m _opener\n\u001b[1;32m--> 216\u001b[0m \u001b[38;5;28;01mreturn\u001b[39;00m \u001b[43mopener\u001b[49m\u001b[38;5;241;43m.\u001b[39;49m\u001b[43mopen\u001b[49m\u001b[43m(\u001b[49m\u001b[43murl\u001b[49m\u001b[43m,\u001b[49m\u001b[43m \u001b[49m\u001b[43mdata\u001b[49m\u001b[43m,\u001b[49m\u001b[43m \u001b[49m\u001b[43mtimeout\u001b[49m\u001b[43m)\u001b[49m\n",
      "File \u001b[1;32m~\\anaconda3\\lib\\urllib\\request.py:519\u001b[0m, in \u001b[0;36mOpenerDirector.open\u001b[1;34m(self, fullurl, data, timeout)\u001b[0m\n\u001b[0;32m    516\u001b[0m     req \u001b[38;5;241m=\u001b[39m meth(req)\n\u001b[0;32m    518\u001b[0m sys\u001b[38;5;241m.\u001b[39maudit(\u001b[38;5;124m'\u001b[39m\u001b[38;5;124murllib.Request\u001b[39m\u001b[38;5;124m'\u001b[39m, req\u001b[38;5;241m.\u001b[39mfull_url, req\u001b[38;5;241m.\u001b[39mdata, req\u001b[38;5;241m.\u001b[39mheaders, req\u001b[38;5;241m.\u001b[39mget_method())\n\u001b[1;32m--> 519\u001b[0m response \u001b[38;5;241m=\u001b[39m \u001b[38;5;28;43mself\u001b[39;49m\u001b[38;5;241;43m.\u001b[39;49m\u001b[43m_open\u001b[49m\u001b[43m(\u001b[49m\u001b[43mreq\u001b[49m\u001b[43m,\u001b[49m\u001b[43m \u001b[49m\u001b[43mdata\u001b[49m\u001b[43m)\u001b[49m\n\u001b[0;32m    521\u001b[0m \u001b[38;5;66;03m# post-process response\u001b[39;00m\n\u001b[0;32m    522\u001b[0m meth_name \u001b[38;5;241m=\u001b[39m protocol\u001b[38;5;241m+\u001b[39m\u001b[38;5;124m\"\u001b[39m\u001b[38;5;124m_response\u001b[39m\u001b[38;5;124m\"\u001b[39m\n",
      "File \u001b[1;32m~\\anaconda3\\lib\\urllib\\request.py:536\u001b[0m, in \u001b[0;36mOpenerDirector._open\u001b[1;34m(self, req, data)\u001b[0m\n\u001b[0;32m    533\u001b[0m     \u001b[38;5;28;01mreturn\u001b[39;00m result\n\u001b[0;32m    535\u001b[0m protocol \u001b[38;5;241m=\u001b[39m req\u001b[38;5;241m.\u001b[39mtype\n\u001b[1;32m--> 536\u001b[0m result \u001b[38;5;241m=\u001b[39m \u001b[38;5;28;43mself\u001b[39;49m\u001b[38;5;241;43m.\u001b[39;49m\u001b[43m_call_chain\u001b[49m\u001b[43m(\u001b[49m\u001b[38;5;28;43mself\u001b[39;49m\u001b[38;5;241;43m.\u001b[39;49m\u001b[43mhandle_open\u001b[49m\u001b[43m,\u001b[49m\u001b[43m \u001b[49m\u001b[43mprotocol\u001b[49m\u001b[43m,\u001b[49m\u001b[43m \u001b[49m\u001b[43mprotocol\u001b[49m\u001b[43m \u001b[49m\u001b[38;5;241;43m+\u001b[39;49m\n\u001b[0;32m    537\u001b[0m \u001b[43m                          \u001b[49m\u001b[38;5;124;43m'\u001b[39;49m\u001b[38;5;124;43m_open\u001b[39;49m\u001b[38;5;124;43m'\u001b[39;49m\u001b[43m,\u001b[49m\u001b[43m \u001b[49m\u001b[43mreq\u001b[49m\u001b[43m)\u001b[49m\n\u001b[0;32m    538\u001b[0m \u001b[38;5;28;01mif\u001b[39;00m result:\n\u001b[0;32m    539\u001b[0m     \u001b[38;5;28;01mreturn\u001b[39;00m result\n",
      "File \u001b[1;32m~\\anaconda3\\lib\\urllib\\request.py:496\u001b[0m, in \u001b[0;36mOpenerDirector._call_chain\u001b[1;34m(self, chain, kind, meth_name, *args)\u001b[0m\n\u001b[0;32m    494\u001b[0m \u001b[38;5;28;01mfor\u001b[39;00m handler \u001b[38;5;129;01min\u001b[39;00m handlers:\n\u001b[0;32m    495\u001b[0m     func \u001b[38;5;241m=\u001b[39m \u001b[38;5;28mgetattr\u001b[39m(handler, meth_name)\n\u001b[1;32m--> 496\u001b[0m     result \u001b[38;5;241m=\u001b[39m \u001b[43mfunc\u001b[49m\u001b[43m(\u001b[49m\u001b[38;5;241;43m*\u001b[39;49m\u001b[43margs\u001b[49m\u001b[43m)\u001b[49m\n\u001b[0;32m    497\u001b[0m     \u001b[38;5;28;01mif\u001b[39;00m result \u001b[38;5;129;01mis\u001b[39;00m \u001b[38;5;129;01mnot\u001b[39;00m \u001b[38;5;28;01mNone\u001b[39;00m:\n\u001b[0;32m    498\u001b[0m         \u001b[38;5;28;01mreturn\u001b[39;00m result\n",
      "File \u001b[1;32m~\\anaconda3\\lib\\urllib\\request.py:1377\u001b[0m, in \u001b[0;36mHTTPHandler.http_open\u001b[1;34m(self, req)\u001b[0m\n\u001b[0;32m   1376\u001b[0m \u001b[38;5;28;01mdef\u001b[39;00m \u001b[38;5;21mhttp_open\u001b[39m(\u001b[38;5;28mself\u001b[39m, req):\n\u001b[1;32m-> 1377\u001b[0m     \u001b[38;5;28;01mreturn\u001b[39;00m \u001b[38;5;28;43mself\u001b[39;49m\u001b[38;5;241;43m.\u001b[39;49m\u001b[43mdo_open\u001b[49m\u001b[43m(\u001b[49m\u001b[43mhttp\u001b[49m\u001b[38;5;241;43m.\u001b[39;49m\u001b[43mclient\u001b[49m\u001b[38;5;241;43m.\u001b[39;49m\u001b[43mHTTPConnection\u001b[49m\u001b[43m,\u001b[49m\u001b[43m \u001b[49m\u001b[43mreq\u001b[49m\u001b[43m)\u001b[49m\n",
      "File \u001b[1;32m~\\anaconda3\\lib\\urllib\\request.py:1351\u001b[0m, in \u001b[0;36mAbstractHTTPHandler.do_open\u001b[1;34m(self, http_class, req, **http_conn_args)\u001b[0m\n\u001b[0;32m   1348\u001b[0m         h\u001b[38;5;241m.\u001b[39mrequest(req\u001b[38;5;241m.\u001b[39mget_method(), req\u001b[38;5;241m.\u001b[39mselector, req\u001b[38;5;241m.\u001b[39mdata, headers,\n\u001b[0;32m   1349\u001b[0m                   encode_chunked\u001b[38;5;241m=\u001b[39mreq\u001b[38;5;241m.\u001b[39mhas_header(\u001b[38;5;124m'\u001b[39m\u001b[38;5;124mTransfer-encoding\u001b[39m\u001b[38;5;124m'\u001b[39m))\n\u001b[0;32m   1350\u001b[0m     \u001b[38;5;28;01mexcept\u001b[39;00m \u001b[38;5;167;01mOSError\u001b[39;00m \u001b[38;5;28;01mas\u001b[39;00m err: \u001b[38;5;66;03m# timeout error\u001b[39;00m\n\u001b[1;32m-> 1351\u001b[0m         \u001b[38;5;28;01mraise\u001b[39;00m URLError(err)\n\u001b[0;32m   1352\u001b[0m     r \u001b[38;5;241m=\u001b[39m h\u001b[38;5;241m.\u001b[39mgetresponse()\n\u001b[0;32m   1353\u001b[0m \u001b[38;5;28;01mexcept\u001b[39;00m:\n",
      "\u001b[1;31mURLError\u001b[0m: <urlopen error [Errno 11001] getaddrinfo failed>"
     ]
    }
   ],
   "source": [
    "# 방법 2. json\n",
    "from urllib.request import urlopen\n",
    "response = urlopen('http://api.gitgub.com')\n",
    "response"
   ]
  },
  {
   "cell_type": "code",
   "execution_count": 135,
   "id": "7c6de06c",
   "metadata": {},
   "outputs": [
    {
     "data": {
      "text/plain": [
       "str"
      ]
     },
     "execution_count": 135,
     "metadata": {},
     "output_type": "execute_result"
    }
   ],
   "source": [
    "text = '{\"속성1\":\"값1\", \"속성2\":\"값2\"}'\n",
    "type(text)"
   ]
  },
  {
   "cell_type": "code",
   "execution_count": 136,
   "id": "3fcdcc11",
   "metadata": {},
   "outputs": [
    {
     "data": {
      "text/plain": [
       "{'속성1': '값1', '속성2': '값2'}"
      ]
     },
     "execution_count": 136,
     "metadata": {},
     "output_type": "execute_result"
    }
   ],
   "source": [
    "# 문자(딕셔너리 타입)를 딕셔너리\n",
    "# '{\"속성1\":\"값1\", \"속성2\":\"값2\"}' => {\"속성1\":\"값1\", \"속성2\":\"값2\"}\n",
    "import json \n",
    "json.loads(text)"
   ]
  },
  {
   "cell_type": "markdown",
   "id": "61b027b1",
   "metadata": {},
   "source": [
    "## 2.2html 파일\n",
    "### 1)환율정보 가져오기(네이버->증권->시장지표)\n",
    "https://finance.naver.com/marketindex/"
   ]
  },
  {
   "cell_type": "code",
   "execution_count": 76,
   "id": "ed255060",
   "metadata": {},
   "outputs": [],
   "source": [
    "# 방법 1. requests\n",
    "import requests \n",
    "from bs4 import BeautifulSoup\n",
    "url = 'https://finance.naver.com/marketindex/'\n",
    "response = requests.get(url)\n",
    "# response, response.status_code\n",
    "# response.content\n",
    "# response.content.decode('cp949') == response.text\n",
    "soup = BeautifulSoup(response.text,\n",
    "                    'html.parser')"
   ]
  },
  {
   "cell_type": "code",
   "execution_count": 81,
   "id": "b824ce9f",
   "metadata": {},
   "outputs": [],
   "source": [
    "# 방법 2. urlopen\n",
    "from urllib.request import urlopen\n",
    "response = urlopen(url)\n",
    "# response.status 상태 코드 (정상상태 확인)\n",
    "# response.read() #content와 동일한 값 출력\n",
    "# response.read().decode('cp949')\n",
    "soup = BeautifulSoup(response,'html.parser') #text 사용 불가 "
   ]
  },
  {
   "cell_type": "code",
   "execution_count": 99,
   "id": "466daedd",
   "metadata": {},
   "outputs": [
    {
     "name": "stdout",
     "output_type": "stream",
     "text": [
      "미국 USD\n",
      "일본 JPY(100엔)\n",
      "유럽연합 EUR\n",
      "중국 CNY\n",
      "달러/일본 엔\n",
      "유로/달러\n",
      "영국 파운드/달러\n",
      "달러인덱스\n",
      "WTI\n",
      "휘발유\n",
      "국제 금\n",
      "국내 금\n"
     ]
    }
   ],
   "source": [
    "title = soup.select('h3.h_lst > span.blind')\n",
    "for t in title:\n",
    "    print(t.text, end='\\n')"
   ]
  },
  {
   "cell_type": "code",
   "execution_count": 107,
   "id": "75f9c4b9",
   "metadata": {},
   "outputs": [
    {
     "data": {
      "text/plain": [
       "[1375, 953, 1555, 191, 144, 1, 1, 99, 61, 1633, 3300, 146173]"
      ]
     },
     "execution_count": 107,
     "metadata": {},
     "output_type": "execute_result"
    }
   ],
   "source": [
    "price = soup.select('div.head_info > span.value')\n",
    "[p.text for p in price]\n",
    "[round(float(p.text.replace(',','')))for p in price]\n",
    "[round(float(''.join(p.text.split(',')))) for p in price]"
   ]
  },
  {
   "cell_type": "code",
   "execution_count": 96,
   "id": "b5a6f8bf",
   "metadata": {},
   "outputs": [
    {
     "data": {
      "text/plain": [
       "1375"
      ]
     },
     "execution_count": 96,
     "metadata": {},
     "output_type": "execute_result"
    }
   ],
   "source": [
    "#,기준으로 빈스트링으로 연결 join\n",
    "out = '1,374.70'\n",
    "round(float(''.join(out.split(','))))"
   ]
  },
  {
   "cell_type": "code",
   "execution_count": 113,
   "id": "191a7a9d",
   "metadata": {},
   "outputs": [
    {
     "data": {
      "text/plain": [
       "['원', '원', '원', '원', '엔', '달러', '달러', '', '달러', '원', '달러', '원']"
      ]
     },
     "execution_count": 113,
     "metadata": {},
     "output_type": "execute_result"
    }
   ],
   "source": [
    "unit = soup.select('div.head_info > span > span.blind')\n",
    "unit = [u.text for u in unit]\n",
    "unit.insert(7,'') #7번째 index에 '' 추가\n",
    "unit"
   ]
  },
  {
   "cell_type": "code",
   "execution_count": 115,
   "id": "6fcfb059",
   "metadata": {},
   "outputs": [
    {
     "data": {
      "text/plain": [
       "['하락', '하락', '하락', '하락', '상승', '하락', '하락', '상승', '하락', '하락', '하락', '상승']"
      ]
     },
     "execution_count": 115,
     "metadata": {},
     "output_type": "execute_result"
    }
   ],
   "source": [
    "status = soup.select('div.head_info > span.blind')\n",
    "[s.text for s in status]\n",
    "# status"
   ]
  },
  {
   "cell_type": "code",
   "execution_count": 116,
   "id": "0c9a2d2f",
   "metadata": {},
   "outputs": [
    {
     "data": {
      "text/plain": [
       "['하락', '하락', '하락', '하락', '상승', '하락', '하락', '상승', '하락', '하락', '하락', '상승']"
      ]
     },
     "execution_count": 116,
     "metadata": {},
     "output_type": "execute_result"
    }
   ],
   "source": [
    "[t.text for t in title]\n",
    "[p.text for p in price]\n",
    "unit\n",
    "[s.string for s in status]"
   ]
  },
  {
   "cell_type": "code",
   "execution_count": 117,
   "id": "9f652c40",
   "metadata": {},
   "outputs": [
    {
     "data": {
      "text/plain": [
       "(12, 12, 12, 12)"
      ]
     },
     "execution_count": 117,
     "metadata": {},
     "output_type": "execute_result"
    }
   ],
   "source": [
    "len(title), len(price), len(unit), len(status)"
   ]
  },
  {
   "cell_type": "code",
   "execution_count": 123,
   "id": "8f0abdc8",
   "metadata": {},
   "outputs": [
    {
     "name": "stdout",
     "output_type": "stream",
     "text": [
      "1.미국 USD : 1,375.00원-하락\n",
      "2.일본 JPY(100엔) : 952.51원-하락\n",
      "3.유럽연합 EUR : 1,555.06원-하락\n",
      "4.중국 CNY : 191.06원-하락\n",
      "5.달러/일본 엔 : 144.3800엔-상승\n",
      "6.유로/달러 : 1.1342달러-하락\n",
      "7.영국 파운드/달러 : 1.3520달러-하락\n",
      "8.달러인덱스 : 99.4200-상승\n",
      "9.WTI : 60.89달러-하락\n",
      "10.휘발유 : 1633.17원-하락\n",
      "11.국제 금 : 3300.4달러-하락\n",
      "12.국내 금 : 146173.4원-상승\n"
     ]
    }
   ],
   "source": [
    "for idx in range(len(title)):\n",
    "    print(\"{}.{} : {}{}-{}\".format(idx+1,\n",
    "                                    title[idx].text,\n",
    "                                    price[idx].text,\n",
    "                                    unit[idx],\n",
    "                                    status[idx].text))"
   ]
  },
  {
   "cell_type": "code",
   "execution_count": 126,
   "id": "be7016cd",
   "metadata": {},
   "outputs": [
    {
     "name": "stdout",
     "output_type": "stream",
     "text": [
      "미국 USD : 1,375.00원-하락\n",
      "일본 JPY(100엔) : 952.51원-하락\n",
      "유럽연합 EUR : 1,555.06원-하락\n",
      "중국 CNY : 191.06원-하락\n",
      "달러/일본 엔 : 144.3800엔-상승\n",
      "유로/달러 : 1.1342달러-하락\n",
      "영국 파운드/달러 : 1.3520달러-하락\n",
      "달러인덱스 : 99.4200-상승\n",
      "WTI : 60.89달러-하락\n",
      "휘발유 : 1633.17원-하락\n",
      "국제 금 : 3300.4달러-하락\n",
      "국내 금 : 146173.4원-상승\n"
     ]
    }
   ],
   "source": [
    "for t,p,u,s in zip(title,price,unit,status):\n",
    "    print(\"{} : {}{}-{}\".format(t.text,\n",
    "                                p.text,\n",
    "                                u,\n",
    "                                s.text))"
   ]
  },
  {
   "cell_type": "code",
   "execution_count": 128,
   "id": "9c851ac2",
   "metadata": {},
   "outputs": [
    {
     "name": "stdout",
     "output_type": "stream",
     "text": [
      "1.미국 USD : 1,375.00원-하락\n",
      "2.일본 JPY(100엔) : 952.51원-하락\n",
      "3.유럽연합 EUR : 1,555.06원-하락\n",
      "4.중국 CNY : 191.06원-하락\n",
      "5.달러/일본 엔 : 144.3800엔-상승\n",
      "6.유로/달러 : 1.1342달러-하락\n",
      "7.영국 파운드/달러 : 1.3520달러-하락\n",
      "8.달러인덱스 : 99.4200-상승\n",
      "9.WTI : 60.89달러-하락\n",
      "10.휘발유 : 1633.17원-하락\n",
      "11.국제 금 : 3300.4달러-하락\n",
      "12.국내 금 : 146173.4원-상승\n"
     ]
    }
   ],
   "source": [
    "for idx,(t,p,u,s) in enumerate(zip(title,price,unit,status)):\n",
    "    print(\"{}.{} : {}{}-{}\".format(idx+1,\n",
    "                                t.text,\n",
    "                                p.text,\n",
    "                                u,\n",
    "                                s.text))"
   ]
  },
  {
   "cell_type": "markdown",
   "id": "ac7d5350",
   "metadata": {},
   "source": [
    "### 2) 이번주 로또번호 출력 \n",
    "- google에 \"로또번호 당첨번호\" 검색\n",
    "https://dhlottery.co.kr/gameResult.do?method=byWin\n"
   ]
  },
  {
   "cell_type": "code",
   "execution_count": 140,
   "id": "78a1acb6",
   "metadata": {},
   "outputs": [
    {
     "data": {
      "text/plain": [
       "200"
      ]
     },
     "execution_count": 140,
     "metadata": {},
     "output_type": "execute_result"
    }
   ],
   "source": [
    "#방법 1의 soup객체 생성\n",
    "import requests\n",
    "from bs4 import BeautifulSoup\n",
    "url = 'https://dhlottery.co.kr/gameResult.do?method=byWin'\n",
    "response = requests.get(url)\n",
    "soup = BeautifulSoup(response.text,'html.parser')\n",
    "# response.status_code"
   ]
  },
  {
   "cell_type": "markdown",
   "id": "f661b04f",
   "metadata": {},
   "source": [
    "```\n",
    "1173회 (2025년 05년 24일 추첨)\n",
    "당첨번호 [1 5 18 20 30 35]\n",
    "보너스 3\n",
    "```"
   ]
  },
  {
   "cell_type": "code",
   "execution_count": 261,
   "id": "bf417b1c",
   "metadata": {},
   "outputs": [
    {
     "name": "stdout",
     "output_type": "stream",
     "text": [
      "1173회 (2025년 05월 24일 추첨)\n",
      "당첨번호 : [1, 5, 18, 20, 30, 35]\n",
      "보너스 : [3]\n"
     ]
    }
   ],
   "source": [
    "time = soup.select_one('div.win_result > h4 > strong').text\n",
    "date = soup.select_one('div.win_result > p.desc').text\n",
    "title1 = soup.select_one('div.num.win > strong').text\n",
    "win = soup.select('div.num.win > p> span')\n",
    "winnum = [int(w.text) for w in win]\n",
    "bonusnum = soup.select_one('div.num.bonus > p > span').text\n",
    "title2 = soup.select_one('div.num.bonus > strong').text\n",
    "print(time,date)\n",
    "print(title1, \":\", winnum)\n",
    "print(title2, \":\", [int(bonusnum)])"
   ]
  },
  {
   "cell_type": "code",
   "execution_count": 210,
   "id": "94ccfc1f",
   "metadata": {},
   "outputs": [
    {
     "data": {
      "text/plain": [
       "['1173회']"
      ]
     },
     "execution_count": 210,
     "metadata": {},
     "output_type": "execute_result"
    }
   ],
   "source": [
    "num = soup.select('div.win_result > h4 > strong')\n",
    "[n.text for n in num]\n",
    "# num"
   ]
  },
  {
   "cell_type": "code",
   "execution_count": 198,
   "id": "8c40f7e6",
   "metadata": {},
   "outputs": [
    {
     "data": {
      "text/plain": [
       "['(2025년 05월 24일 추첨)']"
      ]
     },
     "execution_count": 198,
     "metadata": {},
     "output_type": "execute_result"
    }
   ],
   "source": [
    "date = soup.select('div.win_result > p')\n",
    "[d.text for d in date]"
   ]
  },
  {
   "cell_type": "code",
   "execution_count": 199,
   "id": "09225083",
   "metadata": {},
   "outputs": [
    {
     "data": {
      "text/plain": [
       "['당첨번호']"
      ]
     },
     "execution_count": 199,
     "metadata": {},
     "output_type": "execute_result"
    }
   ],
   "source": [
    "title = soup.select('div.num.win > strong')\n",
    "[t.text for t in title]"
   ]
  },
  {
   "cell_type": "code",
   "execution_count": 205,
   "id": "c5c9e18c",
   "metadata": {},
   "outputs": [
    {
     "data": {
      "text/plain": [
       "['\\n1\\n5\\n18\\n20\\n30\\n35\\n']"
      ]
     },
     "execution_count": 205,
     "metadata": {},
     "output_type": "execute_result"
    }
   ],
   "source": [
    "winnum = soup.select('div.num.win > P')\n",
    "[w.text for w in winnum]"
   ]
  },
  {
   "cell_type": "code",
   "execution_count": 206,
   "id": "bf1e765e",
   "metadata": {},
   "outputs": [
    {
     "data": {
      "text/plain": [
       "['3']"
      ]
     },
     "execution_count": 206,
     "metadata": {},
     "output_type": "execute_result"
    }
   ],
   "source": [
    "bonusnum = soup.select('div.num.bonus > p')\n",
    "[b.text for b in bonusnum]"
   ]
  },
  {
   "cell_type": "code",
   "execution_count": 256,
   "id": "a7269709",
   "metadata": {},
   "outputs": [],
   "source": [
    "#방법 2의 soup객체 생성\n",
    "from urllib.request import urlopen\n",
    "response = urlopen(url)\n",
    "soup = BeautifulSoup(response,'html.parser')"
   ]
  },
  {
   "cell_type": "code",
   "execution_count": 302,
   "id": "39ba659d",
   "metadata": {},
   "outputs": [
    {
     "name": "stdout",
     "output_type": "stream",
     "text": [
      "1173회 (2025년 05월 24일 추첨)\n",
      "당첨번호 [1, 5, 18, 20, 30, 35]\n",
      "보너스 [3]\n"
     ]
    }
   ],
   "source": [
    "win_result = soup.find('div', class_='win_result')\n",
    "times = win_result.find('strong').text\n",
    "date = soup.find('p', class_='desc').text\n",
    "print(times, date)\n",
    "num_win = soup.find('div',class_=['win'])\n",
    "title1 = num_win.find('strong').text\n",
    "lotto_number = num_win.find_all('span') #배열\n",
    "print(title1,[int(lotto.text) for lotto in lotto_number])\n",
    "title2 = num_bonus.find('strong').text\n",
    "num_bonus = soup.find('div', class_=['bonus'])\n",
    "bonus_num = num_bonus.find_all('span')\n",
    "print(title2,[int(bonus.text) for bonus in bonus_num])"
   ]
  },
  {
   "cell_type": "markdown",
   "id": "583fceb7",
   "metadata": {},
   "source": [
    "### 3) 다음 검색 리스트\n",
    "https://search.daum.net/search?w=tot&DA=YZR&t__nil_searchbox=btn&q=%EC%95%BC%EA%B5%AC+\n",
    "```\n",
    "no    title    link\n",
    "0    [비즈 나우] 비트코인               https://v.daum.net/v/20250528075215864\n",
    "1    [비트코인 2025] 백악관 크립토 차르  https://v.daum.net/v/20250528103907230\n",
    "```"
   ]
  },
  {
   "cell_type": "code",
   "execution_count": 321,
   "id": "e770b304",
   "metadata": {},
   "outputs": [
    {
     "name": "stdout",
     "output_type": "stream",
     "text": [
      "https://search.daum.net/search?nil_suggest=btn&w=news&DA=SBC&cluster=y&q=비트코인\n"
     ]
    }
   ],
   "source": [
    "keyword = '비트코인'\n",
    "url = 'https://search.daum.net/search?nil_suggest=btn&w=news&DA=SBC&cluster=y&q='\\\n",
    "        +keyword\n",
    "print(url)"
   ]
  },
  {
   "cell_type": "code",
   "execution_count": 333,
   "id": "551a7d64",
   "metadata": {},
   "outputs": [
    {
     "data": {
      "text/html": [
       "<div>\n",
       "<style scoped>\n",
       "    .dataframe tbody tr th:only-of-type {\n",
       "        vertical-align: middle;\n",
       "    }\n",
       "\n",
       "    .dataframe tbody tr th {\n",
       "        vertical-align: top;\n",
       "    }\n",
       "\n",
       "    .dataframe thead th {\n",
       "        text-align: right;\n",
       "    }\n",
       "</style>\n",
       "<table border=\"1\" class=\"dataframe\">\n",
       "  <thead>\n",
       "    <tr style=\"text-align: right;\">\n",
       "      <th></th>\n",
       "      <th>no</th>\n",
       "      <th>title</th>\n",
       "      <th>link</th>\n",
       "    </tr>\n",
       "  </thead>\n",
       "  <tbody>\n",
       "    <tr>\n",
       "      <th>0</th>\n",
       "      <td>0</td>\n",
       "      <td>[비즈 나우] 비트코인 2025 컨퍼런스 개막…'전략자산' 선언 코앞</td>\n",
       "      <td>http://v.daum.net/v/20250528075215864</td>\n",
       "    </tr>\n",
       "    <tr>\n",
       "      <th>1</th>\n",
       "      <td>1</td>\n",
       "      <td>[비트코인 2025] 백악관 크립토 차르 “美 정부 비트코인 추가 매입 검토…부채...</td>\n",
       "      <td>http://v.daum.net/v/20250528103907230</td>\n",
       "    </tr>\n",
       "    <tr>\n",
       "      <th>2</th>\n",
       "      <td>2</td>\n",
       "      <td>비트코인, 트럼프 미디어 비축 소식에도 주춤…1억5100만원대</td>\n",
       "      <td>http://v.daum.net/v/20250528095112897</td>\n",
       "    </tr>\n",
       "    <tr>\n",
       "      <th>3</th>\n",
       "      <td>3</td>\n",
       "      <td>“맥O날드보다 맛없어!” 혹평이 가득한 트럼프 만찬과 비트코인 피자데이[엠블록레터]</td>\n",
       "      <td>http://v.daum.net/v/20250528143002735</td>\n",
       "    </tr>\n",
       "    <tr>\n",
       "      <th>4</th>\n",
       "      <td>4</td>\n",
       "      <td>美 상원의원 \"트럼프 대통령, 비트코인법 지지\"</td>\n",
       "      <td>http://v.daum.net/v/20250528090342853</td>\n",
       "    </tr>\n",
       "    <tr>\n",
       "      <th>5</th>\n",
       "      <td>5</td>\n",
       "      <td>[비트코인 2025] 로빈후드 창업자 “토큰화 증권은 美 ‘자본 패권’ 키우는 수단”</td>\n",
       "      <td>http://v.daum.net/v/20250528110600761</td>\n",
       "    </tr>\n",
       "    <tr>\n",
       "      <th>6</th>\n",
       "      <td>6</td>\n",
       "      <td>'비트코인 빚투' 스트레티지, 또 샀다…보유량 58만개 돌파</td>\n",
       "      <td>http://v.daum.net/v/20250528042404292</td>\n",
       "    </tr>\n",
       "    <tr>\n",
       "      <th>7</th>\n",
       "      <td>7</td>\n",
       "      <td>\"비트코인 산다\"…트럼프家, 25억달러 자금 조달 추진[코인브리핑]</td>\n",
       "      <td>http://v.daum.net/v/20250528111837527</td>\n",
       "    </tr>\n",
       "    <tr>\n",
       "      <th>8</th>\n",
       "      <td>8</td>\n",
       "      <td>숨 고르는 비트코인, 10만8000달러선 '주춤'</td>\n",
       "      <td>http://v.daum.net/v/20250528095921258</td>\n",
       "    </tr>\n",
       "    <tr>\n",
       "      <th>9</th>\n",
       "      <td>9</td>\n",
       "      <td>트럼프미디어그룹, 25억 달러 규모 자금 조달 통해 비트코인 매입 예고</td>\n",
       "      <td>http://v.daum.net/v/20250528084245020</td>\n",
       "    </tr>\n",
       "  </tbody>\n",
       "</table>\n",
       "</div>"
      ],
      "text/plain": [
       "   no                                              title  \\\n",
       "0   0            [비즈 나우] 비트코인 2025 컨퍼런스 개막…'전략자산' 선언 코앞    \n",
       "1   1   [비트코인 2025] 백악관 크립토 차르 “美 정부 비트코인 추가 매입 검토…부채...   \n",
       "2   2                비트코인, 트럼프 미디어 비축 소식에도 주춤…1억5100만원대    \n",
       "3   3    “맥O날드보다 맛없어!” 혹평이 가득한 트럼프 만찬과 비트코인 피자데이[엠블록레터]    \n",
       "4   4                        美 상원의원 \"트럼프 대통령, 비트코인법 지지\"    \n",
       "5   5   [비트코인 2025] 로빈후드 창업자 “토큰화 증권은 美 ‘자본 패권’ 키우는 수단”    \n",
       "6   6                 '비트코인 빚투' 스트레티지, 또 샀다…보유량 58만개 돌파    \n",
       "7   7             \"비트코인 산다\"…트럼프家, 25억달러 자금 조달 추진[코인브리핑]    \n",
       "8   8                       숨 고르는 비트코인, 10만8000달러선 '주춤'    \n",
       "9   9           트럼프미디어그룹, 25억 달러 규모 자금 조달 통해 비트코인 매입 예고    \n",
       "\n",
       "                                    link  \n",
       "0  http://v.daum.net/v/20250528075215864  \n",
       "1  http://v.daum.net/v/20250528103907230  \n",
       "2  http://v.daum.net/v/20250528095112897  \n",
       "3  http://v.daum.net/v/20250528143002735  \n",
       "4  http://v.daum.net/v/20250528090342853  \n",
       "5  http://v.daum.net/v/20250528110600761  \n",
       "6  http://v.daum.net/v/20250528042404292  \n",
       "7  http://v.daum.net/v/20250528111837527  \n",
       "8  http://v.daum.net/v/20250528095921258  \n",
       "9  http://v.daum.net/v/20250528084245020  "
      ]
     },
     "execution_count": 333,
     "metadata": {},
     "output_type": "execute_result"
    }
   ],
   "source": [
    "# 웹크롤링 방법1 (리스트안에 딕셔너리로 만들기)\n",
    "import requests\n",
    "from bs4 import BeautifulSoup\n",
    "keyword = '비트코인'\n",
    "url = 'https://search.daum.net/search?nil_suggest=btn&w=news&DA=SBC&cluster=y&q='\\\n",
    "        +keyword\n",
    "response = requests.get(url)\n",
    "soup = BeautifulSoup(response.text,\n",
    "                    'html.parser')\n",
    "items_find_list=[] #검색할 결과를 담을 dict list\n",
    "items_el = soup.select('div.item-title > strong.tit-g.clamp-g > a')\n",
    "len(items_el)\n",
    "for idx, item in enumerate(items_el):\n",
    "    items_find_list.append({'no': idx,\n",
    "                            'title' : item.text,\n",
    "                            'link' : item.attrs.get('href')})\n",
    "import pandas as pd\n",
    "pd.DataFrame(items_find_list)"
   ]
  },
  {
   "cell_type": "code",
   "execution_count": 344,
   "id": "8ae10213",
   "metadata": {},
   "outputs": [
    {
     "data": {
      "text/html": [
       "<div>\n",
       "<style scoped>\n",
       "    .dataframe tbody tr th:only-of-type {\n",
       "        vertical-align: middle;\n",
       "    }\n",
       "\n",
       "    .dataframe tbody tr th {\n",
       "        vertical-align: top;\n",
       "    }\n",
       "\n",
       "    .dataframe thead th {\n",
       "        text-align: right;\n",
       "    }\n",
       "</style>\n",
       "<table border=\"1\" class=\"dataframe\">\n",
       "  <thead>\n",
       "    <tr style=\"text-align: right;\">\n",
       "      <th></th>\n",
       "      <th>no</th>\n",
       "      <th>title</th>\n",
       "      <th>link</th>\n",
       "    </tr>\n",
       "  </thead>\n",
       "  <tbody>\n",
       "    <tr>\n",
       "      <th>0</th>\n",
       "      <td>0</td>\n",
       "      <td>[비트코인 2025] 백악관 크립토 차르 “美 정부 비트코인 추가 매입 검토…부채...</td>\n",
       "      <td>http://v.daum.net/v/20250528103907230</td>\n",
       "    </tr>\n",
       "    <tr>\n",
       "      <th>1</th>\n",
       "      <td>1</td>\n",
       "      <td>[비즈 나우] 비트코인 2025 컨퍼런스 개막…'전략자산' 선언 코앞</td>\n",
       "      <td>http://v.daum.net/v/20250528075215864</td>\n",
       "    </tr>\n",
       "    <tr>\n",
       "      <th>2</th>\n",
       "      <td>2</td>\n",
       "      <td>“맥O날드보다 맛없어!” 혹평이 가득한 트럼프 만찬과 비트코인 피자데이[엠블록레터]</td>\n",
       "      <td>http://v.daum.net/v/20250528143002735</td>\n",
       "    </tr>\n",
       "    <tr>\n",
       "      <th>3</th>\n",
       "      <td>3</td>\n",
       "      <td>블랙록, 자사 비트코인 ETF 보유량 25% 확대…기관 투자 본격화 신호탄</td>\n",
       "      <td>http://v.daum.net/v/20250528151802080</td>\n",
       "    </tr>\n",
       "    <tr>\n",
       "      <th>4</th>\n",
       "      <td>4</td>\n",
       "      <td>비트코인, 트럼프 미디어 비축 소식에도 주춤…1억5100만원대</td>\n",
       "      <td>http://v.daum.net/v/20250528095112897</td>\n",
       "    </tr>\n",
       "    <tr>\n",
       "      <th>5</th>\n",
       "      <td>5</td>\n",
       "      <td>'비트코인 빚투' 스트레티지, 또 샀다…보유량 58만개 돌파</td>\n",
       "      <td>http://v.daum.net/v/20250528042404292</td>\n",
       "    </tr>\n",
       "    <tr>\n",
       "      <th>6</th>\n",
       "      <td>6</td>\n",
       "      <td>美 상원의원 \"트럼프 대통령, 비트코인법 지지\"</td>\n",
       "      <td>http://v.daum.net/v/20250528090342853</td>\n",
       "    </tr>\n",
       "    <tr>\n",
       "      <th>7</th>\n",
       "      <td>7</td>\n",
       "      <td>숨 고르는 비트코인, 10만8000달러선 '주춤'</td>\n",
       "      <td>http://v.daum.net/v/20250528095921258</td>\n",
       "    </tr>\n",
       "    <tr>\n",
       "      <th>8</th>\n",
       "      <td>8</td>\n",
       "      <td>[비트코인 2025] 로빈후드 창업자 “토큰화 증권은 美 ‘자본 패권’ 키우는 수단”</td>\n",
       "      <td>http://v.daum.net/v/20250528110600761</td>\n",
       "    </tr>\n",
       "    <tr>\n",
       "      <th>9</th>\n",
       "      <td>9</td>\n",
       "      <td>트럼프미디어그룹, 25억 달러 규모 자금 조달 통해 비트코인 매입 예고</td>\n",
       "      <td>http://v.daum.net/v/20250528084245020</td>\n",
       "    </tr>\n",
       "  </tbody>\n",
       "</table>\n",
       "</div>"
      ],
      "text/plain": [
       "   no                                              title  \\\n",
       "0   0   [비트코인 2025] 백악관 크립토 차르 “美 정부 비트코인 추가 매입 검토…부채...   \n",
       "1   1            [비즈 나우] 비트코인 2025 컨퍼런스 개막…'전략자산' 선언 코앞    \n",
       "2   2    “맥O날드보다 맛없어!” 혹평이 가득한 트럼프 만찬과 비트코인 피자데이[엠블록레터]    \n",
       "3   3         블랙록, 자사 비트코인 ETF 보유량 25% 확대…기관 투자 본격화 신호탄    \n",
       "4   4                비트코인, 트럼프 미디어 비축 소식에도 주춤…1억5100만원대    \n",
       "5   5                 '비트코인 빚투' 스트레티지, 또 샀다…보유량 58만개 돌파    \n",
       "6   6                        美 상원의원 \"트럼프 대통령, 비트코인법 지지\"    \n",
       "7   7                       숨 고르는 비트코인, 10만8000달러선 '주춤'    \n",
       "8   8   [비트코인 2025] 로빈후드 창업자 “토큰화 증권은 美 ‘자본 패권’ 키우는 수단”    \n",
       "9   9           트럼프미디어그룹, 25억 달러 규모 자금 조달 통해 비트코인 매입 예고    \n",
       "\n",
       "                                    link  \n",
       "0  http://v.daum.net/v/20250528103907230  \n",
       "1  http://v.daum.net/v/20250528075215864  \n",
       "2  http://v.daum.net/v/20250528143002735  \n",
       "3  http://v.daum.net/v/20250528151802080  \n",
       "4  http://v.daum.net/v/20250528095112897  \n",
       "5  http://v.daum.net/v/20250528042404292  \n",
       "6  http://v.daum.net/v/20250528090342853  \n",
       "7  http://v.daum.net/v/20250528095921258  \n",
       "8  http://v.daum.net/v/20250528110600761  \n",
       "9  http://v.daum.net/v/20250528084245020  "
      ]
     },
     "execution_count": 344,
     "metadata": {},
     "output_type": "execute_result"
    }
   ],
   "source": [
    "# 리스트안에 리스트 만들기\n",
    "import requests\n",
    "from bs4 import BeautifulSoup\n",
    "keyword = '비트코인'\n",
    "url = 'https://search.daum.net/search?nil_suggest=btn&w=news&DA=SBC&cluster=y&q='\\\n",
    "        +keyword\n",
    "response = requests.get(url)\n",
    "soup = BeautifulSoup(response.text,\n",
    "                    'html.parser')\n",
    "items_find_list=[] #검색한 결과를 담을 2차원 리스트\n",
    "items_el = soup.select('div.item-title > strong.tit-g.clamp-g > a')\n",
    "for idx, item in enumerate(items_el):\n",
    "    items_find_list.append([idx, item.text, item.attrs.get('href')])\n",
    "\n",
    "# items_find_list\n",
    "import pandas as pd\n",
    "pd.DataFrame(items_find_list, columns=['no','title','link'])"
   ]
  },
  {
   "cell_type": "code",
   "execution_count": 358,
   "id": "fbcf718d",
   "metadata": {
    "collapsed": true
   },
   "outputs": [
    {
     "name": "stdout",
     "output_type": "stream",
     "text": [
      "{'no': 20, 'title': ' [영상] “강세장 진입한 비트코인, 내년 2분기까지 최소 20만~30만 달러 갈 듯” ', 'link': 'http://v.daum.net/v/20250527090137566'}\n",
      "{'no': 21, 'title': ' 전력거래소, `공감·혁신` 토대 조직문화 바꾸기 ', 'link': 'http://v.daum.net/v/20250528152647580'}\n",
      "{'no': 22, 'title': ' “미국 대통령이 이래도 되나”…트럼프 일가, 4조원 유치해 대놓고 코인 투자 ', 'link': 'http://v.daum.net/v/20250527220300328'}\n",
      "{'no': 23, 'title': ' 트럼프미디어, 비트코인 3.4조 투자 발표에 주가 10% 폭락 ', 'link': 'http://v.daum.net/v/20250528080206055'}\n",
      "{'no': 24, 'title': ' 트럼프 미디어, 비트코인 사나…가상자산 매입 위해 30억 달러 조달 추진 ', 'link': 'http://v.daum.net/v/20250527043000368'}\n",
      "{'no': 25, 'title': ' 전력거래소, 2025년 공감과 혁신 특강 개최 ', 'link': 'http://v.daum.net/v/20250528150120264'}\n",
      "{'no': 26, 'title': ' <단독>\"예배 참석하면 코인 드려요. 5년 안에 비트코인 넘어섭니다\"..신앙심 노린 코인 유사 사기 기승 ', 'link': 'http://v.daum.net/v/20250528083323774'}\n",
      "{'no': 27, 'title': ' 뉴욕증시 휴장에 10.9만弗선 숨고른 비트코인 [매일코인] ', 'link': 'http://v.daum.net/v/20250527103810840'}\n",
      "{'no': 28, 'title': ' 이재명 공약집…권력기관 고강도 개혁·AI 통한 성장에 방점 ', 'link': 'http://v.daum.net/v/20250528151522978'}\n",
      "{'no': 29, 'title': ' \"비트코인, 해킹에 안전한 시간 20년 남아…완벽한 양자컴에 뚫려\" ', 'link': 'http://v.daum.net/v/20250527084812094'}\n"
     ]
    }
   ],
   "source": [
    "# 다음 뉴스 검색(키워드,원하는 페이지수)\n",
    "import requests \n",
    "from bs4 import BeautifulSoup\n",
    "import pandas as pd\n",
    "import time\n",
    "keyword = '비트코인'\n",
    "page = 3\n",
    "# url = 'https://search.daum.net/search?w=news&nil_search=btn&DA=NTB&enc=utf8&cluster=y&q={keyword}&p={page}'\n",
    "# response = requests.get(url)\n",
    "\n",
    "url = 'https://search.daum.net/search?w=news&nil_search=btn&DA=NTB&enc=utf8&cluster=y'\n",
    "params = {'q':keyword, 'p':page}\n",
    "response = requests.get(url,params=params)\n",
    "soup = BeautifulSoup(response.text,\n",
    "                     'html.parser')\n",
    "\n",
    "items_find_list=[] #검색할 결과를 담을 dict list\n",
    "items_el = soup.select('div.item-title > strong.tit-g.clamp-g > a')\n",
    "len(items_el)\n",
    "for idx, item in enumerate(items_el):\n",
    "    items_find_list.append({'no': idx,\n",
    "                            'title' : item.text,\n",
    "                            'link' : item.attrs.get('href')})\n",
    "    print({'no':(page-1)*10+ idx,\n",
    "                            'title' : item.text,\n",
    "                            'link' : item.attrs.get('href')})"
   ]
  },
  {
   "cell_type": "code",
   "execution_count": null,
   "id": "eb273338",
   "metadata": {},
   "outputs": [],
   "source": [
    "# 함수 만들기 "
   ]
  },
  {
   "cell_type": "code",
   "execution_count": 361,
   "id": "b2fa9786",
   "metadata": {},
   "outputs": [],
   "source": [
    "import requests \n",
    "from bs4 import BeautifulSoup\n",
    "import pandas as pd\n",
    "import time\n",
    "def collect_list(keyword,page=1):\n",
    "    'keyword로 다음 검색한 결과(해당 page)를 return'\n",
    "    url = 'https://search.daum.net/search?w=news&nil_search=btn&DA=NTB&enc=utf8&cluster=y'\n",
    "    params = {'q':keyword, 'p':page}\n",
    "    response = requests.get(url,params=params)\n",
    "    soup = BeautifulSoup(response.text,\n",
    "                         'html.parser')\n",
    "    items_find_list=[] #검색할 결과를 담을 dict list\n",
    "    items_el = soup.select('div.item-title > strong.tit-g.clamp-g > a')\n",
    "    for idx, item in enumerate(items_el):\n",
    "        items_find_list.append({'no':(page-1)*10+ idx,\n",
    "                                'title' : item.text,\n",
    "                                'link' : item.attrs.get('href')})\n",
    "    return items_find_list"
   ]
  },
  {
   "cell_type": "code",
   "execution_count": 366,
   "id": "b46f6397",
   "metadata": {},
   "outputs": [
    {
     "data": {
      "text/plain": [
       "[{'no': 30,\n",
       "  'title': ' 어쩌면 마지막 빨래 ',\n",
       "  'link': 'http://v.daum.net/v/20250421143123301'},\n",
       " {'no': 31,\n",
       "  'title': ' ‘관세전쟁’에 빨래 횟수도 줄이는 미국인들 ',\n",
       "  'link': 'http://v.daum.net/v/20250425123746580'},\n",
       " {'no': 32,\n",
       "  'title': ' 밥 짓기·설거지·빨래 강요, 괴롭힘 신고도 묵살···새마을금고 간부들 1700만원 배상 ',\n",
       "  'link': 'http://v.daum.net/v/20250428152014225'},\n",
       " {'no': 33,\n",
       "  'title': ' 빨래 횟수도 줄이는 미국인들…실적 전망 줄줄이 낮춘다 ',\n",
       "  'link': 'http://v.daum.net/v/20250425111350870'},\n",
       " {'no': 34,\n",
       "  'title': ' 빨래건조대 혁신… 모터로 건조시간 35%↓ ',\n",
       "  'link': 'http://v.daum.net/v/20250409012011659'},\n",
       " {'no': 35,\n",
       "  'title': \" 문앞에 놔두면 빨래 끝…세탁도 '앱 클릭' \",\n",
       "  'link': 'http://v.daum.net/v/20250513160655495'},\n",
       " {'no': 36,\n",
       "  'title': ' 박승희, 시모가 곱게 갠 빨래→아수라장 옷방에 철푸덕 (동상이몽2)[결정적장면] ',\n",
       "  'link': 'http://v.daum.net/v/20250422060825114'},\n",
       " {'no': 37,\n",
       "  'title': ' ‘제이쓴♥’ 홍현희, 60억 압구정 아파트 나와 집 없이 떠돌아다녀 “벌써 10일째” ',\n",
       "  'link': 'http://v.daum.net/v/20250528145050679'},\n",
       " {'no': 38,\n",
       "  'title': ' 하원미 \"하숙집 엄마처럼 빨래, 밥, 청소\"…추신수 월봉 70만원 시절에도 살뜰 내조(\\'추신수몰래\\') ',\n",
       "  'link': 'http://v.daum.net/v/20250424234801721'},\n",
       " {'no': 39,\n",
       "  'title': ' [서산] 영남 산불에 밥차·빨래차 몰고 간 사람들 \"위로하기도 힘들 정도\" ',\n",
       "  'link': 'http://v.daum.net/v/20250409092403521'}]"
      ]
     },
     "execution_count": 366,
     "metadata": {},
     "output_type": "execute_result"
    }
   ],
   "source": [
    "collect_list('빨래',4)"
   ]
  },
  {
   "cell_type": "code",
   "execution_count": null,
   "id": "6ad1ba7a",
   "metadata": {},
   "outputs": [],
   "source": [
    "#원하는 keyword로 다음검색 (append X)\n",
    "\n",
    "for "
   ]
  },
  {
   "cell_type": "code",
   "execution_count": null,
   "id": "a019d899",
   "metadata": {},
   "outputs": [],
   "source": []
  },
  {
   "cell_type": "code",
   "execution_count": null,
   "id": "a0c0f0ce",
   "metadata": {},
   "outputs": [],
   "source": []
  },
  {
   "cell_type": "code",
   "execution_count": null,
   "id": "1ac356cc",
   "metadata": {},
   "outputs": [],
   "source": []
  },
  {
   "cell_type": "code",
   "execution_count": null,
   "id": "d2039538",
   "metadata": {},
   "outputs": [],
   "source": []
  },
  {
   "cell_type": "code",
   "execution_count": null,
   "id": "5a9dd294",
   "metadata": {},
   "outputs": [],
   "source": []
  },
  {
   "cell_type": "code",
   "execution_count": null,
   "id": "123121f7",
   "metadata": {},
   "outputs": [],
   "source": []
  },
  {
   "cell_type": "markdown",
   "id": "eac195fc",
   "metadata": {},
   "source": [
    "### 4)User-agent를 추가하여 크롤링\n",
    "- urlopen()함수를 사용하면 크롤링이 안 되는 사이트\n",
    "- User-agent를 추가하여 크롤링(브라우저)"
   ]
  },
  {
   "cell_type": "code",
   "execution_count": 340,
   "id": "e7ab8308",
   "metadata": {},
   "outputs": [
    {
     "data": {
      "text/html": [
       "<div>\n",
       "<style scoped>\n",
       "    .dataframe tbody tr th:only-of-type {\n",
       "        vertical-align: middle;\n",
       "    }\n",
       "\n",
       "    .dataframe tbody tr th {\n",
       "        vertical-align: top;\n",
       "    }\n",
       "\n",
       "    .dataframe thead th {\n",
       "        text-align: right;\n",
       "    }\n",
       "</style>\n",
       "<table border=\"1\" class=\"dataframe\">\n",
       "  <thead>\n",
       "    <tr style=\"text-align: right;\">\n",
       "      <th></th>\n",
       "    </tr>\n",
       "  </thead>\n",
       "  <tbody>\n",
       "  </tbody>\n",
       "</table>\n",
       "</div>"
      ],
      "text/plain": [
       "Empty DataFrame\n",
       "Columns: []\n",
       "Index: []"
      ]
     },
     "execution_count": 340,
     "metadata": {},
     "output_type": "execute_result"
    }
   ],
   "source": [
    "# 웹크롤링 방법2\n",
    "from urllib.request import urlopen\n",
    "import urllib.parse\n",
    "\n",
    "word = '비트코인'\n",
    "word = urllib.parse.quote(word)\n",
    "# print(word)\n",
    "url = 'https://search.daum.net/search?nil_suggest=btn&w=news&DA=SBC&cluster=y&q='+word\n",
    "response = urlopen(url)\n",
    "soup = BeautifulSoup(response,\n",
    "                    'html.parser')\n",
    "\n",
    "items_find_list=[] #검색할 결과를 담을 dict list\n",
    "items_el = soup.select('div.item-title > strong.tit-g.clamp-g > a')\n",
    "# len(items_el)\n",
    "for idx, item in enumerate(items_el):\n",
    "    items_find_list.append({'no': idx,\n",
    "                            'title' : item.text,\n",
    "                            'link' : item.attrs.get('href')})\n",
    "import pandas as pd\n",
    "pd.DataFrame(items_find_list)\n"
   ]
  },
  {
   "cell_type": "markdown",
   "id": "1175b941",
   "metadata": {},
   "source": [
    "꼭 User-Agent를 사용하여야 하는 경우 : https://www.melon.com/chart/index.htm"
   ]
  },
  {
   "cell_type": "code",
   "execution_count": 31,
   "id": "83bde7f7",
   "metadata": {},
   "outputs": [
    {
     "data": {
      "text/plain": [
       "406"
      ]
     },
     "execution_count": 31,
     "metadata": {},
     "output_type": "execute_result"
    }
   ],
   "source": [
    "# 방법 1\n",
    "import requests\n",
    "from bs4 import BeautifulSoup\n",
    "from urllib.request import urlopen\n",
    "url='https://www.melon.com/chart/'\n",
    "# melonpage = requests.get(url)\n",
    "# melonpage.status_code #오류"
   ]
  },
  {
   "cell_type": "code",
   "execution_count": 29,
   "id": "355070d5",
   "metadata": {},
   "outputs": [],
   "source": [
    "# 방법2.\n",
    "from urllib.request import urlopen, Request\n",
    "# import urllib.parse\n",
    "# melonpage = urlopen(url) 에러남\n",
    "# melonpage = requests.get(url)\n",
    "# melonpage.status_code\n"
   ]
  },
  {
   "cell_type": "code",
   "execution_count": 35,
   "id": "b54cc491",
   "metadata": {},
   "outputs": [],
   "source": [
    "#User-Agent 추가\n",
    "headers = {'user-agent':\n",
    "           'Mozilla/5.0 (Windows NT 10.0; Win64; x64) AppleWebKit/537.36 (KHTML, like Gecko) Chrome/137.0.0.0 Safari/537.36'}\n",
    "#방법2\n",
    "request = Request(url,headers=headers)\n",
    "melonpage = urlopen(request)\n",
    "\n",
    "#방법1\n",
    "melonpage = requests.get(url, headers=headers)\n",
    "soup = BeautifulSoup(melonpage.text, #melonpage.content\n",
    "                    'html.parser')\n",
    "# soup"
   ]
  },
  {
   "cell_type": "code",
   "execution_count": 84,
   "id": "a87122de",
   "metadata": {},
   "outputs": [
    {
     "name": "stdout",
     "output_type": "stream",
     "text": [
      "1순위 | 노래 제목:너에게 닿기를 | 가수:10CM\n",
      "2순위 | 노래 제목:Never Ending Story | 가수:아이유\n",
      "3순위 | 노래 제목:Drowning | 가수:WOODZ\n",
      "4순위 | 노래 제목:like JENNIE | 가수:제니 (JENNIE)\n",
      "5순위 | 노래 제목:모르시나요(PROD.로코베리) | 가수:조째즈\n",
      "6순위 | 노래 제목:THUNDER | 가수:세븐틴 (SEVENTEEN)\n",
      "7순위 | 노래 제목:TOO BAD (feat. Anderson .Paak) | 가수:G-DRAGON\n",
      "8순위 | 노래 제목:네모의 꿈 | 가수:아이유\n",
      "9순위 | 노래 제목:Whiplash | 가수:aespa\n",
      "10순위 | 노래 제목:HOME SWEET HOME (feat. 태양, 대성) | 가수:G-DRAGON\n",
      "11순위 | 노래 제목:나는 반딧불 | 가수:황가람\n",
      "12순위 | 노래 제목:어제보다 슬픈 오늘 | 가수:우디 (Woody)\n",
      "13순위 | 노래 제목:오늘만 I LOVE YOU | 가수:BOYNEXTDOOR\n",
      "14순위 | 노래 제목:REBEL HEART | 가수:IVE (아이브)\n",
      "15순위 | 노래 제목:HAPPY | 가수:DAY6 (데이식스)\n",
      "16순위 | 노래 제목:빨간 운동화 | 가수:아이유\n",
      "17순위 | 노래 제목:Flower | 가수:오반(OVAN)\n",
      "18순위 | 노래 제목:APT. | 가수:로제 (ROSÉ), Bruno Mars\n",
      "19순위 | 노래 제목:청춘만화 | 가수:이무진\n",
      "20순위 | 노래 제목:HOT | 가수:LE SSERAFIM (르세라핌)\n",
      "21순위 | 노래 제목:10월 4일 | 가수:아이유\n",
      "22순위 | 노래 제목:한 페이지가 될 수 있게 | 가수:DAY6 (데이식스)\n",
      "23순위 | 노래 제목:Last Scene (Feat. 원슈타인) | 가수:아이유\n",
      "24순위 | 노래 제목:HBD | 가수:세븐틴 (SEVENTEEN)\n",
      "25순위 | 노래 제목:MY LOVE(2025) | 가수:이예은, 아샤트리, 전건호\n",
      "26순위 | 노래 제목:그날이 오면 | 가수:투모로우바이투게더\n",
      "27순위 | 노래 제목:내게 사랑이 뭐냐고 물어본다면 | 가수:로이킴\n",
      "28순위 | 노래 제목:Fly Up | 가수:RIIZE\n",
      "29순위 | 노래 제목:Welcome to the Show | 가수:DAY6 (데이식스)\n",
      "30순위 | 노래 제목:소나기 | 가수:이클립스 (ECLIPSE)\n",
      "31순위 | 노래 제목:천상연 | 가수:이창섭\n",
      "32순위 | 노래 제목:Die With A Smile | 가수:Lady Gaga, Bruno Mars\n",
      "33순위 | 노래 제목:toxic till the end | 가수:로제 (ROSÉ)\n",
      "34순위 | 노래 제목:HANDS UP | 가수:MEOVV (미야오)\n",
      "35순위 | 노래 제목:Supernova | 가수:aespa\n",
      "36순위 | 노래 제목:예뻤어 | 가수:DAY6 (데이식스)\n",
      "37순위 | 노래 제목:Skyfall (THE 8 Solo) | 가수:세븐틴 (SEVENTEEN)\n",
      "38순위 | 노래 제목:ATTITUDE | 가수:IVE (아이브)\n",
      "39순위 | 노래 제목:I DO ME | 가수:KiiiKiii (키키)\n",
      "40순위 | 노래 제목:미치게 그리워서 | 가수:황가람\n",
      "41순위 | 노래 제목:미인 (Feat. Balming Tiger) | 가수:아이유\n",
      "42순위 | 노래 제목:어떻게 이별까지 사랑하겠어, 널 사랑하는 거지 | 가수:AKMU (악뮤)\n",
      "43순위 | 노래 제목:DRIP | 가수:BABYMONSTER\n",
      "44순위 | 노래 제목:Love wins all | 가수:아이유\n",
      "45순위 | 노래 제목:PO￦ER | 가수:G-DRAGON\n",
      "46순위 | 노래 제목:청혼하지 않을 이유를 못 찾았어 | 가수:이무진\n",
      "47순위 | 노래 제목:그대만 있다면 (여름날 우리 X 너드커넥션 (Nerd Connection)) | 가수:너드커넥션 (Nerd Connection)\n",
      "48순위 | 노래 제목:사랑은 늘 도망가 | 가수:임영웅\n",
      "49순위 | 노래 제목:Bad Influence (Prod. by Pharrell Williams) | 가수:세븐틴 (SEVENTEEN)\n",
      "50순위 | 노래 제목:내 이름 맑음 | 가수:QWER\n",
      "51순위 | 노래 제목:99.9% (WONWOO Solo) | 가수:세븐틴 (SEVENTEEN)\n",
      "52순위 | 노래 제목:슬픈 초대장 | 가수:순순희(지환)\n",
      "53순위 | 노래 제목:첫 만남은 계획대로 되지 않아 | 가수:TWS (투어스)\n",
      "54순위 | 노래 제목:Fortunate Change (JOSHUA Solo) | 가수:세븐틴 (SEVENTEEN)\n",
      "55순위 | 노래 제목:Raindrops (SEUNGKWAN Solo) | 가수:세븐틴 (SEVENTEEN)\n",
      "56순위 | 노래 제목:UP (KARINA Solo) | 가수:aespa\n",
      "57순위 | 노래 제목:고민중독 | 가수:QWER\n",
      "58순위 | 노래 제목:나는 아픈 건 딱 질색이니까 | 가수:i-dle (아이들)\n",
      "59순위 | 노래 제목:주저하는 연인들을 위해 | 가수:잔나비\n",
      "60순위 | 노래 제목:TAKE ME | 가수:G-DRAGON\n",
      "61순위 | 노래 제목:너의 모든 순간 | 가수:성시경\n",
      "62순위 | 노래 제목:운명 (WOOZI Solo) | 가수:세븐틴 (SEVENTEEN)\n",
      "63순위 | 노래 제목:Damage (HOSHI Solo) (feat. Timbaland) | 가수:세븐틴 (SEVENTEEN)\n",
      "64순위 | 노래 제목:Happy Virus (DK Solo) | 가수:세븐틴 (SEVENTEEN)\n",
      "65순위 | 노래 제목:Magnetic | 가수:아일릿(ILLIT)\n",
      "66순위 | 노래 제목:How Sweet | 가수:NewJeans\n",
      "67순위 | 노래 제목:사랑인가 봐 | 가수:멜로망스\n",
      "68순위 | 노래 제목:I Feel Good | 가수:BOYNEXTDOOR\n",
      "69순위 | 노래 제목:에피소드 | 가수:이무진\n",
      "70순위 | 노래 제목:비의 랩소디 | 가수:임재현\n",
      "71순위 | 노래 제목:Shake It Off (MINGYU Solo) | 가수:세븐틴 (SEVENTEEN)\n",
      "72순위 | 노래 제목:우연 (JEONGHAN Solo) | 가수:세븐틴 (SEVENTEEN)\n",
      "73순위 | 노래 제목:Bag Bad Back | 가수:RIIZE\n",
      "74순위 | 노래 제목:123-78 | 가수:BOYNEXTDOOR\n",
      "75순위 | 노래 제목:모든 날, 모든 순간 (Every day, Every Moment) | 가수:폴킴\n",
      "76순위 | 노래 제목:The Chase | 가수:Hearts2Hearts (하츠투하츠)\n",
      "77순위 | 노래 제목:시작의 아이 | 가수:마크툽 (MAKTUB)\n",
      "78순위 | 노래 제목:Supersonic | 가수:프로미스나인\n",
      "79순위 | 노래 제목:Jungle (S.COUPS Solo) | 가수:세븐틴 (SEVENTEEN)\n",
      "80순위 | 노래 제목:쌍둥이자리 (Gemini) (JUN Solo) | 가수:세븐틴 (SEVENTEEN)\n",
      "81순위 | 노래 제목:I AM | 가수:IVE (아이브)\n",
      "82순위 | 노래 제목:Shining Star (Vernon Solo) | 가수:세븐틴 (SEVENTEEN)\n",
      "83순위 | 노래 제목:Hype Boy | 가수:NewJeans\n",
      "84순위 | 노래 제목:다정히 내 이름을 부르면 | 가수:경서예지, 전건호\n",
      "85순위 | 노래 제목:Seven (feat. Latto) - Clean Ver. | 가수:정국\n",
      "86순위 | 노래 제목:헤어지자 말해요 | 가수:박재정\n",
      "87순위 | 노래 제목:Trigger (DINO Solo) | 가수:세븐틴 (SEVENTEEN)\n",
      "88순위 | 노래 제목:영원해 | 가수:도경수(D.O.)\n",
      "89순위 | 노래 제목:이렇게 좋아해 본 적이 없어요 | 가수:BOYNEXTDOOR\n",
      "90순위 | 노래 제목:우리들의 블루스 | 가수:임영웅\n",
      "91순위 | 노래 제목:봄날 | 가수:방탄소년단\n",
      "92순위 | 노래 제목:무제(無題) (Untitled, 2014) | 가수:G-DRAGON\n",
      "93순위 | 노래 제목:천국보다 아름다운 | 가수:임영웅\n",
      "94순위 | 노래 제목:인사 | 가수:범진\n",
      "95순위 | 노래 제목:굿데이 2025 (텔레파시 + 달빛 창가에서) | 가수:G-DRAGON, 황정민, 데프콘, 홍진경, 정형돈, 조세호, 기안84, 안성재, 태양, 정해인, 황광희, 임시완, 이수혁, 대성, 코드 쿤스트 (CODE KUNST), CL, 김고은, DAY6 (데이식스), 부석순 (SEVENTEEN), aespa\n",
      "96순위 | 노래 제목:Sticky | 가수:KISS OF LIFE\n",
      "97순위 | 노래 제목:Small girl (feat. 도경수(D.O.)) | 가수:이영지\n",
      "98순위 | 노래 제목:Dash | 가수:PLAVE\n",
      "99순위 | 노래 제목:사막에서 꽃을 피우듯 | 가수:우디 (Woody)\n",
      "100순위 | 노래 제목:다시 만날 수 있을까 | 가수:임영웅\n"
     ]
    }
   ],
   "source": [
    "import requests\n",
    "from bs4 import BeautifulSoup\n",
    "url='https://www.melon.com/chart/'\n",
    "# 멜론 순위, 노래제목, 가수 , 좋아요갯수 \n",
    "# 1위 | 너에게 닿기를 | 10CM | ♥ 85,756 \n",
    "title = soup.select('div.ellipsis.rank01 > span')\n",
    "title\n",
    "artist = soup.select('div.ellipsis.rank02 > span.checkEllipsis')\n",
    "artist\n",
    "len([t.text.strip()for t in title])\n",
    "len([art.text for art in artist])\n",
    "for idx,(t,art) in enumerate(zip(title,artist)):\n",
    "    print('{}순위 | 노래 제목:{} | 가수:{}'.format(idx+1,\n",
    "                                          t.text.strip(),\n",
    "                                          art.text))\n",
    "# [t.text for t in title]\n",
    "# artist = soup.select_one('div.ellipsis.rank02 > span.checkEllipsis').text\n",
    "# artist\n",
    "\n",
    "# print(title,artist)"
   ]
  },
  {
   "cell_type": "code",
   "execution_count": null,
   "id": "7f0d5df9",
   "metadata": {},
   "outputs": [],
   "source": []
  }
 ],
 "metadata": {
  "kernelspec": {
   "display_name": "Python 3 (ipykernel)",
   "language": "python",
   "name": "python3"
  },
  "language_info": {
   "codemirror_mode": {
    "name": "ipython",
    "version": 3
   },
   "file_extension": ".py",
   "mimetype": "text/x-python",
   "name": "python",
   "nbconvert_exporter": "python",
   "pygments_lexer": "ipython3",
   "version": "3.10.9"
  },
  "toc": {
   "base_numbering": 1,
   "nav_menu": {},
   "number_sections": false,
   "sideBar": true,
   "skip_h1_title": false,
   "title_cell": "Table of Contents",
   "title_sidebar": "Contents",
   "toc_cell": false,
   "toc_position": {
    "height": "calc(100% - 180px)",
    "left": "10px",
    "top": "150px",
    "width": "213.75px"
   },
   "toc_section_display": true,
   "toc_window_display": true
  }
 },
 "nbformat": 4,
 "nbformat_minor": 5
}
