{
 "cells": [
  {
   "cell_type": "code",
   "execution_count": 1,
   "id": "5ae3fa77",
   "metadata": {},
   "outputs": [
    {
     "data": {
      "text/html": [
       "\n",
       "<style>\n",
       "div.container{width:86% !important;}\n",
       "div.cell.code_cell.rendered{width:100%;}\n",
       "div.CodeMirror {font-family:Consolas; font-size:15pt;}\n",
       "div.output {font-size:15pt; font-weight:bold;}\n",
       "div.input {font-family:Consolas; font-size:15pt;}\n",
       "div.prompt {min-width:70px;}\n",
       "div#toc-wrapper{padding-top:120px;}\n",
       "div.text_cell_render ul li{font-size:12pt;padding:5px;}\n",
       "table.dataframe{font-size:15px;}\n",
       "</style>\n",
       " "
      ],
      "text/plain": [
       "<IPython.core.display.HTML object>"
      ]
     },
     "metadata": {},
     "output_type": "display_data"
    }
   ],
   "source": [
    "from IPython.display import display, HTML \n",
    "display(HTML(\"\"\"\n",
    "<style>\n",
    "div.container{width:86% !important;}\n",
    "div.cell.code_cell.rendered{width:100%;}\n",
    "div.CodeMirror {font-family:Consolas; font-size:15pt;}\n",
    "div.output {font-size:15pt; font-weight:bold;}\n",
    "div.input {font-family:Consolas; font-size:15pt;}\n",
    "div.prompt {min-width:70px;}\n",
    "div#toc-wrapper{padding-top:120px;}\n",
    "div.text_cell_render ul li{font-size:12pt;padding:5px;}\n",
    "table.dataframe{font-size:15px;}\n",
    "</style>\n",
    " \"\"\"))"
   ]
  },
  {
   "cell_type": "markdown",
   "id": "401811a9",
   "metadata": {},
   "source": [
    "<span style=\"color:Purple; font-size: 30px; font-weight: bold;\">ch06.모듈과 패키지</span>\n",
    "- 모듈 : 함수, 변수, 클래스 등을 담고 있는 파이썬 코드 파일(*py)\n",
    "- 패키지 : 모듈들이 포함된 폴더\n",
    "\n",
    "- anaconda는 1500개 이상의 패키지 install (정확한 갯수는 버전에 따라 상이)\n",
    "- miniconda : python.org 버전보다 조금 많이 install(최소한의 것만)\n",
    "- python.org(파이썬 인터프린터 다운 가능) : 파이썬 인터프리터(파이썬으로 프로그램짜면 해석해주는 프로그램)\n",
    "- 파이썬 표준 모듈 200여개 install(re,datetime...)\n",
    "- 실습실 노트북은 파이썬 3.10 / \n",
    "- 최신버전이라고 좋은게 아님"
   ]
  },
  {
   "cell_type": "markdown",
   "id": "56775e15",
   "metadata": {},
   "source": [
    "# 1절.파이썬 모듈 사용 방법 (4가지)"
   ]
  },
  {
   "cell_type": "markdown",
   "id": "dc6bcc1c",
   "metadata": {},
   "source": [
    "## 1. import 모듈"
   ]
  },
  {
   "cell_type": "code",
   "execution_count": null,
   "id": "e326cea4",
   "metadata": {},
   "outputs": [],
   "source": [
    "# 1. import 모듈명 : 모듈안의 함수, 클래스, 변수를 모듈명.함수명() 사용이 가능\n",
    "import time  #파이썬 표준모듈 time모듈안의 모든 함수, 클래스, 변수를 메모리에 로드 한다. load\n",
    "\n",
    "time.ctime()"
   ]
  },
  {
   "cell_type": "code",
   "execution_count": 633,
   "id": "4b5bde4f",
   "metadata": {},
   "outputs": [
    {
     "data": {
      "text/plain": [
       "1744940688.7599595"
      ]
     },
     "execution_count": 633,
     "metadata": {},
     "output_type": "execute_result"
    }
   ],
   "source": [
    "time.time()    #1970.01.01년부터 지금까지 시간 "
   ]
  },
  {
   "cell_type": "code",
   "execution_count": 634,
   "id": "50ad8eb0",
   "metadata": {},
   "outputs": [],
   "source": [
    "del time"
   ]
  },
  {
   "cell_type": "code",
   "execution_count": 636,
   "id": "645d0696",
   "metadata": {},
   "outputs": [
    {
     "ename": "NameError",
     "evalue": "name 'time' is not defined",
     "output_type": "error",
     "traceback": [
      "\u001b[1;31m---------------------------------------------------------------------------\u001b[0m",
      "\u001b[1;31mNameError\u001b[0m                                 Traceback (most recent call last)",
      "Cell \u001b[1;32mIn[636], line 1\u001b[0m\n\u001b[1;32m----> 1\u001b[0m \u001b[43mtime\u001b[49m\u001b[38;5;241m.\u001b[39mctime()\n",
      "\u001b[1;31mNameError\u001b[0m: name 'time' is not defined"
     ]
    }
   ],
   "source": [
    "time.ctime() #time 모듈이 메모리에서 삭제되어 오류가 남. unload "
   ]
  },
  {
   "cell_type": "markdown",
   "id": "3f1f9d0c",
   "metadata": {},
   "source": [
    "## 2. from 모듈"
   ]
  },
  {
   "cell_type": "code",
   "execution_count": 638,
   "id": "d2eab3fe",
   "metadata": {},
   "outputs": [],
   "source": [
    "#2. from 모듈(A) import 함수|클래스|변수(B) : A모듈안의 B만 실행(load)\n",
    "#   from 패키지(A) import 모듈(B) : A패키지안의 B모듈을 실행(load)\n",
    "#   from 패키지(A).모듈명(B) import 함수|클래스|변수(C) : A패키지밑의 B모듈의 C만 실행(load)"
   ]
  },
  {
   "cell_type": "code",
   "execution_count": 639,
   "id": "444ba635",
   "metadata": {},
   "outputs": [],
   "source": [
    "from time import ctime, time  #tiem 모듈안에 ctime과 time을 가져옴"
   ]
  },
  {
   "cell_type": "code",
   "execution_count": 640,
   "id": "1d4fb462",
   "metadata": {},
   "outputs": [
    {
     "data": {
      "text/plain": [
       "'Fri Apr 18 10:51:59 2025'"
      ]
     },
     "execution_count": 640,
     "metadata": {},
     "output_type": "execute_result"
    }
   ],
   "source": [
    "ctime()"
   ]
  },
  {
   "cell_type": "code",
   "execution_count": 642,
   "id": "8b5513c9",
   "metadata": {},
   "outputs": [
    {
     "data": {
      "text/plain": [
       "1744941124.0426915"
      ]
     },
     "execution_count": 642,
     "metadata": {},
     "output_type": "execute_result"
    }
   ],
   "source": [
    "time()"
   ]
  },
  {
   "cell_type": "code",
   "execution_count": 643,
   "id": "a508cc6f",
   "metadata": {},
   "outputs": [],
   "source": [
    "del ctime, time"
   ]
  },
  {
   "cell_type": "markdown",
   "id": "8006e7a3",
   "metadata": {},
   "source": [
    "## 3. 특정한 모듈명 별칭 변경"
   ]
  },
  {
   "cell_type": "code",
   "execution_count": 644,
   "id": "67e65f97",
   "metadata": {},
   "outputs": [],
   "source": [
    "# import 모듈명 as 별칭 : 모듈을 메모리에서 실행(load) 별칭으로 사용\n",
    "import time as t"
   ]
  },
  {
   "cell_type": "code",
   "execution_count": 645,
   "id": "54bd91f1",
   "metadata": {},
   "outputs": [
    {
     "data": {
      "text/plain": [
       "'Fri Apr 18 10:56:09 2025'"
      ]
     },
     "execution_count": 645,
     "metadata": {},
     "output_type": "execute_result"
    }
   ],
   "source": [
    "t.ctime()"
   ]
  },
  {
   "cell_type": "code",
   "execution_count": 646,
   "id": "0c6c114f",
   "metadata": {},
   "outputs": [
    {
     "data": {
      "text/plain": [
       "1744941372.4441106"
      ]
     },
     "execution_count": 646,
     "metadata": {},
     "output_type": "execute_result"
    }
   ],
   "source": [
    "t.time()"
   ]
  },
  {
   "cell_type": "code",
   "execution_count": 650,
   "id": "6c2225f0",
   "metadata": {},
   "outputs": [],
   "source": [
    "del t"
   ]
  },
  {
   "cell_type": "code",
   "execution_count": 652,
   "id": "48ae5162",
   "metadata": {},
   "outputs": [],
   "source": [
    "#    from 모듈명 import 함수 as 별칭\n",
    "#    from 패키지명 import 모듈명 as 별칭\n",
    "#    from 패키지명.모듈명 import 함수 as 별칭\n",
    "from time import ctime as ct, time as ti"
   ]
  },
  {
   "cell_type": "code",
   "execution_count": 654,
   "id": "f3971dd4",
   "metadata": {},
   "outputs": [
    {
     "data": {
      "text/plain": [
       "'Fri Apr 18 10:59:59 2025'"
      ]
     },
     "execution_count": 654,
     "metadata": {},
     "output_type": "execute_result"
    }
   ],
   "source": [
    "ct()"
   ]
  },
  {
   "cell_type": "code",
   "execution_count": 655,
   "id": "0db8aaf5",
   "metadata": {},
   "outputs": [
    {
     "data": {
      "text/plain": [
       "1744941602.708128"
      ]
     },
     "execution_count": 655,
     "metadata": {},
     "output_type": "execute_result"
    }
   ],
   "source": [
    "ti()"
   ]
  },
  {
   "cell_type": "code",
   "execution_count": 656,
   "id": "14544fad",
   "metadata": {},
   "outputs": [],
   "source": [
    "del ct,ti"
   ]
  },
  {
   "cell_type": "code",
   "execution_count": 657,
   "id": "5de65bb9",
   "metadata": {
    "scrolled": true
   },
   "outputs": [
    {
     "ename": "NameError",
     "evalue": "name 'ct' is not defined",
     "output_type": "error",
     "traceback": [
      "\u001b[1;31m---------------------------------------------------------------------------\u001b[0m",
      "\u001b[1;31mNameError\u001b[0m                                 Traceback (most recent call last)",
      "Cell \u001b[1;32mIn[657], line 1\u001b[0m\n\u001b[1;32m----> 1\u001b[0m \u001b[43mct\u001b[49m()\n",
      "\u001b[1;31mNameError\u001b[0m: name 'ct' is not defined"
     ]
    }
   ],
   "source": [
    "ct()"
   ]
  },
  {
   "cell_type": "code",
   "execution_count": 658,
   "id": "df1fb800",
   "metadata": {},
   "outputs": [
    {
     "ename": "NameError",
     "evalue": "name 'ti' is not defined",
     "output_type": "error",
     "traceback": [
      "\u001b[1;31m---------------------------------------------------------------------------\u001b[0m",
      "\u001b[1;31mNameError\u001b[0m                                 Traceback (most recent call last)",
      "Cell \u001b[1;32mIn[658], line 1\u001b[0m\n\u001b[1;32m----> 1\u001b[0m \u001b[43mti\u001b[49m()\n",
      "\u001b[1;31mNameError\u001b[0m: name 'ti' is not defined"
     ]
    }
   ],
   "source": [
    "ti()"
   ]
  },
  {
   "cell_type": "markdown",
   "id": "a363ae22",
   "metadata": {},
   "source": [
    "# 2절. 사용자 정의 모듈\n",
    "- 모듈 가져오는 순서 \n",
    "    - (1) 파이선 표준 모듈(200개)\n",
    "    - (2) sys.path변수에 저장된 경로\n",
    " "
   ]
  },
  {
   "cell_type": "code",
   "execution_count": 659,
   "id": "b4e97844",
   "metadata": {},
   "outputs": [
    {
     "data": {
      "text/plain": [
       "['C:\\\\ai_x\\\\source\\\\01_python',\n",
       " 'C:\\\\Users\\\\Admin\\\\anaconda3\\\\python310.zip',\n",
       " 'C:\\\\Users\\\\Admin\\\\anaconda3\\\\DLLs',\n",
       " 'C:\\\\Users\\\\Admin\\\\anaconda3\\\\lib',\n",
       " 'C:\\\\Users\\\\Admin\\\\anaconda3',\n",
       " '',\n",
       " 'C:\\\\Users\\\\Admin\\\\anaconda3\\\\lib\\\\site-packages',\n",
       " 'C:\\\\Users\\\\Admin\\\\anaconda3\\\\lib\\\\site-packages\\\\win32',\n",
       " 'C:\\\\Users\\\\Admin\\\\anaconda3\\\\lib\\\\site-packages\\\\win32\\\\lib',\n",
       " 'C:\\\\Users\\\\Admin\\\\anaconda3\\\\lib\\\\site-packages\\\\Pythonwin']"
      ]
     },
     "execution_count": 659,
     "metadata": {},
     "output_type": "execute_result"
    }
   ],
   "source": [
    "import sys \n",
    "sys.path"
   ]
  },
  {
   "cell_type": "code",
   "execution_count": 660,
   "id": "702886e1",
   "metadata": {},
   "outputs": [
    {
     "ename": "ModuleNotFoundError",
     "evalue": "No module named 'objgrapt'",
     "output_type": "error",
     "traceback": [
      "\u001b[1;31m---------------------------------------------------------------------------\u001b[0m",
      "\u001b[1;31mModuleNotFoundError\u001b[0m                       Traceback (most recent call last)",
      "Cell \u001b[1;32mIn[660], line 1\u001b[0m\n\u001b[1;32m----> 1\u001b[0m \u001b[38;5;28;01mimport\u001b[39;00m \u001b[38;5;21;01mobjgrapt\u001b[39;00m\n\u001b[0;32m      2\u001b[0m sys\u001b[38;5;241m.\u001b[39mpath\n",
      "\u001b[1;31mModuleNotFoundError\u001b[0m: No module named 'objgrapt'"
     ]
    }
   ],
   "source": [
    "import objgrapt\n",
    "sys.path"
   ]
  },
  {
   "cell_type": "code",
   "execution_count": 661,
   "id": "5990225b",
   "metadata": {},
   "outputs": [
    {
     "data": {
      "text/plain": [
       "['C:\\\\ai_x\\\\source\\\\01_python',\n",
       " 'C:\\\\Users\\\\Admin\\\\anaconda3\\\\python310.zip',\n",
       " 'C:\\\\Users\\\\Admin\\\\anaconda3\\\\DLLs',\n",
       " 'C:\\\\Users\\\\Admin\\\\anaconda3\\\\lib',\n",
       " 'C:\\\\Users\\\\Admin\\\\anaconda3',\n",
       " '',\n",
       " 'C:\\\\Users\\\\Admin\\\\anaconda3\\\\lib\\\\site-packages',\n",
       " 'C:\\\\Users\\\\Admin\\\\anaconda3\\\\lib\\\\site-packages\\\\win32',\n",
       " 'C:\\\\Users\\\\Admin\\\\anaconda3\\\\lib\\\\site-packages\\\\win32\\\\lib',\n",
       " 'C:\\\\Users\\\\Admin\\\\anaconda3\\\\lib\\\\site-packages\\\\Pythonwin',\n",
       " 'C:\\\\ai_x\\\\source\\\\pylib']"
      ]
     },
     "execution_count": 661,
     "metadata": {},
     "output_type": "execute_result"
    }
   ],
   "source": [
    "sys.path.append(r'C:\\ai_x\\source\\pylib')\n",
    "sys.path  #변수  / sys.path()이면 함수"
   ]
  },
  {
   "cell_type": "code",
   "execution_count": 662,
   "id": "6d9a1c39",
   "metadata": {},
   "outputs": [
    {
     "data": {
      "text/plain": [
       "['C:\\\\ai_x\\\\source\\\\01_python',\n",
       " 'C:\\\\Users\\\\Admin\\\\anaconda3\\\\python310.zip',\n",
       " 'C:\\\\Users\\\\Admin\\\\anaconda3\\\\DLLs',\n",
       " 'C:\\\\Users\\\\Admin\\\\anaconda3\\\\lib',\n",
       " 'C:\\\\Users\\\\Admin\\\\anaconda3',\n",
       " '',\n",
       " 'C:\\\\Users\\\\Admin\\\\anaconda3\\\\lib\\\\site-packages',\n",
       " 'C:\\\\Users\\\\Admin\\\\anaconda3\\\\lib\\\\site-packages\\\\win32',\n",
       " 'C:\\\\Users\\\\Admin\\\\anaconda3\\\\lib\\\\site-packages\\\\win32\\\\lib',\n",
       " 'C:\\\\Users\\\\Admin\\\\anaconda3\\\\lib\\\\site-packages\\\\Pythonwin',\n",
       " 'C:\\\\ai_x\\\\source\\\\pylib']"
      ]
     },
     "execution_count": 662,
     "metadata": {},
     "output_type": "execute_result"
    }
   ],
   "source": [
    "sys.path"
   ]
  },
  {
   "cell_type": "markdown",
   "id": "fe2b7ec2",
   "metadata": {},
   "source": [
    "## 사용자 정의 모듈"
   ]
  },
  {
   "cell_type": "markdown",
   "id": "d63f5ebf",
   "metadata": {},
   "source": [
    "# !질문"
   ]
  },
  {
   "cell_type": "code",
   "execution_count": 667,
   "id": "528163d8",
   "metadata": {},
   "outputs": [
    {
     "name": "stdout",
     "output_type": "stream",
     "text": [
      "0 1 1 2 3 5 8 13 21 34 55 89 144 \n",
      "[0, 1, 1, 2, 3, 5, 8, 13, 21, 34, 55, 89, 144]\n"
     ]
    }
   ],
   "source": [
    "# 1번째 방식\n",
    "import fibo\n",
    "fibo.fibonacci_print(200)\n",
    "print(fibo.fibonacci_return(200))"
   ]
  },
  {
   "cell_type": "code",
   "execution_count": 671,
   "id": "e4892389",
   "metadata": {},
   "outputs": [],
   "source": [
    "# 2번째 방식 \n",
    "from fibo import fibonacci_print"
   ]
  },
  {
   "cell_type": "code",
   "execution_count": 672,
   "id": "797dc3d4",
   "metadata": {},
   "outputs": [
    {
     "name": "stdout",
     "output_type": "stream",
     "text": [
      "0 1 1 2 3 5 8 13 21 34 55 89 \n"
     ]
    }
   ],
   "source": [
    "fibonacci_print(100)"
   ]
  },
  {
   "cell_type": "code",
   "execution_count": 675,
   "id": "daf4db3f",
   "metadata": {},
   "outputs": [],
   "source": [
    "from fibo import fibonacci_return"
   ]
  },
  {
   "cell_type": "code",
   "execution_count": 676,
   "id": "a13e3a77",
   "metadata": {},
   "outputs": [
    {
     "data": {
      "text/plain": [
       "[0, 1, 1, 2, 3, 5, 8, 13, 21, 34, 55, 89]"
      ]
     },
     "execution_count": 676,
     "metadata": {},
     "output_type": "execute_result"
    }
   ],
   "source": [
    "fibonacci_return(100)"
   ]
  },
  {
   "cell_type": "code",
   "execution_count": 679,
   "id": "8f9f7526",
   "metadata": {},
   "outputs": [
    {
     "ename": "NameError",
     "evalue": "name 'fibo' is not defined",
     "output_type": "error",
     "traceback": [
      "\u001b[1;31m---------------------------------------------------------------------------\u001b[0m",
      "\u001b[1;31mNameError\u001b[0m                                 Traceback (most recent call last)",
      "Cell \u001b[1;32mIn[679], line 1\u001b[0m\n\u001b[1;32m----> 1\u001b[0m \u001b[38;5;28;01mdel\u001b[39;00m fibo\n",
      "\u001b[1;31mNameError\u001b[0m: name 'fibo' is not defined"
     ]
    }
   ],
   "source": [
    "del fibo"
   ]
  },
  {
   "cell_type": "code",
   "execution_count": 684,
   "id": "3f72804a",
   "metadata": {},
   "outputs": [
    {
     "name": "stdout",
     "output_type": "stream",
     "text": [
      "0 1 1 2 3 5 8 13 21 34 55 89 144 \n",
      "[0, 1, 1, 2, 3, 5, 8, 13, 21, 34, 55, 89]\n"
     ]
    },
    {
     "data": {
      "text/plain": [
       "[0, 1, 1, 2, 3, 5, 8, 13, 21, 34, 55, 89]"
      ]
     },
     "execution_count": 684,
     "metadata": {},
     "output_type": "execute_result"
    }
   ],
   "source": [
    "# 3번째 방법\n",
    "import fibo as f\n",
    "f.fibonacci_print(200)\n",
    "print(f.fibonacci_return(100))\n",
    "f.fibonacci_return(100)"
   ]
  },
  {
   "cell_type": "code",
   "execution_count": 683,
   "id": "2c31675d",
   "metadata": {},
   "outputs": [
    {
     "data": {
      "text/plain": [
       "[0, 1, 1, 2, 3, 5, 8, 13, 21, 34, 55, 89, 144]"
      ]
     },
     "execution_count": 683,
     "metadata": {},
     "output_type": "execute_result"
    }
   ],
   "source": [
    "#4번째 방법\n",
    "from fibo import fibonacci_return as fibo_r\n",
    "fibo_r(200)"
   ]
  },
  {
   "cell_type": "markdown",
   "id": "0279b02d",
   "metadata": {},
   "source": [
    "# 3절. 패키지"
   ]
  },
  {
   "cell_type": "code",
   "execution_count": null,
   "id": "0bcd98ab",
   "metadata": {},
   "outputs": [],
   "source": [
    "# __init__.py 폴더은 필수로 만들어져있어야 함."
   ]
  },
  {
   "cell_type": "code",
   "execution_count": 697,
   "id": "d9089770",
   "metadata": {},
   "outputs": [],
   "source": [
    "import sample_pac"
   ]
  },
  {
   "cell_type": "code",
   "execution_count": 698,
   "id": "716f7a00",
   "metadata": {},
   "outputs": [
    {
     "name": "stdout",
     "output_type": "stream",
     "text": [
      "sample_pac패키지 안의 ab 패키지를 load 합니다.\n"
     ]
    }
   ],
   "source": [
    "from sample_pac.ab import *"
   ]
  },
  {
   "cell_type": "code",
   "execution_count": 699,
   "id": "3b0e7ad7",
   "metadata": {},
   "outputs": [
    {
     "name": "stdout",
     "output_type": "stream",
     "text": [
      "sample_pac/ab/a 모듈의 Hello를 load합니다.\n"
     ]
    }
   ],
   "source": [
    "a.hello()"
   ]
  },
  {
   "cell_type": "code",
   "execution_count": 700,
   "id": "655415c0",
   "metadata": {},
   "outputs": [
    {
     "ename": "NameError",
     "evalue": "name 'b' is not defined",
     "output_type": "error",
     "traceback": [
      "\u001b[1;31m---------------------------------------------------------------------------\u001b[0m",
      "\u001b[1;31mNameError\u001b[0m                                 Traceback (most recent call last)",
      "Cell \u001b[1;32mIn[700], line 1\u001b[0m\n\u001b[1;32m----> 1\u001b[0m \u001b[43mb\u001b[49m\u001b[38;5;241m.\u001b[39mworld()\n",
      "\u001b[1;31mNameError\u001b[0m: name 'b' is not defined"
     ]
    }
   ],
   "source": [
    "b.world()"
   ]
  },
  {
   "cell_type": "code",
   "execution_count": 701,
   "id": "9215483b",
   "metadata": {},
   "outputs": [],
   "source": [
    "from sample_pac.ab.b import world"
   ]
  },
  {
   "cell_type": "code",
   "execution_count": 703,
   "id": "64055d2c",
   "metadata": {},
   "outputs": [
    {
     "name": "stdout",
     "output_type": "stream",
     "text": [
      "sample_pac/ab/b 모듈의 world를 load 합니다.\n"
     ]
    }
   ],
   "source": [
    "world()"
   ]
  },
  {
   "cell_type": "code",
   "execution_count": null,
   "id": "59ec58f1",
   "metadata": {},
   "outputs": [],
   "source": [
    "from sample_pac."
   ]
  },
  {
   "cell_type": "code",
   "execution_count": 704,
   "id": "817d451e",
   "metadata": {},
   "outputs": [
    {
     "name": "stdout",
     "output_type": "stream",
     "text": [
      "sample_pac/cd/c 모듈안의 nice\n",
      "sample_pac/ab/a 모듈의 Hello를 load합니다.\n"
     ]
    }
   ],
   "source": [
    "import sample_pac.cd.c as c\n",
    "c.nice()"
   ]
  },
  {
   "cell_type": "code",
   "execution_count": 705,
   "id": "678cd34c",
   "metadata": {},
   "outputs": [
    {
     "name": "stdout",
     "output_type": "stream",
     "text": [
      "sample_pac/ab/a 모듈의 Hello를 load합니다.\n"
     ]
    }
   ],
   "source": [
    "c.a.hello()"
   ]
  },
  {
   "cell_type": "code",
   "execution_count": 708,
   "id": "35551343",
   "metadata": {},
   "outputs": [
    {
     "name": "stdout",
     "output_type": "stream",
     "text": [
      "sample_pac/cd/c 모듈안의 nice\n",
      "sample_pac/ab/a 모듈의 Hello를 load합니다.\n"
     ]
    }
   ],
   "source": [
    "c.nice()"
   ]
  },
  {
   "cell_type": "markdown",
   "id": "dc4ff745",
   "metadata": {},
   "source": [
    "# 4절. 패키지 설치 및 삭제\n",
    "    *pypi.org\n",
    "    *pip 최신버전으로 하는 방법 : python -m pip install -- upgrade pip\n",
    "    \n",
    "★아래 명령어는 아나콘다 프롬프트에서 실행★\n",
    "\n",
    "- 패키지 설치 방법 : pip install 패키지명[==버전] / pip install 패키지화일명 (*whl 출저:pypi.org)\n",
    "- 패키지 설치 확인 : pip show 패키지명 \n",
    "- 패키지 삭제 방법 : pip uninstall 패키지명 \n",
    "(*삭제는 프로그램 충돌이 일어나는 경우에 많이 함. 아랫버전 다운받기 위해)\n",
    "    \n",
    "      <아나콘다나 미니콘다 설치 관련>\n",
    "- 아나콘다나 미니콘다 설치 방법 : conda install 패키지명[==버전] \n",
    "(버전을 작성하지 않는다면 pip보다 한단계 낮은거로 설치)\n",
    "- 아나콘다나 미니콘다 설치 확인 : conda list 패키지명 \n",
    "- 아나콘다나 미니콘다 패키지 삭제 : conda remove 패키지명"
   ]
  },
  {
   "cell_type": "code",
   "execution_count": 711,
   "id": "049ee28c",
   "metadata": {},
   "outputs": [],
   "source": [
    "import objgraph  #메모리 사용량 출력하는 함수 아나콘다 "
   ]
  },
  {
   "cell_type": "code",
   "execution_count": 712,
   "id": "2f6f79b0",
   "metadata": {},
   "outputs": [
    {
     "name": "stdout",
     "output_type": "stream",
     "text": [
      "list          35932\n",
      "dict          34791\n",
      "function      18566\n",
      "Token         16858\n",
      "Operator      16832\n",
      "Name          13832\n",
      "tuple         13612\n",
      "PythonNode    11913\n",
      "ReferenceType 5614\n",
      "DFAPlan       5418\n"
     ]
    }
   ],
   "source": [
    "objgraph.show_most_common_types()"
   ]
  },
  {
   "cell_type": "markdown",
   "id": "c7fb18e5",
   "metadata": {},
   "source": [
    "# 5절. 연습문제"
   ]
  },
  {
   "cell_type": "code",
   "execution_count": null,
   "id": "01dfaca1",
   "metadata": {},
   "outputs": [],
   "source": [
    "#Q1.(3)\n",
    "#Q2.(4)\n",
    "#Q3.__init__\n",
    "#Q4.__all__\n",
    "#Q5.(1)"
   ]
  },
  {
   "cell_type": "code",
   "execution_count": null,
   "id": "f84aeb55",
   "metadata": {},
   "outputs": [],
   "source": []
  },
  {
   "cell_type": "code",
   "execution_count": null,
   "id": "465c9830",
   "metadata": {},
   "outputs": [],
   "source": []
  },
  {
   "cell_type": "code",
   "execution_count": null,
   "id": "a0da4f83",
   "metadata": {},
   "outputs": [],
   "source": []
  },
  {
   "cell_type": "code",
   "execution_count": null,
   "id": "3fd274ae",
   "metadata": {},
   "outputs": [],
   "source": []
  },
  {
   "cell_type": "code",
   "execution_count": null,
   "id": "43b1fa71",
   "metadata": {},
   "outputs": [],
   "source": []
  }
 ],
 "metadata": {
  "kernelspec": {
   "display_name": "Python 3 (ipykernel)",
   "language": "python",
   "name": "python3"
  },
  "language_info": {
   "codemirror_mode": {
    "name": "ipython",
    "version": 3
   },
   "file_extension": ".py",
   "mimetype": "text/x-python",
   "name": "python",
   "nbconvert_exporter": "python",
   "pygments_lexer": "ipython3",
   "version": "3.10.9"
  },
  "toc": {
   "base_numbering": 1,
   "nav_menu": {},
   "number_sections": false,
   "sideBar": true,
   "skip_h1_title": false,
   "title_cell": "Table of Contents",
   "title_sidebar": "Contents",
   "toc_cell": false,
   "toc_position": {
    "height": "calc(100% - 180px)",
    "left": "10px",
    "top": "150px",
    "width": "187.625px"
   },
   "toc_section_display": true,
   "toc_window_display": true
  }
 },
 "nbformat": 4,
 "nbformat_minor": 5
}
