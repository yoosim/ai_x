{
 "cells": [
  {
   "cell_type": "code",
   "execution_count": 1,
   "id": "80c368f1",
   "metadata": {},
   "outputs": [
    {
     "data": {
      "text/html": [
       "\n",
       "<style>\n",
       "div.container{width:86% !important;}\n",
       "div.cell.code_cell.rendered{width:100%;}\n",
       "div.CodeMirror {font-family:Consolas; font-size:15pt;}\n",
       "div.output {font-size:15pt; font-weight:bold;}\n",
       "div.input {font-family:Consolas; font-size:15pt;}\n",
       "div.prompt {min-width:70px;}\n",
       "div#toc-wrapper{padding-top:120px;}\n",
       "div.text_cell_render ul li{font-size:12pt;padding:5px;}\n",
       "table.dataframe{font-size:15px;}\n",
       "</style>\n",
       " "
      ],
      "text/plain": [
       "<IPython.core.display.HTML object>"
      ]
     },
     "metadata": {},
     "output_type": "display_data"
    }
   ],
   "source": [
    "from IPython.display import display, HTML \n",
    "display(HTML(\"\"\"\n",
    "<style>\n",
    "div.container{width:86% !important;}\n",
    "div.cell.code_cell.rendered{width:100%;}\n",
    "div.CodeMirror {font-family:Consolas; font-size:15pt;}\n",
    "div.output {font-size:15pt; font-weight:bold;}\n",
    "div.input {font-family:Consolas; font-size:15pt;}\n",
    "div.prompt {min-width:70px;}\n",
    "div#toc-wrapper{padding-top:120px;}\n",
    "div.text_cell_render ul li{font-size:12pt;padding:5px;}\n",
    "table.dataframe{font-size:15px;}\n",
    "</style>\n",
    " \"\"\"))"
   ]
  },
  {
   "cell_type": "markdown",
   "id": "91c2beec",
   "metadata": {},
   "source": [
    "<span style=\"color:red; font-size: 35px; font-weight: bold;\"> ch14.웹데이터 수집 </span></br>\n",
    "# 3절. 동적웹데이터 수집\n",
    "## 3.1)문법\n",
    "```\n",
    "pip install selenium \n",
    "```\n",
    "Docs : https://www.selenium.dev/documentation/ \\\n",
    "        https://selenium-python.readthedocs.io/"
   ]
  },
  {
   "cell_type": "code",
   "execution_count": 26,
   "id": "fd763fd5",
   "metadata": {},
   "outputs": [],
   "source": [
    "from selenium import webdriver\n",
    "from selenium.webdriver.common.by import By\n",
    "import time\n",
    "driver = webdriver.Chrome()\n",
    "driver.get(\"http://www.python.org\")\n",
    "elem = driver.find_element(By.NAME, 'q') #처음 하나만 받기\n",
    "elem.clear()\n",
    "elem.send_keys('pycon')\n",
    "from selenium.webdriver.common.keys import Keys\n",
    "elem.send_keys(Keys.RETURN) # enter 효과"
   ]
  },
  {
   "cell_type": "code",
   "execution_count": 10,
   "id": "626472f7",
   "metadata": {},
   "outputs": [
    {
     "name": "stdout",
     "output_type": "stream",
     "text": [
      "PSF PyCon Trademark Usage Policy - https://www.python.org/psf/trademarks/pycon\n",
      "PyCon Italia 2016 (PyCon Sette) - https://www.python.org/events/python-events/378/\n",
      "PyCon Australia 2013 - https://www.python.org/events/python-events/57/\n",
      "PyCon AU 2019 - https://www.python.org/events/python-events/776/\n",
      "PyCon Australia 2014 - https://www.python.org/events/python-events/10/\n",
      "PyCon Ireland 2012 - https://www.python.org/events/python-events/76/\n",
      "PyCon Ireland 2016 - https://www.python.org/events/python-events/429/\n",
      "PyCon Ireland 2022 - https://www.python.org/events/python-events/1320/\n",
      "PyCon Australia 2014 - https://www.python.org/events/python-events/1447/\n",
      "PyCon Ireland 2024 - https://www.python.org/events/python-events/1862/\n",
      "PyCon APAC 2025 - https://www.python.org/events/python-events/1879/\n",
      "PyCon AU 2018 - https://www.python.org/events/python-events/696/\n",
      "PyCon APAC 2022 - https://www.python.org/events/python-events/1216/\n",
      "PyCon PH 2024 - https://www.python.org/events/python-events/1661/\n",
      "PyCon Ireland 2023 - https://www.python.org/events/python-events/1568/\n",
      "PyCon PL 2014 - https://www.python.org/events/python-events/191/\n",
      "PyCon MY 2015 - https://www.python.org/events/python-events/313/\n",
      "PyCon Ireland 2015 - https://www.python.org/events/python-events/333/\n",
      "PyCon AU 2015 - https://www.python.org/events/python-events/273/\n",
      "PyCon Australia 2016 - https://www.python.org/events/python-events/357/\n"
     ]
    }
   ],
   "source": [
    "result_list = driver.find_elements(By.CSS_SELECTOR,'li > h3 > a') #여러개 가져옴\n",
    "# result_list\n",
    "for result in result_list:\n",
    "    print(\"{} - {}\".format(result.text, result.get_attribute('href')))"
   ]
  },
  {
   "cell_type": "code",
   "execution_count": 13,
   "id": "5e5d0034",
   "metadata": {},
   "outputs": [
    {
     "name": "stdout",
     "output_type": "stream",
     "text": [
      "PSF PyCon Trademark Usage Policy-/psf/trademarks/pycon\n",
      "PyCon Italia 2016 (PyCon Sette)-/events/python-events/378/\n",
      "PyCon Australia 2013-/events/python-events/57/\n",
      "PyCon AU 2019-/events/python-events/776/\n",
      "PyCon Australia 2014-/events/python-events/10/\n",
      "PyCon Ireland 2012-/events/python-events/76/\n",
      "PyCon Ireland 2016-/events/python-events/429/\n",
      "PyCon Ireland 2022-/events/python-events/1320/\n",
      "PyCon Australia 2014-/events/python-events/1447/\n",
      "PyCon Ireland 2024-/events/python-events/1862/\n",
      "PyCon APAC 2025-/events/python-events/1879/\n",
      "PyCon AU 2018-/events/python-events/696/\n",
      "PyCon APAC 2022-/events/python-events/1216/\n",
      "PyCon PH 2024-/events/python-events/1661/\n",
      "PyCon Ireland 2023-/events/python-events/1568/\n",
      "PyCon PL 2014-/events/python-events/191/\n",
      "PyCon MY 2015-/events/python-events/313/\n",
      "PyCon Ireland 2015-/events/python-events/333/\n",
      "PyCon AU 2015-/events/python-events/273/\n",
      "PyCon Australia 2016-/events/python-events/357/\n"
     ]
    }
   ],
   "source": [
    "from bs4 import BeautifulSoup\n",
    "soup = BeautifulSoup(driver.page_source, 'html.parser') #사이트 결과만 가지고 올 때 (정적인 페이지)\n",
    "result_list = soup.select('li > h3 > a')\n",
    "for result in result_list:\n",
    "    print('{}-{}'.format(result.text,result.attrs['href'])) #www.python.org/ 뒷부분부터 추출"
   ]
  },
  {
   "cell_type": "code",
   "execution_count": 27,
   "id": "acea1bba",
   "metadata": {},
   "outputs": [
    {
     "name": "stdout",
     "output_type": "stream",
     "text": [
      "현재 주소 : https://www.python.org/search/?q=pycon&submit=\n",
      "parse_url : ParseResult(scheme='https', netloc='www.python.org', path='/search/', params='', query='q=pycon&submit=', fragment='')\n",
      "https://www.python.org\n"
     ]
    }
   ],
   "source": [
    "# 셀리니움을 통해 접근한 현재 url\n",
    "from urllib.parse import urlparse\n",
    "current_rul = driver.current_url\n",
    "print('현재 주소 :', current_rul)\n",
    "parse_url = urlparse(current_rul)\n",
    "print('parse_url :', parse_url)\n",
    "domain = f'{parse_url.scheme}://{parse_url.netloc}'\n",
    "print(domain)"
   ]
  },
  {
   "cell_type": "code",
   "execution_count": 28,
   "id": "2188accc",
   "metadata": {},
   "outputs": [
    {
     "name": "stdout",
     "output_type": "stream",
     "text": [
      "PSF PyCon Trademark Usage Policy-https://www.python.org/psf/trademarks/pycon\n",
      "PyCon Italia 2016 (PyCon Sette)-https://www.python.org/events/python-events/378/\n",
      "PyCon Australia 2013-https://www.python.org/events/python-events/57/\n",
      "PyCon AU 2019-https://www.python.org/events/python-events/776/\n",
      "PyCon Australia 2014-https://www.python.org/events/python-events/10/\n",
      "PyCon Ireland 2012-https://www.python.org/events/python-events/76/\n",
      "PyCon Ireland 2016-https://www.python.org/events/python-events/429/\n",
      "PyCon Ireland 2022-https://www.python.org/events/python-events/1320/\n",
      "PyCon Australia 2014-https://www.python.org/events/python-events/1447/\n",
      "PyCon Ireland 2024-https://www.python.org/events/python-events/1862/\n",
      "PyCon APAC 2025-https://www.python.org/events/python-events/1879/\n",
      "PyCon AU 2018-https://www.python.org/events/python-events/696/\n",
      "PyCon APAC 2022-https://www.python.org/events/python-events/1216/\n",
      "PyCon PH 2024-https://www.python.org/events/python-events/1661/\n",
      "PyCon Ireland 2023-https://www.python.org/events/python-events/1568/\n",
      "PyCon PL 2014-https://www.python.org/events/python-events/191/\n",
      "PyCon MY 2015-https://www.python.org/events/python-events/313/\n",
      "PyCon Ireland 2015-https://www.python.org/events/python-events/333/\n",
      "PyCon AU 2015-https://www.python.org/events/python-events/273/\n",
      "PyCon Australia 2016-https://www.python.org/events/python-events/357/\n"
     ]
    }
   ],
   "source": [
    "from bs4 import BeautifulSoup\n",
    "soup = BeautifulSoup(driver.page_source, 'html.parser') #사이트 결과만 가지고 올 때 (정적인 페이지)\n",
    "result_list = soup.select('li > h3 > a')\n",
    "for result in result_list:\n",
    "    print('{}-{}'.format(result.text,domain+result.attrs['href'])) #www.python.org/ 뒷부분부터 추출"
   ]
  },
  {
   "cell_type": "code",
   "execution_count": 22,
   "id": "539e8328",
   "metadata": {},
   "outputs": [],
   "source": [
    "driver.close() #브라우저 종료"
   ]
  },
  {
   "cell_type": "markdown",
   "id": "087f6b3c",
   "metadata": {},
   "source": [
    "## 3.2)예제 \n",
    "### 1)다음 뉴스 검색"
   ]
  },
  {
   "cell_type": "code",
   "execution_count": 43,
   "id": "f83e3ace",
   "metadata": {},
   "outputs": [
    {
     "name": "stdout",
     "output_type": "stream",
     "text": [
      "검색하고자 하는 단어는?다이소\n",
      "[르포] 1000만 탈모인, 외국인도 다이소에 푹 빠졌다 http://v.daum.net/v/20250529173953055\n",
      "\"샤넬 느낌 나\"…다이소서 '대박'난 제품, 이제 집 근처서 만난다 http://v.daum.net/v/20250527085331250\n",
      "다이소, 온라인몰 '무료 당일배송' 6월말까지 재연장 http://v.daum.net/v/20250530144030813\n",
      "설마했는데…“이것까지 팔아?” 단돈 3천원, ‘우르르’ 난리난 다이소 http://v.daum.net/v/20250523145018677\n",
      "日 다이소, '쓰리피' 이름으로 韓 시장 재진출하나 http://v.daum.net/v/20250527181600701\n",
      "日 다이소, 국내 재진출 눈앞…타깃은 ‘韓 다이소’? http://v.daum.net/v/20250528100241500\n",
      "'다이소 한판 붙자'…어? 日 다이소와 정면충돌? http://v.daum.net/v/20250514115813210\n",
      "“요새 올리브영, 다이소에 외국인들 많이 보인다 했더니…이유 있었네” http://v.daum.net/v/20250529084500741\n",
      "“다이소 또 난리나겠네”…건기식 이어 ‘이것’까지 판다 http://v.daum.net/v/20250522180350781\n",
      "아모레퍼시픽, 신규 브랜드 ‘프렙 바이 비레디’ 다이소 론칭 http://v.daum.net/v/20250526161046358\n"
     ]
    }
   ],
   "source": [
    "from selenium import webdriver\n",
    "from selenium.webdriver.common.by import By\n",
    "from selenium.webdriver.common.keys import Keys\n",
    "import time\n",
    "driver = webdriver.Chrome()\n",
    "driver.get('https://www.daum.net/')\n",
    "time.sleep(2)\n",
    "# input태그를 click\n",
    "driver.find_element(By.NAME, 'q').click() #파라미터 이름으로 접근\n",
    "query = input('검색하고자 하는 단어는?')\n",
    "time.sleep(2)\n",
    "# query='청바지'\n",
    "driver.find_element(By.CSS_SELECTOR, 'input[type=\"text\"]').send_keys(query)\n",
    "driver.find_element(By.CLASS_NAME, 'btn_ksearch').click()\n",
    "time.sleep(2)\n",
    "driver.find_element(By.LINK_TEXT, '뉴스').click()\n",
    "time.sleep(2)\n",
    "news_list = []\n",
    "elems = driver.find_elements(By.CSS_SELECTOR, 'div.item-title > strong.tit-g.clamp-g > a')\n",
    "for elem in elems:\n",
    "    title = elem.text\n",
    "    link  = elem.get_attribute('href')\n",
    "    news_list.append([title, link])\n",
    "    print(title,link)"
   ]
  },
  {
   "cell_type": "code",
   "execution_count": 36,
   "id": "2d1df412",
   "metadata": {},
   "outputs": [],
   "source": [
    "#뉴스탭 클릭 : ul.list_tab > li\n",
    "# driver.find_elements(By.CSS_SELECTOR,'ul.list_tab > li')[3].click()\n",
    "# driver.find_element(By.LINK_TEXT, '뉴스').click()"
   ]
  },
  {
   "cell_type": "code",
   "execution_count": 41,
   "id": "0e6b6b6c",
   "metadata": {},
   "outputs": [
    {
     "name": "stdout",
     "output_type": "stream",
     "text": [
      "“추앙받을 만 하네”… 김지원, 셔츠에 청바지만 입어도 공항 ‘정지’ http://v.daum.net/v/20250526182411395\n",
      "이민정, 매장 빌려 폭풍 쇼핑 \"10년 전 샀던 청바지는 응급실\"(MJ) http://v.daum.net/v/20250527191015309\n",
      "흰 티셔츠에 청바지 정석대로 입는 법 http://v.daum.net/v/20250527185425864\n",
      "이민정, 매장 통째로 빌려 청바지 쇼핑…♥이병헌도 놀랄 핏 http://v.daum.net/v/20250527185535885\n",
      "\"청바지가 잘 어울리는 남자\" 재해석…브브걸 감성 리메이크 '희망사항' 발매 http://v.daum.net/v/20250529180842220\n",
      "'의사 그만둔' 고윤정, 흰 티+청바지...\"정석 미녀\" [★해시태그] http://v.daum.net/v/20250522182007490\n",
      "이시영처럼 다리 길어보이고 싶어서 청바지 분석함 [입스타그램] http://v.daum.net/v/20250519172231644\n",
      "\"청렴이 최고\" … 창원특례시 성산구 문화위생과, '청바지 데이' 추진 http://v.daum.net/v/20250511091428626\n",
      "패셔니스타 김지원, 청바지가 어울리는 여자랍니다! [포토] http://v.daum.net/v/20250518220139191\n",
      "박병은 \"류준하로 3개월 활동\"…청바지 모델 시절 언급 http://v.daum.net/v/20250519190323957\n"
     ]
    }
   ],
   "source": [
    "# news_list = []\n",
    "# elems = driver.find_elements(By.CSS_SELECTOR, 'div.item-title > strong.tit-g.clamp-g > a')\n",
    "# for elem in elems:\n",
    "#     title = elem.text\n",
    "#     link  = elem.get_attribute('href')\n",
    "#     news_list.append([title, link])\n",
    "#     print(title,link)"
   ]
  },
  {
   "cell_type": "code",
   "execution_count": 49,
   "id": "2d44ba99",
   "metadata": {},
   "outputs": [],
   "source": [
    "# 2page로 넘어가는 \n",
    "page_div = driver.find_element(By.CSS_SELECTOR,'div.inner_paging')\n",
    "# print(page_div.text)\n",
    "next_page = page_div.find_element(By.LINK_TEXT,'2')\n",
    "next_page.click()"
   ]
  },
  {
   "cell_type": "markdown",
   "id": "4b91224c",
   "metadata": {},
   "source": [
    "페이징 처리\n",
    "- 다음 뉴스 검색 : query,page수"
   ]
  },
  {
   "cell_type": "code",
   "execution_count": 52,
   "id": "1c3c21ee",
   "metadata": {},
   "outputs": [
    {
     "name": "stdout",
     "output_type": "stream",
     "text": [
      "검색하고자 하는 단어는?복숭아\n"
     ]
    }
   ],
   "source": [
    "from selenium import webdriver\n",
    "from selenium.webdriver.common.by import By\n",
    "from selenium.webdriver.common.keys import Keys\n",
    "import time\n",
    "driver = webdriver.Chrome()\n",
    "driver.get('https://www.daum.net/')\n",
    "time.sleep(2)\n",
    "# input태그를 click\n",
    "driver.find_element(By.NAME, 'q').click() #파라미터 이름으로 접근\n",
    "query = input('검색하고자 하는 단어는?')\n",
    "time.sleep(2)\n",
    "driver.find_element(By.CSS_SELECTOR, 'input[type=\"text\"]').send_keys(query)\n",
    "driver.find_element(By.CLASS_NAME, 'btn_ksearch').click()\n",
    "time.sleep(2)\n",
    "driver.find_element(By.LINK_TEXT, '뉴스').click()\n",
    "time.sleep(2)\n",
    "news_list = []\n",
    "pages = 3\n",
    "for page in range(1, pages+1):\n",
    "    elems = driver.find_elements(By.CSS_SELECTOR, 'div.item-title > strong.tit-g.clamp-g > a')\n",
    "    for elem in elems:\n",
    "        title = elem.text\n",
    "        link  = elem.get_attribute('href')\n",
    "        news_list.append([title, link])\n",
    "#         print(title,link)\n",
    "    #2page로\n",
    "    page_div = driver.find_element(By.CSS_SELECTOR,'div.inner_paging')\n",
    "    # print(page_div.text)\n",
    "    next_page = page_div.find_element(By.LINK_TEXT, str(page+1))\n",
    "    next_page.click()\n",
    "    time.sleep(2)\n",
    "driver.close()\n",
    "import pandas as pd\n",
    "df = pd.DataFrame(news_list, columns=['title','link'])\n",
    "df.to_csv('data/ch14_daum.csv',index=False)"
   ]
  },
  {
   "cell_type": "markdown",
   "id": "343a06da",
   "metadata": {},
   "source": [
    "### 2)맞춤법 검사 \n",
    "- 네이버 맞춤법 검사기 이용 (https://search.naver.com/search.naver?where=nexearch&sm=top_sly.hst&fbm=0&acr=1&ie=utf8&query=%EB%A7%9E%EC%B6%A4%EB%B2%95%EA%B2%80%EC%82%AC%EA%B8%B0&ackey=uwxp4f45)"
   ]
  },
  {
   "cell_type": "code",
   "execution_count": 62,
   "id": "8cc74098",
   "metadata": {},
   "outputs": [
    {
     "name": "stdout",
     "output_type": "stream",
     "text": [
      "총 글자수 : 2877\n",
      "222\n",
      "277\n",
      "281\n",
      "299\n",
      "260\n",
      "132\n",
      "218\n",
      "246\n",
      "226\n",
      "257\n",
      "200\n"
     ]
    },
    {
     "data": {
      "text/plain": [
       "['안냥하세요. 현대 ',\n",
       " '\\n인간은 태어날 때',\n",
       " '\\n인간은 단순히 육',\n",
       " '\\n인간의 문명은 개',\n",
       " '\\n개인이 해결하기 ',\n",
       " '\\n인간이 사회적 동',\n",
       " '\\n건강한 공동체의 ',\n",
       " '\\n공동체는 각 구성',\n",
       " '\\n타인에 대한 배려',\n",
       " '\\n공동체 생활에서 ',\n",
       " '\\n공동체가 결속력을',\n",
       " '\\n인간은 혼자 살 ']"
      ]
     },
     "execution_count": 62,
     "metadata": {},
     "output_type": "execute_result"
    }
   ],
   "source": [
    "#ch14_daum.csv 맞춤법 검사  \n",
    "with open('data/ch14_맞춤법전.txt', 'r', encoding='utf-8')as f:\n",
    "    text = f.read()\n",
    "print('총 글자수 :', len(text))\n",
    "ready_list = [] #맞춤법 검사할 text 내용(300자 이내로 list)\n",
    "while(len(text) > 300):\n",
    "    temp = text[:300]\n",
    "    new_line_char_index = temp.rfind('\\n')\n",
    "    print(new_line_char_index)\n",
    "    ready_list.append(text[:new_line_char_index])\n",
    "    text = text[new_line_char_index:] \n",
    "ready_list.append(text)\n",
    "[ready[:10] for ready in ready_list]"
   ]
  },
  {
   "cell_type": "code",
   "execution_count": 76,
   "id": "0b35648e",
   "metadata": {},
   "outputs": [],
   "source": [
    "from selenium import webdriver\n",
    "from selenium.webdriver.common.by import By\n",
    "from selenium.webdriver.common.keys import Keys\n",
    "import time\n",
    "driver = webdriver.Chrome()\n",
    "time.sleep(0.5)\n",
    "driver.get('https://www.naver.com/')\n",
    "input_elem = driver.find_element(By.CSS_SELECTOR,'input[name=\"query\"]')\n",
    "input_elem.send_keys('맞춤법 검사기')\n",
    "input_elem.send_keys(Keys.RETURN)\n",
    "time.sleep(2)\n",
    "results = '' #맞춤법 검사 후 최종 내용이 담길 것\n",
    "textarea = driver.find_element(By.CLASS_NAME, 'txt_gray')\n",
    "\n",
    "for ready in ready_list:    \n",
    "    textarea.send_keys(Keys.CONTROL,'a') #control + a\n",
    "    textarea.send_keys(ready)\n",
    "    button = driver.find_element(By.CLASS_NAME, 'btn_check').click()\n",
    "    time.sleep(2)\n",
    "    soup = BeautifulSoup(driver.page_source, 'html.parser')\n",
    "    result = soup.select_one('p._result_text.stand_txt').text\n",
    "    results += result + '\\n\\n'\n",
    "driver.close()\n",
    "with open('data/ch14_맞춤법후.txt','w',encoding='utf-8') as f:\n",
    "    f.write(results)"
   ]
  },
  {
   "cell_type": "code",
   "execution_count": null,
   "id": "70e91a94",
   "metadata": {},
   "outputs": [],
   "source": []
  },
  {
   "cell_type": "markdown",
   "id": "5149c973",
   "metadata": {},
   "source": [
    "# 퀴즈 \n",
    "```\n",
    "다음 검색창에서 비트코인 검색 + 뉴스탭 클릭 + 뉴스 리스트 가져오기\n",
    "네이버 '맞춤법 검사기' 검색, \n",
    "```"
   ]
  }
 ],
 "metadata": {
  "kernelspec": {
   "display_name": "Python 3 (ipykernel)",
   "language": "python",
   "name": "python3"
  },
  "language_info": {
   "codemirror_mode": {
    "name": "ipython",
    "version": 3
   },
   "file_extension": ".py",
   "mimetype": "text/x-python",
   "name": "python",
   "nbconvert_exporter": "python",
   "pygments_lexer": "ipython3",
   "version": "3.10.9"
  },
  "toc": {
   "base_numbering": 1,
   "nav_menu": {},
   "number_sections": false,
   "sideBar": true,
   "skip_h1_title": false,
   "title_cell": "Table of Contents",
   "title_sidebar": "Contents",
   "toc_cell": false,
   "toc_position": {
    "height": "calc(100% - 180px)",
    "left": "10px",
    "top": "150px",
    "width": "165px"
   },
   "toc_section_display": true,
   "toc_window_display": true
  }
 },
 "nbformat": 4,
 "nbformat_minor": 5
}
