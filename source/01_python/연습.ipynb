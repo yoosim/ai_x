{
 "cells": [
  {
   "cell_type": "code",
   "execution_count": 39,
   "id": "52d50f7c",
   "metadata": {},
   "outputs": [
    {
     "data": {
      "text/html": [
       "\n",
       "<style>\n",
       "div.container{width:86% !important;}\n",
       "div.cell.code_cell.rendered{width:100%;}\n",
       "div.CodeMirror {font-family:Consolas; font-size:15pt;}\n",
       "div.output {font-size:15pt; font-weight:bold;}\n",
       "div.input {font-family:Consolas; font-size:15pt;}\n",
       "div.prompt {min-width:70px;}\n",
       "div#toc-wrapper{padding-top:120px;}\n",
       "div.text_cell_render ul li{font-size:12pt;padding:5px;}\n",
       "table.dataframe{font-size:15px;}\n",
       "</style>\n",
       " "
      ],
      "text/plain": [
       "<IPython.core.display.HTML object>"
      ]
     },
     "metadata": {},
     "output_type": "display_data"
    }
   ],
   "source": [
    "from IPython.display import display, HTML \n",
    "display(HTML(\"\"\"\n",
    "<style>\n",
    "div.container{width:86% !important;}\n",
    "div.cell.code_cell.rendered{width:100%;}\n",
    "div.CodeMirror {font-family:Consolas; font-size:15pt;}\n",
    "div.output {font-size:15pt; font-weight:bold;}\n",
    "div.input {font-family:Consolas; font-size:15pt;}\n",
    "div.prompt {min-width:70px;}\n",
    "div#toc-wrapper{padding-top:120px;}\n",
    "div.text_cell_render ul li{font-size:12pt;padding:5px;}\n",
    "table.dataframe{font-size:15px;}\n",
    "</style>\n",
    " \"\"\"))"
   ]
  },
  {
   "cell_type": "markdown",
   "id": "a1d9735f",
   "metadata": {},
   "source": [
    "# while 반복문 연습"
   ]
  },
  {
   "cell_type": "code",
   "execution_count": 6,
   "id": "42b937d6",
   "metadata": {},
   "outputs": [
    {
     "name": "stdout",
     "output_type": "stream",
     "text": [
      "141\n",
      "10011\n"
     ]
    }
   ],
   "source": [
    "sum = 0  #누적합 \n",
    "i = 0 \n",
    "while sum <= 10000:\n",
    "    i = i+1\n",
    "    sum += i\n",
    "print(i)\n",
    "print(sum)"
   ]
  },
  {
   "cell_type": "code",
   "execution_count": 7,
   "id": "3d0d3646",
   "metadata": {},
   "outputs": [
    {
     "name": "stdout",
     "output_type": "stream",
     "text": [
      "200\n",
      "10089\n"
     ]
    }
   ],
   "source": [
    "sum = 0  #누적합 \n",
    "while sum <= 10000:\n",
    "    i = i+1\n",
    "    sum += i\n",
    "print(i)\n",
    "print(sum)"
   ]
  },
  {
   "cell_type": "code",
   "execution_count": 10,
   "id": "8976c0f1",
   "metadata": {},
   "outputs": [
    {
     "name": "stdout",
     "output_type": "stream",
     "text": [
      "[100, 2000, 30, 201, 10]\n"
     ]
    }
   ],
   "source": [
    "list = ['철수',100,2000,30,201,10]\n",
    "list.remove('철수')\n",
    "print(list)"
   ]
  },
  {
   "cell_type": "markdown",
   "id": "7aa2db99",
   "metadata": {},
   "source": [
    "# 연습문제 모음.zip"
   ]
  },
  {
   "cell_type": "markdown",
   "id": "345a34f2",
   "metadata": {},
   "source": [
    "## 1) 짝수 홀수 판별기 프로그램"
   ]
  },
  {
   "cell_type": "code",
   "execution_count": null,
   "id": "ef8a30c2",
   "metadata": {},
   "outputs": [],
   "source": [
    "#양의 정수를 입력 받아 홀수인지 짝수인지를 판별하는 프로그램을 작성하세요 .\n",
    "#양의 정수가 아니면 숫자를 다시 입력 받아야 합니다."
   ]
  },
  {
   "cell_type": "code",
   "execution_count": 61,
   "id": "d5231956",
   "metadata": {},
   "outputs": [
    {
     "name": "stdout",
     "output_type": "stream",
     "text": [
      "숫자를 입력하세요.3\n",
      "입력하신 양의 정수는 3이고, 홀수입니다.\n"
     ]
    }
   ],
   "source": [
    "num  = 0\n",
    "\n",
    "while num<=0:\n",
    "    num = int(input('숫자를 입력하세요.'))\n",
    "    \n",
    "bl_num = '홀수' if num%2 else \"짝수\"\n",
    "print('입력하신 양의 정수는 {}이고, {}입니다.'.format(num,bl_num))"
   ]
  },
  {
   "cell_type": "code",
   "execution_count": 60,
   "id": "50b60765",
   "metadata": {},
   "outputs": [
    {
     "name": "stdout",
     "output_type": "stream",
     "text": [
      "*****\n",
      "*****\n",
      "*****\n",
      "*****\n",
      "*****\n"
     ]
    }
   ],
   "source": [
    "for a in range(5):\n",
    "    for b in range(5):\n",
    "        print(\"*\",end='')\n",
    "    print()"
   ]
  },
  {
   "cell_type": "code",
   "execution_count": 25,
   "id": "c113843f",
   "metadata": {},
   "outputs": [
    {
     "name": "stdout",
     "output_type": "stream",
     "text": [
      "\n",
      "*\n",
      "**\n",
      "***\n",
      "****\n",
      "*****\n"
     ]
    }
   ],
   "source": [
    "for a in range(6):\n",
    "    for b in range(a):\n",
    "        print(\"*\",end='')\n",
    "    print()"
   ]
  },
  {
   "cell_type": "code",
   "execution_count": 36,
   "id": "72737489",
   "metadata": {},
   "outputs": [
    {
     "name": "stdout",
     "output_type": "stream",
     "text": [
      "0행0열:90\t0행1열:90\t0행2열:92\t0행3열:93\t\n",
      "1행0열:85\t1행1열:86\t1행2열:82\t1행3열:83\t\n",
      "2행0열:70\t2행1열:71\t2행2열:72\t2행3열:73\t\n"
     ]
    }
   ],
   "source": [
    "numbers_2d = [[90, 90, 92, 93],\n",
    "             [85, 86, 82, 83],\n",
    "             [70, 71, 72, 73]]\n",
    "\n",
    "for i, row in enumerate(numbers_2d) :\n",
    "    for j, value in enumerate(row) : \n",
    "        print(\"{}행{}열:{}\".format(i, j,value) ,end='\\t')\n",
    "    print()"
   ]
  },
  {
   "cell_type": "code",
   "execution_count": 38,
   "id": "04dd50d4",
   "metadata": {},
   "outputs": [
    {
     "name": "stdout",
     "output_type": "stream",
     "text": [
      "0행0열:90\t0행1열:90\t0행2열:92\t0행3열:93\t\n",
      "1행0열:85\t1행1열:86\t1행2열:82\t1행3열:83\t\n",
      "2행0열:70\t2행1열:71\t2행2열:72\t2행3열:73\t\n"
     ]
    }
   ],
   "source": [
    "for i, row in enumerate(numbers_2d) :\n",
    "    for j, value in enumerate(row) : \n",
    "        print(f\"{i}행{j}열:{value}\" ,end='\\t')\n",
    "    print()"
   ]
  },
  {
   "cell_type": "code",
   "execution_count": 44,
   "id": "9d460913",
   "metadata": {},
   "outputs": [
    {
     "name": "stdout",
     "output_type": "stream",
     "text": [
      "90\t90\t92\t93\t\n",
      "85\t86\t82\t83\t\n",
      "70\t71\t72\t73\t\n"
     ]
    }
   ],
   "source": [
    "# 90 91 92 93\n",
    "# 80 81 82 83\n",
    "# 70 71 72 73 이 나와야함\n",
    "\n",
    "for row in numbers_2d:\n",
    "    for item in row:\n",
    "        print(item, end='\\t')\n",
    "    print()"
   ]
  },
  {
   "cell_type": "code",
   "execution_count": 45,
   "id": "8d7a2a1a",
   "metadata": {},
   "outputs": [],
   "source": [
    "numbers = [1, 12, 32, 4, 5, 19, 82, 64, 50]"
   ]
  },
  {
   "cell_type": "markdown",
   "id": "51bafb0d",
   "metadata": {},
   "source": [
    "# 질문 1 sum이 안 된다..\n"
   ]
  },
  {
   "cell_type": "code",
   "execution_count": 56,
   "id": "36ef1fdd",
   "metadata": {},
   "outputs": [
    {
     "name": "stdout",
     "output_type": "stream",
     "text": [
      "오름차순 : [1, 4, 5, 12, 19, 32, 50, 64, 82]\n",
      "내림차순 : [82, 64, 50, 32, 19, 12, 5, 4, 1]\n"
     ]
    },
    {
     "ename": "TypeError",
     "evalue": "'int' object is not callable",
     "output_type": "error",
     "traceback": [
      "\u001b[1;31m---------------------------------------------------------------------------\u001b[0m",
      "\u001b[1;31mTypeError\u001b[0m                                 Traceback (most recent call last)",
      "Cell \u001b[1;32mIn[56], line 3\u001b[0m\n\u001b[0;32m      1\u001b[0m \u001b[38;5;28mprint\u001b[39m(\u001b[38;5;124m'\u001b[39m\u001b[38;5;124m오름차순 :\u001b[39m\u001b[38;5;124m'\u001b[39m, \u001b[38;5;28msorted\u001b[39m(numbers))\n\u001b[0;32m      2\u001b[0m \u001b[38;5;28mprint\u001b[39m(\u001b[38;5;124m'\u001b[39m\u001b[38;5;124m내림차순 :\u001b[39m\u001b[38;5;124m'\u001b[39m, \u001b[38;5;28msorted\u001b[39m(numbers, reverse\u001b[38;5;241m=\u001b[39m\u001b[38;5;28;01mTrue\u001b[39;00m))\n\u001b[1;32m----> 3\u001b[0m \u001b[38;5;28mprint\u001b[39m(\u001b[38;5;124m'\u001b[39m\u001b[38;5;124m합 :\u001b[39m\u001b[38;5;124m'\u001b[39m, \u001b[38;5;28;43msum\u001b[39;49m\u001b[43m(\u001b[49m\u001b[43mnumbers\u001b[49m\u001b[43m)\u001b[49m)\n",
      "\u001b[1;31mTypeError\u001b[0m: 'int' object is not callable"
     ]
    }
   ],
   "source": [
    "print('오름차순 :', sorted(numbers))\n",
    "print('내림차순 :', sorted(numbers, reverse=True))\n",
    "print('합 :', sum(numbers))"
   ]
  },
  {
   "cell_type": "code",
   "execution_count": 4,
   "id": "e8e84fb3",
   "metadata": {},
   "outputs": [],
   "source": [
    "city =('서울','부산','인천', '목포' )"
   ]
  },
  {
   "cell_type": "code",
   "execution_count": 6,
   "id": "d601081a",
   "metadata": {},
   "outputs": [
    {
     "name": "stdout",
     "output_type": "stream",
     "text": [
      "서울부산인천목포\n"
     ]
    }
   ],
   "source": [
    "new_city = ''.join(city)\n",
    "print(new_city)"
   ]
  },
  {
   "cell_type": "code",
   "execution_count": 7,
   "id": "851e72dc",
   "metadata": {},
   "outputs": [
    {
     "name": "stdout",
     "output_type": "stream",
     "text": [
      "[1, 2, 3, 4, 5, 6, 7, 8, 9, 10, 100]\n"
     ]
    }
   ],
   "source": [
    "'''\n",
    "Q.다음 리스트가 주어졌을 경우 요구대로 코드를 작성하시오.\n",
    "numbers = [1, 2, 3, 4, 5, 6, 7, 8, 9, 10]\n",
    "1.숫자 100을 맨 뒤에 추가하세요.\n",
    "'''\n",
    "\n",
    "numbers =  [1, 2, 3, 4, 5, 6, 7, 8, 9, 10]\n",
    "numbers.append(100)\n",
    "print(numbers)"
   ]
  },
  {
   "cell_type": "code",
   "execution_count": 12,
   "id": "c67cd786",
   "metadata": {},
   "outputs": [
    {
     "name": "stdout",
     "output_type": "stream",
     "text": [
      "[1, 2, 3, 4, 5, 6, 7, 8, 9, 10, [200, 300, 400, 500]]\n",
      "[1, 2, 3, 4, 5, 6, 7, 8, 9, 10, [200, 300, 400, 500], 200, 300, 400, 500]\n"
     ]
    }
   ],
   "source": [
    "'''\n",
    "Q.다음 리스트가 주어졌을 경우 요구대로 코드를 작성하시오.\n",
    "numbers = [1, 2, 3, 4, 5, 6, 7, 8, 9, 10]\n",
    "2.다음 리스트를 numbers 리스트 맨뒤에 추가하세요.\n",
    "data = [200, 300, 400, 500]\n",
    "\n",
    "append() : 맨 뒤에 요소 추가\n",
    "extend() : 맨 뒤에 리스트를 요소별로 추가\n",
    "insert(idx, 값) : idx번째 인덱스 위치에 추가(기존 데이터는 shift)\n",
    "'''\n",
    "\n",
    "numbers = [1, 2, 3, 4, 5, 6, 7, 8, 9, 10]\n",
    "data = [200, 300, 400, 500]\n",
    "\n",
    "numbers.append(data)\n",
    "print(numbers)\n",
    "numbers.extend(data)\n",
    "print(numbers)"
   ]
  },
  {
   "cell_type": "markdown",
   "id": "0ef727b1",
   "metadata": {},
   "source": [
    "# 5번 문제 왜 len이 와야하는지"
   ]
  },
  {
   "cell_type": "code",
   "execution_count": 15,
   "id": "70871924",
   "metadata": {},
   "outputs": [
    {
     "name": "stdout",
     "output_type": "stream",
     "text": [
      "1번 결과 : [1, 2, 3, 4, 5, 6, 7, 8, 9, 10, 100]\n",
      "2번 결과 : [1, 2, 3, 4, 5, 6, 7, 8, 9, 10, 100, 200, 300, 400, 500]\n",
      "3번 결과 : [1, 2, 3, 4, 5]\n",
      "4번 결과 : [1, 3, 5, 7, 9, 100, 300, 500]\n",
      "5번 후 결과 : [0, 2, 0, 4, 0, 6, 0, 8, 0, 10, 0, 200, 0, 400, 0]\n",
      "6번 결과 : [0, 400, 0, 200, 0, 10, 0, 8, 0, 6, 0, 4, 0, 2, 0]\n"
     ]
    }
   ],
   "source": [
    "numbers = [1,2,3,4,5,6,7,8,9,10]\n",
    "# 1.숫자 100을 맨뒤에 추가\n",
    "numbers.append(100)\n",
    "print('1번 결과 :',numbers)\n",
    "\n",
    "# 2. 다음 리스트를 numbers 리스트 맨뒤에 추가\n",
    "data = [200,300,400,500]\n",
    "# numbers = numbers + data\n",
    "numbers.extend(data)\n",
    "print('2번 결과 :',numbers)\n",
    "\n",
    "# 3. 처음 다섯개 숫자만 출력\n",
    "print('3번 결과 :',numbers[:5])\n",
    "\n",
    "# 4. 짝수번째 인덱스 데이터만 출력(설명부탁함. for문 사용보다는 슬라이싱 강추)\n",
    "print('4번 결과 :', numbers[::2])\n",
    "\n",
    "# 5. 짝수번째 데이터를 모두 0으로 바꿔\n",
    "numbers[::2] = [0] * len(numbers[::2])\n",
    "print('5번 후 결과 :', numbers)\n",
    "\n",
    "# 6. 데이터를 역순으로 나열\n",
    "print('6번 결과 :', numbers[::-1])\n",
    "# numbers.reverse()\n",
    "# numbers"
   ]
  },
  {
   "cell_type": "code",
   "execution_count": null,
   "id": "d8edeac8",
   "metadata": {},
   "outputs": [],
   "source": [
    "'''\n",
    "Q.다음 구문을 실행할 때 결과는?\n",
    "'''\n",
    "numbers = [0,1,2,3,4,5,6,7,8,9]\n",
    "numbers[::2] = numbers[5:]\n",
    "print(numbers)\n",
    "numbers[::2] = 0,2,4,6,8 이고 (짝수번째)\n",
    "numbers[5:] = 5,6,7,8,9 인데 \n",
    "짝수번째 인덱스를 numbers[5:]로 바꾸라는 말.\n",
    "최종적으로 5,1,6,3,7,5,8,7,9,9"
   ]
  },
  {
   "cell_type": "code",
   "execution_count": null,
   "id": "21847167",
   "metadata": {},
   "outputs": [],
   "source": [
    "'''\n",
    "Q.다음 구문을 실행할 때 결과는?\n",
    "numbers = list(range(10))\n",
    "numbers[::2]=0*len(numbers[::2])\n",
    "print(numbers)\n",
    "\n",
    "'''\n",
    "numbers[::2]= 짝수번째 호출 \n",
    "0*len(numbers[::2]) = 0* 짝수 갯수\n",
    "짝수번째를 = 0으로 짝수갯수만큼 바꾸자\n",
    "0,1,0,3,0,5,0,7,0,9\n"
   ]
  },
  {
   "cell_type": "markdown",
   "id": "38f2aedf",
   "metadata": {},
   "source": [
    "# 화씨계산 .."
   ]
  },
  {
   "cell_type": "code",
   "execution_count": null,
   "id": "57d2446b",
   "metadata": {},
   "outputs": [],
   "source": [
    "'''\n",
    "연습문제6.\n",
    "오늘의 온도를 섭씨온도로 입력받아 화씨 온도로 변환하는 프로그램을 작성하세요 . \n",
    "화씨 온도는 소수점이 있을 경우만 두번째 자리까지 출력되고 , 소수점이하 값이 없는 경우 \n",
    "소수점을 출력하지 않도록 합니다 다음은 섭씨와 화씨의 변환 공식입니다 . \n",
    "C 는 섭씨 , F 는 화씨\n",
    "C = (F32) / 1.8\n",
    "F = (C1.8) + 32\n",
    "'''\n",
    "c = \n",
    "f = (c*1.8)+32"
   ]
  },
  {
   "cell_type": "code",
   "execution_count": 20,
   "id": "c1c6c94a",
   "metadata": {},
   "outputs": [
    {
     "data": {
      "text/plain": [
       "(9, 0)"
      ]
     },
     "execution_count": 20,
     "metadata": {},
     "output_type": "execute_result"
    }
   ],
   "source": [
    "'''함수 페이지 실습문제 \n",
    "Q1.함수의 인자로 리스트를 받은 후 리스트 내에 있는 모든 정수값에 대한 최대값과 최소값을 리턴하는 함수를 작성하세요.\n",
    "\n",
    "'''\n",
    "#def get_max_min(data_list):\n",
    "#get_max_min = lambda ~\n",
    "\n",
    "#튜플로 반환\n",
    "\n",
    "def get_max_min(data_list):\n",
    "    return max(data_list), min(data_list)\n",
    "\n",
    "get_max_min = lambda data_list : (max(data_list), min(data_list))\n",
    "get_max_min([0,1,2,3,4,9])\n",
    "    "
   ]
  },
  {
   "cell_type": "code",
   "execution_count": 30,
   "id": "b523402c",
   "metadata": {},
   "outputs": [
    {
     "name": "stdout",
     "output_type": "stream",
     "text": [
      "표준체형\n",
      "표준체형\n",
      "None\n",
      "표준 체형\n"
     ]
    }
   ],
   "source": [
    "'''실습형\n",
    "Q2.\n",
    "체질량 지수(Body Mass Index, BMI)는 체중과 키를 이용해 비만도를 나타내는 지수로 아래의 수식에 의해 계산됩니다. \n",
    "함수의 인자로 체중(kg)과 신장(m)를입력받은 후 BMI값에 따라 \n",
    "‘마른 체형‘, ‘표준‘, ‘비만‘, ‘고도비만‘ 중 하나의 상태를 출력하는 함수를 구현해 보세요.\n",
    "getBMI(kg, m):\n",
    "BMI지수 = 체중(kg)/신장(m)의 제곱\n",
    "BMI<18.5 : 마른체형\n",
    "18.5<=BMI<25 : 표준\n",
    "25<=BMI<30 : 비만\n",
    "BMI >=30 : 고도비만\n",
    "\n",
    "'''\n",
    "#체중과 신장으로 bmi 지수 계산하고\n",
    "# 그 값이 표준인지 마른체형인지 비만인지 고도비만 인지 체크\n",
    "# 리턴값이 나타남\n",
    "#체중과 신장 계산하는 변수\n",
    "#a =체중 / b =신장 \n",
    "\n",
    "\n",
    "def getBMI(kg,m):\n",
    "    bmi = kg / (m**2)\n",
    "    if bmi < 18.5:\n",
    "        print('마른체형')\n",
    "    elif 18.5 < bmi < 25:\n",
    "        print('표준체형')\n",
    "    elif 25 < bmi < 30:\n",
    "        print('비만 체형')\n",
    "    else:\n",
    "        print('고도 비만')\n",
    "        \n",
    "getBMI(70, 1.75)\n",
    "print(getBMI(70, 1.75))\n",
    "\n",
    "#람다식\n",
    "\n",
    "getBMI_lambda = lambda kg, m : '마른체형' if kg / (m**2) <18.5 else \\\n",
    "                                '표준 체형' if 18.5 <= kg / (m**2) < 25 else \\\n",
    "                                '비만 체형' if 25 <= kg / (m**2) < 30 else \\\n",
    "                                '고도 비만'\n",
    "\n",
    "print(getBMI_lambda(70, 1.75))"
   ]
  },
  {
   "cell_type": "code",
   "execution_count": null,
   "id": "cb2469b3",
   "metadata": {},
   "outputs": [],
   "source": []
  }
 ],
 "metadata": {
  "kernelspec": {
   "display_name": "Python 3 (ipykernel)",
   "language": "python",
   "name": "python3"
  },
  "language_info": {
   "codemirror_mode": {
    "name": "ipython",
    "version": 3
   },
   "file_extension": ".py",
   "mimetype": "text/x-python",
   "name": "python",
   "nbconvert_exporter": "python",
   "pygments_lexer": "ipython3",
   "version": "3.10.9"
  },
  "toc": {
   "base_numbering": 1,
   "nav_menu": {},
   "number_sections": false,
   "sideBar": true,
   "skip_h1_title": false,
   "title_cell": "Table of Contents",
   "title_sidebar": "Contents",
   "toc_cell": false,
   "toc_position": {
    "height": "calc(100% - 180px)",
    "left": "10px",
    "top": "150px",
    "width": "204.4px"
   },
   "toc_section_display": true,
   "toc_window_display": true
  }
 },
 "nbformat": 4,
 "nbformat_minor": 5
}
