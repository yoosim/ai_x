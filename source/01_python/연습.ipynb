{
 "cells": [
  {
   "cell_type": "code",
   "execution_count": 1,
   "id": "52d50f7c",
   "metadata": {},
   "outputs": [
    {
     "data": {
      "text/html": [
       "\n",
       "<style>\n",
       "div.container{width:86% !important;}\n",
       "div.cell.code_cell.rendered{width:100%;}\n",
       "div.CodeMirror {font-family:Consolas; font-size:15pt;}\n",
       "div.output {font-size:15pt; font-weight:bold;}\n",
       "div.input {font-family:Consolas; font-size:15pt;}\n",
       "div.prompt {min-width:70px;}\n",
       "div#toc-wrapper{padding-top:120px;}\n",
       "div.text_cell_render ul li{font-size:12pt;padding:5px;}\n",
       "table.dataframe{font-size:15px;}\n",
       "</style>\n",
       " "
      ],
      "text/plain": [
       "<IPython.core.display.HTML object>"
      ]
     },
     "metadata": {},
     "output_type": "display_data"
    }
   ],
   "source": [
    "from IPython.display import display, HTML \n",
    "display(HTML(\"\"\"\n",
    "<style>\n",
    "div.container{width:86% !important;}\n",
    "div.cell.code_cell.rendered{width:100%;}\n",
    "div.CodeMirror {font-family:Consolas; font-size:15pt;}\n",
    "div.output {font-size:15pt; font-weight:bold;}\n",
    "div.input {font-family:Consolas; font-size:15pt;}\n",
    "div.prompt {min-width:70px;}\n",
    "div#toc-wrapper{padding-top:120px;}\n",
    "div.text_cell_render ul li{font-size:12pt;padding:5px;}\n",
    "table.dataframe{font-size:15px;}\n",
    "</style>\n",
    " \"\"\"))"
   ]
  },
  {
   "cell_type": "code",
   "execution_count": 2,
   "id": "1fe2d37b",
   "metadata": {},
   "outputs": [],
   "source": [
    "import numpy as np"
   ]
  },
  {
   "cell_type": "code",
   "execution_count": 6,
   "id": "030217a2",
   "metadata": {},
   "outputs": [
    {
     "name": "stdout",
     "output_type": "stream",
     "text": [
      "a = [10 20 30 40]\n",
      "b = [0 1 2 3]\n"
     ]
    }
   ],
   "source": [
    "a = np.array([10, 20, 30, 40], dtype=np.int8)\n",
    "b = np.arange(4)\n",
    "print('a =', a)\n",
    "print('b =', b)"
   ]
  },
  {
   "cell_type": "code",
   "execution_count": 8,
   "id": "2045f22b",
   "metadata": {},
   "outputs": [
    {
     "data": {
      "text/plain": [
       "array([10, 22, 34, 46])"
      ]
     },
     "execution_count": 8,
     "metadata": {},
     "output_type": "execute_result"
    }
   ],
   "source": [
    "a = a+b\n",
    "a"
   ]
  },
  {
   "cell_type": "markdown",
   "id": "a1d9735f",
   "metadata": {},
   "source": [
    "# while 반복문 연습"
   ]
  },
  {
   "cell_type": "code",
   "execution_count": 6,
   "id": "42b937d6",
   "metadata": {},
   "outputs": [
    {
     "name": "stdout",
     "output_type": "stream",
     "text": [
      "141\n",
      "10011\n"
     ]
    }
   ],
   "source": [
    "sum = 0  #누적합 \n",
    "i = 0 \n",
    "while sum <= 10000:\n",
    "    i = i+1\n",
    "    sum += i\n",
    "print(i)\n",
    "print(sum)"
   ]
  },
  {
   "cell_type": "code",
   "execution_count": 7,
   "id": "3d0d3646",
   "metadata": {},
   "outputs": [
    {
     "name": "stdout",
     "output_type": "stream",
     "text": [
      "200\n",
      "10089\n"
     ]
    }
   ],
   "source": [
    "sum = 0  #누적합 \n",
    "while sum <= 10000:\n",
    "    i = i+1\n",
    "    sum += i\n",
    "print(i)\n",
    "print(sum)"
   ]
  },
  {
   "cell_type": "code",
   "execution_count": 10,
   "id": "8976c0f1",
   "metadata": {},
   "outputs": [
    {
     "name": "stdout",
     "output_type": "stream",
     "text": [
      "[100, 2000, 30, 201, 10]\n"
     ]
    }
   ],
   "source": [
    "list = ['철수',100,2000,30,201,10]\n",
    "list.remove('철수')\n",
    "print(list)"
   ]
  },
  {
   "cell_type": "markdown",
   "id": "7aa2db99",
   "metadata": {},
   "source": [
    "# 연습문제 모음.zip"
   ]
  },
  {
   "cell_type": "markdown",
   "id": "345a34f2",
   "metadata": {},
   "source": [
    "## 1) 짝수 홀수 판별기 프로그램"
   ]
  },
  {
   "cell_type": "code",
   "execution_count": null,
   "id": "ef8a30c2",
   "metadata": {},
   "outputs": [],
   "source": [
    "#양의 정수를 입력 받아 홀수인지 짝수인지를 판별하는 프로그램을 작성하세요 .\n",
    "#양의 정수가 아니면 숫자를 다시 입력 받아야 합니다."
   ]
  },
  {
   "cell_type": "code",
   "execution_count": 61,
   "id": "d5231956",
   "metadata": {},
   "outputs": [
    {
     "name": "stdout",
     "output_type": "stream",
     "text": [
      "숫자를 입력하세요.3\n",
      "입력하신 양의 정수는 3이고, 홀수입니다.\n"
     ]
    }
   ],
   "source": [
    "num  = 0\n",
    "\n",
    "while num<=0:\n",
    "    num = int(input('숫자를 입력하세요.'))\n",
    "    \n",
    "bl_num = '홀수' if num%2 else \"짝수\"\n",
    "print('입력하신 양의 정수는 {}이고, {}입니다.'.format(num,bl_num))"
   ]
  },
  {
   "cell_type": "code",
   "execution_count": 60,
   "id": "50b60765",
   "metadata": {},
   "outputs": [
    {
     "name": "stdout",
     "output_type": "stream",
     "text": [
      "*****\n",
      "*****\n",
      "*****\n",
      "*****\n",
      "*****\n"
     ]
    }
   ],
   "source": [
    "for a in range(5):\n",
    "    for b in range(5):\n",
    "        print(\"*\",end='')\n",
    "    print()"
   ]
  },
  {
   "cell_type": "code",
   "execution_count": 25,
   "id": "c113843f",
   "metadata": {},
   "outputs": [
    {
     "name": "stdout",
     "output_type": "stream",
     "text": [
      "\n",
      "*\n",
      "**\n",
      "***\n",
      "****\n",
      "*****\n"
     ]
    }
   ],
   "source": [
    "for a in range(6):\n",
    "    for b in range(a):\n",
    "        print(\"*\",end='')\n",
    "    print()"
   ]
  },
  {
   "cell_type": "code",
   "execution_count": 36,
   "id": "72737489",
   "metadata": {},
   "outputs": [
    {
     "name": "stdout",
     "output_type": "stream",
     "text": [
      "0행0열:90\t0행1열:90\t0행2열:92\t0행3열:93\t\n",
      "1행0열:85\t1행1열:86\t1행2열:82\t1행3열:83\t\n",
      "2행0열:70\t2행1열:71\t2행2열:72\t2행3열:73\t\n"
     ]
    }
   ],
   "source": [
    "numbers_2d = [[90, 90, 92, 93],\n",
    "             [85, 86, 82, 83],\n",
    "             [70, 71, 72, 73]]\n",
    "\n",
    "for i, row in enumerate(numbers_2d) :\n",
    "    for j, value in enumerate(row) : \n",
    "        print(\"{}행{}열:{}\".format(i, j,value) ,end='\\t')\n",
    "    print()"
   ]
  },
  {
   "cell_type": "code",
   "execution_count": 38,
   "id": "04dd50d4",
   "metadata": {},
   "outputs": [
    {
     "name": "stdout",
     "output_type": "stream",
     "text": [
      "0행0열:90\t0행1열:90\t0행2열:92\t0행3열:93\t\n",
      "1행0열:85\t1행1열:86\t1행2열:82\t1행3열:83\t\n",
      "2행0열:70\t2행1열:71\t2행2열:72\t2행3열:73\t\n"
     ]
    }
   ],
   "source": [
    "for i, row in enumerate(numbers_2d) :\n",
    "    for j, value in enumerate(row) : \n",
    "        print(f\"{i}행{j}열:{value}\" ,end='\\t')\n",
    "    print()"
   ]
  },
  {
   "cell_type": "code",
   "execution_count": 44,
   "id": "9d460913",
   "metadata": {},
   "outputs": [
    {
     "name": "stdout",
     "output_type": "stream",
     "text": [
      "90\t90\t92\t93\t\n",
      "85\t86\t82\t83\t\n",
      "70\t71\t72\t73\t\n"
     ]
    }
   ],
   "source": [
    "# 90 91 92 93\n",
    "# 80 81 82 83\n",
    "# 70 71 72 73 이 나와야함\n",
    "\n",
    "for row in numbers_2d:\n",
    "    for item in row:\n",
    "        print(item, end='\\t')\n",
    "    print()"
   ]
  },
  {
   "cell_type": "code",
   "execution_count": 6,
   "id": "8d7a2a1a",
   "metadata": {},
   "outputs": [],
   "source": [
    "numbers = [1, 12, 32, 4, 5, 19, 82, 64, 50]"
   ]
  },
  {
   "cell_type": "markdown",
   "id": "51bafb0d",
   "metadata": {},
   "source": [
    "# 질문 1 sum이 안 된다..\n"
   ]
  },
  {
   "cell_type": "code",
   "execution_count": 7,
   "id": "36ef1fdd",
   "metadata": {},
   "outputs": [
    {
     "name": "stdout",
     "output_type": "stream",
     "text": [
      "오름차순 : [1, 4, 5, 12, 19, 32, 50, 64, 82]\n",
      "내림차순 : [82, 64, 50, 32, 19, 12, 5, 4, 1]\n",
      "합 : 269\n"
     ]
    }
   ],
   "source": [
    "print('오름차순 :', sorted(numbers))\n",
    "print('내림차순 :', sorted(numbers, reverse=True))\n",
    "print('합 :', sum(numbers))"
   ]
  },
  {
   "cell_type": "code",
   "execution_count": 8,
   "id": "e8e84fb3",
   "metadata": {},
   "outputs": [],
   "source": [
    "city =('서울','부산','인천', '목포' )"
   ]
  },
  {
   "cell_type": "code",
   "execution_count": 9,
   "id": "d601081a",
   "metadata": {},
   "outputs": [
    {
     "name": "stdout",
     "output_type": "stream",
     "text": [
      "서울부산인천목포\n"
     ]
    }
   ],
   "source": [
    "new_city = ''.join(city)\n",
    "print(new_city)"
   ]
  },
  {
   "cell_type": "code",
   "execution_count": 7,
   "id": "851e72dc",
   "metadata": {},
   "outputs": [
    {
     "name": "stdout",
     "output_type": "stream",
     "text": [
      "[1, 2, 3, 4, 5, 6, 7, 8, 9, 10, 100]\n"
     ]
    }
   ],
   "source": [
    "'''\n",
    "Q.다음 리스트가 주어졌을 경우 요구대로 코드를 작성하시오.\n",
    "numbers = [1, 2, 3, 4, 5, 6, 7, 8, 9, 10]\n",
    "1.숫자 100을 맨 뒤에 추가하세요.\n",
    "'''\n",
    "\n",
    "numbers =  [1, 2, 3, 4, 5, 6, 7, 8, 9, 10]\n",
    "numbers.append(100)\n",
    "print(numbers)"
   ]
  },
  {
   "cell_type": "code",
   "execution_count": 2,
   "id": "c67cd786",
   "metadata": {},
   "outputs": [
    {
     "name": "stdout",
     "output_type": "stream",
     "text": [
      "[1, 2, 3, 4, 5, 6, 7, 8, 9, 10, [200, 300, 400, 500]]\n",
      "[1, 2, 3, 4, 5, 6, 7, 8, 9, 10, [200, 300, 400, 500], 200, 300, 400, 500]\n"
     ]
    }
   ],
   "source": [
    "'''\n",
    "Q.다음 리스트가 주어졌을 경우 요구대로 코드를 작성하시오.\n",
    "numbers = [1, 2, 3, 4, 5, 6, 7, 8, 9, 10]\n",
    "2.다음 리스트를 numbers 리스트 맨뒤에 추가하세요.\n",
    "data = [200, 300, 400, 500]\n",
    "\n",
    "append() : 맨 뒤에 요소 추가\n",
    "extend() : 맨 뒤에 리스트를 요소별로 추가\n",
    "insert(idx, 값) : idx번째 인덱스 위치에 추가(기존 데이터는 shift)\n",
    "'''\n",
    "\n",
    "numbers = [1, 2, 3, 4, 5, 6, 7, 8, 9, 10]\n",
    "data = [200, 300, 400, 500]\n",
    "\n",
    "numbers.append(data)\n",
    "print(numbers)\n",
    "numbers.extend(data)\n",
    "print(numbers)"
   ]
  },
  {
   "cell_type": "code",
   "execution_count": 15,
   "id": "70871924",
   "metadata": {},
   "outputs": [
    {
     "name": "stdout",
     "output_type": "stream",
     "text": [
      "1번 결과 : [1, 2, 3, 4, 5, 6, 7, 8, 9, 10, 100]\n",
      "2번 결과 : [1, 2, 3, 4, 5, 6, 7, 8, 9, 10, 100, 200, 300, 400, 500]\n",
      "3번 결과 : [1, 2, 3, 4, 5]\n",
      "4번 결과 : [1, 3, 5, 7, 9, 100, 300, 500]\n",
      "5번 후 결과 : [0, 2, 0, 4, 0, 6, 0, 8, 0, 10, 0, 200, 0, 400, 0]\n",
      "6번 결과 : [0, 400, 0, 200, 0, 10, 0, 8, 0, 6, 0, 4, 0, 2, 0]\n"
     ]
    }
   ],
   "source": [
    "numbers = [1,2,3,4,5,6,7,8,9,10]\n",
    "# 1.숫자 100을 맨뒤에 추가\n",
    "numbers.append(100)\n",
    "print('1번 결과 :',numbers)\n",
    "\n",
    "# 2. 다음 리스트를 numbers 리스트 맨뒤에 추가\n",
    "data = [200,300,400,500]\n",
    "# numbers = numbers + data\n",
    "numbers.extend(data)\n",
    "print('2번 결과 :',numbers)\n",
    "\n",
    "# 3. 처음 다섯개 숫자만 출력\n",
    "print('3번 결과 :',numbers[:5])\n",
    "\n",
    "# 4. 짝수번째 인덱스 데이터만 출력(설명부탁함. for문 사용보다는 슬라이싱 강추)\n",
    "print('4번 결과 :', numbers[::2])\n",
    "\n",
    "# 5. 짝수번째 데이터를 모두 0으로 바꿔\n",
    "numbers[::2] = [0] * len(numbers[::2])\n",
    "print('5번 후 결과 :', numbers)\n",
    "\n",
    "# 6. 데이터를 역순으로 나열\n",
    "print('6번 결과 :', numbers[::-1])\n",
    "# numbers.reverse()\n",
    "# numbers"
   ]
  },
  {
   "cell_type": "code",
   "execution_count": null,
   "id": "d8edeac8",
   "metadata": {},
   "outputs": [],
   "source": [
    "'''\n",
    "Q.다음 구문을 실행할 때 결과는?\n",
    "'''\n",
    "numbers = [0,1,2,3,4,5,6,7,8,9]\n",
    "numbers[::2] = numbers[5:]\n",
    "print(numbers)\n",
    "numbers[::2] = 0,2,4,6,8 이고 (짝수번째)\n",
    "numbers[5:] = 5,6,7,8,9 인데 \n",
    "짝수번째 인덱스를 numbers[5:]로 바꾸라는 말.\n",
    "최종적으로 5,1,6,3,7,5,8,7,9,9"
   ]
  },
  {
   "cell_type": "code",
   "execution_count": null,
   "id": "21847167",
   "metadata": {},
   "outputs": [],
   "source": [
    "'''\n",
    "Q.다음 구문을 실행할 때 결과는?\n",
    "numbers = list(range(10))\n",
    "numbers[::2]=0*len(numbers[::2])\n",
    "print(numbers)\n",
    "\n",
    "'''\n",
    "numbers[::2]= 짝수번째 호출 \n",
    "0*len(numbers[::2]) = 0* 짝수 갯수\n",
    "짝수번째를 = 0으로 짝수갯수만큼 바꾸자\n",
    "0,1,0,3,0,5,0,7,0,9\n"
   ]
  },
  {
   "cell_type": "markdown",
   "id": "38f2aedf",
   "metadata": {},
   "source": [
    "# 화씨계산 .."
   ]
  },
  {
   "cell_type": "code",
   "execution_count": null,
   "id": "57d2446b",
   "metadata": {},
   "outputs": [],
   "source": [
    "'''\n",
    "연습문제6.\n",
    "오늘의 온도를 섭씨온도로 입력받아 화씨 온도로 변환하는 프로그램을 작성하세요 . \n",
    "화씨 온도는 소수점이 있을 경우만 두번째 자리까지 출력되고 , 소수점이하 값이 없는 경우 \n",
    "소수점을 출력하지 않도록 합니다 다음은 섭씨와 화씨의 변환 공식입니다 . \n",
    "C 는 섭씨 , F 는 화씨\n",
    "C = (F32) / 1.8\n",
    "F = (C1.8) + 32\n",
    "'''\n",
    "c = \n",
    "f = (c*1.8)+32"
   ]
  },
  {
   "cell_type": "code",
   "execution_count": 20,
   "id": "c1c6c94a",
   "metadata": {},
   "outputs": [
    {
     "data": {
      "text/plain": [
       "(9, 0)"
      ]
     },
     "execution_count": 20,
     "metadata": {},
     "output_type": "execute_result"
    }
   ],
   "source": [
    "'''함수 페이지 실습문제 \n",
    "Q1.함수의 인자로 리스트를 받은 후 리스트 내에 있는 모든 정수값에 대한 최대값과 최소값을 리턴하는 함수를 작성하세요.\n",
    "\n",
    "'''\n",
    "#def get_max_min(data_list):\n",
    "#get_max_min = lambda ~\n",
    "\n",
    "#튜플로 반환\n",
    "\n",
    "def get_max_min(data_list):\n",
    "    return max(data_list), min(data_list)\n",
    "\n",
    "get_max_min = lambda data_list : (max(data_list), min(data_list))\n",
    "get_max_min([0,1,2,3,4,9])\n",
    "    "
   ]
  },
  {
   "cell_type": "code",
   "execution_count": 30,
   "id": "b523402c",
   "metadata": {},
   "outputs": [
    {
     "name": "stdout",
     "output_type": "stream",
     "text": [
      "표준체형\n",
      "표준체형\n",
      "None\n",
      "표준 체형\n"
     ]
    }
   ],
   "source": [
    "'''실습형\n",
    "Q2.\n",
    "체질량 지수(Body Mass Index, BMI)는 체중과 키를 이용해 비만도를 나타내는 지수로 아래의 수식에 의해 계산됩니다. \n",
    "함수의 인자로 체중(kg)과 신장(m)를입력받은 후 BMI값에 따라 \n",
    "‘마른 체형‘, ‘표준‘, ‘비만‘, ‘고도비만‘ 중 하나의 상태를 출력하는 함수를 구현해 보세요.\n",
    "getBMI(kg, m):\n",
    "BMI지수 = 체중(kg)/신장(m)의 제곱\n",
    "BMI<18.5 : 마른체형\n",
    "18.5<=BMI<25 : 표준\n",
    "25<=BMI<30 : 비만\n",
    "BMI >=30 : 고도비만\n",
    "\n",
    "'''\n",
    "#체중과 신장으로 bmi 지수 계산하고\n",
    "# 그 값이 표준인지 마른체형인지 비만인지 고도비만 인지 체크\n",
    "# 리턴값이 나타남\n",
    "#체중과 신장 계산하는 변수\n",
    "#a =체중 / b =신장 \n",
    "\n",
    "\n",
    "def getBMI(kg,m):\n",
    "    bmi = kg / (m**2)\n",
    "    if bmi < 18.5:\n",
    "        print('마른체형')\n",
    "    elif 18.5 < bmi < 25:\n",
    "        print('표준체형')\n",
    "    elif 25 < bmi < 30:\n",
    "        print('비만 체형')\n",
    "    else:\n",
    "        print('고도 비만')\n",
    "        \n",
    "getBMI(70, 1.75)\n",
    "print(getBMI(70, 1.75))\n",
    "\n",
    "#람다식\n",
    "\n",
    "getBMI_lambda = lambda kg, m : '마른체형' if kg / (m**2) <18.5 else \\\n",
    "                                '표준 체형' if 18.5 <= kg / (m**2) < 25 else \\\n",
    "                                '비만 체형' if 25 <= kg / (m**2) < 30 else \\\n",
    "                                '고도 비만'\n",
    "\n",
    "print(getBMI_lambda(70, 1.75))"
   ]
  },
  {
   "cell_type": "code",
   "execution_count": 3,
   "id": "cb2469b3",
   "metadata": {},
   "outputs": [
    {
     "name": "stdout",
     "output_type": "stream",
     "text": [
      "홍길동님의 나이는 23살 입니다.\n",
      "홍길동님의 나이는 23살 입니다.\n"
     ]
    }
   ],
   "source": [
    "'''이름과 나이 변수를 다음 형식으로 출력하도록 format() 함수를 이용해 형식화하세요\n",
    "출력형식 : 홍길동님의 나이는 23 살입니다'''\n",
    "\n",
    "name = '홍길동'\n",
    "age = 23\n",
    "\n",
    "print(f'{name}님의 나이는 {age}살 입니다.')\n",
    "print('{}님의 나이는 {}살 입니다.'.format(name,age))"
   ]
  },
  {
   "cell_type": "code",
   "execution_count": 4,
   "id": "3e42284b",
   "metadata": {},
   "outputs": [
    {
     "data": {
      "text/plain": [
       "[0, 2, 0, 4, 0, 6, 0, 8, 0, 10]"
      ]
     },
     "execution_count": 4,
     "metadata": {},
     "output_type": "execute_result"
    }
   ],
   "source": [
    "# 5. 짝수번째 데이터를 모두 0으로 바꾸는게 아니고 출력만 하려면\n",
    "numbers = [1,2,3,4,5,6,7,8,9,10]\n",
    "[numbers[idx] if idx%2!=0 else 0 for idx in range(len(numbers))]\n",
    "\n",
    "if idx&2!=0 #idx를 2로 나눈게 0이 아니라면 = 홀수 , if 다음 조건이 참이 아니라면 else로 가야하니까 짝수면 0이 되어야 함.\n",
    "else 0 모든 조건을 만족하지 않을 때 수행할 명령어들\n",
    "0,2,0,4,0,"
   ]
  },
  {
   "cell_type": "code",
   "execution_count": 6,
   "id": "8573f36c",
   "metadata": {},
   "outputs": [
    {
     "name": "stdout",
     "output_type": "stream",
     "text": [
      "컴퓨터가 만든 임의의 수 : 7\n",
      "1~100사이의 숫자를 맞춰보세요 :1\n",
      "UP      ↑\n",
      "2~100사이의 숫자를 맞춰보세요 :2\n",
      "UP      ↑\n",
      "3~100사이의 숫자를 맞춰보세요 :9\n",
      "DOWN    ↓\n",
      "3~8사이의 숫자를 맞춰보세요 :0\n",
      "수의범위를 벗어났습니다.\n",
      "3~8사이의 숫자를 맞춰보세요 :5\n",
      "UP      ↑\n",
      "6~8사이의 숫자를 맞춰보세요 :4\n",
      "수의범위를 벗어났습니다.\n",
      "6~8사이의 숫자를 맞춰보세요 :7\n",
      "정답입니다!\n"
     ]
    }
   ],
   "source": [
    "# 10번 2단계\n",
    "'''\n",
    "1~100 사이의 정수를 맞추기 프로그램\n",
    "(프로그램 안에서 random수가 만들어지고 그 random수 맞추기)\n",
    "1단계 : 숫자를 못 맞추면 UP/DOWN을 출력하고, 맞추면 축하메세지 뿌리고 끝남\n",
    "2단계 : 숫자를 못 맞추면 fRom~to를 조정, 맞추면 축하메세지 뿌리고 끝남\n",
    "3단계 : 2단계의 기회를 5회 제한. 5회의 기회가 지나면 실패 메세지 뿌리고 끝남\n",
    "(2단계와 3단계 연습문제)\n",
    "'''\n",
    "\n",
    "import random\n",
    "fRom, to = 1, 100 #1과 100사이 난수 발생\n",
    "inputNum = 0 #맞춰야 하는 수가 저장될 변수\n",
    "randomNum = random.randint(fRom, to)\n",
    "print('컴퓨터가 만든 임의의 수 :', randomNum)\n",
    "\n",
    "while randomNum!=inputNum:\n",
    "    inputNum = int(input(f'{fRom}~{to}사이의 숫자를 맞춰보세요 :'))\n",
    "    \n",
    "    if (inputNum<fRom) | (inputNum>to): #입력값이 최소값보다 작거나, 크면 오류\n",
    "        print('수의범위를 벗어났습니다.')\n",
    "    elif randomNum < inputNum:          #컴퓨터가 만든 수보다 입력값이 클 때 \n",
    "        print('DOWN    ↓')\n",
    "        to = inputNum-1               #입력한 수보다 1수 작은 수를 알려주기 위해\n",
    "    elif randomNum > inputNum:         #컴퓨터가 만든 수 보다 입력값이 작을 때 \n",
    "        print('UP      ↑')\n",
    "        fRom = inputNum+1\n",
    "    else:                              #정답을 입력했을 때\n",
    "        print('정답입니다!')\n",
    "        "
   ]
  },
  {
   "cell_type": "code",
   "execution_count": 11,
   "id": "1ff5cf37",
   "metadata": {},
   "outputs": [
    {
     "name": "stdout",
     "output_type": "stream",
     "text": [
      "컴퓨터가 만든 임의의 수 : 17\n",
      "1~100사이의 숫자를 맞춰보세요. 남은기회5번 :90\n",
      "DOWN    ↓\n",
      "1~89사이의 숫자를 맞춰보세요. 남은기회4번 :80\n",
      "DOWN    ↓\n",
      "1~79사이의 숫자를 맞춰보세요. 남은기회3번 :70\n",
      "DOWN    ↓\n",
      "1~69사이의 숫자를 맞춰보세요. 남은기회2번 :60\n",
      "DOWN    ↓\n",
      "1~59사이의 숫자를 맞춰보세요. 남은기회1번 :50\n",
      "DOWN    ↓\n",
      "모든 기회를 다 쓰셨습니다. 종료합니다.\n"
     ]
    }
   ],
   "source": [
    "# 10번 3단계\n",
    "'''\n",
    "1~100 사이의 정수를 맞추기 프로그램\n",
    "(프로그램 안에서 random수가 만들어지고 그 random수 맞추기)\n",
    "1단계 : 숫자를 못 맞추면 UP/DOWN을 출력하고, 맞추면 축하메세지 뿌리고 끝남\n",
    "2단계 : 숫자를 못 맞추면 fRom~to를 조정, 맞추면 축하메세지 뿌리고 끝남\n",
    "3단계 : 2단계의 기회를 5회 제한. 5회의 기회가 지나면 실패 메세지 뿌리고 끝남\n",
    "(2단계와 3단계 연습문제)\n",
    "'''\n",
    "\n",
    "import random\n",
    "fRom, to = 1, 100\n",
    "inputNum = 0\n",
    "randomNum = random.randint(fRom, to)\n",
    "print('컴퓨터가 만든 임의의 수 :', randomNum)\n",
    "\n",
    "for i in range(5,0,-1):     #5번 수행하는데 뒷순서부터 선언, 그 값이 i에 들어간다.\n",
    "    inputNum = int(input(f'{fRom}~{to}사이의 숫자를 맞춰보세요. 남은기회{i}번 :'))\n",
    "    \n",
    "    if (inputNum<fRom) | (inputNum>to):\n",
    "        print('숫자의 범위를 벗어났습니다.')\n",
    "    elif randomNum > inputNum: \n",
    "        print('UP      ↑')\n",
    "        fRom = inputNum+1\n",
    "    elif randomNum < inputNum:\n",
    "        print('DOWN    ↓')\n",
    "        to = inputNum-1\n",
    "    else:\n",
    "        print('정답입니다! 축하합니다.')\n",
    "        break   #브레이크를 안 쓰면 정답을 맞춰도 남은 기회 소진\n",
    "else:\n",
    "    print('모든 기회를 다 쓰셨습니다. 종료합니다.')\n",
    "    \n"
   ]
  },
  {
   "cell_type": "markdown",
   "id": "c5ce2d38",
   "metadata": {},
   "source": [
    "# 람다식 연습"
   ]
  },
  {
   "cell_type": "code",
   "execution_count": 12,
   "id": "9a992510",
   "metadata": {},
   "outputs": [
    {
     "data": {
      "text/plain": [
       "8"
      ]
     },
     "execution_count": 12,
     "metadata": {},
     "output_type": "execute_result"
    }
   ],
   "source": [
    "def add(a, b):\n",
    "    return a+b\n",
    "add(3,5)"
   ]
  },
  {
   "cell_type": "code",
   "execution_count": 13,
   "id": "858406e8",
   "metadata": {},
   "outputs": [
    {
     "data": {
      "text/plain": [
       "8"
      ]
     },
     "execution_count": 13,
     "metadata": {},
     "output_type": "execute_result"
    }
   ],
   "source": [
    "add2 = lambda a,b : a+b \n",
    "add2(3,5)"
   ]
  },
  {
   "cell_type": "code",
   "execution_count": 14,
   "id": "d439b8a6",
   "metadata": {},
   "outputs": [
    {
     "data": {
      "text/plain": [
       "(function, function)"
      ]
     },
     "execution_count": 14,
     "metadata": {},
     "output_type": "execute_result"
    }
   ],
   "source": [
    "type(add),type(add2)"
   ]
  },
  {
   "cell_type": "code",
   "execution_count": 16,
   "id": "33d1c615",
   "metadata": {},
   "outputs": [
    {
     "data": {
      "text/plain": [
       "7"
      ]
     },
     "execution_count": 16,
     "metadata": {},
     "output_type": "execute_result"
    }
   ],
   "source": [
    "(lambda a,b : a+b)(3,4)   #(3,4)는 람다식에 넘겨주는 인자로 a=3, b=4이므로 a+b = 7"
   ]
  },
  {
   "cell_type": "code",
   "execution_count": 21,
   "id": "7dadd5f4",
   "metadata": {},
   "outputs": [
    {
     "data": {
      "text/plain": [
       "('홀수', '홀수', '짝수')"
      ]
     },
     "execution_count": 21,
     "metadata": {},
     "output_type": "execute_result"
    }
   ],
   "source": [
    "#매개변수로 들어온 값이 짝수인지 홀수인지 return\n",
    "\n",
    "def ex1(num):\n",
    "    if num%2:  #num을 2로 나눴을때 나머지가 1이면 True 홀수 (홀수일때 Treu, 짝수일때 False) 짝수면 나머지가 0이여야해.\n",
    "        result = '홀수'\n",
    "    else:\n",
    "        result = '짝수'\n",
    "#def ex1(num):\n",
    "ex1 = lambda num : '홀수' if num%2 else'짝수'\n",
    "ex1(9),ex1(19),ex1(-2)"
   ]
  },
  {
   "cell_type": "markdown",
   "id": "023c30df",
   "metadata": {},
   "source": [
    "# 객체지향 프로그래밍"
   ]
  },
  {
   "cell_type": "code",
   "execution_count": 4,
   "id": "ba6193a4",
   "metadata": {},
   "outputs": [
    {
     "name": "stdout",
     "output_type": "stream",
     "text": [
      "홍길동 남자 MBC\n",
      "홍깔숙 여자 MBC\n",
      "{'name': '홍깔숙', 'gender': '여자', 'accademy': 'MBC'}\n"
     ]
    }
   ],
   "source": [
    "person1 = {'name':'홍길동','gender':'남자','accademy':'MBC'}\n",
    "person2 = {'name':'홍길숙', 'gender':'여자','accademy':'MBC'}\n",
    "print(person1['name'],person1['gender'],person1['accademy'])\n",
    "person2['name'] = '홍깔숙'\n",
    "print(person2['name'],person2['gender'],person2['accademy'])\n",
    "print(person2)"
   ]
  },
  {
   "cell_type": "code",
   "execution_count": 13,
   "id": "cf416244",
   "metadata": {},
   "outputs": [],
   "source": [
    "class Person:\n",
    "    accademy = 'MBC'\n",
    "    def __init__(self,name,gender):\n",
    "        self.name = name\n",
    "        self.gender = gender\n",
    "    def print_info(self):\n",
    "        print(\"{}는 {}입니다. {}를 다니고 있습니다.\".format(self.name,\n",
    "                                                        self.gender,\n",
    "                                                        self.accademy))\n",
    "    def __str__(self):\n",
    "        return\"{}는 {}입니다. {}를 다니고 있습니다.\".format(self.name,\n",
    "                                                        self.gender,\n",
    "                                                        self.accademy)"
   ]
  },
  {
   "cell_type": "code",
   "execution_count": 17,
   "id": "cc8de4a5",
   "metadata": {},
   "outputs": [],
   "source": [
    "p1 = Person('홍길동','남자')\n",
    "p2 = Person('함길동','여자')\n",
    "print(p1)\n",
    "print(p2)"
   ]
  },
  {
   "cell_type": "code",
   "execution_count": 19,
   "id": "b9b318ec",
   "metadata": {},
   "outputs": [],
   "source": [
    "class Person:\n",
    "    def __init__(self,name,gender='남자'):\n",
    "        self.name = name\n",
    "        self.gender = gender\n",
    "        print('Person 객체 생성합니다.', name)\n",
    "    def __del__(self):\n",
    "        print('Person 객체 소멸시킵니다.', self.name)\n",
    "    def print_info(self):\n",
    "        print(\"{}는 {}입니다.\".format(self.name, self.gender))\n",
    "    def __str__(self):\n",
    "        return f'{self.name}는{self.gender}입니다.'"
   ]
  },
  {
   "cell_type": "code",
   "execution_count": 31,
   "id": "fdf96d71",
   "metadata": {},
   "outputs": [
    {
     "name": "stdout",
     "output_type": "stream",
     "text": [
      "Person 객체 생성합니다. 신길동\n",
      "신길동는남자입니다.\n"
     ]
    }
   ],
   "source": [
    "p4 = Person('신길동')\n",
    "print(p4)"
   ]
  },
  {
   "cell_type": "code",
   "execution_count": null,
   "id": "9ad1fa41",
   "metadata": {},
   "outputs": [],
   "source": []
  },
  {
   "cell_type": "code",
   "execution_count": 22,
   "id": "6d1a0b42",
   "metadata": {},
   "outputs": [
    {
     "name": "stdout",
     "output_type": "stream",
     "text": [
      "Person 객체 생성합니다. 신사임당\n",
      "Person 객체 소멸시킵니다. 신사임당\n"
     ]
    }
   ],
   "source": [
    "p1 = Person('신사임당','여자')"
   ]
  },
  {
   "cell_type": "code",
   "execution_count": 23,
   "id": "61259a50",
   "metadata": {},
   "outputs": [
    {
     "name": "stdout",
     "output_type": "stream",
     "text": [
      "신사임당는 여자입니다.\n"
     ]
    }
   ],
   "source": [
    "p1.print_info()"
   ]
  },
  {
   "cell_type": "code",
   "execution_count": 24,
   "id": "9fa44f60",
   "metadata": {},
   "outputs": [
    {
     "name": "stdout",
     "output_type": "stream",
     "text": [
      "Person 객체 생성합니다. 홍길동\n",
      "홍길동는남자입니다.\n"
     ]
    }
   ],
   "source": [
    "p2 = Person('홍길동','남자')\n",
    "print(p2)"
   ]
  },
  {
   "cell_type": "code",
   "execution_count": 25,
   "id": "6d42d1da",
   "metadata": {},
   "outputs": [],
   "source": [
    "p3 = p2"
   ]
  },
  {
   "cell_type": "code",
   "execution_count": 26,
   "id": "2ece4c00",
   "metadata": {},
   "outputs": [],
   "source": [
    "del p1"
   ]
  },
  {
   "cell_type": "code",
   "execution_count": 27,
   "id": "4cb113dc",
   "metadata": {},
   "outputs": [],
   "source": [
    "del p2"
   ]
  },
  {
   "cell_type": "code",
   "execution_count": 28,
   "id": "195e8db1",
   "metadata": {},
   "outputs": [
    {
     "name": "stdout",
     "output_type": "stream",
     "text": [
      "Person 객체 소멸시킵니다. 홍길동\n"
     ]
    }
   ],
   "source": [
    "del p3"
   ]
  },
  {
   "cell_type": "code",
   "execution_count": 39,
   "id": "64fde89f",
   "metadata": {},
   "outputs": [],
   "source": [
    "class Person:\n",
    "    name = '홍길동'\n",
    "    gender = '남자'\n",
    "    def print_info(self):\n",
    "        print(f'인스턴스(일반)메소드 - {self.name}는 {self.gender}입니다.')\n",
    "    def change_info(self,name,gender='남자'):\n",
    "        self.name = name\n",
    "        self.gender = gender\n",
    "        print(f'인스턴스(일반)메소드 - {self.name}/{self.gender}로 변경 완료')\n",
    "    @classmethod\n",
    "    def do_(clz):\n",
    "        clz.name = '심사임당'\n",
    "        clz.gender = '여자'\n",
    "        print(f'클래스 메소드 - {clz.name}/{clz.gender} 변경완료')\n",
    "    @staticmethod\n",
    "    def that_():\n",
    "        Person.name = '신길동'\n",
    "        Person.gender = '남자'\n",
    "        print(f'static 메소드 - {Person.name}/{Person.gender} 변경완료')"
   ]
  },
  {
   "cell_type": "code",
   "execution_count": 42,
   "id": "69f91eef",
   "metadata": {},
   "outputs": [
    {
     "name": "stdout",
     "output_type": "stream",
     "text": [
      "인스턴스(일반)메소드 - 홍길동는 남자입니다.\n"
     ]
    }
   ],
   "source": [
    "p1.print_info()"
   ]
  },
  {
   "cell_type": "code",
   "execution_count": 44,
   "id": "6c94af95",
   "metadata": {},
   "outputs": [
    {
     "name": "stdout",
     "output_type": "stream",
     "text": [
      "클래스 메소드 - 심사임당/여자 변경완료\n"
     ]
    }
   ],
   "source": [
    "Person.do_()"
   ]
  },
  {
   "cell_type": "code",
   "execution_count": 45,
   "id": "48f7e937",
   "metadata": {},
   "outputs": [
    {
     "name": "stdout",
     "output_type": "stream",
     "text": [
      "static 메소드 - 신길동/남자 변경완료\n"
     ]
    }
   ],
   "source": [
    "Person.that_()"
   ]
  },
  {
   "cell_type": "code",
   "execution_count": 50,
   "id": "ad691a95",
   "metadata": {},
   "outputs": [],
   "source": [
    "class Cal:\n",
    "    def __init__(self, num1=1, num2=2):\n",
    "        print('두 수 초기화')\n",
    "        self.num1 = num1\n",
    "        self.num2 = num2\n",
    "    def add(self):\n",
    "        return self.num1+self.num2\n",
    "    def sub(self):\n",
    "        return self.num1-self.num2\n",
    "    def div(self):\n",
    "        return self.num1/self.num2 if self.num2!=0 else '0으로 나눌 수 없어요'\n",
    "        #         <조건>            if   <조건문>    else        <대체값>\n",
    "        # 조건문을 중심으로(num2가 0이 아니라면 조건값 출력, 0이면 대체값 출력)\n",
    "        #self.num2가 0이 아니라면 true(self.num1/self.num2 값을 반환)/ self.num2가 0이라면 0으로 나눌수 없어요\n",
    "    def __str__(self):\n",
    "        return 'num1={}, num2={}'.format(self.num1,self.num2)"
   ]
  },
  {
   "cell_type": "code",
   "execution_count": 63,
   "id": "dbf7ad94",
   "metadata": {},
   "outputs": [
    {
     "name": "stdout",
     "output_type": "stream",
     "text": [
      "두 수 초기화\n",
      "두 수 초기화\n",
      "4\n",
      "num1=2, num2=2\n",
      "num1=5, num2=4\n",
      "20\n"
     ]
    }
   ],
   "source": [
    "class Cal_inherit(Cal):\n",
    "    def mul(self):\n",
    "        return self.num1*self.num2\n",
    "\n",
    "obj1 = Cal_inherit(2,2)\n",
    "obj2 = Cal_inherit(5,4)\n",
    "print(obj1.add())\n",
    "print(obj1)\n",
    "print(obj2)\n",
    "print(obj2.mul())"
   ]
  },
  {
   "cell_type": "code",
   "execution_count": 64,
   "id": "865118c7",
   "metadata": {},
   "outputs": [],
   "source": [
    "class Person:\n",
    "    def __init__(self, name, gender):\n",
    "        print('이름과 성별 초기화')\n",
    "        self.name = name\n",
    "        self.gender = gender\n",
    "    def __str__(self):\n",
    "        return \"{}님은 {}입니다.\".format(self.name, self.gender)\n",
    "    def print_info(self):\n",
    "        print(self)\n",
    "        "
   ]
  },
  {
   "cell_type": "code",
   "execution_count": 69,
   "id": "26d9fa7d",
   "metadata": {},
   "outputs": [
    {
     "name": "stdout",
     "output_type": "stream",
     "text": [
      "이름과 성별 초기화\n",
      "홍길동님은 남자입니다.\n",
      "홍길동님은 남자입니다.\n"
     ]
    }
   ],
   "source": [
    "p = Person('홍길동', '남자')\n",
    "p.print_info()\n",
    "Person.print_info(p)"
   ]
  },
  {
   "cell_type": "code",
   "execution_count": 75,
   "id": "97023f8b",
   "metadata": {},
   "outputs": [],
   "source": [
    "class Student(Person):\n",
    "    def __init__(self, name, gender, major):\n",
    "        super().__init__(name, gender)\n",
    "        self.major = major\n",
    "    def __str__(self):\n",
    "        return super().__str__()+'전공은 {}입니다.'.format(self.major)"
   ]
  },
  {
   "cell_type": "code",
   "execution_count": 76,
   "id": "fb39c3da",
   "metadata": {},
   "outputs": [
    {
     "name": "stdout",
     "output_type": "stream",
     "text": [
      "이름과 성별 초기화\n",
      "홍길숙님은 여자입니다.전공은 AI입니다.\n",
      "홍길숙님은 여자입니다.전공은 AI입니다.\n"
     ]
    }
   ],
   "source": [
    "s = Student('홍길숙','여자','AI')\n",
    "print(s)\n",
    "s.print_info()"
   ]
  },
  {
   "cell_type": "code",
   "execution_count": 85,
   "id": "35d3b715",
   "metadata": {},
   "outputs": [],
   "source": [
    "class Shape:\n",
    "    def __init__(self, x=0,y=0):\n",
    "        self.x = x\n",
    "        self.y = y\n",
    "    def move(self, x, y):\n",
    "        'x,y 좌표 이동'\n",
    "        self.x += x\n",
    "        self.y += y\n",
    "    def __str__(self):\n",
    "        return 'x좌표 : {}, y좌표 : {}'.format(self.x,self.y)\n",
    "    def calc_area(self):\n",
    "        raise Exception ('강제 예외 발생 (이 메소드는 상속받는 곳에서 재정의 강요)')\n",
    "    @staticmethod\n",
    "    def staticmethod_():\n",
    "        print('도형 클래스 staticmethod 호출')"
   ]
  },
  {
   "cell_type": "code",
   "execution_count": 86,
   "id": "3dc73584",
   "metadata": {},
   "outputs": [
    {
     "name": "stdout",
     "output_type": "stream",
     "text": [
      "x좌표 : 2, y좌표 : 2\n",
      "x좌표 : 14, y좌표 : 7\n",
      "도형 클래스 staticmethod 호출\n"
     ]
    }
   ],
   "source": [
    "s =Shape(2,2)\n",
    "print(s)\n",
    "s.move(12,5)\n",
    "print(s)\n",
    "Shape.staticmethod_()"
   ]
  },
  {
   "cell_type": "code",
   "execution_count": 87,
   "id": "0338b829",
   "metadata": {},
   "outputs": [],
   "source": [
    "class Triangle(Shape):\n",
    "    __count = 0\n",
    "    def __init__(self, width, height, x=0, y=0):\n",
    "        Triangle._Triangle__count += 1\n",
    "        self.width = width \n",
    "        self.height = height\n",
    "        super().__init__(x,y)\n",
    "    def __del__(self):\n",
    "        Triangle._Triangle__count -= 1\n",
    "    def __str__(self):\n",
    "        return super().__str__()+ \", width : {}, height : {}, area:{}\".format(self.width,\n",
    "                                                                              self.height,\n",
    "                                                                              self.calc_area())\n",
    "    def calc_area(self):\n",
    "        return (self.width*self.height)/2\n",
    "    @classmethod\n",
    "    def get_count(cls):\n",
    "        return cls.__count"
   ]
  },
  {
   "cell_type": "code",
   "execution_count": 92,
   "id": "810c31fd",
   "metadata": {},
   "outputs": [
    {
     "name": "stdout",
     "output_type": "stream",
     "text": [
      "x좌표 : 0, y좌표 : 10, width : 4, height : 5, area:10.0\n",
      "x좌표 : 0, y좌표 : 0, width : 10, height : 20, area:100.0\n",
      "x좌표 : 5, y좌표 : 5, width : 3, height : 4, area:6.0\n",
      "Triangle 객체 갯수 : 9\n",
      "도형 클래스 staticmethod 호출\n"
     ]
    }
   ],
   "source": [
    "t =  Triangle(4,5,0,10)\n",
    "t1 = Triangle(10,20)\n",
    "t2 = Triangle(3,4,5,5)\n",
    "print(t)\n",
    "print(t1)\n",
    "print(t2)\n",
    "print('Triangle 객체 갯수 :', Triangle.get_count())\n",
    "Triangle.staticmethod_()"
   ]
  },
  {
   "cell_type": "code",
   "execution_count": 95,
   "id": "e2913a46",
   "metadata": {},
   "outputs": [
    {
     "name": "stdout",
     "output_type": "stream",
     "text": [
      "Hello\n",
      "World\n",
      "That cool\n",
      "you got a "
     ]
    }
   ],
   "source": [
    "with open('data/ch.08.txt', 'r') as f:\n",
    "    line = f.readline()\n",
    "    while line != '':\n",
    "        print(line, end='')\n",
    "        line = f.readline()"
   ]
  },
  {
   "cell_type": "code",
   "execution_count": 96,
   "id": "bb46fb31",
   "metadata": {},
   "outputs": [
    {
     "name": "stdout",
     "output_type": "stream",
     "text": [
      "['Hello\\n', 'World\\n', 'That cool\\n', 'you got a ']\n"
     ]
    }
   ],
   "source": [
    "with open('data/ch.08.txt', 'r')as f:\n",
    "    liens = f.readlines()\n",
    "    print(liens)"
   ]
  },
  {
   "cell_type": "markdown",
   "id": "e78a7f93",
   "metadata": {},
   "source": [
    "# 연습문제"
   ]
  },
  {
   "cell_type": "code",
   "execution_count": 11,
   "id": "f2555228",
   "metadata": {},
   "outputs": [
    {
     "name": "stdout",
     "output_type": "stream",
     "text": [
      "첫번째 숫자를 입력하세요.2\n",
      "두번째 숫자를 입력하세요.0\n",
      "0으로 나눌 수 없습니다.\n",
      "첫번째 숫자를 입력하세요.s\n",
      "숫자로 작성해주세요.\n",
      "첫번째 숫자를 입력하세요.5\n",
      "두번째 숫자를 입력하세요.10\n",
      "입력한 숫자는 10.0과 5.0입니다. 두수를 나눈 결과는 2.0입니다.\n"
     ]
    }
   ],
   "source": [
    "    '''ch08 실습형 연습문제 1\n",
    "    <두 수를 입력받아 나눗셈 연산을 하는 프로그램>\n",
    "    - 두 숫자는 정수 또는 실수일수 있으며, 0으로 나눌 수 없습니다.\n",
    "    - 올바른 두 수를 입력하고 나눗셈 연산 결과를 출력한 후 종료\n",
    "    '''\n",
    "while True:\n",
    "        try:\n",
    "            num1 = float(input('첫번째 숫자를 입력하세요.'))\n",
    "            num2 = float(input('두번째 숫자를 입력하세요.'))\n",
    "\n",
    "            if num1 == 0 or num2 == 0:\n",
    "                print('0으로 나눌 수 없습니다.')\n",
    "                continue\n",
    "\n",
    "            if num1 < num2: \n",
    "                num1, num2 = num2, num1\n",
    "\n",
    "            print(f'입력한 숫자는 {num1}과 {num2}입니다. 두수를 나눈 결과는 {num1/num2}입니다.')\n",
    "            break\n",
    "\n",
    "        except ValueError:\n",
    "            print('숫자로 작성해주세요.')\n",
    "        except ZeroDivisionError:\n",
    "            print('0외에 다른 숫자로 작성해주세요.')"
   ]
  },
  {
   "cell_type": "markdown",
   "id": "68178073",
   "metadata": {},
   "source": [
    "# 연습문제(고객 관리)"
   ]
  },
  {
   "cell_type": "code",
   "execution_count": null,
   "id": "015c516d",
   "metadata": {},
   "outputs": [],
   "source": [
    "    '''ch09 실습형 연습문제 1\n",
    "    파일 프로그램 시작시 'data/ch09_customers.txt'(고객 데이터 백업용)의 내용을 load(객체list)\n",
    "    파일이 없을경우 빈 파일 생성\n",
    "    1.클래스 생성\n",
    "    2.test.txt 생성\n",
    "    3.test 파일에 고객 추가  (name, phone, email, age, grade, etc를 입력받기)\n",
    "    4.입력된 고객 test파일에 추가\n",
    "    5.전체 고객 출력\n",
    "    6.고객 삭제\n",
    "    7.이름찾기\n",
    "    8.내보내기(csv)\n",
    "    9.종료 (txt 파일에 저장)\n",
    "    \n",
    "    '''"
   ]
  },
  {
   "cell_type": "markdown",
   "id": "54cc00d0",
   "metadata": {},
   "source": [
    "## 1. 클래스 만들기"
   ]
  },
  {
   "cell_type": "code",
   "execution_count": 6,
   "id": "1eeb58e2",
   "metadata": {},
   "outputs": [],
   "source": [
    "class Customer:\n",
    "    def __init__(self,name,phone,email,age,grade,etc):\n",
    "        self.name = name\n",
    "        self.phone = phone\n",
    "        self.email = email\n",
    "        self.age = age\n",
    "        self.grade = grade\n",
    "        self.etc = etc\n",
    "    def as_dic(self):   #딕셔너리로 만들기 \n",
    "        return {'name':self.name,\n",
    "                'phone':self.phone,\n",
    "                'emial':self.email,\n",
    "                'age':self.age,\n",
    "                'grade':self.grade,\n",
    "                'etc':self.etc}\n",
    "    def to_list_style(self): #리스트 스타일로 만들기\n",
    "        temp = [self.name,\n",
    "                self.phone,\n",
    "                self.email,\n",
    "                str(self.age),\n",
    "                str(self.grade),\n",
    "                self.etc]\n",
    "        return ','.join(temp)\n",
    "    def __str__(self):\n",
    "        return \"{:>5}\\t{:3}\\t{:13}\\t{:15}\\t{:3}\\t{}\".format('*'*self.grade,\n",
    "                                                                  self.name,\n",
    "                                                                  self.phone,\n",
    "                                                                  self.email,\n",
    "                                                                  self.age,\n",
    "                                                                  self.etc)"
   ]
  },
  {
   "cell_type": "code",
   "execution_count": 7,
   "id": "b656f106",
   "metadata": {},
   "outputs": [],
   "source": [
    "def to_customer(row):\n",
    "    '''\n",
    "    row = \"홍길동, 010-9999-9999, a@a.com, 30, 3, 까칠해\"(txt파일 내용)을 매개변수로 받아\n",
    "    Customer 객체로 return \n",
    "    '''\n",
    "    data = row.split(',')\n",
    "    name = data[0]\n",
    "    phone = data[1].strip()\n",
    "    email = data[2].strip()\n",
    "    age = int(data[3].strip())\n",
    "    grade = int(data[4].strip())\n",
    "    etc = data[5].strip()\n",
    "    return Customer(name,phone,email,age,grade,etc)"
   ]
  },
  {
   "cell_type": "code",
   "execution_count": 8,
   "id": "b248c980",
   "metadata": {},
   "outputs": [
    {
     "name": "stdout",
     "output_type": "stream",
     "text": [
      "  ***\t홍길동\t0101-9999-9999\ta@a.com        \t 30\t까칠해\n",
      "as_dict() = {'name': '홍길동', 'phone': '0101-9999-9999', 'emial': 'a@a.com', 'age': 30, 'grade': 3, 'etc': '까칠해'}\n",
      "to_list_style() = 홍길동,0101-9999-9999,a@a.com,30,3,까칠해\n",
      " ****\t홍길동\t010-9999-9999\tb@b.com        \t 30\t예민해\n"
     ]
    }
   ],
   "source": [
    "c1 = Customer('홍길동','0101-9999-9999','a@a.com',30,3,'까칠해')\n",
    "print(c1)\n",
    "\n",
    "print('as_dict() =', c1.as_dic())\n",
    "print('to_list_style() =', c1.to_list_style())\n",
    "\n",
    "c2 = to_customer('홍길동,010-9999-9999,b@b.com,30,4,예민해')\n",
    "print(c2)"
   ]
  },
  {
   "cell_type": "markdown",
   "id": "63061a22",
   "metadata": {},
   "source": [
    "## 2. 세부 기능"
   ]
  },
  {
   "cell_type": "markdown",
   "id": "eb6d0eff",
   "metadata": {},
   "source": [
    "### 1) 처음 실행시 호출\n",
    "ch09_customers.txt(백업데이터) 에서 customer_list return\\\n",
    "파일이 없으면 빈 파일 생성,customer_list = [ ] return"
   ]
  },
  {
   "cell_type": "code",
   "execution_count": 14,
   "id": "57a6c682",
   "metadata": {},
   "outputs": [],
   "source": [
    "def load_customer():\n",
    "    customer_list = []\n",
    "    try:\n",
    "        with open('data/ch09_customers.txt', 'r', encoding='utf-8')as f:\n",
    "            lines = f.readlines()\n",
    "            for line in lines:\n",
    "                customer = to_customer()\n",
    "                customer_list.append(customer)        \n",
    "    except:\n",
    "        with open('data/ch09_customers.txt', 'w', encoding='utf-8')as f:\n",
    "            print('초기화 파일을 생성했습니다.')\n",
    "    return customer_list"
   ]
  },
  {
   "cell_type": "code",
   "execution_count": 15,
   "id": "54a0acd5",
   "metadata": {},
   "outputs": [
    {
     "name": "stdout",
     "output_type": "stream",
     "text": [
      "홍길동, 010-9999-2222, a@a.com, 29, 4, 예민이신길동, 010-4829-9301, b@b.com, 23, 2, 까칠이함길동, 010-4039-3827, a@a.com, 42, 3, 없음유길동, 010-2948-9428, c@c.com, 32, 5, 없음인길동, 010-2932-3971, d@d.com, 31, 1, 중독\n"
     ]
    }
   ],
   "source": [
    "with open('data/ch09_customers.txt', 'r', encoding='utf-8')as f:\n",
    "    lines = f.read()\n",
    "    print(lines)"
   ]
  },
  {
   "cell_type": "code",
   "execution_count": 12,
   "id": "5c0d086f",
   "metadata": {},
   "outputs": [
    {
     "name": "stdout",
     "output_type": "stream",
     "text": [
      "초기화 파일을 생성했습니다.\n"
     ]
    }
   ],
   "source": [
    "customer_list = load_customer()\n",
    "for customer in customer_list:\n",
    "    print(customer)"
   ]
  },
  {
   "cell_type": "code",
   "execution_count": 16,
   "id": "a601a1bc",
   "metadata": {},
   "outputs": [
    {
     "ename": "TypeError",
     "evalue": "'end' is an invalid keyword argument for open()",
     "output_type": "error",
     "traceback": [
      "\u001b[1;31m---------------------------------------------------------------------------\u001b[0m",
      "\u001b[1;31mTypeError\u001b[0m                                 Traceback (most recent call last)",
      "Cell \u001b[1;32mIn[16], line 9\u001b[0m\n\u001b[0;32m      1\u001b[0m smtext \u001b[38;5;241m=\u001b[39m [\u001b[38;5;124m'\u001b[39m\u001b[38;5;124m홍길동, 010-9999-2222, a@a.com, 29, 4, 예민이\u001b[39m\u001b[38;5;124m'\u001b[39m,\n\u001b[0;32m      2\u001b[0m           \u001b[38;5;124m'\u001b[39m\u001b[38;5;124m신길동, 010-4829-9301, b@b.com, 23, 2, 까칠이\u001b[39m\u001b[38;5;124m'\u001b[39m,\n\u001b[0;32m      3\u001b[0m           \u001b[38;5;124m'\u001b[39m\u001b[38;5;124m함길동, 010-4039-3827, a@a.com, 42, 3, 없음\u001b[39m\u001b[38;5;124m'\u001b[39m,\n\u001b[0;32m      4\u001b[0m           \u001b[38;5;124m'\u001b[39m\u001b[38;5;124m유길동, 010-2948-9428, c@c.com, 32, 5, 없음\u001b[39m\u001b[38;5;124m'\u001b[39m,\n\u001b[0;32m      5\u001b[0m           \u001b[38;5;124m'\u001b[39m\u001b[38;5;124m인길동, 010-2932-3971, d@d.com, 31, 1, 중독\u001b[39m\u001b[38;5;124m'\u001b[39m]\n\u001b[0;32m      7\u001b[0m \u001b[38;5;66;03m# '홍길동','0101-9999-9999','a@a.com',30,3,'까칠해'\u001b[39;00m\n\u001b[1;32m----> 9\u001b[0m \u001b[38;5;28;01mwith\u001b[39;00m \u001b[38;5;28;43mopen\u001b[39;49m\u001b[43m(\u001b[49m\u001b[38;5;124;43m'\u001b[39;49m\u001b[38;5;124;43mdata/ch09_customers.txt\u001b[39;49m\u001b[38;5;124;43m'\u001b[39;49m\u001b[43m,\u001b[49m\u001b[43m \u001b[49m\u001b[38;5;124;43m'\u001b[39;49m\u001b[38;5;124;43mw\u001b[39;49m\u001b[38;5;124;43m'\u001b[39;49m\u001b[43m,\u001b[49m\u001b[43m \u001b[49m\u001b[43mencoding\u001b[49m\u001b[38;5;241;43m=\u001b[39;49m\u001b[38;5;124;43m'\u001b[39;49m\u001b[38;5;124;43mutf-8\u001b[39;49m\u001b[38;5;124;43m'\u001b[39;49m\u001b[43m,\u001b[49m\u001b[43m \u001b[49m\u001b[43mend\u001b[49m\u001b[38;5;241;43m=\u001b[39;49m\u001b[38;5;124;43m'\u001b[39;49m\u001b[38;5;130;43;01m\\n\u001b[39;49;00m\u001b[38;5;124;43m'\u001b[39;49m\u001b[43m)\u001b[49m\u001b[38;5;28;01mas\u001b[39;00m f:\n\u001b[0;32m     10\u001b[0m     f\u001b[38;5;241m.\u001b[39mwritelines(smtext)\n",
      "File \u001b[1;32m~\\anaconda3\\lib\\site-packages\\IPython\\core\\interactiveshell.py:282\u001b[0m, in \u001b[0;36m_modified_open\u001b[1;34m(file, *args, **kwargs)\u001b[0m\n\u001b[0;32m    275\u001b[0m \u001b[38;5;28;01mif\u001b[39;00m file \u001b[38;5;129;01min\u001b[39;00m {\u001b[38;5;241m0\u001b[39m, \u001b[38;5;241m1\u001b[39m, \u001b[38;5;241m2\u001b[39m}:\n\u001b[0;32m    276\u001b[0m     \u001b[38;5;28;01mraise\u001b[39;00m \u001b[38;5;167;01mValueError\u001b[39;00m(\n\u001b[0;32m    277\u001b[0m         \u001b[38;5;124mf\u001b[39m\u001b[38;5;124m\"\u001b[39m\u001b[38;5;124mIPython won\u001b[39m\u001b[38;5;124m'\u001b[39m\u001b[38;5;124mt let you open fd=\u001b[39m\u001b[38;5;132;01m{\u001b[39;00mfile\u001b[38;5;132;01m}\u001b[39;00m\u001b[38;5;124m by default \u001b[39m\u001b[38;5;124m\"\u001b[39m\n\u001b[0;32m    278\u001b[0m         \u001b[38;5;124m\"\u001b[39m\u001b[38;5;124mas it is likely to crash IPython. If you know what you are doing, \u001b[39m\u001b[38;5;124m\"\u001b[39m\n\u001b[0;32m    279\u001b[0m         \u001b[38;5;124m\"\u001b[39m\u001b[38;5;124myou can use builtins\u001b[39m\u001b[38;5;124m'\u001b[39m\u001b[38;5;124m open.\u001b[39m\u001b[38;5;124m\"\u001b[39m\n\u001b[0;32m    280\u001b[0m     )\n\u001b[1;32m--> 282\u001b[0m \u001b[38;5;28;01mreturn\u001b[39;00m io_open(file, \u001b[38;5;241m*\u001b[39margs, \u001b[38;5;241m*\u001b[39m\u001b[38;5;241m*\u001b[39mkwargs)\n",
      "\u001b[1;31mTypeError\u001b[0m: 'end' is an invalid keyword argument for open()"
     ]
    }
   ],
   "source": [
    "smtext = ['홍길동, 010-9999-2222, a@a.com, 29, 4, 예민이',\n",
    "          '신길동, 010-4829-9301, b@b.com, 23, 2, 까칠이',\n",
    "          '함길동, 010-4039-3827, a@a.com, 42, 3, 없음',\n",
    "          '유길동, 010-2948-9428, c@c.com, 32, 5, 없음',\n",
    "          '인길동, 010-2932-3971, d@d.com, 31, 1, 중독']\n",
    "\n",
    "# '홍길동','0101-9999-9999','a@a.com',30,3,'까칠해'\n",
    "\n",
    "with open('data/ch09_customers.txt', 'w', encoding='utf-8', end='\\n')as f:\n",
    "    f.writelines(smtext)"
   ]
  },
  {
   "cell_type": "code",
   "execution_count": null,
   "id": "4d7ce73d",
   "metadata": {},
   "outputs": [],
   "source": []
  }
 ],
 "metadata": {
  "kernelspec": {
   "display_name": "Python 3 (ipykernel)",
   "language": "python",
   "name": "python3"
  },
  "language_info": {
   "codemirror_mode": {
    "name": "ipython",
    "version": 3
   },
   "file_extension": ".py",
   "mimetype": "text/x-python",
   "name": "python",
   "nbconvert_exporter": "python",
   "pygments_lexer": "ipython3",
   "version": "3.10.9"
  },
  "toc": {
   "base_numbering": 1,
   "nav_menu": {},
   "number_sections": false,
   "sideBar": true,
   "skip_h1_title": false,
   "title_cell": "Table of Contents",
   "title_sidebar": "Contents",
   "toc_cell": false,
   "toc_position": {
    "height": "calc(100% - 180px)",
    "left": "10px",
    "top": "150px",
    "width": "204.4px"
   },
   "toc_section_display": true,
   "toc_window_display": true
  }
 },
 "nbformat": 4,
 "nbformat_minor": 5
}
