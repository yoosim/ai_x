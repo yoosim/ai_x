{
 "cells": [
  {
   "cell_type": "code",
   "execution_count": 1,
   "id": "5c85d36a",
   "metadata": {},
   "outputs": [
    {
     "data": {
      "text/html": [
       "\n",
       "<style>\n",
       "div.container{width:86% !important;}\n",
       "div.cell.code_cell.rendered{width:100%;}\n",
       "div.CodeMirror {font-family:Consolas; font-size:15pt;}\n",
       "div.output {font-size:15pt; font-weight:bold;}\n",
       "div.input {font-family:Consolas; font-size:15pt;}\n",
       "div.prompt {min-width:70px;}\n",
       "div#toc-wrapper{padding-top:120px;}\n",
       "div.text_cell_render ul li{font-size:12pt;padding:5px;}\n",
       "table.dataframe{font-size:15px;}\n",
       "</style>\n",
       " "
      ],
      "text/plain": [
       "<IPython.core.display.HTML object>"
      ]
     },
     "metadata": {},
     "output_type": "display_data"
    }
   ],
   "source": [
    "from IPython.display import display, HTML \n",
    "display(HTML(\"\"\"\n",
    "<style>\n",
    "div.container{width:86% !important;}\n",
    "div.cell.code_cell.rendered{width:100%;}\n",
    "div.CodeMirror {font-family:Consolas; font-size:15pt;}\n",
    "div.output {font-size:15pt; font-weight:bold;}\n",
    "div.input {font-family:Consolas; font-size:15pt;}\n",
    "div.prompt {min-width:70px;}\n",
    "div#toc-wrapper{padding-top:120px;}\n",
    "div.text_cell_render ul li{font-size:12pt;padding:5px;}\n",
    "table.dataframe{font-size:15px;}\n",
    "</style>\n",
    " \"\"\"))"
   ]
  },
  {
   "cell_type": "markdown",
   "id": "d32c1e06",
   "metadata": {},
   "source": [
    "<font size=\"6\" color=\"GREEN\">CH.02 자료형과 연산자</font>\n",
    "# 1절 변수\n",
    "- 파이썬은 변수선언을 위한 과정이 없음. 할당과 동시에 타입이 지정되고 값이 할당됨\n",
    "\n",
    "## 1.1 변수 할당\n",
    "- 할당연산자(=)를 이용해서 값을 할당하면 타입이 세팅\n",
    "- 파이썬에서의 모든 변수는 객체로 저장"
   ]
  },
  {
   "cell_type": "code",
   "execution_count": 3,
   "id": "d4317a8d",
   "metadata": {},
   "outputs": [
    {
     "name": "stdout",
     "output_type": "stream",
     "text": [
      "계산된 넓이는 78.5\n"
     ]
    }
   ],
   "source": [
    "r = 5\n",
    "area = 3.14 * r * r\n",
    "print(\"계산된 넓이는\",area)"
   ]
  },
  {
   "cell_type": "code",
   "execution_count": 5,
   "id": "e4dd718d",
   "metadata": {},
   "outputs": [
    {
     "name": "stdout",
     "output_type": "stream",
     "text": [
      "area = 78.53981633974483\n"
     ]
    }
   ],
   "source": [
    "import numpy as np\n",
    "area = np.pi * r * r\n",
    "print('area =', area)"
   ]
  },
  {
   "cell_type": "code",
   "execution_count": 6,
   "id": "babb3acd",
   "metadata": {},
   "outputs": [
    {
     "data": {
      "text/plain": [
       "False"
      ]
     },
     "execution_count": 6,
     "metadata": {},
     "output_type": "execute_result"
    }
   ],
   "source": [
    "area.is_integer() # area가 integer인지 여부를 반환 "
   ]
  },
  {
   "cell_type": "code",
   "execution_count": 16,
   "id": "cec2ea85",
   "metadata": {},
   "outputs": [
    {
     "name": "stdout",
     "output_type": "stream",
     "text": [
      "area의 주소 : 2712859191280\n",
      "area의 타입 : <class 'str'>\n"
     ]
    }
   ],
   "source": [
    "print('area의 주소 :',id(area)) #id(area) : area 변수의 주소값\n",
    "print('area의 타입 :', type(area))"
   ]
  },
  {
   "cell_type": "code",
   "execution_count": 17,
   "id": "04fb395d",
   "metadata": {},
   "outputs": [
    {
     "name": "stdout",
     "output_type": "stream",
     "text": [
      "area의 주소 : 2712835703376\n",
      "area의 타입 : <class 'float'>\n"
     ]
    }
   ],
   "source": [
    "area = 5.5\n",
    "print('area의 주소 :',id(area)) #id(area) : area 변수의 주소값\n",
    "print('area의 타입 :', type(area))"
   ]
  },
  {
   "cell_type": "code",
   "execution_count": 18,
   "id": "11cf62eb",
   "metadata": {},
   "outputs": [
    {
     "name": "stdout",
     "output_type": "stream",
     "text": [
      "area의 주소 : 2712756748816\n",
      "area의 타입 : <class 'int'>\n"
     ]
    }
   ],
   "source": [
    "area = 10 \n",
    "print('area의 주소 :',id(area)) #id(area) : area 변수의 주소값\n",
    "print('area의 타입 :', type(area))"
   ]
  },
  {
   "cell_type": "code",
   "execution_count": 19,
   "id": "418e7781",
   "metadata": {},
   "outputs": [
    {
     "name": "stdout",
     "output_type": "stream",
     "text": [
      "area의 주소 : 2712831418864\n",
      "area의 타입 : <class 'str'>\n"
     ]
    }
   ],
   "source": [
    "area = \"파이썬\"\n",
    "print('area의 주소 :',id(area)) #id(area) : area 변수의 주소값\n",
    "print('area의 타입 :', type(area))"
   ]
  },
  {
   "cell_type": "markdown",
   "id": "7fbfd8a8",
   "metadata": {},
   "source": [
    "## 1.2변수 이름 규칙\n",
    "- 문자로 시작 (숫자로 시작 불가)\n",
    "- 문자, 숫자, _(언더바)로 변수명 작성 (- 다시 / .점 / ,쉼표 불가)\n",
    "- 함수명은 변수이름으로 가능하나 피한다. 만약에 써야한다면 int_식으로 _(언더바)를 이용\n",
    "- 파이썬 예약어(for,..)는 변수이름 사용 불가\n",
    "- 한글변수는 꼭 필요시에만 이용\n",
    "- 대문자로 시작한 변수, 함수명의 변수는 강력비추 (ex. Print =10)\n"
   ]
  },
  {
   "cell_type": "code",
   "execution_count": 21,
   "id": "a798cf77",
   "metadata": {},
   "outputs": [
    {
     "name": "stdout",
     "output_type": "stream",
     "text": [
      "홍길동\n"
     ]
    }
   ],
   "source": [
    "이름 = \"홍길동\"\n",
    "print(이름)"
   ]
  },
  {
   "cell_type": "code",
   "execution_count": 22,
   "id": "eecf1b7d",
   "metadata": {},
   "outputs": [
    {
     "data": {
      "text/plain": [
       "'홍길동'"
      ]
     },
     "execution_count": 22,
     "metadata": {},
     "output_type": "execute_result"
    }
   ],
   "source": [
    "이름"
   ]
  },
  {
   "cell_type": "code",
   "execution_count": 25,
   "id": "ddcc44ba",
   "metadata": {},
   "outputs": [],
   "source": [
    "# memver.name = \"홍길동\"\n",
    "member_name = \"홍길동\"\n",
    "memberName = \"홍길동\""
   ]
  },
  {
   "cell_type": "code",
   "execution_count": 27,
   "id": "aa847276",
   "metadata": {},
   "outputs": [
    {
     "name": "stdout",
     "output_type": "stream",
     "text": [
      "10\n"
     ]
    }
   ],
   "source": [
    "Print = 10 # 대문자로 시작한 변수, 함수명의 변수는 강력비추 \n",
    "print(Print)"
   ]
  },
  {
   "cell_type": "code",
   "execution_count": 28,
   "id": "641dfffe",
   "metadata": {},
   "outputs": [
    {
     "data": {
      "text/plain": [
       "complex"
      ]
     },
     "execution_count": 28,
     "metadata": {},
     "output_type": "execute_result"
    }
   ],
   "source": [
    "# 파이썬에서의 숫자 : 정수(소수점이 없는), 실수(소수점이 있는), 복소수\n",
    "i = 3 + 3j #복소수\n",
    "type(i)"
   ]
  },
  {
   "cell_type": "code",
   "execution_count": 30,
   "id": "0e2faadc",
   "metadata": {},
   "outputs": [
    {
     "data": {
      "text/plain": [
       "True"
      ]
     },
     "execution_count": 30,
     "metadata": {},
     "output_type": "execute_result"
    }
   ],
   "source": [
    "isinstance(i, complex) # i변수(객체)가 complex인지 여부 / complex는 복소수를 뜻함"
   ]
  },
  {
   "cell_type": "markdown",
   "id": "c480b890",
   "metadata": {},
   "source": [
    "## 1.3 도움말"
   ]
  },
  {
   "cell_type": "code",
   "execution_count": 31,
   "id": "48f38c6d",
   "metadata": {},
   "outputs": [
    {
     "name": "stdout",
     "output_type": "stream",
     "text": [
      "Help on built-in function print in module builtins:\n",
      "\n",
      "print(...)\n",
      "    print(value, ..., sep=' ', end='\\n', file=sys.stdout, flush=False)\n",
      "    \n",
      "    Prints the values to a stream, or to sys.stdout by default.\n",
      "    Optional keyword arguments:\n",
      "    file:  a file-like object (stream); defaults to the current sys.stdout.\n",
      "    sep:   string inserted between values, default a space.\n",
      "    end:   string appended after the last value, default a newline.\n",
      "    flush: whether to forcibly flush the stream.\n",
      "\n"
     ]
    }
   ],
   "source": [
    "help(print)"
   ]
  },
  {
   "cell_type": "code",
   "execution_count": 34,
   "id": "646245ee",
   "metadata": {
    "collapsed": true
   },
   "outputs": [
    {
     "name": "stdout",
     "output_type": "stream",
     "text": [
      "\n",
      "Welcome to Python 3.10's help utility!\n",
      "\n",
      "If this is your first time using Python, you should definitely check out\n",
      "the tutorial on the internet at https://docs.python.org/3.10/tutorial/.\n",
      "\n",
      "Enter the name of any module, keyword, or topic to get help on writing\n",
      "Python programs and using Python modules.  To quit this help utility and\n",
      "return to the interpreter, just type \"quit\".\n",
      "\n",
      "To get a list of available modules, keywords, symbols, or topics, type\n",
      "\"modules\", \"keywords\", \"symbols\", or \"topics\".  Each module also comes\n",
      "with a one-line summary of what it does; to list the modules whose name\n",
      "or summary contain a given string such as \"spam\", type \"modules spam\".\n",
      "\n",
      "help> Q\n",
      "\n",
      "You are now leaving help and returning to the Python interpreter.\n",
      "If you want to ask for help on a particular object directly from the\n",
      "interpreter, you can type \"help(object)\".  Executing \"help('string')\"\n",
      "has the same effect as typing a particular string at the help> prompt.\n"
     ]
    }
   ],
   "source": [
    "help() # help를 빠져나오려면 q입력 ESC+O : 결과 접기 / 펴기 "
   ]
  },
  {
   "cell_type": "code",
   "execution_count": 36,
   "id": "eab35ebf",
   "metadata": {},
   "outputs": [],
   "source": [
    "# 도움말 기능 : shift+tab키 tqb키 두번누르면 더 길게 나옴\n",
    "print()"
   ]
  },
  {
   "cell_type": "code",
   "execution_count": 47,
   "id": "d89c0998",
   "metadata": {},
   "outputs": [],
   "source": [
    "def add(x, y=0):\n",
    "    '''\n",
    "    매개변수 2개를 받아 두자리 숫자로 만들어요\n",
    "    x = 10의 자리수가 됨\n",
    "    y = 1의 자리수가 됨\n",
    "    사용법 : add(2, 3) => 23\n",
    "    '''\n",
    "    return x*10 + y"
   ]
  },
  {
   "cell_type": "code",
   "execution_count": 48,
   "id": "cd43fc80",
   "metadata": {},
   "outputs": [
    {
     "data": {
      "text/plain": [
       "20"
      ]
     },
     "execution_count": 48,
     "metadata": {},
     "output_type": "execute_result"
    }
   ],
   "source": [
    "add(2) "
   ]
  },
  {
   "cell_type": "code",
   "execution_count": 49,
   "id": "d85ad6d6",
   "metadata": {},
   "outputs": [
    {
     "data": {
      "text/plain": [
       "23"
      ]
     },
     "execution_count": 49,
     "metadata": {},
     "output_type": "execute_result"
    }
   ],
   "source": [
    "a = add \n",
    "a(2,3) #변수에 텍스트는 \"\"에 작성"
   ]
  },
  {
   "cell_type": "markdown",
   "id": "ce70728b",
   "metadata": {},
   "source": [
    "## 1.4 다중 변수 할당\n"
   ]
  },
  {
   "cell_type": "code",
   "execution_count": null,
   "id": "03e30b22",
   "metadata": {},
   "outputs": [],
   "source": [
    "a = 10\n",
    "b = 20"
   ]
  },
  {
   "cell_type": "code",
   "execution_count": 50,
   "id": "2ddc16d2",
   "metadata": {},
   "outputs": [
    {
     "name": "stdout",
     "output_type": "stream",
     "text": [
      "10 20\n"
     ]
    }
   ],
   "source": [
    "a, b = 10, 20\n",
    "print(a, b)"
   ]
  },
  {
   "cell_type": "code",
   "execution_count": 51,
   "id": "42f1ec3e",
   "metadata": {},
   "outputs": [
    {
     "name": "stdout",
     "output_type": "stream",
     "text": [
      "20 30\n"
     ]
    }
   ],
   "source": [
    "# 다중 변수 할당시 순차적 할당이 아니고, 일괄 동시 할당\n",
    "a, b = b, a+b\n",
    "print(a, b)"
   ]
  },
  {
   "cell_type": "markdown",
   "id": "dfdb0451",
   "metadata": {},
   "source": [
    "# 2절. 화면입출력(i/o)\n"
   ]
  },
  {
   "cell_type": "code",
   "execution_count": 71,
   "id": "b4940917",
   "metadata": {},
   "outputs": [
    {
     "name": "stdout",
     "output_type": "stream",
     "text": [
      "첫번째 숫자는?2\n"
     ]
    },
    {
     "data": {
      "text/plain": [
       "'2'"
      ]
     },
     "execution_count": 71,
     "metadata": {},
     "output_type": "execute_result"
    }
   ],
   "source": [
    "# input() : 사용자로부터 값을 입력받기 위한 함수. 문자열로 입력  input은 숫자를 안 받고 텍스트로만 받음\n",
    "# int는 인테전(정수)를 뜻함      \n",
    "\n",
    "first = input(\"첫번째 숫자는?\")\n",
    "first"
   ]
  },
  {
   "cell_type": "code",
   "execution_count": 59,
   "id": "872f1372",
   "metadata": {},
   "outputs": [
    {
     "name": "stdout",
     "output_type": "stream",
     "text": [
      "두번째 숫자는? 2\n"
     ]
    }
   ],
   "source": [
    "second = input(\"두번째 숫자는?\")"
   ]
  },
  {
   "cell_type": "code",
   "execution_count": 69,
   "id": "8c264e3a",
   "metadata": {},
   "outputs": [
    {
     "name": "stdout",
     "output_type": "stream",
     "text": [
      "합: 4\n"
     ]
    }
   ],
   "source": [
    "sum = int(first) + int(second)\n",
    "print('합:', sum)"
   ]
  },
  {
   "cell_type": "code",
   "execution_count": 72,
   "id": "d0a2a50a",
   "metadata": {},
   "outputs": [
    {
     "name": "stdout",
     "output_type": "stream",
     "text": [
      "첫번째 수는?5\n",
      "두번째 수는?9\n",
      "합 14\n"
     ]
    }
   ],
   "source": [
    "first = int(input('첫번째 수는?'))\n",
    "second = int(input('두번째 수는?'))\n",
    "sum = first + second\n",
    "print('합', sum)"
   ]
  },
  {
   "cell_type": "code",
   "execution_count": 83,
   "id": "4b3740cc",
   "metadata": {},
   "outputs": [
    {
     "name": "stdout",
     "output_type": "stream",
     "text": [
      "합=14\n",
      "합..14합은14합~14"
     ]
    }
   ],
   "source": [
    "print('합', sum, sep='=', end= '\\n')\n",
    "print('합', sum, sep='..', end= '')\n",
    "print('합', sum, sep='은', end= '')\n",
    "print('합', sum, sep='~', end= '')"
   ]
  },
  {
   "cell_type": "code",
   "execution_count": 85,
   "id": "3a399fee",
   "metadata": {},
   "outputs": [
    {
     "name": "stdout",
     "output_type": "stream",
     "text": [
      "hello,world\n"
     ]
    }
   ],
   "source": [
    "import sys\n",
    "print('hello', 'world', sep=\",\", file=sys.stdout)"
   ]
  },
  {
   "cell_type": "markdown",
   "id": "997b920a",
   "metadata": {},
   "source": [
    "# 3절. 기본 자료형\n",
    "- 자료형에 따라 값의 크기와 저장방식이 달라짐\n",
    "    - 숫자 : int, float, complex\n",
    "    - 문자 : str\n",
    "    - 논리 : bool (오직 True / False 만 나타남)  \n",
    "    \n",
    " ## 3.1 숫자형"
   ]
  },
  {
   "cell_type": "code",
   "execution_count": 87,
   "id": "b3637e82",
   "metadata": {},
   "outputs": [
    {
     "data": {
      "text/plain": [
       "9223372036854775807"
      ]
     },
     "execution_count": 87,
     "metadata": {},
     "output_type": "execute_result"
    }
   ],
   "source": [
    "import sys\n",
    "sys.maxsize #정수의 최대값 2**63-1 (2의 63승 -1)"
   ]
  },
  {
   "cell_type": "code",
   "execution_count": 89,
   "id": "87f9cb6f",
   "metadata": {},
   "outputs": [
    {
     "name": "stdout",
     "output_type": "stream",
     "text": [
      "9223372036854776807\n",
      "<class 'int'>\n"
     ]
    }
   ],
   "source": [
    "i = sys.maxsize + 1000\n",
    "print(i)\n",
    "print(type(i))"
   ]
  },
  {
   "cell_type": "code",
   "execution_count": 93,
   "id": "5cc459e1",
   "metadata": {},
   "outputs": [
    {
     "data": {
      "text/plain": [
       "2.0"
      ]
     },
     "execution_count": 93,
     "metadata": {},
     "output_type": "execute_result"
    }
   ],
   "source": [
    "f = 4/2  #정수/정수는 무조건 실수값으로 나타남\n",
    "f"
   ]
  },
  {
   "cell_type": "code",
   "execution_count": 96,
   "id": "ae72dd63",
   "metadata": {},
   "outputs": [
    {
     "name": "stdout",
     "output_type": "stream",
     "text": [
      "2\n",
      "2\n"
     ]
    }
   ],
   "source": [
    "# 자바처럼 정수/정수의 결과를 정수로 만들기는\n",
    "f = 4//2 #몫연산자\n",
    "print(f) \n",
    "f = int(4/2)\n",
    "print(f)"
   ]
  },
  {
   "cell_type": "code",
   "execution_count": 95,
   "id": "fabc193d",
   "metadata": {},
   "outputs": [
    {
     "data": {
      "text/plain": [
       "1"
      ]
     },
     "execution_count": 95,
     "metadata": {},
     "output_type": "execute_result"
    }
   ],
   "source": [
    "f = 3//2 #몫연산자\n",
    "f"
   ]
  },
  {
   "cell_type": "code",
   "execution_count": 98,
   "id": "b07ba715",
   "metadata": {},
   "outputs": [
    {
     "name": "stdout",
     "output_type": "stream",
     "text": [
      "(-1+0j)\n"
     ]
    }
   ],
   "source": [
    "c = 1j #수학시간의 0+1i\n",
    "print(c**2) # **승연산자(제곱)"
   ]
  },
  {
   "cell_type": "code",
   "execution_count": 100,
   "id": "3741f965",
   "metadata": {},
   "outputs": [
    {
     "name": "stdout",
     "output_type": "stream",
     "text": [
      "지수형 표현할당시 실수형으로 저장 : 1120000000000.0\n",
      "지수형 표현할당시 실수형으로 저장 : 1.12e-12\n"
     ]
    }
   ],
   "source": [
    "f = 1.12e12 # 1.12의 10의 12승 1120000000000 / 해당 문법은 지수형 표현\n",
    "print('지수형 표현할당시 실수형으로 저장 :', f)\n",
    "f = 1.12e-12 # 0000000000112\n",
    "print('지수형 표현할당시 실수형으로 저장 :',f)"
   ]
  },
  {
   "cell_type": "markdown",
   "id": "4417b734",
   "metadata": {},
   "source": [
    "##  3.2문자형\n",
    "쌍따옴표 (\"-\")나 홑따옴표('-')이용"
   ]
  },
  {
   "cell_type": "code",
   "execution_count": 113,
   "id": "81984fa2",
   "metadata": {},
   "outputs": [
    {
     "name": "stdout",
     "output_type": "stream",
     "text": [
      "홍길동\"짱\" 서울시 관악구 '신림동'\n"
     ]
    }
   ],
   "source": [
    "name = \"홍길동\\\"짱\\\"\" #홍길동 \"짱\"\n",
    "name = '홍길동\"짱\"'\n",
    "address =  \"서울시 관악구 '신림동'\" #서울시 관악구 '신림동' *문자안에 ''이 있으면 \"\"로 감싸기\n",
    "print (name, address)"
   ]
  },
  {
   "cell_type": "code",
   "execution_count": 118,
   "id": "9527bacb",
   "metadata": {},
   "outputs": [
    {
     "name": "stdout",
     "output_type": "stream",
     "text": [
      " 안녕하세요. 여러줄짜리 내용 \n",
      "줄바꿈문자를 쓰지 않고 따옴표 3개로 처리 \n",
      "이처럼 쓰는 경우가 아주 많아용\n"
     ]
    }
   ],
   "source": [
    "# 문자형 변수 여러줄 \n",
    "text = ''' 안녕하세요. 여러줄짜리 내용 \n",
    "줄바꿈문자를 쓰지 않고 따옴표 3개로 처리 \n",
    "이처럼 쓰는 경우가 아주 많아용'''\n",
    "print(text)"
   ]
  },
  {
   "cell_type": "markdown",
   "id": "53ffd68c",
   "metadata": {},
   "source": [
    "### ※문자열 연산 "
   ]
  },
  {
   "cell_type": "code",
   "execution_count": 123,
   "id": "3fbd08d8",
   "metadata": {},
   "outputs": [
    {
     "name": "stdout",
     "output_type": "stream",
     "text": [
      "홍길동김동해\n"
     ]
    }
   ],
   "source": [
    "'''\n",
    " 여러줄 주석 용도\n",
    " 2025.04.08. 문자열 연산 소스 by 아무개\n",
    "'''\n",
    "\n",
    "name1 = \"홍길동\"\n",
    "name2 = \"김동해\"\n",
    "print (name1 + name2)"
   ]
  },
  {
   "cell_type": "code",
   "execution_count": 125,
   "id": "239f66d5",
   "metadata": {},
   "outputs": [
    {
     "name": "stdout",
     "output_type": "stream",
     "text": [
      "홍길동홍길동홍길동\n"
     ]
    }
   ],
   "source": [
    "print(name1 *3) #*(곱하기)는 문자열 반복"
   ]
  },
  {
   "cell_type": "markdown",
   "id": "62035489",
   "metadata": {},
   "source": [
    "### ※raw 데이터\n",
    "- 용도 : 정규표현식 이용, 디렉토리 경로 표현식 이용"
   ]
  },
  {
   "cell_type": "code",
   "execution_count": 3,
   "id": "f2b1d9d5",
   "metadata": {},
   "outputs": [
    {
     "name": "stdout",
     "output_type": "stream",
     "text": [
      "Hello\\nWorld\n",
      "Hello\\nWorld\n"
     ]
    }
   ],
   "source": [
    "print(r'Hello\\nWorld') #r을 붙이면 문자로 해석  / 정규표현식에서는 r을 많이 씀\n",
    "print('Hello\\\\nWorld')"
   ]
  },
  {
   "cell_type": "markdown",
   "id": "626f125f",
   "metadata": {},
   "source": [
    "정규표현식\n",
    "``` (탭위에키 esc와 탭 사이 - 필드 설정) / (마크업 셀에서 백틱은 블록을 만들 때 사용)\n",
    "1. 참조 : 위키백과\n",
    "2. 간략한 문법 : \n",
    "    \\d (숫자와 매치, [0-9]와 동일\n",
    "    \\D (숫자가 아닌것)\n",
    "    \\w (영문자나 숫자, [a-zA-Z0-9]\n",
    "    \\W (영문자나 숫자가 아닌 문자) \n",
    "    . (문자 하나를 뜻함)\n",
    "    \\.(.의미) ※여기에서 역슬래시는 해석하는것\n",
    "    \\-(-의미) \n",
    "    {2, 3} (2~3번 반복) ※반드시 앞에 숫자가 작아야 함.\n",
    "    {4}    (4번 반복)\n",
    "    {2,}   (2번 이상 반복)\n",
    "    +      (1번 이상 반복)\n",
    "    *      (0번 이상 반복)\n",
    "    ?      (0번 이나 1번 반복)\n",
    "    \n",
    "3. 정규표현식 연습장(https://regexr.com/)\n",
    "[0-9] {2,3} = \\d{2,3} (숫자 2번이나 3번) \n",
    "\\d{2,3}-\\d{3,4}-\\d{4} : 전화번호 정규표현식\n",
    "    ex1. 전화번호 : 010-9999-9999 02-7777-7777 01099998888 0257412341 \n",
    "                    02)111-2222 010 2222 2333 010.2222.3333\n",
    "                    \n",
    "                    *성미가 한 소스\n",
    "                    \\w{2,3}[\\)\\- ?\\.]\\w{3,4}[- ?\\.]\\w{4} = 연속된 번호 제외하고 모두(7개) 추출\n",
    "                    \\w{10,11} = -./등 없이 연속된 번호만 따로 추출 \n",
    "                    \n",
    "                    *선생님이 한 소스 \n",
    "                    [0-9]{2,}[\\-) .]?[0-9]{3,4}[[\\- .]?[0-9]{4}\n",
    "                    \\w{3,}@[a-zA-Z0-9가-힣]+(\\.[a-zA-Z]+){1,2}\n",
    "                    \n",
    "    ex2. 이메일 : abc12@naver.com / abc123@0t7.co.kr / abc@한국.com / a_b_c@gmail.com /  abc@한국-com\n",
    "4.소스 구현 \n",
    "\n",
    "```"
   ]
  },
  {
   "cell_type": "code",
   "execution_count": 24,
   "id": "29d52f32",
   "metadata": {},
   "outputs": [
    {
     "name": "stdout",
     "output_type": "stream",
     "text": [
      "홍길동인데 전번이 02-888-8888, 010 9999-9999 동해번쩍 서해번쩍 ㅋㅋ ㅜㅜ@@@@ 오늘 날씨 너무 좋아요 이렇게 날씨가 좋다니 \n"
     ]
    }
   ],
   "source": [
    "import re\n",
    "data = \"홍길동인데 전번이 02-888-8888, 010 9999-9999 동해번쩍 서해번쩍 ㅋㅋ ㅜㅜ@@@@ \\\n",
    "오늘 날씨 너무 좋아요 이렇게 날씨가 좋다니 \"\n",
    "print(data)"
   ]
  },
  {
   "cell_type": "code",
   "execution_count": 7,
   "id": "0165435e",
   "metadata": {},
   "outputs": [],
   "source": [
    "tel_pattern = r\"[0-9]{2,3}[\\-) .]?[0-9]{3,4}[[\\- .]?[0-9]{4}\""
   ]
  },
  {
   "cell_type": "code",
   "execution_count": 11,
   "id": "a8e43702",
   "metadata": {},
   "outputs": [
    {
     "data": {
      "text/plain": [
       "['02-888-8888', '010 9999-9999']"
      ]
     },
     "execution_count": 11,
     "metadata": {},
     "output_type": "execute_result"
    }
   ],
   "source": [
    "# 해당 패턴을 다 찾아줌. 없으면 []반환 (빈리스트 반환)\n",
    "tels = re.findall(tel_pattern, data)\n",
    "tels"
   ]
  },
  {
   "cell_type": "code",
   "execution_count": 13,
   "id": "dc3551bc",
   "metadata": {},
   "outputs": [
    {
     "data": {
      "text/plain": [
       "<re.Match object; span=(10, 21), match='02-888-8888'>"
      ]
     },
     "execution_count": 13,
     "metadata": {},
     "output_type": "execute_result"
    }
   ],
   "source": [
    "# search()는 : 정규표현식 패턴과 일치하는 처음단어만 찾음\n",
    "pattern = \"(\\d{2,3})-(\\d{3,4})-(\\d{4})\"\n",
    "firstTel = re.search(pattern, data)\n",
    "firstTel"
   ]
  },
  {
   "cell_type": "code",
   "execution_count": 14,
   "id": "62d54b99",
   "metadata": {},
   "outputs": [
    {
     "data": {
      "text/plain": [
       "'02-888-8888'"
      ]
     },
     "execution_count": 14,
     "metadata": {},
     "output_type": "execute_result"
    }
   ],
   "source": [
    "data[10:21] #문자 슬라이싱"
   ]
  },
  {
   "cell_type": "code",
   "execution_count": 23,
   "id": "2b3014b2",
   "metadata": {},
   "outputs": [
    {
     "name": "stdout",
     "output_type": "stream",
     "text": [
      "전화번호 전체 : 02-888-8888\n",
      "국번          : 02\n",
      "중간번호      : 888\n",
      "끝번호        : 8888\n"
     ]
    }
   ],
   "source": [
    "print('전화번호 전체 :', firstTel.group(0))\n",
    "print('국번          :', firstTel.group(1))\n",
    "print('중간번호      :', firstTel.group(2))\n",
    "print('끝번호        :', firstTel.group(3))"
   ]
  },
  {
   "cell_type": "code",
   "execution_count": 31,
   "id": "05745f87",
   "metadata": {},
   "outputs": [
    {
     "data": {
      "text/plain": [
       "'홍길동인데 전번이 028888888 010 99999999 동해번쩍 서해번쩍   오늘 날씨 너무 좋아요 이렇게 날씨가 좋다니 '"
      ]
     },
     "execution_count": 31,
     "metadata": {},
     "output_type": "execute_result"
    }
   ],
   "source": [
    "re.sub(r'[^가-힝0-9\\s]', '', data)  #특수문자, 자음, 모음 없애기  \n",
    "\n",
    "#^은 특수문자 제외하는 방법  ^없이 하면 특수문자가 나옴 \n",
    "# \\s = 스페이스(띄어쓰기) 뜻"
   ]
  },
  {
   "cell_type": "code",
   "execution_count": 33,
   "id": "029cb14a",
   "metadata": {},
   "outputs": [],
   "source": [
    "# 파일 경로에는 반드시 r,\\\\,/ 중 하나를 사용 \n",
    "file_path = r\"C:\\ai_x\\source\\01_python\\text.txt\"\n",
    "file_path = \"C:\\\\ai_x\\\\source\\\\01_python\\\\text.txt\"\n",
    "file_path = \"C:/ai_x/source/01_python/text.txt\""
   ]
  },
  {
   "cell_type": "code",
   "execution_count": 35,
   "id": "95b3f75c",
   "metadata": {},
   "outputs": [
    {
     "name": "stdout",
     "output_type": "stream",
     "text": [
      "Hello ~ world\n"
     ]
    }
   ],
   "source": [
    "file_stream = open(file_path, 'w') # w=출력 r=입력\n",
    "print(\"Hello\", \"world\", sep=\" ~ \") # 콘솔 출력\n",
    "print(\"Hello\", \"world\", sep=\" ~ \", file=file_stream) #파일 출력\n",
    "file_stream.close() #close를 하지 않으면 파일저장 안 됨"
   ]
  },
  {
   "cell_type": "markdown",
   "id": "1a11f11a",
   "metadata": {},
   "source": [
    "### ※문자열 슬라이싱\n",
    "변수 = 값 \\\n",
    "변수 = 값들 \\\n",
    "['ㅁ','ㅍ']"
   ]
  },
  {
   "cell_type": "code",
   "execution_count": 36,
   "id": "a6a016a4",
   "metadata": {},
   "outputs": [
    {
     "data": {
      "text/plain": [
       "'0123456789'"
      ]
     },
     "execution_count": 36,
     "metadata": {},
     "output_type": "execute_result"
    }
   ],
   "source": [
    "str_ = '0123456789'\n",
    "str_"
   ]
  },
  {
   "cell_type": "code",
   "execution_count": 44,
   "id": "642ce202",
   "metadata": {},
   "outputs": [
    {
     "data": {
      "text/plain": [
       "('0', '2', '2', '7', '8')"
      ]
     },
     "execution_count": 44,
     "metadata": {},
     "output_type": "execute_result"
    }
   ],
   "source": [
    "# 문자 인덱싱\n",
    "str_[0], str_[2], str_[-8], str_[7], str_[-2]"
   ]
  },
  {
   "cell_type": "code",
   "execution_count": 45,
   "id": "962721ec",
   "metadata": {},
   "outputs": [
    {
     "ename": "IndexError",
     "evalue": "string index out of range",
     "output_type": "error",
     "traceback": [
      "\u001b[1;31m---------------------------------------------------------------------------\u001b[0m",
      "\u001b[1;31mIndexError\u001b[0m                                Traceback (most recent call last)",
      "Cell \u001b[1;32mIn[45], line 1\u001b[0m\n\u001b[1;32m----> 1\u001b[0m \u001b[43mstr_\u001b[49m\u001b[43m[\u001b[49m\u001b[38;5;241;43m20\u001b[39;49m\u001b[43m]\u001b[49m\n",
      "\u001b[1;31mIndexError\u001b[0m: string index out of range"
     ]
    }
   ],
   "source": [
    "str_[20] #없는 인덱싱은 에러 str은 변수임."
   ]
  },
  {
   "cell_type": "code",
   "execution_count": null,
   "id": "f2962aa2",
   "metadata": {},
   "outputs": [],
   "source": [
    "'''\n",
    "문자변수[from:stop] : from부터 stop앞까지 추출 (슬라이싱)\n",
    "문자변수[from:stop:step] : from부터 step앞까지 step씩 전진하면서 추출 \n",
    "    step 생략시 1 \n",
    "    from 생략시 처음부터\n",
    "    stop 생략시 끝까지\n",
    "'''"
   ]
  },
  {
   "cell_type": "code",
   "execution_count": 48,
   "id": "dff7bdd0",
   "metadata": {},
   "outputs": [
    {
     "data": {
      "text/plain": [
       "'01234'"
      ]
     },
     "execution_count": 48,
     "metadata": {},
     "output_type": "execute_result"
    }
   ],
   "source": [
    "str_[0:5] #0번째부터 5번째 앞까지 alt+enter누르면 중간에 셀생성"
   ]
  },
  {
   "cell_type": "code",
   "execution_count": 50,
   "id": "fe1ffc84",
   "metadata": {},
   "outputs": [
    {
     "data": {
      "text/plain": [
       "'5678'"
      ]
     },
     "execution_count": 50,
     "metadata": {},
     "output_type": "execute_result"
    }
   ],
   "source": [
    "str_[-5:-1] #5=-5번째부터 -1번째 앞까지 나타남"
   ]
  },
  {
   "cell_type": "code",
   "execution_count": 52,
   "id": "ef5e4feb",
   "metadata": {},
   "outputs": [
    {
     "data": {
      "text/plain": [
       "'6789'"
      ]
     },
     "execution_count": 52,
     "metadata": {},
     "output_type": "execute_result"
    }
   ],
   "source": [
    "str_[-4:] #-4번째부터 생략했으므로 끝까지 나타남 "
   ]
  },
  {
   "cell_type": "code",
   "execution_count": 53,
   "id": "46fd90d2",
   "metadata": {},
   "outputs": [
    {
     "data": {
      "text/plain": [
       "'6789'"
      ]
     },
     "execution_count": 53,
     "metadata": {},
     "output_type": "execute_result"
    }
   ],
   "source": [
    "str_[-4:20] #슬라이싱시 인덱스 범위를 벗어나면 끝까지를 의미"
   ]
  },
  {
   "cell_type": "code",
   "execution_count": 47,
   "id": "812b1013",
   "metadata": {},
   "outputs": [
    {
     "data": {
      "text/plain": [
       "'0246'"
      ]
     },
     "execution_count": 47,
     "metadata": {},
     "output_type": "execute_result"
    }
   ],
   "source": [
    "str_[0:8:2] # 0번부터 8번앞까지인데 2번씩 띄어서 가지고 온다."
   ]
  },
  {
   "cell_type": "code",
   "execution_count": 54,
   "id": "48050cf8",
   "metadata": {},
   "outputs": [
    {
     "data": {
      "text/plain": [
       "'987654321'"
      ]
     },
     "execution_count": 54,
     "metadata": {},
     "output_type": "execute_result"
    }
   ],
   "source": [
    "str_[9:0:-1] "
   ]
  },
  {
   "cell_type": "code",
   "execution_count": 58,
   "id": "4db65867",
   "metadata": {},
   "outputs": [
    {
     "data": {
      "text/plain": [
       "'963'"
      ]
     },
     "execution_count": 58,
     "metadata": {},
     "output_type": "execute_result"
    }
   ],
   "source": [
    "str_[9:0:-3]"
   ]
  },
  {
   "cell_type": "code",
   "execution_count": 73,
   "id": "f96f30a8",
   "metadata": {},
   "outputs": [
    {
     "name": "stdout",
     "output_type": "stream",
     "text": [
      "0123456\n",
      "56789\n",
      "9876543210\n",
      "9876543210\n"
     ]
    }
   ],
   "source": [
    "# 첫문자~6번째 인덱스까지 추출\n",
    "print(str_[0:7])\n",
    "# 5번째 인덱스부터 끝까지 추출\n",
    "print(str_[5:])\n",
    "# str_를 꺼꾸로 출력\n",
    "print(str_[-1::-1])\n",
    "print(str_[::-1])"
   ]
  },
  {
   "cell_type": "markdown",
   "id": "9ca4c804",
   "metadata": {},
   "source": [
    "## 3.3논리형(True/False)"
   ]
  },
  {
   "cell_type": "code",
   "execution_count": 93,
   "id": "e65ff2e6",
   "metadata": {},
   "outputs": [
    {
     "name": "stdout",
     "output_type": "stream",
     "text": [
      "True\n",
      "<class 'bool'>\n",
      "True\n",
      "a 주소 : 140735859738832\n",
      "b 주소 : 140735859738832\n",
      "b 주소 : 140735859738864\n"
     ]
    }
   ],
   "source": [
    "a = True\n",
    "print(a) # a:매개변수=인자\n",
    "print(type(a)) # a변수의 타입\n",
    "print(isinstance(a, bool)) # isinstance(변수, 타입) : 변수가 해당 타입인지 여부를 묻는 방법\n",
    "print('a 주소 :', id(a))\n",
    "b = True\n",
    "print('b 주소 :',id(b))\n",
    "b = False\n",
    "print('b 주소 :', id(b))"
   ]
  },
  {
   "cell_type": "code",
   "execution_count": 90,
   "id": "98f9d0a9",
   "metadata": {},
   "outputs": [
    {
     "data": {
      "text/plain": [
       "(1, 0)"
      ]
     },
     "execution_count": 90,
     "metadata": {},
     "output_type": "execute_result"
    }
   ],
   "source": [
    "int(True), int(False) \n",
    "#주의 flase로 간주되는 것 : 0, \"\"(빈스트링), None, [](리스트), (), {}(빈딕셔너리) \n",
    "#flase외의 값은 다 True \" \"\n",
    "# 파이썬은 줄맞춤 잘 챙기기"
   ]
  },
  {
   "cell_type": "code",
   "execution_count": 88,
   "id": "eedea83f",
   "metadata": {},
   "outputs": [
    {
     "name": "stdout",
     "output_type": "stream",
     "text": [
      "Flase\n"
     ]
    }
   ],
   "source": [
    "if {} :\n",
    "    print('True')\n",
    "else:\n",
    "    print('Flase')"
   ]
  },
  {
   "cell_type": "markdown",
   "id": "917106ab",
   "metadata": {},
   "source": [
    "## 3.4 자료형 확인 및 형변환 함수 \n",
    "문자,숫자,논리\n",
    "\n",
    "- type(변수)\n",
    "- isinstance(변수, 타입)\n",
    "\n",
    "형변환함수\n",
    "- int() : 정수형으로 변환 ※int(\"10,5\")는 에러남\n",
    "- float() : 실수형으로 변환 (소수점)\n",
    "- str() : 문자형으로 변환 \"\" (숫자가 문자로, true나 flase가 문자로 변환)\n",
    "- bool(): 논리형으로 변환 \n"
   ]
  },
  {
   "cell_type": "code",
   "execution_count": 127,
   "id": "df8f5aa7",
   "metadata": {},
   "outputs": [
    {
     "data": {
      "text/plain": [
       "(123, 123, 1, 10)"
      ]
     },
     "execution_count": 127,
     "metadata": {},
     "output_type": "execute_result"
    }
   ],
   "source": [
    "int(\"123\"), int(123.9), int(True),int(\"10   \")  #int는 반올림이 아님  반올림은 round"
   ]
  },
  {
   "cell_type": "code",
   "execution_count": 126,
   "id": "cd8ec2dc",
   "metadata": {},
   "outputs": [
    {
     "data": {
      "text/plain": [
       "(123.5, 123.0, 1.0, 123.0, 123.5)"
      ]
     },
     "execution_count": 126,
     "metadata": {},
     "output_type": "execute_result"
    }
   ],
   "source": [
    "float(\"123.5\"), float(\"123\"), float(True), float(\"123\"), float(\"   123.5   \")"
   ]
  },
  {
   "cell_type": "code",
   "execution_count": 116,
   "id": "e00a3aec",
   "metadata": {
    "collapsed": true
   },
   "outputs": [
    {
     "ename": "ValueError",
     "evalue": "invalid literal for int() with base 10: '1,000'",
     "output_type": "error",
     "traceback": [
      "\u001b[1;31m---------------------------------------------------------------------------\u001b[0m",
      "\u001b[1;31mValueError\u001b[0m                                Traceback (most recent call last)",
      "Cell \u001b[1;32mIn[116], line 5\u001b[0m\n\u001b[0;32m      1\u001b[0m \u001b[38;5;66;03m#에러나는 것들\u001b[39;00m\n\u001b[0;32m      2\u001b[0m \u001b[38;5;66;03m#int(\"123.5\")\u001b[39;00m\n\u001b[0;32m      3\u001b[0m \u001b[38;5;66;03m#int(' ')\u001b[39;00m\n\u001b[0;32m      4\u001b[0m \u001b[38;5;66;03m#int('')\u001b[39;00m\n\u001b[1;32m----> 5\u001b[0m \u001b[38;5;28;43mint\u001b[39;49m\u001b[43m(\u001b[49m\u001b[38;5;124;43m\"\u001b[39;49m\u001b[38;5;124;43m1,000\u001b[39;49m\u001b[38;5;124;43m\"\u001b[39;49m\u001b[43m)\u001b[49m\n",
      "\u001b[1;31mValueError\u001b[0m: invalid literal for int() with base 10: '1,000'"
     ]
    }
   ],
   "source": [
    "#int()에러나는 것들\n",
    "#int(\"123.5\")\n",
    "#int(' ')\n",
    "#int('')\n",
    "int(\"1,000\") #esc+o 눌러서 접고 열기 "
   ]
  },
  {
   "cell_type": "code",
   "execution_count": 125,
   "id": "b60b4f2f",
   "metadata": {},
   "outputs": [
    {
     "data": {
      "text/plain": [
       "123.5"
      ]
     },
     "execution_count": 125,
     "metadata": {},
     "output_type": "execute_result"
    }
   ],
   "source": [
    "#float() 에러나는것들\n",
    "#float(\"1,000.0\")\n",
    "#float(\"\")\n",
    "#float(\" \")"
   ]
  },
  {
   "cell_type": "code",
   "execution_count": 135,
   "id": "1eb42b68",
   "metadata": {},
   "outputs": [
    {
     "data": {
      "text/plain": [
       "('10', '10.5', 'True', '1120000000000.0')"
      ]
     },
     "execution_count": 135,
     "metadata": {},
     "output_type": "execute_result"
    }
   ],
   "source": [
    "str(10), str(10.5), str(True), str(1.12e12) #문자로 변환 "
   ]
  },
  {
   "cell_type": "code",
   "execution_count": 140,
   "id": "b4197187",
   "metadata": {},
   "outputs": [
    {
     "data": {
      "text/plain": [
       "(False, False, False, False, False, False)"
      ]
     },
     "execution_count": 140,
     "metadata": {},
     "output_type": "execute_result"
    }
   ],
   "source": [
    "bool(\"\"), bool(0), bool(0.0), bool([]), bool({}), bool(None)"
   ]
  },
  {
   "cell_type": "code",
   "execution_count": 143,
   "id": "6ff4fe8b",
   "metadata": {},
   "outputs": [
    {
     "data": {
      "text/plain": [
       "True"
      ]
     },
     "execution_count": 143,
     "metadata": {},
     "output_type": "execute_result"
    }
   ],
   "source": [
    "bool(\" \")"
   ]
  },
  {
   "cell_type": "markdown",
   "id": "4ea2a246",
   "metadata": {},
   "source": [
    "파이썬 기본 자료형(정리)\n",
    "1. 숫자 - int, float, complex\n",
    "2. 문자 - str, 문자슬라이싱, raw 데이터(정규표현식, 파일경로)\n",
    "3. 논리 - Flase로 판별되는 경우"
   ]
  },
  {
   "cell_type": "markdown",
   "id": "7dc5552c",
   "metadata": {},
   "source": [
    "# 4절. 포맷팅\n",
    "- 포맷팅이란, 출력할 문자, 숫자, 날짜 데이터의 형식을 지정하는 것\n",
    "- 변수와 텍스트를 결합해서 보기 좋은 새로운 텍스트를 만들 수 있음\n",
    "\n",
    "## 4.1 문자열에 출력형식 지정\n"
   ]
  },
  {
   "cell_type": "code",
   "execution_count": 150,
   "id": "84d47324",
   "metadata": {},
   "outputs": [
    {
     "name": "stdout",
     "output_type": "stream",
     "text": [
      "홍길동님의 나이는 30살 입니다.\n"
     ]
    }
   ],
   "source": [
    "name = \"홍길동\"\n",
    "age = 30\n",
    "print(name,'님의 나이는 ',age,'살 입니다.', sep='')"
   ]
  },
  {
   "cell_type": "code",
   "execution_count": 163,
   "id": "0a420139",
   "metadata": {},
   "outputs": [
    {
     "name": "stdout",
     "output_type": "stream",
     "text": [
      "홍길동님의 나이는 30살입니다.\n",
      "홍길동님의 나이는 30살입니다.\n",
      "홍길동님의 나이는 30살입니다.\n",
      "홍길동님의 나이는             30살입니다.\n"
     ]
    }
   ],
   "source": [
    "#옛날 방식\n",
    "print(\"%s님의 나이는 %d살입니다.\"%(name,age)) #줄 맞출 수 있으나 요즘 사용 x\n",
    "    # %s:문자, %d:정수  %f:실수\n",
    "print(f\"{name}님의 나이는 {age}살입니다.\") #줄 맞출 수 없음 \n",
    "print(\"{}님의 나이는 {}살입니다.\".format(name,age)) #요즘 가장 많이 사용하는 방법\n",
    "print(\"{}님의 나이는 {:14d}살입니다.\".format(name,age)) #자리 줄맞추는 방법"
   ]
  },
  {
   "cell_type": "markdown",
   "id": "b013c711",
   "metadata": {},
   "source": [
    "## 4.2 format() 문법\n",
    "-\n",
    "\n"
   ]
  },
  {
   "cell_type": "code",
   "execution_count": 167,
   "id": "e9b957f7",
   "metadata": {
    "collapsed": true
   },
   "outputs": [
    {
     "ename": "NameError",
     "evalue": "name '변수1' is not defined",
     "output_type": "error",
     "traceback": [
      "\u001b[1;31m---------------------------------------------------------------------------\u001b[0m",
      "\u001b[1;31mNameError\u001b[0m                                 Traceback (most recent call last)",
      "Cell \u001b[1;32mIn[167], line 1\u001b[0m\n\u001b[1;32m----> 1\u001b[0m \u001b[38;5;124m\"\u001b[39m\u001b[38;5;124m{\u001b[39m\u001b[38;5;124m[인덱스]:[정렬방식][자릿수][타입]}\u001b[39m\u001b[38;5;124m\"\u001b[39m\u001b[38;5;241m.\u001b[39mformat(\u001b[43m변수1\u001b[49m, 변수2)\n",
      "\u001b[1;31mNameError\u001b[0m: name '변수1' is not defined"
     ]
    }
   ],
   "source": [
    "\"{[인덱스]:[공백대체문자][정렬방식][자릿수][타입]}\".format(변수)\n",
    "    #인덱스 : format함수 안에 매개변수의 순서\n",
    "    #정렬방식 : <(왼쪽정렬), >(오른쪽종렬),^(중앙정렬)\n",
    "    #정수자릿수 : 출력될 자릿수d. 변수 내용보다 작은 자릿수가 지정되면 자릿수 무시\n",
    "    #실수자릿수 : 출력될자릿수. 소수점출력자릿수f\n",
    "    #문자자릿수 : 전체확보될자릿수[.변수중출력할자릿수]s\n",
    "    #타입은 : d(10진수- 정수), b(2진수), x(16진수), f(실수), s(문자)\n",
    "    #16진수는 웹페이지 구현할 때 많이 씀 ex 1100 1000 1001 10011 = 16진수로 C893\n",
    "    #공백대체문자를 쓸 경우 정렬방식을 반드시 기입해야 함"
   ]
  },
  {
   "cell_type": "code",
   "execution_count": 191,
   "id": "cf1fb420",
   "metadata": {},
   "outputs": [
    {
     "name": "stdout",
     "output_type": "stream",
     "text": [
      "이름은?홍길동\n",
      "나이는?35\n",
      "35살 홍길동님 반갑습니다\n",
      "*35*살 _______홍길동님 반갑습니다\n"
     ]
    }
   ],
   "source": [
    "name = input('이름은?')\n",
    "age = int(input('나이는?'))\n",
    "print(\"{}살 {}님 반갑습니다\".format(age, name))\n",
    "print(\"{1:*^4d}살 {0:_>10}님 반갑습니다\".format(name,age))"
   ]
  },
  {
   "cell_type": "code",
   "execution_count": 204,
   "id": "0f5ec152",
   "metadata": {},
   "outputs": [
    {
     "name": "stdout",
     "output_type": "stream",
     "text": [
      "[12345], [  12345   ], [12345]\n",
      "[12345], [     12345], [12345]\n",
      "[12345], [12345     ], [12345]\n",
      "[Hello], [  Hello   ], [Hello]\n",
      "[Hello], [     Hello], [Hello]\n",
      "[Hello], [Hello     ], [Hello]\n"
     ]
    }
   ],
   "source": [
    "# 숫자의 경우 : 오른쪽 정렬(기본값)\n",
    "# 문자의 경우 : 왼쪽정렬(기본값)\n",
    "# 변수보다 작은 자리수를 지정하면 자릿수가 무시되고 다 출력(정수 자리수의 경우에만 가능)\n",
    "i = 12345\n",
    "s = \"Hello\"\n",
    "print(\"[{}], [{:^10}], [{:3}]\".format(i, i, i))\n",
    "print(\"[{}], [{:>10}], [{:3}]\".format(i, i, i))\n",
    "print(\"[{}], [{:<10}], [{:3}]\".format(i, i, i))\n",
    "print(\"[{0}], [{0:^10}], [{0:3}]\".format(s, s, s))\n",
    "print(\"[{0}], [{0:>10}], [{0:3}]\".format(s, s, s))\n",
    "print(\"[{0}], [{0:<10}], [{0:3}]\".format(s, s, s))"
   ]
  },
  {
   "cell_type": "code",
   "execution_count": 232,
   "id": "416ea554",
   "metadata": {},
   "outputs": [
    {
     "name": "stdout",
     "output_type": "stream",
     "text": [
      "f = [2.76*]\n",
      "s = [He@@@]\n"
     ]
    }
   ],
   "source": [
    "# 실수(f) : 전체자리수.소수점이하 표현될 자리수 ※실수는 f꼭 작성해야 함\n",
    "# 문자(s) : 전체자리수.표현될자리수\n",
    "\n",
    "f = 2.758\n",
    "s = \"Hello\"\n",
    "print(\"f = [{0:*^5.2f}]\".format(f)) #반올림\n",
    "print(\"s = [{0:@<5.2}]\".format(s))"
   ]
  },
  {
   "cell_type": "code",
   "execution_count": 242,
   "id": "866bf2ec",
   "metadata": {},
   "outputs": [
    {
     "name": "stdout",
     "output_type": "stream",
     "text": [
      "[  123],[ -123]\n",
      "[ +123],[ -123]\n",
      "[+ 123],[- 123]\n"
     ]
    }
   ],
   "source": [
    "# + : 부호를 출력(+,-) , 정수와 실수 다 됨\n",
    "# = : 부호를 맨 앞에 출력\n",
    "a, b = 123, -123\n",
    "print(\"[{:5}],[{:5}]\".format(a,b))\n",
    "print(\"[{:+5}],[{:+5}]\".format(a,b)) #부호 나타내기 \n",
    "print(\"[{:=+5}],[{:=5}]\".format(a,b)) #부호를 맨 앞으로 빼기"
   ]
  },
  {
   "cell_type": "code",
   "execution_count": 251,
   "id": "aff14b84",
   "metadata": {},
   "outputs": [
    {
     "name": "stdout",
     "output_type": "stream",
     "text": [
      "[      +2.8]\n",
      "[     +2.79]\n"
     ]
    }
   ],
   "source": [
    "#\n",
    "f = 2.785\n",
    "print(\"[{:+10.2}]\".format(f))\n",
    "print(\"[{:+10.2f}]\".format(f))"
   ]
  },
  {
   "cell_type": "code",
   "execution_count": 264,
   "id": "95614d70",
   "metadata": {},
   "outputs": [
    {
     "name": "stdout",
     "output_type": "stream",
     "text": [
      "[    +2.785]\n",
      "[  +2.785  ]\n",
      "[+2.785    ]\n"
     ]
    }
   ],
   "source": [
    "sign = '+'\n",
    "width = 10\n",
    "precision = 3\n",
    "print(\"[{:{}{}.{}f}]\".format(f,\n",
    "                            sign,\n",
    "                            width,\n",
    "                            precision))\n",
    "print(\"[{:^{}{}.{}f}]\".format(f,\n",
    "                            sign,\n",
    "                            width,\n",
    "                            precision))\n",
    "print(\"[{:<{}{}.{}f}]\".format(f,\n",
    "                            sign,\n",
    "                            width,\n",
    "                            precision))"
   ]
  },
  {
   "cell_type": "code",
   "execution_count": 265,
   "id": "52a5bffd",
   "metadata": {},
   "outputs": [
    {
     "name": "stdout",
     "output_type": "stream",
     "text": [
      "[    +2.785]\n"
     ]
    }
   ],
   "source": [
    "print(\"[{:{sign}{width}.{precision}f}]\".format(f,\n",
    "                            sign=sign,\n",
    "                            width=width,\n",
    "                            precision=precision))"
   ]
  },
  {
   "cell_type": "code",
   "execution_count": 273,
   "id": "ac788867",
   "metadata": {},
   "outputs": [
    {
     "name": "stdout",
     "output_type": "stream",
     "text": [
      "10진수 a = [   15]\n",
      "16진수 a = [    f]\n",
      " 2진수 a = [ 1111]\n"
     ]
    }
   ],
   "source": [
    "a = 15\n",
    "print(\"10진수 a = [{:5d}]\".format(a))\n",
    "print(\"16진수 a = [{:5x}]\".format(a))\n",
    "print(\" 2진수 a = [{:5b}]\".format(a))"
   ]
  },
  {
   "cell_type": "markdown",
   "id": "385a4ae5",
   "metadata": {},
   "source": [
    "## 4.3 날짜 출력\n",
    "- ㅇ\n"
   ]
  },
  {
   "cell_type": "code",
   "execution_count": 276,
   "id": "5ac307b2",
   "metadata": {},
   "outputs": [
    {
     "data": {
      "text/plain": [
       "datetime.datetime(2025, 4, 9, 17, 45, 11, 195760)"
      ]
     },
     "execution_count": 276,
     "metadata": {},
     "output_type": "execute_result"
    }
   ],
   "source": [
    "import re\n",
    "from datetime import datetime\n",
    "now = datetime.now()\n",
    "now"
   ]
  },
  {
   "cell_type": "code",
   "execution_count": 285,
   "id": "e9ddd53e",
   "metadata": {},
   "outputs": [
    {
     "name": "stdout",
     "output_type": "stream",
     "text": [
      "2025-04-09 17:45:11.195760\n",
      "2025년04월09일 PM 05시 45분 11초\n",
      "2025년04월09일 17시 45분 11초\n"
     ]
    }
   ],
   "source": [
    "print(\"{}\".format(now))\n",
    "print(\"{:%Y년%m월%d일 %p %I시 %M분 %S초}\".format(now))\n",
    "print(\"{:%Y년%m월%d일 %H시 %M분 %S초}\".format(now))"
   ]
  },
  {
   "cell_type": "code",
   "execution_count": 291,
   "id": "35cc513b",
   "metadata": {},
   "outputs": [
    {
     "name": "stdout",
     "output_type": "stream",
     "text": [
      "2025년04월09일 17시 45분 11초\n"
     ]
    }
   ],
   "source": [
    "print(now.strftime(\"%Y년%m월%d일 %H시 %M분 %S초\"))"
   ]
  },
  {
   "cell_type": "code",
   "execution_count": null,
   "id": "a499de28",
   "metadata": {},
   "outputs": [],
   "source": []
  }
 ],
 "metadata": {
  "kernelspec": {
   "display_name": "Python 3 (ipykernel)",
   "language": "python",
   "name": "python3"
  },
  "language_info": {
   "codemirror_mode": {
    "name": "ipython",
    "version": 3
   },
   "file_extension": ".py",
   "mimetype": "text/x-python",
   "name": "python",
   "nbconvert_exporter": "python",
   "pygments_lexer": "ipython3",
   "version": "3.10.9"
  },
  "toc": {
   "base_numbering": 1,
   "nav_menu": {},
   "number_sections": false,
   "sideBar": true,
   "skip_h1_title": false,
   "title_cell": "Table of Contents",
   "title_sidebar": "Contents",
   "toc_cell": false,
   "toc_position": {
    "height": "calc(100% - 180px)",
    "left": "10px",
    "top": "150px",
    "width": "165px"
   },
   "toc_section_display": true,
   "toc_window_display": true
  }
 },
 "nbformat": 4,
 "nbformat_minor": 5
}
