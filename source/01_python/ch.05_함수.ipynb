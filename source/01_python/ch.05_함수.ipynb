{
 "cells": [
  {
   "cell_type": "code",
   "execution_count": 1,
   "id": "cdc0ccb0",
   "metadata": {},
   "outputs": [
    {
     "data": {
      "text/html": [
       "\n",
       "<style>\n",
       "div.container{width:86% !important;}\n",
       "div.cell.code_cell.rendered{width:100%;}\n",
       "div.CodeMirror {font-family:Consolas; font-size:15pt;}\n",
       "div.output {font-size:15pt; font-weight:bold;}\n",
       "div.input {font-family:Consolas; font-size:15pt;}\n",
       "div.prompt {min-width:70px;}\n",
       "div#toc-wrapper{padding-top:120px;}\n",
       "div.text_cell_render ul li{font-size:12pt;padding:5px;}\n",
       "table.dataframe{font-size:15px;}\n",
       "</style>\n",
       " "
      ],
      "text/plain": [
       "<IPython.core.display.HTML object>"
      ]
     },
     "metadata": {},
     "output_type": "display_data"
    }
   ],
   "source": [
    "from IPython.display import display, HTML \n",
    "display(HTML(\"\"\"\n",
    "<style>\n",
    "div.container{width:86% !important;}\n",
    "div.cell.code_cell.rendered{width:100%;}\n",
    "div.CodeMirror {font-family:Consolas; font-size:15pt;}\n",
    "div.output {font-size:15pt; font-weight:bold;}\n",
    "div.input {font-family:Consolas; font-size:15pt;}\n",
    "div.prompt {min-width:70px;}\n",
    "div#toc-wrapper{padding-top:120px;}\n",
    "div.text_cell_render ul li{font-size:12pt;padding:5px;}\n",
    "table.dataframe{font-size:15px;}\n",
    "</style>\n",
    " \"\"\"))"
   ]
  },
  {
   "cell_type": "markdown",
   "id": "e5195136",
   "metadata": {},
   "source": [
    "<span style=\"color: blue; font-size: 24px; font-weight: bold;\">ch05.함수</span>\n",
    "- 사용할 코드를 묶어 놓고 그것에 이름을 붙인 것 : 함수\n",
    "- 같은 이름의 함수를 매개변수를 달리해서 사용 : 오버로딩 (파이썬은 사용이 불가)\n",
    "- 오버로딩(함수 이름이 같고, 매개변수의 타입이나 갯수로 다른 함수를 허용하는 것)불가\n",
    "- def add(a, b):\n",
    "    #print(1)\n",
    "- def add(a):\n",
    "    #print(2) 이렇게 쓰게되면 위에 함수는 사라지고 아래것만 남음\n",
    "- 함수용 언어는 파이썬과 자바스크립트에서 사용\n",
    "    \n",
    "```\n",
    "*변수명 사용하는 방식이랑 똑같음\n",
    "*매개변수가 생략이 가능함.\n",
    "*명령어에 return이 필수로 들어가는것이 아님 선택사항\n",
    "def 함수명([매개변수1,매개변수2,매개변수n])\n",
    "    명령어1\n",
    "    명령어2\n",
    "    명령어n\n",
    "```\n",
    "# 1절. 함수 정의 및 사용"
   ]
  },
  {
   "cell_type": "markdown",
   "id": "4ef790b9",
   "metadata": {},
   "source": [
    "## 1.1 함수 정의 "
   ]
  },
  {
   "cell_type": "code",
   "execution_count": null,
   "id": "d2bab59a",
   "metadata": {},
   "outputs": [],
   "source": [
    "#오버로딩\n",
    "def add(a, b):\n",
    "    print(1)\n",
    "def add(a):\n",
    "    print(2) 위의 함수는 덮어져서 사라지고 아래것만 남음 "
   ]
  },
  {
   "cell_type": "code",
   "execution_count": 11,
   "id": "8c62d7c2",
   "metadata": {},
   "outputs": [],
   "source": [
    "#hello를 호출하면 hello를 5번 만들어주는 함수로 정의함\n",
    "#함수 정의한다고 해서 결과값이 나타나진 않음.\n",
    "#함수를 사용해야 실행이 됨.\n",
    "def hello():\n",
    "    for i in range(5):\n",
    "        print('Hello')"
   ]
  },
  {
   "cell_type": "code",
   "execution_count": 13,
   "id": "348db437",
   "metadata": {},
   "outputs": [
    {
     "name": "stdout",
     "output_type": "stream",
     "text": [
      "Hello\n",
      "Hello\n",
      "Hello\n",
      "Hello\n",
      "Hello\n"
     ]
    },
    {
     "ename": "TypeError",
     "evalue": "hello() takes 0 positional arguments but 1 was given",
     "output_type": "error",
     "traceback": [
      "\u001b[1;31m---------------------------------------------------------------------------\u001b[0m",
      "\u001b[1;31mTypeError\u001b[0m                                 Traceback (most recent call last)",
      "Cell \u001b[1;32mIn[13], line 3\u001b[0m\n\u001b[0;32m      1\u001b[0m \u001b[38;5;66;03m#함수 사용 *앞에서 지정한 매개변수 숫자와 동일해야 함. \u001b[39;00m\n\u001b[0;32m      2\u001b[0m hello()\n\u001b[1;32m----> 3\u001b[0m \u001b[43mhello\u001b[49m\u001b[43m(\u001b[49m\u001b[38;5;241;43m1\u001b[39;49m\u001b[43m)\u001b[49m\n",
      "\u001b[1;31mTypeError\u001b[0m: hello() takes 0 positional arguments but 1 was given"
     ]
    }
   ],
   "source": [
    "#함수 사용 *앞에서 지정한 매개변수 숫자와 동일해야 함. \n",
    "hello()\n",
    "hello(1)"
   ]
  },
  {
   "cell_type": "code",
   "execution_count": 20,
   "id": "e406de82",
   "metadata": {},
   "outputs": [],
   "source": [
    "#함수 정의\n",
    "def my_message(x, msg): #msg를 x번 출력하는 함수\n",
    "    for i in range(x):\n",
    "        print(msg)"
   ]
  },
  {
   "cell_type": "code",
   "execution_count": 21,
   "id": "15ff940d",
   "metadata": {},
   "outputs": [
    {
     "ename": "TypeError",
     "evalue": "my_message() missing 2 required positional arguments: 'x' and 'msg'",
     "output_type": "error",
     "traceback": [
      "\u001b[1;31m---------------------------------------------------------------------------\u001b[0m",
      "\u001b[1;31mTypeError\u001b[0m                                 Traceback (most recent call last)",
      "Cell \u001b[1;32mIn[21], line 2\u001b[0m\n\u001b[0;32m      1\u001b[0m \u001b[38;5;66;03m#함수 사용\u001b[39;00m\n\u001b[1;32m----> 2\u001b[0m \u001b[43mmy_message\u001b[49m\u001b[43m(\u001b[49m\u001b[43m)\u001b[49m\n",
      "\u001b[1;31mTypeError\u001b[0m: my_message() missing 2 required positional arguments: 'x' and 'msg'"
     ]
    }
   ],
   "source": [
    "#함수 사용\n",
    "my_message()  #이렇게 하면 오류남  (x랑 msg가 오류)\n",
    "#포지셔널 매개변수 "
   ]
  },
  {
   "cell_type": "code",
   "execution_count": 22,
   "id": "46daba4b",
   "metadata": {},
   "outputs": [
    {
     "name": "stdout",
     "output_type": "stream",
     "text": [
      "hello\n",
      "hello\n"
     ]
    }
   ],
   "source": [
    "#함수 사용\n",
    "my_message(2, 'hello')  #이렇게 하면 오류남  (x랑 msg가 오류)\n",
    "#포지셔널 매개변수 "
   ]
  },
  {
   "cell_type": "code",
   "execution_count": 23,
   "id": "5380a07c",
   "metadata": {},
   "outputs": [
    {
     "name": "stdout",
     "output_type": "stream",
     "text": [
      "hello\n",
      "hello\n"
     ]
    }
   ],
   "source": [
    "my_msg = my_message #변수에다가 함수를 넣는다? my_msg도 함수로 변환 / 함수를 변수처럼 쓸 수 있다\n",
    "my_msg(2,'hello')"
   ]
  },
  {
   "cell_type": "code",
   "execution_count": 24,
   "id": "3f7dc690",
   "metadata": {},
   "outputs": [
    {
     "data": {
      "text/plain": [
       "(function, function)"
      ]
     },
     "execution_count": 24,
     "metadata": {},
     "output_type": "execute_result"
    }
   ],
   "source": [
    "type(my_msg), type(my_message) "
   ]
  },
  {
   "cell_type": "code",
   "execution_count": 25,
   "id": "2967d566",
   "metadata": {},
   "outputs": [
    {
     "name": "stdout",
     "output_type": "stream",
     "text": [
      "hello\n"
     ]
    }
   ],
   "source": [
    "print('hello') #파이썬 내장함수 (impor 하지않아도 할 수 있는 함수 / 가져오지 않아도 쓸 수 있는 함수 )"
   ]
  },
  {
   "cell_type": "code",
   "execution_count": 26,
   "id": "e03f8961",
   "metadata": {},
   "outputs": [
    {
     "name": "stdout",
     "output_type": "stream",
     "text": [
      "Hello\n",
      "Hello\n"
     ]
    }
   ],
   "source": [
    "my_message(2,'Hello')"
   ]
  },
  {
   "cell_type": "code",
   "execution_count": 27,
   "id": "abe56e59",
   "metadata": {},
   "outputs": [],
   "source": [
    "#my_message = 5"
   ]
  },
  {
   "cell_type": "code",
   "execution_count": 29,
   "id": "01c236a0",
   "metadata": {},
   "outputs": [
    {
     "ename": "SyntaxError",
     "evalue": "invalid syntax (3482650259.py, line 1)",
     "output_type": "error",
     "traceback": [
      "\u001b[1;36m  Cell \u001b[1;32mIn[29], line 1\u001b[1;36m\u001b[0m\n\u001b[1;33m    def my_message\u001b[0m\n\u001b[1;37m                  ^\u001b[0m\n\u001b[1;31mSyntaxError\u001b[0m\u001b[1;31m:\u001b[0m invalid syntax\n"
     ]
    }
   ],
   "source": [
    "def my_message\n",
    "#변수를 삭제해도 함수 사용불가(파이썬 내장함수가 아니라서)"
   ]
  },
  {
   "cell_type": "code",
   "execution_count": 30,
   "id": "b7a70d39",
   "metadata": {},
   "outputs": [],
   "source": [
    "my_message(2,'Hello')  #내장함수가 아니면 del을 해도 다 날아감(삭제됨)"
   ]
  },
  {
   "cell_type": "code",
   "execution_count": 11,
   "id": "331223bb",
   "metadata": {},
   "outputs": [],
   "source": [
    "#함수 정의 (함수를 만들뿐 실행되진 않음)\n",
    "def my_hello():\n",
    "    print('hello, python')\n",
    "    print('hello, world')\n",
    "def my_hello(cnt):\n",
    "    for i in range(cnt):\n",
    "        print('hello, python')\n",
    "        print('hello, world') \n",
    "        print('fo ao ad nmd cndm')"
   ]
  },
  {
   "cell_type": "code",
   "execution_count": 12,
   "id": "d4216091",
   "metadata": {},
   "outputs": [
    {
     "name": "stdout",
     "output_type": "stream",
     "text": [
      "hello, python\n",
      "hello, world\n",
      "fo ao ad nmd cndm\n",
      "hello, python\n",
      "hello, world\n",
      "fo ao ad nmd cndm\n"
     ]
    }
   ],
   "source": [
    "#함수 호출 = 함수 사용\n",
    "my_hello(2)"
   ]
  },
  {
   "cell_type": "code",
   "execution_count": 13,
   "id": "b8bd1406",
   "metadata": {},
   "outputs": [
    {
     "data": {
      "text/plain": [
       "<function __main__.my_hello(cnt)>"
      ]
     },
     "execution_count": 13,
     "metadata": {},
     "output_type": "execute_result"
    }
   ],
   "source": [
    "my_hello  #__main__?"
   ]
  },
  {
   "cell_type": "code",
   "execution_count": 21,
   "id": "a5d9b5d8",
   "metadata": {},
   "outputs": [
    {
     "name": "stdout",
     "output_type": "stream",
     "text": [
      "hello, python\n",
      "hello, world\n",
      "fo ao ad nmd cndm\n",
      "hello, python\n",
      "hello, world\n",
      "fo ao ad nmd cndm\n",
      "hello, python\n",
      "hello, world\n",
      "fo ao ad nmd cndm\n",
      "hello, python\n",
      "hello, world\n",
      "fo ao ad nmd cndm\n"
     ]
    }
   ],
   "source": [
    "if __name__=='__main__':\n",
    "    my_hello(4)"
   ]
  },
  {
   "cell_type": "code",
   "execution_count": 22,
   "id": "112d6302",
   "metadata": {},
   "outputs": [
    {
     "name": "stdout",
     "output_type": "stream",
     "text": [
      "hello, python\n",
      "hello, world\n",
      "hello, python\n",
      "hello, world\n"
     ]
    }
   ],
   "source": [
    "import ch05"
   ]
  },
  {
   "cell_type": "code",
   "execution_count": 1,
   "id": "c5c9a04b",
   "metadata": {},
   "outputs": [
    {
     "name": "stdout",
     "output_type": "stream",
     "text": [
      "ch05\n",
      "hello, python\n",
      "hello, world\n",
      "hello, python\n",
      "hello, world\n"
     ]
    }
   ],
   "source": [
    "import ch05"
   ]
  },
  {
   "cell_type": "code",
   "execution_count": 2,
   "id": "e3b51f0d",
   "metadata": {},
   "outputs": [],
   "source": [
    "import ch05 #ch05모듈을 load / 실행이 안됨"
   ]
  },
  {
   "cell_type": "code",
   "execution_count": 3,
   "id": "40ae8f60",
   "metadata": {},
   "outputs": [
    {
     "name": "stdout",
     "output_type": "stream",
     "text": [
      "hello, python\n",
      "hello, world\n",
      "hello, python\n",
      "hello, world\n"
     ]
    }
   ],
   "source": [
    "ch05.my_hello(2) #이렇게 해야 실행이 됨"
   ]
  },
  {
   "cell_type": "code",
   "execution_count": 4,
   "id": "a26fc2c7",
   "metadata": {},
   "outputs": [],
   "source": [
    "from ch05 import my_hello #ch05모듈안의 my_hello load  #바로 실행할 수 있는 방법"
   ]
  },
  {
   "cell_type": "code",
   "execution_count": 5,
   "id": "018a3988",
   "metadata": {},
   "outputs": [
    {
     "name": "stdout",
     "output_type": "stream",
     "text": [
      "hello, python\n",
      "hello, world\n",
      "hello, python\n",
      "hello, world\n"
     ]
    }
   ],
   "source": [
    "my_hello(2)  #바로 실행하기"
   ]
  },
  {
   "cell_type": "markdown",
   "id": "3f923ea5",
   "metadata": {},
   "source": [
    "## 1.2 docstring\n",
    "- 함수의 설명\n",
    "- 함수 맨 첫라인에 독스트링을 쓸 수 있음 ',\" 둘중에 상관없음"
   ]
  },
  {
   "cell_type": "code",
   "execution_count": 6,
   "id": "f5587d55",
   "metadata": {},
   "outputs": [],
   "source": [
    "def my_function():  #매개변수가 없더라도 괄호는 꼭 써야 함, 빈 괄호라도\n",
    "    '''\n",
    "    함수의 첫라인에 독스트링을 포함할 수 있습니다.\n",
    "    독스트링은 함수의 설명서를 달아주는 역할\n",
    "    주석보다 많은 기능(shift+tab으로 독스트링을 볼 수 있음)\n",
    "    '''\n",
    "    pass"
   ]
  },
  {
   "cell_type": "code",
   "execution_count": 7,
   "id": "5e131e9c",
   "metadata": {},
   "outputs": [],
   "source": [
    "my_function() "
   ]
  },
  {
   "cell_type": "code",
   "execution_count": 9,
   "id": "f35caae2",
   "metadata": {},
   "outputs": [
    {
     "name": "stdout",
     "output_type": "stream",
     "text": [
      "\n",
      "    함수의 첫라인에 독스트링을 포함할 수 있습니다.\n",
      "    독스트링은 함수의 설명서를 달아주는 역할\n",
      "    주석보다 많은 기능(shift+tab으로 독스트링을 볼 수 있음)\n",
      "    \n"
     ]
    }
   ],
   "source": [
    "print(my_function.__doc__)  #해당 독스트링만 볼 수 있는 방식 .__doc__(doc 앞뒤로 언더바 2번씩)"
   ]
  },
  {
   "cell_type": "code",
   "execution_count": 17,
   "id": "3e6a399d",
   "metadata": {},
   "outputs": [],
   "source": [
    "def fibonacci(n):\n",
    "    a, b = 0, 1\n",
    "    while a <n:   #a가 n보다 작으면 작업\n",
    "        print(a, end=' ')\n",
    "        a, b = b, a+b\n",
    "    print()   #개행은 무조건 뒤에 붙여줌 \n",
    "    #함수 영역에 있는것은 종료 뒤 a,b의 값은 사라짐 / 함수 안에 있는 변수는 삭제됨 "
   ]
  },
  {
   "cell_type": "code",
   "execution_count": 19,
   "id": "f8f36a7a",
   "metadata": {},
   "outputs": [
    {
     "name": "stdout",
     "output_type": "stream",
     "text": [
      "0 1 1 2 3 5 8 13 21 34 55 89 \n"
     ]
    }
   ],
   "source": [
    "fibonacci(100)"
   ]
  },
  {
   "cell_type": "code",
   "execution_count": 20,
   "id": "29f5e73b",
   "metadata": {},
   "outputs": [],
   "source": [
    "if True:\n",
    "    x = 10"
   ]
  },
  {
   "cell_type": "code",
   "execution_count": 21,
   "id": "f2cb4087",
   "metadata": {},
   "outputs": [
    {
     "data": {
      "text/plain": [
       "10"
      ]
     },
     "execution_count": 21,
     "metadata": {},
     "output_type": "execute_result"
    }
   ],
   "source": [
    "x   #밖에서도 값이 살아 있음. 하지만 함수안에 있는것은 없어짐."
   ]
  },
  {
   "cell_type": "markdown",
   "id": "93e7749b",
   "metadata": {},
   "source": [
    "## 1.3 지역변수(local ver)와 전역변수(global var)\n",
    "\n",
    "- <지역변수>\n",
    "- 정의: 지역 변수는 특정 함수 안에서만 유효한 변수. 함수가 호출될 때 생성되고, 함수가 종료되면 사라짐\n",
    "- 특징: 함수 내부에서 선언되며, 그 함수 외부에서는 접근할 수 없음\n",
    "\n",
    "- <전역변수>\n",
    "- 정의:전역 변수는 프로그램 전체에서 접근할 수 있는 변수. 즉, 함수 바깥에 선언된 변수.\n",
    "- 특징: 함수 밖에서 선언되므로 프로그램 어디서든 접근하고 수정할 수 있음\n",
    "\n",
    "- 변수의 우선순위는 로컬테이블>전역테이블>내장된 이름테이블 "
   ]
  },
  {
   "cell_type": "code",
   "execution_count": 23,
   "id": "8638521c",
   "metadata": {},
   "outputs": [
    {
     "name": "stdout",
     "output_type": "stream",
     "text": [
      "함수 안 : 100\n",
      "함수 밖 : 100\n"
     ]
    }
   ],
   "source": [
    "global_var = 100 #전역변수\n",
    "def func1(): \n",
    "    print('함수 안 :',global_var) \n",
    "func1()\n",
    "print(\"함수 밖 :\",global_var)\n",
    "\n",
    "#함수의 안밖 모두에서 사용 가능 "
   ]
  },
  {
   "cell_type": "code",
   "execution_count": 25,
   "id": "9e4101aa",
   "metadata": {},
   "outputs": [
    {
     "name": "stdout",
     "output_type": "stream",
     "text": [
      "함수 안 : 200\n"
     ]
    },
    {
     "ename": "NameError",
     "evalue": "name 'local_var' is not defined",
     "output_type": "error",
     "traceback": [
      "\u001b[1;31m---------------------------------------------------------------------------\u001b[0m",
      "\u001b[1;31mNameError\u001b[0m                                 Traceback (most recent call last)",
      "Cell \u001b[1;32mIn[25], line 5\u001b[0m\n\u001b[0;32m      3\u001b[0m     \u001b[38;5;28mprint\u001b[39m(\u001b[38;5;124m'\u001b[39m\u001b[38;5;124m함수 안 :\u001b[39m\u001b[38;5;124m'\u001b[39m, local_var)\n\u001b[0;32m      4\u001b[0m func2()\n\u001b[1;32m----> 5\u001b[0m \u001b[38;5;28mprint\u001b[39m(\u001b[38;5;124m'\u001b[39m\u001b[38;5;124m함수 밖 :\u001b[39m\u001b[38;5;124m'\u001b[39m, \u001b[43mlocal_var\u001b[49m)\n",
      "\u001b[1;31mNameError\u001b[0m: name 'local_var' is not defined"
     ]
    }
   ],
   "source": [
    "def func2():\n",
    "    local_var = 200 #지역변수\n",
    "    print('함수 안 :', local_var)\n",
    "func2()\n",
    "print('함수 밖 :', local_var)"
   ]
  },
  {
   "cell_type": "code",
   "execution_count": 31,
   "id": "509a31a1",
   "metadata": {},
   "outputs": [
    {
     "name": "stdout",
     "output_type": "stream",
     "text": [
      "함수 안(지역변수 g_var): 200\n",
      "함수 안(전역변수 g_var): 100\n"
     ]
    }
   ],
   "source": [
    "g_var = 100      #전역변수 , 변수를 선언하는것과 동일\n",
    "def func3():\n",
    "    g_var = 200    #지역변수 (변수선언,변수할당을 여기서 함..)\n",
    "    print('함수 안(지역변수 g_var):', g_var) \n",
    "func3()\n",
    "print('함수 안(전역변수 g_var):',g_var) #전역변수"
   ]
  },
  {
   "cell_type": "code",
   "execution_count": 36,
   "id": "c016f0f5",
   "metadata": {},
   "outputs": [
    {
     "ename": "UnboundLocalError",
     "evalue": "local variable 'g_var' referenced before assignment",
     "output_type": "error",
     "traceback": [
      "\u001b[1;31m---------------------------------------------------------------------------\u001b[0m",
      "\u001b[1;31mUnboundLocalError\u001b[0m                         Traceback (most recent call last)",
      "Cell \u001b[1;32mIn[36], line 5\u001b[0m\n\u001b[0;32m      3\u001b[0m     \u001b[38;5;28mprint\u001b[39m(\u001b[38;5;124m'\u001b[39m\u001b[38;5;124m함수 안(g_var):\u001b[39m\u001b[38;5;124m'\u001b[39m, g_var)\n\u001b[0;32m      4\u001b[0m     g_var \u001b[38;5;241m=\u001b[39m \u001b[38;5;241m200\u001b[39m  \u001b[38;5;66;03m#함수 선언을 먼저 컴파일해서 100이 아닌 200으로 출력\u001b[39;00m\n\u001b[1;32m----> 5\u001b[0m \u001b[43mfunc4\u001b[49m\u001b[43m(\u001b[49m\u001b[43m)\u001b[49m\n",
      "Cell \u001b[1;32mIn[36], line 3\u001b[0m, in \u001b[0;36mfunc4\u001b[1;34m()\u001b[0m\n\u001b[0;32m      2\u001b[0m \u001b[38;5;28;01mdef\u001b[39;00m \u001b[38;5;21mfunc4\u001b[39m():\n\u001b[1;32m----> 3\u001b[0m     \u001b[38;5;28mprint\u001b[39m(\u001b[38;5;124m'\u001b[39m\u001b[38;5;124m함수 안(g_var):\u001b[39m\u001b[38;5;124m'\u001b[39m, \u001b[43mg_var\u001b[49m)\n\u001b[0;32m      4\u001b[0m     g_var \u001b[38;5;241m=\u001b[39m \u001b[38;5;241m200\u001b[39m\n",
      "\u001b[1;31mUnboundLocalError\u001b[0m: local variable 'g_var' referenced before assignment"
     ]
    }
   ],
   "source": [
    "#렉시컬 특성 \n",
    "g_var = 100 #전역변수\n",
    "def func4():\n",
    "    print('함수 안(g_var):', g_var)\n",
    "    g_var = 200  #함수 선언을 먼저 해석해서 100이 아닌 200으로 지역변수 설정\n",
    "func4()  #g_var값이 없어서 오류가 남"
   ]
  },
  {
   "cell_type": "code",
   "execution_count": 43,
   "id": "51e187b1",
   "metadata": {},
   "outputs": [
    {
     "name": "stdout",
     "output_type": "stream",
     "text": [
      "함수 안(g_var): 100\n",
      "함수 밖(g_var) : 600\n"
     ]
    }
   ],
   "source": [
    "# 렉시컬 특성\n",
    "\n",
    "g_var = 100 #전역변수\n",
    "def func4():\n",
    "    global g_var #func4()함수내의 g_val는 전역변수를 쓰면 함수안에 지역변수가 전역변수가 된다는 정의 재정립\n",
    "    print('함수 안(g_var):', g_var)\n",
    "    g_var = 600  #지역 변수에서 전역변수로 변경\n",
    "func4()\n",
    "print('함수 밖(g_var) :', g_var)"
   ]
  },
  {
   "cell_type": "markdown",
   "id": "501da35b",
   "metadata": {},
   "source": [
    "## 1.4값에 의한 호출\n",
    "- 함수의 매개변수(인수 또는 인자)로 전달되는 변수가 스칼라 변수(문자, 숫자, 논리형)일 때 "
   ]
  },
  {
   "cell_type": "code",
   "execution_count": 50,
   "id": "5321c2c1",
   "metadata": {},
   "outputs": [
    {
     "data": {
      "text/plain": [
       "1648850528048"
      ]
     },
     "execution_count": 50,
     "metadata": {},
     "output_type": "execute_result"
    }
   ],
   "source": [
    "foo = 'a' #전역변수\n",
    "id(foo)"
   ]
  },
  {
   "cell_type": "code",
   "execution_count": 52,
   "id": "de7f490a",
   "metadata": {},
   "outputs": [
    {
     "name": "stdout",
     "output_type": "stream",
     "text": [
      "Before : a id(f) : 1648850528048\n",
      "After : aaa id(f) : 1648965949104\n"
     ]
    }
   ],
   "source": [
    "def func1(f): #매개변수(f)는 지역변수\n",
    "    print('Before :', f, 'id(f) :', id(f))\n",
    "    f = f*3\n",
    "    print('After :', f ,'id(f) :', id(f))\n",
    "func1(foo)"
   ]
  },
  {
   "cell_type": "code",
   "execution_count": 54,
   "id": "8011a3de",
   "metadata": {},
   "outputs": [
    {
     "name": "stdout",
     "output_type": "stream",
     "text": [
      "a id(foo) : 1648850528048\n"
     ]
    }
   ],
   "source": [
    "print(foo, 'id(foo) :', id(foo)) #주소가 아닌 값만 전달 "
   ]
  },
  {
   "cell_type": "markdown",
   "id": "eab8807b",
   "metadata": {},
   "source": [
    "## 1.5 참조에 의한 호출\n",
    "- 함수의 매개변수(인수 또는 인자)로 전달되는 변수가 리스트, 튜플, 딕셔너리, 셋, 객체(넌파이,판다스 등)일 경우"
   ]
  },
  {
   "cell_type": "code",
   "execution_count": 47,
   "id": "ea09b351",
   "metadata": {},
   "outputs": [
    {
     "data": {
      "text/plain": [
       "1648965982720"
      ]
     },
     "execution_count": 47,
     "metadata": {},
     "output_type": "execute_result"
    }
   ],
   "source": [
    "L = [1, 2, 3, 4, 5]\n",
    "id(L)"
   ]
  },
  {
   "cell_type": "code",
   "execution_count": 55,
   "id": "397c3939",
   "metadata": {},
   "outputs": [
    {
     "name": "stdout",
     "output_type": "stream",
     "text": [
      "Before : [1, 2, 3, 4, 5, 6] id(f) : 1648965982720\n",
      "After : [1, 2, 3, 4, 5, 6, 6] id(f) : 1648965982720\n"
     ]
    }
   ],
   "source": [
    "def func2(f): #매개변수(f)는 지역변수\n",
    "    print('Before :' , f, 'id(f) :', id(f))\n",
    "    #f = [2,2]   #이런것은 안 한다. 왜냐하면 앞에서 정의한 변수가 사라지기에.\n",
    "    f.append(6)\n",
    "    print('After :', f,'id(f) :', id(f))\n",
    "func2(L)"
   ]
  },
  {
   "cell_type": "code",
   "execution_count": 56,
   "id": "53452512",
   "metadata": {},
   "outputs": [
    {
     "name": "stdout",
     "output_type": "stream",
     "text": [
      "[1, 2, 3, 4, 5, 6, 6] L = 1648965982720\n"
     ]
    }
   ],
   "source": [
    "print(L, 'L =', id(L))"
   ]
  },
  {
   "cell_type": "markdown",
   "id": "4da92577",
   "metadata": {},
   "source": [
    "### 스칼라 데이터(immutable 객체)와mutable 객체 차이 \n",
    "<스칼라 데이터 타입 vs. 리스트>\n",
    "- 스칼라 데이터 타입 (int, float, str 등)은 immutable이라 값을 복사한 뒤 함수로 전달되고, 그 값은 함수 안에서만 유효하고 원본 값에는 영향을 미치지 않아.\n",
    "- \n",
    "\n",
    "- 리스트, 딕셔너리, 세트 같은 mutable 데이터 타입은 참조에 의한 호출처럼 동작해서, 함수 안에서 그 값을 변경하면 원본 값이 바뀌어.\n",
    "-append,pop등을 사용"
   ]
  },
  {
   "cell_type": "markdown",
   "id": "064d5cb5",
   "metadata": {},
   "source": [
    "# 2절. 함수의 실행결과를 반환하는 return\n",
    "- return뒤에 문법은 수행하지 않음.\n",
    "- "
   ]
  },
  {
   "cell_type": "code",
   "execution_count": 68,
   "id": "91996ff4",
   "metadata": {},
   "outputs": [],
   "source": [
    "def add(a):\n",
    "    pass"
   ]
  },
  {
   "cell_type": "code",
   "execution_count": 69,
   "id": "847909c6",
   "metadata": {},
   "outputs": [],
   "source": [
    "add(10)   #실행하면 아무값도 안 들어옴. "
   ]
  },
  {
   "cell_type": "code",
   "execution_count": 70,
   "id": "04f654e6",
   "metadata": {},
   "outputs": [
    {
     "name": "stdout",
     "output_type": "stream",
     "text": [
      "None\n"
     ]
    }
   ],
   "source": [
    "print(add(10)) #return이 없는값은 아무것도 없는 none이 남음"
   ]
  },
  {
   "cell_type": "code",
   "execution_count": 72,
   "id": "0409dca9",
   "metadata": {},
   "outputs": [],
   "source": [
    "def fibonacci_print(n):\n",
    "    '''\n",
    "    매개변수로 들어온 n값 미만의 피보나치 수열을 출력\n",
    "    ex) n=10이면 0 1 1 2 3 5 8 을 출력\n",
    "    '''\n",
    "    a, b = 0, 1\n",
    "    while a <n:   #a가 n보다 작으면 작업\n",
    "        print(a, end=' ')\n",
    "        a, b = b, a+b\n",
    "    print()   #개행은 무조건 뒤에 붙여줌 \n",
    "    #함수 영역에 있는것은 종료 뒤 a,b의 값은 사라짐 / 함수 안에 있는 변수는 삭제됨 "
   ]
  },
  {
   "cell_type": "code",
   "execution_count": 73,
   "id": "7bb1cc78",
   "metadata": {},
   "outputs": [],
   "source": [
    "def fibonacci_return(n):\n",
    "    '''\n",
    "    매개변수로 들어온 n값 미만의 피보나치 수열을 리스트로 return\n",
    "    ex) n=10이면 [0 1 1 2 3 5 8]을 return\n",
    "    '''\n",
    "    result = [] #리턴하는 변수가 있다면 젤 위에다 변수 작성\n",
    "    a, b = 0, 1\n",
    "    while a<n:\n",
    "        result.append(a)\n",
    "        a, b = b, a+b\n",
    "    return result       #하나만 리턴할 수 있음  "
   ]
  },
  {
   "cell_type": "code",
   "execution_count": 75,
   "id": "5bb39439",
   "metadata": {},
   "outputs": [],
   "source": [
    "x = fibonacci_return(10)"
   ]
  },
  {
   "cell_type": "code",
   "execution_count": 77,
   "id": "e15d24e8",
   "metadata": {},
   "outputs": [
    {
     "name": "stdout",
     "output_type": "stream",
     "text": [
      "[0, 1, 1, 2, 3, 5, 8]\n",
      "<class 'list'>\n"
     ]
    }
   ],
   "source": [
    "print(x)\n",
    "print(type(x))"
   ]
  },
  {
   "cell_type": "markdown",
   "id": "e445c267",
   "metadata": {},
   "source": [
    "## 여러개 값 return \n",
    "- 튜플로 패킹해서 전달하다."
   ]
  },
  {
   "cell_type": "code",
   "execution_count": 82,
   "id": "5ef88aac",
   "metadata": {},
   "outputs": [],
   "source": [
    "def swap(a, b):\n",
    "    '매개변수의 순서를 바꿔서 return'\n",
    "    return b,a  #튜플로 저장 "
   ]
  },
  {
   "cell_type": "code",
   "execution_count": 83,
   "id": "6e97448e",
   "metadata": {},
   "outputs": [
    {
     "name": "stdout",
     "output_type": "stream",
     "text": [
      "함수 실행 전 x=5, y=10\n",
      "함수 실행 후 x=10, y=5\n"
     ]
    }
   ],
   "source": [
    "x, y = 5, 10\n",
    "print(f'함수 실행 전 x={x}, y={y}')\n",
    "x, y = swap(x, y)  #swep(x,y) = (10,5)로 바뀜 \n",
    "print(f'함수 실행 후 x={x}, y={y}')"
   ]
  },
  {
   "cell_type": "markdown",
   "id": "cca84257",
   "metadata": {},
   "source": [
    "# ✨ 3절. 함수 매개변수 ✨\n",
    "- <매개변수와 인수의 순서>\n",
    "- 인수의 순서 : 순서인수, 튜플인수, 키워드 인수, 딕셔너리인수\n",
    "* 순서인수 : 순서대로 저장"
   ]
  },
  {
   "cell_type": "markdown",
   "id": "3a20f102",
   "metadata": {},
   "source": [
    "## 3.1  기본 값을 갖는 매개변수"
   ]
  },
  {
   "cell_type": "code",
   "execution_count": 94,
   "id": "c2558200",
   "metadata": {},
   "outputs": [],
   "source": [
    "def make_url(ip, port=80):   #80이 메인 사이트 , 80은 상수\n",
    "    return \"http://{}:{}\".format(ip,port)"
   ]
  },
  {
   "cell_type": "code",
   "execution_count": 90,
   "id": "a51786a8",
   "metadata": {},
   "outputs": [
    {
     "ename": "SyntaxError",
     "evalue": "non-default argument follows default argument (3497067061.py, line 1)",
     "output_type": "error",
     "traceback": [
      "\u001b[1;36m  Cell \u001b[1;32mIn[90], line 1\u001b[1;36m\u001b[0m\n\u001b[1;33m    def make_url(port=80, ip):   #순서가 바뀌면?\u001b[0m\n\u001b[1;37m                          ^\u001b[0m\n\u001b[1;31mSyntaxError\u001b[0m\u001b[1;31m:\u001b[0m non-default argument follows default argument\n"
     ]
    }
   ],
   "source": [
    "#디폴트값을 가지고 있는 매개변수와 없는걸 같이 쓸 때는 순서인수 > 기본값을 갖는 매개변수로 해야 됨. (ip, port=80 이렇게)\n",
    "def make_url(port=80, ip):   #순서가 바뀌면? 실행이 안 됨..\n",
    "    return \"http://{}:{}\".format(ip,port)"
   ]
  },
  {
   "cell_type": "code",
   "execution_count": 95,
   "id": "1838d316",
   "metadata": {},
   "outputs": [
    {
     "name": "stdout",
     "output_type": "stream",
     "text": [
      "http://www.naver.com:80\n",
      "http://localhost.co:8090\n",
      "http://localhost:8090\n"
     ]
    }
   ],
   "source": [
    "print(make_url('www.naver.com'))\n",
    "print(make_url('localhost.co', 8090))  #내가 지정할 수도 있음\n",
    "print(make_url(port=8090, ip='localhost')) #매개변수를 내가 지정한다면 순서는 의미없음. "
   ]
  },
  {
   "cell_type": "markdown",
   "id": "25b1c1e9",
   "metadata": {},
   "source": [
    "## 3.2 기본 변수를 갖는 매개변수\n",
    "- 기본 변수가 스칼라 변수일때 <함수가 정의되는 시점의 값으로 이동>\n",
    "- 기본 변수가 리스트나 셋이나, 딕셔너리 등의 객체일때 <호출하는 값으로 이동>\n",
    "\n",
    "- 튜플일때는 변할 수 없어서 상관없음\n"
   ]
  },
  {
   "cell_type": "code",
   "execution_count": 1,
   "id": "28fe1e66",
   "metadata": {},
   "outputs": [],
   "source": [
    "i = 5\n",
    "#기본값을 갖는 변수가 스칼라 변수일 때 : arg의 기본값은 함수가 정의되는 시점의 값.\n",
    "\n",
    "def func2(arg=i):\n",
    "    print('arg =', arg )"
   ]
  },
  {
   "cell_type": "code",
   "execution_count": 2,
   "id": "9d37114d",
   "metadata": {},
   "outputs": [
    {
     "name": "stdout",
     "output_type": "stream",
     "text": [
      "arg = 5\n"
     ]
    }
   ],
   "source": [
    "i = 50\n",
    "func2()"
   ]
  },
  {
   "cell_type": "code",
   "execution_count": 1,
   "id": "d7acc9b0",
   "metadata": {},
   "outputs": [],
   "source": [
    "list_ = []\n",
    "#기본값을 갖는 변수가 객체(데이터구조:리스트 등)일 때 : ars의 기본값은 실행(호출)되는 시점의 값.\n",
    "def func3(data, L=list_):\n",
    "    'data를 L에 append(list 1개 증가)'\n",
    "    L.append(data)\n",
    "    return L"
   ]
  },
  {
   "cell_type": "code",
   "execution_count": 3,
   "id": "fbb6c9b3",
   "metadata": {},
   "outputs": [
    {
     "name": "stdout",
     "output_type": "stream",
     "text": [
      "[10]\n"
     ]
    }
   ],
   "source": [
    "print(func3(10)) #list_가 수정이 됨. 빈리스트에서 "
   ]
  },
  {
   "cell_type": "code",
   "execution_count": 5,
   "id": "fc00486f",
   "metadata": {},
   "outputs": [
    {
     "name": "stdout",
     "output_type": "stream",
     "text": [
      "[10, 20]\n"
     ]
    }
   ],
   "source": [
    "print(func3(20))"
   ]
  },
  {
   "cell_type": "code",
   "execution_count": null,
   "id": "36cb5c0e",
   "metadata": {},
   "outputs": [],
   "source": [
    "def func4(data, L=None): #순서인수가 앞에\n",
    "    if L==None:\n",
    "        L = []\n",
    "    L.append(data)\n",
    "    return L\n",
    "    #L.append(data) 2번째 매개변수가 none이라서 오류"
   ]
  },
  {
   "cell_type": "code",
   "execution_count": null,
   "id": "ec50acdf",
   "metadata": {},
   "outputs": [],
   "source": [
    "print(func4(10))\n",
    "print(func4(10, list_))"
   ]
  },
  {
   "cell_type": "markdown",
   "id": "76dff7ca",
   "metadata": {},
   "source": [
    "## 3.3 튜플 매개변수를 이용한 가변인수 설정"
   ]
  },
  {
   "cell_type": "code",
   "execution_count": null,
   "id": "ce74e5f3",
   "metadata": {},
   "outputs": [],
   "source": [
    "# 파이썬은 오버로딩(함수의 중복)을 지원하지 않습니다.\n",
    "def add(a, b):\n",
    "    return a+b\n",
    "def add(a, b, c):\n",
    "    return a+b+c "
   ]
  },
  {
   "cell_type": "code",
   "execution_count": 13,
   "id": "0758944d",
   "metadata": {},
   "outputs": [],
   "source": [
    "#*args:매개변수들을 하나의 튜플변수 args로 전달받음\n",
    "def add(*args):\n",
    "    '전달받은 매개변수들의 합을 return'\n",
    "    #print('args =',args)\n",
    "\n",
    "    result_tot = 0 #누적변수\n",
    "    for data in args:\n",
    "        result_tot += data\n",
    "    return result_tot\n",
    "    \n",
    "#add(1,2,3,4,5,6)"
   ]
  },
  {
   "cell_type": "code",
   "execution_count": 16,
   "id": "8529b3e6",
   "metadata": {},
   "outputs": [
    {
     "name": "stdout",
     "output_type": "stream",
     "text": [
      "1\n",
      "3\n",
      "78\n"
     ]
    }
   ],
   "source": [
    "print(add(1))\n",
    "print(add(1,2))\n",
    "print(add(1,2,3,5,67,))"
   ]
  },
  {
   "cell_type": "code",
   "execution_count": 17,
   "id": "d517bbcb",
   "metadata": {},
   "outputs": [
    {
     "data": {
      "text/plain": [
       "'python/oracle/DL/ML'"
      ]
     },
     "execution_count": 17,
     "metadata": {},
     "output_type": "execute_result"
    }
   ],
   "source": [
    "subject = ('python', 'oracle','DL', 'ML')\n",
    "'/'.join(subject)"
   ]
  },
  {
   "cell_type": "code",
   "execution_count": 19,
   "id": "48f8ba3a",
   "metadata": {},
   "outputs": [],
   "source": [
    "def concat(*subject, sep):  #* 매개변수 여러개를 받을 수 있다?\n",
    "    return sep.join(subject)"
   ]
  },
  {
   "cell_type": "code",
   "execution_count": 20,
   "id": "06d77447",
   "metadata": {},
   "outputs": [
    {
     "ename": "TypeError",
     "evalue": "concat() missing 1 required keyword-only argument: 'sep'",
     "output_type": "error",
     "traceback": [
      "\u001b[1;31m---------------------------------------------------------------------------\u001b[0m",
      "\u001b[1;31mTypeError\u001b[0m                                 Traceback (most recent call last)",
      "Cell \u001b[1;32mIn[20], line 1\u001b[0m\n\u001b[1;32m----> 1\u001b[0m \u001b[43mconcat\u001b[49m\u001b[43m(\u001b[49m\u001b[38;5;124;43m'\u001b[39;49m\u001b[38;5;124;43mpython\u001b[39;49m\u001b[38;5;124;43m'\u001b[39;49m\u001b[43m,\u001b[49m\u001b[43m \u001b[49m\u001b[38;5;124;43m'\u001b[39;49m\u001b[38;5;124;43moracle\u001b[39;49m\u001b[38;5;124;43m'\u001b[39;49m\u001b[43m,\u001b[49m\u001b[38;5;124;43m'\u001b[39;49m\u001b[38;5;124;43mDL\u001b[39;49m\u001b[38;5;124;43m'\u001b[39;49m\u001b[43m,\u001b[49m\u001b[43m \u001b[49m\u001b[38;5;124;43m'\u001b[39;49m\u001b[38;5;124;43mML\u001b[39;49m\u001b[38;5;124;43m'\u001b[39;49m\u001b[43m,\u001b[49m\u001b[38;5;124;43m'\u001b[39;49m\u001b[38;5;124;43m/\u001b[39;49m\u001b[38;5;124;43m'\u001b[39;49m\u001b[43m)\u001b[49m\n",
      "\u001b[1;31mTypeError\u001b[0m: concat() missing 1 required keyword-only argument: 'sep'"
     ]
    }
   ],
   "source": [
    "concat('python', 'oracle','DL', 'ML','/')"
   ]
  },
  {
   "cell_type": "code",
   "execution_count": 22,
   "id": "4622b849",
   "metadata": {},
   "outputs": [
    {
     "name": "stdout",
     "output_type": "stream",
     "text": [
      "python oracle DL ML /\n"
     ]
    }
   ],
   "source": [
    "print('python', 'oracle','DL', 'ML','/')"
   ]
  },
  {
   "cell_type": "code",
   "execution_count": 23,
   "id": "96ddcf0e",
   "metadata": {},
   "outputs": [
    {
     "data": {
      "text/plain": [
       "'python/oracle/DL/ML'"
      ]
     },
     "execution_count": 23,
     "metadata": {},
     "output_type": "execute_result"
    }
   ],
   "source": [
    "#(비추)해결책1 : 매개변수 이름을 지정해서 호출\n",
    "concat('python', 'oracle','DL', 'ML',sep='/')"
   ]
  },
  {
   "cell_type": "code",
   "execution_count": 49,
   "id": "cdc97411",
   "metadata": {},
   "outputs": [],
   "source": [
    "#해결책2 :기본값을 갖는 키워드인수 사용 / 키워드인수가 없으면 안됨. / 키워드 인수가 뒤에 있어야 함. \n",
    "def concat (*subject, sep='~'):  #기본값을 가진 키워드앞에 \n",
    "    return sep.join(subject)"
   ]
  },
  {
   "cell_type": "code",
   "execution_count": 28,
   "id": "e928e043",
   "metadata": {},
   "outputs": [
    {
     "name": "stdout",
     "output_type": "stream",
     "text": [
      "python oracle DL ML /\n"
     ]
    }
   ],
   "source": [
    "print('python', 'oracle','DL', 'ML',sep='/') #"
   ]
  },
  {
   "cell_type": "code",
   "execution_count": 42,
   "id": "c7108489",
   "metadata": {},
   "outputs": [],
   "source": [
    "#해결책3 : sep을 순서인수로 앞에 선언. \n",
    "def concap(sep=' ~ ', *subject): #여기서 sep은 순서인수, 기본값을 가지게 하면 안됨....무의미해짐\n",
    "    return sep.join(subject)"
   ]
  },
  {
   "cell_type": "code",
   "execution_count": 48,
   "id": "054a883a",
   "metadata": {},
   "outputs": [
    {
     "data": {
      "text/plain": [
       "'python/oracle/DL/ML'"
      ]
     },
     "execution_count": 48,
     "metadata": {},
     "output_type": "execute_result"
    }
   ],
   "source": [
    "concap('/', 'python', 'oracle','DL', 'ML') #'/'첫번째 매개변수 생략이 안 됨. "
   ]
  },
  {
   "cell_type": "markdown",
   "id": "f59fcf95",
   "metadata": {},
   "source": [
    "## 3.4 딕셔너리 매개변수\n",
    "- 여러개의 키워드인수를 딕셔너리 형태로 받아서 가변키워드 인수로 처리"
   ]
  },
  {
   "cell_type": "code",
   "execution_count": 53,
   "id": "919cfbee",
   "metadata": {},
   "outputs": [],
   "source": [
    "def func5(kwargs):        #여기서 kwargs는 순서인수 \n",
    "    print(kwargs)"
   ]
  },
  {
   "cell_type": "code",
   "execution_count": 57,
   "id": "2eefcc1a",
   "metadata": {},
   "outputs": [
    {
     "ename": "TypeError",
     "evalue": "func5() got an unexpected keyword argument 'name'",
     "output_type": "error",
     "traceback": [
      "\u001b[1;31m---------------------------------------------------------------------------\u001b[0m",
      "\u001b[1;31mTypeError\u001b[0m                                 Traceback (most recent call last)",
      "Cell \u001b[1;32mIn[57], line 1\u001b[0m\n\u001b[1;32m----> 1\u001b[0m \u001b[43mfunc5\u001b[49m\u001b[43m(\u001b[49m\u001b[43mname\u001b[49m\u001b[38;5;241;43m=\u001b[39;49m\u001b[38;5;124;43m'\u001b[39;49m\u001b[38;5;124;43m홍길동\u001b[39;49m\u001b[38;5;124;43m'\u001b[39;49m\u001b[43m,\u001b[49m\u001b[43m \u001b[49m\u001b[43mage\u001b[49m\u001b[38;5;241;43m=\u001b[39;49m\u001b[38;5;241;43m30\u001b[39;49m\u001b[43m,\u001b[49m\u001b[43m \u001b[49m\u001b[43maddres\u001b[49m\u001b[38;5;241;43m=\u001b[39;49m\u001b[38;5;124;43m'\u001b[39;49m\u001b[38;5;124;43m신림동\u001b[39;49m\u001b[38;5;124;43m'\u001b[39;49m\u001b[43m,\u001b[49m\u001b[43m \u001b[49m\u001b[43mphone\u001b[49m\u001b[38;5;241;43m=\u001b[39;49m\u001b[38;5;124;43m'\u001b[39;49m\u001b[38;5;124;43m010\u001b[39;49m\u001b[38;5;124;43m'\u001b[39;49m\u001b[43m)\u001b[49m\n",
      "\u001b[1;31mTypeError\u001b[0m: func5() got an unexpected keyword argument 'name'"
     ]
    }
   ],
   "source": [
    "func5(name='홍길동', age=30, addres='신림동', phone='010') #이렇게 하면 오류 발생"
   ]
  },
  {
   "cell_type": "code",
   "execution_count": 60,
   "id": "c3009444",
   "metadata": {},
   "outputs": [],
   "source": [
    "def func5(**kwargs):        #여기서 **kwargs \n",
    "    print(kwargs)\n",
    "    print(type(kwargs))\n",
    "    print('이름 :',kwargs.get('name', '대마왕'))\n",
    "    print('나이 :',kwargs.get('age', '20'))\n",
    "    print('주소 :',kwargs.get('addres', '봉천동'))\n",
    "    print('전화 :',kwargs.get('phone', '02'))"
   ]
  },
  {
   "cell_type": "code",
   "execution_count": 64,
   "id": "c7f781cd",
   "metadata": {},
   "outputs": [
    {
     "name": "stdout",
     "output_type": "stream",
     "text": [
      "{'name': '홍길동', 'age': 30, 'addres': '신림동', 'phone': '010'}\n",
      "<class 'dict'>\n",
      "이름 : 홍길동\n",
      "나이 : 30\n",
      "주소 : 신림동\n",
      "전화 : 010\n"
     ]
    }
   ],
   "source": [
    "func5(name='홍길동', age=30, addres='신림동', phone='010') "
   ]
  },
  {
   "cell_type": "markdown",
   "id": "d8bdb65f",
   "metadata": {},
   "source": [
    "## 3.5 함수정의시 매개변수 순서\n",
    "- (순서) 순서인수>튜플매개변수(*별 1개 작성)>키워드매개변수(매개변수 이름 명시 필수)>딕셔너리매개변수(** 별2개 작성)\n",
    "- 순서인수 : 변수 이름만 있는것 \n",
    "- 튜플인수(매개변수) : ※ 순서인수랑 같이 있으면 순서인수가 앞으로 나와야 함.\n",
    "- 키워드인수 : \n",
    "- 딕셔너리인수"
   ]
  },
  {
   "cell_type": "code",
   "execution_count": 66,
   "id": "7eccbb3c",
   "metadata": {},
   "outputs": [],
   "source": [
    "def func6(a, b, *c, **d):\n",
    "    print('순서인수 :', a)\n",
    "    print('순서인수 :', b)\n",
    "    print('튜플인수 :', c)\n",
    "    print('딕셔너리 인수 :', d)"
   ]
  },
  {
   "cell_type": "code",
   "execution_count": 67,
   "id": "fd47fbfd",
   "metadata": {},
   "outputs": [
    {
     "name": "stdout",
     "output_type": "stream",
     "text": [
      "순서인수 : 10\n",
      "순서인수 : 20\n",
      "튜플인수 : (1, 2, 3, 4, 5, 6, 7)\n",
      "딕셔너리 인수 : {'name': '홍길동', 'age': 30, 'address': '서울'}\n"
     ]
    }
   ],
   "source": [
    "func6(10,20,1,2,3,4,5,6,7, name='홍길동', age=30, address='서울')"
   ]
  },
  {
   "cell_type": "code",
   "execution_count": 68,
   "id": "d31085e8",
   "metadata": {},
   "outputs": [],
   "source": [
    "def func7(a, b, *c, d='기본값', **e):\n",
    "    print('순서인수 :', a)\n",
    "    print('순서인수 :', b)\n",
    "    print('튜플인수 :', c)\n",
    "    print('키워드 인수(기본값을 갖는 인수, 호출시 매개변수 이름 방드시 명시) :', d)\n",
    "    print('딕셔너리 인수 :', e)"
   ]
  },
  {
   "cell_type": "code",
   "execution_count": 72,
   "id": "abc0224d",
   "metadata": {},
   "outputs": [
    {
     "name": "stdout",
     "output_type": "stream",
     "text": [
      "순서인수 : 10\n",
      "순서인수 : 20\n",
      "튜플인수 : (1, 2, 5, 7, 2, 1)\n",
      "키워드 인수(기본값을 갖는 인수, 호출시 매개변수 이름 방드시 명시) : 딴거\n",
      "딕셔너리 인수 : {'naem': '홍길동', 'number': '2', 'color': 'red'}\n"
     ]
    }
   ],
   "source": [
    "func7(10,20,1,2,5,7,2,1, d='딴거', naem='홍길동', number='2', color='red') #d=이후 기본값으로 변경 "
   ]
  },
  {
   "cell_type": "code",
   "execution_count": 73,
   "id": "6f3f1424",
   "metadata": {},
   "outputs": [
    {
     "name": "stdout",
     "output_type": "stream",
     "text": [
      "순서인수 : 10\n",
      "순서인수 : 20\n",
      "튜플인수 : (1, 2, 5, 7, 2, 1, '딴거')\n",
      "키워드 인수(기본값을 갖는 인수, 호출시 매개변수 이름 방드시 명시) : 기본값\n",
      "딕셔너리 인수 : {'naem': '홍길동', 'number': '2', 'color': 'red'}\n"
     ]
    }
   ],
   "source": [
    "func7(10,20,1,2,5,7,2,1,'딴거', naem='홍길동', number='2', color='red') \n",
    "#d=를 빼면 '딴거'가 튜플인수에 포함되고 d=에는 기본값이 나타남"
   ]
  },
  {
   "cell_type": "markdown",
   "id": "2199e664",
   "metadata": {},
   "source": [
    "## 3.6 인수의 언패킹\n",
    "### 튜플 인수 언패킹 \n",
    "\n",
    "- 함수 호출시 매개변수앞에 *(애스터리스크)붙임\n",
    "- 패킹 : 함수 호출 시 매개변수 앞에 *붙임(튜플매개변수)"
   ]
  },
  {
   "cell_type": "code",
   "execution_count": 80,
   "id": "a5bdc156",
   "metadata": {},
   "outputs": [],
   "source": [
    "def add(*args):\n",
    "    print(args)\n",
    "    tot = 0\n",
    "    for num in args:\n",
    "        tot += num\n",
    "    return tot"
   ]
  },
  {
   "cell_type": "code",
   "execution_count": 84,
   "id": "7dfc9f58",
   "metadata": {},
   "outputs": [
    {
     "name": "stdout",
     "output_type": "stream",
     "text": [
      "(1, 2, 3, 4)\n"
     ]
    },
    {
     "data": {
      "text/plain": [
       "10"
      ]
     },
     "execution_count": 84,
     "metadata": {},
     "output_type": "execute_result"
    }
   ],
   "source": [
    "add (1, 2, 3, 4)"
   ]
  },
  {
   "cell_type": "code",
   "execution_count": 85,
   "id": "ddc20326",
   "metadata": {},
   "outputs": [
    {
     "name": "stdout",
     "output_type": "stream",
     "text": [
      "(1, 2, 3, 4)\n"
     ]
    },
    {
     "data": {
      "text/plain": [
       "10"
      ]
     },
     "execution_count": 85,
     "metadata": {},
     "output_type": "execute_result"
    }
   ],
   "source": [
    "numbers = (1, 2, 3, 4)\n",
    "add(*numbers) #언패킹됨 (리스트나 튜플 다 언패킹)"
   ]
  },
  {
   "cell_type": "code",
   "execution_count": 87,
   "id": "b369a3cb",
   "metadata": {},
   "outputs": [
    {
     "name": "stdout",
     "output_type": "stream",
     "text": [
      "(1, 2, 3, 4, 5, 6, 7)\n"
     ]
    },
    {
     "data": {
      "text/plain": [
       "28"
      ]
     },
     "execution_count": 87,
     "metadata": {},
     "output_type": "execute_result"
    }
   ],
   "source": [
    "numbers = (1,2,3,4,5,6,7)\n",
    "add(*numbers)"
   ]
  },
  {
   "cell_type": "markdown",
   "id": "103e7b83",
   "metadata": {},
   "source": [
    "### 딕셔너리 인수 언패킹\n",
    "- 언패킹 : 함수 호출시 매개변수앞에 ** (애스터리스크) 붙임  \n",
    "- 패킹 : 함수 정의 시 매개변수 앞에 ** 붙임"
   ]
  },
  {
   "cell_type": "code",
   "execution_count": 88,
   "id": "7ff0aa8b",
   "metadata": {},
   "outputs": [],
   "source": [
    "def func5(**data):\n",
    "    print(type(data))\n",
    "    for key, item in data.items():\n",
    "        print(f'{key}:{item}')"
   ]
  },
  {
   "cell_type": "code",
   "execution_count": 89,
   "id": "926e3139",
   "metadata": {},
   "outputs": [
    {
     "name": "stdout",
     "output_type": "stream",
     "text": [
      "<class 'dict'>\n",
      "name:홍길동\n",
      "age:30\n",
      "address:신림동\n"
     ]
    }
   ],
   "source": [
    "func5(name=\"홍길동\", age=30, address='신림동')"
   ]
  },
  {
   "cell_type": "code",
   "execution_count": 92,
   "id": "4ff93e1c",
   "metadata": {},
   "outputs": [
    {
     "name": "stdout",
     "output_type": "stream",
     "text": [
      "<class 'dict'>\n",
      "name:홍길동\n",
      "age:30\n",
      "address:서울시 강남구\n",
      "score:900\n"
     ]
    }
   ],
   "source": [
    "customInfo = {'name':'홍길동','age':30,'address':'서울시 강남구','score':900}\n",
    "func5(**customInfo)"
   ]
  },
  {
   "cell_type": "markdown",
   "id": "3f3e13dc",
   "metadata": {},
   "source": [
    "# 4절. 람다식(lambda)\n",
    "- return 한줄짜리 작은 익명함수\n",
    "\n",
    "\n",
    "## 4.1 람다식 연습\n"
   ]
  },
  {
   "cell_type": "code",
   "execution_count": 94,
   "id": "667bd1cc",
   "metadata": {},
   "outputs": [
    {
     "data": {
      "text/plain": [
       "7"
      ]
     },
     "execution_count": 94,
     "metadata": {},
     "output_type": "execute_result"
    }
   ],
   "source": [
    "def add(a, b):\n",
    "    return a+b\n",
    "add(3,4)"
   ]
  },
  {
   "cell_type": "code",
   "execution_count": 95,
   "id": "ea2a3ba6",
   "metadata": {},
   "outputs": [
    {
     "data": {
      "text/plain": [
       "7"
      ]
     },
     "execution_count": 95,
     "metadata": {},
     "output_type": "execute_result"
    }
   ],
   "source": [
    "          #매개변수 a,b  \n",
    "add2 = lambda a, b : a+b\n",
    "add2(3,4)"
   ]
  },
  {
   "cell_type": "code",
   "execution_count": 97,
   "id": "f8ab97a0",
   "metadata": {},
   "outputs": [
    {
     "data": {
      "text/plain": [
       "(function, function)"
      ]
     },
     "execution_count": 97,
     "metadata": {},
     "output_type": "execute_result"
    }
   ],
   "source": [
    "type(add), type(add2)"
   ]
  },
  {
   "cell_type": "code",
   "execution_count": 98,
   "id": "0e093155",
   "metadata": {},
   "outputs": [
    {
     "data": {
      "text/plain": [
       "7"
      ]
     },
     "execution_count": 98,
     "metadata": {},
     "output_type": "execute_result"
    }
   ],
   "source": [
    "(lambda a, b : a+b)(3,4)"
   ]
  },
  {
   "cell_type": "code",
   "execution_count": 99,
   "id": "b8c22176",
   "metadata": {},
   "outputs": [
    {
     "data": {
      "text/plain": [
       "8"
      ]
     },
     "execution_count": 99,
     "metadata": {},
     "output_type": "execute_result"
    }
   ],
   "source": [
    "(lambda a, b : a*b)(2,4)"
   ]
  },
  {
   "cell_type": "code",
   "execution_count": 107,
   "id": "e071c786",
   "metadata": {},
   "outputs": [
    {
     "data": {
      "text/plain": [
       "2"
      ]
     },
     "execution_count": 107,
     "metadata": {},
     "output_type": "execute_result"
    }
   ],
   "source": [
    "(lambda a,b : a//b)(20,7)"
   ]
  },
  {
   "cell_type": "code",
   "execution_count": null,
   "id": "75537cc6",
   "metadata": {},
   "outputs": [],
   "source": [
    "#if 문으로 아래 문제 작성 "
   ]
  },
  {
   "cell_type": "code",
   "execution_count": 131,
   "id": "8a60e248",
   "metadata": {},
   "outputs": [
    {
     "data": {
      "text/plain": [
       "('짝수', '짝수')"
      ]
     },
     "execution_count": 131,
     "metadata": {},
     "output_type": "execute_result"
    }
   ],
   "source": [
    "# ex1. 매개변수를 받아서 들어온 값이 \"짝수\"인지 \"홀수\"인지 return \n",
    "def ex1(num):\n",
    "    return \"홀수\" if num%2 else \"짝수\"\n",
    "ex1 = lambda num : \"홀수\" if num%2 else \"짝수\"\n",
    "ex1(10),ex1(2)"
   ]
  },
  {
   "cell_type": "code",
   "execution_count": null,
   "id": "441e3589",
   "metadata": {},
   "outputs": [],
   "source": [
    "# ex1. 매개변수를 받아서 들어온 값이 \"짝수\"인지 \"홀수\"인지 return \n",
    "#def ex1(num):\n",
    "#    if num%2:\n",
    "#        result = \"홀수\"       \n",
    "#    else:\n",
    "#        result = \"홀수\"\n",
    "#    return result"
   ]
  },
  {
   "cell_type": "code",
   "execution_count": 17,
   "id": "f23c6d9f",
   "metadata": {},
   "outputs": [
    {
     "data": {
      "text/plain": [
       "170"
      ]
     },
     "execution_count": 17,
     "metadata": {},
     "output_type": "execute_result"
    }
   ],
   "source": [
    "# ex 2. 두 매개변수의 차이를 return (*첫번째 매개변수가 클 수도 있고 작은수일수도 있고, 큰수-작은수)\n",
    "#성미 풀이\n",
    "\n",
    "def ex2(first, second):\n",
    "    if first < second: \n",
    "        first, second = second, first               #큰 숫자와 작은 수 바꾸기 \n",
    "    result = first - second\n",
    "    return result\n",
    "\n",
    "ex2(20,190)"
   ]
  },
  {
   "cell_type": "code",
   "execution_count": 18,
   "id": "671a324a",
   "metadata": {},
   "outputs": [
    {
     "data": {
      "text/plain": [
       "(1, 10)"
      ]
     },
     "execution_count": 18,
     "metadata": {},
     "output_type": "execute_result"
    }
   ],
   "source": [
    "#선생님 풀이\n",
    "def diff(a, b):\n",
    "    if a>b:\n",
    "        result = a-b\n",
    "    else:\n",
    "        result = b-a\n",
    "    return result\n",
    "diff(2,1), diff(10,20)"
   ]
  },
  {
   "cell_type": "code",
   "execution_count": null,
   "id": "c6e3509b",
   "metadata": {},
   "outputs": [],
   "source": [
    "def diff(a, b):\n",
    "    result = a-b if a>b else b-a "
   ]
  },
  {
   "cell_type": "code",
   "execution_count": 20,
   "id": "93babfac",
   "metadata": {},
   "outputs": [
    {
     "data": {
      "text/plain": [
       "(1, 10)"
      ]
     },
     "execution_count": 20,
     "metadata": {},
     "output_type": "execute_result"
    }
   ],
   "source": [
    "ex2 = lambda a, b : a-b if a>b else b-a\n",
    "ex2(2,1), ex2(10,20)"
   ]
  },
  {
   "cell_type": "code",
   "execution_count": 110,
   "id": "f659fe2a",
   "metadata": {},
   "outputs": [],
   "source": [
    "# ex 3. 매개변수로 잔액을 받아 양수면 잔액을 return , 음수면 \"땡\"을 return \n",
    "\n",
    "def raf(a):\n",
    "    if a>0:\n",
    "        re\n",
    "    else:\n",
    "        prin"
   ]
  },
  {
   "cell_type": "code",
   "execution_count": 21,
   "id": "95f6bc97",
   "metadata": {},
   "outputs": [
    {
     "data": {
      "text/plain": [
       "(1000, '땡')"
      ]
     },
     "execution_count": 21,
     "metadata": {},
     "output_type": "execute_result"
    }
   ],
   "source": [
    "ex3 = lambda money : money if money>=0 else '땡'\n",
    "ex3(1000), ex3(-100)"
   ]
  },
  {
   "cell_type": "code",
   "execution_count": 29,
   "id": "d0cc8e7b",
   "metadata": {},
   "outputs": [
    {
     "data": {
      "text/plain": [
       "('유효하지않은 점수', '재시험')"
      ]
     },
     "execution_count": 29,
     "metadata": {},
     "output_type": "execute_result"
    }
   ],
   "source": [
    "# ex 4. 점수를 입력받아  80점 이상은 'A'그룹, 60점 이상은 'B'그룹, 60점 미만은 '재시험'. 그외는 유효하지 않음을 출력\n",
    "ex4 = lambda grade : 'A' if 100>=grade >=80 else \\\n",
    "                    'B' if 80>grade>=60 else \\\n",
    "                    '재시험' if 60>grade>0 else \\\n",
    "                    \"유효하지않은 점수\" \n",
    "ex4(120),ex4(20)"
   ]
  },
  {
   "cell_type": "code",
   "execution_count": 31,
   "id": "164f7943",
   "metadata": {},
   "outputs": [
    {
     "data": {
      "text/plain": [
       "(-1, 1)"
      ]
     },
     "execution_count": 31,
     "metadata": {},
     "output_type": "execute_result"
    }
   ],
   "source": [
    "# ex 5. safe_index를 람다식으로 만들기\n",
    "ex5 = lambda vector, data : vector.index(data) if data in vector else -1\n",
    "tup = (1, 2, 3)\n",
    "ex5(tup,4), ex5(tup, 2)"
   ]
  },
  {
   "cell_type": "code",
   "execution_count": null,
   "id": "034b4591",
   "metadata": {},
   "outputs": [],
   "source": [
    "#def safe_index(vector, data):\n",
    "#    if data in vector: # lst안에 data 있는지 여부\n",
    "#        return vector.index(data)\n",
    "#    else:\n",
    "#        return -1"
   ]
  },
  {
   "cell_type": "markdown",
   "id": "f3ca7900",
   "metadata": {},
   "source": [
    "## 4.2 람다식 예제 (함수의 매개변수에 람다식 이용)\n",
    "    def func(fun, data):\n",
    "        명령어\n",
    "        map(func,iterble): iterable은 백터데이터 넣기 \n",
    "### (1)map \n",
    "- 어디든지 들어가서 쓸 수 있음\n",
    "- map 처리 (가공) : [1,2,3,4,5,6] => [2,4,6,8,10,12] (백터의 모든 데이터를 가공)"
   ]
  },
  {
   "cell_type": "code",
   "execution_count": 25,
   "id": "016914d6",
   "metadata": {},
   "outputs": [],
   "source": [
    "# 리스트 데이터를 가공 방법 1.map\n",
    "def map_tamplate(func, L=[]):\n",
    "    '''\n",
    "    L의 모든 요소를 func()함수를 적용시켜 reteurn\n",
    "    [2, 4, 6] [func(1) for l in L]\n",
    "    '''\n",
    "    result = []\n",
    "    for l in L:\n",
    "        result.append(func(l))\n",
    "    return result \n",
    "#    return [func(1) for l in L]"
   ]
  },
  {
   "cell_type": "code",
   "execution_count": 26,
   "id": "f9068c82",
   "metadata": {},
   "outputs": [
    {
     "data": {
      "text/plain": [
       "[2, 4, 6, 8, 10, 12, 14, 16, 18, 20]"
      ]
     },
     "execution_count": 26,
     "metadata": {},
     "output_type": "execute_result"
    }
   ],
   "source": [
    "#리스트 데이터를 가공하는 방법 2.리스트 컴프리헨션\n",
    "list_data = [1, 2, 3, 4, 5, 6, 7, 8, 9, 10]\n",
    "map_tamplate(lambda x : x*2, list_data)"
   ]
  },
  {
   "cell_type": "code",
   "execution_count": 30,
   "id": "826eb957",
   "metadata": {},
   "outputs": [
    {
     "data": {
      "text/plain": [
       "<map at 0x2147b442e60>"
      ]
     },
     "execution_count": 30,
     "metadata": {},
     "output_type": "execute_result"
    }
   ],
   "source": [
    "# 리스트 데이터를 가공 방법 3.map():파이썬 내장함수\n",
    "map(lambda x : x*2,list_data)"
   ]
  },
  {
   "cell_type": "code",
   "execution_count": null,
   "id": "7156f846",
   "metadata": {},
   "outputs": [],
   "source": [
    "#리스트 \n"
   ]
  },
  {
   "cell_type": "code",
   "execution_count": 32,
   "id": "291ddf38",
   "metadata": {},
   "outputs": [
    {
     "name": "stdout",
     "output_type": "stream",
     "text": [
      "2 4 6 8 10 12 14 16 18 20 "
     ]
    },
    {
     "data": {
      "text/plain": [
       "[2, 4, 6, 8, 10, 12, 14, 16, 18, 20]"
      ]
     },
     "execution_count": 32,
     "metadata": {},
     "output_type": "execute_result"
    }
   ],
   "source": [
    "for item in map(lambda x : x*2, list_data):\n",
    "    print(item, end=\" \")\n",
    "list(map(lambda x : x*2,list_data))"
   ]
  },
  {
   "cell_type": "code",
   "execution_count": 45,
   "id": "1e8cff2e",
   "metadata": {},
   "outputs": [
    {
     "name": "stdout",
     "output_type": "stream",
     "text": [
      "[5000, 800, 1000, 6000]\n"
     ]
    }
   ],
   "source": [
    "'''\n",
    "예시 1. prices = [5000,800,1000,6000]로 변경 \n",
    "'''\n",
    "\n",
    "prices = ['5,000', '800', '1000','6,000']\n",
    "\n",
    "temp = [int(prices.replace(',','')) for prices in prices]\n",
    "print(temp)"
   ]
  },
  {
   "cell_type": "code",
   "execution_count": 63,
   "id": "6115951e",
   "metadata": {},
   "outputs": [
    {
     "ename": "ValueError",
     "evalue": "invalid literal for int() with base 10: ' '",
     "output_type": "error",
     "traceback": [
      "\u001b[1;31m---------------------------------------------------------------------------\u001b[0m",
      "\u001b[1;31mValueError\u001b[0m                                Traceback (most recent call last)",
      "Cell \u001b[1;32mIn[63], line 1\u001b[0m\n\u001b[1;32m----> 1\u001b[0m \u001b[38;5;28;43mint\u001b[39;49m\u001b[43m(\u001b[49m\u001b[38;5;124;43m\"\u001b[39;49m\u001b[38;5;124;43m \u001b[39;49m\u001b[38;5;124;43m\"\u001b[39;49m\u001b[43m)\u001b[49m\n",
      "\u001b[1;31mValueError\u001b[0m: invalid literal for int() with base 10: ' '"
     ]
    }
   ],
   "source": [
    "int(\" \")            #에러남,,,,"
   ]
  },
  {
   "cell_type": "code",
   "execution_count": 68,
   "id": "1a35a262",
   "metadata": {},
   "outputs": [
    {
     "name": "stdout",
     "output_type": "stream",
     "text": [
      "5,000\n"
     ]
    }
   ],
   "source": [
    "def func(x):\n",
    "    return int(x.replace(',', ''))\n",
    "print(\"5,000\")"
   ]
  },
  {
   "cell_type": "code",
   "execution_count": 70,
   "id": "cb0542ad",
   "metadata": {},
   "outputs": [
    {
     "data": {
      "text/plain": [
       "[5000, 800, 1000, 6000]"
      ]
     },
     "execution_count": 70,
     "metadata": {},
     "output_type": "execute_result"
    }
   ],
   "source": [
    "list(map(lambda x : int(x.replace(',', '')), prices))"
   ]
  },
  {
   "cell_type": "code",
   "execution_count": 125,
   "id": "b317757d",
   "metadata": {},
   "outputs": [],
   "source": [
    "member1 = [{'name':'홍길동', 'birth':'2000-01-01'},\n",
    "         {'name':'신길동', 'birth':'1998-12-31'}]"
   ]
  },
  {
   "cell_type": "code",
   "execution_count": 126,
   "id": "8094dabb",
   "metadata": {},
   "outputs": [
    {
     "data": {
      "text/plain": [
       "\"\\n예시2. member1 = [{'name':'홍길동', 'birth':'2000-01-01'},\\n                {'name':'신길동', 'birth':'1998-12-31'}]\\n    member2 = [{'name':'홍길동', 'year':2000, 'month':1, 'day':1}],\\n                {'name':'신길동', 'year':1998, 'month':12, 'day':31}] \\n\""
      ]
     },
     "execution_count": 126,
     "metadata": {},
     "output_type": "execute_result"
    }
   ],
   "source": [
    "'''\n",
    "예시2. member1 = [{'name':'홍길동', 'birth':'2000-01-01'},\n",
    "                {'name':'신길동', 'birth':'1998-12-31'}]\n",
    "    member2 = [{'name':'홍길동', 'year':2000, 'month':1, 'day':1}],\n",
    "                {'name':'신길동', 'year':1998, 'month':12, 'day':31}] \n",
    "'''\n",
    "#년, 월, 일 분리 필요 (split)\n",
    "# year추가 , month 추가, day 추가 \n",
    "#member1 = [{'name':'홍길동', 'birth':'2000-01-01'},\n",
    "#           {'name':'신길동', 'birth':'1998-12-31'}]\n",
    "#member2= [{\n",
    "#    \"name\" : 신길동\n",
    "#    'year' : int(member1.split[-][0])\n",
    "#    'month': int(meber1.split[-][1])\n",
    "#    'day' : int(member1.split[-][2])\n",
    "#}]\n",
    "\n",
    "#print(member2)"
   ]
  },
  {
   "cell_type": "code",
   "execution_count": 127,
   "id": "93932057",
   "metadata": {},
   "outputs": [],
   "source": [
    "# 2000-01-01 → {'year':1998, 'month':12, 'day':31}\n",
    "def split_data(data):\n",
    "    split_data = data.split('-')\n",
    "    #print(split_data[0],split_data[1],split_data[2])\n",
    "    return {'year' : int(split_data[0]),\n",
    "            'month': int(split_data[1]),\n",
    "            'day'  : int(split_data[2])}"
   ]
  },
  {
   "cell_type": "code",
   "execution_count": 128,
   "id": "fca1fdfe",
   "metadata": {},
   "outputs": [
    {
     "data": {
      "text/plain": [
       "{'year': 2000, 'month': 1, 'day': 1}"
      ]
     },
     "execution_count": 128,
     "metadata": {},
     "output_type": "execute_result"
    }
   ],
   "source": [
    "split_data('2000-01-01')"
   ]
  },
  {
   "cell_type": "code",
   "execution_count": 129,
   "id": "dcb69e4e",
   "metadata": {},
   "outputs": [
    {
     "data": {
      "text/plain": [
       "{'name': '홍길동', 'year': 2000, 'month': 1, 'day': 1}"
      ]
     },
     "execution_count": 129,
     "metadata": {},
     "output_type": "execute_result"
    }
   ],
   "source": [
    "def member_func(member): #{'name':'홍길동', 'birth':'2000-01-01'\n",
    "    \"{'name':'신길동', 'year':1998, 'month':12, 'day':31} 이런식으로 return\"\n",
    "    return {\n",
    "        'name'  : member.get('name'),\n",
    "        'year'  : int(member['birth'].split('-')[0]),  #get함수 스타일로 써도 됨. \n",
    "        'month' : int(member['birth'].split('-')[1]),\n",
    "        'day'   : int(member['birth'].split('-')[2]),\n",
    "    }\n",
    "member_func(member1[0])"
   ]
  },
  {
   "cell_type": "code",
   "execution_count": 130,
   "id": "88cbc3ca",
   "metadata": {},
   "outputs": [
    {
     "data": {
      "text/plain": [
       "[{'name': '홍길동', 'year': 2000, 'month': 1, 'day': 1},\n",
       " {'name': '신길동', 'year': 1998, 'month': 12, 'day': 31}]"
      ]
     },
     "execution_count": 130,
     "metadata": {},
     "output_type": "execute_result"
    }
   ],
   "source": [
    "member2 = list(map(lambda member : {\n",
    "                            'name'  : member.get('name'),\n",
    "                            'year'  : int(member['birth'].split('-')[0]),  \n",
    "                            'month' : int(member['birth'].split('-')[1]),\n",
    "                            'day'   : int(member['birth'].split('-')[2]),\n",
    "                            }, \n",
    "        member1\n",
    "        )\n",
    "    )\n",
    "member2"
   ]
  },
  {
   "cell_type": "code",
   "execution_count": 138,
   "id": "e1aefb94",
   "metadata": {},
   "outputs": [
    {
     "ename": "SyntaxError",
     "evalue": "f-string: unmatched '[' (1350908426.py, line 13)",
     "output_type": "error",
     "traceback": [
      "\u001b[1;36m  Cell \u001b[1;32mIn[138], line 13\u001b[1;36m\u001b[0m\n\u001b[1;33m    'birth': f'{['year']}-{['month']:02d}-{['day']:02}'}\u001b[0m\n\u001b[1;37m                  ^\u001b[0m\n\u001b[1;31mSyntaxError\u001b[0m\u001b[1;31m:\u001b[0m f-string: unmatched '['\n"
     ]
    }
   ],
   "source": [
    "'''\n",
    "예시 3. member2 를 member1로 바꿉니다.\n",
    "member2 = [{'name':'홍길동', 'year':2000, 'month':1, 'day':1}],\n",
    "                {'name':'신길동', 'year':1998, 'month':12, 'day':31}]을\n",
    "\n",
    "'''\n",
    "\n",
    "#{'year':2000, 'month':1, 'day':1} => \"2000-01-01\"를 return하는 함수\n",
    "#format이나 \n",
    "\n",
    "#'-'.join() \n",
    "\n",
    "def member_ex2(member):\n",
    "    {'name' : member.get('name'),\n",
    "     'birth': f'{['year']}-{['month']:02d}-{['day']:02}'}\n",
    "    return\n",
    "member_ex2(member2)"
   ]
  },
  {
   "cell_type": "code",
   "execution_count": 148,
   "id": "2bd7953f",
   "metadata": {},
   "outputs": [],
   "source": [
    "def join_data(data):\n",
    "    print(\"{}-{:02}-{:02}\".format(data.get('year')\n",
    "                                  ,data.get('month'),\n",
    "                                  data.get('day')))\n"
   ]
  },
  {
   "cell_type": "code",
   "execution_count": 149,
   "id": "0ff34474",
   "metadata": {},
   "outputs": [
    {
     "name": "stdout",
     "output_type": "stream",
     "text": [
      "2000-01-01\n"
     ]
    }
   ],
   "source": [
    "join_data({'year':2000,'month':1,'day':1})"
   ]
  },
  {
   "cell_type": "code",
   "execution_count": null,
   "id": "a3fd85f8",
   "metadata": {},
   "outputs": [],
   "source": [
    "# 더 간단하게 하는 방법으로 가는중1\n",
    "def join_data(data):\n",
    "    print(\"{year}-{month:02}-{day:02}\".format(\n",
    "                                            year = data.get('year'),\n",
    "                                            month = data.get('month'),\n",
    "                                            day = data.get('day')))\n"
   ]
  },
  {
   "cell_type": "code",
   "execution_count": 177,
   "id": "151dd159",
   "metadata": {},
   "outputs": [],
   "source": [
    "# 더 간단하게 하는 방법으로 가는중 2 (**data안에 있는 값과 동일)\n",
    "def join_data(data):\n",
    "    return \"{year}-{month:02}-{day:02}\".format(**data)"
   ]
  },
  {
   "cell_type": "code",
   "execution_count": 178,
   "id": "b4d38ef6",
   "metadata": {},
   "outputs": [
    {
     "data": {
      "text/plain": [
       "'2000-01-01'"
      ]
     },
     "execution_count": 178,
     "metadata": {},
     "output_type": "execute_result"
    }
   ],
   "source": [
    "join_data({'year':2000,'month':1,'day':1})"
   ]
  },
  {
   "cell_type": "code",
   "execution_count": 184,
   "id": "6477f792",
   "metadata": {},
   "outputs": [
    {
     "data": {
      "text/plain": [
       "[{'name': '홍길동', 'birth': '2000-01-01'},\n",
       " {'name': '신길동', 'birth': '1998-12-31'}]"
      ]
     },
     "execution_count": 184,
     "metadata": {},
     "output_type": "execute_result"
    }
   ],
   "source": [
    "#{'name':'홍길동', 'year':2000, 'month':1, 'day':1}]을\n",
    "#{'name':'홍길동', 'birth':'2000-01-01'}로 가공\n",
    "#언패킹을 통해서 간단히 가능\n",
    "\n",
    "list(map(lambda member : {\n",
    "                            'name' : member.get('name'),\n",
    "                            'birth' : \"{year}-{month:02}-{day:02}\".format(**member)\n",
    "                            },\n",
    "    member2\n",
    "))"
   ]
  },
  {
   "cell_type": "code",
   "execution_count": 160,
   "id": "722cf0ea",
   "metadata": {},
   "outputs": [],
   "source": [
    "def join_data(data):\n",
    "#    print([data.get('year'), data.get('month'),data.get('day')])\n",
    "    year = str(data.get('year'))\n",
    "#    month = str(data.get('month')) \n",
    "    month = data.get('month')\n",
    "    if month < 10:\n",
    "        month = '0'+str(month)\n",
    "    else:\n",
    "        month = str(month)   \n",
    "    day = data.get('day')\n",
    "    if day < 10:\n",
    "        day = '0'+str(day)\n",
    "    else:\n",
    "        day = str(day)\n",
    "        \n",
    "    return '-'.join([year,month,day]) \n",
    "#join에는 문자리스트가 들어가야 함. 숫자 들어가면 오류 남"
   ]
  },
  {
   "cell_type": "code",
   "execution_count": 163,
   "id": "f317868b",
   "metadata": {},
   "outputs": [
    {
     "data": {
      "text/plain": [
       "'2000-01-01'"
      ]
     },
     "execution_count": 163,
     "metadata": {},
     "output_type": "execute_result"
    }
   ],
   "source": [
    "join_data({'year':2000,'month':1,'day':1})"
   ]
  },
  {
   "cell_type": "markdown",
   "id": "d5a27c7e",
   "metadata": {},
   "source": [
    "### (2) filter\n",
    "- filter : [1,2,3,4,5] => [2,4] 짝수만 가져온것 (원하는 정보를 추출)\n",
    "* cf.리스트 컴프리헨션 "
   ]
  },
  {
   "cell_type": "code",
   "execution_count": 201,
   "id": "545b37bb",
   "metadata": {},
   "outputs": [],
   "source": [
    "#백터데이터 리스트에 [1, 2, 3, 4, 5] => [2,4]\n",
    "def filter_tamplate(func, L=[]):\n",
    "    result = []\n",
    "    for l in L:\n",
    "        if func(l):\n",
    "            result.append(l)\n",
    "    return result "
   ]
  },
  {
   "cell_type": "code",
   "execution_count": 202,
   "id": "ccf47a69",
   "metadata": {},
   "outputs": [
    {
     "data": {
      "text/plain": [
       "(True, False)"
      ]
     },
     "execution_count": 202,
     "metadata": {},
     "output_type": "execute_result"
    }
   ],
   "source": [
    "def evenChk(value):\n",
    "    return value%2==0\n",
    "evenChk(20), evenChk(9)"
   ]
  },
  {
   "cell_type": "code",
   "execution_count": 203,
   "id": "cf932f6a",
   "metadata": {},
   "outputs": [
    {
     "data": {
      "text/plain": [
       "[2, 4]"
      ]
     },
     "execution_count": 203,
     "metadata": {},
     "output_type": "execute_result"
    }
   ],
   "source": [
    "list_data = [1, 2, 3, 4, 5]\n",
    "filter_tamplate(lambda value : value%2==0, list_data)"
   ]
  },
  {
   "cell_type": "code",
   "execution_count": 196,
   "id": "8248a5b6",
   "metadata": {},
   "outputs": [
    {
     "data": {
      "text/plain": [
       "[2, 4]"
      ]
     },
     "execution_count": 196,
     "metadata": {},
     "output_type": "execute_result"
    }
   ],
   "source": [
    "[data for data in list_data if data%2==0]"
   ]
  },
  {
   "cell_type": "markdown",
   "id": "91c35d77",
   "metadata": {},
   "source": [
    "### sort \n",
    "-"
   ]
  },
  {
   "cell_type": "code",
   "execution_count": 204,
   "id": "f8844428",
   "metadata": {},
   "outputs": [
    {
     "data": {
      "text/plain": [
       "[9, 7, 2]"
      ]
     },
     "execution_count": 204,
     "metadata": {},
     "output_type": "execute_result"
    }
   ],
   "source": [
    "#이 sort를 말하는게 아님..\n",
    "p = [9, 2, 7]\n",
    "p.sort(reverse=True)\n",
    "p"
   ]
  },
  {
   "cell_type": "code",
   "execution_count": 205,
   "id": "318e4c45",
   "metadata": {},
   "outputs": [
    {
     "data": {
      "text/plain": [
       "[[1, 100], [9.9], [10, 1]]"
      ]
     },
     "execution_count": 205,
     "metadata": {},
     "output_type": "execute_result"
    }
   ],
   "source": [
    "number2d = [[9.9],\n",
    "            [1,100],\n",
    "            [10,1]]\n",
    "number2d.sort()\n",
    "number2d\n",
    "#이 sort는 앞에자리 기준으로 순서 정해버림"
   ]
  },
  {
   "cell_type": "code",
   "execution_count": 211,
   "id": "a5c9936c",
   "metadata": {},
   "outputs": [
    {
     "data": {
      "text/plain": [
       "[(1, 'one'), (2, 'two'), (3, 'three'), (4, 'four')]"
      ]
     },
     "execution_count": 211,
     "metadata": {},
     "output_type": "execute_result"
    }
   ],
   "source": [
    "#2차원 리스트이면 무조건 0번째 item을 기준으로 정렬\n",
    "\n",
    "pairs = [(2, 'two'), (1, 'one'),(4,'four'),(3,'three')]\n",
    "pairs.sort()\n",
    "pairs"
   ]
  },
  {
   "cell_type": "code",
   "execution_count": 222,
   "id": "5c911cca",
   "metadata": {},
   "outputs": [
    {
     "data": {
      "text/plain": [
       "[(4, 'four'), (1, 'one'), (3, 'three'), (2, 'two')]"
      ]
     },
     "execution_count": 222,
     "metadata": {},
     "output_type": "execute_result"
    }
   ],
   "source": [
    "#1번째 item을 기준으로 정렬(문자:abc순서로 정렬) \n",
    "\n",
    "pairs = [(2, 'two'), (1, 'one'),(4,'four'),(3,'three')]\n",
    "pairs.sort(key=lambda pair : pair[1]) #1번 인덱스기준으로 abc순서로 정리 \n",
    "pairs"
   ]
  },
  {
   "cell_type": "code",
   "execution_count": 223,
   "id": "d52b68c5",
   "metadata": {},
   "outputs": [
    {
     "data": {
      "text/plain": [
       "[[10, 1], [9, 9, 9, 9, 9], [1, 100]]"
      ]
     },
     "execution_count": 223,
     "metadata": {},
     "output_type": "execute_result"
    }
   ],
   "source": [
    "number2d = [[9,9,9,9,9],\n",
    "            [1,100],\n",
    "            [10,1]]\n",
    "number2d.sort(reverse=True) #무조건 0번 item 기준으로 정렬\n",
    "number2d\n",
    "#이 sort는 앞에자리 기준으로 순서 정해버림"
   ]
  },
  {
   "cell_type": "code",
   "execution_count": 228,
   "id": "71082244",
   "metadata": {},
   "outputs": [
    {
     "data": {
      "text/plain": [
       "6"
      ]
     },
     "execution_count": 228,
     "metadata": {},
     "output_type": "execute_result"
    }
   ],
   "source": [
    "#리스트를 매개변수로 받아 합을 return하는 함수 test\n",
    "(lambda item :sum(item))([1,2,3])"
   ]
  },
  {
   "cell_type": "code",
   "execution_count": 227,
   "id": "bdc394e3",
   "metadata": {},
   "outputs": [
    {
     "data": {
      "text/plain": [
       "[[1, 100], [9, 9, 9, 9, 9], [10, 1]]"
      ]
     },
     "execution_count": 227,
     "metadata": {},
     "output_type": "execute_result"
    }
   ],
   "source": [
    "#합이 큰 순으로 정렬 \n",
    "#key - 리턴하는 기준 \n",
    "\n",
    "number2d.sort(key=lambda item :sum(item), reverse=True)\n",
    "number2d"
   ]
  },
  {
   "cell_type": "code",
   "execution_count": 246,
   "id": "d49d4500",
   "metadata": {},
   "outputs": [],
   "source": [
    "# 이름순으로 정렬(ㄱㄴㄷ 순)\n",
    "students = [\n",
    "    {'name':'홍길동', 'score':90},\n",
    "    {'name':'김길동', 'score':85},\n",
    "    {'name':'최길동', 'score':62},\n",
    "    {'score':99}\n",
    "]"
   ]
  },
  {
   "cell_type": "code",
   "execution_count": 240,
   "id": "a9f1f336",
   "metadata": {},
   "outputs": [
    {
     "data": {
      "text/plain": [
       "[{'name': '김길동', 'score': 85},\n",
       " {'name': '최길동', 'score': 62},\n",
       " {'name': '홍길동', 'score': 90}]"
      ]
     },
     "execution_count": 240,
     "metadata": {},
     "output_type": "execute_result"
    }
   ],
   "source": [
    "students.sort(key=lambda ex : ex['name'] ,reverse=False)\n",
    "students"
   ]
  },
  {
   "cell_type": "code",
   "execution_count": 236,
   "id": "454f9652",
   "metadata": {},
   "outputs": [
    {
     "data": {
      "text/plain": [
       "[{'name': '홍길동', 'score': 90},\n",
       " {'name': '김길동', 'score': 85},\n",
       " {'name': '최길동', 'score': 62}]"
      ]
     },
     "execution_count": 236,
     "metadata": {},
     "output_type": "execute_result"
    }
   ],
   "source": [
    "#score순으로 정렬(내림차순정렬)\n",
    "students.sort(key=lambda ex : ex['score'] ,reverse=True)\n",
    "students"
   ]
  },
  {
   "cell_type": "code",
   "execution_count": 255,
   "id": "7ec6b86e",
   "metadata": {},
   "outputs": [
    {
     "data": {
      "text/plain": [
       "[{'name': '김길동', 'score': 85},\n",
       " {'name': '최길동', 'score': 62},\n",
       " {'name': '홍길동', 'score': 90},\n",
       " {'score': 99}]"
      ]
     },
     "execution_count": 255,
     "metadata": {},
     "output_type": "execute_result"
    }
   ],
   "source": [
    "# 이름이 없는 사람의 점수를 내림차순으로 정렬\n",
    "students.sort(key=lambda ex : ex.get('name','각'),reverse=False) #이름이 없는 사람 맨 위로 \"각\"\n",
    "students\n",
    "students.sort(key=lambda ex : ex.get('name','힣'),reverse=False) #이름이 없는 사람 맨 아래로 \"힣\"\n",
    "students"
   ]
  },
  {
   "cell_type": "code",
   "execution_count": 257,
   "id": "cf746467",
   "metadata": {},
   "outputs": [
    {
     "data": {
      "text/plain": [
       "[{'score': 99},\n",
       " {'name': '홍길동', 'score': 90},\n",
       " {'name': '김길동', 'score': 85},\n",
       " {'name': '최길동', 'score': 62}]"
      ]
     },
     "execution_count": 257,
     "metadata": {},
     "output_type": "execute_result"
    }
   ],
   "source": [
    "students.sort(key=lambda ex : ex.get('score',0),reverse=True)\n",
    "students"
   ]
  },
  {
   "cell_type": "code",
   "execution_count": 309,
   "id": "c6d533d8",
   "metadata": {},
   "outputs": [],
   "source": [
    "# 책 제목순 정렬(ㄱ,ㄴ,ㄷ순), 저자순 정렬(ㄱ,ㄴ,ㄷ), 가격순 오름차순 정렬\n",
    "# 결측치 = 0원\n",
    "\n",
    "books = [\n",
    "    {'no':1, 'title':'강남 아파트 인사이트', 'writer': '오스틀', 'price':'25,200'},\n",
    "    {'no':2, 'title':'단 한번의 삶', 'writer': '김영하', 'price':'15,120'},\n",
    "    {'no':3, 'title':'흔한남매 19', 'writer': '백난도', 'price':'14,220'},\n",
    "    {'no':4, 'title':'가격이 잘못', 'writer': '홍길동', 'price':'-'},\n",
    "    {'no':5, 'title':'가격이 숫자', 'writer': '최무식', 'price':900},\n",
    "    {'no':6, 'title':'가격이 없음', 'writer': '이난중',}\n",
    "]"
   ]
  },
  {
   "cell_type": "code",
   "execution_count": 261,
   "id": "5e529e6b",
   "metadata": {},
   "outputs": [
    {
     "data": {
      "text/plain": [
       "[{'no': 5, 'title': '가격이 숫자', 'writer': '최무식', 'price': 900},\n",
       " {'no': 6, 'title': '가격이 없음', 'writer': '이난중'},\n",
       " {'no': 4, 'title': '가격이 잘못', 'writer': '홍길동', 'price': '-'},\n",
       " {'no': 1, 'title': '강남 아파트 인사이트', 'writer': '오스틀', 'price': '25,200'},\n",
       " {'no': 2, 'title': '단 한번의 삶', 'writer': '김영하', 'price': '15,120'},\n",
       " {'no': 3, 'title': '흔한남매 19', 'writer': '백난도', 'price': '14,220'}]"
      ]
     },
     "execution_count": 261,
     "metadata": {},
     "output_type": "execute_result"
    }
   ],
   "source": [
    "books.sort(key = lambda book : book.get('title'))\n",
    "books"
   ]
  },
  {
   "cell_type": "code",
   "execution_count": 262,
   "id": "f8cb8424",
   "metadata": {},
   "outputs": [
    {
     "data": {
      "text/plain": [
       "[{'no': 2, 'title': '단 한번의 삶', 'writer': '김영하', 'price': '15,120'},\n",
       " {'no': 3, 'title': '흔한남매 19', 'writer': '백난도', 'price': '14,220'},\n",
       " {'no': 1, 'title': '강남 아파트 인사이트', 'writer': '오스틀', 'price': '25,200'},\n",
       " {'no': 6, 'title': '가격이 없음', 'writer': '이난중'},\n",
       " {'no': 5, 'title': '가격이 숫자', 'writer': '최무식', 'price': 900},\n",
       " {'no': 4, 'title': '가격이 잘못', 'writer': '홍길동', 'price': '-'}]"
      ]
     },
     "execution_count": 262,
     "metadata": {},
     "output_type": "execute_result"
    }
   ],
   "source": [
    "books.sort(key = lambda book : book.get('writer'))\n",
    "books"
   ]
  },
  {
   "cell_type": "code",
   "execution_count": 264,
   "id": "08c9a696",
   "metadata": {},
   "outputs": [
    {
     "ename": "TypeError",
     "evalue": "'<' not supported between instances of 'int' and 'str'",
     "output_type": "error",
     "traceback": [
      "\u001b[1;31m---------------------------------------------------------------------------\u001b[0m",
      "\u001b[1;31mTypeError\u001b[0m                                 Traceback (most recent call last)",
      "Cell \u001b[1;32mIn[264], line 4\u001b[0m\n\u001b[0;32m      1\u001b[0m \u001b[38;5;66;03m# 타입이 문자인지 확인 /문자면 replace(,) \u001b[39;00m\n\u001b[0;32m      2\u001b[0m \u001b[38;5;66;03m# 숫자에 , 있는지 확인 \u001b[39;00m\n\u001b[0;32m      3\u001b[0m \u001b[38;5;66;03m# int로 변환하기전에 숫자인지 확인하고 0원처리하기\u001b[39;00m\n\u001b[1;32m----> 4\u001b[0m \u001b[43mbooks\u001b[49m\u001b[38;5;241;43m.\u001b[39;49m\u001b[43msort\u001b[49m\u001b[43m(\u001b[49m\u001b[43mkey\u001b[49m\u001b[43m \u001b[49m\u001b[38;5;241;43m=\u001b[39;49m\u001b[43m \u001b[49m\u001b[38;5;28;43;01mlambda\u001b[39;49;00m\u001b[43m \u001b[49m\u001b[43mbook\u001b[49m\u001b[43m \u001b[49m\u001b[43m:\u001b[49m\u001b[43m \u001b[49m\u001b[43mbook\u001b[49m\u001b[38;5;241;43m.\u001b[39;49m\u001b[43mget\u001b[49m\u001b[43m(\u001b[49m\u001b[38;5;124;43m'\u001b[39;49m\u001b[38;5;124;43mprice\u001b[39;49m\u001b[38;5;124;43m'\u001b[39;49m\u001b[43m,\u001b[49m\u001b[38;5;241;43m0\u001b[39;49m\u001b[43m)\u001b[49m\u001b[43m)\u001b[49m\n",
      "\u001b[1;31mTypeError\u001b[0m: '<' not supported between instances of 'int' and 'str'"
     ]
    }
   ],
   "source": [
    "# 타입이 문자인지 확인 /문자면 replace(,) \n",
    "# 숫자에 , 있는지 확인 \n",
    "# int로 변환하기전에 숫자인지 확인하고 0원처리하기\n",
    "books.sort(key = lambda book : book.get('price',0)) #문자랑 숫자가 같이 있이서 오류남"
   ]
  },
  {
   "cell_type": "code",
   "execution_count": 293,
   "id": "8bfb9061",
   "metadata": {},
   "outputs": [],
   "source": [
    "# '14,000'의 값을 '14000'으로 변환 / 900의 값이 들어오면 그대로 900으로 넣고 / '-'이 들어오면 0원으로 변경\n",
    "def parse_int(price):\n",
    "    #print(type(price))\n",
    "    if isinstance(price,str) and price.replace(',','').isdigit():  #문자가 맞는지, 문자중에(,)을뺀 숫자로만 구성이 되어있는가 \n",
    "        return int(price.replace(',',''))\n",
    "    elif isinstance(price,int):\n",
    "        return price\n",
    "    else:\n",
    "        return 0\n"
   ]
  },
  {
   "cell_type": "code",
   "execution_count": 294,
   "id": "6336d216",
   "metadata": {},
   "outputs": [
    {
     "data": {
      "text/plain": [
       "(8000, 88000, 200, 0)"
      ]
     },
     "execution_count": 294,
     "metadata": {},
     "output_type": "execute_result"
    }
   ],
   "source": [
    "parse_int(\"8,000\"), parse_int(\"88000\"),parse_int(200),parse_int(\"-\"),   "
   ]
  },
  {
   "cell_type": "code",
   "execution_count": null,
   "id": "89baed43",
   "metadata": {},
   "outputs": [],
   "source": [
    "books.sort(key = lambda book : book "
   ]
  },
  {
   "cell_type": "code",
   "execution_count": 306,
   "id": "cdb4fdc2",
   "metadata": {},
   "outputs": [],
   "source": [
    "#{'no':6, 'title':'가격이 없음', 'writer': '이난중',} => return 0\n",
    "#{'no':3, 'title':'흔한남매 19', 'writer': '백난도', 'price':'14,220'}, => 14220\n",
    "#{'no':5, 'title':'가격이 숫자', 'writer': '최무식', 'price':900}, => 900\n",
    "\n",
    "def parse_int(book):\n",
    "    if isinstance(book.get('price'), str) and \\\n",
    "                  book.get('price').replace(',','').isdigit():\n",
    "        return int(book.get('price').replace(',',''))\n",
    "    elif isinstance(book.get('price'), int):\n",
    "        return book.get('price')\n",
    "    else:\n",
    "        return 0   "
   ]
  },
  {
   "cell_type": "code",
   "execution_count": 310,
   "id": "e0afc91b",
   "metadata": {},
   "outputs": [
    {
     "data": {
      "text/plain": [
       "(25200, 15120, 14220)"
      ]
     },
     "execution_count": 310,
     "metadata": {},
     "output_type": "execute_result"
    }
   ],
   "source": [
    "parse_int(books[0]), parse_int(books[1]), parse_int(books[2])"
   ]
  },
  {
   "cell_type": "code",
   "execution_count": 312,
   "id": "dda92e3e",
   "metadata": {},
   "outputs": [],
   "source": [
    "books = [\n",
    "    {'no':1, 'title':'강남 아파트 인사이트', 'writer': '오스틀', 'price':'25,200'},\n",
    "    {'no':2, 'title':'단 한번의 삶', 'writer': '김영하', 'price':'15,120'},\n",
    "    {'no':3, 'title':'흔한남매 19', 'writer': '백난도', 'price':'14,220'},\n",
    "    {'no':4, 'title':'가격이 잘못', 'writer': '홍길동', 'price':'-'},\n",
    "    {'no':5, 'title':'가격이 숫자', 'writer': '최무식', 'price':900},\n",
    "    {'no':6, 'title':'가격이 없음', 'writer': '이난중',}\n",
    "]\n",
    "\n",
    "copy_books = books.copy()"
   ]
  },
  {
   "cell_type": "code",
   "execution_count": 322,
   "id": "9c34687e",
   "metadata": {},
   "outputs": [],
   "source": [
    "copy_books.sort(key = lambda book : \n",
    "                int(book.get('price').replace(',','')) \\\n",
    "                    if isinstance(book.get('price'), str) and \\\n",
    "                        book.get('price').replace(',','').isdigit() else\\\n",
    "                book.get('price') if isinstance(book.get('price'), int) else \\\n",
    "                0 \n",
    "              \n",
    "               )"
   ]
  },
  {
   "cell_type": "code",
   "execution_count": 323,
   "id": "af8353cc",
   "metadata": {},
   "outputs": [
    {
     "data": {
      "text/plain": [
       "[{'no': 4, 'title': '가격이 잘못', 'writer': '홍길동', 'price': '-'},\n",
       " {'no': 6, 'title': '가격이 없음', 'writer': '이난중'},\n",
       " {'no': 5, 'title': '가격이 숫자', 'writer': '최무식', 'price': 900},\n",
       " {'no': 3, 'title': '흔한남매 19', 'writer': '백난도', 'price': '14,220'},\n",
       " {'no': 2, 'title': '단 한번의 삶', 'writer': '김영하', 'price': '15,120'},\n",
       " {'no': 1, 'title': '강남 아파트 인사이트', 'writer': '오스틀', 'price': '25,200'}]"
      ]
     },
     "execution_count": 323,
     "metadata": {},
     "output_type": "execute_result"
    }
   ],
   "source": [
    "copy_books"
   ]
  },
  {
   "cell_type": "code",
   "execution_count": 324,
   "id": "5d246a38",
   "metadata": {},
   "outputs": [
    {
     "data": {
      "text/plain": [
       "[{'no': 1, 'title': '강남 아파트 인사이트', 'writer': '오스틀', 'price': '25,200'},\n",
       " {'no': 2, 'title': '단 한번의 삶', 'writer': '김영하', 'price': '15,120'},\n",
       " {'no': 3, 'title': '흔한남매 19', 'writer': '백난도', 'price': '14,220'},\n",
       " {'no': 4, 'title': '가격이 잘못', 'writer': '홍길동', 'price': '-'},\n",
       " {'no': 5, 'title': '가격이 숫자', 'writer': '최무식', 'price': 900},\n",
       " {'no': 6, 'title': '가격이 없음', 'writer': '이난중'}]"
      ]
     },
     "execution_count": 324,
     "metadata": {},
     "output_type": "execute_result"
    }
   ],
   "source": [
    "books"
   ]
  },
  {
   "cell_type": "markdown",
   "id": "ad14e9da",
   "metadata": {},
   "source": [
    "## 4.3 람다식 예제 (함수의 return값으로 람다식 이용) "
   ]
  },
  {
   "cell_type": "code",
   "execution_count": 325,
   "id": "2daca3b2",
   "metadata": {},
   "outputs": [],
   "source": [
    "# 함수를 return\n",
    "def make_box(shape) : # shape : [l(길이)], 2차원 [r,c] 3차원 [d,r,c] d,r(가로),c(세로)\n",
    "    # shape : [l] =>가 l인 list를 생성하는 함수 return \n",
    "                                    #[r,c] => r행 c열인 list를 생성하는 함수 return\n",
    "                                    #[d,r,c] => d면 r행 c열 3차원 list를 생성하는 함수 \n",
    "    \n",
    "\n",
    "    def box(init_value):\n",
    "        if len(shape)==1:\n",
    "            return [init_value]*shape[0]    #1차원 리스트\n",
    "        elif len(shape)==2:\n",
    "            return [ [init_value]*shape[1] ] * shape[0]  #2차원 리스트\n",
    "    return box"
   ]
  },
  {
   "cell_type": "code",
   "execution_count": 334,
   "id": "fb01fc5b",
   "metadata": {},
   "outputs": [],
   "source": [
    "def make_box(shape):\n",
    "    if len(shape)==1:\n",
    "        return lambda init_value : [init_value]*shape[0]\n",
    "    elif len(shape)==2:\n",
    "        return lambda init_value : [[init_value]*shape[1]]*shape[0]"
   ]
  },
  {
   "cell_type": "code",
   "execution_count": 332,
   "id": "3f0134a9",
   "metadata": {},
   "outputs": [
    {
     "data": {
      "text/plain": [
       "[[3, 3, 3], [3, 3, 3]]"
      ]
     },
     "execution_count": 332,
     "metadata": {},
     "output_type": "execute_result"
    }
   ],
   "source": [
    "line_func = make_box([2,3])\n",
    "line_func(3)"
   ]
  },
  {
   "cell_type": "code",
   "execution_count": 333,
   "id": "d482f430",
   "metadata": {},
   "outputs": [
    {
     "data": {
      "text/plain": [
       "[3, 3, 3, 3, 3, 3, 3, 3, 3, 3]"
      ]
     },
     "execution_count": 333,
     "metadata": {},
     "output_type": "execute_result"
    }
   ],
   "source": [
    "line_func1 = make_box([10])\n",
    "line_func1(3)"
   ]
  },
  {
   "cell_type": "markdown",
   "id": "c88f4fbe",
   "metadata": {},
   "source": [
    "# 5절. 파이썬 내장함수\n",
    "- import하지 않고 바로 사용 가능한 함수\n",
    "- 키워드처럼 간주되므로, 식별자(변수명, 함수명, 클래스명)로 사용하는 것을 피한다.\n"
   ]
  },
  {
   "cell_type": "code",
   "execution_count": 335,
   "id": "14567af3",
   "metadata": {
    "collapsed": true
   },
   "outputs": [
    {
     "data": {
      "text/plain": [
       "{'__name__': '__main__',\n",
       " '__doc__': \"\\n{'name':'홍길동', 'year':2000, 'month':1, 'day':1}]을\\n{'name':'홍길동', 'birth':'2000-01-01'}로 가공\\n\",\n",
       " '__package__': None,\n",
       " '__loader__': None,\n",
       " '__spec__': None,\n",
       " '__builtin__': <module 'builtins' (built-in)>,\n",
       " '__builtins__': <module 'builtins' (built-in)>,\n",
       " '_ih': ['',\n",
       "  'from IPython.display import display, HTML \\ndisplay(HTML(\"\"\"\\n<style>\\ndiv.container{width:86% !important;}\\ndiv.cell.code_cell.rendered{width:100%;}\\ndiv.CodeMirror {font-family:Consolas; font-size:15pt;}\\ndiv.output {font-size:15pt; font-weight:bold;}\\ndiv.input {font-family:Consolas; font-size:15pt;}\\ndiv.prompt {min-width:70px;}\\ndiv#toc-wrapper{padding-top:120px;}\\ndiv.text_cell_render ul li{font-size:12pt;padding:5px;}\\ntable.dataframe{font-size:15px;}\\n</style>\\n \"\"\"))',\n",
       "  'from IPython.display import display, HTML \\ndisplay(HTML(\"\"\"\\n<style>\\ndiv.container{width:86% !important;}\\ndiv.cell.code_cell.rendered{width:100%;}\\ndiv.CodeMirror {font-family:Consolas; font-size:15pt;}\\ndiv.output {font-size:15pt; font-weight:bold;}\\ndiv.input {font-family:Consolas; font-size:15pt;}\\ndiv.prompt {min-width:70px;}\\ndiv#toc-wrapper{padding-top:120px;}\\ndiv.text_cell_render ul li{font-size:12pt;padding:5px;}\\ntable.dataframe{font-size:15px;}\\n</style>\\n \"\"\"))',\n",
       "  'list_data = [1, 2, 3, 4, 5, 6, 7, 8, 9, 10]\\ndef x_2(x):\\n    return x*2\\nmap_templatd(x2, list_data)',\n",
       "  \"def map_tamplate(func, L=[]):\\n    '''\\n    L의 모든 요소를 func()함수를 적용시켜 reteurn\\n    [2, 4, 6] [func(1) for l in L]\\n    '''\\n    result = []\\n    for l in L:\\n        result.append(func(1))\\n    return result \\n#    return [func(1) for l in L]\",\n",
       "  'list_data = [1, 2, 3, 4, 5, 6, 7, 8, 9, 10]\\ndef x_2(x):\\n    return x*2\\nmap_templatd(x2, list_data)',\n",
       "  'list_data = [1, 2, 3, 4, 5, 6, 7, 8, 9, 10]\\ndef x_2(x):\\n    return x*2\\nmap_tamplate(x2, list_data)',\n",
       "  'list_data = [1, 2, 3, 4, 5, 6, 7, 8, 9, 10]\\ndef x_2(x):\\n    return x*2\\nmap_tamplate(x_2, list_data)',\n",
       "  \"'''\\nL의 모든 요소를 func()함수를 적용시켜 reteurn\\n[2, 4, 6] [func(1) for l in L]\\n'''\\ndef map_template(func, L=[]):\\nresult = []\\nfor l in L:\\n    result.append(func(l))  # ← 이제 각 요소에 함수 적용!\\nreturn result\\n#    return [func(1) for l in L]\",\n",
       "  'list_data = [1, 2, 3, 4, 5, 6, 7, 8, 9, 10]\\ndef x_2(x):\\n    return x*2\\nmap_tamplate(x_2, list_data)',\n",
       "  \"'''\\nL의 모든 요소를 func()함수를 적용시켜 reteurn\\n[2, 4, 6] [func(1) for l in L]\\n'''\\ndef map_template(func, L=[]):\\nresult = []\\n    for l in L:\\n        result.append(func(l))  # ← 이제 각 요소에 함수 적용!\\n    return result\\n#    return [func(1) for l in L]\",\n",
       "  'list_data = [1, 2, 3, 4, 5, 6, 7, 8, 9, 10]\\ndef x_2(x):\\n    return x*2\\nmap_tamplate(x_2, list_data)',\n",
       "  \"def map_tamplate(func, L=[]):\\n    '''\\n    L의 모든 요소를 func()함수를 적용시켜 reteurn\\n    [2, 4, 6] [func(1) for l in L]\\n    '''\\n    result = []\\n    for l in L:\\n        result.append(func(1))\\n    return result \\n#    return [func(1) for l in L]\",\n",
       "  'list_data = [1, 2, 3, 4, 5, 6, 7, 8, 9, 10]\\ndef x_2(x):\\n    return x*2\\nmap_tamplate(x_2, list_data)',\n",
       "  \"def map_tamplate(func, L=[]):\\n    '''\\n    L의 모든 요소를 func()함수를 적용시켜 reteurn\\n    [2, 4, 6] [func(1) for l in L]\\n    '''\\n    result = []\\n    for l in L:\\n        result.append(func(1))\\n    return result \\n#    return [func(1) for l in L]\",\n",
       "  'list_data = [1, 2, 3, 4, 5, 6, 7, 8, 9, 10]\\nmap_template(lambda x : x*2, list_data)',\n",
       "  'list_data = [1, 2, 3, 4, 5, 6, 7, 8, 9, 10]\\nmap_tamplate(lambda x : x*2, list_data)',\n",
       "  \"def map_tamplate(func, L=[]):\\n    '''\\n    L의 모든 요소를 func()함수를 적용시켜 reteurn\\n    [2, 4, 6] [func(1) for l in L]\\n    '''\\n    result = []\\n    for l in L:\\n        result.append(func(2))\\n    return result \\n#    return [func(1) for l in L]\",\n",
       "  'list_data = [1, 2, 3, 4, 5, 6, 7, 8, 9, 10]\\nmap_tamplate(lambda x : x*2, list_data)',\n",
       "  \"def map_tamplate(func, L=[]):\\n    '''\\n    L의 모든 요소를 func()함수를 적용시켜 reteurn\\n    [2, 4, 6] [func(1) for l in L]\\n    '''\\n    result = []\\n    for l in L:\\n        result.append(func(1))\\n    return result \\n#    return [func(1) for l in L]\",\n",
       "  'list_data = [1, 2, 3, 4, 5, 6, 7, 8, 9, 10]\\nmap_tamplate(lambda x : x*2, list_data)',\n",
       "  \"def map_tamplate(func, L=[]):\\n    '''\\n    L의 모든 요소를 func()함수를 적용시켜 reteurn\\n    [2, 4, 6] [func(1) for l in L]\\n    '''\\n    result = []\\n    for l in L:\\n        result.append(func(x))\\n    return result \\n#    return [func(1) for l in L]\",\n",
       "  '#리스트 데이터를 가공하는 방법\\nlist_data = [1, 2, 3, 4, 5, 6, 7, 8, 9, 10]\\nmap_tamplate(lambda x : x*2, list_data)',\n",
       "  \"def map_tamplate(func, L=[]):\\n    '''\\n    L의 모든 요소를 func()함수를 적용시켜 reteurn\\n    [2, 4, 6] [func(1) for l in L]\\n    '''\\n    result = []\\n    for l in L:\\n        result.append(func(1))\\n    return result \\n#    return [func(1) for l in L]\",\n",
       "  '#리스트 데이터를 가공하는 방법\\nlist_data = [1, 2, 3, 4, 5, 6, 7, 8, 9, 10]\\nmap_tamplate(lambda x : x*2, list_data)',\n",
       "  \"# 리스트 데이터를 가공 방법 1.map\\ndef map_tamplate(func, L=[]):\\n    '''\\n    L의 모든 요소를 func()함수를 적용시켜 reteurn\\n    [2, 4, 6] [func(1) for l in L]\\n    '''\\n    result = []\\n    for l in L:\\n        result.append(func(l))\\n    return result \\n#    return [func(1) for l in L]\",\n",
       "  '#리스트 데이터를 가공하는 방법 2.리스트 컴프리헨션\\nlist_data = [1, 2, 3, 4, 5, 6, 7, 8, 9, 10]\\nmap_tamplate(lambda x : x*2, list_data)',\n",
       "  '# 리스트 데이터를 가공 방법 3.map():파이썬 내장함수\\nmap(lambda x : x2,list_data)',\n",
       "  '# 리스트 데이터를 가공 방법 3.map():파이썬 내장함수\\nlist(map(lambda x : x2,list_data))',\n",
       "  '# 리스트 데이터를 가공 방법 3.map():파이썬 내장함수\\nlist(map(lambda x : x*2,list_data))',\n",
       "  '# 리스트 데이터를 가공 방법 3.map():파이썬 내장함수\\nmap(lambda x : x*2,list_data)',\n",
       "  'for item in map(lambda x : x*2, list_data):\\n    print(item, end=\" \")',\n",
       "  'for item in map(lambda x : x*2, list_data):\\n    print(item, end=\" \")\\nlist(map(lambda x : x*2,list_data))',\n",
       "  \"'''\\n예시 1. prices = [5000,800,1000,6000]로 변경 \\n'''\\n\\nprices = ['5,000', '800', '1000','6,000']\\nprint(prices.spled)\",\n",
       "  \"'''\\n예시 1. prices = [5000,800,1000,6000]로 변경 \\n'''\\n\\nprices = ['5,000', '800', '1000','6,000']\\nprint(prices.split())\",\n",
       "  \"'''\\n예시 1. prices = [5000,800,1000,6000]로 변경 \\n'''\\n\\nprices = ['5,000', '800', '1000','6,000']\\nprint(prices.split())\",\n",
       "  \"'''\\n예시 1. prices = [5000,800,1000,6000]로 변경 \\n'''\\n\\nprices = ['5,000', '800', '1000','6,000']\",\n",
       "  \"'''\\n예시 1. prices = [5000,800,1000,6000]로 변경 \\n'''\\n\\nprices = ['5,000', '800', '1000','6,000']\\nint(prices)\",\n",
       "  \"'''\\n예시 1. prices = [5000,800,1000,6000]로 변경 \\n'''\\n\\nprices = ['5,000', '800', '1000','6,000']\\nprint(int(prices))\",\n",
       "  \"'''\\n예시 1. prices = [5000,800,1000,6000]로 변경 \\n'''\\n\\nprices = ['5,000', '800', '1000','6,000']\",\n",
       "  \"'''\\n예시 1. prices = [5000,800,1000,6000]로 변경 \\n'''\\n\\nprices = ['5,000', '800', '1000','6,000']\\n\\ntmep = (int(prices.replace(',','')) for price in price_list)\\nconverted = [int(price.replace(',', '')) for price in price_list]\\n\\nprint(converted)  # [5000, 3000, 200]\",\n",
       "  \"'''\\n예시 1. prices = [5000,800,1000,6000]로 변경 \\n'''\\n\\nprices = ['5,000', '800', '1000','6,000']\\n\\ntemp = (int(prices.replace(',','')) for price in price_list)\\nprint(temp)\",\n",
       "  \"'''\\n예시 1. prices = [5000,800,1000,6000]로 변경 \\n'''\\n\\nprices = ['5,000', '800', '1000','6,000']\\n\\ntemp = [int(prices.replace(',','')) for price in price_list]\\nprint(temp)\",\n",
       "  \"'''\\n예시 1. prices = [5000,800,1000,6000]로 변경 \\n'''\\n\\nprices = ['5,000', '800', '1000','6,000']\\n\\ntemp = [int(prices.replace(',','')) for price in price]\\nprint(temp)\",\n",
       "  \"'''\\n예시 1. prices = [5000,800,1000,6000]로 변경 \\n'''\\n\\nprices = ['5,000', '800', '1000','6,000']\\n\\ntemp = [int(prices.replace(',','')) for price in prices]\\nprint(temp)\",\n",
       "  \"'''\\n예시 1. prices = [5000,800,1000,6000]로 변경 \\n'''\\n\\nprices = ['5,000', '800', '1000','6,000']\\n\\ntemp = [int(prices.replace(',','')) for prices in prices]\\nprint(temp)\",\n",
       "  \"'''\\n예시2. member1 = [{'name':'홍길동', 'brith':'2000-01-01'},\\n                {'name':'신길동', 'brith':'1998-12-31'}]\\n    member2 = [{'name':'홍길동', 'year':2000, 'month':1, 'day':1}],\\n                {'name':'신길동', 'year':1998, 'month':12, 'day':31] \\n'''\\n#년, 월, 일 분리 필요\\n# year추가 , month 추가, day 추가 \\nmember1 = [{'name':'홍길동', 'brith':'2000-01-01'},\\n                {'name':'신길동', 'brith':'1998-12-31'}]\\nmember2 = [{'name':'홍길동', 'year':2000, 'month':1, 'day':1}],\\n                {'name':'신길동', 'year':1998, 'month':12, 'day':31] \\nmember1[brith]=200\",\n",
       "  \"'''\\n예시2. member1 = [{'name':'홍길동', 'brith':'2000-01-01'},\\n                {'name':'신길동', 'brith':'1998-12-31'}]\\n    member2 = [{'name':'홍길동', 'year':2000, 'month':1, 'day':1}],\\n                {'name':'신길동', 'year':1998, 'month':12, 'day':31}] \\n'''\\n#년, 월, 일 분리 필요\\n# year추가 , month 추가, day 추가 \\nmember1 = [{'name':'홍길동', 'brith':'2000-01-01'},\\n                {'name':'신길동', 'brith':'1998-12-31'}]\\n\\nmember1[brith]=200\",\n",
       "  \"'''\\n예시2. member1 = [{'name':'홍길동', 'brith':'2000-01-01'},\\n                {'name':'신길동', 'brith':'1998-12-31'}]\\n    member2 = [{'name':'홍길동', 'year':2000, 'month':1, 'day':1}],\\n                {'name':'신길동', 'year':1998, 'month':12, 'day':31}] \\n'''\\n#년, 월, 일 분리 필요\\n# year추가 , month 추가, day 추가 \\nmember1 = [{'name':'홍길동', 'brith':'2000-01-01'},\\n                {'name':'신길동', 'brith':'1998-12-31'}]\\n\\nmember1['brith']=2000\",\n",
       "  \"'''\\n예시2. member1 = [{'name':'홍길동', 'brith':'2000-01-01'},\\n                {'name':'신길동', 'brith':'1998-12-31'}]\\n    member2 = [{'name':'홍길동', 'year':2000, 'month':1, 'day':1}],\\n                {'name':'신길동', 'year':1998, 'month':12, 'day':31}] \\n'''\\n#년, 월, 일 분리 필요\\n# year추가 , month 추가, day 추가 \\nmember1 = [{'name':'홍길동', 'brith':'2000-01-01'},\\n                {'name':'신길동', 'brith':'1998-12-31'}]\\n\\nmember1['brith']=srt(2000)\",\n",
       "  \"'''\\n예시2. member1 = [{'name':'홍길동', 'brith':'2000-01-01'},\\n                {'name':'신길동', 'brith':'1998-12-31'}]\\n    member2 = [{'name':'홍길동', 'year':2000, 'month':1, 'day':1}],\\n                {'name':'신길동', 'year':1998, 'month':12, 'day':31}] \\n'''\\n#년, 월, 일 분리 필요\\n# year추가 , month 추가, day 추가 \\nmember1 = [{'name':'홍길동', 'brith':'2000-01-01'},\\n                {'name':'신길동', 'brith':'1998-12-31'}]\\n\\nmember1['brith']=str(2000)\",\n",
       "  \"'''\\n예시2. member1 = [{'name':'홍길동', 'brith':'2000-01-01'},\\n                {'name':'신길동', 'brith':'1998-12-31'}]\\n    member2 = [{'name':'홍길동', 'year':2000, 'month':1, 'day':1}],\\n                {'name':'신길동', 'year':1998, 'month':12, 'day':31}] \\n'''\\n#년, 월, 일 분리 필요\\n# year추가 , month 추가, day 추가 \\nmember1 = [{'name':'홍길동', 'brith':'2000-01-01'},\\n                {'name':'신길동', 'brith':'1998-12-31'}]\\n\\nmember1['brith'] = 'str(2000)''\",\n",
       "  \"'''\\n예시2. member1 = [{'name':'홍길동', 'brith':'2000-01-01'},\\n                {'name':'신길동', 'brith':'1998-12-31'}]\\n    member2 = [{'name':'홍길동', 'year':2000, 'month':1, 'day':1}],\\n                {'name':'신길동', 'year':1998, 'month':12, 'day':31}] \\n'''\\n#년, 월, 일 분리 필요\\n# year추가 , month 추가, day 추가 \\nmember1 = [{'name':'홍길동', 'brith':'2000-01-01'},\\n                {'name':'신길동', 'brith':'1998-12-31'}]\\n\\nmember1['brith'] = 'str(2000)'\",\n",
       "  \"'''\\n예시2. member1 = [{'name':'홍길동', 'brith':'2000-01-01'},\\n                {'name':'신길동', 'brith':'1998-12-31'}]\\n    member2 = [{'name':'홍길동', 'year':2000, 'month':1, 'day':1}],\\n                {'name':'신길동', 'year':1998, 'month':12, 'day':31}] \\n'''\\n#년, 월, 일 분리 필요\\n# year추가 , month 추가, day 추가 \\nmember1 = [{'name':'홍길동', 'brith':'2000-01-01'},\\n                {'name':'신길동', 'brith':'1998-12-31'}]\\n\\nmember1['brith'] = str('2000')\",\n",
       "  \"'''\\n예시2. member1 = [{'name':'홍길동', 'brith':'2000-01-01'},\\n                {'name':'신길동', 'brith':'1998-12-31'}]\\n    member2 = [{'name':'홍길동', 'year':2000, 'month':1, 'day':1}],\\n                {'name':'신길동', 'year':1998, 'month':12, 'day':31}] \\n'''\\n#년, 월, 일 분리 필요\\n# year추가 , month 추가, day 추가 \\nmember1 = [{'name':'홍길동', 'brith':'2000-01-01'},\\n                {'name':'신길동', 'brith':'1998-12-31'}]\\n\\nmember1['brith'] = int('2000')\",\n",
       "  \"'''\\n예시2. member1 = [{'name':'홍길동', 'brith':'2000-01-01'},\\n                {'name':'신길동', 'brith':'1998-12-31'}]\\n    member2 = [{'name':'홍길동', 'year':2000, 'month':1, 'day':1}],\\n                {'name':'신길동', 'year':1998, 'month':12, 'day':31}] \\n'''\\n#년, 월, 일 분리 필요\\n# year추가 , month 추가, day 추가 \\nmember1 = [{'name':'홍길동', 'brith':'2000-01-01'},\\n                {'name':'신길동', 'brith':'1998-12-31'}]\\n\\nmember1['brith'] = int(2000)\",\n",
       "  \"'''\\n예시2. member1 = [{'name':'홍길동', 'brith':'2000-01-01'},\\n                {'name':'신길동', 'brith':'1998-12-31'}]\\n    member2 = [{'name':'홍길동', 'year':2000, 'month':1, 'day':1}],\\n                {'name':'신길동', 'year':1998, 'month':12, 'day':31}] \\n'''\\n#년, 월, 일 분리 필요\\n# year추가 , month 추가, day 추가 \\nmember1 = [{'name':'홍길동', 'brith':'2000-01-01'},\\n                {'name':'신길동', 'brith':'1998-12-31'}]\\n\\nmember1['brith'] = 2000\",\n",
       "  \"'''\\n예시2. member1 = [{'name':'홍길동', 'brith':'2000-01-01'},\\n                {'name':'신길동', 'brith':'1998-12-31'}]\\n    member2 = [{'name':'홍길동', 'year':2000, 'month':1, 'day':1}],\\n                {'name':'신길동', 'year':1998, 'month':12, 'day':31}] \\n'''\\n#년, 월, 일 분리 필요 (split)\\n# year추가 , month 추가, day 추가 \\nmember1 = [{'name':'홍길동', 'brith':'2000-01-01'},\\n                {'name':'신길동', 'brith':'1998-12-31'}]\\n'year' : member1.split[0]\",\n",
       "  \"def func(x):\\n    return int(x.replace(',', ''))\",\n",
       "  \"def func(x):\\n    return int(x.replace(',', ''))\\nprint(func)\",\n",
       "  \"def func(x):\\n    return int(x.replace(',', ''))\\nprint(prices)\",\n",
       "  \"def func(x):\\n    return (int(x.replace(',', '')))\\nprint(prices)\",\n",
       "  \"def func(x):\\n    return int(x.replace(',', ''))\\nprint(prices)\",\n",
       "  'int(\" \")',\n",
       "  \"def func(x):\\n    return int(x.replace(',', ''))\\nprint(prices)\",\n",
       "  \"def func(x):\\n    return int(x.replace(',', ''))\\nprint(int(prices)\",\n",
       "  \"def func(x):\\n    return int(x.replace(',', ''))\\nprint(int(prices))\",\n",
       "  'def func(x):\\n    return int(x.replace(\\',\\', \\'\\'))\\nprint(\"5,000\"',\n",
       "  'def func(x):\\n    return int(x.replace(\\',\\', \\'\\'))\\nprint(\"5,000\")',\n",
       "  \"print(map(lambda x : int(x.replace(',', '')), prices))\",\n",
       "  \"list(map(lambda x : int(x.replace(',', '')), prices))\",\n",
       "  '\\'\\'\\'\\n예시2. member1 = [{\\'name\\':\\'홍길동\\', \\'brith\\':\\'2000-01-01\\'},\\n                {\\'name\\':\\'신길동\\', \\'brith\\':\\'1998-12-31\\'}]\\n    member2 = [{\\'name\\':\\'홍길동\\', \\'year\\':2000, \\'month\\':1, \\'day\\':1}],\\n                {\\'name\\':\\'신길동\\', \\'year\\':1998, \\'month\\':12, \\'day\\':31}] \\n\\'\\'\\'\\n#년, 월, 일 분리 필요 (split)\\n# year추가 , month 추가, day 추가 \\nmember1 = [{\\'name\\':\\'홍길동\\', \\'brith\\':\\'2000-01-01\\'},\\n           {\\'name\\':\\'신길동\\', \\'brith\\':\\'1998-12-31\\'}]\\nmember2= [{\\n    \"name\" : 신길동\\n    \\'year\\' : member1.split[-][0]\\n    \\'month\\': meber1.split[-][1]\\n    \\'day\\' : member1.split[-][2]\\n}]',\n",
       "  \"'''\\n예시 3. member2 를 member1로 바꿉니다.\\n\\n'''\",\n",
       "  '\\'\\'\\'\\n예시2. member1 = [{\\'name\\':\\'홍길동\\', \\'brith\\':\\'2000-01-01\\'},\\n                {\\'name\\':\\'신길동\\', \\'brith\\':\\'1998-12-31\\'}]\\n    member2 = [{\\'name\\':\\'홍길동\\', \\'year\\':2000, \\'month\\':1, \\'day\\':1}],\\n                {\\'name\\':\\'신길동\\', \\'year\\':1998, \\'month\\':12, \\'day\\':31}] \\n\\'\\'\\'\\n#년, 월, 일 분리 필요 (split)\\n# year추가 , month 추가, day 추가 \\nmember1 = [{\\'name\\':\\'홍길동\\', \\'brith\\':\\'2000-01-01\\'},\\n           {\\'name\\':\\'신길동\\', \\'brith\\':\\'1998-12-31\\'}]\\nmember2= [{\\n    \"name\" : 신길동\\n    \\'year\\' : member1.split[-][0]\\n    \\'month\\': meber1.split[-][1]\\n    \\'day\\' : member1.split[-][2]\\n}]\\n\\nprint(member2)',\n",
       "  \"# 2000-01-01 → {'year':1998, 'month':12, 'day':31}\\ndef split_data(data):\\n    split_data = data.split('-')\\n    print(split_data)\",\n",
       "  'split_data(2000-01-01)',\n",
       "  \"# 2000-01-01 → {'year':1998, 'month':12, 'day':31}\\ndef split_data(data):\\n    split_data = data.split('-')\\n    print(split_data)\",\n",
       "  'split_data(2000-01-01)',\n",
       "  'split_data(\"2000-01-01\")',\n",
       "  \"# 2000-01-01 → {'year':1998, 'month':12, 'day':31}\\ndef split_data(data):\\n    split_data = data.split('-')\\n    print(split_data[0],split_data[1],split_data[2])\",\n",
       "  'split_data(\"2000-01-01\")',\n",
       "  \"# 2000-01-01 → {'year':1998, 'month':12, 'day':31}\\ndef split_data(data):\\n    split_data = data.split('-')\\n    print(split_data[0],split_data[1],split_data[2])\\n    print( {'year' : int(split_data[0]),\\n            'month': int(split_data[1]),\\n            'day'  : int(split_data[2])})\",\n",
       "  'split_data(\"2000-01-01\")',\n",
       "  'split_data(\"2000-01-01\")',\n",
       "  'split_data()',\n",
       "  \"split_data('2000-01-01')\",\n",
       "  \"# 2000-01-01 → {'year':1998, 'month':12, 'day':31}\\ndef split_data(data):\\n    split_data = data.split('-')\\n    #print(split_data[0],split_data[1],split_data[2])\\n    print( {'year' : int(split_data[0]),\\n            'month': int(split_data[1]),\\n            'day'  : int(split_data[2])})\",\n",
       "  \"split_data('2000-01-01')\",\n",
       "  \"# 2000-01-01 → {'year':1998, 'month':12, 'day':31}\\ndef split_data(data):\\n    split_data = data.split('-')\\n    #print(split_data[0],split_data[1],split_data[2])\\n    return ( {'year' : int(split_data[0]),\\n            'month': int(split_data[1]),\\n            'day'  : int(split_data[2])})\",\n",
       "  \"split_data('2000-01-01')\",\n",
       "  '\\'\\'\\'\\n예시2. member1 = [{\\'name\\':\\'홍길동\\', \\'brith\\':\\'2000-01-01\\'},\\n                {\\'name\\':\\'신길동\\', \\'brith\\':\\'1998-12-31\\'}]\\n    member2 = [{\\'name\\':\\'홍길동\\', \\'year\\':2000, \\'month\\':1, \\'day\\':1}],\\n                {\\'name\\':\\'신길동\\', \\'year\\':1998, \\'month\\':12, \\'day\\':31}] \\n\\'\\'\\'\\n#년, 월, 일 분리 필요 (split)\\n# year추가 , month 추가, day 추가 \\nmember1 = [{\\'name\\':\\'홍길동\\', \\'brith\\':\\'2000-01-01\\'},\\n           {\\'name\\':\\'신길동\\', \\'brith\\':\\'1998-12-31\\'}]\\nmember2= [{\\n    \"name\" : 신길동\\n    \\'year\\' : int(member1.split[-][0])\\n    \\'month\\': int(meber1.split[-][1])\\n    \\'day\\' : int(member1.split[-][2])\\n}]\\n\\nprint(member2)',\n",
       "  'def member_func(member): #{\\'name\\':\\'홍길동\\', \\'brith\\':\\'2000-01-01\\'\\n    \"{\\'name\\':\\'신길동\\', \\'year\\':1998, \\'month\\':12, \\'day\\':31} 이런식으로 return\"\\n    return {\\n        \\'name\\'  : member.get(\\'name\\'),\\n        \\'year\\'  : int(member[\\'birth\\'].split(\\'-\\')[0]),  #get함수 스타일로 써도 됨. \\n        \\'month\\' : int(member[\\'birth\\'].split(\\'-\\')[1]),\\n        \\'day\\'   : int(member[\\'birth\\'].split(\\'-\\')[2])\\n    }',\n",
       "  'member_func(member)',\n",
       "  'member_func(member2)',\n",
       "  'member_func(member1)',\n",
       "  \"member1 = [{'name':'홍길동', 'brith':'2000-01-01'},\\n                {'name':'신길동', 'brith':'1998-12-31'}]\\n    member2 = [{'name':'홍길동', 'year':2000, 'month':1, 'day':1}],\\n                {'name':'신길동', 'year':1998, 'month':12, 'day':31}] \",\n",
       "  \"member1 = [{'name':'홍길동', 'brith':'2000-01-01'},\\n                {'name':'신길동', 'brith':'1998-12-31'}]\",\n",
       "  'member1',\n",
       "  'def member_func(member): #{\\'name\\':\\'홍길동\\', \\'brith\\':\\'2000-01-01\\'\\n    \"{\\'name\\':\\'신길동\\', \\'year\\':1998, \\'month\\':12, \\'day\\':31} 이런식으로 return\"\\n    return {\\n        \\'name\\'  : member.get(\\'name\\'),\\n        \\'year\\'  : int(member[\\'birth\\'].split(\\'-\\')[0]),  #get함수 스타일로 써도 됨. \\n        \\'month\\' : int(member[\\'birth\\'].split(\\'-\\')[1]),\\n        \\'day\\'   : int(member[\\'birth\\'].split(\\'-\\')[2])\\n    }',\n",
       "  'member_func(member1[0])',\n",
       "  'def member_func(member): #{\\'name\\':\\'홍길동\\', \\'brith\\':\\'2000-01-01\\'\\n    \"{\\'name\\':\\'신길동\\', \\'year\\':1998, \\'month\\':12, \\'day\\':31} 이런식으로 return\"\\n    return {\\n        \\'name\\'  : member.get(\\'name\\'),\\n        \\'year\\'  : int(member[\\'birth\\'].split(\\'-\\')[0]),  #get함수 스타일로 써도 됨. \\n        \\'month\\' : int(member[\\'birth\\'].split(\\'-\\')[1]),\\n        \\'day\\'   : int(member[\\'birth\\'].split(\\'-\\')[2])\\n    }\\nmember_func(member1[0])',\n",
       "  \"member1 = [{'name':'홍길동', 'brith':'2000-01-01'},\\n         {'name':'신길동', 'brith':'1998-12-31'}]\",\n",
       "  \"# 2000-01-01 → {'year':1998, 'month':12, 'day':31}\\ndef split_data(data):\\n    split_data = data.split('-')\\n    #print(split_data[0],split_data[1],split_data[2])\\n    return {'year' : int(split_data[0]),\\n            'month': int(split_data[1]),\\n            'day'  : int(split_data[2])}\",\n",
       "  \"split_data('2000-01-01')\",\n",
       "  'def member_func(member): #{\\'name\\':\\'홍길동\\', \\'brith\\':\\'2000-01-01\\'\\n    \"{\\'name\\':\\'신길동\\', \\'year\\':1998, \\'month\\':12, \\'day\\':31} 이런식으로 return\"\\n    return {\\n        \\'name\\'  : member.get(\\'name\\'),\\n        \\'year\\'  : int(member[\\'birth\\'].split(\\'-\\')[0]),  #get함수 스타일로 써도 됨. \\n        \\'month\\' : int(member[\\'birth\\'].split(\\'-\\')[1]),\\n        \\'day\\'   : int(member[\\'birth\\'].split(\\'-\\')[2])\\n    }\\nmember_func(member1[0])',\n",
       "  'def member_func(member): #{\\'name\\':\\'홍길동\\', \\'brith\\':\\'2000-01-01\\'\\n    \"{\\'name\\':\\'신길동\\', \\'year\\':1998, \\'month\\':12, \\'day\\':31} 이런식으로 return\"\\n    return {\\n        \\'name\\'  : member.get(\\'name\\'),\\n        \\'year\\'  : int(member[\\'birth\\'].split(\\'-\\')[0]),  #get함수 스타일로 써도 됨. \\n        \\'month\\' : int(member[\\'birth\\'].split(\\'-\\')[1]),\\n        \\'day\\'   : int(member[\\'birth\\'].split(\\'-\\')[2])\\n    }\\nmember_func(member1)',\n",
       "  \"list(map(lambda member : {\\n                            'name'  : member.get('name'),\\n                            'year'  : int(member['birth'].split('-')[0]),  \\n                            'month' : int(member['birth'].split('-')[1]),\\n                            'day'   : int(member['birth'].split('-')[2]}))\",\n",
       "  \"list(map(lambda member : {\\n                            'name'  : member.get('name'),\\n                            'year'  : int(member['birth'].split('-')[0]),  \\n                            'month' : int(member['birth'].split('-')[1]),\\n                            'day'   : int(member['birth'].split('-')[2]},))\",\n",
       "  'def member_func(member): #{\\'name\\':\\'홍길동\\', \\'brith\\':\\'2000-01-01\\'\\n    \"{\\'name\\':\\'신길동\\', \\'year\\':1998, \\'month\\':12, \\'day\\':31} 이런식으로 return\"\\n    return {\\n        \\'name\\'  : member.get(\\'name\\'),\\n        \\'year\\'  : int(member[\\'birth\\'].split(\\'-\\')[0]),  #get함수 스타일로 써도 됨. \\n        \\'month\\' : int(member[\\'birth\\'].split(\\'-\\')[1]),\\n        \\'day\\'   : int(member[\\'birth\\'].split(\\'-\\')[2]),\\n    }\\nmember_func(member1)',\n",
       "  'def member_func(member): #{\\'name\\':\\'홍길동\\', \\'brith\\':\\'2000-01-01\\'\\n    \"{\\'name\\':\\'신길동\\', \\'year\\':1998, \\'month\\':12, \\'day\\':31} 이런식으로 return\"\\n    return {\\n        \\'name\\'  : member.get(\\'name\\'),\\n        \\'year\\'  : int(member[\\'birth\\'].split(\\'-\\')[0]),  #get함수 스타일로 써도 됨. \\n        \\'month\\' : int(member[\\'birth\\'].split(\\'-\\')[1]),\\n        \\'day\\'   : int(member[\\'birth\\'].split(\\'-\\')[2]),\\n    }))',\n",
       "  'def member_func(member): #{\\'name\\':\\'홍길동\\', \\'brith\\':\\'2000-01-01\\'\\n    \"{\\'name\\':\\'신길동\\', \\'year\\':1998, \\'month\\':12, \\'day\\':31} 이런식으로 return\"\\n    return {\\n        \\'name\\'  : member.get(\\'name\\'),\\n        \\'year\\'  : int(member[\\'birth\\'].split(\\'-\\')[0]),  #get함수 스타일로 써도 됨. \\n        \\'month\\' : int(member[\\'birth\\'].split(\\'-\\')[1]),\\n        \\'day\\'   : int(member[\\'birth\\'].split(\\'-\\')[2]),\\n    })',\n",
       "  'def member_func(member): #{\\'name\\':\\'홍길동\\', \\'brith\\':\\'2000-01-01\\'\\n    \"{\\'name\\':\\'신길동\\', \\'year\\':1998, \\'month\\':12, \\'day\\':31} 이런식으로 return\"\\n    return {\\n        \\'name\\'  : member.get(\\'name\\'),\\n        \\'year\\'  : int(member[\\'birth\\'].split(\\'-\\')[0]),  #get함수 스타일로 써도 됨. \\n        \\'month\\' : int(member[\\'birth\\'].split(\\'-\\')[1]),\\n        \\'day\\'   : int(member[\\'birth\\'].split(\\'-\\')[2]),\\n    }',\n",
       "  \"list(map(lambda member : {\\n                            'name'  : member.get('name'),\\n                            'year'  : int(member['birth'].split('-')[0]),  \\n                            'month' : int(member['birth'].split('-')[1]),\\n                            'day'   : int(member['birth'].split('-')[2]},))\",\n",
       "  \"list(map(lambda member : {\\n                            'name'  : member.get('name'),\\n                            'year'  : int(member['birth'].split('-')[0]),  \\n                            'month' : int(member['birth'].split('-')[1]),\\n                            'day'   : int(member['birth'].split('-')[2])},))\",\n",
       "  \"list(map(lambda member : {\\n                            'name'  : member.get('name'),\\n                            'year'  : int(member['birth'].split('-')[0]),  \\n                            'month' : int(member['birth'].split('-')[1]),\\n                            'day'   : int(member['birth'].split('-')[2],\\n                            }, member1))member2\",\n",
       "  \"member2 = list(map(lambda member : {\\n                            'name'  : member.get('name'),\\n                            'year'  : int(member['birth'].split('-')[0]),  \\n                            'month' : int(member['birth'].split('-')[1]),\\n                            'day'   : int(member['birth'].split('-')[2],\\n                            }, \\n        member1\\n        )\\n    )\\nmember2\",\n",
       "  \"member2 = list(map(lambda member : {\\n                            'name'  : member.get('name'),\\n                            'year'  : int(member['birth'].split('-')[0]),  \\n                            'month' : int(member['birth'].split('-')[1]),\\n                            'day'   : int(member['birth'].split('-')[2],\\n                            } , \\n        member1\\n        )\\n    )\\nmember2\",\n",
       "  \"member2 = list(map(lambda member : {\\n                            'name'  : member.get('name'),\\n                            'year'  : int(member['birth'].split('-')[0]),  \\n                            'month' : int(member['birth'].split('-')[1]),\\n                            'day'   : int(member['birth'].split('-')[2],} , \\n        member1\\n        )\\n    )\\nmember2\",\n",
       "  \"member2 = list(map(lambda member : {\\n                            'name'  : member.get('name'),\\n                            'year'  : int(member['birth'].split('-')[0]),  \\n                            'month' : int(member['birth'].split('-')[1]),\\n                            'day'   : int(member['birth'].split('-')[2],\\n                            } , \\n        member1\\n        )\\n    )\\nmember2\",\n",
       "  \"member2 = list(map(lambda member : {\\n                            'name'  : member.get('name'),\\n                            'year'  : int(member['birth'].split('-')[0]),  \\n                            'month' : int(member['birth'].split('-')[1]),\\n                            'day'   : int(member['birth'].split('-')[2],\\n                            }, \\n        member1\\n        )\\n    )\\nmember2\",\n",
       "  \"member2 = list(map(lambda member : {\\n                            'name'  : member.get('name'),\\n                            'year'  : int(member['birth'].split('-')[0]),  \\n                            'month' : int(member['birth'].split('-')[1]),\\n                            'day'   : int(member['birth'].split('-')[2]),\\n                            }, \\n        member1\\n        )\\n    )\\nmember2\",\n",
       "  \"member2 = list(map(lambda member : {\\n                            'name'  : member.get('name'),\\n                            'year'  : int(member['birth'].split('-')[0]),  \\n                            'month' : int(member['birth'].split('-')[1]),\\n                            'day'   : int(member['birth'].split('-')[2],\\n                            }, \\n        member1\\n        )\\n    )\\nmember2\",\n",
       "  'def member_func(member): #{\\'name\\':\\'홍길동\\', \\'brith\\':\\'2000-01-01\\'\\n    \"{\\'name\\':\\'신길동\\', \\'year\\':1998, \\'month\\':12, \\'day\\':31} 이런식으로 return\"\\n    return {\\n        \\'name\\'  : member.get(\\'name\\'),\\n        \\'year\\'  : int(member[\\'birth\\'].split(\\'-\\')[0]),  #get함수 스타일로 써도 됨. \\n        \\'month\\' : int(member[\\'birth\\'].split(\\'-\\')[1]),\\n        \\'day\\'   : int(member[\\'birth\\'].split(\\'-\\')[2]),\\n    }\\nmember_func(member1[0])',\n",
       "  'def member_func(member): #{\\'name\\':\\'홍길동\\', \\'brith\\':\\'2000-01-01\\'\\n    \"{\\'name\\':\\'신길동\\', \\'year\\':1998, \\'month\\':12, \\'day\\':31} 이런식으로 return\"\\n    return {\\n        \\'name\\'  : member.get(\\'name\\'),\\n        \\'year\\'  : int(member[\\'brith\\'].split(\\'-\\')[0]),  #get함수 스타일로 써도 됨. \\n        \\'month\\' : int(member[\\'brith\\'].split(\\'-\\')[1]),\\n        \\'day\\'   : int(member[\\'brith\\'].split(\\'-\\')[2]),\\n    }\\nmember_func(member1[0])',\n",
       "  \"member2 = list(map(lambda member : {\\n                            'name'  : member.get('name'),\\n                            'year'  : int(member['brith'].split('-')[0]),  \\n                            'month' : int(member['brith'].split('-')[1]),\\n                            'day'   : int(member['brith'].split('-')[2]),\\n                            }, \\n        member1\\n        )\\n    )\\nmember2\",\n",
       "  \"member1 = [{'name':'홍길동', 'birth':'2000-01-01'},\\n         {'name':'신길동', 'birth':'1998-12-31'}]\",\n",
       "  '\\'\\'\\'\\n예시2. member1 = [{\\'name\\':\\'홍길동\\', \\'birth\\':\\'2000-01-01\\'},\\n                {\\'name\\':\\'신길동\\', \\'birth\\':\\'1998-12-31\\'}]\\n    member2 = [{\\'name\\':\\'홍길동\\', \\'year\\':2000, \\'month\\':1, \\'day\\':1}],\\n                {\\'name\\':\\'신길동\\', \\'year\\':1998, \\'month\\':12, \\'day\\':31}] \\n\\'\\'\\'\\n#년, 월, 일 분리 필요 (split)\\n# year추가 , month 추가, day 추가 \\n#member1 = [{\\'name\\':\\'홍길동\\', \\'birth\\':\\'2000-01-01\\'},\\n#           {\\'name\\':\\'신길동\\', \\'birth\\':\\'1998-12-31\\'}]\\n#member2= [{\\n#    \"name\" : 신길동\\n#    \\'year\\' : int(member1.split[-][0])\\n#    \\'month\\': int(meber1.split[-][1])\\n#    \\'day\\' : int(member1.split[-][2])\\n#}]\\n\\n#print(member2)',\n",
       "  \"# 2000-01-01 → {'year':1998, 'month':12, 'day':31}\\ndef split_data(data):\\n    split_data = data.split('-')\\n    #print(split_data[0],split_data[1],split_data[2])\\n    return {'year' : int(split_data[0]),\\n            'month': int(split_data[1]),\\n            'day'  : int(split_data[2])}\",\n",
       "  \"split_data('2000-01-01')\",\n",
       "  'def member_func(member): #{\\'name\\':\\'홍길동\\', \\'birth\\':\\'2000-01-01\\'\\n    \"{\\'name\\':\\'신길동\\', \\'year\\':1998, \\'month\\':12, \\'day\\':31} 이런식으로 return\"\\n    return {\\n        \\'name\\'  : member.get(\\'name\\'),\\n        \\'year\\'  : int(member[\\'birth\\'].split(\\'-\\')[0]),  #get함수 스타일로 써도 됨. \\n        \\'month\\' : int(member[\\'birth\\'].split(\\'-\\')[1]),\\n        \\'day\\'   : int(member[\\'birth\\'].split(\\'-\\')[2]),\\n    }\\nmember_func(member1[0])',\n",
       "  \"member2 = list(map(lambda member : {\\n                            'name'  : member.get('name'),\\n                            'year'  : int(member['birth'].split('-')[0]),  \\n                            'month' : int(member['birth'].split('-')[1]),\\n                            'day'   : int(member['birth'].split('-')[2]),\\n                            }, \\n        member1\\n        )\\n    )\\nmember2\",\n",
       "  '\\'\\'\\'\\n예시 3. member2 를 member1로 바꿉니다.\\nmember2 = [{\\'name\\':\\'홍길동\\', \\'year\\':2000, \\'month\\':1, \\'day\\':1}],\\n                {\\'name\\':\\'신길동\\', \\'year\\':1998, \\'month\\':12, \\'day\\':31}]을\\n\\n\\'\\'\\'\\n\\n#{\\'year\\':2000, \\'month\\':1, \\'day\\':1} => \"2000-01-01\"를 return하는 함수\\nformat이나 \\n\\ndef member_ex2(member):\\n    {\\'name\\' : member.get(\\'name\\'),\\n      \\'birth\\' :\\'-\\'.join(member[\\'birth\\'].split)}',\n",
       "  '\\'\\'\\'\\n예시 3. member2 를 member1로 바꿉니다.\\nmember2 = [{\\'name\\':\\'홍길동\\', \\'year\\':2000, \\'month\\':1, \\'day\\':1}],\\n                {\\'name\\':\\'신길동\\', \\'year\\':1998, \\'month\\':12, \\'day\\':31}]을\\n\\n\\'\\'\\'\\n\\n#{\\'year\\':2000, \\'month\\':1, \\'day\\':1} => \"2000-01-01\"를 return하는 함수\\n#format이나 \\n\\ndef member_ex2(member):\\n    {\\'name\\' : member.get(\\'name\\'),\\n      \\'birth\\' :\\'-\\'.join(member[\\'birth\\'].split)}',\n",
       "  '\\'\\'\\'\\n예시 3. member2 를 member1로 바꿉니다.\\nmember2 = [{\\'name\\':\\'홍길동\\', \\'year\\':2000, \\'month\\':1, \\'day\\':1}],\\n                {\\'name\\':\\'신길동\\', \\'year\\':1998, \\'month\\':12, \\'day\\':31}]을\\n\\n\\'\\'\\'\\n\\n#{\\'year\\':2000, \\'month\\':1, \\'day\\':1} => \"2000-01-01\"를 return하는 함수\\n#format이나 \\n\\ndef member_ex2(member):\\n    {\\'name\\' : member.get(\\'name\\'),\\n      \\'birth\\' :\\'-0\\'.join(member[\\'birth\\'].split[1]),}\\nprint(member2)',\n",
       "  '\\'\\'\\'\\n예시 3. member2 를 member1로 바꿉니다.\\nmember2 = [{\\'name\\':\\'홍길동\\', \\'year\\':2000, \\'month\\':1, \\'day\\':1}],\\n                {\\'name\\':\\'신길동\\', \\'year\\':1998, \\'month\\':12, \\'day\\':31}]을\\n\\n\\'\\'\\'\\n\\n#{\\'year\\':2000, \\'month\\':1, \\'day\\':1} => \"2000-01-01\"를 return하는 함수\\n#format이나 \\n\\ndef member_ex2(member):\\n    {\\'name\\' : member.get(\\'name\\'),\\n      \\'birth\\' :\\'-0\\'.join(member[\\'birth\\'].split[1]),}\\n    print(member2)',\n",
       "  '\\'\\'\\'\\n예시 3. member2 를 member1로 바꿉니다.\\nmember2 = [{\\'name\\':\\'홍길동\\', \\'year\\':2000, \\'month\\':1, \\'day\\':1}],\\n                {\\'name\\':\\'신길동\\', \\'year\\':1998, \\'month\\':12, \\'day\\':31}]을\\n\\n\\'\\'\\'\\n\\n#{\\'year\\':2000, \\'month\\':1, \\'day\\':1} => \"2000-01-01\"를 return하는 함수\\n#format이나 \\n\\ndef member_ex2(member):\\n    {\\'name\\' : member.get(\\'name\\'),\\n      \\'birth\\' :\\'-0\\'.join(member[\\'birth\\'].split[1]),}\\n    return(member2)',\n",
       "  '\\'\\'\\'\\n예시 3. member2 를 member1로 바꿉니다.\\nmember2 = [{\\'name\\':\\'홍길동\\', \\'year\\':2000, \\'month\\':1, \\'day\\':1}],\\n                {\\'name\\':\\'신길동\\', \\'year\\':1998, \\'month\\':12, \\'day\\':31}]을\\n\\n\\'\\'\\'\\n\\n#{\\'year\\':2000, \\'month\\':1, \\'day\\':1} => \"2000-01-01\"를 return하는 함수\\n#format이나 \\n\\ndef member_ex2(member):\\n    {\\'name\\' : member.get(\\'name\\'),\\n     \\'birth\\': f\\'{[\\'year\\']}-{\\'month\\':02d}-{[\\'day\\']:02}\\'}\\n    return (member2)',\n",
       "  '\\'\\'\\'\\n예시 3. member2 를 member1로 바꿉니다.\\nmember2 = [{\\'name\\':\\'홍길동\\', \\'year\\':2000, \\'month\\':1, \\'day\\':1}],\\n                {\\'name\\':\\'신길동\\', \\'year\\':1998, \\'month\\':12, \\'day\\':31}]을\\n\\n\\'\\'\\'\\n\\n#{\\'year\\':2000, \\'month\\':1, \\'day\\':1} => \"2000-01-01\"를 return하는 함수\\n#format이나 \\n\\ndef member_ex2(member):\\n    {\\'name\\' : member.get(\\'name\\'),\\n     \\'birth\\': f\\'{[\\'year\\']}-{[\\'month\\']:02d}-{[\\'day\\']:02}\\'}\\n    return (member2)',\n",
       "  '\\'\\'\\'\\n예시 3. member2 를 member1로 바꿉니다.\\nmember2 = [{\\'name\\':\\'홍길동\\', \\'year\\':2000, \\'month\\':1, \\'day\\':1}],\\n                {\\'name\\':\\'신길동\\', \\'year\\':1998, \\'month\\':12, \\'day\\':31}]을\\n\\n\\'\\'\\'\\n\\n#{\\'year\\':2000, \\'month\\':1, \\'day\\':1} => \"2000-01-01\"를 return하는 함수\\n#format이나 \\n\\ndef member_ex2(member):\\n    {\\'name\\' : member.get(\\'name\\'),\\n     \\'birth\\': f\\'{[\\'year\\']}-{[\\'month\\']:02d}-{[\\'day\\']:02}\\'}\\n    return\\nmember_ex2(member2)',\n",
       "  \"def join_data(data):\\n    print([data.get('year'), data.get('month'),data.get('day')])\\n    year = str(data.get('year'))\\n#    month = str(data.get('month')) # 월은12월까지 있는거라서 이렇게 하면 안됨. \\n    month = data.get('month')\\n    if month < 10:\\n        month = '0'+str(month)\\n    else:\\n        month = str(month)   \\n    day = data.get('day')\\n    if day < 10:\\n        day = '0'+str(day)\\n    else:\\n        day = str(day)\\n        \\n    return '-'.join([]'year', 'month','day']) \\n#join에는 문자리스트가 들어가야 함. 숫자 들어가면 오류 남\",\n",
       "  \"def join_data(data):\\n    print([data.get('year'), data.get('month'),data.get('day')])\\n    year = str(data.get('year'))\\n#    month = str(data.get('month')) # 월은12월까지 있는거라서 이렇게 하면 안됨. \\n    month = data.get('month')\\n    if month < 10:\\n        month = '0'+str(month)\\n    else:\\n        month = str(month)   \\n    day = data.get('day')\\n    if day < 10:\\n        day = '0'+str(day)\\n    else:\\n        day = str(day)\\n        \\n    return '-'.join(['year', 'month','day']) \\n#join에는 문자리스트가 들어가야 함. 숫자 들어가면 오류 남\",\n",
       "  \"join_data({'year':2000, 'month': 1, 'day': 1})\",\n",
       "  \"def join_data(data):\\n    print([data.get('year'), data.get('month'),data.get('day')])\\n    year = str(data.get('year'))\\n#    month = str(data.get('month')) # 월은12월까지 있는거라서 이렇게 하면 안됨. \\n    month = data.get('month')\\n    if month < 10:\\n        month = '0'+str(month)\\n    else:\\n        month = str(month)   \\n    day = data.get('day')\\n    if day < 10:\\n        day = '0'+str(day)\\n    else:\\n        day = str(day)\\n        \\n    return '-'.join(['year', 'month','day']) \\n#join에는 문자리스트가 들어가야 함. 숫자 들어가면 오류 남\",\n",
       "  \"join_data({'year':2000, 'month': 1, 'day': 1})\",\n",
       "  \"def join_data(data):\\n    print([data.get('year'), data.get('month'),data.get('day')])\\n    year = str(data.get('year'))\\n#    month = str(data.get('month')) # 월은12월까지 있는거라서 이렇게 하면 안됨. \\n    month = data.get('month')\\n    if month < 10:\\n        month = '0'+str(month)\\n    else:\\n        month = str(month)   \\n    day = data.get('day')\\n    if day < 10:\\n        day = '0'+str(day)\\n    else:\\n        day = str(day)\\n        \\n    return '-'.join(['year','month','day']) \\n#join에는 문자리스트가 들어가야 함. 숫자 들어가면 오류 남\",\n",
       "  \"join_data({'year':2000, 'month': 1, 'day': 1})\",\n",
       "  'def join_data(data):\\n    print(\"{}-{:02}-{:02}\".format(data.get(\\'year\\')\\n                                  ,data.get(\\'month\\'),\\n                                  data.get(\\'day\\')))',\n",
       "  'def join_data(data):\\n    print(\"{}-{:02}-{:02}\".format(data.get(\\'year\\')\\n                                  ,data.get(\\'month\\'),\\n                                  data.get(\\'day\\')))\\njoin_data(member2)',\n",
       "  'def join_data(data):\\n    print(\"{}-{:02}-{:02}\".format(data.get(\\'year\\')\\n                                  ,data.get(\\'month\\'),\\n                                  data.get(\\'day\\')))',\n",
       "  \"join_data({'year':2000,'month':1,'day':1})\",\n",
       "  \"def join_data(data):\\n    print([data.get('year'), data.get('month'),data.get('day')])\\n    year = str(data.get('year'))\\n#    month = str(data.get('month')) # 월은12월까지 있는거라서 이렇게 하면 안됨. \\n    month = data.get('month')\\n    if month < 10:\\n        month = '0'+str(month)\\n    else:\\n        month = str(month)   \\n    day = data.get('day')\\n    if day < 10:\\n        day = '0'+str(day)\\n    else:\\n        day = str(day)\\n        \\n    return '-'.join(['year','month','day']) \\n#join에는 문자리스트가 들어가야 함. 숫자 들어가면 오류 남\",\n",
       "  \"join_data({'year':2000, 'month': 1, 'day': 1})\",\n",
       "  \"def join_data(data):\\n#    print([data.get('year'), data.get('month'),data.get('day')])\\n    year = str(data.get('year'))\\n#    month = str(data.get('month')) # 월은12월까지 있는거라서 이렇게 하면 안됨. \\n    month = data.get('month')\\n    if month < 10:\\n        month = '0'+str(month)\\n    else:\\n        month = str(month)   \\n    day = data.get('day')\\n    if day < 10:\\n        day = '0'+str(day)\\n    else:\\n        day = str(day)\\n        \\n    return '-'.join(['year','month','day']) \\n#join에는 문자리스트가 들어가야 함. 숫자 들어가면 오류 남\",\n",
       "  \"join_data({'year':2000, 'month': 1, 'day': 1})\",\n",
       "  \"join_data({'year':2000,'month':1,'day':1})\",\n",
       "  \"def join_data(data):\\n#    print([data.get('year'), data.get('month'),data.get('day')])\\n    year = str(data.get('year'))\\n#    month = str(data.get('month')) # 월은12월까지 있는거라서 이렇게 하면 안됨. \\n    month = data.get('month')\\n    if month < 10:\\n        month = '0'+str(month)\\n    else:\\n        month = str(month)   \\n    day = data.get('day')\\n    if day < 10:\\n        day = '0'+str(day)\\n    else:\\n        day = str(day)\\n        \\n    return '-'.join(['year','month','day']) \\n#join에는 문자리스트가 들어가야 함. 숫자 들어가면 오류 남\",\n",
       "  \"def join_date(data):\\n    # print([data.get('year'), data.get('month'), data.get('day')])\\n    year = str(data.get('year'))\\n    month = data.get('month')\\n    if month < 10:\\n        month = '0'+str(month)\\n    else:\\n        month = str(month)\\n    day = data.get('day')\\n    if day < 10:\\n        day = '0'+str(day)\\n    else:\\n        day = str(day)\\n    return '-'.join([year, month, day])\",\n",
       "  \"join_data({'year':2000,'month':1,'day':1})\",\n",
       "  \"def join_data(data):\\n#    print([data.get('year'), data.get('month'),data.get('day')])\\n    year = str(data.get('year'))\\n#    month = str(data.get('month')) \\n    month = data.get('month')\\n    if month < 10:\\n        month = '0'+str(month)\\n    else:\\n        month = str(month)   \\n    day = data.get('day')\\n    if day < 10:\\n        day = '0'+str(day)\\n    else:\\n        day = str(day)\\n        \\n    return '-'.join(['year','month','day']) \\n#join에는 문자리스트가 들어가야 함. 숫자 들어가면 오류 남\",\n",
       "  \"join_data({'year':2000,'month':1,'day':1})\",\n",
       "  \"def join_data(data):\\n#    print([data.get('year'), data.get('month'),data.get('day')])\\n    year = str(data.get('year'))\\n#    month = str(data.get('month')) \\n    month = data.get('month')\\n    if month < 10:\\n        month = '0'+str(month)\\n    else:\\n        month = str(month)   \\n    day = data.get('day')\\n    if day < 10:\\n        day = '0'+str(day)\\n    else:\\n        day = str(day)\\n        \\n    return '-'.join([year,month,day]) \\n#join에는 문자리스트가 들어가야 함. 숫자 들어가면 오류 남\",\n",
       "  \"join_data({'year':2000,'month':1,'day':1})\",\n",
       "  \"join_data({'year':2000,'month':18,'day':1})\",\n",
       "  \"join_data({'year':2000,'month':1,'day':1})\",\n",
       "  '# 더 간단하게 하는 방법으로 가는중 2\\ndef join_data(data):\\n    print(\"{year}-{month:02}-{day:02}\".format(**data) #**data안에 있는 값과 동일 \\n#                                            year = data.get(\\'year\\'),\\n#                                            month = data.get(\\'month\\'),\\n#                                            day = data.get(\\'day\\')))',\n",
       "  '# 더 간단하게 하는 방법으로 가는중 2\\ndef join_data(data):\\n    print(\"{year}-{month:02}-{day:02}\".format(**data) #**data안에 있는 값과 동일 ',\n",
       "  '# 더 간단하게 하는 방법으로 가는중 2\\ndef join_data(data):\\n    print(\"{year}-{month:02}-{day:02}\".format(**data) #**data안에 있는 값과 동일 ',\n",
       "  \"join_data({'year':2000,'month':1,'day':1})\",\n",
       "  '# 더 간단하게 하는 방법으로 가는중 2 (**data안에 있는 값과 동일)\\ndef join_data(data):\\n    print(\"{year}-{month:02}-{day:02}\".format(**data)',\n",
       "  '# 더 간단하게 하는 방법으로 가는중 2 (**data안에 있는 값과 동일)\\ndef join_data(data):\\n    print(\"{year}-{[month]:02}-{[day]:02}\".format(**data)',\n",
       "  '# 더 간단하게 하는 방법으로 가는중 2 (**data안에 있는 값과 동일)\\ndef join_data(data):\\n    print ()\"{year}-{month:02}-{day:02}\".format(**data))',\n",
       "  '# 더 간단하게 하는 방법으로 가는중 2 (**data안에 있는 값과 동일)\\ndef join_data(data):\\n    print (\"{year}-{month:02}-{day:02}\".format(**data))',\n",
       "  \"join_data({'year':2000,'month':1,'day':1})\",\n",
       "  '# 더 간단하게 하는 방법으로 가는중 2 (**data안에 있는 값과 동일)\\ndef join_data(data):\\n    return \"{year}-{month:02}-{day:02}\".format(**data)',\n",
       "  \"join_data({'year':2000,'month':1,'day':1})\",\n",
       "  '# 더 간단하게 하는 방법으로 가는중 2 (**data안에 있는 값과 동일)\\ndef join_data(data):\\n    return \"{year}-{[month]:02}-{[day]:02}\".format(**data)',\n",
       "  \"join_data({'year':2000,'month':1,'day':1})\",\n",
       "  '# 더 간단하게 하는 방법으로 가는중 2 (**data안에 있는 값과 동일)\\ndef join_data(data):\\n    return \"{year}-{month:02}-{day:02}\".format(**data)',\n",
       "  \"join_data({'year':2000,'month':1,'day':1})\",\n",
       "  '\\'\\'\\'\\n{\\'name\\':\\'홍길동\\', \\'year\\':2000, \\'month\\':1, \\'day\\':1}]을\\n{\\'name\\':\\'홍길동\\', \\'birth\\':\\'2000-01-01\\'}로 가공\\n\\'\\'\\'\\n        \\nlist(map(lambda member : {\\n                            \\'name\\' : member.get(\\'name\\'),\\n                            \\'birth\\' : \"{year}-{month:02}-{day:02}\".format(**data)}))\\nprint(member2)',\n",
       "  '\\'\\'\\'\\n{\\'name\\':\\'홍길동\\', \\'year\\':2000, \\'month\\':1, \\'day\\':1}]을\\n{\\'name\\':\\'홍길동\\', \\'birth\\':\\'2000-01-01\\'}로 가공\\n\\'\\'\\'\\n        \\nlist(map(lambda member : {\\n                            \\'name\\' : member.get(\\'name\\'),\\n                            \\'birth\\' : \"{year}-{month:02}-{day:02}\".format(**data)}))\\nprint(member)',\n",
       "  '\\'\\'\\'\\n{\\'name\\':\\'홍길동\\', \\'year\\':2000, \\'month\\':1, \\'day\\':1}]을\\n{\\'name\\':\\'홍길동\\', \\'birth\\':\\'2000-01-01\\'}로 가공\\n\\'\\'\\'\\n        \\nlist(map(lambda member : {\\n                            \\'name\\' : member.get(\\'name\\'),\\n                            \\'birth\\' : \"{year}-{month:02}-{day:02}\".format(**data)}, member2))',\n",
       "  '#{\\'name\\':\\'홍길동\\', \\'year\\':2000, \\'month\\':1, \\'day\\':1}]을\\n#{\\'name\\':\\'홍길동\\', \\'birth\\':\\'2000-01-01\\'}로 가공\\n      \\nlist(map(lambda member : {\\n                            \\'name\\' : member.get(\\'name\\'),\\n                            \\'birth\\' : \"{year}-{month:02}-{day:02}\".format(**data)}, member2))',\n",
       "  '#{\\'name\\':\\'홍길동\\', \\'year\\':2000, \\'month\\':1, \\'day\\':1}]을\\n#{\\'name\\':\\'홍길동\\', \\'birth\\':\\'2000-01-01\\'}로 가공\\n      \\nlist(map(lambda member : {\\n                            \\'name\\' : member.get(\\'name\\'),\\n                            \\'birth\\' : \"{year}-{month:02}-{day:02}\".format(**data)\\n                            },\\n    member2\\n))',\n",
       "  '#{\\'name\\':\\'홍길동\\', \\'year\\':2000, \\'month\\':1, \\'day\\':1}]을\\n#{\\'name\\':\\'홍길동\\', \\'birth\\':\\'2000-01-01\\'}로 가공\\n      \\nlist(map(lambda member : {\\n                            \\'name\\' : member.get(\\'name\\'),\\n                            \\'birth\\' : \"{year}-{month:02}-{day:02}\".format(**member)\\n                            },\\n    member2\\n))',\n",
       "  '#백터데이터 리스트에 [1, 2, 3, 4, 5] => [2,4]\\ndef filter_tamplate(func, L=[])\\n    result = []\\n    for l in L:\\n        if func(l):\\n            result.append(l)\\n        return result ',\n",
       "  '#백터데이터 리스트에 [1, 2, 3, 4, 5] => [2,4]\\ndef filter_tamplate(func, L=[]):\\n    result = []\\n    for l in L:\\n        if func(l):\\n            result.append(l)\\n        return result ',\n",
       "  'def evenChk(value):\\n    return value%2==0\\nevenChk(20), evenChk(9)',\n",
       "  'def evenChk(value):\\n    return value%2==0\\nevenChk(20), evenChk(9), evenChk([1,2])',\n",
       "  'def evenChk(value):\\n    return value%2==0\\nevenChk(20), evenChk(9)',\n",
       "  'list_data = [1,2,3,4,5]\\nfilter_tamplate(lambda value : value%2==0, list_data )',\n",
       "  'list_data = [1, 2, 3, 4, 5]\\nfilter_tamplate(lambda value : value%2==0, list_data )',\n",
       "  '#백터데이터 리스트에 [1, 2, 3, 4, 5] => [2,4]\\ndef filter_tamplate(func, L=[]):\\n    result = []\\n    for l in L:\\n        if func(l):\\n            result.append(l)\\n        return result ',\n",
       "  'def evenChk(value):\\n    return value%2==0\\nevenChk(20), evenChk(9)',\n",
       "  'list_data = [1, 2, 3, 4, 5]\\nfilter_tamplate(lambda value : value%2==0, list_data )',\n",
       "  'list_data = [1, 2, 3, 4, 5]\\nfilter_tamplate(lambda value : value%2==0, list_data )',\n",
       "  '[data for data in list_data if data%2==0]',\n",
       "  'list_data = [1, 2, 3, 4, 5]\\nfilter_tamplate(lambda value:value%2==0, list_data )',\n",
       "  'list_data = [1, 2, 3, 4, 5]\\nfilter_tamplate(lambda value : value%2==0, list_data)',\n",
       "  'list_data = [1, 2, 3, 4, 5]\\nfilter_tamplate(lambda value : value%2==0, list_data)',\n",
       "  'list_data = [1, 2, 3, 4, 5]\\nfilter_tamplate(lambda value : value%2==0, list_data)',\n",
       "  '#백터데이터 리스트에 [1, 2, 3, 4, 5] => [2,4]\\ndef filter_tamplate(func, L=[]):\\n    result = []\\n    for l in L:\\n        if func(l):\\n            result.append(l)\\n    return result ',\n",
       "  'def evenChk(value):\\n    return value%2==0\\nevenChk(20), evenChk(9)',\n",
       "  'list_data = [1, 2, 3, 4, 5]\\nfilter_tamplate(lambda value : value%2==0, list_data)',\n",
       "  'p = [9, 2, 7]\\np.sort(reverse=True)\\np',\n",
       "  'number2d = [[9.9],\\n            [1,100],\\n            [10,1]]\\nnumber2d.sort()\\nnumber2d',\n",
       "  'number2d = [[9.9],\\n            [1,100],\\n            [10,1]]\\nnumber2d.sort(reverse=True)\\nnumber2d\\n#이 sort는 앞에자리 기준으로 순서 정해버림',\n",
       "  'number2d = [[9.9],\\n            [1,100],\\n            [10,1]]\\nnumber2d.sort(reverse=False) #무조건 0번 아이템 기준으로 정렬\\nnumber2d\\n#이 sort는 앞에자리 기준으로 순서 정해버림',\n",
       "  'number2d = [[9.9],\\n            [1,100],\\n            [10,1]]\\nnumber2d.sort(reverse=True) #무조건 0번 아이템 기준으로 정렬\\nnumber2d\\n#이 sort는 앞에자리 기준으로 순서 정해버림',\n",
       "  'number2d = [[9,9,9,9,9],\\n            [1,100],\\n            [10,1]]\\nnumber2d.sort(reverse=True) #무조건 0번 item 기준으로 정렬\\nnumber2d\\n#이 sort는 앞에자리 기준으로 순서 정해버림',\n",
       "  \"pairs = [(2, 'two'), (1, 'one'),(4,'four'),(3,'three')]\\nparis.sort()\\nparis\",\n",
       "  \"pairs = [(2, 'two'), (1, 'one'),(4,'four'),(3,'three')]\\npairs.sort()\\npairs\",\n",
       "  'number2d = [[9,9,9,9,9],\\n            [1,100],\\n            [10,1]]\\nnumber2d.sort(reverse=True) #무조건 0번 item 기준으로 정렬\\nnumber2d\\n#이 sort는 앞에자리 기준으로 순서 정해버림',\n",
       "  \"#1번째 item을 기준으로 정렬\\n\\npairs = [(2, 'two'), (1, 'one'),(4,'four'),(3,'three')]\\npairs.sort(1)\\npairs\",\n",
       "  \"#1번째 item을 기준으로 정렬\\n\\npairs = [(2, 'two'), (1, 'one'),(4,'four'),(3,'three')]\\npairs.sort()\\npairs\",\n",
       "  \"#1번째 item을 기준으로 정렬(문자:abc순서로 정렬)\\n\\npairs = [(2, 'two'), (1, 'one'),(4,'four'),(3,'three')]\\npairs.split[1]\\npairs.sort()\\npairs\",\n",
       "  \"#1번째 item을 기준으로 정렬(문자:abc순서로 정렬)\\n\\npairs = [(2, 'two'), (1, 'one'),(4,'four'),(3,'three')]\\npairs.sort(key=lambda pair : pair[1])\\npairs\",\n",
       "  \"#1번째 item을 기준으로 정렬(문자:abc순서로 정렬)\\n\\npairs = [(2, 'two'), (1, 'one'),(4,'four'),(3,'three')]\\npairs.sort(key=lambda pair : pair[1],reverse=False) #1번 인덱스기준으로 abc순서로 정리 \\npairs\",\n",
       "  \"#1번째 item을 기준으로 정렬(문자:abc순서로 정렬)\\n\\npairs = [(2, 'two'), (1, 'one'),(4,'four'),(3,'three')]\\npairs.sort(key=lambda pair : pair[1])#1번 인덱스기준으로 abc순서로 정리 \\npairs\",\n",
       "  \"#1번째 item을 기준으로 정렬(문자:abc순서로 정렬)\\n\\npairs = [(2, 'two'), (1, 'one'),(4,'four'),(3,'three')]\\npairs.sort( reverse=Fals, key=lambda pair : pair[1])#1번 인덱스기준으로 abc순서로 정리 \\npairs\",\n",
       "  \"#1번째 item을 기준으로 정렬(문자:abc순서로 정렬)\\n\\npairs = [(2, 'two'), (1, 'one'),(4,'four'),(3,'three')]\\npairs.sort(key=lambda pair : pair[1],reverse)#1번 인덱스기준으로 abc순서로 정리 \\npairs\",\n",
       "  \"#1번째 item을 기준으로 정렬(문자:abc순서로 정렬) #1번 인덱스기준으로 abc순서로 정리 \\n\\npairs = [(2, 'two'), (1, 'one'),(4,'four'),(3,'three')]\\npairs.sort(key=lambda pair : pair[1],reverse) \\npairs\",\n",
       "  \"#1번째 item을 기준으로 정렬(문자:abc순서로 정렬) #1번 인덱스기준으로 abc순서로 정리 \\n\\npairs = [(2, 'two'), (1, 'one'),(4,'four'),(3,'three')]\\npairs.sort(key=lambda pair : pair[1]) \\npairs\",\n",
       "  'number2d = [[9,9,9,9,9],\\n            [1,100],\\n            [10,1]]\\nnumber2d.sort(reverse=True) #무조건 0번 item 기준으로 정렬\\nnumber2d\\n#이 sort는 앞에자리 기준으로 순서 정해버림',\n",
       "  '#합이 큰 순으로 정렬 \\n\\nnumber2d.sort(key=lambda item :sum(item))\\nnumber2d',\n",
       "  '(lambda item :sum(item))([1,2,3])',\n",
       "  '#합이 큰 순으로 정렬 \\n\\nnumber2d.sort(key=lambda item :sum(item), reverse=True)\\nnumbers2d',\n",
       "  '#합이 큰 순으로 정렬 \\n\\nnumber2d.sort(key=lambda item :sum(item), reverse=True)\\nnumber2d',\n",
       "  '#리스트를 매개변수로 받아 합을 return하는 함수 test\\n(lambda item :sum(item))([1,2,3])',\n",
       "  'students.sort(key=lambda ex : ex [student[0]] ,reverse=True)\\nstudents',\n",
       "  \"# 이름순으로 정렬(ㄱㄴㄷ 순)\\nstudents = [\\n    {'name':'홍길동', 'score':90},\\n    {'name':'김길동', 'score':85},\\n    {'name':'최길동', 'score':62},]\",\n",
       "  'students.sort(key=lambda ex : ex [student[0]] ,reverse=True)\\nstudents',\n",
       "  'students.sort(key=lambda ex : ex[0] ,reverse=True)\\nstudents',\n",
       "  \"students.sort(key=lambda ex : ex['name'] ,reverse=True)\\nstudents\",\n",
       "  \"students.sort(key=lambda ex : ex['name'] ,reverse=Flase)\\nstudents\",\n",
       "  \"students.sort(key=lambda ex : ex['name'] ,reverse=False)\\nstudents\",\n",
       "  \"#score순으로 정렬(내림차순정렬)\\nstudents.sort(key=lambda ex : ex['score'] ,reverse=True)\\nstudents\",\n",
       "  \"# 이름순으로 정렬(ㄱㄴㄷ 순)\\nstudents = [\\n    {'name':'홍길동', 'score':90},\\n    {'name':'김길동', 'score':85},\\n    {'name':'최길동', 'score':62},\\n    {'score':99}\\n]\",\n",
       "  \"students.sort(key=lambda ex : ex['name'] ,reverse=False)\\nstudents\",\n",
       "  \"# 이름순으로 정렬(ㄱㄴㄷ 순)\\nstudents = [\\n    {'name':'홍길동', 'score':90},\\n    {'name':'김길동', 'score':85},\\n    {'name':'최길동', 'score':62},\\n]\",\n",
       "  \"students.sort(key=lambda ex : ex['name'] ,reverse=False)\\nstudents\",\n",
       "  \"# 이름이 없는 사람의 점수를 내림차순으로 정렬\\nstudents.sort(key=lambda ex :['score'],reverse=True)\",\n",
       "  \"# 이름이 없는 사람의 점수를 내림차순으로 정렬\\nstudents.sort(key=lambda ex :['score'],reverse=True)\\nstudents\",\n",
       "  \"# 이름이 없는 사람의 점수를 내림차순으로 정렬\\nstudents.sort(key=lambda ex :['score'],reverse=False)\\nstudents\",\n",
       "  \"# 이름이 없는 사람의 점수를 내림차순으로 정렬\\nstudents.sort(key=lambda ex :ex ['score'],reverse=False)\\nstudents\",\n",
       "  \"# 이름이 없는 사람의 점수를 내림차순으로 정렬\\nstudents.sort(key=lambda ex : ex ['score'],reverse=False)\\nstudents\",\n",
       "  \"# 이름순으로 정렬(ㄱㄴㄷ 순)\\nstudents = [\\n    {'name':'홍길동', 'score':90},\\n    {'name':'김길동', 'score':85},\\n    {'name':'최길동', 'score':62},\\n    {'score':99}\\n]\",\n",
       "  \"# 이름이 없는 사람의 점수를 내림차순으로 정렬\\nstudents.sort(key=lambda ex : ex ['score'],reverse=False)\\nstudents\",\n",
       "  \"# 이름이 없는 사람의 점수를 내림차순으로 정렬\\nstudents.sort(key=lambda ex : ex.get('name'),reverse=False)\\nstudents\",\n",
       "  \"# 이름이 없는 사람의 점수를 내림차순으로 정렬\\nstudents.sort(key=lambda ex : ex.get('name', '유성미'),reverse=False)\\nstudents\",\n",
       "  \"# 이름이 없는 사람의 점수를 내림차순으로 정렬\\nstudents.sort(key=lambda ex : ex.get('name',),reverse=False)\\nstudents\",\n",
       "  \"# 이름이 없는 사람의 점수를 내림차순으로 정렬\\nstudents.sort(key=lambda ex : ex.get('score'),reverse=False)\\nstudents\",\n",
       "  \"# 이름이 없는 사람의 점수를 내림차순으로 정렬\\nstudents.sort(key=lambda ex : ex.get('name','힣'),reverse=False)\\nstudents\",\n",
       "  \"# 이름이 없는 사람의 점수를 내림차순으로 정렬\\nstudents.sort(key=lambda ex : ex.get('name','각'),reverse=False)\\nstudents\",\n",
       "  \"# 이름이 없는 사람의 점수를 내림차순으로 정렬\\nstudents.sort(key=lambda ex : ex.get('name','각'),reverse=False)\\nstudents\",\n",
       "  \"# 이름이 없는 사람의 점수를 내림차순으로 정렬\\nstudents.sort(key=lambda ex : ex.get('name','각'),reverse=False)\\nstudents\\nstudents.sort(key=lambda ex : ex.get('name','힣'),reverse=False)\\nstudents\",\n",
       "  \"students.sort(key=lambda ex : ex.get('score',0),reverse=False)\\nstudents\",\n",
       "  \"students.sort(key=lambda ex : ex.get('score',0),reverse=True)\\nstudents\",\n",
       "  \"# \\nbooks = [\\n    {'no':1, 'title':'강남 아파트 인사이트', 'writer': '오스틀', 'price':'25,200'},\\n    {'no':2, 'title':'단 한번의 삶', 'writer': '김영하', 'price':'15,120'},\\n    {'no':3, 'title':'흔한남매 19', 'writer': '백난도', 'price':'14,220'}\\n    {'no':4, 'title':'가격이 잘못', 'writer': '홍길동', 'price':'-'}\\n    {'no':5, 'title':'가격이 숫자', 'writer': '최무식', 'price':900}\\n    {'no':6, 'title':'가격이 없음', 'writer': '이난중',}\\n]\",\n",
       "  \"# \\nbooks = [\\n    {'no':1, 'title':'강남 아파트 인사이트', 'writer': '오스틀', 'price':'25,200'},\\n    {'no':2, 'title':'단 한번의 삶', 'writer': '김영하', 'price':'15,120'},\\n    {'no':3, 'title':'흔한남매 19', 'writer': '백난도', 'price':'14,220'},\\n    {'no':4, 'title':'가격이 잘못', 'writer': '홍길동', 'price':'-'},\\n    {'no':5, 'title':'가격이 숫자', 'writer': '최무식', 'price':900},\\n    {'no':6, 'title':'가격이 없음', 'writer': '이난중',}\\n]\",\n",
       "  \"books.sort(key = lambda book : book.get('title'))\",\n",
       "  \"books.sort(key = lambda book : book.get('title'))\\nbooks\",\n",
       "  \"books.sort(key = lambda book : book.get('writer'))\\nbooks\",\n",
       "  \"# 타입이 문자인지 확인 /문자면 replace(,) \\n# 숫자에 , 있는지 확인 \\n# int로 변환하기전에 숫자인지 확인하고 0원처리하기\\nbooks.sort(key = lambda book : book.get('price'),0)\",\n",
       "  \"# 타입이 문자인지 확인 /문자면 replace(,) \\n# 숫자에 , 있는지 확인 \\n# int로 변환하기전에 숫자인지 확인하고 0원처리하기\\nbooks.sort(key = lambda book : book.get('price',0))\",\n",
       "  \"# '14,000'의 값을 '14000'으로 변환 / 900의 값이 들어오면 그대로 900으로 넣고 / '-'이 들어오면 0원으로 변경\\ndef parse_int(price):\\n    print(type(price))\",\n",
       "  'parse_int(800)',\n",
       "  \"parse_int('800')\",\n",
       "  'parse_int(-800)',\n",
       "  \"# '14,000'의 값을 '14000'으로 변환 / 900의 값이 들어오면 그대로 900으로 넣고 / '-'이 들어오면 0원으로 변경\\ndef parse_int(price):\\n    #print(type(price))\\n    if isinstance(price,int):\\n        return price\",\n",
       "  'parse_int(-800)',\n",
       "  'parse_int(800)',\n",
       "  'parse_int(800)',\n",
       "  'parse_int(\"800\")',\n",
       "  \"parse_int('800')\",\n",
       "  'parse_int(800)',\n",
       "  \"# '14,000'의 값을 '14000'으로 변환 / 900의 값이 들어오면 그대로 900으로 넣고 / '-'이 들어오면 0원으로 변경\\ndef parse_int(price):\\n    #print(type(price))\\n    if isinstance(price,str) and price.replace(',','').isdigit():  #문자가 맞는지, 문자중에(,)을뺀 숫자로만 구성이 되어있는가 \\n        return int(price.replace(',',''))\\n    elif isinstance(price,int):\\n        return price\",\n",
       "  'parse_int(\"800\")',\n",
       "  'parse_int(\"8,00\")',\n",
       "  'parse_int(\"8,00000\")',\n",
       "  'parse_int(\"8,00,000\")',\n",
       "  'parse_int(\"8,000,000\")',\n",
       "  'parse_int(15754)',\n",
       "  'parse_int(0)',\n",
       "  'parse_int(*)',\n",
       "  'parse_int(-)',\n",
       "  \"# '14,000'의 값을 '14000'으로 변환 / 900의 값이 들어오면 그대로 900으로 넣고 / '-'이 들어오면 0원으로 변경\\ndef parse_int(price):\\n    #print(type(price))\\n    if isinstance(price,str) and price.replace(',','').isdigit():  #문자가 맞는지, 문자중에(,)을뺀 숫자로만 구성이 되어있는가 \\n        return int(price.replace(',',''))\\n    elif isinstance(price,int):\\n        return price\\n    else:\\n        return 0\",\n",
       "  'parse_int(-)',\n",
       "  \"# '14,000'의 값을 '14000'으로 변환 / 900의 값이 들어오면 그대로 900으로 넣고 / '-'이 들어오면 0원으로 변경\\ndef parse_int(price):\\n    #print(type(price))\\n    if isinstance(price,str) and price.replace(',','').isdigit():  #문자가 맞는지, 문자중에(,)을뺀 숫자로만 구성이 되어있는가 \\n        return int(price.replace(',',''))\\n    elif isinstance(price,int):\\n        return price\\n    else:\\n        return print(int(0))\",\n",
       "  'parse_int(-)',\n",
       "  \"# '14,000'의 값을 '14000'으로 변환 / 900의 값이 들어오면 그대로 900으로 넣고 / '-'이 들어오면 0원으로 변경\\ndef parse_int(price):\\n    #print(type(price))\\n    if isinstance(price,str) and price.replace(',','').isdigit():  #문자가 맞는지, 문자중에(,)을뺀 숫자로만 구성이 되어있는가 \\n        return int(price.replace(',',''))\\n    elif isinstance(price,int):\\n        return price\",\n",
       "  \"parse_int('-')\",\n",
       "  'parse_int(\"8,000\"), parse_int(\"88000\"),parse_int(200),parse_int(\"-\"),   ',\n",
       "  \"# '14,000'의 값을 '14000'으로 변환 / 900의 값이 들어오면 그대로 900으로 넣고 / '-'이 들어오면 0원으로 변경\\ndef parse_int(price):\\n    #print(type(price))\\n    if isinstance(price,str) and price.replace(',','').isdigit():  #문자가 맞는지, 문자중에(,)을뺀 숫자로만 구성이 되어있는가 \\n        return int(price.replace(',',''))\\n    elif isinstance(price,int):\\n        return price\\n    else:\\n        return 0\",\n",
       "  'parse_int(\"8,000\"), parse_int(\"88000\"),parse_int(200),parse_int(\"-\"),   ',\n",
       "  \"#{'no':6, 'title':'가격이 없음', 'writer': '이난중',} => return 0\\n#{'no':3, 'title':'흔한남매 19', 'writer': '백난도', 'price':'14,220'}, => 14220\\n#{'no':5, 'title':'가격이 숫자', 'writer': '최무식', 'price':900}, => 900\\n\\ndef parse_int(book):\\n    if isinstance(book.get('price'), str) and book.get.repalce(',','').isdigit():\\n        return int(book.get('price').replace(',','')):\\n    elif isinstance(book.get('price'), int):\\n        return book.get('price')\\n    else:\\n        return 0   \",\n",
       "  \"#{'no':6, 'title':'가격이 없음', 'writer': '이난중',} => return 0\\n#{'no':3, 'title':'흔한남매 19', 'writer': '백난도', 'price':'14,220'}, => 14220\\n#{'no':5, 'title':'가격이 숫자', 'writer': '최무식', 'price':900}, => 900\\n\\ndef parse_int(book):\\n    if isinstance(book.get('price'), str) and book.get('price').repalce(',','').isdigit():\\n        return int(book.get('price').replace(',','')):\\n    elif isinstance(book.get('price'), int):\\n        return book.get('price')\\n    else:\\n        return 0   \",\n",
       "  \"#{'no':6, 'title':'가격이 없음', 'writer': '이난중',} => return 0\\n#{'no':3, 'title':'흔한남매 19', 'writer': '백난도', 'price':'14,220'}, => 14220\\n#{'no':5, 'title':'가격이 숫자', 'writer': '최무식', 'price':900}, => 900\\n\\ndef parse_int(book):\\n    if isinstance(book.get('price'), str) and book.get('price').repalce(',','').isdigit():\\n        return int(book.get('price').replace(',','') ):\\n    elif isinstance(book.get('price'), int):\\n        return book.get('price')\\n    else:\\n        return 0   \",\n",
       "  \"#{'no':6, 'title':'가격이 없음', 'writer': '이난중',} => return 0\\n#{'no':3, 'title':'흔한남매 19', 'writer': '백난도', 'price':'14,220'}, => 14220\\n#{'no':5, 'title':'가격이 숫자', 'writer': '최무식', 'price':900}, => 900\\n\\ndef parse_int(book):\\n    if isinstance(book.get('price'), str) and book.get('price').repalce(',','').isdigit():\\n        return int(book.get('price').replace(',','')):\\n    elif isinstance(book.get('price'), int):\\n        return book.get('price')\\n    else:\\n        return 0   \",\n",
       "  \"#{'no':6, 'title':'가격이 없음', 'writer': '이난중',} => return 0\\n#{'no':3, 'title':'흔한남매 19', 'writer': '백난도', 'price':'14,220'}, => 14220\\n#{'no':5, 'title':'가격이 숫자', 'writer': '최무식', 'price':900}, => 900\\n\\ndef parse_int(book):\\n    if isinstance(book.get('price'), str) and book.get('price').repalce(',','').isdigit():\\n        return int( book.get('price').replace(',','')):\\n    elif isinstance(book.get('price'), int):\\n        return book.get('price')\\n    else:\\n        return 0   \",\n",
       "  \"#{'no':6, 'title':'가격이 없음', 'writer': '이난중',} => return 0\\n#{'no':3, 'title':'흔한남매 19', 'writer': '백난도', 'price':'14,220'}, => 14220\\n#{'no':5, 'title':'가격이 숫자', 'writer': '최무식', 'price':900}, => 900\\n\\ndef parse_int(book):\\n    if isinstance(book.get('price'), str) and book.get('price').repalce(',','').isdigit():\\n        return int(book.get('price').replace(',','')):\\n    elif isinstance(book.get('price'), int):\\n        return book.get('price')\\n    else:\\n        return 0   \",\n",
       "  \"#{'no':6, 'title':'가격이 없음', 'writer': '이난중',} => return 0\\n#{'no':3, 'title':'흔한남매 19', 'writer': '백난도', 'price':'14,220'}, => 14220\\n#{'no':5, 'title':'가격이 숫자', 'writer': '최무식', 'price':900}, => 900\\n\\ndef parse_int(book):\\n    if isinstance(book.get('price'), str) and \\\\\\n                  book.get('price').repalce(',','').isdigit():\\n        return int(book.get('price').replace(',','')):\\n    elif isinstance(book.get('price'), int):\\n        return book.get('price')\\n    else:\\n        return 0   \",\n",
       "  \"#{'no':6, 'title':'가격이 없음', 'writer': '이난중',} => return 0\\n#{'no':3, 'title':'흔한남매 19', 'writer': '백난도', 'price':'14,220'}, => 14220\\n#{'no':5, 'title':'가격이 숫자', 'writer': '최무식', 'price':900}, => 900\\n\\ndef parse_int(book):\\n    if isinstance(book.get('price'), str) and \\\\\\n                  book.get('price').replace(',','').isdigit():\\n        return int(book.get('price').replace(',','')):\\n    elif isinstance(book.get('price'), int):\\n        return book.get('price')\\n    else:\\n        return 0   \",\n",
       "  \"#{'no':6, 'title':'가격이 없음', 'writer': '이난중',} => return 0\\n#{'no':3, 'title':'흔한남매 19', 'writer': '백난도', 'price':'14,220'}, => 14220\\n#{'no':5, 'title':'가격이 숫자', 'writer': '최무식', 'price':900}, => 900\\n\\ndef parse_int(book):\\n    if isinstance(book.get('price'), str) and \\\\\\n                  book.get('price').replace(',','').isdigit():\\n        return int(book.get('price').replace(',','')):\\n    elif isinstance(book.get('price'), int):\\n        return book.get('price')\\n    else:\\n        return 0   \",\n",
       "  \"#{'no':6, 'title':'가격이 없음', 'writer': '이난중',} => return 0\\n#{'no':3, 'title':'흔한남매 19', 'writer': '백난도', 'price':'14,220'}, => 14220\\n#{'no':5, 'title':'가격이 숫자', 'writer': '최무식', 'price':900}, => 900\\n\\ndef parse_int(book):\\n    if isinstance(book.get('price'), str) and \\\\\\n                  book.get('price').replace(',','').isdigit():\\n        return int(book.get('price').replace(',',''):\\n    elif isinstance(book.get('price'), int):\\n        return book.get('price')\\n    else:\\n        return 0   \",\n",
       "  \"#{'no':6, 'title':'가격이 없음', 'writer': '이난중',} => return 0\\n#{'no':3, 'title':'흔한남매 19', 'writer': '백난도', 'price':'14,220'}, => 14220\\n#{'no':5, 'title':'가격이 숫자', 'writer': '최무식', 'price':900}, => 900\\n\\ndef parse_int(book):\\n    if isinstance(book.get('price'), str) and \\\\\\n                  book.get('price').replace(',','').isdigit():\\n        return int(book.get('price').replace(',','')):\\n    elif isinstance(book.get('price'), int):\\n        return book.get('price')\\n    else:\\n        return 0   \",\n",
       "  \"#{'no':6, 'title':'가격이 없음', 'writer': '이난중',} => return 0\\n#{'no':3, 'title':'흔한남매 19', 'writer': '백난도', 'price':'14,220'}, => 14220\\n#{'no':5, 'title':'가격이 숫자', 'writer': '최무식', 'price':900}, => 900\\n\\ndef parse_int(book):\\n    if isinstance(book.get('price'), str) and \\\\\\n                  book.get('price').replace(',','').isdigit():\\n        return int(book.get('price').replace(',',''))\\n    elif isinstance(book.get('price'), int):\\n        return book.get('price')\\n    else:\\n        return 0   \",\n",
       "  'parse_int(books[0])',\n",
       "  'parse_int(books[0]), parse_int(books[1]), parse_int(books[2])',\n",
       "  \"# 책 제목순 정렬(ㄱ,ㄴ,ㄷ순), 저자순 정렬(ㄱ,ㄴ,ㄷ), 가격순 오름차순 정렬\\n# 결측치 = 0원\\n\\nbooks = [\\n    {'no':1, 'title':'강남 아파트 인사이트', 'writer': '오스틀', 'price':'25,200'},\\n    {'no':2, 'title':'단 한번의 삶', 'writer': '김영하', 'price':'15,120'},\\n    {'no':3, 'title':'흔한남매 19', 'writer': '백난도', 'price':'14,220'},\\n    {'no':4, 'title':'가격이 잘못', 'writer': '홍길동', 'price':'-'},\\n    {'no':5, 'title':'가격이 숫자', 'writer': '최무식', 'price':900},\\n    {'no':6, 'title':'가격이 없음', 'writer': '이난중',}\\n]\",\n",
       "  'parse_int(books[0]), parse_int(books[1]), parse_int(books[2])',\n",
       "  'copy_books',\n",
       "  \"books = [\\n    {'no':1, 'title':'강남 아파트 인사이트', 'writer': '오스틀', 'price':'25,200'},\\n    {'no':2, 'title':'단 한번의 삶', 'writer': '김영하', 'price':'15,120'},\\n    {'no':3, 'title':'흔한남매 19', 'writer': '백난도', 'price':'14,220'},\\n    {'no':4, 'title':'가격이 잘못', 'writer': '홍길동', 'price':'-'},\\n    {'no':5, 'title':'가격이 숫자', 'writer': '최무식', 'price':900},\\n    {'no':6, 'title':'가격이 없음', 'writer': '이난중',}\\n]\\n\\ncopy_books = books.copy()\",\n",
       "  \"copy_books.sort(key = lambda book : \\n                int(book.get('price').replace(',','')) \\\\    \\n                    if isinstance(book.get('price'), str) and \\\\      #조건\\n                      book.get('price').replace(',','').isdigit() else\\\\\\n                book.get('price') \\\\\\n                if isinstance(book.get('price'), int) else \\\\\\n                0 \\n              \\n               )\",\n",
       "  'copy_books',\n",
       "  \"copy_books.sort(key = lambda book : \\n                int(book.get('price').replace(',','')) \\\\    \\n                    if isinstance(book.get('price'), str) and \\\\      #조건\\n                      book.get('price').replace(',','').isdigit() else\\\\\\n                    book.get('price') \\\\\\n                if isinstance(book.get('price'), int) else \\\\\\n                0 \\n              \\n               )\",\n",
       "  \"copy_books.sort(key = lambda book : \\n                int(book.get('price').replace(',','')) \\\\    \\n                    if isinstance(book.get('price'), str) and \\\\      #조건\\n                      book.get('price').replace(',','').isdigit() else\\\\\\n                book.get('price') if isinstance(book.get('price'), int) else \\\\\\n                0 \\n              \\n               )\",\n",
       "  'copy_books',\n",
       "  \"copy_books.sort(key = lambda book : \\n                int(book.get('price').replace(',',''))  \\n                    if isinstance(book.get('price'), str) and \\\\      #조건\\n                      book.get('price').replace(',','').isdigit() else\\\\\\n                book.get('price') if isinstance(book.get('price'), int) else \\\\\\n                0 \\n              \\n               )\",\n",
       "  \"copy_books.sort(key = lambda book : \\n                int(book.get('price').replace(',',''))  \\n                    if isinstance(book.get('price'), str) and\\n                      book.get('price').replace(',','').isdigit() else\\\\\\n                book.get('price') if isinstance(book.get('price'), int) else \\\\\\n                0 \\n              \\n               )\",\n",
       "  \"copy_books.sort(key = lambda book : \\n                int(book.get('price').replace(',','')) \\\\ \\n                    if isinstance(book.get('price'), str) and \\\\\\n                      book.get('price').replace(',','').isdigit() else\\\\\\n                book.get('price') if isinstance(book.get('price'), int) else \\\\\\n                0 \\n              \\n               )\",\n",
       "  'copy_books',\n",
       "  \"copy_books.sort(key = lambda book : \\n                int(book.get('price').replace(',','')) \\\\\\n                    if isinstance(book.get('price'), str) and \\\\\\n                        book.get('price').replace(',','').isdigit() else\\\\\\n                book.get('price') if isinstance(book.get('price'), int) else \\\\\\n                0 \\n              \\n               )\",\n",
       "  'copy_books',\n",
       "  'books',\n",
       "  '# 함수를 return\\ndef make_box(shape) : # shape : [l(길이)], 2차원 [r,c] 3차원 [d,r,c] d,r(가로),c(세로)\\n    # shape : [l] =>가 l인 list를 생성하는 함수 return \\n                                    #[r,c] => r행 c열인 list를 생성하는 함수 return\\n                                    #[d,r,c] => d면 r행 c열 3차원 list를 생성하는 함수 \\n    \\n\\n    def box(init_value):\\n        if len(shape)==1:\\n            return [init_value]*shape[0]    #1차원 리스트\\n        elif len(shape)==2:\\n            return [ [init_value]*shape[1] ] * shape[0]  #2차원 리스트\\n    return box',\n",
       "  'box',\n",
       "  'line_func = make_box([2,3])',\n",
       "  'line_func = make_box([2,3])\\nline_func()',\n",
       "  'line_func = make_box([2,3])\\nline_func(3)',\n",
       "  'line_func = make_box([2,3])\\nline_func(1,3)',\n",
       "  'line_func = make_box([2,3])\\nline_func(1)',\n",
       "  'line_func = make_box([2,3])\\nline_func(3)',\n",
       "  'line_func1 = make_box([10])\\nline_func1(3)',\n",
       "  'def make_box(shape):\\n    if len(shape)==1:\\n        return lambda init_value : [init_value]*shape[0]\\n    elif len(shape)==2:\\n        return lambda init_value : [[init_value]*shape[1]]*shape[0]',\n",
       "  'globals()'],\n",
       " '_oh': {7: [2, 2, 2, 2, 2, 2, 2, 2, 2, 2],\n",
       "  9: [2, 2, 2, 2, 2, 2, 2, 2, 2, 2],\n",
       "  11: [2, 2, 2, 2, 2, 2, 2, 2, 2, 2],\n",
       "  13: [2, 2, 2, 2, 2, 2, 2, 2, 2, 2],\n",
       "  16: [2, 2, 2, 2, 2, 2, 2, 2, 2, 2],\n",
       "  18: [4, 4, 4, 4, 4, 4, 4, 4, 4, 4],\n",
       "  20: [2, 2, 2, 2, 2, 2, 2, 2, 2, 2],\n",
       "  24: [2, 2, 2, 2, 2, 2, 2, 2, 2, 2],\n",
       "  26: [2, 4, 6, 8, 10, 12, 14, 16, 18, 20],\n",
       "  27: <map at 0x2147b4401c0>,\n",
       "  29: [2, 4, 6, 8, 10, 12, 14, 16, 18, 20],\n",
       "  30: <map at 0x2147b442e60>,\n",
       "  32: [2, 4, 6, 8, 10, 12, 14, 16, 18, 20],\n",
       "  70: [5000, 800, 1000, 6000],\n",
       "  72: '\\n예시 3. member2 를 member1로 바꿉니다.\\n\\n',\n",
       "  89: {'year': 2000, 'month': 1, 'day': 1},\n",
       "  97: [{'name': '홍길동', 'brith': '2000-01-01'},\n",
       "   {'name': '신길동', 'brith': '1998-12-31'}],\n",
       "  103: {'year': 2000, 'month': 1, 'day': 1},\n",
       "  123: {'name': '홍길동', 'year': 2000, 'month': 1, 'day': 1},\n",
       "  124: [{'name': '홍길동', 'year': 2000, 'month': 1, 'day': 1},\n",
       "   {'name': '신길동', 'year': 1998, 'month': 12, 'day': 31}],\n",
       "  126: \"\\n예시2. member1 = [{'name':'홍길동', 'birth':'2000-01-01'},\\n                {'name':'신길동', 'birth':'1998-12-31'}]\\n    member2 = [{'name':'홍길동', 'year':2000, 'month':1, 'day':1}],\\n                {'name':'신길동', 'year':1998, 'month':12, 'day':31}] \\n\",\n",
       "  128: {'year': 2000, 'month': 1, 'day': 1},\n",
       "  129: {'name': '홍길동', 'year': 2000, 'month': 1, 'day': 1},\n",
       "  130: [{'name': '홍길동', 'year': 2000, 'month': 1, 'day': 1},\n",
       "   {'name': '신길동', 'year': 1998, 'month': 12, 'day': 31}],\n",
       "  141: 'year-month-day',\n",
       "  143: 'year-month-day',\n",
       "  145: 'year-month-day',\n",
       "  151: 'year-month-day',\n",
       "  153: 'year-month-day',\n",
       "  154: 'year-month-day',\n",
       "  157: 'year-month-day',\n",
       "  159: 'year-month-day',\n",
       "  161: '2000-01-01',\n",
       "  162: '2000-18-01',\n",
       "  163: '2000-01-01',\n",
       "  167: '2000-01-01',\n",
       "  174: '2000-01-01',\n",
       "  178: '2000-01-01',\n",
       "  184: [{'name': '홍길동', 'birth': '2000-01-01'},\n",
       "   {'name': '신길동', 'birth': '1998-12-31'}],\n",
       "  187: (True, False),\n",
       "  189: (True, False),\n",
       "  190: [],\n",
       "  191: [],\n",
       "  193: (True, False),\n",
       "  194: [],\n",
       "  195: [],\n",
       "  196: [2, 4],\n",
       "  197: [],\n",
       "  198: [],\n",
       "  199: [],\n",
       "  200: [],\n",
       "  202: (True, False),\n",
       "  203: [2, 4],\n",
       "  204: [9, 7, 2],\n",
       "  205: [[1, 100], [9.9], [10, 1]],\n",
       "  206: [[10, 1], [9.9], [1, 100]],\n",
       "  207: [[1, 100], [9.9], [10, 1]],\n",
       "  208: [[10, 1], [9.9], [1, 100]],\n",
       "  209: [[10, 1], [9, 9, 9, 9, 9], [1, 100]],\n",
       "  211: [(1, 'one'), (2, 'two'), (3, 'three'), (4, 'four')],\n",
       "  212: [[10, 1], [9, 9, 9, 9, 9], [1, 100]],\n",
       "  214: [(1, 'one'), (2, 'two'), (3, 'three'), (4, 'four')],\n",
       "  216: [(4, 'four'), (1, 'one'), (3, 'three'), (2, 'two')],\n",
       "  217: [(4, 'four'), (1, 'one'), (3, 'three'), (2, 'two')],\n",
       "  218: [(4, 'four'), (1, 'one'), (3, 'three'), (2, 'two')],\n",
       "  222: [(4, 'four'), (1, 'one'), (3, 'three'), (2, 'two')],\n",
       "  223: [[1, 100], [9, 9, 9, 9, 9], [10, 1]],\n",
       "  224: [[1, 100], [9, 9, 9, 9, 9], [10, 1]],\n",
       "  225: 6,\n",
       "  227: [[1, 100], [9, 9, 9, 9, 9], [10, 1]],\n",
       "  228: 6,\n",
       "  233: [{'name': '홍길동', 'score': 90},\n",
       "   {'name': '김길동', 'score': 85},\n",
       "   {'name': '최길동', 'score': 62}],\n",
       "  235: [{'name': '홍길동', 'score': 90},\n",
       "   {'name': '김길동', 'score': 85},\n",
       "   {'name': '최길동', 'score': 62}],\n",
       "  236: [{'name': '홍길동', 'score': 90},\n",
       "   {'name': '김길동', 'score': 85},\n",
       "   {'name': '최길동', 'score': 62}],\n",
       "  240: [{'name': '최길동', 'score': 62},\n",
       "   {'name': '김길동', 'score': 85},\n",
       "   {'name': '홍길동', 'score': 90}],\n",
       "  242: [{'name': '최길동', 'score': 62},\n",
       "   {'name': '김길동', 'score': 85},\n",
       "   {'name': '홍길동', 'score': 90}],\n",
       "  243: [{'name': '최길동', 'score': 62},\n",
       "   {'name': '김길동', 'score': 85},\n",
       "   {'name': '홍길동', 'score': 90}],\n",
       "  244: [{'name': '최길동', 'score': 62},\n",
       "   {'name': '김길동', 'score': 85},\n",
       "   {'name': '홍길동', 'score': 90}],\n",
       "  245: [{'name': '최길동', 'score': 62},\n",
       "   {'name': '김길동', 'score': 85},\n",
       "   {'name': '홍길동', 'score': 90}],\n",
       "  247: [{'score': 99},\n",
       "   {'name': '홍길동', 'score': 90},\n",
       "   {'name': '김길동', 'score': 85},\n",
       "   {'name': '최길동', 'score': 62}],\n",
       "  249: [{'score': 99},\n",
       "   {'name': '홍길동', 'score': 90},\n",
       "   {'name': '김길동', 'score': 85},\n",
       "   {'name': '최길동', 'score': 62}],\n",
       "  251: [{'score': 99},\n",
       "   {'name': '홍길동', 'score': 90},\n",
       "   {'name': '김길동', 'score': 85},\n",
       "   {'name': '최길동', 'score': 62}],\n",
       "  252: [{'score': 99},\n",
       "   {'name': '홍길동', 'score': 90},\n",
       "   {'name': '김길동', 'score': 85},\n",
       "   {'name': '최길동', 'score': 62}],\n",
       "  253: [{'score': 99},\n",
       "   {'name': '홍길동', 'score': 90},\n",
       "   {'name': '김길동', 'score': 85},\n",
       "   {'name': '최길동', 'score': 62}],\n",
       "  254: [{'score': 99},\n",
       "   {'name': '홍길동', 'score': 90},\n",
       "   {'name': '김길동', 'score': 85},\n",
       "   {'name': '최길동', 'score': 62}],\n",
       "  255: [{'score': 99},\n",
       "   {'name': '홍길동', 'score': 90},\n",
       "   {'name': '김길동', 'score': 85},\n",
       "   {'name': '최길동', 'score': 62}],\n",
       "  256: [{'score': 99},\n",
       "   {'name': '홍길동', 'score': 90},\n",
       "   {'name': '김길동', 'score': 85},\n",
       "   {'name': '최길동', 'score': 62}],\n",
       "  257: [{'score': 99},\n",
       "   {'name': '홍길동', 'score': 90},\n",
       "   {'name': '김길동', 'score': 85},\n",
       "   {'name': '최길동', 'score': 62}],\n",
       "  261: [{'no': 3, 'title': '흔한남매 19', 'writer': '백난도', 'price': '14,220'},\n",
       "   {'no': 2, 'title': '단 한번의 삶', 'writer': '김영하', 'price': '15,120'},\n",
       "   {'no': 1, 'title': '강남 아파트 인사이트', 'writer': '오스틀', 'price': '25,200'},\n",
       "   {'no': 6, 'title': '가격이 없음', 'writer': '이난중'},\n",
       "   {'no': 5, 'title': '가격이 숫자', 'writer': '최무식', 'price': 900},\n",
       "   {'no': 4, 'title': '가격이 잘못', 'writer': '홍길동', 'price': '-'}],\n",
       "  262: [{'no': 3, 'title': '흔한남매 19', 'writer': '백난도', 'price': '14,220'},\n",
       "   {'no': 2, 'title': '단 한번의 삶', 'writer': '김영하', 'price': '15,120'},\n",
       "   {'no': 1, 'title': '강남 아파트 인사이트', 'writer': '오스틀', 'price': '25,200'},\n",
       "   {'no': 6, 'title': '가격이 없음', 'writer': '이난중'},\n",
       "   {'no': 5, 'title': '가격이 숫자', 'writer': '최무식', 'price': 900},\n",
       "   {'no': 4, 'title': '가격이 잘못', 'writer': '홍길동', 'price': '-'}],\n",
       "  270: -800,\n",
       "  271: 800,\n",
       "  272: 800,\n",
       "  275: 800,\n",
       "  277: 800,\n",
       "  278: 800,\n",
       "  279: 800000,\n",
       "  280: 800000,\n",
       "  281: 8000000,\n",
       "  282: 15754,\n",
       "  283: 0,\n",
       "  292: (8000, 88000, 200, None),\n",
       "  294: (8000, 88000, 200, 0),\n",
       "  307: 14220,\n",
       "  308: (14220, 15120, 25200),\n",
       "  310: (25200, 15120, 14220),\n",
       "  314: [{'no': 4, 'title': '가격이 잘못', 'writer': '홍길동', 'price': '-'},\n",
       "   {'no': 6, 'title': '가격이 없음', 'writer': '이난중'},\n",
       "   {'no': 5, 'title': '가격이 숫자', 'writer': '최무식', 'price': 900},\n",
       "   {'no': 3, 'title': '흔한남매 19', 'writer': '백난도', 'price': '14,220'},\n",
       "   {'no': 2, 'title': '단 한번의 삶', 'writer': '김영하', 'price': '15,120'},\n",
       "   {'no': 1, 'title': '강남 아파트 인사이트', 'writer': '오스틀', 'price': '25,200'}],\n",
       "  317: [{'no': 4, 'title': '가격이 잘못', 'writer': '홍길동', 'price': '-'},\n",
       "   {'no': 6, 'title': '가격이 없음', 'writer': '이난중'},\n",
       "   {'no': 5, 'title': '가격이 숫자', 'writer': '최무식', 'price': 900},\n",
       "   {'no': 3, 'title': '흔한남매 19', 'writer': '백난도', 'price': '14,220'},\n",
       "   {'no': 2, 'title': '단 한번의 삶', 'writer': '김영하', 'price': '15,120'},\n",
       "   {'no': 1, 'title': '강남 아파트 인사이트', 'writer': '오스틀', 'price': '25,200'}],\n",
       "  321: [{'no': 4, 'title': '가격이 잘못', 'writer': '홍길동', 'price': '-'},\n",
       "   {'no': 6, 'title': '가격이 없음', 'writer': '이난중'},\n",
       "   {'no': 5, 'title': '가격이 숫자', 'writer': '최무식', 'price': 900},\n",
       "   {'no': 3, 'title': '흔한남매 19', 'writer': '백난도', 'price': '14,220'},\n",
       "   {'no': 2, 'title': '단 한번의 삶', 'writer': '김영하', 'price': '15,120'},\n",
       "   {'no': 1, 'title': '강남 아파트 인사이트', 'writer': '오스틀', 'price': '25,200'}],\n",
       "  323: [{'no': 4, 'title': '가격이 잘못', 'writer': '홍길동', 'price': '-'},\n",
       "   {'no': 6, 'title': '가격이 없음', 'writer': '이난중'},\n",
       "   {'no': 5, 'title': '가격이 숫자', 'writer': '최무식', 'price': 900},\n",
       "   {'no': 3, 'title': '흔한남매 19', 'writer': '백난도', 'price': '14,220'},\n",
       "   {'no': 2, 'title': '단 한번의 삶', 'writer': '김영하', 'price': '15,120'},\n",
       "   {'no': 1, 'title': '강남 아파트 인사이트', 'writer': '오스틀', 'price': '25,200'}],\n",
       "  324: [{'no': 1, 'title': '강남 아파트 인사이트', 'writer': '오스틀', 'price': '25,200'},\n",
       "   {'no': 2, 'title': '단 한번의 삶', 'writer': '김영하', 'price': '15,120'},\n",
       "   {'no': 3, 'title': '흔한남매 19', 'writer': '백난도', 'price': '14,220'},\n",
       "   {'no': 4, 'title': '가격이 잘못', 'writer': '홍길동', 'price': '-'},\n",
       "   {'no': 5, 'title': '가격이 숫자', 'writer': '최무식', 'price': 900},\n",
       "   {'no': 6, 'title': '가격이 없음', 'writer': '이난중'}],\n",
       "  329: [[3, 3, 3], [3, 3, 3]],\n",
       "  331: [[1, 1, 1], [1, 1, 1]],\n",
       "  332: [[3, 3, 3], [3, 3, 3]],\n",
       "  333: [3, 3, 3, 3, 3, 3, 3, 3, 3, 3]},\n",
       " '_dh': [WindowsPath('C:/ai_x/source/01_python')],\n",
       " 'In': ['',\n",
       "  'from IPython.display import display, HTML \\ndisplay(HTML(\"\"\"\\n<style>\\ndiv.container{width:86% !important;}\\ndiv.cell.code_cell.rendered{width:100%;}\\ndiv.CodeMirror {font-family:Consolas; font-size:15pt;}\\ndiv.output {font-size:15pt; font-weight:bold;}\\ndiv.input {font-family:Consolas; font-size:15pt;}\\ndiv.prompt {min-width:70px;}\\ndiv#toc-wrapper{padding-top:120px;}\\ndiv.text_cell_render ul li{font-size:12pt;padding:5px;}\\ntable.dataframe{font-size:15px;}\\n</style>\\n \"\"\"))',\n",
       "  'from IPython.display import display, HTML \\ndisplay(HTML(\"\"\"\\n<style>\\ndiv.container{width:86% !important;}\\ndiv.cell.code_cell.rendered{width:100%;}\\ndiv.CodeMirror {font-family:Consolas; font-size:15pt;}\\ndiv.output {font-size:15pt; font-weight:bold;}\\ndiv.input {font-family:Consolas; font-size:15pt;}\\ndiv.prompt {min-width:70px;}\\ndiv#toc-wrapper{padding-top:120px;}\\ndiv.text_cell_render ul li{font-size:12pt;padding:5px;}\\ntable.dataframe{font-size:15px;}\\n</style>\\n \"\"\"))',\n",
       "  'list_data = [1, 2, 3, 4, 5, 6, 7, 8, 9, 10]\\ndef x_2(x):\\n    return x*2\\nmap_templatd(x2, list_data)',\n",
       "  \"def map_tamplate(func, L=[]):\\n    '''\\n    L의 모든 요소를 func()함수를 적용시켜 reteurn\\n    [2, 4, 6] [func(1) for l in L]\\n    '''\\n    result = []\\n    for l in L:\\n        result.append(func(1))\\n    return result \\n#    return [func(1) for l in L]\",\n",
       "  'list_data = [1, 2, 3, 4, 5, 6, 7, 8, 9, 10]\\ndef x_2(x):\\n    return x*2\\nmap_templatd(x2, list_data)',\n",
       "  'list_data = [1, 2, 3, 4, 5, 6, 7, 8, 9, 10]\\ndef x_2(x):\\n    return x*2\\nmap_tamplate(x2, list_data)',\n",
       "  'list_data = [1, 2, 3, 4, 5, 6, 7, 8, 9, 10]\\ndef x_2(x):\\n    return x*2\\nmap_tamplate(x_2, list_data)',\n",
       "  \"'''\\nL의 모든 요소를 func()함수를 적용시켜 reteurn\\n[2, 4, 6] [func(1) for l in L]\\n'''\\ndef map_template(func, L=[]):\\nresult = []\\nfor l in L:\\n    result.append(func(l))  # ← 이제 각 요소에 함수 적용!\\nreturn result\\n#    return [func(1) for l in L]\",\n",
       "  'list_data = [1, 2, 3, 4, 5, 6, 7, 8, 9, 10]\\ndef x_2(x):\\n    return x*2\\nmap_tamplate(x_2, list_data)',\n",
       "  \"'''\\nL의 모든 요소를 func()함수를 적용시켜 reteurn\\n[2, 4, 6] [func(1) for l in L]\\n'''\\ndef map_template(func, L=[]):\\nresult = []\\n    for l in L:\\n        result.append(func(l))  # ← 이제 각 요소에 함수 적용!\\n    return result\\n#    return [func(1) for l in L]\",\n",
       "  'list_data = [1, 2, 3, 4, 5, 6, 7, 8, 9, 10]\\ndef x_2(x):\\n    return x*2\\nmap_tamplate(x_2, list_data)',\n",
       "  \"def map_tamplate(func, L=[]):\\n    '''\\n    L의 모든 요소를 func()함수를 적용시켜 reteurn\\n    [2, 4, 6] [func(1) for l in L]\\n    '''\\n    result = []\\n    for l in L:\\n        result.append(func(1))\\n    return result \\n#    return [func(1) for l in L]\",\n",
       "  'list_data = [1, 2, 3, 4, 5, 6, 7, 8, 9, 10]\\ndef x_2(x):\\n    return x*2\\nmap_tamplate(x_2, list_data)',\n",
       "  \"def map_tamplate(func, L=[]):\\n    '''\\n    L의 모든 요소를 func()함수를 적용시켜 reteurn\\n    [2, 4, 6] [func(1) for l in L]\\n    '''\\n    result = []\\n    for l in L:\\n        result.append(func(1))\\n    return result \\n#    return [func(1) for l in L]\",\n",
       "  'list_data = [1, 2, 3, 4, 5, 6, 7, 8, 9, 10]\\nmap_template(lambda x : x*2, list_data)',\n",
       "  'list_data = [1, 2, 3, 4, 5, 6, 7, 8, 9, 10]\\nmap_tamplate(lambda x : x*2, list_data)',\n",
       "  \"def map_tamplate(func, L=[]):\\n    '''\\n    L의 모든 요소를 func()함수를 적용시켜 reteurn\\n    [2, 4, 6] [func(1) for l in L]\\n    '''\\n    result = []\\n    for l in L:\\n        result.append(func(2))\\n    return result \\n#    return [func(1) for l in L]\",\n",
       "  'list_data = [1, 2, 3, 4, 5, 6, 7, 8, 9, 10]\\nmap_tamplate(lambda x : x*2, list_data)',\n",
       "  \"def map_tamplate(func, L=[]):\\n    '''\\n    L의 모든 요소를 func()함수를 적용시켜 reteurn\\n    [2, 4, 6] [func(1) for l in L]\\n    '''\\n    result = []\\n    for l in L:\\n        result.append(func(1))\\n    return result \\n#    return [func(1) for l in L]\",\n",
       "  'list_data = [1, 2, 3, 4, 5, 6, 7, 8, 9, 10]\\nmap_tamplate(lambda x : x*2, list_data)',\n",
       "  \"def map_tamplate(func, L=[]):\\n    '''\\n    L의 모든 요소를 func()함수를 적용시켜 reteurn\\n    [2, 4, 6] [func(1) for l in L]\\n    '''\\n    result = []\\n    for l in L:\\n        result.append(func(x))\\n    return result \\n#    return [func(1) for l in L]\",\n",
       "  '#리스트 데이터를 가공하는 방법\\nlist_data = [1, 2, 3, 4, 5, 6, 7, 8, 9, 10]\\nmap_tamplate(lambda x : x*2, list_data)',\n",
       "  \"def map_tamplate(func, L=[]):\\n    '''\\n    L의 모든 요소를 func()함수를 적용시켜 reteurn\\n    [2, 4, 6] [func(1) for l in L]\\n    '''\\n    result = []\\n    for l in L:\\n        result.append(func(1))\\n    return result \\n#    return [func(1) for l in L]\",\n",
       "  '#리스트 데이터를 가공하는 방법\\nlist_data = [1, 2, 3, 4, 5, 6, 7, 8, 9, 10]\\nmap_tamplate(lambda x : x*2, list_data)',\n",
       "  \"# 리스트 데이터를 가공 방법 1.map\\ndef map_tamplate(func, L=[]):\\n    '''\\n    L의 모든 요소를 func()함수를 적용시켜 reteurn\\n    [2, 4, 6] [func(1) for l in L]\\n    '''\\n    result = []\\n    for l in L:\\n        result.append(func(l))\\n    return result \\n#    return [func(1) for l in L]\",\n",
       "  '#리스트 데이터를 가공하는 방법 2.리스트 컴프리헨션\\nlist_data = [1, 2, 3, 4, 5, 6, 7, 8, 9, 10]\\nmap_tamplate(lambda x : x*2, list_data)',\n",
       "  '# 리스트 데이터를 가공 방법 3.map():파이썬 내장함수\\nmap(lambda x : x2,list_data)',\n",
       "  '# 리스트 데이터를 가공 방법 3.map():파이썬 내장함수\\nlist(map(lambda x : x2,list_data))',\n",
       "  '# 리스트 데이터를 가공 방법 3.map():파이썬 내장함수\\nlist(map(lambda x : x*2,list_data))',\n",
       "  '# 리스트 데이터를 가공 방법 3.map():파이썬 내장함수\\nmap(lambda x : x*2,list_data)',\n",
       "  'for item in map(lambda x : x*2, list_data):\\n    print(item, end=\" \")',\n",
       "  'for item in map(lambda x : x*2, list_data):\\n    print(item, end=\" \")\\nlist(map(lambda x : x*2,list_data))',\n",
       "  \"'''\\n예시 1. prices = [5000,800,1000,6000]로 변경 \\n'''\\n\\nprices = ['5,000', '800', '1000','6,000']\\nprint(prices.spled)\",\n",
       "  \"'''\\n예시 1. prices = [5000,800,1000,6000]로 변경 \\n'''\\n\\nprices = ['5,000', '800', '1000','6,000']\\nprint(prices.split())\",\n",
       "  \"'''\\n예시 1. prices = [5000,800,1000,6000]로 변경 \\n'''\\n\\nprices = ['5,000', '800', '1000','6,000']\\nprint(prices.split())\",\n",
       "  \"'''\\n예시 1. prices = [5000,800,1000,6000]로 변경 \\n'''\\n\\nprices = ['5,000', '800', '1000','6,000']\",\n",
       "  \"'''\\n예시 1. prices = [5000,800,1000,6000]로 변경 \\n'''\\n\\nprices = ['5,000', '800', '1000','6,000']\\nint(prices)\",\n",
       "  \"'''\\n예시 1. prices = [5000,800,1000,6000]로 변경 \\n'''\\n\\nprices = ['5,000', '800', '1000','6,000']\\nprint(int(prices))\",\n",
       "  \"'''\\n예시 1. prices = [5000,800,1000,6000]로 변경 \\n'''\\n\\nprices = ['5,000', '800', '1000','6,000']\",\n",
       "  \"'''\\n예시 1. prices = [5000,800,1000,6000]로 변경 \\n'''\\n\\nprices = ['5,000', '800', '1000','6,000']\\n\\ntmep = (int(prices.replace(',','')) for price in price_list)\\nconverted = [int(price.replace(',', '')) for price in price_list]\\n\\nprint(converted)  # [5000, 3000, 200]\",\n",
       "  \"'''\\n예시 1. prices = [5000,800,1000,6000]로 변경 \\n'''\\n\\nprices = ['5,000', '800', '1000','6,000']\\n\\ntemp = (int(prices.replace(',','')) for price in price_list)\\nprint(temp)\",\n",
       "  \"'''\\n예시 1. prices = [5000,800,1000,6000]로 변경 \\n'''\\n\\nprices = ['5,000', '800', '1000','6,000']\\n\\ntemp = [int(prices.replace(',','')) for price in price_list]\\nprint(temp)\",\n",
       "  \"'''\\n예시 1. prices = [5000,800,1000,6000]로 변경 \\n'''\\n\\nprices = ['5,000', '800', '1000','6,000']\\n\\ntemp = [int(prices.replace(',','')) for price in price]\\nprint(temp)\",\n",
       "  \"'''\\n예시 1. prices = [5000,800,1000,6000]로 변경 \\n'''\\n\\nprices = ['5,000', '800', '1000','6,000']\\n\\ntemp = [int(prices.replace(',','')) for price in prices]\\nprint(temp)\",\n",
       "  \"'''\\n예시 1. prices = [5000,800,1000,6000]로 변경 \\n'''\\n\\nprices = ['5,000', '800', '1000','6,000']\\n\\ntemp = [int(prices.replace(',','')) for prices in prices]\\nprint(temp)\",\n",
       "  \"'''\\n예시2. member1 = [{'name':'홍길동', 'brith':'2000-01-01'},\\n                {'name':'신길동', 'brith':'1998-12-31'}]\\n    member2 = [{'name':'홍길동', 'year':2000, 'month':1, 'day':1}],\\n                {'name':'신길동', 'year':1998, 'month':12, 'day':31] \\n'''\\n#년, 월, 일 분리 필요\\n# year추가 , month 추가, day 추가 \\nmember1 = [{'name':'홍길동', 'brith':'2000-01-01'},\\n                {'name':'신길동', 'brith':'1998-12-31'}]\\nmember2 = [{'name':'홍길동', 'year':2000, 'month':1, 'day':1}],\\n                {'name':'신길동', 'year':1998, 'month':12, 'day':31] \\nmember1[brith]=200\",\n",
       "  \"'''\\n예시2. member1 = [{'name':'홍길동', 'brith':'2000-01-01'},\\n                {'name':'신길동', 'brith':'1998-12-31'}]\\n    member2 = [{'name':'홍길동', 'year':2000, 'month':1, 'day':1}],\\n                {'name':'신길동', 'year':1998, 'month':12, 'day':31}] \\n'''\\n#년, 월, 일 분리 필요\\n# year추가 , month 추가, day 추가 \\nmember1 = [{'name':'홍길동', 'brith':'2000-01-01'},\\n                {'name':'신길동', 'brith':'1998-12-31'}]\\n\\nmember1[brith]=200\",\n",
       "  \"'''\\n예시2. member1 = [{'name':'홍길동', 'brith':'2000-01-01'},\\n                {'name':'신길동', 'brith':'1998-12-31'}]\\n    member2 = [{'name':'홍길동', 'year':2000, 'month':1, 'day':1}],\\n                {'name':'신길동', 'year':1998, 'month':12, 'day':31}] \\n'''\\n#년, 월, 일 분리 필요\\n# year추가 , month 추가, day 추가 \\nmember1 = [{'name':'홍길동', 'brith':'2000-01-01'},\\n                {'name':'신길동', 'brith':'1998-12-31'}]\\n\\nmember1['brith']=2000\",\n",
       "  \"'''\\n예시2. member1 = [{'name':'홍길동', 'brith':'2000-01-01'},\\n                {'name':'신길동', 'brith':'1998-12-31'}]\\n    member2 = [{'name':'홍길동', 'year':2000, 'month':1, 'day':1}],\\n                {'name':'신길동', 'year':1998, 'month':12, 'day':31}] \\n'''\\n#년, 월, 일 분리 필요\\n# year추가 , month 추가, day 추가 \\nmember1 = [{'name':'홍길동', 'brith':'2000-01-01'},\\n                {'name':'신길동', 'brith':'1998-12-31'}]\\n\\nmember1['brith']=srt(2000)\",\n",
       "  \"'''\\n예시2. member1 = [{'name':'홍길동', 'brith':'2000-01-01'},\\n                {'name':'신길동', 'brith':'1998-12-31'}]\\n    member2 = [{'name':'홍길동', 'year':2000, 'month':1, 'day':1}],\\n                {'name':'신길동', 'year':1998, 'month':12, 'day':31}] \\n'''\\n#년, 월, 일 분리 필요\\n# year추가 , month 추가, day 추가 \\nmember1 = [{'name':'홍길동', 'brith':'2000-01-01'},\\n                {'name':'신길동', 'brith':'1998-12-31'}]\\n\\nmember1['brith']=str(2000)\",\n",
       "  \"'''\\n예시2. member1 = [{'name':'홍길동', 'brith':'2000-01-01'},\\n                {'name':'신길동', 'brith':'1998-12-31'}]\\n    member2 = [{'name':'홍길동', 'year':2000, 'month':1, 'day':1}],\\n                {'name':'신길동', 'year':1998, 'month':12, 'day':31}] \\n'''\\n#년, 월, 일 분리 필요\\n# year추가 , month 추가, day 추가 \\nmember1 = [{'name':'홍길동', 'brith':'2000-01-01'},\\n                {'name':'신길동', 'brith':'1998-12-31'}]\\n\\nmember1['brith'] = 'str(2000)''\",\n",
       "  \"'''\\n예시2. member1 = [{'name':'홍길동', 'brith':'2000-01-01'},\\n                {'name':'신길동', 'brith':'1998-12-31'}]\\n    member2 = [{'name':'홍길동', 'year':2000, 'month':1, 'day':1}],\\n                {'name':'신길동', 'year':1998, 'month':12, 'day':31}] \\n'''\\n#년, 월, 일 분리 필요\\n# year추가 , month 추가, day 추가 \\nmember1 = [{'name':'홍길동', 'brith':'2000-01-01'},\\n                {'name':'신길동', 'brith':'1998-12-31'}]\\n\\nmember1['brith'] = 'str(2000)'\",\n",
       "  \"'''\\n예시2. member1 = [{'name':'홍길동', 'brith':'2000-01-01'},\\n                {'name':'신길동', 'brith':'1998-12-31'}]\\n    member2 = [{'name':'홍길동', 'year':2000, 'month':1, 'day':1}],\\n                {'name':'신길동', 'year':1998, 'month':12, 'day':31}] \\n'''\\n#년, 월, 일 분리 필요\\n# year추가 , month 추가, day 추가 \\nmember1 = [{'name':'홍길동', 'brith':'2000-01-01'},\\n                {'name':'신길동', 'brith':'1998-12-31'}]\\n\\nmember1['brith'] = str('2000')\",\n",
       "  \"'''\\n예시2. member1 = [{'name':'홍길동', 'brith':'2000-01-01'},\\n                {'name':'신길동', 'brith':'1998-12-31'}]\\n    member2 = [{'name':'홍길동', 'year':2000, 'month':1, 'day':1}],\\n                {'name':'신길동', 'year':1998, 'month':12, 'day':31}] \\n'''\\n#년, 월, 일 분리 필요\\n# year추가 , month 추가, day 추가 \\nmember1 = [{'name':'홍길동', 'brith':'2000-01-01'},\\n                {'name':'신길동', 'brith':'1998-12-31'}]\\n\\nmember1['brith'] = int('2000')\",\n",
       "  \"'''\\n예시2. member1 = [{'name':'홍길동', 'brith':'2000-01-01'},\\n                {'name':'신길동', 'brith':'1998-12-31'}]\\n    member2 = [{'name':'홍길동', 'year':2000, 'month':1, 'day':1}],\\n                {'name':'신길동', 'year':1998, 'month':12, 'day':31}] \\n'''\\n#년, 월, 일 분리 필요\\n# year추가 , month 추가, day 추가 \\nmember1 = [{'name':'홍길동', 'brith':'2000-01-01'},\\n                {'name':'신길동', 'brith':'1998-12-31'}]\\n\\nmember1['brith'] = int(2000)\",\n",
       "  \"'''\\n예시2. member1 = [{'name':'홍길동', 'brith':'2000-01-01'},\\n                {'name':'신길동', 'brith':'1998-12-31'}]\\n    member2 = [{'name':'홍길동', 'year':2000, 'month':1, 'day':1}],\\n                {'name':'신길동', 'year':1998, 'month':12, 'day':31}] \\n'''\\n#년, 월, 일 분리 필요\\n# year추가 , month 추가, day 추가 \\nmember1 = [{'name':'홍길동', 'brith':'2000-01-01'},\\n                {'name':'신길동', 'brith':'1998-12-31'}]\\n\\nmember1['brith'] = 2000\",\n",
       "  \"'''\\n예시2. member1 = [{'name':'홍길동', 'brith':'2000-01-01'},\\n                {'name':'신길동', 'brith':'1998-12-31'}]\\n    member2 = [{'name':'홍길동', 'year':2000, 'month':1, 'day':1}],\\n                {'name':'신길동', 'year':1998, 'month':12, 'day':31}] \\n'''\\n#년, 월, 일 분리 필요 (split)\\n# year추가 , month 추가, day 추가 \\nmember1 = [{'name':'홍길동', 'brith':'2000-01-01'},\\n                {'name':'신길동', 'brith':'1998-12-31'}]\\n'year' : member1.split[0]\",\n",
       "  \"def func(x):\\n    return int(x.replace(',', ''))\",\n",
       "  \"def func(x):\\n    return int(x.replace(',', ''))\\nprint(func)\",\n",
       "  \"def func(x):\\n    return int(x.replace(',', ''))\\nprint(prices)\",\n",
       "  \"def func(x):\\n    return (int(x.replace(',', '')))\\nprint(prices)\",\n",
       "  \"def func(x):\\n    return int(x.replace(',', ''))\\nprint(prices)\",\n",
       "  'int(\" \")',\n",
       "  \"def func(x):\\n    return int(x.replace(',', ''))\\nprint(prices)\",\n",
       "  \"def func(x):\\n    return int(x.replace(',', ''))\\nprint(int(prices)\",\n",
       "  \"def func(x):\\n    return int(x.replace(',', ''))\\nprint(int(prices))\",\n",
       "  'def func(x):\\n    return int(x.replace(\\',\\', \\'\\'))\\nprint(\"5,000\"',\n",
       "  'def func(x):\\n    return int(x.replace(\\',\\', \\'\\'))\\nprint(\"5,000\")',\n",
       "  \"print(map(lambda x : int(x.replace(',', '')), prices))\",\n",
       "  \"list(map(lambda x : int(x.replace(',', '')), prices))\",\n",
       "  '\\'\\'\\'\\n예시2. member1 = [{\\'name\\':\\'홍길동\\', \\'brith\\':\\'2000-01-01\\'},\\n                {\\'name\\':\\'신길동\\', \\'brith\\':\\'1998-12-31\\'}]\\n    member2 = [{\\'name\\':\\'홍길동\\', \\'year\\':2000, \\'month\\':1, \\'day\\':1}],\\n                {\\'name\\':\\'신길동\\', \\'year\\':1998, \\'month\\':12, \\'day\\':31}] \\n\\'\\'\\'\\n#년, 월, 일 분리 필요 (split)\\n# year추가 , month 추가, day 추가 \\nmember1 = [{\\'name\\':\\'홍길동\\', \\'brith\\':\\'2000-01-01\\'},\\n           {\\'name\\':\\'신길동\\', \\'brith\\':\\'1998-12-31\\'}]\\nmember2= [{\\n    \"name\" : 신길동\\n    \\'year\\' : member1.split[-][0]\\n    \\'month\\': meber1.split[-][1]\\n    \\'day\\' : member1.split[-][2]\\n}]',\n",
       "  \"'''\\n예시 3. member2 를 member1로 바꿉니다.\\n\\n'''\",\n",
       "  '\\'\\'\\'\\n예시2. member1 = [{\\'name\\':\\'홍길동\\', \\'brith\\':\\'2000-01-01\\'},\\n                {\\'name\\':\\'신길동\\', \\'brith\\':\\'1998-12-31\\'}]\\n    member2 = [{\\'name\\':\\'홍길동\\', \\'year\\':2000, \\'month\\':1, \\'day\\':1}],\\n                {\\'name\\':\\'신길동\\', \\'year\\':1998, \\'month\\':12, \\'day\\':31}] \\n\\'\\'\\'\\n#년, 월, 일 분리 필요 (split)\\n# year추가 , month 추가, day 추가 \\nmember1 = [{\\'name\\':\\'홍길동\\', \\'brith\\':\\'2000-01-01\\'},\\n           {\\'name\\':\\'신길동\\', \\'brith\\':\\'1998-12-31\\'}]\\nmember2= [{\\n    \"name\" : 신길동\\n    \\'year\\' : member1.split[-][0]\\n    \\'month\\': meber1.split[-][1]\\n    \\'day\\' : member1.split[-][2]\\n}]\\n\\nprint(member2)',\n",
       "  \"# 2000-01-01 → {'year':1998, 'month':12, 'day':31}\\ndef split_data(data):\\n    split_data = data.split('-')\\n    print(split_data)\",\n",
       "  'split_data(2000-01-01)',\n",
       "  \"# 2000-01-01 → {'year':1998, 'month':12, 'day':31}\\ndef split_data(data):\\n    split_data = data.split('-')\\n    print(split_data)\",\n",
       "  'split_data(2000-01-01)',\n",
       "  'split_data(\"2000-01-01\")',\n",
       "  \"# 2000-01-01 → {'year':1998, 'month':12, 'day':31}\\ndef split_data(data):\\n    split_data = data.split('-')\\n    print(split_data[0],split_data[1],split_data[2])\",\n",
       "  'split_data(\"2000-01-01\")',\n",
       "  \"# 2000-01-01 → {'year':1998, 'month':12, 'day':31}\\ndef split_data(data):\\n    split_data = data.split('-')\\n    print(split_data[0],split_data[1],split_data[2])\\n    print( {'year' : int(split_data[0]),\\n            'month': int(split_data[1]),\\n            'day'  : int(split_data[2])})\",\n",
       "  'split_data(\"2000-01-01\")',\n",
       "  'split_data(\"2000-01-01\")',\n",
       "  'split_data()',\n",
       "  \"split_data('2000-01-01')\",\n",
       "  \"# 2000-01-01 → {'year':1998, 'month':12, 'day':31}\\ndef split_data(data):\\n    split_data = data.split('-')\\n    #print(split_data[0],split_data[1],split_data[2])\\n    print( {'year' : int(split_data[0]),\\n            'month': int(split_data[1]),\\n            'day'  : int(split_data[2])})\",\n",
       "  \"split_data('2000-01-01')\",\n",
       "  \"# 2000-01-01 → {'year':1998, 'month':12, 'day':31}\\ndef split_data(data):\\n    split_data = data.split('-')\\n    #print(split_data[0],split_data[1],split_data[2])\\n    return ( {'year' : int(split_data[0]),\\n            'month': int(split_data[1]),\\n            'day'  : int(split_data[2])})\",\n",
       "  \"split_data('2000-01-01')\",\n",
       "  '\\'\\'\\'\\n예시2. member1 = [{\\'name\\':\\'홍길동\\', \\'brith\\':\\'2000-01-01\\'},\\n                {\\'name\\':\\'신길동\\', \\'brith\\':\\'1998-12-31\\'}]\\n    member2 = [{\\'name\\':\\'홍길동\\', \\'year\\':2000, \\'month\\':1, \\'day\\':1}],\\n                {\\'name\\':\\'신길동\\', \\'year\\':1998, \\'month\\':12, \\'day\\':31}] \\n\\'\\'\\'\\n#년, 월, 일 분리 필요 (split)\\n# year추가 , month 추가, day 추가 \\nmember1 = [{\\'name\\':\\'홍길동\\', \\'brith\\':\\'2000-01-01\\'},\\n           {\\'name\\':\\'신길동\\', \\'brith\\':\\'1998-12-31\\'}]\\nmember2= [{\\n    \"name\" : 신길동\\n    \\'year\\' : int(member1.split[-][0])\\n    \\'month\\': int(meber1.split[-][1])\\n    \\'day\\' : int(member1.split[-][2])\\n}]\\n\\nprint(member2)',\n",
       "  'def member_func(member): #{\\'name\\':\\'홍길동\\', \\'brith\\':\\'2000-01-01\\'\\n    \"{\\'name\\':\\'신길동\\', \\'year\\':1998, \\'month\\':12, \\'day\\':31} 이런식으로 return\"\\n    return {\\n        \\'name\\'  : member.get(\\'name\\'),\\n        \\'year\\'  : int(member[\\'birth\\'].split(\\'-\\')[0]),  #get함수 스타일로 써도 됨. \\n        \\'month\\' : int(member[\\'birth\\'].split(\\'-\\')[1]),\\n        \\'day\\'   : int(member[\\'birth\\'].split(\\'-\\')[2])\\n    }',\n",
       "  'member_func(member)',\n",
       "  'member_func(member2)',\n",
       "  'member_func(member1)',\n",
       "  \"member1 = [{'name':'홍길동', 'brith':'2000-01-01'},\\n                {'name':'신길동', 'brith':'1998-12-31'}]\\n    member2 = [{'name':'홍길동', 'year':2000, 'month':1, 'day':1}],\\n                {'name':'신길동', 'year':1998, 'month':12, 'day':31}] \",\n",
       "  \"member1 = [{'name':'홍길동', 'brith':'2000-01-01'},\\n                {'name':'신길동', 'brith':'1998-12-31'}]\",\n",
       "  'member1',\n",
       "  'def member_func(member): #{\\'name\\':\\'홍길동\\', \\'brith\\':\\'2000-01-01\\'\\n    \"{\\'name\\':\\'신길동\\', \\'year\\':1998, \\'month\\':12, \\'day\\':31} 이런식으로 return\"\\n    return {\\n        \\'name\\'  : member.get(\\'name\\'),\\n        \\'year\\'  : int(member[\\'birth\\'].split(\\'-\\')[0]),  #get함수 스타일로 써도 됨. \\n        \\'month\\' : int(member[\\'birth\\'].split(\\'-\\')[1]),\\n        \\'day\\'   : int(member[\\'birth\\'].split(\\'-\\')[2])\\n    }',\n",
       "  'member_func(member1[0])',\n",
       "  'def member_func(member): #{\\'name\\':\\'홍길동\\', \\'brith\\':\\'2000-01-01\\'\\n    \"{\\'name\\':\\'신길동\\', \\'year\\':1998, \\'month\\':12, \\'day\\':31} 이런식으로 return\"\\n    return {\\n        \\'name\\'  : member.get(\\'name\\'),\\n        \\'year\\'  : int(member[\\'birth\\'].split(\\'-\\')[0]),  #get함수 스타일로 써도 됨. \\n        \\'month\\' : int(member[\\'birth\\'].split(\\'-\\')[1]),\\n        \\'day\\'   : int(member[\\'birth\\'].split(\\'-\\')[2])\\n    }\\nmember_func(member1[0])',\n",
       "  \"member1 = [{'name':'홍길동', 'brith':'2000-01-01'},\\n         {'name':'신길동', 'brith':'1998-12-31'}]\",\n",
       "  \"# 2000-01-01 → {'year':1998, 'month':12, 'day':31}\\ndef split_data(data):\\n    split_data = data.split('-')\\n    #print(split_data[0],split_data[1],split_data[2])\\n    return {'year' : int(split_data[0]),\\n            'month': int(split_data[1]),\\n            'day'  : int(split_data[2])}\",\n",
       "  \"split_data('2000-01-01')\",\n",
       "  'def member_func(member): #{\\'name\\':\\'홍길동\\', \\'brith\\':\\'2000-01-01\\'\\n    \"{\\'name\\':\\'신길동\\', \\'year\\':1998, \\'month\\':12, \\'day\\':31} 이런식으로 return\"\\n    return {\\n        \\'name\\'  : member.get(\\'name\\'),\\n        \\'year\\'  : int(member[\\'birth\\'].split(\\'-\\')[0]),  #get함수 스타일로 써도 됨. \\n        \\'month\\' : int(member[\\'birth\\'].split(\\'-\\')[1]),\\n        \\'day\\'   : int(member[\\'birth\\'].split(\\'-\\')[2])\\n    }\\nmember_func(member1[0])',\n",
       "  'def member_func(member): #{\\'name\\':\\'홍길동\\', \\'brith\\':\\'2000-01-01\\'\\n    \"{\\'name\\':\\'신길동\\', \\'year\\':1998, \\'month\\':12, \\'day\\':31} 이런식으로 return\"\\n    return {\\n        \\'name\\'  : member.get(\\'name\\'),\\n        \\'year\\'  : int(member[\\'birth\\'].split(\\'-\\')[0]),  #get함수 스타일로 써도 됨. \\n        \\'month\\' : int(member[\\'birth\\'].split(\\'-\\')[1]),\\n        \\'day\\'   : int(member[\\'birth\\'].split(\\'-\\')[2])\\n    }\\nmember_func(member1)',\n",
       "  \"list(map(lambda member : {\\n                            'name'  : member.get('name'),\\n                            'year'  : int(member['birth'].split('-')[0]),  \\n                            'month' : int(member['birth'].split('-')[1]),\\n                            'day'   : int(member['birth'].split('-')[2]}))\",\n",
       "  \"list(map(lambda member : {\\n                            'name'  : member.get('name'),\\n                            'year'  : int(member['birth'].split('-')[0]),  \\n                            'month' : int(member['birth'].split('-')[1]),\\n                            'day'   : int(member['birth'].split('-')[2]},))\",\n",
       "  'def member_func(member): #{\\'name\\':\\'홍길동\\', \\'brith\\':\\'2000-01-01\\'\\n    \"{\\'name\\':\\'신길동\\', \\'year\\':1998, \\'month\\':12, \\'day\\':31} 이런식으로 return\"\\n    return {\\n        \\'name\\'  : member.get(\\'name\\'),\\n        \\'year\\'  : int(member[\\'birth\\'].split(\\'-\\')[0]),  #get함수 스타일로 써도 됨. \\n        \\'month\\' : int(member[\\'birth\\'].split(\\'-\\')[1]),\\n        \\'day\\'   : int(member[\\'birth\\'].split(\\'-\\')[2]),\\n    }\\nmember_func(member1)',\n",
       "  'def member_func(member): #{\\'name\\':\\'홍길동\\', \\'brith\\':\\'2000-01-01\\'\\n    \"{\\'name\\':\\'신길동\\', \\'year\\':1998, \\'month\\':12, \\'day\\':31} 이런식으로 return\"\\n    return {\\n        \\'name\\'  : member.get(\\'name\\'),\\n        \\'year\\'  : int(member[\\'birth\\'].split(\\'-\\')[0]),  #get함수 스타일로 써도 됨. \\n        \\'month\\' : int(member[\\'birth\\'].split(\\'-\\')[1]),\\n        \\'day\\'   : int(member[\\'birth\\'].split(\\'-\\')[2]),\\n    }))',\n",
       "  'def member_func(member): #{\\'name\\':\\'홍길동\\', \\'brith\\':\\'2000-01-01\\'\\n    \"{\\'name\\':\\'신길동\\', \\'year\\':1998, \\'month\\':12, \\'day\\':31} 이런식으로 return\"\\n    return {\\n        \\'name\\'  : member.get(\\'name\\'),\\n        \\'year\\'  : int(member[\\'birth\\'].split(\\'-\\')[0]),  #get함수 스타일로 써도 됨. \\n        \\'month\\' : int(member[\\'birth\\'].split(\\'-\\')[1]),\\n        \\'day\\'   : int(member[\\'birth\\'].split(\\'-\\')[2]),\\n    })',\n",
       "  'def member_func(member): #{\\'name\\':\\'홍길동\\', \\'brith\\':\\'2000-01-01\\'\\n    \"{\\'name\\':\\'신길동\\', \\'year\\':1998, \\'month\\':12, \\'day\\':31} 이런식으로 return\"\\n    return {\\n        \\'name\\'  : member.get(\\'name\\'),\\n        \\'year\\'  : int(member[\\'birth\\'].split(\\'-\\')[0]),  #get함수 스타일로 써도 됨. \\n        \\'month\\' : int(member[\\'birth\\'].split(\\'-\\')[1]),\\n        \\'day\\'   : int(member[\\'birth\\'].split(\\'-\\')[2]),\\n    }',\n",
       "  \"list(map(lambda member : {\\n                            'name'  : member.get('name'),\\n                            'year'  : int(member['birth'].split('-')[0]),  \\n                            'month' : int(member['birth'].split('-')[1]),\\n                            'day'   : int(member['birth'].split('-')[2]},))\",\n",
       "  \"list(map(lambda member : {\\n                            'name'  : member.get('name'),\\n                            'year'  : int(member['birth'].split('-')[0]),  \\n                            'month' : int(member['birth'].split('-')[1]),\\n                            'day'   : int(member['birth'].split('-')[2])},))\",\n",
       "  \"list(map(lambda member : {\\n                            'name'  : member.get('name'),\\n                            'year'  : int(member['birth'].split('-')[0]),  \\n                            'month' : int(member['birth'].split('-')[1]),\\n                            'day'   : int(member['birth'].split('-')[2],\\n                            }, member1))member2\",\n",
       "  \"member2 = list(map(lambda member : {\\n                            'name'  : member.get('name'),\\n                            'year'  : int(member['birth'].split('-')[0]),  \\n                            'month' : int(member['birth'].split('-')[1]),\\n                            'day'   : int(member['birth'].split('-')[2],\\n                            }, \\n        member1\\n        )\\n    )\\nmember2\",\n",
       "  \"member2 = list(map(lambda member : {\\n                            'name'  : member.get('name'),\\n                            'year'  : int(member['birth'].split('-')[0]),  \\n                            'month' : int(member['birth'].split('-')[1]),\\n                            'day'   : int(member['birth'].split('-')[2],\\n                            } , \\n        member1\\n        )\\n    )\\nmember2\",\n",
       "  \"member2 = list(map(lambda member : {\\n                            'name'  : member.get('name'),\\n                            'year'  : int(member['birth'].split('-')[0]),  \\n                            'month' : int(member['birth'].split('-')[1]),\\n                            'day'   : int(member['birth'].split('-')[2],} , \\n        member1\\n        )\\n    )\\nmember2\",\n",
       "  \"member2 = list(map(lambda member : {\\n                            'name'  : member.get('name'),\\n                            'year'  : int(member['birth'].split('-')[0]),  \\n                            'month' : int(member['birth'].split('-')[1]),\\n                            'day'   : int(member['birth'].split('-')[2],\\n                            } , \\n        member1\\n        )\\n    )\\nmember2\",\n",
       "  \"member2 = list(map(lambda member : {\\n                            'name'  : member.get('name'),\\n                            'year'  : int(member['birth'].split('-')[0]),  \\n                            'month' : int(member['birth'].split('-')[1]),\\n                            'day'   : int(member['birth'].split('-')[2],\\n                            }, \\n        member1\\n        )\\n    )\\nmember2\",\n",
       "  \"member2 = list(map(lambda member : {\\n                            'name'  : member.get('name'),\\n                            'year'  : int(member['birth'].split('-')[0]),  \\n                            'month' : int(member['birth'].split('-')[1]),\\n                            'day'   : int(member['birth'].split('-')[2]),\\n                            }, \\n        member1\\n        )\\n    )\\nmember2\",\n",
       "  \"member2 = list(map(lambda member : {\\n                            'name'  : member.get('name'),\\n                            'year'  : int(member['birth'].split('-')[0]),  \\n                            'month' : int(member['birth'].split('-')[1]),\\n                            'day'   : int(member['birth'].split('-')[2],\\n                            }, \\n        member1\\n        )\\n    )\\nmember2\",\n",
       "  'def member_func(member): #{\\'name\\':\\'홍길동\\', \\'brith\\':\\'2000-01-01\\'\\n    \"{\\'name\\':\\'신길동\\', \\'year\\':1998, \\'month\\':12, \\'day\\':31} 이런식으로 return\"\\n    return {\\n        \\'name\\'  : member.get(\\'name\\'),\\n        \\'year\\'  : int(member[\\'birth\\'].split(\\'-\\')[0]),  #get함수 스타일로 써도 됨. \\n        \\'month\\' : int(member[\\'birth\\'].split(\\'-\\')[1]),\\n        \\'day\\'   : int(member[\\'birth\\'].split(\\'-\\')[2]),\\n    }\\nmember_func(member1[0])',\n",
       "  'def member_func(member): #{\\'name\\':\\'홍길동\\', \\'brith\\':\\'2000-01-01\\'\\n    \"{\\'name\\':\\'신길동\\', \\'year\\':1998, \\'month\\':12, \\'day\\':31} 이런식으로 return\"\\n    return {\\n        \\'name\\'  : member.get(\\'name\\'),\\n        \\'year\\'  : int(member[\\'brith\\'].split(\\'-\\')[0]),  #get함수 스타일로 써도 됨. \\n        \\'month\\' : int(member[\\'brith\\'].split(\\'-\\')[1]),\\n        \\'day\\'   : int(member[\\'brith\\'].split(\\'-\\')[2]),\\n    }\\nmember_func(member1[0])',\n",
       "  \"member2 = list(map(lambda member : {\\n                            'name'  : member.get('name'),\\n                            'year'  : int(member['brith'].split('-')[0]),  \\n                            'month' : int(member['brith'].split('-')[1]),\\n                            'day'   : int(member['brith'].split('-')[2]),\\n                            }, \\n        member1\\n        )\\n    )\\nmember2\",\n",
       "  \"member1 = [{'name':'홍길동', 'birth':'2000-01-01'},\\n         {'name':'신길동', 'birth':'1998-12-31'}]\",\n",
       "  '\\'\\'\\'\\n예시2. member1 = [{\\'name\\':\\'홍길동\\', \\'birth\\':\\'2000-01-01\\'},\\n                {\\'name\\':\\'신길동\\', \\'birth\\':\\'1998-12-31\\'}]\\n    member2 = [{\\'name\\':\\'홍길동\\', \\'year\\':2000, \\'month\\':1, \\'day\\':1}],\\n                {\\'name\\':\\'신길동\\', \\'year\\':1998, \\'month\\':12, \\'day\\':31}] \\n\\'\\'\\'\\n#년, 월, 일 분리 필요 (split)\\n# year추가 , month 추가, day 추가 \\n#member1 = [{\\'name\\':\\'홍길동\\', \\'birth\\':\\'2000-01-01\\'},\\n#           {\\'name\\':\\'신길동\\', \\'birth\\':\\'1998-12-31\\'}]\\n#member2= [{\\n#    \"name\" : 신길동\\n#    \\'year\\' : int(member1.split[-][0])\\n#    \\'month\\': int(meber1.split[-][1])\\n#    \\'day\\' : int(member1.split[-][2])\\n#}]\\n\\n#print(member2)',\n",
       "  \"# 2000-01-01 → {'year':1998, 'month':12, 'day':31}\\ndef split_data(data):\\n    split_data = data.split('-')\\n    #print(split_data[0],split_data[1],split_data[2])\\n    return {'year' : int(split_data[0]),\\n            'month': int(split_data[1]),\\n            'day'  : int(split_data[2])}\",\n",
       "  \"split_data('2000-01-01')\",\n",
       "  'def member_func(member): #{\\'name\\':\\'홍길동\\', \\'birth\\':\\'2000-01-01\\'\\n    \"{\\'name\\':\\'신길동\\', \\'year\\':1998, \\'month\\':12, \\'day\\':31} 이런식으로 return\"\\n    return {\\n        \\'name\\'  : member.get(\\'name\\'),\\n        \\'year\\'  : int(member[\\'birth\\'].split(\\'-\\')[0]),  #get함수 스타일로 써도 됨. \\n        \\'month\\' : int(member[\\'birth\\'].split(\\'-\\')[1]),\\n        \\'day\\'   : int(member[\\'birth\\'].split(\\'-\\')[2]),\\n    }\\nmember_func(member1[0])',\n",
       "  \"member2 = list(map(lambda member : {\\n                            'name'  : member.get('name'),\\n                            'year'  : int(member['birth'].split('-')[0]),  \\n                            'month' : int(member['birth'].split('-')[1]),\\n                            'day'   : int(member['birth'].split('-')[2]),\\n                            }, \\n        member1\\n        )\\n    )\\nmember2\",\n",
       "  '\\'\\'\\'\\n예시 3. member2 를 member1로 바꿉니다.\\nmember2 = [{\\'name\\':\\'홍길동\\', \\'year\\':2000, \\'month\\':1, \\'day\\':1}],\\n                {\\'name\\':\\'신길동\\', \\'year\\':1998, \\'month\\':12, \\'day\\':31}]을\\n\\n\\'\\'\\'\\n\\n#{\\'year\\':2000, \\'month\\':1, \\'day\\':1} => \"2000-01-01\"를 return하는 함수\\nformat이나 \\n\\ndef member_ex2(member):\\n    {\\'name\\' : member.get(\\'name\\'),\\n      \\'birth\\' :\\'-\\'.join(member[\\'birth\\'].split)}',\n",
       "  '\\'\\'\\'\\n예시 3. member2 를 member1로 바꿉니다.\\nmember2 = [{\\'name\\':\\'홍길동\\', \\'year\\':2000, \\'month\\':1, \\'day\\':1}],\\n                {\\'name\\':\\'신길동\\', \\'year\\':1998, \\'month\\':12, \\'day\\':31}]을\\n\\n\\'\\'\\'\\n\\n#{\\'year\\':2000, \\'month\\':1, \\'day\\':1} => \"2000-01-01\"를 return하는 함수\\n#format이나 \\n\\ndef member_ex2(member):\\n    {\\'name\\' : member.get(\\'name\\'),\\n      \\'birth\\' :\\'-\\'.join(member[\\'birth\\'].split)}',\n",
       "  '\\'\\'\\'\\n예시 3. member2 를 member1로 바꿉니다.\\nmember2 = [{\\'name\\':\\'홍길동\\', \\'year\\':2000, \\'month\\':1, \\'day\\':1}],\\n                {\\'name\\':\\'신길동\\', \\'year\\':1998, \\'month\\':12, \\'day\\':31}]을\\n\\n\\'\\'\\'\\n\\n#{\\'year\\':2000, \\'month\\':1, \\'day\\':1} => \"2000-01-01\"를 return하는 함수\\n#format이나 \\n\\ndef member_ex2(member):\\n    {\\'name\\' : member.get(\\'name\\'),\\n      \\'birth\\' :\\'-0\\'.join(member[\\'birth\\'].split[1]),}\\nprint(member2)',\n",
       "  '\\'\\'\\'\\n예시 3. member2 를 member1로 바꿉니다.\\nmember2 = [{\\'name\\':\\'홍길동\\', \\'year\\':2000, \\'month\\':1, \\'day\\':1}],\\n                {\\'name\\':\\'신길동\\', \\'year\\':1998, \\'month\\':12, \\'day\\':31}]을\\n\\n\\'\\'\\'\\n\\n#{\\'year\\':2000, \\'month\\':1, \\'day\\':1} => \"2000-01-01\"를 return하는 함수\\n#format이나 \\n\\ndef member_ex2(member):\\n    {\\'name\\' : member.get(\\'name\\'),\\n      \\'birth\\' :\\'-0\\'.join(member[\\'birth\\'].split[1]),}\\n    print(member2)',\n",
       "  '\\'\\'\\'\\n예시 3. member2 를 member1로 바꿉니다.\\nmember2 = [{\\'name\\':\\'홍길동\\', \\'year\\':2000, \\'month\\':1, \\'day\\':1}],\\n                {\\'name\\':\\'신길동\\', \\'year\\':1998, \\'month\\':12, \\'day\\':31}]을\\n\\n\\'\\'\\'\\n\\n#{\\'year\\':2000, \\'month\\':1, \\'day\\':1} => \"2000-01-01\"를 return하는 함수\\n#format이나 \\n\\ndef member_ex2(member):\\n    {\\'name\\' : member.get(\\'name\\'),\\n      \\'birth\\' :\\'-0\\'.join(member[\\'birth\\'].split[1]),}\\n    return(member2)',\n",
       "  '\\'\\'\\'\\n예시 3. member2 를 member1로 바꿉니다.\\nmember2 = [{\\'name\\':\\'홍길동\\', \\'year\\':2000, \\'month\\':1, \\'day\\':1}],\\n                {\\'name\\':\\'신길동\\', \\'year\\':1998, \\'month\\':12, \\'day\\':31}]을\\n\\n\\'\\'\\'\\n\\n#{\\'year\\':2000, \\'month\\':1, \\'day\\':1} => \"2000-01-01\"를 return하는 함수\\n#format이나 \\n\\ndef member_ex2(member):\\n    {\\'name\\' : member.get(\\'name\\'),\\n     \\'birth\\': f\\'{[\\'year\\']}-{\\'month\\':02d}-{[\\'day\\']:02}\\'}\\n    return (member2)',\n",
       "  '\\'\\'\\'\\n예시 3. member2 를 member1로 바꿉니다.\\nmember2 = [{\\'name\\':\\'홍길동\\', \\'year\\':2000, \\'month\\':1, \\'day\\':1}],\\n                {\\'name\\':\\'신길동\\', \\'year\\':1998, \\'month\\':12, \\'day\\':31}]을\\n\\n\\'\\'\\'\\n\\n#{\\'year\\':2000, \\'month\\':1, \\'day\\':1} => \"2000-01-01\"를 return하는 함수\\n#format이나 \\n\\ndef member_ex2(member):\\n    {\\'name\\' : member.get(\\'name\\'),\\n     \\'birth\\': f\\'{[\\'year\\']}-{[\\'month\\']:02d}-{[\\'day\\']:02}\\'}\\n    return (member2)',\n",
       "  '\\'\\'\\'\\n예시 3. member2 를 member1로 바꿉니다.\\nmember2 = [{\\'name\\':\\'홍길동\\', \\'year\\':2000, \\'month\\':1, \\'day\\':1}],\\n                {\\'name\\':\\'신길동\\', \\'year\\':1998, \\'month\\':12, \\'day\\':31}]을\\n\\n\\'\\'\\'\\n\\n#{\\'year\\':2000, \\'month\\':1, \\'day\\':1} => \"2000-01-01\"를 return하는 함수\\n#format이나 \\n\\ndef member_ex2(member):\\n    {\\'name\\' : member.get(\\'name\\'),\\n     \\'birth\\': f\\'{[\\'year\\']}-{[\\'month\\']:02d}-{[\\'day\\']:02}\\'}\\n    return\\nmember_ex2(member2)',\n",
       "  \"def join_data(data):\\n    print([data.get('year'), data.get('month'),data.get('day')])\\n    year = str(data.get('year'))\\n#    month = str(data.get('month')) # 월은12월까지 있는거라서 이렇게 하면 안됨. \\n    month = data.get('month')\\n    if month < 10:\\n        month = '0'+str(month)\\n    else:\\n        month = str(month)   \\n    day = data.get('day')\\n    if day < 10:\\n        day = '0'+str(day)\\n    else:\\n        day = str(day)\\n        \\n    return '-'.join([]'year', 'month','day']) \\n#join에는 문자리스트가 들어가야 함. 숫자 들어가면 오류 남\",\n",
       "  \"def join_data(data):\\n    print([data.get('year'), data.get('month'),data.get('day')])\\n    year = str(data.get('year'))\\n#    month = str(data.get('month')) # 월은12월까지 있는거라서 이렇게 하면 안됨. \\n    month = data.get('month')\\n    if month < 10:\\n        month = '0'+str(month)\\n    else:\\n        month = str(month)   \\n    day = data.get('day')\\n    if day < 10:\\n        day = '0'+str(day)\\n    else:\\n        day = str(day)\\n        \\n    return '-'.join(['year', 'month','day']) \\n#join에는 문자리스트가 들어가야 함. 숫자 들어가면 오류 남\",\n",
       "  \"join_data({'year':2000, 'month': 1, 'day': 1})\",\n",
       "  \"def join_data(data):\\n    print([data.get('year'), data.get('month'),data.get('day')])\\n    year = str(data.get('year'))\\n#    month = str(data.get('month')) # 월은12월까지 있는거라서 이렇게 하면 안됨. \\n    month = data.get('month')\\n    if month < 10:\\n        month = '0'+str(month)\\n    else:\\n        month = str(month)   \\n    day = data.get('day')\\n    if day < 10:\\n        day = '0'+str(day)\\n    else:\\n        day = str(day)\\n        \\n    return '-'.join(['year', 'month','day']) \\n#join에는 문자리스트가 들어가야 함. 숫자 들어가면 오류 남\",\n",
       "  \"join_data({'year':2000, 'month': 1, 'day': 1})\",\n",
       "  \"def join_data(data):\\n    print([data.get('year'), data.get('month'),data.get('day')])\\n    year = str(data.get('year'))\\n#    month = str(data.get('month')) # 월은12월까지 있는거라서 이렇게 하면 안됨. \\n    month = data.get('month')\\n    if month < 10:\\n        month = '0'+str(month)\\n    else:\\n        month = str(month)   \\n    day = data.get('day')\\n    if day < 10:\\n        day = '0'+str(day)\\n    else:\\n        day = str(day)\\n        \\n    return '-'.join(['year','month','day']) \\n#join에는 문자리스트가 들어가야 함. 숫자 들어가면 오류 남\",\n",
       "  \"join_data({'year':2000, 'month': 1, 'day': 1})\",\n",
       "  'def join_data(data):\\n    print(\"{}-{:02}-{:02}\".format(data.get(\\'year\\')\\n                                  ,data.get(\\'month\\'),\\n                                  data.get(\\'day\\')))',\n",
       "  'def join_data(data):\\n    print(\"{}-{:02}-{:02}\".format(data.get(\\'year\\')\\n                                  ,data.get(\\'month\\'),\\n                                  data.get(\\'day\\')))\\njoin_data(member2)',\n",
       "  'def join_data(data):\\n    print(\"{}-{:02}-{:02}\".format(data.get(\\'year\\')\\n                                  ,data.get(\\'month\\'),\\n                                  data.get(\\'day\\')))',\n",
       "  \"join_data({'year':2000,'month':1,'day':1})\",\n",
       "  \"def join_data(data):\\n    print([data.get('year'), data.get('month'),data.get('day')])\\n    year = str(data.get('year'))\\n#    month = str(data.get('month')) # 월은12월까지 있는거라서 이렇게 하면 안됨. \\n    month = data.get('month')\\n    if month < 10:\\n        month = '0'+str(month)\\n    else:\\n        month = str(month)   \\n    day = data.get('day')\\n    if day < 10:\\n        day = '0'+str(day)\\n    else:\\n        day = str(day)\\n        \\n    return '-'.join(['year','month','day']) \\n#join에는 문자리스트가 들어가야 함. 숫자 들어가면 오류 남\",\n",
       "  \"join_data({'year':2000, 'month': 1, 'day': 1})\",\n",
       "  \"def join_data(data):\\n#    print([data.get('year'), data.get('month'),data.get('day')])\\n    year = str(data.get('year'))\\n#    month = str(data.get('month')) # 월은12월까지 있는거라서 이렇게 하면 안됨. \\n    month = data.get('month')\\n    if month < 10:\\n        month = '0'+str(month)\\n    else:\\n        month = str(month)   \\n    day = data.get('day')\\n    if day < 10:\\n        day = '0'+str(day)\\n    else:\\n        day = str(day)\\n        \\n    return '-'.join(['year','month','day']) \\n#join에는 문자리스트가 들어가야 함. 숫자 들어가면 오류 남\",\n",
       "  \"join_data({'year':2000, 'month': 1, 'day': 1})\",\n",
       "  \"join_data({'year':2000,'month':1,'day':1})\",\n",
       "  \"def join_data(data):\\n#    print([data.get('year'), data.get('month'),data.get('day')])\\n    year = str(data.get('year'))\\n#    month = str(data.get('month')) # 월은12월까지 있는거라서 이렇게 하면 안됨. \\n    month = data.get('month')\\n    if month < 10:\\n        month = '0'+str(month)\\n    else:\\n        month = str(month)   \\n    day = data.get('day')\\n    if day < 10:\\n        day = '0'+str(day)\\n    else:\\n        day = str(day)\\n        \\n    return '-'.join(['year','month','day']) \\n#join에는 문자리스트가 들어가야 함. 숫자 들어가면 오류 남\",\n",
       "  \"def join_date(data):\\n    # print([data.get('year'), data.get('month'), data.get('day')])\\n    year = str(data.get('year'))\\n    month = data.get('month')\\n    if month < 10:\\n        month = '0'+str(month)\\n    else:\\n        month = str(month)\\n    day = data.get('day')\\n    if day < 10:\\n        day = '0'+str(day)\\n    else:\\n        day = str(day)\\n    return '-'.join([year, month, day])\",\n",
       "  \"join_data({'year':2000,'month':1,'day':1})\",\n",
       "  \"def join_data(data):\\n#    print([data.get('year'), data.get('month'),data.get('day')])\\n    year = str(data.get('year'))\\n#    month = str(data.get('month')) \\n    month = data.get('month')\\n    if month < 10:\\n        month = '0'+str(month)\\n    else:\\n        month = str(month)   \\n    day = data.get('day')\\n    if day < 10:\\n        day = '0'+str(day)\\n    else:\\n        day = str(day)\\n        \\n    return '-'.join(['year','month','day']) \\n#join에는 문자리스트가 들어가야 함. 숫자 들어가면 오류 남\",\n",
       "  \"join_data({'year':2000,'month':1,'day':1})\",\n",
       "  \"def join_data(data):\\n#    print([data.get('year'), data.get('month'),data.get('day')])\\n    year = str(data.get('year'))\\n#    month = str(data.get('month')) \\n    month = data.get('month')\\n    if month < 10:\\n        month = '0'+str(month)\\n    else:\\n        month = str(month)   \\n    day = data.get('day')\\n    if day < 10:\\n        day = '0'+str(day)\\n    else:\\n        day = str(day)\\n        \\n    return '-'.join([year,month,day]) \\n#join에는 문자리스트가 들어가야 함. 숫자 들어가면 오류 남\",\n",
       "  \"join_data({'year':2000,'month':1,'day':1})\",\n",
       "  \"join_data({'year':2000,'month':18,'day':1})\",\n",
       "  \"join_data({'year':2000,'month':1,'day':1})\",\n",
       "  '# 더 간단하게 하는 방법으로 가는중 2\\ndef join_data(data):\\n    print(\"{year}-{month:02}-{day:02}\".format(**data) #**data안에 있는 값과 동일 \\n#                                            year = data.get(\\'year\\'),\\n#                                            month = data.get(\\'month\\'),\\n#                                            day = data.get(\\'day\\')))',\n",
       "  '# 더 간단하게 하는 방법으로 가는중 2\\ndef join_data(data):\\n    print(\"{year}-{month:02}-{day:02}\".format(**data) #**data안에 있는 값과 동일 ',\n",
       "  '# 더 간단하게 하는 방법으로 가는중 2\\ndef join_data(data):\\n    print(\"{year}-{month:02}-{day:02}\".format(**data) #**data안에 있는 값과 동일 ',\n",
       "  \"join_data({'year':2000,'month':1,'day':1})\",\n",
       "  '# 더 간단하게 하는 방법으로 가는중 2 (**data안에 있는 값과 동일)\\ndef join_data(data):\\n    print(\"{year}-{month:02}-{day:02}\".format(**data)',\n",
       "  '# 더 간단하게 하는 방법으로 가는중 2 (**data안에 있는 값과 동일)\\ndef join_data(data):\\n    print(\"{year}-{[month]:02}-{[day]:02}\".format(**data)',\n",
       "  '# 더 간단하게 하는 방법으로 가는중 2 (**data안에 있는 값과 동일)\\ndef join_data(data):\\n    print ()\"{year}-{month:02}-{day:02}\".format(**data))',\n",
       "  '# 더 간단하게 하는 방법으로 가는중 2 (**data안에 있는 값과 동일)\\ndef join_data(data):\\n    print (\"{year}-{month:02}-{day:02}\".format(**data))',\n",
       "  \"join_data({'year':2000,'month':1,'day':1})\",\n",
       "  '# 더 간단하게 하는 방법으로 가는중 2 (**data안에 있는 값과 동일)\\ndef join_data(data):\\n    return \"{year}-{month:02}-{day:02}\".format(**data)',\n",
       "  \"join_data({'year':2000,'month':1,'day':1})\",\n",
       "  '# 더 간단하게 하는 방법으로 가는중 2 (**data안에 있는 값과 동일)\\ndef join_data(data):\\n    return \"{year}-{[month]:02}-{[day]:02}\".format(**data)',\n",
       "  \"join_data({'year':2000,'month':1,'day':1})\",\n",
       "  '# 더 간단하게 하는 방법으로 가는중 2 (**data안에 있는 값과 동일)\\ndef join_data(data):\\n    return \"{year}-{month:02}-{day:02}\".format(**data)',\n",
       "  \"join_data({'year':2000,'month':1,'day':1})\",\n",
       "  '\\'\\'\\'\\n{\\'name\\':\\'홍길동\\', \\'year\\':2000, \\'month\\':1, \\'day\\':1}]을\\n{\\'name\\':\\'홍길동\\', \\'birth\\':\\'2000-01-01\\'}로 가공\\n\\'\\'\\'\\n        \\nlist(map(lambda member : {\\n                            \\'name\\' : member.get(\\'name\\'),\\n                            \\'birth\\' : \"{year}-{month:02}-{day:02}\".format(**data)}))\\nprint(member2)',\n",
       "  '\\'\\'\\'\\n{\\'name\\':\\'홍길동\\', \\'year\\':2000, \\'month\\':1, \\'day\\':1}]을\\n{\\'name\\':\\'홍길동\\', \\'birth\\':\\'2000-01-01\\'}로 가공\\n\\'\\'\\'\\n        \\nlist(map(lambda member : {\\n                            \\'name\\' : member.get(\\'name\\'),\\n                            \\'birth\\' : \"{year}-{month:02}-{day:02}\".format(**data)}))\\nprint(member)',\n",
       "  '\\'\\'\\'\\n{\\'name\\':\\'홍길동\\', \\'year\\':2000, \\'month\\':1, \\'day\\':1}]을\\n{\\'name\\':\\'홍길동\\', \\'birth\\':\\'2000-01-01\\'}로 가공\\n\\'\\'\\'\\n        \\nlist(map(lambda member : {\\n                            \\'name\\' : member.get(\\'name\\'),\\n                            \\'birth\\' : \"{year}-{month:02}-{day:02}\".format(**data)}, member2))',\n",
       "  '#{\\'name\\':\\'홍길동\\', \\'year\\':2000, \\'month\\':1, \\'day\\':1}]을\\n#{\\'name\\':\\'홍길동\\', \\'birth\\':\\'2000-01-01\\'}로 가공\\n      \\nlist(map(lambda member : {\\n                            \\'name\\' : member.get(\\'name\\'),\\n                            \\'birth\\' : \"{year}-{month:02}-{day:02}\".format(**data)}, member2))',\n",
       "  '#{\\'name\\':\\'홍길동\\', \\'year\\':2000, \\'month\\':1, \\'day\\':1}]을\\n#{\\'name\\':\\'홍길동\\', \\'birth\\':\\'2000-01-01\\'}로 가공\\n      \\nlist(map(lambda member : {\\n                            \\'name\\' : member.get(\\'name\\'),\\n                            \\'birth\\' : \"{year}-{month:02}-{day:02}\".format(**data)\\n                            },\\n    member2\\n))',\n",
       "  '#{\\'name\\':\\'홍길동\\', \\'year\\':2000, \\'month\\':1, \\'day\\':1}]을\\n#{\\'name\\':\\'홍길동\\', \\'birth\\':\\'2000-01-01\\'}로 가공\\n      \\nlist(map(lambda member : {\\n                            \\'name\\' : member.get(\\'name\\'),\\n                            \\'birth\\' : \"{year}-{month:02}-{day:02}\".format(**member)\\n                            },\\n    member2\\n))',\n",
       "  '#백터데이터 리스트에 [1, 2, 3, 4, 5] => [2,4]\\ndef filter_tamplate(func, L=[])\\n    result = []\\n    for l in L:\\n        if func(l):\\n            result.append(l)\\n        return result ',\n",
       "  '#백터데이터 리스트에 [1, 2, 3, 4, 5] => [2,4]\\ndef filter_tamplate(func, L=[]):\\n    result = []\\n    for l in L:\\n        if func(l):\\n            result.append(l)\\n        return result ',\n",
       "  'def evenChk(value):\\n    return value%2==0\\nevenChk(20), evenChk(9)',\n",
       "  'def evenChk(value):\\n    return value%2==0\\nevenChk(20), evenChk(9), evenChk([1,2])',\n",
       "  'def evenChk(value):\\n    return value%2==0\\nevenChk(20), evenChk(9)',\n",
       "  'list_data = [1,2,3,4,5]\\nfilter_tamplate(lambda value : value%2==0, list_data )',\n",
       "  'list_data = [1, 2, 3, 4, 5]\\nfilter_tamplate(lambda value : value%2==0, list_data )',\n",
       "  '#백터데이터 리스트에 [1, 2, 3, 4, 5] => [2,4]\\ndef filter_tamplate(func, L=[]):\\n    result = []\\n    for l in L:\\n        if func(l):\\n            result.append(l)\\n        return result ',\n",
       "  'def evenChk(value):\\n    return value%2==0\\nevenChk(20), evenChk(9)',\n",
       "  'list_data = [1, 2, 3, 4, 5]\\nfilter_tamplate(lambda value : value%2==0, list_data )',\n",
       "  'list_data = [1, 2, 3, 4, 5]\\nfilter_tamplate(lambda value : value%2==0, list_data )',\n",
       "  '[data for data in list_data if data%2==0]',\n",
       "  'list_data = [1, 2, 3, 4, 5]\\nfilter_tamplate(lambda value:value%2==0, list_data )',\n",
       "  'list_data = [1, 2, 3, 4, 5]\\nfilter_tamplate(lambda value : value%2==0, list_data)',\n",
       "  'list_data = [1, 2, 3, 4, 5]\\nfilter_tamplate(lambda value : value%2==0, list_data)',\n",
       "  'list_data = [1, 2, 3, 4, 5]\\nfilter_tamplate(lambda value : value%2==0, list_data)',\n",
       "  '#백터데이터 리스트에 [1, 2, 3, 4, 5] => [2,4]\\ndef filter_tamplate(func, L=[]):\\n    result = []\\n    for l in L:\\n        if func(l):\\n            result.append(l)\\n    return result ',\n",
       "  'def evenChk(value):\\n    return value%2==0\\nevenChk(20), evenChk(9)',\n",
       "  'list_data = [1, 2, 3, 4, 5]\\nfilter_tamplate(lambda value : value%2==0, list_data)',\n",
       "  'p = [9, 2, 7]\\np.sort(reverse=True)\\np',\n",
       "  'number2d = [[9.9],\\n            [1,100],\\n            [10,1]]\\nnumber2d.sort()\\nnumber2d',\n",
       "  'number2d = [[9.9],\\n            [1,100],\\n            [10,1]]\\nnumber2d.sort(reverse=True)\\nnumber2d\\n#이 sort는 앞에자리 기준으로 순서 정해버림',\n",
       "  'number2d = [[9.9],\\n            [1,100],\\n            [10,1]]\\nnumber2d.sort(reverse=False) #무조건 0번 아이템 기준으로 정렬\\nnumber2d\\n#이 sort는 앞에자리 기준으로 순서 정해버림',\n",
       "  'number2d = [[9.9],\\n            [1,100],\\n            [10,1]]\\nnumber2d.sort(reverse=True) #무조건 0번 아이템 기준으로 정렬\\nnumber2d\\n#이 sort는 앞에자리 기준으로 순서 정해버림',\n",
       "  'number2d = [[9,9,9,9,9],\\n            [1,100],\\n            [10,1]]\\nnumber2d.sort(reverse=True) #무조건 0번 item 기준으로 정렬\\nnumber2d\\n#이 sort는 앞에자리 기준으로 순서 정해버림',\n",
       "  \"pairs = [(2, 'two'), (1, 'one'),(4,'four'),(3,'three')]\\nparis.sort()\\nparis\",\n",
       "  \"pairs = [(2, 'two'), (1, 'one'),(4,'four'),(3,'three')]\\npairs.sort()\\npairs\",\n",
       "  'number2d = [[9,9,9,9,9],\\n            [1,100],\\n            [10,1]]\\nnumber2d.sort(reverse=True) #무조건 0번 item 기준으로 정렬\\nnumber2d\\n#이 sort는 앞에자리 기준으로 순서 정해버림',\n",
       "  \"#1번째 item을 기준으로 정렬\\n\\npairs = [(2, 'two'), (1, 'one'),(4,'four'),(3,'three')]\\npairs.sort(1)\\npairs\",\n",
       "  \"#1번째 item을 기준으로 정렬\\n\\npairs = [(2, 'two'), (1, 'one'),(4,'four'),(3,'three')]\\npairs.sort()\\npairs\",\n",
       "  \"#1번째 item을 기준으로 정렬(문자:abc순서로 정렬)\\n\\npairs = [(2, 'two'), (1, 'one'),(4,'four'),(3,'three')]\\npairs.split[1]\\npairs.sort()\\npairs\",\n",
       "  \"#1번째 item을 기준으로 정렬(문자:abc순서로 정렬)\\n\\npairs = [(2, 'two'), (1, 'one'),(4,'four'),(3,'three')]\\npairs.sort(key=lambda pair : pair[1])\\npairs\",\n",
       "  \"#1번째 item을 기준으로 정렬(문자:abc순서로 정렬)\\n\\npairs = [(2, 'two'), (1, 'one'),(4,'four'),(3,'three')]\\npairs.sort(key=lambda pair : pair[1],reverse=False) #1번 인덱스기준으로 abc순서로 정리 \\npairs\",\n",
       "  \"#1번째 item을 기준으로 정렬(문자:abc순서로 정렬)\\n\\npairs = [(2, 'two'), (1, 'one'),(4,'four'),(3,'three')]\\npairs.sort(key=lambda pair : pair[1])#1번 인덱스기준으로 abc순서로 정리 \\npairs\",\n",
       "  \"#1번째 item을 기준으로 정렬(문자:abc순서로 정렬)\\n\\npairs = [(2, 'two'), (1, 'one'),(4,'four'),(3,'three')]\\npairs.sort( reverse=Fals, key=lambda pair : pair[1])#1번 인덱스기준으로 abc순서로 정리 \\npairs\",\n",
       "  \"#1번째 item을 기준으로 정렬(문자:abc순서로 정렬)\\n\\npairs = [(2, 'two'), (1, 'one'),(4,'four'),(3,'three')]\\npairs.sort(key=lambda pair : pair[1],reverse)#1번 인덱스기준으로 abc순서로 정리 \\npairs\",\n",
       "  \"#1번째 item을 기준으로 정렬(문자:abc순서로 정렬) #1번 인덱스기준으로 abc순서로 정리 \\n\\npairs = [(2, 'two'), (1, 'one'),(4,'four'),(3,'three')]\\npairs.sort(key=lambda pair : pair[1],reverse) \\npairs\",\n",
       "  \"#1번째 item을 기준으로 정렬(문자:abc순서로 정렬) #1번 인덱스기준으로 abc순서로 정리 \\n\\npairs = [(2, 'two'), (1, 'one'),(4,'four'),(3,'three')]\\npairs.sort(key=lambda pair : pair[1]) \\npairs\",\n",
       "  'number2d = [[9,9,9,9,9],\\n            [1,100],\\n            [10,1]]\\nnumber2d.sort(reverse=True) #무조건 0번 item 기준으로 정렬\\nnumber2d\\n#이 sort는 앞에자리 기준으로 순서 정해버림',\n",
       "  '#합이 큰 순으로 정렬 \\n\\nnumber2d.sort(key=lambda item :sum(item))\\nnumber2d',\n",
       "  '(lambda item :sum(item))([1,2,3])',\n",
       "  '#합이 큰 순으로 정렬 \\n\\nnumber2d.sort(key=lambda item :sum(item), reverse=True)\\nnumbers2d',\n",
       "  '#합이 큰 순으로 정렬 \\n\\nnumber2d.sort(key=lambda item :sum(item), reverse=True)\\nnumber2d',\n",
       "  '#리스트를 매개변수로 받아 합을 return하는 함수 test\\n(lambda item :sum(item))([1,2,3])',\n",
       "  'students.sort(key=lambda ex : ex [student[0]] ,reverse=True)\\nstudents',\n",
       "  \"# 이름순으로 정렬(ㄱㄴㄷ 순)\\nstudents = [\\n    {'name':'홍길동', 'score':90},\\n    {'name':'김길동', 'score':85},\\n    {'name':'최길동', 'score':62},]\",\n",
       "  'students.sort(key=lambda ex : ex [student[0]] ,reverse=True)\\nstudents',\n",
       "  'students.sort(key=lambda ex : ex[0] ,reverse=True)\\nstudents',\n",
       "  \"students.sort(key=lambda ex : ex['name'] ,reverse=True)\\nstudents\",\n",
       "  \"students.sort(key=lambda ex : ex['name'] ,reverse=Flase)\\nstudents\",\n",
       "  \"students.sort(key=lambda ex : ex['name'] ,reverse=False)\\nstudents\",\n",
       "  \"#score순으로 정렬(내림차순정렬)\\nstudents.sort(key=lambda ex : ex['score'] ,reverse=True)\\nstudents\",\n",
       "  \"# 이름순으로 정렬(ㄱㄴㄷ 순)\\nstudents = [\\n    {'name':'홍길동', 'score':90},\\n    {'name':'김길동', 'score':85},\\n    {'name':'최길동', 'score':62},\\n    {'score':99}\\n]\",\n",
       "  \"students.sort(key=lambda ex : ex['name'] ,reverse=False)\\nstudents\",\n",
       "  \"# 이름순으로 정렬(ㄱㄴㄷ 순)\\nstudents = [\\n    {'name':'홍길동', 'score':90},\\n    {'name':'김길동', 'score':85},\\n    {'name':'최길동', 'score':62},\\n]\",\n",
       "  \"students.sort(key=lambda ex : ex['name'] ,reverse=False)\\nstudents\",\n",
       "  \"# 이름이 없는 사람의 점수를 내림차순으로 정렬\\nstudents.sort(key=lambda ex :['score'],reverse=True)\",\n",
       "  \"# 이름이 없는 사람의 점수를 내림차순으로 정렬\\nstudents.sort(key=lambda ex :['score'],reverse=True)\\nstudents\",\n",
       "  \"# 이름이 없는 사람의 점수를 내림차순으로 정렬\\nstudents.sort(key=lambda ex :['score'],reverse=False)\\nstudents\",\n",
       "  \"# 이름이 없는 사람의 점수를 내림차순으로 정렬\\nstudents.sort(key=lambda ex :ex ['score'],reverse=False)\\nstudents\",\n",
       "  \"# 이름이 없는 사람의 점수를 내림차순으로 정렬\\nstudents.sort(key=lambda ex : ex ['score'],reverse=False)\\nstudents\",\n",
       "  \"# 이름순으로 정렬(ㄱㄴㄷ 순)\\nstudents = [\\n    {'name':'홍길동', 'score':90},\\n    {'name':'김길동', 'score':85},\\n    {'name':'최길동', 'score':62},\\n    {'score':99}\\n]\",\n",
       "  \"# 이름이 없는 사람의 점수를 내림차순으로 정렬\\nstudents.sort(key=lambda ex : ex ['score'],reverse=False)\\nstudents\",\n",
       "  \"# 이름이 없는 사람의 점수를 내림차순으로 정렬\\nstudents.sort(key=lambda ex : ex.get('name'),reverse=False)\\nstudents\",\n",
       "  \"# 이름이 없는 사람의 점수를 내림차순으로 정렬\\nstudents.sort(key=lambda ex : ex.get('name', '유성미'),reverse=False)\\nstudents\",\n",
       "  \"# 이름이 없는 사람의 점수를 내림차순으로 정렬\\nstudents.sort(key=lambda ex : ex.get('name',),reverse=False)\\nstudents\",\n",
       "  \"# 이름이 없는 사람의 점수를 내림차순으로 정렬\\nstudents.sort(key=lambda ex : ex.get('score'),reverse=False)\\nstudents\",\n",
       "  \"# 이름이 없는 사람의 점수를 내림차순으로 정렬\\nstudents.sort(key=lambda ex : ex.get('name','힣'),reverse=False)\\nstudents\",\n",
       "  \"# 이름이 없는 사람의 점수를 내림차순으로 정렬\\nstudents.sort(key=lambda ex : ex.get('name','각'),reverse=False)\\nstudents\",\n",
       "  \"# 이름이 없는 사람의 점수를 내림차순으로 정렬\\nstudents.sort(key=lambda ex : ex.get('name','각'),reverse=False)\\nstudents\",\n",
       "  \"# 이름이 없는 사람의 점수를 내림차순으로 정렬\\nstudents.sort(key=lambda ex : ex.get('name','각'),reverse=False)\\nstudents\\nstudents.sort(key=lambda ex : ex.get('name','힣'),reverse=False)\\nstudents\",\n",
       "  \"students.sort(key=lambda ex : ex.get('score',0),reverse=False)\\nstudents\",\n",
       "  \"students.sort(key=lambda ex : ex.get('score',0),reverse=True)\\nstudents\",\n",
       "  \"# \\nbooks = [\\n    {'no':1, 'title':'강남 아파트 인사이트', 'writer': '오스틀', 'price':'25,200'},\\n    {'no':2, 'title':'단 한번의 삶', 'writer': '김영하', 'price':'15,120'},\\n    {'no':3, 'title':'흔한남매 19', 'writer': '백난도', 'price':'14,220'}\\n    {'no':4, 'title':'가격이 잘못', 'writer': '홍길동', 'price':'-'}\\n    {'no':5, 'title':'가격이 숫자', 'writer': '최무식', 'price':900}\\n    {'no':6, 'title':'가격이 없음', 'writer': '이난중',}\\n]\",\n",
       "  \"# \\nbooks = [\\n    {'no':1, 'title':'강남 아파트 인사이트', 'writer': '오스틀', 'price':'25,200'},\\n    {'no':2, 'title':'단 한번의 삶', 'writer': '김영하', 'price':'15,120'},\\n    {'no':3, 'title':'흔한남매 19', 'writer': '백난도', 'price':'14,220'},\\n    {'no':4, 'title':'가격이 잘못', 'writer': '홍길동', 'price':'-'},\\n    {'no':5, 'title':'가격이 숫자', 'writer': '최무식', 'price':900},\\n    {'no':6, 'title':'가격이 없음', 'writer': '이난중',}\\n]\",\n",
       "  \"books.sort(key = lambda book : book.get('title'))\",\n",
       "  \"books.sort(key = lambda book : book.get('title'))\\nbooks\",\n",
       "  \"books.sort(key = lambda book : book.get('writer'))\\nbooks\",\n",
       "  \"# 타입이 문자인지 확인 /문자면 replace(,) \\n# 숫자에 , 있는지 확인 \\n# int로 변환하기전에 숫자인지 확인하고 0원처리하기\\nbooks.sort(key = lambda book : book.get('price'),0)\",\n",
       "  \"# 타입이 문자인지 확인 /문자면 replace(,) \\n# 숫자에 , 있는지 확인 \\n# int로 변환하기전에 숫자인지 확인하고 0원처리하기\\nbooks.sort(key = lambda book : book.get('price',0))\",\n",
       "  \"# '14,000'의 값을 '14000'으로 변환 / 900의 값이 들어오면 그대로 900으로 넣고 / '-'이 들어오면 0원으로 변경\\ndef parse_int(price):\\n    print(type(price))\",\n",
       "  'parse_int(800)',\n",
       "  \"parse_int('800')\",\n",
       "  'parse_int(-800)',\n",
       "  \"# '14,000'의 값을 '14000'으로 변환 / 900의 값이 들어오면 그대로 900으로 넣고 / '-'이 들어오면 0원으로 변경\\ndef parse_int(price):\\n    #print(type(price))\\n    if isinstance(price,int):\\n        return price\",\n",
       "  'parse_int(-800)',\n",
       "  'parse_int(800)',\n",
       "  'parse_int(800)',\n",
       "  'parse_int(\"800\")',\n",
       "  \"parse_int('800')\",\n",
       "  'parse_int(800)',\n",
       "  \"# '14,000'의 값을 '14000'으로 변환 / 900의 값이 들어오면 그대로 900으로 넣고 / '-'이 들어오면 0원으로 변경\\ndef parse_int(price):\\n    #print(type(price))\\n    if isinstance(price,str) and price.replace(',','').isdigit():  #문자가 맞는지, 문자중에(,)을뺀 숫자로만 구성이 되어있는가 \\n        return int(price.replace(',',''))\\n    elif isinstance(price,int):\\n        return price\",\n",
       "  'parse_int(\"800\")',\n",
       "  'parse_int(\"8,00\")',\n",
       "  'parse_int(\"8,00000\")',\n",
       "  'parse_int(\"8,00,000\")',\n",
       "  'parse_int(\"8,000,000\")',\n",
       "  'parse_int(15754)',\n",
       "  'parse_int(0)',\n",
       "  'parse_int(*)',\n",
       "  'parse_int(-)',\n",
       "  \"# '14,000'의 값을 '14000'으로 변환 / 900의 값이 들어오면 그대로 900으로 넣고 / '-'이 들어오면 0원으로 변경\\ndef parse_int(price):\\n    #print(type(price))\\n    if isinstance(price,str) and price.replace(',','').isdigit():  #문자가 맞는지, 문자중에(,)을뺀 숫자로만 구성이 되어있는가 \\n        return int(price.replace(',',''))\\n    elif isinstance(price,int):\\n        return price\\n    else:\\n        return 0\",\n",
       "  'parse_int(-)',\n",
       "  \"# '14,000'의 값을 '14000'으로 변환 / 900의 값이 들어오면 그대로 900으로 넣고 / '-'이 들어오면 0원으로 변경\\ndef parse_int(price):\\n    #print(type(price))\\n    if isinstance(price,str) and price.replace(',','').isdigit():  #문자가 맞는지, 문자중에(,)을뺀 숫자로만 구성이 되어있는가 \\n        return int(price.replace(',',''))\\n    elif isinstance(price,int):\\n        return price\\n    else:\\n        return print(int(0))\",\n",
       "  'parse_int(-)',\n",
       "  \"# '14,000'의 값을 '14000'으로 변환 / 900의 값이 들어오면 그대로 900으로 넣고 / '-'이 들어오면 0원으로 변경\\ndef parse_int(price):\\n    #print(type(price))\\n    if isinstance(price,str) and price.replace(',','').isdigit():  #문자가 맞는지, 문자중에(,)을뺀 숫자로만 구성이 되어있는가 \\n        return int(price.replace(',',''))\\n    elif isinstance(price,int):\\n        return price\",\n",
       "  \"parse_int('-')\",\n",
       "  'parse_int(\"8,000\"), parse_int(\"88000\"),parse_int(200),parse_int(\"-\"),   ',\n",
       "  \"# '14,000'의 값을 '14000'으로 변환 / 900의 값이 들어오면 그대로 900으로 넣고 / '-'이 들어오면 0원으로 변경\\ndef parse_int(price):\\n    #print(type(price))\\n    if isinstance(price,str) and price.replace(',','').isdigit():  #문자가 맞는지, 문자중에(,)을뺀 숫자로만 구성이 되어있는가 \\n        return int(price.replace(',',''))\\n    elif isinstance(price,int):\\n        return price\\n    else:\\n        return 0\",\n",
       "  'parse_int(\"8,000\"), parse_int(\"88000\"),parse_int(200),parse_int(\"-\"),   ',\n",
       "  \"#{'no':6, 'title':'가격이 없음', 'writer': '이난중',} => return 0\\n#{'no':3, 'title':'흔한남매 19', 'writer': '백난도', 'price':'14,220'}, => 14220\\n#{'no':5, 'title':'가격이 숫자', 'writer': '최무식', 'price':900}, => 900\\n\\ndef parse_int(book):\\n    if isinstance(book.get('price'), str) and book.get.repalce(',','').isdigit():\\n        return int(book.get('price').replace(',','')):\\n    elif isinstance(book.get('price'), int):\\n        return book.get('price')\\n    else:\\n        return 0   \",\n",
       "  \"#{'no':6, 'title':'가격이 없음', 'writer': '이난중',} => return 0\\n#{'no':3, 'title':'흔한남매 19', 'writer': '백난도', 'price':'14,220'}, => 14220\\n#{'no':5, 'title':'가격이 숫자', 'writer': '최무식', 'price':900}, => 900\\n\\ndef parse_int(book):\\n    if isinstance(book.get('price'), str) and book.get('price').repalce(',','').isdigit():\\n        return int(book.get('price').replace(',','')):\\n    elif isinstance(book.get('price'), int):\\n        return book.get('price')\\n    else:\\n        return 0   \",\n",
       "  \"#{'no':6, 'title':'가격이 없음', 'writer': '이난중',} => return 0\\n#{'no':3, 'title':'흔한남매 19', 'writer': '백난도', 'price':'14,220'}, => 14220\\n#{'no':5, 'title':'가격이 숫자', 'writer': '최무식', 'price':900}, => 900\\n\\ndef parse_int(book):\\n    if isinstance(book.get('price'), str) and book.get('price').repalce(',','').isdigit():\\n        return int(book.get('price').replace(',','') ):\\n    elif isinstance(book.get('price'), int):\\n        return book.get('price')\\n    else:\\n        return 0   \",\n",
       "  \"#{'no':6, 'title':'가격이 없음', 'writer': '이난중',} => return 0\\n#{'no':3, 'title':'흔한남매 19', 'writer': '백난도', 'price':'14,220'}, => 14220\\n#{'no':5, 'title':'가격이 숫자', 'writer': '최무식', 'price':900}, => 900\\n\\ndef parse_int(book):\\n    if isinstance(book.get('price'), str) and book.get('price').repalce(',','').isdigit():\\n        return int(book.get('price').replace(',','')):\\n    elif isinstance(book.get('price'), int):\\n        return book.get('price')\\n    else:\\n        return 0   \",\n",
       "  \"#{'no':6, 'title':'가격이 없음', 'writer': '이난중',} => return 0\\n#{'no':3, 'title':'흔한남매 19', 'writer': '백난도', 'price':'14,220'}, => 14220\\n#{'no':5, 'title':'가격이 숫자', 'writer': '최무식', 'price':900}, => 900\\n\\ndef parse_int(book):\\n    if isinstance(book.get('price'), str) and book.get('price').repalce(',','').isdigit():\\n        return int( book.get('price').replace(',','')):\\n    elif isinstance(book.get('price'), int):\\n        return book.get('price')\\n    else:\\n        return 0   \",\n",
       "  \"#{'no':6, 'title':'가격이 없음', 'writer': '이난중',} => return 0\\n#{'no':3, 'title':'흔한남매 19', 'writer': '백난도', 'price':'14,220'}, => 14220\\n#{'no':5, 'title':'가격이 숫자', 'writer': '최무식', 'price':900}, => 900\\n\\ndef parse_int(book):\\n    if isinstance(book.get('price'), str) and book.get('price').repalce(',','').isdigit():\\n        return int(book.get('price').replace(',','')):\\n    elif isinstance(book.get('price'), int):\\n        return book.get('price')\\n    else:\\n        return 0   \",\n",
       "  \"#{'no':6, 'title':'가격이 없음', 'writer': '이난중',} => return 0\\n#{'no':3, 'title':'흔한남매 19', 'writer': '백난도', 'price':'14,220'}, => 14220\\n#{'no':5, 'title':'가격이 숫자', 'writer': '최무식', 'price':900}, => 900\\n\\ndef parse_int(book):\\n    if isinstance(book.get('price'), str) and \\\\\\n                  book.get('price').repalce(',','').isdigit():\\n        return int(book.get('price').replace(',','')):\\n    elif isinstance(book.get('price'), int):\\n        return book.get('price')\\n    else:\\n        return 0   \",\n",
       "  \"#{'no':6, 'title':'가격이 없음', 'writer': '이난중',} => return 0\\n#{'no':3, 'title':'흔한남매 19', 'writer': '백난도', 'price':'14,220'}, => 14220\\n#{'no':5, 'title':'가격이 숫자', 'writer': '최무식', 'price':900}, => 900\\n\\ndef parse_int(book):\\n    if isinstance(book.get('price'), str) and \\\\\\n                  book.get('price').replace(',','').isdigit():\\n        return int(book.get('price').replace(',','')):\\n    elif isinstance(book.get('price'), int):\\n        return book.get('price')\\n    else:\\n        return 0   \",\n",
       "  \"#{'no':6, 'title':'가격이 없음', 'writer': '이난중',} => return 0\\n#{'no':3, 'title':'흔한남매 19', 'writer': '백난도', 'price':'14,220'}, => 14220\\n#{'no':5, 'title':'가격이 숫자', 'writer': '최무식', 'price':900}, => 900\\n\\ndef parse_int(book):\\n    if isinstance(book.get('price'), str) and \\\\\\n                  book.get('price').replace(',','').isdigit():\\n        return int(book.get('price').replace(',','')):\\n    elif isinstance(book.get('price'), int):\\n        return book.get('price')\\n    else:\\n        return 0   \",\n",
       "  \"#{'no':6, 'title':'가격이 없음', 'writer': '이난중',} => return 0\\n#{'no':3, 'title':'흔한남매 19', 'writer': '백난도', 'price':'14,220'}, => 14220\\n#{'no':5, 'title':'가격이 숫자', 'writer': '최무식', 'price':900}, => 900\\n\\ndef parse_int(book):\\n    if isinstance(book.get('price'), str) and \\\\\\n                  book.get('price').replace(',','').isdigit():\\n        return int(book.get('price').replace(',',''):\\n    elif isinstance(book.get('price'), int):\\n        return book.get('price')\\n    else:\\n        return 0   \",\n",
       "  \"#{'no':6, 'title':'가격이 없음', 'writer': '이난중',} => return 0\\n#{'no':3, 'title':'흔한남매 19', 'writer': '백난도', 'price':'14,220'}, => 14220\\n#{'no':5, 'title':'가격이 숫자', 'writer': '최무식', 'price':900}, => 900\\n\\ndef parse_int(book):\\n    if isinstance(book.get('price'), str) and \\\\\\n                  book.get('price').replace(',','').isdigit():\\n        return int(book.get('price').replace(',','')):\\n    elif isinstance(book.get('price'), int):\\n        return book.get('price')\\n    else:\\n        return 0   \",\n",
       "  \"#{'no':6, 'title':'가격이 없음', 'writer': '이난중',} => return 0\\n#{'no':3, 'title':'흔한남매 19', 'writer': '백난도', 'price':'14,220'}, => 14220\\n#{'no':5, 'title':'가격이 숫자', 'writer': '최무식', 'price':900}, => 900\\n\\ndef parse_int(book):\\n    if isinstance(book.get('price'), str) and \\\\\\n                  book.get('price').replace(',','').isdigit():\\n        return int(book.get('price').replace(',',''))\\n    elif isinstance(book.get('price'), int):\\n        return book.get('price')\\n    else:\\n        return 0   \",\n",
       "  'parse_int(books[0])',\n",
       "  'parse_int(books[0]), parse_int(books[1]), parse_int(books[2])',\n",
       "  \"# 책 제목순 정렬(ㄱ,ㄴ,ㄷ순), 저자순 정렬(ㄱ,ㄴ,ㄷ), 가격순 오름차순 정렬\\n# 결측치 = 0원\\n\\nbooks = [\\n    {'no':1, 'title':'강남 아파트 인사이트', 'writer': '오스틀', 'price':'25,200'},\\n    {'no':2, 'title':'단 한번의 삶', 'writer': '김영하', 'price':'15,120'},\\n    {'no':3, 'title':'흔한남매 19', 'writer': '백난도', 'price':'14,220'},\\n    {'no':4, 'title':'가격이 잘못', 'writer': '홍길동', 'price':'-'},\\n    {'no':5, 'title':'가격이 숫자', 'writer': '최무식', 'price':900},\\n    {'no':6, 'title':'가격이 없음', 'writer': '이난중',}\\n]\",\n",
       "  'parse_int(books[0]), parse_int(books[1]), parse_int(books[2])',\n",
       "  'copy_books',\n",
       "  \"books = [\\n    {'no':1, 'title':'강남 아파트 인사이트', 'writer': '오스틀', 'price':'25,200'},\\n    {'no':2, 'title':'단 한번의 삶', 'writer': '김영하', 'price':'15,120'},\\n    {'no':3, 'title':'흔한남매 19', 'writer': '백난도', 'price':'14,220'},\\n    {'no':4, 'title':'가격이 잘못', 'writer': '홍길동', 'price':'-'},\\n    {'no':5, 'title':'가격이 숫자', 'writer': '최무식', 'price':900},\\n    {'no':6, 'title':'가격이 없음', 'writer': '이난중',}\\n]\\n\\ncopy_books = books.copy()\",\n",
       "  \"copy_books.sort(key = lambda book : \\n                int(book.get('price').replace(',','')) \\\\    \\n                    if isinstance(book.get('price'), str) and \\\\      #조건\\n                      book.get('price').replace(',','').isdigit() else\\\\\\n                book.get('price') \\\\\\n                if isinstance(book.get('price'), int) else \\\\\\n                0 \\n              \\n               )\",\n",
       "  'copy_books',\n",
       "  \"copy_books.sort(key = lambda book : \\n                int(book.get('price').replace(',','')) \\\\    \\n                    if isinstance(book.get('price'), str) and \\\\      #조건\\n                      book.get('price').replace(',','').isdigit() else\\\\\\n                    book.get('price') \\\\\\n                if isinstance(book.get('price'), int) else \\\\\\n                0 \\n              \\n               )\",\n",
       "  \"copy_books.sort(key = lambda book : \\n                int(book.get('price').replace(',','')) \\\\    \\n                    if isinstance(book.get('price'), str) and \\\\      #조건\\n                      book.get('price').replace(',','').isdigit() else\\\\\\n                book.get('price') if isinstance(book.get('price'), int) else \\\\\\n                0 \\n              \\n               )\",\n",
       "  'copy_books',\n",
       "  \"copy_books.sort(key = lambda book : \\n                int(book.get('price').replace(',',''))  \\n                    if isinstance(book.get('price'), str) and \\\\      #조건\\n                      book.get('price').replace(',','').isdigit() else\\\\\\n                book.get('price') if isinstance(book.get('price'), int) else \\\\\\n                0 \\n              \\n               )\",\n",
       "  \"copy_books.sort(key = lambda book : \\n                int(book.get('price').replace(',',''))  \\n                    if isinstance(book.get('price'), str) and\\n                      book.get('price').replace(',','').isdigit() else\\\\\\n                book.get('price') if isinstance(book.get('price'), int) else \\\\\\n                0 \\n              \\n               )\",\n",
       "  \"copy_books.sort(key = lambda book : \\n                int(book.get('price').replace(',','')) \\\\ \\n                    if isinstance(book.get('price'), str) and \\\\\\n                      book.get('price').replace(',','').isdigit() else\\\\\\n                book.get('price') if isinstance(book.get('price'), int) else \\\\\\n                0 \\n              \\n               )\",\n",
       "  'copy_books',\n",
       "  \"copy_books.sort(key = lambda book : \\n                int(book.get('price').replace(',','')) \\\\\\n                    if isinstance(book.get('price'), str) and \\\\\\n                        book.get('price').replace(',','').isdigit() else\\\\\\n                book.get('price') if isinstance(book.get('price'), int) else \\\\\\n                0 \\n              \\n               )\",\n",
       "  'copy_books',\n",
       "  'books',\n",
       "  '# 함수를 return\\ndef make_box(shape) : # shape : [l(길이)], 2차원 [r,c] 3차원 [d,r,c] d,r(가로),c(세로)\\n    # shape : [l] =>가 l인 list를 생성하는 함수 return \\n                                    #[r,c] => r행 c열인 list를 생성하는 함수 return\\n                                    #[d,r,c] => d면 r행 c열 3차원 list를 생성하는 함수 \\n    \\n\\n    def box(init_value):\\n        if len(shape)==1:\\n            return [init_value]*shape[0]    #1차원 리스트\\n        elif len(shape)==2:\\n            return [ [init_value]*shape[1] ] * shape[0]  #2차원 리스트\\n    return box',\n",
       "  'box',\n",
       "  'line_func = make_box([2,3])',\n",
       "  'line_func = make_box([2,3])\\nline_func()',\n",
       "  'line_func = make_box([2,3])\\nline_func(3)',\n",
       "  'line_func = make_box([2,3])\\nline_func(1,3)',\n",
       "  'line_func = make_box([2,3])\\nline_func(1)',\n",
       "  'line_func = make_box([2,3])\\nline_func(3)',\n",
       "  'line_func1 = make_box([10])\\nline_func1(3)',\n",
       "  'def make_box(shape):\\n    if len(shape)==1:\\n        return lambda init_value : [init_value]*shape[0]\\n    elif len(shape)==2:\\n        return lambda init_value : [[init_value]*shape[1]]*shape[0]',\n",
       "  'globals()'],\n",
       " 'Out': {7: [2, 2, 2, 2, 2, 2, 2, 2, 2, 2],\n",
       "  9: [2, 2, 2, 2, 2, 2, 2, 2, 2, 2],\n",
       "  11: [2, 2, 2, 2, 2, 2, 2, 2, 2, 2],\n",
       "  13: [2, 2, 2, 2, 2, 2, 2, 2, 2, 2],\n",
       "  16: [2, 2, 2, 2, 2, 2, 2, 2, 2, 2],\n",
       "  18: [4, 4, 4, 4, 4, 4, 4, 4, 4, 4],\n",
       "  20: [2, 2, 2, 2, 2, 2, 2, 2, 2, 2],\n",
       "  24: [2, 2, 2, 2, 2, 2, 2, 2, 2, 2],\n",
       "  26: [2, 4, 6, 8, 10, 12, 14, 16, 18, 20],\n",
       "  27: <map at 0x2147b4401c0>,\n",
       "  29: [2, 4, 6, 8, 10, 12, 14, 16, 18, 20],\n",
       "  30: <map at 0x2147b442e60>,\n",
       "  32: [2, 4, 6, 8, 10, 12, 14, 16, 18, 20],\n",
       "  70: [5000, 800, 1000, 6000],\n",
       "  72: '\\n예시 3. member2 를 member1로 바꿉니다.\\n\\n',\n",
       "  89: {'year': 2000, 'month': 1, 'day': 1},\n",
       "  97: [{'name': '홍길동', 'brith': '2000-01-01'},\n",
       "   {'name': '신길동', 'brith': '1998-12-31'}],\n",
       "  103: {'year': 2000, 'month': 1, 'day': 1},\n",
       "  123: {'name': '홍길동', 'year': 2000, 'month': 1, 'day': 1},\n",
       "  124: [{'name': '홍길동', 'year': 2000, 'month': 1, 'day': 1},\n",
       "   {'name': '신길동', 'year': 1998, 'month': 12, 'day': 31}],\n",
       "  126: \"\\n예시2. member1 = [{'name':'홍길동', 'birth':'2000-01-01'},\\n                {'name':'신길동', 'birth':'1998-12-31'}]\\n    member2 = [{'name':'홍길동', 'year':2000, 'month':1, 'day':1}],\\n                {'name':'신길동', 'year':1998, 'month':12, 'day':31}] \\n\",\n",
       "  128: {'year': 2000, 'month': 1, 'day': 1},\n",
       "  129: {'name': '홍길동', 'year': 2000, 'month': 1, 'day': 1},\n",
       "  130: [{'name': '홍길동', 'year': 2000, 'month': 1, 'day': 1},\n",
       "   {'name': '신길동', 'year': 1998, 'month': 12, 'day': 31}],\n",
       "  141: 'year-month-day',\n",
       "  143: 'year-month-day',\n",
       "  145: 'year-month-day',\n",
       "  151: 'year-month-day',\n",
       "  153: 'year-month-day',\n",
       "  154: 'year-month-day',\n",
       "  157: 'year-month-day',\n",
       "  159: 'year-month-day',\n",
       "  161: '2000-01-01',\n",
       "  162: '2000-18-01',\n",
       "  163: '2000-01-01',\n",
       "  167: '2000-01-01',\n",
       "  174: '2000-01-01',\n",
       "  178: '2000-01-01',\n",
       "  184: [{'name': '홍길동', 'birth': '2000-01-01'},\n",
       "   {'name': '신길동', 'birth': '1998-12-31'}],\n",
       "  187: (True, False),\n",
       "  189: (True, False),\n",
       "  190: [],\n",
       "  191: [],\n",
       "  193: (True, False),\n",
       "  194: [],\n",
       "  195: [],\n",
       "  196: [2, 4],\n",
       "  197: [],\n",
       "  198: [],\n",
       "  199: [],\n",
       "  200: [],\n",
       "  202: (True, False),\n",
       "  203: [2, 4],\n",
       "  204: [9, 7, 2],\n",
       "  205: [[1, 100], [9.9], [10, 1]],\n",
       "  206: [[10, 1], [9.9], [1, 100]],\n",
       "  207: [[1, 100], [9.9], [10, 1]],\n",
       "  208: [[10, 1], [9.9], [1, 100]],\n",
       "  209: [[10, 1], [9, 9, 9, 9, 9], [1, 100]],\n",
       "  211: [(1, 'one'), (2, 'two'), (3, 'three'), (4, 'four')],\n",
       "  212: [[10, 1], [9, 9, 9, 9, 9], [1, 100]],\n",
       "  214: [(1, 'one'), (2, 'two'), (3, 'three'), (4, 'four')],\n",
       "  216: [(4, 'four'), (1, 'one'), (3, 'three'), (2, 'two')],\n",
       "  217: [(4, 'four'), (1, 'one'), (3, 'three'), (2, 'two')],\n",
       "  218: [(4, 'four'), (1, 'one'), (3, 'three'), (2, 'two')],\n",
       "  222: [(4, 'four'), (1, 'one'), (3, 'three'), (2, 'two')],\n",
       "  223: [[1, 100], [9, 9, 9, 9, 9], [10, 1]],\n",
       "  224: [[1, 100], [9, 9, 9, 9, 9], [10, 1]],\n",
       "  225: 6,\n",
       "  227: [[1, 100], [9, 9, 9, 9, 9], [10, 1]],\n",
       "  228: 6,\n",
       "  233: [{'name': '홍길동', 'score': 90},\n",
       "   {'name': '김길동', 'score': 85},\n",
       "   {'name': '최길동', 'score': 62}],\n",
       "  235: [{'name': '홍길동', 'score': 90},\n",
       "   {'name': '김길동', 'score': 85},\n",
       "   {'name': '최길동', 'score': 62}],\n",
       "  236: [{'name': '홍길동', 'score': 90},\n",
       "   {'name': '김길동', 'score': 85},\n",
       "   {'name': '최길동', 'score': 62}],\n",
       "  240: [{'name': '최길동', 'score': 62},\n",
       "   {'name': '김길동', 'score': 85},\n",
       "   {'name': '홍길동', 'score': 90}],\n",
       "  242: [{'name': '최길동', 'score': 62},\n",
       "   {'name': '김길동', 'score': 85},\n",
       "   {'name': '홍길동', 'score': 90}],\n",
       "  243: [{'name': '최길동', 'score': 62},\n",
       "   {'name': '김길동', 'score': 85},\n",
       "   {'name': '홍길동', 'score': 90}],\n",
       "  244: [{'name': '최길동', 'score': 62},\n",
       "   {'name': '김길동', 'score': 85},\n",
       "   {'name': '홍길동', 'score': 90}],\n",
       "  245: [{'name': '최길동', 'score': 62},\n",
       "   {'name': '김길동', 'score': 85},\n",
       "   {'name': '홍길동', 'score': 90}],\n",
       "  247: [{'score': 99},\n",
       "   {'name': '홍길동', 'score': 90},\n",
       "   {'name': '김길동', 'score': 85},\n",
       "   {'name': '최길동', 'score': 62}],\n",
       "  249: [{'score': 99},\n",
       "   {'name': '홍길동', 'score': 90},\n",
       "   {'name': '김길동', 'score': 85},\n",
       "   {'name': '최길동', 'score': 62}],\n",
       "  251: [{'score': 99},\n",
       "   {'name': '홍길동', 'score': 90},\n",
       "   {'name': '김길동', 'score': 85},\n",
       "   {'name': '최길동', 'score': 62}],\n",
       "  252: [{'score': 99},\n",
       "   {'name': '홍길동', 'score': 90},\n",
       "   {'name': '김길동', 'score': 85},\n",
       "   {'name': '최길동', 'score': 62}],\n",
       "  253: [{'score': 99},\n",
       "   {'name': '홍길동', 'score': 90},\n",
       "   {'name': '김길동', 'score': 85},\n",
       "   {'name': '최길동', 'score': 62}],\n",
       "  254: [{'score': 99},\n",
       "   {'name': '홍길동', 'score': 90},\n",
       "   {'name': '김길동', 'score': 85},\n",
       "   {'name': '최길동', 'score': 62}],\n",
       "  255: [{'score': 99},\n",
       "   {'name': '홍길동', 'score': 90},\n",
       "   {'name': '김길동', 'score': 85},\n",
       "   {'name': '최길동', 'score': 62}],\n",
       "  256: [{'score': 99},\n",
       "   {'name': '홍길동', 'score': 90},\n",
       "   {'name': '김길동', 'score': 85},\n",
       "   {'name': '최길동', 'score': 62}],\n",
       "  257: [{'score': 99},\n",
       "   {'name': '홍길동', 'score': 90},\n",
       "   {'name': '김길동', 'score': 85},\n",
       "   {'name': '최길동', 'score': 62}],\n",
       "  261: [{'no': 3, 'title': '흔한남매 19', 'writer': '백난도', 'price': '14,220'},\n",
       "   {'no': 2, 'title': '단 한번의 삶', 'writer': '김영하', 'price': '15,120'},\n",
       "   {'no': 1, 'title': '강남 아파트 인사이트', 'writer': '오스틀', 'price': '25,200'},\n",
       "   {'no': 6, 'title': '가격이 없음', 'writer': '이난중'},\n",
       "   {'no': 5, 'title': '가격이 숫자', 'writer': '최무식', 'price': 900},\n",
       "   {'no': 4, 'title': '가격이 잘못', 'writer': '홍길동', 'price': '-'}],\n",
       "  262: [{'no': 3, 'title': '흔한남매 19', 'writer': '백난도', 'price': '14,220'},\n",
       "   {'no': 2, 'title': '단 한번의 삶', 'writer': '김영하', 'price': '15,120'},\n",
       "   {'no': 1, 'title': '강남 아파트 인사이트', 'writer': '오스틀', 'price': '25,200'},\n",
       "   {'no': 6, 'title': '가격이 없음', 'writer': '이난중'},\n",
       "   {'no': 5, 'title': '가격이 숫자', 'writer': '최무식', 'price': 900},\n",
       "   {'no': 4, 'title': '가격이 잘못', 'writer': '홍길동', 'price': '-'}],\n",
       "  270: -800,\n",
       "  271: 800,\n",
       "  272: 800,\n",
       "  275: 800,\n",
       "  277: 800,\n",
       "  278: 800,\n",
       "  279: 800000,\n",
       "  280: 800000,\n",
       "  281: 8000000,\n",
       "  282: 15754,\n",
       "  283: 0,\n",
       "  292: (8000, 88000, 200, None),\n",
       "  294: (8000, 88000, 200, 0),\n",
       "  307: 14220,\n",
       "  308: (14220, 15120, 25200),\n",
       "  310: (25200, 15120, 14220),\n",
       "  314: [{'no': 4, 'title': '가격이 잘못', 'writer': '홍길동', 'price': '-'},\n",
       "   {'no': 6, 'title': '가격이 없음', 'writer': '이난중'},\n",
       "   {'no': 5, 'title': '가격이 숫자', 'writer': '최무식', 'price': 900},\n",
       "   {'no': 3, 'title': '흔한남매 19', 'writer': '백난도', 'price': '14,220'},\n",
       "   {'no': 2, 'title': '단 한번의 삶', 'writer': '김영하', 'price': '15,120'},\n",
       "   {'no': 1, 'title': '강남 아파트 인사이트', 'writer': '오스틀', 'price': '25,200'}],\n",
       "  317: [{'no': 4, 'title': '가격이 잘못', 'writer': '홍길동', 'price': '-'},\n",
       "   {'no': 6, 'title': '가격이 없음', 'writer': '이난중'},\n",
       "   {'no': 5, 'title': '가격이 숫자', 'writer': '최무식', 'price': 900},\n",
       "   {'no': 3, 'title': '흔한남매 19', 'writer': '백난도', 'price': '14,220'},\n",
       "   {'no': 2, 'title': '단 한번의 삶', 'writer': '김영하', 'price': '15,120'},\n",
       "   {'no': 1, 'title': '강남 아파트 인사이트', 'writer': '오스틀', 'price': '25,200'}],\n",
       "  321: [{'no': 4, 'title': '가격이 잘못', 'writer': '홍길동', 'price': '-'},\n",
       "   {'no': 6, 'title': '가격이 없음', 'writer': '이난중'},\n",
       "   {'no': 5, 'title': '가격이 숫자', 'writer': '최무식', 'price': 900},\n",
       "   {'no': 3, 'title': '흔한남매 19', 'writer': '백난도', 'price': '14,220'},\n",
       "   {'no': 2, 'title': '단 한번의 삶', 'writer': '김영하', 'price': '15,120'},\n",
       "   {'no': 1, 'title': '강남 아파트 인사이트', 'writer': '오스틀', 'price': '25,200'}],\n",
       "  323: [{'no': 4, 'title': '가격이 잘못', 'writer': '홍길동', 'price': '-'},\n",
       "   {'no': 6, 'title': '가격이 없음', 'writer': '이난중'},\n",
       "   {'no': 5, 'title': '가격이 숫자', 'writer': '최무식', 'price': 900},\n",
       "   {'no': 3, 'title': '흔한남매 19', 'writer': '백난도', 'price': '14,220'},\n",
       "   {'no': 2, 'title': '단 한번의 삶', 'writer': '김영하', 'price': '15,120'},\n",
       "   {'no': 1, 'title': '강남 아파트 인사이트', 'writer': '오스틀', 'price': '25,200'}],\n",
       "  324: [{'no': 1, 'title': '강남 아파트 인사이트', 'writer': '오스틀', 'price': '25,200'},\n",
       "   {'no': 2, 'title': '단 한번의 삶', 'writer': '김영하', 'price': '15,120'},\n",
       "   {'no': 3, 'title': '흔한남매 19', 'writer': '백난도', 'price': '14,220'},\n",
       "   {'no': 4, 'title': '가격이 잘못', 'writer': '홍길동', 'price': '-'},\n",
       "   {'no': 5, 'title': '가격이 숫자', 'writer': '최무식', 'price': 900},\n",
       "   {'no': 6, 'title': '가격이 없음', 'writer': '이난중'}],\n",
       "  329: [[3, 3, 3], [3, 3, 3]],\n",
       "  331: [[1, 1, 1], [1, 1, 1]],\n",
       "  332: [[3, 3, 3], [3, 3, 3]],\n",
       "  333: [3, 3, 3, 3, 3, 3, 3, 3, 3, 3]},\n",
       " 'get_ipython': <bound method InteractiveShell.get_ipython of <ipykernel.zmqshell.ZMQInteractiveShell object at 0x0000021479203D60>>,\n",
       " 'exit': <IPython.core.autocall.ZMQExitAutocall at 0x2147920f5e0>,\n",
       " 'quit': <IPython.core.autocall.ZMQExitAutocall at 0x2147920f5e0>,\n",
       " 'open': <function io.open(file, mode='r', buffering=-1, encoding=None, errors=None, newline=None, closefd=True, opener=None)>,\n",
       " '_': [3, 3, 3, 3, 3, 3, 3, 3, 3, 3],\n",
       " '__': [[3, 3, 3], [3, 3, 3]],\n",
       " '___': [[1, 1, 1], [1, 1, 1]],\n",
       " '_i': 'def make_box(shape):\\n    if len(shape)==1:\\n        return lambda init_value : [init_value]*shape[0]\\n    elif len(shape)==2:\\n        return lambda init_value : [[init_value]*shape[1]]*shape[0]',\n",
       " '_ii': 'line_func1 = make_box([10])\\nline_func1(3)',\n",
       " '_iii': 'line_func = make_box([2,3])\\nline_func(3)',\n",
       " '_i1': 'from IPython.display import display, HTML \\ndisplay(HTML(\"\"\"\\n<style>\\ndiv.container{width:86% !important;}\\ndiv.cell.code_cell.rendered{width:100%;}\\ndiv.CodeMirror {font-family:Consolas; font-size:15pt;}\\ndiv.output {font-size:15pt; font-weight:bold;}\\ndiv.input {font-family:Consolas; font-size:15pt;}\\ndiv.prompt {min-width:70px;}\\ndiv#toc-wrapper{padding-top:120px;}\\ndiv.text_cell_render ul li{font-size:12pt;padding:5px;}\\ntable.dataframe{font-size:15px;}\\n</style>\\n \"\"\"))',\n",
       " 'display': <function IPython.core.display_functions.display(*objs, include=None, exclude=None, metadata=None, transient=None, display_id=None, raw=False, clear=False, **kwargs)>,\n",
       " 'HTML': IPython.core.display.HTML,\n",
       " '_i2': 'from IPython.display import display, HTML \\ndisplay(HTML(\"\"\"\\n<style>\\ndiv.container{width:86% !important;}\\ndiv.cell.code_cell.rendered{width:100%;}\\ndiv.CodeMirror {font-family:Consolas; font-size:15pt;}\\ndiv.output {font-size:15pt; font-weight:bold;}\\ndiv.input {font-family:Consolas; font-size:15pt;}\\ndiv.prompt {min-width:70px;}\\ndiv#toc-wrapper{padding-top:120px;}\\ndiv.text_cell_render ul li{font-size:12pt;padding:5px;}\\ntable.dataframe{font-size:15px;}\\n</style>\\n \"\"\"))',\n",
       " '_i3': 'list_data = [1, 2, 3, 4, 5, 6, 7, 8, 9, 10]\\ndef x_2(x):\\n    return x*2\\nmap_templatd(x2, list_data)',\n",
       " 'list_data': [1, 2, 3, 4, 5],\n",
       " 'x_2': <function __main__.x_2(x)>,\n",
       " '_i4': \"def map_tamplate(func, L=[]):\\n    '''\\n    L의 모든 요소를 func()함수를 적용시켜 reteurn\\n    [2, 4, 6] [func(1) for l in L]\\n    '''\\n    result = []\\n    for l in L:\\n        result.append(func(1))\\n    return result \\n#    return [func(1) for l in L]\",\n",
       " 'map_tamplate': <function __main__.map_tamplate(func, L=[])>,\n",
       " '_i5': 'list_data = [1, 2, 3, 4, 5, 6, 7, 8, 9, 10]\\ndef x_2(x):\\n    return x*2\\nmap_templatd(x2, list_data)',\n",
       " '_i6': 'list_data = [1, 2, 3, 4, 5, 6, 7, 8, 9, 10]\\ndef x_2(x):\\n    return x*2\\nmap_tamplate(x2, list_data)',\n",
       " '_i7': 'list_data = [1, 2, 3, 4, 5, 6, 7, 8, 9, 10]\\ndef x_2(x):\\n    return x*2\\nmap_tamplate(x_2, list_data)',\n",
       " '_7': [2, 2, 2, 2, 2, 2, 2, 2, 2, 2],\n",
       " '_i8': \"    '''\\n    L의 모든 요소를 func()함수를 적용시켜 reteurn\\n    [2, 4, 6] [func(1) for l in L]\\n    '''\\ndef map_template(func, L=[]):\\n    result = []\\n    for l in L:\\n        result.append(func(l))  # ← 이제 각 요소에 함수 적용!\\n    return result\\n#    return [func(1) for l in L]\",\n",
       " '_i9': 'list_data = [1, 2, 3, 4, 5, 6, 7, 8, 9, 10]\\ndef x_2(x):\\n    return x*2\\nmap_tamplate(x_2, list_data)',\n",
       " '_9': [2, 2, 2, 2, 2, 2, 2, 2, 2, 2],\n",
       " '_i10': \"    '''\\n    L의 모든 요소를 func()함수를 적용시켜 reteurn\\n    [2, 4, 6] [func(1) for l in L]\\n    '''\\ndef map_template(func, L=[]):\\n    result = []\\n        for l in L:\\n            result.append(func(l))  # ← 이제 각 요소에 함수 적용!\\n        return result\\n#    return [func(1) for l in L]\",\n",
       " '_i11': 'list_data = [1, 2, 3, 4, 5, 6, 7, 8, 9, 10]\\ndef x_2(x):\\n    return x*2\\nmap_tamplate(x_2, list_data)',\n",
       " '_11': [2, 2, 2, 2, 2, 2, 2, 2, 2, 2],\n",
       " '_i12': \"def map_tamplate(func, L=[]):\\n    '''\\n    L의 모든 요소를 func()함수를 적용시켜 reteurn\\n    [2, 4, 6] [func(1) for l in L]\\n    '''\\n    result = []\\n    for l in L:\\n        result.append(func(1))\\n    return result \\n#    return [func(1) for l in L]\",\n",
       " '_i13': 'list_data = [1, 2, 3, 4, 5, 6, 7, 8, 9, 10]\\ndef x_2(x):\\n    return x*2\\nmap_tamplate(x_2, list_data)',\n",
       " '_13': [2, 2, 2, 2, 2, 2, 2, 2, 2, 2],\n",
       " '_i14': \"def map_tamplate(func, L=[]):\\n    '''\\n    L의 모든 요소를 func()함수를 적용시켜 reteurn\\n    [2, 4, 6] [func(1) for l in L]\\n    '''\\n    result = []\\n    for l in L:\\n        result.append(func(1))\\n    return result \\n#    return [func(1) for l in L]\",\n",
       " '_i15': 'list_data = [1, 2, 3, 4, 5, 6, 7, 8, 9, 10]\\nmap_template(lambda x : x*2, list_data)',\n",
       " '_i16': 'list_data = [1, 2, 3, 4, 5, 6, 7, 8, 9, 10]\\nmap_tamplate(lambda x : x*2, list_data)',\n",
       " '_16': [2, 2, 2, 2, 2, 2, 2, 2, 2, 2],\n",
       " '_i17': \"def map_tamplate(func, L=[]):\\n    '''\\n    L의 모든 요소를 func()함수를 적용시켜 reteurn\\n    [2, 4, 6] [func(1) for l in L]\\n    '''\\n    result = []\\n    for l in L:\\n        result.append(func(2))\\n    return result \\n#    return [func(1) for l in L]\",\n",
       " '_i18': 'list_data = [1, 2, 3, 4, 5, 6, 7, 8, 9, 10]\\nmap_tamplate(lambda x : x*2, list_data)',\n",
       " '_18': [4, 4, 4, 4, 4, 4, 4, 4, 4, 4],\n",
       " '_i19': \"def map_tamplate(func, L=[]):\\n    '''\\n    L의 모든 요소를 func()함수를 적용시켜 reteurn\\n    [2, 4, 6] [func(1) for l in L]\\n    '''\\n    result = []\\n    for l in L:\\n        result.append(func(1))\\n    return result \\n#    return [func(1) for l in L]\",\n",
       " '_i20': 'list_data = [1, 2, 3, 4, 5, 6, 7, 8, 9, 10]\\nmap_tamplate(lambda x : x*2, list_data)',\n",
       " '_20': [2, 2, 2, 2, 2, 2, 2, 2, 2, 2],\n",
       " '_i21': \"def map_tamplate(func, L=[]):\\n    '''\\n    L의 모든 요소를 func()함수를 적용시켜 reteurn\\n    [2, 4, 6] [func(1) for l in L]\\n    '''\\n    result = []\\n    for l in L:\\n        result.append(func(x))\\n    return result \\n#    return [func(1) for l in L]\",\n",
       " '_i22': '#리스트 데이터를 가공하는 방법\\nlist_data = [1, 2, 3, 4, 5, 6, 7, 8, 9, 10]\\nmap_tamplate(lambda x : x*2, list_data)',\n",
       " '_i23': \"def map_tamplate(func, L=[]):\\n    '''\\n    L의 모든 요소를 func()함수를 적용시켜 reteurn\\n    [2, 4, 6] [func(1) for l in L]\\n    '''\\n    result = []\\n    for l in L:\\n        result.append(func(1))\\n    return result \\n#    return [func(1) for l in L]\",\n",
       " '_i24': '#리스트 데이터를 가공하는 방법\\nlist_data = [1, 2, 3, 4, 5, 6, 7, 8, 9, 10]\\nmap_tamplate(lambda x : x*2, list_data)',\n",
       " '_24': [2, 2, 2, 2, 2, 2, 2, 2, 2, 2],\n",
       " '_i25': \"# 리스트 데이터를 가공 방법 1.map\\ndef map_tamplate(func, L=[]):\\n    '''\\n    L의 모든 요소를 func()함수를 적용시켜 reteurn\\n    [2, 4, 6] [func(1) for l in L]\\n    '''\\n    result = []\\n    for l in L:\\n        result.append(func(l))\\n    return result \\n#    return [func(1) for l in L]\",\n",
       " '_i26': '#리스트 데이터를 가공하는 방법 2.리스트 컴프리헨션\\nlist_data = [1, 2, 3, 4, 5, 6, 7, 8, 9, 10]\\nmap_tamplate(lambda x : x*2, list_data)',\n",
       " '_26': [2, 4, 6, 8, 10, 12, 14, 16, 18, 20],\n",
       " '_i27': '# 리스트 데이터를 가공 방법 3.map():파이썬 내장함수\\nmap(lambda x : x2,list_data)',\n",
       " '_27': <map at 0x2147b4401c0>,\n",
       " '_i28': '# 리스트 데이터를 가공 방법 3.map():파이썬 내장함수\\nlist(map(lambda x : x2,list_data))',\n",
       " '_i29': '# 리스트 데이터를 가공 방법 3.map():파이썬 내장함수\\nlist(map(lambda x : x*2,list_data))',\n",
       " '_29': [2, 4, 6, 8, 10, 12, 14, 16, 18, 20],\n",
       " '_i30': '# 리스트 데이터를 가공 방법 3.map():파이썬 내장함수\\nmap(lambda x : x*2,list_data)',\n",
       " '_30': <map at 0x2147b442e60>,\n",
       " '_i31': 'for item in map(lambda x : x*2, list_data):\\n    print(item, end=\" \")',\n",
       " 'item': 20,\n",
       " '_i32': 'for item in map(lambda x : x*2, list_data):\\n    print(item, end=\" \")\\nlist(map(lambda x : x*2,list_data))',\n",
       " '_32': [2, 4, 6, 8, 10, 12, 14, 16, 18, 20],\n",
       " '_i33': \"'''\\n예시 1. prices = [5000,800,1000,6000]로 변경 \\n'''\\n\\nprices = ['5,000', '800', '1000','6,000']\\nprint(prices.spled)\",\n",
       " 'prices': ['5,000', '800', '1000', '6,000'],\n",
       " '_i34': \"'''\\n예시 1. prices = [5000,800,1000,6000]로 변경 \\n'''\\n\\nprices = ['5,000', '800', '1000','6,000']\\nprint(prices.split())\",\n",
       " '_i35': \"'''\\n예시 1. prices = [5000,800,1000,6000]로 변경 \\n'''\\n\\nprices = ['5,000', '800', '1000','6,000']\\nprint(prices.split())\",\n",
       " '_i36': \"'''\\n예시 1. prices = [5000,800,1000,6000]로 변경 \\n'''\\n\\nprices = ['5,000', '800', '1000','6,000']\",\n",
       " '_i37': \"'''\\n예시 1. prices = [5000,800,1000,6000]로 변경 \\n'''\\n\\nprices = ['5,000', '800', '1000','6,000']\\nint(prices)\",\n",
       " '_i38': \"'''\\n예시 1. prices = [5000,800,1000,6000]로 변경 \\n'''\\n\\nprices = ['5,000', '800', '1000','6,000']\\nprint(int(prices))\",\n",
       " '_i39': \"'''\\n예시 1. prices = [5000,800,1000,6000]로 변경 \\n'''\\n\\nprices = ['5,000', '800', '1000','6,000']\",\n",
       " '_i40': \"'''\\n예시 1. prices = [5000,800,1000,6000]로 변경 \\n'''\\n\\nprices = ['5,000', '800', '1000','6,000']\\n\\ntmep = (int(prices.replace(',','')) for price in price_list)\\nconverted = [int(price.replace(',', '')) for price in price_list]\\n\\nprint(converted)  # [5000, 3000, 200]\",\n",
       " '_i41': \"'''\\n예시 1. prices = [5000,800,1000,6000]로 변경 \\n'''\\n\\nprices = ['5,000', '800', '1000','6,000']\\n\\ntemp = (int(prices.replace(',','')) for price in price_list)\\nprint(temp)\",\n",
       " '_i42': \"'''\\n예시 1. prices = [5000,800,1000,6000]로 변경 \\n'''\\n\\nprices = ['5,000', '800', '1000','6,000']\\n\\ntemp = [int(prices.replace(',','')) for price in price_list]\\nprint(temp)\",\n",
       " '_i43': \"'''\\n예시 1. prices = [5000,800,1000,6000]로 변경 \\n'''\\n\\nprices = ['5,000', '800', '1000','6,000']\\n\\ntemp = [int(prices.replace(',','')) for price in price]\\nprint(temp)\",\n",
       " '_i44': \"'''\\n예시 1. prices = [5000,800,1000,6000]로 변경 \\n'''\\n\\nprices = ['5,000', '800', '1000','6,000']\\n\\ntemp = [int(prices.replace(',','')) for price in prices]\\nprint(temp)\",\n",
       " '_i45': \"'''\\n예시 1. prices = [5000,800,1000,6000]로 변경 \\n'''\\n\\nprices = ['5,000', '800', '1000','6,000']\\n\\ntemp = [int(prices.replace(',','')) for prices in prices]\\nprint(temp)\",\n",
       " 'temp': [5000, 800, 1000, 6000],\n",
       " '_i46': \"'''\\n예시2. member1 = [{'name':'홍길동', 'brith':'2000-01-01'},\\n                {'name':'신길동', 'brith':'1998-12-31'}]\\n    member2 = [{'name':'홍길동', 'year':2000, 'month':1, 'day':1}],\\n                {'name':'신길동', 'year':1998, 'month':12, 'day':31] \\n'''\\n#년, 월, 일 분리 필요\\n# year추가 , month 추가, day 추가 \\nmember1 = [{'name':'홍길동', 'brith':'2000-01-01'},\\n                {'name':'신길동', 'brith':'1998-12-31'}]\\nmember2 = [{'name':'홍길동', 'year':2000, 'month':1, 'day':1}],\\n                {'name':'신길동', 'year':1998, 'month':12, 'day':31] \\nmember1[brith]=200\",\n",
       " '_i47': \"'''\\n예시2. member1 = [{'name':'홍길동', 'brith':'2000-01-01'},\\n                {'name':'신길동', 'brith':'1998-12-31'}]\\n    member2 = [{'name':'홍길동', 'year':2000, 'month':1, 'day':1}],\\n                {'name':'신길동', 'year':1998, 'month':12, 'day':31}] \\n'''\\n#년, 월, 일 분리 필요\\n# year추가 , month 추가, day 추가 \\nmember1 = [{'name':'홍길동', 'brith':'2000-01-01'},\\n                {'name':'신길동', 'brith':'1998-12-31'}]\\n\\nmember1[brith]=200\",\n",
       " 'member1': [{'name': '홍길동', 'birth': '2000-01-01'},\n",
       "  {'name': '신길동', 'birth': '1998-12-31'}],\n",
       " '_i48': \"'''\\n예시2. member1 = [{'name':'홍길동', 'brith':'2000-01-01'},\\n                {'name':'신길동', 'brith':'1998-12-31'}]\\n    member2 = [{'name':'홍길동', 'year':2000, 'month':1, 'day':1}],\\n                {'name':'신길동', 'year':1998, 'month':12, 'day':31}] \\n'''\\n#년, 월, 일 분리 필요\\n# year추가 , month 추가, day 추가 \\nmember1 = [{'name':'홍길동', 'brith':'2000-01-01'},\\n                {'name':'신길동', 'brith':'1998-12-31'}]\\n\\nmember1['brith']=2000\",\n",
       " '_i49': \"'''\\n예시2. member1 = [{'name':'홍길동', 'brith':'2000-01-01'},\\n                {'name':'신길동', 'brith':'1998-12-31'}]\\n    member2 = [{'name':'홍길동', 'year':2000, 'month':1, 'day':1}],\\n                {'name':'신길동', 'year':1998, 'month':12, 'day':31}] \\n'''\\n#년, 월, 일 분리 필요\\n# year추가 , month 추가, day 추가 \\nmember1 = [{'name':'홍길동', 'brith':'2000-01-01'},\\n                {'name':'신길동', 'brith':'1998-12-31'}]\\n\\nmember1['brith']=srt(2000)\",\n",
       " '_i50': \"'''\\n예시2. member1 = [{'name':'홍길동', 'brith':'2000-01-01'},\\n                {'name':'신길동', 'brith':'1998-12-31'}]\\n    member2 = [{'name':'홍길동', 'year':2000, 'month':1, 'day':1}],\\n                {'name':'신길동', 'year':1998, 'month':12, 'day':31}] \\n'''\\n#년, 월, 일 분리 필요\\n# year추가 , month 추가, day 추가 \\nmember1 = [{'name':'홍길동', 'brith':'2000-01-01'},\\n                {'name':'신길동', 'brith':'1998-12-31'}]\\n\\nmember1['brith']=str(2000)\",\n",
       " '_i51': \"'''\\n예시2. member1 = [{'name':'홍길동', 'brith':'2000-01-01'},\\n                {'name':'신길동', 'brith':'1998-12-31'}]\\n    member2 = [{'name':'홍길동', 'year':2000, 'month':1, 'day':1}],\\n                {'name':'신길동', 'year':1998, 'month':12, 'day':31}] \\n'''\\n#년, 월, 일 분리 필요\\n# year추가 , month 추가, day 추가 \\nmember1 = [{'name':'홍길동', 'brith':'2000-01-01'},\\n                {'name':'신길동', 'brith':'1998-12-31'}]\\n\\nmember1['brith'] = 'str(2000)''\",\n",
       " '_i52': \"'''\\n예시2. member1 = [{'name':'홍길동', 'brith':'2000-01-01'},\\n                {'name':'신길동', 'brith':'1998-12-31'}]\\n    member2 = [{'name':'홍길동', 'year':2000, 'month':1, 'day':1}],\\n                {'name':'신길동', 'year':1998, 'month':12, 'day':31}] \\n'''\\n#년, 월, 일 분리 필요\\n# year추가 , month 추가, day 추가 \\nmember1 = [{'name':'홍길동', 'brith':'2000-01-01'},\\n                {'name':'신길동', 'brith':'1998-12-31'}]\\n\\nmember1['brith'] = 'str(2000)'\",\n",
       " '_i53': \"'''\\n예시2. member1 = [{'name':'홍길동', 'brith':'2000-01-01'},\\n                {'name':'신길동', 'brith':'1998-12-31'}]\\n    member2 = [{'name':'홍길동', 'year':2000, 'month':1, 'day':1}],\\n                {'name':'신길동', 'year':1998, 'month':12, 'day':31}] \\n'''\\n#년, 월, 일 분리 필요\\n# year추가 , month 추가, day 추가 \\nmember1 = [{'name':'홍길동', 'brith':'2000-01-01'},\\n                {'name':'신길동', 'brith':'1998-12-31'}]\\n\\nmember1['brith'] = str('2000')\",\n",
       " '_i54': \"'''\\n예시2. member1 = [{'name':'홍길동', 'brith':'2000-01-01'},\\n                {'name':'신길동', 'brith':'1998-12-31'}]\\n    member2 = [{'name':'홍길동', 'year':2000, 'month':1, 'day':1}],\\n                {'name':'신길동', 'year':1998, 'month':12, 'day':31}] \\n'''\\n#년, 월, 일 분리 필요\\n# year추가 , month 추가, day 추가 \\nmember1 = [{'name':'홍길동', 'brith':'2000-01-01'},\\n                {'name':'신길동', 'brith':'1998-12-31'}]\\n\\nmember1['brith'] = int('2000')\",\n",
       " '_i55': \"'''\\n예시2. member1 = [{'name':'홍길동', 'brith':'2000-01-01'},\\n                {'name':'신길동', 'brith':'1998-12-31'}]\\n    member2 = [{'name':'홍길동', 'year':2000, 'month':1, 'day':1}],\\n                {'name':'신길동', 'year':1998, 'month':12, 'day':31}] \\n'''\\n#년, 월, 일 분리 필요\\n# year추가 , month 추가, day 추가 \\nmember1 = [{'name':'홍길동', 'brith':'2000-01-01'},\\n                {'name':'신길동', 'brith':'1998-12-31'}]\\n\\nmember1['brith'] = int(2000)\",\n",
       " '_i56': \"'''\\n예시2. member1 = [{'name':'홍길동', 'brith':'2000-01-01'},\\n                {'name':'신길동', 'brith':'1998-12-31'}]\\n    member2 = [{'name':'홍길동', 'year':2000, 'month':1, 'day':1}],\\n                {'name':'신길동', 'year':1998, 'month':12, 'day':31}] \\n'''\\n#년, 월, 일 분리 필요\\n# year추가 , month 추가, day 추가 \\nmember1 = [{'name':'홍길동', 'brith':'2000-01-01'},\\n                {'name':'신길동', 'brith':'1998-12-31'}]\\n\\nmember1['brith'] = 2000\",\n",
       " '_i57': \"'''\\n예시2. member1 = [{'name':'홍길동', 'brith':'2000-01-01'},\\n                {'name':'신길동', 'brith':'1998-12-31'}]\\n    member2 = [{'name':'홍길동', 'year':2000, 'month':1, 'day':1}],\\n                {'name':'신길동', 'year':1998, 'month':12, 'day':31}] \\n'''\\n#년, 월, 일 분리 필요 (split)\\n# year추가 , month 추가, day 추가 \\nmember1 = [{'name':'홍길동', 'brith':'2000-01-01'},\\n                {'name':'신길동', 'brith':'1998-12-31'}]\\n'year' : member1.split[0]\",\n",
       " '_i58': \"def func(x):\\n    return int(x.replace(',', ''))\",\n",
       " 'func': <function __main__.func(x)>,\n",
       " '_i59': \"def func(x):\\n    return int(x.replace(',', ''))\\nprint(func)\",\n",
       " '_i60': \"def func(x):\\n    return int(x.replace(',', ''))\\nprint(prices)\",\n",
       " '_i61': \"def func(x):\\n    return (int(x.replace(',', '')))\\nprint(prices)\",\n",
       " '_i62': \"def func(x):\\n    return int(x.replace(',', ''))\\nprint(prices)\",\n",
       " '_i63': 'int(\" \")',\n",
       " '_i64': \"def func(x):\\n    return int(x.replace(',', ''))\\nprint(prices)\",\n",
       " '_i65': \"def func(x):\\n    return int(x.replace(',', ''))\\nprint(int(prices)\",\n",
       " '_i66': \"def func(x):\\n    return int(x.replace(',', ''))\\nprint(int(prices))\",\n",
       " '_i67': 'def func(x):\\n    return int(x.replace(\\',\\', \\'\\'))\\nprint(\"5,000\"',\n",
       " '_i68': 'def func(x):\\n    return int(x.replace(\\',\\', \\'\\'))\\nprint(\"5,000\")',\n",
       " '_i69': \"print(map(lambda x : int(x.replace(',', '')), prices))\",\n",
       " '_i70': \"list(map(lambda x : int(x.replace(',', '')), prices))\",\n",
       " '_70': [5000, 800, 1000, 6000],\n",
       " '_i71': '\\'\\'\\'\\n예시2. member1 = [{\\'name\\':\\'홍길동\\', \\'brith\\':\\'2000-01-01\\'},\\n                {\\'name\\':\\'신길동\\', \\'brith\\':\\'1998-12-31\\'}]\\n    member2 = [{\\'name\\':\\'홍길동\\', \\'year\\':2000, \\'month\\':1, \\'day\\':1}],\\n                {\\'name\\':\\'신길동\\', \\'year\\':1998, \\'month\\':12, \\'day\\':31}] \\n\\'\\'\\'\\n#년, 월, 일 분리 필요 (split)\\n# year추가 , month 추가, day 추가 \\nmember1 = [{\\'name\\':\\'홍길동\\', \\'brith\\':\\'2000-01-01\\'},\\n           {\\'name\\':\\'신길동\\', \\'brith\\':\\'1998-12-31\\'}]\\nmember2= [{\\n    \"name\" : 신길동\\n    \\'year\\' : member1.split[-][0]\\n    \\'month\\': meber1.split[-][1]\\n    \\'day\\' : member1.split[-][2]\\n}]',\n",
       " '_i72': \"'''\\n예시 3. member2 를 member1로 바꿉니다.\\n\\n'''\",\n",
       " '_72': '\\n예시 3. member2 를 member1로 바꿉니다.\\n\\n',\n",
       " '_i73': '\\'\\'\\'\\n예시2. member1 = [{\\'name\\':\\'홍길동\\', \\'brith\\':\\'2000-01-01\\'},\\n                {\\'name\\':\\'신길동\\', \\'brith\\':\\'1998-12-31\\'}]\\n    member2 = [{\\'name\\':\\'홍길동\\', \\'year\\':2000, \\'month\\':1, \\'day\\':1}],\\n                {\\'name\\':\\'신길동\\', \\'year\\':1998, \\'month\\':12, \\'day\\':31}] \\n\\'\\'\\'\\n#년, 월, 일 분리 필요 (split)\\n# year추가 , month 추가, day 추가 \\nmember1 = [{\\'name\\':\\'홍길동\\', \\'brith\\':\\'2000-01-01\\'},\\n           {\\'name\\':\\'신길동\\', \\'brith\\':\\'1998-12-31\\'}]\\nmember2= [{\\n    \"name\" : 신길동\\n    \\'year\\' : member1.split[-][0]\\n    \\'month\\': meber1.split[-][1]\\n    \\'day\\' : member1.split[-][2]\\n}]\\n\\nprint(member2)',\n",
       " '_i74': \"# 2000-01-01 → {'year':1998, 'month':12, 'day':31}\\ndef split_data(data):\\n    split_data = data.split('-')\\n    print(split_data)\",\n",
       " 'split_data': <function __main__.split_data(data)>,\n",
       " '_i75': 'split_data(2000-01-01)',\n",
       " '_i76': \"# 2000-01-01 → {'year':1998, 'month':12, 'day':31}\\ndef split_data(data):\\n    split_data = data.split('-')\\n    print(split_data)\",\n",
       " '_i77': 'split_data(2000-01-01)',\n",
       " '_i78': 'split_data(\"2000-01-01\")',\n",
       " '_i79': \"# 2000-01-01 → {'year':1998, 'month':12, 'day':31}\\ndef split_data(data):\\n    split_data = data.split('-')\\n    print(split_data[0],split_data[1],split_data[2])\",\n",
       " '_i80': 'split_data(\"2000-01-01\")',\n",
       " '_i81': \"# 2000-01-01 → {'year':1998, 'month':12, 'day':31}\\ndef split_data(data):\\n    split_data = data.split('-')\\n    print(split_data[0],split_data[1],split_data[2])\\n    print( {'year' : int(split_data[0]),\\n            'month': int(split_data[1]),\\n            'day'  : int(split_data[2])})\",\n",
       " '_i82': 'split_data(\"2000-01-01\")',\n",
       " '_i83': 'split_data(\"2000-01-01\")',\n",
       " '_i84': 'split_data()',\n",
       " '_i85': \"split_data('2000-01-01')\",\n",
       " '_i86': \"# 2000-01-01 → {'year':1998, 'month':12, 'day':31}\\ndef split_data(data):\\n    split_data = data.split('-')\\n    #print(split_data[0],split_data[1],split_data[2])\\n    print( {'year' : int(split_data[0]),\\n            'month': int(split_data[1]),\\n            'day'  : int(split_data[2])})\",\n",
       " '_i87': \"split_data('2000-01-01')\",\n",
       " '_i88': \"# 2000-01-01 → {'year':1998, 'month':12, 'day':31}\\ndef split_data(data):\\n    split_data = data.split('-')\\n    #print(split_data[0],split_data[1],split_data[2])\\n    return ( {'year' : int(split_data[0]),\\n            'month': int(split_data[1]),\\n            'day'  : int(split_data[2])})\",\n",
       " '_i89': \"split_data('2000-01-01')\",\n",
       " '_89': {'year': 2000, 'month': 1, 'day': 1},\n",
       " '_i90': '\\'\\'\\'\\n예시2. member1 = [{\\'name\\':\\'홍길동\\', \\'brith\\':\\'2000-01-01\\'},\\n                {\\'name\\':\\'신길동\\', \\'brith\\':\\'1998-12-31\\'}]\\n    member2 = [{\\'name\\':\\'홍길동\\', \\'year\\':2000, \\'month\\':1, \\'day\\':1}],\\n                {\\'name\\':\\'신길동\\', \\'year\\':1998, \\'month\\':12, \\'day\\':31}] \\n\\'\\'\\'\\n#년, 월, 일 분리 필요 (split)\\n# year추가 , month 추가, day 추가 \\nmember1 = [{\\'name\\':\\'홍길동\\', \\'brith\\':\\'2000-01-01\\'},\\n           {\\'name\\':\\'신길동\\', \\'brith\\':\\'1998-12-31\\'}]\\nmember2= [{\\n    \"name\" : 신길동\\n    \\'year\\' : int(member1.split[-][0])\\n    \\'month\\': int(meber1.split[-][1])\\n    \\'day\\' : int(member1.split[-][2])\\n}]\\n\\nprint(member2)',\n",
       " '_i91': 'def member_func(member): #{\\'name\\':\\'홍길동\\', \\'brith\\':\\'2000-01-01\\'\\n    \"{\\'name\\':\\'신길동\\', \\'year\\':1998, \\'month\\':12, \\'day\\':31} 이런식으로 return\"\\n    return {\\n        \\'name\\'  : member.get(\\'name\\'),\\n        \\'year\\'  : int(member[\\'birth\\'].split(\\'-\\')[0]),  #get함수 스타일로 써도 됨. \\n        \\'month\\' : int(member[\\'birth\\'].split(\\'-\\')[1]),\\n        \\'day\\'   : int(member[\\'birth\\'].split(\\'-\\')[2])\\n    }',\n",
       " 'member_func': <function __main__.member_func(member)>,\n",
       " '_i92': 'member_func(member)',\n",
       " '_i93': 'member_func(member2)',\n",
       " '_i94': 'member_func(member1)',\n",
       " '_i95': \"member1 = [{'name':'홍길동', 'brith':'2000-01-01'},\\n                {'name':'신길동', 'brith':'1998-12-31'}]\\n    member2 = [{'name':'홍길동', 'year':2000, 'month':1, 'day':1}],\\n                {'name':'신길동', 'year':1998, 'month':12, 'day':31}] \",\n",
       " '_i96': \"member1 = [{'name':'홍길동', 'brith':'2000-01-01'},\\n                {'name':'신길동', 'brith':'1998-12-31'}]\",\n",
       " '_i97': 'member1',\n",
       " '_97': [{'name': '홍길동', 'brith': '2000-01-01'},\n",
       "  {'name': '신길동', 'brith': '1998-12-31'}],\n",
       " '_i98': 'def member_func(member): #{\\'name\\':\\'홍길동\\', \\'brith\\':\\'2000-01-01\\'\\n    \"{\\'name\\':\\'신길동\\', \\'year\\':1998, \\'month\\':12, \\'day\\':31} 이런식으로 return\"\\n    return {\\n        \\'name\\'  : member.get(\\'name\\'),\\n        \\'year\\'  : int(member[\\'birth\\'].split(\\'-\\')[0]),  #get함수 스타일로 써도 됨. \\n        \\'month\\' : int(member[\\'birth\\'].split(\\'-\\')[1]),\\n        \\'day\\'   : int(member[\\'birth\\'].split(\\'-\\')[2])\\n    }',\n",
       " '_i99': 'member_func(member1[0])',\n",
       " '_i100': 'def member_func(member): #{\\'name\\':\\'홍길동\\', \\'brith\\':\\'2000-01-01\\'\\n    \"{\\'name\\':\\'신길동\\', \\'year\\':1998, \\'month\\':12, \\'day\\':31} 이런식으로 return\"\\n    return {\\n        \\'name\\'  : member.get(\\'name\\'),\\n        \\'year\\'  : int(member[\\'birth\\'].split(\\'-\\')[0]),  #get함수 스타일로 써도 됨. \\n        \\'month\\' : int(member[\\'birth\\'].split(\\'-\\')[1]),\\n        \\'day\\'   : int(member[\\'birth\\'].split(\\'-\\')[2])\\n    }\\nmember_func(member1[0])',\n",
       " '_i101': \"member1 = [{'name':'홍길동', 'brith':'2000-01-01'},\\n         {'name':'신길동', 'brith':'1998-12-31'}]\",\n",
       " '_i102': \"# 2000-01-01 → {'year':1998, 'month':12, 'day':31}\\ndef split_data(data):\\n    split_data = data.split('-')\\n    #print(split_data[0],split_data[1],split_data[2])\\n    return {'year' : int(split_data[0]),\\n            'month': int(split_data[1]),\\n            'day'  : int(split_data[2])}\",\n",
       " '_i103': \"split_data('2000-01-01')\",\n",
       " '_103': {'year': 2000, 'month': 1, 'day': 1},\n",
       " '_i104': 'def member_func(member): #{\\'name\\':\\'홍길동\\', \\'brith\\':\\'2000-01-01\\'\\n    \"{\\'name\\':\\'신길동\\', \\'year\\':1998, \\'month\\':12, \\'day\\':31} 이런식으로 return\"\\n    return {\\n        \\'name\\'  : member.get(\\'name\\'),\\n        \\'year\\'  : int(member[\\'birth\\'].split(\\'-\\')[0]),  #get함수 스타일로 써도 됨. \\n        \\'month\\' : int(member[\\'birth\\'].split(\\'-\\')[1]),\\n        \\'day\\'   : int(member[\\'birth\\'].split(\\'-\\')[2])\\n    }\\nmember_func(member1[0])',\n",
       " '_i105': 'def member_func(member): #{\\'name\\':\\'홍길동\\', \\'brith\\':\\'2000-01-01\\'\\n    \"{\\'name\\':\\'신길동\\', \\'year\\':1998, \\'month\\':12, \\'day\\':31} 이런식으로 return\"\\n    return {\\n        \\'name\\'  : member.get(\\'name\\'),\\n        \\'year\\'  : int(member[\\'birth\\'].split(\\'-\\')[0]),  #get함수 스타일로 써도 됨. \\n        \\'month\\' : int(member[\\'birth\\'].split(\\'-\\')[1]),\\n        \\'day\\'   : int(member[\\'birth\\'].split(\\'-\\')[2])\\n    }\\nmember_func(member1)',\n",
       " '_i106': \"list(map(lambda member : {\\n                            'name'  : member.get('name'),\\n                            'year'  : int(member['birth'].split('-')[0]),  \\n                            'month' : int(member['birth'].split('-')[1]),\\n                            'day'   : int(member['birth'].split('-')[2]}))\",\n",
       " '_i107': \"list(map(lambda member : {\\n                            'name'  : member.get('name'),\\n                            'year'  : int(member['birth'].split('-')[0]),  \\n                            'month' : int(member['birth'].split('-')[1]),\\n                            'day'   : int(member['birth'].split('-')[2]},))\",\n",
       " '_i108': 'def member_func(member): #{\\'name\\':\\'홍길동\\', \\'brith\\':\\'2000-01-01\\'\\n    \"{\\'name\\':\\'신길동\\', \\'year\\':1998, \\'month\\':12, \\'day\\':31} 이런식으로 return\"\\n    return {\\n        \\'name\\'  : member.get(\\'name\\'),\\n        \\'year\\'  : int(member[\\'birth\\'].split(\\'-\\')[0]),  #get함수 스타일로 써도 됨. \\n        \\'month\\' : int(member[\\'birth\\'].split(\\'-\\')[1]),\\n        \\'day\\'   : int(member[\\'birth\\'].split(\\'-\\')[2]),\\n    }\\nmember_func(member1)',\n",
       " '_i109': 'def member_func(member): #{\\'name\\':\\'홍길동\\', \\'brith\\':\\'2000-01-01\\'\\n    \"{\\'name\\':\\'신길동\\', \\'year\\':1998, \\'month\\':12, \\'day\\':31} 이런식으로 return\"\\n    return {\\n        \\'name\\'  : member.get(\\'name\\'),\\n        \\'year\\'  : int(member[\\'birth\\'].split(\\'-\\')[0]),  #get함수 스타일로 써도 됨. \\n        \\'month\\' : int(member[\\'birth\\'].split(\\'-\\')[1]),\\n        \\'day\\'   : int(member[\\'birth\\'].split(\\'-\\')[2]),\\n    }))',\n",
       " '_i110': 'def member_func(member): #{\\'name\\':\\'홍길동\\', \\'brith\\':\\'2000-01-01\\'\\n    \"{\\'name\\':\\'신길동\\', \\'year\\':1998, \\'month\\':12, \\'day\\':31} 이런식으로 return\"\\n    return {\\n        \\'name\\'  : member.get(\\'name\\'),\\n        \\'year\\'  : int(member[\\'birth\\'].split(\\'-\\')[0]),  #get함수 스타일로 써도 됨. \\n        \\'month\\' : int(member[\\'birth\\'].split(\\'-\\')[1]),\\n        \\'day\\'   : int(member[\\'birth\\'].split(\\'-\\')[2]),\\n    })',\n",
       " '_i111': 'def member_func(member): #{\\'name\\':\\'홍길동\\', \\'brith\\':\\'2000-01-01\\'\\n    \"{\\'name\\':\\'신길동\\', \\'year\\':1998, \\'month\\':12, \\'day\\':31} 이런식으로 return\"\\n    return {\\n        \\'name\\'  : member.get(\\'name\\'),\\n        \\'year\\'  : int(member[\\'birth\\'].split(\\'-\\')[0]),  #get함수 스타일로 써도 됨. \\n        \\'month\\' : int(member[\\'birth\\'].split(\\'-\\')[1]),\\n        \\'day\\'   : int(member[\\'birth\\'].split(\\'-\\')[2]),\\n    }',\n",
       " '_i112': \"list(map(lambda member : {\\n                            'name'  : member.get('name'),\\n                            'year'  : int(member['birth'].split('-')[0]),  \\n                            'month' : int(member['birth'].split('-')[1]),\\n                            'day'   : int(member['birth'].split('-')[2]},))\",\n",
       " '_i113': \"list(map(lambda member : {\\n                            'name'  : member.get('name'),\\n                            'year'  : int(member['birth'].split('-')[0]),  \\n                            'month' : int(member['birth'].split('-')[1]),\\n                            'day'   : int(member['birth'].split('-')[2])},))\",\n",
       " '_i114': \"list(map(lambda member : {\\n                            'name'  : member.get('name'),\\n                            'year'  : int(member['birth'].split('-')[0]),  \\n                            'month' : int(member['birth'].split('-')[1]),\\n                            'day'   : int(member['birth'].split('-')[2],\\n                            }, member1))member2\",\n",
       " '_i115': \"member2 = list(map(lambda member : {\\n                            'name'  : member.get('name'),\\n                            'year'  : int(member['birth'].split('-')[0]),  \\n                            'month' : int(member['birth'].split('-')[1]),\\n                            'day'   : int(member['birth'].split('-')[2],\\n                            }, \\n        member1\\n        )\\n    )\\nmember2\",\n",
       " '_i116': \"member2 = list(map(lambda member : {\\n                            'name'  : member.get('name'),\\n                            'year'  : int(member['birth'].split('-')[0]),  \\n                            'month' : int(member['birth'].split('-')[1]),\\n                            'day'   : int(member['birth'].split('-')[2],\\n                            } , \\n        member1\\n        )\\n    )\\nmember2\",\n",
       " '_i117': \"member2 = list(map(lambda member : {\\n                            'name'  : member.get('name'),\\n                            'year'  : int(member['birth'].split('-')[0]),  \\n                            'month' : int(member['birth'].split('-')[1]),\\n                            'day'   : int(member['birth'].split('-')[2],} , \\n        member1\\n        )\\n    )\\nmember2\",\n",
       " '_i118': \"member2 = list(map(lambda member : {\\n                            'name'  : member.get('name'),\\n                            'year'  : int(member['birth'].split('-')[0]),  \\n                            'month' : int(member['birth'].split('-')[1]),\\n                            'day'   : int(member['birth'].split('-')[2],\\n                            } , \\n        member1\\n        )\\n    )\\nmember2\",\n",
       " '_i119': \"member2 = list(map(lambda member : {\\n                            'name'  : member.get('name'),\\n                            'year'  : int(member['birth'].split('-')[0]),  \\n                            'month' : int(member['birth'].split('-')[1]),\\n                            'day'   : int(member['birth'].split('-')[2],\\n                            }, \\n        member1\\n        )\\n    )\\nmember2\",\n",
       " '_i120': \"member2 = list(map(lambda member : {\\n                            'name'  : member.get('name'),\\n                            'year'  : int(member['birth'].split('-')[0]),  \\n                            'month' : int(member['birth'].split('-')[1]),\\n                            'day'   : int(member['birth'].split('-')[2]),\\n                            }, \\n        member1\\n        )\\n    )\\nmember2\",\n",
       " '_i121': \"member2 = list(map(lambda member : {\\n                            'name'  : member.get('name'),\\n                            'year'  : int(member['birth'].split('-')[0]),  \\n                            'month' : int(member['birth'].split('-')[1]),\\n                            'day'   : int(member['birth'].split('-')[2],\\n                            }, \\n        member1\\n        )\\n    )\\nmember2\",\n",
       " '_i122': 'def member_func(member): #{\\'name\\':\\'홍길동\\', \\'brith\\':\\'2000-01-01\\'\\n    \"{\\'name\\':\\'신길동\\', \\'year\\':1998, \\'month\\':12, \\'day\\':31} 이런식으로 return\"\\n    return {\\n        \\'name\\'  : member.get(\\'name\\'),\\n        \\'year\\'  : int(member[\\'birth\\'].split(\\'-\\')[0]),  #get함수 스타일로 써도 됨. \\n        \\'month\\' : int(member[\\'birth\\'].split(\\'-\\')[1]),\\n        \\'day\\'   : int(member[\\'birth\\'].split(\\'-\\')[2]),\\n    }\\nmember_func(member1[0])',\n",
       " '_i123': 'def member_func(member): #{\\'name\\':\\'홍길동\\', \\'brith\\':\\'2000-01-01\\'\\n    \"{\\'name\\':\\'신길동\\', \\'year\\':1998, \\'month\\':12, \\'day\\':31} 이런식으로 return\"\\n    return {\\n        \\'name\\'  : member.get(\\'name\\'),\\n        \\'year\\'  : int(member[\\'brith\\'].split(\\'-\\')[0]),  #get함수 스타일로 써도 됨. \\n        \\'month\\' : int(member[\\'brith\\'].split(\\'-\\')[1]),\\n        \\'day\\'   : int(member[\\'brith\\'].split(\\'-\\')[2]),\\n    }\\nmember_func(member1[0])',\n",
       " '_123': {'name': '홍길동', 'year': 2000, 'month': 1, 'day': 1},\n",
       " '_i124': \"member2 = list(map(lambda member : {\\n                            'name'  : member.get('name'),\\n                            'year'  : int(member['brith'].split('-')[0]),  \\n                            'month' : int(member['brith'].split('-')[1]),\\n                            'day'   : int(member['brith'].split('-')[2]),\\n                            }, \\n        member1\\n        )\\n    )\\nmember2\",\n",
       " 'member2': [{'name': '홍길동', 'year': 2000, 'month': 1, 'day': 1},\n",
       "  {'name': '신길동', 'year': 1998, 'month': 12, 'day': 31}],\n",
       " '_124': [{'name': '홍길동', 'year': 2000, 'month': 1, 'day': 1},\n",
       "  {'name': '신길동', 'year': 1998, 'month': 12, 'day': 31}],\n",
       " '_i125': \"member1 = [{'name':'홍길동', 'birth':'2000-01-01'},\\n         {'name':'신길동', 'birth':'1998-12-31'}]\",\n",
       " '_i126': '\\'\\'\\'\\n예시2. member1 = [{\\'name\\':\\'홍길동\\', \\'birth\\':\\'2000-01-01\\'},\\n                {\\'name\\':\\'신길동\\', \\'birth\\':\\'1998-12-31\\'}]\\n    member2 = [{\\'name\\':\\'홍길동\\', \\'year\\':2000, \\'month\\':1, \\'day\\':1}],\\n                {\\'name\\':\\'신길동\\', \\'year\\':1998, \\'month\\':12, \\'day\\':31}] \\n\\'\\'\\'\\n#년, 월, 일 분리 필요 (split)\\n# year추가 , month 추가, day 추가 \\n#member1 = [{\\'name\\':\\'홍길동\\', \\'birth\\':\\'2000-01-01\\'},\\n#           {\\'name\\':\\'신길동\\', \\'birth\\':\\'1998-12-31\\'}]\\n#member2= [{\\n#    \"name\" : 신길동\\n#    \\'year\\' : int(member1.split[-][0])\\n#    \\'month\\': int(meber1.split[-][1])\\n#    \\'day\\' : int(member1.split[-][2])\\n#}]\\n\\n#print(member2)',\n",
       " '_126': \"\\n예시2. member1 = [{'name':'홍길동', 'birth':'2000-01-01'},\\n                {'name':'신길동', 'birth':'1998-12-31'}]\\n    member2 = [{'name':'홍길동', 'year':2000, 'month':1, 'day':1}],\\n                {'name':'신길동', 'year':1998, 'month':12, 'day':31}] \\n\",\n",
       " '_i127': \"# 2000-01-01 → {'year':1998, 'month':12, 'day':31}\\ndef split_data(data):\\n    split_data = data.split('-')\\n    #print(split_data[0],split_data[1],split_data[2])\\n    return {'year' : int(split_data[0]),\\n            'month': int(split_data[1]),\\n            'day'  : int(split_data[2])}\",\n",
       " '_i128': \"split_data('2000-01-01')\",\n",
       " '_128': {'year': 2000, 'month': 1, 'day': 1},\n",
       " '_i129': 'def member_func(member): #{\\'name\\':\\'홍길동\\', \\'birth\\':\\'2000-01-01\\'\\n    \"{\\'name\\':\\'신길동\\', \\'year\\':1998, \\'month\\':12, \\'day\\':31} 이런식으로 return\"\\n    return {\\n        \\'name\\'  : member.get(\\'name\\'),\\n        \\'year\\'  : int(member[\\'birth\\'].split(\\'-\\')[0]),  #get함수 스타일로 써도 됨. \\n        \\'month\\' : int(member[\\'birth\\'].split(\\'-\\')[1]),\\n        \\'day\\'   : int(member[\\'birth\\'].split(\\'-\\')[2]),\\n    }\\nmember_func(member1[0])',\n",
       " '_129': {'name': '홍길동', 'year': 2000, 'month': 1, 'day': 1},\n",
       " '_i130': \"member2 = list(map(lambda member : {\\n                            'name'  : member.get('name'),\\n                            'year'  : int(member['birth'].split('-')[0]),  \\n                            'month' : int(member['birth'].split('-')[1]),\\n                            'day'   : int(member['birth'].split('-')[2]),\\n                            }, \\n        member1\\n        )\\n    )\\nmember2\",\n",
       " '_130': [{'name': '홍길동', 'year': 2000, 'month': 1, 'day': 1},\n",
       "  {'name': '신길동', 'year': 1998, 'month': 12, 'day': 31}],\n",
       " '_i131': '\\'\\'\\'\\n예시 3. member2 를 member1로 바꿉니다.\\nmember2 = [{\\'name\\':\\'홍길동\\', \\'year\\':2000, \\'month\\':1, \\'day\\':1}],\\n                {\\'name\\':\\'신길동\\', \\'year\\':1998, \\'month\\':12, \\'day\\':31}]을\\n\\n\\'\\'\\'\\n\\n#{\\'year\\':2000, \\'month\\':1, \\'day\\':1} => \"2000-01-01\"를 return하는 함수\\nformat이나 \\n\\ndef member_ex2(member):\\n    {\\'name\\' : member.get(\\'name\\'),\\n      \\'birth\\' :\\'-\\'.join(member[\\'birth\\'].split)}',\n",
       " '_i132': '\\'\\'\\'\\n예시 3. member2 를 member1로 바꿉니다.\\nmember2 = [{\\'name\\':\\'홍길동\\', \\'year\\':2000, \\'month\\':1, \\'day\\':1}],\\n                {\\'name\\':\\'신길동\\', \\'year\\':1998, \\'month\\':12, \\'day\\':31}]을\\n\\n\\'\\'\\'\\n\\n#{\\'year\\':2000, \\'month\\':1, \\'day\\':1} => \"2000-01-01\"를 return하는 함수\\n#format이나 \\n\\ndef member_ex2(member):\\n    {\\'name\\' : member.get(\\'name\\'),\\n      \\'birth\\' :\\'-\\'.join(member[\\'birth\\'].split)}',\n",
       " 'member_ex2': <function __main__.member_ex2(member)>,\n",
       " '_i133': '\\'\\'\\'\\n예시 3. member2 를 member1로 바꿉니다.\\nmember2 = [{\\'name\\':\\'홍길동\\', \\'year\\':2000, \\'month\\':1, \\'day\\':1}],\\n                {\\'name\\':\\'신길동\\', \\'year\\':1998, \\'month\\':12, \\'day\\':31}]을\\n\\n\\'\\'\\'\\n\\n#{\\'year\\':2000, \\'month\\':1, \\'day\\':1} => \"2000-01-01\"를 return하는 함수\\n#format이나 \\n\\ndef member_ex2(member):\\n    {\\'name\\' : member.get(\\'name\\'),\\n      \\'birth\\' :\\'-0\\'.join(member[\\'birth\\'].split[1]),}\\nprint(member2)',\n",
       " '_i134': '\\'\\'\\'\\n예시 3. member2 를 member1로 바꿉니다.\\nmember2 = [{\\'name\\':\\'홍길동\\', \\'year\\':2000, \\'month\\':1, \\'day\\':1}],\\n                {\\'name\\':\\'신길동\\', \\'year\\':1998, \\'month\\':12, \\'day\\':31}]을\\n\\n\\'\\'\\'\\n\\n#{\\'year\\':2000, \\'month\\':1, \\'day\\':1} => \"2000-01-01\"를 return하는 함수\\n#format이나 \\n\\ndef member_ex2(member):\\n    {\\'name\\' : member.get(\\'name\\'),\\n      \\'birth\\' :\\'-0\\'.join(member[\\'birth\\'].split[1]),}\\n    print(member2)',\n",
       " '_i135': '\\'\\'\\'\\n예시 3. member2 를 member1로 바꿉니다.\\nmember2 = [{\\'name\\':\\'홍길동\\', \\'year\\':2000, \\'month\\':1, \\'day\\':1}],\\n                {\\'name\\':\\'신길동\\', \\'year\\':1998, \\'month\\':12, \\'day\\':31}]을\\n\\n\\'\\'\\'\\n\\n#{\\'year\\':2000, \\'month\\':1, \\'day\\':1} => \"2000-01-01\"를 return하는 함수\\n#format이나 \\n\\ndef member_ex2(member):\\n    {\\'name\\' : member.get(\\'name\\'),\\n      \\'birth\\' :\\'-0\\'.join(member[\\'birth\\'].split[1]),}\\n    return(member2)',\n",
       " '_i136': '\\'\\'\\'\\n예시 3. member2 를 member1로 바꿉니다.\\nmember2 = [{\\'name\\':\\'홍길동\\', \\'year\\':2000, \\'month\\':1, \\'day\\':1}],\\n                {\\'name\\':\\'신길동\\', \\'year\\':1998, \\'month\\':12, \\'day\\':31}]을\\n\\n\\'\\'\\'\\n\\n#{\\'year\\':2000, \\'month\\':1, \\'day\\':1} => \"2000-01-01\"를 return하는 함수\\n#format이나 \\n\\ndef member_ex2(member):\\n    {\\'name\\' : member.get(\\'name\\'),\\n     \\'birth\\': f\\'{[\\'year\\']}-{\\'month\\':02d}-{[\\'day\\']:02}\\'}\\n    return (member2)',\n",
       " '_i137': '\\'\\'\\'\\n예시 3. member2 를 member1로 바꿉니다.\\nmember2 = [{\\'name\\':\\'홍길동\\', \\'year\\':2000, \\'month\\':1, \\'day\\':1}],\\n                {\\'name\\':\\'신길동\\', \\'year\\':1998, \\'month\\':12, \\'day\\':31}]을\\n\\n\\'\\'\\'\\n\\n#{\\'year\\':2000, \\'month\\':1, \\'day\\':1} => \"2000-01-01\"를 return하는 함수\\n#format이나 \\n\\ndef member_ex2(member):\\n    {\\'name\\' : member.get(\\'name\\'),\\n     \\'birth\\': f\\'{[\\'year\\']}-{[\\'month\\']:02d}-{[\\'day\\']:02}\\'}\\n    return (member2)',\n",
       " '_i138': '\\'\\'\\'\\n예시 3. member2 를 member1로 바꿉니다.\\nmember2 = [{\\'name\\':\\'홍길동\\', \\'year\\':2000, \\'month\\':1, \\'day\\':1}],\\n                {\\'name\\':\\'신길동\\', \\'year\\':1998, \\'month\\':12, \\'day\\':31}]을\\n\\n\\'\\'\\'\\n\\n#{\\'year\\':2000, \\'month\\':1, \\'day\\':1} => \"2000-01-01\"를 return하는 함수\\n#format이나 \\n\\ndef member_ex2(member):\\n    {\\'name\\' : member.get(\\'name\\'),\\n     \\'birth\\': f\\'{[\\'year\\']}-{[\\'month\\']:02d}-{[\\'day\\']:02}\\'}\\n    return\\nmember_ex2(member2)',\n",
       " '_i139': \"def join_data(data):\\n    print([data.get('year'), data.get('month'),data.get('day')])\\n    year = str(data.get('year'))\\n#    month = str(data.get('month')) # 월은12월까지 있는거라서 이렇게 하면 안됨. \\n    month = data.get('month')\\n    if month < 10:\\n        month = '0'+str(month)\\n    else:\\n        month = str(month)   \\n    day = data.get('day')\\n    if day < 10:\\n        day = '0'+str(day)\\n    else:\\n        day = str(day)\\n        \\n    return '-'.join([]'year', 'month','day']) \\n#join에는 문자리스트가 들어가야 함. 숫자 들어가면 오류 남\",\n",
       " '_i140': \"def join_data(data):\\n    print([data.get('year'), data.get('month'),data.get('day')])\\n    year = str(data.get('year'))\\n#    month = str(data.get('month')) # 월은12월까지 있는거라서 이렇게 하면 안됨. \\n    month = data.get('month')\\n    if month < 10:\\n        month = '0'+str(month)\\n    else:\\n        month = str(month)   \\n    day = data.get('day')\\n    if day < 10:\\n        day = '0'+str(day)\\n    else:\\n        day = str(day)\\n        \\n    return '-'.join(['year', 'month','day']) \\n#join에는 문자리스트가 들어가야 함. 숫자 들어가면 오류 남\",\n",
       " 'join_data': <function __main__.join_data(data)>,\n",
       " '_i141': \"join_data({'year':2000, 'month': 1, 'day': 1})\",\n",
       " '_141': 'year-month-day',\n",
       " '_i142': \"def join_data(data):\\n    print([data.get('year'), data.get('month'),data.get('day')])\\n    year = str(data.get('year'))\\n#    month = str(data.get('month')) # 월은12월까지 있는거라서 이렇게 하면 안됨. \\n    month = data.get('month')\\n    if month < 10:\\n        month = '0'+str(month)\\n    else:\\n        month = str(month)   \\n    day = data.get('day')\\n    if day < 10:\\n        day = '0'+str(day)\\n    else:\\n        day = str(day)\\n        \\n    return '-'.join(['year', 'month','day']) \\n#join에는 문자리스트가 들어가야 함. 숫자 들어가면 오류 남\",\n",
       " '_i143': \"join_data({'year':2000, 'month': 1, 'day': 1})\",\n",
       " '_143': 'year-month-day',\n",
       " '_i144': \"def join_data(data):\\n    print([data.get('year'), data.get('month'),data.get('day')])\\n    year = str(data.get('year'))\\n#    month = str(data.get('month')) # 월은12월까지 있는거라서 이렇게 하면 안됨. \\n    month = data.get('month')\\n    if month < 10:\\n        month = '0'+str(month)\\n    else:\\n        month = str(month)   \\n    day = data.get('day')\\n    if day < 10:\\n        day = '0'+str(day)\\n    else:\\n        day = str(day)\\n        \\n    return '-'.join(['year','month','day']) \\n#join에는 문자리스트가 들어가야 함. 숫자 들어가면 오류 남\",\n",
       " '_i145': \"join_data({'year':2000, 'month': 1, 'day': 1})\",\n",
       " '_145': 'year-month-day',\n",
       " '_i146': 'def join_data(data):\\n    print(\"{}-{:02}-{:02}\".format(data.get(\\'year\\')\\n                                  ,data.get(\\'month\\'),\\n                                  data.get(\\'day\\')))',\n",
       " '_i147': 'def join_data(data):\\n    print(\"{}-{:02}-{:02}\".format(data.get(\\'year\\')\\n                                  ,data.get(\\'month\\'),\\n                                  data.get(\\'day\\')))\\njoin_data(member2)',\n",
       " '_i148': 'def join_data(data):\\n    print(\"{}-{:02}-{:02}\".format(data.get(\\'year\\')\\n                                  ,data.get(\\'month\\'),\\n                                  data.get(\\'day\\')))',\n",
       " '_i149': \"join_data({'year':2000,'month':1,'day':1})\",\n",
       " '_i150': \"def join_data(data):\\n    print([data.get('year'), data.get('month'),data.get('day')])\\n    year = str(data.get('year'))\\n#    month = str(data.get('month')) # 월은12월까지 있는거라서 이렇게 하면 안됨. \\n    month = data.get('month')\\n    if month < 10:\\n        month = '0'+str(month)\\n    else:\\n        month = str(month)   \\n    day = data.get('day')\\n    if day < 10:\\n        day = '0'+str(day)\\n    else:\\n        day = str(day)\\n        \\n    return '-'.join(['year','month','day']) \\n#join에는 문자리스트가 들어가야 함. 숫자 들어가면 오류 남\",\n",
       " '_i151': \"join_data({'year':2000, 'month': 1, 'day': 1})\",\n",
       " '_151': 'year-month-day',\n",
       " '_i152': \"def join_data(data):\\n#    print([data.get('year'), data.get('month'),data.get('day')])\\n    year = str(data.get('year'))\\n#    month = str(data.get('month')) # 월은12월까지 있는거라서 이렇게 하면 안됨. \\n    month = data.get('month')\\n    if month < 10:\\n        month = '0'+str(month)\\n    else:\\n        month = str(month)   \\n    day = data.get('day')\\n    if day < 10:\\n        day = '0'+str(day)\\n    else:\\n        day = str(day)\\n        \\n    return '-'.join(['year','month','day']) \\n#join에는 문자리스트가 들어가야 함. 숫자 들어가면 오류 남\",\n",
       " '_i153': \"join_data({'year':2000, 'month': 1, 'day': 1})\",\n",
       " '_153': 'year-month-day',\n",
       " '_i154': \"join_data({'year':2000,'month':1,'day':1})\",\n",
       " '_154': 'year-month-day',\n",
       " '_i155': \"def join_data(data):\\n#    print([data.get('year'), data.get('month'),data.get('day')])\\n    year = str(data.get('year'))\\n#    month = str(data.get('month')) # 월은12월까지 있는거라서 이렇게 하면 안됨. \\n    month = data.get('month')\\n    if month < 10:\\n        month = '0'+str(month)\\n    else:\\n        month = str(month)   \\n    day = data.get('day')\\n    if day < 10:\\n        day = '0'+str(day)\\n    else:\\n        day = str(day)\\n        \\n    return '-'.join(['year','month','day']) \\n#join에는 문자리스트가 들어가야 함. 숫자 들어가면 오류 남\",\n",
       " '_i156': \"def join_date(data):\\n    # print([data.get('year'), data.get('month'), data.get('day')])\\n    year = str(data.get('year'))\\n    month = data.get('month')\\n    if month < 10:\\n        month = '0'+str(month)\\n    else:\\n        month = str(month)\\n    day = data.get('day')\\n    if day < 10:\\n        day = '0'+str(day)\\n    else:\\n        day = str(day)\\n    return '-'.join([year, month, day])\",\n",
       " 'join_date': <function __main__.join_date(data)>,\n",
       " '_i157': \"join_data({'year':2000,'month':1,'day':1})\",\n",
       " '_157': 'year-month-day',\n",
       " '_i158': \"def join_data(data):\\n#    print([data.get('year'), data.get('month'),data.get('day')])\\n    year = str(data.get('year'))\\n#    month = str(data.get('month')) \\n    month = data.get('month')\\n    if month < 10:\\n        month = '0'+str(month)\\n    else:\\n        month = str(month)   \\n    day = data.get('day')\\n    if day < 10:\\n        day = '0'+str(day)\\n    else:\\n        day = str(day)\\n        \\n    return '-'.join(['year','month','day']) \\n#join에는 문자리스트가 들어가야 함. 숫자 들어가면 오류 남\",\n",
       " '_i159': \"join_data({'year':2000,'month':1,'day':1})\",\n",
       " '_159': 'year-month-day',\n",
       " '_i160': \"def join_data(data):\\n#    print([data.get('year'), data.get('month'),data.get('day')])\\n    year = str(data.get('year'))\\n#    month = str(data.get('month')) \\n    month = data.get('month')\\n    if month < 10:\\n        month = '0'+str(month)\\n    else:\\n        month = str(month)   \\n    day = data.get('day')\\n    if day < 10:\\n        day = '0'+str(day)\\n    else:\\n        day = str(day)\\n        \\n    return '-'.join([year,month,day]) \\n#join에는 문자리스트가 들어가야 함. 숫자 들어가면 오류 남\",\n",
       " '_i161': \"join_data({'year':2000,'month':1,'day':1})\",\n",
       " '_161': '2000-01-01',\n",
       " '_i162': \"join_data({'year':2000,'month':18,'day':1})\",\n",
       " '_162': '2000-18-01',\n",
       " '_i163': \"join_data({'year':2000,'month':1,'day':1})\",\n",
       " '_163': '2000-01-01',\n",
       " '_i164': '# 더 간단하게 하는 방법으로 가는중 2\\ndef join_data(data):\\n    print(\"{year}-{month:02}-{day:02}\".format(**data) #**data안에 있는 값과 동일 \\n#                                            year = data.get(\\'year\\'),\\n#                                            month = data.get(\\'month\\'),\\n#                                            day = data.get(\\'day\\')))',\n",
       " '_i165': '# 더 간단하게 하는 방법으로 가는중 2\\ndef join_data(data):\\n    print(\"{year}-{month:02}-{day:02}\".format(**data) #**data안에 있는 값과 동일 ',\n",
       " '_i166': '# 더 간단하게 하는 방법으로 가는중 2\\ndef join_data(data):\\n    print(\"{year}-{month:02}-{day:02}\".format(**data) #**data안에 있는 값과 동일 ',\n",
       " '_i167': \"join_data({'year':2000,'month':1,'day':1})\",\n",
       " '_167': '2000-01-01',\n",
       " '_i168': '# 더 간단하게 하는 방법으로 가는중 2 (**data안에 있는 값과 동일)\\ndef join_data(data):\\n    print(\"{year}-{month:02}-{day:02}\".format(**data)',\n",
       " '_i169': '# 더 간단하게 하는 방법으로 가는중 2 (**data안에 있는 값과 동일)\\ndef join_data(data):\\n    print(\"{year}-{[month]:02}-{[day]:02}\".format(**data)',\n",
       " '_i170': '# 더 간단하게 하는 방법으로 가는중 2 (**data안에 있는 값과 동일)\\ndef join_data(data):\\n    print ()\"{year}-{month:02}-{day:02}\".format(**data))',\n",
       " '_i171': '# 더 간단하게 하는 방법으로 가는중 2 (**data안에 있는 값과 동일)\\ndef join_data(data):\\n    print (\"{year}-{month:02}-{day:02}\".format(**data))',\n",
       " '_i172': \"join_data({'year':2000,'month':1,'day':1})\",\n",
       " '_i173': '# 더 간단하게 하는 방법으로 가는중 2 (**data안에 있는 값과 동일)\\ndef join_data(data):\\n    return \"{year}-{month:02}-{day:02}\".format(**data)',\n",
       " '_i174': \"join_data({'year':2000,'month':1,'day':1})\",\n",
       " '_174': '2000-01-01',\n",
       " '_i175': '# 더 간단하게 하는 방법으로 가는중 2 (**data안에 있는 값과 동일)\\ndef join_data(data):\\n    return \"{year}-{[month]:02}-{[day]:02}\".format(**data)',\n",
       " '_i176': \"join_data({'year':2000,'month':1,'day':1})\",\n",
       " '_i177': '# 더 간단하게 하는 방법으로 가는중 2 (**data안에 있는 값과 동일)\\ndef join_data(data):\\n    return \"{year}-{month:02}-{day:02}\".format(**data)',\n",
       " '_i178': \"join_data({'year':2000,'month':1,'day':1})\",\n",
       " '_178': '2000-01-01',\n",
       " '_i179': '\\'\\'\\'\\n{\\'name\\':\\'홍길동\\', \\'year\\':2000, \\'month\\':1, \\'day\\':1}]을\\n{\\'name\\':\\'홍길동\\', \\'birth\\':\\'2000-01-01\\'}로 가공\\n\\'\\'\\'\\n        \\nlist(map(lambda member : {\\n                            \\'name\\' : member.get(\\'name\\'),\\n                            \\'birth\\' : \"{year}-{month:02}-{day:02}\".format(**data)}))\\nprint(member2)',\n",
       " '_i180': '\\'\\'\\'\\n{\\'name\\':\\'홍길동\\', \\'year\\':2000, \\'month\\':1, \\'day\\':1}]을\\n{\\'name\\':\\'홍길동\\', \\'birth\\':\\'2000-01-01\\'}로 가공\\n\\'\\'\\'\\n        \\nlist(map(lambda member : {\\n                            \\'name\\' : member.get(\\'name\\'),\\n                            \\'birth\\' : \"{year}-{month:02}-{day:02}\".format(**data)}))\\nprint(member)',\n",
       " '_i181': '\\'\\'\\'\\n{\\'name\\':\\'홍길동\\', \\'year\\':2000, \\'month\\':1, \\'day\\':1}]을\\n{\\'name\\':\\'홍길동\\', \\'birth\\':\\'2000-01-01\\'}로 가공\\n\\'\\'\\'\\n        \\nlist(map(lambda member : {\\n                            \\'name\\' : member.get(\\'name\\'),\\n                            \\'birth\\' : \"{year}-{month:02}-{day:02}\".format(**data)}, member2))',\n",
       " '_i182': '#{\\'name\\':\\'홍길동\\', \\'year\\':2000, \\'month\\':1, \\'day\\':1}]을\\n#{\\'name\\':\\'홍길동\\', \\'birth\\':\\'2000-01-01\\'}로 가공\\n      \\nlist(map(lambda member : {\\n                            \\'name\\' : member.get(\\'name\\'),\\n                            \\'birth\\' : \"{year}-{month:02}-{day:02}\".format(**data)}, member2))',\n",
       " '_i183': '#{\\'name\\':\\'홍길동\\', \\'year\\':2000, \\'month\\':1, \\'day\\':1}]을\\n#{\\'name\\':\\'홍길동\\', \\'birth\\':\\'2000-01-01\\'}로 가공\\n      \\nlist(map(lambda member : {\\n                            \\'name\\' : member.get(\\'name\\'),\\n                            \\'birth\\' : \"{year}-{month:02}-{day:02}\".format(**data)\\n                            },\\n    member2\\n))',\n",
       " '_i184': '#{\\'name\\':\\'홍길동\\', \\'year\\':2000, \\'month\\':1, \\'day\\':1}]을\\n#{\\'name\\':\\'홍길동\\', \\'birth\\':\\'2000-01-01\\'}로 가공\\n      \\nlist(map(lambda member : {\\n                            \\'name\\' : member.get(\\'name\\'),\\n                            \\'birth\\' : \"{year}-{month:02}-{day:02}\".format(**member)\\n                            },\\n    member2\\n))',\n",
       " '_184': [{'name': '홍길동', 'birth': '2000-01-01'},\n",
       "  {'name': '신길동', 'birth': '1998-12-31'}],\n",
       " '_i185': '#백터데이터 리스트에 [1, 2, 3, 4, 5] => [2,4]\\ndef filter_tamplate(func, L=[])\\n    result = []\\n    for l in L:\\n        if func(l):\\n            result.append(l)\\n        return result ',\n",
       " '_i186': '#백터데이터 리스트에 [1, 2, 3, 4, 5] => [2,4]\\ndef filter_tamplate(func, L=[]):\\n    result = []\\n    for l in L:\\n        if func(l):\\n            result.append(l)\\n        return result ',\n",
       " 'filter_tamplate': <function __main__.filter_tamplate(func, L=[])>,\n",
       " '_i187': 'def evenChk(value):\\n    return value%2==0\\nevenChk(20), evenChk(9)',\n",
       " 'evenChk': <function __main__.evenChk(value)>,\n",
       " '_187': (True, False),\n",
       " '_i188': 'def evenChk(value):\\n    return value%2==0\\nevenChk(20), evenChk(9), evenChk([1,2])',\n",
       " '_i189': 'def evenChk(value):\\n    return value%2==0\\nevenChk(20), evenChk(9)',\n",
       " '_189': (True, False),\n",
       " '_i190': 'list_data = [1,2,3,4,5]\\nfilter_tamplate(lambda value : value%2==0, list_data )',\n",
       " '_190': [],\n",
       " '_i191': 'list_data = [1, 2, 3, 4, 5]\\nfilter_tamplate(lambda value : value%2==0, list_data )',\n",
       " '_191': [],\n",
       " '_i192': '#백터데이터 리스트에 [1, 2, 3, 4, 5] => [2,4]\\ndef filter_tamplate(func, L=[]):\\n    result = []\\n    for l in L:\\n        if func(l):\\n            result.append(l)\\n        return result ',\n",
       " '_i193': 'def evenChk(value):\\n    return value%2==0\\nevenChk(20), evenChk(9)',\n",
       " '_193': (True, False),\n",
       " '_i194': 'list_data = [1, 2, 3, 4, 5]\\nfilter_tamplate(lambda value : value%2==0, list_data )',\n",
       " '_194': [],\n",
       " '_i195': 'list_data = [1, 2, 3, 4, 5]\\nfilter_tamplate(lambda value : value%2==0, list_data )',\n",
       " '_195': [],\n",
       " '_i196': '[data for data in list_data if data%2==0]',\n",
       " '_196': [2, 4],\n",
       " '_i197': 'list_data = [1, 2, 3, 4, 5]\\nfilter_tamplate(lambda value:value%2==0, list_data )',\n",
       " '_197': [],\n",
       " '_i198': 'list_data = [1, 2, 3, 4, 5]\\nfilter_tamplate(lambda value : value%2==0, list_data)',\n",
       " '_198': [],\n",
       " '_i199': 'list_data = [1, 2, 3, 4, 5]\\nfilter_tamplate(lambda value : value%2==0, list_data)',\n",
       " '_199': [],\n",
       " '_i200': 'list_data = [1, 2, 3, 4, 5]\\nfilter_tamplate(lambda value : value%2==0, list_data)',\n",
       " '_200': [],\n",
       " '_i201': '#백터데이터 리스트에 [1, 2, 3, 4, 5] => [2,4]\\ndef filter_tamplate(func, L=[]):\\n    result = []\\n    for l in L:\\n        if func(l):\\n            result.append(l)\\n    return result ',\n",
       " '_i202': 'def evenChk(value):\\n    return value%2==0\\nevenChk(20), evenChk(9)',\n",
       " '_202': (True, False),\n",
       " '_i203': 'list_data = [1, 2, 3, 4, 5]\\nfilter_tamplate(lambda value : value%2==0, list_data)',\n",
       " '_203': [2, 4],\n",
       " '_i204': 'p = [9, 2, 7]\\np.sort(reverse=True)\\np',\n",
       " 'p': [9, 7, 2],\n",
       " '_204': [9, 7, 2],\n",
       " '_i205': 'number2d = [[9.9],\\n            [1,100],\\n            [10,1]]\\nnumber2d.sort()\\nnumber2d',\n",
       " 'number2d': [[1, 100], [9, 9, 9, 9, 9], [10, 1]],\n",
       " '_205': [[1, 100], [9.9], [10, 1]],\n",
       " '_i206': 'number2d = [[9.9],\\n            [1,100],\\n            [10,1]]\\nnumber2d.sort(reverse=True)\\nnumber2d\\n#이 sort는 앞에자리 기준으로 순서 정해버림',\n",
       " '_206': [[10, 1], [9.9], [1, 100]],\n",
       " '_i207': 'number2d = [[9.9],\\n            [1,100],\\n            [10,1]]\\nnumber2d.sort(reverse=False) #무조건 0번 아이템 기준으로 정렬\\nnumber2d\\n#이 sort는 앞에자리 기준으로 순서 정해버림',\n",
       " '_207': [[1, 100], [9.9], [10, 1]],\n",
       " '_i208': 'number2d = [[9.9],\\n            [1,100],\\n            [10,1]]\\nnumber2d.sort(reverse=True) #무조건 0번 아이템 기준으로 정렬\\nnumber2d\\n#이 sort는 앞에자리 기준으로 순서 정해버림',\n",
       " '_208': [[10, 1], [9.9], [1, 100]],\n",
       " '_i209': 'number2d = [[9,9,9,9,9],\\n            [1,100],\\n            [10,1]]\\nnumber2d.sort(reverse=True) #무조건 0번 item 기준으로 정렬\\nnumber2d\\n#이 sort는 앞에자리 기준으로 순서 정해버림',\n",
       " '_209': [[10, 1], [9, 9, 9, 9, 9], [1, 100]],\n",
       " '_i210': \"pairs = [(2, 'two'), (1, 'one'),(4,'four'),(3,'three')]\\nparis.sort()\\nparis\",\n",
       " 'pairs': [(4, 'four'), (1, 'one'), (3, 'three'), (2, 'two')],\n",
       " '_i211': \"pairs = [(2, 'two'), (1, 'one'),(4,'four'),(3,'three')]\\npairs.sort()\\npairs\",\n",
       " '_211': [(1, 'one'), (2, 'two'), (3, 'three'), (4, 'four')],\n",
       " '_i212': 'number2d = [[9,9,9,9,9],\\n            [1,100],\\n            [10,1]]\\nnumber2d.sort(reverse=True) #무조건 0번 item 기준으로 정렬\\nnumber2d\\n#이 sort는 앞에자리 기준으로 순서 정해버림',\n",
       " '_212': [[10, 1], [9, 9, 9, 9, 9], [1, 100]],\n",
       " '_i213': \"#1번째 item을 기준으로 정렬\\n\\npairs = [(2, 'two'), (1, 'one'),(4,'four'),(3,'three')]\\npairs.sort(1)\\npairs\",\n",
       " '_i214': \"#1번째 item을 기준으로 정렬\\n\\npairs = [(2, 'two'), (1, 'one'),(4,'four'),(3,'three')]\\npairs.sort()\\npairs\",\n",
       " '_214': [(1, 'one'), (2, 'two'), (3, 'three'), (4, 'four')],\n",
       " '_i215': \"#1번째 item을 기준으로 정렬(문자:abc순서로 정렬)\\n\\npairs = [(2, 'two'), (1, 'one'),(4,'four'),(3,'three')]\\npairs.split[1]\\npairs.sort()\\npairs\",\n",
       " '_i216': \"#1번째 item을 기준으로 정렬(문자:abc순서로 정렬)\\n\\npairs = [(2, 'two'), (1, 'one'),(4,'four'),(3,'three')]\\npairs.sort(key=lambda pair : pair[1])\\npairs\",\n",
       " '_216': [(4, 'four'), (1, 'one'), (3, 'three'), (2, 'two')],\n",
       " '_i217': \"#1번째 item을 기준으로 정렬(문자:abc순서로 정렬)\\n\\npairs = [(2, 'two'), (1, 'one'),(4,'four'),(3,'three')]\\npairs.sort(key=lambda pair : pair[1],reverse=False) #1번 인덱스기준으로 abc순서로 정리 \\npairs\",\n",
       " '_217': [(4, 'four'), (1, 'one'), (3, 'three'), (2, 'two')],\n",
       " '_i218': \"#1번째 item을 기준으로 정렬(문자:abc순서로 정렬)\\n\\npairs = [(2, 'two'), (1, 'one'),(4,'four'),(3,'three')]\\npairs.sort(key=lambda pair : pair[1])#1번 인덱스기준으로 abc순서로 정리 \\npairs\",\n",
       " '_218': [(4, 'four'), (1, 'one'), (3, 'three'), (2, 'two')],\n",
       " '_i219': \"#1번째 item을 기준으로 정렬(문자:abc순서로 정렬)\\n\\npairs = [(2, 'two'), (1, 'one'),(4,'four'),(3,'three')]\\npairs.sort( reverse=Fals, key=lambda pair : pair[1])#1번 인덱스기준으로 abc순서로 정리 \\npairs\",\n",
       " '_i220': \"#1번째 item을 기준으로 정렬(문자:abc순서로 정렬)\\n\\npairs = [(2, 'two'), (1, 'one'),(4,'four'),(3,'three')]\\npairs.sort(key=lambda pair : pair[1],reverse)#1번 인덱스기준으로 abc순서로 정리 \\npairs\",\n",
       " '_i221': \"#1번째 item을 기준으로 정렬(문자:abc순서로 정렬) #1번 인덱스기준으로 abc순서로 정리 \\n\\npairs = [(2, 'two'), (1, 'one'),(4,'four'),(3,'three')]\\npairs.sort(key=lambda pair : pair[1],reverse) \\npairs\",\n",
       " '_i222': \"#1번째 item을 기준으로 정렬(문자:abc순서로 정렬) #1번 인덱스기준으로 abc순서로 정리 \\n\\npairs = [(2, 'two'), (1, 'one'),(4,'four'),(3,'three')]\\npairs.sort(key=lambda pair : pair[1]) \\npairs\",\n",
       " '_222': [(4, 'four'), (1, 'one'), (3, 'three'), (2, 'two')],\n",
       " '_i223': 'number2d = [[9,9,9,9,9],\\n            [1,100],\\n            [10,1]]\\nnumber2d.sort(reverse=True) #무조건 0번 item 기준으로 정렬\\nnumber2d\\n#이 sort는 앞에자리 기준으로 순서 정해버림',\n",
       " '_223': [[1, 100], [9, 9, 9, 9, 9], [10, 1]],\n",
       " '_i224': '#합이 큰 순으로 정렬 \\n\\nnumber2d.sort(key=lambda item :sum(item))\\nnumber2d',\n",
       " '_224': [[1, 100], [9, 9, 9, 9, 9], [10, 1]],\n",
       " '_i225': '(lambda item :sum(item))([1,2,3])',\n",
       " '_225': 6,\n",
       " '_i226': '#합이 큰 순으로 정렬 \\n\\nnumber2d.sort(key=lambda item :sum(item), reverse=True)\\nnumbers2d',\n",
       " '_i227': '#합이 큰 순으로 정렬 \\n\\nnumber2d.sort(key=lambda item :sum(item), reverse=True)\\nnumber2d',\n",
       " '_227': [[1, 100], [9, 9, 9, 9, 9], [10, 1]],\n",
       " '_i228': '#리스트를 매개변수로 받아 합을 return하는 함수 test\\n(lambda item :sum(item))([1,2,3])',\n",
       " '_228': 6,\n",
       " '_i229': 'students.sort(key=lambda ex : ex [student[0]] ,reverse=True)\\nstudents',\n",
       " '_i230': \"# 이름순으로 정렬(ㄱㄴㄷ 순)\\nstudents = [\\n    {'name':'홍길동', 'score':90},\\n    {'name':'김길동', 'score':85},\\n    {'name':'최길동', 'score':62},]\",\n",
       " 'students': [{'score': 99},\n",
       "  {'name': '홍길동', 'score': 90},\n",
       "  {'name': '김길동', 'score': 85},\n",
       "  {'name': '최길동', 'score': 62}],\n",
       " '_i231': 'students.sort(key=lambda ex : ex [student[0]] ,reverse=True)\\nstudents',\n",
       " '_i232': 'students.sort(key=lambda ex : ex[0] ,reverse=True)\\nstudents',\n",
       " '_i233': \"students.sort(key=lambda ex : ex['name'] ,reverse=True)\\nstudents\",\n",
       " '_233': [{'name': '홍길동', 'score': 90},\n",
       "  {'name': '김길동', 'score': 85},\n",
       "  {'name': '최길동', 'score': 62}],\n",
       " '_i234': \"students.sort(key=lambda ex : ex['name'] ,reverse=Flase)\\nstudents\",\n",
       " '_i235': \"students.sort(key=lambda ex : ex['name'] ,reverse=False)\\nstudents\",\n",
       " '_235': [{'name': '홍길동', 'score': 90},\n",
       "  {'name': '김길동', 'score': 85},\n",
       "  {'name': '최길동', 'score': 62}],\n",
       " '_i236': \"#score순으로 정렬(내림차순정렬)\\nstudents.sort(key=lambda ex : ex['score'] ,reverse=True)\\nstudents\",\n",
       " '_236': [{'name': '홍길동', 'score': 90},\n",
       "  {'name': '김길동', 'score': 85},\n",
       "  {'name': '최길동', 'score': 62}],\n",
       " '_i237': \"# 이름순으로 정렬(ㄱㄴㄷ 순)\\nstudents = [\\n    {'name':'홍길동', 'score':90},\\n    {'name':'김길동', 'score':85},\\n    {'name':'최길동', 'score':62},\\n    {'score':99}\\n]\",\n",
       " '_i238': \"students.sort(key=lambda ex : ex['name'] ,reverse=False)\\nstudents\",\n",
       " '_i239': \"# 이름순으로 정렬(ㄱㄴㄷ 순)\\nstudents = [\\n    {'name':'홍길동', 'score':90},\\n    {'name':'김길동', 'score':85},\\n    {'name':'최길동', 'score':62},\\n]\",\n",
       " '_i240': \"students.sort(key=lambda ex : ex['name'] ,reverse=False)\\nstudents\",\n",
       " '_240': [{'name': '최길동', 'score': 62},\n",
       "  {'name': '김길동', 'score': 85},\n",
       "  {'name': '홍길동', 'score': 90}],\n",
       " '_i241': \"# 이름이 없는 사람의 점수를 내림차순으로 정렬\\nstudents.sort(key=lambda ex :['score'],reverse=True)\",\n",
       " '_i242': \"# 이름이 없는 사람의 점수를 내림차순으로 정렬\\nstudents.sort(key=lambda ex :['score'],reverse=True)\\nstudents\",\n",
       " '_242': [{'name': '최길동', 'score': 62},\n",
       "  {'name': '김길동', 'score': 85},\n",
       "  {'name': '홍길동', 'score': 90}],\n",
       " '_i243': \"# 이름이 없는 사람의 점수를 내림차순으로 정렬\\nstudents.sort(key=lambda ex :['score'],reverse=False)\\nstudents\",\n",
       " '_243': [{'name': '최길동', 'score': 62},\n",
       "  {'name': '김길동', 'score': 85},\n",
       "  {'name': '홍길동', 'score': 90}],\n",
       " '_i244': \"# 이름이 없는 사람의 점수를 내림차순으로 정렬\\nstudents.sort(key=lambda ex :ex ['score'],reverse=False)\\nstudents\",\n",
       " '_244': [{'name': '최길동', 'score': 62},\n",
       "  {'name': '김길동', 'score': 85},\n",
       "  {'name': '홍길동', 'score': 90}],\n",
       " '_i245': \"# 이름이 없는 사람의 점수를 내림차순으로 정렬\\nstudents.sort(key=lambda ex : ex ['score'],reverse=False)\\nstudents\",\n",
       " '_245': [{'name': '최길동', 'score': 62},\n",
       "  {'name': '김길동', 'score': 85},\n",
       "  {'name': '홍길동', 'score': 90}],\n",
       " '_i246': \"# 이름순으로 정렬(ㄱㄴㄷ 순)\\nstudents = [\\n    {'name':'홍길동', 'score':90},\\n    {'name':'김길동', 'score':85},\\n    {'name':'최길동', 'score':62},\\n    {'score':99}\\n]\",\n",
       " '_i247': \"# 이름이 없는 사람의 점수를 내림차순으로 정렬\\nstudents.sort(key=lambda ex : ex ['score'],reverse=False)\\nstudents\",\n",
       " '_247': [{'score': 99},\n",
       "  {'name': '홍길동', 'score': 90},\n",
       "  {'name': '김길동', 'score': 85},\n",
       "  {'name': '최길동', 'score': 62}],\n",
       " '_i248': \"# 이름이 없는 사람의 점수를 내림차순으로 정렬\\nstudents.sort(key=lambda ex : ex.get('name'),reverse=False)\\nstudents\",\n",
       " '_i249': \"# 이름이 없는 사람의 점수를 내림차순으로 정렬\\nstudents.sort(key=lambda ex : ex.get('name', '유성미'),reverse=False)\\nstudents\",\n",
       " '_249': [{'score': 99},\n",
       "  {'name': '홍길동', 'score': 90},\n",
       "  {'name': '김길동', 'score': 85},\n",
       "  {'name': '최길동', 'score': 62}],\n",
       " '_i250': \"# 이름이 없는 사람의 점수를 내림차순으로 정렬\\nstudents.sort(key=lambda ex : ex.get('name',),reverse=False)\\nstudents\",\n",
       " '_i251': \"# 이름이 없는 사람의 점수를 내림차순으로 정렬\\nstudents.sort(key=lambda ex : ex.get('score'),reverse=False)\\nstudents\",\n",
       " '_251': [{'score': 99},\n",
       "  {'name': '홍길동', 'score': 90},\n",
       "  {'name': '김길동', 'score': 85},\n",
       "  {'name': '최길동', 'score': 62}],\n",
       " '_i252': \"# 이름이 없는 사람의 점수를 내림차순으로 정렬\\nstudents.sort(key=lambda ex : ex.get('name','힣'),reverse=False)\\nstudents\",\n",
       " '_252': [{'score': 99},\n",
       "  {'name': '홍길동', 'score': 90},\n",
       "  {'name': '김길동', 'score': 85},\n",
       "  {'name': '최길동', 'score': 62}],\n",
       " '_i253': \"# 이름이 없는 사람의 점수를 내림차순으로 정렬\\nstudents.sort(key=lambda ex : ex.get('name','각'),reverse=False)\\nstudents\",\n",
       " '_253': [{'score': 99},\n",
       "  {'name': '홍길동', 'score': 90},\n",
       "  {'name': '김길동', 'score': 85},\n",
       "  {'name': '최길동', 'score': 62}],\n",
       " '_i254': \"# 이름이 없는 사람의 점수를 내림차순으로 정렬\\nstudents.sort(key=lambda ex : ex.get('name','각'),reverse=False)\\nstudents\",\n",
       " '_254': [{'score': 99},\n",
       "  {'name': '홍길동', 'score': 90},\n",
       "  {'name': '김길동', 'score': 85},\n",
       "  {'name': '최길동', 'score': 62}],\n",
       " '_i255': \"# 이름이 없는 사람의 점수를 내림차순으로 정렬\\nstudents.sort(key=lambda ex : ex.get('name','각'),reverse=False)\\nstudents\\nstudents.sort(key=lambda ex : ex.get('name','힣'),reverse=False)\\nstudents\",\n",
       " '_255': [{'score': 99},\n",
       "  {'name': '홍길동', 'score': 90},\n",
       "  {'name': '김길동', 'score': 85},\n",
       "  {'name': '최길동', 'score': 62}],\n",
       " '_i256': \"students.sort(key=lambda ex : ex.get('score',0),reverse=False)\\nstudents\",\n",
       " '_256': [{'score': 99},\n",
       "  {'name': '홍길동', 'score': 90},\n",
       "  {'name': '김길동', 'score': 85},\n",
       "  {'name': '최길동', 'score': 62}],\n",
       " '_i257': \"students.sort(key=lambda ex : ex.get('score',0),reverse=True)\\nstudents\",\n",
       " '_257': [{'score': 99},\n",
       "  {'name': '홍길동', 'score': 90},\n",
       "  {'name': '김길동', 'score': 85},\n",
       "  {'name': '최길동', 'score': 62}],\n",
       " '_i258': \"# \\nbooks = [\\n    {'no':1, 'title':'강남 아파트 인사이트', 'writer': '오스틀', 'price':'25,200'},\\n    {'no':2, 'title':'단 한번의 삶', 'writer': '김영하', 'price':'15,120'},\\n    {'no':3, 'title':'흔한남매 19', 'writer': '백난도', 'price':'14,220'}\\n    {'no':4, 'title':'가격이 잘못', 'writer': '홍길동', 'price':'-'}\\n    {'no':5, 'title':'가격이 숫자', 'writer': '최무식', 'price':900}\\n    {'no':6, 'title':'가격이 없음', 'writer': '이난중',}\\n]\",\n",
       " '_i259': \"# \\nbooks = [\\n    {'no':1, 'title':'강남 아파트 인사이트', 'writer': '오스틀', 'price':'25,200'},\\n    {'no':2, 'title':'단 한번의 삶', 'writer': '김영하', 'price':'15,120'},\\n    {'no':3, 'title':'흔한남매 19', 'writer': '백난도', 'price':'14,220'},\\n    {'no':4, 'title':'가격이 잘못', 'writer': '홍길동', 'price':'-'},\\n    {'no':5, 'title':'가격이 숫자', 'writer': '최무식', 'price':900},\\n    {'no':6, 'title':'가격이 없음', 'writer': '이난중',}\\n]\",\n",
       " 'books': [{'no': 1,\n",
       "   'title': '강남 아파트 인사이트',\n",
       "   'writer': '오스틀',\n",
       "   'price': '25,200'},\n",
       "  {'no': 2, 'title': '단 한번의 삶', 'writer': '김영하', 'price': '15,120'},\n",
       "  {'no': 3, 'title': '흔한남매 19', 'writer': '백난도', 'price': '14,220'},\n",
       "  {'no': 4, 'title': '가격이 잘못', 'writer': '홍길동', 'price': '-'},\n",
       "  {'no': 5, 'title': '가격이 숫자', 'writer': '최무식', 'price': 900},\n",
       "  {'no': 6, 'title': '가격이 없음', 'writer': '이난중'}],\n",
       " '_i260': \"books.sort(key = lambda book : book.get('title'))\",\n",
       " '_i261': \"books.sort(key = lambda book : book.get('title'))\\nbooks\",\n",
       " '_261': [{'no': 3, 'title': '흔한남매 19', 'writer': '백난도', 'price': '14,220'},\n",
       "  {'no': 2, 'title': '단 한번의 삶', 'writer': '김영하', 'price': '15,120'},\n",
       "  {'no': 1, 'title': '강남 아파트 인사이트', 'writer': '오스틀', 'price': '25,200'},\n",
       "  {'no': 6, 'title': '가격이 없음', 'writer': '이난중'},\n",
       "  {'no': 5, 'title': '가격이 숫자', 'writer': '최무식', 'price': 900},\n",
       "  {'no': 4, 'title': '가격이 잘못', 'writer': '홍길동', 'price': '-'}],\n",
       " '_i262': \"books.sort(key = lambda book : book.get('writer'))\\nbooks\",\n",
       " '_262': [{'no': 3, 'title': '흔한남매 19', 'writer': '백난도', 'price': '14,220'},\n",
       "  {'no': 2, 'title': '단 한번의 삶', 'writer': '김영하', 'price': '15,120'},\n",
       "  {'no': 1, 'title': '강남 아파트 인사이트', 'writer': '오스틀', 'price': '25,200'},\n",
       "  {'no': 6, 'title': '가격이 없음', 'writer': '이난중'},\n",
       "  {'no': 5, 'title': '가격이 숫자', 'writer': '최무식', 'price': 900},\n",
       "  {'no': 4, 'title': '가격이 잘못', 'writer': '홍길동', 'price': '-'}],\n",
       " '_i263': \"# 타입이 문자인지 확인 /문자면 replace(,) \\n# 숫자에 , 있는지 확인 \\n# int로 변환하기전에 숫자인지 확인하고 0원처리하기\\nbooks.sort(key = lambda book : book.get('price'),0)\",\n",
       " '_i264': \"# 타입이 문자인지 확인 /문자면 replace(,) \\n# 숫자에 , 있는지 확인 \\n# int로 변환하기전에 숫자인지 확인하고 0원처리하기\\nbooks.sort(key = lambda book : book.get('price',0))\",\n",
       " '_i265': \"# '14,000'의 값을 '14000'으로 변환 / 900의 값이 들어오면 그대로 900으로 넣고 / '-'이 들어오면 0원으로 변경\\ndef parse_int(price):\\n    print(type(price))\",\n",
       " 'parse_int': <function __main__.parse_int(book)>,\n",
       " '_i266': 'parse_int(800)',\n",
       " '_i267': \"parse_int('800')\",\n",
       " '_i268': 'parse_int(-800)',\n",
       " '_i269': \"# '14,000'의 값을 '14000'으로 변환 / 900의 값이 들어오면 그대로 900으로 넣고 / '-'이 들어오면 0원으로 변경\\ndef parse_int(price):\\n    #print(type(price))\\n    if isinstance(price,int):\\n        return price\",\n",
       " '_i270': 'parse_int(-800)',\n",
       " '_270': -800,\n",
       " '_i271': 'parse_int(800)',\n",
       " '_271': 800,\n",
       " '_i272': 'parse_int(800)',\n",
       " '_272': 800,\n",
       " '_i273': 'parse_int(\"800\")',\n",
       " '_i274': \"parse_int('800')\",\n",
       " '_i275': 'parse_int(800)',\n",
       " '_275': 800,\n",
       " '_i276': \"# '14,000'의 값을 '14000'으로 변환 / 900의 값이 들어오면 그대로 900으로 넣고 / '-'이 들어오면 0원으로 변경\\ndef parse_int(price):\\n    #print(type(price))\\n    if isinstance(price,str) and price.replace(',','').isdigit():  #문자가 맞는지, 문자중에(,)을뺀 숫자로만 구성이 되어있는가 \\n        return int(price.replace(',',''))\\n    elif isinstance(price,int):\\n        return price\",\n",
       " '_i277': 'parse_int(\"800\")',\n",
       " '_277': 800,\n",
       " '_i278': 'parse_int(\"8,00\")',\n",
       " '_278': 800,\n",
       " '_i279': 'parse_int(\"8,00000\")',\n",
       " '_279': 800000,\n",
       " '_i280': 'parse_int(\"8,00,000\")',\n",
       " '_280': 800000,\n",
       " '_i281': 'parse_int(\"8,000,000\")',\n",
       " '_281': 8000000,\n",
       " '_i282': 'parse_int(15754)',\n",
       " '_282': 15754,\n",
       " '_i283': 'parse_int(0)',\n",
       " '_283': 0,\n",
       " '_i284': 'parse_int(*)',\n",
       " '_i285': 'parse_int(-)',\n",
       " '_i286': \"# '14,000'의 값을 '14000'으로 변환 / 900의 값이 들어오면 그대로 900으로 넣고 / '-'이 들어오면 0원으로 변경\\ndef parse_int(price):\\n    #print(type(price))\\n    if isinstance(price,str) and price.replace(',','').isdigit():  #문자가 맞는지, 문자중에(,)을뺀 숫자로만 구성이 되어있는가 \\n        return int(price.replace(',',''))\\n    elif isinstance(price,int):\\n        return price\\n    else:\\n        return 0\",\n",
       " '_i287': 'parse_int(-)',\n",
       " '_i288': \"# '14,000'의 값을 '14000'으로 변환 / 900의 값이 들어오면 그대로 900으로 넣고 / '-'이 들어오면 0원으로 변경\\ndef parse_int(price):\\n    #print(type(price))\\n    if isinstance(price,str) and price.replace(',','').isdigit():  #문자가 맞는지, 문자중에(,)을뺀 숫자로만 구성이 되어있는가 \\n        return int(price.replace(',',''))\\n    elif isinstance(price,int):\\n        return price\\n    else:\\n        return print(int(0))\",\n",
       " '_i289': 'parse_int(-)',\n",
       " '_i290': \"# '14,000'의 값을 '14000'으로 변환 / 900의 값이 들어오면 그대로 900으로 넣고 / '-'이 들어오면 0원으로 변경\\ndef parse_int(price):\\n    #print(type(price))\\n    if isinstance(price,str) and price.replace(',','').isdigit():  #문자가 맞는지, 문자중에(,)을뺀 숫자로만 구성이 되어있는가 \\n        return int(price.replace(',',''))\\n    elif isinstance(price,int):\\n        return price\",\n",
       " '_i291': \"parse_int('-')\",\n",
       " '_i292': 'parse_int(\"8,000\"), parse_int(\"88000\"),parse_int(200),parse_int(\"-\"),   ',\n",
       " '_292': (8000, 88000, 200, None),\n",
       " '_i293': \"# '14,000'의 값을 '14000'으로 변환 / 900의 값이 들어오면 그대로 900으로 넣고 / '-'이 들어오면 0원으로 변경\\ndef parse_int(price):\\n    #print(type(price))\\n    if isinstance(price,str) and price.replace(',','').isdigit():  #문자가 맞는지, 문자중에(,)을뺀 숫자로만 구성이 되어있는가 \\n        return int(price.replace(',',''))\\n    elif isinstance(price,int):\\n        return price\\n    else:\\n        return 0\",\n",
       " '_i294': 'parse_int(\"8,000\"), parse_int(\"88000\"),parse_int(200),parse_int(\"-\"),   ',\n",
       " '_294': (8000, 88000, 200, 0),\n",
       " '_i295': \"#{'no':6, 'title':'가격이 없음', 'writer': '이난중',} => return 0\\n#{'no':3, 'title':'흔한남매 19', 'writer': '백난도', 'price':'14,220'}, => 14220\\n#{'no':5, 'title':'가격이 숫자', 'writer': '최무식', 'price':900}, => 900\\n\\ndef parse_int(book):\\n    if isinstance(book.get('price'), str) and book.get.repalce(',','').isdigit():\\n        return int(book.get('price').replace(',','')):\\n    elif isinstance(book.get('price'), int):\\n        return book.get('price')\\n    else:\\n        return 0   \",\n",
       " '_i296': \"#{'no':6, 'title':'가격이 없음', 'writer': '이난중',} => return 0\\n#{'no':3, 'title':'흔한남매 19', 'writer': '백난도', 'price':'14,220'}, => 14220\\n#{'no':5, 'title':'가격이 숫자', 'writer': '최무식', 'price':900}, => 900\\n\\ndef parse_int(book):\\n    if isinstance(book.get('price'), str) and book.get('price').repalce(',','').isdigit():\\n        return int(book.get('price').replace(',','')):\\n    elif isinstance(book.get('price'), int):\\n        return book.get('price')\\n    else:\\n        return 0   \",\n",
       " '_i297': \"#{'no':6, 'title':'가격이 없음', 'writer': '이난중',} => return 0\\n#{'no':3, 'title':'흔한남매 19', 'writer': '백난도', 'price':'14,220'}, => 14220\\n#{'no':5, 'title':'가격이 숫자', 'writer': '최무식', 'price':900}, => 900\\n\\ndef parse_int(book):\\n    if isinstance(book.get('price'), str) and book.get('price').repalce(',','').isdigit():\\n        return int(book.get('price').replace(',','') ):\\n    elif isinstance(book.get('price'), int):\\n        return book.get('price')\\n    else:\\n        return 0   \",\n",
       " '_i298': \"#{'no':6, 'title':'가격이 없음', 'writer': '이난중',} => return 0\\n#{'no':3, 'title':'흔한남매 19', 'writer': '백난도', 'price':'14,220'}, => 14220\\n#{'no':5, 'title':'가격이 숫자', 'writer': '최무식', 'price':900}, => 900\\n\\ndef parse_int(book):\\n    if isinstance(book.get('price'), str) and book.get('price').repalce(',','').isdigit():\\n        return int(book.get('price').replace(',','')):\\n    elif isinstance(book.get('price'), int):\\n        return book.get('price')\\n    else:\\n        return 0   \",\n",
       " '_i299': \"#{'no':6, 'title':'가격이 없음', 'writer': '이난중',} => return 0\\n#{'no':3, 'title':'흔한남매 19', 'writer': '백난도', 'price':'14,220'}, => 14220\\n#{'no':5, 'title':'가격이 숫자', 'writer': '최무식', 'price':900}, => 900\\n\\ndef parse_int(book):\\n    if isinstance(book.get('price'), str) and book.get('price').repalce(',','').isdigit():\\n        return int( book.get('price').replace(',','')):\\n    elif isinstance(book.get('price'), int):\\n        return book.get('price')\\n    else:\\n        return 0   \",\n",
       " '_i300': \"#{'no':6, 'title':'가격이 없음', 'writer': '이난중',} => return 0\\n#{'no':3, 'title':'흔한남매 19', 'writer': '백난도', 'price':'14,220'}, => 14220\\n#{'no':5, 'title':'가격이 숫자', 'writer': '최무식', 'price':900}, => 900\\n\\ndef parse_int(book):\\n    if isinstance(book.get('price'), str) and book.get('price').repalce(',','').isdigit():\\n        return int(book.get('price').replace(',','')):\\n    elif isinstance(book.get('price'), int):\\n        return book.get('price')\\n    else:\\n        return 0   \",\n",
       " '_i301': \"#{'no':6, 'title':'가격이 없음', 'writer': '이난중',} => return 0\\n#{'no':3, 'title':'흔한남매 19', 'writer': '백난도', 'price':'14,220'}, => 14220\\n#{'no':5, 'title':'가격이 숫자', 'writer': '최무식', 'price':900}, => 900\\n\\ndef parse_int(book):\\n    if isinstance(book.get('price'), str) and \\\\\\n                  book.get('price').repalce(',','').isdigit():\\n        return int(book.get('price').replace(',','')):\\n    elif isinstance(book.get('price'), int):\\n        return book.get('price')\\n    else:\\n        return 0   \",\n",
       " '_i302': \"#{'no':6, 'title':'가격이 없음', 'writer': '이난중',} => return 0\\n#{'no':3, 'title':'흔한남매 19', 'writer': '백난도', 'price':'14,220'}, => 14220\\n#{'no':5, 'title':'가격이 숫자', 'writer': '최무식', 'price':900}, => 900\\n\\ndef parse_int(book):\\n    if isinstance(book.get('price'), str) and \\\\\\n                  book.get('price').replace(',','').isdigit():\\n        return int(book.get('price').replace(',','')):\\n    elif isinstance(book.get('price'), int):\\n        return book.get('price')\\n    else:\\n        return 0   \",\n",
       " '_i303': \"#{'no':6, 'title':'가격이 없음', 'writer': '이난중',} => return 0\\n#{'no':3, 'title':'흔한남매 19', 'writer': '백난도', 'price':'14,220'}, => 14220\\n#{'no':5, 'title':'가격이 숫자', 'writer': '최무식', 'price':900}, => 900\\n\\ndef parse_int(book):\\n    if isinstance(book.get('price'), str) and \\\\\\n                  book.get('price').replace(',','').isdigit():\\n        return int(book.get('price').replace(',','')):\\n    elif isinstance(book.get('price'), int):\\n        return book.get('price')\\n    else:\\n        return 0   \",\n",
       " '_i304': \"#{'no':6, 'title':'가격이 없음', 'writer': '이난중',} => return 0\\n#{'no':3, 'title':'흔한남매 19', 'writer': '백난도', 'price':'14,220'}, => 14220\\n#{'no':5, 'title':'가격이 숫자', 'writer': '최무식', 'price':900}, => 900\\n\\ndef parse_int(book):\\n    if isinstance(book.get('price'), str) and \\\\\\n                  book.get('price').replace(',','').isdigit():\\n        return int(book.get('price').replace(',',''):\\n    elif isinstance(book.get('price'), int):\\n        return book.get('price')\\n    else:\\n        return 0   \",\n",
       " '_i305': \"#{'no':6, 'title':'가격이 없음', 'writer': '이난중',} => return 0\\n#{'no':3, 'title':'흔한남매 19', 'writer': '백난도', 'price':'14,220'}, => 14220\\n#{'no':5, 'title':'가격이 숫자', 'writer': '최무식', 'price':900}, => 900\\n\\ndef parse_int(book):\\n    if isinstance(book.get('price'), str) and \\\\\\n                  book.get('price').replace(',','').isdigit():\\n        return int(book.get('price').replace(',','')):\\n    elif isinstance(book.get('price'), int):\\n        return book.get('price')\\n    else:\\n        return 0   \",\n",
       " '_i306': \"#{'no':6, 'title':'가격이 없음', 'writer': '이난중',} => return 0\\n#{'no':3, 'title':'흔한남매 19', 'writer': '백난도', 'price':'14,220'}, => 14220\\n#{'no':5, 'title':'가격이 숫자', 'writer': '최무식', 'price':900}, => 900\\n\\ndef parse_int(book):\\n    if isinstance(book.get('price'), str) and \\\\\\n                  book.get('price').replace(',','').isdigit():\\n        return int(book.get('price').replace(',',''))\\n    elif isinstance(book.get('price'), int):\\n        return book.get('price')\\n    else:\\n        return 0   \",\n",
       " '_i307': 'parse_int(books[0])',\n",
       " '_307': 14220,\n",
       " '_i308': 'parse_int(books[0]), parse_int(books[1]), parse_int(books[2])',\n",
       " '_308': (14220, 15120, 25200),\n",
       " '_i309': \"# 책 제목순 정렬(ㄱ,ㄴ,ㄷ순), 저자순 정렬(ㄱ,ㄴ,ㄷ), 가격순 오름차순 정렬\\n# 결측치 = 0원\\n\\nbooks = [\\n    {'no':1, 'title':'강남 아파트 인사이트', 'writer': '오스틀', 'price':'25,200'},\\n    {'no':2, 'title':'단 한번의 삶', 'writer': '김영하', 'price':'15,120'},\\n    {'no':3, 'title':'흔한남매 19', 'writer': '백난도', 'price':'14,220'},\\n    {'no':4, 'title':'가격이 잘못', 'writer': '홍길동', 'price':'-'},\\n    {'no':5, 'title':'가격이 숫자', 'writer': '최무식', 'price':900},\\n    {'no':6, 'title':'가격이 없음', 'writer': '이난중',}\\n]\",\n",
       " '_i310': 'parse_int(books[0]), parse_int(books[1]), parse_int(books[2])',\n",
       " '_310': (25200, 15120, 14220),\n",
       " '_i311': 'copy_books',\n",
       " '_i312': \"books = [\\n    {'no':1, 'title':'강남 아파트 인사이트', 'writer': '오스틀', 'price':'25,200'},\\n    {'no':2, 'title':'단 한번의 삶', 'writer': '김영하', 'price':'15,120'},\\n    {'no':3, 'title':'흔한남매 19', 'writer': '백난도', 'price':'14,220'},\\n    {'no':4, 'title':'가격이 잘못', 'writer': '홍길동', 'price':'-'},\\n    {'no':5, 'title':'가격이 숫자', 'writer': '최무식', 'price':900},\\n    {'no':6, 'title':'가격이 없음', 'writer': '이난중',}\\n]\\n\\ncopy_books = books.copy()\",\n",
       " 'copy_books': [{'no': 4, 'title': '가격이 잘못', 'writer': '홍길동', 'price': '-'},\n",
       "  {'no': 6, 'title': '가격이 없음', 'writer': '이난중'},\n",
       "  {'no': 5, 'title': '가격이 숫자', 'writer': '최무식', 'price': 900},\n",
       "  {'no': 3, 'title': '흔한남매 19', 'writer': '백난도', 'price': '14,220'},\n",
       "  {'no': 2, 'title': '단 한번의 삶', 'writer': '김영하', 'price': '15,120'},\n",
       "  {'no': 1, 'title': '강남 아파트 인사이트', 'writer': '오스틀', 'price': '25,200'}],\n",
       " '_i313': \"copy_books.sort(key = lambda book : \\n                int(book.get('price').replace(',','')) \\\\    \\n                    if isinstance(book.get('price'), str) and \\\\      #조건\\n                      book.get('price').replace(',','').isdigit() else\\\\\\n                book.get('price') \\\\\\n                if isinstance(book.get('price'), int) else \\\\\\n                0 \\n              \\n               )\",\n",
       " '_i314': 'copy_books',\n",
       " '_314': [{'no': 4, 'title': '가격이 잘못', 'writer': '홍길동', 'price': '-'},\n",
       "  {'no': 6, 'title': '가격이 없음', 'writer': '이난중'},\n",
       "  {'no': 5, 'title': '가격이 숫자', 'writer': '최무식', 'price': 900},\n",
       "  {'no': 3, 'title': '흔한남매 19', 'writer': '백난도', 'price': '14,220'},\n",
       "  {'no': 2, 'title': '단 한번의 삶', 'writer': '김영하', 'price': '15,120'},\n",
       "  {'no': 1, 'title': '강남 아파트 인사이트', 'writer': '오스틀', 'price': '25,200'}],\n",
       " '_i315': \"copy_books.sort(key = lambda book : \\n                int(book.get('price').replace(',','')) \\\\    \\n                    if isinstance(book.get('price'), str) and \\\\      #조건\\n                      book.get('price').replace(',','').isdigit() else\\\\\\n                    book.get('price') \\\\\\n                if isinstance(book.get('price'), int) else \\\\\\n                0 \\n              \\n               )\",\n",
       " '_i316': \"copy_books.sort(key = lambda book : \\n                int(book.get('price').replace(',','')) \\\\    \\n                    if isinstance(book.get('price'), str) and \\\\      #조건\\n                      book.get('price').replace(',','').isdigit() else\\\\\\n                book.get('price') if isinstance(book.get('price'), int) else \\\\\\n                0 \\n              \\n               )\",\n",
       " '_i317': 'copy_books',\n",
       " '_317': [{'no': 4, 'title': '가격이 잘못', 'writer': '홍길동', 'price': '-'},\n",
       "  {'no': 6, 'title': '가격이 없음', 'writer': '이난중'},\n",
       "  {'no': 5, 'title': '가격이 숫자', 'writer': '최무식', 'price': 900},\n",
       "  {'no': 3, 'title': '흔한남매 19', 'writer': '백난도', 'price': '14,220'},\n",
       "  {'no': 2, 'title': '단 한번의 삶', 'writer': '김영하', 'price': '15,120'},\n",
       "  {'no': 1, 'title': '강남 아파트 인사이트', 'writer': '오스틀', 'price': '25,200'}],\n",
       " '_i318': \"copy_books.sort(key = lambda book : \\n                int(book.get('price').replace(',',''))  \\n                    if isinstance(book.get('price'), str) and \\\\      #조건\\n                      book.get('price').replace(',','').isdigit() else\\\\\\n                book.get('price') if isinstance(book.get('price'), int) else \\\\\\n                0 \\n              \\n               )\",\n",
       " '_i319': \"copy_books.sort(key = lambda book : \\n                int(book.get('price').replace(',',''))  \\n                    if isinstance(book.get('price'), str) and\\n                      book.get('price').replace(',','').isdigit() else\\\\\\n                book.get('price') if isinstance(book.get('price'), int) else \\\\\\n                0 \\n              \\n               )\",\n",
       " '_i320': \"copy_books.sort(key = lambda book : \\n                int(book.get('price').replace(',','')) \\\\ \\n                    if isinstance(book.get('price'), str) and \\\\\\n                      book.get('price').replace(',','').isdigit() else\\\\\\n                book.get('price') if isinstance(book.get('price'), int) else \\\\\\n                0 \\n              \\n               )\",\n",
       " '_i321': 'copy_books',\n",
       " '_321': [{'no': 4, 'title': '가격이 잘못', 'writer': '홍길동', 'price': '-'},\n",
       "  {'no': 6, 'title': '가격이 없음', 'writer': '이난중'},\n",
       "  {'no': 5, 'title': '가격이 숫자', 'writer': '최무식', 'price': 900},\n",
       "  {'no': 3, 'title': '흔한남매 19', 'writer': '백난도', 'price': '14,220'},\n",
       "  {'no': 2, 'title': '단 한번의 삶', 'writer': '김영하', 'price': '15,120'},\n",
       "  {'no': 1, 'title': '강남 아파트 인사이트', 'writer': '오스틀', 'price': '25,200'}],\n",
       " '_i322': \"copy_books.sort(key = lambda book : \\n                int(book.get('price').replace(',','')) \\\\\\n                    if isinstance(book.get('price'), str) and \\\\\\n                        book.get('price').replace(',','').isdigit() else\\\\\\n                book.get('price') if isinstance(book.get('price'), int) else \\\\\\n                0 \\n              \\n               )\",\n",
       " '_i323': 'copy_books',\n",
       " '_323': [{'no': 4, 'title': '가격이 잘못', 'writer': '홍길동', 'price': '-'},\n",
       "  {'no': 6, 'title': '가격이 없음', 'writer': '이난중'},\n",
       "  {'no': 5, 'title': '가격이 숫자', 'writer': '최무식', 'price': 900},\n",
       "  {'no': 3, 'title': '흔한남매 19', 'writer': '백난도', 'price': '14,220'},\n",
       "  {'no': 2, 'title': '단 한번의 삶', 'writer': '김영하', 'price': '15,120'},\n",
       "  {'no': 1, 'title': '강남 아파트 인사이트', 'writer': '오스틀', 'price': '25,200'}],\n",
       " '_i324': 'books',\n",
       " '_324': [{'no': 1,\n",
       "   'title': '강남 아파트 인사이트',\n",
       "   'writer': '오스틀',\n",
       "   'price': '25,200'},\n",
       "  {'no': 2, 'title': '단 한번의 삶', 'writer': '김영하', 'price': '15,120'},\n",
       "  {'no': 3, 'title': '흔한남매 19', 'writer': '백난도', 'price': '14,220'},\n",
       "  {'no': 4, 'title': '가격이 잘못', 'writer': '홍길동', 'price': '-'},\n",
       "  {'no': 5, 'title': '가격이 숫자', 'writer': '최무식', 'price': 900},\n",
       "  {'no': 6, 'title': '가격이 없음', 'writer': '이난중'}],\n",
       " '_i325': '# 함수를 return\\ndef make_box(shape) : # shape : [l(길이)], 2차원 [r,c] 3차원 [d,r,c] d,r(가로),c(세로)\\n    # shape : [l] =>가 l인 list를 생성하는 함수 return \\n                                    #[r,c] => r행 c열인 list를 생성하는 함수 return\\n                                    #[d,r,c] => d면 r행 c열 3차원 list를 생성하는 함수 \\n    \\n\\n    def box(init_value):\\n        if len(shape)==1:\\n            return [init_value]*shape[0]    #1차원 리스트\\n        elif len(shape)==2:\\n            return [ [init_value]*shape[1] ] * shape[0]  #2차원 리스트\\n    return box',\n",
       " 'make_box': <function __main__.make_box(shape)>,\n",
       " '_i326': 'box',\n",
       " '_i327': 'line_func = make_box([2,3])',\n",
       " 'line_func': <function __main__.make_box.<locals>.box(init_value)>,\n",
       " '_i328': 'line_func = make_box([2,3])\\nline_func()',\n",
       " '_i329': 'line_func = make_box([2,3])\\nline_func(3)',\n",
       " '_329': [[3, 3, 3], [3, 3, 3]],\n",
       " '_i330': 'line_func = make_box([2,3])\\nline_func(1,3)',\n",
       " '_i331': 'line_func = make_box([2,3])\\nline_func(1)',\n",
       " '_331': [[1, 1, 1], [1, 1, 1]],\n",
       " '_i332': 'line_func = make_box([2,3])\\nline_func(3)',\n",
       " '_332': [[3, 3, 3], [3, 3, 3]],\n",
       " '_i333': 'line_func1 = make_box([10])\\nline_func1(3)',\n",
       " 'line_func1': <function __main__.make_box.<locals>.box(init_value)>,\n",
       " '_333': [3, 3, 3, 3, 3, 3, 3, 3, 3, 3],\n",
       " '_i334': 'def make_box(shape):\\n    if len(shape)==1:\\n        return lambda init_value : [init_value]*shape[0]\\n    elif len(shape)==2:\\n        return lambda init_value : [[init_value]*shape[1]]*shape[0]',\n",
       " '_i335': 'globals()'}"
      ]
     },
     "execution_count": 335,
     "metadata": {},
     "output_type": "execute_result"
    }
   ],
   "source": [
    "globals() #전역변수 리스트"
   ]
  },
  {
   "cell_type": "code",
   "execution_count": 336,
   "id": "3ea1bca6",
   "metadata": {
    "collapsed": true
   },
   "outputs": [
    {
     "data": {
      "text/plain": [
       "{'__name__': '__main__',\n",
       " '__doc__': \"\\n{'name':'홍길동', 'year':2000, 'month':1, 'day':1}]을\\n{'name':'홍길동', 'birth':'2000-01-01'}로 가공\\n\",\n",
       " '__package__': None,\n",
       " '__loader__': None,\n",
       " '__spec__': None,\n",
       " '__builtin__': <module 'builtins' (built-in)>,\n",
       " '__builtins__': <module 'builtins' (built-in)>,\n",
       " '_ih': ['',\n",
       "  'from IPython.display import display, HTML \\ndisplay(HTML(\"\"\"\\n<style>\\ndiv.container{width:86% !important;}\\ndiv.cell.code_cell.rendered{width:100%;}\\ndiv.CodeMirror {font-family:Consolas; font-size:15pt;}\\ndiv.output {font-size:15pt; font-weight:bold;}\\ndiv.input {font-family:Consolas; font-size:15pt;}\\ndiv.prompt {min-width:70px;}\\ndiv#toc-wrapper{padding-top:120px;}\\ndiv.text_cell_render ul li{font-size:12pt;padding:5px;}\\ntable.dataframe{font-size:15px;}\\n</style>\\n \"\"\"))',\n",
       "  'from IPython.display import display, HTML \\ndisplay(HTML(\"\"\"\\n<style>\\ndiv.container{width:86% !important;}\\ndiv.cell.code_cell.rendered{width:100%;}\\ndiv.CodeMirror {font-family:Consolas; font-size:15pt;}\\ndiv.output {font-size:15pt; font-weight:bold;}\\ndiv.input {font-family:Consolas; font-size:15pt;}\\ndiv.prompt {min-width:70px;}\\ndiv#toc-wrapper{padding-top:120px;}\\ndiv.text_cell_render ul li{font-size:12pt;padding:5px;}\\ntable.dataframe{font-size:15px;}\\n</style>\\n \"\"\"))',\n",
       "  'list_data = [1, 2, 3, 4, 5, 6, 7, 8, 9, 10]\\ndef x_2(x):\\n    return x*2\\nmap_templatd(x2, list_data)',\n",
       "  \"def map_tamplate(func, L=[]):\\n    '''\\n    L의 모든 요소를 func()함수를 적용시켜 reteurn\\n    [2, 4, 6] [func(1) for l in L]\\n    '''\\n    result = []\\n    for l in L:\\n        result.append(func(1))\\n    return result \\n#    return [func(1) for l in L]\",\n",
       "  'list_data = [1, 2, 3, 4, 5, 6, 7, 8, 9, 10]\\ndef x_2(x):\\n    return x*2\\nmap_templatd(x2, list_data)',\n",
       "  'list_data = [1, 2, 3, 4, 5, 6, 7, 8, 9, 10]\\ndef x_2(x):\\n    return x*2\\nmap_tamplate(x2, list_data)',\n",
       "  'list_data = [1, 2, 3, 4, 5, 6, 7, 8, 9, 10]\\ndef x_2(x):\\n    return x*2\\nmap_tamplate(x_2, list_data)',\n",
       "  \"'''\\nL의 모든 요소를 func()함수를 적용시켜 reteurn\\n[2, 4, 6] [func(1) for l in L]\\n'''\\ndef map_template(func, L=[]):\\nresult = []\\nfor l in L:\\n    result.append(func(l))  # ← 이제 각 요소에 함수 적용!\\nreturn result\\n#    return [func(1) for l in L]\",\n",
       "  'list_data = [1, 2, 3, 4, 5, 6, 7, 8, 9, 10]\\ndef x_2(x):\\n    return x*2\\nmap_tamplate(x_2, list_data)',\n",
       "  \"'''\\nL의 모든 요소를 func()함수를 적용시켜 reteurn\\n[2, 4, 6] [func(1) for l in L]\\n'''\\ndef map_template(func, L=[]):\\nresult = []\\n    for l in L:\\n        result.append(func(l))  # ← 이제 각 요소에 함수 적용!\\n    return result\\n#    return [func(1) for l in L]\",\n",
       "  'list_data = [1, 2, 3, 4, 5, 6, 7, 8, 9, 10]\\ndef x_2(x):\\n    return x*2\\nmap_tamplate(x_2, list_data)',\n",
       "  \"def map_tamplate(func, L=[]):\\n    '''\\n    L의 모든 요소를 func()함수를 적용시켜 reteurn\\n    [2, 4, 6] [func(1) for l in L]\\n    '''\\n    result = []\\n    for l in L:\\n        result.append(func(1))\\n    return result \\n#    return [func(1) for l in L]\",\n",
       "  'list_data = [1, 2, 3, 4, 5, 6, 7, 8, 9, 10]\\ndef x_2(x):\\n    return x*2\\nmap_tamplate(x_2, list_data)',\n",
       "  \"def map_tamplate(func, L=[]):\\n    '''\\n    L의 모든 요소를 func()함수를 적용시켜 reteurn\\n    [2, 4, 6] [func(1) for l in L]\\n    '''\\n    result = []\\n    for l in L:\\n        result.append(func(1))\\n    return result \\n#    return [func(1) for l in L]\",\n",
       "  'list_data = [1, 2, 3, 4, 5, 6, 7, 8, 9, 10]\\nmap_template(lambda x : x*2, list_data)',\n",
       "  'list_data = [1, 2, 3, 4, 5, 6, 7, 8, 9, 10]\\nmap_tamplate(lambda x : x*2, list_data)',\n",
       "  \"def map_tamplate(func, L=[]):\\n    '''\\n    L의 모든 요소를 func()함수를 적용시켜 reteurn\\n    [2, 4, 6] [func(1) for l in L]\\n    '''\\n    result = []\\n    for l in L:\\n        result.append(func(2))\\n    return result \\n#    return [func(1) for l in L]\",\n",
       "  'list_data = [1, 2, 3, 4, 5, 6, 7, 8, 9, 10]\\nmap_tamplate(lambda x : x*2, list_data)',\n",
       "  \"def map_tamplate(func, L=[]):\\n    '''\\n    L의 모든 요소를 func()함수를 적용시켜 reteurn\\n    [2, 4, 6] [func(1) for l in L]\\n    '''\\n    result = []\\n    for l in L:\\n        result.append(func(1))\\n    return result \\n#    return [func(1) for l in L]\",\n",
       "  'list_data = [1, 2, 3, 4, 5, 6, 7, 8, 9, 10]\\nmap_tamplate(lambda x : x*2, list_data)',\n",
       "  \"def map_tamplate(func, L=[]):\\n    '''\\n    L의 모든 요소를 func()함수를 적용시켜 reteurn\\n    [2, 4, 6] [func(1) for l in L]\\n    '''\\n    result = []\\n    for l in L:\\n        result.append(func(x))\\n    return result \\n#    return [func(1) for l in L]\",\n",
       "  '#리스트 데이터를 가공하는 방법\\nlist_data = [1, 2, 3, 4, 5, 6, 7, 8, 9, 10]\\nmap_tamplate(lambda x : x*2, list_data)',\n",
       "  \"def map_tamplate(func, L=[]):\\n    '''\\n    L의 모든 요소를 func()함수를 적용시켜 reteurn\\n    [2, 4, 6] [func(1) for l in L]\\n    '''\\n    result = []\\n    for l in L:\\n        result.append(func(1))\\n    return result \\n#    return [func(1) for l in L]\",\n",
       "  '#리스트 데이터를 가공하는 방법\\nlist_data = [1, 2, 3, 4, 5, 6, 7, 8, 9, 10]\\nmap_tamplate(lambda x : x*2, list_data)',\n",
       "  \"# 리스트 데이터를 가공 방법 1.map\\ndef map_tamplate(func, L=[]):\\n    '''\\n    L의 모든 요소를 func()함수를 적용시켜 reteurn\\n    [2, 4, 6] [func(1) for l in L]\\n    '''\\n    result = []\\n    for l in L:\\n        result.append(func(l))\\n    return result \\n#    return [func(1) for l in L]\",\n",
       "  '#리스트 데이터를 가공하는 방법 2.리스트 컴프리헨션\\nlist_data = [1, 2, 3, 4, 5, 6, 7, 8, 9, 10]\\nmap_tamplate(lambda x : x*2, list_data)',\n",
       "  '# 리스트 데이터를 가공 방법 3.map():파이썬 내장함수\\nmap(lambda x : x2,list_data)',\n",
       "  '# 리스트 데이터를 가공 방법 3.map():파이썬 내장함수\\nlist(map(lambda x : x2,list_data))',\n",
       "  '# 리스트 데이터를 가공 방법 3.map():파이썬 내장함수\\nlist(map(lambda x : x*2,list_data))',\n",
       "  '# 리스트 데이터를 가공 방법 3.map():파이썬 내장함수\\nmap(lambda x : x*2,list_data)',\n",
       "  'for item in map(lambda x : x*2, list_data):\\n    print(item, end=\" \")',\n",
       "  'for item in map(lambda x : x*2, list_data):\\n    print(item, end=\" \")\\nlist(map(lambda x : x*2,list_data))',\n",
       "  \"'''\\n예시 1. prices = [5000,800,1000,6000]로 변경 \\n'''\\n\\nprices = ['5,000', '800', '1000','6,000']\\nprint(prices.spled)\",\n",
       "  \"'''\\n예시 1. prices = [5000,800,1000,6000]로 변경 \\n'''\\n\\nprices = ['5,000', '800', '1000','6,000']\\nprint(prices.split())\",\n",
       "  \"'''\\n예시 1. prices = [5000,800,1000,6000]로 변경 \\n'''\\n\\nprices = ['5,000', '800', '1000','6,000']\\nprint(prices.split())\",\n",
       "  \"'''\\n예시 1. prices = [5000,800,1000,6000]로 변경 \\n'''\\n\\nprices = ['5,000', '800', '1000','6,000']\",\n",
       "  \"'''\\n예시 1. prices = [5000,800,1000,6000]로 변경 \\n'''\\n\\nprices = ['5,000', '800', '1000','6,000']\\nint(prices)\",\n",
       "  \"'''\\n예시 1. prices = [5000,800,1000,6000]로 변경 \\n'''\\n\\nprices = ['5,000', '800', '1000','6,000']\\nprint(int(prices))\",\n",
       "  \"'''\\n예시 1. prices = [5000,800,1000,6000]로 변경 \\n'''\\n\\nprices = ['5,000', '800', '1000','6,000']\",\n",
       "  \"'''\\n예시 1. prices = [5000,800,1000,6000]로 변경 \\n'''\\n\\nprices = ['5,000', '800', '1000','6,000']\\n\\ntmep = (int(prices.replace(',','')) for price in price_list)\\nconverted = [int(price.replace(',', '')) for price in price_list]\\n\\nprint(converted)  # [5000, 3000, 200]\",\n",
       "  \"'''\\n예시 1. prices = [5000,800,1000,6000]로 변경 \\n'''\\n\\nprices = ['5,000', '800', '1000','6,000']\\n\\ntemp = (int(prices.replace(',','')) for price in price_list)\\nprint(temp)\",\n",
       "  \"'''\\n예시 1. prices = [5000,800,1000,6000]로 변경 \\n'''\\n\\nprices = ['5,000', '800', '1000','6,000']\\n\\ntemp = [int(prices.replace(',','')) for price in price_list]\\nprint(temp)\",\n",
       "  \"'''\\n예시 1. prices = [5000,800,1000,6000]로 변경 \\n'''\\n\\nprices = ['5,000', '800', '1000','6,000']\\n\\ntemp = [int(prices.replace(',','')) for price in price]\\nprint(temp)\",\n",
       "  \"'''\\n예시 1. prices = [5000,800,1000,6000]로 변경 \\n'''\\n\\nprices = ['5,000', '800', '1000','6,000']\\n\\ntemp = [int(prices.replace(',','')) for price in prices]\\nprint(temp)\",\n",
       "  \"'''\\n예시 1. prices = [5000,800,1000,6000]로 변경 \\n'''\\n\\nprices = ['5,000', '800', '1000','6,000']\\n\\ntemp = [int(prices.replace(',','')) for prices in prices]\\nprint(temp)\",\n",
       "  \"'''\\n예시2. member1 = [{'name':'홍길동', 'brith':'2000-01-01'},\\n                {'name':'신길동', 'brith':'1998-12-31'}]\\n    member2 = [{'name':'홍길동', 'year':2000, 'month':1, 'day':1}],\\n                {'name':'신길동', 'year':1998, 'month':12, 'day':31] \\n'''\\n#년, 월, 일 분리 필요\\n# year추가 , month 추가, day 추가 \\nmember1 = [{'name':'홍길동', 'brith':'2000-01-01'},\\n                {'name':'신길동', 'brith':'1998-12-31'}]\\nmember2 = [{'name':'홍길동', 'year':2000, 'month':1, 'day':1}],\\n                {'name':'신길동', 'year':1998, 'month':12, 'day':31] \\nmember1[brith]=200\",\n",
       "  \"'''\\n예시2. member1 = [{'name':'홍길동', 'brith':'2000-01-01'},\\n                {'name':'신길동', 'brith':'1998-12-31'}]\\n    member2 = [{'name':'홍길동', 'year':2000, 'month':1, 'day':1}],\\n                {'name':'신길동', 'year':1998, 'month':12, 'day':31}] \\n'''\\n#년, 월, 일 분리 필요\\n# year추가 , month 추가, day 추가 \\nmember1 = [{'name':'홍길동', 'brith':'2000-01-01'},\\n                {'name':'신길동', 'brith':'1998-12-31'}]\\n\\nmember1[brith]=200\",\n",
       "  \"'''\\n예시2. member1 = [{'name':'홍길동', 'brith':'2000-01-01'},\\n                {'name':'신길동', 'brith':'1998-12-31'}]\\n    member2 = [{'name':'홍길동', 'year':2000, 'month':1, 'day':1}],\\n                {'name':'신길동', 'year':1998, 'month':12, 'day':31}] \\n'''\\n#년, 월, 일 분리 필요\\n# year추가 , month 추가, day 추가 \\nmember1 = [{'name':'홍길동', 'brith':'2000-01-01'},\\n                {'name':'신길동', 'brith':'1998-12-31'}]\\n\\nmember1['brith']=2000\",\n",
       "  \"'''\\n예시2. member1 = [{'name':'홍길동', 'brith':'2000-01-01'},\\n                {'name':'신길동', 'brith':'1998-12-31'}]\\n    member2 = [{'name':'홍길동', 'year':2000, 'month':1, 'day':1}],\\n                {'name':'신길동', 'year':1998, 'month':12, 'day':31}] \\n'''\\n#년, 월, 일 분리 필요\\n# year추가 , month 추가, day 추가 \\nmember1 = [{'name':'홍길동', 'brith':'2000-01-01'},\\n                {'name':'신길동', 'brith':'1998-12-31'}]\\n\\nmember1['brith']=srt(2000)\",\n",
       "  \"'''\\n예시2. member1 = [{'name':'홍길동', 'brith':'2000-01-01'},\\n                {'name':'신길동', 'brith':'1998-12-31'}]\\n    member2 = [{'name':'홍길동', 'year':2000, 'month':1, 'day':1}],\\n                {'name':'신길동', 'year':1998, 'month':12, 'day':31}] \\n'''\\n#년, 월, 일 분리 필요\\n# year추가 , month 추가, day 추가 \\nmember1 = [{'name':'홍길동', 'brith':'2000-01-01'},\\n                {'name':'신길동', 'brith':'1998-12-31'}]\\n\\nmember1['brith']=str(2000)\",\n",
       "  \"'''\\n예시2. member1 = [{'name':'홍길동', 'brith':'2000-01-01'},\\n                {'name':'신길동', 'brith':'1998-12-31'}]\\n    member2 = [{'name':'홍길동', 'year':2000, 'month':1, 'day':1}],\\n                {'name':'신길동', 'year':1998, 'month':12, 'day':31}] \\n'''\\n#년, 월, 일 분리 필요\\n# year추가 , month 추가, day 추가 \\nmember1 = [{'name':'홍길동', 'brith':'2000-01-01'},\\n                {'name':'신길동', 'brith':'1998-12-31'}]\\n\\nmember1['brith'] = 'str(2000)''\",\n",
       "  \"'''\\n예시2. member1 = [{'name':'홍길동', 'brith':'2000-01-01'},\\n                {'name':'신길동', 'brith':'1998-12-31'}]\\n    member2 = [{'name':'홍길동', 'year':2000, 'month':1, 'day':1}],\\n                {'name':'신길동', 'year':1998, 'month':12, 'day':31}] \\n'''\\n#년, 월, 일 분리 필요\\n# year추가 , month 추가, day 추가 \\nmember1 = [{'name':'홍길동', 'brith':'2000-01-01'},\\n                {'name':'신길동', 'brith':'1998-12-31'}]\\n\\nmember1['brith'] = 'str(2000)'\",\n",
       "  \"'''\\n예시2. member1 = [{'name':'홍길동', 'brith':'2000-01-01'},\\n                {'name':'신길동', 'brith':'1998-12-31'}]\\n    member2 = [{'name':'홍길동', 'year':2000, 'month':1, 'day':1}],\\n                {'name':'신길동', 'year':1998, 'month':12, 'day':31}] \\n'''\\n#년, 월, 일 분리 필요\\n# year추가 , month 추가, day 추가 \\nmember1 = [{'name':'홍길동', 'brith':'2000-01-01'},\\n                {'name':'신길동', 'brith':'1998-12-31'}]\\n\\nmember1['brith'] = str('2000')\",\n",
       "  \"'''\\n예시2. member1 = [{'name':'홍길동', 'brith':'2000-01-01'},\\n                {'name':'신길동', 'brith':'1998-12-31'}]\\n    member2 = [{'name':'홍길동', 'year':2000, 'month':1, 'day':1}],\\n                {'name':'신길동', 'year':1998, 'month':12, 'day':31}] \\n'''\\n#년, 월, 일 분리 필요\\n# year추가 , month 추가, day 추가 \\nmember1 = [{'name':'홍길동', 'brith':'2000-01-01'},\\n                {'name':'신길동', 'brith':'1998-12-31'}]\\n\\nmember1['brith'] = int('2000')\",\n",
       "  \"'''\\n예시2. member1 = [{'name':'홍길동', 'brith':'2000-01-01'},\\n                {'name':'신길동', 'brith':'1998-12-31'}]\\n    member2 = [{'name':'홍길동', 'year':2000, 'month':1, 'day':1}],\\n                {'name':'신길동', 'year':1998, 'month':12, 'day':31}] \\n'''\\n#년, 월, 일 분리 필요\\n# year추가 , month 추가, day 추가 \\nmember1 = [{'name':'홍길동', 'brith':'2000-01-01'},\\n                {'name':'신길동', 'brith':'1998-12-31'}]\\n\\nmember1['brith'] = int(2000)\",\n",
       "  \"'''\\n예시2. member1 = [{'name':'홍길동', 'brith':'2000-01-01'},\\n                {'name':'신길동', 'brith':'1998-12-31'}]\\n    member2 = [{'name':'홍길동', 'year':2000, 'month':1, 'day':1}],\\n                {'name':'신길동', 'year':1998, 'month':12, 'day':31}] \\n'''\\n#년, 월, 일 분리 필요\\n# year추가 , month 추가, day 추가 \\nmember1 = [{'name':'홍길동', 'brith':'2000-01-01'},\\n                {'name':'신길동', 'brith':'1998-12-31'}]\\n\\nmember1['brith'] = 2000\",\n",
       "  \"'''\\n예시2. member1 = [{'name':'홍길동', 'brith':'2000-01-01'},\\n                {'name':'신길동', 'brith':'1998-12-31'}]\\n    member2 = [{'name':'홍길동', 'year':2000, 'month':1, 'day':1}],\\n                {'name':'신길동', 'year':1998, 'month':12, 'day':31}] \\n'''\\n#년, 월, 일 분리 필요 (split)\\n# year추가 , month 추가, day 추가 \\nmember1 = [{'name':'홍길동', 'brith':'2000-01-01'},\\n                {'name':'신길동', 'brith':'1998-12-31'}]\\n'year' : member1.split[0]\",\n",
       "  \"def func(x):\\n    return int(x.replace(',', ''))\",\n",
       "  \"def func(x):\\n    return int(x.replace(',', ''))\\nprint(func)\",\n",
       "  \"def func(x):\\n    return int(x.replace(',', ''))\\nprint(prices)\",\n",
       "  \"def func(x):\\n    return (int(x.replace(',', '')))\\nprint(prices)\",\n",
       "  \"def func(x):\\n    return int(x.replace(',', ''))\\nprint(prices)\",\n",
       "  'int(\" \")',\n",
       "  \"def func(x):\\n    return int(x.replace(',', ''))\\nprint(prices)\",\n",
       "  \"def func(x):\\n    return int(x.replace(',', ''))\\nprint(int(prices)\",\n",
       "  \"def func(x):\\n    return int(x.replace(',', ''))\\nprint(int(prices))\",\n",
       "  'def func(x):\\n    return int(x.replace(\\',\\', \\'\\'))\\nprint(\"5,000\"',\n",
       "  'def func(x):\\n    return int(x.replace(\\',\\', \\'\\'))\\nprint(\"5,000\")',\n",
       "  \"print(map(lambda x : int(x.replace(',', '')), prices))\",\n",
       "  \"list(map(lambda x : int(x.replace(',', '')), prices))\",\n",
       "  '\\'\\'\\'\\n예시2. member1 = [{\\'name\\':\\'홍길동\\', \\'brith\\':\\'2000-01-01\\'},\\n                {\\'name\\':\\'신길동\\', \\'brith\\':\\'1998-12-31\\'}]\\n    member2 = [{\\'name\\':\\'홍길동\\', \\'year\\':2000, \\'month\\':1, \\'day\\':1}],\\n                {\\'name\\':\\'신길동\\', \\'year\\':1998, \\'month\\':12, \\'day\\':31}] \\n\\'\\'\\'\\n#년, 월, 일 분리 필요 (split)\\n# year추가 , month 추가, day 추가 \\nmember1 = [{\\'name\\':\\'홍길동\\', \\'brith\\':\\'2000-01-01\\'},\\n           {\\'name\\':\\'신길동\\', \\'brith\\':\\'1998-12-31\\'}]\\nmember2= [{\\n    \"name\" : 신길동\\n    \\'year\\' : member1.split[-][0]\\n    \\'month\\': meber1.split[-][1]\\n    \\'day\\' : member1.split[-][2]\\n}]',\n",
       "  \"'''\\n예시 3. member2 를 member1로 바꿉니다.\\n\\n'''\",\n",
       "  '\\'\\'\\'\\n예시2. member1 = [{\\'name\\':\\'홍길동\\', \\'brith\\':\\'2000-01-01\\'},\\n                {\\'name\\':\\'신길동\\', \\'brith\\':\\'1998-12-31\\'}]\\n    member2 = [{\\'name\\':\\'홍길동\\', \\'year\\':2000, \\'month\\':1, \\'day\\':1}],\\n                {\\'name\\':\\'신길동\\', \\'year\\':1998, \\'month\\':12, \\'day\\':31}] \\n\\'\\'\\'\\n#년, 월, 일 분리 필요 (split)\\n# year추가 , month 추가, day 추가 \\nmember1 = [{\\'name\\':\\'홍길동\\', \\'brith\\':\\'2000-01-01\\'},\\n           {\\'name\\':\\'신길동\\', \\'brith\\':\\'1998-12-31\\'}]\\nmember2= [{\\n    \"name\" : 신길동\\n    \\'year\\' : member1.split[-][0]\\n    \\'month\\': meber1.split[-][1]\\n    \\'day\\' : member1.split[-][2]\\n}]\\n\\nprint(member2)',\n",
       "  \"# 2000-01-01 → {'year':1998, 'month':12, 'day':31}\\ndef split_data(data):\\n    split_data = data.split('-')\\n    print(split_data)\",\n",
       "  'split_data(2000-01-01)',\n",
       "  \"# 2000-01-01 → {'year':1998, 'month':12, 'day':31}\\ndef split_data(data):\\n    split_data = data.split('-')\\n    print(split_data)\",\n",
       "  'split_data(2000-01-01)',\n",
       "  'split_data(\"2000-01-01\")',\n",
       "  \"# 2000-01-01 → {'year':1998, 'month':12, 'day':31}\\ndef split_data(data):\\n    split_data = data.split('-')\\n    print(split_data[0],split_data[1],split_data[2])\",\n",
       "  'split_data(\"2000-01-01\")',\n",
       "  \"# 2000-01-01 → {'year':1998, 'month':12, 'day':31}\\ndef split_data(data):\\n    split_data = data.split('-')\\n    print(split_data[0],split_data[1],split_data[2])\\n    print( {'year' : int(split_data[0]),\\n            'month': int(split_data[1]),\\n            'day'  : int(split_data[2])})\",\n",
       "  'split_data(\"2000-01-01\")',\n",
       "  'split_data(\"2000-01-01\")',\n",
       "  'split_data()',\n",
       "  \"split_data('2000-01-01')\",\n",
       "  \"# 2000-01-01 → {'year':1998, 'month':12, 'day':31}\\ndef split_data(data):\\n    split_data = data.split('-')\\n    #print(split_data[0],split_data[1],split_data[2])\\n    print( {'year' : int(split_data[0]),\\n            'month': int(split_data[1]),\\n            'day'  : int(split_data[2])})\",\n",
       "  \"split_data('2000-01-01')\",\n",
       "  \"# 2000-01-01 → {'year':1998, 'month':12, 'day':31}\\ndef split_data(data):\\n    split_data = data.split('-')\\n    #print(split_data[0],split_data[1],split_data[2])\\n    return ( {'year' : int(split_data[0]),\\n            'month': int(split_data[1]),\\n            'day'  : int(split_data[2])})\",\n",
       "  \"split_data('2000-01-01')\",\n",
       "  '\\'\\'\\'\\n예시2. member1 = [{\\'name\\':\\'홍길동\\', \\'brith\\':\\'2000-01-01\\'},\\n                {\\'name\\':\\'신길동\\', \\'brith\\':\\'1998-12-31\\'}]\\n    member2 = [{\\'name\\':\\'홍길동\\', \\'year\\':2000, \\'month\\':1, \\'day\\':1}],\\n                {\\'name\\':\\'신길동\\', \\'year\\':1998, \\'month\\':12, \\'day\\':31}] \\n\\'\\'\\'\\n#년, 월, 일 분리 필요 (split)\\n# year추가 , month 추가, day 추가 \\nmember1 = [{\\'name\\':\\'홍길동\\', \\'brith\\':\\'2000-01-01\\'},\\n           {\\'name\\':\\'신길동\\', \\'brith\\':\\'1998-12-31\\'}]\\nmember2= [{\\n    \"name\" : 신길동\\n    \\'year\\' : int(member1.split[-][0])\\n    \\'month\\': int(meber1.split[-][1])\\n    \\'day\\' : int(member1.split[-][2])\\n}]\\n\\nprint(member2)',\n",
       "  'def member_func(member): #{\\'name\\':\\'홍길동\\', \\'brith\\':\\'2000-01-01\\'\\n    \"{\\'name\\':\\'신길동\\', \\'year\\':1998, \\'month\\':12, \\'day\\':31} 이런식으로 return\"\\n    return {\\n        \\'name\\'  : member.get(\\'name\\'),\\n        \\'year\\'  : int(member[\\'birth\\'].split(\\'-\\')[0]),  #get함수 스타일로 써도 됨. \\n        \\'month\\' : int(member[\\'birth\\'].split(\\'-\\')[1]),\\n        \\'day\\'   : int(member[\\'birth\\'].split(\\'-\\')[2])\\n    }',\n",
       "  'member_func(member)',\n",
       "  'member_func(member2)',\n",
       "  'member_func(member1)',\n",
       "  \"member1 = [{'name':'홍길동', 'brith':'2000-01-01'},\\n                {'name':'신길동', 'brith':'1998-12-31'}]\\n    member2 = [{'name':'홍길동', 'year':2000, 'month':1, 'day':1}],\\n                {'name':'신길동', 'year':1998, 'month':12, 'day':31}] \",\n",
       "  \"member1 = [{'name':'홍길동', 'brith':'2000-01-01'},\\n                {'name':'신길동', 'brith':'1998-12-31'}]\",\n",
       "  'member1',\n",
       "  'def member_func(member): #{\\'name\\':\\'홍길동\\', \\'brith\\':\\'2000-01-01\\'\\n    \"{\\'name\\':\\'신길동\\', \\'year\\':1998, \\'month\\':12, \\'day\\':31} 이런식으로 return\"\\n    return {\\n        \\'name\\'  : member.get(\\'name\\'),\\n        \\'year\\'  : int(member[\\'birth\\'].split(\\'-\\')[0]),  #get함수 스타일로 써도 됨. \\n        \\'month\\' : int(member[\\'birth\\'].split(\\'-\\')[1]),\\n        \\'day\\'   : int(member[\\'birth\\'].split(\\'-\\')[2])\\n    }',\n",
       "  'member_func(member1[0])',\n",
       "  'def member_func(member): #{\\'name\\':\\'홍길동\\', \\'brith\\':\\'2000-01-01\\'\\n    \"{\\'name\\':\\'신길동\\', \\'year\\':1998, \\'month\\':12, \\'day\\':31} 이런식으로 return\"\\n    return {\\n        \\'name\\'  : member.get(\\'name\\'),\\n        \\'year\\'  : int(member[\\'birth\\'].split(\\'-\\')[0]),  #get함수 스타일로 써도 됨. \\n        \\'month\\' : int(member[\\'birth\\'].split(\\'-\\')[1]),\\n        \\'day\\'   : int(member[\\'birth\\'].split(\\'-\\')[2])\\n    }\\nmember_func(member1[0])',\n",
       "  \"member1 = [{'name':'홍길동', 'brith':'2000-01-01'},\\n         {'name':'신길동', 'brith':'1998-12-31'}]\",\n",
       "  \"# 2000-01-01 → {'year':1998, 'month':12, 'day':31}\\ndef split_data(data):\\n    split_data = data.split('-')\\n    #print(split_data[0],split_data[1],split_data[2])\\n    return {'year' : int(split_data[0]),\\n            'month': int(split_data[1]),\\n            'day'  : int(split_data[2])}\",\n",
       "  \"split_data('2000-01-01')\",\n",
       "  'def member_func(member): #{\\'name\\':\\'홍길동\\', \\'brith\\':\\'2000-01-01\\'\\n    \"{\\'name\\':\\'신길동\\', \\'year\\':1998, \\'month\\':12, \\'day\\':31} 이런식으로 return\"\\n    return {\\n        \\'name\\'  : member.get(\\'name\\'),\\n        \\'year\\'  : int(member[\\'birth\\'].split(\\'-\\')[0]),  #get함수 스타일로 써도 됨. \\n        \\'month\\' : int(member[\\'birth\\'].split(\\'-\\')[1]),\\n        \\'day\\'   : int(member[\\'birth\\'].split(\\'-\\')[2])\\n    }\\nmember_func(member1[0])',\n",
       "  'def member_func(member): #{\\'name\\':\\'홍길동\\', \\'brith\\':\\'2000-01-01\\'\\n    \"{\\'name\\':\\'신길동\\', \\'year\\':1998, \\'month\\':12, \\'day\\':31} 이런식으로 return\"\\n    return {\\n        \\'name\\'  : member.get(\\'name\\'),\\n        \\'year\\'  : int(member[\\'birth\\'].split(\\'-\\')[0]),  #get함수 스타일로 써도 됨. \\n        \\'month\\' : int(member[\\'birth\\'].split(\\'-\\')[1]),\\n        \\'day\\'   : int(member[\\'birth\\'].split(\\'-\\')[2])\\n    }\\nmember_func(member1)',\n",
       "  \"list(map(lambda member : {\\n                            'name'  : member.get('name'),\\n                            'year'  : int(member['birth'].split('-')[0]),  \\n                            'month' : int(member['birth'].split('-')[1]),\\n                            'day'   : int(member['birth'].split('-')[2]}))\",\n",
       "  \"list(map(lambda member : {\\n                            'name'  : member.get('name'),\\n                            'year'  : int(member['birth'].split('-')[0]),  \\n                            'month' : int(member['birth'].split('-')[1]),\\n                            'day'   : int(member['birth'].split('-')[2]},))\",\n",
       "  'def member_func(member): #{\\'name\\':\\'홍길동\\', \\'brith\\':\\'2000-01-01\\'\\n    \"{\\'name\\':\\'신길동\\', \\'year\\':1998, \\'month\\':12, \\'day\\':31} 이런식으로 return\"\\n    return {\\n        \\'name\\'  : member.get(\\'name\\'),\\n        \\'year\\'  : int(member[\\'birth\\'].split(\\'-\\')[0]),  #get함수 스타일로 써도 됨. \\n        \\'month\\' : int(member[\\'birth\\'].split(\\'-\\')[1]),\\n        \\'day\\'   : int(member[\\'birth\\'].split(\\'-\\')[2]),\\n    }\\nmember_func(member1)',\n",
       "  'def member_func(member): #{\\'name\\':\\'홍길동\\', \\'brith\\':\\'2000-01-01\\'\\n    \"{\\'name\\':\\'신길동\\', \\'year\\':1998, \\'month\\':12, \\'day\\':31} 이런식으로 return\"\\n    return {\\n        \\'name\\'  : member.get(\\'name\\'),\\n        \\'year\\'  : int(member[\\'birth\\'].split(\\'-\\')[0]),  #get함수 스타일로 써도 됨. \\n        \\'month\\' : int(member[\\'birth\\'].split(\\'-\\')[1]),\\n        \\'day\\'   : int(member[\\'birth\\'].split(\\'-\\')[2]),\\n    }))',\n",
       "  'def member_func(member): #{\\'name\\':\\'홍길동\\', \\'brith\\':\\'2000-01-01\\'\\n    \"{\\'name\\':\\'신길동\\', \\'year\\':1998, \\'month\\':12, \\'day\\':31} 이런식으로 return\"\\n    return {\\n        \\'name\\'  : member.get(\\'name\\'),\\n        \\'year\\'  : int(member[\\'birth\\'].split(\\'-\\')[0]),  #get함수 스타일로 써도 됨. \\n        \\'month\\' : int(member[\\'birth\\'].split(\\'-\\')[1]),\\n        \\'day\\'   : int(member[\\'birth\\'].split(\\'-\\')[2]),\\n    })',\n",
       "  'def member_func(member): #{\\'name\\':\\'홍길동\\', \\'brith\\':\\'2000-01-01\\'\\n    \"{\\'name\\':\\'신길동\\', \\'year\\':1998, \\'month\\':12, \\'day\\':31} 이런식으로 return\"\\n    return {\\n        \\'name\\'  : member.get(\\'name\\'),\\n        \\'year\\'  : int(member[\\'birth\\'].split(\\'-\\')[0]),  #get함수 스타일로 써도 됨. \\n        \\'month\\' : int(member[\\'birth\\'].split(\\'-\\')[1]),\\n        \\'day\\'   : int(member[\\'birth\\'].split(\\'-\\')[2]),\\n    }',\n",
       "  \"list(map(lambda member : {\\n                            'name'  : member.get('name'),\\n                            'year'  : int(member['birth'].split('-')[0]),  \\n                            'month' : int(member['birth'].split('-')[1]),\\n                            'day'   : int(member['birth'].split('-')[2]},))\",\n",
       "  \"list(map(lambda member : {\\n                            'name'  : member.get('name'),\\n                            'year'  : int(member['birth'].split('-')[0]),  \\n                            'month' : int(member['birth'].split('-')[1]),\\n                            'day'   : int(member['birth'].split('-')[2])},))\",\n",
       "  \"list(map(lambda member : {\\n                            'name'  : member.get('name'),\\n                            'year'  : int(member['birth'].split('-')[0]),  \\n                            'month' : int(member['birth'].split('-')[1]),\\n                            'day'   : int(member['birth'].split('-')[2],\\n                            }, member1))member2\",\n",
       "  \"member2 = list(map(lambda member : {\\n                            'name'  : member.get('name'),\\n                            'year'  : int(member['birth'].split('-')[0]),  \\n                            'month' : int(member['birth'].split('-')[1]),\\n                            'day'   : int(member['birth'].split('-')[2],\\n                            }, \\n        member1\\n        )\\n    )\\nmember2\",\n",
       "  \"member2 = list(map(lambda member : {\\n                            'name'  : member.get('name'),\\n                            'year'  : int(member['birth'].split('-')[0]),  \\n                            'month' : int(member['birth'].split('-')[1]),\\n                            'day'   : int(member['birth'].split('-')[2],\\n                            } , \\n        member1\\n        )\\n    )\\nmember2\",\n",
       "  \"member2 = list(map(lambda member : {\\n                            'name'  : member.get('name'),\\n                            'year'  : int(member['birth'].split('-')[0]),  \\n                            'month' : int(member['birth'].split('-')[1]),\\n                            'day'   : int(member['birth'].split('-')[2],} , \\n        member1\\n        )\\n    )\\nmember2\",\n",
       "  \"member2 = list(map(lambda member : {\\n                            'name'  : member.get('name'),\\n                            'year'  : int(member['birth'].split('-')[0]),  \\n                            'month' : int(member['birth'].split('-')[1]),\\n                            'day'   : int(member['birth'].split('-')[2],\\n                            } , \\n        member1\\n        )\\n    )\\nmember2\",\n",
       "  \"member2 = list(map(lambda member : {\\n                            'name'  : member.get('name'),\\n                            'year'  : int(member['birth'].split('-')[0]),  \\n                            'month' : int(member['birth'].split('-')[1]),\\n                            'day'   : int(member['birth'].split('-')[2],\\n                            }, \\n        member1\\n        )\\n    )\\nmember2\",\n",
       "  \"member2 = list(map(lambda member : {\\n                            'name'  : member.get('name'),\\n                            'year'  : int(member['birth'].split('-')[0]),  \\n                            'month' : int(member['birth'].split('-')[1]),\\n                            'day'   : int(member['birth'].split('-')[2]),\\n                            }, \\n        member1\\n        )\\n    )\\nmember2\",\n",
       "  \"member2 = list(map(lambda member : {\\n                            'name'  : member.get('name'),\\n                            'year'  : int(member['birth'].split('-')[0]),  \\n                            'month' : int(member['birth'].split('-')[1]),\\n                            'day'   : int(member['birth'].split('-')[2],\\n                            }, \\n        member1\\n        )\\n    )\\nmember2\",\n",
       "  'def member_func(member): #{\\'name\\':\\'홍길동\\', \\'brith\\':\\'2000-01-01\\'\\n    \"{\\'name\\':\\'신길동\\', \\'year\\':1998, \\'month\\':12, \\'day\\':31} 이런식으로 return\"\\n    return {\\n        \\'name\\'  : member.get(\\'name\\'),\\n        \\'year\\'  : int(member[\\'birth\\'].split(\\'-\\')[0]),  #get함수 스타일로 써도 됨. \\n        \\'month\\' : int(member[\\'birth\\'].split(\\'-\\')[1]),\\n        \\'day\\'   : int(member[\\'birth\\'].split(\\'-\\')[2]),\\n    }\\nmember_func(member1[0])',\n",
       "  'def member_func(member): #{\\'name\\':\\'홍길동\\', \\'brith\\':\\'2000-01-01\\'\\n    \"{\\'name\\':\\'신길동\\', \\'year\\':1998, \\'month\\':12, \\'day\\':31} 이런식으로 return\"\\n    return {\\n        \\'name\\'  : member.get(\\'name\\'),\\n        \\'year\\'  : int(member[\\'brith\\'].split(\\'-\\')[0]),  #get함수 스타일로 써도 됨. \\n        \\'month\\' : int(member[\\'brith\\'].split(\\'-\\')[1]),\\n        \\'day\\'   : int(member[\\'brith\\'].split(\\'-\\')[2]),\\n    }\\nmember_func(member1[0])',\n",
       "  \"member2 = list(map(lambda member : {\\n                            'name'  : member.get('name'),\\n                            'year'  : int(member['brith'].split('-')[0]),  \\n                            'month' : int(member['brith'].split('-')[1]),\\n                            'day'   : int(member['brith'].split('-')[2]),\\n                            }, \\n        member1\\n        )\\n    )\\nmember2\",\n",
       "  \"member1 = [{'name':'홍길동', 'birth':'2000-01-01'},\\n         {'name':'신길동', 'birth':'1998-12-31'}]\",\n",
       "  '\\'\\'\\'\\n예시2. member1 = [{\\'name\\':\\'홍길동\\', \\'birth\\':\\'2000-01-01\\'},\\n                {\\'name\\':\\'신길동\\', \\'birth\\':\\'1998-12-31\\'}]\\n    member2 = [{\\'name\\':\\'홍길동\\', \\'year\\':2000, \\'month\\':1, \\'day\\':1}],\\n                {\\'name\\':\\'신길동\\', \\'year\\':1998, \\'month\\':12, \\'day\\':31}] \\n\\'\\'\\'\\n#년, 월, 일 분리 필요 (split)\\n# year추가 , month 추가, day 추가 \\n#member1 = [{\\'name\\':\\'홍길동\\', \\'birth\\':\\'2000-01-01\\'},\\n#           {\\'name\\':\\'신길동\\', \\'birth\\':\\'1998-12-31\\'}]\\n#member2= [{\\n#    \"name\" : 신길동\\n#    \\'year\\' : int(member1.split[-][0])\\n#    \\'month\\': int(meber1.split[-][1])\\n#    \\'day\\' : int(member1.split[-][2])\\n#}]\\n\\n#print(member2)',\n",
       "  \"# 2000-01-01 → {'year':1998, 'month':12, 'day':31}\\ndef split_data(data):\\n    split_data = data.split('-')\\n    #print(split_data[0],split_data[1],split_data[2])\\n    return {'year' : int(split_data[0]),\\n            'month': int(split_data[1]),\\n            'day'  : int(split_data[2])}\",\n",
       "  \"split_data('2000-01-01')\",\n",
       "  'def member_func(member): #{\\'name\\':\\'홍길동\\', \\'birth\\':\\'2000-01-01\\'\\n    \"{\\'name\\':\\'신길동\\', \\'year\\':1998, \\'month\\':12, \\'day\\':31} 이런식으로 return\"\\n    return {\\n        \\'name\\'  : member.get(\\'name\\'),\\n        \\'year\\'  : int(member[\\'birth\\'].split(\\'-\\')[0]),  #get함수 스타일로 써도 됨. \\n        \\'month\\' : int(member[\\'birth\\'].split(\\'-\\')[1]),\\n        \\'day\\'   : int(member[\\'birth\\'].split(\\'-\\')[2]),\\n    }\\nmember_func(member1[0])',\n",
       "  \"member2 = list(map(lambda member : {\\n                            'name'  : member.get('name'),\\n                            'year'  : int(member['birth'].split('-')[0]),  \\n                            'month' : int(member['birth'].split('-')[1]),\\n                            'day'   : int(member['birth'].split('-')[2]),\\n                            }, \\n        member1\\n        )\\n    )\\nmember2\",\n",
       "  '\\'\\'\\'\\n예시 3. member2 를 member1로 바꿉니다.\\nmember2 = [{\\'name\\':\\'홍길동\\', \\'year\\':2000, \\'month\\':1, \\'day\\':1}],\\n                {\\'name\\':\\'신길동\\', \\'year\\':1998, \\'month\\':12, \\'day\\':31}]을\\n\\n\\'\\'\\'\\n\\n#{\\'year\\':2000, \\'month\\':1, \\'day\\':1} => \"2000-01-01\"를 return하는 함수\\nformat이나 \\n\\ndef member_ex2(member):\\n    {\\'name\\' : member.get(\\'name\\'),\\n      \\'birth\\' :\\'-\\'.join(member[\\'birth\\'].split)}',\n",
       "  '\\'\\'\\'\\n예시 3. member2 를 member1로 바꿉니다.\\nmember2 = [{\\'name\\':\\'홍길동\\', \\'year\\':2000, \\'month\\':1, \\'day\\':1}],\\n                {\\'name\\':\\'신길동\\', \\'year\\':1998, \\'month\\':12, \\'day\\':31}]을\\n\\n\\'\\'\\'\\n\\n#{\\'year\\':2000, \\'month\\':1, \\'day\\':1} => \"2000-01-01\"를 return하는 함수\\n#format이나 \\n\\ndef member_ex2(member):\\n    {\\'name\\' : member.get(\\'name\\'),\\n      \\'birth\\' :\\'-\\'.join(member[\\'birth\\'].split)}',\n",
       "  '\\'\\'\\'\\n예시 3. member2 를 member1로 바꿉니다.\\nmember2 = [{\\'name\\':\\'홍길동\\', \\'year\\':2000, \\'month\\':1, \\'day\\':1}],\\n                {\\'name\\':\\'신길동\\', \\'year\\':1998, \\'month\\':12, \\'day\\':31}]을\\n\\n\\'\\'\\'\\n\\n#{\\'year\\':2000, \\'month\\':1, \\'day\\':1} => \"2000-01-01\"를 return하는 함수\\n#format이나 \\n\\ndef member_ex2(member):\\n    {\\'name\\' : member.get(\\'name\\'),\\n      \\'birth\\' :\\'-0\\'.join(member[\\'birth\\'].split[1]),}\\nprint(member2)',\n",
       "  '\\'\\'\\'\\n예시 3. member2 를 member1로 바꿉니다.\\nmember2 = [{\\'name\\':\\'홍길동\\', \\'year\\':2000, \\'month\\':1, \\'day\\':1}],\\n                {\\'name\\':\\'신길동\\', \\'year\\':1998, \\'month\\':12, \\'day\\':31}]을\\n\\n\\'\\'\\'\\n\\n#{\\'year\\':2000, \\'month\\':1, \\'day\\':1} => \"2000-01-01\"를 return하는 함수\\n#format이나 \\n\\ndef member_ex2(member):\\n    {\\'name\\' : member.get(\\'name\\'),\\n      \\'birth\\' :\\'-0\\'.join(member[\\'birth\\'].split[1]),}\\n    print(member2)',\n",
       "  '\\'\\'\\'\\n예시 3. member2 를 member1로 바꿉니다.\\nmember2 = [{\\'name\\':\\'홍길동\\', \\'year\\':2000, \\'month\\':1, \\'day\\':1}],\\n                {\\'name\\':\\'신길동\\', \\'year\\':1998, \\'month\\':12, \\'day\\':31}]을\\n\\n\\'\\'\\'\\n\\n#{\\'year\\':2000, \\'month\\':1, \\'day\\':1} => \"2000-01-01\"를 return하는 함수\\n#format이나 \\n\\ndef member_ex2(member):\\n    {\\'name\\' : member.get(\\'name\\'),\\n      \\'birth\\' :\\'-0\\'.join(member[\\'birth\\'].split[1]),}\\n    return(member2)',\n",
       "  '\\'\\'\\'\\n예시 3. member2 를 member1로 바꿉니다.\\nmember2 = [{\\'name\\':\\'홍길동\\', \\'year\\':2000, \\'month\\':1, \\'day\\':1}],\\n                {\\'name\\':\\'신길동\\', \\'year\\':1998, \\'month\\':12, \\'day\\':31}]을\\n\\n\\'\\'\\'\\n\\n#{\\'year\\':2000, \\'month\\':1, \\'day\\':1} => \"2000-01-01\"를 return하는 함수\\n#format이나 \\n\\ndef member_ex2(member):\\n    {\\'name\\' : member.get(\\'name\\'),\\n     \\'birth\\': f\\'{[\\'year\\']}-{\\'month\\':02d}-{[\\'day\\']:02}\\'}\\n    return (member2)',\n",
       "  '\\'\\'\\'\\n예시 3. member2 를 member1로 바꿉니다.\\nmember2 = [{\\'name\\':\\'홍길동\\', \\'year\\':2000, \\'month\\':1, \\'day\\':1}],\\n                {\\'name\\':\\'신길동\\', \\'year\\':1998, \\'month\\':12, \\'day\\':31}]을\\n\\n\\'\\'\\'\\n\\n#{\\'year\\':2000, \\'month\\':1, \\'day\\':1} => \"2000-01-01\"를 return하는 함수\\n#format이나 \\n\\ndef member_ex2(member):\\n    {\\'name\\' : member.get(\\'name\\'),\\n     \\'birth\\': f\\'{[\\'year\\']}-{[\\'month\\']:02d}-{[\\'day\\']:02}\\'}\\n    return (member2)',\n",
       "  '\\'\\'\\'\\n예시 3. member2 를 member1로 바꿉니다.\\nmember2 = [{\\'name\\':\\'홍길동\\', \\'year\\':2000, \\'month\\':1, \\'day\\':1}],\\n                {\\'name\\':\\'신길동\\', \\'year\\':1998, \\'month\\':12, \\'day\\':31}]을\\n\\n\\'\\'\\'\\n\\n#{\\'year\\':2000, \\'month\\':1, \\'day\\':1} => \"2000-01-01\"를 return하는 함수\\n#format이나 \\n\\ndef member_ex2(member):\\n    {\\'name\\' : member.get(\\'name\\'),\\n     \\'birth\\': f\\'{[\\'year\\']}-{[\\'month\\']:02d}-{[\\'day\\']:02}\\'}\\n    return\\nmember_ex2(member2)',\n",
       "  \"def join_data(data):\\n    print([data.get('year'), data.get('month'),data.get('day')])\\n    year = str(data.get('year'))\\n#    month = str(data.get('month')) # 월은12월까지 있는거라서 이렇게 하면 안됨. \\n    month = data.get('month')\\n    if month < 10:\\n        month = '0'+str(month)\\n    else:\\n        month = str(month)   \\n    day = data.get('day')\\n    if day < 10:\\n        day = '0'+str(day)\\n    else:\\n        day = str(day)\\n        \\n    return '-'.join([]'year', 'month','day']) \\n#join에는 문자리스트가 들어가야 함. 숫자 들어가면 오류 남\",\n",
       "  \"def join_data(data):\\n    print([data.get('year'), data.get('month'),data.get('day')])\\n    year = str(data.get('year'))\\n#    month = str(data.get('month')) # 월은12월까지 있는거라서 이렇게 하면 안됨. \\n    month = data.get('month')\\n    if month < 10:\\n        month = '0'+str(month)\\n    else:\\n        month = str(month)   \\n    day = data.get('day')\\n    if day < 10:\\n        day = '0'+str(day)\\n    else:\\n        day = str(day)\\n        \\n    return '-'.join(['year', 'month','day']) \\n#join에는 문자리스트가 들어가야 함. 숫자 들어가면 오류 남\",\n",
       "  \"join_data({'year':2000, 'month': 1, 'day': 1})\",\n",
       "  \"def join_data(data):\\n    print([data.get('year'), data.get('month'),data.get('day')])\\n    year = str(data.get('year'))\\n#    month = str(data.get('month')) # 월은12월까지 있는거라서 이렇게 하면 안됨. \\n    month = data.get('month')\\n    if month < 10:\\n        month = '0'+str(month)\\n    else:\\n        month = str(month)   \\n    day = data.get('day')\\n    if day < 10:\\n        day = '0'+str(day)\\n    else:\\n        day = str(day)\\n        \\n    return '-'.join(['year', 'month','day']) \\n#join에는 문자리스트가 들어가야 함. 숫자 들어가면 오류 남\",\n",
       "  \"join_data({'year':2000, 'month': 1, 'day': 1})\",\n",
       "  \"def join_data(data):\\n    print([data.get('year'), data.get('month'),data.get('day')])\\n    year = str(data.get('year'))\\n#    month = str(data.get('month')) # 월은12월까지 있는거라서 이렇게 하면 안됨. \\n    month = data.get('month')\\n    if month < 10:\\n        month = '0'+str(month)\\n    else:\\n        month = str(month)   \\n    day = data.get('day')\\n    if day < 10:\\n        day = '0'+str(day)\\n    else:\\n        day = str(day)\\n        \\n    return '-'.join(['year','month','day']) \\n#join에는 문자리스트가 들어가야 함. 숫자 들어가면 오류 남\",\n",
       "  \"join_data({'year':2000, 'month': 1, 'day': 1})\",\n",
       "  'def join_data(data):\\n    print(\"{}-{:02}-{:02}\".format(data.get(\\'year\\')\\n                                  ,data.get(\\'month\\'),\\n                                  data.get(\\'day\\')))',\n",
       "  'def join_data(data):\\n    print(\"{}-{:02}-{:02}\".format(data.get(\\'year\\')\\n                                  ,data.get(\\'month\\'),\\n                                  data.get(\\'day\\')))\\njoin_data(member2)',\n",
       "  'def join_data(data):\\n    print(\"{}-{:02}-{:02}\".format(data.get(\\'year\\')\\n                                  ,data.get(\\'month\\'),\\n                                  data.get(\\'day\\')))',\n",
       "  \"join_data({'year':2000,'month':1,'day':1})\",\n",
       "  \"def join_data(data):\\n    print([data.get('year'), data.get('month'),data.get('day')])\\n    year = str(data.get('year'))\\n#    month = str(data.get('month')) # 월은12월까지 있는거라서 이렇게 하면 안됨. \\n    month = data.get('month')\\n    if month < 10:\\n        month = '0'+str(month)\\n    else:\\n        month = str(month)   \\n    day = data.get('day')\\n    if day < 10:\\n        day = '0'+str(day)\\n    else:\\n        day = str(day)\\n        \\n    return '-'.join(['year','month','day']) \\n#join에는 문자리스트가 들어가야 함. 숫자 들어가면 오류 남\",\n",
       "  \"join_data({'year':2000, 'month': 1, 'day': 1})\",\n",
       "  \"def join_data(data):\\n#    print([data.get('year'), data.get('month'),data.get('day')])\\n    year = str(data.get('year'))\\n#    month = str(data.get('month')) # 월은12월까지 있는거라서 이렇게 하면 안됨. \\n    month = data.get('month')\\n    if month < 10:\\n        month = '0'+str(month)\\n    else:\\n        month = str(month)   \\n    day = data.get('day')\\n    if day < 10:\\n        day = '0'+str(day)\\n    else:\\n        day = str(day)\\n        \\n    return '-'.join(['year','month','day']) \\n#join에는 문자리스트가 들어가야 함. 숫자 들어가면 오류 남\",\n",
       "  \"join_data({'year':2000, 'month': 1, 'day': 1})\",\n",
       "  \"join_data({'year':2000,'month':1,'day':1})\",\n",
       "  \"def join_data(data):\\n#    print([data.get('year'), data.get('month'),data.get('day')])\\n    year = str(data.get('year'))\\n#    month = str(data.get('month')) # 월은12월까지 있는거라서 이렇게 하면 안됨. \\n    month = data.get('month')\\n    if month < 10:\\n        month = '0'+str(month)\\n    else:\\n        month = str(month)   \\n    day = data.get('day')\\n    if day < 10:\\n        day = '0'+str(day)\\n    else:\\n        day = str(day)\\n        \\n    return '-'.join(['year','month','day']) \\n#join에는 문자리스트가 들어가야 함. 숫자 들어가면 오류 남\",\n",
       "  \"def join_date(data):\\n    # print([data.get('year'), data.get('month'), data.get('day')])\\n    year = str(data.get('year'))\\n    month = data.get('month')\\n    if month < 10:\\n        month = '0'+str(month)\\n    else:\\n        month = str(month)\\n    day = data.get('day')\\n    if day < 10:\\n        day = '0'+str(day)\\n    else:\\n        day = str(day)\\n    return '-'.join([year, month, day])\",\n",
       "  \"join_data({'year':2000,'month':1,'day':1})\",\n",
       "  \"def join_data(data):\\n#    print([data.get('year'), data.get('month'),data.get('day')])\\n    year = str(data.get('year'))\\n#    month = str(data.get('month')) \\n    month = data.get('month')\\n    if month < 10:\\n        month = '0'+str(month)\\n    else:\\n        month = str(month)   \\n    day = data.get('day')\\n    if day < 10:\\n        day = '0'+str(day)\\n    else:\\n        day = str(day)\\n        \\n    return '-'.join(['year','month','day']) \\n#join에는 문자리스트가 들어가야 함. 숫자 들어가면 오류 남\",\n",
       "  \"join_data({'year':2000,'month':1,'day':1})\",\n",
       "  \"def join_data(data):\\n#    print([data.get('year'), data.get('month'),data.get('day')])\\n    year = str(data.get('year'))\\n#    month = str(data.get('month')) \\n    month = data.get('month')\\n    if month < 10:\\n        month = '0'+str(month)\\n    else:\\n        month = str(month)   \\n    day = data.get('day')\\n    if day < 10:\\n        day = '0'+str(day)\\n    else:\\n        day = str(day)\\n        \\n    return '-'.join([year,month,day]) \\n#join에는 문자리스트가 들어가야 함. 숫자 들어가면 오류 남\",\n",
       "  \"join_data({'year':2000,'month':1,'day':1})\",\n",
       "  \"join_data({'year':2000,'month':18,'day':1})\",\n",
       "  \"join_data({'year':2000,'month':1,'day':1})\",\n",
       "  '# 더 간단하게 하는 방법으로 가는중 2\\ndef join_data(data):\\n    print(\"{year}-{month:02}-{day:02}\".format(**data) #**data안에 있는 값과 동일 \\n#                                            year = data.get(\\'year\\'),\\n#                                            month = data.get(\\'month\\'),\\n#                                            day = data.get(\\'day\\')))',\n",
       "  '# 더 간단하게 하는 방법으로 가는중 2\\ndef join_data(data):\\n    print(\"{year}-{month:02}-{day:02}\".format(**data) #**data안에 있는 값과 동일 ',\n",
       "  '# 더 간단하게 하는 방법으로 가는중 2\\ndef join_data(data):\\n    print(\"{year}-{month:02}-{day:02}\".format(**data) #**data안에 있는 값과 동일 ',\n",
       "  \"join_data({'year':2000,'month':1,'day':1})\",\n",
       "  '# 더 간단하게 하는 방법으로 가는중 2 (**data안에 있는 값과 동일)\\ndef join_data(data):\\n    print(\"{year}-{month:02}-{day:02}\".format(**data)',\n",
       "  '# 더 간단하게 하는 방법으로 가는중 2 (**data안에 있는 값과 동일)\\ndef join_data(data):\\n    print(\"{year}-{[month]:02}-{[day]:02}\".format(**data)',\n",
       "  '# 더 간단하게 하는 방법으로 가는중 2 (**data안에 있는 값과 동일)\\ndef join_data(data):\\n    print ()\"{year}-{month:02}-{day:02}\".format(**data))',\n",
       "  '# 더 간단하게 하는 방법으로 가는중 2 (**data안에 있는 값과 동일)\\ndef join_data(data):\\n    print (\"{year}-{month:02}-{day:02}\".format(**data))',\n",
       "  \"join_data({'year':2000,'month':1,'day':1})\",\n",
       "  '# 더 간단하게 하는 방법으로 가는중 2 (**data안에 있는 값과 동일)\\ndef join_data(data):\\n    return \"{year}-{month:02}-{day:02}\".format(**data)',\n",
       "  \"join_data({'year':2000,'month':1,'day':1})\",\n",
       "  '# 더 간단하게 하는 방법으로 가는중 2 (**data안에 있는 값과 동일)\\ndef join_data(data):\\n    return \"{year}-{[month]:02}-{[day]:02}\".format(**data)',\n",
       "  \"join_data({'year':2000,'month':1,'day':1})\",\n",
       "  '# 더 간단하게 하는 방법으로 가는중 2 (**data안에 있는 값과 동일)\\ndef join_data(data):\\n    return \"{year}-{month:02}-{day:02}\".format(**data)',\n",
       "  \"join_data({'year':2000,'month':1,'day':1})\",\n",
       "  '\\'\\'\\'\\n{\\'name\\':\\'홍길동\\', \\'year\\':2000, \\'month\\':1, \\'day\\':1}]을\\n{\\'name\\':\\'홍길동\\', \\'birth\\':\\'2000-01-01\\'}로 가공\\n\\'\\'\\'\\n        \\nlist(map(lambda member : {\\n                            \\'name\\' : member.get(\\'name\\'),\\n                            \\'birth\\' : \"{year}-{month:02}-{day:02}\".format(**data)}))\\nprint(member2)',\n",
       "  '\\'\\'\\'\\n{\\'name\\':\\'홍길동\\', \\'year\\':2000, \\'month\\':1, \\'day\\':1}]을\\n{\\'name\\':\\'홍길동\\', \\'birth\\':\\'2000-01-01\\'}로 가공\\n\\'\\'\\'\\n        \\nlist(map(lambda member : {\\n                            \\'name\\' : member.get(\\'name\\'),\\n                            \\'birth\\' : \"{year}-{month:02}-{day:02}\".format(**data)}))\\nprint(member)',\n",
       "  '\\'\\'\\'\\n{\\'name\\':\\'홍길동\\', \\'year\\':2000, \\'month\\':1, \\'day\\':1}]을\\n{\\'name\\':\\'홍길동\\', \\'birth\\':\\'2000-01-01\\'}로 가공\\n\\'\\'\\'\\n        \\nlist(map(lambda member : {\\n                            \\'name\\' : member.get(\\'name\\'),\\n                            \\'birth\\' : \"{year}-{month:02}-{day:02}\".format(**data)}, member2))',\n",
       "  '#{\\'name\\':\\'홍길동\\', \\'year\\':2000, \\'month\\':1, \\'day\\':1}]을\\n#{\\'name\\':\\'홍길동\\', \\'birth\\':\\'2000-01-01\\'}로 가공\\n      \\nlist(map(lambda member : {\\n                            \\'name\\' : member.get(\\'name\\'),\\n                            \\'birth\\' : \"{year}-{month:02}-{day:02}\".format(**data)}, member2))',\n",
       "  '#{\\'name\\':\\'홍길동\\', \\'year\\':2000, \\'month\\':1, \\'day\\':1}]을\\n#{\\'name\\':\\'홍길동\\', \\'birth\\':\\'2000-01-01\\'}로 가공\\n      \\nlist(map(lambda member : {\\n                            \\'name\\' : member.get(\\'name\\'),\\n                            \\'birth\\' : \"{year}-{month:02}-{day:02}\".format(**data)\\n                            },\\n    member2\\n))',\n",
       "  '#{\\'name\\':\\'홍길동\\', \\'year\\':2000, \\'month\\':1, \\'day\\':1}]을\\n#{\\'name\\':\\'홍길동\\', \\'birth\\':\\'2000-01-01\\'}로 가공\\n      \\nlist(map(lambda member : {\\n                            \\'name\\' : member.get(\\'name\\'),\\n                            \\'birth\\' : \"{year}-{month:02}-{day:02}\".format(**member)\\n                            },\\n    member2\\n))',\n",
       "  '#백터데이터 리스트에 [1, 2, 3, 4, 5] => [2,4]\\ndef filter_tamplate(func, L=[])\\n    result = []\\n    for l in L:\\n        if func(l):\\n            result.append(l)\\n        return result ',\n",
       "  '#백터데이터 리스트에 [1, 2, 3, 4, 5] => [2,4]\\ndef filter_tamplate(func, L=[]):\\n    result = []\\n    for l in L:\\n        if func(l):\\n            result.append(l)\\n        return result ',\n",
       "  'def evenChk(value):\\n    return value%2==0\\nevenChk(20), evenChk(9)',\n",
       "  'def evenChk(value):\\n    return value%2==0\\nevenChk(20), evenChk(9), evenChk([1,2])',\n",
       "  'def evenChk(value):\\n    return value%2==0\\nevenChk(20), evenChk(9)',\n",
       "  'list_data = [1,2,3,4,5]\\nfilter_tamplate(lambda value : value%2==0, list_data )',\n",
       "  'list_data = [1, 2, 3, 4, 5]\\nfilter_tamplate(lambda value : value%2==0, list_data )',\n",
       "  '#백터데이터 리스트에 [1, 2, 3, 4, 5] => [2,4]\\ndef filter_tamplate(func, L=[]):\\n    result = []\\n    for l in L:\\n        if func(l):\\n            result.append(l)\\n        return result ',\n",
       "  'def evenChk(value):\\n    return value%2==0\\nevenChk(20), evenChk(9)',\n",
       "  'list_data = [1, 2, 3, 4, 5]\\nfilter_tamplate(lambda value : value%2==0, list_data )',\n",
       "  'list_data = [1, 2, 3, 4, 5]\\nfilter_tamplate(lambda value : value%2==0, list_data )',\n",
       "  '[data for data in list_data if data%2==0]',\n",
       "  'list_data = [1, 2, 3, 4, 5]\\nfilter_tamplate(lambda value:value%2==0, list_data )',\n",
       "  'list_data = [1, 2, 3, 4, 5]\\nfilter_tamplate(lambda value : value%2==0, list_data)',\n",
       "  'list_data = [1, 2, 3, 4, 5]\\nfilter_tamplate(lambda value : value%2==0, list_data)',\n",
       "  'list_data = [1, 2, 3, 4, 5]\\nfilter_tamplate(lambda value : value%2==0, list_data)',\n",
       "  '#백터데이터 리스트에 [1, 2, 3, 4, 5] => [2,4]\\ndef filter_tamplate(func, L=[]):\\n    result = []\\n    for l in L:\\n        if func(l):\\n            result.append(l)\\n    return result ',\n",
       "  'def evenChk(value):\\n    return value%2==0\\nevenChk(20), evenChk(9)',\n",
       "  'list_data = [1, 2, 3, 4, 5]\\nfilter_tamplate(lambda value : value%2==0, list_data)',\n",
       "  'p = [9, 2, 7]\\np.sort(reverse=True)\\np',\n",
       "  'number2d = [[9.9],\\n            [1,100],\\n            [10,1]]\\nnumber2d.sort()\\nnumber2d',\n",
       "  'number2d = [[9.9],\\n            [1,100],\\n            [10,1]]\\nnumber2d.sort(reverse=True)\\nnumber2d\\n#이 sort는 앞에자리 기준으로 순서 정해버림',\n",
       "  'number2d = [[9.9],\\n            [1,100],\\n            [10,1]]\\nnumber2d.sort(reverse=False) #무조건 0번 아이템 기준으로 정렬\\nnumber2d\\n#이 sort는 앞에자리 기준으로 순서 정해버림',\n",
       "  'number2d = [[9.9],\\n            [1,100],\\n            [10,1]]\\nnumber2d.sort(reverse=True) #무조건 0번 아이템 기준으로 정렬\\nnumber2d\\n#이 sort는 앞에자리 기준으로 순서 정해버림',\n",
       "  'number2d = [[9,9,9,9,9],\\n            [1,100],\\n            [10,1]]\\nnumber2d.sort(reverse=True) #무조건 0번 item 기준으로 정렬\\nnumber2d\\n#이 sort는 앞에자리 기준으로 순서 정해버림',\n",
       "  \"pairs = [(2, 'two'), (1, 'one'),(4,'four'),(3,'three')]\\nparis.sort()\\nparis\",\n",
       "  \"pairs = [(2, 'two'), (1, 'one'),(4,'four'),(3,'three')]\\npairs.sort()\\npairs\",\n",
       "  'number2d = [[9,9,9,9,9],\\n            [1,100],\\n            [10,1]]\\nnumber2d.sort(reverse=True) #무조건 0번 item 기준으로 정렬\\nnumber2d\\n#이 sort는 앞에자리 기준으로 순서 정해버림',\n",
       "  \"#1번째 item을 기준으로 정렬\\n\\npairs = [(2, 'two'), (1, 'one'),(4,'four'),(3,'three')]\\npairs.sort(1)\\npairs\",\n",
       "  \"#1번째 item을 기준으로 정렬\\n\\npairs = [(2, 'two'), (1, 'one'),(4,'four'),(3,'three')]\\npairs.sort()\\npairs\",\n",
       "  \"#1번째 item을 기준으로 정렬(문자:abc순서로 정렬)\\n\\npairs = [(2, 'two'), (1, 'one'),(4,'four'),(3,'three')]\\npairs.split[1]\\npairs.sort()\\npairs\",\n",
       "  \"#1번째 item을 기준으로 정렬(문자:abc순서로 정렬)\\n\\npairs = [(2, 'two'), (1, 'one'),(4,'four'),(3,'three')]\\npairs.sort(key=lambda pair : pair[1])\\npairs\",\n",
       "  \"#1번째 item을 기준으로 정렬(문자:abc순서로 정렬)\\n\\npairs = [(2, 'two'), (1, 'one'),(4,'four'),(3,'three')]\\npairs.sort(key=lambda pair : pair[1],reverse=False) #1번 인덱스기준으로 abc순서로 정리 \\npairs\",\n",
       "  \"#1번째 item을 기준으로 정렬(문자:abc순서로 정렬)\\n\\npairs = [(2, 'two'), (1, 'one'),(4,'four'),(3,'three')]\\npairs.sort(key=lambda pair : pair[1])#1번 인덱스기준으로 abc순서로 정리 \\npairs\",\n",
       "  \"#1번째 item을 기준으로 정렬(문자:abc순서로 정렬)\\n\\npairs = [(2, 'two'), (1, 'one'),(4,'four'),(3,'three')]\\npairs.sort( reverse=Fals, key=lambda pair : pair[1])#1번 인덱스기준으로 abc순서로 정리 \\npairs\",\n",
       "  \"#1번째 item을 기준으로 정렬(문자:abc순서로 정렬)\\n\\npairs = [(2, 'two'), (1, 'one'),(4,'four'),(3,'three')]\\npairs.sort(key=lambda pair : pair[1],reverse)#1번 인덱스기준으로 abc순서로 정리 \\npairs\",\n",
       "  \"#1번째 item을 기준으로 정렬(문자:abc순서로 정렬) #1번 인덱스기준으로 abc순서로 정리 \\n\\npairs = [(2, 'two'), (1, 'one'),(4,'four'),(3,'three')]\\npairs.sort(key=lambda pair : pair[1],reverse) \\npairs\",\n",
       "  \"#1번째 item을 기준으로 정렬(문자:abc순서로 정렬) #1번 인덱스기준으로 abc순서로 정리 \\n\\npairs = [(2, 'two'), (1, 'one'),(4,'four'),(3,'three')]\\npairs.sort(key=lambda pair : pair[1]) \\npairs\",\n",
       "  'number2d = [[9,9,9,9,9],\\n            [1,100],\\n            [10,1]]\\nnumber2d.sort(reverse=True) #무조건 0번 item 기준으로 정렬\\nnumber2d\\n#이 sort는 앞에자리 기준으로 순서 정해버림',\n",
       "  '#합이 큰 순으로 정렬 \\n\\nnumber2d.sort(key=lambda item :sum(item))\\nnumber2d',\n",
       "  '(lambda item :sum(item))([1,2,3])',\n",
       "  '#합이 큰 순으로 정렬 \\n\\nnumber2d.sort(key=lambda item :sum(item), reverse=True)\\nnumbers2d',\n",
       "  '#합이 큰 순으로 정렬 \\n\\nnumber2d.sort(key=lambda item :sum(item), reverse=True)\\nnumber2d',\n",
       "  '#리스트를 매개변수로 받아 합을 return하는 함수 test\\n(lambda item :sum(item))([1,2,3])',\n",
       "  'students.sort(key=lambda ex : ex [student[0]] ,reverse=True)\\nstudents',\n",
       "  \"# 이름순으로 정렬(ㄱㄴㄷ 순)\\nstudents = [\\n    {'name':'홍길동', 'score':90},\\n    {'name':'김길동', 'score':85},\\n    {'name':'최길동', 'score':62},]\",\n",
       "  'students.sort(key=lambda ex : ex [student[0]] ,reverse=True)\\nstudents',\n",
       "  'students.sort(key=lambda ex : ex[0] ,reverse=True)\\nstudents',\n",
       "  \"students.sort(key=lambda ex : ex['name'] ,reverse=True)\\nstudents\",\n",
       "  \"students.sort(key=lambda ex : ex['name'] ,reverse=Flase)\\nstudents\",\n",
       "  \"students.sort(key=lambda ex : ex['name'] ,reverse=False)\\nstudents\",\n",
       "  \"#score순으로 정렬(내림차순정렬)\\nstudents.sort(key=lambda ex : ex['score'] ,reverse=True)\\nstudents\",\n",
       "  \"# 이름순으로 정렬(ㄱㄴㄷ 순)\\nstudents = [\\n    {'name':'홍길동', 'score':90},\\n    {'name':'김길동', 'score':85},\\n    {'name':'최길동', 'score':62},\\n    {'score':99}\\n]\",\n",
       "  \"students.sort(key=lambda ex : ex['name'] ,reverse=False)\\nstudents\",\n",
       "  \"# 이름순으로 정렬(ㄱㄴㄷ 순)\\nstudents = [\\n    {'name':'홍길동', 'score':90},\\n    {'name':'김길동', 'score':85},\\n    {'name':'최길동', 'score':62},\\n]\",\n",
       "  \"students.sort(key=lambda ex : ex['name'] ,reverse=False)\\nstudents\",\n",
       "  \"# 이름이 없는 사람의 점수를 내림차순으로 정렬\\nstudents.sort(key=lambda ex :['score'],reverse=True)\",\n",
       "  \"# 이름이 없는 사람의 점수를 내림차순으로 정렬\\nstudents.sort(key=lambda ex :['score'],reverse=True)\\nstudents\",\n",
       "  \"# 이름이 없는 사람의 점수를 내림차순으로 정렬\\nstudents.sort(key=lambda ex :['score'],reverse=False)\\nstudents\",\n",
       "  \"# 이름이 없는 사람의 점수를 내림차순으로 정렬\\nstudents.sort(key=lambda ex :ex ['score'],reverse=False)\\nstudents\",\n",
       "  \"# 이름이 없는 사람의 점수를 내림차순으로 정렬\\nstudents.sort(key=lambda ex : ex ['score'],reverse=False)\\nstudents\",\n",
       "  \"# 이름순으로 정렬(ㄱㄴㄷ 순)\\nstudents = [\\n    {'name':'홍길동', 'score':90},\\n    {'name':'김길동', 'score':85},\\n    {'name':'최길동', 'score':62},\\n    {'score':99}\\n]\",\n",
       "  \"# 이름이 없는 사람의 점수를 내림차순으로 정렬\\nstudents.sort(key=lambda ex : ex ['score'],reverse=False)\\nstudents\",\n",
       "  \"# 이름이 없는 사람의 점수를 내림차순으로 정렬\\nstudents.sort(key=lambda ex : ex.get('name'),reverse=False)\\nstudents\",\n",
       "  \"# 이름이 없는 사람의 점수를 내림차순으로 정렬\\nstudents.sort(key=lambda ex : ex.get('name', '유성미'),reverse=False)\\nstudents\",\n",
       "  \"# 이름이 없는 사람의 점수를 내림차순으로 정렬\\nstudents.sort(key=lambda ex : ex.get('name',),reverse=False)\\nstudents\",\n",
       "  \"# 이름이 없는 사람의 점수를 내림차순으로 정렬\\nstudents.sort(key=lambda ex : ex.get('score'),reverse=False)\\nstudents\",\n",
       "  \"# 이름이 없는 사람의 점수를 내림차순으로 정렬\\nstudents.sort(key=lambda ex : ex.get('name','힣'),reverse=False)\\nstudents\",\n",
       "  \"# 이름이 없는 사람의 점수를 내림차순으로 정렬\\nstudents.sort(key=lambda ex : ex.get('name','각'),reverse=False)\\nstudents\",\n",
       "  \"# 이름이 없는 사람의 점수를 내림차순으로 정렬\\nstudents.sort(key=lambda ex : ex.get('name','각'),reverse=False)\\nstudents\",\n",
       "  \"# 이름이 없는 사람의 점수를 내림차순으로 정렬\\nstudents.sort(key=lambda ex : ex.get('name','각'),reverse=False)\\nstudents\\nstudents.sort(key=lambda ex : ex.get('name','힣'),reverse=False)\\nstudents\",\n",
       "  \"students.sort(key=lambda ex : ex.get('score',0),reverse=False)\\nstudents\",\n",
       "  \"students.sort(key=lambda ex : ex.get('score',0),reverse=True)\\nstudents\",\n",
       "  \"# \\nbooks = [\\n    {'no':1, 'title':'강남 아파트 인사이트', 'writer': '오스틀', 'price':'25,200'},\\n    {'no':2, 'title':'단 한번의 삶', 'writer': '김영하', 'price':'15,120'},\\n    {'no':3, 'title':'흔한남매 19', 'writer': '백난도', 'price':'14,220'}\\n    {'no':4, 'title':'가격이 잘못', 'writer': '홍길동', 'price':'-'}\\n    {'no':5, 'title':'가격이 숫자', 'writer': '최무식', 'price':900}\\n    {'no':6, 'title':'가격이 없음', 'writer': '이난중',}\\n]\",\n",
       "  \"# \\nbooks = [\\n    {'no':1, 'title':'강남 아파트 인사이트', 'writer': '오스틀', 'price':'25,200'},\\n    {'no':2, 'title':'단 한번의 삶', 'writer': '김영하', 'price':'15,120'},\\n    {'no':3, 'title':'흔한남매 19', 'writer': '백난도', 'price':'14,220'},\\n    {'no':4, 'title':'가격이 잘못', 'writer': '홍길동', 'price':'-'},\\n    {'no':5, 'title':'가격이 숫자', 'writer': '최무식', 'price':900},\\n    {'no':6, 'title':'가격이 없음', 'writer': '이난중',}\\n]\",\n",
       "  \"books.sort(key = lambda book : book.get('title'))\",\n",
       "  \"books.sort(key = lambda book : book.get('title'))\\nbooks\",\n",
       "  \"books.sort(key = lambda book : book.get('writer'))\\nbooks\",\n",
       "  \"# 타입이 문자인지 확인 /문자면 replace(,) \\n# 숫자에 , 있는지 확인 \\n# int로 변환하기전에 숫자인지 확인하고 0원처리하기\\nbooks.sort(key = lambda book : book.get('price'),0)\",\n",
       "  \"# 타입이 문자인지 확인 /문자면 replace(,) \\n# 숫자에 , 있는지 확인 \\n# int로 변환하기전에 숫자인지 확인하고 0원처리하기\\nbooks.sort(key = lambda book : book.get('price',0))\",\n",
       "  \"# '14,000'의 값을 '14000'으로 변환 / 900의 값이 들어오면 그대로 900으로 넣고 / '-'이 들어오면 0원으로 변경\\ndef parse_int(price):\\n    print(type(price))\",\n",
       "  'parse_int(800)',\n",
       "  \"parse_int('800')\",\n",
       "  'parse_int(-800)',\n",
       "  \"# '14,000'의 값을 '14000'으로 변환 / 900의 값이 들어오면 그대로 900으로 넣고 / '-'이 들어오면 0원으로 변경\\ndef parse_int(price):\\n    #print(type(price))\\n    if isinstance(price,int):\\n        return price\",\n",
       "  'parse_int(-800)',\n",
       "  'parse_int(800)',\n",
       "  'parse_int(800)',\n",
       "  'parse_int(\"800\")',\n",
       "  \"parse_int('800')\",\n",
       "  'parse_int(800)',\n",
       "  \"# '14,000'의 값을 '14000'으로 변환 / 900의 값이 들어오면 그대로 900으로 넣고 / '-'이 들어오면 0원으로 변경\\ndef parse_int(price):\\n    #print(type(price))\\n    if isinstance(price,str) and price.replace(',','').isdigit():  #문자가 맞는지, 문자중에(,)을뺀 숫자로만 구성이 되어있는가 \\n        return int(price.replace(',',''))\\n    elif isinstance(price,int):\\n        return price\",\n",
       "  'parse_int(\"800\")',\n",
       "  'parse_int(\"8,00\")',\n",
       "  'parse_int(\"8,00000\")',\n",
       "  'parse_int(\"8,00,000\")',\n",
       "  'parse_int(\"8,000,000\")',\n",
       "  'parse_int(15754)',\n",
       "  'parse_int(0)',\n",
       "  'parse_int(*)',\n",
       "  'parse_int(-)',\n",
       "  \"# '14,000'의 값을 '14000'으로 변환 / 900의 값이 들어오면 그대로 900으로 넣고 / '-'이 들어오면 0원으로 변경\\ndef parse_int(price):\\n    #print(type(price))\\n    if isinstance(price,str) and price.replace(',','').isdigit():  #문자가 맞는지, 문자중에(,)을뺀 숫자로만 구성이 되어있는가 \\n        return int(price.replace(',',''))\\n    elif isinstance(price,int):\\n        return price\\n    else:\\n        return 0\",\n",
       "  'parse_int(-)',\n",
       "  \"# '14,000'의 값을 '14000'으로 변환 / 900의 값이 들어오면 그대로 900으로 넣고 / '-'이 들어오면 0원으로 변경\\ndef parse_int(price):\\n    #print(type(price))\\n    if isinstance(price,str) and price.replace(',','').isdigit():  #문자가 맞는지, 문자중에(,)을뺀 숫자로만 구성이 되어있는가 \\n        return int(price.replace(',',''))\\n    elif isinstance(price,int):\\n        return price\\n    else:\\n        return print(int(0))\",\n",
       "  'parse_int(-)',\n",
       "  \"# '14,000'의 값을 '14000'으로 변환 / 900의 값이 들어오면 그대로 900으로 넣고 / '-'이 들어오면 0원으로 변경\\ndef parse_int(price):\\n    #print(type(price))\\n    if isinstance(price,str) and price.replace(',','').isdigit():  #문자가 맞는지, 문자중에(,)을뺀 숫자로만 구성이 되어있는가 \\n        return int(price.replace(',',''))\\n    elif isinstance(price,int):\\n        return price\",\n",
       "  \"parse_int('-')\",\n",
       "  'parse_int(\"8,000\"), parse_int(\"88000\"),parse_int(200),parse_int(\"-\"),   ',\n",
       "  \"# '14,000'의 값을 '14000'으로 변환 / 900의 값이 들어오면 그대로 900으로 넣고 / '-'이 들어오면 0원으로 변경\\ndef parse_int(price):\\n    #print(type(price))\\n    if isinstance(price,str) and price.replace(',','').isdigit():  #문자가 맞는지, 문자중에(,)을뺀 숫자로만 구성이 되어있는가 \\n        return int(price.replace(',',''))\\n    elif isinstance(price,int):\\n        return price\\n    else:\\n        return 0\",\n",
       "  'parse_int(\"8,000\"), parse_int(\"88000\"),parse_int(200),parse_int(\"-\"),   ',\n",
       "  \"#{'no':6, 'title':'가격이 없음', 'writer': '이난중',} => return 0\\n#{'no':3, 'title':'흔한남매 19', 'writer': '백난도', 'price':'14,220'}, => 14220\\n#{'no':5, 'title':'가격이 숫자', 'writer': '최무식', 'price':900}, => 900\\n\\ndef parse_int(book):\\n    if isinstance(book.get('price'), str) and book.get.repalce(',','').isdigit():\\n        return int(book.get('price').replace(',','')):\\n    elif isinstance(book.get('price'), int):\\n        return book.get('price')\\n    else:\\n        return 0   \",\n",
       "  \"#{'no':6, 'title':'가격이 없음', 'writer': '이난중',} => return 0\\n#{'no':3, 'title':'흔한남매 19', 'writer': '백난도', 'price':'14,220'}, => 14220\\n#{'no':5, 'title':'가격이 숫자', 'writer': '최무식', 'price':900}, => 900\\n\\ndef parse_int(book):\\n    if isinstance(book.get('price'), str) and book.get('price').repalce(',','').isdigit():\\n        return int(book.get('price').replace(',','')):\\n    elif isinstance(book.get('price'), int):\\n        return book.get('price')\\n    else:\\n        return 0   \",\n",
       "  \"#{'no':6, 'title':'가격이 없음', 'writer': '이난중',} => return 0\\n#{'no':3, 'title':'흔한남매 19', 'writer': '백난도', 'price':'14,220'}, => 14220\\n#{'no':5, 'title':'가격이 숫자', 'writer': '최무식', 'price':900}, => 900\\n\\ndef parse_int(book):\\n    if isinstance(book.get('price'), str) and book.get('price').repalce(',','').isdigit():\\n        return int(book.get('price').replace(',','') ):\\n    elif isinstance(book.get('price'), int):\\n        return book.get('price')\\n    else:\\n        return 0   \",\n",
       "  \"#{'no':6, 'title':'가격이 없음', 'writer': '이난중',} => return 0\\n#{'no':3, 'title':'흔한남매 19', 'writer': '백난도', 'price':'14,220'}, => 14220\\n#{'no':5, 'title':'가격이 숫자', 'writer': '최무식', 'price':900}, => 900\\n\\ndef parse_int(book):\\n    if isinstance(book.get('price'), str) and book.get('price').repalce(',','').isdigit():\\n        return int(book.get('price').replace(',','')):\\n    elif isinstance(book.get('price'), int):\\n        return book.get('price')\\n    else:\\n        return 0   \",\n",
       "  \"#{'no':6, 'title':'가격이 없음', 'writer': '이난중',} => return 0\\n#{'no':3, 'title':'흔한남매 19', 'writer': '백난도', 'price':'14,220'}, => 14220\\n#{'no':5, 'title':'가격이 숫자', 'writer': '최무식', 'price':900}, => 900\\n\\ndef parse_int(book):\\n    if isinstance(book.get('price'), str) and book.get('price').repalce(',','').isdigit():\\n        return int( book.get('price').replace(',','')):\\n    elif isinstance(book.get('price'), int):\\n        return book.get('price')\\n    else:\\n        return 0   \",\n",
       "  \"#{'no':6, 'title':'가격이 없음', 'writer': '이난중',} => return 0\\n#{'no':3, 'title':'흔한남매 19', 'writer': '백난도', 'price':'14,220'}, => 14220\\n#{'no':5, 'title':'가격이 숫자', 'writer': '최무식', 'price':900}, => 900\\n\\ndef parse_int(book):\\n    if isinstance(book.get('price'), str) and book.get('price').repalce(',','').isdigit():\\n        return int(book.get('price').replace(',','')):\\n    elif isinstance(book.get('price'), int):\\n        return book.get('price')\\n    else:\\n        return 0   \",\n",
       "  \"#{'no':6, 'title':'가격이 없음', 'writer': '이난중',} => return 0\\n#{'no':3, 'title':'흔한남매 19', 'writer': '백난도', 'price':'14,220'}, => 14220\\n#{'no':5, 'title':'가격이 숫자', 'writer': '최무식', 'price':900}, => 900\\n\\ndef parse_int(book):\\n    if isinstance(book.get('price'), str) and \\\\\\n                  book.get('price').repalce(',','').isdigit():\\n        return int(book.get('price').replace(',','')):\\n    elif isinstance(book.get('price'), int):\\n        return book.get('price')\\n    else:\\n        return 0   \",\n",
       "  \"#{'no':6, 'title':'가격이 없음', 'writer': '이난중',} => return 0\\n#{'no':3, 'title':'흔한남매 19', 'writer': '백난도', 'price':'14,220'}, => 14220\\n#{'no':5, 'title':'가격이 숫자', 'writer': '최무식', 'price':900}, => 900\\n\\ndef parse_int(book):\\n    if isinstance(book.get('price'), str) and \\\\\\n                  book.get('price').replace(',','').isdigit():\\n        return int(book.get('price').replace(',','')):\\n    elif isinstance(book.get('price'), int):\\n        return book.get('price')\\n    else:\\n        return 0   \",\n",
       "  \"#{'no':6, 'title':'가격이 없음', 'writer': '이난중',} => return 0\\n#{'no':3, 'title':'흔한남매 19', 'writer': '백난도', 'price':'14,220'}, => 14220\\n#{'no':5, 'title':'가격이 숫자', 'writer': '최무식', 'price':900}, => 900\\n\\ndef parse_int(book):\\n    if isinstance(book.get('price'), str) and \\\\\\n                  book.get('price').replace(',','').isdigit():\\n        return int(book.get('price').replace(',','')):\\n    elif isinstance(book.get('price'), int):\\n        return book.get('price')\\n    else:\\n        return 0   \",\n",
       "  \"#{'no':6, 'title':'가격이 없음', 'writer': '이난중',} => return 0\\n#{'no':3, 'title':'흔한남매 19', 'writer': '백난도', 'price':'14,220'}, => 14220\\n#{'no':5, 'title':'가격이 숫자', 'writer': '최무식', 'price':900}, => 900\\n\\ndef parse_int(book):\\n    if isinstance(book.get('price'), str) and \\\\\\n                  book.get('price').replace(',','').isdigit():\\n        return int(book.get('price').replace(',',''):\\n    elif isinstance(book.get('price'), int):\\n        return book.get('price')\\n    else:\\n        return 0   \",\n",
       "  \"#{'no':6, 'title':'가격이 없음', 'writer': '이난중',} => return 0\\n#{'no':3, 'title':'흔한남매 19', 'writer': '백난도', 'price':'14,220'}, => 14220\\n#{'no':5, 'title':'가격이 숫자', 'writer': '최무식', 'price':900}, => 900\\n\\ndef parse_int(book):\\n    if isinstance(book.get('price'), str) and \\\\\\n                  book.get('price').replace(',','').isdigit():\\n        return int(book.get('price').replace(',','')):\\n    elif isinstance(book.get('price'), int):\\n        return book.get('price')\\n    else:\\n        return 0   \",\n",
       "  \"#{'no':6, 'title':'가격이 없음', 'writer': '이난중',} => return 0\\n#{'no':3, 'title':'흔한남매 19', 'writer': '백난도', 'price':'14,220'}, => 14220\\n#{'no':5, 'title':'가격이 숫자', 'writer': '최무식', 'price':900}, => 900\\n\\ndef parse_int(book):\\n    if isinstance(book.get('price'), str) and \\\\\\n                  book.get('price').replace(',','').isdigit():\\n        return int(book.get('price').replace(',',''))\\n    elif isinstance(book.get('price'), int):\\n        return book.get('price')\\n    else:\\n        return 0   \",\n",
       "  'parse_int(books[0])',\n",
       "  'parse_int(books[0]), parse_int(books[1]), parse_int(books[2])',\n",
       "  \"# 책 제목순 정렬(ㄱ,ㄴ,ㄷ순), 저자순 정렬(ㄱ,ㄴ,ㄷ), 가격순 오름차순 정렬\\n# 결측치 = 0원\\n\\nbooks = [\\n    {'no':1, 'title':'강남 아파트 인사이트', 'writer': '오스틀', 'price':'25,200'},\\n    {'no':2, 'title':'단 한번의 삶', 'writer': '김영하', 'price':'15,120'},\\n    {'no':3, 'title':'흔한남매 19', 'writer': '백난도', 'price':'14,220'},\\n    {'no':4, 'title':'가격이 잘못', 'writer': '홍길동', 'price':'-'},\\n    {'no':5, 'title':'가격이 숫자', 'writer': '최무식', 'price':900},\\n    {'no':6, 'title':'가격이 없음', 'writer': '이난중',}\\n]\",\n",
       "  'parse_int(books[0]), parse_int(books[1]), parse_int(books[2])',\n",
       "  'copy_books',\n",
       "  \"books = [\\n    {'no':1, 'title':'강남 아파트 인사이트', 'writer': '오스틀', 'price':'25,200'},\\n    {'no':2, 'title':'단 한번의 삶', 'writer': '김영하', 'price':'15,120'},\\n    {'no':3, 'title':'흔한남매 19', 'writer': '백난도', 'price':'14,220'},\\n    {'no':4, 'title':'가격이 잘못', 'writer': '홍길동', 'price':'-'},\\n    {'no':5, 'title':'가격이 숫자', 'writer': '최무식', 'price':900},\\n    {'no':6, 'title':'가격이 없음', 'writer': '이난중',}\\n]\\n\\ncopy_books = books.copy()\",\n",
       "  \"copy_books.sort(key = lambda book : \\n                int(book.get('price').replace(',','')) \\\\    \\n                    if isinstance(book.get('price'), str) and \\\\      #조건\\n                      book.get('price').replace(',','').isdigit() else\\\\\\n                book.get('price') \\\\\\n                if isinstance(book.get('price'), int) else \\\\\\n                0 \\n              \\n               )\",\n",
       "  'copy_books',\n",
       "  \"copy_books.sort(key = lambda book : \\n                int(book.get('price').replace(',','')) \\\\    \\n                    if isinstance(book.get('price'), str) and \\\\      #조건\\n                      book.get('price').replace(',','').isdigit() else\\\\\\n                    book.get('price') \\\\\\n                if isinstance(book.get('price'), int) else \\\\\\n                0 \\n              \\n               )\",\n",
       "  \"copy_books.sort(key = lambda book : \\n                int(book.get('price').replace(',','')) \\\\    \\n                    if isinstance(book.get('price'), str) and \\\\      #조건\\n                      book.get('price').replace(',','').isdigit() else\\\\\\n                book.get('price') if isinstance(book.get('price'), int) else \\\\\\n                0 \\n              \\n               )\",\n",
       "  'copy_books',\n",
       "  \"copy_books.sort(key = lambda book : \\n                int(book.get('price').replace(',',''))  \\n                    if isinstance(book.get('price'), str) and \\\\      #조건\\n                      book.get('price').replace(',','').isdigit() else\\\\\\n                book.get('price') if isinstance(book.get('price'), int) else \\\\\\n                0 \\n              \\n               )\",\n",
       "  \"copy_books.sort(key = lambda book : \\n                int(book.get('price').replace(',',''))  \\n                    if isinstance(book.get('price'), str) and\\n                      book.get('price').replace(',','').isdigit() else\\\\\\n                book.get('price') if isinstance(book.get('price'), int) else \\\\\\n                0 \\n              \\n               )\",\n",
       "  \"copy_books.sort(key = lambda book : \\n                int(book.get('price').replace(',','')) \\\\ \\n                    if isinstance(book.get('price'), str) and \\\\\\n                      book.get('price').replace(',','').isdigit() else\\\\\\n                book.get('price') if isinstance(book.get('price'), int) else \\\\\\n                0 \\n              \\n               )\",\n",
       "  'copy_books',\n",
       "  \"copy_books.sort(key = lambda book : \\n                int(book.get('price').replace(',','')) \\\\\\n                    if isinstance(book.get('price'), str) and \\\\\\n                        book.get('price').replace(',','').isdigit() else\\\\\\n                book.get('price') if isinstance(book.get('price'), int) else \\\\\\n                0 \\n              \\n               )\",\n",
       "  'copy_books',\n",
       "  'books',\n",
       "  '# 함수를 return\\ndef make_box(shape) : # shape : [l(길이)], 2차원 [r,c] 3차원 [d,r,c] d,r(가로),c(세로)\\n    # shape : [l] =>가 l인 list를 생성하는 함수 return \\n                                    #[r,c] => r행 c열인 list를 생성하는 함수 return\\n                                    #[d,r,c] => d면 r행 c열 3차원 list를 생성하는 함수 \\n    \\n\\n    def box(init_value):\\n        if len(shape)==1:\\n            return [init_value]*shape[0]    #1차원 리스트\\n        elif len(shape)==2:\\n            return [ [init_value]*shape[1] ] * shape[0]  #2차원 리스트\\n    return box',\n",
       "  'box',\n",
       "  'line_func = make_box([2,3])',\n",
       "  'line_func = make_box([2,3])\\nline_func()',\n",
       "  'line_func = make_box([2,3])\\nline_func(3)',\n",
       "  'line_func = make_box([2,3])\\nline_func(1,3)',\n",
       "  'line_func = make_box([2,3])\\nline_func(1)',\n",
       "  'line_func = make_box([2,3])\\nline_func(3)',\n",
       "  'line_func1 = make_box([10])\\nline_func1(3)',\n",
       "  'def make_box(shape):\\n    if len(shape)==1:\\n        return lambda init_value : [init_value]*shape[0]\\n    elif len(shape)==2:\\n        return lambda init_value : [[init_value]*shape[1]]*shape[0]',\n",
       "  'globals()',\n",
       "  'locals()'],\n",
       " '_oh': {7: [2, 2, 2, 2, 2, 2, 2, 2, 2, 2],\n",
       "  9: [2, 2, 2, 2, 2, 2, 2, 2, 2, 2],\n",
       "  11: [2, 2, 2, 2, 2, 2, 2, 2, 2, 2],\n",
       "  13: [2, 2, 2, 2, 2, 2, 2, 2, 2, 2],\n",
       "  16: [2, 2, 2, 2, 2, 2, 2, 2, 2, 2],\n",
       "  18: [4, 4, 4, 4, 4, 4, 4, 4, 4, 4],\n",
       "  20: [2, 2, 2, 2, 2, 2, 2, 2, 2, 2],\n",
       "  24: [2, 2, 2, 2, 2, 2, 2, 2, 2, 2],\n",
       "  26: [2, 4, 6, 8, 10, 12, 14, 16, 18, 20],\n",
       "  27: <map at 0x2147b4401c0>,\n",
       "  29: [2, 4, 6, 8, 10, 12, 14, 16, 18, 20],\n",
       "  30: <map at 0x2147b442e60>,\n",
       "  32: [2, 4, 6, 8, 10, 12, 14, 16, 18, 20],\n",
       "  70: [5000, 800, 1000, 6000],\n",
       "  72: '\\n예시 3. member2 를 member1로 바꿉니다.\\n\\n',\n",
       "  89: {'year': 2000, 'month': 1, 'day': 1},\n",
       "  97: [{'name': '홍길동', 'brith': '2000-01-01'},\n",
       "   {'name': '신길동', 'brith': '1998-12-31'}],\n",
       "  103: {'year': 2000, 'month': 1, 'day': 1},\n",
       "  123: {'name': '홍길동', 'year': 2000, 'month': 1, 'day': 1},\n",
       "  124: [{'name': '홍길동', 'year': 2000, 'month': 1, 'day': 1},\n",
       "   {'name': '신길동', 'year': 1998, 'month': 12, 'day': 31}],\n",
       "  126: \"\\n예시2. member1 = [{'name':'홍길동', 'birth':'2000-01-01'},\\n                {'name':'신길동', 'birth':'1998-12-31'}]\\n    member2 = [{'name':'홍길동', 'year':2000, 'month':1, 'day':1}],\\n                {'name':'신길동', 'year':1998, 'month':12, 'day':31}] \\n\",\n",
       "  128: {'year': 2000, 'month': 1, 'day': 1},\n",
       "  129: {'name': '홍길동', 'year': 2000, 'month': 1, 'day': 1},\n",
       "  130: [{'name': '홍길동', 'year': 2000, 'month': 1, 'day': 1},\n",
       "   {'name': '신길동', 'year': 1998, 'month': 12, 'day': 31}],\n",
       "  141: 'year-month-day',\n",
       "  143: 'year-month-day',\n",
       "  145: 'year-month-day',\n",
       "  151: 'year-month-day',\n",
       "  153: 'year-month-day',\n",
       "  154: 'year-month-day',\n",
       "  157: 'year-month-day',\n",
       "  159: 'year-month-day',\n",
       "  161: '2000-01-01',\n",
       "  162: '2000-18-01',\n",
       "  163: '2000-01-01',\n",
       "  167: '2000-01-01',\n",
       "  174: '2000-01-01',\n",
       "  178: '2000-01-01',\n",
       "  184: [{'name': '홍길동', 'birth': '2000-01-01'},\n",
       "   {'name': '신길동', 'birth': '1998-12-31'}],\n",
       "  187: (True, False),\n",
       "  189: (True, False),\n",
       "  190: [],\n",
       "  191: [],\n",
       "  193: (True, False),\n",
       "  194: [],\n",
       "  195: [],\n",
       "  196: [2, 4],\n",
       "  197: [],\n",
       "  198: [],\n",
       "  199: [],\n",
       "  200: [],\n",
       "  202: (True, False),\n",
       "  203: [2, 4],\n",
       "  204: [9, 7, 2],\n",
       "  205: [[1, 100], [9.9], [10, 1]],\n",
       "  206: [[10, 1], [9.9], [1, 100]],\n",
       "  207: [[1, 100], [9.9], [10, 1]],\n",
       "  208: [[10, 1], [9.9], [1, 100]],\n",
       "  209: [[10, 1], [9, 9, 9, 9, 9], [1, 100]],\n",
       "  211: [(1, 'one'), (2, 'two'), (3, 'three'), (4, 'four')],\n",
       "  212: [[10, 1], [9, 9, 9, 9, 9], [1, 100]],\n",
       "  214: [(1, 'one'), (2, 'two'), (3, 'three'), (4, 'four')],\n",
       "  216: [(4, 'four'), (1, 'one'), (3, 'three'), (2, 'two')],\n",
       "  217: [(4, 'four'), (1, 'one'), (3, 'three'), (2, 'two')],\n",
       "  218: [(4, 'four'), (1, 'one'), (3, 'three'), (2, 'two')],\n",
       "  222: [(4, 'four'), (1, 'one'), (3, 'three'), (2, 'two')],\n",
       "  223: [[1, 100], [9, 9, 9, 9, 9], [10, 1]],\n",
       "  224: [[1, 100], [9, 9, 9, 9, 9], [10, 1]],\n",
       "  225: 6,\n",
       "  227: [[1, 100], [9, 9, 9, 9, 9], [10, 1]],\n",
       "  228: 6,\n",
       "  233: [{'name': '홍길동', 'score': 90},\n",
       "   {'name': '김길동', 'score': 85},\n",
       "   {'name': '최길동', 'score': 62}],\n",
       "  235: [{'name': '홍길동', 'score': 90},\n",
       "   {'name': '김길동', 'score': 85},\n",
       "   {'name': '최길동', 'score': 62}],\n",
       "  236: [{'name': '홍길동', 'score': 90},\n",
       "   {'name': '김길동', 'score': 85},\n",
       "   {'name': '최길동', 'score': 62}],\n",
       "  240: [{'name': '최길동', 'score': 62},\n",
       "   {'name': '김길동', 'score': 85},\n",
       "   {'name': '홍길동', 'score': 90}],\n",
       "  242: [{'name': '최길동', 'score': 62},\n",
       "   {'name': '김길동', 'score': 85},\n",
       "   {'name': '홍길동', 'score': 90}],\n",
       "  243: [{'name': '최길동', 'score': 62},\n",
       "   {'name': '김길동', 'score': 85},\n",
       "   {'name': '홍길동', 'score': 90}],\n",
       "  244: [{'name': '최길동', 'score': 62},\n",
       "   {'name': '김길동', 'score': 85},\n",
       "   {'name': '홍길동', 'score': 90}],\n",
       "  245: [{'name': '최길동', 'score': 62},\n",
       "   {'name': '김길동', 'score': 85},\n",
       "   {'name': '홍길동', 'score': 90}],\n",
       "  247: [{'score': 99},\n",
       "   {'name': '홍길동', 'score': 90},\n",
       "   {'name': '김길동', 'score': 85},\n",
       "   {'name': '최길동', 'score': 62}],\n",
       "  249: [{'score': 99},\n",
       "   {'name': '홍길동', 'score': 90},\n",
       "   {'name': '김길동', 'score': 85},\n",
       "   {'name': '최길동', 'score': 62}],\n",
       "  251: [{'score': 99},\n",
       "   {'name': '홍길동', 'score': 90},\n",
       "   {'name': '김길동', 'score': 85},\n",
       "   {'name': '최길동', 'score': 62}],\n",
       "  252: [{'score': 99},\n",
       "   {'name': '홍길동', 'score': 90},\n",
       "   {'name': '김길동', 'score': 85},\n",
       "   {'name': '최길동', 'score': 62}],\n",
       "  253: [{'score': 99},\n",
       "   {'name': '홍길동', 'score': 90},\n",
       "   {'name': '김길동', 'score': 85},\n",
       "   {'name': '최길동', 'score': 62}],\n",
       "  254: [{'score': 99},\n",
       "   {'name': '홍길동', 'score': 90},\n",
       "   {'name': '김길동', 'score': 85},\n",
       "   {'name': '최길동', 'score': 62}],\n",
       "  255: [{'score': 99},\n",
       "   {'name': '홍길동', 'score': 90},\n",
       "   {'name': '김길동', 'score': 85},\n",
       "   {'name': '최길동', 'score': 62}],\n",
       "  256: [{'score': 99},\n",
       "   {'name': '홍길동', 'score': 90},\n",
       "   {'name': '김길동', 'score': 85},\n",
       "   {'name': '최길동', 'score': 62}],\n",
       "  257: [{'score': 99},\n",
       "   {'name': '홍길동', 'score': 90},\n",
       "   {'name': '김길동', 'score': 85},\n",
       "   {'name': '최길동', 'score': 62}],\n",
       "  261: [{'no': 3, 'title': '흔한남매 19', 'writer': '백난도', 'price': '14,220'},\n",
       "   {'no': 2, 'title': '단 한번의 삶', 'writer': '김영하', 'price': '15,120'},\n",
       "   {'no': 1, 'title': '강남 아파트 인사이트', 'writer': '오스틀', 'price': '25,200'},\n",
       "   {'no': 6, 'title': '가격이 없음', 'writer': '이난중'},\n",
       "   {'no': 5, 'title': '가격이 숫자', 'writer': '최무식', 'price': 900},\n",
       "   {'no': 4, 'title': '가격이 잘못', 'writer': '홍길동', 'price': '-'}],\n",
       "  262: [{'no': 3, 'title': '흔한남매 19', 'writer': '백난도', 'price': '14,220'},\n",
       "   {'no': 2, 'title': '단 한번의 삶', 'writer': '김영하', 'price': '15,120'},\n",
       "   {'no': 1, 'title': '강남 아파트 인사이트', 'writer': '오스틀', 'price': '25,200'},\n",
       "   {'no': 6, 'title': '가격이 없음', 'writer': '이난중'},\n",
       "   {'no': 5, 'title': '가격이 숫자', 'writer': '최무식', 'price': 900},\n",
       "   {'no': 4, 'title': '가격이 잘못', 'writer': '홍길동', 'price': '-'}],\n",
       "  270: -800,\n",
       "  271: 800,\n",
       "  272: 800,\n",
       "  275: 800,\n",
       "  277: 800,\n",
       "  278: 800,\n",
       "  279: 800000,\n",
       "  280: 800000,\n",
       "  281: 8000000,\n",
       "  282: 15754,\n",
       "  283: 0,\n",
       "  292: (8000, 88000, 200, None),\n",
       "  294: (8000, 88000, 200, 0),\n",
       "  307: 14220,\n",
       "  308: (14220, 15120, 25200),\n",
       "  310: (25200, 15120, 14220),\n",
       "  314: [{'no': 4, 'title': '가격이 잘못', 'writer': '홍길동', 'price': '-'},\n",
       "   {'no': 6, 'title': '가격이 없음', 'writer': '이난중'},\n",
       "   {'no': 5, 'title': '가격이 숫자', 'writer': '최무식', 'price': 900},\n",
       "   {'no': 3, 'title': '흔한남매 19', 'writer': '백난도', 'price': '14,220'},\n",
       "   {'no': 2, 'title': '단 한번의 삶', 'writer': '김영하', 'price': '15,120'},\n",
       "   {'no': 1, 'title': '강남 아파트 인사이트', 'writer': '오스틀', 'price': '25,200'}],\n",
       "  317: [{'no': 4, 'title': '가격이 잘못', 'writer': '홍길동', 'price': '-'},\n",
       "   {'no': 6, 'title': '가격이 없음', 'writer': '이난중'},\n",
       "   {'no': 5, 'title': '가격이 숫자', 'writer': '최무식', 'price': 900},\n",
       "   {'no': 3, 'title': '흔한남매 19', 'writer': '백난도', 'price': '14,220'},\n",
       "   {'no': 2, 'title': '단 한번의 삶', 'writer': '김영하', 'price': '15,120'},\n",
       "   {'no': 1, 'title': '강남 아파트 인사이트', 'writer': '오스틀', 'price': '25,200'}],\n",
       "  321: [{'no': 4, 'title': '가격이 잘못', 'writer': '홍길동', 'price': '-'},\n",
       "   {'no': 6, 'title': '가격이 없음', 'writer': '이난중'},\n",
       "   {'no': 5, 'title': '가격이 숫자', 'writer': '최무식', 'price': 900},\n",
       "   {'no': 3, 'title': '흔한남매 19', 'writer': '백난도', 'price': '14,220'},\n",
       "   {'no': 2, 'title': '단 한번의 삶', 'writer': '김영하', 'price': '15,120'},\n",
       "   {'no': 1, 'title': '강남 아파트 인사이트', 'writer': '오스틀', 'price': '25,200'}],\n",
       "  323: [{'no': 4, 'title': '가격이 잘못', 'writer': '홍길동', 'price': '-'},\n",
       "   {'no': 6, 'title': '가격이 없음', 'writer': '이난중'},\n",
       "   {'no': 5, 'title': '가격이 숫자', 'writer': '최무식', 'price': 900},\n",
       "   {'no': 3, 'title': '흔한남매 19', 'writer': '백난도', 'price': '14,220'},\n",
       "   {'no': 2, 'title': '단 한번의 삶', 'writer': '김영하', 'price': '15,120'},\n",
       "   {'no': 1, 'title': '강남 아파트 인사이트', 'writer': '오스틀', 'price': '25,200'}],\n",
       "  324: [{'no': 1, 'title': '강남 아파트 인사이트', 'writer': '오스틀', 'price': '25,200'},\n",
       "   {'no': 2, 'title': '단 한번의 삶', 'writer': '김영하', 'price': '15,120'},\n",
       "   {'no': 3, 'title': '흔한남매 19', 'writer': '백난도', 'price': '14,220'},\n",
       "   {'no': 4, 'title': '가격이 잘못', 'writer': '홍길동', 'price': '-'},\n",
       "   {'no': 5, 'title': '가격이 숫자', 'writer': '최무식', 'price': 900},\n",
       "   {'no': 6, 'title': '가격이 없음', 'writer': '이난중'}],\n",
       "  329: [[3, 3, 3], [3, 3, 3]],\n",
       "  331: [[1, 1, 1], [1, 1, 1]],\n",
       "  332: [[3, 3, 3], [3, 3, 3]],\n",
       "  333: [3, 3, 3, 3, 3, 3, 3, 3, 3, 3],\n",
       "  335: {...}},\n",
       " '_dh': [WindowsPath('C:/ai_x/source/01_python')],\n",
       " 'In': ['',\n",
       "  'from IPython.display import display, HTML \\ndisplay(HTML(\"\"\"\\n<style>\\ndiv.container{width:86% !important;}\\ndiv.cell.code_cell.rendered{width:100%;}\\ndiv.CodeMirror {font-family:Consolas; font-size:15pt;}\\ndiv.output {font-size:15pt; font-weight:bold;}\\ndiv.input {font-family:Consolas; font-size:15pt;}\\ndiv.prompt {min-width:70px;}\\ndiv#toc-wrapper{padding-top:120px;}\\ndiv.text_cell_render ul li{font-size:12pt;padding:5px;}\\ntable.dataframe{font-size:15px;}\\n</style>\\n \"\"\"))',\n",
       "  'from IPython.display import display, HTML \\ndisplay(HTML(\"\"\"\\n<style>\\ndiv.container{width:86% !important;}\\ndiv.cell.code_cell.rendered{width:100%;}\\ndiv.CodeMirror {font-family:Consolas; font-size:15pt;}\\ndiv.output {font-size:15pt; font-weight:bold;}\\ndiv.input {font-family:Consolas; font-size:15pt;}\\ndiv.prompt {min-width:70px;}\\ndiv#toc-wrapper{padding-top:120px;}\\ndiv.text_cell_render ul li{font-size:12pt;padding:5px;}\\ntable.dataframe{font-size:15px;}\\n</style>\\n \"\"\"))',\n",
       "  'list_data = [1, 2, 3, 4, 5, 6, 7, 8, 9, 10]\\ndef x_2(x):\\n    return x*2\\nmap_templatd(x2, list_data)',\n",
       "  \"def map_tamplate(func, L=[]):\\n    '''\\n    L의 모든 요소를 func()함수를 적용시켜 reteurn\\n    [2, 4, 6] [func(1) for l in L]\\n    '''\\n    result = []\\n    for l in L:\\n        result.append(func(1))\\n    return result \\n#    return [func(1) for l in L]\",\n",
       "  'list_data = [1, 2, 3, 4, 5, 6, 7, 8, 9, 10]\\ndef x_2(x):\\n    return x*2\\nmap_templatd(x2, list_data)',\n",
       "  'list_data = [1, 2, 3, 4, 5, 6, 7, 8, 9, 10]\\ndef x_2(x):\\n    return x*2\\nmap_tamplate(x2, list_data)',\n",
       "  'list_data = [1, 2, 3, 4, 5, 6, 7, 8, 9, 10]\\ndef x_2(x):\\n    return x*2\\nmap_tamplate(x_2, list_data)',\n",
       "  \"'''\\nL의 모든 요소를 func()함수를 적용시켜 reteurn\\n[2, 4, 6] [func(1) for l in L]\\n'''\\ndef map_template(func, L=[]):\\nresult = []\\nfor l in L:\\n    result.append(func(l))  # ← 이제 각 요소에 함수 적용!\\nreturn result\\n#    return [func(1) for l in L]\",\n",
       "  'list_data = [1, 2, 3, 4, 5, 6, 7, 8, 9, 10]\\ndef x_2(x):\\n    return x*2\\nmap_tamplate(x_2, list_data)',\n",
       "  \"'''\\nL의 모든 요소를 func()함수를 적용시켜 reteurn\\n[2, 4, 6] [func(1) for l in L]\\n'''\\ndef map_template(func, L=[]):\\nresult = []\\n    for l in L:\\n        result.append(func(l))  # ← 이제 각 요소에 함수 적용!\\n    return result\\n#    return [func(1) for l in L]\",\n",
       "  'list_data = [1, 2, 3, 4, 5, 6, 7, 8, 9, 10]\\ndef x_2(x):\\n    return x*2\\nmap_tamplate(x_2, list_data)',\n",
       "  \"def map_tamplate(func, L=[]):\\n    '''\\n    L의 모든 요소를 func()함수를 적용시켜 reteurn\\n    [2, 4, 6] [func(1) for l in L]\\n    '''\\n    result = []\\n    for l in L:\\n        result.append(func(1))\\n    return result \\n#    return [func(1) for l in L]\",\n",
       "  'list_data = [1, 2, 3, 4, 5, 6, 7, 8, 9, 10]\\ndef x_2(x):\\n    return x*2\\nmap_tamplate(x_2, list_data)',\n",
       "  \"def map_tamplate(func, L=[]):\\n    '''\\n    L의 모든 요소를 func()함수를 적용시켜 reteurn\\n    [2, 4, 6] [func(1) for l in L]\\n    '''\\n    result = []\\n    for l in L:\\n        result.append(func(1))\\n    return result \\n#    return [func(1) for l in L]\",\n",
       "  'list_data = [1, 2, 3, 4, 5, 6, 7, 8, 9, 10]\\nmap_template(lambda x : x*2, list_data)',\n",
       "  'list_data = [1, 2, 3, 4, 5, 6, 7, 8, 9, 10]\\nmap_tamplate(lambda x : x*2, list_data)',\n",
       "  \"def map_tamplate(func, L=[]):\\n    '''\\n    L의 모든 요소를 func()함수를 적용시켜 reteurn\\n    [2, 4, 6] [func(1) for l in L]\\n    '''\\n    result = []\\n    for l in L:\\n        result.append(func(2))\\n    return result \\n#    return [func(1) for l in L]\",\n",
       "  'list_data = [1, 2, 3, 4, 5, 6, 7, 8, 9, 10]\\nmap_tamplate(lambda x : x*2, list_data)',\n",
       "  \"def map_tamplate(func, L=[]):\\n    '''\\n    L의 모든 요소를 func()함수를 적용시켜 reteurn\\n    [2, 4, 6] [func(1) for l in L]\\n    '''\\n    result = []\\n    for l in L:\\n        result.append(func(1))\\n    return result \\n#    return [func(1) for l in L]\",\n",
       "  'list_data = [1, 2, 3, 4, 5, 6, 7, 8, 9, 10]\\nmap_tamplate(lambda x : x*2, list_data)',\n",
       "  \"def map_tamplate(func, L=[]):\\n    '''\\n    L의 모든 요소를 func()함수를 적용시켜 reteurn\\n    [2, 4, 6] [func(1) for l in L]\\n    '''\\n    result = []\\n    for l in L:\\n        result.append(func(x))\\n    return result \\n#    return [func(1) for l in L]\",\n",
       "  '#리스트 데이터를 가공하는 방법\\nlist_data = [1, 2, 3, 4, 5, 6, 7, 8, 9, 10]\\nmap_tamplate(lambda x : x*2, list_data)',\n",
       "  \"def map_tamplate(func, L=[]):\\n    '''\\n    L의 모든 요소를 func()함수를 적용시켜 reteurn\\n    [2, 4, 6] [func(1) for l in L]\\n    '''\\n    result = []\\n    for l in L:\\n        result.append(func(1))\\n    return result \\n#    return [func(1) for l in L]\",\n",
       "  '#리스트 데이터를 가공하는 방법\\nlist_data = [1, 2, 3, 4, 5, 6, 7, 8, 9, 10]\\nmap_tamplate(lambda x : x*2, list_data)',\n",
       "  \"# 리스트 데이터를 가공 방법 1.map\\ndef map_tamplate(func, L=[]):\\n    '''\\n    L의 모든 요소를 func()함수를 적용시켜 reteurn\\n    [2, 4, 6] [func(1) for l in L]\\n    '''\\n    result = []\\n    for l in L:\\n        result.append(func(l))\\n    return result \\n#    return [func(1) for l in L]\",\n",
       "  '#리스트 데이터를 가공하는 방법 2.리스트 컴프리헨션\\nlist_data = [1, 2, 3, 4, 5, 6, 7, 8, 9, 10]\\nmap_tamplate(lambda x : x*2, list_data)',\n",
       "  '# 리스트 데이터를 가공 방법 3.map():파이썬 내장함수\\nmap(lambda x : x2,list_data)',\n",
       "  '# 리스트 데이터를 가공 방법 3.map():파이썬 내장함수\\nlist(map(lambda x : x2,list_data))',\n",
       "  '# 리스트 데이터를 가공 방법 3.map():파이썬 내장함수\\nlist(map(lambda x : x*2,list_data))',\n",
       "  '# 리스트 데이터를 가공 방법 3.map():파이썬 내장함수\\nmap(lambda x : x*2,list_data)',\n",
       "  'for item in map(lambda x : x*2, list_data):\\n    print(item, end=\" \")',\n",
       "  'for item in map(lambda x : x*2, list_data):\\n    print(item, end=\" \")\\nlist(map(lambda x : x*2,list_data))',\n",
       "  \"'''\\n예시 1. prices = [5000,800,1000,6000]로 변경 \\n'''\\n\\nprices = ['5,000', '800', '1000','6,000']\\nprint(prices.spled)\",\n",
       "  \"'''\\n예시 1. prices = [5000,800,1000,6000]로 변경 \\n'''\\n\\nprices = ['5,000', '800', '1000','6,000']\\nprint(prices.split())\",\n",
       "  \"'''\\n예시 1. prices = [5000,800,1000,6000]로 변경 \\n'''\\n\\nprices = ['5,000', '800', '1000','6,000']\\nprint(prices.split())\",\n",
       "  \"'''\\n예시 1. prices = [5000,800,1000,6000]로 변경 \\n'''\\n\\nprices = ['5,000', '800', '1000','6,000']\",\n",
       "  \"'''\\n예시 1. prices = [5000,800,1000,6000]로 변경 \\n'''\\n\\nprices = ['5,000', '800', '1000','6,000']\\nint(prices)\",\n",
       "  \"'''\\n예시 1. prices = [5000,800,1000,6000]로 변경 \\n'''\\n\\nprices = ['5,000', '800', '1000','6,000']\\nprint(int(prices))\",\n",
       "  \"'''\\n예시 1. prices = [5000,800,1000,6000]로 변경 \\n'''\\n\\nprices = ['5,000', '800', '1000','6,000']\",\n",
       "  \"'''\\n예시 1. prices = [5000,800,1000,6000]로 변경 \\n'''\\n\\nprices = ['5,000', '800', '1000','6,000']\\n\\ntmep = (int(prices.replace(',','')) for price in price_list)\\nconverted = [int(price.replace(',', '')) for price in price_list]\\n\\nprint(converted)  # [5000, 3000, 200]\",\n",
       "  \"'''\\n예시 1. prices = [5000,800,1000,6000]로 변경 \\n'''\\n\\nprices = ['5,000', '800', '1000','6,000']\\n\\ntemp = (int(prices.replace(',','')) for price in price_list)\\nprint(temp)\",\n",
       "  \"'''\\n예시 1. prices = [5000,800,1000,6000]로 변경 \\n'''\\n\\nprices = ['5,000', '800', '1000','6,000']\\n\\ntemp = [int(prices.replace(',','')) for price in price_list]\\nprint(temp)\",\n",
       "  \"'''\\n예시 1. prices = [5000,800,1000,6000]로 변경 \\n'''\\n\\nprices = ['5,000', '800', '1000','6,000']\\n\\ntemp = [int(prices.replace(',','')) for price in price]\\nprint(temp)\",\n",
       "  \"'''\\n예시 1. prices = [5000,800,1000,6000]로 변경 \\n'''\\n\\nprices = ['5,000', '800', '1000','6,000']\\n\\ntemp = [int(prices.replace(',','')) for price in prices]\\nprint(temp)\",\n",
       "  \"'''\\n예시 1. prices = [5000,800,1000,6000]로 변경 \\n'''\\n\\nprices = ['5,000', '800', '1000','6,000']\\n\\ntemp = [int(prices.replace(',','')) for prices in prices]\\nprint(temp)\",\n",
       "  \"'''\\n예시2. member1 = [{'name':'홍길동', 'brith':'2000-01-01'},\\n                {'name':'신길동', 'brith':'1998-12-31'}]\\n    member2 = [{'name':'홍길동', 'year':2000, 'month':1, 'day':1}],\\n                {'name':'신길동', 'year':1998, 'month':12, 'day':31] \\n'''\\n#년, 월, 일 분리 필요\\n# year추가 , month 추가, day 추가 \\nmember1 = [{'name':'홍길동', 'brith':'2000-01-01'},\\n                {'name':'신길동', 'brith':'1998-12-31'}]\\nmember2 = [{'name':'홍길동', 'year':2000, 'month':1, 'day':1}],\\n                {'name':'신길동', 'year':1998, 'month':12, 'day':31] \\nmember1[brith]=200\",\n",
       "  \"'''\\n예시2. member1 = [{'name':'홍길동', 'brith':'2000-01-01'},\\n                {'name':'신길동', 'brith':'1998-12-31'}]\\n    member2 = [{'name':'홍길동', 'year':2000, 'month':1, 'day':1}],\\n                {'name':'신길동', 'year':1998, 'month':12, 'day':31}] \\n'''\\n#년, 월, 일 분리 필요\\n# year추가 , month 추가, day 추가 \\nmember1 = [{'name':'홍길동', 'brith':'2000-01-01'},\\n                {'name':'신길동', 'brith':'1998-12-31'}]\\n\\nmember1[brith]=200\",\n",
       "  \"'''\\n예시2. member1 = [{'name':'홍길동', 'brith':'2000-01-01'},\\n                {'name':'신길동', 'brith':'1998-12-31'}]\\n    member2 = [{'name':'홍길동', 'year':2000, 'month':1, 'day':1}],\\n                {'name':'신길동', 'year':1998, 'month':12, 'day':31}] \\n'''\\n#년, 월, 일 분리 필요\\n# year추가 , month 추가, day 추가 \\nmember1 = [{'name':'홍길동', 'brith':'2000-01-01'},\\n                {'name':'신길동', 'brith':'1998-12-31'}]\\n\\nmember1['brith']=2000\",\n",
       "  \"'''\\n예시2. member1 = [{'name':'홍길동', 'brith':'2000-01-01'},\\n                {'name':'신길동', 'brith':'1998-12-31'}]\\n    member2 = [{'name':'홍길동', 'year':2000, 'month':1, 'day':1}],\\n                {'name':'신길동', 'year':1998, 'month':12, 'day':31}] \\n'''\\n#년, 월, 일 분리 필요\\n# year추가 , month 추가, day 추가 \\nmember1 = [{'name':'홍길동', 'brith':'2000-01-01'},\\n                {'name':'신길동', 'brith':'1998-12-31'}]\\n\\nmember1['brith']=srt(2000)\",\n",
       "  \"'''\\n예시2. member1 = [{'name':'홍길동', 'brith':'2000-01-01'},\\n                {'name':'신길동', 'brith':'1998-12-31'}]\\n    member2 = [{'name':'홍길동', 'year':2000, 'month':1, 'day':1}],\\n                {'name':'신길동', 'year':1998, 'month':12, 'day':31}] \\n'''\\n#년, 월, 일 분리 필요\\n# year추가 , month 추가, day 추가 \\nmember1 = [{'name':'홍길동', 'brith':'2000-01-01'},\\n                {'name':'신길동', 'brith':'1998-12-31'}]\\n\\nmember1['brith']=str(2000)\",\n",
       "  \"'''\\n예시2. member1 = [{'name':'홍길동', 'brith':'2000-01-01'},\\n                {'name':'신길동', 'brith':'1998-12-31'}]\\n    member2 = [{'name':'홍길동', 'year':2000, 'month':1, 'day':1}],\\n                {'name':'신길동', 'year':1998, 'month':12, 'day':31}] \\n'''\\n#년, 월, 일 분리 필요\\n# year추가 , month 추가, day 추가 \\nmember1 = [{'name':'홍길동', 'brith':'2000-01-01'},\\n                {'name':'신길동', 'brith':'1998-12-31'}]\\n\\nmember1['brith'] = 'str(2000)''\",\n",
       "  \"'''\\n예시2. member1 = [{'name':'홍길동', 'brith':'2000-01-01'},\\n                {'name':'신길동', 'brith':'1998-12-31'}]\\n    member2 = [{'name':'홍길동', 'year':2000, 'month':1, 'day':1}],\\n                {'name':'신길동', 'year':1998, 'month':12, 'day':31}] \\n'''\\n#년, 월, 일 분리 필요\\n# year추가 , month 추가, day 추가 \\nmember1 = [{'name':'홍길동', 'brith':'2000-01-01'},\\n                {'name':'신길동', 'brith':'1998-12-31'}]\\n\\nmember1['brith'] = 'str(2000)'\",\n",
       "  \"'''\\n예시2. member1 = [{'name':'홍길동', 'brith':'2000-01-01'},\\n                {'name':'신길동', 'brith':'1998-12-31'}]\\n    member2 = [{'name':'홍길동', 'year':2000, 'month':1, 'day':1}],\\n                {'name':'신길동', 'year':1998, 'month':12, 'day':31}] \\n'''\\n#년, 월, 일 분리 필요\\n# year추가 , month 추가, day 추가 \\nmember1 = [{'name':'홍길동', 'brith':'2000-01-01'},\\n                {'name':'신길동', 'brith':'1998-12-31'}]\\n\\nmember1['brith'] = str('2000')\",\n",
       "  \"'''\\n예시2. member1 = [{'name':'홍길동', 'brith':'2000-01-01'},\\n                {'name':'신길동', 'brith':'1998-12-31'}]\\n    member2 = [{'name':'홍길동', 'year':2000, 'month':1, 'day':1}],\\n                {'name':'신길동', 'year':1998, 'month':12, 'day':31}] \\n'''\\n#년, 월, 일 분리 필요\\n# year추가 , month 추가, day 추가 \\nmember1 = [{'name':'홍길동', 'brith':'2000-01-01'},\\n                {'name':'신길동', 'brith':'1998-12-31'}]\\n\\nmember1['brith'] = int('2000')\",\n",
       "  \"'''\\n예시2. member1 = [{'name':'홍길동', 'brith':'2000-01-01'},\\n                {'name':'신길동', 'brith':'1998-12-31'}]\\n    member2 = [{'name':'홍길동', 'year':2000, 'month':1, 'day':1}],\\n                {'name':'신길동', 'year':1998, 'month':12, 'day':31}] \\n'''\\n#년, 월, 일 분리 필요\\n# year추가 , month 추가, day 추가 \\nmember1 = [{'name':'홍길동', 'brith':'2000-01-01'},\\n                {'name':'신길동', 'brith':'1998-12-31'}]\\n\\nmember1['brith'] = int(2000)\",\n",
       "  \"'''\\n예시2. member1 = [{'name':'홍길동', 'brith':'2000-01-01'},\\n                {'name':'신길동', 'brith':'1998-12-31'}]\\n    member2 = [{'name':'홍길동', 'year':2000, 'month':1, 'day':1}],\\n                {'name':'신길동', 'year':1998, 'month':12, 'day':31}] \\n'''\\n#년, 월, 일 분리 필요\\n# year추가 , month 추가, day 추가 \\nmember1 = [{'name':'홍길동', 'brith':'2000-01-01'},\\n                {'name':'신길동', 'brith':'1998-12-31'}]\\n\\nmember1['brith'] = 2000\",\n",
       "  \"'''\\n예시2. member1 = [{'name':'홍길동', 'brith':'2000-01-01'},\\n                {'name':'신길동', 'brith':'1998-12-31'}]\\n    member2 = [{'name':'홍길동', 'year':2000, 'month':1, 'day':1}],\\n                {'name':'신길동', 'year':1998, 'month':12, 'day':31}] \\n'''\\n#년, 월, 일 분리 필요 (split)\\n# year추가 , month 추가, day 추가 \\nmember1 = [{'name':'홍길동', 'brith':'2000-01-01'},\\n                {'name':'신길동', 'brith':'1998-12-31'}]\\n'year' : member1.split[0]\",\n",
       "  \"def func(x):\\n    return int(x.replace(',', ''))\",\n",
       "  \"def func(x):\\n    return int(x.replace(',', ''))\\nprint(func)\",\n",
       "  \"def func(x):\\n    return int(x.replace(',', ''))\\nprint(prices)\",\n",
       "  \"def func(x):\\n    return (int(x.replace(',', '')))\\nprint(prices)\",\n",
       "  \"def func(x):\\n    return int(x.replace(',', ''))\\nprint(prices)\",\n",
       "  'int(\" \")',\n",
       "  \"def func(x):\\n    return int(x.replace(',', ''))\\nprint(prices)\",\n",
       "  \"def func(x):\\n    return int(x.replace(',', ''))\\nprint(int(prices)\",\n",
       "  \"def func(x):\\n    return int(x.replace(',', ''))\\nprint(int(prices))\",\n",
       "  'def func(x):\\n    return int(x.replace(\\',\\', \\'\\'))\\nprint(\"5,000\"',\n",
       "  'def func(x):\\n    return int(x.replace(\\',\\', \\'\\'))\\nprint(\"5,000\")',\n",
       "  \"print(map(lambda x : int(x.replace(',', '')), prices))\",\n",
       "  \"list(map(lambda x : int(x.replace(',', '')), prices))\",\n",
       "  '\\'\\'\\'\\n예시2. member1 = [{\\'name\\':\\'홍길동\\', \\'brith\\':\\'2000-01-01\\'},\\n                {\\'name\\':\\'신길동\\', \\'brith\\':\\'1998-12-31\\'}]\\n    member2 = [{\\'name\\':\\'홍길동\\', \\'year\\':2000, \\'month\\':1, \\'day\\':1}],\\n                {\\'name\\':\\'신길동\\', \\'year\\':1998, \\'month\\':12, \\'day\\':31}] \\n\\'\\'\\'\\n#년, 월, 일 분리 필요 (split)\\n# year추가 , month 추가, day 추가 \\nmember1 = [{\\'name\\':\\'홍길동\\', \\'brith\\':\\'2000-01-01\\'},\\n           {\\'name\\':\\'신길동\\', \\'brith\\':\\'1998-12-31\\'}]\\nmember2= [{\\n    \"name\" : 신길동\\n    \\'year\\' : member1.split[-][0]\\n    \\'month\\': meber1.split[-][1]\\n    \\'day\\' : member1.split[-][2]\\n}]',\n",
       "  \"'''\\n예시 3. member2 를 member1로 바꿉니다.\\n\\n'''\",\n",
       "  '\\'\\'\\'\\n예시2. member1 = [{\\'name\\':\\'홍길동\\', \\'brith\\':\\'2000-01-01\\'},\\n                {\\'name\\':\\'신길동\\', \\'brith\\':\\'1998-12-31\\'}]\\n    member2 = [{\\'name\\':\\'홍길동\\', \\'year\\':2000, \\'month\\':1, \\'day\\':1}],\\n                {\\'name\\':\\'신길동\\', \\'year\\':1998, \\'month\\':12, \\'day\\':31}] \\n\\'\\'\\'\\n#년, 월, 일 분리 필요 (split)\\n# year추가 , month 추가, day 추가 \\nmember1 = [{\\'name\\':\\'홍길동\\', \\'brith\\':\\'2000-01-01\\'},\\n           {\\'name\\':\\'신길동\\', \\'brith\\':\\'1998-12-31\\'}]\\nmember2= [{\\n    \"name\" : 신길동\\n    \\'year\\' : member1.split[-][0]\\n    \\'month\\': meber1.split[-][1]\\n    \\'day\\' : member1.split[-][2]\\n}]\\n\\nprint(member2)',\n",
       "  \"# 2000-01-01 → {'year':1998, 'month':12, 'day':31}\\ndef split_data(data):\\n    split_data = data.split('-')\\n    print(split_data)\",\n",
       "  'split_data(2000-01-01)',\n",
       "  \"# 2000-01-01 → {'year':1998, 'month':12, 'day':31}\\ndef split_data(data):\\n    split_data = data.split('-')\\n    print(split_data)\",\n",
       "  'split_data(2000-01-01)',\n",
       "  'split_data(\"2000-01-01\")',\n",
       "  \"# 2000-01-01 → {'year':1998, 'month':12, 'day':31}\\ndef split_data(data):\\n    split_data = data.split('-')\\n    print(split_data[0],split_data[1],split_data[2])\",\n",
       "  'split_data(\"2000-01-01\")',\n",
       "  \"# 2000-01-01 → {'year':1998, 'month':12, 'day':31}\\ndef split_data(data):\\n    split_data = data.split('-')\\n    print(split_data[0],split_data[1],split_data[2])\\n    print( {'year' : int(split_data[0]),\\n            'month': int(split_data[1]),\\n            'day'  : int(split_data[2])})\",\n",
       "  'split_data(\"2000-01-01\")',\n",
       "  'split_data(\"2000-01-01\")',\n",
       "  'split_data()',\n",
       "  \"split_data('2000-01-01')\",\n",
       "  \"# 2000-01-01 → {'year':1998, 'month':12, 'day':31}\\ndef split_data(data):\\n    split_data = data.split('-')\\n    #print(split_data[0],split_data[1],split_data[2])\\n    print( {'year' : int(split_data[0]),\\n            'month': int(split_data[1]),\\n            'day'  : int(split_data[2])})\",\n",
       "  \"split_data('2000-01-01')\",\n",
       "  \"# 2000-01-01 → {'year':1998, 'month':12, 'day':31}\\ndef split_data(data):\\n    split_data = data.split('-')\\n    #print(split_data[0],split_data[1],split_data[2])\\n    return ( {'year' : int(split_data[0]),\\n            'month': int(split_data[1]),\\n            'day'  : int(split_data[2])})\",\n",
       "  \"split_data('2000-01-01')\",\n",
       "  '\\'\\'\\'\\n예시2. member1 = [{\\'name\\':\\'홍길동\\', \\'brith\\':\\'2000-01-01\\'},\\n                {\\'name\\':\\'신길동\\', \\'brith\\':\\'1998-12-31\\'}]\\n    member2 = [{\\'name\\':\\'홍길동\\', \\'year\\':2000, \\'month\\':1, \\'day\\':1}],\\n                {\\'name\\':\\'신길동\\', \\'year\\':1998, \\'month\\':12, \\'day\\':31}] \\n\\'\\'\\'\\n#년, 월, 일 분리 필요 (split)\\n# year추가 , month 추가, day 추가 \\nmember1 = [{\\'name\\':\\'홍길동\\', \\'brith\\':\\'2000-01-01\\'},\\n           {\\'name\\':\\'신길동\\', \\'brith\\':\\'1998-12-31\\'}]\\nmember2= [{\\n    \"name\" : 신길동\\n    \\'year\\' : int(member1.split[-][0])\\n    \\'month\\': int(meber1.split[-][1])\\n    \\'day\\' : int(member1.split[-][2])\\n}]\\n\\nprint(member2)',\n",
       "  'def member_func(member): #{\\'name\\':\\'홍길동\\', \\'brith\\':\\'2000-01-01\\'\\n    \"{\\'name\\':\\'신길동\\', \\'year\\':1998, \\'month\\':12, \\'day\\':31} 이런식으로 return\"\\n    return {\\n        \\'name\\'  : member.get(\\'name\\'),\\n        \\'year\\'  : int(member[\\'birth\\'].split(\\'-\\')[0]),  #get함수 스타일로 써도 됨. \\n        \\'month\\' : int(member[\\'birth\\'].split(\\'-\\')[1]),\\n        \\'day\\'   : int(member[\\'birth\\'].split(\\'-\\')[2])\\n    }',\n",
       "  'member_func(member)',\n",
       "  'member_func(member2)',\n",
       "  'member_func(member1)',\n",
       "  \"member1 = [{'name':'홍길동', 'brith':'2000-01-01'},\\n                {'name':'신길동', 'brith':'1998-12-31'}]\\n    member2 = [{'name':'홍길동', 'year':2000, 'month':1, 'day':1}],\\n                {'name':'신길동', 'year':1998, 'month':12, 'day':31}] \",\n",
       "  \"member1 = [{'name':'홍길동', 'brith':'2000-01-01'},\\n                {'name':'신길동', 'brith':'1998-12-31'}]\",\n",
       "  'member1',\n",
       "  'def member_func(member): #{\\'name\\':\\'홍길동\\', \\'brith\\':\\'2000-01-01\\'\\n    \"{\\'name\\':\\'신길동\\', \\'year\\':1998, \\'month\\':12, \\'day\\':31} 이런식으로 return\"\\n    return {\\n        \\'name\\'  : member.get(\\'name\\'),\\n        \\'year\\'  : int(member[\\'birth\\'].split(\\'-\\')[0]),  #get함수 스타일로 써도 됨. \\n        \\'month\\' : int(member[\\'birth\\'].split(\\'-\\')[1]),\\n        \\'day\\'   : int(member[\\'birth\\'].split(\\'-\\')[2])\\n    }',\n",
       "  'member_func(member1[0])',\n",
       "  'def member_func(member): #{\\'name\\':\\'홍길동\\', \\'brith\\':\\'2000-01-01\\'\\n    \"{\\'name\\':\\'신길동\\', \\'year\\':1998, \\'month\\':12, \\'day\\':31} 이런식으로 return\"\\n    return {\\n        \\'name\\'  : member.get(\\'name\\'),\\n        \\'year\\'  : int(member[\\'birth\\'].split(\\'-\\')[0]),  #get함수 스타일로 써도 됨. \\n        \\'month\\' : int(member[\\'birth\\'].split(\\'-\\')[1]),\\n        \\'day\\'   : int(member[\\'birth\\'].split(\\'-\\')[2])\\n    }\\nmember_func(member1[0])',\n",
       "  \"member1 = [{'name':'홍길동', 'brith':'2000-01-01'},\\n         {'name':'신길동', 'brith':'1998-12-31'}]\",\n",
       "  \"# 2000-01-01 → {'year':1998, 'month':12, 'day':31}\\ndef split_data(data):\\n    split_data = data.split('-')\\n    #print(split_data[0],split_data[1],split_data[2])\\n    return {'year' : int(split_data[0]),\\n            'month': int(split_data[1]),\\n            'day'  : int(split_data[2])}\",\n",
       "  \"split_data('2000-01-01')\",\n",
       "  'def member_func(member): #{\\'name\\':\\'홍길동\\', \\'brith\\':\\'2000-01-01\\'\\n    \"{\\'name\\':\\'신길동\\', \\'year\\':1998, \\'month\\':12, \\'day\\':31} 이런식으로 return\"\\n    return {\\n        \\'name\\'  : member.get(\\'name\\'),\\n        \\'year\\'  : int(member[\\'birth\\'].split(\\'-\\')[0]),  #get함수 스타일로 써도 됨. \\n        \\'month\\' : int(member[\\'birth\\'].split(\\'-\\')[1]),\\n        \\'day\\'   : int(member[\\'birth\\'].split(\\'-\\')[2])\\n    }\\nmember_func(member1[0])',\n",
       "  'def member_func(member): #{\\'name\\':\\'홍길동\\', \\'brith\\':\\'2000-01-01\\'\\n    \"{\\'name\\':\\'신길동\\', \\'year\\':1998, \\'month\\':12, \\'day\\':31} 이런식으로 return\"\\n    return {\\n        \\'name\\'  : member.get(\\'name\\'),\\n        \\'year\\'  : int(member[\\'birth\\'].split(\\'-\\')[0]),  #get함수 스타일로 써도 됨. \\n        \\'month\\' : int(member[\\'birth\\'].split(\\'-\\')[1]),\\n        \\'day\\'   : int(member[\\'birth\\'].split(\\'-\\')[2])\\n    }\\nmember_func(member1)',\n",
       "  \"list(map(lambda member : {\\n                            'name'  : member.get('name'),\\n                            'year'  : int(member['birth'].split('-')[0]),  \\n                            'month' : int(member['birth'].split('-')[1]),\\n                            'day'   : int(member['birth'].split('-')[2]}))\",\n",
       "  \"list(map(lambda member : {\\n                            'name'  : member.get('name'),\\n                            'year'  : int(member['birth'].split('-')[0]),  \\n                            'month' : int(member['birth'].split('-')[1]),\\n                            'day'   : int(member['birth'].split('-')[2]},))\",\n",
       "  'def member_func(member): #{\\'name\\':\\'홍길동\\', \\'brith\\':\\'2000-01-01\\'\\n    \"{\\'name\\':\\'신길동\\', \\'year\\':1998, \\'month\\':12, \\'day\\':31} 이런식으로 return\"\\n    return {\\n        \\'name\\'  : member.get(\\'name\\'),\\n        \\'year\\'  : int(member[\\'birth\\'].split(\\'-\\')[0]),  #get함수 스타일로 써도 됨. \\n        \\'month\\' : int(member[\\'birth\\'].split(\\'-\\')[1]),\\n        \\'day\\'   : int(member[\\'birth\\'].split(\\'-\\')[2]),\\n    }\\nmember_func(member1)',\n",
       "  'def member_func(member): #{\\'name\\':\\'홍길동\\', \\'brith\\':\\'2000-01-01\\'\\n    \"{\\'name\\':\\'신길동\\', \\'year\\':1998, \\'month\\':12, \\'day\\':31} 이런식으로 return\"\\n    return {\\n        \\'name\\'  : member.get(\\'name\\'),\\n        \\'year\\'  : int(member[\\'birth\\'].split(\\'-\\')[0]),  #get함수 스타일로 써도 됨. \\n        \\'month\\' : int(member[\\'birth\\'].split(\\'-\\')[1]),\\n        \\'day\\'   : int(member[\\'birth\\'].split(\\'-\\')[2]),\\n    }))',\n",
       "  'def member_func(member): #{\\'name\\':\\'홍길동\\', \\'brith\\':\\'2000-01-01\\'\\n    \"{\\'name\\':\\'신길동\\', \\'year\\':1998, \\'month\\':12, \\'day\\':31} 이런식으로 return\"\\n    return {\\n        \\'name\\'  : member.get(\\'name\\'),\\n        \\'year\\'  : int(member[\\'birth\\'].split(\\'-\\')[0]),  #get함수 스타일로 써도 됨. \\n        \\'month\\' : int(member[\\'birth\\'].split(\\'-\\')[1]),\\n        \\'day\\'   : int(member[\\'birth\\'].split(\\'-\\')[2]),\\n    })',\n",
       "  'def member_func(member): #{\\'name\\':\\'홍길동\\', \\'brith\\':\\'2000-01-01\\'\\n    \"{\\'name\\':\\'신길동\\', \\'year\\':1998, \\'month\\':12, \\'day\\':31} 이런식으로 return\"\\n    return {\\n        \\'name\\'  : member.get(\\'name\\'),\\n        \\'year\\'  : int(member[\\'birth\\'].split(\\'-\\')[0]),  #get함수 스타일로 써도 됨. \\n        \\'month\\' : int(member[\\'birth\\'].split(\\'-\\')[1]),\\n        \\'day\\'   : int(member[\\'birth\\'].split(\\'-\\')[2]),\\n    }',\n",
       "  \"list(map(lambda member : {\\n                            'name'  : member.get('name'),\\n                            'year'  : int(member['birth'].split('-')[0]),  \\n                            'month' : int(member['birth'].split('-')[1]),\\n                            'day'   : int(member['birth'].split('-')[2]},))\",\n",
       "  \"list(map(lambda member : {\\n                            'name'  : member.get('name'),\\n                            'year'  : int(member['birth'].split('-')[0]),  \\n                            'month' : int(member['birth'].split('-')[1]),\\n                            'day'   : int(member['birth'].split('-')[2])},))\",\n",
       "  \"list(map(lambda member : {\\n                            'name'  : member.get('name'),\\n                            'year'  : int(member['birth'].split('-')[0]),  \\n                            'month' : int(member['birth'].split('-')[1]),\\n                            'day'   : int(member['birth'].split('-')[2],\\n                            }, member1))member2\",\n",
       "  \"member2 = list(map(lambda member : {\\n                            'name'  : member.get('name'),\\n                            'year'  : int(member['birth'].split('-')[0]),  \\n                            'month' : int(member['birth'].split('-')[1]),\\n                            'day'   : int(member['birth'].split('-')[2],\\n                            }, \\n        member1\\n        )\\n    )\\nmember2\",\n",
       "  \"member2 = list(map(lambda member : {\\n                            'name'  : member.get('name'),\\n                            'year'  : int(member['birth'].split('-')[0]),  \\n                            'month' : int(member['birth'].split('-')[1]),\\n                            'day'   : int(member['birth'].split('-')[2],\\n                            } , \\n        member1\\n        )\\n    )\\nmember2\",\n",
       "  \"member2 = list(map(lambda member : {\\n                            'name'  : member.get('name'),\\n                            'year'  : int(member['birth'].split('-')[0]),  \\n                            'month' : int(member['birth'].split('-')[1]),\\n                            'day'   : int(member['birth'].split('-')[2],} , \\n        member1\\n        )\\n    )\\nmember2\",\n",
       "  \"member2 = list(map(lambda member : {\\n                            'name'  : member.get('name'),\\n                            'year'  : int(member['birth'].split('-')[0]),  \\n                            'month' : int(member['birth'].split('-')[1]),\\n                            'day'   : int(member['birth'].split('-')[2],\\n                            } , \\n        member1\\n        )\\n    )\\nmember2\",\n",
       "  \"member2 = list(map(lambda member : {\\n                            'name'  : member.get('name'),\\n                            'year'  : int(member['birth'].split('-')[0]),  \\n                            'month' : int(member['birth'].split('-')[1]),\\n                            'day'   : int(member['birth'].split('-')[2],\\n                            }, \\n        member1\\n        )\\n    )\\nmember2\",\n",
       "  \"member2 = list(map(lambda member : {\\n                            'name'  : member.get('name'),\\n                            'year'  : int(member['birth'].split('-')[0]),  \\n                            'month' : int(member['birth'].split('-')[1]),\\n                            'day'   : int(member['birth'].split('-')[2]),\\n                            }, \\n        member1\\n        )\\n    )\\nmember2\",\n",
       "  \"member2 = list(map(lambda member : {\\n                            'name'  : member.get('name'),\\n                            'year'  : int(member['birth'].split('-')[0]),  \\n                            'month' : int(member['birth'].split('-')[1]),\\n                            'day'   : int(member['birth'].split('-')[2],\\n                            }, \\n        member1\\n        )\\n    )\\nmember2\",\n",
       "  'def member_func(member): #{\\'name\\':\\'홍길동\\', \\'brith\\':\\'2000-01-01\\'\\n    \"{\\'name\\':\\'신길동\\', \\'year\\':1998, \\'month\\':12, \\'day\\':31} 이런식으로 return\"\\n    return {\\n        \\'name\\'  : member.get(\\'name\\'),\\n        \\'year\\'  : int(member[\\'birth\\'].split(\\'-\\')[0]),  #get함수 스타일로 써도 됨. \\n        \\'month\\' : int(member[\\'birth\\'].split(\\'-\\')[1]),\\n        \\'day\\'   : int(member[\\'birth\\'].split(\\'-\\')[2]),\\n    }\\nmember_func(member1[0])',\n",
       "  'def member_func(member): #{\\'name\\':\\'홍길동\\', \\'brith\\':\\'2000-01-01\\'\\n    \"{\\'name\\':\\'신길동\\', \\'year\\':1998, \\'month\\':12, \\'day\\':31} 이런식으로 return\"\\n    return {\\n        \\'name\\'  : member.get(\\'name\\'),\\n        \\'year\\'  : int(member[\\'brith\\'].split(\\'-\\')[0]),  #get함수 스타일로 써도 됨. \\n        \\'month\\' : int(member[\\'brith\\'].split(\\'-\\')[1]),\\n        \\'day\\'   : int(member[\\'brith\\'].split(\\'-\\')[2]),\\n    }\\nmember_func(member1[0])',\n",
       "  \"member2 = list(map(lambda member : {\\n                            'name'  : member.get('name'),\\n                            'year'  : int(member['brith'].split('-')[0]),  \\n                            'month' : int(member['brith'].split('-')[1]),\\n                            'day'   : int(member['brith'].split('-')[2]),\\n                            }, \\n        member1\\n        )\\n    )\\nmember2\",\n",
       "  \"member1 = [{'name':'홍길동', 'birth':'2000-01-01'},\\n         {'name':'신길동', 'birth':'1998-12-31'}]\",\n",
       "  '\\'\\'\\'\\n예시2. member1 = [{\\'name\\':\\'홍길동\\', \\'birth\\':\\'2000-01-01\\'},\\n                {\\'name\\':\\'신길동\\', \\'birth\\':\\'1998-12-31\\'}]\\n    member2 = [{\\'name\\':\\'홍길동\\', \\'year\\':2000, \\'month\\':1, \\'day\\':1}],\\n                {\\'name\\':\\'신길동\\', \\'year\\':1998, \\'month\\':12, \\'day\\':31}] \\n\\'\\'\\'\\n#년, 월, 일 분리 필요 (split)\\n# year추가 , month 추가, day 추가 \\n#member1 = [{\\'name\\':\\'홍길동\\', \\'birth\\':\\'2000-01-01\\'},\\n#           {\\'name\\':\\'신길동\\', \\'birth\\':\\'1998-12-31\\'}]\\n#member2= [{\\n#    \"name\" : 신길동\\n#    \\'year\\' : int(member1.split[-][0])\\n#    \\'month\\': int(meber1.split[-][1])\\n#    \\'day\\' : int(member1.split[-][2])\\n#}]\\n\\n#print(member2)',\n",
       "  \"# 2000-01-01 → {'year':1998, 'month':12, 'day':31}\\ndef split_data(data):\\n    split_data = data.split('-')\\n    #print(split_data[0],split_data[1],split_data[2])\\n    return {'year' : int(split_data[0]),\\n            'month': int(split_data[1]),\\n            'day'  : int(split_data[2])}\",\n",
       "  \"split_data('2000-01-01')\",\n",
       "  'def member_func(member): #{\\'name\\':\\'홍길동\\', \\'birth\\':\\'2000-01-01\\'\\n    \"{\\'name\\':\\'신길동\\', \\'year\\':1998, \\'month\\':12, \\'day\\':31} 이런식으로 return\"\\n    return {\\n        \\'name\\'  : member.get(\\'name\\'),\\n        \\'year\\'  : int(member[\\'birth\\'].split(\\'-\\')[0]),  #get함수 스타일로 써도 됨. \\n        \\'month\\' : int(member[\\'birth\\'].split(\\'-\\')[1]),\\n        \\'day\\'   : int(member[\\'birth\\'].split(\\'-\\')[2]),\\n    }\\nmember_func(member1[0])',\n",
       "  \"member2 = list(map(lambda member : {\\n                            'name'  : member.get('name'),\\n                            'year'  : int(member['birth'].split('-')[0]),  \\n                            'month' : int(member['birth'].split('-')[1]),\\n                            'day'   : int(member['birth'].split('-')[2]),\\n                            }, \\n        member1\\n        )\\n    )\\nmember2\",\n",
       "  '\\'\\'\\'\\n예시 3. member2 를 member1로 바꿉니다.\\nmember2 = [{\\'name\\':\\'홍길동\\', \\'year\\':2000, \\'month\\':1, \\'day\\':1}],\\n                {\\'name\\':\\'신길동\\', \\'year\\':1998, \\'month\\':12, \\'day\\':31}]을\\n\\n\\'\\'\\'\\n\\n#{\\'year\\':2000, \\'month\\':1, \\'day\\':1} => \"2000-01-01\"를 return하는 함수\\nformat이나 \\n\\ndef member_ex2(member):\\n    {\\'name\\' : member.get(\\'name\\'),\\n      \\'birth\\' :\\'-\\'.join(member[\\'birth\\'].split)}',\n",
       "  '\\'\\'\\'\\n예시 3. member2 를 member1로 바꿉니다.\\nmember2 = [{\\'name\\':\\'홍길동\\', \\'year\\':2000, \\'month\\':1, \\'day\\':1}],\\n                {\\'name\\':\\'신길동\\', \\'year\\':1998, \\'month\\':12, \\'day\\':31}]을\\n\\n\\'\\'\\'\\n\\n#{\\'year\\':2000, \\'month\\':1, \\'day\\':1} => \"2000-01-01\"를 return하는 함수\\n#format이나 \\n\\ndef member_ex2(member):\\n    {\\'name\\' : member.get(\\'name\\'),\\n      \\'birth\\' :\\'-\\'.join(member[\\'birth\\'].split)}',\n",
       "  '\\'\\'\\'\\n예시 3. member2 를 member1로 바꿉니다.\\nmember2 = [{\\'name\\':\\'홍길동\\', \\'year\\':2000, \\'month\\':1, \\'day\\':1}],\\n                {\\'name\\':\\'신길동\\', \\'year\\':1998, \\'month\\':12, \\'day\\':31}]을\\n\\n\\'\\'\\'\\n\\n#{\\'year\\':2000, \\'month\\':1, \\'day\\':1} => \"2000-01-01\"를 return하는 함수\\n#format이나 \\n\\ndef member_ex2(member):\\n    {\\'name\\' : member.get(\\'name\\'),\\n      \\'birth\\' :\\'-0\\'.join(member[\\'birth\\'].split[1]),}\\nprint(member2)',\n",
       "  '\\'\\'\\'\\n예시 3. member2 를 member1로 바꿉니다.\\nmember2 = [{\\'name\\':\\'홍길동\\', \\'year\\':2000, \\'month\\':1, \\'day\\':1}],\\n                {\\'name\\':\\'신길동\\', \\'year\\':1998, \\'month\\':12, \\'day\\':31}]을\\n\\n\\'\\'\\'\\n\\n#{\\'year\\':2000, \\'month\\':1, \\'day\\':1} => \"2000-01-01\"를 return하는 함수\\n#format이나 \\n\\ndef member_ex2(member):\\n    {\\'name\\' : member.get(\\'name\\'),\\n      \\'birth\\' :\\'-0\\'.join(member[\\'birth\\'].split[1]),}\\n    print(member2)',\n",
       "  '\\'\\'\\'\\n예시 3. member2 를 member1로 바꿉니다.\\nmember2 = [{\\'name\\':\\'홍길동\\', \\'year\\':2000, \\'month\\':1, \\'day\\':1}],\\n                {\\'name\\':\\'신길동\\', \\'year\\':1998, \\'month\\':12, \\'day\\':31}]을\\n\\n\\'\\'\\'\\n\\n#{\\'year\\':2000, \\'month\\':1, \\'day\\':1} => \"2000-01-01\"를 return하는 함수\\n#format이나 \\n\\ndef member_ex2(member):\\n    {\\'name\\' : member.get(\\'name\\'),\\n      \\'birth\\' :\\'-0\\'.join(member[\\'birth\\'].split[1]),}\\n    return(member2)',\n",
       "  '\\'\\'\\'\\n예시 3. member2 를 member1로 바꿉니다.\\nmember2 = [{\\'name\\':\\'홍길동\\', \\'year\\':2000, \\'month\\':1, \\'day\\':1}],\\n                {\\'name\\':\\'신길동\\', \\'year\\':1998, \\'month\\':12, \\'day\\':31}]을\\n\\n\\'\\'\\'\\n\\n#{\\'year\\':2000, \\'month\\':1, \\'day\\':1} => \"2000-01-01\"를 return하는 함수\\n#format이나 \\n\\ndef member_ex2(member):\\n    {\\'name\\' : member.get(\\'name\\'),\\n     \\'birth\\': f\\'{[\\'year\\']}-{\\'month\\':02d}-{[\\'day\\']:02}\\'}\\n    return (member2)',\n",
       "  '\\'\\'\\'\\n예시 3. member2 를 member1로 바꿉니다.\\nmember2 = [{\\'name\\':\\'홍길동\\', \\'year\\':2000, \\'month\\':1, \\'day\\':1}],\\n                {\\'name\\':\\'신길동\\', \\'year\\':1998, \\'month\\':12, \\'day\\':31}]을\\n\\n\\'\\'\\'\\n\\n#{\\'year\\':2000, \\'month\\':1, \\'day\\':1} => \"2000-01-01\"를 return하는 함수\\n#format이나 \\n\\ndef member_ex2(member):\\n    {\\'name\\' : member.get(\\'name\\'),\\n     \\'birth\\': f\\'{[\\'year\\']}-{[\\'month\\']:02d}-{[\\'day\\']:02}\\'}\\n    return (member2)',\n",
       "  '\\'\\'\\'\\n예시 3. member2 를 member1로 바꿉니다.\\nmember2 = [{\\'name\\':\\'홍길동\\', \\'year\\':2000, \\'month\\':1, \\'day\\':1}],\\n                {\\'name\\':\\'신길동\\', \\'year\\':1998, \\'month\\':12, \\'day\\':31}]을\\n\\n\\'\\'\\'\\n\\n#{\\'year\\':2000, \\'month\\':1, \\'day\\':1} => \"2000-01-01\"를 return하는 함수\\n#format이나 \\n\\ndef member_ex2(member):\\n    {\\'name\\' : member.get(\\'name\\'),\\n     \\'birth\\': f\\'{[\\'year\\']}-{[\\'month\\']:02d}-{[\\'day\\']:02}\\'}\\n    return\\nmember_ex2(member2)',\n",
       "  \"def join_data(data):\\n    print([data.get('year'), data.get('month'),data.get('day')])\\n    year = str(data.get('year'))\\n#    month = str(data.get('month')) # 월은12월까지 있는거라서 이렇게 하면 안됨. \\n    month = data.get('month')\\n    if month < 10:\\n        month = '0'+str(month)\\n    else:\\n        month = str(month)   \\n    day = data.get('day')\\n    if day < 10:\\n        day = '0'+str(day)\\n    else:\\n        day = str(day)\\n        \\n    return '-'.join([]'year', 'month','day']) \\n#join에는 문자리스트가 들어가야 함. 숫자 들어가면 오류 남\",\n",
       "  \"def join_data(data):\\n    print([data.get('year'), data.get('month'),data.get('day')])\\n    year = str(data.get('year'))\\n#    month = str(data.get('month')) # 월은12월까지 있는거라서 이렇게 하면 안됨. \\n    month = data.get('month')\\n    if month < 10:\\n        month = '0'+str(month)\\n    else:\\n        month = str(month)   \\n    day = data.get('day')\\n    if day < 10:\\n        day = '0'+str(day)\\n    else:\\n        day = str(day)\\n        \\n    return '-'.join(['year', 'month','day']) \\n#join에는 문자리스트가 들어가야 함. 숫자 들어가면 오류 남\",\n",
       "  \"join_data({'year':2000, 'month': 1, 'day': 1})\",\n",
       "  \"def join_data(data):\\n    print([data.get('year'), data.get('month'),data.get('day')])\\n    year = str(data.get('year'))\\n#    month = str(data.get('month')) # 월은12월까지 있는거라서 이렇게 하면 안됨. \\n    month = data.get('month')\\n    if month < 10:\\n        month = '0'+str(month)\\n    else:\\n        month = str(month)   \\n    day = data.get('day')\\n    if day < 10:\\n        day = '0'+str(day)\\n    else:\\n        day = str(day)\\n        \\n    return '-'.join(['year', 'month','day']) \\n#join에는 문자리스트가 들어가야 함. 숫자 들어가면 오류 남\",\n",
       "  \"join_data({'year':2000, 'month': 1, 'day': 1})\",\n",
       "  \"def join_data(data):\\n    print([data.get('year'), data.get('month'),data.get('day')])\\n    year = str(data.get('year'))\\n#    month = str(data.get('month')) # 월은12월까지 있는거라서 이렇게 하면 안됨. \\n    month = data.get('month')\\n    if month < 10:\\n        month = '0'+str(month)\\n    else:\\n        month = str(month)   \\n    day = data.get('day')\\n    if day < 10:\\n        day = '0'+str(day)\\n    else:\\n        day = str(day)\\n        \\n    return '-'.join(['year','month','day']) \\n#join에는 문자리스트가 들어가야 함. 숫자 들어가면 오류 남\",\n",
       "  \"join_data({'year':2000, 'month': 1, 'day': 1})\",\n",
       "  'def join_data(data):\\n    print(\"{}-{:02}-{:02}\".format(data.get(\\'year\\')\\n                                  ,data.get(\\'month\\'),\\n                                  data.get(\\'day\\')))',\n",
       "  'def join_data(data):\\n    print(\"{}-{:02}-{:02}\".format(data.get(\\'year\\')\\n                                  ,data.get(\\'month\\'),\\n                                  data.get(\\'day\\')))\\njoin_data(member2)',\n",
       "  'def join_data(data):\\n    print(\"{}-{:02}-{:02}\".format(data.get(\\'year\\')\\n                                  ,data.get(\\'month\\'),\\n                                  data.get(\\'day\\')))',\n",
       "  \"join_data({'year':2000,'month':1,'day':1})\",\n",
       "  \"def join_data(data):\\n    print([data.get('year'), data.get('month'),data.get('day')])\\n    year = str(data.get('year'))\\n#    month = str(data.get('month')) # 월은12월까지 있는거라서 이렇게 하면 안됨. \\n    month = data.get('month')\\n    if month < 10:\\n        month = '0'+str(month)\\n    else:\\n        month = str(month)   \\n    day = data.get('day')\\n    if day < 10:\\n        day = '0'+str(day)\\n    else:\\n        day = str(day)\\n        \\n    return '-'.join(['year','month','day']) \\n#join에는 문자리스트가 들어가야 함. 숫자 들어가면 오류 남\",\n",
       "  \"join_data({'year':2000, 'month': 1, 'day': 1})\",\n",
       "  \"def join_data(data):\\n#    print([data.get('year'), data.get('month'),data.get('day')])\\n    year = str(data.get('year'))\\n#    month = str(data.get('month')) # 월은12월까지 있는거라서 이렇게 하면 안됨. \\n    month = data.get('month')\\n    if month < 10:\\n        month = '0'+str(month)\\n    else:\\n        month = str(month)   \\n    day = data.get('day')\\n    if day < 10:\\n        day = '0'+str(day)\\n    else:\\n        day = str(day)\\n        \\n    return '-'.join(['year','month','day']) \\n#join에는 문자리스트가 들어가야 함. 숫자 들어가면 오류 남\",\n",
       "  \"join_data({'year':2000, 'month': 1, 'day': 1})\",\n",
       "  \"join_data({'year':2000,'month':1,'day':1})\",\n",
       "  \"def join_data(data):\\n#    print([data.get('year'), data.get('month'),data.get('day')])\\n    year = str(data.get('year'))\\n#    month = str(data.get('month')) # 월은12월까지 있는거라서 이렇게 하면 안됨. \\n    month = data.get('month')\\n    if month < 10:\\n        month = '0'+str(month)\\n    else:\\n        month = str(month)   \\n    day = data.get('day')\\n    if day < 10:\\n        day = '0'+str(day)\\n    else:\\n        day = str(day)\\n        \\n    return '-'.join(['year','month','day']) \\n#join에는 문자리스트가 들어가야 함. 숫자 들어가면 오류 남\",\n",
       "  \"def join_date(data):\\n    # print([data.get('year'), data.get('month'), data.get('day')])\\n    year = str(data.get('year'))\\n    month = data.get('month')\\n    if month < 10:\\n        month = '0'+str(month)\\n    else:\\n        month = str(month)\\n    day = data.get('day')\\n    if day < 10:\\n        day = '0'+str(day)\\n    else:\\n        day = str(day)\\n    return '-'.join([year, month, day])\",\n",
       "  \"join_data({'year':2000,'month':1,'day':1})\",\n",
       "  \"def join_data(data):\\n#    print([data.get('year'), data.get('month'),data.get('day')])\\n    year = str(data.get('year'))\\n#    month = str(data.get('month')) \\n    month = data.get('month')\\n    if month < 10:\\n        month = '0'+str(month)\\n    else:\\n        month = str(month)   \\n    day = data.get('day')\\n    if day < 10:\\n        day = '0'+str(day)\\n    else:\\n        day = str(day)\\n        \\n    return '-'.join(['year','month','day']) \\n#join에는 문자리스트가 들어가야 함. 숫자 들어가면 오류 남\",\n",
       "  \"join_data({'year':2000,'month':1,'day':1})\",\n",
       "  \"def join_data(data):\\n#    print([data.get('year'), data.get('month'),data.get('day')])\\n    year = str(data.get('year'))\\n#    month = str(data.get('month')) \\n    month = data.get('month')\\n    if month < 10:\\n        month = '0'+str(month)\\n    else:\\n        month = str(month)   \\n    day = data.get('day')\\n    if day < 10:\\n        day = '0'+str(day)\\n    else:\\n        day = str(day)\\n        \\n    return '-'.join([year,month,day]) \\n#join에는 문자리스트가 들어가야 함. 숫자 들어가면 오류 남\",\n",
       "  \"join_data({'year':2000,'month':1,'day':1})\",\n",
       "  \"join_data({'year':2000,'month':18,'day':1})\",\n",
       "  \"join_data({'year':2000,'month':1,'day':1})\",\n",
       "  '# 더 간단하게 하는 방법으로 가는중 2\\ndef join_data(data):\\n    print(\"{year}-{month:02}-{day:02}\".format(**data) #**data안에 있는 값과 동일 \\n#                                            year = data.get(\\'year\\'),\\n#                                            month = data.get(\\'month\\'),\\n#                                            day = data.get(\\'day\\')))',\n",
       "  '# 더 간단하게 하는 방법으로 가는중 2\\ndef join_data(data):\\n    print(\"{year}-{month:02}-{day:02}\".format(**data) #**data안에 있는 값과 동일 ',\n",
       "  '# 더 간단하게 하는 방법으로 가는중 2\\ndef join_data(data):\\n    print(\"{year}-{month:02}-{day:02}\".format(**data) #**data안에 있는 값과 동일 ',\n",
       "  \"join_data({'year':2000,'month':1,'day':1})\",\n",
       "  '# 더 간단하게 하는 방법으로 가는중 2 (**data안에 있는 값과 동일)\\ndef join_data(data):\\n    print(\"{year}-{month:02}-{day:02}\".format(**data)',\n",
       "  '# 더 간단하게 하는 방법으로 가는중 2 (**data안에 있는 값과 동일)\\ndef join_data(data):\\n    print(\"{year}-{[month]:02}-{[day]:02}\".format(**data)',\n",
       "  '# 더 간단하게 하는 방법으로 가는중 2 (**data안에 있는 값과 동일)\\ndef join_data(data):\\n    print ()\"{year}-{month:02}-{day:02}\".format(**data))',\n",
       "  '# 더 간단하게 하는 방법으로 가는중 2 (**data안에 있는 값과 동일)\\ndef join_data(data):\\n    print (\"{year}-{month:02}-{day:02}\".format(**data))',\n",
       "  \"join_data({'year':2000,'month':1,'day':1})\",\n",
       "  '# 더 간단하게 하는 방법으로 가는중 2 (**data안에 있는 값과 동일)\\ndef join_data(data):\\n    return \"{year}-{month:02}-{day:02}\".format(**data)',\n",
       "  \"join_data({'year':2000,'month':1,'day':1})\",\n",
       "  '# 더 간단하게 하는 방법으로 가는중 2 (**data안에 있는 값과 동일)\\ndef join_data(data):\\n    return \"{year}-{[month]:02}-{[day]:02}\".format(**data)',\n",
       "  \"join_data({'year':2000,'month':1,'day':1})\",\n",
       "  '# 더 간단하게 하는 방법으로 가는중 2 (**data안에 있는 값과 동일)\\ndef join_data(data):\\n    return \"{year}-{month:02}-{day:02}\".format(**data)',\n",
       "  \"join_data({'year':2000,'month':1,'day':1})\",\n",
       "  '\\'\\'\\'\\n{\\'name\\':\\'홍길동\\', \\'year\\':2000, \\'month\\':1, \\'day\\':1}]을\\n{\\'name\\':\\'홍길동\\', \\'birth\\':\\'2000-01-01\\'}로 가공\\n\\'\\'\\'\\n        \\nlist(map(lambda member : {\\n                            \\'name\\' : member.get(\\'name\\'),\\n                            \\'birth\\' : \"{year}-{month:02}-{day:02}\".format(**data)}))\\nprint(member2)',\n",
       "  '\\'\\'\\'\\n{\\'name\\':\\'홍길동\\', \\'year\\':2000, \\'month\\':1, \\'day\\':1}]을\\n{\\'name\\':\\'홍길동\\', \\'birth\\':\\'2000-01-01\\'}로 가공\\n\\'\\'\\'\\n        \\nlist(map(lambda member : {\\n                            \\'name\\' : member.get(\\'name\\'),\\n                            \\'birth\\' : \"{year}-{month:02}-{day:02}\".format(**data)}))\\nprint(member)',\n",
       "  '\\'\\'\\'\\n{\\'name\\':\\'홍길동\\', \\'year\\':2000, \\'month\\':1, \\'day\\':1}]을\\n{\\'name\\':\\'홍길동\\', \\'birth\\':\\'2000-01-01\\'}로 가공\\n\\'\\'\\'\\n        \\nlist(map(lambda member : {\\n                            \\'name\\' : member.get(\\'name\\'),\\n                            \\'birth\\' : \"{year}-{month:02}-{day:02}\".format(**data)}, member2))',\n",
       "  '#{\\'name\\':\\'홍길동\\', \\'year\\':2000, \\'month\\':1, \\'day\\':1}]을\\n#{\\'name\\':\\'홍길동\\', \\'birth\\':\\'2000-01-01\\'}로 가공\\n      \\nlist(map(lambda member : {\\n                            \\'name\\' : member.get(\\'name\\'),\\n                            \\'birth\\' : \"{year}-{month:02}-{day:02}\".format(**data)}, member2))',\n",
       "  '#{\\'name\\':\\'홍길동\\', \\'year\\':2000, \\'month\\':1, \\'day\\':1}]을\\n#{\\'name\\':\\'홍길동\\', \\'birth\\':\\'2000-01-01\\'}로 가공\\n      \\nlist(map(lambda member : {\\n                            \\'name\\' : member.get(\\'name\\'),\\n                            \\'birth\\' : \"{year}-{month:02}-{day:02}\".format(**data)\\n                            },\\n    member2\\n))',\n",
       "  '#{\\'name\\':\\'홍길동\\', \\'year\\':2000, \\'month\\':1, \\'day\\':1}]을\\n#{\\'name\\':\\'홍길동\\', \\'birth\\':\\'2000-01-01\\'}로 가공\\n      \\nlist(map(lambda member : {\\n                            \\'name\\' : member.get(\\'name\\'),\\n                            \\'birth\\' : \"{year}-{month:02}-{day:02}\".format(**member)\\n                            },\\n    member2\\n))',\n",
       "  '#백터데이터 리스트에 [1, 2, 3, 4, 5] => [2,4]\\ndef filter_tamplate(func, L=[])\\n    result = []\\n    for l in L:\\n        if func(l):\\n            result.append(l)\\n        return result ',\n",
       "  '#백터데이터 리스트에 [1, 2, 3, 4, 5] => [2,4]\\ndef filter_tamplate(func, L=[]):\\n    result = []\\n    for l in L:\\n        if func(l):\\n            result.append(l)\\n        return result ',\n",
       "  'def evenChk(value):\\n    return value%2==0\\nevenChk(20), evenChk(9)',\n",
       "  'def evenChk(value):\\n    return value%2==0\\nevenChk(20), evenChk(9), evenChk([1,2])',\n",
       "  'def evenChk(value):\\n    return value%2==0\\nevenChk(20), evenChk(9)',\n",
       "  'list_data = [1,2,3,4,5]\\nfilter_tamplate(lambda value : value%2==0, list_data )',\n",
       "  'list_data = [1, 2, 3, 4, 5]\\nfilter_tamplate(lambda value : value%2==0, list_data )',\n",
       "  '#백터데이터 리스트에 [1, 2, 3, 4, 5] => [2,4]\\ndef filter_tamplate(func, L=[]):\\n    result = []\\n    for l in L:\\n        if func(l):\\n            result.append(l)\\n        return result ',\n",
       "  'def evenChk(value):\\n    return value%2==0\\nevenChk(20), evenChk(9)',\n",
       "  'list_data = [1, 2, 3, 4, 5]\\nfilter_tamplate(lambda value : value%2==0, list_data )',\n",
       "  'list_data = [1, 2, 3, 4, 5]\\nfilter_tamplate(lambda value : value%2==0, list_data )',\n",
       "  '[data for data in list_data if data%2==0]',\n",
       "  'list_data = [1, 2, 3, 4, 5]\\nfilter_tamplate(lambda value:value%2==0, list_data )',\n",
       "  'list_data = [1, 2, 3, 4, 5]\\nfilter_tamplate(lambda value : value%2==0, list_data)',\n",
       "  'list_data = [1, 2, 3, 4, 5]\\nfilter_tamplate(lambda value : value%2==0, list_data)',\n",
       "  'list_data = [1, 2, 3, 4, 5]\\nfilter_tamplate(lambda value : value%2==0, list_data)',\n",
       "  '#백터데이터 리스트에 [1, 2, 3, 4, 5] => [2,4]\\ndef filter_tamplate(func, L=[]):\\n    result = []\\n    for l in L:\\n        if func(l):\\n            result.append(l)\\n    return result ',\n",
       "  'def evenChk(value):\\n    return value%2==0\\nevenChk(20), evenChk(9)',\n",
       "  'list_data = [1, 2, 3, 4, 5]\\nfilter_tamplate(lambda value : value%2==0, list_data)',\n",
       "  'p = [9, 2, 7]\\np.sort(reverse=True)\\np',\n",
       "  'number2d = [[9.9],\\n            [1,100],\\n            [10,1]]\\nnumber2d.sort()\\nnumber2d',\n",
       "  'number2d = [[9.9],\\n            [1,100],\\n            [10,1]]\\nnumber2d.sort(reverse=True)\\nnumber2d\\n#이 sort는 앞에자리 기준으로 순서 정해버림',\n",
       "  'number2d = [[9.9],\\n            [1,100],\\n            [10,1]]\\nnumber2d.sort(reverse=False) #무조건 0번 아이템 기준으로 정렬\\nnumber2d\\n#이 sort는 앞에자리 기준으로 순서 정해버림',\n",
       "  'number2d = [[9.9],\\n            [1,100],\\n            [10,1]]\\nnumber2d.sort(reverse=True) #무조건 0번 아이템 기준으로 정렬\\nnumber2d\\n#이 sort는 앞에자리 기준으로 순서 정해버림',\n",
       "  'number2d = [[9,9,9,9,9],\\n            [1,100],\\n            [10,1]]\\nnumber2d.sort(reverse=True) #무조건 0번 item 기준으로 정렬\\nnumber2d\\n#이 sort는 앞에자리 기준으로 순서 정해버림',\n",
       "  \"pairs = [(2, 'two'), (1, 'one'),(4,'four'),(3,'three')]\\nparis.sort()\\nparis\",\n",
       "  \"pairs = [(2, 'two'), (1, 'one'),(4,'four'),(3,'three')]\\npairs.sort()\\npairs\",\n",
       "  'number2d = [[9,9,9,9,9],\\n            [1,100],\\n            [10,1]]\\nnumber2d.sort(reverse=True) #무조건 0번 item 기준으로 정렬\\nnumber2d\\n#이 sort는 앞에자리 기준으로 순서 정해버림',\n",
       "  \"#1번째 item을 기준으로 정렬\\n\\npairs = [(2, 'two'), (1, 'one'),(4,'four'),(3,'three')]\\npairs.sort(1)\\npairs\",\n",
       "  \"#1번째 item을 기준으로 정렬\\n\\npairs = [(2, 'two'), (1, 'one'),(4,'four'),(3,'three')]\\npairs.sort()\\npairs\",\n",
       "  \"#1번째 item을 기준으로 정렬(문자:abc순서로 정렬)\\n\\npairs = [(2, 'two'), (1, 'one'),(4,'four'),(3,'three')]\\npairs.split[1]\\npairs.sort()\\npairs\",\n",
       "  \"#1번째 item을 기준으로 정렬(문자:abc순서로 정렬)\\n\\npairs = [(2, 'two'), (1, 'one'),(4,'four'),(3,'three')]\\npairs.sort(key=lambda pair : pair[1])\\npairs\",\n",
       "  \"#1번째 item을 기준으로 정렬(문자:abc순서로 정렬)\\n\\npairs = [(2, 'two'), (1, 'one'),(4,'four'),(3,'three')]\\npairs.sort(key=lambda pair : pair[1],reverse=False) #1번 인덱스기준으로 abc순서로 정리 \\npairs\",\n",
       "  \"#1번째 item을 기준으로 정렬(문자:abc순서로 정렬)\\n\\npairs = [(2, 'two'), (1, 'one'),(4,'four'),(3,'three')]\\npairs.sort(key=lambda pair : pair[1])#1번 인덱스기준으로 abc순서로 정리 \\npairs\",\n",
       "  \"#1번째 item을 기준으로 정렬(문자:abc순서로 정렬)\\n\\npairs = [(2, 'two'), (1, 'one'),(4,'four'),(3,'three')]\\npairs.sort( reverse=Fals, key=lambda pair : pair[1])#1번 인덱스기준으로 abc순서로 정리 \\npairs\",\n",
       "  \"#1번째 item을 기준으로 정렬(문자:abc순서로 정렬)\\n\\npairs = [(2, 'two'), (1, 'one'),(4,'four'),(3,'three')]\\npairs.sort(key=lambda pair : pair[1],reverse)#1번 인덱스기준으로 abc순서로 정리 \\npairs\",\n",
       "  \"#1번째 item을 기준으로 정렬(문자:abc순서로 정렬) #1번 인덱스기준으로 abc순서로 정리 \\n\\npairs = [(2, 'two'), (1, 'one'),(4,'four'),(3,'three')]\\npairs.sort(key=lambda pair : pair[1],reverse) \\npairs\",\n",
       "  \"#1번째 item을 기준으로 정렬(문자:abc순서로 정렬) #1번 인덱스기준으로 abc순서로 정리 \\n\\npairs = [(2, 'two'), (1, 'one'),(4,'four'),(3,'three')]\\npairs.sort(key=lambda pair : pair[1]) \\npairs\",\n",
       "  'number2d = [[9,9,9,9,9],\\n            [1,100],\\n            [10,1]]\\nnumber2d.sort(reverse=True) #무조건 0번 item 기준으로 정렬\\nnumber2d\\n#이 sort는 앞에자리 기준으로 순서 정해버림',\n",
       "  '#합이 큰 순으로 정렬 \\n\\nnumber2d.sort(key=lambda item :sum(item))\\nnumber2d',\n",
       "  '(lambda item :sum(item))([1,2,3])',\n",
       "  '#합이 큰 순으로 정렬 \\n\\nnumber2d.sort(key=lambda item :sum(item), reverse=True)\\nnumbers2d',\n",
       "  '#합이 큰 순으로 정렬 \\n\\nnumber2d.sort(key=lambda item :sum(item), reverse=True)\\nnumber2d',\n",
       "  '#리스트를 매개변수로 받아 합을 return하는 함수 test\\n(lambda item :sum(item))([1,2,3])',\n",
       "  'students.sort(key=lambda ex : ex [student[0]] ,reverse=True)\\nstudents',\n",
       "  \"# 이름순으로 정렬(ㄱㄴㄷ 순)\\nstudents = [\\n    {'name':'홍길동', 'score':90},\\n    {'name':'김길동', 'score':85},\\n    {'name':'최길동', 'score':62},]\",\n",
       "  'students.sort(key=lambda ex : ex [student[0]] ,reverse=True)\\nstudents',\n",
       "  'students.sort(key=lambda ex : ex[0] ,reverse=True)\\nstudents',\n",
       "  \"students.sort(key=lambda ex : ex['name'] ,reverse=True)\\nstudents\",\n",
       "  \"students.sort(key=lambda ex : ex['name'] ,reverse=Flase)\\nstudents\",\n",
       "  \"students.sort(key=lambda ex : ex['name'] ,reverse=False)\\nstudents\",\n",
       "  \"#score순으로 정렬(내림차순정렬)\\nstudents.sort(key=lambda ex : ex['score'] ,reverse=True)\\nstudents\",\n",
       "  \"# 이름순으로 정렬(ㄱㄴㄷ 순)\\nstudents = [\\n    {'name':'홍길동', 'score':90},\\n    {'name':'김길동', 'score':85},\\n    {'name':'최길동', 'score':62},\\n    {'score':99}\\n]\",\n",
       "  \"students.sort(key=lambda ex : ex['name'] ,reverse=False)\\nstudents\",\n",
       "  \"# 이름순으로 정렬(ㄱㄴㄷ 순)\\nstudents = [\\n    {'name':'홍길동', 'score':90},\\n    {'name':'김길동', 'score':85},\\n    {'name':'최길동', 'score':62},\\n]\",\n",
       "  \"students.sort(key=lambda ex : ex['name'] ,reverse=False)\\nstudents\",\n",
       "  \"# 이름이 없는 사람의 점수를 내림차순으로 정렬\\nstudents.sort(key=lambda ex :['score'],reverse=True)\",\n",
       "  \"# 이름이 없는 사람의 점수를 내림차순으로 정렬\\nstudents.sort(key=lambda ex :['score'],reverse=True)\\nstudents\",\n",
       "  \"# 이름이 없는 사람의 점수를 내림차순으로 정렬\\nstudents.sort(key=lambda ex :['score'],reverse=False)\\nstudents\",\n",
       "  \"# 이름이 없는 사람의 점수를 내림차순으로 정렬\\nstudents.sort(key=lambda ex :ex ['score'],reverse=False)\\nstudents\",\n",
       "  \"# 이름이 없는 사람의 점수를 내림차순으로 정렬\\nstudents.sort(key=lambda ex : ex ['score'],reverse=False)\\nstudents\",\n",
       "  \"# 이름순으로 정렬(ㄱㄴㄷ 순)\\nstudents = [\\n    {'name':'홍길동', 'score':90},\\n    {'name':'김길동', 'score':85},\\n    {'name':'최길동', 'score':62},\\n    {'score':99}\\n]\",\n",
       "  \"# 이름이 없는 사람의 점수를 내림차순으로 정렬\\nstudents.sort(key=lambda ex : ex ['score'],reverse=False)\\nstudents\",\n",
       "  \"# 이름이 없는 사람의 점수를 내림차순으로 정렬\\nstudents.sort(key=lambda ex : ex.get('name'),reverse=False)\\nstudents\",\n",
       "  \"# 이름이 없는 사람의 점수를 내림차순으로 정렬\\nstudents.sort(key=lambda ex : ex.get('name', '유성미'),reverse=False)\\nstudents\",\n",
       "  \"# 이름이 없는 사람의 점수를 내림차순으로 정렬\\nstudents.sort(key=lambda ex : ex.get('name',),reverse=False)\\nstudents\",\n",
       "  \"# 이름이 없는 사람의 점수를 내림차순으로 정렬\\nstudents.sort(key=lambda ex : ex.get('score'),reverse=False)\\nstudents\",\n",
       "  \"# 이름이 없는 사람의 점수를 내림차순으로 정렬\\nstudents.sort(key=lambda ex : ex.get('name','힣'),reverse=False)\\nstudents\",\n",
       "  \"# 이름이 없는 사람의 점수를 내림차순으로 정렬\\nstudents.sort(key=lambda ex : ex.get('name','각'),reverse=False)\\nstudents\",\n",
       "  \"# 이름이 없는 사람의 점수를 내림차순으로 정렬\\nstudents.sort(key=lambda ex : ex.get('name','각'),reverse=False)\\nstudents\",\n",
       "  \"# 이름이 없는 사람의 점수를 내림차순으로 정렬\\nstudents.sort(key=lambda ex : ex.get('name','각'),reverse=False)\\nstudents\\nstudents.sort(key=lambda ex : ex.get('name','힣'),reverse=False)\\nstudents\",\n",
       "  \"students.sort(key=lambda ex : ex.get('score',0),reverse=False)\\nstudents\",\n",
       "  \"students.sort(key=lambda ex : ex.get('score',0),reverse=True)\\nstudents\",\n",
       "  \"# \\nbooks = [\\n    {'no':1, 'title':'강남 아파트 인사이트', 'writer': '오스틀', 'price':'25,200'},\\n    {'no':2, 'title':'단 한번의 삶', 'writer': '김영하', 'price':'15,120'},\\n    {'no':3, 'title':'흔한남매 19', 'writer': '백난도', 'price':'14,220'}\\n    {'no':4, 'title':'가격이 잘못', 'writer': '홍길동', 'price':'-'}\\n    {'no':5, 'title':'가격이 숫자', 'writer': '최무식', 'price':900}\\n    {'no':6, 'title':'가격이 없음', 'writer': '이난중',}\\n]\",\n",
       "  \"# \\nbooks = [\\n    {'no':1, 'title':'강남 아파트 인사이트', 'writer': '오스틀', 'price':'25,200'},\\n    {'no':2, 'title':'단 한번의 삶', 'writer': '김영하', 'price':'15,120'},\\n    {'no':3, 'title':'흔한남매 19', 'writer': '백난도', 'price':'14,220'},\\n    {'no':4, 'title':'가격이 잘못', 'writer': '홍길동', 'price':'-'},\\n    {'no':5, 'title':'가격이 숫자', 'writer': '최무식', 'price':900},\\n    {'no':6, 'title':'가격이 없음', 'writer': '이난중',}\\n]\",\n",
       "  \"books.sort(key = lambda book : book.get('title'))\",\n",
       "  \"books.sort(key = lambda book : book.get('title'))\\nbooks\",\n",
       "  \"books.sort(key = lambda book : book.get('writer'))\\nbooks\",\n",
       "  \"# 타입이 문자인지 확인 /문자면 replace(,) \\n# 숫자에 , 있는지 확인 \\n# int로 변환하기전에 숫자인지 확인하고 0원처리하기\\nbooks.sort(key = lambda book : book.get('price'),0)\",\n",
       "  \"# 타입이 문자인지 확인 /문자면 replace(,) \\n# 숫자에 , 있는지 확인 \\n# int로 변환하기전에 숫자인지 확인하고 0원처리하기\\nbooks.sort(key = lambda book : book.get('price',0))\",\n",
       "  \"# '14,000'의 값을 '14000'으로 변환 / 900의 값이 들어오면 그대로 900으로 넣고 / '-'이 들어오면 0원으로 변경\\ndef parse_int(price):\\n    print(type(price))\",\n",
       "  'parse_int(800)',\n",
       "  \"parse_int('800')\",\n",
       "  'parse_int(-800)',\n",
       "  \"# '14,000'의 값을 '14000'으로 변환 / 900의 값이 들어오면 그대로 900으로 넣고 / '-'이 들어오면 0원으로 변경\\ndef parse_int(price):\\n    #print(type(price))\\n    if isinstance(price,int):\\n        return price\",\n",
       "  'parse_int(-800)',\n",
       "  'parse_int(800)',\n",
       "  'parse_int(800)',\n",
       "  'parse_int(\"800\")',\n",
       "  \"parse_int('800')\",\n",
       "  'parse_int(800)',\n",
       "  \"# '14,000'의 값을 '14000'으로 변환 / 900의 값이 들어오면 그대로 900으로 넣고 / '-'이 들어오면 0원으로 변경\\ndef parse_int(price):\\n    #print(type(price))\\n    if isinstance(price,str) and price.replace(',','').isdigit():  #문자가 맞는지, 문자중에(,)을뺀 숫자로만 구성이 되어있는가 \\n        return int(price.replace(',',''))\\n    elif isinstance(price,int):\\n        return price\",\n",
       "  'parse_int(\"800\")',\n",
       "  'parse_int(\"8,00\")',\n",
       "  'parse_int(\"8,00000\")',\n",
       "  'parse_int(\"8,00,000\")',\n",
       "  'parse_int(\"8,000,000\")',\n",
       "  'parse_int(15754)',\n",
       "  'parse_int(0)',\n",
       "  'parse_int(*)',\n",
       "  'parse_int(-)',\n",
       "  \"# '14,000'의 값을 '14000'으로 변환 / 900의 값이 들어오면 그대로 900으로 넣고 / '-'이 들어오면 0원으로 변경\\ndef parse_int(price):\\n    #print(type(price))\\n    if isinstance(price,str) and price.replace(',','').isdigit():  #문자가 맞는지, 문자중에(,)을뺀 숫자로만 구성이 되어있는가 \\n        return int(price.replace(',',''))\\n    elif isinstance(price,int):\\n        return price\\n    else:\\n        return 0\",\n",
       "  'parse_int(-)',\n",
       "  \"# '14,000'의 값을 '14000'으로 변환 / 900의 값이 들어오면 그대로 900으로 넣고 / '-'이 들어오면 0원으로 변경\\ndef parse_int(price):\\n    #print(type(price))\\n    if isinstance(price,str) and price.replace(',','').isdigit():  #문자가 맞는지, 문자중에(,)을뺀 숫자로만 구성이 되어있는가 \\n        return int(price.replace(',',''))\\n    elif isinstance(price,int):\\n        return price\\n    else:\\n        return print(int(0))\",\n",
       "  'parse_int(-)',\n",
       "  \"# '14,000'의 값을 '14000'으로 변환 / 900의 값이 들어오면 그대로 900으로 넣고 / '-'이 들어오면 0원으로 변경\\ndef parse_int(price):\\n    #print(type(price))\\n    if isinstance(price,str) and price.replace(',','').isdigit():  #문자가 맞는지, 문자중에(,)을뺀 숫자로만 구성이 되어있는가 \\n        return int(price.replace(',',''))\\n    elif isinstance(price,int):\\n        return price\",\n",
       "  \"parse_int('-')\",\n",
       "  'parse_int(\"8,000\"), parse_int(\"88000\"),parse_int(200),parse_int(\"-\"),   ',\n",
       "  \"# '14,000'의 값을 '14000'으로 변환 / 900의 값이 들어오면 그대로 900으로 넣고 / '-'이 들어오면 0원으로 변경\\ndef parse_int(price):\\n    #print(type(price))\\n    if isinstance(price,str) and price.replace(',','').isdigit():  #문자가 맞는지, 문자중에(,)을뺀 숫자로만 구성이 되어있는가 \\n        return int(price.replace(',',''))\\n    elif isinstance(price,int):\\n        return price\\n    else:\\n        return 0\",\n",
       "  'parse_int(\"8,000\"), parse_int(\"88000\"),parse_int(200),parse_int(\"-\"),   ',\n",
       "  \"#{'no':6, 'title':'가격이 없음', 'writer': '이난중',} => return 0\\n#{'no':3, 'title':'흔한남매 19', 'writer': '백난도', 'price':'14,220'}, => 14220\\n#{'no':5, 'title':'가격이 숫자', 'writer': '최무식', 'price':900}, => 900\\n\\ndef parse_int(book):\\n    if isinstance(book.get('price'), str) and book.get.repalce(',','').isdigit():\\n        return int(book.get('price').replace(',','')):\\n    elif isinstance(book.get('price'), int):\\n        return book.get('price')\\n    else:\\n        return 0   \",\n",
       "  \"#{'no':6, 'title':'가격이 없음', 'writer': '이난중',} => return 0\\n#{'no':3, 'title':'흔한남매 19', 'writer': '백난도', 'price':'14,220'}, => 14220\\n#{'no':5, 'title':'가격이 숫자', 'writer': '최무식', 'price':900}, => 900\\n\\ndef parse_int(book):\\n    if isinstance(book.get('price'), str) and book.get('price').repalce(',','').isdigit():\\n        return int(book.get('price').replace(',','')):\\n    elif isinstance(book.get('price'), int):\\n        return book.get('price')\\n    else:\\n        return 0   \",\n",
       "  \"#{'no':6, 'title':'가격이 없음', 'writer': '이난중',} => return 0\\n#{'no':3, 'title':'흔한남매 19', 'writer': '백난도', 'price':'14,220'}, => 14220\\n#{'no':5, 'title':'가격이 숫자', 'writer': '최무식', 'price':900}, => 900\\n\\ndef parse_int(book):\\n    if isinstance(book.get('price'), str) and book.get('price').repalce(',','').isdigit():\\n        return int(book.get('price').replace(',','') ):\\n    elif isinstance(book.get('price'), int):\\n        return book.get('price')\\n    else:\\n        return 0   \",\n",
       "  \"#{'no':6, 'title':'가격이 없음', 'writer': '이난중',} => return 0\\n#{'no':3, 'title':'흔한남매 19', 'writer': '백난도', 'price':'14,220'}, => 14220\\n#{'no':5, 'title':'가격이 숫자', 'writer': '최무식', 'price':900}, => 900\\n\\ndef parse_int(book):\\n    if isinstance(book.get('price'), str) and book.get('price').repalce(',','').isdigit():\\n        return int(book.get('price').replace(',','')):\\n    elif isinstance(book.get('price'), int):\\n        return book.get('price')\\n    else:\\n        return 0   \",\n",
       "  \"#{'no':6, 'title':'가격이 없음', 'writer': '이난중',} => return 0\\n#{'no':3, 'title':'흔한남매 19', 'writer': '백난도', 'price':'14,220'}, => 14220\\n#{'no':5, 'title':'가격이 숫자', 'writer': '최무식', 'price':900}, => 900\\n\\ndef parse_int(book):\\n    if isinstance(book.get('price'), str) and book.get('price').repalce(',','').isdigit():\\n        return int( book.get('price').replace(',','')):\\n    elif isinstance(book.get('price'), int):\\n        return book.get('price')\\n    else:\\n        return 0   \",\n",
       "  \"#{'no':6, 'title':'가격이 없음', 'writer': '이난중',} => return 0\\n#{'no':3, 'title':'흔한남매 19', 'writer': '백난도', 'price':'14,220'}, => 14220\\n#{'no':5, 'title':'가격이 숫자', 'writer': '최무식', 'price':900}, => 900\\n\\ndef parse_int(book):\\n    if isinstance(book.get('price'), str) and book.get('price').repalce(',','').isdigit():\\n        return int(book.get('price').replace(',','')):\\n    elif isinstance(book.get('price'), int):\\n        return book.get('price')\\n    else:\\n        return 0   \",\n",
       "  \"#{'no':6, 'title':'가격이 없음', 'writer': '이난중',} => return 0\\n#{'no':3, 'title':'흔한남매 19', 'writer': '백난도', 'price':'14,220'}, => 14220\\n#{'no':5, 'title':'가격이 숫자', 'writer': '최무식', 'price':900}, => 900\\n\\ndef parse_int(book):\\n    if isinstance(book.get('price'), str) and \\\\\\n                  book.get('price').repalce(',','').isdigit():\\n        return int(book.get('price').replace(',','')):\\n    elif isinstance(book.get('price'), int):\\n        return book.get('price')\\n    else:\\n        return 0   \",\n",
       "  \"#{'no':6, 'title':'가격이 없음', 'writer': '이난중',} => return 0\\n#{'no':3, 'title':'흔한남매 19', 'writer': '백난도', 'price':'14,220'}, => 14220\\n#{'no':5, 'title':'가격이 숫자', 'writer': '최무식', 'price':900}, => 900\\n\\ndef parse_int(book):\\n    if isinstance(book.get('price'), str) and \\\\\\n                  book.get('price').replace(',','').isdigit():\\n        return int(book.get('price').replace(',','')):\\n    elif isinstance(book.get('price'), int):\\n        return book.get('price')\\n    else:\\n        return 0   \",\n",
       "  \"#{'no':6, 'title':'가격이 없음', 'writer': '이난중',} => return 0\\n#{'no':3, 'title':'흔한남매 19', 'writer': '백난도', 'price':'14,220'}, => 14220\\n#{'no':5, 'title':'가격이 숫자', 'writer': '최무식', 'price':900}, => 900\\n\\ndef parse_int(book):\\n    if isinstance(book.get('price'), str) and \\\\\\n                  book.get('price').replace(',','').isdigit():\\n        return int(book.get('price').replace(',','')):\\n    elif isinstance(book.get('price'), int):\\n        return book.get('price')\\n    else:\\n        return 0   \",\n",
       "  \"#{'no':6, 'title':'가격이 없음', 'writer': '이난중',} => return 0\\n#{'no':3, 'title':'흔한남매 19', 'writer': '백난도', 'price':'14,220'}, => 14220\\n#{'no':5, 'title':'가격이 숫자', 'writer': '최무식', 'price':900}, => 900\\n\\ndef parse_int(book):\\n    if isinstance(book.get('price'), str) and \\\\\\n                  book.get('price').replace(',','').isdigit():\\n        return int(book.get('price').replace(',',''):\\n    elif isinstance(book.get('price'), int):\\n        return book.get('price')\\n    else:\\n        return 0   \",\n",
       "  \"#{'no':6, 'title':'가격이 없음', 'writer': '이난중',} => return 0\\n#{'no':3, 'title':'흔한남매 19', 'writer': '백난도', 'price':'14,220'}, => 14220\\n#{'no':5, 'title':'가격이 숫자', 'writer': '최무식', 'price':900}, => 900\\n\\ndef parse_int(book):\\n    if isinstance(book.get('price'), str) and \\\\\\n                  book.get('price').replace(',','').isdigit():\\n        return int(book.get('price').replace(',','')):\\n    elif isinstance(book.get('price'), int):\\n        return book.get('price')\\n    else:\\n        return 0   \",\n",
       "  \"#{'no':6, 'title':'가격이 없음', 'writer': '이난중',} => return 0\\n#{'no':3, 'title':'흔한남매 19', 'writer': '백난도', 'price':'14,220'}, => 14220\\n#{'no':5, 'title':'가격이 숫자', 'writer': '최무식', 'price':900}, => 900\\n\\ndef parse_int(book):\\n    if isinstance(book.get('price'), str) and \\\\\\n                  book.get('price').replace(',','').isdigit():\\n        return int(book.get('price').replace(',',''))\\n    elif isinstance(book.get('price'), int):\\n        return book.get('price')\\n    else:\\n        return 0   \",\n",
       "  'parse_int(books[0])',\n",
       "  'parse_int(books[0]), parse_int(books[1]), parse_int(books[2])',\n",
       "  \"# 책 제목순 정렬(ㄱ,ㄴ,ㄷ순), 저자순 정렬(ㄱ,ㄴ,ㄷ), 가격순 오름차순 정렬\\n# 결측치 = 0원\\n\\nbooks = [\\n    {'no':1, 'title':'강남 아파트 인사이트', 'writer': '오스틀', 'price':'25,200'},\\n    {'no':2, 'title':'단 한번의 삶', 'writer': '김영하', 'price':'15,120'},\\n    {'no':3, 'title':'흔한남매 19', 'writer': '백난도', 'price':'14,220'},\\n    {'no':4, 'title':'가격이 잘못', 'writer': '홍길동', 'price':'-'},\\n    {'no':5, 'title':'가격이 숫자', 'writer': '최무식', 'price':900},\\n    {'no':6, 'title':'가격이 없음', 'writer': '이난중',}\\n]\",\n",
       "  'parse_int(books[0]), parse_int(books[1]), parse_int(books[2])',\n",
       "  'copy_books',\n",
       "  \"books = [\\n    {'no':1, 'title':'강남 아파트 인사이트', 'writer': '오스틀', 'price':'25,200'},\\n    {'no':2, 'title':'단 한번의 삶', 'writer': '김영하', 'price':'15,120'},\\n    {'no':3, 'title':'흔한남매 19', 'writer': '백난도', 'price':'14,220'},\\n    {'no':4, 'title':'가격이 잘못', 'writer': '홍길동', 'price':'-'},\\n    {'no':5, 'title':'가격이 숫자', 'writer': '최무식', 'price':900},\\n    {'no':6, 'title':'가격이 없음', 'writer': '이난중',}\\n]\\n\\ncopy_books = books.copy()\",\n",
       "  \"copy_books.sort(key = lambda book : \\n                int(book.get('price').replace(',','')) \\\\    \\n                    if isinstance(book.get('price'), str) and \\\\      #조건\\n                      book.get('price').replace(',','').isdigit() else\\\\\\n                book.get('price') \\\\\\n                if isinstance(book.get('price'), int) else \\\\\\n                0 \\n              \\n               )\",\n",
       "  'copy_books',\n",
       "  \"copy_books.sort(key = lambda book : \\n                int(book.get('price').replace(',','')) \\\\    \\n                    if isinstance(book.get('price'), str) and \\\\      #조건\\n                      book.get('price').replace(',','').isdigit() else\\\\\\n                    book.get('price') \\\\\\n                if isinstance(book.get('price'), int) else \\\\\\n                0 \\n              \\n               )\",\n",
       "  \"copy_books.sort(key = lambda book : \\n                int(book.get('price').replace(',','')) \\\\    \\n                    if isinstance(book.get('price'), str) and \\\\      #조건\\n                      book.get('price').replace(',','').isdigit() else\\\\\\n                book.get('price') if isinstance(book.get('price'), int) else \\\\\\n                0 \\n              \\n               )\",\n",
       "  'copy_books',\n",
       "  \"copy_books.sort(key = lambda book : \\n                int(book.get('price').replace(',',''))  \\n                    if isinstance(book.get('price'), str) and \\\\      #조건\\n                      book.get('price').replace(',','').isdigit() else\\\\\\n                book.get('price') if isinstance(book.get('price'), int) else \\\\\\n                0 \\n              \\n               )\",\n",
       "  \"copy_books.sort(key = lambda book : \\n                int(book.get('price').replace(',',''))  \\n                    if isinstance(book.get('price'), str) and\\n                      book.get('price').replace(',','').isdigit() else\\\\\\n                book.get('price') if isinstance(book.get('price'), int) else \\\\\\n                0 \\n              \\n               )\",\n",
       "  \"copy_books.sort(key = lambda book : \\n                int(book.get('price').replace(',','')) \\\\ \\n                    if isinstance(book.get('price'), str) and \\\\\\n                      book.get('price').replace(',','').isdigit() else\\\\\\n                book.get('price') if isinstance(book.get('price'), int) else \\\\\\n                0 \\n              \\n               )\",\n",
       "  'copy_books',\n",
       "  \"copy_books.sort(key = lambda book : \\n                int(book.get('price').replace(',','')) \\\\\\n                    if isinstance(book.get('price'), str) and \\\\\\n                        book.get('price').replace(',','').isdigit() else\\\\\\n                book.get('price') if isinstance(book.get('price'), int) else \\\\\\n                0 \\n              \\n               )\",\n",
       "  'copy_books',\n",
       "  'books',\n",
       "  '# 함수를 return\\ndef make_box(shape) : # shape : [l(길이)], 2차원 [r,c] 3차원 [d,r,c] d,r(가로),c(세로)\\n    # shape : [l] =>가 l인 list를 생성하는 함수 return \\n                                    #[r,c] => r행 c열인 list를 생성하는 함수 return\\n                                    #[d,r,c] => d면 r행 c열 3차원 list를 생성하는 함수 \\n    \\n\\n    def box(init_value):\\n        if len(shape)==1:\\n            return [init_value]*shape[0]    #1차원 리스트\\n        elif len(shape)==2:\\n            return [ [init_value]*shape[1] ] * shape[0]  #2차원 리스트\\n    return box',\n",
       "  'box',\n",
       "  'line_func = make_box([2,3])',\n",
       "  'line_func = make_box([2,3])\\nline_func()',\n",
       "  'line_func = make_box([2,3])\\nline_func(3)',\n",
       "  'line_func = make_box([2,3])\\nline_func(1,3)',\n",
       "  'line_func = make_box([2,3])\\nline_func(1)',\n",
       "  'line_func = make_box([2,3])\\nline_func(3)',\n",
       "  'line_func1 = make_box([10])\\nline_func1(3)',\n",
       "  'def make_box(shape):\\n    if len(shape)==1:\\n        return lambda init_value : [init_value]*shape[0]\\n    elif len(shape)==2:\\n        return lambda init_value : [[init_value]*shape[1]]*shape[0]',\n",
       "  'globals()',\n",
       "  'locals()'],\n",
       " 'Out': {7: [2, 2, 2, 2, 2, 2, 2, 2, 2, 2],\n",
       "  9: [2, 2, 2, 2, 2, 2, 2, 2, 2, 2],\n",
       "  11: [2, 2, 2, 2, 2, 2, 2, 2, 2, 2],\n",
       "  13: [2, 2, 2, 2, 2, 2, 2, 2, 2, 2],\n",
       "  16: [2, 2, 2, 2, 2, 2, 2, 2, 2, 2],\n",
       "  18: [4, 4, 4, 4, 4, 4, 4, 4, 4, 4],\n",
       "  20: [2, 2, 2, 2, 2, 2, 2, 2, 2, 2],\n",
       "  24: [2, 2, 2, 2, 2, 2, 2, 2, 2, 2],\n",
       "  26: [2, 4, 6, 8, 10, 12, 14, 16, 18, 20],\n",
       "  27: <map at 0x2147b4401c0>,\n",
       "  29: [2, 4, 6, 8, 10, 12, 14, 16, 18, 20],\n",
       "  30: <map at 0x2147b442e60>,\n",
       "  32: [2, 4, 6, 8, 10, 12, 14, 16, 18, 20],\n",
       "  70: [5000, 800, 1000, 6000],\n",
       "  72: '\\n예시 3. member2 를 member1로 바꿉니다.\\n\\n',\n",
       "  89: {'year': 2000, 'month': 1, 'day': 1},\n",
       "  97: [{'name': '홍길동', 'brith': '2000-01-01'},\n",
       "   {'name': '신길동', 'brith': '1998-12-31'}],\n",
       "  103: {'year': 2000, 'month': 1, 'day': 1},\n",
       "  123: {'name': '홍길동', 'year': 2000, 'month': 1, 'day': 1},\n",
       "  124: [{'name': '홍길동', 'year': 2000, 'month': 1, 'day': 1},\n",
       "   {'name': '신길동', 'year': 1998, 'month': 12, 'day': 31}],\n",
       "  126: \"\\n예시2. member1 = [{'name':'홍길동', 'birth':'2000-01-01'},\\n                {'name':'신길동', 'birth':'1998-12-31'}]\\n    member2 = [{'name':'홍길동', 'year':2000, 'month':1, 'day':1}],\\n                {'name':'신길동', 'year':1998, 'month':12, 'day':31}] \\n\",\n",
       "  128: {'year': 2000, 'month': 1, 'day': 1},\n",
       "  129: {'name': '홍길동', 'year': 2000, 'month': 1, 'day': 1},\n",
       "  130: [{'name': '홍길동', 'year': 2000, 'month': 1, 'day': 1},\n",
       "   {'name': '신길동', 'year': 1998, 'month': 12, 'day': 31}],\n",
       "  141: 'year-month-day',\n",
       "  143: 'year-month-day',\n",
       "  145: 'year-month-day',\n",
       "  151: 'year-month-day',\n",
       "  153: 'year-month-day',\n",
       "  154: 'year-month-day',\n",
       "  157: 'year-month-day',\n",
       "  159: 'year-month-day',\n",
       "  161: '2000-01-01',\n",
       "  162: '2000-18-01',\n",
       "  163: '2000-01-01',\n",
       "  167: '2000-01-01',\n",
       "  174: '2000-01-01',\n",
       "  178: '2000-01-01',\n",
       "  184: [{'name': '홍길동', 'birth': '2000-01-01'},\n",
       "   {'name': '신길동', 'birth': '1998-12-31'}],\n",
       "  187: (True, False),\n",
       "  189: (True, False),\n",
       "  190: [],\n",
       "  191: [],\n",
       "  193: (True, False),\n",
       "  194: [],\n",
       "  195: [],\n",
       "  196: [2, 4],\n",
       "  197: [],\n",
       "  198: [],\n",
       "  199: [],\n",
       "  200: [],\n",
       "  202: (True, False),\n",
       "  203: [2, 4],\n",
       "  204: [9, 7, 2],\n",
       "  205: [[1, 100], [9.9], [10, 1]],\n",
       "  206: [[10, 1], [9.9], [1, 100]],\n",
       "  207: [[1, 100], [9.9], [10, 1]],\n",
       "  208: [[10, 1], [9.9], [1, 100]],\n",
       "  209: [[10, 1], [9, 9, 9, 9, 9], [1, 100]],\n",
       "  211: [(1, 'one'), (2, 'two'), (3, 'three'), (4, 'four')],\n",
       "  212: [[10, 1], [9, 9, 9, 9, 9], [1, 100]],\n",
       "  214: [(1, 'one'), (2, 'two'), (3, 'three'), (4, 'four')],\n",
       "  216: [(4, 'four'), (1, 'one'), (3, 'three'), (2, 'two')],\n",
       "  217: [(4, 'four'), (1, 'one'), (3, 'three'), (2, 'two')],\n",
       "  218: [(4, 'four'), (1, 'one'), (3, 'three'), (2, 'two')],\n",
       "  222: [(4, 'four'), (1, 'one'), (3, 'three'), (2, 'two')],\n",
       "  223: [[1, 100], [9, 9, 9, 9, 9], [10, 1]],\n",
       "  224: [[1, 100], [9, 9, 9, 9, 9], [10, 1]],\n",
       "  225: 6,\n",
       "  227: [[1, 100], [9, 9, 9, 9, 9], [10, 1]],\n",
       "  228: 6,\n",
       "  233: [{'name': '홍길동', 'score': 90},\n",
       "   {'name': '김길동', 'score': 85},\n",
       "   {'name': '최길동', 'score': 62}],\n",
       "  235: [{'name': '홍길동', 'score': 90},\n",
       "   {'name': '김길동', 'score': 85},\n",
       "   {'name': '최길동', 'score': 62}],\n",
       "  236: [{'name': '홍길동', 'score': 90},\n",
       "   {'name': '김길동', 'score': 85},\n",
       "   {'name': '최길동', 'score': 62}],\n",
       "  240: [{'name': '최길동', 'score': 62},\n",
       "   {'name': '김길동', 'score': 85},\n",
       "   {'name': '홍길동', 'score': 90}],\n",
       "  242: [{'name': '최길동', 'score': 62},\n",
       "   {'name': '김길동', 'score': 85},\n",
       "   {'name': '홍길동', 'score': 90}],\n",
       "  243: [{'name': '최길동', 'score': 62},\n",
       "   {'name': '김길동', 'score': 85},\n",
       "   {'name': '홍길동', 'score': 90}],\n",
       "  244: [{'name': '최길동', 'score': 62},\n",
       "   {'name': '김길동', 'score': 85},\n",
       "   {'name': '홍길동', 'score': 90}],\n",
       "  245: [{'name': '최길동', 'score': 62},\n",
       "   {'name': '김길동', 'score': 85},\n",
       "   {'name': '홍길동', 'score': 90}],\n",
       "  247: [{'score': 99},\n",
       "   {'name': '홍길동', 'score': 90},\n",
       "   {'name': '김길동', 'score': 85},\n",
       "   {'name': '최길동', 'score': 62}],\n",
       "  249: [{'score': 99},\n",
       "   {'name': '홍길동', 'score': 90},\n",
       "   {'name': '김길동', 'score': 85},\n",
       "   {'name': '최길동', 'score': 62}],\n",
       "  251: [{'score': 99},\n",
       "   {'name': '홍길동', 'score': 90},\n",
       "   {'name': '김길동', 'score': 85},\n",
       "   {'name': '최길동', 'score': 62}],\n",
       "  252: [{'score': 99},\n",
       "   {'name': '홍길동', 'score': 90},\n",
       "   {'name': '김길동', 'score': 85},\n",
       "   {'name': '최길동', 'score': 62}],\n",
       "  253: [{'score': 99},\n",
       "   {'name': '홍길동', 'score': 90},\n",
       "   {'name': '김길동', 'score': 85},\n",
       "   {'name': '최길동', 'score': 62}],\n",
       "  254: [{'score': 99},\n",
       "   {'name': '홍길동', 'score': 90},\n",
       "   {'name': '김길동', 'score': 85},\n",
       "   {'name': '최길동', 'score': 62}],\n",
       "  255: [{'score': 99},\n",
       "   {'name': '홍길동', 'score': 90},\n",
       "   {'name': '김길동', 'score': 85},\n",
       "   {'name': '최길동', 'score': 62}],\n",
       "  256: [{'score': 99},\n",
       "   {'name': '홍길동', 'score': 90},\n",
       "   {'name': '김길동', 'score': 85},\n",
       "   {'name': '최길동', 'score': 62}],\n",
       "  257: [{'score': 99},\n",
       "   {'name': '홍길동', 'score': 90},\n",
       "   {'name': '김길동', 'score': 85},\n",
       "   {'name': '최길동', 'score': 62}],\n",
       "  261: [{'no': 3, 'title': '흔한남매 19', 'writer': '백난도', 'price': '14,220'},\n",
       "   {'no': 2, 'title': '단 한번의 삶', 'writer': '김영하', 'price': '15,120'},\n",
       "   {'no': 1, 'title': '강남 아파트 인사이트', 'writer': '오스틀', 'price': '25,200'},\n",
       "   {'no': 6, 'title': '가격이 없음', 'writer': '이난중'},\n",
       "   {'no': 5, 'title': '가격이 숫자', 'writer': '최무식', 'price': 900},\n",
       "   {'no': 4, 'title': '가격이 잘못', 'writer': '홍길동', 'price': '-'}],\n",
       "  262: [{'no': 3, 'title': '흔한남매 19', 'writer': '백난도', 'price': '14,220'},\n",
       "   {'no': 2, 'title': '단 한번의 삶', 'writer': '김영하', 'price': '15,120'},\n",
       "   {'no': 1, 'title': '강남 아파트 인사이트', 'writer': '오스틀', 'price': '25,200'},\n",
       "   {'no': 6, 'title': '가격이 없음', 'writer': '이난중'},\n",
       "   {'no': 5, 'title': '가격이 숫자', 'writer': '최무식', 'price': 900},\n",
       "   {'no': 4, 'title': '가격이 잘못', 'writer': '홍길동', 'price': '-'}],\n",
       "  270: -800,\n",
       "  271: 800,\n",
       "  272: 800,\n",
       "  275: 800,\n",
       "  277: 800,\n",
       "  278: 800,\n",
       "  279: 800000,\n",
       "  280: 800000,\n",
       "  281: 8000000,\n",
       "  282: 15754,\n",
       "  283: 0,\n",
       "  292: (8000, 88000, 200, None),\n",
       "  294: (8000, 88000, 200, 0),\n",
       "  307: 14220,\n",
       "  308: (14220, 15120, 25200),\n",
       "  310: (25200, 15120, 14220),\n",
       "  314: [{'no': 4, 'title': '가격이 잘못', 'writer': '홍길동', 'price': '-'},\n",
       "   {'no': 6, 'title': '가격이 없음', 'writer': '이난중'},\n",
       "   {'no': 5, 'title': '가격이 숫자', 'writer': '최무식', 'price': 900},\n",
       "   {'no': 3, 'title': '흔한남매 19', 'writer': '백난도', 'price': '14,220'},\n",
       "   {'no': 2, 'title': '단 한번의 삶', 'writer': '김영하', 'price': '15,120'},\n",
       "   {'no': 1, 'title': '강남 아파트 인사이트', 'writer': '오스틀', 'price': '25,200'}],\n",
       "  317: [{'no': 4, 'title': '가격이 잘못', 'writer': '홍길동', 'price': '-'},\n",
       "   {'no': 6, 'title': '가격이 없음', 'writer': '이난중'},\n",
       "   {'no': 5, 'title': '가격이 숫자', 'writer': '최무식', 'price': 900},\n",
       "   {'no': 3, 'title': '흔한남매 19', 'writer': '백난도', 'price': '14,220'},\n",
       "   {'no': 2, 'title': '단 한번의 삶', 'writer': '김영하', 'price': '15,120'},\n",
       "   {'no': 1, 'title': '강남 아파트 인사이트', 'writer': '오스틀', 'price': '25,200'}],\n",
       "  321: [{'no': 4, 'title': '가격이 잘못', 'writer': '홍길동', 'price': '-'},\n",
       "   {'no': 6, 'title': '가격이 없음', 'writer': '이난중'},\n",
       "   {'no': 5, 'title': '가격이 숫자', 'writer': '최무식', 'price': 900},\n",
       "   {'no': 3, 'title': '흔한남매 19', 'writer': '백난도', 'price': '14,220'},\n",
       "   {'no': 2, 'title': '단 한번의 삶', 'writer': '김영하', 'price': '15,120'},\n",
       "   {'no': 1, 'title': '강남 아파트 인사이트', 'writer': '오스틀', 'price': '25,200'}],\n",
       "  323: [{'no': 4, 'title': '가격이 잘못', 'writer': '홍길동', 'price': '-'},\n",
       "   {'no': 6, 'title': '가격이 없음', 'writer': '이난중'},\n",
       "   {'no': 5, 'title': '가격이 숫자', 'writer': '최무식', 'price': 900},\n",
       "   {'no': 3, 'title': '흔한남매 19', 'writer': '백난도', 'price': '14,220'},\n",
       "   {'no': 2, 'title': '단 한번의 삶', 'writer': '김영하', 'price': '15,120'},\n",
       "   {'no': 1, 'title': '강남 아파트 인사이트', 'writer': '오스틀', 'price': '25,200'}],\n",
       "  324: [{'no': 1, 'title': '강남 아파트 인사이트', 'writer': '오스틀', 'price': '25,200'},\n",
       "   {'no': 2, 'title': '단 한번의 삶', 'writer': '김영하', 'price': '15,120'},\n",
       "   {'no': 3, 'title': '흔한남매 19', 'writer': '백난도', 'price': '14,220'},\n",
       "   {'no': 4, 'title': '가격이 잘못', 'writer': '홍길동', 'price': '-'},\n",
       "   {'no': 5, 'title': '가격이 숫자', 'writer': '최무식', 'price': 900},\n",
       "   {'no': 6, 'title': '가격이 없음', 'writer': '이난중'}],\n",
       "  329: [[3, 3, 3], [3, 3, 3]],\n",
       "  331: [[1, 1, 1], [1, 1, 1]],\n",
       "  332: [[3, 3, 3], [3, 3, 3]],\n",
       "  333: [3, 3, 3, 3, 3, 3, 3, 3, 3, 3],\n",
       "  335: {...}},\n",
       " 'get_ipython': <bound method InteractiveShell.get_ipython of <ipykernel.zmqshell.ZMQInteractiveShell object at 0x0000021479203D60>>,\n",
       " 'exit': <IPython.core.autocall.ZMQExitAutocall at 0x2147920f5e0>,\n",
       " 'quit': <IPython.core.autocall.ZMQExitAutocall at 0x2147920f5e0>,\n",
       " 'open': <function io.open(file, mode='r', buffering=-1, encoding=None, errors=None, newline=None, closefd=True, opener=None)>,\n",
       " '_': {...},\n",
       " '__': [3, 3, 3, 3, 3, 3, 3, 3, 3, 3],\n",
       " '___': [[3, 3, 3], [3, 3, 3]],\n",
       " '_i': 'globals()',\n",
       " '_ii': 'def make_box(shape):\\n    if len(shape)==1:\\n        return lambda init_value : [init_value]*shape[0]\\n    elif len(shape)==2:\\n        return lambda init_value : [[init_value]*shape[1]]*shape[0]',\n",
       " '_iii': 'line_func1 = make_box([10])\\nline_func1(3)',\n",
       " '_i1': 'from IPython.display import display, HTML \\ndisplay(HTML(\"\"\"\\n<style>\\ndiv.container{width:86% !important;}\\ndiv.cell.code_cell.rendered{width:100%;}\\ndiv.CodeMirror {font-family:Consolas; font-size:15pt;}\\ndiv.output {font-size:15pt; font-weight:bold;}\\ndiv.input {font-family:Consolas; font-size:15pt;}\\ndiv.prompt {min-width:70px;}\\ndiv#toc-wrapper{padding-top:120px;}\\ndiv.text_cell_render ul li{font-size:12pt;padding:5px;}\\ntable.dataframe{font-size:15px;}\\n</style>\\n \"\"\"))',\n",
       " 'display': <function IPython.core.display_functions.display(*objs, include=None, exclude=None, metadata=None, transient=None, display_id=None, raw=False, clear=False, **kwargs)>,\n",
       " 'HTML': IPython.core.display.HTML,\n",
       " '_i2': 'from IPython.display import display, HTML \\ndisplay(HTML(\"\"\"\\n<style>\\ndiv.container{width:86% !important;}\\ndiv.cell.code_cell.rendered{width:100%;}\\ndiv.CodeMirror {font-family:Consolas; font-size:15pt;}\\ndiv.output {font-size:15pt; font-weight:bold;}\\ndiv.input {font-family:Consolas; font-size:15pt;}\\ndiv.prompt {min-width:70px;}\\ndiv#toc-wrapper{padding-top:120px;}\\ndiv.text_cell_render ul li{font-size:12pt;padding:5px;}\\ntable.dataframe{font-size:15px;}\\n</style>\\n \"\"\"))',\n",
       " '_i3': 'list_data = [1, 2, 3, 4, 5, 6, 7, 8, 9, 10]\\ndef x_2(x):\\n    return x*2\\nmap_templatd(x2, list_data)',\n",
       " 'list_data': [1, 2, 3, 4, 5],\n",
       " 'x_2': <function __main__.x_2(x)>,\n",
       " '_i4': \"def map_tamplate(func, L=[]):\\n    '''\\n    L의 모든 요소를 func()함수를 적용시켜 reteurn\\n    [2, 4, 6] [func(1) for l in L]\\n    '''\\n    result = []\\n    for l in L:\\n        result.append(func(1))\\n    return result \\n#    return [func(1) for l in L]\",\n",
       " 'map_tamplate': <function __main__.map_tamplate(func, L=[])>,\n",
       " '_i5': 'list_data = [1, 2, 3, 4, 5, 6, 7, 8, 9, 10]\\ndef x_2(x):\\n    return x*2\\nmap_templatd(x2, list_data)',\n",
       " '_i6': 'list_data = [1, 2, 3, 4, 5, 6, 7, 8, 9, 10]\\ndef x_2(x):\\n    return x*2\\nmap_tamplate(x2, list_data)',\n",
       " '_i7': 'list_data = [1, 2, 3, 4, 5, 6, 7, 8, 9, 10]\\ndef x_2(x):\\n    return x*2\\nmap_tamplate(x_2, list_data)',\n",
       " '_7': [2, 2, 2, 2, 2, 2, 2, 2, 2, 2],\n",
       " '_i8': \"    '''\\n    L의 모든 요소를 func()함수를 적용시켜 reteurn\\n    [2, 4, 6] [func(1) for l in L]\\n    '''\\ndef map_template(func, L=[]):\\n    result = []\\n    for l in L:\\n        result.append(func(l))  # ← 이제 각 요소에 함수 적용!\\n    return result\\n#    return [func(1) for l in L]\",\n",
       " '_i9': 'list_data = [1, 2, 3, 4, 5, 6, 7, 8, 9, 10]\\ndef x_2(x):\\n    return x*2\\nmap_tamplate(x_2, list_data)',\n",
       " '_9': [2, 2, 2, 2, 2, 2, 2, 2, 2, 2],\n",
       " '_i10': \"    '''\\n    L의 모든 요소를 func()함수를 적용시켜 reteurn\\n    [2, 4, 6] [func(1) for l in L]\\n    '''\\ndef map_template(func, L=[]):\\n    result = []\\n        for l in L:\\n            result.append(func(l))  # ← 이제 각 요소에 함수 적용!\\n        return result\\n#    return [func(1) for l in L]\",\n",
       " '_i11': 'list_data = [1, 2, 3, 4, 5, 6, 7, 8, 9, 10]\\ndef x_2(x):\\n    return x*2\\nmap_tamplate(x_2, list_data)',\n",
       " '_11': [2, 2, 2, 2, 2, 2, 2, 2, 2, 2],\n",
       " '_i12': \"def map_tamplate(func, L=[]):\\n    '''\\n    L의 모든 요소를 func()함수를 적용시켜 reteurn\\n    [2, 4, 6] [func(1) for l in L]\\n    '''\\n    result = []\\n    for l in L:\\n        result.append(func(1))\\n    return result \\n#    return [func(1) for l in L]\",\n",
       " '_i13': 'list_data = [1, 2, 3, 4, 5, 6, 7, 8, 9, 10]\\ndef x_2(x):\\n    return x*2\\nmap_tamplate(x_2, list_data)',\n",
       " '_13': [2, 2, 2, 2, 2, 2, 2, 2, 2, 2],\n",
       " '_i14': \"def map_tamplate(func, L=[]):\\n    '''\\n    L의 모든 요소를 func()함수를 적용시켜 reteurn\\n    [2, 4, 6] [func(1) for l in L]\\n    '''\\n    result = []\\n    for l in L:\\n        result.append(func(1))\\n    return result \\n#    return [func(1) for l in L]\",\n",
       " '_i15': 'list_data = [1, 2, 3, 4, 5, 6, 7, 8, 9, 10]\\nmap_template(lambda x : x*2, list_data)',\n",
       " '_i16': 'list_data = [1, 2, 3, 4, 5, 6, 7, 8, 9, 10]\\nmap_tamplate(lambda x : x*2, list_data)',\n",
       " '_16': [2, 2, 2, 2, 2, 2, 2, 2, 2, 2],\n",
       " '_i17': \"def map_tamplate(func, L=[]):\\n    '''\\n    L의 모든 요소를 func()함수를 적용시켜 reteurn\\n    [2, 4, 6] [func(1) for l in L]\\n    '''\\n    result = []\\n    for l in L:\\n        result.append(func(2))\\n    return result \\n#    return [func(1) for l in L]\",\n",
       " '_i18': 'list_data = [1, 2, 3, 4, 5, 6, 7, 8, 9, 10]\\nmap_tamplate(lambda x : x*2, list_data)',\n",
       " '_18': [4, 4, 4, 4, 4, 4, 4, 4, 4, 4],\n",
       " '_i19': \"def map_tamplate(func, L=[]):\\n    '''\\n    L의 모든 요소를 func()함수를 적용시켜 reteurn\\n    [2, 4, 6] [func(1) for l in L]\\n    '''\\n    result = []\\n    for l in L:\\n        result.append(func(1))\\n    return result \\n#    return [func(1) for l in L]\",\n",
       " '_i20': 'list_data = [1, 2, 3, 4, 5, 6, 7, 8, 9, 10]\\nmap_tamplate(lambda x : x*2, list_data)',\n",
       " '_20': [2, 2, 2, 2, 2, 2, 2, 2, 2, 2],\n",
       " '_i21': \"def map_tamplate(func, L=[]):\\n    '''\\n    L의 모든 요소를 func()함수를 적용시켜 reteurn\\n    [2, 4, 6] [func(1) for l in L]\\n    '''\\n    result = []\\n    for l in L:\\n        result.append(func(x))\\n    return result \\n#    return [func(1) for l in L]\",\n",
       " '_i22': '#리스트 데이터를 가공하는 방법\\nlist_data = [1, 2, 3, 4, 5, 6, 7, 8, 9, 10]\\nmap_tamplate(lambda x : x*2, list_data)',\n",
       " '_i23': \"def map_tamplate(func, L=[]):\\n    '''\\n    L의 모든 요소를 func()함수를 적용시켜 reteurn\\n    [2, 4, 6] [func(1) for l in L]\\n    '''\\n    result = []\\n    for l in L:\\n        result.append(func(1))\\n    return result \\n#    return [func(1) for l in L]\",\n",
       " '_i24': '#리스트 데이터를 가공하는 방법\\nlist_data = [1, 2, 3, 4, 5, 6, 7, 8, 9, 10]\\nmap_tamplate(lambda x : x*2, list_data)',\n",
       " '_24': [2, 2, 2, 2, 2, 2, 2, 2, 2, 2],\n",
       " '_i25': \"# 리스트 데이터를 가공 방법 1.map\\ndef map_tamplate(func, L=[]):\\n    '''\\n    L의 모든 요소를 func()함수를 적용시켜 reteurn\\n    [2, 4, 6] [func(1) for l in L]\\n    '''\\n    result = []\\n    for l in L:\\n        result.append(func(l))\\n    return result \\n#    return [func(1) for l in L]\",\n",
       " '_i26': '#리스트 데이터를 가공하는 방법 2.리스트 컴프리헨션\\nlist_data = [1, 2, 3, 4, 5, 6, 7, 8, 9, 10]\\nmap_tamplate(lambda x : x*2, list_data)',\n",
       " '_26': [2, 4, 6, 8, 10, 12, 14, 16, 18, 20],\n",
       " '_i27': '# 리스트 데이터를 가공 방법 3.map():파이썬 내장함수\\nmap(lambda x : x2,list_data)',\n",
       " '_27': <map at 0x2147b4401c0>,\n",
       " '_i28': '# 리스트 데이터를 가공 방법 3.map():파이썬 내장함수\\nlist(map(lambda x : x2,list_data))',\n",
       " '_i29': '# 리스트 데이터를 가공 방법 3.map():파이썬 내장함수\\nlist(map(lambda x : x*2,list_data))',\n",
       " '_29': [2, 4, 6, 8, 10, 12, 14, 16, 18, 20],\n",
       " '_i30': '# 리스트 데이터를 가공 방법 3.map():파이썬 내장함수\\nmap(lambda x : x*2,list_data)',\n",
       " '_30': <map at 0x2147b442e60>,\n",
       " '_i31': 'for item in map(lambda x : x*2, list_data):\\n    print(item, end=\" \")',\n",
       " 'item': 20,\n",
       " '_i32': 'for item in map(lambda x : x*2, list_data):\\n    print(item, end=\" \")\\nlist(map(lambda x : x*2,list_data))',\n",
       " '_32': [2, 4, 6, 8, 10, 12, 14, 16, 18, 20],\n",
       " '_i33': \"'''\\n예시 1. prices = [5000,800,1000,6000]로 변경 \\n'''\\n\\nprices = ['5,000', '800', '1000','6,000']\\nprint(prices.spled)\",\n",
       " 'prices': ['5,000', '800', '1000', '6,000'],\n",
       " '_i34': \"'''\\n예시 1. prices = [5000,800,1000,6000]로 변경 \\n'''\\n\\nprices = ['5,000', '800', '1000','6,000']\\nprint(prices.split())\",\n",
       " '_i35': \"'''\\n예시 1. prices = [5000,800,1000,6000]로 변경 \\n'''\\n\\nprices = ['5,000', '800', '1000','6,000']\\nprint(prices.split())\",\n",
       " '_i36': \"'''\\n예시 1. prices = [5000,800,1000,6000]로 변경 \\n'''\\n\\nprices = ['5,000', '800', '1000','6,000']\",\n",
       " '_i37': \"'''\\n예시 1. prices = [5000,800,1000,6000]로 변경 \\n'''\\n\\nprices = ['5,000', '800', '1000','6,000']\\nint(prices)\",\n",
       " '_i38': \"'''\\n예시 1. prices = [5000,800,1000,6000]로 변경 \\n'''\\n\\nprices = ['5,000', '800', '1000','6,000']\\nprint(int(prices))\",\n",
       " '_i39': \"'''\\n예시 1. prices = [5000,800,1000,6000]로 변경 \\n'''\\n\\nprices = ['5,000', '800', '1000','6,000']\",\n",
       " '_i40': \"'''\\n예시 1. prices = [5000,800,1000,6000]로 변경 \\n'''\\n\\nprices = ['5,000', '800', '1000','6,000']\\n\\ntmep = (int(prices.replace(',','')) for price in price_list)\\nconverted = [int(price.replace(',', '')) for price in price_list]\\n\\nprint(converted)  # [5000, 3000, 200]\",\n",
       " '_i41': \"'''\\n예시 1. prices = [5000,800,1000,6000]로 변경 \\n'''\\n\\nprices = ['5,000', '800', '1000','6,000']\\n\\ntemp = (int(prices.replace(',','')) for price in price_list)\\nprint(temp)\",\n",
       " '_i42': \"'''\\n예시 1. prices = [5000,800,1000,6000]로 변경 \\n'''\\n\\nprices = ['5,000', '800', '1000','6,000']\\n\\ntemp = [int(prices.replace(',','')) for price in price_list]\\nprint(temp)\",\n",
       " '_i43': \"'''\\n예시 1. prices = [5000,800,1000,6000]로 변경 \\n'''\\n\\nprices = ['5,000', '800', '1000','6,000']\\n\\ntemp = [int(prices.replace(',','')) for price in price]\\nprint(temp)\",\n",
       " '_i44': \"'''\\n예시 1. prices = [5000,800,1000,6000]로 변경 \\n'''\\n\\nprices = ['5,000', '800', '1000','6,000']\\n\\ntemp = [int(prices.replace(',','')) for price in prices]\\nprint(temp)\",\n",
       " '_i45': \"'''\\n예시 1. prices = [5000,800,1000,6000]로 변경 \\n'''\\n\\nprices = ['5,000', '800', '1000','6,000']\\n\\ntemp = [int(prices.replace(',','')) for prices in prices]\\nprint(temp)\",\n",
       " 'temp': [5000, 800, 1000, 6000],\n",
       " '_i46': \"'''\\n예시2. member1 = [{'name':'홍길동', 'brith':'2000-01-01'},\\n                {'name':'신길동', 'brith':'1998-12-31'}]\\n    member2 = [{'name':'홍길동', 'year':2000, 'month':1, 'day':1}],\\n                {'name':'신길동', 'year':1998, 'month':12, 'day':31] \\n'''\\n#년, 월, 일 분리 필요\\n# year추가 , month 추가, day 추가 \\nmember1 = [{'name':'홍길동', 'brith':'2000-01-01'},\\n                {'name':'신길동', 'brith':'1998-12-31'}]\\nmember2 = [{'name':'홍길동', 'year':2000, 'month':1, 'day':1}],\\n                {'name':'신길동', 'year':1998, 'month':12, 'day':31] \\nmember1[brith]=200\",\n",
       " '_i47': \"'''\\n예시2. member1 = [{'name':'홍길동', 'brith':'2000-01-01'},\\n                {'name':'신길동', 'brith':'1998-12-31'}]\\n    member2 = [{'name':'홍길동', 'year':2000, 'month':1, 'day':1}],\\n                {'name':'신길동', 'year':1998, 'month':12, 'day':31}] \\n'''\\n#년, 월, 일 분리 필요\\n# year추가 , month 추가, day 추가 \\nmember1 = [{'name':'홍길동', 'brith':'2000-01-01'},\\n                {'name':'신길동', 'brith':'1998-12-31'}]\\n\\nmember1[brith]=200\",\n",
       " 'member1': [{'name': '홍길동', 'birth': '2000-01-01'},\n",
       "  {'name': '신길동', 'birth': '1998-12-31'}],\n",
       " '_i48': \"'''\\n예시2. member1 = [{'name':'홍길동', 'brith':'2000-01-01'},\\n                {'name':'신길동', 'brith':'1998-12-31'}]\\n    member2 = [{'name':'홍길동', 'year':2000, 'month':1, 'day':1}],\\n                {'name':'신길동', 'year':1998, 'month':12, 'day':31}] \\n'''\\n#년, 월, 일 분리 필요\\n# year추가 , month 추가, day 추가 \\nmember1 = [{'name':'홍길동', 'brith':'2000-01-01'},\\n                {'name':'신길동', 'brith':'1998-12-31'}]\\n\\nmember1['brith']=2000\",\n",
       " '_i49': \"'''\\n예시2. member1 = [{'name':'홍길동', 'brith':'2000-01-01'},\\n                {'name':'신길동', 'brith':'1998-12-31'}]\\n    member2 = [{'name':'홍길동', 'year':2000, 'month':1, 'day':1}],\\n                {'name':'신길동', 'year':1998, 'month':12, 'day':31}] \\n'''\\n#년, 월, 일 분리 필요\\n# year추가 , month 추가, day 추가 \\nmember1 = [{'name':'홍길동', 'brith':'2000-01-01'},\\n                {'name':'신길동', 'brith':'1998-12-31'}]\\n\\nmember1['brith']=srt(2000)\",\n",
       " '_i50': \"'''\\n예시2. member1 = [{'name':'홍길동', 'brith':'2000-01-01'},\\n                {'name':'신길동', 'brith':'1998-12-31'}]\\n    member2 = [{'name':'홍길동', 'year':2000, 'month':1, 'day':1}],\\n                {'name':'신길동', 'year':1998, 'month':12, 'day':31}] \\n'''\\n#년, 월, 일 분리 필요\\n# year추가 , month 추가, day 추가 \\nmember1 = [{'name':'홍길동', 'brith':'2000-01-01'},\\n                {'name':'신길동', 'brith':'1998-12-31'}]\\n\\nmember1['brith']=str(2000)\",\n",
       " '_i51': \"'''\\n예시2. member1 = [{'name':'홍길동', 'brith':'2000-01-01'},\\n                {'name':'신길동', 'brith':'1998-12-31'}]\\n    member2 = [{'name':'홍길동', 'year':2000, 'month':1, 'day':1}],\\n                {'name':'신길동', 'year':1998, 'month':12, 'day':31}] \\n'''\\n#년, 월, 일 분리 필요\\n# year추가 , month 추가, day 추가 \\nmember1 = [{'name':'홍길동', 'brith':'2000-01-01'},\\n                {'name':'신길동', 'brith':'1998-12-31'}]\\n\\nmember1['brith'] = 'str(2000)''\",\n",
       " '_i52': \"'''\\n예시2. member1 = [{'name':'홍길동', 'brith':'2000-01-01'},\\n                {'name':'신길동', 'brith':'1998-12-31'}]\\n    member2 = [{'name':'홍길동', 'year':2000, 'month':1, 'day':1}],\\n                {'name':'신길동', 'year':1998, 'month':12, 'day':31}] \\n'''\\n#년, 월, 일 분리 필요\\n# year추가 , month 추가, day 추가 \\nmember1 = [{'name':'홍길동', 'brith':'2000-01-01'},\\n                {'name':'신길동', 'brith':'1998-12-31'}]\\n\\nmember1['brith'] = 'str(2000)'\",\n",
       " '_i53': \"'''\\n예시2. member1 = [{'name':'홍길동', 'brith':'2000-01-01'},\\n                {'name':'신길동', 'brith':'1998-12-31'}]\\n    member2 = [{'name':'홍길동', 'year':2000, 'month':1, 'day':1}],\\n                {'name':'신길동', 'year':1998, 'month':12, 'day':31}] \\n'''\\n#년, 월, 일 분리 필요\\n# year추가 , month 추가, day 추가 \\nmember1 = [{'name':'홍길동', 'brith':'2000-01-01'},\\n                {'name':'신길동', 'brith':'1998-12-31'}]\\n\\nmember1['brith'] = str('2000')\",\n",
       " '_i54': \"'''\\n예시2. member1 = [{'name':'홍길동', 'brith':'2000-01-01'},\\n                {'name':'신길동', 'brith':'1998-12-31'}]\\n    member2 = [{'name':'홍길동', 'year':2000, 'month':1, 'day':1}],\\n                {'name':'신길동', 'year':1998, 'month':12, 'day':31}] \\n'''\\n#년, 월, 일 분리 필요\\n# year추가 , month 추가, day 추가 \\nmember1 = [{'name':'홍길동', 'brith':'2000-01-01'},\\n                {'name':'신길동', 'brith':'1998-12-31'}]\\n\\nmember1['brith'] = int('2000')\",\n",
       " '_i55': \"'''\\n예시2. member1 = [{'name':'홍길동', 'brith':'2000-01-01'},\\n                {'name':'신길동', 'brith':'1998-12-31'}]\\n    member2 = [{'name':'홍길동', 'year':2000, 'month':1, 'day':1}],\\n                {'name':'신길동', 'year':1998, 'month':12, 'day':31}] \\n'''\\n#년, 월, 일 분리 필요\\n# year추가 , month 추가, day 추가 \\nmember1 = [{'name':'홍길동', 'brith':'2000-01-01'},\\n                {'name':'신길동', 'brith':'1998-12-31'}]\\n\\nmember1['brith'] = int(2000)\",\n",
       " '_i56': \"'''\\n예시2. member1 = [{'name':'홍길동', 'brith':'2000-01-01'},\\n                {'name':'신길동', 'brith':'1998-12-31'}]\\n    member2 = [{'name':'홍길동', 'year':2000, 'month':1, 'day':1}],\\n                {'name':'신길동', 'year':1998, 'month':12, 'day':31}] \\n'''\\n#년, 월, 일 분리 필요\\n# year추가 , month 추가, day 추가 \\nmember1 = [{'name':'홍길동', 'brith':'2000-01-01'},\\n                {'name':'신길동', 'brith':'1998-12-31'}]\\n\\nmember1['brith'] = 2000\",\n",
       " '_i57': \"'''\\n예시2. member1 = [{'name':'홍길동', 'brith':'2000-01-01'},\\n                {'name':'신길동', 'brith':'1998-12-31'}]\\n    member2 = [{'name':'홍길동', 'year':2000, 'month':1, 'day':1}],\\n                {'name':'신길동', 'year':1998, 'month':12, 'day':31}] \\n'''\\n#년, 월, 일 분리 필요 (split)\\n# year추가 , month 추가, day 추가 \\nmember1 = [{'name':'홍길동', 'brith':'2000-01-01'},\\n                {'name':'신길동', 'brith':'1998-12-31'}]\\n'year' : member1.split[0]\",\n",
       " '_i58': \"def func(x):\\n    return int(x.replace(',', ''))\",\n",
       " 'func': <function __main__.func(x)>,\n",
       " '_i59': \"def func(x):\\n    return int(x.replace(',', ''))\\nprint(func)\",\n",
       " '_i60': \"def func(x):\\n    return int(x.replace(',', ''))\\nprint(prices)\",\n",
       " '_i61': \"def func(x):\\n    return (int(x.replace(',', '')))\\nprint(prices)\",\n",
       " '_i62': \"def func(x):\\n    return int(x.replace(',', ''))\\nprint(prices)\",\n",
       " '_i63': 'int(\" \")',\n",
       " '_i64': \"def func(x):\\n    return int(x.replace(',', ''))\\nprint(prices)\",\n",
       " '_i65': \"def func(x):\\n    return int(x.replace(',', ''))\\nprint(int(prices)\",\n",
       " '_i66': \"def func(x):\\n    return int(x.replace(',', ''))\\nprint(int(prices))\",\n",
       " '_i67': 'def func(x):\\n    return int(x.replace(\\',\\', \\'\\'))\\nprint(\"5,000\"',\n",
       " '_i68': 'def func(x):\\n    return int(x.replace(\\',\\', \\'\\'))\\nprint(\"5,000\")',\n",
       " '_i69': \"print(map(lambda x : int(x.replace(',', '')), prices))\",\n",
       " '_i70': \"list(map(lambda x : int(x.replace(',', '')), prices))\",\n",
       " '_70': [5000, 800, 1000, 6000],\n",
       " '_i71': '\\'\\'\\'\\n예시2. member1 = [{\\'name\\':\\'홍길동\\', \\'brith\\':\\'2000-01-01\\'},\\n                {\\'name\\':\\'신길동\\', \\'brith\\':\\'1998-12-31\\'}]\\n    member2 = [{\\'name\\':\\'홍길동\\', \\'year\\':2000, \\'month\\':1, \\'day\\':1}],\\n                {\\'name\\':\\'신길동\\', \\'year\\':1998, \\'month\\':12, \\'day\\':31}] \\n\\'\\'\\'\\n#년, 월, 일 분리 필요 (split)\\n# year추가 , month 추가, day 추가 \\nmember1 = [{\\'name\\':\\'홍길동\\', \\'brith\\':\\'2000-01-01\\'},\\n           {\\'name\\':\\'신길동\\', \\'brith\\':\\'1998-12-31\\'}]\\nmember2= [{\\n    \"name\" : 신길동\\n    \\'year\\' : member1.split[-][0]\\n    \\'month\\': meber1.split[-][1]\\n    \\'day\\' : member1.split[-][2]\\n}]',\n",
       " '_i72': \"'''\\n예시 3. member2 를 member1로 바꿉니다.\\n\\n'''\",\n",
       " '_72': '\\n예시 3. member2 를 member1로 바꿉니다.\\n\\n',\n",
       " '_i73': '\\'\\'\\'\\n예시2. member1 = [{\\'name\\':\\'홍길동\\', \\'brith\\':\\'2000-01-01\\'},\\n                {\\'name\\':\\'신길동\\', \\'brith\\':\\'1998-12-31\\'}]\\n    member2 = [{\\'name\\':\\'홍길동\\', \\'year\\':2000, \\'month\\':1, \\'day\\':1}],\\n                {\\'name\\':\\'신길동\\', \\'year\\':1998, \\'month\\':12, \\'day\\':31}] \\n\\'\\'\\'\\n#년, 월, 일 분리 필요 (split)\\n# year추가 , month 추가, day 추가 \\nmember1 = [{\\'name\\':\\'홍길동\\', \\'brith\\':\\'2000-01-01\\'},\\n           {\\'name\\':\\'신길동\\', \\'brith\\':\\'1998-12-31\\'}]\\nmember2= [{\\n    \"name\" : 신길동\\n    \\'year\\' : member1.split[-][0]\\n    \\'month\\': meber1.split[-][1]\\n    \\'day\\' : member1.split[-][2]\\n}]\\n\\nprint(member2)',\n",
       " '_i74': \"# 2000-01-01 → {'year':1998, 'month':12, 'day':31}\\ndef split_data(data):\\n    split_data = data.split('-')\\n    print(split_data)\",\n",
       " 'split_data': <function __main__.split_data(data)>,\n",
       " '_i75': 'split_data(2000-01-01)',\n",
       " '_i76': \"# 2000-01-01 → {'year':1998, 'month':12, 'day':31}\\ndef split_data(data):\\n    split_data = data.split('-')\\n    print(split_data)\",\n",
       " '_i77': 'split_data(2000-01-01)',\n",
       " '_i78': 'split_data(\"2000-01-01\")',\n",
       " '_i79': \"# 2000-01-01 → {'year':1998, 'month':12, 'day':31}\\ndef split_data(data):\\n    split_data = data.split('-')\\n    print(split_data[0],split_data[1],split_data[2])\",\n",
       " '_i80': 'split_data(\"2000-01-01\")',\n",
       " '_i81': \"# 2000-01-01 → {'year':1998, 'month':12, 'day':31}\\ndef split_data(data):\\n    split_data = data.split('-')\\n    print(split_data[0],split_data[1],split_data[2])\\n    print( {'year' : int(split_data[0]),\\n            'month': int(split_data[1]),\\n            'day'  : int(split_data[2])})\",\n",
       " '_i82': 'split_data(\"2000-01-01\")',\n",
       " '_i83': 'split_data(\"2000-01-01\")',\n",
       " '_i84': 'split_data()',\n",
       " '_i85': \"split_data('2000-01-01')\",\n",
       " '_i86': \"# 2000-01-01 → {'year':1998, 'month':12, 'day':31}\\ndef split_data(data):\\n    split_data = data.split('-')\\n    #print(split_data[0],split_data[1],split_data[2])\\n    print( {'year' : int(split_data[0]),\\n            'month': int(split_data[1]),\\n            'day'  : int(split_data[2])})\",\n",
       " '_i87': \"split_data('2000-01-01')\",\n",
       " '_i88': \"# 2000-01-01 → {'year':1998, 'month':12, 'day':31}\\ndef split_data(data):\\n    split_data = data.split('-')\\n    #print(split_data[0],split_data[1],split_data[2])\\n    return ( {'year' : int(split_data[0]),\\n            'month': int(split_data[1]),\\n            'day'  : int(split_data[2])})\",\n",
       " '_i89': \"split_data('2000-01-01')\",\n",
       " '_89': {'year': 2000, 'month': 1, 'day': 1},\n",
       " '_i90': '\\'\\'\\'\\n예시2. member1 = [{\\'name\\':\\'홍길동\\', \\'brith\\':\\'2000-01-01\\'},\\n                {\\'name\\':\\'신길동\\', \\'brith\\':\\'1998-12-31\\'}]\\n    member2 = [{\\'name\\':\\'홍길동\\', \\'year\\':2000, \\'month\\':1, \\'day\\':1}],\\n                {\\'name\\':\\'신길동\\', \\'year\\':1998, \\'month\\':12, \\'day\\':31}] \\n\\'\\'\\'\\n#년, 월, 일 분리 필요 (split)\\n# year추가 , month 추가, day 추가 \\nmember1 = [{\\'name\\':\\'홍길동\\', \\'brith\\':\\'2000-01-01\\'},\\n           {\\'name\\':\\'신길동\\', \\'brith\\':\\'1998-12-31\\'}]\\nmember2= [{\\n    \"name\" : 신길동\\n    \\'year\\' : int(member1.split[-][0])\\n    \\'month\\': int(meber1.split[-][1])\\n    \\'day\\' : int(member1.split[-][2])\\n}]\\n\\nprint(member2)',\n",
       " '_i91': 'def member_func(member): #{\\'name\\':\\'홍길동\\', \\'brith\\':\\'2000-01-01\\'\\n    \"{\\'name\\':\\'신길동\\', \\'year\\':1998, \\'month\\':12, \\'day\\':31} 이런식으로 return\"\\n    return {\\n        \\'name\\'  : member.get(\\'name\\'),\\n        \\'year\\'  : int(member[\\'birth\\'].split(\\'-\\')[0]),  #get함수 스타일로 써도 됨. \\n        \\'month\\' : int(member[\\'birth\\'].split(\\'-\\')[1]),\\n        \\'day\\'   : int(member[\\'birth\\'].split(\\'-\\')[2])\\n    }',\n",
       " 'member_func': <function __main__.member_func(member)>,\n",
       " '_i92': 'member_func(member)',\n",
       " '_i93': 'member_func(member2)',\n",
       " '_i94': 'member_func(member1)',\n",
       " '_i95': \"member1 = [{'name':'홍길동', 'brith':'2000-01-01'},\\n                {'name':'신길동', 'brith':'1998-12-31'}]\\n    member2 = [{'name':'홍길동', 'year':2000, 'month':1, 'day':1}],\\n                {'name':'신길동', 'year':1998, 'month':12, 'day':31}] \",\n",
       " '_i96': \"member1 = [{'name':'홍길동', 'brith':'2000-01-01'},\\n                {'name':'신길동', 'brith':'1998-12-31'}]\",\n",
       " '_i97': 'member1',\n",
       " '_97': [{'name': '홍길동', 'brith': '2000-01-01'},\n",
       "  {'name': '신길동', 'brith': '1998-12-31'}],\n",
       " '_i98': 'def member_func(member): #{\\'name\\':\\'홍길동\\', \\'brith\\':\\'2000-01-01\\'\\n    \"{\\'name\\':\\'신길동\\', \\'year\\':1998, \\'month\\':12, \\'day\\':31} 이런식으로 return\"\\n    return {\\n        \\'name\\'  : member.get(\\'name\\'),\\n        \\'year\\'  : int(member[\\'birth\\'].split(\\'-\\')[0]),  #get함수 스타일로 써도 됨. \\n        \\'month\\' : int(member[\\'birth\\'].split(\\'-\\')[1]),\\n        \\'day\\'   : int(member[\\'birth\\'].split(\\'-\\')[2])\\n    }',\n",
       " '_i99': 'member_func(member1[0])',\n",
       " '_i100': 'def member_func(member): #{\\'name\\':\\'홍길동\\', \\'brith\\':\\'2000-01-01\\'\\n    \"{\\'name\\':\\'신길동\\', \\'year\\':1998, \\'month\\':12, \\'day\\':31} 이런식으로 return\"\\n    return {\\n        \\'name\\'  : member.get(\\'name\\'),\\n        \\'year\\'  : int(member[\\'birth\\'].split(\\'-\\')[0]),  #get함수 스타일로 써도 됨. \\n        \\'month\\' : int(member[\\'birth\\'].split(\\'-\\')[1]),\\n        \\'day\\'   : int(member[\\'birth\\'].split(\\'-\\')[2])\\n    }\\nmember_func(member1[0])',\n",
       " '_i101': \"member1 = [{'name':'홍길동', 'brith':'2000-01-01'},\\n         {'name':'신길동', 'brith':'1998-12-31'}]\",\n",
       " '_i102': \"# 2000-01-01 → {'year':1998, 'month':12, 'day':31}\\ndef split_data(data):\\n    split_data = data.split('-')\\n    #print(split_data[0],split_data[1],split_data[2])\\n    return {'year' : int(split_data[0]),\\n            'month': int(split_data[1]),\\n            'day'  : int(split_data[2])}\",\n",
       " '_i103': \"split_data('2000-01-01')\",\n",
       " '_103': {'year': 2000, 'month': 1, 'day': 1},\n",
       " '_i104': 'def member_func(member): #{\\'name\\':\\'홍길동\\', \\'brith\\':\\'2000-01-01\\'\\n    \"{\\'name\\':\\'신길동\\', \\'year\\':1998, \\'month\\':12, \\'day\\':31} 이런식으로 return\"\\n    return {\\n        \\'name\\'  : member.get(\\'name\\'),\\n        \\'year\\'  : int(member[\\'birth\\'].split(\\'-\\')[0]),  #get함수 스타일로 써도 됨. \\n        \\'month\\' : int(member[\\'birth\\'].split(\\'-\\')[1]),\\n        \\'day\\'   : int(member[\\'birth\\'].split(\\'-\\')[2])\\n    }\\nmember_func(member1[0])',\n",
       " '_i105': 'def member_func(member): #{\\'name\\':\\'홍길동\\', \\'brith\\':\\'2000-01-01\\'\\n    \"{\\'name\\':\\'신길동\\', \\'year\\':1998, \\'month\\':12, \\'day\\':31} 이런식으로 return\"\\n    return {\\n        \\'name\\'  : member.get(\\'name\\'),\\n        \\'year\\'  : int(member[\\'birth\\'].split(\\'-\\')[0]),  #get함수 스타일로 써도 됨. \\n        \\'month\\' : int(member[\\'birth\\'].split(\\'-\\')[1]),\\n        \\'day\\'   : int(member[\\'birth\\'].split(\\'-\\')[2])\\n    }\\nmember_func(member1)',\n",
       " '_i106': \"list(map(lambda member : {\\n                            'name'  : member.get('name'),\\n                            'year'  : int(member['birth'].split('-')[0]),  \\n                            'month' : int(member['birth'].split('-')[1]),\\n                            'day'   : int(member['birth'].split('-')[2]}))\",\n",
       " '_i107': \"list(map(lambda member : {\\n                            'name'  : member.get('name'),\\n                            'year'  : int(member['birth'].split('-')[0]),  \\n                            'month' : int(member['birth'].split('-')[1]),\\n                            'day'   : int(member['birth'].split('-')[2]},))\",\n",
       " '_i108': 'def member_func(member): #{\\'name\\':\\'홍길동\\', \\'brith\\':\\'2000-01-01\\'\\n    \"{\\'name\\':\\'신길동\\', \\'year\\':1998, \\'month\\':12, \\'day\\':31} 이런식으로 return\"\\n    return {\\n        \\'name\\'  : member.get(\\'name\\'),\\n        \\'year\\'  : int(member[\\'birth\\'].split(\\'-\\')[0]),  #get함수 스타일로 써도 됨. \\n        \\'month\\' : int(member[\\'birth\\'].split(\\'-\\')[1]),\\n        \\'day\\'   : int(member[\\'birth\\'].split(\\'-\\')[2]),\\n    }\\nmember_func(member1)',\n",
       " '_i109': 'def member_func(member): #{\\'name\\':\\'홍길동\\', \\'brith\\':\\'2000-01-01\\'\\n    \"{\\'name\\':\\'신길동\\', \\'year\\':1998, \\'month\\':12, \\'day\\':31} 이런식으로 return\"\\n    return {\\n        \\'name\\'  : member.get(\\'name\\'),\\n        \\'year\\'  : int(member[\\'birth\\'].split(\\'-\\')[0]),  #get함수 스타일로 써도 됨. \\n        \\'month\\' : int(member[\\'birth\\'].split(\\'-\\')[1]),\\n        \\'day\\'   : int(member[\\'birth\\'].split(\\'-\\')[2]),\\n    }))',\n",
       " '_i110': 'def member_func(member): #{\\'name\\':\\'홍길동\\', \\'brith\\':\\'2000-01-01\\'\\n    \"{\\'name\\':\\'신길동\\', \\'year\\':1998, \\'month\\':12, \\'day\\':31} 이런식으로 return\"\\n    return {\\n        \\'name\\'  : member.get(\\'name\\'),\\n        \\'year\\'  : int(member[\\'birth\\'].split(\\'-\\')[0]),  #get함수 스타일로 써도 됨. \\n        \\'month\\' : int(member[\\'birth\\'].split(\\'-\\')[1]),\\n        \\'day\\'   : int(member[\\'birth\\'].split(\\'-\\')[2]),\\n    })',\n",
       " '_i111': 'def member_func(member): #{\\'name\\':\\'홍길동\\', \\'brith\\':\\'2000-01-01\\'\\n    \"{\\'name\\':\\'신길동\\', \\'year\\':1998, \\'month\\':12, \\'day\\':31} 이런식으로 return\"\\n    return {\\n        \\'name\\'  : member.get(\\'name\\'),\\n        \\'year\\'  : int(member[\\'birth\\'].split(\\'-\\')[0]),  #get함수 스타일로 써도 됨. \\n        \\'month\\' : int(member[\\'birth\\'].split(\\'-\\')[1]),\\n        \\'day\\'   : int(member[\\'birth\\'].split(\\'-\\')[2]),\\n    }',\n",
       " '_i112': \"list(map(lambda member : {\\n                            'name'  : member.get('name'),\\n                            'year'  : int(member['birth'].split('-')[0]),  \\n                            'month' : int(member['birth'].split('-')[1]),\\n                            'day'   : int(member['birth'].split('-')[2]},))\",\n",
       " '_i113': \"list(map(lambda member : {\\n                            'name'  : member.get('name'),\\n                            'year'  : int(member['birth'].split('-')[0]),  \\n                            'month' : int(member['birth'].split('-')[1]),\\n                            'day'   : int(member['birth'].split('-')[2])},))\",\n",
       " '_i114': \"list(map(lambda member : {\\n                            'name'  : member.get('name'),\\n                            'year'  : int(member['birth'].split('-')[0]),  \\n                            'month' : int(member['birth'].split('-')[1]),\\n                            'day'   : int(member['birth'].split('-')[2],\\n                            }, member1))member2\",\n",
       " '_i115': \"member2 = list(map(lambda member : {\\n                            'name'  : member.get('name'),\\n                            'year'  : int(member['birth'].split('-')[0]),  \\n                            'month' : int(member['birth'].split('-')[1]),\\n                            'day'   : int(member['birth'].split('-')[2],\\n                            }, \\n        member1\\n        )\\n    )\\nmember2\",\n",
       " '_i116': \"member2 = list(map(lambda member : {\\n                            'name'  : member.get('name'),\\n                            'year'  : int(member['birth'].split('-')[0]),  \\n                            'month' : int(member['birth'].split('-')[1]),\\n                            'day'   : int(member['birth'].split('-')[2],\\n                            } , \\n        member1\\n        )\\n    )\\nmember2\",\n",
       " '_i117': \"member2 = list(map(lambda member : {\\n                            'name'  : member.get('name'),\\n                            'year'  : int(member['birth'].split('-')[0]),  \\n                            'month' : int(member['birth'].split('-')[1]),\\n                            'day'   : int(member['birth'].split('-')[2],} , \\n        member1\\n        )\\n    )\\nmember2\",\n",
       " '_i118': \"member2 = list(map(lambda member : {\\n                            'name'  : member.get('name'),\\n                            'year'  : int(member['birth'].split('-')[0]),  \\n                            'month' : int(member['birth'].split('-')[1]),\\n                            'day'   : int(member['birth'].split('-')[2],\\n                            } , \\n        member1\\n        )\\n    )\\nmember2\",\n",
       " '_i119': \"member2 = list(map(lambda member : {\\n                            'name'  : member.get('name'),\\n                            'year'  : int(member['birth'].split('-')[0]),  \\n                            'month' : int(member['birth'].split('-')[1]),\\n                            'day'   : int(member['birth'].split('-')[2],\\n                            }, \\n        member1\\n        )\\n    )\\nmember2\",\n",
       " '_i120': \"member2 = list(map(lambda member : {\\n                            'name'  : member.get('name'),\\n                            'year'  : int(member['birth'].split('-')[0]),  \\n                            'month' : int(member['birth'].split('-')[1]),\\n                            'day'   : int(member['birth'].split('-')[2]),\\n                            }, \\n        member1\\n        )\\n    )\\nmember2\",\n",
       " '_i121': \"member2 = list(map(lambda member : {\\n                            'name'  : member.get('name'),\\n                            'year'  : int(member['birth'].split('-')[0]),  \\n                            'month' : int(member['birth'].split('-')[1]),\\n                            'day'   : int(member['birth'].split('-')[2],\\n                            }, \\n        member1\\n        )\\n    )\\nmember2\",\n",
       " '_i122': 'def member_func(member): #{\\'name\\':\\'홍길동\\', \\'brith\\':\\'2000-01-01\\'\\n    \"{\\'name\\':\\'신길동\\', \\'year\\':1998, \\'month\\':12, \\'day\\':31} 이런식으로 return\"\\n    return {\\n        \\'name\\'  : member.get(\\'name\\'),\\n        \\'year\\'  : int(member[\\'birth\\'].split(\\'-\\')[0]),  #get함수 스타일로 써도 됨. \\n        \\'month\\' : int(member[\\'birth\\'].split(\\'-\\')[1]),\\n        \\'day\\'   : int(member[\\'birth\\'].split(\\'-\\')[2]),\\n    }\\nmember_func(member1[0])',\n",
       " '_i123': 'def member_func(member): #{\\'name\\':\\'홍길동\\', \\'brith\\':\\'2000-01-01\\'\\n    \"{\\'name\\':\\'신길동\\', \\'year\\':1998, \\'month\\':12, \\'day\\':31} 이런식으로 return\"\\n    return {\\n        \\'name\\'  : member.get(\\'name\\'),\\n        \\'year\\'  : int(member[\\'brith\\'].split(\\'-\\')[0]),  #get함수 스타일로 써도 됨. \\n        \\'month\\' : int(member[\\'brith\\'].split(\\'-\\')[1]),\\n        \\'day\\'   : int(member[\\'brith\\'].split(\\'-\\')[2]),\\n    }\\nmember_func(member1[0])',\n",
       " '_123': {'name': '홍길동', 'year': 2000, 'month': 1, 'day': 1},\n",
       " '_i124': \"member2 = list(map(lambda member : {\\n                            'name'  : member.get('name'),\\n                            'year'  : int(member['brith'].split('-')[0]),  \\n                            'month' : int(member['brith'].split('-')[1]),\\n                            'day'   : int(member['brith'].split('-')[2]),\\n                            }, \\n        member1\\n        )\\n    )\\nmember2\",\n",
       " 'member2': [{'name': '홍길동', 'year': 2000, 'month': 1, 'day': 1},\n",
       "  {'name': '신길동', 'year': 1998, 'month': 12, 'day': 31}],\n",
       " '_124': [{'name': '홍길동', 'year': 2000, 'month': 1, 'day': 1},\n",
       "  {'name': '신길동', 'year': 1998, 'month': 12, 'day': 31}],\n",
       " '_i125': \"member1 = [{'name':'홍길동', 'birth':'2000-01-01'},\\n         {'name':'신길동', 'birth':'1998-12-31'}]\",\n",
       " '_i126': '\\'\\'\\'\\n예시2. member1 = [{\\'name\\':\\'홍길동\\', \\'birth\\':\\'2000-01-01\\'},\\n                {\\'name\\':\\'신길동\\', \\'birth\\':\\'1998-12-31\\'}]\\n    member2 = [{\\'name\\':\\'홍길동\\', \\'year\\':2000, \\'month\\':1, \\'day\\':1}],\\n                {\\'name\\':\\'신길동\\', \\'year\\':1998, \\'month\\':12, \\'day\\':31}] \\n\\'\\'\\'\\n#년, 월, 일 분리 필요 (split)\\n# year추가 , month 추가, day 추가 \\n#member1 = [{\\'name\\':\\'홍길동\\', \\'birth\\':\\'2000-01-01\\'},\\n#           {\\'name\\':\\'신길동\\', \\'birth\\':\\'1998-12-31\\'}]\\n#member2= [{\\n#    \"name\" : 신길동\\n#    \\'year\\' : int(member1.split[-][0])\\n#    \\'month\\': int(meber1.split[-][1])\\n#    \\'day\\' : int(member1.split[-][2])\\n#}]\\n\\n#print(member2)',\n",
       " '_126': \"\\n예시2. member1 = [{'name':'홍길동', 'birth':'2000-01-01'},\\n                {'name':'신길동', 'birth':'1998-12-31'}]\\n    member2 = [{'name':'홍길동', 'year':2000, 'month':1, 'day':1}],\\n                {'name':'신길동', 'year':1998, 'month':12, 'day':31}] \\n\",\n",
       " '_i127': \"# 2000-01-01 → {'year':1998, 'month':12, 'day':31}\\ndef split_data(data):\\n    split_data = data.split('-')\\n    #print(split_data[0],split_data[1],split_data[2])\\n    return {'year' : int(split_data[0]),\\n            'month': int(split_data[1]),\\n            'day'  : int(split_data[2])}\",\n",
       " '_i128': \"split_data('2000-01-01')\",\n",
       " '_128': {'year': 2000, 'month': 1, 'day': 1},\n",
       " '_i129': 'def member_func(member): #{\\'name\\':\\'홍길동\\', \\'birth\\':\\'2000-01-01\\'\\n    \"{\\'name\\':\\'신길동\\', \\'year\\':1998, \\'month\\':12, \\'day\\':31} 이런식으로 return\"\\n    return {\\n        \\'name\\'  : member.get(\\'name\\'),\\n        \\'year\\'  : int(member[\\'birth\\'].split(\\'-\\')[0]),  #get함수 스타일로 써도 됨. \\n        \\'month\\' : int(member[\\'birth\\'].split(\\'-\\')[1]),\\n        \\'day\\'   : int(member[\\'birth\\'].split(\\'-\\')[2]),\\n    }\\nmember_func(member1[0])',\n",
       " '_129': {'name': '홍길동', 'year': 2000, 'month': 1, 'day': 1},\n",
       " '_i130': \"member2 = list(map(lambda member : {\\n                            'name'  : member.get('name'),\\n                            'year'  : int(member['birth'].split('-')[0]),  \\n                            'month' : int(member['birth'].split('-')[1]),\\n                            'day'   : int(member['birth'].split('-')[2]),\\n                            }, \\n        member1\\n        )\\n    )\\nmember2\",\n",
       " '_130': [{'name': '홍길동', 'year': 2000, 'month': 1, 'day': 1},\n",
       "  {'name': '신길동', 'year': 1998, 'month': 12, 'day': 31}],\n",
       " '_i131': '\\'\\'\\'\\n예시 3. member2 를 member1로 바꿉니다.\\nmember2 = [{\\'name\\':\\'홍길동\\', \\'year\\':2000, \\'month\\':1, \\'day\\':1}],\\n                {\\'name\\':\\'신길동\\', \\'year\\':1998, \\'month\\':12, \\'day\\':31}]을\\n\\n\\'\\'\\'\\n\\n#{\\'year\\':2000, \\'month\\':1, \\'day\\':1} => \"2000-01-01\"를 return하는 함수\\nformat이나 \\n\\ndef member_ex2(member):\\n    {\\'name\\' : member.get(\\'name\\'),\\n      \\'birth\\' :\\'-\\'.join(member[\\'birth\\'].split)}',\n",
       " '_i132': '\\'\\'\\'\\n예시 3. member2 를 member1로 바꿉니다.\\nmember2 = [{\\'name\\':\\'홍길동\\', \\'year\\':2000, \\'month\\':1, \\'day\\':1}],\\n                {\\'name\\':\\'신길동\\', \\'year\\':1998, \\'month\\':12, \\'day\\':31}]을\\n\\n\\'\\'\\'\\n\\n#{\\'year\\':2000, \\'month\\':1, \\'day\\':1} => \"2000-01-01\"를 return하는 함수\\n#format이나 \\n\\ndef member_ex2(member):\\n    {\\'name\\' : member.get(\\'name\\'),\\n      \\'birth\\' :\\'-\\'.join(member[\\'birth\\'].split)}',\n",
       " 'member_ex2': <function __main__.member_ex2(member)>,\n",
       " '_i133': '\\'\\'\\'\\n예시 3. member2 를 member1로 바꿉니다.\\nmember2 = [{\\'name\\':\\'홍길동\\', \\'year\\':2000, \\'month\\':1, \\'day\\':1}],\\n                {\\'name\\':\\'신길동\\', \\'year\\':1998, \\'month\\':12, \\'day\\':31}]을\\n\\n\\'\\'\\'\\n\\n#{\\'year\\':2000, \\'month\\':1, \\'day\\':1} => \"2000-01-01\"를 return하는 함수\\n#format이나 \\n\\ndef member_ex2(member):\\n    {\\'name\\' : member.get(\\'name\\'),\\n      \\'birth\\' :\\'-0\\'.join(member[\\'birth\\'].split[1]),}\\nprint(member2)',\n",
       " '_i134': '\\'\\'\\'\\n예시 3. member2 를 member1로 바꿉니다.\\nmember2 = [{\\'name\\':\\'홍길동\\', \\'year\\':2000, \\'month\\':1, \\'day\\':1}],\\n                {\\'name\\':\\'신길동\\', \\'year\\':1998, \\'month\\':12, \\'day\\':31}]을\\n\\n\\'\\'\\'\\n\\n#{\\'year\\':2000, \\'month\\':1, \\'day\\':1} => \"2000-01-01\"를 return하는 함수\\n#format이나 \\n\\ndef member_ex2(member):\\n    {\\'name\\' : member.get(\\'name\\'),\\n      \\'birth\\' :\\'-0\\'.join(member[\\'birth\\'].split[1]),}\\n    print(member2)',\n",
       " '_i135': '\\'\\'\\'\\n예시 3. member2 를 member1로 바꿉니다.\\nmember2 = [{\\'name\\':\\'홍길동\\', \\'year\\':2000, \\'month\\':1, \\'day\\':1}],\\n                {\\'name\\':\\'신길동\\', \\'year\\':1998, \\'month\\':12, \\'day\\':31}]을\\n\\n\\'\\'\\'\\n\\n#{\\'year\\':2000, \\'month\\':1, \\'day\\':1} => \"2000-01-01\"를 return하는 함수\\n#format이나 \\n\\ndef member_ex2(member):\\n    {\\'name\\' : member.get(\\'name\\'),\\n      \\'birth\\' :\\'-0\\'.join(member[\\'birth\\'].split[1]),}\\n    return(member2)',\n",
       " '_i136': '\\'\\'\\'\\n예시 3. member2 를 member1로 바꿉니다.\\nmember2 = [{\\'name\\':\\'홍길동\\', \\'year\\':2000, \\'month\\':1, \\'day\\':1}],\\n                {\\'name\\':\\'신길동\\', \\'year\\':1998, \\'month\\':12, \\'day\\':31}]을\\n\\n\\'\\'\\'\\n\\n#{\\'year\\':2000, \\'month\\':1, \\'day\\':1} => \"2000-01-01\"를 return하는 함수\\n#format이나 \\n\\ndef member_ex2(member):\\n    {\\'name\\' : member.get(\\'name\\'),\\n     \\'birth\\': f\\'{[\\'year\\']}-{\\'month\\':02d}-{[\\'day\\']:02}\\'}\\n    return (member2)',\n",
       " '_i137': '\\'\\'\\'\\n예시 3. member2 를 member1로 바꿉니다.\\nmember2 = [{\\'name\\':\\'홍길동\\', \\'year\\':2000, \\'month\\':1, \\'day\\':1}],\\n                {\\'name\\':\\'신길동\\', \\'year\\':1998, \\'month\\':12, \\'day\\':31}]을\\n\\n\\'\\'\\'\\n\\n#{\\'year\\':2000, \\'month\\':1, \\'day\\':1} => \"2000-01-01\"를 return하는 함수\\n#format이나 \\n\\ndef member_ex2(member):\\n    {\\'name\\' : member.get(\\'name\\'),\\n     \\'birth\\': f\\'{[\\'year\\']}-{[\\'month\\']:02d}-{[\\'day\\']:02}\\'}\\n    return (member2)',\n",
       " '_i138': '\\'\\'\\'\\n예시 3. member2 를 member1로 바꿉니다.\\nmember2 = [{\\'name\\':\\'홍길동\\', \\'year\\':2000, \\'month\\':1, \\'day\\':1}],\\n                {\\'name\\':\\'신길동\\', \\'year\\':1998, \\'month\\':12, \\'day\\':31}]을\\n\\n\\'\\'\\'\\n\\n#{\\'year\\':2000, \\'month\\':1, \\'day\\':1} => \"2000-01-01\"를 return하는 함수\\n#format이나 \\n\\ndef member_ex2(member):\\n    {\\'name\\' : member.get(\\'name\\'),\\n     \\'birth\\': f\\'{[\\'year\\']}-{[\\'month\\']:02d}-{[\\'day\\']:02}\\'}\\n    return\\nmember_ex2(member2)',\n",
       " '_i139': \"def join_data(data):\\n    print([data.get('year'), data.get('month'),data.get('day')])\\n    year = str(data.get('year'))\\n#    month = str(data.get('month')) # 월은12월까지 있는거라서 이렇게 하면 안됨. \\n    month = data.get('month')\\n    if month < 10:\\n        month = '0'+str(month)\\n    else:\\n        month = str(month)   \\n    day = data.get('day')\\n    if day < 10:\\n        day = '0'+str(day)\\n    else:\\n        day = str(day)\\n        \\n    return '-'.join([]'year', 'month','day']) \\n#join에는 문자리스트가 들어가야 함. 숫자 들어가면 오류 남\",\n",
       " '_i140': \"def join_data(data):\\n    print([data.get('year'), data.get('month'),data.get('day')])\\n    year = str(data.get('year'))\\n#    month = str(data.get('month')) # 월은12월까지 있는거라서 이렇게 하면 안됨. \\n    month = data.get('month')\\n    if month < 10:\\n        month = '0'+str(month)\\n    else:\\n        month = str(month)   \\n    day = data.get('day')\\n    if day < 10:\\n        day = '0'+str(day)\\n    else:\\n        day = str(day)\\n        \\n    return '-'.join(['year', 'month','day']) \\n#join에는 문자리스트가 들어가야 함. 숫자 들어가면 오류 남\",\n",
       " 'join_data': <function __main__.join_data(data)>,\n",
       " '_i141': \"join_data({'year':2000, 'month': 1, 'day': 1})\",\n",
       " '_141': 'year-month-day',\n",
       " '_i142': \"def join_data(data):\\n    print([data.get('year'), data.get('month'),data.get('day')])\\n    year = str(data.get('year'))\\n#    month = str(data.get('month')) # 월은12월까지 있는거라서 이렇게 하면 안됨. \\n    month = data.get('month')\\n    if month < 10:\\n        month = '0'+str(month)\\n    else:\\n        month = str(month)   \\n    day = data.get('day')\\n    if day < 10:\\n        day = '0'+str(day)\\n    else:\\n        day = str(day)\\n        \\n    return '-'.join(['year', 'month','day']) \\n#join에는 문자리스트가 들어가야 함. 숫자 들어가면 오류 남\",\n",
       " '_i143': \"join_data({'year':2000, 'month': 1, 'day': 1})\",\n",
       " '_143': 'year-month-day',\n",
       " '_i144': \"def join_data(data):\\n    print([data.get('year'), data.get('month'),data.get('day')])\\n    year = str(data.get('year'))\\n#    month = str(data.get('month')) # 월은12월까지 있는거라서 이렇게 하면 안됨. \\n    month = data.get('month')\\n    if month < 10:\\n        month = '0'+str(month)\\n    else:\\n        month = str(month)   \\n    day = data.get('day')\\n    if day < 10:\\n        day = '0'+str(day)\\n    else:\\n        day = str(day)\\n        \\n    return '-'.join(['year','month','day']) \\n#join에는 문자리스트가 들어가야 함. 숫자 들어가면 오류 남\",\n",
       " '_i145': \"join_data({'year':2000, 'month': 1, 'day': 1})\",\n",
       " '_145': 'year-month-day',\n",
       " '_i146': 'def join_data(data):\\n    print(\"{}-{:02}-{:02}\".format(data.get(\\'year\\')\\n                                  ,data.get(\\'month\\'),\\n                                  data.get(\\'day\\')))',\n",
       " '_i147': 'def join_data(data):\\n    print(\"{}-{:02}-{:02}\".format(data.get(\\'year\\')\\n                                  ,data.get(\\'month\\'),\\n                                  data.get(\\'day\\')))\\njoin_data(member2)',\n",
       " '_i148': 'def join_data(data):\\n    print(\"{}-{:02}-{:02}\".format(data.get(\\'year\\')\\n                                  ,data.get(\\'month\\'),\\n                                  data.get(\\'day\\')))',\n",
       " '_i149': \"join_data({'year':2000,'month':1,'day':1})\",\n",
       " '_i150': \"def join_data(data):\\n    print([data.get('year'), data.get('month'),data.get('day')])\\n    year = str(data.get('year'))\\n#    month = str(data.get('month')) # 월은12월까지 있는거라서 이렇게 하면 안됨. \\n    month = data.get('month')\\n    if month < 10:\\n        month = '0'+str(month)\\n    else:\\n        month = str(month)   \\n    day = data.get('day')\\n    if day < 10:\\n        day = '0'+str(day)\\n    else:\\n        day = str(day)\\n        \\n    return '-'.join(['year','month','day']) \\n#join에는 문자리스트가 들어가야 함. 숫자 들어가면 오류 남\",\n",
       " '_i151': \"join_data({'year':2000, 'month': 1, 'day': 1})\",\n",
       " '_151': 'year-month-day',\n",
       " '_i152': \"def join_data(data):\\n#    print([data.get('year'), data.get('month'),data.get('day')])\\n    year = str(data.get('year'))\\n#    month = str(data.get('month')) # 월은12월까지 있는거라서 이렇게 하면 안됨. \\n    month = data.get('month')\\n    if month < 10:\\n        month = '0'+str(month)\\n    else:\\n        month = str(month)   \\n    day = data.get('day')\\n    if day < 10:\\n        day = '0'+str(day)\\n    else:\\n        day = str(day)\\n        \\n    return '-'.join(['year','month','day']) \\n#join에는 문자리스트가 들어가야 함. 숫자 들어가면 오류 남\",\n",
       " '_i153': \"join_data({'year':2000, 'month': 1, 'day': 1})\",\n",
       " '_153': 'year-month-day',\n",
       " '_i154': \"join_data({'year':2000,'month':1,'day':1})\",\n",
       " '_154': 'year-month-day',\n",
       " '_i155': \"def join_data(data):\\n#    print([data.get('year'), data.get('month'),data.get('day')])\\n    year = str(data.get('year'))\\n#    month = str(data.get('month')) # 월은12월까지 있는거라서 이렇게 하면 안됨. \\n    month = data.get('month')\\n    if month < 10:\\n        month = '0'+str(month)\\n    else:\\n        month = str(month)   \\n    day = data.get('day')\\n    if day < 10:\\n        day = '0'+str(day)\\n    else:\\n        day = str(day)\\n        \\n    return '-'.join(['year','month','day']) \\n#join에는 문자리스트가 들어가야 함. 숫자 들어가면 오류 남\",\n",
       " '_i156': \"def join_date(data):\\n    # print([data.get('year'), data.get('month'), data.get('day')])\\n    year = str(data.get('year'))\\n    month = data.get('month')\\n    if month < 10:\\n        month = '0'+str(month)\\n    else:\\n        month = str(month)\\n    day = data.get('day')\\n    if day < 10:\\n        day = '0'+str(day)\\n    else:\\n        day = str(day)\\n    return '-'.join([year, month, day])\",\n",
       " 'join_date': <function __main__.join_date(data)>,\n",
       " '_i157': \"join_data({'year':2000,'month':1,'day':1})\",\n",
       " '_157': 'year-month-day',\n",
       " '_i158': \"def join_data(data):\\n#    print([data.get('year'), data.get('month'),data.get('day')])\\n    year = str(data.get('year'))\\n#    month = str(data.get('month')) \\n    month = data.get('month')\\n    if month < 10:\\n        month = '0'+str(month)\\n    else:\\n        month = str(month)   \\n    day = data.get('day')\\n    if day < 10:\\n        day = '0'+str(day)\\n    else:\\n        day = str(day)\\n        \\n    return '-'.join(['year','month','day']) \\n#join에는 문자리스트가 들어가야 함. 숫자 들어가면 오류 남\",\n",
       " '_i159': \"join_data({'year':2000,'month':1,'day':1})\",\n",
       " '_159': 'year-month-day',\n",
       " '_i160': \"def join_data(data):\\n#    print([data.get('year'), data.get('month'),data.get('day')])\\n    year = str(data.get('year'))\\n#    month = str(data.get('month')) \\n    month = data.get('month')\\n    if month < 10:\\n        month = '0'+str(month)\\n    else:\\n        month = str(month)   \\n    day = data.get('day')\\n    if day < 10:\\n        day = '0'+str(day)\\n    else:\\n        day = str(day)\\n        \\n    return '-'.join([year,month,day]) \\n#join에는 문자리스트가 들어가야 함. 숫자 들어가면 오류 남\",\n",
       " '_i161': \"join_data({'year':2000,'month':1,'day':1})\",\n",
       " '_161': '2000-01-01',\n",
       " '_i162': \"join_data({'year':2000,'month':18,'day':1})\",\n",
       " '_162': '2000-18-01',\n",
       " '_i163': \"join_data({'year':2000,'month':1,'day':1})\",\n",
       " '_163': '2000-01-01',\n",
       " '_i164': '# 더 간단하게 하는 방법으로 가는중 2\\ndef join_data(data):\\n    print(\"{year}-{month:02}-{day:02}\".format(**data) #**data안에 있는 값과 동일 \\n#                                            year = data.get(\\'year\\'),\\n#                                            month = data.get(\\'month\\'),\\n#                                            day = data.get(\\'day\\')))',\n",
       " '_i165': '# 더 간단하게 하는 방법으로 가는중 2\\ndef join_data(data):\\n    print(\"{year}-{month:02}-{day:02}\".format(**data) #**data안에 있는 값과 동일 ',\n",
       " '_i166': '# 더 간단하게 하는 방법으로 가는중 2\\ndef join_data(data):\\n    print(\"{year}-{month:02}-{day:02}\".format(**data) #**data안에 있는 값과 동일 ',\n",
       " '_i167': \"join_data({'year':2000,'month':1,'day':1})\",\n",
       " '_167': '2000-01-01',\n",
       " '_i168': '# 더 간단하게 하는 방법으로 가는중 2 (**data안에 있는 값과 동일)\\ndef join_data(data):\\n    print(\"{year}-{month:02}-{day:02}\".format(**data)',\n",
       " '_i169': '# 더 간단하게 하는 방법으로 가는중 2 (**data안에 있는 값과 동일)\\ndef join_data(data):\\n    print(\"{year}-{[month]:02}-{[day]:02}\".format(**data)',\n",
       " '_i170': '# 더 간단하게 하는 방법으로 가는중 2 (**data안에 있는 값과 동일)\\ndef join_data(data):\\n    print ()\"{year}-{month:02}-{day:02}\".format(**data))',\n",
       " '_i171': '# 더 간단하게 하는 방법으로 가는중 2 (**data안에 있는 값과 동일)\\ndef join_data(data):\\n    print (\"{year}-{month:02}-{day:02}\".format(**data))',\n",
       " '_i172': \"join_data({'year':2000,'month':1,'day':1})\",\n",
       " '_i173': '# 더 간단하게 하는 방법으로 가는중 2 (**data안에 있는 값과 동일)\\ndef join_data(data):\\n    return \"{year}-{month:02}-{day:02}\".format(**data)',\n",
       " '_i174': \"join_data({'year':2000,'month':1,'day':1})\",\n",
       " '_174': '2000-01-01',\n",
       " '_i175': '# 더 간단하게 하는 방법으로 가는중 2 (**data안에 있는 값과 동일)\\ndef join_data(data):\\n    return \"{year}-{[month]:02}-{[day]:02}\".format(**data)',\n",
       " '_i176': \"join_data({'year':2000,'month':1,'day':1})\",\n",
       " '_i177': '# 더 간단하게 하는 방법으로 가는중 2 (**data안에 있는 값과 동일)\\ndef join_data(data):\\n    return \"{year}-{month:02}-{day:02}\".format(**data)',\n",
       " '_i178': \"join_data({'year':2000,'month':1,'day':1})\",\n",
       " '_178': '2000-01-01',\n",
       " '_i179': '\\'\\'\\'\\n{\\'name\\':\\'홍길동\\', \\'year\\':2000, \\'month\\':1, \\'day\\':1}]을\\n{\\'name\\':\\'홍길동\\', \\'birth\\':\\'2000-01-01\\'}로 가공\\n\\'\\'\\'\\n        \\nlist(map(lambda member : {\\n                            \\'name\\' : member.get(\\'name\\'),\\n                            \\'birth\\' : \"{year}-{month:02}-{day:02}\".format(**data)}))\\nprint(member2)',\n",
       " '_i180': '\\'\\'\\'\\n{\\'name\\':\\'홍길동\\', \\'year\\':2000, \\'month\\':1, \\'day\\':1}]을\\n{\\'name\\':\\'홍길동\\', \\'birth\\':\\'2000-01-01\\'}로 가공\\n\\'\\'\\'\\n        \\nlist(map(lambda member : {\\n                            \\'name\\' : member.get(\\'name\\'),\\n                            \\'birth\\' : \"{year}-{month:02}-{day:02}\".format(**data)}))\\nprint(member)',\n",
       " '_i181': '\\'\\'\\'\\n{\\'name\\':\\'홍길동\\', \\'year\\':2000, \\'month\\':1, \\'day\\':1}]을\\n{\\'name\\':\\'홍길동\\', \\'birth\\':\\'2000-01-01\\'}로 가공\\n\\'\\'\\'\\n        \\nlist(map(lambda member : {\\n                            \\'name\\' : member.get(\\'name\\'),\\n                            \\'birth\\' : \"{year}-{month:02}-{day:02}\".format(**data)}, member2))',\n",
       " '_i182': '#{\\'name\\':\\'홍길동\\', \\'year\\':2000, \\'month\\':1, \\'day\\':1}]을\\n#{\\'name\\':\\'홍길동\\', \\'birth\\':\\'2000-01-01\\'}로 가공\\n      \\nlist(map(lambda member : {\\n                            \\'name\\' : member.get(\\'name\\'),\\n                            \\'birth\\' : \"{year}-{month:02}-{day:02}\".format(**data)}, member2))',\n",
       " '_i183': '#{\\'name\\':\\'홍길동\\', \\'year\\':2000, \\'month\\':1, \\'day\\':1}]을\\n#{\\'name\\':\\'홍길동\\', \\'birth\\':\\'2000-01-01\\'}로 가공\\n      \\nlist(map(lambda member : {\\n                            \\'name\\' : member.get(\\'name\\'),\\n                            \\'birth\\' : \"{year}-{month:02}-{day:02}\".format(**data)\\n                            },\\n    member2\\n))',\n",
       " '_i184': '#{\\'name\\':\\'홍길동\\', \\'year\\':2000, \\'month\\':1, \\'day\\':1}]을\\n#{\\'name\\':\\'홍길동\\', \\'birth\\':\\'2000-01-01\\'}로 가공\\n      \\nlist(map(lambda member : {\\n                            \\'name\\' : member.get(\\'name\\'),\\n                            \\'birth\\' : \"{year}-{month:02}-{day:02}\".format(**member)\\n                            },\\n    member2\\n))',\n",
       " '_184': [{'name': '홍길동', 'birth': '2000-01-01'},\n",
       "  {'name': '신길동', 'birth': '1998-12-31'}],\n",
       " '_i185': '#백터데이터 리스트에 [1, 2, 3, 4, 5] => [2,4]\\ndef filter_tamplate(func, L=[])\\n    result = []\\n    for l in L:\\n        if func(l):\\n            result.append(l)\\n        return result ',\n",
       " '_i186': '#백터데이터 리스트에 [1, 2, 3, 4, 5] => [2,4]\\ndef filter_tamplate(func, L=[]):\\n    result = []\\n    for l in L:\\n        if func(l):\\n            result.append(l)\\n        return result ',\n",
       " 'filter_tamplate': <function __main__.filter_tamplate(func, L=[])>,\n",
       " '_i187': 'def evenChk(value):\\n    return value%2==0\\nevenChk(20), evenChk(9)',\n",
       " 'evenChk': <function __main__.evenChk(value)>,\n",
       " '_187': (True, False),\n",
       " '_i188': 'def evenChk(value):\\n    return value%2==0\\nevenChk(20), evenChk(9), evenChk([1,2])',\n",
       " '_i189': 'def evenChk(value):\\n    return value%2==0\\nevenChk(20), evenChk(9)',\n",
       " '_189': (True, False),\n",
       " '_i190': 'list_data = [1,2,3,4,5]\\nfilter_tamplate(lambda value : value%2==0, list_data )',\n",
       " '_190': [],\n",
       " '_i191': 'list_data = [1, 2, 3, 4, 5]\\nfilter_tamplate(lambda value : value%2==0, list_data )',\n",
       " '_191': [],\n",
       " '_i192': '#백터데이터 리스트에 [1, 2, 3, 4, 5] => [2,4]\\ndef filter_tamplate(func, L=[]):\\n    result = []\\n    for l in L:\\n        if func(l):\\n            result.append(l)\\n        return result ',\n",
       " '_i193': 'def evenChk(value):\\n    return value%2==0\\nevenChk(20), evenChk(9)',\n",
       " '_193': (True, False),\n",
       " '_i194': 'list_data = [1, 2, 3, 4, 5]\\nfilter_tamplate(lambda value : value%2==0, list_data )',\n",
       " '_194': [],\n",
       " '_i195': 'list_data = [1, 2, 3, 4, 5]\\nfilter_tamplate(lambda value : value%2==0, list_data )',\n",
       " '_195': [],\n",
       " '_i196': '[data for data in list_data if data%2==0]',\n",
       " '_196': [2, 4],\n",
       " '_i197': 'list_data = [1, 2, 3, 4, 5]\\nfilter_tamplate(lambda value:value%2==0, list_data )',\n",
       " '_197': [],\n",
       " '_i198': 'list_data = [1, 2, 3, 4, 5]\\nfilter_tamplate(lambda value : value%2==0, list_data)',\n",
       " '_198': [],\n",
       " '_i199': 'list_data = [1, 2, 3, 4, 5]\\nfilter_tamplate(lambda value : value%2==0, list_data)',\n",
       " '_199': [],\n",
       " '_i200': 'list_data = [1, 2, 3, 4, 5]\\nfilter_tamplate(lambda value : value%2==0, list_data)',\n",
       " '_200': [],\n",
       " '_i201': '#백터데이터 리스트에 [1, 2, 3, 4, 5] => [2,4]\\ndef filter_tamplate(func, L=[]):\\n    result = []\\n    for l in L:\\n        if func(l):\\n            result.append(l)\\n    return result ',\n",
       " '_i202': 'def evenChk(value):\\n    return value%2==0\\nevenChk(20), evenChk(9)',\n",
       " '_202': (True, False),\n",
       " '_i203': 'list_data = [1, 2, 3, 4, 5]\\nfilter_tamplate(lambda value : value%2==0, list_data)',\n",
       " '_203': [2, 4],\n",
       " '_i204': 'p = [9, 2, 7]\\np.sort(reverse=True)\\np',\n",
       " 'p': [9, 7, 2],\n",
       " '_204': [9, 7, 2],\n",
       " '_i205': 'number2d = [[9.9],\\n            [1,100],\\n            [10,1]]\\nnumber2d.sort()\\nnumber2d',\n",
       " 'number2d': [[1, 100], [9, 9, 9, 9, 9], [10, 1]],\n",
       " '_205': [[1, 100], [9.9], [10, 1]],\n",
       " '_i206': 'number2d = [[9.9],\\n            [1,100],\\n            [10,1]]\\nnumber2d.sort(reverse=True)\\nnumber2d\\n#이 sort는 앞에자리 기준으로 순서 정해버림',\n",
       " '_206': [[10, 1], [9.9], [1, 100]],\n",
       " '_i207': 'number2d = [[9.9],\\n            [1,100],\\n            [10,1]]\\nnumber2d.sort(reverse=False) #무조건 0번 아이템 기준으로 정렬\\nnumber2d\\n#이 sort는 앞에자리 기준으로 순서 정해버림',\n",
       " '_207': [[1, 100], [9.9], [10, 1]],\n",
       " '_i208': 'number2d = [[9.9],\\n            [1,100],\\n            [10,1]]\\nnumber2d.sort(reverse=True) #무조건 0번 아이템 기준으로 정렬\\nnumber2d\\n#이 sort는 앞에자리 기준으로 순서 정해버림',\n",
       " '_208': [[10, 1], [9.9], [1, 100]],\n",
       " '_i209': 'number2d = [[9,9,9,9,9],\\n            [1,100],\\n            [10,1]]\\nnumber2d.sort(reverse=True) #무조건 0번 item 기준으로 정렬\\nnumber2d\\n#이 sort는 앞에자리 기준으로 순서 정해버림',\n",
       " '_209': [[10, 1], [9, 9, 9, 9, 9], [1, 100]],\n",
       " '_i210': \"pairs = [(2, 'two'), (1, 'one'),(4,'four'),(3,'three')]\\nparis.sort()\\nparis\",\n",
       " 'pairs': [(4, 'four'), (1, 'one'), (3, 'three'), (2, 'two')],\n",
       " '_i211': \"pairs = [(2, 'two'), (1, 'one'),(4,'four'),(3,'three')]\\npairs.sort()\\npairs\",\n",
       " '_211': [(1, 'one'), (2, 'two'), (3, 'three'), (4, 'four')],\n",
       " '_i212': 'number2d = [[9,9,9,9,9],\\n            [1,100],\\n            [10,1]]\\nnumber2d.sort(reverse=True) #무조건 0번 item 기준으로 정렬\\nnumber2d\\n#이 sort는 앞에자리 기준으로 순서 정해버림',\n",
       " '_212': [[10, 1], [9, 9, 9, 9, 9], [1, 100]],\n",
       " '_i213': \"#1번째 item을 기준으로 정렬\\n\\npairs = [(2, 'two'), (1, 'one'),(4,'four'),(3,'three')]\\npairs.sort(1)\\npairs\",\n",
       " '_i214': \"#1번째 item을 기준으로 정렬\\n\\npairs = [(2, 'two'), (1, 'one'),(4,'four'),(3,'three')]\\npairs.sort()\\npairs\",\n",
       " '_214': [(1, 'one'), (2, 'two'), (3, 'three'), (4, 'four')],\n",
       " '_i215': \"#1번째 item을 기준으로 정렬(문자:abc순서로 정렬)\\n\\npairs = [(2, 'two'), (1, 'one'),(4,'four'),(3,'three')]\\npairs.split[1]\\npairs.sort()\\npairs\",\n",
       " '_i216': \"#1번째 item을 기준으로 정렬(문자:abc순서로 정렬)\\n\\npairs = [(2, 'two'), (1, 'one'),(4,'four'),(3,'three')]\\npairs.sort(key=lambda pair : pair[1])\\npairs\",\n",
       " '_216': [(4, 'four'), (1, 'one'), (3, 'three'), (2, 'two')],\n",
       " '_i217': \"#1번째 item을 기준으로 정렬(문자:abc순서로 정렬)\\n\\npairs = [(2, 'two'), (1, 'one'),(4,'four'),(3,'three')]\\npairs.sort(key=lambda pair : pair[1],reverse=False) #1번 인덱스기준으로 abc순서로 정리 \\npairs\",\n",
       " '_217': [(4, 'four'), (1, 'one'), (3, 'three'), (2, 'two')],\n",
       " '_i218': \"#1번째 item을 기준으로 정렬(문자:abc순서로 정렬)\\n\\npairs = [(2, 'two'), (1, 'one'),(4,'four'),(3,'three')]\\npairs.sort(key=lambda pair : pair[1])#1번 인덱스기준으로 abc순서로 정리 \\npairs\",\n",
       " '_218': [(4, 'four'), (1, 'one'), (3, 'three'), (2, 'two')],\n",
       " '_i219': \"#1번째 item을 기준으로 정렬(문자:abc순서로 정렬)\\n\\npairs = [(2, 'two'), (1, 'one'),(4,'four'),(3,'three')]\\npairs.sort( reverse=Fals, key=lambda pair : pair[1])#1번 인덱스기준으로 abc순서로 정리 \\npairs\",\n",
       " '_i220': \"#1번째 item을 기준으로 정렬(문자:abc순서로 정렬)\\n\\npairs = [(2, 'two'), (1, 'one'),(4,'four'),(3,'three')]\\npairs.sort(key=lambda pair : pair[1],reverse)#1번 인덱스기준으로 abc순서로 정리 \\npairs\",\n",
       " '_i221': \"#1번째 item을 기준으로 정렬(문자:abc순서로 정렬) #1번 인덱스기준으로 abc순서로 정리 \\n\\npairs = [(2, 'two'), (1, 'one'),(4,'four'),(3,'three')]\\npairs.sort(key=lambda pair : pair[1],reverse) \\npairs\",\n",
       " '_i222': \"#1번째 item을 기준으로 정렬(문자:abc순서로 정렬) #1번 인덱스기준으로 abc순서로 정리 \\n\\npairs = [(2, 'two'), (1, 'one'),(4,'four'),(3,'three')]\\npairs.sort(key=lambda pair : pair[1]) \\npairs\",\n",
       " '_222': [(4, 'four'), (1, 'one'), (3, 'three'), (2, 'two')],\n",
       " '_i223': 'number2d = [[9,9,9,9,9],\\n            [1,100],\\n            [10,1]]\\nnumber2d.sort(reverse=True) #무조건 0번 item 기준으로 정렬\\nnumber2d\\n#이 sort는 앞에자리 기준으로 순서 정해버림',\n",
       " '_223': [[1, 100], [9, 9, 9, 9, 9], [10, 1]],\n",
       " '_i224': '#합이 큰 순으로 정렬 \\n\\nnumber2d.sort(key=lambda item :sum(item))\\nnumber2d',\n",
       " '_224': [[1, 100], [9, 9, 9, 9, 9], [10, 1]],\n",
       " '_i225': '(lambda item :sum(item))([1,2,3])',\n",
       " '_225': 6,\n",
       " '_i226': '#합이 큰 순으로 정렬 \\n\\nnumber2d.sort(key=lambda item :sum(item), reverse=True)\\nnumbers2d',\n",
       " '_i227': '#합이 큰 순으로 정렬 \\n\\nnumber2d.sort(key=lambda item :sum(item), reverse=True)\\nnumber2d',\n",
       " '_227': [[1, 100], [9, 9, 9, 9, 9], [10, 1]],\n",
       " '_i228': '#리스트를 매개변수로 받아 합을 return하는 함수 test\\n(lambda item :sum(item))([1,2,3])',\n",
       " '_228': 6,\n",
       " '_i229': 'students.sort(key=lambda ex : ex [student[0]] ,reverse=True)\\nstudents',\n",
       " '_i230': \"# 이름순으로 정렬(ㄱㄴㄷ 순)\\nstudents = [\\n    {'name':'홍길동', 'score':90},\\n    {'name':'김길동', 'score':85},\\n    {'name':'최길동', 'score':62},]\",\n",
       " 'students': [{'score': 99},\n",
       "  {'name': '홍길동', 'score': 90},\n",
       "  {'name': '김길동', 'score': 85},\n",
       "  {'name': '최길동', 'score': 62}],\n",
       " '_i231': 'students.sort(key=lambda ex : ex [student[0]] ,reverse=True)\\nstudents',\n",
       " '_i232': 'students.sort(key=lambda ex : ex[0] ,reverse=True)\\nstudents',\n",
       " '_i233': \"students.sort(key=lambda ex : ex['name'] ,reverse=True)\\nstudents\",\n",
       " '_233': [{'name': '홍길동', 'score': 90},\n",
       "  {'name': '김길동', 'score': 85},\n",
       "  {'name': '최길동', 'score': 62}],\n",
       " '_i234': \"students.sort(key=lambda ex : ex['name'] ,reverse=Flase)\\nstudents\",\n",
       " '_i235': \"students.sort(key=lambda ex : ex['name'] ,reverse=False)\\nstudents\",\n",
       " '_235': [{'name': '홍길동', 'score': 90},\n",
       "  {'name': '김길동', 'score': 85},\n",
       "  {'name': '최길동', 'score': 62}],\n",
       " '_i236': \"#score순으로 정렬(내림차순정렬)\\nstudents.sort(key=lambda ex : ex['score'] ,reverse=True)\\nstudents\",\n",
       " '_236': [{'name': '홍길동', 'score': 90},\n",
       "  {'name': '김길동', 'score': 85},\n",
       "  {'name': '최길동', 'score': 62}],\n",
       " '_i237': \"# 이름순으로 정렬(ㄱㄴㄷ 순)\\nstudents = [\\n    {'name':'홍길동', 'score':90},\\n    {'name':'김길동', 'score':85},\\n    {'name':'최길동', 'score':62},\\n    {'score':99}\\n]\",\n",
       " '_i238': \"students.sort(key=lambda ex : ex['name'] ,reverse=False)\\nstudents\",\n",
       " '_i239': \"# 이름순으로 정렬(ㄱㄴㄷ 순)\\nstudents = [\\n    {'name':'홍길동', 'score':90},\\n    {'name':'김길동', 'score':85},\\n    {'name':'최길동', 'score':62},\\n]\",\n",
       " '_i240': \"students.sort(key=lambda ex : ex['name'] ,reverse=False)\\nstudents\",\n",
       " '_240': [{'name': '최길동', 'score': 62},\n",
       "  {'name': '김길동', 'score': 85},\n",
       "  {'name': '홍길동', 'score': 90}],\n",
       " '_i241': \"# 이름이 없는 사람의 점수를 내림차순으로 정렬\\nstudents.sort(key=lambda ex :['score'],reverse=True)\",\n",
       " '_i242': \"# 이름이 없는 사람의 점수를 내림차순으로 정렬\\nstudents.sort(key=lambda ex :['score'],reverse=True)\\nstudents\",\n",
       " '_242': [{'name': '최길동', 'score': 62},\n",
       "  {'name': '김길동', 'score': 85},\n",
       "  {'name': '홍길동', 'score': 90}],\n",
       " '_i243': \"# 이름이 없는 사람의 점수를 내림차순으로 정렬\\nstudents.sort(key=lambda ex :['score'],reverse=False)\\nstudents\",\n",
       " '_243': [{'name': '최길동', 'score': 62},\n",
       "  {'name': '김길동', 'score': 85},\n",
       "  {'name': '홍길동', 'score': 90}],\n",
       " '_i244': \"# 이름이 없는 사람의 점수를 내림차순으로 정렬\\nstudents.sort(key=lambda ex :ex ['score'],reverse=False)\\nstudents\",\n",
       " '_244': [{'name': '최길동', 'score': 62},\n",
       "  {'name': '김길동', 'score': 85},\n",
       "  {'name': '홍길동', 'score': 90}],\n",
       " '_i245': \"# 이름이 없는 사람의 점수를 내림차순으로 정렬\\nstudents.sort(key=lambda ex : ex ['score'],reverse=False)\\nstudents\",\n",
       " '_245': [{'name': '최길동', 'score': 62},\n",
       "  {'name': '김길동', 'score': 85},\n",
       "  {'name': '홍길동', 'score': 90}],\n",
       " '_i246': \"# 이름순으로 정렬(ㄱㄴㄷ 순)\\nstudents = [\\n    {'name':'홍길동', 'score':90},\\n    {'name':'김길동', 'score':85},\\n    {'name':'최길동', 'score':62},\\n    {'score':99}\\n]\",\n",
       " '_i247': \"# 이름이 없는 사람의 점수를 내림차순으로 정렬\\nstudents.sort(key=lambda ex : ex ['score'],reverse=False)\\nstudents\",\n",
       " '_247': [{'score': 99},\n",
       "  {'name': '홍길동', 'score': 90},\n",
       "  {'name': '김길동', 'score': 85},\n",
       "  {'name': '최길동', 'score': 62}],\n",
       " '_i248': \"# 이름이 없는 사람의 점수를 내림차순으로 정렬\\nstudents.sort(key=lambda ex : ex.get('name'),reverse=False)\\nstudents\",\n",
       " '_i249': \"# 이름이 없는 사람의 점수를 내림차순으로 정렬\\nstudents.sort(key=lambda ex : ex.get('name', '유성미'),reverse=False)\\nstudents\",\n",
       " '_249': [{'score': 99},\n",
       "  {'name': '홍길동', 'score': 90},\n",
       "  {'name': '김길동', 'score': 85},\n",
       "  {'name': '최길동', 'score': 62}],\n",
       " '_i250': \"# 이름이 없는 사람의 점수를 내림차순으로 정렬\\nstudents.sort(key=lambda ex : ex.get('name',),reverse=False)\\nstudents\",\n",
       " '_i251': \"# 이름이 없는 사람의 점수를 내림차순으로 정렬\\nstudents.sort(key=lambda ex : ex.get('score'),reverse=False)\\nstudents\",\n",
       " '_251': [{'score': 99},\n",
       "  {'name': '홍길동', 'score': 90},\n",
       "  {'name': '김길동', 'score': 85},\n",
       "  {'name': '최길동', 'score': 62}],\n",
       " '_i252': \"# 이름이 없는 사람의 점수를 내림차순으로 정렬\\nstudents.sort(key=lambda ex : ex.get('name','힣'),reverse=False)\\nstudents\",\n",
       " '_252': [{'score': 99},\n",
       "  {'name': '홍길동', 'score': 90},\n",
       "  {'name': '김길동', 'score': 85},\n",
       "  {'name': '최길동', 'score': 62}],\n",
       " '_i253': \"# 이름이 없는 사람의 점수를 내림차순으로 정렬\\nstudents.sort(key=lambda ex : ex.get('name','각'),reverse=False)\\nstudents\",\n",
       " '_253': [{'score': 99},\n",
       "  {'name': '홍길동', 'score': 90},\n",
       "  {'name': '김길동', 'score': 85},\n",
       "  {'name': '최길동', 'score': 62}],\n",
       " '_i254': \"# 이름이 없는 사람의 점수를 내림차순으로 정렬\\nstudents.sort(key=lambda ex : ex.get('name','각'),reverse=False)\\nstudents\",\n",
       " '_254': [{'score': 99},\n",
       "  {'name': '홍길동', 'score': 90},\n",
       "  {'name': '김길동', 'score': 85},\n",
       "  {'name': '최길동', 'score': 62}],\n",
       " '_i255': \"# 이름이 없는 사람의 점수를 내림차순으로 정렬\\nstudents.sort(key=lambda ex : ex.get('name','각'),reverse=False)\\nstudents\\nstudents.sort(key=lambda ex : ex.get('name','힣'),reverse=False)\\nstudents\",\n",
       " '_255': [{'score': 99},\n",
       "  {'name': '홍길동', 'score': 90},\n",
       "  {'name': '김길동', 'score': 85},\n",
       "  {'name': '최길동', 'score': 62}],\n",
       " '_i256': \"students.sort(key=lambda ex : ex.get('score',0),reverse=False)\\nstudents\",\n",
       " '_256': [{'score': 99},\n",
       "  {'name': '홍길동', 'score': 90},\n",
       "  {'name': '김길동', 'score': 85},\n",
       "  {'name': '최길동', 'score': 62}],\n",
       " '_i257': \"students.sort(key=lambda ex : ex.get('score',0),reverse=True)\\nstudents\",\n",
       " '_257': [{'score': 99},\n",
       "  {'name': '홍길동', 'score': 90},\n",
       "  {'name': '김길동', 'score': 85},\n",
       "  {'name': '최길동', 'score': 62}],\n",
       " '_i258': \"# \\nbooks = [\\n    {'no':1, 'title':'강남 아파트 인사이트', 'writer': '오스틀', 'price':'25,200'},\\n    {'no':2, 'title':'단 한번의 삶', 'writer': '김영하', 'price':'15,120'},\\n    {'no':3, 'title':'흔한남매 19', 'writer': '백난도', 'price':'14,220'}\\n    {'no':4, 'title':'가격이 잘못', 'writer': '홍길동', 'price':'-'}\\n    {'no':5, 'title':'가격이 숫자', 'writer': '최무식', 'price':900}\\n    {'no':6, 'title':'가격이 없음', 'writer': '이난중',}\\n]\",\n",
       " '_i259': \"# \\nbooks = [\\n    {'no':1, 'title':'강남 아파트 인사이트', 'writer': '오스틀', 'price':'25,200'},\\n    {'no':2, 'title':'단 한번의 삶', 'writer': '김영하', 'price':'15,120'},\\n    {'no':3, 'title':'흔한남매 19', 'writer': '백난도', 'price':'14,220'},\\n    {'no':4, 'title':'가격이 잘못', 'writer': '홍길동', 'price':'-'},\\n    {'no':5, 'title':'가격이 숫자', 'writer': '최무식', 'price':900},\\n    {'no':6, 'title':'가격이 없음', 'writer': '이난중',}\\n]\",\n",
       " 'books': [{'no': 1,\n",
       "   'title': '강남 아파트 인사이트',\n",
       "   'writer': '오스틀',\n",
       "   'price': '25,200'},\n",
       "  {'no': 2, 'title': '단 한번의 삶', 'writer': '김영하', 'price': '15,120'},\n",
       "  {'no': 3, 'title': '흔한남매 19', 'writer': '백난도', 'price': '14,220'},\n",
       "  {'no': 4, 'title': '가격이 잘못', 'writer': '홍길동', 'price': '-'},\n",
       "  {'no': 5, 'title': '가격이 숫자', 'writer': '최무식', 'price': 900},\n",
       "  {'no': 6, 'title': '가격이 없음', 'writer': '이난중'}],\n",
       " '_i260': \"books.sort(key = lambda book : book.get('title'))\",\n",
       " '_i261': \"books.sort(key = lambda book : book.get('title'))\\nbooks\",\n",
       " '_261': [{'no': 3, 'title': '흔한남매 19', 'writer': '백난도', 'price': '14,220'},\n",
       "  {'no': 2, 'title': '단 한번의 삶', 'writer': '김영하', 'price': '15,120'},\n",
       "  {'no': 1, 'title': '강남 아파트 인사이트', 'writer': '오스틀', 'price': '25,200'},\n",
       "  {'no': 6, 'title': '가격이 없음', 'writer': '이난중'},\n",
       "  {'no': 5, 'title': '가격이 숫자', 'writer': '최무식', 'price': 900},\n",
       "  {'no': 4, 'title': '가격이 잘못', 'writer': '홍길동', 'price': '-'}],\n",
       " '_i262': \"books.sort(key = lambda book : book.get('writer'))\\nbooks\",\n",
       " '_262': [{'no': 3, 'title': '흔한남매 19', 'writer': '백난도', 'price': '14,220'},\n",
       "  {'no': 2, 'title': '단 한번의 삶', 'writer': '김영하', 'price': '15,120'},\n",
       "  {'no': 1, 'title': '강남 아파트 인사이트', 'writer': '오스틀', 'price': '25,200'},\n",
       "  {'no': 6, 'title': '가격이 없음', 'writer': '이난중'},\n",
       "  {'no': 5, 'title': '가격이 숫자', 'writer': '최무식', 'price': 900},\n",
       "  {'no': 4, 'title': '가격이 잘못', 'writer': '홍길동', 'price': '-'}],\n",
       " '_i263': \"# 타입이 문자인지 확인 /문자면 replace(,) \\n# 숫자에 , 있는지 확인 \\n# int로 변환하기전에 숫자인지 확인하고 0원처리하기\\nbooks.sort(key = lambda book : book.get('price'),0)\",\n",
       " '_i264': \"# 타입이 문자인지 확인 /문자면 replace(,) \\n# 숫자에 , 있는지 확인 \\n# int로 변환하기전에 숫자인지 확인하고 0원처리하기\\nbooks.sort(key = lambda book : book.get('price',0))\",\n",
       " '_i265': \"# '14,000'의 값을 '14000'으로 변환 / 900의 값이 들어오면 그대로 900으로 넣고 / '-'이 들어오면 0원으로 변경\\ndef parse_int(price):\\n    print(type(price))\",\n",
       " 'parse_int': <function __main__.parse_int(book)>,\n",
       " '_i266': 'parse_int(800)',\n",
       " '_i267': \"parse_int('800')\",\n",
       " '_i268': 'parse_int(-800)',\n",
       " '_i269': \"# '14,000'의 값을 '14000'으로 변환 / 900의 값이 들어오면 그대로 900으로 넣고 / '-'이 들어오면 0원으로 변경\\ndef parse_int(price):\\n    #print(type(price))\\n    if isinstance(price,int):\\n        return price\",\n",
       " '_i270': 'parse_int(-800)',\n",
       " '_270': -800,\n",
       " '_i271': 'parse_int(800)',\n",
       " '_271': 800,\n",
       " '_i272': 'parse_int(800)',\n",
       " '_272': 800,\n",
       " '_i273': 'parse_int(\"800\")',\n",
       " '_i274': \"parse_int('800')\",\n",
       " '_i275': 'parse_int(800)',\n",
       " '_275': 800,\n",
       " '_i276': \"# '14,000'의 값을 '14000'으로 변환 / 900의 값이 들어오면 그대로 900으로 넣고 / '-'이 들어오면 0원으로 변경\\ndef parse_int(price):\\n    #print(type(price))\\n    if isinstance(price,str) and price.replace(',','').isdigit():  #문자가 맞는지, 문자중에(,)을뺀 숫자로만 구성이 되어있는가 \\n        return int(price.replace(',',''))\\n    elif isinstance(price,int):\\n        return price\",\n",
       " '_i277': 'parse_int(\"800\")',\n",
       " '_277': 800,\n",
       " '_i278': 'parse_int(\"8,00\")',\n",
       " '_278': 800,\n",
       " '_i279': 'parse_int(\"8,00000\")',\n",
       " '_279': 800000,\n",
       " '_i280': 'parse_int(\"8,00,000\")',\n",
       " '_280': 800000,\n",
       " '_i281': 'parse_int(\"8,000,000\")',\n",
       " '_281': 8000000,\n",
       " '_i282': 'parse_int(15754)',\n",
       " '_282': 15754,\n",
       " '_i283': 'parse_int(0)',\n",
       " '_283': 0,\n",
       " '_i284': 'parse_int(*)',\n",
       " '_i285': 'parse_int(-)',\n",
       " '_i286': \"# '14,000'의 값을 '14000'으로 변환 / 900의 값이 들어오면 그대로 900으로 넣고 / '-'이 들어오면 0원으로 변경\\ndef parse_int(price):\\n    #print(type(price))\\n    if isinstance(price,str) and price.replace(',','').isdigit():  #문자가 맞는지, 문자중에(,)을뺀 숫자로만 구성이 되어있는가 \\n        return int(price.replace(',',''))\\n    elif isinstance(price,int):\\n        return price\\n    else:\\n        return 0\",\n",
       " '_i287': 'parse_int(-)',\n",
       " '_i288': \"# '14,000'의 값을 '14000'으로 변환 / 900의 값이 들어오면 그대로 900으로 넣고 / '-'이 들어오면 0원으로 변경\\ndef parse_int(price):\\n    #print(type(price))\\n    if isinstance(price,str) and price.replace(',','').isdigit():  #문자가 맞는지, 문자중에(,)을뺀 숫자로만 구성이 되어있는가 \\n        return int(price.replace(',',''))\\n    elif isinstance(price,int):\\n        return price\\n    else:\\n        return print(int(0))\",\n",
       " '_i289': 'parse_int(-)',\n",
       " '_i290': \"# '14,000'의 값을 '14000'으로 변환 / 900의 값이 들어오면 그대로 900으로 넣고 / '-'이 들어오면 0원으로 변경\\ndef parse_int(price):\\n    #print(type(price))\\n    if isinstance(price,str) and price.replace(',','').isdigit():  #문자가 맞는지, 문자중에(,)을뺀 숫자로만 구성이 되어있는가 \\n        return int(price.replace(',',''))\\n    elif isinstance(price,int):\\n        return price\",\n",
       " '_i291': \"parse_int('-')\",\n",
       " '_i292': 'parse_int(\"8,000\"), parse_int(\"88000\"),parse_int(200),parse_int(\"-\"),   ',\n",
       " '_292': (8000, 88000, 200, None),\n",
       " '_i293': \"# '14,000'의 값을 '14000'으로 변환 / 900의 값이 들어오면 그대로 900으로 넣고 / '-'이 들어오면 0원으로 변경\\ndef parse_int(price):\\n    #print(type(price))\\n    if isinstance(price,str) and price.replace(',','').isdigit():  #문자가 맞는지, 문자중에(,)을뺀 숫자로만 구성이 되어있는가 \\n        return int(price.replace(',',''))\\n    elif isinstance(price,int):\\n        return price\\n    else:\\n        return 0\",\n",
       " '_i294': 'parse_int(\"8,000\"), parse_int(\"88000\"),parse_int(200),parse_int(\"-\"),   ',\n",
       " '_294': (8000, 88000, 200, 0),\n",
       " '_i295': \"#{'no':6, 'title':'가격이 없음', 'writer': '이난중',} => return 0\\n#{'no':3, 'title':'흔한남매 19', 'writer': '백난도', 'price':'14,220'}, => 14220\\n#{'no':5, 'title':'가격이 숫자', 'writer': '최무식', 'price':900}, => 900\\n\\ndef parse_int(book):\\n    if isinstance(book.get('price'), str) and book.get.repalce(',','').isdigit():\\n        return int(book.get('price').replace(',','')):\\n    elif isinstance(book.get('price'), int):\\n        return book.get('price')\\n    else:\\n        return 0   \",\n",
       " '_i296': \"#{'no':6, 'title':'가격이 없음', 'writer': '이난중',} => return 0\\n#{'no':3, 'title':'흔한남매 19', 'writer': '백난도', 'price':'14,220'}, => 14220\\n#{'no':5, 'title':'가격이 숫자', 'writer': '최무식', 'price':900}, => 900\\n\\ndef parse_int(book):\\n    if isinstance(book.get('price'), str) and book.get('price').repalce(',','').isdigit():\\n        return int(book.get('price').replace(',','')):\\n    elif isinstance(book.get('price'), int):\\n        return book.get('price')\\n    else:\\n        return 0   \",\n",
       " '_i297': \"#{'no':6, 'title':'가격이 없음', 'writer': '이난중',} => return 0\\n#{'no':3, 'title':'흔한남매 19', 'writer': '백난도', 'price':'14,220'}, => 14220\\n#{'no':5, 'title':'가격이 숫자', 'writer': '최무식', 'price':900}, => 900\\n\\ndef parse_int(book):\\n    if isinstance(book.get('price'), str) and book.get('price').repalce(',','').isdigit():\\n        return int(book.get('price').replace(',','') ):\\n    elif isinstance(book.get('price'), int):\\n        return book.get('price')\\n    else:\\n        return 0   \",\n",
       " '_i298': \"#{'no':6, 'title':'가격이 없음', 'writer': '이난중',} => return 0\\n#{'no':3, 'title':'흔한남매 19', 'writer': '백난도', 'price':'14,220'}, => 14220\\n#{'no':5, 'title':'가격이 숫자', 'writer': '최무식', 'price':900}, => 900\\n\\ndef parse_int(book):\\n    if isinstance(book.get('price'), str) and book.get('price').repalce(',','').isdigit():\\n        return int(book.get('price').replace(',','')):\\n    elif isinstance(book.get('price'), int):\\n        return book.get('price')\\n    else:\\n        return 0   \",\n",
       " '_i299': \"#{'no':6, 'title':'가격이 없음', 'writer': '이난중',} => return 0\\n#{'no':3, 'title':'흔한남매 19', 'writer': '백난도', 'price':'14,220'}, => 14220\\n#{'no':5, 'title':'가격이 숫자', 'writer': '최무식', 'price':900}, => 900\\n\\ndef parse_int(book):\\n    if isinstance(book.get('price'), str) and book.get('price').repalce(',','').isdigit():\\n        return int( book.get('price').replace(',','')):\\n    elif isinstance(book.get('price'), int):\\n        return book.get('price')\\n    else:\\n        return 0   \",\n",
       " '_i300': \"#{'no':6, 'title':'가격이 없음', 'writer': '이난중',} => return 0\\n#{'no':3, 'title':'흔한남매 19', 'writer': '백난도', 'price':'14,220'}, => 14220\\n#{'no':5, 'title':'가격이 숫자', 'writer': '최무식', 'price':900}, => 900\\n\\ndef parse_int(book):\\n    if isinstance(book.get('price'), str) and book.get('price').repalce(',','').isdigit():\\n        return int(book.get('price').replace(',','')):\\n    elif isinstance(book.get('price'), int):\\n        return book.get('price')\\n    else:\\n        return 0   \",\n",
       " '_i301': \"#{'no':6, 'title':'가격이 없음', 'writer': '이난중',} => return 0\\n#{'no':3, 'title':'흔한남매 19', 'writer': '백난도', 'price':'14,220'}, => 14220\\n#{'no':5, 'title':'가격이 숫자', 'writer': '최무식', 'price':900}, => 900\\n\\ndef parse_int(book):\\n    if isinstance(book.get('price'), str) and \\\\\\n                  book.get('price').repalce(',','').isdigit():\\n        return int(book.get('price').replace(',','')):\\n    elif isinstance(book.get('price'), int):\\n        return book.get('price')\\n    else:\\n        return 0   \",\n",
       " '_i302': \"#{'no':6, 'title':'가격이 없음', 'writer': '이난중',} => return 0\\n#{'no':3, 'title':'흔한남매 19', 'writer': '백난도', 'price':'14,220'}, => 14220\\n#{'no':5, 'title':'가격이 숫자', 'writer': '최무식', 'price':900}, => 900\\n\\ndef parse_int(book):\\n    if isinstance(book.get('price'), str) and \\\\\\n                  book.get('price').replace(',','').isdigit():\\n        return int(book.get('price').replace(',','')):\\n    elif isinstance(book.get('price'), int):\\n        return book.get('price')\\n    else:\\n        return 0   \",\n",
       " '_i303': \"#{'no':6, 'title':'가격이 없음', 'writer': '이난중',} => return 0\\n#{'no':3, 'title':'흔한남매 19', 'writer': '백난도', 'price':'14,220'}, => 14220\\n#{'no':5, 'title':'가격이 숫자', 'writer': '최무식', 'price':900}, => 900\\n\\ndef parse_int(book):\\n    if isinstance(book.get('price'), str) and \\\\\\n                  book.get('price').replace(',','').isdigit():\\n        return int(book.get('price').replace(',','')):\\n    elif isinstance(book.get('price'), int):\\n        return book.get('price')\\n    else:\\n        return 0   \",\n",
       " '_i304': \"#{'no':6, 'title':'가격이 없음', 'writer': '이난중',} => return 0\\n#{'no':3, 'title':'흔한남매 19', 'writer': '백난도', 'price':'14,220'}, => 14220\\n#{'no':5, 'title':'가격이 숫자', 'writer': '최무식', 'price':900}, => 900\\n\\ndef parse_int(book):\\n    if isinstance(book.get('price'), str) and \\\\\\n                  book.get('price').replace(',','').isdigit():\\n        return int(book.get('price').replace(',',''):\\n    elif isinstance(book.get('price'), int):\\n        return book.get('price')\\n    else:\\n        return 0   \",\n",
       " '_i305': \"#{'no':6, 'title':'가격이 없음', 'writer': '이난중',} => return 0\\n#{'no':3, 'title':'흔한남매 19', 'writer': '백난도', 'price':'14,220'}, => 14220\\n#{'no':5, 'title':'가격이 숫자', 'writer': '최무식', 'price':900}, => 900\\n\\ndef parse_int(book):\\n    if isinstance(book.get('price'), str) and \\\\\\n                  book.get('price').replace(',','').isdigit():\\n        return int(book.get('price').replace(',','')):\\n    elif isinstance(book.get('price'), int):\\n        return book.get('price')\\n    else:\\n        return 0   \",\n",
       " '_i306': \"#{'no':6, 'title':'가격이 없음', 'writer': '이난중',} => return 0\\n#{'no':3, 'title':'흔한남매 19', 'writer': '백난도', 'price':'14,220'}, => 14220\\n#{'no':5, 'title':'가격이 숫자', 'writer': '최무식', 'price':900}, => 900\\n\\ndef parse_int(book):\\n    if isinstance(book.get('price'), str) and \\\\\\n                  book.get('price').replace(',','').isdigit():\\n        return int(book.get('price').replace(',',''))\\n    elif isinstance(book.get('price'), int):\\n        return book.get('price')\\n    else:\\n        return 0   \",\n",
       " '_i307': 'parse_int(books[0])',\n",
       " '_307': 14220,\n",
       " '_i308': 'parse_int(books[0]), parse_int(books[1]), parse_int(books[2])',\n",
       " '_308': (14220, 15120, 25200),\n",
       " '_i309': \"# 책 제목순 정렬(ㄱ,ㄴ,ㄷ순), 저자순 정렬(ㄱ,ㄴ,ㄷ), 가격순 오름차순 정렬\\n# 결측치 = 0원\\n\\nbooks = [\\n    {'no':1, 'title':'강남 아파트 인사이트', 'writer': '오스틀', 'price':'25,200'},\\n    {'no':2, 'title':'단 한번의 삶', 'writer': '김영하', 'price':'15,120'},\\n    {'no':3, 'title':'흔한남매 19', 'writer': '백난도', 'price':'14,220'},\\n    {'no':4, 'title':'가격이 잘못', 'writer': '홍길동', 'price':'-'},\\n    {'no':5, 'title':'가격이 숫자', 'writer': '최무식', 'price':900},\\n    {'no':6, 'title':'가격이 없음', 'writer': '이난중',}\\n]\",\n",
       " '_i310': 'parse_int(books[0]), parse_int(books[1]), parse_int(books[2])',\n",
       " '_310': (25200, 15120, 14220),\n",
       " '_i311': 'copy_books',\n",
       " '_i312': \"books = [\\n    {'no':1, 'title':'강남 아파트 인사이트', 'writer': '오스틀', 'price':'25,200'},\\n    {'no':2, 'title':'단 한번의 삶', 'writer': '김영하', 'price':'15,120'},\\n    {'no':3, 'title':'흔한남매 19', 'writer': '백난도', 'price':'14,220'},\\n    {'no':4, 'title':'가격이 잘못', 'writer': '홍길동', 'price':'-'},\\n    {'no':5, 'title':'가격이 숫자', 'writer': '최무식', 'price':900},\\n    {'no':6, 'title':'가격이 없음', 'writer': '이난중',}\\n]\\n\\ncopy_books = books.copy()\",\n",
       " 'copy_books': [{'no': 4, 'title': '가격이 잘못', 'writer': '홍길동', 'price': '-'},\n",
       "  {'no': 6, 'title': '가격이 없음', 'writer': '이난중'},\n",
       "  {'no': 5, 'title': '가격이 숫자', 'writer': '최무식', 'price': 900},\n",
       "  {'no': 3, 'title': '흔한남매 19', 'writer': '백난도', 'price': '14,220'},\n",
       "  {'no': 2, 'title': '단 한번의 삶', 'writer': '김영하', 'price': '15,120'},\n",
       "  {'no': 1, 'title': '강남 아파트 인사이트', 'writer': '오스틀', 'price': '25,200'}],\n",
       " '_i313': \"copy_books.sort(key = lambda book : \\n                int(book.get('price').replace(',','')) \\\\    \\n                    if isinstance(book.get('price'), str) and \\\\      #조건\\n                      book.get('price').replace(',','').isdigit() else\\\\\\n                book.get('price') \\\\\\n                if isinstance(book.get('price'), int) else \\\\\\n                0 \\n              \\n               )\",\n",
       " '_i314': 'copy_books',\n",
       " '_314': [{'no': 4, 'title': '가격이 잘못', 'writer': '홍길동', 'price': '-'},\n",
       "  {'no': 6, 'title': '가격이 없음', 'writer': '이난중'},\n",
       "  {'no': 5, 'title': '가격이 숫자', 'writer': '최무식', 'price': 900},\n",
       "  {'no': 3, 'title': '흔한남매 19', 'writer': '백난도', 'price': '14,220'},\n",
       "  {'no': 2, 'title': '단 한번의 삶', 'writer': '김영하', 'price': '15,120'},\n",
       "  {'no': 1, 'title': '강남 아파트 인사이트', 'writer': '오스틀', 'price': '25,200'}],\n",
       " '_i315': \"copy_books.sort(key = lambda book : \\n                int(book.get('price').replace(',','')) \\\\    \\n                    if isinstance(book.get('price'), str) and \\\\      #조건\\n                      book.get('price').replace(',','').isdigit() else\\\\\\n                    book.get('price') \\\\\\n                if isinstance(book.get('price'), int) else \\\\\\n                0 \\n              \\n               )\",\n",
       " '_i316': \"copy_books.sort(key = lambda book : \\n                int(book.get('price').replace(',','')) \\\\    \\n                    if isinstance(book.get('price'), str) and \\\\      #조건\\n                      book.get('price').replace(',','').isdigit() else\\\\\\n                book.get('price') if isinstance(book.get('price'), int) else \\\\\\n                0 \\n              \\n               )\",\n",
       " '_i317': 'copy_books',\n",
       " '_317': [{'no': 4, 'title': '가격이 잘못', 'writer': '홍길동', 'price': '-'},\n",
       "  {'no': 6, 'title': '가격이 없음', 'writer': '이난중'},\n",
       "  {'no': 5, 'title': '가격이 숫자', 'writer': '최무식', 'price': 900},\n",
       "  {'no': 3, 'title': '흔한남매 19', 'writer': '백난도', 'price': '14,220'},\n",
       "  {'no': 2, 'title': '단 한번의 삶', 'writer': '김영하', 'price': '15,120'},\n",
       "  {'no': 1, 'title': '강남 아파트 인사이트', 'writer': '오스틀', 'price': '25,200'}],\n",
       " '_i318': \"copy_books.sort(key = lambda book : \\n                int(book.get('price').replace(',',''))  \\n                    if isinstance(book.get('price'), str) and \\\\      #조건\\n                      book.get('price').replace(',','').isdigit() else\\\\\\n                book.get('price') if isinstance(book.get('price'), int) else \\\\\\n                0 \\n              \\n               )\",\n",
       " '_i319': \"copy_books.sort(key = lambda book : \\n                int(book.get('price').replace(',',''))  \\n                    if isinstance(book.get('price'), str) and\\n                      book.get('price').replace(',','').isdigit() else\\\\\\n                book.get('price') if isinstance(book.get('price'), int) else \\\\\\n                0 \\n              \\n               )\",\n",
       " '_i320': \"copy_books.sort(key = lambda book : \\n                int(book.get('price').replace(',','')) \\\\ \\n                    if isinstance(book.get('price'), str) and \\\\\\n                      book.get('price').replace(',','').isdigit() else\\\\\\n                book.get('price') if isinstance(book.get('price'), int) else \\\\\\n                0 \\n              \\n               )\",\n",
       " '_i321': 'copy_books',\n",
       " '_321': [{'no': 4, 'title': '가격이 잘못', 'writer': '홍길동', 'price': '-'},\n",
       "  {'no': 6, 'title': '가격이 없음', 'writer': '이난중'},\n",
       "  {'no': 5, 'title': '가격이 숫자', 'writer': '최무식', 'price': 900},\n",
       "  {'no': 3, 'title': '흔한남매 19', 'writer': '백난도', 'price': '14,220'},\n",
       "  {'no': 2, 'title': '단 한번의 삶', 'writer': '김영하', 'price': '15,120'},\n",
       "  {'no': 1, 'title': '강남 아파트 인사이트', 'writer': '오스틀', 'price': '25,200'}],\n",
       " '_i322': \"copy_books.sort(key = lambda book : \\n                int(book.get('price').replace(',','')) \\\\\\n                    if isinstance(book.get('price'), str) and \\\\\\n                        book.get('price').replace(',','').isdigit() else\\\\\\n                book.get('price') if isinstance(book.get('price'), int) else \\\\\\n                0 \\n              \\n               )\",\n",
       " '_i323': 'copy_books',\n",
       " '_323': [{'no': 4, 'title': '가격이 잘못', 'writer': '홍길동', 'price': '-'},\n",
       "  {'no': 6, 'title': '가격이 없음', 'writer': '이난중'},\n",
       "  {'no': 5, 'title': '가격이 숫자', 'writer': '최무식', 'price': 900},\n",
       "  {'no': 3, 'title': '흔한남매 19', 'writer': '백난도', 'price': '14,220'},\n",
       "  {'no': 2, 'title': '단 한번의 삶', 'writer': '김영하', 'price': '15,120'},\n",
       "  {'no': 1, 'title': '강남 아파트 인사이트', 'writer': '오스틀', 'price': '25,200'}],\n",
       " '_i324': 'books',\n",
       " '_324': [{'no': 1,\n",
       "   'title': '강남 아파트 인사이트',\n",
       "   'writer': '오스틀',\n",
       "   'price': '25,200'},\n",
       "  {'no': 2, 'title': '단 한번의 삶', 'writer': '김영하', 'price': '15,120'},\n",
       "  {'no': 3, 'title': '흔한남매 19', 'writer': '백난도', 'price': '14,220'},\n",
       "  {'no': 4, 'title': '가격이 잘못', 'writer': '홍길동', 'price': '-'},\n",
       "  {'no': 5, 'title': '가격이 숫자', 'writer': '최무식', 'price': 900},\n",
       "  {'no': 6, 'title': '가격이 없음', 'writer': '이난중'}],\n",
       " '_i325': '# 함수를 return\\ndef make_box(shape) : # shape : [l(길이)], 2차원 [r,c] 3차원 [d,r,c] d,r(가로),c(세로)\\n    # shape : [l] =>가 l인 list를 생성하는 함수 return \\n                                    #[r,c] => r행 c열인 list를 생성하는 함수 return\\n                                    #[d,r,c] => d면 r행 c열 3차원 list를 생성하는 함수 \\n    \\n\\n    def box(init_value):\\n        if len(shape)==1:\\n            return [init_value]*shape[0]    #1차원 리스트\\n        elif len(shape)==2:\\n            return [ [init_value]*shape[1] ] * shape[0]  #2차원 리스트\\n    return box',\n",
       " 'make_box': <function __main__.make_box(shape)>,\n",
       " '_i326': 'box',\n",
       " '_i327': 'line_func = make_box([2,3])',\n",
       " 'line_func': <function __main__.make_box.<locals>.box(init_value)>,\n",
       " '_i328': 'line_func = make_box([2,3])\\nline_func()',\n",
       " '_i329': 'line_func = make_box([2,3])\\nline_func(3)',\n",
       " '_329': [[3, 3, 3], [3, 3, 3]],\n",
       " '_i330': 'line_func = make_box([2,3])\\nline_func(1,3)',\n",
       " '_i331': 'line_func = make_box([2,3])\\nline_func(1)',\n",
       " '_331': [[1, 1, 1], [1, 1, 1]],\n",
       " '_i332': 'line_func = make_box([2,3])\\nline_func(3)',\n",
       " '_332': [[3, 3, 3], [3, 3, 3]],\n",
       " '_i333': 'line_func1 = make_box([10])\\nline_func1(3)',\n",
       " 'line_func1': <function __main__.make_box.<locals>.box(init_value)>,\n",
       " '_333': [3, 3, 3, 3, 3, 3, 3, 3, 3, 3],\n",
       " '_i334': 'def make_box(shape):\\n    if len(shape)==1:\\n        return lambda init_value : [init_value]*shape[0]\\n    elif len(shape)==2:\\n        return lambda init_value : [[init_value]*shape[1]]*shape[0]',\n",
       " '_i335': 'globals()',\n",
       " '_335': {...},\n",
       " '_i336': 'locals()'}"
      ]
     },
     "execution_count": 336,
     "metadata": {},
     "output_type": "execute_result"
    }
   ],
   "source": [
    "locals() #지역변수 리스트"
   ]
  },
  {
   "cell_type": "code",
   "execution_count": 343,
   "id": "18e669f8",
   "metadata": {},
   "outputs": [
    {
     "data": {
      "text/plain": [
       "False"
      ]
     },
     "execution_count": 343,
     "metadata": {},
     "output_type": "execute_result"
    }
   ],
   "source": [
    "all([True, True, True, True]) #리스트 안에 전부 True 인지 여부 \n",
    "all([True, True, True, 0])"
   ]
  },
  {
   "cell_type": "code",
   "execution_count": 351,
   "id": "64a1f994",
   "metadata": {},
   "outputs": [
    {
     "data": {
      "text/plain": [
       "4"
      ]
     },
     "execution_count": 351,
     "metadata": {},
     "output_type": "execute_result"
    }
   ],
   "source": [
    "round(3.5)"
   ]
  },
  {
   "cell_type": "code",
   "execution_count": 352,
   "id": "f34fa5b1",
   "metadata": {},
   "outputs": [],
   "source": [
    "import numpy as np #numpy 모듈을 np라는 이름으로 load"
   ]
  },
  {
   "cell_type": "code",
   "execution_count": 354,
   "id": "7476d716",
   "metadata": {},
   "outputs": [
    {
     "data": {
      "text/plain": [
       "(4.0, 4.0, 3.0)"
      ]
     },
     "execution_count": 354,
     "metadata": {},
     "output_type": "execute_result"
    }
   ],
   "source": [
    "round(3.5) #반올림하는 함수\n",
    "np.round(3.5), np.ceil(3.1), np.floor(3.9) #round는 반올림 , ceil은 올림, floor은 다운"
   ]
  },
  {
   "cell_type": "markdown",
   "id": "43007968",
   "metadata": {},
   "source": [
    "# 👀연습문제👀"
   ]
  },
  {
   "cell_type": "code",
   "execution_count": 422,
   "id": "651a3d7f",
   "metadata": {},
   "outputs": [
    {
     "data": {
      "text/plain": [
       "(6, 1)"
      ]
     },
     "execution_count": 422,
     "metadata": {},
     "output_type": "execute_result"
    }
   ],
   "source": [
    "'''실습형 \n",
    "Q1.함수의 인자로 리스트를 받은 후 리스트 내에 있는 모든 정수값에 대한 최대값과 최소값을 리턴하는 함수를 작성하세요.\n",
    "\n",
    "'''\n",
    "##★pass\n",
    "\n",
    "#def get_max_min(data_list):\n",
    "#get_max_min = lambda ~\n",
    "\n",
    "#튜플로 반환\n",
    "def get_max_min(data_list):\n",
    "    return max(data_list),min(data_list)\n",
    "\n",
    "get_max_min = lambda data_list : (max(data_list), min(data_list))\n",
    "get_max_min([1,2,3,4,5,6,])"
   ]
  },
  {
   "cell_type": "code",
   "execution_count": 426,
   "id": "1214806e",
   "metadata": {},
   "outputs": [
    {
     "ename": "IndentationError",
     "evalue": "unexpected indent (1739607320.py, line 22)",
     "output_type": "error",
     "traceback": [
      "\u001b[1;36m  Cell \u001b[1;32mIn[426], line 22\u001b[1;36m\u001b[0m\n\u001b[1;33m    if mom < (18.5):\u001b[0m\n\u001b[1;37m    ^\u001b[0m\n\u001b[1;31mIndentationError\u001b[0m\u001b[1;31m:\u001b[0m unexpected indent\n"
     ]
    }
   ],
   "source": [
    "'''실습형\n",
    "Q2.\n",
    "체질량 지수(Body Mass Index, BMI)는 체중과 키를 이용해 비만도를 나타내는 지수로 아래의 수식에 의해 계산됩니다. \n",
    "함수의 인자로 체중(kg)과 신장(m)를입력받은 후 BMI값에 따라 \n",
    "‘마른 체형‘, ‘표준‘, ‘비만‘, ‘고도비만‘ 중 하나의 상태를 출력하는 함수를 구현해 보세요.\n",
    "getBMI(kg, m):\n",
    "BMI지수 = 체중(kg)/신장(m)의 제곱\n",
    "BMI<18.5 : 마른체형\n",
    "18.5<=BMI<25 : 표준\n",
    "25<=BMI<30 : 비만\n",
    "BMI >=30 : 고도비만\n",
    "\n",
    "'''\n",
    "#체중과 신장으로 bmi 지수 계산하고\n",
    "# 그 값이 표준인지 마른체형인지 비만인지 고도비만 인지 체크\n",
    "# 리턴값이 나타남\n",
    "#체중과 신장 계산하는 변수\n",
    "#a =체중 / b =신장 \n",
    "\n",
    "def getbmt(a,b):\n",
    "    mom = a / (b**2)\n",
    "        if mom < (18.5):\n",
    "            print(\"마른체형\")\n",
    "        elif 18.5 <= mom < 25:\n",
    "            print(\"표준\")\n",
    "        elif 25 <= mom < 30:\n",
    "            print(\"비만\")\n",
    "        else:\n",
    "            print(\"고도비만\")\n",
    "\n",
    "getbmt(70,175)\n"
   ]
  },
  {
   "cell_type": "code",
   "execution_count": null,
   "id": "e699fd9c",
   "metadata": {},
   "outputs": [],
   "source": [
    "'''실습형\n",
    "Q3.직각삼각형의 밑변과 높이를 입력받은 후 삼각형의 면적과 둘레를 계산하는 함수를 작성하세요\n",
    "리턴값은 면적과 둘레를 return하도록 구현하세요\n",
    "math.sqrt() : 제곱근을 구하는 함수이용 (ex)math.sqrt(25) : 5.0•\n",
    "def get_triangle(width, height):\n",
    "'''\n",
    "\n"
   ]
  },
  {
   "cell_type": "code",
   "execution_count": null,
   "id": "013aad52",
   "metadata": {},
   "outputs": [],
   "source": [
    "'''실습형\n",
    "Q4.\n",
    "함수의 인자로 시작과 끝 숫자가 주어질 때 시작부터 끝까지의 모든 정수값의 합을 리턴하는 함수를 작성하세요\n",
    "(시작값과 끝값 포함).\n",
    "\n",
    "def mysum(fRom, end):\n",
    "'''"
   ]
  },
  {
   "cell_type": "code",
   "execution_count": null,
   "id": "6e15051e",
   "metadata": {},
   "outputs": [],
   "source": [
    "'''실습형\n",
    "Q5.\n",
    "함수의인자로 문자열을 포함하는 리스트가 입력될 때 \n",
    "각 문자열의 첫 세글자로만 구성된 리스트를 리턴하는 함수와 람다식을 작성하세요\n",
    "예를 들어 함수의 입력으로 [‘Seoul’, ‘Daegu’, ‘Kwangju’, ‘Jeju’]가 입력될 때 \n",
    "함수의 리턴값은 [‘Seo’, ‘Dae’, ‘Kwa’,’Jej’]\n",
    "def get_abbrs(lst):\n",
    "\n",
    "'''\n",
    "\n",
    "def get_abbrs(lst):\n",
    "    "
   ]
  },
  {
   "cell_type": "code",
   "execution_count": null,
   "id": "ca8c841c",
   "metadata": {},
   "outputs": [],
   "source": [
    "'''실습형\n",
    "Q6.다음 람다 코드를 람다 형태로 수정할 때 알맞은 코드를 작성하시오.\n",
    "def f(x,y):\n",
    "    return x**y \n",
    "\n",
    "\n",
    "'''\n",
    "def f(x,y):\n",
    "    return x**y\n",
    "\n",
    "lambda x, y : x**y,f\n"
   ]
  },
  {
   "cell_type": "code",
   "execution_count": 412,
   "id": "d1408625",
   "metadata": {},
   "outputs": [],
   "source": [
    "'''실습형\n",
    "Q7. ex=[1,2,3,4,5]를 [1,4,9,16,25]의 결과를 얻을 수 있도록 \n",
    "람다함수와 map()함수를 사용하여 구현과 리스트 컴프리헨션으로 구현하시오 \n",
    "\n",
    "'''\n",
    "\n",
    "def map_t(func, L=[]):\n",
    "    result = []\n",
    "    for l in L:\n",
    "        result.append(func(l))\n",
    "    return result"
   ]
  },
  {
   "cell_type": "code",
   "execution_count": 427,
   "id": "2aa87494",
   "metadata": {},
   "outputs": [
    {
     "data": {
      "text/plain": [
       "[1, 4, 9, 16, 25]"
      ]
     },
     "execution_count": 427,
     "metadata": {},
     "output_type": "execute_result"
    }
   ],
   "source": [
    "ex=[1,2,3,4,5]\n",
    "map_t(lambda ex : ex**2, ex)\n",
    "[item**2 for item in ex]"
   ]
  },
  {
   "cell_type": "code",
   "execution_count": 417,
   "id": "5645f94d",
   "metadata": {},
   "outputs": [
    {
     "ename": "TypeError",
     "evalue": "'list' object is not callable",
     "output_type": "error",
     "traceback": [
      "\u001b[1;31m---------------------------------------------------------------------------\u001b[0m",
      "\u001b[1;31mTypeError\u001b[0m                                 Traceback (most recent call last)",
      "Cell \u001b[1;32mIn[417], line 1\u001b[0m\n\u001b[1;32m----> 1\u001b[0m \u001b[38;5;28;43mlist\u001b[39;49m\u001b[43m(\u001b[49m\u001b[38;5;28;43mmap\u001b[39;49m\u001b[43m(\u001b[49m\u001b[38;5;28;43;01mlambda\u001b[39;49;00m\u001b[43m \u001b[49m\u001b[43mex\u001b[49m\u001b[43m \u001b[49m\u001b[43m:\u001b[49m\u001b[43m \u001b[49m\u001b[43mex\u001b[49m\u001b[38;5;241;43m*\u001b[39;49m\u001b[38;5;241;43m*\u001b[39;49m\u001b[38;5;241;43m2\u001b[39;49m\u001b[43m,\u001b[49m\u001b[43m \u001b[49m\u001b[43mex\u001b[49m\u001b[43m \u001b[49m\u001b[43m)\u001b[49m\u001b[43m)\u001b[49m\n",
      "\u001b[1;31mTypeError\u001b[0m: 'list' object is not callable"
     ]
    }
   ],
   "source": [
    "list(map(lambda ex : ex**2, ex ))"
   ]
  },
  {
   "cell_type": "code",
   "execution_count": null,
   "id": "c07d90a5",
   "metadata": {},
   "outputs": [],
   "source": [
    "'''실습형\n",
    "Q8.다음 코드를 각각 실행하면 서로 다른 결과가 나온다. 이런 결과가 나오는 이유를 서술하시오.\n",
    ">>> a = [1,2,3]\n",
    ">>>print(*a)\n",
    "123\n",
    ">>>print(a)\n",
    "[1,2,3]\n",
    "\n",
    "\n",
    "'''\n",
    "\n",
    "*a 언패킹으로 1,2,3 출력\n",
    "print (a)는 a의 데이터 값을 가져오는것으로 리스트에 출력"
   ]
  },
  {
   "cell_type": "code",
   "execution_count": 2,
   "id": "9b12b6a7",
   "metadata": {},
   "outputs": [
    {
     "data": {
      "text/plain": [
       "'2020 - 09 - 06'"
      ]
     },
     "execution_count": 2,
     "metadata": {},
     "output_type": "execute_result"
    }
   ],
   "source": [
    "'''실습형\n",
    "Q9.다음 코드의 실행 결과는?\n",
    "data_info={'year':2020,'month':9,'day':6}\n",
    "result = '{year}' - {month} - {day}.format(**data_info)\n",
    "result\n",
    "\n",
    "'''\n",
    "\n",
    "#2020 - 9 - 6\n",
    "#파이썬에서 결측치는 none이 되기도 하지만 파일로 받으면 float로 바뀔 수 있음...\n",
    "data_info={'year':2020,'month':9,'day':6}\n",
    "result = '{year} - {month:02} - {day:02}'.format(**data_info)\n",
    "result"
   ]
  },
  {
   "cell_type": "code",
   "execution_count": 6,
   "id": "f0117ef0",
   "metadata": {},
   "outputs": [
    {
     "data": {
      "text/plain": [
       "'2020 - 09 - 06'"
      ]
     },
     "execution_count": 6,
     "metadata": {},
     "output_type": "execute_result"
    }
   ],
   "source": [
    "#>정렬을 하지않으면 문자로 90,60으로 나타나기때문에 \n",
    "data_info={'year':'2020','month':'9','day':'6'}\n",
    "result = '{year} - {month:>02} - {day:>02}'.format(**data_info)\n",
    "result"
   ]
  },
  {
   "cell_type": "code",
   "execution_count": 18,
   "id": "e02c740d",
   "metadata": {},
   "outputs": [
    {
     "data": {
      "text/plain": [
       "True"
      ]
     },
     "execution_count": 18,
     "metadata": {},
     "output_type": "execute_result"
    }
   ],
   "source": [
    "'''실습형\n",
    "Q10.n개의 벡터(리스트나 튜플,셋등)의 크기들이 같은지 여부를 return하는\n",
    "vector_size_check(*vector_var)를 한 줄의 코드(리스트 컴프리헨션 이용)로 작성하시오\n",
    "\n",
    "'''\n",
    "#*vector_var의 값이 튜플로 받고, 사이즈가 같은지 확인\n",
    "#입력받은 n개의 벡터(리스트나 튜플이나 셋)의 크기들이 같은지 비교\n",
    "\n",
    "def vector_size(*vector_var):\n",
    "    return len(set([len(vector) for vector in vector_var]))==1\n",
    "\n",
    "vector_size([10,20],(100,200),{'name':'홍','age':30})\n",
    "\n",
    "#★all = 매개변수로 있는것이 다 똑같은지 체크 "
   ]
  },
  {
   "cell_type": "code",
   "execution_count": 20,
   "id": "06620bf1",
   "metadata": {},
   "outputs": [
    {
     "data": {
      "text/plain": [
       "True"
      ]
     },
     "execution_count": 20,
     "metadata": {},
     "output_type": "execute_result"
    }
   ],
   "source": [
    "#★all = 매개변수로 있는것이 다 똑같은지 체크 \n",
    "def vector_size(*vector_var):\n",
    "    return all([len(vector) for vector in vector_var])\n",
    "\n",
    "vector_size([10,20],(100,200),{'name':'홍','age':30})"
   ]
  },
  {
   "cell_type": "code",
   "execution_count": null,
   "id": "f7e10425",
   "metadata": {},
   "outputs": [],
   "source": [
    "'''실습형\n",
    "Q11.scalar_vectro_producct(5,[1,2,3,4],[5,10,15,20])\n",
    "\n",
    "'''"
   ]
  },
  {
   "cell_type": "code",
   "execution_count": null,
   "id": "75295841",
   "metadata": {},
   "outputs": [],
   "source": [
    "''' 서술형 \n",
    "Q1. 다음 코드의 실행 결과는?\n",
    "pairs = [(1,'d'),(2,'c'),(3,'b'),(4,'a')]\n",
    "pairs.sort(key=lambda pair : pair[1])\n",
    "pairs\n",
    "'''\n",
    "\n",
    "[(4,'a'),(3,'b'),(2,'c'),(1,'d')]"
   ]
  },
  {
   "cell_type": "code",
   "execution_count": 24,
   "id": "62b6daa1",
   "metadata": {},
   "outputs": [
    {
     "name": "stdout",
     "output_type": "stream",
     "text": [
      "612613"
     ]
    }
   ],
   "source": [
    "'''서술형\n",
    "Q2. 함수 영역과 변수들의 참조 영역에 따른 동작을 보여주기 위한 문제.\n",
    "오류가 발생하는 라인을 찾고 문제를 해결하기 위한 코드를 작성, 실행결과를 쓰시오\n",
    "\n",
    "'''\n",
    "\n",
    "a = 10                   #전역변수 \n",
    "def sub():\n",
    "    global a             #★문제 해결을 위한 코드★ 값이 없는 상태여서 none+1로 에러난다.\n",
    "    a += 1               #지역변수\n",
    "    print(a, end='')\n",
    "\n",
    "def func():           #지역변수를 쓴다.\n",
    "    for i in range(2):\n",
    "        a = 5\n",
    "        a += 1\n",
    "        print(a,end='')\n",
    "        sub()\n",
    "        \n",
    "a += 1\n",
    "func()\n",
    "\n",
    "#오류가 발생하는 라인 :\n",
    "#문제 해결을 위한 코드 :\n",
    "#코드 수정 후 실행 결과 : "
   ]
  },
  {
   "cell_type": "code",
   "execution_count": 25,
   "id": "ef547e15",
   "metadata": {},
   "outputs": [
    {
     "name": "stdout",
     "output_type": "stream",
     "text": [
      "100\n"
     ]
    }
   ],
   "source": [
    "'''서술형\n",
    "Q3. 다음 구문을 실행한 결과는?\n",
    "'''\n",
    "var = 100\n",
    "def func(var):\n",
    "    var=200\n",
    "func(var)    #100\n",
    "print(var)   #지역테이블값은 사라지고 전역변수만 남음\n"
   ]
  },
  {
   "cell_type": "code",
   "execution_count": 28,
   "id": "353409e7",
   "metadata": {},
   "outputs": [
    {
     "data": {
      "text/plain": [
       "5"
      ]
     },
     "execution_count": 28,
     "metadata": {},
     "output_type": "execute_result"
    }
   ],
   "source": [
    "'''서술형\n",
    "Q4. 다음 구문의 실행 결과는?\n",
    "'''\n",
    "\n",
    "def my_func(func,*args):\n",
    "    return func(*args)\n",
    "import numpy as np\n",
    "my_func(np.add,2,3)"
   ]
  },
  {
   "cell_type": "code",
   "execution_count": null,
   "id": "15678205",
   "metadata": {},
   "outputs": [],
   "source": [
    "'''서술형\n",
    "Q5. 다음 구문의 실행결과는?\n",
    "'''\n",
    "def my_func(func,*args):\n",
    "    return func(*args)\n",
    "my_func(lambda a,b : a**b,3,2)\n",
    "\n",
    "3**2 =9"
   ]
  },
  {
   "cell_type": "code",
   "execution_count": null,
   "id": "09411910",
   "metadata": {},
   "outputs": [],
   "source": [
    "'''서술형\n",
    "Q6. 파이썬 함수에 대한 설명중 잘못된 것은?\n",
    "'''\n",
    "매개변수 이름이 없는 인수는 순서인수로 보고 매개변수 이름이 있는 인수보다 앞에 와야 한다."
   ]
  },
  {
   "cell_type": "code",
   "execution_count": 29,
   "id": "de37fbdd",
   "metadata": {},
   "outputs": [
    {
     "ename": "SyntaxError",
     "evalue": "invalid syntax (2645946596.py, line 6)",
     "output_type": "error",
     "traceback": [
      "\u001b[1;36m  Cell \u001b[1;32mIn[29], line 6\u001b[1;36m\u001b[0m\n\u001b[1;33m    func(10,list_)    list_기본값을 가짐\u001b[0m\n\u001b[1;37m                      ^\u001b[0m\n\u001b[1;31mSyntaxError\u001b[0m\u001b[1;31m:\u001b[0m invalid syntax\n"
     ]
    }
   ],
   "source": [
    "'''서술형\n",
    "Q7. 다음과 같은 구문이 있을경우 오류가 발생하는 함수 호출은? \n",
    "\n",
    "'''\n",
    "#순서인수는 첫번째꺼에 할당이 되므로 앞에 있어야 함.\n",
    "func(10,list_)    list_기본값을 가짐\n",
    "func(20, L=list_) \n",
    "func([],a=40) "
   ]
  },
  {
   "cell_type": "code",
   "execution_count": null,
   "id": "771a5019",
   "metadata": {},
   "outputs": [],
   "source": [
    "'''서술형\n",
    "Q8. \n",
    "'''\n",
    "lambda 함수 "
   ]
  }
 ],
 "metadata": {
  "kernelspec": {
   "display_name": "Python 3 (ipykernel)",
   "language": "python",
   "name": "python3"
  },
  "language_info": {
   "codemirror_mode": {
    "name": "ipython",
    "version": 3
   },
   "file_extension": ".py",
   "mimetype": "text/x-python",
   "name": "python",
   "nbconvert_exporter": "python",
   "pygments_lexer": "ipython3",
   "version": "3.10.9"
  },
  "toc": {
   "base_numbering": 1,
   "nav_menu": {},
   "number_sections": false,
   "sideBar": true,
   "skip_h1_title": false,
   "title_cell": "Table of Contents",
   "title_sidebar": "Contents",
   "toc_cell": false,
   "toc_position": {
    "height": "calc(100% - 180px)",
    "left": "10px",
    "top": "150px",
    "width": "189.4px"
   },
   "toc_section_display": true,
   "toc_window_display": true
  }
 },
 "nbformat": 4,
 "nbformat_minor": 5
}
