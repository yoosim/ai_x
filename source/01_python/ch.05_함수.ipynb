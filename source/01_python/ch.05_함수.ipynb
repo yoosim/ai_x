{
 "cells": [
  {
   "cell_type": "code",
   "execution_count": null,
   "id": "77e1181a",
   "metadata": {},
   "outputs": [],
   "source": []
  },
  {
   "cell_type": "code",
   "execution_count": 3,
   "id": "cdc0ccb0",
   "metadata": {},
   "outputs": [
    {
     "data": {
      "text/html": [
       "\n",
       "<style>\n",
       "div.container{width:86% !important;}\n",
       "div.cell.code_cell.rendered{width:100%;}\n",
       "div.CodeMirror {font-family:Consolas; font-size:15pt;}\n",
       "div.output {font-size:15pt; font-weight:bold;}\n",
       "div.input {font-family:Consolas; font-size:15pt;}\n",
       "div.prompt {min-width:70px;}\n",
       "div#toc-wrapper{padding-top:120px;}\n",
       "div.text_cell_render ul li{font-size:12pt;padding:5px;}\n",
       "table.dataframe{font-size:15px;}\n",
       "</style>\n",
       " "
      ],
      "text/plain": [
       "<IPython.core.display.HTML object>"
      ]
     },
     "metadata": {},
     "output_type": "display_data"
    }
   ],
   "source": [
    "from IPython.display import display, HTML \n",
    "display(HTML(\"\"\"\n",
    "<style>\n",
    "div.container{width:86% !important;}\n",
    "div.cell.code_cell.rendered{width:100%;}\n",
    "div.CodeMirror {font-family:Consolas; font-size:15pt;}\n",
    "div.output {font-size:15pt; font-weight:bold;}\n",
    "div.input {font-family:Consolas; font-size:15pt;}\n",
    "div.prompt {min-width:70px;}\n",
    "div#toc-wrapper{padding-top:120px;}\n",
    "div.text_cell_render ul li{font-size:12pt;padding:5px;}\n",
    "table.dataframe{font-size:15px;}\n",
    "</style>\n",
    " \"\"\"))"
   ]
  },
  {
   "cell_type": "markdown",
   "id": "e5195136",
   "metadata": {},
   "source": [
    "<span style=\"color: blue; font-size: 24px; font-weight: bold;\">ch05.함수</span>\n",
    "- 사용할 코드를 묶어 놓고 그것에 이름을 붙인 것 : 함수\n",
    "- 같은 이름의 함수를 매개변수를 달리해서 사용 : 오버로딩 (파이썬은 사용이 불가)\n",
    "- 오버로딩(함수 이름이 같고, 매개변수의 타입이나 갯수로 다른 함수를 허용하는 것)불가\n",
    "*def add(a, b):\n",
    "    #print(1)\n",
    "- def add(a):\n",
    "    #print(2) 이렇게 쓰게되면 위에 함수는 사라지고 아래것만 남음\n",
    "    \n",
    "```\n",
    "*변수명 사용하는 방식이랑 똑같음\n",
    "*매개변수가 생략이 가능함.\n",
    "*명령어에 return이 필수로 들어가는것이 아님 선택사항\n",
    "def 함수명([매개변수1,매개변수2,매개변수n])\n",
    "    명령어1\n",
    "    명령어2\n",
    "    명령어n\n",
    "```\n",
    "# 1절. 함수 정의 및 사용"
   ]
  },
  {
   "cell_type": "code",
   "execution_count": null,
   "id": "d2bab59a",
   "metadata": {},
   "outputs": [],
   "source": [
    "#오버로딩\n",
    "def add(a, b):\n",
    "    print(1)\n",
    "def add(a):\n",
    "    print(2) 위의 함수는 덮어져서 사라지고 아래것만 남음 "
   ]
  },
  {
   "cell_type": "code",
   "execution_count": 11,
   "id": "8c62d7c2",
   "metadata": {},
   "outputs": [],
   "source": [
    "#hello를 호출하면 hello를 5번 만들어주는 함수로 정의함\n",
    "#함수 정의한다고 해서 결과값이 나타나진 않음.\n",
    "#함수를 사용해야 실행이 됨.\n",
    "def hello():\n",
    "    for i in range(5):\n",
    "        print('Hello')"
   ]
  },
  {
   "cell_type": "code",
   "execution_count": 13,
   "id": "348db437",
   "metadata": {},
   "outputs": [
    {
     "name": "stdout",
     "output_type": "stream",
     "text": [
      "Hello\n",
      "Hello\n",
      "Hello\n",
      "Hello\n",
      "Hello\n"
     ]
    },
    {
     "ename": "TypeError",
     "evalue": "hello() takes 0 positional arguments but 1 was given",
     "output_type": "error",
     "traceback": [
      "\u001b[1;31m---------------------------------------------------------------------------\u001b[0m",
      "\u001b[1;31mTypeError\u001b[0m                                 Traceback (most recent call last)",
      "Cell \u001b[1;32mIn[13], line 3\u001b[0m\n\u001b[0;32m      1\u001b[0m \u001b[38;5;66;03m#함수 사용 *앞에서 지정한 매개변수 숫자와 동일해야 함. \u001b[39;00m\n\u001b[0;32m      2\u001b[0m hello()\n\u001b[1;32m----> 3\u001b[0m \u001b[43mhello\u001b[49m\u001b[43m(\u001b[49m\u001b[38;5;241;43m1\u001b[39;49m\u001b[43m)\u001b[49m\n",
      "\u001b[1;31mTypeError\u001b[0m: hello() takes 0 positional arguments but 1 was given"
     ]
    }
   ],
   "source": [
    "#함수 사용 *앞에서 지정한 매개변수 숫자와 동일해야 함. \n",
    "hello()\n",
    "hello(1)"
   ]
  },
  {
   "cell_type": "code",
   "execution_count": 20,
   "id": "e406de82",
   "metadata": {},
   "outputs": [],
   "source": [
    "#함수 정의\n",
    "def my_message(x, msg): #msg를 x번 출력하는 함수\n",
    "    for i in range(x):\n",
    "        print(msg)"
   ]
  },
  {
   "cell_type": "code",
   "execution_count": 21,
   "id": "15ff940d",
   "metadata": {},
   "outputs": [
    {
     "ename": "TypeError",
     "evalue": "my_message() missing 2 required positional arguments: 'x' and 'msg'",
     "output_type": "error",
     "traceback": [
      "\u001b[1;31m---------------------------------------------------------------------------\u001b[0m",
      "\u001b[1;31mTypeError\u001b[0m                                 Traceback (most recent call last)",
      "Cell \u001b[1;32mIn[21], line 2\u001b[0m\n\u001b[0;32m      1\u001b[0m \u001b[38;5;66;03m#함수 사용\u001b[39;00m\n\u001b[1;32m----> 2\u001b[0m \u001b[43mmy_message\u001b[49m\u001b[43m(\u001b[49m\u001b[43m)\u001b[49m\n",
      "\u001b[1;31mTypeError\u001b[0m: my_message() missing 2 required positional arguments: 'x' and 'msg'"
     ]
    }
   ],
   "source": [
    "#함수 사용\n",
    "my_message()  #이렇게 하면 오류남  (x랑 msg가 오류)\n",
    "#포지셔널 매개변수 "
   ]
  },
  {
   "cell_type": "code",
   "execution_count": 22,
   "id": "46daba4b",
   "metadata": {},
   "outputs": [
    {
     "name": "stdout",
     "output_type": "stream",
     "text": [
      "hello\n",
      "hello\n"
     ]
    }
   ],
   "source": [
    "#함수 사용\n",
    "my_message(2, 'hello')  #이렇게 하면 오류남  (x랑 msg가 오류)\n",
    "#포지셔널 매개변수 "
   ]
  },
  {
   "cell_type": "code",
   "execution_count": 23,
   "id": "5380a07c",
   "metadata": {},
   "outputs": [
    {
     "name": "stdout",
     "output_type": "stream",
     "text": [
      "hello\n",
      "hello\n"
     ]
    }
   ],
   "source": [
    "my_msg = my_message #변수에다가 함수를 넣는다? my_msg도 함수로 변환 / 함수를 변수처럼 쓸 수 있다\n",
    "my_msg(2,'hello')"
   ]
  },
  {
   "cell_type": "code",
   "execution_count": 24,
   "id": "3f7dc690",
   "metadata": {},
   "outputs": [
    {
     "data": {
      "text/plain": [
       "(function, function)"
      ]
     },
     "execution_count": 24,
     "metadata": {},
     "output_type": "execute_result"
    }
   ],
   "source": [
    "type(my_msg), type(my_message) "
   ]
  },
  {
   "cell_type": "code",
   "execution_count": 25,
   "id": "2967d566",
   "metadata": {},
   "outputs": [
    {
     "name": "stdout",
     "output_type": "stream",
     "text": [
      "hello\n"
     ]
    }
   ],
   "source": [
    "print('hello') #파이썬 내장함수 (impor 하지않아도 할 수 있는 함수 / 가져오지 않아도 쓸 수 있는 함수 )"
   ]
  },
  {
   "cell_type": "code",
   "execution_count": 26,
   "id": "e03f8961",
   "metadata": {},
   "outputs": [
    {
     "name": "stdout",
     "output_type": "stream",
     "text": [
      "Hello\n",
      "Hello\n"
     ]
    }
   ],
   "source": [
    "my_message(2,'Hello')"
   ]
  },
  {
   "cell_type": "code",
   "execution_count": 27,
   "id": "abe56e59",
   "metadata": {},
   "outputs": [],
   "source": [
    "#my_message = 5"
   ]
  },
  {
   "cell_type": "code",
   "execution_count": 29,
   "id": "01c236a0",
   "metadata": {},
   "outputs": [
    {
     "ename": "SyntaxError",
     "evalue": "invalid syntax (3482650259.py, line 1)",
     "output_type": "error",
     "traceback": [
      "\u001b[1;36m  Cell \u001b[1;32mIn[29], line 1\u001b[1;36m\u001b[0m\n\u001b[1;33m    def my_message\u001b[0m\n\u001b[1;37m                  ^\u001b[0m\n\u001b[1;31mSyntaxError\u001b[0m\u001b[1;31m:\u001b[0m invalid syntax\n"
     ]
    }
   ],
   "source": [
    "def my_message\n",
    "#변수를 삭제해도 함수 사용불가(파이썬 내장함수가 아니라서)"
   ]
  },
  {
   "cell_type": "code",
   "execution_count": 30,
   "id": "b7a70d39",
   "metadata": {},
   "outputs": [],
   "source": [
    "my_message(2,'Hello')  #내장함수가 아니면 del을 해도 다 날아감(삭제됨)"
   ]
  },
  {
   "cell_type": "code",
   "execution_count": 1,
   "id": "331223bb",
   "metadata": {},
   "outputs": [],
   "source": [
    "#함수 정의 (함수를 만들뿐 실행되진 않음)\n",
    "def my_hello():\n",
    "    print('hello, python')\n",
    "    print('hello, world')"
   ]
  },
  {
   "cell_type": "code",
   "execution_count": 2,
   "id": "d4216091",
   "metadata": {},
   "outputs": [
    {
     "name": "stdout",
     "output_type": "stream",
     "text": [
      "hello, python\n",
      "hello, world\n"
     ]
    }
   ],
   "source": [
    "#함수 호출 = 함수 사용\n",
    "my_hello()"
   ]
  },
  {
   "cell_type": "code",
   "execution_count": 25,
   "id": "1002b697",
   "metadata": {},
   "outputs": [],
   "source": [
    "#3절 함수 매개변수.. 중요"
   ]
  },
  {
   "cell_type": "code",
   "execution_count": null,
   "id": "7eb47f46",
   "metadata": {},
   "outputs": [],
   "source": [
    "#스칼라 변수냐 데이터구조 변수냐에 따라서 다름 \n",
    "#남이 짠거로 "
   ]
  }
 ],
 "metadata": {
  "kernelspec": {
   "display_name": "Python 3 (ipykernel)",
   "language": "python",
   "name": "python3"
  },
  "language_info": {
   "codemirror_mode": {
    "name": "ipython",
    "version": 3
   },
   "file_extension": ".py",
   "mimetype": "text/x-python",
   "name": "python",
   "nbconvert_exporter": "python",
   "pygments_lexer": "ipython3",
   "version": "3.10.9"
  },
  "toc": {
   "base_numbering": 1,
   "nav_menu": {},
   "number_sections": false,
   "sideBar": true,
   "skip_h1_title": false,
   "title_cell": "Table of Contents",
   "title_sidebar": "Contents",
   "toc_cell": false,
   "toc_position": {
    "height": "calc(100% - 180px)",
    "left": "10px",
    "top": "150px",
    "width": "218.026px"
   },
   "toc_section_display": true,
   "toc_window_display": true
  }
 },
 "nbformat": 4,
 "nbformat_minor": 5
}
