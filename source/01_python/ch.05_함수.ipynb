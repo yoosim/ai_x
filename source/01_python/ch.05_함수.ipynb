{
 "cells": [
  {
   "cell_type": "code",
   "execution_count": 9,
   "id": "cdc0ccb0",
   "metadata": {},
   "outputs": [
    {
     "data": {
      "text/html": [
       "\n",
       "<style>\n",
       "div.container{width:86% !important;}\n",
       "div.cell.code_cell.rendered{width:100%;}\n",
       "div.CodeMirror {font-family:Consolas; font-size:15pt;}\n",
       "div.output {font-size:15pt; font-weight:bold;}\n",
       "div.input {font-family:Consolas; font-size:15pt;}\n",
       "div.prompt {min-width:70px;}\n",
       "div#toc-wrapper{padding-top:120px;}\n",
       "div.text_cell_render ul li{font-size:12pt;padding:5px;}\n",
       "table.dataframe{font-size:15px;}\n",
       "</style>\n",
       " "
      ],
      "text/plain": [
       "<IPython.core.display.HTML object>"
      ]
     },
     "metadata": {},
     "output_type": "display_data"
    }
   ],
   "source": [
    "from IPython.display import display, HTML \n",
    "display(HTML(\"\"\"\n",
    "<style>\n",
    "div.container{width:86% !important;}\n",
    "div.cell.code_cell.rendered{width:100%;}\n",
    "div.CodeMirror {font-family:Consolas; font-size:15pt;}\n",
    "div.output {font-size:15pt; font-weight:bold;}\n",
    "div.input {font-family:Consolas; font-size:15pt;}\n",
    "div.prompt {min-width:70px;}\n",
    "div#toc-wrapper{padding-top:120px;}\n",
    "div.text_cell_render ul li{font-size:12pt;padding:5px;}\n",
    "table.dataframe{font-size:15px;}\n",
    "</style>\n",
    " \"\"\"))"
   ]
  },
  {
   "cell_type": "markdown",
   "id": "e5195136",
   "metadata": {},
   "source": [
    "<span style=\"color: blue; font-size: 24px; font-weight: bold;\">ch05.함수</span>\n",
    "- 사용할 코드를 묶어 놓고 그것에 이름을 붙인 것 : 함수\n",
    "- 같은 이름의 함수를 매개변수를 달리해서 사용 : 오버로딩 (파이썬은 사용이 불가)\n",
    "- 오버로딩(함수 이름이 같고, 매개변수의 타입이나 갯수로 다른 함수를 허용하는 것)불가\n",
    "- def add(a, b):\n",
    "    #print(1)\n",
    "- def add(a):\n",
    "    #print(2) 이렇게 쓰게되면 위에 함수는 사라지고 아래것만 남음\n",
    "- 함수용 언어는 파이썬과 자바스크립트에서 사용\n",
    "    \n",
    "```\n",
    "*변수명 사용하는 방식이랑 똑같음\n",
    "*매개변수가 생략이 가능함.\n",
    "*명령어에 return이 필수로 들어가는것이 아님 선택사항\n",
    "def 함수명([매개변수1,매개변수2,매개변수n])\n",
    "    명령어1\n",
    "    명령어2\n",
    "    명령어n\n",
    "```\n",
    "# 1절. 함수 정의 및 사용"
   ]
  },
  {
   "cell_type": "markdown",
   "id": "4ef790b9",
   "metadata": {},
   "source": [
    "## 1.1 함수 정의 "
   ]
  },
  {
   "cell_type": "code",
   "execution_count": null,
   "id": "d2bab59a",
   "metadata": {},
   "outputs": [],
   "source": [
    "#오버로딩\n",
    "def add(a, b):\n",
    "    print(1)\n",
    "def add(a):\n",
    "    print(2) 위의 함수는 덮어져서 사라지고 아래것만 남음 "
   ]
  },
  {
   "cell_type": "code",
   "execution_count": 11,
   "id": "8c62d7c2",
   "metadata": {},
   "outputs": [],
   "source": [
    "#hello를 호출하면 hello를 5번 만들어주는 함수로 정의함\n",
    "#함수 정의한다고 해서 결과값이 나타나진 않음.\n",
    "#함수를 사용해야 실행이 됨.\n",
    "def hello():\n",
    "    for i in range(5):\n",
    "        print('Hello')"
   ]
  },
  {
   "cell_type": "code",
   "execution_count": 13,
   "id": "348db437",
   "metadata": {},
   "outputs": [
    {
     "name": "stdout",
     "output_type": "stream",
     "text": [
      "Hello\n",
      "Hello\n",
      "Hello\n",
      "Hello\n",
      "Hello\n"
     ]
    },
    {
     "ename": "TypeError",
     "evalue": "hello() takes 0 positional arguments but 1 was given",
     "output_type": "error",
     "traceback": [
      "\u001b[1;31m---------------------------------------------------------------------------\u001b[0m",
      "\u001b[1;31mTypeError\u001b[0m                                 Traceback (most recent call last)",
      "Cell \u001b[1;32mIn[13], line 3\u001b[0m\n\u001b[0;32m      1\u001b[0m \u001b[38;5;66;03m#함수 사용 *앞에서 지정한 매개변수 숫자와 동일해야 함. \u001b[39;00m\n\u001b[0;32m      2\u001b[0m hello()\n\u001b[1;32m----> 3\u001b[0m \u001b[43mhello\u001b[49m\u001b[43m(\u001b[49m\u001b[38;5;241;43m1\u001b[39;49m\u001b[43m)\u001b[49m\n",
      "\u001b[1;31mTypeError\u001b[0m: hello() takes 0 positional arguments but 1 was given"
     ]
    }
   ],
   "source": [
    "#함수 사용 *앞에서 지정한 매개변수 숫자와 동일해야 함. \n",
    "hello()\n",
    "hello(1)"
   ]
  },
  {
   "cell_type": "code",
   "execution_count": 20,
   "id": "e406de82",
   "metadata": {},
   "outputs": [],
   "source": [
    "#함수 정의\n",
    "def my_message(x, msg): #msg를 x번 출력하는 함수\n",
    "    for i in range(x):\n",
    "        print(msg)"
   ]
  },
  {
   "cell_type": "code",
   "execution_count": 21,
   "id": "15ff940d",
   "metadata": {},
   "outputs": [
    {
     "ename": "TypeError",
     "evalue": "my_message() missing 2 required positional arguments: 'x' and 'msg'",
     "output_type": "error",
     "traceback": [
      "\u001b[1;31m---------------------------------------------------------------------------\u001b[0m",
      "\u001b[1;31mTypeError\u001b[0m                                 Traceback (most recent call last)",
      "Cell \u001b[1;32mIn[21], line 2\u001b[0m\n\u001b[0;32m      1\u001b[0m \u001b[38;5;66;03m#함수 사용\u001b[39;00m\n\u001b[1;32m----> 2\u001b[0m \u001b[43mmy_message\u001b[49m\u001b[43m(\u001b[49m\u001b[43m)\u001b[49m\n",
      "\u001b[1;31mTypeError\u001b[0m: my_message() missing 2 required positional arguments: 'x' and 'msg'"
     ]
    }
   ],
   "source": [
    "#함수 사용\n",
    "my_message()  #이렇게 하면 오류남  (x랑 msg가 오류)\n",
    "#포지셔널 매개변수 "
   ]
  },
  {
   "cell_type": "code",
   "execution_count": 22,
   "id": "46daba4b",
   "metadata": {},
   "outputs": [
    {
     "name": "stdout",
     "output_type": "stream",
     "text": [
      "hello\n",
      "hello\n"
     ]
    }
   ],
   "source": [
    "#함수 사용\n",
    "my_message(2, 'hello')  #이렇게 하면 오류남  (x랑 msg가 오류)\n",
    "#포지셔널 매개변수 "
   ]
  },
  {
   "cell_type": "code",
   "execution_count": 23,
   "id": "5380a07c",
   "metadata": {},
   "outputs": [
    {
     "name": "stdout",
     "output_type": "stream",
     "text": [
      "hello\n",
      "hello\n"
     ]
    }
   ],
   "source": [
    "my_msg = my_message #변수에다가 함수를 넣는다? my_msg도 함수로 변환 / 함수를 변수처럼 쓸 수 있다\n",
    "my_msg(2,'hello')"
   ]
  },
  {
   "cell_type": "code",
   "execution_count": 24,
   "id": "3f7dc690",
   "metadata": {},
   "outputs": [
    {
     "data": {
      "text/plain": [
       "(function, function)"
      ]
     },
     "execution_count": 24,
     "metadata": {},
     "output_type": "execute_result"
    }
   ],
   "source": [
    "type(my_msg), type(my_message) "
   ]
  },
  {
   "cell_type": "code",
   "execution_count": 25,
   "id": "2967d566",
   "metadata": {},
   "outputs": [
    {
     "name": "stdout",
     "output_type": "stream",
     "text": [
      "hello\n"
     ]
    }
   ],
   "source": [
    "print('hello') #파이썬 내장함수 (impor 하지않아도 할 수 있는 함수 / 가져오지 않아도 쓸 수 있는 함수 )"
   ]
  },
  {
   "cell_type": "code",
   "execution_count": 26,
   "id": "e03f8961",
   "metadata": {},
   "outputs": [
    {
     "name": "stdout",
     "output_type": "stream",
     "text": [
      "Hello\n",
      "Hello\n"
     ]
    }
   ],
   "source": [
    "my_message(2,'Hello')"
   ]
  },
  {
   "cell_type": "code",
   "execution_count": 27,
   "id": "abe56e59",
   "metadata": {},
   "outputs": [],
   "source": [
    "#my_message = 5"
   ]
  },
  {
   "cell_type": "code",
   "execution_count": 29,
   "id": "01c236a0",
   "metadata": {},
   "outputs": [
    {
     "ename": "SyntaxError",
     "evalue": "invalid syntax (3482650259.py, line 1)",
     "output_type": "error",
     "traceback": [
      "\u001b[1;36m  Cell \u001b[1;32mIn[29], line 1\u001b[1;36m\u001b[0m\n\u001b[1;33m    def my_message\u001b[0m\n\u001b[1;37m                  ^\u001b[0m\n\u001b[1;31mSyntaxError\u001b[0m\u001b[1;31m:\u001b[0m invalid syntax\n"
     ]
    }
   ],
   "source": [
    "def my_message\n",
    "#변수를 삭제해도 함수 사용불가(파이썬 내장함수가 아니라서)"
   ]
  },
  {
   "cell_type": "code",
   "execution_count": 30,
   "id": "b7a70d39",
   "metadata": {},
   "outputs": [],
   "source": [
    "my_message(2,'Hello')  #내장함수가 아니면 del을 해도 다 날아감(삭제됨)"
   ]
  },
  {
   "cell_type": "code",
   "execution_count": 11,
   "id": "331223bb",
   "metadata": {},
   "outputs": [],
   "source": [
    "#함수 정의 (함수를 만들뿐 실행되진 않음)\n",
    "def my_hello():\n",
    "    print('hello, python')\n",
    "    print('hello, world')\n",
    "def my_hello(cnt):\n",
    "    for i in range(cnt):\n",
    "        print('hello, python')\n",
    "        print('hello, world') \n",
    "        print('fo ao ad nmd cndm')"
   ]
  },
  {
   "cell_type": "code",
   "execution_count": 12,
   "id": "d4216091",
   "metadata": {},
   "outputs": [
    {
     "name": "stdout",
     "output_type": "stream",
     "text": [
      "hello, python\n",
      "hello, world\n",
      "fo ao ad nmd cndm\n",
      "hello, python\n",
      "hello, world\n",
      "fo ao ad nmd cndm\n"
     ]
    }
   ],
   "source": [
    "#함수 호출 = 함수 사용\n",
    "my_hello(2)"
   ]
  },
  {
   "cell_type": "code",
   "execution_count": 13,
   "id": "b8bd1406",
   "metadata": {},
   "outputs": [
    {
     "data": {
      "text/plain": [
       "<function __main__.my_hello(cnt)>"
      ]
     },
     "execution_count": 13,
     "metadata": {},
     "output_type": "execute_result"
    }
   ],
   "source": [
    "my_hello  #__main__?"
   ]
  },
  {
   "cell_type": "code",
   "execution_count": 21,
   "id": "a5d9b5d8",
   "metadata": {},
   "outputs": [
    {
     "name": "stdout",
     "output_type": "stream",
     "text": [
      "hello, python\n",
      "hello, world\n",
      "fo ao ad nmd cndm\n",
      "hello, python\n",
      "hello, world\n",
      "fo ao ad nmd cndm\n",
      "hello, python\n",
      "hello, world\n",
      "fo ao ad nmd cndm\n",
      "hello, python\n",
      "hello, world\n",
      "fo ao ad nmd cndm\n"
     ]
    }
   ],
   "source": [
    "if __name__=='__main__':\n",
    "    my_hello(4)"
   ]
  },
  {
   "cell_type": "code",
   "execution_count": 22,
   "id": "112d6302",
   "metadata": {},
   "outputs": [
    {
     "name": "stdout",
     "output_type": "stream",
     "text": [
      "hello, python\n",
      "hello, world\n",
      "hello, python\n",
      "hello, world\n"
     ]
    }
   ],
   "source": [
    "import ch05"
   ]
  },
  {
   "cell_type": "code",
   "execution_count": 1,
   "id": "c5c9a04b",
   "metadata": {},
   "outputs": [
    {
     "name": "stdout",
     "output_type": "stream",
     "text": [
      "ch05\n",
      "hello, python\n",
      "hello, world\n",
      "hello, python\n",
      "hello, world\n"
     ]
    }
   ],
   "source": [
    "import ch05"
   ]
  },
  {
   "cell_type": "code",
   "execution_count": 2,
   "id": "e3b51f0d",
   "metadata": {},
   "outputs": [],
   "source": [
    "import ch05 #ch05모듈을 load / 실행이 안됨"
   ]
  },
  {
   "cell_type": "code",
   "execution_count": 3,
   "id": "40ae8f60",
   "metadata": {},
   "outputs": [
    {
     "name": "stdout",
     "output_type": "stream",
     "text": [
      "hello, python\n",
      "hello, world\n",
      "hello, python\n",
      "hello, world\n"
     ]
    }
   ],
   "source": [
    "ch05.my_hello(2) #이렇게 해야 실행이 됨"
   ]
  },
  {
   "cell_type": "code",
   "execution_count": 4,
   "id": "a26fc2c7",
   "metadata": {},
   "outputs": [],
   "source": [
    "from ch05 import my_hello #ch05모듈안의 my_hello load  #바로 실행할 수 있는 방법"
   ]
  },
  {
   "cell_type": "code",
   "execution_count": 5,
   "id": "018a3988",
   "metadata": {},
   "outputs": [
    {
     "name": "stdout",
     "output_type": "stream",
     "text": [
      "hello, python\n",
      "hello, world\n",
      "hello, python\n",
      "hello, world\n"
     ]
    }
   ],
   "source": [
    "my_hello(2)  #바로 실행하기"
   ]
  },
  {
   "cell_type": "markdown",
   "id": "3f923ea5",
   "metadata": {},
   "source": [
    "## 1.2 docstring\n",
    "- 함수의 설명\n",
    "- 함수 맨 첫라인에 독스트링을 쓸 수 있음 ',\" 둘중에 상관없음"
   ]
  },
  {
   "cell_type": "code",
   "execution_count": 6,
   "id": "f5587d55",
   "metadata": {},
   "outputs": [],
   "source": [
    "def my_function():  #매개변수가 없더라도 괄호는 꼭 써야 함, 빈 괄호라도\n",
    "    '''\n",
    "    함수의 첫라인에 독스트링을 포함할 수 있습니다.\n",
    "    독스트링은 함수의 설명서를 달아주는 역할\n",
    "    주석보다 많은 기능(shift+tab으로 독스트링을 볼 수 있음)\n",
    "    '''\n",
    "    pass"
   ]
  },
  {
   "cell_type": "code",
   "execution_count": 7,
   "id": "5e131e9c",
   "metadata": {},
   "outputs": [],
   "source": [
    "my_function() "
   ]
  },
  {
   "cell_type": "code",
   "execution_count": 9,
   "id": "f35caae2",
   "metadata": {},
   "outputs": [
    {
     "name": "stdout",
     "output_type": "stream",
     "text": [
      "\n",
      "    함수의 첫라인에 독스트링을 포함할 수 있습니다.\n",
      "    독스트링은 함수의 설명서를 달아주는 역할\n",
      "    주석보다 많은 기능(shift+tab으로 독스트링을 볼 수 있음)\n",
      "    \n"
     ]
    }
   ],
   "source": [
    "print(my_function.__doc__)  #해당 독스트링만 볼 수 있는 방식 .__doc__(doc 앞뒤로 언더바 2번씩)"
   ]
  },
  {
   "cell_type": "code",
   "execution_count": 17,
   "id": "3e6a399d",
   "metadata": {},
   "outputs": [],
   "source": [
    "def fibonacci(n):\n",
    "    a, b = 0, 1\n",
    "    while a <n:   #a가 n보다 작으면 작업\n",
    "        print(a, end=' ')\n",
    "        a, b = b, a+b\n",
    "    print()   #개행은 무조건 뒤에 붙여줌 \n",
    "    #함수 영역에 있는것은 종료 뒤 a,b의 값은 사라짐 / 함수 안에 있는 변수는 삭제됨 "
   ]
  },
  {
   "cell_type": "code",
   "execution_count": 19,
   "id": "f8f36a7a",
   "metadata": {},
   "outputs": [
    {
     "name": "stdout",
     "output_type": "stream",
     "text": [
      "0 1 1 2 3 5 8 13 21 34 55 89 \n"
     ]
    }
   ],
   "source": [
    "fibonacci(100)"
   ]
  },
  {
   "cell_type": "code",
   "execution_count": 20,
   "id": "29f5e73b",
   "metadata": {},
   "outputs": [],
   "source": [
    "if True:\n",
    "    x = 10"
   ]
  },
  {
   "cell_type": "code",
   "execution_count": 21,
   "id": "f2cb4087",
   "metadata": {},
   "outputs": [
    {
     "data": {
      "text/plain": [
       "10"
      ]
     },
     "execution_count": 21,
     "metadata": {},
     "output_type": "execute_result"
    }
   ],
   "source": [
    "x   #밖에서도 값이 살아 있음. 하지만 함수안에 있는것은 없어짐."
   ]
  },
  {
   "cell_type": "markdown",
   "id": "93e7749b",
   "metadata": {},
   "source": [
    "## 1.3 지역변수(local ver)와 전역변수(global var)\n",
    "\n",
    "- <지역변수>\n",
    "- 정의: 지역 변수는 특정 함수 안에서만 유효한 변수. 함수가 호출될 때 생성되고, 함수가 종료되면 사라짐\n",
    "- 특징: 함수 내부에서 선언되며, 그 함수 외부에서는 접근할 수 없음\n",
    "\n",
    "- <전역변수>\n",
    "- 정의:전역 변수는 프로그램 전체에서 접근할 수 있는 변수. 즉, 함수 바깥에 선언된 변수.\n",
    "- 특징: 함수 밖에서 선언되므로 프로그램 어디서든 접근하고 수정할 수 있음\n",
    "\n",
    "- 변수의 우선순위는 로컬테이블>전역테이블>내장된 이름테이블 "
   ]
  },
  {
   "cell_type": "code",
   "execution_count": 23,
   "id": "8638521c",
   "metadata": {},
   "outputs": [
    {
     "name": "stdout",
     "output_type": "stream",
     "text": [
      "함수 안 : 100\n",
      "함수 밖 : 100\n"
     ]
    }
   ],
   "source": [
    "global_var = 100 #전역변수\n",
    "def func1(): \n",
    "    print('함수 안 :',global_var) \n",
    "func1()\n",
    "print(\"함수 밖 :\",global_var)\n",
    "\n",
    "#함수의 안밖 모두에서 사용 가능 "
   ]
  },
  {
   "cell_type": "code",
   "execution_count": 25,
   "id": "9e4101aa",
   "metadata": {},
   "outputs": [
    {
     "name": "stdout",
     "output_type": "stream",
     "text": [
      "함수 안 : 200\n"
     ]
    },
    {
     "ename": "NameError",
     "evalue": "name 'local_var' is not defined",
     "output_type": "error",
     "traceback": [
      "\u001b[1;31m---------------------------------------------------------------------------\u001b[0m",
      "\u001b[1;31mNameError\u001b[0m                                 Traceback (most recent call last)",
      "Cell \u001b[1;32mIn[25], line 5\u001b[0m\n\u001b[0;32m      3\u001b[0m     \u001b[38;5;28mprint\u001b[39m(\u001b[38;5;124m'\u001b[39m\u001b[38;5;124m함수 안 :\u001b[39m\u001b[38;5;124m'\u001b[39m, local_var)\n\u001b[0;32m      4\u001b[0m func2()\n\u001b[1;32m----> 5\u001b[0m \u001b[38;5;28mprint\u001b[39m(\u001b[38;5;124m'\u001b[39m\u001b[38;5;124m함수 밖 :\u001b[39m\u001b[38;5;124m'\u001b[39m, \u001b[43mlocal_var\u001b[49m)\n",
      "\u001b[1;31mNameError\u001b[0m: name 'local_var' is not defined"
     ]
    }
   ],
   "source": [
    "def func2():\n",
    "    local_var = 200 #지역변수\n",
    "    print('함수 안 :', local_var)\n",
    "func2()\n",
    "print('함수 밖 :', local_var)"
   ]
  },
  {
   "cell_type": "code",
   "execution_count": 31,
   "id": "509a31a1",
   "metadata": {},
   "outputs": [
    {
     "name": "stdout",
     "output_type": "stream",
     "text": [
      "함수 안(지역변수 g_var): 200\n",
      "함수 안(전역변수 g_var): 100\n"
     ]
    }
   ],
   "source": [
    "g_var = 100      #전역변수 , 변수를 선언하는것과 동일\n",
    "def func3():\n",
    "    g_var = 200    #지역변수 (변수선언,변수할당을 여기서 함..)\n",
    "    print('함수 안(지역변수 g_var):', g_var) \n",
    "func3()\n",
    "print('함수 안(전역변수 g_var):',g_var) #전역변수"
   ]
  },
  {
   "cell_type": "code",
   "execution_count": 36,
   "id": "c016f0f5",
   "metadata": {},
   "outputs": [
    {
     "ename": "UnboundLocalError",
     "evalue": "local variable 'g_var' referenced before assignment",
     "output_type": "error",
     "traceback": [
      "\u001b[1;31m---------------------------------------------------------------------------\u001b[0m",
      "\u001b[1;31mUnboundLocalError\u001b[0m                         Traceback (most recent call last)",
      "Cell \u001b[1;32mIn[36], line 5\u001b[0m\n\u001b[0;32m      3\u001b[0m     \u001b[38;5;28mprint\u001b[39m(\u001b[38;5;124m'\u001b[39m\u001b[38;5;124m함수 안(g_var):\u001b[39m\u001b[38;5;124m'\u001b[39m, g_var)\n\u001b[0;32m      4\u001b[0m     g_var \u001b[38;5;241m=\u001b[39m \u001b[38;5;241m200\u001b[39m  \u001b[38;5;66;03m#함수 선언을 먼저 컴파일해서 100이 아닌 200으로 출력\u001b[39;00m\n\u001b[1;32m----> 5\u001b[0m \u001b[43mfunc4\u001b[49m\u001b[43m(\u001b[49m\u001b[43m)\u001b[49m\n",
      "Cell \u001b[1;32mIn[36], line 3\u001b[0m, in \u001b[0;36mfunc4\u001b[1;34m()\u001b[0m\n\u001b[0;32m      2\u001b[0m \u001b[38;5;28;01mdef\u001b[39;00m \u001b[38;5;21mfunc4\u001b[39m():\n\u001b[1;32m----> 3\u001b[0m     \u001b[38;5;28mprint\u001b[39m(\u001b[38;5;124m'\u001b[39m\u001b[38;5;124m함수 안(g_var):\u001b[39m\u001b[38;5;124m'\u001b[39m, \u001b[43mg_var\u001b[49m)\n\u001b[0;32m      4\u001b[0m     g_var \u001b[38;5;241m=\u001b[39m \u001b[38;5;241m200\u001b[39m\n",
      "\u001b[1;31mUnboundLocalError\u001b[0m: local variable 'g_var' referenced before assignment"
     ]
    }
   ],
   "source": [
    "#렉시컬 특성 \n",
    "g_var = 100 #전역변수\n",
    "def func4():\n",
    "    print('함수 안(g_var):', g_var)\n",
    "    g_var = 200  #함수 선언을 먼저 해석해서 100이 아닌 200으로 지역변수 설정\n",
    "func4()  #g_var값이 없어서 오류가 남"
   ]
  },
  {
   "cell_type": "code",
   "execution_count": 43,
   "id": "51e187b1",
   "metadata": {},
   "outputs": [
    {
     "name": "stdout",
     "output_type": "stream",
     "text": [
      "함수 안(g_var): 100\n",
      "함수 밖(g_var) : 600\n"
     ]
    }
   ],
   "source": [
    "# 렉시컬 특성\n",
    "\n",
    "g_var = 100 #전역변수\n",
    "def func4():\n",
    "    global g_var #func4()함수내의 g_val는 전역변수를 쓰면 함수안에 지역변수가 전역변수가 된다는 정의 재정립\n",
    "    print('함수 안(g_var):', g_var)\n",
    "    g_var = 600  #지역 변수에서 전역변수로 변경\n",
    "func4()\n",
    "print('함수 밖(g_var) :', g_var)"
   ]
  },
  {
   "cell_type": "markdown",
   "id": "501da35b",
   "metadata": {},
   "source": [
    "## 1.4값에 의한 호출\n",
    "- 함수의 매개변수(인수 또는 인자)로 전달되는 변수가 스칼라 변수(문자, 숫자, 논리형)일 때 "
   ]
  },
  {
   "cell_type": "code",
   "execution_count": 50,
   "id": "5321c2c1",
   "metadata": {},
   "outputs": [
    {
     "data": {
      "text/plain": [
       "1648850528048"
      ]
     },
     "execution_count": 50,
     "metadata": {},
     "output_type": "execute_result"
    }
   ],
   "source": [
    "foo = 'a' #전역변수\n",
    "id(foo)"
   ]
  },
  {
   "cell_type": "code",
   "execution_count": 52,
   "id": "de7f490a",
   "metadata": {},
   "outputs": [
    {
     "name": "stdout",
     "output_type": "stream",
     "text": [
      "Before : a id(f) : 1648850528048\n",
      "After : aaa id(f) : 1648965949104\n"
     ]
    }
   ],
   "source": [
    "def func1(f): #매개변수(f)는 지역변수\n",
    "    print('Before :', f, 'id(f) :', id(f))\n",
    "    f = f*3\n",
    "    print('After :', f ,'id(f) :', id(f))\n",
    "func1(foo)"
   ]
  },
  {
   "cell_type": "code",
   "execution_count": 54,
   "id": "8011a3de",
   "metadata": {},
   "outputs": [
    {
     "name": "stdout",
     "output_type": "stream",
     "text": [
      "a id(foo) : 1648850528048\n"
     ]
    }
   ],
   "source": [
    "print(foo, 'id(foo) :', id(foo)) #주소가 아닌 값만 전달 "
   ]
  },
  {
   "cell_type": "markdown",
   "id": "eab8807b",
   "metadata": {},
   "source": [
    "## 1.5 참조에 의한 호출\n",
    "- 함수의 매개변수(인수 또는 인자)로 전달되는 변수가 리스트, 튜플, 딕셔너리, 셋, 객체(넌파이,판다스 등)일 경우"
   ]
  },
  {
   "cell_type": "code",
   "execution_count": 47,
   "id": "ea09b351",
   "metadata": {},
   "outputs": [
    {
     "data": {
      "text/plain": [
       "1648965982720"
      ]
     },
     "execution_count": 47,
     "metadata": {},
     "output_type": "execute_result"
    }
   ],
   "source": [
    "L = [1, 2, 3, 4, 5]\n",
    "id(L)"
   ]
  },
  {
   "cell_type": "code",
   "execution_count": 55,
   "id": "397c3939",
   "metadata": {},
   "outputs": [
    {
     "name": "stdout",
     "output_type": "stream",
     "text": [
      "Before : [1, 2, 3, 4, 5, 6] id(f) : 1648965982720\n",
      "After : [1, 2, 3, 4, 5, 6, 6] id(f) : 1648965982720\n"
     ]
    }
   ],
   "source": [
    "def func2(f): #매개변수(f)는 지역변수\n",
    "    print('Before :' , f, 'id(f) :', id(f))\n",
    "    #f = [2,2]   #이런것은 안 한다. 왜냐하면 앞에서 정의한 변수가 사라지기에.\n",
    "    f.append(6)\n",
    "    print('After :', f,'id(f) :', id(f))\n",
    "func2(L)"
   ]
  },
  {
   "cell_type": "code",
   "execution_count": 56,
   "id": "53452512",
   "metadata": {},
   "outputs": [
    {
     "name": "stdout",
     "output_type": "stream",
     "text": [
      "[1, 2, 3, 4, 5, 6, 6] L = 1648965982720\n"
     ]
    }
   ],
   "source": [
    "print(L, 'L =', id(L))"
   ]
  },
  {
   "cell_type": "markdown",
   "id": "4da92577",
   "metadata": {},
   "source": [
    "### 스칼라 데이터(immutable 객체)와mutable 객체 차이 \n",
    "<스칼라 데이터 타입 vs. 리스트>\n",
    "- 스칼라 데이터 타입 (int, float, str 등)은 immutable이라 값을 복사한 뒤 함수로 전달되고, 그 값은 함수 안에서만 유효하고 원본 값에는 영향을 미치지 않아.\n",
    "- \n",
    "\n",
    "- 리스트, 딕셔너리, 세트 같은 mutable 데이터 타입은 참조에 의한 호출처럼 동작해서, 함수 안에서 그 값을 변경하면 원본 값이 바뀌어.\n",
    "-append,pop등을 사용"
   ]
  },
  {
   "cell_type": "markdown",
   "id": "064d5cb5",
   "metadata": {},
   "source": [
    "# 2절. 함수의 실행결과를 반환하는 return\n",
    "- return뒤에 문법은 수행하지 않음.\n",
    "- "
   ]
  },
  {
   "cell_type": "code",
   "execution_count": 68,
   "id": "91996ff4",
   "metadata": {},
   "outputs": [],
   "source": [
    "def add(a):\n",
    "    pass"
   ]
  },
  {
   "cell_type": "code",
   "execution_count": 69,
   "id": "847909c6",
   "metadata": {},
   "outputs": [],
   "source": [
    "add(10)   #실행하면 아무값도 안 들어옴. "
   ]
  },
  {
   "cell_type": "code",
   "execution_count": 70,
   "id": "04f654e6",
   "metadata": {},
   "outputs": [
    {
     "name": "stdout",
     "output_type": "stream",
     "text": [
      "None\n"
     ]
    }
   ],
   "source": [
    "print(add(10)) #return이 없는값은 아무것도 없는 none이 남음"
   ]
  },
  {
   "cell_type": "code",
   "execution_count": 72,
   "id": "0409dca9",
   "metadata": {},
   "outputs": [],
   "source": [
    "def fibonacci_print(n):\n",
    "    '''\n",
    "    매개변수로 들어온 n값 미만의 피보나치 수열을 출력\n",
    "    ex) n=10이면 0 1 1 2 3 5 8 을 출력\n",
    "    '''\n",
    "    a, b = 0, 1\n",
    "    while a <n:   #a가 n보다 작으면 작업\n",
    "        print(a, end=' ')\n",
    "        a, b = b, a+b\n",
    "    print()   #개행은 무조건 뒤에 붙여줌 \n",
    "    #함수 영역에 있는것은 종료 뒤 a,b의 값은 사라짐 / 함수 안에 있는 변수는 삭제됨 "
   ]
  },
  {
   "cell_type": "code",
   "execution_count": 73,
   "id": "7bb1cc78",
   "metadata": {},
   "outputs": [],
   "source": [
    "def fibonacci_return(n):\n",
    "    '''\n",
    "    매개변수로 들어온 n값 미만의 피보나치 수열을 리스트로 return\n",
    "    ex) n=10이면 [0 1 1 2 3 5 8]을 return\n",
    "    '''\n",
    "    result = [] #리턴하는 변수가 있다면 젤 위에다 변수 작성\n",
    "    a, b = 0, 1\n",
    "    while a<n:\n",
    "        result.append(a)\n",
    "        a, b = b, a+b\n",
    "    return result       #하나만 리턴할 수 있음  "
   ]
  },
  {
   "cell_type": "code",
   "execution_count": 75,
   "id": "5bb39439",
   "metadata": {},
   "outputs": [],
   "source": [
    "x = fibonacci_return(10)"
   ]
  },
  {
   "cell_type": "code",
   "execution_count": 77,
   "id": "e15d24e8",
   "metadata": {},
   "outputs": [
    {
     "name": "stdout",
     "output_type": "stream",
     "text": [
      "[0, 1, 1, 2, 3, 5, 8]\n",
      "<class 'list'>\n"
     ]
    }
   ],
   "source": [
    "print(x)\n",
    "print(type(x))"
   ]
  },
  {
   "cell_type": "markdown",
   "id": "e445c267",
   "metadata": {},
   "source": [
    "## 여러개 값 return \n",
    "- 튜플로 패킹해서 전달하다."
   ]
  },
  {
   "cell_type": "code",
   "execution_count": 82,
   "id": "5ef88aac",
   "metadata": {},
   "outputs": [],
   "source": [
    "def swap(a, b):\n",
    "    '매개변수의 순서를 바꿔서 return'\n",
    "    return b,a  #튜플로 저장 "
   ]
  },
  {
   "cell_type": "code",
   "execution_count": 83,
   "id": "6e97448e",
   "metadata": {},
   "outputs": [
    {
     "name": "stdout",
     "output_type": "stream",
     "text": [
      "함수 실행 전 x=5, y=10\n",
      "함수 실행 후 x=10, y=5\n"
     ]
    }
   ],
   "source": [
    "x, y = 5, 10\n",
    "print(f'함수 실행 전 x={x}, y={y}')\n",
    "x, y = swap(x, y)  #swep(x,y) = (10,5)로 바뀜 \n",
    "print(f'함수 실행 후 x={x}, y={y}')"
   ]
  },
  {
   "cell_type": "markdown",
   "id": "cca84257",
   "metadata": {},
   "source": [
    "# ✨ 3절. 함수 매개변수 ✨\n",
    "- <매개변수와 인수의 순서>\n",
    "- 인수의 순서 : 순서인수, 튜플인수, 키워드 인수, 딕셔너리인수\n",
    "* 순서인수 : 순서대로 저장"
   ]
  },
  {
   "cell_type": "markdown",
   "id": "3a20f102",
   "metadata": {},
   "source": [
    "## 3.1  기본 값을 갖는 매개변수"
   ]
  },
  {
   "cell_type": "code",
   "execution_count": 94,
   "id": "c2558200",
   "metadata": {},
   "outputs": [],
   "source": [
    "def make_url(ip, port=80):   #80이 메인 사이트 , 80은 상수\n",
    "    return \"http://{}:{}\".format(ip,port)"
   ]
  },
  {
   "cell_type": "code",
   "execution_count": 90,
   "id": "a51786a8",
   "metadata": {},
   "outputs": [
    {
     "ename": "SyntaxError",
     "evalue": "non-default argument follows default argument (3497067061.py, line 1)",
     "output_type": "error",
     "traceback": [
      "\u001b[1;36m  Cell \u001b[1;32mIn[90], line 1\u001b[1;36m\u001b[0m\n\u001b[1;33m    def make_url(port=80, ip):   #순서가 바뀌면?\u001b[0m\n\u001b[1;37m                          ^\u001b[0m\n\u001b[1;31mSyntaxError\u001b[0m\u001b[1;31m:\u001b[0m non-default argument follows default argument\n"
     ]
    }
   ],
   "source": [
    "#디폴트값을 가지고 있는 매개변수와 없는걸 같이 쓸 때는 순서인수 > 기본값을 갖는 매개변수로 해야 됨. (ip, port=80 이렇게)\n",
    "def make_url(port=80, ip):   #순서가 바뀌면? 실행이 안 됨..\n",
    "    return \"http://{}:{}\".format(ip,port)"
   ]
  },
  {
   "cell_type": "code",
   "execution_count": 95,
   "id": "1838d316",
   "metadata": {},
   "outputs": [
    {
     "name": "stdout",
     "output_type": "stream",
     "text": [
      "http://www.naver.com:80\n",
      "http://localhost.co:8090\n",
      "http://localhost:8090\n"
     ]
    }
   ],
   "source": [
    "print(make_url('www.naver.com'))\n",
    "print(make_url('localhost.co', 8090))  #내가 지정할 수도 있음\n",
    "print(make_url(port=8090, ip='localhost')) #매개변수를 내가 지정한다면 순서는 의미없음. "
   ]
  },
  {
   "cell_type": "markdown",
   "id": "25b1c1e9",
   "metadata": {},
   "source": [
    "## 3.2 기본 변수를 갖는 매개변수\n",
    "- 기본 변수가 스칼라 변수일때 <함수가 정의되는 시점의 값으로 이동>\n",
    "- 기본 변수가 리스트나 셋이나, 딕셔너리 등의 객체일때 <호출하는 값으로 이동>\n",
    "\n",
    "- 튜플일때는 변할 수 없어서 상관없음\n"
   ]
  },
  {
   "cell_type": "code",
   "execution_count": 1,
   "id": "28fe1e66",
   "metadata": {},
   "outputs": [],
   "source": [
    "i = 5\n",
    "#기본값을 갖는 변수가 스칼라 변수일 때 : arg의 기본값은 함수가 정의되는 시점의 값.\n",
    "\n",
    "def func2(arg=i):\n",
    "    print('arg =', arg )"
   ]
  },
  {
   "cell_type": "code",
   "execution_count": 2,
   "id": "9d37114d",
   "metadata": {},
   "outputs": [
    {
     "name": "stdout",
     "output_type": "stream",
     "text": [
      "arg = 5\n"
     ]
    }
   ],
   "source": [
    "i = 50\n",
    "func2()"
   ]
  },
  {
   "cell_type": "code",
   "execution_count": 1,
   "id": "d7acc9b0",
   "metadata": {},
   "outputs": [],
   "source": [
    "list_ = []\n",
    "#기본값을 갖는 변수가 객체(데이터구조:리스트 등)일 때 : ars의 기본값은 실행(호출)되는 시점의 값.\n",
    "def func3(data, L=list_):\n",
    "    'data를 L에 append(list 1개 증가)'\n",
    "    L.append(data)\n",
    "    return L"
   ]
  },
  {
   "cell_type": "code",
   "execution_count": 3,
   "id": "fbb6c9b3",
   "metadata": {},
   "outputs": [
    {
     "name": "stdout",
     "output_type": "stream",
     "text": [
      "[10]\n"
     ]
    }
   ],
   "source": [
    "print(func3(10)) #list_가 수정이 됨. 빈리스트에서 "
   ]
  },
  {
   "cell_type": "code",
   "execution_count": 5,
   "id": "fc00486f",
   "metadata": {},
   "outputs": [
    {
     "name": "stdout",
     "output_type": "stream",
     "text": [
      "[10, 20]\n"
     ]
    }
   ],
   "source": [
    "print(func3(20))"
   ]
  },
  {
   "cell_type": "code",
   "execution_count": null,
   "id": "36cb5c0e",
   "metadata": {},
   "outputs": [],
   "source": [
    "def func4(data, L=None): #순서인수가 앞에\n",
    "    if L==None:\n",
    "        L = []\n",
    "    L.append(data)\n",
    "    return L\n",
    "    #L.append(data) 2번째 매개변수가 none이라서 오류"
   ]
  },
  {
   "cell_type": "code",
   "execution_count": null,
   "id": "ec50acdf",
   "metadata": {},
   "outputs": [],
   "source": [
    "print(func4(10))\n",
    "print(func4(10, list_))"
   ]
  },
  {
   "cell_type": "markdown",
   "id": "76dff7ca",
   "metadata": {},
   "source": [
    "## 3.3 튜플 매개변수를 이용한 가변인수 설정"
   ]
  },
  {
   "cell_type": "code",
   "execution_count": null,
   "id": "ce74e5f3",
   "metadata": {},
   "outputs": [],
   "source": [
    "# 파이썬은 오버로딩(함수의 중복)을 지원하지 않습니다.\n",
    "def add(a, b):\n",
    "    return a+b\n",
    "def add(a, b, c):\n",
    "    return a+b+c "
   ]
  },
  {
   "cell_type": "code",
   "execution_count": 13,
   "id": "0758944d",
   "metadata": {},
   "outputs": [],
   "source": [
    "#*args:매개변수들을 하나의 튜플변수 args로 전달받음\n",
    "def add(*args):\n",
    "    '전달받은 매개변수들의 합을 return'\n",
    "    #print('args =',args)\n",
    "\n",
    "    result_tot = 0 #누적변수\n",
    "    for data in args:\n",
    "        result_tot += data\n",
    "    return result_tot\n",
    "    \n",
    "#add(1,2,3,4,5,6)"
   ]
  },
  {
   "cell_type": "code",
   "execution_count": 16,
   "id": "8529b3e6",
   "metadata": {},
   "outputs": [
    {
     "name": "stdout",
     "output_type": "stream",
     "text": [
      "1\n",
      "3\n",
      "78\n"
     ]
    }
   ],
   "source": [
    "print(add(1))\n",
    "print(add(1,2))\n",
    "print(add(1,2,3,5,67,))"
   ]
  },
  {
   "cell_type": "code",
   "execution_count": 17,
   "id": "d517bbcb",
   "metadata": {},
   "outputs": [
    {
     "data": {
      "text/plain": [
       "'python/oracle/DL/ML'"
      ]
     },
     "execution_count": 17,
     "metadata": {},
     "output_type": "execute_result"
    }
   ],
   "source": [
    "subject = ('python', 'oracle','DL', 'ML')\n",
    "'/'.join(subject)"
   ]
  },
  {
   "cell_type": "code",
   "execution_count": 19,
   "id": "48f8ba3a",
   "metadata": {},
   "outputs": [],
   "source": [
    "def concat(*subject, sep):  #* 매개변수 여러개를 받을 수 있다?\n",
    "    return sep.join(subject)"
   ]
  },
  {
   "cell_type": "code",
   "execution_count": 20,
   "id": "06d77447",
   "metadata": {},
   "outputs": [
    {
     "ename": "TypeError",
     "evalue": "concat() missing 1 required keyword-only argument: 'sep'",
     "output_type": "error",
     "traceback": [
      "\u001b[1;31m---------------------------------------------------------------------------\u001b[0m",
      "\u001b[1;31mTypeError\u001b[0m                                 Traceback (most recent call last)",
      "Cell \u001b[1;32mIn[20], line 1\u001b[0m\n\u001b[1;32m----> 1\u001b[0m \u001b[43mconcat\u001b[49m\u001b[43m(\u001b[49m\u001b[38;5;124;43m'\u001b[39;49m\u001b[38;5;124;43mpython\u001b[39;49m\u001b[38;5;124;43m'\u001b[39;49m\u001b[43m,\u001b[49m\u001b[43m \u001b[49m\u001b[38;5;124;43m'\u001b[39;49m\u001b[38;5;124;43moracle\u001b[39;49m\u001b[38;5;124;43m'\u001b[39;49m\u001b[43m,\u001b[49m\u001b[38;5;124;43m'\u001b[39;49m\u001b[38;5;124;43mDL\u001b[39;49m\u001b[38;5;124;43m'\u001b[39;49m\u001b[43m,\u001b[49m\u001b[43m \u001b[49m\u001b[38;5;124;43m'\u001b[39;49m\u001b[38;5;124;43mML\u001b[39;49m\u001b[38;5;124;43m'\u001b[39;49m\u001b[43m,\u001b[49m\u001b[38;5;124;43m'\u001b[39;49m\u001b[38;5;124;43m/\u001b[39;49m\u001b[38;5;124;43m'\u001b[39;49m\u001b[43m)\u001b[49m\n",
      "\u001b[1;31mTypeError\u001b[0m: concat() missing 1 required keyword-only argument: 'sep'"
     ]
    }
   ],
   "source": [
    "concat('python', 'oracle','DL', 'ML','/')"
   ]
  },
  {
   "cell_type": "code",
   "execution_count": 22,
   "id": "4622b849",
   "metadata": {},
   "outputs": [
    {
     "name": "stdout",
     "output_type": "stream",
     "text": [
      "python oracle DL ML /\n"
     ]
    }
   ],
   "source": [
    "print('python', 'oracle','DL', 'ML','/')"
   ]
  },
  {
   "cell_type": "code",
   "execution_count": 23,
   "id": "96ddcf0e",
   "metadata": {},
   "outputs": [
    {
     "data": {
      "text/plain": [
       "'python/oracle/DL/ML'"
      ]
     },
     "execution_count": 23,
     "metadata": {},
     "output_type": "execute_result"
    }
   ],
   "source": [
    "#(비추)해결책1 : 매개변수 이름을 지정해서 호출\n",
    "concat('python', 'oracle','DL', 'ML',sep='/')"
   ]
  },
  {
   "cell_type": "code",
   "execution_count": 49,
   "id": "cdc97411",
   "metadata": {},
   "outputs": [],
   "source": [
    "#해결책2 :기본값을 갖는 키워드인수 사용 / 키워드인수가 없으면 안됨. / 키워드 인수가 뒤에 있어야 함. \n",
    "def concat (*subject, sep='~'):  #기본값을 가진 키워드앞에 \n",
    "    return sep.join(subject)"
   ]
  },
  {
   "cell_type": "code",
   "execution_count": 28,
   "id": "e928e043",
   "metadata": {},
   "outputs": [
    {
     "name": "stdout",
     "output_type": "stream",
     "text": [
      "python oracle DL ML /\n"
     ]
    }
   ],
   "source": [
    "print('python', 'oracle','DL', 'ML',sep='/') #"
   ]
  },
  {
   "cell_type": "code",
   "execution_count": 42,
   "id": "c7108489",
   "metadata": {},
   "outputs": [],
   "source": [
    "#해결책3 : sep을 순서인수로 앞에 선언. \n",
    "def concap(sep=' ~ ', *subject): #여기서 sep은 순서인수, 기본값을 가지게 하면 안됨....무의미해짐\n",
    "    return sep.join(subject)"
   ]
  },
  {
   "cell_type": "code",
   "execution_count": 48,
   "id": "054a883a",
   "metadata": {},
   "outputs": [
    {
     "data": {
      "text/plain": [
       "'python/oracle/DL/ML'"
      ]
     },
     "execution_count": 48,
     "metadata": {},
     "output_type": "execute_result"
    }
   ],
   "source": [
    "concap('/', 'python', 'oracle','DL', 'ML') #'/'첫번째 매개변수 생략이 안 됨. "
   ]
  },
  {
   "cell_type": "markdown",
   "id": "f59fcf95",
   "metadata": {},
   "source": [
    "## 3.4 딕셔너리 매개변수\n",
    "- 여러개의 키워드인수를 딕셔너리 형태로 받아서 가변키워드 인수로 처리"
   ]
  },
  {
   "cell_type": "code",
   "execution_count": 53,
   "id": "919cfbee",
   "metadata": {},
   "outputs": [],
   "source": [
    "def func5(kwargs):        #여기서 kwargs는 순서인수 \n",
    "    print(kwargs)"
   ]
  },
  {
   "cell_type": "code",
   "execution_count": 57,
   "id": "2eefcc1a",
   "metadata": {},
   "outputs": [
    {
     "ename": "TypeError",
     "evalue": "func5() got an unexpected keyword argument 'name'",
     "output_type": "error",
     "traceback": [
      "\u001b[1;31m---------------------------------------------------------------------------\u001b[0m",
      "\u001b[1;31mTypeError\u001b[0m                                 Traceback (most recent call last)",
      "Cell \u001b[1;32mIn[57], line 1\u001b[0m\n\u001b[1;32m----> 1\u001b[0m \u001b[43mfunc5\u001b[49m\u001b[43m(\u001b[49m\u001b[43mname\u001b[49m\u001b[38;5;241;43m=\u001b[39;49m\u001b[38;5;124;43m'\u001b[39;49m\u001b[38;5;124;43m홍길동\u001b[39;49m\u001b[38;5;124;43m'\u001b[39;49m\u001b[43m,\u001b[49m\u001b[43m \u001b[49m\u001b[43mage\u001b[49m\u001b[38;5;241;43m=\u001b[39;49m\u001b[38;5;241;43m30\u001b[39;49m\u001b[43m,\u001b[49m\u001b[43m \u001b[49m\u001b[43maddres\u001b[49m\u001b[38;5;241;43m=\u001b[39;49m\u001b[38;5;124;43m'\u001b[39;49m\u001b[38;5;124;43m신림동\u001b[39;49m\u001b[38;5;124;43m'\u001b[39;49m\u001b[43m,\u001b[49m\u001b[43m \u001b[49m\u001b[43mphone\u001b[49m\u001b[38;5;241;43m=\u001b[39;49m\u001b[38;5;124;43m'\u001b[39;49m\u001b[38;5;124;43m010\u001b[39;49m\u001b[38;5;124;43m'\u001b[39;49m\u001b[43m)\u001b[49m\n",
      "\u001b[1;31mTypeError\u001b[0m: func5() got an unexpected keyword argument 'name'"
     ]
    }
   ],
   "source": [
    "func5(name='홍길동', age=30, addres='신림동', phone='010') #이렇게 하면 오류 발생"
   ]
  },
  {
   "cell_type": "code",
   "execution_count": 60,
   "id": "c3009444",
   "metadata": {},
   "outputs": [],
   "source": [
    "def func5(**kwargs):        #여기서 **kwargs \n",
    "    print(kwargs)\n",
    "    print(type(kwargs))\n",
    "    print('이름 :',kwargs.get('name', '대마왕'))\n",
    "    print('나이 :',kwargs.get('age', '20'))\n",
    "    print('주소 :',kwargs.get('addres', '봉천동'))\n",
    "    print('전화 :',kwargs.get('phone', '02'))"
   ]
  },
  {
   "cell_type": "code",
   "execution_count": 64,
   "id": "c7f781cd",
   "metadata": {},
   "outputs": [
    {
     "name": "stdout",
     "output_type": "stream",
     "text": [
      "{'name': '홍길동', 'age': 30, 'addres': '신림동', 'phone': '010'}\n",
      "<class 'dict'>\n",
      "이름 : 홍길동\n",
      "나이 : 30\n",
      "주소 : 신림동\n",
      "전화 : 010\n"
     ]
    }
   ],
   "source": [
    "func5(name='홍길동', age=30, addres='신림동', phone='010') "
   ]
  },
  {
   "cell_type": "markdown",
   "id": "d8bdb65f",
   "metadata": {},
   "source": [
    "## 3.5 함수정의시 매개변수 순서\n",
    "- (순서) 순서인수>튜플매개변수(*별 1개 작성)>키워드매개변수(매개변수 이름 명시 필수)>딕셔너리매개변수(** 별2개 작성)\n",
    "- 순서인수 : 변수 이름만 있는것 \n",
    "- 튜플인수(매개변수) : ※ 순서인수랑 같이 있으면 순서인수가 앞으로 나와야 함.\n",
    "- 키워드인수 : \n",
    "- 딕셔너리인수"
   ]
  },
  {
   "cell_type": "code",
   "execution_count": 66,
   "id": "7eccbb3c",
   "metadata": {},
   "outputs": [],
   "source": [
    "def func6(a, b, *c, **d):\n",
    "    print('순서인수 :', a)\n",
    "    print('순서인수 :', b)\n",
    "    print('튜플인수 :', c)\n",
    "    print('딕셔너리 인수 :', d)"
   ]
  },
  {
   "cell_type": "code",
   "execution_count": 67,
   "id": "fd47fbfd",
   "metadata": {},
   "outputs": [
    {
     "name": "stdout",
     "output_type": "stream",
     "text": [
      "순서인수 : 10\n",
      "순서인수 : 20\n",
      "튜플인수 : (1, 2, 3, 4, 5, 6, 7)\n",
      "딕셔너리 인수 : {'name': '홍길동', 'age': 30, 'address': '서울'}\n"
     ]
    }
   ],
   "source": [
    "func6(10,20,1,2,3,4,5,6,7, name='홍길동', age=30, address='서울')"
   ]
  },
  {
   "cell_type": "code",
   "execution_count": 68,
   "id": "d31085e8",
   "metadata": {},
   "outputs": [],
   "source": [
    "def func7(a, b, *c, d='기본값', **e):\n",
    "    print('순서인수 :', a)\n",
    "    print('순서인수 :', b)\n",
    "    print('튜플인수 :', c)\n",
    "    print('키워드 인수(기본값을 갖는 인수, 호출시 매개변수 이름 방드시 명시) :', d)\n",
    "    print('딕셔너리 인수 :', e)"
   ]
  },
  {
   "cell_type": "code",
   "execution_count": 72,
   "id": "abc0224d",
   "metadata": {},
   "outputs": [
    {
     "name": "stdout",
     "output_type": "stream",
     "text": [
      "순서인수 : 10\n",
      "순서인수 : 20\n",
      "튜플인수 : (1, 2, 5, 7, 2, 1)\n",
      "키워드 인수(기본값을 갖는 인수, 호출시 매개변수 이름 방드시 명시) : 딴거\n",
      "딕셔너리 인수 : {'naem': '홍길동', 'number': '2', 'color': 'red'}\n"
     ]
    }
   ],
   "source": [
    "func7(10,20,1,2,5,7,2,1, d='딴거', naem='홍길동', number='2', color='red') #d=이후 기본값으로 변경 "
   ]
  },
  {
   "cell_type": "code",
   "execution_count": 73,
   "id": "6f3f1424",
   "metadata": {},
   "outputs": [
    {
     "name": "stdout",
     "output_type": "stream",
     "text": [
      "순서인수 : 10\n",
      "순서인수 : 20\n",
      "튜플인수 : (1, 2, 5, 7, 2, 1, '딴거')\n",
      "키워드 인수(기본값을 갖는 인수, 호출시 매개변수 이름 방드시 명시) : 기본값\n",
      "딕셔너리 인수 : {'naem': '홍길동', 'number': '2', 'color': 'red'}\n"
     ]
    }
   ],
   "source": [
    "func7(10,20,1,2,5,7,2,1,'딴거', naem='홍길동', number='2', color='red') \n",
    "#d=를 빼면 '딴거'가 튜플인수에 포함되고 d=에는 기본값이 나타남"
   ]
  },
  {
   "cell_type": "markdown",
   "id": "2199e664",
   "metadata": {},
   "source": [
    "## 3.6 인수의 언패킹\n",
    "### 튜플 인수 언패킹 \n",
    "\n",
    "- 함수 호출시 매개변수앞에 *(애스터리스크)붙임\n",
    "- 패킹 : 함수 호출 시 매개변수 앞에 *붙임(튜플매개변수)"
   ]
  },
  {
   "cell_type": "code",
   "execution_count": 80,
   "id": "a5bdc156",
   "metadata": {},
   "outputs": [],
   "source": [
    "def add(*args):\n",
    "    print(args)\n",
    "    tot = 0\n",
    "    for num in args:\n",
    "        tot += num\n",
    "    return tot"
   ]
  },
  {
   "cell_type": "code",
   "execution_count": 84,
   "id": "7dfc9f58",
   "metadata": {},
   "outputs": [
    {
     "name": "stdout",
     "output_type": "stream",
     "text": [
      "(1, 2, 3, 4)\n"
     ]
    },
    {
     "data": {
      "text/plain": [
       "10"
      ]
     },
     "execution_count": 84,
     "metadata": {},
     "output_type": "execute_result"
    }
   ],
   "source": [
    "add (1, 2, 3, 4)"
   ]
  },
  {
   "cell_type": "code",
   "execution_count": 85,
   "id": "ddc20326",
   "metadata": {},
   "outputs": [
    {
     "name": "stdout",
     "output_type": "stream",
     "text": [
      "(1, 2, 3, 4)\n"
     ]
    },
    {
     "data": {
      "text/plain": [
       "10"
      ]
     },
     "execution_count": 85,
     "metadata": {},
     "output_type": "execute_result"
    }
   ],
   "source": [
    "numbers = (1, 2, 3, 4)\n",
    "add(*numbers) #언패킹됨 (리스트나 튜플 다 언패킹)"
   ]
  },
  {
   "cell_type": "code",
   "execution_count": 87,
   "id": "b369a3cb",
   "metadata": {},
   "outputs": [
    {
     "name": "stdout",
     "output_type": "stream",
     "text": [
      "(1, 2, 3, 4, 5, 6, 7)\n"
     ]
    },
    {
     "data": {
      "text/plain": [
       "28"
      ]
     },
     "execution_count": 87,
     "metadata": {},
     "output_type": "execute_result"
    }
   ],
   "source": [
    "numbers = (1,2,3,4,5,6,7)\n",
    "add(*numbers)"
   ]
  },
  {
   "cell_type": "markdown",
   "id": "103e7b83",
   "metadata": {},
   "source": [
    "### 딕셔너리 인수 언패킹\n",
    "- 언패킹 : 함수 호출시 매개변수앞에 ** (애스터리스크) 붙임  \n",
    "- 패킹 : 함수 정의 시 매개변수 앞에 ** 붙임"
   ]
  },
  {
   "cell_type": "code",
   "execution_count": 88,
   "id": "7ff0aa8b",
   "metadata": {},
   "outputs": [],
   "source": [
    "def func5(**data):\n",
    "    print(type(data))\n",
    "    for key, item in data.items():\n",
    "        print(f'{key}:{item}')"
   ]
  },
  {
   "cell_type": "code",
   "execution_count": 89,
   "id": "926e3139",
   "metadata": {},
   "outputs": [
    {
     "name": "stdout",
     "output_type": "stream",
     "text": [
      "<class 'dict'>\n",
      "name:홍길동\n",
      "age:30\n",
      "address:신림동\n"
     ]
    }
   ],
   "source": [
    "func5(name=\"홍길동\", age=30, address='신림동')"
   ]
  },
  {
   "cell_type": "code",
   "execution_count": 92,
   "id": "4ff93e1c",
   "metadata": {},
   "outputs": [
    {
     "name": "stdout",
     "output_type": "stream",
     "text": [
      "<class 'dict'>\n",
      "name:홍길동\n",
      "age:30\n",
      "address:서울시 강남구\n",
      "score:900\n"
     ]
    }
   ],
   "source": [
    "customInfo = {'name':'홍길동','age':30,'address':'서울시 강남구','score':900}\n",
    "func5(**customInfo)"
   ]
  },
  {
   "cell_type": "markdown",
   "id": "3f3e13dc",
   "metadata": {},
   "source": [
    "# 4절. 람다식(lambda)\n",
    "- return 한줄짜리 작은 익명함수\n",
    "\n",
    "\n",
    "## 4.1 람다식 연습\n"
   ]
  },
  {
   "cell_type": "code",
   "execution_count": 94,
   "id": "667bd1cc",
   "metadata": {},
   "outputs": [
    {
     "data": {
      "text/plain": [
       "7"
      ]
     },
     "execution_count": 94,
     "metadata": {},
     "output_type": "execute_result"
    }
   ],
   "source": [
    "def add(a, b):\n",
    "    return a+b\n",
    "add(3,4)"
   ]
  },
  {
   "cell_type": "code",
   "execution_count": 95,
   "id": "ea2a3ba6",
   "metadata": {},
   "outputs": [
    {
     "data": {
      "text/plain": [
       "7"
      ]
     },
     "execution_count": 95,
     "metadata": {},
     "output_type": "execute_result"
    }
   ],
   "source": [
    "          #매개변수 a,b  \n",
    "add2 = lambda a, b : a+b\n",
    "add2(3,4)"
   ]
  },
  {
   "cell_type": "code",
   "execution_count": 97,
   "id": "f8ab97a0",
   "metadata": {},
   "outputs": [
    {
     "data": {
      "text/plain": [
       "(function, function)"
      ]
     },
     "execution_count": 97,
     "metadata": {},
     "output_type": "execute_result"
    }
   ],
   "source": [
    "type(add), type(add2)"
   ]
  },
  {
   "cell_type": "code",
   "execution_count": 98,
   "id": "0e093155",
   "metadata": {},
   "outputs": [
    {
     "data": {
      "text/plain": [
       "7"
      ]
     },
     "execution_count": 98,
     "metadata": {},
     "output_type": "execute_result"
    }
   ],
   "source": [
    "(lambda a, b : a+b)(3,4)"
   ]
  },
  {
   "cell_type": "code",
   "execution_count": 99,
   "id": "b8c22176",
   "metadata": {},
   "outputs": [
    {
     "data": {
      "text/plain": [
       "8"
      ]
     },
     "execution_count": 99,
     "metadata": {},
     "output_type": "execute_result"
    }
   ],
   "source": [
    "(lambda a, b : a*b)(2,4)"
   ]
  },
  {
   "cell_type": "code",
   "execution_count": 107,
   "id": "e071c786",
   "metadata": {},
   "outputs": [
    {
     "data": {
      "text/plain": [
       "2"
      ]
     },
     "execution_count": 107,
     "metadata": {},
     "output_type": "execute_result"
    }
   ],
   "source": [
    "(lambda a,b : a//b)(20,7)"
   ]
  },
  {
   "cell_type": "code",
   "execution_count": null,
   "id": "75537cc6",
   "metadata": {},
   "outputs": [],
   "source": [
    "#if 문으로 아래 문제 작성 "
   ]
  },
  {
   "cell_type": "code",
   "execution_count": 131,
   "id": "8a60e248",
   "metadata": {},
   "outputs": [
    {
     "data": {
      "text/plain": [
       "('짝수', '짝수')"
      ]
     },
     "execution_count": 131,
     "metadata": {},
     "output_type": "execute_result"
    }
   ],
   "source": [
    "# ex1. 매개변수를 받아서 들어온 값이 \"짝수\"인지 \"홀수\"인지 return \n",
    "def ex1(num):\n",
    "    return \"홀수\" if num%2 else \"짝수\"\n",
    "ex1 = lambda num : \"홀수\" if num%2 else \"짝수\"\n",
    "ex1(10),ex1(2)"
   ]
  },
  {
   "cell_type": "code",
   "execution_count": null,
   "id": "441e3589",
   "metadata": {},
   "outputs": [],
   "source": [
    "# ex1. 매개변수를 받아서 들어온 값이 \"짝수\"인지 \"홀수\"인지 return \n",
    "#def ex1(num):\n",
    "#    if num%2:\n",
    "#        result = \"홀수\"       \n",
    "#    else:\n",
    "#        result = \"홀수\"\n",
    "#    return result"
   ]
  },
  {
   "cell_type": "code",
   "execution_count": 17,
   "id": "f23c6d9f",
   "metadata": {},
   "outputs": [
    {
     "data": {
      "text/plain": [
       "170"
      ]
     },
     "execution_count": 17,
     "metadata": {},
     "output_type": "execute_result"
    }
   ],
   "source": [
    "# ex 2. 두 매개변수의 차이를 return (*첫번째 매개변수가 클 수도 있고 작은수일수도 있고, 큰수-작은수)\n",
    "#성미 풀이\n",
    "\n",
    "def ex2(first, second):\n",
    "    if first < second: \n",
    "        first, second = second, first               #큰 숫자와 작은 수 바꾸기 \n",
    "    result = first - second\n",
    "    return result\n",
    "\n",
    "ex2(20,190)"
   ]
  },
  {
   "cell_type": "code",
   "execution_count": 18,
   "id": "671a324a",
   "metadata": {},
   "outputs": [
    {
     "data": {
      "text/plain": [
       "(1, 10)"
      ]
     },
     "execution_count": 18,
     "metadata": {},
     "output_type": "execute_result"
    }
   ],
   "source": [
    "#선생님 풀이\n",
    "def diff(a, b):\n",
    "    if a>b:\n",
    "        result = a-b\n",
    "    else:\n",
    "        result = b-a\n",
    "    return result\n",
    "diff(2,1), diff(10,20)"
   ]
  },
  {
   "cell_type": "code",
   "execution_count": null,
   "id": "c6e3509b",
   "metadata": {},
   "outputs": [],
   "source": [
    "def diff(a, b):\n",
    "    result = a-b if a>b else b-a "
   ]
  },
  {
   "cell_type": "code",
   "execution_count": 20,
   "id": "93babfac",
   "metadata": {},
   "outputs": [
    {
     "data": {
      "text/plain": [
       "(1, 10)"
      ]
     },
     "execution_count": 20,
     "metadata": {},
     "output_type": "execute_result"
    }
   ],
   "source": [
    "ex2 = lambda a, b : a-b if a>b else b-a\n",
    "ex2(2,1), ex2(10,20)"
   ]
  },
  {
   "cell_type": "code",
   "execution_count": 110,
   "id": "f659fe2a",
   "metadata": {},
   "outputs": [],
   "source": [
    "# ex 3. 매개변수로 잔액을 받아 양수면 잔액을 return , 음수면 \"땡\"을 return \n",
    "\n",
    "def raf(a):\n",
    "    if a>0:\n",
    "        re\n",
    "    else:\n",
    "        prin"
   ]
  },
  {
   "cell_type": "code",
   "execution_count": 21,
   "id": "95f6bc97",
   "metadata": {},
   "outputs": [
    {
     "data": {
      "text/plain": [
       "(1000, '땡')"
      ]
     },
     "execution_count": 21,
     "metadata": {},
     "output_type": "execute_result"
    }
   ],
   "source": [
    "ex3 = lambda money : money if money>=0 else '땡'\n",
    "ex3(1000), ex3(-100)"
   ]
  },
  {
   "cell_type": "code",
   "execution_count": 29,
   "id": "d0cc8e7b",
   "metadata": {},
   "outputs": [
    {
     "data": {
      "text/plain": [
       "('유효하지않은 점수', '재시험')"
      ]
     },
     "execution_count": 29,
     "metadata": {},
     "output_type": "execute_result"
    }
   ],
   "source": [
    "# ex 4. 점수를 입력받아  80점 이상은 'A'그룹, 60점 이상은 'B'그룹, 60점 미만은 '재시험'. 그외는 유효하지 않음을 출력\n",
    "ex4 = lambda grade : 'A' if 100>=grade >=80 else \\\n",
    "                    'B' if 80>grade>=60 else \\\n",
    "                    '재시험' if 60>grade>0 else \\\n",
    "                    \"유효하지않은 점수\" \n",
    "ex4(120),ex4(20)"
   ]
  },
  {
   "cell_type": "code",
   "execution_count": 31,
   "id": "164f7943",
   "metadata": {},
   "outputs": [
    {
     "data": {
      "text/plain": [
       "(-1, 1)"
      ]
     },
     "execution_count": 31,
     "metadata": {},
     "output_type": "execute_result"
    }
   ],
   "source": [
    "# ex 5. safe_index를 람다식으로 만들기\n",
    "ex5 = lambda vector, data : vector.index(data) if data in vector else -1\n",
    "tup = (1, 2, 3)\n",
    "ex5(tup,4), ex5(tup, 2)"
   ]
  },
  {
   "cell_type": "code",
   "execution_count": null,
   "id": "034b4591",
   "metadata": {},
   "outputs": [],
   "source": [
    "#def safe_index(vector, data):\n",
    "#    if data in vector: # lst안에 data 있는지 여부\n",
    "#        return vector.index(data)\n",
    "#    else:\n",
    "#        return -1"
   ]
  },
  {
   "cell_type": "code",
   "execution_count": null,
   "id": "7b555e5f",
   "metadata": {},
   "outputs": [],
   "source": []
  },
  {
   "cell_type": "code",
   "execution_count": 74,
   "id": "1002b697",
   "metadata": {},
   "outputs": [],
   "source": [
    "#3절 함수 매개변수.. 중요"
   ]
  },
  {
   "cell_type": "code",
   "execution_count": 75,
   "id": "7eb47f46",
   "metadata": {},
   "outputs": [],
   "source": [
    "#스칼라 변수냐 데이터구조 변수냐에 따라서 다름 \n",
    "#남이 짠거로 "
   ]
  },
  {
   "cell_type": "code",
   "execution_count": null,
   "id": "07a9f815",
   "metadata": {},
   "outputs": [],
   "source": []
  }
 ],
 "metadata": {
  "kernelspec": {
   "display_name": "Python 3 (ipykernel)",
   "language": "python",
   "name": "python3"
  },
  "language_info": {
   "codemirror_mode": {
    "name": "ipython",
    "version": 3
   },
   "file_extension": ".py",
   "mimetype": "text/x-python",
   "name": "python",
   "nbconvert_exporter": "python",
   "pygments_lexer": "ipython3",
   "version": "3.10.9"
  },
  "toc": {
   "base_numbering": 1,
   "nav_menu": {},
   "number_sections": false,
   "sideBar": true,
   "skip_h1_title": false,
   "title_cell": "Table of Contents",
   "title_sidebar": "Contents",
   "toc_cell": false,
   "toc_position": {
    "height": "calc(100% - 180px)",
    "left": "10px",
    "top": "150px",
    "width": "218px"
   },
   "toc_section_display": true,
   "toc_window_display": true
  }
 },
 "nbformat": 4,
 "nbformat_minor": 5
}
