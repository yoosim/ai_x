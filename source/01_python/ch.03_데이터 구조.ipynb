{
 "cells": [
  {
   "cell_type": "code",
   "execution_count": 1,
   "id": "557cc79d",
   "metadata": {},
   "outputs": [
    {
     "data": {
      "text/html": [
       "\n",
       "<style>\n",
       "div.container{width:86% !important;}\n",
       "div.cell.code_cell.rendered{width:100%;}\n",
       "div.CodeMirror {font-family:Consolas; font-size:15pt;}\n",
       "div.output {font-size:15pt; font-weight:bold;}\n",
       "div.input {font-family:Consolas; font-size:15pt;}\n",
       "div.prompt {min-width:70px;}\n",
       "div#toc-wrapper{padding-top:120px;}\n",
       "div.text_cell_render ul li{font-size:12pt;padding:5px;}\n",
       "table.dataframe{font-size:15px;}\n",
       "</style>\n",
       " "
      ],
      "text/plain": [
       "<IPython.core.display.HTML object>"
      ]
     },
     "metadata": {},
     "output_type": "display_data"
    }
   ],
   "source": [
    "from IPython.display import display, HTML \n",
    "display(HTML(\"\"\"\n",
    "<style>\n",
    "div.container{width:86% !important;}\n",
    "div.cell.code_cell.rendered{width:100%;}\n",
    "div.CodeMirror {font-family:Consolas; font-size:15pt;}\n",
    "div.output {font-size:15pt; font-weight:bold;}\n",
    "div.input {font-family:Consolas; font-size:15pt;}\n",
    "div.prompt {min-width:70px;}\n",
    "div#toc-wrapper{padding-top:120px;}\n",
    "div.text_cell_render ul li{font-size:12pt;padding:5px;}\n",
    "table.dataframe{font-size:15px;}\n",
    "</style>\n",
    " \"\"\"))"
   ]
  },
  {
   "cell_type": "markdown",
   "id": "d0f9a298",
   "metadata": {},
   "source": [
    "<font size=\"5\" color=\"orange\">CH.03 데이터구조</font>\n",
    "# 1절. 리스트 \n",
    "- **리스트 [], 튜플(), 딕셔너리{}, 셋 / #import가 필요없는 여러가지 자료를 한 변수에 담는게 목적** \\\n",
    "    #리스트와 튜플 차이는?\\\n",
    "    #불용어:삭제 단어 를 쓸 때는 셋을 사용 \\\n",
    "    #리스트는 수정할 수 있으나 튜플은 수정할 수 없음 \n",
    "    \n",
    "## 1.1 리스트 만들기\n",
    "- []를 이용해서 만들며, 여러개 값(여러 타입)을 저장/관리할 수 있음 (관리:정렬,추가,삭제 등)\n",
    "- list(리스트로 변환 가능한 자료)함수 이용도 가능 (*리스트로 형변환이 가능한 자료를 넣어야 함)\n",
    "- 특정한 값을 가져오고 싶다면 index 사용가능\n",
    "- 인덱스 : 각 요소의 위치, 0부터 시작. 맨 마지막 인덱스는 -1\n",
    "- 슬라이싱 가능 ( [from:stop:step]) from부터 step앞까지 step만큼 전진 : 부분 데이터셋 추출\n",
    "- 인덱스와 슬라이싱을 이용해서 읽기/쓰기 지원  "
   ]
  },
  {
   "cell_type": "code",
   "execution_count": 6,
   "id": "e5647bea",
   "metadata": {},
   "outputs": [
    {
     "data": {
      "text/plain": [
       "list"
      ]
     },
     "execution_count": 6,
     "metadata": {},
     "output_type": "execute_result"
    }
   ],
   "source": [
    "fruits = [\"banana\", \"apple\", \"orange\", \"grape\"]\n",
    "type(fruits)"
   ]
  },
  {
   "cell_type": "code",
   "execution_count": 7,
   "id": "c5e7cf0e",
   "metadata": {},
   "outputs": [
    {
     "name": "stdout",
     "output_type": "stream",
     "text": [
      "['banana', 'apple', 'orange', 'grape']\n",
      "banana\n"
     ]
    }
   ],
   "source": [
    "print(fruits)\n",
    "print(fruits[0])\n"
   ]
  },
  {
   "cell_type": "code",
   "execution_count": 8,
   "id": "2a46aa8d",
   "metadata": {},
   "outputs": [
    {
     "name": "stdout",
     "output_type": "stream",
     "text": [
      "['mango', 'apple', 'orange', 'grape']\n"
     ]
    }
   ],
   "source": [
    "fruits[0] = \"mango\"\n",
    "print(fruits)"
   ]
  },
  {
   "cell_type": "code",
   "execution_count": 27,
   "id": "5c0bef0b",
   "metadata": {},
   "outputs": [
    {
     "name": "stdout",
     "output_type": "stream",
     "text": [
      "x=mango\n",
      "y=apple\n",
      "z=orange\n",
      "fruits=['mango', 'apple', 'orange']\n"
     ]
    }
   ],
   "source": [
    "fruits = ['mango', 'apple', 'orange']\n",
    "x, y, z = fruits\n",
    "print(f'x={x}')\n",
    "print(f'y={y}')\n",
    "print(f'z={z}')\n",
    "print(f'fruits={fruits}')"
   ]
  },
  {
   "cell_type": "code",
   "execution_count": 28,
   "id": "54988abd",
   "metadata": {},
   "outputs": [
    {
     "name": "stdout",
     "output_type": "stream",
     "text": [
      "[0, 1, 2, 3, 4, 5, 6, 7, 8, 9]\n",
      "[0, 2, 4, 6, 8, 10, 12, 14, 16, 18]\n"
     ]
    }
   ],
   "source": [
    "# range(form:to:by) : ~부터 ~앞까지 (슬라이싱이랑 똑같음 앞까지 세야함)\n",
    "    #from부터 to앞까지 by씩 증가하면서 지정된 범위의 정수\n",
    "    #from 생략시 : 0\n",
    "    #by 생략시 :1\n",
    "    \n",
    "range(0,10)\n",
    "print(list(range(0,10)))\n",
    "print(list(range(0,20,2)))"
   ]
  },
  {
   "cell_type": "code",
   "execution_count": 29,
   "id": "bb2ffb97",
   "metadata": {},
   "outputs": [
    {
     "data": {
      "text/plain": [
       "[10, 8, 6, 4, 2, 0]"
      ]
     },
     "execution_count": 29,
     "metadata": {},
     "output_type": "execute_result"
    }
   ],
   "source": [
    "list(range(10,-1,-2))"
   ]
  },
  {
   "cell_type": "code",
   "execution_count": 30,
   "id": "65b2b455",
   "metadata": {},
   "outputs": [
    {
     "name": "stdout",
     "output_type": "stream",
     "text": [
      "0\n",
      "1\n",
      "2\n"
     ]
    }
   ],
   "source": [
    "#반복문(3회)\n",
    "for i in [0,1,2] : \n",
    "    print(i)"
   ]
  },
  {
   "cell_type": "code",
   "execution_count": 33,
   "id": "485372ad",
   "metadata": {},
   "outputs": [
    {
     "name": "stdout",
     "output_type": "stream",
     "text": [
      "0\n",
      "1\n",
      "2\n",
      "3\n",
      "4\n",
      "5\n"
     ]
    }
   ],
   "source": [
    "#반복문 문법 \n",
    "for i in list(range(6)) : #for 문법에서 들여쓰기 필수 (블럭)\n",
    "    print(i)"
   ]
  },
  {
   "cell_type": "code",
   "execution_count": 41,
   "id": "3202ad75",
   "metadata": {},
   "outputs": [
    {
     "name": "stdout",
     "output_type": "stream",
     "text": [
      "mango\n",
      "apple\n",
      "orange\n",
      "grape\n"
     ]
    }
   ],
   "source": [
    "fruits = ['mango', 'apple', 'orange', 'grape'] #in뒤에 나열가능한 수 \n",
    "for i in range(len(fruits)):     #range(*마지막 인덱스+1)  #range(len(fruits)) : 리스트 데이터 수 \n",
    "    print(fruits[i])\n",
    "\n",
    "#print(fruits[0])\n",
    "#print(fruits[1])\n",
    "#print(fruits[2])"
   ]
  },
  {
   "cell_type": "code",
   "execution_count": 46,
   "id": "aca74e40",
   "metadata": {},
   "outputs": [
    {
     "name": "stdout",
     "output_type": "stream",
     "text": [
      "mango\n",
      "apple\n",
      "orange\n",
      "grape\n"
     ]
    }
   ],
   "source": [
    "for value in fruits :     \n",
    "    print(value)"
   ]
  },
  {
   "cell_type": "code",
   "execution_count": 54,
   "id": "03381285",
   "metadata": {},
   "outputs": [],
   "source": [
    "fruits = ['mango', 'apple', 'orange', 'grape']\n",
    "#[[0, 'mango'], [1, 'apple'], [2, orange], [3, grape]]를 만드는 함수 (enumerate 나열가능한 자료)\n",
    "# (index,값)들의 셋들을 만듬\n",
    "#※웹크롤링 할 때 많이 씀"
   ]
  },
  {
   "cell_type": "code",
   "execution_count": 57,
   "id": "dc64d888",
   "metadata": {},
   "outputs": [
    {
     "name": "stdout",
     "output_type": "stream",
     "text": [
      "0번째 과일은 mango입니다\n",
      "1번째 과일은 apple입니다\n",
      "2번째 과일은 orange입니다\n",
      "3번째 과일은 grape입니다\n"
     ]
    }
   ],
   "source": [
    "for idx, value in enumerate(fruits):\n",
    "    print(\"{}번째 과일은 {}입니다\". format(idx, value))"
   ]
  },
  {
   "cell_type": "code",
   "execution_count": 60,
   "id": "3ab891e5",
   "metadata": {},
   "outputs": [
    {
     "data": {
      "text/plain": [
       "[(0, 'mango'), (1, 'apple'), (2, 'orange'), (3, 'grape')]"
      ]
     },
     "execution_count": 60,
     "metadata": {},
     "output_type": "execute_result"
    }
   ],
   "source": [
    "list(enumerate(fruits))"
   ]
  },
  {
   "cell_type": "code",
   "execution_count": 69,
   "id": "99dbba21",
   "metadata": {},
   "outputs": [
    {
     "name": "stdout",
     "output_type": "stream",
     "text": [
      "[0, True, '2', 3, [4, 5, 6]]\n",
      "True\n",
      "5\n"
     ]
    }
   ],
   "source": [
    "#리스트는 여러 타입의 데이터를 담을 수 있음\n",
    "numbers = [0, True, '2', 3, [4,5,6]] #모두 가능\n",
    "print(numbers)\n",
    "print(numbers[1])\n",
    "#4번째 객체[4,5,6]중에서 5만 어떻게 가져와야할까? (리스트 안에 있는 리스트를 가져오는 방법)\n",
    "print(numbers[4][1])"
   ]
  },
  {
   "cell_type": "code",
   "execution_count": 88,
   "id": "9e02c0f8",
   "metadata": {},
   "outputs": [
    {
     "data": {
      "text/plain": [
       "(3, 4)"
      ]
     },
     "execution_count": 88,
     "metadata": {},
     "output_type": "execute_result"
    }
   ],
   "source": [
    "#90점 100점 95점 3학생의 국어 점수\n",
    "#3학생의 국영수점수를 담아내는것\n",
    "# 2차원 리스트라고 함.(리스트안에 리스트가 들어있는것) / 논리적인 접근으로 2차원으로 명칭\n",
    "\n",
    "numbers_2d = [[90, 90, 92, 93],\n",
    "             [85, 86, 82, 83],\n",
    "             [70, 71, 72, 73]]\n",
    "\n",
    "len(numbers_2d),len(numbers_2d[0])"
   ]
  },
  {
   "cell_type": "code",
   "execution_count": 89,
   "id": "c35210ba",
   "metadata": {},
   "outputs": [],
   "source": [
    "i = 10"
   ]
  },
  {
   "cell_type": "code",
   "execution_count": 84,
   "id": "0f0ec8ec",
   "metadata": {},
   "outputs": [
    {
     "name": "stdout",
     "output_type": "stream",
     "text": [
      "0 [90, 90, 92, 93]\n",
      "1 [85, 86, 82, 83]\n",
      "2 [70, 71, 72, 73]\n"
     ]
    }
   ],
   "source": [
    "for idx, row in enumerate(numbers_2d) :\n",
    "    print(idx,row)"
   ]
  },
  {
   "cell_type": "code",
   "execution_count": 97,
   "id": "17bcb096",
   "metadata": {},
   "outputs": [
    {
     "name": "stdout",
     "output_type": "stream",
     "text": [
      "0행0열:90\t0행1열:90\t0행2열:92\t0행3열:93\t\n",
      "1행0열:85\t1행1열:86\t1행2열:82\t1행3열:83\t\n",
      "2행0열:70\t2행1열:71\t2행2열:72\t2행3열:73\t\n"
     ]
    }
   ],
   "source": [
    "for i, row in enumerate(numbers_2d) :\n",
    "    for j, value in enumerate(row) : \n",
    "        print(\"{}행{}열:{}\".format(i, j,value) ,end='\\t')\n",
    "    print() #()안에 end='\\n'생략이 기본적으로 되어있어서 1줄이 끝나면 밑으로 내려라 실행"
   ]
  },
  {
   "cell_type": "code",
   "execution_count": 114,
   "id": "b8b07833",
   "metadata": {},
   "outputs": [
    {
     "name": "stdout",
     "output_type": "stream",
     "text": [
      "70\t71\t72\t73\t\n",
      "70\t71\t72\t73\t\n",
      "70\t71\t72\t73\t\n"
     ]
    }
   ],
   "source": [
    "# 90 91 92 93\n",
    "# 80 81 82 83\n",
    "# 70 71 72 73 이 나와야함\n",
    "\n",
    "for value in numbers_2d :     \n",
    "    for item in row :\n",
    "        print(item, end='\\t')\n",
    "    print()\n",
    "    "
   ]
  },
  {
   "cell_type": "code",
   "execution_count": 112,
   "id": "b790451d",
   "metadata": {},
   "outputs": [
    {
     "name": "stdout",
     "output_type": "stream",
     "text": [
      "[90, 90, 92, 93]\n",
      "[85, 86, 82, 83]\n",
      "[70, 71, 72, 73]\n"
     ]
    }
   ],
   "source": [
    "for row in numbers_2d:\n",
    "    print(row)"
   ]
  },
  {
   "cell_type": "markdown",
   "id": "4bed201e",
   "metadata": {},
   "source": [
    "## 1.2 기본 정보 조회"
   ]
  },
  {
   "cell_type": "code",
   "execution_count": 121,
   "id": "63a0252d",
   "metadata": {},
   "outputs": [],
   "source": [
    "numbers = [1,12,3,5,4] #정렬되지않는 값\n",
    "numbers_2d = [[100, 0],\n",
    "              [9, 100],\n",
    "              [50,54]]"
   ]
  },
  {
   "cell_type": "code",
   "execution_count": 122,
   "id": "f76a7d97",
   "metadata": {},
   "outputs": [
    {
     "name": "stdout",
     "output_type": "stream",
     "text": [
      "5 3\n"
     ]
    }
   ],
   "source": [
    "# 요소의 수 (아이템 수/데이터 수)\n",
    "print(len(numbers),len(numbers_2d))\n"
   ]
  },
  {
   "cell_type": "code",
   "execution_count": 123,
   "id": "54a3866a",
   "metadata": {},
   "outputs": [
    {
     "data": {
      "text/plain": [
       "(1, 12)"
      ]
     },
     "execution_count": 123,
     "metadata": {},
     "output_type": "execute_result"
    }
   ],
   "source": [
    "# 최소값, 최대값\n",
    "min(numbers), max(numbers)"
   ]
  },
  {
   "cell_type": "code",
   "execution_count": 127,
   "id": "336819b7",
   "metadata": {},
   "outputs": [
    {
     "data": {
      "text/plain": [
       "([9, 100], [100, 0])"
      ]
     },
     "execution_count": 127,
     "metadata": {},
     "output_type": "execute_result"
    }
   ],
   "source": [
    "# 2차원 list의 min() : 첫번째 요소(0번 인덱스)가 가장 작은 것\n",
    "#             max() : 0번째 인덱스 요소가 가장 큰 것\n",
    "min(numbers_2d),max(numbers_2d)"
   ]
  },
  {
   "cell_type": "code",
   "execution_count": 128,
   "id": "20cef475",
   "metadata": {},
   "outputs": [
    {
     "data": {
      "text/plain": [
       "('APPLE', 'orange')"
      ]
     },
     "execution_count": 128,
     "metadata": {},
     "output_type": "execute_result"
    }
   ],
   "source": [
    "# 문자 list의 경우 ascii 코드값으로 min(),max() 적용\n",
    "\n",
    "fruits = ['mango', 'apple', 'orange','APPLE']\n",
    "min(fruits), max(fruits)"
   ]
  },
  {
   "cell_type": "code",
   "execution_count": 134,
   "id": "1e9741bb",
   "metadata": {},
   "outputs": [
    {
     "name": "stdout",
     "output_type": "stream",
     "text": [
      "오른차순 : [1, 3, 4, 5, 12]\n",
      "내림차순 : [12, 5, 4, 3, 1]\n",
      "sorted함수 사용시 리스트 내용이 바뀌지 않음 : [1, 12, 3, 5, 4]\n",
      "합 : 25\n"
     ]
    }
   ],
   "source": [
    "numbers = [1, 12, 3, 5, 4]\n",
    "#정렬(오름차순, 내림차순) *문자도 정렬 가능\n",
    "print('오른차순 :', sorted(numbers)) #sorted안에 나열가능한 데이터만 가능 \n",
    "print('내림차순 :', sorted(numbers,reverse=True))\n",
    "print('sorted함수 사용시 리스트 내용이 바뀌지 않음 :', numbers)\n",
    "print('합 :', sum(numbers))"
   ]
  },
  {
   "cell_type": "markdown",
   "id": "024d48ed",
   "metadata": {},
   "source": [
    "## 1.3 요소 추가\n",
    "```\n",
    "+ : 두 리스트 연결해서 추가\n",
    "* : 리스트를 곱한 수만큼 반복\n",
    "append() : 맨 뒤에 요소 추가\n",
    "extend() : 맨 뒤에 리스트를 요소별로 추가\n",
    "insert(idx, 값) : idx번째 인덱스 위치에 추가(기존 데이터는 shift)\n",
    "    지정된 위치에 추가\n",
    "```"
   ]
  },
  {
   "cell_type": "code",
   "execution_count": 136,
   "id": "67d16e71",
   "metadata": {},
   "outputs": [
    {
     "data": {
      "text/plain": [
       "[1, 2, 3, 1, 2, 3]"
      ]
     },
     "execution_count": 136,
     "metadata": {},
     "output_type": "execute_result"
    }
   ],
   "source": [
    "numbers = [1, 2, 3]\n",
    "numbers = numbers + numbers\n",
    "numbers"
   ]
  },
  {
   "cell_type": "code",
   "execution_count": 164,
   "id": "5f21eb4c",
   "metadata": {},
   "outputs": [
    {
     "name": "stdout",
     "output_type": "stream",
     "text": [
      "[1, 2, 3, 4]\n"
     ]
    }
   ],
   "source": [
    "#추가 \n",
    "numbers = [1, 2, 3]\n",
    "numbers.append(4)\n",
    "print(numbers)"
   ]
  },
  {
   "cell_type": "code",
   "execution_count": 165,
   "id": "76d6e8d0",
   "metadata": {},
   "outputs": [
    {
     "name": "stdout",
     "output_type": "stream",
     "text": [
      "[1, 2, 3, 4, [5, 6, 7]]\n"
     ]
    }
   ],
   "source": [
    "numbers.append([5, 6, 7]) #list 그대로 들어감. 맨뒤에 하나의 요소로 추가됨\n",
    "print(numbers)"
   ]
  },
  {
   "cell_type": "code",
   "execution_count": 166,
   "id": "9cc9b3ec",
   "metadata": {},
   "outputs": [
    {
     "name": "stdout",
     "output_type": "stream",
     "text": [
      "[1, 2, 3, 4, 5, 6, 7]\n"
     ]
    }
   ],
   "source": [
    "num = [1, 2, 3] #list(단일 요소)가 아닌 요소별로 각각 추가\n",
    "num.extend([4,5,6,7])\n",
    "print(num)"
   ]
  },
  {
   "cell_type": "code",
   "execution_count": 167,
   "id": "4d788f6d",
   "metadata": {},
   "outputs": [
    {
     "name": "stdout",
     "output_type": "stream",
     "text": [
      "[1, 2, 'X', 3, 4, 5, 6, 7]\n"
     ]
    }
   ],
   "source": [
    "num.insert(2,'X')\n",
    "print(num)"
   ]
  },
  {
   "cell_type": "markdown",
   "id": "0757322d",
   "metadata": {},
   "source": [
    "## 1.4 인덱싱과 요소 갯수\n",
    "- 변수[index] : 인덱스를 이용한 접근 (몇번째에 무슨데이터가 있는지 찾는것) **체크 필요**\n",
    "- index(찾을데이터) : 해당 찾을 데이터가 있는 요소의 index를 반환 (무슨데이터가 몇번째에 있는지 찾는것?)\n",
    "                     찾을데이터가 없는 경우 오류 발생\n",
    "- count(찾을데이터) : 리스트에서 찾을데이터의 갯수 반환 "
   ]
  },
  {
   "cell_type": "code",
   "execution_count": 174,
   "id": "e3eb6613",
   "metadata": {},
   "outputs": [
    {
     "data": {
      "text/plain": [
       "(2, 0)"
      ]
     },
     "execution_count": 174,
     "metadata": {},
     "output_type": "execute_result"
    }
   ],
   "source": [
    "numbers = [1, 2, 3, [1, 2, 3], 1, 2, 3]\n",
    "numbers.count(2), numbers.count(-2)"
   ]
  },
  {
   "cell_type": "code",
   "execution_count": 178,
   "id": "c8b96709",
   "metadata": {},
   "outputs": [
    {
     "data": {
      "text/plain": [
       "1"
      ]
     },
     "execution_count": 178,
     "metadata": {},
     "output_type": "execute_result"
    }
   ],
   "source": [
    "numbers.index(2) #0번째 index부터 2가 처음 나오는 index를 반환"
   ]
  },
  {
   "cell_type": "code",
   "execution_count": 179,
   "id": "196981ad",
   "metadata": {},
   "outputs": [
    {
     "data": {
      "text/plain": [
       "5"
      ]
     },
     "execution_count": 179,
     "metadata": {},
     "output_type": "execute_result"
    }
   ],
   "source": [
    "numbers.index(2, 2) #2번째 index가 처음 나오는 index를 반환"
   ]
  },
  {
   "cell_type": "code",
   "execution_count": 188,
   "id": "e4b64fb7",
   "metadata": {},
   "outputs": [
    {
     "name": "stdout",
     "output_type": "stream",
     "text": [
      "9가 없음\n"
     ]
    }
   ],
   "source": [
    "if numbers.count(9) :\n",
    "    numbers.index(9)\n",
    "else:\n",
    "    print('9가 없음')"
   ]
  },
  {
   "cell_type": "code",
   "execution_count": 191,
   "id": "36ec8d1b",
   "metadata": {},
   "outputs": [
    {
     "name": "stdout",
     "output_type": "stream",
     "text": [
      "9가 없음\n"
     ]
    }
   ],
   "source": [
    "if 9 in numbers:\n",
    "    print(numbers.index(9))\n",
    "else:\n",
    "    print('9가 없음')"
   ]
  },
  {
   "cell_type": "code",
   "execution_count": 192,
   "id": "6a287bba",
   "metadata": {},
   "outputs": [
    {
     "data": {
      "text/plain": [
       "False"
      ]
     },
     "execution_count": 192,
     "metadata": {},
     "output_type": "execute_result"
    }
   ],
   "source": [
    "9 in numbers #numbers 리스트에 9가 존재하는지 여부 파악 \n",
    "#index 함수는 in과 대부분 함께 쓴다. 왜? 오류가 나는걸 잡아주기 때문에"
   ]
  },
  {
   "cell_type": "code",
   "execution_count": 194,
   "id": "a0661dd4",
   "metadata": {},
   "outputs": [],
   "source": [
    "#함수 만들기 :def\n",
    "def safe_index(lst, data) : #lst안에 data가 있는지 여부\n",
    "    if data in lst :\n",
    "        return lst.index(data)\n",
    "    else: \n",
    "        return -1"
   ]
  },
  {
   "cell_type": "code",
   "execution_count": 195,
   "id": "360293dd",
   "metadata": {},
   "outputs": [
    {
     "data": {
      "text/plain": [
       "-1"
      ]
     },
     "execution_count": 195,
     "metadata": {},
     "output_type": "execute_result"
    }
   ],
   "source": [
    "safe_index(numbers,9)"
   ]
  },
  {
   "cell_type": "markdown",
   "id": "950b53b5",
   "metadata": {},
   "source": [
    "## 1.5 원하는 요소 추출\n",
    "\n",
    "1. 리스트 슬라이싱 : 리스트에서 원하는 index의 데이터를 추출 (인덱스의 범위를 벗어나도 에러 안 남)\n",
    "       -  [from:stop:step] from부터 stop앞까지 step씩 증가하는 index의 값을 추출\n",
    "       -  from 생략시 처음부터, stop 생략시 끝까지. step 생략시 1칸씩. 모두 생략 가능\n",
    "       -  음수 인덱스 가능\n",
    "2. <font color=\"red\">**리스트 컴프리헨션**</font> : 리스트에서 원하는 데이터를 추출\n",
    "        *컴프리헨션을 못하면 if문법이 많아짐"
   ]
  },
  {
   "cell_type": "code",
   "execution_count": 216,
   "id": "4c42d09c",
   "metadata": {},
   "outputs": [
    {
     "name": "stdout",
     "output_type": "stream",
     "text": [
      "[1, 5, 10, 13]\n",
      "[20, 13, 12, 10, 9, 5, 3, 1]\n"
     ]
    }
   ],
   "source": [
    "numbers = [1, 3, 5, 9, 10, 12, 13, 20]\n",
    "#짝수번째 인덱스 값 출력\n",
    "print(numbers[::2])\n",
    "#꺼꾸로 출력\n",
    "print(numbers[::-1])"
   ]
  },
  {
   "cell_type": "code",
   "execution_count": 218,
   "id": "7ae599d7",
   "metadata": {},
   "outputs": [
    {
     "name": "stdout",
     "output_type": "stream",
     "text": [
      "[1, 3, 5, 9, 10, 12, 13, 20]\n"
     ]
    }
   ],
   "source": [
    "numbers = [1, 3, 5, 9, 10, 12, 13, 20]\n",
    "#리스트에서 모든 데이터를 변수에 담아 출력하시오.\n",
    "#비추\n",
    "result = []\n",
    "for data in numbers:\n",
    "    result.append(data)\n",
    "print(result)"
   ]
  },
  {
   "cell_type": "code",
   "execution_count": 225,
   "id": "97e4f6b9",
   "metadata": {},
   "outputs": [
    {
     "name": "stdout",
     "output_type": "stream",
     "text": [
      "[10, 12, 20]\n"
     ]
    }
   ],
   "source": [
    "numbers = [1, 3, 5, 9, 10, 12, 13, 20]\n",
    "#짝수만 뽑아내라\n",
    "#비추 \n",
    "\n",
    "#**선생님 자료 확인**\n",
    "result= []\n",
    "for data in numbers:\n",
    "    if not data%2:   #{}%2의 값이 0일 때 \n",
    "        result.append(data)\n",
    "print(result)"
   ]
  },
  {
   "cell_type": "code",
   "execution_count": 223,
   "id": "6bf27329",
   "metadata": {},
   "outputs": [
    {
     "data": {
      "text/plain": [
       "[1, 3, 5, 9, 10, 12, 13, 20]"
      ]
     },
     "execution_count": 223,
     "metadata": {},
     "output_type": "execute_result"
    }
   ],
   "source": [
    "# numbers의 모든 데이터를 리스트 컴프리헨션으로 추출\n",
    "[data for data in numbers]"
   ]
  },
  {
   "cell_type": "code",
   "execution_count": 226,
   "id": "658d41fc",
   "metadata": {},
   "outputs": [
    {
     "data": {
      "text/plain": [
       "[10, 12, 20]"
      ]
     },
     "execution_count": 226,
     "metadata": {},
     "output_type": "execute_result"
    }
   ],
   "source": [
    "# numbers의 짝수 데이터를 리스트컴프리헨션으로 추출\n",
    "[data for data in numbers if data%2==0]"
   ]
  },
  {
   "cell_type": "code",
   "execution_count": 251,
   "id": "cb3c2e16",
   "metadata": {},
   "outputs": [
    {
     "data": {
      "text/plain": [
       "[10, 12, 13, 20]"
      ]
     },
     "execution_count": 251,
     "metadata": {},
     "output_type": "execute_result"
    }
   ],
   "source": [
    "# ex1. 리스트에서 10 이상만 추출\n",
    "numbers = [1, 3, 5, 9, 10, 12, 13, 20]\n",
    "\n",
    "[data for data in numbers if data>=10]"
   ]
  },
  {
   "cell_type": "code",
   "execution_count": 254,
   "id": "a0f88ce2",
   "metadata": {},
   "outputs": [
    {
     "data": {
      "text/plain": [
       "['orange']"
      ]
     },
     "execution_count": 254,
     "metadata": {},
     "output_type": "execute_result"
    }
   ],
   "source": [
    "# ex2. fruists에서 5글자가 넘는 과일만 추출\n",
    "fruits = ['orange','apple','mango','kiwi']\n",
    "\n",
    "[data for data in fruits if len(data)>5]\n",
    "[data for data in fruits if len(data)>5]"
   ]
  },
  {
   "cell_type": "code",
   "execution_count": 256,
   "id": "73ac86a2",
   "metadata": {},
   "outputs": [
    {
     "data": {
      "text/plain": [
       "[9, 16, 25]"
      ]
     },
     "execution_count": 256,
     "metadata": {},
     "output_type": "execute_result"
    }
   ],
   "source": [
    "#★다시 해보기 문제!!!\n",
    "# ex3. 3이상의 요소들의 제곱을 추출\n",
    "L = [1, 2, 3, 4, 5]\n",
    "\n",
    "[data**2 for data in L if data >=3]\n",
    "\n",
    "    \n",
    "#**2 "
   ]
  },
  {
   "cell_type": "code",
   "execution_count": 265,
   "id": "bb0f99a3",
   "metadata": {},
   "outputs": [
    {
     "data": {
      "text/plain": [
       "2"
      ]
     },
     "execution_count": 265,
     "metadata": {},
     "output_type": "execute_result"
    }
   ],
   "source": [
    "# 퀴즈 망고를 찾아라\n",
    "fruits = ['orange','apple','mango','kiwi']\n",
    "\n",
    "\n",
    "fruits.index(\"mango\")"
   ]
  },
  {
   "cell_type": "code",
   "execution_count": 264,
   "id": "8b161e20",
   "metadata": {},
   "outputs": [
    {
     "name": "stdout",
     "output_type": "stream",
     "text": [
      "mango\n"
     ]
    }
   ],
   "source": [
    "print(fruits[2])"
   ]
  },
  {
   "cell_type": "code",
   "execution_count": 266,
   "id": "65eb83e7",
   "metadata": {},
   "outputs": [],
   "source": [
    "#퀴즈  순서를 바꿔서 키위,망고,오렌지,사과 나타내기 \n",
    "\n",
    "fruits = ['orange','apple','mango','kiwi']"
   ]
  },
  {
   "cell_type": "markdown",
   "id": "80fd6225",
   "metadata": {},
   "source": [
    "## 1.6 요소 수정하기"
   ]
  },
  {
   "cell_type": "code",
   "execution_count": 300,
   "id": "db5888df",
   "metadata": {},
   "outputs": [
    {
     "data": {
      "text/plain": [
       "[0, 1, 222, 3, 4, 5, 6, 7, 8, 9]"
      ]
     },
     "execution_count": 300,
     "metadata": {},
     "output_type": "execute_result"
    }
   ],
   "source": [
    "numbers = [0, 1, 2, 3, 4, 5, 6, 7, 8, 9]\n",
    "#index를 이용해서 요소 수정 \n",
    "numbers[2]=222 \n",
    "numbers"
   ]
  },
  {
   "cell_type": "code",
   "execution_count": 303,
   "id": "2ea6e72e",
   "metadata": {},
   "outputs": [
    {
     "data": {
      "text/plain": [
       "[0, 'o0o', 6, 7, 8, 9]"
      ]
     },
     "execution_count": 303,
     "metadata": {},
     "output_type": "execute_result"
    }
   ],
   "source": [
    "# 슬라이싱을 이용해서 요소 수정\n",
    "# 부분 리스트를 잘라서 가져오면 변환되는 갯수 상관없이 설정 가능(**step이 미포함인 경우**)\n",
    "# 오른쪽 값이 많거나 적어도 상관없음. 그 자리 그대로 변경하는것이라서\n",
    "numbers[1:4] = ['o0o']\n",
    "numbers"
   ]
  },
  {
   "cell_type": "code",
   "execution_count": 308,
   "id": "b45a653c",
   "metadata": {},
   "outputs": [
    {
     "data": {
      "text/plain": [
       "['a', 1, 'b', 3, 'c', 5, 'd', 7, 'e', 9]"
      ]
     },
     "execution_count": 308,
     "metadata": {},
     "output_type": "execute_result"
    }
   ],
   "source": [
    "# 슬라이싱을 이용해서 요소 수정 (**step 부분 포함인 경우**) ※ 요소 갯수가 맞아야 함\n",
    "numbers = [0, 1, 2, 3, 4, 5, 6, 7, 8, 9]\n",
    "numbers[::2] = ['a','b','c','d','e']\n",
    "numbers"
   ]
  },
  {
   "cell_type": "markdown",
   "id": "a6f6244c",
   "metadata": {},
   "source": [
    "##  1.7 요소 삭제하기\n",
    "- pop() : 가장 마지막 인덱스 요소가 반환되고 삭제\n",
    "- pop(idx) : idx번째 요소가 반환되고 삭제 (뒤에 숫자들은 앞으로 밀려짐) \n",
    "- remove(지울data) : 리스트안의 data 삭제 \n",
    "- del 변수[idx] : idx번째 요소가 삭제"
   ]
  },
  {
   "cell_type": "code",
   "execution_count": 332,
   "id": "0fc22bfe",
   "metadata": {},
   "outputs": [
    {
     "name": "stdout",
     "output_type": "stream",
     "text": [
      "[1, 2, 3, 4]\n",
      "삭제된 데이터:5, 리스트:[1, 2, 3, 4]\n",
      "삭제된 데이터:1, 리스트:[2, 3, 4]\n",
      "numbers: [2, 3]\n"
     ]
    }
   ],
   "source": [
    "numbers = [1, 2, 3, 4, 5]\n",
    "delete_data = numbers.pop()\n",
    "print(numbers)\n",
    "print(\"삭제된 데이터:{}, 리스트:{}\".format(delete_data, numbers))\n",
    "\n",
    "delete_data2 = numbers.pop(0)\n",
    "print(\"삭제된 데이터:{}, 리스트:{}\".format(delete_data2, numbers))\n",
    "\n",
    "del numbers[2]\n",
    "print('numbers:',numbers)"
   ]
  },
  {
   "cell_type": "code",
   "execution_count": 337,
   "id": "2ce02bf7",
   "metadata": {},
   "outputs": [
    {
     "name": "stdout",
     "output_type": "stream",
     "text": [
      "None\n",
      "[1, 2, 4, 5]\n"
     ]
    }
   ],
   "source": [
    "#remove는 반환값이 없고, 해당 데이터만 삭제. 해당 데이터가 없으면 오류 \n",
    "numbers = [1, 2, 3, 4, 5]\n",
    "del_num = numbers.remove(3)\n",
    "print(del_num)\n",
    "print(numbers)"
   ]
  },
  {
   "cell_type": "code",
   "execution_count": 338,
   "id": "8c45ba3b",
   "metadata": {},
   "outputs": [
    {
     "ename": "ValueError",
     "evalue": "list.remove(x): x not in list",
     "output_type": "error",
     "traceback": [
      "\u001b[1;31m---------------------------------------------------------------------------\u001b[0m",
      "\u001b[1;31mValueError\u001b[0m                                Traceback (most recent call last)",
      "Cell \u001b[1;32mIn[338], line 1\u001b[0m\n\u001b[1;32m----> 1\u001b[0m \u001b[43mnumbers\u001b[49m\u001b[38;5;241;43m.\u001b[39;49m\u001b[43mremove\u001b[49m\u001b[43m(\u001b[49m\u001b[38;5;241;43m9\u001b[39;49m\u001b[43m)\u001b[49m\n",
      "\u001b[1;31mValueError\u001b[0m: list.remove(x): x not in list"
     ]
    }
   ],
   "source": [
    " numbers.remove(9)"
   ]
  },
  {
   "cell_type": "code",
   "execution_count": 339,
   "id": "30f74de2",
   "metadata": {},
   "outputs": [
    {
     "name": "stdout",
     "output_type": "stream",
     "text": [
      "해당 데이터가 없습니다.\n"
     ]
    }
   ],
   "source": [
    "if 9 in numbers:     # remove를 사용했을 때 없는 값을 입력하면 오류 남 필히 in과 함께 사용필요 \n",
    "    numbers.remove(9)\n",
    "    \n",
    "else:\n",
    "    print('해당 데이터가 없습니다.')"
   ]
  },
  {
   "cell_type": "code",
   "execution_count": 340,
   "id": "ab969b4e",
   "metadata": {},
   "outputs": [],
   "source": [
    "def save_remove(lst,remove_data):\n",
    "    if remove_data in lst:\n",
    "        lst.remove(remove_data)\n",
    "        print(remove_data, '삭제 완료')\n",
    "    else:\n",
    "        print(f'{remove_data}는 없는 아이템입니다.')"
   ]
  },
  {
   "cell_type": "code",
   "execution_count": 345,
   "id": "aa5bcf14",
   "metadata": {},
   "outputs": [
    {
     "name": "stdout",
     "output_type": "stream",
     "text": [
      "9는 없는 아이템입니다.\n",
      "5는 없는 아이템입니다.\n",
      "9는 없는 아이템입니다.\n",
      "5는 없는 아이템입니다.\n"
     ]
    }
   ],
   "source": [
    "save_remove(numbers, 9)\n",
    "save_remove(numbers,5)\n",
    "save_remove(numbers, 9)\n",
    "save_remove(numbers,5)"
   ]
  },
  {
   "cell_type": "code",
   "execution_count": 346,
   "id": "8bb062bb",
   "metadata": {},
   "outputs": [
    {
     "data": {
      "text/plain": [
       "[1, 2, 4]"
      ]
     },
     "execution_count": 346,
     "metadata": {},
     "output_type": "execute_result"
    }
   ],
   "source": [
    "numbers"
   ]
  },
  {
   "cell_type": "markdown",
   "id": "13f9b113",
   "metadata": {},
   "source": [
    "## 1.8 정렬하기\n"
   ]
  },
  {
   "cell_type": "code",
   "execution_count": 25,
   "id": "fa7330fc",
   "metadata": {},
   "outputs": [
    {
     "name": "stdout",
     "output_type": "stream",
     "text": [
      "numbers는 변경하지 않고 정렬 : [0, 1, 2, 5, 7, 8, 9]\n",
      "numbers 내림차순으로 정렬 : [9, 8, 7, 5, 2, 1, 0]\n",
      "numbers : [1, 9, 7, 8, 5, 0, 2]\n"
     ]
    }
   ],
   "source": [
    "numbers = [1,9,7,8,5,0,2]\n",
    "print('numbers는 변경하지 않고 정렬 :', sorted(numbers))\n",
    "print('numbers 내림차순으로 정렬 :', sorted(numbers, reverse=True)) #True 내림차순\n",
    "print('numbers :', numbers)"
   ]
  },
  {
   "cell_type": "code",
   "execution_count": 8,
   "id": "f08cbbe5",
   "metadata": {},
   "outputs": [
    {
     "name": "stdout",
     "output_type": "stream",
     "text": [
      "None\n",
      "[0, 1, 2, 5, 7, 8, 9]\n"
     ]
    }
   ],
   "source": [
    "print(numbers.sort()) #numbers : 자체가 정렬한 결과로 바뀜(기본정렬:오름차순)\n",
    "print(numbers)"
   ]
  },
  {
   "cell_type": "code",
   "execution_count": 20,
   "id": "353af1bd",
   "metadata": {},
   "outputs": [
    {
     "data": {
      "text/plain": [
       "[9, 8, 7, 5, 2, 1, 0]"
      ]
     },
     "execution_count": 20,
     "metadata": {},
     "output_type": "execute_result"
    }
   ],
   "source": [
    "numbers.reverse() #number 자체가 역순으로 변경 \n",
    "numbers"
   ]
  },
  {
   "cell_type": "code",
   "execution_count": 28,
   "id": "278fec2a",
   "metadata": {},
   "outputs": [
    {
     "data": {
      "text/plain": [
       "[9, 5, 2]"
      ]
     },
     "execution_count": 28,
     "metadata": {},
     "output_type": "execute_result"
    }
   ],
   "source": [
    "lst = [2,5,9]\n",
    "#lst.reverse()\n",
    "lst = lst[::-1]\n",
    "lst"
   ]
  },
  {
   "cell_type": "markdown",
   "id": "0da96ed7",
   "metadata": {},
   "source": [
    "## 1.9 복제하기"
   ]
  },
  {
   "cell_type": "code",
   "execution_count": 40,
   "id": "e37ab551",
   "metadata": {},
   "outputs": [
    {
     "name": "stdout",
     "output_type": "stream",
     "text": [
      "원본=10, 복사본=10 / 원본주소=1604028793360, 복사본주소=1604028793360\n",
      "원본=10, 복사본=10 / 원본주소=1604028793360, 복사본주소=1604028793360\n",
      "원본=10, 복사본=99 / 원본주소=1604028793360, 복사본주소=1604028796208\n"
     ]
    }
   ],
   "source": [
    "#스칼라 데이터의 복제\n",
    "i = 10     #원본\n",
    "copy_i = 10 #복제본\n",
    "print(f\"원본={i}, 복사본={copy_i} / 원본주소={id(i)}, 복사본주소={id(copy_i)}\")\n",
    "copy_i = i #복제본\n",
    "print(f\"원본={i}, 복사본={copy_i} / 원본주소={id(i)}, 복사본주소={id(copy_i)}\")\n",
    "copy_i = 99\n",
    "print(f\"원본={i}, 복사본={copy_i} / 원본주소={id(i)}, 복사본주소={id(copy_i)}\")\n",
    "\n",
    "#copy_i = i = 10으로 하나의 원본주소로 같은곳을 가리키고 있어서 원본 주소는 동일함.\n",
    "#copy_i = 99 는 10의 원본주소에서 99의 주소로 변경되어서 복사본주소를 다른곳으로 지정함."
   ]
  },
  {
   "cell_type": "code",
   "execution_count": 39,
   "id": "ebcce24d",
   "metadata": {},
   "outputs": [
    {
     "name": "stdout",
     "output_type": "stream",
     "text": [
      "9 1604028793328\n",
      "8 1604028793296\n"
     ]
    }
   ],
   "source": [
    "a = 9\n",
    "print(a, id(a))\n",
    "\n",
    "a= 8\n",
    "print(a, id(a))"
   ]
  },
  {
   "cell_type": "code",
   "execution_count": 43,
   "id": "0d5095e4",
   "metadata": {},
   "outputs": [
    {
     "name": "stdout",
     "output_type": "stream",
     "text": [
      "원본 : [9, 6, 1]\n",
      "복제본 : [9, 6, 1]\n"
     ]
    }
   ],
   "source": [
    "#리스트(배열, 데이터프레임, 딕셔너리), 의 복제   \n",
    "#※이렇게 복제하면 안됨. 원본도 없어짐..!!!\n",
    "\n",
    "numbers = [5, 6, 1]      #원본\n",
    "new_numbers = numbers    #복제본\n",
    "new_numbers[0] = 9\n",
    "print('원본 :', numbers)\n",
    "print('복제본 :',new_numbers)\n",
    "\n",
    "#원본, 복제본 값이 동일해짐으로 이런식으로 사용하지 말아야 함."
   ]
  },
  {
   "cell_type": "code",
   "execution_count": null,
   "id": "1014366b",
   "metadata": {},
   "outputs": [],
   "source": [
    "# 데이터를 받으면 패턴을 파악..결측지 ->"
   ]
  },
  {
   "cell_type": "code",
   "execution_count": 44,
   "id": "f8d2f07f",
   "metadata": {},
   "outputs": [
    {
     "name": "stdout",
     "output_type": "stream",
     "text": [
      "원본 = [5, 8, 1], 복제본 = [5, 8, 1]\n",
      "원본주소 = 1604146804416, 복사본주소 = 1604146804416\n"
     ]
    }
   ],
   "source": [
    "# 복사에는 얕은 복사(할당) / 깊은 복사(복제) 2종류가 있다.\n",
    "# 아래는 얕은 복사 \n",
    "# 할당을 하면 복제가 안 됨..왜?\n",
    "numbers = [5, 8 ,1]        #원본\n",
    "new_numbers = numbers      #얕은 복사 (numbers에 할당을 함.)\n",
    "print(f\"원본 = {numbers}, 복제본 = {new_numbers}\")\n",
    "print(f\"원본주소 = {id(numbers)}, 복사본주소 = {id(new_numbers)}\")"
   ]
  },
  {
   "cell_type": "markdown",
   "id": "91b379bf",
   "metadata": {},
   "source": [
    "### 이것도 이렇게 복사하면 안됨. 원본도 같이 바뀜!!!!\n",
    "- #얕은 복사 말고 깊은 복사를 해야 함.\n",
    "- #얕은 복사(원본까지 변경되는 것)\n",
    "\n",
    "new_numbers[0] = -99 \\\n",
    "new_numbers.sort() \\\n",
    "print(\"<복제본만 지지고 볶고>\") \\ \n",
    "print(f\"원본 = {numbers}, 복제본 = {new_numbers}\") \\\n",
    "print(f\"원본주소 = {id(numbers)}, 복사본주소 = {id(new_numbers)}\")"
   ]
  },
  {
   "cell_type": "code",
   "execution_count": 60,
   "id": "20409d0d",
   "metadata": {},
   "outputs": [
    {
     "name": "stdout",
     "output_type": "stream",
     "text": [
      "원본 = [5, 8, 1], 복제본 = [5, 8, 1]\n",
      "원본주소 = 1604145119424, 복사본주소 = 1604147127296\n",
      "<****복제본만 지지고 볶고****>\n",
      "원본 = [5, 8, 1], 복제본 = [1]\n",
      "원본주소 = 1604145119424, 복사본주소 = 1604147127296\n"
     ]
    }
   ],
   "source": [
    "#깊은 복사 \n",
    "\n",
    "numbers = [5, 8 ,1]        #원본\n",
    "new_numbers = numbers.copy()      #깊은 복사 (복제)   *copy(numbers)가 아니라 numbers.copy가 되는 이유?\n",
    "print(f\"원본 = {numbers}, 복제본 = {new_numbers}\")\n",
    "print(f\"원본주소 = {id(numbers)}, 복사본주소 = {id(new_numbers)}\")\n",
    "new_numbers[0] = -99\n",
    "new_numbers.sort()\n",
    "new_numbers.remove(-99) #-99를 없앰\n",
    "new_numbers.pop()   #맨뒤에만 없앰\n",
    "print(\"<****복제본만 지지고 볶고****>\")\n",
    "print(f\"원본 = {numbers}, 복제본 = {new_numbers}\")\n",
    "print(f\"원본주소 = {id(numbers)}, 복사본주소 = {id(new_numbers)}\")"
   ]
  },
  {
   "cell_type": "code",
   "execution_count": 62,
   "id": "cf8bd45b",
   "metadata": {},
   "outputs": [
    {
     "data": {
      "text/plain": [
       "[]"
      ]
     },
     "execution_count": 62,
     "metadata": {},
     "output_type": "execute_result"
    }
   ],
   "source": [
    "numbers.clear() #리스트의 요소를 모두 삭제 *빈 리스트로 추출 [5, 8, 1]의 모든 내용 삭제됨\n",
    "numbers"
   ]
  },
  {
   "cell_type": "markdown",
   "id": "f038a0cb",
   "metadata": {},
   "source": [
    "# 2절.튜플\n",
    "\n",
    "- 리스트와 유사하지만, 읽기전용. 수정이 필요없는 데이터에서 사용 \n",
    "- *uppend,pop,remove 등 다 안됨.슬라이싱, 인덱스 가능\n",
    "- 수정이 불가하므로, 튜플에 데이터 수정, 추가, 삭제 불가 (따라서 튜플에 제공되는 함수도 많지 않음)\n",
    "- 리스트는 대괄표[] 사용, 튜플은 소괄호()나 tuple()이용해서 생성\n",
    "- 리스트 자리에는 튜플이 와도 상관이 없다."
   ]
  },
  {
   "cell_type": "code",
   "execution_count": 65,
   "id": "7d6132ea",
   "metadata": {},
   "outputs": [
    {
     "name": "stdout",
     "output_type": "stream",
     "text": [
      "<class 'tuple'>\n",
      "('서울', '부산', '인천', '목포')\n"
     ]
    }
   ],
   "source": [
    "#city = ('서울','부산','인천','목포')\n",
    "# 파이썬은 여러개의 값이 전달될 때, 튜플 타입으로 전달\n",
    "city = '서울','부산','인천', '목포' \n",
    "print(type(city))  #type이 왜 tuple? str \n",
    "print(city)"
   ]
  },
  {
   "cell_type": "code",
   "execution_count": 73,
   "id": "df3224bd",
   "metadata": {},
   "outputs": [
    {
     "data": {
      "text/plain": [
       "'서울=부산=인천=목포'"
      ]
     },
     "execution_count": 73,
     "metadata": {},
     "output_type": "execute_result"
    }
   ],
   "source": [
    "city = ['서울','부산','인천', '목포']\n",
    "'='.join(city)  #문자에 쓸 수 있는 함수 "
   ]
  },
  {
   "cell_type": "code",
   "execution_count": 83,
   "id": "21908a40",
   "metadata": {},
   "outputs": [
    {
     "name": "stdout",
     "output_type": "stream",
     "text": [
      "<class 'list'> ['서울', 3]\n"
     ]
    }
   ],
   "source": [
    "l = ['서울',3] #요소가 두개 있는 리스트[]\n",
    "print(type(l),l)"
   ]
  },
  {
   "cell_type": "code",
   "execution_count": 84,
   "id": "46dad081",
   "metadata": {},
   "outputs": [
    {
     "name": "stdout",
     "output_type": "stream",
     "text": [
      "<class 'tuple'> ('서울', 3)\n"
     ]
    }
   ],
   "source": [
    "t = ('서울',3) #요소가 두개 있는 튜플\n",
    "print(type(t),t)"
   ]
  },
  {
   "cell_type": "code",
   "execution_count": 85,
   "id": "8d23eb1e",
   "metadata": {},
   "outputs": [
    {
     "name": "stdout",
     "output_type": "stream",
     "text": [
      "<class 'list'> ['서울']\n"
     ]
    }
   ],
   "source": [
    "l = ['서울'] #요소가 하나인 리스트[]\n",
    "print(type(l),l)"
   ]
  },
  {
   "cell_type": "code",
   "execution_count": 86,
   "id": "fdb8feb3",
   "metadata": {},
   "outputs": [
    {
     "name": "stdout",
     "output_type": "stream",
     "text": [
      "<class 'str'> 서울\n"
     ]
    }
   ],
   "source": [
    "t = ('서울') #요소가 하나 있는 튜플이 아님 / 1개이면 ()가 사라져서 str로 표현이 됨.\n",
    "print(type(t),t)"
   ]
  },
  {
   "cell_type": "code",
   "execution_count": 88,
   "id": "2c0cbea0",
   "metadata": {},
   "outputs": [
    {
     "name": "stdout",
     "output_type": "stream",
     "text": [
      "<class 'tuple'> ('서울',)\n"
     ]
    }
   ],
   "source": [
    "t = ('서울', ) #요소가 하나 있는 튜플  / ,컴마를 작성하면 튜플로 표현이 됨.\n",
    "print(type(t),t)"
   ]
  },
  {
   "cell_type": "code",
   "execution_count": 97,
   "id": "c6d31535",
   "metadata": {},
   "outputs": [
    {
     "data": {
      "text/plain": [
       "(1, 3, 6, [1, 2, 3], [3, 2, 1])"
      ]
     },
     "execution_count": 97,
     "metadata": {},
     "output_type": "execute_result"
    }
   ],
   "source": [
    "numbers = (1,2,3) \n",
    "\n",
    "#수정하기 위한 함수는 제공되지 않음.\n",
    "#numbers.remove(3)\n",
    "#numbers.append(4)\n",
    "#numbers.pop()\n",
    "#numbers.sort() *sort는 numbers를 바꾸는 거라 실행이 안 됨. \n",
    "#못 쓰는 함수들은 tab키를 눌러도 실행이 안 됨. \n",
    "\n",
    "min(numbers), max(numbers),sum(numbers), sorted(numbers), sorted(numbers, reverse=True)\n",
    "#sorted는 numbers가 바뀌는게 아니라 순서가 변경되는거라 출력이 됨. sort는 안 됨.\n",
    "#결과 값이 튜플로 된 이유는 min, max, sum, sorted 여러개가 ,컴마로 되어있어서 ()가 쳐짐."
   ]
  },
  {
   "cell_type": "code",
   "execution_count": 101,
   "id": "db900fc5",
   "metadata": {},
   "outputs": [
    {
     "data": {
      "text/plain": [
       "(2, 0)"
      ]
     },
     "execution_count": 101,
     "metadata": {},
     "output_type": "execute_result"
    }
   ],
   "source": [
    "numbers = (0, 1, 2, (1, 2), 0, 1, 2)\n",
    "numbers.count(2), numbers.count(9)   \n",
    "#2를 찾으면 2개가 발견되어 2로 나타나고 9는 없는 숫자라서 0으로 표현이 됨."
   ]
  },
  {
   "cell_type": "code",
   "execution_count": 105,
   "id": "14d83c60",
   "metadata": {},
   "outputs": [
    {
     "name": "stdout",
     "output_type": "stream",
     "text": [
      "9가 없음\n"
     ]
    }
   ],
   "source": [
    "if 9 in numbers:\n",
    "    numbers.index(9)\n",
    "else :\n",
    "    print('9가 없음')"
   ]
  },
  {
   "cell_type": "code",
   "execution_count": 2,
   "id": "678956a5",
   "metadata": {},
   "outputs": [],
   "source": [
    "def safe_index(lst, item) :\n",
    "    \"\"\"\n",
    "    list안에 item 요소가 있으면 \n",
    "    item 요소의 index를 반환,\n",
    "    없으면 -1을 반환 \n",
    "    lst : 나열가능한 데이터\n",
    "    item : 찾을 데이터 \n",
    "    \"\"\"\n",
    "    if item in lst:        #in연산자 list 가 item에 포함하고 있다면 \n",
    "        return lst.index(item) \n",
    "    else:                   #포함하지 않는다면 -1\n",
    "        return -1\n",
    "\n",
    "# 위의 4줄을 1줄로 바꾼다면 이렇게 쓸 수 있음\n",
    "    #return lst.index(item) if item in lst else -1 "
   ]
  },
  {
   "cell_type": "code",
   "execution_count": 4,
   "id": "d6ea98b7",
   "metadata": {},
   "outputs": [
    {
     "data": {
      "text/plain": [
       "(-1, 2)"
      ]
     },
     "execution_count": 4,
     "metadata": {},
     "output_type": "execute_result"
    }
   ],
   "source": [
    "from safe import safe_index #safe = 파일명? \n",
    "numbers = (0, 1, 2, (1, 2), 0, 1, 2)\n",
    "safe_index(numbers, 9) , safe_index(numbers, 2)"
   ]
  },
  {
   "cell_type": "code",
   "execution_count": 5,
   "id": "8c3b2620",
   "metadata": {},
   "outputs": [
    {
     "data": {
      "text/plain": [
       "(0, 1, 2, (1, 2), 0, 1, 2, 0, 1, 2, (1, 2), 0, 1, 2, 0, 1, 2, (1, 2), 0, 1, 2)"
      ]
     },
     "execution_count": 5,
     "metadata": {},
     "output_type": "execute_result"
    }
   ],
   "source": [
    "numbers * 3"
   ]
  },
  {
   "cell_type": "code",
   "execution_count": 12,
   "id": "de7b9a66",
   "metadata": {},
   "outputs": [
    {
     "data": {
      "text/plain": [
       "[2, 4, 6]"
      ]
     },
     "execution_count": 12,
     "metadata": {},
     "output_type": "execute_result"
    }
   ],
   "source": [
    "# ex. 짝수 요소들을 추출하여 제곱한 데이터를 출력\n",
    "numbers = (1, 2, 3 ,4 ,5 ,6)\n",
    "[num for num in numbers]  #리스트 컴프리에이션 \n",
    "\n",
    "[data for data in numbers if data%2==0] \n",
    "#데이터를 출력 for numbers에서 if data 값이 2로 나눴을때 0인 숫자만"
   ]
  },
  {
   "cell_type": "code",
   "execution_count": 14,
   "id": "87e79e37",
   "metadata": {},
   "outputs": [
    {
     "data": {
      "text/plain": [
       "(2, 4, 6)"
      ]
     },
     "execution_count": 14,
     "metadata": {},
     "output_type": "execute_result"
    }
   ],
   "source": [
    "tuple([data for data in numbers if data%2==0])\n",
    "#튜플로 만들었을 때 / 대괄호[]에서 소괄호()로 변경됨"
   ]
  },
  {
   "cell_type": "code",
   "execution_count": 13,
   "id": "7bf72d7d",
   "metadata": {},
   "outputs": [
    {
     "data": {
      "text/plain": [
       "[4, 16, 36]"
      ]
     },
     "execution_count": 13,
     "metadata": {},
     "output_type": "execute_result"
    }
   ],
   "source": [
    "[data**2 for data in numbers if data%2==0]\n",
    "#제곱연사자로 출력 for numbers에서 if data 값이 2로 나눴을때 0인 숫자만"
   ]
  },
  {
   "cell_type": "markdown",
   "id": "116abe37",
   "metadata": {},
   "source": [
    "# 3절. 딕셔너리\n",
    "- index로 가져올 수 없음 key를 만들어서 사용해야 함.\n",
    "- key : 특정 값을 가져올 수 있는 도구 (리스트랑 튜플은 index로 하는것)\n",
    "- 중괄호{}를 이용해서, 키(key)-값(value) 쌍으로 구성된 자료구성\n",
    "- 키는 중복불가(유일한 값). 키에 list[]는 사용불가. 튜플()만 사용 가능\n",
    "- 값은 중복가능.\n",
    "- index를 이용한 참조 지원 안 함.\n",
    "- key : value(data)\n",
    "- 슬라이싱이 안 됨. \n",
    "- 순서가 없음. index처럼 첫번째 인덱스, 두번째 인덱스 이런식이 아님\n",
    "- 자연어 처리할 때 자주 사용 됨. "
   ]
  },
  {
   "cell_type": "code",
   "execution_count": 17,
   "id": "99f9cc56",
   "metadata": {},
   "outputs": [
    {
     "name": "stdout",
     "output_type": "stream",
     "text": [
      "<class 'dict'>\n",
      "{'name': '홍길동', 1: 22, (1, 2): [1, 2]}\n",
      "데이터 갯수 : 3\n"
     ]
    }
   ],
   "source": [
    "dic = {'name':'홍길동', 1:22, (1,2):[1,2]} #홍길도,22,[1,2]만 데이터임 (:뒤에 있는것)\n",
    "print(type(dic))\n",
    "print(dic)\n",
    "print('데이터 갯수 :', len(dic))"
   ]
  },
  {
   "cell_type": "code",
   "execution_count": 18,
   "id": "5acc8b9d",
   "metadata": {},
   "outputs": [
    {
     "data": {
      "text/plain": [
       "{'fruit': 'apple', 'number': 12, 'sport': 'golf'}"
      ]
     },
     "execution_count": 18,
     "metadata": {},
     "output_type": "execute_result"
    }
   ],
   "source": [
    "#짝수번째 00가져와 이런것이 안 됨.\n",
    "my_favorite = {'fruit':'apple','number':12, 'sport':'golf'}\n",
    "my_favorite"
   ]
  },
  {
   "cell_type": "code",
   "execution_count": 24,
   "id": "d7eb23b0",
   "metadata": {},
   "outputs": [
    {
     "name": "stdout",
     "output_type": "stream",
     "text": [
      "apple\n"
     ]
    }
   ],
   "source": [
    "print(my_favorite['fruit'])"
   ]
  },
  {
   "cell_type": "code",
   "execution_count": 25,
   "id": "ff040c16",
   "metadata": {},
   "outputs": [
    {
     "name": "stdout",
     "output_type": "stream",
     "text": [
      "apple\n"
     ]
    }
   ],
   "source": [
    "print(my_favorite.get('fruit')) # 이런 양식을 더 많이 씀\n",
    "# ★오류 "
   ]
  },
  {
   "cell_type": "code",
   "execution_count": 29,
   "id": "49b223f5",
   "metadata": {},
   "outputs": [
    {
     "ename": "KeyError",
     "evalue": "'people'",
     "output_type": "error",
     "traceback": [
      "\u001b[1;31m---------------------------------------------------------------------------\u001b[0m",
      "\u001b[1;31mKeyError\u001b[0m                                  Traceback (most recent call last)",
      "Cell \u001b[1;32mIn[29], line 1\u001b[0m\n\u001b[1;32m----> 1\u001b[0m \u001b[38;5;28mprint\u001b[39m(\u001b[43mmy_favorite\u001b[49m\u001b[43m[\u001b[49m\u001b[38;5;124;43m'\u001b[39;49m\u001b[38;5;124;43mpeople\u001b[39;49m\u001b[38;5;124;43m'\u001b[39;49m\u001b[43m]\u001b[49m)\n",
      "\u001b[1;31mKeyError\u001b[0m: 'people'"
     ]
    }
   ],
   "source": [
    "print(my_favorite['people']) #없는 키값을 인덱스 방식으로 참조시 에러"
   ]
  },
  {
   "cell_type": "code",
   "execution_count": 30,
   "id": "1901924c",
   "metadata": {},
   "outputs": [
    {
     "name": "stdout",
     "output_type": "stream",
     "text": [
      "None\n"
     ]
    }
   ],
   "source": [
    "print(my_favorite.get('people')) #없는 키값은 get함수로 참조하면 none으로 출력 (에러 없음)"
   ]
  },
  {
   "cell_type": "code",
   "execution_count": 32,
   "id": "e560d92f",
   "metadata": {},
   "outputs": [
    {
     "name": "stdout",
     "output_type": "stream",
     "text": [
      "-\n"
     ]
    }
   ],
   "source": [
    "print(my_favorite.get('people','-')) #없는 키를 get함수로 참조하면 두번째 값'-'으로 출력"
   ]
  },
  {
   "cell_type": "code",
   "execution_count": 37,
   "id": "f23a6a13",
   "metadata": {},
   "outputs": [
    {
     "name": "stdout",
     "output_type": "stream",
     "text": [
      "fruit의 apple을 mango로 수정 후 : {'fruit': 'mango', 'number': 12, 'sport': 'golf'}\n"
     ]
    }
   ],
   "source": [
    "#딕셔너리 데이터 수정하기 (변수의 값 수정) / 추가,삭제 \n",
    "#※키와 값이 쌍으로 수정\n",
    "#불러올때는 (), 수정할때는 []\n",
    "my_favorite = {'fruit':'apple','number':12, 'sport':'golf'}\n",
    "my_favorite['fruit'] = 'mango'\n",
    "print('fruit의 apple을 mango로 수정 후 :', my_favorite)"
   ]
  },
  {
   "cell_type": "code",
   "execution_count": 38,
   "id": "de2ff393",
   "metadata": {},
   "outputs": [
    {
     "name": "stdout",
     "output_type": "stream",
     "text": [
      "people 데이터 추가된 후 : {'fruit': 'mango', 'number': 12, 'sport': 'golf', 'people': '홍길동'}\n"
     ]
    }
   ],
   "source": [
    "#딕셔너리 데이터 추가하는 방법 \n",
    "my_favorite['people'] = '홍길동'\n",
    "print('people 데이터 추가된 후 :',my_favorite)"
   ]
  },
  {
   "cell_type": "code",
   "execution_count": 45,
   "id": "c32d9765",
   "metadata": {},
   "outputs": [
    {
     "name": "stdout",
     "output_type": "stream",
     "text": [
      "fruit 제거 후 : {'number': 12, 'sport': 'golf'}\n",
      "remove_data : 12\n",
      "jumber 제거 후 딕셔너리 : {'sport': 'golf'}\n"
     ]
    }
   ],
   "source": [
    "#딕셔너리 데이터 한개 제거하기 (2가지 방법이 있음)\n",
    "my_favorite = {'fruit':'apple','number':12, 'sport':'golf'}\n",
    "del my_favorite['fruit'] #my_favorite안에 fruit키와 mango값을 삭제\n",
    "print('fruit 제거 후 :',my_favorite)\n",
    "remove_data = my_favorite.pop('number') #number키의 값을 반환하고 제거'\n",
    "print('remove_data :', remove_data)\n",
    "print('jumber 제거 후 딕셔너리 :', my_favorite)"
   ]
  },
  {
   "cell_type": "code",
   "execution_count": null,
   "id": "fb2cdea2",
   "metadata": {},
   "outputs": [],
   "source": [
    "#enumerate 리스트나 퓨플은 순서가 있어서 "
   ]
  },
  {
   "cell_type": "code",
   "execution_count": 46,
   "id": "d13f84d1",
   "metadata": {},
   "outputs": [],
   "source": [
    "# for문을 이용한 튜플(리스트) 출력\n",
    "my_tup = ('홍길동', 30, '010-9999-8888')"
   ]
  },
  {
   "cell_type": "code",
   "execution_count": 53,
   "id": "a6cf6d1f",
   "metadata": {},
   "outputs": [
    {
     "name": "stdout",
     "output_type": "stream",
     "text": [
      "홍길동\t30\t010-9999-8888\t\n",
      "0번째 홍길동\t1번째 30\t2번째 010-9999-8888\t\n",
      "0번째 홍길동\t1번째 30\t2번째 010-9999-8888\t"
     ]
    }
   ],
   "source": [
    "for data in my_tup:\n",
    "    print(data, end='\\t')\n",
    "    \n",
    "print()\n",
    "for idx in range(len(my_tup)):\n",
    "    print(f'{idx}번째 {my_tup[idx]}', end='\\t')\n",
    "    \n",
    "print()\n",
    "for idx, value in enumerate(my_tup):\n",
    "    print(f'{idx}번째 {value}', end='\\t')"
   ]
  },
  {
   "cell_type": "code",
   "execution_count": 54,
   "id": "e59479e6",
   "metadata": {},
   "outputs": [],
   "source": [
    "my_dic = {'name':'홍길동','age':30,'tel':'010-9999-8888'}\n",
    "#이름은 홍길동, 나이는 30, 전화번호는 010-9999-8888로 저장하고 싶은 경우 위의 양식으로 해야한다."
   ]
  },
  {
   "cell_type": "code",
   "execution_count": 55,
   "id": "29c7f1a0",
   "metadata": {},
   "outputs": [
    {
     "name": "stdout",
     "output_type": "stream",
     "text": [
      "name\tage\ttel\t"
     ]
    }
   ],
   "source": [
    "# 엄청 비추 \n",
    "for data in my_dic:\n",
    "    print(data, end='\\t')"
   ]
  },
  {
   "cell_type": "code",
   "execution_count": 58,
   "id": "228963e3",
   "metadata": {},
   "outputs": [
    {
     "name": "stdout",
     "output_type": "stream",
     "text": [
      "홍길동\t30\t010-9999-8888\t"
     ]
    }
   ],
   "source": [
    "# 데이터만 출력 . 엄청비추 \n",
    "for data in my_dic:\n",
    "    print(my_dic[data], end='\\t')"
   ]
  },
  {
   "cell_type": "code",
   "execution_count": 61,
   "id": "bd3dbbfd",
   "metadata": {},
   "outputs": [
    {
     "name": "stdout",
     "output_type": "stream",
     "text": [
      "홍길동\t30\t010-9999-8888\t"
     ]
    }
   ],
   "source": [
    "#데이터만 추출 \n",
    "#*values():키값을 빼고 value의 데이터만 가져옴  items():모든 값 다 가져옴  keys():키값만 가져옴\n",
    "for data in my_dic.values(): \n",
    "    print(data, end='\\t')"
   ]
  },
  {
   "cell_type": "code",
   "execution_count": 64,
   "id": "667dadfd",
   "metadata": {},
   "outputs": [
    {
     "name": "stdout",
     "output_type": "stream",
     "text": [
      "name\tage\ttel\t"
     ]
    }
   ],
   "source": [
    "for data in my_dic.keys(): #키만 추출 \n",
    "    print(data, end='\\t')"
   ]
  },
  {
   "cell_type": "code",
   "execution_count": 66,
   "id": "9d1940dc",
   "metadata": {},
   "outputs": [
    {
     "name": "stdout",
     "output_type": "stream",
     "text": [
      "('name', '홍길동')\t('age', 30)\t('tel', '010-9999-8888')\t"
     ]
    }
   ],
   "source": [
    "for data in my_dic.items(): #키와 값 쌍을 모두 추출 \n",
    "    print(data, end='\\t')"
   ]
  },
  {
   "cell_type": "code",
   "execution_count": 67,
   "id": "9079e200",
   "metadata": {},
   "outputs": [
    {
     "name": "stdout",
     "output_type": "stream",
     "text": [
      "name:홍길동\tage:30\ttel:010-9999-8888\t"
     ]
    }
   ],
   "source": [
    "for key, value in my_dic.items():\n",
    "    print(f'{key}:{value}', end='\\t')"
   ]
  },
  {
   "cell_type": "code",
   "execution_count": 116,
   "id": "4a6c9239",
   "metadata": {},
   "outputs": [
    {
     "data": {
      "text/plain": [
       "[(0, ('name', '홍길동')), (1, ('age', 30)), (2, ('tel', '010-9999-8888'))]"
      ]
     },
     "execution_count": 116,
     "metadata": {},
     "output_type": "execute_result"
    }
   ],
   "source": [
    "list(enumerate (my_dic.items())) #순서가 없는 딕셔너리를 순서있게 인위적인 순서를 만드는 법"
   ]
  },
  {
   "cell_type": "code",
   "execution_count": 124,
   "id": "e291a13a",
   "metadata": {},
   "outputs": [
    {
     "name": "stdout",
     "output_type": "stream",
     "text": [
      "1.name : 홍길동\n",
      "2.age  : 30\n",
      "3.tel  : 010-9999-8888\n"
     ]
    }
   ],
   "source": [
    "for idx,(key,value) in enumerate(my_dic.items()): \n",
    "    print(\"{}.{:4} : {}\".format(idx+1,key,value))"
   ]
  },
  {
   "cell_type": "code",
   "execution_count": 126,
   "id": "0b1357fa",
   "metadata": {},
   "outputs": [
    {
     "data": {
      "text/plain": [
       "False"
      ]
     },
     "execution_count": 126,
     "metadata": {},
     "output_type": "execute_result"
    }
   ],
   "source": [
    "\"홍길동\" in my_dic    #my_dic  #in뒤에는 나열가능한 데이터, in앞에는 찾는 값(key) .\n",
    "#key에는 홍길동이 없고 values에 있음."
   ]
  },
  {
   "cell_type": "code",
   "execution_count": 127,
   "id": "325edef6",
   "metadata": {},
   "outputs": [
    {
     "data": {
      "text/plain": [
       "True"
      ]
     },
     "execution_count": 127,
     "metadata": {},
     "output_type": "execute_result"
    }
   ],
   "source": [
    "'홍길동' in my_dic.values() #in 뒤에 values를 붙여서 값찾기"
   ]
  },
  {
   "cell_type": "code",
   "execution_count": 128,
   "id": "d0751308",
   "metadata": {},
   "outputs": [
    {
     "name": "stdout",
     "output_type": "stream",
     "text": [
      "{'fruit': 'apple', 'number': 12, 'peopel': '홍길동'}\n",
      "{'fruit': 'apple', 'number': 12, 'peopel': '홍길동'}\n"
     ]
    }
   ],
   "source": [
    "#얕은 복사 (***비상 큰일임!)\n",
    "my_favorite = {'fruit':'apple', 'number':12}    #원본\n",
    "new_favorite = my_favorite #복사본(얕은 복사)\n",
    "new_favorite['peopel'] = '홍길동'\n",
    "print(my_favorite)\n",
    "print(new_favorite)"
   ]
  },
  {
   "cell_type": "code",
   "execution_count": 129,
   "id": "d703336a",
   "metadata": {},
   "outputs": [
    {
     "name": "stdout",
     "output_type": "stream",
     "text": [
      "{'fruit': 'apple', 'number': 12}\n",
      "{'fruit': 'apple', 'number': 12, 'peopel': '홍길동'}\n"
     ]
    }
   ],
   "source": [
    "my_favorite = {'fruit':'apple', 'number':12}    #원본\n",
    "new_favorite = my_favorite.copy() #복제본(깊은 복사)\n",
    "new_favorite['peopel'] = '홍길동'\n",
    "print(my_favorite)\n",
    "print(new_favorite)"
   ]
  },
  {
   "cell_type": "markdown",
   "id": "4f33510c",
   "metadata": {},
   "source": [
    "# 4절. 셋 만들기\n",
    "- 중복을 허용하지 않는 집합 (순서가 없음 == 인덱스가 없음)\n",
    "- 중괄호({})나 set()함수를 이용해서 셋 생성\n",
    "- 추가 : add(), update()\n",
    "- 집합연산자 : 합집합(&),교집합(|),여집합(-)\n",
    "- 삭제 : remove() / pop()이 안됨 .  순서가 없어서\n",
    "\n",
    "*순서가 있고 수정할 수 있는건 - 리스트\n",
    "*순서가 있고 수정할 수 없는건 - 튜플\n",
    "*순서도 업고 수정도 없는 - 딕셔너리"
   ]
  },
  {
   "cell_type": "code",
   "execution_count": 137,
   "id": "a6c88426",
   "metadata": {},
   "outputs": [
    {
     "data": {
      "text/plain": [
       "{'apple', 'banana', 'orange'}"
      ]
     },
     "execution_count": 137,
     "metadata": {},
     "output_type": "execute_result"
    }
   ],
   "source": [
    "fruits = {'banana', 'orange', 'banana', 'apple','banana'}\n",
    "fruits"
   ]
  },
  {
   "cell_type": "code",
   "execution_count": 138,
   "id": "ed0d6a87",
   "metadata": {},
   "outputs": [
    {
     "data": {
      "text/plain": [
       "{1, 20, 21, 22}"
      ]
     },
     "execution_count": 138,
     "metadata": {},
     "output_type": "execute_result"
    }
   ],
   "source": [
    "s1 = set([1, 20, 1, 21, 1, 22])\n",
    "s1"
   ]
  },
  {
   "cell_type": "code",
   "execution_count": 139,
   "id": "d7092a0c",
   "metadata": {},
   "outputs": [
    {
     "data": {
      "text/plain": [
       "{'fruit', 'number'}"
      ]
     },
     "execution_count": 139,
     "metadata": {},
     "output_type": "execute_result"
    }
   ],
   "source": [
    "#set함수에 딕셔너리를 적용하면 key값만 추출 , valuse(data)는 날아감\n",
    "my_favorite = {'fruit':'apple', 'number':12} \n",
    "set(my_favorite)"
   ]
  },
  {
   "cell_type": "markdown",
   "id": "afa41d6b",
   "metadata": {},
   "source": [
    "## 데이터 추가하기\n",
    "- add() : 기본 자료형, 튜플데이터를 하나의 요소로 추가할 경우.\n",
    "- update() : 리스트, 튜플, 딕셔너리, 셋 요소 하나하나씩 추가할 경우. dict 사용시 key만 추가\n"
   ]
  },
  {
   "cell_type": "code",
   "execution_count": 144,
   "id": "05909e57",
   "metadata": {},
   "outputs": [
    {
     "data": {
      "text/plain": [
       "{1, 2, 3, 4, 5, 6, 7}"
      ]
     },
     "execution_count": 144,
     "metadata": {},
     "output_type": "execute_result"
    }
   ],
   "source": [
    "s2 = {1, 1, 2, 3}\n",
    "s2.add(4)\n",
    "s2.update([5, 6, 7])\n",
    "s2"
   ]
  },
  {
   "cell_type": "code",
   "execution_count": 157,
   "id": "d709f3d9",
   "metadata": {},
   "outputs": [
    {
     "data": {
      "text/plain": [
       "{False, 1, 2, 3}"
      ]
     },
     "execution_count": 157,
     "metadata": {},
     "output_type": "execute_result"
    }
   ],
   "source": [
    "#논리값 False는 False, 0으로 인식\n",
    "#논리값 True는 True, 1로 인식\n",
    "#같은 데이터로 인식함.\n",
    "\n",
    "s = {1, 2, 3}\n",
    "s.add(False)\n",
    "s.add(True) #true를 숫자로 바꾸면 1이라서 안 들어감....\n",
    "s.add(0) #0=false이므로 0이 안 들어감..\n",
    "s"
   ]
  },
  {
   "cell_type": "code",
   "execution_count": 158,
   "id": "d619092b",
   "metadata": {},
   "outputs": [
    {
     "data": {
      "text/plain": [
       "{False, 2, 3}"
      ]
     },
     "execution_count": 158,
     "metadata": {},
     "output_type": "execute_result"
    }
   ],
   "source": [
    "s.remove(True)\n",
    "s"
   ]
  },
  {
   "cell_type": "markdown",
   "id": "e1a524da",
   "metadata": {},
   "source": [
    "## 연산:&(교집합),|(합집합) -(여집합)\n",
    "\n",
    "&,| : 집합연산자,논리연산자,비트연산자"
   ]
  },
  {
   "cell_type": "code",
   "execution_count": 162,
   "id": "fa09657d",
   "metadata": {},
   "outputs": [
    {
     "name": "stdout",
     "output_type": "stream",
     "text": [
      "s1 | s2 = {1, 2, 3, 4, 5, 6, 7}\n",
      "s1 & s2 = {3, 4, 5}\n",
      "s1 - s2 = {1, 2}\n"
     ]
    }
   ],
   "source": [
    "s1 = {1, 2, 3, 4, 5}\n",
    "s2 = {3, 4, 5, 6, 7}\n",
    "print('s1 | s2 =', s1|s2)\n",
    "print('s1 & s2 =', s1&s2)\n",
    "print('s1 - s2 =', s1-s2)"
   ]
  },
  {
   "cell_type": "markdown",
   "id": "a3df1abd",
   "metadata": {},
   "source": [
    "# 5절. enumerate\n",
    "- 반복자 또는 순서 객체로 반복문을 처리할 때 사용 함수\n",
    "- 리스트, 튜플, 셋, 딕셔너리를 for문에 사용시"
   ]
  },
  {
   "cell_type": "code",
   "execution_count": 164,
   "id": "b19ae8b1",
   "metadata": {},
   "outputs": [
    {
     "name": "stdout",
     "output_type": "stream",
     "text": [
      "길자\t영자\t길순\t길동\t"
     ]
    }
   ],
   "source": [
    "#{}셋을 써서 순서 지정못함요\n",
    "names = {'길자', '길동', '길순', '영자', '영자'}\n",
    "for name in names:\n",
    "    print(name, end='\\t')"
   ]
  },
  {
   "cell_type": "code",
   "execution_count": 165,
   "id": "678a1ec9",
   "metadata": {},
   "outputs": [
    {
     "name": "stdout",
     "output_type": "stream",
     "text": [
      "0.길자\n",
      "1.영자\n",
      "2.길순\n",
      "3.길동\n"
     ]
    }
   ],
   "source": [
    "for no,name in enumerate(names):\n",
    "    print(f'{no}.{name}')"
   ]
  },
  {
   "cell_type": "code",
   "execution_count": 171,
   "id": "38bdc047",
   "metadata": {},
   "outputs": [
    {
     "name": "stdout",
     "output_type": "stream",
     "text": [
      "순자\n",
      "길동\n",
      "길자\n"
     ]
    }
   ],
   "source": [
    "names = ['순자','길동','길자']\n",
    "for name in names:\n",
    "    print(name)"
   ]
  },
  {
   "cell_type": "code",
   "execution_count": 184,
   "id": "92fdb1a8",
   "metadata": {},
   "outputs": [
    {
     "name": "stdout",
     "output_type": "stream",
     "text": [
      "1.순자의 연락처는 010-9999-9999이며 사는 지역은 서울입니다.\n",
      "2.길동의 연락처는 010-8888-8888이며 사는 지역은 인천입니다.\n",
      "3.길자의 연락처는 010-7777-7777이며 사는 지역은 판교입니다.\n"
     ]
    }
   ],
   "source": [
    "names = ['순자','길동','길자']\n",
    "tels = ['010-9999-9999','010-8888-8888','010-7777-7777']\n",
    "adds =['서울','인천','판교']\n",
    "\n",
    "#0번째 이름은 0번째tel,0번째 전화번호 \n",
    "# 순자 : 010-9999-9999 서울\n",
    "# 길동 : 010-8888-8888 인천\n",
    "# 길자 : 010-7777-7777 판교 \n",
    "\n",
    "for idx in range(len(names)): #idx가 0부터 range까지\n",
    "    print('{}.{}의 연락처는 {}이며 사는 지역은 {}입니다.'.format(idx+1,\n",
    "                                                           names[idx],\n",
    "                                                           tels[idx],\n",
    "                                                           adds[idx]))"
   ]
  },
  {
   "cell_type": "code",
   "execution_count": 186,
   "id": "5311f2fe",
   "metadata": {},
   "outputs": [
    {
     "name": "stdout",
     "output_type": "stream",
     "text": [
      "순자: 010-9999-9999 - 서울\n",
      "길동: 010-8888-8888 - 인천\n",
      "길자: 010-7777-7777 - 판교\n"
     ]
    }
   ],
   "source": [
    "for name, tel, add in zip(names, tels, adds):\n",
    "    print(f'{name}: {tel} - {add}')\n",
    "    \n",
    "#인덱스를 만들 수는 없음 . 인덱스를 만들려면... 다른걸 활용(enumerate)사용"
   ]
  },
  {
   "cell_type": "code",
   "execution_count": 197,
   "id": "19dc0a1e",
   "metadata": {},
   "outputs": [
    {
     "data": {
      "text/plain": [
       "[(0, ('순자', '010-9999-9999', '서울')),\n",
       " (1, ('길동', '010-8888-8888', '인천')),\n",
       " (2, ('길자', '010-7777-7777', '판교'))]"
      ]
     },
     "execution_count": 197,
     "metadata": {},
     "output_type": "execute_result"
    }
   ],
   "source": [
    "list(enumerate(zip(names, tels, adds)))"
   ]
  },
  {
   "cell_type": "code",
   "execution_count": 207,
   "id": "b45d61af",
   "metadata": {},
   "outputs": [
    {
     "name": "stdout",
     "output_type": "stream",
     "text": [
      "1.길 : 010-9999-9999-서울\n"
     ]
    }
   ],
   "source": [
    "for idx, (name, tel, add) in enumerate(zip(name, tels, adds)) :\n",
    "    print('{}.{} : {}-{}'.format(idx+1,\n",
    "                                name,\n",
    "                                tel,\n",
    "                                add))"
   ]
  },
  {
   "cell_type": "code",
   "execution_count": 212,
   "id": "9b62a329",
   "metadata": {},
   "outputs": [
    {
     "name": "stdout",
     "output_type": "stream",
     "text": [
      "1.길 : 010-9999-9999-서울\n"
     ]
    }
   ],
   "source": [
    "for idx, (name, tel, add) in enumerate(zip(name, tels, adds)) :\n",
    "    print('{}.{} : {}-{}'.format(idx+1,\n",
    "                                name,\n",
    "                                tel,\n",
    "                                add))"
   ]
  },
  {
   "cell_type": "code",
   "execution_count": 185,
   "id": "2b3d5e8a",
   "metadata": {},
   "outputs": [
    {
     "data": {
      "text/plain": [
       "[('순자', '010-9999-9999', '서울'),\n",
       " ('길동', '010-8888-8888', '인천'),\n",
       " ('길자', '010-7777-7777', '판교')]"
      ]
     },
     "execution_count": 185,
     "metadata": {},
     "output_type": "execute_result"
    }
   ],
   "source": [
    "#zip\n",
    "list(zip(names, tels, adds)) #담겨있는 데이터수가 똑같은것만 나타남"
   ]
  },
  {
   "cell_type": "markdown",
   "id": "4fc3e412",
   "metadata": {},
   "source": [
    "# 6절. 연습문제"
   ]
  },
  {
   "cell_type": "markdown",
   "id": "b3205ac9",
   "metadata": {},
   "source": [
    "변수가 담을 수 있는 기본 자료형들\n",
    "```\n",
    "![자료형들](https://pynative.com/wp-content/uploads/2021/02/python-data-types.jpg)\n",
    "```\n",
    "\n",
    "<img src=\"https://pynative.com/wp-content/uploads/2021/02/python-data-types.jpg\"\n",
    "     width='400'\n",
    "     style='float:left' >"
   ]
  },
  {
   "cell_type": "code",
   "execution_count": 176,
   "id": "29c02c9b",
   "metadata": {},
   "outputs": [
    {
     "name": "stdout",
     "output_type": "stream",
     "text": [
      "[1, 2, 3, 4, 5, 6, 7, 8, 9, 10, 100]\n"
     ]
    }
   ],
   "source": [
    "'''\n",
    "Q.다음 리스트가 주어졌을 경우 요구대로 코드를 작성하시오.\n",
    "numbers = [1, 2, 3, 4, 5, 6, 7, 8, 9, 10]\n",
    "1.숫자 100을 맨 뒤에 추가하세요.\n",
    "'''\n",
    "numbers = [1, 2, 3, 4, 5, 6, 7, 8, 9, 10]\n",
    "numbers.append(100)\n",
    "print(numbers)"
   ]
  },
  {
   "cell_type": "code",
   "execution_count": 193,
   "id": "a9655bc5",
   "metadata": {},
   "outputs": [
    {
     "name": "stdout",
     "output_type": "stream",
     "text": [
      "[1, 2, 3, 4, 5, 6, 7, 8, 9, 10, [200, 300, 400, 500]]\n",
      "[1, 2, 3, 4, 5, 6, 7, 8, 9, 10, [200, 300, 400, 500], 200, 300, 400, 500]\n"
     ]
    }
   ],
   "source": [
    "'''\n",
    "Q.다음 리스트가 주어졌을 경우 요구대로 코드를 작성하시오.\n",
    "numbers = [1, 2, 3, 4, 5, 6, 7, 8, 9, 10]\n",
    "2.다음 리스트를 numbers 리스트 맨뒤에 추가하세요.\n",
    "data = [200, 300, 400, 500]\n",
    "\n",
    "append() : 맨 뒤에 요소 추가\n",
    "extend() : 맨 뒤에 리스트를 요소별로 추가\n",
    "insert(idx, 값) : idx번째 인덱스 위치에 추가(기존 데이터는 shift)\n",
    "'''\n",
    "\n",
    "numbers = [1, 2, 3, 4, 5, 6, 7, 8, 9, 10]\n",
    "data = [200, 300, 400, 500]\n",
    "\n",
    "numbers.append(data)\n",
    "print(numbers)\n",
    "\n",
    "numbers.extend(data)\n",
    "print(numbers)\n",
    "\n"
   ]
  },
  {
   "cell_type": "code",
   "execution_count": 195,
   "id": "d94a8a13",
   "metadata": {},
   "outputs": [
    {
     "name": "stdout",
     "output_type": "stream",
     "text": [
      "[1, 2, 3, 4, 5]\n"
     ]
    }
   ],
   "source": [
    "'''\n",
    "Q.다음 리스트가 주어졌을 경우 요구대로 코드를 작성하시오.\n",
    "numbers = [1, 2, 3, 4, 5, 6, 7, 8, 9, 10]\n",
    "3. 처음 다섯 숫자만 출력하세요.\n",
    "\n",
    "'''\n",
    "print(numbers[0:5])"
   ]
  },
  {
   "cell_type": "code",
   "execution_count": 210,
   "id": "6369ca98",
   "metadata": {},
   "outputs": [
    {
     "name": "stdout",
     "output_type": "stream",
     "text": [
      "[1, 3, 5, 7, 9]\n"
     ]
    }
   ],
   "source": [
    "'''\n",
    "Q.다음 리스트가 주어졌을 경우 요구대로 코드를 작성하시오.\n",
    "numbers = [1, 2, 3, 4, 5, 6, 7, 8, 9, 10]\n",
    "4. 리스트에서 짝수 번째 데이터만 출력하세요.\n",
    "\n",
    "'''\n",
    "numbers = [1, 2, 3, 4, 5, 6, 7, 8, 9, 10]\n",
    "print(numbers[::2])\n"
   ]
  },
  {
   "cell_type": "code",
   "execution_count": 297,
   "id": "4538c1c5",
   "metadata": {},
   "outputs": [
    {
     "name": "stdout",
     "output_type": "stream",
     "text": [
      "['0', 2, '0', 4, '0', 6, '0', 8, '0', 10]\n",
      "[0, 2, 0, 4, 0, 6, 0, 8, 0, 10]\n"
     ]
    }
   ],
   "source": [
    "'''\n",
    "Q.다음 리스트가 주어졌을 경우 요구대로 코드를 작성하시오.\n",
    "numbers = [1, 2, 3, 4, 5, 6, 7, 8, 9, 10]\n",
    "5. 짝수번째 데이터를 모두 0으로 바꾸세요.\n",
    "\n",
    "'''\n",
    "numbers = [1, 2, 3, 4, 5, 6, 7, 8, 9, 10]\n",
    "numbers[::2] = ['0','0','0','0','0']\n",
    "print(numbers)\n",
    "\n",
    "numbers[::2] = [0] * len(numbers[::2]) #numbers[::2]의 갯수를 확인하는 방법\n",
    "print(numbers)\n"
   ]
  },
  {
   "cell_type": "code",
   "execution_count": 295,
   "id": "095f68db",
   "metadata": {},
   "outputs": [
    {
     "data": {
      "text/plain": [
       "[0, 1, 2, 3, 4, 5, 6, 7, 8, 9]"
      ]
     },
     "execution_count": 295,
     "metadata": {},
     "output_type": "execute_result"
    }
   ],
   "source": [
    "numbers = [1, 2, 3, 4, 5, 6, 7, 8, 9, 10]\n",
    "[idx for idx in range(len(numbers))]"
   ]
  },
  {
   "cell_type": "code",
   "execution_count": 296,
   "id": "1c63acdb",
   "metadata": {},
   "outputs": [
    {
     "data": {
      "text/plain": [
       "[0, 2, 0, 4, 0, 6, 0, 8, 0, 10]"
      ]
     },
     "execution_count": 296,
     "metadata": {},
     "output_type": "execute_result"
    }
   ],
   "source": [
    "numbers = [1, 2, 3, 4, 5, 6, 7, 8, 9, 10]\n",
    "[numbers[idx] if idx%2!=0 else 0 for idx in range(len(numbers))]"
   ]
  },
  {
   "cell_type": "code",
   "execution_count": 214,
   "id": "7a335b5a",
   "metadata": {},
   "outputs": [
    {
     "name": "stdout",
     "output_type": "stream",
     "text": [
      "[10, 9, 8, 7, 6, 5, 4, 3, 2, 1]\n"
     ]
    }
   ],
   "source": [
    "'''\n",
    "Q.다음 리스트가 주어졌을 경우 요구대로 코드를 작성하시오.\n",
    "numbers = [1, 2, 3, 4, 5, 6, 7, 8, 9, 10]\n",
    "6. 데이터를 역순으로 나열하세요.(내림차순 정렬이 아닙니다.)\n",
    "'''\n",
    "print(numbers[::-1])"
   ]
  },
  {
   "cell_type": "markdown",
   "id": "31a8a054",
   "metadata": {},
   "source": [
    "### 2번문제"
   ]
  },
  {
   "cell_type": "code",
   "execution_count": 237,
   "id": "4f35b54f",
   "metadata": {},
   "outputs": [
    {
     "name": "stdout",
     "output_type": "stream",
     "text": [
      "서울시 마포구\n"
     ]
    }
   ],
   "source": [
    "'''\n",
    "Q.다음 딕셔너리 데이터가 주어졌을 경우 요구사항대로 코드를 작성하세요.\n",
    "member_info = {\"name\" : \"홍길동\", \"age\" : 20, \"address\" : \"서울시 마포구\", \"score\": 90}\n",
    "1. address값을 출력하세요.\n",
    "'''\n",
    "\n",
    "member_info = {\"name\" : \"홍길동\", \"age\" : 20, \"address\" : \"서울시 마포구\", \"score\": 90}\n",
    "print(member_info.get(\"address\"))"
   ]
  },
  {
   "cell_type": "code",
   "execution_count": 298,
   "id": "dcc747b2",
   "metadata": {},
   "outputs": [
    {
     "name": "stdout",
     "output_type": "stream",
     "text": [
      "score의 값은?  90\n",
      "score를 제거하고 값은?  {'name': '홍길동', 'age': 20, 'address': '서울시 마포구'}\n"
     ]
    },
    {
     "ename": "NameError",
     "evalue": "name 'member' is not defined",
     "output_type": "error",
     "traceback": [
      "\u001b[1;31m---------------------------------------------------------------------------\u001b[0m",
      "\u001b[1;31mNameError\u001b[0m                                 Traceback (most recent call last)",
      "Cell \u001b[1;32mIn[298], line 12\u001b[0m\n\u001b[0;32m      9\u001b[0m \u001b[38;5;28;01mdel\u001b[39;00m member_info[\u001b[38;5;124m'\u001b[39m\u001b[38;5;124mscore\u001b[39m\u001b[38;5;124m'\u001b[39m]\n\u001b[0;32m     10\u001b[0m \u001b[38;5;28mprint\u001b[39m(\u001b[38;5;124m'\u001b[39m\u001b[38;5;124mscore를 제거하고 값은? \u001b[39m\u001b[38;5;124m'\u001b[39m,member_info)\n\u001b[1;32m---> 12\u001b[0m \u001b[38;5;28mprint\u001b[39m(\u001b[43mmember\u001b[49m\u001b[38;5;241m.\u001b[39mpop(score))\n",
      "\u001b[1;31mNameError\u001b[0m: name 'member' is not defined"
     ]
    }
   ],
   "source": [
    "'''\n",
    "Q.다음 딕셔너리 데이터가 주어졌을 경우 요구사항대로 코드를 작성하세요.\n",
    "member_info = {\"name\" : \"홍길동\", \"age\" : 20, \"address\" : \"서울시 마포구\", \"score\": 90}\n",
    "2. score를 출력하고 member_info딕셔너리에서 삭제하세요.\n",
    "'''\n",
    "member_info = {\"name\" : \"홍길동\", \"age\" : 20, \"address\" : \"서울시 마포구\", \"score\": 90}\n",
    "new_member_info = member_info.copy()\n",
    "print('score의 값은? ',member_info.get(\"score\"))\n",
    "del member_info['score']\n",
    "print('score를 제거하고 값은? ',member_info)\n",
    "\n",
    "#한번에 하는 방법 \n",
    "#print(member.pop(score))\n",
    "#print(member)"
   ]
  },
  {
   "cell_type": "code",
   "execution_count": 257,
   "id": "4322bd5d",
   "metadata": {},
   "outputs": [
    {
     "name": "stdout",
     "output_type": "stream",
     "text": [
      "주소 변경된 딕셔너리 : {'name': '홍길동', 'age': 20, 'address': '서울시 서대문구', 'score': 90}\n"
     ]
    }
   ],
   "source": [
    "'''\n",
    "Q.다음 딕셔너리 데이터가 주어졌을 경우 요구사항대로 코드를 작성하세요.\n",
    "member_info = {\"name\" : \"홍길동\", \"age\" : 20, \"address\" : \"서울시 마포구\", \"score\": 90}\n",
    "3. address를 \"서울시 서대문구\"로 변경하세요 \n",
    "'''\n",
    "\n",
    "member_info = {\"name\" : \"홍길동\", \"age\" : 20, \"address\" : \"서울시 마포구\", \"score\": 90}\n",
    "member_info[\"address\"] = '서울시 서대문구'\n",
    "print(\"주소 변경된 딕셔너리 :\",member_info)"
   ]
  },
  {
   "cell_type": "code",
   "execution_count": 6,
   "id": "c7ced664",
   "metadata": {},
   "outputs": [
    {
     "data": {
      "text/plain": [
       "['홍길동', 20, '서울시 마포구', 90]"
      ]
     },
     "execution_count": 6,
     "metadata": {},
     "output_type": "execute_result"
    }
   ],
   "source": [
    "'''\n",
    "Q.다음 딕셔너리 데이터가 주어졌을 경우 요구사항대로 코드를 작성하세요.\n",
    "member_info = {\"name\" : \"홍길동\", \"age\" : 20, \"address\" : \"서울시 마포구\", \"score\": 90}\n",
    "4. member_info 딕셔너리 데이터의 값을 리스트로 출력하세요.\n",
    "'''\n",
    "#member_info = {\"name\" : \"홍길동\", \"age\" : 20, \"address\" : \"서울시 마포구\", \"score\": 90}\n",
    "member_info = {\"name\" : \"홍길동\", \"age\" : 20, \"address\" : \"서울시 마포구\", \"score\": 90}\n",
    "list(member_info. values())"
   ]
  },
  {
   "cell_type": "code",
   "execution_count": null,
   "id": "2292487f",
   "metadata": {},
   "outputs": [],
   "source": [
    "'''\n",
    "Q.다음 코드를 실행했을 때 출력되는 것은?\n",
    "L1 =(\"orange\",\"apple\",\"banana\",\"kiwi\")\n",
    "new_list = [i for i in L1 if len(1)>5]\n",
    "print(new_list)\n",
    "'''\n",
    "\n",
    "#L1 =(\"orange\",\"apple\",\"banana\",\"kiwi\")\n",
    "#new_list = [i for i in L1 if len(i)>5]\n",
    "#print(new_list)\n",
    "\n",
    "5자글자 이상인 6글자부터 나타날수 있어서  orange,banana 나타남"
   ]
  },
  {
   "cell_type": "code",
   "execution_count": null,
   "id": "cd70acaa",
   "metadata": {},
   "outputs": [],
   "source": [
    "'''\n",
    "Q.다음 코드와 실행결과가 잘못 짝지어진 것은?\n",
    "① print(list(range(10)))       [0,1,2,3,4,5,6,7,8,9]\n",
    "② print(list(range(5,10)))     [5,6,7,8,9]\n",
    "③ print(list(range(10,0,-1)))  [9,8,7,6,5,4,3,2,1,0]\n",
    "④ print(list(range(10,20,2)))  [10,12,14,16,18]\n",
    "'''\n",
    "\n",
    "2번.. 5번째 인덱스는 4인데 5부터 시작한다.."
   ]
  },
  {
   "cell_type": "code",
   "execution_count": null,
   "id": "39693eae",
   "metadata": {},
   "outputs": [],
   "source": [
    "'''\n",
    "Q.다음 구문에 의해 출력되는것은?\n",
    "numbers_2d = [[1,2,3,4,5],[10,20,30,40],[1,3,5],[2,]]\n",
    "len(numbers_2d[3])\n",
    "'''\n",
    "2개 (2, ) 이면 하나로 인식이 안 되니까.. 아닌가요?"
   ]
  },
  {
   "cell_type": "code",
   "execution_count": 270,
   "id": "c095a541",
   "metadata": {},
   "outputs": [
    {
     "name": "stdout",
     "output_type": "stream",
     "text": [
      "[1, 2, 3, 4, 5, 10, 20, 30, 40, 50]\n"
     ]
    }
   ],
   "source": [
    "'''\n",
    "Q.다음 코드의 실행결과가 나올수 있는 빈칸에 들어갈 함수 이름은?\n",
    "numbers = [1,2,3,4,5]\n",
    "numbers.________(10,20,30,40,50)\n",
    "numbers.\n",
    "'''\n",
    "\n",
    "numbers = [1,2,3,4,5]\n",
    "numbers.extend([10,20,30,40,50])\n",
    "print(numbers)"
   ]
  },
  {
   "cell_type": "code",
   "execution_count": null,
   "id": "3179c0d3",
   "metadata": {},
   "outputs": [],
   "source": [
    "'''\n",
    "Q.다음 구문을 실행할 때 결과는?\n",
    "numbers = list(range(10))\n",
    "numbers[::2]=0*len(numbers[::2])\n",
    "print(numbers)\n",
    "\n",
    "'''\n",
    "numbers[::2]= 짝수번째 호출 \n",
    "0*len(numbers[::2]) = 0* 짝수 갯수\n",
    "짝수번째를 = 0으로 짝수갯수만큼 바꾸자\n",
    "0,1,0,3,0,5,0,7,0,9\n"
   ]
  },
  {
   "cell_type": "code",
   "execution_count": 273,
   "id": "78455c79",
   "metadata": {},
   "outputs": [
    {
     "name": "stdout",
     "output_type": "stream",
     "text": [
      "[5, 1, 6, 3, 7, 5, 8, 7, 9, 9]\n"
     ]
    }
   ],
   "source": [
    "'''\n",
    "Q.다음 구문을 실행할 때 결과는?\n",
    "'''\n",
    "numbers = [0,1,2,3,4,5,6,7,8,9]\n",
    "numbers[::2] = numbers[5:]\n",
    "print(numbers)\n",
    "numbers[::2] = 0,2,4,6,8 이고 (짝수번째)\n",
    "numbers[5:] = 5,6,7,8,9 인데 \n",
    "짝수번째 인덱스를 numbers[5:]로 바꾸라는 말.\n",
    "최종적으로 5,1,6,3,7,5,8,7,9,9"
   ]
  },
  {
   "cell_type": "code",
   "execution_count": 280,
   "id": "b04ade8a",
   "metadata": {},
   "outputs": [
    {
     "ename": "KeyError",
     "evalue": "0",
     "output_type": "error",
     "traceback": [
      "\u001b[1;31m---------------------------------------------------------------------------\u001b[0m",
      "\u001b[1;31mKeyError\u001b[0m                                  Traceback (most recent call last)",
      "Cell \u001b[1;32mIn[280], line 6\u001b[0m\n\u001b[0;32m      1\u001b[0m \u001b[38;5;124;03m'''\u001b[39;00m\n\u001b[0;32m      2\u001b[0m \u001b[38;5;124;03mQ.다음 데이터에서 10을 출력할 수 없는 구문은?\u001b[39;00m\n\u001b[0;32m      3\u001b[0m \u001b[38;5;124;03m'''\u001b[39;00m\n\u001b[0;32m      5\u001b[0m my_dic \u001b[38;5;241m=\u001b[39m {\u001b[38;5;124m\"\u001b[39m\u001b[38;5;124ma\u001b[39m\u001b[38;5;124m\"\u001b[39m:\u001b[38;5;241m10\u001b[39m,\u001b[38;5;124m\"\u001b[39m\u001b[38;5;124mb\u001b[39m\u001b[38;5;124m\"\u001b[39m:\u001b[38;5;241m20\u001b[39m,\u001b[38;5;124m\"\u001b[39m\u001b[38;5;124mc\u001b[39m\u001b[38;5;124m\"\u001b[39m:\u001b[38;5;241m30\u001b[39m}\n\u001b[1;32m----> 6\u001b[0m \u001b[43mmy_dic\u001b[49m\u001b[43m[\u001b[49m\u001b[38;5;241;43m0\u001b[39;49m\u001b[43m]\u001b[49m\n",
      "\u001b[1;31mKeyError\u001b[0m: 0"
     ]
    }
   ],
   "source": [
    "'''\n",
    "Q.다음 데이터에서 10을 출력할 수 없는 구문은?\n",
    "'''\n",
    "\n",
    "my_dic = {\"a\":10,\"b\":20,\"c\":30}\n",
    "my_dic[0] #인덱스로 접근이 불가하다"
   ]
  },
  {
   "cell_type": "code",
   "execution_count": null,
   "id": "79437057",
   "metadata": {},
   "outputs": [],
   "source": [
    "'''\n",
    "Q.다음 프로그램의 결과를 출력하시오\n",
    "'''\n",
    "\n",
    "fruits = ['apple','banana','orange']\n",
    "x,y,z = fruits\n",
    "print(x) = apple\n",
    "print(y) = banana\n",
    "print(z) = orange"
   ]
  },
  {
   "cell_type": "code",
   "execution_count": null,
   "id": "586232bf",
   "metadata": {},
   "outputs": [],
   "source": [
    "'''\n",
    "Q.다음 프로그램의 결과를 출력하시오\n",
    "'''\n",
    "\n",
    "fruits = ['apple','banana','orange']\n",
    "print(len(fruits)) = 3  (3개의 데이터 갯수)"
   ]
  },
  {
   "cell_type": "code",
   "execution_count": null,
   "id": "7c4300e2",
   "metadata": {},
   "outputs": [],
   "source": [
    "'''\n",
    "Q.파이썬에서 함수를 만들기 위해 선언하는 단어는?\n",
    "'''\n",
    "\n",
    "def"
   ]
  },
  {
   "cell_type": "markdown",
   "id": "430af476",
   "metadata": {},
   "source": [
    "## 예전 연습문제"
   ]
  },
  {
   "cell_type": "code",
   "execution_count": 76,
   "id": "9dcfbd2d",
   "metadata": {},
   "outputs": [
    {
     "name": "stdout",
     "output_type": "stream",
     "text": [
      "홍길동님의 나이는 30살입니다.\n"
     ]
    }
   ],
   "source": [
    "'''\n",
    "연습문제 1.\n",
    "이름과 나이 변수를 다음 형식으로 출력하도록 format() 함수를 이용해 형식화하세요\n",
    "'''\n",
    "\n",
    "name = '홍길동'\n",
    "age = 30\n",
    "\n",
    "print('{}님의 나이는 {}살입니다.'.format(name, age))"
   ]
  },
  {
   "cell_type": "code",
   "execution_count": 90,
   "id": "f51b9c31",
   "metadata": {},
   "outputs": [
    {
     "name": "stdout",
     "output_type": "stream",
     "text": [
      "a+b의 값은 ?  23\n",
      "a-b의 값은 ? 17\n",
      "a*b의 값은 ? 60\n",
      "a/b의 값은 ? 6.666666666666667\n",
      "a/b의 몫의 값은 ? 6\n",
      "a/b의 나머지 값은 ? 2\n"
     ]
    }
   ],
   "source": [
    "''' \n",
    "연습문제 2. \n",
    "두 정수를 입력받아 두 수의 덧셈 , 뺄셈 , 곱셈 , 나눗셈 , 몫 , 나머지를 출력하세요\n",
    "'''\n",
    "\n",
    "a = 20\n",
    "b = 3\n",
    "\n",
    "print('a+b의 값은 ? ', a+b)\n",
    "print('a-b의 값은 ?', a-b)\n",
    "print('a*b의 값은 ?', a*b)\n",
    "print('a/b의 값은 ?', a/b)\n",
    "print('a/b의 몫의 값은 ?', a//b)\n",
    "print('a/b의 나머지 값은 ?',a%b)"
   ]
  },
  {
   "cell_type": "code",
   "execution_count": 97,
   "id": "4041c5f0",
   "metadata": {},
   "outputs": [
    {
     "name": "stdout",
     "output_type": "stream",
     "text": [
      "['Hello', 'World']\n",
      "['World', 'Hello']\n"
     ]
    }
   ],
   "source": [
    "'''\n",
    "연습문제 3.\n",
    "문자열의 분리하기와 합치기 기능을 이용하여 ‘ Hello World'가 \n",
    "할당된 변수를 이용하여 ‘World Hello' 로 출력하세요\n",
    "'''\n",
    "temp = \"Hello World\"\n",
    "result = temp.split()\n",
    "print(result)\n",
    "print(result[::-1])"
   ]
  },
  {
   "cell_type": "code",
   "execution_count": 114,
   "id": "b023c59f",
   "metadata": {},
   "outputs": [
    {
     "name": "stdout",
     "output_type": "stream",
     "text": [
      "bcdefa\n"
     ]
    }
   ],
   "source": [
    "'''\n",
    "연습문제4.\n",
    "x = ' abcdef ＇를 이용하여 bcdefa 로 출력하세요\n",
    "'''\n",
    "x = 'abcdef'\n",
    "print(x[1:],x[0], sep='')\n"
   ]
  },
  {
   "cell_type": "code",
   "execution_count": 115,
   "id": "cb061aca",
   "metadata": {},
   "outputs": [
    {
     "name": "stdout",
     "output_type": "stream",
     "text": [
      "fedcba\n"
     ]
    }
   ],
   "source": [
    "'''\n",
    "연습문제5.\n",
    "x = ' abcdef ＇를 이용하여 fedcba 로 출력하세요\n",
    "'''\n",
    "x = 'abcdef'\n",
    "\n",
    "print(x[::-1])"
   ]
  },
  {
   "cell_type": "code",
   "execution_count": null,
   "id": "ccb79289",
   "metadata": {},
   "outputs": [],
   "source": [
    "'''\n",
    "연습문제6.\n",
    "오늘의 온도를 섭씨온도로 입력받아 화씨 온도로 변환하는 프로그램을 작성하세요 . \n",
    "화씨 온도는 소수점이 있을 경우만 두번째 자리까지 출력되고 , 소수점이하 값이 없는 경우 \n",
    "소수점을 출력하지 않도록 합니다 다음은 섭씨와 화씨의 변환 공식입니다 . \n",
    "C 는 섭씨 , F 는 화씨\n",
    "C = (F32) / 1.8\n",
    "F = (C1.8) + 32\n",
    "'''\n"
   ]
  }
 ],
 "metadata": {
  "kernelspec": {
   "display_name": "Python 3 (ipykernel)",
   "language": "python",
   "name": "python3"
  },
  "language_info": {
   "codemirror_mode": {
    "name": "ipython",
    "version": 3
   },
   "file_extension": ".py",
   "mimetype": "text/x-python",
   "name": "python",
   "nbconvert_exporter": "python",
   "pygments_lexer": "ipython3",
   "version": "3.10.9"
  },
  "toc": {
   "base_numbering": 1,
   "nav_menu": {},
   "number_sections": false,
   "sideBar": true,
   "skip_h1_title": false,
   "title_cell": "Table of Contents",
   "title_sidebar": "Contents",
   "toc_cell": false,
   "toc_position": {
    "height": "calc(100% - 180px)",
    "left": "10px",
    "top": "150px",
    "width": "166.625px"
   },
   "toc_section_display": true,
   "toc_window_display": true
  }
 },
 "nbformat": 4,
 "nbformat_minor": 5
}
