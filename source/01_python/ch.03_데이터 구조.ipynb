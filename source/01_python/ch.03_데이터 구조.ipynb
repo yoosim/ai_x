{
 "cells": [
  {
   "cell_type": "code",
   "execution_count": 3,
   "id": "557cc79d",
   "metadata": {},
   "outputs": [
    {
     "data": {
      "text/html": [
       "\n",
       "<style>\n",
       "div.container{width:86% !important;}\n",
       "div.cell.code_cell.rendered{width:100%;}\n",
       "div.CodeMirror {font-family:Consolas; font-size:15pt;}\n",
       "div.output {font-size:15pt; font-weight:bold;}\n",
       "div.input {font-family:Consolas; font-size:15pt;}\n",
       "div.prompt {min-width:70px;}\n",
       "div#toc-wrapper{padding-top:120px;}\n",
       "div.text_cell_render ul li{font-size:12pt;padding:5px;}\n",
       "table.dataframe{font-size:15px;}\n",
       "</style>\n",
       " "
      ],
      "text/plain": [
       "<IPython.core.display.HTML object>"
      ]
     },
     "metadata": {},
     "output_type": "display_data"
    }
   ],
   "source": [
    "from IPython.display import display, HTML \n",
    "display(HTML(\"\"\"\n",
    "<style>\n",
    "div.container{width:86% !important;}\n",
    "div.cell.code_cell.rendered{width:100%;}\n",
    "div.CodeMirror {font-family:Consolas; font-size:15pt;}\n",
    "div.output {font-size:15pt; font-weight:bold;}\n",
    "div.input {font-family:Consolas; font-size:15pt;}\n",
    "div.prompt {min-width:70px;}\n",
    "div#toc-wrapper{padding-top:120px;}\n",
    "div.text_cell_render ul li{font-size:12pt;padding:5px;}\n",
    "table.dataframe{font-size:15px;}\n",
    "</style>\n",
    " \"\"\"))"
   ]
  },
  {
   "cell_type": "markdown",
   "id": "d0f9a298",
   "metadata": {},
   "source": [
    "<font size=\"5\" color=\"orange\">CH.03 데이터구조</font>\n",
    "# 1절. 리스트 \n",
    "- **리스트 [], 튜플(), 딕셔너리{}, 셋 / #import가 필요없는 여러가지 자료를 한 변수에 담는게 목적** \\\n",
    "    #리스트와 튜플 차이는?\\\n",
    "    #불용어:삭제 단어 를 쓸 때는 셋을 사용 \\\n",
    "    #리스트는 수정할 수 있으나 튜플은 수정할 수 없음 \n",
    "    \n",
    "## 1.1 리스트 만들기\n",
    "- []를 이용해서 만들며, 여러개 값(여러 타입)을 저장/관리할 수 있음 (관리:정렬,추가,삭제 등)\n",
    "- list(리스트로 변환 가능한 자료)함수 이용도 가능 (*리스트로 형변환이 가능한 자료를 넣어야 함)\n",
    "- 특정한 값을 가져오고 싶다면 index 사용가능\n",
    "- 인덱스 : 각 요소의 위치, 0부터 시작. 맨 마지막 인덱스는 -1\n",
    "- 슬라이싱 가능 ( [from:stop:step]) from부터 step앞까지 step만큼 전진 : 부분 데이터셋 추출\n",
    "- 인덱스와 슬라이싱을 이용해서 읽기/쓰기 지원  "
   ]
  },
  {
   "cell_type": "code",
   "execution_count": 6,
   "id": "e5647bea",
   "metadata": {},
   "outputs": [
    {
     "data": {
      "text/plain": [
       "list"
      ]
     },
     "execution_count": 6,
     "metadata": {},
     "output_type": "execute_result"
    }
   ],
   "source": [
    "fruits = [\"banana\", \"apple\", \"orange\", \"grape\"]\n",
    "type(fruits)"
   ]
  },
  {
   "cell_type": "code",
   "execution_count": 7,
   "id": "c5e7cf0e",
   "metadata": {},
   "outputs": [
    {
     "name": "stdout",
     "output_type": "stream",
     "text": [
      "['banana', 'apple', 'orange', 'grape']\n",
      "banana\n"
     ]
    }
   ],
   "source": [
    "print(fruits)\n",
    "print(fruits[0])\n"
   ]
  },
  {
   "cell_type": "code",
   "execution_count": 8,
   "id": "2a46aa8d",
   "metadata": {},
   "outputs": [
    {
     "name": "stdout",
     "output_type": "stream",
     "text": [
      "['mango', 'apple', 'orange', 'grape']\n"
     ]
    }
   ],
   "source": [
    "fruits[0] = \"mango\"\n",
    "print(fruits)"
   ]
  },
  {
   "cell_type": "code",
   "execution_count": 27,
   "id": "5c0bef0b",
   "metadata": {},
   "outputs": [
    {
     "name": "stdout",
     "output_type": "stream",
     "text": [
      "x=mango\n",
      "y=apple\n",
      "z=orange\n",
      "fruits=['mango', 'apple', 'orange']\n"
     ]
    }
   ],
   "source": [
    "fruits = ['mango', 'apple', 'orange']\n",
    "x, y, z = fruits\n",
    "print(f'x={x}')\n",
    "print(f'y={y}')\n",
    "print(f'z={z}')\n",
    "print(f'fruits={fruits}')"
   ]
  },
  {
   "cell_type": "code",
   "execution_count": 28,
   "id": "54988abd",
   "metadata": {},
   "outputs": [
    {
     "name": "stdout",
     "output_type": "stream",
     "text": [
      "[0, 1, 2, 3, 4, 5, 6, 7, 8, 9]\n",
      "[0, 2, 4, 6, 8, 10, 12, 14, 16, 18]\n"
     ]
    }
   ],
   "source": [
    "# range(form:to:by) : ~부터 ~앞까지 (슬라이싱이랑 똑같음 앞까지 세야함)\n",
    "    #from부터 to앞까지 by씩 증가하면서 지정된 범위의 정수\n",
    "    #from 생략시 : 0\n",
    "    #by 생략시 :1\n",
    "    \n",
    "range(0,10)\n",
    "print(list(range(0,10)))\n",
    "print(list(range(0,20,2)))"
   ]
  },
  {
   "cell_type": "code",
   "execution_count": 29,
   "id": "bb2ffb97",
   "metadata": {},
   "outputs": [
    {
     "data": {
      "text/plain": [
       "[10, 8, 6, 4, 2, 0]"
      ]
     },
     "execution_count": 29,
     "metadata": {},
     "output_type": "execute_result"
    }
   ],
   "source": [
    "list(range(10,-1,-2))"
   ]
  },
  {
   "cell_type": "code",
   "execution_count": 30,
   "id": "65b2b455",
   "metadata": {},
   "outputs": [
    {
     "name": "stdout",
     "output_type": "stream",
     "text": [
      "0\n",
      "1\n",
      "2\n"
     ]
    }
   ],
   "source": [
    "#반복문(3회)\n",
    "for i in [0,1,2] : \n",
    "    print(i)"
   ]
  },
  {
   "cell_type": "code",
   "execution_count": 33,
   "id": "485372ad",
   "metadata": {},
   "outputs": [
    {
     "name": "stdout",
     "output_type": "stream",
     "text": [
      "0\n",
      "1\n",
      "2\n",
      "3\n",
      "4\n",
      "5\n"
     ]
    }
   ],
   "source": [
    "#반복문 문법 \n",
    "for i in list(range(6)) : #for 문법에서 들여쓰기 필수 (블럭)\n",
    "    print(i)"
   ]
  },
  {
   "cell_type": "code",
   "execution_count": 41,
   "id": "3202ad75",
   "metadata": {},
   "outputs": [
    {
     "name": "stdout",
     "output_type": "stream",
     "text": [
      "mango\n",
      "apple\n",
      "orange\n",
      "grape\n"
     ]
    }
   ],
   "source": [
    "fruits = ['mango', 'apple', 'orange', 'grape'] #in뒤에 나열가능한 수 \n",
    "for i in range(len(fruits)):     #range(*마지막 인덱스+1)  #range(len(fruits)) : 리스트 데이터 수 \n",
    "    print(fruits[i])\n",
    "\n",
    "#print(fruits[0])\n",
    "#print(fruits[1])\n",
    "#print(fruits[2])"
   ]
  },
  {
   "cell_type": "code",
   "execution_count": 46,
   "id": "aca74e40",
   "metadata": {},
   "outputs": [
    {
     "name": "stdout",
     "output_type": "stream",
     "text": [
      "mango\n",
      "apple\n",
      "orange\n",
      "grape\n"
     ]
    }
   ],
   "source": [
    "for value in fruits :     \n",
    "    print(value)"
   ]
  },
  {
   "cell_type": "code",
   "execution_count": 54,
   "id": "03381285",
   "metadata": {},
   "outputs": [],
   "source": [
    "fruits = ['mango', 'apple', 'orange', 'grape']\n",
    "#[[0, 'mango'], [1, 'apple'], [2, orange], [3, grape]]를 만드는 함수 (enumerate 나열가능한 자료)\n",
    "# (index,값)들의 셋들을 만듬\n",
    "#※웹크롤링 할 때 많이 씀"
   ]
  },
  {
   "cell_type": "code",
   "execution_count": 57,
   "id": "dc64d888",
   "metadata": {},
   "outputs": [
    {
     "name": "stdout",
     "output_type": "stream",
     "text": [
      "0번째 과일은 mango입니다\n",
      "1번째 과일은 apple입니다\n",
      "2번째 과일은 orange입니다\n",
      "3번째 과일은 grape입니다\n"
     ]
    }
   ],
   "source": [
    "for idx, value in enumerate(fruits):\n",
    "    print(\"{}번째 과일은 {}입니다\". format(idx, value))"
   ]
  },
  {
   "cell_type": "code",
   "execution_count": 60,
   "id": "3ab891e5",
   "metadata": {},
   "outputs": [
    {
     "data": {
      "text/plain": [
       "[(0, 'mango'), (1, 'apple'), (2, 'orange'), (3, 'grape')]"
      ]
     },
     "execution_count": 60,
     "metadata": {},
     "output_type": "execute_result"
    }
   ],
   "source": [
    "list(enumerate(fruits))"
   ]
  },
  {
   "cell_type": "code",
   "execution_count": 69,
   "id": "99dbba21",
   "metadata": {},
   "outputs": [
    {
     "name": "stdout",
     "output_type": "stream",
     "text": [
      "[0, True, '2', 3, [4, 5, 6]]\n",
      "True\n",
      "5\n"
     ]
    }
   ],
   "source": [
    "#리스트는 여러 타입의 데이터를 담을 수 있음\n",
    "numbers = [0, True, '2', 3, [4,5,6]] #모두 가능\n",
    "print(numbers)\n",
    "print(numbers[1])\n",
    "#4번째 객체[4,5,6]중에서 5만 어떻게 가져와야할까? (리스트 안에 있는 리스트를 가져오는 방법)\n",
    "print(numbers[4][1])"
   ]
  },
  {
   "cell_type": "code",
   "execution_count": 88,
   "id": "9e02c0f8",
   "metadata": {},
   "outputs": [
    {
     "data": {
      "text/plain": [
       "(3, 4)"
      ]
     },
     "execution_count": 88,
     "metadata": {},
     "output_type": "execute_result"
    }
   ],
   "source": [
    "#90점 100점 95점 3학생의 국어 점수\n",
    "#3학생의 국영수점수를 담아내는것\n",
    "# 2차원 리스트라고 함.(리스트안에 리스트가 들어있는것) / 논리적인 접근으로 2차원으로 명칭\n",
    "\n",
    "numbers_2d = [[90, 90, 92, 93],\n",
    "             [85, 86, 82, 83],\n",
    "             [70, 71, 72, 73]]\n",
    "\n",
    "len(numbers_2d),len(numbers_2d[0])"
   ]
  },
  {
   "cell_type": "code",
   "execution_count": 89,
   "id": "c35210ba",
   "metadata": {},
   "outputs": [],
   "source": [
    "i = 10"
   ]
  },
  {
   "cell_type": "code",
   "execution_count": 84,
   "id": "0f0ec8ec",
   "metadata": {},
   "outputs": [
    {
     "name": "stdout",
     "output_type": "stream",
     "text": [
      "0 [90, 90, 92, 93]\n",
      "1 [85, 86, 82, 83]\n",
      "2 [70, 71, 72, 73]\n"
     ]
    }
   ],
   "source": [
    "for idx, row in enumerate(numbers_2d) :\n",
    "    print(idx,row)"
   ]
  },
  {
   "cell_type": "code",
   "execution_count": 97,
   "id": "17bcb096",
   "metadata": {},
   "outputs": [
    {
     "name": "stdout",
     "output_type": "stream",
     "text": [
      "0행0열:90\t0행1열:90\t0행2열:92\t0행3열:93\t\n",
      "1행0열:85\t1행1열:86\t1행2열:82\t1행3열:83\t\n",
      "2행0열:70\t2행1열:71\t2행2열:72\t2행3열:73\t\n"
     ]
    }
   ],
   "source": [
    "for i, row in enumerate(numbers_2d) :\n",
    "    for j, value in enumerate(row) : \n",
    "        print(\"{}행{}열:{}\".format(i, j,value) ,end='\\t')\n",
    "    print() #()안에 end='\\n'생략이 기본적으로 되어있어서 1줄이 끝나면 밑으로 내려라 실행"
   ]
  },
  {
   "cell_type": "code",
   "execution_count": 114,
   "id": "b8b07833",
   "metadata": {},
   "outputs": [
    {
     "name": "stdout",
     "output_type": "stream",
     "text": [
      "70\t71\t72\t73\t\n",
      "70\t71\t72\t73\t\n",
      "70\t71\t72\t73\t\n"
     ]
    }
   ],
   "source": [
    "# 90 91 92 93\n",
    "# 80 81 82 83\n",
    "# 70 71 72 73 이 나와야함\n",
    "\n",
    "for value in numbers_2d :     \n",
    "    for item in row :\n",
    "        print(item, end='\\t')\n",
    "    print()\n",
    "    "
   ]
  },
  {
   "cell_type": "code",
   "execution_count": 112,
   "id": "b790451d",
   "metadata": {},
   "outputs": [
    {
     "name": "stdout",
     "output_type": "stream",
     "text": [
      "[90, 90, 92, 93]\n",
      "[85, 86, 82, 83]\n",
      "[70, 71, 72, 73]\n"
     ]
    }
   ],
   "source": [
    "for row in numbers_2d:\n",
    "    print(row)"
   ]
  },
  {
   "cell_type": "markdown",
   "id": "4bed201e",
   "metadata": {},
   "source": [
    "## 1.2 기본 정보 조회"
   ]
  },
  {
   "cell_type": "code",
   "execution_count": 121,
   "id": "63a0252d",
   "metadata": {},
   "outputs": [],
   "source": [
    "numbers = [1,12,3,5,4] #정렬되지않는 값\n",
    "numbers_2d = [[100, 0],\n",
    "              [9, 100],\n",
    "              [50,54]]"
   ]
  },
  {
   "cell_type": "code",
   "execution_count": 122,
   "id": "f76a7d97",
   "metadata": {},
   "outputs": [
    {
     "name": "stdout",
     "output_type": "stream",
     "text": [
      "5 3\n"
     ]
    }
   ],
   "source": [
    "# 요소의 수 (아이템 수/데이터 수)\n",
    "print(len(numbers),len(numbers_2d))\n"
   ]
  },
  {
   "cell_type": "code",
   "execution_count": 123,
   "id": "54a3866a",
   "metadata": {},
   "outputs": [
    {
     "data": {
      "text/plain": [
       "(1, 12)"
      ]
     },
     "execution_count": 123,
     "metadata": {},
     "output_type": "execute_result"
    }
   ],
   "source": [
    "# 최소값, 최대값\n",
    "min(numbers), max(numbers)"
   ]
  },
  {
   "cell_type": "code",
   "execution_count": 127,
   "id": "336819b7",
   "metadata": {},
   "outputs": [
    {
     "data": {
      "text/plain": [
       "([9, 100], [100, 0])"
      ]
     },
     "execution_count": 127,
     "metadata": {},
     "output_type": "execute_result"
    }
   ],
   "source": [
    "# 2차원 list의 min() : 첫번째 요소(0번 인덱스)가 가장 작은 것\n",
    "#             max() : 0번째 인덱스 요소가 가장 큰 것\n",
    "min(numbers_2d),max(numbers_2d)"
   ]
  },
  {
   "cell_type": "code",
   "execution_count": 128,
   "id": "20cef475",
   "metadata": {},
   "outputs": [
    {
     "data": {
      "text/plain": [
       "('APPLE', 'orange')"
      ]
     },
     "execution_count": 128,
     "metadata": {},
     "output_type": "execute_result"
    }
   ],
   "source": [
    "# 문자 list의 경우 ascii 코드값으로 min(),max() 적용\n",
    "\n",
    "fruits = ['mango', 'apple', 'orange','APPLE']\n",
    "min(fruits), max(fruits)"
   ]
  },
  {
   "cell_type": "code",
   "execution_count": 134,
   "id": "1e9741bb",
   "metadata": {},
   "outputs": [
    {
     "name": "stdout",
     "output_type": "stream",
     "text": [
      "오른차순 : [1, 3, 4, 5, 12]\n",
      "내림차순 : [12, 5, 4, 3, 1]\n",
      "sorted함수 사용시 리스트 내용이 바뀌지 않음 : [1, 12, 3, 5, 4]\n",
      "합 : 25\n"
     ]
    }
   ],
   "source": [
    "numbers = [1, 12, 3, 5, 4]\n",
    "#정렬(오름차순, 내림차순) *문자도 정렬 가능\n",
    "print('오른차순 :', sorted(numbers)) #sorted안에 나열가능한 데이터만 가능 \n",
    "print('내림차순 :', sorted(numbers,reverse=True))\n",
    "print('sorted함수 사용시 리스트 내용이 바뀌지 않음 :', numbers)\n",
    "print('합 :', sum(numbers))"
   ]
  },
  {
   "cell_type": "markdown",
   "id": "024d48ed",
   "metadata": {},
   "source": [
    "## 1.3 요소 추가\n",
    "```\n",
    "+ : 두 리스트 연결해서 추가\n",
    "* : 리스트를 곱한 수만큼 반복\n",
    "append() : 맨 뒤에 요소 추가\n",
    "extend() : 맨 뒤에 리스트를 요소별로 추가\n",
    "insert(idx, 값) : idx번째 인덱스 위치에 추가(기존 데이터는 shift)\n",
    "    지정된 위치에 추가\n",
    "```"
   ]
  },
  {
   "cell_type": "code",
   "execution_count": 136,
   "id": "67d16e71",
   "metadata": {},
   "outputs": [
    {
     "data": {
      "text/plain": [
       "[1, 2, 3, 1, 2, 3]"
      ]
     },
     "execution_count": 136,
     "metadata": {},
     "output_type": "execute_result"
    }
   ],
   "source": [
    "numbers = [1, 2, 3]\n",
    "numbers = numbers + numbers\n",
    "numbers"
   ]
  },
  {
   "cell_type": "code",
   "execution_count": 164,
   "id": "5f21eb4c",
   "metadata": {},
   "outputs": [
    {
     "name": "stdout",
     "output_type": "stream",
     "text": [
      "[1, 2, 3, 4]\n"
     ]
    }
   ],
   "source": [
    "#추가 \n",
    "numbers = [1, 2, 3]\n",
    "numbers.append(4)\n",
    "print(numbers)"
   ]
  },
  {
   "cell_type": "code",
   "execution_count": 165,
   "id": "76d6e8d0",
   "metadata": {},
   "outputs": [
    {
     "name": "stdout",
     "output_type": "stream",
     "text": [
      "[1, 2, 3, 4, [5, 6, 7]]\n"
     ]
    }
   ],
   "source": [
    "numbers.append([5, 6, 7]) #list 그대로 들어감. 맨뒤에 하나의 요소로 추가됨\n",
    "print(numbers)"
   ]
  },
  {
   "cell_type": "code",
   "execution_count": 166,
   "id": "9cc9b3ec",
   "metadata": {},
   "outputs": [
    {
     "name": "stdout",
     "output_type": "stream",
     "text": [
      "[1, 2, 3, 4, 5, 6, 7]\n"
     ]
    }
   ],
   "source": [
    "num = [1, 2, 3] #list(단일 요소)가 아닌 요소별로 각각 추가\n",
    "num.extend([4,5,6,7])\n",
    "print(num)"
   ]
  },
  {
   "cell_type": "code",
   "execution_count": 167,
   "id": "4d788f6d",
   "metadata": {},
   "outputs": [
    {
     "name": "stdout",
     "output_type": "stream",
     "text": [
      "[1, 2, 'X', 3, 4, 5, 6, 7]\n"
     ]
    }
   ],
   "source": [
    "num.insert(2,'X')\n",
    "print(num)"
   ]
  },
  {
   "cell_type": "markdown",
   "id": "0757322d",
   "metadata": {},
   "source": [
    "## 1.4 인덱싱과 요소 갯수\n",
    "- 변수[index] : 인덱스를 이용한 접근 (몇번째에 무슨데이터가 있는지 찾는것) **체크 필요**\n",
    "- index(찾을데이터) : 해당 찾을 데이터가 있는 요소의 index를 반환 (무슨데이터가 몇번째에 있는지 찾는것?)\n",
    "                     찾을데이터가 없는 경우 오류 발생\n",
    "- count(찾을데이터) : 리스트에서 찾을데이터의 갯수 반환 "
   ]
  },
  {
   "cell_type": "code",
   "execution_count": 174,
   "id": "e3eb6613",
   "metadata": {},
   "outputs": [
    {
     "data": {
      "text/plain": [
       "(2, 0)"
      ]
     },
     "execution_count": 174,
     "metadata": {},
     "output_type": "execute_result"
    }
   ],
   "source": [
    "numbers = [1, 2, 3, [1, 2, 3], 1, 2, 3]\n",
    "numbers.count(2), numbers.count(-2)"
   ]
  },
  {
   "cell_type": "code",
   "execution_count": 178,
   "id": "c8b96709",
   "metadata": {},
   "outputs": [
    {
     "data": {
      "text/plain": [
       "1"
      ]
     },
     "execution_count": 178,
     "metadata": {},
     "output_type": "execute_result"
    }
   ],
   "source": [
    "numbers.index(2) #0번째 index부터 2가 처음 나오는 index를 반환"
   ]
  },
  {
   "cell_type": "code",
   "execution_count": 179,
   "id": "196981ad",
   "metadata": {},
   "outputs": [
    {
     "data": {
      "text/plain": [
       "5"
      ]
     },
     "execution_count": 179,
     "metadata": {},
     "output_type": "execute_result"
    }
   ],
   "source": [
    "numbers.index(2, 2) #2번째 index가 처음 나오는 index를 반환"
   ]
  },
  {
   "cell_type": "code",
   "execution_count": 188,
   "id": "e4b64fb7",
   "metadata": {},
   "outputs": [
    {
     "name": "stdout",
     "output_type": "stream",
     "text": [
      "9가 없음\n"
     ]
    }
   ],
   "source": [
    "if numbers.count(9) :\n",
    "    numbers.index(9)\n",
    "else:\n",
    "    print('9가 없음')"
   ]
  },
  {
   "cell_type": "code",
   "execution_count": 191,
   "id": "36ec8d1b",
   "metadata": {},
   "outputs": [
    {
     "name": "stdout",
     "output_type": "stream",
     "text": [
      "9가 없음\n"
     ]
    }
   ],
   "source": [
    "if 9 in numbers:\n",
    "    print(numbers.index(9))\n",
    "else:\n",
    "    print('9가 없음')"
   ]
  },
  {
   "cell_type": "code",
   "execution_count": 192,
   "id": "6a287bba",
   "metadata": {},
   "outputs": [
    {
     "data": {
      "text/plain": [
       "False"
      ]
     },
     "execution_count": 192,
     "metadata": {},
     "output_type": "execute_result"
    }
   ],
   "source": [
    "9 in numbers #numbers 리스트에 9가 존재하는지 여부 파악 \n",
    "#index 함수는 in과 대부분 함께 쓴다. 왜? 오류가 나는걸 잡아주기 때문에"
   ]
  },
  {
   "cell_type": "code",
   "execution_count": 194,
   "id": "a0661dd4",
   "metadata": {},
   "outputs": [],
   "source": [
    "#함수 만들기 :def\n",
    "def safe_index(lst, data) : #lst안에 data가 있는지 여부\n",
    "    if data in lst :\n",
    "        return lst.index(data)\n",
    "    else: \n",
    "        return -1"
   ]
  },
  {
   "cell_type": "code",
   "execution_count": 195,
   "id": "360293dd",
   "metadata": {},
   "outputs": [
    {
     "data": {
      "text/plain": [
       "-1"
      ]
     },
     "execution_count": 195,
     "metadata": {},
     "output_type": "execute_result"
    }
   ],
   "source": [
    "safe_index(numbers,9)"
   ]
  },
  {
   "cell_type": "markdown",
   "id": "950b53b5",
   "metadata": {},
   "source": [
    "## 1.5 원하는 요소 추출\n",
    "\n",
    "1. 리스트 슬라이싱 : 리스트에서 원하는 index의 데이터를 추출 (인덱스의 범위를 벗어나도 에러 안 남)\n",
    "       -  [from:stop:step] from부터 stop앞까지 step씩 증가하는 index의 값을 추출\n",
    "       -  from 생략시 처음부터, stop 생략시 끝까지. step 생략시 1칸씩. 모두 생략 가능\n",
    "       -  음수 인덱스 가능\n",
    "2. <font color=\"red\">**리스트 컴프리헨션**</font> : 리스트에서 원하는 데이터를 추출\n",
    "        *컴프리헨션을 못하면 if문법이 많아짐"
   ]
  },
  {
   "cell_type": "code",
   "execution_count": 216,
   "id": "4c42d09c",
   "metadata": {},
   "outputs": [
    {
     "name": "stdout",
     "output_type": "stream",
     "text": [
      "[1, 5, 10, 13]\n",
      "[20, 13, 12, 10, 9, 5, 3, 1]\n"
     ]
    }
   ],
   "source": [
    "numbers = [1, 3, 5, 9, 10, 12, 13, 20]\n",
    "#짝수번째 인덱스 값 출력\n",
    "print(numbers[::2])\n",
    "#꺼꾸로 출력\n",
    "print(numbers[::-1])"
   ]
  },
  {
   "cell_type": "code",
   "execution_count": 218,
   "id": "7ae599d7",
   "metadata": {},
   "outputs": [
    {
     "name": "stdout",
     "output_type": "stream",
     "text": [
      "[1, 3, 5, 9, 10, 12, 13, 20]\n"
     ]
    }
   ],
   "source": [
    "numbers = [1, 3, 5, 9, 10, 12, 13, 20]\n",
    "#리스트에서 모든 데이터를 변수에 담아 출력하시오.\n",
    "#비추\n",
    "result = []\n",
    "for data in numbers:\n",
    "    result.append(data)\n",
    "print(result)"
   ]
  },
  {
   "cell_type": "code",
   "execution_count": 225,
   "id": "97e4f6b9",
   "metadata": {},
   "outputs": [
    {
     "name": "stdout",
     "output_type": "stream",
     "text": [
      "[10, 12, 20]\n"
     ]
    }
   ],
   "source": [
    "numbers = [1, 3, 5, 9, 10, 12, 13, 20]\n",
    "#짝수만 뽑아내라\n",
    "#비추 \n",
    "\n",
    "#**선생님 자료 확인**\n",
    "result= []\n",
    "for data in numbers:\n",
    "    if not data%2:   #{}%2의 값이 0일 때 \n",
    "        result.append(data)\n",
    "print(result)"
   ]
  },
  {
   "cell_type": "code",
   "execution_count": 223,
   "id": "6bf27329",
   "metadata": {},
   "outputs": [
    {
     "data": {
      "text/plain": [
       "[1, 3, 5, 9, 10, 12, 13, 20]"
      ]
     },
     "execution_count": 223,
     "metadata": {},
     "output_type": "execute_result"
    }
   ],
   "source": [
    "# numbers의 모든 데이터를 리스트 컴프리헨션으로 추출\n",
    "[data for data in numbers]"
   ]
  },
  {
   "cell_type": "code",
   "execution_count": 226,
   "id": "658d41fc",
   "metadata": {},
   "outputs": [
    {
     "data": {
      "text/plain": [
       "[10, 12, 20]"
      ]
     },
     "execution_count": 226,
     "metadata": {},
     "output_type": "execute_result"
    }
   ],
   "source": [
    "# numbers의 짝수 데이터를 리스트컴프리헨션으로 추출\n",
    "[data for data in numbers if data%2==0]"
   ]
  },
  {
   "cell_type": "code",
   "execution_count": 251,
   "id": "cb3c2e16",
   "metadata": {},
   "outputs": [
    {
     "data": {
      "text/plain": [
       "[10, 12, 13, 20]"
      ]
     },
     "execution_count": 251,
     "metadata": {},
     "output_type": "execute_result"
    }
   ],
   "source": [
    "# ex1. 리스트에서 10 이상만 추출\n",
    "numbers = [1, 3, 5, 9, 10, 12, 13, 20]\n",
    "\n",
    "[data for data in numbers if data>=10]"
   ]
  },
  {
   "cell_type": "code",
   "execution_count": 254,
   "id": "a0f88ce2",
   "metadata": {},
   "outputs": [
    {
     "data": {
      "text/plain": [
       "['orange']"
      ]
     },
     "execution_count": 254,
     "metadata": {},
     "output_type": "execute_result"
    }
   ],
   "source": [
    "# ex2. fruists에서 5글자가 넘는 과일만 추출\n",
    "fruits = ['orange','apple','mango','kiwi']\n",
    "\n",
    "[data for data in fruits if len(data)>5]\n",
    "[data for data in fruits if len(data)>5]"
   ]
  },
  {
   "cell_type": "code",
   "execution_count": 256,
   "id": "73ac86a2",
   "metadata": {},
   "outputs": [
    {
     "data": {
      "text/plain": [
       "[9, 16, 25]"
      ]
     },
     "execution_count": 256,
     "metadata": {},
     "output_type": "execute_result"
    }
   ],
   "source": [
    "#★다시 해보기 문제!!!\n",
    "# ex3. 3이상의 요소들의 제곱을 추출\n",
    "L = [1, 2, 3, 4, 5]\n",
    "\n",
    "[data**2 for data in L if data >=3]\n",
    "\n",
    "    \n",
    "#**2 "
   ]
  },
  {
   "cell_type": "code",
   "execution_count": 265,
   "id": "bb0f99a3",
   "metadata": {},
   "outputs": [
    {
     "data": {
      "text/plain": [
       "2"
      ]
     },
     "execution_count": 265,
     "metadata": {},
     "output_type": "execute_result"
    }
   ],
   "source": [
    "# 퀴즈 망고를 찾아라\n",
    "fruits = ['orange','apple','mango','kiwi']\n",
    "\n",
    "\n",
    "fruits.index(\"mango\")"
   ]
  },
  {
   "cell_type": "code",
   "execution_count": 264,
   "id": "8b161e20",
   "metadata": {},
   "outputs": [
    {
     "name": "stdout",
     "output_type": "stream",
     "text": [
      "mango\n"
     ]
    }
   ],
   "source": [
    "print(fruits[2])"
   ]
  },
  {
   "cell_type": "code",
   "execution_count": 266,
   "id": "65eb83e7",
   "metadata": {},
   "outputs": [],
   "source": [
    "#퀴즈  순서를 바꿔서 키위,망고,오렌지,사과 나타내기 \n",
    "\n",
    "fruits = ['orange','apple','mango','kiwi']"
   ]
  },
  {
   "cell_type": "markdown",
   "id": "80fd6225",
   "metadata": {},
   "source": [
    "## 1.6 요소 수정하기"
   ]
  },
  {
   "cell_type": "code",
   "execution_count": 300,
   "id": "db5888df",
   "metadata": {},
   "outputs": [
    {
     "data": {
      "text/plain": [
       "[0, 1, 222, 3, 4, 5, 6, 7, 8, 9]"
      ]
     },
     "execution_count": 300,
     "metadata": {},
     "output_type": "execute_result"
    }
   ],
   "source": [
    "numbers = [0, 1, 2, 3, 4, 5, 6, 7, 8, 9]\n",
    "#index를 이용해서 요소 수정 \n",
    "numbers[2]=222 \n",
    "numbers"
   ]
  },
  {
   "cell_type": "code",
   "execution_count": 303,
   "id": "2ea6e72e",
   "metadata": {},
   "outputs": [
    {
     "data": {
      "text/plain": [
       "[0, 'o0o', 6, 7, 8, 9]"
      ]
     },
     "execution_count": 303,
     "metadata": {},
     "output_type": "execute_result"
    }
   ],
   "source": [
    "# 슬라이싱을 이용해서 요소 수정\n",
    "# 부분 리스트를 잘라서 가져오면 변환되는 갯수 상관없이 설정 가능(**step이 미포함인 경우**)\n",
    "# 오른쪽 값이 많거나 적어도 상관없음. 그 자리 그대로 변경하는것이라서\n",
    "numbers[1:4] = ['o0o']\n",
    "numbers"
   ]
  },
  {
   "cell_type": "code",
   "execution_count": 308,
   "id": "b45a653c",
   "metadata": {},
   "outputs": [
    {
     "data": {
      "text/plain": [
       "['a', 1, 'b', 3, 'c', 5, 'd', 7, 'e', 9]"
      ]
     },
     "execution_count": 308,
     "metadata": {},
     "output_type": "execute_result"
    }
   ],
   "source": [
    "# 슬라이싱을 이용해서 요소 수정 (**step 부분 포함인 경우**) ※ 요소 갯수가 맞아야 함\n",
    "numbers = [0, 1, 2, 3, 4, 5, 6, 7, 8, 9]\n",
    "numbers[::2] = ['a','b','c','d','e']\n",
    "numbers"
   ]
  },
  {
   "cell_type": "markdown",
   "id": "a6f6244c",
   "metadata": {},
   "source": [
    "##  1.7 요소 삭제하기\n",
    "- pop() : 가장 마지막 인덱스 요소가 반환되고 삭제\n",
    "- pop(idx) : idx번째 요소가 반환되고 삭제 (뒤에 숫자들은 앞으로 밀려짐) \n",
    "- remove(지울data) : 리스트안의 data 삭제 \n",
    "- del 변수[idx] : idx번째 요소가 삭제"
   ]
  },
  {
   "cell_type": "code",
   "execution_count": 332,
   "id": "0fc22bfe",
   "metadata": {},
   "outputs": [
    {
     "name": "stdout",
     "output_type": "stream",
     "text": [
      "[1, 2, 3, 4]\n",
      "삭제된 데이터:5, 리스트:[1, 2, 3, 4]\n",
      "삭제된 데이터:1, 리스트:[2, 3, 4]\n",
      "numbers: [2, 3]\n"
     ]
    }
   ],
   "source": [
    "numbers = [1, 2, 3, 4, 5]\n",
    "delete_data = numbers.pop()\n",
    "print(numbers)\n",
    "print(\"삭제된 데이터:{}, 리스트:{}\".format(delete_data, numbers))\n",
    "\n",
    "delete_data2 = numbers.pop(0)\n",
    "print(\"삭제된 데이터:{}, 리스트:{}\".format(delete_data2, numbers))\n",
    "\n",
    "del numbers[2]\n",
    "print('numbers:',numbers)"
   ]
  },
  {
   "cell_type": "code",
   "execution_count": 337,
   "id": "2ce02bf7",
   "metadata": {},
   "outputs": [
    {
     "name": "stdout",
     "output_type": "stream",
     "text": [
      "None\n",
      "[1, 2, 4, 5]\n"
     ]
    }
   ],
   "source": [
    "#remove는 반환값이 없고, 해당 데이터만 삭제. 해당 데이터가 없으면 오류 \n",
    "numbers = [1, 2, 3, 4, 5]\n",
    "del_num = numbers.remove(3)\n",
    "print(del_num)\n",
    "print(numbers)"
   ]
  },
  {
   "cell_type": "code",
   "execution_count": 338,
   "id": "8c45ba3b",
   "metadata": {},
   "outputs": [
    {
     "ename": "ValueError",
     "evalue": "list.remove(x): x not in list",
     "output_type": "error",
     "traceback": [
      "\u001b[1;31m---------------------------------------------------------------------------\u001b[0m",
      "\u001b[1;31mValueError\u001b[0m                                Traceback (most recent call last)",
      "Cell \u001b[1;32mIn[338], line 1\u001b[0m\n\u001b[1;32m----> 1\u001b[0m \u001b[43mnumbers\u001b[49m\u001b[38;5;241;43m.\u001b[39;49m\u001b[43mremove\u001b[49m\u001b[43m(\u001b[49m\u001b[38;5;241;43m9\u001b[39;49m\u001b[43m)\u001b[49m\n",
      "\u001b[1;31mValueError\u001b[0m: list.remove(x): x not in list"
     ]
    }
   ],
   "source": [
    " numbers.remove(9)"
   ]
  },
  {
   "cell_type": "code",
   "execution_count": 339,
   "id": "30f74de2",
   "metadata": {},
   "outputs": [
    {
     "name": "stdout",
     "output_type": "stream",
     "text": [
      "해당 데이터가 없습니다.\n"
     ]
    }
   ],
   "source": [
    "if 9 in numbers:     # remove를 사용했을 때 없는 값을 입력하면 오류 남 필히 in과 함께 사용필요 \n",
    "    numbers.remove(9)\n",
    "    \n",
    "else:\n",
    "    print('해당 데이터가 없습니다.')"
   ]
  },
  {
   "cell_type": "code",
   "execution_count": 340,
   "id": "ab969b4e",
   "metadata": {},
   "outputs": [],
   "source": [
    "def save_remove(lst,remove_data):\n",
    "    if remove_data in lst:\n",
    "        lst.remove(remove_data)\n",
    "        print(remove_data, '삭제 완료')\n",
    "    else:\n",
    "        print(f'{remove_data}는 없는 아이템입니다.')"
   ]
  },
  {
   "cell_type": "code",
   "execution_count": 345,
   "id": "aa5bcf14",
   "metadata": {},
   "outputs": [
    {
     "name": "stdout",
     "output_type": "stream",
     "text": [
      "9는 없는 아이템입니다.\n",
      "5는 없는 아이템입니다.\n",
      "9는 없는 아이템입니다.\n",
      "5는 없는 아이템입니다.\n"
     ]
    }
   ],
   "source": [
    "save_remove(numbers, 9)\n",
    "save_remove(numbers,5)\n",
    "save_remove(numbers, 9)\n",
    "save_remove(numbers,5)"
   ]
  },
  {
   "cell_type": "code",
   "execution_count": 346,
   "id": "8bb062bb",
   "metadata": {},
   "outputs": [
    {
     "data": {
      "text/plain": [
       "[1, 2, 4]"
      ]
     },
     "execution_count": 346,
     "metadata": {},
     "output_type": "execute_result"
    }
   ],
   "source": [
    "numbers"
   ]
  },
  {
   "cell_type": "code",
   "execution_count": null,
   "id": "79bd28f8",
   "metadata": {},
   "outputs": [],
   "source": []
  }
 ],
 "metadata": {
  "kernelspec": {
   "display_name": "Python 3 (ipykernel)",
   "language": "python",
   "name": "python3"
  },
  "language_info": {
   "codemirror_mode": {
    "name": "ipython",
    "version": 3
   },
   "file_extension": ".py",
   "mimetype": "text/x-python",
   "name": "python",
   "nbconvert_exporter": "python",
   "pygments_lexer": "ipython3",
   "version": "3.10.9"
  },
  "toc": {
   "base_numbering": 1,
   "nav_menu": {},
   "number_sections": false,
   "sideBar": true,
   "skip_h1_title": false,
   "title_cell": "Table of Contents",
   "title_sidebar": "Contents",
   "toc_cell": false,
   "toc_position": {
    "height": "calc(100% - 180px)",
    "left": "10px",
    "top": "150px",
    "width": "166.625px"
   },
   "toc_section_display": true,
   "toc_window_display": true
  }
 },
 "nbformat": 4,
 "nbformat_minor": 5
}
