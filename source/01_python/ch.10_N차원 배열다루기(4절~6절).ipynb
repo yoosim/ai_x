{
 "cells": [
  {
   "cell_type": "code",
   "execution_count": 109,
   "id": "f12ed76b",
   "metadata": {},
   "outputs": [
    {
     "data": {
      "text/html": [
       "\n",
       "<style>\n",
       "div.container{width:86% !important;}\n",
       "div.cell.code_cell.rendered{width:100%;}\n",
       "div.CodeMirror {font-family:Consolas; font-size:15pt;}\n",
       "div.output {font-size:15pt; font-weight:bold;}\n",
       "div.input {font-family:Consolas; font-size:15pt;}\n",
       "div.prompt {min-width:70px;}\n",
       "div#toc-wrapper{padding-top:120px;}\n",
       "div.text_cell_render ul li{font-size:12pt;padding:5px;}\n",
       "table.dataframe{font-size:15px;}\n",
       "</style>\n",
       " "
      ],
      "text/plain": [
       "<IPython.core.display.HTML object>"
      ]
     },
     "metadata": {},
     "output_type": "display_data"
    }
   ],
   "source": [
    "from IPython.display import display, HTML \n",
    "display(HTML(\"\"\"\n",
    "<style>\n",
    "div.container{width:86% !important;}\n",
    "div.cell.code_cell.rendered{width:100%;}\n",
    "div.CodeMirror {font-family:Consolas; font-size:15pt;}\n",
    "div.output {font-size:15pt; font-weight:bold;}\n",
    "div.input {font-family:Consolas; font-size:15pt;}\n",
    "div.prompt {min-width:70px;}\n",
    "div#toc-wrapper{padding-top:120px;}\n",
    "div.text_cell_render ul li{font-size:12pt;padding:5px;}\n",
    "table.dataframe{font-size:15px;}\n",
    "</style>\n",
    " \"\"\"))"
   ]
  },
  {
   "cell_type": "markdown",
   "id": "866562cf",
   "metadata": {},
   "source": [
    "<span style=\"color:green; font-size: 30px; font-weight: bold;\">\n",
    "# 4절. 복사와 뷰 </span>\n",
    "    \n",
    "## 4.1 할당"
   ]
  },
  {
   "cell_type": "code",
   "execution_count": 2,
   "id": "90d847c3",
   "metadata": {},
   "outputs": [],
   "source": [
    "import numpy as np"
   ]
  },
  {
   "cell_type": "code",
   "execution_count": 3,
   "id": "34069490",
   "metadata": {},
   "outputs": [
    {
     "data": {
      "text/plain": [
       "array([0, 1, 2, 3, 4, 5])"
      ]
     },
     "execution_count": 3,
     "metadata": {},
     "output_type": "execute_result"
    }
   ],
   "source": [
    "a = np.arange(6)\n",
    "a"
   ]
  },
  {
   "cell_type": "code",
   "execution_count": 6,
   "id": "ec0135dc",
   "metadata": {},
   "outputs": [],
   "source": [
    "b = a"
   ]
  },
  {
   "cell_type": "code",
   "execution_count": 7,
   "id": "6640d96f",
   "metadata": {},
   "outputs": [
    {
     "data": {
      "text/plain": [
       "True"
      ]
     },
     "execution_count": 7,
     "metadata": {},
     "output_type": "execute_result"
    }
   ],
   "source": [
    "#a와 b가 같은 객체인지 확인하는 방법\n",
    "a is b"
   ]
  },
  {
   "cell_type": "code",
   "execution_count": 12,
   "id": "668fd64a",
   "metadata": {},
   "outputs": [
    {
     "data": {
      "text/plain": [
       "array([[0, 1, 2],\n",
       "       [3, 4, 5]])"
      ]
     },
     "execution_count": 12,
     "metadata": {},
     "output_type": "execute_result"
    }
   ],
   "source": [
    "b.shape = (2,-1)\n",
    "b"
   ]
  },
  {
   "cell_type": "code",
   "execution_count": 13,
   "id": "b3e1430f",
   "metadata": {},
   "outputs": [
    {
     "data": {
      "text/plain": [
       "array([[0, 1, 2],\n",
       "       [3, 4, 5]])"
      ]
     },
     "execution_count": 13,
     "metadata": {},
     "output_type": "execute_result"
    }
   ],
   "source": [
    "a #a의 값도 바뀜"
   ]
  },
  {
   "cell_type": "markdown",
   "id": "9d34cb8f",
   "metadata": {},
   "source": [
    "## 4.2 뷰(view)\n",
    "- 슬라이싱할 경우 자동 view생성"
   ]
  },
  {
   "cell_type": "code",
   "execution_count": 14,
   "id": "d7fdd0b5",
   "metadata": {},
   "outputs": [
    {
     "data": {
      "text/plain": [
       "array([[ 0,  1,  2,  3,  4,  5],\n",
       "       [ 6,  7,  8,  9, 10, 11]])"
      ]
     },
     "execution_count": 14,
     "metadata": {},
     "output_type": "execute_result"
    }
   ],
   "source": [
    "c = np.arange(12).reshape(2,-1)\n",
    "c"
   ]
  },
  {
   "cell_type": "code",
   "execution_count": 16,
   "id": "19add6bd",
   "metadata": {},
   "outputs": [
    {
     "data": {
      "text/plain": [
       "False"
      ]
     },
     "execution_count": 16,
     "metadata": {},
     "output_type": "execute_result"
    }
   ],
   "source": [
    "d = c.view() #view c의 복제본으로 만듬(얕은 복사)\n",
    "d is c #c객체와 d객체가 같은지 확인하는 방법"
   ]
  },
  {
   "cell_type": "code",
   "execution_count": 17,
   "id": "07056674",
   "metadata": {},
   "outputs": [
    {
     "data": {
      "text/plain": [
       "(3090618593328, 3090606997104)"
      ]
     },
     "execution_count": 17,
     "metadata": {},
     "output_type": "execute_result"
    }
   ],
   "source": [
    "id(c), id(d)"
   ]
  },
  {
   "cell_type": "code",
   "execution_count": 20,
   "id": "7937beed",
   "metadata": {},
   "outputs": [
    {
     "data": {
      "text/plain": [
       "array([[ True,  True,  True,  True,  True,  True],\n",
       "       [ True,  True,  True,  True,  True,  True]])"
      ]
     },
     "execution_count": 20,
     "metadata": {},
     "output_type": "execute_result"
    }
   ],
   "source": [
    "c == d #주소는 다르나 c와 d의 내용이 같음을 확인함"
   ]
  },
  {
   "cell_type": "code",
   "execution_count": 21,
   "id": "54213b0f",
   "metadata": {},
   "outputs": [
    {
     "data": {
      "text/plain": [
       "True"
      ]
     },
     "execution_count": 21,
     "metadata": {},
     "output_type": "execute_result"
    }
   ],
   "source": [
    "np.all(c==d) #주소는 다르나 c와 d의 내용이 같음을 확인함"
   ]
  },
  {
   "cell_type": "code",
   "execution_count": 22,
   "id": "a59870fd",
   "metadata": {},
   "outputs": [
    {
     "data": {
      "text/plain": [
       "array([[ 0,  1,  2,  3],\n",
       "       [ 4,  5,  6,  7],\n",
       "       [ 8,  9, 10, 11]])"
      ]
     },
     "execution_count": 22,
     "metadata": {},
     "output_type": "execute_result"
    }
   ],
   "source": [
    "#d를 변경하면? c도 바뀔까?\n",
    "d.shape = (3,4)  #d의 구조를 바꿈\n",
    "d"
   ]
  },
  {
   "cell_type": "code",
   "execution_count": 23,
   "id": "9bde135b",
   "metadata": {},
   "outputs": [
    {
     "data": {
      "text/plain": [
       "array([[ 0,  1,  2,  3,  4,  5],\n",
       "       [ 6,  7,  8,  9, 10, 11]])"
      ]
     },
     "execution_count": 23,
     "metadata": {},
     "output_type": "execute_result"
    }
   ],
   "source": [
    "c #원본이 바뀌지 않았음. "
   ]
  },
  {
   "cell_type": "code",
   "execution_count": 24,
   "id": "f55f0459",
   "metadata": {},
   "outputs": [
    {
     "data": {
      "text/plain": [
       "array([[-99,   1, -99,   3],\n",
       "       [  4,   5,   6,   7],\n",
       "       [  8,   9,  10,  11]])"
      ]
     },
     "execution_count": 24,
     "metadata": {},
     "output_type": "execute_result"
    }
   ],
   "source": [
    "#d의 데이터를 0번 방의 짝수 인덱스만 바꾸기\n",
    "d[0,::2] = -99\n",
    "d"
   ]
  },
  {
   "cell_type": "code",
   "execution_count": 25,
   "id": "52262fc2",
   "metadata": {},
   "outputs": [
    {
     "data": {
      "text/plain": [
       "array([[-99,   1, -99,   3,   4,   5],\n",
       "       [  6,   7,   8,   9,  10,  11]])"
      ]
     },
     "execution_count": 25,
     "metadata": {},
     "output_type": "execute_result"
    }
   ],
   "source": [
    "c #c의 값도 같이 변하는 얕은 복사됨"
   ]
  },
  {
   "cell_type": "code",
   "execution_count": 28,
   "id": "76c694d4",
   "metadata": {},
   "outputs": [
    {
     "data": {
      "text/plain": [
       "array([[ 0,  1,  2,  3,  4,  5],\n",
       "       [ 6,  7,  8,  9, 10, 11]])"
      ]
     },
     "execution_count": 28,
     "metadata": {},
     "output_type": "execute_result"
    }
   ],
   "source": [
    "# 슬라이싱이 될 때 자동 view가 반환이 됨\n",
    "c = np.arange(12).reshape(2,6)\n",
    "c"
   ]
  },
  {
   "cell_type": "code",
   "execution_count": 29,
   "id": "0fe6b7bd",
   "metadata": {},
   "outputs": [
    {
     "data": {
      "text/plain": [
       "array([[ 0,  1,  2,  3,  4],\n",
       "       [ 6,  7,  8,  9, 10]])"
      ]
     },
     "execution_count": 29,
     "metadata": {},
     "output_type": "execute_result"
    }
   ],
   "source": [
    "d = c[:,:-1] #독립변수 제외하고 불러옴\n",
    "d"
   ]
  },
  {
   "cell_type": "code",
   "execution_count": 31,
   "id": "420df26c",
   "metadata": {},
   "outputs": [
    {
     "data": {
      "text/plain": [
       "array([[ 0,  1,  2,  3, 99],\n",
       "       [ 6,  7,  8,  9, 99]])"
      ]
     },
     "execution_count": 31,
     "metadata": {},
     "output_type": "execute_result"
    }
   ],
   "source": [
    "# d[-1,-1] = 99\n",
    "d[...,-1] = 99 #슬라이싱을하면 원본도 억세스되어서 바뀜\n",
    "d"
   ]
  },
  {
   "cell_type": "markdown",
   "id": "85f2f501",
   "metadata": {},
   "source": [
    "## 4.3 깊은 복사"
   ]
  },
  {
   "cell_type": "code",
   "execution_count": 37,
   "id": "0ec30bd1",
   "metadata": {},
   "outputs": [
    {
     "data": {
      "text/plain": [
       "array([[ 0,  1,  2,  3,  4,  5],\n",
       "       [ 6,  7,  8,  9, 10, 11]])"
      ]
     },
     "execution_count": 37,
     "metadata": {},
     "output_type": "execute_result"
    }
   ],
   "source": [
    "c = np.arange(12).reshape(2,6)\n",
    "c"
   ]
  },
  {
   "cell_type": "code",
   "execution_count": 39,
   "id": "0016d09d",
   "metadata": {},
   "outputs": [
    {
     "data": {
      "text/plain": [
       "array([[ 0,  1,  2,  3, 99],\n",
       "       [ 6,  7,  8,  9, 99]])"
      ]
     },
     "execution_count": 39,
     "metadata": {},
     "output_type": "execute_result"
    }
   ],
   "source": [
    "d = c[:,:-1].copy()\n",
    "d[...,-1] = 99\n",
    "d"
   ]
  },
  {
   "cell_type": "code",
   "execution_count": 40,
   "id": "f5edaa26",
   "metadata": {},
   "outputs": [
    {
     "data": {
      "text/plain": [
       "array([[ 0,  1,  2,  3,  4,  5],\n",
       "       [ 6,  7,  8,  9, 10, 11]])"
      ]
     },
     "execution_count": 40,
     "metadata": {},
     "output_type": "execute_result"
    }
   ],
   "source": [
    "c"
   ]
  },
  {
   "cell_type": "markdown",
   "id": "5168c417",
   "metadata": {},
   "source": [
    "# 5절. 고급인덱싱\n",
    "## 5.1 인덱스 배열로 인덱싱"
   ]
  },
  {
   "cell_type": "code",
   "execution_count": 41,
   "id": "85cd8c98",
   "metadata": {},
   "outputs": [
    {
     "data": {
      "text/plain": [
       "array([  0,   1,   4,   9,  16,  25,  36,  49,  64,  81, 100, 121])"
      ]
     },
     "execution_count": 41,
     "metadata": {},
     "output_type": "execute_result"
    }
   ],
   "source": [
    "a = np.arange(12)**2\n",
    "a"
   ]
  },
  {
   "cell_type": "code",
   "execution_count": 45,
   "id": "5aa46537",
   "metadata": {},
   "outputs": [
    {
     "data": {
      "text/plain": [
       "array([ 0,  0,  0,  1, 25])"
      ]
     },
     "execution_count": 45,
     "metadata": {},
     "output_type": "execute_result"
    }
   ],
   "source": [
    "a[[0,0,0,1,5]] #[0,0,1,5]리스트로 만들수 있지만 배열로도 만들 수 잇음"
   ]
  },
  {
   "cell_type": "code",
   "execution_count": 46,
   "id": "da04bfe9",
   "metadata": {},
   "outputs": [
    {
     "data": {
      "text/plain": [
       "array([ 0,  0,  1, 25])"
      ]
     },
     "execution_count": 46,
     "metadata": {},
     "output_type": "execute_result"
    }
   ],
   "source": [
    "# 인덱싱 하기 위한 값을 배열로 만들기\n",
    "i = np.array([0,0,1,5])\n",
    "a[i]"
   ]
  },
  {
   "cell_type": "code",
   "execution_count": 47,
   "id": "74559856",
   "metadata": {},
   "outputs": [
    {
     "data": {
      "text/plain": [
       "array([[ 0,  0],\n",
       "       [ 1, 25]])"
      ]
     },
     "execution_count": 47,
     "metadata": {},
     "output_type": "execute_result"
    }
   ],
   "source": [
    "# 인덱싱 하기 위한 값을 2차원 배열로 만들기\n",
    "# 이미지 딥러닝할때 쓰임\n",
    "\n",
    "j = np.array([[0,0],\n",
    "             [1,5]])\n",
    "a[j]"
   ]
  },
  {
   "cell_type": "code",
   "execution_count": 90,
   "id": "eb40c661",
   "metadata": {},
   "outputs": [],
   "source": [
    "palette = np.array([[116, 116, 116],           #black\n",
    "                    [255, 178, 245],           #red \n",
    "                    [183, 240, 177],           #green\n",
    "                    [178, 204, 255],           #blue\n",
    "                    [255, 255, 255]])          #white"
   ]
  },
  {
   "cell_type": "code",
   "execution_count": 91,
   "id": "afddc088",
   "metadata": {},
   "outputs": [
    {
     "data": {
      "text/plain": [
       "array([[[255, 255, 255],\n",
       "        [116, 116, 116]],\n",
       "\n",
       "       [[116, 116, 116],\n",
       "        [255, 255, 255]]])"
      ]
     },
     "execution_count": 91,
     "metadata": {},
     "output_type": "execute_result"
    }
   ],
   "source": [
    "palette[[[4, 0],\n",
    "         [0, 4]]]"
   ]
  },
  {
   "cell_type": "code",
   "execution_count": 92,
   "id": "36730d16",
   "metadata": {},
   "outputs": [],
   "source": [
    "image_index = np.array([[4,4,4,0,0,0,0,4,4,4],\n",
    "                        [4,0,0,4,4,4,4,0,0,4],\n",
    "                        [0,0,4,4,4,4,4,4,0,0],\n",
    "                        [0,4,4,1,4,4,3,4,4,0],\n",
    "                        [0,4,4,1,4,4,3,4,4,0],\n",
    "                        [0,4,4,4,4,4,4,4,4,0],\n",
    "                        [0,4,2,2,4,4,2,2,4,0],\n",
    "                        [4,0,4,2,2,2,2,4,0,4],\n",
    "                        [4,4,0,4,4,4,4,0,4,4],\n",
    "                        [4,4,4,0,0,0,0,4,4,4]])"
   ]
  },
  {
   "cell_type": "code",
   "execution_count": 93,
   "id": "d54deb88",
   "metadata": {},
   "outputs": [],
   "source": [
    "image_data = palette[image_index]"
   ]
  },
  {
   "cell_type": "code",
   "execution_count": 95,
   "id": "b3bf50eb",
   "metadata": {},
   "outputs": [
    {
     "data": {
      "text/plain": [
       "3"
      ]
     },
     "execution_count": 95,
     "metadata": {},
     "output_type": "execute_result"
    }
   ],
   "source": [
    "image_data.ndim #차원 확인 .3차원"
   ]
  },
  {
   "cell_type": "code",
   "execution_count": 96,
   "id": "acd803ff",
   "metadata": {},
   "outputs": [
    {
     "data": {
      "text/plain": [
       "(10, 10, 3)"
      ]
     },
     "execution_count": 96,
     "metadata": {},
     "output_type": "execute_result"
    }
   ],
   "source": [
    "image_data.shape"
   ]
  },
  {
   "cell_type": "code",
   "execution_count": 99,
   "id": "34fdafe2",
   "metadata": {},
   "outputs": [
    {
     "data": {
      "image/png": "[encoded data removed]",
      "text/plain": [
       "<Figure size 200x200 with 1 Axes>"
      ]
     },
     "metadata": {},
     "output_type": "display_data"
    }
   ],
   "source": [
    "from matplotlib import pyplot as plt\n",
    "plt.figure(figsize=(2,2))\n",
    "plt.imshow(image_data)\n",
    "# %matplotlib inline\n",
    "# plt.imshow(image_data, interpolation='nearest')\n",
    "plt.show()"
   ]
  },
  {
   "cell_type": "markdown",
   "id": "f183568e",
   "metadata": {},
   "source": [
    "## 5.2 논리 배열을 이용한 인덱싱"
   ]
  },
  {
   "cell_type": "code",
   "execution_count": 100,
   "id": "ebc3521b",
   "metadata": {},
   "outputs": [
    {
     "data": {
      "text/plain": [
       "array([ 0,  1, 10, 11, 12, 13, 14, 15, 16, 99])"
      ]
     },
     "execution_count": 100,
     "metadata": {},
     "output_type": "execute_result"
    }
   ],
   "source": [
    "a = np.array([0,1,10,11,12,13,14,15,16,99])\n",
    "a "
   ]
  },
  {
   "cell_type": "code",
   "execution_count": 101,
   "id": "93aad164",
   "metadata": {},
   "outputs": [
    {
     "data": {
      "text/plain": [
       "array([ True, False,  True, False,  True, False,  True, False,  True,\n",
       "       False])"
      ]
     },
     "execution_count": 101,
     "metadata": {},
     "output_type": "execute_result"
    }
   ],
   "source": [
    "a%2==0"
   ]
  },
  {
   "cell_type": "code",
   "execution_count": 103,
   "id": "d9d8557c",
   "metadata": {},
   "outputs": [
    {
     "data": {
      "text/plain": [
       "array([ 0, 10, 12, 14, 16])"
      ]
     },
     "execution_count": 103,
     "metadata": {},
     "output_type": "execute_result"
    }
   ],
   "source": [
    "#논리배열 (배열과 데이터 프레임에서만 가능!)\n",
    "# a [[ True,False,True,False,True,False,True,False,True,False]]\n",
    "a [a%2==0]"
   ]
  },
  {
   "cell_type": "code",
   "execution_count": 104,
   "id": "d4217827",
   "metadata": {},
   "outputs": [
    {
     "data": {
      "text/plain": [
       "array([13, 14, 15, 16, 99])"
      ]
     },
     "execution_count": 104,
     "metadata": {},
     "output_type": "execute_result"
    }
   ],
   "source": [
    "#a에서 12보다 큰 값만 출력\n",
    "a[a>12]"
   ]
  },
  {
   "cell_type": "markdown",
   "id": "648ad56b",
   "metadata": {},
   "source": [
    "# 6절. 선형대수\n",
    "- 2차원 넘파이배열을 행렬 \\\n",
    "    **행렬곱   : @,dot(),단위행렬** \\\n",
    "    **역행렬   : np.linalg.inv(행렬) : 역행렬@행렬 = 단위행렬** \\\n",
    "    ※정방행렬일때 역행렬을 구할 수 있음, 행수와 열수가 같을때  \\\n",
    "    **전치행렬 : 행렬.T/행렬.transpose()**"
   ]
  },
  {
   "cell_type": "code",
   "execution_count": 107,
   "id": "d0e8c14c",
   "metadata": {},
   "outputs": [
    {
     "data": {
      "text/plain": [
       "array([[1, 2],\n",
       "       [3, 4]])"
      ]
     },
     "execution_count": 107,
     "metadata": {},
     "output_type": "execute_result"
    }
   ],
   "source": [
    "# 역행렬 구하기(정방행렬일때 구할 수 있음)\n",
    "a = np.array([[1,2],\n",
    "              [3,4]])\n",
    "a"
   ]
  },
  {
   "cell_type": "code",
   "execution_count": 110,
   "id": "89f49266",
   "metadata": {},
   "outputs": [
    {
     "data": {
      "text/plain": [
       "array([[-2. ,  1. ],\n",
       "       [ 1.5, -0.5]])"
      ]
     },
     "execution_count": 110,
     "metadata": {},
     "output_type": "execute_result"
    }
   ],
   "source": [
    "# a의 역행렬 : a의 역행렬 @a = a@a의 역행렬 => 단위행렬이 된다.\n",
    "np.linalg.inv(a)"
   ]
  },
  {
   "cell_type": "code",
   "execution_count": 111,
   "id": "54ac7c0e",
   "metadata": {},
   "outputs": [
    {
     "data": {
      "text/plain": [
       "array([[1.0000000e+00, 4.4408921e-16],\n",
       "       [0.0000000e+00, 1.0000000e+00]])"
      ]
     },
     "execution_count": 111,
     "metadata": {},
     "output_type": "execute_result"
    }
   ],
   "source": [
    "np.linalg.inv(a) @ a"
   ]
  },
  {
   "cell_type": "markdown",
   "id": "db0e6a48",
   "metadata": {},
   "source": [
    "## 6.1 선형 연립 방정식 풀기 (독립변수1, 데이터2)"
   ]
  },
  {
   "cell_type": "code",
   "execution_count": 119,
   "id": "397447b3",
   "metadata": {},
   "outputs": [
    {
     "data": {
      "text/plain": [
       "array([[[2., 1.],\n",
       "        [4., 1.]]])"
      ]
     },
     "execution_count": 119,
     "metadata": {},
     "output_type": "execute_result"
    }
   ],
   "source": [
    "x = np.array([2,4]) #독립변수\n",
    "Y = np.array([40,60]) #종속변수 : 내가 알아맞추고 싶은 변수\n",
    "X = np.dstack((x, np.ones(len(x))))\n",
    "X"
   ]
  },
  {
   "cell_type": "code",
   "execution_count": 125,
   "id": "3ab21c5b",
   "metadata": {},
   "outputs": [
    {
     "data": {
      "text/plain": [
       "array([[10., 20.]])"
      ]
     },
     "execution_count": 125,
     "metadata": {},
     "output_type": "execute_result"
    }
   ],
   "source": [
    "# X @ xb = Y\n",
    "# X의 역행렬 @ X @ wb = X의 역행렬 @ Y\n",
    "# wb = X의 역행렬 @ Y\n",
    "\n",
    "wb = np.linalg.inv(X) @ Y\n",
    "wb"
   ]
  },
  {
   "cell_type": "code",
   "execution_count": 132,
   "id": "6e487aa8",
   "metadata": {
    "scrolled": true
   },
   "outputs": [
    {
     "data": {
      "text/plain": [
       "[<matplotlib.lines.Line2D at 0x2cf9ca51360>]"
      ]
     },
     "execution_count": 132,
     "metadata": {},
     "output_type": "execute_result"
    },
    {
     "data": {
      "image/png": "[encoded data removed]",
      "text/plain": [
       "<Figure size 640x480 with 1 Axes>"
      ]
     },
     "metadata": {},
     "output_type": "display_data"
    }
   ],
   "source": [
    "import matplotlib.pyplot as plt\n",
    "plt.scatter(x,Y)\n",
    "plt.plot(x,10*x+20, 'r')"
   ]
  }
 ],
 "metadata": {
  "kernelspec": {
   "display_name": "Python 3 (ipykernel)",
   "language": "python",
   "name": "python3"
  },
  "language_info": {
   "codemirror_mode": {
    "name": "ipython",
    "version": 3
   },
   "file_extension": ".py",
   "mimetype": "text/x-python",
   "name": "python",
   "nbconvert_exporter": "python",
   "pygments_lexer": "ipython3",
   "version": "3.10.9"
  },
  "toc": {
   "base_numbering": 1,
   "nav_menu": {},
   "number_sections": false,
   "sideBar": true,
   "skip_h1_title": false,
   "title_cell": "Table of Contents",
   "title_sidebar": "Contents",
   "toc_cell": false,
   "toc_position": {
    "height": "calc(100% - 180px)",
    "left": "10px",
    "top": "150px",
    "width": "165px"
   },
   "toc_section_display": true,
   "toc_window_display": true
  }
 },
 "nbformat": 4,
 "nbformat_minor": 5
}
