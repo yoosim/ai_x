{
 "cells": [
  {
   "cell_type": "code",
   "execution_count": 3,
   "id": "839cbb6c",
   "metadata": {},
   "outputs": [
    {
     "data": {
      "text/html": [
       "\n",
       "<style>\n",
       "div.container{width:86% !important;}\n",
       "div.cell.code_cell.rendered{width:100%;}\n",
       "div.CodeMirror {font-family:Consolas; font-size:15pt;}\n",
       "div.output {font-size:15pt; font-weight:bold;}\n",
       "div.input {font-family:Consolas; font-size:15pt;}\n",
       "div.prompt {min-width:70px;}\n",
       "div#toc-wrapper{padding-top:120px;}\n",
       "div.text_cell_render ul li{font-size:12pt;padding:5px;}\n",
       "table.dataframe{font-size:15px;}\n",
       "</style>\n",
       " "
      ],
      "text/plain": [
       "<IPython.core.display.HTML object>"
      ]
     },
     "metadata": {},
     "output_type": "display_data"
    }
   ],
   "source": [
    "from IPython.display import display, HTML \n",
    "display(HTML(\"\"\"\n",
    "<style>\n",
    "div.container{width:86% !important;}\n",
    "div.cell.code_cell.rendered{width:100%;}\n",
    "div.CodeMirror {font-family:Consolas; font-size:15pt;}\n",
    "div.output {font-size:15pt; font-weight:bold;}\n",
    "div.input {font-family:Consolas; font-size:15pt;}\n",
    "div.prompt {min-width:70px;}\n",
    "div#toc-wrapper{padding-top:120px;}\n",
    "div.text_cell_render ul li{font-size:12pt;padding:5px;}\n",
    "table.dataframe{font-size:15px;}\n",
    "</style>\n",
    " \"\"\"))"
   ]
  },
  {
   "cell_type": "markdown",
   "id": "4e6b9da9",
   "metadata": {},
   "source": [
    "<font color=\"green\" size=\"5\"> <strong>ch04.제어문 </strong></font> </b>\n",
    "- 조건문 : if문\n",
    "- 반복문 : for문, while문, 중첩가능(예_for문 안에 for문 가능)"
   ]
  },
  {
   "cell_type": "markdown",
   "id": "95363df9",
   "metadata": {},
   "source": [
    "# 1절. 조건문\n",
    "```\n",
    "if 조건1 : \n",
    "    조건1이 참일 경우 수행할 명령어들\n",
    "elif 조건2:   #else if = elif\n",
    "    조건1이 거짓이고, 조건2가 참일 경우 수행할 명령어들\n",
    "else:\n",
    "    모든 조건을 만족하지 않을 때 수행할 명령어들\n",
    "```\n"
   ]
  },
  {
   "cell_type": "code",
   "execution_count": 17,
   "id": "e024e299",
   "metadata": {},
   "outputs": [
    {
     "name": "stdout",
     "output_type": "stream",
     "text": [
      "점수는 :90\n",
      "참 잘했어요\n",
      "다음에도 기대할게요.\n",
      "화이팅\n"
     ]
    }
   ],
   "source": [
    "score = int(input('점수는 :'))\n",
    "if score >= 90:\n",
    "    print('참 잘했어요')\n",
    "    print('다음에도 기대할게요.')\n",
    "    \n",
    "elif score >= 60: \n",
    "    print('분발하세요')\n",
    "    print('다음에도 같은 점수면 그만두세요')\n",
    "else:\n",
    "    print('관둬라')\n",
    "print('화이팅') "
   ]
  },
  {
   "cell_type": "code",
   "execution_count": 42,
   "id": "a6de1f33",
   "metadata": {},
   "outputs": [
    {
     "name": "stdout",
     "output_type": "stream",
     "text": [
      "점수를 입력하세요.4\n",
      "입력하신 점수는 4점이고, F등급입니다.\n"
     ]
    }
   ],
   "source": [
    "# 사용자로부터 점수(0점~100점)를 입력받아 학점을 출력하시오 (A, B, C, D, F, 유효하지 않은 점수)\n",
    "# A (90~100) B(80~90) C(70~60) D(60~50) F(0~50)\n",
    "score = int(input('점수를 입력하세요.'))\n",
    "\n",
    "if 90 <= score <= 100 :\n",
    "    grade = 'A'\n",
    "elif 80 <= score < 90 :\n",
    "    grade = 'B'\n",
    "elif 70 <= score < 80 : \n",
    "    grade = 'C'\n",
    "elif 60 <= score < 70 :\n",
    "    grade = 'D'\n",
    "elif 0 <= score < 60 :\n",
    "    grade = 'F'    \n",
    "else :\n",
    "    grade = \"유효하지 않은 점수\"\n",
    "\n",
    "print(\"입력하신 점수는 {}점이고, {}등급입니다.\".format(score,grade))"
   ]
  },
  {
   "cell_type": "markdown",
   "id": "c5e4ee78",
   "metadata": {},
   "source": [
    "# 2절. 반복문\n",
    "## 2-1.for - in문\n",
    "```\n",
    "for 임시변수(예_idx) in 나열가능한자료(enumerate,list,range 등) :\n",
    "    반복할명령어1\n",
    "    반복할명령어2\n",
    "    if 조건:\n",
    "        break\n",
    "else:                                                  \n",
    "    나열가능한자료가 다 소요하여 for블록을 다 수행한 후 최종 한번 수행할 명령어 (다 끝났을 때)\n",
    "    for문안에 break를 수행할 경우 else블록은 수행되지 않음.\n",
    "```"
   ]
  },
  {
   "cell_type": "code",
   "execution_count": 46,
   "id": "7680604b",
   "metadata": {},
   "outputs": [
    {
     "name": "stdout",
     "output_type": "stream",
     "text": [
      "1\t3\t5\t7\t9\t"
     ]
    }
   ],
   "source": [
    "for i in range(1,10,2) :  #슬라이싱[form:stop:step]처럼 쓸 수 있나?\n",
    "    print(i, end='\\t')"
   ]
  },
  {
   "cell_type": "code",
   "execution_count": 47,
   "id": "c7d28f20",
   "metadata": {},
   "outputs": [
    {
     "name": "stdout",
     "output_type": "stream",
     "text": [
      "1\t3\t5\t7\t9\t\n",
      "DONE\n",
      "END\n"
     ]
    }
   ],
   "source": [
    "for i in range(1, 10, 2):\n",
    "    print(i, end='\\t')\n",
    "else:\n",
    "    print('\\nDONE')\n",
    "\n",
    "print('END')"
   ]
  },
  {
   "cell_type": "code",
   "execution_count": 49,
   "id": "69234aa1",
   "metadata": {},
   "outputs": [
    {
     "name": "stdout",
     "output_type": "stream",
     "text": [
      "1\t3\t5\t7\t9\t\n",
      "DONE\n",
      "END\n"
     ]
    }
   ],
   "source": [
    "for i in range(1, 10, 2):\n",
    "    print(i, end='\\t')\n",
    "    \n",
    "print('\\nDONE')\n",
    "print('END')\n",
    "#else가 없어도 결과 값이 똑같음 "
   ]
  },
  {
   "cell_type": "code",
   "execution_count": 50,
   "id": "7f2bf50e",
   "metadata": {},
   "outputs": [
    {
     "name": "stdout",
     "output_type": "stream",
     "text": [
      "1\t3\tEND\n"
     ]
    }
   ],
   "source": [
    "for i in range(1, 10, 2):\n",
    "    if i ==5:\n",
    "        break\n",
    "    print(i, end='\\t')\n",
    "else:\n",
    "    print('\\nDONE')\n",
    "\n",
    "print('END')"
   ]
  },
  {
   "cell_type": "code",
   "execution_count": null,
   "id": "54d0a113",
   "metadata": {},
   "outputs": [],
   "source": [
    "# 1~100까지 누적합을 출력하시오(for문)\n",
    "# 1~100까지 짝수들의 누적합을 출력하시오(for문)\n",
    "# 1~100까지 홀수들의 누적합을 출력하시오(for문)"
   ]
  },
  {
   "cell_type": "code",
   "execution_count": 70,
   "id": "76199c9b",
   "metadata": {},
   "outputs": [
    {
     "name": "stdout",
     "output_type": "stream",
     "text": [
      "1부터 100까지의 합은 : 5050\n",
      "100\n"
     ]
    }
   ],
   "source": [
    "# 1~100까지 누적합을 출력하시오(for문)\n",
    "tot = 0 #누적변수\n",
    "for i in range(1,101):\n",
    "    tot += i # tot = tot+i\n",
    "else:\n",
    "    print('1부터 100까지의 합은 :',tot)\n",
    "    print(i)"
   ]
  },
  {
   "cell_type": "code",
   "execution_count": 66,
   "id": "d377b9c8",
   "metadata": {},
   "outputs": [
    {
     "name": "stdout",
     "output_type": "stream",
     "text": [
      "1부터 100까지의 짝수합은 : 2550\n"
     ]
    }
   ],
   "source": [
    "# 1~100까지 짝수들의 누적합을 출력하시오(for문)\n",
    "tot = 0 #누적변수\n",
    "for i in range(1,101):\n",
    "    if i%2==0:  #2로 나눈 값이 0이면 짝수이다.  짝수라면? 이라는 가정을 넣어줌\n",
    "        tot += i # tot = tot+i\n",
    "else:\n",
    "    print('1부터 100까지의 짝수합은 :',tot)"
   ]
  },
  {
   "cell_type": "code",
   "execution_count": 65,
   "id": "61f495e8",
   "metadata": {},
   "outputs": [
    {
     "name": "stdout",
     "output_type": "stream",
     "text": [
      "1부터 100까지의 홀수합은 : 2500\n"
     ]
    }
   ],
   "source": [
    "# 1~100까지 홀수들의 누적합을 출력하시오(for문)\n",
    "tot = 0 #누적변수\n",
    "for i in range(1,101):\n",
    "    if not i%2==0:  #2로 나눈 값이 0이 아니라면 홀수이다.  홀수라면? 이라는 가정을 넣어줌\n",
    "        tot += i # tot = tot+i\n",
    "else:\n",
    "    print('1부터 100까지의 홀수합은 :',tot)"
   ]
  },
  {
   "cell_type": "markdown",
   "id": "fd18bf83",
   "metadata": {},
   "source": [
    "## 2.2 While문\n",
    "```\n",
    "while 조건 : \n",
    "    조건이 참일 경우 반복할 문장들\n",
    "else : (break가 있을 경우 생략이 됨)\n",
    "    조건이 거짓일 경우 한번 실행할 문장 (else 구문은 선택사항)\n",
    "```"
   ]
  },
  {
   "cell_type": "code",
   "execution_count": 69,
   "id": "2af58b7c",
   "metadata": {},
   "outputs": [
    {
     "name": "stdout",
     "output_type": "stream",
     "text": [
      "1부터 100까지 누적합은 5050\n",
      "101\n"
     ]
    }
   ],
   "source": [
    "# 1~100까지 누적합 출력\n",
    "tot = 0 #누적변수\n",
    "i = 1\n",
    "while i<=100:\n",
    "    tot += i\n",
    "    i += 1\n",
    "print('1부터 100까지 누적합은', tot)\n",
    "print(i)"
   ]
  },
  {
   "cell_type": "code",
   "execution_count": 75,
   "id": "21b68dc3",
   "metadata": {},
   "outputs": [
    {
     "name": "stdout",
     "output_type": "stream",
     "text": [
      "1부터 100까지 짝수의 누적합은 2550\n",
      "101\n"
     ]
    }
   ],
   "source": [
    "# 1~100까지 짝수들의 누적합 출력\n",
    "tot = 0 #누적변수\n",
    "i = 1\n",
    "while i<=100:\n",
    "    if i%2==0:\n",
    "        tot += i\n",
    "    i += 1\n",
    "print('1부터 100까지 짝수의 누적합은', tot)\n",
    "print(i)"
   ]
  },
  {
   "cell_type": "code",
   "execution_count": 169,
   "id": "20979100",
   "metadata": {},
   "outputs": [
    {
     "name": "stdout",
     "output_type": "stream",
     "text": [
      "첫번째 수를 입력해주세요.10\n",
      "두번째 수를 입력하세요.20\n",
      "10부터 20까지 홀수들의 합은 75입니다.\n"
     ]
    }
   ],
   "source": [
    "# <<선생님 풀이_1>> 두 수중 어디가 큰지 확인하고 min,max 할당 \n",
    "# ex1. 사용자에게 두 정수를 입력받아,  작은수부터 큰수까지 홀수의 합 누적해서 출력\n",
    "first = int(input('첫번째 수를 입력해주세요.'))\n",
    "second = int(input('두번째 수를 입력하세요.'))\n",
    "#(1) 두 수 중 작은 수는 min_에 큰수는 max_에 할당\n",
    "if first<second:\n",
    "    min_ = first\n",
    "    max_ = second\n",
    "else:\n",
    "    min_ = second\n",
    "    max_ = first\n",
    "#(2-1) min 부터 max_까지 홀수합 누적\n",
    "tot = 0\n",
    "for i in range(min_,max_+1):\n",
    "    if i%2 : #i%2!=0 : #(i%2==1) | (i%2==-1):\n",
    "        tot += i\n",
    "#(3) 출력\n",
    "print(f'{min_}부터 {max_}까지 홀수들의 합은 {tot}입니다.')"
   ]
  },
  {
   "cell_type": "code",
   "execution_count": 183,
   "id": "1b3d5911",
   "metadata": {},
   "outputs": [
    {
     "name": "stdout",
     "output_type": "stream",
     "text": [
      "첫번째 수를 입력해주세요.10\n",
      "두번째 수를 입력하세요.2\n",
      "2 10\n",
      "2부터 10까지 홀수들의 합은 24입니다.\n"
     ]
    }
   ],
   "source": [
    "# <<선생님 풀이_2>> \n",
    "first = int(input('첫번째 수를 입력해주세요.'))\n",
    "second = int(input('두번째 수를 입력하세요.'))\n",
    "#first에 작은수로 second에 큰수가 되도록 함 \n",
    "if first > second:\n",
    "    temp = first    #바뀐값이 사라지지 않게 해야 함 (first = second가 아님..)\n",
    "    first = second\n",
    "    second = temp   #first 값을 넣은 임시변수 temp를 통해 불러옴\n",
    "print(first,second)\n",
    "#first부터second까지 홀수들 누적\n",
    "tot = 0\n",
    "for i in range(first, second+1):\n",
    "    if i%2 :\n",
    "        tot += i\n",
    "\n",
    "# 출력하면 앞에 작은 값, 뒤에는 큰 값이 나옴\n",
    "print(f'{first}부터 {second}까지 홀수들의 합은 {tot}입니다.')"
   ]
  },
  {
   "cell_type": "code",
   "execution_count": 181,
   "id": "ca59a8ba",
   "metadata": {},
   "outputs": [
    {
     "name": "stdout",
     "output_type": "stream",
     "text": [
      "첫번째 수를 입력해주세요.10\n",
      "두번째 수를 입력하세요.20\n",
      "first=10, second=20.\n"
     ]
    }
   ],
   "source": [
    "# <<선생님 풀이_2>> \n",
    "first = int(input('첫번째 수를 입력해주세요.'))\n",
    "second = int(input('두번째 수를 입력하세요.'))\n",
    "#first에 작은수로 second에 큰수가 되도록 함 \n",
    "if first > second:\n",
    "    first, second = second, first   #위의 문법을 한줄로 표현할 수 있음 \n",
    "print('first={}, second={}.'.format(first,second))\n",
    "\n",
    "#first부터second까지 홀수들 누적\n",
    "# 출력하면 앞에 작은 값, 뒤에는 큰 값이 나옴"
   ]
  },
  {
   "cell_type": "code",
   "execution_count": 170,
   "id": "e3660fac",
   "metadata": {},
   "outputs": [
    {
     "name": "stdout",
     "output_type": "stream",
     "text": [
      "첫번째 수를 입력해주세요.10\n",
      "두번째 수를 입력하세요.20\n",
      "홀수값의 합은? 75\n"
     ]
    }
   ],
   "source": [
    "# ex1. 사용자에게 두 정수를 입력받아,  작은수부터 큰수까지 홀수의 합 누적해서 출력\n",
    "\n",
    "# 입력받은 값이 작은수인지 큰 수인지 체크\n",
    "# 홀수인지 체크\n",
    "\n",
    "#주의사항\n",
    "#(1) 두 수 중 작은 수는 min_에 큰수는 max_에 할당\n",
    "#(2) min 부터 max_까지 홀수합 누적\n",
    "#(3) 출력\n",
    "\n",
    "num_1 = int(input('첫번째 수를 입력해주세요.'))\n",
    "num_2 = int(input('두번째 수를 입력하세요.'))\n",
    "tot = 0 # 누적변수\n",
    "\n",
    "if num_1>num_2:\n",
    "    max_ = num_1\n",
    "    min_ = num_2\n",
    "else:\n",
    "    max_ = num_2\n",
    "    min_ = num_1\n",
    "    \n",
    "for i in range(min_,max_+1):\n",
    "    if i%2!=0:\n",
    "        tot+=i\n",
    "print('홀수값의 합은?',tot)"
   ]
  },
  {
   "cell_type": "code",
   "execution_count": 171,
   "id": "5bae56b7",
   "metadata": {},
   "outputs": [
    {
     "name": "stdout",
     "output_type": "stream",
     "text": [
      "[1, 3, 12, 16, 22, 33]\n"
     ]
    }
   ],
   "source": [
    "# ex2. 1~45까지의 로또번호 6개를 추출하여 출력(오름차순 정렬결과를 출력)\n",
    "# 잘못된 예시 \n",
    "lotto = []\n",
    "for i in range(6):\n",
    "    lotto.append(random.randint(1, 45))\n",
    "print(sorted(lotto))"
   ]
  },
  {
   "cell_type": "code",
   "execution_count": 267,
   "id": "26bacddc",
   "metadata": {},
   "outputs": [
    {
     "data": {
      "text/plain": [
       "[3, 7, 16, 17, 35, 36]"
      ]
     },
     "execution_count": 267,
     "metadata": {},
     "output_type": "execute_result"
    }
   ],
   "source": [
    "# 선생님 문제 풀이 (set이용)\n",
    "# ex2. 1~45까지의 로또번호 6개를 추출하여 출력(오름차순 정렬결과를 출력)\n",
    "lotto = set()\n",
    "lotto\n",
    "\n",
    "while len(lotto)<6:\n",
    "    lotto.add(random.randint(1,45))\n",
    "sorted(lotto)"
   ]
  },
  {
   "cell_type": "code",
   "execution_count": 304,
   "id": "f6d53e3d",
   "metadata": {},
   "outputs": [
    {
     "data": {
      "text/plain": [
       "[3, 9, 11, 15, 31, 32]"
      ]
     },
     "execution_count": 304,
     "metadata": {},
     "output_type": "execute_result"
    }
   ],
   "source": [
    "sorted(random.sample(range(1,45),6)) #6개 랜덤 추출"
   ]
  },
  {
   "cell_type": "code",
   "execution_count": 231,
   "id": "4444b2e4",
   "metadata": {},
   "outputs": [
    {
     "name": "stdout",
     "output_type": "stream",
     "text": [
      "난수 6번 뽑아서 로또는 [1, 4, 6, 7, 15, 28]\n"
     ]
    }
   ],
   "source": [
    "print(\"난수 {}번 뽑아서 로또는 {}\".format(cnt,lotto))"
   ]
  },
  {
   "cell_type": "code",
   "execution_count": 186,
   "id": "10e75a8a",
   "metadata": {},
   "outputs": [
    {
     "name": "stdout",
     "output_type": "stream",
     "text": [
      "로또 번호 : [3, 18, 19, 22, 29, 40]\n"
     ]
    }
   ],
   "source": [
    "# ex2. 1~45까지의 로또번호 6개를 추출하여 출력(오름차순 정렬결과를 출력)\n",
    "#성미 문제 풀이\n",
    " #로또 번호가 중복이 되지 말아야 함\n",
    " #로또 번호가 똑같이 나오지 말아야 함\n",
    " #오른차순 정렬 결과로 만들어야 함\n",
    "\n",
    "import random\n",
    "lotto = []\n",
    "while len(lotto) < 6:\n",
    "    num = random.randint(1, 45)\n",
    "    if num not in lotto:  # 중복 방지\n",
    "        lotto.append(num)\n",
    "\n",
    "lotto.sort()  # 정렬은 선택사항\n",
    "print('로또 번호 :', lotto)"
   ]
  },
  {
   "cell_type": "code",
   "execution_count": 163,
   "id": "4b3877c9",
   "metadata": {},
   "outputs": [],
   "source": [
    "# ex2. 1~45까지의 로또번호 6개를 추출하여 출력(오름차순 정렬결과를 출력)\n",
    "# 난수 발생\n",
    "\n",
    "import random\n",
    "# random.random() : 0<=실수난수<1\n",
    "# random.randint(a,b) : a~b의 정수 난수 \n",
    "# int(random.random()*b)+a : a+b의 정수 난수 \n",
    "# 실행할 때마다 난수의 순서를 일치시키려면 random.seed(특정수)\n",
    "\n",
    "#random.random() #실수난수 발생 0<=실수난수<1 *실행할 때 마다 바뀜\n",
    "#int(random.random()*45)+1 # 1<=random.random()*45<46\n"
   ]
  },
  {
   "cell_type": "code",
   "execution_count": 155,
   "id": "c0a11acd",
   "metadata": {},
   "outputs": [
    {
     "name": "stdout",
     "output_type": "stream",
     "text": [
      "[3, 14, 15, 25, 28, 44]\n"
     ]
    }
   ],
   "source": [
    "#실행할 때마다 번호가 바뀜.. 같은 번호도 나옴\n",
    "lotto = []\n",
    "for i in range(6):\n",
    "    lotto.append(random.randint(1, 45))\n",
    "print(sorted(lotto))"
   ]
  },
  {
   "cell_type": "code",
   "execution_count": 134,
   "id": "33ff5b8b",
   "metadata": {},
   "outputs": [
    {
     "data": {
      "text/plain": [
       "31"
      ]
     },
     "execution_count": 134,
     "metadata": {},
     "output_type": "execute_result"
    }
   ],
   "source": [
    " #정수난수 \n",
    "random.seed(12)\n",
    "random.randint(1, 45)  #1~45까지의 정수 난수"
   ]
  },
  {
   "cell_type": "code",
   "execution_count": 135,
   "id": "ac5a18d5",
   "metadata": {},
   "outputs": [
    {
     "data": {
      "text/plain": [
       "18"
      ]
     },
     "execution_count": 135,
     "metadata": {},
     "output_type": "execute_result"
    }
   ],
   "source": [
    "random.randint(1,45)"
   ]
  },
  {
   "cell_type": "code",
   "execution_count": 94,
   "id": "4a52830c",
   "metadata": {},
   "outputs": [
    {
     "data": {
      "text/plain": [
       "18"
      ]
     },
     "execution_count": 94,
     "metadata": {},
     "output_type": "execute_result"
    }
   ],
   "source": [
    "random.randint(1,45)"
   ]
  },
  {
   "cell_type": "code",
   "execution_count": 95,
   "id": "9864802d",
   "metadata": {},
   "outputs": [
    {
     "data": {
      "text/plain": [
       "43"
      ]
     },
     "execution_count": 95,
     "metadata": {},
     "output_type": "execute_result"
    }
   ],
   "source": [
    "random.randint(1,45)"
   ]
  },
  {
   "cell_type": "markdown",
   "id": "b0481f2a",
   "metadata": {},
   "source": [
    "## 2.3 break, continue\n",
    "- "
   ]
  },
  {
   "cell_type": "code",
   "execution_count": 317,
   "id": "e0a09023",
   "metadata": {},
   "outputs": [
    {
     "name": "stdout",
     "output_type": "stream",
     "text": [
      "1\t2\t3\t4\t6\t7\t8\t9\t10\tDONE\n"
     ]
    }
   ],
   "source": [
    "num = 0 \n",
    "while num<10:\n",
    "    num += 1\n",
    "    if num ==5:\n",
    "        #break 반복문을 종료한다\n",
    "        continue  #while 블록 수행을 중단하고 조건으로 감. (건너뛰기)                 \n",
    "    print(num, end='\\t')\n",
    "print('DONE')"
   ]
  },
  {
   "cell_type": "code",
   "execution_count": 397,
   "id": "35664428",
   "metadata": {},
   "outputs": [
    {
     "name": "stdout",
     "output_type": "stream",
     "text": [
      "컴퓨터가 발생한 임의의 수 : 19\n"
     ]
    },
    {
     "ename": "KeyboardInterrupt",
     "evalue": "Interrupted by user",
     "output_type": "error",
     "traceback": [
      "\u001b[1;31m---------------------------------------------------------------------------\u001b[0m",
      "\u001b[1;31mKeyboardInterrupt\u001b[0m                         Traceback (most recent call last)",
      "Cell \u001b[1;32mIn[397], line 14\u001b[0m\n\u001b[0;32m     11\u001b[0m \u001b[38;5;66;03m#(2) 수를 입력받아 틀리면 up/down 메세지를 출력, 맞추면 brake 반복문수행\u001b[39;00m\n\u001b[0;32m     12\u001b[0m \u001b[38;5;66;03m#while true :무한반복문 , break하기전까지 계속 반복\u001b[39;00m\n\u001b[0;32m     13\u001b[0m \u001b[38;5;28;01mwhile\u001b[39;00m \u001b[38;5;28;01mTrue\u001b[39;00m :\n\u001b[1;32m---> 14\u001b[0m     inputNum \u001b[38;5;241m=\u001b[39m \u001b[38;5;28mint\u001b[39m(\u001b[38;5;28;43minput\u001b[39;49m\u001b[43m(\u001b[49m\u001b[38;5;124;43m\"\u001b[39;49m\u001b[38;5;124;43m1~100사이의 수를 맞춰 보세요.\u001b[39;49m\u001b[38;5;124;43m\"\u001b[39;49m\u001b[43m)\u001b[49m)\n\u001b[0;32m     15\u001b[0m     \u001b[38;5;28;01mif\u001b[39;00m (inputNum\u001b[38;5;241m<\u001b[39m\u001b[38;5;241m1\u001b[39m) \u001b[38;5;241m|\u001b[39m (inputNum\u001b[38;5;241m>\u001b[39m\u001b[38;5;241m100\u001b[39m):\n\u001b[0;32m     16\u001b[0m         \u001b[38;5;28mprint\u001b[39m(\u001b[38;5;124m'\u001b[39m\u001b[38;5;124m수의 범위를 벗어났습니다.\u001b[39m\u001b[38;5;124m'\u001b[39m)\n",
      "File \u001b[1;32m~\\anaconda3\\lib\\site-packages\\ipykernel\\kernelbase.py:1175\u001b[0m, in \u001b[0;36mKernel.raw_input\u001b[1;34m(self, prompt)\u001b[0m\n\u001b[0;32m   1171\u001b[0m \u001b[38;5;28;01mif\u001b[39;00m \u001b[38;5;129;01mnot\u001b[39;00m \u001b[38;5;28mself\u001b[39m\u001b[38;5;241m.\u001b[39m_allow_stdin:\n\u001b[0;32m   1172\u001b[0m     \u001b[38;5;28;01mraise\u001b[39;00m StdinNotImplementedError(\n\u001b[0;32m   1173\u001b[0m         \u001b[38;5;124m\"\u001b[39m\u001b[38;5;124mraw_input was called, but this frontend does not support input requests.\u001b[39m\u001b[38;5;124m\"\u001b[39m\n\u001b[0;32m   1174\u001b[0m     )\n\u001b[1;32m-> 1175\u001b[0m \u001b[38;5;28;01mreturn\u001b[39;00m \u001b[38;5;28;43mself\u001b[39;49m\u001b[38;5;241;43m.\u001b[39;49m\u001b[43m_input_request\u001b[49m\u001b[43m(\u001b[49m\n\u001b[0;32m   1176\u001b[0m \u001b[43m    \u001b[49m\u001b[38;5;28;43mstr\u001b[39;49m\u001b[43m(\u001b[49m\u001b[43mprompt\u001b[49m\u001b[43m)\u001b[49m\u001b[43m,\u001b[49m\n\u001b[0;32m   1177\u001b[0m \u001b[43m    \u001b[49m\u001b[38;5;28;43mself\u001b[39;49m\u001b[38;5;241;43m.\u001b[39;49m\u001b[43m_parent_ident\u001b[49m\u001b[43m[\u001b[49m\u001b[38;5;124;43m\"\u001b[39;49m\u001b[38;5;124;43mshell\u001b[39;49m\u001b[38;5;124;43m\"\u001b[39;49m\u001b[43m]\u001b[49m\u001b[43m,\u001b[49m\n\u001b[0;32m   1178\u001b[0m \u001b[43m    \u001b[49m\u001b[38;5;28;43mself\u001b[39;49m\u001b[38;5;241;43m.\u001b[39;49m\u001b[43mget_parent\u001b[49m\u001b[43m(\u001b[49m\u001b[38;5;124;43m\"\u001b[39;49m\u001b[38;5;124;43mshell\u001b[39;49m\u001b[38;5;124;43m\"\u001b[39;49m\u001b[43m)\u001b[49m\u001b[43m,\u001b[49m\n\u001b[0;32m   1179\u001b[0m \u001b[43m    \u001b[49m\u001b[43mpassword\u001b[49m\u001b[38;5;241;43m=\u001b[39;49m\u001b[38;5;28;43;01mFalse\u001b[39;49;00m\u001b[43m,\u001b[49m\n\u001b[0;32m   1180\u001b[0m \u001b[43m\u001b[49m\u001b[43m)\u001b[49m\n",
      "File \u001b[1;32m~\\anaconda3\\lib\\site-packages\\ipykernel\\kernelbase.py:1217\u001b[0m, in \u001b[0;36mKernel._input_request\u001b[1;34m(self, prompt, ident, parent, password)\u001b[0m\n\u001b[0;32m   1214\u001b[0m             \u001b[38;5;28;01mbreak\u001b[39;00m\n\u001b[0;32m   1215\u001b[0m \u001b[38;5;28;01mexcept\u001b[39;00m \u001b[38;5;167;01mKeyboardInterrupt\u001b[39;00m:\n\u001b[0;32m   1216\u001b[0m     \u001b[38;5;66;03m# re-raise KeyboardInterrupt, to truncate traceback\u001b[39;00m\n\u001b[1;32m-> 1217\u001b[0m     \u001b[38;5;28;01mraise\u001b[39;00m \u001b[38;5;167;01mKeyboardInterrupt\u001b[39;00m(\u001b[38;5;124m\"\u001b[39m\u001b[38;5;124mInterrupted by user\u001b[39m\u001b[38;5;124m\"\u001b[39m) \u001b[38;5;28;01mfrom\u001b[39;00m \u001b[38;5;28mNone\u001b[39m\n\u001b[0;32m   1218\u001b[0m \u001b[38;5;28;01mexcept\u001b[39;00m \u001b[38;5;167;01mException\u001b[39;00m:\n\u001b[0;32m   1219\u001b[0m     \u001b[38;5;28mself\u001b[39m\u001b[38;5;241m.\u001b[39mlog\u001b[38;5;241m.\u001b[39mwarning(\u001b[38;5;124m\"\u001b[39m\u001b[38;5;124mInvalid Message:\u001b[39m\u001b[38;5;124m\"\u001b[39m, exc_info\u001b[38;5;241m=\u001b[39m\u001b[38;5;28;01mTrue\u001b[39;00m)\n",
      "\u001b[1;31mKeyboardInterrupt\u001b[0m: Interrupted by user"
     ]
    }
   ],
   "source": [
    "'''\n",
    "1~100사이의 정수를 맞추는 프로그램을 구현하시오\n",
    "(프로그램안에 임의의 숫자가 만들어지고 그 숫자를 맞추도록 합니다)\n",
    "1단계. 입력된 숫자가 틀리면 UP/DOWN 메시지를 출력하고 숫자를 맞추면 \n",
    "축하메세지와 함께 종료합니다 맞출 때까지 반복\n",
    "'''\n",
    "import random\n",
    "#(1) 1~100 사이에 난수 발생\n",
    "randomNum = random.randint(1,100)\n",
    "print('컴퓨터가 발생한 임의의 수 :',randomNum)\n",
    "#(2) 수를 입력받아 틀리면 up/down 메세지를 출력, 맞추면 brake 반복문수행\n",
    "#while true :무한반복문 , break하기전까지 계속 반복\n",
    "while True :\n",
    "    inputNum = int(input(\"1~100사이의 수를 맞춰 보세요.\"))\n",
    "    if (inputNum<1) | (inputNum>100):\n",
    "        print('수의 범위를 벗어났습니다.')\n",
    "    elif randomNum < inputNum:\n",
    "        print('Down ↓')\n",
    "    elif randomNum > inputNum:\n",
    "        print('Up ↑')\n",
    "    else:\n",
    "        print('😊😊축하 축하 맞추셨습니다.😊😊')\n",
    "        break\n",
    "print('끝')"
   ]
  },
  {
   "cell_type": "markdown",
   "id": "6494e147",
   "metadata": {},
   "source": [
    "# 3절 중첩루플(중첩문)\n",
    "- 반복문 안의 반복문\n"
   ]
  },
  {
   "attachments": {
    "image.png": {
     "image/png": "[encoded data removed]"
    }
   },
   "cell_type": "markdown",
   "id": "0318821a",
   "metadata": {},
   "source": [
    "![image.png](attachment:image.png)"
   ]
  },
  {
   "cell_type": "code",
   "execution_count": 348,
   "id": "f7451369",
   "metadata": {},
   "outputs": [
    {
     "name": "stdout",
     "output_type": "stream",
     "text": [
      "2X1= 2\t3X1= 3\t4X1= 4\t5X1= 5\t6X1= 6\t7X1= 7\t8X1= 8\t9X1= 9\t\n",
      "2X2= 4\t3X2= 6\t4X2= 8\t5X2=10\t6X2=12\t7X2=14\t8X2=16\t9X2=18\t\n",
      "2X3= 6\t3X3= 9\t4X3=12\t5X3=15\t6X3=18\t7X3=21\t8X3=24\t9X3=27\t\n",
      "2X4= 8\t3X4=12\t4X4=16\t5X4=20\t6X4=24\t7X4=28\t8X4=32\t9X4=36\t\n",
      "2X5=10\t3X5=15\t4X5=20\t5X5=25\t6X5=30\t7X5=35\t8X5=40\t9X5=45\t\n",
      "2X6=12\t3X6=18\t4X6=24\t5X6=30\t6X6=36\t7X6=42\t8X6=48\t9X6=54\t\n",
      "2X7=14\t3X7=21\t4X7=28\t5X7=35\t6X7=42\t7X7=49\t8X7=56\t9X7=63\t\n",
      "2X8=16\t3X8=24\t4X8=32\t5X8=40\t6X8=48\t7X8=56\t8X8=64\t9X8=72\t\n",
      "2X9=18\t3X9=27\t4X9=36\t5X9=45\t6X9=54\t7X9=63\t8X9=72\t9X9=81\t\n"
     ]
    }
   ],
   "source": [
    "for i in range(1, 10):\n",
    "    for j in range(2,10):\n",
    "        print(f'{j}X{i}={i*j:2}', end='\\t')\n",
    "    print()\n",
    "#print(f'2*{i}    3*{i}')"
   ]
  },
  {
   "cell_type": "markdown",
   "id": "bbbd7088",
   "metadata": {},
   "source": [
    "# 4절. 중첩루프 탈출\n",
    "- 예외처리를 하지않고"
   ]
  },
  {
   "cell_type": "code",
   "execution_count": 350,
   "id": "da00d41a",
   "metadata": {},
   "outputs": [
    {
     "name": "stdout",
     "output_type": "stream",
     "text": [
      "0 1\n",
      "0 2\n",
      "2 1\n",
      "done\n"
     ]
    }
   ],
   "source": [
    " for a in range(0,3): #a=0, 1, 2\n",
    "    for b in range(1,3): #b= 1, 2\n",
    "        if a == b:\n",
    "            break  #반복문을 아예 빠져 나오기\n",
    "        print(a,b) \n",
    "        #break시 빠져나오는 부분\n",
    "print('DONE')     #해당 문법은 a==b일때 끝나는게 아닌 통과되는것으로 나옴 "
   ]
  },
  {
   "cell_type": "code",
   "execution_count": 351,
   "id": "3f83799a",
   "metadata": {},
   "outputs": [
    {
     "name": "stdout",
     "output_type": "stream",
     "text": [
      "0 1\n",
      "0 2\n",
      "DONE\n"
     ]
    }
   ],
   "source": [
    "#중첩 루프 탈출하는 방법 1.플래그 변수 이용\n",
    "flag = False #False = 0\n",
    "\n",
    "for a in range(0,3): #a=0, 1, 2\n",
    "    for b in range(1,3): #b= 1, 2\n",
    "        if a == b:\n",
    "            flag = True #True = 1\n",
    "            break  #반복문을 아예 빠져 나오기\n",
    "        print(a,b) \n",
    "    if flag :\n",
    "        break \n",
    "print('DONE')     #a =1, b=1 일때 더이상 실행하지않고 끝남."
   ]
  },
  {
   "cell_type": "markdown",
   "id": "a5625bf7",
   "metadata": {},
   "source": [
    "# 8장 후 문제 풀이"
   ]
  },
  {
   "cell_type": "code",
   "execution_count": null,
   "id": "7a1b4957",
   "metadata": {},
   "outputs": [],
   "source": [
    "#중첩 루프 탈출하는 방법 2.예외 발생 (강제로 오류 발생) → 예외처리\n",
    "\n",
    "\n",
    "#예외처리 진도 후 작성 (객체지향 + 예외처리)"
   ]
  },
  {
   "cell_type": "markdown",
   "id": "0ffc9aaa",
   "metadata": {},
   "source": [
    "# 👀연습문제 👀"
   ]
  },
  {
   "cell_type": "code",
   "execution_count": null,
   "id": "719e6269",
   "metadata": {},
   "outputs": [],
   "source": [
    "#양의 정수를 입력 받아 홀수인지 짝수인지를 판별하는 프로그램을 작성하세요 .\n",
    "#양의 정수가 아니면 숫자를 다시 입력 받아야 합니다\n",
    "#2.중첩 for 문을 이용하여 아래 패턴의 별을 출력하는 프로그램을 작성하세요"
   ]
  },
  {
   "attachments": {
    "image.png": {
     "image/png": "[encoded data removed]"
    }
   },
   "cell_type": "markdown",
   "id": "19579b30",
   "metadata": {},
   "source": [
    "![image.png](attachment:image.png)"
   ]
  },
  {
   "cell_type": "code",
   "execution_count": 364,
   "id": "9e715330",
   "metadata": {},
   "outputs": [
    {
     "name": "stdout",
     "output_type": "stream",
     "text": [
      "숫자를 입력해주세요.1\n",
      "홀수\n",
      "입력하신 숫자:1는 짝수 입니다.\n",
      "숫자를 입력해주세요.1\n",
      "홀수\n",
      "입력하신 숫자:1는 짝수 입니다.\n",
      "숫자를 입력해주세요.4\n",
      "짝수\n"
     ]
    }
   ],
   "source": [
    "#1.양의 정수를 입력 받아 홀수인지 짝수인지를 판별하는 프로그램을 작성하세요 .\n",
    "#음수면 계속하고 양수면 끝난다.\n",
    "#잘못된 문법\n",
    "\n",
    "while True:\n",
    "    temp = int(input('숫자를 입력해주세요.'))\n",
    "    if 0<i<100:\n",
    "        if temp%2 ==0:\n",
    "            print('짝수')\n",
    "            break\n",
    "        else:\n",
    "            print('홀수')\n",
    "        print(f'입력하신 숫자:{temp}는 {\"짝수\" if temp&2==0 else \"홀수\"} 입니다.')\n",
    "    else:\n",
    "        print(\"1에서 99사이의 숫자로 다시 입력해주세요.\")"
   ]
  },
  {
   "cell_type": "code",
   "execution_count": 429,
   "id": "14e8ce53",
   "metadata": {},
   "outputs": [
    {
     "name": "stdout",
     "output_type": "stream",
     "text": [
      "양의 정수를 입력하세요1\n",
      "입력하신 양의 정수는 1이고 홀수입니다.\n"
     ]
    }
   ],
   "source": [
    "#★★★★★★선생님 정답★★★★★★\n",
    "\n",
    "num = 0\n",
    "while num<=0:\n",
    "    num = int(input('양의 정수를 입력하세요'))  #수를 입력받는다.\n",
    "even_odd = '홀수' if num%2 else '짝수' #참이면 앞에꺼 거짓이면 뒤에꺼 받아온다.\n",
    "print('입력하신 양의 정수는 {}이고 {}입니다.'.format(num,even_odd))"
   ]
  },
  {
   "cell_type": "code",
   "execution_count": 425,
   "id": "4831ef96",
   "metadata": {},
   "outputs": [
    {
     "name": "stdout",
     "output_type": "stream",
     "text": [
      "양의 정수를 입력하세요-1\n",
      "양수라구요.\n",
      "양의 정수를 입력하세요-2\n",
      "양수라구요.\n",
      "양의 정수를 입력하세요5\n",
      "입력하신 양의 정수는 5이고 홀수입니다.\n"
     ]
    }
   ],
   "source": [
    "while True:\n",
    "    num = int(input('양의 정수를 입력하세요'))\n",
    "    if num>0:\n",
    "        if num%2:\n",
    "            even_odd = '홀수'\n",
    "        else:\n",
    "            even_odd = '짝수'\n",
    "        print('입력하신 양의 정수는 {}이고 {}입니다.'.format(num,even_odd))\n",
    "        break\n",
    "    else:\n",
    "        print('양수라구요.')"
   ]
  },
  {
   "cell_type": "code",
   "execution_count": null,
   "id": "8360403c",
   "metadata": {},
   "outputs": [],
   "source": [
    "# 중첩 for 문을 이용하여 아래 패턴의 별을 출력하는 프로그램을 작성하세요![image.png](attachment:image.png)"
   ]
  },
  {
   "attachments": {
    "image.png": {
     "image/png": "[encoded data removed]"
    }
   },
   "cell_type": "markdown",
   "id": "dbf2625b",
   "metadata": {},
   "source": [
    "![image.png](attachment:image.png)"
   ]
  },
  {
   "cell_type": "code",
   "execution_count": 436,
   "id": "fe782a59",
   "metadata": {},
   "outputs": [
    {
     "name": "stdout",
     "output_type": "stream",
     "text": [
      "*****\n",
      "*****\n",
      "*****\n",
      "*****\n",
      "*****\n"
     ]
    }
   ],
   "source": [
    "for i in range(5):\n",
    "    for j in range(5):     #[0,1,2,3,4]\n",
    "        print('*', end='')\n",
    "    print()         #개행"
   ]
  },
  {
   "cell_type": "code",
   "execution_count": 432,
   "id": "0d0f7cce",
   "metadata": {},
   "outputs": [
    {
     "name": "stdout",
     "output_type": "stream",
     "text": [
      "*****\n",
      "*****\n",
      "*****\n",
      "*****\n",
      "*****\n"
     ]
    }
   ],
   "source": [
    "for i in range(5):           # 줄 수 (5줄)\n",
    "    for j in range(5):       # 별 개수 (각 줄마다 5개)\n",
    "        print('*', end='')   # 줄바꿈 없이 별 출력\n",
    "    print()                  # 한 줄 출력 후 줄바꿈"
   ]
  },
  {
   "cell_type": "code",
   "execution_count": 437,
   "id": "1028b679",
   "metadata": {},
   "outputs": [
    {
     "name": "stdout",
     "output_type": "stream",
     "text": [
      "\n",
      "*\n",
      "**\n",
      "***\n",
      "****\n",
      "*****\n"
     ]
    }
   ],
   "source": [
    "for i in range(6):           # 줄 수 (5줄)\n",
    "    for j in range(i):       # 별 개수 (각 줄마다 5개)\n",
    "        print('*', end='')   # 줄바꿈 없이 별 출력\n",
    "    print()                  # 한 줄 출력 후 줄바꿈"
   ]
  },
  {
   "cell_type": "code",
   "execution_count": 423,
   "id": "353cf5c3",
   "metadata": {},
   "outputs": [
    {
     "name": "stdout",
     "output_type": "stream",
     "text": [
      "*\n",
      "**\n",
      "***\n",
      "****\n",
      "*****\n"
     ]
    }
   ],
   "source": [
    "for i in range(1, 6):        # i는 1부터 5까지 (줄 수)\n",
    "    for j in range(i):       # j는 0부터 i-1까지 → i개 만큼 별 출력\n",
    "        print('*', end='')\n",
    "    print()                  # 한 줄 끝나면 줄바꿈"
   ]
  },
  {
   "cell_type": "code",
   "execution_count": 440,
   "id": "33f43da9",
   "metadata": {},
   "outputs": [
    {
     "name": "stdout",
     "output_type": "stream",
     "text": [
      "1부터30까지 자연수 중에서 3의배수의 총 합:  165\n"
     ]
    }
   ],
   "source": [
    "'''\n",
    "Q3.다음 코드는 1 부터 30 까지 (30 포함) 자연수 중에서 3 의 배수의 총 합\n",
    "을 출력하는 프로그램입니다 . 빈칸의 코드를 완성하시오\n",
    "sum = 0\n",
    "for i in ___________:\n",
    "if _____________:\n",
    "sum = sum + i\n",
    "else:\n",
    "pass\n",
    "print(sum)\n",
    "'''\n",
    "\n",
    "tot = 0\n",
    "for i in range(1,31):\n",
    "    if i%3==0:\n",
    "        tot+=i\n",
    "    else:\n",
    "        pass\n",
    "print('1부터30까지 자연수 중에서 3의배수의 총 합: ', tot)"
   ]
  },
  {
   "cell_type": "code",
   "execution_count": 455,
   "id": "2d715b26",
   "metadata": {},
   "outputs": [
    {
     "name": "stdout",
     "output_type": "stream",
     "text": [
      "1 3 5 7 9 11\n"
     ]
    }
   ],
   "source": [
    "'''\n",
    "####이거 왜? \n",
    "4.다음 코드의 실행결과가 “1 3 5 7 가 되도록 빈칸을 완성하시오\n",
    "num = 0\n",
    "________ num <= 10\n",
    "    if num%2 == 1:\n",
    "        print(num, end=‘ ’)\n",
    "    num += 1\n",
    "\n",
    "'''\n",
    "\n",
    "num = 0\n",
    "\n",
    "while num <=10:\n",
    "    if num%2==1:\n",
    "        print(num,end=' ')\n",
    "    num += 1\n",
    "print(num)\n",
    "\n",
    "\n",
    "#왜 연속된 숫자가 계속 나올까요?"
   ]
  },
  {
   "cell_type": "code",
   "execution_count": 418,
   "id": "a408f847",
   "metadata": {},
   "outputs": [
    {
     "name": "stdout",
     "output_type": "stream",
     "text": [
      "1 2 3 \n",
      "4 5 6 7 \n",
      "8 9 \n"
     ]
    }
   ],
   "source": [
    "'''\n",
    "다음 2 차원 리스트의 모든 값을 출력하는 코드입니다 . 빈칸을 완성하시오\n",
    "list2d = [ [1,2,3],[4,5,6,7],[8,9]]\n",
    "for row in list2d:\n",
    "   ____________:\n",
    "print(data, end=‘ ’)\n",
    "print()\n",
    "결과\n",
    "1 2 3\n",
    "4 5 6 7\n",
    "8 9\n",
    "'''\n",
    "\n",
    "list2d = [ [1,2,3], [4,5,6,7], [8,9] ]\n",
    "\n",
    "for row in list2d:\n",
    "    for data in row:\n",
    "        print(data, end=' ')\n",
    "    print()  # 줄 바꿈\n"
   ]
  },
  {
   "cell_type": "code",
   "execution_count": 389,
   "id": "08e963c7",
   "metadata": {},
   "outputs": [
    {
     "name": "stdout",
     "output_type": "stream",
     "text": [
      "0 apple\n",
      "1 banana\n"
     ]
    }
   ],
   "source": [
    "'''\n",
    "다음 빈칸에 들어갈 함수 이름은?\n",
    "colors = {\" red\":'apple ', 'yellow':'banana'}\n",
    "for i , v in _______________(colors.________()):\n",
    "print( i ,v)\n",
    "\n",
    "0 apple\n",
    "1 banana\n",
    "\n",
    "'''\n",
    "colors = {'red':'apple','yellow':'banana'}\n",
    "for i, v in enumerate(colors.values()):\n",
    "    print( i ,v)"
   ]
  },
  {
   "cell_type": "code",
   "execution_count": null,
   "id": "3d336c7e",
   "metadata": {},
   "outputs": [],
   "source": [
    "'''\n",
    "7.\n",
    "다음 코드의 실행결과는\n",
    "for i in range(0, 2):\n",
    "    for j in range(0,2):\n",
    "        if i ==j\n",
    "            break\n",
    "        print(I, j)\n",
    "'''\n",
    "\n",
    "1 0 "
   ]
  },
  {
   "cell_type": "code",
   "execution_count": null,
   "id": "da6505da",
   "metadata": {},
   "outputs": [],
   "source": [
    "'''\n",
    "다음 코드의 실행 결과로 출력될 수 없는 것은\n",
    "for i in range(0, 2):\n",
    "    for j in range(0,2):\n",
    "        print(i, j)\n",
    "        if i ==j:\n",
    "            break \n",
    "'''\n",
    "\n",
    "0 0 \n",
    "1 0 \n",
    "1 1"
   ]
  },
  {
   "cell_type": "code",
   "execution_count": 443,
   "id": "53dea6f1",
   "metadata": {},
   "outputs": [
    {
     "data": {
      "text/plain": [
       "[3, 5, 7, 9]"
      ]
     },
     "execution_count": 443,
     "metadata": {},
     "output_type": "execute_result"
    }
   ],
   "source": [
    "'''\n",
    "L = [3, 4, 5, 6, 7, 8, 9, 10]\n",
    "for i, data in enumerate(L):\n",
    "    if (i%2 == 0):\n",
    "        print(data, end='')\n",
    "'''\n",
    "3,5,7,9 \n",
    "#L[::2] 슬라이싱으로 가져올 수 있음"
   ]
  },
  {
   "cell_type": "code",
   "execution_count": null,
   "id": "e8b74d31",
   "metadata": {},
   "outputs": [],
   "source": [
    "'''\n",
    "10. 1~100 사이의 정수를 맞추는 프로그램을 구현하시오\n",
    "(프로그램안에 임의의 숫자가 만들어지고 그 숫자를 맞추도록 합니다\n",
    "1단계 . 입력된 숫자가 틀리면 UP/DOWN 메시지를 출력하고 숫자를 맞추면 축하메\n",
    "세지와 함께 종료합니다 맞출 때까지 반복\n",
    "난수발생 코드\n",
    "import random\n",
    "#random.seed (21) # seed 값을 넣어주면 랜덤수가 같다\n",
    "print(random.randint (1,100))\n",
    "'''"
   ]
  },
  {
   "cell_type": "code",
   "execution_count": 400,
   "id": "21567ce6",
   "metadata": {},
   "outputs": [
    {
     "name": "stdout",
     "output_type": "stream",
     "text": [
      "컴퓨터가 만든 랜덤 수 : 67\n",
      "1~100사이의 수를 작성해보세요.1\n",
      "Up ↑\n",
      "1~100사이의 수를 작성해보세요.76\n",
      "Down ↓\n",
      "1~100사이의 수를 작성해보세요.61\n",
      "Up ↑\n",
      "1~100사이의 수를 작성해보세요.67\n",
      "😜정답입니다.\n",
      "종료되었습니다.\n"
     ]
    }
   ],
   "source": [
    "import random\n",
    "randomnum = random.randint(1,100)\n",
    "print('컴퓨터가 만든 랜덤 수 :', randomnum)\n",
    "\n",
    "while True:\n",
    "    inputnum = int(input('1~100사이의 수를 작성해보세요.'))\n",
    "    if (inputnum<1) | (inputnum>100):\n",
    "        print('범위를 벗어났습니다. 다시 작성해주세요.')\n",
    "    elif randomnum < inputnum:\n",
    "        print('Down ↓')\n",
    "    elif randomnum > inputnum:\n",
    "        print('Up ↑')\n",
    "    else:\n",
    "        print(\"😜정답입니다.\")\n",
    "        break\n",
    "print(\"종료되었습니다.\")"
   ]
  },
  {
   "cell_type": "code",
   "execution_count": 445,
   "id": "47ce94e6",
   "metadata": {},
   "outputs": [
    {
     "name": "stdout",
     "output_type": "stream",
     "text": [
      "컴퓨터가 발생한 임의의 수 : 81\n",
      "1~100사이의 수를 맞춰 보세요 :35\n",
      "1~100사이의 35입력\n",
      "UP ↑\n",
      "36~100사이의 수를 맞춰 보세요 :84\n",
      "36~100사이의 84입력\n",
      "DOWN ↓\n",
      "36~83사이의 수를 맞춰 보세요 :71\n",
      "36~83사이의 71입력\n",
      "UP ↑\n",
      "72~83사이의 수를 맞춰 보세요 :82\n",
      "72~83사이의 82입력\n",
      "DOWN ↓\n",
      "72~81사이의 수를 맞춰 보세요 :70\n",
      "72~81사이의 70입력\n",
      "수의 범위를 벗어났습니다\n",
      "72~81사이의 수를 맞춰 보세요 :79\n",
      "72~81사이의 79입력\n",
      "UP ↑\n",
      "80~81사이의 수를 맞춰 보세요 :80\n",
      "80~81사이의 80입력\n",
      "UP ↑\n",
      "81~81사이의 수를 맞춰 보세요 :81\n",
      "81~81사이의 81입력\n",
      "축하 축하 맞추셨습니다\n",
      "끝\n"
     ]
    }
   ],
   "source": [
    "''' \n",
    "10-2번 문제 \n",
    "import random\n",
    "# (1) 1~100사이의 난수 발생\n",
    "fRom, to = 1, 100\n",
    "inputNum = 0 # 사용자가 맞출 수가 저장될 변수\n",
    "randomNum = random.randint(fRom, to)\n",
    "print('컴퓨터가 발생한 임의의 수 :', randomNum)\n",
    "# (2) 수를 입력받아 틀리면 범위 조정과 UP/DOWN 메세지 출력, \n",
    "#    맞추면 축하축하 메세지와 break하는 반복문\n",
    "while randomNum!=inputNum :\n",
    "    inputNum = int(input(f\"{fRom}~{to}사이의 수를 맞춰 보세요 :\"))\n",
    "    print(f\"{fRom}~{to}사이의 {inputNum}입력\")\n",
    "    if (inputNum<fRom) | (inputNum>to):\n",
    "        print('수의 범위를 벗어났습니다')\n",
    "    elif randomNum < inputNum:\n",
    "        print('DOWN ↓')\n",
    "        to = inputNum - 1\n",
    "    elif randomNum > inputNum:\n",
    "        print('UP ↑')\n",
    "        fRom = inputNum+1\n",
    "    else:\n",
    "        print('축하 축하 맞추셨습니다')\n",
    "print('끝')\n",
    "\n",
    "'''"
   ]
  },
  {
   "cell_type": "code",
   "execution_count": 448,
   "id": "ef2462a6",
   "metadata": {},
   "outputs": [
    {
     "name": "stdout",
     "output_type": "stream",
     "text": [
      "컴퓨터가 발생한 임의의 수 : 34\n",
      "1~100사이의 수를 맞춰 보세요(남은기회 5)번2\n",
      "UP ↑\n",
      "3~100사이의 수를 맞춰 보세요(남은기회 4)번5\n",
      "UP ↑\n",
      "6~100사이의 수를 맞춰 보세요(남은기회 3)번92\n",
      "DOWN ↓\n",
      "6~91사이의 수를 맞춰 보세요(남은기회 2)번84\n",
      "DOWN ↓\n",
      "6~83사이의 수를 맞춰 보세요(남은기회 1)번35\n",
      "DOWN ↓\n",
      "모든 기회를 다 쓰셨습니다. 땡!\n",
      "끝\n"
     ]
    }
   ],
   "source": [
    "'''\n",
    "10-3-1번 문제 \n",
    "\n",
    "'''\n",
    "import random\n",
    "\n",
    "fRom, to = 1, 100\n",
    "inputNum = 0 # 사용자가 맞출 수가 저장될 변수\n",
    "randomNum = random.randint(fRom, to)\n",
    "print('컴퓨터가 발생한 임의의 수 :', randomNum)\n",
    "\n",
    "for i in range(5,0,-1):\n",
    "    inputNum = int(input(f\"{fRom}~{to}사이의 수를 맞춰 보세요(남은기회 {i})번\"))\n",
    "\n",
    "    if (inputNum<fRom) | (inputNum>to):\n",
    "        print('수의 범위를 벗어났습니다')\n",
    "    elif randomNum < inputNum:\n",
    "        print('DOWN ↓')\n",
    "        to = inputNum - 1\n",
    "    elif randomNum > inputNum:\n",
    "        print('UP ↑')\n",
    "        fRom = inputNum+1\n",
    "    else:\n",
    "        print('축하 축하 맞추셨습니다')\n",
    "        break\n",
    "else:\n",
    "    print('모든 기회를 다 쓰셨습니다. 땡!')\n",
    "print('👏👏게임끝👏👏')\n"
   ]
  },
  {
   "cell_type": "code",
   "execution_count": 451,
   "id": "60276c92",
   "metadata": {},
   "outputs": [
    {
     "name": "stdout",
     "output_type": "stream",
     "text": [
      "컴퓨터가 발생한 임의의 수 : 51\n",
      "1~100사이의 수를 맞춰 보세요(남은기회 5)번1\n",
      "UP ↑\n",
      "2~100사이의 수를 맞춰 보세요(남은기회 4)번5\n",
      "UP ↑\n",
      "6~100사이의 수를 맞춰 보세요(남은기회 3)번6\n",
      "UP ↑\n",
      "7~100사이의 수를 맞춰 보세요(남은기회 2)번51\n",
      "축하 축하 맞추셨습니다. 4번만에 도전성공!\n"
     ]
    }
   ],
   "source": [
    "'''\n",
    "10-3-2번 문제 \n",
    "\n",
    "'''\n",
    "import random\n",
    "\n",
    "fRom, to = 1, 100\n",
    "inputNum = 0 # 사용자가 맞출 수가 저장될 변수\n",
    "randomNum = random.randint(fRom, to)\n",
    "print('컴퓨터가 발생한 임의의 수 :', randomNum)\n",
    "message = '모든 기회를 다 쓰셨습니다. 땡!'\n",
    "for i in range(5,0,-1):\n",
    "    inputNum = int(input(f\"{fRom}~{to}사이의 수를 맞춰 보세요(남은기회 {i})번\"))\n",
    "\n",
    "    if (inputNum<fRom) | (inputNum>to):\n",
    "        print('수의 범위를 벗어났습니다')\n",
    "    elif randomNum < inputNum:\n",
    "        print('DOWN ↓')\n",
    "        to = inputNum - 1\n",
    "    elif randomNum > inputNum:\n",
    "        print('UP ↑')\n",
    "        fRom = inputNum+1\n",
    "    else:\n",
    "        message =\"축하 축하 맞추셨습니다. {}번만에 도전성공!\".format(6-i)\n",
    "        break\n",
    "print(message)\n"
   ]
  }
 ],
 "metadata": {
  "kernelspec": {
   "display_name": "Python 3 (ipykernel)",
   "language": "python",
   "name": "python3"
  },
  "language_info": {
   "codemirror_mode": {
    "name": "ipython",
    "version": 3
   },
   "file_extension": ".py",
   "mimetype": "text/x-python",
   "name": "python",
   "nbconvert_exporter": "python",
   "pygments_lexer": "ipython3",
   "version": "3.10.9"
  },
  "toc": {
   "base_numbering": 1,
   "nav_menu": {},
   "number_sections": false,
   "sideBar": true,
   "skip_h1_title": false,
   "title_cell": "Table of Contents",
   "title_sidebar": "Contents",
   "toc_cell": false,
   "toc_position": {
    "height": "calc(100% - 180px)",
    "left": "10px",
    "top": "150px",
    "width": "165px"
   },
   "toc_section_display": true,
   "toc_window_display": true
  }
 },
 "nbformat": 4,
 "nbformat_minor": 5
}
