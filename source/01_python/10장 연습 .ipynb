{
 "cells": [
  {
   "cell_type": "code",
   "execution_count": 1,
   "id": "67d63af2",
   "metadata": {},
   "outputs": [
    {
     "data": {
      "text/html": [
       "\n",
       "<style>\n",
       "div.container{width:86% !important;}\n",
       "div.cell.code_cell.rendered{width:100%;}\n",
       "div.CodeMirror {font-family:Consolas; font-size:15pt;}\n",
       "div.output {font-size:15pt; font-weight:bold;}\n",
       "div.input {font-family:Consolas; font-size:15pt;}\n",
       "div.prompt {min-width:70px;}\n",
       "div#toc-wrapper{padding-top:120px;}\n",
       "div.text_cell_render ul li{font-size:12pt;padding:5px;}\n",
       "table.dataframe{font-size:15px;}\n",
       "</style>\n",
       " "
      ],
      "text/plain": [
       "<IPython.core.display.HTML object>"
      ]
     },
     "metadata": {},
     "output_type": "display_data"
    }
   ],
   "source": [
    "from IPython.display import display, HTML \n",
    "display(HTML(\"\"\"\n",
    "<style>\n",
    "div.container{width:86% !important;}\n",
    "div.cell.code_cell.rendered{width:100%;}\n",
    "div.CodeMirror {font-family:Consolas; font-size:15pt;}\n",
    "div.output {font-size:15pt; font-weight:bold;}\n",
    "div.input {font-family:Consolas; font-size:15pt;}\n",
    "div.prompt {min-width:70px;}\n",
    "div#toc-wrapper{padding-top:120px;}\n",
    "div.text_cell_render ul li{font-size:12pt;padding:5px;}\n",
    "table.dataframe{font-size:15px;}\n",
    "</style>\n",
    " \"\"\"))"
   ]
  },
  {
   "cell_type": "markdown",
   "id": "e5f9db20",
   "metadata": {},
   "source": [
    "<span style=\"color:hotpink; font-size: 30px; font-weight: bold;\"> ch10.N차원 배열다루기 </span>\n",
    "- [numpy](https://numpy.org/doc/stable/)\n",
    "- [numpy API](https://numpy.org/doc/stable/reference/index.html)\n",
    "- N차원 배열 객체 만들기 위한 라이브러리\n",
    "- 2차원 배열은 행렬개념으로 사용할 수 있음\n",
    "- numpy는 c언어로 구현됨(속도가 빠름-고성능 수치 계산 패키지)"
   ]
  },
  {
   "cell_type": "code",
   "execution_count": 18,
   "id": "32e08588",
   "metadata": {},
   "outputs": [
    {
     "name": "stdout",
     "output_type": "stream",
     "text": [
      "[[1 2 3]\n",
      " [4 5 6]]\n",
      "(2, 3)\n",
      "2\n"
     ]
    },
    {
     "data": {
      "text/plain": [
       "array([[0, 1, 2],\n",
       "       [3, 4, 5]])"
      ]
     },
     "execution_count": 18,
     "metadata": {},
     "output_type": "execute_result"
    }
   ],
   "source": [
    "import numpy as np\n",
    "a1 = np.array([[1,2,3],[4,5,6]])\n",
    "print(a1)\n",
    "print(a1.shape)\n",
    "print(a1.ndim) # 넘파이 차원을 확인하는 방법 : ndim\n",
    "\n",
    "a2 = np.arange(1,20,3) # array([ 1,  4,  7, 10, 13, 16, 19]) 1부터 20까지 3번씩 점프 \n",
    "a3 = np.zeros((2,3))   # array([[0., 0., 0.], [0., 0., 0.]]) 2행 3열짜리 0\n",
    "a4 = np.ones((3,2))    # array([[1., 1.],[1., 1.],[1., 1.]]) 3행 2열짜리 1\n",
    "a5 = np.zeros_like(a4) # array([[0., 0.],[0., 0.],[0., 0.]]) 3행 2열짜리 0\n",
    "a6 = np.full((2,3),9)  # array([[9 9 9] [9 9 9]]) 2열 3행짜리 9\n",
    "a7 = np.random.random((3,2)) # array([[0.37372365, 0.0406329 ], [0.12775128, 0.97873443],[0.47114354, 0.79094854]])\n",
    "\n",
    "#shape\n",
    "a9 = np.arange(6).reshape(2,3) #array([[0, 1, 2], [3, 4, 5]]) 2행 3열 0부터 5까지 (6자리 나열) \n",
    "a10 = np.arange(6).reshape(-1,2) #array([[0,1],[2,3],[4,5]])\n",
    "a11 = np.dot(a9, a10) # a\n",
    "      \n",
    "       \n",
    "# 0*0 + 1*2 + 2*4 = 0 + 2 + 8 = 10   \n",
    "# 0*1 + 1*3 + 2*5 = 0 + 3 + 10 = 13\n"
   ]
  },
  {
   "cell_type": "code",
   "execution_count": null,
   "id": "03ecda40",
   "metadata": {},
   "outputs": [],
   "source": []
  }
 ],
 "metadata": {
  "kernelspec": {
   "display_name": "Python 3 (ipykernel)",
   "language": "python",
   "name": "python3"
  },
  "language_info": {
   "codemirror_mode": {
    "name": "ipython",
    "version": 3
   },
   "file_extension": ".py",
   "mimetype": "text/x-python",
   "name": "python",
   "nbconvert_exporter": "python",
   "pygments_lexer": "ipython3",
   "version": "3.10.9"
  },
  "toc": {
   "base_numbering": 1,
   "nav_menu": {},
   "number_sections": false,
   "sideBar": true,
   "skip_h1_title": false,
   "title_cell": "Table of Contents",
   "title_sidebar": "Contents",
   "toc_cell": false,
   "toc_position": {},
   "toc_section_display": true,
   "toc_window_display": false
  }
 },
 "nbformat": 4,
 "nbformat_minor": 5
}
