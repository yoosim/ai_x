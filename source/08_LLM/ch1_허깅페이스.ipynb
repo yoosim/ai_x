{
 "cells": [
  {
   "cell_type": "code",
   "execution_count": 1,
   "id": "fa9d352c",
   "metadata": {},
   "outputs": [
    {
     "data": {
      "text/html": [
       "\n",
       "<style>\n",
       "div.container{width:100% !important;}\n",
       "div.cell.code_cell.rendered{width:100%;}\n",
       "div.input_prompt{padding:0px;}\n",
       "div.CodeMirror {font-family:Consolas; font-size:22pt;}\n",
       "div.text_cell_render.rendered_html{font-size:18pt;}\n",
       "div.text_cell_render.rendered_html{font-size:15pt;}\n",
       "div.output {font-size:18pt; font-weight:bold;}\n",
       "div.input {font-family:Consolas; font-size:18pt;}\n",
       "div.prompt {min-width:70px;}\n",
       "div#toc-wrapper{padding-top:120px;}\n",
       "div.text_cell_render ul li{font-size:18pt;padding:5px;}\n",
       "table.dataframe{font-size:18px;}\n",
       "</style>\n"
      ],
      "text/plain": [
       "<IPython.core.display.HTML object>"
      ]
     },
     "metadata": {},
     "output_type": "display_data"
    }
   ],
   "source": [
    "from IPython.display import display, HTML\n",
    "display(HTML(\"\"\"\n",
    "<style>\n",
    "div.container{width:100% !important;}\n",
    "div.cell.code_cell.rendered{width:100%;}\n",
    "div.input_prompt{padding:0px;}\n",
    "div.CodeMirror {font-family:Consolas; font-size:22pt;}\n",
    "div.text_cell_render.rendered_html{font-size:18pt;}\n",
    "div.text_cell_render.rendered_html{font-size:15pt;}\n",
    "div.output {font-size:18pt; font-weight:bold;}\n",
    "div.input {font-family:Consolas; font-size:18pt;}\n",
    "div.prompt {min-width:70px;}\n",
    "div#toc-wrapper{padding-top:120px;}\n",
    "div.text_cell_render ul li{font-size:18pt;padding:5px;}\n",
    "table.dataframe{font-size:18px;}\n",
    "</style>\n",
    "\"\"\"))"
   ]
  },
  {
   "cell_type": "code",
   "execution_count": 2,
   "id": "435b6e74",
   "metadata": {},
   "outputs": [],
   "source": [
    "import warnings\n",
    "warnings.filterwarnings(action='ignore')"
   ]
  },
  {
   "cell_type": "markdown",
   "id": "11665d17",
   "metadata": {},
   "source": [
    "# <span style=\"color:red;\">ch1.허깅페이스</span>\n",
    "- Transformers 라이브러리 내 pipeline()함수\n",
    "- INference API : key를 사용 \n",
    "## 1. 텍스트기반 감정분석 (긍정/부정)"
   ]
  },
  {
   "cell_type": "code",
   "execution_count": 3,
   "id": "e1402423",
   "metadata": {},
   "outputs": [
    {
     "name": "stderr",
     "output_type": "stream",
     "text": [
      "Device set to use cpu\n"
     ]
    },
    {
     "data": {
      "text/plain": [
       "[{'label': 'POSITIVE', 'score': 0.9598049521446228}]"
      ]
     },
     "execution_count": 3,
     "metadata": {},
     "output_type": "execute_result"
    }
   ],
   "source": [
    "from transformers import pipeline\n",
    "classifier = pipeline(task=\"text-classification\",\n",
    "                      model='distilbert-base-uncased-finetuned-sst-2-english')\n",
    "classifier(\"I've been waiting for a HuggingFace course my whole life.\")"
   ]
  },
  {
   "cell_type": "code",
   "execution_count": 4,
   "id": "4d668225",
   "metadata": {},
   "outputs": [
    {
     "data": {
      "text/plain": [
       "[{'label': 'POSITIVE', 'score': 0.8878775835037231}]"
      ]
     },
     "execution_count": 4,
     "metadata": {},
     "output_type": "execute_result"
    }
   ],
   "source": [
    "classifier(\"이 영화는 최고입니다. 감동적이고 연기가 대단해요\")"
   ]
  },
  {
   "cell_type": "code",
   "execution_count": 5,
   "id": "5489b077",
   "metadata": {},
   "outputs": [
    {
     "data": {
      "text/plain": [
       "['POSITIVE', 'NEGATIVE']"
      ]
     },
     "execution_count": 5,
     "metadata": {},
     "output_type": "execute_result"
    }
   ],
   "source": [
    "result = classifier([\"I've been waiting for a HuggingFace course my whole life.\",\n",
    "                     \"I hate this so much!\"])\n",
    "[r.get('label') for r in result]"
   ]
  },
  {
   "cell_type": "code",
   "execution_count": 6,
   "id": "5eab9f52",
   "metadata": {},
   "outputs": [
    {
     "name": "stderr",
     "output_type": "stream",
     "text": [
      "Device set to use cpu\n"
     ]
    },
    {
     "data": {
      "text/plain": [
       "[{'label': 'POSITIVE', 'score': 0.9598049521446228},\n",
       " {'label': 'NEGATIVE', 'score': 0.9994558691978455}]"
      ]
     },
     "execution_count": 6,
     "metadata": {},
     "output_type": "execute_result"
    }
   ],
   "source": [
    "classifier = pipeline(task='sentiment-analysis',\n",
    "                      model='distilbert-base-uncased-finetuned-sst-2-english')\n",
    "\n",
    "classifier([\"I've been waiting for a HuggingFace course my whole life.\",\n",
    "                     \"I hate this so much!\"])"
   ]
  },
  {
   "cell_type": "markdown",
   "id": "32b0dcde",
   "metadata": {},
   "source": [
    "## 2. 제로-샷 분류(zero-shot-classification)\n",
    "- 비지도학습"
   ]
  },
  {
   "cell_type": "code",
   "execution_count": 8,
   "id": "507c43cc",
   "metadata": {},
   "outputs": [
    {
     "name": "stderr",
     "output_type": "stream",
     "text": [
      "Device set to use cpu\n"
     ]
    },
    {
     "data": {
      "text/plain": [
       "{'sequence': 'I have a problem with my iphone that needs to be resolved asap!!',\n",
       " 'labels': ['urgent', 'phone', 'computer', 'tablet'],\n",
       " 'scores': [0.5049763917922974,\n",
       "  0.48007503151893616,\n",
       "  0.012633666396141052,\n",
       "  0.0023148944601416588]}"
      ]
     },
     "execution_count": 8,
     "metadata": {},
     "output_type": "execute_result"
    }
   ],
   "source": [
    "classifier = pipeline(task='zero-shot-classification',\n",
    "                     model=\"facebook/bart-large-mnli\")\n",
    "\n",
    "classifier('I have a problem with my iphone that needs to be resolved asap!!',\n",
    "            candidate_labels=[\"phone\",\"urgent\",\"tablet\",\"computer\"])"
   ]
  },
  {
   "cell_type": "code",
   "execution_count": 9,
   "id": "92315e03",
   "metadata": {},
   "outputs": [
    {
     "data": {
      "text/plain": [
       "{'sequence': 'This is a course about the transformers library.',\n",
       " 'labels': ['education', 'business', 'politics'],\n",
       " 'scores': [0.9053581357002258, 0.07259627431631088, 0.02204558439552784]}"
      ]
     },
     "execution_count": 9,
     "metadata": {},
     "output_type": "execute_result"
    }
   ],
   "source": [
    "# 제\n",
    "classifier(\n",
    "        \"This is a course about the transformers library.\",\n",
    "        candidate_labels=[\"education\",\"business\",\"politics\"])"
   ]
  },
  {
   "cell_type": "markdown",
   "id": "ae08e26d",
   "metadata": {},
   "source": [
    "## 3. text 생성"
   ]
  },
  {
   "cell_type": "code",
   "execution_count": 14,
   "id": "a89ec512",
   "metadata": {},
   "outputs": [
    {
     "name": "stderr",
     "output_type": "stream",
     "text": [
      "Device set to use cpu\n"
     ]
    },
    {
     "data": {
      "text/plain": [
       "[{'generated_text': 'In this course. We will teach you how to use your camera to create a 3D virtual reality environment that will show you the fundamentals of VR.\\n\\nWe will show you how to create a 3D Virtual Reality environment that will show you the fundamentals of VR.\\n\\nWe will show you how to create a 3D Virtual Reality environment that will show you the fundamentals of VR.\\n\\nWe will show you how to create a 3D Virtual Reality environment that will show you the fundamentals of VR.\\n\\nWe will show you how to create a 3D Virtual Reality environment that will show you the fundamentals of VR.\\n\\nWe will show you how to create a 3D Virtual Reality environment that will show you the fundamentals of VR.\\n\\nWe will show you how to create a 3D Virtual Reality environment that will show you the fundamentals of VR.\\n\\nWe will show you how to create a 3D Virtual Reality environment that will show you the fundamentals of VR.\\n\\nWe will show you how to create a 3D Virtual Reality environment that will show you the fundamentals of VR.\\n\\nWe will show you how to create a 3D Virtual Reality environment that will show you the fundamentals of VR.\\n\\nWe will show you how to create a 3D Virtual Reality environment that will show you the'}]"
      ]
     },
     "execution_count": 14,
     "metadata": {},
     "output_type": "execute_result"
    }
   ],
   "source": [
    "generator = pipeline(task=\"text-generation\",\n",
    "                     model=\"gpt2\")           # 허깅페이스에는 gpt2까지 \n",
    "generator(\"In this course. We will teach you how to\",\n",
    "          pad_token_id=generator.tokenizer.eos_token_id)"
   ]
  },
  {
   "cell_type": "code",
   "execution_count": 16,
   "id": "c0b956eb",
   "metadata": {},
   "outputs": [
    {
     "data": {
      "text/plain": [
       "[{'generated_text': '이 과정은 다음과 같은 방법을 알려드려요. 대타의 권드 는때 해스트을 아트려한는떘 아트려한는떘 아트려한는떘 아트려한는떘 아트려한는떘 아트려한는떘 아트려한는떘 아트려한는떘 아트려한는떘 아트려한는떘 아트려한는떘 아트려한는떘 아트려한는떘 아'}]"
      ]
     },
     "execution_count": 16,
     "metadata": {},
     "output_type": "execute_result"
    }
   ],
   "source": [
    "generator(\"이 과정은 다음과 같은 방법을 알려드려요.\",\n",
    "          pad_token_id=generator.tokenizer.eos_token_id)"
   ]
  },
  {
   "cell_type": "markdown",
   "id": "2d70b539",
   "metadata": {},
   "source": [
    "## 4. 마스크 채우기"
   ]
  },
  {
   "cell_type": "code",
   "execution_count": 19,
   "id": "d889c68b",
   "metadata": {},
   "outputs": [
    {
     "name": "stderr",
     "output_type": "stream",
     "text": [
      "Some weights of the model checkpoint at distilroberta-base were not used when initializing RobertaForMaskedLM: ['roberta.pooler.dense.bias', 'roberta.pooler.dense.weight']\n",
      "- This IS expected if you are initializing RobertaForMaskedLM from the checkpoint of a model trained on another task or with another architecture (e.g. initializing a BertForSequenceClassification model from a BertForPreTraining model).\n",
      "- This IS NOT expected if you are initializing RobertaForMaskedLM from the checkpoint of a model that you expect to be exactly identical (initializing a BertForSequenceClassification model from a BertForSequenceClassification model).\n",
      "Device set to use cpu\n"
     ]
    },
    {
     "data": {
      "text/plain": [
       "[{'score': 0.19275875389575958,\n",
       "  'token': 3299,\n",
       "  'token_str': ' doctor',\n",
       "  'sequence': \"I'm going to hospital and meet a doctor\"},\n",
       " {'score': 0.06794668734073639,\n",
       "  'token': 27321,\n",
       "  'token_str': ' psychiatrist',\n",
       "  'sequence': \"I'm going to hospital and meet a psychiatrist\"},\n",
       " {'score': 0.06435622274875641,\n",
       "  'token': 16308,\n",
       "  'token_str': ' surgeon',\n",
       "  'sequence': \"I'm going to hospital and meet a surgeon\"},\n",
       " {'score': 0.05912911519408226,\n",
       "  'token': 9008,\n",
       "  'token_str': ' nurse',\n",
       "  'sequence': \"I'm going to hospital and meet a nurse\"},\n",
       " {'score': 0.05705659091472626,\n",
       "  'token': 1441,\n",
       "  'token_str': ' friend',\n",
       "  'sequence': \"I'm going to hospital and meet a friend\"}]"
      ]
     },
     "execution_count": 19,
     "metadata": {},
     "output_type": "execute_result"
    }
   ],
   "source": [
    "unmasker = pipeline(task=\"fill-mask\",\n",
    "                    model=\"distilroberta-base\")\n",
    "unmasker(\"I'm going to hospital and meet a <mask>\")"
   ]
  },
  {
   "cell_type": "code",
   "execution_count": 20,
   "id": "9761a72f",
   "metadata": {},
   "outputs": [
    {
     "data": {
      "text/plain": [
       "[{'score': 0.0361194983124733,\n",
       "  'token': 265,\n",
       "  'token_str': ' business',\n",
       "  'sequence': \"Hello, I'm a business model\"},\n",
       " {'score': 0.02683814987540245,\n",
       "  'token': 18150,\n",
       "  'token_str': ' freelance',\n",
       "  'sequence': \"Hello, I'm a freelance model\"}]"
      ]
     },
     "execution_count": 20,
     "metadata": {},
     "output_type": "execute_result"
    }
   ],
   "source": [
    "unmasker(\"Hello, I'm a <mask> model\",\n",
    "         top_k=2) # top_k를 안 주면 5개"
   ]
  },
  {
   "cell_type": "code",
   "execution_count": 22,
   "id": "085cb9a9",
   "metadata": {},
   "outputs": [
    {
     "name": "stderr",
     "output_type": "stream",
     "text": [
      "Some weights of the model checkpoint at google-bert/bert-base-uncased were not used when initializing BertForMaskedLM: ['bert.pooler.dense.bias', 'bert.pooler.dense.weight', 'cls.seq_relationship.bias', 'cls.seq_relationship.weight']\n",
      "- This IS expected if you are initializing BertForMaskedLM from the checkpoint of a model trained on another task or with another architecture (e.g. initializing a BertForSequenceClassification model from a BertForPreTraining model).\n",
      "- This IS NOT expected if you are initializing BertForMaskedLM from the checkpoint of a model that you expect to be exactly identical (initializing a BertForSequenceClassification model from a BertForSequenceClassification model).\n",
      "Device set to use cpu\n"
     ]
    },
    {
     "data": {
      "text/plain": [
       "[{'score': 0.06705890595912933,\n",
       "  'token': 4827,\n",
       "  'token_str': 'fashion',\n",
       "  'sequence': \"hello, i ' m a fashion model\"},\n",
       " {'score': 0.058972738683223724,\n",
       "  'token': 2047,\n",
       "  'token_str': 'new',\n",
       "  'sequence': \"hello, i ' m a new model\"}]"
      ]
     },
     "execution_count": 22,
     "metadata": {},
     "output_type": "execute_result"
    }
   ],
   "source": [
    "unmasker = pipeline(task=\"fill-mask\",\n",
    "                    model=\"google-bert/bert-base-uncased\")\n",
    "unmasker(\"Hello, I'm a[MASK]model\", top_k=2)"
   ]
  },
  {
   "cell_type": "code",
   "execution_count": 33,
   "id": "871ac975",
   "metadata": {},
   "outputs": [
    {
     "data": {
      "text/plain": [
       "True"
      ]
     },
     "execution_count": 33,
     "metadata": {},
     "output_type": "execute_result"
    }
   ],
   "source": [
    "import os \n",
    "from dotenv import load_dotenv\n",
    "load_dotenv()\n",
    "# print(os.environ['HF_TOKEN'])"
   ]
  },
  {
   "cell_type": "code",
   "execution_count": 40,
   "id": "5069a55d",
   "metadata": {},
   "outputs": [],
   "source": [
    "from huggingface_hub import InferenceClient\n",
    "client = InferenceClient(provider=\"hf-inference\",\n",
    "                         api_key=os.environ['HF_TOKEN'])\n",
    "result = client.fill_mask(\n",
    "        \"Hello, I'm a [MASK] model\",\n",
    "        model=\"google-bert/bert-base-uncased\",\n",
    "        top_k=2)"
   ]
  },
  {
   "cell_type": "code",
   "execution_count": 38,
   "id": "82ba4e10",
   "metadata": {},
   "outputs": [
    {
     "data": {
      "text/plain": [
       "[\"hello, i ' m a fashion model\", \"hello, i ' m a new model\"]"
      ]
     },
     "execution_count": 38,
     "metadata": {},
     "output_type": "execute_result"
    }
   ],
   "source": [
    "[r.sequence for r in result]"
   ]
  },
  {
   "cell_type": "code",
   "execution_count": 32,
   "id": "197a5002",
   "metadata": {},
   "outputs": [
    {
     "data": {
      "application/vnd.jupyter.widget-view+json": {
       "model_id": "ec4e5f26fd6c4057816d7c402d32eeac",
       "version_major": 2,
       "version_minor": 0
      },
      "text/plain": [
       "model.safetensors:   0%|          | 0.00/714M [00:00<?, ?B/s]"
      ]
     },
     "metadata": {},
     "output_type": "display_data"
    },
    {
     "name": "stderr",
     "output_type": "stream",
     "text": [
      "Some weights of the model checkpoint at bert-base-multilingual-cased were not used when initializing BertForMaskedLM: ['bert.pooler.dense.bias', 'bert.pooler.dense.weight', 'cls.seq_relationship.bias', 'cls.seq_relationship.weight']\n",
      "- This IS expected if you are initializing BertForMaskedLM from the checkpoint of a model trained on another task or with another architecture (e.g. initializing a BertForSequenceClassification model from a BertForPreTraining model).\n",
      "- This IS NOT expected if you are initializing BertForMaskedLM from the checkpoint of a model that you expect to be exactly identical (initializing a BertForSequenceClassification model from a BertForSequenceClassification model).\n"
     ]
    },
    {
     "data": {
      "application/vnd.jupyter.widget-view+json": {
       "model_id": "00b2bbe55c0040c1888f2982adacecf9",
       "version_major": 2,
       "version_minor": 0
      },
      "text/plain": [
       "tokenizer_config.json:   0%|          | 0.00/49.0 [00:00<?, ?B/s]"
      ]
     },
     "metadata": {},
     "output_type": "display_data"
    },
    {
     "data": {
      "application/vnd.jupyter.widget-view+json": {
       "model_id": "4234ade77fcb4174b81b2cfdfba626bc",
       "version_major": 2,
       "version_minor": 0
      },
      "text/plain": [
       "vocab.txt:   0%|          | 0.00/996k [00:00<?, ?B/s]"
      ]
     },
     "metadata": {},
     "output_type": "display_data"
    },
    {
     "data": {
      "application/vnd.jupyter.widget-view+json": {
       "model_id": "48a6d75d47274514bd6c7c690ad94b56",
       "version_major": 2,
       "version_minor": 0
      },
      "text/plain": [
       "tokenizer.json:   0%|          | 0.00/1.96M [00:00<?, ?B/s]"
      ]
     },
     "metadata": {},
     "output_type": "display_data"
    },
    {
     "name": "stderr",
     "output_type": "stream",
     "text": [
      "Device set to use cpu\n"
     ]
    }
   ],
   "source": [
    "# 다국어지원 모델도 한글 지원 만족스럽지 않을 수 있음\n",
    "unmasker = pipeline(\"fill-mask\",\n",
    "                     model=\"bert-base-multilingual-cased\")"
   ]
  },
  {
   "cell_type": "code",
   "execution_count": 41,
   "id": "1df1a8c2",
   "metadata": {},
   "outputs": [
    {
     "data": {
      "text/plain": [
       "[{'score': 0.15278075635433197,\n",
       "  'token': 9638,\n",
       "  'token_str': '이',\n",
       "  'sequence': '안녕하세요? 나는 이 모델입니다.'},\n",
       " {'score': 0.10853561013936996,\n",
       "  'token': 62592,\n",
       "  'token_str': '여자',\n",
       "  'sequence': '안녕하세요? 나는 여자 모델입니다.'},\n",
       " {'score': 0.07730673253536224,\n",
       "  'token': 108399,\n",
       "  'token_str': '가수',\n",
       "  'sequence': '안녕하세요? 나는 가수 모델입니다.'}]"
      ]
     },
     "execution_count": 41,
     "metadata": {},
     "output_type": "execute_result"
    }
   ],
   "source": [
    "unmasker(\"안녕하세요? 나는 [MASK] 모델입니다.\",top_k=3)"
   ]
  },
  {
   "cell_type": "markdown",
   "id": "dfea6c99",
   "metadata": {},
   "source": [
    "## 5. 개채명 인식(NER:Named Entity REcognition)"
   ]
  },
  {
   "cell_type": "code",
   "execution_count": 46,
   "id": "34b81ddc",
   "metadata": {},
   "outputs": [
    {
     "name": "stderr",
     "output_type": "stream",
     "text": [
      "No model was supplied, defaulted to dbmdz/bert-large-cased-finetuned-conll03-english and revision 4c53496 (https://huggingface.co/dbmdz/bert-large-cased-finetuned-conll03-english).\n",
      "Using a pipeline without specifying a model name and revision in production is not recommended.\n",
      "Some weights of the model checkpoint at dbmdz/bert-large-cased-finetuned-conll03-english were not used when initializing BertForTokenClassification: ['bert.pooler.dense.bias', 'bert.pooler.dense.weight']\n",
      "- This IS expected if you are initializing BertForTokenClassification from the checkpoint of a model trained on another task or with another architecture (e.g. initializing a BertForSequenceClassification model from a BertForPreTraining model).\n",
      "- This IS NOT expected if you are initializing BertForTokenClassification from the checkpoint of a model that you expect to be exactly identical (initializing a BertForSequenceClassification model from a BertForSequenceClassification model).\n",
      "Device set to use cpu\n"
     ]
    }
   ],
   "source": [
    "ner = pipeline(task='ner')"
   ]
  },
  {
   "cell_type": "code",
   "execution_count": 51,
   "id": "258f6669",
   "metadata": {},
   "outputs": [
    {
     "data": {
      "text/plain": [
       "[{'entity': 'I-PER',\n",
       "  'score': 0.99866045,\n",
       "  'index': 4,\n",
       "  'word': 'Tom',\n",
       "  'start': 11,\n",
       "  'end': 14},\n",
       " {'entity': 'I-LOC',\n",
       "  'score': 0.9938508,\n",
       "  'index': 12,\n",
       "  'word': 'Brooklyn',\n",
       "  'start': 41,\n",
       "  'end': 49}]"
      ]
     },
     "execution_count": 51,
     "metadata": {},
     "output_type": "execute_result"
    }
   ],
   "source": [
    "ner(\"My name is Tom and I work at facebook in Brooklyn\")"
   ]
  },
  {
   "cell_type": "markdown",
   "id": "b73d39ff",
   "metadata": {},
   "source": [
    "## 6.질의응답"
   ]
  },
  {
   "cell_type": "code",
   "execution_count": 54,
   "id": "2fb33ea2",
   "metadata": {},
   "outputs": [
    {
     "name": "stderr",
     "output_type": "stream",
     "text": [
      "Device set to use cpu\n"
     ]
    }
   ],
   "source": [
    "question_answer = pipeline(\"question-answering\",\n",
    "                           \"distilbert-base-cased-distilled-squad\",\n",
    "                          )"
   ]
  },
  {
   "cell_type": "code",
   "execution_count": 56,
   "id": "a9c7654a",
   "metadata": {},
   "outputs": [
    {
     "data": {
      "text/plain": [
       "{'score': 0.8799567818641663, 'start': 41, 'end': 49, 'answer': 'Brooklyn'}"
      ]
     },
     "execution_count": 56,
     "metadata": {},
     "output_type": "execute_result"
    }
   ],
   "source": [
    "question_answer(\n",
    "                question=\"Where do i wokr?\",\n",
    "                context=\"My name is Tom and I work at facebook in Brooklyn\")"
   ]
  },
  {
   "cell_type": "code",
   "execution_count": 60,
   "id": "6fb4746f",
   "metadata": {},
   "outputs": [
    {
     "data": {
      "text/plain": [
       "'Brooklyn'"
      ]
     },
     "execution_count": 60,
     "metadata": {},
     "output_type": "execute_result"
    }
   ],
   "source": [
    "context=\"My name is Tom and I work at facebook in Brooklyn\"\n",
    "context[41:49]"
   ]
  },
  {
   "cell_type": "markdown",
   "id": "60a4df4d",
   "metadata": {},
   "source": [
    "##  7. 문서 요약\n",
    "- 현재 torch 2.6이상 추천"
   ]
  },
  {
   "cell_type": "code",
   "execution_count": 61,
   "id": "2580e390",
   "metadata": {},
   "outputs": [
    {
     "data": {
      "text/plain": [
       "'2.5.1'"
      ]
     },
     "execution_count": 61,
     "metadata": {},
     "output_type": "execute_result"
    }
   ],
   "source": [
    "import torch\n",
    "torch.__version__"
   ]
  },
  {
   "cell_type": "code",
   "execution_count": 62,
   "id": "9f2a5d5d",
   "metadata": {},
   "outputs": [
    {
     "name": "stderr",
     "output_type": "stream",
     "text": [
      "Device set to use cpu\n"
     ]
    }
   ],
   "source": [
    "summarizer = pipeline(task=\"summarization\",\n",
    "                      model=\"facebook/bart-large-cnn\")"
   ]
  },
  {
   "cell_type": "code",
   "execution_count": 63,
   "id": "4c76922b",
   "metadata": {},
   "outputs": [
    {
     "data": {
      "text/plain": [
       "[{'summary_text': 'Suga, a rapper and songwriter in the global K-pop sensation BTS, has been discharged from South Korea’s mandatory military service. The label confirmed that Suga completed his alternative service duties on Wednesday after using up his remaining leave.'}]"
      ]
     },
     "execution_count": 63,
     "metadata": {},
     "output_type": "execute_result"
    }
   ],
   "source": [
    "summarizer(\n",
    "\"\"\"\n",
    "BTS member Suga attends an NBA basketball game between the Los Angeles Lakers and the Dallas Mavericks in Los Angeles\n",
    "Suga, a rapper and songwriter in the global K-pop sensation BTS, has been discharged from South Korea’s mandatory military service, marking the official return of all seven members from their enlistment duties.\n",
    "The label confirmed that Suga completed his alternative service duties on Wednesday after using up his remaining leave. His official discharge date is Saturday.\n",
    "BTS’ management agency, Big Hit Entertainment, had said earlier that no events were planned for Suga’s release out of concern for overcrowding.\n",
    "It is a momentous occasion for fans of the K-pop group BTS. The seven singers of the popular K-pop band plan to reunite as a group sometime in 2025 now that they’ve finished their service.\n",
    "Last week, BTS superstars RM and V were discharged from South Korea’s military after fulfilling their mandatory service. Jimin and Jung Kook were discharged a day later. All four were enlisted in December 2023.\n",
    "K-pop supergroup BTS could soon make a comeback with six out of its seven members discharged from South Korea’s military\n",
    "Six of the group’s seven members served in the army, while Suga fulfilled his duty as a social service agent, an alternative form of military service.\n",
    "Jin, the oldest BTS member, was discharged in June 2024. J-Hope was discharged in October.\n",
    "In South Korea, all able-bodied men aged 18 to 28 are required by law to perform 18-21 months of military service under a conscription system meant to deter aggression from rival North Korea.\n",
    "The law gives special exemptions to athletes, classical and traditional musicians, and ballet and other dancers if they have obtained top prizes in certain competitions and are assessed to have enhanced national prestige. K-pop stars and other entertainers aren’t subject to such privileges.\n",
    "However, in 2020, BTS postponed their service until age 30 after South Korea’s National Assembly revised its Military Service Act, allowing K-pop stars to delay their enlistment until age 30.\n",
    "There was heated public debate in 2022 over whether to offer special exemptions of mandatory military service for BTS members, until the group’s management agency announced in October 2022 that all seven members would fulfill their duties.\n",
    "\"\"\", max_length=150,\n",
    "     min_length=30,\n",
    "     do_sample=False)"
   ]
  },
  {
   "cell_type": "markdown",
   "id": "ab79fb43",
   "metadata": {},
   "source": [
    "## 8. 번역"
   ]
  },
  {
   "cell_type": "code",
   "execution_count": 67,
   "id": "947061e9",
   "metadata": {},
   "outputs": [
    {
     "name": "stderr",
     "output_type": "stream",
     "text": [
      "All model checkpoint layers were used when initializing TFMarianMTModel.\n",
      "\n",
      "All the layers of TFMarianMTModel were initialized from the model checkpoint at Helsinki-NLP/opus-mt-ko-en.\n",
      "If your task is similar to the task the model of the checkpoint was trained on, you can already use TFMarianMTModel for predictions without further training.\n",
      "Device set to use 0\n",
      "Device set to use cpu\n"
     ]
    }
   ],
   "source": [
    "# 한 → 영\n",
    "ko2en = pipeline(\"translation\",\n",
    "                      model=\"Helsinki-NLP/opus-mt-ko-en\")\n",
    "\n",
    "# 영 → 한 (?)\n",
    "en2ko = pipeline(\"translation\",\n",
    "                 model=\"Helsinki-NLP/opus-mt-tc-big-en-ko\")"
   ]
  },
  {
   "cell_type": "code",
   "execution_count": 69,
   "id": "fe2a5911",
   "metadata": {},
   "outputs": [
    {
     "name": "stdout",
     "output_type": "stream",
     "text": [
      "한국어 → 영어 : Please translate this sentence into English.\n",
      "영어 → 한국어 : US  풍선 행\n"
     ]
    }
   ],
   "source": [
    "# 테스트 문장\n",
    "ko_sentence = \"이 문장을 영어로 번역해 주세요.\"\n",
    "en_sentence = \"I enjoy learning about AI\"\n",
    "ko_result = ko2en(ko_sentence)[0]['translation_text']\n",
    "en_result = en2ko(en_sentence)[0]['translation_text']\n",
    "print(\"한국어 → 영어 :\", ko_result)\n",
    "print(\"영어 → 한국어 :\", en_result)"
   ]
  },
  {
   "cell_type": "code",
   "execution_count": 81,
   "id": "e0c029f5",
   "metadata": {},
   "outputs": [],
   "source": [
    "result = ko2en([\n",
    "    \"이 문장을 영어로 번역해 주세요.\",\n",
    "    \"내일은 드디어 LLM 시작!\",\n",
    "    \"머신러닝과 딥러닝 평가 정리가 있어요.\",\n",
    "    \"빠지지 말아주세요.\"\n",
    "])"
   ]
  },
  {
   "cell_type": "code",
   "execution_count": 82,
   "id": "32fed325",
   "metadata": {},
   "outputs": [
    {
     "data": {
      "text/plain": [
       "[{'translation_text': 'Please translate this sentence into English.'},\n",
       " {'translation_text': \"Tomorrow, we're finally starting the LLM!\"},\n",
       " {'translation_text': \"There's a machine-driving and a deep-down evaluation.\"},\n",
       " {'translation_text': \"Please don't lose it.\"}]"
      ]
     },
     "execution_count": 82,
     "metadata": {},
     "output_type": "execute_result"
    }
   ],
   "source": [
    "result"
   ]
  },
  {
   "cell_type": "code",
   "execution_count": 83,
   "id": "df7aa567",
   "metadata": {},
   "outputs": [
    {
     "name": "stdout",
     "output_type": "stream",
     "text": [
      "Please translate this sentence into English.\n",
      "Tomorrow, we're finally starting the LLM!\n",
      "There's a machine-driving and a deep-down evaluation.\n",
      "Please don't lose it.\n"
     ]
    }
   ],
   "source": [
    "print('\\n'.join([r['translation_text'] for r in result]))"
   ]
  },
  {
   "cell_type": "markdown",
   "id": "5ec1f7ac",
   "metadata": {},
   "source": [
    "## 9. 이미지를 설명하는 텍스트 생성"
   ]
  },
  {
   "cell_type": "code",
   "execution_count": 87,
   "id": "4fc10055",
   "metadata": {},
   "outputs": [
    {
     "name": "stderr",
     "output_type": "stream",
     "text": [
      "All model checkpoint layers were used when initializing TFVisionEncoderDecoderModel.\n",
      "\n",
      "All the layers of TFVisionEncoderDecoderModel were initialized from the model checkpoint at ydshieh/vit-gpt2-coco-en.\n",
      "If your task is similar to the task the model of the checkpoint was trained on, you can already use TFVisionEncoderDecoderModel for predictions without further training.\n",
      "Using a slow image processor as `use_fast` is unset and a slow processor was saved with this model. `use_fast=True` will be the default behavior in v4.52, even if the model was saved with a slow processor. This will result in minor differences in outputs. You'll still be able to use a slow processor with `use_fast=False`.\n",
      "Device set to use 0\n"
     ]
    }
   ],
   "source": [
    "imagetotext = pipeline(task=\"image-to-text\",\n",
    "                       model=\"ydshieh/vit-gpt2-coco-en\")"
   ]
  },
  {
   "cell_type": "code",
   "execution_count": 96,
   "id": "28efd7e5",
   "metadata": {},
   "outputs": [
    {
     "data": {
      "image/jpeg": "[encoded data removed]",
      "image/png": "[encoded data removed]",
      "text/plain": [
       "<PIL.Image.Image image mode=L size=250x250>"
      ]
     },
     "execution_count": 96,
     "metadata": {},
     "output_type": "execute_result"
    }
   ],
   "source": [
    "url=\"https://huggingface.co/datasets/Narsil/image_dummy/resolve/main/parrots.png\"\n",
    "from PIL import Image\n",
    "import requests\n",
    "image=Image.open(requests.get(url,stream=True).raw)\n",
    "small_image = image.resize((250, 250))\n",
    "small_image"
   ]
  },
  {
   "cell_type": "code",
   "execution_count": 98,
   "id": "a9c55d72",
   "metadata": {},
   "outputs": [
    {
     "data": {
      "text/plain": [
       "(PIL.Image.Image, PIL.PngImagePlugin.PngImageFile)"
      ]
     },
     "execution_count": 98,
     "metadata": {},
     "output_type": "execute_result"
    }
   ],
   "source": [
    "type(small_image), type(image)"
   ]
  },
  {
   "cell_type": "code",
   "execution_count": 93,
   "id": "9abc095f",
   "metadata": {},
   "outputs": [
    {
     "data": {
      "text/plain": [
       "[{'generated_text': 'two birds are standing next to each other '}]"
      ]
     },
     "execution_count": 93,
     "metadata": {},
     "output_type": "execute_result"
    }
   ],
   "source": [
    "imagetotext(url,max_new_tokens=30)"
   ]
  },
  {
   "cell_type": "code",
   "execution_count": 100,
   "id": "17c7c38e",
   "metadata": {},
   "outputs": [
    {
     "data": {
      "image/jpeg": "[encoded data removed]",
      "image/png": "[encoded data removed]",
      "text/plain": [
       "<PIL.Image.Image image mode=RGB size=200x200>"
      ]
     },
     "execution_count": 100,
     "metadata": {},
     "output_type": "execute_result"
    }
   ],
   "source": [
    "# 내 PC의 이미지 설명 \n",
    "image = Image.open('images/fb.jpg')\n",
    "image.resize((200,200))"
   ]
  },
  {
   "cell_type": "code",
   "execution_count": 101,
   "id": "4bb2add6",
   "metadata": {},
   "outputs": [
    {
     "data": {
      "text/plain": [
       "[{'generated_text': 'a variety of fruits and vegetables are displayed on a table '}]"
      ]
     },
     "execution_count": 101,
     "metadata": {},
     "output_type": "execute_result"
    }
   ],
   "source": [
    "imagetotext('images/fb.jpg', max_new_tokens=300)"
   ]
  },
  {
   "cell_type": "code",
   "execution_count": 102,
   "id": "da46e1c9",
   "metadata": {},
   "outputs": [
    {
     "data": {
      "text/plain": [
       "[{'generated_text': 'a variety of fruits and vegetables are displayed on a table '}]"
      ]
     },
     "execution_count": 102,
     "metadata": {},
     "output_type": "execute_result"
    }
   ],
   "source": [
    "imagetotext(image, max_new_tokens=30)"
   ]
  },
  {
   "cell_type": "markdown",
   "id": "fbaf986e",
   "metadata": {},
   "source": [
    "## 10. 이미지 분류"
   ]
  },
  {
   "cell_type": "code",
   "execution_count": 104,
   "id": "9ffb1c36",
   "metadata": {},
   "outputs": [
    {
     "data": {
      "image/jpeg": "[encoded data removed]",
      "image/png": "[encoded data removed]",
      "text/plain": [
       "<PIL.Image.Image image mode=RGB size=150x150>"
      ]
     },
     "execution_count": 104,
     "metadata": {},
     "output_type": "execute_result"
    }
   ],
   "source": [
    "image = Image.open('images/cat.jpg')\n",
    "image.resize((150,150))"
   ]
  },
  {
   "cell_type": "code",
   "execution_count": 108,
   "id": "47030edb",
   "metadata": {},
   "outputs": [
    {
     "name": "stderr",
     "output_type": "stream",
     "text": [
      "Fast image processor class <class 'transformers.models.vit.image_processing_vit_fast.ViTImageProcessorFast'> is available for this model. Using slow image processor class. To use the fast image processor class set `use_fast=True`.\n",
      "Device set to use cpu\n"
     ]
    }
   ],
   "source": [
    "imgclassifier = pipeline(task=\"image-classification\",\n",
    "                            model=\"google/vit-base-patch16-224\")\n",
    "# model명을 기입하지않으면 task에 따라 기본 모델 자동 셋팅"
   ]
  },
  {
   "cell_type": "code",
   "execution_count": 109,
   "id": "81fb52eb",
   "metadata": {},
   "outputs": [
    {
     "data": {
      "text/plain": [
       "[{'label': 'Egyptian cat', 'score': 0.853131890296936},\n",
       " {'label': 'tabby, tabby cat', 'score': 0.04750382527709007},\n",
       " {'label': 'tiger cat', 'score': 0.03486616536974907},\n",
       " {'label': 'Persian cat', 'score': 0.007555846590548754},\n",
       " {'label': 'Siamese cat, Siamese', 'score': 0.003788590431213379}]"
      ]
     },
     "execution_count": 109,
     "metadata": {},
     "output_type": "execute_result"
    }
   ],
   "source": [
    "imgclassifier(image)"
   ]
  },
  {
   "cell_type": "code",
   "execution_count": null,
   "id": "f7e1b5b1",
   "metadata": {},
   "outputs": [],
   "source": []
  },
  {
   "cell_type": "code",
   "execution_count": null,
   "id": "272d1912",
   "metadata": {},
   "outputs": [],
   "source": []
  },
  {
   "cell_type": "code",
   "execution_count": null,
   "id": "17f26e5d",
   "metadata": {},
   "outputs": [],
   "source": []
  },
  {
   "cell_type": "code",
   "execution_count": null,
   "id": "7a02d8ec",
   "metadata": {},
   "outputs": [],
   "source": []
  },
  {
   "cell_type": "code",
   "execution_count": null,
   "id": "4a7a9370",
   "metadata": {},
   "outputs": [],
   "source": []
  },
  {
   "cell_type": "code",
   "execution_count": null,
   "id": "a48a0fee",
   "metadata": {},
   "outputs": [],
   "source": []
  },
  {
   "cell_type": "code",
   "execution_count": null,
   "id": "b3bc5197",
   "metadata": {},
   "outputs": [],
   "source": []
  },
  {
   "cell_type": "code",
   "execution_count": null,
   "id": "bec581e2",
   "metadata": {},
   "outputs": [],
   "source": []
  }
 ],
 "metadata": {
  "kernelspec": {
   "display_name": "ml-dl-nlp",
   "language": "python",
   "name": "ml-dl-nlp"
  },
  "language_info": {
   "codemirror_mode": {
    "name": "ipython",
    "version": 3
   },
   "file_extension": ".py",
   "mimetype": "text/x-python",
   "name": "python",
   "nbconvert_exporter": "python",
   "pygments_lexer": "ipython3",
   "version": "3.10.18"
  },
  "toc": {
   "base_numbering": 1,
   "nav_menu": {},
   "number_sections": false,
   "sideBar": true,
   "skip_h1_title": false,
   "title_cell": "Table of Contents",
   "title_sidebar": "Contents",
   "toc_cell": false,
   "toc_position": {},
   "toc_section_display": true,
   "toc_window_display": false
  }
 },
 "nbformat": 4,
 "nbformat_minor": 5
}
