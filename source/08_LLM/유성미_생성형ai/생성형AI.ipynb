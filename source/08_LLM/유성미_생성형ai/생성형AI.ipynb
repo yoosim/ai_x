{
 "cells": [
  {
   "cell_type": "code",
   "execution_count": 1,
   "id": "e82ee9d7",
   "metadata": {},
   "outputs": [
    {
     "data": {
      "text/html": [
       "\n",
       "<style>\n",
       "div.container{width:100% !important;}\n",
       "div.cell.code_cell.rendered{width:85%;}\n",
       "div.input_prompt{padding:0px;}\n",
       "div.CodeMirror {font-family:Consolas; font-size:22pt;}\n",
       "div.text_cell_render.rendered_html{font-size:18pt;}\n",
       "div.text_cell_render.rendered_html{font-size:15pt;}\n",
       "div.output {font-size:18pt; font-weight:bold;}\n",
       "div.input {font-family:Consolas; font-size:18pt;}\n",
       "div.prompt {min-width:70px;}\n",
       "div#toc-wrapper{padding-top:120px;}\n",
       "div.text_cell_render ul li{font-size:18pt;padding:5px;}\n",
       "table.dataframe{font-size:18px;}\n",
       "</style>\n"
      ],
      "text/plain": [
       "<IPython.core.display.HTML object>"
      ]
     },
     "metadata": {},
     "output_type": "display_data"
    }
   ],
   "source": [
    "from IPython.display import display, HTML\n",
    "display(HTML(\"\"\"\n",
    "<style>\n",
    "div.container{width:100% !important;}\n",
    "div.cell.code_cell.rendered{width:85%;}\n",
    "div.input_prompt{padding:0px;}\n",
    "div.CodeMirror {font-family:Consolas; font-size:22pt;}\n",
    "div.text_cell_render.rendered_html{font-size:18pt;}\n",
    "div.text_cell_render.rendered_html{font-size:15pt;}\n",
    "div.output {font-size:18pt; font-weight:bold;}\n",
    "div.input {font-family:Consolas; font-size:18pt;}\n",
    "div.prompt {min-width:70px;}\n",
    "div#toc-wrapper{padding-top:120px;}\n",
    "div.text_cell_render ul li{font-size:18pt;padding:5px;}\n",
    "table.dataframe{font-size:18px;}\n",
    "</style>\n",
    "\"\"\"))"
   ]
  },
  {
   "cell_type": "code",
   "execution_count": 2,
   "id": "08ede9cf",
   "metadata": {},
   "outputs": [],
   "source": [
    "from langchain_ollama import ChatOllama\n",
    "from langchain_core.prompts import PromptTemplate\n",
    "from langchain_core.output_parsers import StrOutputParser\n",
    "from langchain_core.runnables import RunnablePassthrough"
   ]
  },
  {
   "cell_type": "code",
   "execution_count": 3,
   "id": "9c1eedd6",
   "metadata": {},
   "outputs": [
    {
     "data": {
      "text/plain": [
       "'China has a diverse and rich culinary culture, with many delicious dishes to explore. Some of the most famous foods in China include:\\n\\n1. Peking Duck (, Pèi Gōng Dòufàn): a classic dish from Beijing, made with roasted duck that\\'s crispy on the outside and juicy on the inside.\\n2. Xiaolongbao (, \"soup dumpling\"): a type of steamed bun filled with pork and broth, served with vinegar and chili oil.\\n3. Jiaozi (, \"dumplings\"): boiled or pan-fried dumplings filled with pork, chicken, or vegetables, typically served with dipping sauce.\\n4. Chow Mein (, \"stir-fry noodles\"): a stir-fried noodle dish made with wheat flour noodles, vegetables, and often meat or seafood.\\n5. Wontons (, \"dumpling wrapper\"): boiled or pan-fried dumplings filled with shrimp or pork, typically served in soup or as an appetizer.\\n\\nHowever, one of the most iconic and beloved Chinese dishes is:\\n\\n**Beef Noodle Soup (, Chī Jiǎo Mǐ Guǒ)**\\n\\nA simple yet comforting dish made with thin noodles, braised beef, and vegetables. It\\'s a staple in many parts of China and is often served as a main course or a light meal.\\n\\nOther popular Chinese dishes include:\\n\\n* Kung Pao Chicken (, Gōng Bǎo Jiāo)\\n* Lo Mein (, Lō Miàn)\\n* Egg Rolls (, Jiāo Zǐ)\\n* Rice Porridge (, Mì Niú Cài)\\n\\nThese are just a few examples of the many delicious foods you can find in China. Each region and province has its own unique culinary specialties, so there\\'s always something new to try!'"
      ]
     },
     "execution_count": 3,
     "metadata": {},
     "output_type": "execute_result"
    }
   ],
   "source": [
    "llm = ChatOllama(model=\"llama3.2:1b\")\n",
    "result = llm.invoke(\"what is the famous food in china??\")\n",
    "result.content"
   ]
  },
  {
   "cell_type": "code",
   "execution_count": 4,
   "id": "a7c81534",
   "metadata": {},
   "outputs": [
    {
     "name": "stdout",
     "output_type": "stream",
     "text": [
      "text='What is the most famous  food in china? just reply with the food name only.'\n"
     ]
    },
    {
     "data": {
      "text/plain": [
       "'Peking duck.'"
      ]
     },
     "execution_count": 4,
     "metadata": {},
     "output_type": "execute_result"
    }
   ],
   "source": [
    "food_prompt_template = PromptTemplate(\n",
    "    template=\"What is the most famous  food in {country}? just reply with the food name only.\",\n",
    "    input_variables=[\"country\"])\n",
    "food_prompt = food_prompt_template.invoke({\"country\":\"china\"})\n",
    "print(food_prompt)\n",
    "llm.invoke(food_prompt).content"
   ]
  },
  {
   "cell_type": "code",
   "execution_count": 5,
   "id": "45a160bc",
   "metadata": {},
   "outputs": [
    {
     "data": {
      "text/plain": [
       "'Peking roast duck'"
      ]
     },
     "execution_count": 5,
     "metadata": {},
     "output_type": "execute_result"
    }
   ],
   "source": [
    "output_parser = StrOutputParser()\n",
    "output_parser.invoke(llm.invoke(food_prompt))"
   ]
  },
  {
   "cell_type": "code",
   "execution_count": 6,
   "id": "f275efdd",
   "metadata": {},
   "outputs": [
    {
     "data": {
      "text/plain": [
       "'Peking Roast Duck'"
      ]
     },
     "execution_count": 6,
     "metadata": {},
     "output_type": "execute_result"
    }
   ],
   "source": [
    "output_parser.invoke(llm.invoke(food_prompt_template.invoke({\"country\":\"China\"})))"
   ]
  },
  {
   "cell_type": "code",
   "execution_count": 7,
   "id": "69e52e1d",
   "metadata": {},
   "outputs": [
    {
     "name": "stdout",
     "output_type": "stream",
     "text": [
      "text='Give me a very short and simple recipe for Peking duck. Just 3-5 steps and avoid too much detail.'\n"
     ]
    },
    {
     "data": {
      "text/plain": [
       "\"Here's a simplified recipe for Peking duck:\\n\\nIngredients:\\n\\n* 1 whole duck\\n* 2 tbsp soy sauce\\n* 2 tbsp sugar\\n* 2 tbsp oyster sauce (optional)\\n* Scallions, chopped\\n\\nSteps:\\n\\n1. Rinse and pat dry the duck.\\n2. Mix together soy sauce, sugar, and oyster sauce (if using) in a bowl.\\n3. Rub the mixture all over the duck, making sure to get some under the skin as well.\\n4. Roast the duck at 400°F (200°C) for about 30 minutes per pound until crispy skin and cooked through.\\n\\nNote: You can serve this with pancakes or scallions on top.\""
      ]
     },
     "execution_count": 7,
     "metadata": {},
     "output_type": "execute_result"
    }
   ],
   "source": [
    "recipe_prompt_template = PromptTemplate(\n",
    "    template=\"Give me a very short and simple recipe for {food}. Just 3-5 steps and avoid too much detail.\",\n",
    "    input_variables=['food'])\n",
    "recipe_prompt = recipe_prompt_template.invoke({\"food\":\"Peking duck\"})\n",
    "print(recipe_prompt)\n",
    "llm.invoke(recipe_prompt).content"
   ]
  },
  {
   "cell_type": "code",
   "execution_count": 8,
   "id": "d29ab380",
   "metadata": {},
   "outputs": [
    {
     "data": {
      "text/plain": [
       "\"Here's a simplified recipe for Peking duck:\\n\\nIngredients:\\n\\n* 1 whole duck\\n* 2 tbsp soy sauce\\n* 2 tbsp Shaoxing wine (or dry sherry)\\n* 2 tbsp cornstarch\\n* 2 tbsp vegetable oil\\n* Scallions, chopped (for garnish)\\n\\nSteps:\\n\\n1. Preheat oven to 400°F (200°C).\\n2. Marinate the duck in soy sauce, Shaoxing wine, and cornstarch mixture for at least 30 minutes.\\n3. Roast the duck in the preheated oven for about 20-25 minutes per pound until crispy skin and cooked meat are reached.\\n4. Garnish with chopped scallions.\\n\\nNote: Traditionally, Peking duck is roasted in a scorching hot wok over an open flame, but this simplified recipe will still give you a delicious result!\""
      ]
     },
     "execution_count": 8,
     "metadata": {},
     "output_type": "execute_result"
    }
   ],
   "source": [
    "output_parser = StrOutputParser()\n",
    "output_parser.invoke(llm.invoke(recipe_prompt))"
   ]
  },
  {
   "cell_type": "code",
   "execution_count": 9,
   "id": "24eccea2",
   "metadata": {},
   "outputs": [
    {
     "data": {
      "text/plain": [
       "'Pork'"
      ]
     },
     "execution_count": 9,
     "metadata": {},
     "output_type": "execute_result"
    }
   ],
   "source": [
    "food_chain = food_prompt_template | llm | output_parser\n",
    "food_chain.invoke({\"country\":\"china\"})"
   ]
  },
  {
   "cell_type": "code",
   "execution_count": 10,
   "id": "b93d6d98",
   "metadata": {},
   "outputs": [
    {
     "data": {
      "text/plain": [
       "\"Here's a simplified recipe for Bulgogi:\\n\\nIngredients:\\n\\n* 1 pound beef (thinly sliced)\\n* 2 tablespoons soy sauce\\n* 2 tablespoons sugar\\n* 2 tablespoons garlic, minced\\n* 1 tablespoon sesame oil\\n* Salt and black pepper to taste\\n* Optional: green onions and ginger for garnish\\n\\nSteps:\\n\\n1. Marinate the beef in a mixture of soy sauce, sugar, garlic, and sesame oil.\\n2. Grill or pan-fry the marinated beef until browned.\\n3. Serve with steamed vegetables and rice.\\n\\nEnjoy!\""
      ]
     },
     "execution_count": 10,
     "metadata": {},
     "output_type": "execute_result"
    }
   ],
   "source": [
    "recipe_chain = recipe_prompt_template | llm | output_parser\n",
    "recipe_chain.invoke({\"food\":\"Bulgogi\"})"
   ]
  },
  {
   "cell_type": "code",
   "execution_count": 15,
   "id": "84c8fd29",
   "metadata": {},
   "outputs": [
    {
     "data": {
      "text/plain": [
       "\"Here's a simplified recipe for Peking duck:\\n\\nIngredients:\\n\\n* 1 whole duck\\n* 2 tablespoons soy sauce\\n* 2 tablespoons Shaoxing wine\\n* 1 tablespoon cornstarch\\n* 2 scallions, chopped\\n* Hoisin sauce and plum sauce (for serving)\\n\\nSteps:\\n\\n1. Marinate the duck in a mixture of soy sauce, Shaoxing wine, and cornstarch for at least 30 minutes.\\n2. Grill or pan-fry the duck until crispy on the outside and cooked through.\\n3. Serve with chopped scallions, hoisin sauce, and plum sauce.\\n\\nNote: You can also use a pre-made Peking duck kit, which typically includes everything you need except for the grill or pan.\""
      ]
     },
     "execution_count": 15,
     "metadata": {},
     "output_type": "execute_result"
    }
   ],
   "source": [
    "final_chain = {\"country\":RunnablePassthrough()}|\\\n",
    "                {\"food\":food_chain} | recipe_chain\n",
    "final_chain.invoke(\"china\")"
   ]
  },
  {
   "cell_type": "code",
   "execution_count": 16,
   "id": "0393c907",
   "metadata": {},
   "outputs": [
    {
     "data": {
      "text/plain": [
       "(langchain_core.runnables.base.RunnableSequence,\n",
       " langchain_core.runnables.base.RunnableSequence)"
      ]
     },
     "execution_count": 16,
     "metadata": {},
     "output_type": "execute_result"
    }
   ],
   "source": [
    "type(food_chain), type(recipe_chain)"
   ]
  },
  {
   "cell_type": "code",
   "execution_count": null,
   "id": "f1bfcd53",
   "metadata": {},
   "outputs": [],
   "source": []
  },
  {
   "cell_type": "code",
   "execution_count": null,
   "id": "e4cf1296",
   "metadata": {},
   "outputs": [],
   "source": []
  },
  {
   "cell_type": "code",
   "execution_count": null,
   "id": "1adc2fc3",
   "metadata": {},
   "outputs": [],
   "source": []
  },
  {
   "cell_type": "code",
   "execution_count": null,
   "id": "111dfb0a",
   "metadata": {},
   "outputs": [],
   "source": []
  },
  {
   "cell_type": "code",
   "execution_count": null,
   "id": "b6130d9e",
   "metadata": {},
   "outputs": [],
   "source": []
  },
  {
   "cell_type": "code",
   "execution_count": null,
   "id": "f38e0100",
   "metadata": {},
   "outputs": [],
   "source": []
  },
  {
   "cell_type": "code",
   "execution_count": null,
   "id": "015806e4",
   "metadata": {},
   "outputs": [],
   "source": []
  },
  {
   "cell_type": "code",
   "execution_count": null,
   "id": "16199c34",
   "metadata": {},
   "outputs": [],
   "source": []
  },
  {
   "cell_type": "code",
   "execution_count": null,
   "id": "3d31874b",
   "metadata": {},
   "outputs": [],
   "source": []
  },
  {
   "cell_type": "code",
   "execution_count": null,
   "id": "7916fecf",
   "metadata": {},
   "outputs": [],
   "source": []
  },
  {
   "cell_type": "code",
   "execution_count": null,
   "id": "8109d692",
   "metadata": {},
   "outputs": [],
   "source": []
  }
 ],
 "metadata": {
  "kernelspec": {
   "display_name": "llm(ipykernel)",
   "language": "python",
   "name": "llm"
  },
  "language_info": {
   "codemirror_mode": {
    "name": "ipython",
    "version": 3
   },
   "file_extension": ".py",
   "mimetype": "text/x-python",
   "name": "python",
   "nbconvert_exporter": "python",
   "pygments_lexer": "ipython3",
   "version": "3.10.18"
  },
  "toc": {
   "base_numbering": 1,
   "nav_menu": {},
   "number_sections": false,
   "sideBar": true,
   "skip_h1_title": false,
   "title_cell": "Table of Contents",
   "title_sidebar": "Contents",
   "toc_cell": false,
   "toc_position": {
    "height": "calc(100% - 180px)",
    "left": "10px",
    "top": "150px",
    "width": "165px"
   },
   "toc_section_display": true,
   "toc_window_display": false
  }
 },
 "nbformat": 4,
 "nbformat_minor": 5
}
