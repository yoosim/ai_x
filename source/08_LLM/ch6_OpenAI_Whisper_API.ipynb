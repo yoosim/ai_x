{
 "cells": [
  {
   "cell_type": "code",
   "execution_count": 1,
   "id": "cfb8b291",
   "metadata": {},
   "outputs": [
    {
     "data": {
      "text/html": [
       "\n",
       "<style>\n",
       "div.container{width:100% !important;}\n",
       "div.cell.code_cell.rendered{width:100%;}\n",
       "div.input_prompt{padding:0px;}\n",
       "div.CodeMirror {font-family:Consolas; font-size:22pt;}\n",
       "div.text_cell_render.rendered_html{font-size:18pt;}\n",
       "div.text_cell_render.rendered_html{font-size:15pt;}\n",
       "div.output {font-size:18pt; font-weight:bold;}\n",
       "div.input {font-family:Consolas; font-size:18pt;}\n",
       "div.prompt {min-width:70px;}\n",
       "div#toc-wrapper{padding-top:120px;}\n",
       "div.text_cell_render ul li{font-size:18pt;padding:5px;}\n",
       "table.dataframe{font-size:18px;}\n",
       "</style>\n"
      ],
      "text/plain": [
       "<IPython.core.display.HTML object>"
      ]
     },
     "metadata": {},
     "output_type": "display_data"
    }
   ],
   "source": [
    "from IPython.display import display, HTML\n",
    "display(HTML(\"\"\"\n",
    "<style>\n",
    "div.container{width:100% !important;}\n",
    "div.cell.code_cell.rendered{width:100%;}\n",
    "div.input_prompt{padding:0px;}\n",
    "div.CodeMirror {font-family:Consolas; font-size:22pt;}\n",
    "div.text_cell_render.rendered_html{font-size:18pt;}\n",
    "div.text_cell_render.rendered_html{font-size:15pt;}\n",
    "div.output {font-size:18pt; font-weight:bold;}\n",
    "div.input {font-family:Consolas; font-size:18pt;}\n",
    "div.prompt {min-width:70px;}\n",
    "div#toc-wrapper{padding-top:120px;}\n",
    "div.text_cell_render ul li{font-size:18pt;padding:5px;}\n",
    "table.dataframe{font-size:18px;}\n",
    "</style>\n",
    "\"\"\"))"
   ]
  },
  {
   "cell_type": "markdown",
   "id": "bbb88b3c",
   "metadata": {},
   "source": [
    "# OpenAI Whisper API를 활용한 음성-텍스트 변환 튜토리얼 (2025년 3월 기준)\n",
    "\n",
    "\n",
    "OpenAI의 Whisper 모델은 사람의 음성을 높은 정확도로 텍스트로 변환하는 자동 음성 인식(ASR) 모델입니다.</br> 2025년 현재 Whisper는 OpenAI API를 통해 제공되며,</br> 음성 파일을 원어 그대로 <strong style=\"color:red\">텍스트로 필사(transcription)</strong>하거나 영어로 <strong style=\"color:red\">번역(translation)</strong>하는 기능을 제공합니다.</br> 이 튜토리얼에서는 Whisper API를 사용하여 음성-텍스트 변환을 구현하는 방법을 단계별로 살펴보겠습니다.</br> 환경 설정부터 기본 사용 방법, 그리고 언어 감지, 타임스탬프 포함 출력, 실시간 음성 처리와 같은 고급 기능까지 다룹니다.\n",
    "\n",
    "## 1. 환경 설정\n",
    "\n",
    "Python 코드에서 python-dotenv로 .env 파일을 불러온 뒤, openai.OpenAI() 클래스를 이용해 API 클라이언트 인스턴스를 생성합니다.</br> 이때 API 키는 명시적으로 전달하거나 환경 변수 OPENAI_API_KEY가 설정되어 있어야 합니다.</br> 환경 변수 또는 인자로 API 키를 지정하지 않으면 OpenAI 라이브러리는 다음과 같은 오류를 발생시킵니다.</br></br>\n",
    "\n",
    "> OpenAIError: The api_key client option must be set either by passing api_key to the client or by setting the OPENAI_API_KEY environment variable\n",
    "\n",
    "아래는 환경 로드 및 클라이언트 생성 예제입니다.\n"
   ]
  },
  {
   "cell_type": "code",
   "execution_count": 2,
   "id": "51c1b940",
   "metadata": {},
   "outputs": [],
   "source": [
    "from dotenv import load_dotenv\n",
    "from openai import OpenAI\n",
    "load_dotenv()\n",
    "client = OpenAI()"
   ]
  },
  {
   "cell_type": "markdown",
   "id": "20de9986",
   "metadata": {},
   "source": [
    "위 코드에서는 .env에서 불러온 API 키로 client 객체를 생성했습니다.</br> 이제 이 client를 통해 DALL-E를 비롯한 OpenAI API 요청을 보낼 수 있습니다.</br> (참고로, api_key를 생략하면 OPENAI_API_KEY 환경 변수를 자동으로 참조합니다.)\n",
    "\n",
    "## 2. Whisper API 소개 및 기본 음성 → 텍스트 변환\n",
    "\n",
    "OpenAI Whisper API는 두 가지 주요 <strong style=\"color:red;\">엔드포인트(endpoint)</strong>를 제공합니다.</br>\n",
    "- Transcriptions 엔드포인트: 제공한 음성 파일을 해당 음성의 원어로 필사(글로 변환) 합니다 </br>(예: 한국어 음성을 입력하면 한국어 텍스트로 출력).</br></br>\n",
    "- Translations 엔드포인트: 제공한 음성 파일을 영어로 번역하여 텍스트로 반환합니다.</br></br>\n",
    "\n",
    "Whisper API는 현재 Whisper v2 대형 모델(whisper-1로 식별)을 사용하며, MP3, MP4, WAV 등 다양한 음성 파일 형식을 지원합니다.</br>\n",
    "다만 한 번 요청할 수 있는 파일 크기는 최대 25MB로 제한되어 있으므로 긴 오디오의 경우 분할하여 처리해야 합니다.</br></br>\n",
    "\n",
    "우선 MP3 파일 등의 정적 파일을 Whisper로 <strong style=\"color:red;\">텍스트 변환(필사)</strong>하는 기본 방법을 살펴보겠습니다. 예제로 간단한 영어 음성 MP3 파일을 텍스트로 변환해보겠습니다.</br>\n",
    "\n",
    "### 기본 사용법: 음성 파일 필사 요청\n",
    "1. 오디오 파일 준비: 변환하고자 하는 음성 파일의 경로를 지정합니다.</br> Whisper API는 여러 형식의 오디오를 지원하는데, 일반적으로 wav나 mp3를 많이 사용합니다</br>. 여기서는 예시로 speech.mp3 파일을 사용하겠습니다.</br></br>\n",
    "2. API 요청 구성: OpenAI Python SDK의 client.audio.transcriptions.create 메서드를 사용하여 음성 필사 요청을 보냅니다.</br> 주요 파라미터:\n",
    "    <p>- file: 열어둔 오디오 파일 객체 (\"rb\" 모드로 연 파일),\n",
    "    - model: 사용할 모델 ID (\"whisper-1\"로 지정하여 Whisper 모델 사용).</br>\n",
    "    기본적으로 Whisper API는 응답으로 JSON 형식 데이터를 반환하며, 그 안에 \"text\" 필드로 변환된 텍스트를 제공합니다.</p></br> response_format 파라미터를 사용해 응답 형식을 변경할 수 있는데, 기본값 \"json\" 외에 \"text\", \"srt\" 등 다양한 옵션이 있습니다.</br> 우선 이해를 돕기 위해 응답을 순수 텍스트로 받도록 response_format=\"text\"를 지정해보겠습니다.</br></br>\n",
    "\n",
    "3. 응답 처리: Whisper API는 음성 내용을 텍스트로 변환하여 반환합니다.</br> response_format=\"text\"로 요청한 경우 변환된 텍스트 문자열을 직접 반환하므로, 이를 출력하거나 변수에 저장할 수 있습니다.</br></br>\n",
    "\n",
    "다음은 MP3 파일을 읽어서 Whisper로 전송하고, 결과 텍스트를 출력하는 기본 코드 예제입니다\n"
   ]
  },
  {
   "cell_type": "code",
   "execution_count": 4,
   "id": "690148e6",
   "metadata": {},
   "outputs": [
    {
     "name": "stdout",
     "output_type": "stream",
     "text": [
      "OpenAI Whisper is an advanced speech recognition model.\n",
      "\n"
     ]
    }
   ],
   "source": [
    "# 1. 음성 파일 열기\n",
    "audio_file = open('data/speech.mp3','rb')\n",
    "\n",
    "# 2. whisper API에 음성 필사 요청\n",
    "response = client.audio.transcriptions.create(\n",
    "    file=audio_file,\n",
    "    model=\"whisper-1\",\n",
    "    response_format=\"text\", # 텍스트만 반환\n",
    "    )\n",
    "audio_file.close()\n",
    "# 3. 변환된 텍스트 출력 \n",
    "print(response)\n"
   ]
  },
  {
   "cell_type": "code",
   "execution_count": 6,
   "id": "f41bbab7",
   "metadata": {},
   "outputs": [
    {
     "data": {
      "text/html": [
       "\n",
       "                <audio  controls=\"controls\" autoplay=\"autoplay\">\n",
       "                    <source src=\"data:audio/mpeg;base64,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\" type=\"audio/mpeg\" />\n",
       "                    Your browser does not support the audio element.\n",
       "                </audio>\n",
       "              "
      ],
      "text/plain": [
       "<IPython.lib.display.Audio object>"
      ]
     },
     "execution_count": 6,
     "metadata": {},
     "output_type": "execute_result"
    }
   ],
   "source": [
    "from IPython.display import Audio\n",
    "Audio(filename=\"data/speech.mp3\", autoplay=True)"
   ]
  },
  {
   "cell_type": "markdown",
   "id": "5b25a793",
   "metadata": {},
   "source": [
    "위 코드가 실행되면, speech.mp3 파일의 음성이 텍스트로 변환되어 response에 담기고, 그 내용을 출력합니다.</br> 예를 들어 입력 음성이 영어로 \"OpenAI Whisper is an advanced speech recognition model.\" 라는 문장을 담고 있었다면, </br>출력은 다음과 같은 텍스트가 될 것입니다.</br>\n",
    "```\n",
    "OpenAI Whisper is an advanced speech recognition model.\n",
    "```\n",
    "이제 Whisper API의 기본 동작을 확인했으므로, 추가적인 기능들과 상황별 활용법을 알아보겠습니다.</br>\n",
    "\n",
    "## 3. 다양한 언어의 음성 인식 및 언어감지\n",
    "\n",
    "Whisper 모델은 다국어 음성 인식을 지원합니다.</br> 90개가 넘는 언어로 훈련되어 다양한 언어의 음성을 텍스트로 변환할 수 있습니다.</br> 기본적으로 API에 언어를 명시하지 않으면 Whisper가 음성의 언어를 자동으로 감지하여 해당 언어로 텍스트를 필사합니다.</br> 예를 들어, 한국어 음성을 입력하면 자동으로 한국어로 텍스트를 출력합니다.</br></br> \n",
    "\n",
    "언어 감지 및 지정 (language 파라미터):</br>\n",
    "\n",
    "자동 감지가 대부분 잘 동작하지만, 경우에 따라 잘못된 언어로 인식될 가능성도 있습니다.</br> Whisper API는 이런 경우를 대비해 language 파라미터로 입력 음성의 언어를 직접 지정하는 기능을 제공합니다.</br> language 파라미터에 ISO 언어 코드를 설정하면 모델이 해당 언어로 인식하도록 강제할 수 있습니다.</br>\n",
    "- 예를 들어, 한국어 음성 파일을 확실히 한국어로 인식시키고 싶다면 language=\"ko\"로 지정할 수 있습니다.</br></br>\n",
    "- 영어라면 language=\"en\", 스페인어라면 language=\"es\" 등으로 언어 코드를 설정합니다.</br>\n",
    "\n",
    "다음은 스페인어 음성 파일을 Whisper로 변환하는 코드 예시입니다.</br> Whisper가 자동으로 언어를 감지하게 할 수도 있지만,</br> 예시에서는 language=\"es\"를 명시적으로 지정해보겠습니다."
   ]
  },
  {
   "cell_type": "code",
   "execution_count": 7,
   "id": "e167d369",
   "metadata": {},
   "outputs": [
    {
     "name": "stdout",
     "output_type": "stream",
     "text": [
      "¿Qué crees que es la inteligencia artificial?\n",
      "\n"
     ]
    }
   ],
   "source": [
    "# 스페인어 필사\n",
    "with open('data/spanish_audio.mp3','rb') as audio_file:\n",
    "    response_es = client.audio.transcriptions.create(\n",
    "        file=audio_file,\n",
    "        model='whisper-1',\n",
    "        response_format='text',\n",
    "        language='es', # 입력 음성 언어를 지정(스페인어)\n",
    "        )\n",
    "print(response_es)"
   ]
  },
  {
   "cell_type": "code",
   "execution_count": 8,
   "id": "16657f11",
   "metadata": {},
   "outputs": [
    {
     "name": "stdout",
     "output_type": "stream",
     "text": [
      "안녕하세요. 저는 OpenAPI로 생성된 한국어 음성입니다. 한국어로 자동인식되어 읽고 있습니다.\n",
      "\n"
     ]
    }
   ],
   "source": [
    "# 한국어 필사\n",
    "with open('data/output_ko_onyx.mp3','rb') as audio_file:\n",
    "    transcript_ko = client.audio.transcriptions.create(\n",
    "        file = audio_file,\n",
    "        model='whisper-1',\n",
    "        response_format='text',\n",
    "        language='ko')             # 입력 음성 언어  지정\n",
    "print(transcript_ko)"
   ]
  },
  {
   "cell_type": "markdown",
   "id": "d99e807f",
   "metadata": {},
   "source": [
    "만약 spanish_audio.mp3에 스페인어로 \"¿Qué crees que es la inteligencia artificial?\" 라는 문장이 담겨 있었다면, 위 코드의 출력은 다음과 같이 스페인어 텍스트가 될 것입니다.</br>\n",
    "```\n",
    "¿Qué crees que es la inteligencia artificial?\n",
    "```\n",
    "\n",
    "Whisper에 언어를 지정함으로써 모델이 해당 언어로 정확히 인식하도록 도울 수 있습니다.</br> 대부분의 경우 언어를 지정하지 않아도 잘 동작하지만, 언어 감지 결과를 신뢰하기 어렵거나 특정 언어로 출력되길 원한다면 language 파라미터를 활용하세요.</br></br>\n",
    "\n",
    "## 4. 고급 기능 1: 타임스탬프 포함 자막 및 세부 출력\n",
    "\n",
    "기본적인 Whisper API 응답은 전체 음성을 하나의 텍스트로 반환하지만,</br> 경우에 따라 문장별로 시간 구간을 표시하거나 단어별 타임스탬프가 필요한 경우도 있습니다 </br>(예: 동영상 자막 생성, 정교한 음성 분석 등).</br> Whisper API는 이러한 요구에 맞게 여러 가지 출력 형식을 제공합니다.\n",
    "\n",
    "### 다양한 출력 형식 (response_format 옵션)\n",
    "response_format 파라미터를 조정하여 Whisper의 출력 형식을 바꿀 수 있습니다:\n",
    "\n",
    "- \"json\" (기본값): { \"text\": \"...\" } 형태의 JSON 응답. 추가 메타정보 없이 최종 텍스트만 포함합니다.</br></br></br></br>\n",
    "- \"text\": 순수 텍스트로 변환 결과만 반환. (이미 앞서 사용)</br></br>\n",
    "- \"srt\": SubRip 자막 형식으로 반환. 자막처럼 각 문장에 시간 코드가 포함됩니다.</br></br>\n",
    "- \"vtt\": WebVTT 자막 형식으로 반환. (srt와 유사한 자막 표준 형식)</br></br>\n",
    "- \"verbose_json\": 인식 결과에 대한 상세 정보를 담은 JSON으로 반환. 인식된 문장별 세그먼트와 타임스탬프, 확률 등 메타데이터가 모두 포함됩니다.</br></br> 자막 형식 출력: 예를 들어 음성 파일을 response_format=\"srt\"으로 요청하면, Whisper는 출력 텍스트를 일정 길이로 나누어 각 부분에 시작-끝 시간이 포함된 자막 형식으로 돌려줍니다.</br></br> \n",
    "\n",
    "다음 코드를 통해 이전과 동일한 speech.mp3에 대해 SRT 형식 출력을 받아보겠습니다\n"
   ]
  },
  {
   "cell_type": "code",
   "execution_count": 9,
   "id": "a988973d",
   "metadata": {},
   "outputs": [
    {
     "name": "stdout",
     "output_type": "stream",
     "text": [
      "1\n",
      "00:00:00,000 --> 00:00:04,000\n",
      "OpenAI Whisper is an advanced speech recognition model.\n",
      "\n",
      "\n",
      "\n"
     ]
    }
   ],
   "source": [
    "# 1. 음성 파일 열기\n",
    "audio_file = open('data/speech.mp3','rb')\n",
    "\n",
    "# 2. whisper API에 음성 필사 요청\n",
    "response = client.audio.transcriptions.create(\n",
    "    file=audio_file,\n",
    "    model=\"whisper-1\",\n",
    "    response_format=\"srt\", # 텍스트만 반환\n",
    "    )\n",
    "audio_file.close()\n",
    "# 3. 변환된 텍스트 출력 \n",
    "print(response)"
   ]
  },
  {
   "cell_type": "markdown",
   "id": "7a65cdc0",
   "metadata": {},
   "source": [
    "응답은 문자열 형태로 SRT 콘텐츠가 반환됩니다.</br></br>\n",
    "\n",
    "위 예시처럼, SRT 포맷에서는 각 블록마다 순번, 시작/끝 시간, 그리고 해당 구간의 대사가 나타납니다.</br> Whisper API가 자동으로 음성을 몇 초 단위로 구분해 자막으로 만들어준 것을 확인할 수 있습니다.</br></br>\n",
    "\n",
    "세부 JSON 출력: 더 구조적인 정보가 필요하다면 response_format=\"verbose_json\"을 사용할 수 있습니다.</br> 이 모드에서는 음성 전체를 몇 개의 **세그먼트(segment)**로 나누고, 각 세그먼트에 대한 텍스트, 시작/종료 시간 정보(timestamp), 신뢰도 등의 정보를 JSON 형식으로 제공합니다.</br> 이를 활용하면 필요에 따라 세그먼트를 직접 처리하거나 자막을 커스터마이징할 수 있습니다.\n"
   ]
  },
  {
   "cell_type": "code",
   "execution_count": 10,
   "id": "4c680cfa",
   "metadata": {},
   "outputs": [
    {
     "data": {
      "text/plain": [
       "TranscriptionVerbose(duration=7.800000190734863, language='korean', text='안녕하세요. 저는 OpenAPI로 생성된 한국어 음성입니다. 한국어로 자동인식되어 읽고 있어요.', segments=[TranscriptionSegment(id=0, avg_logprob=-0.3058373034000397, compression_ratio=1.0521739721298218, end=5.099999904632568, no_speech_prob=0.009894744493067265, seek=0, start=0.0, temperature=0.0, text=' 안녕하세요. 저는 OpenAPI로 생성된 한국어 음성입니다.', tokens=[50364, 19289, 13, 10551, 7238, 4715, 40, 12888, 6439, 8631, 27930, 21045, 3103, 15179, 8631, 7416, 13, 50619]), TranscriptionSegment(id=1, avg_logprob=-0.3058373034000397, compression_ratio=1.0521739721298218, end=7.800000190734863, no_speech_prob=0.009894744493067265, seek=0, start=5.099999904632568, temperature=0.0, text=' 한국어로 자동인식되어 읽고 있어요.', tokens=[50619, 21045, 6540, 1955, 15905, 8309, 4215, 10436, 22826, 3103, 43302, 1313, 12654, 13, 50754])], usage=Usage(duration=None, type='duration', seconds=8), words=None, task='transcribe')"
      ]
     },
     "execution_count": 10,
     "metadata": {},
     "output_type": "execute_result"
    }
   ],
   "source": [
    "with open('data/ch5_shimmer(한국어).wav','rb') as audio_file:\n",
    "    transcript_json = client.audio.transcriptions.create(\n",
    "    file=audio_file,\n",
    "    model='whisper-1',\n",
    "    response_format=\"verbose_json\",\n",
    "    language='ko'\n",
    "    )\n",
    "transcript_json"
   ]
  },
  {
   "cell_type": "code",
   "execution_count": 18,
   "id": "04d40bbc",
   "metadata": {},
   "outputs": [
    {
     "name": "stdout",
     "output_type": "stream",
     "text": [
      "text구간 0.0=>5.099999904632568\n",
      " 안녕하세요. 저는 OpenAPI로 생성된 한국어 음성입니다.\n"
     ]
    }
   ],
   "source": [
    "segment = transcript_json.segments[0]\n",
    "# print('text 시작 시간:', segments.start)\n",
    "# print('text 끝나는 시간 :', segments.end)\n",
    "print(\"text구간 {}=>{}\".format(segment.start, segment.end))\n",
    "print(segment.text)"
   ]
  },
  {
   "cell_type": "markdown",
   "id": "98638c0b",
   "metadata": {},
   "source": [
    "위 코드에서 transcription_json은 segments에 여러 세그먼트가 리스트로 포함됩니다.</br> 각 세그먼트에는 \"start\", \"end\" (초 단위 시간), \"text\" 등이 담겨 있으며, 이 외에도 \"confidence\"(평균 예측 확률)나 \"language\"(감지된 언어) 등의 부가 정보가 있을 수 있습니다.</br>\n",
    "\n",
    "## 5. 고급 기능 2: 실시간 음성 변환 (마이크 입력 처리)\n",
    "\n",
    "지금까지는 파일에 저장된 음성을 변환하는 방법을 다루었습니다.</br> 이번에는 실시간 마이크 입력을 받아서 Whisper API로 전송하는 방법을 살펴보겠습니다.</br> 실시간 처리란 말 그대로 사용자가 말하는 동시에(text) 바로바로 텍스트로 변환하는 것을 의미합니다.</br> Whisper API는 스트리밍 엔드포인트를 제공하지는 않으나, 짧은 구간으로 녹음하여 연속으로 API에 보내는 방식으로 유사 실시간 처리가 가능합니다.</br>\n",
    ">주의: 네트워크 API를 이용하는 이상 완벽한 실시간(동시에 변환) 처리에는 한계가 있습니다.</br> 음성을 일정 간격으로 끊어서 전송하면 약간의 지연은 발생하지만, 빠른 응답 속도를 감안하면 거의 실시간에 가까운 자막을 구현할 수 있습니다.</br> 진정한 실시간 처리가 필요하다면 오픈소스 Whisper 모델을 로컬에서 사용하거나 스트리밍 기능을 지원하는 서비스를 검토해야 합니다.</br>\n",
    "\n",
    "### 마이크 입력 녹음하여 전송하기\n",
    "Python에서는 sounddevice나 pyaudio 등의 라이브러리를 사용하여 마이크로부터 오디오 데이터를 받을 수 있습니다.</br> 여기서는 sounddevice를 활용한 간단한 예제를 소개합니다.</br></br>\n",
    "\n",
    "1. 짧은 음성 녹음: </br>sounddevice.rec 함수를 사용하면 지정한 초 만큼 마이크로부터 오디오를 녹음할 수 있습니다. 아래 예시는 5초간 모노 음성을 16kHz로 녹음합니다.</br></br>\n",
    "2. 오디오 데이터를 파일로 저장:</br> Whisper API에 전송하려면 오디오 데이터를 파일 형태 (또는 파일 객체)로 제공해야 합니다.</br> scipy.io.wavfile.write 함수를 이용해 녹음한 데이터를 WAV 파일로 저장합니다.</br></br>\n",
    "3. 저장한 파일 전송:</br> 앞서와 동일하게 client.audio.transcriptions.create를 사용하여 Whisper API로 WAV 파일을 보내면 됩니다.</br></br>\n",
    "\n",
    "코드 예시는 다음과 같습니다 (5초간 녹음 후 즉시 전송).\n"
   ]
  },
  {
   "cell_type": "code",
   "execution_count": 22,
   "id": "451db6af",
   "metadata": {},
   "outputs": [
    {
     "name": "stdout",
     "output_type": "stream",
     "text": [
      "지금부터 5초간 녹음합니다.\n",
      "녹음된 음성이 저장되었습니다.(크기:80000byte)\n",
      "실시간 녹음 변환된 text : ... ... ...\n",
      "\n",
      "data/ch6_live_input.wav 파일이 삭제되었습니다.\n"
     ]
    }
   ],
   "source": [
    "import sounddevice as sd\n",
    "from scipy.io.wavfile import write  # mp3는 스트리밍이 안 되어, wav로 스트리밍\n",
    "\n",
    "fs = 16000 # 샘플레이트 16kHz\n",
    "seconds = 5 # 음성녹음 길이 5초\n",
    "print('지금부터 5초간 녹음합니다.')\n",
    "\n",
    "recording = sd.rec(int(seconds*fs), samplerate=fs, channels=1, dtype=\"int16\")\n",
    "sd.wait()\n",
    "file_name = 'data/ch6_live_input.wav'\n",
    "write(file_name, fs, recording)\n",
    "print('녹음된 음성이 저장되었습니다.(크기:{}byte)'.format(len(recording)))\n",
    "\n",
    "# from IPython.display import Audio\n",
    "# Audio(filename=file_name, autoplay=True)\n",
    "\n",
    "# 저장된 오디오(마이크에 입려된 데이터)를 whisper API로 전송하여 text로 받기\n",
    "with open(file_name, 'rb') as audio_file:\n",
    "    live_transcript = client.audio.transcriptions.create(\n",
    "        file = audio_file,\n",
    "        model= 'whisper-1',\n",
    "        response_format='text',\n",
    "        language='ko'\n",
    "    )\n",
    "print('실시간 녹음 변환된 text :', live_transcript)\n",
    "\n",
    "# 파일 삭제 \n",
    "import os\n",
    "try:\n",
    "    os.remove(file_name)\n",
    "    print(f\"{file_name} 파일이 삭제되었습니다.\")\n",
    "except Exception as e:\n",
    "          print(f'파일 삭제 중 오류 발생 : {e}')"
   ]
  },
  {
   "cell_type": "markdown",
   "id": "da02ce76",
   "metadata": {},
   "source": [
    "# <strong style=\"color:red;\">6. Quiz </strong>\n",
    "1. 과제 개요\n",
    "교육생들은 OpenAI의 최신 API를 활용하여 주어진 텍스트 파일을 읽고, 내용을 요약한 후, 이를 음성 파일(MP3)로 변환하는 파이썬 프로그램을 개발해야 합니다.\n",
    "본 과제를 통해 학생들은 다음과 같은 핵심 기술을 학습할 수 있습니다.\n",
    "\n",
    "- OpenAI API를 활용한 텍스트 요약\n",
    "- OpenAI의 텍스트 음성 변환(TTS) 기능 적용\n",
    "- Python 환경에서 파일 입출력 처리\n",
    "- python-dotenv를 활용한 API 키 관리\n",
    "\n",
    "2. 요구 사항\n",
    "```\n",
    "a. 텍스트 파일 읽기: 프로그램은 지정된 텍스트 파일(ch06_quiz.txt)을 읽어와야 합니다.\n",
    "b. 텍스트 요약: OpenAI API를 사용하여 긴 텍스트를 70자 이내로 요약해야 합니다.\n",
    "c. 음성 변환: 요약된 내용을 OpenAI의 TTS(Text-to-Speech) API를 활용하여 음성데이터로 변환합니다.\n",
    "d. MP3 파일 저장: 생성된 음성 데이터를 ch06_quiz.mp3 파일로 저장해야 합니다.\n",
    "e. 환경변수 사용: API 키는 코드에 직접 포함하지 않고, .env 파일을 이용해 관리해야 합니다.\n",
    "f. 지정된 보이스 사용: OpenAI TTS에서 제공하는 특정 보이스(\"nova\")를 사용해야 합니다.\n"
   ]
  },
  {
   "cell_type": "code",
   "execution_count": 45,
   "id": "1977808c",
   "metadata": {},
   "outputs": [],
   "source": [
    "from dotenv import load_dotenv\n",
    "import openai\n",
    "load_dotenv()\n",
    "client = openai.OpenAI()"
   ]
  },
  {
   "cell_type": "code",
   "execution_count": 24,
   "id": "0e39482a",
   "metadata": {},
   "outputs": [
    {
     "name": "stdout",
     "output_type": "stream",
     "text": [
      "인공지능(AI)은 인간이나 동물의 자연 지능과 달리 기계가 보여주는 지능을 의미합니다. 주요 AI 교재에서는 이를 \"지능형 에이전트\"의 연구로 정의하며, 이는 환경을 인식하고 목표를 달성하기 위해 행동하는 시스템을 의미합니다.\n"
     ]
    }
   ],
   "source": [
    "with open('data/ch06_quiz.txt', encoding='utf-8') as f:\n",
    "    quiz_text = f.readline()\n",
    "quiz_text = quiz_text.replace('\\n','').replace('\\t','').strip()\n",
    "print(quiz_text)"
   ]
  },
  {
   "cell_type": "code",
   "execution_count": 25,
   "id": "862abd3d",
   "metadata": {},
   "outputs": [],
   "source": [
    "response = client.chat.completions.create(\n",
    "    model='gpt-4.1-nano',\n",
    "    messages=[\n",
    "        {'role':'system','content':'글자를 70자 이내로 요약해줘'},\n",
    "        {'role':'user','content':quiz_text}\n",
    "        \n",
    "    ])"
   ]
  },
  {
   "cell_type": "code",
   "execution_count": 30,
   "id": "2aa3bc80",
   "metadata": {},
   "outputs": [
    {
     "data": {
      "text/plain": [
       "ChatCompletion(id='chatcmpl-BmyLVytseavCOe6azOBe2ZZzWYENz', choices=[Choice(finish_reason='stop', index=0, logprobs=None, message=ChatCompletionMessage(content='AI는 기계의 지능으로, 환경 인식 및 목표 달성 행동을 하는 시스템입니다.', refusal=None, role='assistant', annotations=[], audio=None, function_call=None, tool_calls=None))], created=1751011413, model='gpt-4.1-nano-2025-04-14', object='chat.completion', service_tier='default', system_fingerprint='fp_38343a2f8f', usage=CompletionUsage(completion_tokens=22, prompt_tokens=91, total_tokens=113, completion_tokens_details=CompletionTokensDetails(accepted_prediction_tokens=0, audio_tokens=0, reasoning_tokens=0, rejected_prediction_tokens=0), prompt_tokens_details=PromptTokensDetails(audio_tokens=0, cached_tokens=0)))"
      ]
     },
     "execution_count": 30,
     "metadata": {},
     "output_type": "execute_result"
    }
   ],
   "source": [
    "response"
   ]
  },
  {
   "cell_type": "code",
   "execution_count": 37,
   "id": "62bda1f7",
   "metadata": {},
   "outputs": [
    {
     "data": {
      "text/plain": [
       "'AI는 기계의 지능으로, 환경 인식 및 목표 달성 행동을 하는 시스템입니다.'"
      ]
     },
     "execution_count": 37,
     "metadata": {},
     "output_type": "execute_result"
    }
   ],
   "source": [
    "first_quiz_text = response.choices[0].message.content\n",
    "first_quiz_text"
   ]
  },
  {
   "cell_type": "code",
   "execution_count": 36,
   "id": "468e4d14",
   "metadata": {},
   "outputs": [
    {
     "data": {
      "text/plain": [
       "str"
      ]
     },
     "execution_count": 36,
     "metadata": {},
     "output_type": "execute_result"
    }
   ],
   "source": [
    "type(first_quiz_text)"
   ]
  },
  {
   "cell_type": "code",
   "execution_count": 42,
   "id": "6e20debc",
   "metadata": {},
   "outputs": [],
   "source": [
    "quiz_sound = client.audio.speech.create(\n",
    "    model='tts-1',\n",
    "    voice='nova',\n",
    "    input=first_quiz_text,\n",
    "    speed=0.9)\n",
    "audio_quiz_data = quiz_sound.content\n",
    "with open('data/ch6_quiz.mp3', 'wb') as audio_quiz:\n",
    "    audio_quiz.write(audio_quiz_data)"
   ]
  },
  {
   "cell_type": "code",
   "execution_count": null,
   "id": "b95c532d",
   "metadata": {},
   "outputs": [],
   "source": []
  },
  {
   "cell_type": "code",
   "execution_count": null,
   "id": "e08b12d5",
   "metadata": {},
   "outputs": [],
   "source": []
  },
  {
   "cell_type": "code",
   "execution_count": null,
   "id": "3d1e7034",
   "metadata": {},
   "outputs": [],
   "source": []
  },
  {
   "cell_type": "code",
   "execution_count": null,
   "id": "c41262a6",
   "metadata": {},
   "outputs": [],
   "source": []
  },
  {
   "cell_type": "code",
   "execution_count": null,
   "id": "b8b8bf11",
   "metadata": {},
   "outputs": [],
   "source": []
  },
  {
   "cell_type": "code",
   "execution_count": null,
   "id": "aaab2d8c",
   "metadata": {},
   "outputs": [],
   "source": []
  }
 ],
 "metadata": {
  "kernelspec": {
   "display_name": "llm(ipykernel)",
   "language": "python",
   "name": "llm"
  },
  "language_info": {
   "codemirror_mode": {
    "name": "ipython",
    "version": 3
   },
   "file_extension": ".py",
   "mimetype": "text/x-python",
   "name": "python",
   "nbconvert_exporter": "python",
   "pygments_lexer": "ipython3",
   "version": "3.10.18"
  },
  "toc": {
   "base_numbering": 1,
   "nav_menu": {},
   "number_sections": false,
   "sideBar": true,
   "skip_h1_title": false,
   "title_cell": "Table of Contents",
   "title_sidebar": "Contents",
   "toc_cell": false,
   "toc_position": {},
   "toc_section_display": true,
   "toc_window_display": false
  }
 },
 "nbformat": 4,
 "nbformat_minor": 5
}
