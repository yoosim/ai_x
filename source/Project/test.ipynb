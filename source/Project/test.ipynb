{
 "cells": [
  {
   "cell_type": "code",
   "execution_count": 1,
   "id": "a86c0936",
   "metadata": {},
   "outputs": [
    {
     "data": {
      "text/html": [
       "\n",
       "<style>\n",
       "div.container{width:100% !important;}\n",
       "div.cell.code_cell.rendered{width:100%;}\n",
       "div.input_prompt{padding:0px;}\n",
       "div.CodeMirror {font-family:Consolas; font-size:22pt;}\n",
       "div.text_cell_render.rendered_html{font-size:18pt;}\n",
       "div.text_cell_render.rendered_html{font-size:15pt;}\n",
       "div.output {font-size:18pt; font-weight:bold;}\n",
       "div.input {font-family:Consolas; font-size:18pt;}\n",
       "div.prompt {min-width:70px;}\n",
       "div#toc-wrapper{padding-top:120px;}\n",
       "div.text_cell_render ul li{font-size:18pt;padding:5px;}\n",
       "table.dataframe{font-size:18px;}\n",
       "</style>\n"
      ],
      "text/plain": [
       "<IPython.core.display.HTML object>"
      ]
     },
     "metadata": {},
     "output_type": "display_data"
    }
   ],
   "source": [
    "from IPython.display import display, HTML\n",
    "display(HTML(\"\"\"\n",
    "<style>\n",
    "div.container{width:100% !important;}\n",
    "div.cell.code_cell.rendered{width:100%;}\n",
    "div.input_prompt{padding:0px;}\n",
    "div.CodeMirror {font-family:Consolas; font-size:22pt;}\n",
    "div.text_cell_render.rendered_html{font-size:18pt;}\n",
    "div.text_cell_render.rendered_html{font-size:15pt;}\n",
    "div.output {font-size:18pt; font-weight:bold;}\n",
    "div.input {font-family:Consolas; font-size:18pt;}\n",
    "div.prompt {min-width:70px;}\n",
    "div#toc-wrapper{padding-top:120px;}\n",
    "div.text_cell_render ul li{font-size:18pt;padding:5px;}\n",
    "table.dataframe{font-size:18px;}\n",
    "</style>\n",
    "\"\"\"))"
   ]
  },
  {
   "cell_type": "code",
   "execution_count": null,
   "id": "b7ad41d0",
   "metadata": {},
   "outputs": [],
   "source": [
    "#  요기요 웹크롤링"
   ]
  },
  {
   "cell_type": "code",
   "execution_count": null,
   "id": "64771fd5",
   "metadata": {},
   "outputs": [],
   "source": []
  },
  {
   "cell_type": "code",
   "execution_count": null,
   "id": "1997ff70",
   "metadata": {},
   "outputs": [],
   "source": [
    "# 네이버/구글 이미지 검색 수집 (이미지, 날짜, 장소 등 가능한지)"
   ]
  },
  {
   "cell_type": "code",
   "execution_count": 11,
   "id": "089a16a8",
   "metadata": {},
   "outputs": [
    {
     "data": {
      "text/plain": [
       "True"
      ]
     },
     "execution_count": 11,
     "metadata": {},
     "output_type": "execute_result"
    }
   ],
   "source": [
    "from dotenv import load_dotenv\n",
    "import os\n",
    "import sys\n",
    "import urllib.request\n",
    "import urllib.parse\n",
    "import pandas as pd\n",
    "import json\n",
    "load_dotenv()"
   ]
  },
  {
   "cell_type": "markdown",
   "id": "b010e4ef",
   "metadata": {},
   "source": [
    "` 방법 \n",
    "1.네이버 이미지 관련 크롤링 \n",
    "2.이미지 url, 게시일자 추출\n",
    "3.제목,본문에서 <가게명,위치,가격 등 패턴 정규식 추출>\n",
    "4.이미지다운로드\n",
    "5.구조화된 데이터로 정리 (csv)\n",
    "`"
   ]
  },
  {
   "cell_type": "code",
   "execution_count": 28,
   "id": "c95d722b",
   "metadata": {},
   "outputs": [],
   "source": [
    "# 이미지 검색 \n",
    "# 환경변수 키 불러오기\n",
    "client_id = os.getenv('Client_ID')\n",
    "client_secret = os.getenv('Client_Secret')\n",
    "\n",
    "# 검색어 인코딩\n",
    "encText = urllib.parse.quote('서울 짜장면')\n",
    "url = f\"https://openapi.naver.com/v1/search/blog?query={encText}&display=100\" # JSON 결과 \n",
    "\n",
    "# Request 객체 생성 + 헤더 추가 \n",
    "request = urllib.request.Request(url)\n",
    "request.add_header(\"X-Naver-Client-Id\", client_id)\n",
    "request.add_header(\"X-Naver-Client-Secret\", client_secret)\n",
    "\n",
    "# 응답 받기\n",
    "with urllib.request.urlopen(request) as response:\n",
    "    result = response.read().decode('utf-8')\n",
    "\n",
    "# JSON 파싱\n",
    "data = json.loads(result)\n",
    "items = data['items']\n",
    "\n",
    "# 리스트로 정리 \n",
    "items_list = []\n",
    "for item in items:\n",
    "    items_list.append([\n",
    "        item.get('title').replace('<b>','').replace('</b>',''),\n",
    "        item.get('link'),\n",
    "        item.get('description').replace('<b>','').replace('</b>',''),\n",
    "        item.get('postdate')\n",
    "    ])\n",
    "    \n",
    "# DataFrame 생성\n",
    "seoul_black_noodle_100 = pd.DataFrame(items_list,columns=['title','link','postdate','description'])\n",
    "soeul_black_noodle_100\n",
    "\n",
    "# 데이터 프레임 저장\n",
    "df.to_csv('data/test1_seoul_black_noodle_100.csv',encoding='utf-8-sig' ,index=False)\n",
    "\n",
    "# 데이터 추출\n",
    "# import json\n",
    "# items = response.json()['items']"
   ]
  },
  {
   "cell_type": "code",
   "execution_count": 23,
   "id": "267a5d99",
   "metadata": {},
   "outputs": [
    {
     "data": {
      "text/html": [
       "<div>\n",
       "<style scoped>\n",
       "    .dataframe tbody tr th:only-of-type {\n",
       "        vertical-align: middle;\n",
       "    }\n",
       "\n",
       "    .dataframe tbody tr th {\n",
       "        vertical-align: top;\n",
       "    }\n",
       "\n",
       "    .dataframe thead th {\n",
       "        text-align: right;\n",
       "    }\n",
       "</style>\n",
       "<table border=\"1\" class=\"dataframe\">\n",
       "  <thead>\n",
       "    <tr style=\"text-align: right;\">\n",
       "      <th></th>\n",
       "      <th>postdate</th>\n",
       "    </tr>\n",
       "  </thead>\n",
       "  <tbody>\n",
       "    <tr>\n",
       "      <th>0</th>\n",
       "      <td>업체에 서비스를 제공받아 직접 방문하여 작성한 리뷰입니다 맛돌이들이라면 모두 아는 ...</td>\n",
       "    </tr>\n",
       "    <tr>\n",
       "      <th>1</th>\n",
       "      <td>잘 먹었습니다. 또 오겠습니다. 주관적 평점 5 #팔공 #중화요리팔공 #관악구맛집 ...</td>\n",
       "    </tr>\n",
       "    <tr>\n",
       "      <th>2</th>\n",
       "      <td>#광화문맛집 #서울광화문맛집 #광화문역맛집 #광화문주변맛집 #광화문역점심맛집 #경복...</td>\n",
       "    </tr>\n",
       "    <tr>\n",
       "      <th>3</th>\n",
       "      <td>서촌 맛집 추천, 서울 경복궁 서촌마을 짜장면 중식 혼밥 맛있는 식당 서울 서촌 마...</td>\n",
       "    </tr>\n",
       "    <tr>\n",
       "      <th>4</th>\n",
       "      <td>서울 짜장면 맛집! 서울 동대문 창신동 맛집! 전통 수타면 방식의 동대문 일품손짜장...</td>\n",
       "    </tr>\n",
       "    <tr>\n",
       "      <th>...</th>\n",
       "      <td>...</td>\n",
       "    </tr>\n",
       "    <tr>\n",
       "      <th>95</th>\n",
       "      <td>#짜장면 #간짜장 #짜장면맛집 #서울짜장면맛집 #중식당 #블랙데이 #짜장면데이 #홍...</td>\n",
       "    </tr>\n",
       "    <tr>\n",
       "      <th>96</th>\n",
       "      <td>중화요리 생각날 때 맛있게 먹고 싶을 때 최근에 먹어본 짜장면, 짬뽕, 탕수육 서울...</td>\n",
       "    </tr>\n",
       "    <tr>\n",
       "      <th>97</th>\n",
       "      <td>채끝살 김치짜장면 서울시스터즈 김치짜장면, 채끝살, 트러플오일,양파 채끝살 김치짜장...</td>\n",
       "    </tr>\n",
       "    <tr>\n",
       "      <th>98</th>\n",
       "      <td>구매는 여기서 https://www.rodemfoodshop.com/goods/go...</td>\n",
       "    </tr>\n",
       "    <tr>\n",
       "      <th>99</th>\n",
       "      <td>서울의 짜장면 가운데 맛있는 집 중의 하나라고 표현하는 집이 있습니다. 그 말 한 ...</td>\n",
       "    </tr>\n",
       "  </tbody>\n",
       "</table>\n",
       "<p>100 rows × 1 columns</p>\n",
       "</div>"
      ],
      "text/plain": [
       "                                             postdate\n",
       "0   업체에 서비스를 제공받아 직접 방문하여 작성한 리뷰입니다 맛돌이들이라면 모두 아는 ...\n",
       "1   잘 먹었습니다. 또 오겠습니다. 주관적 평점 5 #팔공 #중화요리팔공 #관악구맛집 ...\n",
       "2   #광화문맛집 #서울광화문맛집 #광화문역맛집 #광화문주변맛집 #광화문역점심맛집 #경복...\n",
       "3   서촌 맛집 추천, 서울 경복궁 서촌마을 짜장면 중식 혼밥 맛있는 식당 서울 서촌 마...\n",
       "4   서울 짜장면 맛집! 서울 동대문 창신동 맛집! 전통 수타면 방식의 동대문 일품손짜장...\n",
       "..                                                ...\n",
       "95  #짜장면 #간짜장 #짜장면맛집 #서울짜장면맛집 #중식당 #블랙데이 #짜장면데이 #홍...\n",
       "96  중화요리 생각날 때 맛있게 먹고 싶을 때 최근에 먹어본 짜장면, 짬뽕, 탕수육 서울...\n",
       "97  채끝살 김치짜장면 서울시스터즈 김치짜장면, 채끝살, 트러플오일,양파 채끝살 김치짜장...\n",
       "98  구매는 여기서 https://www.rodemfoodshop.com/goods/go...\n",
       "99  서울의 짜장면 가운데 맛있는 집 중의 하나라고 표현하는 집이 있습니다. 그 말 한 ...\n",
       "\n",
       "[100 rows x 1 columns]"
      ]
     },
     "execution_count": 23,
     "metadata": {},
     "output_type": "execute_result"
    }
   ],
   "source": [
    "seoul_black_noodle_100.iloc[:,2:3]"
   ]
  },
  {
   "cell_type": "code",
   "execution_count": null,
   "id": "ae8129ee",
   "metadata": {},
   "outputs": [],
   "source": []
  },
  {
   "cell_type": "code",
   "execution_count": null,
   "id": "6b4444f1",
   "metadata": {},
   "outputs": [],
   "source": []
  },
  {
   "cell_type": "code",
   "execution_count": null,
   "id": "a3b481c1",
   "metadata": {},
   "outputs": [],
   "source": []
  },
  {
   "cell_type": "code",
   "execution_count": null,
   "id": "ff821cab",
   "metadata": {},
   "outputs": [],
   "source": []
  },
  {
   "cell_type": "code",
   "execution_count": null,
   "id": "779427dd",
   "metadata": {},
   "outputs": [],
   "source": []
  },
  {
   "cell_type": "code",
   "execution_count": null,
   "id": "ee7eb80c",
   "metadata": {},
   "outputs": [],
   "source": []
  },
  {
   "cell_type": "code",
   "execution_count": null,
   "id": "787f935c",
   "metadata": {},
   "outputs": [],
   "source": []
  }
 ],
 "metadata": {
  "kernelspec": {
   "display_name": "Python 3 (ipykernel)",
   "language": "python",
   "name": "python3"
  },
  "language_info": {
   "codemirror_mode": {
    "name": "ipython",
    "version": 3
   },
   "file_extension": ".py",
   "mimetype": "text/x-python",
   "name": "python",
   "nbconvert_exporter": "python",
   "pygments_lexer": "ipython3",
   "version": "3.10.9"
  },
  "toc": {
   "base_numbering": 1,
   "nav_menu": {},
   "number_sections": false,
   "sideBar": true,
   "skip_h1_title": false,
   "title_cell": "Table of Contents",
   "title_sidebar": "Contents",
   "toc_cell": false,
   "toc_position": {},
   "toc_section_display": true,
   "toc_window_display": false
  }
 },
 "nbformat": 4,
 "nbformat_minor": 5
}
