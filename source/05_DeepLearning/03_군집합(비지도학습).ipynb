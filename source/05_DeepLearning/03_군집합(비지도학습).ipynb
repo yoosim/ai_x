{
 "cells": [
  {
   "cell_type": "code",
   "execution_count": 141,
   "id": "5e47956a",
   "metadata": {},
   "outputs": [
    {
     "data": {
      "text/html": [
       "\n",
       "<style>\n",
       "div.container{width:86% !important;}\n",
       "div.cell.code_cell.rendered{width:100%;}\n",
       "div.CodeMirror {font-family:Consolas; font-size:15pt;}\n",
       "div.output {font-size:15pt; font-weight:bold;}\n",
       "div.input {font-family:Consolas; font-size:15pt;}\n",
       "div.prompt {min-width:70px;}\n",
       "div#toc-wrapper{padding-top:120px;}\n",
       "div.text_cell_render ul li{font-size:12pt;padding:5px;}\n",
       "table.dataframe{font-size:15px;}\n",
       "</style>\n",
       " "
      ],
      "text/plain": [
       "<IPython.core.display.HTML object>"
      ]
     },
     "metadata": {},
     "output_type": "display_data"
    }
   ],
   "source": [
    "from IPython.display import display, HTML \n",
    "display(HTML(\"\"\"\n",
    "<style>\n",
    "div.container{width:86% !important;}\n",
    "div.cell.code_cell.rendered{width:100%;}\n",
    "div.CodeMirror {font-family:Consolas; font-size:15pt;}\n",
    "div.output {font-size:15pt; font-weight:bold;}\n",
    "div.input {font-family:Consolas; font-size:15pt;}\n",
    "div.prompt {min-width:70px;}\n",
    "div#toc-wrapper{padding-top:120px;}\n",
    "div.text_cell_render ul li{font-size:12pt;padding:5px;}\n",
    "table.dataframe{font-size:15px;}\n",
    "</style>\n",
    " \"\"\"))"
   ]
  },
  {
   "cell_type": "markdown",
   "id": "6282e82f",
   "metadata": {},
   "source": [
    "# 1. 데이터 생성\n",
    "- 남자, 여자의 키와 몸무게 데이터를 군집화\n"
   ]
  },
  {
   "cell_type": "markdown",
   "id": "ec0d7125",
   "metadata": {},
   "source": [
    "<span style=\"color:red; font-size: 18px; font-weight: bold;\"> </span>"
   ]
  },
  {
   "cell_type": "code",
   "execution_count": 4,
   "id": "ae900481",
   "metadata": {},
   "outputs": [],
   "source": [
    "import random\n",
    "import numpy as np\n",
    "import matplotlib.pyplot as plt"
   ]
  },
  {
   "cell_type": "code",
   "execution_count": 5,
   "id": "d90d9ff9",
   "metadata": {},
   "outputs": [
    {
     "data": {
      "text/plain": [
       "94"
      ]
     },
     "execution_count": 5,
     "metadata": {},
     "output_type": "execute_result"
    }
   ],
   "source": [
    "random.randint(40,95) #40부터 95까지의 정수 중 하나를 무작위 선택 반환"
   ]
  },
  {
   "cell_type": "code",
   "execution_count": 8,
   "id": "fc953b28",
   "metadata": {
    "collapsed": true
   },
   "outputs": [
    {
     "data": {
      "text/plain": [
       "[[50, 162],\n",
       " [76, 188],\n",
       " [58, 170],\n",
       " [74, 163],\n",
       " [58, 149],\n",
       " [90, 170],\n",
       " [46, 145],\n",
       " [61, 186],\n",
       " [68, 166],\n",
       " [86, 170],\n",
       " [70, 149],\n",
       " [61, 188],\n",
       " [49, 141],\n",
       " [78, 165],\n",
       " [59, 167],\n",
       " [74, 189],\n",
       " [51, 165],\n",
       " [75, 168],\n",
       " [58, 149],\n",
       " [65, 177],\n",
       " [50, 152],\n",
       " [82, 184],\n",
       " [70, 166],\n",
       " [78, 178],\n",
       " [56, 166],\n",
       " [73, 191],\n",
       " [68, 166],\n",
       " [86, 181],\n",
       " [47, 156],\n",
       " [90, 171],\n",
       " [58, 164],\n",
       " [67, 180],\n",
       " [52, 144],\n",
       " [86, 175],\n",
       " [59, 166],\n",
       " [65, 195],\n",
       " [67, 151],\n",
       " [76, 160],\n",
       " [50, 149],\n",
       " [86, 170],\n",
       " [51, 167],\n",
       " [72, 186],\n",
       " [42, 140],\n",
       " [60, 161],\n",
       " [61, 166],\n",
       " [62, 162],\n",
       " [58, 143],\n",
       " [62, 189],\n",
       " [50, 162],\n",
       " [60, 169],\n",
       " [57, 150],\n",
       " [95, 169],\n",
       " [68, 163],\n",
       " [65, 181],\n",
       " [55, 164],\n",
       " [74, 174],\n",
       " [46, 170],\n",
       " [78, 186],\n",
       " [40, 148],\n",
       " [86, 174],\n",
       " [43, 146],\n",
       " [89, 172],\n",
       " [56, 157],\n",
       " [90, 170],\n",
       " [51, 167],\n",
       " [64, 172],\n",
       " [45, 167],\n",
       " [91, 174],\n",
       " [42, 156],\n",
       " [77, 186],\n",
       " [51, 163],\n",
       " [74, 174],\n",
       " [50, 142],\n",
       " [71, 166],\n",
       " [51, 157],\n",
       " [74, 193],\n",
       " [41, 166],\n",
       " [63, 194],\n",
       " [70, 161],\n",
       " [65, 184],\n",
       " [52, 145],\n",
       " [83, 175],\n",
       " [59, 156],\n",
       " [63, 175],\n",
       " [42, 152],\n",
       " [81, 162],\n",
       " [47, 142],\n",
       " [62, 161],\n",
       " [64, 154],\n",
       " [84, 163],\n",
       " [58, 152],\n",
       " [65, 167],\n",
       " [57, 148],\n",
       " [70, 169],\n",
       " [55, 148],\n",
       " [75, 165],\n",
       " [51, 164],\n",
       " [92, 160],\n",
       " [67, 150],\n",
       " [94, 176]]"
      ]
     },
     "execution_count": 8,
     "metadata": {},
     "output_type": "execute_result"
    }
   ],
   "source": [
    "data = [] \n",
    "for i in range(50):\n",
    "    # 남자 데이터1, 여자 데이터1\n",
    "    # 여자 데이터 넣기 \n",
    "    data.append([random.randint(40,70), random.randint(140,170)]) #50개 \n",
    "    # 남자 데이터 넣기 \n",
    "    data.append([random.randint(60,95), random.randint(160,195)]) #50개 \n",
    "data"
   ]
  },
  {
   "cell_type": "code",
   "execution_count": 13,
   "id": "5b9d61db",
   "metadata": {},
   "outputs": [
    {
     "name": "stdout",
     "output_type": "stream",
     "text": [
      "[50, 162]  [58, 170]  [58, 149]  [46, 145]  [68, 166]  [70, 149]  [49, 141]  [59, 167]  [51, 165]  [58, 149]  [50, 152]  [70, 166]  [56, 166]  [68, 166]  [47, 156]  [58, 164]  [52, 144]  [59, 166]  [67, 151]  [50, 149]  [51, 167]  [42, 140]  [61, 166]  [58, 143]  [50, 162]  [57, 150]  [68, 163]  [55, 164]  [46, 170]  [40, 148]  [43, 146]  [56, 157]  [51, 167]  [45, 167]  [42, 156]  [51, 163]  [50, 142]  [51, 157]  [41, 166]  [70, 161]  [52, 145]  [59, 156]  [42, 152]  [47, 142]  [64, 154]  [58, 152]  [57, 148]  [55, 148]  [51, 164]  [67, 150]  \n",
      " ---------------------------------------------------------------------\n",
      "[76, 188]  [74, 163]  [90, 170]  [61, 186]  [86, 170]  [61, 188]  [78, 165]  [74, 189]  [75, 168]  [65, 177]  [82, 184]  [78, 178]  [73, 191]  [86, 181]  [90, 171]  [67, 180]  [86, 175]  [65, 195]  [76, 160]  [86, 170]  [72, 186]  [60, 161]  [62, 162]  [62, 189]  [60, 169]  [95, 169]  [65, 181]  [74, 174]  [78, 186]  [86, 174]  [89, 172]  [90, 170]  [64, 172]  [91, 174]  [77, 186]  [74, 174]  [71, 166]  [74, 193]  [63, 194]  [65, 184]  [83, 175]  [63, 175]  [81, 162]  [62, 161]  [84, 163]  [65, 167]  [70, 169]  [75, 165]  [92, 160]  [94, 176]  "
     ]
    }
   ],
   "source": [
    "# 여자 데이터 \n",
    "for female in data[:100:2]:\n",
    "    print(female, end='  ')\n",
    "# 남자 데이터 \n",
    "print('\\n ---------------------------------------------------------------------')\n",
    "for male in data[1:100:2]:\n",
    "    print(male, end='  ')"
   ]
  },
  {
   "cell_type": "code",
   "execution_count": 25,
   "id": "265c2b24",
   "metadata": {},
   "outputs": [
    {
     "data": {
      "image/png": "[encoded data removed]",
      "text/plain": [
       "<Figure size 640x480 with 1 Axes>"
      ]
     },
     "metadata": {},
     "output_type": "display_data"
    }
   ],
   "source": [
    "# print ('여자 몸무게 : ',[d[0] for d in data[::2]])\n",
    "# print('\\n---------------------------------------------')\n",
    "# print ('여자 키 : ',[d[1] for d in data[::2]])\n",
    "# print('\\n---------------------------------------------')\n",
    "# print('남자 몸무게 : ', [d[0] for d in data[1::2]])\n",
    "# print('\\n---------------------------------------------')\n",
    "# print('남자 몸무게 : ', [d[1] for d in data[1::2]])\n",
    "# for d in data [::2]:\n",
    "#     plt.plot(d[0],d[1], 'o', color='r')\n",
    "plt.plot([d[0] for d in data[::2]],\n",
    "         [d[1] for d in data[::2]], 'o', color='r')\n",
    "\n",
    "plt.plot([d[0] for d in data[1::2]],\n",
    "         [d[1] for d in data[1::2]], 'o', color='b')\n",
    "plt.show()"
   ]
  },
  {
   "cell_type": "markdown",
   "id": "8b3ca38a",
   "metadata": {},
   "source": [
    "# 2. 군집합 로직"
   ]
  },
  {
   "cell_type": "code",
   "execution_count": 58,
   "id": "6bf4b376",
   "metadata": {},
   "outputs": [
    {
     "data": {
      "text/plain": [
       "[[78, 193], [75, 169]]"
      ]
     },
     "execution_count": 58,
     "metadata": {},
     "output_type": "execute_result"
    }
   ],
   "source": [
    "# 초기 랜덤지점 2개 : 여기에서 시작 \n",
    "random_pionts = [[random.randint(40,95), random.randint(140,195)],\n",
    "                 [random.randint(40,95), random.randint(140,195)]]\n",
    "random_pionts"
   ]
  },
  {
   "cell_type": "code",
   "execution_count": 59,
   "id": "4b8c2f1b",
   "metadata": {},
   "outputs": [
    {
     "data": {
      "text/plain": [
       "[<matplotlib.lines.Line2D at 0x218e21d4490>]"
      ]
     },
     "execution_count": 59,
     "metadata": {},
     "output_type": "execute_result"
    },
    {
     "data": {
      "image/png": "[encoded data removed]",
      "text/plain": [
       "<Figure size 640x480 with 1 Axes>"
      ]
     },
     "metadata": {},
     "output_type": "display_data"
    }
   ],
   "source": [
    "plt.plot([d[0] for d in data],\n",
    "         [d[1] for d in data], 'o', color='k')\n",
    "plt.plot(random_pionts[0][0], \n",
    "         random_pionts[0][1], 'x', color='r', markersize=20) # 기준점1\n",
    "plt.plot(random_pionts[1][0], \n",
    "         random_pionts[1][1], 'x', color='b', markersize=20) # 기준점2"
   ]
  },
  {
   "cell_type": "code",
   "execution_count": 43,
   "id": "4691316b",
   "metadata": {},
   "outputs": [],
   "source": [
    "# 두 점의 거리를 return하는 함수 만들기  (0,0) ~ (4,3)\n",
    "def dist(a,b):\n",
    "    return np.sqrt((a[0]-b[0])**2 + (a[1]-b[1])**2)  #np.sqrt() 루트"
   ]
  },
  {
   "cell_type": "code",
   "execution_count": 48,
   "id": "e85f4a92",
   "metadata": {},
   "outputs": [
    {
     "data": {
      "text/plain": [
       "4.47213595499958"
      ]
     },
     "execution_count": 48,
     "metadata": {},
     "output_type": "execute_result"
    }
   ],
   "source": [
    "a = [0,0]; b= [4,2]  #한줄에 명령어 여러개 쓰려면 세미콜론; 사용\n",
    "dist(a,b)"
   ]
  },
  {
   "cell_type": "code",
   "execution_count": 61,
   "id": "590c48a8",
   "metadata": {},
   "outputs": [
    {
     "data": {
      "text/plain": [
       "(15, 85)"
      ]
     },
     "execution_count": 61,
     "metadata": {},
     "output_type": "execute_result"
    }
   ],
   "source": [
    "# random_points[0]과 random_point[1]을 기준으로 나눈 두 영역\n",
    "group1 = [] # random_points[0]이 가까운 그룹\n",
    "group2 = [] # random_points[1]이 가까운 그룹\n",
    "\n",
    "for d in data:\n",
    "    if dist(random_pionts[0], d) < dist(random_pionts[1], d):\n",
    "        group1.append(d) # 빨간x랑 더 가까운 그룹\n",
    "    else:\n",
    "        group2.append(d) # 파란x랑 더 가까운 그룹\n",
    "len(group1), len(group2)"
   ]
  },
  {
   "cell_type": "code",
   "execution_count": 62,
   "id": "0201d083",
   "metadata": {},
   "outputs": [
    {
     "data": {
      "text/plain": [
       "[<matplotlib.lines.Line2D at 0x218e2382bf0>]"
      ]
     },
     "execution_count": 62,
     "metadata": {},
     "output_type": "execute_result"
    },
    {
     "data": {
      "image/png": "[encoded data removed]",
      "text/plain": [
       "<Figure size 640x480 with 1 Axes>"
      ]
     },
     "metadata": {},
     "output_type": "display_data"
    }
   ],
   "source": [
    "# 새로운 그룹 group1과 group2, 초기 랜덤 지점을 그래프로 그리기 \n",
    "plt.plot([d[0] for d in group1],\n",
    "         [d[1] for d in group1], 'o', color='r')\n",
    "plt.plot([d[0] for d in group2],\n",
    "         [d[1] for d in group2], 'o', color='b')\n",
    "plt.plot(random_pionts[0][0],\n",
    "         random_pionts[0][1], 'x', color='r', markersize=20) # 기준점 1\n",
    "plt.plot(random_pionts[1][0],\n",
    "         random_pionts[1][1], 'x', color='b', markersize=20) # 기준점 2"
   ]
  },
  {
   "cell_type": "code",
   "execution_count": 70,
   "id": "663e8a4b",
   "metadata": {},
   "outputs": [
    {
     "data": {
      "text/plain": [
       "([71.26666666666667, 188.0], [63.8235294117647, 161.72941176470587])"
      ]
     },
     "execution_count": 70,
     "metadata": {},
     "output_type": "execute_result"
    }
   ],
   "source": [
    "# 기준점 이동 group1의 중심점, group2 중심점\n",
    "sumX=0; sumY=0\n",
    "for g in group1:\n",
    "    sumX += g[0]\n",
    "    sumY += g[1]\n",
    "# 새로운 기준점으로 할당(random_points[0])\n",
    "random_pionts[0] = [sumX/len(group1), sumY/len(group1)]\n",
    "sumX=0; sumY=0\n",
    "for g in group2:\n",
    "    sumX += g[0]\n",
    "    sumY += g[1]\n",
    "# 새로운 기준점으로 할당(random_points[1])\n",
    "random_pionts[1] = [sumX/len(group2), sumY/len(group2)]\n",
    "random_pionts[0], random_pionts[1]"
   ]
  },
  {
   "cell_type": "code",
   "execution_count": 66,
   "id": "a1682eec",
   "metadata": {},
   "outputs": [
    {
     "data": {
      "text/plain": [
       "[<matplotlib.lines.Line2D at 0x218e20bf7f0>]"
      ]
     },
     "execution_count": 66,
     "metadata": {},
     "output_type": "execute_result"
    },
    {
     "data": {
      "image/png": "[encoded data removed]",
      "text/plain": [
       "<Figure size 640x480 with 1 Axes>"
      ]
     },
     "metadata": {},
     "output_type": "display_data"
    }
   ],
   "source": [
    "# 새로운 그룹 group1과 group2, 초기 랜덤 지점을 그래프로 그리기 \n",
    "plt.plot([d[0] for d in group1],\n",
    "         [d[1] for d in group1], 'o', color='r')\n",
    "plt.plot([d[0] for d in group2],\n",
    "         [d[1] for d in group2], 'o', color='b')\n",
    "plt.plot(random_pionts[0][0],\n",
    "         random_pionts[0][1], 'x', color='r', markersize=20) # 기준점 1\n",
    "plt.plot(random_pionts[1][0],\n",
    "         random_pionts[1][1], 'x', color='b', markersize=20) # 기준점 2"
   ]
  },
  {
   "cell_type": "markdown",
   "id": "2a2fa49b",
   "metadata": {},
   "source": [
    "# 3.전체 코드(for문 이용)\n",
    "- data 생성\n",
    "- 랜덤 포인트 2지점 (초기값 임의 생성)\\\n",
    "- for문 <br>\n",
    "    - 랜덤 포인트 2지점기준으로 2개의 group으로 나눔 (group1,group2)\n",
    "    - 랜덤 포인트 이동 (2개의 값의 각 중앙으로/ group1의 중간, group2의 중간) \\\n",
    "※ 차원에 따라서 for문을 여러번 돌림"
   ]
  },
  {
   "cell_type": "code",
   "execution_count": 97,
   "id": "afb83805",
   "metadata": {},
   "outputs": [
    {
     "name": "stdout",
     "output_type": "stream",
     "text": [
      "초기 point : [[87, 181], [44, 145]]\n",
      "1 번째 points : [[78.11764705882354, 176.41176470588235], [56.326530612244895, 156.0612244897959]]\n",
      "2 번째 points : [[79.73333333333333, 178.0], [57.38181818181818, 156.98181818181817]]\n",
      "3 번째 points : [[80.33333333333333, 179.07142857142858], [58.10344827586207, 157.29310344827587]]\n",
      "4 번째 points : [[80.63414634146342, 179.3170731707317], [58.271186440677965, 157.4915254237288]]\n",
      "5 번째 points : [[80.63414634146342, 179.3170731707317], [58.271186440677965, 157.4915254237288]]\n",
      "6 번째 points : [[80.63414634146342, 179.3170731707317], [58.271186440677965, 157.4915254237288]]\n",
      "7 번째 points : [[80.63414634146342, 179.3170731707317], [58.271186440677965, 157.4915254237288]]\n",
      "8 번째 points : [[80.63414634146342, 179.3170731707317], [58.271186440677965, 157.4915254237288]]\n",
      "9 번째 points : [[80.63414634146342, 179.3170731707317], [58.271186440677965, 157.4915254237288]]\n",
      "10 번째 points : [[80.63414634146342, 179.3170731707317], [58.271186440677965, 157.4915254237288]]\n"
     ]
    },
    {
     "data": {
      "image/png": "[encoded data removed]",
      "text/plain": [
       "<Figure size 640x480 with 1 Axes>"
      ]
     },
     "metadata": {},
     "output_type": "display_data"
    }
   ],
   "source": [
    "# 1. 데이터 생성\n",
    "data = [] \n",
    "for i in range(50):\n",
    "    # 여자 데이터 넣기 \n",
    "    data.append([random.randint(40,70), random.randint(140,170)])\n",
    "    # 남자 데이터 넣기 \n",
    "    data.append([random.randint(60,95), random.randint(160,195)])\n",
    "    \n",
    "# 2. 랜덤포인트 지정하기 \n",
    "points = [[random.randint(40,95), random.randint(140,195)],\n",
    "          [random.randint(40,95), random.randint(140,195)]]\n",
    "print('초기 point :', points)\n",
    "plt.plot(points[0][0], points[0][1], 'o', color='r', markersize=20)\n",
    "plt.plot(points[1][0], points[1][1], 'o', color='b', markersize=20)\n",
    "# 3. 포인트 2개 지점기준으로 group1과 group2 생성   \n",
    "\n",
    "for i in range(1,11):\n",
    "    # 포인트 그룹2개로 나누기 \n",
    "    group1 = [] # points[0]과 가까운 그룹\n",
    "    group2 = [] # points[1]과 가까운 그룹\n",
    "    for d in data:\n",
    "        if dist(d, points[0]) < dist(d, points[1]):\n",
    "            group1.append(d)\n",
    "        else:\n",
    "            group2.append(d)\n",
    "    # 새로운 포인트로 할당\n",
    "    sumX =0; sumY =0\n",
    "    for g in group1:\n",
    "        sumX += g[0]\n",
    "        sumY += g[1]\n",
    "    points[0] = [sumX/len(group1), sumY/len(group1)]\n",
    "    sumX =0; sumY =0\n",
    "    for g in group2:\n",
    "        sumX += g[0]\n",
    "        sumY += g[1]\n",
    "    points[1] = [sumX/len(group2), sumY/len(group2)]\n",
    "    print(i,'번째 points :', points)\n",
    "    plt.plot(points[0][0], points[0][1], '^', color='r')\n",
    "    plt.plot(points[1][0], points[1][1], '^', color='b')"
   ]
  },
  {
   "cell_type": "code",
   "execution_count": 133,
   "id": "99d95507",
   "metadata": {},
   "outputs": [
    {
     "data": {
      "image/png": "[encoded data removed]",
      "text/plain": [
       "<Figure size 640x480 with 1 Axes>"
      ]
     },
     "metadata": {},
     "output_type": "display_data"
    }
   ],
   "source": [
    "plt.plot([d[0] for d in group1], \n",
    "         [d[1] for d in group1], 'o', color='r')\n",
    "plt.plot([d[0] for d in group2], \n",
    "         [d[1] for d in group2], 'o', color='b')\n",
    "plt.plot(points[0][0], points[0][1], 'x' , color='r', markersize=14)\n",
    "plt.plot(points[1][0], points[1][1], 'x' , color='b', markersize=14)\n",
    "plt.show()"
   ]
  },
  {
   "cell_type": "markdown",
   "id": "e801b9ca",
   "metadata": {},
   "source": [
    "# 4. api를 이용한 군집화\n",
    "- sklearn 머신러닝\n",
    "    * **예측모델**\\\n",
    "        : 분류, 회귀, 군집분석 (n개 그룹으로 알아서 나눔)\\\n",
    "        fit(학습), predict(예측)\n",
    "        <br><br>\n",
    "    * **변환모델**\\\n",
    "        :전처리 ex. 스케일조정\\\n",
    "        fit(학습), transform(변환 함수) "
   ]
  },
  {
   "cell_type": "code",
   "execution_count": null,
   "id": "277544ea",
   "metadata": {},
   "outputs": [],
   "source": [
    "# 군집분석 라이브러리가 joblib 충돌 경고 메세지 출력\n",
    "import os \n",
    "os.environ[\"OMP_NUM_THREADS\"] = 1 #병렬처리 하지 않고 한번에 처리하는것"
   ]
  },
  {
   "cell_type": "code",
   "execution_count": 125,
   "id": "313b4ef1",
   "metadata": {},
   "outputs": [
    {
     "data": {
      "text/html": [
       "<style>#sk-container-id-7 {color: black;background-color: white;}#sk-container-id-7 pre{padding: 0;}#sk-container-id-7 div.sk-toggleable {background-color: white;}#sk-container-id-7 label.sk-toggleable__label {cursor: pointer;display: block;width: 100%;margin-bottom: 0;padding: 0.3em;box-sizing: border-box;text-align: center;}#sk-container-id-7 label.sk-toggleable__label-arrow:before {content: \"▸\";float: left;margin-right: 0.25em;color: #696969;}#sk-container-id-7 label.sk-toggleable__label-arrow:hover:before {color: black;}#sk-container-id-7 div.sk-estimator:hover label.sk-toggleable__label-arrow:before {color: black;}#sk-container-id-7 div.sk-toggleable__content {max-height: 0;max-width: 0;overflow: hidden;text-align: left;background-color: #f0f8ff;}#sk-container-id-7 div.sk-toggleable__content pre {margin: 0.2em;color: black;border-radius: 0.25em;background-color: #f0f8ff;}#sk-container-id-7 input.sk-toggleable__control:checked~div.sk-toggleable__content {max-height: 200px;max-width: 100%;overflow: auto;}#sk-container-id-7 input.sk-toggleable__control:checked~label.sk-toggleable__label-arrow:before {content: \"▾\";}#sk-container-id-7 div.sk-estimator input.sk-toggleable__control:checked~label.sk-toggleable__label {background-color: #d4ebff;}#sk-container-id-7 div.sk-label input.sk-toggleable__control:checked~label.sk-toggleable__label {background-color: #d4ebff;}#sk-container-id-7 input.sk-hidden--visually {border: 0;clip: rect(1px 1px 1px 1px);clip: rect(1px, 1px, 1px, 1px);height: 1px;margin: -1px;overflow: hidden;padding: 0;position: absolute;width: 1px;}#sk-container-id-7 div.sk-estimator {font-family: monospace;background-color: #f0f8ff;border: 1px dotted black;border-radius: 0.25em;box-sizing: border-box;margin-bottom: 0.5em;}#sk-container-id-7 div.sk-estimator:hover {background-color: #d4ebff;}#sk-container-id-7 div.sk-parallel-item::after {content: \"\";width: 100%;border-bottom: 1px solid gray;flex-grow: 1;}#sk-container-id-7 div.sk-label:hover label.sk-toggleable__label {background-color: #d4ebff;}#sk-container-id-7 div.sk-serial::before {content: \"\";position: absolute;border-left: 1px solid gray;box-sizing: border-box;top: 0;bottom: 0;left: 50%;z-index: 0;}#sk-container-id-7 div.sk-serial {display: flex;flex-direction: column;align-items: center;background-color: white;padding-right: 0.2em;padding-left: 0.2em;position: relative;}#sk-container-id-7 div.sk-item {position: relative;z-index: 1;}#sk-container-id-7 div.sk-parallel {display: flex;align-items: stretch;justify-content: center;background-color: white;position: relative;}#sk-container-id-7 div.sk-item::before, #sk-container-id-7 div.sk-parallel-item::before {content: \"\";position: absolute;border-left: 1px solid gray;box-sizing: border-box;top: 0;bottom: 0;left: 50%;z-index: -1;}#sk-container-id-7 div.sk-parallel-item {display: flex;flex-direction: column;z-index: 1;position: relative;background-color: white;}#sk-container-id-7 div.sk-parallel-item:first-child::after {align-self: flex-end;width: 50%;}#sk-container-id-7 div.sk-parallel-item:last-child::after {align-self: flex-start;width: 50%;}#sk-container-id-7 div.sk-parallel-item:only-child::after {width: 0;}#sk-container-id-7 div.sk-dashed-wrapped {border: 1px dashed gray;margin: 0 0.4em 0.5em 0.4em;box-sizing: border-box;padding-bottom: 0.4em;background-color: white;}#sk-container-id-7 div.sk-label label {font-family: monospace;font-weight: bold;display: inline-block;line-height: 1.2em;}#sk-container-id-7 div.sk-label-container {text-align: center;}#sk-container-id-7 div.sk-container {/* jupyter's `normalize.less` sets `[hidden] { display: none; }` but bootstrap.min.css set `[hidden] { display: none !important; }` so we also need the `!important` here to be able to override the default hidden behavior on the sphinx rendered scikit-learn.org. See: https://github.com/scikit-learn/scikit-learn/issues/21755 */display: inline-block !important;position: relative;}#sk-container-id-7 div.sk-text-repr-fallback {display: none;}</style><div id=\"sk-container-id-7\" class=\"sk-top-container\"><div class=\"sk-text-repr-fallback\"><pre>KMeans(init=&#x27;random&#x27;, n_clusters=2, n_init=10, random_state=7)</pre><b>In a Jupyter environment, please rerun this cell to show the HTML representation or trust the notebook. <br />On GitHub, the HTML representation is unable to render, please try loading this page with nbviewer.org.</b></div><div class=\"sk-container\" hidden><div class=\"sk-item\"><div class=\"sk-estimator sk-toggleable\"><input class=\"sk-toggleable__control sk-hidden--visually\" id=\"sk-estimator-id-7\" type=\"checkbox\" checked><label for=\"sk-estimator-id-7\" class=\"sk-toggleable__label sk-toggleable__label-arrow\">KMeans</label><div class=\"sk-toggleable__content\"><pre>KMeans(init=&#x27;random&#x27;, n_clusters=2, n_init=10, random_state=7)</pre></div></div></div></div></div>"
      ],
      "text/plain": [
       "KMeans(init='random', n_clusters=2, n_init=10, random_state=7)"
      ]
     },
     "execution_count": 125,
     "metadata": {},
     "output_type": "execute_result"
    }
   ],
   "source": [
    "data = np. array(data)\n",
    "data # sklearn은 넘파이 배열을 받음\n",
    "from sklearn.cluster import KMeans\n",
    "model = KMeans(n_clusters=2,   # 2개 그룹으로 나누기\n",
    "               init='random',  # 초기 중심점 랜덤하게 \n",
    "               n_init=10,      # 10번 실행 (초기값->그룹나누기-> 중심점 이동 -> 그룹나누기)\n",
    "               random_state=7\n",
    "              )\n",
    "model.fit(data)"
   ]
  },
  {
   "cell_type": "code",
   "execution_count": 126,
   "id": "21ab3740",
   "metadata": {},
   "outputs": [
    {
     "data": {
      "text/plain": [
       "array([[ 81.44736842, 180.21052632],\n",
       "       [ 58.85483871, 158.        ]])"
      ]
     },
     "execution_count": 126,
     "metadata": {},
     "output_type": "execute_result"
    }
   ],
   "source": [
    "# 중심점 확인\n",
    "model.cluster_centers_"
   ]
  },
  {
   "cell_type": "code",
   "execution_count": 127,
   "id": "2307d7de",
   "metadata": {},
   "outputs": [
    {
     "data": {
      "text/plain": [
       "array([1, 0, 1, 0, 1, 0, 1, 0, 1, 0, 1, 0, 1, 1, 1, 0, 1, 0, 1, 0, 1, 1,\n",
       "       1, 0, 1, 1, 1, 0, 1, 0, 1, 1, 1, 0, 1, 1, 1, 1, 1, 0, 1, 0, 1, 0,\n",
       "       1, 0, 1, 0, 1, 0, 1, 0, 1, 1, 1, 0, 1, 1, 1, 0, 1, 0, 1, 0, 1, 0,\n",
       "       1, 1, 1, 0, 1, 0, 1, 0, 1, 0, 1, 0, 1, 0, 1, 0, 1, 0, 1, 0, 1, 1,\n",
       "       1, 0, 1, 1, 1, 0, 1, 0, 1, 1, 1, 0])"
      ]
     },
     "execution_count": 127,
     "metadata": {},
     "output_type": "execute_result"
    }
   ],
   "source": [
    "# 나눠진 그룹들의 인덱스 확인  (1번 그룹과 0번 그룹으로 나눔)\n",
    "model.labels_"
   ]
  },
  {
   "cell_type": "code",
   "execution_count": 130,
   "id": "c5c28cd2",
   "metadata": {},
   "outputs": [],
   "source": [
    "group1 = data[model.labels_==1] # 1번 그룹\n",
    "group2 = data[model.labels_==0] # 0번 그룹\n",
    "c1,c2 = model.cluster_centers_ #c1,c2 중심점 "
   ]
  },
  {
   "cell_type": "code",
   "execution_count": 140,
   "id": "117ddc68",
   "metadata": {},
   "outputs": [
    {
     "data": {
      "image/png": "[encoded data removed]",
      "text/plain": [
       "<Figure size 640x480 with 1 Axes>"
      ]
     },
     "metadata": {},
     "output_type": "display_data"
    }
   ],
   "source": [
    "plt.plot([d[0] for d in group1],\n",
    "         [d[1] for d in group1], 'o', color='r')\n",
    "plt.plot([d[0] for d in group2],\n",
    "         [d[1] for d in group2], 'o', color='b')\n",
    "plt.plot(c1[0], c1[1], 'x', color='r' , markersize=14)\n",
    "plt.plot(c2[0], c2[1], 'x', color='b' , markersize=14)\n",
    "plt.show()"
   ]
  },
  {
   "cell_type": "code",
   "execution_count": null,
   "id": "5b9432be",
   "metadata": {},
   "outputs": [],
   "source": []
  }
 ],
 "metadata": {
  "kernelspec": {
   "display_name": "ml-dl-nlp",
   "language": "python",
   "name": "ml-dl-nlp"
  },
  "language_info": {
   "codemirror_mode": {
    "name": "ipython",
    "version": 3
   },
   "file_extension": ".py",
   "mimetype": "text/x-python",
   "name": "python",
   "nbconvert_exporter": "python",
   "pygments_lexer": "ipython3",
   "version": "3.10.18"
  },
  "toc": {
   "base_numbering": 1,
   "nav_menu": {},
   "number_sections": false,
   "sideBar": true,
   "skip_h1_title": false,
   "title_cell": "Table of Contents",
   "title_sidebar": "Contents",
   "toc_cell": false,
   "toc_position": {
    "height": "calc(100% - 180px)",
    "left": "10px",
    "top": "150px",
    "width": "165px"
   },
   "toc_section_display": true,
   "toc_window_display": true
  }
 },
 "nbformat": 4,
 "nbformat_minor": 5
}
