{
 "cells": [
  {
   "cell_type": "code",
   "execution_count": 1,
   "id": "ecbf226f",
   "metadata": {},
   "outputs": [
    {
     "data": {
      "text/html": [
       "\n",
       "<style>\n",
       "div.container{width:86% !important;}\n",
       "div.cell.code_cell.rendered{width:100%;}\n",
       "div.CodeMirror {font-family:Consolas; font-size:15pt;}\n",
       "div.output {font-size:15pt; font-weight:bold;}\n",
       "div.input {font-family:Consolas; font-size:15pt;}\n",
       "div.prompt {min-width:70px;}\n",
       "div#toc-wrapper{padding-top:120px;}\n",
       "div.text_cell_render ul li{font-size:12pt;padding:5px;}\n",
       "table.dataframe{font-size:15px;}\n",
       "</style>\n",
       " "
      ],
      "text/plain": [
       "<IPython.core.display.HTML object>"
      ]
     },
     "metadata": {},
     "output_type": "display_data"
    }
   ],
   "source": [
    "from IPython.display import display, HTML \n",
    "display(HTML(\"\"\"\n",
    "<style>\n",
    "div.container{width:86% !important;}\n",
    "div.cell.code_cell.rendered{width:100%;}\n",
    "div.CodeMirror {font-family:Consolas; font-size:15pt;}\n",
    "div.output {font-size:15pt; font-weight:bold;}\n",
    "div.input {font-family:Consolas; font-size:15pt;}\n",
    "div.prompt {min-width:70px;}\n",
    "div#toc-wrapper{padding-top:120px;}\n",
    "div.text_cell_render ul li{font-size:12pt;padding:5px;}\n",
    "table.dataframe{font-size:15px;}\n",
    "</style>\n",
    " \"\"\"))"
   ]
  },
  {
   "cell_type": "markdown",
   "id": "5052cbe3",
   "metadata": {},
   "source": [
    "# 1. 데이터 가져오기\n"
   ]
  },
  {
   "cell_type": "code",
   "execution_count": 2,
   "id": "ba896bd9",
   "metadata": {},
   "outputs": [
    {
     "data": {
      "text/html": [
       "<div>\n",
       "<style scoped>\n",
       "    .dataframe tbody tr th:only-of-type {\n",
       "        vertical-align: middle;\n",
       "    }\n",
       "\n",
       "    .dataframe tbody tr th {\n",
       "        vertical-align: top;\n",
       "    }\n",
       "\n",
       "    .dataframe thead th {\n",
       "        text-align: right;\n",
       "    }\n",
       "</style>\n",
       "<table border=\"1\" class=\"dataframe\">\n",
       "  <thead>\n",
       "    <tr style=\"text-align: right;\">\n",
       "      <th></th>\n",
       "      <th>지역명</th>\n",
       "      <th>연도</th>\n",
       "      <th>월</th>\n",
       "      <th>평당분양가격</th>\n",
       "    </tr>\n",
       "  </thead>\n",
       "  <tbody>\n",
       "    <tr>\n",
       "      <th>0</th>\n",
       "      <td>서울</td>\n",
       "      <td>2013</td>\n",
       "      <td>12</td>\n",
       "      <td>18189.0</td>\n",
       "    </tr>\n",
       "    <tr>\n",
       "      <th>1</th>\n",
       "      <td>부산</td>\n",
       "      <td>2013</td>\n",
       "      <td>12</td>\n",
       "      <td>8111.0</td>\n",
       "    </tr>\n",
       "    <tr>\n",
       "      <th>2</th>\n",
       "      <td>대구</td>\n",
       "      <td>2013</td>\n",
       "      <td>12</td>\n",
       "      <td>8080.0</td>\n",
       "    </tr>\n",
       "    <tr>\n",
       "      <th>3</th>\n",
       "      <td>인천</td>\n",
       "      <td>2013</td>\n",
       "      <td>12</td>\n",
       "      <td>10204.0</td>\n",
       "    </tr>\n",
       "    <tr>\n",
       "      <th>4</th>\n",
       "      <td>광주</td>\n",
       "      <td>2013</td>\n",
       "      <td>12</td>\n",
       "      <td>6098.0</td>\n",
       "    </tr>\n",
       "  </tbody>\n",
       "</table>\n",
       "</div>"
      ],
      "text/plain": [
       "  지역명    연도   월   평당분양가격\n",
       "0  서울  2013  12  18189.0\n",
       "1  부산  2013  12   8111.0\n",
       "2  대구  2013  12   8080.0\n",
       "3  인천  2013  12  10204.0\n",
       "4  광주  2013  12   6098.0"
      ]
     },
     "execution_count": 2,
     "metadata": {},
     "output_type": "execute_result"
    }
   ],
   "source": [
    "import pandas as pd\n",
    "df = pd.read_csv(\"C:/ai_x/download/ShareData/부동산_250213/최종전국평당분양가격(결측치제외).csv\",encoding='cp949')\n",
    "df.head()"
   ]
  },
  {
   "cell_type": "code",
   "execution_count": 3,
   "id": "e73b52bc",
   "metadata": {},
   "outputs": [
    {
     "name": "stdout",
     "output_type": "stream",
     "text": [
      "<class 'pandas.core.frame.DataFrame'>\n",
      "RangeIndex: 2176 entries, 0 to 2175\n",
      "Data columns (total 4 columns):\n",
      " #   Column  Non-Null Count  Dtype  \n",
      "---  ------  --------------  -----  \n",
      " 0   지역명     2176 non-null   object \n",
      " 1   연도      2176 non-null   int64  \n",
      " 2   월       2176 non-null   int64  \n",
      " 3   평당분양가격  2176 non-null   float64\n",
      "dtypes: float64(1), int64(2), object(1)\n",
      "memory usage: 68.1+ KB\n"
     ]
    }
   ],
   "source": [
    "df.info()"
   ]
  },
  {
   "cell_type": "code",
   "execution_count": 51,
   "id": "12354f75",
   "metadata": {},
   "outputs": [
    {
     "data": {
      "text/html": [
       "<div>\n",
       "<style scoped>\n",
       "    .dataframe tbody tr th:only-of-type {\n",
       "        vertical-align: middle;\n",
       "    }\n",
       "\n",
       "    .dataframe tbody tr th {\n",
       "        vertical-align: top;\n",
       "    }\n",
       "\n",
       "    .dataframe thead th {\n",
       "        text-align: right;\n",
       "    }\n",
       "</style>\n",
       "<table border=\"1\" class=\"dataframe\">\n",
       "  <thead>\n",
       "    <tr style=\"text-align: right;\">\n",
       "      <th></th>\n",
       "      <th>지역명</th>\n",
       "      <th>연도</th>\n",
       "      <th>월</th>\n",
       "      <th>평당분양가격</th>\n",
       "      <th>지역명2n</th>\n",
       "      <th>연도n</th>\n",
       "      <th>월n</th>\n",
       "      <th>연도s</th>\n",
       "      <th>월s</th>\n",
       "    </tr>\n",
       "  </thead>\n",
       "  <tbody>\n",
       "    <tr>\n",
       "      <th>0</th>\n",
       "      <td>서울</td>\n",
       "      <td>2013</td>\n",
       "      <td>12</td>\n",
       "      <td>18189.0</td>\n",
       "      <td>8</td>\n",
       "      <td>0.0</td>\n",
       "      <td>1.000000</td>\n",
       "      <td>-1.875367</td>\n",
       "      <td>1.62196</td>\n",
       "    </tr>\n",
       "    <tr>\n",
       "      <th>1</th>\n",
       "      <td>부산</td>\n",
       "      <td>2013</td>\n",
       "      <td>12</td>\n",
       "      <td>8111.0</td>\n",
       "      <td>7</td>\n",
       "      <td>0.0</td>\n",
       "      <td>1.000000</td>\n",
       "      <td>-1.875367</td>\n",
       "      <td>1.62196</td>\n",
       "    </tr>\n",
       "    <tr>\n",
       "      <th>2</th>\n",
       "      <td>대구</td>\n",
       "      <td>2013</td>\n",
       "      <td>12</td>\n",
       "      <td>8080.0</td>\n",
       "      <td>5</td>\n",
       "      <td>0.0</td>\n",
       "      <td>1.000000</td>\n",
       "      <td>-1.875367</td>\n",
       "      <td>1.62196</td>\n",
       "    </tr>\n",
       "    <tr>\n",
       "      <th>3</th>\n",
       "      <td>인천</td>\n",
       "      <td>2013</td>\n",
       "      <td>12</td>\n",
       "      <td>10204.0</td>\n",
       "      <td>11</td>\n",
       "      <td>0.0</td>\n",
       "      <td>1.000000</td>\n",
       "      <td>-1.875367</td>\n",
       "      <td>1.62196</td>\n",
       "    </tr>\n",
       "    <tr>\n",
       "      <th>4</th>\n",
       "      <td>광주</td>\n",
       "      <td>2013</td>\n",
       "      <td>12</td>\n",
       "      <td>6098.0</td>\n",
       "      <td>4</td>\n",
       "      <td>0.0</td>\n",
       "      <td>1.000000</td>\n",
       "      <td>-1.875367</td>\n",
       "      <td>1.62196</td>\n",
       "    </tr>\n",
       "    <tr>\n",
       "      <th>...</th>\n",
       "      <td>...</td>\n",
       "      <td>...</td>\n",
       "      <td>...</td>\n",
       "      <td>...</td>\n",
       "      <td>...</td>\n",
       "      <td>...</td>\n",
       "      <td>...</td>\n",
       "      <td>...</td>\n",
       "      <td>...</td>\n",
       "    </tr>\n",
       "    <tr>\n",
       "      <th>2171</th>\n",
       "      <td>전북</td>\n",
       "      <td>2024</td>\n",
       "      <td>8</td>\n",
       "      <td>12058.2</td>\n",
       "      <td>13</td>\n",
       "      <td>1.0</td>\n",
       "      <td>0.636364</td>\n",
       "      <td>1.664199</td>\n",
       "      <td>0.46374</td>\n",
       "    </tr>\n",
       "    <tr>\n",
       "      <th>2172</th>\n",
       "      <td>전남</td>\n",
       "      <td>2024</td>\n",
       "      <td>8</td>\n",
       "      <td>13120.8</td>\n",
       "      <td>12</td>\n",
       "      <td>1.0</td>\n",
       "      <td>0.636364</td>\n",
       "      <td>1.664199</td>\n",
       "      <td>0.46374</td>\n",
       "    </tr>\n",
       "    <tr>\n",
       "      <th>2173</th>\n",
       "      <td>경북</td>\n",
       "      <td>2024</td>\n",
       "      <td>8</td>\n",
       "      <td>13827.0</td>\n",
       "      <td>3</td>\n",
       "      <td>1.0</td>\n",
       "      <td>0.636364</td>\n",
       "      <td>1.664199</td>\n",
       "      <td>0.46374</td>\n",
       "    </tr>\n",
       "    <tr>\n",
       "      <th>2174</th>\n",
       "      <td>경남</td>\n",
       "      <td>2024</td>\n",
       "      <td>8</td>\n",
       "      <td>13252.8</td>\n",
       "      <td>2</td>\n",
       "      <td>1.0</td>\n",
       "      <td>0.636364</td>\n",
       "      <td>1.664199</td>\n",
       "      <td>0.46374</td>\n",
       "    </tr>\n",
       "    <tr>\n",
       "      <th>2175</th>\n",
       "      <td>제주</td>\n",
       "      <td>2024</td>\n",
       "      <td>8</td>\n",
       "      <td>25419.9</td>\n",
       "      <td>14</td>\n",
       "      <td>1.0</td>\n",
       "      <td>0.636364</td>\n",
       "      <td>1.664199</td>\n",
       "      <td>0.46374</td>\n",
       "    </tr>\n",
       "  </tbody>\n",
       "</table>\n",
       "<p>2176 rows × 9 columns</p>\n",
       "</div>"
      ],
      "text/plain": [
       "     지역명    연도   월   평당분양가격  지역명2n  연도n        월n       연도s       월s\n",
       "0     서울  2013  12  18189.0      8  0.0  1.000000 -1.875367  1.62196\n",
       "1     부산  2013  12   8111.0      7  0.0  1.000000 -1.875367  1.62196\n",
       "2     대구  2013  12   8080.0      5  0.0  1.000000 -1.875367  1.62196\n",
       "3     인천  2013  12  10204.0     11  0.0  1.000000 -1.875367  1.62196\n",
       "4     광주  2013  12   6098.0      4  0.0  1.000000 -1.875367  1.62196\n",
       "...   ..   ...  ..      ...    ...  ...       ...       ...      ...\n",
       "2171  전북  2024   8  12058.2     13  1.0  0.636364  1.664199  0.46374\n",
       "2172  전남  2024   8  13120.8     12  1.0  0.636364  1.664199  0.46374\n",
       "2173  경북  2024   8  13827.0      3  1.0  0.636364  1.664199  0.46374\n",
       "2174  경남  2024   8  13252.8      2  1.0  0.636364  1.664199  0.46374\n",
       "2175  제주  2024   8  25419.9     14  1.0  0.636364  1.664199  0.46374\n",
       "\n",
       "[2176 rows x 9 columns]"
      ]
     },
     "execution_count": 51,
     "metadata": {},
     "output_type": "execute_result"
    }
   ],
   "source": [
    "df"
   ]
  },
  {
   "cell_type": "markdown",
   "id": "518f5c04",
   "metadata": {},
   "source": [
    "# 2. 지역명의 라벨 인코딩\n",
    "- 지역명을 라벨인코딩한 지역명 2 필드 추가 \n",
    "- 분석할 경우 원핫인코딩까지 할 것을 추천\n"
   ]
  },
  {
   "cell_type": "code",
   "execution_count": null,
   "id": "bb9100dd",
   "metadata": {},
   "outputs": [],
   "source": [
    "'''\n",
    "1. 지역명만 numpy로 추출\n",
    "2. 추출된 지역명 라벨인코딩\n",
    "3. 라벨인코딩 데이터프레임으로 변경\n",
    "4. df에 지역명2n으로 저장하고 재할당\n",
    "'''"
   ]
  },
  {
   "cell_type": "code",
   "execution_count": 4,
   "id": "d8fc3fd0",
   "metadata": {},
   "outputs": [
    {
     "name": "stdout",
     "output_type": "stream",
     "text": [
      "원 데이터 : ['서울' '부산' '대구' ... '경북' '경남' '제주']\n",
      "라벨인코딩된 데이터 :\n",
      " [ 8  7  5 ...  3  2 14]\n"
     ]
    }
   ],
   "source": [
    "from tensorflow.keras.utils import to_categorical # 분류분석시 원핫인코딩 (전처리 작업) \n",
    "from tensorflow.keras.models import Sequential    # 모델 생성\n",
    "from tensorflow.keras.layers import Dense,Input \n",
    "from sklearn.preprocessing import LabelEncoder    # 라벨인코딩\n",
    "import tensorflow.compat.v1 as tf\n",
    "import numpy as np\n",
    "import pandas as pd\n",
    "\n",
    "# 지역명만 numpy로 추출\n",
    "new_city = df['지역명'].values\n",
    "print('원 데이터 :', new_city)\n",
    "\n",
    "# 추출된 지역명 라벨인코딩 작업\n",
    "le = LabelEncoder()  # 라벨인코딩 객체 생성\n",
    "le.fit(new_city)\n",
    "labeled_data = le.fit_transform(new_city)\n",
    "print('라벨인코딩된 데이터 :\\n', labeled_data)\n",
    "# one_hot_encoded_data = to_categorical(labeled_data)\n",
    "# print('원핫인코딩된 데이터:\\n', one_hot_encoded_data)\n",
    "\n",
    "#라벨인코딩 데이터(labeled_data)를 데이터 프레임으로 변경\n",
    "new_df = pd.DataFrame(labeled_data)\n",
    "new_df\n",
    "\n",
    "#df에 지역명2n으로 저장하기\n",
    "df['지역명2n']=new_df"
   ]
  },
  {
   "cell_type": "markdown",
   "id": "df9a5c9b",
   "metadata": {},
   "source": [
    "# 3. normalization 스케일 조정\n",
    "- 입력변수와 타겟변수 따로 스케일 조정(MinMaxScaler이용)\n",
    "- 지역명 2n, 연도n, 월n 필드 추가 "
   ]
  },
  {
   "cell_type": "markdown",
   "id": "b6164f47",
   "metadata": {},
   "source": [
    "## 입력변수('지역명2n','연도','월') 스케일 조정"
   ]
  },
  {
   "cell_type": "code",
   "execution_count": 37,
   "id": "10241694",
   "metadata": {},
   "outputs": [
    {
     "data": {
      "text/plain": [
       "array([[0.        , 1.        , 0.5       ],\n",
       "       [0.        , 1.        , 0.4375    ],\n",
       "       [0.        , 1.        , 0.3125    ],\n",
       "       ...,\n",
       "       [1.        , 0.63636364, 0.1875    ],\n",
       "       [1.        , 0.63636364, 0.125     ],\n",
       "       [1.        , 0.63636364, 0.875     ]])"
      ]
     },
     "execution_count": 37,
     "metadata": {},
     "output_type": "execute_result"
    }
   ],
   "source": [
    "from sklearn.preprocessing import MinMaxScaler \n",
    "\n",
    "x_data = df[['연도','월','지역명2n']].values\n",
    "x_data\n",
    "y_data = df[['평당분양가격']].values\n",
    "y_data\n",
    "\n",
    "#x_data 스케일 조정\n",
    "scaler_x = MinMaxScaler() # x_data를 정규화 시킬 객체 \n",
    "scaled_x_data = scaler_x.fit_transform(x_data)\n",
    "scaled_x_data\n",
    "#x_data 데이터 프레임으로 변환 후 연도n, 월n 필드 추가 \n",
    "new_x = pd.DataFrame(scaled_x_data)\n",
    "new_x \n",
    "df['연도n'] = new_x.iloc[:,:1]\n",
    "df['월n'] = new_x.iloc[:,1:2]"
   ]
  },
  {
   "cell_type": "markdown",
   "id": "fb1e220f",
   "metadata": {},
   "source": [
    "# 4. standardization 스케일 조정\n",
    "- 입력변수와 타겟변수 따로 스케일 조정(StandardScaler이용)\n",
    "- 지역명 2s, 연도s, 월s필드 추가 "
   ]
  },
  {
   "cell_type": "code",
   "execution_count": 50,
   "id": "1d25dc62",
   "metadata": {
    "scrolled": true
   },
   "outputs": [],
   "source": [
    "from sklearn.preprocessing import StandardScaler\n",
    "\n",
    "x_data = df[['연도','월','지역명2n']].values\n",
    "x_data\n",
    "y_data = df[['평당분양가격']].values\n",
    "y_data\n",
    "\n",
    "scaler_x = StandardScaler() #x_data를 표준화할 객체\n",
    "scaler_y = StandardScaler() #y_data를 표준화할 객체 \n",
    "scaled_x_data = scaler_x.fit_transform(x_data)\n",
    "# scaled_y_data = scaler_y.fit_transform(y_data)\n",
    "# scaled_y_data\n",
    "news_x = pd.DataFrame(scaled_x_data)\n",
    "df['연도s'] = news_x.iloc[:,:1]\n",
    "df\n",
    "\n",
    "df['월s'] = news_x.iloc[:,1:2]\n"
   ]
  },
  {
   "cell_type": "code",
   "execution_count": 54,
   "id": "bb923754",
   "metadata": {},
   "outputs": [],
   "source": [
    "df.to_csv('data/test_scale.csv', index=False, encoding='utf-8')"
   ]
  },
  {
   "cell_type": "code",
   "execution_count": null,
   "id": "9e9a89c8",
   "metadata": {},
   "outputs": [],
   "source": []
  }
 ],
 "metadata": {
  "kernelspec": {
   "display_name": "ml-dl-nlp",
   "language": "python",
   "name": "ml-dl-nlp"
  },
  "language_info": {
   "codemirror_mode": {
    "name": "ipython",
    "version": 3
   },
   "file_extension": ".py",
   "mimetype": "text/x-python",
   "name": "python",
   "nbconvert_exporter": "python",
   "pygments_lexer": "ipython3",
   "version": "3.10.18"
  },
  "toc": {
   "base_numbering": 1,
   "nav_menu": {},
   "number_sections": false,
   "sideBar": true,
   "skip_h1_title": false,
   "title_cell": "Table of Contents",
   "title_sidebar": "Contents",
   "toc_cell": false,
   "toc_position": {
    "height": "calc(100% - 180px)",
    "left": "10px",
    "top": "150px",
    "width": "165px"
   },
   "toc_section_display": true,
   "toc_window_display": true
  }
 },
 "nbformat": 4,
 "nbformat_minor": 5
}
