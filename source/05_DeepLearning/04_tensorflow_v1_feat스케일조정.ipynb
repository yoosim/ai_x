{
 "cells": [
  {
   "cell_type": "code",
   "execution_count": 68,
   "id": "9959b5af",
   "metadata": {},
   "outputs": [
    {
     "data": {
      "text/html": [
       "\n",
       "<style>\n",
       "div.container{width:86% !important;}\n",
       "div.cell.code_cell.rendered{width:100%;}\n",
       "div.CodeMirror {font-family:Consolas; font-size:15pt;}\n",
       "div.output {font-size:15pt; font-weight:bold;}\n",
       "div.input {font-family:Consolas; font-size:15pt;}\n",
       "div.prompt {min-width:70px;}\n",
       "div#toc-wrapper{padding-top:120px;}\n",
       "div.text_cell_render ul li{font-size:12pt;padding:5px;}\n",
       "table.dataframe{font-size:15px;}\n",
       "</style>\n",
       " "
      ],
      "text/plain": [
       "<IPython.core.display.HTML object>"
      ]
     },
     "metadata": {},
     "output_type": "display_data"
    }
   ],
   "source": [
    "from IPython.display import display, HTML \n",
    "display(HTML(\"\"\"\n",
    "<style>\n",
    "div.container{width:86% !important;}\n",
    "div.cell.code_cell.rendered{width:100%;}\n",
    "div.CodeMirror {font-family:Consolas; font-size:15pt;}\n",
    "div.output {font-size:15pt; font-weight:bold;}\n",
    "div.input {font-family:Consolas; font-size:15pt;}\n",
    "div.prompt {min-width:70px;}\n",
    "div#toc-wrapper{padding-top:120px;}\n",
    "div.text_cell_render ul li{font-size:12pt;padding:5px;}\n",
    "table.dataframe{font-size:15px;}\n",
    "</style>\n",
    " \"\"\"))"
   ]
  },
  {
   "cell_type": "markdown",
   "id": "39a78d9c",
   "metadata": {},
   "source": [
    "# 1. tensorflow v2.xx에서 v1사용하기"
   ]
  },
  {
   "cell_type": "code",
   "execution_count": 4,
   "id": "10e29b7d",
   "metadata": {},
   "outputs": [],
   "source": [
    "import tensorflow.compat.v1 as tf\n",
    "tf.disable_v2_behavior()  # v2를 비활성화하고 v1활성화 \n",
    "import numpy as np\n",
    "import pandas as pd"
   ]
  },
  {
   "cell_type": "markdown",
   "id": "87f21f7f",
   "metadata": {},
   "source": [
    "## Tensorflow\n",
    "- 데이터 흐름 그래프 (tensor 객체의 흐름)\n",
    "- 이 그래프는 node(상수, 변수, 연산)와 edge로 구성)\n",
    "    - node : 작업 또는 연산 \n",
    "    - edge : 데이터 흐름 / 종속 관계 \n",
    "- <span style=\"color:red; font-size: 16px;\"> tf.Session()으로 실행</span>\n",
    "- <span style=\"color:red; font-size: 16px;\"> sess.run()을 통해 값을 확인</span>"
   ]
  },
  {
   "cell_type": "code",
   "execution_count": 7,
   "id": "fafc9662",
   "metadata": {},
   "outputs": [
    {
     "name": "stdout",
     "output_type": "stream",
     "text": [
      "b'Hello, Tensorflow'\n"
     ]
    }
   ],
   "source": [
    "# tensor = data(상수, 변수)와 연산 \n",
    "node1 = tf.constant('Hello, Tensorflow') #문자 node , 구동시키려면 tf.Session()으로 실행\n",
    "sess = tf.Session()\n",
    "print(sess.run(node1))"
   ]
  },
  {
   "cell_type": "code",
   "execution_count": 13,
   "id": "a8a38f8f",
   "metadata": {},
   "outputs": [
    {
     "name": "stdout",
     "output_type": "stream",
     "text": [
      "[10.0, 20.0, 30.0]\n"
     ]
    }
   ],
   "source": [
    "# 간단한 연산 tensor  그래프\n",
    "node1 = tf.constant(10, dtype=tf.float16)\n",
    "node2 = tf.constant(20, dtype=tf.float16)\n",
    "node3 = tf.add(node1, node2)# node 1,2,3은 구동시켜야 나옴 \n",
    "\n",
    "#구동하기 위한 Session 만들기 \n",
    "sess = tf.Session()\n",
    "print(sess.run([node1,node2, node3]))"
   ]
  },
  {
   "cell_type": "code",
   "execution_count": 15,
   "id": "92c478e1",
   "metadata": {},
   "outputs": [
    {
     "data": {
      "text/plain": [
       "[array([1, 2, 3], dtype=int16), array([1., 2., 3.], dtype=float32)]"
      ]
     },
     "execution_count": 15,
     "metadata": {},
     "output_type": "execute_result"
    }
   ],
   "source": [
    "# 타입 변경 하기\n",
    "node1 = tf.constant(np.array([1,2,3]), dtype=tf.int16) # 여러개 값을 넣으려면 반드시 np.array로 해야함\n",
    "node2 = tf.cast(node1, dtype=tf.float32)\n",
    "sess = tf.Session()\n",
    "sess.run([node1, node2])"
   ]
  },
  {
   "cell_type": "code",
   "execution_count": 17,
   "id": "0892b94d",
   "metadata": {},
   "outputs": [
    {
     "data": {
      "text/plain": [
       "2.0"
      ]
     },
     "execution_count": 17,
     "metadata": {},
     "output_type": "execute_result"
    }
   ],
   "source": [
    "# 평균값 계산 tf.reduce_mean()\n",
    "data = np.array([1.,2.,3.])\n",
    "tensor = tf.reduce_mean(data) #그래프 정의 / 활성화 되진않았음\n",
    "#활성화 하기위해\n",
    "sess = tf.Session()\n",
    "sess.run(tensor)"
   ]
  },
  {
   "cell_type": "code",
   "execution_count": 38,
   "id": "03feaa80",
   "metadata": {},
   "outputs": [
    {
     "data": {
      "text/plain": [
       "[array([2.3176014 , 0.35246396], dtype=float32),\n",
       " array([-0.6231193], dtype=float32)]"
      ]
     },
     "execution_count": 38,
     "metadata": {},
     "output_type": "execute_result"
    }
   ],
   "source": [
    "# 랜덤값을 갖는 tensor\n",
    "a = tf.random_normal([2]) # 평균0, 표준편차가 1인 난수 실수 2개(정규분포를 이루는 난수)\n",
    "b = tf.random_normal([1])\n",
    "sess = tf.Session()\n",
    "sess.run([a,b])"
   ]
  },
  {
   "cell_type": "code",
   "execution_count": 45,
   "id": "5593dc86",
   "metadata": {},
   "outputs": [
    {
     "data": {
      "text/plain": [
       "array([0.36455524], dtype=float32)"
      ]
     },
     "execution_count": 45,
     "metadata": {},
     "output_type": "execute_result"
    }
   ],
   "source": [
    "w = tf.Variable(tf.random.normal([1]))  # 처음 세팅된 고정된 값이 아닌 변동값(# 초기값은 랜덤이지만 변할 수 있음)\n",
    "# tf.Variable: 변할 수 있음 / tf.constant: 변하지 않음\n",
    "\n",
    "sess = tf.Session()\n",
    "sess.run(tf.global_variables_initializer()) # w변수의 난수 초기화 작업 \n",
    "sess.run(w)"
   ]
  },
  {
   "cell_type": "markdown",
   "id": "74715a4e",
   "metadata": {},
   "source": [
    "# 2.tensorflow  v1을 이용한 linear regression을 구현\n",
    "## 2.1 입력(독립)변수 x가 1개, 타겟(종속)변수 y가 1개"
   ]
  },
  {
   "cell_type": "code",
   "execution_count": 46,
   "id": "3852537b",
   "metadata": {},
   "outputs": [
    {
     "name": "stdout",
     "output_type": "stream",
     "text": [
      "0번째 cost:45.0183219909668, W:[-1.0908678], b:[-0.5347255]\n",
      "200번째 cost:0.014612540602684021, W:[1.1400598], b:[0.6816111]\n",
      "400번째 cost:0.005579769611358643, W:[1.0865483], b:[0.8032553]\n",
      "600번째 cost:0.0021306260023266077, W:[1.0534817], b:[0.8784238]\n",
      "800번째 cost:0.0008135768584907055, W:[1.0330484], b:[0.9248733]\n",
      "1000번째 cost:0.00031066927476786077, W:[1.020422], b:[0.9535759]\n",
      "1200번째 cost:0.000118624659080524, W:[1.0126194], b:[0.9713132]\n",
      "1400번째 cost:4.5296776079339907e-05, W:[1.007798], b:[0.9822733]\n",
      "1600번째 cost:1.729717587295454e-05, W:[1.0048188], b:[0.98904574]\n",
      "1800번째 cost:6.60530713503249e-06, W:[1.0029778], b:[0.99323076]\n",
      "2000번째 cost:2.5223282591468887e-06, W:[1.0018402], b:[0.99581695]\n",
      "2200번째 cost:9.635946298658382e-07, W:[1.0011375], b:[0.99741465]\n",
      "2400번째 cost:3.683523175368464e-07, W:[1.0007035], b:[0.9984014]\n",
      "2600번째 cost:1.410060121997958e-07, W:[1.0004352], b:[0.99901104]\n",
      "2800번째 cost:5.4046328301637914e-08, W:[1.0002693], b:[0.9993878]\n",
      "3000번째 cost:2.074881422231556e-08, W:[1.000167], b:[0.9996206]\n",
      "3200번째 cost:8.00177257787027e-09, W:[1.000104], b:[0.9997645]\n",
      "3400번째 cost:3.0801838857286157e-09, W:[1.0000646], b:[0.99985385]\n",
      "3600번째 cost:1.2229529611218481e-09, W:[1.0000403], b:[0.99990773]\n",
      "3800번째 cost:4.5605000331683243e-10, W:[1.0000248], b:[0.99994373]\n",
      "4000번째 cost:1.8717589977956806e-10, W:[1.0000161], b:[0.99996394]\n",
      "4200번째 cost:8.531723244553646e-11, W:[1.000011], b:[0.99997586]\n",
      "4400번째 cost:5.328478283606053e-11, W:[1.0000087], b:[0.9999811]\n",
      "4600번째 cost:5.328478283606053e-11, W:[1.0000087], b:[0.9999811]\n",
      "4800번째 cost:5.328478283606053e-11, W:[1.0000087], b:[0.9999811]\n",
      "5000번째 cost:5.328478283606053e-11, W:[1.0000087], b:[0.9999811]\n"
     ]
    }
   ],
   "source": [
    "x = np.array([1,2,3])\n",
    "y = np.array([2,3,4])\n",
    "\n",
    "# weight와 bias(처음에는 랜덤값으로 세팅, 학습 과정에서 변경)\n",
    "# 독립변수가 많아지면 x가 여러개 y=w1+x1 + w2+x2 + b \n",
    "# 나타나야 할 종속 변수가 여러개면 bias(b)가 여러개 \n",
    "\n",
    "#W.b 값 세팅 (초기 랜던감 세팅-> 학습하면서 변경될 값)\n",
    "W = tf.Variable(tf.random.normal([1]), name='weight')\n",
    "b = tf.Variable(tf.random.normal([1]), name='bias')\n",
    "\n",
    "# Hypothesis :예측값 \n",
    "H = W*x + b\n",
    "# cost function(손실함수)\n",
    "cost = tf.reduce_mean(tf.square(H-y)) #H-y의 제곱의 평균 \n",
    "\n",
    "'''\n",
    "학습목적 : cost가 최소가 되는 W,b를 찾아내는 것\n",
    "cost는 2차함수이므로 곡선그래프로 출력. 곡선위 미분값이 줄어드는 방향으로 학습(경사하강) W,b 바꿔가는것\n",
    "=> GradientDescentOptimizer : 조금씩 이동하며 조정하는 최적화 도구\n",
    "'''\n",
    "optimizer = tf.train.GradientDescentOptimizer(learning_rate=0.01) # 0.01씩 W,b값을 이동하는것 (학습률)\n",
    "train = optimizer.minimize(cost) # cost라는 손실 함수를 최소화하도록 W, b 등의 값을 자동으로 업데이트하는 연산\n",
    "# Sesstion 생성\n",
    "sess = tf.Session()\n",
    "# W,b 값 변수 노드에 초기화\n",
    "sess.run(tf.global_variables_initializer())\n",
    "# 5000번 학습 (v2에서는 fit함수)\n",
    "for step in range(5001): #for문 5000번 수행\n",
    "    _, cost_val, W_val, b_val = sess.run([train, cost, W, b]) \n",
    "    #cost가 줄어드는지, W,b값은 어떤지 확인 필요 4개의 값을 4개에 각각 할당\n",
    "    if step%200 == 0:\n",
    "        print(\"{}번째 cost:{}, W:{}, b:{}\".format(step,\n",
    "                                                   cost_val,\n",
    "                                                   W_val,\n",
    "                                                   b_val))"
   ]
  },
  {
   "cell_type": "code",
   "execution_count": 47,
   "id": "6c6ab2a1",
   "metadata": {},
   "outputs": [
    {
     "data": {
      "text/plain": [
       "[array([1.0000087], dtype=float32), array([0.9999811], dtype=float32)]"
      ]
     },
     "execution_count": 47,
     "metadata": {},
     "output_type": "execute_result"
    }
   ],
   "source": [
    "# 최종적으로 나온 회귀식 : H = W*x + b\n",
    "sess.run([W,b])"
   ]
  },
  {
   "cell_type": "code",
   "execution_count": 48,
   "id": "552a082c",
   "metadata": {},
   "outputs": [
    {
     "name": "stdout",
     "output_type": "stream",
     "text": [
      "입력값은 ?2\n"
     ]
    }
   ],
   "source": [
    "input_x = int(input('입력값은 ?'))"
   ]
  },
  {
   "cell_type": "code",
   "execution_count": 51,
   "id": "67c47be4",
   "metadata": {},
   "outputs": [
    {
     "data": {
      "text/plain": [
       "(0.059985068, 0.9999811)"
      ]
     },
     "execution_count": 51,
     "metadata": {},
     "output_type": "execute_result"
    }
   ],
   "source": [
    "W_, b_ = sess.run([w,b])\n",
    "W_[0], b_[0]"
   ]
  },
  {
   "cell_type": "code",
   "execution_count": 54,
   "id": "c1acefbe",
   "metadata": {},
   "outputs": [],
   "source": [
    "def predict(x):\n",
    "    return W_[0]*x + b_[0]"
   ]
  },
  {
   "cell_type": "code",
   "execution_count": 55,
   "id": "f656d6e0",
   "metadata": {},
   "outputs": [
    {
     "name": "stdout",
     "output_type": "stream",
     "text": [
      "입력값은 ?3\n",
      "예측값은  1.179936308413744\n"
     ]
    }
   ],
   "source": [
    "input_x = int(input('입력값은 ?'))\n",
    "print('예측값은 ', predict(input_x))"
   ]
  },
  {
   "cell_type": "markdown",
   "id": "588f02e6",
   "metadata": {},
   "source": [
    "## 2.2 predict를 위한 placeholder이용\n",
    "- placeholder : tensorflow 외부에서 데이터를 입력받는 노드"
   ]
  },
  {
   "cell_type": "code",
   "execution_count": 59,
   "id": "838efb42",
   "metadata": {},
   "outputs": [
    {
     "data": {
      "text/plain": [
       "array([2., 3., 4.], dtype=float16)"
      ]
     },
     "execution_count": 59,
     "metadata": {},
     "output_type": "execute_result"
    }
   ],
   "source": [
    "# x = np.array([1,2,3])\n",
    "x = tf.placeholder(tf.float16)\n",
    "H = 1*x + 1  # x에는 값이 없고 외부에서 입력받을 예정\n",
    "sess = tf.Session()\n",
    "# sess = tf.Session(H) #x의 값을 받지못하여 에러 발생\n",
    "sess.run(H, feed_dict={x:5}) # feed_dict x의 기본값\n",
    "sess.run(H,feed_dict={x:np.array([1,2,3])})"
   ]
  },
  {
   "cell_type": "code",
   "execution_count": 68,
   "id": "1dde0d8c",
   "metadata": {},
   "outputs": [
    {
     "name": "stdout",
     "output_type": "stream",
     "text": [
      "0째 : cost:96.3122329711914, W:[1.1134888], b:[-0.8663117]\n",
      "200째 : cost:0.08035511523485184, W:[2.0964012], b:[0.48473704]\n",
      "400째 : cost:0.007903673686087132, W:[2.0302336], b:[0.83840215]\n",
      "600째 : cost:0.0007773888064548373, W:[2.009482], b:[0.9493192]\n",
      "800째 : cost:7.646755693713203e-05, W:[2.0029738], b:[0.98410505]\n",
      "1000째 : cost:7.520751296397066e-06, W:[2.0009327], b:[0.995015]\n",
      "1200째 : cost:7.399863761747838e-07, W:[2.0002928], b:[0.9984362]\n",
      "1400째 : cost:7.284230463255881e-08, W:[2.0000918], b:[0.99950933]\n",
      "1600째 : cost:7.177959560067393e-09, W:[2.0000286], b:[0.9998461]\n",
      "1800째 : cost:7.054950512674907e-10, W:[2.0000093], b:[0.99995154]\n",
      "2000째 : cost:8.29913915367797e-11, W:[2.0000033], b:[0.9999835]\n",
      "2200째 : cost:2.060005464821213e-11, W:[2.0000017], b:[0.99999213]\n",
      "2400째 : cost:2.060005464821213e-11, W:[2.0000017], b:[0.99999213]\n",
      "2600째 : cost:2.060005464821213e-11, W:[2.0000017], b:[0.99999213]\n",
      "2800째 : cost:2.060005464821213e-11, W:[2.0000017], b:[0.99999213]\n",
      "3000째 : cost:2.060005464821213e-11, W:[2.0000017], b:[0.99999213]\n",
      "3200째 : cost:2.060005464821213e-11, W:[2.0000017], b:[0.99999213]\n",
      "3400째 : cost:2.060005464821213e-11, W:[2.0000017], b:[0.99999213]\n",
      "3600째 : cost:2.060005464821213e-11, W:[2.0000017], b:[0.99999213]\n",
      "3800째 : cost:2.060005464821213e-11, W:[2.0000017], b:[0.99999213]\n",
      "4000째 : cost:2.060005464821213e-11, W:[2.0000017], b:[0.99999213]\n",
      "4200째 : cost:2.060005464821213e-11, W:[2.0000017], b:[0.99999213]\n",
      "4400째 : cost:2.060005464821213e-11, W:[2.0000017], b:[0.99999213]\n",
      "4600째 : cost:2.060005464821213e-11, W:[2.0000017], b:[0.99999213]\n",
      "4800째 : cost:2.060005464821213e-11, W:[2.0000017], b:[0.99999213]\n",
      "5000째 : cost:2.060005464821213e-11, W:[2.0000017], b:[0.99999213]\n"
     ]
    }
   ],
   "source": [
    "# H = 2x+1\n",
    "x_data = np.array([1,2,3,5,8])\n",
    "y_data = np.array([3,5,7,11,17])\n",
    "# tensor 그래프 \n",
    "\n",
    "# placeholder 설정 (입력변수 x, 타겟변수 y)\n",
    "x = tf.placeholder(dtype=tf.float32)\n",
    "y = tf.placeholder(dtype=tf.float32)\n",
    "# W,b\n",
    "W = tf.Variable(tf.random.normal([1]))\n",
    "b = tf.Variable(tf.random.normal([1]))\n",
    "# Hypothesis(예측값)\n",
    "H = W*x + b\n",
    "# 손실함수 \n",
    "cost = tf.reduce_mean(tf.square(H-y))\n",
    "# 결사하강법\n",
    "train = tf.train.GradientDescentOptimizer(learning_rate=0.01).minimize(cost)\n",
    "# Session 객체 생성\n",
    "sess = tf.Session()\n",
    "sess.run(tf.global_variables_initializer()) # W,b 초기화\n",
    "# 5000번 학습\n",
    "for step in range(5001):\n",
    "    _, cost_val, W_val, b_val = sess.run([train, cost, W, b], \n",
    "                                         feed_dict={x:x_data,\n",
    "                                                   y:y_data})\n",
    "    if step%200 == 0:\n",
    "        print('{}째 : cost:{}, W:{}, b:{}'.format(step,\n",
    "                                                 cost_val,\n",
    "                                                 W_val,\n",
    "                                                 b_val\n",
    "        ))"
   ]
  },
  {
   "cell_type": "code",
   "execution_count": 69,
   "id": "34341308",
   "metadata": {},
   "outputs": [
    {
     "data": {
      "text/plain": [
       "array([11.000001], dtype=float32)"
      ]
     },
     "execution_count": 69,
     "metadata": {},
     "output_type": "execute_result"
    }
   ],
   "source": [
    "# 예측하기 \n",
    "sess.run(H, feed_dict={x:5})"
   ]
  },
  {
   "cell_type": "code",
   "execution_count": 70,
   "id": "47de0ce1",
   "metadata": {},
   "outputs": [
    {
     "data": {
      "text/plain": [
       "array([11.000001, 13.000002, 15.000004], dtype=float32)"
      ]
     },
     "execution_count": 70,
     "metadata": {},
     "output_type": "execute_result"
    }
   ],
   "source": [
    "sess.run(H, feed_dict={x:np.array([5,6,7])})"
   ]
  },
  {
   "cell_type": "markdown",
   "id": "4cce0e83",
   "metadata": {},
   "source": [
    "## 2.3 scale이 다른 데이터의 linear regression 구현(scale조정X)"
   ]
  },
  {
   "cell_type": "code",
   "execution_count": 74,
   "id": "f001fe23",
   "metadata": {},
   "outputs": [
    {
     "name": "stdout",
     "output_type": "stream",
     "text": [
      "0째 : cost:3127.116943359375, W:[7.6668563], b:[1.1552657]\n",
      "200째 : cost:282.7760314941406, W:[9.374769], b:[6.612168]\n",
      "400째 : cost:281.80609130859375, W:[9.200927], b:[7.888951]\n",
      "600째 : cost:281.74603271484375, W:[9.157654], b:[8.206768]\n",
      "800째 : cost:281.7423095703125, W:[9.146882], b:[8.285881]\n",
      "1000째 : cost:281.7420654296875, W:[9.144201], b:[8.305573]\n",
      "1200째 : cost:281.74200439453125, W:[9.143534], b:[8.310477]\n",
      "1400째 : cost:281.7420349121094, W:[9.143368], b:[8.311695]\n",
      "1600째 : cost:281.74200439453125, W:[9.143327], b:[8.311997]\n",
      "1800째 : cost:281.74200439453125, W:[9.143323], b:[8.312025]\n",
      "2000째 : cost:281.74200439453125, W:[9.143323], b:[8.312025]\n",
      "2200째 : cost:281.74200439453125, W:[9.143323], b:[8.312025]\n",
      "2400째 : cost:281.74200439453125, W:[9.143323], b:[8.312025]\n",
      "2600째 : cost:281.74200439453125, W:[9.143323], b:[8.312025]\n",
      "2800째 : cost:281.74200439453125, W:[9.143323], b:[8.312025]\n",
      "3000째 : cost:281.74200439453125, W:[9.143323], b:[8.312025]\n"
     ]
    }
   ],
   "source": [
    "x_data = np.array([1,2,3,8,10])\n",
    "y_data = np.array([3,15,68,80,95])\n",
    "\n",
    "# placeholder 설정 (입력변수 x, 타겟변수 y)\n",
    "x = tf.placeholder(dtype=tf.float32)\n",
    "y = tf.placeholder(dtype=tf.float32)\n",
    "# W,b\n",
    "W = tf.Variable(tf.random.normal([1]))\n",
    "b = tf.Variable(tf.random.normal([1]))\n",
    "# Hypothesis(예측값)\n",
    "H = W*x + b\n",
    "# 손실함수 \n",
    "cost = tf.reduce_mean(tf.square(H-y))\n",
    "# 결사하강법\n",
    "train = tf.train.GradientDescentOptimizer(learning_rate=0.01).minimize(cost)\n",
    "# Session 객체 생성\n",
    "sess = tf.Session()\n",
    "sess.run(tf.global_variables_initializer()) # W,b 초기화\n",
    "# 3000번 학습\n",
    "for step in range(3001):\n",
    "    _, cost_val, W_val, b_val = sess.run([train, cost, W, b], \n",
    "                                         feed_dict={x:x_data,\n",
    "                                                   y:y_data})\n",
    "    if step%200 == 0:\n",
    "        print('{}째 : cost:{}, W:{}, b:{}'.format(step,\n",
    "                                                 cost_val,\n",
    "                                                 W_val,\n",
    "                                                 b_val\n",
    "        ))"
   ]
  },
  {
   "cell_type": "code",
   "execution_count": 75,
   "id": "4a119d86",
   "metadata": {},
   "outputs": [],
   "source": [
    "# cost값이 멈추는 이유는 local Minima에 빠져서 벗어나질 못함 / gloval Minima를 구해야 하는데 못 함"
   ]
  },
  {
   "cell_type": "markdown",
   "id": "dc16f35c",
   "metadata": {},
   "source": [
    "## 2.4 scale이 다른 데이터의 linear regression을 구현 (scale 조정O)\n",
    "### scale을 맞추기 : 모든 데이터를 일정 범위내로 조정\n",
    "- nomalization(정규화) : 0~1 사이로 조정\n",
    "                           X - Xmin\n",
    "        nomalization = ────────\n",
    "                          Xmax - Xmin\n",
    "            *위의 식을 써도 되지만 라이브러리를 씀 (sklearn.preprocessing.MinMaxScaler이용)\n",
    "\n",
    "- standardization(표준화) : 평균 0, 표준편차 1로 조정 \n",
    "                            X - Xmean(평균)\n",
    "        standardization = ──────────\n",
    "                             Xstd(표준편차)  \n",
    "            *위의 식을 써도 되지만 라이브러리를 쓰 (sklearn,preprocessing.StandardScaler이용)"
   ]
  },
  {
   "cell_type": "code",
   "execution_count": 131,
   "id": "19b95277",
   "metadata": {},
   "outputs": [
    {
     "name": "stdout",
     "output_type": "stream",
     "text": [
      "[0.         0.11111111 0.44444444 0.77777778 1.        ]\n",
      "[0.         0.13043478 0.70652174 0.83695652 1.        ]\n"
     ]
    }
   ],
   "source": [
    "# 라이브러리를 쓰지 않고 정규화 작업 (0~1사이로 작업)\n",
    "x_data = np.array([1,2,5,8,10])\n",
    "y_data = np.array([3,15,68,80,95])\n",
    "scaled_x_data = (x_data - x_data.min()) / (x_data.max()-x_data.min())\n",
    "scaled_y_data = (y_data - y_data.min()) / (y_data.max()- y_data.min())\n",
    "print(scaled_x_data)\n",
    "print(scaled_y_data)\n",
    "# y - ymin / (ymax- ymin) = pre\n",
    "# y = pre* (tmax- ymin) + ymin "
   ]
  },
  {
   "cell_type": "code",
   "execution_count": 136,
   "id": "ac43ee00",
   "metadata": {},
   "outputs": [
    {
     "data": {
      "text/plain": [
       "array([[ 1.        ,  3.        ,  0.        ,  0.        ],\n",
       "       [ 2.        , 15.        ,  0.11111111,  0.13043478],\n",
       "       [ 5.        , 68.        ,  0.44444444,  0.70652174],\n",
       "       [ 8.        , 80.        ,  0.77777778,  0.83695652],\n",
       "       [10.        , 95.        ,  1.        ,  1.        ]])"
      ]
     },
     "execution_count": 136,
     "metadata": {},
     "output_type": "execute_result"
    }
   ],
   "source": [
    "# 라이브러리를 쓰고 정규화 (MinMaxScaler이용) - 라이브러리를 쓰기 위해 2차원으로 만들어야 함(reshape)\n",
    "x_data = np.array([1,2,5,8,10]).reshape(-1,1)\n",
    "y_data = np.array([3,15,68,80,95]).reshape(-1,1)\n",
    "np.column_stack([x_data, y_data]) #독립변수, 타겟변수로 만들기 \n",
    "from sklearn.preprocessing import MinMaxScaler\n",
    "scaler_x = MinMaxScaler()  #x_data를 정규화시킬 객체 / 두개는 따로 만들어야 함\n",
    "# scaler_x.fit(x_data)\n",
    "# scaler_x_data = scaled_x.transform(x_data)\n",
    "scaled_x_data = scaler_x.fit_transform(x_data)\n",
    "scaled_x_data\n",
    "scaler_y = MinMaxScaler() #y_data를 정규화 시킬 객체\n",
    "scaled_y_data = scaler_y.fit_transform(y_data)\n",
    "np.column_stack([x_data, y_data, scaled_x_data, scaled_y_data])"
   ]
  },
  {
   "cell_type": "code",
   "execution_count": 137,
   "id": "52a691ba",
   "metadata": {},
   "outputs": [
    {
     "name": "stdout",
     "output_type": "stream",
     "text": [
      "0째 : cost:3.0997633934020996, W:[-0.9831988], b:[-0.58754915]\n",
      "600째 : cost:0.3388689160346985, W:[-0.2690252], b:[0.35785475]\n",
      "1200째 : cost:0.1582193374633789, W:[-0.00081126], b:[0.5119975]\n",
      "1800째 : cost:0.11701371520757675, W:[0.15350921], b:[0.496647]\n",
      "2400째 : cost:0.09062915295362473, W:[0.27005038], b:[0.44988802]\n",
      "3000째 : cost:0.0709182545542717, W:[0.36744136], b:[0.40175655]\n",
      "3600째 : cost:0.056026678532361984, W:[0.45124438], b:[0.35823318]\n",
      "4200째 : cost:0.04476763680577278, W:[0.52391744], b:[0.32001376]\n",
      "4800째 : cost:0.0362546443939209, W:[0.5870656], b:[0.28669667]\n",
      "5400째 : cost:0.02981794811785221, W:[0.64196557], b:[0.25770736]\n",
      "6000째 : cost:0.02495112642645836, W:[0.68970126], b:[0.23249574]\n",
      "6600째 : cost:0.021271271631121635, W:[0.7312093], b:[0.21057223]\n",
      "7200째 : cost:0.018488897010684013, W:[0.7673024], b:[0.19150841]\n",
      "7800째 : cost:0.016385145485401154, W:[0.7986867], b:[0.1749316]\n",
      "8400째 : cost:0.01479448564350605, W:[0.82597667], b:[0.16051741]\n",
      "9000째 : cost:0.013591784052550793, W:[0.84970635], b:[0.1479836]\n",
      "9600째 : cost:0.012682408094406128, W:[0.8703405], b:[0.13708498]\n",
      "10200째 : cost:0.011994821019470692, W:[0.88828295], b:[0.12760806]\n",
      "10800째 : cost:0.011474937200546265, W:[0.90388453], b:[0.11936747]\n",
      "11400째 : cost:0.011081850156188011, W:[0.9174506], b:[0.11220195]\n",
      "12000째 : cost:0.010784638114273548, W:[0.9292469], b:[0.10597128]\n"
     ]
    }
   ],
   "source": [
    "# placeholder 설정 (입력변수 x, 타겟변수 y)\n",
    "x = tf.placeholder(dtype=tf.float32)\n",
    "y = tf.placeholder(dtype=tf.float32)\n",
    "# W,b\n",
    "W = tf.Variable(tf.random.normal([1])) # 초기화\n",
    "b = tf.Variable(tf.random.normal([1])) # 초기화\n",
    "# Hypothesis(예측값)\n",
    "H = W*x + b\n",
    "# 손실함수 \n",
    "cost = tf.reduce_mean(tf.square(H-y))\n",
    "# 결사하강법\n",
    "train = tf.train.GradientDescentOptimizer(learning_rate=0.001).minimize(cost)\n",
    "# Session 객체 생성\n",
    "sess = tf.Session()\n",
    "sess.run(tf.global_variables_initializer()) # W,b 초기화\n",
    "# 12000번 학습\n",
    "for step in range(12001):\n",
    "    _, cost_val, W_val, b_val = sess.run([train, cost, W, b], \n",
    "                                         feed_dict={x:scaled_x_data,\n",
    "                                                   y:scaled_y_data})\n",
    "    if step%600 == 0:\n",
    "        print('{}째 : cost:{}, W:{}, b:{}'.format(step,\n",
    "                                                 cost_val,\n",
    "                                                 W_val,\n",
    "                                                 b_val\n",
    "        ))"
   ]
  },
  {
   "cell_type": "code",
   "execution_count": 128,
   "id": "5046aab2",
   "metadata": {},
   "outputs": [
    {
     "name": "stdout",
     "output_type": "stream",
     "text": [
      "모델 예측을 위한 입력 :\n",
      "[[0.11111111]\n",
      " [0.22222222]]\n",
      "모델 예측 결과 :\n",
      "[[0.53478575]\n",
      " [0.5347852 ]]\n",
      "결과\n",
      "[[52.200287]\n",
      " [52.200237]]\n"
     ]
    }
   ],
   "source": [
    "# 예측  : 특정한 값의 예측값 / 모델에 scale 조정된 값으로 예측 -> scale 조정된 y값         \n",
    "scaled_input = scaler_x.transform(np.array([[2],\n",
    "                                            [3]]))\n",
    "print('모델 예측을 위한 입력 :',scaled_input, sep='\\n')\n",
    "# scaled_input \n",
    "scaled_output = sess.run(H, feed_dict={x:scaled_input})\n",
    "print('모델 예측 결과 :',scaled_output, sep='\\n')\n",
    "print('결과', scaler_y.inverse_transform(scaled_output), sep='\\n')"
   ]
  },
  {
   "cell_type": "code",
   "execution_count": 138,
   "id": "2ea91baa",
   "metadata": {},
   "outputs": [],
   "source": [
    "# 예측 : x_data들의 예측값\n",
    "scaler_y_hat = sess.run(H, feed_dict={x:scaled_x_data})\n",
    "y_hat = scaler_y.inverse_transform(scaler_y_hat)\n",
    "# scaler_y_hat\n",
    "# scaled_x_data"
   ]
  },
  {
   "cell_type": "code",
   "execution_count": 139,
   "id": "38125b63",
   "metadata": {},
   "outputs": [
    {
     "data": {
      "image/png": "[encoded data removed]",
      "text/plain": [
       "<Figure size 640x480 with 1 Axes>"
      ]
     },
     "metadata": {},
     "output_type": "display_data"
    }
   ],
   "source": [
    "import matplotlib.pyplot as plt\n",
    "plt.plot(x_data, y_data, 'r')\n",
    "plt.plot(x_data, y_hat, 'b')\n",
    "plt.show()"
   ]
  },
  {
   "cell_type": "code",
   "execution_count": 140,
   "id": "e4ace727",
   "metadata": {},
   "outputs": [
    {
     "name": "stdout",
     "output_type": "stream",
     "text": [
      "[[ 1  3]\n",
      " [ 2 15]\n",
      " [ 5 68]\n",
      " [ 8 80]\n",
      " [10 95]]\n",
      "[[-1.22474487 -1.34819316]\n",
      " [-0.93313895 -1.01936556]\n",
      " [-0.05832118  0.43295634]\n",
      " [ 0.81649658  0.76178394]\n",
      " [ 1.39970842  1.17281844]]\n"
     ]
    }
   ],
   "source": [
    "# 라이브러리를 사용하여 표준화(StandardScaler이용) / -3에서 3사이로 눌러짐\n",
    "x_data = np.array([1,2,5,8,10]).reshape(-1,1)\n",
    "y_data = np.array([3,15,68,80,95]).reshape(-1,1)\n",
    "\n",
    "from sklearn.preprocessing import StandardScaler\n",
    "scaler_x = StandardScaler() #x_data를 표준화할 객체 \n",
    "scaler_y = StandardScaler() #y_data를 표준화할 객체\n",
    "scaled_x_data = scaler_x.fit_transform(x_data)\n",
    "scaled_y_data = scaler_y.fit_transform(y_data)\n",
    "print(np.column_stack([x_data, y_data]))\n",
    "print(np.column_stack([scaled_x_data, scaled_y_data]))\n",
    "\n"
   ]
  },
  {
   "cell_type": "code",
   "execution_count": 141,
   "id": "105bff9d",
   "metadata": {},
   "outputs": [
    {
     "name": "stdout",
     "output_type": "stream",
     "text": [
      "0째 : cost:1.494888424873352, W:[0.90654826], b:[-1.1927636]\n",
      "600째 : cost:0.19230052828788757, W:[0.94961816], b:[-0.35882232]\n",
      "1200째 : cost:0.0744158923625946, W:[0.962575], b:[-0.10794555]\n",
      "1800째 : cost:0.06374727934598923, W:[0.96647286], b:[-0.03247348]\n",
      "2400째 : cost:0.06278176605701447, W:[0.9676454], b:[-0.00976907]\n",
      "3000째 : cost:0.06269439309835434, W:[0.9679977], b:[-0.00293885]\n",
      "3600째 : cost:0.0626864805817604, W:[0.968105], b:[-0.00088409]\n",
      "4200째 : cost:0.0626857727766037, W:[0.96813506], b:[-0.00026595]\n",
      "4800째 : cost:0.06268570572137833, W:[0.96813506], b:[-7.998711e-05]\n",
      "5400째 : cost:0.06268569082021713, W:[0.96813506], b:[-2.4044126e-05]\n",
      "6000째 : cost:0.06268568336963654, W:[0.96813506], b:[-7.2144758e-06]\n",
      "6600째 : cost:0.06268569827079773, W:[0.96813506], b:[-2.1517403e-06]\n",
      "7200째 : cost:0.06268570572137833, W:[0.96813506], b:[-6.285987e-07]\n",
      "7800째 : cost:0.06268569082021713, W:[0.96813506], b:[-1.6907005e-07]\n",
      "8400째 : cost:0.06268569827079773, W:[0.96813506], b:[-3.6144623e-08]\n",
      "9000째 : cost:0.06268569082021713, W:[0.96813506], b:[4.5206483e-09]\n",
      "9600째 : cost:0.06268569082021713, W:[0.96813506], b:[2.6872655e-08]\n",
      "10200째 : cost:0.06268569827079773, W:[0.96813506], b:[2.9823152e-08]\n",
      "10800째 : cost:0.06268569827079773, W:[0.96813506], b:[2.98008e-08]\n",
      "11400째 : cost:0.06268569082021713, W:[0.96813506], b:[2.9830602e-08]\n",
      "12000째 : cost:0.06268569827079773, W:[0.96813506], b:[2.9808252e-08]\n"
     ]
    }
   ],
   "source": [
    "# placeholder 설정 (입력변수 x, 타겟변수 y)\n",
    "x = tf.placeholder(dtype=tf.float32)\n",
    "y = tf.placeholder(dtype=tf.float32)\n",
    "# W,b\n",
    "W = tf.Variable(tf.random.normal([1])) # 초기화\n",
    "b = tf.Variable(tf.random.normal([1])) # 초기화\n",
    "# Hypothesis(예측값)\n",
    "H = W*x + b\n",
    "# 손실함수 \n",
    "cost = tf.reduce_mean(tf.square(H-y))\n",
    "# 결사하강법\n",
    "train = tf.train.GradientDescentOptimizer(learning_rate=0.001).minimize(cost)\n",
    "# Session 객체 생성\n",
    "sess = tf.Session()\n",
    "sess.run(tf.global_variables_initializer()) # W,b 초기화\n",
    "# 12000번 학습\n",
    "for step in range(12001):\n",
    "    _, cost_val, W_val, b_val = sess.run([train, cost, W, b], \n",
    "                                         feed_dict={x:scaled_x_data,\n",
    "                                                   y:scaled_y_data})\n",
    "    if step%600 == 0:\n",
    "        print('{}째 : cost:{}, W:{}, b:{}'.format(step,\n",
    "                                                 cost_val,\n",
    "                                                 W_val,\n",
    "                                                 b_val\n",
    "        ))"
   ]
  },
  {
   "cell_type": "code",
   "execution_count": 143,
   "id": "c7b81b30",
   "metadata": {},
   "outputs": [
    {
     "data": {
      "image/png": "[encoded data removed]",
      "text/plain": [
       "<Figure size 640x480 with 1 Axes>"
      ]
     },
     "metadata": {},
     "output_type": "display_data"
    }
   ],
   "source": [
    "# 예측 : x_data들의 예측값\n",
    "scaled_y_hat = sess.run(H, feed_dict={x:scaled_x_data})\n",
    "y_hat = scaler_y.inverse_transform(scaled_y_hat)\n",
    "import matplotlib.pyplot as plt\n",
    "plt.plot(x_data, y_data, 'r')\n",
    "plt.plot(x_data, y_hat, 'b')\n",
    "plt.show()"
   ]
  },
  {
   "cell_type": "markdown",
   "id": "c1d1622a",
   "metadata": {},
   "source": [
    "## 2.5 입력(독립)변수 x가 3개, 타겟(종속)변수 y가 1개 (csv->array로 가져오기)"
   ]
  },
  {
   "cell_type": "code",
   "execution_count": 8,
   "id": "294fabd9",
   "metadata": {},
   "outputs": [
    {
     "data": {
      "text/plain": [
       "array([[ 41. , 190. ,   7.4,  67. ,   5. ,   1. ],\n",
       "       [ 36. , 118. ,   8. ,  72. ,   5. ,   2. ],\n",
       "       [ 12. , 149. ,  12.6,  74. ,   5. ,   3. ],\n",
       "       [ 18. , 313. ,  11.5,  62. ,   5. ,   4. ],\n",
       "       [  nan,   nan,  14.3,  56. ,   5. ,   5. ]])"
      ]
     },
     "execution_count": 8,
     "metadata": {},
     "output_type": "execute_result"
    }
   ],
   "source": [
    "# 방법1. csv - > array 배열로 바로 가지고 오는 함수 사용\n",
    "import numpy as np\n",
    "# data = np.loadtxt('data/pima-indians-diabetes.csv', delimiter=',', encoding='utf-8') # 결측치와 header가 없어야 loadtxt 함수를 쓸 수 있음\n",
    "# 헤더가 있어서 ozone data는 loadtxt 함수 사용이 불가\n",
    "data = np.genfromtxt('data/ozone.csv',\n",
    "                      delimiter=',',\n",
    "                      skip_header=1,\n",
    "                      missing_values='NA',\n",
    "                      filling_values=np.nan)\n",
    "data[:5] # 결측치가 있는 data로 방법1은 비추 "
   ]
  },
  {
   "cell_type": "code",
   "execution_count": 13,
   "id": "de35d57f",
   "metadata": {},
   "outputs": [
    {
     "name": "stdout",
     "output_type": "stream",
     "text": [
      "<class 'pandas.core.frame.DataFrame'>\n",
      "RangeIndex: 153 entries, 0 to 152\n",
      "Data columns (total 6 columns):\n",
      " #   Column   Non-Null Count  Dtype  \n",
      "---  ------   --------------  -----  \n",
      " 0   Ozone    116 non-null    float64\n",
      " 1   Solar.R  146 non-null    float64\n",
      " 2   Wind     153 non-null    float64\n",
      " 3   Temp     153 non-null    int64  \n",
      " 4   Month    153 non-null    int64  \n",
      " 5   Day      153 non-null    int64  \n",
      "dtypes: float64(3), int64(3)\n",
      "memory usage: 7.3 KB\n"
     ]
    },
    {
     "data": {
      "text/plain": [
       "Ozone      37\n",
       "Solar.R     7\n",
       "Wind        0\n",
       "Temp        0\n",
       "Month       0\n",
       "Day         0\n",
       "dtype: int64"
      ]
     },
     "execution_count": 13,
     "metadata": {},
     "output_type": "execute_result"
    }
   ],
   "source": [
    "# 방법 2. csv 파일 -> 데이터 프레임 -> 결측치 처리 -> 넘파이 배열 (.values)-> 머신러닝\n",
    "# 1. csv를 데이터프레임으로 읽기\n",
    "import pandas as pd\n",
    "data = pd.read_csv('data/ozone.csv')\n",
    "data.info()   # Ozone,Solar.R 열만 결측치 있음을 확인\n",
    "data.isna().sum() # 열별 결측치 갯수 구하기"
   ]
  },
  {
   "cell_type": "code",
   "execution_count": 23,
   "id": "dc6fc727",
   "metadata": {},
   "outputs": [
    {
     "data": {
      "text/html": [
       "<div>\n",
       "<style scoped>\n",
       "    .dataframe tbody tr th:only-of-type {\n",
       "        vertical-align: middle;\n",
       "    }\n",
       "\n",
       "    .dataframe tbody tr th {\n",
       "        vertical-align: top;\n",
       "    }\n",
       "\n",
       "    .dataframe thead th {\n",
       "        text-align: right;\n",
       "    }\n",
       "</style>\n",
       "<table border=\"1\" class=\"dataframe\">\n",
       "  <thead>\n",
       "    <tr style=\"text-align: right;\">\n",
       "      <th></th>\n",
       "      <th>Ozone</th>\n",
       "      <th>Solar.R</th>\n",
       "    </tr>\n",
       "    <tr>\n",
       "      <th>Month</th>\n",
       "      <th></th>\n",
       "      <th></th>\n",
       "    </tr>\n",
       "  </thead>\n",
       "  <tbody>\n",
       "    <tr>\n",
       "      <th>5</th>\n",
       "      <td>23.615385</td>\n",
       "      <td>181.296296</td>\n",
       "    </tr>\n",
       "    <tr>\n",
       "      <th>6</th>\n",
       "      <td>29.444444</td>\n",
       "      <td>190.166667</td>\n",
       "    </tr>\n",
       "    <tr>\n",
       "      <th>7</th>\n",
       "      <td>59.115385</td>\n",
       "      <td>216.483871</td>\n",
       "    </tr>\n",
       "    <tr>\n",
       "      <th>8</th>\n",
       "      <td>59.961538</td>\n",
       "      <td>171.857143</td>\n",
       "    </tr>\n",
       "    <tr>\n",
       "      <th>9</th>\n",
       "      <td>31.448276</td>\n",
       "      <td>167.433333</td>\n",
       "    </tr>\n",
       "  </tbody>\n",
       "</table>\n",
       "</div>"
      ],
      "text/plain": [
       "           Ozone     Solar.R\n",
       "Month                       \n",
       "5      23.615385  181.296296\n",
       "6      29.444444  190.166667\n",
       "7      59.115385  216.483871\n",
       "8      59.961538  171.857143\n",
       "9      31.448276  167.433333"
      ]
     },
     "metadata": {},
     "output_type": "display_data"
    },
    {
     "name": "stdout",
     "output_type": "stream",
     "text": [
      "5월에 Ozone으로 대체할 값 : 23.615384615384617\n"
     ]
    }
   ],
   "source": [
    "# 2. 결측치 처리 ()\n",
    "# 2-1.결측치 처리 방법 1 : 결측치가 있는 행을 제거\n",
    "# data.dropna(how='any', axis=0)  #데이터에 결측치가 있으면 지우기\n",
    "\n",
    "# 2-2.결측치 처리 방법 2 : 결측치를 대체(열별 평균값으로 대체)\n",
    "data.mean() # 열별 평균값 \n",
    "# data.fillna(value=data.mean())\n",
    "\n",
    "# 2-3.결측치 처리 방법 3 : 결측치 대체(월별,열별 평균값으로 대체) groupby, tivo_table\n",
    "mean_data = data.groupby('Month')[['Ozone', 'Solar.R']].mean()\n",
    "mean_data\n",
    "display(mean_data)\n",
    "print('5월에 Ozone으로 대체할 값 :', mean_data.loc[5,'Ozone'])"
   ]
  },
  {
   "cell_type": "code",
   "execution_count": 27,
   "id": "1269de11",
   "metadata": {},
   "outputs": [
    {
     "data": {
      "text/html": [
       "<div>\n",
       "<style scoped>\n",
       "    .dataframe tbody tr th:only-of-type {\n",
       "        vertical-align: middle;\n",
       "    }\n",
       "\n",
       "    .dataframe tbody tr th {\n",
       "        vertical-align: top;\n",
       "    }\n",
       "\n",
       "    .dataframe thead th {\n",
       "        text-align: right;\n",
       "    }\n",
       "</style>\n",
       "<table border=\"1\" class=\"dataframe\">\n",
       "  <thead>\n",
       "    <tr style=\"text-align: right;\">\n",
       "      <th></th>\n",
       "      <th>Ozone</th>\n",
       "      <th>Solar.R</th>\n",
       "      <th>Wind</th>\n",
       "      <th>Temp</th>\n",
       "      <th>Month</th>\n",
       "      <th>Day</th>\n",
       "    </tr>\n",
       "  </thead>\n",
       "  <tbody>\n",
       "    <tr>\n",
       "      <th>4</th>\n",
       "      <td>NaN</td>\n",
       "      <td>NaN</td>\n",
       "      <td>14.3</td>\n",
       "      <td>56</td>\n",
       "      <td>5</td>\n",
       "      <td>5</td>\n",
       "    </tr>\n",
       "  </tbody>\n",
       "</table>\n",
       "</div>"
      ],
      "text/plain": [
       "   Ozone  Solar.R  Wind  Temp  Month  Day\n",
       "4    NaN      NaN  14.3    56      5    5"
      ]
     },
     "execution_count": 27,
     "metadata": {},
     "output_type": "execute_result"
    }
   ],
   "source": [
    "# 결측치가 있는 데이터 \n",
    "data[data['Ozone'].isna() | data['Solar.R'].isna()].head(1)"
   ]
  },
  {
   "cell_type": "code",
   "execution_count": 43,
   "id": "4ba69e52",
   "metadata": {},
   "outputs": [
    {
     "data": {
      "text/plain": [
       "Ozone       23.615385\n",
       "Solar.R    181.296296\n",
       "Wind        14.300000\n",
       "Temp        56.000000\n",
       "Month        5.000000\n",
       "Day          5.000000\n",
       "Name: 4, dtype: float64"
      ]
     },
     "execution_count": 43,
     "metadata": {},
     "output_type": "execute_result"
    }
   ],
   "source": [
    "import pandas as pd\n",
    "def fill_nan(row):\n",
    "    pd.options.mode.copy_on_write = True\n",
    "#     print(row['Ozone'], row['Solar.R'])\n",
    "#     print(row.isna())\n",
    "    'row[\"Ozone\"]이나 row[\"Solar.R\"]가 결측치이면 mean_data[월,열이름]으로 대체'\n",
    "#     if np.isna(row['Ozone']) : # 매게변수안이 true이면 결측치 \n",
    "#         pd.options.mode.copy_on_write = True 이걸 추천\n",
    "#     row = row.copy()\n",
    "    if row.isna()['Ozone']: #Ozone이 결측치이냐?\n",
    "        row['Ozone'] = mean_data.loc[row.Month,'Ozone']\n",
    "    if row.isna()['Solar.R']:\n",
    "        row['Solar.R'] = mean_data.loc[row['Month'], 'Solar.R']\n",
    "    return row\n",
    "fill_nan(data.iloc[4])"
   ]
  },
  {
   "cell_type": "code",
   "execution_count": 47,
   "id": "b4b10ebb",
   "metadata": {},
   "outputs": [
    {
     "data": {
      "text/plain": [
       "((153, 3), (153, 1))"
      ]
     },
     "execution_count": 47,
     "metadata": {},
     "output_type": "execute_result"
    }
   ],
   "source": [
    "data = data.apply(fill_nan, axis=1)\n",
    "X_data = data[['Solar.R','Wind','Temp']].values  # 독립변수 \n",
    "y_data = data[['Ozone']].values                  # 타겟변수 \n",
    "X_data.shape, y_data.shape\n"
   ]
  },
  {
   "cell_type": "code",
   "execution_count": 54,
   "id": "0341d9f7",
   "metadata": {},
   "outputs": [
    {
     "name": "stdout",
     "output_type": "stream",
     "text": [
      "1000번째 cost:660.9976806640625\n",
      "2000번째 cost:561.6625366210938\n",
      "3000번째 cost:511.86505126953125\n",
      "4000번째 cost:486.8992614746094\n",
      "5000번째 cost:474.3805236816406\n",
      "6000번째 cost:468.10089111328125\n",
      "7000번째 cost:464.9488220214844\n",
      "8000번째 cost:463.3644714355469\n",
      "9000번째 cost:462.56591796875\n",
      "10000번째 cost:462.16131591796875\n",
      "11000번째 cost:461.95404052734375\n",
      "12000번째 cost:461.84588623046875\n",
      "13000번째 cost:461.7873840332031\n",
      "14000번째 cost:461.753662109375\n",
      "15000번째 cost:461.732421875\n",
      "16000번째 cost:461.7174072265625\n",
      "17000번째 cost:461.70556640625\n",
      "18000번째 cost:461.69525146484375\n",
      "19000번째 cost:461.6858215332031\n",
      "20000번째 cost:461.6766662597656\n",
      "최종 cost:461.6766662597656, W:[[ 0.05533265]\n",
      " [-3.5756698 ]\n",
      " [ 0.86516976]], b:[-0.7239311]\n"
     ]
    }
   ],
   "source": [
    "# tensorflow 구현\n",
    "# 1. X, y\n",
    "X = tf.placeholder(shape=[None,3], dtype=tf.float32) # 몇행인지 상관없이 3열을 가지고 온다...\n",
    "y = tf.placeholder(shape=[None,1], dtype=tf.float32) \n",
    "\n",
    "# 2.독립변수 3개, 타겟변수 1개인 모델의 weight, bias\n",
    "W = tf.Variable(tf.random.normal([3,1])) # 독립변수 갯수(3), 종속변수 갯수(1)\n",
    "b = tf.Variable(tf.random.normal([1])) # y의 값이 1개 이기에 1로 \n",
    "\n",
    "# 3. Hypothesis : 예측값\n",
    "# 행렬 계산\n",
    "# H = X@W + b\n",
    "H = tf.matmul(X,W) + b # matmul 행렬계산해주는 함수\n",
    "\n",
    "# 4. cost : 손실함수\n",
    "cost = tf.reduce_mean(tf.square(H-y))\n",
    "\n",
    "# 5. train \n",
    "train = tf.train.GradientDescentOptimizer(learning_rate=1e-5).minimize(cost)\n",
    "# cost가 줄어드는 방향으로 조금씩 이동하여 조정\n",
    "\n",
    "# sess 객체 생성\n",
    "sess = tf.Session()\n",
    "sess.run(tf.global_variables_initializer()) # 초기화\n",
    "\n",
    "# 6. 학습\n",
    "for step in range(1, 20001):\n",
    "    _,cost_val = sess.run([train, cost], \n",
    "                             feed_dict={X:X_data, \n",
    "                                        y:y_data})\n",
    "    if step%1000 == 0 :\n",
    "        print(\"{}번째 cost:{}\".format(step, cost_val))\n",
    "print('최종 cost:{}, W:{}, b:{}'.format(cost_val, sess.run(W),sess.run(b)))"
   ]
  },
  {
   "cell_type": "code",
   "execution_count": 77,
   "id": "31b372e0",
   "metadata": {},
   "outputs": [
    {
     "data": {
      "text/plain": [
       "array([[-96.703674]], dtype=float32)"
      ]
     },
     "execution_count": 77,
     "metadata": {},
     "output_type": "execute_result"
    }
   ],
   "source": [
    "# 예측하기\n",
    "input_data = np.array([[118., 8., 72.]]) #2차원으로 넣어야 함 \n",
    "# X_data[0],y_data[0]\n",
    "sess.run(H, feed_dict={X:input_data})"
   ]
  },
  {
   "cell_type": "markdown",
   "id": "8b530c89",
   "metadata": {},
   "source": [
    "### 스케일 조정\n",
    "- MinMaxScaler(0~1), StandardScaler (0근처 : -1 ~ 1 이나 -2 ~ 2 사이의 값 설정. 주로 0 근처로 설정)"
   ]
  },
  {
   "cell_type": "code",
   "execution_count": 69,
   "id": "7ff7bdf8",
   "metadata": {},
   "outputs": [
    {
     "data": {
      "text/plain": [
       "((153, 3), (153, 1))"
      ]
     },
     "execution_count": 69,
     "metadata": {},
     "output_type": "execute_result"
    }
   ],
   "source": [
    "from sklearn.preprocessing import MinMaxScaler\n",
    "x_scaler = MinMaxScaler()\n",
    "y_scaler = MinMaxScaler()\n",
    "scaled_X_data = x_scaler.fit_transform(X_data)\n",
    "scaled_y_data = y_scaler.fit_transform(y_data)\n",
    "scaled_X_data.shape, scaled_y_data.shape"
   ]
  },
  {
   "cell_type": "code",
   "execution_count": 71,
   "id": "a914e53f",
   "metadata": {},
   "outputs": [
    {
     "data": {
      "text/plain": [
       "array([[0.55963303, 0.3       , 0.26829268, 0.23952096],\n",
       "       [0.33944954, 0.33157895, 0.3902439 , 0.20958084]])"
      ]
     },
     "execution_count": 71,
     "metadata": {},
     "output_type": "execute_result"
    }
   ],
   "source": [
    "np.column_stack([scaled_X_data, scaled_y_data])[:2]"
   ]
  },
  {
   "cell_type": "code",
   "execution_count": 102,
   "id": "c7df9016",
   "metadata": {},
   "outputs": [
    {
     "name": "stdout",
     "output_type": "stream",
     "text": [
      "1000번째 cost:0.3325069844722748\n",
      "2000번째 cost:0.325968861579895\n",
      "3000번째 cost:0.3198511004447937\n",
      "4000번째 cost:0.3141240179538727\n",
      "5000번째 cost:0.308759868144989\n",
      "6000번째 cost:0.3037337362766266\n",
      "7000번째 cost:0.2990299165248871\n",
      "8000번째 cost:0.29461726546287537\n",
      "9000번째 cost:0.29047858715057373\n",
      "10000번째 cost:0.2865890562534332\n",
      "11000번째 cost:0.28294360637664795\n",
      "12000번째 cost:0.2795175611972809\n",
      "13000번째 cost:0.2762925922870636\n",
      "14000번째 cost:0.2732638120651245\n",
      "15000번째 cost:0.2704125940799713\n",
      "16000번째 cost:0.26771989464759827\n",
      "17000번째 cost:0.2651931047439575\n",
      "18000번째 cost:0.26280051469802856\n",
      "19000번째 cost:0.2605501413345337\n",
      "20000번째 cost:0.2584169805049896\n",
      "21000번째 cost:0.25640609860420227\n",
      "22000번째 cost:0.2544964849948883\n",
      "23000번째 cost:0.25269532203674316\n",
      "24000번째 cost:0.25097665190696716\n",
      "25000번째 cost:0.2493603229522705\n",
      "26000번째 cost:0.2478122115135193\n",
      "27000번째 cost:0.24634955823421478\n",
      "28000번째 cost:0.2449531853199005\n",
      "29000번째 cost:0.24361589550971985\n",
      "30000번째 cost:0.24235457181930542\n",
      "최종 cost:0.24235457181930542, W:[[ 1.1698947 ]\n",
      " [ 0.45672873]\n",
      " [-1.1890293 ]], b:[-0.07336558]\n"
     ]
    }
   ],
   "source": [
    "# tensorflow 구현\n",
    "# 1. X, y\n",
    "X = tf.placeholder(shape=[None,3], dtype=tf.float32) # 몇행인지 상관없이 3열을 가지고 온다...\n",
    "y = tf.placeholder(shape=[None,1], dtype=tf.float32) \n",
    "\n",
    "# 2.독립변수 3개, 타겟변수 1개인 모델의 weight, bias\n",
    "W = tf.Variable(tf.random.normal([3,1])) # 독립변수 갯수(3), 종속변수 갯수(1)\n",
    "b = tf.Variable(tf.random.normal([1])) # y의 값이 1개 이기에 1로 \n",
    "\n",
    "# 3. Hypothesis : 예측값\n",
    "# 행렬 계산\n",
    "# H = X@W + b\n",
    "H = tf.matmul(X,W) + b # matmul 행렬계산해주는 함수\n",
    "\n",
    "# 4. cost : 손실함수\n",
    "cost = tf.reduce_mean(tf.square(H-y))\n",
    "\n",
    "# 5. train \n",
    "train = tf.train.GradientDescentOptimizer(learning_rate=1e-5).minimize(cost)\n",
    "# cost가 줄어드는 방향으로 조금씩 이동하여 조정\n",
    "\n",
    "# sess 객체 생성\n",
    "sess = tf.Session()\n",
    "sess.run(tf.global_variables_initializer()) # 초기화\n",
    "\n",
    "# 6. 학습\n",
    "for step in range(1, 30001):\n",
    "    _,cost_val = sess.run([train, cost], \n",
    "                             feed_dict={X:scaled_X_data, \n",
    "                                        y:scaled_y_data})\n",
    "    if step%1000 == 0 :\n",
    "        print(\"{}번째 cost:{}\".format(step, cost_val))\n",
    "print('최종 cost:{}, W:{}, b:{}'.format(cost_val, sess.run(W),sess.run(b)))"
   ]
  },
  {
   "cell_type": "code",
   "execution_count": 93,
   "id": "a8c6fb07",
   "metadata": {},
   "outputs": [
    {
     "data": {
      "text/plain": [
       "array([[190. ,   7.4,  67. ]])"
      ]
     },
     "execution_count": 93,
     "metadata": {},
     "output_type": "execute_result"
    }
   ],
   "source": [
    "input_data"
   ]
  },
  {
   "cell_type": "code",
   "execution_count": 101,
   "id": "6a69d9df",
   "metadata": {},
   "outputs": [
    {
     "data": {
      "text/plain": [
       "array([[-40.837936]], dtype=float32)"
      ]
     },
     "execution_count": 101,
     "metadata": {},
     "output_type": "execute_result"
    }
   ],
   "source": [
    "# 예측하기\n",
    "input_data = np.array([[190. ,   7.4,  67. ]]) #2차원으로 넣어야 함 \n",
    "# X_data[0],y_data[0]\n",
    "scaled_y_hat = sess.run(H, feed_dict={X:x_scaler.transform(input_data)}) #scale 조정된 값으로 \n",
    "y_scaler.inverse_transform(scaled_y_hat)"
   ]
  },
  {
   "cell_type": "markdown",
   "id": "fdb3118f",
   "metadata": {},
   "source": [
    "# 3. 이진분류 = logistic Regression (분류분석)\n",
    "- logistic 회귀분석 : 기본의 회귀분석과 다른 처리 필요"
   ]
  },
  {
   "cell_type": "code",
   "execution_count": 106,
   "id": "bb480baa",
   "metadata": {},
   "outputs": [
    {
     "data": {
      "text/plain": [
       "<matplotlib.collections.PathCollection at 0x14e69bf6020>"
      ]
     },
     "execution_count": 106,
     "metadata": {},
     "output_type": "execute_result"
    },
    {
     "data": {
      "image/png": "[encoded data removed]",
      "text/plain": [
       "<Figure size 640x480 with 1 Axes>"
      ]
     },
     "metadata": {},
     "output_type": "display_data"
    }
   ],
   "source": [
    "x = np.array([1, 2, 5, 8, 10])\n",
    "y = np.array([0, 0, 0, 1, 1]) # 실제값\n",
    "from scipy import stats\n",
    "lm = stats.linregress(x,y) # 기울기(w)와 y절편(b)\n",
    "H = lm[0]*x + lm[1]\n",
    "import matplotlib.pyplot as plt\n",
    "plt.plot(x,H, 'r')\n",
    "plt.scatter(x,y)"
   ]
  },
  {
   "cell_type": "code",
   "execution_count": 111,
   "id": "0bf603b1",
   "metadata": {},
   "outputs": [
    {
     "name": "stdout",
     "output_type": "stream",
     "text": [
      "800번째 cost:0.10522980988025665\n",
      "1600번째 cost:0.0652218610048294\n",
      "2400번째 cost:0.04667577147483826\n",
      "3200번째 cost:0.036175716668367386\n",
      "4000번째 cost:0.029472896829247475\n",
      "4800번째 cost:0.024840792641043663\n",
      "5600번째 cost:0.02145516499876976\n",
      "6400번째 cost:0.01887567527592182\n",
      "7200번째 cost:0.016846561804413795\n",
      "8000번째 cost:0.015209444798529148\n"
     ]
    }
   ],
   "source": [
    "X_data = np.array([[10,0],\n",
    "                   [8,1],\n",
    "                   [3,3],\n",
    "                   [2,3],\n",
    "                   [5,1],\n",
    "                   [2,0],\n",
    "                   [1,0]])\n",
    "y_data = np.array([[1],\n",
    "                   [1],\n",
    "                   [1],\n",
    "                   [1],\n",
    "                   [0],\n",
    "                   [0],\n",
    "                   [0]])\n",
    "# tensorflow 구현 (tensor 그래프)\n",
    "X = tf.placeholder(shape=[None,2], dtype=tf.float32)  #predict(예측) 하기위해서 None설정\n",
    "y = tf.placeholder(shape=[None,1], dtype=tf.float32)\n",
    "\n",
    "# 독립변수가 2개, 종속변수가 1개의 weight, bias\n",
    "# 독립변수가 2개이므로 w1*x1 + w2*x2 + b w2개,x2개 \n",
    "W = tf.Variable(tf.random.normal([2,1]))\n",
    "b = tf.Variable(tf.random.normal([1]))\n",
    "\n",
    "#Hypothesis\n",
    "# H = X@W + b\n",
    "logits =tf.matmul(X,W) + b # 활성화 함수 (ReLU,Sigmoid,Tanh,Softmax)\n",
    "H = tf.sigmoid(logits)\n",
    "\n",
    "# cost 함수\n",
    "# cost = tf.reduce_mean(tf.square(H-y))  # 기존방식\n",
    "# 실손함수 계산코드 \n",
    "cost = tf.reduce_mean(tf.nn.sigmoid_cross_entropy_with_logits(logits=logits,# **neural networks (신경망)**\n",
    "                                                              labels=y))\n",
    "#train\n",
    "train = tf.train.GradientDescentOptimizer(learning_rate=0.1).minimize(cost)\n",
    "\n",
    "#sess객체 생성\n",
    "sess = tf.Session()\n",
    "sess.run(tf.global_variables_initializer()) #초기화\n",
    "\n",
    "#학습\n",
    "for step in range(1, 8001):\n",
    "    _,cost_val = sess.run([train, cost], feed_dict={X:X_data,\n",
    "                                                    y:y_data})\n",
    "    if step%800 == 0:\n",
    "        print(\"{}번째 cost:{}\".format(step, cost_val))"
   ]
  },
  {
   "cell_type": "code",
   "execution_count": 123,
   "id": "3697e586",
   "metadata": {},
   "outputs": [
    {
     "data": {
      "text/plain": [
       "array([[1.]], dtype=float32)"
      ]
     },
     "execution_count": 123,
     "metadata": {},
     "output_type": "execute_result"
    }
   ],
   "source": [
    "# 모델 사용 / 사용하기전에 평가 해야 함.\n",
    "input_data = np.array([[5,2]])\n",
    "predict = tf.cast(H>=0.5, dtype=tf.float32)\n",
    "sess.run(predict,feed_dict={X:input_data})"
   ]
  },
  {
   "cell_type": "code",
   "execution_count": 126,
   "id": "9d417f0c",
   "metadata": {},
   "outputs": [
    {
     "name": "stdout",
     "output_type": "stream",
     "text": [
      "모델 정확도 :  1.0\n"
     ]
    }
   ],
   "source": [
    "# accuracy \n",
    "correct = tf.equal(predict, y)\n",
    "sess.run(correct, feed_dict={X:X_data,\n",
    "                             y:y_data})\n",
    "accuracy = tf.reduce_mean(tf.cast(correct, dtype=tf.float32)) #correct가 1이나 0이라서 \n",
    "print('모델 정확도 : ',sess.run(accuracy, feed_dict={X:X_data,\n",
    "                                                   y:y_data}))"
   ]
  },
  {
   "cell_type": "markdown",
   "id": "f6d168d1",
   "metadata": {},
   "source": [
    "# 4.XOR(eXclusive OR)\n",
    "\n",
    "- 둘 다 같은 값이면 0 / 하나라도 다르면 1\n"
   ]
  },
  {
   "cell_type": "code",
   "execution_count": 130,
   "id": "8d5c01cc",
   "metadata": {},
   "outputs": [
    {
     "name": "stdout",
     "output_type": "stream",
     "text": [
      "1000번째 cost :0.6995961666107178 \n",
      "2000번째 cost :0.6950031518936157 \n",
      "3000번째 cost :0.6936825513839722 \n",
      "4000번째 cost :0.693301796913147 \n",
      "5000번째 cost :0.6931920051574707 \n",
      "6000번째 cost :0.6931602954864502 \n",
      "7000번째 cost :0.6931509971618652 \n",
      "8000번째 cost :0.6931483149528503 \n",
      "9000번째 cost :0.6931475400924683 \n",
      "10000번째 cost :0.6931473016738892 \n"
     ]
    }
   ],
   "source": [
    "X_data = np.array([[0,0],\n",
    "                   [0,1],\n",
    "                   [1,0],\n",
    "                   [1,1]])\n",
    "\n",
    "y_data = np.array([[0],[1],[1], [0]])\n",
    "# X,y\n",
    "X = tf.placeholder(shape=[None, 2], dtype=tf.float32)\n",
    "y = tf.placeholder(shape=[None, 1], dtype=tf.float32)\n",
    "\n",
    "# 독립변수가 2개, 종속변수가 1개 W,b\n",
    "W = tf.Variable(tf.random.normal([2,1]))\n",
    "b = tf.Variable(tf.random.normal([1]))\n",
    "\n",
    "#H\n",
    "logits = tf.matmul(X, W) + b\n",
    "H = tf.sigmoid(logits)\n",
    "\n",
    "# cost\n",
    "cost = tf.reduce_mean(tf.nn.sigmoid_cross_entropy_with_logits(logits=logits,\n",
    "                                                                 labels=y))\n",
    "\n",
    "# train\n",
    "train = tf.train.GradientDescentOptimizer(learning_rate=0.01).minimize(cost)\n",
    "\n",
    "# sess 객체 생성\n",
    "sess = tf.Session()\n",
    "sess.run(tf.global_variables_initializer())\n",
    "\n",
    "#학습\n",
    "for step in range(1,10001):\n",
    "    _, cost_val = sess.run([train,cost], feed_dict={X:X_data,\n",
    "                                                    y:y_data})\n",
    "    if step%1000==0:\n",
    "        print(\"{}번째 cost :{} \".format(step,cost_val))"
   ]
  },
  {
   "cell_type": "code",
   "execution_count": 132,
   "id": "670f0bfb",
   "metadata": {},
   "outputs": [
    {
     "name": "stdout",
     "output_type": "stream",
     "text": [
      "모델 정확도 :  0.5\n"
     ]
    }
   ],
   "source": [
    "# accuracy\n",
    "\n",
    "predict = tf.cast(H>=0.5, dtype=tf.float32)\n",
    "correct = tf.equal(predict,y)\n",
    "sess.run(correct, feed_dict={X:X_data,\n",
    "                             y:y_data})\n",
    "\n",
    "accuracy = tf.reduce_mean(tf.cast(correct, dtype=tf.float32)) #correct가 1이나 0이라서 \n",
    "print('모델 정확도 : ',sess.run(accuracy, feed_dict={X:X_data,\n",
    "                                                   y:y_data}))"
   ]
  },
  {
   "cell_type": "markdown",
   "id": "bc10ef91",
   "metadata": {},
   "source": [
    "# 5. Deep Learning XOR 예제"
   ]
  },
  {
   "cell_type": "code",
   "execution_count": 135,
   "id": "a3c6a274",
   "metadata": {},
   "outputs": [
    {
     "name": "stdout",
     "output_type": "stream",
     "text": [
      "1000번째 cost :0.4354909062385559 \n",
      "2000번째 cost :0.3875901699066162 \n",
      "3000번째 cost :0.37142735719680786 \n",
      "4000번째 cost :0.3634692430496216 \n",
      "5000번째 cost :0.35895925760269165 \n",
      "6000번째 cost :0.3561183214187622 \n",
      "7000번째 cost :0.3542329668998718 \n",
      "8000번째 cost :0.35291293263435364 \n",
      "9000번째 cost :0.3519590198993683 \n",
      "10000번째 cost :0.35121917724609375 \n"
     ]
    }
   ],
   "source": [
    "X_data = np.array([[0,0],\n",
    "                   [0,1],\n",
    "                   [1,0],\n",
    "                   [1,1]])\n",
    "\n",
    "y_data = np.array([[0],[1],[1], [0]])\n",
    "# X,y\n",
    "X = tf.placeholder(shape=[None, 2], dtype=tf.float32)\n",
    "y = tf.placeholder(shape=[None, 1], dtype=tf.float32)\n",
    "# Layer1 : (입력2, 출력4)\n",
    "W1 = tf.Variable(tf.random.normal([2,4]))\n",
    "b1 = tf.Variable(tf.random.normal([4]))\n",
    "\n",
    "#H\n",
    "layer1 = tf.nn.relu(tf.matmul(X,W1) + b1) # 특정한 값을 기준으로 컷하고 저장하는것 \n",
    "\n",
    "# layer2 : (입력4, 출력1)\n",
    "W2 = tf.Variable(tf.random.normal([4,1]))\n",
    "b2 = tf.Variable(tf.random.normal([1]))\n",
    "\n",
    "#H\n",
    "logits = tf.matmul(layer1, W2) + b2\n",
    "H = tf.sigmoid(logits)\n",
    "\n",
    "# cost\n",
    "cost = tf.reduce_mean(tf.nn.sigmoid_cross_entropy_with_logits(logits=logits,\n",
    "                                                                 labels=y))\n",
    "\n",
    "# train\n",
    "train = tf.train.GradientDescentOptimizer(learning_rate=0.01).minimize(cost)\n",
    "\n",
    "# sess 객체 생성\n",
    "sess = tf.Session()\n",
    "sess.run(tf.global_variables_initializer())\n",
    "\n",
    "#학습\n",
    "for step in range(1,10001):\n",
    "    _, cost_val = sess.run([train,cost], feed_dict={X:X_data,\n",
    "                                                    y:y_data})\n",
    "    if step%1000==0:\n",
    "        print(\"{}번째 cost :{} \".format(step,cost_val))"
   ]
  },
  {
   "cell_type": "code",
   "execution_count": 136,
   "id": "5cfb0b37",
   "metadata": {},
   "outputs": [
    {
     "name": "stdout",
     "output_type": "stream",
     "text": [
      "모델 정확도 :  0.75\n"
     ]
    }
   ],
   "source": [
    "# accuracy\n",
    "\n",
    "predict = tf.cast(H>=0.5, dtype=tf.float32)\n",
    "correct = tf.equal(predict,y)\n",
    "sess.run(correct, feed_dict={X:X_data,\n",
    "                             y:y_data})\n",
    "\n",
    "accuracy = tf.reduce_mean(tf.cast(correct, dtype=tf.float32)) #correct가 1이나 0이라서 \n",
    "print('모델 정확도 : ',sess.run(accuracy, feed_dict={X:X_data,\n",
    "                                                   y:y_data}))"
   ]
  },
  {
   "cell_type": "markdown",
   "id": "4470afec",
   "metadata": {},
   "source": [
    "## layer 층 x_data 2개 -> 4개 -> 1개\n",
    "## layer 층 x_data 2개 -> 10개 -> 20개 -> 10개 -> 1개\n",
    "                      입력층          hidden layer(relu)        출력층(sigmoid)                         "
   ]
  },
  {
   "cell_type": "code",
   "execution_count": 146,
   "id": "4270816c",
   "metadata": {},
   "outputs": [
    {
     "name": "stdout",
     "output_type": "stream",
     "text": [
      "1000번째 cost :0.004790937528014183 \n",
      "2000번째 cost :0.0018683921080082655 \n",
      "3000번째 cost :0.0009655710309743881 \n",
      "4000번째 cost :0.0006383891450241208 \n",
      "5000번째 cost :0.00047531898599117994 \n",
      "6000번째 cost :0.00037588842678815126 \n",
      "7000번째 cost :0.0003090889658778906 \n",
      "8000번째 cost :0.0002614693366922438 \n",
      "9000번째 cost :0.00022160605294629931 \n",
      "10000번째 cost :0.00019121388322673738 \n"
     ]
    }
   ],
   "source": [
    "X_data = np.array([[0,0],\n",
    "                   [0,1],\n",
    "                   [1,0],\n",
    "                   [1,1]])\n",
    "\n",
    "y_data = np.array([[0],[1],[1], [0]])\n",
    "# X,y\n",
    "X = tf.placeholder(shape=[None, 2], dtype=tf.float32)\n",
    "y = tf.placeholder(shape=[None, 1], dtype=tf.float32)\n",
    "\n",
    "# Layer1 : 입력층(입력2, 출력10)\n",
    "W1 = tf.Variable(tf.random.normal([2,10]))\n",
    "b1 = tf.Variable(tf.random.normal([10]))\n",
    "layer1 = tf.nn.relu(tf.matmul(X,W1) + b1) # 특정한 값을 기준으로 컷하고 저장하는것 \n",
    "\n",
    "# layer2 : 은닉층(입력10, 출력20)\n",
    "W2 = tf.Variable(tf.random.normal([10,20]))\n",
    "b2 = tf.Variable(tf.random.normal([20]))\n",
    "layer2 = tf.nn.relu(tf.matmul(layer1, W2) + b2)\n",
    "\n",
    "# layer3 : 은닉층(입력20, 출력10)\n",
    "W3 = tf.Variable(tf.random.normal([20,10]))\n",
    "b3 = tf.Variable(tf.random.normal([10]))\n",
    "layer3 = tf.nn.relu(tf.matmul(layer2, W3) + b3)\n",
    "\n",
    "# layer4 : 출력층(입력10, 출력1)\n",
    "# 이진분류에서 sigmoid, 일반분류에서는 softmax \n",
    "W4 = tf.Variable(tf.random.normal([10,1]))\n",
    "b4 = tf.Variable(tf.random.normal([1]))\n",
    "\n",
    "logits_final = tf.matmul(layer3,W4) +b4\n",
    "H_final = tf.sigmoid(logits_final)\n",
    "\n",
    "# cost\n",
    "cost = tf.reduce_mean(tf.nn.sigmoid_cross_entropy_with_logits(logits=logits_final,\n",
    "                                                                 labels=y))\n",
    "\n",
    "# train\n",
    "train = tf.train.GradientDescentOptimizer(learning_rate=0.01).minimize(cost)\n",
    "\n",
    "# sess 객체 생성\n",
    "sess = tf.Session()\n",
    "sess.run(tf.global_variables_initializer())\n",
    "\n",
    "#학습\n",
    "for step in range(1,10001):\n",
    "    _, cost_val = sess.run([train,cost], feed_dict={X:X_data,\n",
    "                                                    y:y_data})\n",
    "    if step%1000==0:\n",
    "        print(\"{}번째 cost :{} \".format(step,cost_val))"
   ]
  },
  {
   "cell_type": "code",
   "execution_count": 148,
   "id": "250e82ce",
   "metadata": {},
   "outputs": [
    {
     "name": "stdout",
     "output_type": "stream",
     "text": [
      "모델 정확도 :  1.0\n"
     ]
    }
   ],
   "source": [
    "predict = tf.cast(H_final>=0.5, dtype=tf.float32)\n",
    "correct = tf.equal(predict,y)\n",
    "sess.run(correct, feed_dict={X:X_data,\n",
    "                             y:y_data})\n",
    "\n",
    "accuracy = tf.reduce_mean(tf.cast(correct, dtype=tf.float32)) #correct가 1이나 0이라서 \n",
    "print('모델 정확도 : ',sess.run(accuracy, feed_dict={X:X_data,\n",
    "                                                   y:y_data}))"
   ]
  }
 ],
 "metadata": {
  "kernelspec": {
   "display_name": "ml-dl-nlp",
   "language": "python",
   "name": "ml-dl-nlp"
  },
  "language_info": {
   "codemirror_mode": {
    "name": "ipython",
    "version": 3
   },
   "file_extension": ".py",
   "mimetype": "text/x-python",
   "name": "python",
   "nbconvert_exporter": "python",
   "pygments_lexer": "ipython3",
   "version": "3.10.18"
  },
  "toc": {
   "base_numbering": 1,
   "nav_menu": {},
   "number_sections": false,
   "sideBar": true,
   "skip_h1_title": false,
   "title_cell": "Table of Contents",
   "title_sidebar": "Contents",
   "toc_cell": false,
   "toc_position": {
    "height": "calc(100% - 180px)",
    "left": "10px",
    "top": "150px",
    "width": "165px"
   },
   "toc_section_display": true,
   "toc_window_display": true
  }
 },
 "nbformat": 4,
 "nbformat_minor": 5
}
