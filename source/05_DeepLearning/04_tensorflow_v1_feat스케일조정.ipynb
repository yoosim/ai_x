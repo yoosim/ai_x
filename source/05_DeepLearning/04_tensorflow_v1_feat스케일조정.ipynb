{
 "cells": [
  {
   "cell_type": "code",
   "execution_count": 144,
   "id": "9959b5af",
   "metadata": {},
   "outputs": [
    {
     "data": {
      "text/html": [
       "\n",
       "<style>\n",
       "div.container{width:86% !important;}\n",
       "div.cell.code_cell.rendered{width:100%;}\n",
       "div.CodeMirror {font-family:Consolas; font-size:15pt;}\n",
       "div.output {font-size:15pt; font-weight:bold;}\n",
       "div.input {font-family:Consolas; font-size:15pt;}\n",
       "div.prompt {min-width:70px;}\n",
       "div#toc-wrapper{padding-top:120px;}\n",
       "div.text_cell_render ul li{font-size:12pt;padding:5px;}\n",
       "table.dataframe{font-size:15px;}\n",
       "</style>\n",
       " "
      ],
      "text/plain": [
       "<IPython.core.display.HTML object>"
      ]
     },
     "metadata": {},
     "output_type": "display_data"
    }
   ],
   "source": [
    "from IPython.display import display, HTML \n",
    "display(HTML(\"\"\"\n",
    "<style>\n",
    "div.container{width:86% !important;}\n",
    "div.cell.code_cell.rendered{width:100%;}\n",
    "div.CodeMirror {font-family:Consolas; font-size:15pt;}\n",
    "div.output {font-size:15pt; font-weight:bold;}\n",
    "div.input {font-family:Consolas; font-size:15pt;}\n",
    "div.prompt {min-width:70px;}\n",
    "div#toc-wrapper{padding-top:120px;}\n",
    "div.text_cell_render ul li{font-size:12pt;padding:5px;}\n",
    "table.dataframe{font-size:15px;}\n",
    "</style>\n",
    " \"\"\"))"
   ]
  },
  {
   "cell_type": "markdown",
   "id": "39a78d9c",
   "metadata": {},
   "source": [
    "# 1. tensorflow v2.xx에서 v1사용하기"
   ]
  },
  {
   "cell_type": "code",
   "execution_count": 4,
   "id": "10e29b7d",
   "metadata": {},
   "outputs": [],
   "source": [
    "import tensorflow.compat.v1 as tf\n",
    "tf.disable_v2_behavior()  # v2를 비활성화하고 v1활성화 \n",
    "import numpy as np\n",
    "import pandas as pd"
   ]
  },
  {
   "cell_type": "markdown",
   "id": "87f21f7f",
   "metadata": {},
   "source": [
    "## Tensorflow\n",
    "- 데이터 흐름 그래프 (tensor 객체의 흐름)\n",
    "- 이 그래프는 node(상수, 변수, 연산)와 edge로 구성)\n",
    "    - node : 작업 또는 연산 \n",
    "    - edge : 데이터 흐름 / 종속 관계 \n",
    "- <span style=\"color:red; font-size: 16px;\"> tf.Session()으로 실행</span>\n",
    "- <span style=\"color:red; font-size: 16px;\"> sess.run()을 통해 값을 확인</span>"
   ]
  },
  {
   "cell_type": "code",
   "execution_count": 7,
   "id": "fafc9662",
   "metadata": {},
   "outputs": [
    {
     "name": "stdout",
     "output_type": "stream",
     "text": [
      "b'Hello, Tensorflow'\n"
     ]
    }
   ],
   "source": [
    "# tensor = data(상수, 변수)와 연산 \n",
    "node1 = tf.constant('Hello, Tensorflow') #문자 node , 구동시키려면 tf.Session()으로 실행\n",
    "sess = tf.Session()\n",
    "print(sess.run(node1))"
   ]
  },
  {
   "cell_type": "code",
   "execution_count": 13,
   "id": "a8a38f8f",
   "metadata": {},
   "outputs": [
    {
     "name": "stdout",
     "output_type": "stream",
     "text": [
      "[10.0, 20.0, 30.0]\n"
     ]
    }
   ],
   "source": [
    "# 간단한 연산 tensor  그래프\n",
    "node1 = tf.constant(10, dtype=tf.float16)\n",
    "node2 = tf.constant(20, dtype=tf.float16)\n",
    "node3 = tf.add(node1, node2)# node 1,2,3은 구동시켜야 나옴 \n",
    "\n",
    "#구동하기 위한 Session 만들기 \n",
    "sess = tf.Session()\n",
    "print(sess.run([node1,node2, node3]))"
   ]
  },
  {
   "cell_type": "code",
   "execution_count": 15,
   "id": "92c478e1",
   "metadata": {},
   "outputs": [
    {
     "data": {
      "text/plain": [
       "[array([1, 2, 3], dtype=int16), array([1., 2., 3.], dtype=float32)]"
      ]
     },
     "execution_count": 15,
     "metadata": {},
     "output_type": "execute_result"
    }
   ],
   "source": [
    "# 타입 변경 하기\n",
    "node1 = tf.constant(np.array([1,2,3]), dtype=tf.int16) # 여러개 값을 넣으려면 반드시 np.array로 해야함\n",
    "node2 = tf.cast(node1, dtype=tf.float32)\n",
    "sess = tf.Session()\n",
    "sess.run([node1, node2])"
   ]
  },
  {
   "cell_type": "code",
   "execution_count": 17,
   "id": "0892b94d",
   "metadata": {},
   "outputs": [
    {
     "data": {
      "text/plain": [
       "2.0"
      ]
     },
     "execution_count": 17,
     "metadata": {},
     "output_type": "execute_result"
    }
   ],
   "source": [
    "# 평균값 계산 tf.reduce_mean()\n",
    "data = np.array([1.,2.,3.])\n",
    "tensor = tf.reduce_mean(data) #그래프 정의 / 활성화 되진않았음\n",
    "#활성화 하기위해\n",
    "sess = tf.Session()\n",
    "sess.run(tensor)"
   ]
  },
  {
   "cell_type": "code",
   "execution_count": 38,
   "id": "03feaa80",
   "metadata": {},
   "outputs": [
    {
     "data": {
      "text/plain": [
       "[array([2.3176014 , 0.35246396], dtype=float32),\n",
       " array([-0.6231193], dtype=float32)]"
      ]
     },
     "execution_count": 38,
     "metadata": {},
     "output_type": "execute_result"
    }
   ],
   "source": [
    "# 랜덤값을 갖는 tensor\n",
    "a = tf.random_normal([2]) # 평균0, 표준편차가 1인 난수 실수 2개(정규분포를 이루는 난수)\n",
    "b = tf.random_normal([1])\n",
    "sess = tf.Session()\n",
    "sess.run([a,b])"
   ]
  },
  {
   "cell_type": "code",
   "execution_count": 45,
   "id": "5593dc86",
   "metadata": {},
   "outputs": [
    {
     "data": {
      "text/plain": [
       "array([0.36455524], dtype=float32)"
      ]
     },
     "execution_count": 45,
     "metadata": {},
     "output_type": "execute_result"
    }
   ],
   "source": [
    "w = tf.Variable(tf.random.normal([1]))  # 처음 세팅된 고정된 값이 아닌 변동값(# 초기값은 랜덤이지만 변할 수 있음)\n",
    "# tf.Variable: 변할 수 있음 / tf.constant: 변하지 않음\n",
    "\n",
    "sess = tf.Session()\n",
    "sess.run(tf.global_variables_initializer()) # w변수의 난수 초기화 작업 \n",
    "sess.run(w)"
   ]
  },
  {
   "cell_type": "markdown",
   "id": "74715a4e",
   "metadata": {},
   "source": [
    "# 2.tensorflow  v1을 이용한 linear regression을 구현\n",
    "## 2.1 입력(독립)변수 x가 1개, 타겟(종속)변수 y가 1개"
   ]
  },
  {
   "cell_type": "code",
   "execution_count": 46,
   "id": "3852537b",
   "metadata": {},
   "outputs": [
    {
     "name": "stdout",
     "output_type": "stream",
     "text": [
      "0번째 cost:45.0183219909668, W:[-1.0908678], b:[-0.5347255]\n",
      "200번째 cost:0.014612540602684021, W:[1.1400598], b:[0.6816111]\n",
      "400번째 cost:0.005579769611358643, W:[1.0865483], b:[0.8032553]\n",
      "600번째 cost:0.0021306260023266077, W:[1.0534817], b:[0.8784238]\n",
      "800번째 cost:0.0008135768584907055, W:[1.0330484], b:[0.9248733]\n",
      "1000번째 cost:0.00031066927476786077, W:[1.020422], b:[0.9535759]\n",
      "1200번째 cost:0.000118624659080524, W:[1.0126194], b:[0.9713132]\n",
      "1400번째 cost:4.5296776079339907e-05, W:[1.007798], b:[0.9822733]\n",
      "1600번째 cost:1.729717587295454e-05, W:[1.0048188], b:[0.98904574]\n",
      "1800번째 cost:6.60530713503249e-06, W:[1.0029778], b:[0.99323076]\n",
      "2000번째 cost:2.5223282591468887e-06, W:[1.0018402], b:[0.99581695]\n",
      "2200번째 cost:9.635946298658382e-07, W:[1.0011375], b:[0.99741465]\n",
      "2400번째 cost:3.683523175368464e-07, W:[1.0007035], b:[0.9984014]\n",
      "2600번째 cost:1.410060121997958e-07, W:[1.0004352], b:[0.99901104]\n",
      "2800번째 cost:5.4046328301637914e-08, W:[1.0002693], b:[0.9993878]\n",
      "3000번째 cost:2.074881422231556e-08, W:[1.000167], b:[0.9996206]\n",
      "3200번째 cost:8.00177257787027e-09, W:[1.000104], b:[0.9997645]\n",
      "3400번째 cost:3.0801838857286157e-09, W:[1.0000646], b:[0.99985385]\n",
      "3600번째 cost:1.2229529611218481e-09, W:[1.0000403], b:[0.99990773]\n",
      "3800번째 cost:4.5605000331683243e-10, W:[1.0000248], b:[0.99994373]\n",
      "4000번째 cost:1.8717589977956806e-10, W:[1.0000161], b:[0.99996394]\n",
      "4200번째 cost:8.531723244553646e-11, W:[1.000011], b:[0.99997586]\n",
      "4400번째 cost:5.328478283606053e-11, W:[1.0000087], b:[0.9999811]\n",
      "4600번째 cost:5.328478283606053e-11, W:[1.0000087], b:[0.9999811]\n",
      "4800번째 cost:5.328478283606053e-11, W:[1.0000087], b:[0.9999811]\n",
      "5000번째 cost:5.328478283606053e-11, W:[1.0000087], b:[0.9999811]\n"
     ]
    }
   ],
   "source": [
    "x = np.array([1,2,3])\n",
    "y = np.array([2,3,4])\n",
    "\n",
    "# weight와 bias(처음에는 랜덤값으로 세팅, 학습 과정에서 변경)\n",
    "# 독립변수가 많아지면 x가 여러개 y=w1+x1 + w2+x2 + b \n",
    "# 나타나야 할 종속 변수가 여러개면 bias(b)가 여러개 \n",
    "\n",
    "#W.b 값 세팅 (초기 랜던감 세팅-> 학습하면서 변경될 값)\n",
    "W = tf.Variable(tf.random.normal([1]), name='weight')\n",
    "b = tf.Variable(tf.random.normal([1]), name='bias')\n",
    "\n",
    "# Hypothesis :예측값 \n",
    "H = W*x + b\n",
    "# cost function(손실함수)\n",
    "cost = tf.reduce_mean(tf.square(H-y)) #H-y의 제곱의 평균 \n",
    "\n",
    "'''\n",
    "학습목적 : cost가 최소가 되는 W,b를 찾아내는 것\n",
    "cost는 2차함수이므로 곡선그래프로 출력. 곡선위 미분값이 줄어드는 방향으로 학습(경사하강) W,b 바꿔가는것\n",
    "=> GradientDescentOptimizer : 조금씩 이동하며 조정하는 최적화 도구\n",
    "'''\n",
    "optimizer = tf.train.GradientDescentOptimizer(learning_rate=0.01) # 0.01씩 W,b값을 이동하는것 (학습률)\n",
    "train = optimizer.minimize(cost) # cost라는 손실 함수를 최소화하도록 W, b 등의 값을 자동으로 업데이트하는 연산\n",
    "# Sesstion 생성\n",
    "sess = tf.Session()\n",
    "# W,b 값 변수 노드에 초기화\n",
    "sess.run(tf.global_variables_initializer())\n",
    "# 5000번 학습 (v2에서는 fit함수)\n",
    "for step in range(5001): #for문 5000번 수행\n",
    "    _, cost_val, W_val, b_val = sess.run([train, cost, W, b]) \n",
    "    #cost가 줄어드는지, W,b값은 어떤지 확인 필요 4개의 값을 4개에 각각 할당\n",
    "    if step%200 == 0:\n",
    "        print(\"{}번째 cost:{}, W:{}, b:{}\".format(step,\n",
    "                                                   cost_val,\n",
    "                                                   W_val,\n",
    "                                                   b_val))"
   ]
  },
  {
   "cell_type": "code",
   "execution_count": 47,
   "id": "6c6ab2a1",
   "metadata": {},
   "outputs": [
    {
     "data": {
      "text/plain": [
       "[array([1.0000087], dtype=float32), array([0.9999811], dtype=float32)]"
      ]
     },
     "execution_count": 47,
     "metadata": {},
     "output_type": "execute_result"
    }
   ],
   "source": [
    "# 최종적으로 나온 회귀식 : H = W*x + b\n",
    "sess.run([W,b])"
   ]
  },
  {
   "cell_type": "code",
   "execution_count": 48,
   "id": "552a082c",
   "metadata": {},
   "outputs": [
    {
     "name": "stdout",
     "output_type": "stream",
     "text": [
      "입력값은 ?2\n"
     ]
    }
   ],
   "source": [
    "input_x = int(input('입력값은 ?'))"
   ]
  },
  {
   "cell_type": "code",
   "execution_count": 51,
   "id": "67c47be4",
   "metadata": {},
   "outputs": [
    {
     "data": {
      "text/plain": [
       "(0.059985068, 0.9999811)"
      ]
     },
     "execution_count": 51,
     "metadata": {},
     "output_type": "execute_result"
    }
   ],
   "source": [
    "W_, b_ = sess.run([w,b])\n",
    "W_[0], b_[0]"
   ]
  },
  {
   "cell_type": "code",
   "execution_count": 54,
   "id": "c1acefbe",
   "metadata": {},
   "outputs": [],
   "source": [
    "def predict(x):\n",
    "    return W_[0]*x + b_[0]"
   ]
  },
  {
   "cell_type": "code",
   "execution_count": 55,
   "id": "f656d6e0",
   "metadata": {},
   "outputs": [
    {
     "name": "stdout",
     "output_type": "stream",
     "text": [
      "입력값은 ?3\n",
      "예측값은  1.179936308413744\n"
     ]
    }
   ],
   "source": [
    "input_x = int(input('입력값은 ?'))\n",
    "print('예측값은 ', predict(input_x))"
   ]
  },
  {
   "cell_type": "markdown",
   "id": "588f02e6",
   "metadata": {},
   "source": [
    "## 2.2 predict를 위한 placeholder이용\n",
    "- placeholder : tensorflow 외부에서 데이터를 입력받는 노드"
   ]
  },
  {
   "cell_type": "code",
   "execution_count": 59,
   "id": "838efb42",
   "metadata": {},
   "outputs": [
    {
     "data": {
      "text/plain": [
       "array([2., 3., 4.], dtype=float16)"
      ]
     },
     "execution_count": 59,
     "metadata": {},
     "output_type": "execute_result"
    }
   ],
   "source": [
    "# x = np.array([1,2,3])\n",
    "x = tf.placeholder(tf.float16)\n",
    "H = 1*x + 1  # x에는 값이 없고 외부에서 입력받을 예정\n",
    "sess = tf.Session()\n",
    "# sess = tf.Session(H) #x의 값을 받지못하여 에러 발생\n",
    "sess.run(H, feed_dict={x:5}) # feed_dict x의 기본값\n",
    "sess.run(H,feed_dict={x:np.array([1,2,3])})"
   ]
  },
  {
   "cell_type": "code",
   "execution_count": 68,
   "id": "1dde0d8c",
   "metadata": {},
   "outputs": [
    {
     "name": "stdout",
     "output_type": "stream",
     "text": [
      "0째 : cost:96.3122329711914, W:[1.1134888], b:[-0.8663117]\n",
      "200째 : cost:0.08035511523485184, W:[2.0964012], b:[0.48473704]\n",
      "400째 : cost:0.007903673686087132, W:[2.0302336], b:[0.83840215]\n",
      "600째 : cost:0.0007773888064548373, W:[2.009482], b:[0.9493192]\n",
      "800째 : cost:7.646755693713203e-05, W:[2.0029738], b:[0.98410505]\n",
      "1000째 : cost:7.520751296397066e-06, W:[2.0009327], b:[0.995015]\n",
      "1200째 : cost:7.399863761747838e-07, W:[2.0002928], b:[0.9984362]\n",
      "1400째 : cost:7.284230463255881e-08, W:[2.0000918], b:[0.99950933]\n",
      "1600째 : cost:7.177959560067393e-09, W:[2.0000286], b:[0.9998461]\n",
      "1800째 : cost:7.054950512674907e-10, W:[2.0000093], b:[0.99995154]\n",
      "2000째 : cost:8.29913915367797e-11, W:[2.0000033], b:[0.9999835]\n",
      "2200째 : cost:2.060005464821213e-11, W:[2.0000017], b:[0.99999213]\n",
      "2400째 : cost:2.060005464821213e-11, W:[2.0000017], b:[0.99999213]\n",
      "2600째 : cost:2.060005464821213e-11, W:[2.0000017], b:[0.99999213]\n",
      "2800째 : cost:2.060005464821213e-11, W:[2.0000017], b:[0.99999213]\n",
      "3000째 : cost:2.060005464821213e-11, W:[2.0000017], b:[0.99999213]\n",
      "3200째 : cost:2.060005464821213e-11, W:[2.0000017], b:[0.99999213]\n",
      "3400째 : cost:2.060005464821213e-11, W:[2.0000017], b:[0.99999213]\n",
      "3600째 : cost:2.060005464821213e-11, W:[2.0000017], b:[0.99999213]\n",
      "3800째 : cost:2.060005464821213e-11, W:[2.0000017], b:[0.99999213]\n",
      "4000째 : cost:2.060005464821213e-11, W:[2.0000017], b:[0.99999213]\n",
      "4200째 : cost:2.060005464821213e-11, W:[2.0000017], b:[0.99999213]\n",
      "4400째 : cost:2.060005464821213e-11, W:[2.0000017], b:[0.99999213]\n",
      "4600째 : cost:2.060005464821213e-11, W:[2.0000017], b:[0.99999213]\n",
      "4800째 : cost:2.060005464821213e-11, W:[2.0000017], b:[0.99999213]\n",
      "5000째 : cost:2.060005464821213e-11, W:[2.0000017], b:[0.99999213]\n"
     ]
    }
   ],
   "source": [
    "# H = 2x+1\n",
    "x_data = np.array([1,2,3,5,8])\n",
    "y_data = np.array([3,5,7,11,17])\n",
    "\n",
    "# placeholder 설정 (입력변수 x, 타겟변수 y)\n",
    "x = tf.placeholder(dtype=tf.float32)\n",
    "y = tf.placeholder(dtype=tf.float32)\n",
    "# W,b\n",
    "W = tf.Variable(tf.random.normal([1]))\n",
    "b = tf.Variable(tf.random.normal([1]))\n",
    "# Hypothesis(예측값)\n",
    "H = W*x + b\n",
    "# 손실함수 \n",
    "cost = tf.reduce_mean(tf.square(H-y))\n",
    "# 결사하강법\n",
    "train = tf.train.GradientDescentOptimizer(learning_rate=0.01).minimize(cost)\n",
    "# Session 객체 생성\n",
    "sess = tf.Session()\n",
    "sess.run(tf.global_variables_initializer()) # W,b 초기화\n",
    "# 5000번 학습\n",
    "for step in range(5001):\n",
    "    _, cost_val, W_val, b_val = sess.run([train, cost, W, b], \n",
    "                                         feed_dict={x:x_data,\n",
    "                                                   y:y_data})\n",
    "    if step%200 == 0:\n",
    "        print('{}째 : cost:{}, W:{}, b:{}'.format(step,\n",
    "                                                 cost_val,\n",
    "                                                 W_val,\n",
    "                                                 b_val\n",
    "        ))"
   ]
  },
  {
   "cell_type": "code",
   "execution_count": 69,
   "id": "34341308",
   "metadata": {},
   "outputs": [
    {
     "data": {
      "text/plain": [
       "array([11.000001], dtype=float32)"
      ]
     },
     "execution_count": 69,
     "metadata": {},
     "output_type": "execute_result"
    }
   ],
   "source": [
    "# 예측하기 \n",
    "sess.run(H, feed_dict={x:5})"
   ]
  },
  {
   "cell_type": "code",
   "execution_count": 70,
   "id": "47de0ce1",
   "metadata": {},
   "outputs": [
    {
     "data": {
      "text/plain": [
       "array([11.000001, 13.000002, 15.000004], dtype=float32)"
      ]
     },
     "execution_count": 70,
     "metadata": {},
     "output_type": "execute_result"
    }
   ],
   "source": [
    "sess.run(H, feed_dict={x:np.array([5,6,7])})"
   ]
  },
  {
   "cell_type": "markdown",
   "id": "4cce0e83",
   "metadata": {},
   "source": [
    "## 2.3 scale이 다른 데이터의 linear regression 구현(scale조정X)"
   ]
  },
  {
   "cell_type": "code",
   "execution_count": 74,
   "id": "f001fe23",
   "metadata": {},
   "outputs": [
    {
     "name": "stdout",
     "output_type": "stream",
     "text": [
      "0째 : cost:3127.116943359375, W:[7.6668563], b:[1.1552657]\n",
      "200째 : cost:282.7760314941406, W:[9.374769], b:[6.612168]\n",
      "400째 : cost:281.80609130859375, W:[9.200927], b:[7.888951]\n",
      "600째 : cost:281.74603271484375, W:[9.157654], b:[8.206768]\n",
      "800째 : cost:281.7423095703125, W:[9.146882], b:[8.285881]\n",
      "1000째 : cost:281.7420654296875, W:[9.144201], b:[8.305573]\n",
      "1200째 : cost:281.74200439453125, W:[9.143534], b:[8.310477]\n",
      "1400째 : cost:281.7420349121094, W:[9.143368], b:[8.311695]\n",
      "1600째 : cost:281.74200439453125, W:[9.143327], b:[8.311997]\n",
      "1800째 : cost:281.74200439453125, W:[9.143323], b:[8.312025]\n",
      "2000째 : cost:281.74200439453125, W:[9.143323], b:[8.312025]\n",
      "2200째 : cost:281.74200439453125, W:[9.143323], b:[8.312025]\n",
      "2400째 : cost:281.74200439453125, W:[9.143323], b:[8.312025]\n",
      "2600째 : cost:281.74200439453125, W:[9.143323], b:[8.312025]\n",
      "2800째 : cost:281.74200439453125, W:[9.143323], b:[8.312025]\n",
      "3000째 : cost:281.74200439453125, W:[9.143323], b:[8.312025]\n"
     ]
    }
   ],
   "source": [
    "x_data = np.array([1,2,3,8,10])\n",
    "y_data = np.array([3,15,68,80,95])\n",
    "\n",
    "# placeholder 설정 (입력변수 x, 타겟변수 y)\n",
    "x = tf.placeholder(dtype=tf.float32)\n",
    "y = tf.placeholder(dtype=tf.float32)\n",
    "# W,b\n",
    "W = tf.Variable(tf.random.normal([1]))\n",
    "b = tf.Variable(tf.random.normal([1]))\n",
    "# Hypothesis(예측값)\n",
    "H = W*x + b\n",
    "# 손실함수 \n",
    "cost = tf.reduce_mean(tf.square(H-y))\n",
    "# 결사하강법\n",
    "train = tf.train.GradientDescentOptimizer(learning_rate=0.01).minimize(cost)\n",
    "# Session 객체 생성\n",
    "sess = tf.Session()\n",
    "sess.run(tf.global_variables_initializer()) # W,b 초기화\n",
    "# 3000번 학습\n",
    "for step in range(3001):\n",
    "    _, cost_val, W_val, b_val = sess.run([train, cost, W, b], \n",
    "                                         feed_dict={x:x_data,\n",
    "                                                   y:y_data})\n",
    "    if step%200 == 0:\n",
    "        print('{}째 : cost:{}, W:{}, b:{}'.format(step,\n",
    "                                                 cost_val,\n",
    "                                                 W_val,\n",
    "                                                 b_val\n",
    "        ))"
   ]
  },
  {
   "cell_type": "code",
   "execution_count": 75,
   "id": "4a119d86",
   "metadata": {},
   "outputs": [],
   "source": [
    "# cost값이 멈추는 이유는 local Minima에 빠져서 벗어나질 못함 / gloval Minima를 구해야 하는데 못 함"
   ]
  },
  {
   "cell_type": "markdown",
   "id": "dc16f35c",
   "metadata": {},
   "source": [
    "## 2.4 scale이 다른 데이터의 linear regression을 구현 (scale 조정O)\n",
    "### scale을 맞추기 : 모든 데이터를 일정 범위내로 조정\n",
    "- nomalization(정규화) : 0~1 사이로 조정\n",
    "                           X - Xmin\n",
    "        nomalization = ────────\n",
    "                          Xmax - Xmin\n",
    "            *위의 식을 써도 되지만 라이브러리를 씀 (sklearn.preprocessing.MinMaxScaler이용)\n",
    "\n",
    "- standardization(표준화) : 평균 0, 표준편차 1로 조정 \n",
    "                            X - Xmean(평균)\n",
    "        standardization = ──────────\n",
    "                             Xstd(표준편차)  \n",
    "            *위의 식을 써도 되지만 라이브러리를 쓰 (sklearn,preprocessing.StandardScaler이용)"
   ]
  },
  {
   "cell_type": "code",
   "execution_count": 131,
   "id": "19b95277",
   "metadata": {},
   "outputs": [
    {
     "name": "stdout",
     "output_type": "stream",
     "text": [
      "[0.         0.11111111 0.44444444 0.77777778 1.        ]\n",
      "[0.         0.13043478 0.70652174 0.83695652 1.        ]\n"
     ]
    }
   ],
   "source": [
    "# 라이브러리를 쓰지 않고 정규화 작업 (0~1사이로 작업)\n",
    "x_data = np.array([1,2,5,8,10])\n",
    "y_data = np.array([3,15,68,80,95])\n",
    "scaled_x_data = (x_data - x_data.min()) / (x_data.max()-x_data.min())\n",
    "scaled_y_data = (y_data - y_data.min()) / (y_data.max()- y_data.min())\n",
    "print(scaled_x_data)\n",
    "print(scaled_y_data)\n",
    "# y - ymin / (ymax- ymin) = pre\n",
    "# y = pre* (tmax- ymin) + ymin "
   ]
  },
  {
   "cell_type": "code",
   "execution_count": 136,
   "id": "ac43ee00",
   "metadata": {},
   "outputs": [
    {
     "data": {
      "text/plain": [
       "array([[ 1.        ,  3.        ,  0.        ,  0.        ],\n",
       "       [ 2.        , 15.        ,  0.11111111,  0.13043478],\n",
       "       [ 5.        , 68.        ,  0.44444444,  0.70652174],\n",
       "       [ 8.        , 80.        ,  0.77777778,  0.83695652],\n",
       "       [10.        , 95.        ,  1.        ,  1.        ]])"
      ]
     },
     "execution_count": 136,
     "metadata": {},
     "output_type": "execute_result"
    }
   ],
   "source": [
    "# 라이브러리를 쓰고 정규화 (MinMaxScaler이용) - 라이브러리를 쓰기 위해 2차원으로 만들어야 함(reshape)\n",
    "x_data = np.array([1,2,5,8,10]).reshape(-1,1)\n",
    "y_data = np.array([3,15,68,80,95]).reshape(-1,1)\n",
    "np.column_stack([x_data, y_data]) #독립변수, 타겟변수로 만들기 \n",
    "from sklearn.preprocessing import MinMaxScaler\n",
    "scaler_x = MinMaxScaler()  #x_data를 정규화시킬 객체 / 두개는 따로 만들어야 함\n",
    "# scaler_x.fit(x_data)\n",
    "# scaler_x_data = scaled_x.transform(x_data)\n",
    "scaled_x_data = scaler_x.fit_transform(x_data)\n",
    "scaled_x_data\n",
    "scaler_y = MinMaxScaler() #y_data를 정규화 시킬 객체\n",
    "scaled_y_data = scaler_y.fit_transform(y_data)\n",
    "np.column_stack([x_data, y_data, scaled_x_data, scaled_y_data])"
   ]
  },
  {
   "cell_type": "code",
   "execution_count": 137,
   "id": "52a691ba",
   "metadata": {},
   "outputs": [
    {
     "name": "stdout",
     "output_type": "stream",
     "text": [
      "0째 : cost:3.0997633934020996, W:[-0.9831988], b:[-0.58754915]\n",
      "600째 : cost:0.3388689160346985, W:[-0.2690252], b:[0.35785475]\n",
      "1200째 : cost:0.1582193374633789, W:[-0.00081126], b:[0.5119975]\n",
      "1800째 : cost:0.11701371520757675, W:[0.15350921], b:[0.496647]\n",
      "2400째 : cost:0.09062915295362473, W:[0.27005038], b:[0.44988802]\n",
      "3000째 : cost:0.0709182545542717, W:[0.36744136], b:[0.40175655]\n",
      "3600째 : cost:0.056026678532361984, W:[0.45124438], b:[0.35823318]\n",
      "4200째 : cost:0.04476763680577278, W:[0.52391744], b:[0.32001376]\n",
      "4800째 : cost:0.0362546443939209, W:[0.5870656], b:[0.28669667]\n",
      "5400째 : cost:0.02981794811785221, W:[0.64196557], b:[0.25770736]\n",
      "6000째 : cost:0.02495112642645836, W:[0.68970126], b:[0.23249574]\n",
      "6600째 : cost:0.021271271631121635, W:[0.7312093], b:[0.21057223]\n",
      "7200째 : cost:0.018488897010684013, W:[0.7673024], b:[0.19150841]\n",
      "7800째 : cost:0.016385145485401154, W:[0.7986867], b:[0.1749316]\n",
      "8400째 : cost:0.01479448564350605, W:[0.82597667], b:[0.16051741]\n",
      "9000째 : cost:0.013591784052550793, W:[0.84970635], b:[0.1479836]\n",
      "9600째 : cost:0.012682408094406128, W:[0.8703405], b:[0.13708498]\n",
      "10200째 : cost:0.011994821019470692, W:[0.88828295], b:[0.12760806]\n",
      "10800째 : cost:0.011474937200546265, W:[0.90388453], b:[0.11936747]\n",
      "11400째 : cost:0.011081850156188011, W:[0.9174506], b:[0.11220195]\n",
      "12000째 : cost:0.010784638114273548, W:[0.9292469], b:[0.10597128]\n"
     ]
    }
   ],
   "source": [
    "# placeholder 설정 (입력변수 x, 타겟변수 y)\n",
    "x = tf.placeholder(dtype=tf.float32)\n",
    "y = tf.placeholder(dtype=tf.float32)\n",
    "# W,b\n",
    "W = tf.Variable(tf.random.normal([1])) # 초기화\n",
    "b = tf.Variable(tf.random.normal([1])) # 초기화\n",
    "# Hypothesis(예측값)\n",
    "H = W*x + b\n",
    "# 손실함수 \n",
    "cost = tf.reduce_mean(tf.square(H-y))\n",
    "# 결사하강법\n",
    "train = tf.train.GradientDescentOptimizer(learning_rate=0.001).minimize(cost)\n",
    "# Session 객체 생성\n",
    "sess = tf.Session()\n",
    "sess.run(tf.global_variables_initializer()) # W,b 초기화\n",
    "# 12000번 학습\n",
    "for step in range(12001):\n",
    "    _, cost_val, W_val, b_val = sess.run([train, cost, W, b], \n",
    "                                         feed_dict={x:scaled_x_data,\n",
    "                                                   y:scaled_y_data})\n",
    "    if step%600 == 0:\n",
    "        print('{}째 : cost:{}, W:{}, b:{}'.format(step,\n",
    "                                                 cost_val,\n",
    "                                                 W_val,\n",
    "                                                 b_val\n",
    "        ))"
   ]
  },
  {
   "cell_type": "code",
   "execution_count": 128,
   "id": "5046aab2",
   "metadata": {},
   "outputs": [
    {
     "name": "stdout",
     "output_type": "stream",
     "text": [
      "모델 예측을 위한 입력 :\n",
      "[[0.11111111]\n",
      " [0.22222222]]\n",
      "모델 예측 결과 :\n",
      "[[0.53478575]\n",
      " [0.5347852 ]]\n",
      "결과\n",
      "[[52.200287]\n",
      " [52.200237]]\n"
     ]
    }
   ],
   "source": [
    "# 예측  : 특정한 값의 예측값 / 모델에 scale 조정된 값으로 예측 -> scale 조정된 y값         \n",
    "scaled_input = scaler_x.transform(np.array([[2],\n",
    "                                            [3]]))\n",
    "print('모델 예측을 위한 입력 :',scaled_input, sep='\\n')\n",
    "# scaled_input \n",
    "scaled_output = sess.run(H, feed_dict={x:scaled_input})\n",
    "print('모델 예측 결과 :',scaled_output, sep='\\n')\n",
    "print('결과', scaler_y.inverse_transform(scaled_output), sep='\\n')"
   ]
  },
  {
   "cell_type": "code",
   "execution_count": 138,
   "id": "2ea91baa",
   "metadata": {},
   "outputs": [],
   "source": [
    "# 예측 : x_data들의 예측값\n",
    "scaler_y_hat = sess.run(H, feed_dict={x:scaled_x_data})\n",
    "y_hat = scaler_y.inverse_transform(scaler_y_hat)\n",
    "# scaler_y_hat\n",
    "# scaled_x_data"
   ]
  },
  {
   "cell_type": "code",
   "execution_count": 139,
   "id": "38125b63",
   "metadata": {},
   "outputs": [
    {
     "data": {
      "image/png": "[encoded data removed]",
      "text/plain": [
       "<Figure size 640x480 with 1 Axes>"
      ]
     },
     "metadata": {},
     "output_type": "display_data"
    }
   ],
   "source": [
    "import matplotlib.pyplot as plt\n",
    "plt.plot(x_data, y_data, 'r')\n",
    "plt.plot(x_data, y_hat, 'b')\n",
    "plt.show()"
   ]
  },
  {
   "cell_type": "code",
   "execution_count": 140,
   "id": "e4ace727",
   "metadata": {},
   "outputs": [
    {
     "name": "stdout",
     "output_type": "stream",
     "text": [
      "[[ 1  3]\n",
      " [ 2 15]\n",
      " [ 5 68]\n",
      " [ 8 80]\n",
      " [10 95]]\n",
      "[[-1.22474487 -1.34819316]\n",
      " [-0.93313895 -1.01936556]\n",
      " [-0.05832118  0.43295634]\n",
      " [ 0.81649658  0.76178394]\n",
      " [ 1.39970842  1.17281844]]\n"
     ]
    }
   ],
   "source": [
    "# 라이브러리를 사용하여 표준화(StandardScaler이용) / -3에서 3사이로 눌러짐\n",
    "x_data = np.array([1,2,5,8,10]).reshape(-1,1)\n",
    "y_data = np.array([3,15,68,80,95]).reshape(-1,1)\n",
    "\n",
    "from sklearn.preprocessing import StandardScaler\n",
    "scaler_x = StandardScaler() #x_data를 표준화할 객체 \n",
    "scaler_y = StandardScaler() #y_data를 표준화할 객체\n",
    "scaled_x_data = scaler_x.fit_transform(x_data)\n",
    "scaled_y_data = scaler_y.fit_transform(y_data)\n",
    "print(np.column_stack([x_data, y_data]))\n",
    "print(np.column_stack([scaled_x_data, scaled_y_data]))\n",
    "\n"
   ]
  },
  {
   "cell_type": "code",
   "execution_count": 141,
   "id": "105bff9d",
   "metadata": {},
   "outputs": [
    {
     "name": "stdout",
     "output_type": "stream",
     "text": [
      "0째 : cost:1.494888424873352, W:[0.90654826], b:[-1.1927636]\n",
      "600째 : cost:0.19230052828788757, W:[0.94961816], b:[-0.35882232]\n",
      "1200째 : cost:0.0744158923625946, W:[0.962575], b:[-0.10794555]\n",
      "1800째 : cost:0.06374727934598923, W:[0.96647286], b:[-0.03247348]\n",
      "2400째 : cost:0.06278176605701447, W:[0.9676454], b:[-0.00976907]\n",
      "3000째 : cost:0.06269439309835434, W:[0.9679977], b:[-0.00293885]\n",
      "3600째 : cost:0.0626864805817604, W:[0.968105], b:[-0.00088409]\n",
      "4200째 : cost:0.0626857727766037, W:[0.96813506], b:[-0.00026595]\n",
      "4800째 : cost:0.06268570572137833, W:[0.96813506], b:[-7.998711e-05]\n",
      "5400째 : cost:0.06268569082021713, W:[0.96813506], b:[-2.4044126e-05]\n",
      "6000째 : cost:0.06268568336963654, W:[0.96813506], b:[-7.2144758e-06]\n",
      "6600째 : cost:0.06268569827079773, W:[0.96813506], b:[-2.1517403e-06]\n",
      "7200째 : cost:0.06268570572137833, W:[0.96813506], b:[-6.285987e-07]\n",
      "7800째 : cost:0.06268569082021713, W:[0.96813506], b:[-1.6907005e-07]\n",
      "8400째 : cost:0.06268569827079773, W:[0.96813506], b:[-3.6144623e-08]\n",
      "9000째 : cost:0.06268569082021713, W:[0.96813506], b:[4.5206483e-09]\n",
      "9600째 : cost:0.06268569082021713, W:[0.96813506], b:[2.6872655e-08]\n",
      "10200째 : cost:0.06268569827079773, W:[0.96813506], b:[2.9823152e-08]\n",
      "10800째 : cost:0.06268569827079773, W:[0.96813506], b:[2.98008e-08]\n",
      "11400째 : cost:0.06268569082021713, W:[0.96813506], b:[2.9830602e-08]\n",
      "12000째 : cost:0.06268569827079773, W:[0.96813506], b:[2.9808252e-08]\n"
     ]
    }
   ],
   "source": [
    "# placeholder 설정 (입력변수 x, 타겟변수 y)\n",
    "x = tf.placeholder(dtype=tf.float32)\n",
    "y = tf.placeholder(dtype=tf.float32)\n",
    "# W,b\n",
    "W = tf.Variable(tf.random.normal([1])) # 초기화\n",
    "b = tf.Variable(tf.random.normal([1])) # 초기화\n",
    "# Hypothesis(예측값)\n",
    "H = W*x + b\n",
    "# 손실함수 \n",
    "cost = tf.reduce_mean(tf.square(H-y))\n",
    "# 결사하강법\n",
    "train = tf.train.GradientDescentOptimizer(learning_rate=0.001).minimize(cost)\n",
    "# Session 객체 생성\n",
    "sess = tf.Session()\n",
    "sess.run(tf.global_variables_initializer()) # W,b 초기화\n",
    "# 12000번 학습\n",
    "for step in range(12001):\n",
    "    _, cost_val, W_val, b_val = sess.run([train, cost, W, b], \n",
    "                                         feed_dict={x:scaled_x_data,\n",
    "                                                   y:scaled_y_data})\n",
    "    if step%600 == 0:\n",
    "        print('{}째 : cost:{}, W:{}, b:{}'.format(step,\n",
    "                                                 cost_val,\n",
    "                                                 W_val,\n",
    "                                                 b_val\n",
    "        ))"
   ]
  },
  {
   "cell_type": "code",
   "execution_count": 143,
   "id": "c7b81b30",
   "metadata": {},
   "outputs": [
    {
     "data": {
      "image/png": "[encoded data removed]",
      "text/plain": [
       "<Figure size 640x480 with 1 Axes>"
      ]
     },
     "metadata": {},
     "output_type": "display_data"
    }
   ],
   "source": [
    "# 예측 : x_data들의 예측값\n",
    "scaled_y_hat = sess.run(H, feed_dict={x:scaled_x_data})\n",
    "y_hat = scaler_y.inverse_transform(scaled_y_hat)\n",
    "import matplotlib.pyplot as plt\n",
    "plt.plot(x_data, y_data, 'r')\n",
    "plt.plot(x_data, y_hat, 'b')\n",
    "plt.show()"
   ]
  },
  {
   "cell_type": "code",
   "execution_count": null,
   "id": "4f362ba5",
   "metadata": {},
   "outputs": [],
   "source": []
  },
  {
   "cell_type": "code",
   "execution_count": null,
   "id": "294fabd9",
   "metadata": {},
   "outputs": [],
   "source": []
  },
  {
   "cell_type": "code",
   "execution_count": null,
   "id": "de35d57f",
   "metadata": {},
   "outputs": [],
   "source": []
  },
  {
   "cell_type": "code",
   "execution_count": null,
   "id": "dc6fc727",
   "metadata": {},
   "outputs": [],
   "source": [
    "                                                   "
   ]
  },
  {
   "cell_type": "code",
   "execution_count": null,
   "id": "1269de11",
   "metadata": {},
   "outputs": [],
   "source": []
  }
 ],
 "metadata": {
  "kernelspec": {
   "display_name": "ml-dl-nlp",
   "language": "python",
   "name": "ml-dl-nlp"
  },
  "language_info": {
   "codemirror_mode": {
    "name": "ipython",
    "version": 3
   },
   "file_extension": ".py",
   "mimetype": "text/x-python",
   "name": "python",
   "nbconvert_exporter": "python",
   "pygments_lexer": "ipython3",
   "version": "3.10.18"
  },
  "toc": {
   "base_numbering": 1,
   "nav_menu": {},
   "number_sections": false,
   "sideBar": true,
   "skip_h1_title": false,
   "title_cell": "Table of Contents",
   "title_sidebar": "Contents",
   "toc_cell": false,
   "toc_position": {
    "height": "calc(100% - 180px)",
    "left": "10px",
    "top": "150px",
    "width": "257.986px"
   },
   "toc_section_display": true,
   "toc_window_display": true
  }
 },
 "nbformat": 4,
 "nbformat_minor": 5
}
