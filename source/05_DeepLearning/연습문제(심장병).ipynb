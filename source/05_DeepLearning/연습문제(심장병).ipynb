{
 "cells": [
  {
   "cell_type": "code",
   "execution_count": 1,
   "id": "84c43c47",
   "metadata": {},
   "outputs": [
    {
     "data": {
      "text/html": [
       "\n",
       "<style>\n",
       "div.container{width:86% !important;}\n",
       "div.cell.code_cell.rendered{width:100%;}\n",
       "div.CodeMirror {font-family:Consolas; font-size:15pt;}\n",
       "div.output {font-size:15pt; font-weight:bold;}\n",
       "div.input {font-family:Consolas; font-size:15pt;}\n",
       "div.prompt {min-width:70px;}\n",
       "div#toc-wrapper{padding-top:120px;}\n",
       "div.text_cell_render ul li{font-size:12pt;padding:5px;}\n",
       "table.dataframe{font-size:15px;}\n",
       "</style>\n",
       " "
      ],
      "text/plain": [
       "<IPython.core.display.HTML object>"
      ]
     },
     "metadata": {},
     "output_type": "display_data"
    }
   ],
   "source": [
    "from IPython.display import display, HTML \n",
    "display(HTML(\"\"\"\n",
    "<style>\n",
    "div.container{width:86% !important;}\n",
    "div.cell.code_cell.rendered{width:100%;}\n",
    "div.CodeMirror {font-family:Consolas; font-size:15pt;}\n",
    "div.output {font-size:15pt; font-weight:bold;}\n",
    "div.input {font-family:Consolas; font-size:15pt;}\n",
    "div.prompt {min-width:70px;}\n",
    "div#toc-wrapper{padding-top:120px;}\n",
    "div.text_cell_render ul li{font-size:12pt;padding:5px;}\n",
    "table.dataframe{font-size:15px;}\n",
    "</style>\n",
    " \"\"\"))"
   ]
  },
  {
   "cell_type": "code",
   "execution_count": 4,
   "id": "612b9769",
   "metadata": {},
   "outputs": [],
   "source": [
    "import numpy as np\n",
    "import pandas as pd                                  \n",
    "import sys\n",
    "from tensorflow.keras.utils import to_categorical   # 원핫인코딩\n",
    "from tensorflow.keras.models import Sequential, save_model,load_model # 모델 만들기\n",
    "from tensorflow.keras.layers import Dense, Input, Dropout\n",
    "from matplotlib import pyplot as plt\n",
    "from sklearn.metrics import confusion_matrix # 혼동행렬\n",
    "from sklearn.preprocessing import MinMaxScaler, StandardScaler\n",
    "from sklearn.model_selection import train_test_split # 데이터 분리 "
   ]
  },
  {
   "cell_type": "markdown",
   "id": "62e6fd1b",
   "metadata": {},
   "source": [
    "### 컬럼명   의미 및 설명\n",
    "\n",
    "- cp   흉통의 유형 (Chest Pain type)\n",
    "    - 0: 전형적 협심증 / 1: 비전형적 협심증 / 2: 비심장성 흉통 / 3: 무증상\n",
    "- treshtbps   안정 시 수축기 혈압 (Resting Blood Pressure in mm Hg)\n",
    "- chol   혈청 콜레스테롤 수치 (Serum Cholesterol in mg/dl)\n",
    "- fbs   공복혈당 120mg/dl 이상 여부 (Fasting Blood Sugar) - 1: Yes, 0: No\n",
    "- restecg   안정 시 심전도 결과 (Resting Electrocardiographic Results)\n",
    "    - 0: 정상 / 1: ST-T 이상 / 2: 좌심실 비대 가능성\n",
    "- thalach   최대 심박수 (Maximum Heart Rate Achieved)\n",
    "- exang   운동 중 협심증 여부 (Exercise Induced Angina) - 1: 있음, 0: 없음\n",
    "- oldpeak   운동 후 ST 감소 정도 (ST Depression induced by exercise relative to rest)\n",
    "- slope   ST segment의 기울기 (Slope of the peak exercise ST segment)\n",
    "    - 1: 수평  / 2: 상승  / 3: 하강\n",
    "- ca   형광투시검사에서 관찰된 주요 혈관 수 (Number of major vessels colored by fluoroscopy)\n",
    "- hsl (일반적으로 thal로 표기됨)   지혈소 상태 (Thalassemia)\n",
    "    - 3: 정상 / 6: 고정결함 / 7: 가역적 결함\n",
    "- heartDisease   심장병 여부 (Target Variable)\n",
    "    - 1: 심장병 있음 / 0: 없음"
   ]
  },
  {
   "cell_type": "markdown",
   "id": "1dec50f3",
   "metadata": {},
   "source": [
    "# 이진분류\n",
    "\n",
    "```\n",
    "1. 데이터 셋 생성 & 전처리 \n",
    "    엑셀 -> 데이터 프레임 -> ? 처리(df.replace('?',np.nan) -> 결측치 처리 \n",
    "    -> x,y 분리 -> X변수 스케일 조정 - > train_test_split함수로 학습셋과 테스트셋 분리(2개로 분리)\n",
    "    \n",
    "2. 모델 생성(입력 13, 출력1) & 학습과정 설정 & 학습\n",
    "3. 모델 평가 (그래프, 평가, 교차표) ※회귀분석에는 교차표 못 그림 \n",
    "4 모델 사용 (저장,예측) 0.5보다 큰지\n",
    "```\n",
    "\n",
    "\n",
    "# 분류분석\n",
    "\n",
    "```\n",
    "1. 데이터 셋 생성 & 전처리 \n",
    "    엑셀 -> 데이터 프레임 -> ? 처리(df.replace('?',np.nan) -> 결측치 처리 \n",
    "    -> x,y 분리 -> X변수 스케일 조정 - > train_test_split함수로 학습셋과 테스트셋 분리(2개로 분리)\n",
    "    -> y변수들의 원핫인코딩\n",
    "    \n",
    "2. 모델 생성(입력 13, 출력2) & 학습과정 설정 & 학습\n",
    "3. 모델 평가 (그래프, 평가, 교차표)\n",
    "4 모델 사용 (저장,예측) argmax\n",
    "```"
   ]
  },
  {
   "cell_type": "markdown",
   "id": "1a9cca78",
   "metadata": {},
   "source": [
    "# 이진분류\n",
    "## 1. 데이터 셋 생성 & 전처리 \n",
    "    엑셀 -> 데이터 프레임 -> ? 처리(df.replace('?',np.nan) -> 결측치 처리 \n",
    "    -> x,y 분리 -> X변수 스케일 조정 - > train_test_split함수로 학습셋과 테스트셋 분리(2개로 분리)\n"
   ]
  },
  {
   "cell_type": "code",
   "execution_count": 99,
   "id": "dc91d974",
   "metadata": {},
   "outputs": [
    {
     "name": "stdout",
     "output_type": "stream",
     "text": [
      "<class 'pandas.core.frame.DataFrame'>\n",
      "RangeIndex: 303 entries, 0 to 302\n",
      "Data columns (total 14 columns):\n",
      " #   Column        Non-Null Count  Dtype  \n",
      "---  ------        --------------  -----  \n",
      " 0   age           303 non-null    int64  \n",
      " 1   sex           303 non-null    int64  \n",
      " 2   cp            303 non-null    int64  \n",
      " 3   treshtbps     303 non-null    int64  \n",
      " 4   chol          303 non-null    object \n",
      " 5   fbs           303 non-null    int64  \n",
      " 6   restecg       303 non-null    int64  \n",
      " 7   thalach       303 non-null    int64  \n",
      " 8   exang         303 non-null    int64  \n",
      " 9   oldpeak       303 non-null    float64\n",
      " 10  slope         303 non-null    int64  \n",
      " 11  ca            303 non-null    object \n",
      " 12  hsl           303 non-null    object \n",
      " 13  heartDisease  303 non-null    int64  \n",
      "dtypes: float64(1), int64(10), object(3)\n",
      "memory usage: 33.3+ KB\n"
     ]
    }
   ],
   "source": [
    "# 데이터 셋 생성 \n",
    "dataset = pd.read_excel('data/heart-disease.xlsx')\n",
    "dataset.info() # ?(물음표)가있다면 int가 안나오고 object로 나타남"
   ]
  },
  {
   "cell_type": "code",
   "execution_count": 100,
   "id": "24fedb7d",
   "metadata": {},
   "outputs": [
    {
     "data": {
      "text/plain": [
       "age             False\n",
       "sex             False\n",
       "cp              False\n",
       "treshtbps       False\n",
       "chol             True\n",
       "fbs             False\n",
       "restecg         False\n",
       "thalach         False\n",
       "exang           False\n",
       "oldpeak         False\n",
       "slope           False\n",
       "ca               True\n",
       "hsl              True\n",
       "heartDisease    False\n",
       "dtype: bool"
      ]
     },
     "execution_count": 100,
     "metadata": {},
     "output_type": "execute_result"
    }
   ],
   "source": [
    "dataset.isin(['?']).any() # 물음표가 있는 열 여부"
   ]
  },
  {
   "cell_type": "code",
   "execution_count": 35,
   "id": "3eb69082",
   "metadata": {
    "collapsed": true
   },
   "outputs": [
    {
     "data": {
      "text/html": [
       "<div>\n",
       "<style scoped>\n",
       "    .dataframe tbody tr th:only-of-type {\n",
       "        vertical-align: middle;\n",
       "    }\n",
       "\n",
       "    .dataframe tbody tr th {\n",
       "        vertical-align: top;\n",
       "    }\n",
       "\n",
       "    .dataframe thead th {\n",
       "        text-align: right;\n",
       "    }\n",
       "</style>\n",
       "<table border=\"1\" class=\"dataframe\">\n",
       "  <thead>\n",
       "    <tr style=\"text-align: right;\">\n",
       "      <th></th>\n",
       "      <th>age</th>\n",
       "      <th>sex</th>\n",
       "      <th>cp</th>\n",
       "      <th>treshtbps</th>\n",
       "      <th>chol</th>\n",
       "      <th>fbs</th>\n",
       "      <th>restecg</th>\n",
       "      <th>thalach</th>\n",
       "      <th>exang</th>\n",
       "      <th>oldpeak</th>\n",
       "      <th>slope</th>\n",
       "      <th>ca</th>\n",
       "      <th>hsl</th>\n",
       "      <th>heartDisease</th>\n",
       "    </tr>\n",
       "  </thead>\n",
       "  <tbody>\n",
       "    <tr>\n",
       "      <th>0</th>\n",
       "      <td>63</td>\n",
       "      <td>1</td>\n",
       "      <td>1</td>\n",
       "      <td>145</td>\n",
       "      <td>233</td>\n",
       "      <td>1</td>\n",
       "      <td>2</td>\n",
       "      <td>150</td>\n",
       "      <td>0</td>\n",
       "      <td>2.3</td>\n",
       "      <td>3</td>\n",
       "      <td>0</td>\n",
       "      <td>6</td>\n",
       "      <td>0</td>\n",
       "    </tr>\n",
       "    <tr>\n",
       "      <th>1</th>\n",
       "      <td>67</td>\n",
       "      <td>1</td>\n",
       "      <td>4</td>\n",
       "      <td>160</td>\n",
       "      <td>286</td>\n",
       "      <td>0</td>\n",
       "      <td>0</td>\n",
       "      <td>108</td>\n",
       "      <td>1</td>\n",
       "      <td>1.5</td>\n",
       "      <td>2</td>\n",
       "      <td>3</td>\n",
       "      <td>3</td>\n",
       "      <td>1</td>\n",
       "    </tr>\n",
       "    <tr>\n",
       "      <th>2</th>\n",
       "      <td>67</td>\n",
       "      <td>1</td>\n",
       "      <td>4</td>\n",
       "      <td>120</td>\n",
       "      <td>?</td>\n",
       "      <td>0</td>\n",
       "      <td>2</td>\n",
       "      <td>129</td>\n",
       "      <td>1</td>\n",
       "      <td>2.6</td>\n",
       "      <td>2</td>\n",
       "      <td>2</td>\n",
       "      <td>7</td>\n",
       "      <td>1</td>\n",
       "    </tr>\n",
       "    <tr>\n",
       "      <th>3</th>\n",
       "      <td>37</td>\n",
       "      <td>1</td>\n",
       "      <td>3</td>\n",
       "      <td>130</td>\n",
       "      <td>250</td>\n",
       "      <td>0</td>\n",
       "      <td>0</td>\n",
       "      <td>187</td>\n",
       "      <td>0</td>\n",
       "      <td>3.5</td>\n",
       "      <td>3</td>\n",
       "      <td>0</td>\n",
       "      <td>3</td>\n",
       "      <td>0</td>\n",
       "    </tr>\n",
       "    <tr>\n",
       "      <th>4</th>\n",
       "      <td>41</td>\n",
       "      <td>0</td>\n",
       "      <td>2</td>\n",
       "      <td>130</td>\n",
       "      <td>204</td>\n",
       "      <td>0</td>\n",
       "      <td>2</td>\n",
       "      <td>172</td>\n",
       "      <td>0</td>\n",
       "      <td>1.4</td>\n",
       "      <td>1</td>\n",
       "      <td>0</td>\n",
       "      <td>3</td>\n",
       "      <td>0</td>\n",
       "    </tr>\n",
       "    <tr>\n",
       "      <th>...</th>\n",
       "      <td>...</td>\n",
       "      <td>...</td>\n",
       "      <td>...</td>\n",
       "      <td>...</td>\n",
       "      <td>...</td>\n",
       "      <td>...</td>\n",
       "      <td>...</td>\n",
       "      <td>...</td>\n",
       "      <td>...</td>\n",
       "      <td>...</td>\n",
       "      <td>...</td>\n",
       "      <td>...</td>\n",
       "      <td>...</td>\n",
       "      <td>...</td>\n",
       "    </tr>\n",
       "    <tr>\n",
       "      <th>298</th>\n",
       "      <td>45</td>\n",
       "      <td>1</td>\n",
       "      <td>1</td>\n",
       "      <td>110</td>\n",
       "      <td>264</td>\n",
       "      <td>0</td>\n",
       "      <td>0</td>\n",
       "      <td>132</td>\n",
       "      <td>0</td>\n",
       "      <td>1.2</td>\n",
       "      <td>2</td>\n",
       "      <td>0</td>\n",
       "      <td>7</td>\n",
       "      <td>1</td>\n",
       "    </tr>\n",
       "    <tr>\n",
       "      <th>299</th>\n",
       "      <td>68</td>\n",
       "      <td>1</td>\n",
       "      <td>4</td>\n",
       "      <td>144</td>\n",
       "      <td>193</td>\n",
       "      <td>1</td>\n",
       "      <td>0</td>\n",
       "      <td>141</td>\n",
       "      <td>0</td>\n",
       "      <td>3.4</td>\n",
       "      <td>2</td>\n",
       "      <td>2</td>\n",
       "      <td>7</td>\n",
       "      <td>1</td>\n",
       "    </tr>\n",
       "    <tr>\n",
       "      <th>300</th>\n",
       "      <td>57</td>\n",
       "      <td>1</td>\n",
       "      <td>4</td>\n",
       "      <td>130</td>\n",
       "      <td>131</td>\n",
       "      <td>0</td>\n",
       "      <td>0</td>\n",
       "      <td>115</td>\n",
       "      <td>1</td>\n",
       "      <td>1.2</td>\n",
       "      <td>2</td>\n",
       "      <td>1</td>\n",
       "      <td>7</td>\n",
       "      <td>1</td>\n",
       "    </tr>\n",
       "    <tr>\n",
       "      <th>301</th>\n",
       "      <td>57</td>\n",
       "      <td>0</td>\n",
       "      <td>2</td>\n",
       "      <td>130</td>\n",
       "      <td>236</td>\n",
       "      <td>0</td>\n",
       "      <td>2</td>\n",
       "      <td>174</td>\n",
       "      <td>0</td>\n",
       "      <td>0.0</td>\n",
       "      <td>2</td>\n",
       "      <td>1</td>\n",
       "      <td>3</td>\n",
       "      <td>1</td>\n",
       "    </tr>\n",
       "    <tr>\n",
       "      <th>302</th>\n",
       "      <td>38</td>\n",
       "      <td>1</td>\n",
       "      <td>3</td>\n",
       "      <td>138</td>\n",
       "      <td>175</td>\n",
       "      <td>0</td>\n",
       "      <td>0</td>\n",
       "      <td>173</td>\n",
       "      <td>0</td>\n",
       "      <td>0.0</td>\n",
       "      <td>1</td>\n",
       "      <td>?</td>\n",
       "      <td>3</td>\n",
       "      <td>0</td>\n",
       "    </tr>\n",
       "  </tbody>\n",
       "</table>\n",
       "<p>303 rows × 14 columns</p>\n",
       "</div>"
      ],
      "text/plain": [
       "     age  sex  cp  treshtbps chol  fbs  restecg  thalach  exang  oldpeak  slope ca hsl  heartDisease\n",
       "0     63    1   1        145  233    1        2      150      0      2.3      3  0   6             0\n",
       "1     67    1   4        160  286    0        0      108      1      1.5      2  3   3             1\n",
       "2     67    1   4        120    ?    0        2      129      1      2.6      2  2   7             1\n",
       "3     37    1   3        130  250    0        0      187      0      3.5      3  0   3             0\n",
       "4     41    0   2        130  204    0        2      172      0      1.4      1  0   3             0\n",
       "..   ...  ...  ..        ...  ...  ...      ...      ...    ...      ...    ... ..  ..           ...\n",
       "298   45    1   1        110  264    0        0      132      0      1.2      2  0   7             1\n",
       "299   68    1   4        144  193    1        0      141      0      3.4      2  2   7             1\n",
       "300   57    1   4        130  131    0        0      115      1      1.2      2  1   7             1\n",
       "301   57    0   2        130  236    0        2      174      0      0.0      2  1   3             1\n",
       "302   38    1   3        138  175    0        0      173      0      0.0      1  ?   3             0\n",
       "\n",
       "[303 rows x 14 columns]"
      ]
     },
     "execution_count": 35,
     "metadata": {},
     "output_type": "execute_result"
    }
   ],
   "source": [
    "dataset # 결측치 있는 원본 데이터"
   ]
  },
  {
   "cell_type": "code",
   "execution_count": 101,
   "id": "b3b37aff",
   "metadata": {},
   "outputs": [
    {
     "data": {
      "text/html": [
       "<div>\n",
       "<style scoped>\n",
       "    .dataframe tbody tr th:only-of-type {\n",
       "        vertical-align: middle;\n",
       "    }\n",
       "\n",
       "    .dataframe tbody tr th {\n",
       "        vertical-align: top;\n",
       "    }\n",
       "\n",
       "    .dataframe thead th {\n",
       "        text-align: right;\n",
       "    }\n",
       "</style>\n",
       "<table border=\"1\" class=\"dataframe\">\n",
       "  <thead>\n",
       "    <tr style=\"text-align: right;\">\n",
       "      <th></th>\n",
       "      <th>age</th>\n",
       "      <th>sex</th>\n",
       "      <th>cp</th>\n",
       "      <th>treshtbps</th>\n",
       "      <th>chol</th>\n",
       "      <th>fbs</th>\n",
       "      <th>restecg</th>\n",
       "      <th>thalach</th>\n",
       "      <th>exang</th>\n",
       "      <th>oldpeak</th>\n",
       "      <th>slope</th>\n",
       "      <th>ca</th>\n",
       "      <th>hsl</th>\n",
       "      <th>heartDisease</th>\n",
       "    </tr>\n",
       "  </thead>\n",
       "  <tbody>\n",
       "    <tr>\n",
       "      <th>2</th>\n",
       "      <td>67</td>\n",
       "      <td>1</td>\n",
       "      <td>4</td>\n",
       "      <td>120</td>\n",
       "      <td>?</td>\n",
       "      <td>0</td>\n",
       "      <td>2</td>\n",
       "      <td>129</td>\n",
       "      <td>1</td>\n",
       "      <td>2.6</td>\n",
       "      <td>2</td>\n",
       "      <td>2</td>\n",
       "      <td>7</td>\n",
       "      <td>1</td>\n",
       "    </tr>\n",
       "    <tr>\n",
       "      <th>87</th>\n",
       "      <td>53</td>\n",
       "      <td>0</td>\n",
       "      <td>3</td>\n",
       "      <td>128</td>\n",
       "      <td>216</td>\n",
       "      <td>0</td>\n",
       "      <td>2</td>\n",
       "      <td>115</td>\n",
       "      <td>0</td>\n",
       "      <td>0.0</td>\n",
       "      <td>1</td>\n",
       "      <td>0</td>\n",
       "      <td>?</td>\n",
       "      <td>0</td>\n",
       "    </tr>\n",
       "    <tr>\n",
       "      <th>166</th>\n",
       "      <td>52</td>\n",
       "      <td>1</td>\n",
       "      <td>3</td>\n",
       "      <td>138</td>\n",
       "      <td>223</td>\n",
       "      <td>0</td>\n",
       "      <td>0</td>\n",
       "      <td>169</td>\n",
       "      <td>0</td>\n",
       "      <td>0.0</td>\n",
       "      <td>1</td>\n",
       "      <td>?</td>\n",
       "      <td>3</td>\n",
       "      <td>0</td>\n",
       "    </tr>\n",
       "    <tr>\n",
       "      <th>192</th>\n",
       "      <td>43</td>\n",
       "      <td>1</td>\n",
       "      <td>4</td>\n",
       "      <td>132</td>\n",
       "      <td>247</td>\n",
       "      <td>1</td>\n",
       "      <td>2</td>\n",
       "      <td>143</td>\n",
       "      <td>1</td>\n",
       "      <td>0.1</td>\n",
       "      <td>2</td>\n",
       "      <td>?</td>\n",
       "      <td>7</td>\n",
       "      <td>1</td>\n",
       "    </tr>\n",
       "    <tr>\n",
       "      <th>266</th>\n",
       "      <td>52</td>\n",
       "      <td>1</td>\n",
       "      <td>4</td>\n",
       "      <td>128</td>\n",
       "      <td>204</td>\n",
       "      <td>1</td>\n",
       "      <td>0</td>\n",
       "      <td>156</td>\n",
       "      <td>1</td>\n",
       "      <td>1.0</td>\n",
       "      <td>2</td>\n",
       "      <td>0</td>\n",
       "      <td>?</td>\n",
       "      <td>1</td>\n",
       "    </tr>\n",
       "    <tr>\n",
       "      <th>287</th>\n",
       "      <td>58</td>\n",
       "      <td>1</td>\n",
       "      <td>2</td>\n",
       "      <td>125</td>\n",
       "      <td>220</td>\n",
       "      <td>0</td>\n",
       "      <td>0</td>\n",
       "      <td>144</td>\n",
       "      <td>0</td>\n",
       "      <td>0.4</td>\n",
       "      <td>2</td>\n",
       "      <td>?</td>\n",
       "      <td>7</td>\n",
       "      <td>0</td>\n",
       "    </tr>\n",
       "    <tr>\n",
       "      <th>302</th>\n",
       "      <td>38</td>\n",
       "      <td>1</td>\n",
       "      <td>3</td>\n",
       "      <td>138</td>\n",
       "      <td>175</td>\n",
       "      <td>0</td>\n",
       "      <td>0</td>\n",
       "      <td>173</td>\n",
       "      <td>0</td>\n",
       "      <td>0.0</td>\n",
       "      <td>1</td>\n",
       "      <td>?</td>\n",
       "      <td>3</td>\n",
       "      <td>0</td>\n",
       "    </tr>\n",
       "  </tbody>\n",
       "</table>\n",
       "</div>"
      ],
      "text/plain": [
       "     age  sex  cp  treshtbps chol  fbs  restecg  thalach  exang  oldpeak  slope ca hsl  heartDisease\n",
       "2     67    1   4        120    ?    0        2      129      1      2.6      2  2   7             1\n",
       "87    53    0   3        128  216    0        2      115      0      0.0      1  0   ?             0\n",
       "166   52    1   3        138  223    0        0      169      0      0.0      1  ?   3             0\n",
       "192   43    1   4        132  247    1        2      143      1      0.1      2  ?   7             1\n",
       "266   52    1   4        128  204    1        0      156      1      1.0      2  0   ?             1\n",
       "287   58    1   2        125  220    0        0      144      0      0.4      2  ?   7             0\n",
       "302   38    1   3        138  175    0        0      173      0      0.0      1  ?   3             0"
      ]
     },
     "execution_count": 101,
     "metadata": {},
     "output_type": "execute_result"
    }
   ],
   "source": [
    "dataset[(dataset['chol']=='?')|(dataset['ca']=='?')|(dataset['hsl']=='?')]"
   ]
  },
  {
   "cell_type": "code",
   "execution_count": 45,
   "id": "1eba8889",
   "metadata": {},
   "outputs": [
    {
     "data": {
      "text/html": [
       "<div>\n",
       "<style scoped>\n",
       "    .dataframe tbody tr th:only-of-type {\n",
       "        vertical-align: middle;\n",
       "    }\n",
       "\n",
       "    .dataframe tbody tr th {\n",
       "        vertical-align: top;\n",
       "    }\n",
       "\n",
       "    .dataframe thead th {\n",
       "        text-align: right;\n",
       "    }\n",
       "</style>\n",
       "<table border=\"1\" class=\"dataframe\">\n",
       "  <thead>\n",
       "    <tr style=\"text-align: right;\">\n",
       "      <th></th>\n",
       "      <th>age</th>\n",
       "      <th>sex</th>\n",
       "      <th>cp</th>\n",
       "      <th>treshtbps</th>\n",
       "      <th>chol</th>\n",
       "      <th>fbs</th>\n",
       "      <th>restecg</th>\n",
       "      <th>thalach</th>\n",
       "      <th>exang</th>\n",
       "      <th>oldpeak</th>\n",
       "      <th>slope</th>\n",
       "      <th>ca</th>\n",
       "      <th>hsl</th>\n",
       "      <th>heartDisease</th>\n",
       "    </tr>\n",
       "  </thead>\n",
       "  <tbody>\n",
       "    <tr>\n",
       "      <th>0</th>\n",
       "      <td>63</td>\n",
       "      <td>1</td>\n",
       "      <td>1</td>\n",
       "      <td>145</td>\n",
       "      <td>233.0</td>\n",
       "      <td>1</td>\n",
       "      <td>2</td>\n",
       "      <td>150</td>\n",
       "      <td>0</td>\n",
       "      <td>2.3</td>\n",
       "      <td>3</td>\n",
       "      <td>0.0</td>\n",
       "      <td>6.0</td>\n",
       "      <td>0</td>\n",
       "    </tr>\n",
       "    <tr>\n",
       "      <th>1</th>\n",
       "      <td>67</td>\n",
       "      <td>1</td>\n",
       "      <td>4</td>\n",
       "      <td>160</td>\n",
       "      <td>286.0</td>\n",
       "      <td>0</td>\n",
       "      <td>0</td>\n",
       "      <td>108</td>\n",
       "      <td>1</td>\n",
       "      <td>1.5</td>\n",
       "      <td>2</td>\n",
       "      <td>3.0</td>\n",
       "      <td>3.0</td>\n",
       "      <td>1</td>\n",
       "    </tr>\n",
       "    <tr>\n",
       "      <th>2</th>\n",
       "      <td>67</td>\n",
       "      <td>1</td>\n",
       "      <td>4</td>\n",
       "      <td>120</td>\n",
       "      <td>NaN</td>\n",
       "      <td>0</td>\n",
       "      <td>2</td>\n",
       "      <td>129</td>\n",
       "      <td>1</td>\n",
       "      <td>2.6</td>\n",
       "      <td>2</td>\n",
       "      <td>2.0</td>\n",
       "      <td>7.0</td>\n",
       "      <td>1</td>\n",
       "    </tr>\n",
       "    <tr>\n",
       "      <th>3</th>\n",
       "      <td>37</td>\n",
       "      <td>1</td>\n",
       "      <td>3</td>\n",
       "      <td>130</td>\n",
       "      <td>250.0</td>\n",
       "      <td>0</td>\n",
       "      <td>0</td>\n",
       "      <td>187</td>\n",
       "      <td>0</td>\n",
       "      <td>3.5</td>\n",
       "      <td>3</td>\n",
       "      <td>0.0</td>\n",
       "      <td>3.0</td>\n",
       "      <td>0</td>\n",
       "    </tr>\n",
       "    <tr>\n",
       "      <th>4</th>\n",
       "      <td>41</td>\n",
       "      <td>0</td>\n",
       "      <td>2</td>\n",
       "      <td>130</td>\n",
       "      <td>204.0</td>\n",
       "      <td>0</td>\n",
       "      <td>2</td>\n",
       "      <td>172</td>\n",
       "      <td>0</td>\n",
       "      <td>1.4</td>\n",
       "      <td>1</td>\n",
       "      <td>0.0</td>\n",
       "      <td>3.0</td>\n",
       "      <td>0</td>\n",
       "    </tr>\n",
       "    <tr>\n",
       "      <th>...</th>\n",
       "      <td>...</td>\n",
       "      <td>...</td>\n",
       "      <td>...</td>\n",
       "      <td>...</td>\n",
       "      <td>...</td>\n",
       "      <td>...</td>\n",
       "      <td>...</td>\n",
       "      <td>...</td>\n",
       "      <td>...</td>\n",
       "      <td>...</td>\n",
       "      <td>...</td>\n",
       "      <td>...</td>\n",
       "      <td>...</td>\n",
       "      <td>...</td>\n",
       "    </tr>\n",
       "    <tr>\n",
       "      <th>298</th>\n",
       "      <td>45</td>\n",
       "      <td>1</td>\n",
       "      <td>1</td>\n",
       "      <td>110</td>\n",
       "      <td>264.0</td>\n",
       "      <td>0</td>\n",
       "      <td>0</td>\n",
       "      <td>132</td>\n",
       "      <td>0</td>\n",
       "      <td>1.2</td>\n",
       "      <td>2</td>\n",
       "      <td>0.0</td>\n",
       "      <td>7.0</td>\n",
       "      <td>1</td>\n",
       "    </tr>\n",
       "    <tr>\n",
       "      <th>299</th>\n",
       "      <td>68</td>\n",
       "      <td>1</td>\n",
       "      <td>4</td>\n",
       "      <td>144</td>\n",
       "      <td>193.0</td>\n",
       "      <td>1</td>\n",
       "      <td>0</td>\n",
       "      <td>141</td>\n",
       "      <td>0</td>\n",
       "      <td>3.4</td>\n",
       "      <td>2</td>\n",
       "      <td>2.0</td>\n",
       "      <td>7.0</td>\n",
       "      <td>1</td>\n",
       "    </tr>\n",
       "    <tr>\n",
       "      <th>300</th>\n",
       "      <td>57</td>\n",
       "      <td>1</td>\n",
       "      <td>4</td>\n",
       "      <td>130</td>\n",
       "      <td>131.0</td>\n",
       "      <td>0</td>\n",
       "      <td>0</td>\n",
       "      <td>115</td>\n",
       "      <td>1</td>\n",
       "      <td>1.2</td>\n",
       "      <td>2</td>\n",
       "      <td>1.0</td>\n",
       "      <td>7.0</td>\n",
       "      <td>1</td>\n",
       "    </tr>\n",
       "    <tr>\n",
       "      <th>301</th>\n",
       "      <td>57</td>\n",
       "      <td>0</td>\n",
       "      <td>2</td>\n",
       "      <td>130</td>\n",
       "      <td>236.0</td>\n",
       "      <td>0</td>\n",
       "      <td>2</td>\n",
       "      <td>174</td>\n",
       "      <td>0</td>\n",
       "      <td>0.0</td>\n",
       "      <td>2</td>\n",
       "      <td>1.0</td>\n",
       "      <td>3.0</td>\n",
       "      <td>1</td>\n",
       "    </tr>\n",
       "    <tr>\n",
       "      <th>302</th>\n",
       "      <td>38</td>\n",
       "      <td>1</td>\n",
       "      <td>3</td>\n",
       "      <td>138</td>\n",
       "      <td>175.0</td>\n",
       "      <td>0</td>\n",
       "      <td>0</td>\n",
       "      <td>173</td>\n",
       "      <td>0</td>\n",
       "      <td>0.0</td>\n",
       "      <td>1</td>\n",
       "      <td>NaN</td>\n",
       "      <td>3.0</td>\n",
       "      <td>0</td>\n",
       "    </tr>\n",
       "  </tbody>\n",
       "</table>\n",
       "<p>303 rows × 14 columns</p>\n",
       "</div>"
      ],
      "text/plain": [
       "     age  sex  cp  treshtbps   chol  fbs  restecg  thalach  exang  oldpeak  slope   ca  hsl  heartDisease\n",
       "0     63    1   1        145  233.0    1        2      150      0      2.3      3  0.0  6.0             0\n",
       "1     67    1   4        160  286.0    0        0      108      1      1.5      2  3.0  3.0             1\n",
       "2     67    1   4        120    NaN    0        2      129      1      2.6      2  2.0  7.0             1\n",
       "3     37    1   3        130  250.0    0        0      187      0      3.5      3  0.0  3.0             0\n",
       "4     41    0   2        130  204.0    0        2      172      0      1.4      1  0.0  3.0             0\n",
       "..   ...  ...  ..        ...    ...  ...      ...      ...    ...      ...    ...  ...  ...           ...\n",
       "298   45    1   1        110  264.0    0        0      132      0      1.2      2  0.0  7.0             1\n",
       "299   68    1   4        144  193.0    1        0      141      0      3.4      2  2.0  7.0             1\n",
       "300   57    1   4        130  131.0    0        0      115      1      1.2      2  1.0  7.0             1\n",
       "301   57    0   2        130  236.0    0        2      174      0      0.0      2  1.0  3.0             1\n",
       "302   38    1   3        138  175.0    0        0      173      0      0.0      1  NaN  3.0             0\n",
       "\n",
       "[303 rows x 14 columns]"
      ]
     },
     "execution_count": 45,
     "metadata": {},
     "output_type": "execute_result"
    }
   ],
   "source": [
    "# 결측치 처리\n",
    "new_dataset = dataset.replace('?',np.nan)\n",
    "(new_dataset =='?').sum().sum()\n",
    "# (dataset == '?').sum().sum()\n",
    "new_dataset # ?를 nan으로 바꾼 데이터"
   ]
  },
  {
   "cell_type": "code",
   "execution_count": 89,
   "id": "7dfdc9a4",
   "metadata": {},
   "outputs": [
    {
     "data": {
      "text/plain": [
       "age             0\n",
       "sex             0\n",
       "cp              0\n",
       "treshtbps       0\n",
       "chol            0\n",
       "fbs             0\n",
       "restecg         0\n",
       "thalach         0\n",
       "exang           0\n",
       "oldpeak         0\n",
       "slope           0\n",
       "ca              0\n",
       "hsl             0\n",
       "heartDisease    0\n",
       "dtype: int64"
      ]
     },
     "execution_count": 89,
     "metadata": {},
     "output_type": "execute_result"
    }
   ],
   "source": [
    "last_dataset = new_dataset.fillna(new_dataset.median(numeric_only=True))\n",
    "(last_dataset == '?').sum()"
   ]
  },
  {
   "cell_type": "code",
   "execution_count": 137,
   "id": "38e96a20",
   "metadata": {},
   "outputs": [
    {
     "name": "stdout",
     "output_type": "stream",
     "text": [
      "0    164\n",
      "1    139\n",
      "Name: heartDisease, dtype: int64\n",
      "0    0.541254\n",
      "1    0.458746\n",
      "Name: heartDisease, dtype: float64\n"
     ]
    }
   ],
   "source": [
    "# target변수의 분포(0:음성, 1:양성)\n",
    "print(last_dataset['heartDisease'].value_counts())\n",
    "# negative, positive = last_dataset['heartDisease'].value_counts()\n",
    "# total = last_dataset.shape[0]\n",
    "# print('음성 결과 :', negative/total)\n",
    "# print('양성 결과 :', positive/total)\n",
    "print(last_dataset['heartDisease'].value_counts(normalize=True))"
   ]
  },
  {
   "cell_type": "code",
   "execution_count": 191,
   "id": "e730dae2",
   "metadata": {},
   "outputs": [
    {
     "data": {
      "text/plain": [
       "((303, 13), (303, 1))"
      ]
     },
     "execution_count": 191,
     "metadata": {},
     "output_type": "execute_result"
    }
   ],
   "source": [
    "#X,y 데이터 분리\n",
    "# train_test_split함수를 써야하기에 2차원으로 해야 함\n",
    "X_data = last_dataset.iloc[:,:-1].values  \n",
    "X_data\n",
    "y_data = last_dataset.iloc[:,-1:].values\n",
    "y_data\n",
    "X_data.shape, y_data.shape"
   ]
  },
  {
   "cell_type": "code",
   "execution_count": null,
   "id": "34db3c5f",
   "metadata": {},
   "outputs": [],
   "source": [
    "# X 데이터 스케일 조정"
   ]
  },
  {
   "cell_type": "code",
   "execution_count": 193,
   "id": "f09278e7",
   "metadata": {},
   "outputs": [
    {
     "data": {
      "text/plain": [
       "array([[-6.04166667e-01,  6.30000000e+01,  0.00000000e+00,\n",
       "        -8.77358491e-01,  4.33789954e-02,  2.33000000e+02,\n",
       "         5.00000000e-01, -5.26717557e-01,  1.50000000e+02,\n",
       "         0.00000000e+00,  6.50000000e-01,  1.00000000e+00,\n",
       "         7.50000000e-01]])"
      ]
     },
     "execution_count": 193,
     "metadata": {},
     "output_type": "execute_result"
    }
   ],
   "source": [
    "# X 데이터 스케일 조정\n",
    "# scaler는 데이터프레임을 위한것? \n",
    "scaler_x = MinMaxScaler() \n",
    "scaled_x_data = scaler_x.fit_transform(X_data)\n",
    "scaled_x_data\n",
    "scaler_x.transform([[0,63,1,1,145,233.0,1,2,150,0,2.3,3,6.0]])"
   ]
  },
  {
   "cell_type": "code",
   "execution_count": 194,
   "id": "42eb8416",
   "metadata": {},
   "outputs": [
    {
     "name": "stdout",
     "output_type": "stream",
     "text": [
      "0    0.541254\n",
      "1    0.458746\n",
      "dtype: float64\n",
      "heartDisease\n",
      "0               0.542453\n",
      "1               0.457547\n",
      "dtype: float64\n",
      "heartDisease\n",
      "0               0.538462\n",
      "1               0.461538\n",
      "dtype: float64\n"
     ]
    }
   ],
   "source": [
    "# 음성|양성 비율\n",
    "print(pd.DataFrame(y_data).value_counts(normalize=True))\n",
    "print(pd.DataFrame(y_train).value_counts(normalize=True))\n",
    "print(pd.DataFrame(y_test).value_counts(normalize=True))"
   ]
  },
  {
   "cell_type": "code",
   "execution_count": 195,
   "id": "4839e1ba",
   "metadata": {},
   "outputs": [
    {
     "data": {
      "text/plain": [
       "((212, 13), (91, 13), (212, 1), (91, 1))"
      ]
     },
     "execution_count": 195,
     "metadata": {},
     "output_type": "execute_result"
    }
   ],
   "source": [
    "# 층화추출(stratify)로 데이터셋 7:3으로 분활\n",
    "# train_test_split 함수 사용 하여 학습데이터, 테스트 데이터 분리 \n",
    "\n",
    "X_train, X_test, y_train, y_test = train_test_split(\n",
    " X_data,y_data,\n",
    " test_size=0.3,\n",
    " random_state=7,\n",
    " stratify=y_data) # 층화추출\n",
    "X_train.shape, X_test.shape, y_train.shape,y_test.shape"
   ]
  },
  {
   "cell_type": "markdown",
   "id": "fb9e6465",
   "metadata": {},
   "source": [
    "## 2. 모델 생성(입력 13, 출력1) & 학습과정 설정 & 학습"
   ]
  },
  {
   "cell_type": "code",
   "execution_count": 196,
   "id": "08d1eec0",
   "metadata": {},
   "outputs": [
    {
     "name": "stdout",
     "output_type": "stream",
     "text": [
      "Model: \"sequential_13\"\n",
      "_________________________________________________________________\n",
      " Layer (type)                Output Shape              Param #   \n",
      "=================================================================\n",
      " dense_51 (Dense)            (None, 39)                546       \n",
      "                                                                 \n",
      " dense_52 (Dense)            (None, 64)                2560      \n",
      "                                                                 \n",
      " dropout_20 (Dropout)        (None, 64)                0         \n",
      "                                                                 \n",
      " dense_53 (Dense)            (None, 16)                1040      \n",
      "                                                                 \n",
      " dense_54 (Dense)            (None, 1)                 17        \n",
      "                                                                 \n",
      "=================================================================\n",
      "Total params: 4,163\n",
      "Trainable params: 4,163\n",
      "Non-trainable params: 0\n",
      "_________________________________________________________________\n"
     ]
    }
   ],
   "source": [
    "#모델 구성\n",
    "model = Sequential() # 모델 객체 생성\n",
    "model.add(Input(shape=(13,)))\n",
    "model.add(Dense(units=39, activation='relu'))\n",
    "# model.add(Dropout(0.1))\n",
    "model.add(Dense(units=64, activation='relu'))\n",
    "model.add(Dropout(0.1))\n",
    "model.add(Dense(units=16, activation='relu'))\n",
    "# model.add(Dropout(0.2))\n",
    "model.add(Dense(units=1, activation='sigmoid'))\n",
    "model.summary()\n",
    "# 13*39+39=546/ 39*52+52=2080/52*13+13=689/13*1+1=14"
   ]
  },
  {
   "cell_type": "code",
   "execution_count": 197,
   "id": "69bfc039",
   "metadata": {},
   "outputs": [],
   "source": [
    "# 모델 학습과정 설정\n",
    "from tensorflow.keras import metrics\n",
    "from tensorflow.keras.optimizers import Adam\n",
    "model.compile(loss='binary_crossentropy',\n",
    "              optimizer=Adam(learning_rate=0.01),\n",
    "              metrics=['binary_accuracy',     # 정확도\n",
    "                        metrics.Recall(),     # 재현율(실제값중심)\n",
    "                        metrics.Precision()]) # 정밀도"
   ]
  },
  {
   "cell_type": "code",
   "execution_count": 198,
   "id": "c7299c10",
   "metadata": {},
   "outputs": [
    {
     "name": "stdout",
     "output_type": "stream",
     "text": [
      "Epoch 1/100\n",
      "6/6 [==============================] - 1s 46ms/step - loss: 3.5741 - binary_accuracy: 0.5680 - recall_2: 0.4211 - precision_2: 0.5246 - val_loss: 4.1875 - val_binary_accuracy: 0.4884 - val_recall_2: 1.0000 - val_precision_2: 0.4884\n",
      "Epoch 2/100\n",
      "6/6 [==============================] - 0s 9ms/step - loss: 2.4272 - binary_accuracy: 0.4970 - recall_2: 0.4342 - precision_2: 0.4400 - val_loss: 0.6698 - val_binary_accuracy: 0.5581 - val_recall_2: 0.0952 - val_precision_2: 1.0000\n",
      "Epoch 3/100\n",
      "6/6 [==============================] - 0s 10ms/step - loss: 1.0202 - binary_accuracy: 0.5562 - recall_2: 0.6447 - precision_2: 0.5052 - val_loss: 0.6486 - val_binary_accuracy: 0.6047 - val_recall_2: 0.2857 - val_precision_2: 0.7500\n",
      "Epoch 4/100\n",
      "6/6 [==============================] - 0s 8ms/step - loss: 0.8467 - binary_accuracy: 0.6095 - recall_2: 0.3553 - precision_2: 0.6136 - val_loss: 0.6037 - val_binary_accuracy: 0.6047 - val_recall_2: 0.9524 - val_precision_2: 0.5556\n",
      "Epoch 5/100\n",
      "6/6 [==============================] - 0s 9ms/step - loss: 0.7630 - binary_accuracy: 0.6331 - recall_2: 0.6711 - precision_2: 0.5795 - val_loss: 0.6607 - val_binary_accuracy: 0.5814 - val_recall_2: 0.3810 - val_precision_2: 0.6154\n",
      "Epoch 6/100\n",
      "6/6 [==============================] - 0s 8ms/step - loss: 0.7108 - binary_accuracy: 0.5799 - recall_2: 0.4079 - precision_2: 0.5439 - val_loss: 0.6709 - val_binary_accuracy: 0.5814 - val_recall_2: 0.1905 - val_precision_2: 0.8000\n",
      "Epoch 7/100\n",
      "6/6 [==============================] - 0s 9ms/step - loss: 0.6906 - binary_accuracy: 0.6213 - recall_2: 0.4342 - precision_2: 0.6111 - val_loss: 0.5720 - val_binary_accuracy: 0.6744 - val_recall_2: 0.4762 - val_precision_2: 0.7692\n",
      "Epoch 8/100\n",
      "6/6 [==============================] - 0s 8ms/step - loss: 0.6350 - binary_accuracy: 0.6686 - recall_2: 0.5658 - precision_2: 0.6515 - val_loss: 0.5640 - val_binary_accuracy: 0.6512 - val_recall_2: 0.4286 - val_precision_2: 0.7500\n",
      "Epoch 9/100\n",
      "6/6 [==============================] - 0s 8ms/step - loss: 0.6226 - binary_accuracy: 0.6686 - recall_2: 0.4474 - precision_2: 0.7083 - val_loss: 0.5726 - val_binary_accuracy: 0.6977 - val_recall_2: 0.6190 - val_precision_2: 0.7222\n",
      "Epoch 10/100\n",
      "6/6 [==============================] - 0s 12ms/step - loss: 0.6065 - binary_accuracy: 0.6391 - recall_2: 0.6579 - precision_2: 0.5882 - val_loss: 0.5796 - val_binary_accuracy: 0.7442 - val_recall_2: 0.7619 - val_precision_2: 0.7273\n",
      "Epoch 11/100\n",
      "6/6 [==============================] - 0s 9ms/step - loss: 0.6085 - binary_accuracy: 0.6568 - recall_2: 0.5921 - precision_2: 0.6250 - val_loss: 0.5827 - val_binary_accuracy: 0.6977 - val_recall_2: 0.6190 - val_precision_2: 0.7222\n",
      "Epoch 12/100\n",
      "6/6 [==============================] - 0s 8ms/step - loss: 0.6022 - binary_accuracy: 0.6686 - recall_2: 0.6184 - precision_2: 0.6351 - val_loss: 0.5622 - val_binary_accuracy: 0.6744 - val_recall_2: 0.5714 - val_precision_2: 0.7059\n",
      "Epoch 13/100\n",
      "6/6 [==============================] - 0s 9ms/step - loss: 0.6089 - binary_accuracy: 0.6982 - recall_2: 0.5263 - precision_2: 0.7273 - val_loss: 0.5513 - val_binary_accuracy: 0.7442 - val_recall_2: 0.7143 - val_precision_2: 0.7500\n",
      "Epoch 14/100\n",
      "6/6 [==============================] - 0s 8ms/step - loss: 0.5526 - binary_accuracy: 0.7337 - recall_2: 0.6579 - precision_2: 0.7246 - val_loss: 0.5415 - val_binary_accuracy: 0.7442 - val_recall_2: 0.9048 - val_precision_2: 0.6786\n",
      "Epoch 15/100\n",
      "6/6 [==============================] - 0s 9ms/step - loss: 0.6468 - binary_accuracy: 0.6272 - recall_2: 0.6842 - precision_2: 0.5714 - val_loss: 0.5675 - val_binary_accuracy: 0.6512 - val_recall_2: 0.5238 - val_precision_2: 0.6875\n",
      "Epoch 16/100\n",
      "6/6 [==============================] - 0s 8ms/step - loss: 0.5649 - binary_accuracy: 0.7160 - recall_2: 0.4868 - precision_2: 0.8043 - val_loss: 0.5644 - val_binary_accuracy: 0.7442 - val_recall_2: 0.7143 - val_precision_2: 0.7500\n",
      "Epoch 17/100\n",
      "6/6 [==============================] - 0s 9ms/step - loss: 0.5800 - binary_accuracy: 0.7041 - recall_2: 0.6447 - precision_2: 0.6806 - val_loss: 0.5572 - val_binary_accuracy: 0.7907 - val_recall_2: 0.8095 - val_precision_2: 0.7727\n",
      "Epoch 18/100\n",
      "6/6 [==============================] - 0s 8ms/step - loss: 0.5596 - binary_accuracy: 0.7337 - recall_2: 0.6579 - precision_2: 0.7246 - val_loss: 0.5658 - val_binary_accuracy: 0.7209 - val_recall_2: 0.6667 - val_precision_2: 0.7368\n",
      "Epoch 19/100\n",
      "6/6 [==============================] - 0s 9ms/step - loss: 0.5618 - binary_accuracy: 0.6746 - recall_2: 0.6184 - precision_2: 0.6438 - val_loss: 0.5684 - val_binary_accuracy: 0.7674 - val_recall_2: 0.7619 - val_precision_2: 0.7619\n",
      "Epoch 20/100\n",
      "6/6 [==============================] - 0s 8ms/step - loss: 0.5653 - binary_accuracy: 0.7219 - recall_2: 0.6974 - precision_2: 0.6883 - val_loss: 0.5510 - val_binary_accuracy: 0.7907 - val_recall_2: 0.8095 - val_precision_2: 0.7727\n",
      "Epoch 21/100\n",
      "6/6 [==============================] - 0s 8ms/step - loss: 0.5729 - binary_accuracy: 0.6805 - recall_2: 0.5526 - precision_2: 0.6774 - val_loss: 0.5325 - val_binary_accuracy: 0.7674 - val_recall_2: 0.7619 - val_precision_2: 0.7619\n",
      "Epoch 22/100\n",
      "6/6 [==============================] - 0s 9ms/step - loss: 0.5533 - binary_accuracy: 0.6864 - recall_2: 0.5658 - precision_2: 0.6825 - val_loss: 0.5195 - val_binary_accuracy: 0.8140 - val_recall_2: 0.8571 - val_precision_2: 0.7826\n",
      "Epoch 23/100\n",
      "6/6 [==============================] - 0s 8ms/step - loss: 0.5385 - binary_accuracy: 0.7219 - recall_2: 0.6447 - precision_2: 0.7101 - val_loss: 0.5374 - val_binary_accuracy: 0.7907 - val_recall_2: 0.8095 - val_precision_2: 0.7727\n",
      "Epoch 24/100\n",
      "6/6 [==============================] - 0s 10ms/step - loss: 0.5500 - binary_accuracy: 0.7396 - recall_2: 0.6053 - precision_2: 0.7667 - val_loss: 0.5431 - val_binary_accuracy: 0.7907 - val_recall_2: 0.8095 - val_precision_2: 0.7727\n",
      "Epoch 25/100\n",
      "6/6 [==============================] - 0s 9ms/step - loss: 0.5327 - binary_accuracy: 0.7219 - recall_2: 0.6974 - precision_2: 0.6883 - val_loss: 0.5415 - val_binary_accuracy: 0.7442 - val_recall_2: 0.7143 - val_precision_2: 0.7500\n",
      "Epoch 26/100\n",
      "6/6 [==============================] - 0s 11ms/step - loss: 0.5297 - binary_accuracy: 0.7396 - recall_2: 0.5658 - precision_2: 0.7963 - val_loss: 0.5312 - val_binary_accuracy: 0.8140 - val_recall_2: 0.8571 - val_precision_2: 0.7826\n",
      "Epoch 27/100\n",
      "6/6 [==============================] - 0s 9ms/step - loss: 0.5421 - binary_accuracy: 0.7219 - recall_2: 0.7237 - precision_2: 0.6790 - val_loss: 0.5547 - val_binary_accuracy: 0.7209 - val_recall_2: 0.5714 - val_precision_2: 0.8000\n",
      "Epoch 28/100\n",
      "6/6 [==============================] - 0s 9ms/step - loss: 0.5394 - binary_accuracy: 0.7219 - recall_2: 0.5132 - precision_2: 0.7959 - val_loss: 0.5759 - val_binary_accuracy: 0.7442 - val_recall_2: 0.8571 - val_precision_2: 0.6923\n",
      "Epoch 29/100\n",
      "6/6 [==============================] - 0s 10ms/step - loss: 0.5229 - binary_accuracy: 0.7219 - recall_2: 0.7105 - precision_2: 0.6835 - val_loss: 0.5640 - val_binary_accuracy: 0.6744 - val_recall_2: 0.4762 - val_precision_2: 0.7692\n",
      "Epoch 30/100\n",
      "6/6 [==============================] - 0s 10ms/step - loss: 0.5423 - binary_accuracy: 0.7337 - recall_2: 0.6447 - precision_2: 0.7313 - val_loss: 0.5378 - val_binary_accuracy: 0.7907 - val_recall_2: 0.8571 - val_precision_2: 0.7500\n",
      "Epoch 31/100\n",
      "6/6 [==============================] - 0s 11ms/step - loss: 0.5189 - binary_accuracy: 0.6982 - recall_2: 0.5395 - precision_2: 0.7193 - val_loss: 0.5345 - val_binary_accuracy: 0.8140 - val_recall_2: 0.7619 - val_precision_2: 0.8421\n",
      "Epoch 32/100\n",
      "6/6 [==============================] - 0s 14ms/step - loss: 0.5206 - binary_accuracy: 0.7101 - recall_2: 0.6842 - precision_2: 0.6753 - val_loss: 0.5345 - val_binary_accuracy: 0.8140 - val_recall_2: 0.8571 - val_precision_2: 0.7826\n",
      "Epoch 33/100\n",
      "6/6 [==============================] - 0s 11ms/step - loss: 0.4988 - binary_accuracy: 0.7633 - recall_2: 0.5789 - precision_2: 0.8462 - val_loss: 0.5427 - val_binary_accuracy: 0.7907 - val_recall_2: 0.8571 - val_precision_2: 0.7500\n",
      "Epoch 34/100\n"
     ]
    },
    {
     "name": "stdout",
     "output_type": "stream",
     "text": [
      "6/6 [==============================] - 0s 9ms/step - loss: 0.5111 - binary_accuracy: 0.7396 - recall_2: 0.7763 - precision_2: 0.6860 - val_loss: 0.5255 - val_binary_accuracy: 0.7907 - val_recall_2: 0.7619 - val_precision_2: 0.8000\n",
      "Epoch 35/100\n",
      "6/6 [==============================] - 0s 10ms/step - loss: 0.4863 - binary_accuracy: 0.7574 - recall_2: 0.5526 - precision_2: 0.8571 - val_loss: 0.5632 - val_binary_accuracy: 0.7209 - val_recall_2: 0.8571 - val_precision_2: 0.6667\n",
      "Epoch 36/100\n",
      "6/6 [==============================] - 0s 10ms/step - loss: 0.4971 - binary_accuracy: 0.7278 - recall_2: 0.6579 - precision_2: 0.7143 - val_loss: 0.5184 - val_binary_accuracy: 0.8140 - val_recall_2: 0.7619 - val_precision_2: 0.8421\n",
      "Epoch 37/100\n",
      "6/6 [==============================] - 0s 10ms/step - loss: 0.4910 - binary_accuracy: 0.7515 - recall_2: 0.7368 - precision_2: 0.7179 - val_loss: 0.5015 - val_binary_accuracy: 0.8605 - val_recall_2: 0.8571 - val_precision_2: 0.8571\n",
      "Epoch 38/100\n",
      "6/6 [==============================] - 0s 9ms/step - loss: 0.5121 - binary_accuracy: 0.7515 - recall_2: 0.4868 - precision_2: 0.9250 - val_loss: 0.5063 - val_binary_accuracy: 0.7674 - val_recall_2: 0.8571 - val_precision_2: 0.7200\n",
      "Epoch 39/100\n",
      "6/6 [==============================] - 0s 9ms/step - loss: 0.4981 - binary_accuracy: 0.7041 - recall_2: 0.7763 - precision_2: 0.6413 - val_loss: 0.5133 - val_binary_accuracy: 0.8140 - val_recall_2: 0.7619 - val_precision_2: 0.8421\n",
      "Epoch 40/100\n",
      "6/6 [==============================] - 0s 9ms/step - loss: 0.4564 - binary_accuracy: 0.7751 - recall_2: 0.5921 - precision_2: 0.8654 - val_loss: 0.5560 - val_binary_accuracy: 0.7907 - val_recall_2: 0.8571 - val_precision_2: 0.7500\n",
      "Epoch 41/100\n",
      "6/6 [==============================] - 0s 9ms/step - loss: 0.4416 - binary_accuracy: 0.7870 - recall_2: 0.7632 - precision_2: 0.7632 - val_loss: 0.5508 - val_binary_accuracy: 0.8140 - val_recall_2: 0.8571 - val_precision_2: 0.7826\n",
      "Epoch 42/100\n",
      "6/6 [==============================] - 0s 9ms/step - loss: 0.4334 - binary_accuracy: 0.7929 - recall_2: 0.7895 - precision_2: 0.7595 - val_loss: 0.5141 - val_binary_accuracy: 0.8140 - val_recall_2: 0.7619 - val_precision_2: 0.8421\n",
      "Epoch 43/100\n",
      "6/6 [==============================] - 0s 8ms/step - loss: 0.5089 - binary_accuracy: 0.7574 - recall_2: 0.7895 - precision_2: 0.7059 - val_loss: 0.4900 - val_binary_accuracy: 0.7907 - val_recall_2: 0.7143 - val_precision_2: 0.8333\n",
      "Epoch 44/100\n",
      "6/6 [==============================] - 0s 8ms/step - loss: 0.5529 - binary_accuracy: 0.7396 - recall_2: 0.4868 - precision_2: 0.8810 - val_loss: 0.4785 - val_binary_accuracy: 0.8605 - val_recall_2: 0.8571 - val_precision_2: 0.8571\n",
      "Epoch 45/100\n",
      "6/6 [==============================] - 0s 8ms/step - loss: 0.4808 - binary_accuracy: 0.7574 - recall_2: 0.7632 - precision_2: 0.7160 - val_loss: 0.4629 - val_binary_accuracy: 0.8372 - val_recall_2: 0.8095 - val_precision_2: 0.8500\n",
      "Epoch 46/100\n",
      "6/6 [==============================] - 0s 8ms/step - loss: 0.4690 - binary_accuracy: 0.7456 - recall_2: 0.5132 - precision_2: 0.8667 - val_loss: 0.4635 - val_binary_accuracy: 0.8372 - val_recall_2: 0.8571 - val_precision_2: 0.8182\n",
      "Epoch 47/100\n",
      "6/6 [==============================] - 0s 9ms/step - loss: 0.4308 - binary_accuracy: 0.7870 - recall_2: 0.8158 - precision_2: 0.7381 - val_loss: 0.4799 - val_binary_accuracy: 0.8372 - val_recall_2: 0.8571 - val_precision_2: 0.8182\n",
      "Epoch 48/100\n",
      "6/6 [==============================] - 0s 9ms/step - loss: 0.4515 - binary_accuracy: 0.7929 - recall_2: 0.7368 - precision_2: 0.7887 - val_loss: 0.5420 - val_binary_accuracy: 0.7674 - val_recall_2: 0.8571 - val_precision_2: 0.7200\n",
      "Epoch 49/100\n",
      "6/6 [==============================] - 0s 8ms/step - loss: 0.4299 - binary_accuracy: 0.8225 - recall_2: 0.7632 - precision_2: 0.8286 - val_loss: 0.5113 - val_binary_accuracy: 0.8140 - val_recall_2: 0.7619 - val_precision_2: 0.8421\n",
      "Epoch 50/100\n",
      "6/6 [==============================] - 0s 8ms/step - loss: 0.4310 - binary_accuracy: 0.8225 - recall_2: 0.7237 - precision_2: 0.8594 - val_loss: 0.5279 - val_binary_accuracy: 0.7674 - val_recall_2: 0.8571 - val_precision_2: 0.7200\n",
      "Epoch 51/100\n",
      "6/6 [==============================] - 0s 9ms/step - loss: 0.4279 - binary_accuracy: 0.8047 - recall_2: 0.7632 - precision_2: 0.7945 - val_loss: 0.5195 - val_binary_accuracy: 0.8140 - val_recall_2: 0.8571 - val_precision_2: 0.7826\n",
      "Epoch 52/100\n",
      "6/6 [==============================] - 0s 8ms/step - loss: 0.4648 - binary_accuracy: 0.7751 - recall_2: 0.6842 - precision_2: 0.7879 - val_loss: 0.5764 - val_binary_accuracy: 0.6977 - val_recall_2: 0.8571 - val_precision_2: 0.6429\n",
      "Epoch 53/100\n",
      "6/6 [==============================] - 0s 8ms/step - loss: 0.4576 - binary_accuracy: 0.7870 - recall_2: 0.6974 - precision_2: 0.8030 - val_loss: 0.4824 - val_binary_accuracy: 0.7442 - val_recall_2: 0.5714 - val_precision_2: 0.8571\n",
      "Epoch 54/100\n",
      "6/6 [==============================] - 0s 8ms/step - loss: 0.4485 - binary_accuracy: 0.8166 - recall_2: 0.7237 - precision_2: 0.8462 - val_loss: 0.4954 - val_binary_accuracy: 0.7674 - val_recall_2: 0.8571 - val_precision_2: 0.7200\n",
      "Epoch 55/100\n",
      "6/6 [==============================] - 0s 8ms/step - loss: 0.4236 - binary_accuracy: 0.8166 - recall_2: 0.7500 - precision_2: 0.8261 - val_loss: 0.5074 - val_binary_accuracy: 0.8372 - val_recall_2: 0.8095 - val_precision_2: 0.8500\n",
      "Epoch 56/100\n",
      "6/6 [==============================] - 0s 8ms/step - loss: 0.4393 - binary_accuracy: 0.7811 - recall_2: 0.7500 - precision_2: 0.7600 - val_loss: 0.4848 - val_binary_accuracy: 0.7907 - val_recall_2: 0.8571 - val_precision_2: 0.7500\n",
      "Epoch 57/100\n",
      "6/6 [==============================] - 0s 8ms/step - loss: 0.4033 - binary_accuracy: 0.8166 - recall_2: 0.6711 - precision_2: 0.8947 - val_loss: 0.4881 - val_binary_accuracy: 0.8372 - val_recall_2: 0.8571 - val_precision_2: 0.8182\n",
      "Epoch 58/100\n",
      "6/6 [==============================] - 0s 8ms/step - loss: 0.4190 - binary_accuracy: 0.7929 - recall_2: 0.8158 - precision_2: 0.7470 - val_loss: 0.4827 - val_binary_accuracy: 0.8140 - val_recall_2: 0.7619 - val_precision_2: 0.8421\n",
      "Epoch 59/100\n",
      "6/6 [==============================] - 0s 9ms/step - loss: 0.4483 - binary_accuracy: 0.7574 - recall_2: 0.6447 - precision_2: 0.7778 - val_loss: 0.5123 - val_binary_accuracy: 0.8140 - val_recall_2: 0.8571 - val_precision_2: 0.7826\n",
      "Epoch 60/100\n",
      "6/6 [==============================] - 0s 8ms/step - loss: 0.4133 - binary_accuracy: 0.7929 - recall_2: 0.6579 - precision_2: 0.8475 - val_loss: 0.4526 - val_binary_accuracy: 0.8140 - val_recall_2: 0.8095 - val_precision_2: 0.8095\n",
      "Epoch 61/100\n",
      "6/6 [==============================] - 0s 9ms/step - loss: 0.4243 - binary_accuracy: 0.7988 - recall_2: 0.7500 - precision_2: 0.7917 - val_loss: 0.4543 - val_binary_accuracy: 0.8140 - val_recall_2: 0.7619 - val_precision_2: 0.8421\n",
      "Epoch 62/100\n",
      "6/6 [==============================] - 0s 8ms/step - loss: 0.4264 - binary_accuracy: 0.7929 - recall_2: 0.6711 - precision_2: 0.8361 - val_loss: 0.5523 - val_binary_accuracy: 0.7674 - val_recall_2: 0.8571 - val_precision_2: 0.7200\n",
      "Epoch 63/100\n",
      "6/6 [==============================] - 0s 8ms/step - loss: 0.4133 - binary_accuracy: 0.7929 - recall_2: 0.6974 - precision_2: 0.8154 - val_loss: 0.4324 - val_binary_accuracy: 0.8605 - val_recall_2: 0.8571 - val_precision_2: 0.8571\n",
      "Epoch 64/100\n",
      "6/6 [==============================] - 0s 8ms/step - loss: 0.3979 - binary_accuracy: 0.8225 - recall_2: 0.8026 - precision_2: 0.8026 - val_loss: 0.4548 - val_binary_accuracy: 0.8605 - val_recall_2: 0.8571 - val_precision_2: 0.8571\n",
      "Epoch 65/100\n",
      "6/6 [==============================] - 0s 11ms/step - loss: 0.3965 - binary_accuracy: 0.8225 - recall_2: 0.7105 - precision_2: 0.8710 - val_loss: 0.5128 - val_binary_accuracy: 0.7674 - val_recall_2: 0.8571 - val_precision_2: 0.7200\n",
      "Epoch 66/100\n",
      "6/6 [==============================] - 0s 8ms/step - loss: 0.3930 - binary_accuracy: 0.8284 - recall_2: 0.8026 - precision_2: 0.8133 - val_loss: 0.4971 - val_binary_accuracy: 0.8372 - val_recall_2: 0.8571 - val_precision_2: 0.8182\n",
      "Epoch 67/100\n",
      "6/6 [==============================] - 0s 8ms/step - loss: 0.4014 - binary_accuracy: 0.8107 - recall_2: 0.7368 - precision_2: 0.8235 - val_loss: 0.4851 - val_binary_accuracy: 0.7907 - val_recall_2: 0.8571 - val_precision_2: 0.7500\n"
     ]
    },
    {
     "name": "stdout",
     "output_type": "stream",
     "text": [
      "Epoch 68/100\n",
      "6/6 [==============================] - 0s 8ms/step - loss: 0.3737 - binary_accuracy: 0.8166 - recall_2: 0.7500 - precision_2: 0.8261 - val_loss: 0.4517 - val_binary_accuracy: 0.8605 - val_recall_2: 0.8571 - val_precision_2: 0.8571\n",
      "Epoch 69/100\n",
      "6/6 [==============================] - 0s 8ms/step - loss: 0.3826 - binary_accuracy: 0.8225 - recall_2: 0.7632 - precision_2: 0.8286 - val_loss: 0.5162 - val_binary_accuracy: 0.7907 - val_recall_2: 0.8571 - val_precision_2: 0.7500\n",
      "Epoch 70/100\n",
      "6/6 [==============================] - 0s 8ms/step - loss: 0.3829 - binary_accuracy: 0.8166 - recall_2: 0.7105 - precision_2: 0.8571 - val_loss: 0.4618 - val_binary_accuracy: 0.8372 - val_recall_2: 0.8571 - val_precision_2: 0.8182\n",
      "Epoch 71/100\n",
      "6/6 [==============================] - 0s 8ms/step - loss: 0.3899 - binary_accuracy: 0.8284 - recall_2: 0.8158 - precision_2: 0.8052 - val_loss: 0.4354 - val_binary_accuracy: 0.8140 - val_recall_2: 0.7619 - val_precision_2: 0.8421\n",
      "Epoch 72/100\n",
      "6/6 [==============================] - 0s 8ms/step - loss: 0.4130 - binary_accuracy: 0.8047 - recall_2: 0.6974 - precision_2: 0.8413 - val_loss: 0.6663 - val_binary_accuracy: 0.7209 - val_recall_2: 0.8571 - val_precision_2: 0.6667\n",
      "Epoch 73/100\n",
      "6/6 [==============================] - 0s 8ms/step - loss: 0.4355 - binary_accuracy: 0.8166 - recall_2: 0.7632 - precision_2: 0.8169 - val_loss: 0.4269 - val_binary_accuracy: 0.8605 - val_recall_2: 0.8571 - val_precision_2: 0.8571\n",
      "Epoch 74/100\n",
      "6/6 [==============================] - 0s 8ms/step - loss: 0.4007 - binary_accuracy: 0.8166 - recall_2: 0.7500 - precision_2: 0.8261 - val_loss: 0.5060 - val_binary_accuracy: 0.7442 - val_recall_2: 0.8571 - val_precision_2: 0.6923\n",
      "Epoch 75/100\n",
      "6/6 [==============================] - 0s 8ms/step - loss: 0.4011 - binary_accuracy: 0.7811 - recall_2: 0.7237 - precision_2: 0.7746 - val_loss: 0.5248 - val_binary_accuracy: 0.7442 - val_recall_2: 0.8571 - val_precision_2: 0.6923\n",
      "Epoch 76/100\n",
      "6/6 [==============================] - 0s 8ms/step - loss: 0.4164 - binary_accuracy: 0.7870 - recall_2: 0.7763 - precision_2: 0.7564 - val_loss: 0.4394 - val_binary_accuracy: 0.8605 - val_recall_2: 0.8571 - val_precision_2: 0.8571\n",
      "Epoch 77/100\n",
      "6/6 [==============================] - 0s 9ms/step - loss: 0.4145 - binary_accuracy: 0.7929 - recall_2: 0.8026 - precision_2: 0.7531 - val_loss: 0.4154 - val_binary_accuracy: 0.8140 - val_recall_2: 0.7619 - val_precision_2: 0.8421\n",
      "Epoch 78/100\n",
      "6/6 [==============================] - 0s 8ms/step - loss: 0.4308 - binary_accuracy: 0.7929 - recall_2: 0.6447 - precision_2: 0.8596 - val_loss: 0.5156 - val_binary_accuracy: 0.7442 - val_recall_2: 0.9048 - val_precision_2: 0.6786\n",
      "Epoch 79/100\n",
      "6/6 [==============================] - 0s 8ms/step - loss: 0.4398 - binary_accuracy: 0.8107 - recall_2: 0.7763 - precision_2: 0.7973 - val_loss: 0.4648 - val_binary_accuracy: 0.7442 - val_recall_2: 0.5714 - val_precision_2: 0.8571\n",
      "Epoch 80/100\n",
      "6/6 [==============================] - 0s 8ms/step - loss: 0.4733 - binary_accuracy: 0.7692 - recall_2: 0.5789 - precision_2: 0.8627 - val_loss: 0.5320 - val_binary_accuracy: 0.7442 - val_recall_2: 0.8571 - val_precision_2: 0.6923\n",
      "Epoch 81/100\n",
      "6/6 [==============================] - 0s 8ms/step - loss: 0.4302 - binary_accuracy: 0.8047 - recall_2: 0.8158 - precision_2: 0.7654 - val_loss: 0.4387 - val_binary_accuracy: 0.8605 - val_recall_2: 0.8571 - val_precision_2: 0.8571\n",
      "Epoch 82/100\n",
      "6/6 [==============================] - 0s 8ms/step - loss: 0.4007 - binary_accuracy: 0.8166 - recall_2: 0.7500 - precision_2: 0.8261 - val_loss: 0.4286 - val_binary_accuracy: 0.8140 - val_recall_2: 0.7619 - val_precision_2: 0.8421\n",
      "Epoch 83/100\n",
      "6/6 [==============================] - 0s 8ms/step - loss: 0.3818 - binary_accuracy: 0.8225 - recall_2: 0.7105 - precision_2: 0.8710 - val_loss: 0.4612 - val_binary_accuracy: 0.8605 - val_recall_2: 0.8571 - val_precision_2: 0.8571\n",
      "Epoch 84/100\n",
      "6/6 [==============================] - 0s 8ms/step - loss: 0.3616 - binary_accuracy: 0.8284 - recall_2: 0.7763 - precision_2: 0.8310 - val_loss: 0.5185 - val_binary_accuracy: 0.7674 - val_recall_2: 0.8571 - val_precision_2: 0.7200\n",
      "Epoch 85/100\n",
      "6/6 [==============================] - 0s 8ms/step - loss: 0.3655 - binary_accuracy: 0.8462 - recall_2: 0.7500 - precision_2: 0.8906 - val_loss: 0.4598 - val_binary_accuracy: 0.7674 - val_recall_2: 0.8571 - val_precision_2: 0.7200\n",
      "Epoch 86/100\n",
      "6/6 [==============================] - 0s 8ms/step - loss: 0.3997 - binary_accuracy: 0.8284 - recall_2: 0.8026 - precision_2: 0.8133 - val_loss: 0.4298 - val_binary_accuracy: 0.8605 - val_recall_2: 0.8571 - val_precision_2: 0.8571\n",
      "Epoch 87/100\n",
      "6/6 [==============================] - 0s 9ms/step - loss: 0.3592 - binary_accuracy: 0.8462 - recall_2: 0.7368 - precision_2: 0.9032 - val_loss: 0.4888 - val_binary_accuracy: 0.7674 - val_recall_2: 0.8571 - val_precision_2: 0.7200\n",
      "Epoch 88/100\n",
      "6/6 [==============================] - 0s 9ms/step - loss: 0.3696 - binary_accuracy: 0.8402 - recall_2: 0.8026 - precision_2: 0.8356 - val_loss: 0.5035 - val_binary_accuracy: 0.8605 - val_recall_2: 0.8571 - val_precision_2: 0.8571\n",
      "Epoch 89/100\n",
      "6/6 [==============================] - 0s 11ms/step - loss: 0.3685 - binary_accuracy: 0.8343 - recall_2: 0.7632 - precision_2: 0.8529 - val_loss: 0.4849 - val_binary_accuracy: 0.7442 - val_recall_2: 0.8571 - val_precision_2: 0.6923\n",
      "Epoch 90/100\n",
      "6/6 [==============================] - 0s 10ms/step - loss: 0.4225 - binary_accuracy: 0.8047 - recall_2: 0.7237 - precision_2: 0.8209 - val_loss: 0.6225 - val_binary_accuracy: 0.7442 - val_recall_2: 0.9048 - val_precision_2: 0.6786\n",
      "Epoch 91/100\n",
      "6/6 [==============================] - 0s 9ms/step - loss: 0.4239 - binary_accuracy: 0.8047 - recall_2: 0.8289 - precision_2: 0.7590 - val_loss: 0.4932 - val_binary_accuracy: 0.7674 - val_recall_2: 0.6667 - val_precision_2: 0.8235\n",
      "Epoch 92/100\n",
      "6/6 [==============================] - 0s 8ms/step - loss: 0.4075 - binary_accuracy: 0.7929 - recall_2: 0.6711 - precision_2: 0.8361 - val_loss: 0.5527 - val_binary_accuracy: 0.7442 - val_recall_2: 0.8571 - val_precision_2: 0.6923\n",
      "Epoch 93/100\n",
      "6/6 [==============================] - 0s 8ms/step - loss: 0.4366 - binary_accuracy: 0.7988 - recall_2: 0.7500 - precision_2: 0.7917 - val_loss: 0.5074 - val_binary_accuracy: 0.8605 - val_recall_2: 0.8571 - val_precision_2: 0.8571\n",
      "Epoch 94/100\n",
      "6/6 [==============================] - 0s 8ms/step - loss: 0.3845 - binary_accuracy: 0.8284 - recall_2: 0.7763 - precision_2: 0.8310 - val_loss: 0.5481 - val_binary_accuracy: 0.8605 - val_recall_2: 0.8571 - val_precision_2: 0.8571\n",
      "Epoch 95/100\n",
      "6/6 [==============================] - 0s 8ms/step - loss: 0.4064 - binary_accuracy: 0.8284 - recall_2: 0.7500 - precision_2: 0.8507 - val_loss: 0.4555 - val_binary_accuracy: 0.7907 - val_recall_2: 0.8571 - val_precision_2: 0.7500\n",
      "Epoch 96/100\n",
      "6/6 [==============================] - 0s 16ms/step - loss: 0.3765 - binary_accuracy: 0.8284 - recall_2: 0.7500 - precision_2: 0.8507 - val_loss: 0.4520 - val_binary_accuracy: 0.8605 - val_recall_2: 0.8571 - val_precision_2: 0.8571\n",
      "Epoch 97/100\n",
      "6/6 [==============================] - 0s 27ms/step - loss: 0.3856 - binary_accuracy: 0.8343 - recall_2: 0.8158 - precision_2: 0.8158 - val_loss: 0.4742 - val_binary_accuracy: 0.8605 - val_recall_2: 0.8571 - val_precision_2: 0.8571\n",
      "Epoch 98/100\n",
      "6/6 [==============================] - 0s 11ms/step - loss: 0.4257 - binary_accuracy: 0.8107 - recall_2: 0.6842 - precision_2: 0.8667 - val_loss: 0.4850 - val_binary_accuracy: 0.7442 - val_recall_2: 0.8571 - val_precision_2: 0.6923\n",
      "Epoch 99/100\n",
      "6/6 [==============================] - 0s 12ms/step - loss: 0.4131 - binary_accuracy: 0.7929 - recall_2: 0.7368 - precision_2: 0.7887 - val_loss: 0.4795 - val_binary_accuracy: 0.7907 - val_recall_2: 0.7619 - val_precision_2: 0.8000\n",
      "Epoch 100/100\n",
      "6/6 [==============================] - 0s 14ms/step - loss: 0.4148 - binary_accuracy: 0.8166 - recall_2: 0.8289 - precision_2: 0.7778 - val_loss: 0.5991 - val_binary_accuracy: 0.7209 - val_recall_2: 0.5714 - val_precision_2: 0.8000\n"
     ]
    }
   ],
   "source": [
    "# 모델 학습\n",
    "hist = model.fit(X_train, y_train,\n",
    "                 epochs=100,\n",
    "                 batch_size=30,\n",
    "                 validation_split=0.2,\n",
    "                 verbose=1)"
   ]
  },
  {
   "cell_type": "code",
   "execution_count": 199,
   "id": "5da2d3f5",
   "metadata": {},
   "outputs": [
    {
     "data": {
      "text/plain": [
       "dict_keys(['loss', 'binary_accuracy', 'recall_2', 'precision_2', 'val_loss', 'val_binary_accuracy', 'val_recall_2', 'val_precision_2'])"
      ]
     },
     "execution_count": 199,
     "metadata": {},
     "output_type": "execute_result"
    }
   ],
   "source": [
    "# 모델 평가 \n",
    "hist.history.keys()"
   ]
  },
  {
   "cell_type": "code",
   "execution_count": 200,
   "id": "96eff381",
   "metadata": {},
   "outputs": [
    {
     "name": "stdout",
     "output_type": "stream",
     "text": [
      "0\n"
     ]
    }
   ],
   "source": [
    "print(np.isnan(X_train).sum().sum())\n",
    "# print(np.isnan(y_train).sum().sum())\n"
   ]
  },
  {
   "cell_type": "code",
   "execution_count": 201,
   "id": "acf6296f",
   "metadata": {},
   "outputs": [
    {
     "data": {
      "text/plain": [
       "array([[1],\n",
       "       [1],\n",
       "       [0],\n",
       "       [1],\n",
       "       [1]], dtype=int64)"
      ]
     },
     "execution_count": 201,
     "metadata": {},
     "output_type": "execute_result"
    }
   ],
   "source": [
    "y_test[:5]"
   ]
  },
  {
   "cell_type": "code",
   "execution_count": 203,
   "id": "eb07d799",
   "metadata": {},
   "outputs": [
    {
     "data": {
      "text/plain": [
       "<matplotlib.legend.Legend at 0x1d0db9ebdf0>"
      ]
     },
     "execution_count": 203,
     "metadata": {},
     "output_type": "execute_result"
    },
    {
     "data": {
      "image/png": "[encoded data removed]",
      "text/plain": [
       "<Figure size 800x400 with 2 Axes>"
      ]
     },
     "metadata": {},
     "output_type": "display_data"
    }
   ],
   "source": [
    "fig, loss_ax = plt.subplots(figsize=(8,4))\n",
    "loss_ax.plot(hist.history['loss'], 'y', label='train loss')\n",
    "loss_ax.plot(hist.history['val_loss'], 'k', label='val loss')\n",
    "acc_ax = loss_ax.twinx() #loss_ax의 x축 공유\n",
    "acc_ax.plot(hist.history['binary_accuracy'], 'y', label='train accuracy')\n",
    "acc_ax.plot(hist.history['recall_2'], 'y', label='train recall')\n",
    "acc_ax.plot(hist.history['precision_2'], 'y', label='train precision')\n",
    "acc_ax.plot(hist.history['val_recall_2'], 'g', label='val recall')\n",
    "acc_ax.plot(hist.history['val_precision_2'], 'b', label='val precision')\n",
    "acc_ax.plot(hist.history['val_binary_accuracy'], 'r', label='val accuracy')\n",
    "loss_ax.set_xlabel('epochs')\n",
    "loss_ax.set_ylabel('loss')\n",
    "acc_ax.set_ylabel('accuracy')\n",
    "loss_ax.legend(loc='center right')\n",
    "acc_ax.legend() # bbox_to_anchor=(0.82712,0.76)"
   ]
  },
  {
   "cell_type": "code",
   "execution_count": 204,
   "id": "229f98d1",
   "metadata": {},
   "outputs": [
    {
     "name": "stdout",
     "output_type": "stream",
     "text": [
      "loss : 0.4118582010269165\n",
      "model accuracy : 0.791208803653717\n",
      "model recall : 0.6190476417541504\n",
      "model precision : 0.8965517282485962\n"
     ]
    }
   ],
   "source": [
    "score = model.evaluate(X_test,y_test, verbose=0)\n",
    "print('loss :',score[0])\n",
    "print('model accuracy :',score[1])\n",
    "print('model recall :',score[2])\n",
    "print('model precision :',score[3])"
   ]
  },
  {
   "cell_type": "code",
   "execution_count": 205,
   "id": "a964bb4d",
   "metadata": {},
   "outputs": [
    {
     "data": {
      "text/plain": [
       "array([1, 1, 0, 1, 1, 0, 0, 0, 0, 0, 0, 0, 0, 0, 1, 0, 1, 1, 1, 0, 0, 0,\n",
       "       0, 0, 0, 1, 1, 0, 1, 1, 0, 0, 1, 1, 0, 0, 0, 0, 1, 1, 1, 1, 0, 0,\n",
       "       1, 0, 1, 1, 1, 0, 1, 0, 0, 0, 1, 0, 0, 0, 1, 1, 1, 1, 1, 0, 0, 0,\n",
       "       1, 0, 1, 1, 0, 1, 0, 1, 0, 0, 1, 0, 1, 1, 0, 1, 1, 0, 0, 1, 1, 0,\n",
       "       1, 0, 0], dtype=int64)"
      ]
     },
     "execution_count": 205,
     "metadata": {},
     "output_type": "execute_result"
    }
   ],
   "source": [
    "# 교차표 \n",
    "y_test.reshape(-1)\n"
   ]
  },
  {
   "cell_type": "code",
   "execution_count": 207,
   "id": "dc5cc5f7",
   "metadata": {},
   "outputs": [
    {
     "name": "stdout",
     "output_type": "stream",
     "text": [
      "3/3 [==============================] - 0s 2ms/step\n"
     ]
    },
    {
     "data": {
      "text/html": [
       "<div>\n",
       "<style scoped>\n",
       "    .dataframe tbody tr th:only-of-type {\n",
       "        vertical-align: middle;\n",
       "    }\n",
       "\n",
       "    .dataframe tbody tr th {\n",
       "        vertical-align: top;\n",
       "    }\n",
       "\n",
       "    .dataframe thead th {\n",
       "        text-align: right;\n",
       "    }\n",
       "</style>\n",
       "<table border=\"1\" class=\"dataframe\">\n",
       "  <thead>\n",
       "    <tr style=\"text-align: right;\">\n",
       "      <th>예측값</th>\n",
       "      <th>0</th>\n",
       "      <th>1</th>\n",
       "    </tr>\n",
       "    <tr>\n",
       "      <th>실제값</th>\n",
       "      <th></th>\n",
       "      <th></th>\n",
       "    </tr>\n",
       "  </thead>\n",
       "  <tbody>\n",
       "    <tr>\n",
       "      <th>0</th>\n",
       "      <td>46</td>\n",
       "      <td>3</td>\n",
       "    </tr>\n",
       "    <tr>\n",
       "      <th>1</th>\n",
       "      <td>16</td>\n",
       "      <td>26</td>\n",
       "    </tr>\n",
       "  </tbody>\n",
       "</table>\n",
       "</div>"
      ],
      "text/plain": [
       "예측값   0   1\n",
       "실제값        \n",
       "0    46   3\n",
       "1    16  26"
      ]
     },
     "execution_count": 207,
     "metadata": {},
     "output_type": "execute_result"
    }
   ],
   "source": [
    "\n",
    "y_hat = (model.predict(X_test)>0.5).astype(int).reshape(-1)\n",
    "pd.crosstab(y_test.reshape(-1), y_hat, \n",
    "           rownames=['실제값'], colnames=['예측값'])"
   ]
  },
  {
   "cell_type": "markdown",
   "id": "8cf90f03",
   "metadata": {},
   "source": [
    "# 4. 모델 사용(저장,예측)"
   ]
  },
  {
   "cell_type": "code",
   "execution_count": 208,
   "id": "1792f6d7",
   "metadata": {},
   "outputs": [],
   "source": [
    "model.save('model/07heaer.h5')\n",
    "save_model(model,'model/07heaer.h5')"
   ]
  },
  {
   "cell_type": "code",
   "execution_count": 209,
   "id": "640f3801",
   "metadata": {},
   "outputs": [],
   "source": [
    "model2 = load_model('model/07heaer.h5')"
   ]
  },
  {
   "cell_type": "markdown",
   "id": "e19d366f",
   "metadata": {},
   "source": [
    "# 분류분석"
   ]
  },
  {
   "cell_type": "markdown",
   "id": "fd831dc7",
   "metadata": {},
   "source": [
    "\n",
    "```\n",
    "1. 데이터 셋 생성 & 전처리 \n",
    "    엑셀 -> 데이터 프레임 -> ? 처리(df.replace('?',np.nan) -> 결측치 처리 \n",
    "    -> x,y 분리 -> X변수 스케일 조정 - > train_test_split함수로 학습셋과 테스트셋 분리(2개로 분리)\n",
    "    -> y변수들의 원핫인코딩\n",
    "    \n",
    "2. 모델 생성(입력 13, 출력2) & 학습과정 설정 & 학습\n",
    "3. 모델 평가 (그래프, 평가, 교차표)\n",
    "4 모델 사용 (저장,예측) argmax\n",
    "```"
   ]
  },
  {
   "cell_type": "markdown",
   "id": "8e26aa3f",
   "metadata": {},
   "source": [
    "## 1. 데이터셋 생성 & 전처리 "
   ]
  },
  {
   "cell_type": "code",
   "execution_count": 215,
   "id": "11117b66",
   "metadata": {},
   "outputs": [
    {
     "data": {
      "text/plain": [
       "((212, 2), (91, 2))"
      ]
     },
     "execution_count": 215,
     "metadata": {},
     "output_type": "execute_result"
    }
   ],
   "source": [
    "Y_train = to_categorical(y_train)\n",
    "Y_test = to_categorical(y_test)\n",
    "Y_train.shape, Y_test.shape"
   ]
  },
  {
   "cell_type": "markdown",
   "id": "004c82ab",
   "metadata": {},
   "source": [
    "## 2. 모델 생성(입력13, 출력2) & 학습과정 설정 & 학습"
   ]
  },
  {
   "cell_type": "code",
   "execution_count": 216,
   "id": "b24a977b",
   "metadata": {},
   "outputs": [
    {
     "name": "stdout",
     "output_type": "stream",
     "text": [
      "Model: \"sequential_14\"\n",
      "_________________________________________________________________\n",
      " Layer (type)                Output Shape              Param #   \n",
      "=================================================================\n",
      " dense_55 (Dense)            (None, 39)                546       \n",
      "                                                                 \n",
      " dense_56 (Dense)            (None, 64)                2560      \n",
      "                                                                 \n",
      " dropout_21 (Dropout)        (None, 64)                0         \n",
      "                                                                 \n",
      " dense_57 (Dense)            (None, 16)                1040      \n",
      "                                                                 \n",
      " dense_58 (Dense)            (None, 2)                 34        \n",
      "                                                                 \n",
      "=================================================================\n",
      "Total params: 4,180\n",
      "Trainable params: 4,180\n",
      "Non-trainable params: 0\n",
      "_________________________________________________________________\n"
     ]
    }
   ],
   "source": [
    "#모델 구성\n",
    "model = Sequential() # 모델 객체 생성\n",
    "model.add(Input(shape=(13,)))\n",
    "model.add(Dense(units=39, activation='relu'))\n",
    "# model.add(Dropout(0.1))\n",
    "model.add(Dense(units=64, activation='relu'))\n",
    "model.add(Dropout(0.1))\n",
    "model.add(Dense(units=16, activation='relu'))\n",
    "# model.add(Dropout(0.2))\n",
    "model.add(Dense(units=2, activation='softmax'))\n",
    "model.summary()\n",
    "# 13*39+39=546"
   ]
  },
  {
   "cell_type": "code",
   "execution_count": 223,
   "id": "3bbf5b8d",
   "metadata": {},
   "outputs": [],
   "source": [
    "# 모델 학습과정 설정\n",
    "from tensorflow.keras import metrics\n",
    "from tensorflow.keras.optimizers import Adam\n",
    "model.compile(loss='categorical_crossentropy',\n",
    "#               optimizer=Adam(learning_rate=0.01),\n",
    "              metrics=['accuracy',     # 정확도\n",
    "                        metrics.Recall(),     # 재현율(실제값중심)\n",
    "                        metrics.Precision()]) # 정밀도"
   ]
  },
  {
   "cell_type": "code",
   "execution_count": 224,
   "id": "7d71b604",
   "metadata": {},
   "outputs": [],
   "source": [
    "# 모델 학습\n",
    "hist = model.fit(X_train, Y_train, # 훈련데이터\n",
    "                epochs=200,\n",
    "                validation_split=0.2, # 검증데이터를 훈련데이터의 20%로 사용\n",
    "                verbose=0)"
   ]
  },
  {
   "cell_type": "code",
   "execution_count": 226,
   "id": "df6fd017",
   "metadata": {},
   "outputs": [
    {
     "data": {
      "text/plain": [
       "dict_keys(['loss', 'accuracy', 'recall_5', 'precision_5', 'val_loss', 'val_accuracy', 'val_recall_5', 'val_precision_5'])"
      ]
     },
     "execution_count": 226,
     "metadata": {},
     "output_type": "execute_result"
    }
   ],
   "source": [
    "hist.history.keys()"
   ]
  },
  {
   "cell_type": "code",
   "execution_count": 227,
   "id": "d58403b5",
   "metadata": {},
   "outputs": [
    {
     "data": {
      "image/png": "[encoded data removed]",
      "text/plain": [
       "<Figure size 1200x600 with 2 Axes>"
      ]
     },
     "metadata": {},
     "output_type": "display_data"
    }
   ],
   "source": [
    "\n",
    "fig, loss_ax = plt.subplots(figsize=(12,6))\n",
    "loss_ax.plot(hist.history['loss'], 'y', label='train loss')\n",
    "loss_ax.plot(hist.history['val_loss'], 'r', label='val loss')\n",
    "acc_ax = loss_ax.twinx()\n",
    "acc_ax.plot(hist.history['accuracy'], 'g', label='train accuracy')\n",
    "acc_ax.plot(hist.history['val_accuracy'], 'b', label='val accuracy')\n",
    "loss_ax.set_xlabel('epochs')\n",
    "loss_ax.set_ylabel('loss')\n",
    "acc_ax.set_ylabel('accuracy')\n",
    "loss_ax.legend(loc='center right')\n",
    "acc_ax.legend()\n",
    "plt.show()"
   ]
  },
  {
   "cell_type": "code",
   "execution_count": 228,
   "id": "49a53cfe",
   "metadata": {},
   "outputs": [
    {
     "name": "stdout",
     "output_type": "stream",
     "text": [
      "model loss :  0.44382211565971375\n",
      "model accuracy :  0.7802197933197021\n",
      "model recall :  0.7802197933197021\n",
      "model precision :  0.7802197933197021\n"
     ]
    }
   ],
   "source": [
    "\n",
    "score = model.evaluate(X_test, Y_test, verbose=0)\n",
    "print('model loss : ', score[0])\n",
    "print('model accuracy : ', score[1])\n",
    "print('model recall : ', score[2])\n",
    "print('model precision : ', score[3])"
   ]
  },
  {
   "cell_type": "code",
   "execution_count": 229,
   "id": "91a0345c",
   "metadata": {},
   "outputs": [
    {
     "name": "stdout",
     "output_type": "stream",
     "text": [
      "3/3 [==============================] - 0s 2ms/step\n"
     ]
    },
    {
     "data": {
      "text/plain": [
       "array([0, 1, 0, 0, 1, 0, 0, 0, 0, 0, 0, 0, 0, 0, 1, 0, 0, 1, 1, 0, 0, 0,\n",
       "       0, 0, 0, 1, 1, 0, 1, 0, 0, 0, 0, 0, 0, 0, 0, 0, 0, 0, 0, 0, 0, 0,\n",
       "       1, 0, 1, 0, 1, 0, 1, 0, 0, 0, 1, 0, 0, 0, 1, 1, 0, 0, 0, 0, 0, 0,\n",
       "       1, 0, 1, 1, 0, 0, 0, 0, 0, 0, 0, 0, 1, 0, 0, 0, 1, 0, 0, 0, 1, 0,\n",
       "       1, 0, 0], dtype=int64)"
      ]
     },
     "execution_count": 229,
     "metadata": {},
     "output_type": "execute_result"
    }
   ],
   "source": [
    "\n",
    "# 교차표\n",
    "y_hat = model.predict(X_test).argmax(axis=1)\n",
    "y_hat"
   ]
  },
  {
   "cell_type": "code",
   "execution_count": 230,
   "id": "b1104dcb",
   "metadata": {},
   "outputs": [
    {
     "data": {
      "text/html": [
       "<div>\n",
       "<style scoped>\n",
       "    .dataframe tbody tr th:only-of-type {\n",
       "        vertical-align: middle;\n",
       "    }\n",
       "\n",
       "    .dataframe tbody tr th {\n",
       "        vertical-align: top;\n",
       "    }\n",
       "\n",
       "    .dataframe thead th {\n",
       "        text-align: right;\n",
       "    }\n",
       "</style>\n",
       "<table border=\"1\" class=\"dataframe\">\n",
       "  <thead>\n",
       "    <tr style=\"text-align: right;\">\n",
       "      <th>예측값</th>\n",
       "      <th>0</th>\n",
       "      <th>1</th>\n",
       "    </tr>\n",
       "    <tr>\n",
       "      <th>실제값</th>\n",
       "      <th></th>\n",
       "      <th></th>\n",
       "    </tr>\n",
       "  </thead>\n",
       "  <tbody>\n",
       "    <tr>\n",
       "      <th>0</th>\n",
       "      <td>49</td>\n",
       "      <td>0</td>\n",
       "    </tr>\n",
       "    <tr>\n",
       "      <th>1</th>\n",
       "      <td>20</td>\n",
       "      <td>22</td>\n",
       "    </tr>\n",
       "  </tbody>\n",
       "</table>\n",
       "</div>"
      ],
      "text/plain": [
       "예측값   0   1\n",
       "실제값        \n",
       "0    49   0\n",
       "1    20  22"
      ]
     },
     "execution_count": 230,
     "metadata": {},
     "output_type": "execute_result"
    }
   ],
   "source": [
    "\n",
    "pd.crosstab(y_test.reshape(-1), y_hat,\n",
    "           rownames=['실제값'],\n",
    "           colnames=['예측값'])"
   ]
  },
  {
   "cell_type": "code",
   "execution_count": null,
   "id": "43cd8b7d",
   "metadata": {},
   "outputs": [],
   "source": []
  },
  {
   "cell_type": "code",
   "execution_count": null,
   "id": "bbd2f9c4",
   "metadata": {},
   "outputs": [],
   "source": []
  },
  {
   "cell_type": "code",
   "execution_count": null,
   "id": "1cf2ec42",
   "metadata": {},
   "outputs": [],
   "source": []
  },
  {
   "cell_type": "code",
   "execution_count": null,
   "id": "0af97c7c",
   "metadata": {},
   "outputs": [],
   "source": []
  },
  {
   "cell_type": "code",
   "execution_count": null,
   "id": "8473b9e8",
   "metadata": {},
   "outputs": [],
   "source": []
  },
  {
   "cell_type": "code",
   "execution_count": null,
   "id": "3ef78102",
   "metadata": {},
   "outputs": [],
   "source": []
  },
  {
   "cell_type": "code",
   "execution_count": null,
   "id": "3dc04be5",
   "metadata": {},
   "outputs": [],
   "source": []
  },
  {
   "cell_type": "code",
   "execution_count": null,
   "id": "1a22ca66",
   "metadata": {},
   "outputs": [],
   "source": []
  }
 ],
 "metadata": {
  "kernelspec": {
   "display_name": "ml-dl-nlp",
   "language": "python",
   "name": "ml-dl-nlp"
  },
  "language_info": {
   "codemirror_mode": {
    "name": "ipython",
    "version": 3
   },
   "file_extension": ".py",
   "mimetype": "text/x-python",
   "name": "python",
   "nbconvert_exporter": "python",
   "pygments_lexer": "ipython3",
   "version": "3.10.18"
  },
  "toc": {
   "base_numbering": 1,
   "nav_menu": {},
   "number_sections": false,
   "sideBar": true,
   "skip_h1_title": false,
   "title_cell": "Table of Contents",
   "title_sidebar": "Contents",
   "toc_cell": false,
   "toc_position": {
    "height": "calc(100% - 180px)",
    "left": "10px",
    "top": "150px",
    "width": "165px"
   },
   "toc_section_display": true,
   "toc_window_display": true
  }
 },
 "nbformat": 4,
 "nbformat_minor": 5
}
