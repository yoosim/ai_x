{
 "cells": [
  {
   "cell_type": "code",
   "execution_count": 1,
   "id": "ca781d65",
   "metadata": {},
   "outputs": [
    {
     "data": {
      "text/html": [
       "\n",
       "<style>\n",
       "div.container{width:86% !important;}\n",
       "div.cell.code_cell.rendered{width:100%;}\n",
       "div.CodeMirror {font-family:Consolas; font-size:15pt;}\n",
       "div.output {font-size:15pt; font-weight:bold;}\n",
       "div.input {font-family:Consolas; font-size:15pt;}\n",
       "div.prompt {min-width:70px;}\n",
       "div#toc-wrapper{padding-top:120px;}\n",
       "div.text_cell_render ul li{font-size:12pt;padding:5px;}\n",
       "table.dataframe{font-size:15px;}\n",
       "</style>\n",
       " "
      ],
      "text/plain": [
       "<IPython.core.display.HTML object>"
      ]
     },
     "metadata": {},
     "output_type": "display_data"
    }
   ],
   "source": [
    "from IPython.display import display, HTML \n",
    "display(HTML(\"\"\"\n",
    "<style>\n",
    "div.container{width:86% !important;}\n",
    "div.cell.code_cell.rendered{width:100%;}\n",
    "div.CodeMirror {font-family:Consolas; font-size:15pt;}\n",
    "div.output {font-size:15pt; font-weight:bold;}\n",
    "div.input {font-family:Consolas; font-size:15pt;}\n",
    "div.prompt {min-width:70px;}\n",
    "div#toc-wrapper{padding-top:120px;}\n",
    "div.text_cell_render ul li{font-size:12pt;padding:5px;}\n",
    "table.dataframe{font-size:15px;}\n",
    "</style>\n",
    " \"\"\"))"
   ]
  },
  {
   "cell_type": "code",
   "execution_count": 3,
   "id": "945716ef",
   "metadata": {},
   "outputs": [],
   "source": [
    "import numpy as np\n",
    "import pandas as pd                              # 결측치 체크\n",
    "import sys\n",
    "from tensorflow.keras import utils               # utils.to_categorical\n",
    "from tensorflow.keras.models import Sequential   # 모델 만들기\n",
    "from tensorflow.keras.layers import Dense, Input\n",
    "from matplotlib import pyplot as plt"
   ]
  },
  {
   "cell_type": "markdown",
   "id": "887feba5",
   "metadata": {},
   "source": [
    "# 로지스틱 회귀분석(이진분류)\n",
    "## 1. 데이터셋 생성 & 전처리 "
   ]
  },
  {
   "cell_type": "code",
   "execution_count": null,
   "id": "fbe5b1c7",
   "metadata": {},
   "outputs": [],
   "source": [
    "df = pd.read_csv('data/pima-indians-diabetes.csv', \n",
    "             comment='#',\n",
    "             header=None)\n",
    "df.info() # 결측치 없음"
   ]
  },
  {
   "cell_type": "code",
   "execution_count": null,
   "id": "b3529de3",
   "metadata": {},
   "outputs": [],
   "source": [
    "# 타겟 변수의 균형 \n",
    "df.iloc[:,-1].value_counts() #df.loc[8]"
   ]
  },
  {
   "cell_type": "code",
   "execution_count": null,
   "id": "5ca208b2",
   "metadata": {},
   "outputs": [],
   "source": [
    "df.head()\n",
    "# X_data=df.iloc[:,-1]"
   ]
  },
  {
   "cell_type": "code",
   "execution_count": null,
   "id": "84962218",
   "metadata": {},
   "outputs": [],
   "source": [
    "# csv 파일을 numpy배열로 바로 읽어오기 : np.loadtxt(결측치가 없는 경우), np.genfromtxt(결측치가 있을 경우)\n",
    "dataset = np.loadtxt('data/pima-indians-diabetes.csv',\n",
    "                     encoding='utf-8',\n",
    "                     delimiter=',')\n",
    "dataset.shape  # 독립변수 8개, 종속변수 1개"
   ]
  },
  {
   "cell_type": "code",
   "execution_count": null,
   "id": "c5ed4249",
   "metadata": {},
   "outputs": [],
   "source": [
    "# 데이터 분할 : 학습데이터셋(모델학습용) + 시험데이터셋(모델평가용)\n",
    "X_train = dataset[:700, :-1]\n",
    "y_train = dataset[:700, -1]\n",
    "X_test = dataset[700: , :-1]\n",
    "y_test = dataset[700: , -1]\n",
    "X_train.shape , y_train.shape, X_test.shape, y_test.shape"
   ]
  },
  {
   "cell_type": "markdown",
   "id": "5edcbd21",
   "metadata": {},
   "source": [
    "## 2. 모델 구성"
   ]
  },
  {
   "cell_type": "code",
   "execution_count": null,
   "id": "f636bd26",
   "metadata": {},
   "outputs": [],
   "source": [
    "# 8 -> 32 -> 16 -> 1\n",
    "#input layer, hidden layer, ouput layer"
   ]
  },
  {
   "cell_type": "code",
   "execution_count": null,
   "id": "28dff543",
   "metadata": {},
   "outputs": [],
   "source": [
    "# 모델 구성\n",
    "model = Sequential() # 모델객체 생성\n",
    "model.add(Input(shape=(8,)))\n",
    "model.add(Dense(units=32, activation='relu')) # 딥러닝 DNN\n",
    "model.add(Dense(units=16, activation='relu'))\n",
    "model.add(Dense(units=1, activation='sigmoid'))\n",
    "model.summary()\n",
    "# 8*32+32 = 288 / 32*16+16=528 / 16*1+1=17"
   ]
  },
  {
   "cell_type": "markdown",
   "id": "37177c94",
   "metadata": {},
   "source": [
    "## 3. 학습과정 설정\n",
    "- 뒷값(파라미터) 부터 (역전파) 조종 "
   ]
  },
  {
   "cell_type": "code",
   "execution_count": null,
   "id": "1941c11e",
   "metadata": {},
   "outputs": [],
   "source": [
    "model.compile(loss='binary_crossentropy',\n",
    "              optimizer='adam',\n",
    "              metrics=['binary_accuracy']) # 리스트에 넣어야 함 ,성능 평가(Evaluate)- 정확도(accuracy), 손실(loss), 정밀도(precision), 재현율(recall)"
   ]
  },
  {
   "cell_type": "markdown",
   "id": "a5dc2617",
   "metadata": {},
   "source": [
    "## 4. 학습"
   ]
  },
  {
   "cell_type": "code",
   "execution_count": null,
   "id": "40f86444",
   "metadata": {},
   "outputs": [],
   "source": [
    "%%time\n",
    "hist = model.fit(X_train, y_train,                     # 훈련 데이터\n",
    "                epochs=200,                            # 학습 횟수\n",
    "                batch_size=350 ,                       # 한번에 읽어들이는 데이터양(나눠서 학습하는 것)\n",
    "                # validation_data=[X_test, y_test]),   # 검증데이터 (train 데이터랑 다른 값)\n",
    "                # validation_split=0.2,                  # 검증데이터 설정을 컴퓨터가 알아서 해줌 (훈련데이터중에)validation_(data or split 둘중에 하나 사용 ) \n",
    "                verbose=0                              # 학습 로그 출력 여부 (0:출력X,1:출력O,2:자세히 출력)\n",
    "                  )"
   ]
  },
  {
   "cell_type": "markdown",
   "id": "3900c722",
   "metadata": {},
   "source": [
    "## 5. 모델 평가하기(학습과정 보기, 평가,혼동행렬)\n",
    "- 학습과정 설정에서 사용한것만 평가 가능\n",
    "    - loss='binary_crossentropy, metrics='binary_accuracy'"
   ]
  },
  {
   "cell_type": "code",
   "execution_count": null,
   "id": "2301e530",
   "metadata": {},
   "outputs": [],
   "source": [
    "hist.history.keys()\n",
    "# val_loss, val_binary_accuracy = validation_split=0.2에서 자동추출됨"
   ]
  },
  {
   "cell_type": "code",
   "execution_count": null,
   "id": "4eef4e5d",
   "metadata": {},
   "outputs": [],
   "source": [
    "# 학습과정 표시 (train data (학습데이터)에 대한 loss와 accuracy)\n",
    "fig, loss_ax = plt.subplots(figsize=(8,4)) #fig는 임시변수 x축을 할당하기위해 loss_ax\n",
    "loss_ax.plot(hist.history['loss'], 'r')\n",
    "acc_ax = loss_ax.twinx()                  # loss_ax와 x 축을 공유하는 acc_ax\n",
    "acc_ax.plot(hist.history.get('binary_accuracy'), 'b')"
   ]
  },
  {
   "cell_type": "code",
   "execution_count": null,
   "id": "685c9d7b",
   "metadata": {},
   "outputs": [],
   "source": [
    "# 모델 평가(X) : 트레인 데이터로 하면 하나마나 잘 나옴\n",
    "model.evaluate(X_train, y_train)"
   ]
  },
  {
   "cell_type": "code",
   "execution_count": null,
   "id": "d2b3a8c7",
   "metadata": {},
   "outputs": [],
   "source": [
    "# 모델 평가(O) : 테스트하려고 만든데이터로 해야 함\n",
    "model.evaluate(X_test, y_test)"
   ]
  },
  {
   "cell_type": "markdown",
   "id": "b3b3469a",
   "metadata": {},
   "source": [
    "### 혼동행렬\n",
    "- 테스트 데이터 셋의 실제값과 예측값으로 작성된 교차표\n",
    "    - TP(True Positive)  : 정답 -> 병이 있는 환자를 맞춤\n",
    "    - TN(True Negative)  : 정답 -> 건강한 사람을 맞춤\n",
    "    - FP(False Positive) : 틀림 -> 건강한 사람을 환자로 잘못 판단\n",
    "    - FN(False Negative) : 틀림 -> 환자를 건강하다고 잘못 판단\n",
    "- accuracy(정확도) : (TN+TP)/(TN+FP+FN+TP) : 전체 사람중 환자,정상인만 맞춘 비율 \\\n",
    "    <span style=\"color:red; font-weight:bold; font-size:15px;\">:전체 예측 결과-전체중 맞춘 비율 <span>\n",
    "- precision(정밀도) : TP/ (FP+TP)   : 예측값기준(환자라고 예측한 사람들중 실제 환자인 비율)\\\n",
    "    <span style=\"color:red; font-weight:bold; font-size:15px;\">:예측이 양성인 것들 기준-예측을 믿을 수 있는지(양성 예측 정확성)<span>\\\n",
    "    -precision을 높이기 위해서는 확실한것만 Positive로 예측\n",
    "- recall(재현율) : TP/(FN+TP) : 실제값기준(실제로 환자인 사람들 중에서, 모델이 얼마나 잘 찾아냈는지)\\\n",
    "    <span style=\"color:red; font-weight:bold; font-size:15px;\">:실제 양성인 것들 기준-얼마나 잘 놓치지않고 찾아냈는지?(민감도)<span>\\\n",
    "    -recall을 높이려면 조금이라도 가능성이 있으면 Positive로 예측 \n",
    "- f1 score = recall과 precision의 조화평균 \n",
    "            precision*recall\n",
    "        2*―――――――――――――――――――――\n",
    "            precision+recall\n",
    "        \n",
    "        \n",
    "- Precision ↑ → Recall ↓\n",
    "- Recall ↑ →  Precision ↓"
   ]
  },
  {
   "cell_type": "code",
   "execution_count": null,
   "id": "3ba31c3b",
   "metadata": {},
   "outputs": [],
   "source": [
    "y_test[:5]"
   ]
  },
  {
   "cell_type": "code",
   "execution_count": null,
   "id": "e25246db",
   "metadata": {},
   "outputs": [],
   "source": [
    "# 실제값 : y_test (68개)\n",
    "# 예측값 : \n",
    "y_hat = (model.predict(X_test)>=0.5).astype(float)   \n",
    "# model.predict(X_test) : X_test에 대한 예측 1일 확률을 찾아서 \n",
    "# 0.5 이상이면 1(True), 이하면 0(false)로 판단\n",
    "# astype(float) : 출력된 값의 true,false를 1.0,0,0 숫자로 변경\n",
    "y_hat[:5]"
   ]
  },
  {
   "cell_type": "code",
   "execution_count": null,
   "id": "8515c5b5",
   "metadata": {},
   "outputs": [],
   "source": [
    "y_hat.reshape(-1)"
   ]
  },
  {
   "cell_type": "code",
   "execution_count": null,
   "id": "6d9588b2",
   "metadata": {},
   "outputs": [],
   "source": [
    "# 실제값을 예측했을 때 \n",
    "TN = 0 # 0을 0으로 예측한 경우의 수 (T)\n",
    "FP = 0 # 0을 1로 예측한 경우 (틀린경우)(F)\n",
    "FN = 0 # 1을 0으로 잘못 예측한 경우 (F)\n",
    "TP = 0 # 1을 1로 예측한 경우의 수 (T) \n",
    "print(y_test.shape,y_hat.shape)\n",
    "for y,h in zip(y_test,y_hat.reshape(-1)):   # y_hat이 (68,1)로 1차원으로 만들기위해 reshape함\n",
    "    if y==0 and h==0:\n",
    "        TN += 1\n",
    "    elif y==0 and h==1:\n",
    "        FP += 1\n",
    "    elif y==1 and h==0:\n",
    "        FN += 1\n",
    "    else:\n",
    "        TP += 1\n",
    "print(TN,FP)\n",
    "print(FN,TP)\n"
   ]
  },
  {
   "cell_type": "code",
   "execution_count": null,
   "id": "97c19be5",
   "metadata": {},
   "outputs": [],
   "source": [
    "# 교차표\n",
    "ctab = pd.crosstab(y_test,              # 실제값 (1차원으로 넣기)\n",
    "                   y_hat.reshape(-1))   # 예측값 (1차원으로 넣기)\n",
    "ctab.index.name='실제값'\n",
    "ctab.columns.name='예측값'\n",
    "ctab\n",
    "pd.crosstab(y_test,            # 실제값\n",
    "            y_hat.reshape(-1), # 예측값\n",
    "            rownames=['실제값'],\n",
    "            colnames=['예측값'])"
   ]
  },
  {
   "cell_type": "code",
   "execution_count": null,
   "id": "ce104a0d",
   "metadata": {},
   "outputs": [],
   "source": [
    "# 혼동행렬\n",
    "from sklearn.metrics import confusion_matrix\n",
    "confusion_matrix(y_test,\n",
    "                 y_hat.reshape(-1))"
   ]
  },
  {
   "cell_type": "code",
   "execution_count": null,
   "id": "362568dc",
   "metadata": {},
   "outputs": [],
   "source": [
    "# accuracy\n",
    "print('accuracy(정확도) :',(TN+TP)/ (TN+FP+FN+TP)) # 0.6764705777168274\n",
    "print('recall(재현율) :', ((TP)/(FN+TP)))\n",
    "print('precision(정밀도) :', ((TP)/(FP+TP))) "
   ]
  },
  {
   "cell_type": "markdown",
   "id": "4ab27a54",
   "metadata": {},
   "source": [
    " ## 6. 모델 사용"
   ]
  },
  {
   "cell_type": "code",
   "execution_count": null,
   "id": "998f625a",
   "metadata": {},
   "outputs": [],
   "source": [
    "X_test[0]"
   ]
  },
  {
   "cell_type": "code",
   "execution_count": null,
   "id": "d053bcca",
   "metadata": {},
   "outputs": [],
   "source": [
    "int(model.predict(np.array([X_test[0]]))>=0.5)"
   ]
  },
  {
   "cell_type": "code",
   "execution_count": null,
   "id": "43535934",
   "metadata": {},
   "outputs": [],
   "source": [
    "# 로지스티 회귀분석 (0과 1만 나옴) 이진분류분석 예측 코드 \n",
    "(model.predict([[2,122,76,27,200,35.9,0.483,26],\n",
    "               [0,122,76,27,200,35.9,0.483,26]])).astype(int)"
   ]
  },
  {
   "cell_type": "markdown",
   "id": "237be733",
   "metadata": {},
   "source": [
    "# 분류분석\n",
    "1. 데이터셋 생성 및 전처리 : 훈련셋(600개), 검증셋(100개), 테스트셋(68개)\n",
    "2. 모델 생성(input8, output2) : 출력층 softmax(출력합을 1(100%)로 만듬) \n",
    "    * model.summary() 파라미터 수와 메모리 확인 작업 필수\n",
    "3. 모델 학습과정 설정 : loss=\"categorical_crossentropy\",metrics=['accuracy'(평가지표)]\n",
    "4. 모델 학습 : 훈련셋과 검증셋으로 훈련\n",
    "5. 모델 평가 : 그래프 (hist.history) : 훈련셋,검증셋의 loss,accuracy 4개의 그래프, 평가(테스트셋), 교차표(테스트셋)\n",
    "6. 모델 저장 및 사용 : predict 결과에 argmax() \\\n",
    "    [99.2,0.8]\n",
    "    * 최대값이 있는 index 구하기"
   ]
  },
  {
   "cell_type": "markdown",
   "id": "3972d392",
   "metadata": {},
   "source": [
    "## 1. 데이터 셋 생성 및 전처리"
   ]
  },
  {
   "cell_type": "code",
   "execution_count": 4,
   "id": "925ded0c",
   "metadata": {},
   "outputs": [
    {
     "data": {
      "text/plain": [
       "(768, 9)"
      ]
     },
     "execution_count": 4,
     "metadata": {},
     "output_type": "execute_result"
    }
   ],
   "source": [
    "dataset = np.loadtxt('data/pima-indians-diabetes.csv', \n",
    "                     encoding='utf-8',\n",
    "                     delimiter=',')\n",
    "dataset.shape"
   ]
  },
  {
   "cell_type": "code",
   "execution_count": 5,
   "id": "cc012966",
   "metadata": {},
   "outputs": [
    {
     "data": {
      "text/plain": [
       "((600, 8), (600,), (100, 8), (100,), (68, 8), (68,))"
      ]
     },
     "execution_count": 5,
     "metadata": {},
     "output_type": "execute_result"
    }
   ],
   "source": [
    "# 훈련셋(600개), 검증셋(100개), 테스트셋(68개)\n",
    "# 분류분석을 하려면 타겟변수는 원핫인코딩 필수로 해야 함. 0일 확률이 몇퍼센트인지, 1인확률이 몇퍼센트인지 \n",
    "\n",
    "#훈련셋\n",
    "X_train = dataset[:600,:-1] \n",
    "y_train = dataset[:600,-1]    # [:600,-1:]로 하면 2차원\n",
    "\n",
    "# 검증셋\n",
    "X_val = dataset[600:700,:-1]\n",
    "y_val = dataset[600:700,-1]\n",
    "\n",
    "# 테스트셋\n",
    "X_test = dataset[700:,:-1]\n",
    "y_test = dataset[700:,-1]\n",
    "X_train.shape,y_train.shape,X_val.shape,y_val.shape,X_test.shape,y_test.shape\n"
   ]
  },
  {
   "cell_type": "code",
   "execution_count": 6,
   "id": "48c8e352",
   "metadata": {},
   "outputs": [
    {
     "name": "stdout",
     "output_type": "stream",
     "text": [
      "[1. 0. 1. 0. 1.]\n"
     ]
    }
   ],
   "source": [
    "print(y_train[:5])"
   ]
  },
  {
   "cell_type": "code",
   "execution_count": 7,
   "id": "e8da652f",
   "metadata": {},
   "outputs": [
    {
     "name": "stdout",
     "output_type": "stream",
     "text": [
      "[[0. 1.]\n",
      " [1. 0.]\n",
      " [0. 1.]\n",
      " [1. 0.]\n",
      " [0. 1.]]\n"
     ]
    },
    {
     "data": {
      "text/plain": [
       "((600, 2), (600,), (100, 2), (100,), (68, 2), (68,))"
      ]
     },
     "execution_count": 7,
     "metadata": {},
     "output_type": "execute_result"
    }
   ],
   "source": [
    "# 타겟 변수의 원핫인코딩 분류분석\n",
    "print(utils.to_categorical(y_train[:5]))\n",
    "Y_train = utils.to_categorical(y_train)\n",
    "\n",
    "Y_val = utils.to_categorical(y_val)\n",
    "Y_test = utils.to_categorical(y_test)\n",
    "Y_train.shape, y_train.shape, Y_val.shape,y_val.shape, Y_test.shape,y_test.shape"
   ]
  },
  {
   "cell_type": "markdown",
   "id": "f89473ce",
   "metadata": {},
   "source": [
    "## 2. 모델 생성(input8, target2)\n",
    "- 과적합을 줄이는 단계 추가 (dropout 추가)\n"
   ]
  },
  {
   "cell_type": "code",
   "execution_count": 24,
   "id": "348fbc75",
   "metadata": {},
   "outputs": [
    {
     "name": "stdout",
     "output_type": "stream",
     "text": [
      "Model: \"sequential_3\"\n",
      "_________________________________________________________________\n",
      " Layer (type)                Output Shape              Param #   \n",
      "=================================================================\n",
      " dense_11 (Dense)            (None, 32)                288       \n",
      "                                                                 \n",
      " dropout (Dropout)           (None, 32)                0         \n",
      "                                                                 \n",
      " dense_12 (Dense)            (None, 64)                2112      \n",
      "                                                                 \n",
      " dropout_1 (Dropout)         (None, 64)                0         \n",
      "                                                                 \n",
      " dense_13 (Dense)            (None, 16)                1040      \n",
      "                                                                 \n",
      " dropout_2 (Dropout)         (None, 16)                0         \n",
      "                                                                 \n",
      " dense_14 (Dense)            (None, 8)                 136       \n",
      "                                                                 \n",
      " dense_15 (Dense)            (None, 2)                 18        \n",
      "                                                                 \n",
      "=================================================================\n",
      "Total params: 3,594\n",
      "Trainable params: 3,594\n",
      "Non-trainable params: 0\n",
      "_________________________________________________________________\n"
     ]
    }
   ],
   "source": [
    "from tensorflow.keras.layers import Dropout\n",
    "# 원래 있는 파라미터중에 랜덤으로 제거\n",
    "\n",
    "# 모델 구성\n",
    "model = Sequential() # 모델객체 생성\n",
    "model.add(Input(shape=(8,)))\n",
    "model.add(Dense(units=32, activation='relu')) # 딥러닝 DNN\n",
    "model.add(Dropout(0.2)) # 과적합을 해결 (8*32+32=288개중에 20%)\n",
    "model.add(Dense(units=64, activation='relu'))\n",
    "model.add(Dropout(0.1)) # 과적합을 해결 (32*64+64=2112개중에 10%)\n",
    "model.add(Dense(units=16, activation='relu'))\n",
    "model.add(Dropout(0.2)) # 과적합을 해결 (64*16+16=1040개중에 20%)\n",
    "model.add(Dense(units=8, activation='relu'))\n",
    "model.add(Dense(units=2, activation='softmax'))\n",
    "model.summary()\n",
    "# 8*32+32 = 288 / 32*64+64=2112 / 64*16+16=1040 / 16*8+8=136 / 8*2+2=18"
   ]
  },
  {
   "cell_type": "markdown",
   "id": "ea8817c6",
   "metadata": {},
   "source": [
    "## 3.학습과정 설정"
   ]
  },
  {
   "cell_type": "code",
   "execution_count": 25,
   "id": "e5f300ab",
   "metadata": {},
   "outputs": [],
   "source": [
    "model.compile(loss='categorical_crossentropy',\n",
    "              optimizer='nadam',\n",
    "              metrics=['accuracy'])"
   ]
  },
  {
   "cell_type": "markdown",
   "id": "c17d6f9a",
   "metadata": {},
   "source": [
    "## 4. 모델 학습"
   ]
  },
  {
   "cell_type": "code",
   "execution_count": 26,
   "id": "99f196bf",
   "metadata": {},
   "outputs": [
    {
     "name": "stdout",
     "output_type": "stream",
     "text": [
      "Epoch 1/300\n",
      "19/19 [==============================] - 1s 12ms/step - loss: 7.6891 - accuracy: 0.5150 - val_loss: 2.8372 - val_accuracy: 0.6000\n",
      "Epoch 2/300\n",
      "19/19 [==============================] - 0s 4ms/step - loss: 3.5441 - accuracy: 0.4817 - val_loss: 0.9986 - val_accuracy: 0.6700\n",
      "Epoch 3/300\n",
      "19/19 [==============================] - 0s 4ms/step - loss: 1.5935 - accuracy: 0.5467 - val_loss: 0.6864 - val_accuracy: 0.6700\n",
      "Epoch 4/300\n",
      "19/19 [==============================] - 0s 4ms/step - loss: 0.8966 - accuracy: 0.6117 - val_loss: 0.6614 - val_accuracy: 0.6700\n",
      "Epoch 5/300\n",
      "19/19 [==============================] - 0s 3ms/step - loss: 0.8095 - accuracy: 0.5917 - val_loss: 0.6656 - val_accuracy: 0.6700\n",
      "Epoch 6/300\n",
      "19/19 [==============================] - 0s 3ms/step - loss: 0.7600 - accuracy: 0.6183 - val_loss: 0.6586 - val_accuracy: 0.6700\n",
      "Epoch 7/300\n",
      "19/19 [==============================] - 0s 4ms/step - loss: 0.7627 - accuracy: 0.6050 - val_loss: 0.6618 - val_accuracy: 0.6700\n",
      "Epoch 8/300\n",
      "19/19 [==============================] - 0s 4ms/step - loss: 0.7236 - accuracy: 0.6000 - val_loss: 0.6499 - val_accuracy: 0.6700\n",
      "Epoch 9/300\n",
      "19/19 [==============================] - 0s 4ms/step - loss: 0.6763 - accuracy: 0.6417 - val_loss: 0.6507 - val_accuracy: 0.6700\n",
      "Epoch 10/300\n",
      "19/19 [==============================] - 0s 4ms/step - loss: 0.7050 - accuracy: 0.6317 - val_loss: 0.6498 - val_accuracy: 0.6700\n",
      "Epoch 11/300\n",
      "19/19 [==============================] - 0s 4ms/step - loss: 0.6780 - accuracy: 0.6367 - val_loss: 0.6505 - val_accuracy: 0.6700\n",
      "Epoch 12/300\n",
      "19/19 [==============================] - 0s 4ms/step - loss: 0.7238 - accuracy: 0.6567 - val_loss: 0.6498 - val_accuracy: 0.6700\n",
      "Epoch 13/300\n",
      "19/19 [==============================] - 0s 3ms/step - loss: 0.7038 - accuracy: 0.6767 - val_loss: 0.6424 - val_accuracy: 0.6700\n",
      "Epoch 14/300\n",
      "19/19 [==============================] - 0s 3ms/step - loss: 0.6704 - accuracy: 0.6417 - val_loss: 0.6411 - val_accuracy: 0.6700\n",
      "Epoch 15/300\n",
      "19/19 [==============================] - 0s 3ms/step - loss: 0.6675 - accuracy: 0.6417 - val_loss: 0.6415 - val_accuracy: 0.6700\n",
      "Epoch 16/300\n",
      "19/19 [==============================] - 0s 3ms/step - loss: 0.6656 - accuracy: 0.6383 - val_loss: 0.6391 - val_accuracy: 0.6700\n",
      "Epoch 17/300\n",
      "19/19 [==============================] - 0s 3ms/step - loss: 0.6559 - accuracy: 0.6500 - val_loss: 0.6391 - val_accuracy: 0.6700\n",
      "Epoch 18/300\n",
      "19/19 [==============================] - 0s 3ms/step - loss: 0.6635 - accuracy: 0.6550 - val_loss: 0.6412 - val_accuracy: 0.6700\n",
      "Epoch 19/300\n",
      "19/19 [==============================] - 0s 4ms/step - loss: 0.6558 - accuracy: 0.6567 - val_loss: 0.6364 - val_accuracy: 0.6700\n",
      "Epoch 20/300\n",
      "19/19 [==============================] - 0s 4ms/step - loss: 0.6643 - accuracy: 0.6433 - val_loss: 0.6374 - val_accuracy: 0.6700\n",
      "Epoch 21/300\n",
      "19/19 [==============================] - 0s 4ms/step - loss: 0.6436 - accuracy: 0.6467 - val_loss: 0.6345 - val_accuracy: 0.6700\n",
      "Epoch 22/300\n",
      "19/19 [==============================] - 0s 4ms/step - loss: 0.6440 - accuracy: 0.6550 - val_loss: 0.6338 - val_accuracy: 0.6700\n",
      "Epoch 23/300\n",
      "19/19 [==============================] - 0s 4ms/step - loss: 0.6573 - accuracy: 0.6517 - val_loss: 0.6332 - val_accuracy: 0.6700\n",
      "Epoch 24/300\n",
      "19/19 [==============================] - 0s 4ms/step - loss: 0.6444 - accuracy: 0.6633 - val_loss: 0.6331 - val_accuracy: 0.6700\n",
      "Epoch 25/300\n",
      "19/19 [==============================] - 0s 4ms/step - loss: 0.6497 - accuracy: 0.6550 - val_loss: 0.6327 - val_accuracy: 0.6700\n",
      "Epoch 26/300\n",
      "19/19 [==============================] - 0s 4ms/step - loss: 0.6512 - accuracy: 0.6467 - val_loss: 0.6294 - val_accuracy: 0.6700\n",
      "Epoch 27/300\n",
      "19/19 [==============================] - 0s 5ms/step - loss: 0.6456 - accuracy: 0.6467 - val_loss: 0.6299 - val_accuracy: 0.6700\n",
      "Epoch 28/300\n",
      "19/19 [==============================] - 0s 3ms/step - loss: 0.6461 - accuracy: 0.6567 - val_loss: 0.6284 - val_accuracy: 0.6700\n",
      "Epoch 29/300\n",
      "19/19 [==============================] - 0s 3ms/step - loss: 0.6365 - accuracy: 0.6617 - val_loss: 0.6278 - val_accuracy: 0.6700\n",
      "Epoch 30/300\n",
      "19/19 [==============================] - 0s 4ms/step - loss: 0.6512 - accuracy: 0.6467 - val_loss: 0.6278 - val_accuracy: 0.6700\n",
      "Epoch 31/300\n",
      "19/19 [==============================] - 0s 3ms/step - loss: 0.6510 - accuracy: 0.6517 - val_loss: 0.6264 - val_accuracy: 0.6700\n",
      "Epoch 32/300\n",
      "19/19 [==============================] - 0s 4ms/step - loss: 0.6444 - accuracy: 0.6533 - val_loss: 0.6244 - val_accuracy: 0.6700\n",
      "Epoch 33/300\n",
      "19/19 [==============================] - 0s 4ms/step - loss: 0.6376 - accuracy: 0.6617 - val_loss: 0.6292 - val_accuracy: 0.6700\n",
      "Epoch 34/300\n",
      "19/19 [==============================] - 0s 4ms/step - loss: 0.6456 - accuracy: 0.6533 - val_loss: 0.6215 - val_accuracy: 0.6900\n",
      "Epoch 35/300\n",
      "19/19 [==============================] - 0s 3ms/step - loss: 0.6317 - accuracy: 0.6667 - val_loss: 0.6197 - val_accuracy: 0.6700\n",
      "Epoch 36/300\n",
      "19/19 [==============================] - 0s 4ms/step - loss: 0.6328 - accuracy: 0.6683 - val_loss: 0.6245 - val_accuracy: 0.6700\n",
      "Epoch 37/300\n",
      "19/19 [==============================] - 0s 4ms/step - loss: 0.6380 - accuracy: 0.6583 - val_loss: 0.6183 - val_accuracy: 0.6800\n",
      "Epoch 38/300\n",
      "19/19 [==============================] - 0s 4ms/step - loss: 0.6308 - accuracy: 0.6650 - val_loss: 0.6154 - val_accuracy: 0.6900\n",
      "Epoch 39/300\n",
      "19/19 [==============================] - 0s 4ms/step - loss: 0.6500 - accuracy: 0.6567 - val_loss: 0.6160 - val_accuracy: 0.6700\n",
      "Epoch 40/300\n",
      "19/19 [==============================] - 0s 4ms/step - loss: 0.6506 - accuracy: 0.6550 - val_loss: 0.6155 - val_accuracy: 0.6700\n",
      "Epoch 41/300\n",
      "19/19 [==============================] - 0s 3ms/step - loss: 0.6334 - accuracy: 0.6550 - val_loss: 0.6224 - val_accuracy: 0.6700\n",
      "Epoch 42/300\n",
      "19/19 [==============================] - 0s 4ms/step - loss: 0.6368 - accuracy: 0.6517 - val_loss: 0.6130 - val_accuracy: 0.6800\n",
      "Epoch 43/300\n",
      "19/19 [==============================] - 0s 3ms/step - loss: 0.6320 - accuracy: 0.6667 - val_loss: 0.6122 - val_accuracy: 0.6800\n",
      "Epoch 44/300\n",
      "19/19 [==============================] - 0s 3ms/step - loss: 0.6389 - accuracy: 0.6567 - val_loss: 0.6116 - val_accuracy: 0.6800\n",
      "Epoch 45/300\n",
      "19/19 [==============================] - 0s 4ms/step - loss: 0.6375 - accuracy: 0.6617 - val_loss: 0.6097 - val_accuracy: 0.6900\n",
      "Epoch 46/300\n",
      "19/19 [==============================] - 0s 4ms/step - loss: 0.6314 - accuracy: 0.6700 - val_loss: 0.6085 - val_accuracy: 0.6800\n",
      "Epoch 47/300\n",
      "19/19 [==============================] - 0s 4ms/step - loss: 0.6336 - accuracy: 0.6517 - val_loss: 0.6156 - val_accuracy: 0.6700\n",
      "Epoch 48/300\n",
      "19/19 [==============================] - 0s 4ms/step - loss: 0.6353 - accuracy: 0.6550 - val_loss: 0.6065 - val_accuracy: 0.6800\n",
      "Epoch 49/300\n",
      "19/19 [==============================] - 0s 4ms/step - loss: 0.6457 - accuracy: 0.6550 - val_loss: 0.6146 - val_accuracy: 0.6700\n",
      "Epoch 50/300\n",
      "19/19 [==============================] - 0s 4ms/step - loss: 0.6430 - accuracy: 0.6450 - val_loss: 0.6105 - val_accuracy: 0.6700\n",
      "Epoch 51/300\n",
      "19/19 [==============================] - 0s 4ms/step - loss: 0.6444 - accuracy: 0.6483 - val_loss: 0.6134 - val_accuracy: 0.6700\n",
      "Epoch 52/300\n",
      "19/19 [==============================] - 0s 4ms/step - loss: 0.6355 - accuracy: 0.6550 - val_loss: 0.6092 - val_accuracy: 0.6800\n",
      "Epoch 53/300\n",
      "19/19 [==============================] - 0s 4ms/step - loss: 0.6206 - accuracy: 0.6717 - val_loss: 0.6082 - val_accuracy: 0.6700\n",
      "Epoch 54/300\n",
      "19/19 [==============================] - 0s 3ms/step - loss: 0.6275 - accuracy: 0.6683 - val_loss: 0.6221 - val_accuracy: 0.6700\n",
      "Epoch 55/300\n",
      "19/19 [==============================] - 0s 3ms/step - loss: 0.6295 - accuracy: 0.6650 - val_loss: 0.6020 - val_accuracy: 0.6800\n",
      "Epoch 56/300\n",
      "19/19 [==============================] - 0s 4ms/step - loss: 0.6338 - accuracy: 0.6450 - val_loss: 0.6129 - val_accuracy: 0.6700\n",
      "Epoch 57/300\n",
      "19/19 [==============================] - 0s 4ms/step - loss: 0.6170 - accuracy: 0.6767 - val_loss: 0.5978 - val_accuracy: 0.7100\n",
      "Epoch 58/300\n",
      "19/19 [==============================] - 0s 3ms/step - loss: 0.6269 - accuracy: 0.6783 - val_loss: 0.5972 - val_accuracy: 0.7000\n"
     ]
    },
    {
     "name": "stdout",
     "output_type": "stream",
     "text": [
      "Epoch 59/300\n",
      "19/19 [==============================] - 0s 3ms/step - loss: 0.6354 - accuracy: 0.6717 - val_loss: 0.6187 - val_accuracy: 0.6700\n",
      "Epoch 60/300\n",
      "19/19 [==============================] - 0s 3ms/step - loss: 0.6416 - accuracy: 0.6517 - val_loss: 0.6012 - val_accuracy: 0.6800\n",
      "Epoch 61/300\n",
      "19/19 [==============================] - 0s 4ms/step - loss: 0.6269 - accuracy: 0.6900 - val_loss: 0.5952 - val_accuracy: 0.7000\n",
      "Epoch 62/300\n",
      "19/19 [==============================] - 0s 3ms/step - loss: 0.6334 - accuracy: 0.6583 - val_loss: 0.5967 - val_accuracy: 0.6800\n",
      "Epoch 63/300\n",
      "19/19 [==============================] - 0s 4ms/step - loss: 0.6333 - accuracy: 0.6533 - val_loss: 0.5916 - val_accuracy: 0.7200\n",
      "Epoch 64/300\n",
      "19/19 [==============================] - 0s 3ms/step - loss: 0.6439 - accuracy: 0.6733 - val_loss: 0.5985 - val_accuracy: 0.6800\n",
      "Epoch 65/300\n",
      "19/19 [==============================] - 0s 3ms/step - loss: 0.6141 - accuracy: 0.6900 - val_loss: 0.6094 - val_accuracy: 0.6700\n",
      "Epoch 66/300\n",
      "19/19 [==============================] - 0s 4ms/step - loss: 0.6140 - accuracy: 0.6833 - val_loss: 0.6000 - val_accuracy: 0.6700\n",
      "Epoch 67/300\n",
      "19/19 [==============================] - 0s 4ms/step - loss: 0.6256 - accuracy: 0.6717 - val_loss: 0.6027 - val_accuracy: 0.6700\n",
      "Epoch 68/300\n",
      "19/19 [==============================] - 0s 3ms/step - loss: 0.6184 - accuracy: 0.6750 - val_loss: 0.5887 - val_accuracy: 0.6900\n",
      "Epoch 69/300\n",
      "19/19 [==============================] - 0s 3ms/step - loss: 0.6089 - accuracy: 0.6733 - val_loss: 0.5875 - val_accuracy: 0.6900\n",
      "Epoch 70/300\n",
      "19/19 [==============================] - 0s 4ms/step - loss: 0.6181 - accuracy: 0.6867 - val_loss: 0.5926 - val_accuracy: 0.6700\n",
      "Epoch 71/300\n",
      "19/19 [==============================] - 0s 3ms/step - loss: 0.6266 - accuracy: 0.6683 - val_loss: 0.6073 - val_accuracy: 0.6700\n",
      "Epoch 72/300\n",
      "19/19 [==============================] - 0s 3ms/step - loss: 0.6201 - accuracy: 0.6683 - val_loss: 0.5856 - val_accuracy: 0.6900\n",
      "Epoch 73/300\n",
      "19/19 [==============================] - 0s 3ms/step - loss: 0.5948 - accuracy: 0.6967 - val_loss: 0.5782 - val_accuracy: 0.7500\n",
      "Epoch 74/300\n",
      "19/19 [==============================] - 0s 3ms/step - loss: 0.6219 - accuracy: 0.6667 - val_loss: 0.5870 - val_accuracy: 0.6700\n",
      "Epoch 75/300\n",
      "19/19 [==============================] - 0s 3ms/step - loss: 0.6161 - accuracy: 0.6800 - val_loss: 0.5817 - val_accuracy: 0.6900\n",
      "Epoch 76/300\n",
      "19/19 [==============================] - 0s 4ms/step - loss: 0.6247 - accuracy: 0.6767 - val_loss: 0.5906 - val_accuracy: 0.6700\n",
      "Epoch 77/300\n",
      "19/19 [==============================] - 0s 4ms/step - loss: 0.6132 - accuracy: 0.6700 - val_loss: 0.5824 - val_accuracy: 0.6900\n",
      "Epoch 78/300\n",
      "19/19 [==============================] - 0s 4ms/step - loss: 0.6278 - accuracy: 0.6667 - val_loss: 0.5965 - val_accuracy: 0.6700\n",
      "Epoch 79/300\n",
      "19/19 [==============================] - 0s 4ms/step - loss: 0.6052 - accuracy: 0.6783 - val_loss: 0.5742 - val_accuracy: 0.7300\n",
      "Epoch 80/300\n",
      "19/19 [==============================] - 0s 4ms/step - loss: 0.6208 - accuracy: 0.6817 - val_loss: 0.5885 - val_accuracy: 0.6800\n",
      "Epoch 81/300\n",
      "19/19 [==============================] - 0s 3ms/step - loss: 0.6163 - accuracy: 0.6733 - val_loss: 0.5768 - val_accuracy: 0.7000\n",
      "Epoch 82/300\n",
      "19/19 [==============================] - 0s 4ms/step - loss: 0.6050 - accuracy: 0.6950 - val_loss: 0.5822 - val_accuracy: 0.6800\n",
      "Epoch 83/300\n",
      "19/19 [==============================] - 0s 4ms/step - loss: 0.5931 - accuracy: 0.7067 - val_loss: 0.5708 - val_accuracy: 0.7300\n",
      "Epoch 84/300\n",
      "19/19 [==============================] - 0s 3ms/step - loss: 0.5959 - accuracy: 0.6917 - val_loss: 0.5707 - val_accuracy: 0.7300\n",
      "Epoch 85/300\n",
      "19/19 [==============================] - 0s 4ms/step - loss: 0.6026 - accuracy: 0.6933 - val_loss: 0.5779 - val_accuracy: 0.6900\n",
      "Epoch 86/300\n",
      "19/19 [==============================] - 0s 4ms/step - loss: 0.6181 - accuracy: 0.6733 - val_loss: 0.5965 - val_accuracy: 0.6700\n",
      "Epoch 87/300\n",
      "19/19 [==============================] - 0s 4ms/step - loss: 0.6105 - accuracy: 0.6667 - val_loss: 0.5803 - val_accuracy: 0.6800\n",
      "Epoch 88/300\n",
      "19/19 [==============================] - 0s 4ms/step - loss: 0.6133 - accuracy: 0.6850 - val_loss: 0.5670 - val_accuracy: 0.7600\n",
      "Epoch 89/300\n",
      "19/19 [==============================] - 0s 3ms/step - loss: 0.5931 - accuracy: 0.6900 - val_loss: 0.5709 - val_accuracy: 0.7000\n",
      "Epoch 90/300\n",
      "19/19 [==============================] - 0s 3ms/step - loss: 0.6060 - accuracy: 0.6983 - val_loss: 0.5717 - val_accuracy: 0.6900\n",
      "Epoch 91/300\n",
      "19/19 [==============================] - 0s 3ms/step - loss: 0.5992 - accuracy: 0.6850 - val_loss: 0.5695 - val_accuracy: 0.7000\n",
      "Epoch 92/300\n",
      "19/19 [==============================] - 0s 3ms/step - loss: 0.6177 - accuracy: 0.6800 - val_loss: 0.5692 - val_accuracy: 0.7000\n",
      "Epoch 93/300\n",
      "19/19 [==============================] - 0s 4ms/step - loss: 0.5922 - accuracy: 0.7083 - val_loss: 0.5626 - val_accuracy: 0.7400\n",
      "Epoch 94/300\n",
      "19/19 [==============================] - 0s 4ms/step - loss: 0.6096 - accuracy: 0.6817 - val_loss: 0.5819 - val_accuracy: 0.6800\n",
      "Epoch 95/300\n",
      "19/19 [==============================] - 0s 4ms/step - loss: 0.6048 - accuracy: 0.6900 - val_loss: 0.5642 - val_accuracy: 0.7100\n",
      "Epoch 96/300\n",
      "19/19 [==============================] - 0s 4ms/step - loss: 0.6084 - accuracy: 0.6917 - val_loss: 0.5661 - val_accuracy: 0.7000\n",
      "Epoch 97/300\n",
      "19/19 [==============================] - 0s 3ms/step - loss: 0.6066 - accuracy: 0.6800 - val_loss: 0.5663 - val_accuracy: 0.7000\n",
      "Epoch 98/300\n",
      "19/19 [==============================] - 0s 3ms/step - loss: 0.5892 - accuracy: 0.7133 - val_loss: 0.5685 - val_accuracy: 0.7000\n",
      "Epoch 99/300\n",
      "19/19 [==============================] - 0s 3ms/step - loss: 0.5962 - accuracy: 0.6867 - val_loss: 0.5707 - val_accuracy: 0.6900\n",
      "Epoch 100/300\n",
      "19/19 [==============================] - 0s 3ms/step - loss: 0.5915 - accuracy: 0.7033 - val_loss: 0.5780 - val_accuracy: 0.6800\n",
      "Epoch 101/300\n",
      "19/19 [==============================] - 0s 3ms/step - loss: 0.6026 - accuracy: 0.6950 - val_loss: 0.5748 - val_accuracy: 0.6800\n",
      "Epoch 102/300\n",
      "19/19 [==============================] - 0s 4ms/step - loss: 0.5978 - accuracy: 0.6917 - val_loss: 0.5963 - val_accuracy: 0.6700\n",
      "Epoch 103/300\n",
      "19/19 [==============================] - 0s 4ms/step - loss: 0.5880 - accuracy: 0.7167 - val_loss: 0.5825 - val_accuracy: 0.6800\n",
      "Epoch 104/300\n",
      "19/19 [==============================] - 0s 3ms/step - loss: 0.5847 - accuracy: 0.6967 - val_loss: 0.5655 - val_accuracy: 0.7000\n",
      "Epoch 105/300\n",
      "19/19 [==============================] - 0s 4ms/step - loss: 0.5963 - accuracy: 0.7050 - val_loss: 0.5563 - val_accuracy: 0.7300\n",
      "Epoch 106/300\n",
      "19/19 [==============================] - 0s 3ms/step - loss: 0.5863 - accuracy: 0.7067 - val_loss: 0.5537 - val_accuracy: 0.7100\n",
      "Epoch 107/300\n",
      "19/19 [==============================] - 0s 4ms/step - loss: 0.6122 - accuracy: 0.6633 - val_loss: 0.5799 - val_accuracy: 0.6800\n",
      "Epoch 108/300\n",
      "19/19 [==============================] - 0s 3ms/step - loss: 0.5954 - accuracy: 0.6933 - val_loss: 0.5516 - val_accuracy: 0.7300\n",
      "Epoch 109/300\n",
      "19/19 [==============================] - 0s 3ms/step - loss: 0.6163 - accuracy: 0.6800 - val_loss: 0.5685 - val_accuracy: 0.7000\n",
      "Epoch 110/300\n",
      "19/19 [==============================] - 0s 3ms/step - loss: 0.6112 - accuracy: 0.6683 - val_loss: 0.5645 - val_accuracy: 0.7000\n",
      "Epoch 111/300\n",
      "19/19 [==============================] - 0s 3ms/step - loss: 0.5970 - accuracy: 0.6950 - val_loss: 0.5659 - val_accuracy: 0.7000\n",
      "Epoch 112/300\n",
      "19/19 [==============================] - 0s 4ms/step - loss: 0.5812 - accuracy: 0.7133 - val_loss: 0.5508 - val_accuracy: 0.7100\n",
      "Epoch 113/300\n",
      "19/19 [==============================] - 0s 4ms/step - loss: 0.6015 - accuracy: 0.7017 - val_loss: 0.5713 - val_accuracy: 0.7000\n",
      "Epoch 114/300\n",
      "19/19 [==============================] - 0s 3ms/step - loss: 0.5858 - accuracy: 0.6967 - val_loss: 0.5514 - val_accuracy: 0.7000\n",
      "Epoch 115/300\n",
      "19/19 [==============================] - 0s 4ms/step - loss: 0.5971 - accuracy: 0.6967 - val_loss: 0.5552 - val_accuracy: 0.7400\n",
      "Epoch 116/300\n",
      "19/19 [==============================] - 0s 4ms/step - loss: 0.6028 - accuracy: 0.6917 - val_loss: 0.5718 - val_accuracy: 0.6800\n",
      "Epoch 117/300\n",
      "19/19 [==============================] - 0s 4ms/step - loss: 0.5999 - accuracy: 0.6833 - val_loss: 0.5635 - val_accuracy: 0.7100\n",
      "Epoch 118/300\n",
      "19/19 [==============================] - 0s 4ms/step - loss: 0.5984 - accuracy: 0.6900 - val_loss: 0.6051 - val_accuracy: 0.6700\n",
      "Epoch 119/300\n",
      "19/19 [==============================] - 0s 5ms/step - loss: 0.5886 - accuracy: 0.7000 - val_loss: 0.5861 - val_accuracy: 0.6800\n",
      "Epoch 120/300\n",
      "19/19 [==============================] - 0s 4ms/step - loss: 0.5995 - accuracy: 0.6783 - val_loss: 0.5558 - val_accuracy: 0.7500\n",
      "Epoch 121/300\n",
      "19/19 [==============================] - 0s 4ms/step - loss: 0.5799 - accuracy: 0.7050 - val_loss: 0.5785 - val_accuracy: 0.6800\n",
      "Epoch 122/300\n",
      "19/19 [==============================] - 0s 4ms/step - loss: 0.5921 - accuracy: 0.6850 - val_loss: 0.5611 - val_accuracy: 0.7100\n",
      "Epoch 123/300\n",
      "19/19 [==============================] - 0s 3ms/step - loss: 0.6063 - accuracy: 0.6650 - val_loss: 0.5492 - val_accuracy: 0.7400\n",
      "Epoch 124/300\n",
      "19/19 [==============================] - 0s 4ms/step - loss: 0.5905 - accuracy: 0.7033 - val_loss: 0.5643 - val_accuracy: 0.7000\n",
      "Epoch 125/300\n",
      "19/19 [==============================] - 0s 4ms/step - loss: 0.5977 - accuracy: 0.6900 - val_loss: 0.5638 - val_accuracy: 0.7000\n",
      "Epoch 126/300\n",
      "19/19 [==============================] - 0s 3ms/step - loss: 0.5793 - accuracy: 0.7133 - val_loss: 0.5541 - val_accuracy: 0.7300\n",
      "Epoch 127/300\n",
      "19/19 [==============================] - 0s 3ms/step - loss: 0.5878 - accuracy: 0.7050 - val_loss: 0.5572 - val_accuracy: 0.7200\n",
      "Epoch 128/300\n",
      "19/19 [==============================] - 0s 3ms/step - loss: 0.5848 - accuracy: 0.7017 - val_loss: 0.5488 - val_accuracy: 0.7400\n",
      "Epoch 129/300\n",
      "19/19 [==============================] - 0s 4ms/step - loss: 0.5922 - accuracy: 0.6933 - val_loss: 0.5591 - val_accuracy: 0.7100\n",
      "Epoch 130/300\n",
      "19/19 [==============================] - 0s 3ms/step - loss: 0.5762 - accuracy: 0.7067 - val_loss: 0.5743 - val_accuracy: 0.6800\n",
      "Epoch 131/300\n",
      "19/19 [==============================] - 0s 3ms/step - loss: 0.5923 - accuracy: 0.7100 - val_loss: 0.5685 - val_accuracy: 0.7000\n",
      "Epoch 132/300\n",
      "19/19 [==============================] - 0s 3ms/step - loss: 0.5907 - accuracy: 0.7050 - val_loss: 0.5692 - val_accuracy: 0.7000\n",
      "Epoch 133/300\n",
      "19/19 [==============================] - 0s 3ms/step - loss: 0.5714 - accuracy: 0.7033 - val_loss: 0.5788 - val_accuracy: 0.6800\n",
      "Epoch 134/300\n",
      "19/19 [==============================] - 0s 4ms/step - loss: 0.5820 - accuracy: 0.7050 - val_loss: 0.5675 - val_accuracy: 0.7000\n",
      "Epoch 135/300\n",
      "19/19 [==============================] - 0s 4ms/step - loss: 0.5952 - accuracy: 0.6883 - val_loss: 0.5643 - val_accuracy: 0.7000\n",
      "Epoch 136/300\n",
      "19/19 [==============================] - 0s 4ms/step - loss: 0.5608 - accuracy: 0.7100 - val_loss: 0.5607 - val_accuracy: 0.7000\n",
      "Epoch 137/300\n",
      "19/19 [==============================] - 0s 4ms/step - loss: 0.5770 - accuracy: 0.7033 - val_loss: 0.5789 - val_accuracy: 0.7000\n",
      "Epoch 138/300\n",
      "19/19 [==============================] - 0s 4ms/step - loss: 0.5889 - accuracy: 0.6950 - val_loss: 0.5469 - val_accuracy: 0.7500\n",
      "Epoch 139/300\n",
      "19/19 [==============================] - 0s 4ms/step - loss: 0.5626 - accuracy: 0.7167 - val_loss: 0.5877 - val_accuracy: 0.6800\n",
      "Epoch 140/300\n",
      "19/19 [==============================] - 0s 4ms/step - loss: 0.5788 - accuracy: 0.7050 - val_loss: 0.5543 - val_accuracy: 0.7100\n",
      "Epoch 141/300\n",
      "19/19 [==============================] - 0s 3ms/step - loss: 0.5850 - accuracy: 0.7183 - val_loss: 0.5789 - val_accuracy: 0.6800\n",
      "Epoch 142/300\n",
      "19/19 [==============================] - 0s 3ms/step - loss: 0.5704 - accuracy: 0.7050 - val_loss: 0.5683 - val_accuracy: 0.7000\n",
      "Epoch 143/300\n",
      "19/19 [==============================] - 0s 5ms/step - loss: 0.5631 - accuracy: 0.7267 - val_loss: 0.6192 - val_accuracy: 0.6700\n",
      "Epoch 144/300\n",
      "19/19 [==============================] - 0s 3ms/step - loss: 0.5782 - accuracy: 0.7100 - val_loss: 0.5551 - val_accuracy: 0.7100\n",
      "Epoch 145/300\n",
      "19/19 [==============================] - 0s 3ms/step - loss: 0.5890 - accuracy: 0.6833 - val_loss: 0.5690 - val_accuracy: 0.7000\n",
      "Epoch 146/300\n",
      "19/19 [==============================] - 0s 3ms/step - loss: 0.5801 - accuracy: 0.7050 - val_loss: 0.5422 - val_accuracy: 0.7500\n",
      "Epoch 147/300\n",
      "19/19 [==============================] - 0s 4ms/step - loss: 0.5640 - accuracy: 0.7067 - val_loss: 0.5602 - val_accuracy: 0.7000\n",
      "Epoch 148/300\n",
      "19/19 [==============================] - 0s 4ms/step - loss: 0.5717 - accuracy: 0.7017 - val_loss: 0.5444 - val_accuracy: 0.7400\n",
      "Epoch 149/300\n",
      "19/19 [==============================] - 0s 3ms/step - loss: 0.5685 - accuracy: 0.6983 - val_loss: 0.5634 - val_accuracy: 0.7000\n",
      "Epoch 150/300\n",
      "19/19 [==============================] - 0s 4ms/step - loss: 0.5734 - accuracy: 0.6950 - val_loss: 0.5954 - val_accuracy: 0.6700\n",
      "Epoch 151/300\n",
      "19/19 [==============================] - 0s 4ms/step - loss: 0.5637 - accuracy: 0.7083 - val_loss: 0.5372 - val_accuracy: 0.7400\n",
      "Epoch 152/300\n",
      "19/19 [==============================] - 0s 3ms/step - loss: 0.5775 - accuracy: 0.7000 - val_loss: 0.5422 - val_accuracy: 0.7400\n",
      "Epoch 153/300\n",
      "19/19 [==============================] - 0s 3ms/step - loss: 0.5512 - accuracy: 0.7233 - val_loss: 0.5390 - val_accuracy: 0.7400\n",
      "Epoch 154/300\n",
      "19/19 [==============================] - 0s 3ms/step - loss: 0.5577 - accuracy: 0.7150 - val_loss: 0.5566 - val_accuracy: 0.7000\n",
      "Epoch 155/300\n",
      "19/19 [==============================] - 0s 4ms/step - loss: 0.5488 - accuracy: 0.7017 - val_loss: 0.5299 - val_accuracy: 0.7100\n",
      "Epoch 156/300\n",
      "19/19 [==============================] - 0s 4ms/step - loss: 0.5582 - accuracy: 0.6967 - val_loss: 0.5445 - val_accuracy: 0.7200\n",
      "Epoch 157/300\n",
      "19/19 [==============================] - 0s 4ms/step - loss: 0.5627 - accuracy: 0.7183 - val_loss: 0.5374 - val_accuracy: 0.7400\n",
      "Epoch 158/300\n",
      "19/19 [==============================] - 0s 4ms/step - loss: 0.5638 - accuracy: 0.7300 - val_loss: 0.5525 - val_accuracy: 0.7100\n",
      "Epoch 159/300\n",
      "19/19 [==============================] - 0s 4ms/step - loss: 0.5805 - accuracy: 0.6950 - val_loss: 0.5722 - val_accuracy: 0.7000\n",
      "Epoch 160/300\n",
      "19/19 [==============================] - 0s 3ms/step - loss: 0.5801 - accuracy: 0.7150 - val_loss: 0.5763 - val_accuracy: 0.7000\n",
      "Epoch 161/300\n",
      "19/19 [==============================] - 0s 4ms/step - loss: 0.5637 - accuracy: 0.7100 - val_loss: 0.5379 - val_accuracy: 0.7500\n",
      "Epoch 162/300\n",
      "19/19 [==============================] - 0s 4ms/step - loss: 0.5557 - accuracy: 0.7117 - val_loss: 0.5512 - val_accuracy: 0.7400\n",
      "Epoch 163/300\n",
      "19/19 [==============================] - 0s 4ms/step - loss: 0.5751 - accuracy: 0.6983 - val_loss: 0.5707 - val_accuracy: 0.7000\n",
      "Epoch 164/300\n",
      "19/19 [==============================] - 0s 4ms/step - loss: 0.5357 - accuracy: 0.7367 - val_loss: 0.5374 - val_accuracy: 0.7400\n",
      "Epoch 165/300\n",
      "19/19 [==============================] - 0s 4ms/step - loss: 0.5738 - accuracy: 0.7117 - val_loss: 0.5402 - val_accuracy: 0.7400\n",
      "Epoch 166/300\n",
      "19/19 [==============================] - 0s 4ms/step - loss: 0.5644 - accuracy: 0.7067 - val_loss: 0.5591 - val_accuracy: 0.7100\n",
      "Epoch 167/300\n",
      "19/19 [==============================] - 0s 3ms/step - loss: 0.5537 - accuracy: 0.7000 - val_loss: 0.5584 - val_accuracy: 0.7200\n",
      "Epoch 168/300\n",
      "19/19 [==============================] - 0s 4ms/step - loss: 0.5611 - accuracy: 0.7217 - val_loss: 0.5554 - val_accuracy: 0.7200\n",
      "Epoch 169/300\n",
      "19/19 [==============================] - 0s 4ms/step - loss: 0.5683 - accuracy: 0.7317 - val_loss: 0.5508 - val_accuracy: 0.7200\n",
      "Epoch 170/300\n",
      "19/19 [==============================] - 0s 4ms/step - loss: 0.5664 - accuracy: 0.7100 - val_loss: 0.5461 - val_accuracy: 0.7200\n",
      "Epoch 171/300\n",
      "19/19 [==============================] - 0s 3ms/step - loss: 0.5610 - accuracy: 0.7250 - val_loss: 0.5745 - val_accuracy: 0.7000\n",
      "Epoch 172/300\n",
      "19/19 [==============================] - 0s 4ms/step - loss: 0.5602 - accuracy: 0.7167 - val_loss: 0.6322 - val_accuracy: 0.6700\n",
      "Epoch 173/300\n"
     ]
    },
    {
     "name": "stdout",
     "output_type": "stream",
     "text": [
      "19/19 [==============================] - 0s 3ms/step - loss: 0.5545 - accuracy: 0.7317 - val_loss: 0.5431 - val_accuracy: 0.7400\n",
      "Epoch 174/300\n",
      "19/19 [==============================] - 0s 4ms/step - loss: 0.5604 - accuracy: 0.7267 - val_loss: 0.5700 - val_accuracy: 0.7000\n",
      "Epoch 175/300\n",
      "19/19 [==============================] - 0s 4ms/step - loss: 0.5638 - accuracy: 0.7100 - val_loss: 0.5810 - val_accuracy: 0.6900\n",
      "Epoch 176/300\n",
      "19/19 [==============================] - 0s 4ms/step - loss: 0.5575 - accuracy: 0.7267 - val_loss: 0.5943 - val_accuracy: 0.6800\n",
      "Epoch 177/300\n",
      "19/19 [==============================] - 0s 3ms/step - loss: 0.5394 - accuracy: 0.7350 - val_loss: 0.5776 - val_accuracy: 0.7000\n",
      "Epoch 178/300\n",
      "19/19 [==============================] - 0s 4ms/step - loss: 0.5799 - accuracy: 0.6917 - val_loss: 0.5443 - val_accuracy: 0.7300\n",
      "Epoch 179/300\n",
      "19/19 [==============================] - 0s 3ms/step - loss: 0.5738 - accuracy: 0.6983 - val_loss: 0.5635 - val_accuracy: 0.7000\n",
      "Epoch 180/300\n",
      "19/19 [==============================] - 0s 3ms/step - loss: 0.5791 - accuracy: 0.7033 - val_loss: 0.5595 - val_accuracy: 0.7000\n",
      "Epoch 181/300\n",
      "19/19 [==============================] - 0s 4ms/step - loss: 0.5493 - accuracy: 0.7350 - val_loss: 0.5398 - val_accuracy: 0.7300\n",
      "Epoch 182/300\n",
      "19/19 [==============================] - 0s 4ms/step - loss: 0.5613 - accuracy: 0.7267 - val_loss: 0.5997 - val_accuracy: 0.6700\n",
      "Epoch 183/300\n",
      "19/19 [==============================] - 0s 3ms/step - loss: 0.5453 - accuracy: 0.7383 - val_loss: 0.5680 - val_accuracy: 0.7000\n",
      "Epoch 184/300\n",
      "19/19 [==============================] - 0s 3ms/step - loss: 0.5584 - accuracy: 0.7133 - val_loss: 0.5665 - val_accuracy: 0.7000\n",
      "Epoch 185/300\n",
      "19/19 [==============================] - 0s 4ms/step - loss: 0.5776 - accuracy: 0.7367 - val_loss: 0.5645 - val_accuracy: 0.7000\n",
      "Epoch 186/300\n",
      "19/19 [==============================] - 0s 3ms/step - loss: 0.5525 - accuracy: 0.7267 - val_loss: 0.5250 - val_accuracy: 0.7400\n",
      "Epoch 187/300\n",
      "19/19 [==============================] - 0s 4ms/step - loss: 0.5480 - accuracy: 0.7300 - val_loss: 0.5651 - val_accuracy: 0.7000\n",
      "Epoch 188/300\n",
      "19/19 [==============================] - 0s 3ms/step - loss: 0.5599 - accuracy: 0.7233 - val_loss: 0.5302 - val_accuracy: 0.7200\n",
      "Epoch 189/300\n",
      "19/19 [==============================] - 0s 4ms/step - loss: 0.5588 - accuracy: 0.7067 - val_loss: 0.5398 - val_accuracy: 0.7000\n",
      "Epoch 190/300\n",
      "19/19 [==============================] - 0s 4ms/step - loss: 0.5743 - accuracy: 0.6883 - val_loss: 0.5619 - val_accuracy: 0.7000\n",
      "Epoch 191/300\n",
      "19/19 [==============================] - 0s 4ms/step - loss: 0.5402 - accuracy: 0.7317 - val_loss: 0.5505 - val_accuracy: 0.7000\n",
      "Epoch 192/300\n",
      "19/19 [==============================] - 0s 4ms/step - loss: 0.5504 - accuracy: 0.7067 - val_loss: 0.5216 - val_accuracy: 0.7400\n",
      "Epoch 193/300\n",
      "19/19 [==============================] - 0s 4ms/step - loss: 0.5191 - accuracy: 0.7433 - val_loss: 0.5590 - val_accuracy: 0.7000\n",
      "Epoch 194/300\n",
      "19/19 [==============================] - 0s 3ms/step - loss: 0.5535 - accuracy: 0.7383 - val_loss: 0.5351 - val_accuracy: 0.7200\n",
      "Epoch 195/300\n",
      "19/19 [==============================] - 0s 3ms/step - loss: 0.5583 - accuracy: 0.7167 - val_loss: 0.5304 - val_accuracy: 0.7500\n",
      "Epoch 196/300\n",
      "19/19 [==============================] - 0s 3ms/step - loss: 0.5565 - accuracy: 0.7017 - val_loss: 0.5509 - val_accuracy: 0.6800\n",
      "Epoch 197/300\n",
      "19/19 [==============================] - 0s 3ms/step - loss: 0.5445 - accuracy: 0.7350 - val_loss: 0.5573 - val_accuracy: 0.7000\n",
      "Epoch 198/300\n",
      "19/19 [==============================] - 0s 3ms/step - loss: 0.5687 - accuracy: 0.6967 - val_loss: 0.5463 - val_accuracy: 0.7300\n",
      "Epoch 199/300\n",
      "19/19 [==============================] - 0s 4ms/step - loss: 0.5646 - accuracy: 0.7200 - val_loss: 0.5474 - val_accuracy: 0.7000\n",
      "Epoch 200/300\n",
      "19/19 [==============================] - 0s 3ms/step - loss: 0.5605 - accuracy: 0.7000 - val_loss: 0.5735 - val_accuracy: 0.7000\n",
      "Epoch 201/300\n",
      "19/19 [==============================] - 0s 4ms/step - loss: 0.5505 - accuracy: 0.7167 - val_loss: 0.5486 - val_accuracy: 0.7100\n",
      "Epoch 202/300\n",
      "19/19 [==============================] - 0s 4ms/step - loss: 0.5509 - accuracy: 0.7317 - val_loss: 0.5654 - val_accuracy: 0.7000\n",
      "Epoch 203/300\n",
      "19/19 [==============================] - 0s 4ms/step - loss: 0.5649 - accuracy: 0.7183 - val_loss: 0.5414 - val_accuracy: 0.7100\n",
      "Epoch 204/300\n",
      "19/19 [==============================] - 0s 4ms/step - loss: 0.5589 - accuracy: 0.7367 - val_loss: 0.5348 - val_accuracy: 0.7300\n",
      "Epoch 205/300\n",
      "19/19 [==============================] - 0s 4ms/step - loss: 0.5549 - accuracy: 0.7150 - val_loss: 0.5574 - val_accuracy: 0.7000\n",
      "Epoch 206/300\n",
      "19/19 [==============================] - 0s 4ms/step - loss: 0.5405 - accuracy: 0.7267 - val_loss: 0.5472 - val_accuracy: 0.7000\n",
      "Epoch 207/300\n",
      "19/19 [==============================] - 0s 3ms/step - loss: 0.5313 - accuracy: 0.7167 - val_loss: 0.5545 - val_accuracy: 0.7000\n",
      "Epoch 208/300\n",
      "19/19 [==============================] - 0s 4ms/step - loss: 0.5552 - accuracy: 0.7233 - val_loss: 0.5619 - val_accuracy: 0.7000\n",
      "Epoch 209/300\n",
      "19/19 [==============================] - 0s 3ms/step - loss: 0.5642 - accuracy: 0.7183 - val_loss: 0.5468 - val_accuracy: 0.7300\n",
      "Epoch 210/300\n",
      "19/19 [==============================] - 0s 3ms/step - loss: 0.5636 - accuracy: 0.7067 - val_loss: 0.5408 - val_accuracy: 0.7300\n",
      "Epoch 211/300\n",
      "19/19 [==============================] - 0s 3ms/step - loss: 0.5453 - accuracy: 0.7250 - val_loss: 0.5192 - val_accuracy: 0.7400\n",
      "Epoch 212/300\n",
      "19/19 [==============================] - 0s 5ms/step - loss: 0.5376 - accuracy: 0.7300 - val_loss: 0.5496 - val_accuracy: 0.7000\n",
      "Epoch 213/300\n",
      "19/19 [==============================] - 0s 4ms/step - loss: 0.5571 - accuracy: 0.7183 - val_loss: 0.5355 - val_accuracy: 0.7400\n",
      "Epoch 214/300\n",
      "19/19 [==============================] - 0s 4ms/step - loss: 0.5607 - accuracy: 0.7200 - val_loss: 0.5769 - val_accuracy: 0.7000\n",
      "Epoch 215/300\n",
      "19/19 [==============================] - 0s 4ms/step - loss: 0.5386 - accuracy: 0.7383 - val_loss: 0.5472 - val_accuracy: 0.7000\n",
      "Epoch 216/300\n",
      "19/19 [==============================] - 0s 4ms/step - loss: 0.5472 - accuracy: 0.7267 - val_loss: 0.5642 - val_accuracy: 0.7000\n",
      "Epoch 217/300\n",
      "19/19 [==============================] - 0s 4ms/step - loss: 0.5380 - accuracy: 0.7317 - val_loss: 0.5476 - val_accuracy: 0.7000\n",
      "Epoch 218/300\n",
      "19/19 [==============================] - 0s 3ms/step - loss: 0.5481 - accuracy: 0.7150 - val_loss: 0.5825 - val_accuracy: 0.7000\n",
      "Epoch 219/300\n",
      "19/19 [==============================] - 0s 4ms/step - loss: 0.5535 - accuracy: 0.7233 - val_loss: 0.5587 - val_accuracy: 0.7000\n",
      "Epoch 220/300\n",
      "19/19 [==============================] - 0s 4ms/step - loss: 0.5362 - accuracy: 0.7233 - val_loss: 0.5630 - val_accuracy: 0.7000\n",
      "Epoch 221/300\n",
      "19/19 [==============================] - 0s 3ms/step - loss: 0.5479 - accuracy: 0.7217 - val_loss: 0.5635 - val_accuracy: 0.7000\n",
      "Epoch 222/300\n",
      "19/19 [==============================] - 0s 3ms/step - loss: 0.5473 - accuracy: 0.7383 - val_loss: 0.5608 - val_accuracy: 0.7000\n",
      "Epoch 223/300\n",
      "19/19 [==============================] - 0s 4ms/step - loss: 0.5340 - accuracy: 0.7483 - val_loss: 0.5880 - val_accuracy: 0.7000\n",
      "Epoch 224/300\n",
      "19/19 [==============================] - 0s 4ms/step - loss: 0.5469 - accuracy: 0.7217 - val_loss: 0.5967 - val_accuracy: 0.7000\n",
      "Epoch 225/300\n",
      "19/19 [==============================] - 0s 4ms/step - loss: 0.5444 - accuracy: 0.7333 - val_loss: 0.5699 - val_accuracy: 0.7000\n",
      "Epoch 226/300\n",
      "19/19 [==============================] - 0s 3ms/step - loss: 0.5344 - accuracy: 0.7383 - val_loss: 0.5412 - val_accuracy: 0.7300\n",
      "Epoch 227/300\n",
      "19/19 [==============================] - 0s 4ms/step - loss: 0.5329 - accuracy: 0.7250 - val_loss: 0.5826 - val_accuracy: 0.7000\n",
      "Epoch 228/300\n",
      "19/19 [==============================] - 0s 3ms/step - loss: 0.5243 - accuracy: 0.7483 - val_loss: 0.5537 - val_accuracy: 0.7100\n",
      "Epoch 229/300\n",
      "19/19 [==============================] - 0s 4ms/step - loss: 0.5339 - accuracy: 0.7167 - val_loss: 0.5416 - val_accuracy: 0.7300\n",
      "Epoch 230/300\n",
      "19/19 [==============================] - 0s 4ms/step - loss: 0.5475 - accuracy: 0.7383 - val_loss: 0.5469 - val_accuracy: 0.7100\n",
      "Epoch 231/300\n",
      "19/19 [==============================] - 0s 3ms/step - loss: 0.5249 - accuracy: 0.7300 - val_loss: 0.5429 - val_accuracy: 0.7200\n",
      "Epoch 232/300\n",
      "19/19 [==============================] - 0s 4ms/step - loss: 0.5224 - accuracy: 0.7600 - val_loss: 0.5452 - val_accuracy: 0.7200\n",
      "Epoch 233/300\n",
      "19/19 [==============================] - 0s 3ms/step - loss: 0.5256 - accuracy: 0.7483 - val_loss: 0.5375 - val_accuracy: 0.7300\n",
      "Epoch 234/300\n",
      "19/19 [==============================] - 0s 3ms/step - loss: 0.5422 - accuracy: 0.7117 - val_loss: 0.5632 - val_accuracy: 0.6900\n",
      "Epoch 235/300\n",
      "19/19 [==============================] - 0s 3ms/step - loss: 0.5400 - accuracy: 0.7217 - val_loss: 0.5519 - val_accuracy: 0.7000\n",
      "Epoch 236/300\n",
      "19/19 [==============================] - 0s 4ms/step - loss: 0.5512 - accuracy: 0.7317 - val_loss: 0.5300 - val_accuracy: 0.7600\n",
      "Epoch 237/300\n",
      "19/19 [==============================] - 0s 4ms/step - loss: 0.5290 - accuracy: 0.7367 - val_loss: 0.5899 - val_accuracy: 0.6900\n",
      "Epoch 238/300\n",
      "19/19 [==============================] - 0s 4ms/step - loss: 0.5304 - accuracy: 0.7500 - val_loss: 0.5287 - val_accuracy: 0.7100\n",
      "Epoch 239/300\n",
      "19/19 [==============================] - 0s 4ms/step - loss: 0.5442 - accuracy: 0.7383 - val_loss: 0.5583 - val_accuracy: 0.6900\n",
      "Epoch 240/300\n",
      "19/19 [==============================] - 0s 3ms/step - loss: 0.5477 - accuracy: 0.7300 - val_loss: 0.5341 - val_accuracy: 0.7200\n",
      "Epoch 241/300\n",
      "19/19 [==============================] - 0s 4ms/step - loss: 0.5298 - accuracy: 0.7417 - val_loss: 0.5428 - val_accuracy: 0.7200\n",
      "Epoch 242/300\n",
      "19/19 [==============================] - 0s 4ms/step - loss: 0.5210 - accuracy: 0.7433 - val_loss: 0.5365 - val_accuracy: 0.7200\n",
      "Epoch 243/300\n",
      "19/19 [==============================] - 0s 3ms/step - loss: 0.5416 - accuracy: 0.7350 - val_loss: 0.5143 - val_accuracy: 0.7400\n",
      "Epoch 244/300\n",
      "19/19 [==============================] - 0s 3ms/step - loss: 0.5532 - accuracy: 0.7400 - val_loss: 0.5858 - val_accuracy: 0.6900\n",
      "Epoch 245/300\n",
      "19/19 [==============================] - 0s 4ms/step - loss: 0.5386 - accuracy: 0.7283 - val_loss: 0.5226 - val_accuracy: 0.7300\n",
      "Epoch 246/300\n",
      "19/19 [==============================] - 0s 4ms/step - loss: 0.5208 - accuracy: 0.7550 - val_loss: 0.5247 - val_accuracy: 0.7400\n",
      "Epoch 247/300\n",
      "19/19 [==============================] - 0s 4ms/step - loss: 0.5384 - accuracy: 0.7200 - val_loss: 0.5712 - val_accuracy: 0.7000\n",
      "Epoch 248/300\n",
      "19/19 [==============================] - 0s 4ms/step - loss: 0.5277 - accuracy: 0.7383 - val_loss: 0.5637 - val_accuracy: 0.7000\n",
      "Epoch 249/300\n",
      "19/19 [==============================] - 0s 4ms/step - loss: 0.5398 - accuracy: 0.7317 - val_loss: 0.5396 - val_accuracy: 0.7200\n",
      "Epoch 250/300\n",
      "19/19 [==============================] - 0s 4ms/step - loss: 0.5282 - accuracy: 0.7367 - val_loss: 0.5765 - val_accuracy: 0.7000\n",
      "Epoch 251/300\n",
      "19/19 [==============================] - 0s 4ms/step - loss: 0.5482 - accuracy: 0.7083 - val_loss: 0.6114 - val_accuracy: 0.6800\n",
      "Epoch 252/300\n",
      "19/19 [==============================] - 0s 3ms/step - loss: 0.5449 - accuracy: 0.7150 - val_loss: 0.5653 - val_accuracy: 0.7000\n",
      "Epoch 253/300\n",
      "19/19 [==============================] - 0s 3ms/step - loss: 0.5546 - accuracy: 0.7233 - val_loss: 0.5590 - val_accuracy: 0.7000\n",
      "Epoch 254/300\n",
      "19/19 [==============================] - 0s 4ms/step - loss: 0.5220 - accuracy: 0.7383 - val_loss: 0.5547 - val_accuracy: 0.7000\n",
      "Epoch 255/300\n",
      "19/19 [==============================] - 0s 3ms/step - loss: 0.5439 - accuracy: 0.7217 - val_loss: 0.5769 - val_accuracy: 0.6900\n",
      "Epoch 256/300\n",
      "19/19 [==============================] - 0s 3ms/step - loss: 0.5503 - accuracy: 0.7267 - val_loss: 0.5408 - val_accuracy: 0.7000\n",
      "Epoch 257/300\n",
      "19/19 [==============================] - 0s 4ms/step - loss: 0.5311 - accuracy: 0.7317 - val_loss: 0.5689 - val_accuracy: 0.6900\n",
      "Epoch 258/300\n",
      "19/19 [==============================] - 0s 3ms/step - loss: 0.5410 - accuracy: 0.7100 - val_loss: 0.5666 - val_accuracy: 0.6900\n",
      "Epoch 259/300\n",
      "19/19 [==============================] - 0s 4ms/step - loss: 0.5313 - accuracy: 0.7467 - val_loss: 0.5582 - val_accuracy: 0.7000\n",
      "Epoch 260/300\n",
      "19/19 [==============================] - 0s 4ms/step - loss: 0.5270 - accuracy: 0.7483 - val_loss: 0.5348 - val_accuracy: 0.7000\n",
      "Epoch 261/300\n",
      "19/19 [==============================] - 0s 4ms/step - loss: 0.5328 - accuracy: 0.7233 - val_loss: 0.5233 - val_accuracy: 0.7200\n",
      "Epoch 262/300\n",
      "19/19 [==============================] - 0s 4ms/step - loss: 0.5332 - accuracy: 0.7333 - val_loss: 0.5712 - val_accuracy: 0.7000\n",
      "Epoch 263/300\n",
      "19/19 [==============================] - 0s 3ms/step - loss: 0.5470 - accuracy: 0.7317 - val_loss: 0.5524 - val_accuracy: 0.7000\n",
      "Epoch 264/300\n",
      "19/19 [==============================] - 0s 4ms/step - loss: 0.5123 - accuracy: 0.7517 - val_loss: 0.5151 - val_accuracy: 0.6900\n",
      "Epoch 265/300\n",
      "19/19 [==============================] - 0s 4ms/step - loss: 0.5328 - accuracy: 0.7417 - val_loss: 0.5829 - val_accuracy: 0.7000\n",
      "Epoch 266/300\n",
      "19/19 [==============================] - 0s 4ms/step - loss: 0.5498 - accuracy: 0.7200 - val_loss: 0.5603 - val_accuracy: 0.7000\n",
      "Epoch 267/300\n",
      "19/19 [==============================] - 0s 3ms/step - loss: 0.5423 - accuracy: 0.7217 - val_loss: 0.5689 - val_accuracy: 0.6900\n",
      "Epoch 268/300\n",
      "19/19 [==============================] - 0s 4ms/step - loss: 0.5160 - accuracy: 0.7533 - val_loss: 0.5150 - val_accuracy: 0.7100\n",
      "Epoch 269/300\n",
      "19/19 [==============================] - 0s 4ms/step - loss: 0.5465 - accuracy: 0.7167 - val_loss: 0.5575 - val_accuracy: 0.7000\n",
      "Epoch 270/300\n",
      "19/19 [==============================] - 0s 4ms/step - loss: 0.5127 - accuracy: 0.7550 - val_loss: 0.5330 - val_accuracy: 0.7100\n",
      "Epoch 271/300\n",
      "19/19 [==============================] - 0s 4ms/step - loss: 0.5339 - accuracy: 0.7250 - val_loss: 0.5471 - val_accuracy: 0.7000\n",
      "Epoch 272/300\n",
      "19/19 [==============================] - 0s 4ms/step - loss: 0.5323 - accuracy: 0.7367 - val_loss: 0.5684 - val_accuracy: 0.6900\n",
      "Epoch 273/300\n",
      "19/19 [==============================] - 0s 4ms/step - loss: 0.5394 - accuracy: 0.7217 - val_loss: 0.5506 - val_accuracy: 0.6900\n",
      "Epoch 274/300\n",
      "19/19 [==============================] - 0s 4ms/step - loss: 0.5234 - accuracy: 0.7400 - val_loss: 0.5706 - val_accuracy: 0.6900\n",
      "Epoch 275/300\n",
      "19/19 [==============================] - 0s 3ms/step - loss: 0.5385 - accuracy: 0.7333 - val_loss: 0.5261 - val_accuracy: 0.7100\n",
      "Epoch 276/300\n",
      "19/19 [==============================] - 0s 4ms/step - loss: 0.5400 - accuracy: 0.7200 - val_loss: 0.5628 - val_accuracy: 0.7000\n",
      "Epoch 277/300\n",
      "19/19 [==============================] - 0s 4ms/step - loss: 0.5227 - accuracy: 0.7550 - val_loss: 0.5174 - val_accuracy: 0.7100\n",
      "Epoch 278/300\n",
      "19/19 [==============================] - 0s 4ms/step - loss: 0.5048 - accuracy: 0.7517 - val_loss: 0.5189 - val_accuracy: 0.7200\n",
      "Epoch 279/300\n",
      "19/19 [==============================] - 0s 3ms/step - loss: 0.5166 - accuracy: 0.7483 - val_loss: 0.5698 - val_accuracy: 0.6900\n",
      "Epoch 280/300\n",
      "19/19 [==============================] - 0s 3ms/step - loss: 0.5337 - accuracy: 0.7450 - val_loss: 0.5332 - val_accuracy: 0.7000\n",
      "Epoch 281/300\n",
      "19/19 [==============================] - 0s 3ms/step - loss: 0.5412 - accuracy: 0.7133 - val_loss: 0.5394 - val_accuracy: 0.7000\n",
      "Epoch 282/300\n",
      "19/19 [==============================] - 0s 4ms/step - loss: 0.5178 - accuracy: 0.7483 - val_loss: 0.5561 - val_accuracy: 0.7000\n",
      "Epoch 283/300\n",
      "19/19 [==============================] - 0s 4ms/step - loss: 0.5122 - accuracy: 0.7600 - val_loss: 0.5219 - val_accuracy: 0.7100\n",
      "Epoch 284/300\n",
      "19/19 [==============================] - 0s 4ms/step - loss: 0.5208 - accuracy: 0.7333 - val_loss: 0.5586 - val_accuracy: 0.6900\n",
      "Epoch 285/300\n",
      "19/19 [==============================] - 0s 3ms/step - loss: 0.5226 - accuracy: 0.7450 - val_loss: 0.5586 - val_accuracy: 0.6900\n",
      "Epoch 286/300\n",
      "19/19 [==============================] - 0s 4ms/step - loss: 0.5194 - accuracy: 0.7317 - val_loss: 0.5368 - val_accuracy: 0.7000\n",
      "Epoch 287/300\n"
     ]
    },
    {
     "name": "stdout",
     "output_type": "stream",
     "text": [
      "19/19 [==============================] - 0s 4ms/step - loss: 0.5211 - accuracy: 0.7400 - val_loss: 0.5163 - val_accuracy: 0.7300\n",
      "Epoch 288/300\n",
      "19/19 [==============================] - 0s 4ms/step - loss: 0.5604 - accuracy: 0.7200 - val_loss: 0.5739 - val_accuracy: 0.6900\n",
      "Epoch 289/300\n",
      "19/19 [==============================] - 0s 3ms/step - loss: 0.5203 - accuracy: 0.7550 - val_loss: 0.5710 - val_accuracy: 0.7000\n",
      "Epoch 290/300\n",
      "19/19 [==============================] - 0s 3ms/step - loss: 0.5234 - accuracy: 0.7300 - val_loss: 0.5614 - val_accuracy: 0.7000\n",
      "Epoch 291/300\n",
      "19/19 [==============================] - 0s 4ms/step - loss: 0.5269 - accuracy: 0.7433 - val_loss: 0.5580 - val_accuracy: 0.7200\n",
      "Epoch 292/300\n",
      "19/19 [==============================] - 0s 4ms/step - loss: 0.5173 - accuracy: 0.7533 - val_loss: 0.5507 - val_accuracy: 0.7000\n",
      "Epoch 293/300\n",
      "19/19 [==============================] - 0s 4ms/step - loss: 0.5201 - accuracy: 0.7550 - val_loss: 0.5490 - val_accuracy: 0.7000\n",
      "Epoch 294/300\n",
      "19/19 [==============================] - 0s 3ms/step - loss: 0.5296 - accuracy: 0.7417 - val_loss: 0.5459 - val_accuracy: 0.7000\n",
      "Epoch 295/300\n",
      "19/19 [==============================] - 0s 3ms/step - loss: 0.5202 - accuracy: 0.7467 - val_loss: 0.5350 - val_accuracy: 0.7000\n",
      "Epoch 296/300\n",
      "19/19 [==============================] - 0s 3ms/step - loss: 0.5290 - accuracy: 0.7467 - val_loss: 0.5530 - val_accuracy: 0.6900\n",
      "Epoch 297/300\n",
      "19/19 [==============================] - 0s 4ms/step - loss: 0.5072 - accuracy: 0.7383 - val_loss: 0.5715 - val_accuracy: 0.6900\n",
      "Epoch 298/300\n",
      "19/19 [==============================] - 0s 3ms/step - loss: 0.5331 - accuracy: 0.7433 - val_loss: 0.5521 - val_accuracy: 0.7000\n",
      "Epoch 299/300\n",
      "19/19 [==============================] - 0s 3ms/step - loss: 0.5124 - accuracy: 0.7617 - val_loss: 0.5249 - val_accuracy: 0.7300\n",
      "Epoch 300/300\n",
      "19/19 [==============================] - 0s 3ms/step - loss: 0.5281 - accuracy: 0.7383 - val_loss: 0.5327 - val_accuracy: 0.7000\n",
      "CPU times: total: 35.4 s\n",
      "Wall time: 22.5 s\n"
     ]
    }
   ],
   "source": [
    "%%time\n",
    "hist = model.fit(X_train,Y_train,\n",
    "                 epochs=300,\n",
    "                 validation_data=(X_val,Y_val),\n",
    "                 verbose=1)"
   ]
  },
  {
   "cell_type": "code",
   "execution_count": null,
   "id": "cfe7adac",
   "metadata": {},
   "outputs": [],
   "source": [
    "# %%time\n",
    "# hist = model.fit(X_train,Y_train,\n",
    "#                  epochs=300,\n",
    "#                  validation_data=(X_val,Y_val),\n",
    "#                  verbose=1, batch_size=300)\n",
    "# 이렇게 하면 600개의 데이터를 300개로 나눠서 2번이 실행되면 epochs가 1회 누적됨"
   ]
  },
  {
   "cell_type": "markdown",
   "id": "bcacdaab",
   "metadata": {},
   "source": [
    "## 5.학습과정 살펴보기"
   ]
  },
  {
   "cell_type": "code",
   "execution_count": 11,
   "id": "f078ed31",
   "metadata": {},
   "outputs": [
    {
     "data": {
      "text/plain": [
       "dict_keys(['loss', 'accuracy', 'val_loss', 'val_accuracy'])"
      ]
     },
     "execution_count": 11,
     "metadata": {},
     "output_type": "execute_result"
    }
   ],
   "source": [
    "hist.history.keys() \n",
    "# 'loss', 'accuracy', 'val_loss', 'val_accuracy'"
   ]
  },
  {
   "cell_type": "code",
   "execution_count": 84,
   "id": "4f24e890",
   "metadata": {},
   "outputs": [
    {
     "data": {
      "text/plain": [
       "<matplotlib.legend.Legend at 0x24d3ce7f580>"
      ]
     },
     "execution_count": 84,
     "metadata": {},
     "output_type": "execute_result"
    },
    {
     "data": {
      "image/png": "[encoded data removed]",
      "text/plain": [
       "<Figure size 800x400 with 2 Axes>"
      ]
     },
     "metadata": {},
     "output_type": "display_data"
    }
   ],
   "source": [
    "fig, loss_ax = plt.subplots(figsize=(8,4))\n",
    "loss_ax.plot(hist.history['loss'], 'y', label='train loss')\n",
    "loss_ax.plot(hist.history['val_loss'], 'r', label='val loss')\n",
    "acc_ax = loss_ax.twinx() #loss_ax의 x축 공유\n",
    "acc_ax.plot(hist.history['accuracy'], 'g', label='train accuracy')\n",
    "acc_ax.plot(hist.history['val_accuracy'], 'b', label='val accuracy')\n",
    "loss_ax.set_xlabel('epochs')\n",
    "loss_ax.set_ylabel('loss')\n",
    "acc_ax.set_ylabel('accuracy')\n",
    "loss_ax.legend(loc='center right')\n",
    "acc_ax.legend() # bbox_to_anchor=(0.82712,0.76)"
   ]
  },
  {
   "cell_type": "markdown",
   "id": "dd0904de",
   "metadata": {},
   "source": [
    " ## 6.모델 평가 & 교차로"
   ]
  },
  {
   "cell_type": "code",
   "execution_count": 87,
   "id": "6f4a1d3e",
   "metadata": {},
   "outputs": [
    {
     "name": "stdout",
     "output_type": "stream",
     "text": [
      "loss: 0.6573886871337891, 정확도:0.6323529481887817\n"
     ]
    }
   ],
   "source": [
    "loss, accuracy = model.evaluate(X_test,Y_test,verbose=0)\n",
    "print(f'loss: {loss}, 정확도:{accuracy}')"
   ]
  },
  {
   "cell_type": "code",
   "execution_count": 91,
   "id": "133240f0",
   "metadata": {},
   "outputs": [
    {
     "data": {
      "text/plain": [
       "array([0, 1, 1, 0, 0, 0, 1, 0, 1, 1, 0, 0, 1, 0, 0, 1, 1, 0, 0, 1, 0, 0,\n",
       "       1, 0, 0, 0, 0, 0, 0, 0, 1, 1, 1, 0, 0, 0, 0, 0, 0, 1, 1, 0, 0, 1,\n",
       "       0, 0, 1, 0, 1, 1, 1, 0, 0, 1, 1, 1, 0, 1, 0, 1, 0, 1, 0, 0, 0, 0,\n",
       "       1, 0], dtype=int64)"
      ]
     },
     "execution_count": 91,
     "metadata": {},
     "output_type": "execute_result"
    }
   ],
   "source": [
    "# 교차표 그리기 위해 y_hat 구하기\n",
    "Y_test # 1차원이 아니라서 y_test로 해야함\n",
    "Y_test.argmax(axis=1) #y_test가 없다면 argmax로 변경 후 진행\n",
    "y_test # 실제값 "
   ]
  },
  {
   "cell_type": "code",
   "execution_count": 101,
   "id": "23c21f6c",
   "metadata": {},
   "outputs": [
    {
     "name": "stdout",
     "output_type": "stream",
     "text": [
      "3/3 [==============================] - 0s 2ms/step\n"
     ]
    }
   ],
   "source": [
    "y_hat = model.predict(X_test)\n",
    "y_hat = y_hat.argmax(axis=1)\n",
    "# y_hat은 0이 나올 확률 , 1이 나올 확률를 나타냄 "
   ]
  },
  {
   "cell_type": "code",
   "execution_count": 102,
   "id": "4cb515ed",
   "metadata": {},
   "outputs": [
    {
     "data": {
      "text/html": [
       "<div>\n",
       "<style scoped>\n",
       "    .dataframe tbody tr th:only-of-type {\n",
       "        vertical-align: middle;\n",
       "    }\n",
       "\n",
       "    .dataframe tbody tr th {\n",
       "        vertical-align: top;\n",
       "    }\n",
       "\n",
       "    .dataframe thead th {\n",
       "        text-align: right;\n",
       "    }\n",
       "</style>\n",
       "<table border=\"1\" class=\"dataframe\">\n",
       "  <thead>\n",
       "    <tr style=\"text-align: right;\">\n",
       "      <th>예측값</th>\n",
       "      <th>0</th>\n",
       "      <th>1</th>\n",
       "    </tr>\n",
       "    <tr>\n",
       "      <th>실제값</th>\n",
       "      <th></th>\n",
       "      <th></th>\n",
       "    </tr>\n",
       "  </thead>\n",
       "  <tbody>\n",
       "    <tr>\n",
       "      <th>0.0</th>\n",
       "      <td>41</td>\n",
       "      <td>0</td>\n",
       "    </tr>\n",
       "    <tr>\n",
       "      <th>1.0</th>\n",
       "      <td>25</td>\n",
       "      <td>2</td>\n",
       "    </tr>\n",
       "  </tbody>\n",
       "</table>\n",
       "</div>"
      ],
      "text/plain": [
       "예측값   0  1\n",
       "실제값       \n",
       "0.0  41  0\n",
       "1.0  25  2"
      ]
     },
     "execution_count": 102,
     "metadata": {},
     "output_type": "execute_result"
    }
   ],
   "source": [
    "pd.crosstab(y_test,y_hat, rownames=['실제값'], colnames=['예측값'])"
   ]
  },
  {
   "cell_type": "markdown",
   "id": "ae03e951",
   "metadata": {},
   "source": [
    "## 7. 모델 저장 및 사용"
   ]
  },
  {
   "cell_type": "code",
   "execution_count": 103,
   "id": "be5df375",
   "metadata": {},
   "outputs": [],
   "source": [
    "from tensorflow.keras.models import save_model, load_model\n",
    "# model.save('model/06_pima.h5')\n",
    "save_model(model, 'model/06_pima.h5')"
   ]
  },
  {
   "cell_type": "code",
   "execution_count": 104,
   "id": "bf0d20dd",
   "metadata": {},
   "outputs": [],
   "source": [
    "modle2 = load_model('model/06_pima.h5')"
   ]
  },
  {
   "cell_type": "code",
   "execution_count": 113,
   "id": "df1e686a",
   "metadata": {},
   "outputs": [
    {
     "name": "stdout",
     "output_type": "stream",
     "text": [
      "1/1 [==============================] - 0s 37ms/step\n"
     ]
    },
    {
     "data": {
      "text/plain": [
       "array([0, 0], dtype=int64)"
      ]
     },
     "execution_count": 113,
     "metadata": {},
     "output_type": "execute_result"
    }
   ],
   "source": [
    "pred = modle2.predict([[2, 122,76,27,200,35.9,0.483,26],\n",
    "                [6, 125,78,31,0,27.6,0.565,49]])\n",
    "pred.argmax(axis=1)"
   ]
  },
  {
   "cell_type": "code",
   "execution_count": 114,
   "id": "07e3aa82",
   "metadata": {},
   "outputs": [
    {
     "data": {
      "text/plain": [
       "array([0, 0], dtype=int64)"
      ]
     },
     "execution_count": 114,
     "metadata": {},
     "output_type": "execute_result"
    }
   ],
   "source": [
    "np.argmax(pred, axis=1)"
   ]
  },
  {
   "cell_type": "code",
   "execution_count": 111,
   "id": "d04b2514",
   "metadata": {},
   "outputs": [
    {
     "data": {
      "text/plain": [
       "array([  6.   , 125.   ,  78.   ,  31.   ,   0.   ,  27.6  ,   0.565,\n",
       "        49.   ])"
      ]
     },
     "execution_count": 111,
     "metadata": {},
     "output_type": "execute_result"
    }
   ],
   "source": [
    "X_test[1]"
   ]
  },
  {
   "cell_type": "code",
   "execution_count": null,
   "id": "19c89f48",
   "metadata": {},
   "outputs": [],
   "source": []
  },
  {
   "cell_type": "code",
   "execution_count": null,
   "id": "d37c140c",
   "metadata": {},
   "outputs": [],
   "source": []
  },
  {
   "cell_type": "code",
   "execution_count": null,
   "id": "b554df01",
   "metadata": {},
   "outputs": [],
   "source": []
  },
  {
   "cell_type": "code",
   "execution_count": null,
   "id": "3d8bef09",
   "metadata": {},
   "outputs": [],
   "source": []
  },
  {
   "cell_type": "code",
   "execution_count": null,
   "id": "a852f478",
   "metadata": {},
   "outputs": [],
   "source": []
  }
 ],
 "metadata": {
  "kernelspec": {
   "display_name": "ml-dl-nlp",
   "language": "python",
   "name": "ml-dl-nlp"
  },
  "language_info": {
   "codemirror_mode": {
    "name": "ipython",
    "version": 3
   },
   "file_extension": ".py",
   "mimetype": "text/x-python",
   "name": "python",
   "nbconvert_exporter": "python",
   "pygments_lexer": "ipython3",
   "version": "3.10.18"
  },
  "toc": {
   "base_numbering": 1,
   "nav_menu": {},
   "number_sections": false,
   "sideBar": true,
   "skip_h1_title": false,
   "title_cell": "Table of Contents",
   "title_sidebar": "Contents",
   "toc_cell": false,
   "toc_position": {
    "height": "calc(100% - 180px)",
    "left": "10px",
    "top": "150px",
    "width": "221px"
   },
   "toc_section_display": true,
   "toc_window_display": false
  }
 },
 "nbformat": 4,
 "nbformat_minor": 5
}
