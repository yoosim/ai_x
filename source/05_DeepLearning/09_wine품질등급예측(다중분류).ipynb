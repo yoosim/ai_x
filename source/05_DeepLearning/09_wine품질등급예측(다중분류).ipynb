{
 "cells": [
  {
   "cell_type": "code",
   "execution_count": 1,
   "id": "be2ae376",
   "metadata": {},
   "outputs": [
    {
     "data": {
      "text/html": [
       "\n",
       "<style>\n",
       "div.container{width:86% !important;}\n",
       "div.cell.code_cell.rendered{width:100%;}\n",
       "div.CodeMirror {font-family:Consolas; font-size:15pt;}\n",
       "div.output {font-size:15pt; font-weight:bold;}\n",
       "div.input {font-family:Consolas; font-size:15pt;}\n",
       "div.prompt {min-width:70px;}\n",
       "div#toc-wrapper{padding-top:120px;}\n",
       "div.text_cell_render ul li{font-size:12pt;padding:5px;}\n",
       "table.dataframe{font-size:15px;}\n",
       "</style>\n",
       " "
      ],
      "text/plain": [
       "<IPython.core.display.HTML object>"
      ]
     },
     "metadata": {},
     "output_type": "display_data"
    }
   ],
   "source": [
    "from IPython.display import display, HTML \n",
    "display(HTML(\"\"\"\n",
    "<style>\n",
    "div.container{width:86% !important;}\n",
    "div.cell.code_cell.rendered{width:100%;}\n",
    "div.CodeMirror {font-family:Consolas; font-size:15pt;}\n",
    "div.output {font-size:15pt; font-weight:bold;}\n",
    "div.input {font-family:Consolas; font-size:15pt;}\n",
    "div.prompt {min-width:70px;}\n",
    "div#toc-wrapper{padding-top:120px;}\n",
    "div.text_cell_render ul li{font-size:12pt;padding:5px;}\n",
    "table.dataframe{font-size:15px;}\n",
    "</style>\n",
    " \"\"\"))"
   ]
  },
  {
   "cell_type": "code",
   "execution_count": 103,
   "id": "dad04388",
   "metadata": {},
   "outputs": [],
   "source": [
    "import numpy as np\n",
    "import pandas as pd\n",
    "from tensorflow.keras.datasets import mnist                     # MNIST 데이터셋\n",
    "from tensorflow.keras.utils import to_categorical               # 원핫인코딩\n",
    "from tensorflow.keras.models import Sequential\n",
    "from tensorflow.keras.layers import Dense, Input, Dropout\n",
    "from matplotlib import pyplot as plt                            # 학습과정 loss와 acc 시각화\n",
    "# quiz에서는 scale조정, train_test_split 등을 추가 , \n",
    "\n",
    "from sklearn.preprocessing import StandardScaler\n",
    "from sklearn.preprocessing import MinMaxScaler\n",
    "from sklearn.model_selection import train_test_split\n",
    "from tensorflow.keras.callbacks import Callback, EarlyStopping, ModelCheckpoint\n",
    "from tensorflow.keras.models import load_model, save_model\n",
    "from sklearn.metrics import confusion_matrix"
   ]
  },
  {
   "cell_type": "markdown",
   "id": "1a1dcf6e",
   "metadata": {},
   "source": [
    "- Red Wine 등급 예측\n",
    "\n",
    "1. 데이터 셋 확보 및 전처리 \n",
    "    csv -> 결측치 처리 -> 독립변수와 타겟변수 분리 -> 독립변수 스케일 조정\n",
    "    -> 타겟변수의 원핫인코딩 -> 훈련셋과 데이트셋분리(train_test_split 층화추출)\n",
    "    \n",
    "2. 모델 구성(입력 11, 출력6-pd.getdummies, 출력 9개-to_categorical) layer층 4개 \n",
    "3. 모델 학습과정 설정 \n",
    "    loss='categorical_crossentropy\n",
    "4. 모델 학습 (callbacks이용)\n",
    "5. 모델 평가 (그래프, 평가, 교차표)\n",
    "6. 모델 저장 & 사용"
   ]
  },
  {
   "cell_type": "markdown",
   "id": "a25ea890",
   "metadata": {},
   "source": [
    "# 1.데이터 확보 & 전처리"
   ]
  },
  {
   "cell_type": "code",
   "execution_count": 61,
   "id": "fe139a78",
   "metadata": {},
   "outputs": [
    {
     "data": {
      "text/plain": [
       "5    681\n",
       "6    638\n",
       "7    199\n",
       "4     53\n",
       "8     18\n",
       "3     10\n",
       "Name: quality, dtype: int64"
      ]
     },
     "execution_count": 61,
     "metadata": {},
     "output_type": "execute_result"
    }
   ],
   "source": [
    "# fixed acidity : 고정 산도\n",
    "# volatile acidity : 휘발성 산도\n",
    "# citric acid : 시트르산\n",
    "# residual sugar : 잔류 당분\n",
    "# chlorides : 염화물\n",
    "# free sulfur dioxide : 자유 이산화황\n",
    "# total sulfur dioxide : 총 이산화황\n",
    "# density : 밀도\n",
    "# pH\n",
    "# sulphates : 황산염\n",
    "# alcohol\n",
    "# quality : 0 ~ 10(높을 수록 좋은 품질)\n",
    "\n",
    "redwine = pd.read_csv('data/winequality-red.csv', sep=';')\n",
    "redwine['quality'].value_counts()"
   ]
  },
  {
   "cell_type": "code",
   "execution_count": 7,
   "id": "33cb7ddb",
   "metadata": {
    "collapsed": true
   },
   "outputs": [
    {
     "name": "stdout",
     "output_type": "stream",
     "text": [
      "<class 'pandas.core.frame.DataFrame'>\n",
      "RangeIndex: 1599 entries, 0 to 1598\n",
      "Data columns (total 12 columns):\n",
      " #   Column                Non-Null Count  Dtype  \n",
      "---  ------                --------------  -----  \n",
      " 0   fixed acidity         1599 non-null   float64\n",
      " 1   volatile acidity      1599 non-null   float64\n",
      " 2   citric acid           1599 non-null   float64\n",
      " 3   residual sugar        1599 non-null   float64\n",
      " 4   chlorides             1599 non-null   float64\n",
      " 5   free sulfur dioxide   1599 non-null   float64\n",
      " 6   total sulfur dioxide  1599 non-null   float64\n",
      " 7   density               1599 non-null   float64\n",
      " 8   pH                    1599 non-null   float64\n",
      " 9   sulphates             1599 non-null   float64\n",
      " 10  alcohol               1599 non-null   float64\n",
      " 11  quality               1599 non-null   int64  \n",
      "dtypes: float64(11), int64(1)\n",
      "memory usage: 150.0 KB\n"
     ]
    }
   ],
   "source": [
    "redwine.info()"
   ]
  },
  {
   "cell_type": "code",
   "execution_count": 11,
   "id": "d9735eef",
   "metadata": {
    "collapsed": true
   },
   "outputs": [
    {
     "data": {
      "text/plain": [
       "0"
      ]
     },
     "execution_count": 11,
     "metadata": {},
     "output_type": "execute_result"
    }
   ],
   "source": [
    "# 결측치 없음\n",
    "redwine.isna().sum().sum() "
   ]
  },
  {
   "cell_type": "markdown",
   "id": "b45c647f",
   "metadata": {},
   "source": [
    "데이터 셋 확보 및 전처리 csv -> 결측치 처리 -> 독립변수와 타겟변수 분리 -> 독립변수 스케일 조정 -> 타겟변수의 원핫인코딩 -> 훈련셋과 데이트셋분리(train_test_split 층화추출)"
   ]
  },
  {
   "cell_type": "code",
   "execution_count": 12,
   "id": "853c8bb4",
   "metadata": {},
   "outputs": [
    {
     "data": {
      "text/html": [
       "<div>\n",
       "<style scoped>\n",
       "    .dataframe tbody tr th:only-of-type {\n",
       "        vertical-align: middle;\n",
       "    }\n",
       "\n",
       "    .dataframe tbody tr th {\n",
       "        vertical-align: top;\n",
       "    }\n",
       "\n",
       "    .dataframe thead th {\n",
       "        text-align: right;\n",
       "    }\n",
       "</style>\n",
       "<table border=\"1\" class=\"dataframe\">\n",
       "  <thead>\n",
       "    <tr style=\"text-align: right;\">\n",
       "      <th></th>\n",
       "      <th>fixed acidity</th>\n",
       "      <th>volatile acidity</th>\n",
       "      <th>citric acid</th>\n",
       "      <th>residual sugar</th>\n",
       "      <th>chlorides</th>\n",
       "      <th>free sulfur dioxide</th>\n",
       "      <th>total sulfur dioxide</th>\n",
       "      <th>density</th>\n",
       "      <th>pH</th>\n",
       "      <th>sulphates</th>\n",
       "      <th>alcohol</th>\n",
       "      <th>quality</th>\n",
       "    </tr>\n",
       "  </thead>\n",
       "  <tbody>\n",
       "    <tr>\n",
       "      <th>0</th>\n",
       "      <td>7.4</td>\n",
       "      <td>0.70</td>\n",
       "      <td>0.00</td>\n",
       "      <td>1.9</td>\n",
       "      <td>0.076</td>\n",
       "      <td>11.0</td>\n",
       "      <td>34.0</td>\n",
       "      <td>0.9978</td>\n",
       "      <td>3.51</td>\n",
       "      <td>0.56</td>\n",
       "      <td>9.4</td>\n",
       "      <td>5</td>\n",
       "    </tr>\n",
       "    <tr>\n",
       "      <th>1</th>\n",
       "      <td>7.8</td>\n",
       "      <td>0.88</td>\n",
       "      <td>0.00</td>\n",
       "      <td>2.6</td>\n",
       "      <td>0.098</td>\n",
       "      <td>25.0</td>\n",
       "      <td>67.0</td>\n",
       "      <td>0.9968</td>\n",
       "      <td>3.20</td>\n",
       "      <td>0.68</td>\n",
       "      <td>9.8</td>\n",
       "      <td>5</td>\n",
       "    </tr>\n",
       "    <tr>\n",
       "      <th>2</th>\n",
       "      <td>7.8</td>\n",
       "      <td>0.76</td>\n",
       "      <td>0.04</td>\n",
       "      <td>2.3</td>\n",
       "      <td>0.092</td>\n",
       "      <td>15.0</td>\n",
       "      <td>54.0</td>\n",
       "      <td>0.9970</td>\n",
       "      <td>3.26</td>\n",
       "      <td>0.65</td>\n",
       "      <td>9.8</td>\n",
       "      <td>5</td>\n",
       "    </tr>\n",
       "    <tr>\n",
       "      <th>3</th>\n",
       "      <td>11.2</td>\n",
       "      <td>0.28</td>\n",
       "      <td>0.56</td>\n",
       "      <td>1.9</td>\n",
       "      <td>0.075</td>\n",
       "      <td>17.0</td>\n",
       "      <td>60.0</td>\n",
       "      <td>0.9980</td>\n",
       "      <td>3.16</td>\n",
       "      <td>0.58</td>\n",
       "      <td>9.8</td>\n",
       "      <td>6</td>\n",
       "    </tr>\n",
       "    <tr>\n",
       "      <th>4</th>\n",
       "      <td>7.4</td>\n",
       "      <td>0.70</td>\n",
       "      <td>0.00</td>\n",
       "      <td>1.9</td>\n",
       "      <td>0.076</td>\n",
       "      <td>11.0</td>\n",
       "      <td>34.0</td>\n",
       "      <td>0.9978</td>\n",
       "      <td>3.51</td>\n",
       "      <td>0.56</td>\n",
       "      <td>9.4</td>\n",
       "      <td>5</td>\n",
       "    </tr>\n",
       "  </tbody>\n",
       "</table>\n",
       "</div>"
      ],
      "text/plain": [
       "   fixed acidity  volatile acidity  citric acid  residual sugar  chlorides  \\\n",
       "0            7.4              0.70         0.00             1.9      0.076   \n",
       "1            7.8              0.88         0.00             2.6      0.098   \n",
       "2            7.8              0.76         0.04             2.3      0.092   \n",
       "3           11.2              0.28         0.56             1.9      0.075   \n",
       "4            7.4              0.70         0.00             1.9      0.076   \n",
       "\n",
       "   free sulfur dioxide  total sulfur dioxide  density    pH  sulphates  \\\n",
       "0                 11.0                  34.0   0.9978  3.51       0.56   \n",
       "1                 25.0                  67.0   0.9968  3.20       0.68   \n",
       "2                 15.0                  54.0   0.9970  3.26       0.65   \n",
       "3                 17.0                  60.0   0.9980  3.16       0.58   \n",
       "4                 11.0                  34.0   0.9978  3.51       0.56   \n",
       "\n",
       "   alcohol  quality  \n",
       "0      9.4        5  \n",
       "1      9.8        5  \n",
       "2      9.8        5  \n",
       "3      9.8        6  \n",
       "4      9.4        5  "
      ]
     },
     "execution_count": 12,
     "metadata": {},
     "output_type": "execute_result"
    }
   ],
   "source": [
    "redwine.head()"
   ]
  },
  {
   "cell_type": "code",
   "execution_count": 62,
   "id": "27db3bcc",
   "metadata": {},
   "outputs": [],
   "source": [
    "# 입력변수와 타겟변수 분리 \n",
    "X_data = redwine.iloc[:,:-1] # 독립변수\n",
    "y_data = redwine.iloc[:,-1] # 타겟변수 "
   ]
  },
  {
   "cell_type": "code",
   "execution_count": null,
   "id": "574b36b4",
   "metadata": {},
   "outputs": [],
   "source": []
  },
  {
   "cell_type": "code",
   "execution_count": 63,
   "id": "5ad2f944",
   "metadata": {},
   "outputs": [
    {
     "data": {
      "text/plain": [
       "array([[0.24778761, 0.39726027, 0.        , ..., 0.60629921, 0.13772455,\n",
       "        0.15384615],\n",
       "       [0.28318584, 0.52054795, 0.        , ..., 0.36220472, 0.20958084,\n",
       "        0.21538462],\n",
       "       [0.28318584, 0.43835616, 0.04      , ..., 0.40944882, 0.19161677,\n",
       "        0.21538462],\n",
       "       ...,\n",
       "       [0.15044248, 0.26712329, 0.13      , ..., 0.53543307, 0.25149701,\n",
       "        0.4       ],\n",
       "       [0.11504425, 0.35958904, 0.12      , ..., 0.65354331, 0.22754491,\n",
       "        0.27692308],\n",
       "       [0.12389381, 0.13013699, 0.47      , ..., 0.51181102, 0.19760479,\n",
       "        0.4       ]])"
      ]
     },
     "execution_count": 63,
     "metadata": {},
     "output_type": "execute_result"
    }
   ],
   "source": [
    "# 입력변수 스케일 조정\n",
    "scaler_X = MinMaxScaler()\n",
    "scaled_X_data = scaler_X.fit_transform(X_data)\n",
    "scaled_X_data"
   ]
  },
  {
   "cell_type": "code",
   "execution_count": 64,
   "id": "80037f73",
   "metadata": {},
   "outputs": [
    {
     "name": "stdout",
     "output_type": "stream",
     "text": [
      "원핫인코딩된 데이터 : [[0. 0. 0. ... 0. 0. 0.]\n",
      " [0. 0. 0. ... 0. 0. 0.]\n",
      " [0. 0. 0. ... 0. 0. 0.]\n",
      " ...\n",
      " [0. 0. 0. ... 1. 0. 0.]\n",
      " [0. 0. 0. ... 0. 0. 0.]\n",
      " [0. 0. 0. ... 1. 0. 0.]]\n"
     ]
    }
   ],
   "source": [
    "# 타겟변수 원핫인코딩\n",
    "one_hot_encodied_y_data = to_categorical(y_data)\n",
    "print('원핫인코딩된 데이터 :',one_hot_encodied_y_data)"
   ]
  },
  {
   "cell_type": "code",
   "execution_count": 65,
   "id": "6bcc48ed",
   "metadata": {},
   "outputs": [
    {
     "data": {
      "text/plain": [
       "((1599, 11), (1599,), (1599, 11), (1599, 9))"
      ]
     },
     "execution_count": 65,
     "metadata": {},
     "output_type": "execute_result"
    }
   ],
   "source": [
    "X_data.shape, y_data.shape,scaled_X_data.shape, one_hot_encodied_y_data.shape\n",
    "# X_train : 독립변수 데이터 \n",
    "# y_train : 타겟변수 데이터 \n",
    "# scaled_X_data : 스케일 조정된 독립변수\n",
    "# one_hot_encodied_y_data : 원핫인코딩된 타겟변수\n"
   ]
  },
  {
   "cell_type": "code",
   "execution_count": 68,
   "id": "8d208030",
   "metadata": {},
   "outputs": [
    {
     "data": {
      "text/plain": [
       "((1119, 11), (480, 11), (1119, 9), (480, 9))"
      ]
     },
     "execution_count": 68,
     "metadata": {},
     "output_type": "execute_result"
    }
   ],
   "source": [
    "# 훈련셋과 데이트셋분리(train_test_split 층화추출)\n",
    "X_train,X_test,Y_train, Y_test = train_test_split(scaled_X_data,one_hot_encodied_y_data,\n",
    "                                                 test_size=0.3,\n",
    "                                                 stratify=one_hot_encodied_y_data)\n",
    "X_train.shape, X_test.shape, Y_train.shape, Y_test.shape"
   ]
  },
  {
   "cell_type": "markdown",
   "id": "ae70a704",
   "metadata": {},
   "source": [
    "모델 구성(입력 11, 출력6-pd.getdummies, 출력 9개-to_categorical) layer층 4개"
   ]
  },
  {
   "cell_type": "code",
   "execution_count": 69,
   "id": "6a42a68d",
   "metadata": {},
   "outputs": [
    {
     "data": {
      "text/plain": [
       "array([[0., 0., 0., 0., 0., 0., 1., 0., 0.],\n",
       "       [0., 0., 0., 0., 0., 0., 1., 0., 0.],\n",
       "       [0., 0., 0., 0., 0., 0., 1., 0., 0.],\n",
       "       [0., 0., 0., 0., 0., 1., 0., 0., 0.],\n",
       "       [0., 0., 0., 0., 0., 1., 0., 0., 0.],\n",
       "       [0., 0., 0., 0., 0., 0., 1., 0., 0.],\n",
       "       [0., 0., 0., 0., 0., 0., 1., 0., 0.],\n",
       "       [0., 0., 0., 0., 0., 1., 0., 0., 0.],\n",
       "       [0., 0., 0., 0., 0., 0., 1., 0., 0.],\n",
       "       [0., 0., 0., 0., 0., 0., 0., 1., 0.]], dtype=float32)"
      ]
     },
     "execution_count": 69,
     "metadata": {},
     "output_type": "execute_result"
    }
   ],
   "source": [
    "Y_train[:10]"
   ]
  },
  {
   "cell_type": "code",
   "execution_count": 83,
   "id": "080a24a0",
   "metadata": {},
   "outputs": [
    {
     "name": "stdout",
     "output_type": "stream",
     "text": [
      "Model: \"sequential_2\"\n",
      "_________________________________________________________________\n",
      " Layer (type)                Output Shape              Param #   \n",
      "=================================================================\n",
      " dense_6 (Dense)             (None, 32)                384       \n",
      "                                                                 \n",
      " dense_7 (Dense)             (None, 68)                2244      \n",
      "                                                                 \n",
      " dropout (Dropout)           (None, 68)                0         \n",
      "                                                                 \n",
      " dense_8 (Dense)             (None, 42)                2898      \n",
      "                                                                 \n",
      " dropout_1 (Dropout)         (None, 42)                0         \n",
      "                                                                 \n",
      " dense_9 (Dense)             (None, 9)                 387       \n",
      "                                                                 \n",
      "=================================================================\n",
      "Total params: 5,913\n",
      "Trainable params: 5,913\n",
      "Non-trainable params: 0\n",
      "_________________________________________________________________\n"
     ]
    }
   ],
   "source": [
    "# 모델 구성\n",
    "model = Sequential()\n",
    "model.add(Input(shape=11,))\n",
    "model.add(Dense(units=32, activation='relu'))\n",
    "model.add(Dense(units=68, activation='relu'))\n",
    "model.add(Dropout(0.2))\n",
    "model.add(Dense(units=42, activation='relu'))\n",
    "model.add(Dropout(0.2))\n",
    "model.add(Dense(units=9, activation='softmax'))\n",
    "model.summary()"
   ]
  },
  {
   "cell_type": "code",
   "execution_count": 84,
   "id": "54afb7cc",
   "metadata": {},
   "outputs": [],
   "source": [
    "model.compile(loss='categorical_crossentropy',\n",
    "                 optimizer='adam',\n",
    "                 metrics=['accuracy'])"
   ]
  },
  {
   "cell_type": "code",
   "execution_count": 86,
   "id": "3349fa89",
   "metadata": {},
   "outputs": [
    {
     "name": "stdout",
     "output_type": "stream",
     "text": [
      "Epoch 1/50\n",
      "1/9 [==>...........................] - ETA: 3s - loss: 2.1826 - accuracy: 0.1700\n",
      "Epoch 1: val_accuracy improved from -inf to 0.40179, saving model to ./model08\\mnist001_val0.40179.h5\n",
      "9/9 [==============================] - 1s 25ms/step - loss: 2.1270 - accuracy: 0.3162 - val_loss: 2.0403 - val_accuracy: 0.4018\n",
      "Epoch 2/50\n",
      "1/9 [==>...........................] - ETA: 0s - loss: 2.0445 - accuracy: 0.3900\n",
      "Epoch 2: val_accuracy did not improve from 0.40179\n",
      "9/9 [==============================] - 0s 7ms/step - loss: 1.9682 - accuracy: 0.4112 - val_loss: 1.8271 - val_accuracy: 0.3795\n",
      "Epoch 3/50\n",
      "1/9 [==>...........................] - ETA: 0s - loss: 1.7982 - accuracy: 0.5000\n",
      "Epoch 3: val_accuracy did not improve from 0.40179\n",
      "9/9 [==============================] - 0s 6ms/step - loss: 1.7410 - accuracy: 0.4268 - val_loss: 1.5397 - val_accuracy: 0.3795\n",
      "Epoch 4/50\n",
      "1/9 [==>...........................] - ETA: 0s - loss: 1.5837 - accuracy: 0.4400\n",
      "Epoch 4: val_accuracy did not improve from 0.40179\n",
      "9/9 [==============================] - 0s 8ms/step - loss: 1.4716 - accuracy: 0.4279 - val_loss: 1.2798 - val_accuracy: 0.3795\n",
      "Epoch 5/50\n",
      "1/9 [==>...........................] - ETA: 0s - loss: 1.3517 - accuracy: 0.4700\n",
      "Epoch 5: val_accuracy did not improve from 0.40179\n",
      "9/9 [==============================] - 0s 6ms/step - loss: 1.3171 - accuracy: 0.4212 - val_loss: 1.1660 - val_accuracy: 0.3795\n",
      "Epoch 6/50\n",
      "1/9 [==>...........................] - ETA: 0s - loss: 1.3725 - accuracy: 0.4000\n",
      "Epoch 6: val_accuracy improved from 0.40179 to 0.58929, saving model to ./model08\\mnist006_val0.58929.h5\n",
      "9/9 [==============================] - 0s 8ms/step - loss: 1.3069 - accuracy: 0.4436 - val_loss: 1.1241 - val_accuracy: 0.5893\n",
      "Epoch 7/50\n",
      "1/9 [==>...........................] - ETA: 0s - loss: 1.2675 - accuracy: 0.4600\n",
      "Epoch 7: val_accuracy improved from 0.58929 to 0.60714, saving model to ./model08\\mnist007_val0.60714.h5\n",
      "9/9 [==============================] - 0s 8ms/step - loss: 1.2827 - accuracy: 0.4291 - val_loss: 1.1117 - val_accuracy: 0.6071\n",
      "Epoch 8/50\n",
      "1/9 [==>...........................] - ETA: 0s - loss: 1.1318 - accuracy: 0.4900\n",
      "Epoch 8: val_accuracy improved from 0.60714 to 0.62500, saving model to ./model08\\mnist008_val0.62500.h5\n",
      "9/9 [==============================] - 0s 10ms/step - loss: 1.2540 - accuracy: 0.4346 - val_loss: 1.1123 - val_accuracy: 0.6250\n",
      "Epoch 9/50\n",
      "1/9 [==>...........................] - ETA: 0s - loss: 1.3876 - accuracy: 0.3600\n",
      "Epoch 9: val_accuracy did not improve from 0.62500\n",
      "9/9 [==============================] - 0s 7ms/step - loss: 1.2549 - accuracy: 0.4190 - val_loss: 1.0986 - val_accuracy: 0.6161\n",
      "Epoch 10/50\n",
      "1/9 [==>...........................] - ETA: 0s - loss: 1.2264 - accuracy: 0.4500\n",
      "Epoch 10: val_accuracy did not improve from 0.62500\n",
      "9/9 [==============================] - 0s 8ms/step - loss: 1.2450 - accuracy: 0.4380 - val_loss: 1.0830 - val_accuracy: 0.6205\n",
      "Epoch 11/50\n",
      "1/9 [==>...........................] - ETA: 0s - loss: 1.3694 - accuracy: 0.3700\n",
      "Epoch 11: val_accuracy did not improve from 0.62500\n",
      "9/9 [==============================] - 0s 7ms/step - loss: 1.2318 - accuracy: 0.4436 - val_loss: 1.0747 - val_accuracy: 0.6205\n",
      "Epoch 12/50\n",
      "1/9 [==>...........................] - ETA: 0s - loss: 1.3566 - accuracy: 0.4000\n",
      "Epoch 12: val_accuracy improved from 0.62500 to 0.63839, saving model to ./model08\\mnist012_val0.63839.h5\n",
      "9/9 [==============================] - 0s 10ms/step - loss: 1.2098 - accuracy: 0.4480 - val_loss: 1.0595 - val_accuracy: 0.6384\n",
      "Epoch 13/50\n",
      "1/9 [==>...........................] - ETA: 0s - loss: 1.3313 - accuracy: 0.4100\n",
      "Epoch 13: val_accuracy did not improve from 0.63839\n",
      "9/9 [==============================] - 0s 6ms/step - loss: 1.1907 - accuracy: 0.4659 - val_loss: 1.0443 - val_accuracy: 0.6116\n",
      "Epoch 14/50\n",
      "1/9 [==>...........................] - ETA: 0s - loss: 1.1583 - accuracy: 0.4400\n",
      "Epoch 14: val_accuracy did not improve from 0.63839\n",
      "9/9 [==============================] - 0s 6ms/step - loss: 1.1927 - accuracy: 0.4872 - val_loss: 1.0184 - val_accuracy: 0.6161\n",
      "Epoch 15/50\n",
      "1/9 [==>...........................] - ETA: 0s - loss: 1.2700 - accuracy: 0.5000\n",
      "Epoch 15: val_accuracy did not improve from 0.63839\n",
      "9/9 [==============================] - 0s 7ms/step - loss: 1.1699 - accuracy: 0.5017 - val_loss: 1.0015 - val_accuracy: 0.6205\n",
      "Epoch 16/50\n",
      "1/9 [==>...........................] - ETA: 0s - loss: 1.2027 - accuracy: 0.5000\n",
      "Epoch 16: val_accuracy did not improve from 0.63839\n",
      "9/9 [==============================] - 0s 7ms/step - loss: 1.1554 - accuracy: 0.4927 - val_loss: 0.9817 - val_accuracy: 0.6384\n",
      "Epoch 17/50\n",
      "1/9 [==>...........................] - ETA: 0s - loss: 1.0922 - accuracy: 0.6100\n",
      "Epoch 17: val_accuracy improved from 0.63839 to 0.64732, saving model to ./model08\\mnist017_val0.64732.h5\n",
      "9/9 [==============================] - 0s 10ms/step - loss: 1.1472 - accuracy: 0.5196 - val_loss: 0.9577 - val_accuracy: 0.6473\n",
      "Epoch 18/50\n",
      "1/9 [==>...........................] - ETA: 0s - loss: 1.2067 - accuracy: 0.4500\n",
      "Epoch 18: val_accuracy improved from 0.64732 to 0.66071, saving model to ./model08\\mnist018_val0.66071.h5\n",
      "9/9 [==============================] - 0s 8ms/step - loss: 1.1203 - accuracy: 0.5084 - val_loss: 0.9379 - val_accuracy: 0.6607\n",
      "Epoch 19/50\n",
      "1/9 [==>...........................] - ETA: 0s - loss: 1.0482 - accuracy: 0.5600\n",
      "Epoch 19: val_accuracy improved from 0.66071 to 0.67411, saving model to ./model08\\mnist019_val0.67411.h5\n",
      "9/9 [==============================] - 0s 10ms/step - loss: 1.0983 - accuracy: 0.5330 - val_loss: 0.9206 - val_accuracy: 0.6741\n",
      "Epoch 20/50\n",
      "1/9 [==>...........................] - ETA: 0s - loss: 1.1070 - accuracy: 0.5300\n",
      "Epoch 20: val_accuracy improved from 0.67411 to 0.68304, saving model to ./model08\\mnist020_val0.68304.h5\n",
      "9/9 [==============================] - 0s 9ms/step - loss: 1.0999 - accuracy: 0.5341 - val_loss: 0.9098 - val_accuracy: 0.6830\n",
      "Epoch 21/50\n",
      "1/9 [==>...........................] - ETA: 0s - loss: 1.2399 - accuracy: 0.4500\n",
      "Epoch 21: val_accuracy did not improve from 0.68304\n",
      "9/9 [==============================] - 0s 8ms/step - loss: 1.0896 - accuracy: 0.5307 - val_loss: 0.8950 - val_accuracy: 0.6786\n",
      "Epoch 22/50\n",
      "1/9 [==>...........................] - ETA: 0s - loss: 0.9807 - accuracy: 0.5800\n",
      "Epoch 22: val_accuracy did not improve from 0.68304\n",
      "9/9 [==============================] - 0s 6ms/step - loss: 1.0668 - accuracy: 0.5330 - val_loss: 0.8853 - val_accuracy: 0.6830\n",
      "Epoch 23/50\n",
      "1/9 [==>...........................] - ETA: 0s - loss: 1.0652 - accuracy: 0.5200\n",
      "Epoch 23: val_accuracy improved from 0.68304 to 0.69196, saving model to ./model08\\mnist023_val0.69196.h5\n",
      "9/9 [==============================] - 0s 9ms/step - loss: 1.0623 - accuracy: 0.5385 - val_loss: 0.8765 - val_accuracy: 0.6920\n",
      "Epoch 24/50\n",
      "1/9 [==>...........................] - ETA: 0s - loss: 0.9737 - accuracy: 0.5300\n",
      "Epoch 24: val_accuracy improved from 0.69196 to 0.69643, saving model to ./model08\\mnist024_val0.69643.h5\n",
      "9/9 [==============================] - 0s 10ms/step - loss: 1.0572 - accuracy: 0.5385 - val_loss: 0.8765 - val_accuracy: 0.6964\n",
      "Epoch 25/50\n",
      "1/9 [==>...........................] - ETA: 0s - loss: 1.0009 - accuracy: 0.5000\n",
      "Epoch 25: val_accuracy improved from 0.69643 to 0.70089, saving model to ./model08\\mnist025_val0.70089.h5\n",
      "9/9 [==============================] - 0s 10ms/step - loss: 1.0456 - accuracy: 0.5575 - val_loss: 0.8715 - val_accuracy: 0.7009\n",
      "Epoch 26/50\n",
      "1/9 [==>...........................] - ETA: 0s - loss: 0.9748 - accuracy: 0.5800\n",
      "Epoch 26: val_accuracy did not improve from 0.70089\n",
      "9/9 [==============================] - 0s 7ms/step - loss: 1.0416 - accuracy: 0.5464 - val_loss: 0.8701 - val_accuracy: 0.6964\n",
      "Epoch 27/50\n",
      "1/9 [==>...........................] - ETA: 0s - loss: 0.9898 - accuracy: 0.6000\n",
      "Epoch 27: val_accuracy improved from 0.70089 to 0.70536, saving model to ./model08\\mnist027_val0.70536.h5\n",
      "9/9 [==============================] - 0s 10ms/step - loss: 1.0444 - accuracy: 0.5363 - val_loss: 0.8676 - val_accuracy: 0.7054\n",
      "Epoch 28/50\n",
      "1/9 [==>...........................] - ETA: 0s - loss: 1.0351 - accuracy: 0.5200\n",
      "Epoch 28: val_accuracy did not improve from 0.70536\n",
      "9/9 [==============================] - 0s 7ms/step - loss: 1.0342 - accuracy: 0.5475 - val_loss: 0.8647 - val_accuracy: 0.7054\n"
     ]
    },
    {
     "name": "stdout",
     "output_type": "stream",
     "text": [
      "Epoch 29/50\n",
      "1/9 [==>...........................] - ETA: 0s - loss: 1.0270 - accuracy: 0.5900\n",
      "Epoch 29: val_accuracy did not improve from 0.70536\n",
      "9/9 [==============================] - 0s 7ms/step - loss: 1.0295 - accuracy: 0.5620 - val_loss: 0.8636 - val_accuracy: 0.7009\n",
      "Epoch 30/50\n",
      "1/9 [==>...........................] - ETA: 0s - loss: 1.1707 - accuracy: 0.5400\n",
      "Epoch 30: val_accuracy improved from 0.70536 to 0.71429, saving model to ./model08\\mnist030_val0.71429.h5\n",
      "9/9 [==============================] - 0s 8ms/step - loss: 1.0213 - accuracy: 0.5587 - val_loss: 0.8579 - val_accuracy: 0.7143\n",
      "Epoch 31/50\n",
      "1/9 [==>...........................] - ETA: 0s - loss: 1.0671 - accuracy: 0.5100\n",
      "Epoch 31: val_accuracy did not improve from 0.71429\n",
      "9/9 [==============================] - 0s 6ms/step - loss: 1.0144 - accuracy: 0.5654 - val_loss: 0.8564 - val_accuracy: 0.6964\n",
      "Epoch 32/50\n",
      "1/9 [==>...........................] - ETA: 0s - loss: 1.0732 - accuracy: 0.5700\n",
      "Epoch 32: val_accuracy did not improve from 0.71429\n",
      "9/9 [==============================] - 0s 6ms/step - loss: 1.0235 - accuracy: 0.5531 - val_loss: 0.8526 - val_accuracy: 0.7009\n",
      "Epoch 33/50\n",
      "1/9 [==>...........................] - ETA: 0s - loss: 0.9814 - accuracy: 0.5800\n",
      "Epoch 33: val_accuracy did not improve from 0.71429\n",
      "9/9 [==============================] - 0s 7ms/step - loss: 1.0243 - accuracy: 0.5598 - val_loss: 0.8602 - val_accuracy: 0.6964\n",
      "Epoch 34/50\n",
      "1/9 [==>...........................] - ETA: 0s - loss: 1.1107 - accuracy: 0.6200\n",
      "Epoch 34: val_accuracy did not improve from 0.71429\n",
      "9/9 [==============================] - 0s 6ms/step - loss: 1.0227 - accuracy: 0.5709 - val_loss: 0.8492 - val_accuracy: 0.7054\n",
      "Epoch 35/50\n",
      "1/9 [==>...........................] - ETA: 0s - loss: 1.0406 - accuracy: 0.5600\n",
      "Epoch 35: val_accuracy did not improve from 0.71429\n",
      "9/9 [==============================] - 0s 6ms/step - loss: 1.0112 - accuracy: 0.5676 - val_loss: 0.8515 - val_accuracy: 0.6964\n",
      "Epoch 36/50\n",
      "1/9 [==>...........................] - ETA: 0s - loss: 0.9497 - accuracy: 0.5700\n",
      "Epoch 36: val_accuracy did not improve from 0.71429\n",
      "9/9 [==============================] - 0s 6ms/step - loss: 1.0178 - accuracy: 0.5575 - val_loss: 0.8555 - val_accuracy: 0.6875\n",
      "Epoch 37/50\n",
      "1/9 [==>...........................] - ETA: 0s - loss: 1.0051 - accuracy: 0.5700\n",
      "Epoch 37: val_accuracy did not improve from 0.71429\n",
      "9/9 [==============================] - 0s 7ms/step - loss: 1.0148 - accuracy: 0.5631 - val_loss: 0.8541 - val_accuracy: 0.6830\n",
      "Epoch 38/50\n",
      "1/9 [==>...........................] - ETA: 0s - loss: 1.0293 - accuracy: 0.5200\n",
      "Epoch 38: val_accuracy did not improve from 0.71429\n",
      "9/9 [==============================] - 0s 8ms/step - loss: 1.0035 - accuracy: 0.5531 - val_loss: 0.8558 - val_accuracy: 0.6875\n",
      "Epoch 39/50\n",
      "1/9 [==>...........................] - ETA: 0s - loss: 1.1380 - accuracy: 0.5400\n",
      "Epoch 39: val_accuracy did not improve from 0.71429\n",
      "9/9 [==============================] - 0s 8ms/step - loss: 1.0005 - accuracy: 0.5564 - val_loss: 0.8407 - val_accuracy: 0.7054\n",
      "Epoch 40/50\n",
      "1/9 [==>...........................] - ETA: 0s - loss: 1.0225 - accuracy: 0.4700\n",
      "Epoch 40: val_accuracy did not improve from 0.71429\n",
      "9/9 [==============================] - 0s 8ms/step - loss: 1.0083 - accuracy: 0.5654 - val_loss: 0.8480 - val_accuracy: 0.7009\n",
      "Epoch 41/50\n",
      "1/9 [==>...........................] - ETA: 0s - loss: 0.8955 - accuracy: 0.6600\n",
      "Epoch 41: val_accuracy did not improve from 0.71429\n",
      "9/9 [==============================] - 0s 6ms/step - loss: 0.9963 - accuracy: 0.5698 - val_loss: 0.8421 - val_accuracy: 0.6964\n",
      "Epoch 42/50\n",
      "1/9 [==>...........................] - ETA: 0s - loss: 1.0142 - accuracy: 0.5400\n",
      "Epoch 42: val_accuracy did not improve from 0.71429\n",
      "9/9 [==============================] - 0s 6ms/step - loss: 0.9811 - accuracy: 0.5821 - val_loss: 0.8424 - val_accuracy: 0.7054\n",
      "Epoch 43/50\n",
      "1/9 [==>...........................] - ETA: 0s - loss: 1.0629 - accuracy: 0.5800\n",
      "Epoch 43: val_accuracy did not improve from 0.71429\n",
      "9/9 [==============================] - 0s 7ms/step - loss: 0.9987 - accuracy: 0.5721 - val_loss: 0.8383 - val_accuracy: 0.7054\n",
      "Epoch 44/50\n",
      "1/9 [==>...........................] - ETA: 0s - loss: 1.0218 - accuracy: 0.5800\n",
      "Epoch 44: val_accuracy did not improve from 0.71429\n",
      "9/9 [==============================] - 0s 6ms/step - loss: 0.9977 - accuracy: 0.5709 - val_loss: 0.8419 - val_accuracy: 0.6964\n",
      "Epoch 45/50\n",
      "1/9 [==>...........................] - ETA: 0s - loss: 0.9722 - accuracy: 0.6200\n",
      "Epoch 45: val_accuracy did not improve from 0.71429\n",
      "9/9 [==============================] - 0s 6ms/step - loss: 1.0001 - accuracy: 0.5631 - val_loss: 0.8372 - val_accuracy: 0.6964\n",
      "Epoch 46/50\n",
      "1/9 [==>...........................] - ETA: 0s - loss: 0.9161 - accuracy: 0.5300\n",
      "Epoch 46: val_accuracy did not improve from 0.71429\n",
      "9/9 [==============================] - 0s 6ms/step - loss: 0.9842 - accuracy: 0.5587 - val_loss: 0.8344 - val_accuracy: 0.6964\n",
      "Epoch 47/50\n",
      "1/9 [==>...........................] - ETA: 0s - loss: 1.0146 - accuracy: 0.6200\n",
      "Epoch 47: val_accuracy did not improve from 0.71429\n",
      "9/9 [==============================] - 0s 6ms/step - loss: 0.9872 - accuracy: 0.5642 - val_loss: 0.8272 - val_accuracy: 0.7098\n",
      "Epoch 48/50\n",
      "1/9 [==>...........................] - ETA: 0s - loss: 0.9916 - accuracy: 0.5700\n",
      "Epoch 48: val_accuracy did not improve from 0.71429\n",
      "9/9 [==============================] - 0s 6ms/step - loss: 0.9669 - accuracy: 0.5587 - val_loss: 0.8339 - val_accuracy: 0.6964\n",
      "Epoch 49/50\n",
      "1/9 [==>...........................] - ETA: 0s - loss: 1.0152 - accuracy: 0.5600\n",
      "Epoch 49: val_accuracy did not improve from 0.71429\n",
      "9/9 [==============================] - 0s 6ms/step - loss: 0.9646 - accuracy: 0.5642 - val_loss: 0.8248 - val_accuracy: 0.7098\n",
      "Epoch 50/50\n",
      "1/9 [==>...........................] - ETA: 0s - loss: 1.0097 - accuracy: 0.5300\n",
      "Epoch 50: val_accuracy did not improve from 0.71429\n",
      "9/9 [==============================] - 0s 7ms/step - loss: 0.9861 - accuracy: 0.5531 - val_loss: 0.8224 - val_accuracy: 0.6964\n"
     ]
    }
   ],
   "source": [
    "# 모델 학습 \n",
    "\n",
    "earlystopping = EarlyStopping(monitor='val_accuracy',patience=20)\n",
    "import os\n",
    "model_save_folder = './model08/'\n",
    "if not os.path.exists(model_save_folder):\n",
    "    os.mkdir(model_save_folder)\n",
    "file = model_save_folder + 'mnist{epoch:03d}_val{val_accuracy:.5f}.h5'\n",
    "checkpoint = ModelCheckpoint(filepath=file,\n",
    "                            monitor='val_accuracy',\n",
    "                            save_best_only=True,\n",
    "                            mode='max',\n",
    "                            verbose=1)\n",
    "\n",
    "hist =model.fit(X_train,Y_train,\n",
    "                epochs=50,\n",
    "                batch_size= 100,\n",
    "                validation_split= 0.2,\n",
    "                verbose=1,\n",
    "                callbacks=[earlystopping,checkpoint])"
   ]
  },
  {
   "cell_type": "code",
   "execution_count": 87,
   "id": "faf21cec",
   "metadata": {},
   "outputs": [
    {
     "data": {
      "text/plain": [
       "dict_keys(['loss', 'accuracy', 'val_loss', 'val_accuracy'])"
      ]
     },
     "execution_count": 87,
     "metadata": {},
     "output_type": "execute_result"
    }
   ],
   "source": [
    "hist.history.keys()"
   ]
  },
  {
   "cell_type": "markdown",
   "id": "511ce48f",
   "metadata": {},
   "source": [
    "모델 평가 (그래프, 평가, 교차표)\n",
    "\n",
    "모델 저장 & 사용"
   ]
  },
  {
   "cell_type": "code",
   "execution_count": 88,
   "id": "52169b7f",
   "metadata": {},
   "outputs": [
    {
     "data": {
      "image/png": "[encoded data removed]",
      "text/plain": [
       "<Figure size 1000x500 with 2 Axes>"
      ]
     },
     "metadata": {},
     "output_type": "display_data"
    }
   ],
   "source": [
    "fig, loss_ax = plt.subplots(figsize=(10,5))\n",
    "loss_ax.plot(hist.history['loss'], 'y', label='train loss')\n",
    "loss_ax.plot(hist.history['val_loss'],'r', label='val loss')\n",
    "acc_ax= loss_ax.twinx() #x축 공유\n",
    "acc_ax.plot(hist.history['accuracy'], 'g', label='train accuracy')\n",
    "acc_ax.plot(hist.history['val_accuracy'], 'b', label='val accuracy')\n",
    "loss_ax.set_xlabel('epochs')\n",
    "loss_ax.set_ylabel('loss')\n",
    "acc_ax.set_xlabel('accuracy')\n",
    "loss_ax.legend(loc='center right')\n",
    "acc_ax.legend()\n",
    "plt.show()"
   ]
  },
  {
   "cell_type": "code",
   "execution_count": 96,
   "id": "5767329a",
   "metadata": {},
   "outputs": [
    {
     "name": "stdout",
     "output_type": "stream",
     "text": [
      "현 모델의 loss : 0.940241277217865\n",
      "현 모델의 accuracy : 0.59375\n",
      "저장된 모델 중 best모델 loss : 0.9731571078300476\n",
      "저장된 모델 중 best모델 accuracy : 0.5979166626930237\n"
     ]
    }
   ],
   "source": [
    "# 어떤 모델 쓸지 \n",
    "loss_and_acc = model.evaluate(X_test,Y_test, batch_size=32, verbose=0)\n",
    "print('현 모델의 loss :', loss_and_acc[0])\n",
    "print('현 모델의 accuracy :', loss_and_acc[1])\n",
    "model2 = load_model('model08/mnist030_val0.71429.h5')\n",
    "loss_and_acc_2 = model2.evaluate(X_test,Y_test, batch_size=32, verbose=0)\n",
    "print('저장된 모델 중 best모델 loss :', loss_and_acc_2[0])\n",
    "print('저장된 모델 중 best모델 accuracy :', loss_and_acc_2[1])"
   ]
  },
  {
   "cell_type": "code",
   "execution_count": 89,
   "id": "fee2f5f7",
   "metadata": {},
   "outputs": [
    {
     "name": "stdout",
     "output_type": "stream",
     "text": [
      "5/5 - 0s - loss: 0.9402 - accuracy: 0.5938 - 25ms/epoch - 5ms/step\n",
      "loss : 0.9402412176132202\n",
      "accuracy : 0.59375\n"
     ]
    }
   ],
   "source": [
    "# 모델 평가하기 \n",
    "loss_and_metrics = model.evaluate(X_test, Y_test, batch_size=100, verbose=2)\n",
    "print('loss :', loss_and_metrics[0])\n",
    "print('accuracy :', loss_and_metrics[1])"
   ]
  },
  {
   "cell_type": "code",
   "execution_count": 98,
   "id": "ed1721ed",
   "metadata": {},
   "outputs": [],
   "source": [
    "# 실제값\n",
    "y = Y_test.argmax(axis=1)"
   ]
  },
  {
   "cell_type": "code",
   "execution_count": 99,
   "id": "ef492bf9",
   "metadata": {},
   "outputs": [
    {
     "name": "stdout",
     "output_type": "stream",
     "text": [
      "15/15 [==============================] - 0s 1ms/step\n"
     ]
    },
    {
     "data": {
      "text/plain": [
       "array([6, 6, 5, 5, 5, 6, 7, 7, 5, 6, 5, 6, 5, 6, 5, 6, 5, 5, 6, 5, 6, 6,\n",
       "       6, 5, 5, 5, 6, 6, 6, 6, 6, 6, 6, 6, 7, 5, 6, 5, 6, 5, 5, 5, 5, 5,\n",
       "       5, 6, 5, 5, 6, 5, 6, 6, 6, 5, 6, 6, 6, 6, 6, 6, 5, 6, 5, 5, 5, 6,\n",
       "       5, 6, 6, 6, 6, 5, 5, 6, 6, 6, 5, 6, 5, 6, 6, 5, 5, 6, 5, 6, 5, 5,\n",
       "       6, 5, 5, 6, 6, 5, 6, 5, 5, 6, 5, 5, 5, 5, 5, 5, 5, 5, 5, 5, 6, 5,\n",
       "       6, 6, 5, 6, 6, 5, 6, 5, 6, 5, 5, 6, 5, 6, 6, 5, 5, 6, 6, 5, 6, 5,\n",
       "       5, 5, 5, 6, 5, 5, 6, 5, 5, 6, 6, 5, 5, 5, 5, 6, 6, 6, 5, 5, 6, 5,\n",
       "       6, 5, 6, 6, 6, 5, 7, 5, 5, 6, 6, 6, 5, 6, 6, 5, 6, 5, 5, 7, 5, 6,\n",
       "       6, 6, 6, 5, 7, 5, 5, 5, 5, 6, 5, 5, 5, 5, 7, 6, 6, 5, 5, 5, 6, 6,\n",
       "       6, 5, 6, 5, 5, 5, 6, 5, 6, 7, 6, 6, 6, 6, 5, 6, 5, 5, 5, 5, 5, 5,\n",
       "       5, 7, 6, 5, 5, 6, 6, 6, 5, 5, 6, 6, 5, 5, 5, 5, 5, 5, 5, 6, 6, 5,\n",
       "       6, 6, 6, 6, 7, 6, 5, 5, 5, 5, 7, 5, 6, 6, 6, 6, 5, 6, 5, 5, 5, 6,\n",
       "       6, 5, 5, 5, 6, 5, 6, 5, 6, 6, 5, 5, 5, 5, 6, 7, 6, 5, 6, 5, 5, 6,\n",
       "       5, 6, 5, 5, 5, 5, 5, 5, 6, 5, 6, 6, 5, 6, 5, 5, 7, 5, 5, 5, 6, 5,\n",
       "       6, 5, 5, 6, 5, 6, 5, 5, 5, 6, 5, 5, 6, 6, 5, 6, 6, 5, 6, 5, 5, 6,\n",
       "       5, 6, 5, 6, 5, 6, 5, 5, 7, 6, 5, 6, 6, 7, 5, 5, 5, 5, 5, 5, 5, 5,\n",
       "       5, 6, 6, 5, 6, 5, 5, 6, 5, 6, 6, 6, 7, 6, 6, 6, 5, 5, 5, 5, 5, 7,\n",
       "       5, 7, 5, 5, 5, 5, 6, 5, 7, 6, 6, 6, 6, 6, 6, 7, 6, 5, 5, 6, 5, 5,\n",
       "       5, 5, 6, 5, 6, 5, 6, 6, 5, 6, 6, 6, 7, 7, 6, 6, 6, 5, 5, 6, 5, 6,\n",
       "       5, 6, 5, 6, 6, 6, 5, 6, 6, 5, 7, 7, 5, 6, 5, 6, 5, 5, 7, 5, 5, 6,\n",
       "       6, 5, 5, 5, 7, 6, 6, 5, 5, 5, 5, 5, 7, 6, 7, 6, 6, 6, 6, 5, 5, 5,\n",
       "       5, 6, 5, 6, 5, 6, 5, 7, 6, 6, 6, 5, 6, 5, 6, 5, 6, 5], dtype=int64)"
      ]
     },
     "execution_count": 99,
     "metadata": {},
     "output_type": "execute_result"
    }
   ],
   "source": [
    "# 예측값\n",
    "yhat = model.predict(X_test).argmax(axis=1)\n",
    "yhat"
   ]
  },
  {
   "cell_type": "code",
   "execution_count": 106,
   "id": "696c8d68",
   "metadata": {},
   "outputs": [
    {
     "data": {
      "text/html": [
       "<div>\n",
       "<style scoped>\n",
       "    .dataframe tbody tr th:only-of-type {\n",
       "        vertical-align: middle;\n",
       "    }\n",
       "\n",
       "    .dataframe tbody tr th {\n",
       "        vertical-align: top;\n",
       "    }\n",
       "\n",
       "    .dataframe thead th {\n",
       "        text-align: right;\n",
       "    }\n",
       "</style>\n",
       "<table border=\"1\" class=\"dataframe\">\n",
       "  <thead>\n",
       "    <tr style=\"text-align: right;\">\n",
       "      <th>예측값</th>\n",
       "      <th>5</th>\n",
       "      <th>6</th>\n",
       "      <th>7</th>\n",
       "    </tr>\n",
       "    <tr>\n",
       "      <th>실제값</th>\n",
       "      <th></th>\n",
       "      <th></th>\n",
       "      <th></th>\n",
       "    </tr>\n",
       "  </thead>\n",
       "  <tbody>\n",
       "    <tr>\n",
       "      <th>3</th>\n",
       "      <td>2</td>\n",
       "      <td>1</td>\n",
       "      <td>0</td>\n",
       "    </tr>\n",
       "    <tr>\n",
       "      <th>4</th>\n",
       "      <td>13</td>\n",
       "      <td>3</td>\n",
       "      <td>0</td>\n",
       "    </tr>\n",
       "    <tr>\n",
       "      <th>5</th>\n",
       "      <td>158</td>\n",
       "      <td>45</td>\n",
       "      <td>1</td>\n",
       "    </tr>\n",
       "    <tr>\n",
       "      <th>6</th>\n",
       "      <td>69</td>\n",
       "      <td>112</td>\n",
       "      <td>11</td>\n",
       "    </tr>\n",
       "    <tr>\n",
       "      <th>7</th>\n",
       "      <td>2</td>\n",
       "      <td>43</td>\n",
       "      <td>15</td>\n",
       "    </tr>\n",
       "    <tr>\n",
       "      <th>8</th>\n",
       "      <td>0</td>\n",
       "      <td>3</td>\n",
       "      <td>2</td>\n",
       "    </tr>\n",
       "  </tbody>\n",
       "</table>\n",
       "</div>"
      ],
      "text/plain": [
       "예측값    5    6   7\n",
       "실제값              \n",
       "3      2    1   0\n",
       "4     13    3   0\n",
       "5    158   45   1\n",
       "6     69  112  11\n",
       "7      2   43  15\n",
       "8      0    3   2"
      ]
     },
     "execution_count": 106,
     "metadata": {},
     "output_type": "execute_result"
    }
   ],
   "source": [
    "pd.crosstab(y,yhat, rownames=['실제값'],colnames=['예측값'])"
   ]
  },
  {
   "cell_type": "code",
   "execution_count": 104,
   "id": "9d59ca63",
   "metadata": {},
   "outputs": [
    {
     "data": {
      "text/plain": [
       "array([[  0,   0,   2,   1,   0,   0],\n",
       "       [  0,   0,  13,   3,   0,   0],\n",
       "       [  0,   0, 158,  45,   1,   0],\n",
       "       [  0,   0,  69, 112,  11,   0],\n",
       "       [  0,   0,   2,  43,  15,   0],\n",
       "       [  0,   0,   0,   3,   2,   0]], dtype=int64)"
      ]
     },
     "execution_count": 104,
     "metadata": {},
     "output_type": "execute_result"
    }
   ],
   "source": [
    "confusion_matrix(y,yhat)"
   ]
  },
  {
   "cell_type": "code",
   "execution_count": 109,
   "id": "747f3e8e",
   "metadata": {},
   "outputs": [
    {
     "data": {
      "text/plain": [
       "42.921784579753876"
      ]
     },
     "execution_count": 109,
     "metadata": {},
     "output_type": "execute_result"
    }
   ],
   "source": [
    "# 틀린 갯수 \n",
    "# 전체 - 전체*정확도 = 틀린갯수\n",
    "1599-1599*loss_and_acc_2[0]"
   ]
  },
  {
   "cell_type": "code",
   "execution_count": 108,
   "id": "ab949743",
   "metadata": {},
   "outputs": [
    {
     "name": "stdout",
     "output_type": "stream",
     "text": [
      "틀린갯수 : 195\n"
     ]
    }
   ],
   "source": [
    "cnt = 0\n",
    "for y,h in zip(y, yhat):\n",
    "    if y!=h:\n",
    "        cnt += 1\n",
    "print('틀린갯수 :', cnt)"
   ]
  },
  {
   "cell_type": "code",
   "execution_count": 102,
   "id": "147ebad6",
   "metadata": {},
   "outputs": [],
   "source": [
    "model.save('model/09wine.h5')"
   ]
  }
 ],
 "metadata": {
  "kernelspec": {
   "display_name": "ml-dl-nlp",
   "language": "python",
   "name": "ml-dl-nlp"
  },
  "language_info": {
   "codemirror_mode": {
    "name": "ipython",
    "version": 3
   },
   "file_extension": ".py",
   "mimetype": "text/x-python",
   "name": "python",
   "nbconvert_exporter": "python",
   "pygments_lexer": "ipython3",
   "version": "3.10.18"
  },
  "toc": {
   "base_numbering": 1,
   "nav_menu": {},
   "number_sections": false,
   "sideBar": true,
   "skip_h1_title": false,
   "title_cell": "Table of Contents",
   "title_sidebar": "Contents",
   "toc_cell": false,
   "toc_position": {
    "height": "calc(100% - 180px)",
    "left": "10px",
    "top": "150px",
    "width": "165px"
   },
   "toc_section_display": true,
   "toc_window_display": true
  }
 },
 "nbformat": 4,
 "nbformat_minor": 5
}
