{
 "cells": [
  {
   "cell_type": "code",
   "execution_count": 1,
   "id": "308382a7",
   "metadata": {},
   "outputs": [
    {
     "data": {
      "text/html": [
       "\n",
       "<style>\n",
       "div.container{width:86% !important;}\n",
       "div.cell.code_cell.rendered{width:100%;}\n",
       "div.CodeMirror {font-family:Consolas; font-size:15pt;}\n",
       "div.output {font-size:15pt; font-weight:bold;}\n",
       "div.input {font-family:Consolas; font-size:15pt;}\n",
       "div.prompt {min-width:70px;}\n",
       "div#toc-wrapper{padding-top:120px;}\n",
       "div.text_cell_render ul li{font-size:12pt;padding:5px;}\n",
       "table.dataframe{font-size:15px;}\n",
       "</style>\n",
       " "
      ],
      "text/plain": [
       "<IPython.core.display.HTML object>"
      ]
     },
     "metadata": {},
     "output_type": "display_data"
    }
   ],
   "source": [
    "from IPython.display import display, HTML \n",
    "display(HTML(\"\"\"\n",
    "<style>\n",
    "div.container{width:86% !important;}\n",
    "div.cell.code_cell.rendered{width:100%;}\n",
    "div.CodeMirror {font-family:Consolas; font-size:15pt;}\n",
    "div.output {font-size:15pt; font-weight:bold;}\n",
    "div.input {font-family:Consolas; font-size:15pt;}\n",
    "div.prompt {min-width:70px;}\n",
    "div#toc-wrapper{padding-top:120px;}\n",
    "div.text_cell_render ul li{font-size:12pt;padding:5px;}\n",
    "table.dataframe{font-size:15px;}\n",
    "</style>\n",
    " \"\"\"))"
   ]
  },
  {
   "cell_type": "code",
   "execution_count": 2,
   "id": "d1b7c804",
   "metadata": {},
   "outputs": [],
   "source": [
    "from tensorflow.keras.utils import to_categorical # 분류분석시 원핫인코딩 (전처리에 필요한것)\n",
    "from tensorflow.keras.models import Sequential #모델생성\n",
    "from tensorflow.keras.layers import Dense, Input\n",
    "import numpy as np"
   ]
  },
  {
   "cell_type": "markdown",
   "id": "815d4760",
   "metadata": {},
   "source": [
    "# 머신러닝/딥러닝 : 데이터의 법칙성을 추출 \n",
    "- 다양한 분야에서 응용 : 글씨인식, 문장분류, 질병진단 / 얼굴인식, 음성인식 \\\n",
    "\n",
    "<span style=\"color:red; font-size: 18px; font-weight: bold;\">※ ML/DL의 종류 </span>\n",
    "- 지도학습(독립=입력변수와 종속=타켓=출력변수가 모두 주어졌을 경우) \\\n",
    "    회귀분석 (타겟변수가 연속형) vs 분류분석(multi-다중(아주춥다,춥다,보통,덥다,아주덥다 등), binary-2개(이진)(춥다,덥다))\n",
    "- 비지도학습(입력변수만) / 답을 안 가르쳐줌\n",
    "    군집분석, 군집화 (어떻게 분류되는지는 모름, 컴퓨터가 알아서 분류 함)\n",
    "- 강화학습\n",
    "\n",
    "<span style=\"color:green; font-size: 18px; font-weight: bold;\"> ※지도 학습에서의 ML,DL 프로그래밍 방식 </span>\n",
    "1.  **데이터 셋 확보(input=입력변수, target=종속변수)** \\\n",
    "    원본 데이터 및 시뮬레이션을 통해 데이터 생성 확보 필요 (다량의 데이터가 필요)\n",
    "    <br>    \n",
    "2. **데이터 전처리** \\\n",
    "    스케일 조정 \\\n",
    "    훈련셋(학습셋), 검증셋, 시험셋(테스트셋)\\\n",
    "    학습 및 평가 가능한 포맷으로 변환\n",
    "    <br>\n",
    "3. **모델 구성** \\\n",
    "    Sequential 객체 생성뒤 필요한 층(식)을 add()함수를 이용해서 추가\n",
    "<br>    \n",
    "4. **모델 학습과정 설정**\\\n",
    "    compile()함수 이용. 손실함수, optimizer,metrics(평가지표) \n",
    "    <br> \n",
    "5. **모델 학습 시키기 (ft. 학습과정 지켜보기**)\\\n",
    "    fit()함수 이용 - 훈련셋입력=독립변수, 훈련셋타겟=종속변수, 학습횟수, 검증셋\n",
    "    <br>\n",
    "6. **모델 평가**\\\n",
    "    시험셋(테스트셋)을 인자로 넣은 evaluate()함수 이용, 그래프\n",
    "    <br>\n",
    "7. **모델 사용**\\\n",
    "    predict()이용. 입력데이터는 2차원[[0]]\n",
    "    <br>\n",
    "8. **모델 저장**\\\n",
    "    save()함수를 이용해서 저장. 저장된 모델은 load_model()함수를 이용해서 불러올 수 있음\n",
    "    <br>\n",
    "    \n",
    "    "
   ]
  },
  {
   "cell_type": "markdown",
   "id": "2513e84b",
   "metadata": {},
   "source": [
    "# 1.데이터셋 확보"
   ]
  },
  {
   "cell_type": "markdown",
   "id": "563a0762",
   "metadata": {},
   "source": [
    "# 2.데이터 전처리"
   ]
  },
  {
   "cell_type": "code",
   "execution_count": 72,
   "id": "a0d822ec",
   "metadata": {},
   "outputs": [
    {
     "name": "stdout",
     "output_type": "stream",
     "text": [
      "x_train의 값 : (90,)\n",
      "y_train의 값 : (90,)\n",
      "x_val의 값 : (9,)\n",
      "y_val의 값 : (9,)\n",
      "x_test의 값 : (9,)\n",
      "y_test의 값 : (9,)\n"
     ]
    },
    {
     "data": {
      "text/plain": [
       "(None, None)"
      ]
     },
     "execution_count": 72,
     "metadata": {},
     "output_type": "execute_result"
    }
   ],
   "source": [
    "# 학습데이터 = 훈련데이터\n",
    "x_train = np.array([1,2,3,4,5,6,7,8,9]*10)\n",
    "# y_train = np.array(['a','b','c','d']) #문자를 숫자로 바꿔야 함. \n",
    "y_train = np.array([2,4,6,8,10,12,14,16,18]*10) #숫자가 아니라 2그룹, 4그룹 으로 읽음\n",
    "print('x_train의 값 :',x_train.shape), print('y_train의 값 :',y_train.shape)\n",
    "\n",
    "# 검증데이터\n",
    "x_val = np.array([1,2,3,4,5,6,7,8,9])\n",
    "y_val = np.array([2,4,6,8,10,12,14,16,18])\n",
    "print('x_val의 값 :',x_val.shape), print('y_val의 값 :',y_val.shape)\n",
    "\n",
    "# 테스트셋 = 시험데이터 \n",
    "x_test = np.array([1,2,3,4,5,6,7,8,9])\n",
    "y_test = np.array([2,4,6,8,10,12,14,16,18])\n",
    "print('x_test의 값 :',x_test.shape), print('y_test의 값 :',y_test.shape)\n",
    "\n",
    "# 스케일 조정하지 않고 넣으면 큰일남"
   ]
  },
  {
   "cell_type": "code",
   "execution_count": 23,
   "id": "8cced0c1",
   "metadata": {},
   "outputs": [
    {
     "name": "stdout",
     "output_type": "stream",
     "text": [
      "원 데이터 : ['a' 'b' 'c' 'd']\n",
      "라벨인코딩된 데이터 : [0 1 2 3]\n",
      "원핫인코딩된 데이터 :\n",
      " [[1. 0. 0. 0.]\n",
      " [0. 1. 0. 0.]\n",
      " [0. 0. 1. 0.]\n",
      " [0. 0. 0. 1.]]\n"
     ]
    }
   ],
   "source": [
    "# 인코딩 종류\n",
    "data = np.array(['a','b','c','d'])\n",
    "print('원 데이터 :', data)\n",
    "from sklearn.preprocessing import LabelEncoder\n",
    "le = LabelEncoder() #라벨인코딩 객체 만들기\n",
    "le.fit(data)\n",
    "labeled_data = le.fit_transform(data)\n",
    "print('라벨인코딩된 데이터 :', labeled_data)\n",
    "one_hot_encoded_data = to_categorical(labeled_data)\n",
    "print('원핫인코딩된 데이터 :\\n',one_hot_encoded_data)"
   ]
  },
  {
   "cell_type": "code",
   "execution_count": 35,
   "id": "6e7b142f",
   "metadata": {},
   "outputs": [
    {
     "name": "stdout",
     "output_type": "stream",
     "text": [
      "[1 2 2 4 2]\n",
      "to_categorical을 이용한 원핫인코딩 :\n",
      " [[0. 1. 0. 0. 0.]\n",
      " [0. 0. 1. 0. 0.]\n",
      " [0. 0. 1. 0. 0.]\n",
      " [0. 0. 0. 0. 1.]\n",
      " [0. 0. 1. 0. 0.]]\n"
     ]
    },
    {
     "data": {
      "text/plain": [
       "'get_dumies를 이용한 원핫인코딩 :'"
      ]
     },
     "metadata": {},
     "output_type": "display_data"
    },
    {
     "data": {
      "text/html": [
       "<div>\n",
       "<style scoped>\n",
       "    .dataframe tbody tr th:only-of-type {\n",
       "        vertical-align: middle;\n",
       "    }\n",
       "\n",
       "    .dataframe tbody tr th {\n",
       "        vertical-align: top;\n",
       "    }\n",
       "\n",
       "    .dataframe thead th {\n",
       "        text-align: right;\n",
       "    }\n",
       "</style>\n",
       "<table border=\"1\" class=\"dataframe\">\n",
       "  <thead>\n",
       "    <tr style=\"text-align: right;\">\n",
       "      <th></th>\n",
       "      <th>1</th>\n",
       "      <th>2</th>\n",
       "      <th>4</th>\n",
       "    </tr>\n",
       "  </thead>\n",
       "  <tbody>\n",
       "    <tr>\n",
       "      <th>0</th>\n",
       "      <td>1</td>\n",
       "      <td>0</td>\n",
       "      <td>0</td>\n",
       "    </tr>\n",
       "    <tr>\n",
       "      <th>1</th>\n",
       "      <td>0</td>\n",
       "      <td>1</td>\n",
       "      <td>0</td>\n",
       "    </tr>\n",
       "    <tr>\n",
       "      <th>2</th>\n",
       "      <td>0</td>\n",
       "      <td>1</td>\n",
       "      <td>0</td>\n",
       "    </tr>\n",
       "    <tr>\n",
       "      <th>3</th>\n",
       "      <td>0</td>\n",
       "      <td>0</td>\n",
       "      <td>1</td>\n",
       "    </tr>\n",
       "    <tr>\n",
       "      <th>4</th>\n",
       "      <td>0</td>\n",
       "      <td>1</td>\n",
       "      <td>0</td>\n",
       "    </tr>\n",
       "  </tbody>\n",
       "</table>\n",
       "</div>"
      ],
      "text/plain": [
       "   1  2  4\n",
       "0  1  0  0\n",
       "1  0  1  0\n",
       "2  0  1  0\n",
       "3  0  0  1\n",
       "4  0  1  0"
      ]
     },
     "metadata": {},
     "output_type": "display_data"
    },
    {
     "name": "stdout",
     "output_type": "stream",
     "text": [
      "<class 'numpy.ndarray'>\n",
      "<class 'pandas.core.frame.DataFrame'>\n"
     ]
    }
   ],
   "source": [
    "# 분류분석을 위해, target을 원핫인코딩(라벨링 전환)\n",
    "data = np.array([1,2,2,4,2])\n",
    "print(data)\n",
    "categorical_one_hot = to_categorical(data)\n",
    "print('to_categorical을 이용한 원핫인코딩 :\\n', categorical_one_hot)\n",
    "import pandas as pd\n",
    "get_dumies_one_hot = pd.get_dummies(data)\n",
    "display('get_dumies를 이용한 원핫인코딩 :', get_dumies_one_hot)\n",
    "print(type(categorical_one_hot))\n",
    "print(type(get_dumies_one_hot))"
   ]
  },
  {
   "cell_type": "code",
   "execution_count": 75,
   "id": "2afac0b9",
   "metadata": {},
   "outputs": [],
   "source": [
    "#분류분석을 위한 target 변수 라벨링 전환(=원핫인코딩)\n",
    "Y_train = to_categorical(y_train, 19)\n",
    "Y_val = to_categorical(y_val)\n",
    "Y_test = to_categorical(y_test)"
   ]
  },
  {
   "cell_type": "code",
   "execution_count": 76,
   "id": "0a67ea6c",
   "metadata": {},
   "outputs": [
    {
     "name": "stdout",
     "output_type": "stream",
     "text": [
      "훈련데이터셋 구조: (90,) (90, 19)\n",
      "검증데이터셋 구조: (9,) (9, 19)\n",
      "검증데이터셋 구조: (9,) (9, 19)\n"
     ]
    }
   ],
   "source": [
    "print('훈련데이터셋 구조:',x_train.shape, Y_train.shape) # 독립변수1개, 타겟변수 19개 들어가는것\n",
    "print('검증데이터셋 구조:',x_val.shape, Y_val.shape)\n",
    "print('검증데이터셋 구조:',x_test.shape, Y_test.shape)"
   ]
  },
  {
   "cell_type": "markdown",
   "id": "1eb76c7b",
   "metadata": {},
   "source": [
    "# 3. 모델 구성하기"
   ]
  },
  {
   "cell_type": "code",
   "execution_count": 77,
   "id": "22bb58bb",
   "metadata": {},
   "outputs": [
    {
     "name": "stdout",
     "output_type": "stream",
     "text": [
      "Model: \"sequential_5\"\n",
      "_________________________________________________________________\n",
      " Layer (type)                Output Shape              Param #   \n",
      "=================================================================\n",
      " dense_20 (Dense)            (None, 38)                76        \n",
      "                                                                 \n",
      " dense_21 (Dense)            (None, 64)                2496      \n",
      "                                                                 \n",
      " dense_22 (Dense)            (None, 32)                2080      \n",
      "                                                                 \n",
      " dense_23 (Dense)            (None, 19)                627       \n",
      "                                                                 \n",
      "=================================================================\n",
      "Total params: 5,279\n",
      "Trainable params: 5,279\n",
      "Non-trainable params: 0\n",
      "_________________________________________________________________\n"
     ]
    }
   ],
   "source": [
    "model = Sequential() #객체 만들기\n",
    "model.add(Input(shape=(1,))) #입력층\n",
    "model.add(Dense(units=38, activation='sigmoid')) #units은 출력수, 활성화 함수 : relu, tanh\n",
    "model.add(Dense(units=64, activation='elu'))\n",
    "model.add(Dense(units=32, activation='elu'))\n",
    "model.add(Dense(units=19, activation='softmax')) \n",
    "#softmax : 모든 출력결과의 합이 1(100%) / 분류분석 마지막 layer(출력층)에서 activation()(활성화 함수)로 사용\n",
    "model.summary()"
   ]
  },
  {
   "cell_type": "markdown",
   "id": "c6cc2a98",
   "metadata": {},
   "source": [
    "# 4. 모델 학습 과정 설정 "
   ]
  },
  {
   "cell_type": "code",
   "execution_count": 38,
   "id": "56d3e6e9",
   "metadata": {},
   "outputs": [],
   "source": [
    "model.compile(loss=\"categorical_crossentropy\", # 분류분석에서의 손실함수(원핫인코딩 진행 했다는 전제조건으로)\n",
    "              optimizer=\"sgd\",\n",
    "              metrics=['accuracy']) # 평가지표 : accuracy (얼마나 맞추는지? 맞추는것에 초점)"
   ]
  },
  {
   "cell_type": "markdown",
   "id": "dbe7130f",
   "metadata": {},
   "source": [
    "# 5. 모델 학습 시키기 (Y뭘까)\n"
   ]
  },
  {
   "cell_type": "code",
   "execution_count": 39,
   "id": "305677e8",
   "metadata": {
    "collapsed": true
   },
   "outputs": [
    {
     "name": "stdout",
     "output_type": "stream",
     "text": [
      "Epoch 1/300\n",
      "9/9 - 1s - loss: 2.8685 - accuracy: 0.0444 - val_loss: 2.7659 - val_accuracy: 0.1111 - 535ms/epoch - 59ms/step\n",
      "Epoch 2/300\n",
      "9/9 - 0s - loss: 2.7264 - accuracy: 0.1111 - val_loss: 2.6574 - val_accuracy: 0.1111 - 43ms/epoch - 5ms/step\n",
      "Epoch 3/300\n",
      "9/9 - 0s - loss: 2.6313 - accuracy: 0.1111 - val_loss: 2.5819 - val_accuracy: 0.1111 - 45ms/epoch - 5ms/step\n",
      "Epoch 4/300\n",
      "9/9 - 0s - loss: 2.5688 - accuracy: 0.1111 - val_loss: 2.5242 - val_accuracy: 0.1111 - 38ms/epoch - 4ms/step\n",
      "Epoch 5/300\n",
      "9/9 - 0s - loss: 2.5169 - accuracy: 0.1111 - val_loss: 2.4778 - val_accuracy: 0.1111 - 46ms/epoch - 5ms/step\n",
      "Epoch 6/300\n",
      "9/9 - 0s - loss: 2.4727 - accuracy: 0.1111 - val_loss: 2.4395 - val_accuracy: 0.1111 - 41ms/epoch - 5ms/step\n",
      "Epoch 7/300\n",
      "9/9 - 0s - loss: 2.4370 - accuracy: 0.1111 - val_loss: 2.4068 - val_accuracy: 0.1111 - 43ms/epoch - 5ms/step\n",
      "Epoch 8/300\n",
      "9/9 - 0s - loss: 2.4060 - accuracy: 0.1111 - val_loss: 2.3787 - val_accuracy: 0.1111 - 48ms/epoch - 5ms/step\n",
      "Epoch 9/300\n",
      "9/9 - 0s - loss: 2.3818 - accuracy: 0.1111 - val_loss: 2.3539 - val_accuracy: 0.1111 - 35ms/epoch - 4ms/step\n",
      "Epoch 10/300\n",
      "9/9 - 0s - loss: 2.3588 - accuracy: 0.0889 - val_loss: 2.3320 - val_accuracy: 0.1111 - 35ms/epoch - 4ms/step\n",
      "Epoch 11/300\n",
      "9/9 - 0s - loss: 2.3357 - accuracy: 0.1000 - val_loss: 2.3127 - val_accuracy: 0.1111 - 47ms/epoch - 5ms/step\n",
      "Epoch 12/300\n",
      "9/9 - 0s - loss: 2.3218 - accuracy: 0.1111 - val_loss: 2.2953 - val_accuracy: 0.1111 - 41ms/epoch - 5ms/step\n",
      "Epoch 13/300\n",
      "9/9 - 0s - loss: 2.3053 - accuracy: 0.1222 - val_loss: 2.2796 - val_accuracy: 0.1111 - 46ms/epoch - 5ms/step\n",
      "Epoch 14/300\n",
      "9/9 - 0s - loss: 2.2893 - accuracy: 0.1111 - val_loss: 2.2655 - val_accuracy: 0.1111 - 48ms/epoch - 5ms/step\n",
      "Epoch 15/300\n",
      "9/9 - 0s - loss: 2.2704 - accuracy: 0.1111 - val_loss: 2.2526 - val_accuracy: 0.1111 - 40ms/epoch - 4ms/step\n",
      "Epoch 16/300\n",
      "9/9 - 0s - loss: 2.2671 - accuracy: 0.0778 - val_loss: 2.2410 - val_accuracy: 0.1111 - 46ms/epoch - 5ms/step\n",
      "Epoch 17/300\n",
      "9/9 - 0s - loss: 2.2520 - accuracy: 0.1222 - val_loss: 2.2300 - val_accuracy: 0.1111 - 46ms/epoch - 5ms/step\n",
      "Epoch 18/300\n",
      "9/9 - 0s - loss: 2.2437 - accuracy: 0.1111 - val_loss: 2.2202 - val_accuracy: 0.1111 - 42ms/epoch - 5ms/step\n",
      "Epoch 19/300\n",
      "9/9 - 0s - loss: 2.2363 - accuracy: 0.1000 - val_loss: 2.2109 - val_accuracy: 0.1111 - 42ms/epoch - 5ms/step\n",
      "Epoch 20/300\n",
      "9/9 - 0s - loss: 2.2251 - accuracy: 0.0778 - val_loss: 2.2022 - val_accuracy: 0.1111 - 50ms/epoch - 6ms/step\n",
      "Epoch 21/300\n",
      "9/9 - 0s - loss: 2.2167 - accuracy: 0.1111 - val_loss: 2.1941 - val_accuracy: 0.2222 - 41ms/epoch - 5ms/step\n",
      "Epoch 22/300\n",
      "9/9 - 0s - loss: 2.2122 - accuracy: 0.0889 - val_loss: 2.1866 - val_accuracy: 0.2222 - 45ms/epoch - 5ms/step\n",
      "Epoch 23/300\n",
      "9/9 - 0s - loss: 2.2050 - accuracy: 0.1333 - val_loss: 2.1790 - val_accuracy: 0.2222 - 39ms/epoch - 4ms/step\n",
      "Epoch 24/300\n",
      "9/9 - 0s - loss: 2.1930 - accuracy: 0.1444 - val_loss: 2.1717 - val_accuracy: 0.2222 - 46ms/epoch - 5ms/step\n",
      "Epoch 25/300\n",
      "9/9 - 0s - loss: 2.1884 - accuracy: 0.1889 - val_loss: 2.1647 - val_accuracy: 0.1111 - 53ms/epoch - 6ms/step\n",
      "Epoch 26/300\n",
      "9/9 - 0s - loss: 2.1790 - accuracy: 0.1778 - val_loss: 2.1578 - val_accuracy: 0.1111 - 43ms/epoch - 5ms/step\n",
      "Epoch 27/300\n",
      "9/9 - 0s - loss: 2.1746 - accuracy: 0.1111 - val_loss: 2.1511 - val_accuracy: 0.2222 - 42ms/epoch - 5ms/step\n",
      "Epoch 28/300\n",
      "9/9 - 0s - loss: 2.1692 - accuracy: 0.1667 - val_loss: 2.1446 - val_accuracy: 0.2222 - 42ms/epoch - 5ms/step\n",
      "Epoch 29/300\n",
      "9/9 - 0s - loss: 2.1613 - accuracy: 0.1889 - val_loss: 2.1378 - val_accuracy: 0.2222 - 33ms/epoch - 4ms/step\n",
      "Epoch 30/300\n",
      "9/9 - 0s - loss: 2.1566 - accuracy: 0.1778 - val_loss: 2.1313 - val_accuracy: 0.2222 - 45ms/epoch - 5ms/step\n",
      "Epoch 31/300\n",
      "9/9 - 0s - loss: 2.1535 - accuracy: 0.2111 - val_loss: 2.1248 - val_accuracy: 0.2222 - 41ms/epoch - 5ms/step\n",
      "Epoch 32/300\n",
      "9/9 - 0s - loss: 2.1436 - accuracy: 0.1778 - val_loss: 2.1181 - val_accuracy: 0.2222 - 42ms/epoch - 5ms/step\n",
      "Epoch 33/300\n",
      "9/9 - 0s - loss: 2.1407 - accuracy: 0.1667 - val_loss: 2.1116 - val_accuracy: 0.2222 - 40ms/epoch - 4ms/step\n",
      "Epoch 34/300\n",
      "9/9 - 0s - loss: 2.1247 - accuracy: 0.1889 - val_loss: 2.1049 - val_accuracy: 0.2222 - 50ms/epoch - 6ms/step\n",
      "Epoch 35/300\n",
      "9/9 - 0s - loss: 2.1254 - accuracy: 0.2111 - val_loss: 2.0979 - val_accuracy: 0.2222 - 37ms/epoch - 4ms/step\n",
      "Epoch 36/300\n",
      "9/9 - 0s - loss: 2.1162 - accuracy: 0.2111 - val_loss: 2.0912 - val_accuracy: 0.2222 - 46ms/epoch - 5ms/step\n",
      "Epoch 37/300\n",
      "9/9 - 0s - loss: 2.1115 - accuracy: 0.1556 - val_loss: 2.0843 - val_accuracy: 0.2222 - 41ms/epoch - 5ms/step\n",
      "Epoch 38/300\n",
      "9/9 - 0s - loss: 2.1007 - accuracy: 0.1778 - val_loss: 2.0774 - val_accuracy: 0.3333 - 42ms/epoch - 5ms/step\n",
      "Epoch 39/300\n",
      "9/9 - 0s - loss: 2.0989 - accuracy: 0.2222 - val_loss: 2.0699 - val_accuracy: 0.2222 - 47ms/epoch - 5ms/step\n",
      "Epoch 40/300\n",
      "9/9 - 0s - loss: 2.0902 - accuracy: 0.1889 - val_loss: 2.0622 - val_accuracy: 0.2222 - 34ms/epoch - 4ms/step\n",
      "Epoch 41/300\n",
      "9/9 - 0s - loss: 2.0871 - accuracy: 0.2222 - val_loss: 2.0545 - val_accuracy: 0.2222 - 35ms/epoch - 4ms/step\n",
      "Epoch 42/300\n",
      "9/9 - 0s - loss: 2.0755 - accuracy: 0.2444 - val_loss: 2.0468 - val_accuracy: 0.2222 - 48ms/epoch - 5ms/step\n",
      "Epoch 43/300\n",
      "9/9 - 0s - loss: 2.0636 - accuracy: 0.2222 - val_loss: 2.0389 - val_accuracy: 0.2222 - 41ms/epoch - 5ms/step\n",
      "Epoch 44/300\n",
      "9/9 - 0s - loss: 2.0593 - accuracy: 0.1778 - val_loss: 2.0315 - val_accuracy: 0.2222 - 42ms/epoch - 5ms/step\n",
      "Epoch 45/300\n",
      "9/9 - 0s - loss: 2.0429 - accuracy: 0.2222 - val_loss: 2.0230 - val_accuracy: 0.2222 - 41ms/epoch - 5ms/step\n",
      "Epoch 46/300\n",
      "9/9 - 0s - loss: 2.0443 - accuracy: 0.2333 - val_loss: 2.0140 - val_accuracy: 0.2222 - 42ms/epoch - 5ms/step\n",
      "Epoch 47/300\n",
      "9/9 - 0s - loss: 2.0370 - accuracy: 0.1778 - val_loss: 2.0052 - val_accuracy: 0.2222 - 42ms/epoch - 5ms/step\n",
      "Epoch 48/300\n",
      "9/9 - 0s - loss: 2.0259 - accuracy: 0.2111 - val_loss: 1.9965 - val_accuracy: 0.2222 - 41ms/epoch - 5ms/step\n",
      "Epoch 49/300\n",
      "9/9 - 0s - loss: 2.0067 - accuracy: 0.1778 - val_loss: 1.9879 - val_accuracy: 0.3333 - 46ms/epoch - 5ms/step\n",
      "Epoch 50/300\n",
      "9/9 - 0s - loss: 2.0174 - accuracy: 0.2333 - val_loss: 1.9792 - val_accuracy: 0.3333 - 47ms/epoch - 5ms/step\n",
      "Epoch 51/300\n",
      "9/9 - 0s - loss: 2.0038 - accuracy: 0.2111 - val_loss: 1.9697 - val_accuracy: 0.3333 - 57ms/epoch - 6ms/step\n",
      "Epoch 52/300\n",
      "9/9 - 0s - loss: 2.0026 - accuracy: 0.1000 - val_loss: 1.9606 - val_accuracy: 0.2222 - 42ms/epoch - 5ms/step\n",
      "Epoch 53/300\n",
      "9/9 - 0s - loss: 1.9834 - accuracy: 0.2000 - val_loss: 1.9504 - val_accuracy: 0.2222 - 44ms/epoch - 5ms/step\n",
      "Epoch 54/300\n",
      "9/9 - 0s - loss: 1.9626 - accuracy: 0.2111 - val_loss: 1.9406 - val_accuracy: 0.2222 - 48ms/epoch - 5ms/step\n",
      "Epoch 55/300\n",
      "9/9 - 0s - loss: 1.9548 - accuracy: 0.2000 - val_loss: 1.9309 - val_accuracy: 0.2222 - 50ms/epoch - 6ms/step\n",
      "Epoch 56/300\n",
      "9/9 - 0s - loss: 1.9503 - accuracy: 0.1778 - val_loss: 1.9209 - val_accuracy: 0.2222 - 50ms/epoch - 6ms/step\n",
      "Epoch 57/300\n",
      "9/9 - 0s - loss: 1.9370 - accuracy: 0.1889 - val_loss: 1.9117 - val_accuracy: 0.2222 - 50ms/epoch - 6ms/step\n",
      "Epoch 58/300\n",
      "9/9 - 0s - loss: 1.9351 - accuracy: 0.2778 - val_loss: 1.9005 - val_accuracy: 0.2222 - 50ms/epoch - 6ms/step\n",
      "Epoch 59/300\n",
      "9/9 - 0s - loss: 1.9281 - accuracy: 0.2333 - val_loss: 1.8902 - val_accuracy: 0.2222 - 41ms/epoch - 5ms/step\n",
      "Epoch 60/300\n",
      "9/9 - 0s - loss: 1.9075 - accuracy: 0.2000 - val_loss: 1.8798 - val_accuracy: 0.2222 - 50ms/epoch - 6ms/step\n",
      "Epoch 61/300\n",
      "9/9 - 0s - loss: 1.9017 - accuracy: 0.2333 - val_loss: 1.8697 - val_accuracy: 0.2222 - 41ms/epoch - 5ms/step\n",
      "Epoch 62/300\n",
      "9/9 - 0s - loss: 1.8984 - accuracy: 0.2333 - val_loss: 1.8593 - val_accuracy: 0.3333 - 50ms/epoch - 6ms/step\n",
      "Epoch 63/300\n",
      "9/9 - 0s - loss: 1.8811 - accuracy: 0.2000 - val_loss: 1.8477 - val_accuracy: 0.2222 - 42ms/epoch - 5ms/step\n",
      "Epoch 64/300\n",
      "9/9 - 0s - loss: 1.8686 - accuracy: 0.1667 - val_loss: 1.8365 - val_accuracy: 0.3333 - 46ms/epoch - 5ms/step\n",
      "Epoch 65/300\n",
      "9/9 - 0s - loss: 1.8528 - accuracy: 0.2333 - val_loss: 1.8253 - val_accuracy: 0.2222 - 46ms/epoch - 5ms/step\n",
      "Epoch 66/300\n",
      "9/9 - 0s - loss: 1.8385 - accuracy: 0.2000 - val_loss: 1.8140 - val_accuracy: 0.3333 - 31ms/epoch - 3ms/step\n",
      "Epoch 67/300\n",
      "9/9 - 0s - loss: 1.8305 - accuracy: 0.2000 - val_loss: 1.8027 - val_accuracy: 0.2222 - 39ms/epoch - 4ms/step\n",
      "Epoch 68/300\n",
      "9/9 - 0s - loss: 1.8209 - accuracy: 0.1889 - val_loss: 1.7918 - val_accuracy: 0.2222 - 43ms/epoch - 5ms/step\n"
     ]
    },
    {
     "name": "stdout",
     "output_type": "stream",
     "text": [
      "Epoch 69/300\n",
      "9/9 - 0s - loss: 1.8099 - accuracy: 0.2889 - val_loss: 1.7812 - val_accuracy: 0.2222 - 42ms/epoch - 5ms/step\n",
      "Epoch 70/300\n",
      "9/9 - 0s - loss: 1.8009 - accuracy: 0.2111 - val_loss: 1.7692 - val_accuracy: 0.2222 - 41ms/epoch - 5ms/step\n",
      "Epoch 71/300\n",
      "9/9 - 0s - loss: 1.7950 - accuracy: 0.1889 - val_loss: 1.7585 - val_accuracy: 0.2222 - 44ms/epoch - 5ms/step\n",
      "Epoch 72/300\n",
      "9/9 - 0s - loss: 1.7849 - accuracy: 0.2000 - val_loss: 1.7475 - val_accuracy: 0.3333 - 48ms/epoch - 5ms/step\n",
      "Epoch 73/300\n",
      "9/9 - 0s - loss: 1.7719 - accuracy: 0.2333 - val_loss: 1.7361 - val_accuracy: 0.3333 - 41ms/epoch - 5ms/step\n",
      "Epoch 74/300\n",
      "9/9 - 0s - loss: 1.7663 - accuracy: 0.2556 - val_loss: 1.7257 - val_accuracy: 0.3333 - 48ms/epoch - 5ms/step\n",
      "Epoch 75/300\n",
      "9/9 - 0s - loss: 1.7357 - accuracy: 0.3667 - val_loss: 1.7137 - val_accuracy: 0.3333 - 44ms/epoch - 5ms/step\n",
      "Epoch 76/300\n",
      "9/9 - 0s - loss: 1.7509 - accuracy: 0.2444 - val_loss: 1.7034 - val_accuracy: 0.3333 - 40ms/epoch - 4ms/step\n",
      "Epoch 77/300\n",
      "9/9 - 0s - loss: 1.7276 - accuracy: 0.2778 - val_loss: 1.6926 - val_accuracy: 0.3333 - 38ms/epoch - 4ms/step\n",
      "Epoch 78/300\n",
      "9/9 - 0s - loss: 1.7110 - accuracy: 0.2667 - val_loss: 1.6818 - val_accuracy: 0.2222 - 38ms/epoch - 4ms/step\n",
      "Epoch 79/300\n",
      "9/9 - 0s - loss: 1.7056 - accuracy: 0.2111 - val_loss: 1.6704 - val_accuracy: 0.4444 - 37ms/epoch - 4ms/step\n",
      "Epoch 80/300\n",
      "9/9 - 0s - loss: 1.6867 - accuracy: 0.3778 - val_loss: 1.6604 - val_accuracy: 0.4444 - 45ms/epoch - 5ms/step\n",
      "Epoch 81/300\n",
      "9/9 - 0s - loss: 1.6860 - accuracy: 0.2556 - val_loss: 1.6481 - val_accuracy: 0.4444 - 48ms/epoch - 5ms/step\n",
      "Epoch 82/300\n",
      "9/9 - 0s - loss: 1.6678 - accuracy: 0.3444 - val_loss: 1.6391 - val_accuracy: 0.5556 - 33ms/epoch - 4ms/step\n",
      "Epoch 83/300\n",
      "9/9 - 0s - loss: 1.6561 - accuracy: 0.3667 - val_loss: 1.6269 - val_accuracy: 0.4444 - 42ms/epoch - 5ms/step\n",
      "Epoch 84/300\n",
      "9/9 - 0s - loss: 1.6494 - accuracy: 0.2889 - val_loss: 1.6169 - val_accuracy: 0.4444 - 38ms/epoch - 4ms/step\n",
      "Epoch 85/300\n",
      "9/9 - 0s - loss: 1.6352 - accuracy: 0.4444 - val_loss: 1.6066 - val_accuracy: 0.5556 - 42ms/epoch - 5ms/step\n",
      "Epoch 86/300\n",
      "9/9 - 0s - loss: 1.6285 - accuracy: 0.3222 - val_loss: 1.5996 - val_accuracy: 0.3333 - 41ms/epoch - 5ms/step\n",
      "Epoch 87/300\n",
      "9/9 - 0s - loss: 1.6194 - accuracy: 0.3556 - val_loss: 1.5856 - val_accuracy: 0.4444 - 36ms/epoch - 4ms/step\n",
      "Epoch 88/300\n",
      "9/9 - 0s - loss: 1.6127 - accuracy: 0.3889 - val_loss: 1.5763 - val_accuracy: 0.6667 - 39ms/epoch - 4ms/step\n",
      "Epoch 89/300\n",
      "9/9 - 0s - loss: 1.6023 - accuracy: 0.4222 - val_loss: 1.5663 - val_accuracy: 0.5556 - 34ms/epoch - 4ms/step\n",
      "Epoch 90/300\n",
      "9/9 - 0s - loss: 1.5849 - accuracy: 0.4667 - val_loss: 1.5559 - val_accuracy: 0.5556 - 42ms/epoch - 5ms/step\n",
      "Epoch 91/300\n",
      "9/9 - 0s - loss: 1.5828 - accuracy: 0.4889 - val_loss: 1.5476 - val_accuracy: 0.4444 - 43ms/epoch - 5ms/step\n",
      "Epoch 92/300\n",
      "9/9 - 0s - loss: 1.5689 - accuracy: 0.4444 - val_loss: 1.5367 - val_accuracy: 0.6667 - 39ms/epoch - 4ms/step\n",
      "Epoch 93/300\n",
      "9/9 - 0s - loss: 1.5538 - accuracy: 0.4556 - val_loss: 1.5268 - val_accuracy: 0.5556 - 46ms/epoch - 5ms/step\n",
      "Epoch 94/300\n",
      "9/9 - 0s - loss: 1.5561 - accuracy: 0.3778 - val_loss: 1.5180 - val_accuracy: 0.5556 - 46ms/epoch - 5ms/step\n",
      "Epoch 95/300\n",
      "9/9 - 0s - loss: 1.5407 - accuracy: 0.5111 - val_loss: 1.5083 - val_accuracy: 0.6667 - 36ms/epoch - 4ms/step\n",
      "Epoch 96/300\n",
      "9/9 - 0s - loss: 1.5315 - accuracy: 0.5000 - val_loss: 1.4991 - val_accuracy: 0.5556 - 38ms/epoch - 4ms/step\n",
      "Epoch 97/300\n",
      "9/9 - 0s - loss: 1.5195 - accuracy: 0.4889 - val_loss: 1.4891 - val_accuracy: 0.5556 - 42ms/epoch - 5ms/step\n",
      "Epoch 98/300\n",
      "9/9 - 0s - loss: 1.5022 - accuracy: 0.5556 - val_loss: 1.4813 - val_accuracy: 0.5556 - 31ms/epoch - 3ms/step\n",
      "Epoch 99/300\n",
      "9/9 - 0s - loss: 1.5080 - accuracy: 0.4333 - val_loss: 1.4707 - val_accuracy: 0.7778 - 34ms/epoch - 4ms/step\n",
      "Epoch 100/300\n",
      "9/9 - 0s - loss: 1.4899 - accuracy: 0.4889 - val_loss: 1.4619 - val_accuracy: 0.7778 - 39ms/epoch - 4ms/step\n",
      "Epoch 101/300\n",
      "9/9 - 0s - loss: 1.4806 - accuracy: 0.6000 - val_loss: 1.4532 - val_accuracy: 0.5556 - 47ms/epoch - 5ms/step\n",
      "Epoch 102/300\n",
      "9/9 - 0s - loss: 1.4671 - accuracy: 0.5889 - val_loss: 1.4463 - val_accuracy: 0.6667 - 44ms/epoch - 5ms/step\n",
      "Epoch 103/300\n",
      "9/9 - 0s - loss: 1.4634 - accuracy: 0.5111 - val_loss: 1.4365 - val_accuracy: 0.5556 - 42ms/epoch - 5ms/step\n",
      "Epoch 104/300\n",
      "9/9 - 0s - loss: 1.4590 - accuracy: 0.5222 - val_loss: 1.4281 - val_accuracy: 0.5556 - 41ms/epoch - 5ms/step\n",
      "Epoch 105/300\n",
      "9/9 - 0s - loss: 1.4596 - accuracy: 0.4889 - val_loss: 1.4209 - val_accuracy: 0.6667 - 34ms/epoch - 4ms/step\n",
      "Epoch 106/300\n",
      "9/9 - 0s - loss: 1.4409 - accuracy: 0.5000 - val_loss: 1.4109 - val_accuracy: 0.7778 - 42ms/epoch - 5ms/step\n",
      "Epoch 107/300\n",
      "9/9 - 0s - loss: 1.4331 - accuracy: 0.4889 - val_loss: 1.4038 - val_accuracy: 0.6667 - 42ms/epoch - 5ms/step\n",
      "Epoch 108/300\n",
      "9/9 - 0s - loss: 1.4285 - accuracy: 0.6333 - val_loss: 1.3976 - val_accuracy: 0.5556 - 41ms/epoch - 5ms/step\n",
      "Epoch 109/300\n",
      "9/9 - 0s - loss: 1.4170 - accuracy: 0.5556 - val_loss: 1.3872 - val_accuracy: 0.6667 - 41ms/epoch - 5ms/step\n",
      "Epoch 110/300\n",
      "9/9 - 0s - loss: 1.4014 - accuracy: 0.6000 - val_loss: 1.3792 - val_accuracy: 0.6667 - 36ms/epoch - 4ms/step\n",
      "Epoch 111/300\n",
      "9/9 - 0s - loss: 1.3992 - accuracy: 0.6222 - val_loss: 1.3724 - val_accuracy: 0.7778 - 66ms/epoch - 7ms/step\n",
      "Epoch 112/300\n",
      "9/9 - 0s - loss: 1.3896 - accuracy: 0.5444 - val_loss: 1.3627 - val_accuracy: 0.7778 - 40ms/epoch - 4ms/step\n",
      "Epoch 113/300\n",
      "9/9 - 0s - loss: 1.3894 - accuracy: 0.6667 - val_loss: 1.3561 - val_accuracy: 0.6667 - 42ms/epoch - 5ms/step\n",
      "Epoch 114/300\n",
      "9/9 - 0s - loss: 1.3823 - accuracy: 0.5667 - val_loss: 1.3480 - val_accuracy: 0.6667 - 42ms/epoch - 5ms/step\n",
      "Epoch 115/300\n",
      "9/9 - 0s - loss: 1.3718 - accuracy: 0.6111 - val_loss: 1.3410 - val_accuracy: 0.7778 - 41ms/epoch - 5ms/step\n",
      "Epoch 116/300\n",
      "9/9 - 0s - loss: 1.3610 - accuracy: 0.6778 - val_loss: 1.3329 - val_accuracy: 0.7778 - 46ms/epoch - 5ms/step\n",
      "Epoch 117/300\n",
      "9/9 - 0s - loss: 1.3538 - accuracy: 0.6444 - val_loss: 1.3261 - val_accuracy: 0.7778 - 45ms/epoch - 5ms/step\n",
      "Epoch 118/300\n",
      "9/9 - 0s - loss: 1.3521 - accuracy: 0.6778 - val_loss: 1.3187 - val_accuracy: 0.7778 - 33ms/epoch - 4ms/step\n",
      "Epoch 119/300\n",
      "9/9 - 0s - loss: 1.3342 - accuracy: 0.6444 - val_loss: 1.3129 - val_accuracy: 0.6667 - 48ms/epoch - 5ms/step\n",
      "Epoch 120/300\n",
      "9/9 - 0s - loss: 1.3244 - accuracy: 0.5333 - val_loss: 1.3068 - val_accuracy: 0.7778 - 38ms/epoch - 4ms/step\n",
      "Epoch 121/300\n",
      "9/9 - 0s - loss: 1.3305 - accuracy: 0.7000 - val_loss: 1.2967 - val_accuracy: 0.7778 - 41ms/epoch - 5ms/step\n",
      "Epoch 122/300\n",
      "9/9 - 0s - loss: 1.3190 - accuracy: 0.7000 - val_loss: 1.2901 - val_accuracy: 0.6667 - 42ms/epoch - 5ms/step\n",
      "Epoch 123/300\n",
      "9/9 - 0s - loss: 1.3102 - accuracy: 0.6667 - val_loss: 1.2850 - val_accuracy: 0.6667 - 36ms/epoch - 4ms/step\n",
      "Epoch 124/300\n",
      "9/9 - 0s - loss: 1.3068 - accuracy: 0.6444 - val_loss: 1.2771 - val_accuracy: 0.7778 - 44ms/epoch - 5ms/step\n",
      "Epoch 125/300\n",
      "9/9 - 0s - loss: 1.3061 - accuracy: 0.7000 - val_loss: 1.2701 - val_accuracy: 0.7778 - 42ms/epoch - 5ms/step\n",
      "Epoch 126/300\n",
      "9/9 - 0s - loss: 1.2919 - accuracy: 0.6889 - val_loss: 1.2632 - val_accuracy: 0.7778 - 38ms/epoch - 4ms/step\n",
      "Epoch 127/300\n",
      "9/9 - 0s - loss: 1.2819 - accuracy: 0.6556 - val_loss: 1.2564 - val_accuracy: 0.7778 - 41ms/epoch - 5ms/step\n",
      "Epoch 128/300\n",
      "9/9 - 0s - loss: 1.2907 - accuracy: 0.6000 - val_loss: 1.2503 - val_accuracy: 0.7778 - 41ms/epoch - 5ms/step\n",
      "Epoch 129/300\n",
      "9/9 - 0s - loss: 1.2775 - accuracy: 0.6889 - val_loss: 1.2459 - val_accuracy: 0.7778 - 41ms/epoch - 5ms/step\n",
      "Epoch 130/300\n",
      "9/9 - 0s - loss: 1.2668 - accuracy: 0.6889 - val_loss: 1.2367 - val_accuracy: 0.7778 - 42ms/epoch - 5ms/step\n",
      "Epoch 131/300\n",
      "9/9 - 0s - loss: 1.2603 - accuracy: 0.7556 - val_loss: 1.2304 - val_accuracy: 0.8889 - 41ms/epoch - 5ms/step\n",
      "Epoch 132/300\n",
      "9/9 - 0s - loss: 1.2565 - accuracy: 0.6889 - val_loss: 1.2248 - val_accuracy: 0.7778 - 39ms/epoch - 4ms/step\n",
      "Epoch 133/300\n",
      "9/9 - 0s - loss: 1.2536 - accuracy: 0.7333 - val_loss: 1.2196 - val_accuracy: 0.7778 - 42ms/epoch - 5ms/step\n",
      "Epoch 134/300\n",
      "9/9 - 0s - loss: 1.2438 - accuracy: 0.6889 - val_loss: 1.2145 - val_accuracy: 0.7778 - 58ms/epoch - 6ms/step\n",
      "Epoch 135/300\n",
      "9/9 - 0s - loss: 1.2409 - accuracy: 0.6889 - val_loss: 1.2059 - val_accuracy: 0.7778 - 50ms/epoch - 6ms/step\n"
     ]
    },
    {
     "name": "stdout",
     "output_type": "stream",
     "text": [
      "Epoch 136/300\n",
      "9/9 - 0s - loss: 1.2233 - accuracy: 0.7111 - val_loss: 1.2030 - val_accuracy: 0.7778 - 36ms/epoch - 4ms/step\n",
      "Epoch 137/300\n",
      "9/9 - 0s - loss: 1.2323 - accuracy: 0.7333 - val_loss: 1.1940 - val_accuracy: 0.8889 - 41ms/epoch - 5ms/step\n",
      "Epoch 138/300\n",
      "9/9 - 0s - loss: 1.2098 - accuracy: 0.7778 - val_loss: 1.1882 - val_accuracy: 0.7778 - 42ms/epoch - 5ms/step\n",
      "Epoch 139/300\n",
      "9/9 - 0s - loss: 1.2101 - accuracy: 0.7111 - val_loss: 1.1825 - val_accuracy: 0.7778 - 41ms/epoch - 5ms/step\n",
      "Epoch 140/300\n",
      "9/9 - 0s - loss: 1.2020 - accuracy: 0.7111 - val_loss: 1.1763 - val_accuracy: 0.6667 - 40ms/epoch - 4ms/step\n",
      "Epoch 141/300\n",
      "9/9 - 0s - loss: 1.2070 - accuracy: 0.7111 - val_loss: 1.1724 - val_accuracy: 0.7778 - 50ms/epoch - 6ms/step\n",
      "Epoch 142/300\n",
      "9/9 - 0s - loss: 1.1844 - accuracy: 0.7111 - val_loss: 1.1649 - val_accuracy: 0.7778 - 42ms/epoch - 5ms/step\n",
      "Epoch 143/300\n",
      "9/9 - 0s - loss: 1.1961 - accuracy: 0.7222 - val_loss: 1.1591 - val_accuracy: 0.7778 - 50ms/epoch - 6ms/step\n",
      "Epoch 144/300\n",
      "9/9 - 0s - loss: 1.1783 - accuracy: 0.7667 - val_loss: 1.1544 - val_accuracy: 0.8889 - 50ms/epoch - 6ms/step\n",
      "Epoch 145/300\n",
      "9/9 - 0s - loss: 1.1782 - accuracy: 0.7333 - val_loss: 1.1488 - val_accuracy: 0.7778 - 58ms/epoch - 6ms/step\n",
      "Epoch 146/300\n",
      "9/9 - 0s - loss: 1.1661 - accuracy: 0.7333 - val_loss: 1.1448 - val_accuracy: 0.6667 - 41ms/epoch - 5ms/step\n",
      "Epoch 147/300\n",
      "9/9 - 0s - loss: 1.1569 - accuracy: 0.7000 - val_loss: 1.1350 - val_accuracy: 0.7778 - 42ms/epoch - 5ms/step\n",
      "Epoch 148/300\n",
      "9/9 - 0s - loss: 1.1589 - accuracy: 0.7667 - val_loss: 1.1294 - val_accuracy: 0.8889 - 38ms/epoch - 4ms/step\n",
      "Epoch 149/300\n",
      "9/9 - 0s - loss: 1.1461 - accuracy: 0.8111 - val_loss: 1.1242 - val_accuracy: 0.7778 - 33ms/epoch - 4ms/step\n",
      "Epoch 150/300\n",
      "9/9 - 0s - loss: 1.1505 - accuracy: 0.7333 - val_loss: 1.1223 - val_accuracy: 0.7778 - 41ms/epoch - 5ms/step\n",
      "Epoch 151/300\n",
      "9/9 - 0s - loss: 1.1323 - accuracy: 0.7556 - val_loss: 1.1143 - val_accuracy: 0.8889 - 43ms/epoch - 5ms/step\n",
      "Epoch 152/300\n",
      "9/9 - 0s - loss: 1.1396 - accuracy: 0.8000 - val_loss: 1.1079 - val_accuracy: 0.8889 - 50ms/epoch - 6ms/step\n",
      "Epoch 153/300\n",
      "9/9 - 0s - loss: 1.1399 - accuracy: 0.8000 - val_loss: 1.1031 - val_accuracy: 0.8889 - 42ms/epoch - 5ms/step\n",
      "Epoch 154/300\n",
      "9/9 - 0s - loss: 1.1278 - accuracy: 0.7778 - val_loss: 1.0966 - val_accuracy: 0.7778 - 41ms/epoch - 5ms/step\n",
      "Epoch 155/300\n",
      "9/9 - 0s - loss: 1.1275 - accuracy: 0.7778 - val_loss: 1.0914 - val_accuracy: 0.7778 - 42ms/epoch - 5ms/step\n",
      "Epoch 156/300\n",
      "9/9 - 0s - loss: 1.1068 - accuracy: 0.7889 - val_loss: 1.0859 - val_accuracy: 0.8889 - 42ms/epoch - 5ms/step\n",
      "Epoch 157/300\n",
      "9/9 - 0s - loss: 1.1034 - accuracy: 0.8222 - val_loss: 1.0849 - val_accuracy: 0.7778 - 36ms/epoch - 4ms/step\n",
      "Epoch 158/300\n",
      "9/9 - 0s - loss: 1.1068 - accuracy: 0.7889 - val_loss: 1.0777 - val_accuracy: 0.8889 - 38ms/epoch - 4ms/step\n",
      "Epoch 159/300\n",
      "9/9 - 0s - loss: 1.1097 - accuracy: 0.7333 - val_loss: 1.0721 - val_accuracy: 0.7778 - 47ms/epoch - 5ms/step\n",
      "Epoch 160/300\n",
      "9/9 - 0s - loss: 1.0985 - accuracy: 0.7667 - val_loss: 1.0656 - val_accuracy: 0.8889 - 42ms/epoch - 5ms/step\n",
      "Epoch 161/300\n",
      "9/9 - 0s - loss: 1.0935 - accuracy: 0.7444 - val_loss: 1.0602 - val_accuracy: 1.0000 - 50ms/epoch - 6ms/step\n",
      "Epoch 162/300\n",
      "9/9 - 0s - loss: 1.0773 - accuracy: 0.8111 - val_loss: 1.0593 - val_accuracy: 0.7778 - 42ms/epoch - 5ms/step\n",
      "Epoch 163/300\n",
      "9/9 - 0s - loss: 1.0848 - accuracy: 0.8222 - val_loss: 1.0543 - val_accuracy: 0.7778 - 51ms/epoch - 6ms/step\n",
      "Epoch 164/300\n",
      "9/9 - 0s - loss: 1.0718 - accuracy: 0.7667 - val_loss: 1.0483 - val_accuracy: 0.8889 - 57ms/epoch - 6ms/step\n",
      "Epoch 165/300\n",
      "9/9 - 0s - loss: 1.0644 - accuracy: 0.7889 - val_loss: 1.0410 - val_accuracy: 0.7778 - 50ms/epoch - 6ms/step\n",
      "Epoch 166/300\n",
      "9/9 - 0s - loss: 1.0645 - accuracy: 0.8000 - val_loss: 1.0336 - val_accuracy: 0.7778 - 42ms/epoch - 5ms/step\n",
      "Epoch 167/300\n",
      "9/9 - 0s - loss: 1.0556 - accuracy: 0.8222 - val_loss: 1.0309 - val_accuracy: 0.8889 - 49ms/epoch - 5ms/step\n",
      "Epoch 168/300\n",
      "9/9 - 0s - loss: 1.0626 - accuracy: 0.8333 - val_loss: 1.0250 - val_accuracy: 0.7778 - 51ms/epoch - 6ms/step\n",
      "Epoch 169/300\n",
      "9/9 - 0s - loss: 1.0393 - accuracy: 0.8111 - val_loss: 1.0208 - val_accuracy: 0.8889 - 43ms/epoch - 5ms/step\n",
      "Epoch 170/300\n",
      "9/9 - 0s - loss: 1.0405 - accuracy: 0.8222 - val_loss: 1.0181 - val_accuracy: 0.8889 - 54ms/epoch - 6ms/step\n",
      "Epoch 171/300\n",
      "9/9 - 0s - loss: 1.0360 - accuracy: 0.8556 - val_loss: 1.0158 - val_accuracy: 0.8889 - 44ms/epoch - 5ms/step\n",
      "Epoch 172/300\n",
      "9/9 - 0s - loss: 1.0340 - accuracy: 0.8111 - val_loss: 1.0053 - val_accuracy: 0.8889 - 50ms/epoch - 6ms/step\n",
      "Epoch 173/300\n",
      "9/9 - 0s - loss: 1.0177 - accuracy: 0.8222 - val_loss: 1.0019 - val_accuracy: 0.8889 - 42ms/epoch - 5ms/step\n",
      "Epoch 174/300\n",
      "9/9 - 0s - loss: 1.0284 - accuracy: 0.8000 - val_loss: 0.9971 - val_accuracy: 1.0000 - 40ms/epoch - 4ms/step\n",
      "Epoch 175/300\n",
      "9/9 - 0s - loss: 1.0310 - accuracy: 0.7667 - val_loss: 0.9919 - val_accuracy: 0.8889 - 46ms/epoch - 5ms/step\n",
      "Epoch 176/300\n",
      "9/9 - 0s - loss: 1.0288 - accuracy: 0.7778 - val_loss: 0.9890 - val_accuracy: 0.8889 - 48ms/epoch - 5ms/step\n",
      "Epoch 177/300\n",
      "9/9 - 0s - loss: 1.0088 - accuracy: 0.9000 - val_loss: 0.9852 - val_accuracy: 0.8889 - 33ms/epoch - 4ms/step\n",
      "Epoch 178/300\n",
      "9/9 - 0s - loss: 1.0165 - accuracy: 0.7556 - val_loss: 0.9767 - val_accuracy: 0.8889 - 46ms/epoch - 5ms/step\n",
      "Epoch 179/300\n",
      "9/9 - 0s - loss: 1.0196 - accuracy: 0.7333 - val_loss: 0.9737 - val_accuracy: 0.8889 - 59ms/epoch - 7ms/step\n",
      "Epoch 180/300\n",
      "9/9 - 0s - loss: 0.9952 - accuracy: 0.9000 - val_loss: 0.9682 - val_accuracy: 0.7778 - 57ms/epoch - 6ms/step\n",
      "Epoch 181/300\n",
      "9/9 - 0s - loss: 1.0024 - accuracy: 0.8000 - val_loss: 0.9676 - val_accuracy: 0.8889 - 59ms/epoch - 7ms/step\n",
      "Epoch 182/300\n",
      "9/9 - 0s - loss: 0.9802 - accuracy: 0.8333 - val_loss: 0.9589 - val_accuracy: 0.8889 - 34ms/epoch - 4ms/step\n",
      "Epoch 183/300\n",
      "9/9 - 0s - loss: 0.9840 - accuracy: 0.8444 - val_loss: 0.9609 - val_accuracy: 0.8889 - 46ms/epoch - 5ms/step\n",
      "Epoch 184/300\n",
      "9/9 - 0s - loss: 0.9841 - accuracy: 0.8000 - val_loss: 0.9549 - val_accuracy: 0.8889 - 47ms/epoch - 5ms/step\n",
      "Epoch 185/300\n",
      "9/9 - 0s - loss: 0.9705 - accuracy: 0.9333 - val_loss: 0.9510 - val_accuracy: 0.7778 - 45ms/epoch - 5ms/step\n",
      "Epoch 186/300\n",
      "9/9 - 0s - loss: 0.9749 - accuracy: 0.7889 - val_loss: 0.9406 - val_accuracy: 1.0000 - 34ms/epoch - 4ms/step\n",
      "Epoch 187/300\n",
      "9/9 - 0s - loss: 0.9691 - accuracy: 0.8000 - val_loss: 0.9425 - val_accuracy: 0.8889 - 46ms/epoch - 5ms/step\n",
      "Epoch 188/300\n",
      "9/9 - 0s - loss: 0.9590 - accuracy: 0.8000 - val_loss: 0.9366 - val_accuracy: 0.8889 - 36ms/epoch - 4ms/step\n",
      "Epoch 189/300\n",
      "9/9 - 0s - loss: 0.9671 - accuracy: 0.8333 - val_loss: 0.9291 - val_accuracy: 0.8889 - 48ms/epoch - 5ms/step\n",
      "Epoch 190/300\n",
      "9/9 - 0s - loss: 0.9490 - accuracy: 0.8444 - val_loss: 0.9262 - val_accuracy: 0.8889 - 44ms/epoch - 5ms/step\n",
      "Epoch 191/300\n",
      "9/9 - 0s - loss: 0.9443 - accuracy: 0.8556 - val_loss: 0.9202 - val_accuracy: 0.7778 - 38ms/epoch - 4ms/step\n",
      "Epoch 192/300\n",
      "9/9 - 0s - loss: 0.9485 - accuracy: 0.8000 - val_loss: 0.9190 - val_accuracy: 0.8889 - 43ms/epoch - 5ms/step\n",
      "Epoch 193/300\n",
      "9/9 - 0s - loss: 0.9413 - accuracy: 0.8222 - val_loss: 0.9142 - val_accuracy: 0.8889 - 41ms/epoch - 5ms/step\n",
      "Epoch 194/300\n",
      "9/9 - 0s - loss: 0.9302 - accuracy: 0.8778 - val_loss: 0.9079 - val_accuracy: 0.8889 - 42ms/epoch - 5ms/step\n",
      "Epoch 195/300\n",
      "9/9 - 0s - loss: 0.9307 - accuracy: 0.8667 - val_loss: 0.9044 - val_accuracy: 0.8889 - 42ms/epoch - 5ms/step\n",
      "Epoch 196/300\n",
      "9/9 - 0s - loss: 0.9324 - accuracy: 0.8556 - val_loss: 0.8997 - val_accuracy: 1.0000 - 36ms/epoch - 4ms/step\n",
      "Epoch 197/300\n",
      "9/9 - 0s - loss: 0.9166 - accuracy: 0.8556 - val_loss: 0.9044 - val_accuracy: 0.8889 - 38ms/epoch - 4ms/step\n",
      "Epoch 198/300\n",
      "9/9 - 0s - loss: 0.9211 - accuracy: 0.8556 - val_loss: 0.8923 - val_accuracy: 0.8889 - 45ms/epoch - 5ms/step\n",
      "Epoch 199/300\n",
      "9/9 - 0s - loss: 0.9207 - accuracy: 0.8111 - val_loss: 0.8927 - val_accuracy: 0.7778 - 49ms/epoch - 5ms/step\n",
      "Epoch 200/300\n",
      "9/9 - 0s - loss: 0.9079 - accuracy: 0.8222 - val_loss: 0.8829 - val_accuracy: 0.8889 - 42ms/epoch - 5ms/step\n",
      "Epoch 201/300\n",
      "9/9 - 0s - loss: 0.9045 - accuracy: 0.8000 - val_loss: 0.8868 - val_accuracy: 0.7778 - 41ms/epoch - 5ms/step\n",
      "Epoch 202/300\n",
      "9/9 - 0s - loss: 0.8986 - accuracy: 0.8000 - val_loss: 0.8752 - val_accuracy: 0.7778 - 43ms/epoch - 5ms/step\n"
     ]
    },
    {
     "name": "stdout",
     "output_type": "stream",
     "text": [
      "Epoch 203/300\n",
      "9/9 - 0s - loss: 0.8960 - accuracy: 0.7889 - val_loss: 0.8733 - val_accuracy: 0.8889 - 48ms/epoch - 5ms/step\n",
      "Epoch 204/300\n",
      "9/9 - 0s - loss: 0.9202 - accuracy: 0.8000 - val_loss: 0.8642 - val_accuracy: 0.7778 - 38ms/epoch - 4ms/step\n",
      "Epoch 205/300\n",
      "9/9 - 0s - loss: 0.8902 - accuracy: 0.8222 - val_loss: 0.8591 - val_accuracy: 0.8889 - 42ms/epoch - 5ms/step\n",
      "Epoch 206/300\n",
      "9/9 - 0s - loss: 0.8844 - accuracy: 0.8778 - val_loss: 0.8596 - val_accuracy: 0.8889 - 36ms/epoch - 4ms/step\n",
      "Epoch 207/300\n",
      "9/9 - 0s - loss: 0.8973 - accuracy: 0.8222 - val_loss: 0.8585 - val_accuracy: 0.8889 - 42ms/epoch - 5ms/step\n",
      "Epoch 208/300\n",
      "9/9 - 0s - loss: 0.8833 - accuracy: 0.8556 - val_loss: 0.8512 - val_accuracy: 0.8889 - 44ms/epoch - 5ms/step\n",
      "Epoch 209/300\n",
      "9/9 - 0s - loss: 0.8858 - accuracy: 0.7778 - val_loss: 0.8487 - val_accuracy: 0.8889 - 39ms/epoch - 4ms/step\n",
      "Epoch 210/300\n",
      "9/9 - 0s - loss: 0.8651 - accuracy: 0.8111 - val_loss: 0.8460 - val_accuracy: 0.8889 - 42ms/epoch - 5ms/step\n",
      "Epoch 211/300\n",
      "9/9 - 0s - loss: 0.8618 - accuracy: 0.8889 - val_loss: 0.8381 - val_accuracy: 0.8889 - 54ms/epoch - 6ms/step\n",
      "Epoch 212/300\n",
      "9/9 - 0s - loss: 0.8837 - accuracy: 0.8222 - val_loss: 0.8312 - val_accuracy: 1.0000 - 42ms/epoch - 5ms/step\n",
      "Epoch 213/300\n",
      "9/9 - 0s - loss: 0.8717 - accuracy: 0.8000 - val_loss: 0.8356 - val_accuracy: 0.7778 - 50ms/epoch - 6ms/step\n",
      "Epoch 214/300\n",
      "9/9 - 0s - loss: 0.8751 - accuracy: 0.7444 - val_loss: 0.8239 - val_accuracy: 0.8889 - 42ms/epoch - 5ms/step\n",
      "Epoch 215/300\n",
      "9/9 - 0s - loss: 0.8612 - accuracy: 0.9222 - val_loss: 0.8212 - val_accuracy: 0.7778 - 39ms/epoch - 4ms/step\n",
      "Epoch 216/300\n",
      "9/9 - 0s - loss: 0.8624 - accuracy: 0.8111 - val_loss: 0.8154 - val_accuracy: 1.0000 - 42ms/epoch - 5ms/step\n",
      "Epoch 217/300\n",
      "9/9 - 0s - loss: 0.8354 - accuracy: 0.8889 - val_loss: 0.8210 - val_accuracy: 0.8889 - 43ms/epoch - 5ms/step\n",
      "Epoch 218/300\n",
      "9/9 - 0s - loss: 0.8564 - accuracy: 0.8444 - val_loss: 0.8116 - val_accuracy: 0.8889 - 37ms/epoch - 4ms/step\n",
      "Epoch 219/300\n",
      "9/9 - 0s - loss: 0.8271 - accuracy: 0.8889 - val_loss: 0.8106 - val_accuracy: 0.8889 - 42ms/epoch - 5ms/step\n",
      "Epoch 220/300\n",
      "9/9 - 0s - loss: 0.8357 - accuracy: 0.8000 - val_loss: 0.8025 - val_accuracy: 0.7778 - 41ms/epoch - 5ms/step\n",
      "Epoch 221/300\n",
      "9/9 - 0s - loss: 0.8366 - accuracy: 0.7667 - val_loss: 0.7983 - val_accuracy: 0.8889 - 34ms/epoch - 4ms/step\n",
      "Epoch 222/300\n",
      "9/9 - 0s - loss: 0.8163 - accuracy: 0.8778 - val_loss: 0.8016 - val_accuracy: 0.8889 - 50ms/epoch - 6ms/step\n",
      "Epoch 223/300\n",
      "9/9 - 0s - loss: 0.8233 - accuracy: 0.8556 - val_loss: 0.7922 - val_accuracy: 0.8889 - 36ms/epoch - 4ms/step\n",
      "Epoch 224/300\n",
      "9/9 - 0s - loss: 0.8065 - accuracy: 0.8333 - val_loss: 0.7981 - val_accuracy: 0.8889 - 44ms/epoch - 5ms/step\n",
      "Epoch 225/300\n",
      "9/9 - 0s - loss: 0.8215 - accuracy: 0.8444 - val_loss: 0.7820 - val_accuracy: 0.8889 - 48ms/epoch - 5ms/step\n",
      "Epoch 226/300\n",
      "9/9 - 0s - loss: 0.8108 - accuracy: 0.8778 - val_loss: 0.7799 - val_accuracy: 0.7778 - 37ms/epoch - 4ms/step\n",
      "Epoch 227/300\n",
      "9/9 - 0s - loss: 0.8046 - accuracy: 0.8667 - val_loss: 0.7726 - val_accuracy: 0.8889 - 48ms/epoch - 5ms/step\n",
      "Epoch 228/300\n",
      "9/9 - 0s - loss: 0.8141 - accuracy: 0.8000 - val_loss: 0.7698 - val_accuracy: 1.0000 - 43ms/epoch - 5ms/step\n",
      "Epoch 229/300\n",
      "9/9 - 0s - loss: 0.7969 - accuracy: 0.8667 - val_loss: 0.7659 - val_accuracy: 0.8889 - 37ms/epoch - 4ms/step\n",
      "Epoch 230/300\n",
      "9/9 - 0s - loss: 0.7970 - accuracy: 0.8667 - val_loss: 0.7712 - val_accuracy: 0.8889 - 52ms/epoch - 6ms/step\n",
      "Epoch 231/300\n",
      "9/9 - 0s - loss: 0.7958 - accuracy: 0.8333 - val_loss: 0.7608 - val_accuracy: 0.8889 - 48ms/epoch - 5ms/step\n",
      "Epoch 232/300\n",
      "9/9 - 0s - loss: 0.7958 - accuracy: 0.8444 - val_loss: 0.7674 - val_accuracy: 0.8889 - 43ms/epoch - 5ms/step\n",
      "Epoch 233/300\n",
      "9/9 - 0s - loss: 0.7856 - accuracy: 0.9000 - val_loss: 0.7513 - val_accuracy: 1.0000 - 37ms/epoch - 4ms/step\n",
      "Epoch 234/300\n",
      "9/9 - 0s - loss: 0.7853 - accuracy: 0.8444 - val_loss: 0.7478 - val_accuracy: 1.0000 - 42ms/epoch - 5ms/step\n",
      "Epoch 235/300\n",
      "9/9 - 0s - loss: 0.7786 - accuracy: 0.8667 - val_loss: 0.7491 - val_accuracy: 1.0000 - 41ms/epoch - 5ms/step\n",
      "Epoch 236/300\n",
      "9/9 - 0s - loss: 0.7811 - accuracy: 0.8111 - val_loss: 0.7400 - val_accuracy: 1.0000 - 34ms/epoch - 4ms/step\n",
      "Epoch 237/300\n",
      "9/9 - 0s - loss: 0.8025 - accuracy: 0.8444 - val_loss: 0.7445 - val_accuracy: 1.0000 - 41ms/epoch - 5ms/step\n",
      "Epoch 238/300\n",
      "9/9 - 0s - loss: 0.7716 - accuracy: 0.9111 - val_loss: 0.7357 - val_accuracy: 1.0000 - 38ms/epoch - 4ms/step\n",
      "Epoch 239/300\n",
      "9/9 - 0s - loss: 0.7640 - accuracy: 0.8778 - val_loss: 0.7297 - val_accuracy: 1.0000 - 43ms/epoch - 5ms/step\n",
      "Epoch 240/300\n",
      "9/9 - 0s - loss: 0.7743 - accuracy: 0.8000 - val_loss: 0.7252 - val_accuracy: 1.0000 - 50ms/epoch - 6ms/step\n",
      "Epoch 241/300\n",
      "9/9 - 0s - loss: 0.7608 - accuracy: 0.8667 - val_loss: 0.7214 - val_accuracy: 1.0000 - 31ms/epoch - 3ms/step\n",
      "Epoch 242/300\n",
      "9/9 - 0s - loss: 0.7334 - accuracy: 0.9444 - val_loss: 0.7385 - val_accuracy: 0.8889 - 42ms/epoch - 5ms/step\n",
      "Epoch 243/300\n",
      "9/9 - 0s - loss: 0.7570 - accuracy: 0.8444 - val_loss: 0.7236 - val_accuracy: 0.8889 - 35ms/epoch - 4ms/step\n",
      "Epoch 244/300\n",
      "9/9 - 0s - loss: 0.7457 - accuracy: 0.8778 - val_loss: 0.7229 - val_accuracy: 0.7778 - 44ms/epoch - 5ms/step\n",
      "Epoch 245/300\n",
      "9/9 - 0s - loss: 0.7410 - accuracy: 0.8889 - val_loss: 0.7101 - val_accuracy: 0.8889 - 40ms/epoch - 4ms/step\n",
      "Epoch 246/300\n",
      "9/9 - 0s - loss: 0.7399 - accuracy: 0.8889 - val_loss: 0.7204 - val_accuracy: 0.7778 - 40ms/epoch - 4ms/step\n",
      "Epoch 247/300\n",
      "9/9 - 0s - loss: 0.7407 - accuracy: 0.7778 - val_loss: 0.7142 - val_accuracy: 1.0000 - 50ms/epoch - 6ms/step\n",
      "Epoch 248/300\n",
      "9/9 - 0s - loss: 0.7496 - accuracy: 0.8333 - val_loss: 0.7042 - val_accuracy: 1.0000 - 45ms/epoch - 5ms/step\n",
      "Epoch 249/300\n",
      "9/9 - 0s - loss: 0.7412 - accuracy: 0.8778 - val_loss: 0.7004 - val_accuracy: 0.8889 - 37ms/epoch - 4ms/step\n",
      "Epoch 250/300\n",
      "9/9 - 0s - loss: 0.7234 - accuracy: 0.8111 - val_loss: 0.6941 - val_accuracy: 0.8889 - 43ms/epoch - 5ms/step\n",
      "Epoch 251/300\n",
      "9/9 - 0s - loss: 0.7258 - accuracy: 0.8111 - val_loss: 0.6943 - val_accuracy: 0.8889 - 51ms/epoch - 6ms/step\n",
      "Epoch 252/300\n",
      "9/9 - 0s - loss: 0.7352 - accuracy: 0.8778 - val_loss: 0.6833 - val_accuracy: 0.8889 - 42ms/epoch - 5ms/step\n",
      "Epoch 253/300\n",
      "9/9 - 0s - loss: 0.7056 - accuracy: 0.9222 - val_loss: 0.7158 - val_accuracy: 0.7778 - 42ms/epoch - 5ms/step\n",
      "Epoch 254/300\n",
      "9/9 - 0s - loss: 0.7238 - accuracy: 0.9000 - val_loss: 0.6856 - val_accuracy: 0.7778 - 36ms/epoch - 4ms/step\n",
      "Epoch 255/300\n",
      "9/9 - 0s - loss: 0.7093 - accuracy: 0.8556 - val_loss: 0.6935 - val_accuracy: 0.8889 - 42ms/epoch - 5ms/step\n",
      "Epoch 256/300\n",
      "9/9 - 0s - loss: 0.7184 - accuracy: 0.7889 - val_loss: 0.7018 - val_accuracy: 0.8889 - 33ms/epoch - 4ms/step\n",
      "Epoch 257/300\n",
      "9/9 - 0s - loss: 0.6965 - accuracy: 0.8889 - val_loss: 0.6796 - val_accuracy: 0.8889 - 40ms/epoch - 4ms/step\n",
      "Epoch 258/300\n",
      "9/9 - 0s - loss: 0.6975 - accuracy: 0.8667 - val_loss: 0.6814 - val_accuracy: 0.8889 - 42ms/epoch - 5ms/step\n",
      "Epoch 259/300\n",
      "9/9 - 0s - loss: 0.6995 - accuracy: 0.8778 - val_loss: 0.6669 - val_accuracy: 0.8889 - 40ms/epoch - 4ms/step\n",
      "Epoch 260/300\n",
      "9/9 - 0s - loss: 0.7157 - accuracy: 0.8444 - val_loss: 0.6706 - val_accuracy: 0.7778 - 58ms/epoch - 6ms/step\n",
      "Epoch 261/300\n",
      "9/9 - 0s - loss: 0.6862 - accuracy: 0.8667 - val_loss: 0.6563 - val_accuracy: 0.8889 - 41ms/epoch - 5ms/step\n",
      "Epoch 262/300\n",
      "9/9 - 0s - loss: 0.6745 - accuracy: 0.9000 - val_loss: 0.6597 - val_accuracy: 0.8889 - 50ms/epoch - 6ms/step\n",
      "Epoch 263/300\n",
      "9/9 - 0s - loss: 0.7004 - accuracy: 0.8556 - val_loss: 0.6563 - val_accuracy: 0.8889 - 51ms/epoch - 6ms/step\n",
      "Epoch 264/300\n",
      "9/9 - 0s - loss: 0.6908 - accuracy: 0.8556 - val_loss: 0.6539 - val_accuracy: 1.0000 - 36ms/epoch - 4ms/step\n",
      "Epoch 265/300\n",
      "9/9 - 0s - loss: 0.6711 - accuracy: 0.9000 - val_loss: 0.6455 - val_accuracy: 0.8889 - 50ms/epoch - 6ms/step\n",
      "Epoch 266/300\n",
      "9/9 - 0s - loss: 0.6801 - accuracy: 0.9000 - val_loss: 0.6447 - val_accuracy: 0.8889 - 59ms/epoch - 7ms/step\n",
      "Epoch 267/300\n",
      "9/9 - 0s - loss: 0.6868 - accuracy: 0.8000 - val_loss: 0.6443 - val_accuracy: 1.0000 - 49ms/epoch - 5ms/step\n",
      "Epoch 268/300\n",
      "9/9 - 0s - loss: 0.6693 - accuracy: 0.9222 - val_loss: 0.6479 - val_accuracy: 0.8889 - 42ms/epoch - 5ms/step\n",
      "Epoch 269/300\n",
      "9/9 - 0s - loss: 0.6573 - accuracy: 0.8889 - val_loss: 0.6555 - val_accuracy: 0.8889 - 50ms/epoch - 6ms/step\n"
     ]
    },
    {
     "name": "stdout",
     "output_type": "stream",
     "text": [
      "Epoch 270/300\n",
      "9/9 - 0s - loss: 0.6604 - accuracy: 0.9000 - val_loss: 0.6564 - val_accuracy: 0.7778 - 49ms/epoch - 5ms/step\n",
      "Epoch 271/300\n",
      "9/9 - 0s - loss: 0.6560 - accuracy: 0.8778 - val_loss: 0.6308 - val_accuracy: 0.8889 - 50ms/epoch - 6ms/step\n",
      "Epoch 272/300\n",
      "9/9 - 0s - loss: 0.6758 - accuracy: 0.7889 - val_loss: 0.6563 - val_accuracy: 0.7778 - 47ms/epoch - 5ms/step\n",
      "Epoch 273/300\n",
      "9/9 - 0s - loss: 0.6478 - accuracy: 0.8667 - val_loss: 0.6346 - val_accuracy: 0.8889 - 48ms/epoch - 5ms/step\n",
      "Epoch 274/300\n",
      "9/9 - 0s - loss: 0.6726 - accuracy: 0.8667 - val_loss: 0.6168 - val_accuracy: 1.0000 - 45ms/epoch - 5ms/step\n",
      "Epoch 275/300\n",
      "9/9 - 0s - loss: 0.6384 - accuracy: 0.9556 - val_loss: 0.6152 - val_accuracy: 0.8889 - 42ms/epoch - 5ms/step\n",
      "Epoch 276/300\n",
      "9/9 - 0s - loss: 0.6512 - accuracy: 0.9000 - val_loss: 0.6320 - val_accuracy: 0.8889 - 47ms/epoch - 5ms/step\n",
      "Epoch 277/300\n",
      "9/9 - 0s - loss: 0.6643 - accuracy: 0.8556 - val_loss: 0.6085 - val_accuracy: 0.8889 - 44ms/epoch - 5ms/step\n",
      "Epoch 278/300\n",
      "9/9 - 0s - loss: 0.6392 - accuracy: 0.8667 - val_loss: 0.6050 - val_accuracy: 1.0000 - 42ms/epoch - 5ms/step\n",
      "Epoch 279/300\n",
      "9/9 - 0s - loss: 0.6329 - accuracy: 0.9222 - val_loss: 0.5994 - val_accuracy: 1.0000 - 44ms/epoch - 5ms/step\n",
      "Epoch 280/300\n",
      "9/9 - 0s - loss: 0.6484 - accuracy: 0.8889 - val_loss: 0.5960 - val_accuracy: 1.0000 - 49ms/epoch - 5ms/step\n",
      "Epoch 281/300\n",
      "9/9 - 0s - loss: 0.6431 - accuracy: 0.9556 - val_loss: 0.5973 - val_accuracy: 0.8889 - 42ms/epoch - 5ms/step\n",
      "Epoch 282/300\n",
      "9/9 - 0s - loss: 0.6137 - accuracy: 0.9333 - val_loss: 0.6133 - val_accuracy: 0.7778 - 50ms/epoch - 6ms/step\n",
      "Epoch 283/300\n",
      "9/9 - 0s - loss: 0.6511 - accuracy: 0.8444 - val_loss: 0.5864 - val_accuracy: 1.0000 - 59ms/epoch - 7ms/step\n",
      "Epoch 284/300\n",
      "9/9 - 0s - loss: 0.6051 - accuracy: 0.8778 - val_loss: 0.6092 - val_accuracy: 0.8889 - 38ms/epoch - 4ms/step\n",
      "Epoch 285/300\n",
      "9/9 - 0s - loss: 0.6315 - accuracy: 0.9000 - val_loss: 0.5807 - val_accuracy: 1.0000 - 44ms/epoch - 5ms/step\n",
      "Epoch 286/300\n",
      "9/9 - 0s - loss: 0.6252 - accuracy: 0.8444 - val_loss: 0.5868 - val_accuracy: 1.0000 - 46ms/epoch - 5ms/step\n",
      "Epoch 287/300\n",
      "9/9 - 0s - loss: 0.6209 - accuracy: 0.9000 - val_loss: 0.5885 - val_accuracy: 0.8889 - 55ms/epoch - 6ms/step\n",
      "Epoch 288/300\n",
      "9/9 - 0s - loss: 0.6216 - accuracy: 0.9111 - val_loss: 0.5910 - val_accuracy: 0.8889 - 58ms/epoch - 6ms/step\n",
      "Epoch 289/300\n",
      "9/9 - 0s - loss: 0.6042 - accuracy: 0.8889 - val_loss: 0.5695 - val_accuracy: 1.0000 - 41ms/epoch - 5ms/step\n",
      "Epoch 290/300\n",
      "9/9 - 0s - loss: 0.5897 - accuracy: 0.9222 - val_loss: 0.5829 - val_accuracy: 0.8889 - 41ms/epoch - 5ms/step\n",
      "Epoch 291/300\n",
      "9/9 - 0s - loss: 0.5937 - accuracy: 0.8889 - val_loss: 0.5639 - val_accuracy: 1.0000 - 50ms/epoch - 6ms/step\n",
      "Epoch 292/300\n",
      "9/9 - 0s - loss: 0.6053 - accuracy: 0.9333 - val_loss: 0.5885 - val_accuracy: 0.8889 - 46ms/epoch - 5ms/step\n",
      "Epoch 293/300\n",
      "9/9 - 0s - loss: 0.6059 - accuracy: 0.9222 - val_loss: 0.5624 - val_accuracy: 0.8889 - 45ms/epoch - 5ms/step\n",
      "Epoch 294/300\n",
      "9/9 - 0s - loss: 0.5779 - accuracy: 0.9222 - val_loss: 0.5637 - val_accuracy: 1.0000 - 37ms/epoch - 4ms/step\n",
      "Epoch 295/300\n",
      "9/9 - 0s - loss: 0.5856 - accuracy: 0.8667 - val_loss: 0.5835 - val_accuracy: 0.7778 - 41ms/epoch - 5ms/step\n",
      "Epoch 296/300\n",
      "9/9 - 0s - loss: 0.6141 - accuracy: 0.8111 - val_loss: 0.5508 - val_accuracy: 1.0000 - 50ms/epoch - 6ms/step\n",
      "Epoch 297/300\n",
      "9/9 - 0s - loss: 0.5880 - accuracy: 0.9333 - val_loss: 0.5556 - val_accuracy: 0.8889 - 42ms/epoch - 5ms/step\n",
      "Epoch 298/300\n",
      "9/9 - 0s - loss: 0.5595 - accuracy: 0.9000 - val_loss: 0.5660 - val_accuracy: 0.8889 - 49ms/epoch - 5ms/step\n",
      "Epoch 299/300\n",
      "9/9 - 0s - loss: 0.6029 - accuracy: 0.8444 - val_loss: 0.5529 - val_accuracy: 0.8889 - 48ms/epoch - 5ms/step\n",
      "Epoch 300/300\n",
      "9/9 - 0s - loss: 0.5735 - accuracy: 0.9111 - val_loss: 0.5545 - val_accuracy: 0.8889 - 42ms/epoch - 5ms/step\n"
     ]
    }
   ],
   "source": [
    "hist = model.fit(x_train, Y_train,\n",
    "                 epochs=300,\n",
    "                 batch_size=10,\n",
    "                 verbose=2,        # 학습결과 출력 옵션 0:출력없음, 1:기본값, 2:에포크별 로그상세 출력\n",
    "                 validation_data=(x_val, Y_val)\n",
    "                )\n",
    "#회귀분석 축 공유 필요 없음 / 분류분석 축 공유 필수"
   ]
  },
  {
   "cell_type": "markdown",
   "id": "20838360",
   "metadata": {},
   "source": [
    "# 6. 모델 평가 (모델학습과정 살펴보고, evalute 함수 사용)"
   ]
  },
  {
   "cell_type": "code",
   "execution_count": 40,
   "id": "143a3cea",
   "metadata": {},
   "outputs": [
    {
     "data": {
      "text/plain": [
       "dict_keys(['loss', 'accuracy', 'val_loss', 'val_accuracy'])"
      ]
     },
     "execution_count": 40,
     "metadata": {},
     "output_type": "execute_result"
    }
   ],
   "source": [
    "hist.history.keys() \n",
    "#train 데이터와 validation데이터가 같이 나와서 4개의 값이 뜸 \n",
    "#loss,accuracy - train의 데이터 / val -loss,val_accuracy - validation의 데이터 "
   ]
  },
  {
   "cell_type": "code",
   "execution_count": 56,
   "id": "dcd2fec2",
   "metadata": {},
   "outputs": [
    {
     "data": {
      "image/png": "[encoded data removed]",
      "text/plain": [
       "<Figure size 1000x400 with 2 Axes>"
      ]
     },
     "metadata": {},
     "output_type": "display_data"
    }
   ],
   "source": [
    "# 모델 학습과정 시각화\n",
    "import matplotlib.pyplot as plt\n",
    "\n",
    "fig, loss_ax = plt.subplots(figsize=(10,4))\n",
    "loss_ax.plot(hist.history['loss'], 'y', label='train loss')\n",
    "loss_ax.plot(hist.history['val_loss'], 'r', label='val_loss')\n",
    "loss_ax.set_xlabel('epoch')\n",
    "loss_ax.set_ylabel('loss')\n",
    "\n",
    "acc_ax = loss_ax.twinx() #loss_ax와 x축을 공유하는 acc_ax생성\n",
    "acc_ax.plot(hist.history['accuracy'], 'g', label='train accuracy')\n",
    "acc_ax.plot(hist.history['val_accuracy'], 'b' , label='val accuracy')\n",
    "acc_ax.set_ylabel('accuracy')\n",
    "loss_ax.legend(loc='upper left')\n",
    "acc_ax.legend(loc='center right')\n",
    "plt.show()"
   ]
  },
  {
   "cell_type": "code",
   "execution_count": 82,
   "id": "b30af6b0",
   "metadata": {},
   "outputs": [
    {
     "ename": "RuntimeError",
     "evalue": "You must compile your model before training/testing. Use `model.compile(optimizer, loss)`.",
     "output_type": "error",
     "traceback": [
      "\u001b[1;31m---------------------------------------------------------------------------\u001b[0m",
      "\u001b[1;31mRuntimeError\u001b[0m                              Traceback (most recent call last)",
      "Cell \u001b[1;32mIn[82], line 2\u001b[0m\n\u001b[0;32m      1\u001b[0m \u001b[38;5;66;03m# 모델 평가하기\u001b[39;00m\n\u001b[1;32m----> 2\u001b[0m score \u001b[38;5;241m=\u001b[39m \u001b[43mmodel\u001b[49m\u001b[38;5;241;43m.\u001b[39;49m\u001b[43mevaluate\u001b[49m\u001b[43m(\u001b[49m\u001b[43mx_test\u001b[49m\u001b[43m,\u001b[49m\u001b[43m \u001b[49m\u001b[43mY_test\u001b[49m\u001b[43m,\u001b[49m\u001b[43m \u001b[49m\u001b[43mbatch_size\u001b[49m\u001b[38;5;241;43m=\u001b[39;49m\u001b[38;5;241;43m1\u001b[39;49m\u001b[43m)\u001b[49m\n",
      "File \u001b[1;32m~\\anaconda3\\envs\\ml-dl-nlp\\lib\\site-packages\\keras\\utils\\traceback_utils.py:70\u001b[0m, in \u001b[0;36mfilter_traceback.<locals>.error_handler\u001b[1;34m(*args, **kwargs)\u001b[0m\n\u001b[0;32m     67\u001b[0m     filtered_tb \u001b[38;5;241m=\u001b[39m _process_traceback_frames(e\u001b[38;5;241m.\u001b[39m__traceback__)\n\u001b[0;32m     68\u001b[0m     \u001b[38;5;66;03m# To get the full stack trace, call:\u001b[39;00m\n\u001b[0;32m     69\u001b[0m     \u001b[38;5;66;03m# `tf.debugging.disable_traceback_filtering()`\u001b[39;00m\n\u001b[1;32m---> 70\u001b[0m     \u001b[38;5;28;01mraise\u001b[39;00m e\u001b[38;5;241m.\u001b[39mwith_traceback(filtered_tb) \u001b[38;5;28;01mfrom\u001b[39;00m\u001b[38;5;250m \u001b[39m\u001b[38;5;28;01mNone\u001b[39;00m\n\u001b[0;32m     71\u001b[0m \u001b[38;5;28;01mfinally\u001b[39;00m:\n\u001b[0;32m     72\u001b[0m     \u001b[38;5;28;01mdel\u001b[39;00m filtered_tb\n",
      "File \u001b[1;32m~\\anaconda3\\envs\\ml-dl-nlp\\lib\\site-packages\\keras\\engine\\training.py:3618\u001b[0m, in \u001b[0;36mModel._assert_compile_was_called\u001b[1;34m(self)\u001b[0m\n\u001b[0;32m   3612\u001b[0m \u001b[38;5;28;01mdef\u001b[39;00m\u001b[38;5;250m \u001b[39m\u001b[38;5;21m_assert_compile_was_called\u001b[39m(\u001b[38;5;28mself\u001b[39m):\n\u001b[0;32m   3613\u001b[0m     \u001b[38;5;66;03m# Checks whether `compile` has been called. If it has been called,\u001b[39;00m\n\u001b[0;32m   3614\u001b[0m     \u001b[38;5;66;03m# then the optimizer is set. This is different from whether the\u001b[39;00m\n\u001b[0;32m   3615\u001b[0m     \u001b[38;5;66;03m# model is compiled\u001b[39;00m\n\u001b[0;32m   3616\u001b[0m     \u001b[38;5;66;03m# (i.e. whether the model is built and its inputs/outputs are set).\u001b[39;00m\n\u001b[0;32m   3617\u001b[0m     \u001b[38;5;28;01mif\u001b[39;00m \u001b[38;5;129;01mnot\u001b[39;00m \u001b[38;5;28mself\u001b[39m\u001b[38;5;241m.\u001b[39m_is_compiled:\n\u001b[1;32m-> 3618\u001b[0m         \u001b[38;5;28;01mraise\u001b[39;00m \u001b[38;5;167;01mRuntimeError\u001b[39;00m(\n\u001b[0;32m   3619\u001b[0m             \u001b[38;5;124m\"\u001b[39m\u001b[38;5;124mYou must compile your model before \u001b[39m\u001b[38;5;124m\"\u001b[39m\n\u001b[0;32m   3620\u001b[0m             \u001b[38;5;124m\"\u001b[39m\u001b[38;5;124mtraining/testing. \u001b[39m\u001b[38;5;124m\"\u001b[39m\n\u001b[0;32m   3621\u001b[0m             \u001b[38;5;124m\"\u001b[39m\u001b[38;5;124mUse `model.compile(optimizer, loss)`.\u001b[39m\u001b[38;5;124m\"\u001b[39m\n\u001b[0;32m   3622\u001b[0m         )\n",
      "\u001b[1;31mRuntimeError\u001b[0m: You must compile your model before training/testing. Use `model.compile(optimizer, loss)`."
     ]
    }
   ],
   "source": [
    "# 모델 평가하기\n",
    "score = model.evaluate(x_test, Y_test, batch_size=1)"
   ]
  },
  {
   "cell_type": "code",
   "execution_count": 79,
   "id": "a3902d27",
   "metadata": {},
   "outputs": [
    {
     "data": {
      "text/plain": [
       "[0.554489016532898, 0.8888888955116272]"
      ]
     },
     "execution_count": 79,
     "metadata": {},
     "output_type": "execute_result"
    }
   ],
   "source": [
    "score #loss, accuracy"
   ]
  },
  {
   "cell_type": "code",
   "execution_count": 80,
   "id": "204fdd6a",
   "metadata": {},
   "outputs": [
    {
     "name": "stdout",
     "output_type": "stream",
     "text": [
      "평가된 loss : 0.554489016532898\n",
      "평가된 accuracy : 88.88888955116272 %\n"
     ]
    }
   ],
   "source": [
    "print('평가된 loss :', score[0])\n",
    "print('평가된 accuracy :', score[1]*100 , '%')"
   ]
  },
  {
   "cell_type": "markdown",
   "id": "13c79a2d",
   "metadata": {},
   "source": [
    "# 7. 모델 사용하기"
   ]
  },
  {
   "cell_type": "code",
   "execution_count": 64,
   "id": "35904323",
   "metadata": {},
   "outputs": [
    {
     "name": "stdout",
     "output_type": "stream",
     "text": [
      "1/1 [==============================] - 0s 88ms/step\n"
     ]
    },
    {
     "data": {
      "text/plain": [
       "array([[5.0385618e-10, 1.2085966e-08, 1.2270027e-01, 3.6888526e-09,\n",
       "        6.9457114e-01, 1.7909245e-01, 8.8706598e-09, 7.1042550e-09,\n",
       "        3.5897396e-03, 4.8075266e-10, 4.5551864e-05, 3.3683989e-10,\n",
       "        7.1244534e-07, 6.0518468e-10, 1.5713503e-09, 2.3256694e-09,\n",
       "        5.5394959e-12, 2.8112062e-09, 1.3292023e-16]], dtype=float32)"
      ]
     },
     "execution_count": 64,
     "metadata": {},
     "output_type": "execute_result"
    }
   ],
   "source": [
    "H = model.predict(np.array([[2]]))\n",
    "H"
   ]
  },
  {
   "cell_type": "code",
   "execution_count": 65,
   "id": "a5d03c11",
   "metadata": {},
   "outputs": [
    {
     "name": "stdout",
     "output_type": "stream",
     "text": [
      "1/1 [==============================] - 0s 17ms/step\n"
     ]
    },
    {
     "data": {
      "text/plain": [
       "4"
      ]
     },
     "execution_count": 65,
     "metadata": {},
     "output_type": "execute_result"
    }
   ],
   "source": [
    "# 분류분석의 예측은 predict()후 argmax()\n",
    "model.predict(np.array([[2]])).argmax() #값이 제일 큰 것을 반환"
   ]
  },
  {
   "cell_type": "code",
   "execution_count": 81,
   "id": "206ac0f9",
   "metadata": {},
   "outputs": [
    {
     "data": {
      "text/plain": [
       "69.45711374282837"
      ]
     },
     "execution_count": 81,
     "metadata": {},
     "output_type": "execute_result"
    }
   ],
   "source": [
    "# 4를 몇퍼센트 확률로 예측했는지 \n",
    "H[0,H.argmax()]*100"
   ]
  },
  {
   "cell_type": "markdown",
   "id": "a5276c96",
   "metadata": {},
   "source": [
    "# 7.모델 저장하기"
   ]
  },
  {
   "cell_type": "code",
   "execution_count": 70,
   "id": "83cd6fc6",
   "metadata": {},
   "outputs": [],
   "source": [
    "# model.save('model/02_deep.h5')  #tensorflow 10버전\n",
    "from tensorflow.keras.models import save_model\n",
    "save_model(model, 'model/02_depp.h5') #tensorflow 모든 버전에서 "
   ]
  },
  {
   "cell_type": "markdown",
   "id": "c32e989b",
   "metadata": {},
   "source": [
    "# 저장된 모델 사용하기\n"
   ]
  },
  {
   "cell_type": "code",
   "execution_count": 71,
   "id": "4916c87d",
   "metadata": {},
   "outputs": [],
   "source": [
    "from tensorflow.keras.models import load_model\n",
    "model2 = load_model('model/02_deep.h5') "
   ]
  },
  {
   "cell_type": "code",
   "execution_count": null,
   "id": "868be8c0",
   "metadata": {},
   "outputs": [],
   "source": []
  },
  {
   "cell_type": "code",
   "execution_count": null,
   "id": "e6dedf9d",
   "metadata": {},
   "outputs": [],
   "source": []
  }
 ],
 "metadata": {
  "kernelspec": {
   "display_name": "ml-dl-nlp",
   "language": "python",
   "name": "ml-dl-nlp"
  },
  "language_info": {
   "codemirror_mode": {
    "name": "ipython",
    "version": 3
   },
   "file_extension": ".py",
   "mimetype": "text/x-python",
   "name": "python",
   "nbconvert_exporter": "python",
   "pygments_lexer": "ipython3",
   "version": "3.10.18"
  },
  "toc": {
   "base_numbering": 1,
   "nav_menu": {},
   "number_sections": false,
   "sideBar": true,
   "skip_h1_title": false,
   "title_cell": "Table of Contents",
   "title_sidebar": "Contents",
   "toc_cell": false,
   "toc_position": {
    "height": "calc(100% - 180px)",
    "left": "10px",
    "top": "150px",
    "width": "171.764px"
   },
   "toc_section_display": true,
   "toc_window_display": true
  }
 },
 "nbformat": 4,
 "nbformat_minor": 5
}
