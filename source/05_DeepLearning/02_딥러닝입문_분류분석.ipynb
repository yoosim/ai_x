{
 "cells": [
  {
   "cell_type": "code",
   "execution_count": 1,
   "id": "308382a7",
   "metadata": {},
   "outputs": [
    {
     "data": {
      "text/html": [
       "\n",
       "<style>\n",
       "div.container{width:86% !important;}\n",
       "div.cell.code_cell.rendered{width:100%;}\n",
       "div.CodeMirror {font-family:Consolas; font-size:15pt;}\n",
       "div.output {font-size:15pt; font-weight:bold;}\n",
       "div.input {font-family:Consolas; font-size:15pt;}\n",
       "div.prompt {min-width:70px;}\n",
       "div#toc-wrapper{padding-top:120px;}\n",
       "div.text_cell_render ul li{font-size:12pt;padding:5px;}\n",
       "table.dataframe{font-size:15px;}\n",
       "</style>\n",
       " "
      ],
      "text/plain": [
       "<IPython.core.display.HTML object>"
      ]
     },
     "metadata": {},
     "output_type": "display_data"
    }
   ],
   "source": [
    "from IPython.display import display, HTML \n",
    "display(HTML(\"\"\"\n",
    "<style>\n",
    "div.container{width:86% !important;}\n",
    "div.cell.code_cell.rendered{width:100%;}\n",
    "div.CodeMirror {font-family:Consolas; font-size:15pt;}\n",
    "div.output {font-size:15pt; font-weight:bold;}\n",
    "div.input {font-family:Consolas; font-size:15pt;}\n",
    "div.prompt {min-width:70px;}\n",
    "div#toc-wrapper{padding-top:120px;}\n",
    "div.text_cell_render ul li{font-size:12pt;padding:5px;}\n",
    "table.dataframe{font-size:15px;}\n",
    "</style>\n",
    " \"\"\"))"
   ]
  },
  {
   "cell_type": "code",
   "execution_count": 2,
   "id": "d1b7c804",
   "metadata": {},
   "outputs": [],
   "source": [
    "from tensorflow.keras.utils import to_categorical # 분류분석시 원핫인코딩 (전처리에 필요한것)\n",
    "from tensorflow.keras.models import Sequential #모델생성\n",
    "from tensorflow.keras.layers import Dense, Input\n",
    "import numpy as np"
   ]
  },
  {
   "cell_type": "markdown",
   "id": "815d4760",
   "metadata": {},
   "source": [
    "# 머신러닝/딥러닝 : 데이터의 법칙성을 추출 \n",
    "- 다양한 분야에서 응용 : 글씨인식, 문장분류, 질병진단 / 얼굴인식, 음성인식 \\\n",
    "\n",
    "<span style=\"color:red; font-size: 18px; font-weight: bold;\">※ ML/DL의 종류 </span>\n",
    "- 지도학습(독립=입력변수와 종속=타켓=출력변수가 모두 주어졌을 경우) \\\n",
    "    회귀분석 (타겟변수가 연속형) vs 분류분석(multi-다중(아주춥다,춥다,보통,덥다,아주덥다 등), binary-2개(이진)(춥다,덥다))\n",
    "- 비지도학습(입력변수만) / 답을 안 가르쳐줌\n",
    "    군집분석, 군집화 (어떻게 분류되는지는 모름, 컴퓨터가 알아서 분류 함)\n",
    "- 강화학습\n",
    "\n",
    "<span style=\"color:green; font-size: 18px; font-weight: bold;\"> ※지도 학습에서의 ML,DL 프로그래밍 방식 </span>\n",
    "1.  **데이터 셋 확보(input=입력변수, target=종속변수)** \\\n",
    "    원본 데이터 및 시뮬레이션을 통해 데이터 생성 확보 필요 (다량의 데이터가 필요)\n",
    "    <br>    \n",
    "2. **데이터 전처리** \\\n",
    "    스케일 조정 \\\n",
    "    훈련셋(학습셋), 검증셋, 시험셋(테스트셋)\\\n",
    "    학습 및 평가 가능한 포맷으로 변환\n",
    "    <br>\n",
    "3. **모델 구성** \\\n",
    "    Sequential 객체 생성뒤 필요한 층(식)을 add()함수를 이용해서 추가\n",
    "<br>    \n",
    "4. **모델 학습과정 설정**\\\n",
    "    compile()함수 이용. 손실함수, optimizer,metrics(평가지표) \n",
    "    <br> \n",
    "5. **모델 학습 시키기 (ft. 학습과정 지켜보기**)\\\n",
    "    fit()함수 이용 - 훈련셋입력=독립변수, 훈련셋타겟=종속변수, 학습횟수, 검증셋\n",
    "    <br>\n",
    "6. **모델 평가**\\\n",
    "    시험셋(테스트셋)을 인자로 넣은 evaluate()함수 이용, 그래프\n",
    "    <br>\n",
    "7. **모델 사용**\\\n",
    "    predict()이용. 입력데이터는 2차원[[0]]\n",
    "    <br>\n",
    "8. **모델 저장**\\\n",
    "    save()함수를 이용해서 저장. 저장된 모델은 load_model()함수를 이용해서 불러올 수 있음\n",
    "    <br>\n",
    "    \n",
    "    "
   ]
  },
  {
   "cell_type": "markdown",
   "id": "2513e84b",
   "metadata": {},
   "source": [
    "# 1.데이터셋 확보"
   ]
  },
  {
   "cell_type": "markdown",
   "id": "563a0762",
   "metadata": {},
   "source": [
    "# 2.데이터 전처리"
   ]
  },
  {
   "cell_type": "code",
   "execution_count": 3,
   "id": "a0d822ec",
   "metadata": {},
   "outputs": [
    {
     "name": "stdout",
     "output_type": "stream",
     "text": [
      "x_train의 값 : (90,)\n",
      "y_train의 값 : (90,)\n",
      "x_val의 값 : (9,)\n",
      "y_val의 값 : (9,)\n",
      "x_test의 값 : (9,)\n",
      "y_test의 값 : (9,)\n"
     ]
    },
    {
     "data": {
      "text/plain": [
       "(None, None)"
      ]
     },
     "execution_count": 3,
     "metadata": {},
     "output_type": "execute_result"
    }
   ],
   "source": [
    "# 학습데이터 = 훈련데이터\n",
    "x_train = np.array([1,2,3,4,5,6,7,8,9]*10)\n",
    "# y_train = np.array(['a','b','c','d']) #문자를 숫자로 바꿔야 함. \n",
    "y_train = np.array([2,4,6,8,10,12,14,16,18]*10) #숫자가 아니라 2그룹, 4그룹 으로 읽음\n",
    "print('x_train의 값 :',x_train.shape), print('y_train의 값 :',y_train.shape)\n",
    "\n",
    "# 검증데이터\n",
    "x_val = np.array([1,2,3,4,5,6,7,8,9])\n",
    "y_val = np.array([2,4,6,8,10,12,14,16,18])\n",
    "print('x_val의 값 :',x_val.shape), print('y_val의 값 :',y_val.shape)\n",
    "\n",
    "# 테스트셋 = 시험데이터 \n",
    "x_test = np.array([1,2,3,4,5,6,7,8,9])\n",
    "y_test = np.array([2,4,6,8,10,12,14,16,18])\n",
    "print('x_test의 값 :',x_test.shape), print('y_test의 값 :',y_test.shape)\n",
    "\n",
    "# 스케일 조정하지 않고 넣으면 큰일남"
   ]
  },
  {
   "cell_type": "code",
   "execution_count": 4,
   "id": "8cced0c1",
   "metadata": {},
   "outputs": [
    {
     "name": "stdout",
     "output_type": "stream",
     "text": [
      "원 데이터 : ['a' 'b' 'c' 'd']\n",
      "라벨인코딩된 데이터 : [0 1 2 3]\n",
      "원핫인코딩된 데이터 :\n",
      " [[1. 0. 0. 0.]\n",
      " [0. 1. 0. 0.]\n",
      " [0. 0. 1. 0.]\n",
      " [0. 0. 0. 1.]]\n"
     ]
    }
   ],
   "source": [
    "# 인코딩 종류\n",
    "data = np.array(['a','b','c','d'])\n",
    "print('원 데이터 :', data)\n",
    "from sklearn.preprocessing import LabelEncoder\n",
    "le = LabelEncoder() #라벨인코딩 객체 만들기\n",
    "le.fit(data)\n",
    "labeled_data = le.fit_transform(data)\n",
    "print('라벨인코딩된 데이터 :', labeled_data)\n",
    "one_hot_encoded_data = to_categorical(labeled_data)\n",
    "print('원핫인코딩된 데이터 :\\n',one_hot_encoded_data)"
   ]
  },
  {
   "cell_type": "code",
   "execution_count": 5,
   "id": "6e7b142f",
   "metadata": {},
   "outputs": [
    {
     "name": "stdout",
     "output_type": "stream",
     "text": [
      "[1 2 2 4 2]\n",
      "to_categorical을 이용한 원핫인코딩 :\n",
      " [[0. 1. 0. 0. 0.]\n",
      " [0. 0. 1. 0. 0.]\n",
      " [0. 0. 1. 0. 0.]\n",
      " [0. 0. 0. 0. 1.]\n",
      " [0. 0. 1. 0. 0.]]\n"
     ]
    },
    {
     "data": {
      "text/plain": [
       "'get_dumies를 이용한 원핫인코딩 :'"
      ]
     },
     "metadata": {},
     "output_type": "display_data"
    },
    {
     "data": {
      "text/html": [
       "<div>\n",
       "<style scoped>\n",
       "    .dataframe tbody tr th:only-of-type {\n",
       "        vertical-align: middle;\n",
       "    }\n",
       "\n",
       "    .dataframe tbody tr th {\n",
       "        vertical-align: top;\n",
       "    }\n",
       "\n",
       "    .dataframe thead th {\n",
       "        text-align: right;\n",
       "    }\n",
       "</style>\n",
       "<table border=\"1\" class=\"dataframe\">\n",
       "  <thead>\n",
       "    <tr style=\"text-align: right;\">\n",
       "      <th></th>\n",
       "      <th>1</th>\n",
       "      <th>2</th>\n",
       "      <th>4</th>\n",
       "    </tr>\n",
       "  </thead>\n",
       "  <tbody>\n",
       "    <tr>\n",
       "      <th>0</th>\n",
       "      <td>1</td>\n",
       "      <td>0</td>\n",
       "      <td>0</td>\n",
       "    </tr>\n",
       "    <tr>\n",
       "      <th>1</th>\n",
       "      <td>0</td>\n",
       "      <td>1</td>\n",
       "      <td>0</td>\n",
       "    </tr>\n",
       "    <tr>\n",
       "      <th>2</th>\n",
       "      <td>0</td>\n",
       "      <td>1</td>\n",
       "      <td>0</td>\n",
       "    </tr>\n",
       "    <tr>\n",
       "      <th>3</th>\n",
       "      <td>0</td>\n",
       "      <td>0</td>\n",
       "      <td>1</td>\n",
       "    </tr>\n",
       "    <tr>\n",
       "      <th>4</th>\n",
       "      <td>0</td>\n",
       "      <td>1</td>\n",
       "      <td>0</td>\n",
       "    </tr>\n",
       "  </tbody>\n",
       "</table>\n",
       "</div>"
      ],
      "text/plain": [
       "   1  2  4\n",
       "0  1  0  0\n",
       "1  0  1  0\n",
       "2  0  1  0\n",
       "3  0  0  1\n",
       "4  0  1  0"
      ]
     },
     "metadata": {},
     "output_type": "display_data"
    },
    {
     "name": "stdout",
     "output_type": "stream",
     "text": [
      "<class 'numpy.ndarray'>\n",
      "<class 'pandas.core.frame.DataFrame'>\n"
     ]
    }
   ],
   "source": [
    "# 분류분석을 위해, target을 원핫인코딩(라벨링 전환)\n",
    "data = np.array([1,2,2,4,2])\n",
    "print(data)\n",
    "categorical_one_hot = to_categorical(data)\n",
    "print('to_categorical을 이용한 원핫인코딩 :\\n', categorical_one_hot)\n",
    "import pandas as pd\n",
    "get_dumies_one_hot = pd.get_dummies(data)\n",
    "display('get_dumies를 이용한 원핫인코딩 :', get_dumies_one_hot)\n",
    "print(type(categorical_one_hot))\n",
    "print(type(get_dumies_one_hot))"
   ]
  },
  {
   "cell_type": "code",
   "execution_count": 6,
   "id": "2afac0b9",
   "metadata": {},
   "outputs": [],
   "source": [
    "#분류분석을 위한 target 변수 라벨링 전환(=원핫인코딩)\n",
    "Y_train = to_categorical(y_train, 19)\n",
    "Y_val = to_categorical(y_val)\n",
    "Y_test = to_categorical(y_test)"
   ]
  },
  {
   "cell_type": "code",
   "execution_count": 7,
   "id": "0a67ea6c",
   "metadata": {},
   "outputs": [
    {
     "name": "stdout",
     "output_type": "stream",
     "text": [
      "훈련데이터셋 구조: (90,) (90, 19)\n",
      "검증데이터셋 구조: (9,) (9, 19)\n",
      "검증데이터셋 구조: (9,) (9, 19)\n"
     ]
    }
   ],
   "source": [
    "print('훈련데이터셋 구조:',x_train.shape, Y_train.shape) # 독립변수1개, 타겟변수 19개 들어가는것\n",
    "print('검증데이터셋 구조:',x_val.shape, Y_val.shape)\n",
    "print('검증데이터셋 구조:',x_test.shape, Y_test.shape)"
   ]
  },
  {
   "cell_type": "markdown",
   "id": "1eb76c7b",
   "metadata": {},
   "source": [
    "# 3. 모델 구성하기"
   ]
  },
  {
   "cell_type": "code",
   "execution_count": 8,
   "id": "22bb58bb",
   "metadata": {},
   "outputs": [
    {
     "name": "stdout",
     "output_type": "stream",
     "text": [
      "Model: \"sequential\"\n",
      "_________________________________________________________________\n",
      " Layer (type)                Output Shape              Param #   \n",
      "=================================================================\n",
      " dense (Dense)               (None, 38)                76        \n",
      "                                                                 \n",
      " dense_1 (Dense)             (None, 64)                2496      \n",
      "                                                                 \n",
      " dense_2 (Dense)             (None, 32)                2080      \n",
      "                                                                 \n",
      " dense_3 (Dense)             (None, 19)                627       \n",
      "                                                                 \n",
      "=================================================================\n",
      "Total params: 5,279\n",
      "Trainable params: 5,279\n",
      "Non-trainable params: 0\n",
      "_________________________________________________________________\n"
     ]
    }
   ],
   "source": [
    "model = Sequential() #객체 만들기\n",
    "model.add(Input(shape=(1,))) #입력층\n",
    "model.add(Dense(units=38, activation='sigmoid')) #units은 출력수, 활성화 함수 : relu, tanh\n",
    "model.add(Dense(units=64, activation='elu'))\n",
    "model.add(Dense(units=32, activation='elu'))\n",
    "model.add(Dense(units=19, activation='softmax')) \n",
    "#softmax : 모든 출력결과의 합이 1(100%) / 분류분석 마지막 layer(출력층)에서 activation()(활성화 함수)로 사용\n",
    "model.summary()"
   ]
  },
  {
   "cell_type": "markdown",
   "id": "c6cc2a98",
   "metadata": {},
   "source": [
    "# 4. 모델 학습 과정 설정 "
   ]
  },
  {
   "cell_type": "code",
   "execution_count": 9,
   "id": "56d3e6e9",
   "metadata": {},
   "outputs": [],
   "source": [
    "model.compile(loss=\"categorical_crossentropy\", # 분류분석에서의 손실함수(원핫인코딩 진행 했다는 전제조건으로)\n",
    "              optimizer=\"sgd\",\n",
    "              metrics=['accuracy']) # 평가지표 : accuracy (얼마나 맞추는지? 맞추는것에 초점)"
   ]
  },
  {
   "cell_type": "markdown",
   "id": "dbe7130f",
   "metadata": {},
   "source": [
    "# 5. 모델 학습 시키기 (Y뭘까)\n"
   ]
  },
  {
   "cell_type": "code",
   "execution_count": 10,
   "id": "305677e8",
   "metadata": {
    "collapsed": true
   },
   "outputs": [
    {
     "name": "stdout",
     "output_type": "stream",
     "text": [
      "Epoch 1/300\n",
      "9/9 - 1s - loss: 3.0923 - accuracy: 0.0222 - val_loss: 2.9487 - val_accuracy: 0.0000e+00 - 758ms/epoch - 84ms/step\n",
      "Epoch 2/300\n",
      "9/9 - 0s - loss: 2.8775 - accuracy: 0.0000e+00 - val_loss: 2.7804 - val_accuracy: 0.0000e+00 - 47ms/epoch - 5ms/step\n",
      "Epoch 3/300\n",
      "9/9 - 0s - loss: 2.7384 - accuracy: 0.1667 - val_loss: 2.6667 - val_accuracy: 0.2222 - 39ms/epoch - 4ms/step\n",
      "Epoch 4/300\n",
      "9/9 - 0s - loss: 2.6382 - accuracy: 0.2222 - val_loss: 2.5840 - val_accuracy: 0.2222 - 52ms/epoch - 6ms/step\n",
      "Epoch 5/300\n",
      "9/9 - 0s - loss: 2.5653 - accuracy: 0.2444 - val_loss: 2.5200 - val_accuracy: 0.2222 - 48ms/epoch - 5ms/step\n",
      "Epoch 6/300\n",
      "9/9 - 0s - loss: 2.5063 - accuracy: 0.2222 - val_loss: 2.4677 - val_accuracy: 0.2222 - 47ms/epoch - 5ms/step\n",
      "Epoch 7/300\n",
      "9/9 - 0s - loss: 2.4595 - accuracy: 0.1778 - val_loss: 2.4225 - val_accuracy: 0.2222 - 38ms/epoch - 4ms/step\n",
      "Epoch 8/300\n",
      "9/9 - 0s - loss: 2.4190 - accuracy: 0.2000 - val_loss: 2.3815 - val_accuracy: 0.2222 - 54ms/epoch - 6ms/step\n",
      "Epoch 9/300\n",
      "9/9 - 0s - loss: 2.3766 - accuracy: 0.1889 - val_loss: 2.3436 - val_accuracy: 0.2222 - 41ms/epoch - 5ms/step\n",
      "Epoch 10/300\n",
      "9/9 - 0s - loss: 2.3403 - accuracy: 0.1889 - val_loss: 2.3081 - val_accuracy: 0.2222 - 50ms/epoch - 6ms/step\n",
      "Epoch 11/300\n",
      "9/9 - 0s - loss: 2.3061 - accuracy: 0.2222 - val_loss: 2.2748 - val_accuracy: 0.2222 - 55ms/epoch - 6ms/step\n",
      "Epoch 12/300\n",
      "9/9 - 0s - loss: 2.2720 - accuracy: 0.2222 - val_loss: 2.2434 - val_accuracy: 0.2222 - 53ms/epoch - 6ms/step\n",
      "Epoch 13/300\n",
      "9/9 - 0s - loss: 2.2441 - accuracy: 0.2000 - val_loss: 2.2142 - val_accuracy: 0.2222 - 52ms/epoch - 6ms/step\n",
      "Epoch 14/300\n",
      "9/9 - 0s - loss: 2.2137 - accuracy: 0.1889 - val_loss: 2.1863 - val_accuracy: 0.2222 - 55ms/epoch - 6ms/step\n",
      "Epoch 15/300\n",
      "9/9 - 0s - loss: 2.1901 - accuracy: 0.2222 - val_loss: 2.1601 - val_accuracy: 0.2222 - 54ms/epoch - 6ms/step\n",
      "Epoch 16/300\n",
      "9/9 - 0s - loss: 2.1619 - accuracy: 0.1778 - val_loss: 2.1352 - val_accuracy: 0.3333 - 49ms/epoch - 5ms/step\n",
      "Epoch 17/300\n",
      "9/9 - 0s - loss: 2.1405 - accuracy: 0.2000 - val_loss: 2.1112 - val_accuracy: 0.2222 - 56ms/epoch - 6ms/step\n",
      "Epoch 18/300\n",
      "9/9 - 0s - loss: 2.1146 - accuracy: 0.2333 - val_loss: 2.0887 - val_accuracy: 0.2222 - 50ms/epoch - 6ms/step\n",
      "Epoch 19/300\n",
      "9/9 - 0s - loss: 2.0961 - accuracy: 0.2111 - val_loss: 2.0669 - val_accuracy: 0.2222 - 52ms/epoch - 6ms/step\n",
      "Epoch 20/300\n",
      "9/9 - 0s - loss: 2.0704 - accuracy: 0.2333 - val_loss: 2.0460 - val_accuracy: 0.2222 - 56ms/epoch - 6ms/step\n",
      "Epoch 21/300\n",
      "9/9 - 0s - loss: 2.0529 - accuracy: 0.1222 - val_loss: 2.0259 - val_accuracy: 0.2222 - 51ms/epoch - 6ms/step\n",
      "Epoch 22/300\n",
      "9/9 - 0s - loss: 2.0353 - accuracy: 0.2000 - val_loss: 2.0065 - val_accuracy: 0.2222 - 49ms/epoch - 5ms/step\n",
      "Epoch 23/300\n",
      "9/9 - 0s - loss: 2.0148 - accuracy: 0.1778 - val_loss: 1.9879 - val_accuracy: 0.4444 - 51ms/epoch - 6ms/step\n",
      "Epoch 24/300\n",
      "9/9 - 0s - loss: 1.9947 - accuracy: 0.2556 - val_loss: 1.9700 - val_accuracy: 0.4444 - 49ms/epoch - 5ms/step\n",
      "Epoch 25/300\n",
      "9/9 - 0s - loss: 1.9821 - accuracy: 0.2556 - val_loss: 1.9524 - val_accuracy: 0.4444 - 50ms/epoch - 6ms/step\n",
      "Epoch 26/300\n",
      "9/9 - 0s - loss: 1.9589 - accuracy: 0.3222 - val_loss: 1.9347 - val_accuracy: 0.4444 - 50ms/epoch - 6ms/step\n",
      "Epoch 27/300\n",
      "9/9 - 0s - loss: 1.9456 - accuracy: 0.3556 - val_loss: 1.9178 - val_accuracy: 0.3333 - 50ms/epoch - 6ms/step\n",
      "Epoch 28/300\n",
      "9/9 - 0s - loss: 1.9259 - accuracy: 0.3333 - val_loss: 1.9011 - val_accuracy: 0.4444 - 49ms/epoch - 5ms/step\n",
      "Epoch 29/300\n",
      "9/9 - 0s - loss: 1.9091 - accuracy: 0.2778 - val_loss: 1.8846 - val_accuracy: 0.4444 - 50ms/epoch - 6ms/step\n",
      "Epoch 30/300\n",
      "9/9 - 0s - loss: 1.8893 - accuracy: 0.2778 - val_loss: 1.8683 - val_accuracy: 0.3333 - 51ms/epoch - 6ms/step\n",
      "Epoch 31/300\n",
      "9/9 - 0s - loss: 1.8805 - accuracy: 0.3556 - val_loss: 1.8522 - val_accuracy: 0.3333 - 33ms/epoch - 4ms/step\n",
      "Epoch 32/300\n",
      "9/9 - 0s - loss: 1.8675 - accuracy: 0.3000 - val_loss: 1.8366 - val_accuracy: 0.4444 - 47ms/epoch - 5ms/step\n",
      "Epoch 33/300\n",
      "9/9 - 0s - loss: 1.8456 - accuracy: 0.3111 - val_loss: 1.8210 - val_accuracy: 0.3333 - 50ms/epoch - 6ms/step\n",
      "Epoch 34/300\n",
      "9/9 - 0s - loss: 1.8325 - accuracy: 0.3333 - val_loss: 1.8054 - val_accuracy: 0.4444 - 52ms/epoch - 6ms/step\n",
      "Epoch 35/300\n",
      "9/9 - 0s - loss: 1.8146 - accuracy: 0.3444 - val_loss: 1.7903 - val_accuracy: 0.4444 - 50ms/epoch - 6ms/step\n",
      "Epoch 36/300\n",
      "9/9 - 0s - loss: 1.8068 - accuracy: 0.3556 - val_loss: 1.7754 - val_accuracy: 0.4444 - 49ms/epoch - 5ms/step\n",
      "Epoch 37/300\n",
      "9/9 - 0s - loss: 1.7829 - accuracy: 0.3444 - val_loss: 1.7608 - val_accuracy: 0.4444 - 59ms/epoch - 7ms/step\n",
      "Epoch 38/300\n",
      "9/9 - 0s - loss: 1.7739 - accuracy: 0.2778 - val_loss: 1.7461 - val_accuracy: 0.5556 - 49ms/epoch - 5ms/step\n",
      "Epoch 39/300\n",
      "9/9 - 0s - loss: 1.7539 - accuracy: 0.4111 - val_loss: 1.7318 - val_accuracy: 0.3333 - 58ms/epoch - 6ms/step\n",
      "Epoch 40/300\n",
      "9/9 - 0s - loss: 1.7457 - accuracy: 0.3222 - val_loss: 1.7179 - val_accuracy: 0.4444 - 53ms/epoch - 6ms/step\n",
      "Epoch 41/300\n",
      "9/9 - 0s - loss: 1.7330 - accuracy: 0.3222 - val_loss: 1.7037 - val_accuracy: 0.3333 - 40ms/epoch - 4ms/step\n",
      "Epoch 42/300\n",
      "9/9 - 0s - loss: 1.7262 - accuracy: 0.3222 - val_loss: 1.6898 - val_accuracy: 0.3333 - 42ms/epoch - 5ms/step\n",
      "Epoch 43/300\n",
      "9/9 - 0s - loss: 1.7055 - accuracy: 0.3222 - val_loss: 1.6764 - val_accuracy: 0.3333 - 32ms/epoch - 4ms/step\n",
      "Epoch 44/300\n",
      "9/9 - 0s - loss: 1.6906 - accuracy: 0.3222 - val_loss: 1.6642 - val_accuracy: 0.4444 - 51ms/epoch - 6ms/step\n",
      "Epoch 45/300\n",
      "9/9 - 0s - loss: 1.6704 - accuracy: 0.4778 - val_loss: 1.6501 - val_accuracy: 0.4444 - 47ms/epoch - 5ms/step\n",
      "Epoch 46/300\n",
      "9/9 - 0s - loss: 1.6675 - accuracy: 0.3889 - val_loss: 1.6374 - val_accuracy: 0.5556 - 50ms/epoch - 6ms/step\n",
      "Epoch 47/300\n",
      "9/9 - 0s - loss: 1.6463 - accuracy: 0.4556 - val_loss: 1.6248 - val_accuracy: 0.5556 - 50ms/epoch - 6ms/step\n",
      "Epoch 48/300\n",
      "9/9 - 0s - loss: 1.6446 - accuracy: 0.3778 - val_loss: 1.6119 - val_accuracy: 0.6667 - 50ms/epoch - 6ms/step\n",
      "Epoch 49/300\n",
      "9/9 - 0s - loss: 1.6233 - accuracy: 0.4667 - val_loss: 1.5996 - val_accuracy: 0.4444 - 50ms/epoch - 6ms/step\n",
      "Epoch 50/300\n",
      "9/9 - 0s - loss: 1.6133 - accuracy: 0.4111 - val_loss: 1.5872 - val_accuracy: 0.6667 - 50ms/epoch - 6ms/step\n",
      "Epoch 51/300\n",
      "9/9 - 0s - loss: 1.6016 - accuracy: 0.4667 - val_loss: 1.5754 - val_accuracy: 0.6667 - 50ms/epoch - 6ms/step\n",
      "Epoch 52/300\n",
      "9/9 - 0s - loss: 1.5882 - accuracy: 0.5222 - val_loss: 1.5641 - val_accuracy: 0.5556 - 54ms/epoch - 6ms/step\n",
      "Epoch 53/300\n",
      "9/9 - 0s - loss: 1.5790 - accuracy: 0.4667 - val_loss: 1.5517 - val_accuracy: 0.5556 - 58ms/epoch - 6ms/step\n",
      "Epoch 54/300\n",
      "9/9 - 0s - loss: 1.5619 - accuracy: 0.4444 - val_loss: 1.5402 - val_accuracy: 0.5556 - 64ms/epoch - 7ms/step\n",
      "Epoch 55/300\n",
      "9/9 - 0s - loss: 1.5572 - accuracy: 0.4667 - val_loss: 1.5292 - val_accuracy: 0.5556 - 35ms/epoch - 4ms/step\n",
      "Epoch 56/300\n",
      "9/9 - 0s - loss: 1.5447 - accuracy: 0.4667 - val_loss: 1.5180 - val_accuracy: 0.4444 - 46ms/epoch - 5ms/step\n",
      "Epoch 57/300\n",
      "9/9 - 0s - loss: 1.5346 - accuracy: 0.5111 - val_loss: 1.5071 - val_accuracy: 0.5556 - 50ms/epoch - 6ms/step\n",
      "Epoch 58/300\n",
      "9/9 - 0s - loss: 1.5262 - accuracy: 0.4111 - val_loss: 1.4969 - val_accuracy: 0.5556 - 40ms/epoch - 4ms/step\n",
      "Epoch 59/300\n",
      "9/9 - 0s - loss: 1.5116 - accuracy: 0.5667 - val_loss: 1.4857 - val_accuracy: 0.4444 - 62ms/epoch - 7ms/step\n",
      "Epoch 60/300\n",
      "9/9 - 0s - loss: 1.5064 - accuracy: 0.4778 - val_loss: 1.4755 - val_accuracy: 0.5556 - 33ms/epoch - 4ms/step\n",
      "Epoch 61/300\n",
      "9/9 - 0s - loss: 1.4881 - accuracy: 0.5667 - val_loss: 1.4652 - val_accuracy: 0.5556 - 49ms/epoch - 5ms/step\n",
      "Epoch 62/300\n",
      "9/9 - 0s - loss: 1.4789 - accuracy: 0.4333 - val_loss: 1.4559 - val_accuracy: 0.5556 - 58ms/epoch - 6ms/step\n",
      "Epoch 63/300\n",
      "9/9 - 0s - loss: 1.4763 - accuracy: 0.4000 - val_loss: 1.4454 - val_accuracy: 0.5556 - 58ms/epoch - 6ms/step\n",
      "Epoch 64/300\n",
      "9/9 - 0s - loss: 1.4526 - accuracy: 0.5000 - val_loss: 1.4350 - val_accuracy: 0.5556 - 67ms/epoch - 7ms/step\n",
      "Epoch 65/300\n",
      "9/9 - 0s - loss: 1.4498 - accuracy: 0.4778 - val_loss: 1.4254 - val_accuracy: 0.6667 - 50ms/epoch - 6ms/step\n",
      "Epoch 66/300\n",
      "9/9 - 0s - loss: 1.4392 - accuracy: 0.6000 - val_loss: 1.4154 - val_accuracy: 0.5556 - 59ms/epoch - 7ms/step\n",
      "Epoch 67/300\n",
      "9/9 - 0s - loss: 1.4292 - accuracy: 0.6222 - val_loss: 1.4061 - val_accuracy: 0.5556 - 53ms/epoch - 6ms/step\n",
      "Epoch 68/300\n",
      "9/9 - 0s - loss: 1.4192 - accuracy: 0.5000 - val_loss: 1.3968 - val_accuracy: 0.5556 - 60ms/epoch - 7ms/step\n"
     ]
    },
    {
     "name": "stdout",
     "output_type": "stream",
     "text": [
      "Epoch 69/300\n",
      "9/9 - 0s - loss: 1.4084 - accuracy: 0.5778 - val_loss: 1.3876 - val_accuracy: 0.5556 - 57ms/epoch - 6ms/step\n",
      "Epoch 70/300\n",
      "9/9 - 0s - loss: 1.4048 - accuracy: 0.4556 - val_loss: 1.3780 - val_accuracy: 0.5556 - 47ms/epoch - 5ms/step\n",
      "Epoch 71/300\n",
      "9/9 - 0s - loss: 1.3903 - accuracy: 0.6556 - val_loss: 1.3692 - val_accuracy: 0.5556 - 58ms/epoch - 6ms/step\n",
      "Epoch 72/300\n",
      "9/9 - 0s - loss: 1.3853 - accuracy: 0.5444 - val_loss: 1.3609 - val_accuracy: 0.5556 - 43ms/epoch - 5ms/step\n",
      "Epoch 73/300\n",
      "9/9 - 0s - loss: 1.3791 - accuracy: 0.5889 - val_loss: 1.3514 - val_accuracy: 0.5556 - 49ms/epoch - 5ms/step\n",
      "Epoch 74/300\n",
      "9/9 - 0s - loss: 1.3672 - accuracy: 0.5111 - val_loss: 1.3430 - val_accuracy: 0.6667 - 42ms/epoch - 5ms/step\n",
      "Epoch 75/300\n",
      "9/9 - 0s - loss: 1.3631 - accuracy: 0.6444 - val_loss: 1.3337 - val_accuracy: 0.5556 - 41ms/epoch - 5ms/step\n",
      "Epoch 76/300\n",
      "9/9 - 0s - loss: 1.3448 - accuracy: 0.6222 - val_loss: 1.3257 - val_accuracy: 0.5556 - 50ms/epoch - 6ms/step\n",
      "Epoch 77/300\n",
      "9/9 - 0s - loss: 1.3412 - accuracy: 0.5000 - val_loss: 1.3172 - val_accuracy: 0.6667 - 39ms/epoch - 4ms/step\n",
      "Epoch 78/300\n",
      "9/9 - 0s - loss: 1.3326 - accuracy: 0.6000 - val_loss: 1.3089 - val_accuracy: 0.7778 - 44ms/epoch - 5ms/step\n",
      "Epoch 79/300\n",
      "9/9 - 0s - loss: 1.3253 - accuracy: 0.5444 - val_loss: 1.2999 - val_accuracy: 0.7778 - 42ms/epoch - 5ms/step\n",
      "Epoch 80/300\n",
      "9/9 - 0s - loss: 1.3165 - accuracy: 0.6222 - val_loss: 1.2922 - val_accuracy: 0.6667 - 42ms/epoch - 5ms/step\n",
      "Epoch 81/300\n",
      "9/9 - 0s - loss: 1.3058 - accuracy: 0.6778 - val_loss: 1.2834 - val_accuracy: 0.7778 - 38ms/epoch - 4ms/step\n",
      "Epoch 82/300\n",
      "9/9 - 0s - loss: 1.2923 - accuracy: 0.6778 - val_loss: 1.2752 - val_accuracy: 0.6667 - 46ms/epoch - 5ms/step\n",
      "Epoch 83/300\n",
      "9/9 - 0s - loss: 1.2898 - accuracy: 0.6333 - val_loss: 1.2684 - val_accuracy: 0.6667 - 41ms/epoch - 5ms/step\n",
      "Epoch 84/300\n",
      "9/9 - 0s - loss: 1.2862 - accuracy: 0.6444 - val_loss: 1.2624 - val_accuracy: 0.6667 - 35ms/epoch - 4ms/step\n",
      "Epoch 85/300\n",
      "9/9 - 0s - loss: 1.2759 - accuracy: 0.6000 - val_loss: 1.2513 - val_accuracy: 0.7778 - 73ms/epoch - 8ms/step\n",
      "Epoch 86/300\n",
      "9/9 - 0s - loss: 1.2663 - accuracy: 0.7111 - val_loss: 1.2455 - val_accuracy: 0.6667 - 45ms/epoch - 5ms/step\n",
      "Epoch 87/300\n",
      "9/9 - 0s - loss: 1.2646 - accuracy: 0.6556 - val_loss: 1.2377 - val_accuracy: 0.6667 - 49ms/epoch - 5ms/step\n",
      "Epoch 88/300\n",
      "9/9 - 0s - loss: 1.2507 - accuracy: 0.6778 - val_loss: 1.2316 - val_accuracy: 0.7778 - 45ms/epoch - 5ms/step\n",
      "Epoch 89/300\n",
      "9/9 - 0s - loss: 1.2514 - accuracy: 0.6556 - val_loss: 1.2217 - val_accuracy: 0.7778 - 49ms/epoch - 5ms/step\n",
      "Epoch 90/300\n",
      "9/9 - 0s - loss: 1.2408 - accuracy: 0.6889 - val_loss: 1.2140 - val_accuracy: 0.7778 - 52ms/epoch - 6ms/step\n",
      "Epoch 91/300\n",
      "9/9 - 0s - loss: 1.2265 - accuracy: 0.6889 - val_loss: 1.2078 - val_accuracy: 0.7778 - 45ms/epoch - 5ms/step\n",
      "Epoch 92/300\n",
      "9/9 - 0s - loss: 1.2276 - accuracy: 0.7222 - val_loss: 1.1995 - val_accuracy: 0.7778 - 42ms/epoch - 5ms/step\n",
      "Epoch 93/300\n",
      "9/9 - 0s - loss: 1.2114 - accuracy: 0.6333 - val_loss: 1.1916 - val_accuracy: 0.6667 - 42ms/epoch - 5ms/step\n",
      "Epoch 94/300\n",
      "9/9 - 0s - loss: 1.2167 - accuracy: 0.6222 - val_loss: 1.1860 - val_accuracy: 0.7778 - 51ms/epoch - 6ms/step\n",
      "Epoch 95/300\n",
      "9/9 - 0s - loss: 1.1984 - accuracy: 0.7000 - val_loss: 1.1792 - val_accuracy: 0.7778 - 49ms/epoch - 5ms/step\n",
      "Epoch 96/300\n",
      "9/9 - 0s - loss: 1.1962 - accuracy: 0.7111 - val_loss: 1.1714 - val_accuracy: 0.7778 - 51ms/epoch - 6ms/step\n",
      "Epoch 97/300\n",
      "9/9 - 0s - loss: 1.1912 - accuracy: 0.7111 - val_loss: 1.1641 - val_accuracy: 0.8889 - 33ms/epoch - 4ms/step\n",
      "Epoch 98/300\n",
      "9/9 - 0s - loss: 1.1765 - accuracy: 0.7222 - val_loss: 1.1570 - val_accuracy: 0.7778 - 41ms/epoch - 5ms/step\n",
      "Epoch 99/300\n",
      "9/9 - 0s - loss: 1.1702 - accuracy: 0.7889 - val_loss: 1.1503 - val_accuracy: 0.8889 - 45ms/epoch - 5ms/step\n",
      "Epoch 100/300\n",
      "9/9 - 0s - loss: 1.1599 - accuracy: 0.8000 - val_loss: 1.1431 - val_accuracy: 0.8889 - 39ms/epoch - 4ms/step\n",
      "Epoch 101/300\n",
      "9/9 - 0s - loss: 1.1583 - accuracy: 0.7667 - val_loss: 1.1382 - val_accuracy: 0.7778 - 33ms/epoch - 4ms/step\n",
      "Epoch 102/300\n",
      "9/9 - 0s - loss: 1.1616 - accuracy: 0.7222 - val_loss: 1.1315 - val_accuracy: 0.7778 - 42ms/epoch - 5ms/step\n",
      "Epoch 103/300\n",
      "9/9 - 0s - loss: 1.1472 - accuracy: 0.7333 - val_loss: 1.1241 - val_accuracy: 0.8889 - 41ms/epoch - 5ms/step\n",
      "Epoch 104/300\n",
      "9/9 - 0s - loss: 1.1416 - accuracy: 0.8222 - val_loss: 1.1186 - val_accuracy: 0.7778 - 42ms/epoch - 5ms/step\n",
      "Epoch 105/300\n",
      "9/9 - 0s - loss: 1.1401 - accuracy: 0.6889 - val_loss: 1.1125 - val_accuracy: 0.7778 - 30ms/epoch - 3ms/step\n",
      "Epoch 106/300\n",
      "9/9 - 0s - loss: 1.1300 - accuracy: 0.7889 - val_loss: 1.1044 - val_accuracy: 0.8889 - 42ms/epoch - 5ms/step\n",
      "Epoch 107/300\n",
      "9/9 - 0s - loss: 1.1255 - accuracy: 0.7778 - val_loss: 1.0979 - val_accuracy: 0.8889 - 42ms/epoch - 5ms/step\n",
      "Epoch 108/300\n",
      "9/9 - 0s - loss: 1.1182 - accuracy: 0.8000 - val_loss: 1.0921 - val_accuracy: 0.7778 - 42ms/epoch - 5ms/step\n",
      "Epoch 109/300\n",
      "9/9 - 0s - loss: 1.1086 - accuracy: 0.7778 - val_loss: 1.0865 - val_accuracy: 0.7778 - 41ms/epoch - 5ms/step\n",
      "Epoch 110/300\n",
      "9/9 - 0s - loss: 1.1074 - accuracy: 0.8111 - val_loss: 1.0800 - val_accuracy: 0.7778 - 42ms/epoch - 5ms/step\n",
      "Epoch 111/300\n",
      "9/9 - 0s - loss: 1.0993 - accuracy: 0.8000 - val_loss: 1.0763 - val_accuracy: 0.8889 - 53ms/epoch - 6ms/step\n",
      "Epoch 112/300\n",
      "9/9 - 0s - loss: 1.1043 - accuracy: 0.8111 - val_loss: 1.0679 - val_accuracy: 0.7778 - 38ms/epoch - 4ms/step\n",
      "Epoch 113/300\n",
      "9/9 - 0s - loss: 1.0946 - accuracy: 0.8000 - val_loss: 1.0634 - val_accuracy: 0.8889 - 50ms/epoch - 6ms/step\n",
      "Epoch 114/300\n",
      "9/9 - 0s - loss: 1.0804 - accuracy: 0.8111 - val_loss: 1.0566 - val_accuracy: 1.0000 - 41ms/epoch - 5ms/step\n",
      "Epoch 115/300\n",
      "9/9 - 0s - loss: 1.0776 - accuracy: 0.8111 - val_loss: 1.0508 - val_accuracy: 0.8889 - 42ms/epoch - 5ms/step\n",
      "Epoch 116/300\n",
      "9/9 - 0s - loss: 1.0664 - accuracy: 0.8000 - val_loss: 1.0473 - val_accuracy: 0.7778 - 42ms/epoch - 5ms/step\n",
      "Epoch 117/300\n",
      "9/9 - 0s - loss: 1.0666 - accuracy: 0.7556 - val_loss: 1.0380 - val_accuracy: 0.8889 - 49ms/epoch - 5ms/step\n",
      "Epoch 118/300\n",
      "9/9 - 0s - loss: 1.0701 - accuracy: 0.8000 - val_loss: 1.0318 - val_accuracy: 0.8889 - 46ms/epoch - 5ms/step\n",
      "Epoch 119/300\n",
      "9/9 - 0s - loss: 1.0538 - accuracy: 0.8000 - val_loss: 1.0274 - val_accuracy: 0.7778 - 46ms/epoch - 5ms/step\n",
      "Epoch 120/300\n",
      "9/9 - 0s - loss: 1.0481 - accuracy: 0.8000 - val_loss: 1.0208 - val_accuracy: 0.8889 - 42ms/epoch - 5ms/step\n",
      "Epoch 121/300\n",
      "9/9 - 0s - loss: 1.0518 - accuracy: 0.7889 - val_loss: 1.0169 - val_accuracy: 0.7778 - 50ms/epoch - 6ms/step\n",
      "Epoch 122/300\n",
      "9/9 - 0s - loss: 1.0367 - accuracy: 0.7889 - val_loss: 1.0107 - val_accuracy: 0.7778 - 42ms/epoch - 5ms/step\n",
      "Epoch 123/300\n",
      "9/9 - 0s - loss: 1.0287 - accuracy: 0.8000 - val_loss: 1.0045 - val_accuracy: 0.8889 - 41ms/epoch - 5ms/step\n",
      "Epoch 124/300\n",
      "9/9 - 0s - loss: 1.0287 - accuracy: 0.8444 - val_loss: 0.9998 - val_accuracy: 1.0000 - 42ms/epoch - 5ms/step\n",
      "Epoch 125/300\n",
      "9/9 - 0s - loss: 1.0304 - accuracy: 0.8556 - val_loss: 0.9944 - val_accuracy: 0.7778 - 41ms/epoch - 5ms/step\n",
      "Epoch 126/300\n",
      "9/9 - 0s - loss: 1.0101 - accuracy: 0.8222 - val_loss: 0.9923 - val_accuracy: 0.7778 - 39ms/epoch - 4ms/step\n",
      "Epoch 127/300\n",
      "9/9 - 0s - loss: 1.0205 - accuracy: 0.8000 - val_loss: 0.9822 - val_accuracy: 0.8889 - 42ms/epoch - 5ms/step\n",
      "Epoch 128/300\n",
      "9/9 - 0s - loss: 1.0089 - accuracy: 0.8000 - val_loss: 0.9807 - val_accuracy: 1.0000 - 45ms/epoch - 5ms/step\n",
      "Epoch 129/300\n",
      "9/9 - 0s - loss: 0.9924 - accuracy: 0.8444 - val_loss: 0.9744 - val_accuracy: 0.8889 - 47ms/epoch - 5ms/step\n",
      "Epoch 130/300\n",
      "9/9 - 0s - loss: 0.9951 - accuracy: 0.8444 - val_loss: 0.9674 - val_accuracy: 0.8889 - 34ms/epoch - 4ms/step\n",
      "Epoch 131/300\n",
      "9/9 - 0s - loss: 0.9962 - accuracy: 0.8444 - val_loss: 0.9611 - val_accuracy: 0.8889 - 39ms/epoch - 4ms/step\n",
      "Epoch 132/300\n",
      "9/9 - 0s - loss: 0.9859 - accuracy: 0.8333 - val_loss: 0.9569 - val_accuracy: 0.8889 - 43ms/epoch - 5ms/step\n",
      "Epoch 133/300\n",
      "9/9 - 0s - loss: 0.9842 - accuracy: 0.8111 - val_loss: 0.9501 - val_accuracy: 0.8889 - 41ms/epoch - 5ms/step\n",
      "Epoch 134/300\n",
      "9/9 - 0s - loss: 0.9751 - accuracy: 0.8000 - val_loss: 0.9458 - val_accuracy: 0.8889 - 37ms/epoch - 4ms/step\n",
      "Epoch 135/300\n",
      "9/9 - 0s - loss: 0.9739 - accuracy: 0.8889 - val_loss: 0.9413 - val_accuracy: 0.8889 - 47ms/epoch - 5ms/step\n"
     ]
    },
    {
     "name": "stdout",
     "output_type": "stream",
     "text": [
      "Epoch 136/300\n",
      "9/9 - 0s - loss: 0.9613 - accuracy: 0.8444 - val_loss: 0.9377 - val_accuracy: 0.7778 - 41ms/epoch - 5ms/step\n",
      "Epoch 137/300\n",
      "9/9 - 0s - loss: 0.9563 - accuracy: 0.7889 - val_loss: 0.9299 - val_accuracy: 0.8889 - 43ms/epoch - 5ms/step\n",
      "Epoch 138/300\n",
      "9/9 - 0s - loss: 0.9522 - accuracy: 0.8667 - val_loss: 0.9256 - val_accuracy: 0.8889 - 43ms/epoch - 5ms/step\n",
      "Epoch 139/300\n",
      "9/9 - 0s - loss: 0.9457 - accuracy: 0.9333 - val_loss: 0.9204 - val_accuracy: 0.8889 - 40ms/epoch - 4ms/step\n",
      "Epoch 140/300\n",
      "9/9 - 0s - loss: 0.9531 - accuracy: 0.9333 - val_loss: 0.9186 - val_accuracy: 0.8889 - 45ms/epoch - 5ms/step\n",
      "Epoch 141/300\n",
      "9/9 - 0s - loss: 0.9409 - accuracy: 0.8667 - val_loss: 0.9176 - val_accuracy: 0.8889 - 47ms/epoch - 5ms/step\n",
      "Epoch 142/300\n",
      "9/9 - 0s - loss: 0.9397 - accuracy: 0.8444 - val_loss: 0.9067 - val_accuracy: 0.8889 - 42ms/epoch - 5ms/step\n",
      "Epoch 143/300\n",
      "9/9 - 0s - loss: 0.9306 - accuracy: 0.9111 - val_loss: 0.9006 - val_accuracy: 0.8889 - 41ms/epoch - 5ms/step\n",
      "Epoch 144/300\n",
      "9/9 - 0s - loss: 0.9288 - accuracy: 0.7889 - val_loss: 0.9016 - val_accuracy: 1.0000 - 39ms/epoch - 4ms/step\n",
      "Epoch 145/300\n",
      "9/9 - 0s - loss: 0.9254 - accuracy: 0.8000 - val_loss: 0.8951 - val_accuracy: 0.8889 - 42ms/epoch - 5ms/step\n",
      "Epoch 146/300\n",
      "9/9 - 0s - loss: 0.9242 - accuracy: 0.8778 - val_loss: 0.8860 - val_accuracy: 1.0000 - 43ms/epoch - 5ms/step\n",
      "Epoch 147/300\n",
      "9/9 - 0s - loss: 0.9191 - accuracy: 0.8444 - val_loss: 0.8828 - val_accuracy: 0.8889 - 36ms/epoch - 4ms/step\n",
      "Epoch 148/300\n",
      "9/9 - 0s - loss: 0.9147 - accuracy: 0.8000 - val_loss: 0.8796 - val_accuracy: 0.8889 - 39ms/epoch - 4ms/step\n",
      "Epoch 149/300\n",
      "9/9 - 0s - loss: 0.9049 - accuracy: 0.9111 - val_loss: 0.8720 - val_accuracy: 0.8889 - 41ms/epoch - 5ms/step\n",
      "Epoch 150/300\n",
      "9/9 - 0s - loss: 0.9043 - accuracy: 0.8556 - val_loss: 0.8702 - val_accuracy: 0.8889 - 37ms/epoch - 4ms/step\n",
      "Epoch 151/300\n",
      "9/9 - 0s - loss: 0.8886 - accuracy: 0.8889 - val_loss: 0.8635 - val_accuracy: 0.8889 - 46ms/epoch - 5ms/step\n",
      "Epoch 152/300\n",
      "9/9 - 0s - loss: 0.8860 - accuracy: 0.8556 - val_loss: 0.8666 - val_accuracy: 0.8889 - 41ms/epoch - 5ms/step\n",
      "Epoch 153/300\n",
      "9/9 - 0s - loss: 0.8896 - accuracy: 0.8333 - val_loss: 0.8578 - val_accuracy: 0.8889 - 45ms/epoch - 5ms/step\n",
      "Epoch 154/300\n",
      "9/9 - 0s - loss: 0.8807 - accuracy: 0.8556 - val_loss: 0.8510 - val_accuracy: 0.7778 - 47ms/epoch - 5ms/step\n",
      "Epoch 155/300\n",
      "9/9 - 0s - loss: 0.8688 - accuracy: 0.8000 - val_loss: 0.8450 - val_accuracy: 1.0000 - 42ms/epoch - 5ms/step\n",
      "Epoch 156/300\n",
      "9/9 - 0s - loss: 0.8606 - accuracy: 0.9222 - val_loss: 0.8447 - val_accuracy: 0.8889 - 43ms/epoch - 5ms/step\n",
      "Epoch 157/300\n",
      "9/9 - 0s - loss: 0.8697 - accuracy: 0.8667 - val_loss: 0.8427 - val_accuracy: 0.7778 - 43ms/epoch - 5ms/step\n",
      "Epoch 158/300\n",
      "9/9 - 0s - loss: 0.8599 - accuracy: 0.8444 - val_loss: 0.8330 - val_accuracy: 0.7778 - 39ms/epoch - 4ms/step\n",
      "Epoch 159/300\n",
      "9/9 - 0s - loss: 0.8479 - accuracy: 0.8333 - val_loss: 0.8290 - val_accuracy: 1.0000 - 51ms/epoch - 6ms/step\n",
      "Epoch 160/300\n",
      "9/9 - 0s - loss: 0.8620 - accuracy: 0.8889 - val_loss: 0.8232 - val_accuracy: 0.8889 - 41ms/epoch - 5ms/step\n",
      "Epoch 161/300\n",
      "9/9 - 0s - loss: 0.8503 - accuracy: 0.8556 - val_loss: 0.8242 - val_accuracy: 1.0000 - 42ms/epoch - 5ms/step\n",
      "Epoch 162/300\n",
      "9/9 - 0s - loss: 0.8402 - accuracy: 0.9000 - val_loss: 0.8211 - val_accuracy: 0.8889 - 50ms/epoch - 6ms/step\n",
      "Epoch 163/300\n",
      "9/9 - 0s - loss: 0.8388 - accuracy: 0.8667 - val_loss: 0.8108 - val_accuracy: 1.0000 - 38ms/epoch - 4ms/step\n",
      "Epoch 164/300\n",
      "9/9 - 0s - loss: 0.8482 - accuracy: 0.8889 - val_loss: 0.8065 - val_accuracy: 0.8889 - 50ms/epoch - 6ms/step\n",
      "Epoch 165/300\n",
      "9/9 - 0s - loss: 0.8325 - accuracy: 0.8667 - val_loss: 0.8028 - val_accuracy: 0.8889 - 45ms/epoch - 5ms/step\n",
      "Epoch 166/300\n",
      "9/9 - 0s - loss: 0.8201 - accuracy: 0.8667 - val_loss: 0.7983 - val_accuracy: 0.8889 - 45ms/epoch - 5ms/step\n",
      "Epoch 167/300\n",
      "9/9 - 0s - loss: 0.8135 - accuracy: 0.9111 - val_loss: 0.7991 - val_accuracy: 0.7778 - 40ms/epoch - 4ms/step\n",
      "Epoch 168/300\n",
      "9/9 - 0s - loss: 0.8294 - accuracy: 0.8778 - val_loss: 0.7898 - val_accuracy: 1.0000 - 44ms/epoch - 5ms/step\n",
      "Epoch 169/300\n",
      "9/9 - 0s - loss: 0.8070 - accuracy: 1.0000 - val_loss: 0.7885 - val_accuracy: 0.8889 - 34ms/epoch - 4ms/step\n",
      "Epoch 170/300\n",
      "9/9 - 0s - loss: 0.8026 - accuracy: 0.8889 - val_loss: 0.7906 - val_accuracy: 0.7778 - 33ms/epoch - 4ms/step\n",
      "Epoch 171/300\n",
      "9/9 - 0s - loss: 0.8115 - accuracy: 0.8778 - val_loss: 0.7786 - val_accuracy: 1.0000 - 42ms/epoch - 5ms/step\n",
      "Epoch 172/300\n",
      "9/9 - 0s - loss: 0.8081 - accuracy: 0.9333 - val_loss: 0.7792 - val_accuracy: 1.0000 - 41ms/epoch - 5ms/step\n",
      "Epoch 173/300\n",
      "9/9 - 0s - loss: 0.7926 - accuracy: 0.9444 - val_loss: 0.7760 - val_accuracy: 0.8889 - 42ms/epoch - 5ms/step\n",
      "Epoch 174/300\n",
      "9/9 - 0s - loss: 0.7894 - accuracy: 0.8667 - val_loss: 0.7630 - val_accuracy: 1.0000 - 42ms/epoch - 5ms/step\n",
      "Epoch 175/300\n",
      "9/9 - 0s - loss: 0.7954 - accuracy: 0.9222 - val_loss: 0.7596 - val_accuracy: 0.8889 - 41ms/epoch - 5ms/step\n",
      "Epoch 176/300\n",
      "9/9 - 0s - loss: 0.7885 - accuracy: 0.8556 - val_loss: 0.7664 - val_accuracy: 0.7778 - 41ms/epoch - 5ms/step\n",
      "Epoch 177/300\n",
      "9/9 - 0s - loss: 0.7761 - accuracy: 0.8667 - val_loss: 0.7515 - val_accuracy: 1.0000 - 43ms/epoch - 5ms/step\n",
      "Epoch 178/300\n",
      "9/9 - 0s - loss: 0.7717 - accuracy: 0.9111 - val_loss: 0.7527 - val_accuracy: 1.0000 - 41ms/epoch - 5ms/step\n",
      "Epoch 179/300\n",
      "9/9 - 0s - loss: 0.7767 - accuracy: 0.8556 - val_loss: 0.7447 - val_accuracy: 1.0000 - 40ms/epoch - 4ms/step\n",
      "Epoch 180/300\n",
      "9/9 - 0s - loss: 0.7764 - accuracy: 0.9333 - val_loss: 0.7419 - val_accuracy: 1.0000 - 48ms/epoch - 5ms/step\n",
      "Epoch 181/300\n",
      "9/9 - 0s - loss: 0.7563 - accuracy: 0.9444 - val_loss: 0.7390 - val_accuracy: 0.8889 - 46ms/epoch - 5ms/step\n",
      "Epoch 182/300\n",
      "9/9 - 0s - loss: 0.7602 - accuracy: 0.9111 - val_loss: 0.7314 - val_accuracy: 1.0000 - 38ms/epoch - 4ms/step\n",
      "Epoch 183/300\n",
      "9/9 - 0s - loss: 0.7555 - accuracy: 0.8778 - val_loss: 0.7306 - val_accuracy: 0.8889 - 42ms/epoch - 5ms/step\n",
      "Epoch 184/300\n",
      "9/9 - 0s - loss: 0.7555 - accuracy: 0.8889 - val_loss: 0.7239 - val_accuracy: 1.0000 - 41ms/epoch - 5ms/step\n",
      "Epoch 185/300\n",
      "9/9 - 0s - loss: 0.7431 - accuracy: 0.9333 - val_loss: 0.7240 - val_accuracy: 0.8889 - 40ms/epoch - 4ms/step\n",
      "Epoch 186/300\n",
      "9/9 - 0s - loss: 0.7510 - accuracy: 0.9444 - val_loss: 0.7157 - val_accuracy: 0.8889 - 42ms/epoch - 5ms/step\n",
      "Epoch 187/300\n",
      "9/9 - 0s - loss: 0.7369 - accuracy: 0.9444 - val_loss: 0.7157 - val_accuracy: 0.8889 - 41ms/epoch - 5ms/step\n",
      "Epoch 188/300\n",
      "9/9 - 0s - loss: 0.7409 - accuracy: 0.9444 - val_loss: 0.7122 - val_accuracy: 0.8889 - 41ms/epoch - 5ms/step\n",
      "Epoch 189/300\n",
      "9/9 - 0s - loss: 0.7332 - accuracy: 0.9111 - val_loss: 0.7210 - val_accuracy: 0.8889 - 42ms/epoch - 5ms/step\n",
      "Epoch 190/300\n",
      "9/9 - 0s - loss: 0.7388 - accuracy: 0.9000 - val_loss: 0.7056 - val_accuracy: 0.8889 - 49ms/epoch - 5ms/step\n",
      "Epoch 191/300\n",
      "9/9 - 0s - loss: 0.7268 - accuracy: 0.9222 - val_loss: 0.6998 - val_accuracy: 0.8889 - 41ms/epoch - 5ms/step\n",
      "Epoch 192/300\n",
      "9/9 - 0s - loss: 0.7154 - accuracy: 0.9000 - val_loss: 0.7014 - val_accuracy: 1.0000 - 46ms/epoch - 5ms/step\n",
      "Epoch 193/300\n",
      "9/9 - 0s - loss: 0.7125 - accuracy: 0.9444 - val_loss: 0.6928 - val_accuracy: 0.8889 - 38ms/epoch - 4ms/step\n",
      "Epoch 194/300\n",
      "9/9 - 0s - loss: 0.7323 - accuracy: 0.8889 - val_loss: 0.6903 - val_accuracy: 0.8889 - 38ms/epoch - 4ms/step\n",
      "Epoch 195/300\n",
      "9/9 - 0s - loss: 0.7103 - accuracy: 0.9222 - val_loss: 0.6867 - val_accuracy: 1.0000 - 42ms/epoch - 5ms/step\n",
      "Epoch 196/300\n",
      "9/9 - 0s - loss: 0.7121 - accuracy: 0.8889 - val_loss: 0.6842 - val_accuracy: 1.0000 - 31ms/epoch - 3ms/step\n",
      "Epoch 197/300\n",
      "9/9 - 0s - loss: 0.7122 - accuracy: 0.9222 - val_loss: 0.6785 - val_accuracy: 0.8889 - 41ms/epoch - 5ms/step\n",
      "Epoch 198/300\n",
      "9/9 - 0s - loss: 0.7092 - accuracy: 0.9222 - val_loss: 0.6728 - val_accuracy: 0.8889 - 43ms/epoch - 5ms/step\n",
      "Epoch 199/300\n",
      "9/9 - 0s - loss: 0.6849 - accuracy: 0.9111 - val_loss: 0.6810 - val_accuracy: 0.8889 - 40ms/epoch - 4ms/step\n",
      "Epoch 200/300\n",
      "9/9 - 0s - loss: 0.6993 - accuracy: 0.9333 - val_loss: 0.6651 - val_accuracy: 0.8889 - 43ms/epoch - 5ms/step\n",
      "Epoch 201/300\n",
      "9/9 - 0s - loss: 0.7112 - accuracy: 0.8556 - val_loss: 0.6694 - val_accuracy: 1.0000 - 49ms/epoch - 5ms/step\n",
      "Epoch 202/300\n",
      "9/9 - 0s - loss: 0.6827 - accuracy: 0.9333 - val_loss: 0.6601 - val_accuracy: 0.8889 - 46ms/epoch - 5ms/step\n"
     ]
    },
    {
     "name": "stdout",
     "output_type": "stream",
     "text": [
      "Epoch 203/300\n",
      "9/9 - 0s - loss: 0.6900 - accuracy: 0.8889 - val_loss: 0.6582 - val_accuracy: 0.8889 - 40ms/epoch - 4ms/step\n",
      "Epoch 204/300\n",
      "9/9 - 0s - loss: 0.6775 - accuracy: 0.9111 - val_loss: 0.6585 - val_accuracy: 1.0000 - 43ms/epoch - 5ms/step\n",
      "Epoch 205/300\n",
      "9/9 - 0s - loss: 0.6743 - accuracy: 0.9444 - val_loss: 0.6471 - val_accuracy: 1.0000 - 46ms/epoch - 5ms/step\n",
      "Epoch 206/300\n",
      "9/9 - 0s - loss: 0.6820 - accuracy: 0.9333 - val_loss: 0.6465 - val_accuracy: 1.0000 - 35ms/epoch - 4ms/step\n",
      "Epoch 207/300\n",
      "9/9 - 0s - loss: 0.6647 - accuracy: 0.9333 - val_loss: 0.6385 - val_accuracy: 1.0000 - 45ms/epoch - 5ms/step\n",
      "Epoch 208/300\n",
      "9/9 - 0s - loss: 0.6647 - accuracy: 0.9333 - val_loss: 0.6485 - val_accuracy: 0.8889 - 39ms/epoch - 4ms/step\n",
      "Epoch 209/300\n",
      "9/9 - 0s - loss: 0.6765 - accuracy: 0.8667 - val_loss: 0.6314 - val_accuracy: 1.0000 - 41ms/epoch - 5ms/step\n",
      "Epoch 210/300\n",
      "9/9 - 0s - loss: 0.6539 - accuracy: 0.8889 - val_loss: 0.6326 - val_accuracy: 0.8889 - 45ms/epoch - 5ms/step\n",
      "Epoch 211/300\n",
      "9/9 - 0s - loss: 0.6589 - accuracy: 0.9222 - val_loss: 0.6343 - val_accuracy: 0.8889 - 39ms/epoch - 4ms/step\n",
      "Epoch 212/300\n",
      "9/9 - 0s - loss: 0.6536 - accuracy: 0.9444 - val_loss: 0.6261 - val_accuracy: 0.8889 - 50ms/epoch - 6ms/step\n",
      "Epoch 213/300\n",
      "9/9 - 0s - loss: 0.6486 - accuracy: 0.9222 - val_loss: 0.6253 - val_accuracy: 0.8889 - 42ms/epoch - 5ms/step\n",
      "Epoch 214/300\n",
      "9/9 - 0s - loss: 0.6402 - accuracy: 0.9222 - val_loss: 0.6150 - val_accuracy: 0.8889 - 41ms/epoch - 5ms/step\n",
      "Epoch 215/300\n",
      "9/9 - 0s - loss: 0.6428 - accuracy: 0.8889 - val_loss: 0.6124 - val_accuracy: 1.0000 - 40ms/epoch - 4ms/step\n",
      "Epoch 216/300\n",
      "9/9 - 0s - loss: 0.6434 - accuracy: 0.9444 - val_loss: 0.6140 - val_accuracy: 1.0000 - 44ms/epoch - 5ms/step\n",
      "Epoch 217/300\n",
      "9/9 - 0s - loss: 0.6455 - accuracy: 0.9667 - val_loss: 0.6076 - val_accuracy: 1.0000 - 41ms/epoch - 5ms/step\n",
      "Epoch 218/300\n",
      "9/9 - 0s - loss: 0.6361 - accuracy: 0.9333 - val_loss: 0.6223 - val_accuracy: 0.8889 - 42ms/epoch - 5ms/step\n",
      "Epoch 219/300\n",
      "9/9 - 0s - loss: 0.6405 - accuracy: 0.8556 - val_loss: 0.6088 - val_accuracy: 0.8889 - 42ms/epoch - 5ms/step\n",
      "Epoch 220/300\n",
      "9/9 - 0s - loss: 0.6174 - accuracy: 0.9333 - val_loss: 0.6107 - val_accuracy: 0.8889 - 40ms/epoch - 4ms/step\n",
      "Epoch 221/300\n",
      "9/9 - 0s - loss: 0.6077 - accuracy: 0.8889 - val_loss: 0.5960 - val_accuracy: 1.0000 - 48ms/epoch - 5ms/step\n",
      "Epoch 222/300\n",
      "9/9 - 0s - loss: 0.6130 - accuracy: 0.8889 - val_loss: 0.6178 - val_accuracy: 0.7778 - 48ms/epoch - 5ms/step\n",
      "Epoch 223/300\n",
      "9/9 - 0s - loss: 0.6306 - accuracy: 0.9000 - val_loss: 0.5916 - val_accuracy: 1.0000 - 38ms/epoch - 4ms/step\n",
      "Epoch 224/300\n",
      "9/9 - 0s - loss: 0.6180 - accuracy: 0.8444 - val_loss: 0.5899 - val_accuracy: 1.0000 - 35ms/epoch - 4ms/step\n",
      "Epoch 225/300\n",
      "9/9 - 0s - loss: 0.6306 - accuracy: 0.9000 - val_loss: 0.5798 - val_accuracy: 1.0000 - 51ms/epoch - 6ms/step\n",
      "Epoch 226/300\n",
      "9/9 - 0s - loss: 0.6306 - accuracy: 0.8778 - val_loss: 0.5832 - val_accuracy: 1.0000 - 46ms/epoch - 5ms/step\n",
      "Epoch 227/300\n",
      "9/9 - 0s - loss: 0.6203 - accuracy: 0.9333 - val_loss: 0.5765 - val_accuracy: 0.8889 - 42ms/epoch - 5ms/step\n",
      "Epoch 228/300\n",
      "9/9 - 0s - loss: 0.6183 - accuracy: 0.9111 - val_loss: 0.5714 - val_accuracy: 1.0000 - 42ms/epoch - 5ms/step\n",
      "Epoch 229/300\n",
      "9/9 - 0s - loss: 0.5923 - accuracy: 0.9333 - val_loss: 0.5726 - val_accuracy: 1.0000 - 42ms/epoch - 5ms/step\n",
      "Epoch 230/300\n",
      "9/9 - 0s - loss: 0.6082 - accuracy: 0.9111 - val_loss: 0.5650 - val_accuracy: 1.0000 - 50ms/epoch - 6ms/step\n",
      "Epoch 231/300\n",
      "9/9 - 0s - loss: 0.5938 - accuracy: 0.9333 - val_loss: 0.5614 - val_accuracy: 1.0000 - 41ms/epoch - 5ms/step\n",
      "Epoch 232/300\n",
      "9/9 - 0s - loss: 0.6002 - accuracy: 0.9333 - val_loss: 0.5696 - val_accuracy: 1.0000 - 41ms/epoch - 5ms/step\n",
      "Epoch 233/300\n",
      "9/9 - 0s - loss: 0.5830 - accuracy: 0.9333 - val_loss: 0.5822 - val_accuracy: 0.7778 - 50ms/epoch - 6ms/step\n",
      "Epoch 234/300\n",
      "9/9 - 0s - loss: 0.6002 - accuracy: 0.8444 - val_loss: 0.5548 - val_accuracy: 1.0000 - 50ms/epoch - 6ms/step\n",
      "Epoch 235/300\n",
      "9/9 - 0s - loss: 0.5681 - accuracy: 0.9556 - val_loss: 0.5560 - val_accuracy: 1.0000 - 50ms/epoch - 6ms/step\n",
      "Epoch 236/300\n",
      "9/9 - 0s - loss: 0.5798 - accuracy: 0.9667 - val_loss: 0.5454 - val_accuracy: 1.0000 - 42ms/epoch - 5ms/step\n",
      "Epoch 237/300\n",
      "9/9 - 0s - loss: 0.5718 - accuracy: 0.9333 - val_loss: 0.5491 - val_accuracy: 1.0000 - 42ms/epoch - 5ms/step\n",
      "Epoch 238/300\n",
      "9/9 - 0s - loss: 0.5750 - accuracy: 0.9556 - val_loss: 0.5415 - val_accuracy: 1.0000 - 48ms/epoch - 5ms/step\n",
      "Epoch 239/300\n",
      "9/9 - 0s - loss: 0.5683 - accuracy: 0.9444 - val_loss: 0.5380 - val_accuracy: 1.0000 - 53ms/epoch - 6ms/step\n",
      "Epoch 240/300\n",
      "9/9 - 0s - loss: 0.5570 - accuracy: 0.9667 - val_loss: 0.5505 - val_accuracy: 0.8889 - 49ms/epoch - 5ms/step\n",
      "Epoch 241/300\n",
      "9/9 - 0s - loss: 0.5567 - accuracy: 0.9444 - val_loss: 0.5327 - val_accuracy: 1.0000 - 50ms/epoch - 6ms/step\n",
      "Epoch 242/300\n",
      "9/9 - 0s - loss: 0.5911 - accuracy: 0.8667 - val_loss: 0.5413 - val_accuracy: 0.8889 - 42ms/epoch - 5ms/step\n",
      "Epoch 243/300\n",
      "9/9 - 0s - loss: 0.5489 - accuracy: 0.9222 - val_loss: 0.5274 - val_accuracy: 1.0000 - 42ms/epoch - 5ms/step\n",
      "Epoch 244/300\n",
      "9/9 - 0s - loss: 0.5584 - accuracy: 0.9333 - val_loss: 0.5255 - val_accuracy: 0.8889 - 42ms/epoch - 5ms/step\n",
      "Epoch 245/300\n",
      "9/9 - 0s - loss: 0.5524 - accuracy: 0.9556 - val_loss: 0.5205 - val_accuracy: 1.0000 - 42ms/epoch - 5ms/step\n",
      "Epoch 246/300\n",
      "9/9 - 0s - loss: 0.5410 - accuracy: 0.9444 - val_loss: 0.5388 - val_accuracy: 1.0000 - 35ms/epoch - 4ms/step\n",
      "Epoch 247/300\n",
      "9/9 - 0s - loss: 0.5466 - accuracy: 0.9667 - val_loss: 0.5222 - val_accuracy: 1.0000 - 45ms/epoch - 5ms/step\n",
      "Epoch 248/300\n",
      "9/9 - 0s - loss: 0.5475 - accuracy: 0.9444 - val_loss: 0.5132 - val_accuracy: 1.0000 - 33ms/epoch - 4ms/step\n",
      "Epoch 249/300\n",
      "9/9 - 0s - loss: 0.5329 - accuracy: 0.9333 - val_loss: 0.5129 - val_accuracy: 1.0000 - 42ms/epoch - 5ms/step\n",
      "Epoch 250/300\n",
      "9/9 - 0s - loss: 0.5511 - accuracy: 0.9333 - val_loss: 0.5103 - val_accuracy: 1.0000 - 43ms/epoch - 5ms/step\n",
      "Epoch 251/300\n",
      "9/9 - 0s - loss: 0.5304 - accuracy: 0.9889 - val_loss: 0.5138 - val_accuracy: 0.8889 - 50ms/epoch - 6ms/step\n",
      "Epoch 252/300\n",
      "9/9 - 0s - loss: 0.5384 - accuracy: 0.9556 - val_loss: 0.5057 - val_accuracy: 1.0000 - 51ms/epoch - 6ms/step\n",
      "Epoch 253/300\n",
      "9/9 - 0s - loss: 0.5453 - accuracy: 0.9889 - val_loss: 0.5142 - val_accuracy: 0.8889 - 42ms/epoch - 5ms/step\n",
      "Epoch 254/300\n",
      "9/9 - 0s - loss: 0.5252 - accuracy: 0.9444 - val_loss: 0.5021 - val_accuracy: 1.0000 - 38ms/epoch - 4ms/step\n",
      "Epoch 255/300\n",
      "9/9 - 0s - loss: 0.5072 - accuracy: 0.9444 - val_loss: 0.4955 - val_accuracy: 1.0000 - 37ms/epoch - 4ms/step\n",
      "Epoch 256/300\n",
      "9/9 - 0s - loss: 0.5050 - accuracy: 0.9778 - val_loss: 0.4906 - val_accuracy: 1.0000 - 38ms/epoch - 4ms/step\n",
      "Epoch 257/300\n",
      "9/9 - 0s - loss: 0.5086 - accuracy: 0.9222 - val_loss: 0.4911 - val_accuracy: 1.0000 - 43ms/epoch - 5ms/step\n",
      "Epoch 258/300\n",
      "9/9 - 0s - loss: 0.5071 - accuracy: 0.9556 - val_loss: 0.4833 - val_accuracy: 1.0000 - 40ms/epoch - 4ms/step\n",
      "Epoch 259/300\n",
      "9/9 - 0s - loss: 0.5154 - accuracy: 0.9667 - val_loss: 0.4960 - val_accuracy: 0.8889 - 42ms/epoch - 5ms/step\n",
      "Epoch 260/300\n",
      "9/9 - 0s - loss: 0.5166 - accuracy: 0.9000 - val_loss: 0.4809 - val_accuracy: 1.0000 - 43ms/epoch - 5ms/step\n",
      "Epoch 261/300\n",
      "9/9 - 0s - loss: 0.5244 - accuracy: 0.8889 - val_loss: 0.4879 - val_accuracy: 1.0000 - 56ms/epoch - 6ms/step\n",
      "Epoch 262/300\n",
      "9/9 - 0s - loss: 0.4873 - accuracy: 0.9444 - val_loss: 0.4759 - val_accuracy: 1.0000 - 51ms/epoch - 6ms/step\n",
      "Epoch 263/300\n",
      "9/9 - 0s - loss: 0.5146 - accuracy: 0.9778 - val_loss: 0.4881 - val_accuracy: 0.8889 - 41ms/epoch - 5ms/step\n",
      "Epoch 264/300\n",
      "9/9 - 0s - loss: 0.5105 - accuracy: 0.9444 - val_loss: 0.4692 - val_accuracy: 1.0000 - 50ms/epoch - 6ms/step\n",
      "Epoch 265/300\n",
      "9/9 - 0s - loss: 0.4804 - accuracy: 0.9889 - val_loss: 0.4635 - val_accuracy: 1.0000 - 49ms/epoch - 5ms/step\n",
      "Epoch 266/300\n",
      "9/9 - 0s - loss: 0.4937 - accuracy: 0.9667 - val_loss: 0.4784 - val_accuracy: 0.8889 - 39ms/epoch - 4ms/step\n",
      "Epoch 267/300\n",
      "9/9 - 0s - loss: 0.5324 - accuracy: 0.9111 - val_loss: 0.4636 - val_accuracy: 1.0000 - 44ms/epoch - 5ms/step\n",
      "Epoch 268/300\n",
      "9/9 - 0s - loss: 0.4914 - accuracy: 0.8889 - val_loss: 0.5061 - val_accuracy: 0.8889 - 41ms/epoch - 5ms/step\n",
      "Epoch 269/300\n",
      "9/9 - 0s - loss: 0.4897 - accuracy: 0.9556 - val_loss: 0.4514 - val_accuracy: 1.0000 - 34ms/epoch - 4ms/step\n"
     ]
    },
    {
     "name": "stdout",
     "output_type": "stream",
     "text": [
      "Epoch 270/300\n",
      "9/9 - 0s - loss: 0.4723 - accuracy: 0.9667 - val_loss: 0.4552 - val_accuracy: 1.0000 - 41ms/epoch - 5ms/step\n",
      "Epoch 271/300\n",
      "9/9 - 0s - loss: 0.4747 - accuracy: 1.0000 - val_loss: 0.4508 - val_accuracy: 1.0000 - 40ms/epoch - 4ms/step\n",
      "Epoch 272/300\n",
      "9/9 - 0s - loss: 0.4750 - accuracy: 0.9667 - val_loss: 0.4730 - val_accuracy: 0.7778 - 42ms/epoch - 5ms/step\n",
      "Epoch 273/300\n",
      "9/9 - 0s - loss: 0.4776 - accuracy: 0.9333 - val_loss: 0.4902 - val_accuracy: 0.7778 - 43ms/epoch - 5ms/step\n",
      "Epoch 274/300\n",
      "9/9 - 0s - loss: 0.4868 - accuracy: 0.9222 - val_loss: 0.4488 - val_accuracy: 1.0000 - 50ms/epoch - 6ms/step\n",
      "Epoch 275/300\n",
      "9/9 - 0s - loss: 0.4842 - accuracy: 0.9333 - val_loss: 0.4480 - val_accuracy: 1.0000 - 45ms/epoch - 5ms/step\n",
      "Epoch 276/300\n",
      "9/9 - 0s - loss: 0.4817 - accuracy: 0.9556 - val_loss: 0.4437 - val_accuracy: 1.0000 - 40ms/epoch - 4ms/step\n",
      "Epoch 277/300\n",
      "9/9 - 0s - loss: 0.4519 - accuracy: 0.9333 - val_loss: 0.4649 - val_accuracy: 0.8889 - 42ms/epoch - 5ms/step\n",
      "Epoch 278/300\n",
      "9/9 - 0s - loss: 0.4634 - accuracy: 0.9000 - val_loss: 0.4923 - val_accuracy: 0.8889 - 42ms/epoch - 5ms/step\n",
      "Epoch 279/300\n",
      "9/9 - 0s - loss: 0.4540 - accuracy: 0.9444 - val_loss: 0.4520 - val_accuracy: 1.0000 - 50ms/epoch - 6ms/step\n",
      "Epoch 280/300\n",
      "9/9 - 0s - loss: 0.4625 - accuracy: 0.9778 - val_loss: 0.4303 - val_accuracy: 1.0000 - 41ms/epoch - 5ms/step\n",
      "Epoch 281/300\n",
      "9/9 - 0s - loss: 0.4591 - accuracy: 1.0000 - val_loss: 0.4432 - val_accuracy: 0.8889 - 34ms/epoch - 4ms/step\n",
      "Epoch 282/300\n",
      "9/9 - 0s - loss: 0.4558 - accuracy: 0.9556 - val_loss: 0.4466 - val_accuracy: 0.8889 - 39ms/epoch - 4ms/step\n",
      "Epoch 283/300\n",
      "9/9 - 0s - loss: 0.4200 - accuracy: 0.9556 - val_loss: 0.4603 - val_accuracy: 0.8889 - 44ms/epoch - 5ms/step\n",
      "Epoch 284/300\n",
      "9/9 - 0s - loss: 0.4642 - accuracy: 0.9667 - val_loss: 0.4166 - val_accuracy: 1.0000 - 40ms/epoch - 4ms/step\n",
      "Epoch 285/300\n",
      "9/9 - 0s - loss: 0.4372 - accuracy: 0.9778 - val_loss: 0.4404 - val_accuracy: 1.0000 - 46ms/epoch - 5ms/step\n",
      "Epoch 286/300\n",
      "9/9 - 0s - loss: 0.4636 - accuracy: 0.9667 - val_loss: 0.4170 - val_accuracy: 1.0000 - 39ms/epoch - 4ms/step\n",
      "Epoch 287/300\n",
      "9/9 - 0s - loss: 0.4364 - accuracy: 0.9667 - val_loss: 0.4302 - val_accuracy: 1.0000 - 33ms/epoch - 4ms/step\n",
      "Epoch 288/300\n",
      "9/9 - 0s - loss: 0.4313 - accuracy: 0.9889 - val_loss: 0.4169 - val_accuracy: 1.0000 - 40ms/epoch - 4ms/step\n",
      "Epoch 289/300\n",
      "9/9 - 0s - loss: 0.4258 - accuracy: 1.0000 - val_loss: 0.4253 - val_accuracy: 1.0000 - 43ms/epoch - 5ms/step\n",
      "Epoch 290/300\n",
      "9/9 - 0s - loss: 0.4357 - accuracy: 0.9333 - val_loss: 0.4699 - val_accuracy: 0.7778 - 41ms/epoch - 5ms/step\n",
      "Epoch 291/300\n",
      "9/9 - 0s - loss: 0.4469 - accuracy: 0.9222 - val_loss: 0.4129 - val_accuracy: 1.0000 - 50ms/epoch - 6ms/step\n",
      "Epoch 292/300\n",
      "9/9 - 0s - loss: 0.4606 - accuracy: 0.9556 - val_loss: 0.4006 - val_accuracy: 1.0000 - 50ms/epoch - 6ms/step\n",
      "Epoch 293/300\n",
      "9/9 - 0s - loss: 0.4329 - accuracy: 0.9889 - val_loss: 0.3986 - val_accuracy: 1.0000 - 49ms/epoch - 5ms/step\n",
      "Epoch 294/300\n",
      "9/9 - 0s - loss: 0.4330 - accuracy: 0.9444 - val_loss: 0.4148 - val_accuracy: 1.0000 - 50ms/epoch - 6ms/step\n",
      "Epoch 295/300\n",
      "9/9 - 0s - loss: 0.4287 - accuracy: 0.9444 - val_loss: 0.3995 - val_accuracy: 1.0000 - 49ms/epoch - 5ms/step\n",
      "Epoch 296/300\n",
      "9/9 - 0s - loss: 0.4107 - accuracy: 0.9556 - val_loss: 0.3914 - val_accuracy: 1.0000 - 42ms/epoch - 5ms/step\n",
      "Epoch 297/300\n",
      "9/9 - 0s - loss: 0.4498 - accuracy: 0.9333 - val_loss: 0.3859 - val_accuracy: 1.0000 - 50ms/epoch - 6ms/step\n",
      "Epoch 298/300\n",
      "9/9 - 0s - loss: 0.4032 - accuracy: 1.0000 - val_loss: 0.3842 - val_accuracy: 1.0000 - 45ms/epoch - 5ms/step\n",
      "Epoch 299/300\n",
      "9/9 - 0s - loss: 0.4129 - accuracy: 0.9556 - val_loss: 0.3840 - val_accuracy: 1.0000 - 46ms/epoch - 5ms/step\n",
      "Epoch 300/300\n",
      "9/9 - 0s - loss: 0.4041 - accuracy: 0.9778 - val_loss: 0.3847 - val_accuracy: 1.0000 - 50ms/epoch - 6ms/step\n"
     ]
    }
   ],
   "source": [
    "hist = model.fit(x_train, Y_train,\n",
    "                 epochs=300,\n",
    "                 batch_size=10,\n",
    "                 verbose=2,        # 학습결과 출력 옵션 0:출력없음, 1:기본값, 2:에포크별 로그상세 출력\n",
    "                 validation_data=(x_val, Y_val)\n",
    "                )\n",
    "#회귀분석 축 공유 필요 없음 / 분류분석 축 공유 필수"
   ]
  },
  {
   "cell_type": "markdown",
   "id": "20838360",
   "metadata": {},
   "source": [
    "# 6. 모델 평가 (모델학습과정 살펴보고, evalute 함수 사용)"
   ]
  },
  {
   "cell_type": "code",
   "execution_count": 11,
   "id": "143a3cea",
   "metadata": {},
   "outputs": [
    {
     "data": {
      "text/plain": [
       "dict_keys(['loss', 'accuracy', 'val_loss', 'val_accuracy'])"
      ]
     },
     "execution_count": 11,
     "metadata": {},
     "output_type": "execute_result"
    }
   ],
   "source": [
    "hist.history.keys() \n",
    "#train 데이터와 validation데이터가 같이 나와서 4개의 값이 뜸 \n",
    "#loss,accuracy - train의 데이터 / val -loss,val_accuracy - validation의 데이터 "
   ]
  },
  {
   "cell_type": "code",
   "execution_count": 12,
   "id": "dcd2fec2",
   "metadata": {},
   "outputs": [
    {
     "data": {
      "image/png": "[encoded data removed]",
      "text/plain": [
       "<Figure size 1000x400 with 2 Axes>"
      ]
     },
     "metadata": {},
     "output_type": "display_data"
    }
   ],
   "source": [
    "# 모델 학습과정 시각화\n",
    "import matplotlib.pyplot as plt\n",
    "\n",
    "fig, loss_ax = plt.subplots(figsize=(10,4))\n",
    "loss_ax.plot(hist.history['loss'], 'y', label='train loss')\n",
    "loss_ax.plot(hist.history['val_loss'], 'r', label='val_loss')\n",
    "loss_ax.set_xlabel('epoch')\n",
    "loss_ax.set_ylabel('loss')\n",
    "\n",
    "acc_ax = loss_ax.twinx() #loss_ax와 x축을 공유하는 acc_ax생성\n",
    "acc_ax.plot(hist.history['accuracy'], 'g', label='train accuracy')\n",
    "acc_ax.plot(hist.history['val_accuracy'], 'b' , label='val accuracy')\n",
    "acc_ax.set_ylabel('accuracy')\n",
    "loss_ax.legend(loc='upper left')\n",
    "acc_ax.legend(loc='center right')\n",
    "plt.show()"
   ]
  },
  {
   "cell_type": "code",
   "execution_count": 13,
   "id": "b30af6b0",
   "metadata": {},
   "outputs": [
    {
     "name": "stdout",
     "output_type": "stream",
     "text": [
      "9/9 [==============================] - 0s 2ms/step - loss: 0.3847 - accuracy: 1.0000\n"
     ]
    }
   ],
   "source": [
    "# 모델 평가하기\n",
    "score = model.evaluate(x_test, Y_test, batch_size=1)"
   ]
  },
  {
   "cell_type": "code",
   "execution_count": 14,
   "id": "a3902d27",
   "metadata": {},
   "outputs": [
    {
     "data": {
      "text/plain": [
       "[0.38473784923553467, 1.0]"
      ]
     },
     "execution_count": 14,
     "metadata": {},
     "output_type": "execute_result"
    }
   ],
   "source": [
    "score #loss, accuracy"
   ]
  },
  {
   "cell_type": "code",
   "execution_count": 15,
   "id": "204fdd6a",
   "metadata": {},
   "outputs": [
    {
     "name": "stdout",
     "output_type": "stream",
     "text": [
      "평가된 loss : 0.38473784923553467\n",
      "평가된 accuracy : 100.0 %\n"
     ]
    }
   ],
   "source": [
    "print('평가된 loss :', score[0])\n",
    "print('평가된 accuracy :', score[1]*100 , '%')"
   ]
  },
  {
   "cell_type": "markdown",
   "id": "13c79a2d",
   "metadata": {},
   "source": [
    "# 7. 모델 사용하기"
   ]
  },
  {
   "cell_type": "code",
   "execution_count": 16,
   "id": "35904323",
   "metadata": {},
   "outputs": [
    {
     "name": "stdout",
     "output_type": "stream",
     "text": [
      "1/1 [==============================] - 0s 93ms/step\n"
     ]
    },
    {
     "data": {
      "text/plain": [
       "array([[6.5675286e-12, 2.0773066e-15, 9.6416846e-02, 7.7856109e-15,\n",
       "        7.8889292e-01, 1.5979442e-12, 1.1366533e-01, 4.0023569e-15,\n",
       "        1.0226851e-03, 3.4340328e-14, 2.1190979e-06, 2.5927782e-13,\n",
       "        1.5513937e-09, 6.3958977e-14, 6.7816960e-15, 3.3561858e-14,\n",
       "        1.5630971e-19, 3.1862913e-12, 4.2351989e-27]], dtype=float32)"
      ]
     },
     "execution_count": 16,
     "metadata": {},
     "output_type": "execute_result"
    }
   ],
   "source": [
    "H = model.predict(np.array([[2]]))\n",
    "H"
   ]
  },
  {
   "cell_type": "code",
   "execution_count": 17,
   "id": "a5d03c11",
   "metadata": {},
   "outputs": [
    {
     "name": "stdout",
     "output_type": "stream",
     "text": [
      "1/1 [==============================] - 0s 25ms/step\n"
     ]
    },
    {
     "data": {
      "text/plain": [
       "4"
      ]
     },
     "execution_count": 17,
     "metadata": {},
     "output_type": "execute_result"
    }
   ],
   "source": [
    "# 분류분석의 예측은 predict()후 argmax()\n",
    "model.predict(np.array([[2]])).argmax() #값이 제일 큰 것을 반환"
   ]
  },
  {
   "cell_type": "code",
   "execution_count": 18,
   "id": "206ac0f9",
   "metadata": {},
   "outputs": [
    {
     "data": {
      "text/plain": [
       "78.8892924785614"
      ]
     },
     "execution_count": 18,
     "metadata": {},
     "output_type": "execute_result"
    }
   ],
   "source": [
    "# 4를 몇퍼센트 확률로 예측했는지 \n",
    "H[0,H.argmax()]*100"
   ]
  },
  {
   "cell_type": "markdown",
   "id": "a5276c96",
   "metadata": {},
   "source": [
    "# 7.모델 저장하기"
   ]
  },
  {
   "cell_type": "code",
   "execution_count": 19,
   "id": "83cd6fc6",
   "metadata": {},
   "outputs": [],
   "source": [
    "# model.save('model/02_deep.h5')  #tensorflow 10버전\n",
    "from tensorflow.keras.models import save_model\n",
    "save_model(model, 'model/02_depp.h5') #tensorflow 모든 버전에서 "
   ]
  },
  {
   "cell_type": "markdown",
   "id": "c32e989b",
   "metadata": {},
   "source": [
    "# 저장된 모델 사용하기\n"
   ]
  },
  {
   "cell_type": "code",
   "execution_count": 20,
   "id": "4916c87d",
   "metadata": {},
   "outputs": [],
   "source": [
    "from tensorflow.keras.models import load_model\n",
    "model2 = load_model('model/02_deep.h5') "
   ]
  },
  {
   "cell_type": "code",
   "execution_count": 21,
   "id": "868be8c0",
   "metadata": {},
   "outputs": [
    {
     "name": "stdout",
     "output_type": "stream",
     "text": [
      "Model: \"sequential_4\"\n",
      "_________________________________________________________________\n",
      " Layer (type)                Output Shape              Param #   \n",
      "=================================================================\n",
      " dense_16 (Dense)            (None, 38)                76        \n",
      "                                                                 \n",
      " dense_17 (Dense)            (None, 64)                2496      \n",
      "                                                                 \n",
      " dense_18 (Dense)            (None, 32)                2080      \n",
      "                                                                 \n",
      " dense_19 (Dense)            (None, 19)                627       \n",
      "                                                                 \n",
      "=================================================================\n",
      "Total params: 5,279\n",
      "Trainable params: 5,279\n",
      "Non-trainable params: 0\n",
      "_________________________________________________________________\n"
     ]
    }
   ],
   "source": [
    "model2.summary()"
   ]
  },
  {
   "cell_type": "code",
   "execution_count": 28,
   "id": "e6dedf9d",
   "metadata": {},
   "outputs": [
    {
     "name": "stdout",
     "output_type": "stream",
     "text": [
      "1/1 [==============================] - 0s 25ms/step\n"
     ]
    },
    {
     "data": {
      "text/plain": [
       "array([4, 5], dtype=int64)"
      ]
     },
     "execution_count": 28,
     "metadata": {},
     "output_type": "execute_result"
    }
   ],
   "source": [
    "data = np.array([[2],\n",
    "                 [3]])\n",
    "predictions = model2.predict(data)\n",
    "predictions.argmax(axis=-1)"
   ]
  },
  {
   "cell_type": "code",
   "execution_count": 36,
   "id": "dbbb4d47",
   "metadata": {},
   "outputs": [],
   "source": [
    "# 함수 만들기 \n",
    "def predict_classes(model, data):\n",
    "    predictions = model.predict(data)\n",
    "    return predictions.argmax(axis=-1)"
   ]
  },
  {
   "cell_type": "code",
   "execution_count": 44,
   "id": "0b32b330",
   "metadata": {},
   "outputs": [],
   "source": [
    "#tensorflow 객체로 만들면 좀 더 빠르게 돌아감\n",
    "\n",
    "import tensorflow as tf\n",
    "@tf.function(reduce_retracing=True)\n",
    "def predict_classes(model, data):\n",
    "    predictions = model(data,training=False)\n",
    "    return tf.argmax(predictions, axis=-1)"
   ]
  },
  {
   "cell_type": "code",
   "execution_count": 45,
   "id": "b78c18ea",
   "metadata": {},
   "outputs": [
    {
     "name": "stdout",
     "output_type": "stream",
     "text": [
      "어떤 데이터를 예측할까요?1\n",
      "예측된 분류는  tf.Tensor([2], shape=(1,), dtype=int64)\n"
     ]
    }
   ],
   "source": [
    "# import numpy as np\n",
    "input_data = int(input('어떤 데이터를 예측할까요?'))\n",
    "data = np.array([[input_data]])\n",
    "print('예측된 분류는 ', predict_classes(model2, data))"
   ]
  },
  {
   "cell_type": "code",
   "execution_count": null,
   "id": "c0d84044",
   "metadata": {},
   "outputs": [],
   "source": []
  },
  {
   "cell_type": "code",
   "execution_count": null,
   "id": "86e7fb35",
   "metadata": {},
   "outputs": [],
   "source": []
  },
  {
   "cell_type": "code",
   "execution_count": null,
   "id": "421d91e3",
   "metadata": {},
   "outputs": [],
   "source": []
  }
 ],
 "metadata": {
  "kernelspec": {
   "display_name": "ml-dl-nlp",
   "language": "python",
   "name": "ml-dl-nlp"
  },
  "language_info": {
   "codemirror_mode": {
    "name": "ipython",
    "version": 3
   },
   "file_extension": ".py",
   "mimetype": "text/x-python",
   "name": "python",
   "nbconvert_exporter": "python",
   "pygments_lexer": "ipython3",
   "version": "3.10.18"
  },
  "toc": {
   "base_numbering": 1,
   "nav_menu": {},
   "number_sections": false,
   "sideBar": true,
   "skip_h1_title": false,
   "title_cell": "Table of Contents",
   "title_sidebar": "Contents",
   "toc_cell": false,
   "toc_position": {
    "height": "calc(100% - 180px)",
    "left": "10px",
    "top": "150px",
    "width": "165px"
   },
   "toc_section_display": true,
   "toc_window_display": true
  }
 },
 "nbformat": 4,
 "nbformat_minor": 5
}
