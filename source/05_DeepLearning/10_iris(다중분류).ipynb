{
 "cells": [
  {
   "cell_type": "code",
   "execution_count": 1,
   "id": "e6919829",
   "metadata": {},
   "outputs": [
    {
     "data": {
      "text/html": [
       "\n",
       "<style>\n",
       "div.container{width:86% !important;}\n",
       "div.cell.code_cell.rendered{width:100%;}\n",
       "div.CodeMirror {font-family:Consolas; font-size:15pt;}\n",
       "div.output {font-size:15pt; font-weight:bold;}\n",
       "div.input {font-family:Consolas; font-size:15pt;}\n",
       "div.prompt {min-width:70px;}\n",
       "div#toc-wrapper{padding-top:120px;}\n",
       "div.text_cell_render ul li{font-size:12pt;padding:5px;}\n",
       "table.dataframe{font-size:15px;}\n",
       "</style>\n",
       " "
      ],
      "text/plain": [
       "<IPython.core.display.HTML object>"
      ]
     },
     "metadata": {},
     "output_type": "display_data"
    }
   ],
   "source": [
    "from IPython.display import display, HTML \n",
    "display(HTML(\"\"\"\n",
    "<style>\n",
    "div.container{width:86% !important;}\n",
    "div.cell.code_cell.rendered{width:100%;}\n",
    "div.CodeMirror {font-family:Consolas; font-size:15pt;}\n",
    "div.output {font-size:15pt; font-weight:bold;}\n",
    "div.input {font-family:Consolas; font-size:15pt;}\n",
    "div.prompt {min-width:70px;}\n",
    "div#toc-wrapper{padding-top:120px;}\n",
    "div.text_cell_render ul li{font-size:12pt;padding:5px;}\n",
    "table.dataframe{font-size:15px;}\n",
    "</style>\n",
    " \"\"\"))"
   ]
  },
  {
   "cell_type": "code",
   "execution_count": 63,
   "id": "cb192a91",
   "metadata": {},
   "outputs": [],
   "source": [
    "# import \n",
    "import seaborn as sns # iris data\n",
    "import pandas as pd   # 원핫인코딩\n",
    "import numpy as np\n",
    "from sklearn.preprocessing import LabelEncoder        # 라벨인코딩(문자->숫자)\n",
    "from tensorflow.keras.utils import to_categorical     # 원핫인코딩  (라벨인코딩)\n",
    "from sklearn.model_selection import train_test_split  # 데이터 분할(층화추출로 분할)\n",
    "from tensorflow.keras.models import Sequential,load_model,save_model\n",
    "from tensorflow.keras.layers import Dense,Input, add, Dropout\n",
    "from tensorflow.keras.callbacks import EarlyStopping, ModelCheckpoint\n",
    "import matplotlib.pyplot as plt                       # 학습과정 시각화"
   ]
  },
  {
   "cell_type": "markdown",
   "id": "7c70abc2",
   "metadata": {},
   "source": [
    "- iris data\n",
    "1. sepal_length : 꽃받침길이\n",
    "2. sepal_width : 꽃받침넓이\n",
    "3. petal_length : 꽃잎길이\n",
    "4. petal_width : 꽃잎넓이\n",
    "5. species : 종(세토사,버즈칼라,버즈니카) setosa, versicolor, virginica"
   ]
  },
  {
   "cell_type": "markdown",
   "id": "7bded64a",
   "metadata": {},
   "source": [
    "to_categorical :딥러닝(tensorflow.keras)\n",
    "get_dummies : 머신러닝"
   ]
  },
  {
   "cell_type": "code",
   "execution_count": null,
   "id": "57c5674e",
   "metadata": {},
   "outputs": [],
   "source": []
  },
  {
   "cell_type": "code",
   "execution_count": null,
   "id": "b0fafb78",
   "metadata": {},
   "outputs": [],
   "source": []
  },
  {
   "cell_type": "code",
   "execution_count": 15,
   "id": "49837f2f",
   "metadata": {},
   "outputs": [
    {
     "data": {
      "text/plain": [
       "array([[1., 0., 0.],\n",
       "       [1., 0., 0.],\n",
       "       [0., 1., 0.],\n",
       "       [0., 1., 0.],\n",
       "       [0., 0., 1.],\n",
       "       [0., 0., 1.]], dtype=float32)"
      ]
     },
     "execution_count": 15,
     "metadata": {},
     "output_type": "execute_result"
    }
   ],
   "source": [
    "# 문자 변수의 운핫인코딩 방법1 : labelEncoder를 통해 species를 숫자로 변환하여 to_categorical\n",
    "iris = sns.load_dataset('iris')\n",
    "# iris.head(2)\n",
    "# iris['species'] # 문자  # to_categofical을 쓰려면 int(숫자)로 바꿔야 함 \n",
    "labelEncoder = LabelEncoder()  # 라벨인코더 객체 생성\n",
    "# labelEncoder.fit(iris['species']) # 숫자로 바꾸게 학습시키고\n",
    "# iris['y'] = labelEncoder.transform(iris['species']) # 학습한걸 y컬럼에 추가하기 \n",
    "# iris  # 숫자로 바꾼 후 to_categorical 사용해야 함.\n",
    "iris['y'] = labelEncoder.fit_transform(iris.species)\n",
    "# iris.iloc[::25]\n",
    "to_categorical(iris['y'])[::25]  # to_categorical의 결과는 numpy배열"
   ]
  },
  {
   "cell_type": "code",
   "execution_count": 20,
   "id": "4ce1654a",
   "metadata": {},
   "outputs": [
    {
     "data": {
      "text/plain": [
       "array([[1, 0, 0],\n",
       "       [1, 0, 0],\n",
       "       [0, 1, 0],\n",
       "       [0, 1, 0],\n",
       "       [0, 0, 1],\n",
       "       [0, 0, 1]], dtype=uint8)"
      ]
     },
     "execution_count": 20,
     "metadata": {},
     "output_type": "execute_result"
    }
   ],
   "source": [
    "# 문자 변수의 운핫인코딩 방법2 :\n",
    "iris = sns.load_dataset('iris')\n",
    "pd.get_dummies(iris.species).values \n",
    "pd.get_dummies(iris.species).to_numpy()[::25]   # pd.get_dummies 결과는 데이터 프레임 \n",
    "# 머신러닝 하려면 numpy배열로 바꿔야 함 .values / .to_numpy() 해야함  "
   ]
  },
  {
   "cell_type": "code",
   "execution_count": 50,
   "id": "4f5d9750",
   "metadata": {},
   "outputs": [
    {
     "name": "stdout",
     "output_type": "stream",
     "text": [
      "(150, 4) (150, 3)\n",
      "(120, 4) (30, 4) (120, 3) (30, 3)\n"
     ]
    }
   ],
   "source": [
    "# 1. 데이터 생성 및 전처리\n",
    "iris = sns.load_dataset('iris')\n",
    "# iris.info() 결측치 있으면 결측치 처리 진행 필수\n",
    "# iris['species'].value_counts()  타겟변수의 분포 확인 (골고루 분포되었는지?)\n",
    "# 입력(독립)변수와 타겟(종속)변수 분리\n",
    "iris_X = iris.iloc[:,:-1].to_numpy() # 넘파이 배열로 넣어야 스케일 조정도 잘 됨.\n",
    "# iris_X[:3]\n",
    "iris_y = iris.iloc[:,-1]\n",
    "iris_y \n",
    "iris_Y = pd.get_dummies(iris_y).values\n",
    "# iris_Y[::50]\n",
    "# 훈련셋(8) : 테스트 셋(2)\n",
    "X_train, X_test, Y_train, Y_test = train_test_split(iris_X,iris_Y,\n",
    "                                                   #train_size=0.8,    # 훈련셋 비율 80%\n",
    "                                                   test_size=0.2,    # 테스트셋 비율 20%\n",
    "                                                   stratify=iris_Y,  # 층화추출\n",
    "                                                   random_state=7    # 랜덤시드값\n",
    "                                                   )\n",
    "print(iris_X.shape, iris_Y.shape)\n",
    "print(X_train.shape, X_test.shape, Y_train.shape, Y_test.shape)"
   ]
  },
  {
   "cell_type": "code",
   "execution_count": 51,
   "id": "bfa23956",
   "metadata": {},
   "outputs": [
    {
     "name": "stdout",
     "output_type": "stream",
     "text": [
      "0    50\n",
      "1    50\n",
      "2    50\n",
      "dtype: int64\n",
      "0    40\n",
      "2    40\n",
      "1    40\n",
      "dtype: int64\n",
      "0    10\n",
      "2    10\n",
      "1    10\n",
      "dtype: int64\n"
     ]
    }
   ],
   "source": [
    "# 층화추출이 되었는지 확인하는 방법 \n",
    "# iris_Y.argmax(axis=1)\n",
    "print(pd.Series(np.argmax(iris_Y,axis=1)).value_counts())\n",
    "print(pd.Series(np.argmax(Y_train, axis=1)).value_counts())\n",
    "print(pd.Series(np.argmax(Y_test, axis=1)).value_counts())"
   ]
  },
  {
   "cell_type": "code",
   "execution_count": 68,
   "id": "7f1c7cb6",
   "metadata": {},
   "outputs": [
    {
     "name": "stdout",
     "output_type": "stream",
     "text": [
      "Model: \"sequential_5\"\n",
      "_________________________________________________________________\n",
      " Layer (type)                Output Shape              Param #   \n",
      "=================================================================\n",
      " dense_25 (Dense)            (None, 64)                320       \n",
      "                                                                 \n",
      " dropout_2 (Dropout)         (None, 64)                0         \n",
      "                                                                 \n",
      " dense_26 (Dense)            (None, 128)               8320      \n",
      "                                                                 \n",
      " dense_27 (Dense)            (None, 50)                6450      \n",
      "                                                                 \n",
      " dropout_3 (Dropout)         (None, 50)                0         \n",
      "                                                                 \n",
      " dense_28 (Dense)            (None, 30)                1530      \n",
      "                                                                 \n",
      " dense_29 (Dense)            (None, 3)                 93        \n",
      "                                                                 \n",
      "=================================================================\n",
      "Total params: 16,713\n",
      "Trainable params: 16,713\n",
      "Non-trainable params: 0\n",
      "_________________________________________________________________\n"
     ]
    }
   ],
   "source": [
    "# 2. 모델 구성(입력4, 출력3)\n",
    "model = Sequential()\n",
    "model.add(Dense(units=64, input_dim=4, activation='relu'))\n",
    "model.add(Dropout(0.2))\n",
    "model.add(Dense(units=128, activation='relu'))\n",
    "model.add(Dense(units=50, activation='relu'))\n",
    "model.add(Dropout(0.1))\n",
    "model.add(Dense(units=30, activation='relu'))\n",
    "model.add(Dense(units=3, activation='softmax')) # 출력층\n",
    "model.summary() # 파라미터 구성 확인"
   ]
  },
  {
   "cell_type": "code",
   "execution_count": 69,
   "id": "85590518",
   "metadata": {},
   "outputs": [],
   "source": [
    "# 3. 학습과정 설정\n",
    "model.compile(loss='categorical_crossentropy',\n",
    "              optimizer='adam',\n",
    "              metrics=['accuracy'])"
   ]
  },
  {
   "cell_type": "code",
   "execution_count": 70,
   "id": "1cf8d871",
   "metadata": {},
   "outputs": [
    {
     "name": "stdout",
     "output_type": "stream",
     "text": [
      "Epoch 1/500\n",
      "1/3 [=========>....................] - ETA: 0s - loss: 1.2516 - accuracy: 0.2500\n",
      "Epoch 1: val_accuracy improved from -inf to 0.37500, saving model to ./model_iris\\iris-epoch001-val0.3750.h5\n",
      "3/3 [==============================] - 1s 94ms/step - loss: 1.1742 - accuracy: 0.3646 - val_loss: 1.0420 - val_accuracy: 0.3750\n",
      "Epoch 2/500\n",
      "1/3 [=========>....................] - ETA: 0s - loss: 1.0899 - accuracy: 0.4688\n",
      "Epoch 2: val_accuracy improved from 0.37500 to 0.66667, saving model to ./model_iris\\iris-epoch002-val0.6667.h5\n",
      "3/3 [==============================] - 0s 29ms/step - loss: 1.0764 - accuracy: 0.4896 - val_loss: 0.9981 - val_accuracy: 0.6667\n",
      "Epoch 3/500\n",
      "1/3 [=========>....................] - ETA: 0s - loss: 1.0191 - accuracy: 0.6562\n",
      "Epoch 3: val_accuracy did not improve from 0.66667\n",
      "3/3 [==============================] - 0s 17ms/step - loss: 0.9996 - accuracy: 0.6042 - val_loss: 0.9556 - val_accuracy: 0.6667\n",
      "Epoch 4/500\n",
      "1/3 [=========>....................] - ETA: 0s - loss: 0.9658 - accuracy: 0.5625\n",
      "Epoch 4: val_accuracy did not improve from 0.66667\n",
      "3/3 [==============================] - 0s 18ms/step - loss: 0.9506 - accuracy: 0.5625 - val_loss: 0.8827 - val_accuracy: 0.6667\n",
      "Epoch 5/500\n",
      "1/3 [=========>....................] - ETA: 0s - loss: 0.8716 - accuracy: 0.6562\n",
      "Epoch 5: val_accuracy did not improve from 0.66667\n",
      "3/3 [==============================] - 0s 19ms/step - loss: 0.8617 - accuracy: 0.6562 - val_loss: 0.7905 - val_accuracy: 0.6667\n",
      "Epoch 6/500\n",
      "1/3 [=========>....................] - ETA: 0s - loss: 0.8192 - accuracy: 0.6562\n",
      "Epoch 6: val_accuracy did not improve from 0.66667\n",
      "3/3 [==============================] - 0s 17ms/step - loss: 0.7810 - accuracy: 0.6979 - val_loss: 0.6725 - val_accuracy: 0.6667\n",
      "Epoch 7/500\n",
      "1/3 [=========>....................] - ETA: 0s - loss: 0.7941 - accuracy: 0.5312\n",
      "Epoch 7: val_accuracy improved from 0.66667 to 0.87500, saving model to ./model_iris\\iris-epoch007-val0.8750.h5\n",
      "3/3 [==============================] - 0s 29ms/step - loss: 0.7279 - accuracy: 0.6667 - val_loss: 0.5813 - val_accuracy: 0.8750\n",
      "Epoch 8/500\n",
      "1/3 [=========>....................] - ETA: 0s - loss: 0.6685 - accuracy: 0.8438\n",
      "Epoch 8: val_accuracy improved from 0.87500 to 0.91667, saving model to ./model_iris\\iris-epoch008-val0.9167.h5\n",
      "3/3 [==============================] - 0s 30ms/step - loss: 0.6003 - accuracy: 0.8646 - val_loss: 0.5156 - val_accuracy: 0.9167\n",
      "Epoch 9/500\n",
      "1/3 [=========>....................] - ETA: 0s - loss: 0.6756 - accuracy: 0.5938\n",
      "Epoch 9: val_accuracy did not improve from 0.91667\n",
      "3/3 [==============================] - 0s 18ms/step - loss: 0.5968 - accuracy: 0.7083 - val_loss: 0.4642 - val_accuracy: 0.9167\n",
      "Epoch 10/500\n",
      "1/3 [=========>....................] - ETA: 0s - loss: 0.5815 - accuracy: 0.6875\n",
      "Epoch 10: val_accuracy did not improve from 0.91667\n",
      "3/3 [==============================] - 0s 17ms/step - loss: 0.5369 - accuracy: 0.7292 - val_loss: 0.4319 - val_accuracy: 0.8750\n",
      "Epoch 11/500\n",
      "1/3 [=========>....................] - ETA: 0s - loss: 0.4861 - accuracy: 0.8125\n",
      "Epoch 11: val_accuracy did not improve from 0.91667\n",
      "3/3 [==============================] - 0s 19ms/step - loss: 0.5168 - accuracy: 0.8125 - val_loss: 0.4162 - val_accuracy: 0.7917\n",
      "Epoch 12/500\n",
      "1/3 [=========>....................] - ETA: 0s - loss: 0.3981 - accuracy: 0.9062\n",
      "Epoch 12: val_accuracy did not improve from 0.91667\n",
      "3/3 [==============================] - 0s 17ms/step - loss: 0.4911 - accuracy: 0.7500 - val_loss: 0.4024 - val_accuracy: 0.7917\n",
      "Epoch 13/500\n",
      "1/3 [=========>....................] - ETA: 0s - loss: 0.4239 - accuracy: 0.8750\n",
      "Epoch 13: val_accuracy did not improve from 0.91667\n",
      "3/3 [==============================] - 0s 18ms/step - loss: 0.4507 - accuracy: 0.7917 - val_loss: 0.3767 - val_accuracy: 0.8750\n",
      "Epoch 14/500\n",
      "1/3 [=========>....................] - ETA: 0s - loss: 0.4749 - accuracy: 0.6875\n",
      "Epoch 14: val_accuracy did not improve from 0.91667\n",
      "3/3 [==============================] - 0s 20ms/step - loss: 0.4327 - accuracy: 0.7708 - val_loss: 0.3631 - val_accuracy: 0.8750\n",
      "Epoch 15/500\n",
      "1/3 [=========>....................] - ETA: 0s - loss: 0.4644 - accuracy: 0.7188\n",
      "Epoch 15: val_accuracy did not improve from 0.91667\n",
      "3/3 [==============================] - 0s 18ms/step - loss: 0.4573 - accuracy: 0.7500 - val_loss: 0.3451 - val_accuracy: 0.8750\n",
      "Epoch 16/500\n",
      "1/3 [=========>....................] - ETA: 0s - loss: 0.3781 - accuracy: 0.8438\n",
      "Epoch 16: val_accuracy did not improve from 0.91667\n",
      "3/3 [==============================] - 0s 17ms/step - loss: 0.3962 - accuracy: 0.8229 - val_loss: 0.3284 - val_accuracy: 0.9167\n",
      "Epoch 17/500\n",
      "1/3 [=========>....................] - ETA: 0s - loss: 0.3682 - accuracy: 0.8438\n",
      "Epoch 17: val_accuracy improved from 0.91667 to 0.95833, saving model to ./model_iris\\iris-epoch017-val0.9583.h5\n",
      "3/3 [==============================] - 0s 32ms/step - loss: 0.3620 - accuracy: 0.8229 - val_loss: 0.3099 - val_accuracy: 0.9583\n",
      "Epoch 18/500\n",
      "1/3 [=========>....................] - ETA: 0s - loss: 0.3624 - accuracy: 0.8125\n",
      "Epoch 18: val_accuracy did not improve from 0.95833\n",
      "3/3 [==============================] - 0s 19ms/step - loss: 0.3684 - accuracy: 0.8125 - val_loss: 0.2988 - val_accuracy: 0.9167\n",
      "Epoch 19/500\n",
      "1/3 [=========>....................] - ETA: 0s - loss: 0.3514 - accuracy: 0.8438\n",
      "Epoch 19: val_accuracy did not improve from 0.95833\n",
      "3/3 [==============================] - 0s 17ms/step - loss: 0.3385 - accuracy: 0.8750 - val_loss: 0.2838 - val_accuracy: 0.9167\n",
      "Epoch 20/500\n",
      "1/3 [=========>....................] - ETA: 0s - loss: 0.2634 - accuracy: 0.9062\n",
      "Epoch 20: val_accuracy did not improve from 0.95833\n",
      "3/3 [==============================] - 0s 18ms/step - loss: 0.3353 - accuracy: 0.8542 - val_loss: 0.2735 - val_accuracy: 0.9167\n",
      "Epoch 21/500\n",
      "1/3 [=========>....................] - ETA: 0s - loss: 0.2656 - accuracy: 0.8750\n",
      "Epoch 21: val_accuracy did not improve from 0.95833\n",
      "3/3 [==============================] - 0s 17ms/step - loss: 0.3261 - accuracy: 0.8542 - val_loss: 0.2643 - val_accuracy: 0.9167\n",
      "Epoch 22/500\n",
      "1/3 [=========>....................] - ETA: 0s - loss: 0.2978 - accuracy: 0.8750\n",
      "Epoch 22: val_accuracy did not improve from 0.95833\n",
      "3/3 [==============================] - 0s 17ms/step - loss: 0.2883 - accuracy: 0.8854 - val_loss: 0.2545 - val_accuracy: 0.9167\n",
      "Epoch 23/500\n",
      "1/3 [=========>....................] - ETA: 0s - loss: 0.2910 - accuracy: 0.9375\n",
      "Epoch 23: val_accuracy did not improve from 0.95833\n",
      "3/3 [==============================] - 0s 16ms/step - loss: 0.3030 - accuracy: 0.8958 - val_loss: 0.2370 - val_accuracy: 0.9167\n",
      "Epoch 24/500\n",
      "1/3 [=========>....................] - ETA: 0s - loss: 0.2430 - accuracy: 0.9062\n",
      "Epoch 24: val_accuracy did not improve from 0.95833\n",
      "3/3 [==============================] - 0s 20ms/step - loss: 0.2585 - accuracy: 0.8958 - val_loss: 0.2343 - val_accuracy: 0.9167\n",
      "Epoch 25/500\n",
      "1/3 [=========>....................] - ETA: 0s - loss: 0.3523 - accuracy: 0.8438\n",
      "Epoch 25: val_accuracy did not improve from 0.95833\n",
      "3/3 [==============================] - 0s 16ms/step - loss: 0.2722 - accuracy: 0.8854 - val_loss: 0.2374 - val_accuracy: 0.8750\n",
      "Epoch 26/500\n",
      "1/3 [=========>....................] - ETA: 0s - loss: 0.2380 - accuracy: 0.8438\n",
      "Epoch 26: val_accuracy did not improve from 0.95833\n",
      "3/3 [==============================] - 0s 17ms/step - loss: 0.2545 - accuracy: 0.9062 - val_loss: 0.2253 - val_accuracy: 0.9167\n",
      "Epoch 27/500\n",
      "1/3 [=========>....................] - ETA: 0s - loss: 0.2494 - accuracy: 0.9375\n",
      "Epoch 27: val_accuracy did not improve from 0.95833\n",
      "3/3 [==============================] - 0s 18ms/step - loss: 0.1996 - accuracy: 0.9375 - val_loss: 0.1943 - val_accuracy: 0.9583\n",
      "Epoch 28/500\n",
      "1/3 [=========>....................] - ETA: 0s - loss: 0.1941 - accuracy: 0.9375\n",
      "Epoch 28: val_accuracy did not improve from 0.95833\n",
      "3/3 [==============================] - 0s 16ms/step - loss: 0.1888 - accuracy: 0.9271 - val_loss: 0.1933 - val_accuracy: 0.9583\n",
      "Epoch 29/500\n",
      "1/3 [=========>....................] - ETA: 0s - loss: 0.2684 - accuracy: 0.8750\n",
      "Epoch 29: val_accuracy did not improve from 0.95833\n",
      "3/3 [==============================] - 0s 22ms/step - loss: 0.1985 - accuracy: 0.9167 - val_loss: 0.1798 - val_accuracy: 0.9583\n"
     ]
    },
    {
     "name": "stdout",
     "output_type": "stream",
     "text": [
      "Epoch 30/500\n",
      "1/3 [=========>....................] - ETA: 0s - loss: 0.2034 - accuracy: 0.9375\n",
      "Epoch 30: val_accuracy did not improve from 0.95833\n",
      "3/3 [==============================] - 0s 18ms/step - loss: 0.2534 - accuracy: 0.8646 - val_loss: 0.1779 - val_accuracy: 0.9583\n",
      "Epoch 31/500\n",
      "1/3 [=========>....................] - ETA: 0s - loss: 0.3007 - accuracy: 0.8438\n",
      "Epoch 31: val_accuracy did not improve from 0.95833\n",
      "3/3 [==============================] - 0s 16ms/step - loss: 0.2069 - accuracy: 0.9167 - val_loss: 0.2909 - val_accuracy: 0.8333\n",
      "Epoch 32/500\n",
      "1/3 [=========>....................] - ETA: 0s - loss: 0.1261 - accuracy: 0.9688\n",
      "Epoch 32: val_accuracy did not improve from 0.95833\n",
      "3/3 [==============================] - 0s 16ms/step - loss: 0.2106 - accuracy: 0.9375 - val_loss: 0.1997 - val_accuracy: 0.9583\n",
      "Epoch 33/500\n",
      "1/3 [=========>....................] - ETA: 0s - loss: 0.2463 - accuracy: 0.9375\n",
      "Epoch 33: val_accuracy did not improve from 0.95833\n",
      "3/3 [==============================] - 0s 16ms/step - loss: 0.2754 - accuracy: 0.9062 - val_loss: 0.1607 - val_accuracy: 0.9167\n",
      "Epoch 34/500\n",
      "1/3 [=========>....................] - ETA: 0s - loss: 0.1969 - accuracy: 0.9375\n",
      "Epoch 34: val_accuracy did not improve from 0.95833\n",
      "3/3 [==============================] - 0s 17ms/step - loss: 0.2167 - accuracy: 0.9167 - val_loss: 0.1736 - val_accuracy: 0.9583\n",
      "Epoch 35/500\n",
      "1/3 [=========>....................] - ETA: 0s - loss: 0.2002 - accuracy: 0.9375\n",
      "Epoch 35: val_accuracy did not improve from 0.95833\n",
      "3/3 [==============================] - 0s 17ms/step - loss: 0.2414 - accuracy: 0.8854 - val_loss: 0.2942 - val_accuracy: 0.8750\n",
      "Epoch 36/500\n",
      "1/3 [=========>....................] - ETA: 0s - loss: 0.2295 - accuracy: 0.9062\n",
      "Epoch 36: val_accuracy did not improve from 0.95833\n",
      "3/3 [==============================] - 0s 17ms/step - loss: 0.1642 - accuracy: 0.9375 - val_loss: 0.2109 - val_accuracy: 0.9167\n",
      "Epoch 37/500\n",
      "1/3 [=========>....................] - ETA: 0s - loss: 0.0998 - accuracy: 1.0000\n",
      "Epoch 37: val_accuracy did not improve from 0.95833\n",
      "3/3 [==============================] - 0s 17ms/step - loss: 0.1305 - accuracy: 0.9583 - val_loss: 0.1535 - val_accuracy: 0.9583\n",
      "Epoch 38/500\n",
      "1/3 [=========>....................] - ETA: 0s - loss: 0.1553 - accuracy: 0.9062\n",
      "Epoch 38: val_accuracy did not improve from 0.95833\n",
      "3/3 [==============================] - 0s 17ms/step - loss: 0.1290 - accuracy: 0.9375 - val_loss: 0.1479 - val_accuracy: 0.9583\n",
      "Epoch 39/500\n",
      "1/3 [=========>....................] - ETA: 0s - loss: 0.1238 - accuracy: 0.9375\n",
      "Epoch 39: val_accuracy did not improve from 0.95833\n",
      "3/3 [==============================] - 0s 16ms/step - loss: 0.1177 - accuracy: 0.9583 - val_loss: 0.1610 - val_accuracy: 0.9583\n",
      "Epoch 40/500\n",
      "1/3 [=========>....................] - ETA: 0s - loss: 0.1432 - accuracy: 0.9375\n",
      "Epoch 40: val_accuracy did not improve from 0.95833\n",
      "3/3 [==============================] - 0s 16ms/step - loss: 0.1475 - accuracy: 0.9479 - val_loss: 0.2320 - val_accuracy: 0.9167\n",
      "Epoch 41/500\n",
      "1/3 [=========>....................] - ETA: 0s - loss: 0.0828 - accuracy: 1.0000\n",
      "Epoch 41: val_accuracy did not improve from 0.95833\n",
      "3/3 [==============================] - 0s 16ms/step - loss: 0.1572 - accuracy: 0.9583 - val_loss: 0.2034 - val_accuracy: 0.9583\n",
      "Epoch 42/500\n",
      "1/3 [=========>....................] - ETA: 0s - loss: 0.2474 - accuracy: 0.8438\n",
      "Epoch 42: val_accuracy did not improve from 0.95833\n",
      "3/3 [==============================] - 0s 16ms/step - loss: 0.1275 - accuracy: 0.9271 - val_loss: 0.1461 - val_accuracy: 0.9583\n",
      "Epoch 43/500\n",
      "1/3 [=========>....................] - ETA: 0s - loss: 0.1329 - accuracy: 0.9688\n",
      "Epoch 43: val_accuracy did not improve from 0.95833\n",
      "3/3 [==============================] - 0s 16ms/step - loss: 0.1153 - accuracy: 0.9688 - val_loss: 0.1421 - val_accuracy: 0.9583\n",
      "Epoch 44/500\n",
      "1/3 [=========>....................] - ETA: 0s - loss: 0.1576 - accuracy: 0.9062\n",
      "Epoch 44: val_accuracy did not improve from 0.95833\n",
      "3/3 [==============================] - 0s 16ms/step - loss: 0.1293 - accuracy: 0.9479 - val_loss: 0.1593 - val_accuracy: 0.9583\n",
      "Epoch 45/500\n",
      "1/3 [=========>....................] - ETA: 0s - loss: 0.0723 - accuracy: 0.9688\n",
      "Epoch 45: val_accuracy did not improve from 0.95833\n",
      "3/3 [==============================] - 0s 17ms/step - loss: 0.0904 - accuracy: 0.9792 - val_loss: 0.1788 - val_accuracy: 0.9583\n",
      "Epoch 46/500\n",
      "1/3 [=========>....................] - ETA: 0s - loss: 0.1256 - accuracy: 0.9375\n",
      "Epoch 46: val_accuracy did not improve from 0.95833\n",
      "3/3 [==============================] - 0s 17ms/step - loss: 0.1154 - accuracy: 0.9479 - val_loss: 0.1935 - val_accuracy: 0.9583\n",
      "Epoch 47/500\n",
      "1/3 [=========>....................] - ETA: 0s - loss: 0.0845 - accuracy: 0.9688\n",
      "Epoch 47: val_accuracy did not improve from 0.95833\n",
      "3/3 [==============================] - 0s 16ms/step - loss: 0.1067 - accuracy: 0.9479 - val_loss: 0.1426 - val_accuracy: 0.9583\n",
      "Epoch 48/500\n",
      "1/3 [=========>....................] - ETA: 0s - loss: 0.0283 - accuracy: 1.0000\n",
      "Epoch 48: val_accuracy did not improve from 0.95833\n",
      "3/3 [==============================] - 0s 16ms/step - loss: 0.0812 - accuracy: 0.9688 - val_loss: 0.1560 - val_accuracy: 0.9583\n",
      "Epoch 49/500\n",
      "1/3 [=========>....................] - ETA: 0s - loss: 0.1286 - accuracy: 0.9375\n",
      "Epoch 49: val_accuracy did not improve from 0.95833\n",
      "3/3 [==============================] - 0s 17ms/step - loss: 0.1395 - accuracy: 0.9375 - val_loss: 0.2242 - val_accuracy: 0.9167\n",
      "Epoch 50/500\n",
      "1/3 [=========>....................] - ETA: 0s - loss: 0.1022 - accuracy: 0.9375\n",
      "Epoch 50: val_accuracy did not improve from 0.95833\n",
      "3/3 [==============================] - 0s 16ms/step - loss: 0.1029 - accuracy: 0.9583 - val_loss: 0.1811 - val_accuracy: 0.9583\n",
      "Epoch 51/500\n",
      "1/3 [=========>....................] - ETA: 0s - loss: 0.0312 - accuracy: 1.0000\n",
      "Epoch 51: val_accuracy did not improve from 0.95833\n",
      "3/3 [==============================] - 0s 16ms/step - loss: 0.1262 - accuracy: 0.9271 - val_loss: 0.1658 - val_accuracy: 0.9583\n",
      "Epoch 52/500\n",
      "1/3 [=========>....................] - ETA: 0s - loss: 0.1538 - accuracy: 0.9062\n",
      "Epoch 52: val_accuracy did not improve from 0.95833\n",
      "3/3 [==============================] - 0s 17ms/step - loss: 0.1050 - accuracy: 0.9479 - val_loss: 0.1763 - val_accuracy: 0.9583\n",
      "Epoch 53/500\n",
      "1/3 [=========>....................] - ETA: 0s - loss: 0.1609 - accuracy: 0.9375\n",
      "Epoch 53: val_accuracy did not improve from 0.95833\n",
      "3/3 [==============================] - 0s 16ms/step - loss: 0.1344 - accuracy: 0.9375 - val_loss: 0.2146 - val_accuracy: 0.9583\n",
      "Epoch 54/500\n",
      "1/3 [=========>....................] - ETA: 0s - loss: 0.1521 - accuracy: 0.9375\n",
      "Epoch 54: val_accuracy did not improve from 0.95833\n",
      "3/3 [==============================] - 0s 17ms/step - loss: 0.1258 - accuracy: 0.9583 - val_loss: 0.1658 - val_accuracy: 0.9583\n",
      "Epoch 55/500\n",
      "1/3 [=========>....................] - ETA: 0s - loss: 0.1218 - accuracy: 0.9062\n",
      "Epoch 55: val_accuracy did not improve from 0.95833\n",
      "3/3 [==============================] - 0s 17ms/step - loss: 0.1002 - accuracy: 0.9583 - val_loss: 0.1658 - val_accuracy: 0.9583\n",
      "Epoch 56/500\n",
      "1/3 [=========>....................] - ETA: 0s - loss: 0.0814 - accuracy: 0.9375\n",
      "Epoch 56: val_accuracy did not improve from 0.95833\n",
      "3/3 [==============================] - 0s 16ms/step - loss: 0.0736 - accuracy: 0.9583 - val_loss: 0.1630 - val_accuracy: 0.9583\n",
      "Epoch 57/500\n",
      "1/3 [=========>....................] - ETA: 0s - loss: 0.0683 - accuracy: 0.9688\n",
      "Epoch 57: val_accuracy did not improve from 0.95833\n",
      "3/3 [==============================] - 0s 16ms/step - loss: 0.0856 - accuracy: 0.9583 - val_loss: 0.1552 - val_accuracy: 0.9583\n",
      "Epoch 58/500\n",
      "1/3 [=========>....................] - ETA: 0s - loss: 0.0616 - accuracy: 1.0000\n",
      "Epoch 58: val_accuracy did not improve from 0.95833\n",
      "3/3 [==============================] - 0s 23ms/step - loss: 0.0493 - accuracy: 0.9896 - val_loss: 0.1510 - val_accuracy: 0.9583\n",
      "Epoch 59/500\n",
      "1/3 [=========>....................] - ETA: 0s - loss: 0.2507 - accuracy: 0.9062\n",
      "Epoch 59: val_accuracy did not improve from 0.95833\n",
      "3/3 [==============================] - 0s 19ms/step - loss: 0.1598 - accuracy: 0.9375 - val_loss: 0.1693 - val_accuracy: 0.9583\n"
     ]
    },
    {
     "name": "stdout",
     "output_type": "stream",
     "text": [
      "Epoch 60/500\n",
      "1/3 [=========>....................] - ETA: 0s - loss: 0.1158 - accuracy: 0.9062\n",
      "Epoch 60: val_accuracy did not improve from 0.95833\n",
      "3/3 [==============================] - 0s 17ms/step - loss: 0.0868 - accuracy: 0.9479 - val_loss: 0.2665 - val_accuracy: 0.9167\n",
      "Epoch 61/500\n",
      "1/3 [=========>....................] - ETA: 0s - loss: 0.2978 - accuracy: 0.8750\n",
      "Epoch 61: val_accuracy did not improve from 0.95833\n",
      "3/3 [==============================] - 0s 16ms/step - loss: 0.1750 - accuracy: 0.9271 - val_loss: 0.2246 - val_accuracy: 0.9583\n",
      "Epoch 62/500\n",
      "1/3 [=========>....................] - ETA: 0s - loss: 0.0567 - accuracy: 1.0000\n",
      "Epoch 62: val_accuracy did not improve from 0.95833\n",
      "3/3 [==============================] - 0s 18ms/step - loss: 0.0767 - accuracy: 0.9792 - val_loss: 0.1617 - val_accuracy: 0.9583\n",
      "Epoch 63/500\n",
      "1/3 [=========>....................] - ETA: 0s - loss: 0.0756 - accuracy: 0.9688\n",
      "Epoch 63: val_accuracy did not improve from 0.95833\n",
      "3/3 [==============================] - 0s 17ms/step - loss: 0.0591 - accuracy: 0.9792 - val_loss: 0.1666 - val_accuracy: 0.9583\n",
      "Epoch 64/500\n",
      "1/3 [=========>....................] - ETA: 0s - loss: 0.1327 - accuracy: 0.9688\n",
      "Epoch 64: val_accuracy did not improve from 0.95833\n",
      "3/3 [==============================] - 0s 18ms/step - loss: 0.1223 - accuracy: 0.9583 - val_loss: 0.1907 - val_accuracy: 0.9583\n",
      "Epoch 65/500\n",
      "1/3 [=========>....................] - ETA: 0s - loss: 0.1754 - accuracy: 0.9062\n",
      "Epoch 65: val_accuracy did not improve from 0.95833\n",
      "3/3 [==============================] - 0s 18ms/step - loss: 0.1289 - accuracy: 0.9375 - val_loss: 0.1714 - val_accuracy: 0.9583\n",
      "Epoch 66/500\n",
      "1/3 [=========>....................] - ETA: 0s - loss: 0.0636 - accuracy: 0.9688\n",
      "Epoch 66: val_accuracy did not improve from 0.95833\n",
      "3/3 [==============================] - 0s 18ms/step - loss: 0.1083 - accuracy: 0.9271 - val_loss: 0.1591 - val_accuracy: 0.9583\n",
      "Epoch 67/500\n",
      "1/3 [=========>....................] - ETA: 0s - loss: 0.1136 - accuracy: 0.9375\n",
      "Epoch 67: val_accuracy did not improve from 0.95833\n",
      "3/3 [==============================] - 0s 16ms/step - loss: 0.0787 - accuracy: 0.9688 - val_loss: 0.1693 - val_accuracy: 0.9583\n",
      "Epoch 68/500\n",
      "1/3 [=========>....................] - ETA: 0s - loss: 0.0623 - accuracy: 1.0000\n",
      "Epoch 68: val_accuracy did not improve from 0.95833\n",
      "3/3 [==============================] - 0s 18ms/step - loss: 0.0715 - accuracy: 0.9792 - val_loss: 0.1933 - val_accuracy: 0.9583\n",
      "Epoch 69/500\n",
      "1/3 [=========>....................] - ETA: 0s - loss: 0.0201 - accuracy: 1.0000\n",
      "Epoch 69: val_accuracy did not improve from 0.95833\n",
      "3/3 [==============================] - 0s 16ms/step - loss: 0.0595 - accuracy: 0.9896 - val_loss: 0.2190 - val_accuracy: 0.9583\n",
      "Epoch 70/500\n",
      "1/3 [=========>....................] - ETA: 0s - loss: 0.2282 - accuracy: 0.9375\n",
      "Epoch 70: val_accuracy did not improve from 0.95833\n",
      "3/3 [==============================] - 0s 15ms/step - loss: 0.1097 - accuracy: 0.9792 - val_loss: 0.1620 - val_accuracy: 0.9583\n",
      "Epoch 71/500\n",
      "1/3 [=========>....................] - ETA: 0s - loss: 0.0578 - accuracy: 1.0000\n",
      "Epoch 71: val_accuracy did not improve from 0.95833\n",
      "3/3 [==============================] - 0s 16ms/step - loss: 0.0412 - accuracy: 1.0000 - val_loss: 0.1544 - val_accuracy: 0.9583\n",
      "Epoch 72/500\n",
      "1/3 [=========>....................] - ETA: 0s - loss: 0.1713 - accuracy: 0.9062\n",
      "Epoch 72: val_accuracy did not improve from 0.95833\n",
      "3/3 [==============================] - 0s 17ms/step - loss: 0.1101 - accuracy: 0.9479 - val_loss: 0.2186 - val_accuracy: 0.9583\n",
      "Epoch 73/500\n",
      "1/3 [=========>....................] - ETA: 0s - loss: 0.0213 - accuracy: 1.0000\n",
      "Epoch 73: val_accuracy did not improve from 0.95833\n",
      "3/3 [==============================] - 0s 16ms/step - loss: 0.1076 - accuracy: 0.9583 - val_loss: 0.2033 - val_accuracy: 0.9583\n",
      "Epoch 74/500\n",
      "1/3 [=========>....................] - ETA: 0s - loss: 0.1074 - accuracy: 0.9688\n",
      "Epoch 74: val_accuracy did not improve from 0.95833\n",
      "3/3 [==============================] - 0s 17ms/step - loss: 0.0677 - accuracy: 0.9896 - val_loss: 0.1493 - val_accuracy: 0.9583\n",
      "Epoch 75/500\n",
      "1/3 [=========>....................] - ETA: 0s - loss: 0.0988 - accuracy: 0.9688\n",
      "Epoch 75: val_accuracy did not improve from 0.95833\n",
      "3/3 [==============================] - 0s 17ms/step - loss: 0.1314 - accuracy: 0.9375 - val_loss: 0.1477 - val_accuracy: 0.9167\n",
      "Epoch 76/500\n",
      "1/3 [=========>....................] - ETA: 0s - loss: 0.1623 - accuracy: 0.8750\n",
      "Epoch 76: val_accuracy did not improve from 0.95833\n",
      "3/3 [==============================] - 0s 18ms/step - loss: 0.0978 - accuracy: 0.9479 - val_loss: 0.2355 - val_accuracy: 0.9167\n",
      "Epoch 77/500\n",
      "1/3 [=========>....................] - ETA: 0s - loss: 0.0480 - accuracy: 1.0000\n",
      "Epoch 77: val_accuracy did not improve from 0.95833\n",
      "3/3 [==============================] - 0s 18ms/step - loss: 0.1628 - accuracy: 0.9479 - val_loss: 0.2371 - val_accuracy: 0.9167\n",
      "Epoch 78/500\n",
      "1/3 [=========>....................] - ETA: 0s - loss: 0.1884 - accuracy: 0.9062\n",
      "Epoch 78: val_accuracy did not improve from 0.95833\n",
      "3/3 [==============================] - 0s 16ms/step - loss: 0.1120 - accuracy: 0.9583 - val_loss: 0.1487 - val_accuracy: 0.9167\n",
      "Epoch 79/500\n",
      "1/3 [=========>....................] - ETA: 0s - loss: 0.0944 - accuracy: 0.9688\n",
      "Epoch 79: val_accuracy did not improve from 0.95833\n",
      "3/3 [==============================] - 0s 17ms/step - loss: 0.1389 - accuracy: 0.9375 - val_loss: 0.1495 - val_accuracy: 0.9167\n",
      "Epoch 80/500\n",
      "1/3 [=========>....................] - ETA: 0s - loss: 0.1244 - accuracy: 0.9062\n",
      "Epoch 80: val_accuracy did not improve from 0.95833\n",
      "3/3 [==============================] - 0s 17ms/step - loss: 0.1179 - accuracy: 0.9271 - val_loss: 0.2522 - val_accuracy: 0.9167\n",
      "Epoch 81/500\n",
      "1/3 [=========>....................] - ETA: 0s - loss: 0.0198 - accuracy: 1.0000\n",
      "Epoch 81: val_accuracy did not improve from 0.95833\n",
      "3/3 [==============================] - 0s 17ms/step - loss: 0.1184 - accuracy: 0.9583 - val_loss: 0.2955 - val_accuracy: 0.8750\n",
      "Epoch 82/500\n",
      "1/3 [=========>....................] - ETA: 0s - loss: 0.0765 - accuracy: 0.9375\n",
      "Epoch 82: val_accuracy did not improve from 0.95833\n",
      "3/3 [==============================] - 0s 18ms/step - loss: 0.1155 - accuracy: 0.9375 - val_loss: 0.1799 - val_accuracy: 0.9583\n",
      "Epoch 83/500\n",
      "1/3 [=========>....................] - ETA: 0s - loss: 0.1383 - accuracy: 0.9688\n",
      "Epoch 83: val_accuracy did not improve from 0.95833\n",
      "3/3 [==============================] - 0s 16ms/step - loss: 0.1235 - accuracy: 0.9688 - val_loss: 0.1502 - val_accuracy: 0.9167\n"
     ]
    }
   ],
   "source": [
    "# 4. 학습 : epoch마다 val_accuracy값이 좋아지고 있으면 model 자동 저장 (콜백추가)\n",
    "    # 모델이 자동으로 저장이 될 경로 ./model_iris/iris-epoch{100}-val{0.8745}.h5\n",
    "import os\n",
    "model_save_folder = './model_iris/'\n",
    "if not os.path.exists(model_save_folder): # model_save_folder 가 없는지? 없으면 폴더 생성 \n",
    "    os.mkdir(model_save_folder)\n",
    "file = model_save_folder + 'iris-epoch{epoch:03d}-val{val_accuracy:.4f}.h5'\n",
    "\n",
    "# 모델 자동저장할 콜백 객체\n",
    "\n",
    "checkpoint = ModelCheckpoint(filepath=file,\n",
    "                            monitor='val_accuracy', # 모니터링할 지표 / 기본값:val_loss\n",
    "                            mode='max',\n",
    "                            save_best_only=True,    # False : 매번 저장\n",
    "                            verbose=1)              # 모델 저장시 로그 출력 (0:로그 출력안함)\n",
    "# 조기 종료 콜백 객체 \n",
    "earlyStopping = EarlyStopping(patience=40)          # monitor 기본값은 val_loss , val_loss가 떨어지지않고 올라가거나 계속 같은 값이면 40번은 봐줌\n",
    "hist = model.fit(X_train, Y_train,\n",
    "#                 batch_size=40,                    # 한번에 읽어들이는 것\n",
    "                epochs=500,\n",
    "                validation_split=0.2,               # 훈련셋의 20%를 검증셋\n",
    "                callbacks=[earlyStopping,checkpoint])"
   ]
  },
  {
   "cell_type": "code",
   "execution_count": 71,
   "id": "b14437bb",
   "metadata": {},
   "outputs": [
    {
     "data": {
      "image/png": "[encoded data removed]",
      "text/plain": [
       "<Figure size 1200x600 with 2 Axes>"
      ]
     },
     "metadata": {},
     "output_type": "display_data"
    }
   ],
   "source": [
    "# 모델 학습과정 시각화 \n",
    "fig, loss_ax = plt.subplots(figsize=(12,6))\n",
    "loss_ax.plot(hist.history['loss'], 'y', label='train loss')\n",
    "loss_ax.plot(hist.history['val_loss'], 'r', label='val loss')\n",
    "acc_ax = loss_ax.twinx()\n",
    "acc_ax.plot(hist.history['accuracy'], 'g', label='train accuracy')\n",
    "acc_ax.plot(hist.history['val_accuracy'], 'b', label='val accuracy')\n",
    "loss_ax.set_xlabel('epochs')\n",
    "loss_ax.set_ylabel('loss')\n",
    "acc_ax.set_ylabel('accuracy')\n",
    "loss_ax.legend(loc='center right')\n",
    "acc_ax.legend(loc='upper left')\n",
    "plt.show()"
   ]
  },
  {
   "cell_type": "code",
   "execution_count": 91,
   "id": "6d0a54ba",
   "metadata": {},
   "outputs": [
    {
     "name": "stdout",
     "output_type": "stream",
     "text": [
      "1/1 [==============================] - 0s 23ms/step - loss: 0.0390 - accuracy: 1.0000\n",
      "1/1 [==============================] - 0s 20ms/step\n",
      "model loss : 0.039039723575115204\n",
      "model accuracy : 1.0\n",
      "model recall : 1.0\n",
      "model precision : 1.0\n",
      "model f1 score : 1.0\n"
     ]
    }
   ],
   "source": [
    "# 6. 모델평가(evaluate,교차, recall, precision:y 실제값,y 예측값)\n",
    "# iris-epoch034-val0.9583.h5도 같이 평가 \n",
    "from sklearn.metrics import confusion_matrix\n",
    "from sklearn.metrics import recall_score, precision_score, f1_score\n",
    "# 학습된 모델\n",
    "loss, acc = model.evaluate(X_test, Y_test)\n",
    "loss, acc\n",
    "# 현재 모델의 recall과 precision을 위해서 실제값과 예측값 계산\n",
    "real = np.argmax(Y_test, axis=1) # 실제값\n",
    "pred = np.argmax(model.predict(X_test), axis=1) # 예측값\n",
    "recall_s = recall_score(real, pred, average='weighted') # average='weighted':다중분류\n",
    "precision = precision_score(real, pred, average='weighted')\n",
    "f1 = f1_score(real,pred, average='weighted')\n",
    "print('model loss :', loss)\n",
    "print('model accuracy :', acc)\n",
    "print('model recall :', recall_s)\n",
    "print('model precision :', precision)\n",
    "print('model f1 score :', f1)\n",
    "# 저장된 모델의 평가 \n",
    "# model2 = load_model('model_iris/iris-epoch034-val0.9583.h5')\n",
    "# loss,acc = model2.evaluate(X_test,Y_test)\n",
    "# pred = model2.predict(X_test).argmax(axis=1)\n",
    "# recall = recall_score(real, pred, average='weighted')\n",
    "# precision = precision_score(real, pred, average='weighted')\n",
    "# f1 = f1_score(real, pred, average='weighted')\n",
    "# print('model2 loss :', loss)\n",
    "# print('model2 acc :', acc)\n",
    "# print('model2 recall :', recall)\n",
    "# print('model2 precision :', precision)\n",
    "# print('model2 f1 score :', f1)"
   ]
  },
  {
   "cell_type": "code",
   "execution_count": 92,
   "id": "8be9fb5f",
   "metadata": {},
   "outputs": [
    {
     "data": {
      "text/html": [
       "<div>\n",
       "<style scoped>\n",
       "    .dataframe tbody tr th:only-of-type {\n",
       "        vertical-align: middle;\n",
       "    }\n",
       "\n",
       "    .dataframe tbody tr th {\n",
       "        vertical-align: top;\n",
       "    }\n",
       "\n",
       "    .dataframe thead th {\n",
       "        text-align: right;\n",
       "    }\n",
       "</style>\n",
       "<table border=\"1\" class=\"dataframe\">\n",
       "  <thead>\n",
       "    <tr style=\"text-align: right;\">\n",
       "      <th>pred</th>\n",
       "      <th>0</th>\n",
       "      <th>1</th>\n",
       "      <th>2</th>\n",
       "    </tr>\n",
       "    <tr>\n",
       "      <th>real</th>\n",
       "      <th></th>\n",
       "      <th></th>\n",
       "      <th></th>\n",
       "    </tr>\n",
       "  </thead>\n",
       "  <tbody>\n",
       "    <tr>\n",
       "      <th>0</th>\n",
       "      <td>10</td>\n",
       "      <td>0</td>\n",
       "      <td>0</td>\n",
       "    </tr>\n",
       "    <tr>\n",
       "      <th>1</th>\n",
       "      <td>0</td>\n",
       "      <td>10</td>\n",
       "      <td>0</td>\n",
       "    </tr>\n",
       "    <tr>\n",
       "      <th>2</th>\n",
       "      <td>0</td>\n",
       "      <td>0</td>\n",
       "      <td>10</td>\n",
       "    </tr>\n",
       "  </tbody>\n",
       "</table>\n",
       "</div>"
      ],
      "text/plain": [
       "pred   0   1   2\n",
       "real            \n",
       "0     10   0   0\n",
       "1      0  10   0\n",
       "2      0   0  10"
      ]
     },
     "execution_count": 92,
     "metadata": {},
     "output_type": "execute_result"
    }
   ],
   "source": [
    "# 교차표\n",
    "pred = np.argmax(model.predict(X_test,verbose=0), axis=1)\n",
    "pd.crosstab(real,pred,\n",
    "           rownames=['real'], colnames=['pred'])"
   ]
  },
  {
   "cell_type": "code",
   "execution_count": 93,
   "id": "b15b5893",
   "metadata": {},
   "outputs": [
    {
     "data": {
      "text/plain": [
       "array([[10,  0,  0],\n",
       "       [ 0, 10,  0],\n",
       "       [ 0,  0, 10]], dtype=int64)"
      ]
     },
     "execution_count": 93,
     "metadata": {},
     "output_type": "execute_result"
    }
   ],
   "source": [
    "confusion_matrix(real, pred)"
   ]
  },
  {
   "cell_type": "code",
   "execution_count": null,
   "id": "dbf22599",
   "metadata": {},
   "outputs": [],
   "source": [
    "# 모델 저장 및 사용\n",
    "save_model(model, 'model_iris/iris.h5')\n",
    "model.save('model_iris/iris.h5') # tensorflow 2.18이상일 경우 확장자를 .keras로도 사용할 수 있음"
   ]
  },
  {
   "cell_type": "code",
   "execution_count": 97,
   "id": "ec8196e3",
   "metadata": {},
   "outputs": [
    {
     "name": "stdout",
     "output_type": "stream",
     "text": [
      "1/1 [==============================] - 0s 42ms/step\n"
     ]
    },
    {
     "data": {
      "text/plain": [
       "2"
      ]
     },
     "execution_count": 97,
     "metadata": {},
     "output_type": "execute_result"
    }
   ],
   "source": [
    "# 모델 예측하기\n",
    "# iris.loc[100] (6.3,3.3,6.0,2.5) 예측하기\n",
    "result = model.predict([[6.3, 3.3, 6.0, 2.5]])\n",
    "np.argmax(result) # 예측값 (virginica로 예측)"
   ]
  },
  {
   "cell_type": "code",
   "execution_count": null,
   "id": "0d4c13aa",
   "metadata": {},
   "outputs": [],
   "source": []
  },
  {
   "cell_type": "code",
   "execution_count": null,
   "id": "16e63005",
   "metadata": {},
   "outputs": [],
   "source": []
  },
  {
   "cell_type": "code",
   "execution_count": null,
   "id": "4c2b3cc2",
   "metadata": {},
   "outputs": [],
   "source": []
  },
  {
   "cell_type": "code",
   "execution_count": null,
   "id": "1cd0fc00",
   "metadata": {},
   "outputs": [],
   "source": []
  },
  {
   "cell_type": "code",
   "execution_count": null,
   "id": "b2242605",
   "metadata": {},
   "outputs": [],
   "source": []
  },
  {
   "cell_type": "code",
   "execution_count": null,
   "id": "e4dca6c9",
   "metadata": {},
   "outputs": [],
   "source": []
  },
  {
   "cell_type": "code",
   "execution_count": null,
   "id": "3d1fa32b",
   "metadata": {},
   "outputs": [],
   "source": []
  }
 ],
 "metadata": {
  "kernelspec": {
   "display_name": "ml-dl-nlp",
   "language": "python",
   "name": "ml-dl-nlp"
  },
  "language_info": {
   "codemirror_mode": {
    "name": "ipython",
    "version": 3
   },
   "file_extension": ".py",
   "mimetype": "text/x-python",
   "name": "python",
   "nbconvert_exporter": "python",
   "pygments_lexer": "ipython3",
   "version": "3.10.18"
  },
  "toc": {
   "base_numbering": 1,
   "nav_menu": {},
   "number_sections": false,
   "sideBar": true,
   "skip_h1_title": false,
   "title_cell": "Table of Contents",
   "title_sidebar": "Contents",
   "toc_cell": false,
   "toc_position": {
    "height": "calc(100% - 180px)",
    "left": "10px",
    "top": "150px",
    "width": "165px"
   },
   "toc_section_display": true,
   "toc_window_display": true
  }
 },
 "nbformat": 4,
 "nbformat_minor": 5
}
